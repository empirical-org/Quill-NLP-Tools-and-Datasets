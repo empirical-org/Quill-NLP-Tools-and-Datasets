{
 "cells": [
  {
   "cell_type": "markdown",
   "metadata": {},
   "source": [
    "Install Deps"
   ]
  },
  {
   "cell_type": "code",
   "execution_count": null,
   "metadata": {},
   "outputs": [],
   "source": [
    "import numpy as np\n",
    "import tensorflow as tf\n",
    "import tflearn\n",
    "import spacy\n",
    "nlp = spacy.load('en')\n",
    "import re\n",
    "from nltk.util import ngrams, trigrams\n",
    "import csv\n",
    "from tflearn.data_utils import to_categorical"
   ]
  },
  {
   "cell_type": "markdown",
   "metadata": {},
   "source": [
    "Load the model"
   ]
  },
  {
   "cell_type": "code",
   "execution_count": null,
   "metadata": {},
   "outputs": [],
   "source": [
    "# Network building\n",
    "def build_model():\n",
    "    # This resets all parameters and variables, leave this here\n",
    "    tf.reset_default_graph()\n",
    "    \n",
    "    #### Your code ####\n",
    "    net = tflearn.input_data([None, 1200])                          # Input\n",
    "    net = tflearn.fully_connected(net, 200, activation='ReLU')      # Hidden\n",
    "    net = tflearn.fully_connected(net, 25, activation='ReLU')      # Hidden\n",
    "    net = tflearn.fully_connected(net, 2, activation='softmax')   # Output\n",
    "    net = tflearn.regression(net, optimizer='sgd', learning_rate=0.1, loss='categorical_crossentropy')\n",
    "    model = tflearn.DNN(net)\n",
    "\n",
    "    return model\n",
    "\n",
    "model = build_model()\n"
   ]
  },
  {
   "cell_type": "code",
   "execution_count": null,
   "metadata": {},
   "outputs": [],
   "source": [
    "\n",
    "model.load('./model.tfl')"
   ]
  },
  {
   "cell_type": "markdown",
   "metadata": {},
   "source": [
    "Import the vocab index"
   ]
  },
  {
   "cell_type": "code",
   "execution_count": null,
   "metadata": {},
   "outputs": [],
   "source": [
    "import csv\n",
    "word2idx = {}\n",
    "for key, val in csv.reader(open(\"./vocabindex.csv\")):\n",
    "    word2idx[key] = int(val)\n",
    "    \n",
    "word2idx"
   ]
  },
  {
   "cell_type": "markdown",
   "metadata": {},
   "source": [
    "Import the dataprep methods"
   ]
  },
  {
   "cell_type": "code",
   "execution_count": null,
   "metadata": {},
   "outputs": [],
   "source": [
    "def textStringToPOSArray(text):\n",
    "    doc = nlp(text)\n",
    "    tags = []\n",
    "    for word in doc:\n",
    "        tags.append(word.pos_)\n",
    "    return tags\n",
    "\n",
    "def find_ngrams(input_list, n):\n",
    "  return zip(*[input_list[i:] for i in range(n)])\n",
    "\n",
    "def getPOSTrigramsForTextString(text):\n",
    "    tags = textStringToPOSArray(text)\n",
    "    tgrams = list(trigrams(tags))\n",
    "    return tgrams\n",
    "\n",
    "def trigramsToDictKeys(trigrams):\n",
    "    keys = []\n",
    "    for trigram in trigrams:\n",
    "        keys.append('>'.join(trigram))\n",
    "    return keys\n",
    "\n",
    "def textToTrigrams(text): \n",
    "    return trigramsToDictKeys(getPOSTrigramsForTextString(text))\n",
    "\n",
    "def text_to_vector(text):\n",
    "    wordVector = np.zeros(1200)\n",
    "    for word in textToTrigrams(text):\n",
    "        index = word2idx.get(word, None)\n",
    "        if index != None:\n",
    "            wordVector[index] += 1\n",
    "    return wordVector\n",
    "\n",
    "def test_sentence(sentence):\n",
    "    positive_prob = model.predict([text_to_vector(sentence)])[0][1]\n",
    "    print('Sentence: {}'.format(sentence))\n",
    "    print('P(positive) = {:.3f} :'.format(positive_prob), \n",
    "          'Positive' if positive_prob > 0.5 else 'Negative')\n",
    "    return positive_prob"
   ]
  },
  {
   "cell_type": "markdown",
   "metadata": {},
   "source": [
    "Try it out!"
   ]
  },
  {
   "cell_type": "code",
   "execution_count": null,
   "metadata": {},
   "outputs": [],
   "source": [
    "test_sentence(\"Since she never saw that movie.\") "
   ]
  },
  {
   "cell_type": "code",
   "execution_count": null,
   "metadata": {},
   "outputs": [],
   "source": [
    "test_sentence(\"We should invite her, since she never saw that movie.\")"
   ]
  },
  {
   "cell_type": "code",
   "execution_count": null,
   "metadata": {},
   "outputs": [],
   "source": [
    "test_sentence(\"Standing on the edge of the cliff looking down.\")"
   ]
  },
  {
   "cell_type": "code",
   "execution_count": null,
   "metadata": {},
   "outputs": [],
   "source": [
    "test_sentence(\"Donald\")"
   ]
  },
  {
   "cell_type": "code",
   "execution_count": null,
   "metadata": {},
   "outputs": [],
   "source": [
    "test_sentence(\"Standing on the edge of the cliff looking down, Donald could see a boat.\")"
   ]
  },
  {
   "cell_type": "code",
   "execution_count": null,
   "metadata": {},
   "outputs": [],
   "source": [
    "data = [\"Ate the Cake.\",\n",
    "\"Washed the dishes.\",\n",
    "\"Did my homework.\",\n",
    "\"Ran a mile.\",\n",
    "\"Went fishing.\",\n",
    "\"Made the bed today.\",\n",
    "\"Traveled to Europe.\",\n",
    "\"Saw a movie.\",\n",
    "\"Sharpened the pencil.\",\n",
    "\"Playing the guitar.\",\n",
    "\"Completing the assignment.\",\n",
    "\"Celebrating the birthday.\",\n",
    "\"Always working before unfriendly crowds.\",\n",
    "\"Dragging his heels a little in the fine dust.\",\n",
    "\"Creeping warily under the shadows of tottering walls.\",\n",
    "\"Watching the mower at work, feeling the warm, soft sunshine seep into his bones.\",\n",
    "\"Worrying that a meteor or chunk of space debris will conk her on the head.\",\n",
    "\"Invented by an Indiana housewife in.\",\n",
    "\"Driven by a steam engine.\",\n",
    "\"Stuck in the back of the closet behind the obsolete computer.\",\n",
    "\"Punctuated by the white lightning of hunger and the flickering of fear.\",\n",
    "\"Caged in a dingy mesh of fire escapes.\",\n",
    "\"Propelled by short sweeps of its crescent tail.\",\n",
    "\"And dashed through the downpour as raindrops softened the hairspray shell holding her elaborate coif in place.\",\n",
    "\"But knew that all of his effort would prove useless in the long run.\",\n",
    "\"Took the thick book and, with a heavy sigh, loaded it on top of her research pile.\",\n",
    "\"And let the raccoons, opossums, and armadillos that visit the yard eat the leftovers..\",\n",
    "\"A red convertible with fancy rims and fuzzy dice hanging from the rearview mirror.\",\n",
    "\"The unprepared student who was always begging for an extra pencil and a couple sheets of blank paper.\",\n",
    "\"A slacker wasting his afternoon in front of the television.\",\n",
    "\"A dog around whom people need to guard their fingers and food.\",\n",
    "\"A beautiful day, perfect for a picnic.\",\n",
    "\"The best teacher in the world.\",\n",
    "\"A world class chess player.\",\n",
    "\"A young Peace Corps worker.\",\n",
    "\"The student slurping hot soup.\",\n",
    "\"A young woman whose hair reaches her waist.\",\n",
    "\"To explain why he had brought Squeeze, his seven-foot pet python, to Mr Parker’s English class.\",\n",
    "\"To figure out what we’re doing wrong.\",\n",
    "\"To keep the floor clean.\",\n",
    "\"To stay in shape.\",\n",
    "\"To gain her mother’s approval.\",\n",
    "\"To make more friends.\",\n",
    "\"To get to know people in the neighborhood.\",\n",
    "\"To smash a spider.\",\n",
    "\"To kick the ball past the dazed goalie.\",\n",
    "\"To lick the grease from his shiny fingers despite the disapproving glances of his girlfriend Gloria.\",\n",
    "\"To finish her shift without spilling another pizza into a customer’s lap.\",\n",
    "\"To keep their customers happy.\",\n",
    "\"To figure out how to improve my painting.\",\n",
    "\"How to do it.\",\n",
    "\"Including the dog with three legs and the cat with one eye.\",\n",
    "\"Such as leaving the stove on and teasing mean dogs.\",\n",
    "\"After the movie is over.\",\n",
    "\"After the rain stops.\",\n",
    "\"Although I’m not hungry.\",\n",
    "\"As I was walking home.\",\n",
    "\"As if it were by divine providence.\",\n",
    "\"As long as you behave yourself.\",\n",
    "\"As soon as I finish my homework.\",\n",
    "\"As though she really knew how to sew.\",\n",
    "\"As his ex-girlfriend Gigi chased him down the interstate.\",\n",
    "\"Because he was so angry.\",\n",
    "\"Because I like it.\",\n",
    "\"Because his car is in the shop.\",\n",
    "\"Before I go to bed.\",\n",
    "\"Even little kids.\",\n",
    "\"If you do that again.\",\n",
    "\"If you want to go.\",\n",
    "\"Even though I don’t like pasta.\",\n",
    "\"In case I’m late.\",\n",
    "\"In that both cats and dogs are pets.\",\n",
    "\"In order that we don’t lose track of attendance.\",\n",
    "\"Insofar as we are friends.\",\n",
    "\"Just as I got home.\",\n",
    "\"No matter how hard I try.\",\n",
    "\"Now that you’re here.\",\n",
    "\"Once I finish my homework.\",\n",
    "\"Provided that you behave.\",\n",
    "\"Rather than bake a cake.\",\n",
    "\"So I don’t forget.\",\n",
    "\"So that we don’t get lost.\",\n",
    "\"Than.\",\n",
    "\"That thing you do.\",\n",
    "\"Though she doesn’t speak French.\",\n",
    "\"Till I get home from work.\",\n",
    "\"Unless I earn enough money.\",\n",
    "\"Until I’m old enough.\",\n",
    "\"When you finally take the test.\",\n",
    "\"Whenever I ask how you’re doing.\",\n",
    "\"Where you go to school.\",\n",
    "\"Whereas chimpanzees use tools.\",\n",
    "\"Wherever we end up.\",\n",
    "\"Whether or not we succeed.\",\n",
    "\"Since you asked.\",\n",
    "\"Since we finished the test.\",\n",
    "\"Since Sarah ate cake.\",\n",
    "\"While we were fishing.\",\n",
    "\"While some primates live in groups.\",\n",
    "\"While I was sleeping.\",\n",
    "\"Which makes me hungry.\",\n",
    "\"Whichever you choose.\",\n",
    "\"Who participated in the program.\",\n",
    "\"Whoever wants to improve the writing skill.\",\n",
    "\"Whom I met yesterday.\",\n",
    "\"Whomever you care about.\",\n",
    "\"Whose water bottle is on the table.\",\n",
    "\"Where the wind blows.\",\n",
    "\"When I finish my homework.\",\n",
    "\"Why this happened.\"]"
   ]
  },
  {
   "cell_type": "code",
   "execution_count": null,
   "metadata": {},
   "outputs": [],
   "source": [
    "len(data)"
   ]
  },
  {
   "cell_type": "code",
   "execution_count": null,
   "metadata": {},
   "outputs": [],
   "source": [
    "count = 0\n",
    "for sentence in data:\n",
    "    if test_sentence(sentence) < 0.5:\n",
    "        count += 1"
   ]
  },
  {
   "cell_type": "code",
   "execution_count": null,
   "metadata": {},
   "outputs": [],
   "source": [
    "count"
   ]
  },
  {
   "cell_type": "code",
   "execution_count": null,
   "metadata": {},
   "outputs": [],
   "source": [
    "for sentence in data:\n",
    "  print(text_to_vector(sentence))\n",
    "  print(0.)\n",
    "  model.fit([text_to_vector(sentence)], to_categorical([0], 2))"
   ]
  },
  {
   "cell_type": "code",
   "execution_count": null,
   "metadata": {},
   "outputs": [],
   "source": [
    "model.fit([text_to_vector(data[0])], to_categorical([0], 2))"
   ]
  },
  {
   "cell_type": "code",
   "execution_count": null,
   "metadata": {},
   "outputs": [],
   "source": [
    "text_to_vector(data[0])"
   ]
  },
  {
   "cell_type": "code",
   "execution_count": null,
   "metadata": {},
   "outputs": [],
   "source": [
    "to_categorical([1], 2)"
   ]
  },
  {
   "cell_type": "code",
   "execution_count": null,
   "metadata": {},
   "outputs": [],
   "source": [
    "to_categorical([0, 1, 3], 2)"
   ]
  },
  {
   "cell_type": "code",
   "execution_count": null,
   "metadata": {},
   "outputs": [],
   "source": [
    "jjdata = [\"John ate the cake. \",\n",
    "\"Donald and Ryan washed the dishes.\",\n",
    "\"Did my homework.\",\n",
    "\"I ran a mile.\",\n",
    "\"We went fishing.\",\n",
    "\"Sharon made the bed today.\",\n",
    "\"They traveled to Europe.\",\n",
    "\"You saw a movie.\",\n",
    "\"The student sharpened the pencil.\",\n",
    "\"I’m playing the guitar.\",\n",
    "\"She is completing the assignment.\",\n",
    "\"We are celebrating the birthday.\",\n",
    "\"The artist is always working before unfriendly crowds.\",\n",
    "\"Brent’s dragging his heels a little in the fine dust.\",\n",
    "\"They were creeping warily under the shadows of tottering walls.\",\n",
    "\"He’s watching the mower at work, feeling the warm, soft sunshine seep into his bones.\",\n",
    "\"Jenny is worrying that a meteor or chunk of space debris will conk her on the head.\",\n",
    "\"It was invented by an Indiana housewife in the winter.\",\n",
    "\"The train is driven by a steam engine.\",\n",
    "\"The book is stuck in the back of the closet behind the obsolete computer.\",\n",
    "\"Every day is punctuated by the white lightning of hunger and the flickering of fear.\",\n",
    "\"You’re caged in a dingy mesh of fire escapes.\",\n",
    "\"The bird’s flight is propelled by short sweeps of its crescent tail.\",\n",
    "\"Tina dashed through the downpour as raindrops softened the hairspray shell holding her elaborate coif in place.\",\n",
    "\"Ryan tried, but knew that all of his efforts would prove useless in the long run.\",\n",
    "\"The professor took the thick book and, with a heavy sigh, loaded it on top of her research pile.\",\n",
    "\"Just relax and let the raccoons, opossums, and armadillos that visit the yard eat the leftovers.\",\n",
    "\"I drive a red convertible with fancy rims and fuzzy dice hanging from the rearview mirror.\",\n",
    "\"The unprepared student who was always begging for an extra pencil and a couple sheets of blank paper was failing the class.\",\n",
    "\"I feel like a slacker wasting his afternoon in front of the television.\",\n",
    "\"Maxwell’s a dog around whom people need to guard their fingers and food.\",\n",
    "\"This is a beautiful day, perfect for a picnic.\",\n",
    "\"The best teacher in the world is in this room.\",\n",
    "\"He’s a world class chess player.\",\n",
    "\"My best friend is a young Peace Corps worker.\",\n",
    "\"Who’s the student slurping hot soup?\",\n",
    "\"Rachel is a young woman whose hair reaches her waist.\",\n",
    "\"Tim had to explain why he had brought Squeeze, his seven-foot pet python, to Mr Parker's English class.\",\n",
    "\"It’s time to figure out what we’re doing wrong.\",\n",
    "\"To keep the floor clean, use soap.\",\n",
    "\"I want to stay in shape.\",\n",
    "\"She wants to gain her mother’s approval.\",\n",
    "\"Bryan needs to make more friends.\",\n",
    "\"To get to know people in the neighborhood, do activities.\",\n",
    "\"I smash a spider.\",\n",
    "\"I’ll try to kick the ball past the dazed goalie.\",\n",
    "\"Bryan decided to lick the grease from his shiny fingers despite the disapproving glances of his girlfriend Gloria.\",\n",
    "\"Tammy finished her shift without spilling another pizza into a customer's lap.\",\n",
    "\"Businesses try to keep their customers happy.\",\n",
    "\"I want to figure out how to improve my painting.\",\n",
    "\"I know how to do it.\",\n",
    "\"Including the dog with three legs and the cat with one eye.\",\n",
    "\"I make mistakes, such as leaving the stove on and teasing mean dogs.\",\n",
    "\"After the movie is over, they leave.\",\n",
    "\"We’ll play after the rain stops.\",\n",
    "\"Although I’m not hungry, I eat.\",\n",
    "\"I laughed as I was walking home.\",\n",
    "\"As if it were by divine providence, it happened.\",\n",
    "\"You’ll get candy as long as you behave yourself.\",\n",
    "\"Let’s go as soon as I finish my homework.\",\n",
    "\"She offered, as though she really knew how to sew.\",\n",
    "\"He cried as his ex-girlfriend Gigi chased him down the interstate.\",\n",
    "\"Because he was so angry, Steven yelled.\",\n",
    "\"I bought it because I like it.\",\n",
    "\"Because his car is in the shop, John had to walk.\",\n",
    "\"Before I go to bed, I pray.\",\n",
    "\"Even little kids can do addition.\",\n",
    "\"If you do that again, you’re in trouble.\",\n",
    "\"We can go if you want to go.\",\n",
    "\"Even though I don’t like pasta, I’ll eat it.\",\n",
    "\"Leave without me, in case I’m late.\",\n",
    "\"In that both cats and dogs are pets, they’re similar.\",\n",
    "\"Let’s take notes, in order that we don’t lose track of attendance.\",\n",
    "\"I like you insofar as we are friends.\",\n",
    "\"You arrived just as I got home.\",\n",
    "\"No matter how hard I try, I fail.\",\n",
    "\"Now that you’re here, Bill’s happy.\",\n",
    "\"I’ll do it once I finish my homework.\",\n",
    "\"You’ll get candy provided that you behave.\",\n",
    "\"Rather than bake a cake, I want to dance.\",\n",
    "\"I write so I don’t forget.\",\n",
    "\"Let’s bring a map s that we don’t get lost.\",\n",
    "\"I’m better than that.\",\n",
    "\"That thing you do is funny.\",\n",
    "\"Though she doesn’t speak French, she acts French.\",\n",
    "\"I’ll talk till I get home from work.\",\n",
    "\"I won’t quit unless I earn enough money.\",\n",
    "\"You can wait until I’m old enough.\",\n",
    "\"We’ll see when you finally take the test.\",\n",
    "\"Whenever I ask how you’re doing, you say “fine.”\",\n",
    "\"I forget where you go to school.\",\n",
    "\"Ants only use their bodies, whereas chimpanzees use tools.\",\n",
    "\"Wherever we end up, we’ll be together.\",\n",
    "\"It doesn’t matter whether or not we succeed.\",\n",
    "\"I’ll tell you, since you asked.\",\n",
    "\"Since we finished the test, let’s celebrate.\",\n",
    "\"Bryan is hungry, since Sarah ate cake.\",\n",
    "\"While we were fishing, a fish escaped.\",\n",
    "\"Humans live alone, while some primates live in groups.\",\n",
    "\"While I was sleeping, I dreamt of you.\",\n",
    "\"I skipped breakfast, which makes me hungry.\",\n",
    "\"Whichever you choose, choose well.\",\n",
    "\"I know a guy who participated in the program.\",\n",
    "\"Whoever wants to improve the writing skill uses Quill.\",\n",
    "\"That’s the girl whom I met yesterday.\",\n",
    "\"Be nice to whomever you care about.\",\n",
    "\"Ryan, whose water bottle is on the table, is late.\",\n",
    "\"Brad lives where the wind blows.\",\n",
    "\"When I finish my homework, I go to sleep.\",\n",
    "\"Who knows why this happened.\"]\n"
   ]
  },
  {
   "cell_type": "code",
   "execution_count": null,
   "metadata": {},
   "outputs": [],
   "source": [
    "len(jjdata)"
   ]
  },
  {
   "cell_type": "code",
   "execution_count": null,
   "metadata": {},
   "outputs": [],
   "source": [
    "for sentence in jjdata:\n",
    "  print(text_to_vector(sentence))\n",
    "  print(0.)\n",
    "  model.fit([text_to_vector(sentence)], to_categorical([1], 2))"
   ]
  },
  {
   "cell_type": "code",
   "execution_count": null,
   "metadata": {},
   "outputs": [],
   "source": [
    "model.save(\"./model2.tfl\")\n",
    "\n"
   ]
  },
  {
   "cell_type": "code",
   "execution_count": null,
   "metadata": {},
   "outputs": [],
   "source": []
  },
  {
   "cell_type": "code",
   "execution_count": null,
   "metadata": {},
   "outputs": [],
   "source": []
  }
 ],
 "metadata": {
  "kernelspec": {
   "display_name": "Python 3",
   "language": "python",
   "name": "python3"
  },
  "language_info": {
   "codemirror_mode": {
    "name": "ipython",
    "version": 3
   },
   "file_extension": ".py",
   "mimetype": "text/x-python",
   "name": "python",
   "nbconvert_exporter": "python",
   "pygments_lexer": "ipython3",
   "version": "3.6.0"
  }
 },
 "nbformat": 4,
 "nbformat_minor": 2
}
