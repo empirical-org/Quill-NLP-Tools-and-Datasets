{
 "cells": [
  {
   "cell_type": "markdown",
   "metadata": {},
   "source": [
    "# Multilabel BERT Experiments\n",
    "\n",
    "In this notebook we do some first experiments with BERT: we finetune a BERT model+classifier on each of our datasets separately and compute the accuracy of the resulting classifier on the test data."
   ]
  },
  {
   "cell_type": "markdown",
   "metadata": {},
   "source": [
    "For these experiments we use the `pytorch_transformers` package. It contains a variety of neural network architectures for transfer learning and pretrained models, including BERT and XLNET.\n",
    "\n",
    "Two different BERT models are relevant for our experiments: \n",
    "\n",
    "- BERT-base-uncased: a relatively small BERT model that should already give reasonable results,\n",
    "- BERT-large-uncased: a larger model for real state-of-the-art results."
   ]
  },
  {
   "cell_type": "code",
   "execution_count": 1,
   "metadata": {},
   "outputs": [],
   "source": [
    "PREFIXES = [\"voting_but\", \"voting_so\", \"voting_because\"]  #\"voting_so_automl\"\n",
    "BERT_MODEL = 'bert-base-uncased'\n",
    "BATCH_SIZE = 16 if \"base\" in BERT_MODEL else 2\n",
    "GRADIENT_ACCUMULATION_STEPS = 1 if \"base\" in BERT_MODEL else 8\n",
    "MAX_SEQ_LENGTH = 100"
   ]
  },
  {
   "cell_type": "markdown",
   "metadata": {},
   "source": [
    "## Data\n",
    "\n",
    "We use the same data as for all our previous experiments. Here we load the training, development and test data for a particular prompt."
   ]
  },
  {
   "cell_type": "code",
   "execution_count": 2,
   "metadata": {},
   "outputs": [
    {
     "name": "stderr",
     "output_type": "stream",
     "text": [
      "I0327 11:45:22.739525 139635286574912 file_utils.py:41] PyTorch version 1.2.0+cu92 available.\n",
      "I0327 11:45:23.721752 139635286574912 file_utils.py:57] TensorFlow version 2.1.0 available.\n",
      "I0327 11:45:24.354614 139635286574912 tokenization_utils.py:501] loading file https://s3.amazonaws.com/models.huggingface.co/bert/bert-base-uncased-vocab.txt from cache at /home/yves/.cache/torch/transformers/26bc1ad6c0ac742e9b52263248f6d0f00068293b33709fae12320c0e35ccfbbb.542ce4285a40d23a559526243235df47c5f75c197f04f37d1a0c124c32c9a084\n"
     ]
    },
    {
     "name": "stdout",
     "output_type": "stream",
     "text": [
      "Counter({'Personal Opinion to Fact': 617, 'Increases Voter Turnout': 427, 'Rep': 371, 'Increases Representation': 239, 'Vote': 218, 'Other': 197, 'Leaders': 109, 'Otherwise Voter Turnout will Decrease/Will be Low': 93, \"Outside of Article's Scope\": 74, 'Governments Can Abuse It/Dictatorships': 52, 'Apathy': 40, 'Ensures a Representative Democracy': 35, \"Outside of article's scope\": 35, 'Unintelligible Response': 25, 'Duty': 25, 'Unintelligible response': 25, 'Answered wrong stem': 22, 'Negative Effects on Voter': 20, 'May Cause Low Voter Turnout': 20, 'How--Mechanism': 19, 'Misuse of Conjunction': 16, 'Answered Wrong Stem': 15, 'Violation of Personal Liberty': 14, 'Reference': 14, 'Cause/Effect Misattribution': 14, 'Plagiarism': 13, 'Not All Governments Enforce It': 10, 'North Korea/Dictatorships': 10, 'Consequences/Bolivia': 10, 'Clarify/Identify/Specify': 10, 'Evidences Needs More Context': 10, 'Feel': 10, 'Otherwise Not Representative': 10, 'Not Representative': 10, 'Otherwise Voter Turnout Will Decrease/Will be Low': 10, 'Example--Venezuela or US': 10, 'Government is not Representative': 10, 'Democracy': 10, 'Increase Voter Turnout': 10, 'Evidence needs more context': 10, 'Explain your evidence': 10, 'Unclear/inaccurate subject': 8})\n"
     ]
    }
   ],
   "source": [
    "import sys\n",
    "sys.path.append('../')\n",
    "\n",
    "import ndjson\n",
    "import glob\n",
    "import numpy as np\n",
    "from collections import Counter\n",
    "\n",
    "from quillnlp.models.bert.preprocessing import preprocess, create_label_vocabulary\n",
    "\n",
    "data = []\n",
    "for prefix in PREFIXES:\n",
    "    data_file = f\"../data/interim/{prefix}_withprompt.ndjson\"\n",
    "\n",
    "    with open(data_file) as i:\n",
    "        data += ndjson.load(i)\n",
    "\n",
    "label2idx = create_label_vocabulary(data)\n",
    "idx2label = {v:k for k,v in label2idx.items()}\n",
    "target_names = [idx2label[s] for s in range(len(idx2label))]\n",
    "data_items = np.array(preprocess(data, BERT_MODEL, label2idx, MAX_SEQ_LENGTH))\n",
    "\n",
    "labels = Counter()\n",
    "for item in data:\n",
    "    labels.update(item[\"label\"])\n",
    "        \n",
    "print(labels)"
   ]
  },
  {
   "cell_type": "markdown",
   "metadata": {},
   "source": [
    "Read synthetic data, when available."
   ]
  },
  {
   "cell_type": "markdown",
   "metadata": {},
   "source": [
    "## Model\n",
    "\n",
    "We load the pretrained model and put it on a GPU if one is available. We also put the model in \"training\" mode, so that we can correctly update its internal parameters on the basis of our data sets."
   ]
  },
  {
   "cell_type": "code",
   "execution_count": 3,
   "metadata": {},
   "outputs": [],
   "source": [
    "def evaluate_output(all_correct, all_predicted):\n",
    "    correct = 0\n",
    "    at_least_one = 0\n",
    "    fp, fn, tp, tn = 0, 0, 0, 0\n",
    "    for c, p in zip(all_correct, all_predicted):\n",
    "        if sum(c == p) == len(c):\n",
    "            correct +=1\n",
    "\n",
    "        for ci, pi in zip(c, p):\n",
    "            if pi == 1 and ci == 1:\n",
    "                at_least_one += 1\n",
    "                break\n",
    "\n",
    "        for ci, pi in zip(c, p):\n",
    "            if pi == 1 and ci == 1:\n",
    "                tp += 1\n",
    "                same = 1\n",
    "            elif pi == 1 and ci == 0:\n",
    "                fp += 1\n",
    "            elif pi == 0 and ci == 1:\n",
    "                fn += 1\n",
    "            else:\n",
    "                tn += 1\n",
    "                same =1\n",
    "\n",
    "    precision = tp/(tp+fp)\n",
    "    recall = tp/(tp+fn)\n",
    "    print(\"Data size:\", len(all_predicted))\n",
    "    print(\"P:\", tp, \"/\", tp+fp, \"=\", precision)\n",
    "    print(\"R:\", tp, \"/\", tp+fn, \"=\", recall)\n",
    "    print(\"F:\", 2*precision*recall/(precision+recall))\n",
    "    print(\"A:\", correct/len(all_correct))\n",
    "    print(\"AL1:\", at_least_one/len(all_correct))"
   ]
  },
  {
   "cell_type": "code",
   "execution_count": 4,
   "metadata": {},
   "outputs": [
    {
     "name": "stdout",
     "output_type": "stream",
     "text": [
      "Train size: 1608\n",
      "Final train dataloader length: 101\n"
     ]
    },
    {
     "name": "stderr",
     "output_type": "stream",
     "text": [
      "I0327 11:45:25.643782 139635286574912 configuration_utils.py:256] loading configuration file https://s3.amazonaws.com/models.huggingface.co/bert/bert-base-uncased-config.json from cache at /home/yves/.cache/torch/transformers/4dad0251492946e18ac39290fcfe91b89d370fee250efe9521476438fe8ca185.8f56353af4a709bf5ff0fbc915d8f5b42bfff892cbb6ac98c3c45f481a03c685\n",
      "I0327 11:45:25.645409 139635286574912 configuration_utils.py:292] Model config BertConfig {\n",
      "  \"architectures\": [\n",
      "    \"BertForMaskedLM\"\n",
      "  ],\n",
      "  \"attention_probs_dropout_prob\": 0.1,\n",
      "  \"bos_token_id\": null,\n",
      "  \"do_sample\": false,\n",
      "  \"eos_token_ids\": null,\n",
      "  \"finetuning_task\": null,\n",
      "  \"hidden_act\": \"gelu\",\n",
      "  \"hidden_dropout_prob\": 0.1,\n",
      "  \"hidden_size\": 768,\n",
      "  \"id2label\": {\n",
      "    \"0\": \"LABEL_0\",\n",
      "    \"1\": \"LABEL_1\"\n",
      "  },\n",
      "  \"initializer_range\": 0.02,\n",
      "  \"intermediate_size\": 3072,\n",
      "  \"is_decoder\": false,\n",
      "  \"label2id\": {\n",
      "    \"LABEL_0\": 0,\n",
      "    \"LABEL_1\": 1\n",
      "  },\n",
      "  \"layer_norm_eps\": 1e-12,\n",
      "  \"length_penalty\": 1.0,\n",
      "  \"max_length\": 20,\n",
      "  \"max_position_embeddings\": 512,\n",
      "  \"model_type\": \"bert\",\n",
      "  \"num_attention_heads\": 12,\n",
      "  \"num_beams\": 1,\n",
      "  \"num_hidden_layers\": 12,\n",
      "  \"num_labels\": 42,\n",
      "  \"num_return_sequences\": 1,\n",
      "  \"output_attentions\": false,\n",
      "  \"output_hidden_states\": false,\n",
      "  \"output_past\": true,\n",
      "  \"pad_token_id\": null,\n",
      "  \"pruned_heads\": {},\n",
      "  \"repetition_penalty\": 1.0,\n",
      "  \"temperature\": 1.0,\n",
      "  \"top_k\": 50,\n",
      "  \"top_p\": 1.0,\n",
      "  \"torchscript\": false,\n",
      "  \"type_vocab_size\": 2,\n",
      "  \"use_bfloat16\": false,\n",
      "  \"vocab_size\": 30522\n",
      "}\n",
      "\n",
      "I0327 11:45:26.106731 139635286574912 modeling_utils.py:461] loading weights file https://s3.amazonaws.com/models.huggingface.co/bert/bert-base-uncased-pytorch_model.bin from cache at /home/yves/.cache/torch/transformers/aa1ef1aede4482d0dbcd4d52baad8ae300e60902e88fcb0bebdec09afd232066.36ca03ab34a1a5d5fa7bc3d03d55c4fa650fed07220e2eeebc06ce58d0e9a157\n",
      "I0327 11:45:27.860600 139635286574912 modeling_utils.py:546] Weights of BertForMultiLabelSequenceClassification not initialized from pretrained model: ['classifier.weight', 'classifier.bias']\n",
      "I0327 11:45:27.861321 139635286574912 modeling_utils.py:552] Weights from pretrained model not used in BertForMultiLabelSequenceClassification: ['cls.predictions.bias', 'cls.predictions.transform.dense.weight', 'cls.predictions.transform.dense.bias', 'cls.predictions.decoder.weight', 'cls.seq_relationship.weight', 'cls.seq_relationship.bias', 'cls.predictions.transform.LayerNorm.weight', 'cls.predictions.transform.LayerNorm.bias']\n",
      "Epoch:   0%|          | 0/20 [00:00<?, ?it/s]"
     ]
    },
    {
     "data": {
      "application/vnd.jupyter.widget-view+json": {
       "model_id": "fa8d0eab06de4576a604f7e54f75bed1",
       "version_major": 2,
       "version_minor": 0
      },
      "text/plain": [
       "HBox(children=(IntProgress(value=0, description='Training iteration', max=101, style=ProgressStyle(description…"
      ]
     },
     "metadata": {},
     "output_type": "display_data"
    },
    {
     "name": "stdout",
     "output_type": "stream",
     "text": [
      "\n"
     ]
    },
    {
     "data": {
      "application/vnd.jupyter.widget-view+json": {
       "model_id": "e7855d6c439844739a926112086d5baf",
       "version_major": 2,
       "version_minor": 0
      },
      "text/plain": [
       "HBox(children=(IntProgress(value=0, description='Evaluation iteration', max=21, style=ProgressStyle(descriptio…"
      ]
     },
     "metadata": {},
     "output_type": "display_data"
    },
    {
     "name": "stdout",
     "output_type": "stream",
     "text": [
      "\n",
      "Loss history: []\n",
      "Dev loss: 0.2995312355813526\n"
     ]
    },
    {
     "name": "stderr",
     "output_type": "stream",
     "text": [
      "\r",
      "Epoch:   5%|▌         | 1/20 [00:22<07:07, 22.52s/it]"
     ]
    },
    {
     "data": {
      "application/vnd.jupyter.widget-view+json": {
       "model_id": "fad8b768d8b14cb68d50df213d66de91",
       "version_major": 2,
       "version_minor": 0
      },
      "text/plain": [
       "HBox(children=(IntProgress(value=0, description='Training iteration', max=101, style=ProgressStyle(description…"
      ]
     },
     "metadata": {},
     "output_type": "display_data"
    },
    {
     "name": "stdout",
     "output_type": "stream",
     "text": [
      "\n"
     ]
    },
    {
     "data": {
      "application/vnd.jupyter.widget-view+json": {
       "model_id": "f428d6ee5264442ab00b0b66c344216c",
       "version_major": 2,
       "version_minor": 0
      },
      "text/plain": [
       "HBox(children=(IntProgress(value=0, description='Evaluation iteration', max=21, style=ProgressStyle(descriptio…"
      ]
     },
     "metadata": {},
     "output_type": "display_data"
    },
    {
     "name": "stdout",
     "output_type": "stream",
     "text": [
      "\n",
      "Loss history: [0.2995312355813526]\n",
      "Dev loss: 0.15137098942484176\n"
     ]
    },
    {
     "name": "stderr",
     "output_type": "stream",
     "text": [
      "\r",
      "Epoch:  10%|█         | 2/20 [00:45<06:46, 22.56s/it]"
     ]
    },
    {
     "data": {
      "application/vnd.jupyter.widget-view+json": {
       "model_id": "6f885c8cd0bd4f4a873715cfe6b23d12",
       "version_major": 2,
       "version_minor": 0
      },
      "text/plain": [
       "HBox(children=(IntProgress(value=0, description='Training iteration', max=101, style=ProgressStyle(description…"
      ]
     },
     "metadata": {},
     "output_type": "display_data"
    },
    {
     "name": "stdout",
     "output_type": "stream",
     "text": [
      "\n"
     ]
    },
    {
     "data": {
      "application/vnd.jupyter.widget-view+json": {
       "model_id": "c108b1d9fea9437494cad37434be8ec9",
       "version_major": 2,
       "version_minor": 0
      },
      "text/plain": [
       "HBox(children=(IntProgress(value=0, description='Evaluation iteration', max=21, style=ProgressStyle(descriptio…"
      ]
     },
     "metadata": {},
     "output_type": "display_data"
    },
    {
     "name": "stdout",
     "output_type": "stream",
     "text": [
      "\n",
      "Loss history: [0.2995312355813526, 0.15137098942484176]\n",
      "Dev loss: 0.12304936455828804\n"
     ]
    },
    {
     "name": "stderr",
     "output_type": "stream",
     "text": [
      "\r",
      "Epoch:  15%|█▌        | 3/20 [01:07<06:24, 22.62s/it]"
     ]
    },
    {
     "data": {
      "application/vnd.jupyter.widget-view+json": {
       "model_id": "35e32f8096fe4d189b1f3e6ef4c0d0a8",
       "version_major": 2,
       "version_minor": 0
      },
      "text/plain": [
       "HBox(children=(IntProgress(value=0, description='Training iteration', max=101, style=ProgressStyle(description…"
      ]
     },
     "metadata": {},
     "output_type": "display_data"
    },
    {
     "name": "stdout",
     "output_type": "stream",
     "text": [
      "\n"
     ]
    },
    {
     "data": {
      "application/vnd.jupyter.widget-view+json": {
       "model_id": "2308bce66d6a4a46bd9cd905e3cc4816",
       "version_major": 2,
       "version_minor": 0
      },
      "text/plain": [
       "HBox(children=(IntProgress(value=0, description='Evaluation iteration', max=21, style=ProgressStyle(descriptio…"
      ]
     },
     "metadata": {},
     "output_type": "display_data"
    },
    {
     "name": "stdout",
     "output_type": "stream",
     "text": [
      "\n",
      "Loss history: [0.2995312355813526, 0.15137098942484176, 0.12304936455828804]\n",
      "Dev loss: 0.11006989613884971\n"
     ]
    },
    {
     "name": "stderr",
     "output_type": "stream",
     "text": [
      "\r",
      "Epoch:  20%|██        | 4/20 [01:30<06:02, 22.67s/it]"
     ]
    },
    {
     "data": {
      "application/vnd.jupyter.widget-view+json": {
       "model_id": "aa4dcac076f44178887ed99541a32ac5",
       "version_major": 2,
       "version_minor": 0
      },
      "text/plain": [
       "HBox(children=(IntProgress(value=0, description='Training iteration', max=101, style=ProgressStyle(description…"
      ]
     },
     "metadata": {},
     "output_type": "display_data"
    },
    {
     "name": "stdout",
     "output_type": "stream",
     "text": [
      "\n"
     ]
    },
    {
     "data": {
      "application/vnd.jupyter.widget-view+json": {
       "model_id": "a9e2201f94244b88b233b04fdbbef627",
       "version_major": 2,
       "version_minor": 0
      },
      "text/plain": [
       "HBox(children=(IntProgress(value=0, description='Evaluation iteration', max=21, style=ProgressStyle(descriptio…"
      ]
     },
     "metadata": {},
     "output_type": "display_data"
    },
    {
     "name": "stdout",
     "output_type": "stream",
     "text": [
      "\n",
      "Loss history: [0.2995312355813526, 0.15137098942484176, 0.12304936455828804, 0.11006989613884971]\n",
      "Dev loss: 0.10390285686368034\n"
     ]
    },
    {
     "name": "stderr",
     "output_type": "stream",
     "text": [
      "\r",
      "Epoch:  25%|██▌       | 5/20 [01:53<05:40, 22.72s/it]"
     ]
    },
    {
     "data": {
      "application/vnd.jupyter.widget-view+json": {
       "model_id": "4bf683a2c7cd4456929514d05c93ae37",
       "version_major": 2,
       "version_minor": 0
      },
      "text/plain": [
       "HBox(children=(IntProgress(value=0, description='Training iteration', max=101, style=ProgressStyle(description…"
      ]
     },
     "metadata": {},
     "output_type": "display_data"
    },
    {
     "name": "stdout",
     "output_type": "stream",
     "text": [
      "\n"
     ]
    },
    {
     "data": {
      "application/vnd.jupyter.widget-view+json": {
       "model_id": "1c87c4dc9b4b4f1bbf09e45250d2bee1",
       "version_major": 2,
       "version_minor": 0
      },
      "text/plain": [
       "HBox(children=(IntProgress(value=0, description='Evaluation iteration', max=21, style=ProgressStyle(descriptio…"
      ]
     },
     "metadata": {},
     "output_type": "display_data"
    },
    {
     "name": "stdout",
     "output_type": "stream",
     "text": [
      "\n",
      "Loss history: [0.2995312355813526, 0.15137098942484176, 0.12304936455828804, 0.11006989613884971, 0.10390285686368034]\n",
      "Dev loss: 0.09790039417289552\n"
     ]
    },
    {
     "name": "stderr",
     "output_type": "stream",
     "text": [
      "\r",
      "Epoch:  30%|███       | 6/20 [02:16<05:18, 22.75s/it]"
     ]
    },
    {
     "data": {
      "application/vnd.jupyter.widget-view+json": {
       "model_id": "3fe80f6afc4748af8ac1dd7706c4b254",
       "version_major": 2,
       "version_minor": 0
      },
      "text/plain": [
       "HBox(children=(IntProgress(value=0, description='Training iteration', max=101, style=ProgressStyle(description…"
      ]
     },
     "metadata": {},
     "output_type": "display_data"
    },
    {
     "name": "stdout",
     "output_type": "stream",
     "text": [
      "\n"
     ]
    },
    {
     "data": {
      "application/vnd.jupyter.widget-view+json": {
       "model_id": "ce0b9a75fa7e4b53b8e77e7ca2ec7ff9",
       "version_major": 2,
       "version_minor": 0
      },
      "text/plain": [
       "HBox(children=(IntProgress(value=0, description='Evaluation iteration', max=21, style=ProgressStyle(descriptio…"
      ]
     },
     "metadata": {},
     "output_type": "display_data"
    },
    {
     "name": "stdout",
     "output_type": "stream",
     "text": [
      "\n",
      "Loss history: [0.2995312355813526, 0.15137098942484176, 0.12304936455828804, 0.11006989613884971, 0.10390285686368034, 0.09790039417289552]\n",
      "Dev loss: 0.09491752549296334\n"
     ]
    },
    {
     "name": "stderr",
     "output_type": "stream",
     "text": [
      "\r",
      "Epoch:  35%|███▌      | 7/20 [02:39<04:56, 22.79s/it]"
     ]
    },
    {
     "data": {
      "application/vnd.jupyter.widget-view+json": {
       "model_id": "1183678d291b4b6c9b8afc91f774a442",
       "version_major": 2,
       "version_minor": 0
      },
      "text/plain": [
       "HBox(children=(IntProgress(value=0, description='Training iteration', max=101, style=ProgressStyle(description…"
      ]
     },
     "metadata": {},
     "output_type": "display_data"
    },
    {
     "name": "stdout",
     "output_type": "stream",
     "text": [
      "\n"
     ]
    },
    {
     "data": {
      "application/vnd.jupyter.widget-view+json": {
       "model_id": "17c6436c930b4fa3a895828046316de5",
       "version_major": 2,
       "version_minor": 0
      },
      "text/plain": [
       "HBox(children=(IntProgress(value=0, description='Evaluation iteration', max=21, style=ProgressStyle(descriptio…"
      ]
     },
     "metadata": {},
     "output_type": "display_data"
    },
    {
     "name": "stderr",
     "output_type": "stream",
     "text": [
      "\r",
      "Epoch:  40%|████      | 8/20 [03:01<04:32, 22.68s/it]"
     ]
    },
    {
     "name": "stdout",
     "output_type": "stream",
     "text": [
      "\n",
      "Loss history: [0.2995312355813526, 0.15137098942484176, 0.12304936455828804, 0.11006989613884971, 0.10390285686368034, 0.09790039417289552, 0.09491752549296334]\n",
      "Dev loss: 0.09506524567093168\n"
     ]
    },
    {
     "data": {
      "application/vnd.jupyter.widget-view+json": {
       "model_id": "4369a573d6eb46a08a657145b043813f",
       "version_major": 2,
       "version_minor": 0
      },
      "text/plain": [
       "HBox(children=(IntProgress(value=0, description='Training iteration', max=101, style=ProgressStyle(description…"
      ]
     },
     "metadata": {},
     "output_type": "display_data"
    },
    {
     "name": "stdout",
     "output_type": "stream",
     "text": [
      "\n"
     ]
    },
    {
     "data": {
      "application/vnd.jupyter.widget-view+json": {
       "model_id": "8df6881b5d384764b3c732e7fe406068",
       "version_major": 2,
       "version_minor": 0
      },
      "text/plain": [
       "HBox(children=(IntProgress(value=0, description='Evaluation iteration', max=21, style=ProgressStyle(descriptio…"
      ]
     },
     "metadata": {},
     "output_type": "display_data"
    },
    {
     "name": "stdout",
     "output_type": "stream",
     "text": [
      "\n",
      "Loss history: [0.2995312355813526, 0.15137098942484176, 0.12304936455828804, 0.11006989613884971, 0.10390285686368034, 0.09790039417289552, 0.09491752549296334, 0.09506524567093168]\n",
      "Dev loss: 0.09448327833697909\n"
     ]
    },
    {
     "name": "stderr",
     "output_type": "stream",
     "text": [
      "\r",
      "Epoch:  45%|████▌     | 9/20 [03:24<04:10, 22.75s/it]"
     ]
    },
    {
     "data": {
      "application/vnd.jupyter.widget-view+json": {
       "model_id": "fcb2ac3323b945e787b99bafb1410630",
       "version_major": 2,
       "version_minor": 0
      },
      "text/plain": [
       "HBox(children=(IntProgress(value=0, description='Training iteration', max=101, style=ProgressStyle(description…"
      ]
     },
     "metadata": {},
     "output_type": "display_data"
    },
    {
     "name": "stdout",
     "output_type": "stream",
     "text": [
      "\n"
     ]
    },
    {
     "data": {
      "application/vnd.jupyter.widget-view+json": {
       "model_id": "f47f7c1af3f242d19cecb262523a9978",
       "version_major": 2,
       "version_minor": 0
      },
      "text/plain": [
       "HBox(children=(IntProgress(value=0, description='Evaluation iteration', max=21, style=ProgressStyle(descriptio…"
      ]
     },
     "metadata": {},
     "output_type": "display_data"
    },
    {
     "name": "stdout",
     "output_type": "stream",
     "text": [
      "\n",
      "Loss history: [0.2995312355813526, 0.15137098942484176, 0.12304936455828804, 0.11006989613884971, 0.10390285686368034, 0.09790039417289552, 0.09491752549296334, 0.09506524567093168, 0.09448327833697909]\n",
      "Dev loss: 0.09409394505478087\n"
     ]
    },
    {
     "name": "stderr",
     "output_type": "stream",
     "text": [
      "\r",
      "Epoch:  50%|█████     | 10/20 [03:47<03:47, 22.79s/it]"
     ]
    },
    {
     "data": {
      "application/vnd.jupyter.widget-view+json": {
       "model_id": "8c36bf4ed1c94d64a02816cb98052c8a",
       "version_major": 2,
       "version_minor": 0
      },
      "text/plain": [
       "HBox(children=(IntProgress(value=0, description='Training iteration', max=101, style=ProgressStyle(description…"
      ]
     },
     "metadata": {},
     "output_type": "display_data"
    },
    {
     "name": "stdout",
     "output_type": "stream",
     "text": [
      "\n"
     ]
    },
    {
     "data": {
      "application/vnd.jupyter.widget-view+json": {
       "model_id": "a8894a95634a4ebeb0b9337635fa4e15",
       "version_major": 2,
       "version_minor": 0
      },
      "text/plain": [
       "HBox(children=(IntProgress(value=0, description='Evaluation iteration', max=21, style=ProgressStyle(descriptio…"
      ]
     },
     "metadata": {},
     "output_type": "display_data"
    },
    {
     "name": "stdout",
     "output_type": "stream",
     "text": [
      "\n",
      "Loss history: [0.2995312355813526, 0.15137098942484176, 0.12304936455828804, 0.11006989613884971, 0.10390285686368034, 0.09790039417289552, 0.09491752549296334, 0.09506524567093168, 0.09448327833697909, 0.09409394505478087]\n",
      "Dev loss: 0.09379064469110399\n"
     ]
    },
    {
     "name": "stderr",
     "output_type": "stream",
     "text": [
      "\r",
      "Epoch:  55%|█████▌    | 11/20 [04:10<03:25, 22.83s/it]"
     ]
    },
    {
     "data": {
      "application/vnd.jupyter.widget-view+json": {
       "model_id": "6c4b646470914951aaede130a09bb512",
       "version_major": 2,
       "version_minor": 0
      },
      "text/plain": [
       "HBox(children=(IntProgress(value=0, description='Training iteration', max=101, style=ProgressStyle(description…"
      ]
     },
     "metadata": {},
     "output_type": "display_data"
    },
    {
     "name": "stdout",
     "output_type": "stream",
     "text": [
      "\n"
     ]
    },
    {
     "data": {
      "application/vnd.jupyter.widget-view+json": {
       "model_id": "b3de7538af324e998f938a0b45c9865c",
       "version_major": 2,
       "version_minor": 0
      },
      "text/plain": [
       "HBox(children=(IntProgress(value=0, description='Evaluation iteration', max=21, style=ProgressStyle(descriptio…"
      ]
     },
     "metadata": {},
     "output_type": "display_data"
    },
    {
     "name": "stderr",
     "output_type": "stream",
     "text": [
      "\r",
      "Epoch:  60%|██████    | 12/20 [04:32<03:01, 22.71s/it]"
     ]
    },
    {
     "name": "stdout",
     "output_type": "stream",
     "text": [
      "\n",
      "Loss history: [0.2995312355813526, 0.15137098942484176, 0.12304936455828804, 0.11006989613884971, 0.10390285686368034, 0.09790039417289552, 0.09491752549296334, 0.09506524567093168, 0.09448327833697909, 0.09409394505478087, 0.09379064469110399]\n",
      "Dev loss: 0.09457772331578392\n"
     ]
    },
    {
     "data": {
      "application/vnd.jupyter.widget-view+json": {
       "model_id": "6034be1e18ca462e8cc228457726abb8",
       "version_major": 2,
       "version_minor": 0
      },
      "text/plain": [
       "HBox(children=(IntProgress(value=0, description='Training iteration', max=101, style=ProgressStyle(description…"
      ]
     },
     "metadata": {},
     "output_type": "display_data"
    },
    {
     "name": "stdout",
     "output_type": "stream",
     "text": [
      "\n"
     ]
    },
    {
     "data": {
      "application/vnd.jupyter.widget-view+json": {
       "model_id": "47b3180011bd4749b10b5bf95d216b52",
       "version_major": 2,
       "version_minor": 0
      },
      "text/plain": [
       "HBox(children=(IntProgress(value=0, description='Evaluation iteration', max=21, style=ProgressStyle(descriptio…"
      ]
     },
     "metadata": {},
     "output_type": "display_data"
    },
    {
     "name": "stderr",
     "output_type": "stream",
     "text": [
      "\r",
      "Epoch:  65%|██████▌   | 13/20 [04:55<02:38, 22.63s/it]"
     ]
    },
    {
     "name": "stdout",
     "output_type": "stream",
     "text": [
      "\n",
      "Loss history: [0.2995312355813526, 0.15137098942484176, 0.12304936455828804, 0.11006989613884971, 0.10390285686368034, 0.09790039417289552, 0.09491752549296334, 0.09506524567093168, 0.09448327833697909, 0.09409394505478087, 0.09379064469110399, 0.09457772331578392]\n",
      "Dev loss: 0.09538565788950239\n"
     ]
    },
    {
     "data": {
      "application/vnd.jupyter.widget-view+json": {
       "model_id": "72df84677d4e4805a2cddf1b296f768d",
       "version_major": 2,
       "version_minor": 0
      },
      "text/plain": [
       "HBox(children=(IntProgress(value=0, description='Training iteration', max=101, style=ProgressStyle(description…"
      ]
     },
     "metadata": {},
     "output_type": "display_data"
    },
    {
     "name": "stdout",
     "output_type": "stream",
     "text": [
      "\n"
     ]
    },
    {
     "data": {
      "application/vnd.jupyter.widget-view+json": {
       "model_id": "5d5aad5a7bf7430d8cf0ae89254c822e",
       "version_major": 2,
       "version_minor": 0
      },
      "text/plain": [
       "HBox(children=(IntProgress(value=0, description='Evaluation iteration', max=21, style=ProgressStyle(descriptio…"
      ]
     },
     "metadata": {},
     "output_type": "display_data"
    },
    {
     "name": "stderr",
     "output_type": "stream",
     "text": [
      "\r",
      "Epoch:  70%|███████   | 14/20 [05:17<02:15, 22.58s/it]"
     ]
    },
    {
     "name": "stdout",
     "output_type": "stream",
     "text": [
      "\n",
      "Loss history: [0.2995312355813526, 0.15137098942484176, 0.12304936455828804, 0.11006989613884971, 0.10390285686368034, 0.09790039417289552, 0.09491752549296334, 0.09506524567093168, 0.09448327833697909, 0.09409394505478087, 0.09379064469110399, 0.09457772331578392, 0.09538565788950239]\n",
      "Dev loss: 0.09451836383058912\n"
     ]
    },
    {
     "data": {
      "application/vnd.jupyter.widget-view+json": {
       "model_id": "cb31543aeb25426c8fea220c902f2b0f",
       "version_major": 2,
       "version_minor": 0
      },
      "text/plain": [
       "HBox(children=(IntProgress(value=0, description='Training iteration', max=101, style=ProgressStyle(description…"
      ]
     },
     "metadata": {},
     "output_type": "display_data"
    },
    {
     "name": "stdout",
     "output_type": "stream",
     "text": [
      "\n"
     ]
    },
    {
     "data": {
      "application/vnd.jupyter.widget-view+json": {
       "model_id": "0d09f9e325b04ec6a97188a55a5cb2eb",
       "version_major": 2,
       "version_minor": 0
      },
      "text/plain": [
       "HBox(children=(IntProgress(value=0, description='Evaluation iteration', max=21, style=ProgressStyle(descriptio…"
      ]
     },
     "metadata": {},
     "output_type": "display_data"
    },
    {
     "name": "stderr",
     "output_type": "stream",
     "text": [
      "\r",
      "Epoch:  75%|███████▌  | 15/20 [05:40<01:52, 22.54s/it]"
     ]
    },
    {
     "name": "stdout",
     "output_type": "stream",
     "text": [
      "\n",
      "Loss history: [0.2995312355813526, 0.15137098942484176, 0.12304936455828804, 0.11006989613884971, 0.10390285686368034, 0.09790039417289552, 0.09491752549296334, 0.09506524567093168, 0.09448327833697909, 0.09409394505478087, 0.09379064469110399, 0.09457772331578392, 0.09538565788950239, 0.09451836383058912]\n",
      "Dev loss: 0.09428003430366516\n"
     ]
    },
    {
     "data": {
      "application/vnd.jupyter.widget-view+json": {
       "model_id": "3ff49da5fd404f77b11154c52bb327f7",
       "version_major": 2,
       "version_minor": 0
      },
      "text/plain": [
       "HBox(children=(IntProgress(value=0, description='Training iteration', max=101, style=ProgressStyle(description…"
      ]
     },
     "metadata": {},
     "output_type": "display_data"
    },
    {
     "name": "stdout",
     "output_type": "stream",
     "text": [
      "\n"
     ]
    },
    {
     "data": {
      "application/vnd.jupyter.widget-view+json": {
       "model_id": "a709fd3192914cb6a4d0d1e450fd492a",
       "version_major": 2,
       "version_minor": 0
      },
      "text/plain": [
       "HBox(children=(IntProgress(value=0, description='Evaluation iteration', max=21, style=ProgressStyle(descriptio…"
      ]
     },
     "metadata": {},
     "output_type": "display_data"
    },
    {
     "name": "stdout",
     "output_type": "stream",
     "text": [
      "\n",
      "Loss history: [0.2995312355813526, 0.15137098942484176, 0.12304936455828804, 0.11006989613884971, 0.10390285686368034, 0.09790039417289552, 0.09491752549296334, 0.09506524567093168, 0.09448327833697909, 0.09409394505478087, 0.09379064469110399, 0.09457772331578392, 0.09538565788950239, 0.09451836383058912, 0.09428003430366516]\n",
      "Dev loss: 0.09485254968915667\n",
      "No improvement on development set. Finish training.\n",
      "Loading model from /tmp/model.bin\n"
     ]
    },
    {
     "name": "stderr",
     "output_type": "stream",
     "text": [
      "\n",
      "I0327 11:51:34.876767 139635286574912 configuration_utils.py:256] loading configuration file https://s3.amazonaws.com/models.huggingface.co/bert/bert-base-uncased-config.json from cache at /home/yves/.cache/torch/transformers/4dad0251492946e18ac39290fcfe91b89d370fee250efe9521476438fe8ca185.8f56353af4a709bf5ff0fbc915d8f5b42bfff892cbb6ac98c3c45f481a03c685\n",
      "I0327 11:51:34.877988 139635286574912 configuration_utils.py:292] Model config BertConfig {\n",
      "  \"architectures\": [\n",
      "    \"BertForMaskedLM\"\n",
      "  ],\n",
      "  \"attention_probs_dropout_prob\": 0.1,\n",
      "  \"bos_token_id\": null,\n",
      "  \"do_sample\": false,\n",
      "  \"eos_token_ids\": null,\n",
      "  \"finetuning_task\": null,\n",
      "  \"hidden_act\": \"gelu\",\n",
      "  \"hidden_dropout_prob\": 0.1,\n",
      "  \"hidden_size\": 768,\n",
      "  \"id2label\": {\n",
      "    \"0\": \"LABEL_0\",\n",
      "    \"1\": \"LABEL_1\"\n",
      "  },\n",
      "  \"initializer_range\": 0.02,\n",
      "  \"intermediate_size\": 3072,\n",
      "  \"is_decoder\": false,\n",
      "  \"label2id\": {\n",
      "    \"LABEL_0\": 0,\n",
      "    \"LABEL_1\": 1\n",
      "  },\n",
      "  \"layer_norm_eps\": 1e-12,\n",
      "  \"length_penalty\": 1.0,\n",
      "  \"max_length\": 20,\n",
      "  \"max_position_embeddings\": 512,\n",
      "  \"model_type\": \"bert\",\n",
      "  \"num_attention_heads\": 12,\n",
      "  \"num_beams\": 1,\n",
      "  \"num_hidden_layers\": 12,\n",
      "  \"num_labels\": 42,\n",
      "  \"num_return_sequences\": 1,\n",
      "  \"output_attentions\": false,\n",
      "  \"output_hidden_states\": false,\n",
      "  \"output_past\": true,\n",
      "  \"pad_token_id\": null,\n",
      "  \"pruned_heads\": {},\n",
      "  \"repetition_penalty\": 1.0,\n",
      "  \"temperature\": 1.0,\n",
      "  \"top_k\": 50,\n",
      "  \"top_p\": 1.0,\n",
      "  \"torchscript\": false,\n",
      "  \"type_vocab_size\": 2,\n",
      "  \"use_bfloat16\": false,\n",
      "  \"vocab_size\": 30522\n",
      "}\n",
      "\n",
      "I0327 11:51:35.331738 139635286574912 modeling_utils.py:461] loading weights file https://s3.amazonaws.com/models.huggingface.co/bert/bert-base-uncased-pytorch_model.bin from cache at /home/yves/.cache/torch/transformers/aa1ef1aede4482d0dbcd4d52baad8ae300e60902e88fcb0bebdec09afd232066.36ca03ab34a1a5d5fa7bc3d03d55c4fa650fed07220e2eeebc06ce58d0e9a157\n"
     ]
    },
    {
     "data": {
      "application/vnd.jupyter.widget-view+json": {
       "model_id": "0c8b3181dd3547998b6df14008489004",
       "version_major": 2,
       "version_minor": 0
      },
      "text/plain": [
       "HBox(children=(IntProgress(value=0, description='Evaluation iteration', max=31, style=ProgressStyle(descriptio…"
      ]
     },
     "metadata": {},
     "output_type": "display_data"
    },
    {
     "name": "stdout",
     "output_type": "stream",
     "text": [
      "\n",
      "Data size: 483\n",
      "P: 264 / 313 = 0.8434504792332268\n",
      "R: 264 / 577 = 0.45753899480069327\n",
      "F: 0.5932584269662922\n",
      "A: 0.39751552795031053\n",
      "AL1: 0.453416149068323\n",
      "Train size: 1608\n",
      "Final train dataloader length: 101\n"
     ]
    },
    {
     "name": "stderr",
     "output_type": "stream",
     "text": [
      "I0327 11:51:49.344845 139635286574912 configuration_utils.py:256] loading configuration file https://s3.amazonaws.com/models.huggingface.co/bert/bert-base-uncased-config.json from cache at /home/yves/.cache/torch/transformers/4dad0251492946e18ac39290fcfe91b89d370fee250efe9521476438fe8ca185.8f56353af4a709bf5ff0fbc915d8f5b42bfff892cbb6ac98c3c45f481a03c685\n",
      "I0327 11:51:49.346404 139635286574912 configuration_utils.py:292] Model config BertConfig {\n",
      "  \"architectures\": [\n",
      "    \"BertForMaskedLM\"\n",
      "  ],\n",
      "  \"attention_probs_dropout_prob\": 0.1,\n",
      "  \"bos_token_id\": null,\n",
      "  \"do_sample\": false,\n",
      "  \"eos_token_ids\": null,\n",
      "  \"finetuning_task\": null,\n",
      "  \"hidden_act\": \"gelu\",\n",
      "  \"hidden_dropout_prob\": 0.1,\n",
      "  \"hidden_size\": 768,\n",
      "  \"id2label\": {\n",
      "    \"0\": \"LABEL_0\",\n",
      "    \"1\": \"LABEL_1\"\n",
      "  },\n",
      "  \"initializer_range\": 0.02,\n",
      "  \"intermediate_size\": 3072,\n",
      "  \"is_decoder\": false,\n",
      "  \"label2id\": {\n",
      "    \"LABEL_0\": 0,\n",
      "    \"LABEL_1\": 1\n",
      "  },\n",
      "  \"layer_norm_eps\": 1e-12,\n",
      "  \"length_penalty\": 1.0,\n",
      "  \"max_length\": 20,\n",
      "  \"max_position_embeddings\": 512,\n",
      "  \"model_type\": \"bert\",\n",
      "  \"num_attention_heads\": 12,\n",
      "  \"num_beams\": 1,\n",
      "  \"num_hidden_layers\": 12,\n",
      "  \"num_labels\": 42,\n",
      "  \"num_return_sequences\": 1,\n",
      "  \"output_attentions\": false,\n",
      "  \"output_hidden_states\": false,\n",
      "  \"output_past\": true,\n",
      "  \"pad_token_id\": null,\n",
      "  \"pruned_heads\": {},\n",
      "  \"repetition_penalty\": 1.0,\n",
      "  \"temperature\": 1.0,\n",
      "  \"top_k\": 50,\n",
      "  \"top_p\": 1.0,\n",
      "  \"torchscript\": false,\n",
      "  \"type_vocab_size\": 2,\n",
      "  \"use_bfloat16\": false,\n",
      "  \"vocab_size\": 30522\n",
      "}\n",
      "\n",
      "I0327 11:51:49.927294 139635286574912 modeling_utils.py:461] loading weights file https://s3.amazonaws.com/models.huggingface.co/bert/bert-base-uncased-pytorch_model.bin from cache at /home/yves/.cache/torch/transformers/aa1ef1aede4482d0dbcd4d52baad8ae300e60902e88fcb0bebdec09afd232066.36ca03ab34a1a5d5fa7bc3d03d55c4fa650fed07220e2eeebc06ce58d0e9a157\n",
      "I0327 11:51:51.629396 139635286574912 modeling_utils.py:546] Weights of BertForMultiLabelSequenceClassification not initialized from pretrained model: ['classifier.weight', 'classifier.bias']\n",
      "I0327 11:51:51.630112 139635286574912 modeling_utils.py:552] Weights from pretrained model not used in BertForMultiLabelSequenceClassification: ['cls.predictions.bias', 'cls.predictions.transform.dense.weight', 'cls.predictions.transform.dense.bias', 'cls.predictions.decoder.weight', 'cls.seq_relationship.weight', 'cls.seq_relationship.bias', 'cls.predictions.transform.LayerNorm.weight', 'cls.predictions.transform.LayerNorm.bias']\n",
      "Epoch:   0%|          | 0/20 [00:00<?, ?it/s]"
     ]
    },
    {
     "data": {
      "application/vnd.jupyter.widget-view+json": {
       "model_id": "8d5051269f9e45a0a6a194ccca5226e6",
       "version_major": 2,
       "version_minor": 0
      },
      "text/plain": [
       "HBox(children=(IntProgress(value=0, description='Training iteration', max=101, style=ProgressStyle(description…"
      ]
     },
     "metadata": {},
     "output_type": "display_data"
    },
    {
     "name": "stdout",
     "output_type": "stream",
     "text": [
      "\n"
     ]
    },
    {
     "data": {
      "application/vnd.jupyter.widget-view+json": {
       "model_id": "4973c7bbcfcc441eb06c1763f208a9a4",
       "version_major": 2,
       "version_minor": 0
      },
      "text/plain": [
       "HBox(children=(IntProgress(value=0, description='Evaluation iteration', max=21, style=ProgressStyle(descriptio…"
      ]
     },
     "metadata": {},
     "output_type": "display_data"
    },
    {
     "name": "stdout",
     "output_type": "stream",
     "text": [
      "\n",
      "Loss history: []\n",
      "Dev loss: 0.30596598982810974\n"
     ]
    },
    {
     "name": "stderr",
     "output_type": "stream",
     "text": [
      "\r",
      "Epoch:   5%|▌         | 1/20 [00:22<07:13, 22.79s/it]"
     ]
    },
    {
     "data": {
      "application/vnd.jupyter.widget-view+json": {
       "model_id": "61d5539945da44d7a2bbc017b9b7c4d3",
       "version_major": 2,
       "version_minor": 0
      },
      "text/plain": [
       "HBox(children=(IntProgress(value=0, description='Training iteration', max=101, style=ProgressStyle(description…"
      ]
     },
     "metadata": {},
     "output_type": "display_data"
    },
    {
     "name": "stdout",
     "output_type": "stream",
     "text": [
      "\n"
     ]
    },
    {
     "data": {
      "application/vnd.jupyter.widget-view+json": {
       "model_id": "944cdc97136c48d0839283e9a4121335",
       "version_major": 2,
       "version_minor": 0
      },
      "text/plain": [
       "HBox(children=(IntProgress(value=0, description='Evaluation iteration', max=21, style=ProgressStyle(descriptio…"
      ]
     },
     "metadata": {},
     "output_type": "display_data"
    },
    {
     "name": "stdout",
     "output_type": "stream",
     "text": [
      "\n",
      "Loss history: [0.30596598982810974]\n",
      "Dev loss: 0.1507664727313178\n"
     ]
    },
    {
     "name": "stderr",
     "output_type": "stream",
     "text": [
      "\r",
      "Epoch:  10%|█         | 2/20 [00:45<06:50, 22.79s/it]"
     ]
    },
    {
     "data": {
      "application/vnd.jupyter.widget-view+json": {
       "model_id": "6526b9401e3f4a01a71b3f05b0a46b38",
       "version_major": 2,
       "version_minor": 0
      },
      "text/plain": [
       "HBox(children=(IntProgress(value=0, description='Training iteration', max=101, style=ProgressStyle(description…"
      ]
     },
     "metadata": {},
     "output_type": "display_data"
    },
    {
     "name": "stdout",
     "output_type": "stream",
     "text": [
      "\n"
     ]
    },
    {
     "data": {
      "application/vnd.jupyter.widget-view+json": {
       "model_id": "6e045cbb8b494c6cbe625d833e58455b",
       "version_major": 2,
       "version_minor": 0
      },
      "text/plain": [
       "HBox(children=(IntProgress(value=0, description='Evaluation iteration', max=21, style=ProgressStyle(descriptio…"
      ]
     },
     "metadata": {},
     "output_type": "display_data"
    },
    {
     "name": "stdout",
     "output_type": "stream",
     "text": [
      "\n",
      "Loss history: [0.30596598982810974, 0.1507664727313178]\n",
      "Dev loss: 0.11931708384127844\n"
     ]
    },
    {
     "name": "stderr",
     "output_type": "stream",
     "text": [
      "\r",
      "Epoch:  15%|█▌        | 3/20 [01:08<06:27, 22.82s/it]"
     ]
    },
    {
     "data": {
      "application/vnd.jupyter.widget-view+json": {
       "model_id": "8dbc759bbc474bb58147e20bd304d130",
       "version_major": 2,
       "version_minor": 0
      },
      "text/plain": [
       "HBox(children=(IntProgress(value=0, description='Training iteration', max=101, style=ProgressStyle(description…"
      ]
     },
     "metadata": {},
     "output_type": "display_data"
    },
    {
     "name": "stdout",
     "output_type": "stream",
     "text": [
      "\n"
     ]
    },
    {
     "data": {
      "application/vnd.jupyter.widget-view+json": {
       "model_id": "51bfe59a24a2484f8f5d46aba174d34f",
       "version_major": 2,
       "version_minor": 0
      },
      "text/plain": [
       "HBox(children=(IntProgress(value=0, description='Evaluation iteration', max=21, style=ProgressStyle(descriptio…"
      ]
     },
     "metadata": {},
     "output_type": "display_data"
    },
    {
     "name": "stdout",
     "output_type": "stream",
     "text": [
      "\n",
      "Loss history: [0.30596598982810974, 0.1507664727313178, 0.11931708384127844]\n",
      "Dev loss: 0.11117950365656898\n"
     ]
    },
    {
     "name": "stderr",
     "output_type": "stream",
     "text": [
      "\r",
      "Epoch:  20%|██        | 4/20 [01:31<06:05, 22.84s/it]"
     ]
    },
    {
     "data": {
      "application/vnd.jupyter.widget-view+json": {
       "model_id": "6c3f23e097ec42aabf0e6bb8b34215db",
       "version_major": 2,
       "version_minor": 0
      },
      "text/plain": [
       "HBox(children=(IntProgress(value=0, description='Training iteration', max=101, style=ProgressStyle(description…"
      ]
     },
     "metadata": {},
     "output_type": "display_data"
    },
    {
     "name": "stdout",
     "output_type": "stream",
     "text": [
      "\n"
     ]
    },
    {
     "data": {
      "application/vnd.jupyter.widget-view+json": {
       "model_id": "9a3ec1bed0fd4403bd8bf6f0c9736176",
       "version_major": 2,
       "version_minor": 0
      },
      "text/plain": [
       "HBox(children=(IntProgress(value=0, description='Evaluation iteration', max=21, style=ProgressStyle(descriptio…"
      ]
     },
     "metadata": {},
     "output_type": "display_data"
    },
    {
     "name": "stdout",
     "output_type": "stream",
     "text": [
      "\n",
      "Loss history: [0.30596598982810974, 0.1507664727313178, 0.11931708384127844, 0.11117950365656898]\n",
      "Dev loss: 0.1041934188632738\n"
     ]
    },
    {
     "name": "stderr",
     "output_type": "stream",
     "text": [
      "\r",
      "Epoch:  25%|██▌       | 5/20 [01:54<05:42, 22.85s/it]"
     ]
    },
    {
     "data": {
      "application/vnd.jupyter.widget-view+json": {
       "model_id": "b8ebf9b8f55d45d3be8b69c1ec6caf52",
       "version_major": 2,
       "version_minor": 0
      },
      "text/plain": [
       "HBox(children=(IntProgress(value=0, description='Training iteration', max=101, style=ProgressStyle(description…"
      ]
     },
     "metadata": {},
     "output_type": "display_data"
    },
    {
     "name": "stdout",
     "output_type": "stream",
     "text": [
      "\n"
     ]
    },
    {
     "data": {
      "application/vnd.jupyter.widget-view+json": {
       "model_id": "4da9d6250d654f1c9735e94a70448d94",
       "version_major": 2,
       "version_minor": 0
      },
      "text/plain": [
       "HBox(children=(IntProgress(value=0, description='Evaluation iteration', max=21, style=ProgressStyle(descriptio…"
      ]
     },
     "metadata": {},
     "output_type": "display_data"
    },
    {
     "name": "stdout",
     "output_type": "stream",
     "text": [
      "\n",
      "Loss history: [0.30596598982810974, 0.1507664727313178, 0.11931708384127844, 0.11117950365656898, 0.1041934188632738]\n",
      "Dev loss: 0.09803373189199538\n"
     ]
    },
    {
     "name": "stderr",
     "output_type": "stream",
     "text": [
      "\r",
      "Epoch:  30%|███       | 6/20 [02:17<05:20, 22.86s/it]"
     ]
    },
    {
     "data": {
      "application/vnd.jupyter.widget-view+json": {
       "model_id": "c749e4827850467989b1c80e3e6dbb9f",
       "version_major": 2,
       "version_minor": 0
      },
      "text/plain": [
       "HBox(children=(IntProgress(value=0, description='Training iteration', max=101, style=ProgressStyle(description…"
      ]
     },
     "metadata": {},
     "output_type": "display_data"
    },
    {
     "name": "stdout",
     "output_type": "stream",
     "text": [
      "\n"
     ]
    },
    {
     "data": {
      "application/vnd.jupyter.widget-view+json": {
       "model_id": "11c0644569594e0dbb27823177a0240f",
       "version_major": 2,
       "version_minor": 0
      },
      "text/plain": [
       "HBox(children=(IntProgress(value=0, description='Evaluation iteration', max=21, style=ProgressStyle(descriptio…"
      ]
     },
     "metadata": {},
     "output_type": "display_data"
    },
    {
     "name": "stdout",
     "output_type": "stream",
     "text": [
      "\n",
      "Loss history: [0.30596598982810974, 0.1507664727313178, 0.11931708384127844, 0.11117950365656898, 0.1041934188632738, 0.09803373189199538]\n",
      "Dev loss: 0.0958831338655381\n"
     ]
    },
    {
     "name": "stderr",
     "output_type": "stream",
     "text": [
      "\r",
      "Epoch:  35%|███▌      | 7/20 [02:40<04:57, 22.87s/it]"
     ]
    },
    {
     "data": {
      "application/vnd.jupyter.widget-view+json": {
       "model_id": "d5c016f1366f47ddb889bc73348fbb8f",
       "version_major": 2,
       "version_minor": 0
      },
      "text/plain": [
       "HBox(children=(IntProgress(value=0, description='Training iteration', max=101, style=ProgressStyle(description…"
      ]
     },
     "metadata": {},
     "output_type": "display_data"
    },
    {
     "name": "stdout",
     "output_type": "stream",
     "text": [
      "\n"
     ]
    },
    {
     "data": {
      "application/vnd.jupyter.widget-view+json": {
       "model_id": "11c56855f3e3461c8ae9a5d2b009243c",
       "version_major": 2,
       "version_minor": 0
      },
      "text/plain": [
       "HBox(children=(IntProgress(value=0, description='Evaluation iteration', max=21, style=ProgressStyle(descriptio…"
      ]
     },
     "metadata": {},
     "output_type": "display_data"
    },
    {
     "name": "stdout",
     "output_type": "stream",
     "text": [
      "\n",
      "Loss history: [0.30596598982810974, 0.1507664727313178, 0.11931708384127844, 0.11117950365656898, 0.1041934188632738, 0.09803373189199538, 0.0958831338655381]\n",
      "Dev loss: 0.09382759992565427\n"
     ]
    },
    {
     "name": "stderr",
     "output_type": "stream",
     "text": [
      "\r",
      "Epoch:  40%|████      | 8/20 [03:02<04:34, 22.88s/it]"
     ]
    },
    {
     "data": {
      "application/vnd.jupyter.widget-view+json": {
       "model_id": "f380648113eb4586beec7a7ae1f1625a",
       "version_major": 2,
       "version_minor": 0
      },
      "text/plain": [
       "HBox(children=(IntProgress(value=0, description='Training iteration', max=101, style=ProgressStyle(description…"
      ]
     },
     "metadata": {},
     "output_type": "display_data"
    },
    {
     "name": "stdout",
     "output_type": "stream",
     "text": [
      "\n"
     ]
    },
    {
     "data": {
      "application/vnd.jupyter.widget-view+json": {
       "model_id": "385f83a623b64f5185b97b597559ffa5",
       "version_major": 2,
       "version_minor": 0
      },
      "text/plain": [
       "HBox(children=(IntProgress(value=0, description='Evaluation iteration', max=21, style=ProgressStyle(descriptio…"
      ]
     },
     "metadata": {},
     "output_type": "display_data"
    },
    {
     "name": "stdout",
     "output_type": "stream",
     "text": [
      "\n",
      "Loss history: [0.30596598982810974, 0.1507664727313178, 0.11931708384127844, 0.11117950365656898, 0.1041934188632738, 0.09803373189199538, 0.0958831338655381, 0.09382759992565427]\n",
      "Dev loss: 0.09230891118446986\n"
     ]
    },
    {
     "name": "stderr",
     "output_type": "stream",
     "text": [
      "\r",
      "Epoch:  45%|████▌     | 9/20 [03:25<04:11, 22.89s/it]"
     ]
    },
    {
     "data": {
      "application/vnd.jupyter.widget-view+json": {
       "model_id": "9e5d7f8edbdd43a9abcb132e40813d31",
       "version_major": 2,
       "version_minor": 0
      },
      "text/plain": [
       "HBox(children=(IntProgress(value=0, description='Training iteration', max=101, style=ProgressStyle(description…"
      ]
     },
     "metadata": {},
     "output_type": "display_data"
    },
    {
     "name": "stdout",
     "output_type": "stream",
     "text": [
      "\n"
     ]
    },
    {
     "data": {
      "application/vnd.jupyter.widget-view+json": {
       "model_id": "fc67c7afe37147c3996599826cf71a24",
       "version_major": 2,
       "version_minor": 0
      },
      "text/plain": [
       "HBox(children=(IntProgress(value=0, description='Evaluation iteration', max=21, style=ProgressStyle(descriptio…"
      ]
     },
     "metadata": {},
     "output_type": "display_data"
    },
    {
     "name": "stderr",
     "output_type": "stream",
     "text": [
      "\r",
      "Epoch:  50%|█████     | 10/20 [03:48<03:47, 22.76s/it]"
     ]
    },
    {
     "name": "stdout",
     "output_type": "stream",
     "text": [
      "\n",
      "Loss history: [0.30596598982810974, 0.1507664727313178, 0.11931708384127844, 0.11117950365656898, 0.1041934188632738, 0.09803373189199538, 0.0958831338655381, 0.09382759992565427, 0.09230891118446986]\n",
      "Dev loss: 0.09414645248935335\n"
     ]
    },
    {
     "data": {
      "application/vnd.jupyter.widget-view+json": {
       "model_id": "a9b3c886eb5f4e6c990e3ddcc473d385",
       "version_major": 2,
       "version_minor": 0
      },
      "text/plain": [
       "HBox(children=(IntProgress(value=0, description='Training iteration', max=101, style=ProgressStyle(description…"
      ]
     },
     "metadata": {},
     "output_type": "display_data"
    },
    {
     "name": "stdout",
     "output_type": "stream",
     "text": [
      "\n"
     ]
    },
    {
     "data": {
      "application/vnd.jupyter.widget-view+json": {
       "model_id": "678c19c3bfaa4ee8bf4f569503cd8b44",
       "version_major": 2,
       "version_minor": 0
      },
      "text/plain": [
       "HBox(children=(IntProgress(value=0, description='Evaluation iteration', max=21, style=ProgressStyle(descriptio…"
      ]
     },
     "metadata": {},
     "output_type": "display_data"
    },
    {
     "name": "stdout",
     "output_type": "stream",
     "text": [
      "\n",
      "Loss history: [0.30596598982810974, 0.1507664727313178, 0.11931708384127844, 0.11117950365656898, 0.1041934188632738, 0.09803373189199538, 0.0958831338655381, 0.09382759992565427, 0.09230891118446986, 0.09414645248935335]\n",
      "Dev loss: 0.09137638232537679\n"
     ]
    },
    {
     "name": "stderr",
     "output_type": "stream",
     "text": [
      "\r",
      "Epoch:  55%|█████▌    | 11/20 [04:11<03:25, 22.80s/it]"
     ]
    },
    {
     "data": {
      "application/vnd.jupyter.widget-view+json": {
       "model_id": "2b113e9207064e43899c53eab79aea93",
       "version_major": 2,
       "version_minor": 0
      },
      "text/plain": [
       "HBox(children=(IntProgress(value=0, description='Training iteration', max=101, style=ProgressStyle(description…"
      ]
     },
     "metadata": {},
     "output_type": "display_data"
    },
    {
     "name": "stdout",
     "output_type": "stream",
     "text": [
      "\n"
     ]
    },
    {
     "data": {
      "application/vnd.jupyter.widget-view+json": {
       "model_id": "2b8e34b352cc4a1f9ec54a8b6e226240",
       "version_major": 2,
       "version_minor": 0
      },
      "text/plain": [
       "HBox(children=(IntProgress(value=0, description='Evaluation iteration', max=21, style=ProgressStyle(descriptio…"
      ]
     },
     "metadata": {},
     "output_type": "display_data"
    },
    {
     "name": "stderr",
     "output_type": "stream",
     "text": [
      "\r",
      "Epoch:  60%|██████    | 12/20 [04:33<03:01, 22.70s/it]"
     ]
    },
    {
     "name": "stdout",
     "output_type": "stream",
     "text": [
      "\n",
      "Loss history: [0.30596598982810974, 0.1507664727313178, 0.11931708384127844, 0.11117950365656898, 0.1041934188632738, 0.09803373189199538, 0.0958831338655381, 0.09382759992565427, 0.09230891118446986, 0.09414645248935335, 0.09137638232537679]\n",
      "Dev loss: 0.09184618152323223\n"
     ]
    },
    {
     "data": {
      "application/vnd.jupyter.widget-view+json": {
       "model_id": "bf9f81bb5148478191a02cef52638a61",
       "version_major": 2,
       "version_minor": 0
      },
      "text/plain": [
       "HBox(children=(IntProgress(value=0, description='Training iteration', max=101, style=ProgressStyle(description…"
      ]
     },
     "metadata": {},
     "output_type": "display_data"
    },
    {
     "name": "stdout",
     "output_type": "stream",
     "text": [
      "\n"
     ]
    },
    {
     "data": {
      "application/vnd.jupyter.widget-view+json": {
       "model_id": "0ac503309f7d40d2b4e215738c2c50f1",
       "version_major": 2,
       "version_minor": 0
      },
      "text/plain": [
       "HBox(children=(IntProgress(value=0, description='Evaluation iteration', max=21, style=ProgressStyle(descriptio…"
      ]
     },
     "metadata": {},
     "output_type": "display_data"
    },
    {
     "name": "stderr",
     "output_type": "stream",
     "text": [
      "\r",
      "Epoch:  65%|██████▌   | 13/20 [04:56<02:38, 22.63s/it]"
     ]
    },
    {
     "name": "stdout",
     "output_type": "stream",
     "text": [
      "\n",
      "Loss history: [0.30596598982810974, 0.1507664727313178, 0.11931708384127844, 0.11117950365656898, 0.1041934188632738, 0.09803373189199538, 0.0958831338655381, 0.09382759992565427, 0.09230891118446986, 0.09414645248935335, 0.09137638232537679, 0.09184618152323223]\n",
      "Dev loss: 0.09198879876307078\n"
     ]
    },
    {
     "data": {
      "application/vnd.jupyter.widget-view+json": {
       "model_id": "14c5a50fe7fd4886ac98d03a7d549a0a",
       "version_major": 2,
       "version_minor": 0
      },
      "text/plain": [
       "HBox(children=(IntProgress(value=0, description='Training iteration', max=101, style=ProgressStyle(description…"
      ]
     },
     "metadata": {},
     "output_type": "display_data"
    },
    {
     "name": "stdout",
     "output_type": "stream",
     "text": [
      "\n"
     ]
    },
    {
     "data": {
      "application/vnd.jupyter.widget-view+json": {
       "model_id": "d0f11f80f87c443087b073b8353514ed",
       "version_major": 2,
       "version_minor": 0
      },
      "text/plain": [
       "HBox(children=(IntProgress(value=0, description='Evaluation iteration', max=21, style=ProgressStyle(descriptio…"
      ]
     },
     "metadata": {},
     "output_type": "display_data"
    },
    {
     "name": "stderr",
     "output_type": "stream",
     "text": [
      "\r",
      "Epoch:  70%|███████   | 14/20 [05:18<02:15, 22.58s/it]"
     ]
    },
    {
     "name": "stdout",
     "output_type": "stream",
     "text": [
      "\n",
      "Loss history: [0.30596598982810974, 0.1507664727313178, 0.11931708384127844, 0.11117950365656898, 0.1041934188632738, 0.09803373189199538, 0.0958831338655381, 0.09382759992565427, 0.09230891118446986, 0.09414645248935335, 0.09137638232537679, 0.09184618152323223, 0.09198879876307078]\n",
      "Dev loss: 0.09415474285682042\n"
     ]
    },
    {
     "data": {
      "application/vnd.jupyter.widget-view+json": {
       "model_id": "63659258cbd04daa91aa2eb78211153b",
       "version_major": 2,
       "version_minor": 0
      },
      "text/plain": [
       "HBox(children=(IntProgress(value=0, description='Training iteration', max=101, style=ProgressStyle(description…"
      ]
     },
     "metadata": {},
     "output_type": "display_data"
    },
    {
     "name": "stdout",
     "output_type": "stream",
     "text": [
      "\n"
     ]
    },
    {
     "data": {
      "application/vnd.jupyter.widget-view+json": {
       "model_id": "5983b2977fff435f99f33f896cae1f10",
       "version_major": 2,
       "version_minor": 0
      },
      "text/plain": [
       "HBox(children=(IntProgress(value=0, description='Evaluation iteration', max=21, style=ProgressStyle(descriptio…"
      ]
     },
     "metadata": {},
     "output_type": "display_data"
    },
    {
     "name": "stderr",
     "output_type": "stream",
     "text": [
      "\r",
      "Epoch:  75%|███████▌  | 15/20 [05:41<01:52, 22.54s/it]"
     ]
    },
    {
     "name": "stdout",
     "output_type": "stream",
     "text": [
      "\n",
      "Loss history: [0.30596598982810974, 0.1507664727313178, 0.11931708384127844, 0.11117950365656898, 0.1041934188632738, 0.09803373189199538, 0.0958831338655381, 0.09382759992565427, 0.09230891118446986, 0.09414645248935335, 0.09137638232537679, 0.09184618152323223, 0.09198879876307078, 0.09415474285682042]\n",
      "Dev loss: 0.09301347108114333\n"
     ]
    },
    {
     "data": {
      "application/vnd.jupyter.widget-view+json": {
       "model_id": "2528b60bdade4b84b57e629e8c0d4624",
       "version_major": 2,
       "version_minor": 0
      },
      "text/plain": [
       "HBox(children=(IntProgress(value=0, description='Training iteration', max=101, style=ProgressStyle(description…"
      ]
     },
     "metadata": {},
     "output_type": "display_data"
    },
    {
     "name": "stdout",
     "output_type": "stream",
     "text": [
      "\n"
     ]
    },
    {
     "data": {
      "application/vnd.jupyter.widget-view+json": {
       "model_id": "a4ea5bc9c2d94143b01465b9017feff5",
       "version_major": 2,
       "version_minor": 0
      },
      "text/plain": [
       "HBox(children=(IntProgress(value=0, description='Evaluation iteration', max=21, style=ProgressStyle(descriptio…"
      ]
     },
     "metadata": {},
     "output_type": "display_data"
    },
    {
     "name": "stdout",
     "output_type": "stream",
     "text": [
      "\n",
      "Loss history: [0.30596598982810974, 0.1507664727313178, 0.11931708384127844, 0.11117950365656898, 0.1041934188632738, 0.09803373189199538, 0.0958831338655381, 0.09382759992565427, 0.09230891118446986, 0.09414645248935335, 0.09137638232537679, 0.09184618152323223, 0.09198879876307078, 0.09415474285682042, 0.09301347108114333]\n",
      "Dev loss: 0.09485848815668196\n",
      "No improvement on development set. Finish training.\n",
      "Loading model from /tmp/model.bin\n"
     ]
    },
    {
     "name": "stderr",
     "output_type": "stream",
     "text": [
      "I0327 11:57:55.881546 139635286574912 configuration_utils.py:256] loading configuration file https://s3.amazonaws.com/models.huggingface.co/bert/bert-base-uncased-config.json from cache at /home/yves/.cache/torch/transformers/4dad0251492946e18ac39290fcfe91b89d370fee250efe9521476438fe8ca185.8f56353af4a709bf5ff0fbc915d8f5b42bfff892cbb6ac98c3c45f481a03c685\n",
      "I0327 11:57:55.883128 139635286574912 configuration_utils.py:292] Model config BertConfig {\n",
      "  \"architectures\": [\n",
      "    \"BertForMaskedLM\"\n",
      "  ],\n",
      "  \"attention_probs_dropout_prob\": 0.1,\n",
      "  \"bos_token_id\": null,\n",
      "  \"do_sample\": false,\n",
      "  \"eos_token_ids\": null,\n",
      "  \"finetuning_task\": null,\n",
      "  \"hidden_act\": \"gelu\",\n",
      "  \"hidden_dropout_prob\": 0.1,\n",
      "  \"hidden_size\": 768,\n",
      "  \"id2label\": {\n",
      "    \"0\": \"LABEL_0\",\n",
      "    \"1\": \"LABEL_1\"\n",
      "  },\n",
      "  \"initializer_range\": 0.02,\n",
      "  \"intermediate_size\": 3072,\n",
      "  \"is_decoder\": false,\n",
      "  \"label2id\": {\n",
      "    \"LABEL_0\": 0,\n",
      "    \"LABEL_1\": 1\n",
      "  },\n",
      "  \"layer_norm_eps\": 1e-12,\n",
      "  \"length_penalty\": 1.0,\n",
      "  \"max_length\": 20,\n",
      "  \"max_position_embeddings\": 512,\n",
      "  \"model_type\": \"bert\",\n",
      "  \"num_attention_heads\": 12,\n",
      "  \"num_beams\": 1,\n",
      "  \"num_hidden_layers\": 12,\n",
      "  \"num_labels\": 42,\n",
      "  \"num_return_sequences\": 1,\n",
      "  \"output_attentions\": false,\n",
      "  \"output_hidden_states\": false,\n",
      "  \"output_past\": true,\n",
      "  \"pad_token_id\": null,\n",
      "  \"pruned_heads\": {},\n",
      "  \"repetition_penalty\": 1.0,\n",
      "  \"temperature\": 1.0,\n",
      "  \"top_k\": 50,\n",
      "  \"top_p\": 1.0,\n",
      "  \"torchscript\": false,\n",
      "  \"type_vocab_size\": 2,\n",
      "  \"use_bfloat16\": false,\n",
      "  \"vocab_size\": 30522\n",
      "}\n",
      "\n",
      "I0327 11:57:56.338454 139635286574912 modeling_utils.py:461] loading weights file https://s3.amazonaws.com/models.huggingface.co/bert/bert-base-uncased-pytorch_model.bin from cache at /home/yves/.cache/torch/transformers/aa1ef1aede4482d0dbcd4d52baad8ae300e60902e88fcb0bebdec09afd232066.36ca03ab34a1a5d5fa7bc3d03d55c4fa650fed07220e2eeebc06ce58d0e9a157\n"
     ]
    },
    {
     "data": {
      "application/vnd.jupyter.widget-view+json": {
       "model_id": "8548cd76f5ff4e84a5e7d00a1fc934e2",
       "version_major": 2,
       "version_minor": 0
      },
      "text/plain": [
       "HBox(children=(IntProgress(value=0, description='Evaluation iteration', max=31, style=ProgressStyle(descriptio…"
      ]
     },
     "metadata": {},
     "output_type": "display_data"
    },
    {
     "name": "stdout",
     "output_type": "stream",
     "text": [
      "\n",
      "Data size: 483\n",
      "P: 236 / 289 = 0.8166089965397924\n",
      "R: 236 / 574 = 0.41114982578397213\n",
      "F: 0.5469293163383546\n",
      "A: 0.3747412008281574\n",
      "AL1: 0.4244306418219462\n",
      "Train size: 1608\n",
      "Final train dataloader length: 101\n"
     ]
    },
    {
     "name": "stderr",
     "output_type": "stream",
     "text": [
      "I0327 11:58:10.126276 139635286574912 configuration_utils.py:256] loading configuration file https://s3.amazonaws.com/models.huggingface.co/bert/bert-base-uncased-config.json from cache at /home/yves/.cache/torch/transformers/4dad0251492946e18ac39290fcfe91b89d370fee250efe9521476438fe8ca185.8f56353af4a709bf5ff0fbc915d8f5b42bfff892cbb6ac98c3c45f481a03c685\n",
      "I0327 11:58:10.127828 139635286574912 configuration_utils.py:292] Model config BertConfig {\n",
      "  \"architectures\": [\n",
      "    \"BertForMaskedLM\"\n",
      "  ],\n",
      "  \"attention_probs_dropout_prob\": 0.1,\n",
      "  \"bos_token_id\": null,\n",
      "  \"do_sample\": false,\n",
      "  \"eos_token_ids\": null,\n",
      "  \"finetuning_task\": null,\n",
      "  \"hidden_act\": \"gelu\",\n",
      "  \"hidden_dropout_prob\": 0.1,\n",
      "  \"hidden_size\": 768,\n",
      "  \"id2label\": {\n",
      "    \"0\": \"LABEL_0\",\n",
      "    \"1\": \"LABEL_1\"\n",
      "  },\n",
      "  \"initializer_range\": 0.02,\n",
      "  \"intermediate_size\": 3072,\n",
      "  \"is_decoder\": false,\n",
      "  \"label2id\": {\n",
      "    \"LABEL_0\": 0,\n",
      "    \"LABEL_1\": 1\n",
      "  },\n",
      "  \"layer_norm_eps\": 1e-12,\n",
      "  \"length_penalty\": 1.0,\n",
      "  \"max_length\": 20,\n",
      "  \"max_position_embeddings\": 512,\n",
      "  \"model_type\": \"bert\",\n",
      "  \"num_attention_heads\": 12,\n",
      "  \"num_beams\": 1,\n",
      "  \"num_hidden_layers\": 12,\n",
      "  \"num_labels\": 42,\n",
      "  \"num_return_sequences\": 1,\n",
      "  \"output_attentions\": false,\n",
      "  \"output_hidden_states\": false,\n",
      "  \"output_past\": true,\n",
      "  \"pad_token_id\": null,\n",
      "  \"pruned_heads\": {},\n",
      "  \"repetition_penalty\": 1.0,\n",
      "  \"temperature\": 1.0,\n",
      "  \"top_k\": 50,\n",
      "  \"top_p\": 1.0,\n",
      "  \"torchscript\": false,\n",
      "  \"type_vocab_size\": 2,\n",
      "  \"use_bfloat16\": false,\n",
      "  \"vocab_size\": 30522\n",
      "}\n",
      "\n",
      "I0327 11:58:10.597553 139635286574912 modeling_utils.py:461] loading weights file https://s3.amazonaws.com/models.huggingface.co/bert/bert-base-uncased-pytorch_model.bin from cache at /home/yves/.cache/torch/transformers/aa1ef1aede4482d0dbcd4d52baad8ae300e60902e88fcb0bebdec09afd232066.36ca03ab34a1a5d5fa7bc3d03d55c4fa650fed07220e2eeebc06ce58d0e9a157\n",
      "I0327 11:58:12.257059 139635286574912 modeling_utils.py:546] Weights of BertForMultiLabelSequenceClassification not initialized from pretrained model: ['classifier.weight', 'classifier.bias']\n",
      "I0327 11:58:12.257817 139635286574912 modeling_utils.py:552] Weights from pretrained model not used in BertForMultiLabelSequenceClassification: ['cls.predictions.bias', 'cls.predictions.transform.dense.weight', 'cls.predictions.transform.dense.bias', 'cls.predictions.decoder.weight', 'cls.seq_relationship.weight', 'cls.seq_relationship.bias', 'cls.predictions.transform.LayerNorm.weight', 'cls.predictions.transform.LayerNorm.bias']\n",
      "\n",
      "Epoch:   0%|          | 0/20 [00:00<?, ?it/s]\u001b[A"
     ]
    },
    {
     "data": {
      "application/vnd.jupyter.widget-view+json": {
       "model_id": "4a525f549b854d5c9efc58d64f9f2867",
       "version_major": 2,
       "version_minor": 0
      },
      "text/plain": [
       "HBox(children=(IntProgress(value=0, description='Training iteration', max=101, style=ProgressStyle(description…"
      ]
     },
     "metadata": {},
     "output_type": "display_data"
    },
    {
     "name": "stdout",
     "output_type": "stream",
     "text": [
      "\n"
     ]
    },
    {
     "data": {
      "application/vnd.jupyter.widget-view+json": {
       "model_id": "226a767729b840ecbed9f02105323f07",
       "version_major": 2,
       "version_minor": 0
      },
      "text/plain": [
       "HBox(children=(IntProgress(value=0, description='Evaluation iteration', max=21, style=ProgressStyle(descriptio…"
      ]
     },
     "metadata": {},
     "output_type": "display_data"
    },
    {
     "name": "stdout",
     "output_type": "stream",
     "text": [
      "\n",
      "Loss history: []\n",
      "Dev loss: 0.2887442963463919\n"
     ]
    },
    {
     "name": "stderr",
     "output_type": "stream",
     "text": [
      "\n",
      "Epoch:   5%|▌         | 1/20 [00:22<07:13, 22.79s/it]\u001b[A"
     ]
    },
    {
     "data": {
      "application/vnd.jupyter.widget-view+json": {
       "model_id": "fe51d9a6679d49a0acc5964a62235a7f",
       "version_major": 2,
       "version_minor": 0
      },
      "text/plain": [
       "HBox(children=(IntProgress(value=0, description='Training iteration', max=101, style=ProgressStyle(description…"
      ]
     },
     "metadata": {},
     "output_type": "display_data"
    },
    {
     "name": "stdout",
     "output_type": "stream",
     "text": [
      "\n"
     ]
    },
    {
     "data": {
      "application/vnd.jupyter.widget-view+json": {
       "model_id": "e5a051d8a4b94bfe879e37b6cff9e718",
       "version_major": 2,
       "version_minor": 0
      },
      "text/plain": [
       "HBox(children=(IntProgress(value=0, description='Evaluation iteration', max=21, style=ProgressStyle(descriptio…"
      ]
     },
     "metadata": {},
     "output_type": "display_data"
    },
    {
     "name": "stdout",
     "output_type": "stream",
     "text": [
      "\n",
      "Loss history: [0.2887442963463919]\n",
      "Dev loss: 0.13916770900998796\n"
     ]
    },
    {
     "name": "stderr",
     "output_type": "stream",
     "text": [
      "\n",
      "Epoch:  10%|█         | 2/20 [00:45<06:50, 22.80s/it]\u001b[A"
     ]
    },
    {
     "data": {
      "application/vnd.jupyter.widget-view+json": {
       "model_id": "e20915af500d432a9122f9152a991366",
       "version_major": 2,
       "version_minor": 0
      },
      "text/plain": [
       "HBox(children=(IntProgress(value=0, description='Training iteration', max=101, style=ProgressStyle(description…"
      ]
     },
     "metadata": {},
     "output_type": "display_data"
    },
    {
     "name": "stdout",
     "output_type": "stream",
     "text": [
      "\n"
     ]
    },
    {
     "data": {
      "application/vnd.jupyter.widget-view+json": {
       "model_id": "c1f3b1aec7094284bb060c049f4570b2",
       "version_major": 2,
       "version_minor": 0
      },
      "text/plain": [
       "HBox(children=(IntProgress(value=0, description='Evaluation iteration', max=21, style=ProgressStyle(descriptio…"
      ]
     },
     "metadata": {},
     "output_type": "display_data"
    },
    {
     "name": "stdout",
     "output_type": "stream",
     "text": [
      "\n",
      "Loss history: [0.2887442963463919, 0.13916770900998796]\n",
      "Dev loss: 0.11519329036985125\n"
     ]
    },
    {
     "name": "stderr",
     "output_type": "stream",
     "text": [
      "\n",
      "Epoch:  15%|█▌        | 3/20 [01:08<06:28, 22.82s/it]\u001b[A"
     ]
    },
    {
     "data": {
      "application/vnd.jupyter.widget-view+json": {
       "model_id": "b317fab881ae4c43bd002461b7320fc4",
       "version_major": 2,
       "version_minor": 0
      },
      "text/plain": [
       "HBox(children=(IntProgress(value=0, description='Training iteration', max=101, style=ProgressStyle(description…"
      ]
     },
     "metadata": {},
     "output_type": "display_data"
    },
    {
     "name": "stdout",
     "output_type": "stream",
     "text": [
      "\n"
     ]
    },
    {
     "data": {
      "application/vnd.jupyter.widget-view+json": {
       "model_id": "5760455a78cf4038b0af089a68b6a08f",
       "version_major": 2,
       "version_minor": 0
      },
      "text/plain": [
       "HBox(children=(IntProgress(value=0, description='Evaluation iteration', max=21, style=ProgressStyle(descriptio…"
      ]
     },
     "metadata": {},
     "output_type": "display_data"
    },
    {
     "name": "stdout",
     "output_type": "stream",
     "text": [
      "\n",
      "Loss history: [0.2887442963463919, 0.13916770900998796, 0.11519329036985125]\n",
      "Dev loss: 0.10683470787036986\n"
     ]
    },
    {
     "name": "stderr",
     "output_type": "stream",
     "text": [
      "\n",
      "Epoch:  20%|██        | 4/20 [01:31<06:05, 22.84s/it]\u001b[A"
     ]
    },
    {
     "data": {
      "application/vnd.jupyter.widget-view+json": {
       "model_id": "2d690c99a01f44b7a188e7d3a800f7d6",
       "version_major": 2,
       "version_minor": 0
      },
      "text/plain": [
       "HBox(children=(IntProgress(value=0, description='Training iteration', max=101, style=ProgressStyle(description…"
      ]
     },
     "metadata": {},
     "output_type": "display_data"
    },
    {
     "name": "stdout",
     "output_type": "stream",
     "text": [
      "\n"
     ]
    },
    {
     "data": {
      "application/vnd.jupyter.widget-view+json": {
       "model_id": "23133f305ab6472ab8e8ceb49864f083",
       "version_major": 2,
       "version_minor": 0
      },
      "text/plain": [
       "HBox(children=(IntProgress(value=0, description='Evaluation iteration', max=21, style=ProgressStyle(descriptio…"
      ]
     },
     "metadata": {},
     "output_type": "display_data"
    },
    {
     "name": "stdout",
     "output_type": "stream",
     "text": [
      "\n",
      "Loss history: [0.2887442963463919, 0.13916770900998796, 0.11519329036985125, 0.10683470787036986]\n",
      "Dev loss: 0.10226854114305406\n"
     ]
    },
    {
     "name": "stderr",
     "output_type": "stream",
     "text": [
      "\n",
      "Epoch:  25%|██▌       | 5/20 [01:54<05:42, 22.86s/it]\u001b[A"
     ]
    },
    {
     "data": {
      "application/vnd.jupyter.widget-view+json": {
       "model_id": "8726c1cef13e4983875388b7d2d05f2b",
       "version_major": 2,
       "version_minor": 0
      },
      "text/plain": [
       "HBox(children=(IntProgress(value=0, description='Training iteration', max=101, style=ProgressStyle(description…"
      ]
     },
     "metadata": {},
     "output_type": "display_data"
    },
    {
     "name": "stdout",
     "output_type": "stream",
     "text": [
      "\n"
     ]
    },
    {
     "data": {
      "application/vnd.jupyter.widget-view+json": {
       "model_id": "78e0b4efd180430384b46fdf7f01c432",
       "version_major": 2,
       "version_minor": 0
      },
      "text/plain": [
       "HBox(children=(IntProgress(value=0, description='Evaluation iteration', max=21, style=ProgressStyle(descriptio…"
      ]
     },
     "metadata": {},
     "output_type": "display_data"
    },
    {
     "name": "stdout",
     "output_type": "stream",
     "text": [
      "\n",
      "Loss history: [0.2887442963463919, 0.13916770900998796, 0.11519329036985125, 0.10683470787036986, 0.10226854114305406]\n",
      "Dev loss: 0.09847478816906612\n"
     ]
    },
    {
     "name": "stderr",
     "output_type": "stream",
     "text": [
      "\n",
      "Epoch:  30%|███       | 6/20 [02:17<05:20, 22.87s/it]\u001b[A"
     ]
    },
    {
     "data": {
      "application/vnd.jupyter.widget-view+json": {
       "model_id": "68f43b9db1a04edcaa0cf9dccb661700",
       "version_major": 2,
       "version_minor": 0
      },
      "text/plain": [
       "HBox(children=(IntProgress(value=0, description='Training iteration', max=101, style=ProgressStyle(description…"
      ]
     },
     "metadata": {},
     "output_type": "display_data"
    },
    {
     "name": "stdout",
     "output_type": "stream",
     "text": [
      "\n"
     ]
    },
    {
     "data": {
      "application/vnd.jupyter.widget-view+json": {
       "model_id": "283b0ea05553438b9593b58f9387d479",
       "version_major": 2,
       "version_minor": 0
      },
      "text/plain": [
       "HBox(children=(IntProgress(value=0, description='Evaluation iteration', max=21, style=ProgressStyle(descriptio…"
      ]
     },
     "metadata": {},
     "output_type": "display_data"
    },
    {
     "name": "stdout",
     "output_type": "stream",
     "text": [
      "\n",
      "Loss history: [0.2887442963463919, 0.13916770900998796, 0.11519329036985125, 0.10683470787036986, 0.10226854114305406, 0.09847478816906612]\n",
      "Dev loss: 0.09662508964538574\n"
     ]
    },
    {
     "name": "stderr",
     "output_type": "stream",
     "text": [
      "\n",
      "Epoch:  35%|███▌      | 7/20 [02:40<04:57, 22.88s/it]\u001b[A"
     ]
    },
    {
     "data": {
      "application/vnd.jupyter.widget-view+json": {
       "model_id": "d00d245f499f4d2aa978207b9235c081",
       "version_major": 2,
       "version_minor": 0
      },
      "text/plain": [
       "HBox(children=(IntProgress(value=0, description='Training iteration', max=101, style=ProgressStyle(description…"
      ]
     },
     "metadata": {},
     "output_type": "display_data"
    },
    {
     "name": "stdout",
     "output_type": "stream",
     "text": [
      "\n"
     ]
    },
    {
     "data": {
      "application/vnd.jupyter.widget-view+json": {
       "model_id": "a27614a798dd420b9e77fd7bb0999f35",
       "version_major": 2,
       "version_minor": 0
      },
      "text/plain": [
       "HBox(children=(IntProgress(value=0, description='Evaluation iteration', max=21, style=ProgressStyle(descriptio…"
      ]
     },
     "metadata": {},
     "output_type": "display_data"
    },
    {
     "name": "stderr",
     "output_type": "stream",
     "text": [
      "\n",
      "Epoch:  40%|████      | 8/20 [03:02<04:33, 22.76s/it]\u001b[A"
     ]
    },
    {
     "name": "stdout",
     "output_type": "stream",
     "text": [
      "\n",
      "Loss history: [0.2887442963463919, 0.13916770900998796, 0.11519329036985125, 0.10683470787036986, 0.10226854114305406, 0.09847478816906612, 0.09662508964538574]\n",
      "Dev loss: 0.09966090250582922\n"
     ]
    },
    {
     "data": {
      "application/vnd.jupyter.widget-view+json": {
       "model_id": "1f12ac51ccf04675bb7fa163b148083f",
       "version_major": 2,
       "version_minor": 0
      },
      "text/plain": [
       "HBox(children=(IntProgress(value=0, description='Training iteration', max=101, style=ProgressStyle(description…"
      ]
     },
     "metadata": {},
     "output_type": "display_data"
    },
    {
     "name": "stdout",
     "output_type": "stream",
     "text": [
      "\n"
     ]
    },
    {
     "data": {
      "application/vnd.jupyter.widget-view+json": {
       "model_id": "bfd85e941d1d44aab6b2d8406990df4f",
       "version_major": 2,
       "version_minor": 0
      },
      "text/plain": [
       "HBox(children=(IntProgress(value=0, description='Evaluation iteration', max=21, style=ProgressStyle(descriptio…"
      ]
     },
     "metadata": {},
     "output_type": "display_data"
    },
    {
     "name": "stdout",
     "output_type": "stream",
     "text": [
      "\n",
      "Loss history: [0.2887442963463919, 0.13916770900998796, 0.11519329036985125, 0.10683470787036986, 0.10226854114305406, 0.09847478816906612, 0.09662508964538574, 0.09966090250582922]\n",
      "Dev loss: 0.0923369104663531\n"
     ]
    },
    {
     "name": "stderr",
     "output_type": "stream",
     "text": [
      "\n",
      "Epoch:  45%|████▌     | 9/20 [03:25<04:10, 22.80s/it]\u001b[A"
     ]
    },
    {
     "data": {
      "application/vnd.jupyter.widget-view+json": {
       "model_id": "6cc17f0eb42b4d42b57472a501c1810b",
       "version_major": 2,
       "version_minor": 0
      },
      "text/plain": [
       "HBox(children=(IntProgress(value=0, description='Training iteration', max=101, style=ProgressStyle(description…"
      ]
     },
     "metadata": {},
     "output_type": "display_data"
    },
    {
     "name": "stdout",
     "output_type": "stream",
     "text": [
      "\n"
     ]
    },
    {
     "data": {
      "application/vnd.jupyter.widget-view+json": {
       "model_id": "4a185643f5274026beae74528783698c",
       "version_major": 2,
       "version_minor": 0
      },
      "text/plain": [
       "HBox(children=(IntProgress(value=0, description='Evaluation iteration', max=21, style=ProgressStyle(descriptio…"
      ]
     },
     "metadata": {},
     "output_type": "display_data"
    },
    {
     "name": "stderr",
     "output_type": "stream",
     "text": [
      "\n",
      "Epoch:  50%|█████     | 10/20 [03:47<03:47, 22.70s/it]\u001b[A"
     ]
    },
    {
     "name": "stdout",
     "output_type": "stream",
     "text": [
      "\n",
      "Loss history: [0.2887442963463919, 0.13916770900998796, 0.11519329036985125, 0.10683470787036986, 0.10226854114305406, 0.09847478816906612, 0.09662508964538574, 0.09966090250582922, 0.0923369104663531]\n",
      "Dev loss: 0.09564032334656943\n"
     ]
    },
    {
     "data": {
      "application/vnd.jupyter.widget-view+json": {
       "model_id": "5466819b31a14a84b8eb578a517c6c37",
       "version_major": 2,
       "version_minor": 0
      },
      "text/plain": [
       "HBox(children=(IntProgress(value=0, description='Training iteration', max=101, style=ProgressStyle(description…"
      ]
     },
     "metadata": {},
     "output_type": "display_data"
    },
    {
     "name": "stdout",
     "output_type": "stream",
     "text": [
      "\n"
     ]
    },
    {
     "data": {
      "application/vnd.jupyter.widget-view+json": {
       "model_id": "942f7963bd674cff8c10da55c42a5da6",
       "version_major": 2,
       "version_minor": 0
      },
      "text/plain": [
       "HBox(children=(IntProgress(value=0, description='Evaluation iteration', max=21, style=ProgressStyle(descriptio…"
      ]
     },
     "metadata": {},
     "output_type": "display_data"
    },
    {
     "name": "stderr",
     "output_type": "stream",
     "text": [
      "\n",
      "Epoch:  55%|█████▌    | 11/20 [04:10<03:23, 22.63s/it]\u001b[A"
     ]
    },
    {
     "name": "stdout",
     "output_type": "stream",
     "text": [
      "\n",
      "Loss history: [0.2887442963463919, 0.13916770900998796, 0.11519329036985125, 0.10683470787036986, 0.10226854114305406, 0.09847478816906612, 0.09662508964538574, 0.09966090250582922, 0.0923369104663531, 0.09564032334656943]\n",
      "Dev loss: 0.09670983325867426\n"
     ]
    },
    {
     "data": {
      "application/vnd.jupyter.widget-view+json": {
       "model_id": "a9c47af1caa241728aa18e28be43828b",
       "version_major": 2,
       "version_minor": 0
      },
      "text/plain": [
       "HBox(children=(IntProgress(value=0, description='Training iteration', max=101, style=ProgressStyle(description…"
      ]
     },
     "metadata": {},
     "output_type": "display_data"
    },
    {
     "name": "stdout",
     "output_type": "stream",
     "text": [
      "\n"
     ]
    },
    {
     "data": {
      "application/vnd.jupyter.widget-view+json": {
       "model_id": "41747a6eb16f4860af097d5e7a7eb7f9",
       "version_major": 2,
       "version_minor": 0
      },
      "text/plain": [
       "HBox(children=(IntProgress(value=0, description='Evaluation iteration', max=21, style=ProgressStyle(descriptio…"
      ]
     },
     "metadata": {},
     "output_type": "display_data"
    },
    {
     "name": "stderr",
     "output_type": "stream",
     "text": [
      "\n",
      "Epoch:  60%|██████    | 12/20 [04:32<03:00, 22.58s/it]\u001b[A"
     ]
    },
    {
     "name": "stdout",
     "output_type": "stream",
     "text": [
      "\n",
      "Loss history: [0.2887442963463919, 0.13916770900998796, 0.11519329036985125, 0.10683470787036986, 0.10226854114305406, 0.09847478816906612, 0.09662508964538574, 0.09966090250582922, 0.0923369104663531, 0.09564032334656943, 0.09670983325867426]\n",
      "Dev loss: 0.0960815396337282\n"
     ]
    },
    {
     "data": {
      "application/vnd.jupyter.widget-view+json": {
       "model_id": "afe54201316f47ebb34bee3821b94b9d",
       "version_major": 2,
       "version_minor": 0
      },
      "text/plain": [
       "HBox(children=(IntProgress(value=0, description='Training iteration', max=101, style=ProgressStyle(description…"
      ]
     },
     "metadata": {},
     "output_type": "display_data"
    },
    {
     "name": "stdout",
     "output_type": "stream",
     "text": [
      "\n"
     ]
    },
    {
     "data": {
      "application/vnd.jupyter.widget-view+json": {
       "model_id": "6bb8444d37334c1a9935daceb034013f",
       "version_major": 2,
       "version_minor": 0
      },
      "text/plain": [
       "HBox(children=(IntProgress(value=0, description='Evaluation iteration', max=21, style=ProgressStyle(descriptio…"
      ]
     },
     "metadata": {},
     "output_type": "display_data"
    },
    {
     "name": "stderr",
     "output_type": "stream",
     "text": [
      "\n",
      "Epoch:  65%|██████▌   | 13/20 [04:55<02:37, 22.55s/it]\u001b[A"
     ]
    },
    {
     "name": "stdout",
     "output_type": "stream",
     "text": [
      "\n",
      "Loss history: [0.2887442963463919, 0.13916770900998796, 0.11519329036985125, 0.10683470787036986, 0.10226854114305406, 0.09847478816906612, 0.09662508964538574, 0.09966090250582922, 0.0923369104663531, 0.09564032334656943, 0.09670983325867426, 0.0960815396337282]\n",
      "Dev loss: 0.10075830277942475\n"
     ]
    },
    {
     "data": {
      "application/vnd.jupyter.widget-view+json": {
       "model_id": "4c74097ee0414bb7bd0f03bf91d11d4f",
       "version_major": 2,
       "version_minor": 0
      },
      "text/plain": [
       "HBox(children=(IntProgress(value=0, description='Training iteration', max=101, style=ProgressStyle(description…"
      ]
     },
     "metadata": {},
     "output_type": "display_data"
    },
    {
     "name": "stdout",
     "output_type": "stream",
     "text": [
      "\n"
     ]
    },
    {
     "data": {
      "application/vnd.jupyter.widget-view+json": {
       "model_id": "efc067ad181643e4a6e3443917cec86f",
       "version_major": 2,
       "version_minor": 0
      },
      "text/plain": [
       "HBox(children=(IntProgress(value=0, description='Evaluation iteration', max=21, style=ProgressStyle(descriptio…"
      ]
     },
     "metadata": {},
     "output_type": "display_data"
    },
    {
     "name": "stdout",
     "output_type": "stream",
     "text": [
      "\n",
      "Loss history: [0.2887442963463919, 0.13916770900998796, 0.11519329036985125, 0.10683470787036986, 0.10226854114305406, 0.09847478816906612, 0.09662508964538574, 0.09966090250582922, 0.0923369104663531, 0.09564032334656943, 0.09670983325867426, 0.0960815396337282, 0.10075830277942475]\n",
      "Dev loss: 0.09583378867024467\n",
      "No improvement on development set. Finish training.\n",
      "Loading model from /tmp/model.bin\n"
     ]
    },
    {
     "name": "stderr",
     "output_type": "stream",
     "text": [
      "I0327 12:03:30.887413 139635286574912 configuration_utils.py:256] loading configuration file https://s3.amazonaws.com/models.huggingface.co/bert/bert-base-uncased-config.json from cache at /home/yves/.cache/torch/transformers/4dad0251492946e18ac39290fcfe91b89d370fee250efe9521476438fe8ca185.8f56353af4a709bf5ff0fbc915d8f5b42bfff892cbb6ac98c3c45f481a03c685\n",
      "I0327 12:03:30.889054 139635286574912 configuration_utils.py:292] Model config BertConfig {\n",
      "  \"architectures\": [\n",
      "    \"BertForMaskedLM\"\n",
      "  ],\n",
      "  \"attention_probs_dropout_prob\": 0.1,\n",
      "  \"bos_token_id\": null,\n",
      "  \"do_sample\": false,\n",
      "  \"eos_token_ids\": null,\n",
      "  \"finetuning_task\": null,\n",
      "  \"hidden_act\": \"gelu\",\n",
      "  \"hidden_dropout_prob\": 0.1,\n",
      "  \"hidden_size\": 768,\n",
      "  \"id2label\": {\n",
      "    \"0\": \"LABEL_0\",\n",
      "    \"1\": \"LABEL_1\"\n",
      "  },\n",
      "  \"initializer_range\": 0.02,\n",
      "  \"intermediate_size\": 3072,\n",
      "  \"is_decoder\": false,\n",
      "  \"label2id\": {\n",
      "    \"LABEL_0\": 0,\n",
      "    \"LABEL_1\": 1\n",
      "  },\n",
      "  \"layer_norm_eps\": 1e-12,\n",
      "  \"length_penalty\": 1.0,\n",
      "  \"max_length\": 20,\n",
      "  \"max_position_embeddings\": 512,\n",
      "  \"model_type\": \"bert\",\n",
      "  \"num_attention_heads\": 12,\n",
      "  \"num_beams\": 1,\n",
      "  \"num_hidden_layers\": 12,\n",
      "  \"num_labels\": 42,\n",
      "  \"num_return_sequences\": 1,\n",
      "  \"output_attentions\": false,\n",
      "  \"output_hidden_states\": false,\n",
      "  \"output_past\": true,\n",
      "  \"pad_token_id\": null,\n",
      "  \"pruned_heads\": {},\n",
      "  \"repetition_penalty\": 1.0,\n",
      "  \"temperature\": 1.0,\n",
      "  \"top_k\": 50,\n",
      "  \"top_p\": 1.0,\n",
      "  \"torchscript\": false,\n",
      "  \"type_vocab_size\": 2,\n",
      "  \"use_bfloat16\": false,\n",
      "  \"vocab_size\": 30522\n",
      "}\n",
      "\n",
      "I0327 12:03:31.356651 139635286574912 modeling_utils.py:461] loading weights file https://s3.amazonaws.com/models.huggingface.co/bert/bert-base-uncased-pytorch_model.bin from cache at /home/yves/.cache/torch/transformers/aa1ef1aede4482d0dbcd4d52baad8ae300e60902e88fcb0bebdec09afd232066.36ca03ab34a1a5d5fa7bc3d03d55c4fa650fed07220e2eeebc06ce58d0e9a157\n"
     ]
    },
    {
     "data": {
      "application/vnd.jupyter.widget-view+json": {
       "model_id": "931af7f2083249f2ade7dd25820d3da9",
       "version_major": 2,
       "version_minor": 0
      },
      "text/plain": [
       "HBox(children=(IntProgress(value=0, description='Evaluation iteration', max=31, style=ProgressStyle(descriptio…"
      ]
     },
     "metadata": {},
     "output_type": "display_data"
    },
    {
     "name": "stdout",
     "output_type": "stream",
     "text": [
      "\n",
      "Data size: 483\n",
      "P: 231 / 260 = 0.8884615384615384\n",
      "R: 231 / 589 = 0.3921901528013582\n",
      "F: 0.5441696113074205\n",
      "A: 0.35196687370600416\n",
      "AL1: 0.3995859213250518\n",
      "Train size: 1609\n",
      "Final train dataloader length: 101\n"
     ]
    },
    {
     "name": "stderr",
     "output_type": "stream",
     "text": [
      "I0327 12:03:45.178373 139635286574912 configuration_utils.py:256] loading configuration file https://s3.amazonaws.com/models.huggingface.co/bert/bert-base-uncased-config.json from cache at /home/yves/.cache/torch/transformers/4dad0251492946e18ac39290fcfe91b89d370fee250efe9521476438fe8ca185.8f56353af4a709bf5ff0fbc915d8f5b42bfff892cbb6ac98c3c45f481a03c685\n",
      "I0327 12:03:45.179914 139635286574912 configuration_utils.py:292] Model config BertConfig {\n",
      "  \"architectures\": [\n",
      "    \"BertForMaskedLM\"\n",
      "  ],\n",
      "  \"attention_probs_dropout_prob\": 0.1,\n",
      "  \"bos_token_id\": null,\n",
      "  \"do_sample\": false,\n",
      "  \"eos_token_ids\": null,\n",
      "  \"finetuning_task\": null,\n",
      "  \"hidden_act\": \"gelu\",\n",
      "  \"hidden_dropout_prob\": 0.1,\n",
      "  \"hidden_size\": 768,\n",
      "  \"id2label\": {\n",
      "    \"0\": \"LABEL_0\",\n",
      "    \"1\": \"LABEL_1\"\n",
      "  },\n",
      "  \"initializer_range\": 0.02,\n",
      "  \"intermediate_size\": 3072,\n",
      "  \"is_decoder\": false,\n",
      "  \"label2id\": {\n",
      "    \"LABEL_0\": 0,\n",
      "    \"LABEL_1\": 1\n",
      "  },\n",
      "  \"layer_norm_eps\": 1e-12,\n",
      "  \"length_penalty\": 1.0,\n",
      "  \"max_length\": 20,\n",
      "  \"max_position_embeddings\": 512,\n",
      "  \"model_type\": \"bert\",\n",
      "  \"num_attention_heads\": 12,\n",
      "  \"num_beams\": 1,\n",
      "  \"num_hidden_layers\": 12,\n",
      "  \"num_labels\": 42,\n",
      "  \"num_return_sequences\": 1,\n",
      "  \"output_attentions\": false,\n",
      "  \"output_hidden_states\": false,\n",
      "  \"output_past\": true,\n",
      "  \"pad_token_id\": null,\n",
      "  \"pruned_heads\": {},\n",
      "  \"repetition_penalty\": 1.0,\n",
      "  \"temperature\": 1.0,\n",
      "  \"top_k\": 50,\n",
      "  \"top_p\": 1.0,\n",
      "  \"torchscript\": false,\n",
      "  \"type_vocab_size\": 2,\n",
      "  \"use_bfloat16\": false,\n",
      "  \"vocab_size\": 30522\n",
      "}\n",
      "\n",
      "I0327 12:03:45.629122 139635286574912 modeling_utils.py:461] loading weights file https://s3.amazonaws.com/models.huggingface.co/bert/bert-base-uncased-pytorch_model.bin from cache at /home/yves/.cache/torch/transformers/aa1ef1aede4482d0dbcd4d52baad8ae300e60902e88fcb0bebdec09afd232066.36ca03ab34a1a5d5fa7bc3d03d55c4fa650fed07220e2eeebc06ce58d0e9a157\n",
      "I0327 12:03:47.384078 139635286574912 modeling_utils.py:546] Weights of BertForMultiLabelSequenceClassification not initialized from pretrained model: ['classifier.weight', 'classifier.bias']\n",
      "I0327 12:03:47.384808 139635286574912 modeling_utils.py:552] Weights from pretrained model not used in BertForMultiLabelSequenceClassification: ['cls.predictions.bias', 'cls.predictions.transform.dense.weight', 'cls.predictions.transform.dense.bias', 'cls.predictions.decoder.weight', 'cls.seq_relationship.weight', 'cls.seq_relationship.bias', 'cls.predictions.transform.LayerNorm.weight', 'cls.predictions.transform.LayerNorm.bias']\n",
      "\n",
      "\n",
      "Epoch:   0%|          | 0/20 [00:00<?, ?it/s]\u001b[A\u001b[A"
     ]
    },
    {
     "data": {
      "application/vnd.jupyter.widget-view+json": {
       "model_id": "ea7059ee4f3a4d44a0ce4477e6fbab84",
       "version_major": 2,
       "version_minor": 0
      },
      "text/plain": [
       "HBox(children=(IntProgress(value=0, description='Training iteration', max=101, style=ProgressStyle(description…"
      ]
     },
     "metadata": {},
     "output_type": "display_data"
    },
    {
     "name": "stdout",
     "output_type": "stream",
     "text": [
      "\n"
     ]
    },
    {
     "data": {
      "application/vnd.jupyter.widget-view+json": {
       "model_id": "a7caa3e3e9bd435496b548e97c5dd18e",
       "version_major": 2,
       "version_minor": 0
      },
      "text/plain": [
       "HBox(children=(IntProgress(value=0, description='Evaluation iteration', max=21, style=ProgressStyle(descriptio…"
      ]
     },
     "metadata": {},
     "output_type": "display_data"
    },
    {
     "name": "stdout",
     "output_type": "stream",
     "text": [
      "\n",
      "Loss history: []\n",
      "Dev loss: 0.3171555172829401\n"
     ]
    },
    {
     "name": "stderr",
     "output_type": "stream",
     "text": [
      "\n",
      "\n",
      "Epoch:   5%|▌         | 1/20 [00:22<07:13, 22.80s/it]\u001b[A\u001b[A"
     ]
    },
    {
     "data": {
      "application/vnd.jupyter.widget-view+json": {
       "model_id": "3a0a21858f4c4224bdb2521628968475",
       "version_major": 2,
       "version_minor": 0
      },
      "text/plain": [
       "HBox(children=(IntProgress(value=0, description='Training iteration', max=101, style=ProgressStyle(description…"
      ]
     },
     "metadata": {},
     "output_type": "display_data"
    },
    {
     "name": "stdout",
     "output_type": "stream",
     "text": [
      "\n"
     ]
    },
    {
     "data": {
      "application/vnd.jupyter.widget-view+json": {
       "model_id": "2981d979b002417d9be618bdbcd5cb5d",
       "version_major": 2,
       "version_minor": 0
      },
      "text/plain": [
       "HBox(children=(IntProgress(value=0, description='Evaluation iteration', max=21, style=ProgressStyle(descriptio…"
      ]
     },
     "metadata": {},
     "output_type": "display_data"
    },
    {
     "name": "stdout",
     "output_type": "stream",
     "text": [
      "\n",
      "Loss history: [0.3171555172829401]\n",
      "Dev loss: 0.16555067258221762\n"
     ]
    },
    {
     "name": "stderr",
     "output_type": "stream",
     "text": [
      "\n",
      "\n",
      "Epoch:  10%|█         | 2/20 [00:45<06:50, 22.81s/it]\u001b[A\u001b[A"
     ]
    },
    {
     "data": {
      "application/vnd.jupyter.widget-view+json": {
       "model_id": "68d20ab965de4fe4941646e6d776225b",
       "version_major": 2,
       "version_minor": 0
      },
      "text/plain": [
       "HBox(children=(IntProgress(value=0, description='Training iteration', max=101, style=ProgressStyle(description…"
      ]
     },
     "metadata": {},
     "output_type": "display_data"
    },
    {
     "name": "stdout",
     "output_type": "stream",
     "text": [
      "\n"
     ]
    },
    {
     "data": {
      "application/vnd.jupyter.widget-view+json": {
       "model_id": "03d4ef789f014417bda26c4790605bd8",
       "version_major": 2,
       "version_minor": 0
      },
      "text/plain": [
       "HBox(children=(IntProgress(value=0, description='Evaluation iteration', max=21, style=ProgressStyle(descriptio…"
      ]
     },
     "metadata": {},
     "output_type": "display_data"
    },
    {
     "name": "stdout",
     "output_type": "stream",
     "text": [
      "\n",
      "Loss history: [0.3171555172829401, 0.16555067258221762]\n",
      "Dev loss: 0.13048235256047475\n"
     ]
    },
    {
     "name": "stderr",
     "output_type": "stream",
     "text": [
      "\n",
      "\n",
      "Epoch:  15%|█▌        | 3/20 [01:08<06:28, 22.83s/it]\u001b[A\u001b[A"
     ]
    },
    {
     "data": {
      "application/vnd.jupyter.widget-view+json": {
       "model_id": "29ff06d771594c4886b69baaeb78c40c",
       "version_major": 2,
       "version_minor": 0
      },
      "text/plain": [
       "HBox(children=(IntProgress(value=0, description='Training iteration', max=101, style=ProgressStyle(description…"
      ]
     },
     "metadata": {},
     "output_type": "display_data"
    },
    {
     "name": "stdout",
     "output_type": "stream",
     "text": [
      "\n"
     ]
    },
    {
     "data": {
      "application/vnd.jupyter.widget-view+json": {
       "model_id": "0a1f9e9ea2b7448e867eadee3e628c15",
       "version_major": 2,
       "version_minor": 0
      },
      "text/plain": [
       "HBox(children=(IntProgress(value=0, description='Evaluation iteration', max=21, style=ProgressStyle(descriptio…"
      ]
     },
     "metadata": {},
     "output_type": "display_data"
    },
    {
     "name": "stdout",
     "output_type": "stream",
     "text": [
      "\n",
      "Loss history: [0.3171555172829401, 0.16555067258221762, 0.13048235256047475]\n",
      "Dev loss: 0.11708040358055205\n"
     ]
    },
    {
     "name": "stderr",
     "output_type": "stream",
     "text": [
      "\n",
      "\n",
      "Epoch:  20%|██        | 4/20 [01:31<06:05, 22.85s/it]\u001b[A\u001b[A"
     ]
    },
    {
     "data": {
      "application/vnd.jupyter.widget-view+json": {
       "model_id": "79ec2c2b87054a5b80b5a1b13bf281fb",
       "version_major": 2,
       "version_minor": 0
      },
      "text/plain": [
       "HBox(children=(IntProgress(value=0, description='Training iteration', max=101, style=ProgressStyle(description…"
      ]
     },
     "metadata": {},
     "output_type": "display_data"
    },
    {
     "name": "stdout",
     "output_type": "stream",
     "text": [
      "\n"
     ]
    },
    {
     "data": {
      "application/vnd.jupyter.widget-view+json": {
       "model_id": "a8f903294b2d4f6ea6f81b45c0d34fa1",
       "version_major": 2,
       "version_minor": 0
      },
      "text/plain": [
       "HBox(children=(IntProgress(value=0, description='Evaluation iteration', max=21, style=ProgressStyle(descriptio…"
      ]
     },
     "metadata": {},
     "output_type": "display_data"
    },
    {
     "name": "stdout",
     "output_type": "stream",
     "text": [
      "\n",
      "Loss history: [0.3171555172829401, 0.16555067258221762, 0.13048235256047475, 0.11708040358055205]\n",
      "Dev loss: 0.10881199474845614\n"
     ]
    },
    {
     "name": "stderr",
     "output_type": "stream",
     "text": [
      "\n",
      "\n",
      "Epoch:  25%|██▌       | 5/20 [01:54<05:42, 22.86s/it]\u001b[A\u001b[A"
     ]
    },
    {
     "data": {
      "application/vnd.jupyter.widget-view+json": {
       "model_id": "819140dadd344e8bb2b110b7bc9f3112",
       "version_major": 2,
       "version_minor": 0
      },
      "text/plain": [
       "HBox(children=(IntProgress(value=0, description='Training iteration', max=101, style=ProgressStyle(description…"
      ]
     },
     "metadata": {},
     "output_type": "display_data"
    },
    {
     "name": "stdout",
     "output_type": "stream",
     "text": [
      "\n"
     ]
    },
    {
     "data": {
      "application/vnd.jupyter.widget-view+json": {
       "model_id": "a771949779be4b0f9f2d9a3682ad4196",
       "version_major": 2,
       "version_minor": 0
      },
      "text/plain": [
       "HBox(children=(IntProgress(value=0, description='Evaluation iteration', max=21, style=ProgressStyle(descriptio…"
      ]
     },
     "metadata": {},
     "output_type": "display_data"
    },
    {
     "name": "stdout",
     "output_type": "stream",
     "text": [
      "\n",
      "Loss history: [0.3171555172829401, 0.16555067258221762, 0.13048235256047475, 0.11708040358055205, 0.10881199474845614]\n",
      "Dev loss: 0.10311886242457799\n"
     ]
    },
    {
     "name": "stderr",
     "output_type": "stream",
     "text": [
      "\n",
      "\n",
      "Epoch:  30%|███       | 6/20 [02:17<05:20, 22.88s/it]\u001b[A\u001b[A"
     ]
    },
    {
     "data": {
      "application/vnd.jupyter.widget-view+json": {
       "model_id": "90f827fda2244b0a940405688c234815",
       "version_major": 2,
       "version_minor": 0
      },
      "text/plain": [
       "HBox(children=(IntProgress(value=0, description='Training iteration', max=101, style=ProgressStyle(description…"
      ]
     },
     "metadata": {},
     "output_type": "display_data"
    },
    {
     "name": "stdout",
     "output_type": "stream",
     "text": [
      "\n"
     ]
    },
    {
     "data": {
      "application/vnd.jupyter.widget-view+json": {
       "model_id": "a316c59ca0d74d5fa9556998ea22242a",
       "version_major": 2,
       "version_minor": 0
      },
      "text/plain": [
       "HBox(children=(IntProgress(value=0, description='Evaluation iteration', max=21, style=ProgressStyle(descriptio…"
      ]
     },
     "metadata": {},
     "output_type": "display_data"
    },
    {
     "name": "stdout",
     "output_type": "stream",
     "text": [
      "\n",
      "Loss history: [0.3171555172829401, 0.16555067258221762, 0.13048235256047475, 0.11708040358055205, 0.10881199474845614, 0.10311886242457799]\n",
      "Dev loss: 0.09982683864377793\n"
     ]
    },
    {
     "name": "stderr",
     "output_type": "stream",
     "text": [
      "\n",
      "\n",
      "Epoch:  35%|███▌      | 7/20 [02:40<04:57, 22.89s/it]\u001b[A\u001b[A"
     ]
    },
    {
     "data": {
      "application/vnd.jupyter.widget-view+json": {
       "model_id": "23044977d40e4607be468c7bd982b98f",
       "version_major": 2,
       "version_minor": 0
      },
      "text/plain": [
       "HBox(children=(IntProgress(value=0, description='Training iteration', max=101, style=ProgressStyle(description…"
      ]
     },
     "metadata": {},
     "output_type": "display_data"
    },
    {
     "name": "stdout",
     "output_type": "stream",
     "text": [
      "\n"
     ]
    },
    {
     "data": {
      "application/vnd.jupyter.widget-view+json": {
       "model_id": "e2476cfed681444d90596fa5e87d79f7",
       "version_major": 2,
       "version_minor": 0
      },
      "text/plain": [
       "HBox(children=(IntProgress(value=0, description='Evaluation iteration', max=21, style=ProgressStyle(descriptio…"
      ]
     },
     "metadata": {},
     "output_type": "display_data"
    },
    {
     "name": "stdout",
     "output_type": "stream",
     "text": [
      "\n",
      "Loss history: [0.3171555172829401, 0.16555067258221762, 0.13048235256047475, 0.11708040358055205, 0.10881199474845614, 0.10311886242457799, 0.09982683864377793]\n",
      "Dev loss: 0.09564623839798428\n"
     ]
    },
    {
     "name": "stderr",
     "output_type": "stream",
     "text": [
      "\n",
      "\n",
      "Epoch:  40%|████      | 8/20 [03:03<04:34, 22.89s/it]\u001b[A\u001b[A"
     ]
    },
    {
     "data": {
      "application/vnd.jupyter.widget-view+json": {
       "model_id": "22620b838306484c87616723970ca54c",
       "version_major": 2,
       "version_minor": 0
      },
      "text/plain": [
       "HBox(children=(IntProgress(value=0, description='Training iteration', max=101, style=ProgressStyle(description…"
      ]
     },
     "metadata": {},
     "output_type": "display_data"
    },
    {
     "name": "stdout",
     "output_type": "stream",
     "text": [
      "\n"
     ]
    },
    {
     "data": {
      "application/vnd.jupyter.widget-view+json": {
       "model_id": "f312547cf6bc488780b3ffae03f0e9ad",
       "version_major": 2,
       "version_minor": 0
      },
      "text/plain": [
       "HBox(children=(IntProgress(value=0, description='Evaluation iteration', max=21, style=ProgressStyle(descriptio…"
      ]
     },
     "metadata": {},
     "output_type": "display_data"
    },
    {
     "name": "stderr",
     "output_type": "stream",
     "text": [
      "\n",
      "\n",
      "Epoch:  45%|████▌     | 9/20 [03:25<04:10, 22.76s/it]\u001b[A\u001b[A"
     ]
    },
    {
     "name": "stdout",
     "output_type": "stream",
     "text": [
      "\n",
      "Loss history: [0.3171555172829401, 0.16555067258221762, 0.13048235256047475, 0.11708040358055205, 0.10881199474845614, 0.10311886242457799, 0.09982683864377793, 0.09564623839798428]\n",
      "Dev loss: 0.09697099810554868\n"
     ]
    },
    {
     "data": {
      "application/vnd.jupyter.widget-view+json": {
       "model_id": "1803f4d0ee254dedaeefc662752a044a",
       "version_major": 2,
       "version_minor": 0
      },
      "text/plain": [
       "HBox(children=(IntProgress(value=0, description='Training iteration', max=101, style=ProgressStyle(description…"
      ]
     },
     "metadata": {},
     "output_type": "display_data"
    },
    {
     "name": "stdout",
     "output_type": "stream",
     "text": [
      "\n"
     ]
    },
    {
     "data": {
      "application/vnd.jupyter.widget-view+json": {
       "model_id": "53dcd77d957e4725b7549a96cc7b8a20",
       "version_major": 2,
       "version_minor": 0
      },
      "text/plain": [
       "HBox(children=(IntProgress(value=0, description='Evaluation iteration', max=21, style=ProgressStyle(descriptio…"
      ]
     },
     "metadata": {},
     "output_type": "display_data"
    },
    {
     "name": "stdout",
     "output_type": "stream",
     "text": [
      "\n",
      "Loss history: [0.3171555172829401, 0.16555067258221762, 0.13048235256047475, 0.11708040358055205, 0.10881199474845614, 0.10311886242457799, 0.09982683864377793, 0.09564623839798428, 0.09697099810554868]\n",
      "Dev loss: 0.09416206606796809\n"
     ]
    },
    {
     "name": "stderr",
     "output_type": "stream",
     "text": [
      "\n",
      "\n",
      "Epoch:  50%|█████     | 10/20 [03:48<03:48, 22.81s/it]\u001b[A\u001b[A"
     ]
    },
    {
     "data": {
      "application/vnd.jupyter.widget-view+json": {
       "model_id": "1e794847876f4f55a25eccc5fb37e57c",
       "version_major": 2,
       "version_minor": 0
      },
      "text/plain": [
       "HBox(children=(IntProgress(value=0, description='Training iteration', max=101, style=ProgressStyle(description…"
      ]
     },
     "metadata": {},
     "output_type": "display_data"
    },
    {
     "name": "stdout",
     "output_type": "stream",
     "text": [
      "\n"
     ]
    },
    {
     "data": {
      "application/vnd.jupyter.widget-view+json": {
       "model_id": "0e5eab86b00c41afa650ef52a67983d2",
       "version_major": 2,
       "version_minor": 0
      },
      "text/plain": [
       "HBox(children=(IntProgress(value=0, description='Evaluation iteration', max=21, style=ProgressStyle(descriptio…"
      ]
     },
     "metadata": {},
     "output_type": "display_data"
    },
    {
     "name": "stderr",
     "output_type": "stream",
     "text": [
      "\n",
      "\n",
      "Epoch:  55%|█████▌    | 11/20 [04:10<03:24, 22.70s/it]\u001b[A\u001b[A"
     ]
    },
    {
     "name": "stdout",
     "output_type": "stream",
     "text": [
      "\n",
      "Loss history: [0.3171555172829401, 0.16555067258221762, 0.13048235256047475, 0.11708040358055205, 0.10881199474845614, 0.10311886242457799, 0.09982683864377793, 0.09564623839798428, 0.09697099810554868, 0.09416206606796809]\n",
      "Dev loss: 0.09490507521799632\n"
     ]
    },
    {
     "data": {
      "application/vnd.jupyter.widget-view+json": {
       "model_id": "13270911c60d486a88d0e15b2a368798",
       "version_major": 2,
       "version_minor": 0
      },
      "text/plain": [
       "HBox(children=(IntProgress(value=0, description='Training iteration', max=101, style=ProgressStyle(description…"
      ]
     },
     "metadata": {},
     "output_type": "display_data"
    },
    {
     "name": "stdout",
     "output_type": "stream",
     "text": [
      "\n"
     ]
    },
    {
     "data": {
      "application/vnd.jupyter.widget-view+json": {
       "model_id": "b44eeede019d48f4b3188de872eb8fa2",
       "version_major": 2,
       "version_minor": 0
      },
      "text/plain": [
       "HBox(children=(IntProgress(value=0, description='Evaluation iteration', max=21, style=ProgressStyle(descriptio…"
      ]
     },
     "metadata": {},
     "output_type": "display_data"
    },
    {
     "name": "stderr",
     "output_type": "stream",
     "text": [
      "\n",
      "\n",
      "Epoch:  60%|██████    | 12/20 [04:33<03:01, 22.63s/it]\u001b[A\u001b[A"
     ]
    },
    {
     "name": "stdout",
     "output_type": "stream",
     "text": [
      "\n",
      "Loss history: [0.3171555172829401, 0.16555067258221762, 0.13048235256047475, 0.11708040358055205, 0.10881199474845614, 0.10311886242457799, 0.09982683864377793, 0.09564623839798428, 0.09697099810554868, 0.09416206606796809, 0.09490507521799632]\n",
      "Dev loss: 0.09574481561070397\n"
     ]
    },
    {
     "data": {
      "application/vnd.jupyter.widget-view+json": {
       "model_id": "f4f60488a17249f8ac7340a6bb6cf011",
       "version_major": 2,
       "version_minor": 0
      },
      "text/plain": [
       "HBox(children=(IntProgress(value=0, description='Training iteration', max=101, style=ProgressStyle(description…"
      ]
     },
     "metadata": {},
     "output_type": "display_data"
    },
    {
     "name": "stdout",
     "output_type": "stream",
     "text": [
      "\n"
     ]
    },
    {
     "data": {
      "application/vnd.jupyter.widget-view+json": {
       "model_id": "f8cb3f56aadd4e82941ebe393457db0c",
       "version_major": 2,
       "version_minor": 0
      },
      "text/plain": [
       "HBox(children=(IntProgress(value=0, description='Evaluation iteration', max=21, style=ProgressStyle(descriptio…"
      ]
     },
     "metadata": {},
     "output_type": "display_data"
    },
    {
     "name": "stderr",
     "output_type": "stream",
     "text": [
      "\n",
      "\n",
      "Epoch:  65%|██████▌   | 13/20 [04:55<02:38, 22.58s/it]\u001b[A\u001b[A"
     ]
    },
    {
     "name": "stdout",
     "output_type": "stream",
     "text": [
      "\n",
      "Loss history: [0.3171555172829401, 0.16555067258221762, 0.13048235256047475, 0.11708040358055205, 0.10881199474845614, 0.10311886242457799, 0.09982683864377793, 0.09564623839798428, 0.09697099810554868, 0.09416206606796809, 0.09490507521799632, 0.09574481561070397]\n",
      "Dev loss: 0.09575836999075753\n"
     ]
    },
    {
     "data": {
      "application/vnd.jupyter.widget-view+json": {
       "model_id": "3ecaef911e024be0ac631c7fc01c1217",
       "version_major": 2,
       "version_minor": 0
      },
      "text/plain": [
       "HBox(children=(IntProgress(value=0, description='Training iteration', max=101, style=ProgressStyle(description…"
      ]
     },
     "metadata": {},
     "output_type": "display_data"
    },
    {
     "name": "stdout",
     "output_type": "stream",
     "text": [
      "\n"
     ]
    },
    {
     "data": {
      "application/vnd.jupyter.widget-view+json": {
       "model_id": "f5a40dba018c48338607666a1e8f0358",
       "version_major": 2,
       "version_minor": 0
      },
      "text/plain": [
       "HBox(children=(IntProgress(value=0, description='Evaluation iteration', max=21, style=ProgressStyle(descriptio…"
      ]
     },
     "metadata": {},
     "output_type": "display_data"
    },
    {
     "name": "stdout",
     "output_type": "stream",
     "text": [
      "\n",
      "Loss history: [0.3171555172829401, 0.16555067258221762, 0.13048235256047475, 0.11708040358055205, 0.10881199474845614, 0.10311886242457799, 0.09982683864377793, 0.09564623839798428, 0.09697099810554868, 0.09416206606796809, 0.09490507521799632, 0.09574481561070397, 0.09575836999075753]\n",
      "Dev loss: 0.09307079442909785\n"
     ]
    },
    {
     "name": "stderr",
     "output_type": "stream",
     "text": [
      "\n",
      "\n",
      "Epoch:  70%|███████   | 14/20 [05:18<02:16, 22.68s/it]\u001b[A\u001b[A"
     ]
    },
    {
     "data": {
      "application/vnd.jupyter.widget-view+json": {
       "model_id": "ec027537751145ce88e3df6d5c8c3af0",
       "version_major": 2,
       "version_minor": 0
      },
      "text/plain": [
       "HBox(children=(IntProgress(value=0, description='Training iteration', max=101, style=ProgressStyle(description…"
      ]
     },
     "metadata": {},
     "output_type": "display_data"
    },
    {
     "name": "stdout",
     "output_type": "stream",
     "text": [
      "\n"
     ]
    },
    {
     "data": {
      "application/vnd.jupyter.widget-view+json": {
       "model_id": "01cc636992e14c13849e289c677307b2",
       "version_major": 2,
       "version_minor": 0
      },
      "text/plain": [
       "HBox(children=(IntProgress(value=0, description='Evaluation iteration', max=21, style=ProgressStyle(descriptio…"
      ]
     },
     "metadata": {},
     "output_type": "display_data"
    },
    {
     "name": "stderr",
     "output_type": "stream",
     "text": [
      "\n",
      "\n",
      "Epoch:  75%|███████▌  | 15/20 [05:41<01:53, 22.61s/it]\u001b[A\u001b[A"
     ]
    },
    {
     "name": "stdout",
     "output_type": "stream",
     "text": [
      "\n",
      "Loss history: [0.3171555172829401, 0.16555067258221762, 0.13048235256047475, 0.11708040358055205, 0.10881199474845614, 0.10311886242457799, 0.09982683864377793, 0.09564623839798428, 0.09697099810554868, 0.09416206606796809, 0.09490507521799632, 0.09574481561070397, 0.09575836999075753, 0.09307079442909785]\n",
      "Dev loss: 0.0942365023351851\n"
     ]
    },
    {
     "data": {
      "application/vnd.jupyter.widget-view+json": {
       "model_id": "63bdd2bb7dd24ae78e576649e14f2ad8",
       "version_major": 2,
       "version_minor": 0
      },
      "text/plain": [
       "HBox(children=(IntProgress(value=0, description='Training iteration', max=101, style=ProgressStyle(description…"
      ]
     },
     "metadata": {},
     "output_type": "display_data"
    },
    {
     "name": "stdout",
     "output_type": "stream",
     "text": [
      "\n"
     ]
    },
    {
     "data": {
      "application/vnd.jupyter.widget-view+json": {
       "model_id": "b36198c4d98d4bf58056e1592528b11b",
       "version_major": 2,
       "version_minor": 0
      },
      "text/plain": [
       "HBox(children=(IntProgress(value=0, description='Evaluation iteration', max=21, style=ProgressStyle(descriptio…"
      ]
     },
     "metadata": {},
     "output_type": "display_data"
    },
    {
     "name": "stderr",
     "output_type": "stream",
     "text": [
      "\n",
      "\n",
      "Epoch:  80%|████████  | 16/20 [06:03<01:30, 22.57s/it]\u001b[A\u001b[A"
     ]
    },
    {
     "name": "stdout",
     "output_type": "stream",
     "text": [
      "\n",
      "Loss history: [0.3171555172829401, 0.16555067258221762, 0.13048235256047475, 0.11708040358055205, 0.10881199474845614, 0.10311886242457799, 0.09982683864377793, 0.09564623839798428, 0.09697099810554868, 0.09416206606796809, 0.09490507521799632, 0.09574481561070397, 0.09575836999075753, 0.09307079442909785, 0.0942365023351851]\n",
      "Dev loss: 0.09532208705232256\n"
     ]
    },
    {
     "data": {
      "application/vnd.jupyter.widget-view+json": {
       "model_id": "9f139128d50a42fdb5939dcc004f8fac",
       "version_major": 2,
       "version_minor": 0
      },
      "text/plain": [
       "HBox(children=(IntProgress(value=0, description='Training iteration', max=101, style=ProgressStyle(description…"
      ]
     },
     "metadata": {},
     "output_type": "display_data"
    },
    {
     "name": "stdout",
     "output_type": "stream",
     "text": [
      "\n"
     ]
    },
    {
     "data": {
      "application/vnd.jupyter.widget-view+json": {
       "model_id": "ca217dcc722846a29efa96312ef0549e",
       "version_major": 2,
       "version_minor": 0
      },
      "text/plain": [
       "HBox(children=(IntProgress(value=0, description='Evaluation iteration', max=21, style=ProgressStyle(descriptio…"
      ]
     },
     "metadata": {},
     "output_type": "display_data"
    },
    {
     "name": "stderr",
     "output_type": "stream",
     "text": [
      "\n",
      "\n",
      "Epoch:  85%|████████▌ | 17/20 [06:26<01:07, 22.54s/it]\u001b[A\u001b[A"
     ]
    },
    {
     "name": "stdout",
     "output_type": "stream",
     "text": [
      "\n",
      "Loss history: [0.3171555172829401, 0.16555067258221762, 0.13048235256047475, 0.11708040358055205, 0.10881199474845614, 0.10311886242457799, 0.09982683864377793, 0.09564623839798428, 0.09697099810554868, 0.09416206606796809, 0.09490507521799632, 0.09574481561070397, 0.09575836999075753, 0.09307079442909785, 0.0942365023351851, 0.09532208705232256]\n",
      "Dev loss: 0.09312833473086357\n"
     ]
    },
    {
     "data": {
      "application/vnd.jupyter.widget-view+json": {
       "model_id": "9c6b2cb655ab4d3c820a02ac004549b6",
       "version_major": 2,
       "version_minor": 0
      },
      "text/plain": [
       "HBox(children=(IntProgress(value=0, description='Training iteration', max=101, style=ProgressStyle(description…"
      ]
     },
     "metadata": {},
     "output_type": "display_data"
    },
    {
     "name": "stdout",
     "output_type": "stream",
     "text": [
      "\n"
     ]
    },
    {
     "data": {
      "application/vnd.jupyter.widget-view+json": {
       "model_id": "847a4ce7a37247d89e21f3e57c1c9a94",
       "version_major": 2,
       "version_minor": 0
      },
      "text/plain": [
       "HBox(children=(IntProgress(value=0, description='Evaluation iteration', max=21, style=ProgressStyle(descriptio…"
      ]
     },
     "metadata": {},
     "output_type": "display_data"
    },
    {
     "name": "stderr",
     "output_type": "stream",
     "text": [
      "\n",
      "\n",
      "Epoch:  90%|█████████ | 18/20 [06:48<00:45, 22.51s/it]\u001b[A\u001b[A"
     ]
    },
    {
     "name": "stdout",
     "output_type": "stream",
     "text": [
      "\n",
      "Loss history: [0.3171555172829401, 0.16555067258221762, 0.13048235256047475, 0.11708040358055205, 0.10881199474845614, 0.10311886242457799, 0.09982683864377793, 0.09564623839798428, 0.09697099810554868, 0.09416206606796809, 0.09490507521799632, 0.09574481561070397, 0.09575836999075753, 0.09307079442909785, 0.0942365023351851, 0.09532208705232256, 0.09312833473086357]\n",
      "Dev loss: 0.09805521262543541\n"
     ]
    },
    {
     "data": {
      "application/vnd.jupyter.widget-view+json": {
       "model_id": "1ddcd1a75d194109b7267e7b1511edd8",
       "version_major": 2,
       "version_minor": 0
      },
      "text/plain": [
       "HBox(children=(IntProgress(value=0, description='Training iteration', max=101, style=ProgressStyle(description…"
      ]
     },
     "metadata": {},
     "output_type": "display_data"
    },
    {
     "name": "stdout",
     "output_type": "stream",
     "text": [
      "\n"
     ]
    },
    {
     "data": {
      "application/vnd.jupyter.widget-view+json": {
       "model_id": "55e55cc98c664dee81920ccae91b56a1",
       "version_major": 2,
       "version_minor": 0
      },
      "text/plain": [
       "HBox(children=(IntProgress(value=0, description='Evaluation iteration', max=21, style=ProgressStyle(descriptio…"
      ]
     },
     "metadata": {},
     "output_type": "display_data"
    },
    {
     "name": "stdout",
     "output_type": "stream",
     "text": [
      "\n",
      "Loss history: [0.3171555172829401, 0.16555067258221762, 0.13048235256047475, 0.11708040358055205, 0.10881199474845614, 0.10311886242457799, 0.09982683864377793, 0.09564623839798428, 0.09697099810554868, 0.09416206606796809, 0.09490507521799632, 0.09574481561070397, 0.09575836999075753, 0.09307079442909785, 0.0942365023351851, 0.09532208705232256, 0.09312833473086357, 0.09805521262543541]\n",
      "Dev loss: 0.09728450328111649\n",
      "No improvement on development set. Finish training.\n",
      "Loading model from /tmp/model.bin\n"
     ]
    },
    {
     "name": "stderr",
     "output_type": "stream",
     "text": [
      "I0327 12:10:59.061642 139635286574912 configuration_utils.py:256] loading configuration file https://s3.amazonaws.com/models.huggingface.co/bert/bert-base-uncased-config.json from cache at /home/yves/.cache/torch/transformers/4dad0251492946e18ac39290fcfe91b89d370fee250efe9521476438fe8ca185.8f56353af4a709bf5ff0fbc915d8f5b42bfff892cbb6ac98c3c45f481a03c685\n",
      "I0327 12:10:59.062890 139635286574912 configuration_utils.py:292] Model config BertConfig {\n",
      "  \"architectures\": [\n",
      "    \"BertForMaskedLM\"\n",
      "  ],\n",
      "  \"attention_probs_dropout_prob\": 0.1,\n",
      "  \"bos_token_id\": null,\n",
      "  \"do_sample\": false,\n",
      "  \"eos_token_ids\": null,\n",
      "  \"finetuning_task\": null,\n",
      "  \"hidden_act\": \"gelu\",\n",
      "  \"hidden_dropout_prob\": 0.1,\n",
      "  \"hidden_size\": 768,\n",
      "  \"id2label\": {\n",
      "    \"0\": \"LABEL_0\",\n",
      "    \"1\": \"LABEL_1\"\n",
      "  },\n",
      "  \"initializer_range\": 0.02,\n",
      "  \"intermediate_size\": 3072,\n",
      "  \"is_decoder\": false,\n",
      "  \"label2id\": {\n",
      "    \"LABEL_0\": 0,\n",
      "    \"LABEL_1\": 1\n",
      "  },\n",
      "  \"layer_norm_eps\": 1e-12,\n",
      "  \"length_penalty\": 1.0,\n",
      "  \"max_length\": 20,\n",
      "  \"max_position_embeddings\": 512,\n",
      "  \"model_type\": \"bert\",\n",
      "  \"num_attention_heads\": 12,\n",
      "  \"num_beams\": 1,\n",
      "  \"num_hidden_layers\": 12,\n",
      "  \"num_labels\": 42,\n",
      "  \"num_return_sequences\": 1,\n",
      "  \"output_attentions\": false,\n",
      "  \"output_hidden_states\": false,\n",
      "  \"output_past\": true,\n",
      "  \"pad_token_id\": null,\n",
      "  \"pruned_heads\": {},\n",
      "  \"repetition_penalty\": 1.0,\n",
      "  \"temperature\": 1.0,\n",
      "  \"top_k\": 50,\n",
      "  \"top_p\": 1.0,\n",
      "  \"torchscript\": false,\n",
      "  \"type_vocab_size\": 2,\n",
      "  \"use_bfloat16\": false,\n",
      "  \"vocab_size\": 30522\n",
      "}\n",
      "\n",
      "I0327 12:10:59.526902 139635286574912 modeling_utils.py:461] loading weights file https://s3.amazonaws.com/models.huggingface.co/bert/bert-base-uncased-pytorch_model.bin from cache at /home/yves/.cache/torch/transformers/aa1ef1aede4482d0dbcd4d52baad8ae300e60902e88fcb0bebdec09afd232066.36ca03ab34a1a5d5fa7bc3d03d55c4fa650fed07220e2eeebc06ce58d0e9a157\n"
     ]
    },
    {
     "data": {
      "application/vnd.jupyter.widget-view+json": {
       "model_id": "eb3c032274dd4006bc086b14595e836b",
       "version_major": 2,
       "version_minor": 0
      },
      "text/plain": [
       "HBox(children=(IntProgress(value=0, description='Evaluation iteration', max=31, style=ProgressStyle(descriptio…"
      ]
     },
     "metadata": {},
     "output_type": "display_data"
    },
    {
     "name": "stdout",
     "output_type": "stream",
     "text": [
      "\n",
      "Data size: 482\n",
      "P: 281 / 339 = 0.8289085545722714\n",
      "R: 281 / 588 = 0.477891156462585\n",
      "F: 0.6062567421790723\n",
      "A: 0.4211618257261411\n",
      "AL1: 0.4854771784232365\n",
      "Train size: 1609\n",
      "Final train dataloader length: 101\n"
     ]
    },
    {
     "name": "stderr",
     "output_type": "stream",
     "text": [
      "I0327 12:11:13.616728 139635286574912 configuration_utils.py:256] loading configuration file https://s3.amazonaws.com/models.huggingface.co/bert/bert-base-uncased-config.json from cache at /home/yves/.cache/torch/transformers/4dad0251492946e18ac39290fcfe91b89d370fee250efe9521476438fe8ca185.8f56353af4a709bf5ff0fbc915d8f5b42bfff892cbb6ac98c3c45f481a03c685\n",
      "I0327 12:11:13.618282 139635286574912 configuration_utils.py:292] Model config BertConfig {\n",
      "  \"architectures\": [\n",
      "    \"BertForMaskedLM\"\n",
      "  ],\n",
      "  \"attention_probs_dropout_prob\": 0.1,\n",
      "  \"bos_token_id\": null,\n",
      "  \"do_sample\": false,\n",
      "  \"eos_token_ids\": null,\n",
      "  \"finetuning_task\": null,\n",
      "  \"hidden_act\": \"gelu\",\n",
      "  \"hidden_dropout_prob\": 0.1,\n",
      "  \"hidden_size\": 768,\n",
      "  \"id2label\": {\n",
      "    \"0\": \"LABEL_0\",\n",
      "    \"1\": \"LABEL_1\"\n",
      "  },\n",
      "  \"initializer_range\": 0.02,\n",
      "  \"intermediate_size\": 3072,\n",
      "  \"is_decoder\": false,\n",
      "  \"label2id\": {\n",
      "    \"LABEL_0\": 0,\n",
      "    \"LABEL_1\": 1\n",
      "  },\n",
      "  \"layer_norm_eps\": 1e-12,\n",
      "  \"length_penalty\": 1.0,\n",
      "  \"max_length\": 20,\n",
      "  \"max_position_embeddings\": 512,\n",
      "  \"model_type\": \"bert\",\n",
      "  \"num_attention_heads\": 12,\n",
      "  \"num_beams\": 1,\n",
      "  \"num_hidden_layers\": 12,\n",
      "  \"num_labels\": 42,\n",
      "  \"num_return_sequences\": 1,\n",
      "  \"output_attentions\": false,\n",
      "  \"output_hidden_states\": false,\n",
      "  \"output_past\": true,\n",
      "  \"pad_token_id\": null,\n",
      "  \"pruned_heads\": {},\n",
      "  \"repetition_penalty\": 1.0,\n",
      "  \"temperature\": 1.0,\n",
      "  \"top_k\": 50,\n",
      "  \"top_p\": 1.0,\n",
      "  \"torchscript\": false,\n",
      "  \"type_vocab_size\": 2,\n",
      "  \"use_bfloat16\": false,\n",
      "  \"vocab_size\": 30522\n",
      "}\n",
      "\n",
      "I0327 12:11:14.066959 139635286574912 modeling_utils.py:461] loading weights file https://s3.amazonaws.com/models.huggingface.co/bert/bert-base-uncased-pytorch_model.bin from cache at /home/yves/.cache/torch/transformers/aa1ef1aede4482d0dbcd4d52baad8ae300e60902e88fcb0bebdec09afd232066.36ca03ab34a1a5d5fa7bc3d03d55c4fa650fed07220e2eeebc06ce58d0e9a157\n",
      "I0327 12:11:15.771798 139635286574912 modeling_utils.py:546] Weights of BertForMultiLabelSequenceClassification not initialized from pretrained model: ['classifier.weight', 'classifier.bias']\n",
      "I0327 12:11:15.772549 139635286574912 modeling_utils.py:552] Weights from pretrained model not used in BertForMultiLabelSequenceClassification: ['cls.predictions.bias', 'cls.predictions.transform.dense.weight', 'cls.predictions.transform.dense.bias', 'cls.predictions.decoder.weight', 'cls.seq_relationship.weight', 'cls.seq_relationship.bias', 'cls.predictions.transform.LayerNorm.weight', 'cls.predictions.transform.LayerNorm.bias']\n",
      "\n",
      "\n",
      "\n",
      "Epoch:   0%|          | 0/20 [00:00<?, ?it/s]\u001b[A\u001b[A\u001b[A"
     ]
    },
    {
     "data": {
      "application/vnd.jupyter.widget-view+json": {
       "model_id": "76e5cb7feea3472bb564eaef2f7b225c",
       "version_major": 2,
       "version_minor": 0
      },
      "text/plain": [
       "HBox(children=(IntProgress(value=0, description='Training iteration', max=101, style=ProgressStyle(description…"
      ]
     },
     "metadata": {},
     "output_type": "display_data"
    },
    {
     "name": "stdout",
     "output_type": "stream",
     "text": [
      "\n"
     ]
    },
    {
     "data": {
      "application/vnd.jupyter.widget-view+json": {
       "model_id": "daa9dc8b183d4989b0e9636af9880030",
       "version_major": 2,
       "version_minor": 0
      },
      "text/plain": [
       "HBox(children=(IntProgress(value=0, description='Evaluation iteration', max=21, style=ProgressStyle(descriptio…"
      ]
     },
     "metadata": {},
     "output_type": "display_data"
    },
    {
     "name": "stdout",
     "output_type": "stream",
     "text": [
      "\n",
      "Loss history: []\n",
      "Dev loss: 0.30039810566675096\n"
     ]
    },
    {
     "name": "stderr",
     "output_type": "stream",
     "text": [
      "\n",
      "\n",
      "\n",
      "Epoch:   5%|▌         | 1/20 [00:22<07:13, 22.80s/it]\u001b[A\u001b[A\u001b[A"
     ]
    },
    {
     "data": {
      "application/vnd.jupyter.widget-view+json": {
       "model_id": "a0f742add4fc4e87877264dda9fed0a3",
       "version_major": 2,
       "version_minor": 0
      },
      "text/plain": [
       "HBox(children=(IntProgress(value=0, description='Training iteration', max=101, style=ProgressStyle(description…"
      ]
     },
     "metadata": {},
     "output_type": "display_data"
    },
    {
     "name": "stdout",
     "output_type": "stream",
     "text": [
      "\n"
     ]
    },
    {
     "data": {
      "application/vnd.jupyter.widget-view+json": {
       "model_id": "85e928354c1344968204c8595ad1800d",
       "version_major": 2,
       "version_minor": 0
      },
      "text/plain": [
       "HBox(children=(IntProgress(value=0, description='Evaluation iteration', max=21, style=ProgressStyle(descriptio…"
      ]
     },
     "metadata": {},
     "output_type": "display_data"
    },
    {
     "name": "stdout",
     "output_type": "stream",
     "text": [
      "\n",
      "Loss history: [0.30039810566675096]\n",
      "Dev loss: 0.14583712887196315\n"
     ]
    },
    {
     "name": "stderr",
     "output_type": "stream",
     "text": [
      "\n",
      "\n",
      "\n",
      "Epoch:  10%|█         | 2/20 [00:45<06:50, 22.80s/it]\u001b[A\u001b[A\u001b[A"
     ]
    },
    {
     "data": {
      "application/vnd.jupyter.widget-view+json": {
       "model_id": "680c36e03b3545629136fd6cc00eb6af",
       "version_major": 2,
       "version_minor": 0
      },
      "text/plain": [
       "HBox(children=(IntProgress(value=0, description='Training iteration', max=101, style=ProgressStyle(description…"
      ]
     },
     "metadata": {},
     "output_type": "display_data"
    },
    {
     "name": "stdout",
     "output_type": "stream",
     "text": [
      "\n"
     ]
    },
    {
     "data": {
      "application/vnd.jupyter.widget-view+json": {
       "model_id": "07faefeec2e848d19424c233a78dc582",
       "version_major": 2,
       "version_minor": 0
      },
      "text/plain": [
       "HBox(children=(IntProgress(value=0, description='Evaluation iteration', max=21, style=ProgressStyle(descriptio…"
      ]
     },
     "metadata": {},
     "output_type": "display_data"
    },
    {
     "name": "stdout",
     "output_type": "stream",
     "text": [
      "\n",
      "Loss history: [0.30039810566675096, 0.14583712887196315]\n",
      "Dev loss: 0.11976408639124461\n"
     ]
    },
    {
     "name": "stderr",
     "output_type": "stream",
     "text": [
      "\n",
      "\n",
      "\n",
      "Epoch:  15%|█▌        | 3/20 [01:08<06:28, 22.83s/it]\u001b[A\u001b[A\u001b[A"
     ]
    },
    {
     "data": {
      "application/vnd.jupyter.widget-view+json": {
       "model_id": "18c8018bf7d84e288d125115c9e36d29",
       "version_major": 2,
       "version_minor": 0
      },
      "text/plain": [
       "HBox(children=(IntProgress(value=0, description='Training iteration', max=101, style=ProgressStyle(description…"
      ]
     },
     "metadata": {},
     "output_type": "display_data"
    },
    {
     "name": "stdout",
     "output_type": "stream",
     "text": [
      "\n"
     ]
    },
    {
     "data": {
      "application/vnd.jupyter.widget-view+json": {
       "model_id": "c41be4f8e33c490f9d5517f51b4482e6",
       "version_major": 2,
       "version_minor": 0
      },
      "text/plain": [
       "HBox(children=(IntProgress(value=0, description='Evaluation iteration', max=21, style=ProgressStyle(descriptio…"
      ]
     },
     "metadata": {},
     "output_type": "display_data"
    },
    {
     "name": "stdout",
     "output_type": "stream",
     "text": [
      "\n",
      "Loss history: [0.30039810566675096, 0.14583712887196315, 0.11976408639124461]\n",
      "Dev loss: 0.10973445858274188\n"
     ]
    },
    {
     "name": "stderr",
     "output_type": "stream",
     "text": [
      "\n",
      "\n",
      "\n",
      "Epoch:  20%|██        | 4/20 [01:31<06:05, 22.85s/it]\u001b[A\u001b[A\u001b[A"
     ]
    },
    {
     "data": {
      "application/vnd.jupyter.widget-view+json": {
       "model_id": "afdad071a8da4c77822275a0f11a6768",
       "version_major": 2,
       "version_minor": 0
      },
      "text/plain": [
       "HBox(children=(IntProgress(value=0, description='Training iteration', max=101, style=ProgressStyle(description…"
      ]
     },
     "metadata": {},
     "output_type": "display_data"
    },
    {
     "name": "stdout",
     "output_type": "stream",
     "text": [
      "\n"
     ]
    },
    {
     "data": {
      "application/vnd.jupyter.widget-view+json": {
       "model_id": "90c2721b4ab345d594b057294b1bf4c7",
       "version_major": 2,
       "version_minor": 0
      },
      "text/plain": [
       "HBox(children=(IntProgress(value=0, description='Evaluation iteration', max=21, style=ProgressStyle(descriptio…"
      ]
     },
     "metadata": {},
     "output_type": "display_data"
    },
    {
     "name": "stdout",
     "output_type": "stream",
     "text": [
      "\n",
      "Loss history: [0.30039810566675096, 0.14583712887196315, 0.11976408639124461, 0.10973445858274188]\n",
      "Dev loss: 0.1026154046966916\n"
     ]
    },
    {
     "name": "stderr",
     "output_type": "stream",
     "text": [
      "\n",
      "\n",
      "\n",
      "Epoch:  25%|██▌       | 5/20 [01:54<05:42, 22.87s/it]\u001b[A\u001b[A\u001b[A"
     ]
    },
    {
     "data": {
      "application/vnd.jupyter.widget-view+json": {
       "model_id": "53716449446b41dfaf2576711a9c0865",
       "version_major": 2,
       "version_minor": 0
      },
      "text/plain": [
       "HBox(children=(IntProgress(value=0, description='Training iteration', max=101, style=ProgressStyle(description…"
      ]
     },
     "metadata": {},
     "output_type": "display_data"
    },
    {
     "name": "stdout",
     "output_type": "stream",
     "text": [
      "\n"
     ]
    },
    {
     "data": {
      "application/vnd.jupyter.widget-view+json": {
       "model_id": "57266758ac474de9ad552eb4ddd7d1c4",
       "version_major": 2,
       "version_minor": 0
      },
      "text/plain": [
       "HBox(children=(IntProgress(value=0, description='Evaluation iteration', max=21, style=ProgressStyle(descriptio…"
      ]
     },
     "metadata": {},
     "output_type": "display_data"
    },
    {
     "name": "stdout",
     "output_type": "stream",
     "text": [
      "\n",
      "Loss history: [0.30039810566675096, 0.14583712887196315, 0.11976408639124461, 0.10973445858274188, 0.1026154046966916]\n",
      "Dev loss: 0.09780198548521314\n"
     ]
    },
    {
     "name": "stderr",
     "output_type": "stream",
     "text": [
      "\n",
      "\n",
      "\n",
      "Epoch:  30%|███       | 6/20 [02:17<05:20, 22.88s/it]\u001b[A\u001b[A\u001b[A"
     ]
    },
    {
     "data": {
      "application/vnd.jupyter.widget-view+json": {
       "model_id": "a109d2eb08d44fa393981eb50630fee9",
       "version_major": 2,
       "version_minor": 0
      },
      "text/plain": [
       "HBox(children=(IntProgress(value=0, description='Training iteration', max=101, style=ProgressStyle(description…"
      ]
     },
     "metadata": {},
     "output_type": "display_data"
    },
    {
     "name": "stdout",
     "output_type": "stream",
     "text": [
      "\n"
     ]
    },
    {
     "data": {
      "application/vnd.jupyter.widget-view+json": {
       "model_id": "ee10207f259248c89248b981239cf89c",
       "version_major": 2,
       "version_minor": 0
      },
      "text/plain": [
       "HBox(children=(IntProgress(value=0, description='Evaluation iteration', max=21, style=ProgressStyle(descriptio…"
      ]
     },
     "metadata": {},
     "output_type": "display_data"
    },
    {
     "name": "stdout",
     "output_type": "stream",
     "text": [
      "\n",
      "Loss history: [0.30039810566675096, 0.14583712887196315, 0.11976408639124461, 0.10973445858274188, 0.1026154046966916, 0.09780198548521314]\n",
      "Dev loss: 0.09671932813667115\n"
     ]
    },
    {
     "name": "stderr",
     "output_type": "stream",
     "text": [
      "\n",
      "\n",
      "\n",
      "Epoch:  35%|███▌      | 7/20 [02:40<04:57, 22.89s/it]\u001b[A\u001b[A\u001b[A"
     ]
    },
    {
     "data": {
      "application/vnd.jupyter.widget-view+json": {
       "model_id": "062cc12c2abf4c7ab7832c0bfa1f0623",
       "version_major": 2,
       "version_minor": 0
      },
      "text/plain": [
       "HBox(children=(IntProgress(value=0, description='Training iteration', max=101, style=ProgressStyle(description…"
      ]
     },
     "metadata": {},
     "output_type": "display_data"
    },
    {
     "name": "stdout",
     "output_type": "stream",
     "text": [
      "\n"
     ]
    },
    {
     "data": {
      "application/vnd.jupyter.widget-view+json": {
       "model_id": "d58a6c1b8133402c8189640a6fd84d26",
       "version_major": 2,
       "version_minor": 0
      },
      "text/plain": [
       "HBox(children=(IntProgress(value=0, description='Evaluation iteration', max=21, style=ProgressStyle(descriptio…"
      ]
     },
     "metadata": {},
     "output_type": "display_data"
    },
    {
     "name": "stdout",
     "output_type": "stream",
     "text": [
      "\n",
      "Loss history: [0.30039810566675096, 0.14583712887196315, 0.11976408639124461, 0.10973445858274188, 0.1026154046966916, 0.09780198548521314, 0.09671932813667115]\n",
      "Dev loss: 0.0946484353570711\n"
     ]
    },
    {
     "name": "stderr",
     "output_type": "stream",
     "text": [
      "\n",
      "\n",
      "\n",
      "Epoch:  40%|████      | 8/20 [03:03<04:34, 22.90s/it]\u001b[A\u001b[A\u001b[A"
     ]
    },
    {
     "data": {
      "application/vnd.jupyter.widget-view+json": {
       "model_id": "91a15d449c874c99aaa80ea4205ca669",
       "version_major": 2,
       "version_minor": 0
      },
      "text/plain": [
       "HBox(children=(IntProgress(value=0, description='Training iteration', max=101, style=ProgressStyle(description…"
      ]
     },
     "metadata": {},
     "output_type": "display_data"
    },
    {
     "name": "stdout",
     "output_type": "stream",
     "text": [
      "\n"
     ]
    },
    {
     "data": {
      "application/vnd.jupyter.widget-view+json": {
       "model_id": "4abf9bb9f389495683c371ca735ea540",
       "version_major": 2,
       "version_minor": 0
      },
      "text/plain": [
       "HBox(children=(IntProgress(value=0, description='Evaluation iteration', max=21, style=ProgressStyle(descriptio…"
      ]
     },
     "metadata": {},
     "output_type": "display_data"
    },
    {
     "name": "stderr",
     "output_type": "stream",
     "text": [
      "\n",
      "\n",
      "\n",
      "Epoch:  45%|████▌     | 9/20 [03:25<04:10, 22.77s/it]\u001b[A\u001b[A\u001b[A"
     ]
    },
    {
     "name": "stdout",
     "output_type": "stream",
     "text": [
      "\n",
      "Loss history: [0.30039810566675096, 0.14583712887196315, 0.11976408639124461, 0.10973445858274188, 0.1026154046966916, 0.09780198548521314, 0.09671932813667115, 0.0946484353570711]\n",
      "Dev loss: 0.09589916325750805\n"
     ]
    },
    {
     "data": {
      "application/vnd.jupyter.widget-view+json": {
       "model_id": "ccca709bdf1b44418bd4818abe74f274",
       "version_major": 2,
       "version_minor": 0
      },
      "text/plain": [
       "HBox(children=(IntProgress(value=0, description='Training iteration', max=101, style=ProgressStyle(description…"
      ]
     },
     "metadata": {},
     "output_type": "display_data"
    },
    {
     "name": "stdout",
     "output_type": "stream",
     "text": [
      "\n"
     ]
    },
    {
     "data": {
      "application/vnd.jupyter.widget-view+json": {
       "model_id": "85a2d8fe553b424eb1f5460910e25d4d",
       "version_major": 2,
       "version_minor": 0
      },
      "text/plain": [
       "HBox(children=(IntProgress(value=0, description='Evaluation iteration', max=21, style=ProgressStyle(descriptio…"
      ]
     },
     "metadata": {},
     "output_type": "display_data"
    },
    {
     "name": "stderr",
     "output_type": "stream",
     "text": [
      "\n",
      "\n",
      "\n",
      "Epoch:  50%|█████     | 10/20 [03:48<03:46, 22.68s/it]\u001b[A\u001b[A\u001b[A"
     ]
    },
    {
     "name": "stdout",
     "output_type": "stream",
     "text": [
      "\n",
      "Loss history: [0.30039810566675096, 0.14583712887196315, 0.11976408639124461, 0.10973445858274188, 0.1026154046966916, 0.09780198548521314, 0.09671932813667115, 0.0946484353570711, 0.09589916325750805]\n",
      "Dev loss: 0.09617072095473607\n"
     ]
    },
    {
     "data": {
      "application/vnd.jupyter.widget-view+json": {
       "model_id": "e962a38980b64e6190c832fd69f52420",
       "version_major": 2,
       "version_minor": 0
      },
      "text/plain": [
       "HBox(children=(IntProgress(value=0, description='Training iteration', max=101, style=ProgressStyle(description…"
      ]
     },
     "metadata": {},
     "output_type": "display_data"
    },
    {
     "name": "stdout",
     "output_type": "stream",
     "text": [
      "\n"
     ]
    },
    {
     "data": {
      "application/vnd.jupyter.widget-view+json": {
       "model_id": "af285fcc65764096842847d3d98a7501",
       "version_major": 2,
       "version_minor": 0
      },
      "text/plain": [
       "HBox(children=(IntProgress(value=0, description='Evaluation iteration', max=21, style=ProgressStyle(descriptio…"
      ]
     },
     "metadata": {},
     "output_type": "display_data"
    },
    {
     "name": "stderr",
     "output_type": "stream",
     "text": [
      "\n",
      "\n",
      "\n",
      "Epoch:  55%|█████▌    | 11/20 [04:10<03:23, 22.62s/it]\u001b[A\u001b[A\u001b[A"
     ]
    },
    {
     "name": "stdout",
     "output_type": "stream",
     "text": [
      "\n",
      "Loss history: [0.30039810566675096, 0.14583712887196315, 0.11976408639124461, 0.10973445858274188, 0.1026154046966916, 0.09780198548521314, 0.09671932813667115, 0.0946484353570711, 0.09589916325750805, 0.09617072095473607]\n",
      "Dev loss: 0.09707399422214144\n"
     ]
    },
    {
     "data": {
      "application/vnd.jupyter.widget-view+json": {
       "model_id": "ce282b968e054661ad7a7e5b6a9c06ba",
       "version_major": 2,
       "version_minor": 0
      },
      "text/plain": [
       "HBox(children=(IntProgress(value=0, description='Training iteration', max=101, style=ProgressStyle(description…"
      ]
     },
     "metadata": {},
     "output_type": "display_data"
    },
    {
     "name": "stdout",
     "output_type": "stream",
     "text": [
      "\n"
     ]
    },
    {
     "data": {
      "application/vnd.jupyter.widget-view+json": {
       "model_id": "2c755da829624df1b877de93ca9fe69c",
       "version_major": 2,
       "version_minor": 0
      },
      "text/plain": [
       "HBox(children=(IntProgress(value=0, description='Evaluation iteration', max=21, style=ProgressStyle(descriptio…"
      ]
     },
     "metadata": {},
     "output_type": "display_data"
    },
    {
     "name": "stdout",
     "output_type": "stream",
     "text": [
      "\n",
      "Loss history: [0.30039810566675096, 0.14583712887196315, 0.11976408639124461, 0.10973445858274188, 0.1026154046966916, 0.09780198548521314, 0.09671932813667115, 0.0946484353570711, 0.09589916325750805, 0.09617072095473607, 0.09707399422214144]\n",
      "Dev loss: 0.09415223733300254\n"
     ]
    },
    {
     "name": "stderr",
     "output_type": "stream",
     "text": [
      "\n",
      "\n",
      "\n",
      "Epoch:  60%|██████    | 12/20 [04:33<03:01, 22.71s/it]\u001b[A\u001b[A\u001b[A"
     ]
    },
    {
     "data": {
      "application/vnd.jupyter.widget-view+json": {
       "model_id": "d81521ce8b9d4fabb063cb07d4c88530",
       "version_major": 2,
       "version_minor": 0
      },
      "text/plain": [
       "HBox(children=(IntProgress(value=0, description='Training iteration', max=101, style=ProgressStyle(description…"
      ]
     },
     "metadata": {},
     "output_type": "display_data"
    },
    {
     "name": "stdout",
     "output_type": "stream",
     "text": [
      "\n"
     ]
    },
    {
     "data": {
      "application/vnd.jupyter.widget-view+json": {
       "model_id": "79ba5bf22b404ad7aa57d401b63c916d",
       "version_major": 2,
       "version_minor": 0
      },
      "text/plain": [
       "HBox(children=(IntProgress(value=0, description='Evaluation iteration', max=21, style=ProgressStyle(descriptio…"
      ]
     },
     "metadata": {},
     "output_type": "display_data"
    },
    {
     "name": "stderr",
     "output_type": "stream",
     "text": [
      "\n",
      "\n",
      "\n",
      "Epoch:  65%|██████▌   | 13/20 [04:55<02:38, 22.64s/it]\u001b[A\u001b[A\u001b[A"
     ]
    },
    {
     "name": "stdout",
     "output_type": "stream",
     "text": [
      "\n",
      "Loss history: [0.30039810566675096, 0.14583712887196315, 0.11976408639124461, 0.10973445858274188, 0.1026154046966916, 0.09780198548521314, 0.09671932813667115, 0.0946484353570711, 0.09589916325750805, 0.09617072095473607, 0.09707399422214144, 0.09415223733300254]\n",
      "Dev loss: 0.09524037192265193\n"
     ]
    },
    {
     "data": {
      "application/vnd.jupyter.widget-view+json": {
       "model_id": "e8c5b380d18b443ba89514e28dde954b",
       "version_major": 2,
       "version_minor": 0
      },
      "text/plain": [
       "HBox(children=(IntProgress(value=0, description='Training iteration', max=101, style=ProgressStyle(description…"
      ]
     },
     "metadata": {},
     "output_type": "display_data"
    },
    {
     "name": "stdout",
     "output_type": "stream",
     "text": [
      "\n"
     ]
    },
    {
     "data": {
      "application/vnd.jupyter.widget-view+json": {
       "model_id": "b9503240d59f4926b1bc0bd10cbdac14",
       "version_major": 2,
       "version_minor": 0
      },
      "text/plain": [
       "HBox(children=(IntProgress(value=0, description='Evaluation iteration', max=21, style=ProgressStyle(descriptio…"
      ]
     },
     "metadata": {},
     "output_type": "display_data"
    },
    {
     "name": "stderr",
     "output_type": "stream",
     "text": [
      "\n",
      "\n",
      "\n",
      "Epoch:  70%|███████   | 14/20 [05:18<02:15, 22.58s/it]\u001b[A\u001b[A\u001b[A"
     ]
    },
    {
     "name": "stdout",
     "output_type": "stream",
     "text": [
      "\n",
      "Loss history: [0.30039810566675096, 0.14583712887196315, 0.11976408639124461, 0.10973445858274188, 0.1026154046966916, 0.09780198548521314, 0.09671932813667115, 0.0946484353570711, 0.09589916325750805, 0.09617072095473607, 0.09707399422214144, 0.09415223733300254, 0.09524037192265193]\n",
      "Dev loss: 0.09895849902005423\n"
     ]
    },
    {
     "data": {
      "application/vnd.jupyter.widget-view+json": {
       "model_id": "74eb767fdd28417f882336e81ca626cc",
       "version_major": 2,
       "version_minor": 0
      },
      "text/plain": [
       "HBox(children=(IntProgress(value=0, description='Training iteration', max=101, style=ProgressStyle(description…"
      ]
     },
     "metadata": {},
     "output_type": "display_data"
    },
    {
     "name": "stdout",
     "output_type": "stream",
     "text": [
      "\n"
     ]
    },
    {
     "data": {
      "application/vnd.jupyter.widget-view+json": {
       "model_id": "be4f19f76f344549939a0a7f72987dc0",
       "version_major": 2,
       "version_minor": 0
      },
      "text/plain": [
       "HBox(children=(IntProgress(value=0, description='Evaluation iteration', max=21, style=ProgressStyle(descriptio…"
      ]
     },
     "metadata": {},
     "output_type": "display_data"
    },
    {
     "name": "stderr",
     "output_type": "stream",
     "text": [
      "\n",
      "\n",
      "\n",
      "Epoch:  75%|███████▌  | 15/20 [05:40<01:52, 22.55s/it]\u001b[A\u001b[A\u001b[A"
     ]
    },
    {
     "name": "stdout",
     "output_type": "stream",
     "text": [
      "\n",
      "Loss history: [0.30039810566675096, 0.14583712887196315, 0.11976408639124461, 0.10973445858274188, 0.1026154046966916, 0.09780198548521314, 0.09671932813667115, 0.0946484353570711, 0.09589916325750805, 0.09617072095473607, 0.09707399422214144, 0.09415223733300254, 0.09524037192265193, 0.09895849902005423]\n",
      "Dev loss: 0.09688178556306022\n"
     ]
    },
    {
     "data": {
      "application/vnd.jupyter.widget-view+json": {
       "model_id": "40da8d5d3c544f42abab5248ad925bc8",
       "version_major": 2,
       "version_minor": 0
      },
      "text/plain": [
       "HBox(children=(IntProgress(value=0, description='Training iteration', max=101, style=ProgressStyle(description…"
      ]
     },
     "metadata": {},
     "output_type": "display_data"
    },
    {
     "name": "stdout",
     "output_type": "stream",
     "text": [
      "\n"
     ]
    },
    {
     "data": {
      "application/vnd.jupyter.widget-view+json": {
       "model_id": "e2d76c45e63b4219a5ce7a53bdc3fc60",
       "version_major": 2,
       "version_minor": 0
      },
      "text/plain": [
       "HBox(children=(IntProgress(value=0, description='Evaluation iteration', max=21, style=ProgressStyle(descriptio…"
      ]
     },
     "metadata": {},
     "output_type": "display_data"
    },
    {
     "name": "stderr",
     "output_type": "stream",
     "text": [
      "\n",
      "\n",
      "\n",
      "Epoch:  80%|████████  | 16/20 [06:03<01:30, 22.52s/it]\u001b[A\u001b[A\u001b[A"
     ]
    },
    {
     "name": "stdout",
     "output_type": "stream",
     "text": [
      "\n",
      "Loss history: [0.30039810566675096, 0.14583712887196315, 0.11976408639124461, 0.10973445858274188, 0.1026154046966916, 0.09780198548521314, 0.09671932813667115, 0.0946484353570711, 0.09589916325750805, 0.09617072095473607, 0.09707399422214144, 0.09415223733300254, 0.09524037192265193, 0.09895849902005423, 0.09688178556306022]\n",
      "Dev loss: 0.09899386018514633\n"
     ]
    },
    {
     "data": {
      "application/vnd.jupyter.widget-view+json": {
       "model_id": "0b5d124e88b64c959b4e2cedf58bd687",
       "version_major": 2,
       "version_minor": 0
      },
      "text/plain": [
       "HBox(children=(IntProgress(value=0, description='Training iteration', max=101, style=ProgressStyle(description…"
      ]
     },
     "metadata": {},
     "output_type": "display_data"
    },
    {
     "name": "stdout",
     "output_type": "stream",
     "text": [
      "\n"
     ]
    },
    {
     "data": {
      "application/vnd.jupyter.widget-view+json": {
       "model_id": "aa0e7c575d1b49b9b15ba04b2cc4d928",
       "version_major": 2,
       "version_minor": 0
      },
      "text/plain": [
       "HBox(children=(IntProgress(value=0, description='Evaluation iteration', max=21, style=ProgressStyle(descriptio…"
      ]
     },
     "metadata": {},
     "output_type": "display_data"
    },
    {
     "name": "stdout",
     "output_type": "stream",
     "text": [
      "\n",
      "Loss history: [0.30039810566675096, 0.14583712887196315, 0.11976408639124461, 0.10973445858274188, 0.1026154046966916, 0.09780198548521314, 0.09671932813667115, 0.0946484353570711, 0.09589916325750805, 0.09617072095473607, 0.09707399422214144, 0.09415223733300254, 0.09524037192265193, 0.09895849902005423, 0.09688178556306022, 0.09899386018514633]\n",
      "Dev loss: 0.09674237952345893\n",
      "No improvement on development set. Finish training.\n",
      "Loading model from /tmp/model.bin\n"
     ]
    },
    {
     "name": "stderr",
     "output_type": "stream",
     "text": [
      "I0327 12:17:42.185212 139635286574912 configuration_utils.py:256] loading configuration file https://s3.amazonaws.com/models.huggingface.co/bert/bert-base-uncased-config.json from cache at /home/yves/.cache/torch/transformers/4dad0251492946e18ac39290fcfe91b89d370fee250efe9521476438fe8ca185.8f56353af4a709bf5ff0fbc915d8f5b42bfff892cbb6ac98c3c45f481a03c685\n",
      "I0327 12:17:42.186827 139635286574912 configuration_utils.py:292] Model config BertConfig {\n",
      "  \"architectures\": [\n",
      "    \"BertForMaskedLM\"\n",
      "  ],\n",
      "  \"attention_probs_dropout_prob\": 0.1,\n",
      "  \"bos_token_id\": null,\n",
      "  \"do_sample\": false,\n",
      "  \"eos_token_ids\": null,\n",
      "  \"finetuning_task\": null,\n",
      "  \"hidden_act\": \"gelu\",\n",
      "  \"hidden_dropout_prob\": 0.1,\n",
      "  \"hidden_size\": 768,\n",
      "  \"id2label\": {\n",
      "    \"0\": \"LABEL_0\",\n",
      "    \"1\": \"LABEL_1\"\n",
      "  },\n",
      "  \"initializer_range\": 0.02,\n",
      "  \"intermediate_size\": 3072,\n",
      "  \"is_decoder\": false,\n",
      "  \"label2id\": {\n",
      "    \"LABEL_0\": 0,\n",
      "    \"LABEL_1\": 1\n",
      "  },\n",
      "  \"layer_norm_eps\": 1e-12,\n",
      "  \"length_penalty\": 1.0,\n",
      "  \"max_length\": 20,\n",
      "  \"max_position_embeddings\": 512,\n",
      "  \"model_type\": \"bert\",\n",
      "  \"num_attention_heads\": 12,\n",
      "  \"num_beams\": 1,\n",
      "  \"num_hidden_layers\": 12,\n",
      "  \"num_labels\": 42,\n",
      "  \"num_return_sequences\": 1,\n",
      "  \"output_attentions\": false,\n",
      "  \"output_hidden_states\": false,\n",
      "  \"output_past\": true,\n",
      "  \"pad_token_id\": null,\n",
      "  \"pruned_heads\": {},\n",
      "  \"repetition_penalty\": 1.0,\n",
      "  \"temperature\": 1.0,\n",
      "  \"top_k\": 50,\n",
      "  \"top_p\": 1.0,\n",
      "  \"torchscript\": false,\n",
      "  \"type_vocab_size\": 2,\n",
      "  \"use_bfloat16\": false,\n",
      "  \"vocab_size\": 30522\n",
      "}\n",
      "\n",
      "I0327 12:17:42.641721 139635286574912 modeling_utils.py:461] loading weights file https://s3.amazonaws.com/models.huggingface.co/bert/bert-base-uncased-pytorch_model.bin from cache at /home/yves/.cache/torch/transformers/aa1ef1aede4482d0dbcd4d52baad8ae300e60902e88fcb0bebdec09afd232066.36ca03ab34a1a5d5fa7bc3d03d55c4fa650fed07220e2eeebc06ce58d0e9a157\n"
     ]
    },
    {
     "data": {
      "application/vnd.jupyter.widget-view+json": {
       "model_id": "029523beeb8548b3bbff81c248956d54",
       "version_major": 2,
       "version_minor": 0
      },
      "text/plain": [
       "HBox(children=(IntProgress(value=0, description='Evaluation iteration', max=31, style=ProgressStyle(descriptio…"
      ]
     },
     "metadata": {},
     "output_type": "display_data"
    },
    {
     "name": "stdout",
     "output_type": "stream",
     "text": [
      "\n",
      "Data size: 482\n",
      "P: 276 / 345 = 0.8\n",
      "R: 276 / 579 = 0.47668393782383417\n",
      "F: 0.5974025974025974\n",
      "A: 0.4149377593360996\n",
      "AL1: 0.4854771784232365\n"
     ]
    }
   ],
   "source": [
    "import torch\n",
    "\n",
    "from quillnlp.models.bert.train import train, evaluate\n",
    "from quillnlp.models.bert.models import get_multilabel_bert_classifier\n",
    "\n",
    "from quillnlp.models.bert.preprocessing import get_data_loader\n",
    "from sklearn.model_selection import KFold\n",
    "\n",
    "kf = KFold(n_splits=5, shuffle=True, random_state=1)\n",
    "all_correct, all_predicted = [], []\n",
    "all_test_data = []\n",
    "for train_idx, test_idx in kf.split(data_items):\n",
    "\n",
    "    train_and_dev_data = data_items[train_idx]\n",
    "    cutoff = int(len(train_and_dev_data)/6*5)\n",
    "    train_data = train_and_dev_data[:cutoff]\n",
    "    dev_data = train_and_dev_data[cutoff:]\n",
    "    test_data = data_items[test_idx]\n",
    "    \n",
    "    print(\"Train size:\", len(train_data))\n",
    "                    \n",
    "    train_dataloader = get_data_loader(train_data, BATCH_SIZE)\n",
    "    dev_dataloader = get_data_loader(dev_data, BATCH_SIZE)\n",
    "    test_dataloader = get_data_loader(test_data, BATCH_SIZE, shuffle=False)\n",
    "\n",
    "    print(\"Final train dataloader length:\", len(train_dataloader))\n",
    "    \n",
    "    device = \"cuda\" if torch.cuda.is_available() else \"cpu\"\n",
    "    model = get_multilabel_bert_classifier(BERT_MODEL, len(label2idx), device=device)\n",
    "    output_model_file = train(model, train_dataloader, dev_dataloader, BATCH_SIZE, GRADIENT_ACCUMULATION_STEPS, device)\n",
    "    \n",
    "    print(\"Loading model from\", output_model_file)\n",
    "    device=\"cpu\"\n",
    "\n",
    "    model = get_multilabel_bert_classifier(BERT_MODEL, len(label2idx), model_file=output_model_file, device=device)\n",
    "    model.eval()\n",
    "    \n",
    "    _, _, test_correct, test_predicted = evaluate(model, test_dataloader, device)\n",
    "    evaluate_output(test_correct, test_predicted)\n",
    "    all_correct.extend(test_correct)\n",
    "    all_predicted.extend(test_predicted)\n",
    "    all_test_data.extend(test_data)"
   ]
  },
  {
   "cell_type": "markdown",
   "metadata": {},
   "source": [
    "## Evaluation"
   ]
  },
  {
   "cell_type": "code",
   "execution_count": 5,
   "metadata": {},
   "outputs": [
    {
     "name": "stdout",
     "output_type": "stream",
     "text": [
      "Data size: 2413\n",
      "P: 1288 / 1546 = 0.833117723156533\n",
      "R: 1288 / 2907 = 0.4430684554523564\n",
      "F: 0.5784864136537166\n",
      "A: 0.39204309987567343\n",
      "AL1: 0.449647741400746\n"
     ]
    }
   ],
   "source": [
    "evaluate_output(all_correct, all_predicted)"
   ]
  },
  {
   "cell_type": "code",
   "execution_count": 6,
   "metadata": {},
   "outputs": [
    {
     "name": "stdout",
     "output_type": "stream",
     "text": [
      "compulsory voting can often be misused by governments and many feel it is a violation of personal liberties and choices.#Governments Can Abuse It/Dictatorships#\n",
      "it can be misused.#Governments Can Abuse It/Dictatorships#\n",
      ", sometimes the government abuses compulsory voting.#Governments Can Abuse It/Dictatorships#\n",
      "dictator-like governments can abuse it to support certain political groups.#Governments Can Abuse It/Dictatorships#\n",
      "when misused by the government does not allow for competition.#Governments Can Abuse It/Dictatorships#Personal Opinion to Fact\n",
      "this may cause hardships for voters who are not able to make it for good reasons#Negative Effects on Voter#\n",
      "this may have adverse effects on voters#Negative Effects on Voter#\n",
      "not all countries follow the rule.#Not All Governments Enforce It#\n",
      "Not all countries with compulsory voting enforce this law#Not All Governments Enforce It#\n",
      "not every country actually follows up with these laws#Not All Governments Enforce It#\n",
      "governments can possibly misuse the practice, especially in the instance of North Korea, especially when there is no competition between the candidates.#Governments Can Abuse It/Dictatorships;North Korea/Dictatorships#\n",
      "it can create issues when citizens are unable to fulfill the responsibility. For example in Bolivia, the government actually freezes citizens' salaries.#Negative Effects on Voter;Consequences/Bolivia#\n",
      "it may cause people to be unjustly punished if they cannot as was the case in Bolivia where the government refused to allow citizens to obtain their salaries.#Negative Effects on Voter;Consequences/Bolivia#\n",
      "this may have adverse effects on voters such as being unable to access their salary, a consequence for not voting in Bolivia. #Negative Effects on Voter;Consequences/Bolivia#\n",
      "some people might feel it's a violation of their civil liberties.#Violation of Personal Liberty;Reference#\n",
      "leave it up to the individuals whether they wish to or not.#Answered Wrong Stem#Personal Opinion to Fact\n",
      "Complete the sentence by inserting a reason that supports the claim in the sentence starter.#Answered Wrong Stem#Personal Opinion to Fact\n",
      "still make it possible for you to vote if you want to.#Answered Wrong Stem#\n",
      "need to be aware that there may be implications with enforcing the rule.#Clarify/Identify/Specify#Personal Opinion to Fact\n",
      "it may have negative implications#Clarify/Identify/Specify#\n",
      "it could have consequences#Clarify/Identify/Specify#\n",
      "it can be misused like in dictatorships such as North Korea.#Evidences Needs More Context#\n",
      "it may be used improperly like in North Korea.#Evidences Needs More Context#\n",
      "dictators make take advantage of these laws like he did in North Korea.#Evidences Needs More Context#Personal Opinion to Fact\n",
      "I agree that a lot of citizens aren't enthusiastic about voting, mostly people uninterested in politics and feel that their votes wouldn't do much.#Misuse of Conjunction#\n",
      "we are liberally#Outside of Article's Scope#\n",
      "ensure that voting is as simple and as accessible as possible.#Outside of Article's Scope#\n",
      "everyone should be required to have voter ID.#Outside of Article's Scope#Personal Opinion to Fact\n",
      "it can force people to change their lifestyle.#Outside of Article's Scope#\n",
      "it would be good if they would vote for what they belive in but the idea of herding people in to vote by law may open to a chase of pay voting which would calls more problem to the idea of vote of the people#Outside of Article's Scope#\n",
      "let citizens choose a day.#Outside of Article's Scope#\n",
      "make sure that there is a reasonable time for a person to cast a vote, without causing undue hardship to the voter.#Outside of Article's Scope#Personal Opinion to Fact\n",
      "must also work to educate voters about the actual stances and policy preferences of the candidate.#Outside of Article's Scope#\n",
      "need to also make sure that the list of nominees is representative of the people's interests.#Outside of Article's Scope#Increases Voter Turnout;Increases Representation\n",
      "provide easier accessibility to voting poll locations.#Outside of Article's Scope#\n",
      "should encourage absentee or door to door voting for those unable to get to the polls.#Outside of Article's Scope#Personal Opinion to Fact\n",
      "should provide a way for those who are unable to vote by going to a polling place a way to participate without having to visit a voting location.#Outside of Article's Scope#Personal Opinion to Fact\n",
      "sometimes the government will not recognize voting and elect whom they want to.#Outside of Article's Scope#\n",
      "there should be some sort of incentive for the voters for doing so in order to keep morale up.#Outside of Article's Scope#Personal Opinion to Fact\n",
      "voting randomly is not the way to ensure the \"best\" person is elected.#Outside of Article's Scope#\n",
      "governments can sometimes misuse it and needs to be careful with applying compulsory voting requirements.#Personal Opinion to Fact#\n",
      "if a citizen provides a valid and proper excuse then it could be excused.#Personal Opinion to Fact#Personal Opinion to Fact\n",
      "make sure to have policies implemented to avoid misuse.#Personal Opinion to Fact#Personal Opinion to Fact\n",
      "many do because many people do not vote unless it is compulsory.#Personal Opinion to Fact#\n",
      "those who have a good reason to miss an election should not be punished.#Personal Opinion to Fact#Personal Opinion to Fact\n",
      "a compulsory vote is in essence anti-democratic.#Personal Opinion to Fact#\n",
      "allow exceptions for sickness#Personal Opinion to Fact#Personal Opinion to Fact\n",
      "allow exceptions.#Personal Opinion to Fact#Personal Opinion to Fact\n",
      "allow for competition and not dictatorship.#Personal Opinion to Fact#Personal Opinion to Fact\n",
      "allow for exceptions or waivers such as a doctors excuse.#Personal Opinion to Fact#Personal Opinion to Fact\n",
      "allow for exemptions like in Australia.#Personal Opinion to Fact#Personal Opinion to Fact\n",
      "allow for flexibility if people are not able to go to the polls due to circumstances such as illness.#Personal Opinion to Fact#Personal Opinion to Fact\n",
      "allow for reasonable exceptions.#Personal Opinion to Fact#Personal Opinion to Fact\n",
      "allow for some to be excluded if they have a good reason#Personal Opinion to Fact#Personal Opinion to Fact\n",
      "allow people to abstain.#Personal Opinion to Fact#Personal Opinion to Fact\n",
      "allow people to provide good reasons to be excused.#Personal Opinion to Fact#Personal Opinion to Fact\n",
      "allow that some people may not be able to vote for reasons beyond their control.#Personal Opinion to Fact#Personal Opinion to Fact\n",
      "allows exceptions for those that are unable to make it to work that show proof.#Personal Opinion to Fact#Personal Opinion to Fact\n",
      "Be understanding if someone is unable to make it to the polls#Personal Opinion to Fact#Personal Opinion to Fact\n",
      "be wary to have too harsh a punishment on someone who cannot vote, or that government will become much like a dictatorship.#Personal Opinion to Fact#Personal Opinion to Fact\n",
      "do NOT discipline people who do not vote; NO real enforcement.#Personal Opinion to Fact#Personal Opinion to Fact\n",
      "enforce the law with tolerance for voter circumstances that make voting difficult or impossible.#Personal Opinion to Fact#Personal Opinion to Fact\n",
      "exceptions should be allowed.#Personal Opinion to Fact#Personal Opinion to Fact\n",
      "have more than one candidate to ensure a fair election not a dictatorship.#Personal Opinion to Fact#Personal Opinion to Fact\n",
      "I believe in the right to choose to vote.#Personal Opinion to Fact#\n",
      "I do see how it can conflict between civil right and civil duty.#Personal Opinion to Fact#Personal Opinion to Fact\n",
      "I don't think you should be find or punished if you have a good excuse.#Personal Opinion to Fact#Personal Opinion to Fact\n",
      "if someone has a good reason for not voting, they shouldn't be punished.#Personal Opinion to Fact#Personal Opinion to Fact\n",
      "it is a violation of personal liberties.#Personal Opinion to Fact#Personal Opinion to Fact\n",
      "it is important that citizens who have valid reasons for not voting are not penalized.#Personal Opinion to Fact#Personal Opinion to Fact\n",
      "it should be a civic right not civic duty.#Personal Opinion to Fact#Personal Opinion to Fact\n",
      "it shouldn’t be misused.#Personal Opinion to Fact#Personal Opinion to Fact\n",
      "it would prevent people from freedom of choice.#Personal Opinion to Fact#Personal Opinion to Fact\n",
      "it's important that this isn't misused by governments stifling other political parties#Personal Opinion to Fact#\n",
      "lower the penalty if someone does not vote.#Personal Opinion to Fact#Personal Opinion to Fact\n",
      "make exceptions for situations where people are unable to reach the polls, like hospitalization.#Personal Opinion to Fact#Personal Opinion to Fact\n",
      "make sure there are choices on the ballot.#Personal Opinion to Fact#Personal Opinion to Fact\n",
      "make sure there are several candidates to pick from.#Personal Opinion to Fact#Personal Opinion to Fact\n",
      "make sure they allow political competition by having more than one candidate on the ballot.#Personal Opinion to Fact#Personal Opinion to Fact\n",
      "make sure they don't misuse their power in doing so, and also ensure that the citizens votes are actually counted in the end result.#Personal Opinion to Fact#Personal Opinion to Fact\n",
      "maybe not make there be harsh punishments for those who do not vote.#Personal Opinion to Fact#Personal Opinion to Fact\n",
      "must not abuse the system for their own gain.#Personal Opinion to Fact#Personal Opinion to Fact\n",
      "not be able to punish someone if they can't make it out to vote.#Personal Opinion to Fact#Personal Opinion to Fact\n",
      "not enforce it as a serious crime punishable by law for failing to do so; that is counterproductive, and while votes will still be cast, it's best not to impose or force the citizens to do something with the threat of a negative repercussion.#Personal Opinion to Fact#Personal Opinion to Fact\n",
      "not have a very harsh punishment if they don't.#Personal Opinion to Fact#Personal Opinion to Fact\n",
      "not have reperiments in failure to comply.#Personal Opinion to Fact#Personal Opinion to Fact\n",
      "not have severe penalties if citizens are not able to vote.#Personal Opinion to Fact#Personal Opinion to Fact\n",
      "not impose harsh penalties for failure to vote.#Personal Opinion to Fact#Personal Opinion to Fact\n",
      "not impose harsh penalties for those that fail to vote.#Personal Opinion to Fact#Personal Opinion to Fact\n",
      "not impose harsh penalties on those who do not end up going to the polls.#Personal Opinion to Fact#Personal Opinion to Fact\n",
      "not misuse it because then it resembles a dictatorship.#Personal Opinion to Fact#Personal Opinion to Fact\n",
      "not misuse it.#Personal Opinion to Fact#Personal Opinion to Fact\n",
      "not penalize people with legitimate reasons for failing to vote.#Personal Opinion to Fact#Personal Opinion to Fact\n",
      "not punish citizens with legitimate reasons for not voting.#Personal Opinion to Fact#Personal Opinion to Fact\n",
      "not punish people that don't vote by holding their pay.#Personal Opinion to Fact#Personal Opinion to Fact\n",
      "not punish those who are unable to vote with good reason.#Personal Opinion to Fact#Personal Opinion to Fact\n",
      "not punish those who have a good reason for not voting.#Personal Opinion to Fact#Personal Opinion to Fact\n",
      "not punishable.#Personal Opinion to Fact#Personal Opinion to Fact\n",
      "not strictly enforced.#Personal Opinion to Fact#Personal Opinion to Fact\n",
      "not who to vote for.#Personal Opinion to Fact#\n",
      "offer amnesty if a person can prove illness or other circumstance.#Personal Opinion to Fact#Personal Opinion to Fact\n",
      "only if it is the person is able to attend voting.#Personal Opinion to Fact#\n",
      "only when there's more than one candidate to vote for so that the election process does not turn into a dictatorship.#Personal Opinion to Fact#Personal Opinion to Fact\n",
      "people can miss it if they have a good excuse like being in the hospital.#Personal Opinion to Fact#Personal Opinion to Fact\n",
      "people should be allowed not to vote if they can provide a good reason for it (for example being in a hospital).#Personal Opinion to Fact#Personal Opinion to Fact\n",
      "people should be excused from voting if they have a good reason.#Personal Opinion to Fact#Personal Opinion to Fact\n",
      "people shouldn’t be punished if they don’t vote.#Personal Opinion to Fact#Personal Opinion to Fact\n",
      "punishment should not be allowed.#Personal Opinion to Fact#Personal Opinion to Fact\n",
      "should accept legitimate excuses from those who did not vote for a good reason.#Personal Opinion to Fact#Personal Opinion to Fact\n",
      "should allow for exceptions based on defined criteria.#Personal Opinion to Fact#Personal Opinion to Fact\n",
      "should allow for legitimate reasons that cause a failure to vote.#Personal Opinion to Fact#Personal Opinion to Fact\n",
      "should allow the citizens to choose who they want as their president or government official.#Personal Opinion to Fact#\n",
      "should be understanding if something comes up or be given a good reason.#Personal Opinion to Fact#Personal Opinion to Fact\n",
      "should have at least 2 candidates on the ballot.#Personal Opinion to Fact#Personal Opinion to Fact\n",
      "should make allowances for extenuating circumstances without punishment for those who are genuinely unable to vote.#Personal Opinion to Fact#Personal Opinion to Fact\n",
      "should make sure not to misuse it.#Personal Opinion to Fact#Personal Opinion to Fact\n",
      "should make sure that there are choices and the punishment for not voting is not too harsh and allow for exceptions.#Personal Opinion to Fact#Personal Opinion to Fact\n",
      "should not enforce punishments against people who fail to vote.#Personal Opinion to Fact#Personal Opinion to Fact\n",
      "should not harshly punish those who do not vote, especially if they have a good reason for not voting, such as being in the hospital.#Personal Opinion to Fact#Personal Opinion to Fact\n",
      "should not have strict punishments for those who don't#Personal Opinion to Fact#Personal Opinion to Fact\n",
      "should not penalize a citizen for not voting.#Personal Opinion to Fact#Personal Opinion to Fact\n",
      "should not punish citizens who do not vote if they have a good reason.#Personal Opinion to Fact#Personal Opinion to Fact\n",
      "should not punish those who are unable to vote when they provide a good reason.#Personal Opinion to Fact#Personal Opinion to Fact\n",
      "should not punish those who don't vote.#Personal Opinion to Fact#Personal Opinion to Fact\n",
      "should offer options and not just have one person on the ballet.#Personal Opinion to Fact#Personal Opinion to Fact\n",
      "should provide fair competition on the ballot so that the citizen's votes have meaning.#Personal Opinion to Fact#Personal Opinion to Fact\n",
      "should recognize that realistically it will not be possible for everyone.#Personal Opinion to Fact#Personal Opinion to Fact\n",
      "shouldn't punish citizens with legitimate excuses.#Personal Opinion to Fact#Personal Opinion to Fact\n",
      "that should not affect citizen's personal life in case they are not able to show up to cast their vote.#Personal Opinion to Fact#Personal Opinion to Fact\n",
      "the election should be free and fair and make their vote count.#Personal Opinion to Fact#\n",
      "the penalties for not voting should not be excessive to the detriment of citizens unable to comply.#Personal Opinion to Fact#Personal Opinion to Fact\n",
      "the practice is sometimes misused.#Personal Opinion to Fact#\n",
      "the should not punish those who give a good reason why they can not vote.#Personal Opinion to Fact#Personal Opinion to Fact\n",
      "there should be justifiable exceptions to the law.#Personal Opinion to Fact#Personal Opinion to Fact\n",
      "there should be well defined exceptions for people that are unable to vote.#Personal Opinion to Fact#Personal Opinion to Fact\n",
      "there shouldn’t be major repercussions.#Personal Opinion to Fact#Personal Opinion to Fact\n",
      "they also have to enforce ideals of competition on the ballot.#Personal Opinion to Fact#Personal Opinion to Fact\n",
      "they have to be careful as to not punish people harshly.#Personal Opinion to Fact#Personal Opinion to Fact\n",
      "they must be careful to ensure that mandatory voting is not abused by authoritarian leaders to legitimize their rule.#Personal Opinion to Fact#Personal Opinion to Fact\n",
      "they must understand there will be pushback from those who believe it is a violation of their rights.#Personal Opinion to Fact#Personal Opinion to Fact\n",
      "they need to take into account reasons that a voter may not be able to make it to the polls like a hospitalization.#Personal Opinion to Fact#Personal Opinion to Fact\n",
      "they should ensure that an adequate selection of candidates is available so as to avoid dictatorial false claims of choice.#Personal Opinion to Fact#Personal Opinion to Fact\n",
      "they should have stipulations that excuse certain populations.#Personal Opinion to Fact#Personal Opinion to Fact\n",
      "they should make exceptions to certain cases such as being in the hospital.#Personal Opinion to Fact#Personal Opinion to Fact\n",
      "they should not misuse compulsory voting.#Personal Opinion to Fact#Personal Opinion to Fact\n",
      "they should offer leeway for people who have a valid reason for being unable or unwilling to vote.#Personal Opinion to Fact#Personal Opinion to Fact\n",
      "they will not be respecting everyone's wishes.#Personal Opinion to Fact#Personal Opinion to Fact\n",
      "tread lightly due to dictaorship's.#Personal Opinion to Fact#Personal Opinion to Fact\n",
      "understand that individual cases must be examined.#Personal Opinion to Fact#Personal Opinion to Fact\n",
      "we should not punish those that have a good reason why they couldn't make it to vote.#Personal Opinion to Fact#Personal Opinion to Fact\n",
      "with exceptions for situations like hospital stays.#Personal Opinion to Fact#Personal Opinion to Fact\n",
      "without penalty.#Personal Opinion to Fact#Personal Opinion to Fact\n",
      "it can infringe upon choice and freedom to not vote if one chooses not to.#Personal Opinion to Fact#Personal Opinion to Fact\n",
      "this could be a violation of personal liberties and choice.#Personal Opinion to Fact#Personal Opinion to Fact\n",
      "some may argue it is a violation of personal liberties and choices.#Plagiarism#\n",
      "how can democracies have representative governments unless all or most of their citizens vote?#Plagiarism#\n",
      "some say that it is a violation of personal liberties and choices#Plagiarism#\n",
      "it should take very carefully.#Unintelligible Response#Personal Opinion to Fact\n",
      "people work liberal.#Unintelligible Response#\n",
      "THAT IS SOMETIMES MAKE A WRONG THINK#Unintelligible Response#\n",
      "Governments should make voting compulsory so a more accurate representation of the nation's views are captured by the polls.#Rep#Rep\n",
      "Governments should make voting compulsory so all citizens are involved in electing their leaders.#Vote;Leaders#Rep\n",
      "Governments should make voting compulsory so all citizens participate#Vote#\n",
      "Governments should make voting compulsory so all may be accounted for.#Rep#\n",
      "Governments should make voting compulsory so all the registered voters---the great majority of adult citizens---participate in making a choice that effects them all.#Vote#\n",
      "Governments should make voting compulsory so all voices can be heard.#Rep#Rep\n",
      "Governments should make voting compulsory so as to ensures that the elected government represents the majority of the population.#Rep#Rep\n",
      "Governments should make voting compulsory so at least no one can make the joke, \" You cant talk, you didn't vote!\"#Other#\n",
      "Governments should make voting compulsory so candidates will be elected according to the majority of all votes.#Rep#Rep\n",
      "Governments should make voting compulsory so citizens can see the importance in their stance regardless of how they may feel about past election policies or outcomes.#Other#\n",
      "Governments should make voting compulsory so countries that don't have compulsory voting should change their laws.#Other#\n",
      "Governments should make voting compulsory so elected representatives represent the majority of the population#Rep;Leaders#Rep\n",
      "Governments should make voting compulsory so elections are representative of all the people.#Rep#Rep\n",
      "Governments should make voting compulsory so elections have better turnouts and can more accurately reflect the public's opinions.#Rep;Vote#Rep\n",
      "Governments should make voting compulsory so elections have good turnout.#Vote#\n",
      "Governments should make voting compulsory so ensures that the elected government represents the majority of the population#Rep#Rep\n",
      "Governments should make voting compulsory so every citizen can be heard.#Rep#Rep\n",
      "Governments should make voting compulsory so every person has an active role in choosing leaders.#Leaders#\n",
      "Governments should make voting compulsory so every single citizen has their voice heard.#Rep#Rep\n",
      "Governments should make voting compulsory so every vote is counted#Rep#\n",
      "Governments should make voting compulsory so every voter truly has a voice instead of relying on the few who do vote.#Rep#Rep\n",
      "Governments should make voting compulsory so everyone gets a vote.#Other#\n",
      "Governments should make voting compulsory so everyone should have to vote unless he or she has a legitimate excuse.#Other#\n",
      "Governments should make voting compulsory so he elected government represents the majority of the population.#Rep#Rep\n",
      "Governments should make voting compulsory so he was like to him#Other#\n",
      "Governments should make voting compulsory so it becomes part of a culture.#Other#\n",
      "Governments should make voting compulsory so it can be seen as a civic right and not a civic duty.#Other#\n",
      "Governments should make voting compulsory so it can encourages the high percentage of abstaining voters to participate in elections.#Vote#\n",
      "Governments should make voting compulsory so it could be a more fair election#Other#\n",
      "Governments should make voting compulsory so it is a civic duty#Duty#\n",
      "Governments should make voting compulsory so it is a civic right and not a civic duty#Other#\n",
      "Governments should make voting compulsory so it is a civic right not duty.#Other#\n",
      "Governments should make voting compulsory so it is difficult to view voting as a civic right instead of a civic duty.#Other#\n",
      "Governments should make voting compulsory so it might make sense to reward those who are most consistent with their voting.#Other#\n",
      "Governments should make voting compulsory so it should be followed#Other#\n",
      "Governments should make voting compulsory so it was easily find the real citizen in the country.#Other#\n",
      "Governments should make voting compulsory so it would solve the low voter turnout issue.#Vote#\n",
      "Governments should make voting compulsory so it's always best to give people options and the freedom to vote#Other#\n",
      "Governments should make voting compulsory so more citizens are compelled to exercise their civil duties.#Duty#\n",
      "Governments should make voting compulsory so more input from people can actually be accounted for.#Rep#\n",
      "Governments should make voting compulsory so more of the citizens turn out to elections creating a more representative election and engagement in the political process.#Rep;Vote#\n",
      "Governments should make voting compulsory so more people get involved in their own government.#Vote#\n",
      "Governments should make voting compulsory so more people vote in the elections.#Vote#\n",
      "Governments should make voting compulsory so need population is very important#Other#\n",
      "Governments should make voting compulsory so people become more aware of laws and how their government works and what their rights are as a citizen.#Other#\n",
      "Governments should make voting compulsory so people can attend and vote#Other#\n",
      "Governments should make voting compulsory so people know that they have a voice and a choice, choosing to vote over being forced to is a completely different perspective.#Other#\n",
      "Governments should make voting compulsory so people's liberties are respected.#Other#\n",
      "Governments should make voting compulsory so perhaps a more accurate public opinion could be gained.#Rep#\n",
      "Governments should make voting compulsory so that all of American is voting and not just a few#Vote#\n",
      "Governments should make voting compulsory so that all people are encouraged to participate in the election process.#Vote#\n",
      "Governments should make voting compulsory so that all people will vote and have a voice in elections.#Rep;Vote#Rep\n",
      "Governments should make voting compulsory so that all qualified citizens know that they will have a voice in the government.#Feel#Rep\n",
      "Governments should make voting compulsory so that all the citizens have a say in who is elected.#Rep;Leaders#Rep\n",
      "Governments should make voting compulsory so that citizens get more involved in politics and have more enthusiasm#Vote#\n",
      "Governments should make voting compulsory so that citizens perform their obligations#Duty#\n",
      "Governments should make voting compulsory so that compulsory voting ensures that the elected government represents the majority of the population#Rep#Rep\n",
      "Governments should make voting compulsory so that each and every citizen will excercise their voting rights and the democracy gets an accurate idea of who the people want as a leader to represent them.#Rep;Vote;Leaders#Rep\n",
      "Governments should make voting compulsory so that each voice is heard in government and politics.#Rep#Rep\n",
      "Governments should make voting compulsory so that elected officials are representative of the population's preference.#Rep;Leaders#Rep\n",
      "Governments should make voting compulsory so that elections are fair because everyone voted.#Vote#\n",
      "Governments should make voting compulsory so that eligible voters pay attention to politics and turn out to the polls.#Vote#\n",
      "Governments should make voting compulsory so that every citizen can be represented by the people they vote for#Other#Rep\n",
      "Governments should make voting compulsory so that every citizen can have their will reflected in the laws that pass and the politicians who get elected.#Rep;Leaders#Rep\n",
      "Governments should make voting compulsory so that every person in the country has voted.#Vote#\n",
      "Governments should make voting compulsory so that every person is represented.#Rep#Rep\n",
      "Governments should make voting compulsory so that every vote is counted and matters.#Rep#\n",
      "Governments should make voting compulsory so that every voter will have a say in who is elected or not.#Rep#Rep\n",
      "Governments should make voting compulsory so that everyone can perform their civic duty.#Duty#\n",
      "Governments should make voting compulsory so that everyone does their duty by voting.#Vote;Duty#\n",
      "Governments should make voting compulsory so that everyone has an equal chance to vote#Other#\n",
      "Governments should make voting compulsory so that everyone votes which makes the election fair.#Vote#\n",
      "Governments should make voting compulsory so that everyone who qualifies to vote 8n an election are required to do so.#Other#\n",
      "Governments should make voting compulsory so that everyone will have to vote but not be penalized.#Other#\n",
      "Governments should make voting compulsory so that everyone's opinion s counted, and no one is left out.#Rep#\n",
      "Governments should make voting compulsory so that everyone's voice is heard during every election and to prevent voter intimidation and voter fraud.#Rep#Rep\n",
      "Governments should make voting compulsory so that everyone's vote influences the election.#Rep#\n",
      "Governments should make voting compulsory so that government by the people overrides government by whoever has the most power.#Other#\n",
      "Governments should make voting compulsory so that governments do not misuse the power of mandatory voting.#Other#\n",
      "Governments should make voting compulsory so that he people understand that it is important for their contry.#Other#\n",
      "Governments should make voting compulsory so that higher voter turnout is assured and people do their civic duty.#Vote;Duty#\n",
      "Governments should make voting compulsory so that it encourages citizens to vote for their desired candidate or help get the right person in office.#Vote;Leaders#\n",
      "Governments should make voting compulsory so that it ensures everyone vote and it encourages civic duty to the country.#Vote;Duty#\n",
      "Governments should make voting compulsory so that it ensures that the elected government represents the majority of the population.#Rep#Rep\n",
      "Governments should make voting compulsory so that it is a fair election that represents all people of the land, which would discourage those political parties that use fear to dissuade dissenting voters.#Rep#\n",
      "Governments should make voting compulsory so that its citizens will become better educated in politics and give an accurate representation of the interests of the people.#Rep#Rep\n",
      "Governments should make voting compulsory so that leaders of countries are represented by true feelings of the majority of people.#Rep#Rep\n",
      "Governments should make voting compulsory so that more citizens across the world become invested in their government's election process and try to find out more about potential candidates.#Other#\n",
      "Governments should make voting compulsory so that more people will be able to be a voice in elections.#Rep#Rep\n",
      "Governments should make voting compulsory so that more voices are represented in the political process.#Rep#Rep\n",
      "Governments should make voting compulsory so that nations do not suffer loss of voter participation such as that seen in Venezuela.#Vote#\n",
      "Governments should make voting compulsory so that people are not forced to give inaccurate and misrepresented data.#Other#\n",
      "Governments should make voting compulsory so that people will participate in elections and not grow apathetic towards politics.#Vote;Apathy#\n",
      "Governments should make voting compulsory so that people won't blow off the countries future.#Other#\n",
      "Governments should make voting compulsory so that the country is accurately represented.#Rep#Rep\n",
      "Governments should make voting compulsory so that the elected government represents the majority of the population#Rep#Rep\n",
      "Governments should make voting compulsory so that the elected government represents the majority of the population.#Rep#Rep\n",
      "Governments should make voting compulsory so that the elected official is truly what the majority wanted.#Rep;Leaders#Rep\n",
      "Governments should make voting compulsory so that the elected officials represent the majority of the population.#Rep;Leaders#Rep\n",
      "Governments should make voting compulsory so that the government accurately represents its people.#Rep#Rep\n",
      "Governments should make voting compulsory so that the government is representative of the people.#Rep#Rep\n",
      "Governments should make voting compulsory so that the largest percentage of the public will vote and choose the officials they most want to be leading the country.#Vote;Leaders#Rep\n",
      "Governments should make voting compulsory so that the majority of the country is represented.#Rep#Rep\n",
      "Governments should make voting compulsory so that the people can have more representative governments.#Rep#Rep\n",
      "Governments should make voting compulsory so that the political representative with the best policies get into office.#Other#Rep\n",
      "Governments should make voting compulsory so that the population has inventive to participate in the election process.#Vote#\n",
      "Governments should make voting compulsory so that the problem of low voter turnout can be addressed.#Vote#\n",
      "Governments should make voting compulsory so that the votes are more representative of the country's populace.#Rep#Rep\n",
      "Governments should make voting compulsory so that their democratic government can truly be representative of the people.#Rep#Rep\n",
      "Governments should make voting compulsory so that there is a higher voter turnout.#Vote#\n",
      "Governments should make voting compulsory so that there is a more representative government.#Rep#\n",
      "Governments should make voting compulsory so that there is a renewed political interest in our world that favors \"American Idol\" over choosing a worthy political candidate to run our governments.#Other#\n",
      "Governments should make voting compulsory so that they can interfere with the civil liberties of their citizens.#Other#\n",
      "Governments should make voting compulsory so that those elected better represent a majority of the population.#Rep;Leaders#Rep\n",
      "Governments should make voting compulsory so that voter participation is encouraged.#Vote#\n",
      "Governments should make voting compulsory so that voter turnout is higher and the true majority of the locality chooses who gets elected.#Vote#Rep\n",
      "Governments should make voting compulsory so that we can get areal feel for how the country as a whole feels.#Rep#\n",
      "Governments should make voting compulsory so that whoever is elected is the representation of the true majority of the population.#Rep#Rep\n",
      "Governments should make voting compulsory so the citizens will participate in the forming the good government and good leaders to run the country in good and growing path#Vote;Leaders#Rep\n",
      "Governments should make voting compulsory so the country can have true representation of the people.#Rep#Rep\n",
      "Governments should make voting compulsory so the elected government is really representative of what the majority of citizens want.#Rep#Rep\n",
      "Governments should make voting compulsory so the elected government represents a majority of the population.#Rep#Rep\n",
      "Governments should make voting compulsory so the elected government represents the majority of the population.#Rep#Rep\n",
      "Governments should make voting compulsory so the elected official represents the masses.#Rep;Leaders#Rep\n",
      "Governments should make voting compulsory so the elected representative is truly representing the population.#Rep;Leaders#Rep\n",
      "Governments should make voting compulsory so the election is decided by all of the people, not just the ones who show up to vote.#Rep#\n",
      "Governments should make voting compulsory so the elections reflect that the elected government represents all or most of their citizens.#Rep#Rep\n",
      "Governments should make voting compulsory so the federal government can finally make a voting holiday.#Other#\n",
      "Governments should make voting compulsory so the governments can feel better about voter numbers.#Other#\n",
      "Governments should make voting compulsory so the outcome of the election reflects the voters' will.#Rep#\n",
      "Governments should make voting compulsory so the person chosen is voted for by all#Rep;Leaders#\n",
      "Governments should make voting compulsory so the person elected is truly elected by the majority of citizens.#Rep;Leaders#Rep\n",
      "Governments should make voting compulsory so the results will present a more accurate portrait of the electorate.#Rep#Rep\n",
      "Governments should make voting compulsory so the true desires of everyone can be known.#Rep#\n",
      "Governments should make voting compulsory so the true will of the people is represented.#Rep#Rep\n",
      "Governments should make voting compulsory so the voted in official better represents the needs of the whole community.#Rep;Leaders#Rep\n",
      "Governments should make voting compulsory so the voter turnout is larger.#Vote#\n",
      "Governments should make voting compulsory so the voters would not feel to apathetic about politics and actually get involved in what's going on.#Apathy#\n",
      "Governments should make voting compulsory so there is not a major decline in voter participation such as Venezuela who saw a 30% decrease in voters coming to the polls.#Vote#\n",
      "Governments should make voting compulsory so there should be policies either in place to enforce compulsory voting or governments should create policies to transition to compulsory voting.#Other#\n",
      "Governments should make voting compulsory so they can combat low voter turnout and ensure that government is truly representative of the people. #Rep;Vote#Rep\n",
      "Governments should make voting compulsory so they can have everyone logged in the system, There would be no illegals if every single person needed to vote.#Other#\n",
      "Governments should make voting compulsory so they can know truly what the people want.#Rep#Rep\n",
      "Governments should make voting compulsory so they receive the highest possible turnout of voters.#Vote#\n",
      "Governments should make voting compulsory so those who cant make it to vote or do not want to will not be punished.#Other#\n",
      "Governments should make voting compulsory so to encourage voter participation#Vote#\n",
      "Governments should make voting compulsory so voter apathy won't interfere with voter turnout#Vote;Apathy#\n",
      "Governments should make voting compulsory so voter turnout is mandatory#Other#\n",
      "Governments should make voting compulsory so voters participate.#Vote#\n",
      "Governments should make voting compulsory so voting is a civic right not duty.#Other#\n",
      "Governments should make voting compulsory so we can ensure we achieve the outcome we want as a society.#Other#\n",
      "Governments should make voting compulsory so we choose correct person.#Leaders#\n",
      "Governments should make voting compulsory so we vote the correct person#Leaders#\n",
      "Governments should make voting compulsory so we would have leaders in office who represent the majority.#Rep#Rep\n",
      "Governments should make voting compulsory so you have a truly participatory democracy where everyone's voice is heard.#Rep#Rep\n",
      "otherwise the winner may not be the choice of the majority of the people.#Otherwise Not Representative#\n",
      "a large portion of people otherwise won't vote.#Otherwise Voter Turnout will Decrease/Will be Low#\n",
      "countries that do not have compulsory voting laws have much lower voter turnout than countries that do.#Otherwise Voter Turnout will Decrease/Will be Low#\n",
      "fewer people vote when voting is not mandatory.#Otherwise Voter Turnout will Decrease/Will be Low#\n",
      "if not, there will be a lower voter turnout.#Otherwise Voter Turnout will Decrease/Will be Low#\n",
      "if they don't, only a small minority of people show up to cast votes.#Otherwise Voter Turnout will Decrease/Will be Low#\n",
      "it helps to avoid low voter turnout.#Otherwise Voter Turnout will Decrease/Will be Low#\n",
      "low turnout is a common problem in countries without compulsory voting.#Otherwise Voter Turnout will Decrease/Will be Low#\n",
      "Low voter turnout is a common problem in countries without compulsory voting.#Otherwise Voter Turnout will Decrease/Will be Low#\n",
      "low voter turnout is a common problem.#Otherwise Voter Turnout will Decrease/Will be Low#\n",
      "of low voter numbers coming out when they are not required to.#Otherwise Voter Turnout will Decrease/Will be Low#\n",
      "of low voter turn out.#Otherwise Voter Turnout will Decrease/Will be Low#\n",
      "only then can low voter turnout be reduced.#Otherwise Voter Turnout will Decrease/Will be Low#\n",
      "otherwise many people will not make the effort#Otherwise Voter Turnout will Decrease/Will be Low#\n",
      "otherwise they will have low voter turnout.#Otherwise Voter Turnout will Decrease/Will be Low#\n",
      "people do not turn up to vote unless it is mandatory and there are repercussions.#Otherwise Voter Turnout will Decrease/Will be Low#\n",
      "so many will not vote unless it’s mandatory.#Otherwise Voter Turnout will Decrease/Will be Low#\n",
      "voters will not sufficiently participate otherwise.#Otherwise Voter Turnout will Decrease/Will be Low#\n",
      "without it voter turnout is too low.#Otherwise Voter Turnout will Decrease/Will be Low#\n",
      "without it there will be low voter turnout leading to a government that may not represent the will of the people.#Otherwise Voter Turnout will Decrease/Will be Low;Not Representative#\n",
      "more people need to vote in elections to create representative government.#Ensures a Representative Democracy;How--Mechanism#\n",
      "voting ensures that the government reflects the people or is a functioning democracy.#Ensures a Representative Democracy;How--Mechanism#\n",
      "it will lead to more voter turnout and more participation in democracy.#Ensures a Representative Democracy;How--Mechanism#\n",
      "it combats low voter turnout.#Apathy#\n",
      "it guards against voter apathy or a lack of enthusiasm.#Apathy#\n",
      "some people are just not interested in politics and don't care about it.#Apathy#\n",
      "many people don't want to vote because they lack of enthusiasm around elections.#Apathy;May Cause Low Voter Turnout#\n",
      "apathetic citizens who don't vote make the government less representative#Apathy;May Cause Low Voter Turnout;Government is not Representative#\n",
      "voter turn out is low and to ensure a true democracy, each citizen should vote in every available election to have a sense of responsibility in the outcomes#Democracy;Increase Voter Turnout#\n",
      "democracies rely on the majority of the public voting#Democracy;Increase Voter Turnout#\n",
      "more people voting means a more democractic government#Democracy;Increase Voter Turnout#\n",
      "everyone casting a vote is the foundation of democracy#Democracy;Increase Voter Turnout#\n",
      "it encourages voter participation and ensure democracy.#Ensures a Representative Democracy#\n",
      "it is the best way to ensure a representative government of the public.#Ensures a Representative Democracy#Increases Voter Turnout;Increases Representation\n",
      "it is the only way to get a real participatory democracy.#Ensures a Representative Democracy#\n",
      "all people should be heard equally.#Increases Voter Turnout;Increases Representation#Increases Voter Turnout;Increases Representation\n",
      "compulsory voting ensures that the elected government represents the majority of the population.#Increases Voter Turnout;Increases Representation#Increases Voter Turnout;Increases Representation\n",
      "current elections are not being equally represented.#Increases Voter Turnout;Increases Representation#\n",
      "elected officials will truly be a representation of the people.#Increases Voter Turnout;Increases Representation#Increases Voter Turnout;Increases Representation\n",
      "everyone should be involved and have their voices heard.#Increases Voter Turnout;Increases Representation#Increases Voter Turnout;Increases Representation\n",
      "it ensures that all citizens have the chance and right to vote#Increases Voter Turnout;Increases Representation#Increases Voter Turnout;Increases Representation\n",
      "it ensures that everyone gets a say in who they want to represent them in a democracy.#Increases Voter Turnout;Increases Representation#Increases Voter Turnout;Increases Representation\n",
      "it ensures that the elected government represents a majority of the population.#Increases Voter Turnout;Increases Representation#Increases Voter Turnout;Increases Representation\n",
      "it ensures that the elected government represents the majority#Increases Voter Turnout;Increases Representation#Increases Voter Turnout;Increases Representation\n",
      "it ensures that the elected government represents the majority of the country's population.#Increases Voter Turnout;Increases Representation#Increases Voter Turnout;Increases Representation\n",
      "it ensures that the elected government represents the majority of the population and it is our civic duty.#Increases Voter Turnout;Increases Representation#Increases Voter Turnout;Increases Representation\n",
      "it ensures that the elected government represents the majority of the population.#Increases Voter Turnout;Increases Representation#Increases Voter Turnout;Increases Representation\n",
      "it ensures that the elected leader was truly who the majority wanted because everyone must vote.#Increases Voter Turnout;Increases Representation#Increases Voter Turnout;Increases Representation\n",
      "it ensures that the will of the people is heard.#Increases Voter Turnout;Increases Representation#Increases Voter Turnout;Increases Representation\n",
      "it ensures the election represents all citizens.#Increases Voter Turnout;Increases Representation#Increases Voter Turnout;Increases Representation\n",
      "it guarantees a much higher voter turnout and leads to results that are more likely to be representative of the population as a whole.#Increases Voter Turnout;Increases Representation#Increases Voter Turnout;Increases Representation\n",
      "it helps to gets a lot more people involved and elect the majority voted person.#Increases Voter Turnout;Increases Representation#Increases Voter Turnout;Increases Representation\n",
      "it helps to make sure that the government represents a majority of the population.#Increases Voter Turnout;Increases Representation#Increases Voter Turnout;Increases Representation\n",
      "it increases voter turn out and incentives more election input.#Increases Voter Turnout;Increases Representation#\n",
      "it insure the majority is represented.#Increases Voter Turnout;Increases Representation#Increases Voter Turnout;Increases Representation\n",
      "it is a civic duty to vote and unless all citizens' votes are heard, the elected officials are not true representatives.#Increases Voter Turnout;Increases Representation#\n",
      "it is a good way to ensure that the electorate is fully representative of the citizenry of a country.#Increases Voter Turnout;Increases Representation#Increases Voter Turnout;Increases Representation\n",
      "it is important for the citizens to vote and have their voices heard.#Increases Voter Turnout;Increases Representation#Increases Voter Turnout;Increases Representation\n",
      "it is more representative of the views of the population as a whole if all or almost all of the population actually votes.#Increases Voter Turnout;Increases Representation#Increases Voter Turnout;Increases Representation\n",
      "it makes sure the result of the election is representitive#Increases Voter Turnout;Increases Representation#\n",
      "it may be one of the only ways to truly get a voter turnout that reflects the reflects the popular desire and opinion of the country, changing the course of history by affecting the outcomes of future#Increases Voter Turnout;Increases Representation#Increases Voter Turnout;Increases Representation\n",
      "it may ensure that elected governments actually represent the majority of the population#Increases Voter Turnout;Increases Representation#Increases Voter Turnout;Increases Representation\n",
      "it will ensure that those elected reflect the choice of the majority.#Increases Voter Turnout;Increases Representation#Increases Voter Turnout;Increases Representation\n",
      "it will hear every citizen's vote.#Increases Voter Turnout;Increases Representation#Increases Voter Turnout;Increases Representation\n",
      "it will help increase voter turnout and result in more voices being heard#Increases Voter Turnout;Increases Representation#Increases Voter Turnout;Increases Representation\n",
      "it will increase the chance of having people be represented by someone who has their best interest at heart.#Increases Voter Turnout;Increases Representation#Increases Voter Turnout;Increases Representation\n",
      "it will show a more accurate opinion of the majority of the population.#Increases Voter Turnout;Increases Representation#Increases Voter Turnout;Increases Representation\n",
      "it would ensure a high number of votes and more accurately represent the view of a (non-repressed/dictatorial) country.#Increases Voter Turnout;Increases Representation#Increases Voter Turnout;Increases Representation\n",
      "it would ensure every person gave their opinion.#Increases Voter Turnout;Increases Representation#Increases Voter Turnout;Increases Representation\n",
      "it would ensure that the elected government represents the majority of the people.#Increases Voter Turnout;Increases Representation#Increases Voter Turnout;Increases Representation\n",
      "it would ensure that the elected officials represent the majority of the voters.#Increases Voter Turnout;Increases Representation#Increases Voter Turnout;Increases Representation\n",
      "it would help ensure that the elected official truly represents the majority of the people.#Increases Voter Turnout;Increases Representation#Increases Voter Turnout;Increases Representation\n",
      "it would make elected officials more representative of the whole population.#Increases Voter Turnout;Increases Representation#Increases Voter Turnout;Increases Representation\n",
      "it would make elections more representative of the overall will of the people.#Increases Voter Turnout;Increases Representation#Increases Voter Turnout;Increases Representation\n",
      "more people need to voice their choice for our political representatives.#Increases Voter Turnout;Increases Representation#Increases Voter Turnout;Increases Representation\n",
      "that way we can understand who people want as a good president#Increases Voter Turnout;Increases Representation#Increases Voter Turnout;Increases Representation\n",
      "that would insure that the vote represents the will of the people.#Increases Voter Turnout;Increases Representation#Increases Voter Turnout;Increases Representation\n",
      "the elected government officials represent the majority of the population.#Increases Voter Turnout;Increases Representation#Increases Voter Turnout;Increases Representation\n",
      "the elected government represents the majority of the population.#Increases Voter Turnout;Increases Representation#Increases Voter Turnout;Increases Representation\n",
      "the elected government will represent the majority of the population.#Increases Voter Turnout;Increases Representation#Increases Voter Turnout;Increases Representation\n",
      "the elected government would be representative of what the majority of the country's population wants it to be.#Increases Voter Turnout;Increases Representation#Increases Voter Turnout;Increases Representation\n",
      "the elected is put in office based off of majority vote, however if the majority of the country is not voting how accurate would voting be?#Increases Voter Turnout;Increases Representation#\n",
      "the will have a true representation of the people.#Increases Voter Turnout;Increases Representation#Increases Voter Turnout;Increases Representation\n",
      "then it truly represents the will of the people.#Increases Voter Turnout;Increases Representation#Increases Voter Turnout;Increases Representation\n",
      "this would increase accurate representation of what the people in a nation actually want.#Increases Voter Turnout;Increases Representation#Increases Voter Turnout;Increases Representation\n",
      "we cannot ensure that the government truly represents all citizenry unless everyone votes and thus performs their civic duty.#Increases Voter Turnout;Increases Representation#\n",
      "by doing so they will ensure as many people will vote as possible.#Increases Voter Turnout#Increases Voter Turnout;Increases Representation\n",
      "encourage voter participation#Increases Voter Turnout#\n",
      "everyone has to actually vote.#Increases Voter Turnout#\n",
      "everyone would cast a vote, not just a few as indicated.#Increases Voter Turnout#\n",
      "it encourages participation in politics.#Increases Voter Turnout#\n",
      "it encourages participation in the political process.#Increases Voter Turnout#\n",
      "it encourages people to vote and ensures a greater number of people will vote on Election Day.#Increases Voter Turnout#Increases Voter Turnout;Increases Representation\n",
      "it encourages voter to participate.#Increases Voter Turnout#\n",
      "it ensures high voter turnout.#Increases Voter Turnout#\n",
      "it ensures maximum voter turnout and voting is a civic duty.#Increases Voter Turnout#\n",
      "it increases attendance at the polls.#Increases Voter Turnout#\n",
      "It increases voter turnout at the polls.#Increases Voter Turnout#\n",
      "it increases voter turnout in a world where it seems less and less people, especially younger generations, are voting.#Increases Voter Turnout#\n",
      "it insures that everyone has voted.#Increases Voter Turnout#Increases Voter Turnout;Increases Representation\n",
      "it makes people show up to vote.#Increases Voter Turnout#\n",
      "it prevents low voter turnout.#Increases Voter Turnout#\n",
      "it solves the problem of low voter turnout by compelling everyone to vote.#Increases Voter Turnout#\n",
      "it will bring people to the polls and let them know their vote counts.#Increases Voter Turnout#Increases Voter Turnout;Increases Representation\n",
      "it will cause more voter turn out.#Increases Voter Turnout#\n",
      "it will ensure that every citizen casts their vote.#Increases Voter Turnout#Increases Voter Turnout;Increases Representation\n",
      "it will ensure that the majority of eligible voters will actually vote during elections.#Increases Voter Turnout#Increases Voter Turnout;Increases Representation\n",
      "it will force a larger voter turn out.#Increases Voter Turnout#\n",
      "it will increase voter turnout.#Increases Voter Turnout#\n",
      "it would guarantee that every citizen votes.#Increases Voter Turnout#Increases Voter Turnout;Increases Representation\n",
      "it would help voters actually participate in elections.#Increases Voter Turnout#Increases Voter Turnout;Increases Representation\n",
      "It would increase the number of the population voting.#Increases Voter Turnout#Increases Voter Turnout;Increases Representation\n",
      "it would increase the number of votes cast.#Increases Voter Turnout#\n",
      "it would increase the numbers of people that actually vote.#Increases Voter Turnout#Increases Voter Turnout;Increases Representation\n",
      "it would increase voter turnout and participation.#Increases Voter Turnout#\n",
      "it would increase voter turnout.#Increases Voter Turnout#\n",
      "it would solve the low voter turnout problem.#Increases Voter Turnout#\n",
      "mandatory voting encourages voter participation.#Increases Voter Turnout#\n",
      "more people would then be a part of the process.#Increases Voter Turnout#Increases Voter Turnout;Increases Representation\n",
      "people would then be forced to vote.#Increases Voter Turnout#\n",
      "that would ensure that all citizens had participated in the election process.#Increases Voter Turnout#Increases Voter Turnout;Increases Representation\n",
      "then everyone would vote and the turn out would be fair.#Increases Voter Turnout#\n",
      "then more people will turn out to vote#Increases Voter Turnout#\n",
      "they will have a higher voter turnout.#Increases Voter Turnout#\n",
      "this ensures voters will turn out as they face stiff ramifications if they do not.#Increases Voter Turnout#\n",
      "this will encourage all citizens of voting age to do so#Increases Voter Turnout#\n",
      "to encourage citizen's participation.#Increases Voter Turnout#\n",
      "voting rates increase.#Increases Voter Turnout#\n",
      ", need to have a real vote and a real choice, not forced essentially.#Answered wrong stem#Personal Opinion to Fact\n",
      "he has the right to select a right person to represent him to speak at all higher levels.#Answered wrong stem#\n",
      "it is a civic right.#Answered wrong stem#\n",
      "it's the right for an individual to vote.#Answered wrong stem#\n",
      "some people want no part in politics and that should be ok.#Answered wrong stem#\n",
      "that is suppose to be the point, for the people, by the people, Not forced by government, for the people.#Answered wrong stem#\n",
      "they are a dictatorship.#Answered wrong stem#\n",
      "compulsory voting laws prevent voter fraud and ensure that every citizen received a chance to vote in each election.#Cause/Effect Misattribution#\n",
      "everyone would have an opinion and the person elected is the one that the people chose#Cause/Effect Misattribution#Increases Voter Turnout;Increases Representation\n",
      "it is the civic duty of every citizen and when mandatory voting was dropped, there was a 30% decline in voter turnout.#Evidence needs more context#\n",
      "only 56% of eligible voters showed up to the polls.#Evidence needs more context#\n",
      "it would help the United States\"#Evidence needs more context#\n",
      "750 million people voted for American Idol, while only 125 (of 222) million citizens voted in the 2012 election in the United States presidential election#Explain your evidence#\n",
      "only 70% of voters showed up to the polls in Venezuela in 1993#Explain your evidence#\n",
      "Americans are more involved with tv shows than major elections#Explain your evidence#\n",
      "it forces people to be more responsible in choosing a candidate.#Outside of article's scope#Increases Voter Turnout;Increases Representation\n",
      "it will help enhance the chance of a fair election.#Outside of article's scope#Increases Voter Turnout;Increases Representation\n",
      "it will increase the rates of better results in elections.#Outside of article's scope#Increases Voter Turnout;Increases Representation\n",
      "it would increase favorable outcomes.#Outside of article's scope#\n",
      "a civic duty required by law#Personal Opinion to Fact#Personal Opinion to Fact\n",
      "every citizen should feel obligated to vote.#Personal Opinion to Fact#\n",
      "everyone should have an opinion.#Personal Opinion to Fact#\n",
      "I feel as a US citizen, it is our duty to make sure our voices are heard.#Personal Opinion to Fact#Increases Voter Turnout;Increases Representation\n",
      "important for all citizens#Personal Opinion to Fact#\n",
      "it is a citizen's civic duty to vote.#Personal Opinion to Fact#\n",
      "it is a citizen's responsibility to assist in forming a representitve government.#Personal Opinion to Fact#Increases Voter Turnout;Increases Representation\n",
      "it is a civic duty.#Personal Opinion to Fact#Personal Opinion to Fact\n",
      "it is everyone's civic duty to do so.#Personal Opinion to Fact#\n",
      "it should be a civic duty not a civic right.#Personal Opinion to Fact#Personal Opinion to Fact\n",
      "voting in presidential elections matter and has consequences.#Personal Opinion to Fact#\n",
      "voting is a civic duty and since too many people don't vote voluntarily, voting should be compulsory.#Personal Opinion to Fact#\n",
      "voting is an inherit responsibility of living and working in your country.#Personal Opinion to Fact#\n",
      "the input of all people is needed in order for it to work.#Unclear/inaccurate subject#Increases Voter Turnout;Increases Representation\n",
      "it is a common problem#Unclear/inaccurate subject#\n",
      "., election time.#Unintelligible response#\n",
      "future#Unintelligible response#\n",
      "THAT IS MAKE OUR NATION TO THE BRIGHT FUTURE#Unintelligible response#\n",
      "we choose correct person#Unintelligible response#\n",
      "we choose the correct person.#Unintelligible response#\n",
      "WE CHOOSE THE CRT PERSON#Unintelligible response#\n",
      "a dictatorship might abuse such a system by curtailing political competition.#Governments Can Abuse It/Dictatorships#Personal Opinion to Fact\n",
      "governments often misuse this law#Governments Can Abuse It/Dictatorships#\n",
      "it is something that could easily be corrupted and abused by certain governments.#Governments Can Abuse It/Dictatorships#\n",
      "some governments might misuse it sometimes.#Governments Can Abuse It/Dictatorships#\n",
      "governments can sometimes misuse it and it becomes a violation of personal choices.#Governments Can Abuse It/Dictatorships#\n",
      "in some countries that are dictatorial, leaders misuse this system to their own ends.#Governments Can Abuse It/Dictatorships#\n",
      "sometimes this leads to government misuse.#Governments Can Abuse It/Dictatorships#\n",
      "penalizing people for not voting may be unfair due to the nature of life in today's world.#Negative Effects on Voter#Personal Opinion to Fact\n",
      "it may be difficult for everyone to make it to the polls and the consequences are steep for those people#Negative Effects on Voter#\n",
      "voters may be given harsh consequences for failure to vote#Negative Effects on Voter#\n",
      "this may put undue stress on people unable ot make it to the polls.#Negative Effects on Voter#\n",
      "an administration may not implement obligatory democratic laws or even have formal endorses in law for neglecting to cast a ballot, the law may have some impact upon the natives.#Not All Governments Enforce It#Personal Opinion to Fact\n",
      "not every country sees these laws through#Not All Governments Enforce It#\n",
      "not all countries with these laws make sure they are followed#Not All Governments Enforce It#\n",
      "the government can misuse it since it would be forcing people to vote by placing one person to be voted for since there is no competition in some dictatorship countries#Governments Can Abuse It/Dictatorships;North Korea/Dictatorships#\n",
      "can be seen as a violation of personal choices.#Violation of Personal Liberty;Reference#Personal Opinion to Fact\n",
      "others say that voting should be seen as a civic right and not a civic duty.#Violation of Personal Liberty;Reference#\n",
      "some believe it is a violation of personal beliefs and choices.#Violation of Personal Liberty;Reference#\n",
      "some people think it violates an individuals choice.#Violation of Personal Liberty;Reference#\n",
      "it may decrease the number of voters by quite a bit.#Answered Wrong Stem#\n",
      "require eligible citizens to register#Answered Wrong Stem#Personal Opinion to Fact\n",
      "when compulsory, the voter turn out is very low.#Answered Wrong Stem#\n",
      "there are ways that compulsory voting can be used or unfair.#Clarify/Identify/Specify#Personal Opinion to Fact\n",
      "the consequences might be severe like in Bolivia#Evidences Needs More Context#\n",
      "encourage voters to turn out and voice their opinion.#Misuse of Conjunction#Increases Voter Turnout;Increases Representation\n",
      "it holds the citizens responsible for what happens in their country.#Misuse of Conjunction#\n",
      "peoples just not interested in politics.#Misuse of Conjunction#\n",
      "voting ensures that the elected government represents the majority of the population.#Misuse of Conjunction#\n",
      "definitely should have more ways of voting for those who cannot make it to ballot stations, and include more than one candidate on the ballot.#Outside of Article's Scope#Personal Opinion to Fact\n",
      "should also require that the person works if that day if they know they will not be able to participate.#Outside of Article's Scope#Personal Opinion to Fact\n",
      "there should be controls and safeguards in place to make sure the voting process is fair and every vote counts.#Outside of Article's Scope#Personal Opinion to Fact\n",
      "also provide transportation for those who need ot to get to the polling stations.#Outside of Article's Scope#Personal Opinion to Fact\n",
      "instead of having a criminal penalty for not voting there should be some sort of tax break for voting.#Outside of Article's Scope#Personal Opinion to Fact\n",
      "it does not advance the interests of the ruling class to have the lower classes vote.#Outside of Article's Scope#\n",
      "it may not be the best option--there are some who have no interest in politics, and others who may intentionally try to throw off the votes by voting randomly.#Outside of Article's Scope#\n",
      "it would shut down many businesses for the duration of the polls.#Outside of Article's Scope#\n",
      "people being forced to vote may have a backfire consequence.#Outside of Article's Scope#\n",
      "should also ensure that the public understands that their voting upholds our understanding of democracy and not dictatorship.#Outside of Article's Scope#Personal Opinion to Fact\n",
      "they must restrict immigrants and other corridors#Outside of Article's Scope#Personal Opinion to Fact\n",
      "they should also be responsible for making it easy as possible.#Outside of Article's Scope#Personal Opinion to Fact\n",
      "have leeway in when and how voters are able to vote.#Outside of Article's Scope#Personal Opinion to Fact\n",
      "allow for clauses for unique situations that may make a citizen unable to make it on a certain day, such as an absentee ballet.#Personal Opinion to Fact#Personal Opinion to Fact\n",
      "be careful to make sure they don't misuse it like dictators do.#Personal Opinion to Fact#Personal Opinion to Fact\n",
      "be careful to not abuse this power and keep an open ballot with multiple candidates.#Personal Opinion to Fact#Personal Opinion to Fact\n",
      "citizens should have the want to make voting a priority for themselves.#Personal Opinion to Fact#\n",
      "should not highly penalize citizens for not working.#Personal Opinion to Fact#Personal Opinion to Fact\n",
      "the same person is elected every time.#Personal Opinion to Fact#\n",
      "a good reason for not voting should be accepted.#Personal Opinion to Fact#Personal Opinion to Fact\n",
      "accept official excuses from those who cannot vote.#Personal Opinion to Fact#Personal Opinion to Fact\n",
      "allow citizens to provide a valid reason not to vote.#Personal Opinion to Fact#Personal Opinion to Fact\n",
      "allow exceptions for good reasons such as illness.#Personal Opinion to Fact#Personal Opinion to Fact\n",
      "allow exceptions for good reasons.#Personal Opinion to Fact#Personal Opinion to Fact\n",
      "allow for exceptions in emergency cases.#Personal Opinion to Fact#Personal Opinion to Fact\n",
      "allow for justifiable reasons if someone does not vote.#Personal Opinion to Fact#Personal Opinion to Fact\n",
      "allow for reasonable explanations of an inability to vote.#Personal Opinion to Fact#Personal Opinion to Fact\n",
      "allow for voters with accepted excuses be dismissed.#Personal Opinion to Fact#Personal Opinion to Fact\n",
      "allow opt outs and accept excuses in order to retain freedom of liberty.#Personal Opinion to Fact#Personal Opinion to Fact\n",
      "allow other people to run so it is not the same people with no choice#Personal Opinion to Fact#Personal Opinion to Fact\n",
      "allow people not to vote if they have a justifiable reason.#Personal Opinion to Fact#Personal Opinion to Fact\n",
      "allow people to not vote if they have a good reason.#Personal Opinion to Fact#Personal Opinion to Fact\n",
      "allow reasonable situations to determine if voting is not possible within the time frame provided.#Personal Opinion to Fact#Personal Opinion to Fact\n",
      "also understand that circumstances can prevent someone from doing it.#Personal Opinion to Fact#Personal Opinion to Fact\n",
      "be understanding of people who cannot make it to the polls.#Personal Opinion to Fact#Personal Opinion to Fact\n",
      "do not forcing people to vote for a particular party or candidate#Personal Opinion to Fact#Personal Opinion to Fact\n",
      "does that conflict with the democracy we live in?#Personal Opinion to Fact#\n",
      "ensure ample opportunity to cast vote and no punishment for valid reasons for not voting.#Personal Opinion to Fact#Personal Opinion to Fact\n",
      "exceptions should be allowed similar to the exceptions granted for jury duty.#Personal Opinion to Fact#Personal Opinion to Fact\n",
      "forcing citizens to perform an action is a violation of liberty and freedom of choice.#Personal Opinion to Fact#Personal Opinion to Fact\n",
      "give exceptions for extreme circumstances.#Personal Opinion to Fact#Personal Opinion to Fact\n",
      "have an outlet for those who cannot get to the polls for legitimate reasons.#Personal Opinion to Fact#Personal Opinion to Fact\n",
      "have exceptions for people who are unable to if they are in the hospital, for instance.#Personal Opinion to Fact#Personal Opinion to Fact\n",
      "I don't think this is a good idea because it interferes too much with civil liberties in my opinion and I agree that everyone should vote, but I do not believe that they should be forced to do so.#Personal Opinion to Fact#\n",
      "if a potential voter has a very legitimate excuse to not participant like health, religion or otherwise than of course they should be allowed to not have to participate, not being interested should definitely not be a valid excuse.#Personal Opinion to Fact#Personal Opinion to Fact\n",
      "in such a way as to promote democracy; not dictators.#Personal Opinion to Fact#Personal Opinion to Fact\n",
      "it doesn't give personal liberty.#Personal Opinion to Fact#Personal Opinion to Fact\n",
      "it goes against ones freedom of liberties.#Personal Opinion to Fact#Personal Opinion to Fact\n",
      "it is a violation of people's personal liberties and choices.#Personal Opinion to Fact#Personal Opinion to Fact\n",
      "it must be wary for the government not to misuse it to favor one sided campaigns.#Personal Opinion to Fact#Personal Opinion to Fact\n",
      "it should allow citizens to miss the day of voting if they have a good reason.#Personal Opinion to Fact#Personal Opinion to Fact\n",
      "it should excuse citizens who are unable to vote due to unavoidable circumstances.#Personal Opinion to Fact#Personal Opinion to Fact\n",
      "it should exempt people with good reasons why they couldn't get to the polls that day.#Personal Opinion to Fact#Personal Opinion to Fact\n",
      "it shouldn't be misused.#Personal Opinion to Fact#Personal Opinion to Fact\n",
      "it turns a civic right into a civic duty.#Personal Opinion to Fact#Personal Opinion to Fact\n",
      "it violates personal liberties and choices.#Personal Opinion to Fact#Personal Opinion to Fact\n",
      "it would take away the freedom of choice.#Personal Opinion to Fact#Personal Opinion to Fact\n",
      "it's a violation of personal liberties and choices.#Personal Opinion to Fact#Personal Opinion to Fact\n",
      "make exceptions,#Personal Opinion to Fact#Personal Opinion to Fact\n",
      "make it ok not to vote if you have a good reason then there should be no punishment.#Personal Opinion to Fact#Personal Opinion to Fact\n",
      "make sure the public is able to choose the candidates.#Personal Opinion to Fact#\n",
      "make sure there is more than one person running for the position.#Personal Opinion to Fact#Personal Opinion to Fact\n",
      "multiple candidates should be on the ballot to prevent governments from misusing mandatory voting.#Personal Opinion to Fact#Personal Opinion to Fact\n",
      "must also take steps to ensure there are alternatives.#Personal Opinion to Fact#Personal Opinion to Fact\n",
      "must have more than one candidate to vote for.#Personal Opinion to Fact#Personal Opinion to Fact\n",
      "not enforce it.#Personal Opinion to Fact#Personal Opinion to Fact\n",
      "not harass citizens with this.#Personal Opinion to Fact#Personal Opinion to Fact\n",
      "not if they have a reason for absence, like a hospital stay.#Personal Opinion to Fact#Personal Opinion to Fact\n",
      "not impose strict penalties such as restricting pay.#Personal Opinion to Fact#Personal Opinion to Fact\n",
      "not place any serious pumishments on the ones who do not vote.#Personal Opinion to Fact#Personal Opinion to Fact\n",
      "not punish a person if they choose not to vote during an election.#Personal Opinion to Fact#Personal Opinion to Fact\n",
      "not punish a voter by freezing their paycheck because they have needs for themselves and their family.#Personal Opinion to Fact#Personal Opinion to Fact\n",
      "not punish people for not voting if they have a good reason, like being in the hospital.#Personal Opinion to Fact#Personal Opinion to Fact\n",
      "not punish those who cannot make it to the polls.#Personal Opinion to Fact#Personal Opinion to Fact\n",
      "not punish those who do not as it violates their freedom of choice.#Personal Opinion to Fact#Personal Opinion to Fact\n",
      "not punish those who fail to vote.#Personal Opinion to Fact#Personal Opinion to Fact\n",
      "not punish those who have valid reasons for missing a vote.#Personal Opinion to Fact#Personal Opinion to Fact\n",
      "not punish those with a valid excuse.#Personal Opinion to Fact#Personal Opinion to Fact\n",
      "not use drastic punishments when people don't vote.#Personal Opinion to Fact#Personal Opinion to Fact\n",
      "not withhold payments or impose harsh penalties for failing to vote.#Personal Opinion to Fact#Personal Opinion to Fact\n",
      "only without punishment for those who do not vote#Personal Opinion to Fact#Personal Opinion to Fact\n",
      "should allow citizens with legitimate excuses not to vote.#Personal Opinion to Fact#Personal Opinion to Fact\n",
      "should allow exceptions for those with valid reasons.#Personal Opinion to Fact#Personal Opinion to Fact\n",
      "should allow for exceptions like hospitalization.#Personal Opinion to Fact#Personal Opinion to Fact\n",
      "should allow for valid exemptions to not voting.#Personal Opinion to Fact#Personal Opinion to Fact\n",
      "should allow people not to vote if they have a legitimate reason for not being able to.#Personal Opinion to Fact#Personal Opinion to Fact\n",
      "should allow provisions for extenuating circumstances, such as being in the hospital.#Personal Opinion to Fact#Personal Opinion to Fact\n",
      "should also have more than one candidate.#Personal Opinion to Fact#Personal Opinion to Fact\n",
      "should be allowed to vote candidate of their choice#Personal Opinion to Fact#Personal Opinion to Fact\n",
      "should exempt citizens who are sick or out of the country.#Personal Opinion to Fact#Personal Opinion to Fact\n",
      "should not harshly penalize those who cannot or will not vote.#Personal Opinion to Fact#Personal Opinion to Fact\n",
      "should not hold back a person's salary for 2 months if they are unable to get to a polling station#Personal Opinion to Fact#Personal Opinion to Fact\n",
      "should not misuse the requirement, as in the cases of North Korea and Bolivia.#Personal Opinion to Fact#Personal Opinion to Fact\n",
      "should not punish people if they cannot vote.#Personal Opinion to Fact#Personal Opinion to Fact\n",
      "should not punish the groups of people that are unable to do so.#Personal Opinion to Fact#Personal Opinion to Fact\n",
      "should not punish those that do not vote.#Personal Opinion to Fact#Personal Opinion to Fact\n",
      "should not severely punish those that don't vote#Personal Opinion to Fact#Personal Opinion to Fact\n",
      "shouldn't have such harsh requirements since not everybody has transportation readily available to vote.#Personal Opinion to Fact#Personal Opinion to Fact\n",
      "shouldn't misuse this, and should not have the penalty be too harsh.#Personal Opinion to Fact#Personal Opinion to Fact\n",
      "the election must be fair and not rigged.#Personal Opinion to Fact#Personal Opinion to Fact\n",
      "the problem is that this can be used against citizens' freedoms#Personal Opinion to Fact#\n",
      "the punishment for individuals who don't vote shouldn't cause serious hardship and accommodations should be made to support individuals whenever necessary.#Personal Opinion to Fact#Personal Opinion to Fact\n",
      "there is a danger of misuse it if they do.#Personal Opinion to Fact#Personal Opinion to Fact\n",
      "there must be political competition, or more than one candidate on the ballot.#Personal Opinion to Fact#Personal Opinion to Fact\n",
      "there needs to be a variety of candidates so that the people actually get a choice in who they elect.#Personal Opinion to Fact#\n",
      "there should be ample opportunities for people to cast their vote and no punishment if a valid reason is given for not voting.#Personal Opinion to Fact#Personal Opinion to Fact\n",
      "there should be caveats for illnesses.#Personal Opinion to Fact#Personal Opinion to Fact\n",
      "there should be exceptions for people who are unable to make it the polls.#Personal Opinion to Fact#Personal Opinion to Fact\n",
      "there should be exceptions if people are unable to make it to the voting booths.#Personal Opinion to Fact#Personal Opinion to Fact\n",
      "there should be exceptions in cases where individuals are unable to get to the voting polls for valid reasons (i.e. illness, transportation issue, work conflict).#Personal Opinion to Fact#Personal Opinion to Fact\n",
      "there should be exclusions if someone has a good excuse like being in the hospital or another good reason why they could not vote.#Personal Opinion to Fact#Personal Opinion to Fact\n",
      "there should not be a legal penalty if they do not.#Personal Opinion to Fact#Personal Opinion to Fact\n",
      "they also have to take in account the peoples oppinion#Personal Opinion to Fact#\n",
      "they must allow for exceptions such as an illness or infirmity that prevent one from safely getting to and from the polls.#Personal Opinion to Fact#Personal Opinion to Fact\n",
      "they need to allow for reasonable circumstances that may make voting challenging.#Personal Opinion to Fact#Personal Opinion to Fact\n",
      "they should accept if a citizen has a good reason for not voting.#Personal Opinion to Fact#Personal Opinion to Fact\n",
      "they should have the ability to not vote if something important impedes their ability to.#Personal Opinion to Fact#Personal Opinion to Fact\n",
      "They should not affect people physically maybe you make it punishememt like a fine or something its shouldnt be to detrimental#Personal Opinion to Fact#Personal Opinion to Fact\n",
      "they should not misuse that obligation.#Personal Opinion to Fact#Personal Opinion to Fact\n",
      "they should not violate the civil liberties of their constituency#Personal Opinion to Fact#Personal Opinion to Fact\n",
      "they shouldn't punish citizens with a valid excuse to not make it to the polls.#Personal Opinion to Fact#Personal Opinion to Fact\n",
      "voting itself is a democratic act, and so the option of voting should be left up to each individual's choice.#Personal Opinion to Fact#\n",
      "we should not punish those who are unable to vote for a legitimate reason.#Personal Opinion to Fact#Personal Opinion to Fact\n",
      "with minor penalties#Personal Opinion to Fact#Personal Opinion to Fact\n",
      "within reason, meaning if people cannot make it to the polls on election day they should not be punished as long as they have a good reason for not voting.#Personal Opinion to Fact#Personal Opinion to Fact\n",
      "you cannot force someone to behave certain way#Personal Opinion to Fact#Personal Opinion to Fact\n",
      "it could be a violation of personal liberties and choices.#Personal Opinion to Fact#Personal Opinion to Fact\n",
      "some see it as a violation of personal liberties and choices.#Plagiarism#\n",
      "those against compulsory voting say that it is a violation of personal liberties and choices.#Plagiarism#\n",
      "those against compulsory voting say that it is a violation of personal liberties and choices.#Plagiarism#\n",
      "election time.#Unintelligible Response#\n",
      "those who have punished in bolivia#Unintelligible Response#Personal Opinion to Fact\n",
      "i like to select by the voting of good president for selected because they are very intersting to convert of countries.but the same time they person because the government not allowed to the multiple times to get multiple division#Unintelligible Response#\n",
      "the citizen should not voting 100%#Unintelligible Response#Personal Opinion to Fact\n",
      "they work liberal#Unintelligible Response#\n",
      "very use myindian#Unintelligible Response#\n",
      "Governments should make voting compulsory so everyone is represented in the government.#Rep#Rep\n",
      "Governments should make voting compulsory so a representative is elected by the community as a whole.#Rep;Leaders#Rep\n",
      "Governments should make voting compulsory so all citizen should be vote compulsory.#Other#\n",
      "Governments should make voting compulsory so all citizens are involved, educated, and the nation as a whole elects suitable president.#Vote;Leaders#Rep\n",
      "Governments should make voting compulsory so all citizens voice their choice of representation.#Rep#Rep\n",
      "Governments should make voting compulsory so as to ensure good leadership#Leaders#\n",
      "Governments should make voting compulsory so but those voting ensures that the elected government represents the majority of the population#Rep#Rep\n",
      "Governments should make voting compulsory so citizen will go and vote.#Vote#\n",
      "Governments should make voting compulsory so companies should give adequate time off to be able to do so.#Other#\n",
      "Governments should make voting compulsory so democracies have representative governments#Rep#\n",
      "Governments should make voting compulsory so democracy can thrive by properly representing all the people.#Rep#Rep\n",
      "Governments should make voting compulsory so elected officials more accurately represent the views of the nation as a whole.#Rep;Leaders#Rep\n",
      "Governments should make voting compulsory so Election Day should be made a national holiday allowing citizens the opportunity to exercise their right to vote.#Other#\n",
      "Governments should make voting compulsory so election results represent the full will of the prople.#Rep#Rep\n",
      "Governments should make voting compulsory so every citizen will have the democratic right to express their own political choices.#Rep#\n",
      "Governments should make voting compulsory so every has to cast their vote.#Vote#\n",
      "Governments should make voting compulsory so every voice and interest is heard and represented.#Rep#Rep\n",
      "Governments should make voting compulsory so every voice is heard.#Rep#Rep\n",
      "Governments should make voting compulsory so everyone can make their vote count.#Other#\n",
      "Governments should make voting compulsory so everyone can take part in the electoral process.#Vote#\n",
      "Governments should make voting compulsory so everyone has a say in what happens in their country.#Rep#Rep\n",
      "Governments should make voting compulsory so everyone has a say so in who they want in office and etc#Rep;Leaders#Rep\n",
      "Governments should make voting compulsory so everyone is forced to cast a ballot and the candidate who has the most votes wins.#Vote#\n",
      "Governments should make voting compulsory so everyone will vote.#Vote#\n",
      "Governments should make voting compulsory so everyone would feel their opinion on leadership is felt.#Feel#Rep\n",
      "Governments should make voting compulsory so everyone's opinion is tallied.#Other#Rep\n",
      "Governments should make voting compulsory so everyone's voice can be heard.#Rep#Rep\n",
      "Governments should make voting compulsory so everyone’s voice is heard and counted.#Rep#Rep\n",
      "Governments should make voting compulsory so hat a real and honest representation can be made, and candidates will not squeak in despite doing awful things.#Rep#\n",
      "Governments should make voting compulsory so it can require days off so that everyone has the chance to.#Other#\n",
      "Governments should make voting compulsory so it creates an atmosphere most similar to a true democracy - where the winning candidate is more likely to represent the majority of voters.#Rep;Leaders#Rep\n",
      "Governments should make voting compulsory so it ensures that the elected government represents the majority of the population#Rep#Rep\n",
      "Governments should make voting compulsory so it is important that control mechanisms be created so that this favors democracy#Other#\n",
      "Governments should make voting compulsory so it shows a majority vote for president.#Leaders#\n",
      "Governments should make voting compulsory so it will give the elections a broader answer and spectrum of what side the people are on.#Other#Rep\n",
      "Governments should make voting compulsory so low voter turnout is avoided.#Vote#\n",
      "Governments should make voting compulsory so majority of population votes, representation reflects the population.#Rep;Vote#Rep\n",
      "Governments should make voting compulsory so more of the population will vote.#Vote#\n",
      "Governments should make voting compulsory so more people can exercise who they really want in office.#Other#\n",
      "Governments should make voting compulsory so more people get to voice their opinions at the polls.#Vote#Rep\n",
      "Governments should make voting compulsory so more people pay attention to what's going on in the government, and can't play the 'poor me' helpless card.#Other#\n",
      "Governments should make voting compulsory so more people vote in office elections than for television contests.#Vote#\n",
      "Governments should make voting compulsory so more people vote so the true winner can win#Vote#\n",
      "Governments should make voting compulsory so more people would vote.#Vote#\n",
      "Governments should make voting compulsory so most of the country is able to participate in the democracy.#Other#\n",
      "Governments should make voting compulsory so others can have a voice or if they want to be incognito.#Rep#\n",
      "Governments should make voting compulsory so people all have a voice, and our true feelings and thoughts are out there for all to see.#Rep#Rep\n",
      "Governments should make voting compulsory so people can not say that their voice isn't heard or they don't have a say in government.#Rep#\n",
      "Governments should make voting compulsory so people can pay more attention to the candidates and pick whose right for the job.#Other#\n",
      "Governments should make voting compulsory so people get an opportunity as it is a civil right.#Other#\n",
      "Governments should make voting compulsory so people have the ability to think before they vote#Other#\n",
      "Governments should make voting compulsory so people will be forced to make a decision on who they want elected rather than taking a more passive approach and not vote at all.#Vote;Leaders#\n",
      "Governments should make voting compulsory so that a decline in voter turnout, like the 30% drop in Venezuela, is avoided#Vote#\n",
      "Governments should make voting compulsory so that a majority of the population will vote and have representation on Election Day.#Rep;Vote#Rep\n",
      "Governments should make voting compulsory so that a true majority of voters are represented by the winner of the election.#Rep#Rep\n",
      "Governments should make voting compulsory so that all citizens can have a say in political affairs.#Rep#Rep\n",
      "Governments should make voting compulsory so that all citizens of voting age will know their vote counted#Feel#\n",
      "Governments should make voting compulsory so that all eligible able-bodied voters will vote.#Vote#\n",
      "Governments should make voting compulsory so that all eligible voters are required to vote.#Vote#\n",
      "Governments should make voting compulsory so that all people vote and are represented by their government.#Rep;Vote#Rep\n",
      "Governments should make voting compulsory so that apathetic citizens start to care about elections#Apathy#\n",
      "Governments should make voting compulsory so that as many people as possible have a say in how their government is run and by whom.#Rep;Leaders#Rep\n",
      "Governments should make voting compulsory so that corrupt politicians can be eliminated from office.#Other#\n",
      "Governments should make voting compulsory so that dictatorships are everywhere & the government can direct people to conformity,#Other#\n",
      "Governments should make voting compulsory so that each person's vote can be heard.#Rep#Rep\n",
      "Governments should make voting compulsory so that elected officials will truly represent the majority of the populace.#Rep;Leaders#Rep\n",
      "Governments should make voting compulsory so that employers are thus forced to give employees paid time to vote, thus ensuring employees are able to participate in democracy without being subject to employers' whims.#Other#\n",
      "Governments should make voting compulsory so that every citizen can help guide the politics in their country.#Rep#\n",
      "Governments should make voting compulsory so that every citizen can make their vote count since its their civic duty.#Duty#\n",
      "Governments should make voting compulsory so that every citizen has a chance to vote.#Other#\n",
      "Governments should make voting compulsory so that every citizen has a true say.#Rep#Rep\n",
      "Governments should make voting compulsory so that every person can make their own decision as to whether they want to vote or not.#Other#\n",
      "Governments should make voting compulsory so that everyone could be heard#Rep#Rep\n",
      "Governments should make voting compulsory so that everyone exercises there right to vote for the person they find to be the best candidate.#Vote#\n",
      "Governments should make voting compulsory so that everyone has a good reason to become more actively involved in the political process.#Vote#\n",
      "Governments should make voting compulsory so that everyone has a voice in who gets elected.#Rep;Leaders#Rep\n",
      "Governments should make voting compulsory so that everyone has an opportunity to make their voice heard.#Rep#Rep\n",
      "Governments should make voting compulsory so that everyone in the country can have their voices be heard not just the few amounts of people that make the effort to go vote.#Rep#Rep\n",
      "Governments should make voting compulsory so that everyone who votes can have a say in the election choice.#Rep#Rep\n",
      "Governments should make voting compulsory so that it ensures the population will vote for a candidate that is truly placed in office by the people and for the people.#Rep;Leaders#Rep\n",
      "Governments should make voting compulsory so that low voter turnout is avoided.#Vote#\n",
      "Governments should make voting compulsory so that more citizens actually vote.#Vote#\n",
      "Governments should make voting compulsory so that more people can participate#Vote#\n",
      "Governments should make voting compulsory so that nearly all eligible voters actually vote.#Vote#\n",
      "Governments should make voting compulsory so that people elect the true choice in the election.#Other#\n",
      "Governments should make voting compulsory so that people understand their civic obligation and vote on election day#Vote;Duty#\n",
      "Governments should make voting compulsory so that people will turn out to vote.#Vote#\n",
      "Governments should make voting compulsory so that the country can remain fair with its candidates#Other#\n",
      "Governments should make voting compulsory so that the elected government officials represent a majority of the population and not just the segment that choose to vote.#Rep#Rep\n",
      "Governments should make voting compulsory so that the elected government represent the majority of the population.#Rep#Rep\n",
      "Governments should make voting compulsory so that the majority of the population have a say in their government representation.#Rep#Rep\n",
      "Governments should make voting compulsory so that the majority of voters get their voices heard.#Rep#Rep\n",
      "Governments should make voting compulsory so that the majority will vote the elected official in.#Vote#Rep\n",
      "Governments should make voting compulsory so that the opinions of all citizens are heard.#Rep#Rep\n",
      "Governments should make voting compulsory so That the population is better represented in the laws are more in line with what people want#Other#Rep\n",
      "Governments should make voting compulsory so that the results of the election are a true reflection of the majority ofpeopl r not just a few#Rep#Rep\n",
      "Governments should make voting compulsory so that the the odds of electing a government more representative of the majority of the citizens is hopefully improved.#Rep#Rep\n",
      "Governments should make voting compulsory so that the true majority vote winner will be chosen.#Rep#Rep\n",
      "Governments should make voting compulsory so that the use of the Electoral College is no longer necessary.#Other#\n",
      "Governments should make voting compulsory so that the views of the entire population are more accurately depicted in the results.#Rep#Rep\n",
      "Governments should make voting compulsory so that the will of the people can more accurately be represented.#Rep#Rep\n",
      "Governments should make voting compulsory so that the will of the people is genuinely represented.#Rep#Rep\n",
      "Governments should make voting compulsory so that there is a correlation between the population and the government in terms of representation.#Rep#Rep\n",
      "Governments should make voting compulsory so that there is a reason for people to get involved in politics but there should be no punishment fir those who do not vote#Other#\n",
      "Governments should make voting compulsory so that they are actually representing the majority of the population.#Rep#Rep\n",
      "Governments should make voting compulsory so that they have majority of the population represented in the process.#Rep#Rep\n",
      "Governments should make voting compulsory so that they may stop falsifying votes, hopefully.#Other#\n",
      "Governments should make voting compulsory so that voter turnout increases.#Vote#\n",
      "Governments should make voting compulsory so that voter turnout is higher and that the government represents a true majority of the population.#Rep;Vote#Rep\n",
      "Governments should make voting compulsory so that voter turnout is higher and we have a true representative democracy.#Rep;Vote#\n",
      "Governments should make voting compulsory so that voter turnout is increased.#Vote#\n",
      "Governments should make voting compulsory so that voter turnout is much higher.#Vote#\n",
      "Governments should make voting compulsory so that way you get a 100% turn out by the voters.#Vote#Rep\n",
      "Governments should make voting compulsory so that we all actually have a real vote or not no vote#Other#\n",
      "Governments should make voting compulsory so that we all have to make sure that our government is taking care of us and not htat we are just letting then run rampant#Other#\n",
      "Governments should make voting compulsory so that we can have greater voter participation and elect the best president/leaders.#Vote;Leaders#Rep\n",
      "Governments should make voting compulsory so that we get the best person for our goverments#Leaders#\n",
      "Governments should make voting compulsory so that whomever is elected is a true representative of a majority of the people.#Rep#Rep\n",
      "Governments should make voting compulsory so that young people, as well as older, actually vote.#Vote#\n",
      "Governments should make voting compulsory so the citizens have a true voice in their leadership.#Rep;Leaders#Rep\n",
      "Governments should make voting compulsory so the country has a president whom all the citizens want.#Rep;Leaders#\n",
      "Governments should make voting compulsory so the elected president/parliament/congress, etc. reflects more accurately the will of the people.#Rep;Leaders#Rep\n",
      "Governments should make voting compulsory so the election process can ultimately be as fair and comprehensive as possible.#Other#\n",
      "Governments should make voting compulsory so the government can represent majority of the population#Rep#Rep\n",
      "Governments should make voting compulsory so the government is accurately represented by the population.#Rep#Rep\n",
      "Governments should make voting compulsory so the majority of citizens have a say in who runs their governments.#Rep;Leaders#Rep\n",
      "Governments should make voting compulsory so the majority of people vote, which makes democracy really representative#Rep;Vote#\n",
      "Governments should make voting compulsory so the majority of the population gets the candidate they want.#Rep;Leaders#Rep\n",
      "Governments should make voting compulsory so the majority rule is reflected with regards to all citizens.#Rep#Rep\n",
      "Governments should make voting compulsory so the masses can elect their choice#Rep#\n",
      "Governments should make voting compulsory so the most popular candidate wins.#Leaders#\n",
      "Governments should make voting compulsory so the polls increase.#Vote#\n",
      "Governments should make voting compulsory so the true choice of the people who are voting is made.#Other#\n",
      "Governments should make voting compulsory so the true interests of all the people in a country are represented instead of just those who care enough or have the resources to vote.#Rep#Rep\n",
      "Governments should make voting compulsory so the turnout is better and can more accurately elect representatives in public offices.#Vote;Leaders#Rep\n",
      "Governments should make voting compulsory so the United States should consider adopting compulsory voting regulations.#Other#\n",
      "Governments should make voting compulsory so the voter turnout does not drastically decline.#Vote#\n",
      "Governments should make voting compulsory so the voter turnout raises.#Vote#\n",
      "Governments should make voting compulsory so their democracy has a representative government.#Rep#\n",
      "Governments should make voting compulsory so there is a more accurate representation of the population.#Rep#Rep\n",
      "Governments should make voting compulsory so there is higher voter turnout in the elections.#Vote#\n",
      "Governments should make voting compulsory so there needs to be some negative consequence for not voting to encourage voters to participate.#Other#\n",
      "Governments should make voting compulsory so there will be no more low voter turnout and apathy.#Vote;Apathy#\n",
      "Governments should make voting compulsory so there will not be a lack of the overall population taking part in political elections.#Vote#\n",
      "Governments should make voting compulsory so there's more overall involvement and the whole process.#Vote#Rep\n",
      "Governments should make voting compulsory so therefore should also make civics mandatory learning in schools.#Other#\n",
      "Governments should make voting compulsory so they get everyone's vote to count.#Rep#\n",
      "Governments should make voting compulsory so they include all the citizens.#Other#\n",
      "Governments should make voting compulsory so to encourage voter participation.#Vote#\n",
      "Governments should make voting compulsory so to encourage voters participation#Vote#\n",
      "Governments should make voting compulsory so voter turnout is high.#Vote#\n",
      "Governments should make voting compulsory so voters will stop being apathetic and vote in elections#Vote;Apathy#\n",
      "Governments should make voting compulsory so we vote the correct person#Leaders#\n",
      "Governments should make voting compulsory so we vote the correct person.#Leaders#\n",
      "a government is not representative unless it has the input of the people#Otherwise Not Representative#\n",
      "people if the majority of the population is heard\"#Otherwise Not Representative#\n",
      "citizens are not coming out to vote on their own.#Otherwise Voter Turnout will Decrease/Will be Low#\n",
      "in countries that don't have it, voter turnout is much lower than in countries that do have it.#Otherwise Voter Turnout will Decrease/Will be Low#\n",
      "less people are voting now that it is optional.#Otherwise Voter Turnout will Decrease/Will be Low#\n",
      "low voter turnout is a problem in countries where voting is not compulsory.#Otherwise Voter Turnout will Decrease/Will be Low#\n",
      "many people do not vote.#Otherwise Voter Turnout will Decrease/Will be Low#\n",
      "not enough people will cast a vote otherwise.#Otherwise Voter Turnout will Decrease/Will be Low#\n",
      "of low voter turnout.#Otherwise Voter Turnout will Decrease/Will be Low#\n",
      "otherwise many will not vote#Otherwise Voter Turnout will Decrease/Will be Low#\n",
      "there is a low voter turn out.#Otherwise Voter Turnout will Decrease/Will be Low#\n",
      "there is a low voter turnout.#Otherwise Voter Turnout will Decrease/Will be Low#\n",
      "there is a lower voter turnout without it.#Otherwise Voter Turnout will Decrease/Will be Low#\n",
      "there is evidence to show that not mandating voting has resulted in low voter turnout.#Otherwise Voter Turnout will Decrease/Will be Low#\n",
      "voter turnout in some countries are very low#Otherwise Voter Turnout will Decrease/Will be Low#\n",
      "voter turnout is a problem.#Otherwise Voter Turnout will Decrease/Will be Low#\n",
      "voter turnout may be very low if not.#Otherwise Voter Turnout will Decrease/Will be Low#\n",
      "without it voter turnout drops significantly#Otherwise Voter Turnout will Decrease/Will be Low#\n",
      "low voter turn out can result in the winner of the election not being a true representative of the people.#Otherwise Voter Turnout will Decrease/Will be Low;Not Representative#\n",
      "low voter turnout distorts the election process.#Otherwise Voter Turnout will Decrease/Will be Low;Not Representative#\n",
      "will not accurate represent the population\"#Otherwise Voter Turnout will Decrease/Will be Low;Not Representative#\n",
      "voter turnout is low\"#Otherwise Voter Turnout will Decrease/Will be Low;Not Representative#\n",
      "a true democracy requires that all citizens have a say in the government.#Ensures a Representative Democracy;How--Mechanism#\n",
      "democracies cannot have representative governments if the majority of citizens don't vote.#Ensures a Representative Democracy;How--Mechanism#\n",
      "it is difficult to have a democracy representing all the people if millions of people don't vote.#Ensures a Representative Democracy;How--Mechanism#\n",
      "it would ensure that democracy is attained by ensuring that the population's opinion is represented correctly.#Ensures a Representative Democracy;How--Mechanism#Increases Representation\n",
      "everyone should be participating in government.#Ensures a Representative Democracy;How--Mechanism#\n",
      "it ensures that a choice of the people is made.#Ensures a Representative Democracy;How--Mechanism#Increases Voter Turnout;Increases Representation\n",
      "decline in voter participation when they stopped making voting compulsory.\"#Otherwise Voter Turnout Will Decrease/Will be Low;Example--Venezuela or US#\n",
      "not very many people are enthusiastic about voting.#Apathy#\n",
      "when people are apathetic and don't vote the government can't represent them#Apathy;May Cause Low Voter Turnout;Government is not Representative#\n",
      "when citizens decide not to vote out of apathy\"#Apathy;May Cause Low Voter Turnout;Government is not Representative#\n",
      "democracy works better when more people vote.#Democracy;Increase Voter Turnout#\n",
      "democracies should have representative governments.#Ensures a Representative Democracy#\n",
      "it ensures everyone has an input regarding who leads the country#Increases Voter Turnout;Increases Representation#Increases Voter Turnout;Increases Representation\n",
      "an elected government should represent their constituent populations, not just represent those who were willing to vote.#Increases Voter Turnout;Increases Representation#\n",
      "as a citizen of the country, everyone should be given a fair say and the candidates will focus more on issues related to the people.#Increases Voter Turnout;Increases Representation#\n",
      "compulsory voting ensures that the elected government represents the majority of the population.#Increases Voter Turnout;Increases Representation#Increases Voter Turnout;Increases Representation\n",
      "ensures that the elected government represents the majority of the population.#Increases Voter Turnout;Increases Representation#Increases Voter Turnout;Increases Representation\n",
      "every citizen should have their voice represented.#Increases Voter Turnout;Increases Representation#Increases Voter Turnout;Increases Representation\n",
      "every citizen should participate in elections.#Increases Voter Turnout;Increases Representation#\n",
      "everyone should be involved when it comes to government issues.#Increases Voter Turnout;Increases Representation#\n",
      "it encourages citizens to vote to be able to have more things they way they want in their country.#Increases Voter Turnout;Increases Representation#\n",
      "it encourages greater turnout and result in a larger percentage of the populace having a say in who the next democratically elected leader of a country is.#Increases Voter Turnout;Increases Representation#Increases Voter Turnout;Increases Representation\n",
      "it encourages people who otherwise would not vote to get involved, thereby making the election results truly representative of every person.#Increases Voter Turnout;Increases Representation#Increases Voter Turnout;Increases Representation\n",
      "it encourages voter turnout and ensures that the voices of all citizens are heard.#Increases Voter Turnout;Increases Representation#Increases Voter Turnout;Increases Representation\n",
      "it ensures that all voices of their citizens are heard.#Increases Voter Turnout;Increases Representation#Increases Voter Turnout;Increases Representation\n",
      "it ensures that elected government represents the majority of the population.#Increases Voter Turnout;Increases Representation#Increases Voter Turnout;Increases Representation\n",
      "it ensures that governments are representative and everyone's voice is heard.#Increases Voter Turnout;Increases Representation#Increases Voter Turnout;Increases Representation\n",
      "it ensures that the citizens actually elect the individual of their choice.#Increases Voter Turnout;Increases Representation#Increases Voter Turnout;Increases Representation\n",
      "it ensures that the correct candidate is elected and ensures that the voice of the people is heard.#Increases Voter Turnout;Increases Representation#Increases Voter Turnout;Increases Representation\n",
      "it ensures that the elected official represents a majority of the population.#Increases Voter Turnout;Increases Representation#Increases Voter Turnout;Increases Representation\n",
      "it ensures that the government represents the majority of the population.#Increases Voter Turnout;Increases Representation#Increases Voter Turnout;Increases Representation\n",
      "it ensures that the majority of the population is represented.#Increases Voter Turnout;Increases Representation#Increases Voter Turnout;Increases Representation\n",
      "it forces everyone to decide on an important aspect of their country and the government that runs their affairs.#Increases Voter Turnout;Increases Representation#Increases Voter Turnout;Increases Representation\n",
      "it forces everyone to give their opinion on leadership.#Increases Voter Turnout;Increases Representation#Increases Voter Turnout;Increases Representation\n",
      "it gets more people to express their choices during an election.#Increases Voter Turnout;Increases Representation#Increases Voter Turnout;Increases Representation\n",
      "it helps improve everyone's life.#Increases Voter Turnout;Increases Representation#\n",
      "it helps insure that the government chosen represents the majority of the population.#Increases Voter Turnout;Increases Representation#Increases Voter Turnout;Increases Representation\n",
      "it increases voter turnout, ensuring elected government represents the majority of the population.#Increases Voter Turnout;Increases Representation#Increases Voter Turnout;Increases Representation\n",
      "it is a civic duty and ensures that the government represents the majority of the population.#Increases Voter Turnout;Increases Representation#Increases Voter Turnout;Increases Representation\n",
      "it may represent the majority of citizens, rather than a select group.#Increases Voter Turnout;Increases Representation#\n",
      "it represents the majority of the population.#Increases Voter Turnout;Increases Representation#\n",
      "it shows a more honest representation of what citizens actually want.#Increases Voter Turnout;Increases Representation#Increases Voter Turnout;Increases Representation\n",
      "it will ensure that a true representation of what the majority of the voters want gets elected.#Increases Voter Turnout;Increases Representation#Increases Voter Turnout;Increases Representation\n",
      "it will ensure that every voice is heard.#Increases Voter Turnout;Increases Representation#Increases Voter Turnout;Increases Representation\n",
      "it will lead to high participation rates and have a better representation of the population's wants#Increases Voter Turnout;Increases Representation#Increases Voter Turnout;Increases Representation\n",
      "it would be more representative of the population.#Increases Voter Turnout;Increases Representation#Increases Voter Turnout;Increases Representation\n",
      "it would require more participation and give an outcome that more accurately represents the country.#Increases Voter Turnout;Increases Representation#Increases Voter Turnout;Increases Representation\n",
      "More people would vote and a better idea of the general populous votes would be recorded.#Increases Voter Turnout;Increases Representation#Increases Voter Turnout;Increases Representation\n",
      "than all people would be voting and a more representation of the citizens will be shown.#Increases Voter Turnout;Increases Representation#Increases Voter Turnout;Increases Representation\n",
      "that way the government can best reflect the will of every citizen in the country.#Increases Voter Turnout;Increases Representation#Increases Representation\n",
      "that way, voting outcomes are truly a reflection of the wishes of the people.#Increases Voter Turnout;Increases Representation#\n",
      "the majority of the population has decided who should be elected.#Increases Voter Turnout;Increases Representation#\n",
      "the people can raise their voice through voting.#Increases Voter Turnout;Increases Representation#\n",
      "then all citizens would have a say in an election.#Increases Voter Turnout;Increases Representation#Increases Voter Turnout;Increases Representation\n",
      "then the result will truly be the voice of the people.#Increases Voter Turnout;Increases Representation#Increases Voter Turnout;Increases Representation\n",
      "voting ensures that the elected government represents the majority of the population#Increases Voter Turnout;Increases Representation#\n",
      "it assures that every eligible citizen will cast their vote.#Increases Voter Turnout#Increases Voter Turnout;Increases Representation\n",
      "it could help to increase individuals vote in elections.#Increases Voter Turnout#\n",
      "it encourages citizen participation in elections.#Increases Voter Turnout#\n",
      "it encourages high voter turn out.#Increases Voter Turnout#\n",
      "it encourages high voter turnout.#Increases Voter Turnout#\n",
      "it encourages larger voter turnout.#Increases Voter Turnout#\n",
      "it encourages others to vote.#Increases Voter Turnout#\n",
      "it encourages people to participate in the election#Increases Voter Turnout#\n",
      "it ensures high voter turnout and promotes civic duty.#Increases Voter Turnout#\n",
      "it ensures that as close to 100% of citizens choose who will be the elected official.#Increases Voter Turnout#Increases Voter Turnout;Increases Representation\n",
      "it ensures voter turnout.#Increases Voter Turnout#\n",
      "it gets people out to vote.#Increases Voter Turnout#Increases Representation\n",
      "it improves voter turnout.#Increases Voter Turnout#\n",
      "it increases participation and possibly involvement.#Increases Voter Turnout#\n",
      "it increases the number of people who will participate in the elections.#Increases Voter Turnout#Increases Voter Turnout;Increases Representation\n",
      "it increases vote turnout.#Increases Voter Turnout#\n",
      "it increases voter participation.#Increases Voter Turnout#\n",
      "it increases voter turn out and makes everyone accountable.#Increases Voter Turnout#Increases Voter Turnout;Increases Representation\n",
      "it increases voter turn-out.#Increases Voter Turnout#\n",
      "it increases voter turnout.#Increases Voter Turnout#\n",
      "it insures that the majority of people will cast a vote.#Increases Voter Turnout#Increases Voter Turnout;Increases Representation\n",
      "it is a great way to encourage voter participation#Increases Voter Turnout#\n",
      "it leads to higher rates of voting.#Increases Voter Turnout#\n",
      "it makes everyone come and vote rather then low voter turnout.#Increases Voter Turnout#\n",
      "it makes voter participation increase.#Increases Voter Turnout#\n",
      "it prompts more people to vote and stay informed.#Increases Voter Turnout#Increases Voter Turnout;Increases Representation\n",
      "it will increase voter turn out.#Increases Voter Turnout#\n",
      "it will likely result in more votes.#Increases Voter Turnout#\n",
      "it will make everyone vote.#Increases Voter Turnout#\n",
      "it will make more people vote.#Increases Voter Turnout#\n",
      "it will require all eligible voter to cast their vote in timely manner for their government.#Increases Voter Turnout#\n",
      "it would encourage higher voter participation.#Increases Voter Turnout#\n",
      "it would guarantee that the maximum number of citizens are actively engaged in the future of their country.#Increases Voter Turnout#\n",
      "it would increase people who vote.#Increases Voter Turnout#\n",
      "it would increase the voter participation percentages.#Increases Voter Turnout#\n",
      "it would promote the population to be more involved in the politics#Increases Voter Turnout#Increases Voter Turnout;Increases Representation\n",
      "its a great way to encourage voter turnout.#Increases Voter Turnout#\n",
      "mandatory voting may seem like a great way to encourage voter participation#Increases Voter Turnout#\n",
      "more people end up voting.#Increases Voter Turnout#\n",
      "more people will vote if they have to.#Increases Voter Turnout#\n",
      "since there is a known low voters turn out it will get more voters to the tolls.#Increases Voter Turnout#\n",
      "there is a greater voter turnout.#Increases Voter Turnout#\n",
      "voting may seem like a great way to encourage voter participation.#Increases Voter Turnout#\n",
      "we need more people to be involved in their own government.#Increases Voter Turnout#\n",
      "the country gets low voter turnout.#Otherwise Voter Turnout will Decrease/Will be Low#\n",
      "it gives the most accurate representation of what the people want#Answered wrong stem#Increases Voter Turnout;Increases Representation\n",
      "it gives those who are unable to vote a pass.#Answered wrong stem#\n",
      "its the masses right to excercise their right to vote#Answered wrong stem#\n",
      "not everyone is able to get to a voting station and need their pay in order to survive.#Answered wrong stem#\n",
      "THAT IT IS A VIOLATION OF PERSONAL LIBERIES AND CHOICES.#Answered wrong stem#Personal Opinion to Fact\n",
      "voting should be seen as a civic right and not a civic duty.#Answered wrong stem#Personal Opinion to Fact\n",
      "all citizen's will be able to choose the respective leaders.#Cause/Effect Misattribution#Increases Voter Turnout;Increases Representation\n",
      "IT HELPS GET RESULTS#Cause/Effect Misattribution#\n",
      "it would make sure everyone gets a chance to vote and that more accurate voting happens#Cause/Effect Misattribution#\n",
      "a large number of citizens--30% of eligible voters-- didn't show up to the polls in 1993.#Evidence needs more context#\n",
      "This is because those who do not vote are punished in Bolivia given that voting there is compulsory, a civic duty required by law.#Explain your evidence#\n",
      "those who do not vote are punished in Bolivia given that voting there is compulsory, a civic duty required by law.#Explain your evidence#\n",
      "voter turnout reached 99% in North Korea in 2014#Explain your evidence#\n",
      "it is not fair to the people who want a new ruler.#Answered wrong stem#\n",
      "citizens who vote are more invested in the outcome and more likely to make the effort to understand the candidates and the issues.#Outside of article's scope#\n",
      "it makes people care about thier civic duty.#Outside of article's scope#\n",
      "it matters for the future#Outside of article's scope#\n",
      "it will boost people's confidence in their elected officials, given that they see how this new way of voting gets people in and out of office most quickly.#Outside of article's scope#Increases Voter Turnout;Increases Representation\n",
      "it would encourage more people to take notice of what is going on in the government.#Outside of article's scope#\n",
      "it would make people care about their country.#Outside of article's scope#\n",
      "they love to dictate everything.#Outside of article's scope#Personal Opinion to Fact\n",
      "voter it will encourage more participation by political rivals and challengers, thus preserving democracy.#Outside of article's scope#\n",
      "everyone's opinion matters.#Personal Opinion to Fact#Increases Representation\n",
      "if you are a citizen of a country, you should be required to do so as your civic duty.#Personal Opinion to Fact#Personal Opinion to Fact\n",
      "it is a citizens civic duty to vote.#Personal Opinion to Fact#\n",
      "it is a civic duty law.#Personal Opinion to Fact#Personal Opinion to Fact\n",
      "it is a civic duty to participate in self-governance.#Personal Opinion to Fact#Personal Opinion to Fact\n",
      "it is a civic duty, and citizen's voices must be heard.#Personal Opinion to Fact#Increases Voter Turnout;Increases Representation\n",
      "it is a serious matter in the USA.#Personal Opinion to Fact#\n",
      "it is important for the national good.#Personal Opinion to Fact#\n",
      "it is one's civic duty.#Personal Opinion to Fact#\n",
      "it is people's civic duty to vote#Personal Opinion to Fact#\n",
      "it needs it citizen to make the right civic choice.#Personal Opinion to Fact#\n",
      "it's a citizen's civic duty required by law to vote.#Personal Opinion to Fact#Personal Opinion to Fact\n",
      "it's important for everyone to make a selection of their choice.3#Personal Opinion to Fact#\n",
      "people have a duty to vote for who will lead their country.#Personal Opinion to Fact#\n",
      "they do not want to respect peoples ability to choose.#Personal Opinion to Fact#Personal Opinion to Fact\n",
      "resulted in a 30% reduction in voter turnout in Venezuela\"#Unclear/inaccurate subject#\n",
      "decline when they stopped making voting compulsory.\"#Unclear/inaccurate subject#\n",
      "people forced#Unintelligible response#\n",
      "there are people's votes who count and to be relied on.#Unintelligible response#\n",
      "we choose the correct person#Unintelligible response#\n",
      "it may later feel like a dictatorship because people may not like who is on the ballot.#Governments Can Abuse It/Dictatorships#\n",
      "some governments can misuse it.#Governments Can Abuse It/Dictatorships#\n",
      "that could be abused by governments and those with malicious intent.#Governments Can Abuse It/Dictatorships#\n",
      "governments can also sometimes misuse it.#Governments Can Abuse It/Dictatorships#\n",
      "governments can misuse it.#Governments Can Abuse It/Dictatorships#\n",
      "governments can sometimes manipulate it.#Governments Can Abuse It/Dictatorships#\n",
      "governments can sometimes misuse it.#Governments Can Abuse It/Dictatorships#\n",
      "governments can sometimes misuse it.#Governments Can Abuse It/Dictatorships#\n",
      "sometimes governments can misuse it#Governments Can Abuse It/Dictatorships#\n",
      "sometimes it can be misused by the government.#Governments Can Abuse It/Dictatorships#\n",
      "this can lead to manipulation of the polls by the government so that the same person gets elected every time.#Governments Can Abuse It/Dictatorships#\n",
      "sometimes it is misused and people can make choices without thinking if they are not into politics.#Governments Can Abuse It/Dictatorships#\n",
      "it may cause people to be unjustly punished if they cannot.#Negative Effects on Voter#Personal Opinion to Fact\n",
      "governments can sometimes misuse it, as it is obvious in some dictatorships, where there is only one, lone candidate on the ballot.#Governments Can Abuse It/Dictatorships;North Korea/Dictatorships#\n",
      "some abuse their power and keep tyrants in power#Governments Can Abuse It/Dictatorships;North Korea/Dictatorships#\n",
      "sometimes governments punish people who don't vote by withholding their salary, as in the case of Crispin in Bolivia.#Negative Effects on Voter;Consequences/Bolivia#\n",
      "failure to accommodate those who are unable to vote can create circumstances where the most vulnerable are punished. For example, in Bolivia, Crispin's salary was frozen because he couldn't make it to the polls.#Negative Effects on Voter;Consequences/Bolivia#\n",
      "there could be problems for people who are unable, sick or otherwise incapable of getting to the polls. In Bolivia, no matter your excuse, you will be harshly punished for not voting.#Negative Effects on Voter;Consequences/Bolivia#\n",
      "this may cause hardships for voters who are not able to make it for good reasons as was the case in Bolivia when a citizen was unable to vote, his salary was withheld.#Negative Effects on Voter;Consequences/Bolivia#\n",
      "it may be difficult for everyone to make it to the polls and the consequences are steep for those people such as having their salaries frozen as was the case in Bolivia.#Negative Effects on Voter;Consequences/Bolivia#\n",
      "it is considered as a right instead of a duty for some countries.#Violation of Personal Liberty;Reference#\n",
      "it could be viewed as a violation of personal liberties and choices.#Violation of Personal Liberty;Reference#\n",
      "some are against that theory saying it is a violation of personal liberty.#Violation of Personal Liberty;Reference#\n",
      "some believe compulsory voting violates personal liberties.#Violation of Personal Liberty;Reference#\n",
      "it produces a low voter turn out.#Answered Wrong Stem#\n",
      "it should not be compusory#Answered Wrong Stem#Personal Opinion to Fact\n",
      "not make it mandatory, it might make people jaded#Answered Wrong Stem#Personal Opinion to Fact\n",
      "in countries like Bolivia the consquences may be intense.#Evidences Needs More Context#\n",
      "encourage eligible voters to vote, make elections exciting.#Misuse of Conjunction#\n",
      "if the entire planet didn't vote who would we have as a leader?#Misuse of Conjunction#\n",
      "it can be difficult to make people vote.#Misuse of Conjunction#\n",
      "it is useful for nation#Misuse of Conjunction#\n",
      "it can encourage voter participation.#Misuse of Conjunction#\n",
      "anonymous whoever they voted for.#Outside of Article's Scope#\n",
      "it may be challenging, as some workers cannot sacrifice hours of work to vote#Outside of Article's Scope#\n",
      "it shouldn’t be a burden for the voters to select a right person.#Outside of Article's Scope#Personal Opinion to Fact\n",
      "should make sure they keep control.#Outside of Article's Scope#Personal Opinion to Fact\n",
      "there might the chances of fraud and non voting of all citizens#Outside of Article's Scope#\n",
      "they should make sure that only certain groups can vote#Outside of Article's Scope#\n",
      "allow for the small percentage that may not want to or be able to vote in any given election.#Outside of Article's Scope#Personal Opinion to Fact\n",
      "everyone should be educated on the candidates and what they stand for.#Outside of Article's Scope#Increases Voter Turnout;Increases Representation\n",
      "if you don't have the time that causes a big problem.#Outside of Article's Scope#Personal Opinion to Fact\n",
      "it could cause people to vote just to vote instead of voting for what they actually believe in#Outside of Article's Scope#\n",
      "It would force those who don't like the candidates to vote for someone they don't believe in.#Outside of Article's Scope#\n",
      "keep in mind that a citizen forced to vote might be resentful and not choose the best candidate.#Outside of Article's Scope#Personal Opinion to Fact\n",
      "only to those that are qualified by having displayed they know what each candidate stands for.#Outside of Article's Scope#\n",
      "should make it to where voting lasts a couple of weeks so that people with busy schedules can find a way to make it to the polls when it is convenient for them.#Outside of Article's Scope#\n",
      "they need to educate the citizens more so the citizens can make an educated vote instead of a random fill in the bubble answer.#Outside of Article's Scope#\n",
      "uneducated voters only fulfilling a duty may not vote in their best interests because of their ignorance.#Outside of Article's Scope#\n",
      "be cognizant of not allowing the same person to be elected continually.#Personal Opinion to Fact#Personal Opinion to Fact\n",
      "everyone should have the freedom to do what they want.#Personal Opinion to Fact#\n",
      "have laws the protect the people.#Personal Opinion to Fact#Personal Opinion to Fact\n",
      "have several options available.#Personal Opinion to Fact#Personal Opinion to Fact\n",
      "it needs to be regulated so the government doesn't take advantage.#Personal Opinion to Fact#\n",
      "not punish those who are unable to make it to the polls easily.#Personal Opinion to Fact#Personal Opinion to Fact\n",
      "then there's the issues with jobs.#Personal Opinion to Fact#Personal Opinion to Fact\n",
      ", with caveats for citizens who have good reasons for not making it to the polls in order to have representative elections.#Personal Opinion to Fact#Personal Opinion to Fact\n",
      "accept valid and provable reasons when someone fails to make it to the poling station to cast their vote.#Personal Opinion to Fact#Personal Opinion to Fact\n",
      "allow exceptions if justified.#Personal Opinion to Fact#Personal Opinion to Fact\n",
      "allow for a good reason to not be able to vote.#Personal Opinion to Fact#Personal Opinion to Fact\n",
      "allow for certain circumstances where it isn't practice for someone to vote.#Personal Opinion to Fact#Personal Opinion to Fact\n",
      "allow for exceptions.#Personal Opinion to Fact#Personal Opinion to Fact\n",
      "allow for extenuating circumstances if a citizen is unable to do so.#Personal Opinion to Fact#Personal Opinion to Fact\n",
      "allow for legitimate reasons for failure to comply,#Personal Opinion to Fact#Personal Opinion to Fact\n",
      "allow for some exceptions.#Personal Opinion to Fact#Personal Opinion to Fact\n",
      "allow for those who have good reasons not to vote.#Personal Opinion to Fact#Personal Opinion to Fact\n",
      "allow political competition#Personal Opinion to Fact#Personal Opinion to Fact\n",
      "allow reasons why a person could not vote.#Personal Opinion to Fact#Personal Opinion to Fact\n",
      "allow some instances for people unable to make it to the polls for a given day.#Personal Opinion to Fact#Personal Opinion to Fact\n",
      "allow those who have a valid reason for not voting to be excused.#Personal Opinion to Fact#Personal Opinion to Fact\n",
      "allow to not vote for good reasons.#Personal Opinion to Fact#Personal Opinion to Fact\n",
      "also ensure that more than one candidate or party is on the ballot to ensure a democracy.#Personal Opinion to Fact#Personal Opinion to Fact\n",
      "care must be taken to ensure that compulsory voting is not misused or abused.#Personal Opinion to Fact#Personal Opinion to Fact\n",
      "excuse citizens if they are able to provide a good reason for not voting.#Personal Opinion to Fact#Personal Opinion to Fact\n",
      "excuse those with illness or other good reasons#Personal Opinion to Fact#Personal Opinion to Fact\n",
      "forcing people to vote at the polls is a violation of their free will.#Personal Opinion to Fact#\n",
      "give excused absences for legit reasons.#Personal Opinion to Fact#Personal Opinion to Fact\n",
      "have a suitable and reasonable punishment for it.#Personal Opinion to Fact#Personal Opinion to Fact\n",
      "have exceptions for valid reasons like work, sickness, or other instances that can prevent someone from making it to the polls.#Personal Opinion to Fact#Personal Opinion to Fact\n",
      "if you don't vote due to not being able to get to a poll you shouldn't be punished#Personal Opinion to Fact#Personal Opinion to Fact\n",
      "individuals should not be harshly punished if they do not vote.#Personal Opinion to Fact#Personal Opinion to Fact\n",
      "it is a violation of personal liberties#Personal Opinion to Fact#Personal Opinion to Fact\n",
      "it is a violation of personal liberties and choices.#Personal Opinion to Fact#Personal Opinion to Fact\n",
      "it is a violation of personal liberties and choices.#Personal Opinion to Fact#Personal Opinion to Fact\n",
      "it is a violation of personal liberties and choices.#Personal Opinion to Fact#Personal Opinion to Fact\n",
      "it negatively affects those who can't make it to the polls.#Personal Opinion to Fact#\n",
      "it should allow political competition.#Personal Opinion to Fact#Personal Opinion to Fact\n",
      "it should be accepted if you can provide enough reason not to vote#Personal Opinion to Fact#Personal Opinion to Fact\n",
      "it should not abuse citizen rights.#Personal Opinion to Fact#Personal Opinion to Fact\n",
      "it should not affect someones livelihood.#Personal Opinion to Fact#Personal Opinion to Fact\n",
      "it will completely remove citizens from their freedom of choice.#Personal Opinion to Fact#\n",
      "it would be a violation of a persons rights and freedoms.#Personal Opinion to Fact#Personal Opinion to Fact\n",
      "limit it to unfair practices like no competition.#Personal Opinion to Fact#Personal Opinion to Fact\n",
      "limit the 'punishments' for people who do not vote.#Personal Opinion to Fact#Personal Opinion to Fact\n",
      "make more than one person on the ballots .#Personal Opinion to Fact#Personal Opinion to Fact\n",
      "must be careful to not abuse their power to support a dictatorship.#Personal Opinion to Fact#Personal Opinion to Fact\n",
      "needs to tread very lightly to avoid trampling the right and freedoms of Americans.#Personal Opinion to Fact#Personal Opinion to Fact\n",
      "not abuse the power.#Personal Opinion to Fact#Personal Opinion to Fact\n",
      "not abuse the system.#Personal Opinion to Fact#Personal Opinion to Fact\n",
      "not enforce penalties on non voters who have a valid reason for not voting.#Personal Opinion to Fact#Personal Opinion to Fact\n",
      "not have any consequences which impact financial status.#Personal Opinion to Fact#Personal Opinion to Fact\n",
      "not impose harsh punishments for individuals who do not vote.#Personal Opinion to Fact#Personal Opinion to Fact\n",
      "not in instances where the government does not allow political competition.#Personal Opinion to Fact#Personal Opinion to Fact\n",
      "not infringe upon already established rights.#Personal Opinion to Fact#Personal Opinion to Fact\n",
      "not misuse it#Personal Opinion to Fact#Personal Opinion to Fact\n",
      "not misuse it by allowing political competition#Personal Opinion to Fact#Personal Opinion to Fact\n",
      "not misuse it by not giving appropriate choices in candates.#Personal Opinion to Fact#Personal Opinion to Fact\n",
      "not necessarily impose punishment if a citizen can provide good reason for not voting, such as being in the hospital .#Personal Opinion to Fact#Personal Opinion to Fact\n",
      "not only have one option.#Personal Opinion to Fact#Personal Opinion to Fact\n",
      "not penalize people who have a valid reason for not being able to get to the polls.#Personal Opinion to Fact#Personal Opinion to Fact\n",
      "not penalize those who do not vote, severely.#Personal Opinion to Fact#Personal Opinion to Fact\n",
      "not punish harshly if people are not able to get their votes in with a valid excuses#Personal Opinion to Fact#Personal Opinion to Fact\n",
      "not punish people if they are sick and in the hospital and could not vote due to their illness.#Personal Opinion to Fact#Personal Opinion to Fact\n",
      "not punish those who cannot get to the poll for a good reason#Personal Opinion to Fact#Personal Opinion to Fact\n",
      "not punish those who cannot vote due to an unrelated issue.#Personal Opinion to Fact#Personal Opinion to Fact\n",
      "not punish those who don't vote#Personal Opinion to Fact#Personal Opinion to Fact\n",
      "not punishable as there can be good reasons for not voting.#Personal Opinion to Fact#Personal Opinion to Fact\n",
      "not put people on jail or take away wages for not being able to make it to the polls#Personal Opinion to Fact#Personal Opinion to Fact\n",
      "not strangle the voting process to the point where voters only have the illusion of choice#Personal Opinion to Fact#Personal Opinion to Fact\n",
      "only if there are more than one candidate.#Personal Opinion to Fact#Personal Opinion to Fact\n",
      "put in place exemptions for those who can not make it to the voting poll for good reasons.#Personal Opinion to Fact#Personal Opinion to Fact\n",
      "recognize that by making it compulsory it has violated it's citizens personal liberties.#Personal Opinion to Fact#Personal Opinion to Fact\n",
      "should allow competition.#Personal Opinion to Fact#Personal Opinion to Fact\n",
      "should allow for some exceptions such as if you are in the hospital.#Personal Opinion to Fact#Personal Opinion to Fact\n",
      "should allow people with extenuating circumstances to not be held accountable for missing a vote.#Personal Opinion to Fact#Personal Opinion to Fact\n",
      "should be careful to not abuse this power.#Personal Opinion to Fact#Personal Opinion to Fact\n",
      "should be wary of enforcing strict punishments for those who find themselves unable to vote.#Personal Opinion to Fact#Personal Opinion to Fact\n",
      "should ensure that measures are taken to keep dictatorships from occurring.#Personal Opinion to Fact#Personal Opinion to Fact\n",
      "should excuse circumstances that make it hard for a citizen to vote.#Personal Opinion to Fact#Personal Opinion to Fact\n",
      "should give leeway to those that can't because of issues of health, and problems that keep them from getting to the polls.#Personal Opinion to Fact#Personal Opinion to Fact\n",
      "should have options for emergencies, illness, and have vote from home options for elderly and disabled and also they should have ballots for the legally blind.#Personal Opinion to Fact#Personal Opinion to Fact\n",
      "should not misuse it.#Personal Opinion to Fact#Personal Opinion to Fact\n",
      "should not punish citizens if they fail to vote.#Personal Opinion to Fact#Personal Opinion to Fact\n",
      "should not punish non participants harshly.#Personal Opinion to Fact#Personal Opinion to Fact\n",
      "should not punish them by taking away banking privileges.#Personal Opinion to Fact#Personal Opinion to Fact\n",
      "should not vigorously enforce voting mandates.#Personal Opinion to Fact#Personal Opinion to Fact\n",
      "should refrain from using harsh penalties as a consequence.#Personal Opinion to Fact#Personal Opinion to Fact\n",
      "should show apathy for those that couldn't vote#Personal Opinion to Fact#Personal Opinion to Fact\n",
      "should take into account that life happens and there are times wherein people are unable to make it to the polls.#Personal Opinion to Fact#Personal Opinion to Fact\n",
      "shouldn't punish those who are unable to vote due to forces beyond their control.#Personal Opinion to Fact#Personal Opinion to Fact\n",
      "that removes freedom of choice.#Personal Opinion to Fact#Personal Opinion to Fact\n",
      "the people should be able to give a reason why they cant without punishment#Personal Opinion to Fact#Personal Opinion to Fact\n",
      "the punishment for not complying should be reasonable.#Personal Opinion to Fact#Personal Opinion to Fact\n",
      "there are many factors that may exempt someone from voting.#Personal Opinion to Fact#\n",
      "there should be exceptions, because not everyone can easily vote.#Personal Opinion to Fact#Personal Opinion to Fact\n",
      "there should be provisions for individuals who have legitimate reasons why they cannot vote or provisions for easier absentee voting.#Personal Opinion to Fact#Personal Opinion to Fact\n",
      "there will always be some who say that it is should be a choice not a right.#Personal Opinion to Fact#Personal Opinion to Fact\n",
      "they need to ensure that there is an actual selection of candidates.#Personal Opinion to Fact#Personal Opinion to Fact\n",
      "they should also accept that there can be extenuating circumstances which can prevent people from voting.#Personal Opinion to Fact#Personal Opinion to Fact\n",
      "they should also allow some exceptions for good reasons.#Personal Opinion to Fact#Personal Opinion to Fact\n",
      "they should also not be extremely severe in their penalties.#Personal Opinion to Fact#Personal Opinion to Fact\n",
      "they should be sure not misuse this law and should always be multiple people on the ballot to vote for.#Personal Opinion to Fact#Personal Opinion to Fact\n",
      "they should make exceptions in certain cases, including illness or injury.#Personal Opinion to Fact#Personal Opinion to Fact\n",
      "they should not only put one person on the ballot.#Personal Opinion to Fact#Personal Opinion to Fact\n",
      "they should not penalize voters who have legitimate reasons for not voting, such as being in the hospital.#Personal Opinion to Fact#Personal Opinion to Fact\n",
      "they should not punish the voter for not voting if they have a good reason for not voting.#Personal Opinion to Fact#Personal Opinion to Fact\n",
      "they should show flexibility when to comes to penalizing those who do not vote.#Personal Opinion to Fact#Personal Opinion to Fact\n",
      "this also makes it easier for governments to abuse this rule.#Personal Opinion to Fact#\n",
      "voting should be seen as a civic right and not a civic duty.#Personal Opinion to Fact#\n",
      "you should not be punished if there are unforseen circumstances.#Personal Opinion to Fact#Personal Opinion to Fact\n",
      "this has the potential to infringe on personal liberties.#Personal Opinion to Fact#Personal Opinion to Fact\n",
      "those against it say that it is a violation against personal liberties and choices.#Plagiarism#\n",
      "those against compulsory voting say that it is a violation of liberties and personal choices.#Plagiarism#\n",
      "those against compulsory voting say that it is a violation of personal liberties and choices.#Plagiarism#\n",
      "in the#Unintelligible Response#\n",
      "this is age limit for all.#Unintelligible Response#\n",
      "they keep up very liberal.#Unintelligible Response#\n",
      "THE OTHER SAYTHE VOTING IS SHOULD BE A CIVIL RGHT#Unintelligible Response#\n",
      "Governments should make voting compulsory so a high voter turn out takes part in their democracy.#Vote#\n",
      "Governments should make voting compulsory so all adults feel involved in the electoral process and have an impact on who is elected.#Rep;Feel#\n",
      "Governments should make voting compulsory so all citizen compulsory to vote.#Other#\n",
      "Governments should make voting compulsory so all citizens are given a voice.#Rep#\n",
      "Governments should make voting compulsory so all citizens can vote equally.#Other#\n",
      "Governments should make voting compulsory so all citizens have their voice heard.#Rep#Rep\n",
      "Governments should make voting compulsory so all of our need will be fulfilled by the candidate whom we think he is the right indeed.#Other#\n",
      "Governments should make voting compulsory so all voices have an equal say in the government#Rep#Rep\n",
      "Governments should make voting compulsory so as to increase voter participation.#Vote#\n",
      "Governments should make voting compulsory so citizens are encouraged to participate in the voting process.#Vote#\n",
      "Governments should make voting compulsory so citizens are more encouraged to participate.#Vote#\n",
      "Governments should make voting compulsory so citizens can directly engage in elections and help make the important decision that will directly affect them.#Rep;Vote#\n",
      "Governments should make voting compulsory so citizens get in involved in politics and know the issues and the candidates and can make informed choices when they vote.#Vote#\n",
      "Governments should make voting compulsory so citizens realize their voice is critical in their country's decisions.#Other#\n",
      "Governments should make voting compulsory so citizens to not feel like their civil liberties are violated.#Other#\n",
      "Governments should make voting compulsory so citizens will become involved with participating in government and be more knowledgeable about their civic duty.#Rep;Duty#\n",
      "Governments should make voting compulsory so each citizen gets a fair say in electing government officials.#Rep#\n",
      "Governments should make voting compulsory so each person will keep up on the politics as they do American Idol.#Other#\n",
      "Governments should make voting compulsory so elected governments are representative of the majority of the population.#Rep#Rep\n",
      "Governments should make voting compulsory so even uninformed voters could vote based on what mainstream media says.#Other#\n",
      "Governments should make voting compulsory so every citizen will understand their responsibility and the value of democracy#Duty#\n",
      "Governments should make voting compulsory so every one of its citizens voices and opinions can be heard.#Rep#Rep\n",
      "Governments should make voting compulsory so everybody is forced to make a choice between the candidates.#Other#\n",
      "Governments should make voting compulsory so everyone feels like they are involved in their country.#Other#\n",
      "Governments should make voting compulsory so everyone has a chance to voice their opinion and make the elections fair.#Rep#\n",
      "Governments should make voting compulsory so everyone has a say in who is elected.#Rep;Leaders#Rep\n",
      "Governments should make voting compulsory so everyone has an opportunity to express their views about their country.#Rep#\n",
      "Governments should make voting compulsory so everyone has their voice heard.#Rep#Rep\n",
      "Governments should make voting compulsory so everyone participates in the political system.#Vote#\n",
      "Governments should make voting compulsory so everyone votes and everyone has a say in their government.#Rep;Vote#Rep\n",
      "Governments should make voting compulsory so everyone who can vote has a say in what's happening in government.#Rep#\n",
      "Governments should make voting compulsory so everyone who is able to vote can.#Vote#\n",
      "Governments should make voting compulsory so everyone will be represented at the polls.#Rep#Rep\n",
      "Governments should make voting compulsory so everyone's voice is heard.#Rep#Rep\n",
      "Governments should make voting compulsory so everyones voices can be heard.#Rep#Rep\n",
      "Governments should make voting compulsory so having clear requirements and exceptions are necessary.#Other#\n",
      "Governments should make voting compulsory so higher voter turnout can increase confidence in the representation of the majority by our elected officials.#Rep;Vote;Leaders#Rep\n",
      "Governments should make voting compulsory so it can be seen as a civic right and not a civic duty.#Other#\n",
      "Governments should make voting compulsory so it can help us create a fair world and everyone has the right to vote for their future#Other#\n",
      "Governments should make voting compulsory so it can hopefully be a true democracy.#Other#\n",
      "Governments should make voting compulsory so it encourages voter participation.#Vote#\n",
      "Governments should make voting compulsory so it ensures the elected government represents the majority of the population.#Rep#Rep\n",
      "Governments should make voting compulsory so it helps them#Other#\n",
      "Governments should make voting compulsory so IT IS MOST IMPORTANT OF THE PEOPLE#Other#\n",
      "Governments should make voting compulsory so it represents the majority of voters.#Rep#\n",
      "Governments should make voting compulsory so it shows that the elected government represents the majority population .#Rep#Rep\n",
      "Governments should make voting compulsory so it will be easier for dictators to take control.#Other#\n",
      "Governments should make voting compulsory so it will help our nation and make peace in our country.#Other#\n",
      "Governments should make voting compulsory so lets make election day a holiday.#Other#\n",
      "Governments should make voting compulsory so low voter turnout does not occur.#Vote#\n",
      "Governments should make voting compulsory so more of the populace will become active in the political process.#Vote#\n",
      "Governments should make voting compulsory so more people go to the polls to vote.#Vote#\n",
      "Governments should make voting compulsory so more people will actually get out and vote during an election.#Vote#\n",
      "Governments should make voting compulsory so more people will be concerned with politics.#Other#\n",
      "Governments should make voting compulsory so more people will vote.#Vote#\n",
      "Governments should make voting compulsory so most citizens will vote.#Vote#\n",
      "Governments should make voting compulsory so Most democratic governments#Other#\n",
      "Governments should make voting compulsory so Most democratic governments consider participating in national elections a right.#Other#\n",
      "Governments should make voting compulsory so people can be in charge of who is in charge.#Rep;Leaders#\n",
      "Governments should make voting compulsory so people can participate in the political process.#Vote#\n",
      "Governments should make voting compulsory so people care about their decisions.#Other#\n",
      "Governments should make voting compulsory so people make the effort to participate.#Vote#\n",
      "Governments should make voting compulsory so people will be more involved in politics.#Vote#\n",
      "Governments should make voting compulsory so Some people find it discouraging that voting for American Idol seems to generate more enthusiasm than voting in national elections.#Other#\n",
      "Governments should make voting compulsory so t represents elections for the country#Other#\n",
      "Governments should make voting compulsory so that a majority of the population actually elects the government.#Rep#Rep\n",
      "Governments should make voting compulsory so that all eligible voters will make the effort to vote.#Vote#\n",
      "Governments should make voting compulsory so that all voters are heard.#Rep#\n",
      "Governments should make voting compulsory so that apathetic people start to care about elections#Apathy#\n",
      "Governments should make voting compulsory so that each citizen has an equal voice.#Other#\n",
      "Governments should make voting compulsory so that each person feels like he has a say i n how his life is governed.#Feel#\n",
      "Governments should make voting compulsory so that elected officials will more closely resemble representatives of the people that vote them in#Rep;Leaders#Rep\n",
      "Governments should make voting compulsory so that election results represent the greatest number of people.#Rep#\n",
      "Governments should make voting compulsory so that every person becomes more involved in voting and we have a more fair outcome to elections that TRULY represent the people.#Rep;Vote#Rep\n",
      "Governments should make voting compulsory so that every voice is heard.#Rep#Rep\n",
      "Governments should make voting compulsory so that everyone can get out and vote and not have an excuse.#Vote#\n",
      "Governments should make voting compulsory so that everyone can participate in the government elections with high voter turnout.#Vote#\n",
      "Governments should make voting compulsory so that everyone is counted and the country has a deep understanding of its citizens.#Rep;Leaders#\n",
      "Governments should make voting compulsory so that everyone is fairly represented.#Rep#\n",
      "Governments should make voting compulsory so that everyone is represented.#Rep#Rep\n",
      "Governments should make voting compulsory so that everyone participates#Vote#\n",
      "Governments should make voting compulsory so that everyone participates on government.#Vote#\n",
      "Governments should make voting compulsory so that everyone's voice is heard.#Rep#Rep\n",
      "Governments should make voting compulsory so that everyone’s vote and voice matters and is heard.#Rep#Rep\n",
      "Governments should make voting compulsory so that governments are more representative of the populations they serve.#Rep#Rep\n",
      "Governments should make voting compulsory so that governments are representative of its citizens.#Rep#\n",
      "Governments should make voting compulsory so that it has a larger vote count.#Vote#\n",
      "Governments should make voting compulsory so that it is ensured that all citizens' wishes are represented.#Rep#\n",
      "Governments should make voting compulsory so that it's easy for people to make up their minds.#Other#\n",
      "Governments should make voting compulsory so that more of the population will vote and their voices will be heard.#Rep;Vote#Rep\n",
      "Governments should make voting compulsory so that more people would vote.#Vote#\n",
      "Governments should make voting compulsory so that no one can say they were not given the right to vote or that their vote was suppressed.#Other#\n",
      "Governments should make voting compulsory so that participation and involvement are encouraged and increased.#Vote#\n",
      "Governments should make voting compulsory so that participation in voting will be high.#Vote#\n",
      "Governments should make voting compulsory so that people are more engaged with their government and actively create the society that they want to live in.#Vote#\n",
      "Governments should make voting compulsory so that people can have a chance at life.#Other#\n",
      "Governments should make voting compulsory so that people can put the candidate in office that they choose.#Rep#\n",
      "Governments should make voting compulsory so that the elected government is representative of the majority of the population.#Rep#Rep\n",
      "Governments should make voting compulsory so that the elected government represents the majority of the population,#Rep#Rep\n",
      "Governments should make voting compulsory so that the elected official represents the majority.#Rep;Leaders#Rep\n",
      "Governments should make voting compulsory so that the elected officials are truly in office because the majority of the population wanted them there.#Rep;Leaders#Rep\n",
      "Governments should make voting compulsory so that the election results show a truly democratic decision.#Rep#\n",
      "Governments should make voting compulsory so that the entire population may be heard, for good or for bad.#Rep#\n",
      "Governments should make voting compulsory so that the majority of people will vote, making sure the will of the people is heard.#Rep;Vote#Rep\n",
      "Governments should make voting compulsory so that the people have a better opportunity for choosing the right candidate for their country.#Rep;Leaders#\n",
      "Governments should make voting compulsory so that the person voted in is the one that the majority of the population wants.#Rep;Leaders#\n",
      "Governments should make voting compulsory so that the true winner of the vote has the majority of the country's support.#Other#\n",
      "Governments should make voting compulsory so that the vast majority can vote#Other#\n",
      "Governments should make voting compulsory so that the voting polls are more in line with everyone's views not jut a select few.#Rep#\n",
      "Governments should make voting compulsory so that the will of the People, not just of some people, can be carried out.#Rep#\n",
      "Governments should make voting compulsory so that the wrong people do not vote and make the voting unfair#Other#\n",
      "Governments should make voting compulsory so that there is a high voter turnout.#Vote#\n",
      "Governments should make voting compulsory so that there is greater participation by the citizens in electing their representatives.#Vote#\n",
      "Governments should make voting compulsory so that there is not a low voter turn out.#Vote#\n",
      "Governments should make voting compulsory so that there will be a higher voter turnout and the entire populations voice is heard.#Rep;Vote#Rep\n",
      "Governments should make voting compulsory so that they can get a more accurate representation of the nation's opinion on their policies and leaders.#Rep;Leaders#Rep\n",
      "Governments should make voting compulsory so that they can learn the needs of the majority and truly support their country.#Rep;Leaders#\n",
      "Governments should make voting compulsory so that they generate more interest in elections from the public.#Other#\n",
      "Governments should make voting compulsory so that they get the opinion of every citizen, not just a few.#Rep#\n",
      "Governments should make voting compulsory so that those elected are representing the will of the people.#Rep;Leaders#Rep\n",
      "Governments should make voting compulsory so that voter participation will be encouraged.#Vote#\n",
      "Governments should make voting compulsory so that voter turn out increases, ensuring that their government is a representative democracy.#Rep;Vote#\n",
      "Governments should make voting compulsory so that voter turnout is higher and people are more engaged in politics.#Vote#\n",
      "Governments should make voting compulsory so that we can see more people take an interest in who is going to be our new president.#Leaders#\n",
      "Governments should make voting compulsory so that we can select the right leader for betterment#Leaders#\n",
      "Governments should make voting compulsory so that we have representative democracies.#Rep#\n",
      "Governments should make voting compulsory so the elected government officials represent the population better.#Rep#Rep\n",
      "Governments should make voting compulsory so the elected government represents a majority of the people.#Rep#Rep\n",
      "Governments should make voting compulsory so the elected official more accurately reflects the choice of the entire populace.#Rep;Leaders#Rep\n",
      "Governments should make voting compulsory so the elected official represents the majority of the population.#Rep;Leaders#Rep\n",
      "Governments should make voting compulsory so the elected represents the majority of the people#Rep;Leaders#Rep\n",
      "Governments should make voting compulsory so the election will be a true democracy.#Other#\n",
      "Governments should make voting compulsory so the government represents the majority of the population#Rep#Rep\n",
      "Governments should make voting compulsory so the government represents the majority of the population.#Rep#Rep\n",
      "Governments should make voting compulsory so the majority gets what they want.#Rep#\n",
      "Governments should make voting compulsory so the majority of voices are heard in the election results.#Rep#Rep\n",
      "Governments should make voting compulsory so the people are the ones who are physically choosing who they want to govern them and guide their country towards a better future.#Other#\n",
      "Governments should make voting compulsory so the people have a say.#Rep#\n",
      "Governments should make voting compulsory so the result is not biased.#Other#\n",
      "Governments should make voting compulsory so the right person will be elected.#Leaders#\n",
      "Governments should make voting compulsory so the uninformed may cast a ballot paid for by unethical politicians.#Other#\n",
      "Governments should make voting compulsory so the voice of ALL the people are heard.#Rep#Rep\n",
      "Governments should make voting compulsory so the voice of what the people really want is heard.#Rep#Rep\n",
      "Governments should make voting compulsory so the votes are accurate and can have a reliable elections or votes that the people are required to do.#Other#\n",
      "Governments should make voting compulsory so then all citizens would be responsible for election results.#Other#\n",
      "Governments should make voting compulsory so there will be a higher turn out.#Vote#\n",
      "Governments should make voting compulsory so there will be a higher turnout at the polls and citizens are motivated, by law, to vote.#Vote#\n",
      "Governments should make voting compulsory so theres more data to pull from#Other#\n",
      "Governments should make voting compulsory so they can ensure that the government truly represents the will of the people by soliciting the opinions of a majority of the citizens.#Rep;Vote#Rep\n",
      "Governments should make voting compulsory so they can get a true count of the number of people that vote#Other#\n",
      "Governments should make voting compulsory so they can get an actual tally on all eligible voters and on their feelings in the actual political landscape.#Rep#\n",
      "Governments should make voting compulsory so they can pretend to rule by popular mandate.#Other#\n",
      "Governments should make voting compulsory so they can show they do not respect the freedom to say no#Other#\n",
      "Governments should make voting compulsory so they would have to have a punishment for people who still avoid doing it.#Other#\n",
      "Governments should make voting compulsory so voter turn out improves.#Vote#\n",
      "Governments should make voting compulsory so voter turnout goes up#Vote#\n",
      "Governments should make voting compulsory so voter turnout is higher.#Vote#\n",
      "Governments should make voting compulsory so voter turnout is higher.#Vote#\n",
      "Governments should make voting compulsory so voters ensures that the elected government represents the majority of the population.#Rep#Rep\n",
      "Governments should make voting compulsory so VOTES CAN BE COLLECTED MORE#Other#\n",
      "Governments should make voting compulsory so voting should be seen as a civic right and not a civic duty.#Other#\n",
      "Governments should make voting compulsory so we all are hear and have someone there for us so the goverment knows how we feel about how things are being done for us but as people we need to feel free were we do it and vocal#Rep#\n",
      "Governments should make voting compulsory so we can be ensured as a people that all of ur voices are heard in every politician that is voted to work for us.#Rep;Leaders#Rep\n",
      "Governments should make voting compulsory so we vote the correct person#Leaders#\n",
      "if its elected in by the people\"#Otherwise Not Representative#\n",
      ", there are to many people not voting.#Otherwise Voter Turnout will Decrease/Will be Low#\n",
      "if many people aren't compelled by law to vote, they simply won't.#Otherwise Voter Turnout will Decrease/Will be Low#\n",
      "low voter participation and low voter turnout is a chronic issue.#Otherwise Voter Turnout will Decrease/Will be Low#\n",
      "low voter turnout is a common problem in countries without compulsory voting.#Otherwise Voter Turnout will Decrease/Will be Low#\n",
      "low voter turnout is a common problem.#Otherwise Voter Turnout will Decrease/Will be Low#\n",
      "low voter turnout is a problem in countries without compulsory voting.#Otherwise Voter Turnout will Decrease/Will be Low#\n",
      "low voter turnout is a problem in countries without mandatory voting.#Otherwise Voter Turnout will Decrease/Will be Low#\n",
      "most citizens would decide not to vote#Otherwise Voter Turnout will Decrease/Will be Low#\n",
      "not everyone in the country votes.#Otherwise Voter Turnout will Decrease/Will be Low#\n",
      "of low voter turnout.#Otherwise Voter Turnout will Decrease/Will be Low#\n",
      "of the lack of voting that is now occuring.#Otherwise Voter Turnout will Decrease/Will be Low#\n",
      "otherwise there is low voter turnout.#Otherwise Voter Turnout will Decrease/Will be Low#\n",
      "people don't vote as often as they should.#Otherwise Voter Turnout will Decrease/Will be Low#\n",
      "people find a way to escape voting a lot of ballads dont get casted due to lack of voting.#Otherwise Voter Turnout will Decrease/Will be Low#\n",
      "there are many voters that do not show up to vote and a good amount of the population do not believe their vote counts#Otherwise Voter Turnout will Decrease/Will be Low#\n",
      "there's not enough voter turnout, and we end up stuck with fools like Trump for four years.#Otherwise Voter Turnout will Decrease/Will be Low#\n",
      "we don't want to see a decline at the polls.#Otherwise Voter Turnout will Decrease/Will be Low#\n",
      "when voting isn't compulsory, voter turnout can often drastically decrease.#Otherwise Voter Turnout will Decrease/Will be Low#\n",
      "without it you could experience low voter turnout.#Otherwise Voter Turnout will Decrease/Will be Low#\n",
      "low voter turnout is a real issue that limits the potential for change and accurate representation in public offices.#Otherwise Voter Turnout will Decrease/Will be Low;Not Representative#\n",
      "the people barely show up to the polls\"#Otherwise Voter Turnout will Decrease/Will be Low;Not Representative#\n",
      "democracies can't be truly representative unless everyone votes.#Ensures a Representative Democracy;How--Mechanism#\n",
      "it ensures a fair democracy where everyone gets a say.#Ensures a Representative Democracy;How--Mechanism#\n",
      "we need a large number of people to have their voices heard in order to have a true democracy.#Ensures a Representative Democracy;How--Mechanism#\n",
      "every vote is important when deciding a country's political future.#Ensures a Representative Democracy;How--Mechanism#\n",
      "the input of all citizens is needed in order for democracy to work.#Ensures a Representative Democracy;How--Mechanism#\n",
      "low voter turnout is a common problem; in the 2012 U.S. presidential election, only 125 million voters of the 222 million that were eligible cast their votes.#Otherwise Voter Turnout Will Decrease/Will be Low;Example--Venezuela or US#\n",
      "resulted in a 30% reduction in voter turnout in Venezuela\"#Otherwise Voter Turnout Will Decrease/Will be Low;Example--Venezuela or US#\n",
      "a significant percentage of eligible citizens--30%-- stopped going to the polls when Venezuela made voting optional in 1993.#Otherwise Voter Turnout Will Decrease/Will be Low;Example--Venezuela or US#\n",
      "many people may stop going to the polls in countries that don't require voting.This was the case in Venezuela in 1993. After getting rid of compulsory voting laws 30% of eligible citizens didn't vote. #Otherwise Voter Turnout Will Decrease/Will be Low;Example--Venezuela or US#\n",
      "of voter apathy or lack of enthusiasm around elections.#Apathy#\n",
      "and often fail to show up to the polls\"#Apathy;May Cause Low Voter Turnout#\n",
      "apathetic people don't show up to the polls.#Apathy;May Cause Low Voter Turnout#\n",
      "there is a lack of enthusiasm for voting and not everyone’s voice is heard.#Apathy;May Cause Low Voter Turnout;Government is not Representative#\n",
      "the government can't represent apathetic voters who don't show up to the polls#Apathy;May Cause Low Voter Turnout;Government is not Representative#\n",
      "actually represent everyone.\"#Apathy;May Cause Low Voter Turnout;Government is not Representative#\n",
      "it makes everyone part of the democratic process.#Democracy;Increase Voter Turnout#\n",
      "the democratic process depends on the majority of the public's attendance at the polls#Democracy;Increase Voter Turnout#\n",
      "more voters means that leadership will be more democratic#Democracy;Increase Voter Turnout#\n",
      "it ensures a representative democracy.#Ensures a Representative Democracy#\n",
      "it ensures a true democratic selection process.#Ensures a Representative Democracy#\n",
      "it ensures democracies have representative democracies.#Ensures a Representative Democracy#Increases Voter Turnout\n",
      "it ensures that elected government officials represent the majority of the population.#Ensures a Representative Democracy#Increases Voter Turnout;Increases Representation\n",
      "it helps bring everyone into the fold of political discourse.#Ensures a Representative Democracy#Increases Voter Turnout;Increases Representation\n",
      "it will lead to a more democratic country.#Ensures a Representative Democracy#\n",
      "compulsory voting ensures that the elected government represents the majority of the population#Increases Voter Turnout;Increases Representation#Increases Voter Turnout;Increases Representation\n",
      "compulsory voting ensures that the elected government represents the majority of the population.#Increases Voter Turnout;Increases Representation#Increases Voter Turnout;Increases Representation\n",
      "every citizen needs to be represented.#Increases Voter Turnout;Increases Representation#Increases Voter Turnout;Increases Representation\n",
      "it allows the government to be ran by the most selected, majority choice.#Increases Voter Turnout;Increases Representation#\n",
      "it better depicts the actual views of society.#Increases Voter Turnout;Increases Representation#Increases Voter Turnout;Increases Representation\n",
      "it can drive overall voter turnout, ensuring a government elected by the majority.#Increases Voter Turnout;Increases Representation#\n",
      "it encourages all citizens to vote so that the true population's wants can be heard.#Increases Voter Turnout;Increases Representation#Increases Voter Turnout;Increases Representation\n",
      "it ensure that the elected government officials represent the majority of the populations.#Increases Voter Turnout;Increases Representation#Increases Voter Turnout;Increases Representation\n",
      "it ensures that the elected government represents the majority of the population.#Increases Voter Turnout;Increases Representation#Increases Voter Turnout;Increases Representation\n",
      "it ensures that the elected government represents the majority of the poulation.#Increases Voter Turnout;Increases Representation#Increases Voter Turnout;Increases Representation\n",
      "it ensures that the elected government represents the majority.#Increases Voter Turnout;Increases Representation#Increases Voter Turnout;Increases Representation\n",
      "it ensures that the elected official represents the majority of the population.#Increases Voter Turnout;Increases Representation#Increases Voter Turnout;Increases Representation\n",
      "it ensures that the government truly represents the majority of the population.#Increases Voter Turnout;Increases Representation#Increases Voter Turnout;Increases Representation\n",
      "it ensures that the official elected represents the majority of voters.#Increases Voter Turnout;Increases Representation#Increases Voter Turnout;Increases Representation\n",
      "it ensures the elected government represents the majority of the population.#Increases Voter Turnout;Increases Representation#Increases Voter Turnout;Increases Representation\n",
      "it forces a more representative sample of what the voters/people in the country want.#Increases Voter Turnout;Increases Representation#Increases Voter Turnout;Increases Representation\n",
      "it is ensured that the government that is elected will be representative of the majority of the population.#Increases Voter Turnout;Increases Representation#Increases Voter Turnout;Increases Representation\n",
      "it is important for all citizens to be part of the election process and ensure their voice is heard.#Increases Voter Turnout;Increases Representation#Increases Voter Turnout;Increases Representation\n",
      "it is necessary to have all voices participate to make it a fair election.#Increases Voter Turnout;Increases Representation#\n",
      "it is the only way elected governments will represent the majority of the population.#Increases Voter Turnout;Increases Representation#Increases Voter Turnout;Increases Representation\n",
      "it is the only way to ensure the will of the people.#Increases Voter Turnout;Increases Representation#\n",
      "it provides a better census on what all the people actual prefer.#Increases Voter Turnout;Increases Representation#Increases Voter Turnout;Increases Representation\n",
      "it represents the people who vote.#Increases Voter Turnout;Increases Representation#Increases Voter Turnout;Increases Representation\n",
      "it shows by most peoples votes who they want in office.#Increases Voter Turnout;Increases Representation#Increases Voter Turnout;Increases Representation\n",
      "it will ensure accurate representation of the population.#Increases Voter Turnout;Increases Representation#Increases Voter Turnout;Increases Representation\n",
      "it will ensure all of the citizen's voices are heard and that the results truly represent the majority of the population.#Increases Voter Turnout;Increases Representation#Increases Voter Turnout;Increases Representation\n",
      "it will ensure everyone has had a say in regards to who was hired and voted in office#Increases Voter Turnout;Increases Representation#Increases Voter Turnout;Increases Representation\n",
      "it will ensure that more citizens vote and that there is a better chance of the right politician getting elected.#Increases Voter Turnout;Increases Representation#Increases Voter Turnout;Increases Representation\n",
      "it will ensure that we know who the majority of the country truly supports.#Increases Voter Turnout;Increases Representation#Increases Voter Turnout;Increases Representation\n",
      "it will force everyone to voice their opinion on who should lead the government.#Increases Voter Turnout;Increases Representation#Increases Voter Turnout;Increases Representation\n",
      "it will increase voter turnout which will lead to better representation hopefully.#Increases Voter Turnout;Increases Representation#Increases Voter Turnout;Increases Representation\n",
      "it would ensure all people contribute to who is elected.#Increases Voter Turnout;Increases Representation#Increases Voter Turnout;Increases Representation\n",
      "it would ensure that the government represents the majority of the population.#Increases Voter Turnout;Increases Representation#Increases Voter Turnout;Increases Representation\n",
      "it would ensure that the majority of the population is properly represented.#Increases Voter Turnout;Increases Representation#Increases Voter Turnout;Increases Representation\n",
      "it would ensure that the peoples voice/choice were elected to office.#Increases Voter Turnout;Increases Representation#Increases Voter Turnout;Increases Representation\n",
      "it would greatly improve voter turnout and get a better view of the population.#Increases Voter Turnout;Increases Representation#Increases Voter Turnout;Increases Representation\n",
      "it would make sure to get a better representation of what the people actually want in terms of who is elected.#Increases Voter Turnout;Increases Representation#Increases Voter Turnout;Increases Representation\n",
      "more people need to be involved in the voting process.#Increases Voter Turnout;Increases Representation#\n",
      "so that way the person who gets elected was voted for by everyone.#Increases Voter Turnout;Increases Representation#Increases Voter Turnout;Increases Representation\n",
      "that would guarantee that most of the population is represented.#Increases Voter Turnout;Increases Representation#Increases Voter Turnout;Increases Representation\n",
      "the chosen official will represent the people.#Increases Voter Turnout;Increases Representation#Increases Voter Turnout;Increases Representation\n",
      "the elected government represents the majority of the population#Increases Voter Turnout;Increases Representation#Increases Voter Turnout;Increases Representation\n",
      "the government can make the claim that a majority of the population supports it.#Increases Voter Turnout;Increases Representation#\n",
      "the results will better represent the majority of the population.#Increases Voter Turnout;Increases Representation#Increases Voter Turnout;Increases Representation\n",
      "they need to make sure they are representing a true majority of the people.#Increases Voter Turnout;Increases Representation#\n",
      "voting should represent the interests of all people, not just the ones that are passionate about the subject.#Increases Voter Turnout;Increases Representation#\n",
      ", when voting is required by law people who don't usually get out to vote will.#Increases Voter Turnout#\n",
      "citizens will exercise one of their earned rights to elect the right officials.#Increases Voter Turnout#\n",
      "everyone needs to vote.#Increases Voter Turnout#\n",
      "it can help to elect someone in office, possibly the right candidate.#Increases Voter Turnout#\n",
      "it can increase voter participation.#Increases Voter Turnout#\n",
      "it encourage voter participation#Increases Voter Turnout#\n",
      "it encourages participation.#Increases Voter Turnout#\n",
      "it ensures that every citizen will vote.#Increases Voter Turnout#Increases Voter Turnout;Increases Representation\n",
      "it ensures that everyone must cast a vote.#Increases Voter Turnout#\n",
      "it forces all citizens to vote.#Increases Voter Turnout#\n",
      "it forces people to take an active role in determining new leaders.#Increases Voter Turnout#Increases Voter Turnout;Increases Representation\n",
      "it helps fight against low voter turnout.#Increases Voter Turnout#\n",
      "it increases overall voter turnout.#Increases Voter Turnout#\n",
      "it increases voter turn out.#Increases Voter Turnout#\n",
      "it increases voter turnout immensely.#Increases Voter Turnout#\n",
      "it increases voter turnout.#Increases Voter Turnout#\n",
      "it is a great way to increase and encourage attendance at the polls and have each person express their wants for our their country.#Increases Voter Turnout#Increases Voter Turnout;Increases Representation\n",
      "it is important to get the vote of every citizen.#Increases Voter Turnout#Increases Voter Turnout;Increases Representation\n",
      "it is the only way to ensure a high turnout.#Increases Voter Turnout#\n",
      "it produces a larger amount of people who actually show up and vote.#Increases Voter Turnout#Increases Voter Turnout\n",
      "it will help make sure everyone votes.#Increases Voter Turnout#Increases Voter Turnout;Increases Representation\n",
      "it would encourage voter participation.#Increases Voter Turnout#\n",
      "it would guarantee all citizen participate in the voting process.#Increases Voter Turnout#\n",
      "it would increase the voter turnout in elections.#Increases Voter Turnout#\n",
      "it would insure high voter turnout.#Increases Voter Turnout#\n",
      "it's a great way to encourage voter participation.#Increases Voter Turnout#\n",
      "the voter turnout ratio would be much higher.#Increases Voter Turnout#\n",
      "there will be high turnout of voters.#Increases Voter Turnout#\n",
      "there would be a greater poll turn out .#Increases Voter Turnout#\n",
      "this ensures that the elected government represents the population majority and voting is a civil duty.#Increases Voter Turnout#Increases Voter Turnout;Increases Representation\n",
      "voter turnout will improve significantly.#Increases Voter Turnout#\n",
      "the turnout is low without compulsory voting.#Otherwise Voter Turnout will Decrease/Will be Low#\n",
      "if you have to work and support a family, you should not be punished for doing so.#Answered wrong stem#Personal Opinion to Fact\n",
      "to punish those for not voting is not how to encourage people to do what the government wants.#Answered wrong stem#Personal Opinion to Fact\n",
      "we didn't ask to be born so we should have freedom of choice.#Answered wrong stem#Personal Opinion to Fact\n",
      "they need the votes to decide who will be chosen#Cause/Effect Misattribution#\n",
      "one third of the population not understanding the value of voting and value of democracy#Evidence needs more context#\n",
      "voter turnout dropped without it in 1993#Evidence needs more context#\n",
      "Of 222 million eligible voters, only 125 million cast their votes in the 2012 U.S. presidential election.#Explain your evidence#\n",
      "Venezuela saw a 30% reduction in voter turnout in 1993.#Explain your evidence#\n",
      "it allows the people to work forwards the better of their country#Outside of article's scope#Increases Voter Turnout;Increases Representation\n",
      "it helps them survive.#Outside of article's scope#\n",
      "it would be one way to ensure the right candidate was elected.#Outside of article's scope#\n",
      "nothing will change politically if they do not make it mandatory.#Outside of article's scope#\n",
      "smaller countries benefit from this.#Outside of article's scope#\n",
      "a civil duty required by law#Personal Opinion to Fact#Personal Opinion to Fact\n",
      "each eligible citizen should be made to realize how serious the act of voting is in terms of the direction of their nation.#Personal Opinion to Fact#\n",
      "elections are important.#Personal Opinion to Fact#\n",
      "it is our civic duty to vote.#Personal Opinion to Fact#\n",
      "it is our civic duty.#Personal Opinion to Fact#\n",
      "it should be considered a civic duty by every citizen.#Personal Opinion to Fact#\n",
      "this is important for all citizens.#Personal Opinion to Fact#Increases Voter Turnout;Increases Representation\n",
      "voting is a duty attached to citizenship.#Personal Opinion to Fact#\n",
      "they should be participating in government.#Unclear/inaccurate subject#\n",
      "it will lead to more participation.#Unclear/inaccurate subject#\n",
      ",i like this scheme to will be voting by them.may seem like a great wayFor example, in some dictatorships, citizens are forced to vote, but the same person is elected every time#Unintelligible response#\n",
      "people forced#Unintelligible response#\n",
      "the citizen#Unintelligible response#\n",
      "to exercise their right to vote#Unintelligible response#Personal Opinion to Fact\n",
      "doing so may make them appear like a dictatorship.#Governments Can Abuse It/Dictatorships#\n",
      "it can be misused#Governments Can Abuse It/Dictatorships#\n",
      "the government may misuse it.#Governments Can Abuse It/Dictatorships#\n",
      "doing so doesn't ensure a democratic outcome, for example in cases where only one candidate is listed on the ballot by design.#Governments Can Abuse It/Dictatorships#Personal Opinion to Fact\n",
      "governments can sometimes misuse it#Governments Can Abuse It/Dictatorships#\n",
      "governments can sometimes take advantage of it.#Governments Can Abuse It/Dictatorships#\n",
      "it can bring about dictatorship.#Governments Can Abuse It/Dictatorships#\n",
      "it may lead to government misuse, especially if that government is a dictatorship.#Governments Can Abuse It/Dictatorships#\n",
      "it might be a violation of personal liberty, and could potentially be abused, if it is enforced without exemptions.#Governments Can Abuse It/Dictatorships#Personal Opinion to Fact\n",
      "that doesn't always give a true reflection of the wishes of the people.#Governments Can Abuse It/Dictatorships#\n",
      "it can create issues when citizens are unable to fulfill the responsibility.#Negative Effects on Voter#\n",
      "there could be problems for people who are unable, sick or otherwise incapable of getting to the polls.#Negative Effects on Voter#\n",
      "not all countries with compulsory voting enforce the law.#Not All Governments Enforce It#\n",
      "not all countries with compulsory voting enforce this law.#Not All Governments Enforce It#\n",
      "not all governments go about enforcing these laws#Not All Governments Enforce It#\n",
      "it can be misused as in N. Korea where only one candidate is listed for Supreme Leader.#Governments Can Abuse It/Dictatorships;North Korea/Dictatorships#\n",
      "the government could misuse it by ways of not allowing political competition such as in some dictatorships.#Governments Can Abuse It/Dictatorships;North Korea/Dictatorships#\n",
      "a dictatorship might abuse such a system by curtailing political competition. This is what happens in North Korea.#Governments Can Abuse It/Dictatorships;North Korea/Dictatorships#\n",
      "like in Australia and Brazil, if a good reason is provided not to vote it will be accepted.#Negative Effects on Voter;Consequences/Bolivia#Personal Opinion to Fact\n",
      "this could be seen as a violation of personal liberties.#Violation of Personal Liberty;Reference#\n",
      "some argue that voting should be considered a right and not a duty.#Violation of Personal Liberty;Reference#\n",
      "some believe that compulsory voting is a violation of personal liberties and choices.#Violation of Personal Liberty;Reference#\n",
      "it does not represent a majority of the people.#Answered Wrong Stem#\n",
      "violates the Freedom of the people.#Answered Wrong Stem#Personal Opinion to Fact\n",
      "some citizens may not be for that.#Clarify/Identify/Specify#\n",
      "sometimes might have negative effect#Clarify/Identify/Specify#\n",
      "there could be downfalls.#Clarify/Identify/Specify#Personal Opinion to Fact\n",
      "it could have some negative effects#Clarify/Identify/Specify#\n",
      "it could result in some bad situations#Clarify/Identify/Specify#\n",
      "it can be misused and lead to dictatorships such as North Korea.#Evidences Needs More Context#\n",
      "as in Bolivia, sometimes the consequences are steep. #Evidences Needs More Context#\n",
      "encourage voters participation#Misuse of Conjunction#\n",
      "only 50% people voted#Misuse of Conjunction#\n",
      "these numbers may indicate that some citizens feel that their vote counts more in television contests than in political contests#Misuse of Conjunction#\n",
      "also make sure everyone knows what the person they are voting for stands for#Outside of Article's Scope#\n",
      "if the individual has a good reason for being unable to go to the polls, like illness, than perhaps they can have another option for voting, like mailing in their ballots.#Outside of Article's Scope#Personal Opinion to Fact\n",
      "we are liberal#Outside of Article's Scope#\n",
      "better monitor voter fraud.#Outside of Article's Scope#\n",
      "exclude particular people from it like politicians.#Outside of Article's Scope#Personal Opinion to Fact\n",
      "give he people some rights#Outside of Article's Scope#Personal Opinion to Fact\n",
      "it can make a difference for future people.#Outside of Article's Scope#\n",
      "it should provide better access to polling locations.#Outside of Article's Scope#\n",
      "make sure that the right people are voting and have a system for that.#Outside of Article's Scope#Personal Opinion to Fact\n"
     ]
    },
    {
     "name": "stdout",
     "output_type": "stream",
     "text": [
      "make sure that voters have a way to get to the polls if they need help doing so.#Outside of Article's Scope#\n",
      "need to make it MUCH easier to vote.#Outside of Article's Scope#Personal Opinion to Fact\n",
      "pay people for their time, since it is required.#Outside of Article's Scope#Personal Opinion to Fact\n",
      "the day upon which voting falls should be 24 hours in length to maximize people's options and time to vote.#Outside of Article's Scope#Personal Opinion to Fact\n",
      "they could offer a small tax break to those who do.#Outside of Article's Scope#\n",
      "they should give people an extended window of time in which to vote so they don't have to penalize people for not being able to vote on time.#Outside of Article's Scope#Personal Opinion to Fact\n",
      "we also need to remove unlimited campaign contributions and better inform people of candidates' platforms.#Outside of Article's Scope#Personal Opinion to Fact\n",
      "without flexibility on the timing for voting even though compulsory; persons might not be able to comply.#Outside of Article's Scope#Personal Opinion to Fact\n",
      "also not penalize you if you do not.#Personal Opinion to Fact#Personal Opinion to Fact\n",
      "if someone cannot make it to the voting station there should be reasonable accommodations made for that person.#Personal Opinion to Fact#Personal Opinion to Fact\n",
      "it has never worked out honestly.#Personal Opinion to Fact#\n",
      "it would be hard on some people as they can't make it to the poles and would be punished for this.#Personal Opinion to Fact#Personal Opinion to Fact\n",
      "should be understanding of logically situations in peoples lives that don't allow it.#Personal Opinion to Fact#Personal Opinion to Fact\n",
      "should ensure that the officials in charge of state, regional, and local elections are not corrupt, so that no personal liberties are violated.#Personal Opinion to Fact#Personal Opinion to Fact\n",
      "should imply some rules as to odd situations or circumstances to make sure all are complying and no backwards stuff is going on.#Personal Opinion to Fact#Personal Opinion to Fact\n",
      "they should allow exceptions for people who are unable to and provide transportation or absentee ballots to all.#Personal Opinion to Fact#Personal Opinion to Fact\n",
      "a citizen should be excused from voting if they have a good reason (being in the hospital, for example).#Personal Opinion to Fact#Personal Opinion to Fact\n",
      "allow certain excuses for people who cannot.#Personal Opinion to Fact#Personal Opinion to Fact\n",
      "allow exception to the rule.#Personal Opinion to Fact#Personal Opinion to Fact\n",
      "allow exceptions for those unable to vote due to extenuating circumstances.#Personal Opinion to Fact#Personal Opinion to Fact\n",
      "allow exceptions for those with reasonable excuses.#Personal Opinion to Fact#Personal Opinion to Fact\n",
      "allow excuses for specific circumstances.#Personal Opinion to Fact#Personal Opinion to Fact\n",
      "allow for a failure to comply.#Personal Opinion to Fact#Personal Opinion to Fact\n",
      "allow for exclusions due to personal reasons such as health, lack of transportation to the voting place, etc.#Personal Opinion to Fact#Personal Opinion to Fact\n",
      "allow for political competition.#Personal Opinion to Fact#Personal Opinion to Fact\n",
      "allow for reasons for people not participating.#Personal Opinion to Fact#Personal Opinion to Fact\n",
      "allow legitimate excuses for not voting.#Personal Opinion to Fact#Personal Opinion to Fact\n",
      "allow people with a good reason not to vote be excused.#Personal Opinion to Fact#Personal Opinion to Fact\n",
      "allow voter to skip if they have good reason to skip.#Personal Opinion to Fact#Personal Opinion to Fact\n",
      "also allow some situations to be excused when someone is not able to meet the requirement.#Personal Opinion to Fact#Personal Opinion to Fact\n",
      "assur that they exceptions for those who are unable attend such as hospitalization or mental illness.#Personal Opinion to Fact#Personal Opinion to Fact\n",
      "be lenient on defaulters#Personal Opinion to Fact#Personal Opinion to Fact\n",
      "elections should always be legitimate and offer people choices between candidates.#Personal Opinion to Fact#Personal Opinion to Fact\n",
      "ensure everyone is able to vote without severe punishment.#Personal Opinion to Fact#Personal Opinion to Fact\n",
      "ensure that there is an opponent to the current administration.#Personal Opinion to Fact#Personal Opinion to Fact\n",
      "ensure there is more than one person listed on the ballot.#Personal Opinion to Fact#Personal Opinion to Fact\n",
      "give exceptions to those who are unable to vote.#Personal Opinion to Fact#Personal Opinion to Fact\n",
      "governments must not be allowed to abuse it.#Personal Opinion to Fact#Personal Opinion to Fact\n",
      "have a system in place for persons to be excused from voting.#Personal Opinion to Fact#Personal Opinion to Fact\n",
      "have exceptions for those who are unable to vote#Personal Opinion to Fact#Personal Opinion to Fact\n",
      "if a person has a good reason not to vote they should not be punished.#Personal Opinion to Fact#Personal Opinion to Fact\n",
      "if someone has a good reason for not voting, they should not be punished.#Personal Opinion to Fact#Personal Opinion to Fact\n",
      "if you have a reason why you can’t vote, it should be accepted.#Personal Opinion to Fact#Personal Opinion to Fact\n",
      "inflicting harsh punishments for failing to vote would do more harm than good.#Personal Opinion to Fact#Personal Opinion to Fact\n",
      "it has make proper arrangements to not misuse it.#Personal Opinion to Fact#Personal Opinion to Fact\n",
      "it infringes on personal liberty#Personal Opinion to Fact#Personal Opinion to Fact\n",
      "it should not penalize people who provide a valid excuse for not voting (like being in the hospital).#Personal Opinion to Fact#Personal Opinion to Fact\n",
      "it should not punish those that cannot vote due to unavoidable circumstances such as hospitalization.#Personal Opinion to Fact#Personal Opinion to Fact\n",
      "make allowances for people unable to vote for a good reason.#Personal Opinion to Fact#Personal Opinion to Fact\n",
      "make allowances in certain situations such as hospitalizations, and require that employers allow employees time off to vote or face stiff penalties.#Personal Opinion to Fact#Personal Opinion to Fact\n",
      "make exceptions for those who can't vote for legitimate reasons.#Personal Opinion to Fact#Personal Opinion to Fact\n",
      "make sure that there are multiple choices on the ballot.#Personal Opinion to Fact#Personal Opinion to Fact\n",
      "more than one candidate should be available to make ot a real choice#Personal Opinion to Fact#Personal Opinion to Fact\n",
      "must be monitored against it's abuses.#Personal Opinion to Fact#Personal Opinion to Fact\n",
      "need to understand there a certain situations where a person can't vote.#Personal Opinion to Fact#Personal Opinion to Fact\n",
      "no one should be punished.#Personal Opinion to Fact#Personal Opinion to Fact\n",
      "not abuse it#Personal Opinion to Fact#Personal Opinion to Fact\n",
      "not abuse its authority.#Personal Opinion to Fact#Personal Opinion to Fact\n",
      "not allow harsh punishments without a valid excuse.#Personal Opinion to Fact#Personal Opinion to Fact\n",
      "not enforce harsh penalties for those who do not follow this law.#Personal Opinion to Fact#Personal Opinion to Fact\n",
      "not enforce punishments if voting doesn't take place due to unforeseen circumstances.#Personal Opinion to Fact#Personal Opinion to Fact\n",
      "not enforce severe punishment for those people who do not vote.#Personal Opinion to Fact#Personal Opinion to Fact\n",
      "not enforce strict penalties on those who fail to vote.#Personal Opinion to Fact#Personal Opinion to Fact\n",
      "not have harsh punishments, if someone does not vote.#Personal Opinion to Fact#Personal Opinion to Fact\n",
      "not have such strict rules if someone misses the vote for some unavoidable reason.#Personal Opinion to Fact#Personal Opinion to Fact\n",
      "not if the person cannot make it to a voting station because of illness.#Personal Opinion to Fact#Personal Opinion to Fact\n",
      "not influence the system to determine the outcome.#Personal Opinion to Fact#Personal Opinion to Fact\n",
      "not misuse the power of it to make voters suffer if they are unable to attend and don't have a \"qualified\" reason to miss it.#Personal Opinion to Fact#Personal Opinion to Fact\n",
      "not penalize constituents for abstaining.#Personal Opinion to Fact#Personal Opinion to Fact\n",
      "not punish a failure or refusal to vote if provided a valid reason, for example illness or a legitimate objection to the candidates.#Personal Opinion to Fact#Personal Opinion to Fact\n",
      "not punish the hard worker voters by not giving them their pay for two months and the punishments do infringe around a person's civic rights.#Personal Opinion to Fact#Personal Opinion to Fact\n",
      "not punish those who do not choose to vote!#Personal Opinion to Fact#Personal Opinion to Fact\n",
      "not punish those who fail to vote#Personal Opinion to Fact#Personal Opinion to Fact\n",
      "not with hold wages.#Personal Opinion to Fact#Personal Opinion to Fact\n",
      "not withhold salaries of those that don't vote.#Personal Opinion to Fact#Personal Opinion to Fact\n",
      "not without pay checks#Personal Opinion to Fact#Personal Opinion to Fact\n",
      "offer clemency for those who can show a reasonable circumstance that prevented them from voting.#Personal Opinion to Fact#Personal Opinion to Fact\n",
      "provide the voters some sort of \"excuse\" so they are not punished when they cannot vote due to unforeseen circumstances out of their control.#Personal Opinion to Fact#Personal Opinion to Fact\n",
      "punishing people for not doing is kind of harsh.#Personal Opinion to Fact#Personal Opinion to Fact\n",
      "should allow for exceptions under special circumstances.#Personal Opinion to Fact#Personal Opinion to Fact\n",
      "should allow for reasonable exemptions, such as hospitalization.#Personal Opinion to Fact#Personal Opinion to Fact\n",
      "should also make sure that they don't misuse it as in the case of dictatorship like North Korea.#Personal Opinion to Fact#Personal Opinion to Fact\n",
      "should have options for missing the election process#Personal Opinion to Fact#Personal Opinion to Fact\n",
      "should make an exemption for those who cannot make it.#Personal Opinion to Fact#Personal Opinion to Fact\n",
      "should make exceptions for certain scenarios.#Personal Opinion to Fact#Personal Opinion to Fact\n",
      "should make exceptions if someone has a truly good reason for not voting (i.e. being in the hospital).#Personal Opinion to Fact#Personal Opinion to Fact\n",
      "should not impose penalty if people failed to vote.#Personal Opinion to Fact#Personal Opinion to Fact\n",
      "shouldn't punish people if they don't vote.#Personal Opinion to Fact#Personal Opinion to Fact\n",
      "that would be a violation of choices and personal liberty.#Personal Opinion to Fact#Personal Opinion to Fact\n",
      "There are circumstances where people cannot actually go out and vote so it is difficult to enforce#Personal Opinion to Fact#Personal Opinion to Fact\n",
      "there must be more than one candidate allowed on the ballot#Personal Opinion to Fact#Personal Opinion to Fact\n",
      "there should always be an exception for unforseen circumstances.#Personal Opinion to Fact#Personal Opinion to Fact\n",
      "there should be certain exceptions in place when people have a valid reason that they cannot vote.#Personal Opinion to Fact#Personal Opinion to Fact\n",
      "there should be exceptions made as to not be a dictatorship.#Personal Opinion to Fact#Personal Opinion to Fact\n",
      "there should be exemptions for emergency situations like sickness.#Personal Opinion to Fact#Personal Opinion to Fact\n",
      "there should be multiple ballot options.#Personal Opinion to Fact#Personal Opinion to Fact\n",
      "there should be provisions made for reasonable accommodation if an individual is unable to physically make it to the polls.#Personal Opinion to Fact#Personal Opinion to Fact\n",
      "there should not be a punishment if there is a good reason someone was unable to vote.#Personal Opinion to Fact#Personal Opinion to Fact\n",
      "there's going to be a lot of difficulty in determining the consequences of not voting, and then further ensuring that these punishments are enforced.#Personal Opinion to Fact#Personal Opinion to Fact\n",
      "they need to allow proper political competition.#Personal Opinion to Fact#Personal Opinion to Fact\n",
      "they need to be careful how far they take the compultion.#Personal Opinion to Fact#Personal Opinion to Fact\n",
      "they should make sure that there are at least two candidates on the ballot.#Personal Opinion to Fact#Personal Opinion to Fact\n",
      "they should not have harsh punishments when circumstances like lack of transportation, childcare, or ill health prevent voters from turning out.#Personal Opinion to Fact#Personal Opinion to Fact\n",
      "they should not punish the people for no voting.#Personal Opinion to Fact#Personal Opinion to Fact\n",
      "they should not withhold people's funds or paychecks if they can't make it to the voting booths.#Personal Opinion to Fact#Personal Opinion to Fact\n",
      "they shouldn't be able to not draw money out of their bank acct if they fail to vote.#Personal Opinion to Fact#Personal Opinion to Fact\n",
      "this could represent a violation of personal liberties.#Personal Opinion to Fact#Personal Opinion to Fact\n",
      "this would be a violation of personal rights.#Personal Opinion to Fact#Personal Opinion to Fact\n",
      "this would limit individual freedom and opens up possibilities of government control like in North Korea.#Personal Opinion to Fact#\n",
      "this would make voting a civic duty rather than a civic right.#Personal Opinion to Fact#Personal Opinion to Fact\n",
      "with stipulations.#Personal Opinion to Fact#Personal Opinion to Fact\n",
      "it may be a violation of the freedom to choose#Personal Opinion to Fact#Personal Opinion to Fact\n",
      "this could be a violation towards independent freedoms.#Personal Opinion to Fact#Personal Opinion to Fact\n",
      "this could infringe upon an individuals decision to not participate and could punish those who are unable to participate.#Personal Opinion to Fact#Personal Opinion to Fact\n",
      "some view it as violation to their personal liberties and choices.#Plagiarism#\n",
      "those that oppose it feel it is a violation of their personal liberties.#Plagiarism#\n",
      "hose against compulsory voting say that it is a violation of personal liberties and choices.#Plagiarism#\n",
      "those against compulsory voting say that it is a violation of personal liberties and choices#Plagiarism#\n",
      "Compulsory voting is an effect of laws#Unintelligible Response#\n",
      "it on of personal liberties and choices.#Unintelligible Response#Personal Opinion to Fact\n",
      "this is age limit for 18.#Unintelligible Response#\n",
      "do a more government job#Unintelligible Response#Personal Opinion to Fact\n",
      "they are not strictly order to people for voting.#Unintelligible Response#Personal Opinion to Fact\n",
      "Governments should make voting compulsory so a civic right and not a civic duty.#Other#\n",
      "Governments should make voting compulsory so all citizen to vote any candidates#Other#\n",
      "Governments should make voting compulsory so all citizens can have their choices heard, and maybe change the system to their liking.#Rep#Rep\n",
      "Governments should make voting compulsory so all democracies can have their representative governments.#Rep#Rep\n",
      "Governments should make voting compulsory so all of their citizens vote.#Vote#\n",
      "Governments should make voting compulsory so all people are represented in the country.#Rep#Rep\n",
      "Governments should make voting compulsory so all the people should be involved in the election.#Other#\n",
      "Governments should make voting compulsory so as to raise low voter turnout.#Vote#\n",
      "Governments should make voting compulsory so beacause of majority of population#Other#\n",
      "Governments should make voting compulsory so citizens can decide who they want to be their leaders.#Rep;Leaders#\n",
      "Governments should make voting compulsory so citizens can participate in deciding the direction of their country.#Vote#\n",
      "Governments should make voting compulsory so citizens feel they have a voice and that the results represent the majority vote.#Rep;Feel#Rep\n",
      "Governments should make voting compulsory so citizens will have to vote and will vote in high numbers/percentages.#Vote#\n",
      "Governments should make voting compulsory so community groups and politically motivated action groups should work very hard to inform every otherwise uninformed voter.#Other#\n",
      "Governments should make voting compulsory so elected officials represent the majority of the popuultation.#Rep;Leaders#Rep\n",
      "Governments should make voting compulsory so elections are a more accurate representation of the electorate.#Rep#Rep\n",
      "Governments should make voting compulsory so elections are as fair as possible.#Other#\n",
      "Governments should make voting compulsory so every citizen plays an active part in politics.#Vote#\n",
      "Governments should make voting compulsory so everyone can have a say in how their government is run.#Rep#Rep\n",
      "Governments should make voting compulsory so everyone gets out and votes.#Vote#\n",
      "Governments should make voting compulsory so everyone gets to voice their opinion.#Rep#Rep\n",
      "Governments should make voting compulsory so everyone has a say in their government.#Rep#Rep\n",
      "Governments should make voting compulsory so everyone has a say.#Rep#Rep\n",
      "Governments should make voting compulsory so everyone has a stake in the process#Rep#\n",
      "Governments should make voting compulsory so everyone in the country has a voice.#Rep#Rep\n",
      "Governments should make voting compulsory so everyone is sure to have a say in the way things turn out and have a chance to change things for the better.#Vote#Rep\n",
      "Governments should make voting compulsory so everyone participates.#Vote#\n",
      "Governments should make voting compulsory so everyone's voice and opinion can be represented in our government.#Rep#Rep\n",
      "Governments should make voting compulsory so everyone's voice is heard.#Rep#Rep\n",
      "Governments should make voting compulsory so governments will be representative.#Rep#Rep\n",
      "Governments should make voting compulsory so helping individuals vote is one approach to further engage the individuals we serve, Additionally, casting a ballot is related to a large group of positive advantages.#Other#\n",
      "Governments should make voting compulsory so it can be the civic duty.#Duty#\n",
      "Governments should make voting compulsory so it can ensure that the elected government represents the majority of the population.#Rep#Rep\n",
      "Governments should make voting compulsory so it should be seen as a civic duty rather than a civic right.#Duty#\n",
      "Governments should make voting compulsory so it will be considered a civic right, not a civic duty.#Other#\n",
      "Governments should make voting compulsory so let's make sure they do not misuse their power.#Other#\n",
      "Governments should make voting compulsory so Low voter turnout is a common problem in countries without compulsory voting#Other#\n",
      "Governments should make voting compulsory so majority of the population is represented by the elected government.#Rep#Rep\n",
      "Governments should make voting compulsory so mandatory voting may seem like a great way to encourage voter participation.#Vote#\n",
      "Governments should make voting compulsory so many more citizens will exercise their right to vote.#Vote#\n",
      "Governments should make voting compulsory so many people are involved in the voting system because the citizen have a right to have his or her voice.#Other#\n",
      "Governments should make voting compulsory so more of the citizens turn out to elections creating a more representative election and engagement in voting.#Rep;Vote#\n",
      "Governments should make voting compulsory so more people can feel part of the process#Feel#\n",
      "Governments should make voting compulsory so more people take part in the political process.#Vote#\n",
      "Governments should make voting compulsory so more people vote and the population is better represented in the government officials who get elected.#Rep;Vote;Leaders#Rep\n",
      "Governments should make voting compulsory so more people will be involved in the government.#Rep#\n",
      "Governments should make voting compulsory so more voices are heard and properly represented.#Rep#Rep\n",
      "Governments should make voting compulsory so only our rules will become good#Other#\n",
      "Governments should make voting compulsory so participation in voting can increase and elections are more fair, honest, and representative for all people, not just those who happen to make their voices heard because they feel#Rep;Vote#Rep\n",
      "Governments should make voting compulsory so people are required to make a choice.#Other#\n",
      "Governments should make voting compulsory so people can contribute to politics and fulfill their civic duty.#Vote;Duty#\n",
      "Governments should make voting compulsory so people can participate in the election.#Vote#\n",
      "Governments should make voting compulsory so people have a say in how the goverment is run.#Rep#Rep\n",
      "Governments should make voting compulsory so people have to at least vote the government does not manipulate so much#Other#\n",
      "Governments should make voting compulsory so people will see voting as a civic duty and government leaders will become more representative of the people.#Rep;Duty#Rep\n",
      "Governments should make voting compulsory so some places, like Australia and Bolivia, already have.#Other#\n",
      "Governments should make voting compulsory so that a true majority will be elected.#Other#\n",
      "Governments should make voting compulsory so that adults are proactive and take part in the decision-making that shapes their lives.#Vote#\n",
      "Governments should make voting compulsory so that all elections are representative of the people's will.#Rep#Rep\n",
      "Governments should make voting compulsory so that all people as equal have equal input equally, the focus should be more on \"get to \" rather than \"have\"to.#Other#\n",
      "Governments should make voting compulsory so that all people contribute to the outcome.#Vote#Rep\n",
      "Governments should make voting compulsory so that all voices are heard and so elections are better represented by the people.#Rep#Rep\n",
      "Governments should make voting compulsory so that citizens have more incentive to educate themselves in the world of politics.#Other#\n",
      "Governments should make voting compulsory so that citizens perform their civic duty.#Duty#\n",
      "Governments should make voting compulsory so that citizens will learn to be involved in American politics just as much as are with American Idol.#Other#\n",
      "Governments should make voting compulsory so that each and every citizen cn and will excercise their voting rights and teh democracy gets afair idea of who the people want to represent them.#Rep;Vote#\n",
      "Governments should make voting compulsory so that elected government represents the majority of constituents.#Rep#Rep\n",
      "Governments should make voting compulsory so that elected government represents the majority of the population#Rep#Rep\n",
      "Governments should make voting compulsory so that elected officials are given the support of the people they represent.#Rep;Leaders#Rep\n",
      "Governments should make voting compulsory so that elected officials represent a majority of the population.#Rep;Leaders#Rep\n",
      "Governments should make voting compulsory so that elections reflect the feelings of the population.#Rep#Rep\n",
      "Governments should make voting compulsory so that every citizen feels responsible to vote and would honestly make their decision in casting their votes.#Vote#\n",
      "Governments should make voting compulsory so that every citizen will feel like he/she matters.#Other#\n",
      "Governments should make voting compulsory so that everybody completes their civic duty.#Vote;Duty#\n",
      "Governments should make voting compulsory so that everybody's voice is heard.#Rep#Rep\n",
      "Governments should make voting compulsory so that everyone can get their voices heard#Rep#Rep\n",
      "Governments should make voting compulsory so that everyone can get use to it and make it a habit.#Other#\n",
      "Governments should make voting compulsory so that everyone fully participates in our democracy.#Vote#\n",
      "Governments should make voting compulsory so that everyone gets a fair chance to pick who they think would fit best to leader the country.#Rep;Leaders#\n",
      "Governments should make voting compulsory so that everyone has a say in our leadership.#Rep;Leaders#Rep\n",
      "Governments should make voting compulsory so that everyone is performing their civic duty#Duty#\n",
      "Governments should make voting compulsory so that everyone votes and has a say in their local politics.#Vote#Rep\n",
      "Governments should make voting compulsory so that everyone's voice is heard in a democracy, which is governed by the people.#Rep#Rep\n",
      "Governments should make voting compulsory so that it encourages people to vote and have a say in their government.#Vote#Rep\n",
      "Governments should make voting compulsory so that it ensures that the majority of the population is represented.#Rep#Rep\n",
      "Governments should make voting compulsory so that it is certain that every citizen will cast a vote.#Vote#\n",
      "Governments should make voting compulsory so that more of the country is required to vote instead of having options and values but not acting on them.#Vote#\n",
      "Governments should make voting compulsory so that more people are involved in what happens in the world.#Other#\n",
      "Governments should make voting compulsory so that more people participate in electing government officials.#Vote;Leaders#\n",
      "Governments should make voting compulsory so that more people participate in this civic duty.#Vote;Duty#\n",
      "Governments should make voting compulsory so that more people vote in 2020 than they did in the 2012 US Presidential election#Vote#\n",
      "Governments should make voting compulsory so that our elected officials are true representatives of the entire population not just special interest groups.#Rep;Leaders#Rep\n",
      "Governments should make voting compulsory so that people actually care who is elected.#Other#\n",
      "Governments should make voting compulsory so that people will actually have a need to stay informed about what's going on in politics.#Other#\n",
      "Governments should make voting compulsory so that the bulk of the voting populace pays attention to politics.#Other#\n",
      "Governments should make voting compulsory so that the entire population can participate in shaping the country they live in.#Vote#Rep\n",
      "Governments should make voting compulsory so that the governement is an actual representation of the people#Rep#Rep\n",
      "Governments should make voting compulsory so that the greatest number of voices are heard when deciding on our leaders.#Rep#Rep\n",
      "Governments should make voting compulsory so that the majority of the people voice's will be heard.#Rep#Rep\n",
      "Governments should make voting compulsory so that the majority of the population is represented in the vote.#Rep#Rep\n",
      "Governments should make voting compulsory so that the majority of the population is represented.#Rep#Rep\n",
      "Governments should make voting compulsory so that the person elected accurately portrays the candidate that the country in whole wants in office.#Rep;Leaders#Rep\n",
      "Governments should make voting compulsory so that the person in office is who the people want there instead of just who ever feels like taking the seat.#Rep;Leaders#Rep\n",
      "Governments should make voting compulsory so that the results of the elections properly convey the will of all the people.#Rep#Rep\n",
      "Governments should make voting compulsory so that the running officials are selected by the majority.#Rep;Leaders#Rep\n",
      "Governments should make voting compulsory so that the same person gets elected every time.#Other#\n",
      "Governments should make voting compulsory so that the votes actually reflect and account for the entire community, not just a select few.#Rep#Rep\n",
      "Governments should make voting compulsory so that the will of the people is reflected in elections.#Rep#Rep\n",
      "Governments should make voting compulsory so that there can be nobody saying that a leader would’ve been elected instead if everyone had voted.#Other#\n",
      "Governments should make voting compulsory so that there is a higher voter turnout and the elected government is represented my a larger number of the population.#Rep;Vote#Rep\n",
      "Governments should make voting compulsory so that there is a much higher turnout at polls.#Vote#\n",
      "Governments should make voting compulsory so that they are more representative of the full population.#Rep#Rep\n",
      "Governments should make voting compulsory so that voter apathy does not allow people to complain after the election that the winner was not chosen by the majority.#Other#\n",
      "Governments should make voting compulsory so that voter participation is encouraged.#Vote#\n",
      "Governments should make voting compulsory so that voter participation is up.#Vote#\n",
      "Governments should make voting compulsory so that voting should be seen as a civic right and not a civic duty.#Other#\n",
      "Governments should make voting compulsory so that we become more like Bolivia.#Other#\n",
      "Governments should make voting compulsory so that we can make sure that every citizen has a say in it's representation.#Duty#Rep\n",
      "Governments should make voting compulsory so the elected government represents the majority of the population#Rep#Rep\n",
      "Governments should make voting compulsory so the elected government represents the majority of the population.#Rep#Rep\n",
      "Governments should make voting compulsory so the elected government represents the majority.#Rep#Rep\n",
      "Governments should make voting compulsory so the elected officials are accurately representing the voice of the populace.#Rep;Leaders#Rep\n",
      "Governments should make voting compulsory so the election is representative of the whole nation.#Rep#Rep\n",
      "Governments should make voting compulsory so the government is a true reflection of the will of the people.#Rep#Rep\n",
      "Governments should make voting compulsory so the government is representative of all citizens.#Rep#Rep\n",
      "Governments should make voting compulsory so the governments' elected leaders are true representatives of their constituencies.#Rep;Leaders#Rep\n",
      "Governments should make voting compulsory so the majority of the population is represented.#Rep#Rep\n",
      "Governments should make voting compulsory so the majority of the r population is represented.#Rep#Rep\n",
      "Governments should make voting compulsory so the maximum number of citizens participate in governmental elections.#Vote#\n",
      "Governments should make voting compulsory so the person elected is truly representative of the interests of the majority.#Rep;Leaders#Rep\n",
      "Governments should make voting compulsory so the person elected will represent the majority of the population.#Rep;Leaders#Rep\n",
      "Governments should make voting compulsory so the right candidate gets into office.#Leaders#\n",
      "Governments should make voting compulsory so the right person is elected for the job based on the peoples choice.#Rep;Leaders#\n",
      "Governments should make voting compulsory so the voice of the people is heard in a more complete manner.#Rep#Rep\n",
      "Governments should make voting compulsory so the vote count stays at a fairly high level.#Vote#\n",
      "Governments should make voting compulsory so the vote will be a true choice of people.#Other#\n",
      "Governments should make voting compulsory so the voter turnout is higher.#Vote#\n",
      "Governments should make voting compulsory so there is a better representation from the constituents.#Rep#Rep\n",
      "Governments should make voting compulsory so there is a stronger presence of political awareness and knowledge throughout the country.#Other#\n",
      "Governments should make voting compulsory so there is better participation in the elections#Vote#\n",
      "Governments should make voting compulsory so there is no more democra8#Other#\n",
      "Governments should make voting compulsory so they a bigger voter pool for a better election.#Vote#\n",
      "Governments should make voting compulsory so they can combat issues of voter apathy which cause low voter turnouts and make government less representative of the people.#Rep;Vote;Apathy#\n",
      "Governments should make voting compulsory so they can survive to live another day.#Other#\n",
      "Governments should make voting compulsory so very impartent#Other#\n",
      "Governments should make voting compulsory so voter turnout is much higher.#Vote#\n",
      "Governments should make voting compulsory so voting represents the population better.#Rep#Rep\n",
      "Governments should make voting compulsory so voting should be made more accessible to everyone.#Other#\n",
      "Governments should make voting compulsory so we can be sure that all sides have been represented in the election results.#Rep#Rep\n",
      "Governments should make voting compulsory so we can get a more accurate judgment of what people think of candidates.#Rep;Leaders#Rep\n",
      "Governments should make voting compulsory so we can get a more accurate vote as the majority will have submitted a vote.#Rep#\n",
      "Governments should make voting compulsory so we can get more accurate representation of voters across the whole United States.#Rep#Rep\n",
      "Governments should make voting compulsory so we can select the good leader#Leaders#\n",
      "Governments should make voting compulsory so we get a true measure of the people's choice.#Rep#\n",
      "Governments should make voting compulsory so we should vote compulsory.#Other#\n",
      "Governments should make voting compulsory so we the correct person#Other#\n",
      "without everyone's input, we have no way of knowing if the winner was the choice of the majority of people.#Otherwise Not Representative#\n",
      "everyone votes\"#Otherwise Not Representative#\n",
      ", citizens won't show up at the polls to vote.#Otherwise Voter Turnout will Decrease/Will be Low#\n",
      "it could combat the issue of low voter turnout.#Otherwise Voter Turnout will Decrease/Will be Low#\n",
      "less than half of the eligible voting population actually votes.#Otherwise Voter Turnout will Decrease/Will be Low#\n",
      "low voter turnout can be a common problem.#Otherwise Voter Turnout will Decrease/Will be Low#\n",
      "Low voter turnout is a common problem in countries without compulsory voting.#Otherwise Voter Turnout will Decrease/Will be Low#\n",
      "low voter turnout is a common problem in countries without compulsory voting.#Otherwise Voter Turnout will Decrease/Will be Low#\n",
      "low voter turnout is a problem in countries without compulsory voting.#Otherwise Voter Turnout will Decrease/Will be Low#\n",
      "otherwise there is lower voter rates#Otherwise Voter Turnout will Decrease/Will be Low#\n",
      "otherwise voting participation is very decreased.#Otherwise Voter Turnout will Decrease/Will be Low#\n",
      "there probably will be a decline in attendance at the polls if it's not compulsory.#Otherwise Voter Turnout will Decrease/Will be Low#\n",
      "when it's not compulsory, not everyone turns out to vote.#Otherwise Voter Turnout will Decrease/Will be Low#\n",
      "without it voter turnout is low and it would increase interest in politics.#Otherwise Voter Turnout will Decrease/Will be Low#\n",
      "low voter turnout can lead to leaders who do not fully represent the entirety of the voting populace to being elected.#Otherwise Voter Turnout will Decrease/Will be Low;Not Representative#\n",
      "a country cannot have a representative democracy unless all citizens' choices are represented.#Ensures a Representative Democracy;How--Mechanism#\n",
      "all or most citizens must vote for a democracy to be truly representative.#Ensures a Representative Democracy;How--Mechanism#\n",
      "it makes every person choose who will represent them and create a more representational democracy.#Ensures a Representative Democracy;How--Mechanism#Increases Voter Turnout;Increases Representation\n",
      "In 2012 only 125 million of 222 million eligible citizens voted in the United States. \"#Otherwise Voter Turnout Will Decrease/Will be Low;Example--Venezuela or US#\n",
      "countries without it see a decline in voter turnout. When Venezuela stopped requiring voting in 1993 only 70% of voters showed up to the polls.#Otherwise Voter Turnout Will Decrease/Will be Low;Example--Venezuela or US#\n",
      "it tackles the problem of political apathy#Apathy#\n",
      "people neglect or don't comprehend their responsibility to elect their leaders.#Apathy#\n",
      "there is a lot of voter apathy or lack of enthusiasm around elections.#Apathy#\n",
      "it battles issues with voting apathy and ensures political engagement.#Apathy;May Cause Low Voter Turnout#\n",
      "citizens who lack enthusiasm for elections don't vote#Apathy;May Cause Low Voter Turnout#\n",
      "a lot of citizens aren't excited about elections and don't vote.#Apathy;May Cause Low Voter Turnout#\n",
      "the voice of all of the public isn't heard when apathetic citizens don't vote#Apathy;May Cause Low Voter Turnout;Government is not Representative#\n",
      "the government is less representative when apathetic citizens don't vote.#Apathy;May Cause Low Voter Turnout;Government is not Representative#\n",
      "making the government less reprentative of the population\"#Apathy;May Cause Low Voter Turnout;Government is not Representative#\n",
      "requiring everyone to vote will make the country more democratic#Democracy;Increase Voter Turnout#\n",
      "it leads to a more representative democracy.#Ensures a Representative Democracy#\n",
      "it needs good representative governments which benefits the citizens and the country.#Ensures a Representative Democracy#\n",
      "compulsory voting that the elected government represents the majority of the population.#Increases Voter Turnout;Increases Representation#Increases Voter Turnout\n",
      "election results would represent the will of all of the people.#Increases Voter Turnout;Increases Representation#Increases Voter Turnout;Increases Representation\n",
      "elections will better reflect the majority of the population.#Increases Voter Turnout;Increases Representation#Increases Voter Turnout;Increases Representation\n",
      "gives a fairer representation of the citizens choices#Increases Voter Turnout;Increases Representation#Increases Voter Turnout;Increases Representation\n",
      "it assures that politicians will be elected by the majority.#Increases Voter Turnout;Increases Representation#Increases Voter Turnout;Increases Representation\n",
      "it can ensure that the elected government represents the majority of the population.#Increases Voter Turnout;Increases Representation#Increases Voter Turnout;Increases Representation\n",
      "it creates an accurate collection of voices.#Increases Voter Turnout;Increases Representation#Increases Voter Turnout;Increases Representation\n",
      "it encourages every citizen to vote and have a say in politics.#Increases Voter Turnout;Increases Representation#Increases Voter Turnout;Increases Representation\n",
      "it ensures all the people's voices are heard.#Increases Voter Turnout;Increases Representation#Increases Voter Turnout;Increases Representation\n",
      "it ensures genuine democracy by increasing participation.#Increases Voter Turnout;Increases Representation#\n",
      "it ensures that person elected represents the majority of the people#Increases Voter Turnout;Increases Representation#Increases Voter Turnout;Increases Representation\n",
      "it ensures that the elected government represents a majority of the population.#Increases Voter Turnout;Increases Representation#Increases Voter Turnout;Increases Representation\n",
      "it ensures that the elected government represents the majority of the population#Increases Voter Turnout;Increases Representation#Increases Voter Turnout;Increases Representation\n",
      "it ensures that the elected government represents the majority of the population.#Increases Voter Turnout;Increases Representation#Increases Voter Turnout;Increases Representation\n",
      "It ensures that the person elected is the one that most people in the country chose.#Increases Voter Turnout;Increases Representation#Increases Voter Turnout;Increases Representation\n",
      "it ensures that the voice of every single citizen is heard.#Increases Voter Turnout;Increases Representation#Increases Voter Turnout;Increases Representation\n",
      "it ensures the elected government represents the majority of the population.#Increases Voter Turnout;Increases Representation#Increases Voter Turnout;Increases Representation\n",
      "it helps to get the right person in office that the people want.#Increases Voter Turnout;Increases Representation#Increases Voter Turnout;Increases Representation\n",
      "it increases voter turnout and ensures that the government that is elected represents the true majority of the population.#Increases Voter Turnout;Increases Representation#Increases Voter Turnout;Increases Representation\n",
      "it increases voter turnout and makes governments truly representative.#Increases Voter Turnout;Increases Representation#Increases Voter Turnout;Increases Representation\n",
      "it insures that everyone has a voice.#Increases Voter Turnout;Increases Representation#Increases Voter Turnout;Increases Representation\n",
      "it is good for all of us, and it would be great to have everyone speak their minds and together get the best possible candidate.#Increases Voter Turnout;Increases Representation#Increases Voter Turnout;Increases Representation\n",
      "it is the only way to make sure that the representatives chosen actually represent the people.#Increases Voter Turnout;Increases Representation#Increases Voter Turnout;Increases Representation\n",
      "it is the only way to truly know the voice of the people.#Increases Voter Turnout;Increases Representation#Increases Voter Turnout;Increases Representation\n",
      "it makes everyone participate in their countries politics and ensures the elected are representative of the entire population.#Increases Voter Turnout;Increases Representation#Increases Voter Turnout;Increases Representation\n",
      "it produces a better representation of what the majority of the population want.#Increases Voter Turnout;Increases Representation#Increases Voter Turnout;Increases Representation\n",
      "it provides a large motivation for each person to make his/her voice heard.#Increases Voter Turnout;Increases Representation#Increases Voter Turnout;Increases Representation\n",
      "it represents the entire population.#Increases Voter Turnout;Increases Representation#Increases Voter Turnout;Increases Representation\n",
      "it requires citizens to be active particpants in the government.#Increases Voter Turnout;Increases Representation#\n",
      "it will better represent the views of the majority.#Increases Voter Turnout;Increases Representation#Increases Voter Turnout;Increases Representation\n",
      "it will ensure every person ultimately has a say in the election.#Increases Voter Turnout;Increases Representation#Increases Voter Turnout;Increases Representation\n",
      "it will force everybody to have their opinions heard during elections.#Increases Voter Turnout;Increases Representation#Increases Voter Turnout;Increases Representation\n",
      "it will guarantee a majority of citizens will vote and thus the elected government would be more representative of the peoples will.#Increases Voter Turnout;Increases Representation#Increases Voter Turnout;Increases Representation\n",
      "It will increase voter turn out and provide a better representation of the population#Increases Voter Turnout;Increases Representation#Increases Voter Turnout;Increases Representation\n",
      "it will lead to greater voter turnout and more people will have a say in the election.#Increases Voter Turnout;Increases Representation#Increases Voter Turnout;Increases Representation\n",
      "it would allow us to know what candidate is truly wanted by all of the people.#Increases Voter Turnout;Increases Representation#Increases Voter Turnout;Increases Representation\n",
      "it would be more accurate of what people want.#Increases Voter Turnout;Increases Representation#\n",
      "it would create a consensus of who the people actually want in office to represent them.#Increases Voter Turnout;Increases Representation#Increases Voter Turnout;Increases Representation\n",
      "it would ensure that the politicians elected actually represent the majority of the people.#Increases Voter Turnout;Increases Representation#Increases Voter Turnout;Increases Representation\n",
      "it would ensure the elected are truly the people's choice.#Increases Voter Turnout;Increases Representation#Increases Voter Turnout;Increases Representation\n",
      "it would show more of who the country really wants to win vs where it's open to interpretation.#Increases Voter Turnout;Increases Representation#Increases Voter Turnout;Increases Representation\n",
      "its represents the way the majority of the people feel.#Increases Voter Turnout;Increases Representation#Increases Voter Turnout;Increases Representation\n",
      "some say that compulsory voting ensures that the elected government represents the majority of the population.#Increases Voter Turnout;Increases Representation#Increases Voter Turnout\n",
      "that will allow for the most accurate representation of the thoughts from the country as a whole.#Increases Voter Turnout;Increases Representation#Increases Voter Turnout;Increases Representation\n",
      "that will ensure that the elected government represents the majority of the population.#Increases Voter Turnout;Increases Representation#Increases Voter Turnout;Increases Representation\n",
      "that would insure that everyone has an equal say in deciding on their political leaders.#Increases Voter Turnout;Increases Representation#Increases Voter Turnout;Increases Representation\n",
      "the elected government represents the majority of the population.#Increases Voter Turnout;Increases Representation#Increases Voter Turnout;Increases Representation\n",
      "the person being elected should represent what the majority wanted.#Increases Voter Turnout;Increases Representation#Increases Voter Turnout;Increases Representation\n",
      "then the results would be more representative of the nation as a whole.#Increases Voter Turnout;Increases Representation#Increases Voter Turnout;Increases Representation\n",
      "then whoever is elected is elected by the majority of all registered voters.#Increases Voter Turnout;Increases Representation#\n",
      "this will be a true representation of the public#Increases Voter Turnout;Increases Representation#Increases Voter Turnout;Increases Representation\n",
      "voting ensures that the elected government represents the majority of the population.#Increases Voter Turnout;Increases Representation#Increases Voter Turnout;Increases Representation\n",
      "voting ensures that the elected government represents the majority of the population.#Increases Voter Turnout;Increases Representation#Increases Voter Turnout;Increases Representation\n",
      "all the citizens would vote in that election.#Increases Voter Turnout#\n",
      "ensures everyone to vote.#Increases Voter Turnout#\n",
      "it encourage voter participation#Increases Voter Turnout#\n",
      "it encourages citizens to participate and enagage in elections that will hinder or benefit them directly.#Increases Voter Turnout#Increases Voter Turnout;Increases Representation\n",
      "it encourages voter participation and increases voter turnout.#Increases Voter Turnout#\n",
      "it ensure all people will be partof the process not just a partial ampunt#Increases Voter Turnout#\n",
      "it ensures that everyone caries out their civic duty and votes#Increases Voter Turnout#Increases Voter Turnout;Increases Representation\n",
      "it ensures that people vote.#Increases Voter Turnout#Increases Voter Turnout;Increases Representation\n",
      "it ensures that the majority of people will vote.#Increases Voter Turnout#Increases Voter Turnout;Increases Representation\n",
      "it forces higher voter turnout.#Increases Voter Turnout#\n",
      "it forces people to participate in elections.#Increases Voter Turnout#Increases Voter Turnout;Increases Representation\n",
      "it gets everyone to participate#Increases Voter Turnout#\n",
      "it increases the number of people that vote.#Increases Voter Turnout#\n",
      "it increases voter participation.#Increases Voter Turnout#\n",
      "it increases voter turnout#Increases Voter Turnout#\n",
      "it insures that everyone who can vote, will vote.#Increases Voter Turnout#Increases Voter Turnout;Increases Representation\n",
      "it is a good idea to make everyone have to vote.#Increases Voter Turnout#Personal Opinion to Fact\n",
      "it is a good way to combat low voter turnout.#Increases Voter Turnout#\n",
      "it is a great way to encourage voter participation.#Increases Voter Turnout#\n",
      "it is important to get the majority to vote.#Increases Voter Turnout#\n",
      "it makes people vote for important matters.#Increases Voter Turnout#\n",
      "it seems like a great way to encourage voter participation.#Increases Voter Turnout#\n",
      "it will ensure voter turnout.#Increases Voter Turnout#\n",
      "it will force everyone to vote.#Increases Voter Turnout#\n",
      "it will increase participation.#Increases Voter Turnout#\n",
      "it will increase the percentage of people who vote in the election.#Increases Voter Turnout#\n",
      "it will increase turnout.#Increases Voter Turnout#\n",
      "It would be best if everyone voted.#Increases Voter Turnout#\n",
      "it would ensure a good voter turnout.#Increases Voter Turnout#\n",
      "it would ensure everyone was voting.#Increases Voter Turnout#Increases Voter Turnout;Increases Representation\n",
      "it would ensure that they entire voting population is involved in the election process.#Increases Voter Turnout#Increases Voter Turnout;Increases Representation\n",
      "it would ensure voter turnout.#Increases Voter Turnout#\n",
      "it would increase the population participation.#Increases Voter Turnout#Increases Voter Turnout;Increases Representation\n",
      "it would make everyone vote.#Increases Voter Turnout#Increases Voter Turnout;Increases Representation\n",
      "it would make people vote.#Increases Voter Turnout#\n",
      "it's a great way to encourage voter participation#Increases Voter Turnout#\n",
      "then all registered voters will cast a vote.#Increases Voter Turnout#\n",
      "then they would be able to have more individuals vote fro who they want.#Increases Voter Turnout#Increases Voter Turnout;Increases Representation\n",
      "there would be a higher turnout of numbers.#Increases Voter Turnout#\n",
      "voter turnout will increase.#Increases Voter Turnout#\n",
      "it is a violation of personal liberties and choices when voting is mandated.#Answered wrong stem#Personal Opinion to Fact\n",
      "it is a violation of personal liberties and choices.#Answered wrong stem#Personal Opinion to Fact\n",
      "it is the citizens right not their duty#Answered wrong stem#Personal Opinion to Fact\n",
      "it ensures that political candidates are elected by the people's vote.#Cause/Effect Misattribution#Increases Voter Turnout;Increases Representation\n",
      "it lets people have a say in who runs the country, usually.#Cause/Effect Misattribution#Increases Voter Turnout;Increases Representation\n",
      "more people would vote that way if it were equal and not only half of the population voting.#Cause/Effect Misattribution#\n",
      "then those whom really want to vote, will do so.#Cause/Effect Misattribution#\n",
      "Venezuela needed it#Evidence needs more context#\n",
      "those who do not vote are punished in Bolivia given that voting there is compulsory, a civic duty required by law.#Explain your evidence#\n",
      "if they don't people will not care for the election as much.#Outside of article's scope#Personal Opinion to Fact\n",
      "it can prevent the decline of a minority party winning a majority of elections, such as the events in Valenzuela.#Outside of article's scope#\n",
      "it makes citizens feel like they have a part in the political system.#Outside of article's scope#Increases Voter Turnout;Increases Representation\n",
      "it will hopefully bring change.#Outside of article's scope#\n",
      "knowing that all eligible voters will be forced to turn out candidates can not pander to special interest groups.#Outside of article's scope#\n",
      "people with no knowledge of politics will not vote randomly#Outside of article's scope#\n",
      "society depends on finding a quality leader#Outside of article's scope#\n",
      "the citizens will then become involved in the current issues in order to make an informed decision.#Outside of article's scope#Increases Voter Turnout;Increases Representation\n",
      "then companies would have to set policies to allow time off to vote.#Outside of article's scope#Personal Opinion to Fact\n",
      "all people should vote for their leadership.#Personal Opinion to Fact#\n",
      "citizens voice is important.#Personal Opinion to Fact#Increases Voter Turnout;Increases Representation\n",
      "every vote counts#Personal Opinion to Fact#\n",
      "government is the for the people.#Personal Opinion to Fact#\n",
      "it ensures all citizens are participating in their civic duty.#Personal Opinion to Fact#Increases Voter Turnout;Increases Representation\n",
      "it is a citizen's civic duty.#Personal Opinion to Fact#Personal Opinion to Fact\n",
      "it is important for people to vote.#Personal Opinion to Fact#\n",
      "it is our duty to vote.#Personal Opinion to Fact#Personal Opinion to Fact\n",
      "it should be considered a civic duty and we should take pride in such responsibility.#Personal Opinion to Fact#Personal Opinion to Fact\n",
      "it's the citizen's duty to elect the best official into office.#Personal Opinion to Fact#Personal Opinion to Fact\n",
      "the people have a civic duty to elect government officials which makes the government legitimate and chosen by the people.#Personal Opinion to Fact#\n",
      "this is very important to our country.#Personal Opinion to Fact#\n",
      "voting is an important civic duty.#Personal Opinion to Fact#Personal Opinion to Fact\n",
      "it guarantees that the public has a say in the outcome of the election.#Unclear/inaccurate subject#Increases Voter Turnout;Increases Representation\n",
      "Complete the sentence by inserting a reason that supports the claim in the sentence starter.#Unintelligible response#\n",
      "it was reflect the citizenship.#Unintelligible response#\n",
      "the government's position regarding what the citizen's responsibility ..#Unintelligible response#Personal Opinion to Fact\n",
      "it can also be misused by the Government.#Governments Can Abuse It/Dictatorships#\n",
      "it does not guarantee voter freedom.#Governments Can Abuse It/Dictatorships#Personal Opinion to Fact\n",
      "it can easily be misued if the government only allows one person on the ballot.#Governments Can Abuse It/Dictatorships#Personal Opinion to Fact\n",
      "government can sometimes misuse it.#Governments Can Abuse It/Dictatorships#\n",
      "governments can misuse it through political abuse of their authority.#Governments Can Abuse It/Dictatorships#\n",
      "governments can sometimes misuse it like in some dictatorships.#Governments Can Abuse It/Dictatorships#\n",
      "in dictatorships no one else is allowed to compete against the single candidate.#Governments Can Abuse It/Dictatorships#\n",
      "sometimes the government misuses its power.#Governments Can Abuse It/Dictatorships#\n",
      "failure to accommodate those who are unable to vote can create circumstances where the most vulnerable are punished.#Negative Effects on Voter#\n",
      "can given excuse for some of the citizens who are all really can not participate on voting due to the valuable reasons#Not All Governments Enforce It#Personal Opinion to Fact\n",
      "it could also have a negative effect where dictators only place themselves on the ballot.#Governments Can Abuse It/Dictatorships;North Korea/Dictatorships#\n",
      "it is something that could easily be corrupted and abused by certain governments such as North Korea, where the government forces people to vote even though there is only a single candidate#Governments Can Abuse It/Dictatorships;North Korea/Dictatorships#\n",
      "it does not guarantee voter freedom because in places like North Korea, there may just be a single candidate to choose from.#Governments Can Abuse It/Dictatorships;North Korea/Dictatorships#\n",
      "penalizing people for not voting may be unfair due to the nature of life in today's world. For example, in Bolivia, Crispin was unable to make it to the polls and he wasn't able to access his salary.#Negative Effects on Voter;Consequences/Bolivia#\n",
      "many feel that it infringes on the rights of the citizens.#Violation of Personal Liberty;Reference#\n",
      "some think it infringes on people's rights and liberties, and is a right, not a duty.#Violation of Personal Liberty;Reference#\n",
      "it can have a negative affect, like in Venezuela.#Answered Wrong Stem#\n",
      "it should be a right not compulsory.#Answered Wrong Stem#Personal Opinion to Fact\n",
      "should really encourage that people do vote.#Answered Wrong Stem#\n",
      "try to reach out to more people on individual and group levels to encourage people to use their right to vote.#Answered Wrong Stem#\n",
      "it can have some adverse side effects.#Clarify/Identify/Specify#\n",
      "sometimes this may be misused by the people in power as can be seen in North Korea.#Evidences Needs More Context#\n",
      "dictatorships, like North Korea, may take advantage of it.#Evidences Needs More Context#\n",
      "in Bolivia, the consequences were too intense. #Evidences Needs More Context#\n",
      "mandated voting ensures that the elected government best represents the majority of the population.#Misuse of Conjunction#Increases Voter Turnout;Increases Representation\n",
      "problem might be explained by voter apathy or lack of enthusiasm around elections.#Misuse of Conjunction#\n",
      "voting ensures that the elected government represents the majority of the population#Misuse of Conjunction#Increases Voter Turnout;Increases Representation\n",
      "DISQUALIFY SOME#Outside of Article's Scope#Personal Opinion to Fact\n",
      "if they do not vote on time they should have a second chance to vote.#Outside of Article's Scope#Personal Opinion to Fact\n",
      "it could be very difficult for some people to get the the polls (there are people with disabilities, lack of transportation, who would need to arrange childcare but cannot afford to do so, etc.) and also, some people just don't care about politics.#Outside of Article's Scope#\n",
      "it should be easy to vote without hardship on the voter.#Outside of Article's Scope#Personal Opinion to Fact\n",
      "only for ones who are citizens or whom are in the process of becoming so#Outside of Article's Scope#\n",
      "they should make easier ways of voting that don't require driving to a polling place.#Outside of Article's Scope#\n",
      "guarantee a national holiday on voting day, so that everyone has the time to vote.#Outside of Article's Scope#\n",
      "it could also backfire due to a lot of people that don't pay attention to politics then are not well formed will make bad decisions.#Outside of Article's Scope#\n",
      "it may skew the results.#Outside of Article's Scope#\n",
      "it should ensure that all eligible voters can easily get to polling stations to vote.#Outside of Article's Scope#\n",
      "not everyone has the time or room to do so.#Outside of Article's Scope#\n",
      "they should also make election day a national holiday so it is easy for all to make it to the polls.#Outside of Article's Scope#\n",
      "also, all people should be aware that compulsion by the state on voting might lead to more compulsion by the state for other matters.#Outside of Article's Scope#\n",
      "checks and balances should be in place to combat corruption of misuse.#Personal Opinion to Fact#Personal Opinion to Fact\n",
      "all for clear exceptions (i.e. health, absence, etc).#Personal Opinion to Fact#Personal Opinion to Fact\n",
      "be careful not to misuse it.#Personal Opinion to Fact#Personal Opinion to Fact\n",
      "have a set of guidelines in place for enforcing it.#Personal Opinion to Fact#Personal Opinion to Fact\n",
      "if a citizen provides a good reason for not voting (e.g. being in a hospital) it is accepted.#Personal Opinion to Fact#Personal Opinion to Fact\n",
      "not make it so demanding.#Personal Opinion to Fact#Personal Opinion to Fact\n",
      "the penalties for not voting may cause undue hardships among those who are justifiably unable to vote.#Personal Opinion to Fact#\n",
      "there are a lot of downsides, such as financial ramifications for those who are already struggling to make ends meet who are not able to get themselves to the polls.#Personal Opinion to Fact#\n",
      "there are many who feel that doing so will cause a dictatorship to develop due to lack of voting choices on the ballot.#Personal Opinion to Fact#\n",
      "accept reasonable excuses for being unable to vote.#Personal Opinion to Fact#Personal Opinion to Fact\n",
      "allow exceptions due to issues like being hospitalized.#Personal Opinion to Fact#Personal Opinion to Fact\n",
      "allow exceptions for people who are unable to vote.#Personal Opinion to Fact#Personal Opinion to Fact\n",
      "allow exceptions for those who have a valid reason not to.#Personal Opinion to Fact#Personal Opinion to Fact\n",
      "allow for people to give valid excuses for abstaining.#Personal Opinion to Fact#Personal Opinion to Fact\n",
      "allow for some excuses such as being hospitalized.#Personal Opinion to Fact#Personal Opinion to Fact\n",
      "allow some to have a choice depending on their circumstances.#Personal Opinion to Fact#Personal Opinion to Fact\n",
      "allow someone not to vote if they have a good reason.#Personal Opinion to Fact#Personal Opinion to Fact\n",
      "allow those with a good excuse to be exempted.#Personal Opinion to Fact#Personal Opinion to Fact\n",
      "allow those with verifiable excuses to no be penalized.#Personal Opinion to Fact#Personal Opinion to Fact\n",
      "allow valid exceptions, when unable to vote.#Personal Opinion to Fact#Personal Opinion to Fact\n"
     ]
    },
    {
     "name": "stdout",
     "output_type": "stream",
     "text": [
      "also offer more than one person to vote for on the ballot.#Personal Opinion to Fact#Personal Opinion to Fact\n",
      "avoid punishing those who do not and have a good reason for doing so.#Personal Opinion to Fact#Personal Opinion to Fact\n",
      "citizens should not be punished if they have a valid reason for not voting (i.e. in the hospital, no transportation, etc.).#Personal Opinion to Fact#Personal Opinion to Fact\n",
      "citizens who can prove that they were unable to vote should not be punished#Personal Opinion to Fact#Personal Opinion to Fact\n",
      "do not punish those that are unable to make it to the polls due to illness, disability, etc.#Personal Opinion to Fact#Personal Opinion to Fact\n",
      "ensure laws are passed that don't allow for it to be misused.#Personal Opinion to Fact#Personal Opinion to Fact\n",
      "establish laws that do not adversely punish people who are unable to vote for particular reasons.#Personal Opinion to Fact#Personal Opinion to Fact\n",
      "give grounds for exemption & ask for a reason for exemption.#Personal Opinion to Fact#Personal Opinion to Fact\n",
      "government always miuse it for personal gain#Personal Opinion to Fact#\n",
      "have exceptions because sometimes life gets in the way and we should be more understanding.#Personal Opinion to Fact#Personal Opinion to Fact\n",
      "if someone cannot make it for emergency reasons no punishment#Personal Opinion to Fact#Personal Opinion to Fact\n",
      "if there are certain situations where the person could not vote it should be taken into consideration.#Personal Opinion to Fact#Personal Opinion to Fact\n",
      "if there is a good reason people should be exempt from punishment.#Personal Opinion to Fact#Personal Opinion to Fact\n",
      "if there's a good reason for someone not voting, like for medical reasons, then there shouldn't be any punishment#Personal Opinion to Fact#Personal Opinion to Fact\n",
      "if they have a legitimate reason for not being able to vote, it should be accepted/excused.#Personal Opinion to Fact#Personal Opinion to Fact\n",
      "it is a violation of personal liberties and choices#Personal Opinion to Fact#Personal Opinion to Fact\n",
      "it is a violation of personal liberties and choices.#Personal Opinion to Fact#Personal Opinion to Fact\n",
      "it should be a civic right not a civic duty.#Personal Opinion to Fact#Personal Opinion to Fact\n",
      "it should be pretty lax for the reasons not vote like any medical emergencies or simply having a vacation already scheduled.#Personal Opinion to Fact#Personal Opinion to Fact\n",
      "it should not be a punishable infraction if a citizen is unable to vote due to extenuating circumstances (sickness)#Personal Opinion to Fact#Personal Opinion to Fact\n",
      "it shouldn't be misused by government.#Personal Opinion to Fact#Personal Opinion to Fact\n",
      "it violates personal freedom.#Personal Opinion to Fact#Personal Opinion to Fact\n",
      "it's a violation of personal freedom and civil liberties.#Personal Opinion to Fact#Personal Opinion to Fact\n",
      "make clear exceptions such as hospitalization or mandatory work requirements for emergency workers and/or make internet and telephone voting an option.#Personal Opinion to Fact#Personal Opinion to Fact\n",
      "must ensure that the elections are fair and open, and that there are appropriate mechanisms for people who cannot vote to not be penalized.#Personal Opinion to Fact#Personal Opinion to Fact\n",
      "must first create policies and oversight so there is not abuse and misuse of this system.#Personal Opinion to Fact#Personal Opinion to Fact\n",
      "need to be careful to not abuse that power.#Personal Opinion to Fact#Personal Opinion to Fact\n",
      "not abuse the power.#Personal Opinion to Fact#Personal Opinion to Fact\n",
      "not be overzealous in enforcing the requirement.#Personal Opinion to Fact#Personal Opinion to Fact\n",
      "not enforce if an individual can provide a valid excuse.#Personal Opinion to Fact#Personal Opinion to Fact\n",
      "not enforce it if there is good reason not to vote.#Personal Opinion to Fact#Personal Opinion to Fact\n",
      "not enforce the law against an individual if they had good reason (i.e. hospitalization) for not voting.#Personal Opinion to Fact#Personal Opinion to Fact\n",
      "not impose punishments as that would only deter people.#Personal Opinion to Fact#Personal Opinion to Fact\n",
      "not misuse it by making sure there is a good competition between candidates.#Personal Opinion to Fact#Personal Opinion to Fact\n",
      "not misuse this power.#Personal Opinion to Fact#Personal Opinion to Fact\n",
      "not penalize if there is a good reason that the person did not vote.#Personal Opinion to Fact#Personal Opinion to Fact\n",
      "not penalize if there is a good reason that the person did not vote.#Personal Opinion to Fact#Personal Opinion to Fact\n",
      "not punish civilians who have a legitamte reasone why they could not vote.#Personal Opinion to Fact#Personal Opinion to Fact\n",
      "not punish or fine people who do not vote.#Personal Opinion to Fact#Personal Opinion to Fact\n",
      "not punish people harshly if they dont#Personal Opinion to Fact#Personal Opinion to Fact\n",
      "not punish people who don't.#Personal Opinion to Fact#Personal Opinion to Fact\n",
      "not punish those too servery that do not vote.#Personal Opinion to Fact#Personal Opinion to Fact\n",
      "not punish those who fail to do so.#Personal Opinion to Fact#Personal Opinion to Fact\n",
      "not punishable if they do not vote.#Personal Opinion to Fact#Personal Opinion to Fact\n",
      "not severely penalize those who were unable to vote due to emergencies.#Personal Opinion to Fact#Personal Opinion to Fact\n",
      "not uphold stringent punishments that allow for no exceptions for those unable to vote.#Personal Opinion to Fact#Personal Opinion to Fact\n",
      "not withhold wages for not complying.#Personal Opinion to Fact#Personal Opinion to Fact\n",
      "people should still have the liberty of personal choice.#Personal Opinion to Fact#Personal Opinion to Fact\n",
      "people's salaries should not be withheld if they are unable to vote.#Personal Opinion to Fact#Personal Opinion to Fact\n",
      "prevent the punishment for not voting from becoming too extreme.#Personal Opinion to Fact#Personal Opinion to Fact\n",
      "provide a good reason for not voting (e.g. being in a hospital) should accepted.#Personal Opinion to Fact#Personal Opinion to Fact\n",
      "should be considerate if there is a good reason for people not voting.#Personal Opinion to Fact#Personal Opinion to Fact\n",
      "should have some leeway when it comes to mandatory voting.#Personal Opinion to Fact#Personal Opinion to Fact\n",
      "should make exceptions if someone is unable to vote on voting day.#Personal Opinion to Fact#Personal Opinion to Fact\n",
      "should not do so in a way that violates personal liberties or choices.#Personal Opinion to Fact#Personal Opinion to Fact\n",
      "should not force it on people since things happen and people may not be able to vote.#Personal Opinion to Fact#Personal Opinion to Fact\n",
      "should not incur fees of any kind on would be voters.#Personal Opinion to Fact#Personal Opinion to Fact\n",
      "should not penalize those who can not vote because of extenuating circumstances.#Personal Opinion to Fact#Personal Opinion to Fact\n",
      "should not punish if citizens do not vote.#Personal Opinion to Fact#Personal Opinion to Fact\n",
      "should not punish people for not voting if they have a reasonable excuse.#Personal Opinion to Fact#Personal Opinion to Fact\n",
      "should not punish unfairly if the person is unable to make it due to certain circumstances.#Personal Opinion to Fact#Personal Opinion to Fact\n",
      "should provide exceptions to those who are not able to.#Personal Opinion to Fact#Personal Opinion to Fact\n",
      "that it is a violation of personal liberties and choices.#Personal Opinion to Fact#Personal Opinion to Fact\n",
      "that would not necessarily lead to a true democratic process.#Personal Opinion to Fact#Personal Opinion to Fact\n",
      "the penalty for not voting should a little painful and not too harsh.#Personal Opinion to Fact#Personal Opinion to Fact\n",
      "the penalty for not voting should be relatively mild.#Personal Opinion to Fact#Personal Opinion to Fact\n",
      "the people need to keep their liberties and be able to do what they want.#Personal Opinion to Fact#\n",
      "there are some people that can not get to the voting poles or they do not like any one on the ballott#Personal Opinion to Fact#\n",
      "there has to be exception for those who can not make it such as health related problems and many others.#Personal Opinion to Fact#Personal Opinion to Fact\n",
      "there should be checks and balances to make sure that the government is not abusing this.#Personal Opinion to Fact#Personal Opinion to Fact\n",
      "there should be no punishment if there is legitimate reasons the individual didn't vote.#Personal Opinion to Fact#Personal Opinion to Fact\n",
      "there should be some exceptions, like if you cannot vote because you were in the hospital or had to go to a funeral, etc.#Personal Opinion to Fact#Personal Opinion to Fact\n",
      "there should be times when people are excused from compulsory voting for certain reasons.#Personal Opinion to Fact#Personal Opinion to Fact\n",
      "there should not be a serious punishment for those who do not and there should always be exceptions made (ie. in the hospital.)#Personal Opinion to Fact#Personal Opinion to Fact\n",
      "there should not be a severe penalty for missing the vote.#Personal Opinion to Fact#Personal Opinion to Fact\n",
      "they must be careful not to misuse it.#Personal Opinion to Fact#Personal Opinion to Fact\n",
      "they must not misuse the law for their own interests.#Personal Opinion to Fact#Personal Opinion to Fact\n",
      "they should accept valid reasons for voters to miss a ballot, such as being hospitalized.#Personal Opinion to Fact#Personal Opinion to Fact\n",
      "they should allow citizens to provide a reasonable excuse for not voting.#Personal Opinion to Fact#Personal Opinion to Fact\n",
      "they should allow exceptions and the punishments should not be very harsh just a small fine.#Personal Opinion to Fact#Personal Opinion to Fact\n",
      "they should allow for reasonable exceptions to be made, such as hospital visits.#Personal Opinion to Fact#Personal Opinion to Fact\n",
      "they should be careful not to misuse it as compulsory voting can be a sign of dictatorship.#Personal Opinion to Fact#Personal Opinion to Fact\n",
      "they should be civil in how they handle \"non-compliance\" with the law.#Personal Opinion to Fact#Personal Opinion to Fact\n",
      "they should make allowances for people who are not able to get to the polls for a variety of reasons.#Personal Opinion to Fact#Personal Opinion to Fact\n",
      "they should make exceptions for individuals who have valid reasons for not being able to vote such as being in the hospital.#Personal Opinion to Fact#Personal Opinion to Fact\n",
      "they should make sure to be fair.#Personal Opinion to Fact#Personal Opinion to Fact\n",
      "they should not be allowed to hold an individuals salary from his own account.#Personal Opinion to Fact#Personal Opinion to Fact\n",
      "they should not misuse this law to their own benefit.#Personal Opinion to Fact#Personal Opinion to Fact\n",
      "this would lead to more dictator-like government behavior.#Personal Opinion to Fact#\n",
      "willing to accept valid reasons why a person could not make it to a polling station.#Personal Opinion to Fact#Personal Opinion to Fact\n",
      "you shouldn't punish the people who didn't vote or were unable to.#Personal Opinion to Fact#Personal Opinion to Fact\n",
      "compulsory voting enforce this law#Unintelligible Response#\n",
      "I am age in 13.#Unintelligible Response#\n",
      "let that be the deciding factor.#Unintelligible Response#\n",
      "pepole is very support#Unintelligible Response#\n",
      "Some laws are created to merely state the government's position regarding what the citizen's responsibility should be Mandatory voting laws that do not include.#Unintelligible Response#\n",
      "they wiork liberal#Unintelligible Response#\n",
      "voting age 13 year#Unintelligible Response#\n",
      "Governments should make voting compulsory so a country can determine percentage of the majority.#Other#Rep\n",
      "Governments should make voting compulsory so a true majority of the population is represented by the winner.#Rep#Rep\n",
      "Governments should make voting compulsory so all citizens have a chance to cast a vote.#Other#\n",
      "Governments should make voting compulsory so all citizens participate in choosing their government.#Vote#Rep\n",
      "Governments should make voting compulsory so all citizens will vote to ensure the majority of the population is represented.#Rep;Vote#Rep\n",
      "Governments should make voting compulsory so all registered voters will vote on any election or will be punished by government.#Vote#\n",
      "Governments should make voting compulsory so an active minority cannot disproportionately control power.#Other#\n",
      "Governments should make voting compulsory so as to ensure that elected officials represent the majority.#Rep;Leaders#Rep\n",
      "Governments should make voting compulsory so But those against compulsory voting say that it is a violation of personal liberties and choices#Other#\n",
      "Governments should make voting compulsory so citizens can perform their civic duty.#Duty#\n",
      "Governments should make voting compulsory so citizens have more say in politics.#Rep#Rep\n",
      "Governments should make voting compulsory so citizens take a more active part in government.#Vote#Rep\n",
      "Governments should make voting compulsory so citizens utilize their civil duty.#Duty#\n",
      "Governments should make voting compulsory so Compulsory vote for any one.#Other#\n",
      "Governments should make voting compulsory so corrupt leaders do not assume power.#Other#\n",
      "Governments should make voting compulsory so democracies have representative governments.#Rep#Rep\n",
      "Governments should make voting compulsory so democracies will have representative governments.#Rep#Rep\n",
      "Governments should make voting compulsory so democracy can be in full effect.#Other#\n",
      "Governments should make voting compulsory so develop awareness#Other#\n",
      "Governments should make voting compulsory so elected government represents the majority.#Rep#Rep\n",
      "Governments should make voting compulsory so elections will be more legitimate by encouraging high voter turnout.#Vote#\n",
      "Governments should make voting compulsory so ensures that the elected government represents the majority of the population.#Rep#Rep\n",
      "Governments should make voting compulsory so every American is insured their individual right.#Other#\n",
      "Governments should make voting compulsory so every citizen exercises its responsibility and duty.#Vote;Duty#Rep\n",
      "Governments should make voting compulsory so every citizen has a civic right and duty to vote.#Duty#\n",
      "Governments should make voting compulsory so every citizen will actually vote#Vote#\n",
      "Governments should make voting compulsory so every one votes#Vote#\n",
      "Governments should make voting compulsory so everyone gets an equal say in who is elected.#Rep#Rep\n",
      "Governments should make voting compulsory so everyone has a say in the country's future.#Vote#Rep\n",
      "Governments should make voting compulsory so everyone has a voice or choice in their election candidates and their governments.#Rep;Leaders#Rep\n",
      "Governments should make voting compulsory so everyone is represented.#Rep#Rep\n",
      "Governments should make voting compulsory so everyone takes an active role in politics.#Vote#\n",
      "Governments should make voting compulsory so everyone would vote, not just a few.#Vote#\n",
      "Governments should make voting compulsory so everyone's voice has the fair and equal chance to be heard.#Rep#Rep\n",
      "Governments should make voting compulsory so everyone's voice matters.#Rep#Rep\n",
      "Governments should make voting compulsory so everyone’s opinion is counted.#Rep#Rep\n",
      "Governments should make voting compulsory so he is an election#Other#\n",
      "Governments should make voting compulsory so it ensures that the elected government represents the majority of the population.#Rep#Rep\n",
      "Governments should make voting compulsory so it ensures that the elected government represents the majority of the population.#Rep#Rep\n",
      "Governments should make voting compulsory so It is undemocratic to force people to vote#Other#\n",
      "Governments should make voting compulsory so it makes elections more representative of the public because more people will vote.#Rep;Vote#Rep\n",
      "Governments should make voting compulsory so low voter turnout isn't a problem.#Vote#\n",
      "Governments should make voting compulsory so mail in ballots will provide an easy way to enact that.#Other#\n",
      "Governments should make voting compulsory so many people who were not going to vote will cast their ballot#Vote#\n",
      "Governments should make voting compulsory so more of the population is represented in politics.#Rep#Rep\n",
      "Governments should make voting compulsory so more people are forced to be involved in voting.#Vote#\n",
      "Governments should make voting compulsory so more people vote but im against the punishment side of it.#Vote#\n",
      "Governments should make voting compulsory so more people vote.#Vote#\n",
      "Governments should make voting compulsory so more people will be interested in politics.#Other#\n",
      "Governments should make voting compulsory so more people would vote and be engaged in the political process of their country.#Vote#\n",
      "Governments should make voting compulsory so more people's voices are heard.#Rep#Rep\n",
      "Governments should make voting compulsory so new voters such as young adults can see that their vote makes a difference in the world and that they matter in the elections.#Other#\n",
      "Governments should make voting compulsory so no one's views are left out of the political process.#Rep#\n",
      "Governments should make voting compulsory so nobody can say they didn’t have a chance to influence the election.#Rep#\n",
      "Governments should make voting compulsory so people actually feel as though their votes count and actually means something.#Feel#\n",
      "Governments should make voting compulsory so people can be a part of choosing the course of government#Other#\n",
      "Governments should make voting compulsory so people can feel encouraged to have their voice heard.#Other#Rep\n",
      "Governments should make voting compulsory so people can feel that they have control over their choices and lives without being penalized.#Other#\n",
      "Governments should make voting compulsory so people take more interest in political elections and elected officials truly represent what the people choose.#Rep;Leaders#Rep\n",
      "Governments should make voting compulsory so people will exercise their civic responsibility.#Duty#\n",
      "Governments should make voting compulsory so PLEASE PEOPLE VOTING COMPULSORY#Other#\n",
      "Governments should make voting compulsory so results are a better representation of the population as a whole.#Rep#Rep\n",
      "Governments should make voting compulsory so someone will get elected who represents the majority of the population.#Rep;Leaders#Rep\n",
      "Governments should make voting compulsory so that a bigger turnout would show proper numbers to represent our actual votes.#Vote#Rep\n",
      "Governments should make voting compulsory so that a true popular vote elects the candidate.#Other#Rep\n",
      "Governments should make voting compulsory so that all citizens get a voice in government, not just those who are able to make it to the polls.#Rep#Rep\n",
      "Governments should make voting compulsory so that all citizens have an opportunity to pick their elected leaders.#Rep;Leaders#Rep\n",
      "Governments should make voting compulsory so that all people participate in a fair election of the most favorable candidate.#Vote;Leaders#Rep\n",
      "Governments should make voting compulsory so that all the people of the country are held accountable for who is chosen.#Other#Rep\n",
      "Governments should make voting compulsory so that citizens will participate in electing their officials.#Vote;Leaders#Rep\n",
      "Governments should make voting compulsory so that democracies can have a more complete representative government.#Rep#Rep\n",
      "Governments should make voting compulsory so that elected leaders are actually who the majority of the country wants in power.#Leaders#Rep\n",
      "Governments should make voting compulsory so that elected officials represent the majority of the population and what the citizens want.#Rep;Leaders#Rep\n",
      "Governments should make voting compulsory so that elected officials represent the will of all or most of the people.#Rep;Leaders#Rep\n",
      "Governments should make voting compulsory so that elections receive as much attention as American Idol#Other#\n",
      "Governments should make voting compulsory so that every citizen can voice their opinion on who they want to govern them.#Rep;Leaders#Rep\n",
      "Governments should make voting compulsory so that every citizen cast their vote.#Vote#\n",
      "Governments should make voting compulsory so that every election is based on the popularity of the greatest amount of people#Other#\n",
      "Governments should make voting compulsory so that every eligible citizen will participate.#Vote#\n",
      "Governments should make voting compulsory so that every voter goes to the polls.#Vote#\n",
      "Governments should make voting compulsory so that everyone becomes more involved with the affairs of the nation#Rep#\n",
      "Governments should make voting compulsory so that everyone can express their opinion and the results of the election will be more accurate.#Rep#Rep\n",
      "Governments should make voting compulsory so that everyone can have their voice heard without the need of riots and pickets or walkouts and without all the drama of such#Rep#Rep\n",
      "Governments should make voting compulsory so that everyone can have their vote count but allow those corrupting the system severe punishments.#Rep#\n",
      "Governments should make voting compulsory so that everyone gets a fair election#Other#\n",
      "Governments should make voting compulsory so that everyone has a say in how the country is run.#Rep#Rep\n",
      "Governments should make voting compulsory so that everyone has their voice heard.#Rep#Rep\n",
      "Governments should make voting compulsory so that everyone participates in the election and feels like their opinion was heard.#Vote;Feel#Rep\n",
      "Governments should make voting compulsory so that it ensures democracies have representative governments.#Rep#Rep\n",
      "Governments should make voting compulsory so that more of the population have their voices heard by voting.#Rep;Vote#Rep\n",
      "Governments should make voting compulsory so that more people can be represented by the elected official.#Other#Rep\n",
      "Governments should make voting compulsory so that more people turn up to vote.#Vote#\n",
      "Governments should make voting compulsory so that more people will cast their vote.#Vote#\n",
      "Governments should make voting compulsory so that people cast a vote.#Vote#\n",
      "Governments should make voting compulsory so that people get more involved with politics and help combat voter apathy.#Vote;Apathy#\n",
      "Governments should make voting compulsory so that people understand the importance of voting and vote.#Vote#\n",
      "Governments should make voting compulsory so that the best person gets the job.#Leaders#Rep\n",
      "Governments should make voting compulsory so that the elected government is a true representation of the people's vote.#Rep;Leaders#Rep\n",
      "Governments should make voting compulsory so that the elected government represents the majority of the population.#Rep#Rep\n",
      "Governments should make voting compulsory so that the elected party and elected government can represent the majority of the population.#Rep#Rep\n",
      "Governments should make voting compulsory so that the entire population is properly represented.#Rep#Rep\n",
      "Governments should make voting compulsory so that the governing bodies reflect the will of the people and act as representatives of society's current needs and desires.#Rep#Rep\n",
      "Governments should make voting compulsory so that the government could see who is qualified as a president#Leaders#\n",
      "Governments should make voting compulsory so that the government is a more accurate reflection of the population's desires.#Rep#Rep\n",
      "Governments should make voting compulsory so that the government is truly reflective of the majority.#Rep#Rep\n",
      "Governments should make voting compulsory so that the government reflects the majority of the population.#Rep#Rep\n",
      "Governments should make voting compulsory so that the majority of the populous and their goals/beliefs/values are represented in our government.#Rep#Rep\n",
      "Governments should make voting compulsory so that the number of people that vote on elections goes up.#Vote#\n",
      "Governments should make voting compulsory so that the people can voice their opinion.#Rep#Rep\n",
      "Governments should make voting compulsory so that the people know the chosen candidate is the voice of the major population#Rep;Leaders#Rep\n",
      "Governments should make voting compulsory so that the person is elected was chosen by everyone.#Rep#Rep\n",
      "Governments should make voting compulsory so that the population is engaged in voting andthat these votes actually represent what they want#Rep;Vote#Rep\n",
      "Governments should make voting compulsory so that the true will of the people can be acted on.#Rep#\n",
      "Governments should make voting compulsory so that the voter turnout in that country would increase.#Vote#\n",
      "Governments should make voting compulsory so that their people are represented fairly by the people they want to lead the country.#Rep;Leaders#Rep\n",
      "Governments should make voting compulsory so that there is a large turnout.#Vote#\n",
      "Governments should make voting compulsory so that there is larger voter turnout and a more accurate representation of what the population wants.#Rep;Vote#Rep\n",
      "Governments should make voting compulsory so that they can get a good idea of the opinions of their people#Rep#Rep\n",
      "Governments should make voting compulsory so that they have good representation of what their citizens want for the laws.#Other#Rep\n",
      "Governments should make voting compulsory so that they know what all eligible votes think.#Rep#\n",
      "Governments should make voting compulsory so that true democracy exists in countries where voters are allowed to vote; if citizens don't vote their political desires can't be represented.#Rep#\n",
      "Governments should make voting compulsory so that voter participation is more encouraged.#Vote#\n",
      "Governments should make voting compulsory so that voting can be seen as a civic right and not a civic duty.#Other#\n",
      "Governments should make voting compulsory so that we can have a fair election.#Other#\n",
      "Governments should make voting compulsory so that we get a true idea of what the people of the country want with how their votes fall.#Rep#Rep\n",
      "Governments should make voting compulsory so that whoever is voted in is really the person that the people wanted not just the person that was voted in because most people did give their vote.#Rep#Rep\n",
      "Governments should make voting compulsory so that, if used responsibly, the results of elections would more accurately match how the voters in the country actually feel.#Rep#Rep\n",
      "Governments should make voting compulsory so the candidate elected is a good representation of the people.#Rep;Leaders#Rep\n",
      "Governments should make voting compulsory so the candidates will not just focus on one group of people but the country as a whole.#Other#Rep\n",
      "Governments should make voting compulsory so the elected candidate is more representative of the population they will be governing.#Rep;Leaders#Rep\n",
      "Governments should make voting compulsory so the elected government accurately represents the people.#Rep#Rep\n",
      "Governments should make voting compulsory so the elected government really is representing the true majority of the population, and not just those interested enough in politics to go vote.#Rep#Rep\n",
      "Governments should make voting compulsory so the elected officials are more representative of the population as a whole.#Rep;Leaders#Rep\n",
      "Governments should make voting compulsory so the election has more of the peoples input.#Rep#Rep\n",
      "Governments should make voting compulsory so the electoral voters would have more insight of the people wishes.#Other#Rep\n",
      "Governments should make voting compulsory so the job gets done.#Other#\n",
      "Governments should make voting compulsory so the majority of people will actually vote for who they want to represent them.#Rep;Vote#Rep\n",
      "Governments should make voting compulsory so the majority of the population selects the favored candidate.#Rep;Leaders#Rep\n",
      "Governments should make voting compulsory so the majority of the voting public is represented.#Rep#Rep\n",
      "Governments should make voting compulsory so the maximum number of citizens have their voices heard by their government.#Rep#Rep\n",
      "Governments should make voting compulsory so the people have the decision to decide.#Other#Rep\n",
      "Governments should make voting compulsory so the people in those countries come out to vote.#Vote#\n",
      "Governments should make voting compulsory so the people see it as a civic right not a civic duty.#Other#\n",
      "Governments should make voting compulsory so the person that is elected is truly a representative of all of the people.#Rep;Leaders#Rep\n",
      "Governments should make voting compulsory so the person who is elected is representative of the majority of the citizens of that country.#Rep;Leaders#Rep\n",
      "Governments should make voting compulsory so the politicians that are elected represent the majority of the people and what they are looking for in a leader.#Rep;Leaders#Rep\n",
      "Governments should make voting compulsory so the population will have a say in who wins.#Rep#Rep\n",
      "Governments should make voting compulsory so the right person can be elected all the time.#Leaders#Rep\n",
      "Governments should make voting compulsory so the will of everyone can be represented.#Rep#Rep\n",
      "Governments should make voting compulsory so the will of the country's population is directly involved in shaping the government and direction it needs.#Rep#Rep\n",
      "Governments should make voting compulsory so the will of the people is properly represented.#Rep#Rep\n",
      "Governments should make voting compulsory so there is a maximally representative census of the will of the people#Rep#Rep\n",
      "Governments should make voting compulsory so there is a more \"true\" election.#Other#\n",
      "Governments should make voting compulsory so there is a real chance for changes.#Other#\n",
      "Governments should make voting compulsory so there is less fighting after the polls.#Other#\n",
      "Governments should make voting compulsory so there should be easier ways to vote, online and absentee voting.#Other#\n",
      "Governments should make voting compulsory so they know how the country truly feels on certain issues.#Rep#\n",
      "Governments should make voting compulsory so to understand people's view.#Rep#\n",
      "Governments should make voting compulsory so voter apathy will no longer be a problem.#Apathy#\n",
      "Governments should make voting compulsory so voter participation is encouraged.#Vote#\n",
      "Governments should make voting compulsory so voter participation will increase and the majority of the population will be represented in the outcome of a political election.#Rep;Leaders#Rep\n",
      "Governments should make voting compulsory so voter turnout is not low.#Vote#\n",
      "Governments should make voting compulsory so voter turnout remains high and the majority of the population is always represented.#Rep;Vote#Rep\n",
      "Governments should make voting compulsory so voters can feel like their voice matters.#Feel#Rep\n",
      "Governments should make voting compulsory so voting ensures that the elected government represents the majority of the population.#Rep#Rep\n",
      "Governments should make voting compulsory so voting say that it is a violation of personal liberties and choices.#Other#\n",
      "Governments should make voting compulsory so we are quick to make a decision.#Other#\n",
      "Governments should make voting compulsory so we can feel confident that the elected official is representative of the majority of the population, not just the majority of the people who opted to vote.#Rep;Leaders#Rep\n",
      "Governments should make voting compulsory so why don't they do it already?#Other#\n",
      "you can not have a representative government if everyone is not represented.#Otherwise Not Representative#\n",
      "not truly represent the people\"#Otherwise Not Representative#\n",
      "representative\"#Otherwise Not Representative#\n",
      "to represent it\"#Otherwise Not Representative#\n",
      "because of low voter turnout.#Otherwise Voter Turnout will Decrease/Will be Low#\n",
      "countries that do not have mandatory voting see low voter turnout.#Otherwise Voter Turnout will Decrease/Will be Low#\n",
      "if it does not a smaller percentage of the population will vote than when it is compulsory.#Otherwise Voter Turnout will Decrease/Will be Low#\n",
      "if they don't there is very low voter turn out#Otherwise Voter Turnout will Decrease/Will be Low#\n",
      "it changes the community.#Otherwise Voter Turnout will Decrease/Will be Low#\n",
      "it helps drive the democratic idea.#Otherwise Voter Turnout will Decrease/Will be Low#\n",
      "not enough people vote on their own.#Otherwise Voter Turnout will Decrease/Will be Low#\n",
      "of low voter turnouts#Otherwise Voter Turnout will Decrease/Will be Low#\n",
      "of the lack of voter turnout#Otherwise Voter Turnout will Decrease/Will be Low#\n",
      "so many people do not vote where elections are not required.#Otherwise Voter Turnout will Decrease/Will be Low#\n",
      "there is such low voter turnout when it is optional.#Otherwise Voter Turnout will Decrease/Will be Low#\n",
      "voter turnout can be low otherwise.#Otherwise Voter Turnout will Decrease/Will be Low#\n",
      "voter turnout is lower when it is not compulsory.#Otherwise Voter Turnout will Decrease/Will be Low#\n",
      "voter turnout is much lower in places without it.#Otherwise Voter Turnout will Decrease/Will be Low#\n",
      "voter turnout is usually less than ideal for the candidates.#Otherwise Voter Turnout will Decrease/Will be Low#\n",
      "without it people choose simply to not vote.#Otherwise Voter Turnout will Decrease/Will be Low#Personal Opinion to Fact\n",
      "the numbers definitely indicate that the mass majority of eligible voters are not voting in these highly important elections and we end up with these politicians that do not speak for every citizen of#Otherwise Voter Turnout will Decrease/Will be Low;Not Representative#\n",
      "of the people when the majority does not vote\"#Otherwise Voter Turnout will Decrease/Will be Low;Not Representative#\n",
      "all citizens must vote to have representative governments in democracies.#Ensures a Representative Democracy;How--Mechanism#\n",
      "it is a way for a person to exercise their right to vote and have a more representative government.#Ensures a Representative Democracy;How--Mechanism#Increases Voter Turnout;Increases Representation\n",
      "Venezuela suffered a 30% drop in voter turnout when it eliminated compulsory voting laws.\"#Otherwise Voter Turnout Will Decrease/Will be Low;Example--Venezuela or US#\n",
      "voter turnout is low in countries that don't require voting. In 2012 only 56% of eligible voters showed up to the polls in the United States.#Otherwise Voter Turnout Will Decrease/Will be Low;Example--Venezuela or US#\n",
      "only a portion eligible voters-- like 56% in the US in 2012-- show up to the polls without it.#Otherwise Voter Turnout Will Decrease/Will be Low;Example--Venezuela or US#\n",
      "it compels those who may be apathetic towards the election.#Apathy#\n",
      "there are many apathetic citizens that think voting is a waste of time.#Apathy#\n",
      "too many people are apathetic and/or don't want to take the time and energy to get to the polls.#Apathy;May Cause Low Voter Turnout#\n",
      "voluntary participation in voting yields a low turnout due to citizen apathy.#Apathy;May Cause Low Voter Turnout#\n",
      "if people aren't enthusiastic about elections they won't vote#Apathy;May Cause Low Voter Turnout#\n",
      "it makes sure that citizens--even apathetic ones-- show up to the polls during elections#Apathy;May Cause Low Voter Turnout#\n",
      "less representative of the people\"#Apathy;May Cause Low Voter Turnout;Government is not Representative#\n",
      "democracies need all of their citizens to vote.#Democracy;Increase Voter Turnout#\n",
      "it will enhance the democratic process.#Ensures a Representative Democracy#\n",
      "it would be a more representative democracy.#Ensures a Representative Democracy#\n",
      "it's the only way people can have a truly representative government.#Ensures a Representative Democracy#Increases Voter Turnout;Increases Representation\n",
      "true democracy depends on the opinions of the people.#Ensures a Representative Democracy#\n",
      ", when it is not, many people do not vote and--therefore--the government is not truly representative of the people.#Increases Voter Turnout;Increases Representation#\n",
      "all persons should be represented#Increases Voter Turnout;Increases Representation#Increases Voter Turnout;Increases Representation\n",
      "compulsory voting allows for a more complete sample size of the general population and ensures that everyone gets a chance to be represented in government.#Increases Voter Turnout;Increases Representation#Increases Voter Turnout;Increases Representation\n",
      "everybody should help influencing the election.#Increases Voter Turnout;Increases Representation#\n",
      "it allows peoples voice to be heard.#Increases Voter Turnout;Increases Representation#Increases Voter Turnout;Increases Representation\n",
      "it could possibly ensure that the elected government represents the majority of the population.#Increases Voter Turnout;Increases Representation#Increases Voter Turnout;Increases Representation\n",
      "it encourages civic involvement and helps ensure citizens have a say in electing their government representatives.#Increases Voter Turnout;Increases Representation#Increases Voter Turnout;Increases Representation\n",
      "it encourages voter participation and ensures that the elected government represents the majority of the population.#Increases Voter Turnout;Increases Representation#Increases Voter Turnout;Increases Representation\n",
      "it ensure that all citizens' voices are heard.#Increases Voter Turnout;Increases Representation#Increases Voter Turnout;Increases Representation\n",
      "it ensures government accurately represents the people.#Increases Voter Turnout;Increases Representation#Increases Voter Turnout;Increases Representation\n",
      "it ensures that all citizens choose a candidate of their choice.#Increases Voter Turnout;Increases Representation#Increases Voter Turnout;Increases Representation\n",
      "it ensures that elected officials represent the majority of the people.#Increases Voter Turnout;Increases Representation#Increases Voter Turnout;Increases Representation\n",
      "it ensures that the elected official was the choice of the majority of the public.#Increases Voter Turnout;Increases Representation#Increases Voter Turnout;Increases Representation\n",
      "it ensures that the elected officials represent the majority of the population#Increases Voter Turnout;Increases Representation#Increases Voter Turnout;Increases Representation\n",
      "it ensures that the government is elected by a true majority of a population.#Increases Voter Turnout;Increases Representation#Increases Voter Turnout;Increases Representation\n",
      "it ensures that the majority of the people are electing an official#Increases Voter Turnout;Increases Representation#Increases Voter Turnout;Increases Representation\n",
      "it ensures that the official elected accurately represents the majority of the population.#Increases Voter Turnout;Increases Representation#Increases Voter Turnout;Increases Representation\n",
      "it ensures that the population is represented.#Increases Voter Turnout;Increases Representation#Increases Voter Turnout;Increases Representation\n",
      "it ensures that the right candidate is voted in by the people, and not by just a small body of a percentage.#Increases Voter Turnout;Increases Representation#Increases Voter Turnout;Increases Representation\n",
      "it ensures the elected government represents a majority of the population.#Increases Voter Turnout;Increases Representation#Increases Voter Turnout;Increases Representation\n",
      "it ensures the government elected, is the one the majority wants.#Increases Voter Turnout;Increases Representation#Increases Voter Turnout;Increases Representation\n",
      "it ensures the government is representative of the majority#Increases Voter Turnout;Increases Representation#Increases Voter Turnout;Increases Representation\n",
      "it forces citizen's to be involved in the political landscape of a country.#Increases Voter Turnout;Increases Representation#Increases Voter Turnout;Increases Representation\n",
      "it gives a more accurate representation of the populous attitude.#Increases Voter Turnout;Increases Representation#Increases Voter Turnout;Increases Representation\n",
      "it helps represent the population.#Increases Voter Turnout;Increases Representation#Increases Voter Turnout;Increases Representation\n",
      "it is important for all people's voice to be heard.#Increases Voter Turnout;Increases Representation#Increases Voter Turnout;Increases Representation\n",
      "it is the only way to know the will of the entire voting eligible population.#Increases Voter Turnout;Increases Representation#Increases Voter Turnout;Increases Representation\n",
      "it may provide a more reliable measure of what people really want.#Increases Voter Turnout;Increases Representation#Increases Voter Turnout;Increases Representation\n",
      "it will encourage voter participation and make sure that the government is truly representative of the people.#Increases Voter Turnout;Increases Representation#Increases Voter Turnout;Increases Representation\n",
      "it will ensure all voices are heard and the government better represents the people.#Increases Voter Turnout;Increases Representation#Increases Voter Turnout;Increases Representation\n",
      "it will ensure that everyone's voice is heard from in the elections.#Increases Voter Turnout;Increases Representation#Increases Voter Turnout;Increases Representation\n",
      "it will ensure that the elected government will represent the majority of the population.#Increases Voter Turnout;Increases Representation#Increases Voter Turnout;Increases Representation\n",
      "It will ensure the elected government official represents the people#Increases Voter Turnout;Increases Representation#Increases Voter Turnout;Increases Representation\n",
      "it would create more accurate representation of what the people as a whole want.#Increases Voter Turnout;Increases Representation#Increases Voter Turnout;Increases Representation\n",
      "it would give the Government a direction of how the majority of the people feelings and opinions.#Increases Voter Turnout;Increases Representation#Increases Voter Turnout;Increases Representation\n",
      "it would help to know who the people really wanted to be elected.#Increases Voter Turnout;Increases Representation#Increases Voter Turnout;Increases Representation\n",
      "it would lead to a higher voter turn-out which, in turn, would lead to a government made up of officials that are actually voted in by the popular vote.#Increases Voter Turnout;Increases Representation#Increases Voter Turnout;Increases Representation\n",
      "more people should have input on how their government is run.#Increases Voter Turnout;Increases Representation#Increases Voter Turnout;Increases Representation\n",
      "people need to be more involved in issues that can affect their lives.#Increases Voter Turnout;Increases Representation#\n",
      "Some say that compulsory voting ensures that the elected government represents the majority of the populatio#Increases Voter Turnout;Increases Representation#Increases Voter Turnout;Increases Representation\n",
      "the elected government represents the majority.#Increases Voter Turnout;Increases Representation#Increases Voter Turnout;Increases Representation\n",
      "the elected official will represent the majority of the population.#Increases Voter Turnout;Increases Representation#Increases Voter Turnout;Increases Representation\n",
      "then the elections results would truly reflect the opinions of the major populations#Increases Voter Turnout;Increases Representation#Increases Voter Turnout;Increases Representation\n",
      "this would represent the majority opinion of a country better.#Increases Voter Turnout;Increases Representation#Increases Voter Turnout;Increases Representation\n",
      "those who are elected can represent the majority of the people that voted for them and it is a good way to get everyone to vote.#Increases Voter Turnout;Increases Representation#Increases Voter Turnout;Increases Representation\n",
      "everyone in the country would be voting.#Increases Voter Turnout#\n",
      "it drastically increases the percentage of the population that votes.#Increases Voter Turnout#Increases Voter Turnout;Increases Representation\n",
      "it eliminates the argument that people who do not vote are not being represented.#Increases Voter Turnout#\n",
      "it encourages voter participation.#Increases Voter Turnout#\n",
      "it encourages voters participation#Increases Voter Turnout#\n",
      "it encourages voting.#Increases Voter Turnout#\n",
      "it ensures that citizens cast a vote.#Increases Voter Turnout#Increases Voter Turnout;Increases Representation\n",
      "it gives better voter turnout.#Increases Voter Turnout#\n",
      "it guarantees a large voter turnout.#Increases Voter Turnout#\n",
      "it increases voter turn out#Increases Voter Turnout#\n",
      "it make voting turnout higher.#Increases Voter Turnout#\n",
      "it makes people have to pay attention and vote.#Increases Voter Turnout#\n",
      "it will ensure all able citizens vote.#Increases Voter Turnout#Increases Voter Turnout;Increases Representation\n",
      "it will help counter the problem of low voter turnout.#Increases Voter Turnout#\n",
      "it will require more people to vote.#Increases Voter Turnout#\n",
      "it would allow better competition by votes by having much more voters voting.#Increases Voter Turnout#\n",
      "it would better for voter turnout and it would be more fair.#Increases Voter Turnout#Increases Voter Turnout;Increases Representation\n",
      "it would ensure larger voter outcomes in elections.#Increases Voter Turnout#Increases Voter Turnout;Increases Representation\n",
      "it would increase the number of people who actually vote.#Increases Voter Turnout#Increases Voter Turnout;Increases Representation\n",
      "it would increase voter turn over.#Increases Voter Turnout#\n",
      "it would solve the problem of low voter turn out#Increases Voter Turnout#\n",
      "its a great way to encourage voter participation.#Increases Voter Turnout#\n",
      "many more people would vote.#Increases Voter Turnout#\n",
      "more people vote.#Increases Voter Turnout#\n",
      "more people will vote.#Increases Voter Turnout#\n",
      "more people would vote in elections.#Increases Voter Turnout#\n",
      "then all citizens are a part of the political process.#Increases Voter Turnout#Increases Voter Turnout;Increases Representation\n",
      "they would get a better voter turnout that way.#Increases Voter Turnout#\n",
      "this will ensure that citizens vote.#Increases Voter Turnout#\n",
      "this would create more votes#Increases Voter Turnout#\n",
      "voting numbers will be increased.#Increases Voter Turnout#\n",
      "that voting should be seen as a civic right and not a civic duty.#Answered wrong stem#Personal Opinion to Fact\n",
      "voting is the right of every citizen of the country and the people have to take the participation on the right people who has to run the government#Answered wrong stem#\n",
      "everyone will be allowed to voice their opinion on the best candidate.#Cause/Effect Misattribution#Increases Voter Turnout;Increases Representation\n",
      "it makes sure that the elections are really being voted on by the people.#Cause/Effect Misattribution#Increases Voter Turnout;Increases Representation\n",
      "it will ensure candidates will be elected according to the majority of all votes.#Cause/Effect Misattribution#Increases Voter Turnout;Increases Representation\n",
      "it would ensure that the candidate chosen by the majority rules.#Cause/Effect Misattribution#Increases Voter Turnout;Increases Representation\n",
      "only half of the country realizes the importance of elections.#Evidence needs more context#\n",
      "there is a serious lack of interest in politics recently, especially among U.S. voters.#Evidence needs more context#\n",
      "more people voted for a tv show than a presidential election#Evidence needs more context#\n",
      "more people vote in television shows then elections#Explain your evidence#\n",
      "elections can and have been decided by a minority of people and this doesn't reflect the real wishes of society.#Outside of article's scope#Increases Voter Turnout;Increases Representation\n",
      "governmental policies and regulations heavily impact the lives of citizens.#Outside of article's scope#\n",
      "it helps to increase the enthusiasm for political elections from its citizens.#Outside of article's scope#\n",
      "it would enable the entire population to chose a candidate that might otherwise be appointed or placed.#Outside of article's scope#Increases Voter Turnout;Increases Representation\n",
      "it would help people#Outside of article's scope#Increases Voter Turnout;Increases Representation\n",
      "low voter turnout can negatively effect election results.#Outside of article's scope#\n",
      "policies enacted by the government have far reaching effects that shape our country in ways both evident and not easily seen.#Outside of article's scope#\n",
      "they want to know you voted and who for.#Outside of article's scope#Increases Voter Turnout;Increases Representation\n",
      "we all live in this country and should all chip in to try to make it a better and brighter future.#Outside of article's scope#\n",
      "it a person's civic duty to vote during an election.#Personal Opinion to Fact#\n",
      "it is a civic duty#Personal Opinion to Fact#Personal Opinion to Fact\n",
      "it is a civic duty.#Personal Opinion to Fact#Personal Opinion to Fact\n",
      "It is a civic duty.#Personal Opinion to Fact#Personal Opinion to Fact\n",
      "it is necessary for our duty#Personal Opinion to Fact#\n",
      "it's a civic duty#Personal Opinion to Fact#Personal Opinion to Fact\n",
      "it's civic duty of every citizen to take part in this political process.#Personal Opinion to Fact#Increases Voter Turnout;Increases Representation\n",
      "its civic duty NOT civic right, with allowing valid exceptions.#Personal Opinion to Fact#Personal Opinion to Fact\n",
      "very impartent.#Personal Opinion to Fact#\n",
      "voting is a civic duty of every citizen.#Personal Opinion to Fact#\n",
      "voting ought to be seen as a civic duty not to be shirked#Personal Opinion to Fact#Personal Opinion to Fact\n",
      "it ensures that a choice is made.#Unclear/inaccurate subject#\n",
      "are the rights of the people.#Unintelligible response#Personal Opinion to Fact\n",
      "claim#Unintelligible response#Personal Opinion to Fact\n",
      "es.yes.#Unintelligible response#Personal Opinion to Fact\n",
      "f#Unintelligible response#Personal Opinion to Fact\n",
      "Future#Unintelligible response#\n",
      "i am not inrested#Unintelligible response#Personal Opinion to Fact\n",
      "Mandatory democratic is an impact of laws which require qualified natives to enlist and cast a ballot in races and may force punishments on the individuals who neglect to do as such.#Unintelligible response#\n",
      "of citizens vote#Unintelligible response#\n",
      "to choose the correct ballot#Unintelligible response#Personal Opinion to Fact\n",
      "Governments Can Abuse It/Dictatorships 0 0.0 0 52\n",
      "Personal Opinion to Fact 0.8656 0.8768233387358185 0.8711755233494364 617\n",
      "Negative Effects on Voter 0 0.0 0 20\n",
      "Not All Governments Enforce It 0 0.0 0 10\n",
      "North Korea/Dictatorships 0 0.0 0 10\n",
      "Consequences/Bolivia 0 0.0 0 10\n",
      "Violation of Personal Liberty 0 0.0 0 14\n",
      "Reference 0 0.0 0 14\n",
      "Answered Wrong Stem 0 0.0 0 15\n",
      "Clarify/Identify/Specify 0 0.0 0 10\n",
      "Evidences Needs More Context 0 0.0 0 10\n",
      "Misuse of Conjunction 0 0.0 0 16\n",
      "Outside of Article's Scope 0 0.0 0 74\n",
      "Increases Voter Turnout 0.8556701030927835 0.5831381733021077 0.693593314763231 427\n",
      "Increases Representation 0.7010309278350515 0.8535564853556485 0.769811320754717 239\n",
      "Plagiarism 0 0.0 0 13\n",
      "Unintelligible Response 0 0.0 0 25\n",
      "Rep 0.8672566371681416 0.7924528301886793 0.828169014084507 371\n",
      "Vote 0 0.0 0 218\n",
      "Leaders 0 0.0 0 109\n",
      "Other 0 0.0 0 197\n",
      "Duty 0 0.0 0 25\n",
      "Feel 0 0.0 0 10\n",
      "Apathy 0 0.0 0 40\n",
      "Otherwise Not Representative 0 0.0 0 10\n",
      "Otherwise Voter Turnout will Decrease/Will be Low 0 0.0 0 93\n",
      "Not Representative 0 0.0 0 10\n",
      "Ensures a Representative Democracy 0 0.0 0 35\n",
      "How--Mechanism 0 0.0 0 19\n",
      "May Cause Low Voter Turnout 0 0.0 0 20\n",
      "Government is not Representative 0 0.0 0 10\n",
      "Democracy 0 0.0 0 10\n",
      "Increase Voter Turnout 0 0.0 0 10\n",
      "Answered wrong stem 0 0.0 0 22\n",
      "Cause/Effect Misattribution 0 0.0 0 14\n",
      "Evidence needs more context 0 0.0 0 10\n",
      "Explain your evidence 0 0.0 0 10\n",
      "Outside of article's scope 0 0.0 0 35\n",
      "Unclear/inaccurate subject 0 0.0 0 8\n",
      "Unintelligible response 0 0.0 0 25\n",
      "Otherwise Voter Turnout Will Decrease/Will be Low 0 0.0 0 10\n",
      "Example--Venezuela or US 0 0.0 0 10\n"
     ]
    }
   ],
   "source": [
    "scores = {}\n",
    "for item, predicted, correct in zip(all_test_data, all_predicted, all_correct):\n",
    "    correct_labels = [idx2label[i] for i, l in enumerate(correct) if l == 1]\n",
    "    predicted_labels = [idx2label[i] for i, l in enumerate(predicted) if l == 1]\n",
    "    print(\"{}#{}#{}\".format(item.text, \";\".join(correct_labels), \";\".join(predicted_labels)))    \n",
    "        \n",
    "    for label in predicted_labels + correct_labels:\n",
    "        if label not in scores:\n",
    "            scores[label] = {\"tp\": 0, \"fp\": 0, \"fn\": 0, \"support\": 0}\n",
    "    \n",
    "    for label in predicted_labels:\n",
    "        if label in correct_labels:\n",
    "            scores[label][\"tp\"] += 1\n",
    "        else:\n",
    "            scores[label][\"fp\"] += 1\n",
    "\n",
    "    for label in correct_labels:\n",
    "        scores[label][\"support\"] += 1\n",
    "        if label not in predicted_labels:\n",
    "            scores[label][\"fn\"] += 1\n",
    "            \n",
    "for label in scores:\n",
    "    lp = scores[label][\"tp\"] / (scores[label][\"tp\"] + scores[label][\"fp\"]) if scores[label][\"tp\"] + scores[label][\"fp\"] > 0 else 0\n",
    "    lr = scores[label][\"tp\"] / (scores[label][\"tp\"] + scores[label][\"fn\"]) if scores[label][\"tp\"] + scores[label][\"fn\"] > 0 else 0\n",
    "    lf = 2*lp*lr/(lp+lr) if lp+lr > 0 else 0\n",
    "    \n",
    "    print(label, lp, lr, lf, scores[label][\"support\"])"
   ]
  },
  {
   "cell_type": "code",
   "execution_count": 7,
   "metadata": {},
   "outputs": [
    {
     "name": "stdout",
     "output_type": "stream",
     "text": [
      "1154 / 2413\n"
     ]
    }
   ],
   "source": [
    "print(len([p for p in all_predicted if sum(p) == 0]), \"/\", len(all_predicted))"
   ]
  },
  {
   "cell_type": "code",
   "execution_count": null,
   "metadata": {},
   "outputs": [],
   "source": []
  }
 ],
 "metadata": {
  "kernelspec": {
   "display_name": "Python 3",
   "language": "python",
   "name": "python3"
  },
  "language_info": {
   "codemirror_mode": {
    "name": "ipython",
    "version": 3
   },
   "file_extension": ".py",
   "mimetype": "text/x-python",
   "name": "python",
   "nbconvert_exporter": "python",
   "pygments_lexer": "ipython3",
   "version": "3.7.3"
  }
 },
 "nbformat": 4,
 "nbformat_minor": 2
}
