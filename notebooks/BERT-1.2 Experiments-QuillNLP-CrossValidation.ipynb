{
 "cells": [
  {
   "cell_type": "markdown",
   "metadata": {},
   "source": [
    "# First BERT Experiments\n",
    "\n",
    "In this notebook we do some first experiments with BERT: we finetune a BERT model+classifier on each of our datasets separately and compute the accuracy of the resulting classifier on the test data."
   ]
  },
  {
   "cell_type": "markdown",
   "metadata": {},
   "source": [
    "For these experiments we use the `pytorch_transformers` package. It contains a variety of neural network architectures for transfer learning and pretrained models, including BERT and XLNET.\n",
    "\n",
    "Two different BERT models are relevant for our experiments: \n",
    "\n",
    "- BERT-base-uncased: a relatively small BERT model that should already give reasonable results,\n",
    "- BERT-large-uncased: a larger model for real state-of-the-art results."
   ]
  },
  {
   "cell_type": "code",
   "execution_count": 1,
   "metadata": {},
   "outputs": [],
   "source": [
    "BERT_MODEL = 'bert-base-uncased'\n",
    "BATCH_SIZE = 16 if \"base\" in BERT_MODEL else 2\n",
    "GRADIENT_ACCUMULATION_STEPS = 1 if \"base\" in BERT_MODEL else 8\n",
    "MAX_SEQ_LENGTH = 100\n",
    "PREFIX = \"eatingmeat4_because\""
   ]
  },
  {
   "cell_type": "markdown",
   "metadata": {},
   "source": [
    "## Data\n",
    "\n",
    "We use the same data as for all our previous experiments. Here we load the training, development and test data for a particular prompt."
   ]
  },
  {
   "cell_type": "code",
   "execution_count": 2,
   "metadata": {},
   "outputs": [
    {
     "name": "stderr",
     "output_type": "stream",
     "text": [
      "I0404 09:56:08.656721 140621602613056 file_utils.py:41] PyTorch version 1.2.0+cu92 available.\n",
      "I0404 09:56:09.640355 140621602613056 file_utils.py:57] TensorFlow version 2.1.0 available.\n",
      "I0404 09:56:10.284965 140621602613056 tokenization_utils.py:501] loading file https://s3.amazonaws.com/models.huggingface.co/bert/bert-base-uncased-vocab.txt from cache at /home/yves/.cache/torch/transformers/26bc1ad6c0ac742e9b52263248f6d0f00068293b33709fae12320c0e35ccfbbb.542ce4285a40d23a559526243235df47c5f75c197f04f37d1a0c124c32c9a084\n"
     ]
    }
   ],
   "source": [
    "import sys\n",
    "sys.path.append('../')\n",
    "\n",
    "import ndjson\n",
    "import glob\n",
    "import numpy as np\n",
    "\n",
    "from quillnlp.models.bert.preprocessing import preprocess, create_label_vocabulary\n",
    "\n",
    "data_file = f\"../data/interim/{PREFIX}_withprompt.ndjson\"\n",
    "\n",
    "with open(data_file) as i:\n",
    "    data = ndjson.load(i)\n",
    "        \n",
    "# Make sure this is a single-label problem\n",
    "label_lengths = [len(item[\"labels\"]) for item in data]\n",
    "assert max(label_lengths) == 1\n",
    "\n",
    "for item in data:\n",
    "    item[\"label\"] = item[\"labels\"][0]\n",
    "        \n",
    "label2idx = create_label_vocabulary(data)\n",
    "idx2label = {v:k for k,v in label2idx.items()}\n",
    "target_names = [idx2label[s] for s in range(len(idx2label))]\n",
    "\n",
    "data_items = preprocess(data, BERT_MODEL, label2idx, MAX_SEQ_LENGTH)\n",
    "data_items = np.array(data_items)"
   ]
  },
  {
   "cell_type": "markdown",
   "metadata": {},
   "source": [
    "## Training"
   ]
  },
  {
   "cell_type": "code",
   "execution_count": 3,
   "metadata": {},
   "outputs": [
    {
     "name": "stderr",
     "output_type": "stream",
     "text": [
      "I0404 09:56:11.153807 140621602613056 configuration_utils.py:256] loading configuration file https://s3.amazonaws.com/models.huggingface.co/bert/bert-base-uncased-config.json from cache at /home/yves/.cache/torch/transformers/4dad0251492946e18ac39290fcfe91b89d370fee250efe9521476438fe8ca185.8f56353af4a709bf5ff0fbc915d8f5b42bfff892cbb6ac98c3c45f481a03c685\n",
      "I0404 09:56:11.154999 140621602613056 configuration_utils.py:292] Model config BertConfig {\n",
      "  \"architectures\": [\n",
      "    \"BertForMaskedLM\"\n",
      "  ],\n",
      "  \"attention_probs_dropout_prob\": 0.1,\n",
      "  \"bos_token_id\": null,\n",
      "  \"do_sample\": false,\n",
      "  \"eos_token_ids\": null,\n",
      "  \"finetuning_task\": null,\n",
      "  \"hidden_act\": \"gelu\",\n",
      "  \"hidden_dropout_prob\": 0.1,\n",
      "  \"hidden_size\": 768,\n",
      "  \"id2label\": {\n",
      "    \"0\": \"LABEL_0\",\n",
      "    \"1\": \"LABEL_1\"\n",
      "  },\n",
      "  \"initializer_range\": 0.02,\n",
      "  \"intermediate_size\": 3072,\n",
      "  \"is_decoder\": false,\n",
      "  \"label2id\": {\n",
      "    \"LABEL_0\": 0,\n",
      "    \"LABEL_1\": 1\n",
      "  },\n",
      "  \"layer_norm_eps\": 1e-12,\n",
      "  \"length_penalty\": 1.0,\n",
      "  \"max_length\": 20,\n",
      "  \"max_position_embeddings\": 512,\n",
      "  \"model_type\": \"bert\",\n",
      "  \"num_attention_heads\": 12,\n",
      "  \"num_beams\": 1,\n",
      "  \"num_hidden_layers\": 12,\n",
      "  \"num_labels\": 10,\n",
      "  \"num_return_sequences\": 1,\n",
      "  \"output_attentions\": false,\n",
      "  \"output_hidden_states\": false,\n",
      "  \"output_past\": true,\n",
      "  \"pad_token_id\": null,\n",
      "  \"pruned_heads\": {},\n",
      "  \"repetition_penalty\": 1.0,\n",
      "  \"temperature\": 1.0,\n",
      "  \"top_k\": 50,\n",
      "  \"top_p\": 1.0,\n",
      "  \"torchscript\": false,\n",
      "  \"type_vocab_size\": 2,\n",
      "  \"use_bfloat16\": false,\n",
      "  \"vocab_size\": 30522\n",
      "}\n",
      "\n",
      "I0404 09:56:11.617075 140621602613056 modeling_utils.py:461] loading weights file https://s3.amazonaws.com/models.huggingface.co/bert/bert-base-uncased-pytorch_model.bin from cache at /home/yves/.cache/torch/transformers/aa1ef1aede4482d0dbcd4d52baad8ae300e60902e88fcb0bebdec09afd232066.36ca03ab34a1a5d5fa7bc3d03d55c4fa650fed07220e2eeebc06ce58d0e9a157\n",
      "I0404 09:56:13.377862 140621602613056 modeling_utils.py:546] Weights of BertForSequenceClassification not initialized from pretrained model: ['classifier.weight', 'classifier.bias']\n",
      "I0404 09:56:13.378835 140621602613056 modeling_utils.py:552] Weights from pretrained model not used in BertForSequenceClassification: ['cls.predictions.bias', 'cls.predictions.transform.dense.weight', 'cls.predictions.transform.dense.bias', 'cls.predictions.decoder.weight', 'cls.seq_relationship.weight', 'cls.seq_relationship.bias', 'cls.predictions.transform.LayerNorm.weight', 'cls.predictions.transform.LayerNorm.bias']\n",
      "Epoch:   0%|          | 0/20 [00:00<?, ?it/s]"
     ]
    },
    {
     "data": {
      "application/vnd.jupyter.widget-view+json": {
       "model_id": "ce7eb743ca48427aab61dc0a9f05057d",
       "version_major": 2,
       "version_minor": 0
      },
      "text/plain": [
       "HBox(children=(IntProgress(value=0, description='Training iteration', max=27, style=ProgressStyle(description_…"
      ]
     },
     "metadata": {},
     "output_type": "display_data"
    },
    {
     "name": "stdout",
     "output_type": "stream",
     "text": [
      "\n"
     ]
    },
    {
     "data": {
      "application/vnd.jupyter.widget-view+json": {
       "model_id": "0cdd342d229e467898c6febe8ef555bc",
       "version_major": 2,
       "version_minor": 0
      },
      "text/plain": [
       "HBox(children=(IntProgress(value=0, description='Evaluation iteration', max=9, style=ProgressStyle(description…"
      ]
     },
     "metadata": {},
     "output_type": "display_data"
    },
    {
     "name": "stderr",
     "output_type": "stream",
     "text": [
      "../quillnlp/models/bert/train.py:146: UserWarning: Implicit dimension choice for softmax has been deprecated. Change the call to include dim=X as an argument.\n",
      "  outputs = softmax(logits.to('cpu'))\n"
     ]
    },
    {
     "name": "stdout",
     "output_type": "stream",
     "text": [
      "\n",
      "Loss history: []\n",
      "Dev loss: 1.6724319458007812\n"
     ]
    },
    {
     "name": "stderr",
     "output_type": "stream",
     "text": [
      "\r",
      "Epoch:   5%|▌         | 1/20 [00:06<02:06,  6.65s/it]"
     ]
    },
    {
     "data": {
      "application/vnd.jupyter.widget-view+json": {
       "model_id": "6e9ea2a046fc4f17857ab77337534640",
       "version_major": 2,
       "version_minor": 0
      },
      "text/plain": [
       "HBox(children=(IntProgress(value=0, description='Training iteration', max=27, style=ProgressStyle(description_…"
      ]
     },
     "metadata": {},
     "output_type": "display_data"
    },
    {
     "name": "stdout",
     "output_type": "stream",
     "text": [
      "\n"
     ]
    },
    {
     "data": {
      "application/vnd.jupyter.widget-view+json": {
       "model_id": "76803bb657574ab78def5a7e5f4035e2",
       "version_major": 2,
       "version_minor": 0
      },
      "text/plain": [
       "HBox(children=(IntProgress(value=0, description='Evaluation iteration', max=9, style=ProgressStyle(description…"
      ]
     },
     "metadata": {},
     "output_type": "display_data"
    },
    {
     "name": "stdout",
     "output_type": "stream",
     "text": [
      "\n",
      "Loss history: [1.6724319458007812]\n",
      "Dev loss: 1.2261486517058477\n"
     ]
    },
    {
     "name": "stderr",
     "output_type": "stream",
     "text": [
      "\r",
      "Epoch:  10%|█         | 2/20 [00:13<01:59,  6.64s/it]"
     ]
    },
    {
     "data": {
      "application/vnd.jupyter.widget-view+json": {
       "model_id": "f9a38dd4564c4e9a83162e8d3c137ccf",
       "version_major": 2,
       "version_minor": 0
      },
      "text/plain": [
       "HBox(children=(IntProgress(value=0, description='Training iteration', max=27, style=ProgressStyle(description_…"
      ]
     },
     "metadata": {},
     "output_type": "display_data"
    },
    {
     "name": "stdout",
     "output_type": "stream",
     "text": [
      "\n"
     ]
    },
    {
     "data": {
      "application/vnd.jupyter.widget-view+json": {
       "model_id": "126747e5f8a845dcbe12f15d52489753",
       "version_major": 2,
       "version_minor": 0
      },
      "text/plain": [
       "HBox(children=(IntProgress(value=0, description='Evaluation iteration', max=9, style=ProgressStyle(description…"
      ]
     },
     "metadata": {},
     "output_type": "display_data"
    },
    {
     "name": "stdout",
     "output_type": "stream",
     "text": [
      "\n",
      "Loss history: [1.6724319458007812, 1.2261486517058477]\n",
      "Dev loss: 1.0467679036988153\n"
     ]
    },
    {
     "name": "stderr",
     "output_type": "stream",
     "text": [
      "\r",
      "Epoch:  15%|█▌        | 3/20 [00:19<01:52,  6.64s/it]"
     ]
    },
    {
     "data": {
      "application/vnd.jupyter.widget-view+json": {
       "model_id": "e7ce7d8cc2f84d73a13c4fbdc8955d45",
       "version_major": 2,
       "version_minor": 0
      },
      "text/plain": [
       "HBox(children=(IntProgress(value=0, description='Training iteration', max=27, style=ProgressStyle(description_…"
      ]
     },
     "metadata": {},
     "output_type": "display_data"
    },
    {
     "name": "stdout",
     "output_type": "stream",
     "text": [
      "\n"
     ]
    },
    {
     "data": {
      "application/vnd.jupyter.widget-view+json": {
       "model_id": "bb96a1800fc74dc5abe0b407b501d7e9",
       "version_major": 2,
       "version_minor": 0
      },
      "text/plain": [
       "HBox(children=(IntProgress(value=0, description='Evaluation iteration', max=9, style=ProgressStyle(description…"
      ]
     },
     "metadata": {},
     "output_type": "display_data"
    },
    {
     "name": "stdout",
     "output_type": "stream",
     "text": [
      "\n",
      "Loss history: [1.6724319458007812, 1.2261486517058477, 1.0467679036988153]\n",
      "Dev loss: 0.9637160334322188\n"
     ]
    },
    {
     "name": "stderr",
     "output_type": "stream",
     "text": [
      "\r",
      "Epoch:  20%|██        | 4/20 [00:26<01:46,  6.64s/it]"
     ]
    },
    {
     "data": {
      "application/vnd.jupyter.widget-view+json": {
       "model_id": "d57f154804fa4a9ead8a48220117260b",
       "version_major": 2,
       "version_minor": 0
      },
      "text/plain": [
       "HBox(children=(IntProgress(value=0, description='Training iteration', max=27, style=ProgressStyle(description_…"
      ]
     },
     "metadata": {},
     "output_type": "display_data"
    },
    {
     "name": "stdout",
     "output_type": "stream",
     "text": [
      "\n"
     ]
    },
    {
     "data": {
      "application/vnd.jupyter.widget-view+json": {
       "model_id": "579e6b891e4144cc97467ef1e6c58ffc",
       "version_major": 2,
       "version_minor": 0
      },
      "text/plain": [
       "HBox(children=(IntProgress(value=0, description='Evaluation iteration', max=9, style=ProgressStyle(description…"
      ]
     },
     "metadata": {},
     "output_type": "display_data"
    },
    {
     "name": "stdout",
     "output_type": "stream",
     "text": [
      "\n",
      "Loss history: [1.6724319458007812, 1.2261486517058477, 1.0467679036988153, 0.9637160334322188]\n",
      "Dev loss: 0.8569456620348824\n"
     ]
    },
    {
     "name": "stderr",
     "output_type": "stream",
     "text": [
      "\r",
      "Epoch:  25%|██▌       | 5/20 [00:33<01:39,  6.64s/it]"
     ]
    },
    {
     "data": {
      "application/vnd.jupyter.widget-view+json": {
       "model_id": "47239ec7c4ca427f97347b69c39bd769",
       "version_major": 2,
       "version_minor": 0
      },
      "text/plain": [
       "HBox(children=(IntProgress(value=0, description='Training iteration', max=27, style=ProgressStyle(description_…"
      ]
     },
     "metadata": {},
     "output_type": "display_data"
    },
    {
     "name": "stdout",
     "output_type": "stream",
     "text": [
      "\n"
     ]
    },
    {
     "data": {
      "application/vnd.jupyter.widget-view+json": {
       "model_id": "911c35f95d134319bd8928f8a85df7b0",
       "version_major": 2,
       "version_minor": 0
      },
      "text/plain": [
       "HBox(children=(IntProgress(value=0, description='Evaluation iteration', max=9, style=ProgressStyle(description…"
      ]
     },
     "metadata": {},
     "output_type": "display_data"
    },
    {
     "name": "stdout",
     "output_type": "stream",
     "text": [
      "\n",
      "Loss history: [1.6724319458007812, 1.2261486517058477, 1.0467679036988153, 0.9637160334322188, 0.8569456620348824]\n",
      "Dev loss: 0.852675543891059\n"
     ]
    },
    {
     "name": "stderr",
     "output_type": "stream",
     "text": [
      "\r",
      "Epoch:  30%|███       | 6/20 [00:39<01:33,  6.64s/it]"
     ]
    },
    {
     "data": {
      "application/vnd.jupyter.widget-view+json": {
       "model_id": "e6e86bf36b9d40889f973cf288072e21",
       "version_major": 2,
       "version_minor": 0
      },
      "text/plain": [
       "HBox(children=(IntProgress(value=0, description='Training iteration', max=27, style=ProgressStyle(description_…"
      ]
     },
     "metadata": {},
     "output_type": "display_data"
    },
    {
     "name": "stdout",
     "output_type": "stream",
     "text": [
      "\n"
     ]
    },
    {
     "data": {
      "application/vnd.jupyter.widget-view+json": {
       "model_id": "09ff9fb90cd543fe9cd11adc06cb6c43",
       "version_major": 2,
       "version_minor": 0
      },
      "text/plain": [
       "HBox(children=(IntProgress(value=0, description='Evaluation iteration', max=9, style=ProgressStyle(description…"
      ]
     },
     "metadata": {},
     "output_type": "display_data"
    },
    {
     "name": "stderr",
     "output_type": "stream",
     "text": [
      "\r",
      "Epoch:  35%|███▌      | 7/20 [00:45<01:24,  6.50s/it]"
     ]
    },
    {
     "name": "stdout",
     "output_type": "stream",
     "text": [
      "\n",
      "Loss history: [1.6724319458007812, 1.2261486517058477, 1.0467679036988153, 0.9637160334322188, 0.8569456620348824, 0.852675543891059]\n",
      "Dev loss: 0.8658503558900621\n"
     ]
    },
    {
     "data": {
      "application/vnd.jupyter.widget-view+json": {
       "model_id": "685edf7b734d41b1bbf9688d0f0c6338",
       "version_major": 2,
       "version_minor": 0
      },
      "text/plain": [
       "HBox(children=(IntProgress(value=0, description='Training iteration', max=27, style=ProgressStyle(description_…"
      ]
     },
     "metadata": {},
     "output_type": "display_data"
    },
    {
     "name": "stdout",
     "output_type": "stream",
     "text": [
      "\n"
     ]
    },
    {
     "data": {
      "application/vnd.jupyter.widget-view+json": {
       "model_id": "d24b5b79ae7847df9ac5ff81436b8826",
       "version_major": 2,
       "version_minor": 0
      },
      "text/plain": [
       "HBox(children=(IntProgress(value=0, description='Evaluation iteration', max=9, style=ProgressStyle(description…"
      ]
     },
     "metadata": {},
     "output_type": "display_data"
    },
    {
     "name": "stdout",
     "output_type": "stream",
     "text": [
      "\n",
      "Loss history: [1.6724319458007812, 1.2261486517058477, 1.0467679036988153, 0.9637160334322188, 0.8569456620348824, 0.852675543891059, 0.8658503558900621]\n",
      "Dev loss: 0.8167597353458405\n"
     ]
    },
    {
     "name": "stderr",
     "output_type": "stream",
     "text": [
      "\r",
      "Epoch:  40%|████      | 8/20 [00:52<01:18,  6.55s/it]"
     ]
    },
    {
     "data": {
      "application/vnd.jupyter.widget-view+json": {
       "model_id": "caa4b0623a114164a25d13932545dba2",
       "version_major": 2,
       "version_minor": 0
      },
      "text/plain": [
       "HBox(children=(IntProgress(value=0, description='Training iteration', max=27, style=ProgressStyle(description_…"
      ]
     },
     "metadata": {},
     "output_type": "display_data"
    },
    {
     "name": "stdout",
     "output_type": "stream",
     "text": [
      "\n"
     ]
    },
    {
     "data": {
      "application/vnd.jupyter.widget-view+json": {
       "model_id": "1884a0b12b5e48cc8592429491e9563d",
       "version_major": 2,
       "version_minor": 0
      },
      "text/plain": [
       "HBox(children=(IntProgress(value=0, description='Evaluation iteration', max=9, style=ProgressStyle(description…"
      ]
     },
     "metadata": {},
     "output_type": "display_data"
    },
    {
     "name": "stdout",
     "output_type": "stream",
     "text": [
      "\n",
      "Loss history: [1.6724319458007812, 1.2261486517058477, 1.0467679036988153, 0.9637160334322188, 0.8569456620348824, 0.852675543891059, 0.8658503558900621, 0.8167597353458405]\n",
      "Dev loss: 0.8027659638060464\n"
     ]
    },
    {
     "name": "stderr",
     "output_type": "stream",
     "text": [
      "\r",
      "Epoch:  45%|████▌     | 9/20 [00:59<01:12,  6.58s/it]"
     ]
    },
    {
     "data": {
      "application/vnd.jupyter.widget-view+json": {
       "model_id": "b977382f98074e3d8676da5a24f9d9ce",
       "version_major": 2,
       "version_minor": 0
      },
      "text/plain": [
       "HBox(children=(IntProgress(value=0, description='Training iteration', max=27, style=ProgressStyle(description_…"
      ]
     },
     "metadata": {},
     "output_type": "display_data"
    },
    {
     "name": "stdout",
     "output_type": "stream",
     "text": [
      "\n"
     ]
    },
    {
     "data": {
      "application/vnd.jupyter.widget-view+json": {
       "model_id": "21ec97782f3d4a8f8685760a60134a42",
       "version_major": 2,
       "version_minor": 0
      },
      "text/plain": [
       "HBox(children=(IntProgress(value=0, description='Evaluation iteration', max=9, style=ProgressStyle(description…"
      ]
     },
     "metadata": {},
     "output_type": "display_data"
    },
    {
     "name": "stderr",
     "output_type": "stream",
     "text": [
      "\r",
      "Epoch:  50%|█████     | 10/20 [01:05<01:04,  6.45s/it]"
     ]
    },
    {
     "name": "stdout",
     "output_type": "stream",
     "text": [
      "\n",
      "Loss history: [1.6724319458007812, 1.2261486517058477, 1.0467679036988153, 0.9637160334322188, 0.8569456620348824, 0.852675543891059, 0.8658503558900621, 0.8167597353458405, 0.8027659638060464]\n",
      "Dev loss: 0.8138176302115122\n"
     ]
    },
    {
     "data": {
      "application/vnd.jupyter.widget-view+json": {
       "model_id": "87703ce56ca746c7aa1af20f909c5dba",
       "version_major": 2,
       "version_minor": 0
      },
      "text/plain": [
       "HBox(children=(IntProgress(value=0, description='Training iteration', max=27, style=ProgressStyle(description_…"
      ]
     },
     "metadata": {},
     "output_type": "display_data"
    },
    {
     "name": "stdout",
     "output_type": "stream",
     "text": [
      "\n"
     ]
    },
    {
     "data": {
      "application/vnd.jupyter.widget-view+json": {
       "model_id": "f109f46a18894f82abed3cf7d57ff85d",
       "version_major": 2,
       "version_minor": 0
      },
      "text/plain": [
       "HBox(children=(IntProgress(value=0, description='Evaluation iteration', max=9, style=ProgressStyle(description…"
      ]
     },
     "metadata": {},
     "output_type": "display_data"
    },
    {
     "name": "stderr",
     "output_type": "stream",
     "text": [
      "\r",
      "Epoch:  55%|█████▌    | 11/20 [01:11<00:57,  6.37s/it]"
     ]
    },
    {
     "name": "stdout",
     "output_type": "stream",
     "text": [
      "\n",
      "Loss history: [1.6724319458007812, 1.2261486517058477, 1.0467679036988153, 0.9637160334322188, 0.8569456620348824, 0.852675543891059, 0.8658503558900621, 0.8167597353458405, 0.8027659638060464, 0.8138176302115122]\n",
      "Dev loss: 0.8340393420722749\n"
     ]
    },
    {
     "data": {
      "application/vnd.jupyter.widget-view+json": {
       "model_id": "0d6ae1c8b3c548288f4b312c2f68f5bd",
       "version_major": 2,
       "version_minor": 0
      },
      "text/plain": [
       "HBox(children=(IntProgress(value=0, description='Training iteration', max=27, style=ProgressStyle(description_…"
      ]
     },
     "metadata": {},
     "output_type": "display_data"
    },
    {
     "name": "stdout",
     "output_type": "stream",
     "text": [
      "\n"
     ]
    },
    {
     "data": {
      "application/vnd.jupyter.widget-view+json": {
       "model_id": "6cefe30d1dd54025bededb318b3b72b2",
       "version_major": 2,
       "version_minor": 0
      },
      "text/plain": [
       "HBox(children=(IntProgress(value=0, description='Evaluation iteration', max=9, style=ProgressStyle(description…"
      ]
     },
     "metadata": {},
     "output_type": "display_data"
    },
    {
     "name": "stderr",
     "output_type": "stream",
     "text": [
      "\r",
      "Epoch:  60%|██████    | 12/20 [01:17<00:50,  6.31s/it]"
     ]
    },
    {
     "name": "stdout",
     "output_type": "stream",
     "text": [
      "\n",
      "Loss history: [1.6724319458007812, 1.2261486517058477, 1.0467679036988153, 0.9637160334322188, 0.8569456620348824, 0.852675543891059, 0.8658503558900621, 0.8167597353458405, 0.8027659638060464, 0.8138176302115122, 0.8340393420722749]\n",
      "Dev loss: 0.8193564679887559\n"
     ]
    },
    {
     "data": {
      "application/vnd.jupyter.widget-view+json": {
       "model_id": "ce2396c946144c108322ffa2b5e345eb",
       "version_major": 2,
       "version_minor": 0
      },
      "text/plain": [
       "HBox(children=(IntProgress(value=0, description='Training iteration', max=27, style=ProgressStyle(description_…"
      ]
     },
     "metadata": {},
     "output_type": "display_data"
    },
    {
     "name": "stdout",
     "output_type": "stream",
     "text": [
      "\n"
     ]
    },
    {
     "data": {
      "application/vnd.jupyter.widget-view+json": {
       "model_id": "b1ab6f2c98db454f9a95250623e3d098",
       "version_major": 2,
       "version_minor": 0
      },
      "text/plain": [
       "HBox(children=(IntProgress(value=0, description='Evaluation iteration', max=9, style=ProgressStyle(description…"
      ]
     },
     "metadata": {},
     "output_type": "display_data"
    },
    {
     "name": "stderr",
     "output_type": "stream",
     "text": [
      "\r",
      "Epoch:  65%|██████▌   | 13/20 [01:23<00:43,  6.26s/it]"
     ]
    },
    {
     "name": "stdout",
     "output_type": "stream",
     "text": [
      "\n",
      "Loss history: [1.6724319458007812, 1.2261486517058477, 1.0467679036988153, 0.9637160334322188, 0.8569456620348824, 0.852675543891059, 0.8658503558900621, 0.8167597353458405, 0.8027659638060464, 0.8138176302115122, 0.8340393420722749, 0.8193564679887559]\n",
      "Dev loss: 0.8329831510782242\n"
     ]
    },
    {
     "data": {
      "application/vnd.jupyter.widget-view+json": {
       "model_id": "142715db01694a5abeb9ac1ce3491731",
       "version_major": 2,
       "version_minor": 0
      },
      "text/plain": [
       "HBox(children=(IntProgress(value=0, description='Training iteration', max=27, style=ProgressStyle(description_…"
      ]
     },
     "metadata": {},
     "output_type": "display_data"
    },
    {
     "name": "stdout",
     "output_type": "stream",
     "text": [
      "\n"
     ]
    },
    {
     "data": {
      "application/vnd.jupyter.widget-view+json": {
       "model_id": "f1e459dce66c4fe38f3da93315a57850",
       "version_major": 2,
       "version_minor": 0
      },
      "text/plain": [
       "HBox(children=(IntProgress(value=0, description='Evaluation iteration', max=9, style=ProgressStyle(description…"
      ]
     },
     "metadata": {},
     "output_type": "display_data"
    },
    {
     "name": "stdout",
     "output_type": "stream",
     "text": [
      "\n",
      "Loss history: [1.6724319458007812, 1.2261486517058477, 1.0467679036988153, 0.9637160334322188, 0.8569456620348824, 0.852675543891059, 0.8658503558900621, 0.8167597353458405, 0.8027659638060464, 0.8138176302115122, 0.8340393420722749, 0.8193564679887559, 0.8329831510782242]\n",
      "Dev loss: 0.8003248804145389\n"
     ]
    },
    {
     "name": "stderr",
     "output_type": "stream",
     "text": [
      "\r",
      "Epoch:  70%|███████   | 14/20 [01:30<00:38,  6.41s/it]"
     ]
    },
    {
     "data": {
      "application/vnd.jupyter.widget-view+json": {
       "model_id": "a8821136faba4bb4bad4279f492ee3cd",
       "version_major": 2,
       "version_minor": 0
      },
      "text/plain": [
       "HBox(children=(IntProgress(value=0, description='Training iteration', max=27, style=ProgressStyle(description_…"
      ]
     },
     "metadata": {},
     "output_type": "display_data"
    },
    {
     "name": "stdout",
     "output_type": "stream",
     "text": [
      "\n"
     ]
    },
    {
     "data": {
      "application/vnd.jupyter.widget-view+json": {
       "model_id": "546c737416af46389b655085367271c8",
       "version_major": 2,
       "version_minor": 0
      },
      "text/plain": [
       "HBox(children=(IntProgress(value=0, description='Evaluation iteration', max=9, style=ProgressStyle(description…"
      ]
     },
     "metadata": {},
     "output_type": "display_data"
    },
    {
     "name": "stdout",
     "output_type": "stream",
     "text": [
      "\n",
      "Loss history: [1.6724319458007812, 1.2261486517058477, 1.0467679036988153, 0.9637160334322188, 0.8569456620348824, 0.852675543891059, 0.8658503558900621, 0.8167597353458405, 0.8027659638060464, 0.8138176302115122, 0.8340393420722749, 0.8193564679887559, 0.8329831510782242, 0.8003248804145389]\n",
      "Dev loss: 0.7860618498590257\n"
     ]
    },
    {
     "name": "stderr",
     "output_type": "stream",
     "text": [
      "\r",
      "Epoch:  75%|███████▌  | 15/20 [01:37<00:32,  6.49s/it]"
     ]
    },
    {
     "data": {
      "application/vnd.jupyter.widget-view+json": {
       "model_id": "e3dffe0569f9489186997166478e153e",
       "version_major": 2,
       "version_minor": 0
      },
      "text/plain": [
       "HBox(children=(IntProgress(value=0, description='Training iteration', max=27, style=ProgressStyle(description_…"
      ]
     },
     "metadata": {},
     "output_type": "display_data"
    },
    {
     "name": "stdout",
     "output_type": "stream",
     "text": [
      "\n"
     ]
    },
    {
     "data": {
      "application/vnd.jupyter.widget-view+json": {
       "model_id": "da5aa695e82c45509be7ef2c436edf8f",
       "version_major": 2,
       "version_minor": 0
      },
      "text/plain": [
       "HBox(children=(IntProgress(value=0, description='Evaluation iteration', max=9, style=ProgressStyle(description…"
      ]
     },
     "metadata": {},
     "output_type": "display_data"
    },
    {
     "name": "stderr",
     "output_type": "stream",
     "text": [
      "\r",
      "Epoch:  80%|████████  | 16/20 [01:43<00:25,  6.39s/it]"
     ]
    },
    {
     "name": "stdout",
     "output_type": "stream",
     "text": [
      "\n",
      "Loss history: [1.6724319458007812, 1.2261486517058477, 1.0467679036988153, 0.9637160334322188, 0.8569456620348824, 0.852675543891059, 0.8658503558900621, 0.8167597353458405, 0.8027659638060464, 0.8138176302115122, 0.8340393420722749, 0.8193564679887559, 0.8329831510782242, 0.8003248804145389, 0.7860618498590257]\n",
      "Dev loss: 0.7872317218118243\n"
     ]
    },
    {
     "data": {
      "application/vnd.jupyter.widget-view+json": {
       "model_id": "63eeec84513540c5baf09b2401e07c6b",
       "version_major": 2,
       "version_minor": 0
      },
      "text/plain": [
       "HBox(children=(IntProgress(value=0, description='Training iteration', max=27, style=ProgressStyle(description_…"
      ]
     },
     "metadata": {},
     "output_type": "display_data"
    },
    {
     "name": "stdout",
     "output_type": "stream",
     "text": [
      "\n"
     ]
    },
    {
     "data": {
      "application/vnd.jupyter.widget-view+json": {
       "model_id": "35998209cba64d16ad13142ab7362b89",
       "version_major": 2,
       "version_minor": 0
      },
      "text/plain": [
       "HBox(children=(IntProgress(value=0, description='Evaluation iteration', max=9, style=ProgressStyle(description…"
      ]
     },
     "metadata": {},
     "output_type": "display_data"
    },
    {
     "name": "stderr",
     "output_type": "stream",
     "text": [
      "\r",
      "Epoch:  85%|████████▌ | 17/20 [01:49<00:18,  6.32s/it]"
     ]
    },
    {
     "name": "stdout",
     "output_type": "stream",
     "text": [
      "\n",
      "Loss history: [1.6724319458007812, 1.2261486517058477, 1.0467679036988153, 0.9637160334322188, 0.8569456620348824, 0.852675543891059, 0.8658503558900621, 0.8167597353458405, 0.8027659638060464, 0.8138176302115122, 0.8340393420722749, 0.8193564679887559, 0.8329831510782242, 0.8003248804145389, 0.7860618498590257, 0.7872317218118243]\n",
      "Dev loss: 0.7895626607868407\n"
     ]
    },
    {
     "data": {
      "application/vnd.jupyter.widget-view+json": {
       "model_id": "1cbcb70212f6418b92af4e7cd5b73fc1",
       "version_major": 2,
       "version_minor": 0
      },
      "text/plain": [
       "HBox(children=(IntProgress(value=0, description='Training iteration', max=27, style=ProgressStyle(description_…"
      ]
     },
     "metadata": {},
     "output_type": "display_data"
    },
    {
     "name": "stdout",
     "output_type": "stream",
     "text": [
      "\n"
     ]
    },
    {
     "data": {
      "application/vnd.jupyter.widget-view+json": {
       "model_id": "d32b3ae32c454eff9898e94168b9ea5b",
       "version_major": 2,
       "version_minor": 0
      },
      "text/plain": [
       "HBox(children=(IntProgress(value=0, description='Evaluation iteration', max=9, style=ProgressStyle(description…"
      ]
     },
     "metadata": {},
     "output_type": "display_data"
    },
    {
     "name": "stderr",
     "output_type": "stream",
     "text": [
      "\r",
      "Epoch:  90%|█████████ | 18/20 [01:55<00:12,  6.28s/it]"
     ]
    },
    {
     "name": "stdout",
     "output_type": "stream",
     "text": [
      "\n",
      "Loss history: [1.6724319458007812, 1.2261486517058477, 1.0467679036988153, 0.9637160334322188, 0.8569456620348824, 0.852675543891059, 0.8658503558900621, 0.8167597353458405, 0.8027659638060464, 0.8138176302115122, 0.8340393420722749, 0.8193564679887559, 0.8329831510782242, 0.8003248804145389, 0.7860618498590257, 0.7872317218118243, 0.7895626607868407]\n",
      "Dev loss: 0.7910694380601248\n"
     ]
    },
    {
     "data": {
      "application/vnd.jupyter.widget-view+json": {
       "model_id": "cced651678bb4f78b9d94ee0ed3ac011",
       "version_major": 2,
       "version_minor": 0
      },
      "text/plain": [
       "HBox(children=(IntProgress(value=0, description='Training iteration', max=27, style=ProgressStyle(description_…"
      ]
     },
     "metadata": {},
     "output_type": "display_data"
    },
    {
     "name": "stdout",
     "output_type": "stream",
     "text": [
      "\n"
     ]
    },
    {
     "data": {
      "application/vnd.jupyter.widget-view+json": {
       "model_id": "efe016f870cd4942979411d95dfa4a7f",
       "version_major": 2,
       "version_minor": 0
      },
      "text/plain": [
       "HBox(children=(IntProgress(value=0, description='Evaluation iteration', max=9, style=ProgressStyle(description…"
      ]
     },
     "metadata": {},
     "output_type": "display_data"
    },
    {
     "name": "stderr",
     "output_type": "stream",
     "text": [
      "\r",
      "Epoch:  95%|█████████▌| 19/20 [02:02<00:06,  6.25s/it]"
     ]
    },
    {
     "name": "stdout",
     "output_type": "stream",
     "text": [
      "\n",
      "Loss history: [1.6724319458007812, 1.2261486517058477, 1.0467679036988153, 0.9637160334322188, 0.8569456620348824, 0.852675543891059, 0.8658503558900621, 0.8167597353458405, 0.8027659638060464, 0.8138176302115122, 0.8340393420722749, 0.8193564679887559, 0.8329831510782242, 0.8003248804145389, 0.7860618498590257, 0.7872317218118243, 0.7895626607868407, 0.7910694380601248]\n",
      "Dev loss: 0.7961310479376051\n"
     ]
    },
    {
     "data": {
      "application/vnd.jupyter.widget-view+json": {
       "model_id": "0f76f969a70f4b18aeaa37f4f54ff6b7",
       "version_major": 2,
       "version_minor": 0
      },
      "text/plain": [
       "HBox(children=(IntProgress(value=0, description='Training iteration', max=27, style=ProgressStyle(description_…"
      ]
     },
     "metadata": {},
     "output_type": "display_data"
    },
    {
     "name": "stdout",
     "output_type": "stream",
     "text": [
      "\n"
     ]
    },
    {
     "data": {
      "application/vnd.jupyter.widget-view+json": {
       "model_id": "e62923b594ac414fbe5c0c37de0ff61d",
       "version_major": 2,
       "version_minor": 0
      },
      "text/plain": [
       "HBox(children=(IntProgress(value=0, description='Evaluation iteration', max=9, style=ProgressStyle(description…"
      ]
     },
     "metadata": {},
     "output_type": "display_data"
    },
    {
     "name": "stdout",
     "output_type": "stream",
     "text": [
      "\n",
      "Loss history: [1.6724319458007812, 1.2261486517058477, 1.0467679036988153, 0.9637160334322188, 0.8569456620348824, 0.852675543891059, 0.8658503558900621, 0.8167597353458405, 0.8027659638060464, 0.8138176302115122, 0.8340393420722749, 0.8193564679887559, 0.8329831510782242, 0.8003248804145389, 0.7860618498590257, 0.7872317218118243, 0.7895626607868407, 0.7910694380601248, 0.7961310479376051]\n",
      "Dev loss: 0.8008312715424432\n",
      "No improvement on development set. Finish training.\n",
      "Loading model from /tmp/model.bin\n"
     ]
    },
    {
     "name": "stderr",
     "output_type": "stream",
     "text": [
      "\n",
      "I0404 09:58:26.061485 140621602613056 configuration_utils.py:256] loading configuration file https://s3.amazonaws.com/models.huggingface.co/bert/bert-base-uncased-config.json from cache at /home/yves/.cache/torch/transformers/4dad0251492946e18ac39290fcfe91b89d370fee250efe9521476438fe8ca185.8f56353af4a709bf5ff0fbc915d8f5b42bfff892cbb6ac98c3c45f481a03c685\n",
      "I0404 09:58:26.062742 140621602613056 configuration_utils.py:292] Model config BertConfig {\n",
      "  \"architectures\": [\n",
      "    \"BertForMaskedLM\"\n",
      "  ],\n",
      "  \"attention_probs_dropout_prob\": 0.1,\n",
      "  \"bos_token_id\": null,\n",
      "  \"do_sample\": false,\n",
      "  \"eos_token_ids\": null,\n",
      "  \"finetuning_task\": null,\n",
      "  \"hidden_act\": \"gelu\",\n",
      "  \"hidden_dropout_prob\": 0.1,\n",
      "  \"hidden_size\": 768,\n",
      "  \"id2label\": {\n",
      "    \"0\": \"LABEL_0\",\n",
      "    \"1\": \"LABEL_1\"\n",
      "  },\n",
      "  \"initializer_range\": 0.02,\n",
      "  \"intermediate_size\": 3072,\n",
      "  \"is_decoder\": false,\n",
      "  \"label2id\": {\n",
      "    \"LABEL_0\": 0,\n",
      "    \"LABEL_1\": 1\n",
      "  },\n",
      "  \"layer_norm_eps\": 1e-12,\n",
      "  \"length_penalty\": 1.0,\n",
      "  \"max_length\": 20,\n",
      "  \"max_position_embeddings\": 512,\n",
      "  \"model_type\": \"bert\",\n",
      "  \"num_attention_heads\": 12,\n",
      "  \"num_beams\": 1,\n",
      "  \"num_hidden_layers\": 12,\n",
      "  \"num_labels\": 10,\n",
      "  \"num_return_sequences\": 1,\n",
      "  \"output_attentions\": false,\n",
      "  \"output_hidden_states\": false,\n",
      "  \"output_past\": true,\n",
      "  \"pad_token_id\": null,\n",
      "  \"pruned_heads\": {},\n",
      "  \"repetition_penalty\": 1.0,\n",
      "  \"temperature\": 1.0,\n",
      "  \"top_k\": 50,\n",
      "  \"top_p\": 1.0,\n",
      "  \"torchscript\": false,\n",
      "  \"type_vocab_size\": 2,\n",
      "  \"use_bfloat16\": false,\n",
      "  \"vocab_size\": 30522\n",
      "}\n",
      "\n",
      "I0404 09:58:26.529586 140621602613056 modeling_utils.py:461] loading weights file https://s3.amazonaws.com/models.huggingface.co/bert/bert-base-uncased-pytorch_model.bin from cache at /home/yves/.cache/torch/transformers/aa1ef1aede4482d0dbcd4d52baad8ae300e60902e88fcb0bebdec09afd232066.36ca03ab34a1a5d5fa7bc3d03d55c4fa650fed07220e2eeebc06ce58d0e9a157\n"
     ]
    },
    {
     "data": {
      "application/vnd.jupyter.widget-view+json": {
       "model_id": "dbeecee57f384678a51d313a7aecb570",
       "version_major": 2,
       "version_minor": 0
      },
      "text/plain": [
       "HBox(children=(IntProgress(value=0, description='Evaluation iteration', max=9, style=ProgressStyle(description…"
      ]
     },
     "metadata": {},
     "output_type": "display_data"
    },
    {
     "name": "stdout",
     "output_type": "stream",
     "text": [
      "\n"
     ]
    },
    {
     "name": "stderr",
     "output_type": "stream",
     "text": [
      "I0404 09:58:32.113768 140621602613056 configuration_utils.py:256] loading configuration file https://s3.amazonaws.com/models.huggingface.co/bert/bert-base-uncased-config.json from cache at /home/yves/.cache/torch/transformers/4dad0251492946e18ac39290fcfe91b89d370fee250efe9521476438fe8ca185.8f56353af4a709bf5ff0fbc915d8f5b42bfff892cbb6ac98c3c45f481a03c685\n",
      "I0404 09:58:32.114997 140621602613056 configuration_utils.py:292] Model config BertConfig {\n",
      "  \"architectures\": [\n",
      "    \"BertForMaskedLM\"\n",
      "  ],\n",
      "  \"attention_probs_dropout_prob\": 0.1,\n",
      "  \"bos_token_id\": null,\n",
      "  \"do_sample\": false,\n",
      "  \"eos_token_ids\": null,\n",
      "  \"finetuning_task\": null,\n",
      "  \"hidden_act\": \"gelu\",\n",
      "  \"hidden_dropout_prob\": 0.1,\n",
      "  \"hidden_size\": 768,\n",
      "  \"id2label\": {\n",
      "    \"0\": \"LABEL_0\",\n",
      "    \"1\": \"LABEL_1\"\n",
      "  },\n",
      "  \"initializer_range\": 0.02,\n",
      "  \"intermediate_size\": 3072,\n",
      "  \"is_decoder\": false,\n",
      "  \"label2id\": {\n",
      "    \"LABEL_0\": 0,\n",
      "    \"LABEL_1\": 1\n",
      "  },\n",
      "  \"layer_norm_eps\": 1e-12,\n",
      "  \"length_penalty\": 1.0,\n",
      "  \"max_length\": 20,\n",
      "  \"max_position_embeddings\": 512,\n",
      "  \"model_type\": \"bert\",\n",
      "  \"num_attention_heads\": 12,\n",
      "  \"num_beams\": 1,\n",
      "  \"num_hidden_layers\": 12,\n",
      "  \"num_labels\": 10,\n",
      "  \"num_return_sequences\": 1,\n",
      "  \"output_attentions\": false,\n",
      "  \"output_hidden_states\": false,\n",
      "  \"output_past\": true,\n",
      "  \"pad_token_id\": null,\n",
      "  \"pruned_heads\": {},\n",
      "  \"repetition_penalty\": 1.0,\n",
      "  \"temperature\": 1.0,\n",
      "  \"top_k\": 50,\n",
      "  \"top_p\": 1.0,\n",
      "  \"torchscript\": false,\n",
      "  \"type_vocab_size\": 2,\n",
      "  \"use_bfloat16\": false,\n",
      "  \"vocab_size\": 30522\n",
      "}\n",
      "\n",
      "I0404 09:58:32.575211 140621602613056 modeling_utils.py:461] loading weights file https://s3.amazonaws.com/models.huggingface.co/bert/bert-base-uncased-pytorch_model.bin from cache at /home/yves/.cache/torch/transformers/aa1ef1aede4482d0dbcd4d52baad8ae300e60902e88fcb0bebdec09afd232066.36ca03ab34a1a5d5fa7bc3d03d55c4fa650fed07220e2eeebc06ce58d0e9a157\n",
      "I0404 09:58:34.311506 140621602613056 modeling_utils.py:546] Weights of BertForSequenceClassification not initialized from pretrained model: ['classifier.weight', 'classifier.bias']\n",
      "I0404 09:58:34.312175 140621602613056 modeling_utils.py:552] Weights from pretrained model not used in BertForSequenceClassification: ['cls.predictions.bias', 'cls.predictions.transform.dense.weight', 'cls.predictions.transform.dense.bias', 'cls.predictions.decoder.weight', 'cls.seq_relationship.weight', 'cls.seq_relationship.bias', 'cls.predictions.transform.LayerNorm.weight', 'cls.predictions.transform.LayerNorm.bias']\n",
      "Epoch:   0%|          | 0/20 [00:00<?, ?it/s]"
     ]
    },
    {
     "data": {
      "application/vnd.jupyter.widget-view+json": {
       "model_id": "ea70a54c6f9c49168588006e3ebb6887",
       "version_major": 2,
       "version_minor": 0
      },
      "text/plain": [
       "HBox(children=(IntProgress(value=0, description='Training iteration', max=27, style=ProgressStyle(description_…"
      ]
     },
     "metadata": {},
     "output_type": "display_data"
    },
    {
     "name": "stdout",
     "output_type": "stream",
     "text": [
      "\n"
     ]
    },
    {
     "data": {
      "application/vnd.jupyter.widget-view+json": {
       "model_id": "adcb2e8f89da40478c7cab6f907ab9c4",
       "version_major": 2,
       "version_minor": 0
      },
      "text/plain": [
       "HBox(children=(IntProgress(value=0, description='Evaluation iteration', max=9, style=ProgressStyle(description…"
      ]
     },
     "metadata": {},
     "output_type": "display_data"
    },
    {
     "name": "stdout",
     "output_type": "stream",
     "text": [
      "\n",
      "Loss history: []\n",
      "Dev loss: 1.6564411852094862\n"
     ]
    },
    {
     "name": "stderr",
     "output_type": "stream",
     "text": [
      "\r",
      "Epoch:   5%|▌         | 1/20 [00:06<02:05,  6.60s/it]"
     ]
    },
    {
     "data": {
      "application/vnd.jupyter.widget-view+json": {
       "model_id": "0101825324a74abc95142991275a0bf7",
       "version_major": 2,
       "version_minor": 0
      },
      "text/plain": [
       "HBox(children=(IntProgress(value=0, description='Training iteration', max=27, style=ProgressStyle(description_…"
      ]
     },
     "metadata": {},
     "output_type": "display_data"
    },
    {
     "name": "stdout",
     "output_type": "stream",
     "text": [
      "\n"
     ]
    },
    {
     "data": {
      "application/vnd.jupyter.widget-view+json": {
       "model_id": "9834abdd8a6749168d225e8eafcf3b30",
       "version_major": 2,
       "version_minor": 0
      },
      "text/plain": [
       "HBox(children=(IntProgress(value=0, description='Evaluation iteration', max=9, style=ProgressStyle(description…"
      ]
     },
     "metadata": {},
     "output_type": "display_data"
    },
    {
     "name": "stdout",
     "output_type": "stream",
     "text": [
      "\n",
      "Loss history: [1.6564411852094862]\n",
      "Dev loss: 1.2285301155514188\n"
     ]
    },
    {
     "name": "stderr",
     "output_type": "stream",
     "text": [
      "\r",
      "Epoch:  10%|█         | 2/20 [00:13<01:58,  6.61s/it]"
     ]
    },
    {
     "data": {
      "application/vnd.jupyter.widget-view+json": {
       "model_id": "85e9d1dda9f643c28fd8d1a6a70e9da7",
       "version_major": 2,
       "version_minor": 0
      },
      "text/plain": [
       "HBox(children=(IntProgress(value=0, description='Training iteration', max=27, style=ProgressStyle(description_…"
      ]
     },
     "metadata": {},
     "output_type": "display_data"
    },
    {
     "name": "stdout",
     "output_type": "stream",
     "text": [
      "\n"
     ]
    },
    {
     "data": {
      "application/vnd.jupyter.widget-view+json": {
       "model_id": "d140598da5854cd3b5fc22097f482b90",
       "version_major": 2,
       "version_minor": 0
      },
      "text/plain": [
       "HBox(children=(IntProgress(value=0, description='Evaluation iteration', max=9, style=ProgressStyle(description…"
      ]
     },
     "metadata": {},
     "output_type": "display_data"
    },
    {
     "name": "stdout",
     "output_type": "stream",
     "text": [
      "\n",
      "Loss history: [1.6564411852094862, 1.2285301155514188]\n",
      "Dev loss: 1.0432660712136164\n"
     ]
    },
    {
     "name": "stderr",
     "output_type": "stream",
     "text": [
      "\r",
      "Epoch:  15%|█▌        | 3/20 [00:19<01:52,  6.61s/it]"
     ]
    },
    {
     "data": {
      "application/vnd.jupyter.widget-view+json": {
       "model_id": "dbec020772824116a4d07b4e965eba89",
       "version_major": 2,
       "version_minor": 0
      },
      "text/plain": [
       "HBox(children=(IntProgress(value=0, description='Training iteration', max=27, style=ProgressStyle(description_…"
      ]
     },
     "metadata": {},
     "output_type": "display_data"
    },
    {
     "name": "stdout",
     "output_type": "stream",
     "text": [
      "\n"
     ]
    },
    {
     "data": {
      "application/vnd.jupyter.widget-view+json": {
       "model_id": "f8d731e0ad9244ae9237b32de2d257f1",
       "version_major": 2,
       "version_minor": 0
      },
      "text/plain": [
       "HBox(children=(IntProgress(value=0, description='Evaluation iteration', max=9, style=ProgressStyle(description…"
      ]
     },
     "metadata": {},
     "output_type": "display_data"
    },
    {
     "name": "stdout",
     "output_type": "stream",
     "text": [
      "\n",
      "Loss history: [1.6564411852094862, 1.2285301155514188, 1.0432660712136164]\n",
      "Dev loss: 0.926780770222346\n"
     ]
    },
    {
     "name": "stderr",
     "output_type": "stream",
     "text": [
      "\r",
      "Epoch:  20%|██        | 4/20 [00:26<01:45,  6.61s/it]"
     ]
    },
    {
     "data": {
      "application/vnd.jupyter.widget-view+json": {
       "model_id": "2f2ddc430c4c41c2bec31866cca77d67",
       "version_major": 2,
       "version_minor": 0
      },
      "text/plain": [
       "HBox(children=(IntProgress(value=0, description='Training iteration', max=27, style=ProgressStyle(description_…"
      ]
     },
     "metadata": {},
     "output_type": "display_data"
    },
    {
     "name": "stdout",
     "output_type": "stream",
     "text": [
      "\n"
     ]
    },
    {
     "data": {
      "application/vnd.jupyter.widget-view+json": {
       "model_id": "06387823c02b4e3192109363b31d8bc0",
       "version_major": 2,
       "version_minor": 0
      },
      "text/plain": [
       "HBox(children=(IntProgress(value=0, description='Evaluation iteration', max=9, style=ProgressStyle(description…"
      ]
     },
     "metadata": {},
     "output_type": "display_data"
    },
    {
     "name": "stdout",
     "output_type": "stream",
     "text": [
      "\n",
      "Loss history: [1.6564411852094862, 1.2285301155514188, 1.0432660712136164, 0.926780770222346]\n",
      "Dev loss: 0.8913482228914896\n"
     ]
    },
    {
     "name": "stderr",
     "output_type": "stream",
     "text": [
      "\r",
      "Epoch:  25%|██▌       | 5/20 [00:33<01:39,  6.62s/it]"
     ]
    },
    {
     "data": {
      "application/vnd.jupyter.widget-view+json": {
       "model_id": "b36c2463fdee4c70a3927bcd6e47f612",
       "version_major": 2,
       "version_minor": 0
      },
      "text/plain": [
       "HBox(children=(IntProgress(value=0, description='Training iteration', max=27, style=ProgressStyle(description_…"
      ]
     },
     "metadata": {},
     "output_type": "display_data"
    },
    {
     "name": "stdout",
     "output_type": "stream",
     "text": [
      "\n"
     ]
    },
    {
     "data": {
      "application/vnd.jupyter.widget-view+json": {
       "model_id": "91503942fdcf4de7b0eaeefb6f70a658",
       "version_major": 2,
       "version_minor": 0
      },
      "text/plain": [
       "HBox(children=(IntProgress(value=0, description='Evaluation iteration', max=9, style=ProgressStyle(description…"
      ]
     },
     "metadata": {},
     "output_type": "display_data"
    },
    {
     "name": "stdout",
     "output_type": "stream",
     "text": [
      "\n",
      "Loss history: [1.6564411852094862, 1.2285301155514188, 1.0432660712136164, 0.926780770222346, 0.8913482228914896]\n",
      "Dev loss: 0.8772368696000841\n"
     ]
    },
    {
     "name": "stderr",
     "output_type": "stream",
     "text": [
      "\r",
      "Epoch:  30%|███       | 6/20 [00:39<01:32,  6.62s/it]"
     ]
    },
    {
     "data": {
      "application/vnd.jupyter.widget-view+json": {
       "model_id": "b8aa2bd3015c4f069877cbc02b51988b",
       "version_major": 2,
       "version_minor": 0
      },
      "text/plain": [
       "HBox(children=(IntProgress(value=0, description='Training iteration', max=27, style=ProgressStyle(description_…"
      ]
     },
     "metadata": {},
     "output_type": "display_data"
    },
    {
     "name": "stdout",
     "output_type": "stream",
     "text": [
      "\n"
     ]
    },
    {
     "data": {
      "application/vnd.jupyter.widget-view+json": {
       "model_id": "884f7490be69461eacf1813ed962d838",
       "version_major": 2,
       "version_minor": 0
      },
      "text/plain": [
       "HBox(children=(IntProgress(value=0, description='Evaluation iteration', max=9, style=ProgressStyle(description…"
      ]
     },
     "metadata": {},
     "output_type": "display_data"
    },
    {
     "name": "stdout",
     "output_type": "stream",
     "text": [
      "\n",
      "Loss history: [1.6564411852094862, 1.2285301155514188, 1.0432660712136164, 0.926780770222346, 0.8913482228914896, 0.8772368696000841]\n",
      "Dev loss: 0.8552145229445564\n"
     ]
    },
    {
     "name": "stderr",
     "output_type": "stream",
     "text": [
      "\r",
      "Epoch:  35%|███▌      | 7/20 [00:46<01:26,  6.62s/it]"
     ]
    },
    {
     "data": {
      "application/vnd.jupyter.widget-view+json": {
       "model_id": "d75df7377db44a96a4a78f7326222248",
       "version_major": 2,
       "version_minor": 0
      },
      "text/plain": [
       "HBox(children=(IntProgress(value=0, description='Training iteration', max=27, style=ProgressStyle(description_…"
      ]
     },
     "metadata": {},
     "output_type": "display_data"
    },
    {
     "name": "stdout",
     "output_type": "stream",
     "text": [
      "\n"
     ]
    },
    {
     "data": {
      "application/vnd.jupyter.widget-view+json": {
       "model_id": "8bc6601c283e4af3bed297a30c4a524d",
       "version_major": 2,
       "version_minor": 0
      },
      "text/plain": [
       "HBox(children=(IntProgress(value=0, description='Evaluation iteration', max=9, style=ProgressStyle(description…"
      ]
     },
     "metadata": {},
     "output_type": "display_data"
    },
    {
     "name": "stderr",
     "output_type": "stream",
     "text": [
      "\r",
      "Epoch:  40%|████      | 8/20 [00:52<01:17,  6.48s/it]"
     ]
    },
    {
     "name": "stdout",
     "output_type": "stream",
     "text": [
      "\n",
      "Loss history: [1.6564411852094862, 1.2285301155514188, 1.0432660712136164, 0.926780770222346, 0.8913482228914896, 0.8772368696000841, 0.8552145229445564]\n",
      "Dev loss: 0.8723413497209549\n"
     ]
    },
    {
     "data": {
      "application/vnd.jupyter.widget-view+json": {
       "model_id": "4223a4d7a35346c8857246dd7dc1e637",
       "version_major": 2,
       "version_minor": 0
      },
      "text/plain": [
       "HBox(children=(IntProgress(value=0, description='Training iteration', max=27, style=ProgressStyle(description_…"
      ]
     },
     "metadata": {},
     "output_type": "display_data"
    },
    {
     "name": "stdout",
     "output_type": "stream",
     "text": [
      "\n"
     ]
    },
    {
     "data": {
      "application/vnd.jupyter.widget-view+json": {
       "model_id": "d7fcdde7b25d428e87e38912d260506b",
       "version_major": 2,
       "version_minor": 0
      },
      "text/plain": [
       "HBox(children=(IntProgress(value=0, description='Evaluation iteration', max=9, style=ProgressStyle(description…"
      ]
     },
     "metadata": {},
     "output_type": "display_data"
    },
    {
     "name": "stderr",
     "output_type": "stream",
     "text": [
      "\r",
      "Epoch:  45%|████▌     | 9/20 [00:58<01:10,  6.39s/it]"
     ]
    },
    {
     "name": "stdout",
     "output_type": "stream",
     "text": [
      "\n",
      "Loss history: [1.6564411852094862, 1.2285301155514188, 1.0432660712136164, 0.926780770222346, 0.8913482228914896, 0.8772368696000841, 0.8552145229445564, 0.8723413497209549]\n",
      "Dev loss: 0.9733612802293565\n"
     ]
    },
    {
     "data": {
      "application/vnd.jupyter.widget-view+json": {
       "model_id": "0b30e30850e74fd7890f0bee9fb53e7c",
       "version_major": 2,
       "version_minor": 0
      },
      "text/plain": [
       "HBox(children=(IntProgress(value=0, description='Training iteration', max=27, style=ProgressStyle(description_…"
      ]
     },
     "metadata": {},
     "output_type": "display_data"
    },
    {
     "name": "stdout",
     "output_type": "stream",
     "text": [
      "\n"
     ]
    },
    {
     "data": {
      "application/vnd.jupyter.widget-view+json": {
       "model_id": "a415f4bb969e41aa86d23e81ae086404",
       "version_major": 2,
       "version_minor": 0
      },
      "text/plain": [
       "HBox(children=(IntProgress(value=0, description='Evaluation iteration', max=9, style=ProgressStyle(description…"
      ]
     },
     "metadata": {},
     "output_type": "display_data"
    },
    {
     "name": "stderr",
     "output_type": "stream",
     "text": [
      "\r",
      "Epoch:  50%|█████     | 10/20 [01:04<01:03,  6.32s/it]"
     ]
    },
    {
     "name": "stdout",
     "output_type": "stream",
     "text": [
      "\n",
      "Loss history: [1.6564411852094862, 1.2285301155514188, 1.0432660712136164, 0.926780770222346, 0.8913482228914896, 0.8772368696000841, 0.8552145229445564, 0.8723413497209549, 0.9733612802293565]\n",
      "Dev loss: 0.9280348453256819\n"
     ]
    },
    {
     "data": {
      "application/vnd.jupyter.widget-view+json": {
       "model_id": "120a5f071e2f4b5383b0318e0480f14f",
       "version_major": 2,
       "version_minor": 0
      },
      "text/plain": [
       "HBox(children=(IntProgress(value=0, description='Training iteration', max=27, style=ProgressStyle(description_…"
      ]
     },
     "metadata": {},
     "output_type": "display_data"
    },
    {
     "name": "stdout",
     "output_type": "stream",
     "text": [
      "\n"
     ]
    },
    {
     "data": {
      "application/vnd.jupyter.widget-view+json": {
       "model_id": "ec641411729949978bdacdf95cd50dda",
       "version_major": 2,
       "version_minor": 0
      },
      "text/plain": [
       "HBox(children=(IntProgress(value=0, description='Evaluation iteration', max=9, style=ProgressStyle(description…"
      ]
     },
     "metadata": {},
     "output_type": "display_data"
    },
    {
     "name": "stderr",
     "output_type": "stream",
     "text": [
      "\r",
      "Epoch:  55%|█████▌    | 11/20 [01:11<00:56,  6.28s/it]"
     ]
    },
    {
     "name": "stdout",
     "output_type": "stream",
     "text": [
      "\n",
      "Loss history: [1.6564411852094862, 1.2285301155514188, 1.0432660712136164, 0.926780770222346, 0.8913482228914896, 0.8772368696000841, 0.8552145229445564, 0.8723413497209549, 0.9733612802293565, 0.9280348453256819]\n",
      "Dev loss: 0.9245101941956414\n"
     ]
    },
    {
     "data": {
      "application/vnd.jupyter.widget-view+json": {
       "model_id": "df10fb338a0d42dcadf0094c2db1cc53",
       "version_major": 2,
       "version_minor": 0
      },
      "text/plain": [
       "HBox(children=(IntProgress(value=0, description='Training iteration', max=27, style=ProgressStyle(description_…"
      ]
     },
     "metadata": {},
     "output_type": "display_data"
    },
    {
     "name": "stdout",
     "output_type": "stream",
     "text": [
      "\n"
     ]
    },
    {
     "data": {
      "application/vnd.jupyter.widget-view+json": {
       "model_id": "2f5a19bedaa34d9b969bc48f08ea1a9e",
       "version_major": 2,
       "version_minor": 0
      },
      "text/plain": [
       "HBox(children=(IntProgress(value=0, description='Evaluation iteration', max=9, style=ProgressStyle(description…"
      ]
     },
     "metadata": {},
     "output_type": "display_data"
    },
    {
     "name": "stdout",
     "output_type": "stream",
     "text": [
      "\n",
      "Loss history: [1.6564411852094862, 1.2285301155514188, 1.0432660712136164, 0.926780770222346, 0.8913482228914896, 0.8772368696000841, 0.8552145229445564, 0.8723413497209549, 0.9733612802293565, 0.9280348453256819, 0.9245101941956414]\n",
      "Dev loss: 0.9199409468306435\n",
      "No improvement on development set. Finish training.\n",
      "Loading model from /tmp/model.bin\n"
     ]
    },
    {
     "name": "stderr",
     "output_type": "stream",
     "text": [
      "I0404 09:59:52.103757 140621602613056 configuration_utils.py:256] loading configuration file https://s3.amazonaws.com/models.huggingface.co/bert/bert-base-uncased-config.json from cache at /home/yves/.cache/torch/transformers/4dad0251492946e18ac39290fcfe91b89d370fee250efe9521476438fe8ca185.8f56353af4a709bf5ff0fbc915d8f5b42bfff892cbb6ac98c3c45f481a03c685\n",
      "I0404 09:59:52.105395 140621602613056 configuration_utils.py:292] Model config BertConfig {\n",
      "  \"architectures\": [\n",
      "    \"BertForMaskedLM\"\n",
      "  ],\n",
      "  \"attention_probs_dropout_prob\": 0.1,\n",
      "  \"bos_token_id\": null,\n",
      "  \"do_sample\": false,\n",
      "  \"eos_token_ids\": null,\n",
      "  \"finetuning_task\": null,\n",
      "  \"hidden_act\": \"gelu\",\n",
      "  \"hidden_dropout_prob\": 0.1,\n",
      "  \"hidden_size\": 768,\n",
      "  \"id2label\": {\n",
      "    \"0\": \"LABEL_0\",\n",
      "    \"1\": \"LABEL_1\"\n",
      "  },\n",
      "  \"initializer_range\": 0.02,\n",
      "  \"intermediate_size\": 3072,\n",
      "  \"is_decoder\": false,\n",
      "  \"label2id\": {\n",
      "    \"LABEL_0\": 0,\n",
      "    \"LABEL_1\": 1\n",
      "  },\n",
      "  \"layer_norm_eps\": 1e-12,\n",
      "  \"length_penalty\": 1.0,\n",
      "  \"max_length\": 20,\n",
      "  \"max_position_embeddings\": 512,\n",
      "  \"model_type\": \"bert\",\n",
      "  \"num_attention_heads\": 12,\n",
      "  \"num_beams\": 1,\n",
      "  \"num_hidden_layers\": 12,\n",
      "  \"num_labels\": 10,\n",
      "  \"num_return_sequences\": 1,\n",
      "  \"output_attentions\": false,\n",
      "  \"output_hidden_states\": false,\n",
      "  \"output_past\": true,\n",
      "  \"pad_token_id\": null,\n",
      "  \"pruned_heads\": {},\n",
      "  \"repetition_penalty\": 1.0,\n",
      "  \"temperature\": 1.0,\n",
      "  \"top_k\": 50,\n",
      "  \"top_p\": 1.0,\n",
      "  \"torchscript\": false,\n",
      "  \"type_vocab_size\": 2,\n",
      "  \"use_bfloat16\": false,\n",
      "  \"vocab_size\": 30522\n",
      "}\n",
      "\n",
      "I0404 09:59:52.564580 140621602613056 modeling_utils.py:461] loading weights file https://s3.amazonaws.com/models.huggingface.co/bert/bert-base-uncased-pytorch_model.bin from cache at /home/yves/.cache/torch/transformers/aa1ef1aede4482d0dbcd4d52baad8ae300e60902e88fcb0bebdec09afd232066.36ca03ab34a1a5d5fa7bc3d03d55c4fa650fed07220e2eeebc06ce58d0e9a157\n"
     ]
    },
    {
     "data": {
      "application/vnd.jupyter.widget-view+json": {
       "model_id": "ae2824d799874fd8984d913bc43ed114",
       "version_major": 2,
       "version_minor": 0
      },
      "text/plain": [
       "HBox(children=(IntProgress(value=0, description='Evaluation iteration', max=9, style=ProgressStyle(description…"
      ]
     },
     "metadata": {},
     "output_type": "display_data"
    },
    {
     "name": "stdout",
     "output_type": "stream",
     "text": [
      "\n"
     ]
    },
    {
     "name": "stderr",
     "output_type": "stream",
     "text": [
      "I0404 09:59:58.364272 140621602613056 configuration_utils.py:256] loading configuration file https://s3.amazonaws.com/models.huggingface.co/bert/bert-base-uncased-config.json from cache at /home/yves/.cache/torch/transformers/4dad0251492946e18ac39290fcfe91b89d370fee250efe9521476438fe8ca185.8f56353af4a709bf5ff0fbc915d8f5b42bfff892cbb6ac98c3c45f481a03c685\n",
      "I0404 09:59:58.365408 140621602613056 configuration_utils.py:292] Model config BertConfig {\n",
      "  \"architectures\": [\n",
      "    \"BertForMaskedLM\"\n",
      "  ],\n",
      "  \"attention_probs_dropout_prob\": 0.1,\n",
      "  \"bos_token_id\": null,\n",
      "  \"do_sample\": false,\n",
      "  \"eos_token_ids\": null,\n",
      "  \"finetuning_task\": null,\n",
      "  \"hidden_act\": \"gelu\",\n",
      "  \"hidden_dropout_prob\": 0.1,\n",
      "  \"hidden_size\": 768,\n",
      "  \"id2label\": {\n",
      "    \"0\": \"LABEL_0\",\n",
      "    \"1\": \"LABEL_1\"\n",
      "  },\n",
      "  \"initializer_range\": 0.02,\n",
      "  \"intermediate_size\": 3072,\n",
      "  \"is_decoder\": false,\n",
      "  \"label2id\": {\n",
      "    \"LABEL_0\": 0,\n",
      "    \"LABEL_1\": 1\n",
      "  },\n",
      "  \"layer_norm_eps\": 1e-12,\n",
      "  \"length_penalty\": 1.0,\n",
      "  \"max_length\": 20,\n",
      "  \"max_position_embeddings\": 512,\n",
      "  \"model_type\": \"bert\",\n",
      "  \"num_attention_heads\": 12,\n",
      "  \"num_beams\": 1,\n",
      "  \"num_hidden_layers\": 12,\n",
      "  \"num_labels\": 10,\n",
      "  \"num_return_sequences\": 1,\n",
      "  \"output_attentions\": false,\n",
      "  \"output_hidden_states\": false,\n",
      "  \"output_past\": true,\n",
      "  \"pad_token_id\": null,\n",
      "  \"pruned_heads\": {},\n",
      "  \"repetition_penalty\": 1.0,\n",
      "  \"temperature\": 1.0,\n",
      "  \"top_k\": 50,\n",
      "  \"top_p\": 1.0,\n",
      "  \"torchscript\": false,\n",
      "  \"type_vocab_size\": 2,\n",
      "  \"use_bfloat16\": false,\n",
      "  \"vocab_size\": 30522\n",
      "}\n",
      "\n",
      "I0404 09:59:58.810725 140621602613056 modeling_utils.py:461] loading weights file https://s3.amazonaws.com/models.huggingface.co/bert/bert-base-uncased-pytorch_model.bin from cache at /home/yves/.cache/torch/transformers/aa1ef1aede4482d0dbcd4d52baad8ae300e60902e88fcb0bebdec09afd232066.36ca03ab34a1a5d5fa7bc3d03d55c4fa650fed07220e2eeebc06ce58d0e9a157\n",
      "I0404 10:00:00.511354 140621602613056 modeling_utils.py:546] Weights of BertForSequenceClassification not initialized from pretrained model: ['classifier.weight', 'classifier.bias']\n",
      "I0404 10:00:00.512196 140621602613056 modeling_utils.py:552] Weights from pretrained model not used in BertForSequenceClassification: ['cls.predictions.bias', 'cls.predictions.transform.dense.weight', 'cls.predictions.transform.dense.bias', 'cls.predictions.decoder.weight', 'cls.seq_relationship.weight', 'cls.seq_relationship.bias', 'cls.predictions.transform.LayerNorm.weight', 'cls.predictions.transform.LayerNorm.bias']\n",
      "\n",
      "Epoch:   0%|          | 0/20 [00:00<?, ?it/s]\u001b[A"
     ]
    },
    {
     "data": {
      "application/vnd.jupyter.widget-view+json": {
       "model_id": "69bacf117731447f8d27220c80b0d9a1",
       "version_major": 2,
       "version_minor": 0
      },
      "text/plain": [
       "HBox(children=(IntProgress(value=0, description='Training iteration', max=27, style=ProgressStyle(description_…"
      ]
     },
     "metadata": {},
     "output_type": "display_data"
    },
    {
     "name": "stdout",
     "output_type": "stream",
     "text": [
      "\n"
     ]
    },
    {
     "data": {
      "application/vnd.jupyter.widget-view+json": {
       "model_id": "2f7c2de87a97420aa1dc13a70b16de13",
       "version_major": 2,
       "version_minor": 0
      },
      "text/plain": [
       "HBox(children=(IntProgress(value=0, description='Evaluation iteration', max=9, style=ProgressStyle(description…"
      ]
     },
     "metadata": {},
     "output_type": "display_data"
    },
    {
     "name": "stdout",
     "output_type": "stream",
     "text": [
      "\n",
      "Loss history: []\n",
      "Dev loss: 1.653434885872735\n"
     ]
    },
    {
     "name": "stderr",
     "output_type": "stream",
     "text": [
      "\n",
      "Epoch:   5%|▌         | 1/20 [00:06<02:05,  6.63s/it]\u001b[A"
     ]
    },
    {
     "data": {
      "application/vnd.jupyter.widget-view+json": {
       "model_id": "3726dcd27a11474c8bf7677471744417",
       "version_major": 2,
       "version_minor": 0
      },
      "text/plain": [
       "HBox(children=(IntProgress(value=0, description='Training iteration', max=27, style=ProgressStyle(description_…"
      ]
     },
     "metadata": {},
     "output_type": "display_data"
    },
    {
     "name": "stdout",
     "output_type": "stream",
     "text": [
      "\n"
     ]
    },
    {
     "data": {
      "application/vnd.jupyter.widget-view+json": {
       "model_id": "f63690e6376a45b384728c3409939b55",
       "version_major": 2,
       "version_minor": 0
      },
      "text/plain": [
       "HBox(children=(IntProgress(value=0, description='Evaluation iteration', max=9, style=ProgressStyle(description…"
      ]
     },
     "metadata": {},
     "output_type": "display_data"
    },
    {
     "name": "stdout",
     "output_type": "stream",
     "text": [
      "\n",
      "Loss history: [1.653434885872735]\n",
      "Dev loss: 1.4084867503907945\n"
     ]
    },
    {
     "name": "stderr",
     "output_type": "stream",
     "text": [
      "\n",
      "Epoch:  10%|█         | 2/20 [00:13<01:59,  6.62s/it]\u001b[A"
     ]
    },
    {
     "data": {
      "application/vnd.jupyter.widget-view+json": {
       "model_id": "3717dff7dd8f4f288811d5c70dd8bb5b",
       "version_major": 2,
       "version_minor": 0
      },
      "text/plain": [
       "HBox(children=(IntProgress(value=0, description='Training iteration', max=27, style=ProgressStyle(description_…"
      ]
     },
     "metadata": {},
     "output_type": "display_data"
    },
    {
     "name": "stdout",
     "output_type": "stream",
     "text": [
      "\n"
     ]
    },
    {
     "data": {
      "application/vnd.jupyter.widget-view+json": {
       "model_id": "1200ee9eeb7b4b38a148a9bf2ba14556",
       "version_major": 2,
       "version_minor": 0
      },
      "text/plain": [
       "HBox(children=(IntProgress(value=0, description='Evaluation iteration', max=9, style=ProgressStyle(description…"
      ]
     },
     "metadata": {},
     "output_type": "display_data"
    },
    {
     "name": "stdout",
     "output_type": "stream",
     "text": [
      "\n",
      "Loss history: [1.653434885872735, 1.4084867503907945]\n",
      "Dev loss: 1.1605694360203214\n"
     ]
    },
    {
     "name": "stderr",
     "output_type": "stream",
     "text": [
      "\n",
      "Epoch:  15%|█▌        | 3/20 [00:19<01:52,  6.62s/it]\u001b[A"
     ]
    },
    {
     "data": {
      "application/vnd.jupyter.widget-view+json": {
       "model_id": "12a8a07daaec4a9f9353d9734d8453c2",
       "version_major": 2,
       "version_minor": 0
      },
      "text/plain": [
       "HBox(children=(IntProgress(value=0, description='Training iteration', max=27, style=ProgressStyle(description_…"
      ]
     },
     "metadata": {},
     "output_type": "display_data"
    },
    {
     "name": "stdout",
     "output_type": "stream",
     "text": [
      "\n"
     ]
    },
    {
     "data": {
      "application/vnd.jupyter.widget-view+json": {
       "model_id": "58e813abcae9436a89e7f95da457e56f",
       "version_major": 2,
       "version_minor": 0
      },
      "text/plain": [
       "HBox(children=(IntProgress(value=0, description='Evaluation iteration', max=9, style=ProgressStyle(description…"
      ]
     },
     "metadata": {},
     "output_type": "display_data"
    },
    {
     "name": "stdout",
     "output_type": "stream",
     "text": [
      "\n",
      "Loss history: [1.653434885872735, 1.4084867503907945, 1.1605694360203214]\n",
      "Dev loss: 0.9438766804006364\n"
     ]
    },
    {
     "name": "stderr",
     "output_type": "stream",
     "text": [
      "\n",
      "Epoch:  20%|██        | 4/20 [00:26<01:45,  6.62s/it]\u001b[A"
     ]
    },
    {
     "data": {
      "application/vnd.jupyter.widget-view+json": {
       "model_id": "d0ae4e7214a94c02a96c3034017a2d92",
       "version_major": 2,
       "version_minor": 0
      },
      "text/plain": [
       "HBox(children=(IntProgress(value=0, description='Training iteration', max=27, style=ProgressStyle(description_…"
      ]
     },
     "metadata": {},
     "output_type": "display_data"
    },
    {
     "name": "stdout",
     "output_type": "stream",
     "text": [
      "\n"
     ]
    },
    {
     "data": {
      "application/vnd.jupyter.widget-view+json": {
       "model_id": "c5161da0e02c4af39e95726d7c982946",
       "version_major": 2,
       "version_minor": 0
      },
      "text/plain": [
       "HBox(children=(IntProgress(value=0, description='Evaluation iteration', max=9, style=ProgressStyle(description…"
      ]
     },
     "metadata": {},
     "output_type": "display_data"
    },
    {
     "name": "stdout",
     "output_type": "stream",
     "text": [
      "\n",
      "Loss history: [1.653434885872735, 1.4084867503907945, 1.1605694360203214, 0.9438766804006364]\n",
      "Dev loss: 0.9253192179732852\n"
     ]
    },
    {
     "name": "stderr",
     "output_type": "stream",
     "text": [
      "\n",
      "Epoch:  25%|██▌       | 5/20 [00:33<01:39,  6.62s/it]\u001b[A"
     ]
    },
    {
     "data": {
      "application/vnd.jupyter.widget-view+json": {
       "model_id": "eb730e10bc3e4a3abc294a7bdc530a86",
       "version_major": 2,
       "version_minor": 0
      },
      "text/plain": [
       "HBox(children=(IntProgress(value=0, description='Training iteration', max=27, style=ProgressStyle(description_…"
      ]
     },
     "metadata": {},
     "output_type": "display_data"
    },
    {
     "name": "stdout",
     "output_type": "stream",
     "text": [
      "\n"
     ]
    },
    {
     "data": {
      "application/vnd.jupyter.widget-view+json": {
       "model_id": "886a2796397643b59fd1b7898d734c4b",
       "version_major": 2,
       "version_minor": 0
      },
      "text/plain": [
       "HBox(children=(IntProgress(value=0, description='Evaluation iteration', max=9, style=ProgressStyle(description…"
      ]
     },
     "metadata": {},
     "output_type": "display_data"
    },
    {
     "name": "stdout",
     "output_type": "stream",
     "text": [
      "\n",
      "Loss history: [1.653434885872735, 1.4084867503907945, 1.1605694360203214, 0.9438766804006364, 0.9253192179732852]\n",
      "Dev loss: 0.8716648088561164\n"
     ]
    },
    {
     "name": "stderr",
     "output_type": "stream",
     "text": [
      "\n",
      "Epoch:  30%|███       | 6/20 [00:39<01:32,  6.62s/it]\u001b[A"
     ]
    },
    {
     "data": {
      "application/vnd.jupyter.widget-view+json": {
       "model_id": "8bf4b599c8014964aca9fb8e686b1ff3",
       "version_major": 2,
       "version_minor": 0
      },
      "text/plain": [
       "HBox(children=(IntProgress(value=0, description='Training iteration', max=27, style=ProgressStyle(description_…"
      ]
     },
     "metadata": {},
     "output_type": "display_data"
    },
    {
     "name": "stdout",
     "output_type": "stream",
     "text": [
      "\n"
     ]
    },
    {
     "data": {
      "application/vnd.jupyter.widget-view+json": {
       "model_id": "9af098f7856040ffbe9c4535b4cde377",
       "version_major": 2,
       "version_minor": 0
      },
      "text/plain": [
       "HBox(children=(IntProgress(value=0, description='Evaluation iteration', max=9, style=ProgressStyle(description…"
      ]
     },
     "metadata": {},
     "output_type": "display_data"
    },
    {
     "name": "stdout",
     "output_type": "stream",
     "text": [
      "\n",
      "Loss history: [1.653434885872735, 1.4084867503907945, 1.1605694360203214, 0.9438766804006364, 0.9253192179732852, 0.8716648088561164]\n",
      "Dev loss: 0.791989846362008\n"
     ]
    },
    {
     "name": "stderr",
     "output_type": "stream",
     "text": [
      "\n",
      "Epoch:  35%|███▌      | 7/20 [00:46<01:26,  6.62s/it]\u001b[A"
     ]
    },
    {
     "data": {
      "application/vnd.jupyter.widget-view+json": {
       "model_id": "9402d3427b834e219727dbcb4c22319d",
       "version_major": 2,
       "version_minor": 0
      },
      "text/plain": [
       "HBox(children=(IntProgress(value=0, description='Training iteration', max=27, style=ProgressStyle(description_…"
      ]
     },
     "metadata": {},
     "output_type": "display_data"
    },
    {
     "name": "stdout",
     "output_type": "stream",
     "text": [
      "\n"
     ]
    },
    {
     "data": {
      "application/vnd.jupyter.widget-view+json": {
       "model_id": "d89a254dbfbc4d6abfa26bd4d9082d7d",
       "version_major": 2,
       "version_minor": 0
      },
      "text/plain": [
       "HBox(children=(IntProgress(value=0, description='Evaluation iteration', max=9, style=ProgressStyle(description…"
      ]
     },
     "metadata": {},
     "output_type": "display_data"
    },
    {
     "name": "stderr",
     "output_type": "stream",
     "text": [
      "\n",
      "Epoch:  40%|████      | 8/20 [00:52<01:17,  6.49s/it]\u001b[A"
     ]
    },
    {
     "name": "stdout",
     "output_type": "stream",
     "text": [
      "\n",
      "Loss history: [1.653434885872735, 1.4084867503907945, 1.1605694360203214, 0.9438766804006364, 0.9253192179732852, 0.8716648088561164, 0.791989846362008]\n",
      "Dev loss: 0.8141893711354997\n"
     ]
    },
    {
     "data": {
      "application/vnd.jupyter.widget-view+json": {
       "model_id": "a1cbb5b7fafe43658d541276b961547d",
       "version_major": 2,
       "version_minor": 0
      },
      "text/plain": [
       "HBox(children=(IntProgress(value=0, description='Training iteration', max=27, style=ProgressStyle(description_…"
      ]
     },
     "metadata": {},
     "output_type": "display_data"
    },
    {
     "name": "stdout",
     "output_type": "stream",
     "text": [
      "\n"
     ]
    },
    {
     "data": {
      "application/vnd.jupyter.widget-view+json": {
       "model_id": "6325623de9f549c489e2b896f4207f70",
       "version_major": 2,
       "version_minor": 0
      },
      "text/plain": [
       "HBox(children=(IntProgress(value=0, description='Evaluation iteration', max=9, style=ProgressStyle(description…"
      ]
     },
     "metadata": {},
     "output_type": "display_data"
    },
    {
     "name": "stderr",
     "output_type": "stream",
     "text": [
      "\n",
      "Epoch:  45%|████▌     | 9/20 [00:58<01:10,  6.39s/it]\u001b[A"
     ]
    },
    {
     "name": "stdout",
     "output_type": "stream",
     "text": [
      "\n",
      "Loss history: [1.653434885872735, 1.4084867503907945, 1.1605694360203214, 0.9438766804006364, 0.9253192179732852, 0.8716648088561164, 0.791989846362008, 0.8141893711354997]\n",
      "Dev loss: 0.8117420772711436\n"
     ]
    },
    {
     "data": {
      "application/vnd.jupyter.widget-view+json": {
       "model_id": "fb08990beaf5425c86e841bc73dd7427",
       "version_major": 2,
       "version_minor": 0
      },
      "text/plain": [
       "HBox(children=(IntProgress(value=0, description='Training iteration', max=27, style=ProgressStyle(description_…"
      ]
     },
     "metadata": {},
     "output_type": "display_data"
    },
    {
     "name": "stdout",
     "output_type": "stream",
     "text": [
      "\n"
     ]
    },
    {
     "data": {
      "application/vnd.jupyter.widget-view+json": {
       "model_id": "f808be5354dc4f00bc379954838a4738",
       "version_major": 2,
       "version_minor": 0
      },
      "text/plain": [
       "HBox(children=(IntProgress(value=0, description='Evaluation iteration', max=9, style=ProgressStyle(description…"
      ]
     },
     "metadata": {},
     "output_type": "display_data"
    },
    {
     "name": "stdout",
     "output_type": "stream",
     "text": [
      "\n",
      "Loss history: [1.653434885872735, 1.4084867503907945, 1.1605694360203214, 0.9438766804006364, 0.9253192179732852, 0.8716648088561164, 0.791989846362008, 0.8141893711354997, 0.8117420772711436]\n",
      "Dev loss: 0.7652361558543311\n"
     ]
    },
    {
     "name": "stderr",
     "output_type": "stream",
     "text": [
      "\n",
      "Epoch:  50%|█████     | 10/20 [01:05<01:04,  6.46s/it]\u001b[A"
     ]
    },
    {
     "data": {
      "application/vnd.jupyter.widget-view+json": {
       "model_id": "aa18d71fd3d7437d9db1c5b5d3b01a5a",
       "version_major": 2,
       "version_minor": 0
      },
      "text/plain": [
       "HBox(children=(IntProgress(value=0, description='Training iteration', max=27, style=ProgressStyle(description_…"
      ]
     },
     "metadata": {},
     "output_type": "display_data"
    },
    {
     "name": "stdout",
     "output_type": "stream",
     "text": [
      "\n"
     ]
    },
    {
     "data": {
      "application/vnd.jupyter.widget-view+json": {
       "model_id": "4f5113542645448b8eb482307eea185c",
       "version_major": 2,
       "version_minor": 0
      },
      "text/plain": [
       "HBox(children=(IntProgress(value=0, description='Evaluation iteration', max=9, style=ProgressStyle(description…"
      ]
     },
     "metadata": {},
     "output_type": "display_data"
    },
    {
     "name": "stdout",
     "output_type": "stream",
     "text": [
      "\n",
      "Loss history: [1.653434885872735, 1.4084867503907945, 1.1605694360203214, 0.9438766804006364, 0.9253192179732852, 0.8716648088561164, 0.791989846362008, 0.8141893711354997, 0.8117420772711436, 0.7652361558543311]\n",
      "Dev loss: 0.7441992676920361\n"
     ]
    },
    {
     "name": "stderr",
     "output_type": "stream",
     "text": [
      "\n",
      "Epoch:  55%|█████▌    | 11/20 [01:11<00:58,  6.51s/it]\u001b[A"
     ]
    },
    {
     "data": {
      "application/vnd.jupyter.widget-view+json": {
       "model_id": "3d6061e265d44009913dfc633552a929",
       "version_major": 2,
       "version_minor": 0
      },
      "text/plain": [
       "HBox(children=(IntProgress(value=0, description='Training iteration', max=27, style=ProgressStyle(description_…"
      ]
     },
     "metadata": {},
     "output_type": "display_data"
    },
    {
     "name": "stdout",
     "output_type": "stream",
     "text": [
      "\n"
     ]
    },
    {
     "data": {
      "application/vnd.jupyter.widget-view+json": {
       "model_id": "a95e0879c8684b5fa11cd0dfd10ec03b",
       "version_major": 2,
       "version_minor": 0
      },
      "text/plain": [
       "HBox(children=(IntProgress(value=0, description='Evaluation iteration', max=9, style=ProgressStyle(description…"
      ]
     },
     "metadata": {},
     "output_type": "display_data"
    },
    {
     "name": "stderr",
     "output_type": "stream",
     "text": [
      "\n",
      "Epoch:  60%|██████    | 12/20 [01:18<00:51,  6.41s/it]\u001b[A"
     ]
    },
    {
     "name": "stdout",
     "output_type": "stream",
     "text": [
      "\n",
      "Loss history: [1.653434885872735, 1.4084867503907945, 1.1605694360203214, 0.9438766804006364, 0.9253192179732852, 0.8716648088561164, 0.791989846362008, 0.8141893711354997, 0.8117420772711436, 0.7652361558543311, 0.7441992676920361]\n",
      "Dev loss: 0.746176133553187\n"
     ]
    },
    {
     "data": {
      "application/vnd.jupyter.widget-view+json": {
       "model_id": "adc84bf79e7044a2bd160e41bcf185ad",
       "version_major": 2,
       "version_minor": 0
      },
      "text/plain": [
       "HBox(children=(IntProgress(value=0, description='Training iteration', max=27, style=ProgressStyle(description_…"
      ]
     },
     "metadata": {},
     "output_type": "display_data"
    },
    {
     "name": "stdout",
     "output_type": "stream",
     "text": [
      "\n"
     ]
    },
    {
     "data": {
      "application/vnd.jupyter.widget-view+json": {
       "model_id": "1b7ac9a897a74137938c240387f47710",
       "version_major": 2,
       "version_minor": 0
      },
      "text/plain": [
       "HBox(children=(IntProgress(value=0, description='Evaluation iteration', max=9, style=ProgressStyle(description…"
      ]
     },
     "metadata": {},
     "output_type": "display_data"
    },
    {
     "name": "stdout",
     "output_type": "stream",
     "text": [
      "\n",
      "Loss history: [1.653434885872735, 1.4084867503907945, 1.1605694360203214, 0.9438766804006364, 0.9253192179732852, 0.8716648088561164, 0.791989846362008, 0.8141893711354997, 0.8117420772711436, 0.7652361558543311, 0.7441992676920361, 0.746176133553187]\n",
      "Dev loss: 0.7230991290675269\n"
     ]
    },
    {
     "name": "stderr",
     "output_type": "stream",
     "text": [
      "\n",
      "Epoch:  65%|██████▌   | 13/20 [01:24<00:45,  6.47s/it]\u001b[A"
     ]
    },
    {
     "data": {
      "application/vnd.jupyter.widget-view+json": {
       "model_id": "6640dd01f7d54ab98d774b87cdd92512",
       "version_major": 2,
       "version_minor": 0
      },
      "text/plain": [
       "HBox(children=(IntProgress(value=0, description='Training iteration', max=27, style=ProgressStyle(description_…"
      ]
     },
     "metadata": {},
     "output_type": "display_data"
    },
    {
     "name": "stdout",
     "output_type": "stream",
     "text": [
      "\n"
     ]
    },
    {
     "data": {
      "application/vnd.jupyter.widget-view+json": {
       "model_id": "94579edb8f7c40089e8691c6eff06076",
       "version_major": 2,
       "version_minor": 0
      },
      "text/plain": [
       "HBox(children=(IntProgress(value=0, description='Evaluation iteration', max=9, style=ProgressStyle(description…"
      ]
     },
     "metadata": {},
     "output_type": "display_data"
    },
    {
     "name": "stderr",
     "output_type": "stream",
     "text": [
      "\n",
      "Epoch:  70%|███████   | 14/20 [01:30<00:38,  6.38s/it]\u001b[A"
     ]
    },
    {
     "name": "stdout",
     "output_type": "stream",
     "text": [
      "\n",
      "Loss history: [1.653434885872735, 1.4084867503907945, 1.1605694360203214, 0.9438766804006364, 0.9253192179732852, 0.8716648088561164, 0.791989846362008, 0.8141893711354997, 0.8117420772711436, 0.7652361558543311, 0.7441992676920361, 0.746176133553187, 0.7230991290675269]\n",
      "Dev loss: 0.7487855090035332\n"
     ]
    },
    {
     "data": {
      "application/vnd.jupyter.widget-view+json": {
       "model_id": "571e84a660c84ae7a7e1ebd7f860f3d2",
       "version_major": 2,
       "version_minor": 0
      },
      "text/plain": [
       "HBox(children=(IntProgress(value=0, description='Training iteration', max=27, style=ProgressStyle(description_…"
      ]
     },
     "metadata": {},
     "output_type": "display_data"
    },
    {
     "name": "stdout",
     "output_type": "stream",
     "text": [
      "\n"
     ]
    },
    {
     "data": {
      "application/vnd.jupyter.widget-view+json": {
       "model_id": "78a0b4cfa78047358cf26a744356e754",
       "version_major": 2,
       "version_minor": 0
      },
      "text/plain": [
       "HBox(children=(IntProgress(value=0, description='Evaluation iteration', max=9, style=ProgressStyle(description…"
      ]
     },
     "metadata": {},
     "output_type": "display_data"
    },
    {
     "name": "stderr",
     "output_type": "stream",
     "text": [
      "\n",
      "Epoch:  75%|███████▌  | 15/20 [01:37<00:31,  6.32s/it]\u001b[A"
     ]
    },
    {
     "name": "stdout",
     "output_type": "stream",
     "text": [
      "\n",
      "Loss history: [1.653434885872735, 1.4084867503907945, 1.1605694360203214, 0.9438766804006364, 0.9253192179732852, 0.8716648088561164, 0.791989846362008, 0.8141893711354997, 0.8117420772711436, 0.7652361558543311, 0.7441992676920361, 0.746176133553187, 0.7230991290675269, 0.7487855090035332]\n",
      "Dev loss: 0.7410226331816779\n"
     ]
    },
    {
     "data": {
      "application/vnd.jupyter.widget-view+json": {
       "model_id": "0029a7752ecd4b7c9e8a019659aea9e3",
       "version_major": 2,
       "version_minor": 0
      },
      "text/plain": [
       "HBox(children=(IntProgress(value=0, description='Training iteration', max=27, style=ProgressStyle(description_…"
      ]
     },
     "metadata": {},
     "output_type": "display_data"
    },
    {
     "name": "stdout",
     "output_type": "stream",
     "text": [
      "\n"
     ]
    },
    {
     "data": {
      "application/vnd.jupyter.widget-view+json": {
       "model_id": "c272300a44b64a1baa7bcb765f2f3eb7",
       "version_major": 2,
       "version_minor": 0
      },
      "text/plain": [
       "HBox(children=(IntProgress(value=0, description='Evaluation iteration', max=9, style=ProgressStyle(description…"
      ]
     },
     "metadata": {},
     "output_type": "display_data"
    },
    {
     "name": "stderr",
     "output_type": "stream",
     "text": [
      "\n",
      "Epoch:  80%|████████  | 16/20 [01:43<00:25,  6.28s/it]\u001b[A"
     ]
    },
    {
     "name": "stdout",
     "output_type": "stream",
     "text": [
      "\n",
      "Loss history: [1.653434885872735, 1.4084867503907945, 1.1605694360203214, 0.9438766804006364, 0.9253192179732852, 0.8716648088561164, 0.791989846362008, 0.8141893711354997, 0.8117420772711436, 0.7652361558543311, 0.7441992676920361, 0.746176133553187, 0.7230991290675269, 0.7487855090035332, 0.7410226331816779]\n",
      "Dev loss: 0.7312250816159778\n"
     ]
    },
    {
     "data": {
      "application/vnd.jupyter.widget-view+json": {
       "model_id": "6e8010092c1b48ed94ce34568ad3f3a6",
       "version_major": 2,
       "version_minor": 0
      },
      "text/plain": [
       "HBox(children=(IntProgress(value=0, description='Training iteration', max=27, style=ProgressStyle(description_…"
      ]
     },
     "metadata": {},
     "output_type": "display_data"
    },
    {
     "name": "stdout",
     "output_type": "stream",
     "text": [
      "\n"
     ]
    },
    {
     "data": {
      "application/vnd.jupyter.widget-view+json": {
       "model_id": "06513ebf44184e2fa8ef48323f94db41",
       "version_major": 2,
       "version_minor": 0
      },
      "text/plain": [
       "HBox(children=(IntProgress(value=0, description='Evaluation iteration', max=9, style=ProgressStyle(description…"
      ]
     },
     "metadata": {},
     "output_type": "display_data"
    },
    {
     "name": "stderr",
     "output_type": "stream",
     "text": [
      "\n",
      "Epoch:  85%|████████▌ | 17/20 [01:49<00:18,  6.25s/it]\u001b[A"
     ]
    },
    {
     "name": "stdout",
     "output_type": "stream",
     "text": [
      "\n",
      "Loss history: [1.653434885872735, 1.4084867503907945, 1.1605694360203214, 0.9438766804006364, 0.9253192179732852, 0.8716648088561164, 0.791989846362008, 0.8141893711354997, 0.8117420772711436, 0.7652361558543311, 0.7441992676920361, 0.746176133553187, 0.7230991290675269, 0.7487855090035332, 0.7410226331816779, 0.7312250816159778]\n",
      "Dev loss: 0.7256852471166186\n"
     ]
    },
    {
     "data": {
      "application/vnd.jupyter.widget-view+json": {
       "model_id": "6f93bc299b0944e4b0ec6f77ec841e20",
       "version_major": 2,
       "version_minor": 0
      },
      "text/plain": [
       "HBox(children=(IntProgress(value=0, description='Training iteration', max=27, style=ProgressStyle(description_…"
      ]
     },
     "metadata": {},
     "output_type": "display_data"
    },
    {
     "name": "stdout",
     "output_type": "stream",
     "text": [
      "\n"
     ]
    },
    {
     "data": {
      "application/vnd.jupyter.widget-view+json": {
       "model_id": "736852e91c1e40f2950c808a4d4b5f1c",
       "version_major": 2,
       "version_minor": 0
      },
      "text/plain": [
       "HBox(children=(IntProgress(value=0, description='Evaluation iteration', max=9, style=ProgressStyle(description…"
      ]
     },
     "metadata": {},
     "output_type": "display_data"
    },
    {
     "name": "stdout",
     "output_type": "stream",
     "text": [
      "\n",
      "Loss history: [1.653434885872735, 1.4084867503907945, 1.1605694360203214, 0.9438766804006364, 0.9253192179732852, 0.8716648088561164, 0.791989846362008, 0.8141893711354997, 0.8117420772711436, 0.7652361558543311, 0.7441992676920361, 0.746176133553187, 0.7230991290675269, 0.7487855090035332, 0.7410226331816779, 0.7312250816159778, 0.7256852471166186]\n",
      "Dev loss: 0.7192803306712044\n"
     ]
    },
    {
     "name": "stderr",
     "output_type": "stream",
     "text": [
      "\n",
      "Epoch:  90%|█████████ | 18/20 [01:56<00:12,  6.36s/it]\u001b[A"
     ]
    },
    {
     "data": {
      "application/vnd.jupyter.widget-view+json": {
       "model_id": "3a3a0846bf61479f83527f37feee5984",
       "version_major": 2,
       "version_minor": 0
      },
      "text/plain": [
       "HBox(children=(IntProgress(value=0, description='Training iteration', max=27, style=ProgressStyle(description_…"
      ]
     },
     "metadata": {},
     "output_type": "display_data"
    },
    {
     "name": "stdout",
     "output_type": "stream",
     "text": [
      "\n"
     ]
    },
    {
     "data": {
      "application/vnd.jupyter.widget-view+json": {
       "model_id": "299e3b629fa640ffaef9e1c2fdd09b0a",
       "version_major": 2,
       "version_minor": 0
      },
      "text/plain": [
       "HBox(children=(IntProgress(value=0, description='Evaluation iteration', max=9, style=ProgressStyle(description…"
      ]
     },
     "metadata": {},
     "output_type": "display_data"
    },
    {
     "name": "stderr",
     "output_type": "stream",
     "text": [
      "\n",
      "Epoch:  95%|█████████▌| 19/20 [02:02<00:06,  6.30s/it]\u001b[A"
     ]
    },
    {
     "name": "stdout",
     "output_type": "stream",
     "text": [
      "\n",
      "Loss history: [1.653434885872735, 1.4084867503907945, 1.1605694360203214, 0.9438766804006364, 0.9253192179732852, 0.8716648088561164, 0.791989846362008, 0.8141893711354997, 0.8117420772711436, 0.7652361558543311, 0.7441992676920361, 0.746176133553187, 0.7230991290675269, 0.7487855090035332, 0.7410226331816779, 0.7312250816159778, 0.7256852471166186, 0.7192803306712044]\n",
      "Dev loss: 0.7326894402503967\n"
     ]
    },
    {
     "data": {
      "application/vnd.jupyter.widget-view+json": {
       "model_id": "77ce51e422834da6b723edc0aa8a4e31",
       "version_major": 2,
       "version_minor": 0
      },
      "text/plain": [
       "HBox(children=(IntProgress(value=0, description='Training iteration', max=27, style=ProgressStyle(description_…"
      ]
     },
     "metadata": {},
     "output_type": "display_data"
    },
    {
     "name": "stdout",
     "output_type": "stream",
     "text": [
      "\n"
     ]
    },
    {
     "data": {
      "application/vnd.jupyter.widget-view+json": {
       "model_id": "2a48c6192e6e4c9fad52eecae0e06e7a",
       "version_major": 2,
       "version_minor": 0
      },
      "text/plain": [
       "HBox(children=(IntProgress(value=0, description='Evaluation iteration', max=9, style=ProgressStyle(description…"
      ]
     },
     "metadata": {},
     "output_type": "display_data"
    },
    {
     "name": "stderr",
     "output_type": "stream",
     "text": [
      "\n",
      "Epoch: 100%|██████████| 20/20 [02:08<00:00,  6.27s/it]\u001b[A\n",
      "\u001b[A"
     ]
    },
    {
     "name": "stdout",
     "output_type": "stream",
     "text": [
      "\n",
      "Loss history: [1.653434885872735, 1.4084867503907945, 1.1605694360203214, 0.9438766804006364, 0.9253192179732852, 0.8716648088561164, 0.791989846362008, 0.8141893711354997, 0.8117420772711436, 0.7652361558543311, 0.7441992676920361, 0.746176133553187, 0.7230991290675269, 0.7487855090035332, 0.7410226331816779, 0.7312250816159778, 0.7256852471166186, 0.7192803306712044, 0.7326894402503967]\n",
      "Dev loss: 0.7385553105009927\n",
      "Loading model from /tmp/model.bin\n"
     ]
    },
    {
     "name": "stderr",
     "output_type": "stream",
     "text": [
      "I0404 10:02:09.561176 140621602613056 configuration_utils.py:256] loading configuration file https://s3.amazonaws.com/models.huggingface.co/bert/bert-base-uncased-config.json from cache at /home/yves/.cache/torch/transformers/4dad0251492946e18ac39290fcfe91b89d370fee250efe9521476438fe8ca185.8f56353af4a709bf5ff0fbc915d8f5b42bfff892cbb6ac98c3c45f481a03c685\n",
      "I0404 10:02:09.562777 140621602613056 configuration_utils.py:292] Model config BertConfig {\n",
      "  \"architectures\": [\n",
      "    \"BertForMaskedLM\"\n",
      "  ],\n",
      "  \"attention_probs_dropout_prob\": 0.1,\n",
      "  \"bos_token_id\": null,\n",
      "  \"do_sample\": false,\n",
      "  \"eos_token_ids\": null,\n",
      "  \"finetuning_task\": null,\n",
      "  \"hidden_act\": \"gelu\",\n",
      "  \"hidden_dropout_prob\": 0.1,\n",
      "  \"hidden_size\": 768,\n",
      "  \"id2label\": {\n",
      "    \"0\": \"LABEL_0\",\n",
      "    \"1\": \"LABEL_1\"\n",
      "  },\n",
      "  \"initializer_range\": 0.02,\n",
      "  \"intermediate_size\": 3072,\n",
      "  \"is_decoder\": false,\n",
      "  \"label2id\": {\n",
      "    \"LABEL_0\": 0,\n",
      "    \"LABEL_1\": 1\n",
      "  },\n",
      "  \"layer_norm_eps\": 1e-12,\n",
      "  \"length_penalty\": 1.0,\n",
      "  \"max_length\": 20,\n",
      "  \"max_position_embeddings\": 512,\n",
      "  \"model_type\": \"bert\",\n",
      "  \"num_attention_heads\": 12,\n",
      "  \"num_beams\": 1,\n",
      "  \"num_hidden_layers\": 12,\n",
      "  \"num_labels\": 10,\n",
      "  \"num_return_sequences\": 1,\n",
      "  \"output_attentions\": false,\n",
      "  \"output_hidden_states\": false,\n",
      "  \"output_past\": true,\n",
      "  \"pad_token_id\": null,\n",
      "  \"pruned_heads\": {},\n",
      "  \"repetition_penalty\": 1.0,\n",
      "  \"temperature\": 1.0,\n",
      "  \"top_k\": 50,\n",
      "  \"top_p\": 1.0,\n",
      "  \"torchscript\": false,\n",
      "  \"type_vocab_size\": 2,\n",
      "  \"use_bfloat16\": false,\n",
      "  \"vocab_size\": 30522\n",
      "}\n",
      "\n",
      "I0404 10:02:10.034111 140621602613056 modeling_utils.py:461] loading weights file https://s3.amazonaws.com/models.huggingface.co/bert/bert-base-uncased-pytorch_model.bin from cache at /home/yves/.cache/torch/transformers/aa1ef1aede4482d0dbcd4d52baad8ae300e60902e88fcb0bebdec09afd232066.36ca03ab34a1a5d5fa7bc3d03d55c4fa650fed07220e2eeebc06ce58d0e9a157\n"
     ]
    },
    {
     "data": {
      "application/vnd.jupyter.widget-view+json": {
       "model_id": "2c015b95dc0a44e783f2e481dc30037b",
       "version_major": 2,
       "version_minor": 0
      },
      "text/plain": [
       "HBox(children=(IntProgress(value=0, description='Evaluation iteration', max=9, style=ProgressStyle(description…"
      ]
     },
     "metadata": {},
     "output_type": "display_data"
    },
    {
     "name": "stdout",
     "output_type": "stream",
     "text": [
      "\n"
     ]
    },
    {
     "name": "stderr",
     "output_type": "stream",
     "text": [
      "I0404 10:02:15.367894 140621602613056 configuration_utils.py:256] loading configuration file https://s3.amazonaws.com/models.huggingface.co/bert/bert-base-uncased-config.json from cache at /home/yves/.cache/torch/transformers/4dad0251492946e18ac39290fcfe91b89d370fee250efe9521476438fe8ca185.8f56353af4a709bf5ff0fbc915d8f5b42bfff892cbb6ac98c3c45f481a03c685\n",
      "I0404 10:02:15.369500 140621602613056 configuration_utils.py:292] Model config BertConfig {\n",
      "  \"architectures\": [\n",
      "    \"BertForMaskedLM\"\n",
      "  ],\n",
      "  \"attention_probs_dropout_prob\": 0.1,\n",
      "  \"bos_token_id\": null,\n",
      "  \"do_sample\": false,\n",
      "  \"eos_token_ids\": null,\n",
      "  \"finetuning_task\": null,\n",
      "  \"hidden_act\": \"gelu\",\n",
      "  \"hidden_dropout_prob\": 0.1,\n",
      "  \"hidden_size\": 768,\n",
      "  \"id2label\": {\n",
      "    \"0\": \"LABEL_0\",\n",
      "    \"1\": \"LABEL_1\"\n",
      "  },\n",
      "  \"initializer_range\": 0.02,\n",
      "  \"intermediate_size\": 3072,\n",
      "  \"is_decoder\": false,\n",
      "  \"label2id\": {\n",
      "    \"LABEL_0\": 0,\n",
      "    \"LABEL_1\": 1\n",
      "  },\n",
      "  \"layer_norm_eps\": 1e-12,\n",
      "  \"length_penalty\": 1.0,\n",
      "  \"max_length\": 20,\n",
      "  \"max_position_embeddings\": 512,\n",
      "  \"model_type\": \"bert\",\n",
      "  \"num_attention_heads\": 12,\n",
      "  \"num_beams\": 1,\n",
      "  \"num_hidden_layers\": 12,\n",
      "  \"num_labels\": 10,\n",
      "  \"num_return_sequences\": 1,\n",
      "  \"output_attentions\": false,\n",
      "  \"output_hidden_states\": false,\n",
      "  \"output_past\": true,\n",
      "  \"pad_token_id\": null,\n",
      "  \"pruned_heads\": {},\n",
      "  \"repetition_penalty\": 1.0,\n",
      "  \"temperature\": 1.0,\n",
      "  \"top_k\": 50,\n",
      "  \"top_p\": 1.0,\n",
      "  \"torchscript\": false,\n",
      "  \"type_vocab_size\": 2,\n",
      "  \"use_bfloat16\": false,\n",
      "  \"vocab_size\": 30522\n",
      "}\n",
      "\n",
      "I0404 10:02:15.840069 140621602613056 modeling_utils.py:461] loading weights file https://s3.amazonaws.com/models.huggingface.co/bert/bert-base-uncased-pytorch_model.bin from cache at /home/yves/.cache/torch/transformers/aa1ef1aede4482d0dbcd4d52baad8ae300e60902e88fcb0bebdec09afd232066.36ca03ab34a1a5d5fa7bc3d03d55c4fa650fed07220e2eeebc06ce58d0e9a157\n",
      "I0404 10:02:17.433244 140621602613056 modeling_utils.py:546] Weights of BertForSequenceClassification not initialized from pretrained model: ['classifier.weight', 'classifier.bias']\n",
      "I0404 10:02:17.434217 140621602613056 modeling_utils.py:552] Weights from pretrained model not used in BertForSequenceClassification: ['cls.predictions.bias', 'cls.predictions.transform.dense.weight', 'cls.predictions.transform.dense.bias', 'cls.predictions.decoder.weight', 'cls.seq_relationship.weight', 'cls.seq_relationship.bias', 'cls.predictions.transform.LayerNorm.weight', 'cls.predictions.transform.LayerNorm.bias']\n",
      "\n",
      "Epoch:   0%|          | 0/20 [00:00<?, ?it/s]\u001b[A"
     ]
    },
    {
     "data": {
      "application/vnd.jupyter.widget-view+json": {
       "model_id": "1a431905e8d34a67a3c200a2eee36af1",
       "version_major": 2,
       "version_minor": 0
      },
      "text/plain": [
       "HBox(children=(IntProgress(value=0, description='Training iteration', max=27, style=ProgressStyle(description_…"
      ]
     },
     "metadata": {},
     "output_type": "display_data"
    },
    {
     "name": "stdout",
     "output_type": "stream",
     "text": [
      "\n"
     ]
    },
    {
     "data": {
      "application/vnd.jupyter.widget-view+json": {
       "model_id": "b679068eea394a7195e36ebc161300a1",
       "version_major": 2,
       "version_minor": 0
      },
      "text/plain": [
       "HBox(children=(IntProgress(value=0, description='Evaluation iteration', max=9, style=ProgressStyle(description…"
      ]
     },
     "metadata": {},
     "output_type": "display_data"
    },
    {
     "name": "stdout",
     "output_type": "stream",
     "text": [
      "\n",
      "Loss history: []\n",
      "Dev loss: 1.924617264005873\n"
     ]
    },
    {
     "name": "stderr",
     "output_type": "stream",
     "text": [
      "\n",
      "Epoch:   5%|▌         | 1/20 [00:06<02:06,  6.63s/it]\u001b[A"
     ]
    },
    {
     "data": {
      "application/vnd.jupyter.widget-view+json": {
       "model_id": "290a20a8d02b44008ed69eafd6c1fccf",
       "version_major": 2,
       "version_minor": 0
      },
      "text/plain": [
       "HBox(children=(IntProgress(value=0, description='Training iteration', max=27, style=ProgressStyle(description_…"
      ]
     },
     "metadata": {},
     "output_type": "display_data"
    },
    {
     "name": "stdout",
     "output_type": "stream",
     "text": [
      "\n"
     ]
    },
    {
     "data": {
      "application/vnd.jupyter.widget-view+json": {
       "model_id": "a5926415e9a3401896dfd5e51f41559b",
       "version_major": 2,
       "version_minor": 0
      },
      "text/plain": [
       "HBox(children=(IntProgress(value=0, description='Evaluation iteration', max=9, style=ProgressStyle(description…"
      ]
     },
     "metadata": {},
     "output_type": "display_data"
    },
    {
     "name": "stdout",
     "output_type": "stream",
     "text": [
      "\n",
      "Loss history: [1.924617264005873]\n",
      "Dev loss: 1.588990052541097\n"
     ]
    },
    {
     "name": "stderr",
     "output_type": "stream",
     "text": [
      "\n",
      "Epoch:  10%|█         | 2/20 [00:13<01:59,  6.63s/it]\u001b[A"
     ]
    },
    {
     "data": {
      "application/vnd.jupyter.widget-view+json": {
       "model_id": "22ae02c9e1964165a56f6b98aaa1af28",
       "version_major": 2,
       "version_minor": 0
      },
      "text/plain": [
       "HBox(children=(IntProgress(value=0, description='Training iteration', max=27, style=ProgressStyle(description_…"
      ]
     },
     "metadata": {},
     "output_type": "display_data"
    },
    {
     "name": "stdout",
     "output_type": "stream",
     "text": [
      "\n"
     ]
    },
    {
     "data": {
      "application/vnd.jupyter.widget-view+json": {
       "model_id": "bce93aa2d6924075979f7778fa0d662c",
       "version_major": 2,
       "version_minor": 0
      },
      "text/plain": [
       "HBox(children=(IntProgress(value=0, description='Evaluation iteration', max=9, style=ProgressStyle(description…"
      ]
     },
     "metadata": {},
     "output_type": "display_data"
    },
    {
     "name": "stdout",
     "output_type": "stream",
     "text": [
      "\n",
      "Loss history: [1.924617264005873, 1.588990052541097]\n",
      "Dev loss: 1.5806211696730719\n"
     ]
    },
    {
     "name": "stderr",
     "output_type": "stream",
     "text": [
      "\n",
      "Epoch:  15%|█▌        | 3/20 [00:19<01:52,  6.63s/it]\u001b[A"
     ]
    },
    {
     "data": {
      "application/vnd.jupyter.widget-view+json": {
       "model_id": "5c5777af78e8492db90bdbf420bc204d",
       "version_major": 2,
       "version_minor": 0
      },
      "text/plain": [
       "HBox(children=(IntProgress(value=0, description='Training iteration', max=27, style=ProgressStyle(description_…"
      ]
     },
     "metadata": {},
     "output_type": "display_data"
    },
    {
     "name": "stdout",
     "output_type": "stream",
     "text": [
      "\n"
     ]
    },
    {
     "data": {
      "application/vnd.jupyter.widget-view+json": {
       "model_id": "109a2c8385e9443a85a90bb56e95c316",
       "version_major": 2,
       "version_minor": 0
      },
      "text/plain": [
       "HBox(children=(IntProgress(value=0, description='Evaluation iteration', max=9, style=ProgressStyle(description…"
      ]
     },
     "metadata": {},
     "output_type": "display_data"
    },
    {
     "name": "stdout",
     "output_type": "stream",
     "text": [
      "\n",
      "Loss history: [1.924617264005873, 1.588990052541097, 1.5806211696730719]\n",
      "Dev loss: 1.2724697788556416\n"
     ]
    },
    {
     "name": "stderr",
     "output_type": "stream",
     "text": [
      "\n",
      "Epoch:  20%|██        | 4/20 [00:26<01:46,  6.63s/it]\u001b[A"
     ]
    },
    {
     "data": {
      "application/vnd.jupyter.widget-view+json": {
       "model_id": "534092096cb54005ab526baf308978a0",
       "version_major": 2,
       "version_minor": 0
      },
      "text/plain": [
       "HBox(children=(IntProgress(value=0, description='Training iteration', max=27, style=ProgressStyle(description_…"
      ]
     },
     "metadata": {},
     "output_type": "display_data"
    },
    {
     "name": "stdout",
     "output_type": "stream",
     "text": [
      "\n"
     ]
    },
    {
     "data": {
      "application/vnd.jupyter.widget-view+json": {
       "model_id": "fa016283a6444b1bac47aedbb39fb95a",
       "version_major": 2,
       "version_minor": 0
      },
      "text/plain": [
       "HBox(children=(IntProgress(value=0, description='Evaluation iteration', max=9, style=ProgressStyle(description…"
      ]
     },
     "metadata": {},
     "output_type": "display_data"
    },
    {
     "name": "stdout",
     "output_type": "stream",
     "text": [
      "\n",
      "Loss history: [1.924617264005873, 1.588990052541097, 1.5806211696730719, 1.2724697788556416]\n",
      "Dev loss: 1.0437237620353699\n"
     ]
    },
    {
     "name": "stderr",
     "output_type": "stream",
     "text": [
      "\n",
      "Epoch:  25%|██▌       | 5/20 [00:33<01:39,  6.63s/it]\u001b[A"
     ]
    },
    {
     "data": {
      "application/vnd.jupyter.widget-view+json": {
       "model_id": "09f1957f45ff499096ef7c22ed7545a9",
       "version_major": 2,
       "version_minor": 0
      },
      "text/plain": [
       "HBox(children=(IntProgress(value=0, description='Training iteration', max=27, style=ProgressStyle(description_…"
      ]
     },
     "metadata": {},
     "output_type": "display_data"
    },
    {
     "name": "stdout",
     "output_type": "stream",
     "text": [
      "\n"
     ]
    },
    {
     "data": {
      "application/vnd.jupyter.widget-view+json": {
       "model_id": "cc3c5ef1afe945e790761d1d0b7e777f",
       "version_major": 2,
       "version_minor": 0
      },
      "text/plain": [
       "HBox(children=(IntProgress(value=0, description='Evaluation iteration', max=9, style=ProgressStyle(description…"
      ]
     },
     "metadata": {},
     "output_type": "display_data"
    },
    {
     "name": "stdout",
     "output_type": "stream",
     "text": [
      "\n",
      "Loss history: [1.924617264005873, 1.588990052541097, 1.5806211696730719, 1.2724697788556416, 1.0437237620353699]\n",
      "Dev loss: 0.9297102888425192\n"
     ]
    },
    {
     "name": "stderr",
     "output_type": "stream",
     "text": [
      "\n",
      "Epoch:  30%|███       | 6/20 [00:39<01:32,  6.63s/it]\u001b[A"
     ]
    },
    {
     "data": {
      "application/vnd.jupyter.widget-view+json": {
       "model_id": "6e4accdff67d45cb8b45ecf6c514d93d",
       "version_major": 2,
       "version_minor": 0
      },
      "text/plain": [
       "HBox(children=(IntProgress(value=0, description='Training iteration', max=27, style=ProgressStyle(description_…"
      ]
     },
     "metadata": {},
     "output_type": "display_data"
    },
    {
     "name": "stdout",
     "output_type": "stream",
     "text": [
      "\n"
     ]
    },
    {
     "data": {
      "application/vnd.jupyter.widget-view+json": {
       "model_id": "78d1a9c681614e7faa7cc312f0c373e9",
       "version_major": 2,
       "version_minor": 0
      },
      "text/plain": [
       "HBox(children=(IntProgress(value=0, description='Evaluation iteration', max=9, style=ProgressStyle(description…"
      ]
     },
     "metadata": {},
     "output_type": "display_data"
    },
    {
     "name": "stdout",
     "output_type": "stream",
     "text": [
      "\n",
      "Loss history: [1.924617264005873, 1.588990052541097, 1.5806211696730719, 1.2724697788556416, 1.0437237620353699, 0.9297102888425192]\n",
      "Dev loss: 0.8672048780653212\n"
     ]
    },
    {
     "name": "stderr",
     "output_type": "stream",
     "text": [
      "\n",
      "Epoch:  35%|███▌      | 7/20 [00:46<01:26,  6.63s/it]\u001b[A"
     ]
    },
    {
     "data": {
      "application/vnd.jupyter.widget-view+json": {
       "model_id": "5a8b71ed58934c81a7b4ab92d8f03171",
       "version_major": 2,
       "version_minor": 0
      },
      "text/plain": [
       "HBox(children=(IntProgress(value=0, description='Training iteration', max=27, style=ProgressStyle(description_…"
      ]
     },
     "metadata": {},
     "output_type": "display_data"
    },
    {
     "name": "stdout",
     "output_type": "stream",
     "text": [
      "\n"
     ]
    },
    {
     "data": {
      "application/vnd.jupyter.widget-view+json": {
       "model_id": "dae7a9f3f8fa418294a3b848cf15e4a4",
       "version_major": 2,
       "version_minor": 0
      },
      "text/plain": [
       "HBox(children=(IntProgress(value=0, description='Evaluation iteration', max=9, style=ProgressStyle(description…"
      ]
     },
     "metadata": {},
     "output_type": "display_data"
    },
    {
     "name": "stdout",
     "output_type": "stream",
     "text": [
      "\n",
      "Loss history: [1.924617264005873, 1.588990052541097, 1.5806211696730719, 1.2724697788556416, 1.0437237620353699, 0.9297102888425192, 0.8672048780653212]\n",
      "Dev loss: 0.8122357428073883\n"
     ]
    },
    {
     "name": "stderr",
     "output_type": "stream",
     "text": [
      "\n",
      "Epoch:  40%|████      | 8/20 [00:53<01:19,  6.63s/it]\u001b[A"
     ]
    },
    {
     "data": {
      "application/vnd.jupyter.widget-view+json": {
       "model_id": "34657e0a3dfe4bd28ee316d9909da453",
       "version_major": 2,
       "version_minor": 0
      },
      "text/plain": [
       "HBox(children=(IntProgress(value=0, description='Training iteration', max=27, style=ProgressStyle(description_…"
      ]
     },
     "metadata": {},
     "output_type": "display_data"
    },
    {
     "name": "stdout",
     "output_type": "stream",
     "text": [
      "\n"
     ]
    },
    {
     "data": {
      "application/vnd.jupyter.widget-view+json": {
       "model_id": "a7af42d6e4564eaa9fd94260a51f9b10",
       "version_major": 2,
       "version_minor": 0
      },
      "text/plain": [
       "HBox(children=(IntProgress(value=0, description='Evaluation iteration', max=9, style=ProgressStyle(description…"
      ]
     },
     "metadata": {},
     "output_type": "display_data"
    },
    {
     "name": "stdout",
     "output_type": "stream",
     "text": [
      "\n",
      "Loss history: [1.924617264005873, 1.588990052541097, 1.5806211696730719, 1.2724697788556416, 1.0437237620353699, 0.9297102888425192, 0.8672048780653212, 0.8122357428073883]\n",
      "Dev loss: 0.7851364413897196\n"
     ]
    },
    {
     "name": "stderr",
     "output_type": "stream",
     "text": [
      "\n",
      "Epoch:  45%|████▌     | 9/20 [00:59<01:12,  6.62s/it]\u001b[A"
     ]
    },
    {
     "data": {
      "application/vnd.jupyter.widget-view+json": {
       "model_id": "82bc1d6c11544a10be648466502af322",
       "version_major": 2,
       "version_minor": 0
      },
      "text/plain": [
       "HBox(children=(IntProgress(value=0, description='Training iteration', max=27, style=ProgressStyle(description_…"
      ]
     },
     "metadata": {},
     "output_type": "display_data"
    },
    {
     "name": "stdout",
     "output_type": "stream",
     "text": [
      "\n"
     ]
    },
    {
     "data": {
      "application/vnd.jupyter.widget-view+json": {
       "model_id": "fad8b639706b482ba93c202cf61fdbf2",
       "version_major": 2,
       "version_minor": 0
      },
      "text/plain": [
       "HBox(children=(IntProgress(value=0, description='Evaluation iteration', max=9, style=ProgressStyle(description…"
      ]
     },
     "metadata": {},
     "output_type": "display_data"
    },
    {
     "name": "stdout",
     "output_type": "stream",
     "text": [
      "\n",
      "Loss history: [1.924617264005873, 1.588990052541097, 1.5806211696730719, 1.2724697788556416, 1.0437237620353699, 0.9297102888425192, 0.8672048780653212, 0.8122357428073883, 0.7851364413897196]\n",
      "Dev loss: 0.7586074504587386\n"
     ]
    },
    {
     "name": "stderr",
     "output_type": "stream",
     "text": [
      "\n",
      "Epoch:  50%|█████     | 10/20 [01:06<01:06,  6.63s/it]\u001b[A"
     ]
    },
    {
     "data": {
      "application/vnd.jupyter.widget-view+json": {
       "model_id": "29425f2d916641b8bd2a7900abef1188",
       "version_major": 2,
       "version_minor": 0
      },
      "text/plain": [
       "HBox(children=(IntProgress(value=0, description='Training iteration', max=27, style=ProgressStyle(description_…"
      ]
     },
     "metadata": {},
     "output_type": "display_data"
    },
    {
     "name": "stdout",
     "output_type": "stream",
     "text": [
      "\n"
     ]
    },
    {
     "data": {
      "application/vnd.jupyter.widget-view+json": {
       "model_id": "597702e1f7344bf6835104c0bd174eff",
       "version_major": 2,
       "version_minor": 0
      },
      "text/plain": [
       "HBox(children=(IntProgress(value=0, description='Evaluation iteration', max=9, style=ProgressStyle(description…"
      ]
     },
     "metadata": {},
     "output_type": "display_data"
    },
    {
     "name": "stdout",
     "output_type": "stream",
     "text": [
      "\n",
      "Loss history: [1.924617264005873, 1.588990052541097, 1.5806211696730719, 1.2724697788556416, 1.0437237620353699, 0.9297102888425192, 0.8672048780653212, 0.8122357428073883, 0.7851364413897196, 0.7586074504587386]\n",
      "Dev loss: 0.7412183052963681\n"
     ]
    },
    {
     "name": "stderr",
     "output_type": "stream",
     "text": [
      "\n",
      "Epoch:  55%|█████▌    | 11/20 [01:12<00:59,  6.63s/it]\u001b[A"
     ]
    },
    {
     "data": {
      "application/vnd.jupyter.widget-view+json": {
       "model_id": "c75f7f78db6f4a548528740ba501a4a1",
       "version_major": 2,
       "version_minor": 0
      },
      "text/plain": [
       "HBox(children=(IntProgress(value=0, description='Training iteration', max=27, style=ProgressStyle(description_…"
      ]
     },
     "metadata": {},
     "output_type": "display_data"
    },
    {
     "name": "stdout",
     "output_type": "stream",
     "text": [
      "\n"
     ]
    },
    {
     "data": {
      "application/vnd.jupyter.widget-view+json": {
       "model_id": "340fb709dc7b45c58989d84051bad603",
       "version_major": 2,
       "version_minor": 0
      },
      "text/plain": [
       "HBox(children=(IntProgress(value=0, description='Evaluation iteration', max=9, style=ProgressStyle(description…"
      ]
     },
     "metadata": {},
     "output_type": "display_data"
    },
    {
     "name": "stdout",
     "output_type": "stream",
     "text": [
      "\n",
      "Loss history: [1.924617264005873, 1.588990052541097, 1.5806211696730719, 1.2724697788556416, 1.0437237620353699, 0.9297102888425192, 0.8672048780653212, 0.8122357428073883, 0.7851364413897196, 0.7586074504587386, 0.7412183052963681]\n",
      "Dev loss: 0.6999309377537833\n"
     ]
    },
    {
     "name": "stderr",
     "output_type": "stream",
     "text": [
      "\n",
      "Epoch:  60%|██████    | 12/20 [01:19<00:53,  6.63s/it]\u001b[A"
     ]
    },
    {
     "data": {
      "application/vnd.jupyter.widget-view+json": {
       "model_id": "74dc1515bf6e4ee3960829f32d31d5f5",
       "version_major": 2,
       "version_minor": 0
      },
      "text/plain": [
       "HBox(children=(IntProgress(value=0, description='Training iteration', max=27, style=ProgressStyle(description_…"
      ]
     },
     "metadata": {},
     "output_type": "display_data"
    },
    {
     "name": "stdout",
     "output_type": "stream",
     "text": [
      "\n"
     ]
    },
    {
     "data": {
      "application/vnd.jupyter.widget-view+json": {
       "model_id": "daed4bd985b64c509bb9110281615c00",
       "version_major": 2,
       "version_minor": 0
      },
      "text/plain": [
       "HBox(children=(IntProgress(value=0, description='Evaluation iteration', max=9, style=ProgressStyle(description…"
      ]
     },
     "metadata": {},
     "output_type": "display_data"
    },
    {
     "name": "stdout",
     "output_type": "stream",
     "text": [
      "\n",
      "Loss history: [1.924617264005873, 1.588990052541097, 1.5806211696730719, 1.2724697788556416, 1.0437237620353699, 0.9297102888425192, 0.8672048780653212, 0.8122357428073883, 0.7851364413897196, 0.7586074504587386, 0.7412183052963681, 0.6999309377537833]\n",
      "Dev loss: 0.6976620621151395\n"
     ]
    },
    {
     "name": "stderr",
     "output_type": "stream",
     "text": [
      "\n",
      "Epoch:  65%|██████▌   | 13/20 [01:26<00:46,  6.63s/it]\u001b[A"
     ]
    },
    {
     "data": {
      "application/vnd.jupyter.widget-view+json": {
       "model_id": "bbd9371db4644846b7fce88b6888c5ea",
       "version_major": 2,
       "version_minor": 0
      },
      "text/plain": [
       "HBox(children=(IntProgress(value=0, description='Training iteration', max=27, style=ProgressStyle(description_…"
      ]
     },
     "metadata": {},
     "output_type": "display_data"
    },
    {
     "name": "stdout",
     "output_type": "stream",
     "text": [
      "\n"
     ]
    },
    {
     "data": {
      "application/vnd.jupyter.widget-view+json": {
       "model_id": "69da43ca0a1b45099420cc92a208d771",
       "version_major": 2,
       "version_minor": 0
      },
      "text/plain": [
       "HBox(children=(IntProgress(value=0, description='Evaluation iteration', max=9, style=ProgressStyle(description…"
      ]
     },
     "metadata": {},
     "output_type": "display_data"
    },
    {
     "name": "stderr",
     "output_type": "stream",
     "text": [
      "\n",
      "Epoch:  70%|███████   | 14/20 [01:32<00:38,  6.49s/it]\u001b[A"
     ]
    },
    {
     "name": "stdout",
     "output_type": "stream",
     "text": [
      "\n",
      "Loss history: [1.924617264005873, 1.588990052541097, 1.5806211696730719, 1.2724697788556416, 1.0437237620353699, 0.9297102888425192, 0.8672048780653212, 0.8122357428073883, 0.7851364413897196, 0.7586074504587386, 0.7412183052963681, 0.6999309377537833, 0.6976620621151395]\n",
      "Dev loss: 0.7007838487625122\n"
     ]
    },
    {
     "data": {
      "application/vnd.jupyter.widget-view+json": {
       "model_id": "03f77c58c4664b58b7c5b49322d2724f",
       "version_major": 2,
       "version_minor": 0
      },
      "text/plain": [
       "HBox(children=(IntProgress(value=0, description='Training iteration', max=27, style=ProgressStyle(description_…"
      ]
     },
     "metadata": {},
     "output_type": "display_data"
    },
    {
     "name": "stdout",
     "output_type": "stream",
     "text": [
      "\n"
     ]
    },
    {
     "data": {
      "application/vnd.jupyter.widget-view+json": {
       "model_id": "4981d981f59e4684855db13ffc7a2454",
       "version_major": 2,
       "version_minor": 0
      },
      "text/plain": [
       "HBox(children=(IntProgress(value=0, description='Evaluation iteration', max=9, style=ProgressStyle(description…"
      ]
     },
     "metadata": {},
     "output_type": "display_data"
    },
    {
     "name": "stdout",
     "output_type": "stream",
     "text": [
      "\n",
      "Loss history: [1.924617264005873, 1.588990052541097, 1.5806211696730719, 1.2724697788556416, 1.0437237620353699, 0.9297102888425192, 0.8672048780653212, 0.8122357428073883, 0.7851364413897196, 0.7586074504587386, 0.7412183052963681, 0.6999309377537833, 0.6976620621151395, 0.7007838487625122]\n",
      "Dev loss: 0.6808620227707757\n"
     ]
    },
    {
     "name": "stderr",
     "output_type": "stream",
     "text": [
      "\n",
      "Epoch:  75%|███████▌  | 15/20 [01:38<00:32,  6.53s/it]\u001b[A"
     ]
    },
    {
     "data": {
      "application/vnd.jupyter.widget-view+json": {
       "model_id": "a2de4293575d4e04a9351ee56c0c2095",
       "version_major": 2,
       "version_minor": 0
      },
      "text/plain": [
       "HBox(children=(IntProgress(value=0, description='Training iteration', max=27, style=ProgressStyle(description_…"
      ]
     },
     "metadata": {},
     "output_type": "display_data"
    },
    {
     "name": "stdout",
     "output_type": "stream",
     "text": [
      "\n"
     ]
    },
    {
     "data": {
      "application/vnd.jupyter.widget-view+json": {
       "model_id": "f934d526dab64d38a9be4ea0827dee5b",
       "version_major": 2,
       "version_minor": 0
      },
      "text/plain": [
       "HBox(children=(IntProgress(value=0, description='Evaluation iteration', max=9, style=ProgressStyle(description…"
      ]
     },
     "metadata": {},
     "output_type": "display_data"
    },
    {
     "name": "stdout",
     "output_type": "stream",
     "text": [
      "\n",
      "Loss history: [1.924617264005873, 1.588990052541097, 1.5806211696730719, 1.2724697788556416, 1.0437237620353699, 0.9297102888425192, 0.8672048780653212, 0.8122357428073883, 0.7851364413897196, 0.7586074504587386, 0.7412183052963681, 0.6999309377537833, 0.6976620621151395, 0.7007838487625122, 0.6808620227707757]\n",
      "Dev loss: 0.6734292035301527\n"
     ]
    },
    {
     "name": "stderr",
     "output_type": "stream",
     "text": [
      "\n",
      "Epoch:  80%|████████  | 16/20 [01:45<00:26,  6.56s/it]\u001b[A"
     ]
    },
    {
     "data": {
      "application/vnd.jupyter.widget-view+json": {
       "model_id": "720d80c8af3d45d8848b7921b1c19ac1",
       "version_major": 2,
       "version_minor": 0
      },
      "text/plain": [
       "HBox(children=(IntProgress(value=0, description='Training iteration', max=27, style=ProgressStyle(description_…"
      ]
     },
     "metadata": {},
     "output_type": "display_data"
    },
    {
     "name": "stdout",
     "output_type": "stream",
     "text": [
      "\n"
     ]
    },
    {
     "data": {
      "application/vnd.jupyter.widget-view+json": {
       "model_id": "af53cb1663a4451eb407e051a77b2f63",
       "version_major": 2,
       "version_minor": 0
      },
      "text/plain": [
       "HBox(children=(IntProgress(value=0, description='Evaluation iteration', max=9, style=ProgressStyle(description…"
      ]
     },
     "metadata": {},
     "output_type": "display_data"
    },
    {
     "name": "stderr",
     "output_type": "stream",
     "text": [
      "\n",
      "Epoch:  85%|████████▌ | 17/20 [01:51<00:19,  6.45s/it]\u001b[A"
     ]
    },
    {
     "name": "stdout",
     "output_type": "stream",
     "text": [
      "\n",
      "Loss history: [1.924617264005873, 1.588990052541097, 1.5806211696730719, 1.2724697788556416, 1.0437237620353699, 0.9297102888425192, 0.8672048780653212, 0.8122357428073883, 0.7851364413897196, 0.7586074504587386, 0.7412183052963681, 0.6999309377537833, 0.6976620621151395, 0.7007838487625122, 0.6808620227707757, 0.6734292035301527]\n",
      "Dev loss: 0.6887140191263623\n"
     ]
    },
    {
     "data": {
      "application/vnd.jupyter.widget-view+json": {
       "model_id": "8b1ff6b605e64437b28d0cc159283fdd",
       "version_major": 2,
       "version_minor": 0
      },
      "text/plain": [
       "HBox(children=(IntProgress(value=0, description='Training iteration', max=27, style=ProgressStyle(description_…"
      ]
     },
     "metadata": {},
     "output_type": "display_data"
    },
    {
     "name": "stdout",
     "output_type": "stream",
     "text": [
      "\n"
     ]
    },
    {
     "data": {
      "application/vnd.jupyter.widget-view+json": {
       "model_id": "c21cab541eee476d9b74ec4ed6f8859a",
       "version_major": 2,
       "version_minor": 0
      },
      "text/plain": [
       "HBox(children=(IntProgress(value=0, description='Evaluation iteration', max=9, style=ProgressStyle(description…"
      ]
     },
     "metadata": {},
     "output_type": "display_data"
    },
    {
     "name": "stdout",
     "output_type": "stream",
     "text": [
      "\n",
      "Loss history: [1.924617264005873, 1.588990052541097, 1.5806211696730719, 1.2724697788556416, 1.0437237620353699, 0.9297102888425192, 0.8672048780653212, 0.8122357428073883, 0.7851364413897196, 0.7586074504587386, 0.7412183052963681, 0.6999309377537833, 0.6976620621151395, 0.7007838487625122, 0.6808620227707757, 0.6734292035301527, 0.6887140191263623]\n",
      "Dev loss: 0.6731502711772919\n"
     ]
    },
    {
     "name": "stderr",
     "output_type": "stream",
     "text": [
      "\n",
      "Epoch:  90%|█████████ | 18/20 [01:58<00:13,  6.50s/it]\u001b[A"
     ]
    },
    {
     "data": {
      "application/vnd.jupyter.widget-view+json": {
       "model_id": "30e2ea795e354051aa4aa467369d24e8",
       "version_major": 2,
       "version_minor": 0
      },
      "text/plain": [
       "HBox(children=(IntProgress(value=0, description='Training iteration', max=27, style=ProgressStyle(description_…"
      ]
     },
     "metadata": {},
     "output_type": "display_data"
    },
    {
     "name": "stdout",
     "output_type": "stream",
     "text": [
      "\n"
     ]
    },
    {
     "data": {
      "application/vnd.jupyter.widget-view+json": {
       "model_id": "afea59741774481c8ba7276ca5f13b2c",
       "version_major": 2,
       "version_minor": 0
      },
      "text/plain": [
       "HBox(children=(IntProgress(value=0, description='Evaluation iteration', max=9, style=ProgressStyle(description…"
      ]
     },
     "metadata": {},
     "output_type": "display_data"
    },
    {
     "name": "stderr",
     "output_type": "stream",
     "text": [
      "\n",
      "Epoch:  95%|█████████▌| 19/20 [02:04<00:06,  6.40s/it]\u001b[A"
     ]
    },
    {
     "name": "stdout",
     "output_type": "stream",
     "text": [
      "\n",
      "Loss history: [1.924617264005873, 1.588990052541097, 1.5806211696730719, 1.2724697788556416, 1.0437237620353699, 0.9297102888425192, 0.8672048780653212, 0.8122357428073883, 0.7851364413897196, 0.7586074504587386, 0.7412183052963681, 0.6999309377537833, 0.6976620621151395, 0.7007838487625122, 0.6808620227707757, 0.6734292035301527, 0.6887140191263623, 0.6731502711772919]\n",
      "Dev loss: 0.6816315154234568\n"
     ]
    },
    {
     "data": {
      "application/vnd.jupyter.widget-view+json": {
       "model_id": "3b87bdc7545e4aed98a70386d961a3b0",
       "version_major": 2,
       "version_minor": 0
      },
      "text/plain": [
       "HBox(children=(IntProgress(value=0, description='Training iteration', max=27, style=ProgressStyle(description_…"
      ]
     },
     "metadata": {},
     "output_type": "display_data"
    },
    {
     "name": "stdout",
     "output_type": "stream",
     "text": [
      "\n"
     ]
    },
    {
     "data": {
      "application/vnd.jupyter.widget-view+json": {
       "model_id": "91d751f9de7041fe9b4ebef35e33b35b",
       "version_major": 2,
       "version_minor": 0
      },
      "text/plain": [
       "HBox(children=(IntProgress(value=0, description='Evaluation iteration', max=9, style=ProgressStyle(description…"
      ]
     },
     "metadata": {},
     "output_type": "display_data"
    },
    {
     "name": "stderr",
     "output_type": "stream",
     "text": [
      "\n",
      "Epoch: 100%|██████████| 20/20 [02:10<00:00,  6.33s/it]\u001b[A\n",
      "\u001b[A"
     ]
    },
    {
     "name": "stdout",
     "output_type": "stream",
     "text": [
      "\n",
      "Loss history: [1.924617264005873, 1.588990052541097, 1.5806211696730719, 1.2724697788556416, 1.0437237620353699, 0.9297102888425192, 0.8672048780653212, 0.8122357428073883, 0.7851364413897196, 0.7586074504587386, 0.7412183052963681, 0.6999309377537833, 0.6976620621151395, 0.7007838487625122, 0.6808620227707757, 0.6734292035301527, 0.6887140191263623, 0.6731502711772919, 0.6816315154234568]\n",
      "Dev loss: 0.6732065280278524\n",
      "Loading model from /tmp/model.bin\n"
     ]
    },
    {
     "name": "stderr",
     "output_type": "stream",
     "text": [
      "I0404 10:04:28.851391 140621602613056 configuration_utils.py:256] loading configuration file https://s3.amazonaws.com/models.huggingface.co/bert/bert-base-uncased-config.json from cache at /home/yves/.cache/torch/transformers/4dad0251492946e18ac39290fcfe91b89d370fee250efe9521476438fe8ca185.8f56353af4a709bf5ff0fbc915d8f5b42bfff892cbb6ac98c3c45f481a03c685\n",
      "I0404 10:04:28.852716 140621602613056 configuration_utils.py:292] Model config BertConfig {\n",
      "  \"architectures\": [\n",
      "    \"BertForMaskedLM\"\n",
      "  ],\n",
      "  \"attention_probs_dropout_prob\": 0.1,\n",
      "  \"bos_token_id\": null,\n",
      "  \"do_sample\": false,\n",
      "  \"eos_token_ids\": null,\n",
      "  \"finetuning_task\": null,\n",
      "  \"hidden_act\": \"gelu\",\n",
      "  \"hidden_dropout_prob\": 0.1,\n",
      "  \"hidden_size\": 768,\n",
      "  \"id2label\": {\n",
      "    \"0\": \"LABEL_0\",\n",
      "    \"1\": \"LABEL_1\"\n",
      "  },\n",
      "  \"initializer_range\": 0.02,\n",
      "  \"intermediate_size\": 3072,\n",
      "  \"is_decoder\": false,\n",
      "  \"label2id\": {\n",
      "    \"LABEL_0\": 0,\n",
      "    \"LABEL_1\": 1\n",
      "  },\n",
      "  \"layer_norm_eps\": 1e-12,\n",
      "  \"length_penalty\": 1.0,\n",
      "  \"max_length\": 20,\n",
      "  \"max_position_embeddings\": 512,\n",
      "  \"model_type\": \"bert\",\n",
      "  \"num_attention_heads\": 12,\n",
      "  \"num_beams\": 1,\n",
      "  \"num_hidden_layers\": 12,\n",
      "  \"num_labels\": 10,\n",
      "  \"num_return_sequences\": 1,\n",
      "  \"output_attentions\": false,\n",
      "  \"output_hidden_states\": false,\n",
      "  \"output_past\": true,\n",
      "  \"pad_token_id\": null,\n",
      "  \"pruned_heads\": {},\n",
      "  \"repetition_penalty\": 1.0,\n",
      "  \"temperature\": 1.0,\n",
      "  \"top_k\": 50,\n",
      "  \"top_p\": 1.0,\n",
      "  \"torchscript\": false,\n",
      "  \"type_vocab_size\": 2,\n",
      "  \"use_bfloat16\": false,\n",
      "  \"vocab_size\": 30522\n",
      "}\n",
      "\n",
      "I0404 10:04:29.299453 140621602613056 modeling_utils.py:461] loading weights file https://s3.amazonaws.com/models.huggingface.co/bert/bert-base-uncased-pytorch_model.bin from cache at /home/yves/.cache/torch/transformers/aa1ef1aede4482d0dbcd4d52baad8ae300e60902e88fcb0bebdec09afd232066.36ca03ab34a1a5d5fa7bc3d03d55c4fa650fed07220e2eeebc06ce58d0e9a157\n"
     ]
    },
    {
     "data": {
      "application/vnd.jupyter.widget-view+json": {
       "model_id": "26ead25fcc86416ba39de1cd92bdf48d",
       "version_major": 2,
       "version_minor": 0
      },
      "text/plain": [
       "HBox(children=(IntProgress(value=0, description='Evaluation iteration', max=9, style=ProgressStyle(description…"
      ]
     },
     "metadata": {},
     "output_type": "display_data"
    },
    {
     "name": "stdout",
     "output_type": "stream",
     "text": [
      "\n"
     ]
    },
    {
     "name": "stderr",
     "output_type": "stream",
     "text": [
      "I0404 10:04:34.820593 140621602613056 configuration_utils.py:256] loading configuration file https://s3.amazonaws.com/models.huggingface.co/bert/bert-base-uncased-config.json from cache at /home/yves/.cache/torch/transformers/4dad0251492946e18ac39290fcfe91b89d370fee250efe9521476438fe8ca185.8f56353af4a709bf5ff0fbc915d8f5b42bfff892cbb6ac98c3c45f481a03c685\n",
      "I0404 10:04:34.821524 140621602613056 configuration_utils.py:292] Model config BertConfig {\n",
      "  \"architectures\": [\n",
      "    \"BertForMaskedLM\"\n",
      "  ],\n",
      "  \"attention_probs_dropout_prob\": 0.1,\n",
      "  \"bos_token_id\": null,\n",
      "  \"do_sample\": false,\n",
      "  \"eos_token_ids\": null,\n",
      "  \"finetuning_task\": null,\n",
      "  \"hidden_act\": \"gelu\",\n",
      "  \"hidden_dropout_prob\": 0.1,\n",
      "  \"hidden_size\": 768,\n",
      "  \"id2label\": {\n",
      "    \"0\": \"LABEL_0\",\n",
      "    \"1\": \"LABEL_1\"\n",
      "  },\n",
      "  \"initializer_range\": 0.02,\n",
      "  \"intermediate_size\": 3072,\n",
      "  \"is_decoder\": false,\n",
      "  \"label2id\": {\n",
      "    \"LABEL_0\": 0,\n",
      "    \"LABEL_1\": 1\n",
      "  },\n",
      "  \"layer_norm_eps\": 1e-12,\n",
      "  \"length_penalty\": 1.0,\n",
      "  \"max_length\": 20,\n",
      "  \"max_position_embeddings\": 512,\n",
      "  \"model_type\": \"bert\",\n",
      "  \"num_attention_heads\": 12,\n",
      "  \"num_beams\": 1,\n",
      "  \"num_hidden_layers\": 12,\n",
      "  \"num_labels\": 10,\n",
      "  \"num_return_sequences\": 1,\n",
      "  \"output_attentions\": false,\n",
      "  \"output_hidden_states\": false,\n",
      "  \"output_past\": true,\n",
      "  \"pad_token_id\": null,\n",
      "  \"pruned_heads\": {},\n",
      "  \"repetition_penalty\": 1.0,\n",
      "  \"temperature\": 1.0,\n",
      "  \"top_k\": 50,\n",
      "  \"top_p\": 1.0,\n",
      "  \"torchscript\": false,\n",
      "  \"type_vocab_size\": 2,\n",
      "  \"use_bfloat16\": false,\n",
      "  \"vocab_size\": 30522\n",
      "}\n",
      "\n",
      "I0404 10:04:35.280910 140621602613056 modeling_utils.py:461] loading weights file https://s3.amazonaws.com/models.huggingface.co/bert/bert-base-uncased-pytorch_model.bin from cache at /home/yves/.cache/torch/transformers/aa1ef1aede4482d0dbcd4d52baad8ae300e60902e88fcb0bebdec09afd232066.36ca03ab34a1a5d5fa7bc3d03d55c4fa650fed07220e2eeebc06ce58d0e9a157\n",
      "I0404 10:04:36.964052 140621602613056 modeling_utils.py:546] Weights of BertForSequenceClassification not initialized from pretrained model: ['classifier.weight', 'classifier.bias']\n",
      "I0404 10:04:36.964804 140621602613056 modeling_utils.py:552] Weights from pretrained model not used in BertForSequenceClassification: ['cls.predictions.bias', 'cls.predictions.transform.dense.weight', 'cls.predictions.transform.dense.bias', 'cls.predictions.decoder.weight', 'cls.seq_relationship.weight', 'cls.seq_relationship.bias', 'cls.predictions.transform.LayerNorm.weight', 'cls.predictions.transform.LayerNorm.bias']\n",
      "\n",
      "Epoch:   0%|          | 0/20 [00:00<?, ?it/s]\u001b[A"
     ]
    },
    {
     "data": {
      "application/vnd.jupyter.widget-view+json": {
       "model_id": "c2330903ad234ce38007884f1e5d9662",
       "version_major": 2,
       "version_minor": 0
      },
      "text/plain": [
       "HBox(children=(IntProgress(value=0, description='Training iteration', max=27, style=ProgressStyle(description_…"
      ]
     },
     "metadata": {},
     "output_type": "display_data"
    },
    {
     "name": "stdout",
     "output_type": "stream",
     "text": [
      "\n"
     ]
    },
    {
     "data": {
      "application/vnd.jupyter.widget-view+json": {
       "model_id": "a1f173ef400e4c698f72e90a1292a38d",
       "version_major": 2,
       "version_minor": 0
      },
      "text/plain": [
       "HBox(children=(IntProgress(value=0, description='Evaluation iteration', max=9, style=ProgressStyle(description…"
      ]
     },
     "metadata": {},
     "output_type": "display_data"
    },
    {
     "name": "stdout",
     "output_type": "stream",
     "text": [
      "\n",
      "Loss history: []\n",
      "Dev loss: 1.573062194718255\n"
     ]
    },
    {
     "name": "stderr",
     "output_type": "stream",
     "text": [
      "\n",
      "Epoch:   5%|▌         | 1/20 [00:06<02:06,  6.64s/it]\u001b[A"
     ]
    },
    {
     "data": {
      "application/vnd.jupyter.widget-view+json": {
       "model_id": "7374bed54ef04d979466c9cf76a1e7ff",
       "version_major": 2,
       "version_minor": 0
      },
      "text/plain": [
       "HBox(children=(IntProgress(value=0, description='Training iteration', max=27, style=ProgressStyle(description_…"
      ]
     },
     "metadata": {},
     "output_type": "display_data"
    },
    {
     "name": "stdout",
     "output_type": "stream",
     "text": [
      "\n"
     ]
    },
    {
     "data": {
      "application/vnd.jupyter.widget-view+json": {
       "model_id": "48d2e48e35b54ab8b6ac16c1bc6198d8",
       "version_major": 2,
       "version_minor": 0
      },
      "text/plain": [
       "HBox(children=(IntProgress(value=0, description='Evaluation iteration', max=9, style=ProgressStyle(description…"
      ]
     },
     "metadata": {},
     "output_type": "display_data"
    },
    {
     "name": "stdout",
     "output_type": "stream",
     "text": [
      "\n",
      "Loss history: [1.573062194718255]\n",
      "Dev loss: 1.3266699181662664\n"
     ]
    },
    {
     "name": "stderr",
     "output_type": "stream",
     "text": [
      "\n",
      "Epoch:  10%|█         | 2/20 [00:13<01:59,  6.63s/it]\u001b[A"
     ]
    },
    {
     "data": {
      "application/vnd.jupyter.widget-view+json": {
       "model_id": "a7ce76c75be84684b4f2eade2a6e84fa",
       "version_major": 2,
       "version_minor": 0
      },
      "text/plain": [
       "HBox(children=(IntProgress(value=0, description='Training iteration', max=27, style=ProgressStyle(description_…"
      ]
     },
     "metadata": {},
     "output_type": "display_data"
    },
    {
     "name": "stdout",
     "output_type": "stream",
     "text": [
      "\n"
     ]
    },
    {
     "data": {
      "application/vnd.jupyter.widget-view+json": {
       "model_id": "e8dac0e7220d4ec1a6952866e861be50",
       "version_major": 2,
       "version_minor": 0
      },
      "text/plain": [
       "HBox(children=(IntProgress(value=0, description='Evaluation iteration', max=9, style=ProgressStyle(description…"
      ]
     },
     "metadata": {},
     "output_type": "display_data"
    },
    {
     "name": "stdout",
     "output_type": "stream",
     "text": [
      "\n",
      "Loss history: [1.573062194718255, 1.3266699181662664]\n",
      "Dev loss: 1.15270553694831\n"
     ]
    },
    {
     "name": "stderr",
     "output_type": "stream",
     "text": [
      "\n",
      "Epoch:  15%|█▌        | 3/20 [00:19<01:52,  6.62s/it]\u001b[A"
     ]
    },
    {
     "data": {
      "application/vnd.jupyter.widget-view+json": {
       "model_id": "ab625777e6534d28ba8c4df6eeecc2bc",
       "version_major": 2,
       "version_minor": 0
      },
      "text/plain": [
       "HBox(children=(IntProgress(value=0, description='Training iteration', max=27, style=ProgressStyle(description_…"
      ]
     },
     "metadata": {},
     "output_type": "display_data"
    },
    {
     "name": "stdout",
     "output_type": "stream",
     "text": [
      "\n"
     ]
    },
    {
     "data": {
      "application/vnd.jupyter.widget-view+json": {
       "model_id": "4edcbc660a1a449abfafe33beeb18adb",
       "version_major": 2,
       "version_minor": 0
      },
      "text/plain": [
       "HBox(children=(IntProgress(value=0, description='Evaluation iteration', max=9, style=ProgressStyle(description…"
      ]
     },
     "metadata": {},
     "output_type": "display_data"
    },
    {
     "name": "stdout",
     "output_type": "stream",
     "text": [
      "\n",
      "Loss history: [1.573062194718255, 1.3266699181662664, 1.15270553694831]\n",
      "Dev loss: 0.9924946824709574\n"
     ]
    },
    {
     "name": "stderr",
     "output_type": "stream",
     "text": [
      "\n",
      "Epoch:  20%|██        | 4/20 [00:26<01:45,  6.62s/it]\u001b[A"
     ]
    },
    {
     "data": {
      "application/vnd.jupyter.widget-view+json": {
       "model_id": "bca208ab14c043e1b9cef14580195c5b",
       "version_major": 2,
       "version_minor": 0
      },
      "text/plain": [
       "HBox(children=(IntProgress(value=0, description='Training iteration', max=27, style=ProgressStyle(description_…"
      ]
     },
     "metadata": {},
     "output_type": "display_data"
    },
    {
     "name": "stdout",
     "output_type": "stream",
     "text": [
      "\n"
     ]
    },
    {
     "data": {
      "application/vnd.jupyter.widget-view+json": {
       "model_id": "999090dcfc654e92a7b151b9fa58f3c0",
       "version_major": 2,
       "version_minor": 0
      },
      "text/plain": [
       "HBox(children=(IntProgress(value=0, description='Evaluation iteration', max=9, style=ProgressStyle(description…"
      ]
     },
     "metadata": {},
     "output_type": "display_data"
    },
    {
     "name": "stdout",
     "output_type": "stream",
     "text": [
      "\n",
      "Loss history: [1.573062194718255, 1.3266699181662664, 1.15270553694831, 0.9924946824709574]\n",
      "Dev loss: 0.8813459873199463\n"
     ]
    },
    {
     "name": "stderr",
     "output_type": "stream",
     "text": [
      "\n",
      "Epoch:  25%|██▌       | 5/20 [00:33<01:39,  6.62s/it]\u001b[A"
     ]
    },
    {
     "data": {
      "application/vnd.jupyter.widget-view+json": {
       "model_id": "23ad25abea1a4209a4a32e3ef4366b5a",
       "version_major": 2,
       "version_minor": 0
      },
      "text/plain": [
       "HBox(children=(IntProgress(value=0, description='Training iteration', max=27, style=ProgressStyle(description_…"
      ]
     },
     "metadata": {},
     "output_type": "display_data"
    },
    {
     "name": "stdout",
     "output_type": "stream",
     "text": [
      "\n"
     ]
    },
    {
     "data": {
      "application/vnd.jupyter.widget-view+json": {
       "model_id": "7e984be837274751ad2e47e204a1d9c5",
       "version_major": 2,
       "version_minor": 0
      },
      "text/plain": [
       "HBox(children=(IntProgress(value=0, description='Evaluation iteration', max=9, style=ProgressStyle(description…"
      ]
     },
     "metadata": {},
     "output_type": "display_data"
    },
    {
     "name": "stdout",
     "output_type": "stream",
     "text": [
      "\n",
      "Loss history: [1.573062194718255, 1.3266699181662664, 1.15270553694831, 0.9924946824709574, 0.8813459873199463]\n",
      "Dev loss: 0.8213360442055596\n"
     ]
    },
    {
     "name": "stderr",
     "output_type": "stream",
     "text": [
      "\n",
      "Epoch:  30%|███       | 6/20 [00:39<01:32,  6.62s/it]\u001b[A"
     ]
    },
    {
     "data": {
      "application/vnd.jupyter.widget-view+json": {
       "model_id": "fa35a67f2cf142a9bad8abb6b9f6207f",
       "version_major": 2,
       "version_minor": 0
      },
      "text/plain": [
       "HBox(children=(IntProgress(value=0, description='Training iteration', max=27, style=ProgressStyle(description_…"
      ]
     },
     "metadata": {},
     "output_type": "display_data"
    },
    {
     "name": "stdout",
     "output_type": "stream",
     "text": [
      "\n"
     ]
    },
    {
     "data": {
      "application/vnd.jupyter.widget-view+json": {
       "model_id": "e33e57681d014e7ea9fd8e70e76db7b9",
       "version_major": 2,
       "version_minor": 0
      },
      "text/plain": [
       "HBox(children=(IntProgress(value=0, description='Evaluation iteration', max=9, style=ProgressStyle(description…"
      ]
     },
     "metadata": {},
     "output_type": "display_data"
    },
    {
     "name": "stdout",
     "output_type": "stream",
     "text": [
      "\n",
      "Loss history: [1.573062194718255, 1.3266699181662664, 1.15270553694831, 0.9924946824709574, 0.8813459873199463, 0.8213360442055596]\n",
      "Dev loss: 0.8199739389949374\n"
     ]
    },
    {
     "name": "stderr",
     "output_type": "stream",
     "text": [
      "\n",
      "Epoch:  35%|███▌      | 7/20 [00:46<01:26,  6.62s/it]\u001b[A"
     ]
    },
    {
     "data": {
      "application/vnd.jupyter.widget-view+json": {
       "model_id": "940e80b7deae404bbf34993a3f477e09",
       "version_major": 2,
       "version_minor": 0
      },
      "text/plain": [
       "HBox(children=(IntProgress(value=0, description='Training iteration', max=27, style=ProgressStyle(description_…"
      ]
     },
     "metadata": {},
     "output_type": "display_data"
    },
    {
     "name": "stdout",
     "output_type": "stream",
     "text": [
      "\n"
     ]
    },
    {
     "data": {
      "application/vnd.jupyter.widget-view+json": {
       "model_id": "d78be21d2d334e29978630c464a89216",
       "version_major": 2,
       "version_minor": 0
      },
      "text/plain": [
       "HBox(children=(IntProgress(value=0, description='Evaluation iteration', max=9, style=ProgressStyle(description…"
      ]
     },
     "metadata": {},
     "output_type": "display_data"
    },
    {
     "name": "stdout",
     "output_type": "stream",
     "text": [
      "\n",
      "Loss history: [1.573062194718255, 1.3266699181662664, 1.15270553694831, 0.9924946824709574, 0.8813459873199463, 0.8213360442055596, 0.8199739389949374]\n",
      "Dev loss: 0.7752813100814819\n"
     ]
    },
    {
     "name": "stderr",
     "output_type": "stream",
     "text": [
      "\n",
      "Epoch:  40%|████      | 8/20 [00:52<01:19,  6.62s/it]\u001b[A"
     ]
    },
    {
     "data": {
      "application/vnd.jupyter.widget-view+json": {
       "model_id": "27e8b9b984e246158721fb8b99c9fa5f",
       "version_major": 2,
       "version_minor": 0
      },
      "text/plain": [
       "HBox(children=(IntProgress(value=0, description='Training iteration', max=27, style=ProgressStyle(description_…"
      ]
     },
     "metadata": {},
     "output_type": "display_data"
    },
    {
     "name": "stdout",
     "output_type": "stream",
     "text": [
      "\n"
     ]
    },
    {
     "data": {
      "application/vnd.jupyter.widget-view+json": {
       "model_id": "0574916ffc8e4ddd92663e1ed6c7051a",
       "version_major": 2,
       "version_minor": 0
      },
      "text/plain": [
       "HBox(children=(IntProgress(value=0, description='Evaluation iteration', max=9, style=ProgressStyle(description…"
      ]
     },
     "metadata": {},
     "output_type": "display_data"
    },
    {
     "name": "stdout",
     "output_type": "stream",
     "text": [
      "\n",
      "Loss history: [1.573062194718255, 1.3266699181662664, 1.15270553694831, 0.9924946824709574, 0.8813459873199463, 0.8213360442055596, 0.8199739389949374, 0.7752813100814819]\n",
      "Dev loss: 0.7582661079035865\n"
     ]
    },
    {
     "name": "stderr",
     "output_type": "stream",
     "text": [
      "\n",
      "Epoch:  45%|████▌     | 9/20 [00:59<01:12,  6.62s/it]\u001b[A"
     ]
    },
    {
     "data": {
      "application/vnd.jupyter.widget-view+json": {
       "model_id": "8a0623b113cd46fe98fa67146b8d14c2",
       "version_major": 2,
       "version_minor": 0
      },
      "text/plain": [
       "HBox(children=(IntProgress(value=0, description='Training iteration', max=27, style=ProgressStyle(description_…"
      ]
     },
     "metadata": {},
     "output_type": "display_data"
    },
    {
     "name": "stdout",
     "output_type": "stream",
     "text": [
      "\n"
     ]
    },
    {
     "data": {
      "application/vnd.jupyter.widget-view+json": {
       "model_id": "88c3b6b38df34f22974b8530fba90d89",
       "version_major": 2,
       "version_minor": 0
      },
      "text/plain": [
       "HBox(children=(IntProgress(value=0, description='Evaluation iteration', max=9, style=ProgressStyle(description…"
      ]
     },
     "metadata": {},
     "output_type": "display_data"
    },
    {
     "name": "stdout",
     "output_type": "stream",
     "text": [
      "\n",
      "Loss history: [1.573062194718255, 1.3266699181662664, 1.15270553694831, 0.9924946824709574, 0.8813459873199463, 0.8213360442055596, 0.8199739389949374, 0.7752813100814819, 0.7582661079035865]\n",
      "Dev loss: 0.7575248446729448\n"
     ]
    },
    {
     "name": "stderr",
     "output_type": "stream",
     "text": [
      "\n",
      "Epoch:  50%|█████     | 10/20 [01:06<01:06,  6.62s/it]\u001b[A"
     ]
    },
    {
     "data": {
      "application/vnd.jupyter.widget-view+json": {
       "model_id": "a219fd52df4345f58bd4a86188d142bc",
       "version_major": 2,
       "version_minor": 0
      },
      "text/plain": [
       "HBox(children=(IntProgress(value=0, description='Training iteration', max=27, style=ProgressStyle(description_…"
      ]
     },
     "metadata": {},
     "output_type": "display_data"
    },
    {
     "name": "stdout",
     "output_type": "stream",
     "text": [
      "\n"
     ]
    },
    {
     "data": {
      "application/vnd.jupyter.widget-view+json": {
       "model_id": "f42a7793311242b3a1f07cb7413b3d10",
       "version_major": 2,
       "version_minor": 0
      },
      "text/plain": [
       "HBox(children=(IntProgress(value=0, description='Evaluation iteration', max=9, style=ProgressStyle(description…"
      ]
     },
     "metadata": {},
     "output_type": "display_data"
    },
    {
     "name": "stderr",
     "output_type": "stream",
     "text": [
      "\n",
      "Epoch:  55%|█████▌    | 11/20 [01:12<00:58,  6.48s/it]\u001b[A"
     ]
    },
    {
     "name": "stdout",
     "output_type": "stream",
     "text": [
      "\n",
      "Loss history: [1.573062194718255, 1.3266699181662664, 1.15270553694831, 0.9924946824709574, 0.8813459873199463, 0.8213360442055596, 0.8199739389949374, 0.7752813100814819, 0.7582661079035865, 0.7575248446729448]\n",
      "Dev loss: 0.7645473778247833\n"
     ]
    },
    {
     "data": {
      "application/vnd.jupyter.widget-view+json": {
       "model_id": "db4d9bb7b0cd4ce5b2be0d1070661930",
       "version_major": 2,
       "version_minor": 0
      },
      "text/plain": [
       "HBox(children=(IntProgress(value=0, description='Training iteration', max=27, style=ProgressStyle(description_…"
      ]
     },
     "metadata": {},
     "output_type": "display_data"
    },
    {
     "name": "stdout",
     "output_type": "stream",
     "text": [
      "\n"
     ]
    },
    {
     "data": {
      "application/vnd.jupyter.widget-view+json": {
       "model_id": "d9f73a5eec2d483ea5c4efdd6ac55f73",
       "version_major": 2,
       "version_minor": 0
      },
      "text/plain": [
       "HBox(children=(IntProgress(value=0, description='Evaluation iteration', max=9, style=ProgressStyle(description…"
      ]
     },
     "metadata": {},
     "output_type": "display_data"
    },
    {
     "name": "stdout",
     "output_type": "stream",
     "text": [
      "\n",
      "Loss history: [1.573062194718255, 1.3266699181662664, 1.15270553694831, 0.9924946824709574, 0.8813459873199463, 0.8213360442055596, 0.8199739389949374, 0.7752813100814819, 0.7582661079035865, 0.7575248446729448, 0.7645473778247833]\n",
      "Dev loss: 0.7203055123488108\n"
     ]
    },
    {
     "name": "stderr",
     "output_type": "stream",
     "text": [
      "\n",
      "Epoch:  60%|██████    | 12/20 [01:18<00:52,  6.53s/it]\u001b[A"
     ]
    },
    {
     "data": {
      "application/vnd.jupyter.widget-view+json": {
       "model_id": "22692d7eb99d436786939da14736456c",
       "version_major": 2,
       "version_minor": 0
      },
      "text/plain": [
       "HBox(children=(IntProgress(value=0, description='Training iteration', max=27, style=ProgressStyle(description_…"
      ]
     },
     "metadata": {},
     "output_type": "display_data"
    },
    {
     "name": "stdout",
     "output_type": "stream",
     "text": [
      "\n"
     ]
    },
    {
     "data": {
      "application/vnd.jupyter.widget-view+json": {
       "model_id": "878136e79eb4452bbb4ff6a77cf0585b",
       "version_major": 2,
       "version_minor": 0
      },
      "text/plain": [
       "HBox(children=(IntProgress(value=0, description='Evaluation iteration', max=9, style=ProgressStyle(description…"
      ]
     },
     "metadata": {},
     "output_type": "display_data"
    },
    {
     "name": "stderr",
     "output_type": "stream",
     "text": [
      "\n",
      "Epoch:  65%|██████▌   | 13/20 [01:25<00:44,  6.42s/it]\u001b[A"
     ]
    },
    {
     "name": "stdout",
     "output_type": "stream",
     "text": [
      "\n",
      "Loss history: [1.573062194718255, 1.3266699181662664, 1.15270553694831, 0.9924946824709574, 0.8813459873199463, 0.8213360442055596, 0.8199739389949374, 0.7752813100814819, 0.7582661079035865, 0.7575248446729448, 0.7645473778247833, 0.7203055123488108]\n",
      "Dev loss: 0.7410715437597699\n"
     ]
    },
    {
     "data": {
      "application/vnd.jupyter.widget-view+json": {
       "model_id": "1bfd2e9f1f0a4ec18c801ccc4a1e5604",
       "version_major": 2,
       "version_minor": 0
      },
      "text/plain": [
       "HBox(children=(IntProgress(value=0, description='Training iteration', max=27, style=ProgressStyle(description_…"
      ]
     },
     "metadata": {},
     "output_type": "display_data"
    },
    {
     "name": "stdout",
     "output_type": "stream",
     "text": [
      "\n"
     ]
    },
    {
     "data": {
      "application/vnd.jupyter.widget-view+json": {
       "model_id": "f79680b9a02948dfbaf2d97d81f85e4d",
       "version_major": 2,
       "version_minor": 0
      },
      "text/plain": [
       "HBox(children=(IntProgress(value=0, description='Evaluation iteration', max=9, style=ProgressStyle(description…"
      ]
     },
     "metadata": {},
     "output_type": "display_data"
    },
    {
     "name": "stderr",
     "output_type": "stream",
     "text": [
      "\n",
      "Epoch:  70%|███████   | 14/20 [01:31<00:38,  6.35s/it]\u001b[A"
     ]
    },
    {
     "name": "stdout",
     "output_type": "stream",
     "text": [
      "\n",
      "Loss history: [1.573062194718255, 1.3266699181662664, 1.15270553694831, 0.9924946824709574, 0.8813459873199463, 0.8213360442055596, 0.8199739389949374, 0.7752813100814819, 0.7582661079035865, 0.7575248446729448, 0.7645473778247833, 0.7203055123488108, 0.7410715437597699]\n",
      "Dev loss: 0.733455134762658\n"
     ]
    },
    {
     "data": {
      "application/vnd.jupyter.widget-view+json": {
       "model_id": "c8f5803cc71c45f290de870e527b1c53",
       "version_major": 2,
       "version_minor": 0
      },
      "text/plain": [
       "HBox(children=(IntProgress(value=0, description='Training iteration', max=27, style=ProgressStyle(description_…"
      ]
     },
     "metadata": {},
     "output_type": "display_data"
    },
    {
     "name": "stdout",
     "output_type": "stream",
     "text": [
      "\n"
     ]
    },
    {
     "data": {
      "application/vnd.jupyter.widget-view+json": {
       "model_id": "e3f3c4c66bc44dae9aafa0488e7bb29d",
       "version_major": 2,
       "version_minor": 0
      },
      "text/plain": [
       "HBox(children=(IntProgress(value=0, description='Evaluation iteration', max=9, style=ProgressStyle(description…"
      ]
     },
     "metadata": {},
     "output_type": "display_data"
    },
    {
     "name": "stderr",
     "output_type": "stream",
     "text": [
      "\n",
      "Epoch:  75%|███████▌  | 15/20 [01:37<00:31,  6.30s/it]\u001b[A"
     ]
    },
    {
     "name": "stdout",
     "output_type": "stream",
     "text": [
      "\n",
      "Loss history: [1.573062194718255, 1.3266699181662664, 1.15270553694831, 0.9924946824709574, 0.8813459873199463, 0.8213360442055596, 0.8199739389949374, 0.7752813100814819, 0.7582661079035865, 0.7575248446729448, 0.7645473778247833, 0.7203055123488108, 0.7410715437597699, 0.733455134762658]\n",
      "Dev loss: 0.7386853131983016\n"
     ]
    },
    {
     "data": {
      "application/vnd.jupyter.widget-view+json": {
       "model_id": "1306581d3d614efca9f362ba4b1dab57",
       "version_major": 2,
       "version_minor": 0
      },
      "text/plain": [
       "HBox(children=(IntProgress(value=0, description='Training iteration', max=27, style=ProgressStyle(description_…"
      ]
     },
     "metadata": {},
     "output_type": "display_data"
    },
    {
     "name": "stdout",
     "output_type": "stream",
     "text": [
      "\n"
     ]
    },
    {
     "data": {
      "application/vnd.jupyter.widget-view+json": {
       "model_id": "b474f41431354e148eb8e0987c916c7a",
       "version_major": 2,
       "version_minor": 0
      },
      "text/plain": [
       "HBox(children=(IntProgress(value=0, description='Evaluation iteration', max=9, style=ProgressStyle(description…"
      ]
     },
     "metadata": {},
     "output_type": "display_data"
    },
    {
     "name": "stderr",
     "output_type": "stream",
     "text": [
      "\n",
      "Epoch:  80%|████████  | 16/20 [01:43<00:25,  6.26s/it]\u001b[A"
     ]
    },
    {
     "name": "stdout",
     "output_type": "stream",
     "text": [
      "\n",
      "Loss history: [1.573062194718255, 1.3266699181662664, 1.15270553694831, 0.9924946824709574, 0.8813459873199463, 0.8213360442055596, 0.8199739389949374, 0.7752813100814819, 0.7582661079035865, 0.7575248446729448, 0.7645473778247833, 0.7203055123488108, 0.7410715437597699, 0.733455134762658, 0.7386853131983016]\n",
      "Dev loss: 0.7507240325212479\n"
     ]
    },
    {
     "data": {
      "application/vnd.jupyter.widget-view+json": {
       "model_id": "656986f8ad9a43d29aec8f69e6288253",
       "version_major": 2,
       "version_minor": 0
      },
      "text/plain": [
       "HBox(children=(IntProgress(value=0, description='Training iteration', max=27, style=ProgressStyle(description_…"
      ]
     },
     "metadata": {},
     "output_type": "display_data"
    },
    {
     "name": "stdout",
     "output_type": "stream",
     "text": [
      "\n"
     ]
    },
    {
     "data": {
      "application/vnd.jupyter.widget-view+json": {
       "model_id": "076eacee076748179b80d4fa5fffe491",
       "version_major": 2,
       "version_minor": 0
      },
      "text/plain": [
       "HBox(children=(IntProgress(value=0, description='Evaluation iteration', max=9, style=ProgressStyle(description…"
      ]
     },
     "metadata": {},
     "output_type": "display_data"
    },
    {
     "name": "stdout",
     "output_type": "stream",
     "text": [
      "\n",
      "Loss history: [1.573062194718255, 1.3266699181662664, 1.15270553694831, 0.9924946824709574, 0.8813459873199463, 0.8213360442055596, 0.8199739389949374, 0.7752813100814819, 0.7582661079035865, 0.7575248446729448, 0.7645473778247833, 0.7203055123488108, 0.7410715437597699, 0.733455134762658, 0.7386853131983016, 0.7507240325212479]\n",
      "Dev loss: 0.744017438756095\n",
      "No improvement on development set. Finish training.\n",
      "Loading model from /tmp/model.bin\n"
     ]
    },
    {
     "name": "stderr",
     "output_type": "stream",
     "text": [
      "I0404 10:06:27.408982 140621602613056 configuration_utils.py:256] loading configuration file https://s3.amazonaws.com/models.huggingface.co/bert/bert-base-uncased-config.json from cache at /home/yves/.cache/torch/transformers/4dad0251492946e18ac39290fcfe91b89d370fee250efe9521476438fe8ca185.8f56353af4a709bf5ff0fbc915d8f5b42bfff892cbb6ac98c3c45f481a03c685\n",
      "I0404 10:06:27.410612 140621602613056 configuration_utils.py:292] Model config BertConfig {\n",
      "  \"architectures\": [\n",
      "    \"BertForMaskedLM\"\n",
      "  ],\n",
      "  \"attention_probs_dropout_prob\": 0.1,\n",
      "  \"bos_token_id\": null,\n",
      "  \"do_sample\": false,\n",
      "  \"eos_token_ids\": null,\n",
      "  \"finetuning_task\": null,\n",
      "  \"hidden_act\": \"gelu\",\n",
      "  \"hidden_dropout_prob\": 0.1,\n",
      "  \"hidden_size\": 768,\n",
      "  \"id2label\": {\n",
      "    \"0\": \"LABEL_0\",\n",
      "    \"1\": \"LABEL_1\"\n",
      "  },\n",
      "  \"initializer_range\": 0.02,\n",
      "  \"intermediate_size\": 3072,\n",
      "  \"is_decoder\": false,\n",
      "  \"label2id\": {\n",
      "    \"LABEL_0\": 0,\n",
      "    \"LABEL_1\": 1\n",
      "  },\n",
      "  \"layer_norm_eps\": 1e-12,\n",
      "  \"length_penalty\": 1.0,\n",
      "  \"max_length\": 20,\n",
      "  \"max_position_embeddings\": 512,\n",
      "  \"model_type\": \"bert\",\n",
      "  \"num_attention_heads\": 12,\n",
      "  \"num_beams\": 1,\n",
      "  \"num_hidden_layers\": 12,\n",
      "  \"num_labels\": 10,\n",
      "  \"num_return_sequences\": 1,\n",
      "  \"output_attentions\": false,\n",
      "  \"output_hidden_states\": false,\n",
      "  \"output_past\": true,\n",
      "  \"pad_token_id\": null,\n",
      "  \"pruned_heads\": {},\n",
      "  \"repetition_penalty\": 1.0,\n",
      "  \"temperature\": 1.0,\n",
      "  \"top_k\": 50,\n",
      "  \"top_p\": 1.0,\n",
      "  \"torchscript\": false,\n",
      "  \"type_vocab_size\": 2,\n",
      "  \"use_bfloat16\": false,\n",
      "  \"vocab_size\": 30522\n",
      "}\n",
      "\n",
      "I0404 10:06:27.874213 140621602613056 modeling_utils.py:461] loading weights file https://s3.amazonaws.com/models.huggingface.co/bert/bert-base-uncased-pytorch_model.bin from cache at /home/yves/.cache/torch/transformers/aa1ef1aede4482d0dbcd4d52baad8ae300e60902e88fcb0bebdec09afd232066.36ca03ab34a1a5d5fa7bc3d03d55c4fa650fed07220e2eeebc06ce58d0e9a157\n"
     ]
    },
    {
     "data": {
      "application/vnd.jupyter.widget-view+json": {
       "model_id": "63cc2ec901794db1a877bbb815a6f6ff",
       "version_major": 2,
       "version_minor": 0
      },
      "text/plain": [
       "HBox(children=(IntProgress(value=0, description='Evaluation iteration', max=9, style=ProgressStyle(description…"
      ]
     },
     "metadata": {},
     "output_type": "display_data"
    },
    {
     "name": "stdout",
     "output_type": "stream",
     "text": [
      "\n"
     ]
    }
   ],
   "source": [
    "import torch\n",
    "import random\n",
    "\n",
    "from quillnlp.models.bert.train import train, evaluate\n",
    "from quillnlp.models.bert.models import get_bert_classifier\n",
    "\n",
    "from quillnlp.models.bert.preprocessing import get_data_loader\n",
    "from sklearn.model_selection import KFold\n",
    "\n",
    "random.shuffle(data_items)\n",
    "\n",
    "kf = KFold(n_splits=5, shuffle=True, random_state=1)\n",
    "all_correct, all_predicted = [], []\n",
    "all_test_data = []\n",
    "for train_idx, test_idx in kf.split(data_items):\n",
    "\n",
    "    train_and_dev_data = data_items[train_idx]\n",
    "    cutoff = int(len(train_and_dev_data)/4*3)\n",
    "    \n",
    "    train_data = train_and_dev_data[:cutoff]\n",
    "    dev_data = train_and_dev_data[cutoff:]\n",
    "    test_data = data_items[test_idx]\n",
    "\n",
    "    train_dataloader = get_data_loader(train_data, BATCH_SIZE)\n",
    "    dev_dataloader = get_data_loader(dev_data, BATCH_SIZE)\n",
    "    test_dataloader = get_data_loader(test_data, BATCH_SIZE, shuffle=False)\n",
    "\n",
    "    device = \"cuda\" if torch.cuda.is_available() else \"cpu\"\n",
    "    model = get_bert_classifier(BERT_MODEL, len(label2idx), device=device)\n",
    "    output_model_file = train(model, train_dataloader, dev_dataloader, \n",
    "                              BATCH_SIZE, GRADIENT_ACCUMULATION_STEPS, device)\n",
    "    \n",
    "    print(\"Loading model from\", output_model_file)\n",
    "    device=\"cpu\"\n",
    "\n",
    "    model = get_bert_classifier(BERT_MODEL, len(label2idx), model_file=output_model_file, device=device)\n",
    "    model.eval()\n",
    "    \n",
    "    _, _, test_correct, test_predicted = evaluate(model, test_dataloader, device)\n",
    "    all_correct.extend(test_correct)\n",
    "    all_predicted.extend(test_predicted)\n",
    "    all_test_data.extend(test_data)\n"
   ]
  },
  {
   "cell_type": "markdown",
   "metadata": {},
   "source": [
    "## Evaluation"
   ]
  },
  {
   "cell_type": "code",
   "execution_count": 4,
   "metadata": {},
   "outputs": [
    {
     "name": "stdout",
     "output_type": "stream",
     "text": [
      "Test performance: (0.8144475920679887, 0.8144475920679887, 0.8144475920679887, None)\n",
      "              precision    recall  f1-score   support\n",
      "\n",
      "  Feedback_1       0.91      0.96      0.93       282\n",
      " Feedback_10       0.00      0.00      0.00        15\n",
      "  Feedback_2       0.84      0.95      0.89        22\n",
      "  Feedback_3       0.67      0.15      0.25        13\n",
      " Feedback _6       0.63      0.79      0.70        42\n",
      "  Feedback_4       0.65      0.52      0.58        33\n",
      "  Feedback_5       0.79      0.91      0.85       205\n",
      "  Feedback_7       0.64      0.79      0.71        43\n",
      "  Feedback_8       0.69      0.33      0.45        33\n",
      "  Feedback_9       1.00      0.06      0.11        18\n",
      "\n",
      "    accuracy                           0.81       706\n",
      "   macro avg       0.68      0.55      0.55       706\n",
      "weighted avg       0.80      0.81      0.79       706\n",
      "\n"
     ]
    },
    {
     "name": "stderr",
     "output_type": "stream",
     "text": [
      "/opt/anaconda3/lib/python3.7/site-packages/sklearn/metrics/_classification.py:1272: UndefinedMetricWarning: Precision and F-score are ill-defined and being set to 0.0 in labels with no predicted samples. Use `zero_division` parameter to control this behavior.\n",
      "  _warn_prf(average, modifier, msg_start, len(result))\n"
     ]
    }
   ],
   "source": [
    "from sklearn.metrics import precision_recall_fscore_support, classification_report\n",
    "\n",
    "print(\"Test performance:\", precision_recall_fscore_support(all_correct, all_predicted, average=\"micro\"))\n",
    "print(classification_report(all_correct, all_predicted, target_names=target_names))"
   ]
  },
  {
   "cell_type": "code",
   "execution_count": 5,
   "metadata": {},
   "outputs": [
    {
     "name": "stdout",
     "output_type": "stream",
     "text": [
      "Methane from cow burps harms the environment because cows burp about 30-50 gallons of methane gas into the atmosphere each day.#Feedback_5#Feedback_5\n",
      "Methane from cow burps harms the environment because it is a greenhouse gas which contributes to global warming#Feedback_1#Feedback_1\n",
      "Methane from cow burps harms the environment because the gas increases earth temperature.#Feedback_1#Feedback_1\n",
      "Methane from cow burps harms the environment because it adds carbon to the atmospehre#Feedback_10#Feedback_8\n",
      "Methane from cow burps harms the environment because it adds to the global warming effect.#Feedback_1#Feedback_1\n",
      "Methane from cow burps harms the environment because it produces 14.5% of greenhouse gases worldwide.#Feedback_7#Feedback_7\n",
      "Methane from cow burps harms the environment because they're burps contain methane an overall create 30 to 50 gallons of methane released into the atmosphere.#Feedback_5#Feedback_5\n",
      "Methane from cow burps harms the environment because it burps out 30-50 gallons of the greenhouse gas methane.#Feedback_5#Feedback_5\n",
      "Methane from cow burps harms the environment because it causes the Earth's temperature to rise or global warming.#Feedback_1#Feedback_1\n",
      "Methane from cow burps harms the environment because they are contributing to global warming.#Feedback_5#Feedback_5\n",
      "Methane from cow burps harms the environment because it is a greenhouse gas#Feedback _6#Feedback _6\n",
      "Methane from cow burps harms the environment because they cause the temperature of the world to rise during global warming.#Feedback_5#Feedback_5\n",
      "Methane from cow burps harms the environment because it increases the earth's temperature, therefore creating global warming.#Feedback_1#Feedback_1\n",
      "Methane from cow burps harms the environment because it affects the temperature and causes it to rise.#Feedback_1#Feedback_1\n",
      "Methane from cow burps harms the environment because it causes Earth’s temperature to increase.#Feedback_1#Feedback_1\n",
      "Methane from cow burps harms the environment because it causes temperatures to rise.#Feedback_1#Feedback_1\n",
      "Methane from cow burps harms the environment because it causes the earths temperature to rise.#Feedback_1#Feedback_1\n",
      "Methane from cow burps harms the environment because they add to global warming by introducing more methane gas.#Feedback_1#Feedback_5\n",
      "Methane from cow burps harms the environment because each of the world’s 1.5 billion cows burp out 30-50 gallons of the greenhouse gas methane, causing Earth's temperature to rise, in a process called global warming.#Feedback_5#Feedback_5\n",
      "Methane from cow burps harms the environment because greenhouse gasses speed up global warming.#Feedback_1#Feedback_1\n",
      "Methane from cow burps harms the environment because it causes earth's temperature to rise leading to natural disasters.#Feedback_2#Feedback_1\n",
      "Methane from cow burps harms the environment because it causes Earth's temperature to rise beyond an acceptable range.#Feedback_1#Feedback_1\n",
      "Methane from cow burps harms the environment because gas causes Earth's temperature to rise in a process called global warming.#Feedback_1#Feedback_1\n",
      "Methane from cow burps harms the environment because it causes the Earth's temperature to rise.#Feedback_1#Feedback_1\n",
      "Methane from cow burps harms the environment because methane is a greenhouse gas that heavily contributes to global warming.#Feedback_1#Feedback_1\n",
      "Methane from cow burps harms the environment because it cause the earth's temperature rise in a process called global warming.#Feedback_1#Feedback_1\n",
      "Methane from cow burps harms the environment because it raises air temperature contributing to global warming.#Feedback_1#Feedback_1\n",
      "Methane from cow burps harms the environment because it causes earths temperature to rise which causes global warming.#Feedback_1#Feedback_1\n",
      "Methane from cow burps harms the environment because this gas causes Earth's temperature to rise.#Feedback_1#Feedback_1\n",
      "Methane from cow burps harms the environment because burps out 30-50 gallons of the greenhouse gas methane and that causes global warming.#Feedback_5#Feedback_5\n",
      "Methane from cow burps harms the environment because it helps to speed up global warming#Feedback_1#Feedback_1\n",
      "Methane from cow burps harms the environment because it cause the earth's temperatures to rise.#Feedback_1#Feedback_1\n",
      "Methane from cow burps harms the environment because it increases the earth's temperature.#Feedback_1#Feedback_1\n",
      "Methane from cow burps harms the environment because of releasing the greenhouse gas methane.#Feedback_5#Feedback_5\n",
      "Methane from cow burps harms the environment because methane causes Earth's temperature to rise.#Feedback_1#Feedback_1\n",
      "Methane from cow burps harms the environment because they release 30 to 50 gallons of methane everyday.#Feedback_5#Feedback_5\n",
      "Methane from cow burps harms the environment because methane contributes to rising temperatures that lead to global warming.#Feedback_1#Feedback_1\n",
      "Methane from cow burps harms the environment because the burps produce about 14.5% of the world's greenhouse gases.#Feedback_7#Feedback_7\n",
      "Methane from cow burps harms the environment because scientists believe that it adds 14.5% of the total methane to the atmosphere, increasing global warming.#Feedback_7#Feedback_7\n",
      "Methane from cow burps harms the environment because their burp contains the greenhouse gas methane.#Feedback_5#Feedback_5\n",
      "Methane from cow burps harms the environment because each cow belches approximately 50 gallons of methane per year which contributes to air pollution as well as global warming.#Feedback_5#Feedback_5\n",
      "Methane from cow burps harms the environment because it is a greenhouse gas that contributes significantly to global warming and thus, climate change#Feedback_3#Feedback_1\n",
      "Methane from cow burps harms the environment because methane is a potential greenhouse gas.#Feedback _6#Feedback _6\n",
      "Methane from cow burps harms the environment because it is a gas that contributes to global warming.#Feedback_1#Feedback_1\n",
      "Methane from cow burps harms the environment because it is a \"greenhouse gas\" that many believe is a contributing factor in global warming.#Feedback_1#Feedback_1\n",
      "Methane from cow burps harms the environment because their burps release methane gas into the atmosphere, which in turn contributes to global warming.#Feedback_5#Feedback_5\n",
      "Methane from cow burps harms the environment because they contribute to global warming, which is linked to erratic and dangerous weather patterns.#Feedback_5#Feedback_5\n",
      "Methane from cow burps harms the environment because it creates gas that cause the rise of Earth's temperature to eventually lead towards global warming.#Feedback_4#Feedback_5\n",
      "Methane from cow burps harms the environment because cows burp methane, and methane causes the temperature of the earth to rise.#Feedback_5#Feedback_5\n",
      "Methane from cow burps harms the environment because the greenhouse gasses emitted get trapped in the atmosphere and raise the temperature of Earth.#Feedback_1#Feedback _6\n",
      "Methane from cow burps harms the environment because they burn out gallons of the greenhouse gases.#Feedback_5#Feedback_5\n",
      "Methane from cow burps harms the environment because its a harmful greenhouse gas.#Feedback _6#Feedback _6\n",
      "Methane from cow burps harms the environment because that is global warming sign#Feedback_8#Feedback_1\n",
      "Methane from cow burps harms the environment because the cows are burping green house gases.#Feedback_5#Feedback_5\n",
      "Methane from cow burps harms the environment because methane contributes to global warning which leads to extreme weather events.#Feedback_2#Feedback_2\n",
      "Methane from cow burps harms the environment because it raises the earths temperatures#Feedback_1#Feedback_1\n",
      "Methane from cow burps harms the environment because they burp out 30-50 gallons a piece, total this is 14.5 of all greenhouse gas emissions.#Feedback_7#Feedback_7\n",
      "Methane from cow burps harms the environment because it increases the amount of greenhouse gases which increases global warming.#Feedback_1#Feedback_1\n",
      "Methane from cow burps harms the environment because the methane gas in the burps contributes to global warming.#Feedback_1#Feedback_5\n",
      "Methane from cow burps harms the environment because methane is a greenhouse gas, which means it contributes to global warming.#Feedback_1#Feedback_1\n",
      "Methane from cow burps harms the environment because it creates chemicals in the air#Feedback_4#Feedback_4\n",
      "Methane from cow burps harms the environment because it adds unwanted gases to the atmosphere, which could contribute to global warming.#Feedback _6#Feedback_1\n",
      "Methane from cow burps harms the environment because the gas increases global warming.#Feedback_1#Feedback_1\n",
      "Methane from cow burps harms the environment because 30-50 gallons of the greenhouse gas methane is produced every day, which contributes to global warming.#Feedback_5#Feedback_7\n",
      "Methane from cow burps harms the environment because it increases the amount of greenhouse gas in earth's atmosphere.#Feedback _6#Feedback _6\n",
      "Methane from cow burps harms the environment because it generates 30 to 50 gallons of methane daily contributing to greenhouse gases and global warming.#Feedback_5#Feedback_5\n",
      "Methane from cow burps harms the environment because it contributes to greenhouse gas.#Feedback _6#Feedback _6\n",
      "Methane from cow burps harms the environment because of the vast amount it that cause's the Earth's temperature to rise.#Feedback_1#Feedback_1\n",
      "Methane from cow burps harms the environment because they release green house gases.#Feedback_5#Feedback_5\n",
      "Methane from cow burps harms the environment because every day a cow burps out 30-50 gallons of the greenhouse gas methane.#Feedback_5#Feedback_5\n",
      "Methane from cow burps harms the environment because cow burps contain methane and methane is a major factor in climate change.#Feedback_5#Feedback_5\n",
      "Methane from cow burps harms the environment because the methane gas contained in their burps contributes to global warming.#Feedback_1#Feedback_5\n",
      "Methane from cow burps harms the environment because the contribute to greenhouse emissions#Feedback _6#Feedback _6\n",
      "Methane from cow burps harms the environment because raises the temperature.#Feedback_1#Feedback_1\n",
      "Methane from cow burps harms the environment because it is a greenhouse gas contributing to global climate change.#Feedback_3#Feedback_1\n",
      "Methane from cow burps harms the environment because it the temperature to go up.#Feedback_1#Feedback_1\n",
      "Methane from cow burps harms the environment because it contains methane which is responsible for 14.5% of the greenhouse gas emissions.#Feedback_7#Feedback_7\n",
      "Methane from cow burps harms the environment because of the greenhouse gasses emitted.#Feedback_4#Feedback _6\n",
      "Methane from cow burps harms the environment because this gas causes Earth's temperature to rise#Feedback_1#Feedback_1\n",
      "Methane from cow burps harms the environment because each burb produces the greenhouse gas methane.#Feedback_5#Feedback_5\n",
      "Methane from cow burps harms the environment because it raises greenhouse gases#Feedback _6#Feedback _6\n",
      "Methane from cow burps harms the environment because it contributes to the greenhouse effect and the resultant global warming.#Feedback_1#Feedback_1\n",
      "Methane from cow burps harms the environment because methane is a greenhouse gas.#Feedback _6#Feedback _6\n",
      "Methane from cow burps harms the environment because the gases released contain methane which is harmful to the environment.#Feedback_5#Feedback_5\n",
      "Methane from cow burps harms the environment because it causes 14% of all greenhouse emissions.#Feedback_7#Feedback_7\n",
      "Methane from cow burps harms the environment because it adds to greenhouse gasses in the atmosphere.#Feedback _6#Feedback _6\n",
      "Methane from cow burps harms the environment because it causes the earth's temperature to rise which in turn causes more natural disasters on earth.#Feedback_1#Feedback_1\n",
      "Methane from cow burps harms the environment because of the greenhouse gas they emit into the atmosphere.#Feedback_5#Feedback_5\n",
      "Methane from cow burps harms the environment because it contains greenhouse gas emissions.#Feedback_4#Feedback_4\n",
      "Methane from cow burps harms the environment because they produce methane gas that cause global warming.#Feedback_5#Feedback_5\n",
      "Methane from cow burps harms the environment because a cow does on overage release between 70 and 120 kg of Methane per year#Feedback_5#Feedback_7\n",
      "Methane from cow burps harms the environment because gas causes earth's temperatures to rise in an effect called global warming.#Feedback_1#Feedback_1\n",
      "Methane from cow burps harms the environment because it causes Earth's temperature to rise in a process called \"global warming\".#Feedback_1#Feedback_1\n",
      "Methane from cow burps harms the environment because it adds to greenhouse gases.#Feedback _6#Feedback _6\n",
      "Methane from cow burps harms the environment because gasses are released and become trapped in the atmosphere causing increasing global temperatures.#Feedback_5#Feedback_1\n",
      "Methane from cow burps harms the environment because the methane causes additional global warming.#Feedback_1#Feedback_1\n",
      "Methane from cow burps harms the environment because They predict that as Earth’s temperature rises.#Feedback_8#Feedback_5\n",
      "Methane from cow burps harms the environment because this gas causes the earth's temperature to rise#Feedback_1#Feedback_1\n",
      "Methane from cow burps harms the environment because the greenhouse gases that causes the Earth's temperature to rise.#Feedback_1#Feedback_1\n",
      "Methane from cow burps harms the environment because it increases Earth temperature#Feedback_1#Feedback_1\n",
      "Methane from cow burps harms the environment because it increases the level of greenhouse gases.#Feedback _6#Feedback _6\n",
      "Methane from cow burps harms the environment because methane is a greenhouse gas that contributes to the rising of Earth's temperature which in turn causes severe weather around the world.#Feedback_2#Feedback_2\n",
      "Methane from cow burps harms the environment because it causes Earth's temperature to rise leading to extreme weather events.#Feedback_2#Feedback_2\n",
      "Methane from cow burps harms the environment because they cause the Earth's temperature to rise#Feedback_5#Feedback_5\n",
      "Methane from cow burps harms the environment because it produce 89% of gas that damage the earth, it increasing the temperature in the earth.#Feedback_9#Feedback_7\n",
      "Methane from cow burps harms the environment because it is not regular#Feedback_10#Feedback_8\n",
      "Methane from cow burps harms the environment because it contributes to global warming by raising the Earth's temperature.#Feedback_1#Feedback_1\n",
      "Methane from cow burps harms the environment because methane contributes to climate change.#Feedback_3#Feedback_1\n",
      "Methane from cow burps harms the environment because gas causes Earth's temperature to rise in a process called global warming#Feedback_1#Feedback_1\n",
      "Methane from cow burps harms the environment because with the amount of cows on this planet, they aid in global warming.#Feedback_5#Feedback_5\n",
      "Methane from cow burps harms the environment because burps contain methane which causes global warming.#Feedback_5#Feedback_5\n",
      "Methane from cow burps harms the environment because when released it causes earths temperature to rise, known as global warming.#Feedback_1#Feedback_1\n",
      "Methane from cow burps harms the environment because it produces greenhouses gases that harm the environment.#Feedback_4#Feedback_4\n",
      "Methane from cow burps harms the environment because cows burp 30-50 gallons of methane which causes global warming.#Feedback_5#Feedback_5\n",
      "Methane from cow burps harms the environment because that methane burns holes into the lining of the atmosphere allowing our oxygen to escape.#Feedback_9#Feedback_5\n",
      "Methane from cow burps harms the environment because it increases global warming as it's released into the atmosphere.#Feedback_1#Feedback_1\n",
      "Methane from cow burps harms the environment because it causes the earths temperature to rise, therefore causing global warming.#Feedback_1#Feedback_1\n",
      "Methane from cow burps harms the environment because it contributes to global warming.#Feedback_1#Feedback_1\n",
      "Methane from cow burps harms the environment because it releases CO2 into the atmosphere, contributing to global warming.#Feedback_10#Feedback_5\n",
      "Methane from cow burps harms the environment because they account for 14.5% of greenhouse gas.#Feedback_7#Feedback_7\n",
      "Methane from cow burps harms the environment because they add to greenhouse gases, which contribute to global warming.#Feedback_1#Feedback_5\n",
      "Methane from cow burps harms the environment because it causes greenhouse gas emissions.#Feedback_4#Feedback _6\n",
      "Methane from cow burps harms the environment because it is a greenhouse gas that contributes to global warming.#Feedback_1#Feedback_1\n",
      "Methane from cow burps harms the environment because it keeps the greenhouse gases in the atmosphere#Feedback _6#Feedback_4\n",
      "Methane from cow burps harms the environment because the it causes the earth temperature to rise.#Feedback_1#Feedback_1\n",
      "Methane from cow burps harms the environment because they release methane gas, adding to global warming.#Feedback_5#Feedback_5\n",
      "Methane from cow burps harms the environment because as a collective 1.5ish million cows release 30-50 gallons of greenhouse gases (approximately 14% of all greenhouse gases) that contribute to global warming.#Feedback_5#Feedback_5\n",
      "Methane from cow burps harms the environment because environment is first.#Feedback_8#Feedback_8\n",
      "Methane from cow burps harms the environment because each day they burp out 30-50 gallons of the greenhouse gas methane which damages the ozone layer.#Feedback_9#Feedback_5\n",
      "Methane from cow burps harms the environment because they cause green house gas#Feedback_5#Feedback_5\n",
      "Methane from cow burps harms the environment because it traps greenhouse gases.#Feedback_10#Feedback_4\n",
      "Methane from cow burps harms the environment because methane is released from the cow.#Feedback_5#Feedback_5\n",
      "Methane from cow burps harms the environment because they release 30-50 gallons of methane... per day, which is a massive amount.#Feedback_5#Feedback_5\n",
      "Methane from cow burps harms the environment because it helps the earth's temperature to rise.#Feedback_1#Feedback_1\n",
      "Methane from cow burps harms the environment because it raises the temperature of the earth and causes global warming.#Feedback_1#Feedback_1\n",
      "Methane from cow burps harms the environment because it releases methane, a greenhouse gas.#Feedback_5#Feedback_5\n",
      "Methane from cow burps harms the environment because it increases global warming#Feedback_1#Feedback_1\n",
      "Methane from cow burps harms the environment because they burp out greenhouse gas methane which causes the Earth's temperature to rise.#Feedback_5#Feedback_5\n",
      "Methane from cow burps harms the environment because it produces about 14.5% of the worlds greenhouse gases which leads to global warming.#Feedback_7#Feedback_7\n",
      "Methane from cow burps harms the environment because it causes the Earth's temperature to rise and cause global warming.#Feedback_1#Feedback_1\n",
      "Methane from cow burps harms the environment because increases co2 in the atmosphere.#Feedback_10#Feedback _6\n",
      "Methane from cow burps harms the environment because it produces global warming gasses.#Feedback_4#Feedback_4\n",
      "Methane from cow burps harms the environment because it causes an effect of greenhouse gases.#Feedback _6#Feedback _6\n",
      "Methane from cow burps harms the environment because it contributes 14.5% of the greenhouse gas in the environment.#Feedback_7#Feedback_7\n",
      "Methane from cow burps harms the environment because methane is a greenhouse gas that contributes to global warming.#Feedback_1#Feedback_1\n",
      "Methane from cow burps harms the environment because it is said to release 30-50gallons of methane gas per cow.#Feedback_7#Feedback_5\n",
      "Methane from cow burps harms the environment because it increases the levels of the greenhouse gas methane in the rnvironment.#Feedback_5#Feedback_5\n",
      "Methane from cow burps harms the environment because it contributes to global warming issues.#Feedback_1#Feedback_1\n",
      "Methane from cow burps harms the environment because the gas causes the Earth's temperature to rise (global warming).#Feedback_1#Feedback_1\n",
      "Methane from cow burps harms the environment because it causes a greenhouse gas called methane.#Feedback_5#Feedback_5\n",
      "Methane from cow burps harms the environment because it affects global warming.#Feedback_1#Feedback_1\n",
      "Methane from cow burps harms the environment because it is a chemical#Feedback_8#Feedback _6\n",
      "Methane from cow burps harms the environment because it causes global warming through carbon dioxide emissions.#Feedback_10#Feedback_1\n",
      "Methane from cow burps harms the environment because it contributes to greenhouse gases.#Feedback _6#Feedback _6\n",
      "Methane from cow burps harms the environment because each burp contains an unbelievable volumn of methan gas, a gas associated with global warming.#Feedback_5#Feedback_5\n",
      "Methane from cow burps harms the environment because it increases greenhouse gasses and contributes to global warming.#Feedback_1#Feedback_1\n",
      "Methane from cow burps harms the environment because reduce about one-third of greenhouse gas emissions caused by animal agriculture.#Feedback_8#Feedback_7\n",
      "Methane from cow burps harms the environment because it releases a significant quantity of methane greenhouse gas#Feedback_5#Feedback_5\n",
      "Methane from cow burps harms the environment because the gas makes Earth's temperature's rise.#Feedback_1#Feedback_1\n",
      "Methane from cow burps harms the environment because earth's temperature rises in a process called global warming.#Feedback_1#Feedback_1\n",
      "Methane from cow burps harms the environment because methane causes the earth to tempature rise causing global warming.#Feedback_1#Feedback_1\n",
      "Methane from cow burps harms the environment because these greenhouse gases are a big factor in global warming, which is causing droughts, heat waves, wildfires, and floods.#Feedback_2#Feedback_2\n",
      "Methane from cow burps harms the environment because methane causes temperatures to rise.#Feedback_1#Feedback_1\n",
      "Methane from cow burps harms the environment because the cows burp 30-50 gallons of the greenhouse gas methane which causes the Earth's temperature to rise#Feedback_5#Feedback_5\n",
      "Methane from cow burps harms the environment because it causes temperature to rise, contributing to global warming.#Feedback_1#Feedback_1\n",
      "Methane from cow burps harms the environment because methane gas causes the Earth to heat up a process called Global Warming.#Feedback_1#Feedback_1\n",
      "Methane from cow burps harms the environment because it increases the Earth's temperature and causes global warming.#Feedback_1#Feedback_1\n",
      "Methane from cow burps harms the environment because it produces greenhouse gases which causes Earth's temperature to rise in a process called global warming.#Feedback_4#Feedback_4\n",
      "Methane from cow burps harms the environment because it increases greenhouse gas emissions, intensifying global warming.#Feedback_1#Feedback_1\n",
      "Methane from cow burps harms the environment because it is a greenhouse gas attributed to global warming.#Feedback_1#Feedback_1\n",
      "Methane from cow burps harms the environment because the methane exhaled contributes to global warming.#Feedback_5#Feedback_1\n",
      "Methane from cow burps harms the environment because its a greenhouse gas.#Feedback _6#Feedback _6\n",
      "Methane from cow burps harms the environment because they produce the greenhouse gas methane.#Feedback_5#Feedback_5\n",
      "Methane from cow burps harms the environment because methane is a greenhouse gas.#Feedback _6#Feedback _6\n",
      "Methane from cow burps harms the environment because methane is an important greenhouse gas.#Feedback _6#Feedback _6\n",
      "Methane from cow burps harms the environment because it causes the earth temperature to change from global warming.#Feedback_1#Feedback_1\n",
      "Methane from cow burps harms the environment because 30-50 gallons of the greenhouse gas methane are submitted.#Feedback_7#Feedback_5\n",
      "Methane from cow burps harms the environment because it contributes heavily to global warming.#Feedback_1#Feedback_1\n",
      "Methane from cow burps harms the environment because they contain 14.5% of the greenhouse gas methane emitted into the environment.#Feedback_7#Feedback_7\n",
      "Methane from cow burps harms the environment because methane is a greenhouse gas#Feedback _6#Feedback _6\n",
      "Methane from cow burps harms the environment because methane causes the temperature of the earth to rise causing global warming.#Feedback_1#Feedback_1\n",
      "Methane from cow burps harms the environment because they burp methane gas.#Feedback_5#Feedback_5\n",
      "Methane from cow burps harms the environment because it can cause the earths temp to increase#Feedback_1#Feedback_8\n",
      "Methane from cow burps harms the environment because it emits an extremely large quantity of a greenhouse gas into the atmosphere, thus warming the earth.#Feedback_4#Feedback_5\n",
      "Methane from cow burps harms the environment because it has an affect on global warming.#Feedback_1#Feedback_1\n",
      "Methane from cow burps harms the environment because it creates a rise in methane, which leads to increased greenhouse gases.#Feedback _6#Feedback_4\n",
      "Methane from cow burps harms the environment because of the green house gas effect in terms of global warming.#Feedback_1#Feedback_1\n",
      "Methane from cow burps harms the environment because is causes the temperature of the earth to rise.#Feedback_1#Feedback_1\n",
      "Methane from cow burps harms the environment because of their diet which can be remedied with adding seaweed to their diet.#Feedback_8#Feedback_5\n",
      "Methane from cow burps harms the environment because every day each of the world’s 1.5 billion cows burps out methane.#Feedback_5#Feedback_5\n",
      "Methane from cow burps harms the environment because they burp out 30-50 gallons of greenhouse gas methane which causes the earth's temperature to rise.#Feedback_5#Feedback_5\n",
      "Methane from cow burps harms the environment because the methane released leads to a rise in temperature in a process called global warming.#Feedback_1#Feedback_1\n",
      "Methane from cow burps harms the environment because cow burping and other aspects of animal agriculture, the practice of raising animals for food purposes, produce about 14.5% of the world's greenhouse gases.#Feedback_3#Feedback_7\n",
      "Methane from cow burps harms the environment because it releases a lot of methane for each cow.#Feedback_5#Feedback_5\n",
      "Methane from cow burps harms the environment because methane is a greenhouse gas, which causes Earth's temperature to rise in a process called Global Warming.#Feedback_1#Feedback_1\n",
      "Methane from cow burps harms the environment because it causes earth’s temperature to rise.#Feedback_1#Feedback_1\n",
      "Methane from cow burps harms the environment because it causes the Earths temperature to rise and global warming is the effect.#Feedback_1#Feedback_1\n",
      "Methane from cow burps harms the environment because of the greenhouse gas methane.#Feedback_8#Feedback_5\n",
      "Methane from cow burps harms the environment because methane is a greenhouse gas that is believed by many to potentially cause global warming.#Feedback_1#Feedback_1\n",
      "Methane from cow burps harms the environment because there are so many cows and not enough solutions to prevent cows from burping so much that it harms the environment.#Feedback_5#Feedback_5\n",
      "Methane from cow burps harms the environment because it causes the Earth's temperature to rise causing global warming.#Feedback_1#Feedback_1\n",
      "Methane from cow burps harms the environment because it contribute to greenhouse gases which affects the Earth's temperature#Feedback_4#Feedback_1\n",
      "Methane from cow burps harms the environment because they release co2#Feedback_10#Feedback_5\n",
      "Methane from cow burps harms the environment because methane is a greenhouse gas that causes the earth's temperature to rise.#Feedback_1#Feedback_1\n",
      "Methane from cow burps harms the environment because they produce greenhouse gaees.#Feedback_5#Feedback_5\n",
      "Methane from cow burps harms the environment because cow burps release methane gas which causes harm to the Earth's atmosphere.#Feedback_5#Feedback_5\n",
      "Methane from cow burps harms the environment because every day, 1.5 billion cows burp 30-50 gallons of methane which raises the Earth's temperature via global warming.#Feedback_5#Feedback_5\n",
      "Methane from cow burps harms the environment because it causes the earth's temperature to rise which scientists believe leads to extreme weather events like droughts and floods.#Feedback_2#Feedback_2\n",
      "Methane from cow burps harms the environment because it produces greenhouse gases that damage the ozono layer.#Feedback_9#Feedback_4\n",
      "Methane from cow burps harms the environment because of what they consume.#Feedback_8#Feedback_5\n",
      "Methane from cow burps harms the environment because the methane produced from cow burps cause a rise in the earth's temperature.#Feedback_7#Feedback_1\n",
      "Methane from cow burps harms the environment because global warming increases extreme weather events such as droughts, heat waves, wildfires, and floods.#Feedback_2#Feedback_2\n",
      "Methane from cow burps harms the environment because it contributes to one-third of the greenhouse gas emissions caused by animal agriculture.#Feedback_3#Feedback_7\n",
      "Methane from cow burps harms the environment because it is linked.to an increase in global warming which causes more severe weather events.#Feedback_2#Feedback_2\n",
      "Methane from cow burps harms the environment because it produces much of the world's greenhouse gases.#Feedback_4#Feedback_4\n",
      "Methane from cow burps harms the environment because this causes the Earth's temperature to rise in a process called global warming.#Feedback_1#Feedback_1\n",
      "Methane from cow burps harms the environment because they're releasing methane gases which arm the environment.#Feedback_5#Feedback_5\n",
      "Methane from cow burps harms the environment because Methane is bad for the internment in such high quantities.#Feedback _6#Feedback _6\n",
      "Methane from cow burps harms the environment because it makes earths temperature rise the effect is called global warming.#Feedback_1#Feedback_1\n",
      "Methane from cow burps harms the environment because they release the greenhouse gas methane.#Feedback_5#Feedback_5\n",
      "Methane from cow burps harms the environment because it produces greenhouse gases which are contributing to global warming.#Feedback_4#Feedback_4\n",
      "Methane from cow burps harms the environment because because the gas causes Earth's temperature to rise causing global warming.#Feedback_1#Feedback_1\n",
      "Methane from cow burps harms the environment because it releases 30-50 gallons of greenhouse gas methane on a daily basis.#Feedback_5#Feedback_5\n",
      "Methane from cow burps harms the environment because it goes into the atmosphere and causes global warming.#Feedback_1#Feedback_1\n",
      "Methane from cow burps harms the environment because it makes the temperature rise.#Feedback_1#Feedback_1\n",
      "Methane from cow burps harms the environment because it produces 30-50 gallons of greenhouse gas methane.#Feedback_5#Feedback_5\n",
      "Methane from cow burps harms the environment because it releases methane and the gas causes the earths temperature to rise.#Feedback_5#Feedback_1\n",
      "Methane from cow burps harms the environment because it release greenhouse gas emission in the air.#Feedback_4#Feedback_4\n",
      "Methane from cow burps harms the environment because cows consume seaweed as part of their diets#Feedback_8#Feedback_5\n",
      "Methane from cow burps harms the environment because it causes earth's temperature to rise, leading to global warming.#Feedback_1#Feedback_1\n",
      "Methane from cow burps harms the environment because it causes a rise in the earth's temperature#Feedback_1#Feedback_1\n",
      "Methane from cow burps harms the environment because it increases the rate of global warming.#Feedback_1#Feedback_1\n",
      "Methane from cow burps harms the environment because cows burp methane, which is a greenhouse gas that causes the earth's temperature to rise and that rising temperature is called global warming.#Feedback_5#Feedback_5\n",
      "Methane from cow burps harms the environment because the gas from the cow burps contribute to gas emissions and raises the Earth's temperature.#Feedback_5#Feedback_1\n",
      "Methane from cow burps harms the environment because it releases gas into the environment and can cause climate change.#Feedback_5#Feedback_5\n",
      "Methane from cow burps harms the environment because it produces 14.5% of the earth's greenhouse gases.#Feedback_7#Feedback_7\n",
      "Methane from cow burps harms the environment because the cows emit methane when they burp.#Feedback_5#Feedback_5\n",
      "Methane from cow burps harms the environment because the burps cause the temperature to rise.#Feedback_5#Feedback_5\n",
      "Methane from cow burps harms the environment because the gas causes the temperature of the environment to rise through the process of global warming.#Feedback_1#Feedback_1\n",
      "Methane from cow burps harms the environment because increase in extreme weather events such as droughts, heat waves, wildfires, and floods.#Feedback_8#Feedback_2\n",
      "Methane from cow burps harms the environment because methane causes Earth's temperature to rise in a process called global warming.#Feedback_1#Feedback_1\n",
      "Methane from cow burps harms the environment because it increases the amount of methane in the atmosphere.#Feedback_5#Feedback_5\n",
      "Methane from cow burps harms the environment because that is responsible for one-third of greenhouse gas emissions#Feedback_5#Feedback_7\n",
      "Methane from cow burps harms the environment because it causes the earth's temperature to rise and causes global warming.#Feedback_1#Feedback_1\n",
      "Methane from cow burps harms the environment because it is a green house gas and adds to global warming.#Feedback_1#Feedback_1\n",
      "Methane from cow burps harms the environment because it causes green house methane.#Feedback_5#Feedback_5\n",
      "Methane from cow burps harms the environment because Not everyone shares Impossible Foods’ goal of ending animal agriculture.#Feedback_8#Feedback_5\n",
      "Methane from cow burps harms the environment because cows burp out 30-50 gallons daily of methane, a gas causing Earth temperatures to rise.#Feedback_5#Feedback_5\n",
      "Methane from cow burps harms the environment because it accumulates in the atmosphere and traps in heat, leading to global warming.#Feedback_1#Feedback_5\n",
      "Methane from cow burps harms the environment because it causes the temperatures to go up.#Feedback_1#Feedback_1\n",
      "Methane from cow burps harms the environment because metahane causes the Earth's temperature to rise causing global warming.#Feedback_1#Feedback_1\n",
      "Methane from cow burps harms the environment because 1.5 billion cows burping produces a lot of methane, and methane is a greenhouse gas.#Feedback_5#Feedback_5\n",
      "Methane from cow burps harms the environment because of what farmers feed them.#Feedback_8#Feedback_5\n",
      "Methane from cow burps harms the environment because it contributes to Earth's rising temperature through global warming.#Feedback_1#Feedback_1\n",
      "Methane from cow burps harms the environment because this gas causes Earth's temperature to rise in the process we know as global warming.#Feedback_1#Feedback_1\n",
      "Methane from cow burps harms the environment because they increase greenhouse gases and contribute to global warming.#Feedback_5#Feedback_5\n",
      "Methane from cow burps harms the environment because it releases methane into the air which adds to global warming.#Feedback_5#Feedback_5\n",
      "Methane from cow burps harms the environment because it is a greenhouse gas that helps raise global temperatures.#Feedback_1#Feedback_1\n",
      "Methane from cow burps harms the environment because the amount of methane released from the world's 1.5 billion cows is 30-50 gallons of methane gas every day.#Feedback_5#Feedback_5\n",
      "Methane from cow burps harms the environment because it causes the earths temperature to rise and cause a process called global warming.#Feedback_1#Feedback_1\n",
      "Methane from cow burps harms the environment because it puts greenhouse gas emissions in the atmosphere.#Feedback _6#Feedback _6\n",
      "Methane from cow burps harms the environment because it contributes to greenhouse gases#Feedback _6#Feedback _6\n",
      "Methane from cow burps harms the environment because the release of methane contributes to global warming.#Feedback_1#Feedback_1\n",
      "Methane from cow burps harms the environment because each of the world’s 1.5 billion cows burps out 30-50 gallons of the greenhouse gas methane.#Feedback_5#Feedback_5\n",
      "Methane from cow burps harms the environment because the green house gas emissions#Feedback_8#Feedback _6\n",
      "Methane from cow burps harms the environment because they cause global warming#Feedback_5#Feedback_5\n",
      "Methane from cow burps harms the environment because it causes the earths temperature to increase.#Feedback_1#Feedback_1\n",
      "Methane from cow burps harms the environment because the gases produce greenhouse gases, which affect the atmosphere in e negative way.#Feedback_4#Feedback_4\n",
      "Methane from cow burps harms the environment because methane is bad for the environment.#Feedback _6#Feedback_1\n",
      "Methane from cow burps harms the environment because it releases greenhouse gas methane which causes the earth's temperature to rise causing global warming.#Feedback_5#Feedback_5\n",
      "Methane from cow burps harms the environment because - Every time a cow burps or passes gas, a little puff of methane wafts ... added together, can have a big effect on climate because methane is a .#Feedback_5#Feedback_5\n",
      "Methane from cow burps harms the environment because Not everyone shares Impossible Fo#Feedback_8#Feedback_8\n",
      "Methane from cow burps harms the environment because it releases greenhouse gases that contribute significantly to global warming.#Feedback_4#Feedback_5\n",
      "Methane from cow burps harms the environment because they cause methane gas production#Feedback_5#Feedback_5\n",
      "Methane from cow burps harms the environment because of methane gas#Feedback_8#Feedback_8\n",
      "Methane from cow burps harms the environment because it is a greenhouse gas which is leading to the warming of our planet#Feedback_1#Feedback_1\n",
      "Methane from cow burps harms the environment because they contribute to 14.5% of greenhouse gas emissions.#Feedback_7#Feedback_7\n",
      "Methane from cow burps harms the environment because it causes fumes that hurt it.#Feedback_8#Feedback_5\n",
      "Methane from cow burps harms the environment because they add 14.5% of the greenhouse gasses to the environment.#Feedback_7#Feedback_7\n",
      "Methane from cow burps harms the environment because methane causes the earth's temperature to rise known as global warming.#Feedback_1#Feedback_1\n",
      "Methane from cow burps harms the environment because it raises the global temperature resulting in climate change.#Feedback_3#Feedback_1\n",
      "Methane from cow burps harms the environment because of the earth's temperature is rising#Feedback_1#Feedback_1\n",
      "Methane from cow burps harms the environment because it causes the greenhouse effect which raises the temperature of the earth, called global warming.#Feedback_1#Feedback_1\n",
      "Methane from cow burps harms the environment because they contain c02#Feedback_10#Feedback_5\n",
      "Methane from cow burps harms the environment because it causes the Earth's temperature to rise, leading to increased occurrences of droughts, heat waves, wildfires, and floods.#Feedback_2#Feedback_2\n",
      "Methane from cow burps harms the environment because It contributes to green house gases#Feedback _6#Feedback _6\n",
      "Methane from cow burps harms the environment because gases such as this contribute to global warming#Feedback_1#Feedback_1\n",
      "Methane from cow burps harms the environment because it releases greenhouse gas emissions.#Feedback_4#Feedback_5\n",
      "Methane from cow burps harms the environment because it causes the temperature of our planet to increase.#Feedback_1#Feedback_1\n",
      "Methane from cow burps harms the environment because it raises the Earth's temperature and causes global warming.#Feedback_1#Feedback_1\n",
      "Methane from cow burps harms the environment because this causes Earth's temperature to rise in a process called global warming.#Feedback_1#Feedback_1\n",
      "Methane from cow burps harms the environment because the methane gas contributes to global warming.#Feedback_1#Feedback_1\n",
      "Methane from cow burps harms the environment because it is a greenhouse gas that accumulates in the atmosphere.#Feedback _6#Feedback _6\n",
      "Methane from cow burps harms the environment because the methane produces greenhouse gases that are linked to global environmental weather changes which includes rises in temperatures, droughts, and fires.#Feedback_4#Feedback_2\n",
      "Methane from cow burps harms the environment because there are a large amount of cows and thus all together the methane is a very substantial amount.#Feedback_5#Feedback_5\n",
      "Methane from cow burps harms the environment because the Methane causes the temperature to rise increasing greenhouse gas emmissions.#Feedback_9#Feedback_1\n",
      "Methane from cow burps harms the environment because it is causing the earth's temperature to rise.#Feedback_1#Feedback_1\n",
      "Methane from cow burps harms the environment because it increases methane and causes Earth's temperature to rise in a process called global warming.#Feedback_5#Feedback_1\n",
      "Methane from cow burps harms the environment because methane causes the Earth's temperature to rise which contributes to global warming.#Feedback_1#Feedback_1\n",
      "Methane from cow burps harms the environment because each of the world’s 1.5 billion cows burps out 30-50 gallons of the greenhouse gas methane every day which causes the Earth's temperature to rise.#Feedback_5#Feedback_5\n",
      "Methane from cow burps harms the environment because it cause the Earth's temperature to rise in a process known as global warming.#Feedback_1#Feedback_1\n",
      "Methane from cow burps harms the environment because it causes the environment's temperatures to rise in a process called Global warming.#Feedback_1#Feedback_1\n",
      "Methane from cow burps harms the environment because it causes the temperature to raise.#Feedback_1#Feedback_1\n",
      "Methane from cow burps harms the environment because the burps contain a lot of methane, a green house gas.#Feedback_5#Feedback_5\n",
      "Methane from cow burps harms the environment because it increases greenhouse gas methane causing a rise in Earth's temperature.#Feedback_1#Feedback_1\n",
      "Methane from cow burps harms the environment because this causes global warming.#Feedback_1#Feedback_1\n",
      "Methane from cow burps harms the environment because Earth's temperature will rise in a process called global warming#Feedback_1#Feedback_1\n",
      "Methane from cow burps harms the environment because it increases greenhouse emissions.#Feedback _6#Feedback _6\n",
      "Methane from cow burps harms the environment because it causes global warming#Feedback_1#Feedback_1\n",
      "Methane from cow burps harms the environment because the burps release methane which is a greenhouse gas.#Feedback_5#Feedback_5\n",
      "Methane from cow burps harms the environment because the burps produce methane gas.#Feedback_5#Feedback_5\n",
      "Methane from cow burps harms the environment because this gas causes Earths temperature to rise#Feedback_1#Feedback_1\n",
      "Methane from cow burps harms the environment because methane is a greenhouse gas that causes global warming#Feedback_1#Feedback_1\n",
      "Methane from cow burps harms the environment because it causes global warming,#Feedback_1#Feedback_1\n",
      "Methane from cow burps harms the environment because cows emit methane in their burps, which contribute to heating the environment and contributing to global warming.#Feedback_5#Feedback_5\n",
      "Methane from cow burps harms the environment because they are a greenhouse gas.#Feedback _6#Feedback_5\n",
      "Methane from cow burps harms the environment because his gas causes Earth's temperature to rise in a process called global warming.#Feedback_1#Feedback_1\n",
      "Methane from cow burps harms the environment because the world’s 1.5 billion cows burps out 30-50 gallons of the greenhouse gas methane.#Feedback_5#Feedback_5\n",
      "Methane from cow burps harms the environment because the greenhouse methane contributes to increased global temperatures.#Feedback_1#Feedback_1\n",
      "Methane from cow burps harms the environment because they release green house gas emissions.#Feedback_5#Feedback_5\n",
      "Methane from cow burps harms the environment because methane aids in global warming#Feedback_1#Feedback_1\n",
      "Methane from cow burps harms the environment because methane gasses cause the earth's temperature to rise, contributing to global warming.#Feedback_1#Feedback_1\n",
      "Methane from cow burps harms the environment because their burps contain methane.#Feedback_5#Feedback_5\n",
      "Methane from cow burps harms the environment because the methane produced is such a quantity that it causes temperatures to rise.#Feedback_1#Feedback_1\n",
      "Methane from cow burps harms the environment because methane gas is a greenhouse gas and it causes the Earth's temperature to rise in a process called global warming.#Feedback_1#Feedback_1\n",
      "Methane from cow burps harms the environment because it releases methane, a green house gas that contributes to global warming#Feedback_5#Feedback_5\n",
      "Methane from cow burps harms the environment because it raises green house gases.#Feedback _6#Feedback _6\n",
      "Methane from cow burps harms the environment because it is considered a greenhouse gas that contributes to global temperature increases.#Feedback_1#Feedback_1\n",
      "Methane from cow burps harms the environment because Not everyone.#Feedback_8#Feedback_8\n",
      "Methane from cow burps harms the environment because methane is a great house gas, contributes significantly to climate change#Feedback_3#Feedback_3\n",
      "Methane from cow burps harms the environment because their burps release 30-50 gallons of greenhouse has methane, which causes the Earth's temperature to rise.#Feedback_5#Feedback_5\n",
      "Methane from cow burps harms the environment because it increases the Earth's temperature and contributes to global warming.#Feedback_1#Feedback_1\n",
      "Methane from cow burps harms the environment because of the greenhouse gas.#Feedback_8#Feedback_8\n",
      "Methane from cow burps harms the environment because This gas causes Earth's temperature to rise in a process called global warming.#Feedback_1#Feedback_1\n",
      "Methane from cow burps harms the environment because Every day, each of the world’s 1.5 billion cows burps out 30-50 gallons of the greenhouse gas methane which produce about 14.5% of the world's greenhouse gases.#Feedback_7#Feedback_7\n",
      "Methane from cow burps harms the environment because methane gas worsens the greenhouse effect and hastens the onset of global warming.#Feedback_1#Feedback_1\n",
      "Methane from cow burps harms the environment because it produces methane gas and adds to global warming.#Feedback_5#Feedback_4\n",
      "Methane from cow burps harms the environment because it releases greenhouse gas methane.#Feedback_5#Feedback_5\n",
      "Methane from cow burps harms the environment because it contributes to global warming and increases temperatures to create more weather influenced dangers.#Feedback_2#Feedback_2\n",
      "Methane from cow burps harms the environment because the emissions contribute to the gas that causes global warming.#Feedback_1#Feedback_1\n",
      "Methane from cow burps harms the environment because it creates greenhouse gases.#Feedback_4#Feedback_4\n",
      "Methane from cow burps harms the environment because it increases the effects of global warming.#Feedback_1#Feedback_1\n",
      "Methane from cow burps harms the environment because 1.5 billion cows burp out 30-50 gallons of methane which is a greenhouse gas thus warming the atmosphere#Feedback_5#Feedback_5\n",
      "Methane from cow burps harms the environment because it releases methane gas into the atmosphere, causing global warming.#Feedback_5#Feedback_5\n",
      "Methane from cow burps harms the environment because it produces a greenhouse gas and warms the earth.#Feedback_4#Feedback_4\n",
      "Methane from cow burps harms the environment because cows produce 14.5% of the worlds methane gases.#Feedback_7#Feedback_7\n",
      "Methane from cow burps harms the environment because it creates methane gas.#Feedback_5#Feedback_4\n",
      "Methane from cow burps harms the environment because it releases methane into the atmosphere.#Feedback_5#Feedback_5\n",
      "Methane from cow burps harms the environment because the burps release 30 to 50 gallons of methane.#Feedback_5#Feedback_5\n",
      "Methane from cow burps harms the environment because cows burp 30-50 gallons of methane gas.#Feedback_5#Feedback_5\n",
      "Methane from cow burps harms the environment because they burp out greenhouse gas that raises the temperature of the earth.#Feedback_5#Feedback_5\n",
      "Methane from cow burps harms the environment because not only is it a greenhouse gas, but it's a waste of feed,” Yu said#Feedback_10#Feedback _6\n",
      "Methane from cow burps harms the environment because it causes the Earth's temp to rise.#Feedback_1#Feedback_1\n",
      "Methane from cow burps harms the environment because causes Earth's temperature to rise in a process called global warming.#Feedback_1#Feedback_1\n",
      "Methane from cow burps harms the environment because methane is a greenhouse gas which causes Earth's temperature to rise.#Feedback_1#Feedback_1\n",
      "Methane from cow burps harms the environment because cows burps out 30-50 gallons of the greenhouse gas methane.#Feedback_5#Feedback_5\n",
      "Methane from cow burps harms the environment because it raises the temperature causing global warming.#Feedback_1#Feedback_1\n",
      "Methane from cow burps harms the environment because in the mere practice of raising these farm animals and feeding them, they have raised the level of greenhouse gas emissions by a staggering 14.5%#Feedback_4#Feedback_7\n",
      "Methane from cow burps harms the environment because it's a harmful greenhouse gas.#Feedback _6#Feedback _6\n",
      "Methane from cow burps harms the environment because methane contributes to rising temperature on Earth, global warming.#Feedback_1#Feedback_1\n",
      "Methane from cow burps harms the environment because it produces a gas that causes global warming#Feedback_4#Feedback_4\n",
      "Methane from cow burps harms the environment because it causes the earth's temperature to rise, causing global warming.#Feedback_1#Feedback_1\n",
      "Methane from cow burps harms the environment because they burp methane#Feedback_5#Feedback_5\n",
      "Methane from cow burps harms the environment because it is a greenhouse gas, which contributes to global warming.#Feedback_1#Feedback_1\n",
      "Methane from cow burps harms the environment because the methane contributes to global warming.#Feedback_1#Feedback_1\n",
      "Methane from cow burps harms the environment because it is a powerful greenhouse gas and collectively contributes to a large percentage of total greenhouse gases.#Feedback_3#Feedback _6\n",
      "Methane from cow burps harms the environment because it releases the greenhouse gas methane.#Feedback_5#Feedback_5\n",
      "Methane from cow burps harms the environment because Scientists have linked global warming to an increase#Feedback_9#Feedback_1\n",
      "Methane from cow burps harms the environment because it is a greenhouse gas, a gas that causes the Earth's temperature to rise - global warming.#Feedback_1#Feedback_1\n",
      "Methane from cow burps harms the environment because it causes Earth's temperature to rise in a process called global warming.#Feedback_1#Feedback_1\n",
      "Methane from cow burps harms the environment because cows burps out 30-50 gallons of the greenhouse gas methane and this gas causes Earth's temperature to rise in a process called global warming.#Feedback_5#Feedback_5\n",
      "Methane from cow burps harms the environment because it causes Earth's temperature to rise.#Feedback_1#Feedback_1\n",
      "Methane from cow burps harms the environment because each cow \"burps out\" about 40 gallons or more of methane gas a day, and methane gas is one cause of the greenhouse effect.#Feedback_9#Feedback_9\n",
      "Methane from cow burps harms the environment because methane contributes to Global Warming.#Feedback_1#Feedback_1\n",
      "Methane from cow burps harms the environment because it produces 14.5% of the worlds greenhouse gases#Feedback_7#Feedback_7\n",
      "Methane from cow burps harms the environment because it increases the greenhouse gases in the environment.#Feedback _6#Feedback _6\n",
      "Methane from cow burps harms the environment because this gas causes Earth's temperature to rise (global warming) which leads to increase in extreme weather events such as droughts, heat waves, wildfires, and floods.#Feedback_2#Feedback_2\n",
      "Methane from cow burps harms the environment because it causes the temperature of the Earth to rise, resulting in global warming.#Feedback_1#Feedback_1\n",
      "Methane from cow burps harms the environment because they put out methane gas.#Feedback_5#Feedback_5\n",
      "Methane from cow burps harms the environment because methane gas causes temperature rises which contributes to global warming.#Feedback_1#Feedback_1\n",
      "Methane from cow burps harms the environment because methane gas is emitted, which results in increased global warming.#Feedback_1#Feedback_1\n",
      "Methane from cow burps harms the environment because it increases greenhouse gasses and global warming.#Feedback_1#Feedback_1\n",
      "Methane from cow burps harms the environment because methane causes the Earth's temperature to rise.#Feedback_1#Feedback_1\n",
      "Methane from cow burps harms the environment because their burping causes methane gas to be released.#Feedback_5#Feedback_5\n",
      "Methane from cow burps harms the environment because it a large contributor to greenhouse gases that influence climate change.#Feedback_3#Feedback_3\n",
      "Methane from cow burps harms the environment because over 14% of greenhouse gas#Feedback_4#Feedback_7\n",
      "Methane from cow burps harms the environment because they produce 30.50 gallons of Greenhouse gas.#Feedback_5#Feedback_5\n",
      "Methane from cow burps harms the environment because it causes temperatures to rise creating global warming .#Feedback_1#Feedback_1\n",
      "Methane from cow burps harms the environment because the gas causes the Earth's temperature to rise as it accumulates in the atmosphere.#Feedback_1#Feedback_1\n",
      "Methane from cow burps harms the environment because these gases released make up about 14% of total green house gas emissions causing global temperatures to rise.#Feedback_7#Feedback_7\n",
      "Methane from cow burps harms the environment because methane is a gas that contributes to global warming.#Feedback_1#Feedback_1\n",
      "Methane from cow burps harms the environment because they release methane into the atmosphere at a high rate.#Feedback_5#Feedback_5\n",
      "Methane from cow burps harms the environment because This gas causes Earth's temperature to rise in a process called global warming#Feedback_1#Feedback_1\n",
      "Methane from cow burps harms the environment because the gas causes Earth's temperature to rise in a process called global warming.#Feedback_1#Feedback_1\n",
      "Methane from cow burps harms the environment because the gas, methane, adds to global warming which can increase the Earth's temperature.#Feedback_1#Feedback_1\n",
      "Methane from cow burps harms the environment because it is a cause of global warming.#Feedback_1#Feedback_1\n",
      "Methane from cow burps harms the environment because this gas causes the Earth's temperature to rise.#Feedback_1#Feedback_1\n",
      "Methane from cow burps harms the environment because it contributes to thickening the atmosphere and as such it contributes to global warming#Feedback_9#Feedback_1\n",
      "Methane from cow burps harms the environment because it increases the earths temperature.#Feedback_1#Feedback_1\n",
      "Methane from cow burps harms the environment because 1.5 billion cows burps out 30-50 gallons of the greenhouse gas methane.#Feedback_5#Feedback_5\n",
      "Methane from cow burps harms the environment because it raises the temperature of the Earth.#Feedback_1#Feedback_1\n",
      "Methane from cow burps harms the environment because EARTHS TEMPERATURE IS RISING AND THIS WILL BECOME MORE COMMON AND PRODUCE 14.5% OF THE WORLD'S GREENHOUSE GASES#Feedback_9#Feedback_7\n",
      "Methane from cow burps harms the environment because it contributes to greenhouse gases that contribute to global warming.#Feedback_1#Feedback_1\n",
      "Methane from cow burps harms the environment because It produces the greenhouse gases.#Feedback_4#Feedback_4\n",
      "Methane from cow burps harms the environment because it causes the earth's temperature to rise through the process of global warming.#Feedback_1#Feedback_1\n",
      "Methane from cow burps harms the environment because methane contributes to a process called,\"Global Warming\".#Feedback_1#Feedback_1\n",
      "Methane from cow burps harms the environment because it causes greenhouse gases to be released and this contributes to Global Warming.#Feedback_5#Feedback_1\n",
      "Methane from cow burps harms the environment because it causes the Earth's temperature to rise which leads to global warming.#Feedback_1#Feedback_1\n",
      "Methane from cow burps harms the environment because it generates greenhouse gas emissions.#Feedback_4#Feedback_4\n",
      "Methane from cow burps harms the environment because a cow generates up to 50 gallons of methane, which increases global warming.#Feedback_5#Feedback_5\n",
      "Methane from cow burps harms the environment because it adds to the greenhouse gases that harm the ozone. .#Feedback_9#Feedback _6\n",
      "Methane from cow burps harms the environment because it produces about 14.5% of the world's greenhouse gasses.#Feedback_7#Feedback_7\n",
      "Methane from cow burps harms the environment because it's a potent greenhouse gas.#Feedback _6#Feedback _6\n",
      "Methane from cow burps harms the environment because it increases earth temperature and causes global warming#Feedback_1#Feedback_1\n",
      "Methane from cow burps harms the environment because it's causing the Earth's temperature to rise.#Feedback_1#Feedback_1\n",
      "Methane from cow burps harms the environment because the methane is released into the atmosphere and it contributes to global warming creating weather extremes around the world.#Feedback_2#Feedback_2\n",
      "Methane from cow burps harms the environment because it releases methane which is a greenhouse gas.#Feedback_5#Feedback_5\n",
      "Methane from cow burps harms the environment because every day, cows burps out greenhouse gas methane that causes Earth's temperature to rise in a process called global warming.#Feedback_5#Feedback_5\n",
      "Methane from cow burps harms the environment because each of the world’s 1.5 billion cows burps out 30-50 gallons of the greenhouse gas methane, which causes Earth's temperature to rise in a process called global warming.#Feedback_5#Feedback_5\n",
      "Methane from cow burps harms the environment because the gas they burp is causing the Earth's temperature to rise.#Feedback_5#Feedback_5\n",
      "Methane from cow burps harms the environment because cows burp 30 to 50 gallons of the greenhouse gas methane which causes a rise in global warming.#Feedback_5#Feedback_5\n",
      "Methane from cow burps harms the environment because it is a greenhouse gas and contributes to global warming.#Feedback_1#Feedback_1\n",
      "Methane from cow burps harms the environment because they release just under 15% of all greenhouse gasses, which contribute to climate change.#Feedback_7#Feedback_7\n",
      "Methane from cow burps harms the environment because releases greenhouse gases.#Feedback_8#Feedback_5\n",
      "Methane from cow burps harms the environment because it raises earth's temperature through a process called global warming.#Feedback_1#Feedback_1\n",
      "Methane from cow burps harms the environment because it releases gas into the atmosphere and causes the earth's temperature to rise as part of global warming.#Feedback_5#Feedback_5\n",
      "Methane from cow burps harms the environment because it is a major contributor to global warming.#Feedback_1#Feedback_1\n",
      "Methane from cow burps harms the environment because each cow burps several gallons of gas that contribute to global warming.#Feedback_5#Feedback_5\n",
      "Methane from cow burps harms the environment because they contribute to greenhouse gases.#Feedback_5#Feedback _6\n",
      "Methane from cow burps harms the environment because methane causes the earth's temperature to rise#Feedback_1#Feedback_1\n",
      "Methane from cow burps harms the environment because it causes Earth's temperature to rise#Feedback_1#Feedback_1\n",
      "Methane from cow burps harms the environment because they release methane.#Feedback_5#Feedback_5\n",
      "Methane from cow burps harms the environment because they burp out a greenhouse gas that contributes to global warming.#Feedback_5#Feedback_5\n",
      "Methane from cow burps harms the environment because it produces methane and it contributes to the global warming.#Feedback_5#Feedback_5\n",
      "Methane from cow burps harms the environment because it releases methane gas.#Feedback_5#Feedback_5\n",
      "Methane from cow burps harms the environment because more important for the society#Feedback_10#Feedback_8\n",
      "Methane from cow burps harms the environment because it results in global warming.#Feedback_1#Feedback_1\n",
      "Methane from cow burps harms the environment because methane causes the earth's temperature to rise in a process called global warming.#Feedback_1#Feedback_1\n",
      "Methane from cow burps harms the environment because it contains methane and that goes into the atmosphere#Feedback_5#Feedback_5\n",
      "Methane from cow burps harms the environment because it's create environmental Pollution.#Feedback_10#Feedback_4\n",
      "Methane from cow burps harms the environment because it produces greenhouse gases.#Feedback_4#Feedback_4\n",
      "Methane from cow burps harms the environment because it it is a significant source that causes temperatures to rise, creating global warming.#Feedback_1#Feedback_1\n",
      "Methane from cow burps harms the environment because the gas causes Earth's temperature to rise, contributing to global warming.#Feedback_1#Feedback_1\n",
      "Methane from cow burps harms the environment because they produce Greenhouse gases.#Feedback_5#Feedback_5\n",
      "Methane from cow burps harms the environment because it releases gas that contributes to global warming.#Feedback_5#Feedback_4\n",
      "Methane from cow burps harms the environment because it is part of greenhouse gasses that help contribute to climate change and global warming, which increases extreme weather such as droughts, wildfires, and floods#Feedback_2#Feedback_2\n",
      "Methane from cow burps harms the environment because methane is a greenhouse gas that causes the earth to warm.#Feedback_1#Feedback_1\n",
      "Methane from cow burps harms the environment because they release methane gas.#Feedback_5#Feedback_5\n",
      "Methane from cow burps harms the environment because it causes temperatures to rise in a process called global warming.#Feedback_1#Feedback_1\n",
      "Methane from cow burps harms the environment because is good environement#Feedback_8#Feedback_8\n",
      "Methane from cow burps harms the environment because it releases green house gases into the atmosphere which then causes the earth's temperature to rise.#Feedback_5#Feedback_5\n",
      "Methane from cow burps harms the environment because it produces about 14.5% of the world's greenhouse gases#Feedback_7#Feedback_7\n",
      "Methane from cow burps harms the environment because after time is causes the global warming from the 30-50 pounds of greenhouse methane gas.#Feedback_7#Feedback_5\n",
      "Methane from cow burps harms the environment because methane is a greenhouse gas that traps heat in the atmosphere.#Feedback_1#Feedback_1\n",
      "Methane from cow burps harms the environment because they produce 14.5% greenhouse gas.#Feedback_7#Feedback_7\n",
      "Methane from cow burps harms the environment because it releases methane into the air.#Feedback_5#Feedback_5\n",
      "Methane from cow burps harms the environment because it is a gas creating a greenhouse effect, which in turn causes global warming.#Feedback_1#Feedback_1\n",
      "Methane from cow burps harms the environment because it contributes to global warming#Feedback_1#Feedback_1\n",
      "Methane from cow burps harms the environment because methane causes tbe global temperature to rise#Feedback_1#Feedback_1\n",
      "Methane from cow burps harms the environment because cow burps contain methane a gas that causes cliate warming#Feedback_5#Feedback_5\n",
      "Methane from cow burps harms the environment because because it increases greenhouse gases that increase global warming#Feedback_1#Feedback_1\n",
      "Methane from cow burps harms the environment because it causes the Earth's temperatures to rise.#Feedback_1#Feedback_1\n",
      "Methane from cow burps harms the environment because 30-50 gallons of the greenhouse gas methane is emitted from this process which causes the Earth's temperature to rise contributing to global warming.#Feedback_5#Feedback_5\n",
      "Methane from cow burps harms the environment because it causes the earth's temperature to rise, resulting in global warming.#Feedback_1#Feedback_1\n",
      "Methane from cow burps harms the environment because they contain methane which results in the Earth’s temperature rising through the process of global warming.#Feedback_5#Feedback_5\n",
      "Methane from cow burps harms the environment because this gas causes to global warming.#Feedback_1#Feedback_1\n",
      "Methane from cow burps harms the environment because it causes the earth's temperature to rise resulting in global warming and extreme weather events.#Feedback_2#Feedback_2\n",
      "Methane from cow burps harms the environment because it causes greenhouse gases that lead to climate change, if we can eliminate or decrease this, it would be beneficial to all.#Feedback_5#Feedback_3\n",
      "Methane from cow burps harms the environment because it releases green house gas methane.#Feedback_5#Feedback_5\n",
      "Methane from cow burps harms the environment because each day every cow burps 30-50 gallons of methane that causes Earth's temperature to rise.#Feedback_5#Feedback_5\n",
      "Methane from cow burps harms the environment because is information is right#Feedback_8#Feedback_8\n",
      "Methane from cow burps harms the environment because it produces methane, which contributes to about 14.5% of greenhouse gasses.#Feedback_7#Feedback_7\n",
      "Methane from cow burps harms the environment because they emits greenhouse gases (estimated about 15%) and contribute to global warming.#Feedback_5#Feedback_5\n",
      "Methane from cow burps harms the environment because it gets trapped in the Earth's atmosphere and has been linked to global warming.#Feedback_1#Feedback_1\n",
      "Methane from cow burps harms the environment because this gas causes global warming by raising the Earth’s temperature.#Feedback_1#Feedback_1\n",
      "Methane from cow burps harms the environment because they lead to greater global warming which causes harsher weather conditions.#Feedback_5#Feedback_5\n",
      "Methane from cow burps harms the environment because it produces greenhouse gases and they cause the temperature of the Earth to rise and put the environment at risk.#Feedback_4#Feedback_4\n",
      "Methane from cow burps harms the environment because it causes the Earths temperature to rise causing Global Warming .#Feedback_1#Feedback_1\n",
      "Methane from cow burps harms the environment because it creates methane.#Feedback_5#Feedback_5\n",
      "Methane from cow burps harms the environment because it causes a increase in greenhouse gas which affects global warming.#Feedback _6#Feedback_1\n",
      "Methane from cow burps harms the environment because they release methane gas, which is a greenhouse gas, into the atmosphere.#Feedback_5#Feedback_5\n",
      "Methane from cow burps harms the environment because they produce greenhouse gas#Feedback_5#Feedback_5\n",
      "Methane from cow burps harms the environment because causes the Earths temperature to rise creating global warming.#Feedback_1#Feedback_1\n",
      "Methane from cow burps harms the environment because IT causes the greenhouse gases#Feedback_4#Feedback _6\n",
      "Methane from cow burps harms the environment because stupid activist that want to control you say they do.#Feedback_10#Feedback_8\n",
      "Methane from cow burps harms the environment because it realeases green house methane gas.#Feedback_5#Feedback_5\n",
      "Methane from cow burps harms the environment because this gas causes Earth's temperature to rise; resulting in global warming.#Feedback_1#Feedback_1\n",
      "Methane from cow burps harms the environment because it causes them to produce greenhouse gases that contribute to global warming.#Feedback_4#Feedback_5\n",
      "Methane from cow burps harms the environment because it causes the earth’s temperature to rise.#Feedback_1#Feedback_1\n",
      "Methane from cow burps harms the environment because it exacerbates the process of global warming by increasing Earth's temperature.#Feedback_1#Feedback_1\n",
      "Methane from cow burps harms the environment because over a billion cows burp out methane gas which negatively effects the environment.#Feedback_5#Feedback_5\n",
      "Methane from cow burps harms the environment because this gas causes Earth's temperature to rise in a process called global warming.#Feedback_1#Feedback_1\n",
      "Methane from cow burps harms the environment because it is a greenhouse gas that can cause global warming.#Feedback_1#Feedback_1\n",
      "Methane from cow burps harms the environment because it accounts for 14.5% of the world's greenhouse gas.#Feedback_7#Feedback_7\n",
      "Methane from cow burps harms the environment because they burp out 30-50 gallons of the greenhouse gas methane.#Feedback_5#Feedback_5\n",
      "Methane from cow burps harms the environment because the gas causes earths temperatures to rise.#Feedback_1#Feedback_1\n",
      "Methane from cow burps harms the environment because the planet's temperature rises#Feedback_1#Feedback_1\n",
      "Methane from cow burps harms the environment because it releases greenhouse methane gases into the atmosphere which is a contributor to global warming events such as droughts, heat waves, etc.#Feedback_5#Feedback_5\n",
      "Methane from cow burps harms the environment because it increases greenhouse gases.#Feedback _6#Feedback _6\n",
      "Methane from cow burps harms the environment because the gas from the burp causes tempertures to rise and global warming.#Feedback_5#Feedback_1\n",
      "Methane from cow burps harms the environment because it causes the earths temperature to rise causing global warming#Feedback_1#Feedback_1\n",
      "Methane from cow burps harms the environment because they burp out 30-50 gallons of the greenhouse gas each day and that causes the temperature to rise on earth.#Feedback_5#Feedback_5\n",
      "Methane from cow burps harms the environment because are part of the cause and rise of greenhouse gasses.#Feedback_5#Feedback _6\n",
      "Methane from cow burps harms the environment because it causes the earth's temperature to rise, which causes a lot of extreme weather events.#Feedback_2#Feedback_2\n",
      "Methane from cow burps harms the environment because methane causes the earth's temperature to rise, which scientists have linked to an increase in extreme weather events.#Feedback_2#Feedback_2\n",
      "Methane from cow burps harms the environment because methane is a greenhouse gas and it contributes to global warming.#Feedback_1#Feedback_1\n",
      "Methane from cow burps harms the environment because research into methods of cutting down the amount of methane that cows emit is only just beginning.#Feedback_8#Feedback_5\n",
      "Methane from cow burps harms the environment because it causes the Earth's temperature to rise in a process called global warming#Feedback_1#Feedback_1\n",
      "Methane from cow burps harms the environment because they cause the earth's temperature to rise, which leads to global warming.#Feedback_5#Feedback_5\n",
      "Methane from cow burps harms the environment because it raises the Earth's temperatures.#Feedback_1#Feedback_1\n",
      "Methane from cow burps harms the environment because extreme weather events such as heatwaves and floods#Feedback_8#Feedback_2\n",
      "Methane from cow burps harms the environment because it adds to global warming.#Feedback_1#Feedback_1\n",
      "Methane from cow burps harms the environment because it increases earth's overall temperature causing global warming.#Feedback_1#Feedback_1\n",
      "Methane from cow burps harms the environment because it is one of the causes of global warming.#Feedback_1#Feedback_1\n",
      "Methane from cow burps harms the environment because it make the Earth's temperature rise, called global warming.#Feedback_1#Feedback_1\n",
      "Methane from cow burps harms the environment because their gases cause an effect on the greenhouse effect.#Feedback_9#Feedback _6\n",
      "Methane from cow burps harms the environment because it create carbon dioxide.#Feedback_10#Feedback_5\n",
      "Methane from cow burps harms the environment because it causes the earths temperature to rise in a process called global warming.#Feedback_1#Feedback_1\n",
      "Methane from cow burps harms the environment because it increases the methane in the environment.#Feedback_5#Feedback_5\n",
      "Methane from cow burps harms the environment because the gas causes the Earth's temperature to rise, causing Global warming.#Feedback_1#Feedback_1\n",
      "Methane from cow burps harms the environment because It causes the temperature of the earth to rise.#Feedback_1#Feedback_1\n",
      "Methane from cow burps harms the environment because it greatly adds to the issue of global warming due to the diet of the cow creating a high concentration of methane.#Feedback_5#Feedback_5\n",
      "Methane from cow burps harms the environment because they contribute to global warming.#Feedback_5#Feedback_5\n",
      "Methane from cow burps harms the environment because it leads to global warming.#Feedback_1#Feedback_1\n",
      "Methane from cow burps harms the environment because it increases greenhouse gases.#Feedback_4#Feedback _6\n",
      "Methane from cow burps harms the environment because It releases methane gas into our environment.#Feedback_5#Feedback_5\n",
      "Methane from cow burps harms the environment because they release large amounts of methane, which is a powerful greenhouse gas.#Feedback_5#Feedback_5\n",
      "Methane from cow burps harms the environment because the greenhouse gas emissions from agriculture can contribute to global warming.#Feedback_7#Feedback_1\n",
      "Methane from cow burps harms the environment because it leads to global warming#Feedback_1#Feedback_1\n",
      "Methane from cow burps harms the environment because methane causes global warming#Feedback_1#Feedback_1\n",
      "Methane from cow burps harms the environment because cow burps and other animal agriculture practices produce about 14.5% of the world’s greenhouse gases which contribute to global warming.#Feedback_3#Feedback_7\n",
      "Methane from cow burps harms the environment because it releases 30-50 gallons of greenhouse gas to the environment.#Feedback_5#Feedback_5\n",
      "Methane from cow burps harms the environment because the gasses the burp up (methane) contributes to global warming.#Feedback_5#Feedback_5\n",
      "Methane from cow burps harms the environment because it makes up 14.5% of the world harmful greenhouses gasses.#Feedback_7#Feedback_7\n",
      "Methane from cow burps harms the environment because the methane causes the Earth's temperature to rise, which causes global warming.#Feedback_1#Feedback_1\n",
      "Methane from cow burps harms the environment because it contributes to the world;s global warming issues.#Feedback_1#Feedback_1\n",
      "Methane from cow burps harms the environment because their burps contain methane which can lead to global warming.#Feedback_5#Feedback_5\n",
      "Methane from cow burps harms the environment because they burp out gallons of greenhouse gas methane to harm ozone layer#Feedback_9#Feedback_5\n",
      "Methane from cow burps harms the environment because it has been linked to global warming.#Feedback_1#Feedback_1\n",
      "Methane from cow burps harms the environment because it is a major contributor to greenhouse gases; this increase leads to major environmental issues, as global warming and intense storms,#Feedback_2#Feedback_2\n",
      "Methane from cow burps harms the environment because the gas causes the earths temperature to rise.#Feedback_1#Feedback_1\n",
      "Methane from cow burps harms the environment because methane is a greenhouse gas, which is a type of gas that causes the Earth's temperature to rise in a process called global warming.#Feedback_1#Feedback_1\n",
      "Methane from cow burps harms the environment because it increases gas in the atmosphere that causes global warming.#Feedback_1#Feedback_1\n",
      "Methane from cow burps harms the environment because the burps release harmful methane.#Feedback_5#Feedback_5\n",
      "Methane from cow burps harms the environment because cows burps out 30-50 gallons of the greenhouse gas methane, this gas causes Earth's temperature to rise in a process called global warming.#Feedback_5#Feedback_5\n",
      "Methane from cow burps harms the environment because the gas expelled, methane, causes a greenhouse effect which adversely effects the Earth's temperature.#Feedback_1#Feedback_1\n",
      "Methane from cow burps harms the environment because it produces about 14.5% of the world's greenhouse gases.#Feedback_7#Feedback_7\n",
      "Methane from cow burps harms the environment because it causes the worlds temperature to rise#Feedback_1#Feedback_1\n",
      "Methane from cow burps harms the environment because it acts as a greenhouse gas, becoming stored in the atmosphere and changing the Earth's climate for the worse.#Feedback_1#Feedback _6\n",
      "Methane from cow burps harms the environment because cows burp out the greenhouse gas methane which causes the earth's temperature to rise in what we call global warming#Feedback_5#Feedback_5\n",
      "Methane from cow burps harms the environment because it is a chemical.#Feedback_8#Feedback_8\n",
      "Methane from cow burps harms the environment because it burps out 30-50 gallons of the greenhouse gas methane#Feedback_5#Feedback_5\n",
      "Methane from cow burps harms the environment because burps produce about 14.5% of the world's greenhouse gases.#Feedback_7#Feedback_7\n",
      "Methane from cow burps harms the environment because the gas causes the earth's temperature to rise.#Feedback_1#Feedback_1\n",
      "Methane from cow burps harms the environment because it causes Earth's temperature to rise in a process called global warming#Feedback_1#Feedback_1\n",
      "Methane from cow burps harms the environment because it contributes to raising the earth's temperature.#Feedback_1#Feedback_1\n",
      "Methane from cow burps harms the environment because when cows burp each add 30-50 gallons of methane gas per day to the atmosphere which contributes to the greenhowse effect and contributes to global warming.#Feedback_5#Feedback_5\n",
      "Methane from cow burps harms the environment because it could reduce about one-third of greenhouse gas emissions caused by animal agriculture.#Feedback_8#Feedback_7\n",
      "Methane from cow burps harms the environment because it is a greenhouse gas that contributes to global warming and the effect is drastic because 1.5 billion cows are producing 30-50 gallons of methane each day.#Feedback_1#Feedback_5\n",
      "Methane from cow burps harms the environment because the methane these burbs produce contribute to about 14.5% of the world's greenhouse gases.#Feedback _6#Feedback_7\n",
      "Methane from cow burps harms the environment because it causes the temperature to rise creating global warming#Feedback_1#Feedback_1\n",
      "Methane from cow burps harms the environment because it causes the earth's temperature to rise resulting in unstable weather, such as droughts, extreme temperatures, and flooding.#Feedback_2#Feedback_2\n",
      "Methane from cow burps harms the environment because it contains 30-50 gallons of methane gas which caused global warming.#Feedback_5#Feedback_5\n",
      "Methane from cow burps harms the environment because the gas causes the Earth’s temperature to rise in a process called global warming.#Feedback_1#Feedback_1\n",
      "Methane from cow burps harms the environment because methane is a greenhouse gas and causes global warming.#Feedback_1#Feedback_1\n",
      "Methane from cow burps harms the environment because those burps release 30-50 gallons of methane which causes the Earth's temperature to rise.#Feedback_5#Feedback_5\n",
      "Methane from cow burps harms the environment because it produces 10% of the gas emissions.#Feedback_9#Feedback_7\n",
      "Methane from cow burps harms the environment because they burp out 30-50 gallons of this greenhouse gas which causes Earth's temperature to rise from global warming.#Feedback_5#Feedback_5\n",
      "Methane from cow burps harms the environment because they facilitate the effect of global warming.#Feedback_5#Feedback_5\n",
      "Methane from cow burps harms the environment because it causes global warming which is linked to an increase in extreme weather events#Feedback_2#Feedback_2\n",
      "Methane from cow burps harms the environment because they cause the earths temperature to rise from emitting greenhouse gases.#Feedback_5#Feedback_5\n",
      "Methane from cow burps harms the environment because it contributes to the greenhouse gases.#Feedback _6#Feedback _6\n",
      "Methane from cow burps harms the environment because Earth's temperature to rise in a process called global warming.#Feedback_1#Feedback_1\n",
      "Methane from cow burps harms the environment because it produces 3-50 gallons of greenhouse gas methane every day.#Feedback_7#Feedback_5\n",
      "Methane from cow burps harms the environment because it adds onto the greenhouse gas emissions causing earths temperature to rise.#Feedback_1#Feedback_1\n",
      "Methane from cow burps harms the environment because - Every time a cow burps or passes gas, a little puff of methane wafts ... added together, can have a big effect on climate because methane is a ...#Feedback_5#Feedback_5\n",
      "Methane from cow burps harms the environment because methane contributes to global warming which is negatively affecting out planet.#Feedback_1#Feedback_1\n",
      "Methane from cow burps harms the environment because methane is a green house gas that contributes to rising temperatures which contribute to extreme events like wildfires and droughts.#Feedback_2#Feedback_2\n",
      "Methane from cow burps harms the environment because they produce 30-50 gallons of methane gas which cause the earths temperature to rise.#Feedback_5#Feedback_5\n",
      "Methane from cow burps harms the environment because it releases large amounts of carbon that is bad for our ozone layer#Feedback_10#Feedback_5\n",
      "Methane from cow burps harms the environment because it causes earth temperature to rise in a process called global warming#Feedback_1#Feedback_1\n",
      "Methane from cow burps harms the environment because methane is a greenhouse gas that traps heat and causes global warming.#Feedback_1#Feedback_1\n",
      "Methane from cow burps harms the environment because the gas causes the Earth's temperature to rise causing global warming.#Feedback_1#Feedback_1\n",
      "Methane from cow burps harms the environment because it contributes a large percentage of the greenhouse gases causing climate change.#Feedback_3#Feedback_7\n",
      "Methane from cow burps harms the environment because they contribute to a rise in temperature called global warming, which cause many environmental problems.#Feedback_5#Feedback_5\n",
      "Methane from cow burps harms the environment because methane is a greenhouse gas, further accelerating the greenhouse effect.#Feedback_9#Feedback _6\n",
      "Methane from cow burps harms the environment because it causes the earth's temperature to rise what is also called global warming.#Feedback_1#Feedback_1\n",
      "Methane from cow burps harms the environment because it causes Earths temperature to rise.#Feedback_1#Feedback_1\n",
      "Methane from cow burps harms the environment because the gas causes Earth's temperature to rise in a process called global warming#Feedback_1#Feedback_1\n",
      "Methane from cow burps harms the environment because it causes earth's temperature to rise resulting in global warming#Feedback_1#Feedback_1\n",
      "Methane from cow burps harms the environment because it increases global warming.#Feedback_1#Feedback_1\n",
      "Methane from cow burps harms the environment because the burps contain methane, a greenhouse case thus contributing to global warming.#Feedback_5#Feedback_5\n",
      "Methane from cow burps harms the environment because they create Greenhouse Gases#Feedback_5#Feedback_5\n",
      "Methane from cow burps harms the environment because cow burps release harmful greenhouse gases that contribute to global warming.#Feedback_5#Feedback_5\n",
      "Methane from cow burps harms the environment because it is a greenhouse gas.#Feedback _6#Feedback _6\n",
      "Methane from cow burps harms the environment because each of the world's 1.5 billion cows burps out 30-50 gallons of the green house gas each day, causing the temperature of the Earth to rise, speeding the process of global warming.#Feedback_5#Feedback_5\n",
      "Methane from cow burps harms the environment because the nice.#Feedback_8#Feedback_8\n",
      "Methane from cow burps harms the environment because methane causes the Earth’s temperature to rise.#Feedback_1#Feedback_1\n",
      "Methane from cow burps harms the environment because methane is a gas that causes Earth's temperature to rise, a process called global warming.#Feedback_1#Feedback_1\n",
      "Methane from cow burps harms the environment because ethane causes global warming which is bad for the planet in many ways.#Feedback_1#Feedback_1\n",
      "Methane from cow burps harms the environment because it causes the Earth's temperature to rise as a phenomenon known as Global Warming.#Feedback_1#Feedback_1\n",
      "Methane from cow burps harms the environment because their burps release greenhouse methane gas.#Feedback_5#Feedback_5\n",
      "Methane from cow burps harms the environment because it increases green house gas emissions#Feedback _6#Feedback _6\n",
      "Methane from cow burps harms the environment because it produces the gas methane#Feedback_5#Feedback_5\n",
      "Methane from cow burps harms the environment because it transforms into carbon dioxide#Feedback_10#Feedback _6\n",
      "Methane from cow burps harms the environment because methane gas causes Earth's temperature to rise in a process called global warming.#Feedback_1#Feedback_1\n",
      "Methane from cow burps harms the environment because it causes the earth's atmospheric temperature to rise.#Feedback_1#Feedback_1\n",
      "Methane from cow burps harms the environment because the cow burps ultimately cause global warming.#Feedback_5#Feedback_5\n",
      "Methane from cow burps harms the environment because the burps account for 30-50 gallons of additional methane, a greenhouse gas, emissions.#Feedback_5#Feedback_5\n",
      "Methane from cow burps harms the environment because it causes the earth temperature to rise causing global warming.#Feedback_1#Feedback_1\n",
      "Methane from cow burps harms the environment because it causes global warming.#Feedback_1#Feedback_1\n",
      "Methane from cow burps harms the environment because they produce about 14.5% of the world's greenhouse gases.#Feedback_7#Feedback_7\n",
      "Methane from cow burps harms the environment because thats not good#Feedback_8#Feedback_8\n",
      "Methane from cow burps harms the environment because it contributes to greenhouse gas emissions that increase global warming.#Feedback_1#Feedback_1\n",
      "Methane from cow burps harms the environment because cows burps out 30-50 gallons of the greenhouse gas methane#Feedback_8#Feedback_5\n",
      "Methane from cow burps harms the environment because about 1.5 billion cows produce 30-50 gallons of greenhouse gas methane this way.#Feedback_5#Feedback_5\n",
      "Methane from cow burps harms the environment because it produces about 14.5% of all greenhouse gases.#Feedback_7#Feedback_7\n",
      "Methane from cow burps harms the environment because the gas coming from the cows can cause the Earth's temperature to rise.#Feedback_1#Feedback_1\n",
      "Methane from cow burps harms the environment because they apparently release green house gasses into the atmosphere#Feedback_5#Feedback_5\n",
      "Methane from cow burps harms the environment because they contains world's Greenhouse gases.#Feedback_5#Feedback_5\n",
      "Methane from cow burps harms the environment because they produce about 14.5% of the world's greenhouse gases#Feedback_7#Feedback_7\n",
      "Methane from cow burps harms the environment because every time each cow burps they release 30-50 gallons of methane gas and it kills the earth.#Feedback_5#Feedback_5\n",
      "Methane from cow burps harms the environment because it creates up to 50 gallons of methane daily, which contributes greatly to greenhouse gases that result in global warming.#Feedback_5#Feedback_5\n",
      "Methane from cow burps harms the environment because it releases methane gas which can increase the global greenhouse effect.#Feedback_9#Feedback_5\n",
      "Methane from cow burps harms the environment because it cause the earths temperature to rise.#Feedback_1#Feedback_1\n",
      "Methane from cow burps harms the environment because methane contributes to global warming, which in turn leads to an increase in extreme weather events.#Feedback_2#Feedback_2\n",
      "Methane from cow burps harms the environment because every day they burp out 30-50 gallons of greenhouse gas methane and this gas causes the Earth's temperature to rise.#Feedback_5#Feedback_5\n",
      "Methane from cow burps harms the environment because methane is linked to global warming.#Feedback_1#Feedback_1\n",
      "Methane from cow burps harms the environment because it release methane gas which causes the Earth's temperature to rise.#Feedback_1#Feedback_5\n",
      "Methane from cow burps harms the environment because it increases Earth's temperature.#Feedback_1#Feedback_1\n",
      "Methane from cow burps harms the environment because it releases 30-50 gallons of methane into the atmosphere per cow.#Feedback_5#Feedback_5\n",
      "Methane from cow burps harms the environment because this causes the Earth's temperature to rise.#Feedback_1#Feedback_1\n",
      "Methane from cow burps harms the environment because the burps release methane gas, which warms the earth's temperature.#Feedback_5#Feedback_5\n",
      "Methane from cow burps harms the environment because the cows' burps emit the greenhouse gas methane.#Feedback_5#Feedback_5\n",
      "Methane from cow burps harms the environment because it causes the Earth's temperature to rise in a process called Global Warming.#Feedback_1#Feedback_1\n",
      "Methane from cow burps harms the environment because of the large number of cows being used in agriculture; the sheer volume of animals being bred specifically for eating increases the overall methane they produce, which contributes#Feedback_7#Feedback_5\n",
      "Methane from cow burps harms the environment because they burp out 30-50 gallons of methane a day.#Feedback_5#Feedback_5\n",
      "Methane from cow burps harms the environment because they contribute to the world's greenhouse gases.#Feedback _6#Feedback_5\n",
      "Methane from cow burps harms the environment because it produces 14.5% of greenhouse gas#Feedback_4#Feedback_7\n",
      "Methane from cow burps harms the environment because each cow on the planet burps out up to 50 gallons of methane a day, a gas which leads to the greenhouse effects harm.#Feedback_9#Feedback_5\n",
      "Methane from cow burps harms the environment because methane is a greenhouse gas and contributes to global warming.#Feedback_1#Feedback_1\n",
      "Methane from cow burps harms the environment because it produces green house gasses.#Feedback_4#Feedback_5\n",
      "Methane from cow burps harms the environment because methane causes Earth's temperature to rise in a process called global warming.#Feedback_1#Feedback_1\n",
      "Methane from cow burps harms the environment because methane adds to the greenhouse effect and increases global warming.#Feedback_1#Feedback_1\n",
      "Methane from cow burps harms the environment because it produces methane gas.#Feedback_4#Feedback_5\n",
      "Methane from cow burps harms the environment because each cow burps 30-50 gallons of methane daily.#Feedback_5#Feedback_5\n",
      "Methane from cow burps harms the environment because it is a large chunk of the worlds greenhouse gases#Feedback_3#Feedback _6\n",
      "Methane from cow burps harms the environment because it produces 30 to 50 million gallons of methane.#Feedback_8#Feedback_5\n",
      "Methane from cow burps harms the environment because the methane causes global warming.#Feedback_1#Feedback_1\n",
      "Methane from cow burps harms the environment because it contains methane, a potent greenhouse gas#Feedback_5#Feedback_5\n",
      "Methane from cow burps harms the environment because this gas causes Earth's temperature to rise in a process called global warming and scientists have linked global warming to an increase in extreme weather events such as droughts,#Feedback_2#Feedback_2\n",
      "Methane from cow burps harms the environment because it causes 14.5% of the world's greenhouse gases which in short means global warming.#Feedback_7#Feedback_7\n",
      "Methane from cow burps harms the environment because it contains 30-50 gallons of greenhouse gas methane.#Feedback_5#Feedback_5\n",
      "Methane from cow burps harms the environment because they emit 14.5% of the greenhouse gasses.#Feedback_7#Feedback_7\n",
      "Methane from cow burps harms the environment because greehouse gas methane produced which cause Earth's temperature rising (global warming)#Feedback_7#Feedback_5\n",
      "Methane from cow burps harms the environment because they cause greenhouse gases to rise.#Feedback_5#Feedback_5\n",
      "Methane from cow burps harms the environment because it contributes to global warming and raising the earth's temperature.#Feedback_1#Feedback_1\n",
      "Methane from cow burps harms the environment because it produces methane and other greenhouse gases.#Feedback_5#Feedback_5\n",
      "Methane from cow burps harms the environment because it produces greenhouse gas that is bad for the environment#Feedback_4#Feedback_4\n",
      "Methane from cow burps harms the environment because the emit the greenhouse gas methane.#Feedback_5#Feedback_5\n",
      "Methane from cow burps harms the environment because it contributes to greenhouse gases by 14.5%#Feedback_7#Feedback_7\n",
      "Methane from cow burps harms the environment because gas emmition#Feedback_8#Feedback_8\n",
      "Methane from cow burps harms the environment because some people believe their burps contain methane which they also believe causes global warming.#Feedback_5#Feedback_5\n",
      "Methane from cow burps harms the environment because the methane gas in their burps accounts for a significant portion of the animal agriculture's contribution to global warming.#Feedback_5#Feedback_7\n",
      "Methane from cow burps harms the environment because cow burp out 30-50 gallons of greenhouse gas methane, causing the earth's temperature to rise.#Feedback_5#Feedback_5\n",
      "Methane from cow burps harms the environment because the gas the cows emit causes global warming.#Feedback_5#Feedback_1\n",
      "Methane from cow burps harms the environment because the burps contain methane, a greenhouse gas, which contributes to global warming.#Feedback_5#Feedback_5\n",
      "Methane from cow burps harms the environment because it increases the earth's temperature called Global Warming.#Feedback_1#Feedback_1\n",
      "Methane from cow burps harms the environment because cows burping it#Feedback_8#Feedback_5\n",
      "Methane from cow burps harms the environment because it affects the quality in the air, which is part of global warming.#Feedback_8#Feedback_1\n",
      "Methane from cow burps harms the environment because it causes a release of methane.#Feedback_5#Feedback_5\n",
      "Methane from cow burps harms the environment because it releases 30-50 millions tons of methane gas into the atmosphere which causes global warming.#Feedback_5#Feedback_5\n",
      "Methane from cow burps harms the environment because it produce about 14.5% of the world's greenhouse gases.#Feedback_7#Feedback_7\n",
      "Methane from cow burps harms the environment because they release enough methane to account for more than fourteen percent of the earths greenhouse gasses.#Feedback_7#Feedback_5\n",
      "Methane from cow burps harms the environment because it releases harmful gas.#Feedback_5#Feedback_5\n",
      "Methane from cow burps harms the environment because each of the 1.5 million cows on the planet release about 30-40 pounds of methane per day.#Feedback_5#Feedback_5\n",
      "Methane from cow burps harms the environment because methane is a greenhouse gas, which is a leading cause in global warming.#Feedback_1#Feedback_1\n",
      "Methane from cow burps harms the environment because it contributes to the global warming process.#Feedback_1#Feedback_1\n",
      "Methane from cow burps harms the environment because it adds to the world's greenhouse gases.#Feedback _6#Feedback _6\n",
      "Methane from cow burps harms the environment because the gas released causes the Earth's temperature to rise, thus leading to global warming#Feedback_1#Feedback_1\n",
      "Methane from cow burps harms the environment because the gas causes the Earth’s temperature to rise.#Feedback_1#Feedback_1\n",
      "Methane from cow burps harms the environment because this increases the Earth's temperature, causing global warming.#Feedback_1#Feedback_1\n",
      "Methane from cow burps harms the environment because methane is a greenhouse-gas, excessive amounts of which contributes to global warming.#Feedback_1#Feedback_1\n",
      "Methane from cow burps harms the environment because methane causes global warming.#Feedback_1#Feedback_1\n",
      "Methane from cow burps harms the environment because it causes Earth's temperature to rise which leads to droughts, heatwaves, and fires.#Feedback_1#Feedback_2\n",
      "Methane from cow burps harms the environment because it adds to the greenhouse effect.#Feedback_9#Feedback _6\n",
      "Methane from cow burps harms the environment because every day, this gas causes Earth's temperature to rise in a process called global warming.#Feedback_1#Feedback_1\n",
      "Methane from cow burps harms the environment because it releases methane which is a greenhouse gas#Feedback_5#Feedback_5\n",
      "Methane from cow burps harms the environment because it is a greenhouse gas that causes the Earth's temperature to rise, leading to global warming.#Feedback_1#Feedback_1\n",
      "Methane from cow burps harms the environment because they burp out great amounts of methane gas which aids in global warming.#Feedback_5#Feedback_5\n",
      "Methane from cow burps harms the environment because 1.5 billion cows release 30-50 gallons of greenhouse gas methane when they burp into the environment and this contributes to global warming.#Feedback_5#Feedback_5\n",
      "Methane from cow burps harms the environment because of the grass they feed off of.#Feedback_8#Feedback_5\n",
      "Methane from cow burps harms the environment because it contains harmful greenhouse gases.#Feedback_5#Feedback_4\n",
      "Methane from cow burps harms the environment because methane gas from the burps causes the earth's temperature to rise.#Feedback_1#Feedback_1\n",
      "Methane from cow burps harms the environment because the release of methane causes the Earth's temperature to rise in a process called global warming.#Feedback_1#Feedback_1\n",
      "Methane from cow burps harms the environment because it adds tons of greenhouse gasses to the atmosphere.#Feedback _6#Feedback _6\n",
      "Methane from cow burps harms the environment because it contains methane, a gas which can raise the temperature of the enviornment#Feedback_5#Feedback_5\n",
      "Methane from cow burps harms the environment because methane is a greenhouse gas that leads to global warming.#Feedback_1#Feedback_1\n",
      "Methane from cow burps harms the environment because This gas causes the Earth's temperature to rise in a process called global warming.#Feedback_1#Feedback_1\n",
      "Methane from cow burps harms the environment because they produce 14.5 % of the world's greenhouse gases#Feedback_7#Feedback_7\n",
      "Methane from cow burps harms the environment because it increases total green house gas production, negatively impacting the ozone layer and potentially increasing global warming.#Feedback_9#Feedback_1\n",
      "Methane from cow burps harms the environment because methane is responsible for global warming, and the earth's 1.5 billion cows burp between 30-50 gallons of methane per day.#Feedback_1#Feedback_5\n",
      "Methane from cow burps harms the environment because it and other agricultural animal adds to 14.5% of the world's greenhouse gases.#Feedback_3#Feedback_7\n",
      "Methane from cow burps harms the environment because it contributes to part of the 14.5% of the world's greenhouse gases produced in animal farming.#Feedback _6#Feedback_7\n",
      "Methane from cow burps harms the environment because it contains methane gas that causes global warming.#Feedback_5#Feedback_5\n",
      "Methane from cow burps harms the environment because it contributes to the process of global warming.#Feedback_1#Feedback_1\n",
      "\n",
      "575 / 706 = 0.8144475920679887\n"
     ]
    }
   ],
   "source": [
    "c = 0\n",
    "for item, predicted, correct in zip(all_test_data, all_predicted, all_correct):\n",
    "    assert item.label_ids == correct\n",
    "    c += (item.label_ids == predicted)\n",
    "    print(\"{}#{}#{}\".format(item.text, idx2label[correct], idx2label[predicted]))\n",
    "    \n",
    "print()\n",
    "print(c, \"/\", len(all_test_data), \"=\", c/len(all_test_data))"
   ]
  },
  {
   "cell_type": "code",
   "execution_count": null,
   "metadata": {},
   "outputs": [],
   "source": []
  }
 ],
 "metadata": {
  "kernelspec": {
   "display_name": "Python 3",
   "language": "python",
   "name": "python3"
  },
  "language_info": {
   "codemirror_mode": {
    "name": "ipython",
    "version": 3
   },
   "file_extension": ".py",
   "mimetype": "text/x-python",
   "name": "python",
   "nbconvert_exporter": "python",
   "pygments_lexer": "ipython3",
   "version": "3.7.3"
  }
 },
 "nbformat": 4,
 "nbformat_minor": 2
}
