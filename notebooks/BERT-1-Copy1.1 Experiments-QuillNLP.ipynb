{
 "cells": [
  {
   "cell_type": "markdown",
   "metadata": {},
   "source": [
    "# First BERT Experiments\n",
    "\n",
    "In this notebook we do some first experiments with BERT: we finetune a BERT model+classifier on each of our datasets separately and compute the accuracy of the resulting classifier on the test data."
   ]
  },
  {
   "cell_type": "markdown",
   "metadata": {},
   "source": [
    "For these experiments we use the `pytorch_transformers` package. It contains a variety of neural network architectures for transfer learning and pretrained models, including BERT and XLNET.\n",
    "\n",
    "Two different BERT models are relevant for our experiments: \n",
    "\n",
    "- BERT-base-uncased: a relatively small BERT model that should already give reasonable results,\n",
    "- BERT-large-uncased: a larger model for real state-of-the-art results."
   ]
  },
  {
   "cell_type": "code",
   "execution_count": 2,
   "metadata": {},
   "outputs": [],
   "source": [
    "BERT_MODEL = 'bert-base-uncased'\n",
    "BATCH_SIZE = 16 if \"base\" in BERT_MODEL else 2\n",
    "GRADIENT_ACCUMULATION_STEPS = 1 if \"base\" in BERT_MODEL else 8\n",
    "MAX_SEQ_LENGTH = 100\n",
    "PREFIX = \"junkfood_but\""
   ]
  },
  {
   "cell_type": "markdown",
   "metadata": {},
   "source": [
    "## Data\n",
    "\n",
    "We use the same data as for all our previous experiments. Here we load the training, development and test data for a particular prompt."
   ]
  },
  {
   "cell_type": "code",
   "execution_count": 3,
   "metadata": {},
   "outputs": [
    {
     "data": {
      "text/plain": [
       "[{'text': 'Schools should not allow junk food to be sold on campus but its not healthy',\n",
       "  'label': 'Unclassified Off-Topic'},\n",
       " {'text': 'Schools should not allow junk food to be sold on campus but it is up to the discretion of each school or the school board',\n",
       "  'label': 'School without generating money'},\n",
       " {'text': 'Schools should not allow junk food to be sold on campus but BUT HEALTHY SNACKS',\n",
       "  'label': 'Schools providing healthy alternatives'}]"
      ]
     },
     "execution_count": 3,
     "metadata": {},
     "output_type": "execute_result"
    }
   ],
   "source": [
    "import sys\n",
    "sys.path.append('../')\n",
    "\n",
    "import ndjson\n",
    "import glob\n",
    "\n",
    "from quillnlp.models.bert.preprocessing import preprocess, create_label_vocabulary, get_data_loader\n",
    "\n",
    "train_file = f\"../data/interim/{PREFIX}_train_withprompt.ndjson\"\n",
    "dev_file = f\"../data/interim/{PREFIX}_dev_withprompt.ndjson\"\n",
    "test_file = f\"../data/interim/{PREFIX}_test_withprompt.ndjson\"\n",
    "\n",
    "with open(train_file) as i:\n",
    "    train_data = ndjson.load(i)\n",
    "    \n",
    "with open(dev_file) as i:\n",
    "    dev_data = ndjson.load(i)\n",
    "    \n",
    "with open(test_file) as i:\n",
    "    test_data = ndjson.load(i)\n",
    "    \n",
    "\n",
    "train_data[:3]"
   ]
  },
  {
   "cell_type": "code",
   "execution_count": 4,
   "metadata": {},
   "outputs": [
    {
     "name": "stdout",
     "output_type": "stream",
     "text": [
      "{'Unclassified Off-Topic': 0, 'School without generating money': 1, 'Schools providing healthy alternatives': 2, 'Student choice': 3, 'Students without choice': 4, 'Schools generate money': 5, 'Students can still bring/access junk food': 6}\n",
      "{0: 'Unclassified Off-Topic', 1: 'School without generating money', 2: 'Schools providing healthy alternatives', 3: 'Student choice', 4: 'Students without choice', 5: 'Schools generate money', 6: 'Students can still bring/access junk food'}\n",
      "['Unclassified Off-Topic', 'School without generating money', 'Schools providing healthy alternatives', 'Student choice', 'Students without choice', 'Schools generate money', 'Students can still bring/access junk food']\n"
     ]
    }
   ],
   "source": [
    "label2idx = create_label_vocabulary(train_data)\n",
    "idx2label = {v:k for k,v in label2idx.items()}\n",
    "target_names = [idx2label[s] for s in range(len(idx2label))]\n",
    "\n",
    "print(label2idx)\n",
    "print(idx2label)\n",
    "print(target_names)"
   ]
  },
  {
   "cell_type": "code",
   "execution_count": 5,
   "metadata": {},
   "outputs": [
    {
     "name": "stderr",
     "output_type": "stream",
     "text": [
      "I1009 17:26:21.039733 140302331909952 tokenization_utils.py:373] loading file https://s3.amazonaws.com/models.huggingface.co/bert/bert-base-uncased-vocab.txt from cache at /home/yves/.cache/torch/transformers/26bc1ad6c0ac742e9b52263248f6d0f00068293b33709fae12320c0e35ccfbbb.542ce4285a40d23a559526243235df47c5f75c197f04f37d1a0c124c32c9a084\n",
      "I1009 17:26:21.946402 140302331909952 tokenization_utils.py:373] loading file https://s3.amazonaws.com/models.huggingface.co/bert/bert-base-uncased-vocab.txt from cache at /home/yves/.cache/torch/transformers/26bc1ad6c0ac742e9b52263248f6d0f00068293b33709fae12320c0e35ccfbbb.542ce4285a40d23a559526243235df47c5f75c197f04f37d1a0c124c32c9a084\n",
      "I1009 17:26:22.463976 140302331909952 tokenization_utils.py:373] loading file https://s3.amazonaws.com/models.huggingface.co/bert/bert-base-uncased-vocab.txt from cache at /home/yves/.cache/torch/transformers/26bc1ad6c0ac742e9b52263248f6d0f00068293b33709fae12320c0e35ccfbbb.542ce4285a40d23a559526243235df47c5f75c197f04f37d1a0c124c32c9a084\n"
     ]
    }
   ],
   "source": [
    "train_dataloader = get_data_loader(preprocess(train_data, BERT_MODEL, label2idx, MAX_SEQ_LENGTH), BATCH_SIZE)\n",
    "dev_dataloader = get_data_loader(preprocess(dev_data, BERT_MODEL, label2idx, MAX_SEQ_LENGTH), BATCH_SIZE)\n",
    "test_dataloader = get_data_loader(preprocess(test_data, BERT_MODEL, label2idx, MAX_SEQ_LENGTH), BATCH_SIZE, shuffle=False)"
   ]
  },
  {
   "cell_type": "markdown",
   "metadata": {},
   "source": [
    "## Model"
   ]
  },
  {
   "cell_type": "code",
   "execution_count": 3,
   "metadata": {},
   "outputs": [
    {
     "name": "stderr",
     "output_type": "stream",
     "text": [
      "I1008 10:41:23.733693 140067368421184 configuration_utils.py:151] loading configuration file https://s3.amazonaws.com/models.huggingface.co/bert/distilbert-base-uncased-config.json from cache at /home/yves/.cache/torch/transformers/a41e817d5c0743e29e86ff85edc8c257e61bc8d88e4271bb1b243b6e7614c633.1ccd1a11c9ff276830e114ea477ea2407100f4a3be7bdc45d37be9e37fa71c7e\n",
      "I1008 10:41:23.735444 140067368421184 configuration_utils.py:168] Model config {\n",
      "  \"activation\": \"gelu\",\n",
      "  \"attention_dropout\": 0.1,\n",
      "  \"dim\": 768,\n",
      "  \"dropout\": 0.1,\n",
      "  \"finetuning_task\": null,\n",
      "  \"hidden_dim\": 3072,\n",
      "  \"initializer_range\": 0.02,\n",
      "  \"max_position_embeddings\": 512,\n",
      "  \"n_heads\": 12,\n",
      "  \"n_layers\": 6,\n",
      "  \"num_labels\": 7,\n",
      "  \"output_attentions\": false,\n",
      "  \"output_hidden_states\": false,\n",
      "  \"pruned_heads\": {},\n",
      "  \"qa_dropout\": 0.1,\n",
      "  \"seq_classif_dropout\": 0.2,\n",
      "  \"sinusoidal_pos_embds\": false,\n",
      "  \"tie_weights_\": true,\n",
      "  \"torchscript\": false,\n",
      "  \"use_bfloat16\": false,\n",
      "  \"vocab_size\": 30522\n",
      "}\n",
      "\n",
      "I1008 10:41:24.216669 140067368421184 modeling_utils.py:337] loading weights file https://s3.amazonaws.com/models.huggingface.co/bert/distilbert-base-uncased-pytorch_model.bin from cache at /home/yves/.cache/torch/transformers/7b8a8f0b21c4e7f6962451c9370a5d9af90372a5f64637a251f2de154d0fc72c.c2015533705b9dff680ae707e205a35e2860e8d148b45d35085419d74fe57ac5\n",
      "I1008 10:41:25.351523 140067368421184 modeling_utils.py:405] Weights of DistilBertForSequenceClassification not initialized from pretrained model: ['pre_classifier.weight', 'pre_classifier.bias', 'classifier.weight', 'classifier.bias']\n",
      "I1008 10:41:25.352204 140067368421184 modeling_utils.py:408] Weights from pretrained model not used in DistilBertForSequenceClassification: ['vocab_transform.weight', 'vocab_transform.bias', 'vocab_layer_norm.weight', 'vocab_layer_norm.bias', 'vocab_projector.weight', 'vocab_projector.bias']\n"
     ]
    }
   ],
   "source": [
    "import torch\n",
    "from quillnlp.models.bert.models import get_bert_classifier\n",
    "\n",
    "device = \"cuda\" if torch.cuda.is_available() else \"cpu\"\n",
    "model = get_bert_classifier(BERT_MODEL, len(label2idx), device=device)"
   ]
  },
  {
   "cell_type": "markdown",
   "metadata": {},
   "source": [
    "## Training"
   ]
  },
  {
   "cell_type": "code",
   "execution_count": 4,
   "metadata": {},
   "outputs": [
    {
     "name": "stderr",
     "output_type": "stream",
     "text": [
      "\r",
      "Epoch:   0%|          | 0/20 [00:00<?, ?it/s]"
     ]
    },
    {
     "data": {
      "application/vnd.jupyter.widget-view+json": {
       "model_id": "cd04587829464a42ac4d15b0ea3872fa",
       "version_major": 2,
       "version_minor": 0
      },
      "text/plain": [
       "HBox(children=(IntProgress(value=0, description='Training iteration', max=18, style=ProgressStyle(description_…"
      ]
     },
     "metadata": {},
     "output_type": "display_data"
    },
    {
     "name": "stdout",
     "output_type": "stream",
     "text": [
      "\n"
     ]
    },
    {
     "data": {
      "application/vnd.jupyter.widget-view+json": {
       "model_id": "952fcd1612f24d52be0726b565730cc9",
       "version_major": 2,
       "version_minor": 0
      },
      "text/plain": [
       "HBox(children=(IntProgress(value=0, description='Evaluation iteration', max=5, style=ProgressStyle(description…"
      ]
     },
     "metadata": {},
     "output_type": "display_data"
    },
    {
     "name": "stdout",
     "output_type": "stream",
     "text": [
      "\n",
      "Loss history: []\n",
      "Dev loss: 1.6473965406417848\n"
     ]
    },
    {
     "name": "stderr",
     "output_type": "stream",
     "text": [
      "\r",
      "Epoch:   5%|▌         | 1/20 [00:02<00:47,  2.51s/it]"
     ]
    },
    {
     "data": {
      "application/vnd.jupyter.widget-view+json": {
       "model_id": "76fc1b8ae9db442cbca83d2efcaff7ac",
       "version_major": 2,
       "version_minor": 0
      },
      "text/plain": [
       "HBox(children=(IntProgress(value=0, description='Training iteration', max=18, style=ProgressStyle(description_…"
      ]
     },
     "metadata": {},
     "output_type": "display_data"
    },
    {
     "name": "stdout",
     "output_type": "stream",
     "text": [
      "\n"
     ]
    },
    {
     "data": {
      "application/vnd.jupyter.widget-view+json": {
       "model_id": "6a85f8b84d5f417c892df725cc387ae5",
       "version_major": 2,
       "version_minor": 0
      },
      "text/plain": [
       "HBox(children=(IntProgress(value=0, description='Evaluation iteration', max=5, style=ProgressStyle(description…"
      ]
     },
     "metadata": {},
     "output_type": "display_data"
    },
    {
     "name": "stdout",
     "output_type": "stream",
     "text": [
      "\n",
      "Loss history: [1.6473965406417848]\n",
      "Dev loss: 1.2385924696922301\n"
     ]
    },
    {
     "name": "stderr",
     "output_type": "stream",
     "text": [
      "\r",
      "Epoch:  10%|█         | 2/20 [00:04<00:44,  2.45s/it]"
     ]
    },
    {
     "data": {
      "application/vnd.jupyter.widget-view+json": {
       "model_id": "4f31872691424800aced06b69342a054",
       "version_major": 2,
       "version_minor": 0
      },
      "text/plain": [
       "HBox(children=(IntProgress(value=0, description='Training iteration', max=18, style=ProgressStyle(description_…"
      ]
     },
     "metadata": {},
     "output_type": "display_data"
    },
    {
     "name": "stdout",
     "output_type": "stream",
     "text": [
      "\n"
     ]
    },
    {
     "data": {
      "application/vnd.jupyter.widget-view+json": {
       "model_id": "cc4019741618442f9c1995e6c7866b0c",
       "version_major": 2,
       "version_minor": 0
      },
      "text/plain": [
       "HBox(children=(IntProgress(value=0, description='Evaluation iteration', max=5, style=ProgressStyle(description…"
      ]
     },
     "metadata": {},
     "output_type": "display_data"
    },
    {
     "name": "stdout",
     "output_type": "stream",
     "text": [
      "\n",
      "Loss history: [1.6473965406417848, 1.2385924696922301]\n",
      "Dev loss: 1.0272655010223388\n"
     ]
    },
    {
     "name": "stderr",
     "output_type": "stream",
     "text": [
      "\r",
      "Epoch:  15%|█▌        | 3/20 [00:07<00:40,  2.40s/it]"
     ]
    },
    {
     "data": {
      "application/vnd.jupyter.widget-view+json": {
       "model_id": "024ee4a50a49482ba3e37798f2bb489b",
       "version_major": 2,
       "version_minor": 0
      },
      "text/plain": [
       "HBox(children=(IntProgress(value=0, description='Training iteration', max=18, style=ProgressStyle(description_…"
      ]
     },
     "metadata": {},
     "output_type": "display_data"
    },
    {
     "name": "stdout",
     "output_type": "stream",
     "text": [
      "\n"
     ]
    },
    {
     "data": {
      "application/vnd.jupyter.widget-view+json": {
       "model_id": "31330798fd40433c8399acdb3809e5fc",
       "version_major": 2,
       "version_minor": 0
      },
      "text/plain": [
       "HBox(children=(IntProgress(value=0, description='Evaluation iteration', max=5, style=ProgressStyle(description…"
      ]
     },
     "metadata": {},
     "output_type": "display_data"
    },
    {
     "name": "stdout",
     "output_type": "stream",
     "text": [
      "\n",
      "Loss history: [1.6473965406417848, 1.2385924696922301, 1.0272655010223388]\n",
      "Dev loss: 0.9899182200431824\n"
     ]
    },
    {
     "name": "stderr",
     "output_type": "stream",
     "text": [
      "\r",
      "Epoch:  20%|██        | 4/20 [00:09<00:37,  2.36s/it]"
     ]
    },
    {
     "data": {
      "application/vnd.jupyter.widget-view+json": {
       "model_id": "560b3fd0c32846babafa367fb8e91551",
       "version_major": 2,
       "version_minor": 0
      },
      "text/plain": [
       "HBox(children=(IntProgress(value=0, description='Training iteration', max=18, style=ProgressStyle(description_…"
      ]
     },
     "metadata": {},
     "output_type": "display_data"
    },
    {
     "name": "stdout",
     "output_type": "stream",
     "text": [
      "\n"
     ]
    },
    {
     "data": {
      "application/vnd.jupyter.widget-view+json": {
       "model_id": "5bf5479c174141b58244d555c22000bf",
       "version_major": 2,
       "version_minor": 0
      },
      "text/plain": [
       "HBox(children=(IntProgress(value=0, description='Evaluation iteration', max=5, style=ProgressStyle(description…"
      ]
     },
     "metadata": {},
     "output_type": "display_data"
    },
    {
     "name": "stdout",
     "output_type": "stream",
     "text": [
      "\n",
      "Loss history: [1.6473965406417848, 1.2385924696922301, 1.0272655010223388, 0.9899182200431824]\n",
      "Dev loss: 0.9163646578788758\n"
     ]
    },
    {
     "name": "stderr",
     "output_type": "stream",
     "text": [
      "\r",
      "Epoch:  25%|██▌       | 5/20 [00:11<00:34,  2.32s/it]"
     ]
    },
    {
     "data": {
      "application/vnd.jupyter.widget-view+json": {
       "model_id": "d28b19570ca3422797c0e3979cc63515",
       "version_major": 2,
       "version_minor": 0
      },
      "text/plain": [
       "HBox(children=(IntProgress(value=0, description='Training iteration', max=18, style=ProgressStyle(description_…"
      ]
     },
     "metadata": {},
     "output_type": "display_data"
    },
    {
     "name": "stdout",
     "output_type": "stream",
     "text": [
      "\n"
     ]
    },
    {
     "data": {
      "application/vnd.jupyter.widget-view+json": {
       "model_id": "2af5bb79dced47eeb570e47e8659da1b",
       "version_major": 2,
       "version_minor": 0
      },
      "text/plain": [
       "HBox(children=(IntProgress(value=0, description='Evaluation iteration', max=5, style=ProgressStyle(description…"
      ]
     },
     "metadata": {},
     "output_type": "display_data"
    },
    {
     "name": "stdout",
     "output_type": "stream",
     "text": [
      "\n",
      "Loss history: [1.6473965406417848, 1.2385924696922301, 1.0272655010223388, 0.9899182200431824, 0.9163646578788758]\n",
      "Dev loss: 0.7455862879753112\n"
     ]
    },
    {
     "name": "stderr",
     "output_type": "stream",
     "text": [
      "\r",
      "Epoch:  30%|███       | 6/20 [00:13<00:32,  2.31s/it]"
     ]
    },
    {
     "data": {
      "application/vnd.jupyter.widget-view+json": {
       "model_id": "ddb0563f99ad4673854e6225b2c8ea8c",
       "version_major": 2,
       "version_minor": 0
      },
      "text/plain": [
       "HBox(children=(IntProgress(value=0, description='Training iteration', max=18, style=ProgressStyle(description_…"
      ]
     },
     "metadata": {},
     "output_type": "display_data"
    },
    {
     "name": "stdout",
     "output_type": "stream",
     "text": [
      "\n"
     ]
    },
    {
     "data": {
      "application/vnd.jupyter.widget-view+json": {
       "model_id": "676206b5c52a4199929c61b8d267f5f7",
       "version_major": 2,
       "version_minor": 0
      },
      "text/plain": [
       "HBox(children=(IntProgress(value=0, description='Evaluation iteration', max=5, style=ProgressStyle(description…"
      ]
     },
     "metadata": {},
     "output_type": "display_data"
    },
    {
     "name": "stderr",
     "output_type": "stream",
     "text": [
      "\r",
      "Epoch:  35%|███▌      | 7/20 [00:15<00:28,  2.21s/it]"
     ]
    },
    {
     "name": "stdout",
     "output_type": "stream",
     "text": [
      "\n",
      "Loss history: [1.6473965406417848, 1.2385924696922301, 1.0272655010223388, 0.9899182200431824, 0.9163646578788758, 0.7455862879753112]\n",
      "Dev loss: 0.8208680033683777\n"
     ]
    },
    {
     "data": {
      "application/vnd.jupyter.widget-view+json": {
       "model_id": "dcc5a1b97d43491588debe4bf567df17",
       "version_major": 2,
       "version_minor": 0
      },
      "text/plain": [
       "HBox(children=(IntProgress(value=0, description='Training iteration', max=18, style=ProgressStyle(description_…"
      ]
     },
     "metadata": {},
     "output_type": "display_data"
    },
    {
     "name": "stdout",
     "output_type": "stream",
     "text": [
      "\n"
     ]
    },
    {
     "data": {
      "application/vnd.jupyter.widget-view+json": {
       "model_id": "858c25af3b514792aaf9b858780b5ce8",
       "version_major": 2,
       "version_minor": 0
      },
      "text/plain": [
       "HBox(children=(IntProgress(value=0, description='Evaluation iteration', max=5, style=ProgressStyle(description…"
      ]
     },
     "metadata": {},
     "output_type": "display_data"
    },
    {
     "name": "stdout",
     "output_type": "stream",
     "text": [
      "\n",
      "Loss history: [1.6473965406417848, 1.2385924696922301, 1.0272655010223388, 0.9899182200431824, 0.9163646578788758, 0.7455862879753112, 0.8208680033683777]\n",
      "Dev loss: 0.6801283061504364\n"
     ]
    },
    {
     "name": "stderr",
     "output_type": "stream",
     "text": [
      "\r",
      "Epoch:  40%|████      | 8/20 [00:18<00:26,  2.23s/it]"
     ]
    },
    {
     "data": {
      "application/vnd.jupyter.widget-view+json": {
       "model_id": "55e2c99bafd642089ae0811b749dfe31",
       "version_major": 2,
       "version_minor": 0
      },
      "text/plain": [
       "HBox(children=(IntProgress(value=0, description='Training iteration', max=18, style=ProgressStyle(description_…"
      ]
     },
     "metadata": {},
     "output_type": "display_data"
    },
    {
     "name": "stdout",
     "output_type": "stream",
     "text": [
      "\n"
     ]
    },
    {
     "data": {
      "application/vnd.jupyter.widget-view+json": {
       "model_id": "e069da0a8c1f4e33923d9860f72882cc",
       "version_major": 2,
       "version_minor": 0
      },
      "text/plain": [
       "HBox(children=(IntProgress(value=0, description='Evaluation iteration', max=5, style=ProgressStyle(description…"
      ]
     },
     "metadata": {},
     "output_type": "display_data"
    },
    {
     "name": "stdout",
     "output_type": "stream",
     "text": [
      "\n",
      "Loss history: [1.6473965406417848, 1.2385924696922301, 1.0272655010223388, 0.9899182200431824, 0.9163646578788758, 0.7455862879753112, 0.8208680033683777, 0.6801283061504364]\n",
      "Dev loss: 0.6410963833332062\n"
     ]
    },
    {
     "name": "stderr",
     "output_type": "stream",
     "text": [
      "\r",
      "Epoch:  45%|████▌     | 9/20 [00:20<00:24,  2.24s/it]"
     ]
    },
    {
     "data": {
      "application/vnd.jupyter.widget-view+json": {
       "model_id": "b6e1010bdeca48ecbfad1534cca1bfc7",
       "version_major": 2,
       "version_minor": 0
      },
      "text/plain": [
       "HBox(children=(IntProgress(value=0, description='Training iteration', max=18, style=ProgressStyle(description_…"
      ]
     },
     "metadata": {},
     "output_type": "display_data"
    },
    {
     "name": "stdout",
     "output_type": "stream",
     "text": [
      "\n"
     ]
    },
    {
     "data": {
      "application/vnd.jupyter.widget-view+json": {
       "model_id": "f59d8f3d3d8241ddb8b94f83da6435f1",
       "version_major": 2,
       "version_minor": 0
      },
      "text/plain": [
       "HBox(children=(IntProgress(value=0, description='Evaluation iteration', max=5, style=ProgressStyle(description…"
      ]
     },
     "metadata": {},
     "output_type": "display_data"
    },
    {
     "name": "stderr",
     "output_type": "stream",
     "text": [
      "\r",
      "Epoch:  50%|█████     | 10/20 [00:22<00:21,  2.17s/it]"
     ]
    },
    {
     "name": "stdout",
     "output_type": "stream",
     "text": [
      "\n",
      "Loss history: [1.6473965406417848, 1.2385924696922301, 1.0272655010223388, 0.9899182200431824, 0.9163646578788758, 0.7455862879753112, 0.8208680033683777, 0.6801283061504364, 0.6410963833332062]\n",
      "Dev loss: 0.6926881432533264\n"
     ]
    },
    {
     "data": {
      "application/vnd.jupyter.widget-view+json": {
       "model_id": "91a8e20d786346389f34ff9031fdd00c",
       "version_major": 2,
       "version_minor": 0
      },
      "text/plain": [
       "HBox(children=(IntProgress(value=0, description='Training iteration', max=18, style=ProgressStyle(description_…"
      ]
     },
     "metadata": {},
     "output_type": "display_data"
    },
    {
     "name": "stdout",
     "output_type": "stream",
     "text": [
      "\n"
     ]
    },
    {
     "data": {
      "application/vnd.jupyter.widget-view+json": {
       "model_id": "eaeb551bb64a43628b494c7e82ffea52",
       "version_major": 2,
       "version_minor": 0
      },
      "text/plain": [
       "HBox(children=(IntProgress(value=0, description='Evaluation iteration', max=5, style=ProgressStyle(description…"
      ]
     },
     "metadata": {},
     "output_type": "display_data"
    },
    {
     "name": "stdout",
     "output_type": "stream",
     "text": [
      "\n",
      "Loss history: [1.6473965406417848, 1.2385924696922301, 1.0272655010223388, 0.9899182200431824, 0.9163646578788758, 0.7455862879753112, 0.8208680033683777, 0.6801283061504364, 0.6410963833332062, 0.6926881432533264]\n",
      "Dev loss: 0.6163372963666915\n"
     ]
    },
    {
     "name": "stderr",
     "output_type": "stream",
     "text": [
      "\r",
      "Epoch:  55%|█████▌    | 11/20 [00:24<00:19,  2.20s/it]"
     ]
    },
    {
     "data": {
      "application/vnd.jupyter.widget-view+json": {
       "model_id": "e32d2222825141a5a899e003a6e549ce",
       "version_major": 2,
       "version_minor": 0
      },
      "text/plain": [
       "HBox(children=(IntProgress(value=0, description='Training iteration', max=18, style=ProgressStyle(description_…"
      ]
     },
     "metadata": {},
     "output_type": "display_data"
    },
    {
     "name": "stdout",
     "output_type": "stream",
     "text": [
      "\n"
     ]
    },
    {
     "data": {
      "application/vnd.jupyter.widget-view+json": {
       "model_id": "09b30d15b8bf47c5b09a8e462f12fe62",
       "version_major": 2,
       "version_minor": 0
      },
      "text/plain": [
       "HBox(children=(IntProgress(value=0, description='Evaluation iteration', max=5, style=ProgressStyle(description…"
      ]
     },
     "metadata": {},
     "output_type": "display_data"
    },
    {
     "name": "stderr",
     "output_type": "stream",
     "text": [
      "\r",
      "Epoch:  60%|██████    | 12/20 [00:26<00:17,  2.14s/it]"
     ]
    },
    {
     "name": "stdout",
     "output_type": "stream",
     "text": [
      "\n",
      "Loss history: [1.6473965406417848, 1.2385924696922301, 1.0272655010223388, 0.9899182200431824, 0.9163646578788758, 0.7455862879753112, 0.8208680033683777, 0.6801283061504364, 0.6410963833332062, 0.6926881432533264, 0.6163372963666915]\n",
      "Dev loss: 0.6203684329986572\n"
     ]
    },
    {
     "data": {
      "application/vnd.jupyter.widget-view+json": {
       "model_id": "5d87ca13f633470ba10b7870d924e054",
       "version_major": 2,
       "version_minor": 0
      },
      "text/plain": [
       "HBox(children=(IntProgress(value=0, description='Training iteration', max=18, style=ProgressStyle(description_…"
      ]
     },
     "metadata": {},
     "output_type": "display_data"
    },
    {
     "name": "stdout",
     "output_type": "stream",
     "text": [
      "\n"
     ]
    },
    {
     "data": {
      "application/vnd.jupyter.widget-view+json": {
       "model_id": "53b63c2aff824a7e86b1bf0645b4a402",
       "version_major": 2,
       "version_minor": 0
      },
      "text/plain": [
       "HBox(children=(IntProgress(value=0, description='Evaluation iteration', max=5, style=ProgressStyle(description…"
      ]
     },
     "metadata": {},
     "output_type": "display_data"
    },
    {
     "name": "stderr",
     "output_type": "stream",
     "text": [
      "\r",
      "Epoch:  65%|██████▌   | 13/20 [00:28<00:14,  2.09s/it]"
     ]
    },
    {
     "name": "stdout",
     "output_type": "stream",
     "text": [
      "\n",
      "Loss history: [1.6473965406417848, 1.2385924696922301, 1.0272655010223388, 0.9899182200431824, 0.9163646578788758, 0.7455862879753112, 0.8208680033683777, 0.6801283061504364, 0.6410963833332062, 0.6926881432533264, 0.6163372963666915, 0.6203684329986572]\n",
      "Dev loss: 0.6200320914387702\n"
     ]
    },
    {
     "data": {
      "application/vnd.jupyter.widget-view+json": {
       "model_id": "181c3d4a8f44453f8bb9eebe9d4ea542",
       "version_major": 2,
       "version_minor": 0
      },
      "text/plain": [
       "HBox(children=(IntProgress(value=0, description='Training iteration', max=18, style=ProgressStyle(description_…"
      ]
     },
     "metadata": {},
     "output_type": "display_data"
    },
    {
     "name": "stdout",
     "output_type": "stream",
     "text": [
      "\n"
     ]
    },
    {
     "data": {
      "application/vnd.jupyter.widget-view+json": {
       "model_id": "e070f71c1f0b4ba2b0a079a628ab0e4b",
       "version_major": 2,
       "version_minor": 0
      },
      "text/plain": [
       "HBox(children=(IntProgress(value=0, description='Evaluation iteration', max=5, style=ProgressStyle(description…"
      ]
     },
     "metadata": {},
     "output_type": "display_data"
    },
    {
     "name": "stderr",
     "output_type": "stream",
     "text": [
      "\r",
      "Epoch:  70%|███████   | 14/20 [00:30<00:12,  2.06s/it]"
     ]
    },
    {
     "name": "stdout",
     "output_type": "stream",
     "text": [
      "\n",
      "Loss history: [1.6473965406417848, 1.2385924696922301, 1.0272655010223388, 0.9899182200431824, 0.9163646578788758, 0.7455862879753112, 0.8208680033683777, 0.6801283061504364, 0.6410963833332062, 0.6926881432533264, 0.6163372963666915, 0.6203684329986572, 0.6200320914387702]\n",
      "Dev loss: 0.7257069826126099\n"
     ]
    },
    {
     "data": {
      "application/vnd.jupyter.widget-view+json": {
       "model_id": "6e663b52c48244d2acc8f2b14eac67e3",
       "version_major": 2,
       "version_minor": 0
      },
      "text/plain": [
       "HBox(children=(IntProgress(value=0, description='Training iteration', max=18, style=ProgressStyle(description_…"
      ]
     },
     "metadata": {},
     "output_type": "display_data"
    },
    {
     "name": "stdout",
     "output_type": "stream",
     "text": [
      "\n"
     ]
    },
    {
     "data": {
      "application/vnd.jupyter.widget-view+json": {
       "model_id": "92fd2d0fa00d4426b89e73e0be50c3b2",
       "version_major": 2,
       "version_minor": 0
      },
      "text/plain": [
       "HBox(children=(IntProgress(value=0, description='Evaluation iteration', max=5, style=ProgressStyle(description…"
      ]
     },
     "metadata": {},
     "output_type": "display_data"
    },
    {
     "name": "stderr",
     "output_type": "stream",
     "text": [
      "\r",
      "Epoch:  75%|███████▌  | 15/20 [00:32<00:10,  2.05s/it]"
     ]
    },
    {
     "name": "stdout",
     "output_type": "stream",
     "text": [
      "\n",
      "Loss history: [1.6473965406417848, 1.2385924696922301, 1.0272655010223388, 0.9899182200431824, 0.9163646578788758, 0.7455862879753112, 0.8208680033683777, 0.6801283061504364, 0.6410963833332062, 0.6926881432533264, 0.6163372963666915, 0.6203684329986572, 0.6200320914387702, 0.7257069826126099]\n",
      "Dev loss: 0.6236937135457993\n"
     ]
    },
    {
     "data": {
      "application/vnd.jupyter.widget-view+json": {
       "model_id": "5faf2fe9246a4ad39651037647dfd787",
       "version_major": 2,
       "version_minor": 0
      },
      "text/plain": [
       "HBox(children=(IntProgress(value=0, description='Training iteration', max=18, style=ProgressStyle(description_…"
      ]
     },
     "metadata": {},
     "output_type": "display_data"
    },
    {
     "name": "stdout",
     "output_type": "stream",
     "text": [
      "\n"
     ]
    },
    {
     "data": {
      "application/vnd.jupyter.widget-view+json": {
       "model_id": "fc504b2812e34304acdb3dbfde03b0be",
       "version_major": 2,
       "version_minor": 0
      },
      "text/plain": [
       "HBox(children=(IntProgress(value=0, description='Evaluation iteration', max=5, style=ProgressStyle(description…"
      ]
     },
     "metadata": {},
     "output_type": "display_data"
    },
    {
     "name": "stdout",
     "output_type": "stream",
     "text": [
      "\n",
      "Loss history: [1.6473965406417848, 1.2385924696922301, 1.0272655010223388, 0.9899182200431824, 0.9163646578788758, 0.7455862879753112, 0.8208680033683777, 0.6801283061504364, 0.6410963833332062, 0.6926881432533264, 0.6163372963666915, 0.6203684329986572, 0.6200320914387702, 0.7257069826126099, 0.6236937135457993]\n",
      "Dev loss: 0.6734998047351837\n",
      "No improvement on development set. Finish training.\n"
     ]
    },
    {
     "name": "stderr",
     "output_type": "stream",
     "text": [
      "\n"
     ]
    }
   ],
   "source": [
    "from quillnlp.models.bert.train import train\n",
    "\n",
    "output_model_file = train(model, train_dataloader, dev_dataloader, BATCH_SIZE, GRADIENT_ACCUMULATION_STEPS, device)"
   ]
  },
  {
   "cell_type": "markdown",
   "metadata": {},
   "source": [
    "## Evaluation"
   ]
  },
  {
   "cell_type": "code",
   "execution_count": 5,
   "metadata": {},
   "outputs": [
    {
     "name": "stdout",
     "output_type": "stream",
     "text": [
      "Loading model from /tmp/model.bin\n"
     ]
    },
    {
     "name": "stderr",
     "output_type": "stream",
     "text": [
      "I1008 10:42:02.733748 140067368421184 configuration_utils.py:151] loading configuration file https://s3.amazonaws.com/models.huggingface.co/bert/distilbert-base-uncased-config.json from cache at /home/yves/.cache/torch/transformers/a41e817d5c0743e29e86ff85edc8c257e61bc8d88e4271bb1b243b6e7614c633.1ccd1a11c9ff276830e114ea477ea2407100f4a3be7bdc45d37be9e37fa71c7e\n",
      "I1008 10:42:02.735480 140067368421184 configuration_utils.py:168] Model config {\n",
      "  \"activation\": \"gelu\",\n",
      "  \"attention_dropout\": 0.1,\n",
      "  \"dim\": 768,\n",
      "  \"dropout\": 0.1,\n",
      "  \"finetuning_task\": null,\n",
      "  \"hidden_dim\": 3072,\n",
      "  \"initializer_range\": 0.02,\n",
      "  \"max_position_embeddings\": 512,\n",
      "  \"n_heads\": 12,\n",
      "  \"n_layers\": 6,\n",
      "  \"num_labels\": 7,\n",
      "  \"output_attentions\": false,\n",
      "  \"output_hidden_states\": false,\n",
      "  \"pruned_heads\": {},\n",
      "  \"qa_dropout\": 0.1,\n",
      "  \"seq_classif_dropout\": 0.2,\n",
      "  \"sinusoidal_pos_embds\": false,\n",
      "  \"tie_weights_\": true,\n",
      "  \"torchscript\": false,\n",
      "  \"use_bfloat16\": false,\n",
      "  \"vocab_size\": 30522\n",
      "}\n",
      "\n",
      "I1008 10:42:03.191801 140067368421184 modeling_utils.py:337] loading weights file https://s3.amazonaws.com/models.huggingface.co/bert/distilbert-base-uncased-pytorch_model.bin from cache at /home/yves/.cache/torch/transformers/7b8a8f0b21c4e7f6962451c9370a5d9af90372a5f64637a251f2de154d0fc72c.c2015533705b9dff680ae707e205a35e2860e8d148b45d35085419d74fe57ac5\n"
     ]
    },
    {
     "data": {
      "application/vnd.jupyter.widget-view+json": {
       "model_id": "b50043a205174acf8826cdfbae3eb099",
       "version_major": 2,
       "version_minor": 0
      },
      "text/plain": [
       "HBox(children=(IntProgress(value=0, description='Evaluation iteration', max=10, style=ProgressStyle(descriptio…"
      ]
     },
     "metadata": {},
     "output_type": "display_data"
    },
    {
     "name": "stdout",
     "output_type": "stream",
     "text": [
      "\n",
      "Test performance: (0.7908496732026143, 0.7908496732026143, 0.7908496732026143, None)\n",
      "                                           precision    recall  f1-score   support\n",
      "\n",
      "                   Unclassified Off-Topic       0.56      0.45      0.50        11\n",
      "          School without generating money       0.60      0.38      0.46        16\n",
      "   Schools providing healthy alternatives       0.91      0.93      0.92        75\n",
      "                           Student choice       0.47      1.00      0.64         7\n",
      "                  Students without choice       0.74      0.79      0.76        33\n",
      "                   Schools generate money       1.00      0.88      0.93         8\n",
      "Students can still bring/access junk food       0.00      0.00      0.00         3\n",
      "\n",
      "                              avg / total       0.78      0.79      0.78       153\n",
      "\n"
     ]
    },
    {
     "name": "stderr",
     "output_type": "stream",
     "text": [
      "/opt/anaconda3/lib/python3.7/site-packages/sklearn/metrics/classification.py:1135: UndefinedMetricWarning: Precision and F-score are ill-defined and being set to 0.0 in labels with no predicted samples.\n",
      "  'precision', 'predicted', average, warn_for)\n"
     ]
    }
   ],
   "source": [
    "from quillnlp.models.bert.train import evaluate\n",
    "from sklearn.metrics import precision_recall_fscore_support, classification_report\n",
    "\n",
    "print(\"Loading model from\", output_model_file)\n",
    "device=\"cpu\"\n",
    "\n",
    "model = get_bert_classifier(BERT_MODEL, len(label2idx), model_file=output_model_file, device=device)\n",
    "model.eval()\n",
    "\n",
    "_, test_correct, test_predicted = evaluate(model, test_dataloader, device)\n",
    "\n",
    "print(\"Test performance:\", precision_recall_fscore_support(test_correct, test_predicted, average=\"micro\"))\n",
    "print(classification_report(test_correct, test_predicted, target_names=target_names))"
   ]
  },
  {
   "cell_type": "code",
   "execution_count": 6,
   "metadata": {},
   "outputs": [
    {
     "name": "stdout",
     "output_type": "stream",
     "text": [
      "Schools should not allow junk food to be sold on campus but kids will still bring in unhealthy food#Students without choice#Students without choice\n",
      "Schools should not allow junk food to be sold on campus but some think students should be able to choose what they eat#Student choice#Student choice\n",
      "Schools should not allow junk food to be sold on campus but maybe on certain special occasions or at events#Unclassified Off-Topic#Unclassified Off-Topic\n",
      "Schools should not allow junk food to be sold on campus but students may bring it anyway#Students without choice#Students without choice\n",
      "Schools should not allow junk food to be sold on campus but they can choose to sell food that are nutritious and healthy#Schools providing healthy alternatives#Schools providing healthy alternatives\n",
      "Schools should not allow junk food to be sold on campus but ultimately it is up to the individual student what they eat or drink#Students without choice#Students without choice\n",
      "Schools should not allow junk food to be sold on campus but should provide healthier choices#Schools providing healthy alternatives#Schools providing healthy alternatives\n",
      "Schools should not allow junk food to be sold on campus but Can sell healthier options#Schools providing healthy alternatives#Schools providing healthy alternatives\n",
      "Schools should not allow junk food to be sold on campus but familes should have a say in what their kids eat#Students without choice#Unclassified Off-Topic\n",
      "Schools should not allow junk food to be sold on campus but there should be alternatives they sell#Schools providing healthy alternatives#Schools providing healthy alternatives\n",
      "Schools should not allow junk food to be sold on campus but students should be allowed to bring it to school#Students without choice#Students without choice\n",
      "Schools should not allow junk food to be sold on campus but they could sell healthy options elsewhere#Schools providing healthy alternatives#Schools providing healthy alternatives\n",
      "Schools should not allow junk food to be sold on campus but they should have treats on special days#Students without choice#Schools providing healthy alternatives\n",
      "Schools should not allow junk food to be sold on campus but they could just have a small amount of it instead of the amount they have been selling at#School without generating money#Unclassified Off-Topic\n",
      "Schools should not allow junk food to be sold on campus but they should inform the students as to why#Students without choice#Students without choice\n",
      "Schools should not allow junk food to be sold on campus but serious consideration must be made in choosing replacements for it#Schools providing healthy alternatives#School without generating money\n",
      "Schools should not allow junk food to be sold on campus but it is good to have a balance of healthy and junk food#Schools providing healthy alternatives#Schools providing healthy alternatives\n",
      "Schools should not allow junk food to be sold on campus but they should also incorporate greater amounts of exercise into the school day#School without generating money#Schools providing healthy alternatives\n",
      "Schools should not allow junk food to be sold on campus but allow them to take it with them to school if they so wish#School without generating money#Students without choice\n",
      "Schools should not allow junk food to be sold on campus but should provide healthy, nutritious food instead#Schools providing healthy alternatives#Schools providing healthy alternatives\n",
      "Schools should not allow junk food to be sold on campus but kids are fond of junk foods#Students without choice#Students without choice\n",
      "Schools should not allow junk food to be sold on campus but schools make a sizable profit by selling junk food items in vending machines#School without generating money#School without generating money\n",
      "Schools should not allow junk food to be sold on campus but they have to get an incentive to stop offering it#School without generating money#School without generating money\n",
      "Schools should not allow junk food to be sold on campus but can offer healthy food choices in vending machines#Schools providing healthy alternatives#Schools providing healthy alternatives\n",
      "Schools should not allow junk food to be sold on campus but I can see how the schools want to give the kids a choice#Student choice#Student choice\n",
      "Schools should not allow junk food to be sold on campus but in the long run, a person's health choices are personal, and government institutions should not be able to dictate such choices#Unclassified Off-Topic#Students without choice\n",
      "Schools should not allow junk food to be sold on campus but parents should also provide education and rules at home around food choices#Unclassified Off-Topic#Students without choice\n",
      "Schools should not allow junk food to be sold on campus but should allow children to bring it in their lunch boxes if their parents send it in their lunch#Students without choice#Students without choice\n",
      "Schools should not allow junk food to be sold on campus but the sale of junk food can generate a significant amount of profit#Schools generate money#Schools generate money\n",
      "Schools should not allow junk food to be sold on campus but they could allow healthier alternatives#Schools providing healthy alternatives#Schools providing healthy alternatives\n",
      "Schools should not allow junk food to be sold on campus but they should be allowed to bring it from home#Students without choice#Students without choice\n",
      "Schools should not allow junk food to be sold on campus but could offer alternative healthy foods in their place#Schools providing healthy alternatives#Schools providing healthy alternatives\n",
      "Schools should not allow junk food to be sold on campus but should instead promote healthy eating options#Schools providing healthy alternatives#Schools providing healthy alternatives\n",
      "Schools should not allow junk food to be sold on campus but it does generate money#Schools generate money#Schools generate money\n",
      "Schools should not allow junk food to be sold on campus but give alternate snacks that are healthier#Schools providing healthy alternatives#Schools providing healthy alternatives\n",
      "Schools should not allow junk food to be sold on campus but should provided healthy alternatives#Schools providing healthy alternatives#Schools providing healthy alternatives\n",
      "Schools should not allow junk food to be sold on campus but they probably will continue to do so#School without generating money#School without generating money\n",
      "Schools should not allow junk food to be sold on campus but provide a healthy alternative to sugary snack foods#Schools providing healthy alternatives#Schools providing healthy alternatives\n",
      "Schools should not allow junk food to be sold on campus but students should be allowed to choose what they eat#Student choice#Student choice\n",
      "Schools should not allow junk food to be sold on campus but they should not prohibit it if students bring it on their own#Students without choice#Students without choice\n",
      "Schools should not allow junk food to be sold on campus but it does provide the school system with extra revenue#Schools generate money#School without generating money\n",
      "Schools should not allow junk food to be sold on campus but if people want it it, they will still find a way to have it#Students without choice#Students without choice\n",
      "Schools should not allow junk food to be sold on campus but should allow for healthy food to be available#Schools providing healthy alternatives#Schools providing healthy alternatives\n",
      "Schools should not allow junk food to be sold on campus but healthy snacks should be added to school vending machines as part of an initiative aimed at changing kids' eating and fitness habits#Schools providing healthy alternatives#Schools providing healthy alternatives\n",
      "Schools should not allow junk food to be sold on campus but offer different alternatives#Schools providing healthy alternatives#Schools providing healthy alternatives\n",
      "Schools should not allow junk food to be sold on campus but some say students should be able to make their own choices of what to eat#Student choice#Student choice\n",
      "Schools should not allow junk food to be sold on campus but there could be an argument for teaching kids to make decisions in the face of temptation by allowing the food to remain#Students without choice#Student choice\n",
      "Schools should not allow junk food to be sold on campus but they should make sure the healthier options are things kids will actually enjoy#Schools providing healthy alternatives#Schools providing healthy alternatives\n",
      "Schools should not allow junk food to be sold on campus but they should offer healthy alternatives and encourage children to make better decisions#Schools providing healthy alternatives#Schools providing healthy alternatives\n",
      "Schools should not allow junk food to be sold on campus but I think that giving the kids healthy choices would be a great replacement#Schools providing healthy alternatives#Schools providing healthy alternatives\n",
      "Schools should not allow junk food to be sold on campus but instead should provide healthier food alternatives#Schools providing healthy alternatives#Schools providing healthy alternatives\n",
      "Schools should not allow junk food to be sold on campus but allowed to bring healthier food to the school#Schools providing healthy alternatives#Schools providing healthy alternatives\n",
      "Schools should not allow junk food to be sold on campus but they should have greater accessibility to nutrient dense foods#School without generating money#Schools providing healthy alternatives\n",
      "Schools should not allow junk food to be sold on campus but it needs to follow through at home with their own families#Unclassified Off-Topic#Students without choice\n",
      "Schools should not allow junk food to be sold on campus but instead they should bring some healthy snacks and foods#Schools providing healthy alternatives#Schools providing healthy alternatives\n",
      "Schools should not allow junk food to be sold on campus but selling snacks does raise money for the school#Schools generate money#Schools generate money\n",
      "Schools should not allow junk food to be sold on campus but also not punish students for possessing junk food, since it is readily available and does not constitute an inherent threat that would warrant harsh punishment#Students without choice#Students without choice\n",
      "Schools should not allow junk food to be sold on campus but should provide healthy snacks instead to raise revenue#Schools providing healthy alternatives#Schools providing healthy alternatives\n",
      "Schools should not allow junk food to be sold on campus but they may offer more choices of healthy food#Schools providing healthy alternatives#Schools providing healthy alternatives\n",
      "Schools should not allow junk food to be sold on campus but it should be noted that every child has their own personal decision of what they want to eat#Students without choice#Student choice\n",
      "Schools should not allow junk food to be sold on campus but it does help the school make money#Schools generate money#Schools generate money\n",
      "Schools should not allow junk food to be sold on campus but allow students to bring in whatever foods their family allows#Students without choice#Students without choice\n",
      "Schools should not allow junk food to be sold on campus but many kids prefer junk food#Students without choice#Students without choice\n",
      "Schools should not allow junk food to be sold on campus but should have snacks that are healthy alternatives as treats#Schools providing healthy alternatives#Schools providing healthy alternatives\n",
      "Schools should not allow junk food to be sold on campus but I think they should sell other healthy snacks#Schools providing healthy alternatives#Schools providing healthy alternatives\n",
      "Schools should not allow junk food to be sold on campus but instead should offer a wider variety of healthier snacks, so there is something for all students to enjoy#Schools providing healthy alternatives#Schools providing healthy alternatives\n",
      "Schools should not allow junk food to be sold on campus but they should be allowed to provide healthy snacks and drinks for students to enjoy#Schools providing healthy alternatives#Schools providing healthy alternatives\n",
      "Schools should not allow junk food to be sold on campus but they can slowly integrate healthier choices such as baked potato chips instead of fried#Schools providing healthy alternatives#Schools providing healthy alternatives\n",
      "Schools should not allow junk food to be sold on campus but they should incorporate healthy initiatives#Schools providing healthy alternatives#Schools providing healthy alternatives\n",
      "Schools should not allow junk food to be sold on campus but they should have healthy alternatives for the kids to turn too when they do want a snack#Schools providing healthy alternatives#Schools providing healthy alternatives\n",
      "Schools should not allow junk food to be sold on campus but certain snacks are alright#Schools providing healthy alternatives#Unclassified Off-Topic\n",
      "Schools should not allow junk food to be sold on campus but let students do what they want#Students without choice#Students without choice\n",
      "Schools should not allow junk food to be sold on campus but should respect students' right of free choice#Student choice#Student choice\n",
      "Schools should not allow junk food to be sold on campus but they should teach students accurate health information#Schools providing healthy alternatives#Students without choice\n",
      "Schools should not allow junk food to be sold on campus but they should have healthy snacks#Schools providing healthy alternatives#Schools providing healthy alternatives\n",
      "Schools should not allow junk food to be sold on campus but offer healthy alternatives#Schools providing healthy alternatives#Schools providing healthy alternatives\n",
      "Schools should not allow junk food to be sold on campus but if a student really wants junk food, they can make he more conscious decision to purchase their junk food at a local grocery store#Students without choice#Students without choice\n",
      "Schools should not allow junk food to be sold on campus but should instead offer healthier options#Schools providing healthy alternatives#Schools providing healthy alternatives\n",
      "Schools should not allow junk food to be sold on campus but at the end of the day, it's the students choice#Student choice#Student choice\n",
      "Schools should not allow junk food to be sold on campus but they should allow students to bring whatever food they wish to consume from home, as long as the school makes an effort to educate students about the risks of unhealthy eating habits#Students without choice#Students without choice\n",
      "Schools should not allow junk food to be sold on campus but should also be limited on what quasi-healthy options are available as well (eg#Schools providing healthy alternatives#Schools providing healthy alternatives\n",
      "Schools should not allow junk food to be sold on campus but some people think students should be able to choose what they eat#Student choice#Student choice\n",
      "Schools should not allow junk food to be sold on campus but should offer healthy alternatives like fruit#Schools providing healthy alternatives#Schools providing healthy alternatives\n",
      "Schools should not allow junk food to be sold on campus but they should make sure there are healthy options for snacks to replace the junk food#Schools providing healthy alternatives#Schools providing healthy alternatives\n",
      "Schools should not allow junk food to be sold on campus but should offer healthy alternatives to junk food#Schools providing healthy alternatives#Schools providing healthy alternatives\n",
      "Schools should not allow junk food to be sold on campus but they should having vending machines that sell healthy options#Schools providing healthy alternatives#Schools providing healthy alternatives\n",
      "Schools should not allow junk food to be sold on campus but they do#School without generating money#School without generating money\n",
      "Schools should not allow junk food to be sold on campus but students should be allowed to bring junk food to campus if they desire#Students without choice#Students without choice\n",
      "Schools should not allow junk food to be sold on campus but healthy snacks should be#Schools providing healthy alternatives#Schools providing healthy alternatives\n",
      "Schools should not allow junk food to be sold on campus but should be allowed to sell snacks and soda#Schools providing healthy alternatives#Schools providing healthy alternatives\n",
      "Schools should not allow junk food to be sold on campus but should offer reasonable alternative to the type of snacks that you would expect to find at a school#Schools providing healthy alternatives#Schools providing healthy alternatives\n",
      "Schools should not allow junk food to be sold on campus but they should sell healthy options#Schools providing healthy alternatives#Schools providing healthy alternatives\n",
      "Schools should not allow junk food to be sold on campus but should offer healthy alternative snacks to purchase#Schools providing healthy alternatives#Schools providing healthy alternatives\n",
      "Schools should not allow junk food to be sold on campus but they should allow students to choose what they eat by bringing their own snacks if they want#Students can still bring/access junk food#Student choice\n",
      "Schools should not allow junk food to be sold on campus but they should be offering healthy snacks#Schools providing healthy alternatives#Schools providing healthy alternatives\n",
      "Schools should not allow junk food to be sold on campus but educating students about good food choices still needs to happen because they will have access to junk food off campus#Students without choice#Students without choice\n",
      "Schools should not allow junk food to be sold on campus but have healthy options#Schools providing healthy alternatives#Schools providing healthy alternatives\n",
      "Schools should not allow junk food to be sold on campus but they should allow kids to bring their own if they want#Students without choice#Students without choice\n",
      "Schools should not allow junk food to be sold on campus but provide alternative healthy snacks#Schools providing healthy alternatives#Schools providing healthy alternatives\n",
      "Schools should not allow junk food to be sold on campus but here schools are, still selling this junk food that only promotes poor eating habits which could lead to a lot of health complications#School without generating money#Schools providing healthy alternatives\n",
      "Schools should not allow junk food to be sold on campus but they should make sure that something is available to purchase if the children need to#Students without choice#Students without choice\n",
      "Schools should not allow junk food to be sold on campus but they tried to give us a choice between food#School without generating money#Student choice\n",
      "Schools should not allow junk food to be sold on campus but provide public health education of its dangers#Schools providing healthy alternatives#School without generating money\n",
      "Schools should not allow junk food to be sold on campus but in some cases junk food can be sold once a month#Unclassified Off-Topic#Unclassified Off-Topic\n",
      "Schools should not allow junk food to be sold on campus but there could be certain times or events where some junk food may be purchased#Unclassified Off-Topic#Unclassified Off-Topic\n",
      "Schools should not allow junk food to be sold on campus but be allowed to sell healthier alternative snacks and food#Schools providing healthy alternatives#Schools providing healthy alternatives\n",
      "Schools should not allow junk food to be sold on campus but they are allowed to bring it themselves#Students without choice#Students without choice\n",
      "Schools should not allow junk food to be sold on campus but ITS NOT GOOD#Unclassified Off-Topic#Unclassified Off-Topic\n",
      "Schools should not allow junk food to be sold on campus but many schools do it because they do not see it as their job to change the diet of their students#School without generating money#School without generating money\n",
      "Schools should not allow junk food to be sold on campus but in some cases junk food is less expensive than healthier options so junk is perhaps all some can afford#Schools providing healthy alternatives#Schools providing healthy alternatives\n",
      "Schools should not allow junk food to be sold on campus but they should not interfere with what students bring for lunch from home#School without generating money#Students without choice\n",
      "Schools should not allow junk food to be sold on campus but the school allow snack machines with more nutritious foods#Schools providing healthy alternatives#Schools providing healthy alternatives\n",
      "Schools should not allow junk food to be sold on campus but they could offer healthy options in place of junk food#Schools providing healthy alternatives#Schools providing healthy alternatives\n",
      "Schools should not allow junk food to be sold on campus but they would be losing a good revenue source#Schools generate money#Schools generate money\n",
      "Schools should not allow junk food to be sold on campus but it should also educate students and staff alike on why it has opted to do so#Students without choice#Students without choice\n",
      "Schools should not allow junk food to be sold on campus but it is acceptable to eat it there#Unclassified Off-Topic#Students without choice\n",
      "Schools should not allow junk food to be sold on campus but maybe a few things#Unclassified Off-Topic#Unclassified Off-Topic\n",
      "Schools should not allow junk food to be sold on campus but educate kids about healthy eating#Schools providing healthy alternatives#Schools providing healthy alternatives\n",
      "Schools should not allow junk food to be sold on campus but they could offer the option to buy snacks once a week#School without generating money#Schools providing healthy alternatives\n",
      "Schools should not allow junk food to be sold on campus but a slight compromise should be sought to make everyone happy#Schools providing healthy alternatives#Student choice\n",
      "Schools should not allow junk food to be sold on campus but they could offer some snack foods that are low in calories or not as salty or sugary but to be able to still give them a choice#Schools providing healthy alternatives#Schools providing healthy alternatives\n",
      "Schools should not allow junk food to be sold on campus but they cannot enforce eating habits outside of school#School without generating money#School without generating money\n",
      "Schools should not allow junk food to be sold on campus but if it is sold it should be really expensive so that only people that really want junk food will buy it#Unclassified Off-Topic#Students without choice\n",
      "Schools should not allow junk food to be sold on campus but if kids choose to bring so on their own, that is their family's decision#Students can still bring/access junk food#Student choice\n",
      "Schools should not allow junk food to be sold on campus but the schools make money off of it#Schools generate money#Schools generate money\n",
      "Schools should not allow junk food to be sold on campus but they should at have least allow children to choose between healthy food and snacks#Schools providing healthy alternatives#Schools providing healthy alternatives\n",
      "Schools should not allow junk food to be sold on campus but make the food less sugary and salty to make it healthy#Schools providing healthy alternatives#Schools providing healthy alternatives\n",
      "Schools should not allow junk food to be sold on campus but if its taken away, kids will find a way to bring it back to campus#Students without choice#Students without choice\n",
      "Schools should not allow junk food to be sold on campus but it is also important to focus on changing kids' fitness habits#Students without choice#Schools providing healthy alternatives\n",
      "Schools should not allow junk food to be sold on campus but they should be prepared for community backlash#School without generating money#Unclassified Off-Topic\n",
      "Schools should not allow junk food to be sold on campus but they can replaced the junk foods by selling some nutritional foods#Schools providing healthy alternatives#Schools providing healthy alternatives\n",
      "Schools should not allow junk food to be sold on campus but should be transparent about their reasoning and teach kids why unhealthy foods aren't good#Students without choice#Students without choice\n",
      "Schools should not allow junk food to be sold on campus but students should still have the freedom to bring snacks to school for lunch, everyone has a right to eat what they choose#Students can still bring/access junk food#Students without choice\n",
      "Schools should not allow junk food to be sold on campus but should make an effort to teach the kids about better eating habits#Students without choice#Schools providing healthy alternatives\n",
      "Schools should not allow junk food to be sold on campus but should instead promote healthy eating by filling snack machines with nutritious foods#Schools providing healthy alternatives#Schools providing healthy alternatives\n",
      "Schools should not allow junk food to be sold on campus but should have alternative healthy snacks available#Schools providing healthy alternatives#Schools providing healthy alternatives\n",
      "Schools should not allow junk food to be sold on campus but should provide healthier snacks for students to have#Schools providing healthy alternatives#Schools providing healthy alternatives\n",
      "Schools should not allow junk food to be sold on campus but the schools could fill snack machines with more nutritious foods#Schools providing healthy alternatives#Schools providing healthy alternatives\n",
      "Schools should not allow junk food to be sold on campus but if they insist it could be healthy options#Schools providing healthy alternatives#Schools providing healthy alternatives\n",
      "Schools should not allow junk food to be sold on campus but instead fill snack machines with nutritious foods#Schools providing healthy alternatives#Schools providing healthy alternatives\n",
      "Schools should not allow junk food to be sold on campus but should allow kids to bring it from home#Students without choice#Students without choice\n",
      "Schools should not allow junk food to be sold on campus but if a club or organization has a fundraiser it may be allowed on special occasions#Unclassified Off-Topic#School without generating money\n",
      "Schools should not allow junk food to be sold on campus but schools could fill the snack machines with healthy choices#Schools providing healthy alternatives#Schools providing healthy alternatives\n",
      "Schools should not allow junk food to be sold on campus but it is the children's decision to do whatever they want after they are not in school#Students without choice#Student choice\n",
      "Schools should not allow junk food to be sold on campus but selling junk foods generates money for the school#Schools generate money#Schools generate money\n",
      "Schools should not allow junk food to be sold on campus but they could sell a variety of healthy snacks#Schools providing healthy alternatives#Schools providing healthy alternatives\n",
      "Schools should not allow junk food to be sold on campus but provide healthy snacks instead#Schools providing healthy alternatives#Schools providing healthy alternatives\n",
      "Schools should not allow junk food to be sold on campus but we cannot protect our kids from everything bad for them out there#Students without choice#Students without choice\n",
      "Schools should not allow junk food to be sold on campus but teens can make decisions about what they eat when they are not at school#School without generating money#Student choice\n",
      "Schools should not allow junk food to be sold on campus but provide healthy options#Schools providing healthy alternatives#Schools providing healthy alternatives\n",
      "Schools should not allow junk food to be sold on campus but offer healthy snacks#Schools providing healthy alternatives#Schools providing healthy alternatives\n",
      "Schools should not allow junk food to be sold on campus but instead offer healthier options to students for purchase#Schools providing healthy alternatives#Schools providing healthy alternatives\n",
      "Schools should not allow junk food to be sold on campus but should instead replace it with healthy alternatives#Schools providing healthy alternatives#Schools providing healthy alternatives\n",
      "121\n",
      "0.7908496732026143\n"
     ]
    }
   ],
   "source": [
    "c = 0\n",
    "for item, predicted, correct in zip(test_data, test_predicted, test_correct):\n",
    "    assert item[\"label\"] == idx2label[correct]\n",
    "    c += (item[\"label\"] == idx2label[predicted])\n",
    "    print(\"{}#{}#{}\".format(item[\"text\"], idx2label[correct], idx2label[predicted]))\n",
    "    \n",
    "print(c)\n",
    "print(c/len(test_data))"
   ]
  }
 ],
 "metadata": {
  "kernelspec": {
   "display_name": "Python 3",
   "language": "python",
   "name": "python3"
  },
  "language_info": {
   "codemirror_mode": {
    "name": "ipython",
    "version": 3
   },
   "file_extension": ".py",
   "mimetype": "text/x-python",
   "name": "python",
   "nbconvert_exporter": "python",
   "pygments_lexer": "ipython3",
   "version": "3.7.3"
  }
 },
 "nbformat": 4,
 "nbformat_minor": 2
}
