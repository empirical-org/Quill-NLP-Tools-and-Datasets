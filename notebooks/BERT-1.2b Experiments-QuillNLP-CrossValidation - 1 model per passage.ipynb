{
 "cells": [
  {
   "cell_type": "markdown",
   "metadata": {},
   "source": [
    "# First BERT Experiments\n",
    "\n",
    "In this notebook we do some first experiments with BERT: we finetune a BERT model+classifier on each of our datasets separately and compute the accuracy of the resulting classifier on the test data."
   ]
  },
  {
   "cell_type": "markdown",
   "metadata": {},
   "source": [
    "For these experiments we use the `pytorch_transformers` package. It contains a variety of neural network architectures for transfer learning and pretrained models, including BERT and XLNET.\n",
    "\n",
    "Two different BERT models are relevant for our experiments: \n",
    "\n",
    "- BERT-base-uncased: a relatively small BERT model that should already give reasonable results,\n",
    "- BERT-large-uncased: a larger model for real state-of-the-art results."
   ]
  },
  {
   "cell_type": "code",
   "execution_count": 1,
   "metadata": {},
   "outputs": [],
   "source": [
    "BERT_MODEL = 'bert-base-uncased'\n",
    "BATCH_SIZE = 16 if \"base\" in BERT_MODEL else 2\n",
    "GRADIENT_ACCUMULATION_STEPS = 1 if \"base\" in BERT_MODEL else 8\n",
    "MAX_SEQ_LENGTH = 100\n",
    "PREFIXES = [\"eatingmeat4_so\", \"eatingmeat4_because\", \"eatingmeat4_but\"]"
   ]
  },
  {
   "cell_type": "markdown",
   "metadata": {},
   "source": [
    "## Data\n",
    "\n",
    "We use the same data as for all our previous experiments. Here we load the training, development and test data for a particular prompt."
   ]
  },
  {
   "cell_type": "code",
   "execution_count": 2,
   "metadata": {},
   "outputs": [
    {
     "name": "stderr",
     "output_type": "stream",
     "text": [
      "I0406 17:49:15.544050 140397457205056 file_utils.py:41] PyTorch version 1.2.0+cu92 available.\n",
      "I0406 17:49:16.530257 140397457205056 file_utils.py:57] TensorFlow version 2.1.0 available.\n",
      "I0406 17:49:17.201040 140397457205056 tokenization_utils.py:501] loading file https://s3.amazonaws.com/models.huggingface.co/bert/bert-base-uncased-vocab.txt from cache at /home/yves/.cache/torch/transformers/26bc1ad6c0ac742e9b52263248f6d0f00068293b33709fae12320c0e35ccfbbb.542ce4285a40d23a559526243235df47c5f75c197f04f37d1a0c124c32c9a084\n"
     ]
    }
   ],
   "source": [
    "import sys\n",
    "sys.path.append('../')\n",
    "\n",
    "import ndjson\n",
    "import glob\n",
    "import numpy as np\n",
    "\n",
    "from quillnlp.models.bert.preprocessing import preprocess, create_label_vocabulary\n",
    "\n",
    "data = []\n",
    "for prefix in PREFIXES:\n",
    "    data_file = f\"../data/interim/{prefix}_withprompt.ndjson\"\n",
    "\n",
    "    with open(data_file) as i:\n",
    "        new_data = ndjson.load(i)\n",
    "        for item in new_data:\n",
    "            item[\"label\"] = prefix + \"_\" + item[\"labels\"][0]\n",
    "        data.extend(new_data)\n",
    "        \n",
    "# Make sure this is a single-label problem\n",
    "label_lengths = [len(item[\"labels\"]) for item in data]\n",
    "assert max(label_lengths) == 1\n",
    "        \n",
    "label2idx = create_label_vocabulary(data)\n",
    "idx2label = {v:k for k,v in label2idx.items()}\n",
    "target_names = [idx2label[s] for s in range(len(idx2label))]\n",
    "\n",
    "data_items = preprocess(data, BERT_MODEL, label2idx, MAX_SEQ_LENGTH)\n",
    "data_items = np.array(data_items)"
   ]
  },
  {
   "cell_type": "markdown",
   "metadata": {},
   "source": [
    "## Training"
   ]
  },
  {
   "cell_type": "code",
   "execution_count": 3,
   "metadata": {},
   "outputs": [
    {
     "name": "stderr",
     "output_type": "stream",
     "text": [
      "I0406 17:49:18.523230 140397457205056 configuration_utils.py:256] loading configuration file https://s3.amazonaws.com/models.huggingface.co/bert/bert-base-uncased-config.json from cache at /home/yves/.cache/torch/transformers/4dad0251492946e18ac39290fcfe91b89d370fee250efe9521476438fe8ca185.8f56353af4a709bf5ff0fbc915d8f5b42bfff892cbb6ac98c3c45f481a03c685\n",
      "I0406 17:49:18.524959 140397457205056 configuration_utils.py:292] Model config BertConfig {\n",
      "  \"architectures\": [\n",
      "    \"BertForMaskedLM\"\n",
      "  ],\n",
      "  \"attention_probs_dropout_prob\": 0.1,\n",
      "  \"bos_token_id\": null,\n",
      "  \"do_sample\": false,\n",
      "  \"eos_token_ids\": null,\n",
      "  \"finetuning_task\": null,\n",
      "  \"hidden_act\": \"gelu\",\n",
      "  \"hidden_dropout_prob\": 0.1,\n",
      "  \"hidden_size\": 768,\n",
      "  \"id2label\": {\n",
      "    \"0\": \"LABEL_0\",\n",
      "    \"1\": \"LABEL_1\"\n",
      "  },\n",
      "  \"initializer_range\": 0.02,\n",
      "  \"intermediate_size\": 3072,\n",
      "  \"is_decoder\": false,\n",
      "  \"label2id\": {\n",
      "    \"LABEL_0\": 0,\n",
      "    \"LABEL_1\": 1\n",
      "  },\n",
      "  \"layer_norm_eps\": 1e-12,\n",
      "  \"length_penalty\": 1.0,\n",
      "  \"max_length\": 20,\n",
      "  \"max_position_embeddings\": 512,\n",
      "  \"model_type\": \"bert\",\n",
      "  \"num_attention_heads\": 12,\n",
      "  \"num_beams\": 1,\n",
      "  \"num_hidden_layers\": 12,\n",
      "  \"num_labels\": 34,\n",
      "  \"num_return_sequences\": 1,\n",
      "  \"output_attentions\": false,\n",
      "  \"output_hidden_states\": false,\n",
      "  \"output_past\": true,\n",
      "  \"pad_token_id\": null,\n",
      "  \"pruned_heads\": {},\n",
      "  \"repetition_penalty\": 1.0,\n",
      "  \"temperature\": 1.0,\n",
      "  \"top_k\": 50,\n",
      "  \"top_p\": 1.0,\n",
      "  \"torchscript\": false,\n",
      "  \"type_vocab_size\": 2,\n",
      "  \"use_bfloat16\": false,\n",
      "  \"vocab_size\": 30522\n",
      "}\n",
      "\n",
      "I0406 17:49:18.973203 140397457205056 modeling_utils.py:461] loading weights file https://s3.amazonaws.com/models.huggingface.co/bert/bert-base-uncased-pytorch_model.bin from cache at /home/yves/.cache/torch/transformers/aa1ef1aede4482d0dbcd4d52baad8ae300e60902e88fcb0bebdec09afd232066.36ca03ab34a1a5d5fa7bc3d03d55c4fa650fed07220e2eeebc06ce58d0e9a157\n",
      "I0406 17:49:20.821861 140397457205056 modeling_utils.py:546] Weights of BertForSequenceClassification not initialized from pretrained model: ['classifier.weight', 'classifier.bias']\n",
      "I0406 17:49:20.822509 140397457205056 modeling_utils.py:552] Weights from pretrained model not used in BertForSequenceClassification: ['cls.predictions.bias', 'cls.predictions.transform.dense.weight', 'cls.predictions.transform.dense.bias', 'cls.predictions.decoder.weight', 'cls.seq_relationship.weight', 'cls.seq_relationship.bias', 'cls.predictions.transform.LayerNorm.weight', 'cls.predictions.transform.LayerNorm.bias']\n",
      "Epoch:   0%|          | 0/100 [00:00<?, ?it/s]"
     ]
    },
    {
     "data": {
      "application/vnd.jupyter.widget-view+json": {
       "model_id": "c2fedb98533a401585fa5f4e543e5e8e",
       "version_major": 2,
       "version_minor": 0
      },
      "text/plain": [
       "HBox(children=(IntProgress(value=0, description='Training iteration', max=89, style=ProgressStyle(description_…"
      ]
     },
     "metadata": {},
     "output_type": "display_data"
    },
    {
     "name": "stdout",
     "output_type": "stream",
     "text": [
      "\n"
     ]
    },
    {
     "data": {
      "application/vnd.jupyter.widget-view+json": {
       "model_id": "88cfc82b6568408ebf3e825c91eca7ae",
       "version_major": 2,
       "version_minor": 0
      },
      "text/plain": [
       "HBox(children=(IntProgress(value=0, description='Evaluation iteration', max=30, style=ProgressStyle(descriptio…"
      ]
     },
     "metadata": {},
     "output_type": "display_data"
    },
    {
     "name": "stderr",
     "output_type": "stream",
     "text": [
      "../quillnlp/models/bert/train.py:146: UserWarning: Implicit dimension choice for softmax has been deprecated. Change the call to include dim=X as an argument.\n",
      "  outputs = softmax(logits.to('cpu'))\n"
     ]
    },
    {
     "name": "stdout",
     "output_type": "stream",
     "text": [
      "\n",
      "Loss history: []\n",
      "Dev loss: 3.3455551783243815\n"
     ]
    },
    {
     "name": "stderr",
     "output_type": "stream",
     "text": [
      "\r",
      "Epoch:   1%|          | 1/100 [00:20<34:17, 20.79s/it]"
     ]
    },
    {
     "data": {
      "application/vnd.jupyter.widget-view+json": {
       "model_id": "d5749c23de4e4f47b241e0155f8ccd40",
       "version_major": 2,
       "version_minor": 0
      },
      "text/plain": [
       "HBox(children=(IntProgress(value=0, description='Training iteration', max=89, style=ProgressStyle(description_…"
      ]
     },
     "metadata": {},
     "output_type": "display_data"
    },
    {
     "name": "stdout",
     "output_type": "stream",
     "text": [
      "\n"
     ]
    },
    {
     "data": {
      "application/vnd.jupyter.widget-view+json": {
       "model_id": "bfaf12896a044300b2a381f1f227d11a",
       "version_major": 2,
       "version_minor": 0
      },
      "text/plain": [
       "HBox(children=(IntProgress(value=0, description='Evaluation iteration', max=30, style=ProgressStyle(descriptio…"
      ]
     },
     "metadata": {},
     "output_type": "display_data"
    },
    {
     "name": "stdout",
     "output_type": "stream",
     "text": [
      "\n",
      "Loss history: [3.3455551783243815]\n",
      "Dev loss: 2.8631558179855348\n"
     ]
    },
    {
     "name": "stderr",
     "output_type": "stream",
     "text": [
      "\r",
      "Epoch:   2%|▏         | 2/100 [00:41<34:00, 20.82s/it]"
     ]
    },
    {
     "data": {
      "application/vnd.jupyter.widget-view+json": {
       "model_id": "9cf4c1ada9ea4510a666812a279b9317",
       "version_major": 2,
       "version_minor": 0
      },
      "text/plain": [
       "HBox(children=(IntProgress(value=0, description='Training iteration', max=89, style=ProgressStyle(description_…"
      ]
     },
     "metadata": {},
     "output_type": "display_data"
    },
    {
     "name": "stdout",
     "output_type": "stream",
     "text": [
      "\n"
     ]
    },
    {
     "data": {
      "application/vnd.jupyter.widget-view+json": {
       "model_id": "b6a83c01b765401090b040d8276752c9",
       "version_major": 2,
       "version_minor": 0
      },
      "text/plain": [
       "HBox(children=(IntProgress(value=0, description='Evaluation iteration', max=30, style=ProgressStyle(descriptio…"
      ]
     },
     "metadata": {},
     "output_type": "display_data"
    },
    {
     "name": "stdout",
     "output_type": "stream",
     "text": [
      "\n",
      "Loss history: [3.3455551783243815, 2.8631558179855348]\n",
      "Dev loss: 2.3468390862147013\n"
     ]
    },
    {
     "name": "stderr",
     "output_type": "stream",
     "text": [
      "\r",
      "Epoch:   3%|▎         | 3/100 [01:02<33:43, 20.86s/it]"
     ]
    },
    {
     "data": {
      "application/vnd.jupyter.widget-view+json": {
       "model_id": "ca6df10afd6d4b57b91ef15e3c0cb5ed",
       "version_major": 2,
       "version_minor": 0
      },
      "text/plain": [
       "HBox(children=(IntProgress(value=0, description='Training iteration', max=89, style=ProgressStyle(description_…"
      ]
     },
     "metadata": {},
     "output_type": "display_data"
    },
    {
     "name": "stdout",
     "output_type": "stream",
     "text": [
      "\n"
     ]
    },
    {
     "data": {
      "application/vnd.jupyter.widget-view+json": {
       "model_id": "a22b695f9a18431e89914cd696c75d64",
       "version_major": 2,
       "version_minor": 0
      },
      "text/plain": [
       "HBox(children=(IntProgress(value=0, description='Evaluation iteration', max=30, style=ProgressStyle(descriptio…"
      ]
     },
     "metadata": {},
     "output_type": "display_data"
    },
    {
     "name": "stdout",
     "output_type": "stream",
     "text": [
      "\n",
      "Loss history: [3.3455551783243815, 2.8631558179855348, 2.3468390862147013]\n",
      "Dev loss: 1.9122286677360534\n"
     ]
    },
    {
     "name": "stderr",
     "output_type": "stream",
     "text": [
      "\r",
      "Epoch:   4%|▍         | 4/100 [01:23<33:26, 20.91s/it]"
     ]
    },
    {
     "data": {
      "application/vnd.jupyter.widget-view+json": {
       "model_id": "1c0e10ad05544707be5bd2ecf56c946d",
       "version_major": 2,
       "version_minor": 0
      },
      "text/plain": [
       "HBox(children=(IntProgress(value=0, description='Training iteration', max=89, style=ProgressStyle(description_…"
      ]
     },
     "metadata": {},
     "output_type": "display_data"
    },
    {
     "name": "stdout",
     "output_type": "stream",
     "text": [
      "\n"
     ]
    },
    {
     "data": {
      "application/vnd.jupyter.widget-view+json": {
       "model_id": "649609e757244007a0dc4b5e19c40df6",
       "version_major": 2,
       "version_minor": 0
      },
      "text/plain": [
       "HBox(children=(IntProgress(value=0, description='Evaluation iteration', max=30, style=ProgressStyle(descriptio…"
      ]
     },
     "metadata": {},
     "output_type": "display_data"
    },
    {
     "name": "stdout",
     "output_type": "stream",
     "text": [
      "\n",
      "Loss history: [3.3455551783243815, 2.8631558179855348, 2.3468390862147013, 1.9122286677360534]\n",
      "Dev loss: 1.6211103220780692\n"
     ]
    },
    {
     "name": "stderr",
     "output_type": "stream",
     "text": [
      "\r",
      "Epoch:   5%|▌         | 5/100 [01:44<33:10, 20.96s/it]"
     ]
    },
    {
     "data": {
      "application/vnd.jupyter.widget-view+json": {
       "model_id": "388c59d1df854131b7ba56b9a6861ba0",
       "version_major": 2,
       "version_minor": 0
      },
      "text/plain": [
       "HBox(children=(IntProgress(value=0, description='Training iteration', max=89, style=ProgressStyle(description_…"
      ]
     },
     "metadata": {},
     "output_type": "display_data"
    },
    {
     "name": "stdout",
     "output_type": "stream",
     "text": [
      "\n"
     ]
    },
    {
     "data": {
      "application/vnd.jupyter.widget-view+json": {
       "model_id": "4bfbfe18096346e5979461534d21f871",
       "version_major": 2,
       "version_minor": 0
      },
      "text/plain": [
       "HBox(children=(IntProgress(value=0, description='Evaluation iteration', max=30, style=ProgressStyle(descriptio…"
      ]
     },
     "metadata": {},
     "output_type": "display_data"
    },
    {
     "name": "stdout",
     "output_type": "stream",
     "text": [
      "\n",
      "Loss history: [3.3455551783243815, 2.8631558179855348, 2.3468390862147013, 1.9122286677360534, 1.6211103220780692]\n",
      "Dev loss: 1.3957361658414205\n"
     ]
    },
    {
     "name": "stderr",
     "output_type": "stream",
     "text": [
      "\r",
      "Epoch:   6%|▌         | 6/100 [02:05<32:53, 20.99s/it]"
     ]
    },
    {
     "data": {
      "application/vnd.jupyter.widget-view+json": {
       "model_id": "37e0f675ae094a3bb9b0943c1fa60b38",
       "version_major": 2,
       "version_minor": 0
      },
      "text/plain": [
       "HBox(children=(IntProgress(value=0, description='Training iteration', max=89, style=ProgressStyle(description_…"
      ]
     },
     "metadata": {},
     "output_type": "display_data"
    },
    {
     "name": "stdout",
     "output_type": "stream",
     "text": [
      "\n"
     ]
    },
    {
     "data": {
      "application/vnd.jupyter.widget-view+json": {
       "model_id": "5e28a05ee4c047b88db1598ad1a068e6",
       "version_major": 2,
       "version_minor": 0
      },
      "text/plain": [
       "HBox(children=(IntProgress(value=0, description='Evaluation iteration', max=30, style=ProgressStyle(descriptio…"
      ]
     },
     "metadata": {},
     "output_type": "display_data"
    },
    {
     "name": "stdout",
     "output_type": "stream",
     "text": [
      "\n",
      "Loss history: [3.3455551783243815, 2.8631558179855348, 2.3468390862147013, 1.9122286677360534, 1.6211103220780692, 1.3957361658414205]\n",
      "Dev loss: 1.2302775005499522\n"
     ]
    },
    {
     "name": "stderr",
     "output_type": "stream",
     "text": [
      "\r",
      "Epoch:   7%|▋         | 7/100 [02:26<32:35, 21.02s/it]"
     ]
    },
    {
     "data": {
      "application/vnd.jupyter.widget-view+json": {
       "model_id": "d7438238ce234d70b88c3523a2ff6083",
       "version_major": 2,
       "version_minor": 0
      },
      "text/plain": [
       "HBox(children=(IntProgress(value=0, description='Training iteration', max=89, style=ProgressStyle(description_…"
      ]
     },
     "metadata": {},
     "output_type": "display_data"
    },
    {
     "name": "stdout",
     "output_type": "stream",
     "text": [
      "\n"
     ]
    },
    {
     "data": {
      "application/vnd.jupyter.widget-view+json": {
       "model_id": "9f27f70c4a554a38b87c959836fcc562",
       "version_major": 2,
       "version_minor": 0
      },
      "text/plain": [
       "HBox(children=(IntProgress(value=0, description='Evaluation iteration', max=30, style=ProgressStyle(descriptio…"
      ]
     },
     "metadata": {},
     "output_type": "display_data"
    },
    {
     "name": "stdout",
     "output_type": "stream",
     "text": [
      "\n",
      "Loss history: [3.3455551783243815, 2.8631558179855348, 2.3468390862147013, 1.9122286677360534, 1.6211103220780692, 1.3957361658414205, 1.2302775005499522]\n",
      "Dev loss: 1.0958113213380178\n"
     ]
    },
    {
     "name": "stderr",
     "output_type": "stream",
     "text": [
      "\r",
      "Epoch:   8%|▊         | 8/100 [02:48<32:16, 21.05s/it]"
     ]
    },
    {
     "data": {
      "application/vnd.jupyter.widget-view+json": {
       "model_id": "199ad28fe95345cc9964e89372906b4c",
       "version_major": 2,
       "version_minor": 0
      },
      "text/plain": [
       "HBox(children=(IntProgress(value=0, description='Training iteration', max=89, style=ProgressStyle(description_…"
      ]
     },
     "metadata": {},
     "output_type": "display_data"
    },
    {
     "name": "stdout",
     "output_type": "stream",
     "text": [
      "\n"
     ]
    },
    {
     "data": {
      "application/vnd.jupyter.widget-view+json": {
       "model_id": "3cae199916c94e58bc738ee5ba72df30",
       "version_major": 2,
       "version_minor": 0
      },
      "text/plain": [
       "HBox(children=(IntProgress(value=0, description='Evaluation iteration', max=30, style=ProgressStyle(descriptio…"
      ]
     },
     "metadata": {},
     "output_type": "display_data"
    },
    {
     "name": "stdout",
     "output_type": "stream",
     "text": [
      "\n",
      "Loss history: [3.3455551783243815, 2.8631558179855348, 2.3468390862147013, 1.9122286677360534, 1.6211103220780692, 1.3957361658414205, 1.2302775005499522, 1.0958113213380178]\n",
      "Dev loss: 1.0362833758195242\n"
     ]
    },
    {
     "name": "stderr",
     "output_type": "stream",
     "text": [
      "\r",
      "Epoch:   9%|▉         | 9/100 [03:09<31:57, 21.07s/it]"
     ]
    },
    {
     "data": {
      "application/vnd.jupyter.widget-view+json": {
       "model_id": "c7438b75f9a646619db16734aa358649",
       "version_major": 2,
       "version_minor": 0
      },
      "text/plain": [
       "HBox(children=(IntProgress(value=0, description='Training iteration', max=89, style=ProgressStyle(description_…"
      ]
     },
     "metadata": {},
     "output_type": "display_data"
    },
    {
     "name": "stdout",
     "output_type": "stream",
     "text": [
      "\n"
     ]
    },
    {
     "data": {
      "application/vnd.jupyter.widget-view+json": {
       "model_id": "94267947b26540d2a56a3e9522b430d4",
       "version_major": 2,
       "version_minor": 0
      },
      "text/plain": [
       "HBox(children=(IntProgress(value=0, description='Evaluation iteration', max=30, style=ProgressStyle(descriptio…"
      ]
     },
     "metadata": {},
     "output_type": "display_data"
    },
    {
     "name": "stdout",
     "output_type": "stream",
     "text": [
      "\n",
      "Loss history: [3.3455551783243815, 2.8631558179855348, 2.3468390862147013, 1.9122286677360534, 1.6211103220780692, 1.3957361658414205, 1.2302775005499522, 1.0958113213380178, 1.0362833758195242]\n",
      "Dev loss: 0.9327900499105454\n"
     ]
    },
    {
     "name": "stderr",
     "output_type": "stream",
     "text": [
      "\r",
      "Epoch:  10%|█         | 10/100 [03:30<31:37, 21.09s/it]"
     ]
    },
    {
     "data": {
      "application/vnd.jupyter.widget-view+json": {
       "model_id": "5b387f5e989f44348e97c83a24ceeeed",
       "version_major": 2,
       "version_minor": 0
      },
      "text/plain": [
       "HBox(children=(IntProgress(value=0, description='Training iteration', max=89, style=ProgressStyle(description_…"
      ]
     },
     "metadata": {},
     "output_type": "display_data"
    },
    {
     "name": "stdout",
     "output_type": "stream",
     "text": [
      "\n"
     ]
    },
    {
     "data": {
      "application/vnd.jupyter.widget-view+json": {
       "model_id": "aa51cc63835d49119bac6bea9e09530a",
       "version_major": 2,
       "version_minor": 0
      },
      "text/plain": [
       "HBox(children=(IntProgress(value=0, description='Evaluation iteration', max=30, style=ProgressStyle(descriptio…"
      ]
     },
     "metadata": {},
     "output_type": "display_data"
    },
    {
     "name": "stdout",
     "output_type": "stream",
     "text": [
      "\n",
      "Loss history: [3.3455551783243815, 2.8631558179855348, 2.3468390862147013, 1.9122286677360534, 1.6211103220780692, 1.3957361658414205, 1.2302775005499522, 1.0958113213380178, 1.0362833758195242, 0.9327900499105454]\n",
      "Dev loss: 0.8444825987021128\n"
     ]
    },
    {
     "name": "stderr",
     "output_type": "stream",
     "text": [
      "\r",
      "Epoch:  11%|█         | 11/100 [03:51<31:17, 21.10s/it]"
     ]
    },
    {
     "data": {
      "application/vnd.jupyter.widget-view+json": {
       "model_id": "9b9d3e69f4234812838db03f1c038af0",
       "version_major": 2,
       "version_minor": 0
      },
      "text/plain": [
       "HBox(children=(IntProgress(value=0, description='Training iteration', max=89, style=ProgressStyle(description_…"
      ]
     },
     "metadata": {},
     "output_type": "display_data"
    },
    {
     "name": "stdout",
     "output_type": "stream",
     "text": [
      "\n"
     ]
    },
    {
     "data": {
      "application/vnd.jupyter.widget-view+json": {
       "model_id": "bcf9a02d8f6c4e4b8fc7ed4d0bd0347c",
       "version_major": 2,
       "version_minor": 0
      },
      "text/plain": [
       "HBox(children=(IntProgress(value=0, description='Evaluation iteration', max=30, style=ProgressStyle(descriptio…"
      ]
     },
     "metadata": {},
     "output_type": "display_data"
    },
    {
     "name": "stdout",
     "output_type": "stream",
     "text": [
      "\n",
      "Loss history: [3.3455551783243815, 2.8631558179855348, 2.3468390862147013, 1.9122286677360534, 1.6211103220780692, 1.3957361658414205, 1.2302775005499522, 1.0958113213380178, 1.0362833758195242, 0.9327900499105454, 0.8444825987021128]\n",
      "Dev loss: 0.8053811371326447\n"
     ]
    },
    {
     "name": "stderr",
     "output_type": "stream",
     "text": [
      "\r",
      "Epoch:  12%|█▏        | 12/100 [04:12<30:57, 21.11s/it]"
     ]
    },
    {
     "data": {
      "application/vnd.jupyter.widget-view+json": {
       "model_id": "41accc13e60444f68144f556aaae5608",
       "version_major": 2,
       "version_minor": 0
      },
      "text/plain": [
       "HBox(children=(IntProgress(value=0, description='Training iteration', max=89, style=ProgressStyle(description_…"
      ]
     },
     "metadata": {},
     "output_type": "display_data"
    },
    {
     "name": "stdout",
     "output_type": "stream",
     "text": [
      "\n"
     ]
    },
    {
     "data": {
      "application/vnd.jupyter.widget-view+json": {
       "model_id": "641e4a1d5b5f4231b08efa5eda35acb3",
       "version_major": 2,
       "version_minor": 0
      },
      "text/plain": [
       "HBox(children=(IntProgress(value=0, description='Evaluation iteration', max=30, style=ProgressStyle(descriptio…"
      ]
     },
     "metadata": {},
     "output_type": "display_data"
    },
    {
     "name": "stdout",
     "output_type": "stream",
     "text": [
      "\n",
      "Loss history: [3.3455551783243815, 2.8631558179855348, 2.3468390862147013, 1.9122286677360534, 1.6211103220780692, 1.3957361658414205, 1.2302775005499522, 1.0958113213380178, 1.0362833758195242, 0.9327900499105454, 0.8444825987021128, 0.8053811371326447]\n",
      "Dev loss: 0.7851727654536566\n"
     ]
    },
    {
     "name": "stderr",
     "output_type": "stream",
     "text": [
      "\r",
      "Epoch:  13%|█▎        | 13/100 [04:33<30:37, 21.12s/it]"
     ]
    },
    {
     "data": {
      "application/vnd.jupyter.widget-view+json": {
       "model_id": "9c61cd86081c485b98976a163f910ba6",
       "version_major": 2,
       "version_minor": 0
      },
      "text/plain": [
       "HBox(children=(IntProgress(value=0, description='Training iteration', max=89, style=ProgressStyle(description_…"
      ]
     },
     "metadata": {},
     "output_type": "display_data"
    },
    {
     "name": "stdout",
     "output_type": "stream",
     "text": [
      "\n"
     ]
    },
    {
     "data": {
      "application/vnd.jupyter.widget-view+json": {
       "model_id": "90e75c59207f4019b8fcb3b977d79a15",
       "version_major": 2,
       "version_minor": 0
      },
      "text/plain": [
       "HBox(children=(IntProgress(value=0, description='Evaluation iteration', max=30, style=ProgressStyle(descriptio…"
      ]
     },
     "metadata": {},
     "output_type": "display_data"
    },
    {
     "name": "stdout",
     "output_type": "stream",
     "text": [
      "\n",
      "Loss history: [3.3455551783243815, 2.8631558179855348, 2.3468390862147013, 1.9122286677360534, 1.6211103220780692, 1.3957361658414205, 1.2302775005499522, 1.0958113213380178, 1.0362833758195242, 0.9327900499105454, 0.8444825987021128, 0.8053811371326447, 0.7851727654536566]\n",
      "Dev loss: 0.7391756981611252\n"
     ]
    },
    {
     "name": "stderr",
     "output_type": "stream",
     "text": [
      "\r",
      "Epoch:  14%|█▍        | 14/100 [04:54<30:16, 21.12s/it]"
     ]
    },
    {
     "data": {
      "application/vnd.jupyter.widget-view+json": {
       "model_id": "1f167426ca73488fb1c0409f8a754825",
       "version_major": 2,
       "version_minor": 0
      },
      "text/plain": [
       "HBox(children=(IntProgress(value=0, description='Training iteration', max=89, style=ProgressStyle(description_…"
      ]
     },
     "metadata": {},
     "output_type": "display_data"
    },
    {
     "name": "stdout",
     "output_type": "stream",
     "text": [
      "\n"
     ]
    },
    {
     "data": {
      "application/vnd.jupyter.widget-view+json": {
       "model_id": "5f4cf83976904dabb71259e95c9b0cfa",
       "version_major": 2,
       "version_minor": 0
      },
      "text/plain": [
       "HBox(children=(IntProgress(value=0, description='Evaluation iteration', max=30, style=ProgressStyle(descriptio…"
      ]
     },
     "metadata": {},
     "output_type": "display_data"
    },
    {
     "name": "stdout",
     "output_type": "stream",
     "text": [
      "\n",
      "Loss history: [3.3455551783243815, 2.8631558179855348, 2.3468390862147013, 1.9122286677360534, 1.6211103220780692, 1.3957361658414205, 1.2302775005499522, 1.0958113213380178, 1.0362833758195242, 0.9327900499105454, 0.8444825987021128, 0.8053811371326447, 0.7851727654536566, 0.7391756981611252]\n",
      "Dev loss: 0.736555090546608\n"
     ]
    },
    {
     "name": "stderr",
     "output_type": "stream",
     "text": [
      "\r",
      "Epoch:  15%|█▌        | 15/100 [05:15<29:55, 21.13s/it]"
     ]
    },
    {
     "data": {
      "application/vnd.jupyter.widget-view+json": {
       "model_id": "c57ba2fc7a0548049a39588c2900cb00",
       "version_major": 2,
       "version_minor": 0
      },
      "text/plain": [
       "HBox(children=(IntProgress(value=0, description='Training iteration', max=89, style=ProgressStyle(description_…"
      ]
     },
     "metadata": {},
     "output_type": "display_data"
    },
    {
     "name": "stdout",
     "output_type": "stream",
     "text": [
      "\n"
     ]
    },
    {
     "data": {
      "application/vnd.jupyter.widget-view+json": {
       "model_id": "a775b940e22846389edb737e60cd7945",
       "version_major": 2,
       "version_minor": 0
      },
      "text/plain": [
       "HBox(children=(IntProgress(value=0, description='Evaluation iteration', max=30, style=ProgressStyle(descriptio…"
      ]
     },
     "metadata": {},
     "output_type": "display_data"
    },
    {
     "name": "stdout",
     "output_type": "stream",
     "text": [
      "\n",
      "Loss history: [3.3455551783243815, 2.8631558179855348, 2.3468390862147013, 1.9122286677360534, 1.6211103220780692, 1.3957361658414205, 1.2302775005499522, 1.0958113213380178, 1.0362833758195242, 0.9327900499105454, 0.8444825987021128, 0.8053811371326447, 0.7851727654536566, 0.7391756981611252, 0.736555090546608]\n",
      "Dev loss: 0.7027463148037593\n"
     ]
    },
    {
     "name": "stderr",
     "output_type": "stream",
     "text": [
      "\r",
      "Epoch:  16%|█▌        | 16/100 [05:37<29:35, 21.13s/it]"
     ]
    },
    {
     "data": {
      "application/vnd.jupyter.widget-view+json": {
       "model_id": "a6d14f6e54fa4c258ad1a206fa4521f3",
       "version_major": 2,
       "version_minor": 0
      },
      "text/plain": [
       "HBox(children=(IntProgress(value=0, description='Training iteration', max=89, style=ProgressStyle(description_…"
      ]
     },
     "metadata": {},
     "output_type": "display_data"
    },
    {
     "name": "stdout",
     "output_type": "stream",
     "text": [
      "\n"
     ]
    },
    {
     "data": {
      "application/vnd.jupyter.widget-view+json": {
       "model_id": "3a8b069f85074789bb22abe0855e398d",
       "version_major": 2,
       "version_minor": 0
      },
      "text/plain": [
       "HBox(children=(IntProgress(value=0, description='Evaluation iteration', max=30, style=ProgressStyle(descriptio…"
      ]
     },
     "metadata": {},
     "output_type": "display_data"
    },
    {
     "name": "stderr",
     "output_type": "stream",
     "text": [
      "\r",
      "Epoch:  17%|█▋        | 17/100 [05:57<29:01, 20.98s/it]"
     ]
    },
    {
     "name": "stdout",
     "output_type": "stream",
     "text": [
      "\n",
      "Loss history: [3.3455551783243815, 2.8631558179855348, 2.3468390862147013, 1.9122286677360534, 1.6211103220780692, 1.3957361658414205, 1.2302775005499522, 1.0958113213380178, 1.0362833758195242, 0.9327900499105454, 0.8444825987021128, 0.8053811371326447, 0.7851727654536566, 0.7391756981611252, 0.736555090546608, 0.7027463148037593]\n",
      "Dev loss: 0.7049637407064437\n"
     ]
    },
    {
     "data": {
      "application/vnd.jupyter.widget-view+json": {
       "model_id": "758eea3663a449e6b4064af516e0c04c",
       "version_major": 2,
       "version_minor": 0
      },
      "text/plain": [
       "HBox(children=(IntProgress(value=0, description='Training iteration', max=89, style=ProgressStyle(description_…"
      ]
     },
     "metadata": {},
     "output_type": "display_data"
    },
    {
     "name": "stdout",
     "output_type": "stream",
     "text": [
      "\n"
     ]
    },
    {
     "data": {
      "application/vnd.jupyter.widget-view+json": {
       "model_id": "92d1e5bd4b2e4b3c8744fce0e47616b9",
       "version_major": 2,
       "version_minor": 0
      },
      "text/plain": [
       "HBox(children=(IntProgress(value=0, description='Evaluation iteration', max=30, style=ProgressStyle(descriptio…"
      ]
     },
     "metadata": {},
     "output_type": "display_data"
    },
    {
     "name": "stdout",
     "output_type": "stream",
     "text": [
      "\n",
      "Loss history: [3.3455551783243815, 2.8631558179855348, 2.3468390862147013, 1.9122286677360534, 1.6211103220780692, 1.3957361658414205, 1.2302775005499522, 1.0958113213380178, 1.0362833758195242, 0.9327900499105454, 0.8444825987021128, 0.8053811371326447, 0.7851727654536566, 0.7391756981611252, 0.736555090546608, 0.7027463148037593, 0.7049637407064437]\n",
      "Dev loss: 0.6723833685119947\n"
     ]
    },
    {
     "name": "stderr",
     "output_type": "stream",
     "text": [
      "\r",
      "Epoch:  18%|█▊        | 18/100 [06:18<28:44, 21.03s/it]"
     ]
    },
    {
     "data": {
      "application/vnd.jupyter.widget-view+json": {
       "model_id": "521bbb4391ed4707aa57df15c0ecbe5c",
       "version_major": 2,
       "version_minor": 0
      },
      "text/plain": [
       "HBox(children=(IntProgress(value=0, description='Training iteration', max=89, style=ProgressStyle(description_…"
      ]
     },
     "metadata": {},
     "output_type": "display_data"
    },
    {
     "name": "stdout",
     "output_type": "stream",
     "text": [
      "\n"
     ]
    },
    {
     "data": {
      "application/vnd.jupyter.widget-view+json": {
       "model_id": "951a4e9a107c4e37ba51cecc96045c74",
       "version_major": 2,
       "version_minor": 0
      },
      "text/plain": [
       "HBox(children=(IntProgress(value=0, description='Evaluation iteration', max=30, style=ProgressStyle(descriptio…"
      ]
     },
     "metadata": {},
     "output_type": "display_data"
    },
    {
     "name": "stderr",
     "output_type": "stream",
     "text": [
      "\r",
      "Epoch:  19%|█▉        | 19/100 [06:39<28:14, 20.91s/it]"
     ]
    },
    {
     "name": "stdout",
     "output_type": "stream",
     "text": [
      "\n",
      "Loss history: [3.3455551783243815, 2.8631558179855348, 2.3468390862147013, 1.9122286677360534, 1.6211103220780692, 1.3957361658414205, 1.2302775005499522, 1.0958113213380178, 1.0362833758195242, 0.9327900499105454, 0.8444825987021128, 0.8053811371326447, 0.7851727654536566, 0.7391756981611252, 0.736555090546608, 0.7027463148037593, 0.7049637407064437, 0.6723833685119947]\n",
      "Dev loss: 0.6789553532997767\n"
     ]
    },
    {
     "data": {
      "application/vnd.jupyter.widget-view+json": {
       "model_id": "755ced1c93da490b8366f7464a146983",
       "version_major": 2,
       "version_minor": 0
      },
      "text/plain": [
       "HBox(children=(IntProgress(value=0, description='Training iteration', max=89, style=ProgressStyle(description_…"
      ]
     },
     "metadata": {},
     "output_type": "display_data"
    },
    {
     "name": "stdout",
     "output_type": "stream",
     "text": [
      "\n"
     ]
    },
    {
     "data": {
      "application/vnd.jupyter.widget-view+json": {
       "model_id": "1c96bc19606f44f8a45fb54a8bc40ab9",
       "version_major": 2,
       "version_minor": 0
      },
      "text/plain": [
       "HBox(children=(IntProgress(value=0, description='Evaluation iteration', max=30, style=ProgressStyle(descriptio…"
      ]
     },
     "metadata": {},
     "output_type": "display_data"
    },
    {
     "name": "stderr",
     "output_type": "stream",
     "text": [
      "\r",
      "Epoch:  20%|██        | 20/100 [07:00<27:46, 20.84s/it]"
     ]
    },
    {
     "name": "stdout",
     "output_type": "stream",
     "text": [
      "\n",
      "Loss history: [3.3455551783243815, 2.8631558179855348, 2.3468390862147013, 1.9122286677360534, 1.6211103220780692, 1.3957361658414205, 1.2302775005499522, 1.0958113213380178, 1.0362833758195242, 0.9327900499105454, 0.8444825987021128, 0.8053811371326447, 0.7851727654536566, 0.7391756981611252, 0.736555090546608, 0.7027463148037593, 0.7049637407064437, 0.6723833685119947, 0.6789553532997767]\n",
      "Dev loss: 0.697317898273468\n"
     ]
    },
    {
     "data": {
      "application/vnd.jupyter.widget-view+json": {
       "model_id": "16295ecd7e074695bce6dba24228abf4",
       "version_major": 2,
       "version_minor": 0
      },
      "text/plain": [
       "HBox(children=(IntProgress(value=0, description='Training iteration', max=89, style=ProgressStyle(description_…"
      ]
     },
     "metadata": {},
     "output_type": "display_data"
    },
    {
     "name": "stdout",
     "output_type": "stream",
     "text": [
      "\n"
     ]
    },
    {
     "data": {
      "application/vnd.jupyter.widget-view+json": {
       "model_id": "3d33b2cc5115470198cfc87b90b10612",
       "version_major": 2,
       "version_minor": 0
      },
      "text/plain": [
       "HBox(children=(IntProgress(value=0, description='Evaluation iteration', max=30, style=ProgressStyle(descriptio…"
      ]
     },
     "metadata": {},
     "output_type": "display_data"
    },
    {
     "name": "stderr",
     "output_type": "stream",
     "text": [
      "\r",
      "Epoch:  21%|██        | 21/100 [07:20<27:21, 20.78s/it]"
     ]
    },
    {
     "name": "stdout",
     "output_type": "stream",
     "text": [
      "\n",
      "Loss history: [3.3455551783243815, 2.8631558179855348, 2.3468390862147013, 1.9122286677360534, 1.6211103220780692, 1.3957361658414205, 1.2302775005499522, 1.0958113213380178, 1.0362833758195242, 0.9327900499105454, 0.8444825987021128, 0.8053811371326447, 0.7851727654536566, 0.7391756981611252, 0.736555090546608, 0.7027463148037593, 0.7049637407064437, 0.6723833685119947, 0.6789553532997767, 0.697317898273468]\n",
      "Dev loss: 0.6771357759833336\n"
     ]
    },
    {
     "data": {
      "application/vnd.jupyter.widget-view+json": {
       "model_id": "64a8daab6be8491bb1cf8e32ee0b4680",
       "version_major": 2,
       "version_minor": 0
      },
      "text/plain": [
       "HBox(children=(IntProgress(value=0, description='Training iteration', max=89, style=ProgressStyle(description_…"
      ]
     },
     "metadata": {},
     "output_type": "display_data"
    },
    {
     "name": "stdout",
     "output_type": "stream",
     "text": [
      "\n"
     ]
    },
    {
     "data": {
      "application/vnd.jupyter.widget-view+json": {
       "model_id": "37a8e724e31e4846ab367548944aa9f8",
       "version_major": 2,
       "version_minor": 0
      },
      "text/plain": [
       "HBox(children=(IntProgress(value=0, description='Evaluation iteration', max=30, style=ProgressStyle(descriptio…"
      ]
     },
     "metadata": {},
     "output_type": "display_data"
    },
    {
     "name": "stderr",
     "output_type": "stream",
     "text": [
      "\r",
      "Epoch:  22%|██▏       | 22/100 [07:41<26:57, 20.74s/it]"
     ]
    },
    {
     "name": "stdout",
     "output_type": "stream",
     "text": [
      "\n",
      "Loss history: [3.3455551783243815, 2.8631558179855348, 2.3468390862147013, 1.9122286677360534, 1.6211103220780692, 1.3957361658414205, 1.2302775005499522, 1.0958113213380178, 1.0362833758195242, 0.9327900499105454, 0.8444825987021128, 0.8053811371326447, 0.7851727654536566, 0.7391756981611252, 0.736555090546608, 0.7027463148037593, 0.7049637407064437, 0.6723833685119947, 0.6789553532997767, 0.697317898273468, 0.6771357759833336]\n",
      "Dev loss: 0.6777698397636414\n"
     ]
    },
    {
     "data": {
      "application/vnd.jupyter.widget-view+json": {
       "model_id": "868f4bcebeaa4cba93549c76adb9debd",
       "version_major": 2,
       "version_minor": 0
      },
      "text/plain": [
       "HBox(children=(IntProgress(value=0, description='Training iteration', max=89, style=ProgressStyle(description_…"
      ]
     },
     "metadata": {},
     "output_type": "display_data"
    },
    {
     "name": "stdout",
     "output_type": "stream",
     "text": [
      "\n"
     ]
    },
    {
     "data": {
      "application/vnd.jupyter.widget-view+json": {
       "model_id": "4e2edf8c5ebc4f2f95af6c6619f016e3",
       "version_major": 2,
       "version_minor": 0
      },
      "text/plain": [
       "HBox(children=(IntProgress(value=0, description='Evaluation iteration', max=30, style=ProgressStyle(descriptio…"
      ]
     },
     "metadata": {},
     "output_type": "display_data"
    },
    {
     "name": "stdout",
     "output_type": "stream",
     "text": [
      "\n",
      "Loss history: [3.3455551783243815, 2.8631558179855348, 2.3468390862147013, 1.9122286677360534, 1.6211103220780692, 1.3957361658414205, 1.2302775005499522, 1.0958113213380178, 1.0362833758195242, 0.9327900499105454, 0.8444825987021128, 0.8053811371326447, 0.7851727654536566, 0.7391756981611252, 0.736555090546608, 0.7027463148037593, 0.7049637407064437, 0.6723833685119947, 0.6789553532997767, 0.697317898273468, 0.6771357759833336, 0.6777698397636414]\n",
      "Dev loss: 0.6570984582106273\n"
     ]
    },
    {
     "name": "stderr",
     "output_type": "stream",
     "text": [
      "\r",
      "Epoch:  23%|██▎       | 23/100 [08:02<26:46, 20.86s/it]"
     ]
    },
    {
     "data": {
      "application/vnd.jupyter.widget-view+json": {
       "model_id": "af3525beafd846e6b0ccfeabcf52fe11",
       "version_major": 2,
       "version_minor": 0
      },
      "text/plain": [
       "HBox(children=(IntProgress(value=0, description='Training iteration', max=89, style=ProgressStyle(description_…"
      ]
     },
     "metadata": {},
     "output_type": "display_data"
    },
    {
     "name": "stdout",
     "output_type": "stream",
     "text": [
      "\n"
     ]
    },
    {
     "data": {
      "application/vnd.jupyter.widget-view+json": {
       "model_id": "5b951a0ecc654248bb68f9fd966f6dca",
       "version_major": 2,
       "version_minor": 0
      },
      "text/plain": [
       "HBox(children=(IntProgress(value=0, description='Evaluation iteration', max=30, style=ProgressStyle(descriptio…"
      ]
     },
     "metadata": {},
     "output_type": "display_data"
    },
    {
     "name": "stderr",
     "output_type": "stream",
     "text": [
      "\r",
      "Epoch:  24%|██▍       | 24/100 [08:23<26:20, 20.79s/it]"
     ]
    },
    {
     "name": "stdout",
     "output_type": "stream",
     "text": [
      "\n",
      "Loss history: [3.3455551783243815, 2.8631558179855348, 2.3468390862147013, 1.9122286677360534, 1.6211103220780692, 1.3957361658414205, 1.2302775005499522, 1.0958113213380178, 1.0362833758195242, 0.9327900499105454, 0.8444825987021128, 0.8053811371326447, 0.7851727654536566, 0.7391756981611252, 0.736555090546608, 0.7027463148037593, 0.7049637407064437, 0.6723833685119947, 0.6789553532997767, 0.697317898273468, 0.6771357759833336, 0.6777698397636414, 0.6570984582106273]\n",
      "Dev loss: 0.6700288708011309\n"
     ]
    },
    {
     "data": {
      "application/vnd.jupyter.widget-view+json": {
       "model_id": "88ffbd338a3b405c9b4fbac473c23867",
       "version_major": 2,
       "version_minor": 0
      },
      "text/plain": [
       "HBox(children=(IntProgress(value=0, description='Training iteration', max=89, style=ProgressStyle(description_…"
      ]
     },
     "metadata": {},
     "output_type": "display_data"
    },
    {
     "name": "stdout",
     "output_type": "stream",
     "text": [
      "\n"
     ]
    },
    {
     "data": {
      "application/vnd.jupyter.widget-view+json": {
       "model_id": "fccc39aa56414cec9afa21c93ccd8f7c",
       "version_major": 2,
       "version_minor": 0
      },
      "text/plain": [
       "HBox(children=(IntProgress(value=0, description='Evaluation iteration', max=30, style=ProgressStyle(descriptio…"
      ]
     },
     "metadata": {},
     "output_type": "display_data"
    },
    {
     "name": "stdout",
     "output_type": "stream",
     "text": [
      "\n",
      "Loss history: [3.3455551783243815, 2.8631558179855348, 2.3468390862147013, 1.9122286677360534, 1.6211103220780692, 1.3957361658414205, 1.2302775005499522, 1.0958113213380178, 1.0362833758195242, 0.9327900499105454, 0.8444825987021128, 0.8053811371326447, 0.7851727654536566, 0.7391756981611252, 0.736555090546608, 0.7027463148037593, 0.7049637407064437, 0.6723833685119947, 0.6789553532997767, 0.697317898273468, 0.6771357759833336, 0.6777698397636414, 0.6570984582106273, 0.6700288708011309]\n",
      "Dev loss: 0.656030835956335\n"
     ]
    },
    {
     "name": "stderr",
     "output_type": "stream",
     "text": [
      "\r",
      "Epoch:  25%|██▌       | 25/100 [08:44<26:07, 20.90s/it]"
     ]
    },
    {
     "data": {
      "application/vnd.jupyter.widget-view+json": {
       "model_id": "2caf1a94c97a450f821cb3cdf1aa0530",
       "version_major": 2,
       "version_minor": 0
      },
      "text/plain": [
       "HBox(children=(IntProgress(value=0, description='Training iteration', max=89, style=ProgressStyle(description_…"
      ]
     },
     "metadata": {},
     "output_type": "display_data"
    },
    {
     "name": "stdout",
     "output_type": "stream",
     "text": [
      "\n"
     ]
    },
    {
     "data": {
      "application/vnd.jupyter.widget-view+json": {
       "model_id": "726b1595a9484473b6a93661eb344ce6",
       "version_major": 2,
       "version_minor": 0
      },
      "text/plain": [
       "HBox(children=(IntProgress(value=0, description='Evaluation iteration', max=30, style=ProgressStyle(descriptio…"
      ]
     },
     "metadata": {},
     "output_type": "display_data"
    },
    {
     "name": "stdout",
     "output_type": "stream",
     "text": [
      "\n",
      "Loss history: [3.3455551783243815, 2.8631558179855348, 2.3468390862147013, 1.9122286677360534, 1.6211103220780692, 1.3957361658414205, 1.2302775005499522, 1.0958113213380178, 1.0362833758195242, 0.9327900499105454, 0.8444825987021128, 0.8053811371326447, 0.7851727654536566, 0.7391756981611252, 0.736555090546608, 0.7027463148037593, 0.7049637407064437, 0.6723833685119947, 0.6789553532997767, 0.697317898273468, 0.6771357759833336, 0.6777698397636414, 0.6570984582106273, 0.6700288708011309, 0.656030835956335]\n",
      "Dev loss: 0.6480815261602402\n"
     ]
    },
    {
     "name": "stderr",
     "output_type": "stream",
     "text": [
      "\r",
      "Epoch:  26%|██▌       | 26/100 [09:05<25:51, 20.97s/it]"
     ]
    },
    {
     "data": {
      "application/vnd.jupyter.widget-view+json": {
       "model_id": "698b3e0f8dbf4ff48224c88028f40d45",
       "version_major": 2,
       "version_minor": 0
      },
      "text/plain": [
       "HBox(children=(IntProgress(value=0, description='Training iteration', max=89, style=ProgressStyle(description_…"
      ]
     },
     "metadata": {},
     "output_type": "display_data"
    },
    {
     "name": "stdout",
     "output_type": "stream",
     "text": [
      "\n"
     ]
    },
    {
     "data": {
      "application/vnd.jupyter.widget-view+json": {
       "model_id": "7f0abb3647fa45d6947c6bb495304f97",
       "version_major": 2,
       "version_minor": 0
      },
      "text/plain": [
       "HBox(children=(IntProgress(value=0, description='Evaluation iteration', max=30, style=ProgressStyle(descriptio…"
      ]
     },
     "metadata": {},
     "output_type": "display_data"
    },
    {
     "name": "stderr",
     "output_type": "stream",
     "text": [
      "\r",
      "Epoch:  27%|██▋       | 27/100 [09:26<25:23, 20.87s/it]"
     ]
    },
    {
     "name": "stdout",
     "output_type": "stream",
     "text": [
      "\n",
      "Loss history: [3.3455551783243815, 2.8631558179855348, 2.3468390862147013, 1.9122286677360534, 1.6211103220780692, 1.3957361658414205, 1.2302775005499522, 1.0958113213380178, 1.0362833758195242, 0.9327900499105454, 0.8444825987021128, 0.8053811371326447, 0.7851727654536566, 0.7391756981611252, 0.736555090546608, 0.7027463148037593, 0.7049637407064437, 0.6723833685119947, 0.6789553532997767, 0.697317898273468, 0.6771357759833336, 0.6777698397636414, 0.6570984582106273, 0.6700288708011309, 0.656030835956335, 0.6480815261602402]\n",
      "Dev loss: 0.6635347758730252\n"
     ]
    },
    {
     "data": {
      "application/vnd.jupyter.widget-view+json": {
       "model_id": "4e6fc55576044f24ab5934667d663bf6",
       "version_major": 2,
       "version_minor": 0
      },
      "text/plain": [
       "HBox(children=(IntProgress(value=0, description='Training iteration', max=89, style=ProgressStyle(description_…"
      ]
     },
     "metadata": {},
     "output_type": "display_data"
    },
    {
     "name": "stdout",
     "output_type": "stream",
     "text": [
      "\n"
     ]
    },
    {
     "data": {
      "application/vnd.jupyter.widget-view+json": {
       "model_id": "b1e531148c90441fab3731692da3b662",
       "version_major": 2,
       "version_minor": 0
      },
      "text/plain": [
       "HBox(children=(IntProgress(value=0, description='Evaluation iteration', max=30, style=ProgressStyle(descriptio…"
      ]
     },
     "metadata": {},
     "output_type": "display_data"
    },
    {
     "name": "stderr",
     "output_type": "stream",
     "text": [
      "\r",
      "Epoch:  28%|██▊       | 28/100 [09:46<24:57, 20.80s/it]"
     ]
    },
    {
     "name": "stdout",
     "output_type": "stream",
     "text": [
      "\n",
      "Loss history: [3.3455551783243815, 2.8631558179855348, 2.3468390862147013, 1.9122286677360534, 1.6211103220780692, 1.3957361658414205, 1.2302775005499522, 1.0958113213380178, 1.0362833758195242, 0.9327900499105454, 0.8444825987021128, 0.8053811371326447, 0.7851727654536566, 0.7391756981611252, 0.736555090546608, 0.7027463148037593, 0.7049637407064437, 0.6723833685119947, 0.6789553532997767, 0.697317898273468, 0.6771357759833336, 0.6777698397636414, 0.6570984582106273, 0.6700288708011309, 0.656030835956335, 0.6480815261602402, 0.6635347758730252]\n",
      "Dev loss: 0.6696336093048255\n"
     ]
    },
    {
     "data": {
      "application/vnd.jupyter.widget-view+json": {
       "model_id": "49664a0c5cbf49e8a339c5cd69a05522",
       "version_major": 2,
       "version_minor": 0
      },
      "text/plain": [
       "HBox(children=(IntProgress(value=0, description='Training iteration', max=89, style=ProgressStyle(description_…"
      ]
     },
     "metadata": {},
     "output_type": "display_data"
    },
    {
     "name": "stdout",
     "output_type": "stream",
     "text": [
      "\n"
     ]
    },
    {
     "data": {
      "application/vnd.jupyter.widget-view+json": {
       "model_id": "64385e2eab944bc9a7cf1573adb3fa36",
       "version_major": 2,
       "version_minor": 0
      },
      "text/plain": [
       "HBox(children=(IntProgress(value=0, description='Evaluation iteration', max=30, style=ProgressStyle(descriptio…"
      ]
     },
     "metadata": {},
     "output_type": "display_data"
    },
    {
     "name": "stderr",
     "output_type": "stream",
     "text": [
      "\r",
      "Epoch:  29%|██▉       | 29/100 [10:07<24:33, 20.75s/it]"
     ]
    },
    {
     "name": "stdout",
     "output_type": "stream",
     "text": [
      "\n",
      "Loss history: [3.3455551783243815, 2.8631558179855348, 2.3468390862147013, 1.9122286677360534, 1.6211103220780692, 1.3957361658414205, 1.2302775005499522, 1.0958113213380178, 1.0362833758195242, 0.9327900499105454, 0.8444825987021128, 0.8053811371326447, 0.7851727654536566, 0.7391756981611252, 0.736555090546608, 0.7027463148037593, 0.7049637407064437, 0.6723833685119947, 0.6789553532997767, 0.697317898273468, 0.6771357759833336, 0.6777698397636414, 0.6570984582106273, 0.6700288708011309, 0.656030835956335, 0.6480815261602402, 0.6635347758730252, 0.6696336093048255]\n",
      "Dev loss: 0.6554589182138443\n"
     ]
    },
    {
     "data": {
      "application/vnd.jupyter.widget-view+json": {
       "model_id": "b09bcf918f5b4b83a18beaf30e891ca3",
       "version_major": 2,
       "version_minor": 0
      },
      "text/plain": [
       "HBox(children=(IntProgress(value=0, description='Training iteration', max=89, style=ProgressStyle(description_…"
      ]
     },
     "metadata": {},
     "output_type": "display_data"
    },
    {
     "name": "stdout",
     "output_type": "stream",
     "text": [
      "\n"
     ]
    },
    {
     "data": {
      "application/vnd.jupyter.widget-view+json": {
       "model_id": "70bc73961cfc40d88c25a0c514af7a2f",
       "version_major": 2,
       "version_minor": 0
      },
      "text/plain": [
       "HBox(children=(IntProgress(value=0, description='Evaluation iteration', max=30, style=ProgressStyle(descriptio…"
      ]
     },
     "metadata": {},
     "output_type": "display_data"
    },
    {
     "name": "stderr",
     "output_type": "stream",
     "text": [
      "\r",
      "Epoch:  30%|███       | 30/100 [10:28<24:10, 20.72s/it]"
     ]
    },
    {
     "name": "stdout",
     "output_type": "stream",
     "text": [
      "\n",
      "Loss history: [3.3455551783243815, 2.8631558179855348, 2.3468390862147013, 1.9122286677360534, 1.6211103220780692, 1.3957361658414205, 1.2302775005499522, 1.0958113213380178, 1.0362833758195242, 0.9327900499105454, 0.8444825987021128, 0.8053811371326447, 0.7851727654536566, 0.7391756981611252, 0.736555090546608, 0.7027463148037593, 0.7049637407064437, 0.6723833685119947, 0.6789553532997767, 0.697317898273468, 0.6771357759833336, 0.6777698397636414, 0.6570984582106273, 0.6700288708011309, 0.656030835956335, 0.6480815261602402, 0.6635347758730252, 0.6696336093048255, 0.6554589182138443]\n",
      "Dev loss: 0.6898500437537829\n"
     ]
    },
    {
     "data": {
      "application/vnd.jupyter.widget-view+json": {
       "model_id": "64e57131dd664108a98282839cf13511",
       "version_major": 2,
       "version_minor": 0
      },
      "text/plain": [
       "HBox(children=(IntProgress(value=0, description='Training iteration', max=89, style=ProgressStyle(description_…"
      ]
     },
     "metadata": {},
     "output_type": "display_data"
    },
    {
     "name": "stdout",
     "output_type": "stream",
     "text": [
      "\n"
     ]
    },
    {
     "data": {
      "application/vnd.jupyter.widget-view+json": {
       "model_id": "1012ae7af7bb45aab8f0014241819387",
       "version_major": 2,
       "version_minor": 0
      },
      "text/plain": [
       "HBox(children=(IntProgress(value=0, description='Evaluation iteration', max=30, style=ProgressStyle(descriptio…"
      ]
     },
     "metadata": {},
     "output_type": "display_data"
    },
    {
     "name": "stdout",
     "output_type": "stream",
     "text": [
      "\n",
      "Loss history: [3.3455551783243815, 2.8631558179855348, 2.3468390862147013, 1.9122286677360534, 1.6211103220780692, 1.3957361658414205, 1.2302775005499522, 1.0958113213380178, 1.0362833758195242, 0.9327900499105454, 0.8444825987021128, 0.8053811371326447, 0.7851727654536566, 0.7391756981611252, 0.736555090546608, 0.7027463148037593, 0.7049637407064437, 0.6723833685119947, 0.6789553532997767, 0.697317898273468, 0.6771357759833336, 0.6777698397636414, 0.6570984582106273, 0.6700288708011309, 0.656030835956335, 0.6480815261602402, 0.6635347758730252, 0.6696336093048255, 0.6554589182138443, 0.6898500437537829]\n",
      "Dev loss: 0.6665377870202065\n",
      "No improvement on development set. Finish training.\n",
      "Loading model from /tmp/model.bin\n"
     ]
    },
    {
     "name": "stderr",
     "output_type": "stream",
     "text": [
      "\n",
      "I0406 18:00:13.914494 140397457205056 configuration_utils.py:256] loading configuration file https://s3.amazonaws.com/models.huggingface.co/bert/bert-base-uncased-config.json from cache at /home/yves/.cache/torch/transformers/4dad0251492946e18ac39290fcfe91b89d370fee250efe9521476438fe8ca185.8f56353af4a709bf5ff0fbc915d8f5b42bfff892cbb6ac98c3c45f481a03c685\n",
      "I0406 18:00:13.916090 140397457205056 configuration_utils.py:292] Model config BertConfig {\n",
      "  \"architectures\": [\n",
      "    \"BertForMaskedLM\"\n",
      "  ],\n",
      "  \"attention_probs_dropout_prob\": 0.1,\n",
      "  \"bos_token_id\": null,\n",
      "  \"do_sample\": false,\n",
      "  \"eos_token_ids\": null,\n",
      "  \"finetuning_task\": null,\n",
      "  \"hidden_act\": \"gelu\",\n",
      "  \"hidden_dropout_prob\": 0.1,\n",
      "  \"hidden_size\": 768,\n",
      "  \"id2label\": {\n",
      "    \"0\": \"LABEL_0\",\n",
      "    \"1\": \"LABEL_1\"\n",
      "  },\n",
      "  \"initializer_range\": 0.02,\n",
      "  \"intermediate_size\": 3072,\n",
      "  \"is_decoder\": false,\n",
      "  \"label2id\": {\n",
      "    \"LABEL_0\": 0,\n",
      "    \"LABEL_1\": 1\n",
      "  },\n",
      "  \"layer_norm_eps\": 1e-12,\n",
      "  \"length_penalty\": 1.0,\n",
      "  \"max_length\": 20,\n",
      "  \"max_position_embeddings\": 512,\n",
      "  \"model_type\": \"bert\",\n",
      "  \"num_attention_heads\": 12,\n",
      "  \"num_beams\": 1,\n",
      "  \"num_hidden_layers\": 12,\n",
      "  \"num_labels\": 34,\n",
      "  \"num_return_sequences\": 1,\n",
      "  \"output_attentions\": false,\n",
      "  \"output_hidden_states\": false,\n",
      "  \"output_past\": true,\n",
      "  \"pad_token_id\": null,\n",
      "  \"pruned_heads\": {},\n",
      "  \"repetition_penalty\": 1.0,\n",
      "  \"temperature\": 1.0,\n",
      "  \"top_k\": 50,\n",
      "  \"top_p\": 1.0,\n",
      "  \"torchscript\": false,\n",
      "  \"type_vocab_size\": 2,\n",
      "  \"use_bfloat16\": false,\n",
      "  \"vocab_size\": 30522\n",
      "}\n",
      "\n",
      "I0406 18:00:14.379490 140397457205056 modeling_utils.py:461] loading weights file https://s3.amazonaws.com/models.huggingface.co/bert/bert-base-uncased-pytorch_model.bin from cache at /home/yves/.cache/torch/transformers/aa1ef1aede4482d0dbcd4d52baad8ae300e60902e88fcb0bebdec09afd232066.36ca03ab34a1a5d5fa7bc3d03d55c4fa650fed07220e2eeebc06ce58d0e9a157\n"
     ]
    },
    {
     "data": {
      "application/vnd.jupyter.widget-view+json": {
       "model_id": "9a5e442c72a046e599fba95fae40dc32",
       "version_major": 2,
       "version_minor": 0
      },
      "text/plain": [
       "HBox(children=(IntProgress(value=0, description='Evaluation iteration', max=30, style=ProgressStyle(descriptio…"
      ]
     },
     "metadata": {},
     "output_type": "display_data"
    },
    {
     "name": "stdout",
     "output_type": "stream",
     "text": [
      "\n"
     ]
    },
    {
     "name": "stderr",
     "output_type": "stream",
     "text": [
      "I0406 18:00:28.704495 140397457205056 configuration_utils.py:256] loading configuration file https://s3.amazonaws.com/models.huggingface.co/bert/bert-base-uncased-config.json from cache at /home/yves/.cache/torch/transformers/4dad0251492946e18ac39290fcfe91b89d370fee250efe9521476438fe8ca185.8f56353af4a709bf5ff0fbc915d8f5b42bfff892cbb6ac98c3c45f481a03c685\n",
      "I0406 18:00:28.705774 140397457205056 configuration_utils.py:292] Model config BertConfig {\n",
      "  \"architectures\": [\n",
      "    \"BertForMaskedLM\"\n",
      "  ],\n",
      "  \"attention_probs_dropout_prob\": 0.1,\n",
      "  \"bos_token_id\": null,\n",
      "  \"do_sample\": false,\n",
      "  \"eos_token_ids\": null,\n",
      "  \"finetuning_task\": null,\n",
      "  \"hidden_act\": \"gelu\",\n",
      "  \"hidden_dropout_prob\": 0.1,\n",
      "  \"hidden_size\": 768,\n",
      "  \"id2label\": {\n",
      "    \"0\": \"LABEL_0\",\n",
      "    \"1\": \"LABEL_1\"\n",
      "  },\n",
      "  \"initializer_range\": 0.02,\n",
      "  \"intermediate_size\": 3072,\n",
      "  \"is_decoder\": false,\n",
      "  \"label2id\": {\n",
      "    \"LABEL_0\": 0,\n",
      "    \"LABEL_1\": 1\n",
      "  },\n",
      "  \"layer_norm_eps\": 1e-12,\n",
      "  \"length_penalty\": 1.0,\n",
      "  \"max_length\": 20,\n",
      "  \"max_position_embeddings\": 512,\n",
      "  \"model_type\": \"bert\",\n",
      "  \"num_attention_heads\": 12,\n",
      "  \"num_beams\": 1,\n",
      "  \"num_hidden_layers\": 12,\n",
      "  \"num_labels\": 34,\n",
      "  \"num_return_sequences\": 1,\n",
      "  \"output_attentions\": false,\n",
      "  \"output_hidden_states\": false,\n",
      "  \"output_past\": true,\n",
      "  \"pad_token_id\": null,\n",
      "  \"pruned_heads\": {},\n",
      "  \"repetition_penalty\": 1.0,\n",
      "  \"temperature\": 1.0,\n",
      "  \"top_k\": 50,\n",
      "  \"top_p\": 1.0,\n",
      "  \"torchscript\": false,\n",
      "  \"type_vocab_size\": 2,\n",
      "  \"use_bfloat16\": false,\n",
      "  \"vocab_size\": 30522\n",
      "}\n",
      "\n",
      "I0406 18:00:29.188251 140397457205056 modeling_utils.py:461] loading weights file https://s3.amazonaws.com/models.huggingface.co/bert/bert-base-uncased-pytorch_model.bin from cache at /home/yves/.cache/torch/transformers/aa1ef1aede4482d0dbcd4d52baad8ae300e60902e88fcb0bebdec09afd232066.36ca03ab34a1a5d5fa7bc3d03d55c4fa650fed07220e2eeebc06ce58d0e9a157\n",
      "I0406 18:00:30.848773 140397457205056 modeling_utils.py:546] Weights of BertForSequenceClassification not initialized from pretrained model: ['classifier.weight', 'classifier.bias']\n",
      "I0406 18:00:30.849571 140397457205056 modeling_utils.py:552] Weights from pretrained model not used in BertForSequenceClassification: ['cls.predictions.bias', 'cls.predictions.transform.dense.weight', 'cls.predictions.transform.dense.bias', 'cls.predictions.decoder.weight', 'cls.seq_relationship.weight', 'cls.seq_relationship.bias', 'cls.predictions.transform.LayerNorm.weight', 'cls.predictions.transform.LayerNorm.bias']\n",
      "Epoch:   0%|          | 0/100 [00:00<?, ?it/s]"
     ]
    },
    {
     "data": {
      "application/vnd.jupyter.widget-view+json": {
       "model_id": "f3c6681d87cd48ab9ba8e88ae119ff29",
       "version_major": 2,
       "version_minor": 0
      },
      "text/plain": [
       "HBox(children=(IntProgress(value=0, description='Training iteration', max=89, style=ProgressStyle(description_…"
      ]
     },
     "metadata": {},
     "output_type": "display_data"
    },
    {
     "name": "stdout",
     "output_type": "stream",
     "text": [
      "\n"
     ]
    },
    {
     "data": {
      "application/vnd.jupyter.widget-view+json": {
       "model_id": "a62330d8eb3e4c848da5b515ee0f8e90",
       "version_major": 2,
       "version_minor": 0
      },
      "text/plain": [
       "HBox(children=(IntProgress(value=0, description='Evaluation iteration', max=30, style=ProgressStyle(descriptio…"
      ]
     },
     "metadata": {},
     "output_type": "display_data"
    },
    {
     "name": "stdout",
     "output_type": "stream",
     "text": [
      "\n",
      "Loss history: []\n",
      "Dev loss: 3.134772276878357\n"
     ]
    },
    {
     "name": "stderr",
     "output_type": "stream",
     "text": [
      "\r",
      "Epoch:   1%|          | 1/100 [00:21<34:40, 21.01s/it]"
     ]
    },
    {
     "data": {
      "application/vnd.jupyter.widget-view+json": {
       "model_id": "f6baf8a1eeca44aa9df99539acaeda7f",
       "version_major": 2,
       "version_minor": 0
      },
      "text/plain": [
       "HBox(children=(IntProgress(value=0, description='Training iteration', max=89, style=ProgressStyle(description_…"
      ]
     },
     "metadata": {},
     "output_type": "display_data"
    },
    {
     "name": "stdout",
     "output_type": "stream",
     "text": [
      "\n"
     ]
    },
    {
     "data": {
      "application/vnd.jupyter.widget-view+json": {
       "model_id": "3a633b43cd2c402f90b37651c4f898be",
       "version_major": 2,
       "version_minor": 0
      },
      "text/plain": [
       "HBox(children=(IntProgress(value=0, description='Evaluation iteration', max=30, style=ProgressStyle(descriptio…"
      ]
     },
     "metadata": {},
     "output_type": "display_data"
    },
    {
     "name": "stdout",
     "output_type": "stream",
     "text": [
      "\n",
      "Loss history: [3.134772276878357]\n",
      "Dev loss: 2.8173413276672363\n"
     ]
    },
    {
     "name": "stderr",
     "output_type": "stream",
     "text": [
      "\r",
      "Epoch:   2%|▏         | 2/100 [00:42<34:20, 21.02s/it]"
     ]
    },
    {
     "data": {
      "application/vnd.jupyter.widget-view+json": {
       "model_id": "1fcdf45de11b4a8f8762f1e607a4d366",
       "version_major": 2,
       "version_minor": 0
      },
      "text/plain": [
       "HBox(children=(IntProgress(value=0, description='Training iteration', max=89, style=ProgressStyle(description_…"
      ]
     },
     "metadata": {},
     "output_type": "display_data"
    },
    {
     "name": "stdout",
     "output_type": "stream",
     "text": [
      "\n"
     ]
    },
    {
     "data": {
      "application/vnd.jupyter.widget-view+json": {
       "model_id": "31cf9cd3d259456db546b6b156631778",
       "version_major": 2,
       "version_minor": 0
      },
      "text/plain": [
       "HBox(children=(IntProgress(value=0, description='Evaluation iteration', max=30, style=ProgressStyle(descriptio…"
      ]
     },
     "metadata": {},
     "output_type": "display_data"
    },
    {
     "name": "stdout",
     "output_type": "stream",
     "text": [
      "\n",
      "Loss history: [3.134772276878357, 2.8173413276672363]\n",
      "Dev loss: 2.4336111227671307\n"
     ]
    },
    {
     "name": "stderr",
     "output_type": "stream",
     "text": [
      "\r",
      "Epoch:   3%|▎         | 3/100 [01:03<34:00, 21.04s/it]"
     ]
    },
    {
     "data": {
      "application/vnd.jupyter.widget-view+json": {
       "model_id": "fd11dba95882481ba51786a346a42c9a",
       "version_major": 2,
       "version_minor": 0
      },
      "text/plain": [
       "HBox(children=(IntProgress(value=0, description='Training iteration', max=89, style=ProgressStyle(description_…"
      ]
     },
     "metadata": {},
     "output_type": "display_data"
    },
    {
     "name": "stdout",
     "output_type": "stream",
     "text": [
      "\n"
     ]
    },
    {
     "data": {
      "application/vnd.jupyter.widget-view+json": {
       "model_id": "cac9a9b4744348eb9efa0237ed23439c",
       "version_major": 2,
       "version_minor": 0
      },
      "text/plain": [
       "HBox(children=(IntProgress(value=0, description='Evaluation iteration', max=30, style=ProgressStyle(descriptio…"
      ]
     },
     "metadata": {},
     "output_type": "display_data"
    },
    {
     "name": "stdout",
     "output_type": "stream",
     "text": [
      "\n",
      "Loss history: [3.134772276878357, 2.8173413276672363, 2.4336111227671307]\n",
      "Dev loss: 2.0716185569763184\n"
     ]
    },
    {
     "name": "stderr",
     "output_type": "stream",
     "text": [
      "\r",
      "Epoch:   4%|▍         | 4/100 [01:24<33:40, 21.05s/it]"
     ]
    },
    {
     "data": {
      "application/vnd.jupyter.widget-view+json": {
       "model_id": "43e8c4b77052436c90fd719db6d97edb",
       "version_major": 2,
       "version_minor": 0
      },
      "text/plain": [
       "HBox(children=(IntProgress(value=0, description='Training iteration', max=89, style=ProgressStyle(description_…"
      ]
     },
     "metadata": {},
     "output_type": "display_data"
    },
    {
     "name": "stdout",
     "output_type": "stream",
     "text": [
      "\n"
     ]
    },
    {
     "data": {
      "application/vnd.jupyter.widget-view+json": {
       "model_id": "8aa1480a5f0144b2ad7e2a76888ffd64",
       "version_major": 2,
       "version_minor": 0
      },
      "text/plain": [
       "HBox(children=(IntProgress(value=0, description='Evaluation iteration', max=30, style=ProgressStyle(descriptio…"
      ]
     },
     "metadata": {},
     "output_type": "display_data"
    },
    {
     "name": "stdout",
     "output_type": "stream",
     "text": [
      "\n",
      "Loss history: [3.134772276878357, 2.8173413276672363, 2.4336111227671307, 2.0716185569763184]\n",
      "Dev loss: 1.7996585289637248\n"
     ]
    },
    {
     "name": "stderr",
     "output_type": "stream",
     "text": [
      "\r",
      "Epoch:   5%|▌         | 5/100 [01:45<33:19, 21.05s/it]"
     ]
    },
    {
     "data": {
      "application/vnd.jupyter.widget-view+json": {
       "model_id": "1165000c8dae4cb088c81b171d5a4d48",
       "version_major": 2,
       "version_minor": 0
      },
      "text/plain": [
       "HBox(children=(IntProgress(value=0, description='Training iteration', max=89, style=ProgressStyle(description_…"
      ]
     },
     "metadata": {},
     "output_type": "display_data"
    },
    {
     "name": "stdout",
     "output_type": "stream",
     "text": [
      "\n"
     ]
    },
    {
     "data": {
      "application/vnd.jupyter.widget-view+json": {
       "model_id": "4d2fbc4c44254e81856fa8bbe1b7ee4d",
       "version_major": 2,
       "version_minor": 0
      },
      "text/plain": [
       "HBox(children=(IntProgress(value=0, description='Evaluation iteration', max=30, style=ProgressStyle(descriptio…"
      ]
     },
     "metadata": {},
     "output_type": "display_data"
    },
    {
     "name": "stdout",
     "output_type": "stream",
     "text": [
      "\n",
      "Loss history: [3.134772276878357, 2.8173413276672363, 2.4336111227671307, 2.0716185569763184, 1.7996585289637248]\n",
      "Dev loss: 1.5348845144112906\n"
     ]
    },
    {
     "name": "stderr",
     "output_type": "stream",
     "text": [
      "\r",
      "Epoch:   6%|▌         | 6/100 [02:06<33:00, 21.07s/it]"
     ]
    },
    {
     "data": {
      "application/vnd.jupyter.widget-view+json": {
       "model_id": "f4001b8578d443c5b7709984cc5137b2",
       "version_major": 2,
       "version_minor": 0
      },
      "text/plain": [
       "HBox(children=(IntProgress(value=0, description='Training iteration', max=89, style=ProgressStyle(description_…"
      ]
     },
     "metadata": {},
     "output_type": "display_data"
    },
    {
     "name": "stdout",
     "output_type": "stream",
     "text": [
      "\n"
     ]
    },
    {
     "data": {
      "application/vnd.jupyter.widget-view+json": {
       "model_id": "ef5e9a0e4ab84324a329d9a2052ed3c0",
       "version_major": 2,
       "version_minor": 0
      },
      "text/plain": [
       "HBox(children=(IntProgress(value=0, description='Evaluation iteration', max=30, style=ProgressStyle(descriptio…"
      ]
     },
     "metadata": {},
     "output_type": "display_data"
    },
    {
     "name": "stdout",
     "output_type": "stream",
     "text": [
      "\n",
      "Loss history: [3.134772276878357, 2.8173413276672363, 2.4336111227671307, 2.0716185569763184, 1.7996585289637248, 1.5348845144112906]\n",
      "Dev loss: 1.3654666105906168\n"
     ]
    },
    {
     "name": "stderr",
     "output_type": "stream",
     "text": [
      "\r",
      "Epoch:   7%|▋         | 7/100 [02:27<32:40, 21.08s/it]"
     ]
    },
    {
     "data": {
      "application/vnd.jupyter.widget-view+json": {
       "model_id": "1e4e470676954621b1731885cb847b51",
       "version_major": 2,
       "version_minor": 0
      },
      "text/plain": [
       "HBox(children=(IntProgress(value=0, description='Training iteration', max=89, style=ProgressStyle(description_…"
      ]
     },
     "metadata": {},
     "output_type": "display_data"
    },
    {
     "name": "stdout",
     "output_type": "stream",
     "text": [
      "\n"
     ]
    },
    {
     "data": {
      "application/vnd.jupyter.widget-view+json": {
       "model_id": "0b91295639a1499fa07b4b5ef17688f9",
       "version_major": 2,
       "version_minor": 0
      },
      "text/plain": [
       "HBox(children=(IntProgress(value=0, description='Evaluation iteration', max=30, style=ProgressStyle(descriptio…"
      ]
     },
     "metadata": {},
     "output_type": "display_data"
    },
    {
     "name": "stdout",
     "output_type": "stream",
     "text": [
      "\n",
      "Loss history: [3.134772276878357, 2.8173413276672363, 2.4336111227671307, 2.0716185569763184, 1.7996585289637248, 1.5348845144112906, 1.3654666105906168]\n",
      "Dev loss: 1.2328002472718558\n"
     ]
    },
    {
     "name": "stderr",
     "output_type": "stream",
     "text": [
      "\r",
      "Epoch:   8%|▊         | 8/100 [02:48<32:20, 21.09s/it]"
     ]
    },
    {
     "data": {
      "application/vnd.jupyter.widget-view+json": {
       "model_id": "ede86e9a7b6a49c8abe531650f8b97c4",
       "version_major": 2,
       "version_minor": 0
      },
      "text/plain": [
       "HBox(children=(IntProgress(value=0, description='Training iteration', max=89, style=ProgressStyle(description_…"
      ]
     },
     "metadata": {},
     "output_type": "display_data"
    },
    {
     "name": "stdout",
     "output_type": "stream",
     "text": [
      "\n"
     ]
    },
    {
     "data": {
      "application/vnd.jupyter.widget-view+json": {
       "model_id": "79c4f76617dd4db8ad4111f199656467",
       "version_major": 2,
       "version_minor": 0
      },
      "text/plain": [
       "HBox(children=(IntProgress(value=0, description='Evaluation iteration', max=30, style=ProgressStyle(descriptio…"
      ]
     },
     "metadata": {},
     "output_type": "display_data"
    },
    {
     "name": "stdout",
     "output_type": "stream",
     "text": [
      "\n",
      "Loss history: [3.134772276878357, 2.8173413276672363, 2.4336111227671307, 2.0716185569763184, 1.7996585289637248, 1.5348845144112906, 1.3654666105906168, 1.2328002472718558]\n",
      "Dev loss: 1.1408678909142813\n"
     ]
    },
    {
     "name": "stderr",
     "output_type": "stream",
     "text": [
      "\r",
      "Epoch:   9%|▉         | 9/100 [03:09<31:59, 21.09s/it]"
     ]
    },
    {
     "data": {
      "application/vnd.jupyter.widget-view+json": {
       "model_id": "499f1d0fa2314bb6a001c93aeba22573",
       "version_major": 2,
       "version_minor": 0
      },
      "text/plain": [
       "HBox(children=(IntProgress(value=0, description='Training iteration', max=89, style=ProgressStyle(description_…"
      ]
     },
     "metadata": {},
     "output_type": "display_data"
    },
    {
     "name": "stdout",
     "output_type": "stream",
     "text": [
      "\n"
     ]
    },
    {
     "data": {
      "application/vnd.jupyter.widget-view+json": {
       "model_id": "e7783bd896634ac1b6fec0bdc625532c",
       "version_major": 2,
       "version_minor": 0
      },
      "text/plain": [
       "HBox(children=(IntProgress(value=0, description='Evaluation iteration', max=30, style=ProgressStyle(descriptio…"
      ]
     },
     "metadata": {},
     "output_type": "display_data"
    },
    {
     "name": "stdout",
     "output_type": "stream",
     "text": [
      "\n",
      "Loss history: [3.134772276878357, 2.8173413276672363, 2.4336111227671307, 2.0716185569763184, 1.7996585289637248, 1.5348845144112906, 1.3654666105906168, 1.2328002472718558, 1.1408678909142813]\n",
      "Dev loss: 1.0778270542621613\n"
     ]
    },
    {
     "name": "stderr",
     "output_type": "stream",
     "text": [
      "\r",
      "Epoch:  10%|█         | 10/100 [03:30<31:39, 21.11s/it]"
     ]
    },
    {
     "data": {
      "application/vnd.jupyter.widget-view+json": {
       "model_id": "34d5dfd613a746798c0f377e6fb2226d",
       "version_major": 2,
       "version_minor": 0
      },
      "text/plain": [
       "HBox(children=(IntProgress(value=0, description='Training iteration', max=89, style=ProgressStyle(description_…"
      ]
     },
     "metadata": {},
     "output_type": "display_data"
    },
    {
     "name": "stdout",
     "output_type": "stream",
     "text": [
      "\n"
     ]
    },
    {
     "data": {
      "application/vnd.jupyter.widget-view+json": {
       "model_id": "903a47875913460bb0eadc32ce955139",
       "version_major": 2,
       "version_minor": 0
      },
      "text/plain": [
       "HBox(children=(IntProgress(value=0, description='Evaluation iteration', max=30, style=ProgressStyle(descriptio…"
      ]
     },
     "metadata": {},
     "output_type": "display_data"
    },
    {
     "name": "stdout",
     "output_type": "stream",
     "text": [
      "\n",
      "Loss history: [3.134772276878357, 2.8173413276672363, 2.4336111227671307, 2.0716185569763184, 1.7996585289637248, 1.5348845144112906, 1.3654666105906168, 1.2328002472718558, 1.1408678909142813, 1.0778270542621613]\n",
      "Dev loss: 1.000143470366796\n"
     ]
    },
    {
     "name": "stderr",
     "output_type": "stream",
     "text": [
      "\r",
      "Epoch:  11%|█         | 11/100 [03:51<31:19, 21.11s/it]"
     ]
    },
    {
     "data": {
      "application/vnd.jupyter.widget-view+json": {
       "model_id": "36c5ae7ac16045f9852b9961db583438",
       "version_major": 2,
       "version_minor": 0
      },
      "text/plain": [
       "HBox(children=(IntProgress(value=0, description='Training iteration', max=89, style=ProgressStyle(description_…"
      ]
     },
     "metadata": {},
     "output_type": "display_data"
    },
    {
     "name": "stdout",
     "output_type": "stream",
     "text": [
      "\n"
     ]
    },
    {
     "data": {
      "application/vnd.jupyter.widget-view+json": {
       "model_id": "621275fd8f114471ad6c58af99c8385c",
       "version_major": 2,
       "version_minor": 0
      },
      "text/plain": [
       "HBox(children=(IntProgress(value=0, description='Evaluation iteration', max=30, style=ProgressStyle(descriptio…"
      ]
     },
     "metadata": {},
     "output_type": "display_data"
    },
    {
     "name": "stdout",
     "output_type": "stream",
     "text": [
      "\n",
      "Loss history: [3.134772276878357, 2.8173413276672363, 2.4336111227671307, 2.0716185569763184, 1.7996585289637248, 1.5348845144112906, 1.3654666105906168, 1.2328002472718558, 1.1408678909142813, 1.0778270542621613, 1.000143470366796]\n",
      "Dev loss: 0.9588430921236674\n"
     ]
    },
    {
     "name": "stderr",
     "output_type": "stream",
     "text": [
      "\r",
      "Epoch:  12%|█▏        | 12/100 [04:13<30:58, 21.12s/it]"
     ]
    },
    {
     "data": {
      "application/vnd.jupyter.widget-view+json": {
       "model_id": "3f85c9c838d641b4aa8ef74f868472b6",
       "version_major": 2,
       "version_minor": 0
      },
      "text/plain": [
       "HBox(children=(IntProgress(value=0, description='Training iteration', max=89, style=ProgressStyle(description_…"
      ]
     },
     "metadata": {},
     "output_type": "display_data"
    },
    {
     "name": "stdout",
     "output_type": "stream",
     "text": [
      "\n"
     ]
    },
    {
     "data": {
      "application/vnd.jupyter.widget-view+json": {
       "model_id": "7c3bbfede15f45c39144ed8abd6fd2a6",
       "version_major": 2,
       "version_minor": 0
      },
      "text/plain": [
       "HBox(children=(IntProgress(value=0, description='Evaluation iteration', max=30, style=ProgressStyle(descriptio…"
      ]
     },
     "metadata": {},
     "output_type": "display_data"
    },
    {
     "name": "stdout",
     "output_type": "stream",
     "text": [
      "\n",
      "Loss history: [3.134772276878357, 2.8173413276672363, 2.4336111227671307, 2.0716185569763184, 1.7996585289637248, 1.5348845144112906, 1.3654666105906168, 1.2328002472718558, 1.1408678909142813, 1.0778270542621613, 1.000143470366796, 0.9588430921236674]\n",
      "Dev loss: 0.9254135469595591\n"
     ]
    },
    {
     "name": "stderr",
     "output_type": "stream",
     "text": [
      "\r",
      "Epoch:  13%|█▎        | 13/100 [04:34<30:37, 21.12s/it]"
     ]
    },
    {
     "data": {
      "application/vnd.jupyter.widget-view+json": {
       "model_id": "863d953735c04b98b1dafb62d39e4e80",
       "version_major": 2,
       "version_minor": 0
      },
      "text/plain": [
       "HBox(children=(IntProgress(value=0, description='Training iteration', max=89, style=ProgressStyle(description_…"
      ]
     },
     "metadata": {},
     "output_type": "display_data"
    },
    {
     "name": "stdout",
     "output_type": "stream",
     "text": [
      "\n"
     ]
    },
    {
     "data": {
      "application/vnd.jupyter.widget-view+json": {
       "model_id": "bcc52bbc61bb448e9af13a753baa3946",
       "version_major": 2,
       "version_minor": 0
      },
      "text/plain": [
       "HBox(children=(IntProgress(value=0, description='Evaluation iteration', max=30, style=ProgressStyle(descriptio…"
      ]
     },
     "metadata": {},
     "output_type": "display_data"
    },
    {
     "name": "stdout",
     "output_type": "stream",
     "text": [
      "\n",
      "Loss history: [3.134772276878357, 2.8173413276672363, 2.4336111227671307, 2.0716185569763184, 1.7996585289637248, 1.5348845144112906, 1.3654666105906168, 1.2328002472718558, 1.1408678909142813, 1.0778270542621613, 1.000143470366796, 0.9588430921236674, 0.9254135469595591]\n",
      "Dev loss: 0.8678344517946244\n"
     ]
    },
    {
     "name": "stderr",
     "output_type": "stream",
     "text": [
      "\r",
      "Epoch:  14%|█▍        | 14/100 [04:55<30:16, 21.13s/it]"
     ]
    },
    {
     "data": {
      "application/vnd.jupyter.widget-view+json": {
       "model_id": "a321def1b8874a348efeadb0abda85b4",
       "version_major": 2,
       "version_minor": 0
      },
      "text/plain": [
       "HBox(children=(IntProgress(value=0, description='Training iteration', max=89, style=ProgressStyle(description_…"
      ]
     },
     "metadata": {},
     "output_type": "display_data"
    },
    {
     "name": "stdout",
     "output_type": "stream",
     "text": [
      "\n"
     ]
    },
    {
     "data": {
      "application/vnd.jupyter.widget-view+json": {
       "model_id": "bac16a394ca64739aec0c2698a25bc74",
       "version_major": 2,
       "version_minor": 0
      },
      "text/plain": [
       "HBox(children=(IntProgress(value=0, description='Evaluation iteration', max=30, style=ProgressStyle(descriptio…"
      ]
     },
     "metadata": {},
     "output_type": "display_data"
    },
    {
     "name": "stdout",
     "output_type": "stream",
     "text": [
      "\n",
      "Loss history: [3.134772276878357, 2.8173413276672363, 2.4336111227671307, 2.0716185569763184, 1.7996585289637248, 1.5348845144112906, 1.3654666105906168, 1.2328002472718558, 1.1408678909142813, 1.0778270542621613, 1.000143470366796, 0.9588430921236674, 0.9254135469595591, 0.8678344517946244]\n",
      "Dev loss: 0.8399032185475032\n"
     ]
    },
    {
     "name": "stderr",
     "output_type": "stream",
     "text": [
      "\r",
      "Epoch:  15%|█▌        | 15/100 [05:16<29:55, 21.13s/it]"
     ]
    },
    {
     "data": {
      "application/vnd.jupyter.widget-view+json": {
       "model_id": "25960495c093462297353c8737e0c7b1",
       "version_major": 2,
       "version_minor": 0
      },
      "text/plain": [
       "HBox(children=(IntProgress(value=0, description='Training iteration', max=89, style=ProgressStyle(description_…"
      ]
     },
     "metadata": {},
     "output_type": "display_data"
    },
    {
     "name": "stdout",
     "output_type": "stream",
     "text": [
      "\n"
     ]
    },
    {
     "data": {
      "application/vnd.jupyter.widget-view+json": {
       "model_id": "c5a99e7684a44e72a92fd41248abbbf6",
       "version_major": 2,
       "version_minor": 0
      },
      "text/plain": [
       "HBox(children=(IntProgress(value=0, description='Evaluation iteration', max=30, style=ProgressStyle(descriptio…"
      ]
     },
     "metadata": {},
     "output_type": "display_data"
    },
    {
     "name": "stdout",
     "output_type": "stream",
     "text": [
      "\n",
      "Loss history: [3.134772276878357, 2.8173413276672363, 2.4336111227671307, 2.0716185569763184, 1.7996585289637248, 1.5348845144112906, 1.3654666105906168, 1.2328002472718558, 1.1408678909142813, 1.0778270542621613, 1.000143470366796, 0.9588430921236674, 0.9254135469595591, 0.8678344517946244, 0.8399032185475032]\n",
      "Dev loss: 0.8395592356721561\n"
     ]
    },
    {
     "name": "stderr",
     "output_type": "stream",
     "text": [
      "\r",
      "Epoch:  16%|█▌        | 16/100 [05:37<29:35, 21.13s/it]"
     ]
    },
    {
     "data": {
      "application/vnd.jupyter.widget-view+json": {
       "model_id": "ea5e1231845b4f589a17c3405aabd399",
       "version_major": 2,
       "version_minor": 0
      },
      "text/plain": [
       "HBox(children=(IntProgress(value=0, description='Training iteration', max=89, style=ProgressStyle(description_…"
      ]
     },
     "metadata": {},
     "output_type": "display_data"
    },
    {
     "name": "stdout",
     "output_type": "stream",
     "text": [
      "\n"
     ]
    },
    {
     "data": {
      "application/vnd.jupyter.widget-view+json": {
       "model_id": "d7a0816819044063b5a219d40b36086f",
       "version_major": 2,
       "version_minor": 0
      },
      "text/plain": [
       "HBox(children=(IntProgress(value=0, description='Evaluation iteration', max=30, style=ProgressStyle(descriptio…"
      ]
     },
     "metadata": {},
     "output_type": "display_data"
    },
    {
     "name": "stdout",
     "output_type": "stream",
     "text": [
      "\n",
      "Loss history: [3.134772276878357, 2.8173413276672363, 2.4336111227671307, 2.0716185569763184, 1.7996585289637248, 1.5348845144112906, 1.3654666105906168, 1.2328002472718558, 1.1408678909142813, 1.0778270542621613, 1.000143470366796, 0.9588430921236674, 0.9254135469595591, 0.8678344517946244, 0.8399032185475032, 0.8395592356721561]\n",
      "Dev loss: 0.8383056263128916\n"
     ]
    },
    {
     "name": "stderr",
     "output_type": "stream",
     "text": [
      "\r",
      "Epoch:  17%|█▋        | 17/100 [05:58<29:14, 21.13s/it]"
     ]
    },
    {
     "data": {
      "application/vnd.jupyter.widget-view+json": {
       "model_id": "11eee618b1584a3a8ae198740e714f41",
       "version_major": 2,
       "version_minor": 0
      },
      "text/plain": [
       "HBox(children=(IntProgress(value=0, description='Training iteration', max=89, style=ProgressStyle(description_…"
      ]
     },
     "metadata": {},
     "output_type": "display_data"
    },
    {
     "name": "stdout",
     "output_type": "stream",
     "text": [
      "\n"
     ]
    },
    {
     "data": {
      "application/vnd.jupyter.widget-view+json": {
       "model_id": "752fb9e7e260482fb66cbd766acc3a23",
       "version_major": 2,
       "version_minor": 0
      },
      "text/plain": [
       "HBox(children=(IntProgress(value=0, description='Evaluation iteration', max=30, style=ProgressStyle(descriptio…"
      ]
     },
     "metadata": {},
     "output_type": "display_data"
    },
    {
     "name": "stdout",
     "output_type": "stream",
     "text": [
      "\n",
      "Loss history: [3.134772276878357, 2.8173413276672363, 2.4336111227671307, 2.0716185569763184, 1.7996585289637248, 1.5348845144112906, 1.3654666105906168, 1.2328002472718558, 1.1408678909142813, 1.0778270542621613, 1.000143470366796, 0.9588430921236674, 0.9254135469595591, 0.8678344517946244, 0.8399032185475032, 0.8395592356721561, 0.8383056263128916]\n",
      "Dev loss: 0.7866982777913412\n"
     ]
    },
    {
     "name": "stderr",
     "output_type": "stream",
     "text": [
      "\r",
      "Epoch:  18%|█▊        | 18/100 [06:19<28:53, 21.13s/it]"
     ]
    },
    {
     "data": {
      "application/vnd.jupyter.widget-view+json": {
       "model_id": "8d7b044f28604f23990ad4e91f871881",
       "version_major": 2,
       "version_minor": 0
      },
      "text/plain": [
       "HBox(children=(IntProgress(value=0, description='Training iteration', max=89, style=ProgressStyle(description_…"
      ]
     },
     "metadata": {},
     "output_type": "display_data"
    },
    {
     "name": "stdout",
     "output_type": "stream",
     "text": [
      "\n"
     ]
    },
    {
     "data": {
      "application/vnd.jupyter.widget-view+json": {
       "model_id": "1066b0be377a4e14bb84b17de12e4674",
       "version_major": 2,
       "version_minor": 0
      },
      "text/plain": [
       "HBox(children=(IntProgress(value=0, description='Evaluation iteration', max=30, style=ProgressStyle(descriptio…"
      ]
     },
     "metadata": {},
     "output_type": "display_data"
    },
    {
     "name": "stdout",
     "output_type": "stream",
     "text": [
      "\n",
      "Loss history: [3.134772276878357, 2.8173413276672363, 2.4336111227671307, 2.0716185569763184, 1.7996585289637248, 1.5348845144112906, 1.3654666105906168, 1.2328002472718558, 1.1408678909142813, 1.0778270542621613, 1.000143470366796, 0.9588430921236674, 0.9254135469595591, 0.8678344517946244, 0.8399032185475032, 0.8395592356721561, 0.8383056263128916, 0.7866982777913412]\n",
      "Dev loss: 0.7659640570481618\n"
     ]
    },
    {
     "name": "stderr",
     "output_type": "stream",
     "text": [
      "\r",
      "Epoch:  19%|█▉        | 19/100 [06:41<28:31, 21.13s/it]"
     ]
    },
    {
     "data": {
      "application/vnd.jupyter.widget-view+json": {
       "model_id": "39836c652c1a4320b53b9b2fc8299f60",
       "version_major": 2,
       "version_minor": 0
      },
      "text/plain": [
       "HBox(children=(IntProgress(value=0, description='Training iteration', max=89, style=ProgressStyle(description_…"
      ]
     },
     "metadata": {},
     "output_type": "display_data"
    },
    {
     "name": "stdout",
     "output_type": "stream",
     "text": [
      "\n"
     ]
    },
    {
     "data": {
      "application/vnd.jupyter.widget-view+json": {
       "model_id": "2fa947b35e34472885f7a42070a17d9b",
       "version_major": 2,
       "version_minor": 0
      },
      "text/plain": [
       "HBox(children=(IntProgress(value=0, description='Evaluation iteration', max=30, style=ProgressStyle(descriptio…"
      ]
     },
     "metadata": {},
     "output_type": "display_data"
    },
    {
     "name": "stdout",
     "output_type": "stream",
     "text": [
      "\n",
      "Loss history: [3.134772276878357, 2.8173413276672363, 2.4336111227671307, 2.0716185569763184, 1.7996585289637248, 1.5348845144112906, 1.3654666105906168, 1.2328002472718558, 1.1408678909142813, 1.0778270542621613, 1.000143470366796, 0.9588430921236674, 0.9254135469595591, 0.8678344517946244, 0.8399032185475032, 0.8395592356721561, 0.8383056263128916, 0.7866982777913412, 0.7659640570481618]\n",
      "Dev loss: 0.7529143343369166\n"
     ]
    },
    {
     "name": "stderr",
     "output_type": "stream",
     "text": [
      "\r",
      "Epoch:  20%|██        | 20/100 [07:02<28:10, 21.13s/it]"
     ]
    },
    {
     "data": {
      "application/vnd.jupyter.widget-view+json": {
       "model_id": "54b81188d7ba4304bf3204f31d4e61e5",
       "version_major": 2,
       "version_minor": 0
      },
      "text/plain": [
       "HBox(children=(IntProgress(value=0, description='Training iteration', max=89, style=ProgressStyle(description_…"
      ]
     },
     "metadata": {},
     "output_type": "display_data"
    },
    {
     "name": "stdout",
     "output_type": "stream",
     "text": [
      "\n"
     ]
    },
    {
     "data": {
      "application/vnd.jupyter.widget-view+json": {
       "model_id": "f6fca944a8124542a6f72a8947ee4255",
       "version_major": 2,
       "version_minor": 0
      },
      "text/plain": [
       "HBox(children=(IntProgress(value=0, description='Evaluation iteration', max=30, style=ProgressStyle(descriptio…"
      ]
     },
     "metadata": {},
     "output_type": "display_data"
    },
    {
     "name": "stdout",
     "output_type": "stream",
     "text": [
      "\n",
      "Loss history: [3.134772276878357, 2.8173413276672363, 2.4336111227671307, 2.0716185569763184, 1.7996585289637248, 1.5348845144112906, 1.3654666105906168, 1.2328002472718558, 1.1408678909142813, 1.0778270542621613, 1.000143470366796, 0.9588430921236674, 0.9254135469595591, 0.8678344517946244, 0.8399032185475032, 0.8395592356721561, 0.8383056263128916, 0.7866982777913412, 0.7659640570481618, 0.7529143343369166]\n",
      "Dev loss: 0.7375924408435821\n"
     ]
    },
    {
     "name": "stderr",
     "output_type": "stream",
     "text": [
      "\r",
      "Epoch:  21%|██        | 21/100 [07:23<27:49, 21.13s/it]"
     ]
    },
    {
     "data": {
      "application/vnd.jupyter.widget-view+json": {
       "model_id": "da435b1df5b348ab89af288dec6cd5ad",
       "version_major": 2,
       "version_minor": 0
      },
      "text/plain": [
       "HBox(children=(IntProgress(value=0, description='Training iteration', max=89, style=ProgressStyle(description_…"
      ]
     },
     "metadata": {},
     "output_type": "display_data"
    },
    {
     "name": "stdout",
     "output_type": "stream",
     "text": [
      "\n"
     ]
    },
    {
     "data": {
      "application/vnd.jupyter.widget-view+json": {
       "model_id": "206b5e844cdd4d3493c073ed5abf7df5",
       "version_major": 2,
       "version_minor": 0
      },
      "text/plain": [
       "HBox(children=(IntProgress(value=0, description='Evaluation iteration', max=30, style=ProgressStyle(descriptio…"
      ]
     },
     "metadata": {},
     "output_type": "display_data"
    },
    {
     "name": "stdout",
     "output_type": "stream",
     "text": [
      "\n",
      "Loss history: [3.134772276878357, 2.8173413276672363, 2.4336111227671307, 2.0716185569763184, 1.7996585289637248, 1.5348845144112906, 1.3654666105906168, 1.2328002472718558, 1.1408678909142813, 1.0778270542621613, 1.000143470366796, 0.9588430921236674, 0.9254135469595591, 0.8678344517946244, 0.8399032185475032, 0.8395592356721561, 0.8383056263128916, 0.7866982777913412, 0.7659640570481618, 0.7529143343369166, 0.7375924408435821]\n",
      "Dev loss: 0.7371853212515513\n"
     ]
    },
    {
     "name": "stderr",
     "output_type": "stream",
     "text": [
      "\r",
      "Epoch:  22%|██▏       | 22/100 [07:44<27:28, 21.14s/it]"
     ]
    },
    {
     "data": {
      "application/vnd.jupyter.widget-view+json": {
       "model_id": "12d59f2cc13147af8096263003b31b10",
       "version_major": 2,
       "version_minor": 0
      },
      "text/plain": [
       "HBox(children=(IntProgress(value=0, description='Training iteration', max=89, style=ProgressStyle(description_…"
      ]
     },
     "metadata": {},
     "output_type": "display_data"
    },
    {
     "name": "stdout",
     "output_type": "stream",
     "text": [
      "\n"
     ]
    },
    {
     "data": {
      "application/vnd.jupyter.widget-view+json": {
       "model_id": "f307f3e111324557bbdcc41895d71441",
       "version_major": 2,
       "version_minor": 0
      },
      "text/plain": [
       "HBox(children=(IntProgress(value=0, description='Evaluation iteration', max=30, style=ProgressStyle(descriptio…"
      ]
     },
     "metadata": {},
     "output_type": "display_data"
    },
    {
     "name": "stdout",
     "output_type": "stream",
     "text": [
      "\n",
      "Loss history: [3.134772276878357, 2.8173413276672363, 2.4336111227671307, 2.0716185569763184, 1.7996585289637248, 1.5348845144112906, 1.3654666105906168, 1.2328002472718558, 1.1408678909142813, 1.0778270542621613, 1.000143470366796, 0.9588430921236674, 0.9254135469595591, 0.8678344517946244, 0.8399032185475032, 0.8395592356721561, 0.8383056263128916, 0.7866982777913412, 0.7659640570481618, 0.7529143343369166, 0.7375924408435821, 0.7371853212515513]\n",
      "Dev loss: 0.7232259918625156\n"
     ]
    },
    {
     "name": "stderr",
     "output_type": "stream",
     "text": [
      "\r",
      "Epoch:  23%|██▎       | 23/100 [08:05<27:07, 21.14s/it]"
     ]
    },
    {
     "data": {
      "application/vnd.jupyter.widget-view+json": {
       "model_id": "098b548ba9dd4ef49a528d39dc9e21a8",
       "version_major": 2,
       "version_minor": 0
      },
      "text/plain": [
       "HBox(children=(IntProgress(value=0, description='Training iteration', max=89, style=ProgressStyle(description_…"
      ]
     },
     "metadata": {},
     "output_type": "display_data"
    },
    {
     "name": "stdout",
     "output_type": "stream",
     "text": [
      "\n"
     ]
    },
    {
     "data": {
      "application/vnd.jupyter.widget-view+json": {
       "model_id": "dd259cc2499e43368cee8cb555bd3c6f",
       "version_major": 2,
       "version_minor": 0
      },
      "text/plain": [
       "HBox(children=(IntProgress(value=0, description='Evaluation iteration', max=30, style=ProgressStyle(descriptio…"
      ]
     },
     "metadata": {},
     "output_type": "display_data"
    },
    {
     "name": "stdout",
     "output_type": "stream",
     "text": [
      "\n",
      "Loss history: [3.134772276878357, 2.8173413276672363, 2.4336111227671307, 2.0716185569763184, 1.7996585289637248, 1.5348845144112906, 1.3654666105906168, 1.2328002472718558, 1.1408678909142813, 1.0778270542621613, 1.000143470366796, 0.9588430921236674, 0.9254135469595591, 0.8678344517946244, 0.8399032185475032, 0.8395592356721561, 0.8383056263128916, 0.7866982777913412, 0.7659640570481618, 0.7529143343369166, 0.7375924408435821, 0.7371853212515513, 0.7232259918625156]\n",
      "Dev loss: 0.7198773210247358\n"
     ]
    },
    {
     "name": "stderr",
     "output_type": "stream",
     "text": [
      "\r",
      "Epoch:  24%|██▍       | 24/100 [08:26<26:46, 21.14s/it]"
     ]
    },
    {
     "data": {
      "application/vnd.jupyter.widget-view+json": {
       "model_id": "dbb333a1997a4cda84504662e874d9b9",
       "version_major": 2,
       "version_minor": 0
      },
      "text/plain": [
       "HBox(children=(IntProgress(value=0, description='Training iteration', max=89, style=ProgressStyle(description_…"
      ]
     },
     "metadata": {},
     "output_type": "display_data"
    },
    {
     "name": "stdout",
     "output_type": "stream",
     "text": [
      "\n"
     ]
    },
    {
     "data": {
      "application/vnd.jupyter.widget-view+json": {
       "model_id": "d402bdf446164412a5ae4f2d77332129",
       "version_major": 2,
       "version_minor": 0
      },
      "text/plain": [
       "HBox(children=(IntProgress(value=0, description='Evaluation iteration', max=30, style=ProgressStyle(descriptio…"
      ]
     },
     "metadata": {},
     "output_type": "display_data"
    },
    {
     "name": "stdout",
     "output_type": "stream",
     "text": [
      "\n",
      "Loss history: [3.134772276878357, 2.8173413276672363, 2.4336111227671307, 2.0716185569763184, 1.7996585289637248, 1.5348845144112906, 1.3654666105906168, 1.2328002472718558, 1.1408678909142813, 1.0778270542621613, 1.000143470366796, 0.9588430921236674, 0.9254135469595591, 0.8678344517946244, 0.8399032185475032, 0.8395592356721561, 0.8383056263128916, 0.7866982777913412, 0.7659640570481618, 0.7529143343369166, 0.7375924408435821, 0.7371853212515513, 0.7232259918625156, 0.7198773210247358]\n",
      "Dev loss: 0.7129932448267937\n"
     ]
    },
    {
     "name": "stderr",
     "output_type": "stream",
     "text": [
      "\r",
      "Epoch:  25%|██▌       | 25/100 [08:47<26:25, 21.14s/it]"
     ]
    },
    {
     "data": {
      "application/vnd.jupyter.widget-view+json": {
       "model_id": "ab9446bf9dc44a2090564cec050b8d45",
       "version_major": 2,
       "version_minor": 0
      },
      "text/plain": [
       "HBox(children=(IntProgress(value=0, description='Training iteration', max=89, style=ProgressStyle(description_…"
      ]
     },
     "metadata": {},
     "output_type": "display_data"
    },
    {
     "name": "stdout",
     "output_type": "stream",
     "text": [
      "\n"
     ]
    },
    {
     "data": {
      "application/vnd.jupyter.widget-view+json": {
       "model_id": "a5c05ff22bde4a46a6f131c9a7b0afec",
       "version_major": 2,
       "version_minor": 0
      },
      "text/plain": [
       "HBox(children=(IntProgress(value=0, description='Evaluation iteration', max=30, style=ProgressStyle(descriptio…"
      ]
     },
     "metadata": {},
     "output_type": "display_data"
    },
    {
     "name": "stderr",
     "output_type": "stream",
     "text": [
      "\r",
      "Epoch:  26%|██▌       | 26/100 [09:08<25:53, 21.00s/it]"
     ]
    },
    {
     "name": "stdout",
     "output_type": "stream",
     "text": [
      "\n",
      "Loss history: [3.134772276878357, 2.8173413276672363, 2.4336111227671307, 2.0716185569763184, 1.7996585289637248, 1.5348845144112906, 1.3654666105906168, 1.2328002472718558, 1.1408678909142813, 1.0778270542621613, 1.000143470366796, 0.9588430921236674, 0.9254135469595591, 0.8678344517946244, 0.8399032185475032, 0.8395592356721561, 0.8383056263128916, 0.7866982777913412, 0.7659640570481618, 0.7529143343369166, 0.7375924408435821, 0.7371853212515513, 0.7232259918625156, 0.7198773210247358, 0.7129932448267937]\n",
      "Dev loss: 0.7218929961323738\n"
     ]
    },
    {
     "data": {
      "application/vnd.jupyter.widget-view+json": {
       "model_id": "ec0be574944b44ad802855289067b8a2",
       "version_major": 2,
       "version_minor": 0
      },
      "text/plain": [
       "HBox(children=(IntProgress(value=0, description='Training iteration', max=89, style=ProgressStyle(description_…"
      ]
     },
     "metadata": {},
     "output_type": "display_data"
    },
    {
     "name": "stdout",
     "output_type": "stream",
     "text": [
      "\n"
     ]
    },
    {
     "data": {
      "application/vnd.jupyter.widget-view+json": {
       "model_id": "81e38379c0424538b41e1d9a21cd907a",
       "version_major": 2,
       "version_minor": 0
      },
      "text/plain": [
       "HBox(children=(IntProgress(value=0, description='Evaluation iteration', max=30, style=ProgressStyle(descriptio…"
      ]
     },
     "metadata": {},
     "output_type": "display_data"
    },
    {
     "name": "stderr",
     "output_type": "stream",
     "text": [
      "\r",
      "Epoch:  27%|██▋       | 27/100 [09:29<25:25, 20.90s/it]"
     ]
    },
    {
     "name": "stdout",
     "output_type": "stream",
     "text": [
      "\n",
      "Loss history: [3.134772276878357, 2.8173413276672363, 2.4336111227671307, 2.0716185569763184, 1.7996585289637248, 1.5348845144112906, 1.3654666105906168, 1.2328002472718558, 1.1408678909142813, 1.0778270542621613, 1.000143470366796, 0.9588430921236674, 0.9254135469595591, 0.8678344517946244, 0.8399032185475032, 0.8395592356721561, 0.8383056263128916, 0.7866982777913412, 0.7659640570481618, 0.7529143343369166, 0.7375924408435821, 0.7371853212515513, 0.7232259918625156, 0.7198773210247358, 0.7129932448267937, 0.7218929961323738]\n",
      "Dev loss: 0.7155647099018096\n"
     ]
    },
    {
     "data": {
      "application/vnd.jupyter.widget-view+json": {
       "model_id": "6c09de3d08ba4f28a836550e96be21f6",
       "version_major": 2,
       "version_minor": 0
      },
      "text/plain": [
       "HBox(children=(IntProgress(value=0, description='Training iteration', max=89, style=ProgressStyle(description_…"
      ]
     },
     "metadata": {},
     "output_type": "display_data"
    },
    {
     "name": "stdout",
     "output_type": "stream",
     "text": [
      "\n"
     ]
    },
    {
     "data": {
      "application/vnd.jupyter.widget-view+json": {
       "model_id": "e6ab1cd6db8d41e1b9086ca074f9745d",
       "version_major": 2,
       "version_minor": 0
      },
      "text/plain": [
       "HBox(children=(IntProgress(value=0, description='Evaluation iteration', max=30, style=ProgressStyle(descriptio…"
      ]
     },
     "metadata": {},
     "output_type": "display_data"
    },
    {
     "name": "stdout",
     "output_type": "stream",
     "text": [
      "\n",
      "Loss history: [3.134772276878357, 2.8173413276672363, 2.4336111227671307, 2.0716185569763184, 1.7996585289637248, 1.5348845144112906, 1.3654666105906168, 1.2328002472718558, 1.1408678909142813, 1.0778270542621613, 1.000143470366796, 0.9588430921236674, 0.9254135469595591, 0.8678344517946244, 0.8399032185475032, 0.8395592356721561, 0.8383056263128916, 0.7866982777913412, 0.7659640570481618, 0.7529143343369166, 0.7375924408435821, 0.7371853212515513, 0.7232259918625156, 0.7198773210247358, 0.7129932448267937, 0.7218929961323738, 0.7155647099018096]\n",
      "Dev loss: 0.6994019741813342\n"
     ]
    },
    {
     "name": "stderr",
     "output_type": "stream",
     "text": [
      "\r",
      "Epoch:  28%|██▊       | 28/100 [09:50<25:10, 20.97s/it]"
     ]
    },
    {
     "data": {
      "application/vnd.jupyter.widget-view+json": {
       "model_id": "d34ccea851074050a716d81a0c6bb8e9",
       "version_major": 2,
       "version_minor": 0
      },
      "text/plain": [
       "HBox(children=(IntProgress(value=0, description='Training iteration', max=89, style=ProgressStyle(description_…"
      ]
     },
     "metadata": {},
     "output_type": "display_data"
    },
    {
     "name": "stdout",
     "output_type": "stream",
     "text": [
      "\n"
     ]
    },
    {
     "data": {
      "application/vnd.jupyter.widget-view+json": {
       "model_id": "434e08d2db5a4502b9e23899a2c281b3",
       "version_major": 2,
       "version_minor": 0
      },
      "text/plain": [
       "HBox(children=(IntProgress(value=0, description='Evaluation iteration', max=30, style=ProgressStyle(descriptio…"
      ]
     },
     "metadata": {},
     "output_type": "display_data"
    },
    {
     "name": "stderr",
     "output_type": "stream",
     "text": [
      "\r",
      "Epoch:  29%|██▉       | 29/100 [10:11<24:42, 20.89s/it]"
     ]
    },
    {
     "name": "stdout",
     "output_type": "stream",
     "text": [
      "\n",
      "Loss history: [3.134772276878357, 2.8173413276672363, 2.4336111227671307, 2.0716185569763184, 1.7996585289637248, 1.5348845144112906, 1.3654666105906168, 1.2328002472718558, 1.1408678909142813, 1.0778270542621613, 1.000143470366796, 0.9588430921236674, 0.9254135469595591, 0.8678344517946244, 0.8399032185475032, 0.8395592356721561, 0.8383056263128916, 0.7866982777913412, 0.7659640570481618, 0.7529143343369166, 0.7375924408435821, 0.7371853212515513, 0.7232259918625156, 0.7198773210247358, 0.7129932448267937, 0.7218929961323738, 0.7155647099018096, 0.6994019741813342]\n",
      "Dev loss: 0.7622968941926956\n"
     ]
    },
    {
     "data": {
      "application/vnd.jupyter.widget-view+json": {
       "model_id": "6102234c357547c7a9424a318ef6c033",
       "version_major": 2,
       "version_minor": 0
      },
      "text/plain": [
       "HBox(children=(IntProgress(value=0, description='Training iteration', max=89, style=ProgressStyle(description_…"
      ]
     },
     "metadata": {},
     "output_type": "display_data"
    },
    {
     "name": "stdout",
     "output_type": "stream",
     "text": [
      "\n"
     ]
    },
    {
     "data": {
      "application/vnd.jupyter.widget-view+json": {
       "model_id": "e4084301a9f14e459a948ade6e7778c7",
       "version_major": 2,
       "version_minor": 0
      },
      "text/plain": [
       "HBox(children=(IntProgress(value=0, description='Evaluation iteration', max=30, style=ProgressStyle(descriptio…"
      ]
     },
     "metadata": {},
     "output_type": "display_data"
    },
    {
     "name": "stderr",
     "output_type": "stream",
     "text": [
      "\r",
      "Epoch:  30%|███       | 30/100 [10:31<24:17, 20.82s/it]"
     ]
    },
    {
     "name": "stdout",
     "output_type": "stream",
     "text": [
      "\n",
      "Loss history: [3.134772276878357, 2.8173413276672363, 2.4336111227671307, 2.0716185569763184, 1.7996585289637248, 1.5348845144112906, 1.3654666105906168, 1.2328002472718558, 1.1408678909142813, 1.0778270542621613, 1.000143470366796, 0.9588430921236674, 0.9254135469595591, 0.8678344517946244, 0.8399032185475032, 0.8395592356721561, 0.8383056263128916, 0.7866982777913412, 0.7659640570481618, 0.7529143343369166, 0.7375924408435821, 0.7371853212515513, 0.7232259918625156, 0.7198773210247358, 0.7129932448267937, 0.7218929961323738, 0.7155647099018096, 0.6994019741813342, 0.7622968941926956]\n",
      "Dev loss: 0.7025269110997517\n"
     ]
    },
    {
     "data": {
      "application/vnd.jupyter.widget-view+json": {
       "model_id": "d9322dc071f3404283a80133fc5fd0cf",
       "version_major": 2,
       "version_minor": 0
      },
      "text/plain": [
       "HBox(children=(IntProgress(value=0, description='Training iteration', max=89, style=ProgressStyle(description_…"
      ]
     },
     "metadata": {},
     "output_type": "display_data"
    },
    {
     "name": "stdout",
     "output_type": "stream",
     "text": [
      "\n"
     ]
    },
    {
     "data": {
      "application/vnd.jupyter.widget-view+json": {
       "model_id": "c2290bcceb4247b79f235c66a1592d61",
       "version_major": 2,
       "version_minor": 0
      },
      "text/plain": [
       "HBox(children=(IntProgress(value=0, description='Evaluation iteration', max=30, style=ProgressStyle(descriptio…"
      ]
     },
     "metadata": {},
     "output_type": "display_data"
    },
    {
     "name": "stderr",
     "output_type": "stream",
     "text": [
      "\r",
      "Epoch:  31%|███       | 31/100 [10:52<23:54, 20.78s/it]"
     ]
    },
    {
     "name": "stdout",
     "output_type": "stream",
     "text": [
      "\n",
      "Loss history: [3.134772276878357, 2.8173413276672363, 2.4336111227671307, 2.0716185569763184, 1.7996585289637248, 1.5348845144112906, 1.3654666105906168, 1.2328002472718558, 1.1408678909142813, 1.0778270542621613, 1.000143470366796, 0.9588430921236674, 0.9254135469595591, 0.8678344517946244, 0.8399032185475032, 0.8395592356721561, 0.8383056263128916, 0.7866982777913412, 0.7659640570481618, 0.7529143343369166, 0.7375924408435821, 0.7371853212515513, 0.7232259918625156, 0.7198773210247358, 0.7129932448267937, 0.7218929961323738, 0.7155647099018096, 0.6994019741813342, 0.7622968941926956, 0.7025269110997517]\n",
      "Dev loss: 0.708948037525018\n"
     ]
    },
    {
     "data": {
      "application/vnd.jupyter.widget-view+json": {
       "model_id": "d768fef0196a4df9a8704ba4f9d4fd3e",
       "version_major": 2,
       "version_minor": 0
      },
      "text/plain": [
       "HBox(children=(IntProgress(value=0, description='Training iteration', max=89, style=ProgressStyle(description_…"
      ]
     },
     "metadata": {},
     "output_type": "display_data"
    },
    {
     "name": "stdout",
     "output_type": "stream",
     "text": [
      "\n"
     ]
    },
    {
     "data": {
      "application/vnd.jupyter.widget-view+json": {
       "model_id": "b0bf36a4881844329171da10d87404eb",
       "version_major": 2,
       "version_minor": 0
      },
      "text/plain": [
       "HBox(children=(IntProgress(value=0, description='Evaluation iteration', max=30, style=ProgressStyle(descriptio…"
      ]
     },
     "metadata": {},
     "output_type": "display_data"
    },
    {
     "name": "stderr",
     "output_type": "stream",
     "text": [
      "\r",
      "Epoch:  32%|███▏      | 32/100 [11:13<23:31, 20.76s/it]"
     ]
    },
    {
     "name": "stdout",
     "output_type": "stream",
     "text": [
      "\n",
      "Loss history: [3.134772276878357, 2.8173413276672363, 2.4336111227671307, 2.0716185569763184, 1.7996585289637248, 1.5348845144112906, 1.3654666105906168, 1.2328002472718558, 1.1408678909142813, 1.0778270542621613, 1.000143470366796, 0.9588430921236674, 0.9254135469595591, 0.8678344517946244, 0.8399032185475032, 0.8395592356721561, 0.8383056263128916, 0.7866982777913412, 0.7659640570481618, 0.7529143343369166, 0.7375924408435821, 0.7371853212515513, 0.7232259918625156, 0.7198773210247358, 0.7129932448267937, 0.7218929961323738, 0.7155647099018096, 0.6994019741813342, 0.7622968941926956, 0.7025269110997517, 0.708948037525018]\n",
      "Dev loss: 0.6995967134833336\n"
     ]
    },
    {
     "data": {
      "application/vnd.jupyter.widget-view+json": {
       "model_id": "4fadcb2e82944412b259a4bc6488c366",
       "version_major": 2,
       "version_minor": 0
      },
      "text/plain": [
       "HBox(children=(IntProgress(value=0, description='Training iteration', max=89, style=ProgressStyle(description_…"
      ]
     },
     "metadata": {},
     "output_type": "display_data"
    },
    {
     "name": "stdout",
     "output_type": "stream",
     "text": [
      "\n"
     ]
    },
    {
     "data": {
      "application/vnd.jupyter.widget-view+json": {
       "model_id": "498ffd1d44f540bf8d8ab3eefe428e97",
       "version_major": 2,
       "version_minor": 0
      },
      "text/plain": [
       "HBox(children=(IntProgress(value=0, description='Evaluation iteration', max=30, style=ProgressStyle(descriptio…"
      ]
     },
     "metadata": {},
     "output_type": "display_data"
    },
    {
     "name": "stdout",
     "output_type": "stream",
     "text": [
      "\n",
      "Loss history: [3.134772276878357, 2.8173413276672363, 2.4336111227671307, 2.0716185569763184, 1.7996585289637248, 1.5348845144112906, 1.3654666105906168, 1.2328002472718558, 1.1408678909142813, 1.0778270542621613, 1.000143470366796, 0.9588430921236674, 0.9254135469595591, 0.8678344517946244, 0.8399032185475032, 0.8395592356721561, 0.8383056263128916, 0.7866982777913412, 0.7659640570481618, 0.7529143343369166, 0.7375924408435821, 0.7371853212515513, 0.7232259918625156, 0.7198773210247358, 0.7129932448267937, 0.7218929961323738, 0.7155647099018096, 0.6994019741813342, 0.7622968941926956, 0.7025269110997517, 0.708948037525018, 0.6995967134833336]\n",
      "Dev loss: 0.6973910520474116\n"
     ]
    },
    {
     "name": "stderr",
     "output_type": "stream",
     "text": [
      "\r",
      "Epoch:  33%|███▎      | 33/100 [11:34<23:18, 20.87s/it]"
     ]
    },
    {
     "data": {
      "application/vnd.jupyter.widget-view+json": {
       "model_id": "23b5a1a70492499abaf8e61745680329",
       "version_major": 2,
       "version_minor": 0
      },
      "text/plain": [
       "HBox(children=(IntProgress(value=0, description='Training iteration', max=89, style=ProgressStyle(description_…"
      ]
     },
     "metadata": {},
     "output_type": "display_data"
    },
    {
     "name": "stdout",
     "output_type": "stream",
     "text": [
      "\n"
     ]
    },
    {
     "data": {
      "application/vnd.jupyter.widget-view+json": {
       "model_id": "9271391672c6494b9f11b12866b5d826",
       "version_major": 2,
       "version_minor": 0
      },
      "text/plain": [
       "HBox(children=(IntProgress(value=0, description='Evaluation iteration', max=30, style=ProgressStyle(descriptio…"
      ]
     },
     "metadata": {},
     "output_type": "display_data"
    },
    {
     "name": "stdout",
     "output_type": "stream",
     "text": [
      "\n",
      "Loss history: [3.134772276878357, 2.8173413276672363, 2.4336111227671307, 2.0716185569763184, 1.7996585289637248, 1.5348845144112906, 1.3654666105906168, 1.2328002472718558, 1.1408678909142813, 1.0778270542621613, 1.000143470366796, 0.9588430921236674, 0.9254135469595591, 0.8678344517946244, 0.8399032185475032, 0.8395592356721561, 0.8383056263128916, 0.7866982777913412, 0.7659640570481618, 0.7529143343369166, 0.7375924408435821, 0.7371853212515513, 0.7232259918625156, 0.7198773210247358, 0.7129932448267937, 0.7218929961323738, 0.7155647099018096, 0.6994019741813342, 0.7622968941926956, 0.7025269110997517, 0.708948037525018, 0.6995967134833336, 0.6973910520474116]\n",
      "Dev loss: 0.6869064050416152\n"
     ]
    },
    {
     "name": "stderr",
     "output_type": "stream",
     "text": [
      "\r",
      "Epoch:  34%|███▍      | 34/100 [11:55<23:02, 20.95s/it]"
     ]
    },
    {
     "data": {
      "application/vnd.jupyter.widget-view+json": {
       "model_id": "ad566634fd7343dca1bfba439f4b5cf0",
       "version_major": 2,
       "version_minor": 0
      },
      "text/plain": [
       "HBox(children=(IntProgress(value=0, description='Training iteration', max=89, style=ProgressStyle(description_…"
      ]
     },
     "metadata": {},
     "output_type": "display_data"
    },
    {
     "name": "stdout",
     "output_type": "stream",
     "text": [
      "\n"
     ]
    },
    {
     "data": {
      "application/vnd.jupyter.widget-view+json": {
       "model_id": "8616383188794a1fa0109319dea6a6af",
       "version_major": 2,
       "version_minor": 0
      },
      "text/plain": [
       "HBox(children=(IntProgress(value=0, description='Evaluation iteration', max=30, style=ProgressStyle(descriptio…"
      ]
     },
     "metadata": {},
     "output_type": "display_data"
    },
    {
     "name": "stderr",
     "output_type": "stream",
     "text": [
      "\r",
      "Epoch:  35%|███▌      | 35/100 [12:16<22:36, 20.87s/it]"
     ]
    },
    {
     "name": "stdout",
     "output_type": "stream",
     "text": [
      "\n",
      "Loss history: [3.134772276878357, 2.8173413276672363, 2.4336111227671307, 2.0716185569763184, 1.7996585289637248, 1.5348845144112906, 1.3654666105906168, 1.2328002472718558, 1.1408678909142813, 1.0778270542621613, 1.000143470366796, 0.9588430921236674, 0.9254135469595591, 0.8678344517946244, 0.8399032185475032, 0.8395592356721561, 0.8383056263128916, 0.7866982777913412, 0.7659640570481618, 0.7529143343369166, 0.7375924408435821, 0.7371853212515513, 0.7232259918625156, 0.7198773210247358, 0.7129932448267937, 0.7218929961323738, 0.7155647099018096, 0.6994019741813342, 0.7622968941926956, 0.7025269110997517, 0.708948037525018, 0.6995967134833336, 0.6973910520474116, 0.6869064050416152]\n",
      "Dev loss: 0.6895262313385805\n"
     ]
    },
    {
     "data": {
      "application/vnd.jupyter.widget-view+json": {
       "model_id": "002c48ba25a8490391c7304c9bd021e7",
       "version_major": 2,
       "version_minor": 0
      },
      "text/plain": [
       "HBox(children=(IntProgress(value=0, description='Training iteration', max=89, style=ProgressStyle(description_…"
      ]
     },
     "metadata": {},
     "output_type": "display_data"
    },
    {
     "name": "stdout",
     "output_type": "stream",
     "text": [
      "\n"
     ]
    },
    {
     "data": {
      "application/vnd.jupyter.widget-view+json": {
       "model_id": "803714863cc44079a5b4592032b5be3e",
       "version_major": 2,
       "version_minor": 0
      },
      "text/plain": [
       "HBox(children=(IntProgress(value=0, description='Evaluation iteration', max=30, style=ProgressStyle(descriptio…"
      ]
     },
     "metadata": {},
     "output_type": "display_data"
    },
    {
     "name": "stderr",
     "output_type": "stream",
     "text": [
      "\r",
      "Epoch:  36%|███▌      | 36/100 [12:36<22:11, 20.81s/it]"
     ]
    },
    {
     "name": "stdout",
     "output_type": "stream",
     "text": [
      "\n",
      "Loss history: [3.134772276878357, 2.8173413276672363, 2.4336111227671307, 2.0716185569763184, 1.7996585289637248, 1.5348845144112906, 1.3654666105906168, 1.2328002472718558, 1.1408678909142813, 1.0778270542621613, 1.000143470366796, 0.9588430921236674, 0.9254135469595591, 0.8678344517946244, 0.8399032185475032, 0.8395592356721561, 0.8383056263128916, 0.7866982777913412, 0.7659640570481618, 0.7529143343369166, 0.7375924408435821, 0.7371853212515513, 0.7232259918625156, 0.7198773210247358, 0.7129932448267937, 0.7218929961323738, 0.7155647099018096, 0.6994019741813342, 0.7622968941926956, 0.7025269110997517, 0.708948037525018, 0.6995967134833336, 0.6973910520474116, 0.6869064050416152, 0.6895262313385805]\n",
      "Dev loss: 0.709361732006073\n"
     ]
    },
    {
     "data": {
      "application/vnd.jupyter.widget-view+json": {
       "model_id": "368e8197f1864d31b49f12062ce435e1",
       "version_major": 2,
       "version_minor": 0
      },
      "text/plain": [
       "HBox(children=(IntProgress(value=0, description='Training iteration', max=89, style=ProgressStyle(description_…"
      ]
     },
     "metadata": {},
     "output_type": "display_data"
    },
    {
     "name": "stdout",
     "output_type": "stream",
     "text": [
      "\n"
     ]
    },
    {
     "data": {
      "application/vnd.jupyter.widget-view+json": {
       "model_id": "78061c101b054410b923f91e7def445d",
       "version_major": 2,
       "version_minor": 0
      },
      "text/plain": [
       "HBox(children=(IntProgress(value=0, description='Evaluation iteration', max=30, style=ProgressStyle(descriptio…"
      ]
     },
     "metadata": {},
     "output_type": "display_data"
    },
    {
     "name": "stderr",
     "output_type": "stream",
     "text": [
      "\r",
      "Epoch:  37%|███▋      | 37/100 [12:57<21:48, 20.77s/it]"
     ]
    },
    {
     "name": "stdout",
     "output_type": "stream",
     "text": [
      "\n",
      "Loss history: [3.134772276878357, 2.8173413276672363, 2.4336111227671307, 2.0716185569763184, 1.7996585289637248, 1.5348845144112906, 1.3654666105906168, 1.2328002472718558, 1.1408678909142813, 1.0778270542621613, 1.000143470366796, 0.9588430921236674, 0.9254135469595591, 0.8678344517946244, 0.8399032185475032, 0.8395592356721561, 0.8383056263128916, 0.7866982777913412, 0.7659640570481618, 0.7529143343369166, 0.7375924408435821, 0.7371853212515513, 0.7232259918625156, 0.7198773210247358, 0.7129932448267937, 0.7218929961323738, 0.7155647099018096, 0.6994019741813342, 0.7622968941926956, 0.7025269110997517, 0.708948037525018, 0.6995967134833336, 0.6973910520474116, 0.6869064050416152, 0.6895262313385805, 0.709361732006073]\n",
      "Dev loss: 0.709451875090599\n"
     ]
    },
    {
     "data": {
      "application/vnd.jupyter.widget-view+json": {
       "model_id": "37203d01291a42efbff4409315692e58",
       "version_major": 2,
       "version_minor": 0
      },
      "text/plain": [
       "HBox(children=(IntProgress(value=0, description='Training iteration', max=89, style=ProgressStyle(description_…"
      ]
     },
     "metadata": {},
     "output_type": "display_data"
    },
    {
     "name": "stdout",
     "output_type": "stream",
     "text": [
      "\n"
     ]
    },
    {
     "data": {
      "application/vnd.jupyter.widget-view+json": {
       "model_id": "5473151cc58b468cabcfcaf6fcc33b88",
       "version_major": 2,
       "version_minor": 0
      },
      "text/plain": [
       "HBox(children=(IntProgress(value=0, description='Evaluation iteration', max=30, style=ProgressStyle(descriptio…"
      ]
     },
     "metadata": {},
     "output_type": "display_data"
    },
    {
     "name": "stderr",
     "output_type": "stream",
     "text": [
      "\r",
      "Epoch:  38%|███▊      | 38/100 [13:18<21:26, 20.74s/it]"
     ]
    },
    {
     "name": "stdout",
     "output_type": "stream",
     "text": [
      "\n",
      "Loss history: [3.134772276878357, 2.8173413276672363, 2.4336111227671307, 2.0716185569763184, 1.7996585289637248, 1.5348845144112906, 1.3654666105906168, 1.2328002472718558, 1.1408678909142813, 1.0778270542621613, 1.000143470366796, 0.9588430921236674, 0.9254135469595591, 0.8678344517946244, 0.8399032185475032, 0.8395592356721561, 0.8383056263128916, 0.7866982777913412, 0.7659640570481618, 0.7529143343369166, 0.7375924408435821, 0.7371853212515513, 0.7232259918625156, 0.7198773210247358, 0.7129932448267937, 0.7218929961323738, 0.7155647099018096, 0.6994019741813342, 0.7622968941926956, 0.7025269110997517, 0.708948037525018, 0.6995967134833336, 0.6973910520474116, 0.6869064050416152, 0.6895262313385805, 0.709361732006073, 0.709451875090599]\n",
      "Dev loss: 0.7271672228972117\n"
     ]
    },
    {
     "data": {
      "application/vnd.jupyter.widget-view+json": {
       "model_id": "2bd8431cd7754c34be46bb382104e6ea",
       "version_major": 2,
       "version_minor": 0
      },
      "text/plain": [
       "HBox(children=(IntProgress(value=0, description='Training iteration', max=89, style=ProgressStyle(description_…"
      ]
     },
     "metadata": {},
     "output_type": "display_data"
    },
    {
     "name": "stdout",
     "output_type": "stream",
     "text": [
      "\n"
     ]
    },
    {
     "data": {
      "application/vnd.jupyter.widget-view+json": {
       "model_id": "dc4d394788ed4a32825ea2782f57fea5",
       "version_major": 2,
       "version_minor": 0
      },
      "text/plain": [
       "HBox(children=(IntProgress(value=0, description='Evaluation iteration', max=30, style=ProgressStyle(descriptio…"
      ]
     },
     "metadata": {},
     "output_type": "display_data"
    },
    {
     "name": "stdout",
     "output_type": "stream",
     "text": [
      "\n",
      "Loss history: [3.134772276878357, 2.8173413276672363, 2.4336111227671307, 2.0716185569763184, 1.7996585289637248, 1.5348845144112906, 1.3654666105906168, 1.2328002472718558, 1.1408678909142813, 1.0778270542621613, 1.000143470366796, 0.9588430921236674, 0.9254135469595591, 0.8678344517946244, 0.8399032185475032, 0.8395592356721561, 0.8383056263128916, 0.7866982777913412, 0.7659640570481618, 0.7529143343369166, 0.7375924408435821, 0.7371853212515513, 0.7232259918625156, 0.7198773210247358, 0.7129932448267937, 0.7218929961323738, 0.7155647099018096, 0.6994019741813342, 0.7622968941926956, 0.7025269110997517, 0.708948037525018, 0.6995967134833336, 0.6973910520474116, 0.6869064050416152, 0.6895262313385805, 0.709361732006073, 0.709451875090599, 0.7271672228972117]\n",
      "Dev loss: 0.760326394935449\n",
      "No improvement on development set. Finish training.\n",
      "Loading model from /tmp/model.bin\n"
     ]
    },
    {
     "name": "stderr",
     "output_type": "stream",
     "text": [
      "I0406 18:14:10.303222 140397457205056 configuration_utils.py:256] loading configuration file https://s3.amazonaws.com/models.huggingface.co/bert/bert-base-uncased-config.json from cache at /home/yves/.cache/torch/transformers/4dad0251492946e18ac39290fcfe91b89d370fee250efe9521476438fe8ca185.8f56353af4a709bf5ff0fbc915d8f5b42bfff892cbb6ac98c3c45f481a03c685\n",
      "I0406 18:14:10.304512 140397457205056 configuration_utils.py:292] Model config BertConfig {\n",
      "  \"architectures\": [\n",
      "    \"BertForMaskedLM\"\n",
      "  ],\n",
      "  \"attention_probs_dropout_prob\": 0.1,\n",
      "  \"bos_token_id\": null,\n",
      "  \"do_sample\": false,\n",
      "  \"eos_token_ids\": null,\n",
      "  \"finetuning_task\": null,\n",
      "  \"hidden_act\": \"gelu\",\n",
      "  \"hidden_dropout_prob\": 0.1,\n",
      "  \"hidden_size\": 768,\n",
      "  \"id2label\": {\n",
      "    \"0\": \"LABEL_0\",\n",
      "    \"1\": \"LABEL_1\"\n",
      "  },\n",
      "  \"initializer_range\": 0.02,\n",
      "  \"intermediate_size\": 3072,\n",
      "  \"is_decoder\": false,\n",
      "  \"label2id\": {\n",
      "    \"LABEL_0\": 0,\n",
      "    \"LABEL_1\": 1\n",
      "  },\n",
      "  \"layer_norm_eps\": 1e-12,\n",
      "  \"length_penalty\": 1.0,\n",
      "  \"max_length\": 20,\n",
      "  \"max_position_embeddings\": 512,\n",
      "  \"model_type\": \"bert\",\n",
      "  \"num_attention_heads\": 12,\n",
      "  \"num_beams\": 1,\n",
      "  \"num_hidden_layers\": 12,\n",
      "  \"num_labels\": 34,\n",
      "  \"num_return_sequences\": 1,\n",
      "  \"output_attentions\": false,\n",
      "  \"output_hidden_states\": false,\n",
      "  \"output_past\": true,\n",
      "  \"pad_token_id\": null,\n",
      "  \"pruned_heads\": {},\n",
      "  \"repetition_penalty\": 1.0,\n",
      "  \"temperature\": 1.0,\n",
      "  \"top_k\": 50,\n",
      "  \"top_p\": 1.0,\n",
      "  \"torchscript\": false,\n",
      "  \"type_vocab_size\": 2,\n",
      "  \"use_bfloat16\": false,\n",
      "  \"vocab_size\": 30522\n",
      "}\n",
      "\n",
      "I0406 18:14:10.812280 140397457205056 modeling_utils.py:461] loading weights file https://s3.amazonaws.com/models.huggingface.co/bert/bert-base-uncased-pytorch_model.bin from cache at /home/yves/.cache/torch/transformers/aa1ef1aede4482d0dbcd4d52baad8ae300e60902e88fcb0bebdec09afd232066.36ca03ab34a1a5d5fa7bc3d03d55c4fa650fed07220e2eeebc06ce58d0e9a157\n"
     ]
    },
    {
     "data": {
      "application/vnd.jupyter.widget-view+json": {
       "model_id": "5c69605a0b86467796d8d7cf47a9b270",
       "version_major": 2,
       "version_minor": 0
      },
      "text/plain": [
       "HBox(children=(IntProgress(value=0, description='Evaluation iteration', max=30, style=ProgressStyle(descriptio…"
      ]
     },
     "metadata": {},
     "output_type": "display_data"
    },
    {
     "name": "stdout",
     "output_type": "stream",
     "text": [
      "\n"
     ]
    },
    {
     "name": "stderr",
     "output_type": "stream",
     "text": [
      "I0406 18:14:25.246183 140397457205056 configuration_utils.py:256] loading configuration file https://s3.amazonaws.com/models.huggingface.co/bert/bert-base-uncased-config.json from cache at /home/yves/.cache/torch/transformers/4dad0251492946e18ac39290fcfe91b89d370fee250efe9521476438fe8ca185.8f56353af4a709bf5ff0fbc915d8f5b42bfff892cbb6ac98c3c45f481a03c685\n",
      "I0406 18:14:25.247345 140397457205056 configuration_utils.py:292] Model config BertConfig {\n",
      "  \"architectures\": [\n",
      "    \"BertForMaskedLM\"\n",
      "  ],\n",
      "  \"attention_probs_dropout_prob\": 0.1,\n",
      "  \"bos_token_id\": null,\n",
      "  \"do_sample\": false,\n",
      "  \"eos_token_ids\": null,\n",
      "  \"finetuning_task\": null,\n",
      "  \"hidden_act\": \"gelu\",\n",
      "  \"hidden_dropout_prob\": 0.1,\n",
      "  \"hidden_size\": 768,\n",
      "  \"id2label\": {\n",
      "    \"0\": \"LABEL_0\",\n",
      "    \"1\": \"LABEL_1\"\n",
      "  },\n",
      "  \"initializer_range\": 0.02,\n",
      "  \"intermediate_size\": 3072,\n",
      "  \"is_decoder\": false,\n",
      "  \"label2id\": {\n",
      "    \"LABEL_0\": 0,\n",
      "    \"LABEL_1\": 1\n",
      "  },\n",
      "  \"layer_norm_eps\": 1e-12,\n",
      "  \"length_penalty\": 1.0,\n",
      "  \"max_length\": 20,\n",
      "  \"max_position_embeddings\": 512,\n",
      "  \"model_type\": \"bert\",\n",
      "  \"num_attention_heads\": 12,\n",
      "  \"num_beams\": 1,\n",
      "  \"num_hidden_layers\": 12,\n",
      "  \"num_labels\": 34,\n",
      "  \"num_return_sequences\": 1,\n",
      "  \"output_attentions\": false,\n",
      "  \"output_hidden_states\": false,\n",
      "  \"output_past\": true,\n",
      "  \"pad_token_id\": null,\n",
      "  \"pruned_heads\": {},\n",
      "  \"repetition_penalty\": 1.0,\n",
      "  \"temperature\": 1.0,\n",
      "  \"top_k\": 50,\n",
      "  \"top_p\": 1.0,\n",
      "  \"torchscript\": false,\n",
      "  \"type_vocab_size\": 2,\n",
      "  \"use_bfloat16\": false,\n",
      "  \"vocab_size\": 30522\n",
      "}\n",
      "\n",
      "I0406 18:14:25.725491 140397457205056 modeling_utils.py:461] loading weights file https://s3.amazonaws.com/models.huggingface.co/bert/bert-base-uncased-pytorch_model.bin from cache at /home/yves/.cache/torch/transformers/aa1ef1aede4482d0dbcd4d52baad8ae300e60902e88fcb0bebdec09afd232066.36ca03ab34a1a5d5fa7bc3d03d55c4fa650fed07220e2eeebc06ce58d0e9a157\n",
      "I0406 18:14:27.450913 140397457205056 modeling_utils.py:546] Weights of BertForSequenceClassification not initialized from pretrained model: ['classifier.weight', 'classifier.bias']\n",
      "I0406 18:14:27.451620 140397457205056 modeling_utils.py:552] Weights from pretrained model not used in BertForSequenceClassification: ['cls.predictions.bias', 'cls.predictions.transform.dense.weight', 'cls.predictions.transform.dense.bias', 'cls.predictions.decoder.weight', 'cls.seq_relationship.weight', 'cls.seq_relationship.bias', 'cls.predictions.transform.LayerNorm.weight', 'cls.predictions.transform.LayerNorm.bias']\n",
      "\n",
      "Epoch:   0%|          | 0/100 [00:00<?, ?it/s]\u001b[A"
     ]
    },
    {
     "data": {
      "application/vnd.jupyter.widget-view+json": {
       "model_id": "7640b68fea3f439aadcebafad33dff12",
       "version_major": 2,
       "version_minor": 0
      },
      "text/plain": [
       "HBox(children=(IntProgress(value=0, description='Training iteration', max=89, style=ProgressStyle(description_…"
      ]
     },
     "metadata": {},
     "output_type": "display_data"
    },
    {
     "name": "stdout",
     "output_type": "stream",
     "text": [
      "\n"
     ]
    },
    {
     "data": {
      "application/vnd.jupyter.widget-view+json": {
       "model_id": "15ebf74dcf084c2e8ae053bd119461ef",
       "version_major": 2,
       "version_minor": 0
      },
      "text/plain": [
       "HBox(children=(IntProgress(value=0, description='Evaluation iteration', max=30, style=ProgressStyle(descriptio…"
      ]
     },
     "metadata": {},
     "output_type": "display_data"
    },
    {
     "name": "stdout",
     "output_type": "stream",
     "text": [
      "\n",
      "Loss history: []\n",
      "Dev loss: 3.1493136644363404\n"
     ]
    },
    {
     "name": "stderr",
     "output_type": "stream",
     "text": [
      "\n",
      "Epoch:   1%|          | 1/100 [00:21<34:42, 21.03s/it]\u001b[A"
     ]
    },
    {
     "data": {
      "application/vnd.jupyter.widget-view+json": {
       "model_id": "62a1f8f056e44bf0b91a2674158a0d55",
       "version_major": 2,
       "version_minor": 0
      },
      "text/plain": [
       "HBox(children=(IntProgress(value=0, description='Training iteration', max=89, style=ProgressStyle(description_…"
      ]
     },
     "metadata": {},
     "output_type": "display_data"
    },
    {
     "name": "stdout",
     "output_type": "stream",
     "text": [
      "\n"
     ]
    },
    {
     "data": {
      "application/vnd.jupyter.widget-view+json": {
       "model_id": "dfd2590262c24361a909e54a9d651927",
       "version_major": 2,
       "version_minor": 0
      },
      "text/plain": [
       "HBox(children=(IntProgress(value=0, description='Evaluation iteration', max=30, style=ProgressStyle(descriptio…"
      ]
     },
     "metadata": {},
     "output_type": "display_data"
    },
    {
     "name": "stdout",
     "output_type": "stream",
     "text": [
      "\n",
      "Loss history: [3.1493136644363404]\n",
      "Dev loss: 2.6439683278401693\n"
     ]
    },
    {
     "name": "stderr",
     "output_type": "stream",
     "text": [
      "\n",
      "Epoch:   2%|▏         | 2/100 [00:42<34:21, 21.04s/it]\u001b[A"
     ]
    },
    {
     "data": {
      "application/vnd.jupyter.widget-view+json": {
       "model_id": "98b13e9c3c524e9a838decc9bcbc73ce",
       "version_major": 2,
       "version_minor": 0
      },
      "text/plain": [
       "HBox(children=(IntProgress(value=0, description='Training iteration', max=89, style=ProgressStyle(description_…"
      ]
     },
     "metadata": {},
     "output_type": "display_data"
    },
    {
     "name": "stdout",
     "output_type": "stream",
     "text": [
      "\n"
     ]
    },
    {
     "data": {
      "application/vnd.jupyter.widget-view+json": {
       "model_id": "51ccc238f2c94ed29ad6ec4804554205",
       "version_major": 2,
       "version_minor": 0
      },
      "text/plain": [
       "HBox(children=(IntProgress(value=0, description='Evaluation iteration', max=30, style=ProgressStyle(descriptio…"
      ]
     },
     "metadata": {},
     "output_type": "display_data"
    },
    {
     "name": "stdout",
     "output_type": "stream",
     "text": [
      "\n",
      "Loss history: [3.1493136644363404, 2.6439683278401693]\n",
      "Dev loss: 2.2259405652681985\n"
     ]
    },
    {
     "name": "stderr",
     "output_type": "stream",
     "text": [
      "\n",
      "Epoch:   3%|▎         | 3/100 [01:03<34:01, 21.05s/it]\u001b[A"
     ]
    },
    {
     "data": {
      "application/vnd.jupyter.widget-view+json": {
       "model_id": "f4438d092bea44a6bf9ebe4345ea15ca",
       "version_major": 2,
       "version_minor": 0
      },
      "text/plain": [
       "HBox(children=(IntProgress(value=0, description='Training iteration', max=89, style=ProgressStyle(description_…"
      ]
     },
     "metadata": {},
     "output_type": "display_data"
    },
    {
     "name": "stdout",
     "output_type": "stream",
     "text": [
      "\n"
     ]
    },
    {
     "data": {
      "application/vnd.jupyter.widget-view+json": {
       "model_id": "78f3c057030b46fb900909cf1a79ab23",
       "version_major": 2,
       "version_minor": 0
      },
      "text/plain": [
       "HBox(children=(IntProgress(value=0, description='Evaluation iteration', max=30, style=ProgressStyle(descriptio…"
      ]
     },
     "metadata": {},
     "output_type": "display_data"
    },
    {
     "name": "stdout",
     "output_type": "stream",
     "text": [
      "\n",
      "Loss history: [3.1493136644363404, 2.6439683278401693, 2.2259405652681985]\n",
      "Dev loss: 1.8800074418385824\n"
     ]
    },
    {
     "name": "stderr",
     "output_type": "stream",
     "text": [
      "\n",
      "Epoch:   4%|▍         | 4/100 [01:24<33:41, 21.06s/it]\u001b[A"
     ]
    },
    {
     "data": {
      "application/vnd.jupyter.widget-view+json": {
       "model_id": "211f29f4be4840cf806bfb50f85e9b0f",
       "version_major": 2,
       "version_minor": 0
      },
      "text/plain": [
       "HBox(children=(IntProgress(value=0, description='Training iteration', max=89, style=ProgressStyle(description_…"
      ]
     },
     "metadata": {},
     "output_type": "display_data"
    },
    {
     "name": "stdout",
     "output_type": "stream",
     "text": [
      "\n"
     ]
    },
    {
     "data": {
      "application/vnd.jupyter.widget-view+json": {
       "model_id": "cee25af1886b45f9abf089acece24516",
       "version_major": 2,
       "version_minor": 0
      },
      "text/plain": [
       "HBox(children=(IntProgress(value=0, description='Evaluation iteration', max=30, style=ProgressStyle(descriptio…"
      ]
     },
     "metadata": {},
     "output_type": "display_data"
    },
    {
     "name": "stdout",
     "output_type": "stream",
     "text": [
      "\n",
      "Loss history: [3.1493136644363404, 2.6439683278401693, 2.2259405652681985, 1.8800074418385824]\n",
      "Dev loss: 1.631400966644287\n"
     ]
    },
    {
     "name": "stderr",
     "output_type": "stream",
     "text": [
      "\n",
      "Epoch:   5%|▌         | 5/100 [01:45<33:21, 21.07s/it]\u001b[A"
     ]
    },
    {
     "data": {
      "application/vnd.jupyter.widget-view+json": {
       "model_id": "d12da053a67b43ac8bab04509ef1e1e2",
       "version_major": 2,
       "version_minor": 0
      },
      "text/plain": [
       "HBox(children=(IntProgress(value=0, description='Training iteration', max=89, style=ProgressStyle(description_…"
      ]
     },
     "metadata": {},
     "output_type": "display_data"
    },
    {
     "name": "stdout",
     "output_type": "stream",
     "text": [
      "\n"
     ]
    },
    {
     "data": {
      "application/vnd.jupyter.widget-view+json": {
       "model_id": "8e637b5cf1ab4f5791c7d0a46a4bd3f3",
       "version_major": 2,
       "version_minor": 0
      },
      "text/plain": [
       "HBox(children=(IntProgress(value=0, description='Evaluation iteration', max=30, style=ProgressStyle(descriptio…"
      ]
     },
     "metadata": {},
     "output_type": "display_data"
    },
    {
     "name": "stdout",
     "output_type": "stream",
     "text": [
      "\n",
      "Loss history: [3.1493136644363404, 2.6439683278401693, 2.2259405652681985, 1.8800074418385824, 1.631400966644287]\n",
      "Dev loss: 1.410132739941279\n"
     ]
    },
    {
     "name": "stderr",
     "output_type": "stream",
     "text": [
      "\n",
      "Epoch:   6%|▌         | 6/100 [02:06<33:02, 21.09s/it]\u001b[A"
     ]
    },
    {
     "data": {
      "application/vnd.jupyter.widget-view+json": {
       "model_id": "44bc9becb73243f5b3109960c1bb90eb",
       "version_major": 2,
       "version_minor": 0
      },
      "text/plain": [
       "HBox(children=(IntProgress(value=0, description='Training iteration', max=89, style=ProgressStyle(description_…"
      ]
     },
     "metadata": {},
     "output_type": "display_data"
    },
    {
     "name": "stdout",
     "output_type": "stream",
     "text": [
      "\n"
     ]
    },
    {
     "data": {
      "application/vnd.jupyter.widget-view+json": {
       "model_id": "b5921b9af8de4243b0ca5c5c9e967b57",
       "version_major": 2,
       "version_minor": 0
      },
      "text/plain": [
       "HBox(children=(IntProgress(value=0, description='Evaluation iteration', max=30, style=ProgressStyle(descriptio…"
      ]
     },
     "metadata": {},
     "output_type": "display_data"
    },
    {
     "name": "stdout",
     "output_type": "stream",
     "text": [
      "\n",
      "Loss history: [3.1493136644363404, 2.6439683278401693, 2.2259405652681985, 1.8800074418385824, 1.631400966644287, 1.410132739941279]\n",
      "Dev loss: 1.2975632945696514\n"
     ]
    },
    {
     "name": "stderr",
     "output_type": "stream",
     "text": [
      "\n",
      "Epoch:   7%|▋         | 7/100 [02:27<32:42, 21.10s/it]\u001b[A"
     ]
    },
    {
     "data": {
      "application/vnd.jupyter.widget-view+json": {
       "model_id": "b7a615ac76eb483e9eb42f3c8ba62b0c",
       "version_major": 2,
       "version_minor": 0
      },
      "text/plain": [
       "HBox(children=(IntProgress(value=0, description='Training iteration', max=89, style=ProgressStyle(description_…"
      ]
     },
     "metadata": {},
     "output_type": "display_data"
    },
    {
     "name": "stdout",
     "output_type": "stream",
     "text": [
      "\n"
     ]
    },
    {
     "data": {
      "application/vnd.jupyter.widget-view+json": {
       "model_id": "6d3add1b9f4b494798b4236d9dc0a87a",
       "version_major": 2,
       "version_minor": 0
      },
      "text/plain": [
       "HBox(children=(IntProgress(value=0, description='Evaluation iteration', max=30, style=ProgressStyle(descriptio…"
      ]
     },
     "metadata": {},
     "output_type": "display_data"
    },
    {
     "name": "stdout",
     "output_type": "stream",
     "text": [
      "\n",
      "Loss history: [3.1493136644363404, 2.6439683278401693, 2.2259405652681985, 1.8800074418385824, 1.631400966644287, 1.410132739941279, 1.2975632945696514]\n",
      "Dev loss: 1.1311195453008016\n"
     ]
    },
    {
     "name": "stderr",
     "output_type": "stream",
     "text": [
      "\n",
      "Epoch:   8%|▊         | 8/100 [02:48<32:22, 21.12s/it]\u001b[A"
     ]
    },
    {
     "data": {
      "application/vnd.jupyter.widget-view+json": {
       "model_id": "2779b55a67b34081b9c47b5fd7919c0f",
       "version_major": 2,
       "version_minor": 0
      },
      "text/plain": [
       "HBox(children=(IntProgress(value=0, description='Training iteration', max=89, style=ProgressStyle(description_…"
      ]
     },
     "metadata": {},
     "output_type": "display_data"
    },
    {
     "name": "stdout",
     "output_type": "stream",
     "text": [
      "\n"
     ]
    },
    {
     "data": {
      "application/vnd.jupyter.widget-view+json": {
       "model_id": "76a87b53788748209cf1900fb13d0c52",
       "version_major": 2,
       "version_minor": 0
      },
      "text/plain": [
       "HBox(children=(IntProgress(value=0, description='Evaluation iteration', max=30, style=ProgressStyle(descriptio…"
      ]
     },
     "metadata": {},
     "output_type": "display_data"
    },
    {
     "name": "stdout",
     "output_type": "stream",
     "text": [
      "\n",
      "Loss history: [3.1493136644363404, 2.6439683278401693, 2.2259405652681985, 1.8800074418385824, 1.631400966644287, 1.410132739941279, 1.2975632945696514, 1.1311195453008016]\n",
      "Dev loss: 1.1064495394627254\n"
     ]
    },
    {
     "name": "stderr",
     "output_type": "stream",
     "text": [
      "\n",
      "Epoch:   9%|▉         | 9/100 [03:09<32:02, 21.12s/it]\u001b[A"
     ]
    },
    {
     "data": {
      "application/vnd.jupyter.widget-view+json": {
       "model_id": "451860650a0b421681da3a06c91a654e",
       "version_major": 2,
       "version_minor": 0
      },
      "text/plain": [
       "HBox(children=(IntProgress(value=0, description='Training iteration', max=89, style=ProgressStyle(description_…"
      ]
     },
     "metadata": {},
     "output_type": "display_data"
    },
    {
     "name": "stdout",
     "output_type": "stream",
     "text": [
      "\n"
     ]
    },
    {
     "data": {
      "application/vnd.jupyter.widget-view+json": {
       "model_id": "519a274e00b441e389116b5fbdefbdf7",
       "version_major": 2,
       "version_minor": 0
      },
      "text/plain": [
       "HBox(children=(IntProgress(value=0, description='Evaluation iteration', max=30, style=ProgressStyle(descriptio…"
      ]
     },
     "metadata": {},
     "output_type": "display_data"
    },
    {
     "name": "stdout",
     "output_type": "stream",
     "text": [
      "\n",
      "Loss history: [3.1493136644363404, 2.6439683278401693, 2.2259405652681985, 1.8800074418385824, 1.631400966644287, 1.410132739941279, 1.2975632945696514, 1.1311195453008016, 1.1064495394627254]\n",
      "Dev loss: 0.9857797712087631\n"
     ]
    },
    {
     "name": "stderr",
     "output_type": "stream",
     "text": [
      "\n",
      "Epoch:  10%|█         | 10/100 [03:31<31:41, 21.13s/it]\u001b[A"
     ]
    },
    {
     "data": {
      "application/vnd.jupyter.widget-view+json": {
       "model_id": "7d7d496e7c424f94a39577e68e82c6da",
       "version_major": 2,
       "version_minor": 0
      },
      "text/plain": [
       "HBox(children=(IntProgress(value=0, description='Training iteration', max=89, style=ProgressStyle(description_…"
      ]
     },
     "metadata": {},
     "output_type": "display_data"
    },
    {
     "name": "stdout",
     "output_type": "stream",
     "text": [
      "\n"
     ]
    },
    {
     "data": {
      "application/vnd.jupyter.widget-view+json": {
       "model_id": "7867b7eb43a441b1a3644d4baf528e43",
       "version_major": 2,
       "version_minor": 0
      },
      "text/plain": [
       "HBox(children=(IntProgress(value=0, description='Evaluation iteration', max=30, style=ProgressStyle(descriptio…"
      ]
     },
     "metadata": {},
     "output_type": "display_data"
    },
    {
     "name": "stdout",
     "output_type": "stream",
     "text": [
      "\n",
      "Loss history: [3.1493136644363404, 2.6439683278401693, 2.2259405652681985, 1.8800074418385824, 1.631400966644287, 1.410132739941279, 1.2975632945696514, 1.1311195453008016, 1.1064495394627254, 0.9857797712087631]\n",
      "Dev loss: 0.9509927789370219\n"
     ]
    },
    {
     "name": "stderr",
     "output_type": "stream",
     "text": [
      "\n",
      "Epoch:  11%|█         | 11/100 [03:52<31:20, 21.13s/it]\u001b[A"
     ]
    },
    {
     "data": {
      "application/vnd.jupyter.widget-view+json": {
       "model_id": "4edb64eb8b8b4423b615050578873879",
       "version_major": 2,
       "version_minor": 0
      },
      "text/plain": [
       "HBox(children=(IntProgress(value=0, description='Training iteration', max=89, style=ProgressStyle(description_…"
      ]
     },
     "metadata": {},
     "output_type": "display_data"
    },
    {
     "name": "stdout",
     "output_type": "stream",
     "text": [
      "\n"
     ]
    },
    {
     "data": {
      "application/vnd.jupyter.widget-view+json": {
       "model_id": "f295c64a5f98488dac0cab00e70f61b7",
       "version_major": 2,
       "version_minor": 0
      },
      "text/plain": [
       "HBox(children=(IntProgress(value=0, description='Evaluation iteration', max=30, style=ProgressStyle(descriptio…"
      ]
     },
     "metadata": {},
     "output_type": "display_data"
    },
    {
     "name": "stdout",
     "output_type": "stream",
     "text": [
      "\n",
      "Loss history: [3.1493136644363404, 2.6439683278401693, 2.2259405652681985, 1.8800074418385824, 1.631400966644287, 1.410132739941279, 1.2975632945696514, 1.1311195453008016, 1.1064495394627254, 0.9857797712087631, 0.9509927789370219]\n",
      "Dev loss: 0.8965358873208363\n"
     ]
    },
    {
     "name": "stderr",
     "output_type": "stream",
     "text": [
      "\n",
      "Epoch:  12%|█▏        | 12/100 [04:13<30:59, 21.13s/it]\u001b[A"
     ]
    },
    {
     "data": {
      "application/vnd.jupyter.widget-view+json": {
       "model_id": "3d8f6ddbab7c413897c324ed1c5b08af",
       "version_major": 2,
       "version_minor": 0
      },
      "text/plain": [
       "HBox(children=(IntProgress(value=0, description='Training iteration', max=89, style=ProgressStyle(description_…"
      ]
     },
     "metadata": {},
     "output_type": "display_data"
    },
    {
     "name": "stdout",
     "output_type": "stream",
     "text": [
      "\n"
     ]
    },
    {
     "data": {
      "application/vnd.jupyter.widget-view+json": {
       "model_id": "30e2575e9eb2499d828a8d7578656b83",
       "version_major": 2,
       "version_minor": 0
      },
      "text/plain": [
       "HBox(children=(IntProgress(value=0, description='Evaluation iteration', max=30, style=ProgressStyle(descriptio…"
      ]
     },
     "metadata": {},
     "output_type": "display_data"
    },
    {
     "name": "stderr",
     "output_type": "stream",
     "text": [
      "\n",
      "Epoch:  13%|█▎        | 13/100 [04:33<30:26, 21.00s/it]\u001b[A"
     ]
    },
    {
     "name": "stdout",
     "output_type": "stream",
     "text": [
      "\n",
      "Loss history: [3.1493136644363404, 2.6439683278401693, 2.2259405652681985, 1.8800074418385824, 1.631400966644287, 1.410132739941279, 1.2975632945696514, 1.1311195453008016, 1.1064495394627254, 0.9857797712087631, 0.9509927789370219, 0.8965358873208363]\n",
      "Dev loss: 0.9040395647287369\n"
     ]
    },
    {
     "data": {
      "application/vnd.jupyter.widget-view+json": {
       "model_id": "f3006146572246e8a80fae9a114250bc",
       "version_major": 2,
       "version_minor": 0
      },
      "text/plain": [
       "HBox(children=(IntProgress(value=0, description='Training iteration', max=89, style=ProgressStyle(description_…"
      ]
     },
     "metadata": {},
     "output_type": "display_data"
    },
    {
     "name": "stdout",
     "output_type": "stream",
     "text": [
      "\n"
     ]
    },
    {
     "data": {
      "application/vnd.jupyter.widget-view+json": {
       "model_id": "763e856464ec4e68b49e1a8cab811a95",
       "version_major": 2,
       "version_minor": 0
      },
      "text/plain": [
       "HBox(children=(IntProgress(value=0, description='Evaluation iteration', max=30, style=ProgressStyle(descriptio…"
      ]
     },
     "metadata": {},
     "output_type": "display_data"
    },
    {
     "name": "stdout",
     "output_type": "stream",
     "text": [
      "\n",
      "Loss history: [3.1493136644363404, 2.6439683278401693, 2.2259405652681985, 1.8800074418385824, 1.631400966644287, 1.410132739941279, 1.2975632945696514, 1.1311195453008016, 1.1064495394627254, 0.9857797712087631, 0.9509927789370219, 0.8965358873208363, 0.9040395647287369]\n",
      "Dev loss: 0.8781829277674357\n"
     ]
    },
    {
     "name": "stderr",
     "output_type": "stream",
     "text": [
      "\n",
      "Epoch:  14%|█▍        | 14/100 [04:55<30:09, 21.04s/it]\u001b[A"
     ]
    },
    {
     "data": {
      "application/vnd.jupyter.widget-view+json": {
       "model_id": "91b14190f8a54c8a8f78959178c1a84d",
       "version_major": 2,
       "version_minor": 0
      },
      "text/plain": [
       "HBox(children=(IntProgress(value=0, description='Training iteration', max=89, style=ProgressStyle(description_…"
      ]
     },
     "metadata": {},
     "output_type": "display_data"
    },
    {
     "name": "stdout",
     "output_type": "stream",
     "text": [
      "\n"
     ]
    },
    {
     "data": {
      "application/vnd.jupyter.widget-view+json": {
       "model_id": "748e71e587ce46b38d2daa9bf48e473e",
       "version_major": 2,
       "version_minor": 0
      },
      "text/plain": [
       "HBox(children=(IntProgress(value=0, description='Evaluation iteration', max=30, style=ProgressStyle(descriptio…"
      ]
     },
     "metadata": {},
     "output_type": "display_data"
    },
    {
     "name": "stdout",
     "output_type": "stream",
     "text": [
      "\n",
      "Loss history: [3.1493136644363404, 2.6439683278401693, 2.2259405652681985, 1.8800074418385824, 1.631400966644287, 1.410132739941279, 1.2975632945696514, 1.1311195453008016, 1.1064495394627254, 0.9857797712087631, 0.9509927789370219, 0.8965358873208363, 0.9040395647287369, 0.8781829277674357]\n",
      "Dev loss: 0.8221222887436549\n"
     ]
    },
    {
     "name": "stderr",
     "output_type": "stream",
     "text": [
      "\n",
      "Epoch:  15%|█▌        | 15/100 [05:16<29:50, 21.07s/it]\u001b[A"
     ]
    },
    {
     "data": {
      "application/vnd.jupyter.widget-view+json": {
       "model_id": "ab6c04fb4c574f32bf663262e0dd7837",
       "version_major": 2,
       "version_minor": 0
      },
      "text/plain": [
       "HBox(children=(IntProgress(value=0, description='Training iteration', max=89, style=ProgressStyle(description_…"
      ]
     },
     "metadata": {},
     "output_type": "display_data"
    },
    {
     "name": "stdout",
     "output_type": "stream",
     "text": [
      "\n"
     ]
    },
    {
     "data": {
      "application/vnd.jupyter.widget-view+json": {
       "model_id": "57310e0ba56549b28f2a19eb5905662b",
       "version_major": 2,
       "version_minor": 0
      },
      "text/plain": [
       "HBox(children=(IntProgress(value=0, description='Evaluation iteration', max=30, style=ProgressStyle(descriptio…"
      ]
     },
     "metadata": {},
     "output_type": "display_data"
    },
    {
     "name": "stdout",
     "output_type": "stream",
     "text": [
      "\n",
      "Loss history: [3.1493136644363404, 2.6439683278401693, 2.2259405652681985, 1.8800074418385824, 1.631400966644287, 1.410132739941279, 1.2975632945696514, 1.1311195453008016, 1.1064495394627254, 0.9857797712087631, 0.9509927789370219, 0.8965358873208363, 0.9040395647287369, 0.8781829277674357, 0.8221222887436549]\n",
      "Dev loss: 0.8082724273204803\n"
     ]
    },
    {
     "name": "stderr",
     "output_type": "stream",
     "text": [
      "\n",
      "Epoch:  16%|█▌        | 16/100 [05:37<29:30, 21.08s/it]\u001b[A"
     ]
    },
    {
     "data": {
      "application/vnd.jupyter.widget-view+json": {
       "model_id": "bf07552674764f0db690c5db51b4727f",
       "version_major": 2,
       "version_minor": 0
      },
      "text/plain": [
       "HBox(children=(IntProgress(value=0, description='Training iteration', max=89, style=ProgressStyle(description_…"
      ]
     },
     "metadata": {},
     "output_type": "display_data"
    },
    {
     "name": "stdout",
     "output_type": "stream",
     "text": [
      "\n"
     ]
    },
    {
     "data": {
      "application/vnd.jupyter.widget-view+json": {
       "model_id": "388540e0bd4d4b118fbcd30ddf274e4a",
       "version_major": 2,
       "version_minor": 0
      },
      "text/plain": [
       "HBox(children=(IntProgress(value=0, description='Evaluation iteration', max=30, style=ProgressStyle(descriptio…"
      ]
     },
     "metadata": {},
     "output_type": "display_data"
    },
    {
     "name": "stderr",
     "output_type": "stream",
     "text": [
      "\n",
      "Epoch:  17%|█▋        | 17/100 [05:58<28:59, 20.96s/it]\u001b[A"
     ]
    },
    {
     "name": "stdout",
     "output_type": "stream",
     "text": [
      "\n",
      "Loss history: [3.1493136644363404, 2.6439683278401693, 2.2259405652681985, 1.8800074418385824, 1.631400966644287, 1.410132739941279, 1.2975632945696514, 1.1311195453008016, 1.1064495394627254, 0.9857797712087631, 0.9509927789370219, 0.8965358873208363, 0.9040395647287369, 0.8781829277674357, 0.8221222887436549, 0.8082724273204803]\n",
      "Dev loss: 0.8254878381888072\n"
     ]
    },
    {
     "data": {
      "application/vnd.jupyter.widget-view+json": {
       "model_id": "9a38a4c1bd3144d887677f37a3992855",
       "version_major": 2,
       "version_minor": 0
      },
      "text/plain": [
       "HBox(children=(IntProgress(value=0, description='Training iteration', max=89, style=ProgressStyle(description_…"
      ]
     },
     "metadata": {},
     "output_type": "display_data"
    },
    {
     "name": "stdout",
     "output_type": "stream",
     "text": [
      "\n"
     ]
    },
    {
     "data": {
      "application/vnd.jupyter.widget-view+json": {
       "model_id": "31ecd3207eb64223b53d4865ff6c33d6",
       "version_major": 2,
       "version_minor": 0
      },
      "text/plain": [
       "HBox(children=(IntProgress(value=0, description='Evaluation iteration', max=30, style=ProgressStyle(descriptio…"
      ]
     },
     "metadata": {},
     "output_type": "display_data"
    },
    {
     "name": "stdout",
     "output_type": "stream",
     "text": [
      "\n",
      "Loss history: [3.1493136644363404, 2.6439683278401693, 2.2259405652681985, 1.8800074418385824, 1.631400966644287, 1.410132739941279, 1.2975632945696514, 1.1311195453008016, 1.1064495394627254, 0.9857797712087631, 0.9509927789370219, 0.8965358873208363, 0.9040395647287369, 0.8781829277674357, 0.8221222887436549, 0.8082724273204803, 0.8254878381888072]\n",
      "Dev loss: 0.8020556211471558\n"
     ]
    },
    {
     "name": "stderr",
     "output_type": "stream",
     "text": [
      "\n",
      "Epoch:  18%|█▊        | 18/100 [06:19<28:42, 21.01s/it]\u001b[A"
     ]
    },
    {
     "data": {
      "application/vnd.jupyter.widget-view+json": {
       "model_id": "aaac7ce12e704a26ae754fcb9aaa36f0",
       "version_major": 2,
       "version_minor": 0
      },
      "text/plain": [
       "HBox(children=(IntProgress(value=0, description='Training iteration', max=89, style=ProgressStyle(description_…"
      ]
     },
     "metadata": {},
     "output_type": "display_data"
    },
    {
     "name": "stdout",
     "output_type": "stream",
     "text": [
      "\n"
     ]
    },
    {
     "data": {
      "application/vnd.jupyter.widget-view+json": {
       "model_id": "514450ebd91e40dd959bff302b93e8a6",
       "version_major": 2,
       "version_minor": 0
      },
      "text/plain": [
       "HBox(children=(IntProgress(value=0, description='Evaluation iteration', max=30, style=ProgressStyle(descriptio…"
      ]
     },
     "metadata": {},
     "output_type": "display_data"
    },
    {
     "name": "stdout",
     "output_type": "stream",
     "text": [
      "\n",
      "Loss history: [3.1493136644363404, 2.6439683278401693, 2.2259405652681985, 1.8800074418385824, 1.631400966644287, 1.410132739941279, 1.2975632945696514, 1.1311195453008016, 1.1064495394627254, 0.9857797712087631, 0.9509927789370219, 0.8965358873208363, 0.9040395647287369, 0.8781829277674357, 0.8221222887436549, 0.8082724273204803, 0.8254878381888072, 0.8020556211471558]\n",
      "Dev loss: 0.8017764161030452\n"
     ]
    },
    {
     "name": "stderr",
     "output_type": "stream",
     "text": [
      "\n",
      "Epoch:  19%|█▉        | 19/100 [06:40<28:24, 21.04s/it]\u001b[A"
     ]
    },
    {
     "data": {
      "application/vnd.jupyter.widget-view+json": {
       "model_id": "a34599f80b814bbca1c591bcd9b27e28",
       "version_major": 2,
       "version_minor": 0
      },
      "text/plain": [
       "HBox(children=(IntProgress(value=0, description='Training iteration', max=89, style=ProgressStyle(description_…"
      ]
     },
     "metadata": {},
     "output_type": "display_data"
    },
    {
     "name": "stdout",
     "output_type": "stream",
     "text": [
      "\n"
     ]
    },
    {
     "data": {
      "application/vnd.jupyter.widget-view+json": {
       "model_id": "3068b19f53ca4ee3935348cb26162ed5",
       "version_major": 2,
       "version_minor": 0
      },
      "text/plain": [
       "HBox(children=(IntProgress(value=0, description='Evaluation iteration', max=30, style=ProgressStyle(descriptio…"
      ]
     },
     "metadata": {},
     "output_type": "display_data"
    },
    {
     "name": "stdout",
     "output_type": "stream",
     "text": [
      "\n",
      "Loss history: [3.1493136644363404, 2.6439683278401693, 2.2259405652681985, 1.8800074418385824, 1.631400966644287, 1.410132739941279, 1.2975632945696514, 1.1311195453008016, 1.1064495394627254, 0.9857797712087631, 0.9509927789370219, 0.8965358873208363, 0.9040395647287369, 0.8781829277674357, 0.8221222887436549, 0.8082724273204803, 0.8254878381888072, 0.8020556211471558, 0.8017764161030452]\n",
      "Dev loss: 0.7919999281565349\n"
     ]
    },
    {
     "name": "stderr",
     "output_type": "stream",
     "text": [
      "\n",
      "Epoch:  20%|██        | 20/100 [07:01<28:05, 21.07s/it]\u001b[A"
     ]
    },
    {
     "data": {
      "application/vnd.jupyter.widget-view+json": {
       "model_id": "261afa9cd7514c31be5a5e9d14265b93",
       "version_major": 2,
       "version_minor": 0
      },
      "text/plain": [
       "HBox(children=(IntProgress(value=0, description='Training iteration', max=89, style=ProgressStyle(description_…"
      ]
     },
     "metadata": {},
     "output_type": "display_data"
    },
    {
     "name": "stdout",
     "output_type": "stream",
     "text": [
      "\n"
     ]
    },
    {
     "data": {
      "application/vnd.jupyter.widget-view+json": {
       "model_id": "fd3a10c8ee794e938b2f114e8e33dde0",
       "version_major": 2,
       "version_minor": 0
      },
      "text/plain": [
       "HBox(children=(IntProgress(value=0, description='Evaluation iteration', max=30, style=ProgressStyle(descriptio…"
      ]
     },
     "metadata": {},
     "output_type": "display_data"
    },
    {
     "name": "stdout",
     "output_type": "stream",
     "text": [
      "\n",
      "Loss history: [3.1493136644363404, 2.6439683278401693, 2.2259405652681985, 1.8800074418385824, 1.631400966644287, 1.410132739941279, 1.2975632945696514, 1.1311195453008016, 1.1064495394627254, 0.9857797712087631, 0.9509927789370219, 0.8965358873208363, 0.9040395647287369, 0.8781829277674357, 0.8221222887436549, 0.8082724273204803, 0.8254878381888072, 0.8020556211471558, 0.8017764161030452, 0.7919999281565349]\n",
      "Dev loss: 0.7748110542694727\n"
     ]
    },
    {
     "name": "stderr",
     "output_type": "stream",
     "text": [
      "\n",
      "Epoch:  21%|██        | 21/100 [07:22<27:45, 21.09s/it]\u001b[A"
     ]
    },
    {
     "data": {
      "application/vnd.jupyter.widget-view+json": {
       "model_id": "8e5009140c3f41808baccef571ecbd8f",
       "version_major": 2,
       "version_minor": 0
      },
      "text/plain": [
       "HBox(children=(IntProgress(value=0, description='Training iteration', max=89, style=ProgressStyle(description_…"
      ]
     },
     "metadata": {},
     "output_type": "display_data"
    },
    {
     "name": "stdout",
     "output_type": "stream",
     "text": [
      "\n"
     ]
    },
    {
     "data": {
      "application/vnd.jupyter.widget-view+json": {
       "model_id": "089be04092724e4894c9d611d2672dce",
       "version_major": 2,
       "version_minor": 0
      },
      "text/plain": [
       "HBox(children=(IntProgress(value=0, description='Evaluation iteration', max=30, style=ProgressStyle(descriptio…"
      ]
     },
     "metadata": {},
     "output_type": "display_data"
    },
    {
     "name": "stderr",
     "output_type": "stream",
     "text": [
      "\n",
      "Epoch:  22%|██▏       | 22/100 [07:43<27:15, 20.97s/it]\u001b[A"
     ]
    },
    {
     "name": "stdout",
     "output_type": "stream",
     "text": [
      "\n",
      "Loss history: [3.1493136644363404, 2.6439683278401693, 2.2259405652681985, 1.8800074418385824, 1.631400966644287, 1.410132739941279, 1.2975632945696514, 1.1311195453008016, 1.1064495394627254, 0.9857797712087631, 0.9509927789370219, 0.8965358873208363, 0.9040395647287369, 0.8781829277674357, 0.8221222887436549, 0.8082724273204803, 0.8254878381888072, 0.8020556211471558, 0.8017764161030452, 0.7919999281565349, 0.7748110542694727]\n",
      "Dev loss: 0.7820528844992319\n"
     ]
    },
    {
     "data": {
      "application/vnd.jupyter.widget-view+json": {
       "model_id": "7e9d555a72dc4d1580e43a6c050cc5d6",
       "version_major": 2,
       "version_minor": 0
      },
      "text/plain": [
       "HBox(children=(IntProgress(value=0, description='Training iteration', max=89, style=ProgressStyle(description_…"
      ]
     },
     "metadata": {},
     "output_type": "display_data"
    },
    {
     "name": "stdout",
     "output_type": "stream",
     "text": [
      "\n"
     ]
    },
    {
     "data": {
      "application/vnd.jupyter.widget-view+json": {
       "model_id": "b4394d1c0f2f44f696f4929a5fc1e683",
       "version_major": 2,
       "version_minor": 0
      },
      "text/plain": [
       "HBox(children=(IntProgress(value=0, description='Evaluation iteration', max=30, style=ProgressStyle(descriptio…"
      ]
     },
     "metadata": {},
     "output_type": "display_data"
    },
    {
     "name": "stderr",
     "output_type": "stream",
     "text": [
      "\n",
      "Epoch:  23%|██▎       | 23/100 [08:03<26:47, 20.88s/it]\u001b[A"
     ]
    },
    {
     "name": "stdout",
     "output_type": "stream",
     "text": [
      "\n",
      "Loss history: [3.1493136644363404, 2.6439683278401693, 2.2259405652681985, 1.8800074418385824, 1.631400966644287, 1.410132739941279, 1.2975632945696514, 1.1311195453008016, 1.1064495394627254, 0.9857797712087631, 0.9509927789370219, 0.8965358873208363, 0.9040395647287369, 0.8781829277674357, 0.8221222887436549, 0.8082724273204803, 0.8254878381888072, 0.8020556211471558, 0.8017764161030452, 0.7919999281565349, 0.7748110542694727, 0.7820528844992319]\n",
      "Dev loss: 0.8020291258891423\n"
     ]
    },
    {
     "data": {
      "application/vnd.jupyter.widget-view+json": {
       "model_id": "97d902d710134fab9853506a8e2fc653",
       "version_major": 2,
       "version_minor": 0
      },
      "text/plain": [
       "HBox(children=(IntProgress(value=0, description='Training iteration', max=89, style=ProgressStyle(description_…"
      ]
     },
     "metadata": {},
     "output_type": "display_data"
    },
    {
     "name": "stdout",
     "output_type": "stream",
     "text": [
      "\n"
     ]
    },
    {
     "data": {
      "application/vnd.jupyter.widget-view+json": {
       "model_id": "f07cf3a5c7ba43c4b37d66c83334831a",
       "version_major": 2,
       "version_minor": 0
      },
      "text/plain": [
       "HBox(children=(IntProgress(value=0, description='Evaluation iteration', max=30, style=ProgressStyle(descriptio…"
      ]
     },
     "metadata": {},
     "output_type": "display_data"
    },
    {
     "name": "stderr",
     "output_type": "stream",
     "text": [
      "\n",
      "Epoch:  24%|██▍       | 24/100 [08:24<26:22, 20.82s/it]\u001b[A"
     ]
    },
    {
     "name": "stdout",
     "output_type": "stream",
     "text": [
      "\n",
      "Loss history: [3.1493136644363404, 2.6439683278401693, 2.2259405652681985, 1.8800074418385824, 1.631400966644287, 1.410132739941279, 1.2975632945696514, 1.1311195453008016, 1.1064495394627254, 0.9857797712087631, 0.9509927789370219, 0.8965358873208363, 0.9040395647287369, 0.8781829277674357, 0.8221222887436549, 0.8082724273204803, 0.8254878381888072, 0.8020556211471558, 0.8017764161030452, 0.7919999281565349, 0.7748110542694727, 0.7820528844992319, 0.8020291258891423]\n",
      "Dev loss: 0.8070658316214879\n"
     ]
    },
    {
     "data": {
      "application/vnd.jupyter.widget-view+json": {
       "model_id": "9cf195b06b774edbb5454c2d4c864ee8",
       "version_major": 2,
       "version_minor": 0
      },
      "text/plain": [
       "HBox(children=(IntProgress(value=0, description='Training iteration', max=89, style=ProgressStyle(description_…"
      ]
     },
     "metadata": {},
     "output_type": "display_data"
    },
    {
     "name": "stdout",
     "output_type": "stream",
     "text": [
      "\n"
     ]
    },
    {
     "data": {
      "application/vnd.jupyter.widget-view+json": {
       "model_id": "8fddbd5c75d649d19d1c50b985e41ab0",
       "version_major": 2,
       "version_minor": 0
      },
      "text/plain": [
       "HBox(children=(IntProgress(value=0, description='Evaluation iteration', max=30, style=ProgressStyle(descriptio…"
      ]
     },
     "metadata": {},
     "output_type": "display_data"
    },
    {
     "name": "stderr",
     "output_type": "stream",
     "text": [
      "\n",
      "Epoch:  25%|██▌       | 25/100 [08:45<25:58, 20.78s/it]\u001b[A"
     ]
    },
    {
     "name": "stdout",
     "output_type": "stream",
     "text": [
      "\n",
      "Loss history: [3.1493136644363404, 2.6439683278401693, 2.2259405652681985, 1.8800074418385824, 1.631400966644287, 1.410132739941279, 1.2975632945696514, 1.1311195453008016, 1.1064495394627254, 0.9857797712087631, 0.9509927789370219, 0.8965358873208363, 0.9040395647287369, 0.8781829277674357, 0.8221222887436549, 0.8082724273204803, 0.8254878381888072, 0.8020556211471558, 0.8017764161030452, 0.7919999281565349, 0.7748110542694727, 0.7820528844992319, 0.8020291258891423, 0.8070658316214879]\n",
      "Dev loss: 0.8202590942382812\n"
     ]
    },
    {
     "data": {
      "application/vnd.jupyter.widget-view+json": {
       "model_id": "f9ee42797afb437d83ec925c07ea850d",
       "version_major": 2,
       "version_minor": 0
      },
      "text/plain": [
       "HBox(children=(IntProgress(value=0, description='Training iteration', max=89, style=ProgressStyle(description_…"
      ]
     },
     "metadata": {},
     "output_type": "display_data"
    },
    {
     "name": "stdout",
     "output_type": "stream",
     "text": [
      "\n"
     ]
    },
    {
     "data": {
      "application/vnd.jupyter.widget-view+json": {
       "model_id": "c61e36b7c61f45a99ac6dbfb37eab60a",
       "version_major": 2,
       "version_minor": 0
      },
      "text/plain": [
       "HBox(children=(IntProgress(value=0, description='Evaluation iteration', max=30, style=ProgressStyle(descriptio…"
      ]
     },
     "metadata": {},
     "output_type": "display_data"
    },
    {
     "name": "stdout",
     "output_type": "stream",
     "text": [
      "\n",
      "Loss history: [3.1493136644363404, 2.6439683278401693, 2.2259405652681985, 1.8800074418385824, 1.631400966644287, 1.410132739941279, 1.2975632945696514, 1.1311195453008016, 1.1064495394627254, 0.9857797712087631, 0.9509927789370219, 0.8965358873208363, 0.9040395647287369, 0.8781829277674357, 0.8221222887436549, 0.8082724273204803, 0.8254878381888072, 0.8020556211471558, 0.8017764161030452, 0.7919999281565349, 0.7748110542694727, 0.7820528844992319, 0.8020291258891423, 0.8070658316214879, 0.8202590942382812]\n",
      "Dev loss: 0.792996808886528\n",
      "No improvement on development set. Finish training.\n",
      "Loading model from /tmp/model.bin\n"
     ]
    },
    {
     "name": "stderr",
     "output_type": "stream",
     "text": [
      "I0406 18:23:34.196781 140397457205056 configuration_utils.py:256] loading configuration file https://s3.amazonaws.com/models.huggingface.co/bert/bert-base-uncased-config.json from cache at /home/yves/.cache/torch/transformers/4dad0251492946e18ac39290fcfe91b89d370fee250efe9521476438fe8ca185.8f56353af4a709bf5ff0fbc915d8f5b42bfff892cbb6ac98c3c45f481a03c685\n",
      "I0406 18:23:34.198052 140397457205056 configuration_utils.py:292] Model config BertConfig {\n",
      "  \"architectures\": [\n",
      "    \"BertForMaskedLM\"\n",
      "  ],\n",
      "  \"attention_probs_dropout_prob\": 0.1,\n",
      "  \"bos_token_id\": null,\n",
      "  \"do_sample\": false,\n",
      "  \"eos_token_ids\": null,\n",
      "  \"finetuning_task\": null,\n",
      "  \"hidden_act\": \"gelu\",\n",
      "  \"hidden_dropout_prob\": 0.1,\n",
      "  \"hidden_size\": 768,\n",
      "  \"id2label\": {\n",
      "    \"0\": \"LABEL_0\",\n",
      "    \"1\": \"LABEL_1\"\n",
      "  },\n",
      "  \"initializer_range\": 0.02,\n",
      "  \"intermediate_size\": 3072,\n",
      "  \"is_decoder\": false,\n",
      "  \"label2id\": {\n",
      "    \"LABEL_0\": 0,\n",
      "    \"LABEL_1\": 1\n",
      "  },\n",
      "  \"layer_norm_eps\": 1e-12,\n",
      "  \"length_penalty\": 1.0,\n",
      "  \"max_length\": 20,\n",
      "  \"max_position_embeddings\": 512,\n",
      "  \"model_type\": \"bert\",\n",
      "  \"num_attention_heads\": 12,\n",
      "  \"num_beams\": 1,\n",
      "  \"num_hidden_layers\": 12,\n",
      "  \"num_labels\": 34,\n",
      "  \"num_return_sequences\": 1,\n",
      "  \"output_attentions\": false,\n",
      "  \"output_hidden_states\": false,\n",
      "  \"output_past\": true,\n",
      "  \"pad_token_id\": null,\n",
      "  \"pruned_heads\": {},\n",
      "  \"repetition_penalty\": 1.0,\n",
      "  \"temperature\": 1.0,\n",
      "  \"top_k\": 50,\n",
      "  \"top_p\": 1.0,\n",
      "  \"torchscript\": false,\n",
      "  \"type_vocab_size\": 2,\n",
      "  \"use_bfloat16\": false,\n",
      "  \"vocab_size\": 30522\n",
      "}\n",
      "\n",
      "I0406 18:23:34.654942 140397457205056 modeling_utils.py:461] loading weights file https://s3.amazonaws.com/models.huggingface.co/bert/bert-base-uncased-pytorch_model.bin from cache at /home/yves/.cache/torch/transformers/aa1ef1aede4482d0dbcd4d52baad8ae300e60902e88fcb0bebdec09afd232066.36ca03ab34a1a5d5fa7bc3d03d55c4fa650fed07220e2eeebc06ce58d0e9a157\n"
     ]
    },
    {
     "data": {
      "application/vnd.jupyter.widget-view+json": {
       "model_id": "542aa7367b5c45ee83aac69f6e53ba5b",
       "version_major": 2,
       "version_minor": 0
      },
      "text/plain": [
       "HBox(children=(IntProgress(value=0, description='Evaluation iteration', max=30, style=ProgressStyle(descriptio…"
      ]
     },
     "metadata": {},
     "output_type": "display_data"
    },
    {
     "name": "stdout",
     "output_type": "stream",
     "text": [
      "\n"
     ]
    },
    {
     "name": "stderr",
     "output_type": "stream",
     "text": [
      "I0406 18:23:48.347981 140397457205056 configuration_utils.py:256] loading configuration file https://s3.amazonaws.com/models.huggingface.co/bert/bert-base-uncased-config.json from cache at /home/yves/.cache/torch/transformers/4dad0251492946e18ac39290fcfe91b89d370fee250efe9521476438fe8ca185.8f56353af4a709bf5ff0fbc915d8f5b42bfff892cbb6ac98c3c45f481a03c685\n",
      "I0406 18:23:48.349199 140397457205056 configuration_utils.py:292] Model config BertConfig {\n",
      "  \"architectures\": [\n",
      "    \"BertForMaskedLM\"\n",
      "  ],\n",
      "  \"attention_probs_dropout_prob\": 0.1,\n",
      "  \"bos_token_id\": null,\n",
      "  \"do_sample\": false,\n",
      "  \"eos_token_ids\": null,\n",
      "  \"finetuning_task\": null,\n",
      "  \"hidden_act\": \"gelu\",\n",
      "  \"hidden_dropout_prob\": 0.1,\n",
      "  \"hidden_size\": 768,\n",
      "  \"id2label\": {\n",
      "    \"0\": \"LABEL_0\",\n",
      "    \"1\": \"LABEL_1\"\n",
      "  },\n",
      "  \"initializer_range\": 0.02,\n",
      "  \"intermediate_size\": 3072,\n",
      "  \"is_decoder\": false,\n",
      "  \"label2id\": {\n",
      "    \"LABEL_0\": 0,\n",
      "    \"LABEL_1\": 1\n",
      "  },\n",
      "  \"layer_norm_eps\": 1e-12,\n",
      "  \"length_penalty\": 1.0,\n",
      "  \"max_length\": 20,\n",
      "  \"max_position_embeddings\": 512,\n",
      "  \"model_type\": \"bert\",\n",
      "  \"num_attention_heads\": 12,\n",
      "  \"num_beams\": 1,\n",
      "  \"num_hidden_layers\": 12,\n",
      "  \"num_labels\": 34,\n",
      "  \"num_return_sequences\": 1,\n",
      "  \"output_attentions\": false,\n",
      "  \"output_hidden_states\": false,\n",
      "  \"output_past\": true,\n",
      "  \"pad_token_id\": null,\n",
      "  \"pruned_heads\": {},\n",
      "  \"repetition_penalty\": 1.0,\n",
      "  \"temperature\": 1.0,\n",
      "  \"top_k\": 50,\n",
      "  \"top_p\": 1.0,\n",
      "  \"torchscript\": false,\n",
      "  \"type_vocab_size\": 2,\n",
      "  \"use_bfloat16\": false,\n",
      "  \"vocab_size\": 30522\n",
      "}\n",
      "\n",
      "I0406 18:23:48.813811 140397457205056 modeling_utils.py:461] loading weights file https://s3.amazonaws.com/models.huggingface.co/bert/bert-base-uncased-pytorch_model.bin from cache at /home/yves/.cache/torch/transformers/aa1ef1aede4482d0dbcd4d52baad8ae300e60902e88fcb0bebdec09afd232066.36ca03ab34a1a5d5fa7bc3d03d55c4fa650fed07220e2eeebc06ce58d0e9a157\n",
      "I0406 18:23:50.376669 140397457205056 modeling_utils.py:546] Weights of BertForSequenceClassification not initialized from pretrained model: ['classifier.weight', 'classifier.bias']\n",
      "I0406 18:23:50.377400 140397457205056 modeling_utils.py:552] Weights from pretrained model not used in BertForSequenceClassification: ['cls.predictions.bias', 'cls.predictions.transform.dense.weight', 'cls.predictions.transform.dense.bias', 'cls.predictions.decoder.weight', 'cls.seq_relationship.weight', 'cls.seq_relationship.bias', 'cls.predictions.transform.LayerNorm.weight', 'cls.predictions.transform.LayerNorm.bias']\n",
      "\n",
      "\n",
      "Epoch:   0%|          | 0/100 [00:00<?, ?it/s]\u001b[A\u001b[A"
     ]
    },
    {
     "data": {
      "application/vnd.jupyter.widget-view+json": {
       "model_id": "b270f6151f74446fa9862f20baddf4e8",
       "version_major": 2,
       "version_minor": 0
      },
      "text/plain": [
       "HBox(children=(IntProgress(value=0, description='Training iteration', max=89, style=ProgressStyle(description_…"
      ]
     },
     "metadata": {},
     "output_type": "display_data"
    },
    {
     "name": "stdout",
     "output_type": "stream",
     "text": [
      "\n"
     ]
    },
    {
     "data": {
      "application/vnd.jupyter.widget-view+json": {
       "model_id": "cc25cdf437cc48d382e52372711bcd07",
       "version_major": 2,
       "version_minor": 0
      },
      "text/plain": [
       "HBox(children=(IntProgress(value=0, description='Evaluation iteration', max=30, style=ProgressStyle(descriptio…"
      ]
     },
     "metadata": {},
     "output_type": "display_data"
    },
    {
     "name": "stdout",
     "output_type": "stream",
     "text": [
      "\n",
      "Loss history: []\n",
      "Dev loss: 3.2492987155914306\n"
     ]
    },
    {
     "name": "stderr",
     "output_type": "stream",
     "text": [
      "\n",
      "\n",
      "Epoch:   1%|          | 1/100 [00:21<34:45, 21.06s/it]\u001b[A\u001b[A"
     ]
    },
    {
     "data": {
      "application/vnd.jupyter.widget-view+json": {
       "model_id": "6db5b2f4b92245e6b28a4f5635a464d3",
       "version_major": 2,
       "version_minor": 0
      },
      "text/plain": [
       "HBox(children=(IntProgress(value=0, description='Training iteration', max=89, style=ProgressStyle(description_…"
      ]
     },
     "metadata": {},
     "output_type": "display_data"
    },
    {
     "name": "stdout",
     "output_type": "stream",
     "text": [
      "\n"
     ]
    },
    {
     "data": {
      "application/vnd.jupyter.widget-view+json": {
       "model_id": "95b226bc7a3b49a5a6eecfb994e1d5b7",
       "version_major": 2,
       "version_minor": 0
      },
      "text/plain": [
       "HBox(children=(IntProgress(value=0, description='Evaluation iteration', max=30, style=ProgressStyle(descriptio…"
      ]
     },
     "metadata": {},
     "output_type": "display_data"
    },
    {
     "name": "stdout",
     "output_type": "stream",
     "text": [
      "\n",
      "Loss history: [3.2492987155914306]\n",
      "Dev loss: 2.7014334201812744\n"
     ]
    },
    {
     "name": "stderr",
     "output_type": "stream",
     "text": [
      "\n",
      "\n",
      "Epoch:   2%|▏         | 2/100 [00:42<34:24, 21.06s/it]\u001b[A\u001b[A"
     ]
    },
    {
     "data": {
      "application/vnd.jupyter.widget-view+json": {
       "model_id": "15a0e6b6c5b44c2e8d82ae722e1b2964",
       "version_major": 2,
       "version_minor": 0
      },
      "text/plain": [
       "HBox(children=(IntProgress(value=0, description='Training iteration', max=89, style=ProgressStyle(description_…"
      ]
     },
     "metadata": {},
     "output_type": "display_data"
    },
    {
     "name": "stdout",
     "output_type": "stream",
     "text": [
      "\n"
     ]
    },
    {
     "data": {
      "application/vnd.jupyter.widget-view+json": {
       "model_id": "357a7525aa3a4a82b886ddcf2dff1430",
       "version_major": 2,
       "version_minor": 0
      },
      "text/plain": [
       "HBox(children=(IntProgress(value=0, description='Evaluation iteration', max=30, style=ProgressStyle(descriptio…"
      ]
     },
     "metadata": {},
     "output_type": "display_data"
    },
    {
     "name": "stdout",
     "output_type": "stream",
     "text": [
      "\n",
      "Loss history: [3.2492987155914306, 2.7014334201812744]\n",
      "Dev loss: 2.248048802216848\n"
     ]
    },
    {
     "name": "stderr",
     "output_type": "stream",
     "text": [
      "\n",
      "\n",
      "Epoch:   3%|▎         | 3/100 [01:03<34:03, 21.07s/it]\u001b[A\u001b[A"
     ]
    },
    {
     "data": {
      "application/vnd.jupyter.widget-view+json": {
       "model_id": "c85dd12493ab4472a7c17403f2bb3431",
       "version_major": 2,
       "version_minor": 0
      },
      "text/plain": [
       "HBox(children=(IntProgress(value=0, description='Training iteration', max=89, style=ProgressStyle(description_…"
      ]
     },
     "metadata": {},
     "output_type": "display_data"
    },
    {
     "name": "stdout",
     "output_type": "stream",
     "text": [
      "\n"
     ]
    },
    {
     "data": {
      "application/vnd.jupyter.widget-view+json": {
       "model_id": "0de31beb58f04976a215d1bbc22e3686",
       "version_major": 2,
       "version_minor": 0
      },
      "text/plain": [
       "HBox(children=(IntProgress(value=0, description='Evaluation iteration', max=30, style=ProgressStyle(descriptio…"
      ]
     },
     "metadata": {},
     "output_type": "display_data"
    },
    {
     "name": "stdout",
     "output_type": "stream",
     "text": [
      "\n",
      "Loss history: [3.2492987155914306, 2.7014334201812744, 2.248048802216848]\n",
      "Dev loss: 1.8916106621424358\n"
     ]
    },
    {
     "name": "stderr",
     "output_type": "stream",
     "text": [
      "\n",
      "\n",
      "Epoch:   4%|▍         | 4/100 [01:24<33:43, 21.08s/it]\u001b[A\u001b[A"
     ]
    },
    {
     "data": {
      "application/vnd.jupyter.widget-view+json": {
       "model_id": "a6dbfcc3e0a5433793fe1b02ed956996",
       "version_major": 2,
       "version_minor": 0
      },
      "text/plain": [
       "HBox(children=(IntProgress(value=0, description='Training iteration', max=89, style=ProgressStyle(description_…"
      ]
     },
     "metadata": {},
     "output_type": "display_data"
    },
    {
     "name": "stdout",
     "output_type": "stream",
     "text": [
      "\n"
     ]
    },
    {
     "data": {
      "application/vnd.jupyter.widget-view+json": {
       "model_id": "3e2f71a101644f9fb9328ddf3fb4bdfa",
       "version_major": 2,
       "version_minor": 0
      },
      "text/plain": [
       "HBox(children=(IntProgress(value=0, description='Evaluation iteration', max=30, style=ProgressStyle(descriptio…"
      ]
     },
     "metadata": {},
     "output_type": "display_data"
    },
    {
     "name": "stdout",
     "output_type": "stream",
     "text": [
      "\n",
      "Loss history: [3.2492987155914306, 2.7014334201812744, 2.248048802216848, 1.8916106621424358]\n",
      "Dev loss: 1.6385515371958415\n"
     ]
    },
    {
     "name": "stderr",
     "output_type": "stream",
     "text": [
      "\n",
      "\n",
      "Epoch:   5%|▌         | 5/100 [01:45<33:23, 21.09s/it]\u001b[A\u001b[A"
     ]
    },
    {
     "data": {
      "application/vnd.jupyter.widget-view+json": {
       "model_id": "125385a5f9b8465098dd72f804dac8ee",
       "version_major": 2,
       "version_minor": 0
      },
      "text/plain": [
       "HBox(children=(IntProgress(value=0, description='Training iteration', max=89, style=ProgressStyle(description_…"
      ]
     },
     "metadata": {},
     "output_type": "display_data"
    },
    {
     "name": "stdout",
     "output_type": "stream",
     "text": [
      "\n"
     ]
    },
    {
     "data": {
      "application/vnd.jupyter.widget-view+json": {
       "model_id": "9f3dae8d756b4d02b2a5673aa29a7f2c",
       "version_major": 2,
       "version_minor": 0
      },
      "text/plain": [
       "HBox(children=(IntProgress(value=0, description='Evaluation iteration', max=30, style=ProgressStyle(descriptio…"
      ]
     },
     "metadata": {},
     "output_type": "display_data"
    },
    {
     "name": "stdout",
     "output_type": "stream",
     "text": [
      "\n",
      "Loss history: [3.2492987155914306, 2.7014334201812744, 2.248048802216848, 1.8916106621424358, 1.6385515371958415]\n",
      "Dev loss: 1.3959590633710226\n"
     ]
    },
    {
     "name": "stderr",
     "output_type": "stream",
     "text": [
      "\n",
      "\n",
      "Epoch:   6%|▌         | 6/100 [02:06<33:03, 21.11s/it]\u001b[A\u001b[A"
     ]
    },
    {
     "data": {
      "application/vnd.jupyter.widget-view+json": {
       "model_id": "c5b807164bc1486eb4e6093c9dec720e",
       "version_major": 2,
       "version_minor": 0
      },
      "text/plain": [
       "HBox(children=(IntProgress(value=0, description='Training iteration', max=89, style=ProgressStyle(description_…"
      ]
     },
     "metadata": {},
     "output_type": "display_data"
    },
    {
     "name": "stdout",
     "output_type": "stream",
     "text": [
      "\n"
     ]
    },
    {
     "data": {
      "application/vnd.jupyter.widget-view+json": {
       "model_id": "384c8c53c7aa4fc797115b8db44cb8d7",
       "version_major": 2,
       "version_minor": 0
      },
      "text/plain": [
       "HBox(children=(IntProgress(value=0, description='Evaluation iteration', max=30, style=ProgressStyle(descriptio…"
      ]
     },
     "metadata": {},
     "output_type": "display_data"
    },
    {
     "name": "stdout",
     "output_type": "stream",
     "text": [
      "\n",
      "Loss history: [3.2492987155914306, 2.7014334201812744, 2.248048802216848, 1.8916106621424358, 1.6385515371958415, 1.3959590633710226]\n",
      "Dev loss: 1.2262824515501658\n"
     ]
    },
    {
     "name": "stderr",
     "output_type": "stream",
     "text": [
      "\n",
      "\n",
      "Epoch:   7%|▋         | 7/100 [02:27<32:43, 21.12s/it]\u001b[A\u001b[A"
     ]
    },
    {
     "data": {
      "application/vnd.jupyter.widget-view+json": {
       "model_id": "64f7c4bc191f4f10aac70b03a3094e29",
       "version_major": 2,
       "version_minor": 0
      },
      "text/plain": [
       "HBox(children=(IntProgress(value=0, description='Training iteration', max=89, style=ProgressStyle(description_…"
      ]
     },
     "metadata": {},
     "output_type": "display_data"
    },
    {
     "name": "stdout",
     "output_type": "stream",
     "text": [
      "\n"
     ]
    },
    {
     "data": {
      "application/vnd.jupyter.widget-view+json": {
       "model_id": "ae31c8ab94c247e1b600cfe502bc257f",
       "version_major": 2,
       "version_minor": 0
      },
      "text/plain": [
       "HBox(children=(IntProgress(value=0, description='Evaluation iteration', max=30, style=ProgressStyle(descriptio…"
      ]
     },
     "metadata": {},
     "output_type": "display_data"
    },
    {
     "name": "stdout",
     "output_type": "stream",
     "text": [
      "\n",
      "Loss history: [3.2492987155914306, 2.7014334201812744, 2.248048802216848, 1.8916106621424358, 1.6385515371958415, 1.3959590633710226, 1.2262824515501658]\n",
      "Dev loss: 1.1264400164286295\n"
     ]
    },
    {
     "name": "stderr",
     "output_type": "stream",
     "text": [
      "\n",
      "\n",
      "Epoch:   8%|▊         | 8/100 [02:48<32:24, 21.13s/it]\u001b[A\u001b[A"
     ]
    },
    {
     "data": {
      "application/vnd.jupyter.widget-view+json": {
       "model_id": "bc483d7d52b44cdb9a6bb431e2a42c3b",
       "version_major": 2,
       "version_minor": 0
      },
      "text/plain": [
       "HBox(children=(IntProgress(value=0, description='Training iteration', max=89, style=ProgressStyle(description_…"
      ]
     },
     "metadata": {},
     "output_type": "display_data"
    },
    {
     "name": "stdout",
     "output_type": "stream",
     "text": [
      "\n"
     ]
    },
    {
     "data": {
      "application/vnd.jupyter.widget-view+json": {
       "model_id": "25d2b8324c86404e9ff27b5f51ba1ca6",
       "version_major": 2,
       "version_minor": 0
      },
      "text/plain": [
       "HBox(children=(IntProgress(value=0, description='Evaluation iteration', max=30, style=ProgressStyle(descriptio…"
      ]
     },
     "metadata": {},
     "output_type": "display_data"
    },
    {
     "name": "stdout",
     "output_type": "stream",
     "text": [
      "\n",
      "Loss history: [3.2492987155914306, 2.7014334201812744, 2.248048802216848, 1.8916106621424358, 1.6385515371958415, 1.3959590633710226, 1.2262824515501658, 1.1264400164286295]\n",
      "Dev loss: 1.0465689639250437\n"
     ]
    },
    {
     "name": "stderr",
     "output_type": "stream",
     "text": [
      "\n",
      "\n",
      "Epoch:   9%|▉         | 9/100 [03:10<32:03, 21.14s/it]\u001b[A\u001b[A"
     ]
    },
    {
     "data": {
      "application/vnd.jupyter.widget-view+json": {
       "model_id": "4145473d7a4246d9a87b5d61df1142cb",
       "version_major": 2,
       "version_minor": 0
      },
      "text/plain": [
       "HBox(children=(IntProgress(value=0, description='Training iteration', max=89, style=ProgressStyle(description_…"
      ]
     },
     "metadata": {},
     "output_type": "display_data"
    },
    {
     "name": "stdout",
     "output_type": "stream",
     "text": [
      "\n"
     ]
    },
    {
     "data": {
      "application/vnd.jupyter.widget-view+json": {
       "model_id": "9fbb25b0d4b04cb9808e8cf0862dacfd",
       "version_major": 2,
       "version_minor": 0
      },
      "text/plain": [
       "HBox(children=(IntProgress(value=0, description='Evaluation iteration', max=30, style=ProgressStyle(descriptio…"
      ]
     },
     "metadata": {},
     "output_type": "display_data"
    },
    {
     "name": "stdout",
     "output_type": "stream",
     "text": [
      "\n",
      "Loss history: [3.2492987155914306, 2.7014334201812744, 2.248048802216848, 1.8916106621424358, 1.6385515371958415, 1.3959590633710226, 1.2262824515501658, 1.1264400164286295, 1.0465689639250437]\n",
      "Dev loss: 1.028343033293883\n"
     ]
    },
    {
     "name": "stderr",
     "output_type": "stream",
     "text": [
      "\n",
      "\n",
      "Epoch:  10%|█         | 10/100 [03:31<31:42, 21.14s/it]\u001b[A\u001b[A"
     ]
    },
    {
     "data": {
      "application/vnd.jupyter.widget-view+json": {
       "model_id": "9e4527014709495d86605900aabef3a4",
       "version_major": 2,
       "version_minor": 0
      },
      "text/plain": [
       "HBox(children=(IntProgress(value=0, description='Training iteration', max=89, style=ProgressStyle(description_…"
      ]
     },
     "metadata": {},
     "output_type": "display_data"
    },
    {
     "name": "stdout",
     "output_type": "stream",
     "text": [
      "\n"
     ]
    },
    {
     "data": {
      "application/vnd.jupyter.widget-view+json": {
       "model_id": "7203c11e0ee74d78b8b7a74a5eb0292e",
       "version_major": 2,
       "version_minor": 0
      },
      "text/plain": [
       "HBox(children=(IntProgress(value=0, description='Evaluation iteration', max=30, style=ProgressStyle(descriptio…"
      ]
     },
     "metadata": {},
     "output_type": "display_data"
    },
    {
     "name": "stdout",
     "output_type": "stream",
     "text": [
      "\n",
      "Loss history: [3.2492987155914306, 2.7014334201812744, 2.248048802216848, 1.8916106621424358, 1.6385515371958415, 1.3959590633710226, 1.2262824515501658, 1.1264400164286295, 1.0465689639250437, 1.028343033293883]\n",
      "Dev loss: 0.9858526443441709\n"
     ]
    },
    {
     "name": "stderr",
     "output_type": "stream",
     "text": [
      "\n",
      "\n",
      "Epoch:  11%|█         | 11/100 [03:52<31:21, 21.14s/it]\u001b[A\u001b[A"
     ]
    },
    {
     "data": {
      "application/vnd.jupyter.widget-view+json": {
       "model_id": "134086ae0f754bc4b572e7ae3f95537a",
       "version_major": 2,
       "version_minor": 0
      },
      "text/plain": [
       "HBox(children=(IntProgress(value=0, description='Training iteration', max=89, style=ProgressStyle(description_…"
      ]
     },
     "metadata": {},
     "output_type": "display_data"
    },
    {
     "name": "stdout",
     "output_type": "stream",
     "text": [
      "\n"
     ]
    },
    {
     "data": {
      "application/vnd.jupyter.widget-view+json": {
       "model_id": "324fe156d4184332a1eca9885ce7d4cd",
       "version_major": 2,
       "version_minor": 0
      },
      "text/plain": [
       "HBox(children=(IntProgress(value=0, description='Evaluation iteration', max=30, style=ProgressStyle(descriptio…"
      ]
     },
     "metadata": {},
     "output_type": "display_data"
    },
    {
     "name": "stdout",
     "output_type": "stream",
     "text": [
      "\n",
      "Loss history: [3.2492987155914306, 2.7014334201812744, 2.248048802216848, 1.8916106621424358, 1.6385515371958415, 1.3959590633710226, 1.2262824515501658, 1.1264400164286295, 1.0465689639250437, 1.028343033293883, 0.9858526443441709]\n",
      "Dev loss: 0.9138036211331685\n"
     ]
    },
    {
     "name": "stderr",
     "output_type": "stream",
     "text": [
      "\n",
      "\n",
      "Epoch:  12%|█▏        | 12/100 [04:13<31:00, 21.15s/it]\u001b[A\u001b[A"
     ]
    },
    {
     "data": {
      "application/vnd.jupyter.widget-view+json": {
       "model_id": "6cf0c3617d454c7d816d14e8fcf71d16",
       "version_major": 2,
       "version_minor": 0
      },
      "text/plain": [
       "HBox(children=(IntProgress(value=0, description='Training iteration', max=89, style=ProgressStyle(description_…"
      ]
     },
     "metadata": {},
     "output_type": "display_data"
    },
    {
     "name": "stdout",
     "output_type": "stream",
     "text": [
      "\n"
     ]
    },
    {
     "data": {
      "application/vnd.jupyter.widget-view+json": {
       "model_id": "15f706753ad1438496df6616afc5f6d4",
       "version_major": 2,
       "version_minor": 0
      },
      "text/plain": [
       "HBox(children=(IntProgress(value=0, description='Evaluation iteration', max=30, style=ProgressStyle(descriptio…"
      ]
     },
     "metadata": {},
     "output_type": "display_data"
    },
    {
     "name": "stderr",
     "output_type": "stream",
     "text": [
      "\n",
      "\n",
      "Epoch:  13%|█▎        | 13/100 [04:34<30:27, 21.01s/it]\u001b[A\u001b[A"
     ]
    },
    {
     "name": "stdout",
     "output_type": "stream",
     "text": [
      "\n",
      "Loss history: [3.2492987155914306, 2.7014334201812744, 2.248048802216848, 1.8916106621424358, 1.6385515371958415, 1.3959590633710226, 1.2262824515501658, 1.1264400164286295, 1.0465689639250437, 1.028343033293883, 0.9858526443441709, 0.9138036211331685]\n",
      "Dev loss: 0.9251658628384273\n"
     ]
    },
    {
     "data": {
      "application/vnd.jupyter.widget-view+json": {
       "model_id": "191daab6ba6b4e03a864202c3b51ad79",
       "version_major": 2,
       "version_minor": 0
      },
      "text/plain": [
       "HBox(children=(IntProgress(value=0, description='Training iteration', max=89, style=ProgressStyle(description_…"
      ]
     },
     "metadata": {},
     "output_type": "display_data"
    },
    {
     "name": "stdout",
     "output_type": "stream",
     "text": [
      "\n"
     ]
    },
    {
     "data": {
      "application/vnd.jupyter.widget-view+json": {
       "model_id": "3283a2194b604ee586aba7c050dba79b",
       "version_major": 2,
       "version_minor": 0
      },
      "text/plain": [
       "HBox(children=(IntProgress(value=0, description='Evaluation iteration', max=30, style=ProgressStyle(descriptio…"
      ]
     },
     "metadata": {},
     "output_type": "display_data"
    },
    {
     "name": "stdout",
     "output_type": "stream",
     "text": [
      "\n",
      "Loss history: [3.2492987155914306, 2.7014334201812744, 2.248048802216848, 1.8916106621424358, 1.6385515371958415, 1.3959590633710226, 1.2262824515501658, 1.1264400164286295, 1.0465689639250437, 1.028343033293883, 0.9858526443441709, 0.9138036211331685, 0.9251658628384273]\n",
      "Dev loss: 0.8946281830469768\n"
     ]
    },
    {
     "name": "stderr",
     "output_type": "stream",
     "text": [
      "\n",
      "\n",
      "Epoch:  14%|█▍        | 14/100 [04:55<30:10, 21.05s/it]\u001b[A\u001b[A"
     ]
    },
    {
     "data": {
      "application/vnd.jupyter.widget-view+json": {
       "model_id": "f72b5b01eb6f4421a3b10d4141ebd853",
       "version_major": 2,
       "version_minor": 0
      },
      "text/plain": [
       "HBox(children=(IntProgress(value=0, description='Training iteration', max=89, style=ProgressStyle(description_…"
      ]
     },
     "metadata": {},
     "output_type": "display_data"
    },
    {
     "name": "stdout",
     "output_type": "stream",
     "text": [
      "\n"
     ]
    },
    {
     "data": {
      "application/vnd.jupyter.widget-view+json": {
       "model_id": "50c7849aaf3541259ae107b1ce1b738a",
       "version_major": 2,
       "version_minor": 0
      },
      "text/plain": [
       "HBox(children=(IntProgress(value=0, description='Evaluation iteration', max=30, style=ProgressStyle(descriptio…"
      ]
     },
     "metadata": {},
     "output_type": "display_data"
    },
    {
     "name": "stdout",
     "output_type": "stream",
     "text": [
      "\n",
      "Loss history: [3.2492987155914306, 2.7014334201812744, 2.248048802216848, 1.8916106621424358, 1.6385515371958415, 1.3959590633710226, 1.2262824515501658, 1.1264400164286295, 1.0465689639250437, 1.028343033293883, 0.9858526443441709, 0.9138036211331685, 0.9251658628384273, 0.8946281830469768]\n",
      "Dev loss: 0.8715616991122563\n"
     ]
    },
    {
     "name": "stderr",
     "output_type": "stream",
     "text": [
      "\n",
      "\n",
      "Epoch:  15%|█▌        | 15/100 [05:16<29:51, 21.08s/it]\u001b[A\u001b[A"
     ]
    },
    {
     "data": {
      "application/vnd.jupyter.widget-view+json": {
       "model_id": "ea0c32f68f8d4b2682babf5634de31f8",
       "version_major": 2,
       "version_minor": 0
      },
      "text/plain": [
       "HBox(children=(IntProgress(value=0, description='Training iteration', max=89, style=ProgressStyle(description_…"
      ]
     },
     "metadata": {},
     "output_type": "display_data"
    },
    {
     "name": "stdout",
     "output_type": "stream",
     "text": [
      "\n"
     ]
    },
    {
     "data": {
      "application/vnd.jupyter.widget-view+json": {
       "model_id": "a7e2653efcec4cd095656d3d62dca07e",
       "version_major": 2,
       "version_minor": 0
      },
      "text/plain": [
       "HBox(children=(IntProgress(value=0, description='Evaluation iteration', max=30, style=ProgressStyle(descriptio…"
      ]
     },
     "metadata": {},
     "output_type": "display_data"
    },
    {
     "name": "stdout",
     "output_type": "stream",
     "text": [
      "\n",
      "Loss history: [3.2492987155914306, 2.7014334201812744, 2.248048802216848, 1.8916106621424358, 1.6385515371958415, 1.3959590633710226, 1.2262824515501658, 1.1264400164286295, 1.0465689639250437, 1.028343033293883, 0.9858526443441709, 0.9138036211331685, 0.9251658628384273, 0.8946281830469768, 0.8715616991122563]\n",
      "Dev loss: 0.8634103685617447\n"
     ]
    },
    {
     "name": "stderr",
     "output_type": "stream",
     "text": [
      "\n",
      "\n",
      "Epoch:  16%|█▌        | 16/100 [05:37<29:31, 21.09s/it]\u001b[A\u001b[A"
     ]
    },
    {
     "data": {
      "application/vnd.jupyter.widget-view+json": {
       "model_id": "6a24db14ca704b628bfb7bba623860a0",
       "version_major": 2,
       "version_minor": 0
      },
      "text/plain": [
       "HBox(children=(IntProgress(value=0, description='Training iteration', max=89, style=ProgressStyle(description_…"
      ]
     },
     "metadata": {},
     "output_type": "display_data"
    },
    {
     "name": "stdout",
     "output_type": "stream",
     "text": [
      "\n"
     ]
    },
    {
     "data": {
      "application/vnd.jupyter.widget-view+json": {
       "model_id": "7a4e7bf1d8584dbaa5190a29b391f99a",
       "version_major": 2,
       "version_minor": 0
      },
      "text/plain": [
       "HBox(children=(IntProgress(value=0, description='Evaluation iteration', max=30, style=ProgressStyle(descriptio…"
      ]
     },
     "metadata": {},
     "output_type": "display_data"
    },
    {
     "name": "stderr",
     "output_type": "stream",
     "text": [
      "\n",
      "\n",
      "Epoch:  17%|█▋        | 17/100 [05:58<29:00, 20.97s/it]\u001b[A\u001b[A"
     ]
    },
    {
     "name": "stdout",
     "output_type": "stream",
     "text": [
      "\n",
      "Loss history: [3.2492987155914306, 2.7014334201812744, 2.248048802216848, 1.8916106621424358, 1.6385515371958415, 1.3959590633710226, 1.2262824515501658, 1.1264400164286295, 1.0465689639250437, 1.028343033293883, 0.9858526443441709, 0.9138036211331685, 0.9251658628384273, 0.8946281830469768, 0.8715616991122563, 0.8634103685617447]\n",
      "Dev loss: 0.8800227627158165\n"
     ]
    },
    {
     "data": {
      "application/vnd.jupyter.widget-view+json": {
       "model_id": "5d0e300fe42f48369b57e309b9ed290b",
       "version_major": 2,
       "version_minor": 0
      },
      "text/plain": [
       "HBox(children=(IntProgress(value=0, description='Training iteration', max=89, style=ProgressStyle(description_…"
      ]
     },
     "metadata": {},
     "output_type": "display_data"
    },
    {
     "name": "stdout",
     "output_type": "stream",
     "text": [
      "\n"
     ]
    },
    {
     "data": {
      "application/vnd.jupyter.widget-view+json": {
       "model_id": "e0a9afc123f84d7e862fd160f0d85fa5",
       "version_major": 2,
       "version_minor": 0
      },
      "text/plain": [
       "HBox(children=(IntProgress(value=0, description='Evaluation iteration', max=30, style=ProgressStyle(descriptio…"
      ]
     },
     "metadata": {},
     "output_type": "display_data"
    },
    {
     "name": "stdout",
     "output_type": "stream",
     "text": [
      "\n",
      "Loss history: [3.2492987155914306, 2.7014334201812744, 2.248048802216848, 1.8916106621424358, 1.6385515371958415, 1.3959590633710226, 1.2262824515501658, 1.1264400164286295, 1.0465689639250437, 1.028343033293883, 0.9858526443441709, 0.9138036211331685, 0.9251658628384273, 0.8946281830469768, 0.8715616991122563, 0.8634103685617447, 0.8800227627158165]\n",
      "Dev loss: 0.8408646027247111\n"
     ]
    },
    {
     "name": "stderr",
     "output_type": "stream",
     "text": [
      "\n",
      "\n",
      "Epoch:  18%|█▊        | 18/100 [06:19<28:44, 21.03s/it]\u001b[A\u001b[A"
     ]
    },
    {
     "data": {
      "application/vnd.jupyter.widget-view+json": {
       "model_id": "f568765756174beca53255ca704f22f1",
       "version_major": 2,
       "version_minor": 0
      },
      "text/plain": [
       "HBox(children=(IntProgress(value=0, description='Training iteration', max=89, style=ProgressStyle(description_…"
      ]
     },
     "metadata": {},
     "output_type": "display_data"
    },
    {
     "name": "stdout",
     "output_type": "stream",
     "text": [
      "\n"
     ]
    },
    {
     "data": {
      "application/vnd.jupyter.widget-view+json": {
       "model_id": "951972c288cb4cf3891c0f98ec900d1d",
       "version_major": 2,
       "version_minor": 0
      },
      "text/plain": [
       "HBox(children=(IntProgress(value=0, description='Evaluation iteration', max=30, style=ProgressStyle(descriptio…"
      ]
     },
     "metadata": {},
     "output_type": "display_data"
    },
    {
     "name": "stdout",
     "output_type": "stream",
     "text": [
      "\n",
      "Loss history: [3.2492987155914306, 2.7014334201812744, 2.248048802216848, 1.8916106621424358, 1.6385515371958415, 1.3959590633710226, 1.2262824515501658, 1.1264400164286295, 1.0465689639250437, 1.028343033293883, 0.9858526443441709, 0.9138036211331685, 0.9251658628384273, 0.8946281830469768, 0.8715616991122563, 0.8634103685617447, 0.8800227627158165, 0.8408646027247111]\n",
      "Dev loss: 0.8400544270873069\n"
     ]
    },
    {
     "name": "stderr",
     "output_type": "stream",
     "text": [
      "\n",
      "\n",
      "Epoch:  19%|█▉        | 19/100 [06:40<28:26, 21.06s/it]\u001b[A\u001b[A"
     ]
    },
    {
     "data": {
      "application/vnd.jupyter.widget-view+json": {
       "model_id": "a999c8db9568442a8c29a5168d2da2ec",
       "version_major": 2,
       "version_minor": 0
      },
      "text/plain": [
       "HBox(children=(IntProgress(value=0, description='Training iteration', max=89, style=ProgressStyle(description_…"
      ]
     },
     "metadata": {},
     "output_type": "display_data"
    },
    {
     "name": "stdout",
     "output_type": "stream",
     "text": [
      "\n"
     ]
    },
    {
     "data": {
      "application/vnd.jupyter.widget-view+json": {
       "model_id": "5412bc0d4ac647159a76869087be126b",
       "version_major": 2,
       "version_minor": 0
      },
      "text/plain": [
       "HBox(children=(IntProgress(value=0, description='Evaluation iteration', max=30, style=ProgressStyle(descriptio…"
      ]
     },
     "metadata": {},
     "output_type": "display_data"
    },
    {
     "name": "stderr",
     "output_type": "stream",
     "text": [
      "\n",
      "\n",
      "Epoch:  20%|██        | 20/100 [07:01<27:56, 20.95s/it]\u001b[A\u001b[A"
     ]
    },
    {
     "name": "stdout",
     "output_type": "stream",
     "text": [
      "\n",
      "Loss history: [3.2492987155914306, 2.7014334201812744, 2.248048802216848, 1.8916106621424358, 1.6385515371958415, 1.3959590633710226, 1.2262824515501658, 1.1264400164286295, 1.0465689639250437, 1.028343033293883, 0.9858526443441709, 0.9138036211331685, 0.9251658628384273, 0.8946281830469768, 0.8715616991122563, 0.8634103685617447, 0.8800227627158165, 0.8408646027247111, 0.8400544270873069]\n",
      "Dev loss: 0.8426856637001038\n"
     ]
    },
    {
     "data": {
      "application/vnd.jupyter.widget-view+json": {
       "model_id": "48d5dd2547a9406eab2dc8b15e67e53c",
       "version_major": 2,
       "version_minor": 0
      },
      "text/plain": [
       "HBox(children=(IntProgress(value=0, description='Training iteration', max=89, style=ProgressStyle(description_…"
      ]
     },
     "metadata": {},
     "output_type": "display_data"
    },
    {
     "name": "stdout",
     "output_type": "stream",
     "text": [
      "\n"
     ]
    },
    {
     "data": {
      "application/vnd.jupyter.widget-view+json": {
       "model_id": "699f3b611f6e462fb91e8e697aa52631",
       "version_major": 2,
       "version_minor": 0
      },
      "text/plain": [
       "HBox(children=(IntProgress(value=0, description='Evaluation iteration', max=30, style=ProgressStyle(descriptio…"
      ]
     },
     "metadata": {},
     "output_type": "display_data"
    },
    {
     "name": "stderr",
     "output_type": "stream",
     "text": [
      "\n",
      "\n",
      "Epoch:  21%|██        | 21/100 [07:21<27:29, 20.87s/it]\u001b[A\u001b[A"
     ]
    },
    {
     "name": "stdout",
     "output_type": "stream",
     "text": [
      "\n",
      "Loss history: [3.2492987155914306, 2.7014334201812744, 2.248048802216848, 1.8916106621424358, 1.6385515371958415, 1.3959590633710226, 1.2262824515501658, 1.1264400164286295, 1.0465689639250437, 1.028343033293883, 0.9858526443441709, 0.9138036211331685, 0.9251658628384273, 0.8946281830469768, 0.8715616991122563, 0.8634103685617447, 0.8800227627158165, 0.8408646027247111, 0.8400544270873069, 0.8426856637001038]\n",
      "Dev loss: 0.850837238629659\n"
     ]
    },
    {
     "data": {
      "application/vnd.jupyter.widget-view+json": {
       "model_id": "c0f5eaa49eb04224a4b17bb52e7c1ec7",
       "version_major": 2,
       "version_minor": 0
      },
      "text/plain": [
       "HBox(children=(IntProgress(value=0, description='Training iteration', max=89, style=ProgressStyle(description_…"
      ]
     },
     "metadata": {},
     "output_type": "display_data"
    },
    {
     "name": "stdout",
     "output_type": "stream",
     "text": [
      "\n"
     ]
    },
    {
     "data": {
      "application/vnd.jupyter.widget-view+json": {
       "model_id": "194fd2c99d934a17b48a3979ec302495",
       "version_major": 2,
       "version_minor": 0
      },
      "text/plain": [
       "HBox(children=(IntProgress(value=0, description='Evaluation iteration', max=30, style=ProgressStyle(descriptio…"
      ]
     },
     "metadata": {},
     "output_type": "display_data"
    },
    {
     "name": "stderr",
     "output_type": "stream",
     "text": [
      "\n",
      "\n",
      "Epoch:  22%|██▏       | 22/100 [07:42<27:04, 20.82s/it]\u001b[A\u001b[A"
     ]
    },
    {
     "name": "stdout",
     "output_type": "stream",
     "text": [
      "\n",
      "Loss history: [3.2492987155914306, 2.7014334201812744, 2.248048802216848, 1.8916106621424358, 1.6385515371958415, 1.3959590633710226, 1.2262824515501658, 1.1264400164286295, 1.0465689639250437, 1.028343033293883, 0.9858526443441709, 0.9138036211331685, 0.9251658628384273, 0.8946281830469768, 0.8715616991122563, 0.8634103685617447, 0.8800227627158165, 0.8408646027247111, 0.8400544270873069, 0.8426856637001038, 0.850837238629659]\n",
      "Dev loss: 0.8405556430419286\n"
     ]
    },
    {
     "data": {
      "application/vnd.jupyter.widget-view+json": {
       "model_id": "c48bd8c8e474476f98b2532bb5cf2834",
       "version_major": 2,
       "version_minor": 0
      },
      "text/plain": [
       "HBox(children=(IntProgress(value=0, description='Training iteration', max=89, style=ProgressStyle(description_…"
      ]
     },
     "metadata": {},
     "output_type": "display_data"
    },
    {
     "name": "stdout",
     "output_type": "stream",
     "text": [
      "\n"
     ]
    },
    {
     "data": {
      "application/vnd.jupyter.widget-view+json": {
       "model_id": "65a105e5a8a742da83a51aeb184656cb",
       "version_major": 2,
       "version_minor": 0
      },
      "text/plain": [
       "HBox(children=(IntProgress(value=0, description='Evaluation iteration', max=30, style=ProgressStyle(descriptio…"
      ]
     },
     "metadata": {},
     "output_type": "display_data"
    },
    {
     "name": "stdout",
     "output_type": "stream",
     "text": [
      "\n",
      "Loss history: [3.2492987155914306, 2.7014334201812744, 2.248048802216848, 1.8916106621424358, 1.6385515371958415, 1.3959590633710226, 1.2262824515501658, 1.1264400164286295, 1.0465689639250437, 1.028343033293883, 0.9858526443441709, 0.9138036211331685, 0.9251658628384273, 0.8946281830469768, 0.8715616991122563, 0.8634103685617447, 0.8800227627158165, 0.8408646027247111, 0.8400544270873069, 0.8426856637001038, 0.850837238629659, 0.8405556430419286]\n",
      "Dev loss: 0.838591180741787\n"
     ]
    },
    {
     "name": "stderr",
     "output_type": "stream",
     "text": [
      "\n",
      "\n",
      "Epoch:  23%|██▎       | 23/100 [08:03<26:50, 20.92s/it]\u001b[A\u001b[A"
     ]
    },
    {
     "data": {
      "application/vnd.jupyter.widget-view+json": {
       "model_id": "7348db25633a4ac18c48512ef3ce872f",
       "version_major": 2,
       "version_minor": 0
      },
      "text/plain": [
       "HBox(children=(IntProgress(value=0, description='Training iteration', max=89, style=ProgressStyle(description_…"
      ]
     },
     "metadata": {},
     "output_type": "display_data"
    },
    {
     "name": "stdout",
     "output_type": "stream",
     "text": [
      "\n"
     ]
    },
    {
     "data": {
      "application/vnd.jupyter.widget-view+json": {
       "model_id": "6a15f49814cf485b99fc20257dadca58",
       "version_major": 2,
       "version_minor": 0
      },
      "text/plain": [
       "HBox(children=(IntProgress(value=0, description='Evaluation iteration', max=30, style=ProgressStyle(descriptio…"
      ]
     },
     "metadata": {},
     "output_type": "display_data"
    },
    {
     "name": "stdout",
     "output_type": "stream",
     "text": [
      "\n",
      "Loss history: [3.2492987155914306, 2.7014334201812744, 2.248048802216848, 1.8916106621424358, 1.6385515371958415, 1.3959590633710226, 1.2262824515501658, 1.1264400164286295, 1.0465689639250437, 1.028343033293883, 0.9858526443441709, 0.9138036211331685, 0.9251658628384273, 0.8946281830469768, 0.8715616991122563, 0.8634103685617447, 0.8800227627158165, 0.8408646027247111, 0.8400544270873069, 0.8426856637001038, 0.850837238629659, 0.8405556430419286, 0.838591180741787]\n",
      "Dev loss: 0.8242155452569325\n"
     ]
    },
    {
     "name": "stderr",
     "output_type": "stream",
     "text": [
      "\n",
      "\n",
      "Epoch:  24%|██▍       | 24/100 [08:24<26:35, 20.99s/it]\u001b[A\u001b[A"
     ]
    },
    {
     "data": {
      "application/vnd.jupyter.widget-view+json": {
       "model_id": "a1bfd1c772b9434ebbaf356138434edb",
       "version_major": 2,
       "version_minor": 0
      },
      "text/plain": [
       "HBox(children=(IntProgress(value=0, description='Training iteration', max=89, style=ProgressStyle(description_…"
      ]
     },
     "metadata": {},
     "output_type": "display_data"
    },
    {
     "name": "stdout",
     "output_type": "stream",
     "text": [
      "\n"
     ]
    },
    {
     "data": {
      "application/vnd.jupyter.widget-view+json": {
       "model_id": "df9afd1c3f8b484cacc7f2feceadfce5",
       "version_major": 2,
       "version_minor": 0
      },
      "text/plain": [
       "HBox(children=(IntProgress(value=0, description='Evaluation iteration', max=30, style=ProgressStyle(descriptio…"
      ]
     },
     "metadata": {},
     "output_type": "display_data"
    },
    {
     "name": "stderr",
     "output_type": "stream",
     "text": [
      "\n",
      "\n",
      "Epoch:  25%|██▌       | 25/100 [08:45<26:07, 20.90s/it]\u001b[A\u001b[A"
     ]
    },
    {
     "name": "stdout",
     "output_type": "stream",
     "text": [
      "\n",
      "Loss history: [3.2492987155914306, 2.7014334201812744, 2.248048802216848, 1.8916106621424358, 1.6385515371958415, 1.3959590633710226, 1.2262824515501658, 1.1264400164286295, 1.0465689639250437, 1.028343033293883, 0.9858526443441709, 0.9138036211331685, 0.9251658628384273, 0.8946281830469768, 0.8715616991122563, 0.8634103685617447, 0.8800227627158165, 0.8408646027247111, 0.8400544270873069, 0.8426856637001038, 0.850837238629659, 0.8405556430419286, 0.838591180741787, 0.8242155452569325]\n",
      "Dev loss: 0.843588254849116\n"
     ]
    },
    {
     "data": {
      "application/vnd.jupyter.widget-view+json": {
       "model_id": "a0de084860874989b0a5a3ef7f3384c8",
       "version_major": 2,
       "version_minor": 0
      },
      "text/plain": [
       "HBox(children=(IntProgress(value=0, description='Training iteration', max=89, style=ProgressStyle(description_…"
      ]
     },
     "metadata": {},
     "output_type": "display_data"
    },
    {
     "name": "stdout",
     "output_type": "stream",
     "text": [
      "\n"
     ]
    },
    {
     "data": {
      "application/vnd.jupyter.widget-view+json": {
       "model_id": "ed15da77319e424c9cb28b9bc591d39c",
       "version_major": 2,
       "version_minor": 0
      },
      "text/plain": [
       "HBox(children=(IntProgress(value=0, description='Evaluation iteration', max=30, style=ProgressStyle(descriptio…"
      ]
     },
     "metadata": {},
     "output_type": "display_data"
    },
    {
     "name": "stderr",
     "output_type": "stream",
     "text": [
      "\n",
      "\n",
      "Epoch:  26%|██▌       | 26/100 [09:06<25:42, 20.84s/it]\u001b[A\u001b[A"
     ]
    },
    {
     "name": "stdout",
     "output_type": "stream",
     "text": [
      "\n",
      "Loss history: [3.2492987155914306, 2.7014334201812744, 2.248048802216848, 1.8916106621424358, 1.6385515371958415, 1.3959590633710226, 1.2262824515501658, 1.1264400164286295, 1.0465689639250437, 1.028343033293883, 0.9858526443441709, 0.9138036211331685, 0.9251658628384273, 0.8946281830469768, 0.8715616991122563, 0.8634103685617447, 0.8800227627158165, 0.8408646027247111, 0.8400544270873069, 0.8426856637001038, 0.850837238629659, 0.8405556430419286, 0.838591180741787, 0.8242155452569325, 0.843588254849116]\n",
      "Dev loss: 0.8570955107609431\n"
     ]
    },
    {
     "data": {
      "application/vnd.jupyter.widget-view+json": {
       "model_id": "45c478e334124174b3f6c72b9d48c8c9",
       "version_major": 2,
       "version_minor": 0
      },
      "text/plain": [
       "HBox(children=(IntProgress(value=0, description='Training iteration', max=89, style=ProgressStyle(description_…"
      ]
     },
     "metadata": {},
     "output_type": "display_data"
    },
    {
     "name": "stdout",
     "output_type": "stream",
     "text": [
      "\n"
     ]
    },
    {
     "data": {
      "application/vnd.jupyter.widget-view+json": {
       "model_id": "d3730ef104124052bc1e1e403a60fbba",
       "version_major": 2,
       "version_minor": 0
      },
      "text/plain": [
       "HBox(children=(IntProgress(value=0, description='Evaluation iteration', max=30, style=ProgressStyle(descriptio…"
      ]
     },
     "metadata": {},
     "output_type": "display_data"
    },
    {
     "name": "stderr",
     "output_type": "stream",
     "text": [
      "\n",
      "\n",
      "Epoch:  27%|██▋       | 27/100 [09:27<25:18, 20.80s/it]\u001b[A\u001b[A"
     ]
    },
    {
     "name": "stdout",
     "output_type": "stream",
     "text": [
      "\n",
      "Loss history: [3.2492987155914306, 2.7014334201812744, 2.248048802216848, 1.8916106621424358, 1.6385515371958415, 1.3959590633710226, 1.2262824515501658, 1.1264400164286295, 1.0465689639250437, 1.028343033293883, 0.9858526443441709, 0.9138036211331685, 0.9251658628384273, 0.8946281830469768, 0.8715616991122563, 0.8634103685617447, 0.8800227627158165, 0.8408646027247111, 0.8400544270873069, 0.8426856637001038, 0.850837238629659, 0.8405556430419286, 0.838591180741787, 0.8242155452569325, 0.843588254849116, 0.8570955107609431]\n",
      "Dev loss: 0.8476788947979609\n"
     ]
    },
    {
     "data": {
      "application/vnd.jupyter.widget-view+json": {
       "model_id": "58397150e5a740fb856e92cc8b277942",
       "version_major": 2,
       "version_minor": 0
      },
      "text/plain": [
       "HBox(children=(IntProgress(value=0, description='Training iteration', max=89, style=ProgressStyle(description_…"
      ]
     },
     "metadata": {},
     "output_type": "display_data"
    },
    {
     "name": "stdout",
     "output_type": "stream",
     "text": [
      "\n"
     ]
    },
    {
     "data": {
      "application/vnd.jupyter.widget-view+json": {
       "model_id": "d6e7a48013d74fb18ec481dd186f9c94",
       "version_major": 2,
       "version_minor": 0
      },
      "text/plain": [
       "HBox(children=(IntProgress(value=0, description='Evaluation iteration', max=30, style=ProgressStyle(descriptio…"
      ]
     },
     "metadata": {},
     "output_type": "display_data"
    },
    {
     "name": "stderr",
     "output_type": "stream",
     "text": [
      "\n",
      "\n",
      "Epoch:  28%|██▊       | 28/100 [09:47<24:55, 20.77s/it]\u001b[A\u001b[A"
     ]
    },
    {
     "name": "stdout",
     "output_type": "stream",
     "text": [
      "\n",
      "Loss history: [3.2492987155914306, 2.7014334201812744, 2.248048802216848, 1.8916106621424358, 1.6385515371958415, 1.3959590633710226, 1.2262824515501658, 1.1264400164286295, 1.0465689639250437, 1.028343033293883, 0.9858526443441709, 0.9138036211331685, 0.9251658628384273, 0.8946281830469768, 0.8715616991122563, 0.8634103685617447, 0.8800227627158165, 0.8408646027247111, 0.8400544270873069, 0.8426856637001038, 0.850837238629659, 0.8405556430419286, 0.838591180741787, 0.8242155452569325, 0.843588254849116, 0.8570955107609431, 0.8476788947979609]\n",
      "Dev loss: 0.843557799855868\n"
     ]
    },
    {
     "data": {
      "application/vnd.jupyter.widget-view+json": {
       "model_id": "58036460d16b4b4cbb7fe4a7ce6e4819",
       "version_major": 2,
       "version_minor": 0
      },
      "text/plain": [
       "HBox(children=(IntProgress(value=0, description='Training iteration', max=89, style=ProgressStyle(description_…"
      ]
     },
     "metadata": {},
     "output_type": "display_data"
    },
    {
     "name": "stdout",
     "output_type": "stream",
     "text": [
      "\n"
     ]
    },
    {
     "data": {
      "application/vnd.jupyter.widget-view+json": {
       "model_id": "11925a23e1a34781a04f700a9ded75f9",
       "version_major": 2,
       "version_minor": 0
      },
      "text/plain": [
       "HBox(children=(IntProgress(value=0, description='Evaluation iteration', max=30, style=ProgressStyle(descriptio…"
      ]
     },
     "metadata": {},
     "output_type": "display_data"
    },
    {
     "name": "stdout",
     "output_type": "stream",
     "text": [
      "\n",
      "Loss history: [3.2492987155914306, 2.7014334201812744, 2.248048802216848, 1.8916106621424358, 1.6385515371958415, 1.3959590633710226, 1.2262824515501658, 1.1264400164286295, 1.0465689639250437, 1.028343033293883, 0.9858526443441709, 0.9138036211331685, 0.9251658628384273, 0.8946281830469768, 0.8715616991122563, 0.8634103685617447, 0.8800227627158165, 0.8408646027247111, 0.8400544270873069, 0.8426856637001038, 0.850837238629659, 0.8405556430419286, 0.838591180741787, 0.8242155452569325, 0.843588254849116, 0.8570955107609431, 0.8476788947979609, 0.843557799855868]\n",
      "Dev loss: 0.8450007796287536\n",
      "No improvement on development set. Finish training.\n",
      "Loading model from /tmp/model.bin\n"
     ]
    },
    {
     "name": "stderr",
     "output_type": "stream",
     "text": [
      "I0406 18:33:59.636682 140397457205056 configuration_utils.py:256] loading configuration file https://s3.amazonaws.com/models.huggingface.co/bert/bert-base-uncased-config.json from cache at /home/yves/.cache/torch/transformers/4dad0251492946e18ac39290fcfe91b89d370fee250efe9521476438fe8ca185.8f56353af4a709bf5ff0fbc915d8f5b42bfff892cbb6ac98c3c45f481a03c685\n",
      "I0406 18:33:59.638311 140397457205056 configuration_utils.py:292] Model config BertConfig {\n",
      "  \"architectures\": [\n",
      "    \"BertForMaskedLM\"\n",
      "  ],\n",
      "  \"attention_probs_dropout_prob\": 0.1,\n",
      "  \"bos_token_id\": null,\n",
      "  \"do_sample\": false,\n",
      "  \"eos_token_ids\": null,\n",
      "  \"finetuning_task\": null,\n",
      "  \"hidden_act\": \"gelu\",\n",
      "  \"hidden_dropout_prob\": 0.1,\n",
      "  \"hidden_size\": 768,\n",
      "  \"id2label\": {\n",
      "    \"0\": \"LABEL_0\",\n",
      "    \"1\": \"LABEL_1\"\n",
      "  },\n",
      "  \"initializer_range\": 0.02,\n",
      "  \"intermediate_size\": 3072,\n",
      "  \"is_decoder\": false,\n",
      "  \"label2id\": {\n",
      "    \"LABEL_0\": 0,\n",
      "    \"LABEL_1\": 1\n",
      "  },\n",
      "  \"layer_norm_eps\": 1e-12,\n",
      "  \"length_penalty\": 1.0,\n",
      "  \"max_length\": 20,\n",
      "  \"max_position_embeddings\": 512,\n",
      "  \"model_type\": \"bert\",\n",
      "  \"num_attention_heads\": 12,\n",
      "  \"num_beams\": 1,\n",
      "  \"num_hidden_layers\": 12,\n",
      "  \"num_labels\": 34,\n",
      "  \"num_return_sequences\": 1,\n",
      "  \"output_attentions\": false,\n",
      "  \"output_hidden_states\": false,\n",
      "  \"output_past\": true,\n",
      "  \"pad_token_id\": null,\n",
      "  \"pruned_heads\": {},\n",
      "  \"repetition_penalty\": 1.0,\n",
      "  \"temperature\": 1.0,\n",
      "  \"top_k\": 50,\n",
      "  \"top_p\": 1.0,\n",
      "  \"torchscript\": false,\n",
      "  \"type_vocab_size\": 2,\n",
      "  \"use_bfloat16\": false,\n",
      "  \"vocab_size\": 30522\n",
      "}\n",
      "\n",
      "I0406 18:34:00.079521 140397457205056 modeling_utils.py:461] loading weights file https://s3.amazonaws.com/models.huggingface.co/bert/bert-base-uncased-pytorch_model.bin from cache at /home/yves/.cache/torch/transformers/aa1ef1aede4482d0dbcd4d52baad8ae300e60902e88fcb0bebdec09afd232066.36ca03ab34a1a5d5fa7bc3d03d55c4fa650fed07220e2eeebc06ce58d0e9a157\n"
     ]
    },
    {
     "data": {
      "application/vnd.jupyter.widget-view+json": {
       "model_id": "362907026f6d44c28749d5c402b3d59d",
       "version_major": 2,
       "version_minor": 0
      },
      "text/plain": [
       "HBox(children=(IntProgress(value=0, description='Evaluation iteration', max=30, style=ProgressStyle(descriptio…"
      ]
     },
     "metadata": {},
     "output_type": "display_data"
    },
    {
     "name": "stdout",
     "output_type": "stream",
     "text": [
      "\n"
     ]
    },
    {
     "name": "stderr",
     "output_type": "stream",
     "text": [
      "I0406 18:34:13.588021 140397457205056 configuration_utils.py:256] loading configuration file https://s3.amazonaws.com/models.huggingface.co/bert/bert-base-uncased-config.json from cache at /home/yves/.cache/torch/transformers/4dad0251492946e18ac39290fcfe91b89d370fee250efe9521476438fe8ca185.8f56353af4a709bf5ff0fbc915d8f5b42bfff892cbb6ac98c3c45f481a03c685\n",
      "I0406 18:34:13.589633 140397457205056 configuration_utils.py:292] Model config BertConfig {\n",
      "  \"architectures\": [\n",
      "    \"BertForMaskedLM\"\n",
      "  ],\n",
      "  \"attention_probs_dropout_prob\": 0.1,\n",
      "  \"bos_token_id\": null,\n",
      "  \"do_sample\": false,\n",
      "  \"eos_token_ids\": null,\n",
      "  \"finetuning_task\": null,\n",
      "  \"hidden_act\": \"gelu\",\n",
      "  \"hidden_dropout_prob\": 0.1,\n",
      "  \"hidden_size\": 768,\n",
      "  \"id2label\": {\n",
      "    \"0\": \"LABEL_0\",\n",
      "    \"1\": \"LABEL_1\"\n",
      "  },\n",
      "  \"initializer_range\": 0.02,\n",
      "  \"intermediate_size\": 3072,\n",
      "  \"is_decoder\": false,\n",
      "  \"label2id\": {\n",
      "    \"LABEL_0\": 0,\n",
      "    \"LABEL_1\": 1\n",
      "  },\n",
      "  \"layer_norm_eps\": 1e-12,\n",
      "  \"length_penalty\": 1.0,\n",
      "  \"max_length\": 20,\n",
      "  \"max_position_embeddings\": 512,\n",
      "  \"model_type\": \"bert\",\n",
      "  \"num_attention_heads\": 12,\n",
      "  \"num_beams\": 1,\n",
      "  \"num_hidden_layers\": 12,\n",
      "  \"num_labels\": 34,\n",
      "  \"num_return_sequences\": 1,\n",
      "  \"output_attentions\": false,\n",
      "  \"output_hidden_states\": false,\n",
      "  \"output_past\": true,\n",
      "  \"pad_token_id\": null,\n",
      "  \"pruned_heads\": {},\n",
      "  \"repetition_penalty\": 1.0,\n",
      "  \"temperature\": 1.0,\n",
      "  \"top_k\": 50,\n",
      "  \"top_p\": 1.0,\n",
      "  \"torchscript\": false,\n",
      "  \"type_vocab_size\": 2,\n",
      "  \"use_bfloat16\": false,\n",
      "  \"vocab_size\": 30522\n",
      "}\n",
      "\n",
      "I0406 18:34:14.066057 140397457205056 modeling_utils.py:461] loading weights file https://s3.amazonaws.com/models.huggingface.co/bert/bert-base-uncased-pytorch_model.bin from cache at /home/yves/.cache/torch/transformers/aa1ef1aede4482d0dbcd4d52baad8ae300e60902e88fcb0bebdec09afd232066.36ca03ab34a1a5d5fa7bc3d03d55c4fa650fed07220e2eeebc06ce58d0e9a157\n",
      "I0406 18:34:15.633208 140397457205056 modeling_utils.py:546] Weights of BertForSequenceClassification not initialized from pretrained model: ['classifier.weight', 'classifier.bias']\n",
      "I0406 18:34:15.633867 140397457205056 modeling_utils.py:552] Weights from pretrained model not used in BertForSequenceClassification: ['cls.predictions.bias', 'cls.predictions.transform.dense.weight', 'cls.predictions.transform.dense.bias', 'cls.predictions.decoder.weight', 'cls.seq_relationship.weight', 'cls.seq_relationship.bias', 'cls.predictions.transform.LayerNorm.weight', 'cls.predictions.transform.LayerNorm.bias']\n",
      "\n",
      "\n",
      "\n",
      "Epoch:   0%|          | 0/100 [00:00<?, ?it/s]\u001b[A\u001b[A\u001b[A"
     ]
    },
    {
     "data": {
      "application/vnd.jupyter.widget-view+json": {
       "model_id": "17d8749f4a90452b9a00531bd5505f7c",
       "version_major": 2,
       "version_minor": 0
      },
      "text/plain": [
       "HBox(children=(IntProgress(value=0, description='Training iteration', max=89, style=ProgressStyle(description_…"
      ]
     },
     "metadata": {},
     "output_type": "display_data"
    },
    {
     "name": "stdout",
     "output_type": "stream",
     "text": [
      "\n"
     ]
    },
    {
     "data": {
      "application/vnd.jupyter.widget-view+json": {
       "model_id": "43715770abe74b7d900cbf1151061c2b",
       "version_major": 2,
       "version_minor": 0
      },
      "text/plain": [
       "HBox(children=(IntProgress(value=0, description='Evaluation iteration', max=30, style=ProgressStyle(descriptio…"
      ]
     },
     "metadata": {},
     "output_type": "display_data"
    },
    {
     "name": "stdout",
     "output_type": "stream",
     "text": [
      "\n",
      "Loss history: []\n",
      "Dev loss: 3.2670257647832233\n"
     ]
    },
    {
     "name": "stderr",
     "output_type": "stream",
     "text": [
      "\n",
      "\n",
      "\n",
      "Epoch:   1%|          | 1/100 [00:21<34:44, 21.06s/it]\u001b[A\u001b[A\u001b[A"
     ]
    },
    {
     "data": {
      "application/vnd.jupyter.widget-view+json": {
       "model_id": "6a9246bc3f214497808c6182c3a85168",
       "version_major": 2,
       "version_minor": 0
      },
      "text/plain": [
       "HBox(children=(IntProgress(value=0, description='Training iteration', max=89, style=ProgressStyle(description_…"
      ]
     },
     "metadata": {},
     "output_type": "display_data"
    },
    {
     "name": "stdout",
     "output_type": "stream",
     "text": [
      "\n"
     ]
    },
    {
     "data": {
      "application/vnd.jupyter.widget-view+json": {
       "model_id": "daaddf35c3914672beb29fcb03297ad4",
       "version_major": 2,
       "version_minor": 0
      },
      "text/plain": [
       "HBox(children=(IntProgress(value=0, description='Evaluation iteration', max=30, style=ProgressStyle(descriptio…"
      ]
     },
     "metadata": {},
     "output_type": "display_data"
    },
    {
     "name": "stdout",
     "output_type": "stream",
     "text": [
      "\n",
      "Loss history: [3.2670257647832233]\n",
      "Dev loss: 2.903889854749044\n"
     ]
    },
    {
     "name": "stderr",
     "output_type": "stream",
     "text": [
      "\n",
      "\n",
      "\n",
      "Epoch:   2%|▏         | 2/100 [00:42<34:24, 21.07s/it]\u001b[A\u001b[A\u001b[A"
     ]
    },
    {
     "data": {
      "application/vnd.jupyter.widget-view+json": {
       "model_id": "553c0b24de5c4c96879dabea6bd5e13b",
       "version_major": 2,
       "version_minor": 0
      },
      "text/plain": [
       "HBox(children=(IntProgress(value=0, description='Training iteration', max=89, style=ProgressStyle(description_…"
      ]
     },
     "metadata": {},
     "output_type": "display_data"
    },
    {
     "name": "stdout",
     "output_type": "stream",
     "text": [
      "\n"
     ]
    },
    {
     "data": {
      "application/vnd.jupyter.widget-view+json": {
       "model_id": "43489de91ada4545bd6f1ce593c9dc2c",
       "version_major": 2,
       "version_minor": 0
      },
      "text/plain": [
       "HBox(children=(IntProgress(value=0, description='Evaluation iteration', max=30, style=ProgressStyle(descriptio…"
      ]
     },
     "metadata": {},
     "output_type": "display_data"
    },
    {
     "name": "stdout",
     "output_type": "stream",
     "text": [
      "\n",
      "Loss history: [3.2670257647832233, 2.903889854749044]\n",
      "Dev loss: 2.5840357065200807\n"
     ]
    },
    {
     "name": "stderr",
     "output_type": "stream",
     "text": [
      "\n",
      "\n",
      "\n",
      "Epoch:   3%|▎         | 3/100 [01:03<34:05, 21.08s/it]\u001b[A\u001b[A\u001b[A"
     ]
    },
    {
     "data": {
      "application/vnd.jupyter.widget-view+json": {
       "model_id": "e1c64a2798d74491916df26eae8e0bea",
       "version_major": 2,
       "version_minor": 0
      },
      "text/plain": [
       "HBox(children=(IntProgress(value=0, description='Training iteration', max=89, style=ProgressStyle(description_…"
      ]
     },
     "metadata": {},
     "output_type": "display_data"
    },
    {
     "name": "stdout",
     "output_type": "stream",
     "text": [
      "\n"
     ]
    },
    {
     "data": {
      "application/vnd.jupyter.widget-view+json": {
       "model_id": "f29f4d0151b64c39b7cbb495653b278f",
       "version_major": 2,
       "version_minor": 0
      },
      "text/plain": [
       "HBox(children=(IntProgress(value=0, description='Evaluation iteration', max=30, style=ProgressStyle(descriptio…"
      ]
     },
     "metadata": {},
     "output_type": "display_data"
    },
    {
     "name": "stdout",
     "output_type": "stream",
     "text": [
      "\n",
      "Loss history: [3.2670257647832233, 2.903889854749044, 2.5840357065200807]\n",
      "Dev loss: 2.2129236300786337\n"
     ]
    },
    {
     "name": "stderr",
     "output_type": "stream",
     "text": [
      "\n",
      "\n",
      "\n",
      "Epoch:   4%|▍         | 4/100 [01:24<33:45, 21.10s/it]\u001b[A\u001b[A\u001b[A"
     ]
    },
    {
     "data": {
      "application/vnd.jupyter.widget-view+json": {
       "model_id": "9794f236d1a9432bb26d30b2fdad0dd8",
       "version_major": 2,
       "version_minor": 0
      },
      "text/plain": [
       "HBox(children=(IntProgress(value=0, description='Training iteration', max=89, style=ProgressStyle(description_…"
      ]
     },
     "metadata": {},
     "output_type": "display_data"
    },
    {
     "name": "stdout",
     "output_type": "stream",
     "text": [
      "\n"
     ]
    },
    {
     "data": {
      "application/vnd.jupyter.widget-view+json": {
       "model_id": "ce4f3dc5d4944990878e9cb664c1db04",
       "version_major": 2,
       "version_minor": 0
      },
      "text/plain": [
       "HBox(children=(IntProgress(value=0, description='Evaluation iteration', max=30, style=ProgressStyle(descriptio…"
      ]
     },
     "metadata": {},
     "output_type": "display_data"
    },
    {
     "name": "stdout",
     "output_type": "stream",
     "text": [
      "\n",
      "Loss history: [3.2670257647832233, 2.903889854749044, 2.5840357065200807, 2.2129236300786337]\n",
      "Dev loss: 1.8371737043062846\n"
     ]
    },
    {
     "name": "stderr",
     "output_type": "stream",
     "text": [
      "\n",
      "\n",
      "\n",
      "Epoch:   5%|▌         | 5/100 [01:45<33:25, 21.11s/it]\u001b[A\u001b[A\u001b[A"
     ]
    },
    {
     "data": {
      "application/vnd.jupyter.widget-view+json": {
       "model_id": "1c09071120a045c18490f5d85531e363",
       "version_major": 2,
       "version_minor": 0
      },
      "text/plain": [
       "HBox(children=(IntProgress(value=0, description='Training iteration', max=89, style=ProgressStyle(description_…"
      ]
     },
     "metadata": {},
     "output_type": "display_data"
    },
    {
     "name": "stdout",
     "output_type": "stream",
     "text": [
      "\n"
     ]
    },
    {
     "data": {
      "application/vnd.jupyter.widget-view+json": {
       "model_id": "7a02e37ddb0e40eba13a1f5b17b6a21b",
       "version_major": 2,
       "version_minor": 0
      },
      "text/plain": [
       "HBox(children=(IntProgress(value=0, description='Evaluation iteration', max=30, style=ProgressStyle(descriptio…"
      ]
     },
     "metadata": {},
     "output_type": "display_data"
    },
    {
     "name": "stdout",
     "output_type": "stream",
     "text": [
      "\n",
      "Loss history: [3.2670257647832233, 2.903889854749044, 2.5840357065200807, 2.2129236300786337, 1.8371737043062846]\n",
      "Dev loss: 1.5553256710370382\n"
     ]
    },
    {
     "name": "stderr",
     "output_type": "stream",
     "text": [
      "\n",
      "\n",
      "\n",
      "Epoch:   6%|▌         | 6/100 [02:06<33:05, 21.12s/it]\u001b[A\u001b[A\u001b[A"
     ]
    },
    {
     "data": {
      "application/vnd.jupyter.widget-view+json": {
       "model_id": "8b942557743a409785c3c69994b2933b",
       "version_major": 2,
       "version_minor": 0
      },
      "text/plain": [
       "HBox(children=(IntProgress(value=0, description='Training iteration', max=89, style=ProgressStyle(description_…"
      ]
     },
     "metadata": {},
     "output_type": "display_data"
    },
    {
     "name": "stdout",
     "output_type": "stream",
     "text": [
      "\n"
     ]
    },
    {
     "data": {
      "application/vnd.jupyter.widget-view+json": {
       "model_id": "69e8c65dc7b447c58297eb966dc6a719",
       "version_major": 2,
       "version_minor": 0
      },
      "text/plain": [
       "HBox(children=(IntProgress(value=0, description='Evaluation iteration', max=30, style=ProgressStyle(descriptio…"
      ]
     },
     "metadata": {},
     "output_type": "display_data"
    },
    {
     "name": "stdout",
     "output_type": "stream",
     "text": [
      "\n",
      "Loss history: [3.2670257647832233, 2.903889854749044, 2.5840357065200807, 2.2129236300786337, 1.8371737043062846, 1.5553256710370382]\n",
      "Dev loss: 1.3585904439290364\n"
     ]
    },
    {
     "name": "stderr",
     "output_type": "stream",
     "text": [
      "\n",
      "\n",
      "\n",
      "Epoch:   7%|▋         | 7/100 [02:27<32:45, 21.13s/it]\u001b[A\u001b[A\u001b[A"
     ]
    },
    {
     "data": {
      "application/vnd.jupyter.widget-view+json": {
       "model_id": "a495a815df134b9caaff47a3c334f7cf",
       "version_major": 2,
       "version_minor": 0
      },
      "text/plain": [
       "HBox(children=(IntProgress(value=0, description='Training iteration', max=89, style=ProgressStyle(description_…"
      ]
     },
     "metadata": {},
     "output_type": "display_data"
    },
    {
     "name": "stdout",
     "output_type": "stream",
     "text": [
      "\n"
     ]
    },
    {
     "data": {
      "application/vnd.jupyter.widget-view+json": {
       "model_id": "44d003bffe2948a4a5b64b4f0ec5f638",
       "version_major": 2,
       "version_minor": 0
      },
      "text/plain": [
       "HBox(children=(IntProgress(value=0, description='Evaluation iteration', max=30, style=ProgressStyle(descriptio…"
      ]
     },
     "metadata": {},
     "output_type": "display_data"
    },
    {
     "name": "stdout",
     "output_type": "stream",
     "text": [
      "\n",
      "Loss history: [3.2670257647832233, 2.903889854749044, 2.5840357065200807, 2.2129236300786337, 1.8371737043062846, 1.5553256710370382, 1.3585904439290364]\n",
      "Dev loss: 1.2083387891451518\n"
     ]
    },
    {
     "name": "stderr",
     "output_type": "stream",
     "text": [
      "\n",
      "\n",
      "\n",
      "Epoch:   8%|▊         | 8/100 [02:48<32:24, 21.14s/it]\u001b[A\u001b[A\u001b[A"
     ]
    },
    {
     "data": {
      "application/vnd.jupyter.widget-view+json": {
       "model_id": "2e1b0813984f4fe4a9b13a7b85325c6c",
       "version_major": 2,
       "version_minor": 0
      },
      "text/plain": [
       "HBox(children=(IntProgress(value=0, description='Training iteration', max=89, style=ProgressStyle(description_…"
      ]
     },
     "metadata": {},
     "output_type": "display_data"
    },
    {
     "name": "stdout",
     "output_type": "stream",
     "text": [
      "\n"
     ]
    },
    {
     "data": {
      "application/vnd.jupyter.widget-view+json": {
       "model_id": "5de8dabb5c3448b2ad39a88ac7fbc650",
       "version_major": 2,
       "version_minor": 0
      },
      "text/plain": [
       "HBox(children=(IntProgress(value=0, description='Evaluation iteration', max=30, style=ProgressStyle(descriptio…"
      ]
     },
     "metadata": {},
     "output_type": "display_data"
    },
    {
     "name": "stdout",
     "output_type": "stream",
     "text": [
      "\n",
      "Loss history: [3.2670257647832233, 2.903889854749044, 2.5840357065200807, 2.2129236300786337, 1.8371737043062846, 1.5553256710370382, 1.3585904439290364, 1.2083387891451518]\n",
      "Dev loss: 1.130923291047414\n"
     ]
    },
    {
     "name": "stderr",
     "output_type": "stream",
     "text": [
      "\n",
      "\n",
      "\n",
      "Epoch:   9%|▉         | 9/100 [03:10<32:04, 21.15s/it]\u001b[A\u001b[A\u001b[A"
     ]
    },
    {
     "data": {
      "application/vnd.jupyter.widget-view+json": {
       "model_id": "276c0bbebce54144920b9c52f629c774",
       "version_major": 2,
       "version_minor": 0
      },
      "text/plain": [
       "HBox(children=(IntProgress(value=0, description='Training iteration', max=89, style=ProgressStyle(description_…"
      ]
     },
     "metadata": {},
     "output_type": "display_data"
    },
    {
     "name": "stdout",
     "output_type": "stream",
     "text": [
      "\n"
     ]
    },
    {
     "data": {
      "application/vnd.jupyter.widget-view+json": {
       "model_id": "9bbfc1a073b44b698f37c35db37657a3",
       "version_major": 2,
       "version_minor": 0
      },
      "text/plain": [
       "HBox(children=(IntProgress(value=0, description='Evaluation iteration', max=30, style=ProgressStyle(descriptio…"
      ]
     },
     "metadata": {},
     "output_type": "display_data"
    },
    {
     "name": "stdout",
     "output_type": "stream",
     "text": [
      "\n",
      "Loss history: [3.2670257647832233, 2.903889854749044, 2.5840357065200807, 2.2129236300786337, 1.8371737043062846, 1.5553256710370382, 1.3585904439290364, 1.2083387891451518, 1.130923291047414]\n",
      "Dev loss: 1.06386499106884\n"
     ]
    },
    {
     "name": "stderr",
     "output_type": "stream",
     "text": [
      "\n",
      "\n",
      "\n",
      "Epoch:  10%|█         | 10/100 [03:31<31:43, 21.15s/it]\u001b[A\u001b[A\u001b[A"
     ]
    },
    {
     "data": {
      "application/vnd.jupyter.widget-view+json": {
       "model_id": "2f686d0a2a0f422c94faf240210cc841",
       "version_major": 2,
       "version_minor": 0
      },
      "text/plain": [
       "HBox(children=(IntProgress(value=0, description='Training iteration', max=89, style=ProgressStyle(description_…"
      ]
     },
     "metadata": {},
     "output_type": "display_data"
    },
    {
     "name": "stdout",
     "output_type": "stream",
     "text": [
      "\n"
     ]
    },
    {
     "data": {
      "application/vnd.jupyter.widget-view+json": {
       "model_id": "62c401f096474098898774e63f3ac47b",
       "version_major": 2,
       "version_minor": 0
      },
      "text/plain": [
       "HBox(children=(IntProgress(value=0, description='Evaluation iteration', max=30, style=ProgressStyle(descriptio…"
      ]
     },
     "metadata": {},
     "output_type": "display_data"
    },
    {
     "name": "stdout",
     "output_type": "stream",
     "text": [
      "\n",
      "Loss history: [3.2670257647832233, 2.903889854749044, 2.5840357065200807, 2.2129236300786337, 1.8371737043062846, 1.5553256710370382, 1.3585904439290364, 1.2083387891451518, 1.130923291047414, 1.06386499106884]\n",
      "Dev loss: 1.0118305146694184\n"
     ]
    },
    {
     "name": "stderr",
     "output_type": "stream",
     "text": [
      "\n",
      "\n",
      "\n",
      "Epoch:  11%|█         | 11/100 [03:52<31:23, 21.16s/it]\u001b[A\u001b[A\u001b[A"
     ]
    },
    {
     "data": {
      "application/vnd.jupyter.widget-view+json": {
       "model_id": "012201a4ecf54e4593858f0ff852d74c",
       "version_major": 2,
       "version_minor": 0
      },
      "text/plain": [
       "HBox(children=(IntProgress(value=0, description='Training iteration', max=89, style=ProgressStyle(description_…"
      ]
     },
     "metadata": {},
     "output_type": "display_data"
    },
    {
     "name": "stdout",
     "output_type": "stream",
     "text": [
      "\n"
     ]
    },
    {
     "data": {
      "application/vnd.jupyter.widget-view+json": {
       "model_id": "c08b45dacec9404d89a3295cd23044ac",
       "version_major": 2,
       "version_minor": 0
      },
      "text/plain": [
       "HBox(children=(IntProgress(value=0, description='Evaluation iteration', max=30, style=ProgressStyle(descriptio…"
      ]
     },
     "metadata": {},
     "output_type": "display_data"
    },
    {
     "name": "stdout",
     "output_type": "stream",
     "text": [
      "\n",
      "Loss history: [3.2670257647832233, 2.903889854749044, 2.5840357065200807, 2.2129236300786337, 1.8371737043062846, 1.5553256710370382, 1.3585904439290364, 1.2083387891451518, 1.130923291047414, 1.06386499106884, 1.0118305146694184]\n",
      "Dev loss: 0.9572323580582937\n"
     ]
    },
    {
     "name": "stderr",
     "output_type": "stream",
     "text": [
      "\n",
      "\n",
      "\n",
      "Epoch:  12%|█▏        | 12/100 [04:13<31:02, 21.16s/it]\u001b[A\u001b[A\u001b[A"
     ]
    },
    {
     "data": {
      "application/vnd.jupyter.widget-view+json": {
       "model_id": "0b8389fcd4384ff388d3429b27c5eb55",
       "version_major": 2,
       "version_minor": 0
      },
      "text/plain": [
       "HBox(children=(IntProgress(value=0, description='Training iteration', max=89, style=ProgressStyle(description_…"
      ]
     },
     "metadata": {},
     "output_type": "display_data"
    },
    {
     "name": "stdout",
     "output_type": "stream",
     "text": [
      "\n"
     ]
    },
    {
     "data": {
      "application/vnd.jupyter.widget-view+json": {
       "model_id": "c7502de8b40544bf83285d5e37823740",
       "version_major": 2,
       "version_minor": 0
      },
      "text/plain": [
       "HBox(children=(IntProgress(value=0, description='Evaluation iteration', max=30, style=ProgressStyle(descriptio…"
      ]
     },
     "metadata": {},
     "output_type": "display_data"
    },
    {
     "name": "stdout",
     "output_type": "stream",
     "text": [
      "\n",
      "Loss history: [3.2670257647832233, 2.903889854749044, 2.5840357065200807, 2.2129236300786337, 1.8371737043062846, 1.5553256710370382, 1.3585904439290364, 1.2083387891451518, 1.130923291047414, 1.06386499106884, 1.0118305146694184, 0.9572323580582937]\n",
      "Dev loss: 0.9083395431439082\n"
     ]
    },
    {
     "name": "stderr",
     "output_type": "stream",
     "text": [
      "\n",
      "\n",
      "\n",
      "Epoch:  13%|█▎        | 13/100 [04:34<30:40, 21.16s/it]\u001b[A\u001b[A\u001b[A"
     ]
    },
    {
     "data": {
      "application/vnd.jupyter.widget-view+json": {
       "model_id": "4e27ef4481d84c5b86dd89e8f3982bb1",
       "version_major": 2,
       "version_minor": 0
      },
      "text/plain": [
       "HBox(children=(IntProgress(value=0, description='Training iteration', max=89, style=ProgressStyle(description_…"
      ]
     },
     "metadata": {},
     "output_type": "display_data"
    },
    {
     "name": "stdout",
     "output_type": "stream",
     "text": [
      "\n"
     ]
    },
    {
     "data": {
      "application/vnd.jupyter.widget-view+json": {
       "model_id": "eef9ac81240240c89cec8e854ef89963",
       "version_major": 2,
       "version_minor": 0
      },
      "text/plain": [
       "HBox(children=(IntProgress(value=0, description='Evaluation iteration', max=30, style=ProgressStyle(descriptio…"
      ]
     },
     "metadata": {},
     "output_type": "display_data"
    },
    {
     "name": "stdout",
     "output_type": "stream",
     "text": [
      "\n",
      "Loss history: [3.2670257647832233, 2.903889854749044, 2.5840357065200807, 2.2129236300786337, 1.8371737043062846, 1.5553256710370382, 1.3585904439290364, 1.2083387891451518, 1.130923291047414, 1.06386499106884, 1.0118305146694184, 0.9572323580582937, 0.9083395431439082]\n",
      "Dev loss: 0.8725145826737086\n"
     ]
    },
    {
     "name": "stderr",
     "output_type": "stream",
     "text": [
      "\n",
      "\n",
      "\n",
      "Epoch:  14%|█▍        | 14/100 [04:55<30:19, 21.16s/it]\u001b[A\u001b[A\u001b[A"
     ]
    },
    {
     "data": {
      "application/vnd.jupyter.widget-view+json": {
       "model_id": "dcb1e338b6ac44f698c497b6c39bce84",
       "version_major": 2,
       "version_minor": 0
      },
      "text/plain": [
       "HBox(children=(IntProgress(value=0, description='Training iteration', max=89, style=ProgressStyle(description_…"
      ]
     },
     "metadata": {},
     "output_type": "display_data"
    },
    {
     "name": "stdout",
     "output_type": "stream",
     "text": [
      "\n"
     ]
    },
    {
     "data": {
      "application/vnd.jupyter.widget-view+json": {
       "model_id": "b3a66be8ba9f429991232680fc1f2c76",
       "version_major": 2,
       "version_minor": 0
      },
      "text/plain": [
       "HBox(children=(IntProgress(value=0, description='Evaluation iteration', max=30, style=ProgressStyle(descriptio…"
      ]
     },
     "metadata": {},
     "output_type": "display_data"
    },
    {
     "name": "stdout",
     "output_type": "stream",
     "text": [
      "\n",
      "Loss history: [3.2670257647832233, 2.903889854749044, 2.5840357065200807, 2.2129236300786337, 1.8371737043062846, 1.5553256710370382, 1.3585904439290364, 1.2083387891451518, 1.130923291047414, 1.06386499106884, 1.0118305146694184, 0.9572323580582937, 0.9083395431439082, 0.8725145826737086]\n",
      "Dev loss: 0.863960995276769\n"
     ]
    },
    {
     "name": "stderr",
     "output_type": "stream",
     "text": [
      "\n",
      "\n",
      "\n",
      "Epoch:  15%|█▌        | 15/100 [05:17<29:57, 21.15s/it]\u001b[A\u001b[A\u001b[A"
     ]
    },
    {
     "data": {
      "application/vnd.jupyter.widget-view+json": {
       "model_id": "4efdf4a03c8a4c999143108a7330a2a3",
       "version_major": 2,
       "version_minor": 0
      },
      "text/plain": [
       "HBox(children=(IntProgress(value=0, description='Training iteration', max=89, style=ProgressStyle(description_…"
      ]
     },
     "metadata": {},
     "output_type": "display_data"
    },
    {
     "name": "stdout",
     "output_type": "stream",
     "text": [
      "\n"
     ]
    },
    {
     "data": {
      "application/vnd.jupyter.widget-view+json": {
       "model_id": "898b4667b77041408c74179381d16167",
       "version_major": 2,
       "version_minor": 0
      },
      "text/plain": [
       "HBox(children=(IntProgress(value=0, description='Evaluation iteration', max=30, style=ProgressStyle(descriptio…"
      ]
     },
     "metadata": {},
     "output_type": "display_data"
    },
    {
     "name": "stdout",
     "output_type": "stream",
     "text": [
      "\n",
      "Loss history: [3.2670257647832233, 2.903889854749044, 2.5840357065200807, 2.2129236300786337, 1.8371737043062846, 1.5553256710370382, 1.3585904439290364, 1.2083387891451518, 1.130923291047414, 1.06386499106884, 1.0118305146694184, 0.9572323580582937, 0.9083395431439082, 0.8725145826737086, 0.863960995276769]\n",
      "Dev loss: 0.8496012091636658\n"
     ]
    },
    {
     "name": "stderr",
     "output_type": "stream",
     "text": [
      "\n",
      "\n",
      "\n",
      "Epoch:  16%|█▌        | 16/100 [05:38<29:36, 21.15s/it]\u001b[A\u001b[A\u001b[A"
     ]
    },
    {
     "data": {
      "application/vnd.jupyter.widget-view+json": {
       "model_id": "68d8102f915f4bf3968f14856da49854",
       "version_major": 2,
       "version_minor": 0
      },
      "text/plain": [
       "HBox(children=(IntProgress(value=0, description='Training iteration', max=89, style=ProgressStyle(description_…"
      ]
     },
     "metadata": {},
     "output_type": "display_data"
    },
    {
     "name": "stdout",
     "output_type": "stream",
     "text": [
      "\n"
     ]
    },
    {
     "data": {
      "application/vnd.jupyter.widget-view+json": {
       "model_id": "b6824ab2f4114ad1890d48d5f8474a2b",
       "version_major": 2,
       "version_minor": 0
      },
      "text/plain": [
       "HBox(children=(IntProgress(value=0, description='Evaluation iteration', max=30, style=ProgressStyle(descriptio…"
      ]
     },
     "metadata": {},
     "output_type": "display_data"
    },
    {
     "name": "stdout",
     "output_type": "stream",
     "text": [
      "\n",
      "Loss history: [3.2670257647832233, 2.903889854749044, 2.5840357065200807, 2.2129236300786337, 1.8371737043062846, 1.5553256710370382, 1.3585904439290364, 1.2083387891451518, 1.130923291047414, 1.06386499106884, 1.0118305146694184, 0.9572323580582937, 0.9083395431439082, 0.8725145826737086, 0.863960995276769, 0.8496012091636658]\n",
      "Dev loss: 0.8438244213660558\n"
     ]
    },
    {
     "name": "stderr",
     "output_type": "stream",
     "text": [
      "\n",
      "\n",
      "\n",
      "Epoch:  17%|█▋        | 17/100 [05:59<29:15, 21.15s/it]\u001b[A\u001b[A\u001b[A"
     ]
    },
    {
     "data": {
      "application/vnd.jupyter.widget-view+json": {
       "model_id": "6c46c2115e66468ba4768be0ea69c401",
       "version_major": 2,
       "version_minor": 0
      },
      "text/plain": [
       "HBox(children=(IntProgress(value=0, description='Training iteration', max=89, style=ProgressStyle(description_…"
      ]
     },
     "metadata": {},
     "output_type": "display_data"
    },
    {
     "name": "stdout",
     "output_type": "stream",
     "text": [
      "\n"
     ]
    },
    {
     "data": {
      "application/vnd.jupyter.widget-view+json": {
       "model_id": "4434b84086564b04bd9dba30acbaa884",
       "version_major": 2,
       "version_minor": 0
      },
      "text/plain": [
       "HBox(children=(IntProgress(value=0, description='Evaluation iteration', max=30, style=ProgressStyle(descriptio…"
      ]
     },
     "metadata": {},
     "output_type": "display_data"
    },
    {
     "name": "stdout",
     "output_type": "stream",
     "text": [
      "\n",
      "Loss history: [3.2670257647832233, 2.903889854749044, 2.5840357065200807, 2.2129236300786337, 1.8371737043062846, 1.5553256710370382, 1.3585904439290364, 1.2083387891451518, 1.130923291047414, 1.06386499106884, 1.0118305146694184, 0.9572323580582937, 0.9083395431439082, 0.8725145826737086, 0.863960995276769, 0.8496012091636658, 0.8438244213660558]\n",
      "Dev loss: 0.8395298838615417\n"
     ]
    },
    {
     "name": "stderr",
     "output_type": "stream",
     "text": [
      "\n",
      "\n",
      "\n",
      "Epoch:  18%|█▊        | 18/100 [06:20<28:54, 21.15s/it]\u001b[A\u001b[A\u001b[A"
     ]
    },
    {
     "data": {
      "application/vnd.jupyter.widget-view+json": {
       "model_id": "a230f28a4da448b48f782e1e12653da8",
       "version_major": 2,
       "version_minor": 0
      },
      "text/plain": [
       "HBox(children=(IntProgress(value=0, description='Training iteration', max=89, style=ProgressStyle(description_…"
      ]
     },
     "metadata": {},
     "output_type": "display_data"
    },
    {
     "name": "stdout",
     "output_type": "stream",
     "text": [
      "\n"
     ]
    },
    {
     "data": {
      "application/vnd.jupyter.widget-view+json": {
       "model_id": "cf7648aff10143edae632f27817fca71",
       "version_major": 2,
       "version_minor": 0
      },
      "text/plain": [
       "HBox(children=(IntProgress(value=0, description='Evaluation iteration', max=30, style=ProgressStyle(descriptio…"
      ]
     },
     "metadata": {},
     "output_type": "display_data"
    },
    {
     "name": "stdout",
     "output_type": "stream",
     "text": [
      "\n",
      "Loss history: [3.2670257647832233, 2.903889854749044, 2.5840357065200807, 2.2129236300786337, 1.8371737043062846, 1.5553256710370382, 1.3585904439290364, 1.2083387891451518, 1.130923291047414, 1.06386499106884, 1.0118305146694184, 0.9572323580582937, 0.9083395431439082, 0.8725145826737086, 0.863960995276769, 0.8496012091636658, 0.8438244213660558, 0.8395298838615417]\n",
      "Dev loss: 0.8296309490998586\n"
     ]
    },
    {
     "name": "stderr",
     "output_type": "stream",
     "text": [
      "\n",
      "\n",
      "\n",
      "Epoch:  19%|█▉        | 19/100 [06:41<28:33, 21.15s/it]\u001b[A\u001b[A\u001b[A"
     ]
    },
    {
     "data": {
      "application/vnd.jupyter.widget-view+json": {
       "model_id": "6ec180e17c98414b90fb521b7b360358",
       "version_major": 2,
       "version_minor": 0
      },
      "text/plain": [
       "HBox(children=(IntProgress(value=0, description='Training iteration', max=89, style=ProgressStyle(description_…"
      ]
     },
     "metadata": {},
     "output_type": "display_data"
    },
    {
     "name": "stdout",
     "output_type": "stream",
     "text": [
      "\n"
     ]
    },
    {
     "data": {
      "application/vnd.jupyter.widget-view+json": {
       "model_id": "7cd1a511a8994249964f4ae70de379a7",
       "version_major": 2,
       "version_minor": 0
      },
      "text/plain": [
       "HBox(children=(IntProgress(value=0, description='Evaluation iteration', max=30, style=ProgressStyle(descriptio…"
      ]
     },
     "metadata": {},
     "output_type": "display_data"
    },
    {
     "name": "stderr",
     "output_type": "stream",
     "text": [
      "\n",
      "\n",
      "\n",
      "Epoch:  20%|██        | 20/100 [07:02<28:01, 21.02s/it]\u001b[A\u001b[A\u001b[A"
     ]
    },
    {
     "name": "stdout",
     "output_type": "stream",
     "text": [
      "\n",
      "Loss history: [3.2670257647832233, 2.903889854749044, 2.5840357065200807, 2.2129236300786337, 1.8371737043062846, 1.5553256710370382, 1.3585904439290364, 1.2083387891451518, 1.130923291047414, 1.06386499106884, 1.0118305146694184, 0.9572323580582937, 0.9083395431439082, 0.8725145826737086, 0.863960995276769, 0.8496012091636658, 0.8438244213660558, 0.8395298838615417, 0.8296309490998586]\n",
      "Dev loss: 0.8324170902371406\n"
     ]
    },
    {
     "data": {
      "application/vnd.jupyter.widget-view+json": {
       "model_id": "eb5bd15b387841e089aadd26cef8bb38",
       "version_major": 2,
       "version_minor": 0
      },
      "text/plain": [
       "HBox(children=(IntProgress(value=0, description='Training iteration', max=89, style=ProgressStyle(description_…"
      ]
     },
     "metadata": {},
     "output_type": "display_data"
    },
    {
     "name": "stdout",
     "output_type": "stream",
     "text": [
      "\n"
     ]
    },
    {
     "data": {
      "application/vnd.jupyter.widget-view+json": {
       "model_id": "e33ec30e531a486bafa51af83c86df2f",
       "version_major": 2,
       "version_minor": 0
      },
      "text/plain": [
       "HBox(children=(IntProgress(value=0, description='Evaluation iteration', max=30, style=ProgressStyle(descriptio…"
      ]
     },
     "metadata": {},
     "output_type": "display_data"
    },
    {
     "name": "stdout",
     "output_type": "stream",
     "text": [
      "\n",
      "Loss history: [3.2670257647832233, 2.903889854749044, 2.5840357065200807, 2.2129236300786337, 1.8371737043062846, 1.5553256710370382, 1.3585904439290364, 1.2083387891451518, 1.130923291047414, 1.06386499106884, 1.0118305146694184, 0.9572323580582937, 0.9083395431439082, 0.8725145826737086, 0.863960995276769, 0.8496012091636658, 0.8438244213660558, 0.8395298838615417, 0.8296309490998586, 0.8324170902371406]\n",
      "Dev loss: 0.807247390349706\n"
     ]
    },
    {
     "name": "stderr",
     "output_type": "stream",
     "text": [
      "\n",
      "\n",
      "\n",
      "Epoch:  21%|██        | 21/100 [07:23<27:43, 21.06s/it]\u001b[A\u001b[A\u001b[A"
     ]
    },
    {
     "data": {
      "application/vnd.jupyter.widget-view+json": {
       "model_id": "6102afca0df645379ba5b1ed0dcb3bb4",
       "version_major": 2,
       "version_minor": 0
      },
      "text/plain": [
       "HBox(children=(IntProgress(value=0, description='Training iteration', max=89, style=ProgressStyle(description_…"
      ]
     },
     "metadata": {},
     "output_type": "display_data"
    },
    {
     "name": "stdout",
     "output_type": "stream",
     "text": [
      "\n"
     ]
    },
    {
     "data": {
      "application/vnd.jupyter.widget-view+json": {
       "model_id": "74db315a2f42431e976d89646dba8733",
       "version_major": 2,
       "version_minor": 0
      },
      "text/plain": [
       "HBox(children=(IntProgress(value=0, description='Evaluation iteration', max=30, style=ProgressStyle(descriptio…"
      ]
     },
     "metadata": {},
     "output_type": "display_data"
    },
    {
     "name": "stdout",
     "output_type": "stream",
     "text": [
      "\n",
      "Loss history: [3.2670257647832233, 2.903889854749044, 2.5840357065200807, 2.2129236300786337, 1.8371737043062846, 1.5553256710370382, 1.3585904439290364, 1.2083387891451518, 1.130923291047414, 1.06386499106884, 1.0118305146694184, 0.9572323580582937, 0.9083395431439082, 0.8725145826737086, 0.863960995276769, 0.8496012091636658, 0.8438244213660558, 0.8395298838615417, 0.8296309490998586, 0.8324170902371406, 0.807247390349706]\n",
      "Dev loss: 0.7803093115488688\n"
     ]
    },
    {
     "name": "stderr",
     "output_type": "stream",
     "text": [
      "\n",
      "\n",
      "\n",
      "Epoch:  22%|██▏       | 22/100 [07:44<27:24, 21.09s/it]\u001b[A\u001b[A\u001b[A"
     ]
    },
    {
     "data": {
      "application/vnd.jupyter.widget-view+json": {
       "model_id": "cabec4dcf8d745558086e99f5dc038a5",
       "version_major": 2,
       "version_minor": 0
      },
      "text/plain": [
       "HBox(children=(IntProgress(value=0, description='Training iteration', max=89, style=ProgressStyle(description_…"
      ]
     },
     "metadata": {},
     "output_type": "display_data"
    },
    {
     "name": "stdout",
     "output_type": "stream",
     "text": [
      "\n"
     ]
    },
    {
     "data": {
      "application/vnd.jupyter.widget-view+json": {
       "model_id": "76a88b566f1e4978a846f7630c980ccc",
       "version_major": 2,
       "version_minor": 0
      },
      "text/plain": [
       "HBox(children=(IntProgress(value=0, description='Evaluation iteration', max=30, style=ProgressStyle(descriptio…"
      ]
     },
     "metadata": {},
     "output_type": "display_data"
    },
    {
     "name": "stdout",
     "output_type": "stream",
     "text": [
      "\n",
      "Loss history: [3.2670257647832233, 2.903889854749044, 2.5840357065200807, 2.2129236300786337, 1.8371737043062846, 1.5553256710370382, 1.3585904439290364, 1.2083387891451518, 1.130923291047414, 1.06386499106884, 1.0118305146694184, 0.9572323580582937, 0.9083395431439082, 0.8725145826737086, 0.863960995276769, 0.8496012091636658, 0.8438244213660558, 0.8395298838615417, 0.8296309490998586, 0.8324170902371406, 0.807247390349706, 0.7803093115488688]\n",
      "Dev loss: 0.7722235937913259\n"
     ]
    },
    {
     "name": "stderr",
     "output_type": "stream",
     "text": [
      "\n",
      "\n",
      "\n",
      "Epoch:  23%|██▎       | 23/100 [08:05<27:05, 21.11s/it]\u001b[A\u001b[A\u001b[A"
     ]
    },
    {
     "data": {
      "application/vnd.jupyter.widget-view+json": {
       "model_id": "0662258dd8de4869b71d2a69b1caf7ea",
       "version_major": 2,
       "version_minor": 0
      },
      "text/plain": [
       "HBox(children=(IntProgress(value=0, description='Training iteration', max=89, style=ProgressStyle(description_…"
      ]
     },
     "metadata": {},
     "output_type": "display_data"
    },
    {
     "name": "stdout",
     "output_type": "stream",
     "text": [
      "\n"
     ]
    },
    {
     "data": {
      "application/vnd.jupyter.widget-view+json": {
       "model_id": "94dcc18311cb400799fe5bb86d5ad790",
       "version_major": 2,
       "version_minor": 0
      },
      "text/plain": [
       "HBox(children=(IntProgress(value=0, description='Evaluation iteration', max=30, style=ProgressStyle(descriptio…"
      ]
     },
     "metadata": {},
     "output_type": "display_data"
    },
    {
     "name": "stdout",
     "output_type": "stream",
     "text": [
      "\n",
      "Loss history: [3.2670257647832233, 2.903889854749044, 2.5840357065200807, 2.2129236300786337, 1.8371737043062846, 1.5553256710370382, 1.3585904439290364, 1.2083387891451518, 1.130923291047414, 1.06386499106884, 1.0118305146694184, 0.9572323580582937, 0.9083395431439082, 0.8725145826737086, 0.863960995276769, 0.8496012091636658, 0.8438244213660558, 0.8395298838615417, 0.8296309490998586, 0.8324170902371406, 0.807247390349706, 0.7803093115488688, 0.7722235937913259]\n",
      "Dev loss: 0.7673863112926483\n"
     ]
    },
    {
     "name": "stderr",
     "output_type": "stream",
     "text": [
      "\n",
      "\n",
      "\n",
      "Epoch:  24%|██▍       | 24/100 [08:27<26:45, 21.12s/it]\u001b[A\u001b[A\u001b[A"
     ]
    },
    {
     "data": {
      "application/vnd.jupyter.widget-view+json": {
       "model_id": "45ed3fc1204947838c28a68619f281fb",
       "version_major": 2,
       "version_minor": 0
      },
      "text/plain": [
       "HBox(children=(IntProgress(value=0, description='Training iteration', max=89, style=ProgressStyle(description_…"
      ]
     },
     "metadata": {},
     "output_type": "display_data"
    },
    {
     "name": "stdout",
     "output_type": "stream",
     "text": [
      "\n"
     ]
    },
    {
     "data": {
      "application/vnd.jupyter.widget-view+json": {
       "model_id": "a6667469cf2e4dd3a0f7c0342c9825e2",
       "version_major": 2,
       "version_minor": 0
      },
      "text/plain": [
       "HBox(children=(IntProgress(value=0, description='Evaluation iteration', max=30, style=ProgressStyle(descriptio…"
      ]
     },
     "metadata": {},
     "output_type": "display_data"
    },
    {
     "name": "stderr",
     "output_type": "stream",
     "text": [
      "\n",
      "\n",
      "\n",
      "Epoch:  25%|██▌       | 25/100 [08:47<26:14, 20.99s/it]\u001b[A\u001b[A\u001b[A"
     ]
    },
    {
     "name": "stdout",
     "output_type": "stream",
     "text": [
      "\n",
      "Loss history: [3.2670257647832233, 2.903889854749044, 2.5840357065200807, 2.2129236300786337, 1.8371737043062846, 1.5553256710370382, 1.3585904439290364, 1.2083387891451518, 1.130923291047414, 1.06386499106884, 1.0118305146694184, 0.9572323580582937, 0.9083395431439082, 0.8725145826737086, 0.863960995276769, 0.8496012091636658, 0.8438244213660558, 0.8395298838615417, 0.8296309490998586, 0.8324170902371406, 0.807247390349706, 0.7803093115488688, 0.7722235937913259, 0.7673863112926483]\n",
      "Dev loss: 0.7769743020335833\n"
     ]
    },
    {
     "data": {
      "application/vnd.jupyter.widget-view+json": {
       "model_id": "dfff8d9879be4bd285df78886cbc474d",
       "version_major": 2,
       "version_minor": 0
      },
      "text/plain": [
       "HBox(children=(IntProgress(value=0, description='Training iteration', max=89, style=ProgressStyle(description_…"
      ]
     },
     "metadata": {},
     "output_type": "display_data"
    },
    {
     "name": "stdout",
     "output_type": "stream",
     "text": [
      "\n"
     ]
    },
    {
     "data": {
      "application/vnd.jupyter.widget-view+json": {
       "model_id": "5f1fa19aa435408ca51a62780bd7d1b5",
       "version_major": 2,
       "version_minor": 0
      },
      "text/plain": [
       "HBox(children=(IntProgress(value=0, description='Evaluation iteration', max=30, style=ProgressStyle(descriptio…"
      ]
     },
     "metadata": {},
     "output_type": "display_data"
    },
    {
     "name": "stderr",
     "output_type": "stream",
     "text": [
      "\n",
      "\n",
      "\n",
      "Epoch:  26%|██▌       | 26/100 [09:08<25:46, 20.90s/it]\u001b[A\u001b[A\u001b[A"
     ]
    },
    {
     "name": "stdout",
     "output_type": "stream",
     "text": [
      "\n",
      "Loss history: [3.2670257647832233, 2.903889854749044, 2.5840357065200807, 2.2129236300786337, 1.8371737043062846, 1.5553256710370382, 1.3585904439290364, 1.2083387891451518, 1.130923291047414, 1.06386499106884, 1.0118305146694184, 0.9572323580582937, 0.9083395431439082, 0.8725145826737086, 0.863960995276769, 0.8496012091636658, 0.8438244213660558, 0.8395298838615417, 0.8296309490998586, 0.8324170902371406, 0.807247390349706, 0.7803093115488688, 0.7722235937913259, 0.7673863112926483, 0.7769743020335833]\n",
      "Dev loss: 0.7831111192703247\n"
     ]
    },
    {
     "data": {
      "application/vnd.jupyter.widget-view+json": {
       "model_id": "af0fa93c574a42ce92bfcc5f800f7baa",
       "version_major": 2,
       "version_minor": 0
      },
      "text/plain": [
       "HBox(children=(IntProgress(value=0, description='Training iteration', max=89, style=ProgressStyle(description_…"
      ]
     },
     "metadata": {},
     "output_type": "display_data"
    },
    {
     "name": "stdout",
     "output_type": "stream",
     "text": [
      "\n"
     ]
    },
    {
     "data": {
      "application/vnd.jupyter.widget-view+json": {
       "model_id": "0120ecdc1ce047349c92e9374a631b5c",
       "version_major": 2,
       "version_minor": 0
      },
      "text/plain": [
       "HBox(children=(IntProgress(value=0, description='Evaluation iteration', max=30, style=ProgressStyle(descriptio…"
      ]
     },
     "metadata": {},
     "output_type": "display_data"
    },
    {
     "name": "stderr",
     "output_type": "stream",
     "text": [
      "\n",
      "\n",
      "\n",
      "Epoch:  27%|██▋       | 27/100 [09:29<25:21, 20.84s/it]\u001b[A\u001b[A\u001b[A"
     ]
    },
    {
     "name": "stdout",
     "output_type": "stream",
     "text": [
      "\n",
      "Loss history: [3.2670257647832233, 2.903889854749044, 2.5840357065200807, 2.2129236300786337, 1.8371737043062846, 1.5553256710370382, 1.3585904439290364, 1.2083387891451518, 1.130923291047414, 1.06386499106884, 1.0118305146694184, 0.9572323580582937, 0.9083395431439082, 0.8725145826737086, 0.863960995276769, 0.8496012091636658, 0.8438244213660558, 0.8395298838615417, 0.8296309490998586, 0.8324170902371406, 0.807247390349706, 0.7803093115488688, 0.7722235937913259, 0.7673863112926483, 0.7769743020335833, 0.7831111192703247]\n",
      "Dev loss: 0.7778826514879863\n"
     ]
    },
    {
     "data": {
      "application/vnd.jupyter.widget-view+json": {
       "model_id": "b015d0c5814c404ca87af1d3b9b14fc1",
       "version_major": 2,
       "version_minor": 0
      },
      "text/plain": [
       "HBox(children=(IntProgress(value=0, description='Training iteration', max=89, style=ProgressStyle(description_…"
      ]
     },
     "metadata": {},
     "output_type": "display_data"
    },
    {
     "name": "stdout",
     "output_type": "stream",
     "text": [
      "\n"
     ]
    },
    {
     "data": {
      "application/vnd.jupyter.widget-view+json": {
       "model_id": "f3e04073e3114cb38e87fd49a66c3407",
       "version_major": 2,
       "version_minor": 0
      },
      "text/plain": [
       "HBox(children=(IntProgress(value=0, description='Evaluation iteration', max=30, style=ProgressStyle(descriptio…"
      ]
     },
     "metadata": {},
     "output_type": "display_data"
    },
    {
     "name": "stdout",
     "output_type": "stream",
     "text": [
      "\n",
      "Loss history: [3.2670257647832233, 2.903889854749044, 2.5840357065200807, 2.2129236300786337, 1.8371737043062846, 1.5553256710370382, 1.3585904439290364, 1.2083387891451518, 1.130923291047414, 1.06386499106884, 1.0118305146694184, 0.9572323580582937, 0.9083395431439082, 0.8725145826737086, 0.863960995276769, 0.8496012091636658, 0.8438244213660558, 0.8395298838615417, 0.8296309490998586, 0.8324170902371406, 0.807247390349706, 0.7803093115488688, 0.7722235937913259, 0.7673863112926483, 0.7769743020335833, 0.7831111192703247, 0.7778826514879863]\n",
      "Dev loss: 0.7511599664886792\n"
     ]
    },
    {
     "name": "stderr",
     "output_type": "stream",
     "text": [
      "\n",
      "\n",
      "\n",
      "Epoch:  28%|██▊       | 28/100 [09:50<25:07, 20.94s/it]\u001b[A\u001b[A\u001b[A"
     ]
    },
    {
     "data": {
      "application/vnd.jupyter.widget-view+json": {
       "model_id": "99c35a1df427464fb066c94b9114eb0b",
       "version_major": 2,
       "version_minor": 0
      },
      "text/plain": [
       "HBox(children=(IntProgress(value=0, description='Training iteration', max=89, style=ProgressStyle(description_…"
      ]
     },
     "metadata": {},
     "output_type": "display_data"
    },
    {
     "name": "stdout",
     "output_type": "stream",
     "text": [
      "\n"
     ]
    },
    {
     "data": {
      "application/vnd.jupyter.widget-view+json": {
       "model_id": "68e354cf8a2c474dba86a4a1f1524693",
       "version_major": 2,
       "version_minor": 0
      },
      "text/plain": [
       "HBox(children=(IntProgress(value=0, description='Evaluation iteration', max=30, style=ProgressStyle(descriptio…"
      ]
     },
     "metadata": {},
     "output_type": "display_data"
    },
    {
     "name": "stderr",
     "output_type": "stream",
     "text": [
      "\n",
      "\n",
      "\n",
      "Epoch:  29%|██▉       | 29/100 [10:10<24:41, 20.86s/it]\u001b[A\u001b[A\u001b[A"
     ]
    },
    {
     "name": "stdout",
     "output_type": "stream",
     "text": [
      "\n",
      "Loss history: [3.2670257647832233, 2.903889854749044, 2.5840357065200807, 2.2129236300786337, 1.8371737043062846, 1.5553256710370382, 1.3585904439290364, 1.2083387891451518, 1.130923291047414, 1.06386499106884, 1.0118305146694184, 0.9572323580582937, 0.9083395431439082, 0.8725145826737086, 0.863960995276769, 0.8496012091636658, 0.8438244213660558, 0.8395298838615417, 0.8296309490998586, 0.8324170902371406, 0.807247390349706, 0.7803093115488688, 0.7722235937913259, 0.7673863112926483, 0.7769743020335833, 0.7831111192703247, 0.7778826514879863, 0.7511599664886792]\n",
      "Dev loss: 0.7967015504837036\n"
     ]
    },
    {
     "data": {
      "application/vnd.jupyter.widget-view+json": {
       "model_id": "758c0ff2053f413e8d8ee5ed5750ad6f",
       "version_major": 2,
       "version_minor": 0
      },
      "text/plain": [
       "HBox(children=(IntProgress(value=0, description='Training iteration', max=89, style=ProgressStyle(description_…"
      ]
     },
     "metadata": {},
     "output_type": "display_data"
    },
    {
     "name": "stdout",
     "output_type": "stream",
     "text": [
      "\n"
     ]
    },
    {
     "data": {
      "application/vnd.jupyter.widget-view+json": {
       "model_id": "bdf5a534da854501a121cdcd05c7a661",
       "version_major": 2,
       "version_minor": 0
      },
      "text/plain": [
       "HBox(children=(IntProgress(value=0, description='Evaluation iteration', max=30, style=ProgressStyle(descriptio…"
      ]
     },
     "metadata": {},
     "output_type": "display_data"
    },
    {
     "name": "stderr",
     "output_type": "stream",
     "text": [
      "\n",
      "\n",
      "\n",
      "Epoch:  30%|███       | 30/100 [10:31<24:16, 20.81s/it]\u001b[A\u001b[A\u001b[A"
     ]
    },
    {
     "name": "stdout",
     "output_type": "stream",
     "text": [
      "\n",
      "Loss history: [3.2670257647832233, 2.903889854749044, 2.5840357065200807, 2.2129236300786337, 1.8371737043062846, 1.5553256710370382, 1.3585904439290364, 1.2083387891451518, 1.130923291047414, 1.06386499106884, 1.0118305146694184, 0.9572323580582937, 0.9083395431439082, 0.8725145826737086, 0.863960995276769, 0.8496012091636658, 0.8438244213660558, 0.8395298838615417, 0.8296309490998586, 0.8324170902371406, 0.807247390349706, 0.7803093115488688, 0.7722235937913259, 0.7673863112926483, 0.7769743020335833, 0.7831111192703247, 0.7778826514879863, 0.7511599664886792, 0.7967015504837036]\n",
      "Dev loss: 0.7773870507876078\n"
     ]
    },
    {
     "data": {
      "application/vnd.jupyter.widget-view+json": {
       "model_id": "c275b3859be04684b56823614bfc76f0",
       "version_major": 2,
       "version_minor": 0
      },
      "text/plain": [
       "HBox(children=(IntProgress(value=0, description='Training iteration', max=89, style=ProgressStyle(description_…"
      ]
     },
     "metadata": {},
     "output_type": "display_data"
    },
    {
     "name": "stdout",
     "output_type": "stream",
     "text": [
      "\n"
     ]
    },
    {
     "data": {
      "application/vnd.jupyter.widget-view+json": {
       "model_id": "c178e12450c84259ab1c59393cea7579",
       "version_major": 2,
       "version_minor": 0
      },
      "text/plain": [
       "HBox(children=(IntProgress(value=0, description='Evaluation iteration', max=30, style=ProgressStyle(descriptio…"
      ]
     },
     "metadata": {},
     "output_type": "display_data"
    },
    {
     "name": "stderr",
     "output_type": "stream",
     "text": [
      "\n",
      "\n",
      "\n",
      "Epoch:  31%|███       | 31/100 [10:52<23:53, 20.78s/it]\u001b[A\u001b[A\u001b[A"
     ]
    },
    {
     "name": "stdout",
     "output_type": "stream",
     "text": [
      "\n",
      "Loss history: [3.2670257647832233, 2.903889854749044, 2.5840357065200807, 2.2129236300786337, 1.8371737043062846, 1.5553256710370382, 1.3585904439290364, 1.2083387891451518, 1.130923291047414, 1.06386499106884, 1.0118305146694184, 0.9572323580582937, 0.9083395431439082, 0.8725145826737086, 0.863960995276769, 0.8496012091636658, 0.8438244213660558, 0.8395298838615417, 0.8296309490998586, 0.8324170902371406, 0.807247390349706, 0.7803093115488688, 0.7722235937913259, 0.7673863112926483, 0.7769743020335833, 0.7831111192703247, 0.7778826514879863, 0.7511599664886792, 0.7967015504837036, 0.7773870507876078]\n",
      "Dev loss: 0.7894340097904206\n"
     ]
    },
    {
     "data": {
      "application/vnd.jupyter.widget-view+json": {
       "model_id": "af500e7fa8384de9bc0f8fafc21d3b15",
       "version_major": 2,
       "version_minor": 0
      },
      "text/plain": [
       "HBox(children=(IntProgress(value=0, description='Training iteration', max=89, style=ProgressStyle(description_…"
      ]
     },
     "metadata": {},
     "output_type": "display_data"
    },
    {
     "name": "stdout",
     "output_type": "stream",
     "text": [
      "\n"
     ]
    },
    {
     "data": {
      "application/vnd.jupyter.widget-view+json": {
       "model_id": "0f2dd16ff287486cbb2e3adda99cd2c1",
       "version_major": 2,
       "version_minor": 0
      },
      "text/plain": [
       "HBox(children=(IntProgress(value=0, description='Evaluation iteration', max=30, style=ProgressStyle(descriptio…"
      ]
     },
     "metadata": {},
     "output_type": "display_data"
    },
    {
     "name": "stderr",
     "output_type": "stream",
     "text": [
      "\n",
      "\n",
      "\n",
      "Epoch:  32%|███▏      | 32/100 [11:13<23:31, 20.75s/it]\u001b[A\u001b[A\u001b[A"
     ]
    },
    {
     "name": "stdout",
     "output_type": "stream",
     "text": [
      "\n",
      "Loss history: [3.2670257647832233, 2.903889854749044, 2.5840357065200807, 2.2129236300786337, 1.8371737043062846, 1.5553256710370382, 1.3585904439290364, 1.2083387891451518, 1.130923291047414, 1.06386499106884, 1.0118305146694184, 0.9572323580582937, 0.9083395431439082, 0.8725145826737086, 0.863960995276769, 0.8496012091636658, 0.8438244213660558, 0.8395298838615417, 0.8296309490998586, 0.8324170902371406, 0.807247390349706, 0.7803093115488688, 0.7722235937913259, 0.7673863112926483, 0.7769743020335833, 0.7831111192703247, 0.7778826514879863, 0.7511599664886792, 0.7967015504837036, 0.7773870507876078, 0.7894340097904206]\n",
      "Dev loss: 0.7840907235940298\n"
     ]
    },
    {
     "data": {
      "application/vnd.jupyter.widget-view+json": {
       "model_id": "9786cb6b7e804db5b3aafadfa7052545",
       "version_major": 2,
       "version_minor": 0
      },
      "text/plain": [
       "HBox(children=(IntProgress(value=0, description='Training iteration', max=89, style=ProgressStyle(description_…"
      ]
     },
     "metadata": {},
     "output_type": "display_data"
    },
    {
     "name": "stdout",
     "output_type": "stream",
     "text": [
      "\n"
     ]
    },
    {
     "data": {
      "application/vnd.jupyter.widget-view+json": {
       "model_id": "e24676050c834f7cb89b6db6c003f1a5",
       "version_major": 2,
       "version_minor": 0
      },
      "text/plain": [
       "HBox(children=(IntProgress(value=0, description='Evaluation iteration', max=30, style=ProgressStyle(descriptio…"
      ]
     },
     "metadata": {},
     "output_type": "display_data"
    },
    {
     "name": "stdout",
     "output_type": "stream",
     "text": [
      "\n",
      "Loss history: [3.2670257647832233, 2.903889854749044, 2.5840357065200807, 2.2129236300786337, 1.8371737043062846, 1.5553256710370382, 1.3585904439290364, 1.2083387891451518, 1.130923291047414, 1.06386499106884, 1.0118305146694184, 0.9572323580582937, 0.9083395431439082, 0.8725145826737086, 0.863960995276769, 0.8496012091636658, 0.8438244213660558, 0.8395298838615417, 0.8296309490998586, 0.8324170902371406, 0.807247390349706, 0.7803093115488688, 0.7722235937913259, 0.7673863112926483, 0.7769743020335833, 0.7831111192703247, 0.7778826514879863, 0.7511599664886792, 0.7967015504837036, 0.7773870507876078, 0.7894340097904206, 0.7840907235940298]\n",
      "Dev loss: 0.7799115518728892\n",
      "No improvement on development set. Finish training.\n",
      "Loading model from /tmp/model.bin\n"
     ]
    },
    {
     "name": "stderr",
     "output_type": "stream",
     "text": [
      "I0406 18:45:50.138985 140397457205056 configuration_utils.py:256] loading configuration file https://s3.amazonaws.com/models.huggingface.co/bert/bert-base-uncased-config.json from cache at /home/yves/.cache/torch/transformers/4dad0251492946e18ac39290fcfe91b89d370fee250efe9521476438fe8ca185.8f56353af4a709bf5ff0fbc915d8f5b42bfff892cbb6ac98c3c45f481a03c685\n",
      "I0406 18:45:50.140305 140397457205056 configuration_utils.py:292] Model config BertConfig {\n",
      "  \"architectures\": [\n",
      "    \"BertForMaskedLM\"\n",
      "  ],\n",
      "  \"attention_probs_dropout_prob\": 0.1,\n",
      "  \"bos_token_id\": null,\n",
      "  \"do_sample\": false,\n",
      "  \"eos_token_ids\": null,\n",
      "  \"finetuning_task\": null,\n",
      "  \"hidden_act\": \"gelu\",\n",
      "  \"hidden_dropout_prob\": 0.1,\n",
      "  \"hidden_size\": 768,\n",
      "  \"id2label\": {\n",
      "    \"0\": \"LABEL_0\",\n",
      "    \"1\": \"LABEL_1\"\n",
      "  },\n",
      "  \"initializer_range\": 0.02,\n",
      "  \"intermediate_size\": 3072,\n",
      "  \"is_decoder\": false,\n",
      "  \"label2id\": {\n",
      "    \"LABEL_0\": 0,\n",
      "    \"LABEL_1\": 1\n",
      "  },\n",
      "  \"layer_norm_eps\": 1e-12,\n",
      "  \"length_penalty\": 1.0,\n",
      "  \"max_length\": 20,\n",
      "  \"max_position_embeddings\": 512,\n",
      "  \"model_type\": \"bert\",\n",
      "  \"num_attention_heads\": 12,\n",
      "  \"num_beams\": 1,\n",
      "  \"num_hidden_layers\": 12,\n",
      "  \"num_labels\": 34,\n",
      "  \"num_return_sequences\": 1,\n",
      "  \"output_attentions\": false,\n",
      "  \"output_hidden_states\": false,\n",
      "  \"output_past\": true,\n",
      "  \"pad_token_id\": null,\n",
      "  \"pruned_heads\": {},\n",
      "  \"repetition_penalty\": 1.0,\n",
      "  \"temperature\": 1.0,\n",
      "  \"top_k\": 50,\n",
      "  \"top_p\": 1.0,\n",
      "  \"torchscript\": false,\n",
      "  \"type_vocab_size\": 2,\n",
      "  \"use_bfloat16\": false,\n",
      "  \"vocab_size\": 30522\n",
      "}\n",
      "\n",
      "I0406 18:45:50.627792 140397457205056 modeling_utils.py:461] loading weights file https://s3.amazonaws.com/models.huggingface.co/bert/bert-base-uncased-pytorch_model.bin from cache at /home/yves/.cache/torch/transformers/aa1ef1aede4482d0dbcd4d52baad8ae300e60902e88fcb0bebdec09afd232066.36ca03ab34a1a5d5fa7bc3d03d55c4fa650fed07220e2eeebc06ce58d0e9a157\n"
     ]
    },
    {
     "data": {
      "application/vnd.jupyter.widget-view+json": {
       "model_id": "33eb4c73041a45399365231862013866",
       "version_major": 2,
       "version_minor": 0
      },
      "text/plain": [
       "HBox(children=(IntProgress(value=0, description='Evaluation iteration', max=30, style=ProgressStyle(descriptio…"
      ]
     },
     "metadata": {},
     "output_type": "display_data"
    },
    {
     "name": "stdout",
     "output_type": "stream",
     "text": [
      "\n"
     ]
    }
   ],
   "source": [
    "import torch\n",
    "import random\n",
    "\n",
    "from quillnlp.models.bert.train import train, evaluate\n",
    "from quillnlp.models.bert.models import get_bert_classifier\n",
    "\n",
    "from quillnlp.models.bert.preprocessing import get_data_loader\n",
    "from sklearn.model_selection import KFold\n",
    "\n",
    "random.shuffle(data_items)\n",
    "\n",
    "kf = KFold(n_splits=5, shuffle=True, random_state=1)\n",
    "all_correct, all_predicted = [], []\n",
    "all_test_data = []\n",
    "for train_idx, test_idx in kf.split(data_items):\n",
    "\n",
    "    train_and_dev_data = data_items[train_idx]\n",
    "    cutoff = int(len(train_and_dev_data)/4*3)\n",
    "    \n",
    "    train_data = train_and_dev_data[:cutoff]\n",
    "    dev_data = train_and_dev_data[cutoff:]\n",
    "    test_data = data_items[test_idx]\n",
    "\n",
    "    train_dataloader = get_data_loader(train_data, BATCH_SIZE)\n",
    "    dev_dataloader = get_data_loader(dev_data, BATCH_SIZE)\n",
    "    test_dataloader = get_data_loader(test_data, BATCH_SIZE, shuffle=False)\n",
    "\n",
    "    device = \"cuda\" if torch.cuda.is_available() else \"cpu\"\n",
    "    model = get_bert_classifier(BERT_MODEL, len(label2idx), device=device)\n",
    "    output_model_file = train(model, train_dataloader, dev_dataloader, \n",
    "                              BATCH_SIZE, GRADIENT_ACCUMULATION_STEPS, device,\n",
    "                             num_train_epochs=100)\n",
    "    \n",
    "    print(\"Loading model from\", output_model_file)\n",
    "    device=\"cpu\"\n",
    "\n",
    "    model = get_bert_classifier(BERT_MODEL, len(label2idx), model_file=output_model_file, device=device)\n",
    "    model.eval()\n",
    "    \n",
    "    _, _, test_correct, test_predicted = evaluate(model, test_dataloader, device)\n",
    "    all_correct.extend(test_correct)\n",
    "    all_predicted.extend(test_predicted)\n",
    "    all_test_data.extend(test_data)\n"
   ]
  },
  {
   "cell_type": "markdown",
   "metadata": {},
   "source": [
    "## Evaluation"
   ]
  },
  {
   "cell_type": "code",
   "execution_count": 4,
   "metadata": {},
   "outputs": [
    {
     "name": "stdout",
     "output_type": "stream",
     "text": [
      "Test performance: (0.8082595870206489, 0.8082595870206489, 0.8082595870206488, None)\n",
      "                                 precision    recall  f1-score   support\n",
      "\n",
      "     eatingmeat4_so_Feedback_11       0.61      0.69      0.65        16\n",
      "      eatingmeat4_so_Feedback_1       0.50      0.67      0.57        12\n",
      "      eatingmeat4_so_Feedback_2       0.86      0.95      0.90       148\n",
      "      eatingmeat4_so_Feedback_3       0.36      0.25      0.30        16\n",
      "      eatingmeat4_so_Feedback_4       0.33      0.10      0.15        10\n",
      "      eatingmeat4_so_Feedback_5       0.60      0.38      0.46        16\n",
      "      eatingmeat4_so_Feedback_6       1.00      0.30      0.46        10\n",
      "      eatingmeat4_so_Feedback_7       0.92      0.92      0.92        24\n",
      "      eatingmeat4_so_Feedback_8       0.82      0.48      0.61        48\n",
      "      eatingmeat4_so_Feedback_9       0.85      0.89      0.87       309\n",
      "     eatingmeat4_so_Feedback_10       0.86      0.90      0.88       241\n",
      " eatingmeat4_because_Feedback_1       0.90      0.95      0.93       282\n",
      "eatingmeat4_because_Feedback_10       0.00      0.00      0.00        15\n",
      " eatingmeat4_because_Feedback_2       0.82      0.82      0.82        22\n",
      " eatingmeat4_because_Feedback_3       0.50      0.23      0.32        13\n",
      "eatingmeat4_because_Feedback _6       0.59      0.64      0.61        42\n",
      " eatingmeat4_because_Feedback_4       0.43      0.48      0.46        33\n",
      " eatingmeat4_because_Feedback_5       0.79      0.86      0.83       205\n",
      " eatingmeat4_because_Feedback_7       0.72      0.65      0.68        43\n",
      " eatingmeat4_because_Feedback_8       0.54      0.42      0.47        33\n",
      " eatingmeat4_because_Feedback_9       0.00      0.00      0.00        18\n",
      "     eatingmeat4_but_Feedback_1       0.93      0.96      0.95        27\n",
      "     eatingmeat4_but_Feedback_2       0.89      0.95      0.92        41\n",
      "     eatingmeat4_but_Feedback_3       0.76      0.91      0.83        56\n",
      "     eatingmeat4_but_Feedback_4       0.75      0.48      0.59        25\n",
      "     eatingmeat4_but_Feedback_5       0.46      0.50      0.48        26\n",
      "     eatingmeat4_but_Feedback_6       0.57      0.68      0.62        31\n",
      "     eatingmeat4_but_Feedback_7       0.74      0.72      0.73        80\n",
      "     eatingmeat4_but_Feedback_8       0.45      0.35      0.39        40\n",
      "     eatingmeat4_but_Feedback_9       0.71      0.84      0.77       101\n",
      "    eatingmeat4_but_Feedback_10       0.00      0.00      0.00        11\n",
      "    eatingmeat4_but_Feedback_11       0.00      0.00      0.00        10\n",
      "    eatingmeat4_but_Feedback_12       0.44      0.36      0.40        11\n",
      "    eatingmeat4_but_Feedback_13       0.92      0.93      0.92       358\n",
      "\n",
      "                       accuracy                           0.81      2373\n",
      "                      macro avg       0.61      0.57      0.57      2373\n",
      "                   weighted avg       0.79      0.81      0.79      2373\n",
      "\n"
     ]
    },
    {
     "name": "stderr",
     "output_type": "stream",
     "text": [
      "/opt/anaconda3/lib/python3.7/site-packages/sklearn/metrics/_classification.py:1272: UndefinedMetricWarning: Precision and F-score are ill-defined and being set to 0.0 in labels with no predicted samples. Use `zero_division` parameter to control this behavior.\n",
      "  _warn_prf(average, modifier, msg_start, len(result))\n"
     ]
    }
   ],
   "source": [
    "from sklearn.metrics import precision_recall_fscore_support, classification_report\n",
    "\n",
    "print(\"Test performance:\", precision_recall_fscore_support(all_correct, all_predicted, average=\"micro\"))\n",
    "print(classification_report(all_correct, all_predicted, target_names=target_names))"
   ]
  },
  {
   "cell_type": "code",
   "execution_count": 5,
   "metadata": {},
   "outputs": [
    {
     "name": "stdout",
     "output_type": "stream",
     "text": [
      "Methane from cow burps harms the environment, so either people have to stop eating meat and use plant based \"meats\" that don't harm the environment as much#eatingmeat4_so_Feedback_9#eatingmeat4_so_Feedback_9\n",
      "Methane from cow burps harms the environment, but they only produce about 14.5% of greenhouse gas emissions.#eatingmeat4_but_Feedback_1#eatingmeat4_but_Feedback_1\n",
      "Methane from cow burps harms the environment, but impossible Foods have created plant based meat that have the same qualities as real meat.#eatingmeat4_but_Feedback_8#eatingmeat4_but_Feedback_5\n",
      "Methane from cow burps harms the environment, but when cows eat seaweed as part of their diet, the methane content in their burps decreases by 99%.#eatingmeat4_but_Feedback_13#eatingmeat4_but_Feedback_13\n",
      "Methane from cow burps harms the environment because it exacerbates the process of global warming by increasing Earth's temperature.#eatingmeat4_because_Feedback_1#eatingmeat4_because_Feedback_1\n",
      "Methane from cow burps harms the environment because They predict that as Earth’s temperature rises.#eatingmeat4_because_Feedback_8#eatingmeat4_because_Feedback_5\n",
      "Methane from cow burps harms the environment, but people around the world rely on cows for food.#eatingmeat4_but_Feedback_7#eatingmeat4_but_Feedback_7\n",
      "Methane from cow burps harms the environment, but when cows consume seaweed, they release up to 99% less methane in their burps.#eatingmeat4_but_Feedback_13#eatingmeat4_but_Feedback_13\n",
      "Methane from cow burps harms the environment, but there are differences of opinion on how to solve this problem#eatingmeat4_but_Feedback_2#eatingmeat4_but_Feedback_2\n",
      "Methane from cow burps harms the environment, but if seaweed is added to the cows diet they will emit less methane with their burps.#eatingmeat4_but_Feedback_13#eatingmeat4_but_Feedback_13\n",
      "Methane from cow burps harms the environment, so scientists are looking for ways to solve the problem.#eatingmeat4_so_Feedback_1#eatingmeat4_so_Feedback_1\n",
      "Methane from cow burps harms the environment because causes Earth's temperature to rise in a process called global warming.#eatingmeat4_because_Feedback_1#eatingmeat4_because_Feedback_1\n",
      "Methane from cow burps harms the environment, but if they are fed a diet of seaweed, they will release 99% less methane.#eatingmeat4_but_Feedback_13#eatingmeat4_but_Feedback_13\n",
      "Methane from cow burps harms the environment because greenhouse gasses speed up global warming.#eatingmeat4_because_Feedback_1#eatingmeat4_because_Feedback_1\n",
      "Methane from cow burps harms the environment, so we should switch to Impossible burgers.#eatingmeat4_so_Feedback_9#eatingmeat4_so_Feedback_9\n",
      "Methane from cow burps harms the environment because it increases greenhouse gases.#eatingmeat4_because_Feedback _6#eatingmeat4_because_Feedback_4\n",
      "Methane from cow burps harms the environment, but produce about 14.5% of the world's greenhouse gases#eatingmeat4_but_Feedback_1#eatingmeat4_but_Feedback_1\n",
      "Methane from cow burps harms the environment, so e should change what they eat.#eatingmeat4_so_Feedback_10#eatingmeat4_so_Feedback_9\n",
      "Methane from cow burps harms the environment, so the company Impossible Foods wants to end all animal agriculture by 2035, by creating plant-based \"meats\" that have the look, taste, and texture of real meat.#eatingmeat4_so_Feedback_2#eatingmeat4_so_Feedback_2\n",
      "Methane from cow burps harms the environment because it raises green house gases.#eatingmeat4_because_Feedback _6#eatingmeat4_because_Feedback _6\n",
      "Methane from cow burps harms the environment, so we should look at other ways to combat greenhouse gases other than worrying about cows.#eatingmeat4_so_Feedback_9#eatingmeat4_so_Feedback_9\n",
      "Methane from cow burps harms the environment, so we must address this by all available means including a reduction in our meat consumption and changing the diets of cows.#eatingmeat4_so_Feedback_10#eatingmeat4_so_Feedback_10\n",
      "Methane from cow burps harms the environment, so companies like Impossible Foods are starting to create plant-based meats to help to limit the amount of greenhouse gases in the environment.#eatingmeat4_so_Feedback_2#eatingmeat4_so_Feedback_2\n",
      "Methane from cow burps harms the environment because the gas the cows emit causes global warming.#eatingmeat4_because_Feedback_5#eatingmeat4_because_Feedback_5\n",
      "Methane from cow burps harms the environment, but changing their diets can reduce the methane they release in their burps.#eatingmeat4_but_Feedback_9#eatingmeat4_but_Feedback_9\n",
      "Methane from cow burps harms the environment, but beef is widely consumed in the US so it is difficult to deal with this problem#eatingmeat4_but_Feedback_7#eatingmeat4_but_Feedback_8\n",
      "Methane from cow burps harms the environment because it produces 14.5% of the worlds greenhouse gases#eatingmeat4_because_Feedback_7#eatingmeat4_because_Feedback_4\n",
      "Methane from cow burps harms the environment, but this paragraph did not mention the belching from every other mammal on Earth and seems to vilify only the cattle industry.#eatingmeat4_but_Feedback_7#eatingmeat4_but_Feedback_4\n",
      "Methane from cow burps harms the environment, but recent research shows that feeding cows seaweed reduces the amount of methane cow burps release.#eatingmeat4_but_Feedback_13#eatingmeat4_but_Feedback_13\n",
      "Methane from cow burps harms the environment, but some people don't care because they like meat.#eatingmeat4_but_Feedback_7#eatingmeat4_but_Feedback_7\n",
      "Methane from cow burps harms the environment, so finding ways to reduce the amount of methane, either by switching what the cows eat or by switching the human diet to involve less meat, is important.#eatingmeat4_so_Feedback_10#eatingmeat4_so_Feedback_10\n",
      "Methane from cow burps harms the environment, so we need to consider alternatives to meat like the impossible burger.#eatingmeat4_so_Feedback_9#eatingmeat4_so_Feedback_9\n",
      "Methane from cow burps harms the environment because it is a green house gas and adds to global warming.#eatingmeat4_because_Feedback_1#eatingmeat4_because_Feedback_1\n",
      "Methane from cow burps harms the environment, but other aspects of animal agriculture, the practice of raising animals for food purposes, produce about 14.5% of the world's greenhouse gases.#eatingmeat4_but_Feedback_1#eatingmeat4_but_Feedback_1\n",
      "Methane from cow burps harms the environment, so we need to change what people or what cows eat.#eatingmeat4_so_Feedback_10#eatingmeat4_so_Feedback_10\n",
      "Methane from cow burps harms the environment because it produces 14.5% of the earth's greenhouse gases.#eatingmeat4_because_Feedback_7#eatingmeat4_because_Feedback_7\n",
      "Methane from cow burps harms the environment, but it's possible that changing their diets - such as including seaweed - can reduce the amount of methane released by each cow by about 99%.#eatingmeat4_but_Feedback_13#eatingmeat4_but_Feedback_13\n",
      "Methane from cow burps harms the environment, so there are options to resolve this issue such as changing the cows' diet, or opt for a plant meats that look, taste, and has the same texture as real meat to reduce animal agriculture.#eatingmeat4_so_Feedback_10#eatingmeat4_so_Feedback_10\n",
      "Methane from cow burps harms the environment because Not everyone shares Impossible Foods’ goal of ending animal agriculture.#eatingmeat4_because_Feedback_8#eatingmeat4_but_Feedback_2\n",
      "Methane from cow burps harms the environment, but could be reduced if the cow's diet is changed.#eatingmeat4_but_Feedback_9#eatingmeat4_but_Feedback_9\n",
      "Methane from cow burps harms the environment because the burps account for 30-50 gallons of additional methane, a greenhouse gas, emissions.#eatingmeat4_because_Feedback_5#eatingmeat4_because_Feedback_5\n",
      "Methane from cow burps harms the environment because the greenhouse gasses emitted get trapped in the atmosphere and raise the temperature of Earth.#eatingmeat4_because_Feedback_1#eatingmeat4_because_Feedback_4\n",
      "Methane from cow burps harms the environment because it is a greenhouse gas that helps raise global temperatures.#eatingmeat4_because_Feedback_1#eatingmeat4_because_Feedback_1\n",
      "Methane from cow burps harms the environment, so either we don't eat cows anymore or we change what we feed them.#eatingmeat4_so_Feedback_10#eatingmeat4_so_Feedback_10\n",
      "Methane from cow burps harms the environment, but reducing consumotion of meat by consuming alternatives, and changing what cows eat can reduce the burping.#eatingmeat4_but_Feedback_11#eatingmeat4_but_Feedback_9\n",
      "Methane from cow burps harms the environment, but a company called Impossible Foods aspires to put a stop to animal agriculture by 2035.#eatingmeat4_but_Feedback_8#eatingmeat4_but_Feedback_5\n",
      "Methane from cow burps harms the environment, so it the world would benefit from changing the diet of cows.#eatingmeat4_so_Feedback_10#eatingmeat4_so_Feedback_9\n",
      "Methane from cow burps harms the environment, so it's harm can be reduced through watching what the cows eat.#eatingmeat4_so_Feedback_10#eatingmeat4_so_Feedback_10\n",
      "Methane from cow burps harms the environment, so we should explore either alternatives to eating meat from cows or alternatives to consumption of cow meat.#eatingmeat4_so_Feedback_9#eatingmeat4_so_Feedback_9\n",
      "Methane from cow burps harms the environment, but companies like Impossible Foods are trying to come up with alternative food sources to combat this.#eatingmeat4_but_Feedback_8#eatingmeat4_but_Feedback_5\n",
      "Methane from cow burps harms the environment, so recent research has shown that when cows consume seaweed as part of their diets, they release up to 99% less methane in their burps.#eatingmeat4_so_Feedback_5#eatingmeat4_so_Feedback_5\n",
      "Methane from cow burps harms the environment, so we should change what they eat.#eatingmeat4_so_Feedback_10#eatingmeat4_so_Feedback_10\n",
      "Methane from cow burps harms the environment, but the Impossible Foods company wants to end animal agriculture by creating plant-based \"meats\" that have the appearance, taste and texture of real meat.#eatingmeat4_but_Feedback_5#eatingmeat4_but_Feedback_5\n",
      "Methane from cow burps harms the environment because that is responsible for one-third of greenhouse gas emissions#eatingmeat4_because_Feedback_5#eatingmeat4_because_Feedback_4\n",
      "Methane from cow burps harms the environment because it affects the quality in the air, which is part of global warming.#eatingmeat4_because_Feedback_8#eatingmeat4_because_Feedback_1\n",
      "Methane from cow burps harms the environment because the gas makes Earth's temperature's rise.#eatingmeat4_because_Feedback_1#eatingmeat4_because_Feedback_1\n",
      "Methane from cow burps harms the environment because raises the temperature.#eatingmeat4_because_Feedback_1#eatingmeat4_because_Feedback_8\n",
      "Methane from cow burps harms the environment, so we must do something to change either what we eat or what the cows eat.#eatingmeat4_so_Feedback_10#eatingmeat4_so_Feedback_10\n",
      "Methane from cow burps harms the environment, so we should look into ways to reduce this including feeding them seaweed.#eatingmeat4_so_Feedback_10#eatingmeat4_so_Feedback_10\n",
      "Methane from cow burps harms the environment, so we may need to change what they eat.#eatingmeat4_so_Feedback_10#eatingmeat4_so_Feedback_10\n",
      "Methane from cow burps harms the environment, but we can change how harmful it is to the environment with diet#eatingmeat4_but_Feedback_9#eatingmeat4_but_Feedback_9\n",
      "Methane from cow burps harms the environment, so many people are turning to plant-based \"meat\" products like the impossible burger.#eatingmeat4_so_Feedback_2#eatingmeat4_so_Feedback_2\n",
      "Methane from cow burps harms the environment because methane gas is emitted, which results in increased global warming.#eatingmeat4_because_Feedback_1#eatingmeat4_because_Feedback_1\n",
      "Methane from cow burps harms the environment, so don't give cows carbonated water.#eatingmeat4_so_Feedback_8#eatingmeat4_so_Feedback_9\n",
      "Methane from cow burps harms the environment, so changes to what people eat need to be part of the solution to the methane problem.#eatingmeat4_so_Feedback_9#eatingmeat4_so_Feedback_9\n",
      "Methane from cow burps harms the environment because there are a large amount of cows and thus all together the methane is a very substantial amount.#eatingmeat4_because_Feedback_5#eatingmeat4_because_Feedback_5\n",
      "Methane from cow burps harms the environment, but if we change what cows eat we can reduce the amount of gasses.#eatingmeat4_but_Feedback_13#eatingmeat4_but_Feedback_13\n",
      "Methane from cow burps harms the environment, so farmers have created a diet for their cows feeding them seeweed, which gives off 89%fewer Methane.#eatingmeat4_so_Feedback_3#eatingmeat4_so_Feedback_3\n",
      "Methane from cow burps harms the environment because their burping causes methane gas to be released.#eatingmeat4_because_Feedback_5#eatingmeat4_because_Feedback_5\n",
      "Methane from cow burps harms the environment, so this should be reduced either by shifting to plant based meat or adding impossible food in Cow's diet.#eatingmeat4_so_Feedback_9#eatingmeat4_so_Feedback_10\n",
      "Methane from cow burps harms the environment because it contributes to the world;s global warming issues.#eatingmeat4_because_Feedback_1#eatingmeat4_because_Feedback_1\n",
      "Methane from cow burps harms the environment, so the company Impossible foods wants to end all animal agriculture by 2035.#eatingmeat4_so_Feedback_2#eatingmeat4_so_Feedback_2\n",
      "Methane from cow burps harms the environment because it raises earth's temperature through a process called global warming.#eatingmeat4_because_Feedback_1#eatingmeat4_because_Feedback_1\n",
      "Methane from cow burps harms the environment, so eating meat and therefore supporting meat production agriculture is a contributing factor.#eatingmeat4_so_Feedback_9#eatingmeat4_so_Feedback_9\n",
      "Methane from cow burps harms the environment because this causes the Earth's temperature to rise in a process called global warming.#eatingmeat4_because_Feedback_1#eatingmeat4_because_Feedback_1\n",
      "Methane from cow burps harms the environment because this causes the Earth's temperature to rise.#eatingmeat4_because_Feedback_1#eatingmeat4_because_Feedback_1\n",
      "Methane from cow burps harms the environment, so the company Impossible Foods wants to eliminate meat from the worlds diet and replace it with plant based alternatives.#eatingmeat4_so_Feedback_2#eatingmeat4_so_Feedback_2\n",
      "Methane from cow burps harms the environment, but adding seaweed to the cows diet greatly reduces methane output.#eatingmeat4_but_Feedback_13#eatingmeat4_but_Feedback_13\n",
      "Methane from cow burps harms the environment, but if cows consume seaweed those emissions would go down to almost zero.#eatingmeat4_but_Feedback_13#eatingmeat4_but_Feedback_13\n",
      "Methane from cow burps harms the environment, so feeding the seaweed to them can reduce the methane in environment.#eatingmeat4_so_Feedback_10#eatingmeat4_so_Feedback_10\n",
      "Methane from cow burps harms the environment, so according to some, people should reduce or eliminate beef production.#eatingmeat4_so_Feedback_5#eatingmeat4_so_Feedback_9\n",
      "Methane from cow burps harms the environment, but the amount of gas can emitted can be lowered with a dietary change.#eatingmeat4_but_Feedback_9#eatingmeat4_but_Feedback_9\n",
      "Methane from cow burps harms the environment, so good task and the information#eatingmeat4_so_Feedback_8#eatingmeat4_so_Feedback_8\n",
      "Methane from cow burps harms the environment, but production of the Impossible Burger generates 89% fewer greenhouse gas emissions than beef burgers.#eatingmeat4_but_Feedback_5#eatingmeat4_but_Feedback_6\n",
      "Methane from cow burps harms the environment, but impossible meat doesn't harm the environment.#eatingmeat4_but_Feedback_5#eatingmeat4_but_Feedback_6\n",
      "Methane from cow burps harms the environment because it produces greenhouses gases that harm the environment.#eatingmeat4_because_Feedback_4#eatingmeat4_because_Feedback_4\n",
      "Methane from cow burps harms the environment, so we need to stop eating animal products.#eatingmeat4_so_Feedback_9#eatingmeat4_so_Feedback_9\n",
      "Methane from cow burps harms the environment because it generates 30 to 50 gallons of methane daily contributing to greenhouse gases and global warming.#eatingmeat4_because_Feedback_5#eatingmeat4_because_Feedback_5\n",
      "Methane from cow burps harms the environment, so we should consider ways to reduce the gases that cows create either by eating less meat or modifying their diet.#eatingmeat4_so_Feedback_10#eatingmeat4_so_Feedback_10\n",
      "Methane from cow burps harms the environment, but I think scientists in the future will solve the problem.#eatingmeat4_but_Feedback_7#eatingmeat4_but_Feedback_7\n",
      "Methane from cow burps harms the environment, so it is better to go for plant based meats#eatingmeat4_so_Feedback_9#eatingmeat4_so_Feedback_9\n",
      "Methane from cow burps harms the environment because it contributes to the greenhouse effect and the resultant global warming.#eatingmeat4_because_Feedback_1#eatingmeat4_because_Feedback_1\n",
      "Methane from cow burps harms the environment, but others think that merely changing what cows eats would be better than switching to plant-based alternatives.#eatingmeat4_but_Feedback_9#eatingmeat4_but_Feedback_9\n",
      "Methane from cow burps harms the environment, so we need to find an alternative#eatingmeat4_so_Feedback_9#eatingmeat4_so_Feedback_9\n",
      "Methane from cow burps harms the environment, but if they ate seaweed more often, they would burp less.#eatingmeat4_but_Feedback_13#eatingmeat4_but_Feedback_13\n",
      "Methane from cow burps harms the environment, so it may be a good idea to figure out how to minimize the methane produced by cattle.#eatingmeat4_so_Feedback_10#eatingmeat4_so_Feedback_10\n",
      "Methane from cow burps harms the environment because of releasing the greenhouse gas methane.#eatingmeat4_because_Feedback_5#eatingmeat4_because_Feedback_5\n",
      "Methane from cow burps harms the environment because they cause green house gas#eatingmeat4_because_Feedback_5#eatingmeat4_because_Feedback_5\n",
      "Methane from cow burps harms the environment, so as a society, we should look into different ways to reduce methane gas, but also keep meat in our diets.#eatingmeat4_so_Feedback_9#eatingmeat4_so_Feedback_9\n",
      "Methane from cow burps harms the environment, but feeding cows seaweed results in 99% less methane.#eatingmeat4_but_Feedback_13#eatingmeat4_but_Feedback_13\n",
      "Methane from cow burps harms the environment, but by changing their diet the methane emissions can be greatly lowered.#eatingmeat4_but_Feedback_9#eatingmeat4_but_Feedback_13\n",
      "Methane from cow burps harms the environment, but we can go for an alternative instead of raising animals for food#eatingmeat4_but_Feedback_6#eatingmeat4_but_Feedback_7\n",
      "Methane from cow burps harms the environment, so alternatives like plant based meat and altered cow diets are being explored#eatingmeat4_so_Feedback_1#eatingmeat4_so_Feedback_2\n",
      "Methane from cow burps harms the environment, but if we feed them seaweed, they could release up to 99% less methane.#eatingmeat4_but_Feedback_13#eatingmeat4_but_Feedback_13\n",
      "Methane from cow burps harms the environment, so we should investigate alternatives.#eatingmeat4_so_Feedback_9#eatingmeat4_so_Feedback_9\n",
      "Methane from cow burps harms the environment, so researchers are looking for alternatives to beef.#eatingmeat4_so_Feedback_2#eatingmeat4_so_Feedback_2\n",
      "Methane from cow burps harms the environment, but is a relatively small factor in greenhouse gas production and can be lessened with alterations to cattle feeds.#eatingmeat4_but_Feedback_4#eatingmeat4_but_Feedback_9\n",
      "Methane from cow burps harms the environment because it contributes to one-third of the greenhouse gas emissions caused by animal agriculture.#eatingmeat4_because_Feedback_3#eatingmeat4_because_Feedback _6\n",
      "Methane from cow burps harms the environment, but it is because of what they eat.#eatingmeat4_but_Feedback_7#eatingmeat4_but_Feedback_7\n",
      "Methane from cow burps harms the environment, but the amount of methane they release can be decreased when they are fed a diet of seaweed.#eatingmeat4_but_Feedback_13#eatingmeat4_but_Feedback_13\n",
      "Methane from cow burps harms the environment, so people should either stop eating beef or try \"Impossible Foods\" burgers.#eatingmeat4_so_Feedback_9#eatingmeat4_so_Feedback_9\n",
      "Methane from cow burps harms the environment, but it can be significantly reduced by changing cows diet.#eatingmeat4_but_Feedback_9#eatingmeat4_but_Feedback_9\n",
      "Methane from cow burps harms the environment, but if the cow eats seaweed, the cow burps methane content is reduced by 99%#eatingmeat4_but_Feedback_13#eatingmeat4_but_Feedback_13\n",
      "Methane from cow burps harms the environment, but they are less harmful to the environment than regular meat.#eatingmeat4_but_Feedback_7#eatingmeat4_but_Feedback_6\n",
      "Methane from cow burps harms the environment, but that could be remedied by feeding cows seaweed, which would significantly reduce the amount of Methane they produce.#eatingmeat4_but_Feedback_13#eatingmeat4_but_Feedback_13\n",
      "Methane from cow burps harms the environment, so a solution is to raise less cows or change their food.#eatingmeat4_so_Feedback_10#eatingmeat4_so_Feedback_10\n",
      "Methane from cow burps harms the environment, but scientists have linked global warming to extreme weather.#eatingmeat4_but_Feedback_8#eatingmeat4_but_Feedback_4\n",
      "Methane from cow burps harms the environment, so it needs to be addressed soon.#eatingmeat4_so_Feedback_9#eatingmeat4_so_Feedback_9\n",
      "Methane from cow burps harms the environment, so the solution lies in what farmers feed cows- seaweed would be a better food.#eatingmeat4_so_Feedback_10#eatingmeat4_so_Feedback_10\n",
      "Methane from cow burps harms the environment, but we could make meat that would eliminate the need for cows and produce less gas into the air.#eatingmeat4_but_Feedback_6#eatingmeat4_but_Feedback_6\n",
      "Methane from cow burps harms the environment, so reducing beef consumption would help the environment.#eatingmeat4_so_Feedback_9#eatingmeat4_so_Feedback_9\n",
      "Methane from cow burps harms the environment, but greenhouse gases created by animal agriculture only make up 14.5% of the world's greenhouse gases.#eatingmeat4_but_Feedback_1#eatingmeat4_but_Feedback_1\n",
      "Methane from cow burps harms the environment, but there are ways that we can fix the issue by creating the impossible burger or changing what cow's eat.#eatingmeat4_but_Feedback_9#eatingmeat4_but_Feedback_9\n",
      "Methane from cow burps harms the environment because 1.5 billion cows burps out 30-50 gallons of the greenhouse gas methane.#eatingmeat4_because_Feedback_5#eatingmeat4_because_Feedback_5\n",
      "Methane from cow burps harms the environment, but it doesn't mean we need to eliminate animal agriculture as we can look to change their diet in order to produce less gas.#eatingmeat4_but_Feedback_9#eatingmeat4_but_Feedback_8\n",
      "Methane from cow burps harms the environment, so green houses are caused by animal agriculture#eatingmeat4_so_Feedback_7#eatingmeat4_so_Feedback_7\n",
      "Methane from cow burps harms the environment, but when cows eat seaweed, they release up to 99% less methane in their burps.#eatingmeat4_but_Feedback_13#eatingmeat4_but_Feedback_13\n",
      "Methane from cow burps harms the environment because because the gas causes Earth's temperature to rise causing global warming.#eatingmeat4_because_Feedback_1#eatingmeat4_because_Feedback_1\n",
      "Methane from cow burps harms the environment because it releases 30-50 millions tons of methane gas into the atmosphere which causes global warming.#eatingmeat4_because_Feedback_5#eatingmeat4_because_Feedback_5\n",
      "Methane from cow burps harms the environment, so we can either change what we ear or what cows eat to prevent global warming.#eatingmeat4_so_Feedback_10#eatingmeat4_so_Feedback_10\n",
      "Methane from cow burps harms the environment, so new alternative meat products are taking off and attracting the interest of meat eaters as well.#eatingmeat4_so_Feedback_2#eatingmeat4_so_Feedback_2\n",
      "Methane from cow burps harms the environment, but it can be reduced by 99% if they consume seaweed in their diets.#eatingmeat4_but_Feedback_13#eatingmeat4_but_Feedback_13\n",
      "Methane from cow burps harms the environment because it raises air temperature contributing to global warming.#eatingmeat4_because_Feedback_1#eatingmeat4_because_Feedback_1\n",
      "Methane from cow burps harms the environment, so it is important that companies like Impossible continue to release alternative meat options for meat-eaters.#eatingmeat4_so_Feedback_2#eatingmeat4_so_Feedback_2\n",
      "Methane from cow burps harms the environment because methane is a greenhouse gas which causes Earth's temperature to rise.#eatingmeat4_because_Feedback_1#eatingmeat4_because_Feedback_1\n",
      "Methane from cow burps harms the environment, so this may result in global warming causing maladies such as droughts, wildfires, floods, and heat waves.#eatingmeat4_so_Feedback_7#eatingmeat4_so_Feedback_7\n",
      "Methane from cow burps harms the environment, so we must change our or their eating habits.#eatingmeat4_so_Feedback_10#eatingmeat4_so_Feedback_10\n",
      "Methane from cow burps harms the environment, but research has shown that cows who consume seaweed as part of their diets, they release up to 99% less methane in their burps.#eatingmeat4_but_Feedback_13#eatingmeat4_but_Feedback_13\n",
      "Methane from cow burps harms the environment because it contributes to greenhouse gases.#eatingmeat4_because_Feedback _6#eatingmeat4_because_Feedback_4\n",
      "Methane from cow burps harms the environment because it raises the earths temperatures#eatingmeat4_because_Feedback_1#eatingmeat4_because_Feedback_1\n",
      "Methane from cow burps harms the environment, so they need to have an alternative meat.#eatingmeat4_so_Feedback_9#eatingmeat4_so_Feedback_9\n",
      "Methane from cow burps harms the environment, so farmers should begin feeding cows seaweed which reduces methane in their burps by 99%.#eatingmeat4_so_Feedback_10#eatingmeat4_so_Feedback_10\n",
      "Methane from cow burps harms the environment, but if cows eat seaweed as part of their diet, they release less methane gas when they burp.#eatingmeat4_but_Feedback_13#eatingmeat4_but_Feedback_13\n",
      "Methane from cow burps harms the environment, but if the cows were fed a different diet it would be better.#eatingmeat4_but_Feedback_9#eatingmeat4_but_Feedback_13\n",
      "Methane from cow burps harms the environment because the methane contributes to global warming.#eatingmeat4_because_Feedback_1#eatingmeat4_because_Feedback_1\n",
      "Methane from cow burps harms the environment, so I for one will never eat meat again being a vegetarian for 40 years.#eatingmeat4_so_Feedback_8#eatingmeat4_so_Feedback_8\n",
      "Methane from cow burps harms the environment because they cause global warming#eatingmeat4_because_Feedback_5#eatingmeat4_because_Feedback_5\n",
      "Methane from cow burps harms the environment because they cause the temperature of the world to rise during global warming.#eatingmeat4_because_Feedback_5#eatingmeat4_because_Feedback_5\n",
      "Methane from cow burps harms the environment, but plant based meats are being developed to lower the use of cows for meat which will lower methane production.#eatingmeat4_but_Feedback_6#eatingmeat4_but_Feedback_6\n",
      "Methane from cow burps harms the environment, but it is i ok my a small contribution to the overall greenhouse gas equation.#eatingmeat4_but_Feedback_7#eatingmeat4_but_Feedback_7\n",
      "Methane from cow burps harms the environment, so some propose moving to an entirely animal free agriculture.#eatingmeat4_so_Feedback_2#eatingmeat4_so_Feedback_2\n",
      "Methane from cow burps harms the environment, but it's cow belching due to enteric fermentation.#eatingmeat4_but_Feedback_8#eatingmeat4_but_Feedback_7\n",
      "Methane from cow burps harms the environment, but if we change what cows eat, it may solve the problem.#eatingmeat4_but_Feedback_13#eatingmeat4_but_Feedback_13\n",
      "Methane from cow burps harms the environment, but the amount of methane released from cow burps can be modified by changing the cow's diet.#eatingmeat4_but_Feedback_9#eatingmeat4_but_Feedback_9\n",
      "Methane from cow burps harms the environment, so we have to find some way to counteract the harm.#eatingmeat4_so_Feedback_9#eatingmeat4_so_Feedback_9\n",
      "Methane from cow burps harms the environment, but research has shown if cows consume seaweed they release up to 99% less methane in their burps.#eatingmeat4_but_Feedback_13#eatingmeat4_but_Feedback_13\n",
      "Methane from cow burps harms the environment, but feeding them Seaweed could decrease the amount of methane they burp out by 99%.#eatingmeat4_but_Feedback_13#eatingmeat4_but_Feedback_13\n",
      "Methane from cow burps harms the environment, but raising animals for food only contributes to 14.5% of greenhouse gases.#eatingmeat4_but_Feedback_1#eatingmeat4_but_Feedback_1\n",
      "Methane from cow burps harms the environment because it increases total green house gas production, negatively impacting the ozone layer and potentially increasing global warming.#eatingmeat4_because_Feedback_9#eatingmeat4_because_Feedback_1\n",
      "Methane from cow burps harms the environment, but that can be fixed by changing the cows diets.#eatingmeat4_but_Feedback_9#eatingmeat4_but_Feedback_9\n",
      "Methane from cow burps harms the environment, but we can change the way cows eat.#eatingmeat4_but_Feedback_12#eatingmeat4_but_Feedback_12\n",
      "Methane from cow burps harms the environment because methane gas is a greenhouse gas and it causes the Earth's temperature to rise in a process called global warming.#eatingmeat4_because_Feedback_1#eatingmeat4_because_Feedback_1\n",
      "Methane from cow burps harms the environment because of the large number of cows being used in agriculture; the sheer volume of animals being bred specifically for eating increases the overall methane they produce, which contributes#eatingmeat4_because_Feedback_7#eatingmeat4_because_Feedback_8\n",
      "Methane from cow burps harms the environment because it is part of greenhouse gasses that help contribute to climate change and global warming, which increases extreme weather such as droughts, wildfires, and floods#eatingmeat4_because_Feedback_2#eatingmeat4_because_Feedback_2\n",
      "Methane from cow burps harms the environment, so using vegetable based Impossible Meats make a suitable alternative for meat loving folk.#eatingmeat4_so_Feedback_9#eatingmeat4_so_Feedback_9\n",
      "Methane from cow burps harms the environment because the gas increases global warming.#eatingmeat4_because_Feedback_1#eatingmeat4_because_Feedback_1\n",
      "Methane from cow burps harms the environment because it releases greenhouse gases that contribute significantly to global warming.#eatingmeat4_because_Feedback_4#eatingmeat4_because_Feedback_5\n",
      "Methane from cow burps harms the environment, so a resolution needs to be made to slow the global warming process by altering the cows diet, along with other global warming key factors unrelated to cow burping.#eatingmeat4_so_Feedback_10#eatingmeat4_so_Feedback_10\n",
      "Methane from cow burps harms the environment because it cause the earths temperature to rise.#eatingmeat4_because_Feedback_1#eatingmeat4_because_Feedback_1\n",
      "Methane from cow burps harms the environment, so scientests are looking into alternative foods for cows #eatingmeat4_so_Feedback_11#eatingmeat4_so_Feedback_2\n",
      "Methane from cow burps harms the environment because the methane these burbs produce contribute to about 14.5% of the world's greenhouse gases.#eatingmeat4_because_Feedback _6#eatingmeat4_because_Feedback_7\n",
      "Methane from cow burps harms the environment because methane is a greenhouse gas#eatingmeat4_because_Feedback _6#eatingmeat4_because_Feedback _6\n",
      "Methane from cow burps harms the environment, so we should reduce our consumption of meat to resolve this issue#eatingmeat4_so_Feedback_9#eatingmeat4_so_Feedback_9\n",
      "Methane from cow burps harms the environment, but research shows that if cows consume seaweed as part of their diet, the release 99% methane in their burps#eatingmeat4_but_Feedback_13#eatingmeat4_but_Feedback_13\n",
      "Methane from cow burps harms the environment, so we should either consume less meat or change cows' diets.#eatingmeat4_so_Feedback_10#eatingmeat4_so_Feedback_10\n",
      "Methane from cow burps harms the environment because it releases greenhouse gas emissions.#eatingmeat4_because_Feedback_4#eatingmeat4_because_Feedback_5\n",
      "Methane from cow burps harms the environment, so people could eat impossible burgers instead.#eatingmeat4_so_Feedback_9#eatingmeat4_so_Feedback_9\n",
      "Methane from cow burps harms the environment, so we must change the diets of the world's population#eatingmeat4_so_Feedback_9#eatingmeat4_so_Feedback_9\n",
      "Methane from cow burps harms the environment, so the use of alternatives such as meat substitutes may become necessary and more common especially in the fast food market.#eatingmeat4_so_Feedback_9#eatingmeat4_so_Feedback_9\n",
      "Methane from cow burps harms the environment, so it is advisable to find another food source for humans other than cows, or to change the cow's diet to reduce the amount of methane in a burp.#eatingmeat4_so_Feedback_9#eatingmeat4_so_Feedback_10\n",
      "Methane from cow burps harms the environment, so alternative meat sources should be considered such as the \"Impossible Burger\" made with plants.#eatingmeat4_so_Feedback_9#eatingmeat4_so_Feedback_9\n",
      "Methane from cow burps harms the environment, so companies such as Impossible Foods are looking at ending animal agriculture by 2035.#eatingmeat4_so_Feedback_2#eatingmeat4_so_Feedback_2\n",
      "Methane from cow burps harms the environment, but when fed seaweed, cows release 99% less methane in their burps.#eatingmeat4_but_Feedback_13#eatingmeat4_but_Feedback_13\n",
      "Methane from cow burps harms the environment, but adding seaweed to their diet can reduce methane up to 99%#eatingmeat4_but_Feedback_13#eatingmeat4_but_Feedback_13\n",
      "Methane from cow burps harms the environment, but it is a necessary by-product for meat.#eatingmeat4_but_Feedback_7#eatingmeat4_but_Feedback_7\n",
      "Methane from cow burps harms the environment, but seaweed will reduce the amount of toxins to the atmosphere.#eatingmeat4_but_Feedback_13#eatingmeat4_but_Feedback_13\n",
      "Methane from cow burps harms the environment, but it can be reduced by 99% by feeding them seaweed.#eatingmeat4_but_Feedback_13#eatingmeat4_but_Feedback_13\n",
      "Methane from cow burps harms the environment because the methane gas in the burps contributes to global warming.#eatingmeat4_because_Feedback_1#eatingmeat4_because_Feedback_5\n",
      "Methane from cow burps harms the environment, so we should free them a lot of seaweed and not eat meat.#eatingmeat4_so_Feedback_10#eatingmeat4_so_Feedback_10\n",
      "Methane from cow burps harms the environment because it contributes to greenhouse gases that contribute to global warming.#eatingmeat4_because_Feedback_1#eatingmeat4_because_Feedback_1\n",
      "Methane from cow burps harms the environment because it releases methane which is a greenhouse gas#eatingmeat4_because_Feedback_5#eatingmeat4_because_Feedback_5\n",
      "Methane from cow burps harms the environment, but if they eat seaweed they emit 99% less methane.#eatingmeat4_but_Feedback_13#eatingmeat4_but_Feedback_13\n",
      "Methane from cow burps harms the environment, but there are things we can do to change that.#eatingmeat4_but_Feedback_3#eatingmeat4_but_Feedback_3\n",
      "Methane from cow burps harms the environment because it releases methane gas which can increase the global greenhouse effect.#eatingmeat4_because_Feedback_9#eatingmeat4_because_Feedback_5\n",
      "Methane from cow burps harms the environment, but it is possible to mitigate or eliminate expelled methane by adding seaweed to a bovine diet.#eatingmeat4_but_Feedback_13#eatingmeat4_but_Feedback_13\n",
      "Methane from cow burps harms the environment, so we should consider feeding them seaweed.#eatingmeat4_so_Feedback_10#eatingmeat4_so_Feedback_10\n",
      "Methane from cow burps harms the environment, so the company Impossible Foods created plant-based \"meats\" that have the look, taste, and texture of real meat which would generates 89% fewer greenhouse gas emissions than beef burgers.#eatingmeat4_so_Feedback_2#eatingmeat4_so_Feedback_2\n",
      "Methane from cow burps harms the environment, so changing their diets or how people consume plant-based alternatives are imperative options to reduce climate change impact.#eatingmeat4_so_Feedback_10#eatingmeat4_so_Feedback_10\n",
      "Methane from cow burps harms the environment because every day, cows burps out greenhouse gas methane that causes Earth's temperature to rise in a process called global warming.#eatingmeat4_because_Feedback_5#eatingmeat4_because_Feedback_5\n",
      "Methane from cow burps harms the environment because they release large amounts of methane, which is a powerful greenhouse gas.#eatingmeat4_because_Feedback_5#eatingmeat4_because_Feedback_5\n",
      "Methane from cow burps harms the environment because it produces about 14.5% of the world's greenhouse gasses.#eatingmeat4_because_Feedback_7#eatingmeat4_because_Feedback_7\n",
      "Methane from cow burps harms the environment because they create Greenhouse Gases#eatingmeat4_because_Feedback_5#eatingmeat4_because_Feedback_5\n",
      "Methane from cow burps harms the environment, but there is some interest in changing cow feed to alleviate the problem.#eatingmeat4_but_Feedback_13#eatingmeat4_but_Feedback_9\n",
      "Methane from cow burps harms the environment, so it is best not to eat meat.#eatingmeat4_so_Feedback_9#eatingmeat4_so_Feedback_9\n",
      "Methane from cow burps harms the environment because it contributes to part of the 14.5% of the world's greenhouse gases produced in animal farming.#eatingmeat4_because_Feedback _6#eatingmeat4_because_Feedback_7\n",
      "Methane from cow burps harms the environment, but some scientists and farmers have argued that there are other ways to make the practice better for the environment.#eatingmeat4_but_Feedback_3#eatingmeat4_but_Feedback_3\n",
      "Methane from cow burps harms the environment because it causes an effect of greenhouse gases.#eatingmeat4_because_Feedback _6#eatingmeat4_because_Feedback_5\n",
      "Methane from cow burps harms the environment, but if we feed them seaweed or at least input that into their diet, we saw 99% less methane in their burps.#eatingmeat4_but_Feedback_13#eatingmeat4_but_Feedback_13\n",
      "Methane from cow burps harms the environment, but a solution to the problem could be to change cows' diets#eatingmeat4_but_Feedback_12#eatingmeat4_but_Feedback_9\n",
      "Methane from cow burps harms the environment because methane causes the earth's temperature to rise#eatingmeat4_because_Feedback_1#eatingmeat4_because_Feedback_1\n",
      "Methane from cow burps harms the environment, so we need to do something so this problem stops harming our environment.#eatingmeat4_so_Feedback_9#eatingmeat4_so_Feedback_9\n",
      "Methane from cow burps harms the environment because this gas causes Earth's temperature to rise.#eatingmeat4_because_Feedback_1#eatingmeat4_because_Feedback_1\n",
      "Methane from cow burps harms the environment, but we can substantially reduce the methane by supplementing part of their diet with seaweed.#eatingmeat4_but_Feedback_13#eatingmeat4_but_Feedback_13\n",
      "Methane from cow burps harms the environment, but we can feed them seaweed to reduce up to 99% of it.#eatingmeat4_but_Feedback_13#eatingmeat4_but_Feedback_13\n",
      "Methane from cow burps harms the environment, but if cows are fed seaweed, they release up to 99% less methane in burps.#eatingmeat4_but_Feedback_13#eatingmeat4_but_Feedback_13\n",
      "Methane from cow burps harms the environment, but if we remove seaweed from cows diets we could reduce the amount of methane from cow burps by 99%#eatingmeat4_but_Feedback_13#eatingmeat4_but_Feedback_13\n",
      "Methane from cow burps harms the environment, so we should either reduce the amount of red meat being consumed, or feed cows other things, like seaweed.#eatingmeat4_so_Feedback_10#eatingmeat4_so_Feedback_10\n",
      "Methane from cow burps harms the environment, so we should look at multiple solutions for fixing the problem such as alternatives to meat consumption and ways to reduce the amount of methane that cows produce.#eatingmeat4_so_Feedback_9#eatingmeat4_so_Feedback_10\n",
      "Methane from cow burps harms the environment because it produces 30 to 50 million gallons of methane.#eatingmeat4_because_Feedback_8#eatingmeat4_because_Feedback_5\n",
      "Methane from cow burps harms the environment, so it is important to reduce it so that there is less of an impact on global warming.#eatingmeat4_so_Feedback_9#eatingmeat4_so_Feedback_9\n",
      "Methane from cow burps harms the environment, so some people think changes need to be made.#eatingmeat4_so_Feedback_1#eatingmeat4_so_Feedback_2\n",
      "Methane from cow burps harms the environment because it causes them to produce greenhouse gases that contribute to global warming.#eatingmeat4_because_Feedback_4#eatingmeat4_because_Feedback_5\n",
      "Methane from cow burps harms the environment, but recent research has shown that when cows consume seaweed as part of their diets, they release up to 99% less methane in their burps, and this solution could reduce about one-third of greenhouse gas emissions caused by animal agriculture.#eatingmeat4_but_Feedback_13#eatingmeat4_but_Feedback_13\n",
      "Methane from cow burps harms the environment because they cause the earth's temperature to rise, which leads to global warming.#eatingmeat4_because_Feedback_5#eatingmeat4_because_Feedback_5\n",
      "Methane from cow burps harms the environment because 30-50 gallons of the greenhouse gas methane is emitted from this process which causes the Earth's temperature to rise contributing to global warming.#eatingmeat4_because_Feedback_5#eatingmeat4_because_Feedback_5\n",
      "Methane from cow burps harms the environment, but people like to eat meat.#eatingmeat4_but_Feedback_7#eatingmeat4_but_Feedback_7\n",
      "Methane from cow burps harms the environment because this causes Earth's temperature to rise in a process called global warming.#eatingmeat4_because_Feedback_1#eatingmeat4_because_Feedback_1\n",
      "Methane from cow burps harms the environment, so changes should be made.#eatingmeat4_so_Feedback_9#eatingmeat4_so_Feedback_9\n",
      "Methane from cow burps harms the environment because it creates methane.#eatingmeat4_because_Feedback_5#eatingmeat4_because_Feedback_5\n",
      "Methane from cow burps harms the environment, so feeding them seaweed will reduce the methane in their burps.#eatingmeat4_so_Feedback_10#eatingmeat4_so_Feedback_10\n",
      "Methane from cow burps harms the environment, but people like to consume beef.#eatingmeat4_but_Feedback_7#eatingmeat4_but_Feedback_7\n",
      "Methane from cow burps harms the environment because the gas expelled, methane, causes a greenhouse effect which adversely effects the Earth's temperature.#eatingmeat4_because_Feedback_1#eatingmeat4_because_Feedback_9\n",
      "Methane from cow burps harms the environment, so it is a good idea to change a cow's diet to reduce the methane released.#eatingmeat4_so_Feedback_10#eatingmeat4_so_Feedback_10\n",
      "Methane from cow burps harms the environment because it creates methane gas.#eatingmeat4_because_Feedback_5#eatingmeat4_because_Feedback_4\n",
      "Methane from cow burps harms the environment, so means to alleviate this situation need to be addressed, whether through the consumption of less meat or through a change in the diet of the cows.#eatingmeat4_so_Feedback_10#eatingmeat4_so_Feedback_10\n",
      "Methane from cow burps harms the environment, but creating plant-based \"meats\" that have the look, taste, and texture of real meat, Impossible is appealing to meat-eaters.#eatingmeat4_but_Feedback_8#eatingmeat4_but_Feedback_10\n",
      "Methane from cow burps harms the environment, but there are solutions and alternatives.#eatingmeat4_but_Feedback_3#eatingmeat4_but_Feedback_3\n",
      "Methane from cow burps harms the environment, so we should still consider all options.#eatingmeat4_so_Feedback_9#eatingmeat4_so_Feedback_9\n",
      "Methane from cow burps harms the environment, so the company Impossible Foods wants to end all animal agriculture by 2035 in part by creating plant-based \"meats\" that have the look, taste, and texture of real meat, Impossible is appealing to meat-eaters.#eatingmeat4_so_Feedback_2#eatingmeat4_so_Feedback_2\n",
      "Methane from cow burps harms the environment because it is a chemical.#eatingmeat4_because_Feedback_8#eatingmeat4_because_Feedback _6\n",
      "Methane from cow burps harms the environment, but if cows consume seaweed as part of their diets, they release up to 99% less methane in their burps.#eatingmeat4_but_Feedback_13#eatingmeat4_but_Feedback_13\n",
      "Methane from cow burps harms the environment, so farmers want to come up with another idea and that is to feed cows seaweed.#eatingmeat4_so_Feedback_11#eatingmeat4_so_Feedback_11\n",
      "Methane from cow burps harms the environment, but feeding the cows a diet that contains seaweed reduces the amount of methane they release by up to 99%.#eatingmeat4_but_Feedback_13#eatingmeat4_but_Feedback_13\n",
      "Methane from cow burps harms the environment, but this could be mitigated by feeding them seaweed, which reduces methane by up to 99%.#eatingmeat4_but_Feedback_13#eatingmeat4_but_Feedback_13\n",
      "Methane from cow burps harms the environment because it is a large chunk of the worlds greenhouse gases#eatingmeat4_because_Feedback_3#eatingmeat4_because_Feedback _6\n",
      "Methane from cow burps harms the environment, but there are possible solutions to decrease the methane in cows.#eatingmeat4_but_Feedback_3#eatingmeat4_but_Feedback_3\n",
      "Methane from cow burps harms the environment, but we can make plant based meat instead as a substitute.#eatingmeat4_but_Feedback_6#eatingmeat4_but_Feedback_6\n",
      "Methane from cow burps harms the environment, but Eating meat takes a large toll on the environment, but not everyone agrees on the best solution#eatingmeat4_but_Feedback_7#eatingmeat4_but_Feedback_2\n",
      "Methane from cow burps harms the environment, but feeding the cows a certain type of seaweed may be a solution.#eatingmeat4_but_Feedback_13#eatingmeat4_but_Feedback_13\n",
      "Methane from cow burps harms the environment, so It would be best to try and reduce that amount.#eatingmeat4_so_Feedback_9#eatingmeat4_so_Feedback_9\n",
      "Methane from cow burps harms the environment, so if more fast food chains add these alternative meat products to their menus, there will be less harm done to the environment.#eatingmeat4_so_Feedback_9#eatingmeat4_so_Feedback_9\n",
      "Methane from cow burps harms the environment because it makes up 14.5% of the world harmful greenhouses gasses.#eatingmeat4_because_Feedback_7#eatingmeat4_because_Feedback_7\n",
      "Methane from cow burps harms the environment, but by feeding cows seaweed, it reduces the methane in their gases by 99%.#eatingmeat4_but_Feedback_13#eatingmeat4_but_Feedback_13\n",
      "Methane from cow burps harms the environment, so we can feed them seaweed to make the problem less severe.#eatingmeat4_so_Feedback_10#eatingmeat4_so_Feedback_10\n",
      "Methane from cow burps harms the environment, so scientests are looking into alternative foods for cows to lessen the environmental harm.#eatingmeat4_so_Feedback_3#eatingmeat4_so_Feedback_2\n",
      "Methane from cow burps harms the environment, but it only produces about 14.5% of the world’s greenhouse gases.#eatingmeat4_but_Feedback_1#eatingmeat4_but_Feedback_1\n",
      "Methane from cow burps harms the environment because it causes global warming.#eatingmeat4_because_Feedback_1#eatingmeat4_because_Feedback_1\n",
      "Methane from cow burps harms the environment, so it would be wise to reduce eating meat and try substituting plant based meats.#eatingmeat4_so_Feedback_9#eatingmeat4_so_Feedback_9\n",
      "Methane from cow burps harms the environment, but we can lessen it by feeding them seaweed.#eatingmeat4_but_Feedback_13#eatingmeat4_but_Feedback_13\n",
      "Methane from cow burps harms the environment, but there is an alternative to cow meat like plant-based meat#eatingmeat4_but_Feedback_5#eatingmeat4_but_Feedback_10\n",
      "Methane from cow burps harms the environment, but introducing seaweed to cows diets can help reduce the amount of methane that they produce up to 99%.#eatingmeat4_but_Feedback_13#eatingmeat4_but_Feedback_13\n",
      "Methane from cow burps harms the environment, but feeding cow seaweed reduces the methane by as much as 99%.#eatingmeat4_but_Feedback_13#eatingmeat4_but_Feedback_13\n",
      "Methane from cow burps harms the environment, so we should take action to reduce that methane amount down to safer levels.#eatingmeat4_so_Feedback_10#eatingmeat4_so_Feedback_9\n",
      "Methane from cow burps harms the environment because the greenhouse gas emissions from agriculture can contribute to global warming.#eatingmeat4_because_Feedback_7#eatingmeat4_because_Feedback_1\n",
      "Methane from cow burps harms the environment because the methane gas contained in their burps contributes to global warming.#eatingmeat4_because_Feedback_1#eatingmeat4_because_Feedback_5\n",
      "Methane from cow burps harms the environment, but there is a way to reduce it by feeding them seaweed.#eatingmeat4_but_Feedback_13#eatingmeat4_but_Feedback_13\n",
      "Methane from cow burps harms the environment, but it can be less harmful if you make changes to the cow's diet.#eatingmeat4_but_Feedback_9#eatingmeat4_but_Feedback_9\n",
      "Methane from cow burps harms the environment, but things can be done to prevent it.#eatingmeat4_but_Feedback_3#eatingmeat4_but_Feedback_3\n",
      "Methane from cow burps harms the environment because methane gas worsens the greenhouse effect and hastens the onset of global warming.#eatingmeat4_because_Feedback_1#eatingmeat4_because_Feedback_1\n",
      "Methane from cow burps harms the environment, so scientists are considering other ways to feed cows #eatingmeat4_so_Feedback_11#eatingmeat4_so_Feedback_3\n",
      "Methane from cow burps harms the environment, but we just want to control everything we tell you to think.#eatingmeat4_but_Feedback_7#eatingmeat4_but_Feedback_7\n",
      "Methane from cow burps harms the environment because they produce 14.5 % of the world's greenhouse gases#eatingmeat4_because_Feedback_7#eatingmeat4_because_Feedback_7\n",
      "Methane from cow burps harms the environment because it emits an extremely large quantity of a greenhouse gas into the atmosphere, thus warming the earth.#eatingmeat4_because_Feedback_4#eatingmeat4_because_Feedback_5\n",
      "Methane from cow burps harms the environment, so Impossible Foods Inc aims to end all animal agriculture by 2035.#eatingmeat4_so_Feedback_2#eatingmeat4_so_Feedback_2\n",
      "Methane from cow burps harms the environment, so many people want to reduce the amount of cows raised for meat.#eatingmeat4_so_Feedback_4#eatingmeat4_so_Feedback_2\n",
      "Methane from cow burps harms the environment, but Impossible Foods has a plan to reduce methane emissions by eliminating animal agriculture by 2035.#eatingmeat4_but_Feedback_8#eatingmeat4_but_Feedback_5\n",
      "Methane from cow burps harms the environment, but humans can change what they eat by eating plant based meat.#eatingmeat4_but_Feedback_10#eatingmeat4_but_Feedback_6\n",
      "Methane from cow burps harms the environment, but the addition of seaweed to their diet reduses methane by 99 percent.#eatingmeat4_but_Feedback_13#eatingmeat4_but_Feedback_13\n",
      "Methane from cow burps harms the environment because it releases methane which is a greenhouse gas.#eatingmeat4_because_Feedback_5#eatingmeat4_because_Feedback_5\n",
      "Methane from cow burps harms the environment because methane is a gas that causes Earth's temperature to rise, a process called global warming.#eatingmeat4_because_Feedback_1#eatingmeat4_because_Feedback_1\n",
      "Methane from cow burps harms the environment because it causes global warming through carbon dioxide emissions.#eatingmeat4_because_Feedback_10#eatingmeat4_because_Feedback_1\n",
      "Methane from cow burps harms the environment because the methane exhaled contributes to global warming.#eatingmeat4_because_Feedback_5#eatingmeat4_because_Feedback_1\n",
      "Methane from cow burps harms the environment, so other methods should be taken to decrease the amount of methane produced by cows.#eatingmeat4_so_Feedback_10#eatingmeat4_so_Feedback_10\n",
      "Methane from cow burps harms the environment, but cattle and other livestock animals are used food and survival.#eatingmeat4_but_Feedback_7#eatingmeat4_but_Feedback_7\n",
      "Methane from cow burps harms the environment because every day each of the world’s 1.5 billion cows burps out methane.#eatingmeat4_because_Feedback_5#eatingmeat4_because_Feedback_5\n",
      "Methane from cow burps harms the environment, so they should consume seaweed to release upto 99% less methane#eatingmeat4_so_Feedback_10#eatingmeat4_so_Feedback_10\n",
      "Methane from cow burps harms the environment because they burp out greenhouse gas methane which causes the Earth's temperature to rise.#eatingmeat4_because_Feedback_5#eatingmeat4_because_Feedback_5\n",
      "Methane from cow burps harms the environment because methane is bad for the environment.#eatingmeat4_because_Feedback _6#eatingmeat4_because_Feedback _6\n",
      "Methane from cow burps harms the environment, but not everyone is in agreement about what the best solution to prevent this methane emission is.#eatingmeat4_but_Feedback_2#eatingmeat4_but_Feedback_2\n",
      "Methane from cow burps harms the environment, so we need to think about eliminating meat from our diets.#eatingmeat4_so_Feedback_9#eatingmeat4_so_Feedback_9\n",
      "Methane from cow burps harms the environment, but this only accounts for 14.5 per cent of the greenhouse gases.#eatingmeat4_but_Feedback_1#eatingmeat4_but_Feedback_1\n",
      "Methane from cow burps harms the environment, so we should start replacing some of our regular meat intake along with changing the diet of cows to reduce methane gas production.#eatingmeat4_so_Feedback_10#eatingmeat4_so_Feedback_10\n",
      "Methane from cow burps harms the environment, but they could be fed seaweed instead to decrease the release of methane.#eatingmeat4_but_Feedback_13#eatingmeat4_but_Feedback_13\n",
      "Methane from cow burps harms the environment because it contributes to greenhouse gas.#eatingmeat4_because_Feedback _6#eatingmeat4_because_Feedback_4\n",
      "Methane from cow burps harms the environment because it releases gas into the environment and can cause climate change.#eatingmeat4_because_Feedback_5#eatingmeat4_because_Feedback_5\n",
      "Methane from cow burps harms the environment, but if we feed them different food, such as seaweed, it lowers the methane released.#eatingmeat4_but_Feedback_13#eatingmeat4_but_Feedback_13\n",
      "Methane from cow burps harms the environment because methane is a greenhouse gas that contributes to global warming.#eatingmeat4_because_Feedback_1#eatingmeat4_because_Feedback_1\n",
      "Methane from cow burps harms the environment, but people do not necessarily agree on how to combat the issue.#eatingmeat4_but_Feedback_2#eatingmeat4_but_Feedback_2\n",
      "Methane from cow burps harms the environment, but it only makes up 14.5 percent of the world's greenhouse gases.#eatingmeat4_but_Feedback_1#eatingmeat4_but_Feedback_1\n",
      "Methane from cow burps harms the environment, but there answers to this problem.#eatingmeat4_but_Feedback_3#eatingmeat4_but_Feedback_3\n",
      "Methane from cow burps harms the environment, so it is important to have seaweed integrated into their diet, to lessen methane by one third.#eatingmeat4_so_Feedback_10#eatingmeat4_so_Feedback_10\n",
      "Methane from cow burps harms the environment because it increases the greenhouse gases in the environment.#eatingmeat4_because_Feedback _6#eatingmeat4_because_Feedback_4\n",
      "Methane from cow burps harms the environment because it contributes to greenhouse gases#eatingmeat4_because_Feedback _6#eatingmeat4_because_Feedback_4\n",
      "Methane from cow burps harms the environment because they produce the greenhouse gas methane.#eatingmeat4_because_Feedback_5#eatingmeat4_because_Feedback_5\n",
      "Methane from cow burps harms the environment, so we can add seaweed to the cows diets so they burp less.#eatingmeat4_so_Feedback_10#eatingmeat4_so_Feedback_10\n",
      "Methane from cow burps harms the environment, but it can be reduced if cows are fed a different diet.#eatingmeat4_but_Feedback_9#eatingmeat4_but_Feedback_9\n",
      "Methane from cow burps harms the environment, but the effect may be reduced by feeding cows a portion of seaweed in their diet which can reduce methane in their burps about 99%.#eatingmeat4_but_Feedback_13#eatingmeat4_but_Feedback_13\n",
      "Methane from cow burps harms the environment, but by feeding them seaweed, there is a 99% reduction in the amount of methane produced.#eatingmeat4_but_Feedback_13#eatingmeat4_but_Feedback_13\n",
      "Methane from cow burps harms the environment, so Impossible wants to change the way we eat with plant based burgers.#eatingmeat4_so_Feedback_2#eatingmeat4_so_Feedback_2\n",
      "Methane from cow burps harms the environment because it increases the Earth's temperature and contributes to global warming.#eatingmeat4_because_Feedback_1#eatingmeat4_because_Feedback_1\n",
      "Methane from cow burps harms the environment, so environmentalists want us to stop eating beef.#eatingmeat4_so_Feedback_8#eatingmeat4_so_Feedback_4\n",
      "Methane from cow burps harms the environment because it and other agricultural animal adds to 14.5% of the world's greenhouse gases.#eatingmeat4_because_Feedback_3#eatingmeat4_because_Feedback_7\n",
      "Methane from cow burps harms the environment because it increases the earths temperature.#eatingmeat4_because_Feedback_1#eatingmeat4_because_Feedback_1\n",
      "Methane from cow burps harms the environment because it helps the earth's temperature to rise.#eatingmeat4_because_Feedback_1#eatingmeat4_because_Feedback_1\n",
      "Methane from cow burps harms the environment, so cow burps are truly an environmental hazard.#eatingmeat4_so_Feedback_7#eatingmeat4_so_Feedback_8\n",
      "Methane from cow burps harms the environment, but companies are offering alternatives to beef via Impossible burgers.#eatingmeat4_but_Feedback_8#eatingmeat4_but_Feedback_5\n",
      "Methane from cow burps harms the environment, so companies like Impossible Foods wants to eliminate animal agriculture.#eatingmeat4_so_Feedback_2#eatingmeat4_so_Feedback_2\n",
      "Methane from cow burps harms the environment because they burp out 30-50 gallons of greenhouse gas methane which causes the earth's temperature to rise.#eatingmeat4_because_Feedback_5#eatingmeat4_because_Feedback_5\n",
      "Methane from cow burps harms the environment, so something must be done to stem the release of methane, whether it be changing what the cows eat or changing what we humans eat.#eatingmeat4_so_Feedback_10#eatingmeat4_so_Feedback_10\n",
      "Methane from cow burps harms the environment, so we need to look at either ways to reduce our meat consumption or substitute other items for cows to eat, like seaweed, to reduce the methane content of their burps.#eatingmeat4_so_Feedback_10#eatingmeat4_so_Feedback_10\n",
      "Methane from cow burps harms the environment because it causes the worlds temperature to rise#eatingmeat4_because_Feedback_1#eatingmeat4_because_Feedback_1\n",
      "Methane from cow burps harms the environment, so attention has turned to putting a cork in the volume of methane cows#eatingmeat4_so_Feedback_8#eatingmeat4_so_Feedback_1\n",
      "Methane from cow burps harms the environment because it causes Earth's temperature to rise which leads to droughts, heatwaves, and fires.#eatingmeat4_because_Feedback_1#eatingmeat4_because_Feedback_2\n",
      "Methane from cow burps harms the environment because it produces methane and other greenhouse gases.#eatingmeat4_because_Feedback_5#eatingmeat4_because_Feedback_4\n",
      "Methane from cow burps harms the environment because it causes the Earth's temperature to rise as a phenomenon known as Global Warming.#eatingmeat4_because_Feedback_1#eatingmeat4_because_Feedback_1\n",
      "Methane from cow burps harms the environment, so a company wants to end animal agriculture.#eatingmeat4_so_Feedback_2#eatingmeat4_so_Feedback_2\n",
      "Methane from cow burps harms the environment, but cows consume seaweed as part of their diets, they release up to 99% less methane in their burps.#eatingmeat4_but_Feedback_13#eatingmeat4_but_Feedback_13\n",
      "Methane from cow burps harms the environment because the cows are burping green house gases.#eatingmeat4_because_Feedback_5#eatingmeat4_because_Feedback_5\n",
      "Methane from cow burps harms the environment because this increases the Earth's temperature, causing global warming.#eatingmeat4_because_Feedback_1#eatingmeat4_because_Feedback_1\n",
      "Methane from cow burps harms the environment because it is a greenhouse gas, a gas that causes the Earth's temperature to rise - global warming.#eatingmeat4_because_Feedback_1#eatingmeat4_because_Feedback_1\n",
      "Methane from cow burps harms the environment, but THEY ARE LESS HARMFUL THAN THE REGULAR MEAT#eatingmeat4_but_Feedback_8#eatingmeat4_but_Feedback_7\n",
      "Methane from cow burps harms the environment, so it would be a good idea to reduce the amount of livestock that we raise for food.#eatingmeat4_so_Feedback_9#eatingmeat4_so_Feedback_9\n",
      "Methane from cow burps harms the environment because the methane causes the Earth's temperature to rise, which causes global warming.#eatingmeat4_because_Feedback_1#eatingmeat4_because_Feedback_1\n",
      "Methane from cow burps harms the environment, so we should either get rid of animal agriculture or change how cows eat to reduce methane that is released.#eatingmeat4_so_Feedback_10#eatingmeat4_so_Feedback_10\n",
      "Methane from cow burps harms the environment, but could be curbed by changing the cows' diet.#eatingmeat4_but_Feedback_9#eatingmeat4_but_Feedback_9\n",
      "Methane from cow burps harms the environment, so we need to reduce the cow population by looking toward non-meat sources for burgers, or switch the cow feed to a less methane producing type.#eatingmeat4_so_Feedback_10#eatingmeat4_so_Feedback_10\n",
      "Methane from cow burps harms the environment because it results in global warming.#eatingmeat4_because_Feedback_1#eatingmeat4_because_Feedback_1\n",
      "Methane from cow burps harms the environment, so consider consuming something other than meat.#eatingmeat4_so_Feedback_9#eatingmeat4_so_Feedback_9\n",
      "Methane from cow burps harms the environment, but this problem can be reduced by changing what the cows consume.#eatingmeat4_but_Feedback_9#eatingmeat4_but_Feedback_9\n",
      "Methane from cow burps harms the environment, but people still choose to consume large quantities of meat.#eatingmeat4_but_Feedback_7#eatingmeat4_but_Feedback_7\n",
      "Methane from cow burps harms the environment because it causes green house methane.#eatingmeat4_because_Feedback_5#eatingmeat4_because_Feedback_5\n",
      "Methane from cow burps harms the environment because each of the 1.5 million cows on the planet release about 30-40 pounds of methane per day.#eatingmeat4_because_Feedback_5#eatingmeat4_because_Feedback_5\n",
      "Methane from cow burps harms the environment, so to address this problem companies want to end all animal agriculture by 2035, by creating plant-based \"meats\" that have the look, taste, and texture of real meat.#eatingmeat4_so_Feedback_2#eatingmeat4_so_Feedback_2\n",
      "Methane from cow burps harms the environment, so some people want to stop the mass production of using animals as food.#eatingmeat4_so_Feedback_2#eatingmeat4_so_Feedback_2\n",
      "Methane from cow burps harms the environment because methane causes the Earth’s temperature to rise.#eatingmeat4_because_Feedback_1#eatingmeat4_because_Feedback_1\n",
      "Methane from cow burps harms the environment, but we can greatly decrease this by feeding cows seaweed.#eatingmeat4_but_Feedback_13#eatingmeat4_but_Feedback_13\n",
      "Methane from cow burps harms the environment, but if Farmers start feeding seaweed to their cows it'll help cut back 99% of the methane or from cow burps.#eatingmeat4_but_Feedback_13#eatingmeat4_but_Feedback_13\n",
      "Methane from cow burps harms the environment, but one thing can be done to circumvent this methane burping such as switching to a new product made from vegetables but which tastes like meat, thus negating the need for raising cows to eat.#eatingmeat4_but_Feedback_6#eatingmeat4_but_Feedback_9\n",
      "Methane from cow burps harms the environment, so Impossible Foods seeks to end animal agriculture by creating plant-based meats.#eatingmeat4_so_Feedback_2#eatingmeat4_so_Feedback_2\n",
      "Methane from cow burps harms the environment, so Scientists have linked global warming to an increase in extreme weather events such as droughts, heat waves, wildfires, and floods.#eatingmeat4_so_Feedback_7#eatingmeat4_so_Feedback_7\n",
      "Methane from cow burps harms the environment, so scientists have come up with several solutions to the problem.#eatingmeat4_so_Feedback_1#eatingmeat4_so_Feedback_1\n",
      "Methane from cow burps harms the environment, so farmers and anti-meat activists should work together towards a comprised, sustainable solution.#eatingmeat4_so_Feedback_9#eatingmeat4_so_Feedback_9\n",
      "Methane from cow burps harms the environment because methane contributes to climate change.#eatingmeat4_because_Feedback_3#eatingmeat4_because_Feedback_4\n",
      "Methane from cow burps harms the environment, but there is something to be done to reduce that effect, one is to change the cows diet by introducing seeweed, another would be to reduce the amount of meat consumption in order to help the environment.#eatingmeat4_but_Feedback_13#eatingmeat4_but_Feedback_13\n",
      "Methane from cow burps harms the environment, so we should change what cows eat.#eatingmeat4_so_Feedback_10#eatingmeat4_so_Feedback_10\n",
      "Methane from cow burps harms the environment because it is a greenhouse gas that accumulates in the atmosphere.#eatingmeat4_because_Feedback _6#eatingmeat4_because_Feedback _6\n",
      "Methane from cow burps harms the environment, so a company called Impossible Foods has produced a burger that is plant based as one method to cut down on cows used as a food source.#eatingmeat4_so_Feedback_2#eatingmeat4_so_Feedback_2\n",
      "Methane from cow burps harms the environment because it contributes to thickening the atmosphere and as such it contributes to global warming#eatingmeat4_because_Feedback_9#eatingmeat4_because_Feedback_1\n",
      "Methane from cow burps harms the environment, so a unique solution of adding seaweed to cattle food could be an effective way to alleviate production of bovine methane.#eatingmeat4_so_Feedback_10#eatingmeat4_so_Feedback_10\n",
      "Methane from cow burps harms the environment, but giving up eating meat is not something everyone believes will help the Earth.#eatingmeat4_but_Feedback_7#eatingmeat4_but_Feedback_7\n",
      "Methane from cow burps harms the environment, so one way to help the environment is to require less cows for meat consumption.#eatingmeat4_so_Feedback_9#eatingmeat4_so_Feedback_9\n",
      "Methane from cow burps harms the environment, but increases global warming#eatingmeat4_but_Feedback_8#eatingmeat4_but_Feedback_8\n",
      "Methane from cow burps harms the environment, so meatless foods is a great alternative.#eatingmeat4_so_Feedback_9#eatingmeat4_so_Feedback_9\n",
      "Methane from cow burps harms the environment, but research has shown that when cows consume seaweed as part of their diets, they release up to 99% less methane in their burps.#eatingmeat4_but_Feedback_13#eatingmeat4_but_Feedback_13\n",
      "Methane from cow burps harms the environment because it is causing the earth's temperature to rise.#eatingmeat4_because_Feedback_1#eatingmeat4_because_Feedback_1\n",
      "Methane from cow burps harms the environment, so reduce the meat consumption to reduce agricultures harmful effects#eatingmeat4_so_Feedback_9#eatingmeat4_so_Feedback_9\n",
      "Methane from cow burps harms the environment, but we should still eat meat.#eatingmeat4_but_Feedback_7#eatingmeat4_but_Feedback_7\n",
      "Methane from cow burps harms the environment because it produces methane and it contributes to the global warming.#eatingmeat4_because_Feedback_5#eatingmeat4_because_Feedback_5\n",
      "Methane from cow burps harms the environment, so To address this issue the company Impossible Foods wants to end all animal agriculture by the year 2035.#eatingmeat4_so_Feedback_2#eatingmeat4_so_Feedback_2\n",
      "Methane from cow burps harms the environment because it causes the Earth's temperature to rise and cause global warming.#eatingmeat4_because_Feedback_1#eatingmeat4_because_Feedback_1\n",
      "Methane from cow burps harms the environment, so Burger King and White Castle have introduced burgers that don't have meat.#eatingmeat4_so_Feedback_6#eatingmeat4_so_Feedback_6\n",
      "Methane from cow burps harms the environment because it produces greenhouse gases.#eatingmeat4_because_Feedback_4#eatingmeat4_because_Feedback_4\n",
      "Methane from cow burps harms the environment, but the gas causes the temperature to rise witch means more heat waves, wild fire and floods.#eatingmeat4_but_Feedback_8#eatingmeat4_but_Feedback_8\n",
      "Methane from cow burps harms the environment because it releases gas that contributes to global warming.#eatingmeat4_because_Feedback_5#eatingmeat4_because_Feedback_5\n",
      "Methane from cow burps harms the environment because cows consume seaweed as part of their diets#eatingmeat4_because_Feedback_8#eatingmeat4_because_Feedback_5\n",
      "Methane from cow burps harms the environment because it release methane gas which causes the Earth's temperature to rise.#eatingmeat4_because_Feedback_1#eatingmeat4_because_Feedback_5\n",
      "Methane from cow burps harms the environment because it produce about 14.5% of the world's greenhouse gases.#eatingmeat4_because_Feedback_7#eatingmeat4_because_Feedback_7\n",
      "Methane from cow burps harms the environment, but it is a small portion of the total Co2 emitted into the atmosphere and there may be more direct ways to combat global warming.#eatingmeat4_but_Feedback_4#eatingmeat4_but_Feedback_4\n",
      "Methane from cow burps harms the environment, but there are ways to farm that could eliminate some of that problem, like by feeding the cows seaweed.#eatingmeat4_but_Feedback_13#eatingmeat4_but_Feedback_13\n",
      "Methane from cow burps harms the environment, so we can either eat plant-based meat or feed the cows seaweed to eat to produce less gas and less global warming#eatingmeat4_so_Feedback_10#eatingmeat4_so_Feedback_10\n",
      "Methane from cow burps harms the environment because their burps release methane gas into the atmosphere, which in turn contributes to global warming.#eatingmeat4_because_Feedback_5#eatingmeat4_because_Feedback_5\n",
      "Methane from cow burps harms the environment, so Impossible foods wants to use meats that do not contain animal product.#eatingmeat4_so_Feedback_2#eatingmeat4_so_Feedback_2\n",
      "Methane from cow burps harms the environment, so some people want to turn to synthetic meat production which would be a lot more environmentally friendly while still giving meat eaters something for them to enjoy#eatingmeat4_so_Feedback_2#eatingmeat4_so_Feedback_2\n",
      "Methane from cow burps harms the environment because cows burping it#eatingmeat4_because_Feedback_8#eatingmeat4_because_Feedback_8\n",
      "Methane from cow burps harms the environment, so we need to way to address the problem.#eatingmeat4_so_Feedback_9#eatingmeat4_so_Feedback_9\n",
      "Methane from cow burps harms the environment, so Impossible meats are being made that taste like meat but uses no meat products.#eatingmeat4_so_Feedback_2#eatingmeat4_so_Feedback_2\n",
      "Methane from cow burps harms the environment, so some scientist propose feeding them seaweed which causes the cows to produce 99% less pollution.#eatingmeat4_so_Feedback_3#eatingmeat4_so_Feedback_11\n",
      "Methane from cow burps harms the environment, but feeding them seaweed reduces methane.#eatingmeat4_but_Feedback_13#eatingmeat4_but_Feedback_13\n",
      "Methane from cow burps harms the environment because the burps release 30 to 50 gallons of methane.#eatingmeat4_because_Feedback_5#eatingmeat4_because_Feedback_5\n",
      "Methane from cow burps harms the environment, but people continue to eat meat.#eatingmeat4_but_Feedback_7#eatingmeat4_but_Feedback_7\n",
      "Methane from cow burps harms the environment, but it is not the only thing causing issues.#eatingmeat4_but_Feedback_4#eatingmeat4_but_Feedback_4\n",
      "Methane from cow burps harms the environment, so we should add seaweed to their diet in order to reduce the methane produced from their burps.#eatingmeat4_so_Feedback_10#eatingmeat4_so_Feedback_10\n",
      "Methane from cow burps harms the environment, so farmers have created a diet for their cows feeding them seeweed#eatingmeat4_so_Feedback_11#eatingmeat4_so_Feedback_11\n",
      "Methane from cow burps harms the environment, so some groups are pushing to do away with raising cattle for food and switching meat eaters over to a faux meat made from vegetables or other non animal products.#eatingmeat4_so_Feedback_2#eatingmeat4_so_Feedback_2\n",
      "Methane from cow burps harms the environment, but there may be some answers to this problem by switching what the cows eat for example.#eatingmeat4_but_Feedback_9#eatingmeat4_but_Feedback_9\n",
      "Methane from cow burps harms the environment, but there are other sources of greenhouse gases.#eatingmeat4_but_Feedback_4#eatingmeat4_but_Feedback_4\n",
      "Methane from cow burps harms the environment, so we should give cows seaweed to decrease the methane in their burps.#eatingmeat4_so_Feedback_10#eatingmeat4_so_Feedback_10\n",
      "Methane from cow burps harms the environment because it is one of the causes of global warming.#eatingmeat4_because_Feedback_1#eatingmeat4_because_Feedback_1\n",
      "Methane from cow burps harms the environment, but If cows eat seaweed this can be reduced by 99%.#eatingmeat4_but_Feedback_13#eatingmeat4_but_Feedback_13\n",
      "Methane from cow burps harms the environment, but we could prevent it if we will consume plant based meat.#eatingmeat4_but_Feedback_6#eatingmeat4_but_Feedback_6\n",
      "Methane from cow burps harms the environment, but it is for food purposes#eatingmeat4_but_Feedback_7#eatingmeat4_but_Feedback_7\n",
      "Methane from cow burps harms the environment because it accounts for 14.5% of the world's greenhouse gas.#eatingmeat4_because_Feedback_7#eatingmeat4_because_Feedback_7\n",
      "Methane from cow burps harms the environment, so reducing the amount of cows bred and farmed by encouraging vegetarian/vegan food product consumption will reduce overall harm.#eatingmeat4_so_Feedback_9#eatingmeat4_so_Feedback_9\n",
      "Methane from cow burps harms the environment, so we should alter our eating patterns to help alleviate th7s#eatingmeat4_so_Feedback_9#eatingmeat4_so_Feedback_9\n",
      "Methane from cow burps harms the environment, but a company called Impossible Foods has come up with a solution.#eatingmeat4_but_Feedback_8#eatingmeat4_but_Feedback_5\n",
      "Methane from cow burps harms the environment, but when cows consume seaweed as part of their diets, they release up to 99% less methane in their burps.#eatingmeat4_but_Feedback_13#eatingmeat4_but_Feedback_13\n",
      "Methane from cow burps harms the environment, so practice food animal on green environment.#eatingmeat4_so_Feedback_8#eatingmeat4_so_Feedback_9\n",
      "Methane from cow burps harms the environment, but we can use plant based meat instead#eatingmeat4_but_Feedback_10#eatingmeat4_but_Feedback_6\n",
      "Methane from cow burps harms the environment, so Impossible Foods is trying to eliminate animal agriculture.#eatingmeat4_so_Feedback_2#eatingmeat4_so_Feedback_2\n",
      "Methane from cow burps harms the environment because the burps produce methane gas.#eatingmeat4_because_Feedback_5#eatingmeat4_because_Feedback_5\n",
      "Methane from cow burps harms the environment, but only causes 14.5% of the world's greenhouse gases.#eatingmeat4_but_Feedback_1#eatingmeat4_but_Feedback_1\n",
      "Methane from cow burps harms the environment because it increases methane and causes Earth's temperature to rise in a process called global warming.#eatingmeat4_because_Feedback_5#eatingmeat4_because_Feedback_1\n",
      "Methane from cow burps harms the environment because methane is a green house gas that contributes to rising temperatures which contribute to extreme events like wildfires and droughts.#eatingmeat4_because_Feedback_2#eatingmeat4_because_Feedback_2\n",
      "Methane from cow burps harms the environment because it causes global warming,#eatingmeat4_because_Feedback_1#eatingmeat4_because_Feedback_1\n",
      "Methane from cow burps harms the environment, but feeding them seaweed reduces the amount of methane burped by 99%.#eatingmeat4_but_Feedback_13#eatingmeat4_but_Feedback_13\n",
      "Methane from cow burps harms the environment, so we should eat plant base meats.#eatingmeat4_so_Feedback_9#eatingmeat4_so_Feedback_9\n",
      "Methane from cow burps harms the environment because it release greenhouse gas emission in the air.#eatingmeat4_because_Feedback_4#eatingmeat4_because_Feedback_5\n",
      "Methane from cow burps harms the environment because methane aids in global warming#eatingmeat4_because_Feedback_1#eatingmeat4_because_Feedback_1\n",
      "Methane from cow burps harms the environment, but it can be fixed#eatingmeat4_but_Feedback_3#eatingmeat4_but_Feedback_3\n",
      "Methane from cow burps harms the environment, so ending animal agriculture is one way to address this problem.#eatingmeat4_so_Feedback_9#eatingmeat4_so_Feedback_9\n",
      "Methane from cow burps harms the environment, but not everyone agrees with the goal of ending animal agriculture.#eatingmeat4_but_Feedback_2#eatingmeat4_but_Feedback_2\n",
      "Methane from cow burps harms the environment, so it is imperative to either stop the animal agriculture, amend the diets of cows to include more seaweed and thus reduce their greenhouse methane gas emission, or discover alternates to these two ideas.#eatingmeat4_so_Feedback_10#eatingmeat4_so_Feedback_10\n",
      "Methane from cow burps harms the environment, so we must act to reduce the emission.#eatingmeat4_so_Feedback_9#eatingmeat4_so_Feedback_9\n",
      "Methane from cow burps harms the environment because the burps release methane gas, which warms the earth's temperature.#eatingmeat4_because_Feedback_5#eatingmeat4_because_Feedback_5\n",
      "Methane from cow burps harms the environment, so people need to be more aware.#eatingmeat4_so_Feedback_8#eatingmeat4_so_Feedback_9\n",
      "Methane from cow burps harms the environment, but cows that have a diet that includes seaweed can reduce their methane output by up to 99%.#eatingmeat4_but_Feedback_13#eatingmeat4_but_Feedback_13\n",
      "Methane from cow burps harms the environment, so we need to use methods to make cows less gassy.#eatingmeat4_so_Feedback_10#eatingmeat4_so_Feedback_10\n",
      "Methane from cow burps harms the environment because it causes the earths temperature to rise and cause a process called global warming.#eatingmeat4_because_Feedback_1#eatingmeat4_because_Feedback_1\n",
      "Methane from cow burps harms the environment because each cow burps 30-50 gallons of methane daily.#eatingmeat4_because_Feedback_5#eatingmeat4_because_Feedback_5\n",
      "Methane from cow burps harms the environment because Every day, each of the world’s 1.5 billion cows burps out 30-50 gallons of the greenhouse gas methane which produce about 14.5% of the world's greenhouse gases.#eatingmeat4_because_Feedback_7#eatingmeat4_because_Feedback_7\n",
      "Methane from cow burps harms the environment, so one company wants to abolish animal agriculture, and use a meat substitute for meat.#eatingmeat4_so_Feedback_2#eatingmeat4_so_Feedback_2\n",
      "Methane from cow burps harms the environment, but scientists believe if we reduce the amount of meat eaten, it will reduce green house gasses#eatingmeat4_but_Feedback_7#eatingmeat4_but_Feedback_13\n",
      "Methane from cow burps harms the environment because methane contributes to global warming which is negatively affecting out planet.#eatingmeat4_because_Feedback_1#eatingmeat4_because_Feedback_1\n",
      "Methane from cow burps harms the environment because it accumulates in the atmosphere and traps in heat, leading to global warming.#eatingmeat4_because_Feedback_1#eatingmeat4_because_Feedback_1\n",
      "Methane from cow burps harms the environment, so when cows consume seaweed as part of their diets, it could reduce about one-third of greenhouse gas emissions caused by animal agriculture#eatingmeat4_so_Feedback_10#eatingmeat4_so_Feedback_10\n",
      "Methane from cow burps harms the environment, so some groups want to end all animal agriculture by 2035.#eatingmeat4_so_Feedback_2#eatingmeat4_so_Feedback_2\n",
      "Methane from cow burps harms the environment, so companies like Impossible Foods want to end all animal agriculture by 2035.#eatingmeat4_so_Feedback_2#eatingmeat4_so_Feedback_2\n",
      "Methane from cow burps harms the environment, so creating plant-based \"meats\" that have the look, taste, and texture of real meat, Impossible is appealing to meat-eaters.#eatingmeat4_so_Feedback_5#eatingmeat4_so_Feedback_2\n",
      "Methane from cow burps harms the environment, but farmers can change the cows diet to reduce the methane expulsion.#eatingmeat4_but_Feedback_9#eatingmeat4_but_Feedback_9\n",
      "Methane from cow burps harms the environment because - Every time a cow burps or passes gas, a little puff of methane wafts ... added together, can have a big effect on climate because methane is a .#eatingmeat4_because_Feedback_5#eatingmeat4_because_Feedback_8\n",
      "Methane from cow burps harms the environment because it causes the earths temperature to rise, therefore causing global warming.#eatingmeat4_because_Feedback_1#eatingmeat4_because_Feedback_1\n",
      "Methane from cow burps harms the environment because they burp out 30-50 gallons of the greenhouse gas each day and that causes the temperature to rise on earth.#eatingmeat4_because_Feedback_5#eatingmeat4_because_Feedback_5\n",
      "Methane from cow burps harms the environment, but there are other options available to us.#eatingmeat4_but_Feedback_3#eatingmeat4_but_Feedback_3\n",
      "Methane from cow burps harms the environment, but not everyone Wants the same “solution.”#eatingmeat4_but_Feedback_2#eatingmeat4_but_Feedback_2\n",
      "Methane from cow burps harms the environment, but the company Impossible Foods has produced a plant- based meat alternative in response to this problem.#eatingmeat4_but_Feedback_5#eatingmeat4_but_Feedback_5\n",
      "Methane from cow burps harms the environment, so Impossible Ffods has come up with a plant-based meat alternative which is difficult to distiguish from real animal meat.#eatingmeat4_so_Feedback_2#eatingmeat4_so_Feedback_2\n",
      "Methane from cow burps harms the environment, but not everyone agrees on the best solution.#eatingmeat4_but_Feedback_2#eatingmeat4_but_Feedback_2\n",
      "Methane from cow burps harms the environment because it contributes to global warming and increases temperatures to create more weather influenced dangers.#eatingmeat4_because_Feedback_2#eatingmeat4_because_Feedback_2\n",
      "Methane from cow burps harms the environment because it it is a significant source that causes temperatures to rise, creating global warming.#eatingmeat4_because_Feedback_1#eatingmeat4_because_Feedback_1\n",
      "Methane from cow burps harms the environment, so reducing the amount of methane they produce one way or another is beneficial.#eatingmeat4_so_Feedback_9#eatingmeat4_so_Feedback_10\n",
      "Methane from cow burps harms the environment, so how should we address the cost of animal agriculture.#eatingmeat4_so_Feedback_5#eatingmeat4_so_Feedback_9\n",
      "Methane from cow burps harms the environment, so Impossible Meat is marketing their meat substitute as a plea on the emotions of the environmentally conscious.#eatingmeat4_so_Feedback_4#eatingmeat4_so_Feedback_2\n",
      "Methane from cow burps harms the environment because it burps out 30-50 gallons of the greenhouse gas methane#eatingmeat4_because_Feedback_5#eatingmeat4_because_Feedback_8\n",
      "Methane from cow burps harms the environment, so how should we address the costs of animal agriculture?#eatingmeat4_so_Feedback_5#eatingmeat4_so_Feedback_9\n",
      "Methane from cow burps harms the environment because it adds to global warming.#eatingmeat4_because_Feedback_1#eatingmeat4_because_Feedback_1\n",
      "Methane from cow burps harms the environment because it causes the temperature to raise.#eatingmeat4_because_Feedback_1#eatingmeat4_because_Feedback_1\n",
      "Methane from cow burps harms the environment, so we should cut down on amount of meat eaten and change what we feed cows.#eatingmeat4_so_Feedback_10#eatingmeat4_so_Feedback_10\n",
      "Methane from cow burps harms the environment because it is a greenhouse gas that contributes significantly to global warming and thus, climate change#eatingmeat4_because_Feedback_3#eatingmeat4_because_Feedback_1\n",
      "Methane from cow burps harms the environment, so the company Impossible Foods has created plant based \"meats.\"#eatingmeat4_so_Feedback_2#eatingmeat4_so_Feedback_2\n",
      "Methane from cow burps harms the environment, so impossible foods wants to end all animal agriculture by 2035#eatingmeat4_so_Feedback_2#eatingmeat4_so_Feedback_2\n",
      "Methane from cow burps harms the environment, but we can prevent it by limiting our use of using cows on a mass level for our food sources.#eatingmeat4_but_Feedback_6#eatingmeat4_but_Feedback_9\n",
      "Methane from cow burps harms the environment because burps produce about 14.5% of the world's greenhouse gases.#eatingmeat4_because_Feedback_7#eatingmeat4_because_Feedback_7\n",
      "Methane from cow burps harms the environment, so we should take steps to reduce methane production from this source by changing what we eat and/or changing what the cows eat.#eatingmeat4_so_Feedback_10#eatingmeat4_so_Feedback_10\n",
      "Methane from cow burps harms the environment because it releases methane gas into the atmosphere, causing global warming.#eatingmeat4_because_Feedback_5#eatingmeat4_because_Feedback_5\n",
      "Methane from cow burps harms the environment, but we could lessen the impact by changing what the cows eat.#eatingmeat4_but_Feedback_9#eatingmeat4_but_Feedback_9\n",
      "Methane from cow burps harms the environment, but there are ways to reduce this number.#eatingmeat4_but_Feedback_3#eatingmeat4_but_Feedback_3\n",
      "Methane from cow burps harms the environment, but if they’re fed mostly algae their methane output could be lowered by 99%.#eatingmeat4_but_Feedback_13#eatingmeat4_but_Feedback_13\n",
      "Methane from cow burps harms the environment, but there are alternatives to meat#eatingmeat4_but_Feedback_10#eatingmeat4_but_Feedback_3\n",
      "Methane from cow burps harms the environment, so non-meat alternatives that taste like meat should be explored.#eatingmeat4_so_Feedback_9#eatingmeat4_so_Feedback_9\n",
      "Methane from cow burps harms the environment because it contributes to global warming issues.#eatingmeat4_because_Feedback_1#eatingmeat4_because_Feedback_1\n",
      "Methane from cow burps harms the environment because the release of methane contributes to global warming.#eatingmeat4_because_Feedback_1#eatingmeat4_because_Feedback_1\n",
      "Methane from cow burps harms the environment, so animals should be eating foods that lower methane emission#eatingmeat4_so_Feedback_10#eatingmeat4_so_Feedback_9\n",
      "Methane from cow burps harms the environment, but there are two possible solutions to the problem; end animal agriculture and moving humans to a plant-based diet, or change the feed of the cows to produce less methane.#eatingmeat4_but_Feedback_9#eatingmeat4_but_Feedback_9\n",
      "Methane from cow burps harms the environment, so we either need to end animal agriculture or reduce the amount of methane cows’ produce.#eatingmeat4_so_Feedback_10#eatingmeat4_so_Feedback_10\n",
      "Methane from cow burps harms the environment, so eating seawood is a way to reduce the methane in their burps.#eatingmeat4_so_Feedback_10#eatingmeat4_so_Feedback_10\n",
      "Methane from cow burps harms the environment because methane is a greenhouse gas that causes the earth's temperature to rise.#eatingmeat4_because_Feedback_1#eatingmeat4_because_Feedback_1\n",
      "Methane from cow burps harms the environment, so there is thought that eating meat takes a large toll and we should reduce the amount of meat particularly beef consumption.#eatingmeat4_so_Feedback_9#eatingmeat4_so_Feedback_9\n",
      "Methane from cow burps harms the environment because it produces greenhouse gases that damage the ozono layer.#eatingmeat4_because_Feedback_9#eatingmeat4_because_Feedback_4\n",
      "Methane from cow burps harms the environment because it contributes a large percentage of the greenhouse gases causing climate change.#eatingmeat4_because_Feedback_3#eatingmeat4_because_Feedback_3\n",
      "Methane from cow burps harms the environment because it releases large amounts of carbon that is bad for our ozone layer#eatingmeat4_because_Feedback_10#eatingmeat4_because_Feedback_5\n",
      "Methane from cow burps harms the environment, but it can be reduced by feeding the cows seaweed which eliminates 99% of the methane or alternative meats made from plants can be used.#eatingmeat4_but_Feedback_13#eatingmeat4_but_Feedback_13\n",
      "Methane from cow burps harms the environment, but there are some who believe that this can be alleviated by changing the food that cows consume such as feeding them seaweed which decreases the methane gas from cows burping by as much as 99%.#eatingmeat4_but_Feedback_13#eatingmeat4_but_Feedback_13\n",
      "Methane from cow burps harms the environment, so cow's diets are being changed #eatingmeat4_so_Feedback_11#eatingmeat4_so_Feedback_11\n",
      "Methane from cow burps harms the environment because they release methane.#eatingmeat4_because_Feedback_5#eatingmeat4_because_Feedback_5\n",
      "Methane from cow burps harms the environment, but there are ways to reduce such as feeding the cows with seaweed.#eatingmeat4_but_Feedback_13#eatingmeat4_but_Feedback_13\n",
      "Methane from cow burps harms the environment, so we need to find other ways to help the environment.#eatingmeat4_so_Feedback_9#eatingmeat4_so_Feedback_9\n",
      "Methane from cow burps harms the environment, but Cows and bogs release methane into the atmosphere, but it's by far mostly human activity that's driving up levels of this destructive greenhouse gas#eatingmeat4_but_Feedback_7#eatingmeat4_but_Feedback_7\n",
      "Methane from cow burps harms the environment because it contains harmful greenhouse gases.#eatingmeat4_because_Feedback_5#eatingmeat4_because_Feedback_4\n",
      "Methane from cow burps harms the environment because it causes greenhouse gases to be released and this contributes to Global Warming.#eatingmeat4_because_Feedback_5#eatingmeat4_because_Feedback_1\n",
      "Methane from cow burps harms the environment, but if the cows diets are adjusted they can release up to 99% less methane.#eatingmeat4_but_Feedback_9#eatingmeat4_but_Feedback_13\n",
      "Methane from cow burps harms the environment because the methane produces greenhouse gases that are linked to global environmental weather changes which includes rises in temperatures, droughts, and fires.#eatingmeat4_because_Feedback_4#eatingmeat4_because_Feedback_4\n",
      "Methane from cow burps harms the environment, so we should stop eating meat.#eatingmeat4_so_Feedback_9#eatingmeat4_so_Feedback_9\n",
      "Methane from cow burps harms the environment, but if they eat a seaweed based diet, they release 99% less methane in their burps.#eatingmeat4_but_Feedback_13#eatingmeat4_but_Feedback_13\n",
      "Methane from cow burps harms the environment, so ending animal culture would alleviate the greenhouse gas problem.#eatingmeat4_so_Feedback_9#eatingmeat4_so_Feedback_9\n",
      "Methane from cow burps harms the environment, so let's reduce the amount of methane a cow produces.#eatingmeat4_so_Feedback_10#eatingmeat4_so_Feedback_9\n",
      "Methane from cow burps harms the environment, but Impossible Foods is trying to fix the problem and end all animal agriculture by 2035.#eatingmeat4_but_Feedback_5#eatingmeat4_but_Feedback_8\n",
      "Methane from cow burps harms the environment, but not everyone agrees on the solution.#eatingmeat4_but_Feedback_2#eatingmeat4_but_Feedback_2\n",
      "Methane from cow burps harms the environment because they contribute to the world's greenhouse gases.#eatingmeat4_because_Feedback _6#eatingmeat4_because_Feedback_5\n",
      "Methane from cow burps harms the environment, but the effects could be reduced by changing their diet.#eatingmeat4_but_Feedback_9#eatingmeat4_but_Feedback_9\n",
      "Methane from cow burps harms the environment, but it produce gas emissions in the earth.#eatingmeat4_but_Feedback_8#eatingmeat4_but_Feedback_8\n",
      "Methane from cow burps harms the environment, so some people give up eating meat.#eatingmeat4_so_Feedback_8#eatingmeat4_so_Feedback_8\n",
      "Methane from cow burps harms the environment, so people are generating ideas for how to decrease methane emissions.#eatingmeat4_so_Feedback_9#eatingmeat4_so_Feedback_9\n",
      "Methane from cow burps harms the environment, so reducing the amount of cows out there should help the environment.#eatingmeat4_so_Feedback_9#eatingmeat4_so_Feedback_9\n",
      "Methane from cow burps harms the environment, but by adding seaweed to the cow's diet, the methane released is reduced by 99%.#eatingmeat4_but_Feedback_13#eatingmeat4_but_Feedback_13\n",
      "Methane from cow burps harms the environment, but by feeding them a seaweed diet may nearly eliminate methane in those burps.#eatingmeat4_but_Feedback_13#eatingmeat4_but_Feedback_13\n",
      "Methane from cow burps harms the environment, so we need to come up with a solution to reduce or eliminate further damages.#eatingmeat4_so_Feedback_9#eatingmeat4_so_Feedback_9\n",
      "Methane from cow burps harms the environment, but not everyone agrees on the same solution.#eatingmeat4_but_Feedback_2#eatingmeat4_but_Feedback_2\n",
      "Methane from cow burps harms the environment, so we should make efforts to stem our meat eating or change what cows eat.#eatingmeat4_so_Feedback_10#eatingmeat4_so_Feedback_10\n",
      "Methane from cow burps harms the environment, so we should eat less beef.#eatingmeat4_so_Feedback_9#eatingmeat4_so_Feedback_9\n",
      "Methane from cow burps harms the environment, but can be reduced by 99% if cows are fed seaweed.#eatingmeat4_but_Feedback_13#eatingmeat4_but_Feedback_13\n",
      "Methane from cow burps harms the environment, but researches say that changing our diet to vegetable based meats would reduce emissions greatly.#eatingmeat4_but_Feedback_13#eatingmeat4_but_Feedback_6\n",
      "Methane from cow burps harms the environment, so we are looking at alternatives for food.#eatingmeat4_so_Feedback_9#eatingmeat4_so_Feedback_9\n",
      "Methane from cow burps harms the environment because the gas causes the Earth's temperature to rise, causing Global warming.#eatingmeat4_because_Feedback_1#eatingmeat4_because_Feedback_1\n",
      "Methane from cow burps harms the environment, but there is an alternative to meat called Impossible Foods.#eatingmeat4_but_Feedback_5#eatingmeat4_but_Feedback_8\n",
      "Methane from cow burps harms the environment, but helps greenhouses.#eatingmeat4_but_Feedback_8#eatingmeat4_but_Feedback_8\n",
      "Methane from cow burps harms the environment because they're burps contain methane an overall create 30 to 50 gallons of methane released into the atmosphere.#eatingmeat4_because_Feedback_5#eatingmeat4_because_Feedback_5\n",
      "Methane from cow burps harms the environment because it causes the earth's temperature to rise resulting in global warming and extreme weather events.#eatingmeat4_because_Feedback_2#eatingmeat4_because_Feedback_2\n",
      "Methane from cow burps harms the environment, so we need to decide what way is best to reduce the methane from their burps#eatingmeat4_so_Feedback_9#eatingmeat4_so_Feedback_10\n",
      "Methane from cow burps harms the environment because it produces 30-50 gallons of greenhouse gas methane.#eatingmeat4_because_Feedback_5#eatingmeat4_because_Feedback_5\n",
      "Methane from cow burps harms the environment because Earth's temperature to rise in a process called global warming.#eatingmeat4_because_Feedback_1#eatingmeat4_because_Feedback_1\n",
      "Methane from cow burps harms the environment because it has an affect on global warming.#eatingmeat4_because_Feedback_1#eatingmeat4_because_Feedback_1\n",
      "Methane from cow burps harms the environment, but some scientists argue this can be reduced by making changes to what cows are being fed.#eatingmeat4_but_Feedback_9#eatingmeat4_but_Feedback_9\n",
      "Methane from cow burps harms the environment, but if we switch their feed from grass so seaweed their burp a lot less methane.#eatingmeat4_but_Feedback_13#eatingmeat4_but_Feedback_13\n",
      "Methane from cow burps harms the environment, but plant-based meat products do not.#eatingmeat4_but_Feedback_6#eatingmeat4_but_Feedback_6\n",
      "Methane from cow burps harms the environment, so continue to eat cows more so that way they die faster.#eatingmeat4_so_Feedback_8#eatingmeat4_so_Feedback_10\n",
      "Methane from cow burps harms the environment, so To address this problem, the company Impossible Foods wants to end all animal agriculture by 2035.#eatingmeat4_so_Feedback_2#eatingmeat4_so_Feedback_2\n",
      "Methane from cow burps harms the environment, but this problem can be diminished by including seaweed in their diet.#eatingmeat4_but_Feedback_13#eatingmeat4_but_Feedback_13\n",
      "Methane from cow burps harms the environment because it cause the earth's temperature rise in a process called global warming.#eatingmeat4_because_Feedback_1#eatingmeat4_because_Feedback_1\n",
      "Methane from cow burps harms the environment because a cow does on overage release between 70 and 120 kg of Methane per year#eatingmeat4_because_Feedback_5#eatingmeat4_because_Feedback_5\n",
      "Methane from cow burps harms the environment, so a company named Impossible Foods wants to put an end all animal agriculture by the year 2035.#eatingmeat4_so_Feedback_2#eatingmeat4_so_Feedback_2\n",
      "Methane from cow burps harms the environment because it causes the earths temperature to rise in a process called global warming.#eatingmeat4_because_Feedback_1#eatingmeat4_because_Feedback_1\n",
      "Methane from cow burps harms the environment, but scientists have discovered a method, whereby adding seaweed to the cow's diet, will reduce the methane content of their burps by 99%.#eatingmeat4_but_Feedback_13#eatingmeat4_but_Feedback_13\n",
      "Methane from cow burps harms the environment because it raises the Earth's temperatures.#eatingmeat4_because_Feedback_1#eatingmeat4_because_Feedback_1\n",
      "Methane from cow burps harms the environment, but not everyone agrees on the best solution to reduce the production of the gas.#eatingmeat4_but_Feedback_2#eatingmeat4_but_Feedback_2\n",
      "Methane from cow burps harms the environment, so many in the scientific community believe we should phase out of a meat based diet with palatable vegetarian based alternatives.#eatingmeat4_so_Feedback_8#eatingmeat4_so_Feedback_9\n",
      "Methane from cow burps harms the environment, so make them stop burping#eatingmeat4_so_Feedback_8#eatingmeat4_so_Feedback_9\n",
      "Methane from cow burps harms the environment, but the company Impossible Foods wants to end all animal agriculture by 2035.#eatingmeat4_but_Feedback_8#eatingmeat4_but_Feedback_8\n",
      "Methane from cow burps harms the environment, so it is better if humans stop eating meat altogether, or more research is put into what is appropriate to feed cows to reduce methane burps.#eatingmeat4_so_Feedback_10#eatingmeat4_so_Feedback_10\n",
      "Methane from cow burps harms the environment, but it may be remedied by changing the cows food source.#eatingmeat4_but_Feedback_9#eatingmeat4_but_Feedback_9\n",
      "Methane from cow burps harms the environment, so we as a society needs to determine an appropriate solution to reduce its impact.#eatingmeat4_so_Feedback_9#eatingmeat4_so_Feedback_9\n",
      "Methane from cow burps harms the environment because methane gas causes temperature rises which contributes to global warming.#eatingmeat4_because_Feedback_1#eatingmeat4_because_Feedback_1\n",
      "Methane from cow burps harms the environment, but the harm can be mitigated by changing the diet of cows.#eatingmeat4_but_Feedback_9#eatingmeat4_but_Feedback_9\n",
      "Methane from cow burps harms the environment, so a company named Impossible Foods created a product that is plant-based and tastes like meat.#eatingmeat4_so_Feedback_2#eatingmeat4_so_Feedback_2\n",
      "Methane from cow burps harms the environment, but alternative diets can reduce the methane produced by cow burps.#eatingmeat4_but_Feedback_9#eatingmeat4_but_Feedback_9\n",
      "Methane from cow burps harms the environment, so no#eatingmeat4_so_Feedback_8#eatingmeat4_so_Feedback_8\n",
      "Methane from cow burps harms the environment because it causes the earth’s temperature to rise.#eatingmeat4_because_Feedback_1#eatingmeat4_because_Feedback_1\n",
      "Methane from cow burps harms the environment, but if you feed them seaweed they will burp 99% less#eatingmeat4_but_Feedback_11#eatingmeat4_but_Feedback_13\n",
      "Methane from cow burps harms the environment, but when cow's eat seaweed it produces 99 % less methane in there burp.#eatingmeat4_but_Feedback_13#eatingmeat4_but_Feedback_13\n",
      "Methane from cow burps harms the environment, but the amount of methane produced by cow burps can be reduced by 99% by including seaweed as a part of the cow's diet.#eatingmeat4_but_Feedback_13#eatingmeat4_but_Feedback_13\n",
      "Methane from cow burps harms the environment because it increases the amount of greenhouse gases which increases global warming.#eatingmeat4_because_Feedback_1#eatingmeat4_because_Feedback_1\n",
      "Methane from cow burps harms the environment, so either we need to eliminate animal agriculture or change what the cows eat to help eliminate methane burps.#eatingmeat4_so_Feedback_10#eatingmeat4_so_Feedback_10\n",
      "Methane from cow burps harms the environment, but it can be reduced by 99% by feeding cows seaweed#eatingmeat4_but_Feedback_13#eatingmeat4_but_Feedback_13\n",
      "Methane from cow burps harms the environment because they produce greenhouse gas#eatingmeat4_because_Feedback_5#eatingmeat4_because_Feedback_5\n",
      "Methane from cow burps harms the environment because it increases the effects of global warming.#eatingmeat4_because_Feedback_1#eatingmeat4_because_Feedback_1\n",
      "Methane from cow burps harms the environment, but cows who are fed seaweed as part of their diet do not release as much methane in their burps.#eatingmeat4_but_Feedback_13#eatingmeat4_but_Feedback_13\n",
      "Methane from cow burps harms the environment, so many people are switching to a plant-based diet which could help to end all animal agriculture by 2035.#eatingmeat4_so_Feedback_4#eatingmeat4_so_Feedback_4\n",
      "Methane from cow burps harms the environment because it raises the global temperature resulting in climate change.#eatingmeat4_because_Feedback_3#eatingmeat4_because_Feedback_1\n",
      "Methane from cow burps harms the environment because this gas causes Earth's temperature to rise in a process called global warming and scientists have linked global warming to an increase in extreme weather events such as droughts,#eatingmeat4_because_Feedback_2#eatingmeat4_because_Feedback_2\n",
      "Methane from cow burps harms the environment, so Impossible Burgers wants to eventually eliminate human meat consumption.#eatingmeat4_so_Feedback_2#eatingmeat4_so_Feedback_2\n",
      "Methane from cow burps harms the environment, but we can reduce the methane from either not eating cows or changing how cows eat altogether.#eatingmeat4_but_Feedback_9#eatingmeat4_but_Feedback_9\n",
      "Methane from cow burps harms the environment, so some sort of solution, either curtailing the beef industry, or augmenting it to make it less harmful- needs to happen.#eatingmeat4_so_Feedback_9#eatingmeat4_so_Feedback_9\n",
      "Methane from cow burps harms the environment, so we need to change something so we can help the earth.#eatingmeat4_so_Feedback_9#eatingmeat4_so_Feedback_9\n",
      "Methane from cow burps harms the environment because they produce about 14.5% of the world's greenhouse gases.#eatingmeat4_because_Feedback_7#eatingmeat4_because_Feedback_7\n",
      "Methane from cow burps harms the environment because it burps out 30-50 gallons of the greenhouse gas methane.#eatingmeat4_because_Feedback_5#eatingmeat4_because_Feedback_5\n",
      "Methane from cow burps harms the environment because it releases greenhouse gas methane.#eatingmeat4_because_Feedback_5#eatingmeat4_because_Feedback_5\n",
      "Methane from cow burps harms the environment, but there may be a way to help reduce the amount of methane cows emit.#eatingmeat4_but_Feedback_3#eatingmeat4_but_Feedback_3\n",
      "Methane from cow burps harms the environment, but feeding cows seaweed can help significantly reduce the methane produced by cow burps.#eatingmeat4_but_Feedback_13#eatingmeat4_but_Feedback_13\n",
      "Methane from cow burps harms the environment, but there can be a much better way of reducing Methane gas than focusing on the cows.#eatingmeat4_but_Feedback_7#eatingmeat4_but_Feedback_3\n",
      "Methane from cow burps harms the environment, so to address this problem the company Impossible Foods wants to create a plant-based \"meats\" that have the look, taste, and texture of real meat, Impossible is appealing to meat-eaters.#eatingmeat4_so_Feedback_2#eatingmeat4_so_Feedback_2\n",
      "Methane from cow burps harms the environment because it produces 14.5% of greenhouse gas#eatingmeat4_because_Feedback_4#eatingmeat4_because_Feedback_7\n",
      "Methane from cow burps harms the environment because they contribute to a rise in temperature called global warming, which cause many environmental problems.#eatingmeat4_because_Feedback_5#eatingmeat4_because_Feedback_5\n",
      "Methane from cow burps harms the environment because the gas causes Earth's temperature to rise in a process called global warming#eatingmeat4_because_Feedback_1#eatingmeat4_because_Feedback_1\n",
      "Methane from cow burps harms the environment because methane causes global warming#eatingmeat4_because_Feedback_1#eatingmeat4_because_Feedback_1\n",
      "Methane from cow burps harms the environment, but if we create plant based meat it would counter act that problem.#eatingmeat4_but_Feedback_13#eatingmeat4_but_Feedback_5\n",
      "Methane from cow burps harms the environment, so eating meat takes a large toll on the environment.#eatingmeat4_so_Feedback_9#eatingmeat4_so_Feedback_9\n",
      "Methane from cow burps harms the environment because they release enough methane to account for more than fourteen percent of the earths greenhouse gasses.#eatingmeat4_because_Feedback_7#eatingmeat4_because_Feedback_5\n",
      "Methane from cow burps harms the environment, so Impossible Foods company wants to change this by ending all animal agriculture.#eatingmeat4_so_Feedback_2#eatingmeat4_so_Feedback_2\n",
      "Methane from cow burps harms the environment, so we should try to eat less meat.#eatingmeat4_so_Feedback_9#eatingmeat4_so_Feedback_9\n",
      "Methane from cow burps harms the environment, but it can be significantly reduced by fees other seaweed.#eatingmeat4_but_Feedback_13#eatingmeat4_but_Feedback_13\n",
      "Methane from cow burps harms the environment, but not everyone agrees on how to solve the problem of animal agriculture.#eatingmeat4_but_Feedback_2#eatingmeat4_but_Feedback_2\n",
      "Methane from cow burps harms the environment because methane causes the earth's temperature to rise, which scientists have linked to an increase in extreme weather events.#eatingmeat4_because_Feedback_2#eatingmeat4_because_Feedback_2\n",
      "Methane from cow burps harms the environment because it creates up to 50 gallons of methane daily, which contributes greatly to greenhouse gases that result in global warming.#eatingmeat4_because_Feedback_5#eatingmeat4_because_Feedback_5\n",
      "Methane from cow burps harms the environment, so scientists are exploring ways to reduce the amount of methane gas produced from animal agriculture.#eatingmeat4_so_Feedback_3#eatingmeat4_so_Feedback_1\n",
      "Methane from cow burps harms the environment, so plant-based meat products would be a step in the right direction in terms of easing climate change.#eatingmeat4_so_Feedback_10#eatingmeat4_so_Feedback_9\n",
      "Methane from cow burps harms the environment, so the company Impossible Foods has come up with a meatless burger that they hope will take the place of beef burgers in the future.#eatingmeat4_so_Feedback_2#eatingmeat4_so_Feedback_2\n",
      "Methane from cow burps harms the environment because of the greenhouse gasses emitted.#eatingmeat4_because_Feedback_4#eatingmeat4_because_Feedback _6\n",
      "Methane from cow burps harms the environment because those burps release 30-50 gallons of methane which causes the Earth's temperature to rise.#eatingmeat4_because_Feedback_5#eatingmeat4_because_Feedback_5\n",
      "Methane from cow burps harms the environment, but it can be prevented.#eatingmeat4_but_Feedback_3#eatingmeat4_but_Feedback_3\n",
      "Methane from cow burps harms the environment, but so are other aspects of animal agriculture; what cows eat and then burp are not the only issue.#eatingmeat4_but_Feedback_4#eatingmeat4_but_Feedback_4\n",
      "Methane from cow burps harms the environment, so farmers should feed cows seaweed to reduce the amount of methane.#eatingmeat4_so_Feedback_10#eatingmeat4_so_Feedback_10\n",
      "Methane from cow burps harms the environment because methane is a greenhouse gas.#eatingmeat4_because_Feedback _6#eatingmeat4_because_Feedback _6\n",
      "Methane from cow burps harms the environment, so a company called Impossible Foods wants to eliminate animal agriculture by the year 2035, and by producing a plant-based burger, 89% fewer gas methanes would be produced.#eatingmeat4_so_Feedback_2#eatingmeat4_so_Feedback_2\n",
      "Methane from cow burps harms the environment because each of the world’s 1.5 billion cows burp out 30-50 gallons of the greenhouse gas methane, causing Earth's temperature to rise, in a process called global warming.#eatingmeat4_because_Feedback_5#eatingmeat4_because_Feedback_5\n",
      "Methane from cow burps harms the environment, so people have came up with two different solutions#eatingmeat4_so_Feedback_1#eatingmeat4_so_Feedback_1\n",
      "Methane from cow burps harms the environment, so cows should consume seaweed#eatingmeat4_so_Feedback_10#eatingmeat4_so_Feedback_10\n",
      "Methane from cow burps harms the environment, so companies such as Impossible Foods are creating plant-based meats to help transition away from animal agriculture.#eatingmeat4_so_Feedback_2#eatingmeat4_so_Feedback_2\n",
      "Methane from cow burps harms the environment, so n#eatingmeat4_so_Feedback_8#eatingmeat4_so_Feedback_8\n",
      "Methane from cow burps harms the environment, so the company Impossible Foods is trying to find non-meat alternatives for meat eaters to consume.#eatingmeat4_so_Feedback_2#eatingmeat4_so_Feedback_2\n",
      "Methane from cow burps harms the environment because methane is a greenhouse gas and it contributes to global warming.#eatingmeat4_because_Feedback_1#eatingmeat4_because_Feedback_1\n",
      "Methane from cow burps harms the environment, but cows fed seaweed produce 99% less methane in their burps.#eatingmeat4_but_Feedback_13#eatingmeat4_but_Feedback_13\n",
      "Methane from cow burps harms the environment because methane causes the Earth's temperature to rise.#eatingmeat4_because_Feedback_1#eatingmeat4_because_Feedback_1\n",
      "Methane from cow burps harms the environment, so people should consume foods made of plants in order to reduce the levels of greenhouse gasses released into the atmosphere.#eatingmeat4_so_Feedback_9#eatingmeat4_so_Feedback_9\n",
      "Methane from cow burps harms the environment, but if we change their food, we can gut down the methane.#eatingmeat4_but_Feedback_13#eatingmeat4_but_Feedback_13\n",
      "Methane from cow burps harms the environment, so we should do what we can to limit the use of meat based products from cows.#eatingmeat4_so_Feedback_9#eatingmeat4_so_Feedback_9\n",
      "Methane from cow burps harms the environment, but perhaps if we just change what the cows eat#eatingmeat4_but_Feedback_12#eatingmeat4_but_Feedback_13\n",
      "Methane from cow burps harms the environment, so the company Impossible Foods wants to end all animal agriculture by 2035 to address this problem.#eatingmeat4_so_Feedback_2#eatingmeat4_so_Feedback_2\n",
      "Methane from cow burps harms the environment, so scientists are working on solutions to lower the amount of methane gas that the cows release every day.#eatingmeat4_so_Feedback_3#eatingmeat4_so_Feedback_11\n",
      "Methane from cow burps harms the environment, but there are ways to decrease the harm by feeding the cows seaweed.#eatingmeat4_but_Feedback_13#eatingmeat4_but_Feedback_13\n",
      "Methane from cow burps harms the environment, so we should urge farmers to change their feed and we should eat more plant based products including impossible meats.#eatingmeat4_so_Feedback_10#eatingmeat4_so_Feedback_9\n",
      "Methane from cow burps harms the environment, but we can lessen the amount of methane by eating a plant based diet.#eatingmeat4_but_Feedback_6#eatingmeat4_but_Feedback_9\n",
      "Methane from cow burps harms the environment, so we must consume less meat.#eatingmeat4_so_Feedback_9#eatingmeat4_so_Feedback_9\n",
      "Methane from cow burps harms the environment because it causes a release of methane.#eatingmeat4_because_Feedback_5#eatingmeat4_because_Feedback_5\n",
      "Methane from cow burps harms the environment, so They predict that as Earth’s temperature rises, these events will become more common.#eatingmeat4_so_Feedback_7#eatingmeat4_so_Feedback_7\n",
      "Methane from cow burps harms the environment because it contributes to Earth's rising temperature through global warming.#eatingmeat4_because_Feedback_1#eatingmeat4_because_Feedback_1\n",
      "Methane from cow burps harms the environment because it gets trapped in the Earth's atmosphere and has been linked to global warming.#eatingmeat4_because_Feedback_1#eatingmeat4_because_Feedback_1\n",
      "Methane from cow burps harms the environment, so something should be done to address the cows or their diet in order to reduce global warming.#eatingmeat4_so_Feedback_10#eatingmeat4_so_Feedback_10\n",
      "Methane from cow burps harms the environment, but not everyone agrees on what should be done to reduce it.#eatingmeat4_but_Feedback_2#eatingmeat4_but_Feedback_2\n",
      "Methane from cow burps harms the environment, so we should either change what cows eat, or stop eating meat altogether#eatingmeat4_so_Feedback_10#eatingmeat4_so_Feedback_10\n",
      "Methane from cow burps harms the environment, so making meat products without meat may be a solution.#eatingmeat4_so_Feedback_9#eatingmeat4_so_Feedback_9\n",
      "Methane from cow burps harms the environment, so this is something which should be considered when looking at ways to mitigate global warming.#eatingmeat4_so_Feedback_9#eatingmeat4_so_Feedback_9\n",
      "Methane from cow burps harms the environment, but some scientists and farmers believe the best solution is to change the way in which we feed cows as opposed to ending agriculture.#eatingmeat4_but_Feedback_9#eatingmeat4_but_Feedback_12\n",
      "Methane from cow burps harms the environment because it releases CO2 into the atmosphere, contributing to global warming.#eatingmeat4_because_Feedback_10#eatingmeat4_because_Feedback_5\n",
      "Methane from cow burps harms the environment because every day they burp out 30-50 gallons of greenhouse gas methane and this gas causes the Earth's temperature to rise.#eatingmeat4_because_Feedback_5#eatingmeat4_because_Feedback_5\n",
      "Methane from cow burps harms the environment, but there are different ways to lesten the amount of methane that is produced#eatingmeat4_but_Feedback_3#eatingmeat4_but_Feedback_3\n",
      "Methane from cow burps harms the environment, so the solution is to reduce/eliminate meat consumption or feed the cows food which will radically decrease their methane production.#eatingmeat4_so_Feedback_10#eatingmeat4_so_Feedback_10\n",
      "Methane from cow burps harms the environment, but many people say feeding them seaweed could lower the emissions.#eatingmeat4_but_Feedback_13#eatingmeat4_but_Feedback_13\n",
      "Methane from cow burps harms the environment, but it has not been decided on how to approach the problem.#eatingmeat4_but_Feedback_2#eatingmeat4_but_Feedback_2\n",
      "Methane from cow burps harms the environment, so This solution could reduce about one-third of greenhouse#eatingmeat4_so_Feedback_9#eatingmeat4_so_Feedback_9\n",
      "Methane from cow burps harms the environment, so we should take steps to reduce this emission.#eatingmeat4_so_Feedback_9#eatingmeat4_so_Feedback_9\n",
      "Methane from cow burps harms the environment, but seaweed has been proven to reduce methane in cow burps#eatingmeat4_but_Feedback_13#eatingmeat4_but_Feedback_13\n",
      "Methane from cow burps harms the environment, but the type of food a cow eats, such as seaweed, can drastically cut down on the release of that gas.#eatingmeat4_but_Feedback_13#eatingmeat4_but_Feedback_13\n",
      "Methane from cow burps harms the environment because of what they consume.#eatingmeat4_because_Feedback_8#eatingmeat4_because_Feedback_8\n",
      "Methane from cow burps harms the environment, but introducing plant based meat to help the methane gas consumption and lessen global warming.#eatingmeat4_but_Feedback_6#eatingmeat4_but_Feedback_6\n",
      "Methane from cow burps harms the environment, but recent research has shown that when cows consume seaweed as part of their diets, they release up to 99% less methane in their burps#eatingmeat4_but_Feedback_13#eatingmeat4_but_Feedback_13\n",
      "Methane from cow burps harms the environment, but if cows consume seaweed they release 99% less methane in their burps#eatingmeat4_but_Feedback_13#eatingmeat4_but_Feedback_13\n",
      "Methane from cow burps harms the environment because they contain methane which results in the Earth’s temperature rising through the process of global warming.#eatingmeat4_because_Feedback_5#eatingmeat4_because_Feedback_5\n",
      "Methane from cow burps harms the environment, so eliminating the rearing of animals for consumption could help the environment#eatingmeat4_so_Feedback_9#eatingmeat4_so_Feedback_9\n",
      "Methane from cow burps harms the environment, so Scientists have linked global warming to an increase in extreme weather events such as , heat waves, wildfires, and floods.#eatingmeat4_so_Feedback_7#eatingmeat4_so_Feedback_7\n",
      "Methane from cow burps harms the environment because it causes the Earth's temperature to rise which leads to global warming.#eatingmeat4_because_Feedback_1#eatingmeat4_because_Feedback_1\n",
      "Methane from cow burps harms the environment, so one way or another governments need to recognize this threat and invest in a reasonable solution.#eatingmeat4_so_Feedback_9#eatingmeat4_so_Feedback_9\n",
      "Methane from cow burps harms the environment, but it doesn't have to be that way.#eatingmeat4_but_Feedback_3#eatingmeat4_but_Feedback_7\n",
      "Methane from cow burps harms the environment, but there are ways to possibly limit the gas if cows are fed seaweed as part of their diet.#eatingmeat4_but_Feedback_13#eatingmeat4_but_Feedback_13\n",
      "Methane from cow burps harms the environment, so one solution is too reduce the amount of livestock agriculture and focus our diets on more plant-based foods.#eatingmeat4_so_Feedback_9#eatingmeat4_so_Feedback_9\n",
      "Methane from cow burps harms the environment because methane is a greenhouse gas and causes global warming.#eatingmeat4_because_Feedback_1#eatingmeat4_because_Feedback_1\n",
      "Methane from cow burps harms the environment because of the greenhouse gas.#eatingmeat4_because_Feedback_8#eatingmeat4_because_Feedback _6\n",
      "Methane from cow burps harms the environment, but it can be reduced by changing the cows diet.#eatingmeat4_but_Feedback_9#eatingmeat4_but_Feedback_9\n",
      "Methane from cow burps harms the environment, so scientists have figured out a way to make them less harmful.#eatingmeat4_so_Feedback_3#eatingmeat4_so_Feedback_1\n",
      "Methane from cow burps harms the environment, but we can reduce their methane output by feeding them seaweed.#eatingmeat4_but_Feedback_13#eatingmeat4_but_Feedback_13\n",
      "Methane from cow burps harms the environment because methane is a greenhouse gas, which is a leading cause in global warming.#eatingmeat4_because_Feedback_1#eatingmeat4_because_Feedback_1\n",
      "Methane from cow burps harms the environment, but not everyone agrees the best solution is to stop eating meat.#eatingmeat4_but_Feedback_2#eatingmeat4_but_Feedback_2\n",
      "Methane from cow burps harms the environment, so it oroduces 14.5% of the worlds greenhouse gases.#eatingmeat4_so_Feedback_7#eatingmeat4_so_Feedback_7\n",
      "Methane from cow burps harms the environment, but we can reduce this by alternating what farmers feeds cows.#eatingmeat4_but_Feedback_9#eatingmeat4_but_Feedback_9\n",
      "Methane from cow burps harms the environment, but by changing their diet, they produce less methane gas.#eatingmeat4_but_Feedback_13#eatingmeat4_but_Feedback_9\n",
      "Methane from cow burps harms the environment because it could reduce about one-third of greenhouse gas emissions caused by animal agriculture.#eatingmeat4_because_Feedback_8#eatingmeat4_because_Feedback_3\n",
      "Methane from cow burps harms the environment because it is a chemical#eatingmeat4_because_Feedback_8#eatingmeat4_because_Feedback_8\n",
      "Methane from cow burps harms the environment because the gasses the burp up (methane) contributes to global warming.#eatingmeat4_because_Feedback_5#eatingmeat4_because_Feedback_1\n",
      "Methane from cow burps harms the environment, so they're creating the impossible burger, which consists of no animal meat.#eatingmeat4_so_Feedback_2#eatingmeat4_so_Feedback_2\n",
      "Methane from cow burps harms the environment, but changing their diet could change how much they burp.#eatingmeat4_but_Feedback_11#eatingmeat4_but_Feedback_9\n",
      "Methane from cow burps harms the environment, so finding a way to make them burp less, or eating plant based burgers could help the environment.#eatingmeat4_so_Feedback_10#eatingmeat4_so_Feedback_9\n",
      "Methane from cow burps harms the environment, so solution could reduce about one-third of greenhouse gas emissions caused by animal agriculture.#eatingmeat4_so_Feedback_8#eatingmeat4_so_Feedback_9\n",
      "Methane from cow burps harms the environment, but studies have shown that feeding cows seaweed can reduce the methane by 99%.#eatingmeat4_but_Feedback_13#eatingmeat4_but_Feedback_13\n",
      "Methane from cow burps harms the environment, so many companies are trying to market foods designed to take the place of animal products.#eatingmeat4_so_Feedback_2#eatingmeat4_so_Feedback_2\n",
      "Methane from cow burps harms the environment because thats not good#eatingmeat4_because_Feedback_8#eatingmeat4_because_Feedback_8\n",
      "Methane from cow burps harms the environment, so a company called Impossible foods wants to replace meat products with plant based products.#eatingmeat4_so_Feedback_2#eatingmeat4_so_Feedback_2\n",
      "Methane from cow burps harms the environment, but changing cows’ diets may reduce the gas they produce by 99%.#eatingmeat4_but_Feedback_9#eatingmeat4_but_Feedback_9\n",
      "Methane from cow burps harms the environment, so we need to find a solution or many solutions to help cut back on methane released from cow burps.#eatingmeat4_so_Feedback_9#eatingmeat4_so_Feedback_10\n",
      "Methane from cow burps harms the environment because it causes 14.5% of the world's greenhouse gases which in short means global warming.#eatingmeat4_because_Feedback_7#eatingmeat4_because_Feedback_7\n",
      "Methane from cow burps harms the environment, so we have to start doing something about it like starts consuming plant based foods.#eatingmeat4_so_Feedback_9#eatingmeat4_so_Feedback_9\n",
      "Methane from cow burps harms the environment, so in order to reduce the amount of methane, there should be less cows.#eatingmeat4_so_Feedback_9#eatingmeat4_so_Feedback_9\n",
      "Methane from cow burps harms the environment, so eating Impossible plant-based meat can reduce 89% of greenhouse gases released to the environment.#eatingmeat4_so_Feedback_9#eatingmeat4_so_Feedback_9\n",
      "Methane from cow burps harms the environment, so many companies are trying to end animal agriculture by 2035.#eatingmeat4_so_Feedback_2#eatingmeat4_so_Feedback_2\n",
      "Methane from cow burps harms the environment, so we should look into solving that problem.#eatingmeat4_so_Feedback_9#eatingmeat4_so_Feedback_9\n",
      "Methane from cow burps harms the environment because it contributes to the process of global warming.#eatingmeat4_because_Feedback_1#eatingmeat4_because_Feedback_1\n",
      "Methane from cow burps harms the environment, but there is more than one solution.#eatingmeat4_but_Feedback_3#eatingmeat4_but_Feedback_3\n",
      "Methane from cow burps harms the environment, but if we change what we feed the cows then they won't burp methane.#eatingmeat4_but_Feedback_13#eatingmeat4_but_Feedback_13\n",
      "Methane from cow burps harms the environment, but this could be reduced by feeding cows seaweed.#eatingmeat4_but_Feedback_13#eatingmeat4_but_Feedback_13\n",
      "Methane from cow burps harms the environment, but her are now alternatives to traditional meat.#eatingmeat4_but_Feedback_10#eatingmeat4_but_Feedback_7\n",
      "Methane from cow burps harms the environment because methane gas from the burps causes the earth's temperature to rise.#eatingmeat4_because_Feedback_1#eatingmeat4_because_Feedback_1\n",
      "Methane from cow burps harms the environment, so some people think that we should end animal agriculture and use plant-based \"meats\".#eatingmeat4_so_Feedback_9#eatingmeat4_so_Feedback_9\n",
      "Methane from cow burps harms the environment, so it is best to consume more plant products in our diet.#eatingmeat4_so_Feedback_9#eatingmeat4_so_Feedback_9\n",
      "Methane from cow burps harms the environment, but cows that eat seaweed burp less methane.#eatingmeat4_but_Feedback_13#eatingmeat4_but_Feedback_13\n",
      "Methane from cow burps harms the environment, but there are other options such as the removal of animal agriculture or changing the cows' diets to seaweed.#eatingmeat4_but_Feedback_13#eatingmeat4_but_Feedback_13\n",
      "Methane from cow burps harms the environment, but many people enjoy eating beef.#eatingmeat4_but_Feedback_7#eatingmeat4_but_Feedback_7\n",
      "Methane from cow burps harms the environment because it causes Earths temperature to rise.#eatingmeat4_because_Feedback_1#eatingmeat4_because_Feedback_1\n",
      "Methane from cow burps harms the environment, but there are other options, such a feeding the cows different food.#eatingmeat4_but_Feedback_9#eatingmeat4_but_Feedback_9\n",
      "Methane from cow burps harms the environment because it creates a rise in methane, which leads to increased greenhouse gases.#eatingmeat4_because_Feedback _6#eatingmeat4_because_Feedback _6\n",
      "Methane from cow burps harms the environment, so we need to figure ways to make the practice better for the environment.#eatingmeat4_so_Feedback_9#eatingmeat4_so_Feedback_9\n",
      "Methane from cow burps harms the environment because it is a greenhouse gas#eatingmeat4_because_Feedback _6#eatingmeat4_because_Feedback _6\n",
      "Methane from cow burps harms the environment, but if cows were fed seaweed, the amount of methane released in their burps would drop to 1% of its current level.#eatingmeat4_but_Feedback_13#eatingmeat4_but_Feedback_13\n",
      "Methane from cow burps harms the environment, but we do not not have to stop eating cows altogether.#eatingmeat4_but_Feedback_7#eatingmeat4_but_Feedback_7\n",
      "Methane from cow burps harms the environment because it increases the methane in the environment.#eatingmeat4_because_Feedback_5#eatingmeat4_because_Feedback_5\n",
      "Methane from cow burps harms the environment, so but reducing animal agriculture the methane released by cows will decrease.#eatingmeat4_so_Feedback_9#eatingmeat4_so_Feedback_8\n",
      "Methane from cow burps harms the environment, but if we changed the diet of the cows their burps would be much less harmful to the environment.#eatingmeat4_but_Feedback_13#eatingmeat4_but_Feedback_13\n",
      "Methane from cow burps harms the environment, so people should eat more \"plant based\" meats, which generate 89% fewer greenhouse gas emissions than beef production.#eatingmeat4_so_Feedback_9#eatingmeat4_so_Feedback_9\n",
      "Methane from cow burps harms the environment, so Impossible Foods wants to end all animal agriculture by creating fake meat that looks and tastes like real meat, in which two fast food chains already have in their menu options.#eatingmeat4_so_Feedback_2#eatingmeat4_so_Feedback_2\n",
      "Methane from cow burps harms the environment, but it is unclear whether the best solution is to stop eating cow or change what cows eat.#eatingmeat4_but_Feedback_2#eatingmeat4_but_Feedback_9\n",
      "Methane from cow burps harms the environment, but is a drop in a bucket compared to other causes.#eatingmeat4_but_Feedback_4#eatingmeat4_but_Feedback_7\n",
      "Methane from cow burps harms the environment, but it can be greatly reduced by changing what cows eat.#eatingmeat4_but_Feedback_9#eatingmeat4_but_Feedback_9\n",
      "Methane from cow burps harms the environment, so by 2035 many researches would like to end all production of animal agriculture.#eatingmeat4_so_Feedback_2#eatingmeat4_so_Feedback_2\n",
      "Methane from cow burps harms the environment, but if we change what cows eat and feed them seaweed instead, their burps will produce up to 99% less methane.#eatingmeat4_but_Feedback_13#eatingmeat4_but_Feedback_13\n",
      "Methane from cow burps harms the environment, but it can be reduced by adding seaweed to cows' diets.#eatingmeat4_but_Feedback_13#eatingmeat4_but_Feedback_13\n",
      "Methane from cow burps harms the environment, so reduce the animal agriculture and increase plant based meats.#eatingmeat4_so_Feedback_9#eatingmeat4_so_Feedback_9\n",
      "Methane from cow burps harms the environment, so we should stop consumingbeef#eatingmeat4_so_Feedback_9#eatingmeat4_so_Feedback_9\n",
      "Methane from cow burps harms the environment, so it is useful to change the way that we go about getting meat, or changing the diet of cows.#eatingmeat4_so_Feedback_10#eatingmeat4_so_Feedback_10\n",
      "Methane from cow burps harms the environment, so plant-based meats will help reduce the amount of methane.#eatingmeat4_so_Feedback_9#eatingmeat4_so_Feedback_9\n",
      "Methane from cow burps harms the environment because each of the world’s 1.5 billion cows burps out 30-50 gallons of the greenhouse gas methane every day which causes the Earth's temperature to rise.#eatingmeat4_because_Feedback_5#eatingmeat4_because_Feedback_5\n",
      "Methane from cow burps harms the environment, but changing their diet can help.#eatingmeat4_but_Feedback_9#eatingmeat4_but_Feedback_9\n",
      "Methane from cow burps harms the environment because it causes earth temperature to rise in a process called global warming#eatingmeat4_because_Feedback_1#eatingmeat4_because_Feedback_1\n",
      "Methane from cow burps harms the environment, but eating seaweed as part of their diets, they will release up to 99% less methane in their burps.#eatingmeat4_but_Feedback_13#eatingmeat4_but_Feedback_13\n",
      "Methane from cow burps harms the environment, so the practice of raising animals for food purposes, produce about 14.5% of the world's greenhouse gases.#eatingmeat4_so_Feedback_7#eatingmeat4_so_Feedback_7\n",
      "Methane from cow burps harms the environment because they burp methane#eatingmeat4_because_Feedback_5#eatingmeat4_because_Feedback_5\n",
      "Methane from cow burps harms the environment, but when they eat seaweed, they burp 99% less methane#eatingmeat4_but_Feedback_13#eatingmeat4_but_Feedback_13\n",
      "Methane from cow burps harms the environment, so reducing animal agriculture and relying further on meatless food options would greatly improve global warming.#eatingmeat4_so_Feedback_9#eatingmeat4_so_Feedback_9\n",
      "Methane from cow burps harms the environment because they burp out 30-50 gallons of methane a day.#eatingmeat4_because_Feedback_5#eatingmeat4_because_Feedback_5\n",
      "Methane from cow burps harms the environment, so we should try to find alternatives.#eatingmeat4_so_Feedback_9#eatingmeat4_so_Feedback_9\n",
      "Methane from cow burps harms the environment because it is a cause of global warming.#eatingmeat4_because_Feedback_1#eatingmeat4_because_Feedback_1\n",
      "Methane from cow burps harms the environment, so some scientist propose feeding them seaweed#eatingmeat4_so_Feedback_11#eatingmeat4_so_Feedback_11\n",
      "Methane from cow burps harms the environment because they facilitate the effect of global warming.#eatingmeat4_because_Feedback_5#eatingmeat4_because_Feedback_5\n",
      "Methane from cow burps harms the environment, but can be mitigateed by feeding them seaweed which will cut greenhose from animal farming by 1/3.#eatingmeat4_but_Feedback_13#eatingmeat4_but_Feedback_13\n",
      "Methane from cow burps harms the environment, so according to some they could be fed different feeds to cut down on methane gas.#eatingmeat4_so_Feedback_5#eatingmeat4_so_Feedback_3\n",
      "Methane from cow burps harms the environment because methane causes Earth's temperature to rise in a process called global warming.#eatingmeat4_because_Feedback_1#eatingmeat4_because_Feedback_1\n",
      "Methane from cow burps harms the environment, so Impossible Foods wants to eliminate animal agriculture by 2035 and establish plant-based beef.#eatingmeat4_so_Feedback_2#eatingmeat4_so_Feedback_2\n",
      "Methane from cow burps harms the environment, but feeding cows a different diet can reduce this gas output by 99%.#eatingmeat4_but_Feedback_13#eatingmeat4_but_Feedback_9\n",
      "Methane from cow burps harms the environment, so scientists and food companies are searching for ways to reduce the production of methane from cows.#eatingmeat4_so_Feedback_1#eatingmeat4_so_Feedback_1\n",
      "Methane from cow burps harms the environment, but we can still save the environment.#eatingmeat4_but_Feedback_7#eatingmeat4_but_Feedback_3\n",
      "Methane from cow burps harms the environment because cows burps out 30-50 gallons of the greenhouse gas methane.#eatingmeat4_because_Feedback_5#eatingmeat4_because_Feedback_5\n",
      "Methane from cow burps harms the environment, but we can reduce our beef consumption.#eatingmeat4_but_Feedback_10#eatingmeat4_but_Feedback_6\n",
      "Methane from cow burps harms the environment because methane is a greenhouse gas.#eatingmeat4_because_Feedback _6#eatingmeat4_because_Feedback _6\n",
      "Methane from cow burps harms the environment, but not everybody agrees on a solution.#eatingmeat4_but_Feedback_2#eatingmeat4_but_Feedback_2\n",
      "Methane from cow burps harms the environment, but can be controlled.#eatingmeat4_but_Feedback_3#eatingmeat4_but_Feedback_3\n",
      "Methane from cow burps harms the environment, so scientists believe cows eating seaweed would reduce the harm by 99%.#eatingmeat4_so_Feedback_5#eatingmeat4_so_Feedback_5\n",
      "Methane from cow burps harms the environment, but cow farts are completely harmless.#eatingmeat4_but_Feedback_7#eatingmeat4_but_Feedback_7\n",
      "Methane from cow burps harms the environment, so some people want animal agriculture to stop.#eatingmeat4_so_Feedback_2#eatingmeat4_so_Feedback_2\n",
      "Methane from cow burps harms the environment, but an be reduced if cow's diets are changed (seaweed rather than grass).#eatingmeat4_but_Feedback_13#eatingmeat4_but_Feedback_13\n",
      "Methane from cow burps harms the environment, but there are alternatives to reduce and maybe eliminate most of the methane found in cow burps.#eatingmeat4_but_Feedback_3#eatingmeat4_but_Feedback_13\n",
      "Methane from cow burps harms the environment, so some scientists and farmers have argued that there are other ways to make the practice better for the environment.#eatingmeat4_so_Feedback_5#eatingmeat4_so_Feedback_5\n",
      "Methane from cow burps harms the environment, but there feed options now, and replacement meat products under research which are addressing this.#eatingmeat4_but_Feedback_5#eatingmeat4_but_Feedback_5\n",
      "Methane from cow burps harms the environment, so we should all do things to help the environment so it prevents so much methane coming from cows.#eatingmeat4_so_Feedback_9#eatingmeat4_so_Feedback_9\n",
      "Methane from cow burps harms the environment, but it only accounts for 14.5% of the greenhouse gasses along with the other forms of animal agriculture.#eatingmeat4_but_Feedback_1#eatingmeat4_but_Feedback_1\n",
      "Methane from cow burps harms the environment because this causes global warming.#eatingmeat4_because_Feedback_1#eatingmeat4_because_Feedback_1\n",
      "Methane from cow burps harms the environment, so we should start to look towards other food sources that do not impact the environment.#eatingmeat4_so_Feedback_9#eatingmeat4_so_Feedback_9\n",
      "Methane from cow burps harms the environment, so we should eat less meat or change what we feed them.#eatingmeat4_so_Feedback_10#eatingmeat4_so_Feedback_10\n",
      "Methane from cow burps harms the environment because it is a greenhouse gas and contributes to global warming.#eatingmeat4_because_Feedback_1#eatingmeat4_because_Feedback_1\n",
      "Methane from cow burps harms the environment because the gas causes the earth's temperature to rise.#eatingmeat4_because_Feedback_1#eatingmeat4_because_Feedback_1\n",
      "Methane from cow burps harms the environment, but it can be reduced.#eatingmeat4_but_Feedback_3#eatingmeat4_but_Feedback_3\n",
      "Methane from cow burps harms the environment, so Impossible is exploring plant-based substances that would be used in the place of meat in cooking to lesson the impact on global warming.#eatingmeat4_so_Feedback_2#eatingmeat4_so_Feedback_2\n",
      "Methane from cow burps harms the environment, but some scientists and farmers believe that adding seaweed to the cattle's diet will reduce methane emissions by one-third.#eatingmeat4_but_Feedback_13#eatingmeat4_but_Feedback_13\n",
      "Methane from cow burps harms the environment, so other options of food should be looked at.#eatingmeat4_so_Feedback_9#eatingmeat4_so_Feedback_9\n",
      "Methane from cow burps harms the environment because it is a gas creating a greenhouse effect, which in turn causes global warming.#eatingmeat4_because_Feedback_1#eatingmeat4_because_Feedback_1\n",
      "Methane from cow burps harms the environment, but a company called impossible has created plant based meats to end animal arguculture by 2035.#eatingmeat4_but_Feedback_5#eatingmeat4_but_Feedback_8\n",
      "Methane from cow burps harms the environment because methane contributes to a process called,\"Global Warming\".#eatingmeat4_because_Feedback_1#eatingmeat4_because_Feedback_1\n",
      "Methane from cow burps harms the environment, so reducing it as much as we can will help our planet.#eatingmeat4_so_Feedback_9#eatingmeat4_so_Feedback_9\n",
      "Methane from cow burps harms the environment, but not the scientific community is split on the best solution to the problem.#eatingmeat4_but_Feedback_2#eatingmeat4_but_Feedback_2\n",
      "Methane from cow burps harms the environment because the cows burp 30-50 gallons of the greenhouse gas methane which causes the Earth's temperature to rise#eatingmeat4_because_Feedback_5#eatingmeat4_because_Feedback_5\n",
      "Methane from cow burps harms the environment because they produce methane gas that cause global warming.#eatingmeat4_because_Feedback_5#eatingmeat4_because_Feedback_5\n",
      "Methane from cow burps harms the environment because it contributes to the greenhouse gases.#eatingmeat4_because_Feedback _6#eatingmeat4_because_Feedback _6\n",
      "Methane from cow burps harms the environment, but some say that the solution is not to end animal agriculture, but to change what cows are fed.#eatingmeat4_but_Feedback_9#eatingmeat4_but_Feedback_12\n",
      "Methane from cow burps harms the environment because the world’s 1.5 billion cows burps out 30-50 gallons of the greenhouse gas methane.#eatingmeat4_because_Feedback_5#eatingmeat4_because_Feedback_5\n",
      "Methane from cow burps harms the environment because it releases harmful gas.#eatingmeat4_because_Feedback_5#eatingmeat4_because_Feedback_5\n",
      "Methane from cow burps harms the environment, so we should try to reduce that.#eatingmeat4_so_Feedback_9#eatingmeat4_so_Feedback_9\n",
      "Methane from cow burps harms the environment because every day, 1.5 billion cows burp 30-50 gallons of methane which raises the Earth's temperature via global warming.#eatingmeat4_because_Feedback_5#eatingmeat4_because_Feedback_5\n",
      "Methane from cow burps harms the environment, but their diet could be changed.#eatingmeat4_but_Feedback_12#eatingmeat4_but_Feedback_9\n",
      "Methane from cow burps harms the environment, but there are reasonable ways to deal with that besides eliminating all the cows.#eatingmeat4_but_Feedback_7#eatingmeat4_but_Feedback_3\n",
      "Methane from cow burps harms the environment because the gas released causes the Earth's temperature to rise, thus leading to global warming#eatingmeat4_because_Feedback_1#eatingmeat4_because_Feedback_1\n",
      "Methane from cow burps harms the environment, so more people started eating the impossible burger to help the environment.#eatingmeat4_so_Feedback_2#eatingmeat4_so_Feedback_1\n",
      "Methane from cow burps harms the environment, so we have to find ways to counteract this in our climate policy.#eatingmeat4_so_Feedback_9#eatingmeat4_so_Feedback_9\n",
      "Methane from cow burps harms the environment, so certain companies are beginning to produce plant-based \"meats\" to eliminate animal agriculture altogether by 2035.#eatingmeat4_so_Feedback_2#eatingmeat4_so_Feedback_2\n",
      "Methane from cow burps harms the environment, but if farmers fed cows a seaweed rich diet, they can reduce methane gas emissions by 99 percent.#eatingmeat4_but_Feedback_13#eatingmeat4_but_Feedback_13\n",
      "Methane from cow burps harms the environment, but changing the cows diet could reduce the methane release by 99%#eatingmeat4_but_Feedback_9#eatingmeat4_but_Feedback_13\n",
      "Methane from cow burps harms the environment, so we all should give up eating meat.#eatingmeat4_so_Feedback_9#eatingmeat4_so_Feedback_9\n",
      "Methane from cow burps harms the environment because the gas they burp is causing the Earth's temperature to rise.#eatingmeat4_because_Feedback_5#eatingmeat4_because_Feedback_1\n",
      "Methane from cow burps harms the environment, so be aware of the damage it is causing and start exploring the necessary alternatives required to save not just our planet, but ourselves.#eatingmeat4_so_Feedback_9#eatingmeat4_so_Feedback_9\n",
      "Methane from cow burps harms the environment because it increases gas in the atmosphere that causes global warming.#eatingmeat4_because_Feedback_1#eatingmeat4_because_Feedback_1\n",
      "Methane from cow burps harms the environment, but the gas can be reduced when their diet is replaced with seaweed.#eatingmeat4_but_Feedback_13#eatingmeat4_but_Feedback_13\n",
      "Methane from cow burps harms the environment, but altering the bovine diet can reduce such methane by 99%.#eatingmeat4_but_Feedback_9#eatingmeat4_but_Feedback_9\n",
      "Methane from cow burps harms the environment, so changing their diets could help reduce this.#eatingmeat4_so_Feedback_10#eatingmeat4_so_Feedback_10\n",
      "Methane from cow burps harms the environment, but it is causing more events like draughts and other wild weather events#eatingmeat4_but_Feedback_8#eatingmeat4_but_Feedback_8\n",
      "Methane from cow burps harms the environment, so we should look for non-meat alternatives.#eatingmeat4_so_Feedback_9#eatingmeat4_so_Feedback_9\n",
      "Methane from cow burps harms the environment, so we should change the diet of what we feed the meat we eat, as well as eat less meat.#eatingmeat4_so_Feedback_10#eatingmeat4_so_Feedback_10\n",
      "Methane from cow burps harms the environment, so getting people to consume less beef would be a boon environmentally.#eatingmeat4_so_Feedback_9#eatingmeat4_so_Feedback_9\n",
      "Methane from cow burps harms the environment, so reducing the amount of cows raised for food purposes is important.#eatingmeat4_so_Feedback_9#eatingmeat4_so_Feedback_9\n",
      "Methane from cow burps harms the environment because methane causes global warming.#eatingmeat4_because_Feedback_1#eatingmeat4_because_Feedback_1\n",
      "Methane from cow burps harms the environment, but not everyone agrees that banning the raising of cows is the best solution to global warming.#eatingmeat4_but_Feedback_2#eatingmeat4_but_Feedback_2\n",
      "Methane from cow burps harms the environment, but when cows consume seaweed as part of their diets, they release up to 99% less methane#eatingmeat4_but_Feedback_13#eatingmeat4_but_Feedback_13\n",
      "Methane from cow burps harms the environment because the methane gas contributes to global warming.#eatingmeat4_because_Feedback_1#eatingmeat4_because_Feedback_1\n",
      "Methane from cow burps harms the environment, so Scientists have linked global warming to an increase in extreme weather events such as droughts, heat waves, wildfires, and floods#eatingmeat4_so_Feedback_7#eatingmeat4_so_Feedback_7\n",
      "Methane from cow burps harms the environment, so change needs to be made, either by changing cow's diets or limiting animal agriculture.#eatingmeat4_so_Feedback_9#eatingmeat4_so_Feedback_10\n",
      "Methane from cow burps harms the environment because it is a greenhouse gas contributing to global climate change.#eatingmeat4_because_Feedback_3#eatingmeat4_because_Feedback_1\n",
      "Methane from cow burps harms the environment, so replacing animal agriculture with plant based \"meats\" or changing the cows diet may reduce the harmful effects.#eatingmeat4_so_Feedback_9#eatingmeat4_so_Feedback_10\n",
      "Methane from cow burps harms the environment because the gas causes the Earth’s temperature to rise in a process called global warming.#eatingmeat4_because_Feedback_1#eatingmeat4_because_Feedback_1\n",
      "Methane from cow burps harms the environment, so THERE ARE GROUPS WORKING TO SOLVE THE ISSUE.#eatingmeat4_so_Feedback_1#eatingmeat4_so_Feedback_1\n",
      "Methane from cow burps harms the environment because it causes the temperature to rise creating global warming#eatingmeat4_because_Feedback_1#eatingmeat4_because_Feedback_1\n",
      "Methane from cow burps harms the environment because it causes Earth’s temperature to increase.#eatingmeat4_because_Feedback_1#eatingmeat4_because_Feedback_1\n",
      "Methane from cow burps harms the environment because the gas causes earths temperatures to rise.#eatingmeat4_because_Feedback_1#eatingmeat4_because_Feedback_1\n",
      "Methane from cow burps harms the environment, so companies have started to create \"plant-based\" meats.#eatingmeat4_so_Feedback_2#eatingmeat4_so_Feedback_2\n",
      "Methane from cow burps harms the environment, but the damage could be mitigated by either increasing the use of plant-based meats, or changing the diet of cows to reduce their methane release.#eatingmeat4_but_Feedback_9#eatingmeat4_but_Feedback_13\n",
      "Methane from cow burps harms the environment, but not everyone is in agreement about how to reduce the methane.#eatingmeat4_but_Feedback_2#eatingmeat4_but_Feedback_2\n",
      "Methane from cow burps harms the environment because cow burps contain methane a gas that causes cliate warming#eatingmeat4_because_Feedback_5#eatingmeat4_because_Feedback_5\n",
      "Methane from cow burps harms the environment, but we could change what a cow eats to reduce methane burps.#eatingmeat4_but_Feedback_13#eatingmeat4_but_Feedback_9\n",
      "Methane from cow burps harms the environment, but we can change what they eat.#eatingmeat4_but_Feedback_12#eatingmeat4_but_Feedback_9\n",
      "Methane from cow burps harms the environment, but not everyone agrees on how we should work to reduce the harm that animal agriculture causes to the environment.#eatingmeat4_but_Feedback_2#eatingmeat4_but_Feedback_2\n",
      "Methane from cow burps harms the environment, but by having cows eat seaweed, less methane will be released.#eatingmeat4_but_Feedback_13#eatingmeat4_but_Feedback_13\n",
      "Methane from cow burps harms the environment, so some suggest that we should switch to meatless products like Impossible meats.#eatingmeat4_so_Feedback_9#eatingmeat4_so_Feedback_2\n",
      "Methane from cow burps harms the environment, so we should change the way we eat by changing our diet to plant-base alternative meat.#eatingmeat4_so_Feedback_9#eatingmeat4_so_Feedback_9\n",
      "Methane from cow burps harms the environment, so producing tasty meat substitute could reduce the number of cows in the world.#eatingmeat4_so_Feedback_9#eatingmeat4_so_Feedback_9\n",
      "Methane from cow burps harms the environment, but studies show that cattle diet including seaweed results in 99% less methane being released so perhaps there are ways to combat this.#eatingmeat4_but_Feedback_13#eatingmeat4_but_Feedback_13\n",
      "Methane from cow burps harms the environment, so cow's diets are being changed so they produce less methane.#eatingmeat4_so_Feedback_3#eatingmeat4_so_Feedback_10\n",
      "Methane from cow burps harms the environment, so some environmentalists recommend plant based meat substitutes.#eatingmeat4_so_Feedback_8#eatingmeat4_so_Feedback_2\n",
      "Methane from cow burps harms the environment because it causes the earth's temperature to rise resulting in unstable weather, such as droughts, extreme temperatures, and flooding.#eatingmeat4_because_Feedback_2#eatingmeat4_because_Feedback_2\n",
      "Methane from cow burps harms the environment, but feeding them seaweed could greatly reduce the amount of methane those burps produce, thus reducing their negative greenhouse effects.#eatingmeat4_but_Feedback_13#eatingmeat4_but_Feedback_13\n",
      "Methane from cow burps harms the environment because it is considered a greenhouse gas that contributes to global temperature increases.#eatingmeat4_because_Feedback_1#eatingmeat4_because_Feedback_1\n",
      "Methane from cow burps harms the environment, but there are alternatives to change that.#eatingmeat4_but_Feedback_3#eatingmeat4_but_Feedback_3\n",
      "Methane from cow burps harms the environment, so there should be an effort to reduce the amount of methane produced by cow burps.#eatingmeat4_so_Feedback_10#eatingmeat4_so_Feedback_10\n",
      "Methane from cow burps harms the environment because it makes earths temperature rise the effect is called global warming.#eatingmeat4_because_Feedback_1#eatingmeat4_because_Feedback_1\n",
      "Methane from cow burps harms the environment because the emit the greenhouse gas methane.#eatingmeat4_because_Feedback_5#eatingmeat4_because_Feedback_5\n",
      "Methane from cow burps harms the environment because his gas causes Earth's temperature to rise in a process called global warming.#eatingmeat4_because_Feedback_1#eatingmeat4_because_Feedback_1\n",
      "Methane from cow burps harms the environment, but plant-based meats which taste like real meat will reduce greenhouse emissions.#eatingmeat4_but_Feedback_6#eatingmeat4_but_Feedback_6\n",
      "Methane from cow burps harms the environment, but there are other factors that are harmful as well#eatingmeat4_but_Feedback_4#eatingmeat4_but_Feedback_3\n",
      "Methane from cow burps harms the environment because this gas causes Earth's temperature to rise; resulting in global warming.#eatingmeat4_because_Feedback_1#eatingmeat4_because_Feedback_1\n",
      "Methane from cow burps harms the environment, so we should look for alternatives to eating meat or better agricultural practices to reduce the amount of greenhouse gases cows are emitting.#eatingmeat4_so_Feedback_9#eatingmeat4_so_Feedback_9\n",
      "Methane from cow burps harms the environment, so we should consider alternatives to either what we eat (such as switching to meat alternatives like the impossible burger) or how we raise our cattle (such as changing THEIR diet to seaweed.)#eatingmeat4_so_Feedback_10#eatingmeat4_so_Feedback_10\n",
      "Methane from cow burps harms the environment, so thjey want to change the cows diet#eatingmeat4_so_Feedback_11#eatingmeat4_so_Feedback_11\n",
      "Methane from cow burps harms the environment because of the green house gas effect in terms of global warming.#eatingmeat4_because_Feedback_1#eatingmeat4_because_Feedback_1\n",
      "Methane from cow burps harms the environment, but if they consume seaweed they will release 99% less methane.#eatingmeat4_but_Feedback_13#eatingmeat4_but_Feedback_13\n",
      "Methane from cow burps harms the environment, so temperatures are rising annually.#eatingmeat4_so_Feedback_7#eatingmeat4_so_Feedback_7\n",
      "Methane from cow burps harms the environment because methane causes the earth to tempature rise causing global warming.#eatingmeat4_because_Feedback_1#eatingmeat4_because_Feedback_1\n",
      "Methane from cow burps harms the environment, so the company Impossible Foods and others want to end all animal agriculture by the year 2035.#eatingmeat4_so_Feedback_2#eatingmeat4_so_Feedback_2\n",
      "Methane from cow burps harms the environment because it releases greenhouse methane gases into the atmosphere which is a contributor to global warming events such as droughts, heat waves, etc.#eatingmeat4_because_Feedback_5#eatingmeat4_because_Feedback_5\n",
      "Methane from cow burps harms the environment, but not everyone is concerned#eatingmeat4_but_Feedback_7#eatingmeat4_but_Feedback_7\n",
      "Methane from cow burps harms the environment because methane causes the temperature of the earth to rise causing global warming.#eatingmeat4_because_Feedback_1#eatingmeat4_because_Feedback_1\n",
      "Methane from cow burps harms the environment, so people want to reduce the amount of meat we consume#eatingmeat4_so_Feedback_9#eatingmeat4_so_Feedback_9\n",
      "Methane from cow burps harms the environment, but Impossible Foods is working on alternatives to animal meat products that are less harmful to the environment and release less greenhouse gases.#eatingmeat4_but_Feedback_5#eatingmeat4_but_Feedback_5\n",
      "Methane from cow burps harms the environment, but some food companies want to create plant based meals that can appeal to meat eaters so it will be less harmful to the environment.#eatingmeat4_but_Feedback_8#eatingmeat4_but_Feedback_5\n",
      "Methane from cow burps harms the environment, but meat replacement will help reduce greenhouse gas.#eatingmeat4_but_Feedback_6#eatingmeat4_but_Feedback_6\n",
      "Methane from cow burps harms the environment, so Impossible Foods' goal is to reduce environmental harm from animal agriculture by ending the practice by 2035.#eatingmeat4_so_Feedback_2#eatingmeat4_so_Feedback_2\n",
      "Methane from cow burps harms the environment, so she desided to protect#eatingmeat4_so_Feedback_8#eatingmeat4_so_Feedback_8\n",
      "Methane from cow burps harms the environment because the it causes the earth temperature to rise.#eatingmeat4_because_Feedback_1#eatingmeat4_because_Feedback_1\n",
      "Methane from cow burps harms the environment, but there are other factors that contribute to greenhouse gasses.#eatingmeat4_but_Feedback_4#eatingmeat4_but_Feedback_3\n",
      "Methane from cow burps harms the environment, so an alternative is to stop eating meat and eat some other type of proteins, such as the fake meat served in many fast food restaurants and bought in supermarkets.#eatingmeat4_so_Feedback_9#eatingmeat4_so_Feedback_9\n",
      "Methane from cow burps harms the environment because methane adds to the greenhouse effect and increases global warming.#eatingmeat4_because_Feedback_1#eatingmeat4_because_Feedback_1\n",
      "Methane from cow burps harms the environment, so scientists have been testing different diets to reduce the methane from cow burps#eatingmeat4_so_Feedback_3#eatingmeat4_so_Feedback_11\n",
      "Methane from cow burps harms the environment, but changing what farmers feed their cows can significantly reduce the amount of methane in their burp#eatingmeat4_but_Feedback_9#eatingmeat4_but_Feedback_9\n",
      "Methane from cow burps harms the environment, so animal agriculture should be ended.#eatingmeat4_so_Feedback_9#eatingmeat4_so_Feedback_9\n",
      "Methane from cow burps harms the environment because methane is a greenhouse gas that causes global warming#eatingmeat4_because_Feedback_1#eatingmeat4_because_Feedback_1\n",
      "Methane from cow burps harms the environment, but that can be reduced either by shifting to plant based meat or adding impossible food in Cow's diet.#eatingmeat4_but_Feedback_13#eatingmeat4_but_Feedback_6\n",
      "Methane from cow burps harms the environment because it is a greenhouse gas that can cause global warming.#eatingmeat4_because_Feedback_1#eatingmeat4_because_Feedback_1\n",
      "Methane from cow burps harms the environment, so we need to take steps to reduce the methane belching and reduce the amount of beef we eat.#eatingmeat4_so_Feedback_10#eatingmeat4_so_Feedback_9\n",
      "Methane from cow burps harms the environment because it causes Earth's temperature to rise.#eatingmeat4_because_Feedback_1#eatingmeat4_because_Feedback_1\n",
      "Methane from cow burps harms the environment, but changing the cow's diet to seaweed can reduce the methane released from cows by 99%.#eatingmeat4_but_Feedback_13#eatingmeat4_but_Feedback_13\n",
      "Methane from cow burps harms the environment, so we should find ways to encourage people to eat less meat.#eatingmeat4_so_Feedback_9#eatingmeat4_so_Feedback_9\n",
      "Methane from cow burps harms the environment, but there are ways to make the practice of raising animals for food purposes better for the environment, such as by changing what farmers feed cows.#eatingmeat4_but_Feedback_9#eatingmeat4_but_Feedback_3\n",
      "Methane from cow burps harms the environment, but that can be reversed if humans consider eating a plant-diet.#eatingmeat4_but_Feedback_6#eatingmeat4_but_Feedback_9\n",
      "Methane from cow burps harms the environment, but it can be reduced by feeding them seaweed.#eatingmeat4_but_Feedback_13#eatingmeat4_but_Feedback_13\n",
      "Methane from cow burps harms the environment because it produces green house gasses.#eatingmeat4_because_Feedback_4#eatingmeat4_because_Feedback_4\n",
      "Methane from cow burps harms the environment, so creating plant-based \"meats\" that have the look, taste, and texture of real meat, Impossible is appealing to meat-eaters#eatingmeat4_so_Feedback_5#eatingmeat4_so_Feedback_5\n",
      "Methane from cow burps harms the environment, but there are changes we can make to reduce this problem.#eatingmeat4_but_Feedback_3#eatingmeat4_but_Feedback_3\n",
      "Methane from cow burps harms the environment, but Nothing#eatingmeat4_but_Feedback_7#eatingmeat4_but_Feedback_7\n",
      "Methane from cow burps harms the environment because because it increases greenhouse gases that increase global warming#eatingmeat4_because_Feedback_1#eatingmeat4_because_Feedback_1\n",
      "Methane from cow burps harms the environment, so we should all fin solutions that will benefit both the animals and the environment.#eatingmeat4_so_Feedback_9#eatingmeat4_so_Feedback_9\n",
      "Methane from cow burps harms the environment, but not everybody wants to end animal agriculture to combat this problem.#eatingmeat4_but_Feedback_2#eatingmeat4_but_Feedback_2\n",
      "Methane from cow burps harms the environment because it can cause the earths temp to increase#eatingmeat4_because_Feedback_1#eatingmeat4_because_Feedback_1\n",
      "Methane from cow burps harms the environment, so we must explore either an end to the animal agriculture responsible for this, or a change in the cows' diet to one that produces less methane.#eatingmeat4_so_Feedback_10#eatingmeat4_so_Feedback_10\n",
      "Methane from cow burps harms the environment, so we will all - whether meat-eaters or not - benefit hugely from reducing or changing the methane context of cow burps, in the resulting decrease in fires, floods, and droughts.#eatingmeat4_so_Feedback_8#eatingmeat4_so_Feedback_10\n",
      "Methane from cow burps harms the environment because the gas causes Earth's temperature to rise, contributing to global warming.#eatingmeat4_because_Feedback_1#eatingmeat4_because_Feedback_1\n",
      "Methane from cow burps harms the environment because causes the Earths temperature to rise creating global warming.#eatingmeat4_because_Feedback_1#eatingmeat4_because_Feedback_1\n",
      "Methane from cow burps harms the environment because greehouse gas methane produced which cause Earth's temperature rising (global warming)#eatingmeat4_because_Feedback_7#eatingmeat4_because_Feedback_9\n",
      "Methane from cow burps harms the environment because This gas causes Earth's temperature to rise in a process called global warming#eatingmeat4_because_Feedback_1#eatingmeat4_because_Feedback_1\n",
      "Methane from cow burps harms the environment, so researchers created plant based meat that half the taste testers could not tell the differences.#eatingmeat4_so_Feedback_2#eatingmeat4_so_Feedback_2\n",
      "Methane from cow burps harms the environment, but other forms of animal agriculture have a hand in producing greenhouse gasses as well.#eatingmeat4_but_Feedback_4#eatingmeat4_but_Feedback_4\n",
      "Methane from cow burps harms the environment because the methane gas in their burps accounts for a significant portion of the animal agriculture's contribution to global warming.#eatingmeat4_because_Feedback_5#eatingmeat4_because_Feedback_3\n",
      "Methane from cow burps harms the environment because EARTHS TEMPERATURE IS RISING AND THIS WILL BECOME MORE COMMON AND PRODUCE 14.5% OF THE WORLD'S GREENHOUSE GASES#eatingmeat4_because_Feedback_9#eatingmeat4_because_Feedback_7\n",
      "Methane from cow burps harms the environment, so we should do something to fix this problem.#eatingmeat4_so_Feedback_9#eatingmeat4_so_Feedback_9\n",
      "Methane from cow burps harms the environment, but some scientists think that instead not raising cows for food farmers could change what they feed their cattle so they do not burp as much.#eatingmeat4_but_Feedback_13#eatingmeat4_but_Feedback_12\n",
      "Methane from cow burps harms the environment, so the company Impossible Foods has created plant-based meat substitutes that are successfully indistinguishable from real meat.#eatingmeat4_so_Feedback_2#eatingmeat4_so_Feedback_2\n",
      "Methane from cow burps harms the environment because it increases the levels of the greenhouse gas methane in the rnvironment.#eatingmeat4_because_Feedback_5#eatingmeat4_because_Feedback_9\n",
      "Methane from cow burps harms the environment, but it might develop from what the cow's are being feed.#eatingmeat4_but_Feedback_7#eatingmeat4_but_Feedback_13\n",
      "Methane from cow burps harms the environment, so we should reduce our meat consumption.#eatingmeat4_so_Feedback_9#eatingmeat4_so_Feedback_9\n",
      "Methane from cow burps harms the environment, but research has shown that when cows consume seaweed as part of their diets, they release up to 99% less methane in their burp.#eatingmeat4_but_Feedback_13#eatingmeat4_but_Feedback_13\n",
      "Methane from cow burps harms the environment, but adding seaweed to their diet will greatly reduce the amount of methane produced.#eatingmeat4_but_Feedback_13#eatingmeat4_but_Feedback_13\n",
      "Methane from cow burps harms the environment, but there are ways to handle it by either replacing animal meat with plant based options or modifying what the animals are fed to reduce the methane in their burps.#eatingmeat4_but_Feedback_9#eatingmeat4_but_Feedback_9\n",
      "Methane from cow burps harms the environment, so farmers can feed cows differently such as feeding them seaweed which they would release up to 99% less methane in their burps.#eatingmeat4_so_Feedback_10#eatingmeat4_so_Feedback_10\n",
      "Methane from cow burps harms the environment because it affects global warming.#eatingmeat4_because_Feedback_1#eatingmeat4_because_Feedback_1\n",
      "Methane from cow burps harms the environment, so creating plant-based meats is less harmful alternative.#eatingmeat4_so_Feedback_9#eatingmeat4_so_Feedback_9\n",
      "Methane from cow burps harms the environment, but there are ways to reduce it#eatingmeat4_but_Feedback_3#eatingmeat4_but_Feedback_3\n",
      "Methane from cow burps harms the environment, but we need to look at the overall process of farming animals for meat to see where we can make improvements.#eatingmeat4_but_Feedback_7#eatingmeat4_but_Feedback_6\n",
      "Methane from cow burps harms the environment, but it is not too harmful.#eatingmeat4_but_Feedback_7#eatingmeat4_but_Feedback_7\n",
      "Methane from cow burps harms the environment, so Cow burping and other aspects of animal agriculture, produce about 14.5% of the world's greenhouse gases.#eatingmeat4_so_Feedback_7#eatingmeat4_so_Feedback_7\n",
      "Methane from cow burps harms the environment, but recent research has shown that if cows eat seaweed as part of their diet it could reduce the release of methane in their burps.#eatingmeat4_but_Feedback_13#eatingmeat4_but_Feedback_13\n",
      "Methane from cow burps harms the environment, so it is imperative that fewer cows are raised or a way is found for the cow population to produce less methane.#eatingmeat4_so_Feedback_10#eatingmeat4_so_Feedback_10\n",
      "Methane from cow burps harms the environment, but different groups are coming up with ideas on how to limit these gases from being released into the environment.#eatingmeat4_but_Feedback_3#eatingmeat4_but_Feedback_2\n",
      "Methane from cow burps harms the environment because it increases the amount of greenhouse gas in earth's atmosphere.#eatingmeat4_because_Feedback _6#eatingmeat4_because_Feedback _6\n",
      "Methane from cow burps harms the environment, but not everyone agrees with this.#eatingmeat4_but_Feedback_7#eatingmeat4_but_Feedback_7\n",
      "Methane from cow burps harms the environment, so we need to either eat less meat and lower demand for cattle raising, or feed cattle something else like seaweed to greatly lower their methane output,#eatingmeat4_so_Feedback_10#eatingmeat4_so_Feedback_10\n",
      "Methane from cow burps harms the environment because over a billion cows burp out methane gas which negatively effects the environment.#eatingmeat4_because_Feedback_5#eatingmeat4_because_Feedback_5\n",
      "Methane from cow burps harms the environment, but they also provide a way of living for farmers and meat eaters.#eatingmeat4_but_Feedback_7#eatingmeat4_but_Feedback_7\n",
      "Methane from cow burps harms the environment, so companies have seized on the opportunity to create less harmful meat alternatives that appeal to the consumer as well as benefit the environment.#eatingmeat4_so_Feedback_2#eatingmeat4_so_Feedback_2\n",
      "Methane from cow burps harms the environment, but there are ways to reduce the amount of methane..first we can get rid of meat consumption and therefore get rid of cows...or we can change their feed.#eatingmeat4_but_Feedback_13#eatingmeat4_but_Feedback_9\n",
      "Methane from cow burps harms the environment, so we need to feed them more seaweed.#eatingmeat4_so_Feedback_10#eatingmeat4_so_Feedback_10\n",
      "Methane from cow burps harms the environment, but changing the diet of cows can decrease greatly the release of methane.#eatingmeat4_but_Feedback_9#eatingmeat4_but_Feedback_9\n",
      "Methane from cow burps harms the environment, so we either need to change how cows eat or switch to he consumption of plant based \"meats\".#eatingmeat4_so_Feedback_10#eatingmeat4_so_Feedback_10\n",
      "Methane from cow burps harms the environment, so we should feed the cows sea weed grass.#eatingmeat4_so_Feedback_10#eatingmeat4_so_Feedback_10\n",
      "Methane from cow burps harms the environment, so people should eat less meat or we should change what cows eat.#eatingmeat4_so_Feedback_10#eatingmeat4_so_Feedback_10\n",
      "Methane from cow burps harms the environment, but soem people believe it's not the cows that are the problem, but what they eat.#eatingmeat4_but_Feedback_8#eatingmeat4_but_Feedback_7\n",
      "Methane from cow burps harms the environment because cows produce 14.5% of the worlds methane gases.#eatingmeat4_because_Feedback_7#eatingmeat4_because_Feedback_7\n",
      "Methane from cow burps harms the environment, but we can change that by giving cows something different to eat.#eatingmeat4_but_Feedback_13#eatingmeat4_but_Feedback_9\n",
      "Methane from cow burps harms the environment because it contributes to global warming.#eatingmeat4_because_Feedback_1#eatingmeat4_because_Feedback_1\n",
      "Methane from cow burps harms the environment, but there is a solution by using plant based foods,#eatingmeat4_but_Feedback_6#eatingmeat4_but_Feedback_6\n",
      "Methane from cow burps harms the environment because it causes earth's temperature to rise, leading to global warming.#eatingmeat4_because_Feedback_1#eatingmeat4_because_Feedback_1\n",
      "Methane from cow burps harms the environment, so a solution is to either eat less meat or change what we feed cows.#eatingmeat4_so_Feedback_10#eatingmeat4_so_Feedback_10\n",
      "Methane from cow burps harms the environment, so we need to figure out a way to reduce the amount of methane released into the environment.#eatingmeat4_so_Feedback_9#eatingmeat4_so_Feedback_10\n",
      "Methane from cow burps harms the environment, so we should modify their diets or reduce our beef consumption.#eatingmeat4_so_Feedback_10#eatingmeat4_so_Feedback_10\n",
      "Methane from cow burps harms the environment, so the issue can be addressed by changing the cow's diet to include seaweed, which helps reduce methane, as well as offering alternative, plant-based \"meats\" like Impossible Meat.#eatingmeat4_so_Feedback_10#eatingmeat4_so_Feedback_10\n",
      "Methane from cow burps harms the environment because methane contributes to Global Warming.#eatingmeat4_because_Feedback_1#eatingmeat4_because_Feedback_1\n",
      "Methane from cow burps harms the environment, but there are plans in place to reduce the use of animal agriculture.#eatingmeat4_but_Feedback_3#eatingmeat4_but_Feedback_3\n",
      "Methane from cow burps harms the environment, but but not everyone agrees on the best solution.#eatingmeat4_but_Feedback_2#eatingmeat4_but_Feedback_2\n",
      "Methane from cow burps harms the environment, but people still eat a large amount of beef.#eatingmeat4_but_Feedback_7#eatingmeat4_but_Feedback_7\n",
      "Methane from cow burps harms the environment because of methane gas#eatingmeat4_because_Feedback_8#eatingmeat4_because_Feedback_8\n",
      "Methane from cow burps harms the environment because it causes a increase in greenhouse gas which affects global warming.#eatingmeat4_because_Feedback _6#eatingmeat4_because_Feedback_1\n",
      "Methane from cow burps harms the environment because scientists believe that it adds 14.5% of the total methane to the atmosphere, increasing global warming.#eatingmeat4_because_Feedback_7#eatingmeat4_because_Feedback_7\n",
      "Methane from cow burps harms the environment because they burp out gallons of greenhouse gas methane to harm ozone layer#eatingmeat4_because_Feedback_9#eatingmeat4_because_Feedback_5\n",
      "Methane from cow burps harms the environment, but there are other ways to make the practice better for the environment.#eatingmeat4_but_Feedback_7#eatingmeat4_but_Feedback_3\n",
      "Methane from cow burps harms the environment, so we need to do something about it as a planet.#eatingmeat4_so_Feedback_9#eatingmeat4_so_Feedback_9\n",
      "Methane from cow burps harms the environment, but other aspects of animal agriculture do as well, and simply changing what cows are fed can help the problem.#eatingmeat4_but_Feedback_9#eatingmeat4_but_Feedback_9\n",
      "Methane from cow burps harms the environment because it acts as a greenhouse gas, becoming stored in the atmosphere and changing the Earth's climate for the worse.#eatingmeat4_because_Feedback_1#eatingmeat4_because_Feedback_1\n",
      "Methane from cow burps harms the environment because it is a greenhouse gas attributed to global warming.#eatingmeat4_because_Feedback_1#eatingmeat4_because_Feedback_1\n",
      "Methane from cow burps harms the environment, so they reduce about one-third of greenhouse gas emissions caused by animal agriculture.#eatingmeat4_so_Feedback_8#eatingmeat4_so_Feedback_7\n",
      "Methane from cow burps harms the environment because 30-50 gallons of the greenhouse gas methane are submitted.#eatingmeat4_because_Feedback_7#eatingmeat4_because_Feedback_5\n",
      "Methane from cow burps harms the environment, so it is an international issue that needs to be addressed by everyone globally, from corporations to farmers and governments abroad.#eatingmeat4_so_Feedback_9#eatingmeat4_so_Feedback_9\n",
      "Methane from cow burps harms the environment, but there may be a way to change this by feeding them different food.#eatingmeat4_but_Feedback_9#eatingmeat4_but_Feedback_9\n",
      "Methane from cow burps harms the environment, so we should reduce this#eatingmeat4_so_Feedback_9#eatingmeat4_so_Feedback_9\n",
      "Methane from cow burps harms the environment, but there are alternatives, such as Impossible Meat (plant-based \"meats\" that have the taste and texture of the real thing) and changing the diets of cows to include seaweed; an abundant alternative that can reduce the amount of methane they#eatingmeat4_but_Feedback_13#eatingmeat4_but_Feedback_13\n",
      "Methane from cow burps harms the environment, so we could feed them seaweed to reduce it.#eatingmeat4_so_Feedback_10#eatingmeat4_so_Feedback_10\n",
      "Methane from cow burps harms the environment, so we need to consider solutions to decrease methane in cows.#eatingmeat4_so_Feedback_10#eatingmeat4_so_Feedback_10\n",
      "Methane from cow burps harms the environment, but changing their diet may ease this effect.#eatingmeat4_but_Feedback_9#eatingmeat4_but_Feedback_9\n",
      "Methane from cow burps harms the environment, but by changing their diets, it could easily reduce the methane they release when burping.#eatingmeat4_but_Feedback_13#eatingmeat4_but_Feedback_9\n",
      "Methane from cow burps harms the environment, so companies like Impossible Foods, would like to find alternatives to animal farming by 2035.#eatingmeat4_so_Feedback_2#eatingmeat4_so_Feedback_2\n",
      "Methane from cow burps harms the environment, so we should attempt to limit the amount of methane released, either by decreasing the number of cows we currently raise for meat (perhaps by introducing meatless alternatives), by using some means to limit the amount of#eatingmeat4_so_Feedback_9#eatingmeat4_so_Feedback_9\n",
      "Methane from cow burps harms the environment because it causes the earth's temperature to rise which scientists believe leads to extreme weather events like droughts and floods.#eatingmeat4_because_Feedback_2#eatingmeat4_because_Feedback_2\n",
      "Methane from cow burps harms the environment, so some are looking at ways to decrease the amount of methane dice discontinuing the use of animal agriculture and using products such as plant based \"meats\" that look, feel, and taste like beef.#eatingmeat4_so_Feedback_2#eatingmeat4_so_Feedback_5\n",
      "Methane from cow burps harms the environment, but some claim this can be reduced by a change in diet.#eatingmeat4_but_Feedback_9#eatingmeat4_but_Feedback_9\n",
      "Methane from cow burps harms the environment because it increases global warming#eatingmeat4_because_Feedback_1#eatingmeat4_because_Feedback_1\n",
      "Methane from cow burps harms the environment, so we should look at alternatives.#eatingmeat4_so_Feedback_9#eatingmeat4_so_Feedback_9\n",
      "Methane from cow burps harms the environment, but feeding them seaweed may nearly eliminate greenhouse gas production from the cows.#eatingmeat4_but_Feedback_13#eatingmeat4_but_Feedback_13\n",
      "Methane from cow burps harms the environment, but altering the diet of cows can reduce the amount of methane they produce by up to 99%#eatingmeat4_but_Feedback_9#eatingmeat4_but_Feedback_9\n",
      "Methane from cow burps harms the environment because it causes the earths temperature to increase.#eatingmeat4_because_Feedback_1#eatingmeat4_because_Feedback_1\n",
      "Methane from cow burps harms the environment, so if we could change their diets , we could diminish the methane that they produce.#eatingmeat4_so_Feedback_10#eatingmeat4_so_Feedback_10\n",
      "Methane from cow burps harms the environment, so we must find a way to curb the amount of cow burps.#eatingmeat4_so_Feedback_9#eatingmeat4_so_Feedback_9\n",
      "Methane from cow burps harms the environment, but cows that eat seaweed put out less methane.#eatingmeat4_but_Feedback_13#eatingmeat4_but_Feedback_13\n",
      "Methane from cow burps harms the environment, so for our and the future generation, we should pave a way for a healthier environment through reducing our consumption of meat.#eatingmeat4_so_Feedback_9#eatingmeat4_so_Feedback_9\n",
      "Methane from cow burps harms the environment, but if they eat seaweed it is 99% less gases released.#eatingmeat4_but_Feedback_13#eatingmeat4_but_Feedback_13\n",
      "Methane from cow burps harms the environment, but they can feed the cows seaweed and it will cut down the gases by 99%.#eatingmeat4_but_Feedback_13#eatingmeat4_but_Feedback_13\n",
      "Methane from cow burps harms the environment, but if the cows diet is changes, there could be a reduction of has up to 99 percent if fed algae#eatingmeat4_but_Feedback_13#eatingmeat4_but_Feedback_13\n",
      "Methane from cow burps harms the environment, so as a result the company Important Foods wants to end all animal agriculture by 2035.#eatingmeat4_so_Feedback_2#eatingmeat4_so_Feedback_2\n",
      "Methane from cow burps harms the environment, so there are conflicting soultions in order to solve this issue.#eatingmeat4_so_Feedback_5#eatingmeat4_so_Feedback_9\n",
      "Methane from cow burps harms the environment, so we should seek to implement as many solutions as possible.#eatingmeat4_so_Feedback_9#eatingmeat4_so_Feedback_9\n",
      "Methane from cow burps harms the environment, so humans can either stop raising cows to eat and instead eat a vegetable product that tastes just like cooked beef, or feed cows a different diet to reduce their methane production.#eatingmeat4_so_Feedback_10#eatingmeat4_so_Feedback_10\n",
      "Methane from cow burps harms the environment, so we should take steps to prevent further damage and try to fix what has already been damaged.#eatingmeat4_so_Feedback_9#eatingmeat4_so_Feedback_9\n",
      "Methane from cow burps harms the environment because cow burps release harmful greenhouse gases that contribute to global warming.#eatingmeat4_because_Feedback_5#eatingmeat4_because_Feedback_5\n",
      "Methane from cow burps harms the environment because it's a potent greenhouse gas.#eatingmeat4_because_Feedback _6#eatingmeat4_because_Feedback _6\n",
      "Methane from cow burps harms the environment, but this is because of their diet.#eatingmeat4_but_Feedback_7#eatingmeat4_but_Feedback_7\n",
      "Methane from cow burps harms the environment, so we should do what we can to reduce this amount or occurrence.#eatingmeat4_so_Feedback_9#eatingmeat4_so_Feedback_9\n",
      "Methane from cow burps harms the environment, so perhaps we need to change what people eat.#eatingmeat4_so_Feedback_9#eatingmeat4_so_Feedback_9\n",
      "Methane from cow burps harms the environment, so we should eat less beef#eatingmeat4_so_Feedback_9#eatingmeat4_so_Feedback_9\n",
      "Methane from cow burps harms the environment because that is global warming sign#eatingmeat4_because_Feedback_8#eatingmeat4_because_Feedback_1\n",
      "Methane from cow burps harms the environment, but there are ways of controlling it.#eatingmeat4_but_Feedback_3#eatingmeat4_but_Feedback_3\n",
      "Methane from cow burps harms the environment because methane contributes to global warming, which in turn leads to an increase in extreme weather events.#eatingmeat4_because_Feedback_2#eatingmeat4_because_Feedback_2\n",
      "Methane from cow burps harms the environment, so some corporations are investigating what might be done to reduce it.#eatingmeat4_so_Feedback_2#eatingmeat4_so_Feedback_2\n",
      "Methane from cow burps harms the environment, so we need to work together as a society to come up with intuitive ideas as to how to fix this problem.#eatingmeat4_so_Feedback_9#eatingmeat4_so_Feedback_9\n",
      "Methane from cow burps harms the environment because methane is a potential greenhouse gas.#eatingmeat4_because_Feedback _6#eatingmeat4_because_Feedback _6\n",
      "Methane from cow burps harms the environment, so either fast food chains add alternatives to meat or farmers feed seaweed to cows to reduce the harmful effects to our environment.#eatingmeat4_so_Feedback_10#eatingmeat4_so_Feedback_10\n",
      "Methane from cow burps harms the environment, so Impossible Foods has developed a burger that looks and tastes like real beef but is plant based.#eatingmeat4_so_Feedback_2#eatingmeat4_so_Feedback_2\n",
      "Methane from cow burps harms the environment because methane is a greenhouse gas that heavily contributes to global warming.#eatingmeat4_because_Feedback_1#eatingmeat4_because_Feedback_1\n",
      "Methane from cow burps harms the environment, but there may be ways to reduce this methane output#eatingmeat4_but_Feedback_3#eatingmeat4_but_Feedback_3\n",
      "Methane from cow burps harms the environment, so we should lower our meat consumption.#eatingmeat4_so_Feedback_9#eatingmeat4_so_Feedback_9\n",
      "Methane from cow burps harms the environment, so cows should be fed seaweed to lessen the amount of Methane that they burp.#eatingmeat4_so_Feedback_10#eatingmeat4_so_Feedback_10\n",
      "Methane from cow burps harms the environment, but there is disagreement on what is the best way to combat this.#eatingmeat4_but_Feedback_2#eatingmeat4_but_Feedback_2\n",
      "Methane from cow burps harms the environment, but it can be reduced by changing the cows' diet.#eatingmeat4_but_Feedback_9#eatingmeat4_but_Feedback_9\n",
      "Methane from cow burps harms the environment, but if we were to change what cows eat, they'll release less methane in their burps.#eatingmeat4_but_Feedback_13#eatingmeat4_but_Feedback_13\n",
      "Methane from cow burps harms the environment, but changing what you feed cows can reduce their methane emissions.#eatingmeat4_but_Feedback_9#eatingmeat4_but_Feedback_9\n",
      "Methane from cow burps harms the environment, so reducing meat consumption and the harvesting of cattle can help reduce methane emissions.#eatingmeat4_so_Feedback_9#eatingmeat4_so_Feedback_10\n",
      "Methane from cow burps harms the environment, but it may be able to be significantly reduced via a change in the cows' diet.#eatingmeat4_but_Feedback_13#eatingmeat4_but_Feedback_9\n",
      "Methane from cow burps harms the environment, but not everyone agrees on how to tackle the problem.#eatingmeat4_but_Feedback_2#eatingmeat4_but_Feedback_2\n",
      "Methane from cow burps harms the environment, but changing a cows diet may reduce the methane in the burps#eatingmeat4_but_Feedback_9#eatingmeat4_but_Feedback_9\n",
      "Methane from cow burps harms the environment, so alternatives to reduce this as well as alternatives to beef and cake products are an excellent possibility.#eatingmeat4_so_Feedback_9#eatingmeat4_so_Feedback_9\n",
      "Methane from cow burps harms the environment, but feeding cows seaweed could reduce the amount of methane that they release.#eatingmeat4_but_Feedback_13#eatingmeat4_but_Feedback_13\n",
      "Methane from cow burps harms the environment because it increases the earth's temperature.#eatingmeat4_because_Feedback_1#eatingmeat4_because_Feedback_1\n",
      "Methane from cow burps harms the environment, so people should stop eating cow meat, and should eat replacement meat that tastes the same.#eatingmeat4_so_Feedback_9#eatingmeat4_so_Feedback_9\n",
      "Methane from cow burps harms the environment, so we should either give up on eating meats and go for plant-based replacements or feed cows different stock and so they produce less methane from cow burps.#eatingmeat4_so_Feedback_10#eatingmeat4_so_Feedback_10\n",
      "Methane from cow burps harms the environment, but it can be controlled using seaweed in their diet.#eatingmeat4_but_Feedback_13#eatingmeat4_but_Feedback_13\n",
      "Methane from cow burps harms the environment, but if we changed what they eat the gas they emit could be reduced by 99 percent.#eatingmeat4_but_Feedback_13#eatingmeat4_but_Feedback_13\n",
      "Methane from cow burps harms the environment because is good environement#eatingmeat4_because_Feedback_8#eatingmeat4_because_Feedback_8\n",
      "Methane from cow burps harms the environment because they emit 14.5% of the greenhouse gasses.#eatingmeat4_because_Feedback_7#eatingmeat4_because_Feedback_7\n",
      "Methane from cow burps harms the environment, but this harm can be reduced by feeding cows seaweed to reduce their methane production.#eatingmeat4_but_Feedback_13#eatingmeat4_but_Feedback_13\n",
      "Methane from cow burps harms the environment, so change the way cows eat or use meat substitutes.#eatingmeat4_so_Feedback_10#eatingmeat4_so_Feedback_10\n",
      "Methane from cow burps harms the environment, so it makes sense to eat plant- based meat.#eatingmeat4_so_Feedback_9#eatingmeat4_so_Feedback_9\n",
      "Methane from cow burps harms the environment because a cow generates up to 50 gallons of methane, which increases global warming.#eatingmeat4_because_Feedback_5#eatingmeat4_because_Feedback_5\n",
      "Methane from cow burps harms the environment because they burp out 30-50 gallons of the greenhouse gas methane.#eatingmeat4_because_Feedback_5#eatingmeat4_because_Feedback_5\n",
      "Methane from cow burps harms the environment, so scientists have been testing different cow diets#eatingmeat4_so_Feedback_11#eatingmeat4_so_Feedback_3\n",
      "Methane from cow burps harms the environment, so many people argue we should be eating less meat to reduce the number of cows.#eatingmeat4_so_Feedback_8#eatingmeat4_so_Feedback_8\n",
      "Methane from cow burps harms the environment because they contribute to 14.5% of greenhouse gas emissions.#eatingmeat4_because_Feedback_7#eatingmeat4_because_Feedback_7\n",
      "Methane from cow burps harms the environment because not only is it a greenhouse gas, but it's a waste of feed,” Yu said#eatingmeat4_because_Feedback_10#eatingmeat4_because_Feedback_8\n",
      "Methane from cow burps harms the environment, but there may be a solution to reduce the methane gas by having them eat a diet with seaweed.#eatingmeat4_but_Feedback_13#eatingmeat4_but_Feedback_13\n",
      "Methane from cow burps harms the environment, so we must re-evaluate the way we look at food in terms of both macro and micro.#eatingmeat4_so_Feedback_9#eatingmeat4_so_Feedback_9\n",
      "Methane from cow burps harms the environment, but farmers are adding new foods to their cows' diets#eatingmeat4_but_Feedback_12#eatingmeat4_but_Feedback_9\n",
      "Methane from cow burps harms the environment, so we should reduce our animal product intake.#eatingmeat4_so_Feedback_9#eatingmeat4_so_Feedback_9\n",
      "Methane from cow burps harms the environment, so we should reduce it by eating less food that produces it.#eatingmeat4_so_Feedback_9#eatingmeat4_so_Feedback_9\n",
      "Methane from cow burps harms the environment because it raises the temperature of the Earth.#eatingmeat4_because_Feedback_1#eatingmeat4_because_Feedback_1\n",
      "Methane from cow burps harms the environment, so you should try the impossible company's products and a alternate solution#eatingmeat4_so_Feedback_9#eatingmeat4_so_Feedback_9\n",
      "Methane from cow burps harms the environment, so we need to find ways to decrease or eliminate the methane gas.#eatingmeat4_so_Feedback_9#eatingmeat4_so_Feedback_9\n",
      "Methane from cow burps harms the environment, but Can be reduced by 99% if their diet changed.#eatingmeat4_but_Feedback_9#eatingmeat4_but_Feedback_9\n",
      "Methane from cow burps harms the environment, so environmentalists say that beef products must be eliminated at fast food restaurants and people should eat plant based burgers#eatingmeat4_so_Feedback_8#eatingmeat4_so_Feedback_8\n",
      "Methane from cow burps harms the environment, so we must either change what we eat or what we feed cows in order to minimize said effect.#eatingmeat4_so_Feedback_10#eatingmeat4_so_Feedback_10\n",
      "Methane from cow burps harms the environment, so the company Impossible Foods is working on creating plant-based substitutes for beef and other meats that are indistinguishable from the real thing.#eatingmeat4_so_Feedback_2#eatingmeat4_so_Feedback_2\n",
      "Methane from cow burps harms the environment, so we should start feeding the cows in a healthier way for the planet#eatingmeat4_so_Feedback_10#eatingmeat4_so_Feedback_9\n",
      "Methane from cow burps harms the environment, but researchers believe eating less meat will help.#eatingmeat4_but_Feedback_13#eatingmeat4_but_Feedback_13\n",
      "Methane from cow burps harms the environment, so using plant based meats can offer a solution since they contain no animal products and generate less greenhouse gas.#eatingmeat4_so_Feedback_9#eatingmeat4_so_Feedback_9\n",
      "Methane from cow burps harms the environment because methane is responsible for global warming, and the earth's 1.5 billion cows burp between 30-50 gallons of methane per day.#eatingmeat4_because_Feedback_1#eatingmeat4_because_Feedback_5\n",
      "Methane from cow burps harms the environment because methane is a greenhouse gas and contributes to global warming.#eatingmeat4_because_Feedback_1#eatingmeat4_because_Feedback_1\n",
      "Methane from cow burps harms the environment because it is a greenhouse gas, which contributes to global warming.#eatingmeat4_because_Feedback_1#eatingmeat4_because_Feedback_1\n",
      "Methane from cow burps harms the environment, but Impossible Foods want to change the cow burp harm by having all plant based beef.#eatingmeat4_but_Feedback_5#eatingmeat4_but_Feedback_5\n",
      "Methane from cow burps harms the environment, so eating less meat is helpful#eatingmeat4_so_Feedback_9#eatingmeat4_so_Feedback_9\n",
      "Methane from cow burps harms the environment because it produce 89% of gas that damage the earth, it increasing the temperature in the earth.#eatingmeat4_because_Feedback_9#eatingmeat4_because_Feedback_4\n",
      "Methane from cow burps harms the environment, so we should making changes to our farming practices.#eatingmeat4_so_Feedback_9#eatingmeat4_so_Feedback_9\n",
      "Methane from cow burps harms the environment, so many fast-food chains have started to add meat alternatives to their menu.#eatingmeat4_so_Feedback_6#eatingmeat4_so_Feedback_2\n",
      "Methane from cow burps harms the environment, but it can be reduced by feeding cows seaweed.#eatingmeat4_but_Feedback_13#eatingmeat4_but_Feedback_13\n",
      "Methane from cow burps harms the environment because they cause methane gas production#eatingmeat4_because_Feedback_5#eatingmeat4_because_Feedback_5\n",
      "Methane from cow burps harms the environment because It causes the temperature of the earth to rise.#eatingmeat4_because_Feedback_1#eatingmeat4_because_Feedback_1\n",
      "Methane from cow burps harms the environment because methane causes Earth's temperature to rise.#eatingmeat4_because_Feedback_1#eatingmeat4_because_Feedback_1\n",
      "Methane from cow burps harms the environment because it releases greenhouse gas methane which causes the earth's temperature to rise causing global warming.#eatingmeat4_because_Feedback_5#eatingmeat4_because_Feedback_5\n",
      "Methane from cow burps harms the environment because it produces a gas that causes global warming#eatingmeat4_because_Feedback_4#eatingmeat4_because_Feedback_4\n",
      "Methane from cow burps harms the environment, so there are alternative routes that can be taken to ensure that the world is free from harm.#eatingmeat4_so_Feedback_9#eatingmeat4_so_Feedback_9\n",
      "Methane from cow burps harms the environment because gasses are released and become trapped in the atmosphere causing increasing global temperatures.#eatingmeat4_because_Feedback_5#eatingmeat4_because_Feedback_1\n",
      "Methane from cow burps harms the environment because it causes temperatures to rise creating global warming .#eatingmeat4_because_Feedback_1#eatingmeat4_because_Feedback_1\n",
      "Methane from cow burps harms the environment, but plant based meat is available as a substitute to cow meat.#eatingmeat4_but_Feedback_10#eatingmeat4_but_Feedback_6\n",
      "Methane from cow burps harms the environment, but there are people who have developed novel solutions to the problem that if implemented might reduce methane gas amounts globally.#eatingmeat4_but_Feedback_3#eatingmeat4_but_Feedback_3\n",
      "Methane from cow burps harms the environment, but there are other aspects in the farming of livestock that further harms the planet.#eatingmeat4_but_Feedback_4#eatingmeat4_but_Feedback_4\n",
      "Methane from cow burps harms the environment, so we should end all animal agriculture to lessen the impact on the environment.#eatingmeat4_so_Feedback_9#eatingmeat4_so_Feedback_9\n",
      "Methane from cow burps harms the environment, but our desire to eat beef makes transitioning off it a difficult task to achieve.#eatingmeat4_but_Feedback_7#eatingmeat4_but_Feedback_7\n",
      "Methane from cow burps harms the environment, but some farmers are trying to feed the cows seaweed so the cows would release 99% less methane.#eatingmeat4_but_Feedback_13#eatingmeat4_but_Feedback_13\n",
      "Methane from cow burps harms the environment because cows burp out the greenhouse gas methane which causes the earth's temperature to rise in what we call global warming#eatingmeat4_because_Feedback_5#eatingmeat4_because_Feedback_5\n",
      "Methane from cow burps harms the environment because its a greenhouse gas.#eatingmeat4_because_Feedback _6#eatingmeat4_because_Feedback _6\n",
      "Methane from cow burps harms the environment, so liberals assume we should just stop eating meat.#eatingmeat4_so_Feedback_8#eatingmeat4_so_Feedback_8\n",
      "Methane from cow burps harms the environment because increase in extreme weather events such as droughts, heat waves, wildfires, and floods.#eatingmeat4_because_Feedback_8#eatingmeat4_because_Feedback_2\n",
      "Methane from cow burps harms the environment, but most people are too used to eating red meat to consider a change.#eatingmeat4_but_Feedback_7#eatingmeat4_but_Feedback_7\n",
      "Methane from cow burps harms the environment because methane is a greenhouse gas that leads to global warming.#eatingmeat4_because_Feedback_1#eatingmeat4_because_Feedback_1\n",
      "Methane from cow burps harms the environment, so wdifference.we should try eating more plant based meats.#eatingmeat4_so_Feedback_9#eatingmeat4_so_Feedback_9\n",
      "Methane from cow burps harms the environment because it contains methane and that goes into the atmosphere#eatingmeat4_because_Feedback_5#eatingmeat4_because_Feedback_5\n",
      "Methane from cow burps harms the environment, so companies are creating new products such as Impossible which looks and feels like meat but is actually plant based in order to help cut down on the amount of methane gas released.#eatingmeat4_so_Feedback_2#eatingmeat4_so_Feedback_2\n",
      "Methane from cow burps harms the environment, but plant based meats have little to no effect on global warming.#eatingmeat4_but_Feedback_6#eatingmeat4_but_Feedback_6\n",
      "Methane from cow burps harms the environment, but ows would be pp% free if they were fed sea weed.#eatingmeat4_but_Feedback_8#eatingmeat4_but_Feedback_13\n",
      "Methane from cow burps harms the environment because methane is a greenhouse gas, which means it contributes to global warming.#eatingmeat4_because_Feedback_1#eatingmeat4_because_Feedback_1\n",
      "Methane from cow burps harms the environment, but feeding them seaweed lowers the methane.#eatingmeat4_but_Feedback_13#eatingmeat4_but_Feedback_13\n",
      "Methane from cow burps harms the environment, so scientists are trying to come up with a way to help reduce the methane produced such as feeding the cows seaweed.#eatingmeat4_so_Feedback_3#eatingmeat4_so_Feedback_3\n",
      "Methane from cow burps harms the environment, but cows could produce less methane if they eat seaweed instead of grass.#eatingmeat4_but_Feedback_13#eatingmeat4_but_Feedback_13\n",
      "Methane from cow burps harms the environment, so they have found a way to feed cattle that produces less gas.#eatingmeat4_so_Feedback_3#eatingmeat4_so_Feedback_10\n",
      "Methane from cow burps harms the environment, but the amount can be reduced by changing the chores diet.#eatingmeat4_but_Feedback_13#eatingmeat4_but_Feedback_9\n",
      "Methane from cow burps harms the environment, but cows will burp less if seaweed is added to their diet#eatingmeat4_but_Feedback_11#eatingmeat4_but_Feedback_13\n",
      "Methane from cow burps harms the environment, but if fed seaweed in their diet cow burps contain 99 percent less methane.#eatingmeat4_but_Feedback_13#eatingmeat4_but_Feedback_13\n",
      "Methane from cow burps harms the environment, so we should reduce this harm by using plant based meat substitutes or changing cows diets to reduce methane they produce.#eatingmeat4_so_Feedback_10#eatingmeat4_so_Feedback_10\n",
      "Methane from cow burps harms the environment because the gases released contain methane which is harmful to the environment.#eatingmeat4_because_Feedback_5#eatingmeat4_because_Feedback_5\n",
      "Methane from cow burps harms the environment because it contributes to greenhouse gases by 14.5%#eatingmeat4_because_Feedback_7#eatingmeat4_because_Feedback _6\n",
      "Methane from cow burps harms the environment, but not everyone agrees on the best solution#eatingmeat4_but_Feedback_2#eatingmeat4_but_Feedback_2\n",
      "Methane from cow burps harms the environment, but feeding them seaweed can reduce the production of methane.#eatingmeat4_but_Feedback_13#eatingmeat4_but_Feedback_13\n",
      "Methane from cow burps harms the environment because it increases global warming.#eatingmeat4_because_Feedback_1#eatingmeat4_because_Feedback_1\n",
      "Methane from cow burps harms the environment, but not significantly#eatingmeat4_but_Feedback_7#eatingmeat4_but_Feedback_7\n",
      "Methane from cow burps harms the environment, but an alternative would be to change the cow's diet to reduce the methane that they burp out.#eatingmeat4_but_Feedback_13#eatingmeat4_but_Feedback_9\n",
      "Methane from cow burps harms the environment, but not everyone wants to stop raising cows for meat.#eatingmeat4_but_Feedback_2#eatingmeat4_but_Feedback_7\n",
      "Methane from cow burps harms the environment, so either we need to change what people eat, or we need to change what cows eat.#eatingmeat4_so_Feedback_10#eatingmeat4_so_Feedback_10\n",
      "Methane from cow burps harms the environment, so They produce about 14.5% of the world's greenhouse gases.#eatingmeat4_so_Feedback_7#eatingmeat4_so_Feedback_7\n",
      "Methane from cow burps harms the environment because it raises the temperature causing global warming.#eatingmeat4_because_Feedback_1#eatingmeat4_because_Feedback_1\n",
      "Methane from cow burps harms the environment, but it's not the only problem, the practice of raising animals for food purposes, produce about 14.5% of the world's greenhouse gases.#eatingmeat4_but_Feedback_4#eatingmeat4_but_Feedback_1\n",
      "Methane from cow burps harms the environment, but we can do things to help#eatingmeat4_but_Feedback_3#eatingmeat4_but_Feedback_3\n",
      "Methane from cow burps harms the environment, so Impossible foods wants to make non-meat food items that taste like meat in order to stop the raising of animals for food purposes.#eatingmeat4_so_Feedback_2#eatingmeat4_so_Feedback_2\n",
      "Methane from cow burps harms the environment, but feeding the cows seaweed helps reduce the methane released.#eatingmeat4_but_Feedback_13#eatingmeat4_but_Feedback_13\n",
      "Methane from cow burps harms the environment, but we could reduce that by feeding them seaweed.#eatingmeat4_but_Feedback_13#eatingmeat4_but_Feedback_13\n",
      "Methane from cow burps harms the environment, so it is suggested that if cows be fed seaweed in order to reduce gas emissions.#eatingmeat4_so_Feedback_10#eatingmeat4_so_Feedback_10\n",
      "Methane from cow burps harms the environment, so we can either change the cows diet or not the cow so there are less cows needed.#eatingmeat4_so_Feedback_10#eatingmeat4_so_Feedback_10\n",
      "Methane from cow burps harms the environment, so the company Impossible Foods has created an alternative plant-based \"meat\" that looks and tastes like meat without the harmful side effects.#eatingmeat4_so_Feedback_2#eatingmeat4_so_Feedback_2\n",
      "Methane from cow burps harms the environment because it releases methane and the gas causes the earths temperature to rise.#eatingmeat4_because_Feedback_5#eatingmeat4_because_Feedback_5\n",
      "Methane from cow burps harms the environment, but cows can consume seaweed to change the release of methane#eatingmeat4_but_Feedback_13#eatingmeat4_but_Feedback_13\n",
      "Methane from cow burps harms the environment because it produces a greenhouse gas and warms the earth.#eatingmeat4_because_Feedback_4#eatingmeat4_because_Feedback _6\n",
      "Methane from cow burps harms the environment because it goes into the atmosphere and causes global warming.#eatingmeat4_because_Feedback_1#eatingmeat4_because_Feedback_1\n",
      "Methane from cow burps harms the environment because they apparently release green house gasses into the atmosphere#eatingmeat4_because_Feedback_5#eatingmeat4_because_Feedback_5\n",
      "Methane from cow burps harms the environment because environment is first.#eatingmeat4_because_Feedback_8#eatingmeat4_because_Feedback_8\n",
      "Methane from cow burps harms the environment, so companies such as Impossible Foods have introduced a plant-based meat substitute that many people cannot distinguish from real meat.#eatingmeat4_so_Feedback_2#eatingmeat4_so_Feedback_2\n",
      "Methane from cow burps harms the environment because the methane produced is such a quantity that it causes temperatures to rise.#eatingmeat4_because_Feedback_1#eatingmeat4_because_Feedback_1\n",
      "Methane from cow burps harms the environment because about 1.5 billion cows produce 30-50 gallons of greenhouse gas methane this way.#eatingmeat4_because_Feedback_5#eatingmeat4_because_Feedback_5\n",
      "Methane from cow burps harms the environment, so reducing the numbers of animals that are raised for food, including cows, could have a positive impact on the environment.#eatingmeat4_so_Feedback_9#eatingmeat4_so_Feedback_10\n",
      "Methane from cow burps harms the environment, but people like the taste of meat and don't want to change their diets.#eatingmeat4_but_Feedback_7#eatingmeat4_but_Feedback_7\n",
      "Methane from cow burps harms the environment, but not everyone wants to end animal agriculture.#eatingmeat4_but_Feedback_2#eatingmeat4_but_Feedback_2\n",
      "Methane from cow burps harms the environment because methane gasses cause the earth's temperature to rise, contributing to global warming.#eatingmeat4_because_Feedback_1#eatingmeat4_because_Feedback_1\n",
      "Methane from cow burps harms the environment, but not everyone agrees on how to address this issue.#eatingmeat4_but_Feedback_2#eatingmeat4_but_Feedback_2\n",
      "Methane from cow burps harms the environment, but because they eat seaweed they release less than 99% less methane.#eatingmeat4_but_Feedback_13#eatingmeat4_but_Feedback_13\n",
      "Methane from cow burps harms the environment, but at a low percentage relative to other Global Warning contributers.#eatingmeat4_but_Feedback_4#eatingmeat4_but_Feedback_4\n",
      "Methane from cow burps harms the environment, but there are things both farmers and consumers can do in order to decrease the amount of methane cows produce.#eatingmeat4_but_Feedback_3#eatingmeat4_but_Feedback_3\n",
      "Methane from cow burps harms the environment, but the methane produced is only 14.5% of the world's greenhouse gases.#eatingmeat4_but_Feedback_1#eatingmeat4_but_Feedback_1\n",
      "Methane from cow burps harms the environment, so a solution should be applied.#eatingmeat4_so_Feedback_9#eatingmeat4_so_Feedback_9\n",
      "Methane from cow burps harms the environment, but it's only roughly 15% of the overall problem.#eatingmeat4_but_Feedback_1#eatingmeat4_but_Feedback_4\n",
      "Methane from cow burps harms the environment, so a great alternative is plant-based meat substitutes.#eatingmeat4_so_Feedback_9#eatingmeat4_so_Feedback_9\n",
      "Methane from cow burps harms the environment, but with the introduction of plant-based meats, this problem can be alleviated.#eatingmeat4_but_Feedback_6#eatingmeat4_but_Feedback_6\n",
      "Methane from cow burps harms the environment, so the company impossible foods wants to end the problem by 2035 by creating plant based meats.#eatingmeat4_so_Feedback_2#eatingmeat4_so_Feedback_2\n",
      "Methane from cow burps harms the environment, so some people think we should cut back on animal agriculture and eat Impossible burgers instead of beef#eatingmeat4_so_Feedback_9#eatingmeat4_so_Feedback_2\n",
      "Methane from cow burps harms the environment, so we should stop eating cows#eatingmeat4_so_Feedback_9#eatingmeat4_so_Feedback_9\n",
      "Methane from cow burps harms the environment because they release just under 15% of all greenhouse gasses, which contribute to climate change.#eatingmeat4_because_Feedback_7#eatingmeat4_because_Feedback_7\n",
      "Methane from cow burps harms the environment, so changing cow diets can help in reducing global warming#eatingmeat4_so_Feedback_10#eatingmeat4_so_Feedback_10\n",
      "Methane from cow burps harms the environment, but BY MAKING DIFFERENT FEED CHOICES, IT WILL REDUCE EFFECTS OF METHANE.#eatingmeat4_but_Feedback_9#eatingmeat4_but_Feedback_9\n",
      "Methane from cow burps harms the environment, but so do other aspects of animal agriculture and the practice of raising animals for food purposes.#eatingmeat4_but_Feedback_4#eatingmeat4_but_Feedback_4\n",
      "Methane from cow burps harms the environment because it causes a rise in the earth's temperature#eatingmeat4_because_Feedback_1#eatingmeat4_because_Feedback_1\n",
      "Methane from cow burps harms the environment because it causes the earths temperature to rise.#eatingmeat4_because_Feedback_1#eatingmeat4_because_Feedback_1\n",
      "Methane from cow burps harms the environment, but are not a direct link to global warming.#eatingmeat4_but_Feedback_7#eatingmeat4_but_Feedback_4\n",
      "Methane from cow burps harms the environment, so some people believe that is an argument for reducing meat consumption.#eatingmeat4_so_Feedback_9#eatingmeat4_so_Feedback_8\n",
      "Methane from cow burps harms the environment because they release green house gases.#eatingmeat4_because_Feedback_5#eatingmeat4_because_Feedback_5\n",
      "Methane from cow burps harms the environment, so we should support Impossible Food's goal of ending animal agriculture.#eatingmeat4_so_Feedback_9#eatingmeat4_so_Feedback_9\n",
      "Methane from cow burps harms the environment because it adds to the greenhouse gases that harm the ozone. .#eatingmeat4_because_Feedback_9#eatingmeat4_because_Feedback _6\n",
      "Methane from cow burps harms the environment, so people should eat less meat and try a meat alternative such as impossible foods products.#eatingmeat4_so_Feedback_9#eatingmeat4_so_Feedback_9\n",
      "Methane from cow burps harms the environment because it cause the Earth's temperature to rise in a process known as global warming.#eatingmeat4_because_Feedback_1#eatingmeat4_because_Feedback_1\n",
      "Methane from cow burps harms the environment, but the amount of methane released could be reduced by adding seaweed to cow's diets.#eatingmeat4_but_Feedback_13#eatingmeat4_but_Feedback_13\n",
      "Methane from cow burps harms the environment, so we need to look for ways to mitigate the risk by 2035.#eatingmeat4_so_Feedback_9#eatingmeat4_so_Feedback_9\n",
      "Methane from cow burps harms the environment, but we may be able to reduce cow burps by feeding them seaweed, which research has shown reduces methane released from cow burps by 99%.#eatingmeat4_but_Feedback_13#eatingmeat4_but_Feedback_13\n",
      "Methane from cow burps harms the environment, so considering alternatives like the 'impossible meat-alternative' burger is a good idea for society.#eatingmeat4_so_Feedback_9#eatingmeat4_so_Feedback_9\n",
      "Methane from cow burps harms the environment because ethane causes global warming which is bad for the planet in many ways.#eatingmeat4_because_Feedback_1#eatingmeat4_because_Feedback_1\n",
      "Methane from cow burps harms the environment because as a collective 1.5ish million cows release 30-50 gallons of greenhouse gases (approximately 14% of all greenhouse gases) that contribute to global warming.#eatingmeat4_because_Feedback_5#eatingmeat4_because_Feedback_7\n",
      "Methane from cow burps harms the environment, but does global warming which leads to droughts, heat waves, wildfires, and floods.#eatingmeat4_but_Feedback_8#eatingmeat4_but_Feedback_8\n",
      "Methane from cow burps harms the environment, so we should consider switching to a more plant based diet and reducing that amount of agriculture induced global warming.#eatingmeat4_so_Feedback_9#eatingmeat4_so_Feedback_9\n",
      "Methane from cow burps harms the environment because it is a gas that contributes to global warming.#eatingmeat4_because_Feedback_1#eatingmeat4_because_Feedback_1\n",
      "Methane from cow burps harms the environment because the burps contain a lot of methane, a green house gas.#eatingmeat4_because_Feedback_5#eatingmeat4_because_Feedback_5\n",
      "Methane from cow burps harms the environment because it produces methane gas.#eatingmeat4_because_Feedback_4#eatingmeat4_because_Feedback_5\n",
      "Methane from cow burps harms the environment because they release methane gas, which is a greenhouse gas, into the atmosphere.#eatingmeat4_because_Feedback_5#eatingmeat4_because_Feedback_5\n",
      "Methane from cow burps harms the environment, so we must create solutions on how we can address animal agriculture.#eatingmeat4_so_Feedback_9#eatingmeat4_so_Feedback_9\n",
      "Methane from cow burps harms the environment because it produces greenhouse gases which are contributing to global warming.#eatingmeat4_because_Feedback_4#eatingmeat4_because_Feedback_4\n",
      "Methane from cow burps harms the environment, so eating cow as meat can reduce it.#eatingmeat4_so_Feedback_8#eatingmeat4_so_Feedback_9\n",
      "Methane from cow burps harms the environment because cows burp about 30-50 gallons of methane gas into the atmosphere each day.#eatingmeat4_because_Feedback_5#eatingmeat4_because_Feedback_5\n",
      "Methane from cow burps harms the environment, so the impossible company aims to end meat consumption by creating imitation meat products.#eatingmeat4_so_Feedback_2#eatingmeat4_so_Feedback_2\n",
      "Methane from cow burps harms the environment, so we should try to find ways to prevent that like feeding cows seaweed which helps them release 99% less methane in their burps.#eatingmeat4_so_Feedback_10#eatingmeat4_so_Feedback_10\n",
      "Methane from cow burps harms the environment because the nice.#eatingmeat4_because_Feedback_8#eatingmeat4_because_Feedback_8\n",
      "Methane from cow burps harms the environment, but seaweed releases less methan.#eatingmeat4_but_Feedback_13#eatingmeat4_but_Feedback_13\n",
      "Methane from cow burps harms the environment, but this isn't your typical farm – in fact, it's a laboratory.#eatingmeat4_but_Feedback_7#eatingmeat4_but_Feedback_7\n",
      "Methane from cow burps harms the environment, so we need to significantly reduce bovine methane emissions#eatingmeat4_so_Feedback_9#eatingmeat4_so_Feedback_9\n",
      "Methane from cow burps harms the environment, but by eating seawood the methane in their burps is reduced 99 percent.#eatingmeat4_but_Feedback_13#eatingmeat4_but_Feedback_13\n",
      "Methane from cow burps harms the environment, so we should all come together to try to envision a solution that works for everyone, non-meat and meat eaters alike.#eatingmeat4_so_Feedback_9#eatingmeat4_so_Feedback_9\n",
      "Methane from cow burps harms the environment, but modifying their diets such as adding seaweed lessens the amount of methane burped.#eatingmeat4_but_Feedback_13#eatingmeat4_but_Feedback_13\n",
      "Methane from cow burps harms the environment, so another solution lies in what farmers feed cows#eatingmeat4_so_Feedback_10#eatingmeat4_so_Feedback_10\n",
      "Methane from cow burps harms the environment because it increases the amount of methane in the atmosphere.#eatingmeat4_because_Feedback_5#eatingmeat4_because_Feedback_5\n",
      "Methane from cow burps harms the environment, so feed them seaweed.#eatingmeat4_so_Feedback_10#eatingmeat4_so_Feedback_10\n",
      "Methane from cow burps harms the environment, so companies are trying to reduce this harm by creating plant based meats.#eatingmeat4_so_Feedback_2#eatingmeat4_so_Feedback_2\n",
      "Methane from cow burps harms the environment, so we must protect it#eatingmeat4_so_Feedback_9#eatingmeat4_so_Feedback_9\n",
      "Methane from cow burps harms the environment because it is a greenhouse gas.#eatingmeat4_because_Feedback _6#eatingmeat4_because_Feedback _6\n",
      "Methane from cow burps harms the environment because each cow on the planet burps out up to 50 gallons of methane a day, a gas which leads to the greenhouse effects harm.#eatingmeat4_because_Feedback_9#eatingmeat4_because_Feedback_5\n",
      "Methane from cow burps harms the environment, so researchers have come up with alternative foods.#eatingmeat4_so_Feedback_2#eatingmeat4_so_Feedback_2\n",
      "Methane from cow burps harms the environment, so to address this problem, creating plant-based \"meats\" that have the look, taste, and texture of real meat, is necessary to reduce the amount of greenhouse gas emissions caused by animal agriculture.#eatingmeat4_so_Feedback_9#eatingmeat4_so_Feedback_9\n",
      "Methane from cow burps harms the environment because this gas causes Earth's temperature to rise in the process we know as global warming.#eatingmeat4_because_Feedback_1#eatingmeat4_because_Feedback_1\n",
      "Methane from cow burps harms the environment because it raises the Earth's temperature and causes global warming.#eatingmeat4_because_Feedback_1#eatingmeat4_because_Feedback_1\n",
      "Methane from cow burps harms the environment, but we could start eating plant based meat which reduce greenhouse gas emissions.#eatingmeat4_but_Feedback_6#eatingmeat4_but_Feedback_6\n",
      "Methane from cow burps harms the environment, so it is necessary to end animal agriculture or feed the cows with seaweed as part of their diets, released up to 99% less methane in their belching.#eatingmeat4_so_Feedback_10#eatingmeat4_so_Feedback_10\n",
      "Methane from cow burps harms the environment, but so does other activities like volcanoes and driving cars.#eatingmeat4_but_Feedback_7#eatingmeat4_but_Feedback_8\n",
      "Methane from cow burps harms the environment, so we can consume less beef and eat more impossible burgers.#eatingmeat4_so_Feedback_9#eatingmeat4_so_Feedback_9\n",
      "Methane from cow burps harms the environment, so farmers and scientists should come up with an alternative method in feeding cows or replace that part of agriculture with plant based meat products.#eatingmeat4_so_Feedback_10#eatingmeat4_so_Feedback_10\n",
      "Methane from cow burps harms the environment because It releases methane gas into our environment.#eatingmeat4_because_Feedback_5#eatingmeat4_because_Feedback_5\n",
      "Methane from cow burps harms the environment, but less methane is released when cows eat other foods like seaweed.#eatingmeat4_but_Feedback_13#eatingmeat4_but_Feedback_13\n",
      "Methane from cow burps harms the environment, but this can be reduced by changing what the cow eats.#eatingmeat4_but_Feedback_9#eatingmeat4_but_Feedback_9\n",
      "Methane from cow burps harms the environment, but adding seaweed to their diets helps reduce this.#eatingmeat4_but_Feedback_13#eatingmeat4_but_Feedback_13\n",
      "Methane from cow burps harms the environment, but there are some feed alternatives to significantly lower this effect.#eatingmeat4_but_Feedback_9#eatingmeat4_but_Feedback_3\n",
      "Methane from cow burps harms the environment, so we should do what we can to limit our meat consumption and production.#eatingmeat4_so_Feedback_9#eatingmeat4_so_Feedback_9\n",
      "Methane from cow burps harms the environment, so an alternative method such as beef substitutes or changing the cow's diet is necessary.#eatingmeat4_so_Feedback_10#eatingmeat4_so_Feedback_10\n",
      "Methane from cow burps harms the environment, but if cows consumed seaweeds as part of their daily diets the problems would be diminished.#eatingmeat4_but_Feedback_13#eatingmeat4_but_Feedback_13\n",
      "Methane from cow burps harms the environment, so we should either find a substitute for beef or change what the cows are fed.#eatingmeat4_so_Feedback_10#eatingmeat4_so_Feedback_10\n",
      "Methane from cow burps harms the environment, but the best solution to the problem has not been agreed upon.#eatingmeat4_but_Feedback_2#eatingmeat4_but_Feedback_2\n",
      "Methane from cow burps harms the environment because their burps contain methane.#eatingmeat4_because_Feedback_5#eatingmeat4_because_Feedback_5\n",
      "Methane from cow burps harms the environment, but part of the solution might be replacing part of their diet, reducing the amount of methane they produce.#eatingmeat4_but_Feedback_9#eatingmeat4_but_Feedback_9\n",
      "Methane from cow burps harms the environment because cow burps release methane gas which causes harm to the Earth's atmosphere.#eatingmeat4_because_Feedback_5#eatingmeat4_because_Feedback_5\n",
      "Methane from cow burps harms the environment, so mitigating gas release via a diet change, or changing people's eating habits away from meat, must be considered.#eatingmeat4_so_Feedback_10#eatingmeat4_so_Feedback_10\n",
      "Methane from cow burps harms the environment, but if we changed their diet to seaweed it would reduced up to 99% of methane that is released now#eatingmeat4_but_Feedback_13#eatingmeat4_but_Feedback_13\n",
      "Methane from cow burps harms the environment, but if we change what the cows are fed this could make a difference.#eatingmeat4_but_Feedback_13#eatingmeat4_but_Feedback_9\n",
      "Methane from cow burps harms the environment, so alternative methods of feeding have been proposed such as seaweed #eatingmeat4_so_Feedback_11#eatingmeat4_so_Feedback_3\n",
      "Methane from cow burps harms the environment because it is a powerful greenhouse gas and collectively contributes to a large percentage of total greenhouse gases.#eatingmeat4_because_Feedback_3#eatingmeat4_because_Feedback _6\n",
      "Methane from cow burps harms the environment, but if the cows are fed seaweed, then they tend to burp a whole lot less.#eatingmeat4_but_Feedback_11#eatingmeat4_but_Feedback_13\n",
      "Methane from cow burps harms the environment because gas causes earth's temperatures to rise in an effect called global warming.#eatingmeat4_because_Feedback_1#eatingmeat4_because_Feedback_1\n",
      "Methane from cow burps harms the environment, but there are other solutions to this besides not reducing the number of breathing cows.#eatingmeat4_but_Feedback_3#eatingmeat4_but_Feedback_7\n",
      "Methane from cow burps harms the environment, so the effects of global warming are increased.#eatingmeat4_so_Feedback_7#eatingmeat4_so_Feedback_7\n",
      "Methane from cow burps harms the environment, so eating alternative plant-based meats will help reduce the global cow population, resulting in less methane being released.#eatingmeat4_so_Feedback_9#eatingmeat4_so_Feedback_10\n",
      "Methane from cow burps harms the environment because each cow belches approximately 50 gallons of methane per year which contributes to air pollution as well as global warming.#eatingmeat4_because_Feedback_5#eatingmeat4_because_Feedback_5\n",
      "Methane from cow burps harms the environment, but there are ways to reduce this amount including eating less cow meat or feeding cows seaweed.#eatingmeat4_but_Feedback_13#eatingmeat4_but_Feedback_13\n",
      "Methane from cow burps harms the environment, so impossible foods plans to stop agriculture by 2035.#eatingmeat4_so_Feedback_2#eatingmeat4_so_Feedback_2\n",
      "Methane from cow burps harms the environment, but a diet that includes seaweed reduces gas output from cows#eatingmeat4_but_Feedback_11#eatingmeat4_but_Feedback_13\n",
      "Methane from cow burps harms the environment, but we can eat meat alternatives like impossible foods.#eatingmeat4_but_Feedback_5#eatingmeat4_but_Feedback_5\n",
      "Methane from cow burps harms the environment, but we can lower the concentration of methane by changing what we feed the cows.#eatingmeat4_but_Feedback_9#eatingmeat4_but_Feedback_9\n",
      "Methane from cow burps harms the environment because methane is linked to global warming.#eatingmeat4_because_Feedback_1#eatingmeat4_because_Feedback_1\n",
      "Methane from cow burps harms the environment, but the good.#eatingmeat4_but_Feedback_7#eatingmeat4_but_Feedback_7\n",
      "Methane from cow burps harms the environment, so we should change cow's diets to reduce the amount of methane produced.#eatingmeat4_so_Feedback_10#eatingmeat4_so_Feedback_10\n",
      "Methane from cow burps harms the environment, but we could reduce the amount of gas cows produce, by feeding them seaweed by one-third.#eatingmeat4_but_Feedback_11#eatingmeat4_but_Feedback_13\n",
      "Methane from cow burps harms the environment, so people should not eat meat at all.#eatingmeat4_so_Feedback_9#eatingmeat4_so_Feedback_9\n",
      "Methane from cow burps harms the environment, but nothing.#eatingmeat4_but_Feedback_7#eatingmeat4_but_Feedback_7\n",
      "Methane from cow burps harms the environment because it contributes to the global warming process.#eatingmeat4_because_Feedback_1#eatingmeat4_because_Feedback_1\n",
      "Methane from cow burps harms the environment, but there are option for feeding the cows a diet that reduces the methane by 99%.#eatingmeat4_but_Feedback_13#eatingmeat4_but_Feedback_9\n",
      "Methane from cow burps harms the environment because it causes the earth's temperature to rise through the process of global warming.#eatingmeat4_because_Feedback_1#eatingmeat4_because_Feedback_1\n",
      "Methane from cow burps harms the environment, but not everyone agrees about that.#eatingmeat4_but_Feedback_7#eatingmeat4_but_Feedback_2\n",
      "Methane from cow burps harms the environment, but maybe a change in diet could lead to a solution.#eatingmeat4_but_Feedback_9#eatingmeat4_but_Feedback_9\n",
      "Methane from cow burps harms the environment because the methane is released into the atmosphere and it contributes to global warming creating weather extremes around the world.#eatingmeat4_because_Feedback_2#eatingmeat4_because_Feedback_2\n",
      "Methane from cow burps harms the environment, so we should work to reduce methane release from cow burps, which is possible in many different ways.#eatingmeat4_so_Feedback_10#eatingmeat4_so_Feedback_10\n",
      "Methane from cow burps harms the environment, but this can be easily reduced by adding seaweed to cow's diets.#eatingmeat4_but_Feedback_13#eatingmeat4_but_Feedback_13\n",
      "Methane from cow burps harms the environment because this gas causes the earth's temperature to rise#eatingmeat4_because_Feedback_1#eatingmeat4_because_Feedback_1\n",
      "Methane from cow burps harms the environment, so it is the better that we raise less animals for food purpose.#eatingmeat4_so_Feedback_9#eatingmeat4_so_Feedback_9\n",
      "Methane from cow burps harms the environment, so This gas causes Earth's temperature to rise in a process called global warming#eatingmeat4_so_Feedback_7#eatingmeat4_so_Feedback_7\n",
      "Methane from cow burps harms the environment, so Impossible Foods wants to eliminate meat agriculture by 2035.#eatingmeat4_so_Feedback_2#eatingmeat4_so_Feedback_2\n",
      "Methane from cow burps harms the environment because with the amount of cows on this planet, they aid in global warming.#eatingmeat4_because_Feedback_5#eatingmeat4_because_Feedback_5\n",
      "Methane from cow burps harms the environment, but it could be possible to change what exactly the cows do burp out, by changing what we feed them.#eatingmeat4_but_Feedback_9#eatingmeat4_but_Feedback_13\n",
      "Methane from cow burps harms the environment, but there may be a solution to this.#eatingmeat4_but_Feedback_3#eatingmeat4_but_Feedback_3\n",
      "Methane from cow burps harms the environment because it increases Earth's temperature.#eatingmeat4_because_Feedback_1#eatingmeat4_because_Feedback_1\n",
      "Methane from cow burps harms the environment, so we should consider what we feed cows and what we eat.#eatingmeat4_so_Feedback_10#eatingmeat4_so_Feedback_10\n",
      "Methane from cow burps harms the environment, but it is possible to reduce the amount each cow burps methane by adding seaweed to their diet.#eatingmeat4_but_Feedback_13#eatingmeat4_but_Feedback_13\n",
      "Methane from cow burps harms the environment because it the temperature to go up.#eatingmeat4_because_Feedback_1#eatingmeat4_because_Feedback_1\n",
      "Methane from cow burps harms the environment, but feeding cows seaweed as part of their diet can reduce the amount of methane in their burps by 99%.#eatingmeat4_but_Feedback_13#eatingmeat4_but_Feedback_13\n",
      "Methane from cow burps harms the environment, but researchers have found a solution to incorporate seaweed into the cows diet to minimize the burps.#eatingmeat4_but_Feedback_13#eatingmeat4_but_Feedback_13\n",
      "Methane from cow burps harms the environment, so we need to doing SOMETHING about it, either reduce or eliminate.#eatingmeat4_so_Feedback_9#eatingmeat4_so_Feedback_9\n",
      "Methane from cow burps harms the environment, but produce about 14.5% of world's greenhouse gases.#eatingmeat4_but_Feedback_1#eatingmeat4_but_Feedback_1\n",
      "Methane from cow burps harms the environment, so we should find ways to reduce the consumption of cow.#eatingmeat4_so_Feedback_9#eatingmeat4_so_Feedback_9\n",
      "Methane from cow burps harms the environment, so we shoukd look at ways to lessen this impact on the environment#eatingmeat4_so_Feedback_9#eatingmeat4_so_Feedback_9\n",
      "Methane from cow burps harms the environment because they add to global warming by introducing more methane gas.#eatingmeat4_because_Feedback_1#eatingmeat4_because_Feedback_5\n",
      "Methane from cow burps harms the environment, so we must look to plant-based meats instead or change what we feed cows.#eatingmeat4_so_Feedback_10#eatingmeat4_so_Feedback_10\n",
      "Methane from cow burps harms the environment, but scientist have created other option to lessen impact on greenhouse gases#eatingmeat4_but_Feedback_3#eatingmeat4_but_Feedback_3\n",
      "Methane from cow burps harms the environment because methane is an important greenhouse gas.#eatingmeat4_because_Feedback _6#eatingmeat4_because_Feedback _6\n",
      "Methane from cow burps harms the environment, but People can eat plant based meats.#eatingmeat4_but_Feedback_10#eatingmeat4_but_Feedback_7\n",
      "Methane from cow burps harms the environment, but an alternative plant-based meat has been created by the company Impossible.#eatingmeat4_but_Feedback_8#eatingmeat4_but_Feedback_5\n",
      "Methane from cow burps harms the environment because after time is causes the global warming from the 30-50 pounds of greenhouse methane gas.#eatingmeat4_because_Feedback_7#eatingmeat4_because_Feedback_1\n",
      "Methane from cow burps harms the environment, but it can be significantly reduced by including seaweed in their diet.#eatingmeat4_but_Feedback_13#eatingmeat4_but_Feedback_13\n",
      "Methane from cow burps harms the environment, so Burger King and White Castle are now serving Impossible Burgers.#eatingmeat4_so_Feedback_6#eatingmeat4_so_Feedback_2\n",
      "Methane from cow burps harms the environment, so scientists are looking for alternative solutions.#eatingmeat4_so_Feedback_1#eatingmeat4_so_Feedback_1\n",
      "Methane from cow burps harms the environment because the burps contain methane, a greenhouse case thus contributing to global warming.#eatingmeat4_because_Feedback_5#eatingmeat4_because_Feedback_5\n",
      "Methane from cow burps harms the environment, so we should consider moving towards plant-based diets instead.#eatingmeat4_so_Feedback_9#eatingmeat4_so_Feedback_9\n",
      "Methane from cow burps harms the environment, but the methane can be reduced by 99% if they eat seaweed instead.#eatingmeat4_but_Feedback_13#eatingmeat4_but_Feedback_13\n",
      "Methane from cow burps harms the environment because the cows' burps emit the greenhouse gas methane.#eatingmeat4_because_Feedback_5#eatingmeat4_because_Feedback_5\n",
      "Methane from cow burps harms the environment, but farmers can feed their cows seaweed to reduce the amount of Methane cows burp;#eatingmeat4_but_Feedback_13#eatingmeat4_but_Feedback_13\n",
      "Methane from cow burps harms the environment because it causes temperatures to rise.#eatingmeat4_because_Feedback_1#eatingmeat4_because_Feedback_1\n",
      "Methane from cow burps harms the environment, so we should feed them seaweed.#eatingmeat4_so_Feedback_10#eatingmeat4_so_Feedback_10\n",
      "Methane from cow burps harms the environment, but it can be reduced by feeding the cows seaweed instead, which would cut down on the methane from their burps by up to 99%.#eatingmeat4_but_Feedback_13#eatingmeat4_but_Feedback_13\n",
      "Methane from cow burps harms the environment because they are a greenhouse gas.#eatingmeat4_because_Feedback _6#eatingmeat4_because_Feedback_5\n",
      "Methane from cow burps harms the environment, so Impossible Foods is creating plant-based \"meats\" to reduce methane emissions.#eatingmeat4_so_Feedback_2#eatingmeat4_so_Feedback_2\n",
      "Methane from cow burps harms the environment, but it can be lowered by substituting cow meat by plant made meats.#eatingmeat4_but_Feedback_6#eatingmeat4_but_Feedback_6\n",
      "Methane from cow burps harms the environment because 1.5 billion cows release 30-50 gallons of greenhouse gas methane when they burp into the environment and this contributes to global warming.#eatingmeat4_because_Feedback_5#eatingmeat4_because_Feedback_5\n",
      "Methane from cow burps harms the environment because it causes the earth's temperature to rise what is also called global warming.#eatingmeat4_because_Feedback_1#eatingmeat4_because_Feedback_1\n",
      "Methane from cow burps harms the environment, so to good#eatingmeat4_so_Feedback_8#eatingmeat4_so_Feedback_8\n",
      "Methane from cow burps harms the environment, so considering eating more plant based produced foods could be an option to reduce the production of meat.#eatingmeat4_so_Feedback_9#eatingmeat4_so_Feedback_9\n",
      "Methane from cow burps harms the environment, but meat alternatives cause much less harm.#eatingmeat4_but_Feedback_6#eatingmeat4_but_Feedback_6\n",
      "Methane from cow burps harms the environment, but there may be alternatives buy changing what cows eat so that they burp less methane.#eatingmeat4_but_Feedback_9#eatingmeat4_but_Feedback_9\n",
      "Methane from cow burps harms the environment because the release of methane causes the Earth's temperature to rise in a process called global warming.#eatingmeat4_because_Feedback_1#eatingmeat4_because_Feedback_1\n",
      "Methane from cow burps harms the environment because the green house gas emissions#eatingmeat4_because_Feedback_8#eatingmeat4_because_Feedback _6\n",
      "Methane from cow burps harms the environment, but Every day, each of the world’s 1.5 billion cows burps out 30-50 gallons of the greenhouse gas methane.#eatingmeat4_but_Feedback_8#eatingmeat4_but_Feedback_7\n",
      "Methane from cow burps harms the environment, but recent research has shown that when cows consume seaweed as part of their diets, they release up to 99% less methane in their burps, this solution could reduce about one-third of greenhouse gas emissions caused by animal agriculture.#eatingmeat4_but_Feedback_13#eatingmeat4_but_Feedback_13\n",
      "Methane from cow burps harms the environment, but this harm could be reduced by switching cows to a different diet.#eatingmeat4_but_Feedback_9#eatingmeat4_but_Feedback_9\n",
      "Methane from cow burps harms the environment, so changing the cows diet, and lowering the cow population by relying a little more on meatless protein options will help elevate this issue.#eatingmeat4_so_Feedback_10#eatingmeat4_so_Feedback_10\n",
      "Methane from cow burps harms the environment, so we should give them seaweed as part of their diet.#eatingmeat4_so_Feedback_10#eatingmeat4_so_Feedback_10\n",
      "Methane from cow burps harms the environment because they release co2#eatingmeat4_because_Feedback_10#eatingmeat4_because_Feedback_8\n",
      "Methane from cow burps harms the environment, so they say farming is damaging the earth.#eatingmeat4_so_Feedback_7#eatingmeat4_so_Feedback_8\n",
      "Methane from cow burps harms the environment, so reducing the amount they burp is important to reduce the greenhouse-gasses.#eatingmeat4_so_Feedback_9#eatingmeat4_so_Feedback_10\n",
      "Methane from cow burps harms the environment, so we should look at other solutions to the practice.#eatingmeat4_so_Feedback_9#eatingmeat4_so_Feedback_9\n",
      "Methane from cow burps harms the environment because it causes the Earth's temperatures to rise.#eatingmeat4_because_Feedback_1#eatingmeat4_because_Feedback_1\n",
      "Methane from cow burps harms the environment because the gas causes the temperature of the environment to rise through the process of global warming.#eatingmeat4_because_Feedback_1#eatingmeat4_because_Feedback_1\n",
      "Methane from cow burps harms the environment because each of the world’s 1.5 billion cows burps out 30-50 gallons of the greenhouse gas methane, which causes Earth's temperature to rise in a process called global warming.#eatingmeat4_because_Feedback_5#eatingmeat4_because_Feedback_5\n",
      "Methane from cow burps harms the environment, so This solution emissions caused by animal agriculture.#eatingmeat4_so_Feedback_8#eatingmeat4_so_Feedback_8\n",
      "Methane from cow burps harms the environment, so we should change their date#eatingmeat4_so_Feedback_9#eatingmeat4_so_Feedback_9\n",
      "Methane from cow burps harms the environment, so we should limit the amount of methane produced.#eatingmeat4_so_Feedback_9#eatingmeat4_so_Feedback_9\n",
      "Methane from cow burps harms the environment, so some think we should not allow meat eating#eatingmeat4_so_Feedback_9#eatingmeat4_so_Feedback_2\n",
      "Methane from cow burps harms the environment, so we should feed the cows seaweed.#eatingmeat4_so_Feedback_10#eatingmeat4_so_Feedback_10\n",
      "Methane from cow burps harms the environment, so animal agriculture should be ended#eatingmeat4_so_Feedback_9#eatingmeat4_so_Feedback_9\n",
      "Methane from cow burps harms the environment, so company's are trying to implement plant bases \"meats\".#eatingmeat4_so_Feedback_2#eatingmeat4_so_Feedback_2\n",
      "Methane from cow burps harms the environment because the gas causes the Earth's temperature to rise causing global warming.#eatingmeat4_because_Feedback_1#eatingmeat4_because_Feedback_1\n",
      "Methane from cow burps harms the environment, so we should raise fewer cows.#eatingmeat4_so_Feedback_9#eatingmeat4_so_Feedback_9\n",
      "Methane from cow burps harms the environment because it causes Earth's temperature to rise beyond an acceptable range.#eatingmeat4_because_Feedback_1#eatingmeat4_because_Feedback_1\n",
      "Methane from cow burps harms the environment because each burb produces the greenhouse gas methane.#eatingmeat4_because_Feedback_5#eatingmeat4_because_Feedback_5\n",
      "Methane from cow burps harms the environment, so scientist discovered the impossible meat that does not contain animal products.#eatingmeat4_so_Feedback_2#eatingmeat4_so_Feedback_2\n",
      "Methane from cow burps harms the environment, so scientists are giving the cows seaweed.#eatingmeat4_so_Feedback_11#eatingmeat4_so_Feedback_11\n",
      "Methane from cow burps harms the environment, but not everyone agrees on the best solution for change.#eatingmeat4_but_Feedback_2#eatingmeat4_but_Feedback_2\n",
      "Methane from cow burps harms the environment, but if the diets of cows were changed to include seaweed, cow burps might release up to 99% less methane.#eatingmeat4_but_Feedback_13#eatingmeat4_but_Feedback_13\n",
      "Methane from cow burps harms the environment because methane causes Earth's temperature to rise in a process called global warming.#eatingmeat4_because_Feedback_1#eatingmeat4_because_Feedback_1\n",
      "Methane from cow burps harms the environment, so a company called 'Impossible Foods' is trying to provide consumers with a plant based alternative.#eatingmeat4_so_Feedback_2#eatingmeat4_so_Feedback_2\n",
      "Methane from cow burps harms the environment because methane causes the earth's temperature to rise in a process called global warming.#eatingmeat4_because_Feedback_1#eatingmeat4_because_Feedback_1\n",
      "Methane from cow burps harms the environment because it causes global warming which is linked to an increase in extreme weather events#eatingmeat4_because_Feedback_2#eatingmeat4_because_Feedback_2\n",
      "Methane from cow burps harms the environment, so the practice of raising animals just for food has a cost in global warming#eatingmeat4_so_Feedback_7#eatingmeat4_so_Feedback_7\n",
      "Methane from cow burps harms the environment because they burp out great amounts of methane gas which aids in global warming.#eatingmeat4_because_Feedback_5#eatingmeat4_because_Feedback_5\n",
      "Methane from cow burps harms the environment, so companies like Impossible Foods want to end animal agriculture and replace traditional meat with plant-based meat to reduce greenhouse gas emissions.#eatingmeat4_so_Feedback_2#eatingmeat4_so_Feedback_2\n",
      "Methane from cow burps harms the environment, but this impact could possibly be reduced if the cows ate a diet supplemented with seaweed.#eatingmeat4_but_Feedback_13#eatingmeat4_but_Feedback_13\n",
      "Methane from cow burps harms the environment, so we should consider impossible meats in an effort to fix this problem#eatingmeat4_so_Feedback_9#eatingmeat4_so_Feedback_9\n",
      "Methane from cow burps harms the environment, so some establishments are moving toward plant based foods.#eatingmeat4_so_Feedback_6#eatingmeat4_so_Feedback_2\n",
      "Methane from cow burps harms the environment, so people should try to consume less meat, or farmers should find a better way of feeding cows so they produce less methane.#eatingmeat4_so_Feedback_10#eatingmeat4_so_Feedback_10\n",
      "Methane from cow burps harms the environment, but they could be fed different foods to change the percentage.#eatingmeat4_but_Feedback_9#eatingmeat4_but_Feedback_9\n",
      "Methane from cow burps harms the environment, so we should eat alternative meat to help it.#eatingmeat4_so_Feedback_9#eatingmeat4_so_Feedback_9\n",
      "Methane from cow burps harms the environment because it leads to global warming.#eatingmeat4_because_Feedback_1#eatingmeat4_because_Feedback_1\n",
      "Methane from cow burps harms the environment, but Impossible Foods have came up with a solution and it could get rid of farms and farm fed animals by selling grains that are grounded like meat, and They could do it by 2035#eatingmeat4_but_Feedback_5#eatingmeat4_but_Feedback_5\n",
      "Methane from cow burps harms the environment because it adds carbon to the atmospehre#eatingmeat4_because_Feedback_10#eatingmeat4_because_Feedback_8\n",
      "Methane from cow burps harms the environment, but with a change of the cows diet the burps can be stopped.#eatingmeat4_but_Feedback_9#eatingmeat4_but_Feedback_9\n",
      "Methane from cow burps harms the environment, so there should be steps taken to reduce the methane in the cows' systems by changing their diet, or reduce the number of cows on the planet.#eatingmeat4_so_Feedback_10#eatingmeat4_so_Feedback_10\n",
      "Methane from cow burps harms the environment because it increases earth temperature and causes global warming#eatingmeat4_because_Feedback_1#eatingmeat4_because_Feedback_1\n",
      "Methane from cow burps harms the environment, but switching the diet of cows to include seaweed reduces the greenhouse methane gases released by 99% and would greatly lower change of cow burps contributing to global warming.#eatingmeat4_but_Feedback_13#eatingmeat4_but_Feedback_13\n",
      "Methane from cow burps harms the environment, so Impossible Burger has developed a plant-based burger that tastes similar to beef.#eatingmeat4_so_Feedback_2#eatingmeat4_so_Feedback_2\n",
      "Methane from cow burps harms the environment, but feeding cows a diet of seaweed reduces up to 99% of burp methane.#eatingmeat4_but_Feedback_13#eatingmeat4_but_Feedback_13\n",
      "Methane from cow burps harms the environment, but ending animal agriculture is more important.#eatingmeat4_but_Feedback_7#eatingmeat4_but_Feedback_8\n",
      "Methane from cow burps harms the environment, but he is very good#eatingmeat4_but_Feedback_7#eatingmeat4_but_Feedback_7\n",
      "Methane from cow burps harms the environment because it releases methane into the air.#eatingmeat4_because_Feedback_5#eatingmeat4_because_Feedback_5\n",
      "Methane from cow burps harms the environment, but changing the cows' diet could reduce their methane emissions and decrease the rate of global warming.#eatingmeat4_but_Feedback_9#eatingmeat4_but_Feedback_9\n",
      "Methane from cow burps harms the environment, so they are creating plant based meats the impossible burger that produces 89 percent less greenhouse gases.#eatingmeat4_so_Feedback_2#eatingmeat4_so_Feedback_2\n",
      "Methane from cow burps harms the environment, but restaurants are beginning to introduce meat-alternatives#eatingmeat4_but_Feedback_10#eatingmeat4_but_Feedback_8\n",
      "Methane from cow burps harms the environment because This gas causes the Earth's temperature to rise in a process called global warming.#eatingmeat4_because_Feedback_1#eatingmeat4_because_Feedback_1\n",
      "Methane from cow burps harms the environment because it keeps the greenhouse gases in the atmosphere#eatingmeat4_because_Feedback _6#eatingmeat4_because_Feedback _6\n",
      "Methane from cow burps harms the environment, so we can change what we eat or we can change what the cows eat#eatingmeat4_so_Feedback_10#eatingmeat4_so_Feedback_10\n",
      "Methane from cow burps harms the environment, so some people think we should stop consuming beef and animal meat altogether in order to reduce their impact on the environment.#eatingmeat4_so_Feedback_9#eatingmeat4_so_Feedback_9\n",
      "Methane from cow burps harms the environment, but changing what they eat can reduce the amount of harm.#eatingmeat4_but_Feedback_9#eatingmeat4_but_Feedback_9\n",
      "Methane from cow burps harms the environment, so companies like Impossible Foods are creating plant based burgers to taste just like beef burgers.#eatingmeat4_so_Feedback_2#eatingmeat4_so_Feedback_2\n",
      "Methane from cow burps harms the environment, but it is possible to reduce the methane cows burp out by changing their diet to include seaweed.#eatingmeat4_but_Feedback_13#eatingmeat4_but_Feedback_13\n",
      "Methane from cow burps harms the environment, but this harm could be reduced by feeding cows seaweed.#eatingmeat4_but_Feedback_13#eatingmeat4_but_Feedback_13\n",
      "Methane from cow burps harms the environment because it generates greenhouse gas emissions.#eatingmeat4_because_Feedback_4#eatingmeat4_because_Feedback_4\n",
      "Methane from cow burps harms the environment because each of the world's 1.5 billion cows burps out 30-50 gallons of the green house gas each day, causing the temperature of the Earth to rise, speeding the process of global warming.#eatingmeat4_because_Feedback_5#eatingmeat4_because_Feedback_5\n",
      "Methane from cow burps harms the environment because methane contributes to rising temperatures that lead to global warming.#eatingmeat4_because_Feedback_1#eatingmeat4_because_Feedback_1\n",
      "Methane from cow burps harms the environment, so the Earth's temperature rises in a process called global warming, which scientists have linked global warming to an increase in extreme weather events such as droughts, heat waves, wildfires, and floods.#eatingmeat4_so_Feedback_7#eatingmeat4_so_Feedback_7\n",
      "Methane from cow burps harms the environment because methane causes the earth's temperature to rise known as global warming.#eatingmeat4_because_Feedback_1#eatingmeat4_because_Feedback_1\n",
      "Methane from cow burps harms the environment, but we can feed them seaweed to make their burps less harmful.#eatingmeat4_but_Feedback_13#eatingmeat4_but_Feedback_13\n",
      "Methane from cow burps harms the environment, but it Could be reduced by feeding cows different food.#eatingmeat4_but_Feedback_9#eatingmeat4_but_Feedback_13\n",
      "Methane from cow burps harms the environment because they are contributing to global warming.#eatingmeat4_because_Feedback_5#eatingmeat4_because_Feedback_5\n",
      "Methane from cow burps harms the environment, so some want to end animal agriculture by 2035.#eatingmeat4_so_Feedback_2#eatingmeat4_so_Feedback_2\n",
      "Methane from cow burps harms the environment, so we should either eat less meat or feed cows differently.#eatingmeat4_so_Feedback_10#eatingmeat4_so_Feedback_10\n",
      "Methane from cow burps harms the environment because it increases global warming as it's released into the atmosphere.#eatingmeat4_because_Feedback_1#eatingmeat4_because_Feedback_1\n",
      "Methane from cow burps harms the environment because it's create environmental Pollution.#eatingmeat4_because_Feedback_10#eatingmeat4_because_Feedback _6\n",
      "Methane from cow burps harms the environment, so environmentally focused fast food chains like Burger King and White Castle are adding plant based alternatives to traditionally meat based products, such as cheese burgers, in hopes to reduce the number of cows needed to supply current demand.#eatingmeat4_so_Feedback_6#eatingmeat4_so_Feedback_2\n",
      "Methane from cow burps harms the environment, so we can reduce the number of animals we raise for meat by providing meat alternatives or change the diet of the cows.#eatingmeat4_so_Feedback_10#eatingmeat4_so_Feedback_10\n",
      "Methane from cow burps harms the environment, so people need to work together to find ways to solve the problem.#eatingmeat4_so_Feedback_9#eatingmeat4_so_Feedback_9\n",
      "Methane from cow burps harms the environment because they emits greenhouse gases (estimated about 15%) and contribute to global warming.#eatingmeat4_because_Feedback_5#eatingmeat4_because_Feedback_5\n",
      "Methane from cow burps harms the environment, so we should find an alternate to animal agriculture.#eatingmeat4_so_Feedback_9#eatingmeat4_so_Feedback_9\n",
      "Methane from cow burps harms the environment, but Impossible Food wants to address this issue via meat alternatives.#eatingmeat4_but_Feedback_5#eatingmeat4_but_Feedback_5\n",
      "Methane from cow burps harms the environment because it releases green house gas methane.#eatingmeat4_because_Feedback_5#eatingmeat4_because_Feedback_5\n",
      "Methane from cow burps harms the environment because it transforms into carbon dioxide#eatingmeat4_because_Feedback_10#eatingmeat4_because_Feedback_8\n",
      "Methane from cow burps harms the environment, so another solution lies in what farmers feed cows.#eatingmeat4_so_Feedback_10#eatingmeat4_so_Feedback_10\n",
      "Methane from cow burps harms the environment because methane is a greenhouse gas that contributes to the rising of Earth's temperature which in turn causes severe weather around the world.#eatingmeat4_because_Feedback_2#eatingmeat4_because_Feedback_1\n",
      "Methane from cow burps harms the environment, so scientists have been testing different diets for cows #eatingmeat4_so_Feedback_11#eatingmeat4_so_Feedback_3\n",
      "Methane from cow burps harms the environment, so we can eat Impossible burgers that generate 89% fewer greenhouse gas emissions.#eatingmeat4_so_Feedback_9#eatingmeat4_so_Feedback_9\n",
      "Methane from cow burps harms the environment, so we should eat less meat so that that we decrease the number of demand for cows in the world.#eatingmeat4_so_Feedback_9#eatingmeat4_so_Feedback_9\n",
      "Methane from cow burps harms the environment because its a harmful greenhouse gas.#eatingmeat4_because_Feedback _6#eatingmeat4_because_Feedback _6\n",
      "Methane from cow burps harms the environment, so eating less meat is helpful to the environment.#eatingmeat4_so_Feedback_9#eatingmeat4_so_Feedback_9\n",
      "Methane from cow burps harms the environment, but an impossible burger generates 89% fewer greenhouse gases.#eatingmeat4_but_Feedback_5#eatingmeat4_but_Feedback_5\n",
      "Methane from cow burps harms the environment, so one third of green house gases would be reduced by feeding them lesss harmful food.#eatingmeat4_so_Feedback_10#eatingmeat4_so_Feedback_10\n",
      "Methane from cow burps harms the environment because it contributes 14.5% of the greenhouse gas in the environment.#eatingmeat4_because_Feedback_7#eatingmeat4_because_Feedback_7\n",
      "Methane from cow burps harms the environment, so another way to harm environment#eatingmeat4_so_Feedback_8#eatingmeat4_so_Feedback_9\n",
      "Methane from cow burps harms the environment, but if we feed cows seaweed in their diets we can reduce the amount of methane released by 99%#eatingmeat4_but_Feedback_13#eatingmeat4_but_Feedback_13\n",
      "Methane from cow burps harms the environment, so we should find ways to reduce the total amount of methane produced by cow burps.#eatingmeat4_so_Feedback_10#eatingmeat4_so_Feedback_10\n",
      "Methane from cow burps harms the environment, so you can either feed the cows differently or change the way us as people eat.#eatingmeat4_so_Feedback_10#eatingmeat4_so_Feedback_10\n",
      "Methane from cow burps harms the environment because it is a greenhouse gas that contributes to global warming.#eatingmeat4_because_Feedback_1#eatingmeat4_because_Feedback_1\n",
      "Methane from cow burps harms the environment because of the grass they feed off of.#eatingmeat4_because_Feedback_8#eatingmeat4_because_Feedback_5\n",
      "Methane from cow burps harms the environment because in the mere practice of raising these farm animals and feeding them, they have raised the level of greenhouse gas emissions by a staggering 14.5%#eatingmeat4_because_Feedback_4#eatingmeat4_because_Feedback_7\n",
      "Methane from cow burps harms the environment because gas causes Earth's temperature to rise in a process called global warming.#eatingmeat4_because_Feedback_1#eatingmeat4_because_Feedback_1\n",
      "Methane from cow burps harms the environment, so we should either use plant based meats or change the diet of cow to include seaweed.#eatingmeat4_so_Feedback_10#eatingmeat4_so_Feedback_10\n",
      "Methane from cow burps harms the environment because it is not regular#eatingmeat4_because_Feedback_10#eatingmeat4_because_Feedback_8\n",
      "Methane from cow burps harms the environment, so it causes earths temperature to rise which is called global warming#eatingmeat4_so_Feedback_7#eatingmeat4_so_Feedback_7\n",
      "Methane from cow burps harms the environment because it adds to greenhouse gases.#eatingmeat4_because_Feedback _6#eatingmeat4_because_Feedback _6\n",
      "Methane from cow burps harms the environment, so at the same time if the animals have good diet then it should safe#eatingmeat4_so_Feedback_10#eatingmeat4_so_Feedback_9\n",
      "Methane from cow burps harms the environment, so we must find a way to decrease the amount of methane they produce.#eatingmeat4_so_Feedback_10#eatingmeat4_so_Feedback_10\n",
      "Methane from cow burps harms the environment because it puts greenhouse gas emissions in the atmosphere.#eatingmeat4_because_Feedback _6#eatingmeat4_because_Feedback_4\n",
      "Methane from cow burps harms the environment because it contains methane, a gas which can raise the temperature of the enviornment#eatingmeat4_because_Feedback_5#eatingmeat4_because_Feedback_5\n",
      "Methane from cow burps harms the environment, but not everyone agrees on the best way to solve this problem.#eatingmeat4_but_Feedback_2#eatingmeat4_but_Feedback_2\n",
      "Methane from cow burps harms the environment because methane contributes to rising temperature on Earth, global warming.#eatingmeat4_because_Feedback_1#eatingmeat4_because_Feedback_1\n",
      "Methane from cow burps harms the environment, so researchers want to add a seaweed diet for cows to reduce the methane by 99% from the burps.#eatingmeat4_so_Feedback_3#eatingmeat4_so_Feedback_3\n",
      "Methane from cow burps harms the environment because the contribute to greenhouse emissions#eatingmeat4_because_Feedback _6#eatingmeat4_because_Feedback_4\n",
      "Methane from cow burps harms the environment, so by 2035 end all animals agriculture and produce plant-based meats.#eatingmeat4_so_Feedback_9#eatingmeat4_so_Feedback_9\n",
      "Methane from cow burps harms the environment, but the company Impossible Foods wants to end all animal agriculture by 2035, thus helping reduce the amount of methane gas going into the air.#eatingmeat4_but_Feedback_8#eatingmeat4_but_Feedback_8\n",
      "Methane from cow burps harms the environment, so if we eat less meat, it can reduce greenhouse gases.#eatingmeat4_so_Feedback_9#eatingmeat4_so_Feedback_9\n",
      "Methane from cow burps harms the environment, so Burger King and White Castle for instance have added plant-based \"meats\" that have the look, taste, and texture of real meat without the damage of \"real\" meat.#eatingmeat4_so_Feedback_6#eatingmeat4_so_Feedback_2\n",
      "Methane from cow burps harms the environment because of the greenhouse gas methane.#eatingmeat4_because_Feedback_8#eatingmeat4_because_Feedback_5\n",
      "Methane from cow burps harms the environment because it is a major contributor to greenhouse gases; this increase leads to major environmental issues, as global warming and intense storms,#eatingmeat4_because_Feedback_2#eatingmeat4_because_Feedback_2\n",
      "Methane from cow burps harms the environment because they contribute to global warming, which is linked to erratic and dangerous weather patterns.#eatingmeat4_because_Feedback_5#eatingmeat4_because_Feedback_5\n",
      "Methane from cow burps harms the environment, but there is a solution with 'plant-based' meat products.#eatingmeat4_but_Feedback_6#eatingmeat4_but_Feedback_5\n",
      "Methane from cow burps harms the environment, so is the solution offered by Impossible Foods the solution?#eatingmeat4_so_Feedback_8#eatingmeat4_so_Feedback_8\n",
      "Methane from cow burps harms the environment, but if we feed cows seaweed it has been shown to decrease the amount of methane gas that they burp up by 99%.#eatingmeat4_but_Feedback_13#eatingmeat4_but_Feedback_13\n",
      "Methane from cow burps harms the environment, so people should eat more plant-based foods.#eatingmeat4_so_Feedback_9#eatingmeat4_so_Feedback_9\n",
      "Methane from cow burps harms the environment, so cutting down on the amount of cows slaughtered would be a positive for the environment.#eatingmeat4_so_Feedback_8#eatingmeat4_so_Feedback_9\n",
      "Methane from cow burps harms the environment, so production of the Impossible Burger generates 89% fewer greenhouse gas emissions than beef burgers.#eatingmeat4_so_Feedback_5#eatingmeat4_so_Feedback_2\n",
      "Methane from cow burps harms the environment, but it can be reduced by 99% by introducing seaweed to the cows' diet.#eatingmeat4_but_Feedback_13#eatingmeat4_but_Feedback_13\n",
      "Methane from cow burps harms the environment, so researchers have developed \"meats\" without any animal products in them.#eatingmeat4_so_Feedback_2#eatingmeat4_so_Feedback_2\n",
      "Methane from cow burps harms the environment, but we could also change what we feed to cows.#eatingmeat4_but_Feedback_9#eatingmeat4_but_Feedback_9\n",
      "Methane from cow burps harms the environment, but changing the diet of the cow, such as feeding them seaweed, has also shown to decrease their methane release by up to 99%.#eatingmeat4_but_Feedback_13#eatingmeat4_but_Feedback_13\n",
      "Methane from cow burps harms the environment, but if farmers feed cattle seaweed they won't burp as much#eatingmeat4_but_Feedback_11#eatingmeat4_but_Feedback_13\n",
      "Methane from cow burps harms the environment, so cows should be fed other foods.#eatingmeat4_so_Feedback_10#eatingmeat4_so_Feedback_10\n",
      "Methane from cow burps harms the environment, so companies like Impossible Foods have created plant-based meats like the Impossible Burger which generates 89% fewer greenhouse gas emissions than beef burgers.#eatingmeat4_so_Feedback_2#eatingmeat4_so_Feedback_2\n",
      "Methane from cow burps harms the environment, so we should either eat less beef by substituting beef with foods that don't contain animal products or by feeding cows foods that don't lead them to burp out methane gas.#eatingmeat4_so_Feedback_10#eatingmeat4_so_Feedback_10\n",
      "Methane from cow burps harms the environment because It produces the greenhouse gases.#eatingmeat4_because_Feedback_4#eatingmeat4_because_Feedback_4\n",
      "Methane from cow burps harms the environment, so it makes sense to produce products which can replace meat products that are consumed by humans.#eatingmeat4_so_Feedback_9#eatingmeat4_so_Feedback_9\n",
      "Methane from cow burps harms the environment, so eating less animal meat and more plant based meat, (along with feeding cows seaweed) would help reduce greenhouse gas and therefore slow global warming.#eatingmeat4_so_Feedback_9#eatingmeat4_so_Feedback_10\n",
      "Methane from cow burps harms the environment, but by feeding cows seaweed, they release up to 99% less methane in their burps, and this could reduce about one-third of greenhouse gas emissions.#eatingmeat4_but_Feedback_13#eatingmeat4_but_Feedback_13\n",
      "Methane from cow burps harms the environment, so Impossible Foods wants to help reduce the problem by developing plant-based alternatives to animal agriculture.#eatingmeat4_so_Feedback_2#eatingmeat4_so_Feedback_2\n",
      "Methane from cow burps harms the environment because it creates chemicals in the air#eatingmeat4_because_Feedback_4#eatingmeat4_because_Feedback_4\n",
      "Methane from cow burps harms the environment, but farmers can effect the contents of changing what they are fed#eatingmeat4_but_Feedback_9#eatingmeat4_but_Feedback_9\n",
      "Methane from cow burps harms the environment, but feeding them seaweed instead of their current diet will supposedly reduce the methane by 99%.#eatingmeat4_but_Feedback_13#eatingmeat4_but_Feedback_13\n",
      "Methane from cow burps harms the environment, so we need to change what we feed cows.#eatingmeat4_so_Feedback_10#eatingmeat4_so_Feedback_10\n",
      "Methane from cow burps harms the environment, but there are some solutions to reducing the amount of methane.#eatingmeat4_but_Feedback_3#eatingmeat4_but_Feedback_3\n",
      "Methane from cow burps harms the environment, but Impossible Foods wants to end all agriculture by 2035.#eatingmeat4_but_Feedback_8#eatingmeat4_but_Feedback_8\n",
      "Methane from cow burps harms the environment, but it's possible to switch feeds to seaweed which produces significantly less methane.#eatingmeat4_but_Feedback_13#eatingmeat4_but_Feedback_13\n",
      "Methane from cow burps harms the environment because every day a cow burps out 30-50 gallons of the greenhouse gas methane.#eatingmeat4_because_Feedback_5#eatingmeat4_because_Feedback_5\n",
      "Methane from cow burps harms the environment, but by eating seaweed, cows may burp less methane.#eatingmeat4_but_Feedback_13#eatingmeat4_but_Feedback_13\n",
      "Methane from cow burps harms the environment, so there should be research on how to limit the burps that harm the environment.#eatingmeat4_so_Feedback_10#eatingmeat4_so_Feedback_9\n",
      "Methane from cow burps harms the environment, so the current agricultural practices of the world should be changed.#eatingmeat4_so_Feedback_9#eatingmeat4_so_Feedback_9\n",
      "Methane from cow burps harms the environment, but if they were fed seaweed they would release 99% less methane.#eatingmeat4_but_Feedback_13#eatingmeat4_but_Feedback_13\n",
      "Methane from cow burps harms the environment because it releases methane into the atmosphere.#eatingmeat4_because_Feedback_5#eatingmeat4_because_Feedback_5\n",
      "Methane from cow burps harms the environment, but a consumer cannot detect the difference between a burger and an impossible burger.#eatingmeat4_but_Feedback_8#eatingmeat4_but_Feedback_5\n",
      "Methane from cow burps harms the environment because it's a harmful greenhouse gas.#eatingmeat4_because_Feedback _6#eatingmeat4_because_Feedback _6\n",
      "Methane from cow burps harms the environment, but can reduced my 99% if fed a seaweed diet.#eatingmeat4_but_Feedback_13#eatingmeat4_but_Feedback_13\n",
      "Methane from cow burps harms the environment, but the burps can contain almost 90% less methane if there is seaweed mixed into their daily diets.#eatingmeat4_but_Feedback_13#eatingmeat4_but_Feedback_13\n",
      "Methane from cow burps harms the environment because methane gas causes the Earth to heat up a process called Global Warming.#eatingmeat4_because_Feedback_1#eatingmeat4_because_Feedback_1\n",
      "Methane from cow burps harms the environment, so it's important to find solutions that reduce the environmental impact of our diets such as meat alternatives and altering animal diets in order to decrease greenhouse gas release.#eatingmeat4_so_Feedback_10#eatingmeat4_so_Feedback_10\n",
      "Methane from cow burps harms the environment because the Methane causes the temperature to rise increasing greenhouse gas emmissions.#eatingmeat4_because_Feedback_9#eatingmeat4_because_Feedback_1\n",
      "Methane from cow burps harms the environment, but changing the cows diets can decrease methane gas from cows burps by 99 percent.#eatingmeat4_but_Feedback_9#eatingmeat4_but_Feedback_9\n",
      "Methane from cow burps harms the environment, but can be changed by 99% if we change what cows consume.#eatingmeat4_but_Feedback_9#eatingmeat4_but_Feedback_9\n",
      "Methane from cow burps harms the environment, but if the cows are fed seaweed, they release less methane.#eatingmeat4_but_Feedback_13#eatingmeat4_but_Feedback_13\n",
      "Methane from cow burps harms the environment, so the company Impossible Foods wants to end all animal agriculture by 2035 by creating plant-based \"meats\" that have the look, taste, and texture of real meat.#eatingmeat4_so_Feedback_2#eatingmeat4_so_Feedback_2\n",
      "Methane from cow burps harms the environment because it causes temperatures to rise in a process called global warming.#eatingmeat4_because_Feedback_1#eatingmeat4_because_Feedback_1\n",
      "Methane from cow burps harms the environment, but when cows are fed with seaweed it reduces the green house gas released by 99%.#eatingmeat4_but_Feedback_13#eatingmeat4_but_Feedback_13\n",
      "Methane from cow burps harms the environment, but this gas results in global warming.#eatingmeat4_but_Feedback_8#eatingmeat4_but_Feedback_8\n",
      "Methane from cow burps harms the environment because it contributes to global warming and raising the earth's temperature.#eatingmeat4_because_Feedback_1#eatingmeat4_because_Feedback_1\n",
      "Methane from cow burps harms the environment because they burp out greenhouse gas that raises the temperature of the earth.#eatingmeat4_because_Feedback_5#eatingmeat4_because_Feedback_5\n",
      "Methane from cow burps harms the environment because it has been linked to global warming.#eatingmeat4_because_Feedback_1#eatingmeat4_because_Feedback_1\n",
      "Methane from cow burps harms the environment, but there are way7s to reduce the methane in burps.#eatingmeat4_but_Feedback_3#eatingmeat4_but_Feedback_3\n",
      "Methane from cow burps harms the environment, but there are more solutions to prevent that from happening.#eatingmeat4_but_Feedback_3#eatingmeat4_but_Feedback_3\n",
      "Methane from cow burps harms the environment because methane is a greenhouse-gas, excessive amounts of which contributes to global warming.#eatingmeat4_because_Feedback_1#eatingmeat4_because_Feedback_1\n",
      "Methane from cow burps harms the environment, but farmers can change what they eat.#eatingmeat4_but_Feedback_12#eatingmeat4_but_Feedback_12\n",
      "Methane from cow burps harms the environment, so companies are creating more plant based foods that look and taste just like meat.#eatingmeat4_so_Feedback_2#eatingmeat4_so_Feedback_2\n",
      "Methane from cow burps harms the environment because this gas causes Earth's temperature to rise#eatingmeat4_because_Feedback_1#eatingmeat4_because_Feedback_1\n",
      "Methane from cow burps harms the environment because metahane causes the Earth's temperature to rise causing global warming.#eatingmeat4_because_Feedback_1#eatingmeat4_because_Feedback_1\n",
      "Methane from cow burps harms the environment, but they produce greenhouse gases#eatingmeat4_but_Feedback_8#eatingmeat4_but_Feedback_8\n",
      "Methane from cow burps harms the environment, so using plant-based meat could be the solution to it.#eatingmeat4_so_Feedback_9#eatingmeat4_so_Feedback_9\n",
      "Methane from cow burps harms the environment because 1.5 billion cows burping produces a lot of methane, and methane is a greenhouse gas.#eatingmeat4_because_Feedback_5#eatingmeat4_because_Feedback_5\n",
      "Methane from cow burps harms the environment, so Impossible's alternative burgers are a good option because they emit 89% less greenhouse gas emissions than beef.#eatingmeat4_so_Feedback_9#eatingmeat4_so_Feedback_2\n",
      "Methane from cow burps harms the environment, but changing what they eat, or how much we eat them, can make a difference.#eatingmeat4_but_Feedback_9#eatingmeat4_but_Feedback_9\n",
      "Methane from cow burps harms the environment, so the company Impossible Foods wants to end all animal agriculture by 2035#eatingmeat4_so_Feedback_2#eatingmeat4_so_Feedback_2\n",
      "Methane from cow burps harms the environment because it contains 30-50 gallons of methane gas which caused global warming.#eatingmeat4_because_Feedback_5#eatingmeat4_because_Feedback_5\n",
      "Methane from cow burps harms the environment, but there are ways to improve this problem.#eatingmeat4_but_Feedback_3#eatingmeat4_but_Feedback_3\n",
      "Methane from cow burps harms the environment, but cows aren’t the main cause of our planet’s methane problem.#eatingmeat4_but_Feedback_4#eatingmeat4_but_Feedback_7\n",
      "Methane from cow burps harms the environment, but feeding seaweed to cows reduces the amount of methane they burp.#eatingmeat4_but_Feedback_13#eatingmeat4_but_Feedback_13\n",
      "Methane from cow burps harms the environment, but they could eat seaweed that would help them burp less#eatingmeat4_but_Feedback_13#eatingmeat4_but_Feedback_13\n",
      "Methane from cow burps harms the environment, so new ways to create plant based meats have been invented.#eatingmeat4_so_Feedback_2#eatingmeat4_so_Feedback_2\n",
      "Methane from cow burps harms the environment, so some method of reducing the amount of methane burped should be implemented.#eatingmeat4_so_Feedback_9#eatingmeat4_so_Feedback_10\n",
      "Methane from cow burps harms the environment, but there are ways to make cows less gassy.#eatingmeat4_but_Feedback_3#eatingmeat4_but_Feedback_3\n",
      "Methane from cow burps harms the environment because research into methods of cutting down the amount of methane that cows emit is only just beginning.#eatingmeat4_because_Feedback_8#eatingmeat4_because_Feedback_5\n",
      "Methane from cow burps harms the environment, so we should eat less of them, or, change their diet.#eatingmeat4_so_Feedback_10#eatingmeat4_so_Feedback_10\n",
      "Methane from cow burps harms the environment because cows burp methane, which is a greenhouse gas that causes the earth's temperature to rise and that rising temperature is called global warming.#eatingmeat4_because_Feedback_5#eatingmeat4_because_Feedback_5\n",
      "Methane from cow burps harms the environment, so a solution needs to be met, whether ending animal agriculture, changing their diets, or a combination of the two to reduce the effects of global warming.#eatingmeat4_so_Feedback_10#eatingmeat4_so_Feedback_10\n",
      "Methane from cow burps harms the environment, but studies find that the expelled gas can be controlled by feeding the cow's alternate food such as seaweed.#eatingmeat4_but_Feedback_13#eatingmeat4_but_Feedback_13\n",
      "Methane from cow burps harms the environment because cow burping and other aspects of animal agriculture, the practice of raising animals for food purposes, produce about 14.5% of the world's greenhouse gases.#eatingmeat4_because_Feedback_3#eatingmeat4_because_Feedback_7\n",
      "Methane from cow burps harms the environment, but we can feed them seaweed and it will release 99% less methane.#eatingmeat4_but_Feedback_13#eatingmeat4_but_Feedback_13\n",
      "Methane from cow burps harms the environment, so we need to change our diets to include less meat from cattle.#eatingmeat4_so_Feedback_9#eatingmeat4_so_Feedback_10\n",
      "Methane from cow burps harms the environment, so we're better off reducing or eliminating animal agriculture.#eatingmeat4_so_Feedback_9#eatingmeat4_so_Feedback_9\n",
      "Methane from cow burps harms the environment because increases co2 in the atmosphere.#eatingmeat4_because_Feedback_10#eatingmeat4_because_Feedback _6\n",
      "Methane from cow burps harms the environment, but could be less if we change their diet.#eatingmeat4_but_Feedback_13#eatingmeat4_but_Feedback_13\n",
      "Methane from cow burps harms the environment, but it is possible to reduce the amount of methane in a cow's burp by 99% by feeding them seaweed.#eatingmeat4_but_Feedback_13#eatingmeat4_but_Feedback_13\n",
      "Methane from cow burps harms the environment, but there are other ways to address this issue.#eatingmeat4_but_Feedback_3#eatingmeat4_but_Feedback_3\n",
      "Methane from cow burps harms the environment because it contribute to greenhouse gases which affects the Earth's temperature#eatingmeat4_because_Feedback_4#eatingmeat4_because_Feedback_1\n",
      "Methane from cow burps harms the environment, but only accounts for 14.5% of greenhouse gas emissions.#eatingmeat4_but_Feedback_1#eatingmeat4_but_Feedback_1\n",
      "Methane from cow burps harms the environment, so scientist are looking into different cow’s food#eatingmeat4_so_Feedback_11#eatingmeat4_so_Feedback_11\n",
      "Methane from cow burps harms the environment, so fast-food chains like Burger King and White Castle have added \"plant-based\" meats to their menus.#eatingmeat4_so_Feedback_6#eatingmeat4_so_Feedback_7\n",
      "Methane from cow burps harms the environment, so let's stop the methane in the first place.#eatingmeat4_so_Feedback_9#eatingmeat4_so_Feedback_9\n",
      "Methane from cow burps harms the environment, but the political system thinks this aspect of climate change is a joke.#eatingmeat4_but_Feedback_7#eatingmeat4_but_Feedback_7\n",
      "Methane from cow burps harms the environment because the methane produced from cow burps cause a rise in the earth's temperature.#eatingmeat4_because_Feedback_7#eatingmeat4_because_Feedback_1\n",
      "Methane from cow burps harms the environment, so an alternative solution is the type of food that farmers can feed the cows which produce less methane.#eatingmeat4_so_Feedback_10#eatingmeat4_so_Feedback_10\n",
      "Methane from cow burps harms the environment, so more plant-based food is being developed.#eatingmeat4_so_Feedback_2#eatingmeat4_so_Feedback_2\n",
      "Methane from cow burps harms the environment, so information is good#eatingmeat4_so_Feedback_8#eatingmeat4_so_Feedback_8\n",
      "Methane from cow burps harms the environment, but there are alternatives to beef such as impossible meats, made from plants to taste like real meat.#eatingmeat4_but_Feedback_5#eatingmeat4_but_Feedback_6\n",
      "Methane from cow burps harms the environment because the burps release methane which is a greenhouse gas.#eatingmeat4_because_Feedback_5#eatingmeat4_because_Feedback_5\n",
      "Methane from cow burps harms the environment, but research shows that a possible diet change could decrease the methane in cow burps.#eatingmeat4_but_Feedback_13#eatingmeat4_but_Feedback_13\n",
      "Methane from cow burps harms the environment, so some scientists and farmers suggest changing the cows' diets to seaweed #eatingmeat4_so_Feedback_11#eatingmeat4_so_Feedback_11\n",
      "Methane from cow burps harms the environment, so we should work to eat less meat#eatingmeat4_so_Feedback_9#eatingmeat4_so_Feedback_9\n",
      "Methane from cow burps harms the environment, but there is a way to reduce the amount of methane by 99% by feeding the cows seaweed.#eatingmeat4_but_Feedback_13#eatingmeat4_but_Feedback_13\n",
      "Methane from cow burps harms the environment, so animal agriculture should be reduced to the extent possible or the diet of cows should be modified to reduce the methane content of their burps.#eatingmeat4_so_Feedback_10#eatingmeat4_so_Feedback_10\n",
      "Methane from cow burps harms the environment, but can get better if they change the cows diet#eatingmeat4_but_Feedback_9#eatingmeat4_but_Feedback_9\n",
      "Methane from cow burps harms the environment because it greatly adds to the issue of global warming due to the diet of the cow creating a high concentration of methane.#eatingmeat4_because_Feedback_5#eatingmeat4_but_Feedback_13\n",
      "Methane from cow burps harms the environment, but it could be reduced by changing what the cows eat themselves.#eatingmeat4_but_Feedback_13#eatingmeat4_but_Feedback_9\n",
      "Methane from cow burps harms the environment, so Impossible Foods has created plant-based meats.#eatingmeat4_so_Feedback_2#eatingmeat4_so_Feedback_2\n",
      "Methane from cow burps harms the environment, so we should utilize alternative meats and feed seaweed to the livestock to decrease emission of about 15 percent by 33 percent.#eatingmeat4_so_Feedback_10#eatingmeat4_so_Feedback_10\n",
      "Methane from cow burps harms the environment, so a number of solutions to combat this has been proposed for eating less meat to using a different food source for the cows.#eatingmeat4_so_Feedback_1#eatingmeat4_so_Feedback_10\n",
      "Methane from cow burps harms the environment, but there are foods to feed cows, such as seaweed, that can dramatically reduce the amount of methane found in cow burps.#eatingmeat4_but_Feedback_13#eatingmeat4_but_Feedback_13\n",
      "Methane from cow burps harms the environment, but if we change the cow's diet by adding seaweed we can limit their release of methane by up to 99%#eatingmeat4_but_Feedback_13#eatingmeat4_but_Feedback_13\n",
      "Methane from cow burps harms the environment, so we need to find a way to lessen our impact on the environment; either through having fewer cows to produce methane, engineering a method to reduce the methane they produce, or performing both in tandem.#eatingmeat4_so_Feedback_10#eatingmeat4_so_Feedback_10\n",
      "Methane from cow burps harms the environment, so adding seaweed to the cow's diet can reduce the harmful gas emission by 99%.#eatingmeat4_so_Feedback_10#eatingmeat4_so_Feedback_10\n",
      "Methane from cow burps harms the environment, so either we can reduce our meat consumption or feed cows a seaweed based diet to reduce methane emissions#eatingmeat4_so_Feedback_10#eatingmeat4_so_Feedback_10\n",
      "Methane from cow burps harms the environment, but introducing seaweed into their diets can reduce the methane in their burps by 99%.#eatingmeat4_but_Feedback_13#eatingmeat4_but_Feedback_13\n",
      "Methane from cow burps harms the environment because it causes the Earth's temperature to rise or global warming.#eatingmeat4_because_Feedback_1#eatingmeat4_because_Feedback_1\n",
      "Methane from cow burps harms the environment, so Impossible is trying to eliminate agriculture for food.#eatingmeat4_so_Feedback_2#eatingmeat4_so_Feedback_2\n",
      "Methane from cow burps harms the environment, but we can change what is in the cow burps.#eatingmeat4_but_Feedback_9#eatingmeat4_but_Feedback_12\n",
      "Methane from cow burps harms the environment, but it can be reduced by adding seaweed into their diet.#eatingmeat4_but_Feedback_13#eatingmeat4_but_Feedback_13\n",
      "Methane from cow burps harms the environment, but feeding cows seaweed instead of their current diet could decrease this harm.#eatingmeat4_but_Feedback_13#eatingmeat4_but_Feedback_13\n",
      "Methane from cow burps harms the environment, but we can change their diet so they burp less.#eatingmeat4_but_Feedback_9#eatingmeat4_but_Feedback_13\n",
      "Methane from cow burps harms the environment, so - Every time a cow burps or passes gas, a little puff of methane wafts into the ... But there are many sources of methane, so the atmospheric load is ... Causes and Effects of Climate Change What causes climate change#eatingmeat4_so_Feedback_8#eatingmeat4_so_Feedback_5\n",
      "Methane from cow burps harms the environment, so we need to find the best solution possible to address the problem, whether it be ending agriculture, or changing the ways in which we feed cows.#eatingmeat4_so_Feedback_10#eatingmeat4_so_Feedback_10\n",
      "Methane from cow burps harms the environment, so the company Impossible Foods is aiming to end animal agriculture, by creating plant-based meat substitute.#eatingmeat4_so_Feedback_2#eatingmeat4_so_Feedback_2\n",
      "Methane from cow burps harms the environment because it causes the Earths temperature to rise causing Global Warming .#eatingmeat4_because_Feedback_1#eatingmeat4_because_Feedback_1\n",
      "Methane from cow burps harms the environment, so we should be looking for ways to either solve the problem, or rely on beef less.#eatingmeat4_so_Feedback_9#eatingmeat4_so_Feedback_9\n",
      "Methane from cow burps harms the environment, so you could also look into beef alternatives.#eatingmeat4_so_Feedback_9#eatingmeat4_so_Feedback_9\n",
      "Methane from cow burps harms the environment because cows burp methane, and methane causes the temperature of the earth to rise.#eatingmeat4_because_Feedback_5#eatingmeat4_because_Feedback_5\n",
      "Methane from cow burps harms the environment because stupid activist that want to control you say they do.#eatingmeat4_because_Feedback_10#eatingmeat4_because_Feedback_8\n",
      "Methane from cow burps harms the environment, so the article is trying to persuade us to eat processed imitation meat instead.#eatingmeat4_so_Feedback_8#eatingmeat4_so_Feedback_9\n",
      "Methane from cow burps harms the environment, but give us meat.#eatingmeat4_but_Feedback_7#eatingmeat4_but_Feedback_7\n",
      "Methane from cow burps harms the environment because it produces the gas methane#eatingmeat4_because_Feedback_5#eatingmeat4_because_Feedback_4\n",
      "Methane from cow burps harms the environment because releases greenhouse gases.#eatingmeat4_because_Feedback_8#eatingmeat4_because_Feedback_5\n",
      "Methane from cow burps harms the environment because cows burp 30-50 gallons of methane which causes global warming.#eatingmeat4_because_Feedback_5#eatingmeat4_because_Feedback_5\n",
      "Methane from cow burps harms the environment, but we can consume impossible foods to lower the emissions and dependency on cows.#eatingmeat4_but_Feedback_5#eatingmeat4_but_Feedback_6\n",
      "Methane from cow burps harms the environment, but changing their diet can reduce methane release by up to 99%.#eatingmeat4_but_Feedback_13#eatingmeat4_but_Feedback_9\n",
      "Methane from cow burps harms the environment, so by creating plant-based \"meats\" that have the look, taste, and texture of real meat, will be appealing to meat-eaters#eatingmeat4_so_Feedback_5#eatingmeat4_so_Feedback_9\n",
      "Methane from cow burps harms the environment because it causes earth’s temperature to rise.#eatingmeat4_because_Feedback_1#eatingmeat4_because_Feedback_1\n",
      "Methane from cow burps harms the environment, but they could be reduced by incorporating seaweed into the cows' diets.#eatingmeat4_but_Feedback_13#eatingmeat4_but_Feedback_13\n",
      "Methane from cow burps harms the environment, so we should change what people eat.#eatingmeat4_so_Feedback_9#eatingmeat4_so_Feedback_9\n",
      "Methane from cow burps harms the environment, but cow burps could be made less harmful if cows are fed a different diet such as seaweed.#eatingmeat4_but_Feedback_13#eatingmeat4_but_Feedback_13\n",
      "Methane from cow burps harms the environment, so alternative meat sources such as plant based meat should be adopted or cows can be fed with feed materials that reduces the release of greenhouse gases.#eatingmeat4_so_Feedback_10#eatingmeat4_so_Feedback_10\n",
      "Methane from cow burps harms the environment, so it is important for meat-alternatives to be used more often.#eatingmeat4_so_Feedback_9#eatingmeat4_so_Feedback_9\n",
      "Methane from cow burps harms the environment, so we should be eating more plant based foods like Impossible Foods.#eatingmeat4_so_Feedback_9#eatingmeat4_so_Feedback_9\n",
      "Methane from cow burps harms the environment, so we should change what we eat so the there will be less methane produced from cow burps.#eatingmeat4_so_Feedback_9#eatingmeat4_so_Feedback_10\n",
      "Methane from cow burps harms the environment because the planet's temperature rises#eatingmeat4_because_Feedback_1#eatingmeat4_because_Feedback_1\n",
      "Methane from cow burps harms the environment, but can be reduced if they consume seaweed as their diet.#eatingmeat4_but_Feedback_13#eatingmeat4_but_Feedback_13\n",
      "Methane from cow burps harms the environment, so we should cut out meat agriculter#eatingmeat4_so_Feedback_9#eatingmeat4_so_Feedback_9\n",
      "Methane from cow burps harms the environment because it create carbon dioxide.#eatingmeat4_because_Feedback_10#eatingmeat4_because_Feedback_5\n",
      "Methane from cow burps harms the environment, but only contributes about 14.5% of the world's greenhouse gases.#eatingmeat4_but_Feedback_1#eatingmeat4_but_Feedback_1\n",
      "Methane from cow burps harms the environment, so the only solution to reducing the amount of greenhouse gas emissions is to change the cows diets and try to reduce the amount of meat consumption across the board.#eatingmeat4_so_Feedback_10#eatingmeat4_so_Feedback_10\n",
      "Methane from cow burps harms the environment because it causes the earths temperature to rise causing global warming#eatingmeat4_because_Feedback_1#eatingmeat4_because_Feedback_1\n",
      "Methane from cow burps harms the environment because they produce about 14.5% of the world's greenhouse gases#eatingmeat4_because_Feedback_7#eatingmeat4_because_Feedback_7\n",
      "Methane from cow burps harms the environment because they increase greenhouse gases and contribute to global warming.#eatingmeat4_because_Feedback_5#eatingmeat4_because_Feedback_5\n",
      "Methane from cow burps harms the environment, but they only contribute 14.5% of the world's greenhouse gases.#eatingmeat4_but_Feedback_1#eatingmeat4_but_Feedback_1\n",
      "Methane from cow burps harms the environment, but not everyone is willing to give up eating meat.#eatingmeat4_but_Feedback_7#eatingmeat4_but_Feedback_2\n",
      "Methane from cow burps harms the environment because every time each cow burps they release 30-50 gallons of methane gas and it kills the earth.#eatingmeat4_because_Feedback_5#eatingmeat4_because_Feedback_5\n",
      "Methane from cow burps harms the environment, so some scientists and farmers are looking at plant-based foods to lower the amount of methane produced by meat-producing animals.#eatingmeat4_so_Feedback_4#eatingmeat4_so_Feedback_3\n",
      "Methane from cow burps harms the environment because Not everyone.#eatingmeat4_because_Feedback_8#eatingmeat4_because_Feedback_8\n",
      "Methane from cow burps harms the environment, so people shouldn't eat beef.#eatingmeat4_so_Feedback_9#eatingmeat4_so_Feedback_9\n",
      "Methane from cow burps harms the environment because they cause the Earth's temperature to rise#eatingmeat4_because_Feedback_5#eatingmeat4_because_Feedback_5\n",
      "Methane from cow burps harms the environment, so we should make them burp less#eatingmeat4_so_Feedback_9#eatingmeat4_so_Feedback_10\n",
      "Methane from cow burps harms the environment, but it's only one part of the environmental impact of animal agriculture#eatingmeat4_but_Feedback_4#eatingmeat4_but_Feedback_7\n",
      "Methane from cow burps harms the environment, but Impossible’s “meats” do not contain animal products, they are less harmful to the environment than regular meat#eatingmeat4_but_Feedback_5#eatingmeat4_but_Feedback_5\n",
      "Methane from cow burps harms the environment because it make the Earth's temperature rise, called global warming.#eatingmeat4_because_Feedback_1#eatingmeat4_because_Feedback_1\n",
      "Methane from cow burps harms the environment, but if the cow's diet was changed to seaweed much of the methane would be reduced.#eatingmeat4_but_Feedback_13#eatingmeat4_but_Feedback_13\n",
      "Methane from cow burps harms the environment because it increases greenhouse gas emissions, intensifying global warming.#eatingmeat4_because_Feedback_1#eatingmeat4_because_Feedback_1\n",
      "Methane from cow burps harms the environment, so solutions, such as reduced meat consumption and changing of animal agricultural diets, must be adopted by the public.#eatingmeat4_so_Feedback_10#eatingmeat4_so_Feedback_9\n",
      "Methane from cow burps harms the environment, so we should stop eating cows, turning instead to plant-based options like the Impossible Burger.#eatingmeat4_so_Feedback_9#eatingmeat4_so_Feedback_9\n",
      "Methane from cow burps harms the environment because it causes Earth's temperature to rise in a process called global warming#eatingmeat4_because_Feedback_1#eatingmeat4_because_Feedback_1\n",
      "Methane from cow burps harms the environment because cows burp 30 to 50 gallons of the greenhouse gas methane which causes a rise in global warming.#eatingmeat4_because_Feedback_5#eatingmeat4_because_Feedback_5\n",
      "Methane from cow burps harms the environment, so we should look at what we feed the cows to lessen their burps or find an alternative towards meat production.#eatingmeat4_so_Feedback_10#eatingmeat4_so_Feedback_10\n",
      "Methane from cow burps harms the environment because the greenhouse methane contributes to increased global temperatures.#eatingmeat4_because_Feedback_1#eatingmeat4_because_Feedback_1\n",
      "Methane from cow burps harms the environment, but it is lessened when they consume seaweed.#eatingmeat4_but_Feedback_13#eatingmeat4_but_Feedback_13\n",
      "Methane from cow burps harms the environment, so it may be better to replace meat products with plant based foods like those made by Impossible.#eatingmeat4_so_Feedback_9#eatingmeat4_so_Feedback_9\n",
      "Methane from cow burps harms the environment, so they have to find a solution#eatingmeat4_so_Feedback_9#eatingmeat4_so_Feedback_9\n",
      "Methane from cow burps harms the environment, but it can be greatly reduced by feeding them seaweed.#eatingmeat4_but_Feedback_13#eatingmeat4_but_Feedback_13\n",
      "Methane from cow burps harms the environment because the gas causes the Earth’s temperature to rise.#eatingmeat4_because_Feedback_1#eatingmeat4_because_Feedback_1\n",
      "Methane from cow burps harms the environment, so Impossible wants to change what people consume to plant based.#eatingmeat4_so_Feedback_2#eatingmeat4_so_Feedback_2\n",
      "Methane from cow burps harms the environment because they contains world's Greenhouse gases.#eatingmeat4_because_Feedback_5#eatingmeat4_because_Feedback_5\n",
      "Methane from cow burps harms the environment, so we should switch to less harmful alternatives as the Impossible Burger.#eatingmeat4_so_Feedback_9#eatingmeat4_so_Feedback_9\n",
      "Methane from cow burps harms the environment, but there is a way to decrease the damage via cow diet.#eatingmeat4_but_Feedback_9#eatingmeat4_but_Feedback_9\n",
      "Methane from cow burps harms the environment, so if they consume seaweed as part of their diet, up to 1/3 of greenhouse gas emissions caused by animal agriculture could be reduced.#eatingmeat4_so_Feedback_10#eatingmeat4_so_Feedback_10\n",
      "Methane from cow burps harms the environment, so many are cutting back on meat.#eatingmeat4_so_Feedback_8#eatingmeat4_so_Feedback_8\n",
      "Methane from cow burps harms the environment, so we should change people eat or change cow eat.#eatingmeat4_so_Feedback_10#eatingmeat4_so_Feedback_10\n",
      "Methane from cow burps harms the environment, but we can change what cows eat#eatingmeat4_but_Feedback_12#eatingmeat4_but_Feedback_12\n",
      "Methane from cow burps harms the environment, but there is a solution to it#eatingmeat4_but_Feedback_3#eatingmeat4_but_Feedback_3\n",
      "Methane from cow burps harms the environment, so we need to change agriculture practices.#eatingmeat4_so_Feedback_9#eatingmeat4_so_Feedback_9\n",
      "Methane from cow burps harms the environment, but it can be reduced by 99 percent by feeding cows seaweed instead.#eatingmeat4_but_Feedback_13#eatingmeat4_but_Feedback_13\n",
      "Methane from cow burps harms the environment, but when fed seaweed as part of their diets, they release up to 99% less methane in their burps.#eatingmeat4_but_Feedback_13#eatingmeat4_but_Feedback_13\n",
      "Methane from cow burps harms the environment, so some have turned to plant based meat products as a solution.#eatingmeat4_so_Feedback_2#eatingmeat4_so_Feedback_2\n",
      "Methane from cow burps harms the environment because the burps release harmful methane.#eatingmeat4_because_Feedback_5#eatingmeat4_because_Feedback_5\n",
      "Methane from cow burps harms the environment, so we should at least try to change our diet and animal consumption.#eatingmeat4_so_Feedback_9#eatingmeat4_so_Feedback_9\n",
      "Methane from cow burps harms the environment, so Impossible meats it trying to develop a meat alternative.#eatingmeat4_so_Feedback_2#eatingmeat4_so_Feedback_2\n",
      "Methane from cow burps harms the environment, but plant based meats are available and are great alternatives for many people; some others think feeding cows seaweed can help.#eatingmeat4_but_Feedback_13#eatingmeat4_but_Feedback_13\n",
      "Methane from cow burps harms the environment, so the recommendation is to eat more plant-based meats#eatingmeat4_so_Feedback_9#eatingmeat4_so_Feedback_9\n",
      "Methane from cow burps harms the environment, so a solution needs to be met on how to address the costs of animal agriculture.#eatingmeat4_so_Feedback_9#eatingmeat4_so_Feedback_9\n",
      "Methane from cow burps harms the environment, so it is not a good idea for cows to burp.#eatingmeat4_so_Feedback_8#eatingmeat4_so_Feedback_10\n",
      "Methane from cow burps harms the environment, but is not the sole reason for increase in greenhouse gases.#eatingmeat4_but_Feedback_4#eatingmeat4_but_Feedback_4\n",
      "Methane from cow burps harms the environment, but you can feed cows seaweed to lessen the methane.#eatingmeat4_but_Feedback_13#eatingmeat4_but_Feedback_13\n",
      "Methane from cow burps harms the environment because the burps cause the temperature to rise.#eatingmeat4_because_Feedback_5#eatingmeat4_because_Feedback_1\n",
      "Methane from cow burps harms the environment, so the Impossible Foods company is creating plant-based meat alternatives designed to appeal to meat eaters.#eatingmeat4_so_Feedback_2#eatingmeat4_so_Feedback_2\n",
      "Methane from cow burps harms the environment, but studies are showing that changing diet in cattle such as including seaweed in the diet may reduce the methane gases by up to 99%.#eatingmeat4_but_Feedback_13#eatingmeat4_but_Feedback_13\n",
      "Methane from cow burps harms the environment, but if cows were fed seaweed in their diets they would release 99% less methane in their burps.#eatingmeat4_but_Feedback_13#eatingmeat4_but_Feedback_13\n",
      "Methane from cow burps harms the environment because it causes Earth's temperature to rise in a process called \"global warming\".#eatingmeat4_because_Feedback_1#eatingmeat4_because_Feedback_1\n",
      "Methane from cow burps harms the environment because it causes the Earth's temp to rise.#eatingmeat4_because_Feedback_1#eatingmeat4_because_Feedback_1\n",
      "Methane from cow burps harms the environment, so seaweed should be added to the cows diet to reduce the percentage of the methane from cow burps.#eatingmeat4_so_Feedback_10#eatingmeat4_so_Feedback_10\n",
      "Methane from cow burps harms the environment because it produces methane, which contributes to about 14.5% of greenhouse gasses.#eatingmeat4_because_Feedback_7#eatingmeat4_because_Feedback_4\n",
      "Methane from cow burps harms the environment, but cow burps release up to 99% less methane when cows are fed seaweed as part of their diets.#eatingmeat4_but_Feedback_13#eatingmeat4_but_Feedback_13\n",
      "Methane from cow burps harms the environment, so we should take action to get rid of the pollutants.#eatingmeat4_so_Feedback_9#eatingmeat4_so_Feedback_9\n",
      "Methane from cow burps harms the environment because it releases methane gas.#eatingmeat4_because_Feedback_5#eatingmeat4_because_Feedback_5\n",
      "Methane from cow burps harms the environment, so strategies to reduce methane generation by animal agriculture must be developed.#eatingmeat4_so_Feedback_9#eatingmeat4_so_Feedback_10\n",
      "Methane from cow burps harms the environment, so we should find alternatives to reduce the intake of red meat, like using meat alternatives#eatingmeat4_so_Feedback_9#eatingmeat4_so_Feedback_9\n",
      "Methane from cow burps harms the environment, but if they ate seaweed this cuts that number down a lot.#eatingmeat4_but_Feedback_13#eatingmeat4_but_Feedback_13\n",
      "Methane from cow burps harms the environment because they release green house gas emissions.#eatingmeat4_because_Feedback_5#eatingmeat4_because_Feedback_5\n",
      "Methane from cow burps harms the environment, but they can be solved by feeding the cows seaweed which reduces the methane release by ninety nine percent.#eatingmeat4_but_Feedback_13#eatingmeat4_but_Feedback_13\n",
      "Methane from cow burps harms the environment, so more environmentally friendly alternatives like Impossible Burgers are positive alternatives to slow global warming.#eatingmeat4_so_Feedback_2#eatingmeat4_so_Feedback_2\n",
      "Methane from cow burps harms the environment, but adding seaweed to cow's diets can lower the amount of methane produced by cows by one-third.#eatingmeat4_but_Feedback_13#eatingmeat4_but_Feedback_13\n",
      "Methane from cow burps harms the environment, but Not everyone shares Impossible Foods’ goal of ending animal agriculture#eatingmeat4_but_Feedback_2#eatingmeat4_but_Feedback_2\n",
      "Methane from cow burps harms the environment, so .#eatingmeat4_so_Feedback_8#eatingmeat4_so_Feedback_8\n",
      "Methane from cow burps harms the environment, but a company called Impossible Foods is creating plant-based \"meats\" to address this problem.#eatingmeat4_but_Feedback_5#eatingmeat4_but_Feedback_8\n",
      "Methane from cow burps harms the environment because the gas causes the Earth's temperature to rise as it accumulates in the atmosphere.#eatingmeat4_because_Feedback_1#eatingmeat4_because_Feedback_1\n",
      "Methane from cow burps harms the environment, but can be changed by feeding the cows seaweed.#eatingmeat4_but_Feedback_13#eatingmeat4_but_Feedback_13\n",
      "Methane from cow burps harms the environment, but the amount of methane they burp can be reduced if they are given seaweed to eat.#eatingmeat4_but_Feedback_13#eatingmeat4_but_Feedback_13\n",
      "Methane from cow burps harms the environment, so scientists and farmers are proclaiming that animal agriculture can be made to be less harmful to the environment.#eatingmeat4_so_Feedback_5#eatingmeat4_so_Feedback_1\n",
      "Methane from cow burps harms the environment, so we should find ways to eat less beef or manipulate how much methane is caused by cows.#eatingmeat4_so_Feedback_10#eatingmeat4_so_Feedback_10\n",
      "Methane from cow burps harms the environment because cows burp out 30-50 gallons daily of methane, a gas causing Earth temperatures to rise.#eatingmeat4_because_Feedback_5#eatingmeat4_because_Feedback_5\n",
      "Methane from cow burps harms the environment, but we can reduce the harms by feeding the cows differently.#eatingmeat4_but_Feedback_9#eatingmeat4_but_Feedback_9\n",
      "Methane from cow burps harms the environment, but there are two good alternatives that might be implemented to reduce the amount of methane by 89% to 99%.#eatingmeat4_but_Feedback_3#eatingmeat4_but_Feedback_3\n",
      "Methane from cow burps harms the environment because it helps to speed up global warming#eatingmeat4_because_Feedback_1#eatingmeat4_because_Feedback_1\n",
      "Methane from cow burps harms the environment, so cows should consume seaweed as part of their diets, as they release up to 99% less methane in their burps when doing so.#eatingmeat4_so_Feedback_10#eatingmeat4_so_Feedback_10\n",
      "Methane from cow burps harms the environment, but there are alternatives such ad Impossible meat, which can help cut back on methane gas.#eatingmeat4_but_Feedback_5#eatingmeat4_but_Feedback_6\n",
      "Methane from cow burps harms the environment because it causes earths temperature to rise which causes global warming.#eatingmeat4_because_Feedback_1#eatingmeat4_because_Feedback_1\n",
      "Methane from cow burps harms the environment because it is linked.to an increase in global warming which causes more severe weather events.#eatingmeat4_because_Feedback_2#eatingmeat4_because_Feedback_2\n",
      "Methane from cow burps harms the environment because it is a greenhouse gas that contributes to global warming and the effect is drastic because 1.5 billion cows are producing 30-50 gallons of methane each day.#eatingmeat4_because_Feedback_1#eatingmeat4_because_Feedback_1\n",
      "Methane from cow burps harms the environment, but feeding them seaweed could reduce those harmful emissions by 99%.#eatingmeat4_but_Feedback_13#eatingmeat4_but_Feedback_13\n",
      "Methane from cow burps harms the environment, so we should find ways to reduce the production of methane from burps.#eatingmeat4_so_Feedback_10#eatingmeat4_so_Feedback_9\n",
      "Methane from cow burps harms the environment because it causes the Earth's temperature to rise in a process called global warming#eatingmeat4_because_Feedback_1#eatingmeat4_because_Feedback_1\n",
      "Methane from cow burps harms the environment, so impossible burger is an alternative source of beef.#eatingmeat4_so_Feedback_2#eatingmeat4_so_Feedback_2\n",
      "Methane from cow burps harms the environment because it causes greenhouse gases that lead to climate change, if we can eliminate or decrease this, it would be beneficial to all.#eatingmeat4_because_Feedback_5#eatingmeat4_because_Feedback_3\n",
      "Methane from cow burps harms the environment because each cow \"burps out\" about 40 gallons or more of methane gas a day, and methane gas is one cause of the greenhouse effect.#eatingmeat4_because_Feedback_9#eatingmeat4_because_Feedback_5\n",
      "Methane from cow burps harms the environment, but cows that eat seaweed release up to 99% less gas.#eatingmeat4_but_Feedback_13#eatingmeat4_but_Feedback_13\n",
      "Methane from cow burps harms the environment because it produces about 14.5% of the world's greenhouse gases.#eatingmeat4_because_Feedback_7#eatingmeat4_because_Feedback_7\n",
      "Methane from cow burps harms the environment, so Impossible Foods has come up with a meat alternative that many meat eaters actually like.#eatingmeat4_so_Feedback_2#eatingmeat4_so_Feedback_2\n",
      "Methane from cow burps harms the environment, but if they eat seaweed they can reduce their burp methane by 99%.#eatingmeat4_but_Feedback_13#eatingmeat4_but_Feedback_13\n",
      "Methane from cow burps harms the environment, but when fed a diet including seaweed, cows release up to 99% less methane in their burps.#eatingmeat4_but_Feedback_13#eatingmeat4_but_Feedback_13\n",
      "Methane from cow burps harms the environment because cows emit methane in their burps, which contribute to heating the environment and contributing to global warming.#eatingmeat4_because_Feedback_5#eatingmeat4_because_Feedback_5\n",
      "Methane from cow burps harms the environment, but by consuming seaweed, rather than grains, it can reduce the amount of methane generated by up to 99%.#eatingmeat4_but_Feedback_13#eatingmeat4_but_Feedback_13\n",
      "Methane from cow burps harms the environment because it raises the temperature of the earth and causes global warming.#eatingmeat4_because_Feedback_1#eatingmeat4_because_Feedback_1\n",
      "Methane from cow burps harms the environment, so nothing.#eatingmeat4_so_Feedback_8#eatingmeat4_so_Feedback_8\n",
      "Methane from cow burps harms the environment, but their impact can be decreased by introducing seaweed into their diet.#eatingmeat4_but_Feedback_13#eatingmeat4_but_Feedback_13\n",
      "Methane from cow burps harms the environment, so scientists and others have devised alternatives to reduce this.#eatingmeat4_so_Feedback_1#eatingmeat4_so_Feedback_1\n",
      "Methane from cow burps harms the environment, so companies are creating plant based products that are similar to meat.#eatingmeat4_so_Feedback_2#eatingmeat4_so_Feedback_2\n",
      "Methane from cow burps harms the environment, so a solution would be to feed cows seaweed as part of their diets, doing so they release up to 99% less methane in their burps proved by a recent research.#eatingmeat4_so_Feedback_10#eatingmeat4_so_Feedback_10\n",
      "Methane from cow burps harms the environment, so companies have created meat-less burgers or meats that do not contain animal products#eatingmeat4_so_Feedback_2#eatingmeat4_so_Feedback_2\n",
      "Methane from cow burps harms the environment because it's causing the Earth's temperature to rise.#eatingmeat4_because_Feedback_1#eatingmeat4_because_Feedback_1\n",
      "Methane from cow burps harms the environment, so food companies have been trying to find other ways to make animal free food, lessening the methane and use of animals.#eatingmeat4_so_Feedback_2#eatingmeat4_so_Feedback_2\n",
      "Methane from cow burps harms the environment, but feeding cows seaweed can change this because cows burp out 99% less methane when they eat seaweed#eatingmeat4_but_Feedback_13#eatingmeat4_but_Feedback_13\n",
      "Methane from cow burps harms the environment because the gases produce greenhouse gases, which affect the atmosphere in e negative way.#eatingmeat4_because_Feedback_4#eatingmeat4_because_Feedback_5\n",
      "Methane from cow burps harms the environment because it produces 10% of the gas emissions.#eatingmeat4_because_Feedback_9#eatingmeat4_because_Feedback_7\n",
      "Methane from cow burps harms the environment, so we should look for alternative solutions like changing the cows' diets to seaweed diets.#eatingmeat4_so_Feedback_10#eatingmeat4_so_Feedback_10\n",
      "Methane from cow burps harms the environment, but another solution lies in what farmers feed the cows.#eatingmeat4_but_Feedback_9#eatingmeat4_but_Feedback_9\n",
      "Methane from cow burps harms the environment, so Impossible Foods wants to end all animal agriculture.#eatingmeat4_so_Feedback_2#eatingmeat4_so_Feedback_2\n",
      "Methane from cow burps harms the environment, but recent research has shown that when cows consume seaweed as part of their diets, they release up to 99% less methane in their burps, which could reduce about one-third of greenhouse gas emissions caused by animal agriculture.#eatingmeat4_but_Feedback_13#eatingmeat4_but_Feedback_13\n",
      "Methane from cow burps harms the environment because the methane released leads to a rise in temperature in a process called global warming.#eatingmeat4_because_Feedback_1#eatingmeat4_because_Feedback_1\n",
      "Methane from cow burps harms the environment because when cows burp each add 30-50 gallons of methane gas per day to the atmosphere which contributes to the greenhowse effect and contributes to global warming.#eatingmeat4_because_Feedback_5#eatingmeat4_because_Feedback_5\n",
      "Methane from cow burps harms the environment, but they are so delicious#eatingmeat4_but_Feedback_7#eatingmeat4_but_Feedback_7\n",
      "Methane from cow burps harms the environment because cows burps out 30-50 gallons of the greenhouse gas methane#eatingmeat4_because_Feedback_8#eatingmeat4_because_Feedback_5\n",
      "Methane from cow burps harms the environment because each day they burp out 30-50 gallons of the greenhouse gas methane which damages the ozone layer.#eatingmeat4_because_Feedback_9#eatingmeat4_because_Feedback_5\n",
      "Methane from cow burps harms the environment, but if farmers were to feed their cows seaweed, the amount of methane they release may almost entirely be eradicated.#eatingmeat4_but_Feedback_13#eatingmeat4_but_Feedback_13\n",
      "Methane from cow burps harms the environment because cows burp 30-50 gallons of methane gas.#eatingmeat4_because_Feedback_5#eatingmeat4_because_Feedback_5\n",
      "Methane from cow burps harms the environment because methane contributes to global warning which leads to extreme weather events.#eatingmeat4_because_Feedback_2#eatingmeat4_because_Feedback_2\n",
      "Methane from cow burps harms the environment, so we should reduce the number of cows.#eatingmeat4_so_Feedback_9#eatingmeat4_so_Feedback_9\n",
      "Methane from cow burps harms the environment, but meatless foods significantly reduces these emissions.#eatingmeat4_but_Feedback_6#eatingmeat4_but_Feedback_8\n",
      "Methane from cow burps harms the environment, so one solution lies in changing what farmers feed cows and using seaweed as opposed to traditional feed.#eatingmeat4_so_Feedback_10#eatingmeat4_so_Feedback_10\n",
      "Methane from cow burps harms the environment, but are more harmful to the enviroment than meat#eatingmeat4_but_Feedback_7#eatingmeat4_but_Feedback_8\n",
      "Methane from cow burps harms the environment, so let's change their diet with seaweed and lessen methane.#eatingmeat4_so_Feedback_10#eatingmeat4_so_Feedback_10\n",
      "Methane from cow burps harms the environment, so we need to do something about it.#eatingmeat4_so_Feedback_9#eatingmeat4_so_Feedback_9\n",
      "Methane from cow burps harms the environment, so we should considering switching to seaweed-based feed for cattle.#eatingmeat4_so_Feedback_10#eatingmeat4_so_Feedback_10\n",
      "Methane from cow burps harms the environment, but there are ways to decrease the amount of methane.#eatingmeat4_but_Feedback_3#eatingmeat4_but_Feedback_3\n",
      "Methane from cow burps harms the environment, so Impossible Foods is attempting to stop all animal agriculture by 2035.#eatingmeat4_so_Feedback_2#eatingmeat4_so_Feedback_2\n",
      "Methane from cow burps harms the environment, but could be lessened if cows consumed seaweed in their diets.#eatingmeat4_but_Feedback_13#eatingmeat4_but_Feedback_13\n",
      "Methane from cow burps harms the environment because it causes the earth's temperature to rise, resulting in global warming.#eatingmeat4_because_Feedback_1#eatingmeat4_because_Feedback_1\n",
      "Methane from cow burps harms the environment, but feeding cows seaweed causes them to have up to 99% less methane in their burps.#eatingmeat4_but_Feedback_13#eatingmeat4_but_Feedback_13\n",
      "Methane from cow burps harms the environment, so we either need to find a way to decrease the methane produced (like with seaweed) or reduce the amount of meat that is consumed by humans.#eatingmeat4_so_Feedback_10#eatingmeat4_so_Feedback_10\n",
      "Methane from cow burps harms the environment because methane is a greenhouse gas, which causes Earth's temperature to rise in a process called Global Warming.#eatingmeat4_because_Feedback_1#eatingmeat4_because_Feedback_1\n",
      "Methane from cow burps harms the environment because it causes the Earths temperature to rise and global warming is the effect.#eatingmeat4_because_Feedback_1#eatingmeat4_because_Feedback_1\n",
      "Methane from cow burps harms the environment, so other ways to make the practice better for the environment.#eatingmeat4_so_Feedback_9#eatingmeat4_so_Feedback_9\n",
      "Methane from cow burps harms the environment, so we should stop using them as a source of meat.#eatingmeat4_so_Feedback_9#eatingmeat4_so_Feedback_9\n",
      "Methane from cow burps harms the environment because cow burps and other animal agriculture practices produce about 14.5% of the world’s greenhouse gases which contribute to global warming.#eatingmeat4_because_Feedback_3#eatingmeat4_because_Feedback_7\n",
      "Methane from cow burps harms the environment, but by changing their diet to seaweed it reduces cattle methane by 99% and animal agricultural methane production by 33%.#eatingmeat4_but_Feedback_13#eatingmeat4_but_Feedback_13\n",
      "Methane from cow burps harms the environment because cow burp out 30-50 gallons of greenhouse gas methane, causing the earth's temperature to rise.#eatingmeat4_because_Feedback_5#eatingmeat4_because_Feedback_5\n",
      "Methane from cow burps harms the environment, but Impossible Foods proposes that it's Impossible burgers can help because it can end animal agriculture by 2035 and produce 89% less pollution.#eatingmeat4_but_Feedback_5#eatingmeat4_but_Feedback_5\n",
      "Methane from cow burps harms the environment, but can be fixed by feeding the cows seaweed.#eatingmeat4_but_Feedback_13#eatingmeat4_but_Feedback_13\n",
      "Methane from cow burps harms the environment because Earth's temperature will rise in a process called global warming#eatingmeat4_because_Feedback_1#eatingmeat4_because_Feedback_1\n",
      "Methane from cow burps harms the environment, so companies have begun advocating for and developing meat-free substitutes.#eatingmeat4_so_Feedback_2#eatingmeat4_so_Feedback_2\n",
      "Methane from cow burps harms the environment because it releases gas into the atmosphere and causes the earth's temperature to rise as part of global warming.#eatingmeat4_because_Feedback_5#eatingmeat4_because_Feedback_5\n",
      "Methane from cow burps harms the environment, but when they consume seaweed as part of their diet, their burps contain 99% less methane.#eatingmeat4_but_Feedback_13#eatingmeat4_but_Feedback_13\n",
      "Methane from cow burps harms the environment, but feeding them seaweed will decrease their methane up to 99%.#eatingmeat4_but_Feedback_13#eatingmeat4_but_Feedback_13\n",
      "Methane from cow burps harms the environment, but meat alternatives produce 89 percent less methane.#eatingmeat4_but_Feedback_6#eatingmeat4_but_Feedback_6\n",
      "Methane from cow burps harms the environment, but provide people need.#eatingmeat4_but_Feedback_7#eatingmeat4_but_Feedback_7\n",
      "Methane from cow burps harms the environment, so to address the problem we have created plant based meats.#eatingmeat4_so_Feedback_2#eatingmeat4_so_Feedback_9\n",
      "Methane from cow burps harms the environment, so some food chains have started offering non-meat burger options in an effort to reduce the impact on our environment.#eatingmeat4_so_Feedback_6#eatingmeat4_so_Feedback_2\n",
      "Methane from cow burps harms the environment, so we could solve that problem by feeding cows seaweed which would reduce their burping by 99%.#eatingmeat4_so_Feedback_10#eatingmeat4_so_Feedback_10\n",
      "Methane from cow burps harms the environment, so impossible and others are looking for ways to reduce or end the methane released, either by ending animal farming, or changing what cows are fed.#eatingmeat4_so_Feedback_1#eatingmeat4_so_Feedback_3\n",
      "Methane from cow burps harms the environment, but it can be reduced by about one-third of greenhouse gas emissions if they are fed differently.#eatingmeat4_but_Feedback_9#eatingmeat4_but_Feedback_9\n",
      "Methane from cow burps harms the environment, but seaweed causes way less#eatingmeat4_but_Feedback_13#eatingmeat4_but_Feedback_13\n",
      "Methane from cow burps harms the environment, but this can be fixed by feeding them a steady diet of seaweed.#eatingmeat4_but_Feedback_13#eatingmeat4_but_Feedback_13\n",
      "Methane from cow burps harms the environment, so we need to look at non meat alternatives such as Impossible meats.#eatingmeat4_so_Feedback_9#eatingmeat4_so_Feedback_9\n",
      "Methane from cow burps harms the environment, so we should can what we eat by choosing meatless foods like those made by Impossible Foods.#eatingmeat4_so_Feedback_9#eatingmeat4_so_Feedback_9\n",
      "Methane from cow burps harms the environment because this gas causes Earths temperature to rise#eatingmeat4_because_Feedback_1#eatingmeat4_because_Feedback_1\n",
      "Methane from cow burps harms the environment because Methane is bad for the internment in such high quantities.#eatingmeat4_because_Feedback _6#eatingmeat4_because_Feedback_5\n",
      "Methane from cow burps harms the environment because IT causes the greenhouse gases#eatingmeat4_because_Feedback_4#eatingmeat4_because_Feedback_5\n",
      "Methane from cow burps harms the environment, so either a change in humans' meat-eating options and habits or a change in cows' is necessary to scale down the amount of methane being generated by these industries and eating habits.#eatingmeat4_so_Feedback_10#eatingmeat4_so_Feedback_10\n",
      "Methane from cow burps harms the environment because it releases a lot of methane for each cow.#eatingmeat4_because_Feedback_5#eatingmeat4_because_Feedback_5\n",
      "Methane from cow burps harms the environment because this gas causes global warming by raising the Earth’s temperature.#eatingmeat4_because_Feedback_1#eatingmeat4_because_Feedback_1\n",
      "Methane from cow burps harms the environment, but eating seaweed as part of their diets releases 99% less methane in their burps which reduced greenhouse gas emission by one third.#eatingmeat4_but_Feedback_13#eatingmeat4_but_Feedback_13\n",
      "Methane from cow burps harms the environment, but many people eat cows as a source of food.#eatingmeat4_but_Feedback_7#eatingmeat4_but_Feedback_7\n",
      "Methane from cow burps harms the environment, so we should try to end animal agriculture or at least change it by feeding cows seaweed to reduce their methane production.#eatingmeat4_so_Feedback_10#eatingmeat4_so_Feedback_10\n",
      "Methane from cow burps harms the environment because reduce about one-third of greenhouse gas emissions caused by animal agriculture.#eatingmeat4_because_Feedback_8#eatingmeat4_because_Feedback_5\n",
      "Methane from cow burps harms the environment because the gas, methane, adds to global warming which can increase the Earth's temperature.#eatingmeat4_because_Feedback_1#eatingmeat4_because_Feedback_1\n",
      "Methane from cow burps harms the environment because it releases 30-50 gallons of greenhouse gas to the environment.#eatingmeat4_because_Feedback_5#eatingmeat4_because_Feedback_5\n",
      "Methane from cow burps harms the environment, but there are other things that can be done to decrease the amount of methane gas released by cows such as incorporating seaweed into feed.#eatingmeat4_but_Feedback_13#eatingmeat4_but_Feedback_13\n",
      "Methane from cow burps harms the environment because gas emmition#eatingmeat4_because_Feedback_8#eatingmeat4_because_Feedback_8\n",
      "Methane from cow burps harms the environment, so the company, Impossible Meats, wants to end all animal agriculture by 2035 by creating plant based meats.#eatingmeat4_so_Feedback_2#eatingmeat4_so_Feedback_2\n",
      "Methane from cow burps harms the environment, but if they eat seaweed as part of their diet, it lowers the methane they produce by 99%.#eatingmeat4_but_Feedback_13#eatingmeat4_but_Feedback_13\n",
      "Methane from cow burps harms the environment, so we have to be careful with cow burps#eatingmeat4_so_Feedback_8#eatingmeat4_so_Feedback_9\n",
      "Methane from cow burps harms the environment because it adds to the world's greenhouse gases.#eatingmeat4_because_Feedback _6#eatingmeat4_because_Feedback _6\n",
      "Methane from cow burps harms the environment, so we should transition to plant based meats.#eatingmeat4_so_Feedback_9#eatingmeat4_so_Feedback_9\n",
      "Methane from cow burps harms the environment because it releases methane, a green house gas that contributes to global warming#eatingmeat4_because_Feedback_5#eatingmeat4_because_Feedback_5\n",
      "Methane from cow burps harms the environment, but seeweed eliminates 99% of the methane.#eatingmeat4_but_Feedback_13#eatingmeat4_but_Feedback_13\n",
      "Methane from cow burps harms the environment, but it may not be as bad as we think.#eatingmeat4_but_Feedback_7#eatingmeat4_but_Feedback_7\n",
      "Methane from cow burps harms the environment, but they could feed cows seaweed which released 99 percent less greenhouse gasses.#eatingmeat4_but_Feedback_13#eatingmeat4_but_Feedback_13\n",
      "Methane from cow burps harms the environment, so we need to change our habits and how we handle the cows.#eatingmeat4_so_Feedback_9#eatingmeat4_so_Feedback_10\n",
      "Methane from cow burps harms the environment, so companies are introducing alternative to cow meat, and scientists are studying ways to reduce methane emissions from cow burps.#eatingmeat4_so_Feedback_2#eatingmeat4_so_Feedback_2\n",
      "Methane from cow burps harms the environment, so we should create more plant-based meats that look and taste like real meat.#eatingmeat4_so_Feedback_9#eatingmeat4_so_Feedback_9\n",
      "Methane from cow burps harms the environment, so a company called Impossible Foods is now making a meatless alternative and hopes to end animal agriculture by the year 2035.#eatingmeat4_so_Feedback_2#eatingmeat4_so_Feedback_2\n",
      "Methane from cow burps harms the environment, but there is a way to reduce the amount of methane cows release by changing their diet to seaweed making the practice of animal farming more eco friendly#eatingmeat4_but_Feedback_13#eatingmeat4_but_Feedback_13\n",
      "Methane from cow burps harms the environment because cows burps out 30-50 gallons of the greenhouse gas methane and this gas causes Earth's temperature to rise in a process called global warming.#eatingmeat4_because_Feedback_5#eatingmeat4_because_Feedback_5\n",
      "Methane from cow burps harms the environment because methane is a greenhouse gas that is believed by many to potentially cause global warming.#eatingmeat4_because_Feedback_1#eatingmeat4_because_Feedback_1\n",
      "Methane from cow burps harms the environment because the gas causes the Earth's temperature to rise (global warming).#eatingmeat4_because_Feedback_1#eatingmeat4_because_Feedback_1\n",
      "Methane from cow burps harms the environment, so it is advisable to look into either meat alternatives that are plant based or amending the cattle diets such that there is lower methane in their burps.#eatingmeat4_so_Feedback_10#eatingmeat4_so_Feedback_10\n",
      "Methane from cow burps harms the environment, so changing what they eat can decrease the methane .#eatingmeat4_so_Feedback_10#eatingmeat4_so_Feedback_10\n",
      "Methane from cow burps harms the environment because of their diet which can be remedied with adding seaweed to their diet.#eatingmeat4_because_Feedback_8#eatingmeat4_but_Feedback_13\n",
      "Methane from cow burps harms the environment, but it can be reduced by altering their diet by feeding it foods such as seaweed.#eatingmeat4_but_Feedback_13#eatingmeat4_but_Feedback_13\n",
      "Methane from cow burps harms the environment, but if cows are allowed to eat seaweed in conjunction to their regular feed they produce 99% less methane.#eatingmeat4_but_Feedback_13#eatingmeat4_but_Feedback_13\n",
      "Methane from cow burps harms the environment, so Impossible Foods thinks we should eat less meat.#eatingmeat4_so_Feedback_2#eatingmeat4_so_Feedback_2\n",
      "Methane from cow burps harms the environment because it releases a significant quantity of methane greenhouse gas#eatingmeat4_because_Feedback_5#eatingmeat4_because_Feedback_5\n",
      "Methane from cow burps harms the environment, so 1.5 billion cows burps out 30-50 gallons of the greenhouse gas methane.#eatingmeat4_so_Feedback_7#eatingmeat4_so_Feedback_7\n",
      "Methane from cow burps harms the environment because the gas increases earth temperature.#eatingmeat4_because_Feedback_1#eatingmeat4_because_Feedback_1\n",
      "Methane from cow burps harms the environment, but not everyone agrees that we should stop animal agriculture or cease eating meat.#eatingmeat4_but_Feedback_2#eatingmeat4_but_Feedback_2\n",
      "Methane from cow burps harms the environment, but not everyone agrees on the solution to this problem.#eatingmeat4_but_Feedback_2#eatingmeat4_but_Feedback_2\n",
      "Methane from cow burps harms the environment, so cows should eat seeweed#eatingmeat4_so_Feedback_10#eatingmeat4_so_Feedback_10\n",
      "Methane from cow burps harms the environment because they burp out 30-50 gallons a piece, total this is 14.5 of all greenhouse gas emissions.#eatingmeat4_because_Feedback_7#eatingmeat4_because_Feedback_5\n",
      "Methane from cow burps harms the environment, but including seaweed in the cow's diet can reduce the amount of methane in these burps by a large fraction.#eatingmeat4_but_Feedback_13#eatingmeat4_but_Feedback_13\n",
      "Methane from cow burps harms the environment, so we must find an alternative such as plant based meat as illustrated by food chains like Burger King and White Castle.#eatingmeat4_so_Feedback_9#eatingmeat4_so_Feedback_9\n",
      "Methane from cow burps harms the environment, but there may be a way to reduce this production of methane.#eatingmeat4_but_Feedback_3#eatingmeat4_but_Feedback_3\n",
      "Methane from cow burps harms the environment because it is a greenhouse gas that causes the Earth's temperature to rise, leading to global warming.#eatingmeat4_because_Feedback_1#eatingmeat4_because_Feedback_1\n",
      "Methane from cow burps harms the environment, but we can fix it by changing what we feed the cow's to seaweed instead.#eatingmeat4_but_Feedback_13#eatingmeat4_but_Feedback_13\n",
      "Methane from cow burps harms the environment, so the company Impossible Foods wants to end all animal agricultural by 2035 .#eatingmeat4_so_Feedback_2#eatingmeat4_so_Feedback_2\n",
      "Methane from cow burps harms the environment because they produce 30.50 gallons of Greenhouse gas.#eatingmeat4_because_Feedback_5#eatingmeat4_because_Feedback_5\n",
      "Methane from cow burps harms the environment, so to counter act this, Impossible Foods has started developing plant-based imitation meat to counteract the effects of emissions from animal byproducts.#eatingmeat4_so_Feedback_2#eatingmeat4_so_Feedback_2\n",
      "Methane from cow burps harms the environment, so it would be effective in helping the changing climate by reducing the amount of meat that we eat so farmers won't need to raise so many.#eatingmeat4_so_Feedback_9#eatingmeat4_so_Feedback_9\n",
      "Methane from cow burps harms the environment, so many people are pushing ending animal agriculture.#eatingmeat4_so_Feedback_4#eatingmeat4_so_Feedback_2\n",
      "Methane from cow burps harms the environment because it creates greenhouse gases.#eatingmeat4_because_Feedback_4#eatingmeat4_because_Feedback_4\n",
      "Methane from cow burps harms the environment, but it can be reduced by eating less meat or changing what cows eat.#eatingmeat4_but_Feedback_9#eatingmeat4_but_Feedback_9\n",
      "Methane from cow burps harms the environment, but so does he practice of raising animals for food purposes#eatingmeat4_but_Feedback_4#eatingmeat4_but_Feedback_7\n",
      "Methane from cow burps harms the environment, but if the cows were fed seaweed the amount of methane released from cows burps would be 99% less than with their typical diets.#eatingmeat4_but_Feedback_13#eatingmeat4_but_Feedback_13\n",
      "Methane from cow burps harms the environment, so changing to a plant based diet may help he environment.#eatingmeat4_so_Feedback_9#eatingmeat4_so_Feedback_9\n",
      "Methane from cow burps harms the environment because their burps contain methane which can lead to global warming.#eatingmeat4_because_Feedback_5#eatingmeat4_because_Feedback_5\n",
      "Methane from cow burps harms the environment because it releases the greenhouse gas methane.#eatingmeat4_because_Feedback_5#eatingmeat4_because_Feedback_5\n",
      "Methane from cow burps harms the environment because these greenhouse gases are a big factor in global warming, which is causing droughts, heat waves, wildfires, and floods.#eatingmeat4_because_Feedback_2#eatingmeat4_because_Feedback_1\n",
      "Methane from cow burps harms the environment, but feeding them seaweed will reduce the methane in their burps.#eatingmeat4_but_Feedback_13#eatingmeat4_but_Feedback_13\n",
      "Methane from cow burps harms the environment, but we could change that.#eatingmeat4_but_Feedback_3#eatingmeat4_but_Feedback_3\n",
      "Methane from cow burps harms the environment because it causes Earth's temperature to rise#eatingmeat4_because_Feedback_1#eatingmeat4_because_Feedback_1\n",
      "Methane from cow burps harms the environment, but it can be reduced by eating less meat.#eatingmeat4_but_Feedback_13#eatingmeat4_but_Feedback_6\n",
      "Methane from cow burps harms the environment, so we should change what people and cows eat.#eatingmeat4_so_Feedback_10#eatingmeat4_so_Feedback_10\n",
      "Methane from cow burps harms the environment, but it can be reduced up to 99% by changing the cow's diet.#eatingmeat4_but_Feedback_9#eatingmeat4_but_Feedback_9\n",
      "Methane from cow burps harms the environment, so changing the cow's diet could help reduce the output of methane gas by as much as 99.9%.#eatingmeat4_so_Feedback_10#eatingmeat4_so_Feedback_10\n",
      "Methane from cow burps harms the environment, so it makes sense to consume less beef.#eatingmeat4_so_Feedback_9#eatingmeat4_so_Feedback_9\n",
      "Methane from cow burps harms the environment, so we must change what cows eat.#eatingmeat4_so_Feedback_10#eatingmeat4_so_Feedback_10\n",
      "Methane from cow burps harms the environment because it produces about 14.5% of the worlds greenhouse gases which leads to global warming.#eatingmeat4_because_Feedback_7#eatingmeat4_because_Feedback_7\n",
      "Methane from cow burps harms the environment, so we are looking at other ways that we can eat food that would be better for the environment#eatingmeat4_so_Feedback_9#eatingmeat4_so_Feedback_9\n",
      "Methane from cow burps harms the environment because it causes the earth's temperature to rise, causing global warming.#eatingmeat4_because_Feedback_1#eatingmeat4_because_Feedback_1\n",
      "Methane from cow burps harms the environment because it increases green house gas emissions#eatingmeat4_because_Feedback _6#eatingmeat4_because_Feedback _6\n",
      "Methane from cow burps harms the environment, but feeding them seaweed would reduce the amount of methane released by these burps.#eatingmeat4_but_Feedback_13#eatingmeat4_but_Feedback_13\n",
      "Methane from cow burps harms the environment, so consuming less meat which would reduce the demand for animals raised for food, plus changing what the cows are fed to something that produces less gas can reduce the harm to the environment.#eatingmeat4_so_Feedback_10#eatingmeat4_so_Feedback_10\n",
      "Methane from cow burps harms the environment, but that effect can be drastically reduced by feeding cows seaweed instead of their current diet.#eatingmeat4_but_Feedback_13#eatingmeat4_but_Feedback_13\n",
      "Methane from cow burps harms the environment, so some want to end all animal agriculture.#eatingmeat4_so_Feedback_2#eatingmeat4_so_Feedback_2\n",
      "Methane from cow burps harms the environment because the cows emit methane when they burp.#eatingmeat4_because_Feedback_5#eatingmeat4_because_Feedback_5\n",
      "Methane from cow burps harms the environment, but companies are attempting to produce plant based alternatives so cow farming can stop.#eatingmeat4_but_Feedback_5#eatingmeat4_but_Feedback_8\n",
      "Methane from cow burps harms the environment because it produces methane gas and adds to global warming.#eatingmeat4_because_Feedback_5#eatingmeat4_because_Feedback_4\n",
      "Methane from cow burps harms the environment, so measure the methane in cow belches, gas was collected in tubes leading from cows' noses#eatingmeat4_so_Feedback_8#eatingmeat4_so_Feedback_10\n",
      "Methane from cow burps harms the environment, but could be decreased by supplementing the cow's diet with seaweed.#eatingmeat4_but_Feedback_13#eatingmeat4_but_Feedback_13\n",
      "Methane from cow burps harms the environment, but when they consume seaweed they produce less methane.#eatingmeat4_but_Feedback_13#eatingmeat4_but_Feedback_13\n",
      "Methane from cow burps harms the environment, but by feeding cows seaweed in their diet, cows can release up to 99% less methane in their burps.#eatingmeat4_but_Feedback_13#eatingmeat4_but_Feedback_13\n",
      "Methane from cow burps harms the environment, so we should consume more plant based foods.#eatingmeat4_so_Feedback_9#eatingmeat4_so_Feedback_9\n",
      "Methane from cow burps harms the environment, but solutions like impossible food \"meatless\" meat uses releases much less methane into the air.#eatingmeat4_but_Feedback_5#eatingmeat4_but_Feedback_8\n",
      "Methane from cow burps harms the environment, but can be reduced by feeding them seaweed.#eatingmeat4_but_Feedback_13#eatingmeat4_but_Feedback_13\n",
      "Methane from cow burps harms the environment, but droughts, floods and heat waves cause more harm#eatingmeat4_but_Feedback_8#eatingmeat4_but_Feedback_8\n",
      "Methane from cow burps harms the environment, so we need to take action to think of ways to feed the cows better food that has been shown to reduce emissions or we need to go with meat alternatives so that meat usage is reduced in favor of alternative food options.#eatingmeat4_so_Feedback_10#eatingmeat4_so_Feedback_10\n",
      "Methane from cow burps harms the environment, but farmers say that if cows eat seed containing seaweed, their methane production is reduced by 99 percent.#eatingmeat4_but_Feedback_13#eatingmeat4_but_Feedback_13\n",
      "Methane from cow burps harms the environment, but a diet of seaweed can cut the methane gas down by 1/3.#eatingmeat4_but_Feedback_13#eatingmeat4_but_Feedback_13\n",
      "Methane from cow burps harms the environment because they contain 14.5% of the greenhouse gas methane emitted into the environment.#eatingmeat4_because_Feedback_7#eatingmeat4_because_Feedback_7\n",
      "Methane from cow burps harms the environment, but if cows eat seaweed, they produce less methane.#eatingmeat4_but_Feedback_13#eatingmeat4_but_Feedback_13\n",
      "Methane from cow burps harms the environment because it contains methane which is responsible for 14.5% of the greenhouse gas emissions.#eatingmeat4_because_Feedback_7#eatingmeat4_because_Feedback_5\n",
      "Methane from cow burps harms the environment because these gases released make up about 14% of total green house gas emissions causing global temperatures to rise.#eatingmeat4_because_Feedback_7#eatingmeat4_because_Feedback_7\n",
      "Methane from cow burps harms the environment because it increases the Earth's temperature and causes global warming.#eatingmeat4_because_Feedback_1#eatingmeat4_because_Feedback_1\n",
      "Methane from cow burps harms the environment because it produces about 14.5% of the world's greenhouse gases#eatingmeat4_because_Feedback_7#eatingmeat4_because_Feedback_7\n",
      "Methane from cow burps harms the environment because it affects the temperature and causes it to rise.#eatingmeat4_because_Feedback_1#eatingmeat4_because_Feedback_1\n",
      "Methane from cow burps harms the environment, but a company called Impossible Foods is creating an alternative meat like substance that is much safer to the environment; in fact it makes 89% less greenhouse gas to produce.#eatingmeat4_but_Feedback_5#eatingmeat4_but_Feedback_8\n",
      "Methane from cow burps harms the environment, but can be significantly reduced with just a change to the cows diet.#eatingmeat4_but_Feedback_9#eatingmeat4_but_Feedback_9\n",
      "Methane from cow burps harms the environment, so people should change what they eat.#eatingmeat4_so_Feedback_9#eatingmeat4_so_Feedback_9\n",
      "Methane from cow burps harms the environment, so the Impossible “meatless” burger is an alternative to current agricultural practices that harm the environment.#eatingmeat4_so_Feedback_9#eatingmeat4_so_Feedback_9\n",
      "Methane from cow burps harms the environment, but based on one argument from the article, it would likely be either reduced or no longer a problem if the farmers fed cows different food.#eatingmeat4_but_Feedback_9#eatingmeat4_but_Feedback_9\n",
      "Methane from cow burps harms the environment, but it can be changed by what they are fed.#eatingmeat4_but_Feedback_9#eatingmeat4_but_Feedback_9\n",
      "Methane from cow burps harms the environment, but they predict that as Earth’s temperature rises, these events will become more common.#eatingmeat4_but_Feedback_8#eatingmeat4_but_Feedback_8\n",
      "Methane from cow burps harms the environment because it causes the earth's temperature to rise, which causes a lot of extreme weather events.#eatingmeat4_because_Feedback_2#eatingmeat4_because_Feedback_2\n",
      "Methane from cow burps harms the environment, but changing their diet to have them consume seaweeds could reduce the amount of methane in their burps by 99%#eatingmeat4_but_Feedback_13#eatingmeat4_but_Feedback_13\n",
      "Methane from cow burps harms the environment, but plant based meat alternatives could decrease the harmful effects of bovine methane on cattle farms.#eatingmeat4_but_Feedback_6#eatingmeat4_but_Feedback_6\n",
      "Methane from cow burps harms the environment because it contributes to raising the earth's temperature.#eatingmeat4_because_Feedback_1#eatingmeat4_because_Feedback_1\n",
      "Methane from cow burps harms the environment, but there may be a way to mitigate the effects if cows are fed sea weed.#eatingmeat4_but_Feedback_9#eatingmeat4_but_Feedback_9\n",
      "Methane from cow burps harms the environment, but it could be curtailed multiple ways.#eatingmeat4_but_Feedback_3#eatingmeat4_but_Feedback_3\n",
      "Methane from cow burps harms the environment, so we have to make a change by either changing their diet or eating more imitation meat.#eatingmeat4_so_Feedback_10#eatingmeat4_so_Feedback_10\n",
      "Methane from cow burps harms the environment because it increases the earth's temperature called Global Warming.#eatingmeat4_because_Feedback_1#eatingmeat4_because_Feedback_1\n",
      "Methane from cow burps harms the environment because it causes the earth's temperature to rise which in turn causes more natural disasters on earth.#eatingmeat4_because_Feedback_1#eatingmeat4_because_Feedback_2\n",
      "Methane from cow burps harms the environment, but if fed seaweed as part of their diet reduces the methane in their burps.#eatingmeat4_but_Feedback_13#eatingmeat4_but_Feedback_13\n",
      "Methane from cow burps harms the environment, but by changing cow diets the methane could be reduced.#eatingmeat4_but_Feedback_13#eatingmeat4_but_Feedback_9\n",
      "Methane from cow burps harms the environment, but we can lower the amount of methane from feeding seaweed to cows.#eatingmeat4_but_Feedback_13#eatingmeat4_but_Feedback_13\n",
      "Methane from cow burps harms the environment because it increases the earth's temperature, therefore creating global warming.#eatingmeat4_because_Feedback_1#eatingmeat4_because_Feedback_1\n",
      "Methane from cow burps harms the environment because it a large contributor to greenhouse gases that influence climate change.#eatingmeat4_because_Feedback_3#eatingmeat4_because_Feedback_3\n",
      "Methane from cow burps harms the environment, so cows should eat more seaweed since studies show they produce far less methane when eating said food.#eatingmeat4_so_Feedback_10#eatingmeat4_so_Feedback_10\n",
      "Methane from cow burps harms the environment, but are not the sole cause but reduction of their effect could help the issue.#eatingmeat4_but_Feedback_4#eatingmeat4_but_Feedback_13\n",
      "Methane from cow burps harms the environment because they cause the earths temperature to rise from emitting greenhouse gases.#eatingmeat4_because_Feedback_5#eatingmeat4_because_Feedback_5\n",
      "Methane from cow burps harms the environment, so we need to take steps now to prevent the consequences of these burps.#eatingmeat4_so_Feedback_9#eatingmeat4_so_Feedback_9\n",
      "Methane from cow burps harms the environment, but it only accounts for 14.5% of the world's greenhouse gases, and we could reduce this by adding seaweed to what we feed cows.#eatingmeat4_but_Feedback_13#eatingmeat4_but_Feedback_13\n",
      "Methane from cow burps harms the environment, but we should eat less beef.#eatingmeat4_but_Feedback_7#eatingmeat4_but_Feedback_6\n",
      "Methane from cow burps harms the environment, but there are alternative food for cows, seaweed is one that will reduce methane 99%.#eatingmeat4_but_Feedback_13#eatingmeat4_but_Feedback_13\n",
      "Methane from cow burps harms the environment, so something needs to be done to reduce the methane in the cow burps.#eatingmeat4_so_Feedback_9#eatingmeat4_so_Feedback_10\n",
      "Methane from cow burps harms the environment, but feeding the cows seaweed would reduce the amount of methane in their burps.#eatingmeat4_but_Feedback_13#eatingmeat4_but_Feedback_13\n",
      "Methane from cow burps harms the environment, so we should change their diet.#eatingmeat4_so_Feedback_10#eatingmeat4_so_Feedback_10\n",
      "Methane from cow burps harms the environment, so it is important that we as a society explore other options in the production of meat including plant based alternatives.#eatingmeat4_so_Feedback_9#eatingmeat4_so_Feedback_9\n",
      "Methane from cow burps harms the environment, but may be decreased by changing the cows diets.#eatingmeat4_but_Feedback_9#eatingmeat4_but_Feedback_9\n",
      "Methane from cow burps harms the environment because methane is released from the cow.#eatingmeat4_because_Feedback_5#eatingmeat4_because_Feedback_5\n",
      "Methane from cow burps harms the environment, but if they can be fed seaweed it will reduce the methane in their burps by 99%.#eatingmeat4_but_Feedback_13#eatingmeat4_but_Feedback_13\n",
      "Methane from cow burps harms the environment, so we should strive to either end animal agriculture or work on changing the cows diets so as to produce less methane.#eatingmeat4_so_Feedback_10#eatingmeat4_so_Feedback_10\n",
      "Methane from cow burps harms the environment because it realeases green house methane gas.#eatingmeat4_because_Feedback_5#eatingmeat4_because_Feedback _6\n",
      "Methane from cow burps harms the environment, so we do need to put together a game plan to fix this issue.#eatingmeat4_so_Feedback_9#eatingmeat4_so_Feedback_9\n",
      "Methane from cow burps harms the environment because it causes Earth's temperature to rise in a process called global warming.#eatingmeat4_because_Feedback_1#eatingmeat4_because_Feedback_1\n",
      "Methane from cow burps harms the environment, but it is not that impactful#eatingmeat4_but_Feedback_7#eatingmeat4_but_Feedback_7\n",
      "Methane from cow burps harms the environment, but Scientists have linked global warming to an increase in extreme weather events such as droughts, heat waves, wildfires, and floods.#eatingmeat4_but_Feedback_8#eatingmeat4_but_Feedback_8\n",
      "Methane from cow burps harms the environment because it increases greenhouse emissions.#eatingmeat4_because_Feedback _6#eatingmeat4_because_Feedback _6\n",
      "Methane from cow burps harms the environment, but feeding them seaweed reduces this by 99%.#eatingmeat4_but_Feedback_13#eatingmeat4_but_Feedback_13\n",
      "Methane from cow burps harms the environment, but it can be reduced#eatingmeat4_but_Feedback_3#eatingmeat4_but_Feedback_3\n",
      "Methane from cow burps harms the environment, but so does the production of other animal meats.#eatingmeat4_but_Feedback_4#eatingmeat4_but_Feedback_8\n",
      "Methane from cow burps harms the environment, but when given seaweed as part of their diets, they release up to 99% less methane in their burps.#eatingmeat4_but_Feedback_13#eatingmeat4_but_Feedback_13\n",
      "Methane from cow burps harms the environment, but scientists and farmers pose that incorporating seaweed into cows' diet causes them to release 99% less methane in their burps.#eatingmeat4_but_Feedback_13#eatingmeat4_but_Feedback_13\n",
      "Methane from cow burps harms the environment because methane is a gas that contributes to global warming.#eatingmeat4_because_Feedback_1#eatingmeat4_because_Feedback_1\n",
      "Methane from cow burps harms the environment, so we should adjust the diet of cows and eliminate consumption of meat.#eatingmeat4_so_Feedback_10#eatingmeat4_so_Feedback_10\n",
      "Methane from cow burps harms the environment because the burps produce about 14.5% of the world's greenhouse gases.#eatingmeat4_because_Feedback_7#eatingmeat4_because_Feedback_7\n",
      "Methane from cow burps harms the environment, but nature is important.#eatingmeat4_but_Feedback_7#eatingmeat4_but_Feedback_7\n",
      "Methane from cow burps harms the environment because their burp contains the greenhouse gas methane.#eatingmeat4_because_Feedback_5#eatingmeat4_because_Feedback_5\n",
      "Methane from cow burps harms the environment because methane is a greenhouse gas that traps heat in the atmosphere.#eatingmeat4_because_Feedback_1#eatingmeat4_because_Feedback_1\n",
      "Methane from cow burps harms the environment, so we can change what we feed the cows.#eatingmeat4_so_Feedback_10#eatingmeat4_so_Feedback_10\n",
      "Methane from cow burps harms the environment, but changing the cows diet to seaweed will decrease the release of methane from their burps by 99%.#eatingmeat4_but_Feedback_13#eatingmeat4_but_Feedback_13\n",
      "Methane from cow burps harms the environment, so it makes sense to either eliminate the cows or change what they eat, e.g. seaweed.#eatingmeat4_so_Feedback_10#eatingmeat4_so_Feedback_10\n",
      "Methane from cow burps harms the environment, so farmers should feed them seaweed which reduces it.#eatingmeat4_so_Feedback_10#eatingmeat4_so_Feedback_10\n",
      "Methane from cow burps harms the environment, so consumers and farmers ought to change their habits, whether that means eating more plant-based food, or changing the diets of the cows themselves.#eatingmeat4_so_Feedback_10#eatingmeat4_so_Feedback_10\n",
      "Methane from cow burps harms the environment, but their contribution to the greenhouse effect could be mediated by adding seaweed to their diets.#eatingmeat4_but_Feedback_13#eatingmeat4_but_Feedback_13\n",
      "Methane from cow burps harms the environment, but we can change the eating habits of the general population by introducing meat substitutes such as the Impossible meat.#eatingmeat4_but_Feedback_10#eatingmeat4_but_Feedback_9\n",
      "Methane from cow burps harms the environment, but many people enjoy eating meat.#eatingmeat4_but_Feedback_7#eatingmeat4_but_Feedback_7\n",
      "Methane from cow burps harms the environment because methane is a great house gas, contributes significantly to climate change#eatingmeat4_because_Feedback_3#eatingmeat4_because_Feedback_3\n",
      "Methane from cow burps harms the environment, so we should either seek to reduce our reliance on methane belching animals as the source of our meat by looking to plant-based meat alternatives, or explore alternate methods of feeding so that Cows produce less methane#eatingmeat4_so_Feedback_10#eatingmeat4_so_Feedback_10\n",
      "Methane from cow burps harms the environment, but it's have some natural growth for Former.#eatingmeat4_but_Feedback_7#eatingmeat4_but_Feedback_8\n",
      "Methane from cow burps harms the environment, but the practice of raising animals for human consumption harms the environment too.#eatingmeat4_but_Feedback_4#eatingmeat4_but_Feedback_4\n",
      "Methane from cow burps harms the environment, so if we stop eating meat/end animal agriculture, or change what cows eat, we may be able to make slow global warming.#eatingmeat4_so_Feedback_10#eatingmeat4_so_Feedback_10\n",
      "Methane from cow burps harms the environment, but altering cattle feed composition may significantly reduce the per cow release of methane gas.#eatingmeat4_but_Feedback_9#eatingmeat4_but_Feedback_9\n",
      "Methane from cow burps harms the environment, but it produces about 14.5 % of the worlds green houses gas .#eatingmeat4_but_Feedback_1#eatingmeat4_but_Feedback_1\n",
      "Methane from cow burps harms the environment because they add 14.5% of the greenhouse gasses to the environment.#eatingmeat4_because_Feedback_7#eatingmeat4_because_Feedback_7\n",
      "Methane from cow burps harms the environment, so IF COWS CONSUME SEAWEED AS PART OF THEIR DIETS, THEY RELEASE UP TO 99% LESS METHANE IN THEIR BURPS, THIS CAN REDUCE ONE THIRD OF GREEN HOUSE GAS EMISSION#eatingmeat4_so_Feedback_10#eatingmeat4_so_Feedback_10\n",
      "Methane from cow burps harms the environment, but it is useful#eatingmeat4_but_Feedback_7#eatingmeat4_but_Feedback_8\n",
      "Methane from cow burps harms the environment, but if we change what people eat, this will change.#eatingmeat4_but_Feedback_6#eatingmeat4_but_Feedback_13\n",
      "Methane from cow burps harms the environment, so researchers want to add a seaweed diet for cows #eatingmeat4_so_Feedback_11#eatingmeat4_so_Feedback_11\n",
      "Methane from cow burps harms the environment because it releases 30-50 gallons of greenhouse gas methane on a daily basis.#eatingmeat4_because_Feedback_5#eatingmeat4_because_Feedback_5\n",
      "Methane from cow burps harms the environment because this gas causes to global warming.#eatingmeat4_because_Feedback_1#eatingmeat4_because_Feedback_1\n",
      "Methane from cow burps harms the environment, so we much find other ways to reduce methane production.#eatingmeat4_so_Feedback_9#eatingmeat4_so_Feedback_9\n",
      "Methane from cow burps harms the environment because it increases Earth temperature#eatingmeat4_because_Feedback_1#eatingmeat4_because_Feedback_1\n",
      "Methane from cow burps harms the environment, but feeding them seaweed can reduce methane in their burps up to 99%.#eatingmeat4_but_Feedback_13#eatingmeat4_but_Feedback_13\n",
      "Methane from cow burps harms the environment because it produces about 14.5% of all greenhouse gases.#eatingmeat4_because_Feedback_7#eatingmeat4_because_Feedback_7\n",
      "Methane from cow burps harms the environment, but may be alleviated if the cows were fed seaweed as part of their diet.#eatingmeat4_but_Feedback_13#eatingmeat4_but_Feedback_13\n",
      "Methane from cow burps harms the environment, so industries should begin to look at more sustainable agricultural practices.#eatingmeat4_so_Feedback_9#eatingmeat4_so_Feedback_9\n",
      "Methane from cow burps harms the environment because each of the world’s 1.5 billion cows burps out 30-50 gallons of the greenhouse gas methane.#eatingmeat4_because_Feedback_5#eatingmeat4_because_Feedback_5\n",
      "Methane from cow burps harms the environment because it causes the Earth's temperature to rise, leading to increased occurrences of droughts, heat waves, wildfires, and floods.#eatingmeat4_because_Feedback_2#eatingmeat4_because_Feedback_1\n",
      "Methane from cow burps harms the environment because It contributes to green house gases#eatingmeat4_because_Feedback _6#eatingmeat4_because_Feedback _6\n",
      "Methane from cow burps harms the environment because this gas causes the Earth's temperature to rise.#eatingmeat4_because_Feedback_1#eatingmeat4_because_Feedback_1\n",
      "Methane from cow burps harms the environment, but produce about 14.5% of the world's greenhouse gases.#eatingmeat4_but_Feedback_1#eatingmeat4_but_Feedback_1\n",
      "Methane from cow burps harms the environment, so we should cut back.#eatingmeat4_so_Feedback_9#eatingmeat4_so_Feedback_9\n",
      "Methane from cow burps harms the environment, so we could eliminate the need for meat or change what the cows eat to save from methane gases.#eatingmeat4_so_Feedback_10#eatingmeat4_so_Feedback_10\n",
      "Methane from cow burps harms the environment, so there should be actions taken to help reduce the methane cows emit.#eatingmeat4_so_Feedback_10#eatingmeat4_so_Feedback_10\n",
      "Methane from cow burps harms the environment, so the goal should be to stop using animals as food and go to a plant based diet.#eatingmeat4_so_Feedback_9#eatingmeat4_so_Feedback_9\n",
      "Methane from cow burps harms the environment because it contributes to global warming by raising the Earth's temperature.#eatingmeat4_because_Feedback_1#eatingmeat4_because_Feedback_1\n",
      "Methane from cow burps harms the environment because they release methane gas.#eatingmeat4_because_Feedback_5#eatingmeat4_because_Feedback_5\n",
      "Methane from cow burps harms the environment, so feeding them other foods or reducing beef consumption could help the planet.#eatingmeat4_so_Feedback_10#eatingmeat4_so_Feedback_10\n",
      "Methane from cow burps harms the environment because it contributes heavily to global warming.#eatingmeat4_because_Feedback_1#eatingmeat4_because_Feedback_1\n",
      "Methane from cow burps harms the environment, so we should have people eat less meat.#eatingmeat4_so_Feedback_9#eatingmeat4_so_Feedback_9\n",
      "Methane from cow burps harms the environment because it traps greenhouse gases.#eatingmeat4_because_Feedback_10#eatingmeat4_because_Feedback _6\n",
      "Methane from cow burps harms the environment because they put out methane gas.#eatingmeat4_because_Feedback_5#eatingmeat4_because_Feedback_5\n",
      "Methane from cow burps harms the environment, but the amount they produce can be lowered by introducing seaweed into their diets.#eatingmeat4_but_Feedback_13#eatingmeat4_but_Feedback_13\n",
      "Methane from cow burps harms the environment, so scientists have found ways to reduce the methane, either by quitting meat production ,or giving the cows seaweed.#eatingmeat4_so_Feedback_3#eatingmeat4_so_Feedback_3\n",
      "Methane from cow burps harms the environment, but feeding the cows seaweed reduces their production of methane by 99%.#eatingmeat4_but_Feedback_13#eatingmeat4_but_Feedback_13\n",
      "Methane from cow burps harms the environment because it adds to the global warming effect.#eatingmeat4_because_Feedback_1#eatingmeat4_because_Feedback_1\n",
      "Methane from cow burps harms the environment, but it is less than 15% of the world's greenhouse gases.#eatingmeat4_but_Feedback_1#eatingmeat4_but_Feedback_1\n",
      "Methane from cow burps harms the environment, but if we change what they eat to seaweed in their diet then that can reduce the methane by 99%.#eatingmeat4_but_Feedback_13#eatingmeat4_but_Feedback_13\n",
      "Methane from cow burps harms the environment, so cows need to be fed differently.#eatingmeat4_so_Feedback_10#eatingmeat4_so_Feedback_10\n",
      "Methane from cow burps harms the environment because this gas causes Earth's temperature to rise in a process called global warming.#eatingmeat4_because_Feedback_1#eatingmeat4_because_Feedback_1\n",
      "Methane from cow burps harms the environment, but seaweed used as food does not release as much methane as traditional grass.#eatingmeat4_but_Feedback_13#eatingmeat4_but_Feedback_13\n",
      "Methane from cow burps harms the environment, so we should change what cows eat to seaweed so they can produce 99% less gasses.#eatingmeat4_so_Feedback_10#eatingmeat4_so_Feedback_10\n",
      "Methane from cow burps harms the environment, but adding seaweed to their diet has reduced their gas emissions.#eatingmeat4_but_Feedback_13#eatingmeat4_but_Feedback_13\n",
      "Methane from cow burps harms the environment, but the amount of methane released from cows can be reduced by adding seaweed to their diet.#eatingmeat4_but_Feedback_13#eatingmeat4_but_Feedback_13\n",
      "Methane from cow burps harms the environment, but by reducing the amount of meat we consume can cut back on the cow burps.#eatingmeat4_but_Feedback_6#eatingmeat4_but_Feedback_13\n",
      "Methane from cow burps harms the environment, but another solution is to change what the cows are fed.#eatingmeat4_but_Feedback_9#eatingmeat4_but_Feedback_9\n",
      "Methane from cow burps harms the environment, so we should change the diet of cows to seaweed.#eatingmeat4_so_Feedback_10#eatingmeat4_so_Feedback_10\n",
      "Methane from cow burps harms the environment, but if people switch to plant based meat alternatives the problem will decrease.#eatingmeat4_but_Feedback_13#eatingmeat4_but_Feedback_6\n",
      "Methane from cow burps harms the environment, but feeding them seaweed can greatly reduce the methane#eatingmeat4_but_Feedback_13#eatingmeat4_but_Feedback_13\n",
      "Methane from cow burps harms the environment because it increases earth's overall temperature causing global warming.#eatingmeat4_because_Feedback_1#eatingmeat4_because_Feedback_1\n",
      "Methane from cow burps harms the environment, but there are ways to greatly reduce this affect on the environment.#eatingmeat4_but_Feedback_3#eatingmeat4_but_Feedback_3\n",
      "Methane from cow burps harms the environment, so ihelpi will,continue to eat meat#eatingmeat4_so_Feedback_8#eatingmeat4_so_Feedback_8\n",
      "Methane from cow burps harms the environment, but still produces less than 15% of greenhouse gasses.#eatingmeat4_but_Feedback_1#eatingmeat4_but_Feedback_1\n",
      "Methane from cow burps harms the environment, but it also feeds people and can be handled in different ways#eatingmeat4_but_Feedback_7#eatingmeat4_but_Feedback_3\n",
      "Methane from cow burps harms the environment, so when cows consume seaweed as part of their diets, they release up to 99% less methane in their burps.#eatingmeat4_so_Feedback_10#eatingmeat4_so_Feedback_5\n",
      "Methane from cow burps harms the environment, but a diet with seaweed would reduce the methane.#eatingmeat4_but_Feedback_13#eatingmeat4_but_Feedback_13\n",
      "Methane from cow burps harms the environment, but we can address this by lowering the number of cows being farmed, or by changing what cows eat.#eatingmeat4_but_Feedback_9#eatingmeat4_but_Feedback_9\n",
      "Methane from cow burps harms the environment, but the impact can be lessened by feeding cows seaweed.#eatingmeat4_but_Feedback_13#eatingmeat4_but_Feedback_13\n",
      "Methane from cow burps harms the environment, so there is an on-going (and much needed) discussion about the best ways to combat all current animal agriculture effects, including ways to minimize cow burps.#eatingmeat4_so_Feedback_10#eatingmeat4_so_Feedback_4\n",
      "Methane from cow burps harms the environment, but seaweed, when fed to cows, has a lesser effect.#eatingmeat4_but_Feedback_13#eatingmeat4_but_Feedback_13\n",
      "Methane from cow burps harms the environment, so some people think we should start feeding them seaweed.#eatingmeat4_so_Feedback_10#eatingmeat4_so_Feedback_10\n",
      "Methane from cow burps harms the environment, but if you had seaweed to their diet it could reduce 99 percent of methane.#eatingmeat4_but_Feedback_13#eatingmeat4_but_Feedback_13\n",
      "Methane from cow burps harms the environment, but we can change their diet to help eliminate the gas produces by the burps.#eatingmeat4_but_Feedback_13#eatingmeat4_but_Feedback_9\n",
      "Methane from cow burps harms the environment, but it is possible to help the environment by eating alternative meat.#eatingmeat4_but_Feedback_6#eatingmeat4_but_Feedback_6\n",
      "Methane from cow burps harms the environment, so we need to make changes, like eating less meat so save the planet.#eatingmeat4_so_Feedback_9#eatingmeat4_so_Feedback_9\n",
      "Methane from cow burps harms the environment, but can be lessened by feeding cows seaweed instead.#eatingmeat4_but_Feedback_13#eatingmeat4_but_Feedback_13\n",
      "Methane from cow burps harms the environment because it causes 14% of all greenhouse emissions.#eatingmeat4_because_Feedback_7#eatingmeat4_because_Feedback_7\n",
      "Methane from cow burps harms the environment, so killing off the cows and eating Impossible burgers will save the planet.#eatingmeat4_so_Feedback_4#eatingmeat4_so_Feedback_9\n",
      "Methane from cow burps harms the environment, so scientists and farmers have argued that there are other ways to make the practice better for the environment.#eatingmeat4_so_Feedback_5#eatingmeat4_so_Feedback_5\n",
      "Methane from cow burps harms the environment, so we need to look at ways of reducing this harm by either limiting or ending animal farming or by changing some of the ways we care for the animals we raise.#eatingmeat4_so_Feedback_10#eatingmeat4_so_Feedback_9\n",
      "Methane from cow burps harms the environment, but research has shown that when cows consume seaweed as part of their diets, they release up to 99% less methane gas.#eatingmeat4_but_Feedback_13#eatingmeat4_but_Feedback_13\n",
      "Methane from cow burps harms the environment, but there are viable ways to reduce the emissions through a combination of altering the cows' diet while also lessening our own meat consumption in favor of plant-based options.#eatingmeat4_but_Feedback_13#eatingmeat4_but_Feedback_9\n",
      "Methane from cow burps harms the environment because it releases green house gases into the atmosphere which then causes the earth's temperature to rise.#eatingmeat4_because_Feedback_5#eatingmeat4_because_Feedback_5\n",
      "Methane from cow burps harms the environment, but there might be better ways to lower the amount of methane produced by cows.#eatingmeat4_but_Feedback_3#eatingmeat4_but_Feedback_3\n",
      "Methane from cow burps harms the environment, but if they are fed a diet of seaweed, the amount of methane from their burps is reduced by up to 99%.#eatingmeat4_but_Feedback_13#eatingmeat4_but_Feedback_13\n",
      "Methane from cow burps harms the environment, so it reduce the gas emissions.#eatingmeat4_so_Feedback_8#eatingmeat4_so_Feedback_9\n",
      "Methane from cow burps harms the environment, so cows should stop being bred for killing purposes and people should turn to man-made \"meat-like\" products to fulfil their protein needs.#eatingmeat4_so_Feedback_9#eatingmeat4_so_Feedback_10\n",
      "Methane from cow burps harms the environment, so there is need to come up with a solution that will last#eatingmeat4_so_Feedback_9#eatingmeat4_so_Feedback_9\n",
      "Methane from cow burps harms the environment, but the amount of harm can be reduced by changing their diet.#eatingmeat4_but_Feedback_9#eatingmeat4_but_Feedback_9\n",
      "Methane from cow burps harms the environment because it cause the earth's temperatures to rise.#eatingmeat4_because_Feedback_1#eatingmeat4_because_Feedback_1\n",
      "Methane from cow burps harms the environment, so a change in their diet, or a lower reliance on beef could dramatically decrease global warming.#eatingmeat4_so_Feedback_10#eatingmeat4_so_Feedback_10\n",
      "Methane from cow burps harms the environment, but by feeding cow seaweed, scientists have found that it reduces the methane emission by 99%.#eatingmeat4_but_Feedback_13#eatingmeat4_but_Feedback_13\n",
      "Methane from cow burps harms the environment, so we should seek methods to reduce the methane in cow burps.#eatingmeat4_so_Feedback_10#eatingmeat4_so_Feedback_10\n",
      "Methane from cow burps harms the environment, so Impossible Foods has created a meatless burger that doesn't require the slaughtering of cows.#eatingmeat4_so_Feedback_2#eatingmeat4_so_Feedback_2\n",
      "Methane from cow burps harms the environment, so we need to either eat less meat so we have fewer cows, or feed cows something else, like seaweed.#eatingmeat4_so_Feedback_10#eatingmeat4_so_Feedback_10\n",
      "Methane from cow burps harms the environment, so we should work to lessen the environmental impact weather it is from switching to non-meat alternatives, or changing the beef cow's daily diet.#eatingmeat4_so_Feedback_10#eatingmeat4_so_Feedback_10\n",
      "Methane from cow burps harms the environment, so there has been a push to develop and market plant based meat substitutes#eatingmeat4_so_Feedback_2#eatingmeat4_so_Feedback_2\n",
      "Methane from cow burps harms the environment, but the amount of methane they release into the environment can be reduced by changing the cows' diet to include seaweed.#eatingmeat4_but_Feedback_13#eatingmeat4_but_Feedback_13\n",
      "Methane from cow burps harms the environment because more important for the society#eatingmeat4_because_Feedback_10#eatingmeat4_because_Feedback_8\n",
      "Methane from cow burps harms the environment because their burps release 30-50 gallons of greenhouse has methane, which causes the Earth's temperature to rise.#eatingmeat4_because_Feedback_5#eatingmeat4_because_Feedback_5\n",
      "Methane from cow burps harms the environment, but there are different ways to address the issue.#eatingmeat4_but_Feedback_3#eatingmeat4_but_Feedback_3\n",
      "Methane from cow burps harms the environment because they burp out 30-50 gallons of this greenhouse gas which causes Earth's temperature to rise from global warming.#eatingmeat4_because_Feedback_5#eatingmeat4_because_Feedback_5\n",
      "Methane from cow burps harms the environment because gases such as this contribute to global warming#eatingmeat4_because_Feedback_1#eatingmeat4_because_Feedback_1\n",
      "Methane from cow burps harms the environment, so more research is needed to determine the best away to reduce the amount of methane produced.#eatingmeat4_so_Feedback_9#eatingmeat4_so_Feedback_9\n",
      "Methane from cow burps harms the environment because Scientists have linked global warming to an increase#eatingmeat4_because_Feedback_9#eatingmeat4_because_Feedback_1\n",
      "Methane from cow burps harms the environment, but this amount could be reduced by feeding cows seaweed in their diet.#eatingmeat4_but_Feedback_13#eatingmeat4_but_Feedback_13\n",
      "Methane from cow burps harms the environment, so it adds to the greenhouse effect.#eatingmeat4_so_Feedback_7#eatingmeat4_so_Feedback_7\n",
      "Methane from cow burps harms the environment because it causes the greenhouse effect which raises the temperature of the earth, called global warming.#eatingmeat4_because_Feedback_1#eatingmeat4_because_Feedback_1\n",
      "Methane from cow burps harms the environment, but it produces gases#eatingmeat4_but_Feedback_8#eatingmeat4_but_Feedback_7\n",
      "Methane from cow burps harms the environment, but research shows if they consume seaweed in their diet the greenhouse gases they emit will reduce by one third.#eatingmeat4_but_Feedback_13#eatingmeat4_but_Feedback_13\n",
      "Methane from cow burps harms the environment, so alternatives like plant based meats are being produced and consumed to reduce methane emissions#eatingmeat4_so_Feedback_2#eatingmeat4_so_Feedback_2\n",
      "Methane from cow burps harms the environment because they produce greenhouse gaees.#eatingmeat4_because_Feedback_5#eatingmeat4_because_Feedback_5\n",
      "Methane from cow burps harms the environment because it causes a greenhouse gas called methane.#eatingmeat4_because_Feedback_5#eatingmeat4_because_Feedback_5\n",
      "Methane from cow burps harms the environment, but the goal of ending animal agriculture will not directly solve the problem of global warming.#eatingmeat4_but_Feedback_4#eatingmeat4_but_Feedback_7\n",
      "Methane from cow burps harms the environment because it causes the earth temperature to rise causing global warming.#eatingmeat4_because_Feedback_1#eatingmeat4_because_Feedback_1\n",
      "Methane from cow burps harms the environment, but another solution lies in what farmers feed their cows.#eatingmeat4_but_Feedback_9#eatingmeat4_but_Feedback_9\n",
      "Methane from cow burps harms the environment, but changing cow diets to alternatives such as seaweed reduces it by up to 99%.#eatingmeat4_but_Feedback_13#eatingmeat4_but_Feedback_13\n",
      "Methane from cow burps harms the environment, but some scientists and farmers have argued that there are ways to make the practice of animal agriculture better for the environment.#eatingmeat4_but_Feedback_3#eatingmeat4_but_Feedback_3\n",
      "Methane from cow burps harms the environment, but this can be lessened by changing the cow's diet.#eatingmeat4_but_Feedback_9#eatingmeat4_but_Feedback_9\n",
      "Methane from cow burps harms the environment, but farmers are introducing new foods to their cattle#eatingmeat4_but_Feedback_12#eatingmeat4_but_Feedback_12\n",
      "Methane from cow burps harms the environment, so some food companies, including Impossible Foods, are developing plant-based meat alternatives that have the look, taste, and texture of traditional meat.#eatingmeat4_so_Feedback_2#eatingmeat4_so_Feedback_2\n",
      "Methane from cow burps harms the environment, but the practice of raising animals for food purposes produces about 14.5% of the world's greenhouse gases#eatingmeat4_but_Feedback_1#eatingmeat4_but_Feedback_1\n",
      "Methane from cow burps harms the environment, so a solution should be found, whether that is curbing animal agriculture by replacing meat with plant-based substitutes, or reducing the amount of methane cows release into the environment by changing their diet.#eatingmeat4_so_Feedback_10#eatingmeat4_so_Feedback_10\n",
      "Methane from cow burps harms the environment, so scientists believe changing their diet to seaweed would eliminate the methane by 99%.#eatingmeat4_so_Feedback_5#eatingmeat4_so_Feedback_5\n",
      "Methane from cow burps harms the environment because they release 30 to 50 gallons of methane everyday.#eatingmeat4_because_Feedback_5#eatingmeat4_because_Feedback_5\n",
      "Methane from cow burps harms the environment, but cows can change their diets to seaweed and release 99% less methane in their burps.#eatingmeat4_but_Feedback_13#eatingmeat4_but_Feedback_13\n",
      "Methane from cow burps harms the environment because it adds to the greenhouse effect.#eatingmeat4_because_Feedback_9#eatingmeat4_because_Feedback _6\n",
      "Methane from cow burps harms the environment, but feeding the cows seaweed can help reduce methane emission.#eatingmeat4_but_Feedback_13#eatingmeat4_but_Feedback_13\n",
      "Methane from cow burps harms the environment, so we can either feed them seaweed to reduce emissions, or encourage the eating of plant based meats.#eatingmeat4_so_Feedback_10#eatingmeat4_so_Feedback_10\n",
      "Methane from cow burps harms the environment, but it produces less than half of the world's methane.#eatingmeat4_but_Feedback_4#eatingmeat4_but_Feedback_1\n",
      "Methane from cow burps harms the environment, so companies like Impossible Foods want to end animal agriculture by creating plant-based \"meats,\" the production of which produces fewer greenhouse gas emissions.#eatingmeat4_so_Feedback_2#eatingmeat4_so_Feedback_2\n",
      "Methane from cow burps harms the environment, so we should work to reducing methane produced from cows.#eatingmeat4_so_Feedback_10#eatingmeat4_so_Feedback_10\n",
      "Methane from cow burps harms the environment, but the methane is reduced if the cows' diet includes seaweed.#eatingmeat4_but_Feedback_13#eatingmeat4_but_Feedback_13\n",
      "Methane from cow burps harms the environment, but some scientists and farmers do not agree how to solve the problem.#eatingmeat4_but_Feedback_2#eatingmeat4_but_Feedback_2\n",
      "Methane from cow burps harms the environment because they burn out gallons of the greenhouse gases.#eatingmeat4_because_Feedback_5#eatingmeat4_because_Feedback_5\n",
      "Methane from cow burps harms the environment, but there are solutions, like Impossible burgers and them eating seaweed instead.#eatingmeat4_but_Feedback_13#eatingmeat4_but_Feedback_13\n",
      "Methane from cow burps harms the environment because is causes the temperature of the earth to rise.#eatingmeat4_because_Feedback_1#eatingmeat4_because_Feedback_1\n",
      "Methane from cow burps harms the environment, so people should eat less meat and farmers should feed the cows seaweed to decrease methane production.#eatingmeat4_so_Feedback_10#eatingmeat4_so_Feedback_10\n",
      "Methane from cow burps harms the environment, so we need to look at alternative plant based meats like the Impossible meats.#eatingmeat4_so_Feedback_9#eatingmeat4_so_Feedback_9\n",
      "Methane from cow burps harms the environment, so we should find an alternative to beef.#eatingmeat4_so_Feedback_9#eatingmeat4_so_Feedback_9\n",
      "Methane from cow burps harms the environment because methane causes temperatures to rise.#eatingmeat4_because_Feedback_1#eatingmeat4_because_Feedback_1\n",
      "Methane from cow burps harms the environment, so companies like Impossible Foods are introducing environmentally friendly meat replacements to lead people away from consuming so much meat.#eatingmeat4_so_Feedback_2#eatingmeat4_so_Feedback_2\n",
      "Methane from cow burps harms the environment, so the food company wants to end all animal agriculture, By creating plant-based \"meats\" that have the look, taste, and texture of real meat,#eatingmeat4_so_Feedback_2#eatingmeat4_so_Feedback_2\n",
      "Methane from cow burps harms the environment, so seaweed is alternative food for cows to eat with Global Warming.#eatingmeat4_so_Feedback_4#eatingmeat4_so_Feedback_10\n",
      "Methane from cow burps harms the environment, so we should come up with solutions to help reduce the amount of methane, such as changing our's or the cow's diet.#eatingmeat4_so_Feedback_10#eatingmeat4_so_Feedback_10\n",
      "Methane from cow burps harms the environment, but cows can consume seaweed as part of their diets because less methane is released in their burps.#eatingmeat4_but_Feedback_13#eatingmeat4_but_Feedback_13\n",
      "Methane from cow burps harms the environment because it adds tons of greenhouse gasses to the atmosphere.#eatingmeat4_because_Feedback _6#eatingmeat4_because_Feedback _6\n",
      "Methane from cow burps harms the environment, but this solution reduce one third of greenhouse gas emiition#eatingmeat4_but_Feedback_8#eatingmeat4_but_Feedback_3\n",
      "Methane from cow burps harms the environment because they cause greenhouse gases to rise.#eatingmeat4_because_Feedback_5#eatingmeat4_because_Feedback_5\n",
      "Methane from cow burps harms the environment, but cow burping and other aspects of animal agriculture, the practice of raising animals for food purposes, produce about 14.5% of the world's greenhouse gases.#eatingmeat4_but_Feedback_1#eatingmeat4_but_Feedback_1\n",
      "Methane from cow burps harms the environment because it contains methane gas that causes global warming.#eatingmeat4_because_Feedback_5#eatingmeat4_because_Feedback_5\n",
      "Methane from cow burps harms the environment because it produces greenhouse gases and they cause the temperature of the Earth to rise and put the environment at risk.#eatingmeat4_because_Feedback_4#eatingmeat4_because_Feedback_4\n",
      "Methane from cow burps harms the environment, but not everyone agrees on a solution for animal agriculture and plant-based \"meats\".#eatingmeat4_but_Feedback_2#eatingmeat4_but_Feedback_2\n",
      "Methane from cow burps harms the environment, so scientists and farmers are looking for ways to better contain climate control.#eatingmeat4_so_Feedback_1#eatingmeat4_so_Feedback_1\n",
      "Methane from cow burps harms the environment because This gas causes Earth's temperature to rise in a process called global warming.#eatingmeat4_because_Feedback_1#eatingmeat4_because_Feedback_1\n",
      "Methane from cow burps harms the environment, so I personally am eating much less meat.#eatingmeat4_so_Feedback_8#eatingmeat4_so_Feedback_8\n",
      "Methane from cow burps harms the environment, so we should look to use alternative meat options to cut down on cow production.#eatingmeat4_so_Feedback_9#eatingmeat4_so_Feedback_9\n",
      "Methane from cow burps harms the environment, so companies like impossible burger are aiming to curb the amount of methane gas released into the environment.#eatingmeat4_so_Feedback_2#eatingmeat4_so_Feedback_2\n",
      "Methane from cow burps harms the environment because of the vast amount it that cause's the Earth's temperature to rise.#eatingmeat4_because_Feedback_1#eatingmeat4_because_Feedback_1\n",
      "Methane from cow burps harms the environment because it causes earth's temperature to rise resulting in global warming#eatingmeat4_because_Feedback_1#eatingmeat4_because_Feedback_1\n",
      "Methane from cow burps harms the environment, so scientist are gathering different ways to change this issue by 2035 by eliminating meat eating or changing the food cows eat.#eatingmeat4_so_Feedback_4#eatingmeat4_so_Feedback_1\n",
      "Methane from cow burps harms the environment, so it may be wise to pursue other methods of \"beef\" production such as the methods currently being employed by companies such as impossible Meat.#eatingmeat4_so_Feedback_9#eatingmeat4_so_Feedback_9\n",
      "Methane from cow burps harms the environment, but people want to eat meat still.#eatingmeat4_but_Feedback_7#eatingmeat4_but_Feedback_7\n",
      "Methane from cow burps harms the environment, but when feed partially with a seaweed diet, methane emissions can reduce up to 99%#eatingmeat4_but_Feedback_13#eatingmeat4_but_Feedback_13\n",
      "Methane from cow burps harms the environment because Not everyone shares Impossible Fo#eatingmeat4_because_Feedback_8#eatingmeat4_because_Feedback_8\n",
      "Methane from cow burps harms the environment because they produce 14.5% greenhouse gas.#eatingmeat4_because_Feedback_7#eatingmeat4_because_Feedback_5\n",
      "Methane from cow burps harms the environment, so we should look into alternatives to factory farming including plant-based meat alternatives and new ways to feed cows to lower the amount of methane they release.#eatingmeat4_so_Feedback_10#eatingmeat4_so_Feedback_10\n",
      "Methane from cow burps harms the environment, so something need to done to ameliorate that harm.#eatingmeat4_so_Feedback_9#eatingmeat4_so_Feedback_9\n",
      "Methane from cow burps harms the environment because it contributes to global warming#eatingmeat4_because_Feedback_1#eatingmeat4_because_Feedback_1\n",
      "Methane from cow burps harms the environment, but it's by far mostly human activity that's driving up levels of this destructive greenhouse gas#eatingmeat4_but_Feedback_7#eatingmeat4_but_Feedback_7\n",
      "Methane from cow burps harms the environment because they add to greenhouse gases, which contribute to global warming.#eatingmeat4_because_Feedback_1#eatingmeat4_because_Feedback_1\n",
      "Methane from cow burps harms the environment, so either people or cow should change what eat.#eatingmeat4_so_Feedback_10#eatingmeat4_so_Feedback_10\n",
      "Methane from cow burps harms the environment because every day, this gas causes Earth's temperature to rise in a process called global warming.#eatingmeat4_because_Feedback_1#eatingmeat4_because_Feedback_1\n",
      "Methane from cow burps harms the environment, but it is possible to reduce the methane produced from cow burps by almost 100% if their diet is changed.#eatingmeat4_but_Feedback_13#eatingmeat4_but_Feedback_9\n",
      "Methane from cow burps harms the environment because it increases greenhouse gasses and global warming.#eatingmeat4_because_Feedback_1#eatingmeat4_because_Feedback_1\n",
      "Methane from cow burps harms the environment because it is a major contributor to global warming.#eatingmeat4_because_Feedback_1#eatingmeat4_because_Feedback_1\n",
      "Methane from cow burps harms the environment, but solutions could involve eating less beef or changing the cows diet.#eatingmeat4_but_Feedback_9#eatingmeat4_but_Feedback_9\n",
      "Methane from cow burps harms the environment, so we need to come up with an alternative to beef consumption.#eatingmeat4_so_Feedback_9#eatingmeat4_so_Feedback_9\n",
      "Methane from cow burps harms the environment, so some food chains sell meatless products#eatingmeat4_so_Feedback_6#eatingmeat4_so_Feedback_6\n",
      "Methane from cow burps harms the environment, so Impossible Foods created plant-based meats.#eatingmeat4_so_Feedback_2#eatingmeat4_so_Feedback_2\n",
      "Methane from cow burps harms the environment, but changing their diet can reduce this risk.#eatingmeat4_but_Feedback_9#eatingmeat4_but_Feedback_9\n",
      "Methane from cow burps harms the environment, so that's why Impossible Foods created the Impossible Burger.#eatingmeat4_so_Feedback_2#eatingmeat4_so_Feedback_2\n",
      "Methane from cow burps harms the environment, but changing their diet will decrease the methane in their burps by 99%.#eatingmeat4_but_Feedback_9#eatingmeat4_but_Feedback_13\n",
      "Methane from cow burps harms the environment, but recent research has shown that by changing the cows diet to seaweed, cows release 99% less methane in their burp.#eatingmeat4_but_Feedback_13#eatingmeat4_but_Feedback_13\n",
      "Methane from cow burps harms the environment because it is said to release 30-50gallons of methane gas per cow.#eatingmeat4_because_Feedback_7#eatingmeat4_because_Feedback_5\n",
      "Methane from cow burps harms the environment because the burps contain methane, a greenhouse gas, which contributes to global warming.#eatingmeat4_because_Feedback_5#eatingmeat4_because_Feedback_5\n",
      "Methane from cow burps harms the environment, but They predict that as Earth’s temperature rises.#eatingmeat4_but_Feedback_8#eatingmeat4_but_Feedback_7\n",
      "Methane from cow burps harms the environment, but this does not necessarily mean that introducing meatless alternatives, in an attempt to decrease the number of cows we raise, will be the best solution for this problem.#eatingmeat4_but_Feedback_8#eatingmeat4_but_Feedback_3\n",
      "Methane from cow burps harms the environment, but can be reduced by changing cow diets.#eatingmeat4_but_Feedback_9#eatingmeat4_but_Feedback_9\n",
      "Methane from cow burps harms the environment, so we should address this by either changing what cows eat or reducing meat consumption.#eatingmeat4_so_Feedback_10#eatingmeat4_so_Feedback_10\n",
      "Methane from cow burps harms the environment, so we need to come up with alternatives to the way cows are fed, or we need to invest in more plant-based alternatives to help reduce the impact on the environment.#eatingmeat4_so_Feedback_10#eatingmeat4_so_Feedback_10\n",
      "Methane from cow burps harms the environment, so farmers are trying meatless products for food.#eatingmeat4_so_Feedback_8#eatingmeat4_so_Feedback_2\n",
      "Methane from cow burps harms the environment, so farmers should feed cows seaweed, since research has shown that when cows consume seaweed as part of their diets, they release up to 99% less methane in their burps.#eatingmeat4_so_Feedback_10#eatingmeat4_so_Feedback_10\n",
      "Methane from cow burps harms the environment, but there are things we can do to prevent it.#eatingmeat4_but_Feedback_3#eatingmeat4_but_Feedback_3\n",
      "Methane from cow burps harms the environment because they contribute to greenhouse gases.#eatingmeat4_because_Feedback_5#eatingmeat4_because_Feedback _6\n",
      "Methane from cow burps harms the environment, so we should change how we eat in order to help the environment.#eatingmeat4_so_Feedback_9#eatingmeat4_so_Feedback_9\n",
      "Methane from cow burps harms the environment because global warming increases extreme weather events such as droughts, heat waves, wildfires, and floods.#eatingmeat4_because_Feedback_2#eatingmeat4_because_Feedback_2\n",
      "Methane from cow burps harms the environment, but when cows eat seaweed the methane they produce can be cut by 99%#eatingmeat4_but_Feedback_13#eatingmeat4_but_Feedback_13\n",
      "Methane from cow burps harms the environment, but it might be possible to reduce methane emission from cattle by changing what they eat.#eatingmeat4_but_Feedback_9#eatingmeat4_but_Feedback_9\n",
      "Methane from cow burps harms the environment, but when cows consume seaweed they release 99% less Methane.#eatingmeat4_but_Feedback_13#eatingmeat4_but_Feedback_13\n",
      "Methane from cow burps harms the environment because burps contain methane which causes global warming.#eatingmeat4_because_Feedback_5#eatingmeat4_because_Feedback_5\n",
      "Methane from cow burps harms the environment because they release 30-50 gallons of methane... per day, which is a massive amount.#eatingmeat4_because_Feedback_5#eatingmeat4_because_Feedback_5\n",
      "Methane from cow burps harms the environment, but including seaweeds in their diet reduces the quantity of methane produced by cattle by up to 99%.#eatingmeat4_but_Feedback_13#eatingmeat4_but_Feedback_13\n",
      "Methane from cow burps harms the environment, so we should look for ways to reduce this problem.#eatingmeat4_so_Feedback_9#eatingmeat4_so_Feedback_9\n",
      "Methane from cow burps harms the environment because it causes greenhouse gas emissions.#eatingmeat4_because_Feedback_4#eatingmeat4_because_Feedback_4\n",
      "Methane from cow burps harms the environment because when released it causes earths temperature to rise, known as global warming.#eatingmeat4_because_Feedback_1#eatingmeat4_because_Feedback_1\n",
      "Methane from cow burps harms the environment, so we need to stop the agricultural use of animals or change their diet.#eatingmeat4_so_Feedback_9#eatingmeat4_so_Feedback_10\n",
      "Methane from cow burps harms the environment, so we either need to reduce meat consumption or change what the cows eat.#eatingmeat4_so_Feedback_10#eatingmeat4_so_Feedback_10\n",
      "Methane from cow burps harms the environment, so there is an increase in extreme weather events such as droughts, heat waves, wildfires, and floods.#eatingmeat4_so_Feedback_7#eatingmeat4_so_Feedback_7\n",
      "Methane from cow burps harms the environment, but can be controlled#eatingmeat4_but_Feedback_3#eatingmeat4_but_Feedback_3\n",
      "Methane from cow burps harms the environment because it causes the earth's temperature to rise and causes global warming.#eatingmeat4_because_Feedback_1#eatingmeat4_because_Feedback_1\n",
      "Methane from cow burps harms the environment because their burps release greenhouse methane gas.#eatingmeat4_because_Feedback_5#eatingmeat4_because_Feedback_5\n",
      "Methane from cow burps harms the environment, but feeding cows seaweed drastically lessens amount of methane produced.#eatingmeat4_but_Feedback_13#eatingmeat4_but_Feedback_13\n",
      "Methane from cow burps harms the environment, but when cows eat seaweed they produce 99% less methane in their burps which could reduce one third of greenhouse gases emitted by animal agriculture.#eatingmeat4_but_Feedback_13#eatingmeat4_but_Feedback_13\n",
      "Methane from cow burps harms the environment, so there are people who would like to stop the practice of raising cows for food.#eatingmeat4_so_Feedback_4#eatingmeat4_so_Feedback_1\n",
      "Methane from cow burps harms the environment because it produces much of the world's greenhouse gases.#eatingmeat4_because_Feedback_4#eatingmeat4_because_Feedback_4\n",
      "Methane from cow burps harms the environment, so if we feed them seaweed we can reduce the amount of methane in their burps and thereby reduce greenhouse gasses, helping to reduce climate change.#eatingmeat4_so_Feedback_10#eatingmeat4_so_Feedback_10\n",
      "Methane from cow burps harms the environment because it produces greenhouse gases which causes Earth's temperature to rise in a process called global warming.#eatingmeat4_because_Feedback_4#eatingmeat4_because_Feedback_4\n",
      "Methane from cow burps harms the environment because the gas coming from the cows can cause the Earth's temperature to rise.#eatingmeat4_because_Feedback_1#eatingmeat4_because_Feedback_5\n",
      "Methane from cow burps harms the environment, but the practice of raising animals for food purposes, produce about 14.5% of the world's greenhouse gases.#eatingmeat4_but_Feedback_1#eatingmeat4_but_Feedback_1\n",
      "Methane from cow burps harms the environment because it produces greenhouse gas that is bad for the environment#eatingmeat4_because_Feedback_4#eatingmeat4_because_Feedback_4\n",
      "Methane from cow burps harms the environment, so our culture needs to be informed and change how we operate to protect the environment for ourselves and future generations.#eatingmeat4_so_Feedback_9#eatingmeat4_so_Feedback_9\n",
      "Methane from cow burps harms the environment because extreme weather events such as heatwaves and floods#eatingmeat4_because_Feedback_8#eatingmeat4_because_Feedback_8\n",
      "Methane from cow burps harms the environment because it increases the rate of global warming.#eatingmeat4_because_Feedback_1#eatingmeat4_because_Feedback_1\n",
      "Methane from cow burps harms the environment, so some organizations think we should eliminate animal agriculture.#eatingmeat4_so_Feedback_2#eatingmeat4_so_Feedback_9\n",
      "Methane from cow burps harms the environment because it adds unwanted gases to the atmosphere, which could contribute to global warming.#eatingmeat4_because_Feedback _6#eatingmeat4_because_Feedback_5\n",
      "Methane from cow burps harms the environment, so the company Impossible Foods is attempting to end all animal agriculture by 2035.#eatingmeat4_so_Feedback_2#eatingmeat4_so_Feedback_2\n",
      "Methane from cow burps harms the environment because it contains greenhouse gas emissions.#eatingmeat4_because_Feedback_4#eatingmeat4_because_Feedback_5\n",
      "Methane from cow burps harms the environment because this gas causes Earth's temperature to rise (global warming) which leads to increase in extreme weather events such as droughts, heat waves, wildfires, and floods.#eatingmeat4_because_Feedback_2#eatingmeat4_because_Feedback_2\n",
      "Methane from cow burps harms the environment, so we must either find a way to cut back the methane output or eliminating cow farming.#eatingmeat4_so_Feedback_10#eatingmeat4_so_Feedback_9\n",
      "Methane from cow burps harms the environment, so to address this problem, the company Impossible Foods wants to end all animal agriculture by 2035#eatingmeat4_so_Feedback_2#eatingmeat4_so_Feedback_2\n",
      "Methane from cow burps harms the environment, so we should limit their seaweed to prevent burping or we should stop raising cows for human consumption.#eatingmeat4_so_Feedback_9#eatingmeat4_so_Feedback_10\n",
      "Methane from cow burps harms the environment, so mankind should seek an alternative to meat based diets.#eatingmeat4_so_Feedback_9#eatingmeat4_so_Feedback_9\n",
      "Methane from cow burps harms the environment because they're releasing methane gases which arm the environment.#eatingmeat4_because_Feedback_5#eatingmeat4_because_Feedback_5\n",
      "Methane from cow burps harms the environment, so we should look for ways to reduce that methane production.#eatingmeat4_so_Feedback_9#eatingmeat4_so_Feedback_9\n",
      "Methane from cow burps harms the environment because methane gas causes Earth's temperature to rise in a process called global warming.#eatingmeat4_because_Feedback_1#eatingmeat4_because_Feedback_1\n",
      "Methane from cow burps harms the environment, so if we switch from cows to plant based meat when can do away with animal agricultural saving the environment.#eatingmeat4_so_Feedback_9#eatingmeat4_so_Feedback_9\n",
      "Methane from cow burps harms the environment, but there's a solution for more people to eat plant based meats that are less harmful to the environment.#eatingmeat4_but_Feedback_6#eatingmeat4_but_Feedback_6\n",
      "Methane from cow burps harms the environment, so some people suggest we stop eating meat.#eatingmeat4_so_Feedback_9#eatingmeat4_so_Feedback_9\n",
      "Methane from cow burps harms the environment, so it is essential to use plant-based meats as a substitute or feed cows seaweed which prevents 99% of methane emissions from cows.#eatingmeat4_so_Feedback_10#eatingmeat4_so_Feedback_10\n",
      "Methane from cow burps harms the environment, so it important that we find a solution either by eating less meat or changing the way we raise livestock.#eatingmeat4_so_Feedback_10#eatingmeat4_so_Feedback_9\n",
      "Methane from cow burps harms the environment, so we should find a reasonable way to reduce the emissions in a way that allows those who wish to continue eating meat to do so.#eatingmeat4_so_Feedback_9#eatingmeat4_so_Feedback_9\n",
      "Methane from cow burps harms the environment, so people should either change what they eat, or cows should be given other foods.#eatingmeat4_so_Feedback_10#eatingmeat4_so_Feedback_10\n",
      "Methane from cow burps harms the environment because they release the greenhouse gas methane.#eatingmeat4_because_Feedback_5#eatingmeat4_because_Feedback_5\n",
      "Methane from cow burps harms the environment, but it is harmful#eatingmeat4_but_Feedback_8#eatingmeat4_but_Feedback_7\n",
      "Methane from cow burps harms the environment, so we should limit our beef intake quite drastically.#eatingmeat4_so_Feedback_9#eatingmeat4_so_Feedback_9\n",
      "Methane from cow burps harms the environment, but it can be significantly reduced with a change in diet with addition of seaweed, which can reduce methane release of up to 99%.#eatingmeat4_but_Feedback_13#eatingmeat4_but_Feedback_13\n",
      "Methane from cow burps harms the environment because methane is a greenhouse gas that causes the earth to warm.#eatingmeat4_because_Feedback_1#eatingmeat4_because_Feedback_1\n",
      "Methane from cow burps harms the environment, but we can reduce them with seaweed.#eatingmeat4_but_Feedback_13#eatingmeat4_but_Feedback_13\n",
      "Methane from cow burps harms the environment, so by either eating less meat, or by having cows eat less gassy food, we can lower the amount of methane that's put into the atmosphere.#eatingmeat4_so_Feedback_10#eatingmeat4_so_Feedback_10\n",
      "Methane from cow burps harms the environment, so people should eat less meat.#eatingmeat4_so_Feedback_9#eatingmeat4_so_Feedback_9\n",
      "Methane from cow burps harms the environment, but those aware of the problem differ in how to best address it.#eatingmeat4_but_Feedback_2#eatingmeat4_but_Feedback_2\n",
      "Methane from cow burps harms the environment because the gas from the burp causes tempertures to rise and global warming.#eatingmeat4_because_Feedback_5#eatingmeat4_because_Feedback_1\n",
      "Methane from cow burps harms the environment, but not everyone shares Impossible Foods’ goal of ending animal agriculture.#eatingmeat4_but_Feedback_2#eatingmeat4_but_Feedback_2\n",
      "Methane from cow burps harms the environment because methane is a greenhouse gas that traps heat and causes global warming.#eatingmeat4_because_Feedback_1#eatingmeat4_because_Feedback_1\n",
      "Methane from cow burps harms the environment because they burp methane gas.#eatingmeat4_because_Feedback_5#eatingmeat4_because_Feedback_5\n",
      "Methane from cow burps harms the environment, but scientists have produced meat alternatives, and are developing ways to reduce methane emissions from cows.#eatingmeat4_but_Feedback_6#eatingmeat4_but_Feedback_5\n",
      "Methane from cow burps harms the environment, so we should cut back eating animals.#eatingmeat4_so_Feedback_9#eatingmeat4_so_Feedback_9\n",
      "Methane from cow burps harms the environment, but feeding cows seaweed in their diet can release up to 99% less methane in their burps.#eatingmeat4_but_Feedback_13#eatingmeat4_but_Feedback_13\n",
      "Methane from cow burps harms the environment, so we have to change what cows eat or what people eat to reduce its emission.#eatingmeat4_so_Feedback_10#eatingmeat4_so_Feedback_10\n",
      "Methane from cow burps harms the environment, so by creating plant-based \"meats\" that have the look, taste, and texture of real meat, Impossible is appealing to meat-eaters.#eatingmeat4_so_Feedback_5#eatingmeat4_so_Feedback_2\n",
      "Methane from cow burps harms the environment, so we need to eat less meat and eat plant based products#eatingmeat4_so_Feedback_9#eatingmeat4_so_Feedback_9\n",
      "Methane from cow burps harms the environment, so it could be helpful to find ways to reduce their production of methane.#eatingmeat4_so_Feedback_10#eatingmeat4_so_Feedback_10\n",
      "Methane from cow burps harms the environment, so some scientists and farmers suggest changing the cows' diets to seaweed which help combat the methane.#eatingmeat4_so_Feedback_3#eatingmeat4_so_Feedback_11\n",
      "Methane from cow burps harms the environment, so the best solution is to feed cows seaweed, which results in 99% less methane being released by their burps.#eatingmeat4_so_Feedback_10#eatingmeat4_so_Feedback_10\n",
      "Methane from cow burps harms the environment because methane is a greenhouse gas, which is a type of gas that causes the Earth's temperature to rise in a process called global warming.#eatingmeat4_because_Feedback_1#eatingmeat4_because_Feedback_1\n",
      "Methane from cow burps harms the environment because the methane causes global warming.#eatingmeat4_because_Feedback_1#eatingmeat4_because_Feedback_1\n",
      "Methane from cow burps harms the environment because it releases methane, a greenhouse gas.#eatingmeat4_because_Feedback_5#eatingmeat4_because_Feedback_5\n",
      "Methane from cow burps harms the environment, so two solutions to this problem would be to convert to plant based \"meats\" or feed cows seaweed instead.#eatingmeat4_so_Feedback_10#eatingmeat4_so_Feedback_10\n",
      "Methane from cow burps harms the environment, but there is something that can be done about it.#eatingmeat4_but_Feedback_3#eatingmeat4_but_Feedback_3\n",
      "Methane from cow burps harms the environment, so steps should be taken to solve the problem.#eatingmeat4_so_Feedback_9#eatingmeat4_so_Feedback_9\n",
      "Methane from cow burps harms the environment, but having a seaweed diet can prevent the cow's burps from containing much less methane.#eatingmeat4_but_Feedback_13#eatingmeat4_but_Feedback_13\n",
      "Methane from cow burps harms the environment, but some scientists think that altering cows' food will help#eatingmeat4_but_Feedback_12#eatingmeat4_but_Feedback_9\n",
      "Methane from cow burps harms the environment, but there is a wide variety of meat alternatives these days, so one can go without meat without sacrificing taste or nutrition.#eatingmeat4_but_Feedback_10#eatingmeat4_but_Feedback_3\n",
      "Methane from cow burps harms the environment because of what farmers feed them.#eatingmeat4_because_Feedback_8#eatingmeat4_because_Feedback_8\n",
      "Methane from cow burps harms the environment because cow burps contain methane and methane is a major factor in climate change.#eatingmeat4_because_Feedback_5#eatingmeat4_because_Feedback_5\n",
      "Methane from cow burps harms the environment, but changing what the cows eat can lower the methane they burp.#eatingmeat4_but_Feedback_9#eatingmeat4_but_Feedback_9\n",
      "Methane from cow burps harms the environment, but this is a sustainable food for 80% of human being.#eatingmeat4_but_Feedback_7#eatingmeat4_but_Feedback_7\n",
      "Methane from cow burps harms the environment, so alternative meats are being developed to reduce the reliance on cow's meat.#eatingmeat4_so_Feedback_2#eatingmeat4_so_Feedback_2\n",
      "Methane from cow burps harms the environment because it causes fumes that hurt it.#eatingmeat4_because_Feedback_8#eatingmeat4_because_Feedback_5\n",
      "Methane from cow burps harms the environment, so can the GMO chemicals used to produce the impossable burger.#eatingmeat4_so_Feedback_8#eatingmeat4_so_Feedback_8\n",
      "Methane from cow burps harms the environment, but cows that are fed seaweed harms the environment less, by 99%.#eatingmeat4_but_Feedback_13#eatingmeat4_but_Feedback_13\n",
      "Methane from cow burps harms the environment, so alternative methods of feeding have been proposed such as seaweed because it dramatically lessens the methane from all the burping.#eatingmeat4_so_Feedback_3#eatingmeat4_so_Feedback_11\n",
      "Methane from cow burps harms the environment, so scientists are considering other ways to feed cows that will produce less methane.#eatingmeat4_so_Feedback_3#eatingmeat4_so_Feedback_11\n",
      "Methane from cow burps harms the environment, so steps need to be taken to either alter their diet to end this effect or bring animal agriculture to an end.#eatingmeat4_so_Feedback_10#eatingmeat4_so_Feedback_10\n",
      "Methane from cow burps harms the environment, but so does eating meat.#eatingmeat4_but_Feedback_8#eatingmeat4_but_Feedback_7\n",
      "Methane from cow burps harms the environment, but there are alternative ways that we can lower the amount of cow burps.#eatingmeat4_but_Feedback_3#eatingmeat4_but_Feedback_3\n",
      "Methane from cow burps harms the environment, but some scientist don't believe we have to stop eating meat altogether.#eatingmeat4_but_Feedback_7#eatingmeat4_but_Feedback_7\n",
      "Methane from cow burps harms the environment, but she din't do that#eatingmeat4_but_Feedback_7#eatingmeat4_but_Feedback_7\n",
      "Methane from cow burps harms the environment, so we need to find a way to reduce the gas from the cow burps.#eatingmeat4_so_Feedback_10#eatingmeat4_so_Feedback_9\n",
      "Methane from cow burps harms the environment, but not everyone agrees on a solution.#eatingmeat4_but_Feedback_2#eatingmeat4_but_Feedback_2\n",
      "Methane from cow burps harms the environment, so this gas causes Earth's temperature to rise in a process called global warming.#eatingmeat4_so_Feedback_7#eatingmeat4_so_Feedback_7\n",
      "Methane from cow burps harms the environment because the methane causes additional global warming.#eatingmeat4_because_Feedback_1#eatingmeat4_because_Feedback_1\n",
      "Methane from cow burps harms the environment because it causes the environment's temperatures to rise in a process called Global warming.#eatingmeat4_because_Feedback_1#eatingmeat4_because_Feedback_1\n",
      "Methane from cow burps harms the environment because methane is a greenhouse gas, further accelerating the greenhouse effect.#eatingmeat4_because_Feedback_9#eatingmeat4_because_Feedback_1\n",
      "Methane from cow burps harms the environment, so your options include cutting or limiting meat products and consuming plant-based \"meats\" or eating meats that are consuming seaweed daily as part of their feed consumption.#eatingmeat4_so_Feedback_10#eatingmeat4_so_Feedback_10\n",
      "Methane from cow burps harms the environment because it causes the temperatures to go up.#eatingmeat4_because_Feedback_1#eatingmeat4_because_Feedback_1\n",
      "Methane from cow burps harms the environment, but the amount of methane produced can be reduced significantly by adding seaweed to cows diets.#eatingmeat4_but_Feedback_13#eatingmeat4_but_Feedback_13\n",
      "Methane from cow burps harms the environment because it adds to greenhouse gasses in the atmosphere.#eatingmeat4_because_Feedback _6#eatingmeat4_because_Feedback _6\n",
      "Methane from cow burps harms the environment, so people should eat plant based meats.#eatingmeat4_so_Feedback_9#eatingmeat4_so_Feedback_9\n",
      "Methane from cow burps harms the environment because it causes the Earth's temperature to rise.#eatingmeat4_because_Feedback_1#eatingmeat4_because_Feedback_1\n",
      "Methane from cow burps harms the environment, but can be reduced by reducing our meat consumption and by changing the diets of cows.#eatingmeat4_but_Feedback_9#eatingmeat4_but_Feedback_9\n",
      "Methane from cow burps harms the environment because the gas causes Earth's temperature to rise in a process called global warming.#eatingmeat4_because_Feedback_1#eatingmeat4_because_Feedback_1\n",
      "Methane from cow burps harms the environment, so we should eat and breed less cows.#eatingmeat4_so_Feedback_9#eatingmeat4_so_Feedback_10\n",
      "Methane from cow burps harms the environment, but if cows consume seaweed, it will decrease the methane in their burps by 99%.#eatingmeat4_but_Feedback_13#eatingmeat4_but_Feedback_13\n",
      "Methane from cow burps harms the environment, so we need to look for alternatives in what food cows eat.#eatingmeat4_so_Feedback_10#eatingmeat4_so_Feedback_9\n",
      "Methane from cow burps harms the environment, but not everyone shares the goal of ending animal agriculture#eatingmeat4_but_Feedback_2#eatingmeat4_but_Feedback_2\n",
      "Methane from cow burps harms the environment, so it should be monitered for future consideration of green house gas reductions.#eatingmeat4_so_Feedback_9#eatingmeat4_so_Feedback_9\n",
      "Methane from cow burps harms the environment, but produces natural gas.#eatingmeat4_but_Feedback_8#eatingmeat4_but_Feedback_7\n",
      "Methane from cow burps harms the environment, but it lets farmers feed cows.#eatingmeat4_but_Feedback_7#eatingmeat4_but_Feedback_12\n",
      "Methane from cow burps harms the environment because methane causes tbe global temperature to rise#eatingmeat4_because_Feedback_1#eatingmeat4_because_Feedback_1\n",
      "Methane from cow burps harms the environment, but a change in their diet to include seaweed could reduce the methane they produce by 99%.#eatingmeat4_but_Feedback_13#eatingmeat4_but_Feedback_13\n",
      "Methane from cow burps harms the environment, but the problem can be mitigated by switching the food cows eat to seaweed, which causes cows to produce 99% lessmethsne#eatingmeat4_but_Feedback_13#eatingmeat4_but_Feedback_13\n",
      "Methane from cow burps harms the environment, so we must give them gas x#eatingmeat4_so_Feedback_10#eatingmeat4_so_Feedback_9\n",
      "Methane from cow burps harms the environment, so we need to change the way we eat.#eatingmeat4_so_Feedback_9#eatingmeat4_so_Feedback_9\n",
      "Methane from cow burps harms the environment, but it is not the only aspect that harms as all facets of agriculture does#eatingmeat4_but_Feedback_4#eatingmeat4_but_Feedback_4\n",
      "Methane from cow burps harms the environment, so perhaps we should seek an alternative to meat that produces 89% less methane than farming cows.#eatingmeat4_so_Feedback_9#eatingmeat4_so_Feedback_9\n",
      "Methane from cow burps harms the environment because it causes the earth's atmospheric temperature to rise.#eatingmeat4_because_Feedback_1#eatingmeat4_because_Feedback_1\n",
      "Methane from cow burps harms the environment, but adding seaweed to their diet could reduce the damage by 15%#eatingmeat4_but_Feedback_13#eatingmeat4_but_Feedback_13\n",
      "Methane from cow burps harms the environment, so we should change what people eat to lower emissions.#eatingmeat4_so_Feedback_9#eatingmeat4_so_Feedback_9\n",
      "Methane from cow burps harms the environment, so we must strive to find alternatives to animal agriculture, which is responsible for a large portion of the earth's methane emissions.#eatingmeat4_so_Feedback_9#eatingmeat4_so_Feedback_9\n",
      "Methane from cow burps harms the environment, but adding seaweed to their diet decreases the methane in their burps by 99%.#eatingmeat4_but_Feedback_13#eatingmeat4_but_Feedback_13\n",
      "Methane from cow burps harms the environment because each day every cow burps 30-50 gallons of methane that causes Earth's temperature to rise.#eatingmeat4_because_Feedback_5#eatingmeat4_because_Feedback_5\n",
      "Methane from cow burps harms the environment, but adding seaweed to cows' diets could reduce methane in burps#eatingmeat4_but_Feedback_13#eatingmeat4_but_Feedback_13\n",
      "Methane from cow burps harms the environment, so people are exploring alternatives to help reduce the harm done.#eatingmeat4_so_Feedback_9#eatingmeat4_so_Feedback_9\n",
      "Methane from cow burps harms the environment, but costs of animal agriculture?#eatingmeat4_but_Feedback_7#eatingmeat4_but_Feedback_7\n",
      "Methane from cow burps harms the environment because they lead to greater global warming which causes harsher weather conditions.#eatingmeat4_because_Feedback_5#eatingmeat4_because_Feedback_2\n",
      "Methane from cow burps harms the environment, so we should consider changing either what people eat or what we feed cows#eatingmeat4_so_Feedback_10#eatingmeat4_so_Feedback_10\n",
      "Methane from cow burps harms the environment, but the amount of methane that cow burps release can be drastically reduced with a change in diet to seaweed.#eatingmeat4_but_Feedback_13#eatingmeat4_but_Feedback_13\n",
      "Methane from cow burps harms the environment because of the earth's temperature is rising#eatingmeat4_because_Feedback_1#eatingmeat4_because_Feedback_1\n",
      "Methane from cow burps harms the environment, but this amount is only 14.9% of greenhouse emissions.#eatingmeat4_but_Feedback_1#eatingmeat4_but_Feedback_1\n",
      "Methane from cow burps harms the environment, but real meat is very good.#eatingmeat4_but_Feedback_7#eatingmeat4_but_Feedback_7\n",
      "Methane from cow burps harms the environment, but if cows are fed seaweed their burps release 99% less methane.#eatingmeat4_but_Feedback_13#eatingmeat4_but_Feedback_13\n",
      "Methane from cow burps harms the environment, but a change in their diet could decrease the amount of methane in their burps.#eatingmeat4_but_Feedback_9#eatingmeat4_but_Feedback_9\n",
      "Methane from cow burps harms the environment because there are so many cows and not enough solutions to prevent cows from burping so much that it harms the environment.#eatingmeat4_because_Feedback_5#eatingmeat4_because_Feedback_8\n",
      "Methane from cow burps harms the environment because the amount of methane released from the world's 1.5 billion cows is 30-50 gallons of methane gas every day.#eatingmeat4_because_Feedback_5#eatingmeat4_because_Feedback_5\n",
      "Methane from cow burps harms the environment, so easy.#eatingmeat4_so_Feedback_8#eatingmeat4_so_Feedback_8\n",
      "Methane from cow burps harms the environment, so scientists are feeding the cows seaweed.#eatingmeat4_so_Feedback_11#eatingmeat4_so_Feedback_11\n",
      "Methane from cow burps harms the environment, but we use the cows for the food industries.#eatingmeat4_but_Feedback_7#eatingmeat4_but_Feedback_7\n",
      "Methane from cow burps harms the environment, so we should try to either reduce animal agriculture or feed the animals differently, or both.#eatingmeat4_so_Feedback_10#eatingmeat4_so_Feedback_10\n",
      "Methane from cow burps harms the environment, so one alternative to address this problem, is the consuming of plant based meat.#eatingmeat4_so_Feedback_9#eatingmeat4_so_Feedback_9\n",
      "Methane from cow burps harms the environment, but there are ways to reduce the amount of methane cows burp aside from eating more impossible like products.#eatingmeat4_but_Feedback_13#eatingmeat4_but_Feedback_3\n",
      "Methane from cow burps harms the environment, but feeding seaweed to cows in addition to their regular food can reduce their production of methane by up to 99%.#eatingmeat4_but_Feedback_13#eatingmeat4_but_Feedback_13\n",
      "Methane from cow burps harms the environment because they contribute to global warming.#eatingmeat4_because_Feedback_5#eatingmeat4_because_Feedback_5\n",
      "Methane from cow burps harms the environment, so we should be looking for ways to reduce the impact of cows on the environment#eatingmeat4_so_Feedback_9#eatingmeat4_so_Feedback_9\n",
      "Methane from cow burps harms the environment, but there are other ways to make the practice of animal agriculture better for the environment#eatingmeat4_but_Feedback_3#eatingmeat4_but_Feedback_3\n",
      "Methane from cow burps harms the environment because it causes the temperature of our planet to increase.#eatingmeat4_because_Feedback_1#eatingmeat4_because_Feedback_1\n",
      "Methane from cow burps harms the environment because they contain c02#eatingmeat4_because_Feedback_10#eatingmeat4_because_Feedback_5\n",
      "Methane from cow burps harms the environment because it leads to global warming#eatingmeat4_because_Feedback_1#eatingmeat4_because_Feedback_1\n",
      "Methane from cow burps harms the environment because burps out 30-50 gallons of the greenhouse gas methane and that causes global warming.#eatingmeat4_because_Feedback_5#eatingmeat4_because_Feedback_5\n",
      "Methane from cow burps harms the environment because gas causes Earth's temperature to rise in a process called global warming#eatingmeat4_because_Feedback_1#eatingmeat4_because_Feedback_1\n",
      "Methane from cow burps harms the environment, so people are looking for ways to stop animal agriculture.#eatingmeat4_so_Feedback_9#eatingmeat4_so_Feedback_2\n",
      "Methane from cow burps harms the environment, so people must change what cows eat or what human beings eat.#eatingmeat4_so_Feedback_10#eatingmeat4_so_Feedback_10\n",
      "Methane from cow burps harms the environment because the gas causes the earths temperature to rise.#eatingmeat4_because_Feedback_1#eatingmeat4_because_Feedback_1\n",
      "Methane from cow burps harms the environment, so some people think we shouldn't raise animals for meat.#eatingmeat4_so_Feedback_2#eatingmeat4_so_Feedback_9\n",
      "Methane from cow burps harms the environment, but when cows consume seaweed as part of their diets, they release up to 99% less methane in their belching#eatingmeat4_but_Feedback_13#eatingmeat4_but_Feedback_13\n",
      "Methane from cow burps harms the environment, but changing a cow's diet can reduce the methane.#eatingmeat4_but_Feedback_9#eatingmeat4_but_Feedback_9\n",
      "Methane from cow burps harms the environment, so Impossible foods is offering a different solution.#eatingmeat4_so_Feedback_2#eatingmeat4_so_Feedback_2\n",
      "Methane from cow burps harms the environment because it causes temperature to rise, contributing to global warming.#eatingmeat4_because_Feedback_1#eatingmeat4_because_Feedback_1\n",
      "Methane from cow burps harms the environment, so some people and companies are pursuing alternatives to cow's meat.#eatingmeat4_so_Feedback_2#eatingmeat4_so_Feedback_2\n",
      "Methane from cow burps harms the environment, so we should immediately add in seaweed to their diet to reduce the greenhouse gas release and work to reduce the dependencies on meat in our diets.#eatingmeat4_so_Feedback_10#eatingmeat4_so_Feedback_10\n",
      "Methane from cow burps harms the environment, so measures need to be taken to reduce the impact of cows.#eatingmeat4_so_Feedback_10#eatingmeat4_so_Feedback_9\n",
      "Methane from cow burps harms the environment, so we should try to make it so there is less methane in cow burps.#eatingmeat4_so_Feedback_10#eatingmeat4_so_Feedback_9\n",
      "Methane from cow burps harms the environment, but if the cows consume seaweed, they produce less methane.#eatingmeat4_but_Feedback_13#eatingmeat4_but_Feedback_13\n",
      "Methane from cow burps harms the environment, but changing what the farmers feed the cow's will decrease these gases from harming the environment.#eatingmeat4_but_Feedback_9#eatingmeat4_but_Feedback_13\n",
      "Methane from cow burps harms the environment, so the consumption of seaweed is an alternative for cows that ensures that 99% methane is released in their burps.#eatingmeat4_so_Feedback_10#eatingmeat4_so_Feedback_10\n",
      "Methane from cow burps harms the environment, but recent research has shown that when cows consume seaweed as part of their diets, they release up to 99% less methane in their burps.#eatingmeat4_but_Feedback_13#eatingmeat4_but_Feedback_13\n",
      "Methane from cow burps harms the environment, but when they eat seaweed they burp less.#eatingmeat4_but_Feedback_11#eatingmeat4_but_Feedback_13\n",
      "Methane from cow burps harms the environment, but Impossible Foods may have an alternative#eatingmeat4_but_Feedback_8#eatingmeat4_but_Feedback_5\n",
      "Methane from cow burps harms the environment, so it is useful#eatingmeat4_so_Feedback_8#eatingmeat4_so_Feedback_9\n",
      "Methane from cow burps harms the environment because the greenhouse gases that causes the Earth's temperature to rise.#eatingmeat4_because_Feedback_1#eatingmeat4_because_Feedback_1\n",
      "Methane from cow burps harms the environment because that methane burns holes into the lining of the atmosphere allowing our oxygen to escape.#eatingmeat4_because_Feedback_9#eatingmeat4_because_Feedback_5\n",
      "Methane from cow burps harms the environment because it causes the Earth's temperature to rise in a process called Global Warming.#eatingmeat4_because_Feedback_1#eatingmeat4_because_Feedback_1\n",
      "Methane from cow burps harms the environment because it is a \"greenhouse gas\" that many believe is a contributing factor in global warming.#eatingmeat4_because_Feedback_1#eatingmeat4_because_Feedback_1\n",
      "Methane from cow burps harms the environment because it increases greenhouse gasses and contributes to global warming.#eatingmeat4_because_Feedback_1#eatingmeat4_because_Feedback_1\n",
      "Methane from cow burps harms the environment, so eating impossible meat reduces gas emissions.#eatingmeat4_so_Feedback_9#eatingmeat4_so_Feedback_9\n",
      "Methane from cow burps harms the environment because it causes the Earth's temperature to rise causing global warming.#eatingmeat4_because_Feedback_1#eatingmeat4_because_Feedback_1\n",
      "Methane from cow burps harms the environment because it increases greenhouse gas methane causing a rise in Earth's temperature.#eatingmeat4_because_Feedback_1#eatingmeat4_because_Feedback_1\n",
      "Methane from cow burps harms the environment, but it could be lessened if cow's ate seaweed.#eatingmeat4_but_Feedback_13#eatingmeat4_but_Feedback_13\n",
      "Methane from cow burps harms the environment because it raises greenhouse gases#eatingmeat4_because_Feedback _6#eatingmeat4_because_Feedback _6\n",
      "Methane from cow burps harms the environment, so we should consider alternatives such as plant-based meat products.#eatingmeat4_so_Feedback_9#eatingmeat4_so_Feedback_9\n",
      "Methane from cow burps harms the environment because it causes earth's temperature to rise leading to natural disasters.#eatingmeat4_because_Feedback_2#eatingmeat4_because_Feedback_1\n",
      "Methane from cow burps harms the environment, but we can lower that by turning to plant based alternatives or feeding cows seaweed based food.#eatingmeat4_but_Feedback_13#eatingmeat4_but_Feedback_13\n",
      "Methane from cow burps harms the environment, so we should work to end animal agriculture for a more ethical and greener planet.#eatingmeat4_so_Feedback_9#eatingmeat4_so_Feedback_9\n",
      "Methane from cow burps harms the environment, but it is possible to reduce the methane by changing the cows' diets to seaweed.#eatingmeat4_but_Feedback_13#eatingmeat4_but_Feedback_13\n",
      "Methane from cow burps harms the environment, but feeding the cows seaweed could change this production of methane gas#eatingmeat4_but_Feedback_13#eatingmeat4_but_Feedback_13\n",
      "Methane from cow burps harms the environment, so Impossible Foods has created a plant based, meat alternative.#eatingmeat4_so_Feedback_2#eatingmeat4_so_Feedback_2\n",
      "Methane from cow burps harms the environment, so eat meatless burgers because they produce 89% fewer greenhouse gases#eatingmeat4_so_Feedback_9#eatingmeat4_so_Feedback_8\n",
      "Methane from cow burps harms the environment, but raising animals for food purposes, produce about 14.5% of the world's greenhouse gases.#eatingmeat4_but_Feedback_1#eatingmeat4_but_Feedback_1\n",
      "Methane from cow burps harms the environment because each cow burps several gallons of gas that contribute to global warming.#eatingmeat4_because_Feedback_5#eatingmeat4_because_Feedback_5\n",
      "Methane from cow burps harms the environment, so it’s important to find ways to cut it down.#eatingmeat4_so_Feedback_9#eatingmeat4_so_Feedback_9\n",
      "Methane from cow burps harms the environment, but plant-based \"meats\" have less harmful effect on the environment.#eatingmeat4_but_Feedback_6#eatingmeat4_but_Feedback_6\n",
      "Methane from cow burps harms the environment because it contributes to greenhouse gas emissions that increase global warming.#eatingmeat4_because_Feedback_1#eatingmeat4_because_Feedback_1\n",
      "Methane from cow burps harms the environment, so it would be beneficial to either change the cows diet or minimize the need for cows.#eatingmeat4_so_Feedback_10#eatingmeat4_so_Feedback_10\n",
      "Methane from cow burps harms the environment, but if they eat more seaweed this harmful amounts could be decreased significantly.#eatingmeat4_but_Feedback_13#eatingmeat4_but_Feedback_13\n",
      "Methane from cow burps harms the environment because it makes the temperature rise.#eatingmeat4_because_Feedback_1#eatingmeat4_because_Feedback_1\n",
      "Methane from cow burps harms the environment, but it is possible to reduce the amount of methane by feeding them seaweed.#eatingmeat4_but_Feedback_13#eatingmeat4_but_Feedback_13\n",
      "Methane from cow burps harms the environment, but The belching of cows and other aspects of animal agriculture, the practice of raising animals for food purposes, produce about 14.5% of the world's greenhouse gases.#eatingmeat4_but_Feedback_1#eatingmeat4_but_Feedback_1\n",
      "Methane from cow burps harms the environment, so it causes global warming#eatingmeat4_so_Feedback_7#eatingmeat4_so_Feedback_7\n",
      "Methane from cow burps harms the environment, so introducing seaweed into their diet lessens the methane burps by 99%.#eatingmeat4_so_Feedback_10#eatingmeat4_so_Feedback_10\n",
      "Methane from cow burps harms the environment because it is a greenhouse gas which contributes to global warming#eatingmeat4_because_Feedback_1#eatingmeat4_because_Feedback_1\n",
      "Methane from cow burps harms the environment because it produces global warming gasses.#eatingmeat4_because_Feedback_4#eatingmeat4_because_Feedback_4\n",
      "Methane from cow burps harms the environment because is information is right#eatingmeat4_because_Feedback_8#eatingmeat4_because_Feedback_8\n",
      "Methane from cow burps harms the environment, so reduce outburst#eatingmeat4_so_Feedback_8#eatingmeat4_so_Feedback_8\n",
      "Methane from cow burps harms the environment, but we might be able to change their diet to produce less#eatingmeat4_but_Feedback_13#eatingmeat4_but_Feedback_9\n",
      "Methane from cow burps harms the environment, but some people still want to eat regular beef.#eatingmeat4_but_Feedback_7#eatingmeat4_but_Feedback_7\n",
      "Methane from cow burps harms the environment because it increases the level of greenhouse gases.#eatingmeat4_because_Feedback _6#eatingmeat4_because_Feedback _6\n",
      "Methane from cow burps harms the environment, but some people think that changing cows’ diets is a better solution than moving to plant based diets.#eatingmeat4_but_Feedback_12#eatingmeat4_but_Feedback_9\n",
      "Methane from cow burps harms the environment, but there are ways to reduce the methane from cows.#eatingmeat4_but_Feedback_3#eatingmeat4_but_Feedback_3\n",
      "Methane from cow burps harms the environment because their gases cause an effect on the greenhouse effect.#eatingmeat4_because_Feedback_9#eatingmeat4_because_Feedback _6\n",
      "Methane from cow burps harms the environment, so we need to eliminate the amount of meat we consume.#eatingmeat4_so_Feedback_9#eatingmeat4_so_Feedback_9\n",
      "Methane from cow burps harms the environment, so Impossible Foods is encouraging the world to end animal agriculture to prevent the need for cows to be raised for food, thus reducing the number of cows in the world and the methane the release.#eatingmeat4_so_Feedback_2#eatingmeat4_so_Feedback_2\n",
      "Methane from cow burps harms the environment, so we should eat plant-based \"meats\" instead of real meats.#eatingmeat4_so_Feedback_9#eatingmeat4_so_Feedback_9\n",
      "Methane from cow burps harms the environment because of the greenhouse gas they emit into the atmosphere.#eatingmeat4_because_Feedback_5#eatingmeat4_because_Feedback_4\n",
      "Methane from cow burps harms the environment because are part of the cause and rise of greenhouse gasses.#eatingmeat4_because_Feedback_5#eatingmeat4_because_Feedback _6\n",
      "Methane from cow burps harms the environment, so people are suggesting either ending animal agriculture or changing what farmers feed the cows.#eatingmeat4_so_Feedback_4#eatingmeat4_so_Feedback_10\n",
      "Methane from cow burps harms the environment, so reducing the amount of methane the cattle produce would help to stop global warming.#eatingmeat4_so_Feedback_10#eatingmeat4_so_Feedback_9\n",
      "Methane from cow burps harms the environment because earth's temperature rises in a process called global warming.#eatingmeat4_because_Feedback_1#eatingmeat4_because_Feedback_1\n",
      "Methane from cow burps harms the environment, but this could be reduced by feeding cows different food such as seaweed.#eatingmeat4_but_Feedback_13#eatingmeat4_but_Feedback_13\n",
      "Methane from cow burps harms the environment, so the need to change what farmers feed their cows#eatingmeat4_so_Feedback_10#eatingmeat4_so_Feedback_10\n",
      "Methane from cow burps harms the environment because 1.5 billion cows burp out 30-50 gallons of methane which is a greenhouse gas thus warming the atmosphere#eatingmeat4_because_Feedback_5#eatingmeat4_because_Feedback_5\n",
      "Methane from cow burps harms the environment, so people should try to consume less meat.#eatingmeat4_so_Feedback_9#eatingmeat4_so_Feedback_9\n",
      "Methane from cow burps harms the environment, so the company Impossible Foods has created a plant-based \"meat\".#eatingmeat4_so_Feedback_2#eatingmeat4_so_Feedback_2\n",
      "Methane from cow burps harms the environment, so there is a need to address this problem.#eatingmeat4_so_Feedback_9#eatingmeat4_so_Feedback_9\n",
      "Methane from cow burps harms the environment, but you can solve that by eating plant based foods#eatingmeat4_but_Feedback_6#eatingmeat4_but_Feedback_6\n",
      "Methane from cow burps harms the environment, but they are trying to solve that.#eatingmeat4_but_Feedback_7#eatingmeat4_but_Feedback_7\n",
      "Methane from cow burps harms the environment because it increases greenhouse gases.#eatingmeat4_because_Feedback_4#eatingmeat4_because_Feedback _6\n",
      "Methane from cow burps harms the environment, so there is an opportunity to lessen its effects.#eatingmeat4_so_Feedback_9#eatingmeat4_so_Feedback_9\n",
      "Methane from cow burps harms the environment because over 14% of greenhouse gas#eatingmeat4_because_Feedback_4#eatingmeat4_because_Feedback_7\n",
      "Methane from cow burps harms the environment, but there are alternatives to eating meat.#eatingmeat4_but_Feedback_10#eatingmeat4_but_Feedback_3\n",
      "Methane from cow burps harms the environment, but it's possible to reduce the amount of greenhouse gases produced up to 99% by changing their diet to seaweed based.#eatingmeat4_but_Feedback_13#eatingmeat4_but_Feedback_13\n",
      "Methane from cow burps harms the environment, so people should switch to plant-based foods instead.#eatingmeat4_so_Feedback_9#eatingmeat4_so_Feedback_9\n",
      "Methane from cow burps harms the environment, but the question is should we change what we eat?#eatingmeat4_but_Feedback_7#eatingmeat4_but_Feedback_7\n",
      "Methane from cow burps harms the environment, so feeding cows seaweed as part of their diet will reduce greenhouse gas emissions.#eatingmeat4_so_Feedback_10#eatingmeat4_so_Feedback_10\n",
      "Methane from cow burps harms the environment, but when cows are fed seaweed they emit 99% less methane in their burps.#eatingmeat4_but_Feedback_13#eatingmeat4_but_Feedback_13\n",
      "Methane from cow burps harms the environment, but not everyone agrees with the best solution#eatingmeat4_but_Feedback_2#eatingmeat4_but_Feedback_2\n",
      "Methane from cow burps harms the environment, but by having cows eat seaweed it has been said that they emit 99% less methane in their burps.#eatingmeat4_but_Feedback_13#eatingmeat4_but_Feedback_13\n",
      "Methane from cow burps harms the environment, but when cows consume seaweed they produce 99 percent less methane in there burps.#eatingmeat4_but_Feedback_13#eatingmeat4_but_Feedback_13\n",
      "Methane from cow burps harms the environment because they produce Greenhouse gases.#eatingmeat4_because_Feedback_5#eatingmeat4_because_Feedback_5\n",
      "Methane from cow burps harms the environment, so we should eat more plant based foods.#eatingmeat4_so_Feedback_9#eatingmeat4_so_Feedback_9\n",
      "Methane from cow burps harms the environment because - Every time a cow burps or passes gas, a little puff of methane wafts ... added together, can have a big effect on climate because methane is a ...#eatingmeat4_because_Feedback_5#eatingmeat4_because_Feedback_5\n",
      "Methane from cow burps harms the environment, so some organizations and individuals believe that humans should quit eating meat so the need for as many cows would be reduced#eatingmeat4_so_Feedback_2#eatingmeat4_so_Feedback_5\n",
      "Methane from cow burps harms the environment, so Impossible meats is attempting to disrupt this process and convince people to quit eating meat and move toward a plant based meat substitute.#eatingmeat4_so_Feedback_2#eatingmeat4_so_Feedback_2\n",
      "Methane from cow burps harms the environment, but recent research has shown that when cows consume seaweed in their diets, they release up to 99% less methane when they burp so adding seaweed to their diets could possibly reduce around one-third of greenhouse gas emissions due to animal#eatingmeat4_but_Feedback_13#eatingmeat4_but_Feedback_13\n",
      "Methane from cow burps harms the environment because it produces 14.5% of greenhouse gases worldwide.#eatingmeat4_because_Feedback_7#eatingmeat4_because_Feedback_7\n",
      "Methane from cow burps harms the environment, so there are two methods to reduce this: plant based food or feeding the cows seaweed instead of grass.#eatingmeat4_so_Feedback_10#eatingmeat4_so_Feedback_10\n",
      "Methane from cow burps harms the environment, but you can reduce thing by feeding them seaweed#eatingmeat4_but_Feedback_13#eatingmeat4_but_Feedback_13\n",
      "Methane from cow burps harms the environment, so we could change what people eat, or we could change what the cows eat.#eatingmeat4_so_Feedback_10#eatingmeat4_so_Feedback_10\n",
      "Methane from cow burps harms the environment, but introducing seaweed into cow's diets can decrease the emission of greenhouse gases by 99%, reducing about one-third of greenhouse gas emissions caused by animal agriculture.#eatingmeat4_but_Feedback_13#eatingmeat4_but_Feedback_13\n",
      "Methane from cow burps harms the environment, so it might be better to eat no meat and go with the new impossible meat substitute.#eatingmeat4_so_Feedback_9#eatingmeat4_so_Feedback_9\n",
      "Methane from cow burps harms the environment because it releases methane into the air which adds to global warming.#eatingmeat4_because_Feedback_5#eatingmeat4_because_Feedback_5\n",
      "Methane from cow burps harms the environment, but it can be reduced by changing their diet to seaweed.#eatingmeat4_but_Feedback_13#eatingmeat4_but_Feedback_13\n",
      "Methane from cow burps harms the environment, but there may be many solutions to combat the amount of methane produced.#eatingmeat4_but_Feedback_3#eatingmeat4_but_Feedback_3\n",
      "Methane from cow burps harms the environment because some people believe their burps contain methane which they also believe causes global warming.#eatingmeat4_because_Feedback_5#eatingmeat4_because_Feedback_5\n",
      "Methane from cow burps harms the environment, but this is one small step to help reduce issues that we have caused to our climate.#eatingmeat4_but_Feedback_4#eatingmeat4_but_Feedback_3\n",
      "Methane from cow burps harms the environment because it causes the temperature of the Earth to rise, resulting in global warming.#eatingmeat4_because_Feedback_1#eatingmeat4_because_Feedback_1\n",
      "Methane from cow burps harms the environment, so it would be less harmful to the environment if humans consumed less meat products.#eatingmeat4_so_Feedback_9#eatingmeat4_so_Feedback_9\n",
      "Methane from cow burps harms the environment, so some people believe we should limit meat in our diet.#eatingmeat4_so_Feedback_9#eatingmeat4_so_Feedback_9\n",
      "Methane from cow burps harms the environment, but the practice of raising animals itself produces about 14.5% of greenhouse gases.#eatingmeat4_but_Feedback_1#eatingmeat4_but_Feedback_1\n",
      "Methane from cow burps harms the environment, so we should end animal agriculture.#eatingmeat4_so_Feedback_9#eatingmeat4_so_Feedback_9\n",
      "Methane from cow burps harms the environment, so should we stop eating meat and eat plant based meat.#eatingmeat4_so_Feedback_9#eatingmeat4_so_Feedback_9\n",
      "Methane from cow burps harms the environment, but it can be reduced by feeding cow seaweed.#eatingmeat4_but_Feedback_13#eatingmeat4_but_Feedback_13\n",
      "Methane from cow burps harms the environment because it contains methane, a potent greenhouse gas#eatingmeat4_because_Feedback_5#eatingmeat4_because_Feedback_5\n",
      "Methane from cow burps harms the environment because they release methane into the atmosphere at a high rate.#eatingmeat4_because_Feedback_5#eatingmeat4_because_Feedback_5\n",
      "Methane from cow burps harms the environment, but scientists have come up with two different solutions.#eatingmeat4_but_Feedback_3#eatingmeat4_so_Feedback_1\n",
      "Methane from cow burps harms the environment, but companies like Impossible Foods aims to end this by creating plant-based \"meat\" that looks, tastes and has the texture of real meat, with 89% fewer greenhouse emissions than real beef.#eatingmeat4_but_Feedback_5#eatingmeat4_but_Feedback_5\n",
      "Methane from cow burps harms the environment, so impossible food decided to end animal farm 2035 and provide a plant based meat#eatingmeat4_so_Feedback_2#eatingmeat4_so_Feedback_2\n",
      "Methane from cow burps harms the environment, so it is important that humans find ways of decreasing the effects of cow burps on the environment.#eatingmeat4_so_Feedback_9#eatingmeat4_so_Feedback_9\n",
      "Methane from cow burps harms the environment, so Impossible Foods offers alternative \"meat\" products that do not container animal products, at all.#eatingmeat4_so_Feedback_2#eatingmeat4_so_Feedback_2\n",
      "Methane from cow burps harms the environment because cows burps out 30-50 gallons of the greenhouse gas methane, this gas causes Earth's temperature to rise in a process called global warming.#eatingmeat4_because_Feedback_5#eatingmeat4_because_Feedback_5\n",
      "Methane from cow burps harms the environment, but companies like Impossible Foods are taking measures to change this by creating plant-based \"meats\" that have the look, taste, and texture of real meat, thus making itself appealing to meat-eaters and slowly ending animal agriculture.#eatingmeat4_but_Feedback_5#eatingmeat4_but_Feedback_5\n",
      "Methane from cow burps harms the environment, but some research suggests that adding seaweed to cows' diets will reduce the amount of released methane.#eatingmeat4_but_Feedback_13#eatingmeat4_but_Feedback_13\n",
      "Methane from cow burps harms the environment, so scientist are looking into different cow’s food to help reduce the methane.#eatingmeat4_so_Feedback_3#eatingmeat4_so_Feedback_11\n",
      "Methane from cow burps harms the environment because it is a greenhouse gas which is leading to the warming of our planet#eatingmeat4_because_Feedback_1#eatingmeat4_because_Feedback_1\n",
      "Methane from cow burps harms the environment, so we will all be encouraged to eat plant based meats.#eatingmeat4_so_Feedback_8#eatingmeat4_so_Feedback_9\n",
      "Methane from cow burps harms the environment because it adds onto the greenhouse gas emissions causing earths temperature to rise.#eatingmeat4_because_Feedback_1#eatingmeat4_because_Feedback_9\n",
      "Methane from cow burps harms the environment because it produces 3-50 gallons of greenhouse gas methane every day.#eatingmeat4_because_Feedback_7#eatingmeat4_because_Feedback_5\n",
      "Methane from cow burps harms the environment, but there may be ways to decrease methane from cow burps, like feeding cows seaweed.#eatingmeat4_but_Feedback_13#eatingmeat4_but_Feedback_13\n",
      "Methane from cow burps harms the environment, so by switching to meatless alternatives the damage caused can be greatly lessened.#eatingmeat4_so_Feedback_9#eatingmeat4_so_Feedback_9\n",
      "Methane from cow burps harms the environment because the gas from the cow burps contribute to gas emissions and raises the Earth's temperature.#eatingmeat4_because_Feedback_5#eatingmeat4_because_Feedback_5\n",
      "Methane from cow burps harms the environment, so it would be good for the planet if people found an alternative to having so many cows, such as feeding the cows different foods or reducing peoples' meat consumption.#eatingmeat4_so_Feedback_10#eatingmeat4_so_Feedback_10\n",
      "Methane from cow burps harms the environment, but can be reduced if cows eat seaweed as part of their diet.#eatingmeat4_but_Feedback_13#eatingmeat4_but_Feedback_13\n",
      "Methane from cow burps harms the environment, so Impossible Foods wants to end all Animal Agriculture by 2035.#eatingmeat4_so_Feedback_2#eatingmeat4_so_Feedback_2\n",
      "Methane from cow burps harms the environment because 30-50 gallons of the greenhouse gas methane is produced every day, which contributes to global warming.#eatingmeat4_because_Feedback_5#eatingmeat4_because_Feedback_5\n",
      "Methane from cow burps harms the environment, so either cows should be fed seaweed in their diet or people should eat less meat.#eatingmeat4_so_Feedback_10#eatingmeat4_so_Feedback_10\n",
      "Methane from cow burps harms the environment because it creates gas that cause the rise of Earth's temperature to eventually lead towards global warming.#eatingmeat4_because_Feedback_4#eatingmeat4_because_Feedback_1\n",
      "Methane from cow burps harms the environment because they release methane gas, adding to global warming.#eatingmeat4_because_Feedback_5#eatingmeat4_because_Feedback_5\n",
      "Methane from cow burps harms the environment because they produce 30-50 gallons of methane gas which cause the earths temperature to rise.#eatingmeat4_because_Feedback_5#eatingmeat4_because_Feedback_5\n",
      "Methane from cow burps harms the environment, so some people think we should starting eating plant based meat products and others think we just need to adjust the cows diets.#eatingmeat4_so_Feedback_10#eatingmeat4_so_Feedback_10\n",
      "Methane from cow burps harms the environment, so we need to end animal agriculture by changing our diet from omnivore to vegan.#eatingmeat4_so_Feedback_9#eatingmeat4_so_Feedback_9\n",
      "Methane from cow burps harms the environment, but there could be many solutions to fix this problem and others as well.#eatingmeat4_but_Feedback_3#eatingmeat4_but_Feedback_3\n",
      "Methane from cow burps harms the environment, but they release up to 99% less methane in their burps when they consume seaweed as part of their diets.#eatingmeat4_but_Feedback_13#eatingmeat4_but_Feedback_13\n",
      "Methane from cow burps harms the environment because it causes Earth's temperature to rise leading to extreme weather events.#eatingmeat4_because_Feedback_2#eatingmeat4_because_Feedback_2\n",
      "Methane from cow burps harms the environment, but that's the the only issue that's contributing to the global warming issue.#eatingmeat4_but_Feedback_7#eatingmeat4_but_Feedback_7\n",
      "Methane from cow burps harms the environment, but there is a theory to help by changing cattle feed to seaweed which reduces burping.#eatingmeat4_but_Feedback_11#eatingmeat4_but_Feedback_13\n",
      "Methane from cow burps harms the environment, but some people think that we could solve that problem by greatly reducing our meat consumption by eating plant based foods that taste like meat.#eatingmeat4_but_Feedback_6#eatingmeat4_but_Feedback_6\n",
      "Methane from cow burps harms the environment, but not everyone agrees in ending animal agriculture.#eatingmeat4_but_Feedback_2#eatingmeat4_but_Feedback_2\n",
      "Methane from cow burps harms the environment, but to address this problem, the company Impossible Foods wants to end all animal agriculture by 2035#eatingmeat4_but_Feedback_8#eatingmeat4_but_Feedback_5\n",
      "Methane from cow burps harms the environment, but is necessary for meat to be produced.#eatingmeat4_but_Feedback_7#eatingmeat4_but_Feedback_7\n",
      "Methane from cow burps harms the environment, but when fed seaweed, cows produce 99% less methane.#eatingmeat4_but_Feedback_13#eatingmeat4_but_Feedback_13\n",
      "Methane from cow burps harms the environment, so meat alternatives like Impossible Foods are being introduced as a less harmful alternative to the environmental impacts of animal agriculture.#eatingmeat4_so_Feedback_2#eatingmeat4_so_Feedback_2\n",
      "Methane from cow burps harms the environment, so they try not to get them to burp#eatingmeat4_so_Feedback_8#eatingmeat4_so_Feedback_8\n",
      "Methane from cow burps harms the environment, so some people believe that raising cows for meat should be discontinued.#eatingmeat4_so_Feedback_2#eatingmeat4_so_Feedback_9\n",
      "Methane from cow burps harms the environment, so we should create plant-based \"meats\" that have the look, taste, and texture of real meat, Impossible is appealing to meat-eaters, but also feed seaweed to cows and stop mating cows for slaughter#eatingmeat4_so_Feedback_10#eatingmeat4_so_Feedback_10\n",
      "Methane from cow burps harms the environment, but cows that consume seaweed produce 99% less methane.#eatingmeat4_but_Feedback_13#eatingmeat4_but_Feedback_13\n",
      "Methane from cow burps harms the environment, but it's by far mostly human activity that's driving up levels of this destructive greenhouse gas.#eatingmeat4_but_Feedback_7#eatingmeat4_but_Feedback_7\n",
      "Methane from cow burps harms the environment, but it is not the only factor.#eatingmeat4_but_Feedback_4#eatingmeat4_but_Feedback_4\n",
      "Methane from cow burps harms the environment because the emissions contribute to the gas that causes global warming.#eatingmeat4_because_Feedback_1#eatingmeat4_because_Feedback_4\n",
      "Methane from cow burps harms the environment, so we should change the way we go about farming meat.#eatingmeat4_so_Feedback_9#eatingmeat4_so_Feedback_9\n",
      "Methane from cow burps harms the environment, so farmers feed them seaweed.#eatingmeat4_so_Feedback_11#eatingmeat4_so_Feedback_11\n",
      "Methane from cow burps harms the environment, so the gas causes Earth's temperature to rise.#eatingmeat4_so_Feedback_7#eatingmeat4_so_Feedback_7\n",
      "Methane from cow burps harms the environment, but it can be cut down by farmers adding seaweed to the cows diet.#eatingmeat4_but_Feedback_13#eatingmeat4_but_Feedback_13\n",
      "Methane from cow burps harms the environment, so we should eat less meat.#eatingmeat4_so_Feedback_9#eatingmeat4_so_Feedback_9\n",
      "Methane from cow burps harms the environment, so companies like Impossible Burger are advocating against animal agriculture and advocating for plant-based diets.#eatingmeat4_so_Feedback_2#eatingmeat4_so_Feedback_2\n",
      "Methane from cow burps harms the environment because methane causes the Earth's temperature to rise which contributes to global warming.#eatingmeat4_because_Feedback_1#eatingmeat4_because_Feedback_1\n",
      "Methane from cow burps harms the environment, but he is very great#eatingmeat4_but_Feedback_7#eatingmeat4_but_Feedback_7\n",
      "Methane from cow burps harms the environment, so we will find out solutions.#eatingmeat4_so_Feedback_9#eatingmeat4_so_Feedback_9\n",
      "Methane from cow burps harms the environment because they account for 14.5% of greenhouse gas.#eatingmeat4_because_Feedback_7#eatingmeat4_because_Feedback_7\n",
      "Methane from cow burps harms the environment because it causes the earth temperature to change from global warming.#eatingmeat4_because_Feedback_1#eatingmeat4_because_Feedback_1\n",
      "Methane from cow burps harms the environment, so we should try to eat less meat to decrease the amount of greenhouse gases into the environment.#eatingmeat4_so_Feedback_9#eatingmeat4_so_Feedback_9\n",
      "Methane from cow burps harms the environment, so in order for a reduction in gas, a change is needed in the way cows are raised.#eatingmeat4_so_Feedback_10#eatingmeat4_so_Feedback_10\n",
      "Methane from cow burps harms the environment because they burp out a greenhouse gas that contributes to global warming.#eatingmeat4_because_Feedback_5#eatingmeat4_because_Feedback_5\n",
      "Methane from cow burps harms the environment, so the alternative of producing meat with plant based product rather than from cows.#eatingmeat4_so_Feedback_9#eatingmeat4_so_Feedback_9\n",
      "Methane from cow burps harms the environment, so we need to look for other methods of feeding the populations protein or new methods of feeding the cows.#eatingmeat4_so_Feedback_10#eatingmeat4_so_Feedback_10\n",
      "Methane from cow burps harms the environment, so This solution could reduce about one-third of greenhouse gas emissions caused by animal agriculture.#eatingmeat4_so_Feedback_9#eatingmeat4_so_Feedback_9\n",
      "Methane from cow burps harms the environment, so it's important that we find a solution to eradicate this problem.#eatingmeat4_so_Feedback_9#eatingmeat4_so_Feedback_9\n",
      "Methane from cow burps harms the environment, so the company Impossible Foods want to end all animal agriculture by 2035.#eatingmeat4_so_Feedback_2#eatingmeat4_so_Feedback_2\n",
      "Methane from cow burps harms the environment because it contains 30-50 gallons of greenhouse gas methane.#eatingmeat4_because_Feedback_5#eatingmeat4_because_Feedback_5\n",
      "Methane from cow burps harms the environment, so many fast-food chains have created meat alternatives.#eatingmeat4_so_Feedback_6#eatingmeat4_so_Feedback_6\n",
      "Methane from cow burps harms the environment, but impossible foods has come up with a solution.#eatingmeat4_but_Feedback_8#eatingmeat4_but_Feedback_5\n",
      "Methane from cow burps harms the environment because it releases 30-50 gallons of methane into the atmosphere per cow.#eatingmeat4_because_Feedback_5#eatingmeat4_because_Feedback_5\n",
      "Methane from cow burps harms the environment, so what is the best solution to remedy this issue?#eatingmeat4_so_Feedback_8#eatingmeat4_so_Feedback_9\n",
      "Methane from cow burps harms the environment, so it is for a purpose#eatingmeat4_so_Feedback_8#eatingmeat4_so_Feedback_8\n",
      "Methane from cow burps harms the environment, but there can be a reduction in methane released by feeding cows seaweed in their diet instead of what they currently eat.#eatingmeat4_but_Feedback_13#eatingmeat4_but_Feedback_13\n",
      "Methane from cow burps harms the environment because the cow burps ultimately cause global warming.#eatingmeat4_because_Feedback_5#eatingmeat4_because_Feedback_1\n",
      "Methane from cow burps harms the environment, so we need to either change how we eat or how the cows eat to help prevent it from happening.#eatingmeat4_so_Feedback_10#eatingmeat4_so_Feedback_10\n",
      "Methane from cow burps harms the environment because it causes global warming#eatingmeat4_because_Feedback_1#eatingmeat4_because_Feedback_1\n",
      "Methane from cow burps harms the environment, so reducing our need for cows in our agriculture is a way to fight climate change.#eatingmeat4_so_Feedback_9#eatingmeat4_so_Feedback_9\n",
      "Methane from cow burps harms the environment, so we should try to find ways to reduce it.#eatingmeat4_so_Feedback_9#eatingmeat4_so_Feedback_9\n",
      "Methane from cow burps harms the environment because each burp contains an unbelievable volumn of methan gas, a gas associated with global warming.#eatingmeat4_because_Feedback_5#eatingmeat4_because_Feedback_5\n",
      "Methane from cow burps harms the environment, so a new company, Impossible Foods, created plant based meat substitutes, which feel and taste like real meat.#eatingmeat4_so_Feedback_2#eatingmeat4_so_Feedback_2\n",
      "Methane from cow burps harms the environment, but if farmers were willing to add seaweed to their cows feed, they could drastically reduce greenhouse gases.#eatingmeat4_but_Feedback_13#eatingmeat4_but_Feedback_13\n",
      "Methane from cow burps harms the environment, so we need to find better solutions like feeding them seaweed.#eatingmeat4_so_Feedback_10#eatingmeat4_so_Feedback_10\n",
      "Methane from cow burps harms the environment, so some companies such as \"Impossible Foods\" want to end all animal agriculture by 2035.#eatingmeat4_so_Feedback_2#eatingmeat4_so_Feedback_2\n",
      "Methane from cow burps harms the environment, but we can reduce that by changing the food cows get.#eatingmeat4_but_Feedback_9#eatingmeat4_but_Feedback_9\n",
      "\n",
      "1918 / 2373 = 0.8082595870206489\n"
     ]
    }
   ],
   "source": [
    "c = 0\n",
    "for item, predicted, correct in zip(all_test_data, all_predicted, all_correct):\n",
    "    assert item.label_ids == correct\n",
    "    c += (item.label_ids == predicted)\n",
    "    print(\"{}#{}#{}\".format(item.text, idx2label[correct], idx2label[predicted]))\n",
    "    \n",
    "print()\n",
    "print(c, \"/\", len(all_test_data), \"=\", c/len(all_test_data))"
   ]
  },
  {
   "cell_type": "code",
   "execution_count": null,
   "metadata": {},
   "outputs": [],
   "source": []
  }
 ],
 "metadata": {
  "kernelspec": {
   "display_name": "Python 3",
   "language": "python",
   "name": "python3"
  },
  "language_info": {
   "codemirror_mode": {
    "name": "ipython",
    "version": 3
   },
   "file_extension": ".py",
   "mimetype": "text/x-python",
   "name": "python",
   "nbconvert_exporter": "python",
   "pygments_lexer": "ipython3",
   "version": "3.7.3"
  }
 },
 "nbformat": 4,
 "nbformat_minor": 2
}
