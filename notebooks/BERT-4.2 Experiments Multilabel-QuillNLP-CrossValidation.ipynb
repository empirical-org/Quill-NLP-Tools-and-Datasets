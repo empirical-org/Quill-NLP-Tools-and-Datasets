{
 "cells": [
  {
   "cell_type": "markdown",
   "metadata": {},
   "source": [
    "# Multilabel BERT Experiments\n",
    "\n",
    "In this notebook we do some first experiments with BERT: we finetune a BERT model+classifier on each of our datasets separately and compute the accuracy of the resulting classifier on the test data."
   ]
  },
  {
   "cell_type": "markdown",
   "metadata": {},
   "source": [
    "For these experiments we use the `pytorch_transformers` package. It contains a variety of neural network architectures for transfer learning and pretrained models, including BERT and XLNET.\n",
    "\n",
    "Two different BERT models are relevant for our experiments: \n",
    "\n",
    "- BERT-base-uncased: a relatively small BERT model that should already give reasonable results,\n",
    "- BERT-large-uncased: a larger model for real state-of-the-art results."
   ]
  },
  {
   "cell_type": "code",
   "execution_count": 1,
   "metadata": {},
   "outputs": [],
   "source": [
    "PREFIX = \"title9_but\" #\"voting_so_automl\"\n",
    "BERT_MODEL = 'bert-base-uncased'\n",
    "BATCH_SIZE = 16 if \"base\" in BERT_MODEL else 2\n",
    "GRADIENT_ACCUMULATION_STEPS = 1 if \"base\" in BERT_MODEL else 8\n",
    "MAX_SEQ_LENGTH = 100"
   ]
  },
  {
   "cell_type": "markdown",
   "metadata": {},
   "source": [
    "## Data\n",
    "\n",
    "We use the same data as for all our previous experiments. Here we load the training, development and test data for a particular prompt."
   ]
  },
  {
   "cell_type": "code",
   "execution_count": 2,
   "metadata": {},
   "outputs": [
    {
     "name": "stderr",
     "output_type": "stream",
     "text": [
      "I0404 18:53:29.534177 140043817379648 file_utils.py:41] PyTorch version 1.2.0+cu92 available.\n",
      "I0404 18:53:30.516104 140043817379648 file_utils.py:57] TensorFlow version 2.1.0 available.\n",
      "I0404 18:53:31.153071 140043817379648 tokenization_utils.py:501] loading file https://s3.amazonaws.com/models.huggingface.co/bert/bert-base-uncased-vocab.txt from cache at /home/yves/.cache/torch/transformers/26bc1ad6c0ac742e9b52263248f6d0f00068293b33709fae12320c0e35ccfbbb.542ce4285a40d23a559526243235df47c5f75c197f04f37d1a0c124c32c9a084\n"
     ]
    },
    {
     "name": "stdout",
     "output_type": "stream",
     "text": [
      "Counter({'Miscellaneous': 124, 'Teams_reinstated': 116, 'Women_sued': 107, 'Cuts_to_WSD,': 92, 'EMU_viol_TitleIX': 56, 'Court_Decision': 49, 'Cuts_to_mens_sports': 48, 'Judge_reinstate': 45, 'Affected_More_Men': 42, 'Did_not_cut_t_and_s': 30, 'Fem_athletes_mad': 22, 'Kept_other_ones': 20, 'Limit_woms_opps': 17, 'EMU_cut_less_men': 17, 'EMU_compliant': 15, 'Cuts_to_WSD': 1})\n"
     ]
    }
   ],
   "source": [
    "import sys\n",
    "sys.path.append('../')\n",
    "\n",
    "import ndjson\n",
    "import glob\n",
    "import numpy as np\n",
    "from collections import Counter\n",
    "\n",
    "from quillnlp.models.bert.preprocessing import preprocess, create_label_vocabulary\n",
    "\n",
    "data_file = f\"../data/interim/{PREFIX}_withprompt.ndjson\"\n",
    "\n",
    "with open(data_file) as i:\n",
    "    data = ndjson.load(i)\n",
    "    \n",
    "for item in data:\n",
    "    item[\"label\"] = item[\"labels\"]\n",
    "    \n",
    "label2idx = create_label_vocabulary(data)\n",
    "idx2label = {v:k for k,v in label2idx.items()}\n",
    "target_names = [idx2label[s] for s in range(len(idx2label))]\n",
    "\n",
    "data_items = preprocess(data, BERT_MODEL, label2idx, MAX_SEQ_LENGTH)\n",
    "data_items = np.array(data_items)\n",
    "    \n",
    "labels = Counter()\n",
    "for item in data:\n",
    "    labels.update(item[\"label\"])\n",
    "print(labels)"
   ]
  },
  {
   "cell_type": "markdown",
   "metadata": {},
   "source": [
    "Read synthetic data, when available."
   ]
  },
  {
   "cell_type": "code",
   "execution_count": 3,
   "metadata": {},
   "outputs": [
    {
     "name": "stderr",
     "output_type": "stream",
     "text": [
      "I0404 18:53:31.873625 140043817379648 tokenization_utils.py:501] loading file https://s3.amazonaws.com/models.huggingface.co/bert/bert-base-uncased-vocab.txt from cache at /home/yves/.cache/torch/transformers/26bc1ad6c0ac742e9b52263248f6d0f00068293b33709fae12320c0e35ccfbbb.542ce4285a40d23a559526243235df47c5f75c197f04f37d1a0c124c32c9a084\n"
     ]
    }
   ],
   "source": [
    "from collections import defaultdict\n",
    "\n",
    "synth_files = glob.glob(f\"../data/interim/{PREFIX}_withprompt_*.ndjson\")\n",
    "\n",
    "synth_data = []\n",
    "for synth_file in synth_files:\n",
    "    with open(synth_file) as i:\n",
    "        synth_data.extend(ndjson.load(i))\n",
    "\n",
    "preprocessed_synth_data = preprocess(synth_data, BERT_MODEL, label2idx, MAX_SEQ_LENGTH)\n",
    "        \n",
    "synth_map = defaultdict(list)\n",
    "for item, preprocessed_item in zip(synth_data, preprocessed_synth_data):\n",
    "    synth_map[item[\"source_text\"]].append(preprocessed_item)\n",
    "\n",
    "synth_map = {}"
   ]
  },
  {
   "cell_type": "markdown",
   "metadata": {},
   "source": [
    "## Model\n",
    "\n",
    "We load the pretrained model and put it on a GPU if one is available. We also put the model in \"training\" mode, so that we can correctly update its internal parameters on the basis of our data sets."
   ]
  },
  {
   "cell_type": "code",
   "execution_count": 4,
   "metadata": {},
   "outputs": [],
   "source": [
    "def evaluate_output(all_correct, all_predicted):\n",
    "    correct = 0\n",
    "    at_least_one = 0\n",
    "    fp, fn, tp, tn = 0, 0, 0, 0\n",
    "    for c, p in zip(all_correct, all_predicted):\n",
    "        if sum(c == p) == len(c):\n",
    "            correct +=1\n",
    "\n",
    "        for ci, pi in zip(c, p):\n",
    "            if pi == 1 and ci == 1:\n",
    "                at_least_one += 1\n",
    "                break\n",
    "\n",
    "        for ci, pi in zip(c, p):\n",
    "            if pi == 1 and ci == 1:\n",
    "                tp += 1\n",
    "                same = 1\n",
    "            elif pi == 1 and ci == 0:\n",
    "                fp += 1\n",
    "            elif pi == 0 and ci == 1:\n",
    "                fn += 1\n",
    "            else:\n",
    "                tn += 1\n",
    "                same =1\n",
    "\n",
    "    precision = tp/(tp+fp)\n",
    "    recall = tp/(tp+fn)\n",
    "    print(\"Data size:\", len(all_predicted))\n",
    "    print(\"P:\", tp, \"/\", tp+fp, \"=\", precision)\n",
    "    print(\"R:\", tp, \"/\", tp+fn, \"=\", recall)\n",
    "    print(\"F:\", 2*precision*recall/(precision+recall))\n",
    "    print(\"A:\", correct/len(all_correct))\n",
    "    print(\"AL1:\", at_least_one/len(all_correct))"
   ]
  },
  {
   "cell_type": "code",
   "execution_count": 5,
   "metadata": {},
   "outputs": [
    {
     "name": "stdout",
     "output_type": "stream",
     "text": [
      "Train size: 460\n",
      "Final train dataloader length: 29\n"
     ]
    },
    {
     "name": "stderr",
     "output_type": "stream",
     "text": [
      "I0404 18:53:32.406511 140043817379648 configuration_utils.py:256] loading configuration file https://s3.amazonaws.com/models.huggingface.co/bert/bert-base-uncased-config.json from cache at /home/yves/.cache/torch/transformers/4dad0251492946e18ac39290fcfe91b89d370fee250efe9521476438fe8ca185.8f56353af4a709bf5ff0fbc915d8f5b42bfff892cbb6ac98c3c45f481a03c685\n",
      "I0404 18:53:32.408109 140043817379648 configuration_utils.py:292] Model config BertConfig {\n",
      "  \"architectures\": [\n",
      "    \"BertForMaskedLM\"\n",
      "  ],\n",
      "  \"attention_probs_dropout_prob\": 0.1,\n",
      "  \"bos_token_id\": null,\n",
      "  \"do_sample\": false,\n",
      "  \"eos_token_ids\": null,\n",
      "  \"finetuning_task\": null,\n",
      "  \"hidden_act\": \"gelu\",\n",
      "  \"hidden_dropout_prob\": 0.1,\n",
      "  \"hidden_size\": 768,\n",
      "  \"id2label\": {\n",
      "    \"0\": \"LABEL_0\",\n",
      "    \"1\": \"LABEL_1\"\n",
      "  },\n",
      "  \"initializer_range\": 0.02,\n",
      "  \"intermediate_size\": 3072,\n",
      "  \"is_decoder\": false,\n",
      "  \"label2id\": {\n",
      "    \"LABEL_0\": 0,\n",
      "    \"LABEL_1\": 1\n",
      "  },\n",
      "  \"layer_norm_eps\": 1e-12,\n",
      "  \"length_penalty\": 1.0,\n",
      "  \"max_length\": 20,\n",
      "  \"max_position_embeddings\": 512,\n",
      "  \"model_type\": \"bert\",\n",
      "  \"num_attention_heads\": 12,\n",
      "  \"num_beams\": 1,\n",
      "  \"num_hidden_layers\": 12,\n",
      "  \"num_labels\": 16,\n",
      "  \"num_return_sequences\": 1,\n",
      "  \"output_attentions\": false,\n",
      "  \"output_hidden_states\": false,\n",
      "  \"output_past\": true,\n",
      "  \"pad_token_id\": null,\n",
      "  \"pruned_heads\": {},\n",
      "  \"repetition_penalty\": 1.0,\n",
      "  \"temperature\": 1.0,\n",
      "  \"top_k\": 50,\n",
      "  \"top_p\": 1.0,\n",
      "  \"torchscript\": false,\n",
      "  \"type_vocab_size\": 2,\n",
      "  \"use_bfloat16\": false,\n",
      "  \"vocab_size\": 30522\n",
      "}\n",
      "\n",
      "I0404 18:53:32.865620 140043817379648 modeling_utils.py:461] loading weights file https://s3.amazonaws.com/models.huggingface.co/bert/bert-base-uncased-pytorch_model.bin from cache at /home/yves/.cache/torch/transformers/aa1ef1aede4482d0dbcd4d52baad8ae300e60902e88fcb0bebdec09afd232066.36ca03ab34a1a5d5fa7bc3d03d55c4fa650fed07220e2eeebc06ce58d0e9a157\n",
      "I0404 18:53:34.632059 140043817379648 modeling_utils.py:546] Weights of BertForMultiLabelSequenceClassification not initialized from pretrained model: ['classifier.weight', 'classifier.bias']\n",
      "I0404 18:53:34.632825 140043817379648 modeling_utils.py:552] Weights from pretrained model not used in BertForMultiLabelSequenceClassification: ['cls.predictions.bias', 'cls.predictions.transform.dense.weight', 'cls.predictions.transform.dense.bias', 'cls.predictions.decoder.weight', 'cls.seq_relationship.weight', 'cls.seq_relationship.bias', 'cls.predictions.transform.LayerNorm.weight', 'cls.predictions.transform.LayerNorm.bias']\n",
      "Epoch:   0%|          | 0/100 [00:00<?, ?it/s]"
     ]
    },
    {
     "data": {
      "application/vnd.jupyter.widget-view+json": {
       "model_id": "dfacd7fcfedf47629dc64c1f8d5ba7cb",
       "version_major": 2,
       "version_minor": 0
      },
      "text/plain": [
       "HBox(children=(IntProgress(value=0, description='Training iteration', max=29, style=ProgressStyle(description_…"
      ]
     },
     "metadata": {},
     "output_type": "display_data"
    },
    {
     "name": "stdout",
     "output_type": "stream",
     "text": [
      "\n"
     ]
    },
    {
     "data": {
      "application/vnd.jupyter.widget-view+json": {
       "model_id": "22696ebf73d944a5a0fae6b26170c0b4",
       "version_major": 2,
       "version_minor": 0
      },
      "text/plain": [
       "HBox(children=(IntProgress(value=0, description='Evaluation iteration', max=6, style=ProgressStyle(description…"
      ]
     },
     "metadata": {},
     "output_type": "display_data"
    },
    {
     "name": "stdout",
     "output_type": "stream",
     "text": [
      "\n",
      "Loss history: []\n",
      "Dev loss: 0.5807238121827444\n"
     ]
    },
    {
     "name": "stderr",
     "output_type": "stream",
     "text": [
      "\r",
      "Epoch:   1%|          | 1/100 [00:06<11:20,  6.87s/it]"
     ]
    },
    {
     "data": {
      "application/vnd.jupyter.widget-view+json": {
       "model_id": "fe1efb237338464fbda366cd298c2d2e",
       "version_major": 2,
       "version_minor": 0
      },
      "text/plain": [
       "HBox(children=(IntProgress(value=0, description='Training iteration', max=29, style=ProgressStyle(description_…"
      ]
     },
     "metadata": {},
     "output_type": "display_data"
    },
    {
     "name": "stdout",
     "output_type": "stream",
     "text": [
      "\n"
     ]
    },
    {
     "data": {
      "application/vnd.jupyter.widget-view+json": {
       "model_id": "f8920b38896a4a5c9d1a7126fcdf6a67",
       "version_major": 2,
       "version_minor": 0
      },
      "text/plain": [
       "HBox(children=(IntProgress(value=0, description='Evaluation iteration', max=6, style=ProgressStyle(description…"
      ]
     },
     "metadata": {},
     "output_type": "display_data"
    },
    {
     "name": "stdout",
     "output_type": "stream",
     "text": [
      "\n",
      "Loss history: [0.5807238121827444]\n",
      "Dev loss: 0.4713802585999171\n"
     ]
    },
    {
     "name": "stderr",
     "output_type": "stream",
     "text": [
      "\r",
      "Epoch:   2%|▏         | 2/100 [00:13<11:14,  6.88s/it]"
     ]
    },
    {
     "data": {
      "application/vnd.jupyter.widget-view+json": {
       "model_id": "f9669237427b4e93af890a466b0d038d",
       "version_major": 2,
       "version_minor": 0
      },
      "text/plain": [
       "HBox(children=(IntProgress(value=0, description='Training iteration', max=29, style=ProgressStyle(description_…"
      ]
     },
     "metadata": {},
     "output_type": "display_data"
    },
    {
     "name": "stdout",
     "output_type": "stream",
     "text": [
      "\n"
     ]
    },
    {
     "data": {
      "application/vnd.jupyter.widget-view+json": {
       "model_id": "95a4310414804642a743f854e0a61d19",
       "version_major": 2,
       "version_minor": 0
      },
      "text/plain": [
       "HBox(children=(IntProgress(value=0, description='Evaluation iteration', max=6, style=ProgressStyle(description…"
      ]
     },
     "metadata": {},
     "output_type": "display_data"
    },
    {
     "name": "stdout",
     "output_type": "stream",
     "text": [
      "\n",
      "Loss history: [0.5807238121827444, 0.4713802585999171]\n",
      "Dev loss: 0.3920477976401647\n"
     ]
    },
    {
     "name": "stderr",
     "output_type": "stream",
     "text": [
      "\r",
      "Epoch:   3%|▎         | 3/100 [00:20<11:08,  6.89s/it]"
     ]
    },
    {
     "data": {
      "application/vnd.jupyter.widget-view+json": {
       "model_id": "6390c37b79db48ed9f072eb9fc88df01",
       "version_major": 2,
       "version_minor": 0
      },
      "text/plain": [
       "HBox(children=(IntProgress(value=0, description='Training iteration', max=29, style=ProgressStyle(description_…"
      ]
     },
     "metadata": {},
     "output_type": "display_data"
    },
    {
     "name": "stdout",
     "output_type": "stream",
     "text": [
      "\n"
     ]
    },
    {
     "data": {
      "application/vnd.jupyter.widget-view+json": {
       "model_id": "687315057a0b42fe859f9f23d55cccba",
       "version_major": 2,
       "version_minor": 0
      },
      "text/plain": [
       "HBox(children=(IntProgress(value=0, description='Evaluation iteration', max=6, style=ProgressStyle(description…"
      ]
     },
     "metadata": {},
     "output_type": "display_data"
    },
    {
     "name": "stdout",
     "output_type": "stream",
     "text": [
      "\n",
      "Loss history: [0.5807238121827444, 0.4713802585999171, 0.3920477976401647]\n",
      "Dev loss: 0.3334565609693527\n"
     ]
    },
    {
     "name": "stderr",
     "output_type": "stream",
     "text": [
      "\r",
      "Epoch:   4%|▍         | 4/100 [00:27<11:01,  6.89s/it]"
     ]
    },
    {
     "data": {
      "application/vnd.jupyter.widget-view+json": {
       "model_id": "9fb02463661d47d097780fa79b91a3c4",
       "version_major": 2,
       "version_minor": 0
      },
      "text/plain": [
       "HBox(children=(IntProgress(value=0, description='Training iteration', max=29, style=ProgressStyle(description_…"
      ]
     },
     "metadata": {},
     "output_type": "display_data"
    },
    {
     "name": "stdout",
     "output_type": "stream",
     "text": [
      "\n"
     ]
    },
    {
     "data": {
      "application/vnd.jupyter.widget-view+json": {
       "model_id": "738858b0488f4825b29e4bff8d65a5fd",
       "version_major": 2,
       "version_minor": 0
      },
      "text/plain": [
       "HBox(children=(IntProgress(value=0, description='Evaluation iteration', max=6, style=ProgressStyle(description…"
      ]
     },
     "metadata": {},
     "output_type": "display_data"
    },
    {
     "name": "stdout",
     "output_type": "stream",
     "text": [
      "\n",
      "Loss history: [0.5807238121827444, 0.4713802585999171, 0.3920477976401647, 0.3334565609693527]\n",
      "Dev loss: 0.28837329645951587\n"
     ]
    },
    {
     "name": "stderr",
     "output_type": "stream",
     "text": [
      "\r",
      "Epoch:   5%|▌         | 5/100 [00:34<10:55,  6.90s/it]"
     ]
    },
    {
     "data": {
      "application/vnd.jupyter.widget-view+json": {
       "model_id": "fd709ee6fd554f90bc4856ca0b16e410",
       "version_major": 2,
       "version_minor": 0
      },
      "text/plain": [
       "HBox(children=(IntProgress(value=0, description='Training iteration', max=29, style=ProgressStyle(description_…"
      ]
     },
     "metadata": {},
     "output_type": "display_data"
    },
    {
     "name": "stdout",
     "output_type": "stream",
     "text": [
      "\n"
     ]
    },
    {
     "data": {
      "application/vnd.jupyter.widget-view+json": {
       "model_id": "2ff8678a08e44cbe9c7f2f5193061c48",
       "version_major": 2,
       "version_minor": 0
      },
      "text/plain": [
       "HBox(children=(IntProgress(value=0, description='Evaluation iteration', max=6, style=ProgressStyle(description…"
      ]
     },
     "metadata": {},
     "output_type": "display_data"
    },
    {
     "name": "stdout",
     "output_type": "stream",
     "text": [
      "\n",
      "Loss history: [0.5807238121827444, 0.4713802585999171, 0.3920477976401647, 0.3334565609693527, 0.28837329645951587]\n",
      "Dev loss: 0.26220135887463886\n"
     ]
    },
    {
     "name": "stderr",
     "output_type": "stream",
     "text": [
      "\r",
      "Epoch:   6%|▌         | 6/100 [00:41<10:48,  6.90s/it]"
     ]
    },
    {
     "data": {
      "application/vnd.jupyter.widget-view+json": {
       "model_id": "5015d73723b84cab8c5a4a2300ff86f8",
       "version_major": 2,
       "version_minor": 0
      },
      "text/plain": [
       "HBox(children=(IntProgress(value=0, description='Training iteration', max=29, style=ProgressStyle(description_…"
      ]
     },
     "metadata": {},
     "output_type": "display_data"
    },
    {
     "name": "stdout",
     "output_type": "stream",
     "text": [
      "\n"
     ]
    },
    {
     "data": {
      "application/vnd.jupyter.widget-view+json": {
       "model_id": "6d29702c0bb44e958f7c04c2997c04d8",
       "version_major": 2,
       "version_minor": 0
      },
      "text/plain": [
       "HBox(children=(IntProgress(value=0, description='Evaluation iteration', max=6, style=ProgressStyle(description…"
      ]
     },
     "metadata": {},
     "output_type": "display_data"
    },
    {
     "name": "stdout",
     "output_type": "stream",
     "text": [
      "\n",
      "Loss history: [0.5807238121827444, 0.4713802585999171, 0.3920477976401647, 0.3334565609693527, 0.28837329645951587, 0.26220135887463886]\n",
      "Dev loss: 0.24571756521860758\n"
     ]
    },
    {
     "name": "stderr",
     "output_type": "stream",
     "text": [
      "\r",
      "Epoch:   7%|▋         | 7/100 [00:48<10:42,  6.90s/it]"
     ]
    },
    {
     "data": {
      "application/vnd.jupyter.widget-view+json": {
       "model_id": "df51e53495b847c3b49ec8efbd0eaf41",
       "version_major": 2,
       "version_minor": 0
      },
      "text/plain": [
       "HBox(children=(IntProgress(value=0, description='Training iteration', max=29, style=ProgressStyle(description_…"
      ]
     },
     "metadata": {},
     "output_type": "display_data"
    },
    {
     "name": "stdout",
     "output_type": "stream",
     "text": [
      "\n"
     ]
    },
    {
     "data": {
      "application/vnd.jupyter.widget-view+json": {
       "model_id": "ef621a44aa48480b9f21079e79894abe",
       "version_major": 2,
       "version_minor": 0
      },
      "text/plain": [
       "HBox(children=(IntProgress(value=0, description='Evaluation iteration', max=6, style=ProgressStyle(description…"
      ]
     },
     "metadata": {},
     "output_type": "display_data"
    },
    {
     "name": "stdout",
     "output_type": "stream",
     "text": [
      "\n",
      "Loss history: [0.5807238121827444, 0.4713802585999171, 0.3920477976401647, 0.3334565609693527, 0.28837329645951587, 0.26220135887463886, 0.24571756521860758]\n",
      "Dev loss: 0.23376855005820593\n"
     ]
    },
    {
     "name": "stderr",
     "output_type": "stream",
     "text": [
      "\r",
      "Epoch:   8%|▊         | 8/100 [00:55<10:35,  6.91s/it]"
     ]
    },
    {
     "data": {
      "application/vnd.jupyter.widget-view+json": {
       "model_id": "a986382a5fde460898120046db2aa9e4",
       "version_major": 2,
       "version_minor": 0
      },
      "text/plain": [
       "HBox(children=(IntProgress(value=0, description='Training iteration', max=29, style=ProgressStyle(description_…"
      ]
     },
     "metadata": {},
     "output_type": "display_data"
    },
    {
     "name": "stdout",
     "output_type": "stream",
     "text": [
      "\n"
     ]
    },
    {
     "data": {
      "application/vnd.jupyter.widget-view+json": {
       "model_id": "cffe0766e5914f28ab82ca6b05d2ae5d",
       "version_major": 2,
       "version_minor": 0
      },
      "text/plain": [
       "HBox(children=(IntProgress(value=0, description='Evaluation iteration', max=6, style=ProgressStyle(description…"
      ]
     },
     "metadata": {},
     "output_type": "display_data"
    },
    {
     "name": "stdout",
     "output_type": "stream",
     "text": [
      "\n",
      "Loss history: [0.5807238121827444, 0.4713802585999171, 0.3920477976401647, 0.3334565609693527, 0.28837329645951587, 0.26220135887463886, 0.24571756521860758, 0.23376855005820593]\n",
      "Dev loss: 0.22130146125952402\n"
     ]
    },
    {
     "name": "stderr",
     "output_type": "stream",
     "text": [
      "\r",
      "Epoch:   9%|▉         | 9/100 [01:02<10:28,  6.91s/it]"
     ]
    },
    {
     "data": {
      "application/vnd.jupyter.widget-view+json": {
       "model_id": "bc2cb04186f3483cabd480073eae9a7f",
       "version_major": 2,
       "version_minor": 0
      },
      "text/plain": [
       "HBox(children=(IntProgress(value=0, description='Training iteration', max=29, style=ProgressStyle(description_…"
      ]
     },
     "metadata": {},
     "output_type": "display_data"
    },
    {
     "name": "stdout",
     "output_type": "stream",
     "text": [
      "\n"
     ]
    },
    {
     "data": {
      "application/vnd.jupyter.widget-view+json": {
       "model_id": "ba5ea35edbd14e82b389ae32074587a5",
       "version_major": 2,
       "version_minor": 0
      },
      "text/plain": [
       "HBox(children=(IntProgress(value=0, description='Evaluation iteration', max=6, style=ProgressStyle(description…"
      ]
     },
     "metadata": {},
     "output_type": "display_data"
    },
    {
     "name": "stdout",
     "output_type": "stream",
     "text": [
      "\n",
      "Loss history: [0.5807238121827444, 0.4713802585999171, 0.3920477976401647, 0.3334565609693527, 0.28837329645951587, 0.26220135887463886, 0.24571756521860758, 0.23376855005820593, 0.22130146125952402]\n",
      "Dev loss: 0.2088807945450147\n"
     ]
    },
    {
     "name": "stderr",
     "output_type": "stream",
     "text": [
      "\r",
      "Epoch:  10%|█         | 10/100 [01:09<10:22,  6.92s/it]"
     ]
    },
    {
     "data": {
      "application/vnd.jupyter.widget-view+json": {
       "model_id": "78fd9997fe7a4fbaba18ea5a6531e644",
       "version_major": 2,
       "version_minor": 0
      },
      "text/plain": [
       "HBox(children=(IntProgress(value=0, description='Training iteration', max=29, style=ProgressStyle(description_…"
      ]
     },
     "metadata": {},
     "output_type": "display_data"
    },
    {
     "name": "stdout",
     "output_type": "stream",
     "text": [
      "\n"
     ]
    },
    {
     "data": {
      "application/vnd.jupyter.widget-view+json": {
       "model_id": "71f34a0def9140d09275b7b6228dd1b9",
       "version_major": 2,
       "version_minor": 0
      },
      "text/plain": [
       "HBox(children=(IntProgress(value=0, description='Evaluation iteration', max=6, style=ProgressStyle(description…"
      ]
     },
     "metadata": {},
     "output_type": "display_data"
    },
    {
     "name": "stdout",
     "output_type": "stream",
     "text": [
      "\n",
      "Loss history: [0.5807238121827444, 0.4713802585999171, 0.3920477976401647, 0.3334565609693527, 0.28837329645951587, 0.26220135887463886, 0.24571756521860758, 0.23376855005820593, 0.22130146125952402, 0.2088807945450147]\n",
      "Dev loss: 0.1988967756430308\n"
     ]
    },
    {
     "name": "stderr",
     "output_type": "stream",
     "text": [
      "\r",
      "Epoch:  11%|█         | 11/100 [01:15<10:15,  6.92s/it]"
     ]
    },
    {
     "data": {
      "application/vnd.jupyter.widget-view+json": {
       "model_id": "a1b9e17be54244f8955c1d634e212afc",
       "version_major": 2,
       "version_minor": 0
      },
      "text/plain": [
       "HBox(children=(IntProgress(value=0, description='Training iteration', max=29, style=ProgressStyle(description_…"
      ]
     },
     "metadata": {},
     "output_type": "display_data"
    },
    {
     "name": "stdout",
     "output_type": "stream",
     "text": [
      "\n"
     ]
    },
    {
     "data": {
      "application/vnd.jupyter.widget-view+json": {
       "model_id": "806a83b878074d40837932e0bc20ed56",
       "version_major": 2,
       "version_minor": 0
      },
      "text/plain": [
       "HBox(children=(IntProgress(value=0, description='Evaluation iteration', max=6, style=ProgressStyle(description…"
      ]
     },
     "metadata": {},
     "output_type": "display_data"
    },
    {
     "name": "stdout",
     "output_type": "stream",
     "text": [
      "\n",
      "Loss history: [0.5807238121827444, 0.4713802585999171, 0.3920477976401647, 0.3334565609693527, 0.28837329645951587, 0.26220135887463886, 0.24571756521860758, 0.23376855005820593, 0.22130146125952402, 0.2088807945450147, 0.1988967756430308]\n",
      "Dev loss: 0.18800713370243707\n"
     ]
    },
    {
     "name": "stderr",
     "output_type": "stream",
     "text": [
      "\r",
      "Epoch:  12%|█▏        | 12/100 [01:22<10:09,  6.92s/it]"
     ]
    },
    {
     "data": {
      "application/vnd.jupyter.widget-view+json": {
       "model_id": "065b34bee7ad4643b09b5b9004bbe56a",
       "version_major": 2,
       "version_minor": 0
      },
      "text/plain": [
       "HBox(children=(IntProgress(value=0, description='Training iteration', max=29, style=ProgressStyle(description_…"
      ]
     },
     "metadata": {},
     "output_type": "display_data"
    },
    {
     "name": "stdout",
     "output_type": "stream",
     "text": [
      "\n"
     ]
    },
    {
     "data": {
      "application/vnd.jupyter.widget-view+json": {
       "model_id": "446af562db5c4441983790313475307b",
       "version_major": 2,
       "version_minor": 0
      },
      "text/plain": [
       "HBox(children=(IntProgress(value=0, description='Evaluation iteration', max=6, style=ProgressStyle(description…"
      ]
     },
     "metadata": {},
     "output_type": "display_data"
    },
    {
     "name": "stdout",
     "output_type": "stream",
     "text": [
      "\n",
      "Loss history: [0.5807238121827444, 0.4713802585999171, 0.3920477976401647, 0.3334565609693527, 0.28837329645951587, 0.26220135887463886, 0.24571756521860758, 0.23376855005820593, 0.22130146125952402, 0.2088807945450147, 0.1988967756430308, 0.18800713370243707]\n",
      "Dev loss: 0.176468292872111\n"
     ]
    },
    {
     "name": "stderr",
     "output_type": "stream",
     "text": [
      "\r",
      "Epoch:  13%|█▎        | 13/100 [01:29<10:02,  6.93s/it]"
     ]
    },
    {
     "data": {
      "application/vnd.jupyter.widget-view+json": {
       "model_id": "00c04983d96147ffb446e8997f66d9e1",
       "version_major": 2,
       "version_minor": 0
      },
      "text/plain": [
       "HBox(children=(IntProgress(value=0, description='Training iteration', max=29, style=ProgressStyle(description_…"
      ]
     },
     "metadata": {},
     "output_type": "display_data"
    },
    {
     "name": "stdout",
     "output_type": "stream",
     "text": [
      "\n"
     ]
    },
    {
     "data": {
      "application/vnd.jupyter.widget-view+json": {
       "model_id": "42b4dfb3b54d430492697fd4930a9559",
       "version_major": 2,
       "version_minor": 0
      },
      "text/plain": [
       "HBox(children=(IntProgress(value=0, description='Evaluation iteration', max=6, style=ProgressStyle(description…"
      ]
     },
     "metadata": {},
     "output_type": "display_data"
    },
    {
     "name": "stdout",
     "output_type": "stream",
     "text": [
      "\n",
      "Loss history: [0.5807238121827444, 0.4713802585999171, 0.3920477976401647, 0.3334565609693527, 0.28837329645951587, 0.26220135887463886, 0.24571756521860758, 0.23376855005820593, 0.22130146125952402, 0.2088807945450147, 0.1988967756430308, 0.18800713370243707, 0.176468292872111]\n",
      "Dev loss: 0.16879013429085413\n"
     ]
    },
    {
     "name": "stderr",
     "output_type": "stream",
     "text": [
      "\r",
      "Epoch:  14%|█▍        | 14/100 [01:36<09:55,  6.93s/it]"
     ]
    },
    {
     "data": {
      "application/vnd.jupyter.widget-view+json": {
       "model_id": "09530060b91d49a88e296acfab001851",
       "version_major": 2,
       "version_minor": 0
      },
      "text/plain": [
       "HBox(children=(IntProgress(value=0, description='Training iteration', max=29, style=ProgressStyle(description_…"
      ]
     },
     "metadata": {},
     "output_type": "display_data"
    },
    {
     "name": "stdout",
     "output_type": "stream",
     "text": [
      "\n"
     ]
    },
    {
     "data": {
      "application/vnd.jupyter.widget-view+json": {
       "model_id": "08f7570e57bf40ed9637edc02d622ba6",
       "version_major": 2,
       "version_minor": 0
      },
      "text/plain": [
       "HBox(children=(IntProgress(value=0, description='Evaluation iteration', max=6, style=ProgressStyle(description…"
      ]
     },
     "metadata": {},
     "output_type": "display_data"
    },
    {
     "name": "stdout",
     "output_type": "stream",
     "text": [
      "\n",
      "Loss history: [0.5807238121827444, 0.4713802585999171, 0.3920477976401647, 0.3334565609693527, 0.28837329645951587, 0.26220135887463886, 0.24571756521860758, 0.23376855005820593, 0.22130146125952402, 0.2088807945450147, 0.1988967756430308, 0.18800713370243707, 0.176468292872111, 0.16879013429085413]\n",
      "Dev loss: 0.15945591777563095\n"
     ]
    },
    {
     "name": "stderr",
     "output_type": "stream",
     "text": [
      "\r",
      "Epoch:  15%|█▌        | 15/100 [01:43<09:51,  6.96s/it]"
     ]
    },
    {
     "data": {
      "application/vnd.jupyter.widget-view+json": {
       "model_id": "4ad49f601ea64f0199ecd6db2a52afc8",
       "version_major": 2,
       "version_minor": 0
      },
      "text/plain": [
       "HBox(children=(IntProgress(value=0, description='Training iteration', max=29, style=ProgressStyle(description_…"
      ]
     },
     "metadata": {},
     "output_type": "display_data"
    },
    {
     "name": "stdout",
     "output_type": "stream",
     "text": [
      "\n"
     ]
    },
    {
     "data": {
      "application/vnd.jupyter.widget-view+json": {
       "model_id": "b2e2b461cfe2457fbc2c0074c234671f",
       "version_major": 2,
       "version_minor": 0
      },
      "text/plain": [
       "HBox(children=(IntProgress(value=0, description='Evaluation iteration', max=6, style=ProgressStyle(description…"
      ]
     },
     "metadata": {},
     "output_type": "display_data"
    },
    {
     "name": "stdout",
     "output_type": "stream",
     "text": [
      "\n",
      "Loss history: [0.5807238121827444, 0.4713802585999171, 0.3920477976401647, 0.3334565609693527, 0.28837329645951587, 0.26220135887463886, 0.24571756521860758, 0.23376855005820593, 0.22130146125952402, 0.2088807945450147, 0.1988967756430308, 0.18800713370243707, 0.176468292872111, 0.16879013429085413, 0.15945591777563095]\n",
      "Dev loss: 0.15360741565624872\n"
     ]
    },
    {
     "name": "stderr",
     "output_type": "stream",
     "text": [
      "\r",
      "Epoch:  16%|█▌        | 16/100 [01:50<09:44,  6.95s/it]"
     ]
    },
    {
     "data": {
      "application/vnd.jupyter.widget-view+json": {
       "model_id": "4eda65768ef24bb2af6f3bfe63e3e2dd",
       "version_major": 2,
       "version_minor": 0
      },
      "text/plain": [
       "HBox(children=(IntProgress(value=0, description='Training iteration', max=29, style=ProgressStyle(description_…"
      ]
     },
     "metadata": {},
     "output_type": "display_data"
    },
    {
     "name": "stdout",
     "output_type": "stream",
     "text": [
      "\n"
     ]
    },
    {
     "data": {
      "application/vnd.jupyter.widget-view+json": {
       "model_id": "72d9324242244cbe8fb41aa736ff0602",
       "version_major": 2,
       "version_minor": 0
      },
      "text/plain": [
       "HBox(children=(IntProgress(value=0, description='Evaluation iteration', max=6, style=ProgressStyle(description…"
      ]
     },
     "metadata": {},
     "output_type": "display_data"
    },
    {
     "name": "stdout",
     "output_type": "stream",
     "text": [
      "\n",
      "Loss history: [0.5807238121827444, 0.4713802585999171, 0.3920477976401647, 0.3334565609693527, 0.28837329645951587, 0.26220135887463886, 0.24571756521860758, 0.23376855005820593, 0.22130146125952402, 0.2088807945450147, 0.1988967756430308, 0.18800713370243707, 0.176468292872111, 0.16879013429085413, 0.15945591777563095, 0.15360741565624872]\n",
      "Dev loss: 0.14622070640325546\n"
     ]
    },
    {
     "name": "stderr",
     "output_type": "stream",
     "text": [
      "\r",
      "Epoch:  17%|█▋        | 17/100 [01:57<09:36,  6.95s/it]"
     ]
    },
    {
     "data": {
      "application/vnd.jupyter.widget-view+json": {
       "model_id": "2077c8ab14ba41cc9a9f8c1a1468acad",
       "version_major": 2,
       "version_minor": 0
      },
      "text/plain": [
       "HBox(children=(IntProgress(value=0, description='Training iteration', max=29, style=ProgressStyle(description_…"
      ]
     },
     "metadata": {},
     "output_type": "display_data"
    },
    {
     "name": "stdout",
     "output_type": "stream",
     "text": [
      "\n"
     ]
    },
    {
     "data": {
      "application/vnd.jupyter.widget-view+json": {
       "model_id": "bac75ae9ddd94ba28a0e3f4dfa76b62c",
       "version_major": 2,
       "version_minor": 0
      },
      "text/plain": [
       "HBox(children=(IntProgress(value=0, description='Evaluation iteration', max=6, style=ProgressStyle(description…"
      ]
     },
     "metadata": {},
     "output_type": "display_data"
    },
    {
     "name": "stdout",
     "output_type": "stream",
     "text": [
      "\n",
      "Loss history: [0.5807238121827444, 0.4713802585999171, 0.3920477976401647, 0.3334565609693527, 0.28837329645951587, 0.26220135887463886, 0.24571756521860758, 0.23376855005820593, 0.22130146125952402, 0.2088807945450147, 0.1988967756430308, 0.18800713370243707, 0.176468292872111, 0.16879013429085413, 0.15945591777563095, 0.15360741565624872, 0.14622070640325546]\n",
      "Dev loss: 0.14106962333122888\n"
     ]
    },
    {
     "name": "stderr",
     "output_type": "stream",
     "text": [
      "\r",
      "Epoch:  18%|█▊        | 18/100 [02:04<09:29,  6.95s/it]"
     ]
    },
    {
     "data": {
      "application/vnd.jupyter.widget-view+json": {
       "model_id": "6440749441914c53b10db4db36f7e7fa",
       "version_major": 2,
       "version_minor": 0
      },
      "text/plain": [
       "HBox(children=(IntProgress(value=0, description='Training iteration', max=29, style=ProgressStyle(description_…"
      ]
     },
     "metadata": {},
     "output_type": "display_data"
    },
    {
     "name": "stdout",
     "output_type": "stream",
     "text": [
      "\n"
     ]
    },
    {
     "data": {
      "application/vnd.jupyter.widget-view+json": {
       "model_id": "54ce40d045b44a4988b8c3763d64c7e3",
       "version_major": 2,
       "version_minor": 0
      },
      "text/plain": [
       "HBox(children=(IntProgress(value=0, description='Evaluation iteration', max=6, style=ProgressStyle(description…"
      ]
     },
     "metadata": {},
     "output_type": "display_data"
    },
    {
     "name": "stdout",
     "output_type": "stream",
     "text": [
      "\n",
      "Loss history: [0.5807238121827444, 0.4713802585999171, 0.3920477976401647, 0.3334565609693527, 0.28837329645951587, 0.26220135887463886, 0.24571756521860758, 0.23376855005820593, 0.22130146125952402, 0.2088807945450147, 0.1988967756430308, 0.18800713370243707, 0.176468292872111, 0.16879013429085413, 0.15945591777563095, 0.15360741565624872, 0.14622070640325546, 0.14106962333122888]\n",
      "Dev loss: 0.13842809945344925\n"
     ]
    },
    {
     "name": "stderr",
     "output_type": "stream",
     "text": [
      "\r",
      "Epoch:  19%|█▉        | 19/100 [02:11<09:22,  6.94s/it]"
     ]
    },
    {
     "data": {
      "application/vnd.jupyter.widget-view+json": {
       "model_id": "af765200a4e049e4afacc79c12fbb80e",
       "version_major": 2,
       "version_minor": 0
      },
      "text/plain": [
       "HBox(children=(IntProgress(value=0, description='Training iteration', max=29, style=ProgressStyle(description_…"
      ]
     },
     "metadata": {},
     "output_type": "display_data"
    },
    {
     "name": "stdout",
     "output_type": "stream",
     "text": [
      "\n"
     ]
    },
    {
     "data": {
      "application/vnd.jupyter.widget-view+json": {
       "model_id": "a15dbe5124e448ecb3fba30dc855f8a0",
       "version_major": 2,
       "version_minor": 0
      },
      "text/plain": [
       "HBox(children=(IntProgress(value=0, description='Evaluation iteration', max=6, style=ProgressStyle(description…"
      ]
     },
     "metadata": {},
     "output_type": "display_data"
    },
    {
     "name": "stdout",
     "output_type": "stream",
     "text": [
      "\n",
      "Loss history: [0.5807238121827444, 0.4713802585999171, 0.3920477976401647, 0.3334565609693527, 0.28837329645951587, 0.26220135887463886, 0.24571756521860758, 0.23376855005820593, 0.22130146125952402, 0.2088807945450147, 0.1988967756430308, 0.18800713370243707, 0.176468292872111, 0.16879013429085413, 0.15945591777563095, 0.15360741565624872, 0.14622070640325546, 0.14106962333122888, 0.13842809945344925]\n",
      "Dev loss: 0.13366339231530824\n"
     ]
    },
    {
     "name": "stderr",
     "output_type": "stream",
     "text": [
      "\r",
      "Epoch:  20%|██        | 20/100 [02:18<09:15,  6.94s/it]"
     ]
    },
    {
     "data": {
      "application/vnd.jupyter.widget-view+json": {
       "model_id": "8837fbf29f5e43148494597a755f26cc",
       "version_major": 2,
       "version_minor": 0
      },
      "text/plain": [
       "HBox(children=(IntProgress(value=0, description='Training iteration', max=29, style=ProgressStyle(description_…"
      ]
     },
     "metadata": {},
     "output_type": "display_data"
    },
    {
     "name": "stdout",
     "output_type": "stream",
     "text": [
      "\n"
     ]
    },
    {
     "data": {
      "application/vnd.jupyter.widget-view+json": {
       "model_id": "20ede6ba9d614a3483e1235cc91b9395",
       "version_major": 2,
       "version_minor": 0
      },
      "text/plain": [
       "HBox(children=(IntProgress(value=0, description='Evaluation iteration', max=6, style=ProgressStyle(description…"
      ]
     },
     "metadata": {},
     "output_type": "display_data"
    },
    {
     "name": "stdout",
     "output_type": "stream",
     "text": [
      "\n",
      "Loss history: [0.5807238121827444, 0.4713802585999171, 0.3920477976401647, 0.3334565609693527, 0.28837329645951587, 0.26220135887463886, 0.24571756521860758, 0.23376855005820593, 0.22130146125952402, 0.2088807945450147, 0.1988967756430308, 0.18800713370243707, 0.176468292872111, 0.16879013429085413, 0.15945591777563095, 0.15360741565624872, 0.14622070640325546, 0.14106962333122888, 0.13842809945344925, 0.13366339231530824]\n",
      "Dev loss: 0.13091055179635683\n"
     ]
    },
    {
     "name": "stderr",
     "output_type": "stream",
     "text": [
      "\r",
      "Epoch:  21%|██        | 21/100 [02:25<09:08,  6.94s/it]"
     ]
    },
    {
     "data": {
      "application/vnd.jupyter.widget-view+json": {
       "model_id": "90cf49af9b6843af8be483a9b73187cf",
       "version_major": 2,
       "version_minor": 0
      },
      "text/plain": [
       "HBox(children=(IntProgress(value=0, description='Training iteration', max=29, style=ProgressStyle(description_…"
      ]
     },
     "metadata": {},
     "output_type": "display_data"
    },
    {
     "name": "stdout",
     "output_type": "stream",
     "text": [
      "\n"
     ]
    },
    {
     "data": {
      "application/vnd.jupyter.widget-view+json": {
       "model_id": "9f4f30263bdc404791dbcbfcf6410aac",
       "version_major": 2,
       "version_minor": 0
      },
      "text/plain": [
       "HBox(children=(IntProgress(value=0, description='Evaluation iteration', max=6, style=ProgressStyle(description…"
      ]
     },
     "metadata": {},
     "output_type": "display_data"
    },
    {
     "name": "stdout",
     "output_type": "stream",
     "text": [
      "\n",
      "Loss history: [0.5807238121827444, 0.4713802585999171, 0.3920477976401647, 0.3334565609693527, 0.28837329645951587, 0.26220135887463886, 0.24571756521860758, 0.23376855005820593, 0.22130146125952402, 0.2088807945450147, 0.1988967756430308, 0.18800713370243707, 0.176468292872111, 0.16879013429085413, 0.15945591777563095, 0.15360741565624872, 0.14622070640325546, 0.14106962333122888, 0.13842809945344925, 0.13366339231530824, 0.13091055179635683]\n",
      "Dev loss: 0.12942353015144667\n"
     ]
    },
    {
     "name": "stderr",
     "output_type": "stream",
     "text": [
      "\r",
      "Epoch:  22%|██▏       | 22/100 [02:32<09:01,  6.94s/it]"
     ]
    },
    {
     "data": {
      "application/vnd.jupyter.widget-view+json": {
       "model_id": "d5b269d1b48b439488c6de9aecfac9b6",
       "version_major": 2,
       "version_minor": 0
      },
      "text/plain": [
       "HBox(children=(IntProgress(value=0, description='Training iteration', max=29, style=ProgressStyle(description_…"
      ]
     },
     "metadata": {},
     "output_type": "display_data"
    },
    {
     "name": "stdout",
     "output_type": "stream",
     "text": [
      "\n"
     ]
    },
    {
     "data": {
      "application/vnd.jupyter.widget-view+json": {
       "model_id": "4024f087d6a04d54becbe54cab89a3f9",
       "version_major": 2,
       "version_minor": 0
      },
      "text/plain": [
       "HBox(children=(IntProgress(value=0, description='Evaluation iteration', max=6, style=ProgressStyle(description…"
      ]
     },
     "metadata": {},
     "output_type": "display_data"
    },
    {
     "name": "stdout",
     "output_type": "stream",
     "text": [
      "\n",
      "Loss history: [0.5807238121827444, 0.4713802585999171, 0.3920477976401647, 0.3334565609693527, 0.28837329645951587, 0.26220135887463886, 0.24571756521860758, 0.23376855005820593, 0.22130146125952402, 0.2088807945450147, 0.1988967756430308, 0.18800713370243707, 0.176468292872111, 0.16879013429085413, 0.15945591777563095, 0.15360741565624872, 0.14622070640325546, 0.14106962333122888, 0.13842809945344925, 0.13366339231530824, 0.13091055179635683, 0.12942353015144667]\n",
      "Dev loss: 0.12504354616006216\n"
     ]
    },
    {
     "name": "stderr",
     "output_type": "stream",
     "text": [
      "\r",
      "Epoch:  23%|██▎       | 23/100 [02:39<08:54,  6.94s/it]"
     ]
    },
    {
     "data": {
      "application/vnd.jupyter.widget-view+json": {
       "model_id": "b5b7358ea8664935905e57ba8459b94e",
       "version_major": 2,
       "version_minor": 0
      },
      "text/plain": [
       "HBox(children=(IntProgress(value=0, description='Training iteration', max=29, style=ProgressStyle(description_…"
      ]
     },
     "metadata": {},
     "output_type": "display_data"
    },
    {
     "name": "stdout",
     "output_type": "stream",
     "text": [
      "\n"
     ]
    },
    {
     "data": {
      "application/vnd.jupyter.widget-view+json": {
       "model_id": "152b4343d4e4458bb6010072cf9c9ed7",
       "version_major": 2,
       "version_minor": 0
      },
      "text/plain": [
       "HBox(children=(IntProgress(value=0, description='Evaluation iteration', max=6, style=ProgressStyle(description…"
      ]
     },
     "metadata": {},
     "output_type": "display_data"
    },
    {
     "name": "stdout",
     "output_type": "stream",
     "text": [
      "\n",
      "Loss history: [0.5807238121827444, 0.4713802585999171, 0.3920477976401647, 0.3334565609693527, 0.28837329645951587, 0.26220135887463886, 0.24571756521860758, 0.23376855005820593, 0.22130146125952402, 0.2088807945450147, 0.1988967756430308, 0.18800713370243707, 0.176468292872111, 0.16879013429085413, 0.15945591777563095, 0.15360741565624872, 0.14622070640325546, 0.14106962333122888, 0.13842809945344925, 0.13366339231530824, 0.13091055179635683, 0.12942353015144667, 0.12504354616006216]\n",
      "Dev loss: 0.12317216272155444\n"
     ]
    },
    {
     "name": "stderr",
     "output_type": "stream",
     "text": [
      "\r",
      "Epoch:  24%|██▍       | 24/100 [02:46<08:47,  6.94s/it]"
     ]
    },
    {
     "data": {
      "application/vnd.jupyter.widget-view+json": {
       "model_id": "fdffaa3cc13b4ec288cd19d788470cd3",
       "version_major": 2,
       "version_minor": 0
      },
      "text/plain": [
       "HBox(children=(IntProgress(value=0, description='Training iteration', max=29, style=ProgressStyle(description_…"
      ]
     },
     "metadata": {},
     "output_type": "display_data"
    },
    {
     "name": "stdout",
     "output_type": "stream",
     "text": [
      "\n"
     ]
    },
    {
     "data": {
      "application/vnd.jupyter.widget-view+json": {
       "model_id": "6b9d39cd122f466e8b9d9e22e8cacf59",
       "version_major": 2,
       "version_minor": 0
      },
      "text/plain": [
       "HBox(children=(IntProgress(value=0, description='Evaluation iteration', max=6, style=ProgressStyle(description…"
      ]
     },
     "metadata": {},
     "output_type": "display_data"
    },
    {
     "name": "stdout",
     "output_type": "stream",
     "text": [
      "\n",
      "Loss history: [0.5807238121827444, 0.4713802585999171, 0.3920477976401647, 0.3334565609693527, 0.28837329645951587, 0.26220135887463886, 0.24571756521860758, 0.23376855005820593, 0.22130146125952402, 0.2088807945450147, 0.1988967756430308, 0.18800713370243707, 0.176468292872111, 0.16879013429085413, 0.15945591777563095, 0.15360741565624872, 0.14622070640325546, 0.14106962333122888, 0.13842809945344925, 0.13366339231530824, 0.13091055179635683, 0.12942353015144667, 0.12504354616006216, 0.12317216272155444]\n",
      "Dev loss: 0.12026351317763329\n"
     ]
    },
    {
     "name": "stderr",
     "output_type": "stream",
     "text": [
      "\r",
      "Epoch:  25%|██▌       | 25/100 [02:53<08:40,  6.94s/it]"
     ]
    },
    {
     "data": {
      "application/vnd.jupyter.widget-view+json": {
       "model_id": "088c60f43d664473bd72ce8abc39d5d5",
       "version_major": 2,
       "version_minor": 0
      },
      "text/plain": [
       "HBox(children=(IntProgress(value=0, description='Training iteration', max=29, style=ProgressStyle(description_…"
      ]
     },
     "metadata": {},
     "output_type": "display_data"
    },
    {
     "name": "stdout",
     "output_type": "stream",
     "text": [
      "\n"
     ]
    },
    {
     "data": {
      "application/vnd.jupyter.widget-view+json": {
       "model_id": "48b151ed0b24441fad6e7b3097f93267",
       "version_major": 2,
       "version_minor": 0
      },
      "text/plain": [
       "HBox(children=(IntProgress(value=0, description='Evaluation iteration', max=6, style=ProgressStyle(description…"
      ]
     },
     "metadata": {},
     "output_type": "display_data"
    },
    {
     "name": "stdout",
     "output_type": "stream",
     "text": [
      "\n",
      "Loss history: [0.5807238121827444, 0.4713802585999171, 0.3920477976401647, 0.3334565609693527, 0.28837329645951587, 0.26220135887463886, 0.24571756521860758, 0.23376855005820593, 0.22130146125952402, 0.2088807945450147, 0.1988967756430308, 0.18800713370243707, 0.176468292872111, 0.16879013429085413, 0.15945591777563095, 0.15360741565624872, 0.14622070640325546, 0.14106962333122888, 0.13842809945344925, 0.13366339231530824, 0.13091055179635683, 0.12942353015144667, 0.12504354616006216, 0.12317216272155444, 0.12026351317763329]\n",
      "Dev loss: 0.11964867388208707\n"
     ]
    },
    {
     "name": "stderr",
     "output_type": "stream",
     "text": [
      "\r",
      "Epoch:  26%|██▌       | 26/100 [03:00<08:33,  6.94s/it]"
     ]
    },
    {
     "data": {
      "application/vnd.jupyter.widget-view+json": {
       "model_id": "f0770bfc51c048a2b78ef672615cc66e",
       "version_major": 2,
       "version_minor": 0
      },
      "text/plain": [
       "HBox(children=(IntProgress(value=0, description='Training iteration', max=29, style=ProgressStyle(description_…"
      ]
     },
     "metadata": {},
     "output_type": "display_data"
    },
    {
     "name": "stdout",
     "output_type": "stream",
     "text": [
      "\n"
     ]
    },
    {
     "data": {
      "application/vnd.jupyter.widget-view+json": {
       "model_id": "84edbe78e8504168945e8873b6532c0f",
       "version_major": 2,
       "version_minor": 0
      },
      "text/plain": [
       "HBox(children=(IntProgress(value=0, description='Evaluation iteration', max=6, style=ProgressStyle(description…"
      ]
     },
     "metadata": {},
     "output_type": "display_data"
    },
    {
     "name": "stdout",
     "output_type": "stream",
     "text": [
      "\n",
      "Loss history: [0.5807238121827444, 0.4713802585999171, 0.3920477976401647, 0.3334565609693527, 0.28837329645951587, 0.26220135887463886, 0.24571756521860758, 0.23376855005820593, 0.22130146125952402, 0.2088807945450147, 0.1988967756430308, 0.18800713370243707, 0.176468292872111, 0.16879013429085413, 0.15945591777563095, 0.15360741565624872, 0.14622070640325546, 0.14106962333122888, 0.13842809945344925, 0.13366339231530824, 0.13091055179635683, 0.12942353015144667, 0.12504354616006216, 0.12317216272155444, 0.12026351317763329, 0.11964867388208707]\n",
      "Dev loss: 0.11491534238060315\n"
     ]
    },
    {
     "name": "stderr",
     "output_type": "stream",
     "text": [
      "\r",
      "Epoch:  27%|██▋       | 27/100 [03:07<08:26,  6.94s/it]"
     ]
    },
    {
     "data": {
      "application/vnd.jupyter.widget-view+json": {
       "model_id": "b0b6f00f337848948733c449c56a91d5",
       "version_major": 2,
       "version_minor": 0
      },
      "text/plain": [
       "HBox(children=(IntProgress(value=0, description='Training iteration', max=29, style=ProgressStyle(description_…"
      ]
     },
     "metadata": {},
     "output_type": "display_data"
    },
    {
     "name": "stdout",
     "output_type": "stream",
     "text": [
      "\n"
     ]
    },
    {
     "data": {
      "application/vnd.jupyter.widget-view+json": {
       "model_id": "60914df3108a4d088e0bc7fbf11547d2",
       "version_major": 2,
       "version_minor": 0
      },
      "text/plain": [
       "HBox(children=(IntProgress(value=0, description='Evaluation iteration', max=6, style=ProgressStyle(description…"
      ]
     },
     "metadata": {},
     "output_type": "display_data"
    },
    {
     "name": "stdout",
     "output_type": "stream",
     "text": [
      "\n",
      "Loss history: [0.5807238121827444, 0.4713802585999171, 0.3920477976401647, 0.3334565609693527, 0.28837329645951587, 0.26220135887463886, 0.24571756521860758, 0.23376855005820593, 0.22130146125952402, 0.2088807945450147, 0.1988967756430308, 0.18800713370243707, 0.176468292872111, 0.16879013429085413, 0.15945591777563095, 0.15360741565624872, 0.14622070640325546, 0.14106962333122888, 0.13842809945344925, 0.13366339231530824, 0.13091055179635683, 0.12942353015144667, 0.12504354616006216, 0.12317216272155444, 0.12026351317763329, 0.11964867388208707, 0.11491534238060315]\n",
      "Dev loss: 0.113737386961778\n"
     ]
    },
    {
     "name": "stderr",
     "output_type": "stream",
     "text": [
      "\r",
      "Epoch:  28%|██▊       | 28/100 [03:14<08:19,  6.94s/it]"
     ]
    },
    {
     "data": {
      "application/vnd.jupyter.widget-view+json": {
       "model_id": "9625db2dc2d74c70aafce48bfe60894c",
       "version_major": 2,
       "version_minor": 0
      },
      "text/plain": [
       "HBox(children=(IntProgress(value=0, description='Training iteration', max=29, style=ProgressStyle(description_…"
      ]
     },
     "metadata": {},
     "output_type": "display_data"
    },
    {
     "name": "stdout",
     "output_type": "stream",
     "text": [
      "\n"
     ]
    },
    {
     "data": {
      "application/vnd.jupyter.widget-view+json": {
       "model_id": "b205ec9ddd1c4f9b8d989e99faa74156",
       "version_major": 2,
       "version_minor": 0
      },
      "text/plain": [
       "HBox(children=(IntProgress(value=0, description='Evaluation iteration', max=6, style=ProgressStyle(description…"
      ]
     },
     "metadata": {},
     "output_type": "display_data"
    },
    {
     "name": "stdout",
     "output_type": "stream",
     "text": [
      "\n",
      "Loss history: [0.5807238121827444, 0.4713802585999171, 0.3920477976401647, 0.3334565609693527, 0.28837329645951587, 0.26220135887463886, 0.24571756521860758, 0.23376855005820593, 0.22130146125952402, 0.2088807945450147, 0.1988967756430308, 0.18800713370243707, 0.176468292872111, 0.16879013429085413, 0.15945591777563095, 0.15360741565624872, 0.14622070640325546, 0.14106962333122888, 0.13842809945344925, 0.13366339231530824, 0.13091055179635683, 0.12942353015144667, 0.12504354616006216, 0.12317216272155444, 0.12026351317763329, 0.11964867388208707, 0.11491534238060315, 0.113737386961778]\n",
      "Dev loss: 0.11367260416348775\n"
     ]
    },
    {
     "name": "stderr",
     "output_type": "stream",
     "text": [
      "\r",
      "Epoch:  29%|██▉       | 29/100 [03:20<08:12,  6.94s/it]"
     ]
    },
    {
     "data": {
      "application/vnd.jupyter.widget-view+json": {
       "model_id": "74343bfa73ee4705b6ec42f655657ed9",
       "version_major": 2,
       "version_minor": 0
      },
      "text/plain": [
       "HBox(children=(IntProgress(value=0, description='Training iteration', max=29, style=ProgressStyle(description_…"
      ]
     },
     "metadata": {},
     "output_type": "display_data"
    },
    {
     "name": "stdout",
     "output_type": "stream",
     "text": [
      "\n"
     ]
    },
    {
     "data": {
      "application/vnd.jupyter.widget-view+json": {
       "model_id": "6b6ba7e61cae4255a330609d91da24fb",
       "version_major": 2,
       "version_minor": 0
      },
      "text/plain": [
       "HBox(children=(IntProgress(value=0, description='Evaluation iteration', max=6, style=ProgressStyle(description…"
      ]
     },
     "metadata": {},
     "output_type": "display_data"
    },
    {
     "name": "stdout",
     "output_type": "stream",
     "text": [
      "\n",
      "Loss history: [0.5807238121827444, 0.4713802585999171, 0.3920477976401647, 0.3334565609693527, 0.28837329645951587, 0.26220135887463886, 0.24571756521860758, 0.23376855005820593, 0.22130146125952402, 0.2088807945450147, 0.1988967756430308, 0.18800713370243707, 0.176468292872111, 0.16879013429085413, 0.15945591777563095, 0.15360741565624872, 0.14622070640325546, 0.14106962333122888, 0.13842809945344925, 0.13366339231530824, 0.13091055179635683, 0.12942353015144667, 0.12504354616006216, 0.12317216272155444, 0.12026351317763329, 0.11964867388208707, 0.11491534238060315, 0.113737386961778, 0.11367260416348775]\n",
      "Dev loss: 0.11274700860182445\n"
     ]
    },
    {
     "name": "stderr",
     "output_type": "stream",
     "text": [
      "\r",
      "Epoch:  30%|███       | 30/100 [03:27<08:05,  6.94s/it]"
     ]
    },
    {
     "data": {
      "application/vnd.jupyter.widget-view+json": {
       "model_id": "761fed4555f1429b9ff3923ec1638325",
       "version_major": 2,
       "version_minor": 0
      },
      "text/plain": [
       "HBox(children=(IntProgress(value=0, description='Training iteration', max=29, style=ProgressStyle(description_…"
      ]
     },
     "metadata": {},
     "output_type": "display_data"
    },
    {
     "name": "stdout",
     "output_type": "stream",
     "text": [
      "\n"
     ]
    },
    {
     "data": {
      "application/vnd.jupyter.widget-view+json": {
       "model_id": "f712ddd257a74f2ea8cfa507d9f17457",
       "version_major": 2,
       "version_minor": 0
      },
      "text/plain": [
       "HBox(children=(IntProgress(value=0, description='Evaluation iteration', max=6, style=ProgressStyle(description…"
      ]
     },
     "metadata": {},
     "output_type": "display_data"
    },
    {
     "name": "stdout",
     "output_type": "stream",
     "text": [
      "\n",
      "Loss history: [0.5807238121827444, 0.4713802585999171, 0.3920477976401647, 0.3334565609693527, 0.28837329645951587, 0.26220135887463886, 0.24571756521860758, 0.23376855005820593, 0.22130146125952402, 0.2088807945450147, 0.1988967756430308, 0.18800713370243707, 0.176468292872111, 0.16879013429085413, 0.15945591777563095, 0.15360741565624872, 0.14622070640325546, 0.14106962333122888, 0.13842809945344925, 0.13366339231530824, 0.13091055179635683, 0.12942353015144667, 0.12504354616006216, 0.12317216272155444, 0.12026351317763329, 0.11964867388208707, 0.11491534238060315, 0.113737386961778, 0.11367260416348775, 0.11274700860182445]\n",
      "Dev loss: 0.11127892384926479\n"
     ]
    },
    {
     "name": "stderr",
     "output_type": "stream",
     "text": [
      "\r",
      "Epoch:  31%|███       | 31/100 [03:34<07:59,  6.94s/it]"
     ]
    },
    {
     "data": {
      "application/vnd.jupyter.widget-view+json": {
       "model_id": "8f774f1457e740d885a06b7d58ded751",
       "version_major": 2,
       "version_minor": 0
      },
      "text/plain": [
       "HBox(children=(IntProgress(value=0, description='Training iteration', max=29, style=ProgressStyle(description_…"
      ]
     },
     "metadata": {},
     "output_type": "display_data"
    },
    {
     "name": "stdout",
     "output_type": "stream",
     "text": [
      "\n"
     ]
    },
    {
     "data": {
      "application/vnd.jupyter.widget-view+json": {
       "model_id": "8fdf3d264bf348cbb173ea5611ddb2d8",
       "version_major": 2,
       "version_minor": 0
      },
      "text/plain": [
       "HBox(children=(IntProgress(value=0, description='Evaluation iteration', max=6, style=ProgressStyle(description…"
      ]
     },
     "metadata": {},
     "output_type": "display_data"
    },
    {
     "name": "stdout",
     "output_type": "stream",
     "text": [
      "\n",
      "Loss history: [0.5807238121827444, 0.4713802585999171, 0.3920477976401647, 0.3334565609693527, 0.28837329645951587, 0.26220135887463886, 0.24571756521860758, 0.23376855005820593, 0.22130146125952402, 0.2088807945450147, 0.1988967756430308, 0.18800713370243707, 0.176468292872111, 0.16879013429085413, 0.15945591777563095, 0.15360741565624872, 0.14622070640325546, 0.14106962333122888, 0.13842809945344925, 0.13366339231530824, 0.13091055179635683, 0.12942353015144667, 0.12504354616006216, 0.12317216272155444, 0.12026351317763329, 0.11964867388208707, 0.11491534238060315, 0.113737386961778, 0.11367260416348775, 0.11274700860182445, 0.11127892384926479]\n",
      "Dev loss: 0.10855888575315475\n"
     ]
    },
    {
     "name": "stderr",
     "output_type": "stream",
     "text": [
      "\r",
      "Epoch:  32%|███▏      | 32/100 [03:41<07:52,  6.94s/it]"
     ]
    },
    {
     "data": {
      "application/vnd.jupyter.widget-view+json": {
       "model_id": "289f9e652ebf41e5ac42e8d32e8d6a0a",
       "version_major": 2,
       "version_minor": 0
      },
      "text/plain": [
       "HBox(children=(IntProgress(value=0, description='Training iteration', max=29, style=ProgressStyle(description_…"
      ]
     },
     "metadata": {},
     "output_type": "display_data"
    },
    {
     "name": "stdout",
     "output_type": "stream",
     "text": [
      "\n"
     ]
    },
    {
     "data": {
      "application/vnd.jupyter.widget-view+json": {
       "model_id": "8ef1c954bcab4aea91d6caf91ab3dd1f",
       "version_major": 2,
       "version_minor": 0
      },
      "text/plain": [
       "HBox(children=(IntProgress(value=0, description='Evaluation iteration', max=6, style=ProgressStyle(description…"
      ]
     },
     "metadata": {},
     "output_type": "display_data"
    },
    {
     "name": "stdout",
     "output_type": "stream",
     "text": [
      "\n",
      "Loss history: [0.5807238121827444, 0.4713802585999171, 0.3920477976401647, 0.3334565609693527, 0.28837329645951587, 0.26220135887463886, 0.24571756521860758, 0.23376855005820593, 0.22130146125952402, 0.2088807945450147, 0.1988967756430308, 0.18800713370243707, 0.176468292872111, 0.16879013429085413, 0.15945591777563095, 0.15360741565624872, 0.14622070640325546, 0.14106962333122888, 0.13842809945344925, 0.13366339231530824, 0.13091055179635683, 0.12942353015144667, 0.12504354616006216, 0.12317216272155444, 0.12026351317763329, 0.11964867388208707, 0.11491534238060315, 0.113737386961778, 0.11367260416348775, 0.11274700860182445, 0.11127892384926479, 0.10855888575315475]\n",
      "Dev loss: 0.10669782012701035\n"
     ]
    },
    {
     "name": "stderr",
     "output_type": "stream",
     "text": [
      "\r",
      "Epoch:  33%|███▎      | 33/100 [03:48<07:45,  6.94s/it]"
     ]
    },
    {
     "data": {
      "application/vnd.jupyter.widget-view+json": {
       "model_id": "a2c96f510d784ffea966d3cda2d5313a",
       "version_major": 2,
       "version_minor": 0
      },
      "text/plain": [
       "HBox(children=(IntProgress(value=0, description='Training iteration', max=29, style=ProgressStyle(description_…"
      ]
     },
     "metadata": {},
     "output_type": "display_data"
    },
    {
     "name": "stdout",
     "output_type": "stream",
     "text": [
      "\n"
     ]
    },
    {
     "data": {
      "application/vnd.jupyter.widget-view+json": {
       "model_id": "b49101b6eec943fcb8b182301af51639",
       "version_major": 2,
       "version_minor": 0
      },
      "text/plain": [
       "HBox(children=(IntProgress(value=0, description='Evaluation iteration', max=6, style=ProgressStyle(description…"
      ]
     },
     "metadata": {},
     "output_type": "display_data"
    },
    {
     "name": "stdout",
     "output_type": "stream",
     "text": [
      "\n",
      "Loss history: [0.5807238121827444, 0.4713802585999171, 0.3920477976401647, 0.3334565609693527, 0.28837329645951587, 0.26220135887463886, 0.24571756521860758, 0.23376855005820593, 0.22130146125952402, 0.2088807945450147, 0.1988967756430308, 0.18800713370243707, 0.176468292872111, 0.16879013429085413, 0.15945591777563095, 0.15360741565624872, 0.14622070640325546, 0.14106962333122888, 0.13842809945344925, 0.13366339231530824, 0.13091055179635683, 0.12942353015144667, 0.12504354616006216, 0.12317216272155444, 0.12026351317763329, 0.11964867388208707, 0.11491534238060315, 0.113737386961778, 0.11367260416348775, 0.11274700860182445, 0.11127892384926479, 0.10855888575315475, 0.10669782012701035]\n",
      "Dev loss: 0.10567709182699521\n"
     ]
    },
    {
     "name": "stderr",
     "output_type": "stream",
     "text": [
      "\r",
      "Epoch:  34%|███▍      | 34/100 [03:55<07:38,  6.94s/it]"
     ]
    },
    {
     "data": {
      "application/vnd.jupyter.widget-view+json": {
       "model_id": "ebd06af9a5ec40e188a6a5bd5ee605a0",
       "version_major": 2,
       "version_minor": 0
      },
      "text/plain": [
       "HBox(children=(IntProgress(value=0, description='Training iteration', max=29, style=ProgressStyle(description_…"
      ]
     },
     "metadata": {},
     "output_type": "display_data"
    },
    {
     "name": "stdout",
     "output_type": "stream",
     "text": [
      "\n"
     ]
    },
    {
     "data": {
      "application/vnd.jupyter.widget-view+json": {
       "model_id": "3ec0773645ab4278bffa52ee8c3b9112",
       "version_major": 2,
       "version_minor": 0
      },
      "text/plain": [
       "HBox(children=(IntProgress(value=0, description='Evaluation iteration', max=6, style=ProgressStyle(description…"
      ]
     },
     "metadata": {},
     "output_type": "display_data"
    },
    {
     "name": "stderr",
     "output_type": "stream",
     "text": [
      "\r",
      "Epoch:  35%|███▌      | 35/100 [04:02<07:21,  6.80s/it]"
     ]
    },
    {
     "name": "stdout",
     "output_type": "stream",
     "text": [
      "\n",
      "Loss history: [0.5807238121827444, 0.4713802585999171, 0.3920477976401647, 0.3334565609693527, 0.28837329645951587, 0.26220135887463886, 0.24571756521860758, 0.23376855005820593, 0.22130146125952402, 0.2088807945450147, 0.1988967756430308, 0.18800713370243707, 0.176468292872111, 0.16879013429085413, 0.15945591777563095, 0.15360741565624872, 0.14622070640325546, 0.14106962333122888, 0.13842809945344925, 0.13366339231530824, 0.13091055179635683, 0.12942353015144667, 0.12504354616006216, 0.12317216272155444, 0.12026351317763329, 0.11964867388208707, 0.11491534238060315, 0.113737386961778, 0.11367260416348775, 0.11274700860182445, 0.11127892384926479, 0.10855888575315475, 0.10669782012701035, 0.10567709182699521]\n",
      "Dev loss: 0.10577129075924556\n"
     ]
    },
    {
     "data": {
      "application/vnd.jupyter.widget-view+json": {
       "model_id": "6c5c9dbf9c38403ba8ce07672fa0f769",
       "version_major": 2,
       "version_minor": 0
      },
      "text/plain": [
       "HBox(children=(IntProgress(value=0, description='Training iteration', max=29, style=ProgressStyle(description_…"
      ]
     },
     "metadata": {},
     "output_type": "display_data"
    },
    {
     "name": "stdout",
     "output_type": "stream",
     "text": [
      "\n"
     ]
    },
    {
     "data": {
      "application/vnd.jupyter.widget-view+json": {
       "model_id": "c8bb8ee0ab794985a903e8e929fcbfe6",
       "version_major": 2,
       "version_minor": 0
      },
      "text/plain": [
       "HBox(children=(IntProgress(value=0, description='Evaluation iteration', max=6, style=ProgressStyle(description…"
      ]
     },
     "metadata": {},
     "output_type": "display_data"
    },
    {
     "name": "stdout",
     "output_type": "stream",
     "text": [
      "\n",
      "Loss history: [0.5807238121827444, 0.4713802585999171, 0.3920477976401647, 0.3334565609693527, 0.28837329645951587, 0.26220135887463886, 0.24571756521860758, 0.23376855005820593, 0.22130146125952402, 0.2088807945450147, 0.1988967756430308, 0.18800713370243707, 0.176468292872111, 0.16879013429085413, 0.15945591777563095, 0.15360741565624872, 0.14622070640325546, 0.14106962333122888, 0.13842809945344925, 0.13366339231530824, 0.13091055179635683, 0.12942353015144667, 0.12504354616006216, 0.12317216272155444, 0.12026351317763329, 0.11964867388208707, 0.11491534238060315, 0.113737386961778, 0.11367260416348775, 0.11274700860182445, 0.11127892384926479, 0.10855888575315475, 0.10669782012701035, 0.10567709182699521, 0.10577129075924556]\n",
      "Dev loss: 0.10335046673814456\n"
     ]
    },
    {
     "name": "stderr",
     "output_type": "stream",
     "text": [
      "\r",
      "Epoch:  36%|███▌      | 36/100 [04:09<07:17,  6.84s/it]"
     ]
    },
    {
     "data": {
      "application/vnd.jupyter.widget-view+json": {
       "model_id": "a6938cf7cba84d9581fd9ccf0682706c",
       "version_major": 2,
       "version_minor": 0
      },
      "text/plain": [
       "HBox(children=(IntProgress(value=0, description='Training iteration', max=29, style=ProgressStyle(description_…"
      ]
     },
     "metadata": {},
     "output_type": "display_data"
    },
    {
     "name": "stdout",
     "output_type": "stream",
     "text": [
      "\n"
     ]
    },
    {
     "data": {
      "application/vnd.jupyter.widget-view+json": {
       "model_id": "61e94ea175f94e2a91ca9d12da9358db",
       "version_major": 2,
       "version_minor": 0
      },
      "text/plain": [
       "HBox(children=(IntProgress(value=0, description='Evaluation iteration', max=6, style=ProgressStyle(description…"
      ]
     },
     "metadata": {},
     "output_type": "display_data"
    },
    {
     "name": "stderr",
     "output_type": "stream",
     "text": [
      "\r",
      "Epoch:  37%|███▋      | 37/100 [04:15<07:03,  6.72s/it]"
     ]
    },
    {
     "name": "stdout",
     "output_type": "stream",
     "text": [
      "\n",
      "Loss history: [0.5807238121827444, 0.4713802585999171, 0.3920477976401647, 0.3334565609693527, 0.28837329645951587, 0.26220135887463886, 0.24571756521860758, 0.23376855005820593, 0.22130146125952402, 0.2088807945450147, 0.1988967756430308, 0.18800713370243707, 0.176468292872111, 0.16879013429085413, 0.15945591777563095, 0.15360741565624872, 0.14622070640325546, 0.14106962333122888, 0.13842809945344925, 0.13366339231530824, 0.13091055179635683, 0.12942353015144667, 0.12504354616006216, 0.12317216272155444, 0.12026351317763329, 0.11964867388208707, 0.11491534238060315, 0.113737386961778, 0.11367260416348775, 0.11274700860182445, 0.11127892384926479, 0.10855888575315475, 0.10669782012701035, 0.10567709182699521, 0.10577129075924556, 0.10335046673814456]\n",
      "Dev loss: 0.10435107350349426\n"
     ]
    },
    {
     "data": {
      "application/vnd.jupyter.widget-view+json": {
       "model_id": "52d608d959ef4ff4a2d1fb666d9e2940",
       "version_major": 2,
       "version_minor": 0
      },
      "text/plain": [
       "HBox(children=(IntProgress(value=0, description='Training iteration', max=29, style=ProgressStyle(description_…"
      ]
     },
     "metadata": {},
     "output_type": "display_data"
    },
    {
     "name": "stdout",
     "output_type": "stream",
     "text": [
      "\n"
     ]
    },
    {
     "data": {
      "application/vnd.jupyter.widget-view+json": {
       "model_id": "e9cd57edf4f34f468f150332a7317711",
       "version_major": 2,
       "version_minor": 0
      },
      "text/plain": [
       "HBox(children=(IntProgress(value=0, description='Evaluation iteration', max=6, style=ProgressStyle(description…"
      ]
     },
     "metadata": {},
     "output_type": "display_data"
    },
    {
     "name": "stdout",
     "output_type": "stream",
     "text": [
      "\n",
      "Loss history: [0.5807238121827444, 0.4713802585999171, 0.3920477976401647, 0.3334565609693527, 0.28837329645951587, 0.26220135887463886, 0.24571756521860758, 0.23376855005820593, 0.22130146125952402, 0.2088807945450147, 0.1988967756430308, 0.18800713370243707, 0.176468292872111, 0.16879013429085413, 0.15945591777563095, 0.15360741565624872, 0.14622070640325546, 0.14106962333122888, 0.13842809945344925, 0.13366339231530824, 0.13091055179635683, 0.12942353015144667, 0.12504354616006216, 0.12317216272155444, 0.12026351317763329, 0.11964867388208707, 0.11491534238060315, 0.113737386961778, 0.11367260416348775, 0.11274700860182445, 0.11127892384926479, 0.10855888575315475, 0.10669782012701035, 0.10567709182699521, 0.10577129075924556, 0.10335046673814456, 0.10435107350349426]\n",
      "Dev loss: 0.1011144941051801\n"
     ]
    },
    {
     "name": "stderr",
     "output_type": "stream",
     "text": [
      "\r",
      "Epoch:  38%|███▊      | 38/100 [04:22<07:01,  6.79s/it]"
     ]
    },
    {
     "data": {
      "application/vnd.jupyter.widget-view+json": {
       "model_id": "a5e4b290abff4723af2462418924bc55",
       "version_major": 2,
       "version_minor": 0
      },
      "text/plain": [
       "HBox(children=(IntProgress(value=0, description='Training iteration', max=29, style=ProgressStyle(description_…"
      ]
     },
     "metadata": {},
     "output_type": "display_data"
    },
    {
     "name": "stdout",
     "output_type": "stream",
     "text": [
      "\n"
     ]
    },
    {
     "data": {
      "application/vnd.jupyter.widget-view+json": {
       "model_id": "664d5fa106304cd1bdc5df32a65ce73d",
       "version_major": 2,
       "version_minor": 0
      },
      "text/plain": [
       "HBox(children=(IntProgress(value=0, description='Evaluation iteration', max=6, style=ProgressStyle(description…"
      ]
     },
     "metadata": {},
     "output_type": "display_data"
    },
    {
     "name": "stderr",
     "output_type": "stream",
     "text": [
      "\r",
      "Epoch:  39%|███▉      | 39/100 [04:28<06:48,  6.69s/it]"
     ]
    },
    {
     "name": "stdout",
     "output_type": "stream",
     "text": [
      "\n",
      "Loss history: [0.5807238121827444, 0.4713802585999171, 0.3920477976401647, 0.3334565609693527, 0.28837329645951587, 0.26220135887463886, 0.24571756521860758, 0.23376855005820593, 0.22130146125952402, 0.2088807945450147, 0.1988967756430308, 0.18800713370243707, 0.176468292872111, 0.16879013429085413, 0.15945591777563095, 0.15360741565624872, 0.14622070640325546, 0.14106962333122888, 0.13842809945344925, 0.13366339231530824, 0.13091055179635683, 0.12942353015144667, 0.12504354616006216, 0.12317216272155444, 0.12026351317763329, 0.11964867388208707, 0.11491534238060315, 0.113737386961778, 0.11367260416348775, 0.11274700860182445, 0.11127892384926479, 0.10855888575315475, 0.10669782012701035, 0.10567709182699521, 0.10577129075924556, 0.10335046673814456, 0.10435107350349426, 0.1011144941051801]\n",
      "Dev loss: 0.10139636819561322\n"
     ]
    },
    {
     "data": {
      "application/vnd.jupyter.widget-view+json": {
       "model_id": "c31c02151f4f40dc9bc75d8aa068a300",
       "version_major": 2,
       "version_minor": 0
      },
      "text/plain": [
       "HBox(children=(IntProgress(value=0, description='Training iteration', max=29, style=ProgressStyle(description_…"
      ]
     },
     "metadata": {},
     "output_type": "display_data"
    },
    {
     "name": "stdout",
     "output_type": "stream",
     "text": [
      "\n"
     ]
    },
    {
     "data": {
      "application/vnd.jupyter.widget-view+json": {
       "model_id": "e7c6ea89a48a47ff93803d08881e24c7",
       "version_major": 2,
       "version_minor": 0
      },
      "text/plain": [
       "HBox(children=(IntProgress(value=0, description='Evaluation iteration', max=6, style=ProgressStyle(description…"
      ]
     },
     "metadata": {},
     "output_type": "display_data"
    },
    {
     "name": "stderr",
     "output_type": "stream",
     "text": [
      "\r",
      "Epoch:  40%|████      | 40/100 [04:35<06:37,  6.62s/it]"
     ]
    },
    {
     "name": "stdout",
     "output_type": "stream",
     "text": [
      "\n",
      "Loss history: [0.5807238121827444, 0.4713802585999171, 0.3920477976401647, 0.3334565609693527, 0.28837329645951587, 0.26220135887463886, 0.24571756521860758, 0.23376855005820593, 0.22130146125952402, 0.2088807945450147, 0.1988967756430308, 0.18800713370243707, 0.176468292872111, 0.16879013429085413, 0.15945591777563095, 0.15360741565624872, 0.14622070640325546, 0.14106962333122888, 0.13842809945344925, 0.13366339231530824, 0.13091055179635683, 0.12942353015144667, 0.12504354616006216, 0.12317216272155444, 0.12026351317763329, 0.11964867388208707, 0.11491534238060315, 0.113737386961778, 0.11367260416348775, 0.11274700860182445, 0.11127892384926479, 0.10855888575315475, 0.10669782012701035, 0.10567709182699521, 0.10577129075924556, 0.10335046673814456, 0.10435107350349426, 0.1011144941051801, 0.10139636819561322]\n",
      "Dev loss: 0.1020019253094991\n"
     ]
    },
    {
     "data": {
      "application/vnd.jupyter.widget-view+json": {
       "model_id": "9c3cd5e73e7a4d5caa0f10d32cc7a735",
       "version_major": 2,
       "version_minor": 0
      },
      "text/plain": [
       "HBox(children=(IntProgress(value=0, description='Training iteration', max=29, style=ProgressStyle(description_…"
      ]
     },
     "metadata": {},
     "output_type": "display_data"
    },
    {
     "name": "stdout",
     "output_type": "stream",
     "text": [
      "\n"
     ]
    },
    {
     "data": {
      "application/vnd.jupyter.widget-view+json": {
       "model_id": "4cbb871ced3d4a738212047ed9fbc637",
       "version_major": 2,
       "version_minor": 0
      },
      "text/plain": [
       "HBox(children=(IntProgress(value=0, description='Evaluation iteration', max=6, style=ProgressStyle(description…"
      ]
     },
     "metadata": {},
     "output_type": "display_data"
    },
    {
     "name": "stderr",
     "output_type": "stream",
     "text": [
      "\r",
      "Epoch:  41%|████      | 41/100 [04:41<06:27,  6.57s/it]"
     ]
    },
    {
     "name": "stdout",
     "output_type": "stream",
     "text": [
      "\n",
      "Loss history: [0.5807238121827444, 0.4713802585999171, 0.3920477976401647, 0.3334565609693527, 0.28837329645951587, 0.26220135887463886, 0.24571756521860758, 0.23376855005820593, 0.22130146125952402, 0.2088807945450147, 0.1988967756430308, 0.18800713370243707, 0.176468292872111, 0.16879013429085413, 0.15945591777563095, 0.15360741565624872, 0.14622070640325546, 0.14106962333122888, 0.13842809945344925, 0.13366339231530824, 0.13091055179635683, 0.12942353015144667, 0.12504354616006216, 0.12317216272155444, 0.12026351317763329, 0.11964867388208707, 0.11491534238060315, 0.113737386961778, 0.11367260416348775, 0.11274700860182445, 0.11127892384926479, 0.10855888575315475, 0.10669782012701035, 0.10567709182699521, 0.10577129075924556, 0.10335046673814456, 0.10435107350349426, 0.1011144941051801, 0.10139636819561322, 0.1020019253094991]\n",
      "Dev loss: 0.1023290641605854\n"
     ]
    },
    {
     "data": {
      "application/vnd.jupyter.widget-view+json": {
       "model_id": "b386222af8ba45a699e92e94c6d0a0d9",
       "version_major": 2,
       "version_minor": 0
      },
      "text/plain": [
       "HBox(children=(IntProgress(value=0, description='Training iteration', max=29, style=ProgressStyle(description_…"
      ]
     },
     "metadata": {},
     "output_type": "display_data"
    },
    {
     "name": "stdout",
     "output_type": "stream",
     "text": [
      "\n"
     ]
    },
    {
     "data": {
      "application/vnd.jupyter.widget-view+json": {
       "model_id": "325390c850394243bd206e8d0453ffb6",
       "version_major": 2,
       "version_minor": 0
      },
      "text/plain": [
       "HBox(children=(IntProgress(value=0, description='Evaluation iteration', max=6, style=ProgressStyle(description…"
      ]
     },
     "metadata": {},
     "output_type": "display_data"
    },
    {
     "name": "stdout",
     "output_type": "stream",
     "text": [
      "\n",
      "Loss history: [0.5807238121827444, 0.4713802585999171, 0.3920477976401647, 0.3334565609693527, 0.28837329645951587, 0.26220135887463886, 0.24571756521860758, 0.23376855005820593, 0.22130146125952402, 0.2088807945450147, 0.1988967756430308, 0.18800713370243707, 0.176468292872111, 0.16879013429085413, 0.15945591777563095, 0.15360741565624872, 0.14622070640325546, 0.14106962333122888, 0.13842809945344925, 0.13366339231530824, 0.13091055179635683, 0.12942353015144667, 0.12504354616006216, 0.12317216272155444, 0.12026351317763329, 0.11964867388208707, 0.11491534238060315, 0.113737386961778, 0.11367260416348775, 0.11274700860182445, 0.11127892384926479, 0.10855888575315475, 0.10669782012701035, 0.10567709182699521, 0.10577129075924556, 0.10335046673814456, 0.10435107350349426, 0.1011144941051801, 0.10139636819561322, 0.1020019253094991, 0.1023290641605854]\n",
      "Dev loss: 0.09968179712692897\n"
     ]
    },
    {
     "name": "stderr",
     "output_type": "stream",
     "text": [
      "\r",
      "Epoch:  42%|████▏     | 42/100 [04:48<06:27,  6.68s/it]"
     ]
    },
    {
     "data": {
      "application/vnd.jupyter.widget-view+json": {
       "model_id": "06e592e7dfc94bfa91743ae9a8423f58",
       "version_major": 2,
       "version_minor": 0
      },
      "text/plain": [
       "HBox(children=(IntProgress(value=0, description='Training iteration', max=29, style=ProgressStyle(description_…"
      ]
     },
     "metadata": {},
     "output_type": "display_data"
    },
    {
     "name": "stdout",
     "output_type": "stream",
     "text": [
      "\n"
     ]
    },
    {
     "data": {
      "application/vnd.jupyter.widget-view+json": {
       "model_id": "00e03526cc484748ac6987368d00e29e",
       "version_major": 2,
       "version_minor": 0
      },
      "text/plain": [
       "HBox(children=(IntProgress(value=0, description='Evaluation iteration', max=6, style=ProgressStyle(description…"
      ]
     },
     "metadata": {},
     "output_type": "display_data"
    },
    {
     "name": "stdout",
     "output_type": "stream",
     "text": [
      "\n",
      "Loss history: [0.5807238121827444, 0.4713802585999171, 0.3920477976401647, 0.3334565609693527, 0.28837329645951587, 0.26220135887463886, 0.24571756521860758, 0.23376855005820593, 0.22130146125952402, 0.2088807945450147, 0.1988967756430308, 0.18800713370243707, 0.176468292872111, 0.16879013429085413, 0.15945591777563095, 0.15360741565624872, 0.14622070640325546, 0.14106962333122888, 0.13842809945344925, 0.13366339231530824, 0.13091055179635683, 0.12942353015144667, 0.12504354616006216, 0.12317216272155444, 0.12026351317763329, 0.11964867388208707, 0.11491534238060315, 0.113737386961778, 0.11367260416348775, 0.11274700860182445, 0.11127892384926479, 0.10855888575315475, 0.10669782012701035, 0.10567709182699521, 0.10577129075924556, 0.10335046673814456, 0.10435107350349426, 0.1011144941051801, 0.10139636819561322, 0.1020019253094991, 0.1023290641605854, 0.09968179712692897]\n",
      "Dev loss: 0.099302318568031\n"
     ]
    },
    {
     "name": "stderr",
     "output_type": "stream",
     "text": [
      "\r",
      "Epoch:  43%|████▎     | 43/100 [04:55<06:25,  6.76s/it]"
     ]
    },
    {
     "data": {
      "application/vnd.jupyter.widget-view+json": {
       "model_id": "22b4b695676a46ca97d2ff7e7715728b",
       "version_major": 2,
       "version_minor": 0
      },
      "text/plain": [
       "HBox(children=(IntProgress(value=0, description='Training iteration', max=29, style=ProgressStyle(description_…"
      ]
     },
     "metadata": {},
     "output_type": "display_data"
    },
    {
     "name": "stdout",
     "output_type": "stream",
     "text": [
      "\n"
     ]
    },
    {
     "data": {
      "application/vnd.jupyter.widget-view+json": {
       "model_id": "82a8a4c8d1144efb89d4aa0962208120",
       "version_major": 2,
       "version_minor": 0
      },
      "text/plain": [
       "HBox(children=(IntProgress(value=0, description='Evaluation iteration', max=6, style=ProgressStyle(description…"
      ]
     },
     "metadata": {},
     "output_type": "display_data"
    },
    {
     "name": "stdout",
     "output_type": "stream",
     "text": [
      "\n",
      "Loss history: [0.5807238121827444, 0.4713802585999171, 0.3920477976401647, 0.3334565609693527, 0.28837329645951587, 0.26220135887463886, 0.24571756521860758, 0.23376855005820593, 0.22130146125952402, 0.2088807945450147, 0.1988967756430308, 0.18800713370243707, 0.176468292872111, 0.16879013429085413, 0.15945591777563095, 0.15360741565624872, 0.14622070640325546, 0.14106962333122888, 0.13842809945344925, 0.13366339231530824, 0.13091055179635683, 0.12942353015144667, 0.12504354616006216, 0.12317216272155444, 0.12026351317763329, 0.11964867388208707, 0.11491534238060315, 0.113737386961778, 0.11367260416348775, 0.11274700860182445, 0.11127892384926479, 0.10855888575315475, 0.10669782012701035, 0.10567709182699521, 0.10577129075924556, 0.10335046673814456, 0.10435107350349426, 0.1011144941051801, 0.10139636819561322, 0.1020019253094991, 0.1023290641605854, 0.09968179712692897, 0.099302318568031]\n",
      "Dev loss: 0.09783929958939552\n"
     ]
    },
    {
     "name": "stderr",
     "output_type": "stream",
     "text": [
      "\r",
      "Epoch:  44%|████▍     | 44/100 [05:02<06:21,  6.82s/it]"
     ]
    },
    {
     "data": {
      "application/vnd.jupyter.widget-view+json": {
       "model_id": "e06be92ec17146e6a88962efddeee299",
       "version_major": 2,
       "version_minor": 0
      },
      "text/plain": [
       "HBox(children=(IntProgress(value=0, description='Training iteration', max=29, style=ProgressStyle(description_…"
      ]
     },
     "metadata": {},
     "output_type": "display_data"
    },
    {
     "name": "stdout",
     "output_type": "stream",
     "text": [
      "\n"
     ]
    },
    {
     "data": {
      "application/vnd.jupyter.widget-view+json": {
       "model_id": "06dc7c118c444a8cb88c7964f864fae6",
       "version_major": 2,
       "version_minor": 0
      },
      "text/plain": [
       "HBox(children=(IntProgress(value=0, description='Evaluation iteration', max=6, style=ProgressStyle(description…"
      ]
     },
     "metadata": {},
     "output_type": "display_data"
    },
    {
     "name": "stdout",
     "output_type": "stream",
     "text": [
      "\n",
      "Loss history: [0.5807238121827444, 0.4713802585999171, 0.3920477976401647, 0.3334565609693527, 0.28837329645951587, 0.26220135887463886, 0.24571756521860758, 0.23376855005820593, 0.22130146125952402, 0.2088807945450147, 0.1988967756430308, 0.18800713370243707, 0.176468292872111, 0.16879013429085413, 0.15945591777563095, 0.15360741565624872, 0.14622070640325546, 0.14106962333122888, 0.13842809945344925, 0.13366339231530824, 0.13091055179635683, 0.12942353015144667, 0.12504354616006216, 0.12317216272155444, 0.12026351317763329, 0.11964867388208707, 0.11491534238060315, 0.113737386961778, 0.11367260416348775, 0.11274700860182445, 0.11127892384926479, 0.10855888575315475, 0.10669782012701035, 0.10567709182699521, 0.10577129075924556, 0.10335046673814456, 0.10435107350349426, 0.1011144941051801, 0.10139636819561322, 0.1020019253094991, 0.1023290641605854, 0.09968179712692897, 0.099302318568031, 0.09783929958939552]\n",
      "Dev loss: 0.09740341827273369\n"
     ]
    },
    {
     "name": "stderr",
     "output_type": "stream",
     "text": [
      "\r",
      "Epoch:  45%|████▌     | 45/100 [05:09<06:17,  6.86s/it]"
     ]
    },
    {
     "data": {
      "application/vnd.jupyter.widget-view+json": {
       "model_id": "8fbadd34ff9343399860270d73f9a58a",
       "version_major": 2,
       "version_minor": 0
      },
      "text/plain": [
       "HBox(children=(IntProgress(value=0, description='Training iteration', max=29, style=ProgressStyle(description_…"
      ]
     },
     "metadata": {},
     "output_type": "display_data"
    },
    {
     "name": "stdout",
     "output_type": "stream",
     "text": [
      "\n"
     ]
    },
    {
     "data": {
      "application/vnd.jupyter.widget-view+json": {
       "model_id": "a66d7f210c0d4de6a807b298a161e8d8",
       "version_major": 2,
       "version_minor": 0
      },
      "text/plain": [
       "HBox(children=(IntProgress(value=0, description='Evaluation iteration', max=6, style=ProgressStyle(description…"
      ]
     },
     "metadata": {},
     "output_type": "display_data"
    },
    {
     "name": "stderr",
     "output_type": "stream",
     "text": [
      "\r",
      "Epoch:  46%|████▌     | 46/100 [05:16<06:03,  6.74s/it]"
     ]
    },
    {
     "name": "stdout",
     "output_type": "stream",
     "text": [
      "\n",
      "Loss history: [0.5807238121827444, 0.4713802585999171, 0.3920477976401647, 0.3334565609693527, 0.28837329645951587, 0.26220135887463886, 0.24571756521860758, 0.23376855005820593, 0.22130146125952402, 0.2088807945450147, 0.1988967756430308, 0.18800713370243707, 0.176468292872111, 0.16879013429085413, 0.15945591777563095, 0.15360741565624872, 0.14622070640325546, 0.14106962333122888, 0.13842809945344925, 0.13366339231530824, 0.13091055179635683, 0.12942353015144667, 0.12504354616006216, 0.12317216272155444, 0.12026351317763329, 0.11964867388208707, 0.11491534238060315, 0.113737386961778, 0.11367260416348775, 0.11274700860182445, 0.11127892384926479, 0.10855888575315475, 0.10669782012701035, 0.10567709182699521, 0.10577129075924556, 0.10335046673814456, 0.10435107350349426, 0.1011144941051801, 0.10139636819561322, 0.1020019253094991, 0.1023290641605854, 0.09968179712692897, 0.099302318568031, 0.09783929958939552, 0.09740341827273369]\n",
      "Dev loss: 0.09800939758618672\n"
     ]
    },
    {
     "data": {
      "application/vnd.jupyter.widget-view+json": {
       "model_id": "cd481d90c88446e7a36e4286af01a67e",
       "version_major": 2,
       "version_minor": 0
      },
      "text/plain": [
       "HBox(children=(IntProgress(value=0, description='Training iteration', max=29, style=ProgressStyle(description_…"
      ]
     },
     "metadata": {},
     "output_type": "display_data"
    },
    {
     "name": "stdout",
     "output_type": "stream",
     "text": [
      "\n"
     ]
    },
    {
     "data": {
      "application/vnd.jupyter.widget-view+json": {
       "model_id": "55774c553f6f49738102f57c01385b25",
       "version_major": 2,
       "version_minor": 0
      },
      "text/plain": [
       "HBox(children=(IntProgress(value=0, description='Evaluation iteration', max=6, style=ProgressStyle(description…"
      ]
     },
     "metadata": {},
     "output_type": "display_data"
    },
    {
     "name": "stdout",
     "output_type": "stream",
     "text": [
      "\n",
      "Loss history: [0.5807238121827444, 0.4713802585999171, 0.3920477976401647, 0.3334565609693527, 0.28837329645951587, 0.26220135887463886, 0.24571756521860758, 0.23376855005820593, 0.22130146125952402, 0.2088807945450147, 0.1988967756430308, 0.18800713370243707, 0.176468292872111, 0.16879013429085413, 0.15945591777563095, 0.15360741565624872, 0.14622070640325546, 0.14106962333122888, 0.13842809945344925, 0.13366339231530824, 0.13091055179635683, 0.12942353015144667, 0.12504354616006216, 0.12317216272155444, 0.12026351317763329, 0.11964867388208707, 0.11491534238060315, 0.113737386961778, 0.11367260416348775, 0.11274700860182445, 0.11127892384926479, 0.10855888575315475, 0.10669782012701035, 0.10567709182699521, 0.10577129075924556, 0.10335046673814456, 0.10435107350349426, 0.1011144941051801, 0.10139636819561322, 0.1020019253094991, 0.1023290641605854, 0.09968179712692897, 0.099302318568031, 0.09783929958939552, 0.09740341827273369, 0.09800939758618672]\n",
      "Dev loss: 0.09697592879335086\n"
     ]
    },
    {
     "name": "stderr",
     "output_type": "stream",
     "text": [
      "\r",
      "Epoch:  47%|████▋     | 47/100 [05:23<06:00,  6.80s/it]"
     ]
    },
    {
     "data": {
      "application/vnd.jupyter.widget-view+json": {
       "model_id": "313520e4961042e2b31bea12afd2aff3",
       "version_major": 2,
       "version_minor": 0
      },
      "text/plain": [
       "HBox(children=(IntProgress(value=0, description='Training iteration', max=29, style=ProgressStyle(description_…"
      ]
     },
     "metadata": {},
     "output_type": "display_data"
    },
    {
     "name": "stdout",
     "output_type": "stream",
     "text": [
      "\n"
     ]
    },
    {
     "data": {
      "application/vnd.jupyter.widget-view+json": {
       "model_id": "d252e493cb704f1789282859b2bc9b84",
       "version_major": 2,
       "version_minor": 0
      },
      "text/plain": [
       "HBox(children=(IntProgress(value=0, description='Evaluation iteration', max=6, style=ProgressStyle(description…"
      ]
     },
     "metadata": {},
     "output_type": "display_data"
    },
    {
     "name": "stderr",
     "output_type": "stream",
     "text": [
      "\r",
      "Epoch:  48%|████▊     | 48/100 [05:29<05:48,  6.70s/it]"
     ]
    },
    {
     "name": "stdout",
     "output_type": "stream",
     "text": [
      "\n",
      "Loss history: [0.5807238121827444, 0.4713802585999171, 0.3920477976401647, 0.3334565609693527, 0.28837329645951587, 0.26220135887463886, 0.24571756521860758, 0.23376855005820593, 0.22130146125952402, 0.2088807945450147, 0.1988967756430308, 0.18800713370243707, 0.176468292872111, 0.16879013429085413, 0.15945591777563095, 0.15360741565624872, 0.14622070640325546, 0.14106962333122888, 0.13842809945344925, 0.13366339231530824, 0.13091055179635683, 0.12942353015144667, 0.12504354616006216, 0.12317216272155444, 0.12026351317763329, 0.11964867388208707, 0.11491534238060315, 0.113737386961778, 0.11367260416348775, 0.11274700860182445, 0.11127892384926479, 0.10855888575315475, 0.10669782012701035, 0.10567709182699521, 0.10577129075924556, 0.10335046673814456, 0.10435107350349426, 0.1011144941051801, 0.10139636819561322, 0.1020019253094991, 0.1023290641605854, 0.09968179712692897, 0.099302318568031, 0.09783929958939552, 0.09740341827273369, 0.09800939758618672, 0.09697592879335086]\n",
      "Dev loss: 0.09845230480035146\n"
     ]
    },
    {
     "data": {
      "application/vnd.jupyter.widget-view+json": {
       "model_id": "52b9bb5cfedd49308011d7995b15134d",
       "version_major": 2,
       "version_minor": 0
      },
      "text/plain": [
       "HBox(children=(IntProgress(value=0, description='Training iteration', max=29, style=ProgressStyle(description_…"
      ]
     },
     "metadata": {},
     "output_type": "display_data"
    },
    {
     "name": "stdout",
     "output_type": "stream",
     "text": [
      "\n"
     ]
    },
    {
     "data": {
      "application/vnd.jupyter.widget-view+json": {
       "model_id": "ec3ecc1504c4408097b2bfb0d84f32fa",
       "version_major": 2,
       "version_minor": 0
      },
      "text/plain": [
       "HBox(children=(IntProgress(value=0, description='Evaluation iteration', max=6, style=ProgressStyle(description…"
      ]
     },
     "metadata": {},
     "output_type": "display_data"
    },
    {
     "name": "stdout",
     "output_type": "stream",
     "text": [
      "\n",
      "Loss history: [0.5807238121827444, 0.4713802585999171, 0.3920477976401647, 0.3334565609693527, 0.28837329645951587, 0.26220135887463886, 0.24571756521860758, 0.23376855005820593, 0.22130146125952402, 0.2088807945450147, 0.1988967756430308, 0.18800713370243707, 0.176468292872111, 0.16879013429085413, 0.15945591777563095, 0.15360741565624872, 0.14622070640325546, 0.14106962333122888, 0.13842809945344925, 0.13366339231530824, 0.13091055179635683, 0.12942353015144667, 0.12504354616006216, 0.12317216272155444, 0.12026351317763329, 0.11964867388208707, 0.11491534238060315, 0.113737386961778, 0.11367260416348775, 0.11274700860182445, 0.11127892384926479, 0.10855888575315475, 0.10669782012701035, 0.10567709182699521, 0.10577129075924556, 0.10335046673814456, 0.10435107350349426, 0.1011144941051801, 0.10139636819561322, 0.1020019253094991, 0.1023290641605854, 0.09968179712692897, 0.099302318568031, 0.09783929958939552, 0.09740341827273369, 0.09800939758618672, 0.09697592879335086, 0.09845230480035146]\n",
      "Dev loss: 0.09552659839391708\n"
     ]
    },
    {
     "name": "stderr",
     "output_type": "stream",
     "text": [
      "\r",
      "Epoch:  49%|████▉     | 49/100 [05:36<05:45,  6.77s/it]"
     ]
    },
    {
     "data": {
      "application/vnd.jupyter.widget-view+json": {
       "model_id": "e75b434058ca40ebb0c5ef41ed833d32",
       "version_major": 2,
       "version_minor": 0
      },
      "text/plain": [
       "HBox(children=(IntProgress(value=0, description='Training iteration', max=29, style=ProgressStyle(description_…"
      ]
     },
     "metadata": {},
     "output_type": "display_data"
    },
    {
     "name": "stdout",
     "output_type": "stream",
     "text": [
      "\n"
     ]
    },
    {
     "data": {
      "application/vnd.jupyter.widget-view+json": {
       "model_id": "07fae9ad381545989d1385306fc40239",
       "version_major": 2,
       "version_minor": 0
      },
      "text/plain": [
       "HBox(children=(IntProgress(value=0, description='Evaluation iteration', max=6, style=ProgressStyle(description…"
      ]
     },
     "metadata": {},
     "output_type": "display_data"
    },
    {
     "name": "stdout",
     "output_type": "stream",
     "text": [
      "\n",
      "Loss history: [0.5807238121827444, 0.4713802585999171, 0.3920477976401647, 0.3334565609693527, 0.28837329645951587, 0.26220135887463886, 0.24571756521860758, 0.23376855005820593, 0.22130146125952402, 0.2088807945450147, 0.1988967756430308, 0.18800713370243707, 0.176468292872111, 0.16879013429085413, 0.15945591777563095, 0.15360741565624872, 0.14622070640325546, 0.14106962333122888, 0.13842809945344925, 0.13366339231530824, 0.13091055179635683, 0.12942353015144667, 0.12504354616006216, 0.12317216272155444, 0.12026351317763329, 0.11964867388208707, 0.11491534238060315, 0.113737386961778, 0.11367260416348775, 0.11274700860182445, 0.11127892384926479, 0.10855888575315475, 0.10669782012701035, 0.10567709182699521, 0.10577129075924556, 0.10335046673814456, 0.10435107350349426, 0.1011144941051801, 0.10139636819561322, 0.1020019253094991, 0.1023290641605854, 0.09968179712692897, 0.099302318568031, 0.09783929958939552, 0.09740341827273369, 0.09800939758618672, 0.09697592879335086, 0.09845230480035146, 0.09552659839391708]\n",
      "Dev loss: 0.09529603521029155\n"
     ]
    },
    {
     "name": "stderr",
     "output_type": "stream",
     "text": [
      "\r",
      "Epoch:  50%|█████     | 50/100 [05:43<05:41,  6.83s/it]"
     ]
    },
    {
     "data": {
      "application/vnd.jupyter.widget-view+json": {
       "model_id": "c67db720172746a0a999df44e430752c",
       "version_major": 2,
       "version_minor": 0
      },
      "text/plain": [
       "HBox(children=(IntProgress(value=0, description='Training iteration', max=29, style=ProgressStyle(description_…"
      ]
     },
     "metadata": {},
     "output_type": "display_data"
    },
    {
     "name": "stdout",
     "output_type": "stream",
     "text": [
      "\n"
     ]
    },
    {
     "data": {
      "application/vnd.jupyter.widget-view+json": {
       "model_id": "7d89cb0f65cf4db7844bb3f50b6f319c",
       "version_major": 2,
       "version_minor": 0
      },
      "text/plain": [
       "HBox(children=(IntProgress(value=0, description='Evaluation iteration', max=6, style=ProgressStyle(description…"
      ]
     },
     "metadata": {},
     "output_type": "display_data"
    },
    {
     "name": "stderr",
     "output_type": "stream",
     "text": [
      "\r",
      "Epoch:  51%|█████     | 51/100 [05:49<05:29,  6.72s/it]"
     ]
    },
    {
     "name": "stdout",
     "output_type": "stream",
     "text": [
      "\n",
      "Loss history: [0.5807238121827444, 0.4713802585999171, 0.3920477976401647, 0.3334565609693527, 0.28837329645951587, 0.26220135887463886, 0.24571756521860758, 0.23376855005820593, 0.22130146125952402, 0.2088807945450147, 0.1988967756430308, 0.18800713370243707, 0.176468292872111, 0.16879013429085413, 0.15945591777563095, 0.15360741565624872, 0.14622070640325546, 0.14106962333122888, 0.13842809945344925, 0.13366339231530824, 0.13091055179635683, 0.12942353015144667, 0.12504354616006216, 0.12317216272155444, 0.12026351317763329, 0.11964867388208707, 0.11491534238060315, 0.113737386961778, 0.11367260416348775, 0.11274700860182445, 0.11127892384926479, 0.10855888575315475, 0.10669782012701035, 0.10567709182699521, 0.10577129075924556, 0.10335046673814456, 0.10435107350349426, 0.1011144941051801, 0.10139636819561322, 0.1020019253094991, 0.1023290641605854, 0.09968179712692897, 0.099302318568031, 0.09783929958939552, 0.09740341827273369, 0.09800939758618672, 0.09697592879335086, 0.09845230480035146, 0.09552659839391708, 0.09529603521029155]\n",
      "Dev loss: 0.09623178839683533\n"
     ]
    },
    {
     "data": {
      "application/vnd.jupyter.widget-view+json": {
       "model_id": "5b694db67b414b428b98c72c8300131d",
       "version_major": 2,
       "version_minor": 0
      },
      "text/plain": [
       "HBox(children=(IntProgress(value=0, description='Training iteration', max=29, style=ProgressStyle(description_…"
      ]
     },
     "metadata": {},
     "output_type": "display_data"
    },
    {
     "name": "stdout",
     "output_type": "stream",
     "text": [
      "\n"
     ]
    },
    {
     "data": {
      "application/vnd.jupyter.widget-view+json": {
       "model_id": "5cb90c67d77b447f914045eb62247626",
       "version_major": 2,
       "version_minor": 0
      },
      "text/plain": [
       "HBox(children=(IntProgress(value=0, description='Evaluation iteration', max=6, style=ProgressStyle(description…"
      ]
     },
     "metadata": {},
     "output_type": "display_data"
    },
    {
     "name": "stderr",
     "output_type": "stream",
     "text": [
      "\r",
      "Epoch:  52%|█████▏    | 52/100 [05:56<05:18,  6.64s/it]"
     ]
    },
    {
     "name": "stdout",
     "output_type": "stream",
     "text": [
      "\n",
      "Loss history: [0.5807238121827444, 0.4713802585999171, 0.3920477976401647, 0.3334565609693527, 0.28837329645951587, 0.26220135887463886, 0.24571756521860758, 0.23376855005820593, 0.22130146125952402, 0.2088807945450147, 0.1988967756430308, 0.18800713370243707, 0.176468292872111, 0.16879013429085413, 0.15945591777563095, 0.15360741565624872, 0.14622070640325546, 0.14106962333122888, 0.13842809945344925, 0.13366339231530824, 0.13091055179635683, 0.12942353015144667, 0.12504354616006216, 0.12317216272155444, 0.12026351317763329, 0.11964867388208707, 0.11491534238060315, 0.113737386961778, 0.11367260416348775, 0.11274700860182445, 0.11127892384926479, 0.10855888575315475, 0.10669782012701035, 0.10567709182699521, 0.10577129075924556, 0.10335046673814456, 0.10435107350349426, 0.1011144941051801, 0.10139636819561322, 0.1020019253094991, 0.1023290641605854, 0.09968179712692897, 0.099302318568031, 0.09783929958939552, 0.09740341827273369, 0.09800939758618672, 0.09697592879335086, 0.09845230480035146, 0.09552659839391708, 0.09529603521029155, 0.09623178839683533]\n",
      "Dev loss: 0.09574382255474727\n"
     ]
    },
    {
     "data": {
      "application/vnd.jupyter.widget-view+json": {
       "model_id": "3c7e1882b48546dcb75a35264cd52ce6",
       "version_major": 2,
       "version_minor": 0
      },
      "text/plain": [
       "HBox(children=(IntProgress(value=0, description='Training iteration', max=29, style=ProgressStyle(description_…"
      ]
     },
     "metadata": {},
     "output_type": "display_data"
    },
    {
     "name": "stdout",
     "output_type": "stream",
     "text": [
      "\n"
     ]
    },
    {
     "data": {
      "application/vnd.jupyter.widget-view+json": {
       "model_id": "6ade97f1ad2c4726849e61d8c22947c2",
       "version_major": 2,
       "version_minor": 0
      },
      "text/plain": [
       "HBox(children=(IntProgress(value=0, description='Evaluation iteration', max=6, style=ProgressStyle(description…"
      ]
     },
     "metadata": {},
     "output_type": "display_data"
    },
    {
     "name": "stdout",
     "output_type": "stream",
     "text": [
      "\n",
      "Loss history: [0.5807238121827444, 0.4713802585999171, 0.3920477976401647, 0.3334565609693527, 0.28837329645951587, 0.26220135887463886, 0.24571756521860758, 0.23376855005820593, 0.22130146125952402, 0.2088807945450147, 0.1988967756430308, 0.18800713370243707, 0.176468292872111, 0.16879013429085413, 0.15945591777563095, 0.15360741565624872, 0.14622070640325546, 0.14106962333122888, 0.13842809945344925, 0.13366339231530824, 0.13091055179635683, 0.12942353015144667, 0.12504354616006216, 0.12317216272155444, 0.12026351317763329, 0.11964867388208707, 0.11491534238060315, 0.113737386961778, 0.11367260416348775, 0.11274700860182445, 0.11127892384926479, 0.10855888575315475, 0.10669782012701035, 0.10567709182699521, 0.10577129075924556, 0.10335046673814456, 0.10435107350349426, 0.1011144941051801, 0.10139636819561322, 0.1020019253094991, 0.1023290641605854, 0.09968179712692897, 0.099302318568031, 0.09783929958939552, 0.09740341827273369, 0.09800939758618672, 0.09697592879335086, 0.09845230480035146, 0.09552659839391708, 0.09529603521029155, 0.09623178839683533, 0.09574382255474727]\n",
      "Dev loss: 0.09451770968735218\n"
     ]
    },
    {
     "name": "stderr",
     "output_type": "stream",
     "text": [
      "\r",
      "Epoch:  53%|█████▎    | 53/100 [06:03<05:16,  6.73s/it]"
     ]
    },
    {
     "data": {
      "application/vnd.jupyter.widget-view+json": {
       "model_id": "603f15aba3454480b9639505c19e1d3b",
       "version_major": 2,
       "version_minor": 0
      },
      "text/plain": [
       "HBox(children=(IntProgress(value=0, description='Training iteration', max=29, style=ProgressStyle(description_…"
      ]
     },
     "metadata": {},
     "output_type": "display_data"
    },
    {
     "name": "stdout",
     "output_type": "stream",
     "text": [
      "\n"
     ]
    },
    {
     "data": {
      "application/vnd.jupyter.widget-view+json": {
       "model_id": "13e9931c62c14ab68784a2db3165ade6",
       "version_major": 2,
       "version_minor": 0
      },
      "text/plain": [
       "HBox(children=(IntProgress(value=0, description='Evaluation iteration', max=6, style=ProgressStyle(description…"
      ]
     },
     "metadata": {},
     "output_type": "display_data"
    },
    {
     "name": "stderr",
     "output_type": "stream",
     "text": [
      "\r",
      "Epoch:  54%|█████▍    | 54/100 [06:09<05:05,  6.65s/it]"
     ]
    },
    {
     "name": "stdout",
     "output_type": "stream",
     "text": [
      "\n",
      "Loss history: [0.5807238121827444, 0.4713802585999171, 0.3920477976401647, 0.3334565609693527, 0.28837329645951587, 0.26220135887463886, 0.24571756521860758, 0.23376855005820593, 0.22130146125952402, 0.2088807945450147, 0.1988967756430308, 0.18800713370243707, 0.176468292872111, 0.16879013429085413, 0.15945591777563095, 0.15360741565624872, 0.14622070640325546, 0.14106962333122888, 0.13842809945344925, 0.13366339231530824, 0.13091055179635683, 0.12942353015144667, 0.12504354616006216, 0.12317216272155444, 0.12026351317763329, 0.11964867388208707, 0.11491534238060315, 0.113737386961778, 0.11367260416348775, 0.11274700860182445, 0.11127892384926479, 0.10855888575315475, 0.10669782012701035, 0.10567709182699521, 0.10577129075924556, 0.10335046673814456, 0.10435107350349426, 0.1011144941051801, 0.10139636819561322, 0.1020019253094991, 0.1023290641605854, 0.09968179712692897, 0.099302318568031, 0.09783929958939552, 0.09740341827273369, 0.09800939758618672, 0.09697592879335086, 0.09845230480035146, 0.09552659839391708, 0.09529603521029155, 0.09623178839683533, 0.09574382255474727, 0.09451770968735218]\n",
      "Dev loss: 0.09562916060288747\n"
     ]
    },
    {
     "data": {
      "application/vnd.jupyter.widget-view+json": {
       "model_id": "4cbd13ecdf6a4a188646c5596c03d587",
       "version_major": 2,
       "version_minor": 0
      },
      "text/plain": [
       "HBox(children=(IntProgress(value=0, description='Training iteration', max=29, style=ProgressStyle(description_…"
      ]
     },
     "metadata": {},
     "output_type": "display_data"
    },
    {
     "name": "stdout",
     "output_type": "stream",
     "text": [
      "\n"
     ]
    },
    {
     "data": {
      "application/vnd.jupyter.widget-view+json": {
       "model_id": "247c8afc98354931b259d9eab9136db2",
       "version_major": 2,
       "version_minor": 0
      },
      "text/plain": [
       "HBox(children=(IntProgress(value=0, description='Evaluation iteration', max=6, style=ProgressStyle(description…"
      ]
     },
     "metadata": {},
     "output_type": "display_data"
    },
    {
     "name": "stderr",
     "output_type": "stream",
     "text": [
      "\r",
      "Epoch:  55%|█████▌    | 55/100 [06:16<04:56,  6.59s/it]"
     ]
    },
    {
     "name": "stdout",
     "output_type": "stream",
     "text": [
      "\n",
      "Loss history: [0.5807238121827444, 0.4713802585999171, 0.3920477976401647, 0.3334565609693527, 0.28837329645951587, 0.26220135887463886, 0.24571756521860758, 0.23376855005820593, 0.22130146125952402, 0.2088807945450147, 0.1988967756430308, 0.18800713370243707, 0.176468292872111, 0.16879013429085413, 0.15945591777563095, 0.15360741565624872, 0.14622070640325546, 0.14106962333122888, 0.13842809945344925, 0.13366339231530824, 0.13091055179635683, 0.12942353015144667, 0.12504354616006216, 0.12317216272155444, 0.12026351317763329, 0.11964867388208707, 0.11491534238060315, 0.113737386961778, 0.11367260416348775, 0.11274700860182445, 0.11127892384926479, 0.10855888575315475, 0.10669782012701035, 0.10567709182699521, 0.10577129075924556, 0.10335046673814456, 0.10435107350349426, 0.1011144941051801, 0.10139636819561322, 0.1020019253094991, 0.1023290641605854, 0.09968179712692897, 0.099302318568031, 0.09783929958939552, 0.09740341827273369, 0.09800939758618672, 0.09697592879335086, 0.09845230480035146, 0.09552659839391708, 0.09529603521029155, 0.09623178839683533, 0.09574382255474727, 0.09451770968735218, 0.09562916060288747]\n",
      "Dev loss: 0.09502779009441535\n"
     ]
    },
    {
     "data": {
      "application/vnd.jupyter.widget-view+json": {
       "model_id": "1482a7958c7f4a67803eb3b754d3dc1b",
       "version_major": 2,
       "version_minor": 0
      },
      "text/plain": [
       "HBox(children=(IntProgress(value=0, description='Training iteration', max=29, style=ProgressStyle(description_…"
      ]
     },
     "metadata": {},
     "output_type": "display_data"
    },
    {
     "name": "stdout",
     "output_type": "stream",
     "text": [
      "\n"
     ]
    },
    {
     "data": {
      "application/vnd.jupyter.widget-view+json": {
       "model_id": "f99b6704e2ac40b58cd7e93b8933c989",
       "version_major": 2,
       "version_minor": 0
      },
      "text/plain": [
       "HBox(children=(IntProgress(value=0, description='Evaluation iteration', max=6, style=ProgressStyle(description…"
      ]
     },
     "metadata": {},
     "output_type": "display_data"
    },
    {
     "name": "stderr",
     "output_type": "stream",
     "text": [
      "\r",
      "Epoch:  56%|█████▌    | 56/100 [06:22<04:48,  6.55s/it]"
     ]
    },
    {
     "name": "stdout",
     "output_type": "stream",
     "text": [
      "\n",
      "Loss history: [0.5807238121827444, 0.4713802585999171, 0.3920477976401647, 0.3334565609693527, 0.28837329645951587, 0.26220135887463886, 0.24571756521860758, 0.23376855005820593, 0.22130146125952402, 0.2088807945450147, 0.1988967756430308, 0.18800713370243707, 0.176468292872111, 0.16879013429085413, 0.15945591777563095, 0.15360741565624872, 0.14622070640325546, 0.14106962333122888, 0.13842809945344925, 0.13366339231530824, 0.13091055179635683, 0.12942353015144667, 0.12504354616006216, 0.12317216272155444, 0.12026351317763329, 0.11964867388208707, 0.11491534238060315, 0.113737386961778, 0.11367260416348775, 0.11274700860182445, 0.11127892384926479, 0.10855888575315475, 0.10669782012701035, 0.10567709182699521, 0.10577129075924556, 0.10335046673814456, 0.10435107350349426, 0.1011144941051801, 0.10139636819561322, 0.1020019253094991, 0.1023290641605854, 0.09968179712692897, 0.099302318568031, 0.09783929958939552, 0.09740341827273369, 0.09800939758618672, 0.09697592879335086, 0.09845230480035146, 0.09552659839391708, 0.09529603521029155, 0.09623178839683533, 0.09574382255474727, 0.09451770968735218, 0.09562916060288747, 0.09502779009441535]\n",
      "Dev loss: 0.09611920267343521\n"
     ]
    },
    {
     "data": {
      "application/vnd.jupyter.widget-view+json": {
       "model_id": "ec34750f2fcd48b7bfc1679d8b92418a",
       "version_major": 2,
       "version_minor": 0
      },
      "text/plain": [
       "HBox(children=(IntProgress(value=0, description='Training iteration', max=29, style=ProgressStyle(description_…"
      ]
     },
     "metadata": {},
     "output_type": "display_data"
    },
    {
     "name": "stdout",
     "output_type": "stream",
     "text": [
      "\n"
     ]
    },
    {
     "data": {
      "application/vnd.jupyter.widget-view+json": {
       "model_id": "4deff45a4cfe484f97f9fdf082187199",
       "version_major": 2,
       "version_minor": 0
      },
      "text/plain": [
       "HBox(children=(IntProgress(value=0, description='Evaluation iteration', max=6, style=ProgressStyle(description…"
      ]
     },
     "metadata": {},
     "output_type": "display_data"
    },
    {
     "name": "stdout",
     "output_type": "stream",
     "text": [
      "\n",
      "Loss history: [0.5807238121827444, 0.4713802585999171, 0.3920477976401647, 0.3334565609693527, 0.28837329645951587, 0.26220135887463886, 0.24571756521860758, 0.23376855005820593, 0.22130146125952402, 0.2088807945450147, 0.1988967756430308, 0.18800713370243707, 0.176468292872111, 0.16879013429085413, 0.15945591777563095, 0.15360741565624872, 0.14622070640325546, 0.14106962333122888, 0.13842809945344925, 0.13366339231530824, 0.13091055179635683, 0.12942353015144667, 0.12504354616006216, 0.12317216272155444, 0.12026351317763329, 0.11964867388208707, 0.11491534238060315, 0.113737386961778, 0.11367260416348775, 0.11274700860182445, 0.11127892384926479, 0.10855888575315475, 0.10669782012701035, 0.10567709182699521, 0.10577129075924556, 0.10335046673814456, 0.10435107350349426, 0.1011144941051801, 0.10139636819561322, 0.1020019253094991, 0.1023290641605854, 0.09968179712692897, 0.099302318568031, 0.09783929958939552, 0.09740341827273369, 0.09800939758618672, 0.09697592879335086, 0.09845230480035146, 0.09552659839391708, 0.09529603521029155, 0.09623178839683533, 0.09574382255474727, 0.09451770968735218, 0.09562916060288747, 0.09502779009441535, 0.09611920267343521]\n",
      "Dev loss: 0.09417818797131379\n"
     ]
    },
    {
     "name": "stderr",
     "output_type": "stream",
     "text": [
      "\r",
      "Epoch:  57%|█████▋    | 57/100 [06:29<04:46,  6.67s/it]"
     ]
    },
    {
     "data": {
      "application/vnd.jupyter.widget-view+json": {
       "model_id": "0813adbc1c2b4977b8ffde736d7017ae",
       "version_major": 2,
       "version_minor": 0
      },
      "text/plain": [
       "HBox(children=(IntProgress(value=0, description='Training iteration', max=29, style=ProgressStyle(description_…"
      ]
     },
     "metadata": {},
     "output_type": "display_data"
    },
    {
     "name": "stdout",
     "output_type": "stream",
     "text": [
      "\n"
     ]
    },
    {
     "data": {
      "application/vnd.jupyter.widget-view+json": {
       "model_id": "a32b2532e45648548023df5db18332f6",
       "version_major": 2,
       "version_minor": 0
      },
      "text/plain": [
       "HBox(children=(IntProgress(value=0, description='Evaluation iteration', max=6, style=ProgressStyle(description…"
      ]
     },
     "metadata": {},
     "output_type": "display_data"
    },
    {
     "name": "stdout",
     "output_type": "stream",
     "text": [
      "\n",
      "Loss history: [0.5807238121827444, 0.4713802585999171, 0.3920477976401647, 0.3334565609693527, 0.28837329645951587, 0.26220135887463886, 0.24571756521860758, 0.23376855005820593, 0.22130146125952402, 0.2088807945450147, 0.1988967756430308, 0.18800713370243707, 0.176468292872111, 0.16879013429085413, 0.15945591777563095, 0.15360741565624872, 0.14622070640325546, 0.14106962333122888, 0.13842809945344925, 0.13366339231530824, 0.13091055179635683, 0.12942353015144667, 0.12504354616006216, 0.12317216272155444, 0.12026351317763329, 0.11964867388208707, 0.11491534238060315, 0.113737386961778, 0.11367260416348775, 0.11274700860182445, 0.11127892384926479, 0.10855888575315475, 0.10669782012701035, 0.10567709182699521, 0.10577129075924556, 0.10335046673814456, 0.10435107350349426, 0.1011144941051801, 0.10139636819561322, 0.1020019253094991, 0.1023290641605854, 0.09968179712692897, 0.099302318568031, 0.09783929958939552, 0.09740341827273369, 0.09800939758618672, 0.09697592879335086, 0.09845230480035146, 0.09552659839391708, 0.09529603521029155, 0.09623178839683533, 0.09574382255474727, 0.09451770968735218, 0.09562916060288747, 0.09502779009441535, 0.09611920267343521, 0.09417818797131379]\n",
      "Dev loss: 0.09383926043907802\n"
     ]
    },
    {
     "name": "stderr",
     "output_type": "stream",
     "text": [
      "\r",
      "Epoch:  58%|█████▊    | 58/100 [06:36<04:43,  6.75s/it]"
     ]
    },
    {
     "data": {
      "application/vnd.jupyter.widget-view+json": {
       "model_id": "7bd6f68f92eb42b29e145cf83badc390",
       "version_major": 2,
       "version_minor": 0
      },
      "text/plain": [
       "HBox(children=(IntProgress(value=0, description='Training iteration', max=29, style=ProgressStyle(description_…"
      ]
     },
     "metadata": {},
     "output_type": "display_data"
    },
    {
     "name": "stdout",
     "output_type": "stream",
     "text": [
      "\n"
     ]
    },
    {
     "data": {
      "application/vnd.jupyter.widget-view+json": {
       "model_id": "0a547acbb67844909ab6502ee6426cb5",
       "version_major": 2,
       "version_minor": 0
      },
      "text/plain": [
       "HBox(children=(IntProgress(value=0, description='Evaluation iteration', max=6, style=ProgressStyle(description…"
      ]
     },
     "metadata": {},
     "output_type": "display_data"
    },
    {
     "name": "stderr",
     "output_type": "stream",
     "text": [
      "\r",
      "Epoch:  59%|█████▉    | 59/100 [06:43<04:33,  6.66s/it]"
     ]
    },
    {
     "name": "stdout",
     "output_type": "stream",
     "text": [
      "\n",
      "Loss history: [0.5807238121827444, 0.4713802585999171, 0.3920477976401647, 0.3334565609693527, 0.28837329645951587, 0.26220135887463886, 0.24571756521860758, 0.23376855005820593, 0.22130146125952402, 0.2088807945450147, 0.1988967756430308, 0.18800713370243707, 0.176468292872111, 0.16879013429085413, 0.15945591777563095, 0.15360741565624872, 0.14622070640325546, 0.14106962333122888, 0.13842809945344925, 0.13366339231530824, 0.13091055179635683, 0.12942353015144667, 0.12504354616006216, 0.12317216272155444, 0.12026351317763329, 0.11964867388208707, 0.11491534238060315, 0.113737386961778, 0.11367260416348775, 0.11274700860182445, 0.11127892384926479, 0.10855888575315475, 0.10669782012701035, 0.10567709182699521, 0.10577129075924556, 0.10335046673814456, 0.10435107350349426, 0.1011144941051801, 0.10139636819561322, 0.1020019253094991, 0.1023290641605854, 0.09968179712692897, 0.099302318568031, 0.09783929958939552, 0.09740341827273369, 0.09800939758618672, 0.09697592879335086, 0.09845230480035146, 0.09552659839391708, 0.09529603521029155, 0.09623178839683533, 0.09574382255474727, 0.09451770968735218, 0.09562916060288747, 0.09502779009441535, 0.09611920267343521, 0.09417818797131379, 0.09383926043907802]\n",
      "Dev loss: 0.09614866847793262\n"
     ]
    },
    {
     "data": {
      "application/vnd.jupyter.widget-view+json": {
       "model_id": "cecba02eea744f119e6e1e74bab95417",
       "version_major": 2,
       "version_minor": 0
      },
      "text/plain": [
       "HBox(children=(IntProgress(value=0, description='Training iteration', max=29, style=ProgressStyle(description_…"
      ]
     },
     "metadata": {},
     "output_type": "display_data"
    },
    {
     "name": "stdout",
     "output_type": "stream",
     "text": [
      "\n"
     ]
    },
    {
     "data": {
      "application/vnd.jupyter.widget-view+json": {
       "model_id": "90e3c31a1bc241b1965e446b9139ba45",
       "version_major": 2,
       "version_minor": 0
      },
      "text/plain": [
       "HBox(children=(IntProgress(value=0, description='Evaluation iteration', max=6, style=ProgressStyle(description…"
      ]
     },
     "metadata": {},
     "output_type": "display_data"
    },
    {
     "name": "stdout",
     "output_type": "stream",
     "text": [
      "\n",
      "Loss history: [0.5807238121827444, 0.4713802585999171, 0.3920477976401647, 0.3334565609693527, 0.28837329645951587, 0.26220135887463886, 0.24571756521860758, 0.23376855005820593, 0.22130146125952402, 0.2088807945450147, 0.1988967756430308, 0.18800713370243707, 0.176468292872111, 0.16879013429085413, 0.15945591777563095, 0.15360741565624872, 0.14622070640325546, 0.14106962333122888, 0.13842809945344925, 0.13366339231530824, 0.13091055179635683, 0.12942353015144667, 0.12504354616006216, 0.12317216272155444, 0.12026351317763329, 0.11964867388208707, 0.11491534238060315, 0.113737386961778, 0.11367260416348775, 0.11274700860182445, 0.11127892384926479, 0.10855888575315475, 0.10669782012701035, 0.10567709182699521, 0.10577129075924556, 0.10335046673814456, 0.10435107350349426, 0.1011144941051801, 0.10139636819561322, 0.1020019253094991, 0.1023290641605854, 0.09968179712692897, 0.099302318568031, 0.09783929958939552, 0.09740341827273369, 0.09800939758618672, 0.09697592879335086, 0.09845230480035146, 0.09552659839391708, 0.09529603521029155, 0.09623178839683533, 0.09574382255474727, 0.09451770968735218, 0.09562916060288747, 0.09502779009441535, 0.09611920267343521, 0.09417818797131379, 0.09383926043907802, 0.09614866847793262]\n",
      "Dev loss: 0.09328456595540047\n"
     ]
    },
    {
     "name": "stderr",
     "output_type": "stream",
     "text": [
      "\r",
      "Epoch:  60%|██████    | 60/100 [06:49<04:30,  6.75s/it]"
     ]
    },
    {
     "data": {
      "application/vnd.jupyter.widget-view+json": {
       "model_id": "849399fa5154451cb63909a2ddf4797c",
       "version_major": 2,
       "version_minor": 0
      },
      "text/plain": [
       "HBox(children=(IntProgress(value=0, description='Training iteration', max=29, style=ProgressStyle(description_…"
      ]
     },
     "metadata": {},
     "output_type": "display_data"
    },
    {
     "name": "stdout",
     "output_type": "stream",
     "text": [
      "\n"
     ]
    },
    {
     "data": {
      "application/vnd.jupyter.widget-view+json": {
       "model_id": "2d6efb610a2441468bfbc07f22df2216",
       "version_major": 2,
       "version_minor": 0
      },
      "text/plain": [
       "HBox(children=(IntProgress(value=0, description='Evaluation iteration', max=6, style=ProgressStyle(description…"
      ]
     },
     "metadata": {},
     "output_type": "display_data"
    },
    {
     "name": "stdout",
     "output_type": "stream",
     "text": [
      "\n",
      "Loss history: [0.5807238121827444, 0.4713802585999171, 0.3920477976401647, 0.3334565609693527, 0.28837329645951587, 0.26220135887463886, 0.24571756521860758, 0.23376855005820593, 0.22130146125952402, 0.2088807945450147, 0.1988967756430308, 0.18800713370243707, 0.176468292872111, 0.16879013429085413, 0.15945591777563095, 0.15360741565624872, 0.14622070640325546, 0.14106962333122888, 0.13842809945344925, 0.13366339231530824, 0.13091055179635683, 0.12942353015144667, 0.12504354616006216, 0.12317216272155444, 0.12026351317763329, 0.11964867388208707, 0.11491534238060315, 0.113737386961778, 0.11367260416348775, 0.11274700860182445, 0.11127892384926479, 0.10855888575315475, 0.10669782012701035, 0.10567709182699521, 0.10577129075924556, 0.10335046673814456, 0.10435107350349426, 0.1011144941051801, 0.10139636819561322, 0.1020019253094991, 0.1023290641605854, 0.09968179712692897, 0.099302318568031, 0.09783929958939552, 0.09740341827273369, 0.09800939758618672, 0.09697592879335086, 0.09845230480035146, 0.09552659839391708, 0.09529603521029155, 0.09623178839683533, 0.09574382255474727, 0.09451770968735218, 0.09562916060288747, 0.09502779009441535, 0.09611920267343521, 0.09417818797131379, 0.09383926043907802, 0.09614866847793262, 0.09328456595540047]\n",
      "Dev loss: 0.0923171875377496\n"
     ]
    },
    {
     "name": "stderr",
     "output_type": "stream",
     "text": [
      "\r",
      "Epoch:  61%|██████    | 61/100 [06:56<04:25,  6.81s/it]"
     ]
    },
    {
     "data": {
      "application/vnd.jupyter.widget-view+json": {
       "model_id": "bd229162c57d413e8cf658abffbddcb9",
       "version_major": 2,
       "version_minor": 0
      },
      "text/plain": [
       "HBox(children=(IntProgress(value=0, description='Training iteration', max=29, style=ProgressStyle(description_…"
      ]
     },
     "metadata": {},
     "output_type": "display_data"
    },
    {
     "name": "stdout",
     "output_type": "stream",
     "text": [
      "\n"
     ]
    },
    {
     "data": {
      "application/vnd.jupyter.widget-view+json": {
       "model_id": "05f85a91f88f4ae6be635fff152aeb6f",
       "version_major": 2,
       "version_minor": 0
      },
      "text/plain": [
       "HBox(children=(IntProgress(value=0, description='Evaluation iteration', max=6, style=ProgressStyle(description…"
      ]
     },
     "metadata": {},
     "output_type": "display_data"
    },
    {
     "name": "stdout",
     "output_type": "stream",
     "text": [
      "\n",
      "Loss history: [0.5807238121827444, 0.4713802585999171, 0.3920477976401647, 0.3334565609693527, 0.28837329645951587, 0.26220135887463886, 0.24571756521860758, 0.23376855005820593, 0.22130146125952402, 0.2088807945450147, 0.1988967756430308, 0.18800713370243707, 0.176468292872111, 0.16879013429085413, 0.15945591777563095, 0.15360741565624872, 0.14622070640325546, 0.14106962333122888, 0.13842809945344925, 0.13366339231530824, 0.13091055179635683, 0.12942353015144667, 0.12504354616006216, 0.12317216272155444, 0.12026351317763329, 0.11964867388208707, 0.11491534238060315, 0.113737386961778, 0.11367260416348775, 0.11274700860182445, 0.11127892384926479, 0.10855888575315475, 0.10669782012701035, 0.10567709182699521, 0.10577129075924556, 0.10335046673814456, 0.10435107350349426, 0.1011144941051801, 0.10139636819561322, 0.1020019253094991, 0.1023290641605854, 0.09968179712692897, 0.099302318568031, 0.09783929958939552, 0.09740341827273369, 0.09800939758618672, 0.09697592879335086, 0.09845230480035146, 0.09552659839391708, 0.09529603521029155, 0.09623178839683533, 0.09574382255474727, 0.09451770968735218, 0.09562916060288747, 0.09502779009441535, 0.09611920267343521, 0.09417818797131379, 0.09383926043907802, 0.09614866847793262, 0.09328456595540047, 0.0923171875377496]\n",
      "Dev loss: 0.09187227673828602\n"
     ]
    },
    {
     "name": "stderr",
     "output_type": "stream",
     "text": [
      "\r",
      "Epoch:  62%|██████▏   | 62/100 [07:03<04:20,  6.85s/it]"
     ]
    },
    {
     "data": {
      "application/vnd.jupyter.widget-view+json": {
       "model_id": "a3024051f2e542f4b45f1795f18eb200",
       "version_major": 2,
       "version_minor": 0
      },
      "text/plain": [
       "HBox(children=(IntProgress(value=0, description='Training iteration', max=29, style=ProgressStyle(description_…"
      ]
     },
     "metadata": {},
     "output_type": "display_data"
    },
    {
     "name": "stdout",
     "output_type": "stream",
     "text": [
      "\n"
     ]
    },
    {
     "data": {
      "application/vnd.jupyter.widget-view+json": {
       "model_id": "0cf72cb08ff542a5bd850418b449082f",
       "version_major": 2,
       "version_minor": 0
      },
      "text/plain": [
       "HBox(children=(IntProgress(value=0, description='Evaluation iteration', max=6, style=ProgressStyle(description…"
      ]
     },
     "metadata": {},
     "output_type": "display_data"
    },
    {
     "name": "stderr",
     "output_type": "stream",
     "text": [
      "\r",
      "Epoch:  63%|██████▎   | 63/100 [07:10<04:09,  6.73s/it]"
     ]
    },
    {
     "name": "stdout",
     "output_type": "stream",
     "text": [
      "\n",
      "Loss history: [0.5807238121827444, 0.4713802585999171, 0.3920477976401647, 0.3334565609693527, 0.28837329645951587, 0.26220135887463886, 0.24571756521860758, 0.23376855005820593, 0.22130146125952402, 0.2088807945450147, 0.1988967756430308, 0.18800713370243707, 0.176468292872111, 0.16879013429085413, 0.15945591777563095, 0.15360741565624872, 0.14622070640325546, 0.14106962333122888, 0.13842809945344925, 0.13366339231530824, 0.13091055179635683, 0.12942353015144667, 0.12504354616006216, 0.12317216272155444, 0.12026351317763329, 0.11964867388208707, 0.11491534238060315, 0.113737386961778, 0.11367260416348775, 0.11274700860182445, 0.11127892384926479, 0.10855888575315475, 0.10669782012701035, 0.10567709182699521, 0.10577129075924556, 0.10335046673814456, 0.10435107350349426, 0.1011144941051801, 0.10139636819561322, 0.1020019253094991, 0.1023290641605854, 0.09968179712692897, 0.099302318568031, 0.09783929958939552, 0.09740341827273369, 0.09800939758618672, 0.09697592879335086, 0.09845230480035146, 0.09552659839391708, 0.09529603521029155, 0.09623178839683533, 0.09574382255474727, 0.09451770968735218, 0.09562916060288747, 0.09502779009441535, 0.09611920267343521, 0.09417818797131379, 0.09383926043907802, 0.09614866847793262, 0.09328456595540047, 0.0923171875377496, 0.09187227673828602]\n",
      "Dev loss: 0.09379277812937896\n"
     ]
    },
    {
     "data": {
      "application/vnd.jupyter.widget-view+json": {
       "model_id": "5708a06141764c15be420bac4fa4e279",
       "version_major": 2,
       "version_minor": 0
      },
      "text/plain": [
       "HBox(children=(IntProgress(value=0, description='Training iteration', max=29, style=ProgressStyle(description_…"
      ]
     },
     "metadata": {},
     "output_type": "display_data"
    },
    {
     "name": "stdout",
     "output_type": "stream",
     "text": [
      "\n"
     ]
    },
    {
     "data": {
      "application/vnd.jupyter.widget-view+json": {
       "model_id": "4f6de795b3e94a3780624aa1c44ab87d",
       "version_major": 2,
       "version_minor": 0
      },
      "text/plain": [
       "HBox(children=(IntProgress(value=0, description='Evaluation iteration', max=6, style=ProgressStyle(description…"
      ]
     },
     "metadata": {},
     "output_type": "display_data"
    },
    {
     "name": "stderr",
     "output_type": "stream",
     "text": [
      "\r",
      "Epoch:  64%|██████▍   | 64/100 [07:16<03:59,  6.65s/it]"
     ]
    },
    {
     "name": "stdout",
     "output_type": "stream",
     "text": [
      "\n",
      "Loss history: [0.5807238121827444, 0.4713802585999171, 0.3920477976401647, 0.3334565609693527, 0.28837329645951587, 0.26220135887463886, 0.24571756521860758, 0.23376855005820593, 0.22130146125952402, 0.2088807945450147, 0.1988967756430308, 0.18800713370243707, 0.176468292872111, 0.16879013429085413, 0.15945591777563095, 0.15360741565624872, 0.14622070640325546, 0.14106962333122888, 0.13842809945344925, 0.13366339231530824, 0.13091055179635683, 0.12942353015144667, 0.12504354616006216, 0.12317216272155444, 0.12026351317763329, 0.11964867388208707, 0.11491534238060315, 0.113737386961778, 0.11367260416348775, 0.11274700860182445, 0.11127892384926479, 0.10855888575315475, 0.10669782012701035, 0.10567709182699521, 0.10577129075924556, 0.10335046673814456, 0.10435107350349426, 0.1011144941051801, 0.10139636819561322, 0.1020019253094991, 0.1023290641605854, 0.09968179712692897, 0.099302318568031, 0.09783929958939552, 0.09740341827273369, 0.09800939758618672, 0.09697592879335086, 0.09845230480035146, 0.09552659839391708, 0.09529603521029155, 0.09623178839683533, 0.09574382255474727, 0.09451770968735218, 0.09562916060288747, 0.09502779009441535, 0.09611920267343521, 0.09417818797131379, 0.09383926043907802, 0.09614866847793262, 0.09328456595540047, 0.0923171875377496, 0.09187227673828602, 0.09379277812937896]\n",
      "Dev loss: 0.09395791962742805\n"
     ]
    },
    {
     "data": {
      "application/vnd.jupyter.widget-view+json": {
       "model_id": "f073385827d14dbab70519694764c43c",
       "version_major": 2,
       "version_minor": 0
      },
      "text/plain": [
       "HBox(children=(IntProgress(value=0, description='Training iteration', max=29, style=ProgressStyle(description_…"
      ]
     },
     "metadata": {},
     "output_type": "display_data"
    },
    {
     "name": "stdout",
     "output_type": "stream",
     "text": [
      "\n"
     ]
    },
    {
     "data": {
      "application/vnd.jupyter.widget-view+json": {
       "model_id": "1e88a4fdc65548e2bfaf455e95f5c9ef",
       "version_major": 2,
       "version_minor": 0
      },
      "text/plain": [
       "HBox(children=(IntProgress(value=0, description='Evaluation iteration', max=6, style=ProgressStyle(description…"
      ]
     },
     "metadata": {},
     "output_type": "display_data"
    },
    {
     "name": "stderr",
     "output_type": "stream",
     "text": [
      "\r",
      "Epoch:  65%|██████▌   | 65/100 [07:23<03:50,  6.59s/it]"
     ]
    },
    {
     "name": "stdout",
     "output_type": "stream",
     "text": [
      "\n",
      "Loss history: [0.5807238121827444, 0.4713802585999171, 0.3920477976401647, 0.3334565609693527, 0.28837329645951587, 0.26220135887463886, 0.24571756521860758, 0.23376855005820593, 0.22130146125952402, 0.2088807945450147, 0.1988967756430308, 0.18800713370243707, 0.176468292872111, 0.16879013429085413, 0.15945591777563095, 0.15360741565624872, 0.14622070640325546, 0.14106962333122888, 0.13842809945344925, 0.13366339231530824, 0.13091055179635683, 0.12942353015144667, 0.12504354616006216, 0.12317216272155444, 0.12026351317763329, 0.11964867388208707, 0.11491534238060315, 0.113737386961778, 0.11367260416348775, 0.11274700860182445, 0.11127892384926479, 0.10855888575315475, 0.10669782012701035, 0.10567709182699521, 0.10577129075924556, 0.10335046673814456, 0.10435107350349426, 0.1011144941051801, 0.10139636819561322, 0.1020019253094991, 0.1023290641605854, 0.09968179712692897, 0.099302318568031, 0.09783929958939552, 0.09740341827273369, 0.09800939758618672, 0.09697592879335086, 0.09845230480035146, 0.09552659839391708, 0.09529603521029155, 0.09623178839683533, 0.09574382255474727, 0.09451770968735218, 0.09562916060288747, 0.09502779009441535, 0.09611920267343521, 0.09417818797131379, 0.09383926043907802, 0.09614866847793262, 0.09328456595540047, 0.0923171875377496, 0.09187227673828602, 0.09379277812937896, 0.09395791962742805]\n",
      "Dev loss: 0.09351071218649547\n"
     ]
    },
    {
     "data": {
      "application/vnd.jupyter.widget-view+json": {
       "model_id": "03687ef4277344a4916c0d3ea003f82b",
       "version_major": 2,
       "version_minor": 0
      },
      "text/plain": [
       "HBox(children=(IntProgress(value=0, description='Training iteration', max=29, style=ProgressStyle(description_…"
      ]
     },
     "metadata": {},
     "output_type": "display_data"
    },
    {
     "name": "stdout",
     "output_type": "stream",
     "text": [
      "\n"
     ]
    },
    {
     "data": {
      "application/vnd.jupyter.widget-view+json": {
       "model_id": "ba514efddcef4e5596e17bc9a906aac5",
       "version_major": 2,
       "version_minor": 0
      },
      "text/plain": [
       "HBox(children=(IntProgress(value=0, description='Evaluation iteration', max=6, style=ProgressStyle(description…"
      ]
     },
     "metadata": {},
     "output_type": "display_data"
    },
    {
     "name": "stderr",
     "output_type": "stream",
     "text": [
      "\r",
      "Epoch:  66%|██████▌   | 66/100 [07:29<03:42,  6.55s/it]"
     ]
    },
    {
     "name": "stdout",
     "output_type": "stream",
     "text": [
      "\n",
      "Loss history: [0.5807238121827444, 0.4713802585999171, 0.3920477976401647, 0.3334565609693527, 0.28837329645951587, 0.26220135887463886, 0.24571756521860758, 0.23376855005820593, 0.22130146125952402, 0.2088807945450147, 0.1988967756430308, 0.18800713370243707, 0.176468292872111, 0.16879013429085413, 0.15945591777563095, 0.15360741565624872, 0.14622070640325546, 0.14106962333122888, 0.13842809945344925, 0.13366339231530824, 0.13091055179635683, 0.12942353015144667, 0.12504354616006216, 0.12317216272155444, 0.12026351317763329, 0.11964867388208707, 0.11491534238060315, 0.113737386961778, 0.11367260416348775, 0.11274700860182445, 0.11127892384926479, 0.10855888575315475, 0.10669782012701035, 0.10567709182699521, 0.10577129075924556, 0.10335046673814456, 0.10435107350349426, 0.1011144941051801, 0.10139636819561322, 0.1020019253094991, 0.1023290641605854, 0.09968179712692897, 0.099302318568031, 0.09783929958939552, 0.09740341827273369, 0.09800939758618672, 0.09697592879335086, 0.09845230480035146, 0.09552659839391708, 0.09529603521029155, 0.09623178839683533, 0.09574382255474727, 0.09451770968735218, 0.09562916060288747, 0.09502779009441535, 0.09611920267343521, 0.09417818797131379, 0.09383926043907802, 0.09614866847793262, 0.09328456595540047, 0.0923171875377496, 0.09187227673828602, 0.09379277812937896, 0.09395791962742805, 0.09351071218649547]\n",
      "Dev loss: 0.09361577033996582\n"
     ]
    },
    {
     "data": {
      "application/vnd.jupyter.widget-view+json": {
       "model_id": "9f043db6051b468f8c48c915aff901c7",
       "version_major": 2,
       "version_minor": 0
      },
      "text/plain": [
       "HBox(children=(IntProgress(value=0, description='Training iteration', max=29, style=ProgressStyle(description_…"
      ]
     },
     "metadata": {},
     "output_type": "display_data"
    },
    {
     "name": "stdout",
     "output_type": "stream",
     "text": [
      "\n"
     ]
    },
    {
     "data": {
      "application/vnd.jupyter.widget-view+json": {
       "model_id": "5063d2c10bd34e0ead8a0408aceeb8a0",
       "version_major": 2,
       "version_minor": 0
      },
      "text/plain": [
       "HBox(children=(IntProgress(value=0, description='Evaluation iteration', max=6, style=ProgressStyle(description…"
      ]
     },
     "metadata": {},
     "output_type": "display_data"
    },
    {
     "name": "stdout",
     "output_type": "stream",
     "text": [
      "\n",
      "Loss history: [0.5807238121827444, 0.4713802585999171, 0.3920477976401647, 0.3334565609693527, 0.28837329645951587, 0.26220135887463886, 0.24571756521860758, 0.23376855005820593, 0.22130146125952402, 0.2088807945450147, 0.1988967756430308, 0.18800713370243707, 0.176468292872111, 0.16879013429085413, 0.15945591777563095, 0.15360741565624872, 0.14622070640325546, 0.14106962333122888, 0.13842809945344925, 0.13366339231530824, 0.13091055179635683, 0.12942353015144667, 0.12504354616006216, 0.12317216272155444, 0.12026351317763329, 0.11964867388208707, 0.11491534238060315, 0.113737386961778, 0.11367260416348775, 0.11274700860182445, 0.11127892384926479, 0.10855888575315475, 0.10669782012701035, 0.10567709182699521, 0.10577129075924556, 0.10335046673814456, 0.10435107350349426, 0.1011144941051801, 0.10139636819561322, 0.1020019253094991, 0.1023290641605854, 0.09968179712692897, 0.099302318568031, 0.09783929958939552, 0.09740341827273369, 0.09800939758618672, 0.09697592879335086, 0.09845230480035146, 0.09552659839391708, 0.09529603521029155, 0.09623178839683533, 0.09574382255474727, 0.09451770968735218, 0.09562916060288747, 0.09502779009441535, 0.09611920267343521, 0.09417818797131379, 0.09383926043907802, 0.09614866847793262, 0.09328456595540047, 0.0923171875377496, 0.09187227673828602, 0.09379277812937896, 0.09395791962742805, 0.09351071218649547, 0.09361577033996582]\n",
      "Dev loss: 0.09393174014985561\n",
      "No improvement on development set. Finish training.\n",
      "Loading model from /tmp/model.bin\n"
     ]
    },
    {
     "name": "stderr",
     "output_type": "stream",
     "text": [
      "\n",
      "I0404 19:01:15.196125 140043817379648 configuration_utils.py:256] loading configuration file https://s3.amazonaws.com/models.huggingface.co/bert/bert-base-uncased-config.json from cache at /home/yves/.cache/torch/transformers/4dad0251492946e18ac39290fcfe91b89d370fee250efe9521476438fe8ca185.8f56353af4a709bf5ff0fbc915d8f5b42bfff892cbb6ac98c3c45f481a03c685\n",
      "I0404 19:01:15.197483 140043817379648 configuration_utils.py:292] Model config BertConfig {\n",
      "  \"architectures\": [\n",
      "    \"BertForMaskedLM\"\n",
      "  ],\n",
      "  \"attention_probs_dropout_prob\": 0.1,\n",
      "  \"bos_token_id\": null,\n",
      "  \"do_sample\": false,\n",
      "  \"eos_token_ids\": null,\n",
      "  \"finetuning_task\": null,\n",
      "  \"hidden_act\": \"gelu\",\n",
      "  \"hidden_dropout_prob\": 0.1,\n",
      "  \"hidden_size\": 768,\n",
      "  \"id2label\": {\n",
      "    \"0\": \"LABEL_0\",\n",
      "    \"1\": \"LABEL_1\"\n",
      "  },\n",
      "  \"initializer_range\": 0.02,\n",
      "  \"intermediate_size\": 3072,\n",
      "  \"is_decoder\": false,\n",
      "  \"label2id\": {\n",
      "    \"LABEL_0\": 0,\n",
      "    \"LABEL_1\": 1\n",
      "  },\n",
      "  \"layer_norm_eps\": 1e-12,\n",
      "  \"length_penalty\": 1.0,\n",
      "  \"max_length\": 20,\n",
      "  \"max_position_embeddings\": 512,\n",
      "  \"model_type\": \"bert\",\n",
      "  \"num_attention_heads\": 12,\n",
      "  \"num_beams\": 1,\n",
      "  \"num_hidden_layers\": 12,\n",
      "  \"num_labels\": 16,\n",
      "  \"num_return_sequences\": 1,\n",
      "  \"output_attentions\": false,\n",
      "  \"output_hidden_states\": false,\n",
      "  \"output_past\": true,\n",
      "  \"pad_token_id\": null,\n",
      "  \"pruned_heads\": {},\n",
      "  \"repetition_penalty\": 1.0,\n",
      "  \"temperature\": 1.0,\n",
      "  \"top_k\": 50,\n",
      "  \"top_p\": 1.0,\n",
      "  \"torchscript\": false,\n",
      "  \"type_vocab_size\": 2,\n",
      "  \"use_bfloat16\": false,\n",
      "  \"vocab_size\": 30522\n",
      "}\n",
      "\n",
      "I0404 19:01:15.667273 140043817379648 modeling_utils.py:461] loading weights file https://s3.amazonaws.com/models.huggingface.co/bert/bert-base-uncased-pytorch_model.bin from cache at /home/yves/.cache/torch/transformers/aa1ef1aede4482d0dbcd4d52baad8ae300e60902e88fcb0bebdec09afd232066.36ca03ab34a1a5d5fa7bc3d03d55c4fa650fed07220e2eeebc06ce58d0e9a157\n"
     ]
    },
    {
     "data": {
      "application/vnd.jupyter.widget-view+json": {
       "model_id": "293ce1be3b304488a640039db0e09796",
       "version_major": 2,
       "version_minor": 0
      },
      "text/plain": [
       "HBox(children=(IntProgress(value=0, description='Evaluation iteration', max=9, style=ProgressStyle(description…"
      ]
     },
     "metadata": {},
     "output_type": "display_data"
    },
    {
     "name": "stdout",
     "output_type": "stream",
     "text": [
      "\n",
      "Data size: 139\n",
      "P: 123 / 133 = 0.924812030075188\n",
      "R: 123 / 159 = 0.7735849056603774\n",
      "F: 0.8424657534246577\n",
      "A: 0.7482014388489209\n",
      "AL1: 0.8201438848920863\n",
      "Train size: 460\n",
      "Final train dataloader length: 29\n"
     ]
    },
    {
     "name": "stderr",
     "output_type": "stream",
     "text": [
      "I0404 19:01:21.061128 140043817379648 configuration_utils.py:256] loading configuration file https://s3.amazonaws.com/models.huggingface.co/bert/bert-base-uncased-config.json from cache at /home/yves/.cache/torch/transformers/4dad0251492946e18ac39290fcfe91b89d370fee250efe9521476438fe8ca185.8f56353af4a709bf5ff0fbc915d8f5b42bfff892cbb6ac98c3c45f481a03c685\n",
      "I0404 19:01:21.062078 140043817379648 configuration_utils.py:292] Model config BertConfig {\n",
      "  \"architectures\": [\n",
      "    \"BertForMaskedLM\"\n",
      "  ],\n",
      "  \"attention_probs_dropout_prob\": 0.1,\n",
      "  \"bos_token_id\": null,\n",
      "  \"do_sample\": false,\n",
      "  \"eos_token_ids\": null,\n",
      "  \"finetuning_task\": null,\n",
      "  \"hidden_act\": \"gelu\",\n",
      "  \"hidden_dropout_prob\": 0.1,\n",
      "  \"hidden_size\": 768,\n",
      "  \"id2label\": {\n",
      "    \"0\": \"LABEL_0\",\n",
      "    \"1\": \"LABEL_1\"\n",
      "  },\n",
      "  \"initializer_range\": 0.02,\n",
      "  \"intermediate_size\": 3072,\n",
      "  \"is_decoder\": false,\n",
      "  \"label2id\": {\n",
      "    \"LABEL_0\": 0,\n",
      "    \"LABEL_1\": 1\n",
      "  },\n",
      "  \"layer_norm_eps\": 1e-12,\n",
      "  \"length_penalty\": 1.0,\n",
      "  \"max_length\": 20,\n",
      "  \"max_position_embeddings\": 512,\n",
      "  \"model_type\": \"bert\",\n",
      "  \"num_attention_heads\": 12,\n",
      "  \"num_beams\": 1,\n",
      "  \"num_hidden_layers\": 12,\n",
      "  \"num_labels\": 16,\n",
      "  \"num_return_sequences\": 1,\n",
      "  \"output_attentions\": false,\n",
      "  \"output_hidden_states\": false,\n",
      "  \"output_past\": true,\n",
      "  \"pad_token_id\": null,\n",
      "  \"pruned_heads\": {},\n",
      "  \"repetition_penalty\": 1.0,\n",
      "  \"temperature\": 1.0,\n",
      "  \"top_k\": 50,\n",
      "  \"top_p\": 1.0,\n",
      "  \"torchscript\": false,\n",
      "  \"type_vocab_size\": 2,\n",
      "  \"use_bfloat16\": false,\n",
      "  \"vocab_size\": 30522\n",
      "}\n",
      "\n",
      "I0404 19:01:21.743975 140043817379648 modeling_utils.py:461] loading weights file https://s3.amazonaws.com/models.huggingface.co/bert/bert-base-uncased-pytorch_model.bin from cache at /home/yves/.cache/torch/transformers/aa1ef1aede4482d0dbcd4d52baad8ae300e60902e88fcb0bebdec09afd232066.36ca03ab34a1a5d5fa7bc3d03d55c4fa650fed07220e2eeebc06ce58d0e9a157\n",
      "I0404 19:01:23.498469 140043817379648 modeling_utils.py:546] Weights of BertForMultiLabelSequenceClassification not initialized from pretrained model: ['classifier.weight', 'classifier.bias']\n",
      "I0404 19:01:23.499359 140043817379648 modeling_utils.py:552] Weights from pretrained model not used in BertForMultiLabelSequenceClassification: ['cls.predictions.bias', 'cls.predictions.transform.dense.weight', 'cls.predictions.transform.dense.bias', 'cls.predictions.decoder.weight', 'cls.seq_relationship.weight', 'cls.seq_relationship.bias', 'cls.predictions.transform.LayerNorm.weight', 'cls.predictions.transform.LayerNorm.bias']\n",
      "Epoch:   0%|          | 0/100 [00:00<?, ?it/s]"
     ]
    },
    {
     "data": {
      "application/vnd.jupyter.widget-view+json": {
       "model_id": "2a9f7fd7cc134e48a7031ea5499ed22c",
       "version_major": 2,
       "version_minor": 0
      },
      "text/plain": [
       "HBox(children=(IntProgress(value=0, description='Training iteration', max=29, style=ProgressStyle(description_…"
      ]
     },
     "metadata": {},
     "output_type": "display_data"
    },
    {
     "name": "stdout",
     "output_type": "stream",
     "text": [
      "\n"
     ]
    },
    {
     "data": {
      "application/vnd.jupyter.widget-view+json": {
       "model_id": "a712cba513ae45ceaa3571d7721370f6",
       "version_major": 2,
       "version_minor": 0
      },
      "text/plain": [
       "HBox(children=(IntProgress(value=0, description='Evaluation iteration', max=6, style=ProgressStyle(description…"
      ]
     },
     "metadata": {},
     "output_type": "display_data"
    },
    {
     "name": "stdout",
     "output_type": "stream",
     "text": [
      "\n",
      "Loss history: []\n",
      "Dev loss: 0.6063797970612844\n"
     ]
    },
    {
     "name": "stderr",
     "output_type": "stream",
     "text": [
      "\r",
      "Epoch:   1%|          | 1/100 [00:06<11:23,  6.90s/it]"
     ]
    },
    {
     "data": {
      "application/vnd.jupyter.widget-view+json": {
       "model_id": "04985e6e02fa41d89f9de56b1e01169d",
       "version_major": 2,
       "version_minor": 0
      },
      "text/plain": [
       "HBox(children=(IntProgress(value=0, description='Training iteration', max=29, style=ProgressStyle(description_…"
      ]
     },
     "metadata": {},
     "output_type": "display_data"
    },
    {
     "name": "stdout",
     "output_type": "stream",
     "text": [
      "\n"
     ]
    },
    {
     "data": {
      "application/vnd.jupyter.widget-view+json": {
       "model_id": "3810eb4aa01441ea8a37deab272fcdaa",
       "version_major": 2,
       "version_minor": 0
      },
      "text/plain": [
       "HBox(children=(IntProgress(value=0, description='Evaluation iteration', max=6, style=ProgressStyle(description…"
      ]
     },
     "metadata": {},
     "output_type": "display_data"
    },
    {
     "name": "stdout",
     "output_type": "stream",
     "text": [
      "\n",
      "Loss history: [0.6063797970612844]\n",
      "Dev loss: 0.4430684943993886\n"
     ]
    },
    {
     "name": "stderr",
     "output_type": "stream",
     "text": [
      "\r",
      "Epoch:   2%|▏         | 2/100 [00:13<11:15,  6.89s/it]"
     ]
    },
    {
     "data": {
      "application/vnd.jupyter.widget-view+json": {
       "model_id": "03900f77f2a04ca096e1811e062586fa",
       "version_major": 2,
       "version_minor": 0
      },
      "text/plain": [
       "HBox(children=(IntProgress(value=0, description='Training iteration', max=29, style=ProgressStyle(description_…"
      ]
     },
     "metadata": {},
     "output_type": "display_data"
    },
    {
     "name": "stdout",
     "output_type": "stream",
     "text": [
      "\n"
     ]
    },
    {
     "data": {
      "application/vnd.jupyter.widget-view+json": {
       "model_id": "6d13d5f1450840d79f1ead67f2a12dec",
       "version_major": 2,
       "version_minor": 0
      },
      "text/plain": [
       "HBox(children=(IntProgress(value=0, description='Evaluation iteration', max=6, style=ProgressStyle(description…"
      ]
     },
     "metadata": {},
     "output_type": "display_data"
    },
    {
     "name": "stdout",
     "output_type": "stream",
     "text": [
      "\n",
      "Loss history: [0.6063797970612844, 0.4430684943993886]\n",
      "Dev loss: 0.34838584065437317\n"
     ]
    },
    {
     "name": "stderr",
     "output_type": "stream",
     "text": [
      "\r",
      "Epoch:   3%|▎         | 3/100 [00:20<11:08,  6.89s/it]"
     ]
    },
    {
     "data": {
      "application/vnd.jupyter.widget-view+json": {
       "model_id": "55cb9ccf6a8641f9a9139b4701803165",
       "version_major": 2,
       "version_minor": 0
      },
      "text/plain": [
       "HBox(children=(IntProgress(value=0, description='Training iteration', max=29, style=ProgressStyle(description_…"
      ]
     },
     "metadata": {},
     "output_type": "display_data"
    },
    {
     "name": "stdout",
     "output_type": "stream",
     "text": [
      "\n"
     ]
    },
    {
     "data": {
      "application/vnd.jupyter.widget-view+json": {
       "model_id": "8b2304705d0b43e380dd2502b0572c9f",
       "version_major": 2,
       "version_minor": 0
      },
      "text/plain": [
       "HBox(children=(IntProgress(value=0, description='Evaluation iteration', max=6, style=ProgressStyle(description…"
      ]
     },
     "metadata": {},
     "output_type": "display_data"
    },
    {
     "name": "stdout",
     "output_type": "stream",
     "text": [
      "\n",
      "Loss history: [0.6063797970612844, 0.4430684943993886, 0.34838584065437317]\n",
      "Dev loss: 0.2993813951810201\n"
     ]
    },
    {
     "name": "stderr",
     "output_type": "stream",
     "text": [
      "\r",
      "Epoch:   4%|▍         | 4/100 [00:27<11:01,  6.90s/it]"
     ]
    },
    {
     "data": {
      "application/vnd.jupyter.widget-view+json": {
       "model_id": "d14b7a3bee454e10831f0fdb91093cda",
       "version_major": 2,
       "version_minor": 0
      },
      "text/plain": [
       "HBox(children=(IntProgress(value=0, description='Training iteration', max=29, style=ProgressStyle(description_…"
      ]
     },
     "metadata": {},
     "output_type": "display_data"
    },
    {
     "name": "stdout",
     "output_type": "stream",
     "text": [
      "\n"
     ]
    },
    {
     "data": {
      "application/vnd.jupyter.widget-view+json": {
       "model_id": "380a76b4572d441d9495c0bfe6874fed",
       "version_major": 2,
       "version_minor": 0
      },
      "text/plain": [
       "HBox(children=(IntProgress(value=0, description='Evaluation iteration', max=6, style=ProgressStyle(description…"
      ]
     },
     "metadata": {},
     "output_type": "display_data"
    },
    {
     "name": "stdout",
     "output_type": "stream",
     "text": [
      "\n",
      "Loss history: [0.6063797970612844, 0.4430684943993886, 0.34838584065437317, 0.2993813951810201]\n",
      "Dev loss: 0.2680129408836365\n"
     ]
    },
    {
     "name": "stderr",
     "output_type": "stream",
     "text": [
      "\r",
      "Epoch:   5%|▌         | 5/100 [00:34<10:55,  6.90s/it]"
     ]
    },
    {
     "data": {
      "application/vnd.jupyter.widget-view+json": {
       "model_id": "89c6a3467054430fadb96ce7e6135edf",
       "version_major": 2,
       "version_minor": 0
      },
      "text/plain": [
       "HBox(children=(IntProgress(value=0, description='Training iteration', max=29, style=ProgressStyle(description_…"
      ]
     },
     "metadata": {},
     "output_type": "display_data"
    },
    {
     "name": "stdout",
     "output_type": "stream",
     "text": [
      "\n"
     ]
    },
    {
     "data": {
      "application/vnd.jupyter.widget-view+json": {
       "model_id": "505430aeba214f3ba8e1bb5c10283311",
       "version_major": 2,
       "version_minor": 0
      },
      "text/plain": [
       "HBox(children=(IntProgress(value=0, description='Evaluation iteration', max=6, style=ProgressStyle(description…"
      ]
     },
     "metadata": {},
     "output_type": "display_data"
    },
    {
     "name": "stdout",
     "output_type": "stream",
     "text": [
      "\n",
      "Loss history: [0.6063797970612844, 0.4430684943993886, 0.34838584065437317, 0.2993813951810201, 0.2680129408836365]\n",
      "Dev loss: 0.2480297933022181\n"
     ]
    },
    {
     "name": "stderr",
     "output_type": "stream",
     "text": [
      "\r",
      "Epoch:   6%|▌         | 6/100 [00:41<10:48,  6.90s/it]"
     ]
    },
    {
     "data": {
      "application/vnd.jupyter.widget-view+json": {
       "model_id": "485d9283d3134c1790f0925a109459ce",
       "version_major": 2,
       "version_minor": 0
      },
      "text/plain": [
       "HBox(children=(IntProgress(value=0, description='Training iteration', max=29, style=ProgressStyle(description_…"
      ]
     },
     "metadata": {},
     "output_type": "display_data"
    },
    {
     "name": "stdout",
     "output_type": "stream",
     "text": [
      "\n"
     ]
    },
    {
     "data": {
      "application/vnd.jupyter.widget-view+json": {
       "model_id": "42b348312f1d4cf69ffb0de35e212941",
       "version_major": 2,
       "version_minor": 0
      },
      "text/plain": [
       "HBox(children=(IntProgress(value=0, description='Evaluation iteration', max=6, style=ProgressStyle(description…"
      ]
     },
     "metadata": {},
     "output_type": "display_data"
    },
    {
     "name": "stdout",
     "output_type": "stream",
     "text": [
      "\n",
      "Loss history: [0.6063797970612844, 0.4430684943993886, 0.34838584065437317, 0.2993813951810201, 0.2680129408836365, 0.2480297933022181]\n",
      "Dev loss: 0.23315516610940298\n"
     ]
    },
    {
     "name": "stderr",
     "output_type": "stream",
     "text": [
      "\r",
      "Epoch:   7%|▋         | 7/100 [00:48<10:41,  6.90s/it]"
     ]
    },
    {
     "data": {
      "application/vnd.jupyter.widget-view+json": {
       "model_id": "264ecf6c472f46ee993d566109ec8b6e",
       "version_major": 2,
       "version_minor": 0
      },
      "text/plain": [
       "HBox(children=(IntProgress(value=0, description='Training iteration', max=29, style=ProgressStyle(description_…"
      ]
     },
     "metadata": {},
     "output_type": "display_data"
    },
    {
     "name": "stdout",
     "output_type": "stream",
     "text": [
      "\n"
     ]
    },
    {
     "data": {
      "application/vnd.jupyter.widget-view+json": {
       "model_id": "5e26a4cdcd9b471688d2e038d3937594",
       "version_major": 2,
       "version_minor": 0
      },
      "text/plain": [
       "HBox(children=(IntProgress(value=0, description='Evaluation iteration', max=6, style=ProgressStyle(description…"
      ]
     },
     "metadata": {},
     "output_type": "display_data"
    },
    {
     "name": "stdout",
     "output_type": "stream",
     "text": [
      "\n",
      "Loss history: [0.6063797970612844, 0.4430684943993886, 0.34838584065437317, 0.2993813951810201, 0.2680129408836365, 0.2480297933022181, 0.23315516610940298]\n",
      "Dev loss: 0.21830538660287857\n"
     ]
    },
    {
     "name": "stderr",
     "output_type": "stream",
     "text": [
      "\r",
      "Epoch:   8%|▊         | 8/100 [00:55<10:34,  6.90s/it]"
     ]
    },
    {
     "data": {
      "application/vnd.jupyter.widget-view+json": {
       "model_id": "a66e220e87844f86b03b8195372da6bd",
       "version_major": 2,
       "version_minor": 0
      },
      "text/plain": [
       "HBox(children=(IntProgress(value=0, description='Training iteration', max=29, style=ProgressStyle(description_…"
      ]
     },
     "metadata": {},
     "output_type": "display_data"
    },
    {
     "name": "stdout",
     "output_type": "stream",
     "text": [
      "\n"
     ]
    },
    {
     "data": {
      "application/vnd.jupyter.widget-view+json": {
       "model_id": "5c620d9689274763911590d93f73abf6",
       "version_major": 2,
       "version_minor": 0
      },
      "text/plain": [
       "HBox(children=(IntProgress(value=0, description='Evaluation iteration', max=6, style=ProgressStyle(description…"
      ]
     },
     "metadata": {},
     "output_type": "display_data"
    },
    {
     "name": "stdout",
     "output_type": "stream",
     "text": [
      "\n",
      "Loss history: [0.6063797970612844, 0.4430684943993886, 0.34838584065437317, 0.2993813951810201, 0.2680129408836365, 0.2480297933022181, 0.23315516610940298, 0.21830538660287857]\n",
      "Dev loss: 0.20367339750130972\n"
     ]
    },
    {
     "name": "stderr",
     "output_type": "stream",
     "text": [
      "\r",
      "Epoch:   9%|▉         | 9/100 [01:02<10:27,  6.90s/it]"
     ]
    },
    {
     "data": {
      "application/vnd.jupyter.widget-view+json": {
       "model_id": "5bfac4ed26f9480fbfab83152c5c5e4d",
       "version_major": 2,
       "version_minor": 0
      },
      "text/plain": [
       "HBox(children=(IntProgress(value=0, description='Training iteration', max=29, style=ProgressStyle(description_…"
      ]
     },
     "metadata": {},
     "output_type": "display_data"
    },
    {
     "name": "stdout",
     "output_type": "stream",
     "text": [
      "\n"
     ]
    },
    {
     "data": {
      "application/vnd.jupyter.widget-view+json": {
       "model_id": "8eda3467fc6f4e66afa84f5c5c0ac6f4",
       "version_major": 2,
       "version_minor": 0
      },
      "text/plain": [
       "HBox(children=(IntProgress(value=0, description='Evaluation iteration', max=6, style=ProgressStyle(description…"
      ]
     },
     "metadata": {},
     "output_type": "display_data"
    },
    {
     "name": "stdout",
     "output_type": "stream",
     "text": [
      "\n",
      "Loss history: [0.6063797970612844, 0.4430684943993886, 0.34838584065437317, 0.2993813951810201, 0.2680129408836365, 0.2480297933022181, 0.23315516610940298, 0.21830538660287857, 0.20367339750130972]\n",
      "Dev loss: 0.19177435586849848\n"
     ]
    },
    {
     "name": "stderr",
     "output_type": "stream",
     "text": [
      "\r",
      "Epoch:  10%|█         | 10/100 [01:08<10:21,  6.90s/it]"
     ]
    },
    {
     "data": {
      "application/vnd.jupyter.widget-view+json": {
       "model_id": "daed42c5aba444adaff94c7947724324",
       "version_major": 2,
       "version_minor": 0
      },
      "text/plain": [
       "HBox(children=(IntProgress(value=0, description='Training iteration', max=29, style=ProgressStyle(description_…"
      ]
     },
     "metadata": {},
     "output_type": "display_data"
    },
    {
     "name": "stdout",
     "output_type": "stream",
     "text": [
      "\n"
     ]
    },
    {
     "data": {
      "application/vnd.jupyter.widget-view+json": {
       "model_id": "7a4f26c3f9ea417a9e02c12a453f3643",
       "version_major": 2,
       "version_minor": 0
      },
      "text/plain": [
       "HBox(children=(IntProgress(value=0, description='Evaluation iteration', max=6, style=ProgressStyle(description…"
      ]
     },
     "metadata": {},
     "output_type": "display_data"
    },
    {
     "name": "stdout",
     "output_type": "stream",
     "text": [
      "\n",
      "Loss history: [0.6063797970612844, 0.4430684943993886, 0.34838584065437317, 0.2993813951810201, 0.2680129408836365, 0.2480297933022181, 0.23315516610940298, 0.21830538660287857, 0.20367339750130972, 0.19177435586849848]\n",
      "Dev loss: 0.18002596000830332\n"
     ]
    },
    {
     "name": "stderr",
     "output_type": "stream",
     "text": [
      "\r",
      "Epoch:  11%|█         | 11/100 [01:15<10:14,  6.90s/it]"
     ]
    },
    {
     "data": {
      "application/vnd.jupyter.widget-view+json": {
       "model_id": "ce9d6a9acace4fc19c5ad72fc8d3f4f6",
       "version_major": 2,
       "version_minor": 0
      },
      "text/plain": [
       "HBox(children=(IntProgress(value=0, description='Training iteration', max=29, style=ProgressStyle(description_…"
      ]
     },
     "metadata": {},
     "output_type": "display_data"
    },
    {
     "name": "stdout",
     "output_type": "stream",
     "text": [
      "\n"
     ]
    },
    {
     "data": {
      "application/vnd.jupyter.widget-view+json": {
       "model_id": "b149e5d2d9b64721b9f249cf5b51328c",
       "version_major": 2,
       "version_minor": 0
      },
      "text/plain": [
       "HBox(children=(IntProgress(value=0, description='Evaluation iteration', max=6, style=ProgressStyle(description…"
      ]
     },
     "metadata": {},
     "output_type": "display_data"
    },
    {
     "name": "stdout",
     "output_type": "stream",
     "text": [
      "\n",
      "Loss history: [0.6063797970612844, 0.4430684943993886, 0.34838584065437317, 0.2993813951810201, 0.2680129408836365, 0.2480297933022181, 0.23315516610940298, 0.21830538660287857, 0.20367339750130972, 0.19177435586849848, 0.18002596000830332]\n",
      "Dev loss: 0.1708356315890948\n"
     ]
    },
    {
     "name": "stderr",
     "output_type": "stream",
     "text": [
      "\r",
      "Epoch:  12%|█▏        | 12/100 [01:22<10:07,  6.90s/it]"
     ]
    },
    {
     "data": {
      "application/vnd.jupyter.widget-view+json": {
       "model_id": "b7d2e40c6c07404ba4dfbdcdc7450b8d",
       "version_major": 2,
       "version_minor": 0
      },
      "text/plain": [
       "HBox(children=(IntProgress(value=0, description='Training iteration', max=29, style=ProgressStyle(description_…"
      ]
     },
     "metadata": {},
     "output_type": "display_data"
    },
    {
     "name": "stdout",
     "output_type": "stream",
     "text": [
      "\n"
     ]
    },
    {
     "data": {
      "application/vnd.jupyter.widget-view+json": {
       "model_id": "a661825c0c7f4cecaf926ef7aeb990bc",
       "version_major": 2,
       "version_minor": 0
      },
      "text/plain": [
       "HBox(children=(IntProgress(value=0, description='Evaluation iteration', max=6, style=ProgressStyle(description…"
      ]
     },
     "metadata": {},
     "output_type": "display_data"
    },
    {
     "name": "stdout",
     "output_type": "stream",
     "text": [
      "\n",
      "Loss history: [0.6063797970612844, 0.4430684943993886, 0.34838584065437317, 0.2993813951810201, 0.2680129408836365, 0.2480297933022181, 0.23315516610940298, 0.21830538660287857, 0.20367339750130972, 0.19177435586849848, 0.18002596000830332, 0.1708356315890948]\n",
      "Dev loss: 0.16365011284748712\n"
     ]
    },
    {
     "name": "stderr",
     "output_type": "stream",
     "text": [
      "\r",
      "Epoch:  13%|█▎        | 13/100 [01:29<10:00,  6.90s/it]"
     ]
    },
    {
     "data": {
      "application/vnd.jupyter.widget-view+json": {
       "model_id": "3652b3d15d76433fa0770b761bf699dc",
       "version_major": 2,
       "version_minor": 0
      },
      "text/plain": [
       "HBox(children=(IntProgress(value=0, description='Training iteration', max=29, style=ProgressStyle(description_…"
      ]
     },
     "metadata": {},
     "output_type": "display_data"
    },
    {
     "name": "stdout",
     "output_type": "stream",
     "text": [
      "\n"
     ]
    },
    {
     "data": {
      "application/vnd.jupyter.widget-view+json": {
       "model_id": "5c7c41b1d9a24f76aa89fb4f3ae84780",
       "version_major": 2,
       "version_minor": 0
      },
      "text/plain": [
       "HBox(children=(IntProgress(value=0, description='Evaluation iteration', max=6, style=ProgressStyle(description…"
      ]
     },
     "metadata": {},
     "output_type": "display_data"
    },
    {
     "name": "stdout",
     "output_type": "stream",
     "text": [
      "\n",
      "Loss history: [0.6063797970612844, 0.4430684943993886, 0.34838584065437317, 0.2993813951810201, 0.2680129408836365, 0.2480297933022181, 0.23315516610940298, 0.21830538660287857, 0.20367339750130972, 0.19177435586849848, 0.18002596000830332, 0.1708356315890948, 0.16365011284748712]\n",
      "Dev loss: 0.15577391038338342\n"
     ]
    },
    {
     "name": "stderr",
     "output_type": "stream",
     "text": [
      "\r",
      "Epoch:  14%|█▍        | 14/100 [01:36<09:53,  6.91s/it]"
     ]
    },
    {
     "data": {
      "application/vnd.jupyter.widget-view+json": {
       "model_id": "0259401b91254ab5b051b5a6195f8fd2",
       "version_major": 2,
       "version_minor": 0
      },
      "text/plain": [
       "HBox(children=(IntProgress(value=0, description='Training iteration', max=29, style=ProgressStyle(description_…"
      ]
     },
     "metadata": {},
     "output_type": "display_data"
    },
    {
     "name": "stdout",
     "output_type": "stream",
     "text": [
      "\n"
     ]
    },
    {
     "data": {
      "application/vnd.jupyter.widget-view+json": {
       "model_id": "791b1675cdc94324955e78f1104ec666",
       "version_major": 2,
       "version_minor": 0
      },
      "text/plain": [
       "HBox(children=(IntProgress(value=0, description='Evaluation iteration', max=6, style=ProgressStyle(description…"
      ]
     },
     "metadata": {},
     "output_type": "display_data"
    },
    {
     "name": "stdout",
     "output_type": "stream",
     "text": [
      "\n",
      "Loss history: [0.6063797970612844, 0.4430684943993886, 0.34838584065437317, 0.2993813951810201, 0.2680129408836365, 0.2480297933022181, 0.23315516610940298, 0.21830538660287857, 0.20367339750130972, 0.19177435586849848, 0.18002596000830332, 0.1708356315890948, 0.16365011284748712, 0.15577391038338342]\n",
      "Dev loss: 0.15119144320487976\n"
     ]
    },
    {
     "name": "stderr",
     "output_type": "stream",
     "text": [
      "\r",
      "Epoch:  15%|█▌        | 15/100 [01:43<09:46,  6.91s/it]"
     ]
    },
    {
     "data": {
      "application/vnd.jupyter.widget-view+json": {
       "model_id": "a7293c39ef5f4ecb9503ebc887dfe855",
       "version_major": 2,
       "version_minor": 0
      },
      "text/plain": [
       "HBox(children=(IntProgress(value=0, description='Training iteration', max=29, style=ProgressStyle(description_…"
      ]
     },
     "metadata": {},
     "output_type": "display_data"
    },
    {
     "name": "stdout",
     "output_type": "stream",
     "text": [
      "\n"
     ]
    },
    {
     "data": {
      "application/vnd.jupyter.widget-view+json": {
       "model_id": "07470f2d9b324d7d9dd801fea3cf0164",
       "version_major": 2,
       "version_minor": 0
      },
      "text/plain": [
       "HBox(children=(IntProgress(value=0, description='Evaluation iteration', max=6, style=ProgressStyle(description…"
      ]
     },
     "metadata": {},
     "output_type": "display_data"
    },
    {
     "name": "stdout",
     "output_type": "stream",
     "text": [
      "\n",
      "Loss history: [0.6063797970612844, 0.4430684943993886, 0.34838584065437317, 0.2993813951810201, 0.2680129408836365, 0.2480297933022181, 0.23315516610940298, 0.21830538660287857, 0.20367339750130972, 0.19177435586849848, 0.18002596000830332, 0.1708356315890948, 0.16365011284748712, 0.15577391038338342, 0.15119144320487976]\n",
      "Dev loss: 0.1452421322464943\n"
     ]
    },
    {
     "name": "stderr",
     "output_type": "stream",
     "text": [
      "\r",
      "Epoch:  16%|█▌        | 16/100 [01:50<09:40,  6.91s/it]"
     ]
    },
    {
     "data": {
      "application/vnd.jupyter.widget-view+json": {
       "model_id": "1adc21303bf248b3880f9c7e09e9d29d",
       "version_major": 2,
       "version_minor": 0
      },
      "text/plain": [
       "HBox(children=(IntProgress(value=0, description='Training iteration', max=29, style=ProgressStyle(description_…"
      ]
     },
     "metadata": {},
     "output_type": "display_data"
    },
    {
     "name": "stdout",
     "output_type": "stream",
     "text": [
      "\n"
     ]
    },
    {
     "data": {
      "application/vnd.jupyter.widget-view+json": {
       "model_id": "b03343a4af39401db9c2e1816fe6086a",
       "version_major": 2,
       "version_minor": 0
      },
      "text/plain": [
       "HBox(children=(IntProgress(value=0, description='Evaluation iteration', max=6, style=ProgressStyle(description…"
      ]
     },
     "metadata": {},
     "output_type": "display_data"
    },
    {
     "name": "stdout",
     "output_type": "stream",
     "text": [
      "\n",
      "Loss history: [0.6063797970612844, 0.4430684943993886, 0.34838584065437317, 0.2993813951810201, 0.2680129408836365, 0.2480297933022181, 0.23315516610940298, 0.21830538660287857, 0.20367339750130972, 0.19177435586849848, 0.18002596000830332, 0.1708356315890948, 0.16365011284748712, 0.15577391038338342, 0.15119144320487976, 0.1452421322464943]\n",
      "Dev loss: 0.1424237216512362\n"
     ]
    },
    {
     "name": "stderr",
     "output_type": "stream",
     "text": [
      "\r",
      "Epoch:  17%|█▋        | 17/100 [01:57<09:33,  6.91s/it]"
     ]
    },
    {
     "data": {
      "application/vnd.jupyter.widget-view+json": {
       "model_id": "3fa5fb2ec77e4ab0bec7f32696e4814d",
       "version_major": 2,
       "version_minor": 0
      },
      "text/plain": [
       "HBox(children=(IntProgress(value=0, description='Training iteration', max=29, style=ProgressStyle(description_…"
      ]
     },
     "metadata": {},
     "output_type": "display_data"
    },
    {
     "name": "stdout",
     "output_type": "stream",
     "text": [
      "\n"
     ]
    },
    {
     "data": {
      "application/vnd.jupyter.widget-view+json": {
       "model_id": "44807a8d447d44a2bd3c67d71ceab5bb",
       "version_major": 2,
       "version_minor": 0
      },
      "text/plain": [
       "HBox(children=(IntProgress(value=0, description='Evaluation iteration', max=6, style=ProgressStyle(description…"
      ]
     },
     "metadata": {},
     "output_type": "display_data"
    },
    {
     "name": "stdout",
     "output_type": "stream",
     "text": [
      "\n",
      "Loss history: [0.6063797970612844, 0.4430684943993886, 0.34838584065437317, 0.2993813951810201, 0.2680129408836365, 0.2480297933022181, 0.23315516610940298, 0.21830538660287857, 0.20367339750130972, 0.19177435586849848, 0.18002596000830332, 0.1708356315890948, 0.16365011284748712, 0.15577391038338342, 0.15119144320487976, 0.1452421322464943, 0.1424237216512362]\n",
      "Dev loss: 0.1370781809091568\n"
     ]
    },
    {
     "name": "stderr",
     "output_type": "stream",
     "text": [
      "\r",
      "Epoch:  18%|█▊        | 18/100 [02:04<09:26,  6.91s/it]"
     ]
    },
    {
     "data": {
      "application/vnd.jupyter.widget-view+json": {
       "model_id": "887b007417c94464a9fc8118cc255c5d",
       "version_major": 2,
       "version_minor": 0
      },
      "text/plain": [
       "HBox(children=(IntProgress(value=0, description='Training iteration', max=29, style=ProgressStyle(description_…"
      ]
     },
     "metadata": {},
     "output_type": "display_data"
    },
    {
     "name": "stdout",
     "output_type": "stream",
     "text": [
      "\n"
     ]
    },
    {
     "data": {
      "application/vnd.jupyter.widget-view+json": {
       "model_id": "85ce65a0e4d84f2784b3c0771bf233e1",
       "version_major": 2,
       "version_minor": 0
      },
      "text/plain": [
       "HBox(children=(IntProgress(value=0, description='Evaluation iteration', max=6, style=ProgressStyle(description…"
      ]
     },
     "metadata": {},
     "output_type": "display_data"
    },
    {
     "name": "stdout",
     "output_type": "stream",
     "text": [
      "\n",
      "Loss history: [0.6063797970612844, 0.4430684943993886, 0.34838584065437317, 0.2993813951810201, 0.2680129408836365, 0.2480297933022181, 0.23315516610940298, 0.21830538660287857, 0.20367339750130972, 0.19177435586849848, 0.18002596000830332, 0.1708356315890948, 0.16365011284748712, 0.15577391038338342, 0.15119144320487976, 0.1452421322464943, 0.1424237216512362, 0.1370781809091568]\n",
      "Dev loss: 0.13258896519740423\n"
     ]
    },
    {
     "name": "stderr",
     "output_type": "stream",
     "text": [
      "\r",
      "Epoch:  19%|█▉        | 19/100 [02:11<09:19,  6.91s/it]"
     ]
    },
    {
     "data": {
      "application/vnd.jupyter.widget-view+json": {
       "model_id": "5e8e68abdaee44478869033999e948ce",
       "version_major": 2,
       "version_minor": 0
      },
      "text/plain": [
       "HBox(children=(IntProgress(value=0, description='Training iteration', max=29, style=ProgressStyle(description_…"
      ]
     },
     "metadata": {},
     "output_type": "display_data"
    },
    {
     "name": "stdout",
     "output_type": "stream",
     "text": [
      "\n"
     ]
    },
    {
     "data": {
      "application/vnd.jupyter.widget-view+json": {
       "model_id": "0f0643dddf2c44fc809876d1b883eb4b",
       "version_major": 2,
       "version_minor": 0
      },
      "text/plain": [
       "HBox(children=(IntProgress(value=0, description='Evaluation iteration', max=6, style=ProgressStyle(description…"
      ]
     },
     "metadata": {},
     "output_type": "display_data"
    },
    {
     "name": "stdout",
     "output_type": "stream",
     "text": [
      "\n",
      "Loss history: [0.6063797970612844, 0.4430684943993886, 0.34838584065437317, 0.2993813951810201, 0.2680129408836365, 0.2480297933022181, 0.23315516610940298, 0.21830538660287857, 0.20367339750130972, 0.19177435586849848, 0.18002596000830332, 0.1708356315890948, 0.16365011284748712, 0.15577391038338342, 0.15119144320487976, 0.1452421322464943, 0.1424237216512362, 0.1370781809091568, 0.13258896519740423]\n",
      "Dev loss: 0.131445050239563\n"
     ]
    },
    {
     "name": "stderr",
     "output_type": "stream",
     "text": [
      "\r",
      "Epoch:  20%|██        | 20/100 [02:18<09:12,  6.91s/it]"
     ]
    },
    {
     "data": {
      "application/vnd.jupyter.widget-view+json": {
       "model_id": "8494108f8c19424d926b52df79abe5ab",
       "version_major": 2,
       "version_minor": 0
      },
      "text/plain": [
       "HBox(children=(IntProgress(value=0, description='Training iteration', max=29, style=ProgressStyle(description_…"
      ]
     },
     "metadata": {},
     "output_type": "display_data"
    },
    {
     "name": "stdout",
     "output_type": "stream",
     "text": [
      "\n"
     ]
    },
    {
     "data": {
      "application/vnd.jupyter.widget-view+json": {
       "model_id": "5523ce09ceab4191905268b6d0112264",
       "version_major": 2,
       "version_minor": 0
      },
      "text/plain": [
       "HBox(children=(IntProgress(value=0, description='Evaluation iteration', max=6, style=ProgressStyle(description…"
      ]
     },
     "metadata": {},
     "output_type": "display_data"
    },
    {
     "name": "stdout",
     "output_type": "stream",
     "text": [
      "\n",
      "Loss history: [0.6063797970612844, 0.4430684943993886, 0.34838584065437317, 0.2993813951810201, 0.2680129408836365, 0.2480297933022181, 0.23315516610940298, 0.21830538660287857, 0.20367339750130972, 0.19177435586849848, 0.18002596000830332, 0.1708356315890948, 0.16365011284748712, 0.15577391038338342, 0.15119144320487976, 0.1452421322464943, 0.1424237216512362, 0.1370781809091568, 0.13258896519740423, 0.131445050239563]\n",
      "Dev loss: 0.12771031384666762\n"
     ]
    },
    {
     "name": "stderr",
     "output_type": "stream",
     "text": [
      "\r",
      "Epoch:  21%|██        | 21/100 [02:24<09:05,  6.91s/it]"
     ]
    },
    {
     "data": {
      "application/vnd.jupyter.widget-view+json": {
       "model_id": "1e6b86a2f6d44766b5e158f5f02e6c27",
       "version_major": 2,
       "version_minor": 0
      },
      "text/plain": [
       "HBox(children=(IntProgress(value=0, description='Training iteration', max=29, style=ProgressStyle(description_…"
      ]
     },
     "metadata": {},
     "output_type": "display_data"
    },
    {
     "name": "stdout",
     "output_type": "stream",
     "text": [
      "\n"
     ]
    },
    {
     "data": {
      "application/vnd.jupyter.widget-view+json": {
       "model_id": "26b5da4f0dab4364aae7e8f84882a7e7",
       "version_major": 2,
       "version_minor": 0
      },
      "text/plain": [
       "HBox(children=(IntProgress(value=0, description='Evaluation iteration', max=6, style=ProgressStyle(description…"
      ]
     },
     "metadata": {},
     "output_type": "display_data"
    },
    {
     "name": "stdout",
     "output_type": "stream",
     "text": [
      "\n",
      "Loss history: [0.6063797970612844, 0.4430684943993886, 0.34838584065437317, 0.2993813951810201, 0.2680129408836365, 0.2480297933022181, 0.23315516610940298, 0.21830538660287857, 0.20367339750130972, 0.19177435586849848, 0.18002596000830332, 0.1708356315890948, 0.16365011284748712, 0.15577391038338342, 0.15119144320487976, 0.1452421322464943, 0.1424237216512362, 0.1370781809091568, 0.13258896519740423, 0.131445050239563, 0.12771031384666762]\n",
      "Dev loss: 0.12630400309960046\n"
     ]
    },
    {
     "name": "stderr",
     "output_type": "stream",
     "text": [
      "\r",
      "Epoch:  22%|██▏       | 22/100 [02:31<08:58,  6.91s/it]"
     ]
    },
    {
     "data": {
      "application/vnd.jupyter.widget-view+json": {
       "model_id": "f05687c9bb5a4ca8a64e0e96e7e2bcf0",
       "version_major": 2,
       "version_minor": 0
      },
      "text/plain": [
       "HBox(children=(IntProgress(value=0, description='Training iteration', max=29, style=ProgressStyle(description_…"
      ]
     },
     "metadata": {},
     "output_type": "display_data"
    },
    {
     "name": "stdout",
     "output_type": "stream",
     "text": [
      "\n"
     ]
    },
    {
     "data": {
      "application/vnd.jupyter.widget-view+json": {
       "model_id": "2118571e2d684a9f9eea7f5d7ba73a36",
       "version_major": 2,
       "version_minor": 0
      },
      "text/plain": [
       "HBox(children=(IntProgress(value=0, description='Evaluation iteration', max=6, style=ProgressStyle(description…"
      ]
     },
     "metadata": {},
     "output_type": "display_data"
    },
    {
     "name": "stdout",
     "output_type": "stream",
     "text": [
      "\n",
      "Loss history: [0.6063797970612844, 0.4430684943993886, 0.34838584065437317, 0.2993813951810201, 0.2680129408836365, 0.2480297933022181, 0.23315516610940298, 0.21830538660287857, 0.20367339750130972, 0.19177435586849848, 0.18002596000830332, 0.1708356315890948, 0.16365011284748712, 0.15577391038338342, 0.15119144320487976, 0.1452421322464943, 0.1424237216512362, 0.1370781809091568, 0.13258896519740423, 0.131445050239563, 0.12771031384666762, 0.12630400309960046]\n",
      "Dev loss: 0.12201684340834618\n"
     ]
    },
    {
     "name": "stderr",
     "output_type": "stream",
     "text": [
      "\r",
      "Epoch:  23%|██▎       | 23/100 [02:38<08:51,  6.91s/it]"
     ]
    },
    {
     "data": {
      "application/vnd.jupyter.widget-view+json": {
       "model_id": "fce71689a6884bfe827720601653072d",
       "version_major": 2,
       "version_minor": 0
      },
      "text/plain": [
       "HBox(children=(IntProgress(value=0, description='Training iteration', max=29, style=ProgressStyle(description_…"
      ]
     },
     "metadata": {},
     "output_type": "display_data"
    },
    {
     "name": "stdout",
     "output_type": "stream",
     "text": [
      "\n"
     ]
    },
    {
     "data": {
      "application/vnd.jupyter.widget-view+json": {
       "model_id": "9c1a11c65d41479f96f34acbe078e922",
       "version_major": 2,
       "version_minor": 0
      },
      "text/plain": [
       "HBox(children=(IntProgress(value=0, description='Evaluation iteration', max=6, style=ProgressStyle(description…"
      ]
     },
     "metadata": {},
     "output_type": "display_data"
    },
    {
     "name": "stderr",
     "output_type": "stream",
     "text": [
      "\r",
      "Epoch:  24%|██▍       | 24/100 [02:45<08:34,  6.77s/it]"
     ]
    },
    {
     "name": "stdout",
     "output_type": "stream",
     "text": [
      "\n",
      "Loss history: [0.6063797970612844, 0.4430684943993886, 0.34838584065437317, 0.2993813951810201, 0.2680129408836365, 0.2480297933022181, 0.23315516610940298, 0.21830538660287857, 0.20367339750130972, 0.19177435586849848, 0.18002596000830332, 0.1708356315890948, 0.16365011284748712, 0.15577391038338342, 0.15119144320487976, 0.1452421322464943, 0.1424237216512362, 0.1370781809091568, 0.13258896519740423, 0.131445050239563, 0.12771031384666762, 0.12630400309960046, 0.12201684340834618]\n",
      "Dev loss: 0.1251875969270865\n"
     ]
    },
    {
     "data": {
      "application/vnd.jupyter.widget-view+json": {
       "model_id": "980dadf1089e41b8ab22fc08cec88533",
       "version_major": 2,
       "version_minor": 0
      },
      "text/plain": [
       "HBox(children=(IntProgress(value=0, description='Training iteration', max=29, style=ProgressStyle(description_…"
      ]
     },
     "metadata": {},
     "output_type": "display_data"
    },
    {
     "name": "stdout",
     "output_type": "stream",
     "text": [
      "\n"
     ]
    },
    {
     "data": {
      "application/vnd.jupyter.widget-view+json": {
       "model_id": "714059bc299641b78ef9700e755fa4e4",
       "version_major": 2,
       "version_minor": 0
      },
      "text/plain": [
       "HBox(children=(IntProgress(value=0, description='Evaluation iteration', max=6, style=ProgressStyle(description…"
      ]
     },
     "metadata": {},
     "output_type": "display_data"
    },
    {
     "name": "stdout",
     "output_type": "stream",
     "text": [
      "\n",
      "Loss history: [0.6063797970612844, 0.4430684943993886, 0.34838584065437317, 0.2993813951810201, 0.2680129408836365, 0.2480297933022181, 0.23315516610940298, 0.21830538660287857, 0.20367339750130972, 0.19177435586849848, 0.18002596000830332, 0.1708356315890948, 0.16365011284748712, 0.15577391038338342, 0.15119144320487976, 0.1452421322464943, 0.1424237216512362, 0.1370781809091568, 0.13258896519740423, 0.131445050239563, 0.12771031384666762, 0.12630400309960046, 0.12201684340834618, 0.1251875969270865]\n",
      "Dev loss: 0.11935119827588399\n"
     ]
    },
    {
     "name": "stderr",
     "output_type": "stream",
     "text": [
      "\r",
      "Epoch:  25%|██▌       | 25/100 [02:52<08:31,  6.81s/it]"
     ]
    },
    {
     "data": {
      "application/vnd.jupyter.widget-view+json": {
       "model_id": "9f2c0fc4a0014c1e82a9fc20c01bae5c",
       "version_major": 2,
       "version_minor": 0
      },
      "text/plain": [
       "HBox(children=(IntProgress(value=0, description='Training iteration', max=29, style=ProgressStyle(description_…"
      ]
     },
     "metadata": {},
     "output_type": "display_data"
    },
    {
     "name": "stdout",
     "output_type": "stream",
     "text": [
      "\n"
     ]
    },
    {
     "data": {
      "application/vnd.jupyter.widget-view+json": {
       "model_id": "721b56dc538848a4a858be0e0bfd2270",
       "version_major": 2,
       "version_minor": 0
      },
      "text/plain": [
       "HBox(children=(IntProgress(value=0, description='Evaluation iteration', max=6, style=ProgressStyle(description…"
      ]
     },
     "metadata": {},
     "output_type": "display_data"
    },
    {
     "name": "stdout",
     "output_type": "stream",
     "text": [
      "\n",
      "Loss history: [0.6063797970612844, 0.4430684943993886, 0.34838584065437317, 0.2993813951810201, 0.2680129408836365, 0.2480297933022181, 0.23315516610940298, 0.21830538660287857, 0.20367339750130972, 0.19177435586849848, 0.18002596000830332, 0.1708356315890948, 0.16365011284748712, 0.15577391038338342, 0.15119144320487976, 0.1452421322464943, 0.1424237216512362, 0.1370781809091568, 0.13258896519740423, 0.131445050239563, 0.12771031384666762, 0.12630400309960046, 0.12201684340834618, 0.1251875969270865, 0.11935119827588399]\n",
      "Dev loss: 0.11456630006432533\n"
     ]
    },
    {
     "name": "stderr",
     "output_type": "stream",
     "text": [
      "\r",
      "Epoch:  26%|██▌       | 26/100 [02:59<08:26,  6.84s/it]"
     ]
    },
    {
     "data": {
      "application/vnd.jupyter.widget-view+json": {
       "model_id": "3c2fff95cc184ce5b3c7900022666524",
       "version_major": 2,
       "version_minor": 0
      },
      "text/plain": [
       "HBox(children=(IntProgress(value=0, description='Training iteration', max=29, style=ProgressStyle(description_…"
      ]
     },
     "metadata": {},
     "output_type": "display_data"
    },
    {
     "name": "stdout",
     "output_type": "stream",
     "text": [
      "\n"
     ]
    },
    {
     "data": {
      "application/vnd.jupyter.widget-view+json": {
       "model_id": "f8df8d64b5dc4b10a707c2a94ff5ea7a",
       "version_major": 2,
       "version_minor": 0
      },
      "text/plain": [
       "HBox(children=(IntProgress(value=0, description='Evaluation iteration', max=6, style=ProgressStyle(description…"
      ]
     },
     "metadata": {},
     "output_type": "display_data"
    },
    {
     "name": "stderr",
     "output_type": "stream",
     "text": [
      "\r",
      "Epoch:  27%|██▋       | 27/100 [03:05<08:11,  6.73s/it]"
     ]
    },
    {
     "name": "stdout",
     "output_type": "stream",
     "text": [
      "\n",
      "Loss history: [0.6063797970612844, 0.4430684943993886, 0.34838584065437317, 0.2993813951810201, 0.2680129408836365, 0.2480297933022181, 0.23315516610940298, 0.21830538660287857, 0.20367339750130972, 0.19177435586849848, 0.18002596000830332, 0.1708356315890948, 0.16365011284748712, 0.15577391038338342, 0.15119144320487976, 0.1452421322464943, 0.1424237216512362, 0.1370781809091568, 0.13258896519740423, 0.131445050239563, 0.12771031384666762, 0.12630400309960046, 0.12201684340834618, 0.1251875969270865, 0.11935119827588399, 0.11456630006432533]\n",
      "Dev loss: 0.11606102188428243\n"
     ]
    },
    {
     "data": {
      "application/vnd.jupyter.widget-view+json": {
       "model_id": "2798bd6280ec42c9a310f1ea0d281554",
       "version_major": 2,
       "version_minor": 0
      },
      "text/plain": [
       "HBox(children=(IntProgress(value=0, description='Training iteration', max=29, style=ProgressStyle(description_…"
      ]
     },
     "metadata": {},
     "output_type": "display_data"
    },
    {
     "name": "stdout",
     "output_type": "stream",
     "text": [
      "\n"
     ]
    },
    {
     "data": {
      "application/vnd.jupyter.widget-view+json": {
       "model_id": "14975f67214c4b6b8b7dab5479e8e337",
       "version_major": 2,
       "version_minor": 0
      },
      "text/plain": [
       "HBox(children=(IntProgress(value=0, description='Evaluation iteration', max=6, style=ProgressStyle(description…"
      ]
     },
     "metadata": {},
     "output_type": "display_data"
    },
    {
     "name": "stderr",
     "output_type": "stream",
     "text": [
      "\r",
      "Epoch:  28%|██▊       | 28/100 [03:11<07:58,  6.65s/it]"
     ]
    },
    {
     "name": "stdout",
     "output_type": "stream",
     "text": [
      "\n",
      "Loss history: [0.6063797970612844, 0.4430684943993886, 0.34838584065437317, 0.2993813951810201, 0.2680129408836365, 0.2480297933022181, 0.23315516610940298, 0.21830538660287857, 0.20367339750130972, 0.19177435586849848, 0.18002596000830332, 0.1708356315890948, 0.16365011284748712, 0.15577391038338342, 0.15119144320487976, 0.1452421322464943, 0.1424237216512362, 0.1370781809091568, 0.13258896519740423, 0.131445050239563, 0.12771031384666762, 0.12630400309960046, 0.12201684340834618, 0.1251875969270865, 0.11935119827588399, 0.11456630006432533, 0.11606102188428243]\n",
      "Dev loss: 0.11616700390974681\n"
     ]
    },
    {
     "data": {
      "application/vnd.jupyter.widget-view+json": {
       "model_id": "91a414990cdb4cd5b76a57a3685af2aa",
       "version_major": 2,
       "version_minor": 0
      },
      "text/plain": [
       "HBox(children=(IntProgress(value=0, description='Training iteration', max=29, style=ProgressStyle(description_…"
      ]
     },
     "metadata": {},
     "output_type": "display_data"
    },
    {
     "name": "stdout",
     "output_type": "stream",
     "text": [
      "\n"
     ]
    },
    {
     "data": {
      "application/vnd.jupyter.widget-view+json": {
       "model_id": "553df323ace74192aff7de0ef35f0bf3",
       "version_major": 2,
       "version_minor": 0
      },
      "text/plain": [
       "HBox(children=(IntProgress(value=0, description='Evaluation iteration', max=6, style=ProgressStyle(description…"
      ]
     },
     "metadata": {},
     "output_type": "display_data"
    },
    {
     "name": "stdout",
     "output_type": "stream",
     "text": [
      "\n",
      "Loss history: [0.6063797970612844, 0.4430684943993886, 0.34838584065437317, 0.2993813951810201, 0.2680129408836365, 0.2480297933022181, 0.23315516610940298, 0.21830538660287857, 0.20367339750130972, 0.19177435586849848, 0.18002596000830332, 0.1708356315890948, 0.16365011284748712, 0.15577391038338342, 0.15119144320487976, 0.1452421322464943, 0.1424237216512362, 0.1370781809091568, 0.13258896519740423, 0.131445050239563, 0.12771031384666762, 0.12630400309960046, 0.12201684340834618, 0.1251875969270865, 0.11935119827588399, 0.11456630006432533, 0.11606102188428243, 0.11616700390974681]\n",
      "Dev loss: 0.11212937906384468\n"
     ]
    },
    {
     "name": "stderr",
     "output_type": "stream",
     "text": [
      "\r",
      "Epoch:  29%|██▉       | 29/100 [03:18<07:57,  6.73s/it]"
     ]
    },
    {
     "data": {
      "application/vnd.jupyter.widget-view+json": {
       "model_id": "8cb1018461c040f9947ad052d22a03c5",
       "version_major": 2,
       "version_minor": 0
      },
      "text/plain": [
       "HBox(children=(IntProgress(value=0, description='Training iteration', max=29, style=ProgressStyle(description_…"
      ]
     },
     "metadata": {},
     "output_type": "display_data"
    },
    {
     "name": "stdout",
     "output_type": "stream",
     "text": [
      "\n"
     ]
    },
    {
     "data": {
      "application/vnd.jupyter.widget-view+json": {
       "model_id": "e5cdfd2fd8474c37b2a7d2d30026e630",
       "version_major": 2,
       "version_minor": 0
      },
      "text/plain": [
       "HBox(children=(IntProgress(value=0, description='Evaluation iteration', max=6, style=ProgressStyle(description…"
      ]
     },
     "metadata": {},
     "output_type": "display_data"
    },
    {
     "name": "stderr",
     "output_type": "stream",
     "text": [
      "\r",
      "Epoch:  30%|███       | 30/100 [03:25<07:45,  6.65s/it]"
     ]
    },
    {
     "name": "stdout",
     "output_type": "stream",
     "text": [
      "\n",
      "Loss history: [0.6063797970612844, 0.4430684943993886, 0.34838584065437317, 0.2993813951810201, 0.2680129408836365, 0.2480297933022181, 0.23315516610940298, 0.21830538660287857, 0.20367339750130972, 0.19177435586849848, 0.18002596000830332, 0.1708356315890948, 0.16365011284748712, 0.15577391038338342, 0.15119144320487976, 0.1452421322464943, 0.1424237216512362, 0.1370781809091568, 0.13258896519740423, 0.131445050239563, 0.12771031384666762, 0.12630400309960046, 0.12201684340834618, 0.1251875969270865, 0.11935119827588399, 0.11456630006432533, 0.11606102188428243, 0.11616700390974681, 0.11212937906384468]\n",
      "Dev loss: 0.11368871852755547\n"
     ]
    },
    {
     "data": {
      "application/vnd.jupyter.widget-view+json": {
       "model_id": "6364420aee3a457f9db680dc42b74b58",
       "version_major": 2,
       "version_minor": 0
      },
      "text/plain": [
       "HBox(children=(IntProgress(value=0, description='Training iteration', max=29, style=ProgressStyle(description_…"
      ]
     },
     "metadata": {},
     "output_type": "display_data"
    },
    {
     "name": "stdout",
     "output_type": "stream",
     "text": [
      "\n"
     ]
    },
    {
     "data": {
      "application/vnd.jupyter.widget-view+json": {
       "model_id": "194d3bbf403b460b89be651bd724282a",
       "version_major": 2,
       "version_minor": 0
      },
      "text/plain": [
       "HBox(children=(IntProgress(value=0, description='Evaluation iteration', max=6, style=ProgressStyle(description…"
      ]
     },
     "metadata": {},
     "output_type": "display_data"
    },
    {
     "name": "stderr",
     "output_type": "stream",
     "text": [
      "\r",
      "Epoch:  31%|███       | 31/100 [03:31<07:34,  6.59s/it]"
     ]
    },
    {
     "name": "stdout",
     "output_type": "stream",
     "text": [
      "\n",
      "Loss history: [0.6063797970612844, 0.4430684943993886, 0.34838584065437317, 0.2993813951810201, 0.2680129408836365, 0.2480297933022181, 0.23315516610940298, 0.21830538660287857, 0.20367339750130972, 0.19177435586849848, 0.18002596000830332, 0.1708356315890948, 0.16365011284748712, 0.15577391038338342, 0.15119144320487976, 0.1452421322464943, 0.1424237216512362, 0.1370781809091568, 0.13258896519740423, 0.131445050239563, 0.12771031384666762, 0.12630400309960046, 0.12201684340834618, 0.1251875969270865, 0.11935119827588399, 0.11456630006432533, 0.11606102188428243, 0.11616700390974681, 0.11212937906384468, 0.11368871852755547]\n",
      "Dev loss: 0.11232185612122218\n"
     ]
    },
    {
     "data": {
      "application/vnd.jupyter.widget-view+json": {
       "model_id": "c1e6bc8778da40e39e05d37f282c2a20",
       "version_major": 2,
       "version_minor": 0
      },
      "text/plain": [
       "HBox(children=(IntProgress(value=0, description='Training iteration', max=29, style=ProgressStyle(description_…"
      ]
     },
     "metadata": {},
     "output_type": "display_data"
    },
    {
     "name": "stdout",
     "output_type": "stream",
     "text": [
      "\n"
     ]
    },
    {
     "data": {
      "application/vnd.jupyter.widget-view+json": {
       "model_id": "b9becfe2cb08449da87180a57a55dc97",
       "version_major": 2,
       "version_minor": 0
      },
      "text/plain": [
       "HBox(children=(IntProgress(value=0, description='Evaluation iteration', max=6, style=ProgressStyle(description…"
      ]
     },
     "metadata": {},
     "output_type": "display_data"
    },
    {
     "name": "stdout",
     "output_type": "stream",
     "text": [
      "\n",
      "Loss history: [0.6063797970612844, 0.4430684943993886, 0.34838584065437317, 0.2993813951810201, 0.2680129408836365, 0.2480297933022181, 0.23315516610940298, 0.21830538660287857, 0.20367339750130972, 0.19177435586849848, 0.18002596000830332, 0.1708356315890948, 0.16365011284748712, 0.15577391038338342, 0.15119144320487976, 0.1452421322464943, 0.1424237216512362, 0.1370781809091568, 0.13258896519740423, 0.131445050239563, 0.12771031384666762, 0.12630400309960046, 0.12201684340834618, 0.1251875969270865, 0.11935119827588399, 0.11456630006432533, 0.11606102188428243, 0.11616700390974681, 0.11212937906384468, 0.11368871852755547, 0.11232185612122218]\n",
      "Dev loss: 0.11014917244513829\n"
     ]
    },
    {
     "name": "stderr",
     "output_type": "stream",
     "text": [
      "\r",
      "Epoch:  32%|███▏      | 32/100 [03:38<07:34,  6.68s/it]"
     ]
    },
    {
     "data": {
      "application/vnd.jupyter.widget-view+json": {
       "model_id": "0894878211bf4ea49fc1cc10142f98b7",
       "version_major": 2,
       "version_minor": 0
      },
      "text/plain": [
       "HBox(children=(IntProgress(value=0, description='Training iteration', max=29, style=ProgressStyle(description_…"
      ]
     },
     "metadata": {},
     "output_type": "display_data"
    },
    {
     "name": "stdout",
     "output_type": "stream",
     "text": [
      "\n"
     ]
    },
    {
     "data": {
      "application/vnd.jupyter.widget-view+json": {
       "model_id": "4e587839d80f47fc945b0764235c534a",
       "version_major": 2,
       "version_minor": 0
      },
      "text/plain": [
       "HBox(children=(IntProgress(value=0, description='Evaluation iteration', max=6, style=ProgressStyle(description…"
      ]
     },
     "metadata": {},
     "output_type": "display_data"
    },
    {
     "name": "stdout",
     "output_type": "stream",
     "text": [
      "\n",
      "Loss history: [0.6063797970612844, 0.4430684943993886, 0.34838584065437317, 0.2993813951810201, 0.2680129408836365, 0.2480297933022181, 0.23315516610940298, 0.21830538660287857, 0.20367339750130972, 0.19177435586849848, 0.18002596000830332, 0.1708356315890948, 0.16365011284748712, 0.15577391038338342, 0.15119144320487976, 0.1452421322464943, 0.1424237216512362, 0.1370781809091568, 0.13258896519740423, 0.131445050239563, 0.12771031384666762, 0.12630400309960046, 0.12201684340834618, 0.1251875969270865, 0.11935119827588399, 0.11456630006432533, 0.11606102188428243, 0.11616700390974681, 0.11212937906384468, 0.11368871852755547, 0.11232185612122218, 0.11014917244513829]\n",
      "Dev loss: 0.10988780111074448\n"
     ]
    },
    {
     "name": "stderr",
     "output_type": "stream",
     "text": [
      "\r",
      "Epoch:  33%|███▎      | 33/100 [03:45<07:32,  6.75s/it]"
     ]
    },
    {
     "data": {
      "application/vnd.jupyter.widget-view+json": {
       "model_id": "860dc253de97494e80823ec8c2429930",
       "version_major": 2,
       "version_minor": 0
      },
      "text/plain": [
       "HBox(children=(IntProgress(value=0, description='Training iteration', max=29, style=ProgressStyle(description_…"
      ]
     },
     "metadata": {},
     "output_type": "display_data"
    },
    {
     "name": "stdout",
     "output_type": "stream",
     "text": [
      "\n"
     ]
    },
    {
     "data": {
      "application/vnd.jupyter.widget-view+json": {
       "model_id": "968e7910f30643d597ddebc4e713db19",
       "version_major": 2,
       "version_minor": 0
      },
      "text/plain": [
       "HBox(children=(IntProgress(value=0, description='Evaluation iteration', max=6, style=ProgressStyle(description…"
      ]
     },
     "metadata": {},
     "output_type": "display_data"
    },
    {
     "name": "stdout",
     "output_type": "stream",
     "text": [
      "\n",
      "Loss history: [0.6063797970612844, 0.4430684943993886, 0.34838584065437317, 0.2993813951810201, 0.2680129408836365, 0.2480297933022181, 0.23315516610940298, 0.21830538660287857, 0.20367339750130972, 0.19177435586849848, 0.18002596000830332, 0.1708356315890948, 0.16365011284748712, 0.15577391038338342, 0.15119144320487976, 0.1452421322464943, 0.1424237216512362, 0.1370781809091568, 0.13258896519740423, 0.131445050239563, 0.12771031384666762, 0.12630400309960046, 0.12201684340834618, 0.1251875969270865, 0.11935119827588399, 0.11456630006432533, 0.11606102188428243, 0.11616700390974681, 0.11212937906384468, 0.11368871852755547, 0.11232185612122218, 0.11014917244513829, 0.10988780111074448]\n",
      "Dev loss: 0.10884868974486987\n"
     ]
    },
    {
     "name": "stderr",
     "output_type": "stream",
     "text": [
      "\r",
      "Epoch:  34%|███▍      | 34/100 [03:52<07:28,  6.80s/it]"
     ]
    },
    {
     "data": {
      "application/vnd.jupyter.widget-view+json": {
       "model_id": "2c81ec130b044d2f95b251cdb7cdbb53",
       "version_major": 2,
       "version_minor": 0
      },
      "text/plain": [
       "HBox(children=(IntProgress(value=0, description='Training iteration', max=29, style=ProgressStyle(description_…"
      ]
     },
     "metadata": {},
     "output_type": "display_data"
    },
    {
     "name": "stdout",
     "output_type": "stream",
     "text": [
      "\n"
     ]
    },
    {
     "data": {
      "application/vnd.jupyter.widget-view+json": {
       "model_id": "e3ce3b1d430941f7ba5319bbb05b31e7",
       "version_major": 2,
       "version_minor": 0
      },
      "text/plain": [
       "HBox(children=(IntProgress(value=0, description='Evaluation iteration', max=6, style=ProgressStyle(description…"
      ]
     },
     "metadata": {},
     "output_type": "display_data"
    },
    {
     "name": "stdout",
     "output_type": "stream",
     "text": [
      "\n",
      "Loss history: [0.6063797970612844, 0.4430684943993886, 0.34838584065437317, 0.2993813951810201, 0.2680129408836365, 0.2480297933022181, 0.23315516610940298, 0.21830538660287857, 0.20367339750130972, 0.19177435586849848, 0.18002596000830332, 0.1708356315890948, 0.16365011284748712, 0.15577391038338342, 0.15119144320487976, 0.1452421322464943, 0.1424237216512362, 0.1370781809091568, 0.13258896519740423, 0.131445050239563, 0.12771031384666762, 0.12630400309960046, 0.12201684340834618, 0.1251875969270865, 0.11935119827588399, 0.11456630006432533, 0.11606102188428243, 0.11616700390974681, 0.11212937906384468, 0.11368871852755547, 0.11232185612122218, 0.11014917244513829, 0.10988780111074448, 0.10884868974486987]\n",
      "Dev loss: 0.1075655755897363\n"
     ]
    },
    {
     "name": "stderr",
     "output_type": "stream",
     "text": [
      "\r",
      "Epoch:  35%|███▌      | 35/100 [03:59<07:24,  6.83s/it]"
     ]
    },
    {
     "data": {
      "application/vnd.jupyter.widget-view+json": {
       "model_id": "19a8451485e747389e8a9cb055208c8b",
       "version_major": 2,
       "version_minor": 0
      },
      "text/plain": [
       "HBox(children=(IntProgress(value=0, description='Training iteration', max=29, style=ProgressStyle(description_…"
      ]
     },
     "metadata": {},
     "output_type": "display_data"
    },
    {
     "name": "stdout",
     "output_type": "stream",
     "text": [
      "\n"
     ]
    },
    {
     "data": {
      "application/vnd.jupyter.widget-view+json": {
       "model_id": "917eff6a9d214776851da2ce170cd418",
       "version_major": 2,
       "version_minor": 0
      },
      "text/plain": [
       "HBox(children=(IntProgress(value=0, description='Evaluation iteration', max=6, style=ProgressStyle(description…"
      ]
     },
     "metadata": {},
     "output_type": "display_data"
    },
    {
     "name": "stderr",
     "output_type": "stream",
     "text": [
      "\r",
      "Epoch:  36%|███▌      | 36/100 [04:05<07:09,  6.72s/it]"
     ]
    },
    {
     "name": "stdout",
     "output_type": "stream",
     "text": [
      "\n",
      "Loss history: [0.6063797970612844, 0.4430684943993886, 0.34838584065437317, 0.2993813951810201, 0.2680129408836365, 0.2480297933022181, 0.23315516610940298, 0.21830538660287857, 0.20367339750130972, 0.19177435586849848, 0.18002596000830332, 0.1708356315890948, 0.16365011284748712, 0.15577391038338342, 0.15119144320487976, 0.1452421322464943, 0.1424237216512362, 0.1370781809091568, 0.13258896519740423, 0.131445050239563, 0.12771031384666762, 0.12630400309960046, 0.12201684340834618, 0.1251875969270865, 0.11935119827588399, 0.11456630006432533, 0.11606102188428243, 0.11616700390974681, 0.11212937906384468, 0.11368871852755547, 0.11232185612122218, 0.11014917244513829, 0.10988780111074448, 0.10884868974486987, 0.1075655755897363]\n",
      "Dev loss: 0.10782802974184354\n"
     ]
    },
    {
     "data": {
      "application/vnd.jupyter.widget-view+json": {
       "model_id": "3b3a2077dd124f1fbd954bc5e6ceae9b",
       "version_major": 2,
       "version_minor": 0
      },
      "text/plain": [
       "HBox(children=(IntProgress(value=0, description='Training iteration', max=29, style=ProgressStyle(description_…"
      ]
     },
     "metadata": {},
     "output_type": "display_data"
    },
    {
     "name": "stdout",
     "output_type": "stream",
     "text": [
      "\n"
     ]
    },
    {
     "data": {
      "application/vnd.jupyter.widget-view+json": {
       "model_id": "3cee0b82500c42c2a9cfe157c5b77562",
       "version_major": 2,
       "version_minor": 0
      },
      "text/plain": [
       "HBox(children=(IntProgress(value=0, description='Evaluation iteration', max=6, style=ProgressStyle(description…"
      ]
     },
     "metadata": {},
     "output_type": "display_data"
    },
    {
     "name": "stdout",
     "output_type": "stream",
     "text": [
      "\n",
      "Loss history: [0.6063797970612844, 0.4430684943993886, 0.34838584065437317, 0.2993813951810201, 0.2680129408836365, 0.2480297933022181, 0.23315516610940298, 0.21830538660287857, 0.20367339750130972, 0.19177435586849848, 0.18002596000830332, 0.1708356315890948, 0.16365011284748712, 0.15577391038338342, 0.15119144320487976, 0.1452421322464943, 0.1424237216512362, 0.1370781809091568, 0.13258896519740423, 0.131445050239563, 0.12771031384666762, 0.12630400309960046, 0.12201684340834618, 0.1251875969270865, 0.11935119827588399, 0.11456630006432533, 0.11606102188428243, 0.11616700390974681, 0.11212937906384468, 0.11368871852755547, 0.11232185612122218, 0.11014917244513829, 0.10988780111074448, 0.10884868974486987, 0.1075655755897363, 0.10782802974184354]\n",
      "Dev loss: 0.10494858274857204\n"
     ]
    },
    {
     "name": "stderr",
     "output_type": "stream",
     "text": [
      "\r",
      "Epoch:  37%|███▋      | 37/100 [04:12<07:06,  6.78s/it]"
     ]
    },
    {
     "data": {
      "application/vnd.jupyter.widget-view+json": {
       "model_id": "353a1e66682849ca8885f80d8107fe75",
       "version_major": 2,
       "version_minor": 0
      },
      "text/plain": [
       "HBox(children=(IntProgress(value=0, description='Training iteration', max=29, style=ProgressStyle(description_…"
      ]
     },
     "metadata": {},
     "output_type": "display_data"
    },
    {
     "name": "stdout",
     "output_type": "stream",
     "text": [
      "\n"
     ]
    },
    {
     "data": {
      "application/vnd.jupyter.widget-view+json": {
       "model_id": "8a74f7c216eb4c52a863739647953cd6",
       "version_major": 2,
       "version_minor": 0
      },
      "text/plain": [
       "HBox(children=(IntProgress(value=0, description='Evaluation iteration', max=6, style=ProgressStyle(description…"
      ]
     },
     "metadata": {},
     "output_type": "display_data"
    },
    {
     "name": "stderr",
     "output_type": "stream",
     "text": [
      "\r",
      "Epoch:  38%|███▊      | 38/100 [04:19<06:54,  6.68s/it]"
     ]
    },
    {
     "name": "stdout",
     "output_type": "stream",
     "text": [
      "\n",
      "Loss history: [0.6063797970612844, 0.4430684943993886, 0.34838584065437317, 0.2993813951810201, 0.2680129408836365, 0.2480297933022181, 0.23315516610940298, 0.21830538660287857, 0.20367339750130972, 0.19177435586849848, 0.18002596000830332, 0.1708356315890948, 0.16365011284748712, 0.15577391038338342, 0.15119144320487976, 0.1452421322464943, 0.1424237216512362, 0.1370781809091568, 0.13258896519740423, 0.131445050239563, 0.12771031384666762, 0.12630400309960046, 0.12201684340834618, 0.1251875969270865, 0.11935119827588399, 0.11456630006432533, 0.11606102188428243, 0.11616700390974681, 0.11212937906384468, 0.11368871852755547, 0.11232185612122218, 0.11014917244513829, 0.10988780111074448, 0.10884868974486987, 0.1075655755897363, 0.10782802974184354, 0.10494858274857204]\n",
      "Dev loss: 0.10647786408662796\n"
     ]
    },
    {
     "data": {
      "application/vnd.jupyter.widget-view+json": {
       "model_id": "6439579caa084f308580bcb0a9a35f3f",
       "version_major": 2,
       "version_minor": 0
      },
      "text/plain": [
       "HBox(children=(IntProgress(value=0, description='Training iteration', max=29, style=ProgressStyle(description_…"
      ]
     },
     "metadata": {},
     "output_type": "display_data"
    },
    {
     "name": "stdout",
     "output_type": "stream",
     "text": [
      "\n"
     ]
    },
    {
     "data": {
      "application/vnd.jupyter.widget-view+json": {
       "model_id": "c11bdcbdbe4c4c40b19518d3e44e7463",
       "version_major": 2,
       "version_minor": 0
      },
      "text/plain": [
       "HBox(children=(IntProgress(value=0, description='Evaluation iteration', max=6, style=ProgressStyle(description…"
      ]
     },
     "metadata": {},
     "output_type": "display_data"
    },
    {
     "name": "stderr",
     "output_type": "stream",
     "text": [
      "\r",
      "Epoch:  39%|███▉      | 39/100 [04:25<06:43,  6.61s/it]"
     ]
    },
    {
     "name": "stdout",
     "output_type": "stream",
     "text": [
      "\n",
      "Loss history: [0.6063797970612844, 0.4430684943993886, 0.34838584065437317, 0.2993813951810201, 0.2680129408836365, 0.2480297933022181, 0.23315516610940298, 0.21830538660287857, 0.20367339750130972, 0.19177435586849848, 0.18002596000830332, 0.1708356315890948, 0.16365011284748712, 0.15577391038338342, 0.15119144320487976, 0.1452421322464943, 0.1424237216512362, 0.1370781809091568, 0.13258896519740423, 0.131445050239563, 0.12771031384666762, 0.12630400309960046, 0.12201684340834618, 0.1251875969270865, 0.11935119827588399, 0.11456630006432533, 0.11606102188428243, 0.11616700390974681, 0.11212937906384468, 0.11368871852755547, 0.11232185612122218, 0.11014917244513829, 0.10988780111074448, 0.10884868974486987, 0.1075655755897363, 0.10782802974184354, 0.10494858274857204, 0.10647786408662796]\n",
      "Dev loss: 0.10702131936947505\n"
     ]
    },
    {
     "data": {
      "application/vnd.jupyter.widget-view+json": {
       "model_id": "b259354cf8ae42a0b925e7181d60c8e0",
       "version_major": 2,
       "version_minor": 0
      },
      "text/plain": [
       "HBox(children=(IntProgress(value=0, description='Training iteration', max=29, style=ProgressStyle(description_…"
      ]
     },
     "metadata": {},
     "output_type": "display_data"
    },
    {
     "name": "stdout",
     "output_type": "stream",
     "text": [
      "\n"
     ]
    },
    {
     "data": {
      "application/vnd.jupyter.widget-view+json": {
       "model_id": "3990f71bdf6e4128beaf0875ea26e7a6",
       "version_major": 2,
       "version_minor": 0
      },
      "text/plain": [
       "HBox(children=(IntProgress(value=0, description='Evaluation iteration', max=6, style=ProgressStyle(description…"
      ]
     },
     "metadata": {},
     "output_type": "display_data"
    },
    {
     "name": "stdout",
     "output_type": "stream",
     "text": [
      "\n",
      "Loss history: [0.6063797970612844, 0.4430684943993886, 0.34838584065437317, 0.2993813951810201, 0.2680129408836365, 0.2480297933022181, 0.23315516610940298, 0.21830538660287857, 0.20367339750130972, 0.19177435586849848, 0.18002596000830332, 0.1708356315890948, 0.16365011284748712, 0.15577391038338342, 0.15119144320487976, 0.1452421322464943, 0.1424237216512362, 0.1370781809091568, 0.13258896519740423, 0.131445050239563, 0.12771031384666762, 0.12630400309960046, 0.12201684340834618, 0.1251875969270865, 0.11935119827588399, 0.11456630006432533, 0.11606102188428243, 0.11616700390974681, 0.11212937906384468, 0.11368871852755547, 0.11232185612122218, 0.11014917244513829, 0.10988780111074448, 0.10884868974486987, 0.1075655755897363, 0.10782802974184354, 0.10494858274857204, 0.10647786408662796, 0.10702131936947505]\n",
      "Dev loss: 0.09913409998019536\n"
     ]
    },
    {
     "name": "stderr",
     "output_type": "stream",
     "text": [
      "\r",
      "Epoch:  40%|████      | 40/100 [04:32<06:42,  6.70s/it]"
     ]
    },
    {
     "data": {
      "application/vnd.jupyter.widget-view+json": {
       "model_id": "89d8b927485c4b438d1a66cc7343cf37",
       "version_major": 2,
       "version_minor": 0
      },
      "text/plain": [
       "HBox(children=(IntProgress(value=0, description='Training iteration', max=29, style=ProgressStyle(description_…"
      ]
     },
     "metadata": {},
     "output_type": "display_data"
    },
    {
     "name": "stdout",
     "output_type": "stream",
     "text": [
      "\n"
     ]
    },
    {
     "data": {
      "application/vnd.jupyter.widget-view+json": {
       "model_id": "0c6c153b11684d389a0e7217aac10f6d",
       "version_major": 2,
       "version_minor": 0
      },
      "text/plain": [
       "HBox(children=(IntProgress(value=0, description='Evaluation iteration', max=6, style=ProgressStyle(description…"
      ]
     },
     "metadata": {},
     "output_type": "display_data"
    },
    {
     "name": "stderr",
     "output_type": "stream",
     "text": [
      "\r",
      "Epoch:  41%|████      | 41/100 [04:39<06:30,  6.63s/it]"
     ]
    },
    {
     "name": "stdout",
     "output_type": "stream",
     "text": [
      "\n",
      "Loss history: [0.6063797970612844, 0.4430684943993886, 0.34838584065437317, 0.2993813951810201, 0.2680129408836365, 0.2480297933022181, 0.23315516610940298, 0.21830538660287857, 0.20367339750130972, 0.19177435586849848, 0.18002596000830332, 0.1708356315890948, 0.16365011284748712, 0.15577391038338342, 0.15119144320487976, 0.1452421322464943, 0.1424237216512362, 0.1370781809091568, 0.13258896519740423, 0.131445050239563, 0.12771031384666762, 0.12630400309960046, 0.12201684340834618, 0.1251875969270865, 0.11935119827588399, 0.11456630006432533, 0.11606102188428243, 0.11616700390974681, 0.11212937906384468, 0.11368871852755547, 0.11232185612122218, 0.11014917244513829, 0.10988780111074448, 0.10884868974486987, 0.1075655755897363, 0.10782802974184354, 0.10494858274857204, 0.10647786408662796, 0.10702131936947505, 0.09913409998019536]\n",
      "Dev loss: 0.10386243090033531\n"
     ]
    },
    {
     "data": {
      "application/vnd.jupyter.widget-view+json": {
       "model_id": "cabd3b500c1b4acaabd1fd3cdc5beb28",
       "version_major": 2,
       "version_minor": 0
      },
      "text/plain": [
       "HBox(children=(IntProgress(value=0, description='Training iteration', max=29, style=ProgressStyle(description_…"
      ]
     },
     "metadata": {},
     "output_type": "display_data"
    },
    {
     "name": "stdout",
     "output_type": "stream",
     "text": [
      "\n"
     ]
    },
    {
     "data": {
      "application/vnd.jupyter.widget-view+json": {
       "model_id": "7f1b8543c46a4e559c26952ca780cd7a",
       "version_major": 2,
       "version_minor": 0
      },
      "text/plain": [
       "HBox(children=(IntProgress(value=0, description='Evaluation iteration', max=6, style=ProgressStyle(description…"
      ]
     },
     "metadata": {},
     "output_type": "display_data"
    },
    {
     "name": "stderr",
     "output_type": "stream",
     "text": [
      "\r",
      "Epoch:  42%|████▏     | 42/100 [04:45<06:21,  6.58s/it]"
     ]
    },
    {
     "name": "stdout",
     "output_type": "stream",
     "text": [
      "\n",
      "Loss history: [0.6063797970612844, 0.4430684943993886, 0.34838584065437317, 0.2993813951810201, 0.2680129408836365, 0.2480297933022181, 0.23315516610940298, 0.21830538660287857, 0.20367339750130972, 0.19177435586849848, 0.18002596000830332, 0.1708356315890948, 0.16365011284748712, 0.15577391038338342, 0.15119144320487976, 0.1452421322464943, 0.1424237216512362, 0.1370781809091568, 0.13258896519740423, 0.131445050239563, 0.12771031384666762, 0.12630400309960046, 0.12201684340834618, 0.1251875969270865, 0.11935119827588399, 0.11456630006432533, 0.11606102188428243, 0.11616700390974681, 0.11212937906384468, 0.11368871852755547, 0.11232185612122218, 0.11014917244513829, 0.10988780111074448, 0.10884868974486987, 0.1075655755897363, 0.10782802974184354, 0.10494858274857204, 0.10647786408662796, 0.10702131936947505, 0.09913409998019536, 0.10386243090033531]\n",
      "Dev loss: 0.1019996168712775\n"
     ]
    },
    {
     "data": {
      "application/vnd.jupyter.widget-view+json": {
       "model_id": "149685a009e441fd9f57e027906b8f1c",
       "version_major": 2,
       "version_minor": 0
      },
      "text/plain": [
       "HBox(children=(IntProgress(value=0, description='Training iteration', max=29, style=ProgressStyle(description_…"
      ]
     },
     "metadata": {},
     "output_type": "display_data"
    },
    {
     "name": "stdout",
     "output_type": "stream",
     "text": [
      "\n"
     ]
    },
    {
     "data": {
      "application/vnd.jupyter.widget-view+json": {
       "model_id": "a73d4ec5e5944db1855c05888e136e3b",
       "version_major": 2,
       "version_minor": 0
      },
      "text/plain": [
       "HBox(children=(IntProgress(value=0, description='Evaluation iteration', max=6, style=ProgressStyle(description…"
      ]
     },
     "metadata": {},
     "output_type": "display_data"
    },
    {
     "name": "stderr",
     "output_type": "stream",
     "text": [
      "\r",
      "Epoch:  43%|████▎     | 43/100 [04:51<06:12,  6.54s/it]"
     ]
    },
    {
     "name": "stdout",
     "output_type": "stream",
     "text": [
      "\n",
      "Loss history: [0.6063797970612844, 0.4430684943993886, 0.34838584065437317, 0.2993813951810201, 0.2680129408836365, 0.2480297933022181, 0.23315516610940298, 0.21830538660287857, 0.20367339750130972, 0.19177435586849848, 0.18002596000830332, 0.1708356315890948, 0.16365011284748712, 0.15577391038338342, 0.15119144320487976, 0.1452421322464943, 0.1424237216512362, 0.1370781809091568, 0.13258896519740423, 0.131445050239563, 0.12771031384666762, 0.12630400309960046, 0.12201684340834618, 0.1251875969270865, 0.11935119827588399, 0.11456630006432533, 0.11606102188428243, 0.11616700390974681, 0.11212937906384468, 0.11368871852755547, 0.11232185612122218, 0.11014917244513829, 0.10988780111074448, 0.10884868974486987, 0.1075655755897363, 0.10782802974184354, 0.10494858274857204, 0.10647786408662796, 0.10702131936947505, 0.09913409998019536, 0.10386243090033531, 0.1019996168712775]\n",
      "Dev loss: 0.10209232941269875\n"
     ]
    },
    {
     "data": {
      "application/vnd.jupyter.widget-view+json": {
       "model_id": "dc25d1086cd04a5a833c3c8476107d15",
       "version_major": 2,
       "version_minor": 0
      },
      "text/plain": [
       "HBox(children=(IntProgress(value=0, description='Training iteration', max=29, style=ProgressStyle(description_…"
      ]
     },
     "metadata": {},
     "output_type": "display_data"
    },
    {
     "name": "stdout",
     "output_type": "stream",
     "text": [
      "\n"
     ]
    },
    {
     "data": {
      "application/vnd.jupyter.widget-view+json": {
       "model_id": "6682d118c572450396ce1ef9840e4aa3",
       "version_major": 2,
       "version_minor": 0
      },
      "text/plain": [
       "HBox(children=(IntProgress(value=0, description='Evaluation iteration', max=6, style=ProgressStyle(description…"
      ]
     },
     "metadata": {},
     "output_type": "display_data"
    },
    {
     "name": "stderr",
     "output_type": "stream",
     "text": [
      "\r",
      "Epoch:  44%|████▍     | 44/100 [04:58<06:04,  6.51s/it]"
     ]
    },
    {
     "name": "stdout",
     "output_type": "stream",
     "text": [
      "\n",
      "Loss history: [0.6063797970612844, 0.4430684943993886, 0.34838584065437317, 0.2993813951810201, 0.2680129408836365, 0.2480297933022181, 0.23315516610940298, 0.21830538660287857, 0.20367339750130972, 0.19177435586849848, 0.18002596000830332, 0.1708356315890948, 0.16365011284748712, 0.15577391038338342, 0.15119144320487976, 0.1452421322464943, 0.1424237216512362, 0.1370781809091568, 0.13258896519740423, 0.131445050239563, 0.12771031384666762, 0.12630400309960046, 0.12201684340834618, 0.1251875969270865, 0.11935119827588399, 0.11456630006432533, 0.11606102188428243, 0.11616700390974681, 0.11212937906384468, 0.11368871852755547, 0.11232185612122218, 0.11014917244513829, 0.10988780111074448, 0.10884868974486987, 0.1075655755897363, 0.10782802974184354, 0.10494858274857204, 0.10647786408662796, 0.10702131936947505, 0.09913409998019536, 0.10386243090033531, 0.1019996168712775, 0.10209232941269875]\n",
      "Dev loss: 0.10242579504847527\n"
     ]
    },
    {
     "data": {
      "application/vnd.jupyter.widget-view+json": {
       "model_id": "c49a8815a6d04711858681c2653e29eb",
       "version_major": 2,
       "version_minor": 0
      },
      "text/plain": [
       "HBox(children=(IntProgress(value=0, description='Training iteration', max=29, style=ProgressStyle(description_…"
      ]
     },
     "metadata": {},
     "output_type": "display_data"
    },
    {
     "name": "stdout",
     "output_type": "stream",
     "text": [
      "\n"
     ]
    },
    {
     "data": {
      "application/vnd.jupyter.widget-view+json": {
       "model_id": "9675ed0d450d4bfe89219ed83aaf73b2",
       "version_major": 2,
       "version_minor": 0
      },
      "text/plain": [
       "HBox(children=(IntProgress(value=0, description='Evaluation iteration', max=6, style=ProgressStyle(description…"
      ]
     },
     "metadata": {},
     "output_type": "display_data"
    },
    {
     "name": "stdout",
     "output_type": "stream",
     "text": [
      "\n",
      "Loss history: [0.6063797970612844, 0.4430684943993886, 0.34838584065437317, 0.2993813951810201, 0.2680129408836365, 0.2480297933022181, 0.23315516610940298, 0.21830538660287857, 0.20367339750130972, 0.19177435586849848, 0.18002596000830332, 0.1708356315890948, 0.16365011284748712, 0.15577391038338342, 0.15119144320487976, 0.1452421322464943, 0.1424237216512362, 0.1370781809091568, 0.13258896519740423, 0.131445050239563, 0.12771031384666762, 0.12630400309960046, 0.12201684340834618, 0.1251875969270865, 0.11935119827588399, 0.11456630006432533, 0.11606102188428243, 0.11616700390974681, 0.11212937906384468, 0.11368871852755547, 0.11232185612122218, 0.11014917244513829, 0.10988780111074448, 0.10884868974486987, 0.1075655755897363, 0.10782802974184354, 0.10494858274857204, 0.10647786408662796, 0.10702131936947505, 0.09913409998019536, 0.10386243090033531, 0.1019996168712775, 0.10209232941269875, 0.10242579504847527]\n",
      "Dev loss: 0.09791096299886703\n"
     ]
    },
    {
     "name": "stderr",
     "output_type": "stream",
     "text": [
      "\r",
      "Epoch:  45%|████▌     | 45/100 [05:05<06:04,  6.63s/it]"
     ]
    },
    {
     "data": {
      "application/vnd.jupyter.widget-view+json": {
       "model_id": "c0483599144e406bb5e74e250118ee63",
       "version_major": 2,
       "version_minor": 0
      },
      "text/plain": [
       "HBox(children=(IntProgress(value=0, description='Training iteration', max=29, style=ProgressStyle(description_…"
      ]
     },
     "metadata": {},
     "output_type": "display_data"
    },
    {
     "name": "stdout",
     "output_type": "stream",
     "text": [
      "\n"
     ]
    },
    {
     "data": {
      "application/vnd.jupyter.widget-view+json": {
       "model_id": "e9755addb58e47fda07b77eb6a4519ac",
       "version_major": 2,
       "version_minor": 0
      },
      "text/plain": [
       "HBox(children=(IntProgress(value=0, description='Evaluation iteration', max=6, style=ProgressStyle(description…"
      ]
     },
     "metadata": {},
     "output_type": "display_data"
    },
    {
     "name": "stderr",
     "output_type": "stream",
     "text": [
      "\r",
      "Epoch:  46%|████▌     | 46/100 [05:11<05:55,  6.58s/it]"
     ]
    },
    {
     "name": "stdout",
     "output_type": "stream",
     "text": [
      "\n",
      "Loss history: [0.6063797970612844, 0.4430684943993886, 0.34838584065437317, 0.2993813951810201, 0.2680129408836365, 0.2480297933022181, 0.23315516610940298, 0.21830538660287857, 0.20367339750130972, 0.19177435586849848, 0.18002596000830332, 0.1708356315890948, 0.16365011284748712, 0.15577391038338342, 0.15119144320487976, 0.1452421322464943, 0.1424237216512362, 0.1370781809091568, 0.13258896519740423, 0.131445050239563, 0.12771031384666762, 0.12630400309960046, 0.12201684340834618, 0.1251875969270865, 0.11935119827588399, 0.11456630006432533, 0.11606102188428243, 0.11616700390974681, 0.11212937906384468, 0.11368871852755547, 0.11232185612122218, 0.11014917244513829, 0.10988780111074448, 0.10884868974486987, 0.1075655755897363, 0.10782802974184354, 0.10494858274857204, 0.10647786408662796, 0.10702131936947505, 0.09913409998019536, 0.10386243090033531, 0.1019996168712775, 0.10209232941269875, 0.10242579504847527, 0.09791096299886703]\n",
      "Dev loss: 0.09901359180609386\n"
     ]
    },
    {
     "data": {
      "application/vnd.jupyter.widget-view+json": {
       "model_id": "6649eda1949a46eda2ce71c1da7018d5",
       "version_major": 2,
       "version_minor": 0
      },
      "text/plain": [
       "HBox(children=(IntProgress(value=0, description='Training iteration', max=29, style=ProgressStyle(description_…"
      ]
     },
     "metadata": {},
     "output_type": "display_data"
    },
    {
     "name": "stdout",
     "output_type": "stream",
     "text": [
      "\n"
     ]
    },
    {
     "data": {
      "application/vnd.jupyter.widget-view+json": {
       "model_id": "84f9114d57284f4a99ec9c390c8625d9",
       "version_major": 2,
       "version_minor": 0
      },
      "text/plain": [
       "HBox(children=(IntProgress(value=0, description='Evaluation iteration', max=6, style=ProgressStyle(description…"
      ]
     },
     "metadata": {},
     "output_type": "display_data"
    },
    {
     "name": "stderr",
     "output_type": "stream",
     "text": [
      "\r",
      "Epoch:  47%|████▋     | 47/100 [05:18<05:46,  6.54s/it]"
     ]
    },
    {
     "name": "stdout",
     "output_type": "stream",
     "text": [
      "\n",
      "Loss history: [0.6063797970612844, 0.4430684943993886, 0.34838584065437317, 0.2993813951810201, 0.2680129408836365, 0.2480297933022181, 0.23315516610940298, 0.21830538660287857, 0.20367339750130972, 0.19177435586849848, 0.18002596000830332, 0.1708356315890948, 0.16365011284748712, 0.15577391038338342, 0.15119144320487976, 0.1452421322464943, 0.1424237216512362, 0.1370781809091568, 0.13258896519740423, 0.131445050239563, 0.12771031384666762, 0.12630400309960046, 0.12201684340834618, 0.1251875969270865, 0.11935119827588399, 0.11456630006432533, 0.11606102188428243, 0.11616700390974681, 0.11212937906384468, 0.11368871852755547, 0.11232185612122218, 0.11014917244513829, 0.10988780111074448, 0.10884868974486987, 0.1075655755897363, 0.10782802974184354, 0.10494858274857204, 0.10647786408662796, 0.10702131936947505, 0.09913409998019536, 0.10386243090033531, 0.1019996168712775, 0.10209232941269875, 0.10242579504847527, 0.09791096299886703, 0.09901359180609386]\n",
      "Dev loss: 0.10092383374770482\n"
     ]
    },
    {
     "data": {
      "application/vnd.jupyter.widget-view+json": {
       "model_id": "d761b665cd664b9c9b048c354a553c74",
       "version_major": 2,
       "version_minor": 0
      },
      "text/plain": [
       "HBox(children=(IntProgress(value=0, description='Training iteration', max=29, style=ProgressStyle(description_…"
      ]
     },
     "metadata": {},
     "output_type": "display_data"
    },
    {
     "name": "stdout",
     "output_type": "stream",
     "text": [
      "\n"
     ]
    },
    {
     "data": {
      "application/vnd.jupyter.widget-view+json": {
       "model_id": "3e56eaa1fcf346f2bb2b8ae612fc7080",
       "version_major": 2,
       "version_minor": 0
      },
      "text/plain": [
       "HBox(children=(IntProgress(value=0, description='Evaluation iteration', max=6, style=ProgressStyle(description…"
      ]
     },
     "metadata": {},
     "output_type": "display_data"
    },
    {
     "name": "stderr",
     "output_type": "stream",
     "text": [
      "\r",
      "Epoch:  48%|████▊     | 48/100 [05:24<05:38,  6.52s/it]"
     ]
    },
    {
     "name": "stdout",
     "output_type": "stream",
     "text": [
      "\n",
      "Loss history: [0.6063797970612844, 0.4430684943993886, 0.34838584065437317, 0.2993813951810201, 0.2680129408836365, 0.2480297933022181, 0.23315516610940298, 0.21830538660287857, 0.20367339750130972, 0.19177435586849848, 0.18002596000830332, 0.1708356315890948, 0.16365011284748712, 0.15577391038338342, 0.15119144320487976, 0.1452421322464943, 0.1424237216512362, 0.1370781809091568, 0.13258896519740423, 0.131445050239563, 0.12771031384666762, 0.12630400309960046, 0.12201684340834618, 0.1251875969270865, 0.11935119827588399, 0.11456630006432533, 0.11606102188428243, 0.11616700390974681, 0.11212937906384468, 0.11368871852755547, 0.11232185612122218, 0.11014917244513829, 0.10988780111074448, 0.10884868974486987, 0.1075655755897363, 0.10782802974184354, 0.10494858274857204, 0.10647786408662796, 0.10702131936947505, 0.09913409998019536, 0.10386243090033531, 0.1019996168712775, 0.10209232941269875, 0.10242579504847527, 0.09791096299886703, 0.09901359180609386, 0.10092383374770482]\n",
      "Dev loss: 0.10202014694611232\n"
     ]
    },
    {
     "data": {
      "application/vnd.jupyter.widget-view+json": {
       "model_id": "6908379feb5a4e51954a6dab8622d108",
       "version_major": 2,
       "version_minor": 0
      },
      "text/plain": [
       "HBox(children=(IntProgress(value=0, description='Training iteration', max=29, style=ProgressStyle(description_…"
      ]
     },
     "metadata": {},
     "output_type": "display_data"
    },
    {
     "name": "stdout",
     "output_type": "stream",
     "text": [
      "\n"
     ]
    },
    {
     "data": {
      "application/vnd.jupyter.widget-view+json": {
       "model_id": "44e88eb3f4f2437da1771a10c6359ff1",
       "version_major": 2,
       "version_minor": 0
      },
      "text/plain": [
       "HBox(children=(IntProgress(value=0, description='Evaluation iteration', max=6, style=ProgressStyle(description…"
      ]
     },
     "metadata": {},
     "output_type": "display_data"
    },
    {
     "name": "stderr",
     "output_type": "stream",
     "text": [
      "\r",
      "Epoch:  49%|████▉     | 49/100 [05:31<05:31,  6.50s/it]"
     ]
    },
    {
     "name": "stdout",
     "output_type": "stream",
     "text": [
      "\n",
      "Loss history: [0.6063797970612844, 0.4430684943993886, 0.34838584065437317, 0.2993813951810201, 0.2680129408836365, 0.2480297933022181, 0.23315516610940298, 0.21830538660287857, 0.20367339750130972, 0.19177435586849848, 0.18002596000830332, 0.1708356315890948, 0.16365011284748712, 0.15577391038338342, 0.15119144320487976, 0.1452421322464943, 0.1424237216512362, 0.1370781809091568, 0.13258896519740423, 0.131445050239563, 0.12771031384666762, 0.12630400309960046, 0.12201684340834618, 0.1251875969270865, 0.11935119827588399, 0.11456630006432533, 0.11606102188428243, 0.11616700390974681, 0.11212937906384468, 0.11368871852755547, 0.11232185612122218, 0.11014917244513829, 0.10988780111074448, 0.10884868974486987, 0.1075655755897363, 0.10782802974184354, 0.10494858274857204, 0.10647786408662796, 0.10702131936947505, 0.09913409998019536, 0.10386243090033531, 0.1019996168712775, 0.10209232941269875, 0.10242579504847527, 0.09791096299886703, 0.09901359180609386, 0.10092383374770482, 0.10202014694611232]\n",
      "Dev loss: 0.09959898764888446\n"
     ]
    },
    {
     "data": {
      "application/vnd.jupyter.widget-view+json": {
       "model_id": "f6a628cd7b414250bb2ac678346fb44d",
       "version_major": 2,
       "version_minor": 0
      },
      "text/plain": [
       "HBox(children=(IntProgress(value=0, description='Training iteration', max=29, style=ProgressStyle(description_…"
      ]
     },
     "metadata": {},
     "output_type": "display_data"
    },
    {
     "name": "stdout",
     "output_type": "stream",
     "text": [
      "\n"
     ]
    },
    {
     "data": {
      "application/vnd.jupyter.widget-view+json": {
       "model_id": "b1d8d775134d4645ae51cc1f3feed768",
       "version_major": 2,
       "version_minor": 0
      },
      "text/plain": [
       "HBox(children=(IntProgress(value=0, description='Evaluation iteration', max=6, style=ProgressStyle(description…"
      ]
     },
     "metadata": {},
     "output_type": "display_data"
    },
    {
     "name": "stdout",
     "output_type": "stream",
     "text": [
      "\n",
      "Loss history: [0.6063797970612844, 0.4430684943993886, 0.34838584065437317, 0.2993813951810201, 0.2680129408836365, 0.2480297933022181, 0.23315516610940298, 0.21830538660287857, 0.20367339750130972, 0.19177435586849848, 0.18002596000830332, 0.1708356315890948, 0.16365011284748712, 0.15577391038338342, 0.15119144320487976, 0.1452421322464943, 0.1424237216512362, 0.1370781809091568, 0.13258896519740423, 0.131445050239563, 0.12771031384666762, 0.12630400309960046, 0.12201684340834618, 0.1251875969270865, 0.11935119827588399, 0.11456630006432533, 0.11606102188428243, 0.11616700390974681, 0.11212937906384468, 0.11368871852755547, 0.11232185612122218, 0.11014917244513829, 0.10988780111074448, 0.10884868974486987, 0.1075655755897363, 0.10782802974184354, 0.10494858274857204, 0.10647786408662796, 0.10702131936947505, 0.09913409998019536, 0.10386243090033531, 0.1019996168712775, 0.10209232941269875, 0.10242579504847527, 0.09791096299886703, 0.09901359180609386, 0.10092383374770482, 0.10202014694611232, 0.09959898764888446]\n",
      "Dev loss: 0.10068958376844724\n",
      "No improvement on development set. Finish training.\n",
      "Loading model from /tmp/model.bin\n"
     ]
    },
    {
     "name": "stderr",
     "output_type": "stream",
     "text": [
      "I0404 19:07:01.744144 140043817379648 configuration_utils.py:256] loading configuration file https://s3.amazonaws.com/models.huggingface.co/bert/bert-base-uncased-config.json from cache at /home/yves/.cache/torch/transformers/4dad0251492946e18ac39290fcfe91b89d370fee250efe9521476438fe8ca185.8f56353af4a709bf5ff0fbc915d8f5b42bfff892cbb6ac98c3c45f481a03c685\n",
      "I0404 19:07:01.745219 140043817379648 configuration_utils.py:292] Model config BertConfig {\n",
      "  \"architectures\": [\n",
      "    \"BertForMaskedLM\"\n",
      "  ],\n",
      "  \"attention_probs_dropout_prob\": 0.1,\n",
      "  \"bos_token_id\": null,\n",
      "  \"do_sample\": false,\n",
      "  \"eos_token_ids\": null,\n",
      "  \"finetuning_task\": null,\n",
      "  \"hidden_act\": \"gelu\",\n",
      "  \"hidden_dropout_prob\": 0.1,\n",
      "  \"hidden_size\": 768,\n",
      "  \"id2label\": {\n",
      "    \"0\": \"LABEL_0\",\n",
      "    \"1\": \"LABEL_1\"\n",
      "  },\n",
      "  \"initializer_range\": 0.02,\n",
      "  \"intermediate_size\": 3072,\n",
      "  \"is_decoder\": false,\n",
      "  \"label2id\": {\n",
      "    \"LABEL_0\": 0,\n",
      "    \"LABEL_1\": 1\n",
      "  },\n",
      "  \"layer_norm_eps\": 1e-12,\n",
      "  \"length_penalty\": 1.0,\n",
      "  \"max_length\": 20,\n",
      "  \"max_position_embeddings\": 512,\n",
      "  \"model_type\": \"bert\",\n",
      "  \"num_attention_heads\": 12,\n",
      "  \"num_beams\": 1,\n",
      "  \"num_hidden_layers\": 12,\n",
      "  \"num_labels\": 16,\n",
      "  \"num_return_sequences\": 1,\n",
      "  \"output_attentions\": false,\n",
      "  \"output_hidden_states\": false,\n",
      "  \"output_past\": true,\n",
      "  \"pad_token_id\": null,\n",
      "  \"pruned_heads\": {},\n",
      "  \"repetition_penalty\": 1.0,\n",
      "  \"temperature\": 1.0,\n",
      "  \"top_k\": 50,\n",
      "  \"top_p\": 1.0,\n",
      "  \"torchscript\": false,\n",
      "  \"type_vocab_size\": 2,\n",
      "  \"use_bfloat16\": false,\n",
      "  \"vocab_size\": 30522\n",
      "}\n",
      "\n",
      "I0404 19:07:02.203573 140043817379648 modeling_utils.py:461] loading weights file https://s3.amazonaws.com/models.huggingface.co/bert/bert-base-uncased-pytorch_model.bin from cache at /home/yves/.cache/torch/transformers/aa1ef1aede4482d0dbcd4d52baad8ae300e60902e88fcb0bebdec09afd232066.36ca03ab34a1a5d5fa7bc3d03d55c4fa650fed07220e2eeebc06ce58d0e9a157\n"
     ]
    },
    {
     "data": {
      "application/vnd.jupyter.widget-view+json": {
       "model_id": "f251e8d30a75494593b6761c1d332714",
       "version_major": 2,
       "version_minor": 0
      },
      "text/plain": [
       "HBox(children=(IntProgress(value=0, description='Evaluation iteration', max=9, style=ProgressStyle(description…"
      ]
     },
     "metadata": {},
     "output_type": "display_data"
    },
    {
     "name": "stdout",
     "output_type": "stream",
     "text": [
      "\n",
      "Data size: 139\n",
      "P: 121 / 138 = 0.8768115942028986\n",
      "R: 121 / 166 = 0.7289156626506024\n",
      "F: 0.7960526315789472\n",
      "A: 0.6546762589928058\n",
      "AL1: 0.7697841726618705\n",
      "Train size: 461\n",
      "Final train dataloader length: 29\n"
     ]
    },
    {
     "name": "stderr",
     "output_type": "stream",
     "text": [
      "I0404 19:07:07.828162 140043817379648 configuration_utils.py:256] loading configuration file https://s3.amazonaws.com/models.huggingface.co/bert/bert-base-uncased-config.json from cache at /home/yves/.cache/torch/transformers/4dad0251492946e18ac39290fcfe91b89d370fee250efe9521476438fe8ca185.8f56353af4a709bf5ff0fbc915d8f5b42bfff892cbb6ac98c3c45f481a03c685\n",
      "I0404 19:07:07.829785 140043817379648 configuration_utils.py:292] Model config BertConfig {\n",
      "  \"architectures\": [\n",
      "    \"BertForMaskedLM\"\n",
      "  ],\n",
      "  \"attention_probs_dropout_prob\": 0.1,\n",
      "  \"bos_token_id\": null,\n",
      "  \"do_sample\": false,\n",
      "  \"eos_token_ids\": null,\n",
      "  \"finetuning_task\": null,\n",
      "  \"hidden_act\": \"gelu\",\n",
      "  \"hidden_dropout_prob\": 0.1,\n",
      "  \"hidden_size\": 768,\n",
      "  \"id2label\": {\n",
      "    \"0\": \"LABEL_0\",\n",
      "    \"1\": \"LABEL_1\"\n",
      "  },\n",
      "  \"initializer_range\": 0.02,\n",
      "  \"intermediate_size\": 3072,\n",
      "  \"is_decoder\": false,\n",
      "  \"label2id\": {\n",
      "    \"LABEL_0\": 0,\n",
      "    \"LABEL_1\": 1\n",
      "  },\n",
      "  \"layer_norm_eps\": 1e-12,\n",
      "  \"length_penalty\": 1.0,\n",
      "  \"max_length\": 20,\n",
      "  \"max_position_embeddings\": 512,\n",
      "  \"model_type\": \"bert\",\n",
      "  \"num_attention_heads\": 12,\n",
      "  \"num_beams\": 1,\n",
      "  \"num_hidden_layers\": 12,\n",
      "  \"num_labels\": 16,\n",
      "  \"num_return_sequences\": 1,\n",
      "  \"output_attentions\": false,\n",
      "  \"output_hidden_states\": false,\n",
      "  \"output_past\": true,\n",
      "  \"pad_token_id\": null,\n",
      "  \"pruned_heads\": {},\n",
      "  \"repetition_penalty\": 1.0,\n",
      "  \"temperature\": 1.0,\n",
      "  \"top_k\": 50,\n",
      "  \"top_p\": 1.0,\n",
      "  \"torchscript\": false,\n",
      "  \"type_vocab_size\": 2,\n",
      "  \"use_bfloat16\": false,\n",
      "  \"vocab_size\": 30522\n",
      "}\n",
      "\n",
      "I0404 19:07:08.273914 140043817379648 modeling_utils.py:461] loading weights file https://s3.amazonaws.com/models.huggingface.co/bert/bert-base-uncased-pytorch_model.bin from cache at /home/yves/.cache/torch/transformers/aa1ef1aede4482d0dbcd4d52baad8ae300e60902e88fcb0bebdec09afd232066.36ca03ab34a1a5d5fa7bc3d03d55c4fa650fed07220e2eeebc06ce58d0e9a157\n",
      "I0404 19:07:09.998418 140043817379648 modeling_utils.py:546] Weights of BertForMultiLabelSequenceClassification not initialized from pretrained model: ['classifier.weight', 'classifier.bias']\n",
      "I0404 19:07:09.999064 140043817379648 modeling_utils.py:552] Weights from pretrained model not used in BertForMultiLabelSequenceClassification: ['cls.predictions.bias', 'cls.predictions.transform.dense.weight', 'cls.predictions.transform.dense.bias', 'cls.predictions.decoder.weight', 'cls.seq_relationship.weight', 'cls.seq_relationship.bias', 'cls.predictions.transform.LayerNorm.weight', 'cls.predictions.transform.LayerNorm.bias']\n",
      "\n",
      "Epoch:   0%|          | 0/100 [00:00<?, ?it/s]\u001b[A"
     ]
    },
    {
     "data": {
      "application/vnd.jupyter.widget-view+json": {
       "model_id": "114ca2b727a0417796c6e47a3420b92c",
       "version_major": 2,
       "version_minor": 0
      },
      "text/plain": [
       "HBox(children=(IntProgress(value=0, description='Training iteration', max=29, style=ProgressStyle(description_…"
      ]
     },
     "metadata": {},
     "output_type": "display_data"
    },
    {
     "name": "stdout",
     "output_type": "stream",
     "text": [
      "\n"
     ]
    },
    {
     "data": {
      "application/vnd.jupyter.widget-view+json": {
       "model_id": "3dc46c9e589148a0b5422d04a257dfc8",
       "version_major": 2,
       "version_minor": 0
      },
      "text/plain": [
       "HBox(children=(IntProgress(value=0, description='Evaluation iteration', max=6, style=ProgressStyle(description…"
      ]
     },
     "metadata": {},
     "output_type": "display_data"
    },
    {
     "name": "stdout",
     "output_type": "stream",
     "text": [
      "\n",
      "Loss history: []\n",
      "Dev loss: 0.605769564708074\n"
     ]
    },
    {
     "name": "stderr",
     "output_type": "stream",
     "text": [
      "\n",
      "Epoch:   1%|          | 1/100 [00:06<11:24,  6.92s/it]\u001b[A"
     ]
    },
    {
     "data": {
      "application/vnd.jupyter.widget-view+json": {
       "model_id": "a67c4c4435eb44438290dc28f03ea6f8",
       "version_major": 2,
       "version_minor": 0
      },
      "text/plain": [
       "HBox(children=(IntProgress(value=0, description='Training iteration', max=29, style=ProgressStyle(description_…"
      ]
     },
     "metadata": {},
     "output_type": "display_data"
    },
    {
     "name": "stdout",
     "output_type": "stream",
     "text": [
      "\n"
     ]
    },
    {
     "data": {
      "application/vnd.jupyter.widget-view+json": {
       "model_id": "b531151a8cd34c9c8c4da659bd397108",
       "version_major": 2,
       "version_minor": 0
      },
      "text/plain": [
       "HBox(children=(IntProgress(value=0, description='Evaluation iteration', max=6, style=ProgressStyle(description…"
      ]
     },
     "metadata": {},
     "output_type": "display_data"
    },
    {
     "name": "stdout",
     "output_type": "stream",
     "text": [
      "\n",
      "Loss history: [0.605769564708074]\n",
      "Dev loss: 0.4612632393836975\n"
     ]
    },
    {
     "name": "stderr",
     "output_type": "stream",
     "text": [
      "\n",
      "Epoch:   2%|▏         | 2/100 [00:13<11:17,  6.91s/it]\u001b[A"
     ]
    },
    {
     "data": {
      "application/vnd.jupyter.widget-view+json": {
       "model_id": "9f5ed8469fd64e8eb66689a8eda2dcdb",
       "version_major": 2,
       "version_minor": 0
      },
      "text/plain": [
       "HBox(children=(IntProgress(value=0, description='Training iteration', max=29, style=ProgressStyle(description_…"
      ]
     },
     "metadata": {},
     "output_type": "display_data"
    },
    {
     "name": "stdout",
     "output_type": "stream",
     "text": [
      "\n"
     ]
    },
    {
     "data": {
      "application/vnd.jupyter.widget-view+json": {
       "model_id": "9bebc1b0d692447a97a06b949effeb3c",
       "version_major": 2,
       "version_minor": 0
      },
      "text/plain": [
       "HBox(children=(IntProgress(value=0, description='Evaluation iteration', max=6, style=ProgressStyle(description…"
      ]
     },
     "metadata": {},
     "output_type": "display_data"
    },
    {
     "name": "stdout",
     "output_type": "stream",
     "text": [
      "\n",
      "Loss history: [0.605769564708074, 0.4612632393836975]\n",
      "Dev loss: 0.3484412282705307\n"
     ]
    },
    {
     "name": "stderr",
     "output_type": "stream",
     "text": [
      "\n",
      "Epoch:   3%|▎         | 3/100 [00:20<11:10,  6.91s/it]\u001b[A"
     ]
    },
    {
     "data": {
      "application/vnd.jupyter.widget-view+json": {
       "model_id": "4199deb0881e46658abc0493c5c848ba",
       "version_major": 2,
       "version_minor": 0
      },
      "text/plain": [
       "HBox(children=(IntProgress(value=0, description='Training iteration', max=29, style=ProgressStyle(description_…"
      ]
     },
     "metadata": {},
     "output_type": "display_data"
    },
    {
     "name": "stdout",
     "output_type": "stream",
     "text": [
      "\n"
     ]
    },
    {
     "data": {
      "application/vnd.jupyter.widget-view+json": {
       "model_id": "51a7b398aabd464db744c0b9e91c260c",
       "version_major": 2,
       "version_minor": 0
      },
      "text/plain": [
       "HBox(children=(IntProgress(value=0, description='Evaluation iteration', max=6, style=ProgressStyle(description…"
      ]
     },
     "metadata": {},
     "output_type": "display_data"
    },
    {
     "name": "stdout",
     "output_type": "stream",
     "text": [
      "\n",
      "Loss history: [0.605769564708074, 0.4612632393836975, 0.3484412282705307]\n",
      "Dev loss: 0.29717086255550385\n"
     ]
    },
    {
     "name": "stderr",
     "output_type": "stream",
     "text": [
      "\n",
      "Epoch:   4%|▍         | 4/100 [00:27<11:03,  6.92s/it]\u001b[A"
     ]
    },
    {
     "data": {
      "application/vnd.jupyter.widget-view+json": {
       "model_id": "8fcc72e690a24b018567a255a3a21b0e",
       "version_major": 2,
       "version_minor": 0
      },
      "text/plain": [
       "HBox(children=(IntProgress(value=0, description='Training iteration', max=29, style=ProgressStyle(description_…"
      ]
     },
     "metadata": {},
     "output_type": "display_data"
    },
    {
     "name": "stdout",
     "output_type": "stream",
     "text": [
      "\n"
     ]
    },
    {
     "data": {
      "application/vnd.jupyter.widget-view+json": {
       "model_id": "4d08bec3098a4b6f8537a3c89e69a225",
       "version_major": 2,
       "version_minor": 0
      },
      "text/plain": [
       "HBox(children=(IntProgress(value=0, description='Evaluation iteration', max=6, style=ProgressStyle(description…"
      ]
     },
     "metadata": {},
     "output_type": "display_data"
    },
    {
     "name": "stdout",
     "output_type": "stream",
     "text": [
      "\n",
      "Loss history: [0.605769564708074, 0.4612632393836975, 0.3484412282705307, 0.29717086255550385]\n",
      "Dev loss: 0.26731228331724805\n"
     ]
    },
    {
     "name": "stderr",
     "output_type": "stream",
     "text": [
      "\n",
      "Epoch:   5%|▌         | 5/100 [00:34<10:56,  6.91s/it]\u001b[A"
     ]
    },
    {
     "data": {
      "application/vnd.jupyter.widget-view+json": {
       "model_id": "e37ee56eedf94419bd8c64d29b35bacc",
       "version_major": 2,
       "version_minor": 0
      },
      "text/plain": [
       "HBox(children=(IntProgress(value=0, description='Training iteration', max=29, style=ProgressStyle(description_…"
      ]
     },
     "metadata": {},
     "output_type": "display_data"
    },
    {
     "name": "stdout",
     "output_type": "stream",
     "text": [
      "\n"
     ]
    },
    {
     "data": {
      "application/vnd.jupyter.widget-view+json": {
       "model_id": "13c6b919564f4c8a9886e5d13d4a9372",
       "version_major": 2,
       "version_minor": 0
      },
      "text/plain": [
       "HBox(children=(IntProgress(value=0, description='Evaluation iteration', max=6, style=ProgressStyle(description…"
      ]
     },
     "metadata": {},
     "output_type": "display_data"
    },
    {
     "name": "stdout",
     "output_type": "stream",
     "text": [
      "\n",
      "Loss history: [0.605769564708074, 0.4612632393836975, 0.3484412282705307, 0.29717086255550385, 0.26731228331724805]\n",
      "Dev loss: 0.24957897265752158\n"
     ]
    },
    {
     "name": "stderr",
     "output_type": "stream",
     "text": [
      "\n",
      "Epoch:   6%|▌         | 6/100 [00:41<10:50,  6.92s/it]\u001b[A"
     ]
    },
    {
     "data": {
      "application/vnd.jupyter.widget-view+json": {
       "model_id": "bc8f2df5374f46c2ad0a9cac0e4fc3ec",
       "version_major": 2,
       "version_minor": 0
      },
      "text/plain": [
       "HBox(children=(IntProgress(value=0, description='Training iteration', max=29, style=ProgressStyle(description_…"
      ]
     },
     "metadata": {},
     "output_type": "display_data"
    },
    {
     "name": "stdout",
     "output_type": "stream",
     "text": [
      "\n"
     ]
    },
    {
     "data": {
      "application/vnd.jupyter.widget-view+json": {
       "model_id": "5a7109588c2241989a066710d9993198",
       "version_major": 2,
       "version_minor": 0
      },
      "text/plain": [
       "HBox(children=(IntProgress(value=0, description='Evaluation iteration', max=6, style=ProgressStyle(description…"
      ]
     },
     "metadata": {},
     "output_type": "display_data"
    },
    {
     "name": "stdout",
     "output_type": "stream",
     "text": [
      "\n",
      "Loss history: [0.605769564708074, 0.4612632393836975, 0.3484412282705307, 0.29717086255550385, 0.26731228331724805, 0.24957897265752158]\n",
      "Dev loss: 0.2357658992211024\n"
     ]
    },
    {
     "name": "stderr",
     "output_type": "stream",
     "text": [
      "\n",
      "Epoch:   7%|▋         | 7/100 [00:48<10:43,  6.92s/it]\u001b[A"
     ]
    },
    {
     "data": {
      "application/vnd.jupyter.widget-view+json": {
       "model_id": "74e5a53415984847a8349f759568eb41",
       "version_major": 2,
       "version_minor": 0
      },
      "text/plain": [
       "HBox(children=(IntProgress(value=0, description='Training iteration', max=29, style=ProgressStyle(description_…"
      ]
     },
     "metadata": {},
     "output_type": "display_data"
    },
    {
     "name": "stdout",
     "output_type": "stream",
     "text": [
      "\n"
     ]
    },
    {
     "data": {
      "application/vnd.jupyter.widget-view+json": {
       "model_id": "25fe55630ec74cb3a1ff3f45abd55245",
       "version_major": 2,
       "version_minor": 0
      },
      "text/plain": [
       "HBox(children=(IntProgress(value=0, description='Evaluation iteration', max=6, style=ProgressStyle(description…"
      ]
     },
     "metadata": {},
     "output_type": "display_data"
    },
    {
     "name": "stdout",
     "output_type": "stream",
     "text": [
      "\n",
      "Loss history: [0.605769564708074, 0.4612632393836975, 0.3484412282705307, 0.29717086255550385, 0.26731228331724805, 0.24957897265752158, 0.2357658992211024]\n",
      "Dev loss: 0.22482032080491385\n"
     ]
    },
    {
     "name": "stderr",
     "output_type": "stream",
     "text": [
      "\n",
      "Epoch:   8%|▊         | 8/100 [00:55<10:36,  6.92s/it]\u001b[A"
     ]
    },
    {
     "data": {
      "application/vnd.jupyter.widget-view+json": {
       "model_id": "0c3c334bfd384cc7861e8f7ef1c571a3",
       "version_major": 2,
       "version_minor": 0
      },
      "text/plain": [
       "HBox(children=(IntProgress(value=0, description='Training iteration', max=29, style=ProgressStyle(description_…"
      ]
     },
     "metadata": {},
     "output_type": "display_data"
    },
    {
     "name": "stdout",
     "output_type": "stream",
     "text": [
      "\n"
     ]
    },
    {
     "data": {
      "application/vnd.jupyter.widget-view+json": {
       "model_id": "ef7be391e9d94c8fb0a2e50790fd486b",
       "version_major": 2,
       "version_minor": 0
      },
      "text/plain": [
       "HBox(children=(IntProgress(value=0, description='Evaluation iteration', max=6, style=ProgressStyle(description…"
      ]
     },
     "metadata": {},
     "output_type": "display_data"
    },
    {
     "name": "stdout",
     "output_type": "stream",
     "text": [
      "\n",
      "Loss history: [0.605769564708074, 0.4612632393836975, 0.3484412282705307, 0.29717086255550385, 0.26731228331724805, 0.24957897265752158, 0.2357658992211024, 0.22482032080491385]\n",
      "Dev loss: 0.21327275782823563\n"
     ]
    },
    {
     "name": "stderr",
     "output_type": "stream",
     "text": [
      "\n",
      "Epoch:   9%|▉         | 9/100 [01:02<10:29,  6.92s/it]\u001b[A"
     ]
    },
    {
     "data": {
      "application/vnd.jupyter.widget-view+json": {
       "model_id": "284a118919754d7bb4c2f11b3263a148",
       "version_major": 2,
       "version_minor": 0
      },
      "text/plain": [
       "HBox(children=(IntProgress(value=0, description='Training iteration', max=29, style=ProgressStyle(description_…"
      ]
     },
     "metadata": {},
     "output_type": "display_data"
    },
    {
     "name": "stdout",
     "output_type": "stream",
     "text": [
      "\n"
     ]
    },
    {
     "data": {
      "application/vnd.jupyter.widget-view+json": {
       "model_id": "3b7fe9e901b245a5a741d75a8cbadf3a",
       "version_major": 2,
       "version_minor": 0
      },
      "text/plain": [
       "HBox(children=(IntProgress(value=0, description='Evaluation iteration', max=6, style=ProgressStyle(description…"
      ]
     },
     "metadata": {},
     "output_type": "display_data"
    },
    {
     "name": "stdout",
     "output_type": "stream",
     "text": [
      "\n",
      "Loss history: [0.605769564708074, 0.4612632393836975, 0.3484412282705307, 0.29717086255550385, 0.26731228331724805, 0.24957897265752158, 0.2357658992211024, 0.22482032080491385, 0.21327275782823563]\n",
      "Dev loss: 0.20361091196537018\n"
     ]
    },
    {
     "name": "stderr",
     "output_type": "stream",
     "text": [
      "\n",
      "Epoch:  10%|█         | 10/100 [01:09<10:22,  6.92s/it]\u001b[A"
     ]
    },
    {
     "data": {
      "application/vnd.jupyter.widget-view+json": {
       "model_id": "b97825a67658490ea0119612f5a3cc3a",
       "version_major": 2,
       "version_minor": 0
      },
      "text/plain": [
       "HBox(children=(IntProgress(value=0, description='Training iteration', max=29, style=ProgressStyle(description_…"
      ]
     },
     "metadata": {},
     "output_type": "display_data"
    },
    {
     "name": "stdout",
     "output_type": "stream",
     "text": [
      "\n"
     ]
    },
    {
     "data": {
      "application/vnd.jupyter.widget-view+json": {
       "model_id": "05127d1eee3143c4989481c5cac988f8",
       "version_major": 2,
       "version_minor": 0
      },
      "text/plain": [
       "HBox(children=(IntProgress(value=0, description='Evaluation iteration', max=6, style=ProgressStyle(description…"
      ]
     },
     "metadata": {},
     "output_type": "display_data"
    },
    {
     "name": "stdout",
     "output_type": "stream",
     "text": [
      "\n",
      "Loss history: [0.605769564708074, 0.4612632393836975, 0.3484412282705307, 0.29717086255550385, 0.26731228331724805, 0.24957897265752158, 0.2357658992211024, 0.22482032080491385, 0.21327275782823563, 0.20361091196537018]\n",
      "Dev loss: 0.19357392440239587\n"
     ]
    },
    {
     "name": "stderr",
     "output_type": "stream",
     "text": [
      "\n",
      "Epoch:  11%|█         | 11/100 [01:16<10:15,  6.92s/it]\u001b[A"
     ]
    },
    {
     "data": {
      "application/vnd.jupyter.widget-view+json": {
       "model_id": "0d8976395e904b2ea74c5183b0cbd85f",
       "version_major": 2,
       "version_minor": 0
      },
      "text/plain": [
       "HBox(children=(IntProgress(value=0, description='Training iteration', max=29, style=ProgressStyle(description_…"
      ]
     },
     "metadata": {},
     "output_type": "display_data"
    },
    {
     "name": "stdout",
     "output_type": "stream",
     "text": [
      "\n"
     ]
    },
    {
     "data": {
      "application/vnd.jupyter.widget-view+json": {
       "model_id": "f9ed3aa8b85f4f808ca6e525a99263a9",
       "version_major": 2,
       "version_minor": 0
      },
      "text/plain": [
       "HBox(children=(IntProgress(value=0, description='Evaluation iteration', max=6, style=ProgressStyle(description…"
      ]
     },
     "metadata": {},
     "output_type": "display_data"
    },
    {
     "name": "stdout",
     "output_type": "stream",
     "text": [
      "\n",
      "Loss history: [0.605769564708074, 0.4612632393836975, 0.3484412282705307, 0.29717086255550385, 0.26731228331724805, 0.24957897265752158, 0.2357658992211024, 0.22482032080491385, 0.21327275782823563, 0.20361091196537018, 0.19357392440239587]\n",
      "Dev loss: 0.18363535155852637\n"
     ]
    },
    {
     "name": "stderr",
     "output_type": "stream",
     "text": [
      "\n",
      "Epoch:  12%|█▏        | 12/100 [01:22<10:08,  6.92s/it]\u001b[A"
     ]
    },
    {
     "data": {
      "application/vnd.jupyter.widget-view+json": {
       "model_id": "185bc47776014f1784c7fdf87d89ef7d",
       "version_major": 2,
       "version_minor": 0
      },
      "text/plain": [
       "HBox(children=(IntProgress(value=0, description='Training iteration', max=29, style=ProgressStyle(description_…"
      ]
     },
     "metadata": {},
     "output_type": "display_data"
    },
    {
     "name": "stdout",
     "output_type": "stream",
     "text": [
      "\n"
     ]
    },
    {
     "data": {
      "application/vnd.jupyter.widget-view+json": {
       "model_id": "2603450625c549aeb61a22fb136be162",
       "version_major": 2,
       "version_minor": 0
      },
      "text/plain": [
       "HBox(children=(IntProgress(value=0, description='Evaluation iteration', max=6, style=ProgressStyle(description…"
      ]
     },
     "metadata": {},
     "output_type": "display_data"
    },
    {
     "name": "stdout",
     "output_type": "stream",
     "text": [
      "\n",
      "Loss history: [0.605769564708074, 0.4612632393836975, 0.3484412282705307, 0.29717086255550385, 0.26731228331724805, 0.24957897265752158, 0.2357658992211024, 0.22482032080491385, 0.21327275782823563, 0.20361091196537018, 0.19357392440239587, 0.18363535155852637]\n",
      "Dev loss: 0.1735388288895289\n"
     ]
    },
    {
     "name": "stderr",
     "output_type": "stream",
     "text": [
      "\n",
      "Epoch:  13%|█▎        | 13/100 [01:29<10:01,  6.92s/it]\u001b[A"
     ]
    },
    {
     "data": {
      "application/vnd.jupyter.widget-view+json": {
       "model_id": "0906001f480844f38b5584fb15c4d193",
       "version_major": 2,
       "version_minor": 0
      },
      "text/plain": [
       "HBox(children=(IntProgress(value=0, description='Training iteration', max=29, style=ProgressStyle(description_…"
      ]
     },
     "metadata": {},
     "output_type": "display_data"
    },
    {
     "name": "stdout",
     "output_type": "stream",
     "text": [
      "\n"
     ]
    },
    {
     "data": {
      "application/vnd.jupyter.widget-view+json": {
       "model_id": "8ef7efaebe0c4cfc8864fe68b4f90fd4",
       "version_major": 2,
       "version_minor": 0
      },
      "text/plain": [
       "HBox(children=(IntProgress(value=0, description='Evaluation iteration', max=6, style=ProgressStyle(description…"
      ]
     },
     "metadata": {},
     "output_type": "display_data"
    },
    {
     "name": "stdout",
     "output_type": "stream",
     "text": [
      "\n",
      "Loss history: [0.605769564708074, 0.4612632393836975, 0.3484412282705307, 0.29717086255550385, 0.26731228331724805, 0.24957897265752158, 0.2357658992211024, 0.22482032080491385, 0.21327275782823563, 0.20361091196537018, 0.19357392440239587, 0.18363535155852637, 0.1735388288895289]\n",
      "Dev loss: 0.1645234872897466\n"
     ]
    },
    {
     "name": "stderr",
     "output_type": "stream",
     "text": [
      "\n",
      "Epoch:  14%|█▍        | 14/100 [01:36<09:54,  6.92s/it]\u001b[A"
     ]
    },
    {
     "data": {
      "application/vnd.jupyter.widget-view+json": {
       "model_id": "b109e8e320044846bb50bfee2e098386",
       "version_major": 2,
       "version_minor": 0
      },
      "text/plain": [
       "HBox(children=(IntProgress(value=0, description='Training iteration', max=29, style=ProgressStyle(description_…"
      ]
     },
     "metadata": {},
     "output_type": "display_data"
    },
    {
     "name": "stdout",
     "output_type": "stream",
     "text": [
      "\n"
     ]
    },
    {
     "data": {
      "application/vnd.jupyter.widget-view+json": {
       "model_id": "42cc536b3e7542cd96f3aa44e353097f",
       "version_major": 2,
       "version_minor": 0
      },
      "text/plain": [
       "HBox(children=(IntProgress(value=0, description='Evaluation iteration', max=6, style=ProgressStyle(description…"
      ]
     },
     "metadata": {},
     "output_type": "display_data"
    },
    {
     "name": "stdout",
     "output_type": "stream",
     "text": [
      "\n",
      "Loss history: [0.605769564708074, 0.4612632393836975, 0.3484412282705307, 0.29717086255550385, 0.26731228331724805, 0.24957897265752158, 0.2357658992211024, 0.22482032080491385, 0.21327275782823563, 0.20361091196537018, 0.19357392440239587, 0.18363535155852637, 0.1735388288895289, 0.1645234872897466]\n",
      "Dev loss: 0.15794453273216882\n"
     ]
    },
    {
     "name": "stderr",
     "output_type": "stream",
     "text": [
      "\n",
      "Epoch:  15%|█▌        | 15/100 [01:43<09:47,  6.92s/it]\u001b[A"
     ]
    },
    {
     "data": {
      "application/vnd.jupyter.widget-view+json": {
       "model_id": "95791eb65fa94ff99f7b0da962629337",
       "version_major": 2,
       "version_minor": 0
      },
      "text/plain": [
       "HBox(children=(IntProgress(value=0, description='Training iteration', max=29, style=ProgressStyle(description_…"
      ]
     },
     "metadata": {},
     "output_type": "display_data"
    },
    {
     "name": "stdout",
     "output_type": "stream",
     "text": [
      "\n"
     ]
    },
    {
     "data": {
      "application/vnd.jupyter.widget-view+json": {
       "model_id": "29a4aa2c747d48d69a430663e5ee756e",
       "version_major": 2,
       "version_minor": 0
      },
      "text/plain": [
       "HBox(children=(IntProgress(value=0, description='Evaluation iteration', max=6, style=ProgressStyle(description…"
      ]
     },
     "metadata": {},
     "output_type": "display_data"
    },
    {
     "name": "stdout",
     "output_type": "stream",
     "text": [
      "\n",
      "Loss history: [0.605769564708074, 0.4612632393836975, 0.3484412282705307, 0.29717086255550385, 0.26731228331724805, 0.24957897265752158, 0.2357658992211024, 0.22482032080491385, 0.21327275782823563, 0.20361091196537018, 0.19357392440239587, 0.18363535155852637, 0.1735388288895289, 0.1645234872897466, 0.15794453273216882]\n",
      "Dev loss: 0.1493313138683637\n"
     ]
    },
    {
     "name": "stderr",
     "output_type": "stream",
     "text": [
      "\n",
      "Epoch:  16%|█▌        | 16/100 [01:50<09:40,  6.92s/it]\u001b[A"
     ]
    },
    {
     "data": {
      "application/vnd.jupyter.widget-view+json": {
       "model_id": "ae0ad4d644e94339baa44a68aab8e9a5",
       "version_major": 2,
       "version_minor": 0
      },
      "text/plain": [
       "HBox(children=(IntProgress(value=0, description='Training iteration', max=29, style=ProgressStyle(description_…"
      ]
     },
     "metadata": {},
     "output_type": "display_data"
    },
    {
     "name": "stdout",
     "output_type": "stream",
     "text": [
      "\n"
     ]
    },
    {
     "data": {
      "application/vnd.jupyter.widget-view+json": {
       "model_id": "6c92cbec3b6740aca1fe47cd105b7136",
       "version_major": 2,
       "version_minor": 0
      },
      "text/plain": [
       "HBox(children=(IntProgress(value=0, description='Evaluation iteration', max=6, style=ProgressStyle(description…"
      ]
     },
     "metadata": {},
     "output_type": "display_data"
    },
    {
     "name": "stdout",
     "output_type": "stream",
     "text": [
      "\n",
      "Loss history: [0.605769564708074, 0.4612632393836975, 0.3484412282705307, 0.29717086255550385, 0.26731228331724805, 0.24957897265752158, 0.2357658992211024, 0.22482032080491385, 0.21327275782823563, 0.20361091196537018, 0.19357392440239587, 0.18363535155852637, 0.1735388288895289, 0.1645234872897466, 0.15794453273216882, 0.1493313138683637]\n",
      "Dev loss: 0.1438723181684812\n"
     ]
    },
    {
     "name": "stderr",
     "output_type": "stream",
     "text": [
      "\n",
      "Epoch:  17%|█▋        | 17/100 [01:57<09:34,  6.92s/it]\u001b[A"
     ]
    },
    {
     "data": {
      "application/vnd.jupyter.widget-view+json": {
       "model_id": "17e9c8fa67514b1d9a4618dc8f9a0167",
       "version_major": 2,
       "version_minor": 0
      },
      "text/plain": [
       "HBox(children=(IntProgress(value=0, description='Training iteration', max=29, style=ProgressStyle(description_…"
      ]
     },
     "metadata": {},
     "output_type": "display_data"
    },
    {
     "name": "stdout",
     "output_type": "stream",
     "text": [
      "\n"
     ]
    },
    {
     "data": {
      "application/vnd.jupyter.widget-view+json": {
       "model_id": "cdc1506c414a44b9bcc40cd8cb3ea1eb",
       "version_major": 2,
       "version_minor": 0
      },
      "text/plain": [
       "HBox(children=(IntProgress(value=0, description='Evaluation iteration', max=6, style=ProgressStyle(description…"
      ]
     },
     "metadata": {},
     "output_type": "display_data"
    },
    {
     "name": "stdout",
     "output_type": "stream",
     "text": [
      "\n",
      "Loss history: [0.605769564708074, 0.4612632393836975, 0.3484412282705307, 0.29717086255550385, 0.26731228331724805, 0.24957897265752158, 0.2357658992211024, 0.22482032080491385, 0.21327275782823563, 0.20361091196537018, 0.19357392440239587, 0.18363535155852637, 0.1735388288895289, 0.1645234872897466, 0.15794453273216882, 0.1493313138683637, 0.1438723181684812]\n",
      "Dev loss: 0.14142207925518355\n"
     ]
    },
    {
     "name": "stderr",
     "output_type": "stream",
     "text": [
      "\n",
      "Epoch:  18%|█▊        | 18/100 [02:04<09:27,  6.91s/it]\u001b[A"
     ]
    },
    {
     "data": {
      "application/vnd.jupyter.widget-view+json": {
       "model_id": "fa007f35c3654ca5ba1694f08daf4598",
       "version_major": 2,
       "version_minor": 0
      },
      "text/plain": [
       "HBox(children=(IntProgress(value=0, description='Training iteration', max=29, style=ProgressStyle(description_…"
      ]
     },
     "metadata": {},
     "output_type": "display_data"
    },
    {
     "name": "stdout",
     "output_type": "stream",
     "text": [
      "\n"
     ]
    },
    {
     "data": {
      "application/vnd.jupyter.widget-view+json": {
       "model_id": "379a85cbea9549f3baaea58d33a11fae",
       "version_major": 2,
       "version_minor": 0
      },
      "text/plain": [
       "HBox(children=(IntProgress(value=0, description='Evaluation iteration', max=6, style=ProgressStyle(description…"
      ]
     },
     "metadata": {},
     "output_type": "display_data"
    },
    {
     "name": "stdout",
     "output_type": "stream",
     "text": [
      "\n",
      "Loss history: [0.605769564708074, 0.4612632393836975, 0.3484412282705307, 0.29717086255550385, 0.26731228331724805, 0.24957897265752158, 0.2357658992211024, 0.22482032080491385, 0.21327275782823563, 0.20361091196537018, 0.19357392440239587, 0.18363535155852637, 0.1735388288895289, 0.1645234872897466, 0.15794453273216882, 0.1493313138683637, 0.1438723181684812, 0.14142207925518355]\n",
      "Dev loss: 0.13510849823554358\n"
     ]
    },
    {
     "name": "stderr",
     "output_type": "stream",
     "text": [
      "\n",
      "Epoch:  19%|█▉        | 19/100 [02:11<09:20,  6.92s/it]\u001b[A"
     ]
    },
    {
     "data": {
      "application/vnd.jupyter.widget-view+json": {
       "model_id": "248d3f8103ad4745bbd1dc8c2a6311db",
       "version_major": 2,
       "version_minor": 0
      },
      "text/plain": [
       "HBox(children=(IntProgress(value=0, description='Training iteration', max=29, style=ProgressStyle(description_…"
      ]
     },
     "metadata": {},
     "output_type": "display_data"
    },
    {
     "name": "stdout",
     "output_type": "stream",
     "text": [
      "\n"
     ]
    },
    {
     "data": {
      "application/vnd.jupyter.widget-view+json": {
       "model_id": "f20a44b5d7334e2ca1905b48c79d6afc",
       "version_major": 2,
       "version_minor": 0
      },
      "text/plain": [
       "HBox(children=(IntProgress(value=0, description='Evaluation iteration', max=6, style=ProgressStyle(description…"
      ]
     },
     "metadata": {},
     "output_type": "display_data"
    },
    {
     "name": "stdout",
     "output_type": "stream",
     "text": [
      "\n",
      "Loss history: [0.605769564708074, 0.4612632393836975, 0.3484412282705307, 0.29717086255550385, 0.26731228331724805, 0.24957897265752158, 0.2357658992211024, 0.22482032080491385, 0.21327275782823563, 0.20361091196537018, 0.19357392440239587, 0.18363535155852637, 0.1735388288895289, 0.1645234872897466, 0.15794453273216882, 0.1493313138683637, 0.1438723181684812, 0.14142207925518355, 0.13510849823554358]\n",
      "Dev loss: 0.13173267617821693\n"
     ]
    },
    {
     "name": "stderr",
     "output_type": "stream",
     "text": [
      "\n",
      "Epoch:  20%|██        | 20/100 [02:18<09:13,  6.92s/it]\u001b[A"
     ]
    },
    {
     "data": {
      "application/vnd.jupyter.widget-view+json": {
       "model_id": "676e0c238ae4422689344c6694b6944c",
       "version_major": 2,
       "version_minor": 0
      },
      "text/plain": [
       "HBox(children=(IntProgress(value=0, description='Training iteration', max=29, style=ProgressStyle(description_…"
      ]
     },
     "metadata": {},
     "output_type": "display_data"
    },
    {
     "name": "stdout",
     "output_type": "stream",
     "text": [
      "\n"
     ]
    },
    {
     "data": {
      "application/vnd.jupyter.widget-view+json": {
       "model_id": "f61d783615034f508e94f0e4034a65b1",
       "version_major": 2,
       "version_minor": 0
      },
      "text/plain": [
       "HBox(children=(IntProgress(value=0, description='Evaluation iteration', max=6, style=ProgressStyle(description…"
      ]
     },
     "metadata": {},
     "output_type": "display_data"
    },
    {
     "name": "stdout",
     "output_type": "stream",
     "text": [
      "\n",
      "Loss history: [0.605769564708074, 0.4612632393836975, 0.3484412282705307, 0.29717086255550385, 0.26731228331724805, 0.24957897265752158, 0.2357658992211024, 0.22482032080491385, 0.21327275782823563, 0.20361091196537018, 0.19357392440239587, 0.18363535155852637, 0.1735388288895289, 0.1645234872897466, 0.15794453273216882, 0.1493313138683637, 0.1438723181684812, 0.14142207925518355, 0.13510849823554358, 0.13173267617821693]\n",
      "Dev loss: 0.1275815355281035\n"
     ]
    },
    {
     "name": "stderr",
     "output_type": "stream",
     "text": [
      "\n",
      "Epoch:  21%|██        | 21/100 [02:25<09:06,  6.92s/it]\u001b[A"
     ]
    },
    {
     "data": {
      "application/vnd.jupyter.widget-view+json": {
       "model_id": "d35240fda91f40e1931b9b6bb01c48d9",
       "version_major": 2,
       "version_minor": 0
      },
      "text/plain": [
       "HBox(children=(IntProgress(value=0, description='Training iteration', max=29, style=ProgressStyle(description_…"
      ]
     },
     "metadata": {},
     "output_type": "display_data"
    },
    {
     "name": "stdout",
     "output_type": "stream",
     "text": [
      "\n"
     ]
    },
    {
     "data": {
      "application/vnd.jupyter.widget-view+json": {
       "model_id": "ed1ef67ea94b49759eed041213e70377",
       "version_major": 2,
       "version_minor": 0
      },
      "text/plain": [
       "HBox(children=(IntProgress(value=0, description='Evaluation iteration', max=6, style=ProgressStyle(description…"
      ]
     },
     "metadata": {},
     "output_type": "display_data"
    },
    {
     "name": "stdout",
     "output_type": "stream",
     "text": [
      "\n",
      "Loss history: [0.605769564708074, 0.4612632393836975, 0.3484412282705307, 0.29717086255550385, 0.26731228331724805, 0.24957897265752158, 0.2357658992211024, 0.22482032080491385, 0.21327275782823563, 0.20361091196537018, 0.19357392440239587, 0.18363535155852637, 0.1735388288895289, 0.1645234872897466, 0.15794453273216882, 0.1493313138683637, 0.1438723181684812, 0.14142207925518355, 0.13510849823554358, 0.13173267617821693, 0.1275815355281035]\n",
      "Dev loss: 0.1236833209792773\n"
     ]
    },
    {
     "name": "stderr",
     "output_type": "stream",
     "text": [
      "\n",
      "Epoch:  22%|██▏       | 22/100 [02:32<08:59,  6.92s/it]\u001b[A"
     ]
    },
    {
     "data": {
      "application/vnd.jupyter.widget-view+json": {
       "model_id": "ec7c1f42a7094c4299db4c63707bd791",
       "version_major": 2,
       "version_minor": 0
      },
      "text/plain": [
       "HBox(children=(IntProgress(value=0, description='Training iteration', max=29, style=ProgressStyle(description_…"
      ]
     },
     "metadata": {},
     "output_type": "display_data"
    },
    {
     "name": "stdout",
     "output_type": "stream",
     "text": [
      "\n"
     ]
    },
    {
     "data": {
      "application/vnd.jupyter.widget-view+json": {
       "model_id": "bbf2274613a04e9e9ac0b43db524f458",
       "version_major": 2,
       "version_minor": 0
      },
      "text/plain": [
       "HBox(children=(IntProgress(value=0, description='Evaluation iteration', max=6, style=ProgressStyle(description…"
      ]
     },
     "metadata": {},
     "output_type": "display_data"
    },
    {
     "name": "stdout",
     "output_type": "stream",
     "text": [
      "\n",
      "Loss history: [0.605769564708074, 0.4612632393836975, 0.3484412282705307, 0.29717086255550385, 0.26731228331724805, 0.24957897265752158, 0.2357658992211024, 0.22482032080491385, 0.21327275782823563, 0.20361091196537018, 0.19357392440239587, 0.18363535155852637, 0.1735388288895289, 0.1645234872897466, 0.15794453273216882, 0.1493313138683637, 0.1438723181684812, 0.14142207925518355, 0.13510849823554358, 0.13173267617821693, 0.1275815355281035, 0.1236833209792773]\n",
      "Dev loss: 0.12003363420565923\n"
     ]
    },
    {
     "name": "stderr",
     "output_type": "stream",
     "text": [
      "\n",
      "Epoch:  23%|██▎       | 23/100 [02:39<08:52,  6.92s/it]\u001b[A"
     ]
    },
    {
     "data": {
      "application/vnd.jupyter.widget-view+json": {
       "model_id": "e603d910e5984e4c81d50d37cc878335",
       "version_major": 2,
       "version_minor": 0
      },
      "text/plain": [
       "HBox(children=(IntProgress(value=0, description='Training iteration', max=29, style=ProgressStyle(description_…"
      ]
     },
     "metadata": {},
     "output_type": "display_data"
    },
    {
     "name": "stdout",
     "output_type": "stream",
     "text": [
      "\n"
     ]
    },
    {
     "data": {
      "application/vnd.jupyter.widget-view+json": {
       "model_id": "08f6af1c86574813aea846ced0747af1",
       "version_major": 2,
       "version_minor": 0
      },
      "text/plain": [
       "HBox(children=(IntProgress(value=0, description='Evaluation iteration', max=6, style=ProgressStyle(description…"
      ]
     },
     "metadata": {},
     "output_type": "display_data"
    },
    {
     "name": "stdout",
     "output_type": "stream",
     "text": [
      "\n",
      "Loss history: [0.605769564708074, 0.4612632393836975, 0.3484412282705307, 0.29717086255550385, 0.26731228331724805, 0.24957897265752158, 0.2357658992211024, 0.22482032080491385, 0.21327275782823563, 0.20361091196537018, 0.19357392440239587, 0.18363535155852637, 0.1735388288895289, 0.1645234872897466, 0.15794453273216882, 0.1493313138683637, 0.1438723181684812, 0.14142207925518355, 0.13510849823554358, 0.13173267617821693, 0.1275815355281035, 0.1236833209792773, 0.12003363420565923]\n",
      "Dev loss: 0.11891685674587886\n"
     ]
    },
    {
     "name": "stderr",
     "output_type": "stream",
     "text": [
      "\n",
      "Epoch:  24%|██▍       | 24/100 [02:45<08:45,  6.92s/it]\u001b[A"
     ]
    },
    {
     "data": {
      "application/vnd.jupyter.widget-view+json": {
       "model_id": "8096b671dec2445ab5c6cbfda9b3b88b",
       "version_major": 2,
       "version_minor": 0
      },
      "text/plain": [
       "HBox(children=(IntProgress(value=0, description='Training iteration', max=29, style=ProgressStyle(description_…"
      ]
     },
     "metadata": {},
     "output_type": "display_data"
    },
    {
     "name": "stdout",
     "output_type": "stream",
     "text": [
      "\n"
     ]
    },
    {
     "data": {
      "application/vnd.jupyter.widget-view+json": {
       "model_id": "a8c93e1eeff24e5695b5a675910952e1",
       "version_major": 2,
       "version_minor": 0
      },
      "text/plain": [
       "HBox(children=(IntProgress(value=0, description='Evaluation iteration', max=6, style=ProgressStyle(description…"
      ]
     },
     "metadata": {},
     "output_type": "display_data"
    },
    {
     "name": "stdout",
     "output_type": "stream",
     "text": [
      "\n",
      "Loss history: [0.605769564708074, 0.4612632393836975, 0.3484412282705307, 0.29717086255550385, 0.26731228331724805, 0.24957897265752158, 0.2357658992211024, 0.22482032080491385, 0.21327275782823563, 0.20361091196537018, 0.19357392440239587, 0.18363535155852637, 0.1735388288895289, 0.1645234872897466, 0.15794453273216882, 0.1493313138683637, 0.1438723181684812, 0.14142207925518355, 0.13510849823554358, 0.13173267617821693, 0.1275815355281035, 0.1236833209792773, 0.12003363420565923, 0.11891685674587886]\n",
      "Dev loss: 0.11540696894129117\n"
     ]
    },
    {
     "name": "stderr",
     "output_type": "stream",
     "text": [
      "\n",
      "Epoch:  25%|██▌       | 25/100 [02:52<08:38,  6.92s/it]\u001b[A"
     ]
    },
    {
     "data": {
      "application/vnd.jupyter.widget-view+json": {
       "model_id": "2b656a934b2c4e2880cf62485ab197fc",
       "version_major": 2,
       "version_minor": 0
      },
      "text/plain": [
       "HBox(children=(IntProgress(value=0, description='Training iteration', max=29, style=ProgressStyle(description_…"
      ]
     },
     "metadata": {},
     "output_type": "display_data"
    },
    {
     "name": "stdout",
     "output_type": "stream",
     "text": [
      "\n"
     ]
    },
    {
     "data": {
      "application/vnd.jupyter.widget-view+json": {
       "model_id": "2d565885fe284817a3a2a8fb598c6fc3",
       "version_major": 2,
       "version_minor": 0
      },
      "text/plain": [
       "HBox(children=(IntProgress(value=0, description='Evaluation iteration', max=6, style=ProgressStyle(description…"
      ]
     },
     "metadata": {},
     "output_type": "display_data"
    },
    {
     "name": "stderr",
     "output_type": "stream",
     "text": [
      "\n",
      "Epoch:  26%|██▌       | 26/100 [02:59<08:21,  6.78s/it]\u001b[A"
     ]
    },
    {
     "name": "stdout",
     "output_type": "stream",
     "text": [
      "\n",
      "Loss history: [0.605769564708074, 0.4612632393836975, 0.3484412282705307, 0.29717086255550385, 0.26731228331724805, 0.24957897265752158, 0.2357658992211024, 0.22482032080491385, 0.21327275782823563, 0.20361091196537018, 0.19357392440239587, 0.18363535155852637, 0.1735388288895289, 0.1645234872897466, 0.15794453273216882, 0.1493313138683637, 0.1438723181684812, 0.14142207925518355, 0.13510849823554358, 0.13173267617821693, 0.1275815355281035, 0.1236833209792773, 0.12003363420565923, 0.11891685674587886, 0.11540696894129117]\n",
      "Dev loss: 0.11576371019085248\n"
     ]
    },
    {
     "data": {
      "application/vnd.jupyter.widget-view+json": {
       "model_id": "b333496b2e2f403b9cef10dd49f9681b",
       "version_major": 2,
       "version_minor": 0
      },
      "text/plain": [
       "HBox(children=(IntProgress(value=0, description='Training iteration', max=29, style=ProgressStyle(description_…"
      ]
     },
     "metadata": {},
     "output_type": "display_data"
    },
    {
     "name": "stdout",
     "output_type": "stream",
     "text": [
      "\n"
     ]
    },
    {
     "data": {
      "application/vnd.jupyter.widget-view+json": {
       "model_id": "d5368af3d4c946219db392432d907090",
       "version_major": 2,
       "version_minor": 0
      },
      "text/plain": [
       "HBox(children=(IntProgress(value=0, description='Evaluation iteration', max=6, style=ProgressStyle(description…"
      ]
     },
     "metadata": {},
     "output_type": "display_data"
    },
    {
     "name": "stdout",
     "output_type": "stream",
     "text": [
      "\n",
      "Loss history: [0.605769564708074, 0.4612632393836975, 0.3484412282705307, 0.29717086255550385, 0.26731228331724805, 0.24957897265752158, 0.2357658992211024, 0.22482032080491385, 0.21327275782823563, 0.20361091196537018, 0.19357392440239587, 0.18363535155852637, 0.1735388288895289, 0.1645234872897466, 0.15794453273216882, 0.1493313138683637, 0.1438723181684812, 0.14142207925518355, 0.13510849823554358, 0.13173267617821693, 0.1275815355281035, 0.1236833209792773, 0.12003363420565923, 0.11891685674587886, 0.11540696894129117, 0.11576371019085248]\n",
      "Dev loss: 0.1132194995880127\n"
     ]
    },
    {
     "name": "stderr",
     "output_type": "stream",
     "text": [
      "\n",
      "Epoch:  27%|██▋       | 27/100 [03:06<08:17,  6.82s/it]\u001b[A"
     ]
    },
    {
     "data": {
      "application/vnd.jupyter.widget-view+json": {
       "model_id": "42cfa2a526284210a429835654343bdc",
       "version_major": 2,
       "version_minor": 0
      },
      "text/plain": [
       "HBox(children=(IntProgress(value=0, description='Training iteration', max=29, style=ProgressStyle(description_…"
      ]
     },
     "metadata": {},
     "output_type": "display_data"
    },
    {
     "name": "stdout",
     "output_type": "stream",
     "text": [
      "\n"
     ]
    },
    {
     "data": {
      "application/vnd.jupyter.widget-view+json": {
       "model_id": "027e2b401e37418c837c5e09d5a1f56b",
       "version_major": 2,
       "version_minor": 0
      },
      "text/plain": [
       "HBox(children=(IntProgress(value=0, description='Evaluation iteration', max=6, style=ProgressStyle(description…"
      ]
     },
     "metadata": {},
     "output_type": "display_data"
    },
    {
     "name": "stdout",
     "output_type": "stream",
     "text": [
      "\n",
      "Loss history: [0.605769564708074, 0.4612632393836975, 0.3484412282705307, 0.29717086255550385, 0.26731228331724805, 0.24957897265752158, 0.2357658992211024, 0.22482032080491385, 0.21327275782823563, 0.20361091196537018, 0.19357392440239587, 0.18363535155852637, 0.1735388288895289, 0.1645234872897466, 0.15794453273216882, 0.1493313138683637, 0.1438723181684812, 0.14142207925518355, 0.13510849823554358, 0.13173267617821693, 0.1275815355281035, 0.1236833209792773, 0.12003363420565923, 0.11891685674587886, 0.11540696894129117, 0.11576371019085248, 0.1132194995880127]\n",
      "Dev loss: 0.10920468717813492\n"
     ]
    },
    {
     "name": "stderr",
     "output_type": "stream",
     "text": [
      "\n",
      "Epoch:  28%|██▊       | 28/100 [03:13<08:13,  6.85s/it]\u001b[A"
     ]
    },
    {
     "data": {
      "application/vnd.jupyter.widget-view+json": {
       "model_id": "18ba0c44ba3442ebb405b1194a4f4786",
       "version_major": 2,
       "version_minor": 0
      },
      "text/plain": [
       "HBox(children=(IntProgress(value=0, description='Training iteration', max=29, style=ProgressStyle(description_…"
      ]
     },
     "metadata": {},
     "output_type": "display_data"
    },
    {
     "name": "stdout",
     "output_type": "stream",
     "text": [
      "\n"
     ]
    },
    {
     "data": {
      "application/vnd.jupyter.widget-view+json": {
       "model_id": "cb03e1baa3c844f5960248983b2d69ec",
       "version_major": 2,
       "version_minor": 0
      },
      "text/plain": [
       "HBox(children=(IntProgress(value=0, description='Evaluation iteration', max=6, style=ProgressStyle(description…"
      ]
     },
     "metadata": {},
     "output_type": "display_data"
    },
    {
     "name": "stderr",
     "output_type": "stream",
     "text": [
      "\n",
      "Epoch:  29%|██▉       | 29/100 [03:19<07:58,  6.73s/it]\u001b[A"
     ]
    },
    {
     "name": "stdout",
     "output_type": "stream",
     "text": [
      "\n",
      "Loss history: [0.605769564708074, 0.4612632393836975, 0.3484412282705307, 0.29717086255550385, 0.26731228331724805, 0.24957897265752158, 0.2357658992211024, 0.22482032080491385, 0.21327275782823563, 0.20361091196537018, 0.19357392440239587, 0.18363535155852637, 0.1735388288895289, 0.1645234872897466, 0.15794453273216882, 0.1493313138683637, 0.1438723181684812, 0.14142207925518355, 0.13510849823554358, 0.13173267617821693, 0.1275815355281035, 0.1236833209792773, 0.12003363420565923, 0.11891685674587886, 0.11540696894129117, 0.11576371019085248, 0.1132194995880127, 0.10920468717813492]\n",
      "Dev loss: 0.10964834193388621\n"
     ]
    },
    {
     "data": {
      "application/vnd.jupyter.widget-view+json": {
       "model_id": "00ff8c714be3460fab55f380e56599a2",
       "version_major": 2,
       "version_minor": 0
      },
      "text/plain": [
       "HBox(children=(IntProgress(value=0, description='Training iteration', max=29, style=ProgressStyle(description_…"
      ]
     },
     "metadata": {},
     "output_type": "display_data"
    },
    {
     "name": "stdout",
     "output_type": "stream",
     "text": [
      "\n"
     ]
    },
    {
     "data": {
      "application/vnd.jupyter.widget-view+json": {
       "model_id": "71c7ec2c106b4d4f9630618b7a21036c",
       "version_major": 2,
       "version_minor": 0
      },
      "text/plain": [
       "HBox(children=(IntProgress(value=0, description='Evaluation iteration', max=6, style=ProgressStyle(description…"
      ]
     },
     "metadata": {},
     "output_type": "display_data"
    },
    {
     "name": "stdout",
     "output_type": "stream",
     "text": [
      "\n",
      "Loss history: [0.605769564708074, 0.4612632393836975, 0.3484412282705307, 0.29717086255550385, 0.26731228331724805, 0.24957897265752158, 0.2357658992211024, 0.22482032080491385, 0.21327275782823563, 0.20361091196537018, 0.19357392440239587, 0.18363535155852637, 0.1735388288895289, 0.1645234872897466, 0.15794453273216882, 0.1493313138683637, 0.1438723181684812, 0.14142207925518355, 0.13510849823554358, 0.13173267617821693, 0.1275815355281035, 0.1236833209792773, 0.12003363420565923, 0.11891685674587886, 0.11540696894129117, 0.11576371019085248, 0.1132194995880127, 0.10920468717813492, 0.10964834193388621]\n",
      "Dev loss: 0.10718649377425511\n"
     ]
    },
    {
     "name": "stderr",
     "output_type": "stream",
     "text": [
      "\n",
      "Epoch:  30%|███       | 30/100 [03:26<07:55,  6.79s/it]\u001b[A"
     ]
    },
    {
     "data": {
      "application/vnd.jupyter.widget-view+json": {
       "model_id": "2fe75ef11e004ab1ba5ca22d27e0378a",
       "version_major": 2,
       "version_minor": 0
      },
      "text/plain": [
       "HBox(children=(IntProgress(value=0, description='Training iteration', max=29, style=ProgressStyle(description_…"
      ]
     },
     "metadata": {},
     "output_type": "display_data"
    },
    {
     "name": "stdout",
     "output_type": "stream",
     "text": [
      "\n"
     ]
    },
    {
     "data": {
      "application/vnd.jupyter.widget-view+json": {
       "model_id": "0216a77b6cbc4d6183f171e51875f5e1",
       "version_major": 2,
       "version_minor": 0
      },
      "text/plain": [
       "HBox(children=(IntProgress(value=0, description='Evaluation iteration', max=6, style=ProgressStyle(description…"
      ]
     },
     "metadata": {},
     "output_type": "display_data"
    },
    {
     "name": "stdout",
     "output_type": "stream",
     "text": [
      "\n",
      "Loss history: [0.605769564708074, 0.4612632393836975, 0.3484412282705307, 0.29717086255550385, 0.26731228331724805, 0.24957897265752158, 0.2357658992211024, 0.22482032080491385, 0.21327275782823563, 0.20361091196537018, 0.19357392440239587, 0.18363535155852637, 0.1735388288895289, 0.1645234872897466, 0.15794453273216882, 0.1493313138683637, 0.1438723181684812, 0.14142207925518355, 0.13510849823554358, 0.13173267617821693, 0.1275815355281035, 0.1236833209792773, 0.12003363420565923, 0.11891685674587886, 0.11540696894129117, 0.11576371019085248, 0.1132194995880127, 0.10920468717813492, 0.10964834193388621, 0.10718649377425511]\n",
      "Dev loss: 0.10522439082463582\n"
     ]
    },
    {
     "name": "stderr",
     "output_type": "stream",
     "text": [
      "\n",
      "Epoch:  31%|███       | 31/100 [03:33<07:50,  6.83s/it]\u001b[A"
     ]
    },
    {
     "data": {
      "application/vnd.jupyter.widget-view+json": {
       "model_id": "b11d347c56ed4929adc9f0194e074bdf",
       "version_major": 2,
       "version_minor": 0
      },
      "text/plain": [
       "HBox(children=(IntProgress(value=0, description='Training iteration', max=29, style=ProgressStyle(description_…"
      ]
     },
     "metadata": {},
     "output_type": "display_data"
    },
    {
     "name": "stdout",
     "output_type": "stream",
     "text": [
      "\n"
     ]
    },
    {
     "data": {
      "application/vnd.jupyter.widget-view+json": {
       "model_id": "4e63ca7a774a4ecfbc60606d17bbd71d",
       "version_major": 2,
       "version_minor": 0
      },
      "text/plain": [
       "HBox(children=(IntProgress(value=0, description='Evaluation iteration', max=6, style=ProgressStyle(description…"
      ]
     },
     "metadata": {},
     "output_type": "display_data"
    },
    {
     "name": "stdout",
     "output_type": "stream",
     "text": [
      "\n",
      "Loss history: [0.605769564708074, 0.4612632393836975, 0.3484412282705307, 0.29717086255550385, 0.26731228331724805, 0.24957897265752158, 0.2357658992211024, 0.22482032080491385, 0.21327275782823563, 0.20361091196537018, 0.19357392440239587, 0.18363535155852637, 0.1735388288895289, 0.1645234872897466, 0.15794453273216882, 0.1493313138683637, 0.1438723181684812, 0.14142207925518355, 0.13510849823554358, 0.13173267617821693, 0.1275815355281035, 0.1236833209792773, 0.12003363420565923, 0.11891685674587886, 0.11540696894129117, 0.11576371019085248, 0.1132194995880127, 0.10920468717813492, 0.10964834193388621, 0.10718649377425511, 0.10522439082463582]\n",
      "Dev loss: 0.10399086276690166\n"
     ]
    },
    {
     "name": "stderr",
     "output_type": "stream",
     "text": [
      "\n",
      "Epoch:  32%|███▏      | 32/100 [03:40<07:45,  6.85s/it]\u001b[A"
     ]
    },
    {
     "data": {
      "application/vnd.jupyter.widget-view+json": {
       "model_id": "3fe9394209c64897a2a5896fbc3363fb",
       "version_major": 2,
       "version_minor": 0
      },
      "text/plain": [
       "HBox(children=(IntProgress(value=0, description='Training iteration', max=29, style=ProgressStyle(description_…"
      ]
     },
     "metadata": {},
     "output_type": "display_data"
    },
    {
     "name": "stdout",
     "output_type": "stream",
     "text": [
      "\n"
     ]
    },
    {
     "data": {
      "application/vnd.jupyter.widget-view+json": {
       "model_id": "469f233936c046e4b98549eec923e2f2",
       "version_major": 2,
       "version_minor": 0
      },
      "text/plain": [
       "HBox(children=(IntProgress(value=0, description='Evaluation iteration', max=6, style=ProgressStyle(description…"
      ]
     },
     "metadata": {},
     "output_type": "display_data"
    },
    {
     "name": "stdout",
     "output_type": "stream",
     "text": [
      "\n",
      "Loss history: [0.605769564708074, 0.4612632393836975, 0.3484412282705307, 0.29717086255550385, 0.26731228331724805, 0.24957897265752158, 0.2357658992211024, 0.22482032080491385, 0.21327275782823563, 0.20361091196537018, 0.19357392440239587, 0.18363535155852637, 0.1735388288895289, 0.1645234872897466, 0.15794453273216882, 0.1493313138683637, 0.1438723181684812, 0.14142207925518355, 0.13510849823554358, 0.13173267617821693, 0.1275815355281035, 0.1236833209792773, 0.12003363420565923, 0.11891685674587886, 0.11540696894129117, 0.11576371019085248, 0.1132194995880127, 0.10920468717813492, 0.10964834193388621, 0.10718649377425511, 0.10522439082463582, 0.10399086276690166]\n",
      "Dev loss: 0.10198018079002698\n"
     ]
    },
    {
     "name": "stderr",
     "output_type": "stream",
     "text": [
      "\n",
      "Epoch:  33%|███▎      | 33/100 [03:47<07:40,  6.87s/it]\u001b[A"
     ]
    },
    {
     "data": {
      "application/vnd.jupyter.widget-view+json": {
       "model_id": "106cf327892e48e397d93fbdd39904ab",
       "version_major": 2,
       "version_minor": 0
      },
      "text/plain": [
       "HBox(children=(IntProgress(value=0, description='Training iteration', max=29, style=ProgressStyle(description_…"
      ]
     },
     "metadata": {},
     "output_type": "display_data"
    },
    {
     "name": "stdout",
     "output_type": "stream",
     "text": [
      "\n"
     ]
    },
    {
     "data": {
      "application/vnd.jupyter.widget-view+json": {
       "model_id": "982a35ccf82f4bd78f9d5670c400e58e",
       "version_major": 2,
       "version_minor": 0
      },
      "text/plain": [
       "HBox(children=(IntProgress(value=0, description='Evaluation iteration', max=6, style=ProgressStyle(description…"
      ]
     },
     "metadata": {},
     "output_type": "display_data"
    },
    {
     "name": "stdout",
     "output_type": "stream",
     "text": [
      "\n",
      "Loss history: [0.605769564708074, 0.4612632393836975, 0.3484412282705307, 0.29717086255550385, 0.26731228331724805, 0.24957897265752158, 0.2357658992211024, 0.22482032080491385, 0.21327275782823563, 0.20361091196537018, 0.19357392440239587, 0.18363535155852637, 0.1735388288895289, 0.1645234872897466, 0.15794453273216882, 0.1493313138683637, 0.1438723181684812, 0.14142207925518355, 0.13510849823554358, 0.13173267617821693, 0.1275815355281035, 0.1236833209792773, 0.12003363420565923, 0.11891685674587886, 0.11540696894129117, 0.11576371019085248, 0.1132194995880127, 0.10920468717813492, 0.10964834193388621, 0.10718649377425511, 0.10522439082463582, 0.10399086276690166, 0.10198018079002698]\n",
      "Dev loss: 0.10100916276375453\n"
     ]
    },
    {
     "name": "stderr",
     "output_type": "stream",
     "text": [
      "\n",
      "Epoch:  34%|███▍      | 34/100 [03:54<07:34,  6.88s/it]\u001b[A"
     ]
    },
    {
     "data": {
      "application/vnd.jupyter.widget-view+json": {
       "model_id": "5635746fdcd74a91aa38ff9552da2644",
       "version_major": 2,
       "version_minor": 0
      },
      "text/plain": [
       "HBox(children=(IntProgress(value=0, description='Training iteration', max=29, style=ProgressStyle(description_…"
      ]
     },
     "metadata": {},
     "output_type": "display_data"
    },
    {
     "name": "stdout",
     "output_type": "stream",
     "text": [
      "\n"
     ]
    },
    {
     "data": {
      "application/vnd.jupyter.widget-view+json": {
       "model_id": "7664307becb745809fc612d836a9c784",
       "version_major": 2,
       "version_minor": 0
      },
      "text/plain": [
       "HBox(children=(IntProgress(value=0, description='Evaluation iteration', max=6, style=ProgressStyle(description…"
      ]
     },
     "metadata": {},
     "output_type": "display_data"
    },
    {
     "name": "stdout",
     "output_type": "stream",
     "text": [
      "\n",
      "Loss history: [0.605769564708074, 0.4612632393836975, 0.3484412282705307, 0.29717086255550385, 0.26731228331724805, 0.24957897265752158, 0.2357658992211024, 0.22482032080491385, 0.21327275782823563, 0.20361091196537018, 0.19357392440239587, 0.18363535155852637, 0.1735388288895289, 0.1645234872897466, 0.15794453273216882, 0.1493313138683637, 0.1438723181684812, 0.14142207925518355, 0.13510849823554358, 0.13173267617821693, 0.1275815355281035, 0.1236833209792773, 0.12003363420565923, 0.11891685674587886, 0.11540696894129117, 0.11576371019085248, 0.1132194995880127, 0.10920468717813492, 0.10964834193388621, 0.10718649377425511, 0.10522439082463582, 0.10399086276690166, 0.10198018079002698, 0.10100916276375453]\n",
      "Dev loss: 0.09902210161089897\n"
     ]
    },
    {
     "name": "stderr",
     "output_type": "stream",
     "text": [
      "\n",
      "Epoch:  35%|███▌      | 35/100 [04:01<07:27,  6.89s/it]\u001b[A"
     ]
    },
    {
     "data": {
      "application/vnd.jupyter.widget-view+json": {
       "model_id": "e26a8efa3a2e4071bad9cf4fcbe553c0",
       "version_major": 2,
       "version_minor": 0
      },
      "text/plain": [
       "HBox(children=(IntProgress(value=0, description='Training iteration', max=29, style=ProgressStyle(description_…"
      ]
     },
     "metadata": {},
     "output_type": "display_data"
    },
    {
     "name": "stdout",
     "output_type": "stream",
     "text": [
      "\n"
     ]
    },
    {
     "data": {
      "application/vnd.jupyter.widget-view+json": {
       "model_id": "5e466b46e40745cdb791a734b39e75c4",
       "version_major": 2,
       "version_minor": 0
      },
      "text/plain": [
       "HBox(children=(IntProgress(value=0, description='Evaluation iteration', max=6, style=ProgressStyle(description…"
      ]
     },
     "metadata": {},
     "output_type": "display_data"
    },
    {
     "name": "stderr",
     "output_type": "stream",
     "text": [
      "\n",
      "Epoch:  36%|███▌      | 36/100 [04:07<07:12,  6.76s/it]\u001b[A"
     ]
    },
    {
     "name": "stdout",
     "output_type": "stream",
     "text": [
      "\n",
      "Loss history: [0.605769564708074, 0.4612632393836975, 0.3484412282705307, 0.29717086255550385, 0.26731228331724805, 0.24957897265752158, 0.2357658992211024, 0.22482032080491385, 0.21327275782823563, 0.20361091196537018, 0.19357392440239587, 0.18363535155852637, 0.1735388288895289, 0.1645234872897466, 0.15794453273216882, 0.1493313138683637, 0.1438723181684812, 0.14142207925518355, 0.13510849823554358, 0.13173267617821693, 0.1275815355281035, 0.1236833209792773, 0.12003363420565923, 0.11891685674587886, 0.11540696894129117, 0.11576371019085248, 0.1132194995880127, 0.10920468717813492, 0.10964834193388621, 0.10718649377425511, 0.10522439082463582, 0.10399086276690166, 0.10198018079002698, 0.10100916276375453, 0.09902210161089897]\n",
      "Dev loss: 0.0992783469458421\n"
     ]
    },
    {
     "data": {
      "application/vnd.jupyter.widget-view+json": {
       "model_id": "10e02fe6dc464a72af8fac7266c1245a",
       "version_major": 2,
       "version_minor": 0
      },
      "text/plain": [
       "HBox(children=(IntProgress(value=0, description='Training iteration', max=29, style=ProgressStyle(description_…"
      ]
     },
     "metadata": {},
     "output_type": "display_data"
    },
    {
     "name": "stdout",
     "output_type": "stream",
     "text": [
      "\n"
     ]
    },
    {
     "data": {
      "application/vnd.jupyter.widget-view+json": {
       "model_id": "2ebb0011db3f4ae38daea4ce4168f765",
       "version_major": 2,
       "version_minor": 0
      },
      "text/plain": [
       "HBox(children=(IntProgress(value=0, description='Evaluation iteration', max=6, style=ProgressStyle(description…"
      ]
     },
     "metadata": {},
     "output_type": "display_data"
    },
    {
     "name": "stdout",
     "output_type": "stream",
     "text": [
      "\n",
      "Loss history: [0.605769564708074, 0.4612632393836975, 0.3484412282705307, 0.29717086255550385, 0.26731228331724805, 0.24957897265752158, 0.2357658992211024, 0.22482032080491385, 0.21327275782823563, 0.20361091196537018, 0.19357392440239587, 0.18363535155852637, 0.1735388288895289, 0.1645234872897466, 0.15794453273216882, 0.1493313138683637, 0.1438723181684812, 0.14142207925518355, 0.13510849823554358, 0.13173267617821693, 0.1275815355281035, 0.1236833209792773, 0.12003363420565923, 0.11891685674587886, 0.11540696894129117, 0.11576371019085248, 0.1132194995880127, 0.10920468717813492, 0.10964834193388621, 0.10718649377425511, 0.10522439082463582, 0.10399086276690166, 0.10198018079002698, 0.10100916276375453, 0.09902210161089897, 0.0992783469458421]\n",
      "Dev loss: 0.09752156212925911\n"
     ]
    },
    {
     "name": "stderr",
     "output_type": "stream",
     "text": [
      "\n",
      "Epoch:  37%|███▋      | 37/100 [04:14<07:08,  6.81s/it]\u001b[A"
     ]
    },
    {
     "data": {
      "application/vnd.jupyter.widget-view+json": {
       "model_id": "48d1f86e49ae446dabe5be1ef3aef6cd",
       "version_major": 2,
       "version_minor": 0
      },
      "text/plain": [
       "HBox(children=(IntProgress(value=0, description='Training iteration', max=29, style=ProgressStyle(description_…"
      ]
     },
     "metadata": {},
     "output_type": "display_data"
    },
    {
     "name": "stdout",
     "output_type": "stream",
     "text": [
      "\n"
     ]
    },
    {
     "data": {
      "application/vnd.jupyter.widget-view+json": {
       "model_id": "4f8218e9f6504fc886fa2f0a531b1b53",
       "version_major": 2,
       "version_minor": 0
      },
      "text/plain": [
       "HBox(children=(IntProgress(value=0, description='Evaluation iteration', max=6, style=ProgressStyle(description…"
      ]
     },
     "metadata": {},
     "output_type": "display_data"
    },
    {
     "name": "stderr",
     "output_type": "stream",
     "text": [
      "\n",
      "Epoch:  38%|███▊      | 38/100 [04:20<06:55,  6.71s/it]\u001b[A"
     ]
    },
    {
     "name": "stdout",
     "output_type": "stream",
     "text": [
      "\n",
      "Loss history: [0.605769564708074, 0.4612632393836975, 0.3484412282705307, 0.29717086255550385, 0.26731228331724805, 0.24957897265752158, 0.2357658992211024, 0.22482032080491385, 0.21327275782823563, 0.20361091196537018, 0.19357392440239587, 0.18363535155852637, 0.1735388288895289, 0.1645234872897466, 0.15794453273216882, 0.1493313138683637, 0.1438723181684812, 0.14142207925518355, 0.13510849823554358, 0.13173267617821693, 0.1275815355281035, 0.1236833209792773, 0.12003363420565923, 0.11891685674587886, 0.11540696894129117, 0.11576371019085248, 0.1132194995880127, 0.10920468717813492, 0.10964834193388621, 0.10718649377425511, 0.10522439082463582, 0.10399086276690166, 0.10198018079002698, 0.10100916276375453, 0.09902210161089897, 0.0992783469458421, 0.09752156212925911]\n",
      "Dev loss: 0.09848614285389583\n"
     ]
    },
    {
     "data": {
      "application/vnd.jupyter.widget-view+json": {
       "model_id": "21c58ece6f4742d288ec668a9ca4f49f",
       "version_major": 2,
       "version_minor": 0
      },
      "text/plain": [
       "HBox(children=(IntProgress(value=0, description='Training iteration', max=29, style=ProgressStyle(description_…"
      ]
     },
     "metadata": {},
     "output_type": "display_data"
    },
    {
     "name": "stdout",
     "output_type": "stream",
     "text": [
      "\n"
     ]
    },
    {
     "data": {
      "application/vnd.jupyter.widget-view+json": {
       "model_id": "74749168656444a49bd10e5aa89c37e7",
       "version_major": 2,
       "version_minor": 0
      },
      "text/plain": [
       "HBox(children=(IntProgress(value=0, description='Evaluation iteration', max=6, style=ProgressStyle(description…"
      ]
     },
     "metadata": {},
     "output_type": "display_data"
    },
    {
     "name": "stdout",
     "output_type": "stream",
     "text": [
      "\n",
      "Loss history: [0.605769564708074, 0.4612632393836975, 0.3484412282705307, 0.29717086255550385, 0.26731228331724805, 0.24957897265752158, 0.2357658992211024, 0.22482032080491385, 0.21327275782823563, 0.20361091196537018, 0.19357392440239587, 0.18363535155852637, 0.1735388288895289, 0.1645234872897466, 0.15794453273216882, 0.1493313138683637, 0.1438723181684812, 0.14142207925518355, 0.13510849823554358, 0.13173267617821693, 0.1275815355281035, 0.1236833209792773, 0.12003363420565923, 0.11891685674587886, 0.11540696894129117, 0.11576371019085248, 0.1132194995880127, 0.10920468717813492, 0.10964834193388621, 0.10718649377425511, 0.10522439082463582, 0.10399086276690166, 0.10198018079002698, 0.10100916276375453, 0.09902210161089897, 0.0992783469458421, 0.09752156212925911, 0.09848614285389583]\n",
      "Dev loss: 0.09702384720245998\n"
     ]
    },
    {
     "name": "stderr",
     "output_type": "stream",
     "text": [
      "\n",
      "Epoch:  39%|███▉      | 39/100 [04:27<06:52,  6.77s/it]\u001b[A"
     ]
    },
    {
     "data": {
      "application/vnd.jupyter.widget-view+json": {
       "model_id": "7acc2bce431a47649fb7538eab5b998a",
       "version_major": 2,
       "version_minor": 0
      },
      "text/plain": [
       "HBox(children=(IntProgress(value=0, description='Training iteration', max=29, style=ProgressStyle(description_…"
      ]
     },
     "metadata": {},
     "output_type": "display_data"
    },
    {
     "name": "stdout",
     "output_type": "stream",
     "text": [
      "\n"
     ]
    },
    {
     "data": {
      "application/vnd.jupyter.widget-view+json": {
       "model_id": "1e742b2fdc21470d8b7405656126b4c1",
       "version_major": 2,
       "version_minor": 0
      },
      "text/plain": [
       "HBox(children=(IntProgress(value=0, description='Evaluation iteration', max=6, style=ProgressStyle(description…"
      ]
     },
     "metadata": {},
     "output_type": "display_data"
    },
    {
     "name": "stdout",
     "output_type": "stream",
     "text": [
      "\n",
      "Loss history: [0.605769564708074, 0.4612632393836975, 0.3484412282705307, 0.29717086255550385, 0.26731228331724805, 0.24957897265752158, 0.2357658992211024, 0.22482032080491385, 0.21327275782823563, 0.20361091196537018, 0.19357392440239587, 0.18363535155852637, 0.1735388288895289, 0.1645234872897466, 0.15794453273216882, 0.1493313138683637, 0.1438723181684812, 0.14142207925518355, 0.13510849823554358, 0.13173267617821693, 0.1275815355281035, 0.1236833209792773, 0.12003363420565923, 0.11891685674587886, 0.11540696894129117, 0.11576371019085248, 0.1132194995880127, 0.10920468717813492, 0.10964834193388621, 0.10718649377425511, 0.10522439082463582, 0.10399086276690166, 0.10198018079002698, 0.10100916276375453, 0.09902210161089897, 0.0992783469458421, 0.09752156212925911, 0.09848614285389583, 0.09702384720245998]\n",
      "Dev loss: 0.09578496466080348\n"
     ]
    },
    {
     "name": "stderr",
     "output_type": "stream",
     "text": [
      "\n",
      "Epoch:  40%|████      | 40/100 [04:34<06:48,  6.81s/it]\u001b[A"
     ]
    },
    {
     "data": {
      "application/vnd.jupyter.widget-view+json": {
       "model_id": "fe9b59ef5eb541c899ffc1870e464648",
       "version_major": 2,
       "version_minor": 0
      },
      "text/plain": [
       "HBox(children=(IntProgress(value=0, description='Training iteration', max=29, style=ProgressStyle(description_…"
      ]
     },
     "metadata": {},
     "output_type": "display_data"
    },
    {
     "name": "stdout",
     "output_type": "stream",
     "text": [
      "\n"
     ]
    },
    {
     "data": {
      "application/vnd.jupyter.widget-view+json": {
       "model_id": "b1cbb6efbbf44620a2b08d32df6fb2c3",
       "version_major": 2,
       "version_minor": 0
      },
      "text/plain": [
       "HBox(children=(IntProgress(value=0, description='Evaluation iteration', max=6, style=ProgressStyle(description…"
      ]
     },
     "metadata": {},
     "output_type": "display_data"
    },
    {
     "name": "stderr",
     "output_type": "stream",
     "text": [
      "\n",
      "Epoch:  41%|████      | 41/100 [04:41<06:35,  6.71s/it]\u001b[A"
     ]
    },
    {
     "name": "stdout",
     "output_type": "stream",
     "text": [
      "\n",
      "Loss history: [0.605769564708074, 0.4612632393836975, 0.3484412282705307, 0.29717086255550385, 0.26731228331724805, 0.24957897265752158, 0.2357658992211024, 0.22482032080491385, 0.21327275782823563, 0.20361091196537018, 0.19357392440239587, 0.18363535155852637, 0.1735388288895289, 0.1645234872897466, 0.15794453273216882, 0.1493313138683637, 0.1438723181684812, 0.14142207925518355, 0.13510849823554358, 0.13173267617821693, 0.1275815355281035, 0.1236833209792773, 0.12003363420565923, 0.11891685674587886, 0.11540696894129117, 0.11576371019085248, 0.1132194995880127, 0.10920468717813492, 0.10964834193388621, 0.10718649377425511, 0.10522439082463582, 0.10399086276690166, 0.10198018079002698, 0.10100916276375453, 0.09902210161089897, 0.0992783469458421, 0.09752156212925911, 0.09848614285389583, 0.09702384720245998, 0.09578496466080348]\n",
      "Dev loss: 0.09599502260486285\n"
     ]
    },
    {
     "data": {
      "application/vnd.jupyter.widget-view+json": {
       "model_id": "13d3de20619a4237a3b8c2133acf35c0",
       "version_major": 2,
       "version_minor": 0
      },
      "text/plain": [
       "HBox(children=(IntProgress(value=0, description='Training iteration', max=29, style=ProgressStyle(description_…"
      ]
     },
     "metadata": {},
     "output_type": "display_data"
    },
    {
     "name": "stdout",
     "output_type": "stream",
     "text": [
      "\n"
     ]
    },
    {
     "data": {
      "application/vnd.jupyter.widget-view+json": {
       "model_id": "4acacad3504f4b0cae2c597a3982ab47",
       "version_major": 2,
       "version_minor": 0
      },
      "text/plain": [
       "HBox(children=(IntProgress(value=0, description='Evaluation iteration', max=6, style=ProgressStyle(description…"
      ]
     },
     "metadata": {},
     "output_type": "display_data"
    },
    {
     "name": "stdout",
     "output_type": "stream",
     "text": [
      "\n",
      "Loss history: [0.605769564708074, 0.4612632393836975, 0.3484412282705307, 0.29717086255550385, 0.26731228331724805, 0.24957897265752158, 0.2357658992211024, 0.22482032080491385, 0.21327275782823563, 0.20361091196537018, 0.19357392440239587, 0.18363535155852637, 0.1735388288895289, 0.1645234872897466, 0.15794453273216882, 0.1493313138683637, 0.1438723181684812, 0.14142207925518355, 0.13510849823554358, 0.13173267617821693, 0.1275815355281035, 0.1236833209792773, 0.12003363420565923, 0.11891685674587886, 0.11540696894129117, 0.11576371019085248, 0.1132194995880127, 0.10920468717813492, 0.10964834193388621, 0.10718649377425511, 0.10522439082463582, 0.10399086276690166, 0.10198018079002698, 0.10100916276375453, 0.09902210161089897, 0.0992783469458421, 0.09752156212925911, 0.09848614285389583, 0.09702384720245998, 0.09578496466080348, 0.09599502260486285]\n",
      "Dev loss: 0.09521357342600822\n"
     ]
    },
    {
     "name": "stderr",
     "output_type": "stream",
     "text": [
      "\n",
      "Epoch:  42%|████▏     | 42/100 [04:48<06:32,  6.77s/it]\u001b[A"
     ]
    },
    {
     "data": {
      "application/vnd.jupyter.widget-view+json": {
       "model_id": "3f26d5f01ac247b3ad993be238173f45",
       "version_major": 2,
       "version_minor": 0
      },
      "text/plain": [
       "HBox(children=(IntProgress(value=0, description='Training iteration', max=29, style=ProgressStyle(description_…"
      ]
     },
     "metadata": {},
     "output_type": "display_data"
    },
    {
     "name": "stdout",
     "output_type": "stream",
     "text": [
      "\n"
     ]
    },
    {
     "data": {
      "application/vnd.jupyter.widget-view+json": {
       "model_id": "6add871caadd4ffab40e6423e6b187b2",
       "version_major": 2,
       "version_minor": 0
      },
      "text/plain": [
       "HBox(children=(IntProgress(value=0, description='Evaluation iteration', max=6, style=ProgressStyle(description…"
      ]
     },
     "metadata": {},
     "output_type": "display_data"
    },
    {
     "name": "stderr",
     "output_type": "stream",
     "text": [
      "\n",
      "Epoch:  43%|████▎     | 43/100 [04:54<06:20,  6.68s/it]\u001b[A"
     ]
    },
    {
     "name": "stdout",
     "output_type": "stream",
     "text": [
      "\n",
      "Loss history: [0.605769564708074, 0.4612632393836975, 0.3484412282705307, 0.29717086255550385, 0.26731228331724805, 0.24957897265752158, 0.2357658992211024, 0.22482032080491385, 0.21327275782823563, 0.20361091196537018, 0.19357392440239587, 0.18363535155852637, 0.1735388288895289, 0.1645234872897466, 0.15794453273216882, 0.1493313138683637, 0.1438723181684812, 0.14142207925518355, 0.13510849823554358, 0.13173267617821693, 0.1275815355281035, 0.1236833209792773, 0.12003363420565923, 0.11891685674587886, 0.11540696894129117, 0.11576371019085248, 0.1132194995880127, 0.10920468717813492, 0.10964834193388621, 0.10718649377425511, 0.10522439082463582, 0.10399086276690166, 0.10198018079002698, 0.10100916276375453, 0.09902210161089897, 0.0992783469458421, 0.09752156212925911, 0.09848614285389583, 0.09702384720245998, 0.09578496466080348, 0.09599502260486285, 0.09521357342600822]\n",
      "Dev loss: 0.09541725864013036\n"
     ]
    },
    {
     "data": {
      "application/vnd.jupyter.widget-view+json": {
       "model_id": "f01dedaf89b44027a25a3965f946c217",
       "version_major": 2,
       "version_minor": 0
      },
      "text/plain": [
       "HBox(children=(IntProgress(value=0, description='Training iteration', max=29, style=ProgressStyle(description_…"
      ]
     },
     "metadata": {},
     "output_type": "display_data"
    },
    {
     "name": "stdout",
     "output_type": "stream",
     "text": [
      "\n"
     ]
    },
    {
     "data": {
      "application/vnd.jupyter.widget-view+json": {
       "model_id": "fbca8acfc08a4fd79bef24b7029ebefb",
       "version_major": 2,
       "version_minor": 0
      },
      "text/plain": [
       "HBox(children=(IntProgress(value=0, description='Evaluation iteration', max=6, style=ProgressStyle(description…"
      ]
     },
     "metadata": {},
     "output_type": "display_data"
    },
    {
     "name": "stdout",
     "output_type": "stream",
     "text": [
      "\n",
      "Loss history: [0.605769564708074, 0.4612632393836975, 0.3484412282705307, 0.29717086255550385, 0.26731228331724805, 0.24957897265752158, 0.2357658992211024, 0.22482032080491385, 0.21327275782823563, 0.20361091196537018, 0.19357392440239587, 0.18363535155852637, 0.1735388288895289, 0.1645234872897466, 0.15794453273216882, 0.1493313138683637, 0.1438723181684812, 0.14142207925518355, 0.13510849823554358, 0.13173267617821693, 0.1275815355281035, 0.1236833209792773, 0.12003363420565923, 0.11891685674587886, 0.11540696894129117, 0.11576371019085248, 0.1132194995880127, 0.10920468717813492, 0.10964834193388621, 0.10718649377425511, 0.10522439082463582, 0.10399086276690166, 0.10198018079002698, 0.10100916276375453, 0.09902210161089897, 0.0992783469458421, 0.09752156212925911, 0.09848614285389583, 0.09702384720245998, 0.09578496466080348, 0.09599502260486285, 0.09521357342600822, 0.09541725864013036]\n",
      "Dev loss: 0.09348195667068164\n"
     ]
    },
    {
     "name": "stderr",
     "output_type": "stream",
     "text": [
      "\n",
      "Epoch:  44%|████▍     | 44/100 [05:01<06:17,  6.75s/it]\u001b[A"
     ]
    },
    {
     "data": {
      "application/vnd.jupyter.widget-view+json": {
       "model_id": "eb10c1ea5e5441788361129511b987d7",
       "version_major": 2,
       "version_minor": 0
      },
      "text/plain": [
       "HBox(children=(IntProgress(value=0, description='Training iteration', max=29, style=ProgressStyle(description_…"
      ]
     },
     "metadata": {},
     "output_type": "display_data"
    },
    {
     "name": "stdout",
     "output_type": "stream",
     "text": [
      "\n"
     ]
    },
    {
     "data": {
      "application/vnd.jupyter.widget-view+json": {
       "model_id": "4f44199460c9485a856d83681ede80b1",
       "version_major": 2,
       "version_minor": 0
      },
      "text/plain": [
       "HBox(children=(IntProgress(value=0, description='Evaluation iteration', max=6, style=ProgressStyle(description…"
      ]
     },
     "metadata": {},
     "output_type": "display_data"
    },
    {
     "name": "stdout",
     "output_type": "stream",
     "text": [
      "\n",
      "Loss history: [0.605769564708074, 0.4612632393836975, 0.3484412282705307, 0.29717086255550385, 0.26731228331724805, 0.24957897265752158, 0.2357658992211024, 0.22482032080491385, 0.21327275782823563, 0.20361091196537018, 0.19357392440239587, 0.18363535155852637, 0.1735388288895289, 0.1645234872897466, 0.15794453273216882, 0.1493313138683637, 0.1438723181684812, 0.14142207925518355, 0.13510849823554358, 0.13173267617821693, 0.1275815355281035, 0.1236833209792773, 0.12003363420565923, 0.11891685674587886, 0.11540696894129117, 0.11576371019085248, 0.1132194995880127, 0.10920468717813492, 0.10964834193388621, 0.10718649377425511, 0.10522439082463582, 0.10399086276690166, 0.10198018079002698, 0.10100916276375453, 0.09902210161089897, 0.0992783469458421, 0.09752156212925911, 0.09848614285389583, 0.09702384720245998, 0.09578496466080348, 0.09599502260486285, 0.09521357342600822, 0.09541725864013036, 0.09348195667068164]\n",
      "Dev loss: 0.09311617724597454\n"
     ]
    },
    {
     "name": "stderr",
     "output_type": "stream",
     "text": [
      "\n",
      "Epoch:  45%|████▌     | 45/100 [05:08<06:13,  6.80s/it]\u001b[A"
     ]
    },
    {
     "data": {
      "application/vnd.jupyter.widget-view+json": {
       "model_id": "9a7f5ea62ad94e55912c9c4c06cf2740",
       "version_major": 2,
       "version_minor": 0
      },
      "text/plain": [
       "HBox(children=(IntProgress(value=0, description='Training iteration', max=29, style=ProgressStyle(description_…"
      ]
     },
     "metadata": {},
     "output_type": "display_data"
    },
    {
     "name": "stdout",
     "output_type": "stream",
     "text": [
      "\n"
     ]
    },
    {
     "data": {
      "application/vnd.jupyter.widget-view+json": {
       "model_id": "79e59248d9444e7caea163f9e449d26e",
       "version_major": 2,
       "version_minor": 0
      },
      "text/plain": [
       "HBox(children=(IntProgress(value=0, description='Evaluation iteration', max=6, style=ProgressStyle(description…"
      ]
     },
     "metadata": {},
     "output_type": "display_data"
    },
    {
     "name": "stdout",
     "output_type": "stream",
     "text": [
      "\n",
      "Loss history: [0.605769564708074, 0.4612632393836975, 0.3484412282705307, 0.29717086255550385, 0.26731228331724805, 0.24957897265752158, 0.2357658992211024, 0.22482032080491385, 0.21327275782823563, 0.20361091196537018, 0.19357392440239587, 0.18363535155852637, 0.1735388288895289, 0.1645234872897466, 0.15794453273216882, 0.1493313138683637, 0.1438723181684812, 0.14142207925518355, 0.13510849823554358, 0.13173267617821693, 0.1275815355281035, 0.1236833209792773, 0.12003363420565923, 0.11891685674587886, 0.11540696894129117, 0.11576371019085248, 0.1132194995880127, 0.10920468717813492, 0.10964834193388621, 0.10718649377425511, 0.10522439082463582, 0.10399086276690166, 0.10198018079002698, 0.10100916276375453, 0.09902210161089897, 0.0992783469458421, 0.09752156212925911, 0.09848614285389583, 0.09702384720245998, 0.09578496466080348, 0.09599502260486285, 0.09521357342600822, 0.09541725864013036, 0.09348195667068164, 0.09311617724597454]\n",
      "Dev loss: 0.09050437373419602\n"
     ]
    },
    {
     "name": "stderr",
     "output_type": "stream",
     "text": [
      "\n",
      "Epoch:  46%|████▌     | 46/100 [05:15<06:09,  6.84s/it]\u001b[A"
     ]
    },
    {
     "data": {
      "application/vnd.jupyter.widget-view+json": {
       "model_id": "1370d79ea5a04f738371a0baeb1bad3a",
       "version_major": 2,
       "version_minor": 0
      },
      "text/plain": [
       "HBox(children=(IntProgress(value=0, description='Training iteration', max=29, style=ProgressStyle(description_…"
      ]
     },
     "metadata": {},
     "output_type": "display_data"
    },
    {
     "name": "stdout",
     "output_type": "stream",
     "text": [
      "\n"
     ]
    },
    {
     "data": {
      "application/vnd.jupyter.widget-view+json": {
       "model_id": "3c7b6b9c989b40feb3adf3f3b58ecd67",
       "version_major": 2,
       "version_minor": 0
      },
      "text/plain": [
       "HBox(children=(IntProgress(value=0, description='Evaluation iteration', max=6, style=ProgressStyle(description…"
      ]
     },
     "metadata": {},
     "output_type": "display_data"
    },
    {
     "name": "stderr",
     "output_type": "stream",
     "text": [
      "\n",
      "Epoch:  47%|████▋     | 47/100 [05:21<05:56,  6.72s/it]\u001b[A"
     ]
    },
    {
     "name": "stdout",
     "output_type": "stream",
     "text": [
      "\n",
      "Loss history: [0.605769564708074, 0.4612632393836975, 0.3484412282705307, 0.29717086255550385, 0.26731228331724805, 0.24957897265752158, 0.2357658992211024, 0.22482032080491385, 0.21327275782823563, 0.20361091196537018, 0.19357392440239587, 0.18363535155852637, 0.1735388288895289, 0.1645234872897466, 0.15794453273216882, 0.1493313138683637, 0.1438723181684812, 0.14142207925518355, 0.13510849823554358, 0.13173267617821693, 0.1275815355281035, 0.1236833209792773, 0.12003363420565923, 0.11891685674587886, 0.11540696894129117, 0.11576371019085248, 0.1132194995880127, 0.10920468717813492, 0.10964834193388621, 0.10718649377425511, 0.10522439082463582, 0.10399086276690166, 0.10198018079002698, 0.10100916276375453, 0.09902210161089897, 0.0992783469458421, 0.09752156212925911, 0.09848614285389583, 0.09702384720245998, 0.09578496466080348, 0.09599502260486285, 0.09521357342600822, 0.09541725864013036, 0.09348195667068164, 0.09311617724597454, 0.09050437373419602]\n",
      "Dev loss: 0.09073082854350407\n"
     ]
    },
    {
     "data": {
      "application/vnd.jupyter.widget-view+json": {
       "model_id": "d47612e1373f4a56aa2c490229399719",
       "version_major": 2,
       "version_minor": 0
      },
      "text/plain": [
       "HBox(children=(IntProgress(value=0, description='Training iteration', max=29, style=ProgressStyle(description_…"
      ]
     },
     "metadata": {},
     "output_type": "display_data"
    },
    {
     "name": "stdout",
     "output_type": "stream",
     "text": [
      "\n"
     ]
    },
    {
     "data": {
      "application/vnd.jupyter.widget-view+json": {
       "model_id": "d592ad4e76124e87a7f4797cea2cc9d2",
       "version_major": 2,
       "version_minor": 0
      },
      "text/plain": [
       "HBox(children=(IntProgress(value=0, description='Evaluation iteration', max=6, style=ProgressStyle(description…"
      ]
     },
     "metadata": {},
     "output_type": "display_data"
    },
    {
     "name": "stderr",
     "output_type": "stream",
     "text": [
      "\n",
      "Epoch:  48%|████▊     | 48/100 [05:28<05:45,  6.65s/it]\u001b[A"
     ]
    },
    {
     "name": "stdout",
     "output_type": "stream",
     "text": [
      "\n",
      "Loss history: [0.605769564708074, 0.4612632393836975, 0.3484412282705307, 0.29717086255550385, 0.26731228331724805, 0.24957897265752158, 0.2357658992211024, 0.22482032080491385, 0.21327275782823563, 0.20361091196537018, 0.19357392440239587, 0.18363535155852637, 0.1735388288895289, 0.1645234872897466, 0.15794453273216882, 0.1493313138683637, 0.1438723181684812, 0.14142207925518355, 0.13510849823554358, 0.13173267617821693, 0.1275815355281035, 0.1236833209792773, 0.12003363420565923, 0.11891685674587886, 0.11540696894129117, 0.11576371019085248, 0.1132194995880127, 0.10920468717813492, 0.10964834193388621, 0.10718649377425511, 0.10522439082463582, 0.10399086276690166, 0.10198018079002698, 0.10100916276375453, 0.09902210161089897, 0.0992783469458421, 0.09752156212925911, 0.09848614285389583, 0.09702384720245998, 0.09578496466080348, 0.09599502260486285, 0.09521357342600822, 0.09541725864013036, 0.09348195667068164, 0.09311617724597454, 0.09050437373419602, 0.09073082854350407]\n",
      "Dev loss: 0.09055501222610474\n"
     ]
    },
    {
     "data": {
      "application/vnd.jupyter.widget-view+json": {
       "model_id": "10a4147f7f044482bb9c0e48b99bba22",
       "version_major": 2,
       "version_minor": 0
      },
      "text/plain": [
       "HBox(children=(IntProgress(value=0, description='Training iteration', max=29, style=ProgressStyle(description_…"
      ]
     },
     "metadata": {},
     "output_type": "display_data"
    },
    {
     "name": "stdout",
     "output_type": "stream",
     "text": [
      "\n"
     ]
    },
    {
     "data": {
      "application/vnd.jupyter.widget-view+json": {
       "model_id": "03ad9ea3bb0940428df8c4ac063cdda7",
       "version_major": 2,
       "version_minor": 0
      },
      "text/plain": [
       "HBox(children=(IntProgress(value=0, description='Evaluation iteration', max=6, style=ProgressStyle(description…"
      ]
     },
     "metadata": {},
     "output_type": "display_data"
    },
    {
     "name": "stderr",
     "output_type": "stream",
     "text": [
      "\n",
      "Epoch:  49%|████▉     | 49/100 [05:34<05:36,  6.59s/it]\u001b[A"
     ]
    },
    {
     "name": "stdout",
     "output_type": "stream",
     "text": [
      "\n",
      "Loss history: [0.605769564708074, 0.4612632393836975, 0.3484412282705307, 0.29717086255550385, 0.26731228331724805, 0.24957897265752158, 0.2357658992211024, 0.22482032080491385, 0.21327275782823563, 0.20361091196537018, 0.19357392440239587, 0.18363535155852637, 0.1735388288895289, 0.1645234872897466, 0.15794453273216882, 0.1493313138683637, 0.1438723181684812, 0.14142207925518355, 0.13510849823554358, 0.13173267617821693, 0.1275815355281035, 0.1236833209792773, 0.12003363420565923, 0.11891685674587886, 0.11540696894129117, 0.11576371019085248, 0.1132194995880127, 0.10920468717813492, 0.10964834193388621, 0.10718649377425511, 0.10522439082463582, 0.10399086276690166, 0.10198018079002698, 0.10100916276375453, 0.09902210161089897, 0.0992783469458421, 0.09752156212925911, 0.09848614285389583, 0.09702384720245998, 0.09578496466080348, 0.09599502260486285, 0.09521357342600822, 0.09541725864013036, 0.09348195667068164, 0.09311617724597454, 0.09050437373419602, 0.09073082854350407, 0.09055501222610474]\n",
      "Dev loss: 0.09067646538217862\n"
     ]
    },
    {
     "data": {
      "application/vnd.jupyter.widget-view+json": {
       "model_id": "1b2ec5b7306144628ae91f2eb0197006",
       "version_major": 2,
       "version_minor": 0
      },
      "text/plain": [
       "HBox(children=(IntProgress(value=0, description='Training iteration', max=29, style=ProgressStyle(description_…"
      ]
     },
     "metadata": {},
     "output_type": "display_data"
    },
    {
     "name": "stdout",
     "output_type": "stream",
     "text": [
      "\n"
     ]
    },
    {
     "data": {
      "application/vnd.jupyter.widget-view+json": {
       "model_id": "8a11645337ba43b58050a499fa46b609",
       "version_major": 2,
       "version_minor": 0
      },
      "text/plain": [
       "HBox(children=(IntProgress(value=0, description='Evaluation iteration', max=6, style=ProgressStyle(description…"
      ]
     },
     "metadata": {},
     "output_type": "display_data"
    },
    {
     "name": "stdout",
     "output_type": "stream",
     "text": [
      "\n",
      "Loss history: [0.605769564708074, 0.4612632393836975, 0.3484412282705307, 0.29717086255550385, 0.26731228331724805, 0.24957897265752158, 0.2357658992211024, 0.22482032080491385, 0.21327275782823563, 0.20361091196537018, 0.19357392440239587, 0.18363535155852637, 0.1735388288895289, 0.1645234872897466, 0.15794453273216882, 0.1493313138683637, 0.1438723181684812, 0.14142207925518355, 0.13510849823554358, 0.13173267617821693, 0.1275815355281035, 0.1236833209792773, 0.12003363420565923, 0.11891685674587886, 0.11540696894129117, 0.11576371019085248, 0.1132194995880127, 0.10920468717813492, 0.10964834193388621, 0.10718649377425511, 0.10522439082463582, 0.10399086276690166, 0.10198018079002698, 0.10100916276375453, 0.09902210161089897, 0.0992783469458421, 0.09752156212925911, 0.09848614285389583, 0.09702384720245998, 0.09578496466080348, 0.09599502260486285, 0.09521357342600822, 0.09541725864013036, 0.09348195667068164, 0.09311617724597454, 0.09050437373419602, 0.09073082854350407, 0.09055501222610474, 0.09067646538217862]\n",
      "Dev loss: 0.08953460057576497\n"
     ]
    },
    {
     "name": "stderr",
     "output_type": "stream",
     "text": [
      "\n",
      "Epoch:  50%|█████     | 50/100 [05:41<05:34,  6.69s/it]\u001b[A"
     ]
    },
    {
     "data": {
      "application/vnd.jupyter.widget-view+json": {
       "model_id": "f748ed4bcda0486aa23542ff0e761650",
       "version_major": 2,
       "version_minor": 0
      },
      "text/plain": [
       "HBox(children=(IntProgress(value=0, description='Training iteration', max=29, style=ProgressStyle(description_…"
      ]
     },
     "metadata": {},
     "output_type": "display_data"
    },
    {
     "name": "stdout",
     "output_type": "stream",
     "text": [
      "\n"
     ]
    },
    {
     "data": {
      "application/vnd.jupyter.widget-view+json": {
       "model_id": "23b88fc96cc3457ea24cafedf5cbc37f",
       "version_major": 2,
       "version_minor": 0
      },
      "text/plain": [
       "HBox(children=(IntProgress(value=0, description='Evaluation iteration', max=6, style=ProgressStyle(description…"
      ]
     },
     "metadata": {},
     "output_type": "display_data"
    },
    {
     "name": "stderr",
     "output_type": "stream",
     "text": [
      "\n",
      "Epoch:  51%|█████     | 51/100 [05:48<05:24,  6.62s/it]\u001b[A"
     ]
    },
    {
     "name": "stdout",
     "output_type": "stream",
     "text": [
      "\n",
      "Loss history: [0.605769564708074, 0.4612632393836975, 0.3484412282705307, 0.29717086255550385, 0.26731228331724805, 0.24957897265752158, 0.2357658992211024, 0.22482032080491385, 0.21327275782823563, 0.20361091196537018, 0.19357392440239587, 0.18363535155852637, 0.1735388288895289, 0.1645234872897466, 0.15794453273216882, 0.1493313138683637, 0.1438723181684812, 0.14142207925518355, 0.13510849823554358, 0.13173267617821693, 0.1275815355281035, 0.1236833209792773, 0.12003363420565923, 0.11891685674587886, 0.11540696894129117, 0.11576371019085248, 0.1132194995880127, 0.10920468717813492, 0.10964834193388621, 0.10718649377425511, 0.10522439082463582, 0.10399086276690166, 0.10198018079002698, 0.10100916276375453, 0.09902210161089897, 0.0992783469458421, 0.09752156212925911, 0.09848614285389583, 0.09702384720245998, 0.09578496466080348, 0.09599502260486285, 0.09521357342600822, 0.09541725864013036, 0.09348195667068164, 0.09311617724597454, 0.09050437373419602, 0.09073082854350407, 0.09055501222610474, 0.09067646538217862, 0.08953460057576497]\n",
      "Dev loss: 0.08981323863069217\n"
     ]
    },
    {
     "data": {
      "application/vnd.jupyter.widget-view+json": {
       "model_id": "ef2e5f8725b246709986f56591462fd3",
       "version_major": 2,
       "version_minor": 0
      },
      "text/plain": [
       "HBox(children=(IntProgress(value=0, description='Training iteration', max=29, style=ProgressStyle(description_…"
      ]
     },
     "metadata": {},
     "output_type": "display_data"
    },
    {
     "name": "stdout",
     "output_type": "stream",
     "text": [
      "\n"
     ]
    },
    {
     "data": {
      "application/vnd.jupyter.widget-view+json": {
       "model_id": "f063e50ed8ab4fc58d45bc5ff19ec5e4",
       "version_major": 2,
       "version_minor": 0
      },
      "text/plain": [
       "HBox(children=(IntProgress(value=0, description='Evaluation iteration', max=6, style=ProgressStyle(description…"
      ]
     },
     "metadata": {},
     "output_type": "display_data"
    },
    {
     "name": "stderr",
     "output_type": "stream",
     "text": [
      "\n",
      "Epoch:  52%|█████▏    | 52/100 [05:54<05:15,  6.57s/it]\u001b[A"
     ]
    },
    {
     "name": "stdout",
     "output_type": "stream",
     "text": [
      "\n",
      "Loss history: [0.605769564708074, 0.4612632393836975, 0.3484412282705307, 0.29717086255550385, 0.26731228331724805, 0.24957897265752158, 0.2357658992211024, 0.22482032080491385, 0.21327275782823563, 0.20361091196537018, 0.19357392440239587, 0.18363535155852637, 0.1735388288895289, 0.1645234872897466, 0.15794453273216882, 0.1493313138683637, 0.1438723181684812, 0.14142207925518355, 0.13510849823554358, 0.13173267617821693, 0.1275815355281035, 0.1236833209792773, 0.12003363420565923, 0.11891685674587886, 0.11540696894129117, 0.11576371019085248, 0.1132194995880127, 0.10920468717813492, 0.10964834193388621, 0.10718649377425511, 0.10522439082463582, 0.10399086276690166, 0.10198018079002698, 0.10100916276375453, 0.09902210161089897, 0.0992783469458421, 0.09752156212925911, 0.09848614285389583, 0.09702384720245998, 0.09578496466080348, 0.09599502260486285, 0.09521357342600822, 0.09541725864013036, 0.09348195667068164, 0.09311617724597454, 0.09050437373419602, 0.09073082854350407, 0.09055501222610474, 0.09067646538217862, 0.08953460057576497, 0.08981323863069217]\n",
      "Dev loss: 0.08992415914932887\n"
     ]
    },
    {
     "data": {
      "application/vnd.jupyter.widget-view+json": {
       "model_id": "ccfff5f9d6d34591b8a4cdcf61e00a6f",
       "version_major": 2,
       "version_minor": 0
      },
      "text/plain": [
       "HBox(children=(IntProgress(value=0, description='Training iteration', max=29, style=ProgressStyle(description_…"
      ]
     },
     "metadata": {},
     "output_type": "display_data"
    },
    {
     "name": "stdout",
     "output_type": "stream",
     "text": [
      "\n"
     ]
    },
    {
     "data": {
      "application/vnd.jupyter.widget-view+json": {
       "model_id": "e42187d7426d43ac99d9431b1ef2e48c",
       "version_major": 2,
       "version_minor": 0
      },
      "text/plain": [
       "HBox(children=(IntProgress(value=0, description='Evaluation iteration', max=6, style=ProgressStyle(description…"
      ]
     },
     "metadata": {},
     "output_type": "display_data"
    },
    {
     "name": "stdout",
     "output_type": "stream",
     "text": [
      "\n",
      "Loss history: [0.605769564708074, 0.4612632393836975, 0.3484412282705307, 0.29717086255550385, 0.26731228331724805, 0.24957897265752158, 0.2357658992211024, 0.22482032080491385, 0.21327275782823563, 0.20361091196537018, 0.19357392440239587, 0.18363535155852637, 0.1735388288895289, 0.1645234872897466, 0.15794453273216882, 0.1493313138683637, 0.1438723181684812, 0.14142207925518355, 0.13510849823554358, 0.13173267617821693, 0.1275815355281035, 0.1236833209792773, 0.12003363420565923, 0.11891685674587886, 0.11540696894129117, 0.11576371019085248, 0.1132194995880127, 0.10920468717813492, 0.10964834193388621, 0.10718649377425511, 0.10522439082463582, 0.10399086276690166, 0.10198018079002698, 0.10100916276375453, 0.09902210161089897, 0.0992783469458421, 0.09752156212925911, 0.09848614285389583, 0.09702384720245998, 0.09578496466080348, 0.09599502260486285, 0.09521357342600822, 0.09541725864013036, 0.09348195667068164, 0.09311617724597454, 0.09050437373419602, 0.09073082854350407, 0.09055501222610474, 0.09067646538217862, 0.08953460057576497, 0.08981323863069217, 0.08992415914932887]\n",
      "Dev loss: 0.089390038823088\n"
     ]
    },
    {
     "name": "stderr",
     "output_type": "stream",
     "text": [
      "\n",
      "Epoch:  53%|█████▎    | 53/100 [06:01<05:13,  6.67s/it]\u001b[A"
     ]
    },
    {
     "data": {
      "application/vnd.jupyter.widget-view+json": {
       "model_id": "f692efe9716346499655930713e5644b",
       "version_major": 2,
       "version_minor": 0
      },
      "text/plain": [
       "HBox(children=(IntProgress(value=0, description='Training iteration', max=29, style=ProgressStyle(description_…"
      ]
     },
     "metadata": {},
     "output_type": "display_data"
    },
    {
     "name": "stdout",
     "output_type": "stream",
     "text": [
      "\n"
     ]
    },
    {
     "data": {
      "application/vnd.jupyter.widget-view+json": {
       "model_id": "d34cfbdc65d845d690c74d3e62506cae",
       "version_major": 2,
       "version_minor": 0
      },
      "text/plain": [
       "HBox(children=(IntProgress(value=0, description='Evaluation iteration', max=6, style=ProgressStyle(description…"
      ]
     },
     "metadata": {},
     "output_type": "display_data"
    },
    {
     "name": "stderr",
     "output_type": "stream",
     "text": [
      "\n",
      "Epoch:  54%|█████▍    | 54/100 [06:08<05:04,  6.61s/it]\u001b[A"
     ]
    },
    {
     "name": "stdout",
     "output_type": "stream",
     "text": [
      "\n",
      "Loss history: [0.605769564708074, 0.4612632393836975, 0.3484412282705307, 0.29717086255550385, 0.26731228331724805, 0.24957897265752158, 0.2357658992211024, 0.22482032080491385, 0.21327275782823563, 0.20361091196537018, 0.19357392440239587, 0.18363535155852637, 0.1735388288895289, 0.1645234872897466, 0.15794453273216882, 0.1493313138683637, 0.1438723181684812, 0.14142207925518355, 0.13510849823554358, 0.13173267617821693, 0.1275815355281035, 0.1236833209792773, 0.12003363420565923, 0.11891685674587886, 0.11540696894129117, 0.11576371019085248, 0.1132194995880127, 0.10920468717813492, 0.10964834193388621, 0.10718649377425511, 0.10522439082463582, 0.10399086276690166, 0.10198018079002698, 0.10100916276375453, 0.09902210161089897, 0.0992783469458421, 0.09752156212925911, 0.09848614285389583, 0.09702384720245998, 0.09578496466080348, 0.09599502260486285, 0.09521357342600822, 0.09541725864013036, 0.09348195667068164, 0.09311617724597454, 0.09050437373419602, 0.09073082854350407, 0.09055501222610474, 0.09067646538217862, 0.08953460057576497, 0.08981323863069217, 0.08992415914932887, 0.089390038823088]\n",
      "Dev loss: 0.09001482898990314\n"
     ]
    },
    {
     "data": {
      "application/vnd.jupyter.widget-view+json": {
       "model_id": "8f40993562594691aa261047a436d245",
       "version_major": 2,
       "version_minor": 0
      },
      "text/plain": [
       "HBox(children=(IntProgress(value=0, description='Training iteration', max=29, style=ProgressStyle(description_…"
      ]
     },
     "metadata": {},
     "output_type": "display_data"
    },
    {
     "name": "stdout",
     "output_type": "stream",
     "text": [
      "\n"
     ]
    },
    {
     "data": {
      "application/vnd.jupyter.widget-view+json": {
       "model_id": "c031403f5171405b8124062a133fadf7",
       "version_major": 2,
       "version_minor": 0
      },
      "text/plain": [
       "HBox(children=(IntProgress(value=0, description='Evaluation iteration', max=6, style=ProgressStyle(description…"
      ]
     },
     "metadata": {},
     "output_type": "display_data"
    },
    {
     "name": "stdout",
     "output_type": "stream",
     "text": [
      "\n",
      "Loss history: [0.605769564708074, 0.4612632393836975, 0.3484412282705307, 0.29717086255550385, 0.26731228331724805, 0.24957897265752158, 0.2357658992211024, 0.22482032080491385, 0.21327275782823563, 0.20361091196537018, 0.19357392440239587, 0.18363535155852637, 0.1735388288895289, 0.1645234872897466, 0.15794453273216882, 0.1493313138683637, 0.1438723181684812, 0.14142207925518355, 0.13510849823554358, 0.13173267617821693, 0.1275815355281035, 0.1236833209792773, 0.12003363420565923, 0.11891685674587886, 0.11540696894129117, 0.11576371019085248, 0.1132194995880127, 0.10920468717813492, 0.10964834193388621, 0.10718649377425511, 0.10522439082463582, 0.10399086276690166, 0.10198018079002698, 0.10100916276375453, 0.09902210161089897, 0.0992783469458421, 0.09752156212925911, 0.09848614285389583, 0.09702384720245998, 0.09578496466080348, 0.09599502260486285, 0.09521357342600822, 0.09541725864013036, 0.09348195667068164, 0.09311617724597454, 0.09050437373419602, 0.09073082854350407, 0.09055501222610474, 0.09067646538217862, 0.08953460057576497, 0.08981323863069217, 0.08992415914932887, 0.089390038823088, 0.09001482898990314]\n",
      "Dev loss: 0.08914784714579582\n"
     ]
    },
    {
     "name": "stderr",
     "output_type": "stream",
     "text": [
      "\n",
      "Epoch:  55%|█████▌    | 55/100 [06:14<05:01,  6.70s/it]\u001b[A"
     ]
    },
    {
     "data": {
      "application/vnd.jupyter.widget-view+json": {
       "model_id": "8c51e312bb954aa89753333669ebbb66",
       "version_major": 2,
       "version_minor": 0
      },
      "text/plain": [
       "HBox(children=(IntProgress(value=0, description='Training iteration', max=29, style=ProgressStyle(description_…"
      ]
     },
     "metadata": {},
     "output_type": "display_data"
    },
    {
     "name": "stdout",
     "output_type": "stream",
     "text": [
      "\n"
     ]
    },
    {
     "data": {
      "application/vnd.jupyter.widget-view+json": {
       "model_id": "0b74e184620b47e9b944b3ee59250963",
       "version_major": 2,
       "version_minor": 0
      },
      "text/plain": [
       "HBox(children=(IntProgress(value=0, description='Evaluation iteration', max=6, style=ProgressStyle(description…"
      ]
     },
     "metadata": {},
     "output_type": "display_data"
    },
    {
     "name": "stderr",
     "output_type": "stream",
     "text": [
      "\n",
      "Epoch:  56%|█████▌    | 56/100 [06:21<04:51,  6.63s/it]\u001b[A"
     ]
    },
    {
     "name": "stdout",
     "output_type": "stream",
     "text": [
      "\n",
      "Loss history: [0.605769564708074, 0.4612632393836975, 0.3484412282705307, 0.29717086255550385, 0.26731228331724805, 0.24957897265752158, 0.2357658992211024, 0.22482032080491385, 0.21327275782823563, 0.20361091196537018, 0.19357392440239587, 0.18363535155852637, 0.1735388288895289, 0.1645234872897466, 0.15794453273216882, 0.1493313138683637, 0.1438723181684812, 0.14142207925518355, 0.13510849823554358, 0.13173267617821693, 0.1275815355281035, 0.1236833209792773, 0.12003363420565923, 0.11891685674587886, 0.11540696894129117, 0.11576371019085248, 0.1132194995880127, 0.10920468717813492, 0.10964834193388621, 0.10718649377425511, 0.10522439082463582, 0.10399086276690166, 0.10198018079002698, 0.10100916276375453, 0.09902210161089897, 0.0992783469458421, 0.09752156212925911, 0.09848614285389583, 0.09702384720245998, 0.09578496466080348, 0.09599502260486285, 0.09521357342600822, 0.09541725864013036, 0.09348195667068164, 0.09311617724597454, 0.09050437373419602, 0.09073082854350407, 0.09055501222610474, 0.09067646538217862, 0.08953460057576497, 0.08981323863069217, 0.08992415914932887, 0.089390038823088, 0.09001482898990314, 0.08914784714579582]\n",
      "Dev loss: 0.09138274379074574\n"
     ]
    },
    {
     "data": {
      "application/vnd.jupyter.widget-view+json": {
       "model_id": "637af51a5c7444be9d6804434b636e0b",
       "version_major": 2,
       "version_minor": 0
      },
      "text/plain": [
       "HBox(children=(IntProgress(value=0, description='Training iteration', max=29, style=ProgressStyle(description_…"
      ]
     },
     "metadata": {},
     "output_type": "display_data"
    },
    {
     "name": "stdout",
     "output_type": "stream",
     "text": [
      "\n"
     ]
    },
    {
     "data": {
      "application/vnd.jupyter.widget-view+json": {
       "model_id": "4d02da581b6248129006ba9548b2e9bc",
       "version_major": 2,
       "version_minor": 0
      },
      "text/plain": [
       "HBox(children=(IntProgress(value=0, description='Evaluation iteration', max=6, style=ProgressStyle(description…"
      ]
     },
     "metadata": {},
     "output_type": "display_data"
    },
    {
     "name": "stdout",
     "output_type": "stream",
     "text": [
      "\n",
      "Loss history: [0.605769564708074, 0.4612632393836975, 0.3484412282705307, 0.29717086255550385, 0.26731228331724805, 0.24957897265752158, 0.2357658992211024, 0.22482032080491385, 0.21327275782823563, 0.20361091196537018, 0.19357392440239587, 0.18363535155852637, 0.1735388288895289, 0.1645234872897466, 0.15794453273216882, 0.1493313138683637, 0.1438723181684812, 0.14142207925518355, 0.13510849823554358, 0.13173267617821693, 0.1275815355281035, 0.1236833209792773, 0.12003363420565923, 0.11891685674587886, 0.11540696894129117, 0.11576371019085248, 0.1132194995880127, 0.10920468717813492, 0.10964834193388621, 0.10718649377425511, 0.10522439082463582, 0.10399086276690166, 0.10198018079002698, 0.10100916276375453, 0.09902210161089897, 0.0992783469458421, 0.09752156212925911, 0.09848614285389583, 0.09702384720245998, 0.09578496466080348, 0.09599502260486285, 0.09521357342600822, 0.09541725864013036, 0.09348195667068164, 0.09311617724597454, 0.09050437373419602, 0.09073082854350407, 0.09055501222610474, 0.09067646538217862, 0.08953460057576497, 0.08981323863069217, 0.08992415914932887, 0.089390038823088, 0.09001482898990314, 0.08914784714579582, 0.09138274379074574]\n",
      "Dev loss: 0.08793284744024277\n"
     ]
    },
    {
     "name": "stderr",
     "output_type": "stream",
     "text": [
      "\n",
      "Epoch:  57%|█████▋    | 57/100 [06:28<04:48,  6.71s/it]\u001b[A"
     ]
    },
    {
     "data": {
      "application/vnd.jupyter.widget-view+json": {
       "model_id": "b1590ad3e03d4e639f36070177095de3",
       "version_major": 2,
       "version_minor": 0
      },
      "text/plain": [
       "HBox(children=(IntProgress(value=0, description='Training iteration', max=29, style=ProgressStyle(description_…"
      ]
     },
     "metadata": {},
     "output_type": "display_data"
    },
    {
     "name": "stdout",
     "output_type": "stream",
     "text": [
      "\n"
     ]
    },
    {
     "data": {
      "application/vnd.jupyter.widget-view+json": {
       "model_id": "48868779f0c541f6802f653cf178467c",
       "version_major": 2,
       "version_minor": 0
      },
      "text/plain": [
       "HBox(children=(IntProgress(value=0, description='Evaluation iteration', max=6, style=ProgressStyle(description…"
      ]
     },
     "metadata": {},
     "output_type": "display_data"
    },
    {
     "name": "stdout",
     "output_type": "stream",
     "text": [
      "\n",
      "Loss history: [0.605769564708074, 0.4612632393836975, 0.3484412282705307, 0.29717086255550385, 0.26731228331724805, 0.24957897265752158, 0.2357658992211024, 0.22482032080491385, 0.21327275782823563, 0.20361091196537018, 0.19357392440239587, 0.18363535155852637, 0.1735388288895289, 0.1645234872897466, 0.15794453273216882, 0.1493313138683637, 0.1438723181684812, 0.14142207925518355, 0.13510849823554358, 0.13173267617821693, 0.1275815355281035, 0.1236833209792773, 0.12003363420565923, 0.11891685674587886, 0.11540696894129117, 0.11576371019085248, 0.1132194995880127, 0.10920468717813492, 0.10964834193388621, 0.10718649377425511, 0.10522439082463582, 0.10399086276690166, 0.10198018079002698, 0.10100916276375453, 0.09902210161089897, 0.0992783469458421, 0.09752156212925911, 0.09848614285389583, 0.09702384720245998, 0.09578496466080348, 0.09599502260486285, 0.09521357342600822, 0.09541725864013036, 0.09348195667068164, 0.09311617724597454, 0.09050437373419602, 0.09073082854350407, 0.09055501222610474, 0.09067646538217862, 0.08953460057576497, 0.08981323863069217, 0.08992415914932887, 0.089390038823088, 0.09001482898990314, 0.08914784714579582, 0.09138274379074574, 0.08793284744024277]\n",
      "Dev loss: 0.08722768289347489\n"
     ]
    },
    {
     "name": "stderr",
     "output_type": "stream",
     "text": [
      "\n",
      "Epoch:  58%|█████▊    | 58/100 [06:35<04:44,  6.77s/it]\u001b[A"
     ]
    },
    {
     "data": {
      "application/vnd.jupyter.widget-view+json": {
       "model_id": "00cdf852b7984718b5c725d8077be7f3",
       "version_major": 2,
       "version_minor": 0
      },
      "text/plain": [
       "HBox(children=(IntProgress(value=0, description='Training iteration', max=29, style=ProgressStyle(description_…"
      ]
     },
     "metadata": {},
     "output_type": "display_data"
    },
    {
     "name": "stdout",
     "output_type": "stream",
     "text": [
      "\n"
     ]
    },
    {
     "data": {
      "application/vnd.jupyter.widget-view+json": {
       "model_id": "b5a974fa246d4a01819332e3389d7487",
       "version_major": 2,
       "version_minor": 0
      },
      "text/plain": [
       "HBox(children=(IntProgress(value=0, description='Evaluation iteration', max=6, style=ProgressStyle(description…"
      ]
     },
     "metadata": {},
     "output_type": "display_data"
    },
    {
     "name": "stderr",
     "output_type": "stream",
     "text": [
      "\n",
      "Epoch:  59%|█████▉    | 59/100 [06:41<04:33,  6.68s/it]\u001b[A"
     ]
    },
    {
     "name": "stdout",
     "output_type": "stream",
     "text": [
      "\n",
      "Loss history: [0.605769564708074, 0.4612632393836975, 0.3484412282705307, 0.29717086255550385, 0.26731228331724805, 0.24957897265752158, 0.2357658992211024, 0.22482032080491385, 0.21327275782823563, 0.20361091196537018, 0.19357392440239587, 0.18363535155852637, 0.1735388288895289, 0.1645234872897466, 0.15794453273216882, 0.1493313138683637, 0.1438723181684812, 0.14142207925518355, 0.13510849823554358, 0.13173267617821693, 0.1275815355281035, 0.1236833209792773, 0.12003363420565923, 0.11891685674587886, 0.11540696894129117, 0.11576371019085248, 0.1132194995880127, 0.10920468717813492, 0.10964834193388621, 0.10718649377425511, 0.10522439082463582, 0.10399086276690166, 0.10198018079002698, 0.10100916276375453, 0.09902210161089897, 0.0992783469458421, 0.09752156212925911, 0.09848614285389583, 0.09702384720245998, 0.09578496466080348, 0.09599502260486285, 0.09521357342600822, 0.09541725864013036, 0.09348195667068164, 0.09311617724597454, 0.09050437373419602, 0.09073082854350407, 0.09055501222610474, 0.09067646538217862, 0.08953460057576497, 0.08981323863069217, 0.08992415914932887, 0.089390038823088, 0.09001482898990314, 0.08914784714579582, 0.09138274379074574, 0.08793284744024277, 0.08722768289347489]\n",
      "Dev loss: 0.08846223105986913\n"
     ]
    },
    {
     "data": {
      "application/vnd.jupyter.widget-view+json": {
       "model_id": "52dcf463fd9040f898f8c3376ccddbbd",
       "version_major": 2,
       "version_minor": 0
      },
      "text/plain": [
       "HBox(children=(IntProgress(value=0, description='Training iteration', max=29, style=ProgressStyle(description_…"
      ]
     },
     "metadata": {},
     "output_type": "display_data"
    },
    {
     "name": "stdout",
     "output_type": "stream",
     "text": [
      "\n"
     ]
    },
    {
     "data": {
      "application/vnd.jupyter.widget-view+json": {
       "model_id": "d763d7074e4f4b4cb337b78ccd3659f7",
       "version_major": 2,
       "version_minor": 0
      },
      "text/plain": [
       "HBox(children=(IntProgress(value=0, description='Evaluation iteration', max=6, style=ProgressStyle(description…"
      ]
     },
     "metadata": {},
     "output_type": "display_data"
    },
    {
     "name": "stdout",
     "output_type": "stream",
     "text": [
      "\n",
      "Loss history: [0.605769564708074, 0.4612632393836975, 0.3484412282705307, 0.29717086255550385, 0.26731228331724805, 0.24957897265752158, 0.2357658992211024, 0.22482032080491385, 0.21327275782823563, 0.20361091196537018, 0.19357392440239587, 0.18363535155852637, 0.1735388288895289, 0.1645234872897466, 0.15794453273216882, 0.1493313138683637, 0.1438723181684812, 0.14142207925518355, 0.13510849823554358, 0.13173267617821693, 0.1275815355281035, 0.1236833209792773, 0.12003363420565923, 0.11891685674587886, 0.11540696894129117, 0.11576371019085248, 0.1132194995880127, 0.10920468717813492, 0.10964834193388621, 0.10718649377425511, 0.10522439082463582, 0.10399086276690166, 0.10198018079002698, 0.10100916276375453, 0.09902210161089897, 0.0992783469458421, 0.09752156212925911, 0.09848614285389583, 0.09702384720245998, 0.09578496466080348, 0.09599502260486285, 0.09521357342600822, 0.09541725864013036, 0.09348195667068164, 0.09311617724597454, 0.09050437373419602, 0.09073082854350407, 0.09055501222610474, 0.09067646538217862, 0.08953460057576497, 0.08981323863069217, 0.08992415914932887, 0.089390038823088, 0.09001482898990314, 0.08914784714579582, 0.09138274379074574, 0.08793284744024277, 0.08722768289347489, 0.08846223105986913]\n",
      "Dev loss: 0.08698975294828415\n"
     ]
    },
    {
     "name": "stderr",
     "output_type": "stream",
     "text": [
      "\n",
      "Epoch:  60%|██████    | 60/100 [06:48<04:30,  6.75s/it]\u001b[A"
     ]
    },
    {
     "data": {
      "application/vnd.jupyter.widget-view+json": {
       "model_id": "9b6232596a63478ebc6c28aed933dac8",
       "version_major": 2,
       "version_minor": 0
      },
      "text/plain": [
       "HBox(children=(IntProgress(value=0, description='Training iteration', max=29, style=ProgressStyle(description_…"
      ]
     },
     "metadata": {},
     "output_type": "display_data"
    },
    {
     "name": "stdout",
     "output_type": "stream",
     "text": [
      "\n"
     ]
    },
    {
     "data": {
      "application/vnd.jupyter.widget-view+json": {
       "model_id": "df83ab5735ca46e7886de34f07e83a2d",
       "version_major": 2,
       "version_minor": 0
      },
      "text/plain": [
       "HBox(children=(IntProgress(value=0, description='Evaluation iteration', max=6, style=ProgressStyle(description…"
      ]
     },
     "metadata": {},
     "output_type": "display_data"
    },
    {
     "name": "stdout",
     "output_type": "stream",
     "text": [
      "\n",
      "Loss history: [0.605769564708074, 0.4612632393836975, 0.3484412282705307, 0.29717086255550385, 0.26731228331724805, 0.24957897265752158, 0.2357658992211024, 0.22482032080491385, 0.21327275782823563, 0.20361091196537018, 0.19357392440239587, 0.18363535155852637, 0.1735388288895289, 0.1645234872897466, 0.15794453273216882, 0.1493313138683637, 0.1438723181684812, 0.14142207925518355, 0.13510849823554358, 0.13173267617821693, 0.1275815355281035, 0.1236833209792773, 0.12003363420565923, 0.11891685674587886, 0.11540696894129117, 0.11576371019085248, 0.1132194995880127, 0.10920468717813492, 0.10964834193388621, 0.10718649377425511, 0.10522439082463582, 0.10399086276690166, 0.10198018079002698, 0.10100916276375453, 0.09902210161089897, 0.0992783469458421, 0.09752156212925911, 0.09848614285389583, 0.09702384720245998, 0.09578496466080348, 0.09599502260486285, 0.09521357342600822, 0.09541725864013036, 0.09348195667068164, 0.09311617724597454, 0.09050437373419602, 0.09073082854350407, 0.09055501222610474, 0.09067646538217862, 0.08953460057576497, 0.08981323863069217, 0.08992415914932887, 0.089390038823088, 0.09001482898990314, 0.08914784714579582, 0.09138274379074574, 0.08793284744024277, 0.08722768289347489, 0.08846223105986913, 0.08698975294828415]\n",
      "Dev loss: 0.08692839245001475\n"
     ]
    },
    {
     "name": "stderr",
     "output_type": "stream",
     "text": [
      "\n",
      "Epoch:  61%|██████    | 61/100 [06:55<04:25,  6.80s/it]\u001b[A"
     ]
    },
    {
     "data": {
      "application/vnd.jupyter.widget-view+json": {
       "model_id": "31ae13355a7a481b80d63fd83506275e",
       "version_major": 2,
       "version_minor": 0
      },
      "text/plain": [
       "HBox(children=(IntProgress(value=0, description='Training iteration', max=29, style=ProgressStyle(description_…"
      ]
     },
     "metadata": {},
     "output_type": "display_data"
    },
    {
     "name": "stdout",
     "output_type": "stream",
     "text": [
      "\n"
     ]
    },
    {
     "data": {
      "application/vnd.jupyter.widget-view+json": {
       "model_id": "5e4a1549c2ab4bfe8fc85372af1ca059",
       "version_major": 2,
       "version_minor": 0
      },
      "text/plain": [
       "HBox(children=(IntProgress(value=0, description='Evaluation iteration', max=6, style=ProgressStyle(description…"
      ]
     },
     "metadata": {},
     "output_type": "display_data"
    },
    {
     "name": "stderr",
     "output_type": "stream",
     "text": [
      "\n",
      "Epoch:  62%|██████▏   | 62/100 [07:01<04:14,  6.70s/it]\u001b[A"
     ]
    },
    {
     "name": "stdout",
     "output_type": "stream",
     "text": [
      "\n",
      "Loss history: [0.605769564708074, 0.4612632393836975, 0.3484412282705307, 0.29717086255550385, 0.26731228331724805, 0.24957897265752158, 0.2357658992211024, 0.22482032080491385, 0.21327275782823563, 0.20361091196537018, 0.19357392440239587, 0.18363535155852637, 0.1735388288895289, 0.1645234872897466, 0.15794453273216882, 0.1493313138683637, 0.1438723181684812, 0.14142207925518355, 0.13510849823554358, 0.13173267617821693, 0.1275815355281035, 0.1236833209792773, 0.12003363420565923, 0.11891685674587886, 0.11540696894129117, 0.11576371019085248, 0.1132194995880127, 0.10920468717813492, 0.10964834193388621, 0.10718649377425511, 0.10522439082463582, 0.10399086276690166, 0.10198018079002698, 0.10100916276375453, 0.09902210161089897, 0.0992783469458421, 0.09752156212925911, 0.09848614285389583, 0.09702384720245998, 0.09578496466080348, 0.09599502260486285, 0.09521357342600822, 0.09541725864013036, 0.09348195667068164, 0.09311617724597454, 0.09050437373419602, 0.09073082854350407, 0.09055501222610474, 0.09067646538217862, 0.08953460057576497, 0.08981323863069217, 0.08992415914932887, 0.089390038823088, 0.09001482898990314, 0.08914784714579582, 0.09138274379074574, 0.08793284744024277, 0.08722768289347489, 0.08846223105986913, 0.08698975294828415, 0.08692839245001475]\n",
      "Dev loss: 0.0873997441182534\n"
     ]
    },
    {
     "data": {
      "application/vnd.jupyter.widget-view+json": {
       "model_id": "e6448c6dbe26416eb624fab6f0477159",
       "version_major": 2,
       "version_minor": 0
      },
      "text/plain": [
       "HBox(children=(IntProgress(value=0, description='Training iteration', max=29, style=ProgressStyle(description_…"
      ]
     },
     "metadata": {},
     "output_type": "display_data"
    },
    {
     "name": "stdout",
     "output_type": "stream",
     "text": [
      "\n"
     ]
    },
    {
     "data": {
      "application/vnd.jupyter.widget-view+json": {
       "model_id": "43809e6863e14fd79f0b53fcb40c7005",
       "version_major": 2,
       "version_minor": 0
      },
      "text/plain": [
       "HBox(children=(IntProgress(value=0, description='Evaluation iteration', max=6, style=ProgressStyle(description…"
      ]
     },
     "metadata": {},
     "output_type": "display_data"
    },
    {
     "name": "stdout",
     "output_type": "stream",
     "text": [
      "\n",
      "Loss history: [0.605769564708074, 0.4612632393836975, 0.3484412282705307, 0.29717086255550385, 0.26731228331724805, 0.24957897265752158, 0.2357658992211024, 0.22482032080491385, 0.21327275782823563, 0.20361091196537018, 0.19357392440239587, 0.18363535155852637, 0.1735388288895289, 0.1645234872897466, 0.15794453273216882, 0.1493313138683637, 0.1438723181684812, 0.14142207925518355, 0.13510849823554358, 0.13173267617821693, 0.1275815355281035, 0.1236833209792773, 0.12003363420565923, 0.11891685674587886, 0.11540696894129117, 0.11576371019085248, 0.1132194995880127, 0.10920468717813492, 0.10964834193388621, 0.10718649377425511, 0.10522439082463582, 0.10399086276690166, 0.10198018079002698, 0.10100916276375453, 0.09902210161089897, 0.0992783469458421, 0.09752156212925911, 0.09848614285389583, 0.09702384720245998, 0.09578496466080348, 0.09599502260486285, 0.09521357342600822, 0.09541725864013036, 0.09348195667068164, 0.09311617724597454, 0.09050437373419602, 0.09073082854350407, 0.09055501222610474, 0.09067646538217862, 0.08953460057576497, 0.08981323863069217, 0.08992415914932887, 0.089390038823088, 0.09001482898990314, 0.08914784714579582, 0.09138274379074574, 0.08793284744024277, 0.08722768289347489, 0.08846223105986913, 0.08698975294828415, 0.08692839245001475, 0.0873997441182534]\n",
      "Dev loss: 0.08589086246987183\n"
     ]
    },
    {
     "name": "stderr",
     "output_type": "stream",
     "text": [
      "\n",
      "Epoch:  63%|██████▎   | 63/100 [07:08<04:10,  6.76s/it]\u001b[A"
     ]
    },
    {
     "data": {
      "application/vnd.jupyter.widget-view+json": {
       "model_id": "b815d0223a6d4448b725631d4d4c5341",
       "version_major": 2,
       "version_minor": 0
      },
      "text/plain": [
       "HBox(children=(IntProgress(value=0, description='Training iteration', max=29, style=ProgressStyle(description_…"
      ]
     },
     "metadata": {},
     "output_type": "display_data"
    },
    {
     "name": "stdout",
     "output_type": "stream",
     "text": [
      "\n"
     ]
    },
    {
     "data": {
      "application/vnd.jupyter.widget-view+json": {
       "model_id": "d8c9af4771a44e809895e33ba8aff000",
       "version_major": 2,
       "version_minor": 0
      },
      "text/plain": [
       "HBox(children=(IntProgress(value=0, description='Evaluation iteration', max=6, style=ProgressStyle(description…"
      ]
     },
     "metadata": {},
     "output_type": "display_data"
    },
    {
     "name": "stdout",
     "output_type": "stream",
     "text": [
      "\n",
      "Loss history: [0.605769564708074, 0.4612632393836975, 0.3484412282705307, 0.29717086255550385, 0.26731228331724805, 0.24957897265752158, 0.2357658992211024, 0.22482032080491385, 0.21327275782823563, 0.20361091196537018, 0.19357392440239587, 0.18363535155852637, 0.1735388288895289, 0.1645234872897466, 0.15794453273216882, 0.1493313138683637, 0.1438723181684812, 0.14142207925518355, 0.13510849823554358, 0.13173267617821693, 0.1275815355281035, 0.1236833209792773, 0.12003363420565923, 0.11891685674587886, 0.11540696894129117, 0.11576371019085248, 0.1132194995880127, 0.10920468717813492, 0.10964834193388621, 0.10718649377425511, 0.10522439082463582, 0.10399086276690166, 0.10198018079002698, 0.10100916276375453, 0.09902210161089897, 0.0992783469458421, 0.09752156212925911, 0.09848614285389583, 0.09702384720245998, 0.09578496466080348, 0.09599502260486285, 0.09521357342600822, 0.09541725864013036, 0.09348195667068164, 0.09311617724597454, 0.09050437373419602, 0.09073082854350407, 0.09055501222610474, 0.09067646538217862, 0.08953460057576497, 0.08981323863069217, 0.08992415914932887, 0.089390038823088, 0.09001482898990314, 0.08914784714579582, 0.09138274379074574, 0.08793284744024277, 0.08722768289347489, 0.08846223105986913, 0.08698975294828415, 0.08692839245001475, 0.0873997441182534, 0.08589086246987183]\n",
      "Dev loss: 0.08542688998083274\n"
     ]
    },
    {
     "name": "stderr",
     "output_type": "stream",
     "text": [
      "\n",
      "Epoch:  64%|██████▍   | 64/100 [07:15<04:04,  6.80s/it]\u001b[A"
     ]
    },
    {
     "data": {
      "application/vnd.jupyter.widget-view+json": {
       "model_id": "7c96bc68a0ad4115b66174dfe4e9d6f4",
       "version_major": 2,
       "version_minor": 0
      },
      "text/plain": [
       "HBox(children=(IntProgress(value=0, description='Training iteration', max=29, style=ProgressStyle(description_…"
      ]
     },
     "metadata": {},
     "output_type": "display_data"
    },
    {
     "name": "stdout",
     "output_type": "stream",
     "text": [
      "\n"
     ]
    },
    {
     "data": {
      "application/vnd.jupyter.widget-view+json": {
       "model_id": "35b147d657e542d0851cefc6afc028af",
       "version_major": 2,
       "version_minor": 0
      },
      "text/plain": [
       "HBox(children=(IntProgress(value=0, description='Evaluation iteration', max=6, style=ProgressStyle(description…"
      ]
     },
     "metadata": {},
     "output_type": "display_data"
    },
    {
     "name": "stderr",
     "output_type": "stream",
     "text": [
      "\n",
      "Epoch:  65%|██████▌   | 65/100 [07:22<03:54,  6.70s/it]\u001b[A"
     ]
    },
    {
     "name": "stdout",
     "output_type": "stream",
     "text": [
      "\n",
      "Loss history: [0.605769564708074, 0.4612632393836975, 0.3484412282705307, 0.29717086255550385, 0.26731228331724805, 0.24957897265752158, 0.2357658992211024, 0.22482032080491385, 0.21327275782823563, 0.20361091196537018, 0.19357392440239587, 0.18363535155852637, 0.1735388288895289, 0.1645234872897466, 0.15794453273216882, 0.1493313138683637, 0.1438723181684812, 0.14142207925518355, 0.13510849823554358, 0.13173267617821693, 0.1275815355281035, 0.1236833209792773, 0.12003363420565923, 0.11891685674587886, 0.11540696894129117, 0.11576371019085248, 0.1132194995880127, 0.10920468717813492, 0.10964834193388621, 0.10718649377425511, 0.10522439082463582, 0.10399086276690166, 0.10198018079002698, 0.10100916276375453, 0.09902210161089897, 0.0992783469458421, 0.09752156212925911, 0.09848614285389583, 0.09702384720245998, 0.09578496466080348, 0.09599502260486285, 0.09521357342600822, 0.09541725864013036, 0.09348195667068164, 0.09311617724597454, 0.09050437373419602, 0.09073082854350407, 0.09055501222610474, 0.09067646538217862, 0.08953460057576497, 0.08981323863069217, 0.08992415914932887, 0.089390038823088, 0.09001482898990314, 0.08914784714579582, 0.09138274379074574, 0.08793284744024277, 0.08722768289347489, 0.08846223105986913, 0.08698975294828415, 0.08692839245001475, 0.0873997441182534, 0.08589086246987183, 0.08542688998083274]\n",
      "Dev loss: 0.0874154797444741\n"
     ]
    },
    {
     "data": {
      "application/vnd.jupyter.widget-view+json": {
       "model_id": "df5f1e2a2cb14401aa738578c0371c48",
       "version_major": 2,
       "version_minor": 0
      },
      "text/plain": [
       "HBox(children=(IntProgress(value=0, description='Training iteration', max=29, style=ProgressStyle(description_…"
      ]
     },
     "metadata": {},
     "output_type": "display_data"
    },
    {
     "name": "stdout",
     "output_type": "stream",
     "text": [
      "\n"
     ]
    },
    {
     "data": {
      "application/vnd.jupyter.widget-view+json": {
       "model_id": "d06620ff9bab4479ac3bc1f975d7025b",
       "version_major": 2,
       "version_minor": 0
      },
      "text/plain": [
       "HBox(children=(IntProgress(value=0, description='Evaluation iteration', max=6, style=ProgressStyle(description…"
      ]
     },
     "metadata": {},
     "output_type": "display_data"
    },
    {
     "name": "stderr",
     "output_type": "stream",
     "text": [
      "\n",
      "Epoch:  66%|██████▌   | 66/100 [07:28<03:45,  6.63s/it]\u001b[A"
     ]
    },
    {
     "name": "stdout",
     "output_type": "stream",
     "text": [
      "\n",
      "Loss history: [0.605769564708074, 0.4612632393836975, 0.3484412282705307, 0.29717086255550385, 0.26731228331724805, 0.24957897265752158, 0.2357658992211024, 0.22482032080491385, 0.21327275782823563, 0.20361091196537018, 0.19357392440239587, 0.18363535155852637, 0.1735388288895289, 0.1645234872897466, 0.15794453273216882, 0.1493313138683637, 0.1438723181684812, 0.14142207925518355, 0.13510849823554358, 0.13173267617821693, 0.1275815355281035, 0.1236833209792773, 0.12003363420565923, 0.11891685674587886, 0.11540696894129117, 0.11576371019085248, 0.1132194995880127, 0.10920468717813492, 0.10964834193388621, 0.10718649377425511, 0.10522439082463582, 0.10399086276690166, 0.10198018079002698, 0.10100916276375453, 0.09902210161089897, 0.0992783469458421, 0.09752156212925911, 0.09848614285389583, 0.09702384720245998, 0.09578496466080348, 0.09599502260486285, 0.09521357342600822, 0.09541725864013036, 0.09348195667068164, 0.09311617724597454, 0.09050437373419602, 0.09073082854350407, 0.09055501222610474, 0.09067646538217862, 0.08953460057576497, 0.08981323863069217, 0.08992415914932887, 0.089390038823088, 0.09001482898990314, 0.08914784714579582, 0.09138274379074574, 0.08793284744024277, 0.08722768289347489, 0.08846223105986913, 0.08698975294828415, 0.08692839245001475, 0.0873997441182534, 0.08589086246987183, 0.08542688998083274, 0.0874154797444741]\n",
      "Dev loss: 0.08697645304103692\n"
     ]
    },
    {
     "data": {
      "application/vnd.jupyter.widget-view+json": {
       "model_id": "548167c223df4476b3976e7c4ab42a2c",
       "version_major": 2,
       "version_minor": 0
      },
      "text/plain": [
       "HBox(children=(IntProgress(value=0, description='Training iteration', max=29, style=ProgressStyle(description_…"
      ]
     },
     "metadata": {},
     "output_type": "display_data"
    },
    {
     "name": "stdout",
     "output_type": "stream",
     "text": [
      "\n"
     ]
    },
    {
     "data": {
      "application/vnd.jupyter.widget-view+json": {
       "model_id": "ceb3b8182898403db1ca33e5de0eccf0",
       "version_major": 2,
       "version_minor": 0
      },
      "text/plain": [
       "HBox(children=(IntProgress(value=0, description='Evaluation iteration', max=6, style=ProgressStyle(description…"
      ]
     },
     "metadata": {},
     "output_type": "display_data"
    },
    {
     "name": "stderr",
     "output_type": "stream",
     "text": [
      "\n",
      "Epoch:  67%|██████▋   | 67/100 [07:35<03:37,  6.58s/it]\u001b[A"
     ]
    },
    {
     "name": "stdout",
     "output_type": "stream",
     "text": [
      "\n",
      "Loss history: [0.605769564708074, 0.4612632393836975, 0.3484412282705307, 0.29717086255550385, 0.26731228331724805, 0.24957897265752158, 0.2357658992211024, 0.22482032080491385, 0.21327275782823563, 0.20361091196537018, 0.19357392440239587, 0.18363535155852637, 0.1735388288895289, 0.1645234872897466, 0.15794453273216882, 0.1493313138683637, 0.1438723181684812, 0.14142207925518355, 0.13510849823554358, 0.13173267617821693, 0.1275815355281035, 0.1236833209792773, 0.12003363420565923, 0.11891685674587886, 0.11540696894129117, 0.11576371019085248, 0.1132194995880127, 0.10920468717813492, 0.10964834193388621, 0.10718649377425511, 0.10522439082463582, 0.10399086276690166, 0.10198018079002698, 0.10100916276375453, 0.09902210161089897, 0.0992783469458421, 0.09752156212925911, 0.09848614285389583, 0.09702384720245998, 0.09578496466080348, 0.09599502260486285, 0.09521357342600822, 0.09541725864013036, 0.09348195667068164, 0.09311617724597454, 0.09050437373419602, 0.09073082854350407, 0.09055501222610474, 0.09067646538217862, 0.08953460057576497, 0.08981323863069217, 0.08992415914932887, 0.089390038823088, 0.09001482898990314, 0.08914784714579582, 0.09138274379074574, 0.08793284744024277, 0.08722768289347489, 0.08846223105986913, 0.08698975294828415, 0.08692839245001475, 0.0873997441182534, 0.08589086246987183, 0.08542688998083274, 0.0874154797444741, 0.08697645304103692]\n",
      "Dev loss: 0.08651676774024963\n"
     ]
    },
    {
     "data": {
      "application/vnd.jupyter.widget-view+json": {
       "model_id": "cc487cdedc78490484d735de430035b7",
       "version_major": 2,
       "version_minor": 0
      },
      "text/plain": [
       "HBox(children=(IntProgress(value=0, description='Training iteration', max=29, style=ProgressStyle(description_…"
      ]
     },
     "metadata": {},
     "output_type": "display_data"
    },
    {
     "name": "stdout",
     "output_type": "stream",
     "text": [
      "\n"
     ]
    },
    {
     "data": {
      "application/vnd.jupyter.widget-view+json": {
       "model_id": "7873e331adee4298ad997f672b9c109e",
       "version_major": 2,
       "version_minor": 0
      },
      "text/plain": [
       "HBox(children=(IntProgress(value=0, description='Evaluation iteration', max=6, style=ProgressStyle(description…"
      ]
     },
     "metadata": {},
     "output_type": "display_data"
    },
    {
     "name": "stderr",
     "output_type": "stream",
     "text": [
      "\n",
      "Epoch:  68%|██████▊   | 68/100 [07:41<03:29,  6.54s/it]\u001b[A"
     ]
    },
    {
     "name": "stdout",
     "output_type": "stream",
     "text": [
      "\n",
      "Loss history: [0.605769564708074, 0.4612632393836975, 0.3484412282705307, 0.29717086255550385, 0.26731228331724805, 0.24957897265752158, 0.2357658992211024, 0.22482032080491385, 0.21327275782823563, 0.20361091196537018, 0.19357392440239587, 0.18363535155852637, 0.1735388288895289, 0.1645234872897466, 0.15794453273216882, 0.1493313138683637, 0.1438723181684812, 0.14142207925518355, 0.13510849823554358, 0.13173267617821693, 0.1275815355281035, 0.1236833209792773, 0.12003363420565923, 0.11891685674587886, 0.11540696894129117, 0.11576371019085248, 0.1132194995880127, 0.10920468717813492, 0.10964834193388621, 0.10718649377425511, 0.10522439082463582, 0.10399086276690166, 0.10198018079002698, 0.10100916276375453, 0.09902210161089897, 0.0992783469458421, 0.09752156212925911, 0.09848614285389583, 0.09702384720245998, 0.09578496466080348, 0.09599502260486285, 0.09521357342600822, 0.09541725864013036, 0.09348195667068164, 0.09311617724597454, 0.09050437373419602, 0.09073082854350407, 0.09055501222610474, 0.09067646538217862, 0.08953460057576497, 0.08981323863069217, 0.08992415914932887, 0.089390038823088, 0.09001482898990314, 0.08914784714579582, 0.09138274379074574, 0.08793284744024277, 0.08722768289347489, 0.08846223105986913, 0.08698975294828415, 0.08692839245001475, 0.0873997441182534, 0.08589086246987183, 0.08542688998083274, 0.0874154797444741, 0.08697645304103692, 0.08651676774024963]\n",
      "Dev loss: 0.08624004448453586\n"
     ]
    },
    {
     "data": {
      "application/vnd.jupyter.widget-view+json": {
       "model_id": "5599a786f5f44b86ba546811aa718c5f",
       "version_major": 2,
       "version_minor": 0
      },
      "text/plain": [
       "HBox(children=(IntProgress(value=0, description='Training iteration', max=29, style=ProgressStyle(description_…"
      ]
     },
     "metadata": {},
     "output_type": "display_data"
    },
    {
     "name": "stdout",
     "output_type": "stream",
     "text": [
      "\n"
     ]
    },
    {
     "data": {
      "application/vnd.jupyter.widget-view+json": {
       "model_id": "961ea35c813641bcbe648e4ba1bbf5d4",
       "version_major": 2,
       "version_minor": 0
      },
      "text/plain": [
       "HBox(children=(IntProgress(value=0, description='Evaluation iteration', max=6, style=ProgressStyle(description…"
      ]
     },
     "metadata": {},
     "output_type": "display_data"
    },
    {
     "name": "stdout",
     "output_type": "stream",
     "text": [
      "\n",
      "Loss history: [0.605769564708074, 0.4612632393836975, 0.3484412282705307, 0.29717086255550385, 0.26731228331724805, 0.24957897265752158, 0.2357658992211024, 0.22482032080491385, 0.21327275782823563, 0.20361091196537018, 0.19357392440239587, 0.18363535155852637, 0.1735388288895289, 0.1645234872897466, 0.15794453273216882, 0.1493313138683637, 0.1438723181684812, 0.14142207925518355, 0.13510849823554358, 0.13173267617821693, 0.1275815355281035, 0.1236833209792773, 0.12003363420565923, 0.11891685674587886, 0.11540696894129117, 0.11576371019085248, 0.1132194995880127, 0.10920468717813492, 0.10964834193388621, 0.10718649377425511, 0.10522439082463582, 0.10399086276690166, 0.10198018079002698, 0.10100916276375453, 0.09902210161089897, 0.0992783469458421, 0.09752156212925911, 0.09848614285389583, 0.09702384720245998, 0.09578496466080348, 0.09599502260486285, 0.09521357342600822, 0.09541725864013036, 0.09348195667068164, 0.09311617724597454, 0.09050437373419602, 0.09073082854350407, 0.09055501222610474, 0.09067646538217862, 0.08953460057576497, 0.08981323863069217, 0.08992415914932887, 0.089390038823088, 0.09001482898990314, 0.08914784714579582, 0.09138274379074574, 0.08793284744024277, 0.08722768289347489, 0.08846223105986913, 0.08698975294828415, 0.08692839245001475, 0.0873997441182534, 0.08589086246987183, 0.08542688998083274, 0.0874154797444741, 0.08697645304103692, 0.08651676774024963, 0.08624004448453586]\n",
      "Dev loss: 0.08505323529243469\n"
     ]
    },
    {
     "name": "stderr",
     "output_type": "stream",
     "text": [
      "\n",
      "Epoch:  69%|██████▉   | 69/100 [07:48<03:26,  6.65s/it]\u001b[A"
     ]
    },
    {
     "data": {
      "application/vnd.jupyter.widget-view+json": {
       "model_id": "601b8b9e21b74b42a8371c88859f9f81",
       "version_major": 2,
       "version_minor": 0
      },
      "text/plain": [
       "HBox(children=(IntProgress(value=0, description='Training iteration', max=29, style=ProgressStyle(description_…"
      ]
     },
     "metadata": {},
     "output_type": "display_data"
    },
    {
     "name": "stdout",
     "output_type": "stream",
     "text": [
      "\n"
     ]
    },
    {
     "data": {
      "application/vnd.jupyter.widget-view+json": {
       "model_id": "37026d9c027d48eca2a320febbe2cf6d",
       "version_major": 2,
       "version_minor": 0
      },
      "text/plain": [
       "HBox(children=(IntProgress(value=0, description='Evaluation iteration', max=6, style=ProgressStyle(description…"
      ]
     },
     "metadata": {},
     "output_type": "display_data"
    },
    {
     "name": "stderr",
     "output_type": "stream",
     "text": [
      "\n",
      "Epoch:  70%|███████   | 70/100 [07:54<03:17,  6.60s/it]\u001b[A"
     ]
    },
    {
     "name": "stdout",
     "output_type": "stream",
     "text": [
      "\n",
      "Loss history: [0.605769564708074, 0.4612632393836975, 0.3484412282705307, 0.29717086255550385, 0.26731228331724805, 0.24957897265752158, 0.2357658992211024, 0.22482032080491385, 0.21327275782823563, 0.20361091196537018, 0.19357392440239587, 0.18363535155852637, 0.1735388288895289, 0.1645234872897466, 0.15794453273216882, 0.1493313138683637, 0.1438723181684812, 0.14142207925518355, 0.13510849823554358, 0.13173267617821693, 0.1275815355281035, 0.1236833209792773, 0.12003363420565923, 0.11891685674587886, 0.11540696894129117, 0.11576371019085248, 0.1132194995880127, 0.10920468717813492, 0.10964834193388621, 0.10718649377425511, 0.10522439082463582, 0.10399086276690166, 0.10198018079002698, 0.10100916276375453, 0.09902210161089897, 0.0992783469458421, 0.09752156212925911, 0.09848614285389583, 0.09702384720245998, 0.09578496466080348, 0.09599502260486285, 0.09521357342600822, 0.09541725864013036, 0.09348195667068164, 0.09311617724597454, 0.09050437373419602, 0.09073082854350407, 0.09055501222610474, 0.09067646538217862, 0.08953460057576497, 0.08981323863069217, 0.08992415914932887, 0.089390038823088, 0.09001482898990314, 0.08914784714579582, 0.09138274379074574, 0.08793284744024277, 0.08722768289347489, 0.08846223105986913, 0.08698975294828415, 0.08692839245001475, 0.0873997441182534, 0.08589086246987183, 0.08542688998083274, 0.0874154797444741, 0.08697645304103692, 0.08651676774024963, 0.08624004448453586, 0.08505323529243469]\n",
      "Dev loss: 0.0858163945376873\n"
     ]
    },
    {
     "data": {
      "application/vnd.jupyter.widget-view+json": {
       "model_id": "2bb7a42e55224042bf7a148a9af82253",
       "version_major": 2,
       "version_minor": 0
      },
      "text/plain": [
       "HBox(children=(IntProgress(value=0, description='Training iteration', max=29, style=ProgressStyle(description_…"
      ]
     },
     "metadata": {},
     "output_type": "display_data"
    },
    {
     "name": "stdout",
     "output_type": "stream",
     "text": [
      "\n"
     ]
    },
    {
     "data": {
      "application/vnd.jupyter.widget-view+json": {
       "model_id": "b9e5453609dd4deaa4122a1c519d0a36",
       "version_major": 2,
       "version_minor": 0
      },
      "text/plain": [
       "HBox(children=(IntProgress(value=0, description='Evaluation iteration', max=6, style=ProgressStyle(description…"
      ]
     },
     "metadata": {},
     "output_type": "display_data"
    },
    {
     "name": "stderr",
     "output_type": "stream",
     "text": [
      "\n",
      "Epoch:  71%|███████   | 71/100 [08:01<03:10,  6.56s/it]\u001b[A"
     ]
    },
    {
     "name": "stdout",
     "output_type": "stream",
     "text": [
      "\n",
      "Loss history: [0.605769564708074, 0.4612632393836975, 0.3484412282705307, 0.29717086255550385, 0.26731228331724805, 0.24957897265752158, 0.2357658992211024, 0.22482032080491385, 0.21327275782823563, 0.20361091196537018, 0.19357392440239587, 0.18363535155852637, 0.1735388288895289, 0.1645234872897466, 0.15794453273216882, 0.1493313138683637, 0.1438723181684812, 0.14142207925518355, 0.13510849823554358, 0.13173267617821693, 0.1275815355281035, 0.1236833209792773, 0.12003363420565923, 0.11891685674587886, 0.11540696894129117, 0.11576371019085248, 0.1132194995880127, 0.10920468717813492, 0.10964834193388621, 0.10718649377425511, 0.10522439082463582, 0.10399086276690166, 0.10198018079002698, 0.10100916276375453, 0.09902210161089897, 0.0992783469458421, 0.09752156212925911, 0.09848614285389583, 0.09702384720245998, 0.09578496466080348, 0.09599502260486285, 0.09521357342600822, 0.09541725864013036, 0.09348195667068164, 0.09311617724597454, 0.09050437373419602, 0.09073082854350407, 0.09055501222610474, 0.09067646538217862, 0.08953460057576497, 0.08981323863069217, 0.08992415914932887, 0.089390038823088, 0.09001482898990314, 0.08914784714579582, 0.09138274379074574, 0.08793284744024277, 0.08722768289347489, 0.08846223105986913, 0.08698975294828415, 0.08692839245001475, 0.0873997441182534, 0.08589086246987183, 0.08542688998083274, 0.0874154797444741, 0.08697645304103692, 0.08651676774024963, 0.08624004448453586, 0.08505323529243469, 0.0858163945376873]\n",
      "Dev loss: 0.08634829645355542\n"
     ]
    },
    {
     "data": {
      "application/vnd.jupyter.widget-view+json": {
       "model_id": "590b6b1955134f7eb004ce2a6c20bc26",
       "version_major": 2,
       "version_minor": 0
      },
      "text/plain": [
       "HBox(children=(IntProgress(value=0, description='Training iteration', max=29, style=ProgressStyle(description_…"
      ]
     },
     "metadata": {},
     "output_type": "display_data"
    },
    {
     "name": "stdout",
     "output_type": "stream",
     "text": [
      "\n"
     ]
    },
    {
     "data": {
      "application/vnd.jupyter.widget-view+json": {
       "model_id": "1e9de099931b42d7acbd39b43e7b7d1b",
       "version_major": 2,
       "version_minor": 0
      },
      "text/plain": [
       "HBox(children=(IntProgress(value=0, description='Evaluation iteration', max=6, style=ProgressStyle(description…"
      ]
     },
     "metadata": {},
     "output_type": "display_data"
    },
    {
     "name": "stderr",
     "output_type": "stream",
     "text": [
      "\n",
      "Epoch:  72%|███████▏  | 72/100 [08:07<03:02,  6.53s/it]\u001b[A"
     ]
    },
    {
     "name": "stdout",
     "output_type": "stream",
     "text": [
      "\n",
      "Loss history: [0.605769564708074, 0.4612632393836975, 0.3484412282705307, 0.29717086255550385, 0.26731228331724805, 0.24957897265752158, 0.2357658992211024, 0.22482032080491385, 0.21327275782823563, 0.20361091196537018, 0.19357392440239587, 0.18363535155852637, 0.1735388288895289, 0.1645234872897466, 0.15794453273216882, 0.1493313138683637, 0.1438723181684812, 0.14142207925518355, 0.13510849823554358, 0.13173267617821693, 0.1275815355281035, 0.1236833209792773, 0.12003363420565923, 0.11891685674587886, 0.11540696894129117, 0.11576371019085248, 0.1132194995880127, 0.10920468717813492, 0.10964834193388621, 0.10718649377425511, 0.10522439082463582, 0.10399086276690166, 0.10198018079002698, 0.10100916276375453, 0.09902210161089897, 0.0992783469458421, 0.09752156212925911, 0.09848614285389583, 0.09702384720245998, 0.09578496466080348, 0.09599502260486285, 0.09521357342600822, 0.09541725864013036, 0.09348195667068164, 0.09311617724597454, 0.09050437373419602, 0.09073082854350407, 0.09055501222610474, 0.09067646538217862, 0.08953460057576497, 0.08981323863069217, 0.08992415914932887, 0.089390038823088, 0.09001482898990314, 0.08914784714579582, 0.09138274379074574, 0.08793284744024277, 0.08722768289347489, 0.08846223105986913, 0.08698975294828415, 0.08692839245001475, 0.0873997441182534, 0.08589086246987183, 0.08542688998083274, 0.0874154797444741, 0.08697645304103692, 0.08651676774024963, 0.08624004448453586, 0.08505323529243469, 0.0858163945376873, 0.08634829645355542]\n",
      "Dev loss: 0.08575118457277615\n"
     ]
    },
    {
     "data": {
      "application/vnd.jupyter.widget-view+json": {
       "model_id": "c0a089b91ac64fd68db8e698943836dd",
       "version_major": 2,
       "version_minor": 0
      },
      "text/plain": [
       "HBox(children=(IntProgress(value=0, description='Training iteration', max=29, style=ProgressStyle(description_…"
      ]
     },
     "metadata": {},
     "output_type": "display_data"
    },
    {
     "name": "stdout",
     "output_type": "stream",
     "text": [
      "\n"
     ]
    },
    {
     "data": {
      "application/vnd.jupyter.widget-view+json": {
       "model_id": "7327f987227143c893b415c10df91395",
       "version_major": 2,
       "version_minor": 0
      },
      "text/plain": [
       "HBox(children=(IntProgress(value=0, description='Evaluation iteration', max=6, style=ProgressStyle(description…"
      ]
     },
     "metadata": {},
     "output_type": "display_data"
    },
    {
     "name": "stdout",
     "output_type": "stream",
     "text": [
      "\n",
      "Loss history: [0.605769564708074, 0.4612632393836975, 0.3484412282705307, 0.29717086255550385, 0.26731228331724805, 0.24957897265752158, 0.2357658992211024, 0.22482032080491385, 0.21327275782823563, 0.20361091196537018, 0.19357392440239587, 0.18363535155852637, 0.1735388288895289, 0.1645234872897466, 0.15794453273216882, 0.1493313138683637, 0.1438723181684812, 0.14142207925518355, 0.13510849823554358, 0.13173267617821693, 0.1275815355281035, 0.1236833209792773, 0.12003363420565923, 0.11891685674587886, 0.11540696894129117, 0.11576371019085248, 0.1132194995880127, 0.10920468717813492, 0.10964834193388621, 0.10718649377425511, 0.10522439082463582, 0.10399086276690166, 0.10198018079002698, 0.10100916276375453, 0.09902210161089897, 0.0992783469458421, 0.09752156212925911, 0.09848614285389583, 0.09702384720245998, 0.09578496466080348, 0.09599502260486285, 0.09521357342600822, 0.09541725864013036, 0.09348195667068164, 0.09311617724597454, 0.09050437373419602, 0.09073082854350407, 0.09055501222610474, 0.09067646538217862, 0.08953460057576497, 0.08981323863069217, 0.08992415914932887, 0.089390038823088, 0.09001482898990314, 0.08914784714579582, 0.09138274379074574, 0.08793284744024277, 0.08722768289347489, 0.08846223105986913, 0.08698975294828415, 0.08692839245001475, 0.0873997441182534, 0.08589086246987183, 0.08542688998083274, 0.0874154797444741, 0.08697645304103692, 0.08651676774024963, 0.08624004448453586, 0.08505323529243469, 0.0858163945376873, 0.08634829645355542, 0.08575118457277615]\n",
      "Dev loss: 0.0846887764831384\n"
     ]
    },
    {
     "name": "stderr",
     "output_type": "stream",
     "text": [
      "\n",
      "Epoch:  73%|███████▎  | 73/100 [08:14<03:00,  6.67s/it]\u001b[A"
     ]
    },
    {
     "data": {
      "application/vnd.jupyter.widget-view+json": {
       "model_id": "f82bdb71a1204dbbb3b5823510358245",
       "version_major": 2,
       "version_minor": 0
      },
      "text/plain": [
       "HBox(children=(IntProgress(value=0, description='Training iteration', max=29, style=ProgressStyle(description_…"
      ]
     },
     "metadata": {},
     "output_type": "display_data"
    },
    {
     "name": "stdout",
     "output_type": "stream",
     "text": [
      "\n"
     ]
    },
    {
     "data": {
      "application/vnd.jupyter.widget-view+json": {
       "model_id": "50303c3c0cf240ad95edd1dd4ef9393c",
       "version_major": 2,
       "version_minor": 0
      },
      "text/plain": [
       "HBox(children=(IntProgress(value=0, description='Evaluation iteration', max=6, style=ProgressStyle(description…"
      ]
     },
     "metadata": {},
     "output_type": "display_data"
    },
    {
     "name": "stdout",
     "output_type": "stream",
     "text": [
      "\n",
      "Loss history: [0.605769564708074, 0.4612632393836975, 0.3484412282705307, 0.29717086255550385, 0.26731228331724805, 0.24957897265752158, 0.2357658992211024, 0.22482032080491385, 0.21327275782823563, 0.20361091196537018, 0.19357392440239587, 0.18363535155852637, 0.1735388288895289, 0.1645234872897466, 0.15794453273216882, 0.1493313138683637, 0.1438723181684812, 0.14142207925518355, 0.13510849823554358, 0.13173267617821693, 0.1275815355281035, 0.1236833209792773, 0.12003363420565923, 0.11891685674587886, 0.11540696894129117, 0.11576371019085248, 0.1132194995880127, 0.10920468717813492, 0.10964834193388621, 0.10718649377425511, 0.10522439082463582, 0.10399086276690166, 0.10198018079002698, 0.10100916276375453, 0.09902210161089897, 0.0992783469458421, 0.09752156212925911, 0.09848614285389583, 0.09702384720245998, 0.09578496466080348, 0.09599502260486285, 0.09521357342600822, 0.09541725864013036, 0.09348195667068164, 0.09311617724597454, 0.09050437373419602, 0.09073082854350407, 0.09055501222610474, 0.09067646538217862, 0.08953460057576497, 0.08981323863069217, 0.08992415914932887, 0.089390038823088, 0.09001482898990314, 0.08914784714579582, 0.09138274379074574, 0.08793284744024277, 0.08722768289347489, 0.08846223105986913, 0.08698975294828415, 0.08692839245001475, 0.0873997441182534, 0.08589086246987183, 0.08542688998083274, 0.0874154797444741, 0.08697645304103692, 0.08651676774024963, 0.08624004448453586, 0.08505323529243469, 0.0858163945376873, 0.08634829645355542, 0.08575118457277615, 0.0846887764831384]\n",
      "Dev loss: 0.08392142814894517\n"
     ]
    },
    {
     "name": "stderr",
     "output_type": "stream",
     "text": [
      "\n",
      "Epoch:  74%|███████▍  | 74/100 [08:21<02:55,  6.75s/it]\u001b[A"
     ]
    },
    {
     "data": {
      "application/vnd.jupyter.widget-view+json": {
       "model_id": "b90ed316b836483f9384af1cc135269f",
       "version_major": 2,
       "version_minor": 0
      },
      "text/plain": [
       "HBox(children=(IntProgress(value=0, description='Training iteration', max=29, style=ProgressStyle(description_…"
      ]
     },
     "metadata": {},
     "output_type": "display_data"
    },
    {
     "name": "stdout",
     "output_type": "stream",
     "text": [
      "\n"
     ]
    },
    {
     "data": {
      "application/vnd.jupyter.widget-view+json": {
       "model_id": "7a88d76903c64ff79125d7e20434feb8",
       "version_major": 2,
       "version_minor": 0
      },
      "text/plain": [
       "HBox(children=(IntProgress(value=0, description='Evaluation iteration', max=6, style=ProgressStyle(description…"
      ]
     },
     "metadata": {},
     "output_type": "display_data"
    },
    {
     "name": "stderr",
     "output_type": "stream",
     "text": [
      "\n",
      "Epoch:  75%|███████▌  | 75/100 [08:28<02:46,  6.66s/it]\u001b[A"
     ]
    },
    {
     "name": "stdout",
     "output_type": "stream",
     "text": [
      "\n",
      "Loss history: [0.605769564708074, 0.4612632393836975, 0.3484412282705307, 0.29717086255550385, 0.26731228331724805, 0.24957897265752158, 0.2357658992211024, 0.22482032080491385, 0.21327275782823563, 0.20361091196537018, 0.19357392440239587, 0.18363535155852637, 0.1735388288895289, 0.1645234872897466, 0.15794453273216882, 0.1493313138683637, 0.1438723181684812, 0.14142207925518355, 0.13510849823554358, 0.13173267617821693, 0.1275815355281035, 0.1236833209792773, 0.12003363420565923, 0.11891685674587886, 0.11540696894129117, 0.11576371019085248, 0.1132194995880127, 0.10920468717813492, 0.10964834193388621, 0.10718649377425511, 0.10522439082463582, 0.10399086276690166, 0.10198018079002698, 0.10100916276375453, 0.09902210161089897, 0.0992783469458421, 0.09752156212925911, 0.09848614285389583, 0.09702384720245998, 0.09578496466080348, 0.09599502260486285, 0.09521357342600822, 0.09541725864013036, 0.09348195667068164, 0.09311617724597454, 0.09050437373419602, 0.09073082854350407, 0.09055501222610474, 0.09067646538217862, 0.08953460057576497, 0.08981323863069217, 0.08992415914932887, 0.089390038823088, 0.09001482898990314, 0.08914784714579582, 0.09138274379074574, 0.08793284744024277, 0.08722768289347489, 0.08846223105986913, 0.08698975294828415, 0.08692839245001475, 0.0873997441182534, 0.08589086246987183, 0.08542688998083274, 0.0874154797444741, 0.08697645304103692, 0.08651676774024963, 0.08624004448453586, 0.08505323529243469, 0.0858163945376873, 0.08634829645355542, 0.08575118457277615, 0.0846887764831384, 0.08392142814894517]\n",
      "Dev loss: 0.08539443276822567\n"
     ]
    },
    {
     "data": {
      "application/vnd.jupyter.widget-view+json": {
       "model_id": "bbbecfd830ff42c48338abcc4ecd64b4",
       "version_major": 2,
       "version_minor": 0
      },
      "text/plain": [
       "HBox(children=(IntProgress(value=0, description='Training iteration', max=29, style=ProgressStyle(description_…"
      ]
     },
     "metadata": {},
     "output_type": "display_data"
    },
    {
     "name": "stdout",
     "output_type": "stream",
     "text": [
      "\n"
     ]
    },
    {
     "data": {
      "application/vnd.jupyter.widget-view+json": {
       "model_id": "76742b6cd3904ab0b8c29969457dd28f",
       "version_major": 2,
       "version_minor": 0
      },
      "text/plain": [
       "HBox(children=(IntProgress(value=0, description='Evaluation iteration', max=6, style=ProgressStyle(description…"
      ]
     },
     "metadata": {},
     "output_type": "display_data"
    },
    {
     "name": "stderr",
     "output_type": "stream",
     "text": [
      "\n",
      "Epoch:  76%|███████▌  | 76/100 [08:34<02:38,  6.60s/it]\u001b[A"
     ]
    },
    {
     "name": "stdout",
     "output_type": "stream",
     "text": [
      "\n",
      "Loss history: [0.605769564708074, 0.4612632393836975, 0.3484412282705307, 0.29717086255550385, 0.26731228331724805, 0.24957897265752158, 0.2357658992211024, 0.22482032080491385, 0.21327275782823563, 0.20361091196537018, 0.19357392440239587, 0.18363535155852637, 0.1735388288895289, 0.1645234872897466, 0.15794453273216882, 0.1493313138683637, 0.1438723181684812, 0.14142207925518355, 0.13510849823554358, 0.13173267617821693, 0.1275815355281035, 0.1236833209792773, 0.12003363420565923, 0.11891685674587886, 0.11540696894129117, 0.11576371019085248, 0.1132194995880127, 0.10920468717813492, 0.10964834193388621, 0.10718649377425511, 0.10522439082463582, 0.10399086276690166, 0.10198018079002698, 0.10100916276375453, 0.09902210161089897, 0.0992783469458421, 0.09752156212925911, 0.09848614285389583, 0.09702384720245998, 0.09578496466080348, 0.09599502260486285, 0.09521357342600822, 0.09541725864013036, 0.09348195667068164, 0.09311617724597454, 0.09050437373419602, 0.09073082854350407, 0.09055501222610474, 0.09067646538217862, 0.08953460057576497, 0.08981323863069217, 0.08992415914932887, 0.089390038823088, 0.09001482898990314, 0.08914784714579582, 0.09138274379074574, 0.08793284744024277, 0.08722768289347489, 0.08846223105986913, 0.08698975294828415, 0.08692839245001475, 0.0873997441182534, 0.08589086246987183, 0.08542688998083274, 0.0874154797444741, 0.08697645304103692, 0.08651676774024963, 0.08624004448453586, 0.08505323529243469, 0.0858163945376873, 0.08634829645355542, 0.08575118457277615, 0.0846887764831384, 0.08392142814894517, 0.08539443276822567]\n",
      "Dev loss: 0.0857292686899503\n"
     ]
    },
    {
     "data": {
      "application/vnd.jupyter.widget-view+json": {
       "model_id": "668050fb74404c8bbcf1278106819aaa",
       "version_major": 2,
       "version_minor": 0
      },
      "text/plain": [
       "HBox(children=(IntProgress(value=0, description='Training iteration', max=29, style=ProgressStyle(description_…"
      ]
     },
     "metadata": {},
     "output_type": "display_data"
    },
    {
     "name": "stdout",
     "output_type": "stream",
     "text": [
      "\n"
     ]
    },
    {
     "data": {
      "application/vnd.jupyter.widget-view+json": {
       "model_id": "40b8a3707df0467c8897d5a266bebc26",
       "version_major": 2,
       "version_minor": 0
      },
      "text/plain": [
       "HBox(children=(IntProgress(value=0, description='Evaluation iteration', max=6, style=ProgressStyle(description…"
      ]
     },
     "metadata": {},
     "output_type": "display_data"
    },
    {
     "name": "stderr",
     "output_type": "stream",
     "text": [
      "\n",
      "Epoch:  77%|███████▋  | 77/100 [08:41<02:30,  6.56s/it]\u001b[A"
     ]
    },
    {
     "name": "stdout",
     "output_type": "stream",
     "text": [
      "\n",
      "Loss history: [0.605769564708074, 0.4612632393836975, 0.3484412282705307, 0.29717086255550385, 0.26731228331724805, 0.24957897265752158, 0.2357658992211024, 0.22482032080491385, 0.21327275782823563, 0.20361091196537018, 0.19357392440239587, 0.18363535155852637, 0.1735388288895289, 0.1645234872897466, 0.15794453273216882, 0.1493313138683637, 0.1438723181684812, 0.14142207925518355, 0.13510849823554358, 0.13173267617821693, 0.1275815355281035, 0.1236833209792773, 0.12003363420565923, 0.11891685674587886, 0.11540696894129117, 0.11576371019085248, 0.1132194995880127, 0.10920468717813492, 0.10964834193388621, 0.10718649377425511, 0.10522439082463582, 0.10399086276690166, 0.10198018079002698, 0.10100916276375453, 0.09902210161089897, 0.0992783469458421, 0.09752156212925911, 0.09848614285389583, 0.09702384720245998, 0.09578496466080348, 0.09599502260486285, 0.09521357342600822, 0.09541725864013036, 0.09348195667068164, 0.09311617724597454, 0.09050437373419602, 0.09073082854350407, 0.09055501222610474, 0.09067646538217862, 0.08953460057576497, 0.08981323863069217, 0.08992415914932887, 0.089390038823088, 0.09001482898990314, 0.08914784714579582, 0.09138274379074574, 0.08793284744024277, 0.08722768289347489, 0.08846223105986913, 0.08698975294828415, 0.08692839245001475, 0.0873997441182534, 0.08589086246987183, 0.08542688998083274, 0.0874154797444741, 0.08697645304103692, 0.08651676774024963, 0.08624004448453586, 0.08505323529243469, 0.0858163945376873, 0.08634829645355542, 0.08575118457277615, 0.0846887764831384, 0.08392142814894517, 0.08539443276822567, 0.0857292686899503]\n",
      "Dev loss: 0.0848484318703413\n"
     ]
    },
    {
     "data": {
      "application/vnd.jupyter.widget-view+json": {
       "model_id": "65e0e0d233ad46e2977c0963c3d97931",
       "version_major": 2,
       "version_minor": 0
      },
      "text/plain": [
       "HBox(children=(IntProgress(value=0, description='Training iteration', max=29, style=ProgressStyle(description_…"
      ]
     },
     "metadata": {},
     "output_type": "display_data"
    },
    {
     "name": "stdout",
     "output_type": "stream",
     "text": [
      "\n"
     ]
    },
    {
     "data": {
      "application/vnd.jupyter.widget-view+json": {
       "model_id": "141311ca7c8947f985f4fbd2c92f0d6d",
       "version_major": 2,
       "version_minor": 0
      },
      "text/plain": [
       "HBox(children=(IntProgress(value=0, description='Evaluation iteration', max=6, style=ProgressStyle(description…"
      ]
     },
     "metadata": {},
     "output_type": "display_data"
    },
    {
     "name": "stdout",
     "output_type": "stream",
     "text": [
      "\n",
      "Loss history: [0.605769564708074, 0.4612632393836975, 0.3484412282705307, 0.29717086255550385, 0.26731228331724805, 0.24957897265752158, 0.2357658992211024, 0.22482032080491385, 0.21327275782823563, 0.20361091196537018, 0.19357392440239587, 0.18363535155852637, 0.1735388288895289, 0.1645234872897466, 0.15794453273216882, 0.1493313138683637, 0.1438723181684812, 0.14142207925518355, 0.13510849823554358, 0.13173267617821693, 0.1275815355281035, 0.1236833209792773, 0.12003363420565923, 0.11891685674587886, 0.11540696894129117, 0.11576371019085248, 0.1132194995880127, 0.10920468717813492, 0.10964834193388621, 0.10718649377425511, 0.10522439082463582, 0.10399086276690166, 0.10198018079002698, 0.10100916276375453, 0.09902210161089897, 0.0992783469458421, 0.09752156212925911, 0.09848614285389583, 0.09702384720245998, 0.09578496466080348, 0.09599502260486285, 0.09521357342600822, 0.09541725864013036, 0.09348195667068164, 0.09311617724597454, 0.09050437373419602, 0.09073082854350407, 0.09055501222610474, 0.09067646538217862, 0.08953460057576497, 0.08981323863069217, 0.08992415914932887, 0.089390038823088, 0.09001482898990314, 0.08914784714579582, 0.09138274379074574, 0.08793284744024277, 0.08722768289347489, 0.08846223105986913, 0.08698975294828415, 0.08692839245001475, 0.0873997441182534, 0.08589086246987183, 0.08542688998083274, 0.0874154797444741, 0.08697645304103692, 0.08651676774024963, 0.08624004448453586, 0.08505323529243469, 0.0858163945376873, 0.08634829645355542, 0.08575118457277615, 0.0846887764831384, 0.08392142814894517, 0.08539443276822567, 0.0857292686899503, 0.0848484318703413]\n",
      "Dev loss: 0.08350631532569726\n"
     ]
    },
    {
     "name": "stderr",
     "output_type": "stream",
     "text": [
      "\n",
      "Epoch:  78%|███████▊  | 78/100 [08:48<02:26,  6.67s/it]\u001b[A"
     ]
    },
    {
     "data": {
      "application/vnd.jupyter.widget-view+json": {
       "model_id": "7d00e56403324b8fbc8860c2287c8901",
       "version_major": 2,
       "version_minor": 0
      },
      "text/plain": [
       "HBox(children=(IntProgress(value=0, description='Training iteration', max=29, style=ProgressStyle(description_…"
      ]
     },
     "metadata": {},
     "output_type": "display_data"
    },
    {
     "name": "stdout",
     "output_type": "stream",
     "text": [
      "\n"
     ]
    },
    {
     "data": {
      "application/vnd.jupyter.widget-view+json": {
       "model_id": "5da3d7fcf8d74daebb2d27bb07d6302c",
       "version_major": 2,
       "version_minor": 0
      },
      "text/plain": [
       "HBox(children=(IntProgress(value=0, description='Evaluation iteration', max=6, style=ProgressStyle(description…"
      ]
     },
     "metadata": {},
     "output_type": "display_data"
    },
    {
     "name": "stderr",
     "output_type": "stream",
     "text": [
      "\n",
      "Epoch:  79%|███████▉  | 79/100 [08:54<02:18,  6.61s/it]\u001b[A"
     ]
    },
    {
     "name": "stdout",
     "output_type": "stream",
     "text": [
      "\n",
      "Loss history: [0.605769564708074, 0.4612632393836975, 0.3484412282705307, 0.29717086255550385, 0.26731228331724805, 0.24957897265752158, 0.2357658992211024, 0.22482032080491385, 0.21327275782823563, 0.20361091196537018, 0.19357392440239587, 0.18363535155852637, 0.1735388288895289, 0.1645234872897466, 0.15794453273216882, 0.1493313138683637, 0.1438723181684812, 0.14142207925518355, 0.13510849823554358, 0.13173267617821693, 0.1275815355281035, 0.1236833209792773, 0.12003363420565923, 0.11891685674587886, 0.11540696894129117, 0.11576371019085248, 0.1132194995880127, 0.10920468717813492, 0.10964834193388621, 0.10718649377425511, 0.10522439082463582, 0.10399086276690166, 0.10198018079002698, 0.10100916276375453, 0.09902210161089897, 0.0992783469458421, 0.09752156212925911, 0.09848614285389583, 0.09702384720245998, 0.09578496466080348, 0.09599502260486285, 0.09521357342600822, 0.09541725864013036, 0.09348195667068164, 0.09311617724597454, 0.09050437373419602, 0.09073082854350407, 0.09055501222610474, 0.09067646538217862, 0.08953460057576497, 0.08981323863069217, 0.08992415914932887, 0.089390038823088, 0.09001482898990314, 0.08914784714579582, 0.09138274379074574, 0.08793284744024277, 0.08722768289347489, 0.08846223105986913, 0.08698975294828415, 0.08692839245001475, 0.0873997441182534, 0.08589086246987183, 0.08542688998083274, 0.0874154797444741, 0.08697645304103692, 0.08651676774024963, 0.08624004448453586, 0.08505323529243469, 0.0858163945376873, 0.08634829645355542, 0.08575118457277615, 0.0846887764831384, 0.08392142814894517, 0.08539443276822567, 0.0857292686899503, 0.0848484318703413, 0.08350631532569726]\n",
      "Dev loss: 0.08564685347179572\n"
     ]
    },
    {
     "data": {
      "application/vnd.jupyter.widget-view+json": {
       "model_id": "63192ab2dfef4ae5987ec2e50906951c",
       "version_major": 2,
       "version_minor": 0
      },
      "text/plain": [
       "HBox(children=(IntProgress(value=0, description='Training iteration', max=29, style=ProgressStyle(description_…"
      ]
     },
     "metadata": {},
     "output_type": "display_data"
    },
    {
     "name": "stdout",
     "output_type": "stream",
     "text": [
      "\n"
     ]
    },
    {
     "data": {
      "application/vnd.jupyter.widget-view+json": {
       "model_id": "edef692cfa57478bbbbfd92a0db55090",
       "version_major": 2,
       "version_minor": 0
      },
      "text/plain": [
       "HBox(children=(IntProgress(value=0, description='Evaluation iteration', max=6, style=ProgressStyle(description…"
      ]
     },
     "metadata": {},
     "output_type": "display_data"
    },
    {
     "name": "stderr",
     "output_type": "stream",
     "text": [
      "\n",
      "Epoch:  80%|████████  | 80/100 [09:01<02:11,  6.56s/it]\u001b[A"
     ]
    },
    {
     "name": "stdout",
     "output_type": "stream",
     "text": [
      "\n",
      "Loss history: [0.605769564708074, 0.4612632393836975, 0.3484412282705307, 0.29717086255550385, 0.26731228331724805, 0.24957897265752158, 0.2357658992211024, 0.22482032080491385, 0.21327275782823563, 0.20361091196537018, 0.19357392440239587, 0.18363535155852637, 0.1735388288895289, 0.1645234872897466, 0.15794453273216882, 0.1493313138683637, 0.1438723181684812, 0.14142207925518355, 0.13510849823554358, 0.13173267617821693, 0.1275815355281035, 0.1236833209792773, 0.12003363420565923, 0.11891685674587886, 0.11540696894129117, 0.11576371019085248, 0.1132194995880127, 0.10920468717813492, 0.10964834193388621, 0.10718649377425511, 0.10522439082463582, 0.10399086276690166, 0.10198018079002698, 0.10100916276375453, 0.09902210161089897, 0.0992783469458421, 0.09752156212925911, 0.09848614285389583, 0.09702384720245998, 0.09578496466080348, 0.09599502260486285, 0.09521357342600822, 0.09541725864013036, 0.09348195667068164, 0.09311617724597454, 0.09050437373419602, 0.09073082854350407, 0.09055501222610474, 0.09067646538217862, 0.08953460057576497, 0.08981323863069217, 0.08992415914932887, 0.089390038823088, 0.09001482898990314, 0.08914784714579582, 0.09138274379074574, 0.08793284744024277, 0.08722768289347489, 0.08846223105986913, 0.08698975294828415, 0.08692839245001475, 0.0873997441182534, 0.08589086246987183, 0.08542688998083274, 0.0874154797444741, 0.08697645304103692, 0.08651676774024963, 0.08624004448453586, 0.08505323529243469, 0.0858163945376873, 0.08634829645355542, 0.08575118457277615, 0.0846887764831384, 0.08392142814894517, 0.08539443276822567, 0.0857292686899503, 0.0848484318703413, 0.08350631532569726, 0.08564685347179572]\n",
      "Dev loss: 0.08479379427929719\n"
     ]
    },
    {
     "data": {
      "application/vnd.jupyter.widget-view+json": {
       "model_id": "175f0dd8c2834c298df04632dae324cd",
       "version_major": 2,
       "version_minor": 0
      },
      "text/plain": [
       "HBox(children=(IntProgress(value=0, description='Training iteration', max=29, style=ProgressStyle(description_…"
      ]
     },
     "metadata": {},
     "output_type": "display_data"
    },
    {
     "name": "stdout",
     "output_type": "stream",
     "text": [
      "\n"
     ]
    },
    {
     "data": {
      "application/vnd.jupyter.widget-view+json": {
       "model_id": "5c9bcb58903445c0bcf2ccacad45bc23",
       "version_major": 2,
       "version_minor": 0
      },
      "text/plain": [
       "HBox(children=(IntProgress(value=0, description='Evaluation iteration', max=6, style=ProgressStyle(description…"
      ]
     },
     "metadata": {},
     "output_type": "display_data"
    },
    {
     "name": "stderr",
     "output_type": "stream",
     "text": [
      "\n",
      "Epoch:  81%|████████  | 81/100 [09:07<02:04,  6.53s/it]\u001b[A"
     ]
    },
    {
     "name": "stdout",
     "output_type": "stream",
     "text": [
      "\n",
      "Loss history: [0.605769564708074, 0.4612632393836975, 0.3484412282705307, 0.29717086255550385, 0.26731228331724805, 0.24957897265752158, 0.2357658992211024, 0.22482032080491385, 0.21327275782823563, 0.20361091196537018, 0.19357392440239587, 0.18363535155852637, 0.1735388288895289, 0.1645234872897466, 0.15794453273216882, 0.1493313138683637, 0.1438723181684812, 0.14142207925518355, 0.13510849823554358, 0.13173267617821693, 0.1275815355281035, 0.1236833209792773, 0.12003363420565923, 0.11891685674587886, 0.11540696894129117, 0.11576371019085248, 0.1132194995880127, 0.10920468717813492, 0.10964834193388621, 0.10718649377425511, 0.10522439082463582, 0.10399086276690166, 0.10198018079002698, 0.10100916276375453, 0.09902210161089897, 0.0992783469458421, 0.09752156212925911, 0.09848614285389583, 0.09702384720245998, 0.09578496466080348, 0.09599502260486285, 0.09521357342600822, 0.09541725864013036, 0.09348195667068164, 0.09311617724597454, 0.09050437373419602, 0.09073082854350407, 0.09055501222610474, 0.09067646538217862, 0.08953460057576497, 0.08981323863069217, 0.08992415914932887, 0.089390038823088, 0.09001482898990314, 0.08914784714579582, 0.09138274379074574, 0.08793284744024277, 0.08722768289347489, 0.08846223105986913, 0.08698975294828415, 0.08692839245001475, 0.0873997441182534, 0.08589086246987183, 0.08542688998083274, 0.0874154797444741, 0.08697645304103692, 0.08651676774024963, 0.08624004448453586, 0.08505323529243469, 0.0858163945376873, 0.08634829645355542, 0.08575118457277615, 0.0846887764831384, 0.08392142814894517, 0.08539443276822567, 0.0857292686899503, 0.0848484318703413, 0.08350631532569726, 0.08564685347179572, 0.08479379427929719]\n",
      "Dev loss: 0.08581495905915897\n"
     ]
    },
    {
     "data": {
      "application/vnd.jupyter.widget-view+json": {
       "model_id": "db56daa64e2440c88023cc0a63b63411",
       "version_major": 2,
       "version_minor": 0
      },
      "text/plain": [
       "HBox(children=(IntProgress(value=0, description='Training iteration', max=29, style=ProgressStyle(description_…"
      ]
     },
     "metadata": {},
     "output_type": "display_data"
    },
    {
     "name": "stdout",
     "output_type": "stream",
     "text": [
      "\n"
     ]
    },
    {
     "data": {
      "application/vnd.jupyter.widget-view+json": {
       "model_id": "0e9c3312e8694e08a0f87317ee2ec787",
       "version_major": 2,
       "version_minor": 0
      },
      "text/plain": [
       "HBox(children=(IntProgress(value=0, description='Evaluation iteration', max=6, style=ProgressStyle(description…"
      ]
     },
     "metadata": {},
     "output_type": "display_data"
    },
    {
     "name": "stderr",
     "output_type": "stream",
     "text": [
      "\n",
      "Epoch:  82%|████████▏ | 82/100 [09:13<01:57,  6.51s/it]\u001b[A"
     ]
    },
    {
     "name": "stdout",
     "output_type": "stream",
     "text": [
      "\n",
      "Loss history: [0.605769564708074, 0.4612632393836975, 0.3484412282705307, 0.29717086255550385, 0.26731228331724805, 0.24957897265752158, 0.2357658992211024, 0.22482032080491385, 0.21327275782823563, 0.20361091196537018, 0.19357392440239587, 0.18363535155852637, 0.1735388288895289, 0.1645234872897466, 0.15794453273216882, 0.1493313138683637, 0.1438723181684812, 0.14142207925518355, 0.13510849823554358, 0.13173267617821693, 0.1275815355281035, 0.1236833209792773, 0.12003363420565923, 0.11891685674587886, 0.11540696894129117, 0.11576371019085248, 0.1132194995880127, 0.10920468717813492, 0.10964834193388621, 0.10718649377425511, 0.10522439082463582, 0.10399086276690166, 0.10198018079002698, 0.10100916276375453, 0.09902210161089897, 0.0992783469458421, 0.09752156212925911, 0.09848614285389583, 0.09702384720245998, 0.09578496466080348, 0.09599502260486285, 0.09521357342600822, 0.09541725864013036, 0.09348195667068164, 0.09311617724597454, 0.09050437373419602, 0.09073082854350407, 0.09055501222610474, 0.09067646538217862, 0.08953460057576497, 0.08981323863069217, 0.08992415914932887, 0.089390038823088, 0.09001482898990314, 0.08914784714579582, 0.09138274379074574, 0.08793284744024277, 0.08722768289347489, 0.08846223105986913, 0.08698975294828415, 0.08692839245001475, 0.0873997441182534, 0.08589086246987183, 0.08542688998083274, 0.0874154797444741, 0.08697645304103692, 0.08651676774024963, 0.08624004448453586, 0.08505323529243469, 0.0858163945376873, 0.08634829645355542, 0.08575118457277615, 0.0846887764831384, 0.08392142814894517, 0.08539443276822567, 0.0857292686899503, 0.0848484318703413, 0.08350631532569726, 0.08564685347179572, 0.08479379427929719, 0.08581495905915897]\n",
      "Dev loss: 0.08425986083845298\n"
     ]
    },
    {
     "data": {
      "application/vnd.jupyter.widget-view+json": {
       "model_id": "1660ead198ff4165b940580a2404e803",
       "version_major": 2,
       "version_minor": 0
      },
      "text/plain": [
       "HBox(children=(IntProgress(value=0, description='Training iteration', max=29, style=ProgressStyle(description_…"
      ]
     },
     "metadata": {},
     "output_type": "display_data"
    },
    {
     "name": "stdout",
     "output_type": "stream",
     "text": [
      "\n"
     ]
    },
    {
     "data": {
      "application/vnd.jupyter.widget-view+json": {
       "model_id": "25ffed4989104885bd17df206d5dd364",
       "version_major": 2,
       "version_minor": 0
      },
      "text/plain": [
       "HBox(children=(IntProgress(value=0, description='Evaluation iteration', max=6, style=ProgressStyle(description…"
      ]
     },
     "metadata": {},
     "output_type": "display_data"
    },
    {
     "name": "stdout",
     "output_type": "stream",
     "text": [
      "\n",
      "Loss history: [0.605769564708074, 0.4612632393836975, 0.3484412282705307, 0.29717086255550385, 0.26731228331724805, 0.24957897265752158, 0.2357658992211024, 0.22482032080491385, 0.21327275782823563, 0.20361091196537018, 0.19357392440239587, 0.18363535155852637, 0.1735388288895289, 0.1645234872897466, 0.15794453273216882, 0.1493313138683637, 0.1438723181684812, 0.14142207925518355, 0.13510849823554358, 0.13173267617821693, 0.1275815355281035, 0.1236833209792773, 0.12003363420565923, 0.11891685674587886, 0.11540696894129117, 0.11576371019085248, 0.1132194995880127, 0.10920468717813492, 0.10964834193388621, 0.10718649377425511, 0.10522439082463582, 0.10399086276690166, 0.10198018079002698, 0.10100916276375453, 0.09902210161089897, 0.0992783469458421, 0.09752156212925911, 0.09848614285389583, 0.09702384720245998, 0.09578496466080348, 0.09599502260486285, 0.09521357342600822, 0.09541725864013036, 0.09348195667068164, 0.09311617724597454, 0.09050437373419602, 0.09073082854350407, 0.09055501222610474, 0.09067646538217862, 0.08953460057576497, 0.08981323863069217, 0.08992415914932887, 0.089390038823088, 0.09001482898990314, 0.08914784714579582, 0.09138274379074574, 0.08793284744024277, 0.08722768289347489, 0.08846223105986913, 0.08698975294828415, 0.08692839245001475, 0.0873997441182534, 0.08589086246987183, 0.08542688998083274, 0.0874154797444741, 0.08697645304103692, 0.08651676774024963, 0.08624004448453586, 0.08505323529243469, 0.0858163945376873, 0.08634829645355542, 0.08575118457277615, 0.0846887764831384, 0.08392142814894517, 0.08539443276822567, 0.0857292686899503, 0.0848484318703413, 0.08350631532569726, 0.08564685347179572, 0.08479379427929719, 0.08581495905915897, 0.08425986083845298]\n",
      "Dev loss: 0.08622757097085317\n",
      "No improvement on development set. Finish training.\n",
      "Loading model from /tmp/model.bin\n"
     ]
    },
    {
     "name": "stderr",
     "output_type": "stream",
     "text": [
      "I0404 19:16:31.096741 140043817379648 configuration_utils.py:256] loading configuration file https://s3.amazonaws.com/models.huggingface.co/bert/bert-base-uncased-config.json from cache at /home/yves/.cache/torch/transformers/4dad0251492946e18ac39290fcfe91b89d370fee250efe9521476438fe8ca185.8f56353af4a709bf5ff0fbc915d8f5b42bfff892cbb6ac98c3c45f481a03c685\n",
      "I0404 19:16:31.097923 140043817379648 configuration_utils.py:292] Model config BertConfig {\n",
      "  \"architectures\": [\n",
      "    \"BertForMaskedLM\"\n",
      "  ],\n",
      "  \"attention_probs_dropout_prob\": 0.1,\n",
      "  \"bos_token_id\": null,\n",
      "  \"do_sample\": false,\n",
      "  \"eos_token_ids\": null,\n",
      "  \"finetuning_task\": null,\n",
      "  \"hidden_act\": \"gelu\",\n",
      "  \"hidden_dropout_prob\": 0.1,\n",
      "  \"hidden_size\": 768,\n",
      "  \"id2label\": {\n",
      "    \"0\": \"LABEL_0\",\n",
      "    \"1\": \"LABEL_1\"\n",
      "  },\n",
      "  \"initializer_range\": 0.02,\n",
      "  \"intermediate_size\": 3072,\n",
      "  \"is_decoder\": false,\n",
      "  \"label2id\": {\n",
      "    \"LABEL_0\": 0,\n",
      "    \"LABEL_1\": 1\n",
      "  },\n",
      "  \"layer_norm_eps\": 1e-12,\n",
      "  \"length_penalty\": 1.0,\n",
      "  \"max_length\": 20,\n",
      "  \"max_position_embeddings\": 512,\n",
      "  \"model_type\": \"bert\",\n",
      "  \"num_attention_heads\": 12,\n",
      "  \"num_beams\": 1,\n",
      "  \"num_hidden_layers\": 12,\n",
      "  \"num_labels\": 16,\n",
      "  \"num_return_sequences\": 1,\n",
      "  \"output_attentions\": false,\n",
      "  \"output_hidden_states\": false,\n",
      "  \"output_past\": true,\n",
      "  \"pad_token_id\": null,\n",
      "  \"pruned_heads\": {},\n",
      "  \"repetition_penalty\": 1.0,\n",
      "  \"temperature\": 1.0,\n",
      "  \"top_k\": 50,\n",
      "  \"top_p\": 1.0,\n",
      "  \"torchscript\": false,\n",
      "  \"type_vocab_size\": 2,\n",
      "  \"use_bfloat16\": false,\n",
      "  \"vocab_size\": 30522\n",
      "}\n",
      "\n",
      "I0404 19:16:31.562961 140043817379648 modeling_utils.py:461] loading weights file https://s3.amazonaws.com/models.huggingface.co/bert/bert-base-uncased-pytorch_model.bin from cache at /home/yves/.cache/torch/transformers/aa1ef1aede4482d0dbcd4d52baad8ae300e60902e88fcb0bebdec09afd232066.36ca03ab34a1a5d5fa7bc3d03d55c4fa650fed07220e2eeebc06ce58d0e9a157\n"
     ]
    },
    {
     "data": {
      "application/vnd.jupyter.widget-view+json": {
       "model_id": "ae2c05c961ce47f4bab98cfe36fbade9",
       "version_major": 2,
       "version_minor": 0
      },
      "text/plain": [
       "HBox(children=(IntProgress(value=0, description='Evaluation iteration', max=9, style=ProgressStyle(description…"
      ]
     },
     "metadata": {},
     "output_type": "display_data"
    },
    {
     "name": "stdout",
     "output_type": "stream",
     "text": [
      "\n",
      "Data size: 138\n",
      "P: 118 / 136 = 0.8676470588235294\n",
      "R: 118 / 155 = 0.7612903225806451\n",
      "F: 0.8109965635738832\n",
      "A: 0.7246376811594203\n",
      "AL1: 0.782608695652174\n",
      "Train size: 461\n",
      "Final train dataloader length: 29\n"
     ]
    },
    {
     "name": "stderr",
     "output_type": "stream",
     "text": [
      "I0404 19:16:36.810857 140043817379648 configuration_utils.py:256] loading configuration file https://s3.amazonaws.com/models.huggingface.co/bert/bert-base-uncased-config.json from cache at /home/yves/.cache/torch/transformers/4dad0251492946e18ac39290fcfe91b89d370fee250efe9521476438fe8ca185.8f56353af4a709bf5ff0fbc915d8f5b42bfff892cbb6ac98c3c45f481a03c685\n",
      "I0404 19:16:36.812008 140043817379648 configuration_utils.py:292] Model config BertConfig {\n",
      "  \"architectures\": [\n",
      "    \"BertForMaskedLM\"\n",
      "  ],\n",
      "  \"attention_probs_dropout_prob\": 0.1,\n",
      "  \"bos_token_id\": null,\n",
      "  \"do_sample\": false,\n",
      "  \"eos_token_ids\": null,\n",
      "  \"finetuning_task\": null,\n",
      "  \"hidden_act\": \"gelu\",\n",
      "  \"hidden_dropout_prob\": 0.1,\n",
      "  \"hidden_size\": 768,\n",
      "  \"id2label\": {\n",
      "    \"0\": \"LABEL_0\",\n",
      "    \"1\": \"LABEL_1\"\n",
      "  },\n",
      "  \"initializer_range\": 0.02,\n",
      "  \"intermediate_size\": 3072,\n",
      "  \"is_decoder\": false,\n",
      "  \"label2id\": {\n",
      "    \"LABEL_0\": 0,\n",
      "    \"LABEL_1\": 1\n",
      "  },\n",
      "  \"layer_norm_eps\": 1e-12,\n",
      "  \"length_penalty\": 1.0,\n",
      "  \"max_length\": 20,\n",
      "  \"max_position_embeddings\": 512,\n",
      "  \"model_type\": \"bert\",\n",
      "  \"num_attention_heads\": 12,\n",
      "  \"num_beams\": 1,\n",
      "  \"num_hidden_layers\": 12,\n",
      "  \"num_labels\": 16,\n",
      "  \"num_return_sequences\": 1,\n",
      "  \"output_attentions\": false,\n",
      "  \"output_hidden_states\": false,\n",
      "  \"output_past\": true,\n",
      "  \"pad_token_id\": null,\n",
      "  \"pruned_heads\": {},\n",
      "  \"repetition_penalty\": 1.0,\n",
      "  \"temperature\": 1.0,\n",
      "  \"top_k\": 50,\n",
      "  \"top_p\": 1.0,\n",
      "  \"torchscript\": false,\n",
      "  \"type_vocab_size\": 2,\n",
      "  \"use_bfloat16\": false,\n",
      "  \"vocab_size\": 30522\n",
      "}\n",
      "\n",
      "I0404 19:16:37.289031 140043817379648 modeling_utils.py:461] loading weights file https://s3.amazonaws.com/models.huggingface.co/bert/bert-base-uncased-pytorch_model.bin from cache at /home/yves/.cache/torch/transformers/aa1ef1aede4482d0dbcd4d52baad8ae300e60902e88fcb0bebdec09afd232066.36ca03ab34a1a5d5fa7bc3d03d55c4fa650fed07220e2eeebc06ce58d0e9a157\n",
      "I0404 19:16:38.849924 140043817379648 modeling_utils.py:546] Weights of BertForMultiLabelSequenceClassification not initialized from pretrained model: ['classifier.weight', 'classifier.bias']\n",
      "I0404 19:16:38.850894 140043817379648 modeling_utils.py:552] Weights from pretrained model not used in BertForMultiLabelSequenceClassification: ['cls.predictions.bias', 'cls.predictions.transform.dense.weight', 'cls.predictions.transform.dense.bias', 'cls.predictions.decoder.weight', 'cls.seq_relationship.weight', 'cls.seq_relationship.bias', 'cls.predictions.transform.LayerNorm.weight', 'cls.predictions.transform.LayerNorm.bias']\n",
      "\n",
      "\n",
      "Epoch:   0%|          | 0/100 [00:00<?, ?it/s]\u001b[A\u001b[A"
     ]
    },
    {
     "data": {
      "application/vnd.jupyter.widget-view+json": {
       "model_id": "9f378aa22a3b42f794dba2d3bed84ae1",
       "version_major": 2,
       "version_minor": 0
      },
      "text/plain": [
       "HBox(children=(IntProgress(value=0, description='Training iteration', max=29, style=ProgressStyle(description_…"
      ]
     },
     "metadata": {},
     "output_type": "display_data"
    },
    {
     "name": "stdout",
     "output_type": "stream",
     "text": [
      "\n"
     ]
    },
    {
     "data": {
      "application/vnd.jupyter.widget-view+json": {
       "model_id": "fbfd1a1e1cea4397a24aa25f97a886d0",
       "version_major": 2,
       "version_minor": 0
      },
      "text/plain": [
       "HBox(children=(IntProgress(value=0, description='Evaluation iteration', max=6, style=ProgressStyle(description…"
      ]
     },
     "metadata": {},
     "output_type": "display_data"
    },
    {
     "name": "stdout",
     "output_type": "stream",
     "text": [
      "\n",
      "Loss history: []\n",
      "Dev loss: 0.5897560318311056\n"
     ]
    },
    {
     "name": "stderr",
     "output_type": "stream",
     "text": [
      "\n",
      "\n",
      "Epoch:   1%|          | 1/100 [00:06<11:23,  6.90s/it]\u001b[A\u001b[A"
     ]
    },
    {
     "data": {
      "application/vnd.jupyter.widget-view+json": {
       "model_id": "f6eee95f9b164e77b4ff44f4ddb2c330",
       "version_major": 2,
       "version_minor": 0
      },
      "text/plain": [
       "HBox(children=(IntProgress(value=0, description='Training iteration', max=29, style=ProgressStyle(description_…"
      ]
     },
     "metadata": {},
     "output_type": "display_data"
    },
    {
     "name": "stdout",
     "output_type": "stream",
     "text": [
      "\n"
     ]
    },
    {
     "data": {
      "application/vnd.jupyter.widget-view+json": {
       "model_id": "ebaac5ceb45641adadd99f3ddc45cdd8",
       "version_major": 2,
       "version_minor": 0
      },
      "text/plain": [
       "HBox(children=(IntProgress(value=0, description='Evaluation iteration', max=6, style=ProgressStyle(description…"
      ]
     },
     "metadata": {},
     "output_type": "display_data"
    },
    {
     "name": "stdout",
     "output_type": "stream",
     "text": [
      "\n",
      "Loss history: [0.5897560318311056]\n",
      "Dev loss: 0.42438603440920514\n"
     ]
    },
    {
     "name": "stderr",
     "output_type": "stream",
     "text": [
      "\n",
      "\n",
      "Epoch:   2%|▏         | 2/100 [00:13<11:16,  6.90s/it]\u001b[A\u001b[A"
     ]
    },
    {
     "data": {
      "application/vnd.jupyter.widget-view+json": {
       "model_id": "93c819c89cd5483e96d6f861fe729a20",
       "version_major": 2,
       "version_minor": 0
      },
      "text/plain": [
       "HBox(children=(IntProgress(value=0, description='Training iteration', max=29, style=ProgressStyle(description_…"
      ]
     },
     "metadata": {},
     "output_type": "display_data"
    },
    {
     "name": "stdout",
     "output_type": "stream",
     "text": [
      "\n"
     ]
    },
    {
     "data": {
      "application/vnd.jupyter.widget-view+json": {
       "model_id": "8381cebecc9648b69d043beb97f40cf2",
       "version_major": 2,
       "version_minor": 0
      },
      "text/plain": [
       "HBox(children=(IntProgress(value=0, description='Evaluation iteration', max=6, style=ProgressStyle(description…"
      ]
     },
     "metadata": {},
     "output_type": "display_data"
    },
    {
     "name": "stdout",
     "output_type": "stream",
     "text": [
      "\n",
      "Loss history: [0.5897560318311056, 0.42438603440920514]\n",
      "Dev loss: 0.3408896128336589\n"
     ]
    },
    {
     "name": "stderr",
     "output_type": "stream",
     "text": [
      "\n",
      "\n",
      "Epoch:   3%|▎         | 3/100 [00:20<11:09,  6.90s/it]\u001b[A\u001b[A"
     ]
    },
    {
     "data": {
      "application/vnd.jupyter.widget-view+json": {
       "model_id": "e62e2760834646c1a638b816da32918a",
       "version_major": 2,
       "version_minor": 0
      },
      "text/plain": [
       "HBox(children=(IntProgress(value=0, description='Training iteration', max=29, style=ProgressStyle(description_…"
      ]
     },
     "metadata": {},
     "output_type": "display_data"
    },
    {
     "name": "stdout",
     "output_type": "stream",
     "text": [
      "\n"
     ]
    },
    {
     "data": {
      "application/vnd.jupyter.widget-view+json": {
       "model_id": "025cff1fa2ae436db58a4efe28fe655b",
       "version_major": 2,
       "version_minor": 0
      },
      "text/plain": [
       "HBox(children=(IntProgress(value=0, description='Evaluation iteration', max=6, style=ProgressStyle(description…"
      ]
     },
     "metadata": {},
     "output_type": "display_data"
    },
    {
     "name": "stdout",
     "output_type": "stream",
     "text": [
      "\n",
      "Loss history: [0.5897560318311056, 0.42438603440920514, 0.3408896128336589]\n",
      "Dev loss: 0.2958464175462723\n"
     ]
    },
    {
     "name": "stderr",
     "output_type": "stream",
     "text": [
      "\n",
      "\n",
      "Epoch:   4%|▍         | 4/100 [00:27<11:02,  6.91s/it]\u001b[A\u001b[A"
     ]
    },
    {
     "data": {
      "application/vnd.jupyter.widget-view+json": {
       "model_id": "8e6dc4c6a2f442e0b4332351d71797a3",
       "version_major": 2,
       "version_minor": 0
      },
      "text/plain": [
       "HBox(children=(IntProgress(value=0, description='Training iteration', max=29, style=ProgressStyle(description_…"
      ]
     },
     "metadata": {},
     "output_type": "display_data"
    },
    {
     "name": "stdout",
     "output_type": "stream",
     "text": [
      "\n"
     ]
    },
    {
     "data": {
      "application/vnd.jupyter.widget-view+json": {
       "model_id": "d2f5670dbabf455f960db8023573e332",
       "version_major": 2,
       "version_minor": 0
      },
      "text/plain": [
       "HBox(children=(IntProgress(value=0, description='Evaluation iteration', max=6, style=ProgressStyle(description…"
      ]
     },
     "metadata": {},
     "output_type": "display_data"
    },
    {
     "name": "stdout",
     "output_type": "stream",
     "text": [
      "\n",
      "Loss history: [0.5897560318311056, 0.42438603440920514, 0.3408896128336589, 0.2958464175462723]\n",
      "Dev loss: 0.2669556587934494\n"
     ]
    },
    {
     "name": "stderr",
     "output_type": "stream",
     "text": [
      "\n",
      "\n",
      "Epoch:   5%|▌         | 5/100 [00:34<10:56,  6.91s/it]\u001b[A\u001b[A"
     ]
    },
    {
     "data": {
      "application/vnd.jupyter.widget-view+json": {
       "model_id": "fbde7329ab6b4ff0afc7f25c6ab053d7",
       "version_major": 2,
       "version_minor": 0
      },
      "text/plain": [
       "HBox(children=(IntProgress(value=0, description='Training iteration', max=29, style=ProgressStyle(description_…"
      ]
     },
     "metadata": {},
     "output_type": "display_data"
    },
    {
     "name": "stdout",
     "output_type": "stream",
     "text": [
      "\n"
     ]
    },
    {
     "data": {
      "application/vnd.jupyter.widget-view+json": {
       "model_id": "4c6806ccd77a450281af7d98692bc18f",
       "version_major": 2,
       "version_minor": 0
      },
      "text/plain": [
       "HBox(children=(IntProgress(value=0, description='Evaluation iteration', max=6, style=ProgressStyle(description…"
      ]
     },
     "metadata": {},
     "output_type": "display_data"
    },
    {
     "name": "stdout",
     "output_type": "stream",
     "text": [
      "\n",
      "Loss history: [0.5897560318311056, 0.42438603440920514, 0.3408896128336589, 0.2958464175462723, 0.2669556587934494]\n",
      "Dev loss: 0.24936150014400482\n"
     ]
    },
    {
     "name": "stderr",
     "output_type": "stream",
     "text": [
      "\n",
      "\n",
      "Epoch:   6%|▌         | 6/100 [00:41<10:49,  6.91s/it]\u001b[A\u001b[A"
     ]
    },
    {
     "data": {
      "application/vnd.jupyter.widget-view+json": {
       "model_id": "1d10c5fb3a5f4036b312a96085e024b2",
       "version_major": 2,
       "version_minor": 0
      },
      "text/plain": [
       "HBox(children=(IntProgress(value=0, description='Training iteration', max=29, style=ProgressStyle(description_…"
      ]
     },
     "metadata": {},
     "output_type": "display_data"
    },
    {
     "name": "stdout",
     "output_type": "stream",
     "text": [
      "\n"
     ]
    },
    {
     "data": {
      "application/vnd.jupyter.widget-view+json": {
       "model_id": "be6f31c83a2f4c04a3554873686d255f",
       "version_major": 2,
       "version_minor": 0
      },
      "text/plain": [
       "HBox(children=(IntProgress(value=0, description='Evaluation iteration', max=6, style=ProgressStyle(description…"
      ]
     },
     "metadata": {},
     "output_type": "display_data"
    },
    {
     "name": "stdout",
     "output_type": "stream",
     "text": [
      "\n",
      "Loss history: [0.5897560318311056, 0.42438603440920514, 0.3408896128336589, 0.2958464175462723, 0.2669556587934494, 0.24936150014400482]\n",
      "Dev loss: 0.23706879963477454\n"
     ]
    },
    {
     "name": "stderr",
     "output_type": "stream",
     "text": [
      "\n",
      "\n",
      "Epoch:   7%|▋         | 7/100 [00:48<10:43,  6.91s/it]\u001b[A\u001b[A"
     ]
    },
    {
     "data": {
      "application/vnd.jupyter.widget-view+json": {
       "model_id": "983df820d39f4103811a96cb21d93f86",
       "version_major": 2,
       "version_minor": 0
      },
      "text/plain": [
       "HBox(children=(IntProgress(value=0, description='Training iteration', max=29, style=ProgressStyle(description_…"
      ]
     },
     "metadata": {},
     "output_type": "display_data"
    },
    {
     "name": "stdout",
     "output_type": "stream",
     "text": [
      "\n"
     ]
    },
    {
     "data": {
      "application/vnd.jupyter.widget-view+json": {
       "model_id": "47f83bd9e56f4187a3cfa979931c42ba",
       "version_major": 2,
       "version_minor": 0
      },
      "text/plain": [
       "HBox(children=(IntProgress(value=0, description='Evaluation iteration', max=6, style=ProgressStyle(description…"
      ]
     },
     "metadata": {},
     "output_type": "display_data"
    },
    {
     "name": "stdout",
     "output_type": "stream",
     "text": [
      "\n",
      "Loss history: [0.5897560318311056, 0.42438603440920514, 0.3408896128336589, 0.2958464175462723, 0.2669556587934494, 0.24936150014400482, 0.23706879963477454]\n",
      "Dev loss: 0.2241834501425425\n"
     ]
    },
    {
     "name": "stderr",
     "output_type": "stream",
     "text": [
      "\n",
      "\n",
      "Epoch:   8%|▊         | 8/100 [00:55<10:36,  6.92s/it]\u001b[A\u001b[A"
     ]
    },
    {
     "data": {
      "application/vnd.jupyter.widget-view+json": {
       "model_id": "82ab6eafe29148328928e16e4e6db7f9",
       "version_major": 2,
       "version_minor": 0
      },
      "text/plain": [
       "HBox(children=(IntProgress(value=0, description='Training iteration', max=29, style=ProgressStyle(description_…"
      ]
     },
     "metadata": {},
     "output_type": "display_data"
    },
    {
     "name": "stdout",
     "output_type": "stream",
     "text": [
      "\n"
     ]
    },
    {
     "data": {
      "application/vnd.jupyter.widget-view+json": {
       "model_id": "99568d7cb8b4406c8dd1e563818362e5",
       "version_major": 2,
       "version_minor": 0
      },
      "text/plain": [
       "HBox(children=(IntProgress(value=0, description='Evaluation iteration', max=6, style=ProgressStyle(description…"
      ]
     },
     "metadata": {},
     "output_type": "display_data"
    },
    {
     "name": "stdout",
     "output_type": "stream",
     "text": [
      "\n",
      "Loss history: [0.5897560318311056, 0.42438603440920514, 0.3408896128336589, 0.2958464175462723, 0.2669556587934494, 0.24936150014400482, 0.23706879963477454, 0.2241834501425425]\n",
      "Dev loss: 0.20994778722524643\n"
     ]
    },
    {
     "name": "stderr",
     "output_type": "stream",
     "text": [
      "\n",
      "\n",
      "Epoch:   9%|▉         | 9/100 [01:02<10:29,  6.92s/it]\u001b[A\u001b[A"
     ]
    },
    {
     "data": {
      "application/vnd.jupyter.widget-view+json": {
       "model_id": "fbfa8995225849df825b2166b6b4a429",
       "version_major": 2,
       "version_minor": 0
      },
      "text/plain": [
       "HBox(children=(IntProgress(value=0, description='Training iteration', max=29, style=ProgressStyle(description_…"
      ]
     },
     "metadata": {},
     "output_type": "display_data"
    },
    {
     "name": "stdout",
     "output_type": "stream",
     "text": [
      "\n"
     ]
    },
    {
     "data": {
      "application/vnd.jupyter.widget-view+json": {
       "model_id": "0263c63f682e4b9caa490fa0ce230614",
       "version_major": 2,
       "version_minor": 0
      },
      "text/plain": [
       "HBox(children=(IntProgress(value=0, description='Evaluation iteration', max=6, style=ProgressStyle(description…"
      ]
     },
     "metadata": {},
     "output_type": "display_data"
    },
    {
     "name": "stdout",
     "output_type": "stream",
     "text": [
      "\n",
      "Loss history: [0.5897560318311056, 0.42438603440920514, 0.3408896128336589, 0.2958464175462723, 0.2669556587934494, 0.24936150014400482, 0.23706879963477454, 0.2241834501425425, 0.20994778722524643]\n",
      "Dev loss: 0.1965125153462092\n"
     ]
    },
    {
     "name": "stderr",
     "output_type": "stream",
     "text": [
      "\n",
      "\n",
      "Epoch:  10%|█         | 10/100 [01:09<10:22,  6.92s/it]\u001b[A\u001b[A"
     ]
    },
    {
     "data": {
      "application/vnd.jupyter.widget-view+json": {
       "model_id": "a6836ba4ad454e2294bd761a4abe87af",
       "version_major": 2,
       "version_minor": 0
      },
      "text/plain": [
       "HBox(children=(IntProgress(value=0, description='Training iteration', max=29, style=ProgressStyle(description_…"
      ]
     },
     "metadata": {},
     "output_type": "display_data"
    },
    {
     "name": "stdout",
     "output_type": "stream",
     "text": [
      "\n"
     ]
    },
    {
     "data": {
      "application/vnd.jupyter.widget-view+json": {
       "model_id": "93c33260c00a46ab9c09222e6d38d472",
       "version_major": 2,
       "version_minor": 0
      },
      "text/plain": [
       "HBox(children=(IntProgress(value=0, description='Evaluation iteration', max=6, style=ProgressStyle(description…"
      ]
     },
     "metadata": {},
     "output_type": "display_data"
    },
    {
     "name": "stdout",
     "output_type": "stream",
     "text": [
      "\n",
      "Loss history: [0.5897560318311056, 0.42438603440920514, 0.3408896128336589, 0.2958464175462723, 0.2669556587934494, 0.24936150014400482, 0.23706879963477454, 0.2241834501425425, 0.20994778722524643, 0.1965125153462092]\n",
      "Dev loss: 0.18459401031335196\n"
     ]
    },
    {
     "name": "stderr",
     "output_type": "stream",
     "text": [
      "\n",
      "\n",
      "Epoch:  11%|█         | 11/100 [01:16<10:15,  6.92s/it]\u001b[A\u001b[A"
     ]
    },
    {
     "data": {
      "application/vnd.jupyter.widget-view+json": {
       "model_id": "88bc5113e0cd4218ba64790d32d97e24",
       "version_major": 2,
       "version_minor": 0
      },
      "text/plain": [
       "HBox(children=(IntProgress(value=0, description='Training iteration', max=29, style=ProgressStyle(description_…"
      ]
     },
     "metadata": {},
     "output_type": "display_data"
    },
    {
     "name": "stdout",
     "output_type": "stream",
     "text": [
      "\n"
     ]
    },
    {
     "data": {
      "application/vnd.jupyter.widget-view+json": {
       "model_id": "ae40e3c89b6b46f1afef0b9f5e45df75",
       "version_major": 2,
       "version_minor": 0
      },
      "text/plain": [
       "HBox(children=(IntProgress(value=0, description='Evaluation iteration', max=6, style=ProgressStyle(description…"
      ]
     },
     "metadata": {},
     "output_type": "display_data"
    },
    {
     "name": "stdout",
     "output_type": "stream",
     "text": [
      "\n",
      "Loss history: [0.5897560318311056, 0.42438603440920514, 0.3408896128336589, 0.2958464175462723, 0.2669556587934494, 0.24936150014400482, 0.23706879963477454, 0.2241834501425425, 0.20994778722524643, 0.1965125153462092, 0.18459401031335196]\n",
      "Dev loss: 0.17228167752424875\n"
     ]
    },
    {
     "name": "stderr",
     "output_type": "stream",
     "text": [
      "\n",
      "\n",
      "Epoch:  12%|█▏        | 12/100 [01:22<10:08,  6.92s/it]\u001b[A\u001b[A"
     ]
    },
    {
     "data": {
      "application/vnd.jupyter.widget-view+json": {
       "model_id": "98864d633ec04dcfa82e37662aad35b4",
       "version_major": 2,
       "version_minor": 0
      },
      "text/plain": [
       "HBox(children=(IntProgress(value=0, description='Training iteration', max=29, style=ProgressStyle(description_…"
      ]
     },
     "metadata": {},
     "output_type": "display_data"
    },
    {
     "name": "stdout",
     "output_type": "stream",
     "text": [
      "\n"
     ]
    },
    {
     "data": {
      "application/vnd.jupyter.widget-view+json": {
       "model_id": "7110cbf8fcb240e0b67792e1da0f592b",
       "version_major": 2,
       "version_minor": 0
      },
      "text/plain": [
       "HBox(children=(IntProgress(value=0, description='Evaluation iteration', max=6, style=ProgressStyle(description…"
      ]
     },
     "metadata": {},
     "output_type": "display_data"
    },
    {
     "name": "stdout",
     "output_type": "stream",
     "text": [
      "\n",
      "Loss history: [0.5897560318311056, 0.42438603440920514, 0.3408896128336589, 0.2958464175462723, 0.2669556587934494, 0.24936150014400482, 0.23706879963477454, 0.2241834501425425, 0.20994778722524643, 0.1965125153462092, 0.18459401031335196, 0.17228167752424875]\n",
      "Dev loss: 0.1610290432969729\n"
     ]
    },
    {
     "name": "stderr",
     "output_type": "stream",
     "text": [
      "\n",
      "\n",
      "Epoch:  13%|█▎        | 13/100 [01:29<10:01,  6.92s/it]\u001b[A\u001b[A"
     ]
    },
    {
     "data": {
      "application/vnd.jupyter.widget-view+json": {
       "model_id": "b3cb0d6b21244d538f396b063f60ec20",
       "version_major": 2,
       "version_minor": 0
      },
      "text/plain": [
       "HBox(children=(IntProgress(value=0, description='Training iteration', max=29, style=ProgressStyle(description_…"
      ]
     },
     "metadata": {},
     "output_type": "display_data"
    },
    {
     "name": "stdout",
     "output_type": "stream",
     "text": [
      "\n"
     ]
    },
    {
     "data": {
      "application/vnd.jupyter.widget-view+json": {
       "model_id": "8233e5def531447a88a602ec9ee32d3d",
       "version_major": 2,
       "version_minor": 0
      },
      "text/plain": [
       "HBox(children=(IntProgress(value=0, description='Evaluation iteration', max=6, style=ProgressStyle(description…"
      ]
     },
     "metadata": {},
     "output_type": "display_data"
    },
    {
     "name": "stdout",
     "output_type": "stream",
     "text": [
      "\n",
      "Loss history: [0.5897560318311056, 0.42438603440920514, 0.3408896128336589, 0.2958464175462723, 0.2669556587934494, 0.24936150014400482, 0.23706879963477454, 0.2241834501425425, 0.20994778722524643, 0.1965125153462092, 0.18459401031335196, 0.17228167752424875, 0.1610290432969729]\n",
      "Dev loss: 0.15713689724604288\n"
     ]
    },
    {
     "name": "stderr",
     "output_type": "stream",
     "text": [
      "\n",
      "\n",
      "Epoch:  14%|█▍        | 14/100 [01:36<09:54,  6.91s/it]\u001b[A\u001b[A"
     ]
    },
    {
     "data": {
      "application/vnd.jupyter.widget-view+json": {
       "model_id": "d8b069a09ccf4d1eb5909ae15265ca9e",
       "version_major": 2,
       "version_minor": 0
      },
      "text/plain": [
       "HBox(children=(IntProgress(value=0, description='Training iteration', max=29, style=ProgressStyle(description_…"
      ]
     },
     "metadata": {},
     "output_type": "display_data"
    },
    {
     "name": "stdout",
     "output_type": "stream",
     "text": [
      "\n"
     ]
    },
    {
     "data": {
      "application/vnd.jupyter.widget-view+json": {
       "model_id": "b62ee29ed5504e7c9e24eb6394ef3a30",
       "version_major": 2,
       "version_minor": 0
      },
      "text/plain": [
       "HBox(children=(IntProgress(value=0, description='Evaluation iteration', max=6, style=ProgressStyle(description…"
      ]
     },
     "metadata": {},
     "output_type": "display_data"
    },
    {
     "name": "stdout",
     "output_type": "stream",
     "text": [
      "\n",
      "Loss history: [0.5897560318311056, 0.42438603440920514, 0.3408896128336589, 0.2958464175462723, 0.2669556587934494, 0.24936150014400482, 0.23706879963477454, 0.2241834501425425, 0.20994778722524643, 0.1965125153462092, 0.18459401031335196, 0.17228167752424875, 0.1610290432969729, 0.15713689724604288]\n",
      "Dev loss: 0.1487144815425078\n"
     ]
    },
    {
     "name": "stderr",
     "output_type": "stream",
     "text": [
      "\n",
      "\n",
      "Epoch:  15%|█▌        | 15/100 [01:43<09:47,  6.91s/it]\u001b[A\u001b[A"
     ]
    },
    {
     "data": {
      "application/vnd.jupyter.widget-view+json": {
       "model_id": "3083b487a157476ca3d414a5f04f910a",
       "version_major": 2,
       "version_minor": 0
      },
      "text/plain": [
       "HBox(children=(IntProgress(value=0, description='Training iteration', max=29, style=ProgressStyle(description_…"
      ]
     },
     "metadata": {},
     "output_type": "display_data"
    },
    {
     "name": "stdout",
     "output_type": "stream",
     "text": [
      "\n"
     ]
    },
    {
     "data": {
      "application/vnd.jupyter.widget-view+json": {
       "model_id": "bf8a000b40ef486fb9dd08cf4e95e601",
       "version_major": 2,
       "version_minor": 0
      },
      "text/plain": [
       "HBox(children=(IntProgress(value=0, description='Evaluation iteration', max=6, style=ProgressStyle(description…"
      ]
     },
     "metadata": {},
     "output_type": "display_data"
    },
    {
     "name": "stdout",
     "output_type": "stream",
     "text": [
      "\n",
      "Loss history: [0.5897560318311056, 0.42438603440920514, 0.3408896128336589, 0.2958464175462723, 0.2669556587934494, 0.24936150014400482, 0.23706879963477454, 0.2241834501425425, 0.20994778722524643, 0.1965125153462092, 0.18459401031335196, 0.17228167752424875, 0.1610290432969729, 0.15713689724604288, 0.1487144815425078]\n",
      "Dev loss: 0.14096936086813608\n"
     ]
    },
    {
     "name": "stderr",
     "output_type": "stream",
     "text": [
      "\n",
      "\n",
      "Epoch:  16%|█▌        | 16/100 [01:50<09:40,  6.92s/it]\u001b[A\u001b[A"
     ]
    },
    {
     "data": {
      "application/vnd.jupyter.widget-view+json": {
       "model_id": "bb2616de6d764b3a887f83537853895c",
       "version_major": 2,
       "version_minor": 0
      },
      "text/plain": [
       "HBox(children=(IntProgress(value=0, description='Training iteration', max=29, style=ProgressStyle(description_…"
      ]
     },
     "metadata": {},
     "output_type": "display_data"
    },
    {
     "name": "stdout",
     "output_type": "stream",
     "text": [
      "\n"
     ]
    },
    {
     "data": {
      "application/vnd.jupyter.widget-view+json": {
       "model_id": "6b8fdb953a2c4305ae9bb2239301ad7f",
       "version_major": 2,
       "version_minor": 0
      },
      "text/plain": [
       "HBox(children=(IntProgress(value=0, description='Evaluation iteration', max=6, style=ProgressStyle(description…"
      ]
     },
     "metadata": {},
     "output_type": "display_data"
    },
    {
     "name": "stdout",
     "output_type": "stream",
     "text": [
      "\n",
      "Loss history: [0.5897560318311056, 0.42438603440920514, 0.3408896128336589, 0.2958464175462723, 0.2669556587934494, 0.24936150014400482, 0.23706879963477454, 0.2241834501425425, 0.20994778722524643, 0.1965125153462092, 0.18459401031335196, 0.17228167752424875, 0.1610290432969729, 0.15713689724604288, 0.1487144815425078, 0.14096936086813608]\n",
      "Dev loss: 0.1378570074836413\n"
     ]
    },
    {
     "name": "stderr",
     "output_type": "stream",
     "text": [
      "\n",
      "\n",
      "Epoch:  17%|█▋        | 17/100 [01:57<09:34,  6.92s/it]\u001b[A\u001b[A"
     ]
    },
    {
     "data": {
      "application/vnd.jupyter.widget-view+json": {
       "model_id": "721da3f647bf401b89b73158167f6fab",
       "version_major": 2,
       "version_minor": 0
      },
      "text/plain": [
       "HBox(children=(IntProgress(value=0, description='Training iteration', max=29, style=ProgressStyle(description_…"
      ]
     },
     "metadata": {},
     "output_type": "display_data"
    },
    {
     "name": "stdout",
     "output_type": "stream",
     "text": [
      "\n"
     ]
    },
    {
     "data": {
      "application/vnd.jupyter.widget-view+json": {
       "model_id": "61e8764dfea64f498d8a0a2dbe6f2872",
       "version_major": 2,
       "version_minor": 0
      },
      "text/plain": [
       "HBox(children=(IntProgress(value=0, description='Evaluation iteration', max=6, style=ProgressStyle(description…"
      ]
     },
     "metadata": {},
     "output_type": "display_data"
    },
    {
     "name": "stdout",
     "output_type": "stream",
     "text": [
      "\n",
      "Loss history: [0.5897560318311056, 0.42438603440920514, 0.3408896128336589, 0.2958464175462723, 0.2669556587934494, 0.24936150014400482, 0.23706879963477454, 0.2241834501425425, 0.20994778722524643, 0.1965125153462092, 0.18459401031335196, 0.17228167752424875, 0.1610290432969729, 0.15713689724604288, 0.1487144815425078, 0.14096936086813608, 0.1378570074836413]\n",
      "Dev loss: 0.1331882749994596\n"
     ]
    },
    {
     "name": "stderr",
     "output_type": "stream",
     "text": [
      "\n",
      "\n",
      "Epoch:  18%|█▊        | 18/100 [02:04<09:27,  6.92s/it]\u001b[A\u001b[A"
     ]
    },
    {
     "data": {
      "application/vnd.jupyter.widget-view+json": {
       "model_id": "d3072f1a3501496f94cf46ac8ba6c146",
       "version_major": 2,
       "version_minor": 0
      },
      "text/plain": [
       "HBox(children=(IntProgress(value=0, description='Training iteration', max=29, style=ProgressStyle(description_…"
      ]
     },
     "metadata": {},
     "output_type": "display_data"
    },
    {
     "name": "stdout",
     "output_type": "stream",
     "text": [
      "\n"
     ]
    },
    {
     "data": {
      "application/vnd.jupyter.widget-view+json": {
       "model_id": "4f55fbb88599432fa37bb634ce453540",
       "version_major": 2,
       "version_minor": 0
      },
      "text/plain": [
       "HBox(children=(IntProgress(value=0, description='Evaluation iteration', max=6, style=ProgressStyle(description…"
      ]
     },
     "metadata": {},
     "output_type": "display_data"
    },
    {
     "name": "stdout",
     "output_type": "stream",
     "text": [
      "\n",
      "Loss history: [0.5897560318311056, 0.42438603440920514, 0.3408896128336589, 0.2958464175462723, 0.2669556587934494, 0.24936150014400482, 0.23706879963477454, 0.2241834501425425, 0.20994778722524643, 0.1965125153462092, 0.18459401031335196, 0.17228167752424875, 0.1610290432969729, 0.15713689724604288, 0.1487144815425078, 0.14096936086813608, 0.1378570074836413, 0.1331882749994596]\n",
      "Dev loss: 0.12955481062332788\n"
     ]
    },
    {
     "name": "stderr",
     "output_type": "stream",
     "text": [
      "\n",
      "\n",
      "Epoch:  19%|█▉        | 19/100 [02:11<09:20,  6.91s/it]\u001b[A\u001b[A"
     ]
    },
    {
     "data": {
      "application/vnd.jupyter.widget-view+json": {
       "model_id": "9073e149061a4ac39a3b679e08b57c4d",
       "version_major": 2,
       "version_minor": 0
      },
      "text/plain": [
       "HBox(children=(IntProgress(value=0, description='Training iteration', max=29, style=ProgressStyle(description_…"
      ]
     },
     "metadata": {},
     "output_type": "display_data"
    },
    {
     "name": "stdout",
     "output_type": "stream",
     "text": [
      "\n"
     ]
    },
    {
     "data": {
      "application/vnd.jupyter.widget-view+json": {
       "model_id": "01869ac173c64c9e9defef69778ff4df",
       "version_major": 2,
       "version_minor": 0
      },
      "text/plain": [
       "HBox(children=(IntProgress(value=0, description='Evaluation iteration', max=6, style=ProgressStyle(description…"
      ]
     },
     "metadata": {},
     "output_type": "display_data"
    },
    {
     "name": "stdout",
     "output_type": "stream",
     "text": [
      "\n",
      "Loss history: [0.5897560318311056, 0.42438603440920514, 0.3408896128336589, 0.2958464175462723, 0.2669556587934494, 0.24936150014400482, 0.23706879963477454, 0.2241834501425425, 0.20994778722524643, 0.1965125153462092, 0.18459401031335196, 0.17228167752424875, 0.1610290432969729, 0.15713689724604288, 0.1487144815425078, 0.14096936086813608, 0.1378570074836413, 0.1331882749994596, 0.12955481062332788]\n",
      "Dev loss: 0.12415460248788197\n"
     ]
    },
    {
     "name": "stderr",
     "output_type": "stream",
     "text": [
      "\n",
      "\n",
      "Epoch:  20%|██        | 20/100 [02:18<09:13,  6.92s/it]\u001b[A\u001b[A"
     ]
    },
    {
     "data": {
      "application/vnd.jupyter.widget-view+json": {
       "model_id": "82c90098de4048c499ff7792dc9c57c6",
       "version_major": 2,
       "version_minor": 0
      },
      "text/plain": [
       "HBox(children=(IntProgress(value=0, description='Training iteration', max=29, style=ProgressStyle(description_…"
      ]
     },
     "metadata": {},
     "output_type": "display_data"
    },
    {
     "name": "stdout",
     "output_type": "stream",
     "text": [
      "\n"
     ]
    },
    {
     "data": {
      "application/vnd.jupyter.widget-view+json": {
       "model_id": "cb6f8ab75f8440668d794835cb778b0c",
       "version_major": 2,
       "version_minor": 0
      },
      "text/plain": [
       "HBox(children=(IntProgress(value=0, description='Evaluation iteration', max=6, style=ProgressStyle(description…"
      ]
     },
     "metadata": {},
     "output_type": "display_data"
    },
    {
     "name": "stderr",
     "output_type": "stream",
     "text": [
      "\n",
      "\n",
      "Epoch:  21%|██        | 21/100 [02:24<08:55,  6.78s/it]\u001b[A\u001b[A"
     ]
    },
    {
     "name": "stdout",
     "output_type": "stream",
     "text": [
      "\n",
      "Loss history: [0.5897560318311056, 0.42438603440920514, 0.3408896128336589, 0.2958464175462723, 0.2669556587934494, 0.24936150014400482, 0.23706879963477454, 0.2241834501425425, 0.20994778722524643, 0.1965125153462092, 0.18459401031335196, 0.17228167752424875, 0.1610290432969729, 0.15713689724604288, 0.1487144815425078, 0.14096936086813608, 0.1378570074836413, 0.1331882749994596, 0.12955481062332788, 0.12415460248788197]\n",
      "Dev loss: 0.124529713143905\n"
     ]
    },
    {
     "data": {
      "application/vnd.jupyter.widget-view+json": {
       "model_id": "c62bc7feee0348b8a67fef7f3b44b9d9",
       "version_major": 2,
       "version_minor": 0
      },
      "text/plain": [
       "HBox(children=(IntProgress(value=0, description='Training iteration', max=29, style=ProgressStyle(description_…"
      ]
     },
     "metadata": {},
     "output_type": "display_data"
    },
    {
     "name": "stdout",
     "output_type": "stream",
     "text": [
      "\n"
     ]
    },
    {
     "data": {
      "application/vnd.jupyter.widget-view+json": {
       "model_id": "a998fbdcd6be4548bf074ef441b2ca0f",
       "version_major": 2,
       "version_minor": 0
      },
      "text/plain": [
       "HBox(children=(IntProgress(value=0, description='Evaluation iteration', max=6, style=ProgressStyle(description…"
      ]
     },
     "metadata": {},
     "output_type": "display_data"
    },
    {
     "name": "stdout",
     "output_type": "stream",
     "text": [
      "\n",
      "Loss history: [0.5897560318311056, 0.42438603440920514, 0.3408896128336589, 0.2958464175462723, 0.2669556587934494, 0.24936150014400482, 0.23706879963477454, 0.2241834501425425, 0.20994778722524643, 0.1965125153462092, 0.18459401031335196, 0.17228167752424875, 0.1610290432969729, 0.15713689724604288, 0.1487144815425078, 0.14096936086813608, 0.1378570074836413, 0.1331882749994596, 0.12955481062332788, 0.12415460248788197, 0.124529713143905]\n",
      "Dev loss: 0.12019181996583939\n"
     ]
    },
    {
     "name": "stderr",
     "output_type": "stream",
     "text": [
      "\n",
      "\n",
      "Epoch:  22%|██▏       | 22/100 [02:31<08:52,  6.82s/it]\u001b[A\u001b[A"
     ]
    },
    {
     "data": {
      "application/vnd.jupyter.widget-view+json": {
       "model_id": "40712f0dbf8846019c718e8a65710a6f",
       "version_major": 2,
       "version_minor": 0
      },
      "text/plain": [
       "HBox(children=(IntProgress(value=0, description='Training iteration', max=29, style=ProgressStyle(description_…"
      ]
     },
     "metadata": {},
     "output_type": "display_data"
    },
    {
     "name": "stdout",
     "output_type": "stream",
     "text": [
      "\n"
     ]
    },
    {
     "data": {
      "application/vnd.jupyter.widget-view+json": {
       "model_id": "49a16e9e8a6f47d09a6e664844ed994a",
       "version_major": 2,
       "version_minor": 0
      },
      "text/plain": [
       "HBox(children=(IntProgress(value=0, description='Evaluation iteration', max=6, style=ProgressStyle(description…"
      ]
     },
     "metadata": {},
     "output_type": "display_data"
    },
    {
     "name": "stdout",
     "output_type": "stream",
     "text": [
      "\n",
      "Loss history: [0.5897560318311056, 0.42438603440920514, 0.3408896128336589, 0.2958464175462723, 0.2669556587934494, 0.24936150014400482, 0.23706879963477454, 0.2241834501425425, 0.20994778722524643, 0.1965125153462092, 0.18459401031335196, 0.17228167752424875, 0.1610290432969729, 0.15713689724604288, 0.1487144815425078, 0.14096936086813608, 0.1378570074836413, 0.1331882749994596, 0.12955481062332788, 0.12415460248788197, 0.124529713143905, 0.12019181996583939]\n",
      "Dev loss: 0.1182880848646164\n"
     ]
    },
    {
     "name": "stderr",
     "output_type": "stream",
     "text": [
      "\n",
      "\n",
      "Epoch:  23%|██▎       | 23/100 [02:38<08:47,  6.85s/it]\u001b[A\u001b[A"
     ]
    },
    {
     "data": {
      "application/vnd.jupyter.widget-view+json": {
       "model_id": "3d9a60cbb3c44ff099e900cdc7eac49a",
       "version_major": 2,
       "version_minor": 0
      },
      "text/plain": [
       "HBox(children=(IntProgress(value=0, description='Training iteration', max=29, style=ProgressStyle(description_…"
      ]
     },
     "metadata": {},
     "output_type": "display_data"
    },
    {
     "name": "stdout",
     "output_type": "stream",
     "text": [
      "\n"
     ]
    },
    {
     "data": {
      "application/vnd.jupyter.widget-view+json": {
       "model_id": "ae109efdb0e84f309b1b9e2bd042f0f0",
       "version_major": 2,
       "version_minor": 0
      },
      "text/plain": [
       "HBox(children=(IntProgress(value=0, description='Evaluation iteration', max=6, style=ProgressStyle(description…"
      ]
     },
     "metadata": {},
     "output_type": "display_data"
    },
    {
     "name": "stdout",
     "output_type": "stream",
     "text": [
      "\n",
      "Loss history: [0.5897560318311056, 0.42438603440920514, 0.3408896128336589, 0.2958464175462723, 0.2669556587934494, 0.24936150014400482, 0.23706879963477454, 0.2241834501425425, 0.20994778722524643, 0.1965125153462092, 0.18459401031335196, 0.17228167752424875, 0.1610290432969729, 0.15713689724604288, 0.1487144815425078, 0.14096936086813608, 0.1378570074836413, 0.1331882749994596, 0.12955481062332788, 0.12415460248788197, 0.124529713143905, 0.12019181996583939, 0.1182880848646164]\n",
      "Dev loss: 0.11627718185385068\n"
     ]
    },
    {
     "name": "stderr",
     "output_type": "stream",
     "text": [
      "\n",
      "\n",
      "Epoch:  24%|██▍       | 24/100 [02:45<08:42,  6.87s/it]\u001b[A\u001b[A"
     ]
    },
    {
     "data": {
      "application/vnd.jupyter.widget-view+json": {
       "model_id": "e81a2299b2804a14b7474c4b860c2b24",
       "version_major": 2,
       "version_minor": 0
      },
      "text/plain": [
       "HBox(children=(IntProgress(value=0, description='Training iteration', max=29, style=ProgressStyle(description_…"
      ]
     },
     "metadata": {},
     "output_type": "display_data"
    },
    {
     "name": "stdout",
     "output_type": "stream",
     "text": [
      "\n"
     ]
    },
    {
     "data": {
      "application/vnd.jupyter.widget-view+json": {
       "model_id": "eab73bed1caa49cb9fd7711a038ff5b6",
       "version_major": 2,
       "version_minor": 0
      },
      "text/plain": [
       "HBox(children=(IntProgress(value=0, description='Evaluation iteration', max=6, style=ProgressStyle(description…"
      ]
     },
     "metadata": {},
     "output_type": "display_data"
    },
    {
     "name": "stdout",
     "output_type": "stream",
     "text": [
      "\n",
      "Loss history: [0.5897560318311056, 0.42438603440920514, 0.3408896128336589, 0.2958464175462723, 0.2669556587934494, 0.24936150014400482, 0.23706879963477454, 0.2241834501425425, 0.20994778722524643, 0.1965125153462092, 0.18459401031335196, 0.17228167752424875, 0.1610290432969729, 0.15713689724604288, 0.1487144815425078, 0.14096936086813608, 0.1378570074836413, 0.1331882749994596, 0.12955481062332788, 0.12415460248788197, 0.124529713143905, 0.12019181996583939, 0.1182880848646164, 0.11627718185385068]\n",
      "Dev loss: 0.11467846234639485\n"
     ]
    },
    {
     "name": "stderr",
     "output_type": "stream",
     "text": [
      "\n",
      "\n",
      "Epoch:  25%|██▌       | 25/100 [02:52<08:36,  6.89s/it]\u001b[A\u001b[A"
     ]
    },
    {
     "data": {
      "application/vnd.jupyter.widget-view+json": {
       "model_id": "89d7a3c196434882a2fb205539a14471",
       "version_major": 2,
       "version_minor": 0
      },
      "text/plain": [
       "HBox(children=(IntProgress(value=0, description='Training iteration', max=29, style=ProgressStyle(description_…"
      ]
     },
     "metadata": {},
     "output_type": "display_data"
    },
    {
     "name": "stdout",
     "output_type": "stream",
     "text": [
      "\n"
     ]
    },
    {
     "data": {
      "application/vnd.jupyter.widget-view+json": {
       "model_id": "8f2f80cc245246ac8f2d65167a4fc5e5",
       "version_major": 2,
       "version_minor": 0
      },
      "text/plain": [
       "HBox(children=(IntProgress(value=0, description='Evaluation iteration', max=6, style=ProgressStyle(description…"
      ]
     },
     "metadata": {},
     "output_type": "display_data"
    },
    {
     "name": "stdout",
     "output_type": "stream",
     "text": [
      "\n",
      "Loss history: [0.5897560318311056, 0.42438603440920514, 0.3408896128336589, 0.2958464175462723, 0.2669556587934494, 0.24936150014400482, 0.23706879963477454, 0.2241834501425425, 0.20994778722524643, 0.1965125153462092, 0.18459401031335196, 0.17228167752424875, 0.1610290432969729, 0.15713689724604288, 0.1487144815425078, 0.14096936086813608, 0.1378570074836413, 0.1331882749994596, 0.12955481062332788, 0.12415460248788197, 0.124529713143905, 0.12019181996583939, 0.1182880848646164, 0.11627718185385068, 0.11467846234639485]\n",
      "Dev loss: 0.11249915137887001\n"
     ]
    },
    {
     "name": "stderr",
     "output_type": "stream",
     "text": [
      "\n",
      "\n",
      "Epoch:  26%|██▌       | 26/100 [02:59<08:30,  6.90s/it]\u001b[A\u001b[A"
     ]
    },
    {
     "data": {
      "application/vnd.jupyter.widget-view+json": {
       "model_id": "2cfaeca4d4fd43d08d20ea4b31d6d9da",
       "version_major": 2,
       "version_minor": 0
      },
      "text/plain": [
       "HBox(children=(IntProgress(value=0, description='Training iteration', max=29, style=ProgressStyle(description_…"
      ]
     },
     "metadata": {},
     "output_type": "display_data"
    },
    {
     "name": "stdout",
     "output_type": "stream",
     "text": [
      "\n"
     ]
    },
    {
     "data": {
      "application/vnd.jupyter.widget-view+json": {
       "model_id": "0a35c1ca10074d7da8303521a7156ff7",
       "version_major": 2,
       "version_minor": 0
      },
      "text/plain": [
       "HBox(children=(IntProgress(value=0, description='Evaluation iteration', max=6, style=ProgressStyle(description…"
      ]
     },
     "metadata": {},
     "output_type": "display_data"
    },
    {
     "name": "stdout",
     "output_type": "stream",
     "text": [
      "\n",
      "Loss history: [0.5897560318311056, 0.42438603440920514, 0.3408896128336589, 0.2958464175462723, 0.2669556587934494, 0.24936150014400482, 0.23706879963477454, 0.2241834501425425, 0.20994778722524643, 0.1965125153462092, 0.18459401031335196, 0.17228167752424875, 0.1610290432969729, 0.15713689724604288, 0.1487144815425078, 0.14096936086813608, 0.1378570074836413, 0.1331882749994596, 0.12955481062332788, 0.12415460248788197, 0.124529713143905, 0.12019181996583939, 0.1182880848646164, 0.11627718185385068, 0.11467846234639485, 0.11249915137887001]\n",
      "Dev loss: 0.11126840859651566\n"
     ]
    },
    {
     "name": "stderr",
     "output_type": "stream",
     "text": [
      "\n",
      "\n",
      "Epoch:  27%|██▋       | 27/100 [03:06<08:23,  6.90s/it]\u001b[A\u001b[A"
     ]
    },
    {
     "data": {
      "application/vnd.jupyter.widget-view+json": {
       "model_id": "5ce6e3cc5116460885066dd899901b23",
       "version_major": 2,
       "version_minor": 0
      },
      "text/plain": [
       "HBox(children=(IntProgress(value=0, description='Training iteration', max=29, style=ProgressStyle(description_…"
      ]
     },
     "metadata": {},
     "output_type": "display_data"
    },
    {
     "name": "stdout",
     "output_type": "stream",
     "text": [
      "\n"
     ]
    },
    {
     "data": {
      "application/vnd.jupyter.widget-view+json": {
       "model_id": "1a9774a3b0594b5dafc0660d28b9e44d",
       "version_major": 2,
       "version_minor": 0
      },
      "text/plain": [
       "HBox(children=(IntProgress(value=0, description='Evaluation iteration', max=6, style=ProgressStyle(description…"
      ]
     },
     "metadata": {},
     "output_type": "display_data"
    },
    {
     "name": "stdout",
     "output_type": "stream",
     "text": [
      "\n",
      "Loss history: [0.5897560318311056, 0.42438603440920514, 0.3408896128336589, 0.2958464175462723, 0.2669556587934494, 0.24936150014400482, 0.23706879963477454, 0.2241834501425425, 0.20994778722524643, 0.1965125153462092, 0.18459401031335196, 0.17228167752424875, 0.1610290432969729, 0.15713689724604288, 0.1487144815425078, 0.14096936086813608, 0.1378570074836413, 0.1331882749994596, 0.12955481062332788, 0.12415460248788197, 0.124529713143905, 0.12019181996583939, 0.1182880848646164, 0.11627718185385068, 0.11467846234639485, 0.11249915137887001, 0.11126840859651566]\n",
      "Dev loss: 0.10758234187960625\n"
     ]
    },
    {
     "name": "stderr",
     "output_type": "stream",
     "text": [
      "\n",
      "\n",
      "Epoch:  28%|██▊       | 28/100 [03:13<08:17,  6.91s/it]\u001b[A\u001b[A"
     ]
    },
    {
     "data": {
      "application/vnd.jupyter.widget-view+json": {
       "model_id": "3d4b59fc5ac44511a320f22c7857142a",
       "version_major": 2,
       "version_minor": 0
      },
      "text/plain": [
       "HBox(children=(IntProgress(value=0, description='Training iteration', max=29, style=ProgressStyle(description_…"
      ]
     },
     "metadata": {},
     "output_type": "display_data"
    },
    {
     "name": "stdout",
     "output_type": "stream",
     "text": [
      "\n"
     ]
    },
    {
     "data": {
      "application/vnd.jupyter.widget-view+json": {
       "model_id": "5595c12ef9e54fa8ad6abce1888bc248",
       "version_major": 2,
       "version_minor": 0
      },
      "text/plain": [
       "HBox(children=(IntProgress(value=0, description='Evaluation iteration', max=6, style=ProgressStyle(description…"
      ]
     },
     "metadata": {},
     "output_type": "display_data"
    },
    {
     "name": "stderr",
     "output_type": "stream",
     "text": [
      "\n",
      "\n",
      "Epoch:  29%|██▉       | 29/100 [03:19<08:00,  6.77s/it]\u001b[A\u001b[A"
     ]
    },
    {
     "name": "stdout",
     "output_type": "stream",
     "text": [
      "\n",
      "Loss history: [0.5897560318311056, 0.42438603440920514, 0.3408896128336589, 0.2958464175462723, 0.2669556587934494, 0.24936150014400482, 0.23706879963477454, 0.2241834501425425, 0.20994778722524643, 0.1965125153462092, 0.18459401031335196, 0.17228167752424875, 0.1610290432969729, 0.15713689724604288, 0.1487144815425078, 0.14096936086813608, 0.1378570074836413, 0.1331882749994596, 0.12955481062332788, 0.12415460248788197, 0.124529713143905, 0.12019181996583939, 0.1182880848646164, 0.11627718185385068, 0.11467846234639485, 0.11249915137887001, 0.11126840859651566, 0.10758234187960625]\n",
      "Dev loss: 0.10868677869439125\n"
     ]
    },
    {
     "data": {
      "application/vnd.jupyter.widget-view+json": {
       "model_id": "5e1e9e1420704ed6b105708b3d91c747",
       "version_major": 2,
       "version_minor": 0
      },
      "text/plain": [
       "HBox(children=(IntProgress(value=0, description='Training iteration', max=29, style=ProgressStyle(description_…"
      ]
     },
     "metadata": {},
     "output_type": "display_data"
    },
    {
     "name": "stdout",
     "output_type": "stream",
     "text": [
      "\n"
     ]
    },
    {
     "data": {
      "application/vnd.jupyter.widget-view+json": {
       "model_id": "fba23da74baa44aaa937461b4a27fbfb",
       "version_major": 2,
       "version_minor": 0
      },
      "text/plain": [
       "HBox(children=(IntProgress(value=0, description='Evaluation iteration', max=6, style=ProgressStyle(description…"
      ]
     },
     "metadata": {},
     "output_type": "display_data"
    },
    {
     "name": "stdout",
     "output_type": "stream",
     "text": [
      "\n",
      "Loss history: [0.5897560318311056, 0.42438603440920514, 0.3408896128336589, 0.2958464175462723, 0.2669556587934494, 0.24936150014400482, 0.23706879963477454, 0.2241834501425425, 0.20994778722524643, 0.1965125153462092, 0.18459401031335196, 0.17228167752424875, 0.1610290432969729, 0.15713689724604288, 0.1487144815425078, 0.14096936086813608, 0.1378570074836413, 0.1331882749994596, 0.12955481062332788, 0.12415460248788197, 0.124529713143905, 0.12019181996583939, 0.1182880848646164, 0.11627718185385068, 0.11467846234639485, 0.11249915137887001, 0.11126840859651566, 0.10758234187960625, 0.10868677869439125]\n",
      "Dev loss: 0.10692776615420978\n"
     ]
    },
    {
     "name": "stderr",
     "output_type": "stream",
     "text": [
      "\n",
      "\n",
      "Epoch:  30%|███       | 30/100 [03:26<07:57,  6.82s/it]\u001b[A\u001b[A"
     ]
    },
    {
     "data": {
      "application/vnd.jupyter.widget-view+json": {
       "model_id": "80c1185e9e0542248640c464fe7984c7",
       "version_major": 2,
       "version_minor": 0
      },
      "text/plain": [
       "HBox(children=(IntProgress(value=0, description='Training iteration', max=29, style=ProgressStyle(description_…"
      ]
     },
     "metadata": {},
     "output_type": "display_data"
    },
    {
     "name": "stdout",
     "output_type": "stream",
     "text": [
      "\n"
     ]
    },
    {
     "data": {
      "application/vnd.jupyter.widget-view+json": {
       "model_id": "763055024a2c4e01b8df61ca1ef73ddb",
       "version_major": 2,
       "version_minor": 0
      },
      "text/plain": [
       "HBox(children=(IntProgress(value=0, description='Evaluation iteration', max=6, style=ProgressStyle(description…"
      ]
     },
     "metadata": {},
     "output_type": "display_data"
    },
    {
     "name": "stderr",
     "output_type": "stream",
     "text": [
      "\n",
      "\n",
      "Epoch:  31%|███       | 31/100 [03:33<07:43,  6.71s/it]\u001b[A\u001b[A"
     ]
    },
    {
     "name": "stdout",
     "output_type": "stream",
     "text": [
      "\n",
      "Loss history: [0.5897560318311056, 0.42438603440920514, 0.3408896128336589, 0.2958464175462723, 0.2669556587934494, 0.24936150014400482, 0.23706879963477454, 0.2241834501425425, 0.20994778722524643, 0.1965125153462092, 0.18459401031335196, 0.17228167752424875, 0.1610290432969729, 0.15713689724604288, 0.1487144815425078, 0.14096936086813608, 0.1378570074836413, 0.1331882749994596, 0.12955481062332788, 0.12415460248788197, 0.124529713143905, 0.12019181996583939, 0.1182880848646164, 0.11627718185385068, 0.11467846234639485, 0.11249915137887001, 0.11126840859651566, 0.10758234187960625, 0.10868677869439125, 0.10692776615420978]\n",
      "Dev loss: 0.10727763672669728\n"
     ]
    },
    {
     "data": {
      "application/vnd.jupyter.widget-view+json": {
       "model_id": "ca583ac494e043e1932f2ea1fe8f3742",
       "version_major": 2,
       "version_minor": 0
      },
      "text/plain": [
       "HBox(children=(IntProgress(value=0, description='Training iteration', max=29, style=ProgressStyle(description_…"
      ]
     },
     "metadata": {},
     "output_type": "display_data"
    },
    {
     "name": "stdout",
     "output_type": "stream",
     "text": [
      "\n"
     ]
    },
    {
     "data": {
      "application/vnd.jupyter.widget-view+json": {
       "model_id": "9c314944ac5b4e97baf7ae5623d2c0e3",
       "version_major": 2,
       "version_minor": 0
      },
      "text/plain": [
       "HBox(children=(IntProgress(value=0, description='Evaluation iteration', max=6, style=ProgressStyle(description…"
      ]
     },
     "metadata": {},
     "output_type": "display_data"
    },
    {
     "name": "stdout",
     "output_type": "stream",
     "text": [
      "\n",
      "Loss history: [0.5897560318311056, 0.42438603440920514, 0.3408896128336589, 0.2958464175462723, 0.2669556587934494, 0.24936150014400482, 0.23706879963477454, 0.2241834501425425, 0.20994778722524643, 0.1965125153462092, 0.18459401031335196, 0.17228167752424875, 0.1610290432969729, 0.15713689724604288, 0.1487144815425078, 0.14096936086813608, 0.1378570074836413, 0.1331882749994596, 0.12955481062332788, 0.12415460248788197, 0.124529713143905, 0.12019181996583939, 0.1182880848646164, 0.11627718185385068, 0.11467846234639485, 0.11249915137887001, 0.11126840859651566, 0.10758234187960625, 0.10868677869439125, 0.10692776615420978, 0.10727763672669728]\n",
      "Dev loss: 0.10536192605892818\n"
     ]
    },
    {
     "name": "stderr",
     "output_type": "stream",
     "text": [
      "\n",
      "\n",
      "Epoch:  32%|███▏      | 32/100 [03:39<07:40,  6.77s/it]\u001b[A\u001b[A"
     ]
    },
    {
     "data": {
      "application/vnd.jupyter.widget-view+json": {
       "model_id": "3d964c4f24314119b683b0262e7191b5",
       "version_major": 2,
       "version_minor": 0
      },
      "text/plain": [
       "HBox(children=(IntProgress(value=0, description='Training iteration', max=29, style=ProgressStyle(description_…"
      ]
     },
     "metadata": {},
     "output_type": "display_data"
    },
    {
     "name": "stdout",
     "output_type": "stream",
     "text": [
      "\n"
     ]
    },
    {
     "data": {
      "application/vnd.jupyter.widget-view+json": {
       "model_id": "d4d97c9447fb4a6ea26fcf2a91635b63",
       "version_major": 2,
       "version_minor": 0
      },
      "text/plain": [
       "HBox(children=(IntProgress(value=0, description='Evaluation iteration', max=6, style=ProgressStyle(description…"
      ]
     },
     "metadata": {},
     "output_type": "display_data"
    },
    {
     "name": "stdout",
     "output_type": "stream",
     "text": [
      "\n",
      "Loss history: [0.5897560318311056, 0.42438603440920514, 0.3408896128336589, 0.2958464175462723, 0.2669556587934494, 0.24936150014400482, 0.23706879963477454, 0.2241834501425425, 0.20994778722524643, 0.1965125153462092, 0.18459401031335196, 0.17228167752424875, 0.1610290432969729, 0.15713689724604288, 0.1487144815425078, 0.14096936086813608, 0.1378570074836413, 0.1331882749994596, 0.12955481062332788, 0.12415460248788197, 0.124529713143905, 0.12019181996583939, 0.1182880848646164, 0.11627718185385068, 0.11467846234639485, 0.11249915137887001, 0.11126840859651566, 0.10758234187960625, 0.10868677869439125, 0.10692776615420978, 0.10727763672669728, 0.10536192605892818]\n",
      "Dev loss: 0.10303825760881107\n"
     ]
    },
    {
     "name": "stderr",
     "output_type": "stream",
     "text": [
      "\n",
      "\n",
      "Epoch:  33%|███▎      | 33/100 [03:46<07:36,  6.82s/it]\u001b[A\u001b[A"
     ]
    },
    {
     "data": {
      "application/vnd.jupyter.widget-view+json": {
       "model_id": "43a21a4c354346d787a929fc0c6824e5",
       "version_major": 2,
       "version_minor": 0
      },
      "text/plain": [
       "HBox(children=(IntProgress(value=0, description='Training iteration', max=29, style=ProgressStyle(description_…"
      ]
     },
     "metadata": {},
     "output_type": "display_data"
    },
    {
     "name": "stdout",
     "output_type": "stream",
     "text": [
      "\n"
     ]
    },
    {
     "data": {
      "application/vnd.jupyter.widget-view+json": {
       "model_id": "3685df53547f422ca2f731a9836f741c",
       "version_major": 2,
       "version_minor": 0
      },
      "text/plain": [
       "HBox(children=(IntProgress(value=0, description='Evaluation iteration', max=6, style=ProgressStyle(description…"
      ]
     },
     "metadata": {},
     "output_type": "display_data"
    },
    {
     "name": "stderr",
     "output_type": "stream",
     "text": [
      "\n",
      "\n",
      "Epoch:  34%|███▍      | 34/100 [03:53<07:22,  6.71s/it]\u001b[A\u001b[A"
     ]
    },
    {
     "name": "stdout",
     "output_type": "stream",
     "text": [
      "\n",
      "Loss history: [0.5897560318311056, 0.42438603440920514, 0.3408896128336589, 0.2958464175462723, 0.2669556587934494, 0.24936150014400482, 0.23706879963477454, 0.2241834501425425, 0.20994778722524643, 0.1965125153462092, 0.18459401031335196, 0.17228167752424875, 0.1610290432969729, 0.15713689724604288, 0.1487144815425078, 0.14096936086813608, 0.1378570074836413, 0.1331882749994596, 0.12955481062332788, 0.12415460248788197, 0.124529713143905, 0.12019181996583939, 0.1182880848646164, 0.11627718185385068, 0.11467846234639485, 0.11249915137887001, 0.11126840859651566, 0.10758234187960625, 0.10868677869439125, 0.10692776615420978, 0.10727763672669728, 0.10536192605892818, 0.10303825760881107]\n",
      "Dev loss: 0.1032723958293597\n"
     ]
    },
    {
     "data": {
      "application/vnd.jupyter.widget-view+json": {
       "model_id": "f997233930924f49b05fae4b8c11b070",
       "version_major": 2,
       "version_minor": 0
      },
      "text/plain": [
       "HBox(children=(IntProgress(value=0, description='Training iteration', max=29, style=ProgressStyle(description_…"
      ]
     },
     "metadata": {},
     "output_type": "display_data"
    },
    {
     "name": "stdout",
     "output_type": "stream",
     "text": [
      "\n"
     ]
    },
    {
     "data": {
      "application/vnd.jupyter.widget-view+json": {
       "model_id": "56ca062cec33498ab58f09326aabf810",
       "version_major": 2,
       "version_minor": 0
      },
      "text/plain": [
       "HBox(children=(IntProgress(value=0, description='Evaluation iteration', max=6, style=ProgressStyle(description…"
      ]
     },
     "metadata": {},
     "output_type": "display_data"
    },
    {
     "name": "stdout",
     "output_type": "stream",
     "text": [
      "\n",
      "Loss history: [0.5897560318311056, 0.42438603440920514, 0.3408896128336589, 0.2958464175462723, 0.2669556587934494, 0.24936150014400482, 0.23706879963477454, 0.2241834501425425, 0.20994778722524643, 0.1965125153462092, 0.18459401031335196, 0.17228167752424875, 0.1610290432969729, 0.15713689724604288, 0.1487144815425078, 0.14096936086813608, 0.1378570074836413, 0.1331882749994596, 0.12955481062332788, 0.12415460248788197, 0.124529713143905, 0.12019181996583939, 0.1182880848646164, 0.11627718185385068, 0.11467846234639485, 0.11249915137887001, 0.11126840859651566, 0.10758234187960625, 0.10868677869439125, 0.10692776615420978, 0.10727763672669728, 0.10536192605892818, 0.10303825760881107, 0.1032723958293597]\n",
      "Dev loss: 0.10134127736091614\n"
     ]
    },
    {
     "name": "stderr",
     "output_type": "stream",
     "text": [
      "\n",
      "\n",
      "Epoch:  35%|███▌      | 35/100 [04:00<07:20,  6.77s/it]\u001b[A\u001b[A"
     ]
    },
    {
     "data": {
      "application/vnd.jupyter.widget-view+json": {
       "model_id": "7a8b9127c428448f8d57738c9e6d6311",
       "version_major": 2,
       "version_minor": 0
      },
      "text/plain": [
       "HBox(children=(IntProgress(value=0, description='Training iteration', max=29, style=ProgressStyle(description_…"
      ]
     },
     "metadata": {},
     "output_type": "display_data"
    },
    {
     "name": "stdout",
     "output_type": "stream",
     "text": [
      "\n"
     ]
    },
    {
     "data": {
      "application/vnd.jupyter.widget-view+json": {
       "model_id": "d5e16ddee43045f29422128af4100534",
       "version_major": 2,
       "version_minor": 0
      },
      "text/plain": [
       "HBox(children=(IntProgress(value=0, description='Evaluation iteration', max=6, style=ProgressStyle(description…"
      ]
     },
     "metadata": {},
     "output_type": "display_data"
    },
    {
     "name": "stdout",
     "output_type": "stream",
     "text": [
      "\n",
      "Loss history: [0.5897560318311056, 0.42438603440920514, 0.3408896128336589, 0.2958464175462723, 0.2669556587934494, 0.24936150014400482, 0.23706879963477454, 0.2241834501425425, 0.20994778722524643, 0.1965125153462092, 0.18459401031335196, 0.17228167752424875, 0.1610290432969729, 0.15713689724604288, 0.1487144815425078, 0.14096936086813608, 0.1378570074836413, 0.1331882749994596, 0.12955481062332788, 0.12415460248788197, 0.124529713143905, 0.12019181996583939, 0.1182880848646164, 0.11627718185385068, 0.11467846234639485, 0.11249915137887001, 0.11126840859651566, 0.10758234187960625, 0.10868677869439125, 0.10692776615420978, 0.10727763672669728, 0.10536192605892818, 0.10303825760881107, 0.1032723958293597, 0.10134127736091614]\n",
      "Dev loss: 0.10091410701473554\n"
     ]
    },
    {
     "name": "stderr",
     "output_type": "stream",
     "text": [
      "\n",
      "\n",
      "Epoch:  36%|███▌      | 36/100 [04:07<07:16,  6.82s/it]\u001b[A\u001b[A"
     ]
    },
    {
     "data": {
      "application/vnd.jupyter.widget-view+json": {
       "model_id": "a9502c60acdd4417b4e4b580d708d25a",
       "version_major": 2,
       "version_minor": 0
      },
      "text/plain": [
       "HBox(children=(IntProgress(value=0, description='Training iteration', max=29, style=ProgressStyle(description_…"
      ]
     },
     "metadata": {},
     "output_type": "display_data"
    },
    {
     "name": "stdout",
     "output_type": "stream",
     "text": [
      "\n"
     ]
    },
    {
     "data": {
      "application/vnd.jupyter.widget-view+json": {
       "model_id": "333359e8beee4c6a9e6531540903b1ac",
       "version_major": 2,
       "version_minor": 0
      },
      "text/plain": [
       "HBox(children=(IntProgress(value=0, description='Evaluation iteration', max=6, style=ProgressStyle(description…"
      ]
     },
     "metadata": {},
     "output_type": "display_data"
    },
    {
     "name": "stdout",
     "output_type": "stream",
     "text": [
      "\n",
      "Loss history: [0.5897560318311056, 0.42438603440920514, 0.3408896128336589, 0.2958464175462723, 0.2669556587934494, 0.24936150014400482, 0.23706879963477454, 0.2241834501425425, 0.20994778722524643, 0.1965125153462092, 0.18459401031335196, 0.17228167752424875, 0.1610290432969729, 0.15713689724604288, 0.1487144815425078, 0.14096936086813608, 0.1378570074836413, 0.1331882749994596, 0.12955481062332788, 0.12415460248788197, 0.124529713143905, 0.12019181996583939, 0.1182880848646164, 0.11627718185385068, 0.11467846234639485, 0.11249915137887001, 0.11126840859651566, 0.10758234187960625, 0.10868677869439125, 0.10692776615420978, 0.10727763672669728, 0.10536192605892818, 0.10303825760881107, 0.1032723958293597, 0.10134127736091614, 0.10091410701473554]\n",
      "Dev loss: 0.10060369223356247\n"
     ]
    },
    {
     "name": "stderr",
     "output_type": "stream",
     "text": [
      "\n",
      "\n",
      "Epoch:  37%|███▋      | 37/100 [04:14<07:11,  6.84s/it]\u001b[A\u001b[A"
     ]
    },
    {
     "data": {
      "application/vnd.jupyter.widget-view+json": {
       "model_id": "1c34671cf71444f0898b8aa6b33ccf3a",
       "version_major": 2,
       "version_minor": 0
      },
      "text/plain": [
       "HBox(children=(IntProgress(value=0, description='Training iteration', max=29, style=ProgressStyle(description_…"
      ]
     },
     "metadata": {},
     "output_type": "display_data"
    },
    {
     "name": "stdout",
     "output_type": "stream",
     "text": [
      "\n"
     ]
    },
    {
     "data": {
      "application/vnd.jupyter.widget-view+json": {
       "model_id": "60feaa256a8043cdaafb26349f1fd06e",
       "version_major": 2,
       "version_minor": 0
      },
      "text/plain": [
       "HBox(children=(IntProgress(value=0, description='Evaluation iteration', max=6, style=ProgressStyle(description…"
      ]
     },
     "metadata": {},
     "output_type": "display_data"
    },
    {
     "name": "stdout",
     "output_type": "stream",
     "text": [
      "\n",
      "Loss history: [0.5897560318311056, 0.42438603440920514, 0.3408896128336589, 0.2958464175462723, 0.2669556587934494, 0.24936150014400482, 0.23706879963477454, 0.2241834501425425, 0.20994778722524643, 0.1965125153462092, 0.18459401031335196, 0.17228167752424875, 0.1610290432969729, 0.15713689724604288, 0.1487144815425078, 0.14096936086813608, 0.1378570074836413, 0.1331882749994596, 0.12955481062332788, 0.12415460248788197, 0.124529713143905, 0.12019181996583939, 0.1182880848646164, 0.11627718185385068, 0.11467846234639485, 0.11249915137887001, 0.11126840859651566, 0.10758234187960625, 0.10868677869439125, 0.10692776615420978, 0.10727763672669728, 0.10536192605892818, 0.10303825760881107, 0.1032723958293597, 0.10134127736091614, 0.10091410701473554, 0.10060369223356247]\n",
      "Dev loss: 0.10051995515823364\n"
     ]
    },
    {
     "name": "stderr",
     "output_type": "stream",
     "text": [
      "\n",
      "\n",
      "Epoch:  38%|███▊      | 38/100 [04:20<07:05,  6.86s/it]\u001b[A\u001b[A"
     ]
    },
    {
     "data": {
      "application/vnd.jupyter.widget-view+json": {
       "model_id": "bb7a6758e92e474caf7b19e3e41d7985",
       "version_major": 2,
       "version_minor": 0
      },
      "text/plain": [
       "HBox(children=(IntProgress(value=0, description='Training iteration', max=29, style=ProgressStyle(description_…"
      ]
     },
     "metadata": {},
     "output_type": "display_data"
    },
    {
     "name": "stdout",
     "output_type": "stream",
     "text": [
      "\n"
     ]
    },
    {
     "data": {
      "application/vnd.jupyter.widget-view+json": {
       "model_id": "ac0731b6923342e3a245b7561a779109",
       "version_major": 2,
       "version_minor": 0
      },
      "text/plain": [
       "HBox(children=(IntProgress(value=0, description='Evaluation iteration', max=6, style=ProgressStyle(description…"
      ]
     },
     "metadata": {},
     "output_type": "display_data"
    },
    {
     "name": "stdout",
     "output_type": "stream",
     "text": [
      "\n",
      "Loss history: [0.5897560318311056, 0.42438603440920514, 0.3408896128336589, 0.2958464175462723, 0.2669556587934494, 0.24936150014400482, 0.23706879963477454, 0.2241834501425425, 0.20994778722524643, 0.1965125153462092, 0.18459401031335196, 0.17228167752424875, 0.1610290432969729, 0.15713689724604288, 0.1487144815425078, 0.14096936086813608, 0.1378570074836413, 0.1331882749994596, 0.12955481062332788, 0.12415460248788197, 0.124529713143905, 0.12019181996583939, 0.1182880848646164, 0.11627718185385068, 0.11467846234639485, 0.11249915137887001, 0.11126840859651566, 0.10758234187960625, 0.10868677869439125, 0.10692776615420978, 0.10727763672669728, 0.10536192605892818, 0.10303825760881107, 0.1032723958293597, 0.10134127736091614, 0.10091410701473554, 0.10060369223356247, 0.10051995515823364]\n",
      "Dev loss: 0.09876178453365962\n"
     ]
    },
    {
     "name": "stderr",
     "output_type": "stream",
     "text": [
      "\n",
      "\n",
      "Epoch:  39%|███▉      | 39/100 [04:27<06:59,  6.88s/it]\u001b[A\u001b[A"
     ]
    },
    {
     "data": {
      "application/vnd.jupyter.widget-view+json": {
       "model_id": "91c5584d67d24dbba2e2e35fd17f5a8d",
       "version_major": 2,
       "version_minor": 0
      },
      "text/plain": [
       "HBox(children=(IntProgress(value=0, description='Training iteration', max=29, style=ProgressStyle(description_…"
      ]
     },
     "metadata": {},
     "output_type": "display_data"
    },
    {
     "name": "stdout",
     "output_type": "stream",
     "text": [
      "\n"
     ]
    },
    {
     "data": {
      "application/vnd.jupyter.widget-view+json": {
       "model_id": "c128fd0847d645c08b873578eedf8872",
       "version_major": 2,
       "version_minor": 0
      },
      "text/plain": [
       "HBox(children=(IntProgress(value=0, description='Evaluation iteration', max=6, style=ProgressStyle(description…"
      ]
     },
     "metadata": {},
     "output_type": "display_data"
    },
    {
     "name": "stdout",
     "output_type": "stream",
     "text": [
      "\n",
      "Loss history: [0.5897560318311056, 0.42438603440920514, 0.3408896128336589, 0.2958464175462723, 0.2669556587934494, 0.24936150014400482, 0.23706879963477454, 0.2241834501425425, 0.20994778722524643, 0.1965125153462092, 0.18459401031335196, 0.17228167752424875, 0.1610290432969729, 0.15713689724604288, 0.1487144815425078, 0.14096936086813608, 0.1378570074836413, 0.1331882749994596, 0.12955481062332788, 0.12415460248788197, 0.124529713143905, 0.12019181996583939, 0.1182880848646164, 0.11627718185385068, 0.11467846234639485, 0.11249915137887001, 0.11126840859651566, 0.10758234187960625, 0.10868677869439125, 0.10692776615420978, 0.10727763672669728, 0.10536192605892818, 0.10303825760881107, 0.1032723958293597, 0.10134127736091614, 0.10091410701473554, 0.10060369223356247, 0.10051995515823364, 0.09876178453365962]\n",
      "Dev loss: 0.09869231780370076\n"
     ]
    },
    {
     "name": "stderr",
     "output_type": "stream",
     "text": [
      "\n",
      "\n",
      "Epoch:  40%|████      | 40/100 [04:34<06:53,  6.89s/it]\u001b[A\u001b[A"
     ]
    },
    {
     "data": {
      "application/vnd.jupyter.widget-view+json": {
       "model_id": "4998de1eb79b4dfcb1a18e6f05d25a40",
       "version_major": 2,
       "version_minor": 0
      },
      "text/plain": [
       "HBox(children=(IntProgress(value=0, description='Training iteration', max=29, style=ProgressStyle(description_…"
      ]
     },
     "metadata": {},
     "output_type": "display_data"
    },
    {
     "name": "stdout",
     "output_type": "stream",
     "text": [
      "\n"
     ]
    },
    {
     "data": {
      "application/vnd.jupyter.widget-view+json": {
       "model_id": "64cdeb7270ee4971b127313432ec1b3e",
       "version_major": 2,
       "version_minor": 0
      },
      "text/plain": [
       "HBox(children=(IntProgress(value=0, description='Evaluation iteration', max=6, style=ProgressStyle(description…"
      ]
     },
     "metadata": {},
     "output_type": "display_data"
    },
    {
     "name": "stdout",
     "output_type": "stream",
     "text": [
      "\n",
      "Loss history: [0.5897560318311056, 0.42438603440920514, 0.3408896128336589, 0.2958464175462723, 0.2669556587934494, 0.24936150014400482, 0.23706879963477454, 0.2241834501425425, 0.20994778722524643, 0.1965125153462092, 0.18459401031335196, 0.17228167752424875, 0.1610290432969729, 0.15713689724604288, 0.1487144815425078, 0.14096936086813608, 0.1378570074836413, 0.1331882749994596, 0.12955481062332788, 0.12415460248788197, 0.124529713143905, 0.12019181996583939, 0.1182880848646164, 0.11627718185385068, 0.11467846234639485, 0.11249915137887001, 0.11126840859651566, 0.10758234187960625, 0.10868677869439125, 0.10692776615420978, 0.10727763672669728, 0.10536192605892818, 0.10303825760881107, 0.1032723958293597, 0.10134127736091614, 0.10091410701473554, 0.10060369223356247, 0.10051995515823364, 0.09876178453365962, 0.09869231780370076]\n",
      "Dev loss: 0.09831515947977702\n"
     ]
    },
    {
     "name": "stderr",
     "output_type": "stream",
     "text": [
      "\n",
      "\n",
      "Epoch:  41%|████      | 41/100 [04:41<06:46,  6.90s/it]\u001b[A\u001b[A"
     ]
    },
    {
     "data": {
      "application/vnd.jupyter.widget-view+json": {
       "model_id": "d97ca830174844afaa41fd763e03e2a1",
       "version_major": 2,
       "version_minor": 0
      },
      "text/plain": [
       "HBox(children=(IntProgress(value=0, description='Training iteration', max=29, style=ProgressStyle(description_…"
      ]
     },
     "metadata": {},
     "output_type": "display_data"
    },
    {
     "name": "stdout",
     "output_type": "stream",
     "text": [
      "\n"
     ]
    },
    {
     "data": {
      "application/vnd.jupyter.widget-view+json": {
       "model_id": "13af1dd0be514ec59c7998e1a11ccf23",
       "version_major": 2,
       "version_minor": 0
      },
      "text/plain": [
       "HBox(children=(IntProgress(value=0, description='Evaluation iteration', max=6, style=ProgressStyle(description…"
      ]
     },
     "metadata": {},
     "output_type": "display_data"
    },
    {
     "name": "stdout",
     "output_type": "stream",
     "text": [
      "\n",
      "Loss history: [0.5897560318311056, 0.42438603440920514, 0.3408896128336589, 0.2958464175462723, 0.2669556587934494, 0.24936150014400482, 0.23706879963477454, 0.2241834501425425, 0.20994778722524643, 0.1965125153462092, 0.18459401031335196, 0.17228167752424875, 0.1610290432969729, 0.15713689724604288, 0.1487144815425078, 0.14096936086813608, 0.1378570074836413, 0.1331882749994596, 0.12955481062332788, 0.12415460248788197, 0.124529713143905, 0.12019181996583939, 0.1182880848646164, 0.11627718185385068, 0.11467846234639485, 0.11249915137887001, 0.11126840859651566, 0.10758234187960625, 0.10868677869439125, 0.10692776615420978, 0.10727763672669728, 0.10536192605892818, 0.10303825760881107, 0.1032723958293597, 0.10134127736091614, 0.10091410701473554, 0.10060369223356247, 0.10051995515823364, 0.09876178453365962, 0.09869231780370076, 0.09831515947977702]\n",
      "Dev loss: 0.09729117155075073\n"
     ]
    },
    {
     "name": "stderr",
     "output_type": "stream",
     "text": [
      "\n",
      "\n",
      "Epoch:  42%|████▏     | 42/100 [04:48<06:40,  6.90s/it]\u001b[A\u001b[A"
     ]
    },
    {
     "data": {
      "application/vnd.jupyter.widget-view+json": {
       "model_id": "2ef07421d37847f3abc3cf33fe42fb61",
       "version_major": 2,
       "version_minor": 0
      },
      "text/plain": [
       "HBox(children=(IntProgress(value=0, description='Training iteration', max=29, style=ProgressStyle(description_…"
      ]
     },
     "metadata": {},
     "output_type": "display_data"
    },
    {
     "name": "stdout",
     "output_type": "stream",
     "text": [
      "\n"
     ]
    },
    {
     "data": {
      "application/vnd.jupyter.widget-view+json": {
       "model_id": "77ca65b615d34cd4ac74fc33fd8afb8a",
       "version_major": 2,
       "version_minor": 0
      },
      "text/plain": [
       "HBox(children=(IntProgress(value=0, description='Evaluation iteration', max=6, style=ProgressStyle(description…"
      ]
     },
     "metadata": {},
     "output_type": "display_data"
    },
    {
     "name": "stderr",
     "output_type": "stream",
     "text": [
      "\n",
      "\n",
      "Epoch:  43%|████▎     | 43/100 [04:55<06:25,  6.77s/it]\u001b[A\u001b[A"
     ]
    },
    {
     "name": "stdout",
     "output_type": "stream",
     "text": [
      "\n",
      "Loss history: [0.5897560318311056, 0.42438603440920514, 0.3408896128336589, 0.2958464175462723, 0.2669556587934494, 0.24936150014400482, 0.23706879963477454, 0.2241834501425425, 0.20994778722524643, 0.1965125153462092, 0.18459401031335196, 0.17228167752424875, 0.1610290432969729, 0.15713689724604288, 0.1487144815425078, 0.14096936086813608, 0.1378570074836413, 0.1331882749994596, 0.12955481062332788, 0.12415460248788197, 0.124529713143905, 0.12019181996583939, 0.1182880848646164, 0.11627718185385068, 0.11467846234639485, 0.11249915137887001, 0.11126840859651566, 0.10758234187960625, 0.10868677869439125, 0.10692776615420978, 0.10727763672669728, 0.10536192605892818, 0.10303825760881107, 0.1032723958293597, 0.10134127736091614, 0.10091410701473554, 0.10060369223356247, 0.10051995515823364, 0.09876178453365962, 0.09869231780370076, 0.09831515947977702, 0.09729117155075073]\n",
      "Dev loss: 0.10025986408193906\n"
     ]
    },
    {
     "data": {
      "application/vnd.jupyter.widget-view+json": {
       "model_id": "b49d2852a7e64e969b44a2a7cba95544",
       "version_major": 2,
       "version_minor": 0
      },
      "text/plain": [
       "HBox(children=(IntProgress(value=0, description='Training iteration', max=29, style=ProgressStyle(description_…"
      ]
     },
     "metadata": {},
     "output_type": "display_data"
    },
    {
     "name": "stdout",
     "output_type": "stream",
     "text": [
      "\n"
     ]
    },
    {
     "data": {
      "application/vnd.jupyter.widget-view+json": {
       "model_id": "0ac4f247119e4c1e956b260676db84ed",
       "version_major": 2,
       "version_minor": 0
      },
      "text/plain": [
       "HBox(children=(IntProgress(value=0, description='Evaluation iteration', max=6, style=ProgressStyle(description…"
      ]
     },
     "metadata": {},
     "output_type": "display_data"
    },
    {
     "name": "stderr",
     "output_type": "stream",
     "text": [
      "\n",
      "\n",
      "Epoch:  44%|████▍     | 44/100 [05:01<06:13,  6.68s/it]\u001b[A\u001b[A"
     ]
    },
    {
     "name": "stdout",
     "output_type": "stream",
     "text": [
      "\n",
      "Loss history: [0.5897560318311056, 0.42438603440920514, 0.3408896128336589, 0.2958464175462723, 0.2669556587934494, 0.24936150014400482, 0.23706879963477454, 0.2241834501425425, 0.20994778722524643, 0.1965125153462092, 0.18459401031335196, 0.17228167752424875, 0.1610290432969729, 0.15713689724604288, 0.1487144815425078, 0.14096936086813608, 0.1378570074836413, 0.1331882749994596, 0.12955481062332788, 0.12415460248788197, 0.124529713143905, 0.12019181996583939, 0.1182880848646164, 0.11627718185385068, 0.11467846234639485, 0.11249915137887001, 0.11126840859651566, 0.10758234187960625, 0.10868677869439125, 0.10692776615420978, 0.10727763672669728, 0.10536192605892818, 0.10303825760881107, 0.1032723958293597, 0.10134127736091614, 0.10091410701473554, 0.10060369223356247, 0.10051995515823364, 0.09876178453365962, 0.09869231780370076, 0.09831515947977702, 0.09729117155075073, 0.10025986408193906]\n",
      "Dev loss: 0.09759494662284851\n"
     ]
    },
    {
     "data": {
      "application/vnd.jupyter.widget-view+json": {
       "model_id": "4dd49500bd074df1a071cea5cc82f04f",
       "version_major": 2,
       "version_minor": 0
      },
      "text/plain": [
       "HBox(children=(IntProgress(value=0, description='Training iteration', max=29, style=ProgressStyle(description_…"
      ]
     },
     "metadata": {},
     "output_type": "display_data"
    },
    {
     "name": "stdout",
     "output_type": "stream",
     "text": [
      "\n"
     ]
    },
    {
     "data": {
      "application/vnd.jupyter.widget-view+json": {
       "model_id": "677249ad596946afbcd17156763ba50b",
       "version_major": 2,
       "version_minor": 0
      },
      "text/plain": [
       "HBox(children=(IntProgress(value=0, description='Evaluation iteration', max=6, style=ProgressStyle(description…"
      ]
     },
     "metadata": {},
     "output_type": "display_data"
    },
    {
     "name": "stderr",
     "output_type": "stream",
     "text": [
      "\n",
      "\n",
      "Epoch:  45%|████▌     | 45/100 [05:08<06:03,  6.61s/it]\u001b[A\u001b[A"
     ]
    },
    {
     "name": "stdout",
     "output_type": "stream",
     "text": [
      "\n",
      "Loss history: [0.5897560318311056, 0.42438603440920514, 0.3408896128336589, 0.2958464175462723, 0.2669556587934494, 0.24936150014400482, 0.23706879963477454, 0.2241834501425425, 0.20994778722524643, 0.1965125153462092, 0.18459401031335196, 0.17228167752424875, 0.1610290432969729, 0.15713689724604288, 0.1487144815425078, 0.14096936086813608, 0.1378570074836413, 0.1331882749994596, 0.12955481062332788, 0.12415460248788197, 0.124529713143905, 0.12019181996583939, 0.1182880848646164, 0.11627718185385068, 0.11467846234639485, 0.11249915137887001, 0.11126840859651566, 0.10758234187960625, 0.10868677869439125, 0.10692776615420978, 0.10727763672669728, 0.10536192605892818, 0.10303825760881107, 0.1032723958293597, 0.10134127736091614, 0.10091410701473554, 0.10060369223356247, 0.10051995515823364, 0.09876178453365962, 0.09869231780370076, 0.09831515947977702, 0.09729117155075073, 0.10025986408193906, 0.09759494662284851]\n",
      "Dev loss: 0.09765498836835225\n"
     ]
    },
    {
     "data": {
      "application/vnd.jupyter.widget-view+json": {
       "model_id": "7451f4d6682d44ed8eb5a39d25c95839",
       "version_major": 2,
       "version_minor": 0
      },
      "text/plain": [
       "HBox(children=(IntProgress(value=0, description='Training iteration', max=29, style=ProgressStyle(description_…"
      ]
     },
     "metadata": {},
     "output_type": "display_data"
    },
    {
     "name": "stdout",
     "output_type": "stream",
     "text": [
      "\n"
     ]
    },
    {
     "data": {
      "application/vnd.jupyter.widget-view+json": {
       "model_id": "b323fbbeb5f74cfb9684f0ab1afc92e3",
       "version_major": 2,
       "version_minor": 0
      },
      "text/plain": [
       "HBox(children=(IntProgress(value=0, description='Evaluation iteration', max=6, style=ProgressStyle(description…"
      ]
     },
     "metadata": {},
     "output_type": "display_data"
    },
    {
     "name": "stdout",
     "output_type": "stream",
     "text": [
      "\n",
      "Loss history: [0.5897560318311056, 0.42438603440920514, 0.3408896128336589, 0.2958464175462723, 0.2669556587934494, 0.24936150014400482, 0.23706879963477454, 0.2241834501425425, 0.20994778722524643, 0.1965125153462092, 0.18459401031335196, 0.17228167752424875, 0.1610290432969729, 0.15713689724604288, 0.1487144815425078, 0.14096936086813608, 0.1378570074836413, 0.1331882749994596, 0.12955481062332788, 0.12415460248788197, 0.124529713143905, 0.12019181996583939, 0.1182880848646164, 0.11627718185385068, 0.11467846234639485, 0.11249915137887001, 0.11126840859651566, 0.10758234187960625, 0.10868677869439125, 0.10692776615420978, 0.10727763672669728, 0.10536192605892818, 0.10303825760881107, 0.1032723958293597, 0.10134127736091614, 0.10091410701473554, 0.10060369223356247, 0.10051995515823364, 0.09876178453365962, 0.09869231780370076, 0.09831515947977702, 0.09729117155075073, 0.10025986408193906, 0.09759494662284851, 0.09765498836835225]\n",
      "Dev loss: 0.09626502481599648\n"
     ]
    },
    {
     "name": "stderr",
     "output_type": "stream",
     "text": [
      "\n",
      "\n",
      "Epoch:  46%|████▌     | 46/100 [05:14<06:02,  6.70s/it]\u001b[A\u001b[A"
     ]
    },
    {
     "data": {
      "application/vnd.jupyter.widget-view+json": {
       "model_id": "c5092e2decc54dc081204a4deefd1a09",
       "version_major": 2,
       "version_minor": 0
      },
      "text/plain": [
       "HBox(children=(IntProgress(value=0, description='Training iteration', max=29, style=ProgressStyle(description_…"
      ]
     },
     "metadata": {},
     "output_type": "display_data"
    },
    {
     "name": "stdout",
     "output_type": "stream",
     "text": [
      "\n"
     ]
    },
    {
     "data": {
      "application/vnd.jupyter.widget-view+json": {
       "model_id": "9b50af119dd64c82b8d1bc0347e25ef1",
       "version_major": 2,
       "version_minor": 0
      },
      "text/plain": [
       "HBox(children=(IntProgress(value=0, description='Evaluation iteration', max=6, style=ProgressStyle(description…"
      ]
     },
     "metadata": {},
     "output_type": "display_data"
    },
    {
     "name": "stdout",
     "output_type": "stream",
     "text": [
      "\n",
      "Loss history: [0.5897560318311056, 0.42438603440920514, 0.3408896128336589, 0.2958464175462723, 0.2669556587934494, 0.24936150014400482, 0.23706879963477454, 0.2241834501425425, 0.20994778722524643, 0.1965125153462092, 0.18459401031335196, 0.17228167752424875, 0.1610290432969729, 0.15713689724604288, 0.1487144815425078, 0.14096936086813608, 0.1378570074836413, 0.1331882749994596, 0.12955481062332788, 0.12415460248788197, 0.124529713143905, 0.12019181996583939, 0.1182880848646164, 0.11627718185385068, 0.11467846234639485, 0.11249915137887001, 0.11126840859651566, 0.10758234187960625, 0.10868677869439125, 0.10692776615420978, 0.10727763672669728, 0.10536192605892818, 0.10303825760881107, 0.1032723958293597, 0.10134127736091614, 0.10091410701473554, 0.10060369223356247, 0.10051995515823364, 0.09876178453365962, 0.09869231780370076, 0.09831515947977702, 0.09729117155075073, 0.10025986408193906, 0.09759494662284851, 0.09765498836835225, 0.09626502481599648]\n",
      "Dev loss: 0.09477770576874416\n"
     ]
    },
    {
     "name": "stderr",
     "output_type": "stream",
     "text": [
      "\n",
      "\n",
      "Epoch:  47%|████▋     | 47/100 [05:21<05:58,  6.77s/it]\u001b[A\u001b[A"
     ]
    },
    {
     "data": {
      "application/vnd.jupyter.widget-view+json": {
       "model_id": "19acf874c670416784a9a3173fe8965f",
       "version_major": 2,
       "version_minor": 0
      },
      "text/plain": [
       "HBox(children=(IntProgress(value=0, description='Training iteration', max=29, style=ProgressStyle(description_…"
      ]
     },
     "metadata": {},
     "output_type": "display_data"
    },
    {
     "name": "stdout",
     "output_type": "stream",
     "text": [
      "\n"
     ]
    },
    {
     "data": {
      "application/vnd.jupyter.widget-view+json": {
       "model_id": "9fb61771c75b43c187ebe92bd15b992b",
       "version_major": 2,
       "version_minor": 0
      },
      "text/plain": [
       "HBox(children=(IntProgress(value=0, description='Evaluation iteration', max=6, style=ProgressStyle(description…"
      ]
     },
     "metadata": {},
     "output_type": "display_data"
    },
    {
     "name": "stderr",
     "output_type": "stream",
     "text": [
      "\n",
      "\n",
      "Epoch:  48%|████▊     | 48/100 [05:28<05:47,  6.68s/it]\u001b[A\u001b[A"
     ]
    },
    {
     "name": "stdout",
     "output_type": "stream",
     "text": [
      "\n",
      "Loss history: [0.5897560318311056, 0.42438603440920514, 0.3408896128336589, 0.2958464175462723, 0.2669556587934494, 0.24936150014400482, 0.23706879963477454, 0.2241834501425425, 0.20994778722524643, 0.1965125153462092, 0.18459401031335196, 0.17228167752424875, 0.1610290432969729, 0.15713689724604288, 0.1487144815425078, 0.14096936086813608, 0.1378570074836413, 0.1331882749994596, 0.12955481062332788, 0.12415460248788197, 0.124529713143905, 0.12019181996583939, 0.1182880848646164, 0.11627718185385068, 0.11467846234639485, 0.11249915137887001, 0.11126840859651566, 0.10758234187960625, 0.10868677869439125, 0.10692776615420978, 0.10727763672669728, 0.10536192605892818, 0.10303825760881107, 0.1032723958293597, 0.10134127736091614, 0.10091410701473554, 0.10060369223356247, 0.10051995515823364, 0.09876178453365962, 0.09869231780370076, 0.09831515947977702, 0.09729117155075073, 0.10025986408193906, 0.09759494662284851, 0.09765498836835225, 0.09626502481599648, 0.09477770576874416]\n",
      "Dev loss: 0.09677482520540555\n"
     ]
    },
    {
     "data": {
      "application/vnd.jupyter.widget-view+json": {
       "model_id": "9592f88ebe1241a290ac5968ebc3e0d3",
       "version_major": 2,
       "version_minor": 0
      },
      "text/plain": [
       "HBox(children=(IntProgress(value=0, description='Training iteration', max=29, style=ProgressStyle(description_…"
      ]
     },
     "metadata": {},
     "output_type": "display_data"
    },
    {
     "name": "stdout",
     "output_type": "stream",
     "text": [
      "\n"
     ]
    },
    {
     "data": {
      "application/vnd.jupyter.widget-view+json": {
       "model_id": "22705d21fe7d48a79e58612eb099f916",
       "version_major": 2,
       "version_minor": 0
      },
      "text/plain": [
       "HBox(children=(IntProgress(value=0, description='Evaluation iteration', max=6, style=ProgressStyle(description…"
      ]
     },
     "metadata": {},
     "output_type": "display_data"
    },
    {
     "name": "stderr",
     "output_type": "stream",
     "text": [
      "\n",
      "\n",
      "Epoch:  49%|████▉     | 49/100 [05:34<05:37,  6.61s/it]\u001b[A\u001b[A"
     ]
    },
    {
     "name": "stdout",
     "output_type": "stream",
     "text": [
      "\n",
      "Loss history: [0.5897560318311056, 0.42438603440920514, 0.3408896128336589, 0.2958464175462723, 0.2669556587934494, 0.24936150014400482, 0.23706879963477454, 0.2241834501425425, 0.20994778722524643, 0.1965125153462092, 0.18459401031335196, 0.17228167752424875, 0.1610290432969729, 0.15713689724604288, 0.1487144815425078, 0.14096936086813608, 0.1378570074836413, 0.1331882749994596, 0.12955481062332788, 0.12415460248788197, 0.124529713143905, 0.12019181996583939, 0.1182880848646164, 0.11627718185385068, 0.11467846234639485, 0.11249915137887001, 0.11126840859651566, 0.10758234187960625, 0.10868677869439125, 0.10692776615420978, 0.10727763672669728, 0.10536192605892818, 0.10303825760881107, 0.1032723958293597, 0.10134127736091614, 0.10091410701473554, 0.10060369223356247, 0.10051995515823364, 0.09876178453365962, 0.09869231780370076, 0.09831515947977702, 0.09729117155075073, 0.10025986408193906, 0.09759494662284851, 0.09765498836835225, 0.09626502481599648, 0.09477770576874416, 0.09677482520540555]\n",
      "Dev loss: 0.09622207780679067\n"
     ]
    },
    {
     "data": {
      "application/vnd.jupyter.widget-view+json": {
       "model_id": "6639d783ef304013b6a92b60960399e3",
       "version_major": 2,
       "version_minor": 0
      },
      "text/plain": [
       "HBox(children=(IntProgress(value=0, description='Training iteration', max=29, style=ProgressStyle(description_…"
      ]
     },
     "metadata": {},
     "output_type": "display_data"
    },
    {
     "name": "stdout",
     "output_type": "stream",
     "text": [
      "\n"
     ]
    },
    {
     "data": {
      "application/vnd.jupyter.widget-view+json": {
       "model_id": "6a9f5a41680d4d9b948e2019d7509478",
       "version_major": 2,
       "version_minor": 0
      },
      "text/plain": [
       "HBox(children=(IntProgress(value=0, description='Evaluation iteration', max=6, style=ProgressStyle(description…"
      ]
     },
     "metadata": {},
     "output_type": "display_data"
    },
    {
     "name": "stdout",
     "output_type": "stream",
     "text": [
      "\n",
      "Loss history: [0.5897560318311056, 0.42438603440920514, 0.3408896128336589, 0.2958464175462723, 0.2669556587934494, 0.24936150014400482, 0.23706879963477454, 0.2241834501425425, 0.20994778722524643, 0.1965125153462092, 0.18459401031335196, 0.17228167752424875, 0.1610290432969729, 0.15713689724604288, 0.1487144815425078, 0.14096936086813608, 0.1378570074836413, 0.1331882749994596, 0.12955481062332788, 0.12415460248788197, 0.124529713143905, 0.12019181996583939, 0.1182880848646164, 0.11627718185385068, 0.11467846234639485, 0.11249915137887001, 0.11126840859651566, 0.10758234187960625, 0.10868677869439125, 0.10692776615420978, 0.10727763672669728, 0.10536192605892818, 0.10303825760881107, 0.1032723958293597, 0.10134127736091614, 0.10091410701473554, 0.10060369223356247, 0.10051995515823364, 0.09876178453365962, 0.09869231780370076, 0.09831515947977702, 0.09729117155075073, 0.10025986408193906, 0.09759494662284851, 0.09765498836835225, 0.09626502481599648, 0.09477770576874416, 0.09677482520540555, 0.09622207780679067]\n",
      "Dev loss: 0.09475133443872134\n"
     ]
    },
    {
     "name": "stderr",
     "output_type": "stream",
     "text": [
      "\n",
      "\n",
      "Epoch:  50%|█████     | 50/100 [05:41<05:35,  6.70s/it]\u001b[A\u001b[A"
     ]
    },
    {
     "data": {
      "application/vnd.jupyter.widget-view+json": {
       "model_id": "eb55cb6f4206453ab460f9da2a8bdf5c",
       "version_major": 2,
       "version_minor": 0
      },
      "text/plain": [
       "HBox(children=(IntProgress(value=0, description='Training iteration', max=29, style=ProgressStyle(description_…"
      ]
     },
     "metadata": {},
     "output_type": "display_data"
    },
    {
     "name": "stdout",
     "output_type": "stream",
     "text": [
      "\n"
     ]
    },
    {
     "data": {
      "application/vnd.jupyter.widget-view+json": {
       "model_id": "a8c399a25b67451db9de8a4484c00ab4",
       "version_major": 2,
       "version_minor": 0
      },
      "text/plain": [
       "HBox(children=(IntProgress(value=0, description='Evaluation iteration', max=6, style=ProgressStyle(description…"
      ]
     },
     "metadata": {},
     "output_type": "display_data"
    },
    {
     "name": "stderr",
     "output_type": "stream",
     "text": [
      "\n",
      "\n",
      "Epoch:  51%|█████     | 51/100 [05:48<05:24,  6.63s/it]\u001b[A\u001b[A"
     ]
    },
    {
     "name": "stdout",
     "output_type": "stream",
     "text": [
      "\n",
      "Loss history: [0.5897560318311056, 0.42438603440920514, 0.3408896128336589, 0.2958464175462723, 0.2669556587934494, 0.24936150014400482, 0.23706879963477454, 0.2241834501425425, 0.20994778722524643, 0.1965125153462092, 0.18459401031335196, 0.17228167752424875, 0.1610290432969729, 0.15713689724604288, 0.1487144815425078, 0.14096936086813608, 0.1378570074836413, 0.1331882749994596, 0.12955481062332788, 0.12415460248788197, 0.124529713143905, 0.12019181996583939, 0.1182880848646164, 0.11627718185385068, 0.11467846234639485, 0.11249915137887001, 0.11126840859651566, 0.10758234187960625, 0.10868677869439125, 0.10692776615420978, 0.10727763672669728, 0.10536192605892818, 0.10303825760881107, 0.1032723958293597, 0.10134127736091614, 0.10091410701473554, 0.10060369223356247, 0.10051995515823364, 0.09876178453365962, 0.09869231780370076, 0.09831515947977702, 0.09729117155075073, 0.10025986408193906, 0.09759494662284851, 0.09765498836835225, 0.09626502481599648, 0.09477770576874416, 0.09677482520540555, 0.09622207780679067, 0.09475133443872134]\n",
      "Dev loss: 0.09508879110217094\n"
     ]
    },
    {
     "data": {
      "application/vnd.jupyter.widget-view+json": {
       "model_id": "c1b250e4d02c48929701603ee3ab4198",
       "version_major": 2,
       "version_minor": 0
      },
      "text/plain": [
       "HBox(children=(IntProgress(value=0, description='Training iteration', max=29, style=ProgressStyle(description_…"
      ]
     },
     "metadata": {},
     "output_type": "display_data"
    },
    {
     "name": "stdout",
     "output_type": "stream",
     "text": [
      "\n"
     ]
    },
    {
     "data": {
      "application/vnd.jupyter.widget-view+json": {
       "model_id": "42850ed7cb464a81a4f86c3efdbbd8ef",
       "version_major": 2,
       "version_minor": 0
      },
      "text/plain": [
       "HBox(children=(IntProgress(value=0, description='Evaluation iteration', max=6, style=ProgressStyle(description…"
      ]
     },
     "metadata": {},
     "output_type": "display_data"
    },
    {
     "name": "stdout",
     "output_type": "stream",
     "text": [
      "\n",
      "Loss history: [0.5897560318311056, 0.42438603440920514, 0.3408896128336589, 0.2958464175462723, 0.2669556587934494, 0.24936150014400482, 0.23706879963477454, 0.2241834501425425, 0.20994778722524643, 0.1965125153462092, 0.18459401031335196, 0.17228167752424875, 0.1610290432969729, 0.15713689724604288, 0.1487144815425078, 0.14096936086813608, 0.1378570074836413, 0.1331882749994596, 0.12955481062332788, 0.12415460248788197, 0.124529713143905, 0.12019181996583939, 0.1182880848646164, 0.11627718185385068, 0.11467846234639485, 0.11249915137887001, 0.11126840859651566, 0.10758234187960625, 0.10868677869439125, 0.10692776615420978, 0.10727763672669728, 0.10536192605892818, 0.10303825760881107, 0.1032723958293597, 0.10134127736091614, 0.10091410701473554, 0.10060369223356247, 0.10051995515823364, 0.09876178453365962, 0.09869231780370076, 0.09831515947977702, 0.09729117155075073, 0.10025986408193906, 0.09759494662284851, 0.09765498836835225, 0.09626502481599648, 0.09477770576874416, 0.09677482520540555, 0.09622207780679067, 0.09475133443872134, 0.09508879110217094]\n",
      "Dev loss: 0.09253589312235515\n"
     ]
    },
    {
     "name": "stderr",
     "output_type": "stream",
     "text": [
      "\n",
      "\n",
      "Epoch:  52%|█████▏    | 52/100 [05:55<05:22,  6.72s/it]\u001b[A\u001b[A"
     ]
    },
    {
     "data": {
      "application/vnd.jupyter.widget-view+json": {
       "model_id": "d36be9b141b94456b53291f19dc7d336",
       "version_major": 2,
       "version_minor": 0
      },
      "text/plain": [
       "HBox(children=(IntProgress(value=0, description='Training iteration', max=29, style=ProgressStyle(description_…"
      ]
     },
     "metadata": {},
     "output_type": "display_data"
    },
    {
     "name": "stdout",
     "output_type": "stream",
     "text": [
      "\n"
     ]
    },
    {
     "data": {
      "application/vnd.jupyter.widget-view+json": {
       "model_id": "3d0c00e7697649cd831ccdb244f03b17",
       "version_major": 2,
       "version_minor": 0
      },
      "text/plain": [
       "HBox(children=(IntProgress(value=0, description='Evaluation iteration', max=6, style=ProgressStyle(description…"
      ]
     },
     "metadata": {},
     "output_type": "display_data"
    },
    {
     "name": "stdout",
     "output_type": "stream",
     "text": [
      "\n",
      "Loss history: [0.5897560318311056, 0.42438603440920514, 0.3408896128336589, 0.2958464175462723, 0.2669556587934494, 0.24936150014400482, 0.23706879963477454, 0.2241834501425425, 0.20994778722524643, 0.1965125153462092, 0.18459401031335196, 0.17228167752424875, 0.1610290432969729, 0.15713689724604288, 0.1487144815425078, 0.14096936086813608, 0.1378570074836413, 0.1331882749994596, 0.12955481062332788, 0.12415460248788197, 0.124529713143905, 0.12019181996583939, 0.1182880848646164, 0.11627718185385068, 0.11467846234639485, 0.11249915137887001, 0.11126840859651566, 0.10758234187960625, 0.10868677869439125, 0.10692776615420978, 0.10727763672669728, 0.10536192605892818, 0.10303825760881107, 0.1032723958293597, 0.10134127736091614, 0.10091410701473554, 0.10060369223356247, 0.10051995515823364, 0.09876178453365962, 0.09869231780370076, 0.09831515947977702, 0.09729117155075073, 0.10025986408193906, 0.09759494662284851, 0.09765498836835225, 0.09626502481599648, 0.09477770576874416, 0.09677482520540555, 0.09622207780679067, 0.09475133443872134, 0.09508879110217094, 0.09253589312235515]\n",
      "Dev loss: 0.0922276961306731\n"
     ]
    },
    {
     "name": "stderr",
     "output_type": "stream",
     "text": [
      "\n",
      "\n",
      "Epoch:  53%|█████▎    | 53/100 [06:02<05:18,  6.78s/it]\u001b[A\u001b[A"
     ]
    },
    {
     "data": {
      "application/vnd.jupyter.widget-view+json": {
       "model_id": "9b97598b833342b1b61d0f78b01a3b65",
       "version_major": 2,
       "version_minor": 0
      },
      "text/plain": [
       "HBox(children=(IntProgress(value=0, description='Training iteration', max=29, style=ProgressStyle(description_…"
      ]
     },
     "metadata": {},
     "output_type": "display_data"
    },
    {
     "name": "stdout",
     "output_type": "stream",
     "text": [
      "\n"
     ]
    },
    {
     "data": {
      "application/vnd.jupyter.widget-view+json": {
       "model_id": "d1942054625840b19eb302489650a0bc",
       "version_major": 2,
       "version_minor": 0
      },
      "text/plain": [
       "HBox(children=(IntProgress(value=0, description='Evaluation iteration', max=6, style=ProgressStyle(description…"
      ]
     },
     "metadata": {},
     "output_type": "display_data"
    },
    {
     "name": "stderr",
     "output_type": "stream",
     "text": [
      "\n",
      "\n",
      "Epoch:  54%|█████▍    | 54/100 [06:08<05:07,  6.68s/it]\u001b[A\u001b[A"
     ]
    },
    {
     "name": "stdout",
     "output_type": "stream",
     "text": [
      "\n",
      "Loss history: [0.5897560318311056, 0.42438603440920514, 0.3408896128336589, 0.2958464175462723, 0.2669556587934494, 0.24936150014400482, 0.23706879963477454, 0.2241834501425425, 0.20994778722524643, 0.1965125153462092, 0.18459401031335196, 0.17228167752424875, 0.1610290432969729, 0.15713689724604288, 0.1487144815425078, 0.14096936086813608, 0.1378570074836413, 0.1331882749994596, 0.12955481062332788, 0.12415460248788197, 0.124529713143905, 0.12019181996583939, 0.1182880848646164, 0.11627718185385068, 0.11467846234639485, 0.11249915137887001, 0.11126840859651566, 0.10758234187960625, 0.10868677869439125, 0.10692776615420978, 0.10727763672669728, 0.10536192605892818, 0.10303825760881107, 0.1032723958293597, 0.10134127736091614, 0.10091410701473554, 0.10060369223356247, 0.10051995515823364, 0.09876178453365962, 0.09869231780370076, 0.09831515947977702, 0.09729117155075073, 0.10025986408193906, 0.09759494662284851, 0.09765498836835225, 0.09626502481599648, 0.09477770576874416, 0.09677482520540555, 0.09622207780679067, 0.09475133443872134, 0.09508879110217094, 0.09253589312235515, 0.0922276961306731]\n",
      "Dev loss: 0.09391842658321063\n"
     ]
    },
    {
     "data": {
      "application/vnd.jupyter.widget-view+json": {
       "model_id": "09e226607f904f00a9b04eb6ca348d67",
       "version_major": 2,
       "version_minor": 0
      },
      "text/plain": [
       "HBox(children=(IntProgress(value=0, description='Training iteration', max=29, style=ProgressStyle(description_…"
      ]
     },
     "metadata": {},
     "output_type": "display_data"
    },
    {
     "name": "stdout",
     "output_type": "stream",
     "text": [
      "\n"
     ]
    },
    {
     "data": {
      "application/vnd.jupyter.widget-view+json": {
       "model_id": "5bdb3fdee3744050a52673326a0a5979",
       "version_major": 2,
       "version_minor": 0
      },
      "text/plain": [
       "HBox(children=(IntProgress(value=0, description='Evaluation iteration', max=6, style=ProgressStyle(description…"
      ]
     },
     "metadata": {},
     "output_type": "display_data"
    },
    {
     "name": "stdout",
     "output_type": "stream",
     "text": [
      "\n",
      "Loss history: [0.5897560318311056, 0.42438603440920514, 0.3408896128336589, 0.2958464175462723, 0.2669556587934494, 0.24936150014400482, 0.23706879963477454, 0.2241834501425425, 0.20994778722524643, 0.1965125153462092, 0.18459401031335196, 0.17228167752424875, 0.1610290432969729, 0.15713689724604288, 0.1487144815425078, 0.14096936086813608, 0.1378570074836413, 0.1331882749994596, 0.12955481062332788, 0.12415460248788197, 0.124529713143905, 0.12019181996583939, 0.1182880848646164, 0.11627718185385068, 0.11467846234639485, 0.11249915137887001, 0.11126840859651566, 0.10758234187960625, 0.10868677869439125, 0.10692776615420978, 0.10727763672669728, 0.10536192605892818, 0.10303825760881107, 0.1032723958293597, 0.10134127736091614, 0.10091410701473554, 0.10060369223356247, 0.10051995515823364, 0.09876178453365962, 0.09869231780370076, 0.09831515947977702, 0.09729117155075073, 0.10025986408193906, 0.09759494662284851, 0.09765498836835225, 0.09626502481599648, 0.09477770576874416, 0.09677482520540555, 0.09622207780679067, 0.09475133443872134, 0.09508879110217094, 0.09253589312235515, 0.0922276961306731, 0.09391842658321063]\n",
      "Dev loss: 0.09176192805171013\n"
     ]
    },
    {
     "name": "stderr",
     "output_type": "stream",
     "text": [
      "\n",
      "\n",
      "Epoch:  55%|█████▌    | 55/100 [06:15<05:03,  6.75s/it]\u001b[A\u001b[A"
     ]
    },
    {
     "data": {
      "application/vnd.jupyter.widget-view+json": {
       "model_id": "6cf820656f634562b3dc92af7307b29b",
       "version_major": 2,
       "version_minor": 0
      },
      "text/plain": [
       "HBox(children=(IntProgress(value=0, description='Training iteration', max=29, style=ProgressStyle(description_…"
      ]
     },
     "metadata": {},
     "output_type": "display_data"
    },
    {
     "name": "stdout",
     "output_type": "stream",
     "text": [
      "\n"
     ]
    },
    {
     "data": {
      "application/vnd.jupyter.widget-view+json": {
       "model_id": "3b58f8781bd64d18b69ff50d728b2fc8",
       "version_major": 2,
       "version_minor": 0
      },
      "text/plain": [
       "HBox(children=(IntProgress(value=0, description='Evaluation iteration', max=6, style=ProgressStyle(description…"
      ]
     },
     "metadata": {},
     "output_type": "display_data"
    },
    {
     "name": "stderr",
     "output_type": "stream",
     "text": [
      "\n",
      "\n",
      "Epoch:  56%|█████▌    | 56/100 [06:21<04:53,  6.67s/it]\u001b[A\u001b[A"
     ]
    },
    {
     "name": "stdout",
     "output_type": "stream",
     "text": [
      "\n",
      "Loss history: [0.5897560318311056, 0.42438603440920514, 0.3408896128336589, 0.2958464175462723, 0.2669556587934494, 0.24936150014400482, 0.23706879963477454, 0.2241834501425425, 0.20994778722524643, 0.1965125153462092, 0.18459401031335196, 0.17228167752424875, 0.1610290432969729, 0.15713689724604288, 0.1487144815425078, 0.14096936086813608, 0.1378570074836413, 0.1331882749994596, 0.12955481062332788, 0.12415460248788197, 0.124529713143905, 0.12019181996583939, 0.1182880848646164, 0.11627718185385068, 0.11467846234639485, 0.11249915137887001, 0.11126840859651566, 0.10758234187960625, 0.10868677869439125, 0.10692776615420978, 0.10727763672669728, 0.10536192605892818, 0.10303825760881107, 0.1032723958293597, 0.10134127736091614, 0.10091410701473554, 0.10060369223356247, 0.10051995515823364, 0.09876178453365962, 0.09869231780370076, 0.09831515947977702, 0.09729117155075073, 0.10025986408193906, 0.09759494662284851, 0.09765498836835225, 0.09626502481599648, 0.09477770576874416, 0.09677482520540555, 0.09622207780679067, 0.09475133443872134, 0.09508879110217094, 0.09253589312235515, 0.0922276961306731, 0.09391842658321063, 0.09176192805171013]\n",
      "Dev loss: 0.09275504822532336\n"
     ]
    },
    {
     "data": {
      "application/vnd.jupyter.widget-view+json": {
       "model_id": "943bf5aa1d124a278e0c211aa7d709be",
       "version_major": 2,
       "version_minor": 0
      },
      "text/plain": [
       "HBox(children=(IntProgress(value=0, description='Training iteration', max=29, style=ProgressStyle(description_…"
      ]
     },
     "metadata": {},
     "output_type": "display_data"
    },
    {
     "name": "stdout",
     "output_type": "stream",
     "text": [
      "\n"
     ]
    },
    {
     "data": {
      "application/vnd.jupyter.widget-view+json": {
       "model_id": "e8a05eebcace4f68baf6b497d78d99c7",
       "version_major": 2,
       "version_minor": 0
      },
      "text/plain": [
       "HBox(children=(IntProgress(value=0, description='Evaluation iteration', max=6, style=ProgressStyle(description…"
      ]
     },
     "metadata": {},
     "output_type": "display_data"
    },
    {
     "name": "stderr",
     "output_type": "stream",
     "text": [
      "\n",
      "\n",
      "Epoch:  57%|█████▋    | 57/100 [06:28<04:43,  6.60s/it]\u001b[A\u001b[A"
     ]
    },
    {
     "name": "stdout",
     "output_type": "stream",
     "text": [
      "\n",
      "Loss history: [0.5897560318311056, 0.42438603440920514, 0.3408896128336589, 0.2958464175462723, 0.2669556587934494, 0.24936150014400482, 0.23706879963477454, 0.2241834501425425, 0.20994778722524643, 0.1965125153462092, 0.18459401031335196, 0.17228167752424875, 0.1610290432969729, 0.15713689724604288, 0.1487144815425078, 0.14096936086813608, 0.1378570074836413, 0.1331882749994596, 0.12955481062332788, 0.12415460248788197, 0.124529713143905, 0.12019181996583939, 0.1182880848646164, 0.11627718185385068, 0.11467846234639485, 0.11249915137887001, 0.11126840859651566, 0.10758234187960625, 0.10868677869439125, 0.10692776615420978, 0.10727763672669728, 0.10536192605892818, 0.10303825760881107, 0.1032723958293597, 0.10134127736091614, 0.10091410701473554, 0.10060369223356247, 0.10051995515823364, 0.09876178453365962, 0.09869231780370076, 0.09831515947977702, 0.09729117155075073, 0.10025986408193906, 0.09759494662284851, 0.09765498836835225, 0.09626502481599648, 0.09477770576874416, 0.09677482520540555, 0.09622207780679067, 0.09475133443872134, 0.09508879110217094, 0.09253589312235515, 0.0922276961306731, 0.09391842658321063, 0.09176192805171013, 0.09275504822532336]\n",
      "Dev loss: 0.09346874058246613\n"
     ]
    },
    {
     "data": {
      "application/vnd.jupyter.widget-view+json": {
       "model_id": "6e8018389d6f49f8935c2cf5bfc96a5a",
       "version_major": 2,
       "version_minor": 0
      },
      "text/plain": [
       "HBox(children=(IntProgress(value=0, description='Training iteration', max=29, style=ProgressStyle(description_…"
      ]
     },
     "metadata": {},
     "output_type": "display_data"
    },
    {
     "name": "stdout",
     "output_type": "stream",
     "text": [
      "\n"
     ]
    },
    {
     "data": {
      "application/vnd.jupyter.widget-view+json": {
       "model_id": "3d825036693f4eaa840eaa2c09a1af21",
       "version_major": 2,
       "version_minor": 0
      },
      "text/plain": [
       "HBox(children=(IntProgress(value=0, description='Evaluation iteration', max=6, style=ProgressStyle(description…"
      ]
     },
     "metadata": {},
     "output_type": "display_data"
    },
    {
     "name": "stdout",
     "output_type": "stream",
     "text": [
      "\n",
      "Loss history: [0.5897560318311056, 0.42438603440920514, 0.3408896128336589, 0.2958464175462723, 0.2669556587934494, 0.24936150014400482, 0.23706879963477454, 0.2241834501425425, 0.20994778722524643, 0.1965125153462092, 0.18459401031335196, 0.17228167752424875, 0.1610290432969729, 0.15713689724604288, 0.1487144815425078, 0.14096936086813608, 0.1378570074836413, 0.1331882749994596, 0.12955481062332788, 0.12415460248788197, 0.124529713143905, 0.12019181996583939, 0.1182880848646164, 0.11627718185385068, 0.11467846234639485, 0.11249915137887001, 0.11126840859651566, 0.10758234187960625, 0.10868677869439125, 0.10692776615420978, 0.10727763672669728, 0.10536192605892818, 0.10303825760881107, 0.1032723958293597, 0.10134127736091614, 0.10091410701473554, 0.10060369223356247, 0.10051995515823364, 0.09876178453365962, 0.09869231780370076, 0.09831515947977702, 0.09729117155075073, 0.10025986408193906, 0.09759494662284851, 0.09765498836835225, 0.09626502481599648, 0.09477770576874416, 0.09677482520540555, 0.09622207780679067, 0.09475133443872134, 0.09508879110217094, 0.09253589312235515, 0.0922276961306731, 0.09391842658321063, 0.09176192805171013, 0.09275504822532336, 0.09346874058246613]\n",
      "Dev loss: 0.09045551220575969\n"
     ]
    },
    {
     "name": "stderr",
     "output_type": "stream",
     "text": [
      "\n",
      "\n",
      "Epoch:  58%|█████▊    | 58/100 [06:35<04:41,  6.70s/it]\u001b[A\u001b[A"
     ]
    },
    {
     "data": {
      "application/vnd.jupyter.widget-view+json": {
       "model_id": "38e2662684f84c0b953e6f28b4110f56",
       "version_major": 2,
       "version_minor": 0
      },
      "text/plain": [
       "HBox(children=(IntProgress(value=0, description='Training iteration', max=29, style=ProgressStyle(description_…"
      ]
     },
     "metadata": {},
     "output_type": "display_data"
    },
    {
     "name": "stdout",
     "output_type": "stream",
     "text": [
      "\n"
     ]
    },
    {
     "data": {
      "application/vnd.jupyter.widget-view+json": {
       "model_id": "e249c124f40442e2ae9529575ed81f6c",
       "version_major": 2,
       "version_minor": 0
      },
      "text/plain": [
       "HBox(children=(IntProgress(value=0, description='Evaluation iteration', max=6, style=ProgressStyle(description…"
      ]
     },
     "metadata": {},
     "output_type": "display_data"
    },
    {
     "name": "stdout",
     "output_type": "stream",
     "text": [
      "\n",
      "Loss history: [0.5897560318311056, 0.42438603440920514, 0.3408896128336589, 0.2958464175462723, 0.2669556587934494, 0.24936150014400482, 0.23706879963477454, 0.2241834501425425, 0.20994778722524643, 0.1965125153462092, 0.18459401031335196, 0.17228167752424875, 0.1610290432969729, 0.15713689724604288, 0.1487144815425078, 0.14096936086813608, 0.1378570074836413, 0.1331882749994596, 0.12955481062332788, 0.12415460248788197, 0.124529713143905, 0.12019181996583939, 0.1182880848646164, 0.11627718185385068, 0.11467846234639485, 0.11249915137887001, 0.11126840859651566, 0.10758234187960625, 0.10868677869439125, 0.10692776615420978, 0.10727763672669728, 0.10536192605892818, 0.10303825760881107, 0.1032723958293597, 0.10134127736091614, 0.10091410701473554, 0.10060369223356247, 0.10051995515823364, 0.09876178453365962, 0.09869231780370076, 0.09831515947977702, 0.09729117155075073, 0.10025986408193906, 0.09759494662284851, 0.09765498836835225, 0.09626502481599648, 0.09477770576874416, 0.09677482520540555, 0.09622207780679067, 0.09475133443872134, 0.09508879110217094, 0.09253589312235515, 0.0922276961306731, 0.09391842658321063, 0.09176192805171013, 0.09275504822532336, 0.09346874058246613, 0.09045551220575969]\n",
      "Dev loss: 0.08979702057937781\n"
     ]
    },
    {
     "name": "stderr",
     "output_type": "stream",
     "text": [
      "\n",
      "\n",
      "Epoch:  59%|█████▉    | 59/100 [06:42<04:37,  6.76s/it]\u001b[A\u001b[A"
     ]
    },
    {
     "data": {
      "application/vnd.jupyter.widget-view+json": {
       "model_id": "111eac45bf3645bc97d7ceaa27cc67cb",
       "version_major": 2,
       "version_minor": 0
      },
      "text/plain": [
       "HBox(children=(IntProgress(value=0, description='Training iteration', max=29, style=ProgressStyle(description_…"
      ]
     },
     "metadata": {},
     "output_type": "display_data"
    },
    {
     "name": "stdout",
     "output_type": "stream",
     "text": [
      "\n"
     ]
    },
    {
     "data": {
      "application/vnd.jupyter.widget-view+json": {
       "model_id": "63ee6e1ab8dd4e488c25a7206e1f5caa",
       "version_major": 2,
       "version_minor": 0
      },
      "text/plain": [
       "HBox(children=(IntProgress(value=0, description='Evaluation iteration', max=6, style=ProgressStyle(description…"
      ]
     },
     "metadata": {},
     "output_type": "display_data"
    },
    {
     "name": "stderr",
     "output_type": "stream",
     "text": [
      "\n",
      "\n",
      "Epoch:  60%|██████    | 60/100 [06:48<04:26,  6.67s/it]\u001b[A\u001b[A"
     ]
    },
    {
     "name": "stdout",
     "output_type": "stream",
     "text": [
      "\n",
      "Loss history: [0.5897560318311056, 0.42438603440920514, 0.3408896128336589, 0.2958464175462723, 0.2669556587934494, 0.24936150014400482, 0.23706879963477454, 0.2241834501425425, 0.20994778722524643, 0.1965125153462092, 0.18459401031335196, 0.17228167752424875, 0.1610290432969729, 0.15713689724604288, 0.1487144815425078, 0.14096936086813608, 0.1378570074836413, 0.1331882749994596, 0.12955481062332788, 0.12415460248788197, 0.124529713143905, 0.12019181996583939, 0.1182880848646164, 0.11627718185385068, 0.11467846234639485, 0.11249915137887001, 0.11126840859651566, 0.10758234187960625, 0.10868677869439125, 0.10692776615420978, 0.10727763672669728, 0.10536192605892818, 0.10303825760881107, 0.1032723958293597, 0.10134127736091614, 0.10091410701473554, 0.10060369223356247, 0.10051995515823364, 0.09876178453365962, 0.09869231780370076, 0.09831515947977702, 0.09729117155075073, 0.10025986408193906, 0.09759494662284851, 0.09765498836835225, 0.09626502481599648, 0.09477770576874416, 0.09677482520540555, 0.09622207780679067, 0.09475133443872134, 0.09508879110217094, 0.09253589312235515, 0.0922276961306731, 0.09391842658321063, 0.09176192805171013, 0.09275504822532336, 0.09346874058246613, 0.09045551220575969, 0.08979702057937781]\n",
      "Dev loss: 0.09160630653301875\n"
     ]
    },
    {
     "data": {
      "application/vnd.jupyter.widget-view+json": {
       "model_id": "a9535711fcd146528bf3e5f52b46c2dd",
       "version_major": 2,
       "version_minor": 0
      },
      "text/plain": [
       "HBox(children=(IntProgress(value=0, description='Training iteration', max=29, style=ProgressStyle(description_…"
      ]
     },
     "metadata": {},
     "output_type": "display_data"
    },
    {
     "name": "stdout",
     "output_type": "stream",
     "text": [
      "\n"
     ]
    },
    {
     "data": {
      "application/vnd.jupyter.widget-view+json": {
       "model_id": "26951066f528421e9d7f3f8ac65289e0",
       "version_major": 2,
       "version_minor": 0
      },
      "text/plain": [
       "HBox(children=(IntProgress(value=0, description='Evaluation iteration', max=6, style=ProgressStyle(description…"
      ]
     },
     "metadata": {},
     "output_type": "display_data"
    },
    {
     "name": "stderr",
     "output_type": "stream",
     "text": [
      "\n",
      "\n",
      "Epoch:  61%|██████    | 61/100 [06:55<04:17,  6.61s/it]\u001b[A\u001b[A"
     ]
    },
    {
     "name": "stdout",
     "output_type": "stream",
     "text": [
      "\n",
      "Loss history: [0.5897560318311056, 0.42438603440920514, 0.3408896128336589, 0.2958464175462723, 0.2669556587934494, 0.24936150014400482, 0.23706879963477454, 0.2241834501425425, 0.20994778722524643, 0.1965125153462092, 0.18459401031335196, 0.17228167752424875, 0.1610290432969729, 0.15713689724604288, 0.1487144815425078, 0.14096936086813608, 0.1378570074836413, 0.1331882749994596, 0.12955481062332788, 0.12415460248788197, 0.124529713143905, 0.12019181996583939, 0.1182880848646164, 0.11627718185385068, 0.11467846234639485, 0.11249915137887001, 0.11126840859651566, 0.10758234187960625, 0.10868677869439125, 0.10692776615420978, 0.10727763672669728, 0.10536192605892818, 0.10303825760881107, 0.1032723958293597, 0.10134127736091614, 0.10091410701473554, 0.10060369223356247, 0.10051995515823364, 0.09876178453365962, 0.09869231780370076, 0.09831515947977702, 0.09729117155075073, 0.10025986408193906, 0.09759494662284851, 0.09765498836835225, 0.09626502481599648, 0.09477770576874416, 0.09677482520540555, 0.09622207780679067, 0.09475133443872134, 0.09508879110217094, 0.09253589312235515, 0.0922276961306731, 0.09391842658321063, 0.09176192805171013, 0.09275504822532336, 0.09346874058246613, 0.09045551220575969, 0.08979702057937781, 0.09160630653301875]\n",
      "Dev loss: 0.09187375257412593\n"
     ]
    },
    {
     "data": {
      "application/vnd.jupyter.widget-view+json": {
       "model_id": "63550c26df8041e59296c404b65f7534",
       "version_major": 2,
       "version_minor": 0
      },
      "text/plain": [
       "HBox(children=(IntProgress(value=0, description='Training iteration', max=29, style=ProgressStyle(description_…"
      ]
     },
     "metadata": {},
     "output_type": "display_data"
    },
    {
     "name": "stdout",
     "output_type": "stream",
     "text": [
      "\n"
     ]
    },
    {
     "data": {
      "application/vnd.jupyter.widget-view+json": {
       "model_id": "1430f010f2ee4e3389fbb6dc6dc4b059",
       "version_major": 2,
       "version_minor": 0
      },
      "text/plain": [
       "HBox(children=(IntProgress(value=0, description='Evaluation iteration', max=6, style=ProgressStyle(description…"
      ]
     },
     "metadata": {},
     "output_type": "display_data"
    },
    {
     "name": "stderr",
     "output_type": "stream",
     "text": [
      "\n",
      "\n",
      "Epoch:  62%|██████▏   | 62/100 [07:01<04:09,  6.57s/it]\u001b[A\u001b[A"
     ]
    },
    {
     "name": "stdout",
     "output_type": "stream",
     "text": [
      "\n",
      "Loss history: [0.5897560318311056, 0.42438603440920514, 0.3408896128336589, 0.2958464175462723, 0.2669556587934494, 0.24936150014400482, 0.23706879963477454, 0.2241834501425425, 0.20994778722524643, 0.1965125153462092, 0.18459401031335196, 0.17228167752424875, 0.1610290432969729, 0.15713689724604288, 0.1487144815425078, 0.14096936086813608, 0.1378570074836413, 0.1331882749994596, 0.12955481062332788, 0.12415460248788197, 0.124529713143905, 0.12019181996583939, 0.1182880848646164, 0.11627718185385068, 0.11467846234639485, 0.11249915137887001, 0.11126840859651566, 0.10758234187960625, 0.10868677869439125, 0.10692776615420978, 0.10727763672669728, 0.10536192605892818, 0.10303825760881107, 0.1032723958293597, 0.10134127736091614, 0.10091410701473554, 0.10060369223356247, 0.10051995515823364, 0.09876178453365962, 0.09869231780370076, 0.09831515947977702, 0.09729117155075073, 0.10025986408193906, 0.09759494662284851, 0.09765498836835225, 0.09626502481599648, 0.09477770576874416, 0.09677482520540555, 0.09622207780679067, 0.09475133443872134, 0.09508879110217094, 0.09253589312235515, 0.0922276961306731, 0.09391842658321063, 0.09176192805171013, 0.09275504822532336, 0.09346874058246613, 0.09045551220575969, 0.08979702057937781, 0.09160630653301875, 0.09187375257412593]\n",
      "Dev loss: 0.0914611139645179\n"
     ]
    },
    {
     "data": {
      "application/vnd.jupyter.widget-view+json": {
       "model_id": "6da585bc2fc44ee9bbf3f499d3908f09",
       "version_major": 2,
       "version_minor": 0
      },
      "text/plain": [
       "HBox(children=(IntProgress(value=0, description='Training iteration', max=29, style=ProgressStyle(description_…"
      ]
     },
     "metadata": {},
     "output_type": "display_data"
    },
    {
     "name": "stdout",
     "output_type": "stream",
     "text": [
      "\n"
     ]
    },
    {
     "data": {
      "application/vnd.jupyter.widget-view+json": {
       "model_id": "06055b4fec51410dbb16af677269d9ef",
       "version_major": 2,
       "version_minor": 0
      },
      "text/plain": [
       "HBox(children=(IntProgress(value=0, description='Evaluation iteration', max=6, style=ProgressStyle(description…"
      ]
     },
     "metadata": {},
     "output_type": "display_data"
    },
    {
     "name": "stderr",
     "output_type": "stream",
     "text": [
      "\n",
      "\n",
      "Epoch:  63%|██████▎   | 63/100 [07:07<04:01,  6.54s/it]\u001b[A\u001b[A"
     ]
    },
    {
     "name": "stdout",
     "output_type": "stream",
     "text": [
      "\n",
      "Loss history: [0.5897560318311056, 0.42438603440920514, 0.3408896128336589, 0.2958464175462723, 0.2669556587934494, 0.24936150014400482, 0.23706879963477454, 0.2241834501425425, 0.20994778722524643, 0.1965125153462092, 0.18459401031335196, 0.17228167752424875, 0.1610290432969729, 0.15713689724604288, 0.1487144815425078, 0.14096936086813608, 0.1378570074836413, 0.1331882749994596, 0.12955481062332788, 0.12415460248788197, 0.124529713143905, 0.12019181996583939, 0.1182880848646164, 0.11627718185385068, 0.11467846234639485, 0.11249915137887001, 0.11126840859651566, 0.10758234187960625, 0.10868677869439125, 0.10692776615420978, 0.10727763672669728, 0.10536192605892818, 0.10303825760881107, 0.1032723958293597, 0.10134127736091614, 0.10091410701473554, 0.10060369223356247, 0.10051995515823364, 0.09876178453365962, 0.09869231780370076, 0.09831515947977702, 0.09729117155075073, 0.10025986408193906, 0.09759494662284851, 0.09765498836835225, 0.09626502481599648, 0.09477770576874416, 0.09677482520540555, 0.09622207780679067, 0.09475133443872134, 0.09508879110217094, 0.09253589312235515, 0.0922276961306731, 0.09391842658321063, 0.09176192805171013, 0.09275504822532336, 0.09346874058246613, 0.09045551220575969, 0.08979702057937781, 0.09160630653301875, 0.09187375257412593, 0.0914611139645179]\n",
      "Dev loss: 0.09108360732595126\n"
     ]
    },
    {
     "data": {
      "application/vnd.jupyter.widget-view+json": {
       "model_id": "305f4e4cf1c4457f9c382b19aba613dc",
       "version_major": 2,
       "version_minor": 0
      },
      "text/plain": [
       "HBox(children=(IntProgress(value=0, description='Training iteration', max=29, style=ProgressStyle(description_…"
      ]
     },
     "metadata": {},
     "output_type": "display_data"
    },
    {
     "name": "stdout",
     "output_type": "stream",
     "text": [
      "\n"
     ]
    },
    {
     "data": {
      "application/vnd.jupyter.widget-view+json": {
       "model_id": "1fb11af343df4d6781766956da918fef",
       "version_major": 2,
       "version_minor": 0
      },
      "text/plain": [
       "HBox(children=(IntProgress(value=0, description='Evaluation iteration', max=6, style=ProgressStyle(description…"
      ]
     },
     "metadata": {},
     "output_type": "display_data"
    },
    {
     "name": "stdout",
     "output_type": "stream",
     "text": [
      "\n",
      "Loss history: [0.5897560318311056, 0.42438603440920514, 0.3408896128336589, 0.2958464175462723, 0.2669556587934494, 0.24936150014400482, 0.23706879963477454, 0.2241834501425425, 0.20994778722524643, 0.1965125153462092, 0.18459401031335196, 0.17228167752424875, 0.1610290432969729, 0.15713689724604288, 0.1487144815425078, 0.14096936086813608, 0.1378570074836413, 0.1331882749994596, 0.12955481062332788, 0.12415460248788197, 0.124529713143905, 0.12019181996583939, 0.1182880848646164, 0.11627718185385068, 0.11467846234639485, 0.11249915137887001, 0.11126840859651566, 0.10758234187960625, 0.10868677869439125, 0.10692776615420978, 0.10727763672669728, 0.10536192605892818, 0.10303825760881107, 0.1032723958293597, 0.10134127736091614, 0.10091410701473554, 0.10060369223356247, 0.10051995515823364, 0.09876178453365962, 0.09869231780370076, 0.09831515947977702, 0.09729117155075073, 0.10025986408193906, 0.09759494662284851, 0.09765498836835225, 0.09626502481599648, 0.09477770576874416, 0.09677482520540555, 0.09622207780679067, 0.09475133443872134, 0.09508879110217094, 0.09253589312235515, 0.0922276961306731, 0.09391842658321063, 0.09176192805171013, 0.09275504822532336, 0.09346874058246613, 0.09045551220575969, 0.08979702057937781, 0.09160630653301875, 0.09187375257412593, 0.0914611139645179, 0.09108360732595126]\n",
      "Dev loss: 0.0909298484524091\n",
      "No improvement on development set. Finish training.\n",
      "Loading model from /tmp/model.bin\n"
     ]
    },
    {
     "name": "stderr",
     "output_type": "stream",
     "text": [
      "I0404 19:23:53.937473 140043817379648 configuration_utils.py:256] loading configuration file https://s3.amazonaws.com/models.huggingface.co/bert/bert-base-uncased-config.json from cache at /home/yves/.cache/torch/transformers/4dad0251492946e18ac39290fcfe91b89d370fee250efe9521476438fe8ca185.8f56353af4a709bf5ff0fbc915d8f5b42bfff892cbb6ac98c3c45f481a03c685\n",
      "I0404 19:23:53.939065 140043817379648 configuration_utils.py:292] Model config BertConfig {\n",
      "  \"architectures\": [\n",
      "    \"BertForMaskedLM\"\n",
      "  ],\n",
      "  \"attention_probs_dropout_prob\": 0.1,\n",
      "  \"bos_token_id\": null,\n",
      "  \"do_sample\": false,\n",
      "  \"eos_token_ids\": null,\n",
      "  \"finetuning_task\": null,\n",
      "  \"hidden_act\": \"gelu\",\n",
      "  \"hidden_dropout_prob\": 0.1,\n",
      "  \"hidden_size\": 768,\n",
      "  \"id2label\": {\n",
      "    \"0\": \"LABEL_0\",\n",
      "    \"1\": \"LABEL_1\"\n",
      "  },\n",
      "  \"initializer_range\": 0.02,\n",
      "  \"intermediate_size\": 3072,\n",
      "  \"is_decoder\": false,\n",
      "  \"label2id\": {\n",
      "    \"LABEL_0\": 0,\n",
      "    \"LABEL_1\": 1\n",
      "  },\n",
      "  \"layer_norm_eps\": 1e-12,\n",
      "  \"length_penalty\": 1.0,\n",
      "  \"max_length\": 20,\n",
      "  \"max_position_embeddings\": 512,\n",
      "  \"model_type\": \"bert\",\n",
      "  \"num_attention_heads\": 12,\n",
      "  \"num_beams\": 1,\n",
      "  \"num_hidden_layers\": 12,\n",
      "  \"num_labels\": 16,\n",
      "  \"num_return_sequences\": 1,\n",
      "  \"output_attentions\": false,\n",
      "  \"output_hidden_states\": false,\n",
      "  \"output_past\": true,\n",
      "  \"pad_token_id\": null,\n",
      "  \"pruned_heads\": {},\n",
      "  \"repetition_penalty\": 1.0,\n",
      "  \"temperature\": 1.0,\n",
      "  \"top_k\": 50,\n",
      "  \"top_p\": 1.0,\n",
      "  \"torchscript\": false,\n",
      "  \"type_vocab_size\": 2,\n",
      "  \"use_bfloat16\": false,\n",
      "  \"vocab_size\": 30522\n",
      "}\n",
      "\n",
      "I0404 19:23:54.626239 140043817379648 modeling_utils.py:461] loading weights file https://s3.amazonaws.com/models.huggingface.co/bert/bert-base-uncased-pytorch_model.bin from cache at /home/yves/.cache/torch/transformers/aa1ef1aede4482d0dbcd4d52baad8ae300e60902e88fcb0bebdec09afd232066.36ca03ab34a1a5d5fa7bc3d03d55c4fa650fed07220e2eeebc06ce58d0e9a157\n"
     ]
    },
    {
     "data": {
      "application/vnd.jupyter.widget-view+json": {
       "model_id": "7cdd1c31d0cc4d2587b98129c6e14d84",
       "version_major": 2,
       "version_minor": 0
      },
      "text/plain": [
       "HBox(children=(IntProgress(value=0, description='Evaluation iteration', max=9, style=ProgressStyle(description…"
      ]
     },
     "metadata": {},
     "output_type": "display_data"
    },
    {
     "name": "stdout",
     "output_type": "stream",
     "text": [
      "\n",
      "Data size: 138\n",
      "P: 119 / 136 = 0.875\n",
      "R: 119 / 164 = 0.725609756097561\n",
      "F: 0.7933333333333333\n",
      "A: 0.6666666666666666\n",
      "AL1: 0.7681159420289855\n",
      "Train size: 461\n",
      "Final train dataloader length: 29\n"
     ]
    },
    {
     "name": "stderr",
     "output_type": "stream",
     "text": [
      "I0404 19:23:59.856125 140043817379648 configuration_utils.py:256] loading configuration file https://s3.amazonaws.com/models.huggingface.co/bert/bert-base-uncased-config.json from cache at /home/yves/.cache/torch/transformers/4dad0251492946e18ac39290fcfe91b89d370fee250efe9521476438fe8ca185.8f56353af4a709bf5ff0fbc915d8f5b42bfff892cbb6ac98c3c45f481a03c685\n",
      "I0404 19:23:59.857311 140043817379648 configuration_utils.py:292] Model config BertConfig {\n",
      "  \"architectures\": [\n",
      "    \"BertForMaskedLM\"\n",
      "  ],\n",
      "  \"attention_probs_dropout_prob\": 0.1,\n",
      "  \"bos_token_id\": null,\n",
      "  \"do_sample\": false,\n",
      "  \"eos_token_ids\": null,\n",
      "  \"finetuning_task\": null,\n",
      "  \"hidden_act\": \"gelu\",\n",
      "  \"hidden_dropout_prob\": 0.1,\n",
      "  \"hidden_size\": 768,\n",
      "  \"id2label\": {\n",
      "    \"0\": \"LABEL_0\",\n",
      "    \"1\": \"LABEL_1\"\n",
      "  },\n",
      "  \"initializer_range\": 0.02,\n",
      "  \"intermediate_size\": 3072,\n",
      "  \"is_decoder\": false,\n",
      "  \"label2id\": {\n",
      "    \"LABEL_0\": 0,\n",
      "    \"LABEL_1\": 1\n",
      "  },\n",
      "  \"layer_norm_eps\": 1e-12,\n",
      "  \"length_penalty\": 1.0,\n",
      "  \"max_length\": 20,\n",
      "  \"max_position_embeddings\": 512,\n",
      "  \"model_type\": \"bert\",\n",
      "  \"num_attention_heads\": 12,\n",
      "  \"num_beams\": 1,\n",
      "  \"num_hidden_layers\": 12,\n",
      "  \"num_labels\": 16,\n",
      "  \"num_return_sequences\": 1,\n",
      "  \"output_attentions\": false,\n",
      "  \"output_hidden_states\": false,\n",
      "  \"output_past\": true,\n",
      "  \"pad_token_id\": null,\n",
      "  \"pruned_heads\": {},\n",
      "  \"repetition_penalty\": 1.0,\n",
      "  \"temperature\": 1.0,\n",
      "  \"top_k\": 50,\n",
      "  \"top_p\": 1.0,\n",
      "  \"torchscript\": false,\n",
      "  \"type_vocab_size\": 2,\n",
      "  \"use_bfloat16\": false,\n",
      "  \"vocab_size\": 30522\n",
      "}\n",
      "\n",
      "I0404 19:24:00.337587 140043817379648 modeling_utils.py:461] loading weights file https://s3.amazonaws.com/models.huggingface.co/bert/bert-base-uncased-pytorch_model.bin from cache at /home/yves/.cache/torch/transformers/aa1ef1aede4482d0dbcd4d52baad8ae300e60902e88fcb0bebdec09afd232066.36ca03ab34a1a5d5fa7bc3d03d55c4fa650fed07220e2eeebc06ce58d0e9a157\n",
      "I0404 19:24:01.887996 140043817379648 modeling_utils.py:546] Weights of BertForMultiLabelSequenceClassification not initialized from pretrained model: ['classifier.weight', 'classifier.bias']\n",
      "I0404 19:24:01.888647 140043817379648 modeling_utils.py:552] Weights from pretrained model not used in BertForMultiLabelSequenceClassification: ['cls.predictions.bias', 'cls.predictions.transform.dense.weight', 'cls.predictions.transform.dense.bias', 'cls.predictions.decoder.weight', 'cls.seq_relationship.weight', 'cls.seq_relationship.bias', 'cls.predictions.transform.LayerNorm.weight', 'cls.predictions.transform.LayerNorm.bias']\n",
      "\n",
      "\n",
      "\n",
      "Epoch:   0%|          | 0/100 [00:00<?, ?it/s]\u001b[A\u001b[A\u001b[A"
     ]
    },
    {
     "data": {
      "application/vnd.jupyter.widget-view+json": {
       "model_id": "f71372d2e26344b1acf30bd3d346fa92",
       "version_major": 2,
       "version_minor": 0
      },
      "text/plain": [
       "HBox(children=(IntProgress(value=0, description='Training iteration', max=29, style=ProgressStyle(description_…"
      ]
     },
     "metadata": {},
     "output_type": "display_data"
    },
    {
     "name": "stdout",
     "output_type": "stream",
     "text": [
      "\n"
     ]
    },
    {
     "data": {
      "application/vnd.jupyter.widget-view+json": {
       "model_id": "94e5ad35c90f4402afac090c113b1f57",
       "version_major": 2,
       "version_minor": 0
      },
      "text/plain": [
       "HBox(children=(IntProgress(value=0, description='Evaluation iteration', max=6, style=ProgressStyle(description…"
      ]
     },
     "metadata": {},
     "output_type": "display_data"
    },
    {
     "name": "stdout",
     "output_type": "stream",
     "text": [
      "\n",
      "Loss history: []\n",
      "Dev loss: 0.5703889032204946\n"
     ]
    },
    {
     "name": "stderr",
     "output_type": "stream",
     "text": [
      "\n",
      "\n",
      "\n",
      "Epoch:   1%|          | 1/100 [00:06<11:23,  6.91s/it]\u001b[A\u001b[A\u001b[A"
     ]
    },
    {
     "data": {
      "application/vnd.jupyter.widget-view+json": {
       "model_id": "937248a31ae84602a4b284cf87ca4d46",
       "version_major": 2,
       "version_minor": 0
      },
      "text/plain": [
       "HBox(children=(IntProgress(value=0, description='Training iteration', max=29, style=ProgressStyle(description_…"
      ]
     },
     "metadata": {},
     "output_type": "display_data"
    },
    {
     "name": "stdout",
     "output_type": "stream",
     "text": [
      "\n"
     ]
    },
    {
     "data": {
      "application/vnd.jupyter.widget-view+json": {
       "model_id": "41a74d6b7f9c4f5db72433e4fe5c4dae",
       "version_major": 2,
       "version_minor": 0
      },
      "text/plain": [
       "HBox(children=(IntProgress(value=0, description='Evaluation iteration', max=6, style=ProgressStyle(description…"
      ]
     },
     "metadata": {},
     "output_type": "display_data"
    },
    {
     "name": "stdout",
     "output_type": "stream",
     "text": [
      "\n",
      "Loss history: [0.5703889032204946]\n",
      "Dev loss: 0.45168088873227435\n"
     ]
    },
    {
     "name": "stderr",
     "output_type": "stream",
     "text": [
      "\n",
      "\n",
      "\n",
      "Epoch:   2%|▏         | 2/100 [00:13<11:17,  6.91s/it]\u001b[A\u001b[A\u001b[A"
     ]
    },
    {
     "data": {
      "application/vnd.jupyter.widget-view+json": {
       "model_id": "99848c16833c4e5686296e3b5484bff0",
       "version_major": 2,
       "version_minor": 0
      },
      "text/plain": [
       "HBox(children=(IntProgress(value=0, description='Training iteration', max=29, style=ProgressStyle(description_…"
      ]
     },
     "metadata": {},
     "output_type": "display_data"
    },
    {
     "name": "stdout",
     "output_type": "stream",
     "text": [
      "\n"
     ]
    },
    {
     "data": {
      "application/vnd.jupyter.widget-view+json": {
       "model_id": "fa892dd46a1145cab896283d82fee451",
       "version_major": 2,
       "version_minor": 0
      },
      "text/plain": [
       "HBox(children=(IntProgress(value=0, description='Evaluation iteration', max=6, style=ProgressStyle(description…"
      ]
     },
     "metadata": {},
     "output_type": "display_data"
    },
    {
     "name": "stdout",
     "output_type": "stream",
     "text": [
      "\n",
      "Loss history: [0.5703889032204946, 0.45168088873227435]\n",
      "Dev loss: 0.3713988810777664\n"
     ]
    },
    {
     "name": "stderr",
     "output_type": "stream",
     "text": [
      "\n",
      "\n",
      "\n",
      "Epoch:   3%|▎         | 3/100 [00:20<11:10,  6.91s/it]\u001b[A\u001b[A\u001b[A"
     ]
    },
    {
     "data": {
      "application/vnd.jupyter.widget-view+json": {
       "model_id": "38e6c3cde33c472c81b5ba21003b66f9",
       "version_major": 2,
       "version_minor": 0
      },
      "text/plain": [
       "HBox(children=(IntProgress(value=0, description='Training iteration', max=29, style=ProgressStyle(description_…"
      ]
     },
     "metadata": {},
     "output_type": "display_data"
    },
    {
     "name": "stdout",
     "output_type": "stream",
     "text": [
      "\n"
     ]
    },
    {
     "data": {
      "application/vnd.jupyter.widget-view+json": {
       "model_id": "cc675101ce1744eeba9d5157806c213d",
       "version_major": 2,
       "version_minor": 0
      },
      "text/plain": [
       "HBox(children=(IntProgress(value=0, description='Evaluation iteration', max=6, style=ProgressStyle(description…"
      ]
     },
     "metadata": {},
     "output_type": "display_data"
    },
    {
     "name": "stdout",
     "output_type": "stream",
     "text": [
      "\n",
      "Loss history: [0.5703889032204946, 0.45168088873227435, 0.3713988810777664]\n",
      "Dev loss: 0.31752805908521015\n"
     ]
    },
    {
     "name": "stderr",
     "output_type": "stream",
     "text": [
      "\n",
      "\n",
      "\n",
      "Epoch:   4%|▍         | 4/100 [00:27<11:03,  6.91s/it]\u001b[A\u001b[A\u001b[A"
     ]
    },
    {
     "data": {
      "application/vnd.jupyter.widget-view+json": {
       "model_id": "df7f90326f23417d81ac8176ecd15096",
       "version_major": 2,
       "version_minor": 0
      },
      "text/plain": [
       "HBox(children=(IntProgress(value=0, description='Training iteration', max=29, style=ProgressStyle(description_…"
      ]
     },
     "metadata": {},
     "output_type": "display_data"
    },
    {
     "name": "stdout",
     "output_type": "stream",
     "text": [
      "\n"
     ]
    },
    {
     "data": {
      "application/vnd.jupyter.widget-view+json": {
       "model_id": "b22b6c5d8c2a4538ad05882712a74ee4",
       "version_major": 2,
       "version_minor": 0
      },
      "text/plain": [
       "HBox(children=(IntProgress(value=0, description='Evaluation iteration', max=6, style=ProgressStyle(description…"
      ]
     },
     "metadata": {},
     "output_type": "display_data"
    },
    {
     "name": "stdout",
     "output_type": "stream",
     "text": [
      "\n",
      "Loss history: [0.5703889032204946, 0.45168088873227435, 0.3713988810777664, 0.31752805908521015]\n",
      "Dev loss: 0.2832884540160497\n"
     ]
    },
    {
     "name": "stderr",
     "output_type": "stream",
     "text": [
      "\n",
      "\n",
      "\n",
      "Epoch:   5%|▌         | 5/100 [00:34<10:56,  6.92s/it]\u001b[A\u001b[A\u001b[A"
     ]
    },
    {
     "data": {
      "application/vnd.jupyter.widget-view+json": {
       "model_id": "c9ceddc87f0344fda047aec396ac501f",
       "version_major": 2,
       "version_minor": 0
      },
      "text/plain": [
       "HBox(children=(IntProgress(value=0, description='Training iteration', max=29, style=ProgressStyle(description_…"
      ]
     },
     "metadata": {},
     "output_type": "display_data"
    },
    {
     "name": "stdout",
     "output_type": "stream",
     "text": [
      "\n"
     ]
    },
    {
     "data": {
      "application/vnd.jupyter.widget-view+json": {
       "model_id": "994949a2611d43acabbf13d5c277c189",
       "version_major": 2,
       "version_minor": 0
      },
      "text/plain": [
       "HBox(children=(IntProgress(value=0, description='Evaluation iteration', max=6, style=ProgressStyle(description…"
      ]
     },
     "metadata": {},
     "output_type": "display_data"
    },
    {
     "name": "stdout",
     "output_type": "stream",
     "text": [
      "\n",
      "Loss history: [0.5703889032204946, 0.45168088873227435, 0.3713988810777664, 0.31752805908521015, 0.2832884540160497]\n",
      "Dev loss: 0.2619638790686925\n"
     ]
    },
    {
     "name": "stderr",
     "output_type": "stream",
     "text": [
      "\n",
      "\n",
      "\n",
      "Epoch:   6%|▌         | 6/100 [00:41<10:50,  6.92s/it]\u001b[A\u001b[A\u001b[A"
     ]
    },
    {
     "data": {
      "application/vnd.jupyter.widget-view+json": {
       "model_id": "c31243339ec9470fb8bcf4274824509c",
       "version_major": 2,
       "version_minor": 0
      },
      "text/plain": [
       "HBox(children=(IntProgress(value=0, description='Training iteration', max=29, style=ProgressStyle(description_…"
      ]
     },
     "metadata": {},
     "output_type": "display_data"
    },
    {
     "name": "stdout",
     "output_type": "stream",
     "text": [
      "\n"
     ]
    },
    {
     "data": {
      "application/vnd.jupyter.widget-view+json": {
       "model_id": "261849ef23974d28b9b92c62f85d52aa",
       "version_major": 2,
       "version_minor": 0
      },
      "text/plain": [
       "HBox(children=(IntProgress(value=0, description='Evaluation iteration', max=6, style=ProgressStyle(description…"
      ]
     },
     "metadata": {},
     "output_type": "display_data"
    },
    {
     "name": "stdout",
     "output_type": "stream",
     "text": [
      "\n",
      "Loss history: [0.5703889032204946, 0.45168088873227435, 0.3713988810777664, 0.31752805908521015, 0.2832884540160497, 0.2619638790686925]\n",
      "Dev loss: 0.2481021930774053\n"
     ]
    },
    {
     "name": "stderr",
     "output_type": "stream",
     "text": [
      "\n",
      "\n",
      "\n",
      "Epoch:   7%|▋         | 7/100 [00:48<10:42,  6.91s/it]\u001b[A\u001b[A\u001b[A"
     ]
    },
    {
     "data": {
      "application/vnd.jupyter.widget-view+json": {
       "model_id": "9f69e2e805fe4a0eb6c1300b102401f4",
       "version_major": 2,
       "version_minor": 0
      },
      "text/plain": [
       "HBox(children=(IntProgress(value=0, description='Training iteration', max=29, style=ProgressStyle(description_…"
      ]
     },
     "metadata": {},
     "output_type": "display_data"
    },
    {
     "name": "stdout",
     "output_type": "stream",
     "text": [
      "\n"
     ]
    },
    {
     "data": {
      "application/vnd.jupyter.widget-view+json": {
       "model_id": "c0f0359901484f77bec4e2d51e3917e9",
       "version_major": 2,
       "version_minor": 0
      },
      "text/plain": [
       "HBox(children=(IntProgress(value=0, description='Evaluation iteration', max=6, style=ProgressStyle(description…"
      ]
     },
     "metadata": {},
     "output_type": "display_data"
    },
    {
     "name": "stdout",
     "output_type": "stream",
     "text": [
      "\n",
      "Loss history: [0.5703889032204946, 0.45168088873227435, 0.3713988810777664, 0.31752805908521015, 0.2832884540160497, 0.2619638790686925, 0.2481021930774053]\n",
      "Dev loss: 0.23104599366585413\n"
     ]
    },
    {
     "name": "stderr",
     "output_type": "stream",
     "text": [
      "\n",
      "\n",
      "\n",
      "Epoch:   8%|▊         | 8/100 [00:55<10:36,  6.92s/it]\u001b[A\u001b[A\u001b[A"
     ]
    },
    {
     "data": {
      "application/vnd.jupyter.widget-view+json": {
       "model_id": "a3dc2d006d414741bae30e9907816e30",
       "version_major": 2,
       "version_minor": 0
      },
      "text/plain": [
       "HBox(children=(IntProgress(value=0, description='Training iteration', max=29, style=ProgressStyle(description_…"
      ]
     },
     "metadata": {},
     "output_type": "display_data"
    },
    {
     "name": "stdout",
     "output_type": "stream",
     "text": [
      "\n"
     ]
    },
    {
     "data": {
      "application/vnd.jupyter.widget-view+json": {
       "model_id": "c883701908664d0bb6b2c303a8859f93",
       "version_major": 2,
       "version_minor": 0
      },
      "text/plain": [
       "HBox(children=(IntProgress(value=0, description='Evaluation iteration', max=6, style=ProgressStyle(description…"
      ]
     },
     "metadata": {},
     "output_type": "display_data"
    },
    {
     "name": "stdout",
     "output_type": "stream",
     "text": [
      "\n",
      "Loss history: [0.5703889032204946, 0.45168088873227435, 0.3713988810777664, 0.31752805908521015, 0.2832884540160497, 0.2619638790686925, 0.2481021930774053, 0.23104599366585413]\n",
      "Dev loss: 0.20977324495712915\n"
     ]
    },
    {
     "name": "stderr",
     "output_type": "stream",
     "text": [
      "\n",
      "\n",
      "\n",
      "Epoch:   9%|▉         | 9/100 [01:02<10:29,  6.92s/it]\u001b[A\u001b[A\u001b[A"
     ]
    },
    {
     "data": {
      "application/vnd.jupyter.widget-view+json": {
       "model_id": "c5d672443b76476cb7653f967a3f9b61",
       "version_major": 2,
       "version_minor": 0
      },
      "text/plain": [
       "HBox(children=(IntProgress(value=0, description='Training iteration', max=29, style=ProgressStyle(description_…"
      ]
     },
     "metadata": {},
     "output_type": "display_data"
    },
    {
     "name": "stdout",
     "output_type": "stream",
     "text": [
      "\n"
     ]
    },
    {
     "data": {
      "application/vnd.jupyter.widget-view+json": {
       "model_id": "a87b6a098a71410293c5f6cf86f3ba39",
       "version_major": 2,
       "version_minor": 0
      },
      "text/plain": [
       "HBox(children=(IntProgress(value=0, description='Evaluation iteration', max=6, style=ProgressStyle(description…"
      ]
     },
     "metadata": {},
     "output_type": "display_data"
    },
    {
     "name": "stdout",
     "output_type": "stream",
     "text": [
      "\n",
      "Loss history: [0.5703889032204946, 0.45168088873227435, 0.3713988810777664, 0.31752805908521015, 0.2832884540160497, 0.2619638790686925, 0.2481021930774053, 0.23104599366585413, 0.20977324495712915]\n",
      "Dev loss: 0.19478107243776321\n"
     ]
    },
    {
     "name": "stderr",
     "output_type": "stream",
     "text": [
      "\n",
      "\n",
      "\n",
      "Epoch:  10%|█         | 10/100 [01:09<10:22,  6.92s/it]\u001b[A\u001b[A\u001b[A"
     ]
    },
    {
     "data": {
      "application/vnd.jupyter.widget-view+json": {
       "model_id": "272f5f5f659549998e9a88c4963fb0dc",
       "version_major": 2,
       "version_minor": 0
      },
      "text/plain": [
       "HBox(children=(IntProgress(value=0, description='Training iteration', max=29, style=ProgressStyle(description_…"
      ]
     },
     "metadata": {},
     "output_type": "display_data"
    },
    {
     "name": "stdout",
     "output_type": "stream",
     "text": [
      "\n"
     ]
    },
    {
     "data": {
      "application/vnd.jupyter.widget-view+json": {
       "model_id": "3b38fa91416043c8b4cc3d132f0960d0",
       "version_major": 2,
       "version_minor": 0
      },
      "text/plain": [
       "HBox(children=(IntProgress(value=0, description='Evaluation iteration', max=6, style=ProgressStyle(description…"
      ]
     },
     "metadata": {},
     "output_type": "display_data"
    },
    {
     "name": "stdout",
     "output_type": "stream",
     "text": [
      "\n",
      "Loss history: [0.5703889032204946, 0.45168088873227435, 0.3713988810777664, 0.31752805908521015, 0.2832884540160497, 0.2619638790686925, 0.2481021930774053, 0.23104599366585413, 0.20977324495712915, 0.19478107243776321]\n",
      "Dev loss: 0.18068071703116098\n"
     ]
    },
    {
     "name": "stderr",
     "output_type": "stream",
     "text": [
      "\n",
      "\n",
      "\n",
      "Epoch:  11%|█         | 11/100 [01:16<10:15,  6.92s/it]\u001b[A\u001b[A\u001b[A"
     ]
    },
    {
     "data": {
      "application/vnd.jupyter.widget-view+json": {
       "model_id": "8ed979d388c04e278b599770402116e5",
       "version_major": 2,
       "version_minor": 0
      },
      "text/plain": [
       "HBox(children=(IntProgress(value=0, description='Training iteration', max=29, style=ProgressStyle(description_…"
      ]
     },
     "metadata": {},
     "output_type": "display_data"
    },
    {
     "name": "stdout",
     "output_type": "stream",
     "text": [
      "\n"
     ]
    },
    {
     "data": {
      "application/vnd.jupyter.widget-view+json": {
       "model_id": "6d6a4974020e4e61a9db470890361222",
       "version_major": 2,
       "version_minor": 0
      },
      "text/plain": [
       "HBox(children=(IntProgress(value=0, description='Evaluation iteration', max=6, style=ProgressStyle(description…"
      ]
     },
     "metadata": {},
     "output_type": "display_data"
    },
    {
     "name": "stdout",
     "output_type": "stream",
     "text": [
      "\n",
      "Loss history: [0.5703889032204946, 0.45168088873227435, 0.3713988810777664, 0.31752805908521015, 0.2832884540160497, 0.2619638790686925, 0.2481021930774053, 0.23104599366585413, 0.20977324495712915, 0.19478107243776321, 0.18068071703116098]\n",
      "Dev loss: 0.17129809161027273\n"
     ]
    },
    {
     "name": "stderr",
     "output_type": "stream",
     "text": [
      "\n",
      "\n",
      "\n",
      "Epoch:  12%|█▏        | 12/100 [01:23<10:08,  6.92s/it]\u001b[A\u001b[A\u001b[A"
     ]
    },
    {
     "data": {
      "application/vnd.jupyter.widget-view+json": {
       "model_id": "cbb3a48cb4254a96816a64648c62c420",
       "version_major": 2,
       "version_minor": 0
      },
      "text/plain": [
       "HBox(children=(IntProgress(value=0, description='Training iteration', max=29, style=ProgressStyle(description_…"
      ]
     },
     "metadata": {},
     "output_type": "display_data"
    },
    {
     "name": "stdout",
     "output_type": "stream",
     "text": [
      "\n"
     ]
    },
    {
     "data": {
      "application/vnd.jupyter.widget-view+json": {
       "model_id": "f63e032a04564351aafc29f6da2aebf1",
       "version_major": 2,
       "version_minor": 0
      },
      "text/plain": [
       "HBox(children=(IntProgress(value=0, description='Evaluation iteration', max=6, style=ProgressStyle(description…"
      ]
     },
     "metadata": {},
     "output_type": "display_data"
    },
    {
     "name": "stdout",
     "output_type": "stream",
     "text": [
      "\n",
      "Loss history: [0.5703889032204946, 0.45168088873227435, 0.3713988810777664, 0.31752805908521015, 0.2832884540160497, 0.2619638790686925, 0.2481021930774053, 0.23104599366585413, 0.20977324495712915, 0.19478107243776321, 0.18068071703116098, 0.17129809161027273]\n",
      "Dev loss: 0.15991338839133581\n"
     ]
    },
    {
     "name": "stderr",
     "output_type": "stream",
     "text": [
      "\n",
      "\n",
      "\n",
      "Epoch:  13%|█▎        | 13/100 [01:29<10:02,  6.92s/it]\u001b[A\u001b[A\u001b[A"
     ]
    },
    {
     "data": {
      "application/vnd.jupyter.widget-view+json": {
       "model_id": "c6dbfa93650f4d4c9bba714edb9bb1c0",
       "version_major": 2,
       "version_minor": 0
      },
      "text/plain": [
       "HBox(children=(IntProgress(value=0, description='Training iteration', max=29, style=ProgressStyle(description_…"
      ]
     },
     "metadata": {},
     "output_type": "display_data"
    },
    {
     "name": "stdout",
     "output_type": "stream",
     "text": [
      "\n"
     ]
    },
    {
     "data": {
      "application/vnd.jupyter.widget-view+json": {
       "model_id": "5c9930a7020f407d932cef1b66ffae16",
       "version_major": 2,
       "version_minor": 0
      },
      "text/plain": [
       "HBox(children=(IntProgress(value=0, description='Evaluation iteration', max=6, style=ProgressStyle(description…"
      ]
     },
     "metadata": {},
     "output_type": "display_data"
    },
    {
     "name": "stdout",
     "output_type": "stream",
     "text": [
      "\n",
      "Loss history: [0.5703889032204946, 0.45168088873227435, 0.3713988810777664, 0.31752805908521015, 0.2832884540160497, 0.2619638790686925, 0.2481021930774053, 0.23104599366585413, 0.20977324495712915, 0.19478107243776321, 0.18068071703116098, 0.17129809161027273, 0.15991338839133581]\n",
      "Dev loss: 0.15267540762821832\n"
     ]
    },
    {
     "name": "stderr",
     "output_type": "stream",
     "text": [
      "\n",
      "\n",
      "\n",
      "Epoch:  14%|█▍        | 14/100 [01:36<09:55,  6.92s/it]\u001b[A\u001b[A\u001b[A"
     ]
    },
    {
     "data": {
      "application/vnd.jupyter.widget-view+json": {
       "model_id": "aa1b1cb4f095422cbef571ab5dcf0de4",
       "version_major": 2,
       "version_minor": 0
      },
      "text/plain": [
       "HBox(children=(IntProgress(value=0, description='Training iteration', max=29, style=ProgressStyle(description_…"
      ]
     },
     "metadata": {},
     "output_type": "display_data"
    },
    {
     "name": "stdout",
     "output_type": "stream",
     "text": [
      "\n"
     ]
    },
    {
     "data": {
      "application/vnd.jupyter.widget-view+json": {
       "model_id": "56eb7e2c7e2c44a9bc0f2e5389df997d",
       "version_major": 2,
       "version_minor": 0
      },
      "text/plain": [
       "HBox(children=(IntProgress(value=0, description='Evaluation iteration', max=6, style=ProgressStyle(description…"
      ]
     },
     "metadata": {},
     "output_type": "display_data"
    },
    {
     "name": "stdout",
     "output_type": "stream",
     "text": [
      "\n",
      "Loss history: [0.5703889032204946, 0.45168088873227435, 0.3713988810777664, 0.31752805908521015, 0.2832884540160497, 0.2619638790686925, 0.2481021930774053, 0.23104599366585413, 0.20977324495712915, 0.19478107243776321, 0.18068071703116098, 0.17129809161027273, 0.15991338839133581, 0.15267540762821832]\n",
      "Dev loss: 0.14439847196141878\n"
     ]
    },
    {
     "name": "stderr",
     "output_type": "stream",
     "text": [
      "\n",
      "\n",
      "\n",
      "Epoch:  15%|█▌        | 15/100 [01:43<09:48,  6.92s/it]\u001b[A\u001b[A\u001b[A"
     ]
    },
    {
     "data": {
      "application/vnd.jupyter.widget-view+json": {
       "model_id": "c6380e5943df41b6b12c8d7a7c7ed097",
       "version_major": 2,
       "version_minor": 0
      },
      "text/plain": [
       "HBox(children=(IntProgress(value=0, description='Training iteration', max=29, style=ProgressStyle(description_…"
      ]
     },
     "metadata": {},
     "output_type": "display_data"
    },
    {
     "name": "stdout",
     "output_type": "stream",
     "text": [
      "\n"
     ]
    },
    {
     "data": {
      "application/vnd.jupyter.widget-view+json": {
       "model_id": "3e66bdd842c648a08da88c7229a93870",
       "version_major": 2,
       "version_minor": 0
      },
      "text/plain": [
       "HBox(children=(IntProgress(value=0, description='Evaluation iteration', max=6, style=ProgressStyle(description…"
      ]
     },
     "metadata": {},
     "output_type": "display_data"
    },
    {
     "name": "stdout",
     "output_type": "stream",
     "text": [
      "\n",
      "Loss history: [0.5703889032204946, 0.45168088873227435, 0.3713988810777664, 0.31752805908521015, 0.2832884540160497, 0.2619638790686925, 0.2481021930774053, 0.23104599366585413, 0.20977324495712915, 0.19478107243776321, 0.18068071703116098, 0.17129809161027273, 0.15991338839133581, 0.15267540762821832, 0.14439847196141878]\n",
      "Dev loss: 0.14095059037208557\n"
     ]
    },
    {
     "name": "stderr",
     "output_type": "stream",
     "text": [
      "\n",
      "\n",
      "\n",
      "Epoch:  16%|█▌        | 16/100 [01:50<09:41,  6.92s/it]\u001b[A\u001b[A\u001b[A"
     ]
    },
    {
     "data": {
      "application/vnd.jupyter.widget-view+json": {
       "model_id": "c40355c766b845a4b2d9ac15bcbbbbe4",
       "version_major": 2,
       "version_minor": 0
      },
      "text/plain": [
       "HBox(children=(IntProgress(value=0, description='Training iteration', max=29, style=ProgressStyle(description_…"
      ]
     },
     "metadata": {},
     "output_type": "display_data"
    },
    {
     "name": "stdout",
     "output_type": "stream",
     "text": [
      "\n"
     ]
    },
    {
     "data": {
      "application/vnd.jupyter.widget-view+json": {
       "model_id": "3acc5adf00df4edcb8baea584728b880",
       "version_major": 2,
       "version_minor": 0
      },
      "text/plain": [
       "HBox(children=(IntProgress(value=0, description='Evaluation iteration', max=6, style=ProgressStyle(description…"
      ]
     },
     "metadata": {},
     "output_type": "display_data"
    },
    {
     "name": "stdout",
     "output_type": "stream",
     "text": [
      "\n",
      "Loss history: [0.5703889032204946, 0.45168088873227435, 0.3713988810777664, 0.31752805908521015, 0.2832884540160497, 0.2619638790686925, 0.2481021930774053, 0.23104599366585413, 0.20977324495712915, 0.19478107243776321, 0.18068071703116098, 0.17129809161027273, 0.15991338839133581, 0.15267540762821832, 0.14439847196141878, 0.14095059037208557]\n",
      "Dev loss: 0.13442849616209665\n"
     ]
    },
    {
     "name": "stderr",
     "output_type": "stream",
     "text": [
      "\n",
      "\n",
      "\n",
      "Epoch:  17%|█▋        | 17/100 [01:57<09:34,  6.92s/it]\u001b[A\u001b[A\u001b[A"
     ]
    },
    {
     "data": {
      "application/vnd.jupyter.widget-view+json": {
       "model_id": "b5ad553a071742448e514a567b81b0b8",
       "version_major": 2,
       "version_minor": 0
      },
      "text/plain": [
       "HBox(children=(IntProgress(value=0, description='Training iteration', max=29, style=ProgressStyle(description_…"
      ]
     },
     "metadata": {},
     "output_type": "display_data"
    },
    {
     "name": "stdout",
     "output_type": "stream",
     "text": [
      "\n"
     ]
    },
    {
     "data": {
      "application/vnd.jupyter.widget-view+json": {
       "model_id": "e50699aad42a4bff95313a780ae9f6c8",
       "version_major": 2,
       "version_minor": 0
      },
      "text/plain": [
       "HBox(children=(IntProgress(value=0, description='Evaluation iteration', max=6, style=ProgressStyle(description…"
      ]
     },
     "metadata": {},
     "output_type": "display_data"
    },
    {
     "name": "stdout",
     "output_type": "stream",
     "text": [
      "\n",
      "Loss history: [0.5703889032204946, 0.45168088873227435, 0.3713988810777664, 0.31752805908521015, 0.2832884540160497, 0.2619638790686925, 0.2481021930774053, 0.23104599366585413, 0.20977324495712915, 0.19478107243776321, 0.18068071703116098, 0.17129809161027273, 0.15991338839133581, 0.15267540762821832, 0.14439847196141878, 0.14095059037208557, 0.13442849616209665]\n",
      "Dev loss: 0.1295055498679479\n"
     ]
    },
    {
     "name": "stderr",
     "output_type": "stream",
     "text": [
      "\n",
      "\n",
      "\n",
      "Epoch:  18%|█▊        | 18/100 [02:04<09:27,  6.92s/it]\u001b[A\u001b[A\u001b[A"
     ]
    },
    {
     "data": {
      "application/vnd.jupyter.widget-view+json": {
       "model_id": "98ae3874431d4d1597b8625495189aeb",
       "version_major": 2,
       "version_minor": 0
      },
      "text/plain": [
       "HBox(children=(IntProgress(value=0, description='Training iteration', max=29, style=ProgressStyle(description_…"
      ]
     },
     "metadata": {},
     "output_type": "display_data"
    },
    {
     "name": "stdout",
     "output_type": "stream",
     "text": [
      "\n"
     ]
    },
    {
     "data": {
      "application/vnd.jupyter.widget-view+json": {
       "model_id": "fd681bf4c3964d5ebe47b2aedd678fc2",
       "version_major": 2,
       "version_minor": 0
      },
      "text/plain": [
       "HBox(children=(IntProgress(value=0, description='Evaluation iteration', max=6, style=ProgressStyle(description…"
      ]
     },
     "metadata": {},
     "output_type": "display_data"
    },
    {
     "name": "stdout",
     "output_type": "stream",
     "text": [
      "\n",
      "Loss history: [0.5703889032204946, 0.45168088873227435, 0.3713988810777664, 0.31752805908521015, 0.2832884540160497, 0.2619638790686925, 0.2481021930774053, 0.23104599366585413, 0.20977324495712915, 0.19478107243776321, 0.18068071703116098, 0.17129809161027273, 0.15991338839133581, 0.15267540762821832, 0.14439847196141878, 0.14095059037208557, 0.13442849616209665, 0.1295055498679479]\n",
      "Dev loss: 0.12575887019435564\n"
     ]
    },
    {
     "name": "stderr",
     "output_type": "stream",
     "text": [
      "\n",
      "\n",
      "\n",
      "Epoch:  19%|█▉        | 19/100 [02:11<09:20,  6.92s/it]\u001b[A\u001b[A\u001b[A"
     ]
    },
    {
     "data": {
      "application/vnd.jupyter.widget-view+json": {
       "model_id": "c2f5f3e1fe0e4a3bae918f61ebed696c",
       "version_major": 2,
       "version_minor": 0
      },
      "text/plain": [
       "HBox(children=(IntProgress(value=0, description='Training iteration', max=29, style=ProgressStyle(description_…"
      ]
     },
     "metadata": {},
     "output_type": "display_data"
    },
    {
     "name": "stdout",
     "output_type": "stream",
     "text": [
      "\n"
     ]
    },
    {
     "data": {
      "application/vnd.jupyter.widget-view+json": {
       "model_id": "b4035be3e16f4fc2a341851e2f4b051e",
       "version_major": 2,
       "version_minor": 0
      },
      "text/plain": [
       "HBox(children=(IntProgress(value=0, description='Evaluation iteration', max=6, style=ProgressStyle(description…"
      ]
     },
     "metadata": {},
     "output_type": "display_data"
    },
    {
     "name": "stdout",
     "output_type": "stream",
     "text": [
      "\n",
      "Loss history: [0.5703889032204946, 0.45168088873227435, 0.3713988810777664, 0.31752805908521015, 0.2832884540160497, 0.2619638790686925, 0.2481021930774053, 0.23104599366585413, 0.20977324495712915, 0.19478107243776321, 0.18068071703116098, 0.17129809161027273, 0.15991338839133581, 0.15267540762821832, 0.14439847196141878, 0.14095059037208557, 0.13442849616209665, 0.1295055498679479, 0.12575887019435564]\n",
      "Dev loss: 0.12197569881876309\n"
     ]
    },
    {
     "name": "stderr",
     "output_type": "stream",
     "text": [
      "\n",
      "\n",
      "\n",
      "Epoch:  20%|██        | 20/100 [02:18<09:13,  6.92s/it]\u001b[A\u001b[A\u001b[A"
     ]
    },
    {
     "data": {
      "application/vnd.jupyter.widget-view+json": {
       "model_id": "22894d016c3c4f5fbb8ccc690cce4d20",
       "version_major": 2,
       "version_minor": 0
      },
      "text/plain": [
       "HBox(children=(IntProgress(value=0, description='Training iteration', max=29, style=ProgressStyle(description_…"
      ]
     },
     "metadata": {},
     "output_type": "display_data"
    },
    {
     "name": "stdout",
     "output_type": "stream",
     "text": [
      "\n"
     ]
    },
    {
     "data": {
      "application/vnd.jupyter.widget-view+json": {
       "model_id": "c98afaa84d2549c6a07107242e8d3db5",
       "version_major": 2,
       "version_minor": 0
      },
      "text/plain": [
       "HBox(children=(IntProgress(value=0, description='Evaluation iteration', max=6, style=ProgressStyle(description…"
      ]
     },
     "metadata": {},
     "output_type": "display_data"
    },
    {
     "name": "stdout",
     "output_type": "stream",
     "text": [
      "\n",
      "Loss history: [0.5703889032204946, 0.45168088873227435, 0.3713988810777664, 0.31752805908521015, 0.2832884540160497, 0.2619638790686925, 0.2481021930774053, 0.23104599366585413, 0.20977324495712915, 0.19478107243776321, 0.18068071703116098, 0.17129809161027273, 0.15991338839133581, 0.15267540762821832, 0.14439847196141878, 0.14095059037208557, 0.13442849616209665, 0.1295055498679479, 0.12575887019435564, 0.12197569881876309]\n",
      "Dev loss: 0.11888336762785912\n"
     ]
    },
    {
     "name": "stderr",
     "output_type": "stream",
     "text": [
      "\n",
      "\n",
      "\n",
      "Epoch:  21%|██        | 21/100 [02:25<09:06,  6.92s/it]\u001b[A\u001b[A\u001b[A"
     ]
    },
    {
     "data": {
      "application/vnd.jupyter.widget-view+json": {
       "model_id": "f5dac2bd075f441f9afb8f37f144c625",
       "version_major": 2,
       "version_minor": 0
      },
      "text/plain": [
       "HBox(children=(IntProgress(value=0, description='Training iteration', max=29, style=ProgressStyle(description_…"
      ]
     },
     "metadata": {},
     "output_type": "display_data"
    },
    {
     "name": "stdout",
     "output_type": "stream",
     "text": [
      "\n"
     ]
    },
    {
     "data": {
      "application/vnd.jupyter.widget-view+json": {
       "model_id": "0936b3d5250045a7b480bd42fe8661fa",
       "version_major": 2,
       "version_minor": 0
      },
      "text/plain": [
       "HBox(children=(IntProgress(value=0, description='Evaluation iteration', max=6, style=ProgressStyle(description…"
      ]
     },
     "metadata": {},
     "output_type": "display_data"
    },
    {
     "name": "stdout",
     "output_type": "stream",
     "text": [
      "\n",
      "Loss history: [0.5703889032204946, 0.45168088873227435, 0.3713988810777664, 0.31752805908521015, 0.2832884540160497, 0.2619638790686925, 0.2481021930774053, 0.23104599366585413, 0.20977324495712915, 0.19478107243776321, 0.18068071703116098, 0.17129809161027273, 0.15991338839133581, 0.15267540762821832, 0.14439847196141878, 0.14095059037208557, 0.13442849616209665, 0.1295055498679479, 0.12575887019435564, 0.12197569881876309, 0.11888336762785912]\n",
      "Dev loss: 0.11620859305063884\n"
     ]
    },
    {
     "name": "stderr",
     "output_type": "stream",
     "text": [
      "\n",
      "\n",
      "\n",
      "Epoch:  22%|██▏       | 22/100 [02:32<09:00,  6.92s/it]\u001b[A\u001b[A\u001b[A"
     ]
    },
    {
     "data": {
      "application/vnd.jupyter.widget-view+json": {
       "model_id": "a7afbfe20a5040ecb54d85a3254079b4",
       "version_major": 2,
       "version_minor": 0
      },
      "text/plain": [
       "HBox(children=(IntProgress(value=0, description='Training iteration', max=29, style=ProgressStyle(description_…"
      ]
     },
     "metadata": {},
     "output_type": "display_data"
    },
    {
     "name": "stdout",
     "output_type": "stream",
     "text": [
      "\n"
     ]
    },
    {
     "data": {
      "application/vnd.jupyter.widget-view+json": {
       "model_id": "0ca8957694c8436086ebe73f281cf152",
       "version_major": 2,
       "version_minor": 0
      },
      "text/plain": [
       "HBox(children=(IntProgress(value=0, description='Evaluation iteration', max=6, style=ProgressStyle(description…"
      ]
     },
     "metadata": {},
     "output_type": "display_data"
    },
    {
     "name": "stdout",
     "output_type": "stream",
     "text": [
      "\n",
      "Loss history: [0.5703889032204946, 0.45168088873227435, 0.3713988810777664, 0.31752805908521015, 0.2832884540160497, 0.2619638790686925, 0.2481021930774053, 0.23104599366585413, 0.20977324495712915, 0.19478107243776321, 0.18068071703116098, 0.17129809161027273, 0.15991338839133581, 0.15267540762821832, 0.14439847196141878, 0.14095059037208557, 0.13442849616209665, 0.1295055498679479, 0.12575887019435564, 0.12197569881876309, 0.11888336762785912, 0.11620859305063884]\n",
      "Dev loss: 0.1141701266169548\n"
     ]
    },
    {
     "name": "stderr",
     "output_type": "stream",
     "text": [
      "\n",
      "\n",
      "\n",
      "Epoch:  23%|██▎       | 23/100 [02:39<08:53,  6.92s/it]\u001b[A\u001b[A\u001b[A"
     ]
    },
    {
     "data": {
      "application/vnd.jupyter.widget-view+json": {
       "model_id": "c61f85c8237641f4b943423275064c22",
       "version_major": 2,
       "version_minor": 0
      },
      "text/plain": [
       "HBox(children=(IntProgress(value=0, description='Training iteration', max=29, style=ProgressStyle(description_…"
      ]
     },
     "metadata": {},
     "output_type": "display_data"
    },
    {
     "name": "stdout",
     "output_type": "stream",
     "text": [
      "\n"
     ]
    },
    {
     "data": {
      "application/vnd.jupyter.widget-view+json": {
       "model_id": "a75276da226548a88bf2b72e778b47df",
       "version_major": 2,
       "version_minor": 0
      },
      "text/plain": [
       "HBox(children=(IntProgress(value=0, description='Evaluation iteration', max=6, style=ProgressStyle(description…"
      ]
     },
     "metadata": {},
     "output_type": "display_data"
    },
    {
     "name": "stderr",
     "output_type": "stream",
     "text": [
      "\n",
      "\n",
      "\n",
      "Epoch:  24%|██▍       | 24/100 [02:45<08:35,  6.78s/it]\u001b[A\u001b[A\u001b[A"
     ]
    },
    {
     "name": "stdout",
     "output_type": "stream",
     "text": [
      "\n",
      "Loss history: [0.5703889032204946, 0.45168088873227435, 0.3713988810777664, 0.31752805908521015, 0.2832884540160497, 0.2619638790686925, 0.2481021930774053, 0.23104599366585413, 0.20977324495712915, 0.19478107243776321, 0.18068071703116098, 0.17129809161027273, 0.15991338839133581, 0.15267540762821832, 0.14439847196141878, 0.14095059037208557, 0.13442849616209665, 0.1295055498679479, 0.12575887019435564, 0.12197569881876309, 0.11888336762785912, 0.11620859305063884, 0.1141701266169548]\n",
      "Dev loss: 0.11486967901388805\n"
     ]
    },
    {
     "data": {
      "application/vnd.jupyter.widget-view+json": {
       "model_id": "cf179d0575d9403694e36b4372ecc037",
       "version_major": 2,
       "version_minor": 0
      },
      "text/plain": [
       "HBox(children=(IntProgress(value=0, description='Training iteration', max=29, style=ProgressStyle(description_…"
      ]
     },
     "metadata": {},
     "output_type": "display_data"
    },
    {
     "name": "stdout",
     "output_type": "stream",
     "text": [
      "\n"
     ]
    },
    {
     "data": {
      "application/vnd.jupyter.widget-view+json": {
       "model_id": "4e1de5dfcd724aaab725097dafea724b",
       "version_major": 2,
       "version_minor": 0
      },
      "text/plain": [
       "HBox(children=(IntProgress(value=0, description='Evaluation iteration', max=6, style=ProgressStyle(description…"
      ]
     },
     "metadata": {},
     "output_type": "display_data"
    },
    {
     "name": "stdout",
     "output_type": "stream",
     "text": [
      "\n",
      "Loss history: [0.5703889032204946, 0.45168088873227435, 0.3713988810777664, 0.31752805908521015, 0.2832884540160497, 0.2619638790686925, 0.2481021930774053, 0.23104599366585413, 0.20977324495712915, 0.19478107243776321, 0.18068071703116098, 0.17129809161027273, 0.15991338839133581, 0.15267540762821832, 0.14439847196141878, 0.14095059037208557, 0.13442849616209665, 0.1295055498679479, 0.12575887019435564, 0.12197569881876309, 0.11888336762785912, 0.11620859305063884, 0.1141701266169548, 0.11486967901388805]\n",
      "Dev loss: 0.10919986541072528\n"
     ]
    },
    {
     "name": "stderr",
     "output_type": "stream",
     "text": [
      "\n",
      "\n",
      "\n",
      "Epoch:  25%|██▌       | 25/100 [02:52<08:31,  6.83s/it]\u001b[A\u001b[A\u001b[A"
     ]
    },
    {
     "data": {
      "application/vnd.jupyter.widget-view+json": {
       "model_id": "d96b53906bd541e1ab87cee07d737583",
       "version_major": 2,
       "version_minor": 0
      },
      "text/plain": [
       "HBox(children=(IntProgress(value=0, description='Training iteration', max=29, style=ProgressStyle(description_…"
      ]
     },
     "metadata": {},
     "output_type": "display_data"
    },
    {
     "name": "stdout",
     "output_type": "stream",
     "text": [
      "\n"
     ]
    },
    {
     "data": {
      "application/vnd.jupyter.widget-view+json": {
       "model_id": "fdd65f69de374d66bcfc827fc90f5f9d",
       "version_major": 2,
       "version_minor": 0
      },
      "text/plain": [
       "HBox(children=(IntProgress(value=0, description='Evaluation iteration', max=6, style=ProgressStyle(description…"
      ]
     },
     "metadata": {},
     "output_type": "display_data"
    },
    {
     "name": "stdout",
     "output_type": "stream",
     "text": [
      "\n",
      "Loss history: [0.5703889032204946, 0.45168088873227435, 0.3713988810777664, 0.31752805908521015, 0.2832884540160497, 0.2619638790686925, 0.2481021930774053, 0.23104599366585413, 0.20977324495712915, 0.19478107243776321, 0.18068071703116098, 0.17129809161027273, 0.15991338839133581, 0.15267540762821832, 0.14439847196141878, 0.14095059037208557, 0.13442849616209665, 0.1295055498679479, 0.12575887019435564, 0.12197569881876309, 0.11888336762785912, 0.11620859305063884, 0.1141701266169548, 0.11486967901388805, 0.10919986541072528]\n",
      "Dev loss: 0.10814833516875903\n"
     ]
    },
    {
     "name": "stderr",
     "output_type": "stream",
     "text": [
      "\n",
      "\n",
      "\n",
      "Epoch:  26%|██▌       | 26/100 [02:59<08:27,  6.85s/it]\u001b[A\u001b[A\u001b[A"
     ]
    },
    {
     "data": {
      "application/vnd.jupyter.widget-view+json": {
       "model_id": "9b526362b30745b4958a23b98dd15322",
       "version_major": 2,
       "version_minor": 0
      },
      "text/plain": [
       "HBox(children=(IntProgress(value=0, description='Training iteration', max=29, style=ProgressStyle(description_…"
      ]
     },
     "metadata": {},
     "output_type": "display_data"
    },
    {
     "name": "stdout",
     "output_type": "stream",
     "text": [
      "\n"
     ]
    },
    {
     "data": {
      "application/vnd.jupyter.widget-view+json": {
       "model_id": "b3bc7294cd224d3f93b671bcb97ee24c",
       "version_major": 2,
       "version_minor": 0
      },
      "text/plain": [
       "HBox(children=(IntProgress(value=0, description='Evaluation iteration', max=6, style=ProgressStyle(description…"
      ]
     },
     "metadata": {},
     "output_type": "display_data"
    },
    {
     "name": "stdout",
     "output_type": "stream",
     "text": [
      "\n",
      "Loss history: [0.5703889032204946, 0.45168088873227435, 0.3713988810777664, 0.31752805908521015, 0.2832884540160497, 0.2619638790686925, 0.2481021930774053, 0.23104599366585413, 0.20977324495712915, 0.19478107243776321, 0.18068071703116098, 0.17129809161027273, 0.15991338839133581, 0.15267540762821832, 0.14439847196141878, 0.14095059037208557, 0.13442849616209665, 0.1295055498679479, 0.12575887019435564, 0.12197569881876309, 0.11888336762785912, 0.11620859305063884, 0.1141701266169548, 0.11486967901388805, 0.10919986541072528, 0.10814833516875903]\n",
      "Dev loss: 0.10605745017528534\n"
     ]
    },
    {
     "name": "stderr",
     "output_type": "stream",
     "text": [
      "\n",
      "\n",
      "\n",
      "Epoch:  27%|██▋       | 27/100 [03:06<08:21,  6.87s/it]\u001b[A\u001b[A\u001b[A"
     ]
    },
    {
     "data": {
      "application/vnd.jupyter.widget-view+json": {
       "model_id": "94d2f1bf15464e8aa381d8887b39d9ab",
       "version_major": 2,
       "version_minor": 0
      },
      "text/plain": [
       "HBox(children=(IntProgress(value=0, description='Training iteration', max=29, style=ProgressStyle(description_…"
      ]
     },
     "metadata": {},
     "output_type": "display_data"
    },
    {
     "name": "stdout",
     "output_type": "stream",
     "text": [
      "\n"
     ]
    },
    {
     "data": {
      "application/vnd.jupyter.widget-view+json": {
       "model_id": "79427d3933ce431dbe0ed0516fcc4fd8",
       "version_major": 2,
       "version_minor": 0
      },
      "text/plain": [
       "HBox(children=(IntProgress(value=0, description='Evaluation iteration', max=6, style=ProgressStyle(description…"
      ]
     },
     "metadata": {},
     "output_type": "display_data"
    },
    {
     "name": "stdout",
     "output_type": "stream",
     "text": [
      "\n",
      "Loss history: [0.5703889032204946, 0.45168088873227435, 0.3713988810777664, 0.31752805908521015, 0.2832884540160497, 0.2619638790686925, 0.2481021930774053, 0.23104599366585413, 0.20977324495712915, 0.19478107243776321, 0.18068071703116098, 0.17129809161027273, 0.15991338839133581, 0.15267540762821832, 0.14439847196141878, 0.14095059037208557, 0.13442849616209665, 0.1295055498679479, 0.12575887019435564, 0.12197569881876309, 0.11888336762785912, 0.11620859305063884, 0.1141701266169548, 0.11486967901388805, 0.10919986541072528, 0.10814833516875903, 0.10605745017528534]\n",
      "Dev loss: 0.10507416725158691\n"
     ]
    },
    {
     "name": "stderr",
     "output_type": "stream",
     "text": [
      "\n",
      "\n",
      "\n",
      "Epoch:  28%|██▊       | 28/100 [03:13<08:15,  6.89s/it]\u001b[A\u001b[A\u001b[A"
     ]
    },
    {
     "data": {
      "application/vnd.jupyter.widget-view+json": {
       "model_id": "5c014e7f3dca44f59666ea78762880f8",
       "version_major": 2,
       "version_minor": 0
      },
      "text/plain": [
       "HBox(children=(IntProgress(value=0, description='Training iteration', max=29, style=ProgressStyle(description_…"
      ]
     },
     "metadata": {},
     "output_type": "display_data"
    },
    {
     "name": "stdout",
     "output_type": "stream",
     "text": [
      "\n"
     ]
    },
    {
     "data": {
      "application/vnd.jupyter.widget-view+json": {
       "model_id": "2d8bfbcc46404476a88bd50ecee2dbcb",
       "version_major": 2,
       "version_minor": 0
      },
      "text/plain": [
       "HBox(children=(IntProgress(value=0, description='Evaluation iteration', max=6, style=ProgressStyle(description…"
      ]
     },
     "metadata": {},
     "output_type": "display_data"
    },
    {
     "name": "stdout",
     "output_type": "stream",
     "text": [
      "\n",
      "Loss history: [0.5703889032204946, 0.45168088873227435, 0.3713988810777664, 0.31752805908521015, 0.2832884540160497, 0.2619638790686925, 0.2481021930774053, 0.23104599366585413, 0.20977324495712915, 0.19478107243776321, 0.18068071703116098, 0.17129809161027273, 0.15991338839133581, 0.15267540762821832, 0.14439847196141878, 0.14095059037208557, 0.13442849616209665, 0.1295055498679479, 0.12575887019435564, 0.12197569881876309, 0.11888336762785912, 0.11620859305063884, 0.1141701266169548, 0.11486967901388805, 0.10919986541072528, 0.10814833516875903, 0.10605745017528534, 0.10507416725158691]\n",
      "Dev loss: 0.10250762601693471\n"
     ]
    },
    {
     "name": "stderr",
     "output_type": "stream",
     "text": [
      "\n",
      "\n",
      "\n",
      "Epoch:  29%|██▉       | 29/100 [03:20<08:09,  6.89s/it]\u001b[A\u001b[A\u001b[A"
     ]
    },
    {
     "data": {
      "application/vnd.jupyter.widget-view+json": {
       "model_id": "c699e147250d43b3a6b1e49f64450cbf",
       "version_major": 2,
       "version_minor": 0
      },
      "text/plain": [
       "HBox(children=(IntProgress(value=0, description='Training iteration', max=29, style=ProgressStyle(description_…"
      ]
     },
     "metadata": {},
     "output_type": "display_data"
    },
    {
     "name": "stdout",
     "output_type": "stream",
     "text": [
      "\n"
     ]
    },
    {
     "data": {
      "application/vnd.jupyter.widget-view+json": {
       "model_id": "1427df953ebd4774ac07a1c1a6cb8e7b",
       "version_major": 2,
       "version_minor": 0
      },
      "text/plain": [
       "HBox(children=(IntProgress(value=0, description='Evaluation iteration', max=6, style=ProgressStyle(description…"
      ]
     },
     "metadata": {},
     "output_type": "display_data"
    },
    {
     "name": "stdout",
     "output_type": "stream",
     "text": [
      "\n",
      "Loss history: [0.5703889032204946, 0.45168088873227435, 0.3713988810777664, 0.31752805908521015, 0.2832884540160497, 0.2619638790686925, 0.2481021930774053, 0.23104599366585413, 0.20977324495712915, 0.19478107243776321, 0.18068071703116098, 0.17129809161027273, 0.15991338839133581, 0.15267540762821832, 0.14439847196141878, 0.14095059037208557, 0.13442849616209665, 0.1295055498679479, 0.12575887019435564, 0.12197569881876309, 0.11888336762785912, 0.11620859305063884, 0.1141701266169548, 0.11486967901388805, 0.10919986541072528, 0.10814833516875903, 0.10605745017528534, 0.10507416725158691, 0.10250762601693471]\n",
      "Dev loss: 0.10089514156182607\n"
     ]
    },
    {
     "name": "stderr",
     "output_type": "stream",
     "text": [
      "\n",
      "\n",
      "\n",
      "Epoch:  30%|███       | 30/100 [03:27<08:03,  6.90s/it]\u001b[A\u001b[A\u001b[A"
     ]
    },
    {
     "data": {
      "application/vnd.jupyter.widget-view+json": {
       "model_id": "483569a031df402884f65b423396be1f",
       "version_major": 2,
       "version_minor": 0
      },
      "text/plain": [
       "HBox(children=(IntProgress(value=0, description='Training iteration', max=29, style=ProgressStyle(description_…"
      ]
     },
     "metadata": {},
     "output_type": "display_data"
    },
    {
     "name": "stdout",
     "output_type": "stream",
     "text": [
      "\n"
     ]
    },
    {
     "data": {
      "application/vnd.jupyter.widget-view+json": {
       "model_id": "33d91461151d471b891750aeeab772aa",
       "version_major": 2,
       "version_minor": 0
      },
      "text/plain": [
       "HBox(children=(IntProgress(value=0, description='Evaluation iteration', max=6, style=ProgressStyle(description…"
      ]
     },
     "metadata": {},
     "output_type": "display_data"
    },
    {
     "name": "stderr",
     "output_type": "stream",
     "text": [
      "\n",
      "\n",
      "\n",
      "Epoch:  31%|███       | 31/100 [03:33<07:47,  6.77s/it]\u001b[A\u001b[A\u001b[A"
     ]
    },
    {
     "name": "stdout",
     "output_type": "stream",
     "text": [
      "\n",
      "Loss history: [0.5703889032204946, 0.45168088873227435, 0.3713988810777664, 0.31752805908521015, 0.2832884540160497, 0.2619638790686925, 0.2481021930774053, 0.23104599366585413, 0.20977324495712915, 0.19478107243776321, 0.18068071703116098, 0.17129809161027273, 0.15991338839133581, 0.15267540762821832, 0.14439847196141878, 0.14095059037208557, 0.13442849616209665, 0.1295055498679479, 0.12575887019435564, 0.12197569881876309, 0.11888336762785912, 0.11620859305063884, 0.1141701266169548, 0.11486967901388805, 0.10919986541072528, 0.10814833516875903, 0.10605745017528534, 0.10507416725158691, 0.10250762601693471, 0.10089514156182607]\n",
      "Dev loss: 0.10192418346802394\n"
     ]
    },
    {
     "data": {
      "application/vnd.jupyter.widget-view+json": {
       "model_id": "0a345e7fcbe94565b0b3f928f47e758d",
       "version_major": 2,
       "version_minor": 0
      },
      "text/plain": [
       "HBox(children=(IntProgress(value=0, description='Training iteration', max=29, style=ProgressStyle(description_…"
      ]
     },
     "metadata": {},
     "output_type": "display_data"
    },
    {
     "name": "stdout",
     "output_type": "stream",
     "text": [
      "\n"
     ]
    },
    {
     "data": {
      "application/vnd.jupyter.widget-view+json": {
       "model_id": "e1cae0e840c2471f9a16c80b4cd6a490",
       "version_major": 2,
       "version_minor": 0
      },
      "text/plain": [
       "HBox(children=(IntProgress(value=0, description='Evaluation iteration', max=6, style=ProgressStyle(description…"
      ]
     },
     "metadata": {},
     "output_type": "display_data"
    },
    {
     "name": "stdout",
     "output_type": "stream",
     "text": [
      "\n",
      "Loss history: [0.5703889032204946, 0.45168088873227435, 0.3713988810777664, 0.31752805908521015, 0.2832884540160497, 0.2619638790686925, 0.2481021930774053, 0.23104599366585413, 0.20977324495712915, 0.19478107243776321, 0.18068071703116098, 0.17129809161027273, 0.15991338839133581, 0.15267540762821832, 0.14439847196141878, 0.14095059037208557, 0.13442849616209665, 0.1295055498679479, 0.12575887019435564, 0.12197569881876309, 0.11888336762785912, 0.11620859305063884, 0.1141701266169548, 0.11486967901388805, 0.10919986541072528, 0.10814833516875903, 0.10605745017528534, 0.10507416725158691, 0.10250762601693471, 0.10089514156182607, 0.10192418346802394]\n",
      "Dev loss: 0.09975786631306012\n"
     ]
    },
    {
     "name": "stderr",
     "output_type": "stream",
     "text": [
      "\n",
      "\n",
      "\n",
      "Epoch:  32%|███▏      | 32/100 [03:40<07:43,  6.81s/it]\u001b[A\u001b[A\u001b[A"
     ]
    },
    {
     "data": {
      "application/vnd.jupyter.widget-view+json": {
       "model_id": "0369a0c8f0fb49d59b62cfa256f69435",
       "version_major": 2,
       "version_minor": 0
      },
      "text/plain": [
       "HBox(children=(IntProgress(value=0, description='Training iteration', max=29, style=ProgressStyle(description_…"
      ]
     },
     "metadata": {},
     "output_type": "display_data"
    },
    {
     "name": "stdout",
     "output_type": "stream",
     "text": [
      "\n"
     ]
    },
    {
     "data": {
      "application/vnd.jupyter.widget-view+json": {
       "model_id": "818f08a1a4114badb0ead8e61d4b9ba9",
       "version_major": 2,
       "version_minor": 0
      },
      "text/plain": [
       "HBox(children=(IntProgress(value=0, description='Evaluation iteration', max=6, style=ProgressStyle(description…"
      ]
     },
     "metadata": {},
     "output_type": "display_data"
    },
    {
     "name": "stdout",
     "output_type": "stream",
     "text": [
      "\n",
      "Loss history: [0.5703889032204946, 0.45168088873227435, 0.3713988810777664, 0.31752805908521015, 0.2832884540160497, 0.2619638790686925, 0.2481021930774053, 0.23104599366585413, 0.20977324495712915, 0.19478107243776321, 0.18068071703116098, 0.17129809161027273, 0.15991338839133581, 0.15267540762821832, 0.14439847196141878, 0.14095059037208557, 0.13442849616209665, 0.1295055498679479, 0.12575887019435564, 0.12197569881876309, 0.11888336762785912, 0.11620859305063884, 0.1141701266169548, 0.11486967901388805, 0.10919986541072528, 0.10814833516875903, 0.10605745017528534, 0.10507416725158691, 0.10250762601693471, 0.10089514156182607, 0.10192418346802394, 0.09975786631306012]\n",
      "Dev loss: 0.09757911786437035\n"
     ]
    },
    {
     "name": "stderr",
     "output_type": "stream",
     "text": [
      "\n",
      "\n",
      "\n",
      "Epoch:  33%|███▎      | 33/100 [03:47<07:38,  6.85s/it]\u001b[A\u001b[A\u001b[A"
     ]
    },
    {
     "data": {
      "application/vnd.jupyter.widget-view+json": {
       "model_id": "2b8dda834e1548a595e9729297c0d3e9",
       "version_major": 2,
       "version_minor": 0
      },
      "text/plain": [
       "HBox(children=(IntProgress(value=0, description='Training iteration', max=29, style=ProgressStyle(description_…"
      ]
     },
     "metadata": {},
     "output_type": "display_data"
    },
    {
     "name": "stdout",
     "output_type": "stream",
     "text": [
      "\n"
     ]
    },
    {
     "data": {
      "application/vnd.jupyter.widget-view+json": {
       "model_id": "9d9e463acf734f5ebf72c691975792b5",
       "version_major": 2,
       "version_minor": 0
      },
      "text/plain": [
       "HBox(children=(IntProgress(value=0, description='Evaluation iteration', max=6, style=ProgressStyle(description…"
      ]
     },
     "metadata": {},
     "output_type": "display_data"
    },
    {
     "name": "stdout",
     "output_type": "stream",
     "text": [
      "\n",
      "Loss history: [0.5703889032204946, 0.45168088873227435, 0.3713988810777664, 0.31752805908521015, 0.2832884540160497, 0.2619638790686925, 0.2481021930774053, 0.23104599366585413, 0.20977324495712915, 0.19478107243776321, 0.18068071703116098, 0.17129809161027273, 0.15991338839133581, 0.15267540762821832, 0.14439847196141878, 0.14095059037208557, 0.13442849616209665, 0.1295055498679479, 0.12575887019435564, 0.12197569881876309, 0.11888336762785912, 0.11620859305063884, 0.1141701266169548, 0.11486967901388805, 0.10919986541072528, 0.10814833516875903, 0.10605745017528534, 0.10507416725158691, 0.10250762601693471, 0.10089514156182607, 0.10192418346802394, 0.09975786631306012, 0.09757911786437035]\n",
      "Dev loss: 0.09584837158521016\n"
     ]
    },
    {
     "name": "stderr",
     "output_type": "stream",
     "text": [
      "\n",
      "\n",
      "\n",
      "Epoch:  34%|███▍      | 34/100 [03:54<07:33,  6.87s/it]\u001b[A\u001b[A\u001b[A"
     ]
    },
    {
     "data": {
      "application/vnd.jupyter.widget-view+json": {
       "model_id": "f60e274191f94f6180c9fd042797452c",
       "version_major": 2,
       "version_minor": 0
      },
      "text/plain": [
       "HBox(children=(IntProgress(value=0, description='Training iteration', max=29, style=ProgressStyle(description_…"
      ]
     },
     "metadata": {},
     "output_type": "display_data"
    },
    {
     "name": "stdout",
     "output_type": "stream",
     "text": [
      "\n"
     ]
    },
    {
     "data": {
      "application/vnd.jupyter.widget-view+json": {
       "model_id": "3d3eafba030749d797150cc450198e05",
       "version_major": 2,
       "version_minor": 0
      },
      "text/plain": [
       "HBox(children=(IntProgress(value=0, description='Evaluation iteration', max=6, style=ProgressStyle(description…"
      ]
     },
     "metadata": {},
     "output_type": "display_data"
    },
    {
     "name": "stdout",
     "output_type": "stream",
     "text": [
      "\n",
      "Loss history: [0.5703889032204946, 0.45168088873227435, 0.3713988810777664, 0.31752805908521015, 0.2832884540160497, 0.2619638790686925, 0.2481021930774053, 0.23104599366585413, 0.20977324495712915, 0.19478107243776321, 0.18068071703116098, 0.17129809161027273, 0.15991338839133581, 0.15267540762821832, 0.14439847196141878, 0.14095059037208557, 0.13442849616209665, 0.1295055498679479, 0.12575887019435564, 0.12197569881876309, 0.11888336762785912, 0.11620859305063884, 0.1141701266169548, 0.11486967901388805, 0.10919986541072528, 0.10814833516875903, 0.10605745017528534, 0.10507416725158691, 0.10250762601693471, 0.10089514156182607, 0.10192418346802394, 0.09975786631306012, 0.09757911786437035, 0.09584837158521016]\n",
      "Dev loss: 0.09579815591375034\n"
     ]
    },
    {
     "name": "stderr",
     "output_type": "stream",
     "text": [
      "\n",
      "\n",
      "\n",
      "Epoch:  35%|███▌      | 35/100 [04:01<07:27,  6.88s/it]\u001b[A\u001b[A\u001b[A"
     ]
    },
    {
     "data": {
      "application/vnd.jupyter.widget-view+json": {
       "model_id": "ab42691f8c394707ae818c01a8ab7376",
       "version_major": 2,
       "version_minor": 0
      },
      "text/plain": [
       "HBox(children=(IntProgress(value=0, description='Training iteration', max=29, style=ProgressStyle(description_…"
      ]
     },
     "metadata": {},
     "output_type": "display_data"
    },
    {
     "name": "stdout",
     "output_type": "stream",
     "text": [
      "\n"
     ]
    },
    {
     "data": {
      "application/vnd.jupyter.widget-view+json": {
       "model_id": "eb2e08f8714a4f5cafc0932260923af8",
       "version_major": 2,
       "version_minor": 0
      },
      "text/plain": [
       "HBox(children=(IntProgress(value=0, description='Evaluation iteration', max=6, style=ProgressStyle(description…"
      ]
     },
     "metadata": {},
     "output_type": "display_data"
    },
    {
     "name": "stderr",
     "output_type": "stream",
     "text": [
      "\n",
      "\n",
      "\n",
      "Epoch:  36%|███▌      | 36/100 [04:07<07:12,  6.76s/it]\u001b[A\u001b[A\u001b[A"
     ]
    },
    {
     "name": "stdout",
     "output_type": "stream",
     "text": [
      "\n",
      "Loss history: [0.5703889032204946, 0.45168088873227435, 0.3713988810777664, 0.31752805908521015, 0.2832884540160497, 0.2619638790686925, 0.2481021930774053, 0.23104599366585413, 0.20977324495712915, 0.19478107243776321, 0.18068071703116098, 0.17129809161027273, 0.15991338839133581, 0.15267540762821832, 0.14439847196141878, 0.14095059037208557, 0.13442849616209665, 0.1295055498679479, 0.12575887019435564, 0.12197569881876309, 0.11888336762785912, 0.11620859305063884, 0.1141701266169548, 0.11486967901388805, 0.10919986541072528, 0.10814833516875903, 0.10605745017528534, 0.10507416725158691, 0.10250762601693471, 0.10089514156182607, 0.10192418346802394, 0.09975786631306012, 0.09757911786437035, 0.09584837158521016, 0.09579815591375034]\n",
      "Dev loss: 0.09720322241385777\n"
     ]
    },
    {
     "data": {
      "application/vnd.jupyter.widget-view+json": {
       "model_id": "a715773441404e6bb020448f62d9697e",
       "version_major": 2,
       "version_minor": 0
      },
      "text/plain": [
       "HBox(children=(IntProgress(value=0, description='Training iteration', max=29, style=ProgressStyle(description_…"
      ]
     },
     "metadata": {},
     "output_type": "display_data"
    },
    {
     "name": "stdout",
     "output_type": "stream",
     "text": [
      "\n"
     ]
    },
    {
     "data": {
      "application/vnd.jupyter.widget-view+json": {
       "model_id": "497bfb81c9b644c8b8d917df8bf0c792",
       "version_major": 2,
       "version_minor": 0
      },
      "text/plain": [
       "HBox(children=(IntProgress(value=0, description='Evaluation iteration', max=6, style=ProgressStyle(description…"
      ]
     },
     "metadata": {},
     "output_type": "display_data"
    },
    {
     "name": "stdout",
     "output_type": "stream",
     "text": [
      "\n",
      "Loss history: [0.5703889032204946, 0.45168088873227435, 0.3713988810777664, 0.31752805908521015, 0.2832884540160497, 0.2619638790686925, 0.2481021930774053, 0.23104599366585413, 0.20977324495712915, 0.19478107243776321, 0.18068071703116098, 0.17129809161027273, 0.15991338839133581, 0.15267540762821832, 0.14439847196141878, 0.14095059037208557, 0.13442849616209665, 0.1295055498679479, 0.12575887019435564, 0.12197569881876309, 0.11888336762785912, 0.11620859305063884, 0.1141701266169548, 0.11486967901388805, 0.10919986541072528, 0.10814833516875903, 0.10605745017528534, 0.10507416725158691, 0.10250762601693471, 0.10089514156182607, 0.10192418346802394, 0.09975786631306012, 0.09757911786437035, 0.09584837158521016, 0.09579815591375034, 0.09720322241385777]\n",
      "Dev loss: 0.0943191647529602\n"
     ]
    },
    {
     "name": "stderr",
     "output_type": "stream",
     "text": [
      "\n",
      "\n",
      "\n",
      "Epoch:  37%|███▋      | 37/100 [04:14<07:08,  6.81s/it]\u001b[A\u001b[A\u001b[A"
     ]
    },
    {
     "data": {
      "application/vnd.jupyter.widget-view+json": {
       "model_id": "faac68bb3c714556b8df38a2d542b382",
       "version_major": 2,
       "version_minor": 0
      },
      "text/plain": [
       "HBox(children=(IntProgress(value=0, description='Training iteration', max=29, style=ProgressStyle(description_…"
      ]
     },
     "metadata": {},
     "output_type": "display_data"
    },
    {
     "name": "stdout",
     "output_type": "stream",
     "text": [
      "\n"
     ]
    },
    {
     "data": {
      "application/vnd.jupyter.widget-view+json": {
       "model_id": "442ff0b2fa0b4508aa2c25a6436d1a6f",
       "version_major": 2,
       "version_minor": 0
      },
      "text/plain": [
       "HBox(children=(IntProgress(value=0, description='Evaluation iteration', max=6, style=ProgressStyle(description…"
      ]
     },
     "metadata": {},
     "output_type": "display_data"
    },
    {
     "name": "stdout",
     "output_type": "stream",
     "text": [
      "\n",
      "Loss history: [0.5703889032204946, 0.45168088873227435, 0.3713988810777664, 0.31752805908521015, 0.2832884540160497, 0.2619638790686925, 0.2481021930774053, 0.23104599366585413, 0.20977324495712915, 0.19478107243776321, 0.18068071703116098, 0.17129809161027273, 0.15991338839133581, 0.15267540762821832, 0.14439847196141878, 0.14095059037208557, 0.13442849616209665, 0.1295055498679479, 0.12575887019435564, 0.12197569881876309, 0.11888336762785912, 0.11620859305063884, 0.1141701266169548, 0.11486967901388805, 0.10919986541072528, 0.10814833516875903, 0.10605745017528534, 0.10507416725158691, 0.10250762601693471, 0.10089514156182607, 0.10192418346802394, 0.09975786631306012, 0.09757911786437035, 0.09584837158521016, 0.09579815591375034, 0.09720322241385777, 0.0943191647529602]\n",
      "Dev loss: 0.09252247959375381\n"
     ]
    },
    {
     "name": "stderr",
     "output_type": "stream",
     "text": [
      "\n",
      "\n",
      "\n",
      "Epoch:  38%|███▊      | 38/100 [04:21<07:04,  6.84s/it]\u001b[A\u001b[A\u001b[A"
     ]
    },
    {
     "data": {
      "application/vnd.jupyter.widget-view+json": {
       "model_id": "f583dcd4abf84d638cbad2bbc115fa2a",
       "version_major": 2,
       "version_minor": 0
      },
      "text/plain": [
       "HBox(children=(IntProgress(value=0, description='Training iteration', max=29, style=ProgressStyle(description_…"
      ]
     },
     "metadata": {},
     "output_type": "display_data"
    },
    {
     "name": "stdout",
     "output_type": "stream",
     "text": [
      "\n"
     ]
    },
    {
     "data": {
      "application/vnd.jupyter.widget-view+json": {
       "model_id": "bdc3544a84284174bd2e5a922414e6d2",
       "version_major": 2,
       "version_minor": 0
      },
      "text/plain": [
       "HBox(children=(IntProgress(value=0, description='Evaluation iteration', max=6, style=ProgressStyle(description…"
      ]
     },
     "metadata": {},
     "output_type": "display_data"
    },
    {
     "name": "stdout",
     "output_type": "stream",
     "text": [
      "\n",
      "Loss history: [0.5703889032204946, 0.45168088873227435, 0.3713988810777664, 0.31752805908521015, 0.2832884540160497, 0.2619638790686925, 0.2481021930774053, 0.23104599366585413, 0.20977324495712915, 0.19478107243776321, 0.18068071703116098, 0.17129809161027273, 0.15991338839133581, 0.15267540762821832, 0.14439847196141878, 0.14095059037208557, 0.13442849616209665, 0.1295055498679479, 0.12575887019435564, 0.12197569881876309, 0.11888336762785912, 0.11620859305063884, 0.1141701266169548, 0.11486967901388805, 0.10919986541072528, 0.10814833516875903, 0.10605745017528534, 0.10507416725158691, 0.10250762601693471, 0.10089514156182607, 0.10192418346802394, 0.09975786631306012, 0.09757911786437035, 0.09584837158521016, 0.09579815591375034, 0.09720322241385777, 0.0943191647529602, 0.09252247959375381]\n",
      "Dev loss: 0.09215047086278598\n"
     ]
    },
    {
     "name": "stderr",
     "output_type": "stream",
     "text": [
      "\n",
      "\n",
      "\n",
      "Epoch:  39%|███▉      | 39/100 [04:28<06:58,  6.87s/it]\u001b[A\u001b[A\u001b[A"
     ]
    },
    {
     "data": {
      "application/vnd.jupyter.widget-view+json": {
       "model_id": "5bd741c18a1e4bfa8f30e470a8ccf78c",
       "version_major": 2,
       "version_minor": 0
      },
      "text/plain": [
       "HBox(children=(IntProgress(value=0, description='Training iteration', max=29, style=ProgressStyle(description_…"
      ]
     },
     "metadata": {},
     "output_type": "display_data"
    },
    {
     "name": "stdout",
     "output_type": "stream",
     "text": [
      "\n"
     ]
    },
    {
     "data": {
      "application/vnd.jupyter.widget-view+json": {
       "model_id": "9f85669110ec4f598c4127e508f94c82",
       "version_major": 2,
       "version_minor": 0
      },
      "text/plain": [
       "HBox(children=(IntProgress(value=0, description='Evaluation iteration', max=6, style=ProgressStyle(description…"
      ]
     },
     "metadata": {},
     "output_type": "display_data"
    },
    {
     "name": "stdout",
     "output_type": "stream",
     "text": [
      "\n",
      "Loss history: [0.5703889032204946, 0.45168088873227435, 0.3713988810777664, 0.31752805908521015, 0.2832884540160497, 0.2619638790686925, 0.2481021930774053, 0.23104599366585413, 0.20977324495712915, 0.19478107243776321, 0.18068071703116098, 0.17129809161027273, 0.15991338839133581, 0.15267540762821832, 0.14439847196141878, 0.14095059037208557, 0.13442849616209665, 0.1295055498679479, 0.12575887019435564, 0.12197569881876309, 0.11888336762785912, 0.11620859305063884, 0.1141701266169548, 0.11486967901388805, 0.10919986541072528, 0.10814833516875903, 0.10605745017528534, 0.10507416725158691, 0.10250762601693471, 0.10089514156182607, 0.10192418346802394, 0.09975786631306012, 0.09757911786437035, 0.09584837158521016, 0.09579815591375034, 0.09720322241385777, 0.0943191647529602, 0.09252247959375381, 0.09215047086278598]\n",
      "Dev loss: 0.09151112847030163\n"
     ]
    },
    {
     "name": "stderr",
     "output_type": "stream",
     "text": [
      "\n",
      "\n",
      "\n",
      "Epoch:  40%|████      | 40/100 [04:35<06:52,  6.88s/it]\u001b[A\u001b[A\u001b[A"
     ]
    },
    {
     "data": {
      "application/vnd.jupyter.widget-view+json": {
       "model_id": "a745c915695142d397bfcc019875cf46",
       "version_major": 2,
       "version_minor": 0
      },
      "text/plain": [
       "HBox(children=(IntProgress(value=0, description='Training iteration', max=29, style=ProgressStyle(description_…"
      ]
     },
     "metadata": {},
     "output_type": "display_data"
    },
    {
     "name": "stdout",
     "output_type": "stream",
     "text": [
      "\n"
     ]
    },
    {
     "data": {
      "application/vnd.jupyter.widget-view+json": {
       "model_id": "938321c6ae424f949e102b02388c1818",
       "version_major": 2,
       "version_minor": 0
      },
      "text/plain": [
       "HBox(children=(IntProgress(value=0, description='Evaluation iteration', max=6, style=ProgressStyle(description…"
      ]
     },
     "metadata": {},
     "output_type": "display_data"
    },
    {
     "name": "stdout",
     "output_type": "stream",
     "text": [
      "\n",
      "Loss history: [0.5703889032204946, 0.45168088873227435, 0.3713988810777664, 0.31752805908521015, 0.2832884540160497, 0.2619638790686925, 0.2481021930774053, 0.23104599366585413, 0.20977324495712915, 0.19478107243776321, 0.18068071703116098, 0.17129809161027273, 0.15991338839133581, 0.15267540762821832, 0.14439847196141878, 0.14095059037208557, 0.13442849616209665, 0.1295055498679479, 0.12575887019435564, 0.12197569881876309, 0.11888336762785912, 0.11620859305063884, 0.1141701266169548, 0.11486967901388805, 0.10919986541072528, 0.10814833516875903, 0.10605745017528534, 0.10507416725158691, 0.10250762601693471, 0.10089514156182607, 0.10192418346802394, 0.09975786631306012, 0.09757911786437035, 0.09584837158521016, 0.09579815591375034, 0.09720322241385777, 0.0943191647529602, 0.09252247959375381, 0.09215047086278598, 0.09151112847030163]\n",
      "Dev loss: 0.09033517663677533\n"
     ]
    },
    {
     "name": "stderr",
     "output_type": "stream",
     "text": [
      "\n",
      "\n",
      "\n",
      "Epoch:  41%|████      | 41/100 [04:42<06:46,  6.90s/it]\u001b[A\u001b[A\u001b[A"
     ]
    },
    {
     "data": {
      "application/vnd.jupyter.widget-view+json": {
       "model_id": "7d3395cea59b408481e4d4cf89d7b85a",
       "version_major": 2,
       "version_minor": 0
      },
      "text/plain": [
       "HBox(children=(IntProgress(value=0, description='Training iteration', max=29, style=ProgressStyle(description_…"
      ]
     },
     "metadata": {},
     "output_type": "display_data"
    },
    {
     "name": "stdout",
     "output_type": "stream",
     "text": [
      "\n"
     ]
    },
    {
     "data": {
      "application/vnd.jupyter.widget-view+json": {
       "model_id": "49e670b7b8b342ecb837d6e539072f88",
       "version_major": 2,
       "version_minor": 0
      },
      "text/plain": [
       "HBox(children=(IntProgress(value=0, description='Evaluation iteration', max=6, style=ProgressStyle(description…"
      ]
     },
     "metadata": {},
     "output_type": "display_data"
    },
    {
     "name": "stderr",
     "output_type": "stream",
     "text": [
      "\n",
      "\n",
      "\n",
      "Epoch:  42%|████▏     | 42/100 [04:48<06:32,  6.77s/it]\u001b[A\u001b[A\u001b[A"
     ]
    },
    {
     "name": "stdout",
     "output_type": "stream",
     "text": [
      "\n",
      "Loss history: [0.5703889032204946, 0.45168088873227435, 0.3713988810777664, 0.31752805908521015, 0.2832884540160497, 0.2619638790686925, 0.2481021930774053, 0.23104599366585413, 0.20977324495712915, 0.19478107243776321, 0.18068071703116098, 0.17129809161027273, 0.15991338839133581, 0.15267540762821832, 0.14439847196141878, 0.14095059037208557, 0.13442849616209665, 0.1295055498679479, 0.12575887019435564, 0.12197569881876309, 0.11888336762785912, 0.11620859305063884, 0.1141701266169548, 0.11486967901388805, 0.10919986541072528, 0.10814833516875903, 0.10605745017528534, 0.10507416725158691, 0.10250762601693471, 0.10089514156182607, 0.10192418346802394, 0.09975786631306012, 0.09757911786437035, 0.09584837158521016, 0.09579815591375034, 0.09720322241385777, 0.0943191647529602, 0.09252247959375381, 0.09215047086278598, 0.09151112847030163, 0.09033517663677533]\n",
      "Dev loss: 0.09209948405623436\n"
     ]
    },
    {
     "data": {
      "application/vnd.jupyter.widget-view+json": {
       "model_id": "a151de15af484fcb8c1cc41ac8b5b7b2",
       "version_major": 2,
       "version_minor": 0
      },
      "text/plain": [
       "HBox(children=(IntProgress(value=0, description='Training iteration', max=29, style=ProgressStyle(description_…"
      ]
     },
     "metadata": {},
     "output_type": "display_data"
    },
    {
     "name": "stdout",
     "output_type": "stream",
     "text": [
      "\n"
     ]
    },
    {
     "data": {
      "application/vnd.jupyter.widget-view+json": {
       "model_id": "84d020f40f07491ab106e3d32fdf0565",
       "version_major": 2,
       "version_minor": 0
      },
      "text/plain": [
       "HBox(children=(IntProgress(value=0, description='Evaluation iteration', max=6, style=ProgressStyle(description…"
      ]
     },
     "metadata": {},
     "output_type": "display_data"
    },
    {
     "name": "stderr",
     "output_type": "stream",
     "text": [
      "\n",
      "\n",
      "\n",
      "Epoch:  43%|████▎     | 43/100 [04:55<06:20,  6.68s/it]\u001b[A\u001b[A\u001b[A"
     ]
    },
    {
     "name": "stdout",
     "output_type": "stream",
     "text": [
      "\n",
      "Loss history: [0.5703889032204946, 0.45168088873227435, 0.3713988810777664, 0.31752805908521015, 0.2832884540160497, 0.2619638790686925, 0.2481021930774053, 0.23104599366585413, 0.20977324495712915, 0.19478107243776321, 0.18068071703116098, 0.17129809161027273, 0.15991338839133581, 0.15267540762821832, 0.14439847196141878, 0.14095059037208557, 0.13442849616209665, 0.1295055498679479, 0.12575887019435564, 0.12197569881876309, 0.11888336762785912, 0.11620859305063884, 0.1141701266169548, 0.11486967901388805, 0.10919986541072528, 0.10814833516875903, 0.10605745017528534, 0.10507416725158691, 0.10250762601693471, 0.10089514156182607, 0.10192418346802394, 0.09975786631306012, 0.09757911786437035, 0.09584837158521016, 0.09579815591375034, 0.09720322241385777, 0.0943191647529602, 0.09252247959375381, 0.09215047086278598, 0.09151112847030163, 0.09033517663677533, 0.09209948405623436]\n",
      "Dev loss: 0.09305020049214363\n"
     ]
    },
    {
     "data": {
      "application/vnd.jupyter.widget-view+json": {
       "model_id": "2ab8483559e64db28f18e793044987f6",
       "version_major": 2,
       "version_minor": 0
      },
      "text/plain": [
       "HBox(children=(IntProgress(value=0, description='Training iteration', max=29, style=ProgressStyle(description_…"
      ]
     },
     "metadata": {},
     "output_type": "display_data"
    },
    {
     "name": "stdout",
     "output_type": "stream",
     "text": [
      "\n"
     ]
    },
    {
     "data": {
      "application/vnd.jupyter.widget-view+json": {
       "model_id": "5c19c3e6ca88472f8e167af17d346691",
       "version_major": 2,
       "version_minor": 0
      },
      "text/plain": [
       "HBox(children=(IntProgress(value=0, description='Evaluation iteration', max=6, style=ProgressStyle(description…"
      ]
     },
     "metadata": {},
     "output_type": "display_data"
    },
    {
     "name": "stderr",
     "output_type": "stream",
     "text": [
      "\n",
      "\n",
      "\n",
      "Epoch:  44%|████▍     | 44/100 [05:01<06:10,  6.61s/it]\u001b[A\u001b[A\u001b[A"
     ]
    },
    {
     "name": "stdout",
     "output_type": "stream",
     "text": [
      "\n",
      "Loss history: [0.5703889032204946, 0.45168088873227435, 0.3713988810777664, 0.31752805908521015, 0.2832884540160497, 0.2619638790686925, 0.2481021930774053, 0.23104599366585413, 0.20977324495712915, 0.19478107243776321, 0.18068071703116098, 0.17129809161027273, 0.15991338839133581, 0.15267540762821832, 0.14439847196141878, 0.14095059037208557, 0.13442849616209665, 0.1295055498679479, 0.12575887019435564, 0.12197569881876309, 0.11888336762785912, 0.11620859305063884, 0.1141701266169548, 0.11486967901388805, 0.10919986541072528, 0.10814833516875903, 0.10605745017528534, 0.10507416725158691, 0.10250762601693471, 0.10089514156182607, 0.10192418346802394, 0.09975786631306012, 0.09757911786437035, 0.09584837158521016, 0.09579815591375034, 0.09720322241385777, 0.0943191647529602, 0.09252247959375381, 0.09215047086278598, 0.09151112847030163, 0.09033517663677533, 0.09209948405623436, 0.09305020049214363]\n",
      "Dev loss: 0.09060696139931679\n"
     ]
    },
    {
     "data": {
      "application/vnd.jupyter.widget-view+json": {
       "model_id": "3f0798ac637d47aeb1133dd9fd1b762e",
       "version_major": 2,
       "version_minor": 0
      },
      "text/plain": [
       "HBox(children=(IntProgress(value=0, description='Training iteration', max=29, style=ProgressStyle(description_…"
      ]
     },
     "metadata": {},
     "output_type": "display_data"
    },
    {
     "name": "stdout",
     "output_type": "stream",
     "text": [
      "\n"
     ]
    },
    {
     "data": {
      "application/vnd.jupyter.widget-view+json": {
       "model_id": "da4084d3d5af43e8a488293f6f5c0dcc",
       "version_major": 2,
       "version_minor": 0
      },
      "text/plain": [
       "HBox(children=(IntProgress(value=0, description='Evaluation iteration', max=6, style=ProgressStyle(description…"
      ]
     },
     "metadata": {},
     "output_type": "display_data"
    },
    {
     "name": "stdout",
     "output_type": "stream",
     "text": [
      "\n",
      "Loss history: [0.5703889032204946, 0.45168088873227435, 0.3713988810777664, 0.31752805908521015, 0.2832884540160497, 0.2619638790686925, 0.2481021930774053, 0.23104599366585413, 0.20977324495712915, 0.19478107243776321, 0.18068071703116098, 0.17129809161027273, 0.15991338839133581, 0.15267540762821832, 0.14439847196141878, 0.14095059037208557, 0.13442849616209665, 0.1295055498679479, 0.12575887019435564, 0.12197569881876309, 0.11888336762785912, 0.11620859305063884, 0.1141701266169548, 0.11486967901388805, 0.10919986541072528, 0.10814833516875903, 0.10605745017528534, 0.10507416725158691, 0.10250762601693471, 0.10089514156182607, 0.10192418346802394, 0.09975786631306012, 0.09757911786437035, 0.09584837158521016, 0.09579815591375034, 0.09720322241385777, 0.0943191647529602, 0.09252247959375381, 0.09215047086278598, 0.09151112847030163, 0.09033517663677533, 0.09209948405623436, 0.09305020049214363, 0.09060696139931679]\n",
      "Dev loss: 0.08979978784918785\n"
     ]
    },
    {
     "name": "stderr",
     "output_type": "stream",
     "text": [
      "\n",
      "\n",
      "\n",
      "Epoch:  45%|████▌     | 45/100 [05:08<06:08,  6.70s/it]\u001b[A\u001b[A\u001b[A"
     ]
    },
    {
     "data": {
      "application/vnd.jupyter.widget-view+json": {
       "model_id": "d0355ce837714eb68aa6be5c810f639a",
       "version_major": 2,
       "version_minor": 0
      },
      "text/plain": [
       "HBox(children=(IntProgress(value=0, description='Training iteration', max=29, style=ProgressStyle(description_…"
      ]
     },
     "metadata": {},
     "output_type": "display_data"
    },
    {
     "name": "stdout",
     "output_type": "stream",
     "text": [
      "\n"
     ]
    },
    {
     "data": {
      "application/vnd.jupyter.widget-view+json": {
       "model_id": "d72161677e784532a5cbc71d05ea4d58",
       "version_major": 2,
       "version_minor": 0
      },
      "text/plain": [
       "HBox(children=(IntProgress(value=0, description='Evaluation iteration', max=6, style=ProgressStyle(description…"
      ]
     },
     "metadata": {},
     "output_type": "display_data"
    },
    {
     "name": "stdout",
     "output_type": "stream",
     "text": [
      "\n",
      "Loss history: [0.5703889032204946, 0.45168088873227435, 0.3713988810777664, 0.31752805908521015, 0.2832884540160497, 0.2619638790686925, 0.2481021930774053, 0.23104599366585413, 0.20977324495712915, 0.19478107243776321, 0.18068071703116098, 0.17129809161027273, 0.15991338839133581, 0.15267540762821832, 0.14439847196141878, 0.14095059037208557, 0.13442849616209665, 0.1295055498679479, 0.12575887019435564, 0.12197569881876309, 0.11888336762785912, 0.11620859305063884, 0.1141701266169548, 0.11486967901388805, 0.10919986541072528, 0.10814833516875903, 0.10605745017528534, 0.10507416725158691, 0.10250762601693471, 0.10089514156182607, 0.10192418346802394, 0.09975786631306012, 0.09757911786437035, 0.09584837158521016, 0.09579815591375034, 0.09720322241385777, 0.0943191647529602, 0.09252247959375381, 0.09215047086278598, 0.09151112847030163, 0.09033517663677533, 0.09209948405623436, 0.09305020049214363, 0.09060696139931679, 0.08979978784918785]\n",
      "Dev loss: 0.08798108187814553\n"
     ]
    },
    {
     "name": "stderr",
     "output_type": "stream",
     "text": [
      "\n",
      "\n",
      "\n",
      "Epoch:  46%|████▌     | 46/100 [05:15<06:05,  6.77s/it]\u001b[A\u001b[A\u001b[A"
     ]
    },
    {
     "data": {
      "application/vnd.jupyter.widget-view+json": {
       "model_id": "eaa1bcc16877488795b965d7d0179116",
       "version_major": 2,
       "version_minor": 0
      },
      "text/plain": [
       "HBox(children=(IntProgress(value=0, description='Training iteration', max=29, style=ProgressStyle(description_…"
      ]
     },
     "metadata": {},
     "output_type": "display_data"
    },
    {
     "name": "stdout",
     "output_type": "stream",
     "text": [
      "\n"
     ]
    },
    {
     "data": {
      "application/vnd.jupyter.widget-view+json": {
       "model_id": "e849bb8dbafa44dab634de3713234f9f",
       "version_major": 2,
       "version_minor": 0
      },
      "text/plain": [
       "HBox(children=(IntProgress(value=0, description='Evaluation iteration', max=6, style=ProgressStyle(description…"
      ]
     },
     "metadata": {},
     "output_type": "display_data"
    },
    {
     "name": "stderr",
     "output_type": "stream",
     "text": [
      "\n",
      "\n",
      "\n",
      "Epoch:  47%|████▋     | 47/100 [05:22<05:54,  6.68s/it]\u001b[A\u001b[A\u001b[A"
     ]
    },
    {
     "name": "stdout",
     "output_type": "stream",
     "text": [
      "\n",
      "Loss history: [0.5703889032204946, 0.45168088873227435, 0.3713988810777664, 0.31752805908521015, 0.2832884540160497, 0.2619638790686925, 0.2481021930774053, 0.23104599366585413, 0.20977324495712915, 0.19478107243776321, 0.18068071703116098, 0.17129809161027273, 0.15991338839133581, 0.15267540762821832, 0.14439847196141878, 0.14095059037208557, 0.13442849616209665, 0.1295055498679479, 0.12575887019435564, 0.12197569881876309, 0.11888336762785912, 0.11620859305063884, 0.1141701266169548, 0.11486967901388805, 0.10919986541072528, 0.10814833516875903, 0.10605745017528534, 0.10507416725158691, 0.10250762601693471, 0.10089514156182607, 0.10192418346802394, 0.09975786631306012, 0.09757911786437035, 0.09584837158521016, 0.09579815591375034, 0.09720322241385777, 0.0943191647529602, 0.09252247959375381, 0.09215047086278598, 0.09151112847030163, 0.09033517663677533, 0.09209948405623436, 0.09305020049214363, 0.09060696139931679, 0.08979978784918785, 0.08798108187814553]\n",
      "Dev loss: 0.08955100364983082\n"
     ]
    },
    {
     "data": {
      "application/vnd.jupyter.widget-view+json": {
       "model_id": "5541ed1825f140aa83b9279d9ca44e15",
       "version_major": 2,
       "version_minor": 0
      },
      "text/plain": [
       "HBox(children=(IntProgress(value=0, description='Training iteration', max=29, style=ProgressStyle(description_…"
      ]
     },
     "metadata": {},
     "output_type": "display_data"
    },
    {
     "name": "stdout",
     "output_type": "stream",
     "text": [
      "\n"
     ]
    },
    {
     "data": {
      "application/vnd.jupyter.widget-view+json": {
       "model_id": "3c0e0d5c85ff48fe9c9a3e50fc17dc6f",
       "version_major": 2,
       "version_minor": 0
      },
      "text/plain": [
       "HBox(children=(IntProgress(value=0, description='Evaluation iteration', max=6, style=ProgressStyle(description…"
      ]
     },
     "metadata": {},
     "output_type": "display_data"
    },
    {
     "name": "stderr",
     "output_type": "stream",
     "text": [
      "\n",
      "\n",
      "\n",
      "Epoch:  48%|████▊     | 48/100 [05:28<05:44,  6.62s/it]\u001b[A\u001b[A\u001b[A"
     ]
    },
    {
     "name": "stdout",
     "output_type": "stream",
     "text": [
      "\n",
      "Loss history: [0.5703889032204946, 0.45168088873227435, 0.3713988810777664, 0.31752805908521015, 0.2832884540160497, 0.2619638790686925, 0.2481021930774053, 0.23104599366585413, 0.20977324495712915, 0.19478107243776321, 0.18068071703116098, 0.17129809161027273, 0.15991338839133581, 0.15267540762821832, 0.14439847196141878, 0.14095059037208557, 0.13442849616209665, 0.1295055498679479, 0.12575887019435564, 0.12197569881876309, 0.11888336762785912, 0.11620859305063884, 0.1141701266169548, 0.11486967901388805, 0.10919986541072528, 0.10814833516875903, 0.10605745017528534, 0.10507416725158691, 0.10250762601693471, 0.10089514156182607, 0.10192418346802394, 0.09975786631306012, 0.09757911786437035, 0.09584837158521016, 0.09579815591375034, 0.09720322241385777, 0.0943191647529602, 0.09252247959375381, 0.09215047086278598, 0.09151112847030163, 0.09033517663677533, 0.09209948405623436, 0.09305020049214363, 0.09060696139931679, 0.08979978784918785, 0.08798108187814553, 0.08955100364983082]\n",
      "Dev loss: 0.08821722740928332\n"
     ]
    },
    {
     "data": {
      "application/vnd.jupyter.widget-view+json": {
       "model_id": "64335aebe9f6430f94dbbd52c64bec91",
       "version_major": 2,
       "version_minor": 0
      },
      "text/plain": [
       "HBox(children=(IntProgress(value=0, description='Training iteration', max=29, style=ProgressStyle(description_…"
      ]
     },
     "metadata": {},
     "output_type": "display_data"
    },
    {
     "name": "stdout",
     "output_type": "stream",
     "text": [
      "\n"
     ]
    },
    {
     "data": {
      "application/vnd.jupyter.widget-view+json": {
       "model_id": "8bfa5b9727544976a01a1890250edcba",
       "version_major": 2,
       "version_minor": 0
      },
      "text/plain": [
       "HBox(children=(IntProgress(value=0, description='Evaluation iteration', max=6, style=ProgressStyle(description…"
      ]
     },
     "metadata": {},
     "output_type": "display_data"
    },
    {
     "name": "stderr",
     "output_type": "stream",
     "text": [
      "\n",
      "\n",
      "\n",
      "Epoch:  49%|████▉     | 49/100 [05:34<05:35,  6.57s/it]\u001b[A\u001b[A\u001b[A"
     ]
    },
    {
     "name": "stdout",
     "output_type": "stream",
     "text": [
      "\n",
      "Loss history: [0.5703889032204946, 0.45168088873227435, 0.3713988810777664, 0.31752805908521015, 0.2832884540160497, 0.2619638790686925, 0.2481021930774053, 0.23104599366585413, 0.20977324495712915, 0.19478107243776321, 0.18068071703116098, 0.17129809161027273, 0.15991338839133581, 0.15267540762821832, 0.14439847196141878, 0.14095059037208557, 0.13442849616209665, 0.1295055498679479, 0.12575887019435564, 0.12197569881876309, 0.11888336762785912, 0.11620859305063884, 0.1141701266169548, 0.11486967901388805, 0.10919986541072528, 0.10814833516875903, 0.10605745017528534, 0.10507416725158691, 0.10250762601693471, 0.10089514156182607, 0.10192418346802394, 0.09975786631306012, 0.09757911786437035, 0.09584837158521016, 0.09579815591375034, 0.09720322241385777, 0.0943191647529602, 0.09252247959375381, 0.09215047086278598, 0.09151112847030163, 0.09033517663677533, 0.09209948405623436, 0.09305020049214363, 0.09060696139931679, 0.08979978784918785, 0.08798108187814553, 0.08955100364983082, 0.08821722740928332]\n",
      "Dev loss: 0.08802238665521145\n"
     ]
    },
    {
     "data": {
      "application/vnd.jupyter.widget-view+json": {
       "model_id": "a724cdd6a7af44149168beb8b4f07688",
       "version_major": 2,
       "version_minor": 0
      },
      "text/plain": [
       "HBox(children=(IntProgress(value=0, description='Training iteration', max=29, style=ProgressStyle(description_…"
      ]
     },
     "metadata": {},
     "output_type": "display_data"
    },
    {
     "name": "stdout",
     "output_type": "stream",
     "text": [
      "\n"
     ]
    },
    {
     "data": {
      "application/vnd.jupyter.widget-view+json": {
       "model_id": "ffefc2edc5234adb8df4d392d908f8d0",
       "version_major": 2,
       "version_minor": 0
      },
      "text/plain": [
       "HBox(children=(IntProgress(value=0, description='Evaluation iteration', max=6, style=ProgressStyle(description…"
      ]
     },
     "metadata": {},
     "output_type": "display_data"
    },
    {
     "name": "stderr",
     "output_type": "stream",
     "text": [
      "\n",
      "\n",
      "\n",
      "Epoch:  50%|█████     | 50/100 [05:41<05:26,  6.54s/it]\u001b[A\u001b[A\u001b[A"
     ]
    },
    {
     "name": "stdout",
     "output_type": "stream",
     "text": [
      "\n",
      "Loss history: [0.5703889032204946, 0.45168088873227435, 0.3713988810777664, 0.31752805908521015, 0.2832884540160497, 0.2619638790686925, 0.2481021930774053, 0.23104599366585413, 0.20977324495712915, 0.19478107243776321, 0.18068071703116098, 0.17129809161027273, 0.15991338839133581, 0.15267540762821832, 0.14439847196141878, 0.14095059037208557, 0.13442849616209665, 0.1295055498679479, 0.12575887019435564, 0.12197569881876309, 0.11888336762785912, 0.11620859305063884, 0.1141701266169548, 0.11486967901388805, 0.10919986541072528, 0.10814833516875903, 0.10605745017528534, 0.10507416725158691, 0.10250762601693471, 0.10089514156182607, 0.10192418346802394, 0.09975786631306012, 0.09757911786437035, 0.09584837158521016, 0.09579815591375034, 0.09720322241385777, 0.0943191647529602, 0.09252247959375381, 0.09215047086278598, 0.09151112847030163, 0.09033517663677533, 0.09209948405623436, 0.09305020049214363, 0.09060696139931679, 0.08979978784918785, 0.08798108187814553, 0.08955100364983082, 0.08821722740928332, 0.08802238665521145]\n",
      "Dev loss: 0.09014840424060822\n"
     ]
    },
    {
     "data": {
      "application/vnd.jupyter.widget-view+json": {
       "model_id": "ce48c45be68a476b8f2efda2ab850e8e",
       "version_major": 2,
       "version_minor": 0
      },
      "text/plain": [
       "HBox(children=(IntProgress(value=0, description='Training iteration', max=29, style=ProgressStyle(description_…"
      ]
     },
     "metadata": {},
     "output_type": "display_data"
    },
    {
     "name": "stdout",
     "output_type": "stream",
     "text": [
      "\n"
     ]
    },
    {
     "data": {
      "application/vnd.jupyter.widget-view+json": {
       "model_id": "91163adbfadb4044af363481e03d7f53",
       "version_major": 2,
       "version_minor": 0
      },
      "text/plain": [
       "HBox(children=(IntProgress(value=0, description='Evaluation iteration', max=6, style=ProgressStyle(description…"
      ]
     },
     "metadata": {},
     "output_type": "display_data"
    },
    {
     "name": "stdout",
     "output_type": "stream",
     "text": [
      "\n",
      "Loss history: [0.5703889032204946, 0.45168088873227435, 0.3713988810777664, 0.31752805908521015, 0.2832884540160497, 0.2619638790686925, 0.2481021930774053, 0.23104599366585413, 0.20977324495712915, 0.19478107243776321, 0.18068071703116098, 0.17129809161027273, 0.15991338839133581, 0.15267540762821832, 0.14439847196141878, 0.14095059037208557, 0.13442849616209665, 0.1295055498679479, 0.12575887019435564, 0.12197569881876309, 0.11888336762785912, 0.11620859305063884, 0.1141701266169548, 0.11486967901388805, 0.10919986541072528, 0.10814833516875903, 0.10605745017528534, 0.10507416725158691, 0.10250762601693471, 0.10089514156182607, 0.10192418346802394, 0.09975786631306012, 0.09757911786437035, 0.09584837158521016, 0.09579815591375034, 0.09720322241385777, 0.0943191647529602, 0.09252247959375381, 0.09215047086278598, 0.09151112847030163, 0.09033517663677533, 0.09209948405623436, 0.09305020049214363, 0.09060696139931679, 0.08979978784918785, 0.08798108187814553, 0.08955100364983082, 0.08821722740928332, 0.08802238665521145, 0.09014840424060822]\n",
      "Dev loss: 0.08693702767292659\n"
     ]
    },
    {
     "name": "stderr",
     "output_type": "stream",
     "text": [
      "\n",
      "\n",
      "\n",
      "Epoch:  51%|█████     | 51/100 [05:48<05:26,  6.66s/it]\u001b[A\u001b[A\u001b[A"
     ]
    },
    {
     "data": {
      "application/vnd.jupyter.widget-view+json": {
       "model_id": "a6c8aed8b0b449c8877ba3a3eed7c739",
       "version_major": 2,
       "version_minor": 0
      },
      "text/plain": [
       "HBox(children=(IntProgress(value=0, description='Training iteration', max=29, style=ProgressStyle(description_…"
      ]
     },
     "metadata": {},
     "output_type": "display_data"
    },
    {
     "name": "stdout",
     "output_type": "stream",
     "text": [
      "\n"
     ]
    },
    {
     "data": {
      "application/vnd.jupyter.widget-view+json": {
       "model_id": "744861e863e24e69af4cff3deba32208",
       "version_major": 2,
       "version_minor": 0
      },
      "text/plain": [
       "HBox(children=(IntProgress(value=0, description='Evaluation iteration', max=6, style=ProgressStyle(description…"
      ]
     },
     "metadata": {},
     "output_type": "display_data"
    },
    {
     "name": "stderr",
     "output_type": "stream",
     "text": [
      "\n",
      "\n",
      "\n",
      "Epoch:  52%|█████▏    | 52/100 [05:54<05:16,  6.60s/it]\u001b[A\u001b[A\u001b[A"
     ]
    },
    {
     "name": "stdout",
     "output_type": "stream",
     "text": [
      "\n",
      "Loss history: [0.5703889032204946, 0.45168088873227435, 0.3713988810777664, 0.31752805908521015, 0.2832884540160497, 0.2619638790686925, 0.2481021930774053, 0.23104599366585413, 0.20977324495712915, 0.19478107243776321, 0.18068071703116098, 0.17129809161027273, 0.15991338839133581, 0.15267540762821832, 0.14439847196141878, 0.14095059037208557, 0.13442849616209665, 0.1295055498679479, 0.12575887019435564, 0.12197569881876309, 0.11888336762785912, 0.11620859305063884, 0.1141701266169548, 0.11486967901388805, 0.10919986541072528, 0.10814833516875903, 0.10605745017528534, 0.10507416725158691, 0.10250762601693471, 0.10089514156182607, 0.10192418346802394, 0.09975786631306012, 0.09757911786437035, 0.09584837158521016, 0.09579815591375034, 0.09720322241385777, 0.0943191647529602, 0.09252247959375381, 0.09215047086278598, 0.09151112847030163, 0.09033517663677533, 0.09209948405623436, 0.09305020049214363, 0.09060696139931679, 0.08979978784918785, 0.08798108187814553, 0.08955100364983082, 0.08821722740928332, 0.08802238665521145, 0.09014840424060822, 0.08693702767292659]\n",
      "Dev loss: 0.08720854669809341\n"
     ]
    },
    {
     "data": {
      "application/vnd.jupyter.widget-view+json": {
       "model_id": "dfbb3e4f9e954942a57fdb56dc9ab2fc",
       "version_major": 2,
       "version_minor": 0
      },
      "text/plain": [
       "HBox(children=(IntProgress(value=0, description='Training iteration', max=29, style=ProgressStyle(description_…"
      ]
     },
     "metadata": {},
     "output_type": "display_data"
    },
    {
     "name": "stdout",
     "output_type": "stream",
     "text": [
      "\n"
     ]
    },
    {
     "data": {
      "application/vnd.jupyter.widget-view+json": {
       "model_id": "e280179d7a76418581f8e95ea5d5a38b",
       "version_major": 2,
       "version_minor": 0
      },
      "text/plain": [
       "HBox(children=(IntProgress(value=0, description='Evaluation iteration', max=6, style=ProgressStyle(description…"
      ]
     },
     "metadata": {},
     "output_type": "display_data"
    },
    {
     "name": "stdout",
     "output_type": "stream",
     "text": [
      "\n",
      "Loss history: [0.5703889032204946, 0.45168088873227435, 0.3713988810777664, 0.31752805908521015, 0.2832884540160497, 0.2619638790686925, 0.2481021930774053, 0.23104599366585413, 0.20977324495712915, 0.19478107243776321, 0.18068071703116098, 0.17129809161027273, 0.15991338839133581, 0.15267540762821832, 0.14439847196141878, 0.14095059037208557, 0.13442849616209665, 0.1295055498679479, 0.12575887019435564, 0.12197569881876309, 0.11888336762785912, 0.11620859305063884, 0.1141701266169548, 0.11486967901388805, 0.10919986541072528, 0.10814833516875903, 0.10605745017528534, 0.10507416725158691, 0.10250762601693471, 0.10089514156182607, 0.10192418346802394, 0.09975786631306012, 0.09757911786437035, 0.09584837158521016, 0.09579815591375034, 0.09720322241385777, 0.0943191647529602, 0.09252247959375381, 0.09215047086278598, 0.09151112847030163, 0.09033517663677533, 0.09209948405623436, 0.09305020049214363, 0.09060696139931679, 0.08979978784918785, 0.08798108187814553, 0.08955100364983082, 0.08821722740928332, 0.08802238665521145, 0.09014840424060822, 0.08693702767292659, 0.08720854669809341]\n",
      "Dev loss: 0.08570322518547376\n"
     ]
    },
    {
     "name": "stderr",
     "output_type": "stream",
     "text": [
      "\n",
      "\n",
      "\n",
      "Epoch:  53%|█████▎    | 53/100 [06:01<05:14,  6.70s/it]\u001b[A\u001b[A\u001b[A"
     ]
    },
    {
     "data": {
      "application/vnd.jupyter.widget-view+json": {
       "model_id": "8ac3d4b5ec1b4aabb82b6de72b6875fa",
       "version_major": 2,
       "version_minor": 0
      },
      "text/plain": [
       "HBox(children=(IntProgress(value=0, description='Training iteration', max=29, style=ProgressStyle(description_…"
      ]
     },
     "metadata": {},
     "output_type": "display_data"
    },
    {
     "name": "stdout",
     "output_type": "stream",
     "text": [
      "\n"
     ]
    },
    {
     "data": {
      "application/vnd.jupyter.widget-view+json": {
       "model_id": "1bb290c779d944e1a01dedc55df404de",
       "version_major": 2,
       "version_minor": 0
      },
      "text/plain": [
       "HBox(children=(IntProgress(value=0, description='Evaluation iteration', max=6, style=ProgressStyle(description…"
      ]
     },
     "metadata": {},
     "output_type": "display_data"
    },
    {
     "name": "stdout",
     "output_type": "stream",
     "text": [
      "\n",
      "Loss history: [0.5703889032204946, 0.45168088873227435, 0.3713988810777664, 0.31752805908521015, 0.2832884540160497, 0.2619638790686925, 0.2481021930774053, 0.23104599366585413, 0.20977324495712915, 0.19478107243776321, 0.18068071703116098, 0.17129809161027273, 0.15991338839133581, 0.15267540762821832, 0.14439847196141878, 0.14095059037208557, 0.13442849616209665, 0.1295055498679479, 0.12575887019435564, 0.12197569881876309, 0.11888336762785912, 0.11620859305063884, 0.1141701266169548, 0.11486967901388805, 0.10919986541072528, 0.10814833516875903, 0.10605745017528534, 0.10507416725158691, 0.10250762601693471, 0.10089514156182607, 0.10192418346802394, 0.09975786631306012, 0.09757911786437035, 0.09584837158521016, 0.09579815591375034, 0.09720322241385777, 0.0943191647529602, 0.09252247959375381, 0.09215047086278598, 0.09151112847030163, 0.09033517663677533, 0.09209948405623436, 0.09305020049214363, 0.09060696139931679, 0.08979978784918785, 0.08798108187814553, 0.08955100364983082, 0.08821722740928332, 0.08802238665521145, 0.09014840424060822, 0.08693702767292659, 0.08720854669809341, 0.08570322518547376]\n",
      "Dev loss: 0.08543331176042557\n"
     ]
    },
    {
     "name": "stderr",
     "output_type": "stream",
     "text": [
      "\n",
      "\n",
      "\n",
      "Epoch:  54%|█████▍    | 54/100 [06:08<05:11,  6.77s/it]\u001b[A\u001b[A\u001b[A"
     ]
    },
    {
     "data": {
      "application/vnd.jupyter.widget-view+json": {
       "model_id": "29d9f81f0b3e4bbda2343dd25a301e54",
       "version_major": 2,
       "version_minor": 0
      },
      "text/plain": [
       "HBox(children=(IntProgress(value=0, description='Training iteration', max=29, style=ProgressStyle(description_…"
      ]
     },
     "metadata": {},
     "output_type": "display_data"
    },
    {
     "name": "stdout",
     "output_type": "stream",
     "text": [
      "\n"
     ]
    },
    {
     "data": {
      "application/vnd.jupyter.widget-view+json": {
       "model_id": "702802f5ea884437864e6482db15653c",
       "version_major": 2,
       "version_minor": 0
      },
      "text/plain": [
       "HBox(children=(IntProgress(value=0, description='Evaluation iteration', max=6, style=ProgressStyle(description…"
      ]
     },
     "metadata": {},
     "output_type": "display_data"
    },
    {
     "name": "stderr",
     "output_type": "stream",
     "text": [
      "\n",
      "\n",
      "\n",
      "Epoch:  55%|█████▌    | 55/100 [06:15<05:00,  6.68s/it]\u001b[A\u001b[A\u001b[A"
     ]
    },
    {
     "name": "stdout",
     "output_type": "stream",
     "text": [
      "\n",
      "Loss history: [0.5703889032204946, 0.45168088873227435, 0.3713988810777664, 0.31752805908521015, 0.2832884540160497, 0.2619638790686925, 0.2481021930774053, 0.23104599366585413, 0.20977324495712915, 0.19478107243776321, 0.18068071703116098, 0.17129809161027273, 0.15991338839133581, 0.15267540762821832, 0.14439847196141878, 0.14095059037208557, 0.13442849616209665, 0.1295055498679479, 0.12575887019435564, 0.12197569881876309, 0.11888336762785912, 0.11620859305063884, 0.1141701266169548, 0.11486967901388805, 0.10919986541072528, 0.10814833516875903, 0.10605745017528534, 0.10507416725158691, 0.10250762601693471, 0.10089514156182607, 0.10192418346802394, 0.09975786631306012, 0.09757911786437035, 0.09584837158521016, 0.09579815591375034, 0.09720322241385777, 0.0943191647529602, 0.09252247959375381, 0.09215047086278598, 0.09151112847030163, 0.09033517663677533, 0.09209948405623436, 0.09305020049214363, 0.09060696139931679, 0.08979978784918785, 0.08798108187814553, 0.08955100364983082, 0.08821722740928332, 0.08802238665521145, 0.09014840424060822, 0.08693702767292659, 0.08720854669809341, 0.08570322518547376, 0.08543331176042557]\n",
      "Dev loss: 0.08594148295621078\n"
     ]
    },
    {
     "data": {
      "application/vnd.jupyter.widget-view+json": {
       "model_id": "fe5c923abdec4e409abc128e27ca970f",
       "version_major": 2,
       "version_minor": 0
      },
      "text/plain": [
       "HBox(children=(IntProgress(value=0, description='Training iteration', max=29, style=ProgressStyle(description_…"
      ]
     },
     "metadata": {},
     "output_type": "display_data"
    },
    {
     "name": "stdout",
     "output_type": "stream",
     "text": [
      "\n"
     ]
    },
    {
     "data": {
      "application/vnd.jupyter.widget-view+json": {
       "model_id": "908def23e769417b87722fc205823444",
       "version_major": 2,
       "version_minor": 0
      },
      "text/plain": [
       "HBox(children=(IntProgress(value=0, description='Evaluation iteration', max=6, style=ProgressStyle(description…"
      ]
     },
     "metadata": {},
     "output_type": "display_data"
    },
    {
     "name": "stdout",
     "output_type": "stream",
     "text": [
      "\n",
      "Loss history: [0.5703889032204946, 0.45168088873227435, 0.3713988810777664, 0.31752805908521015, 0.2832884540160497, 0.2619638790686925, 0.2481021930774053, 0.23104599366585413, 0.20977324495712915, 0.19478107243776321, 0.18068071703116098, 0.17129809161027273, 0.15991338839133581, 0.15267540762821832, 0.14439847196141878, 0.14095059037208557, 0.13442849616209665, 0.1295055498679479, 0.12575887019435564, 0.12197569881876309, 0.11888336762785912, 0.11620859305063884, 0.1141701266169548, 0.11486967901388805, 0.10919986541072528, 0.10814833516875903, 0.10605745017528534, 0.10507416725158691, 0.10250762601693471, 0.10089514156182607, 0.10192418346802394, 0.09975786631306012, 0.09757911786437035, 0.09584837158521016, 0.09579815591375034, 0.09720322241385777, 0.0943191647529602, 0.09252247959375381, 0.09215047086278598, 0.09151112847030163, 0.09033517663677533, 0.09209948405623436, 0.09305020049214363, 0.09060696139931679, 0.08979978784918785, 0.08798108187814553, 0.08955100364983082, 0.08821722740928332, 0.08802238665521145, 0.09014840424060822, 0.08693702767292659, 0.08720854669809341, 0.08570322518547376, 0.08543331176042557, 0.08594148295621078]\n",
      "Dev loss: 0.08485349019368489\n"
     ]
    },
    {
     "name": "stderr",
     "output_type": "stream",
     "text": [
      "\n",
      "\n",
      "\n",
      "Epoch:  56%|█████▌    | 56/100 [06:22<04:56,  6.75s/it]\u001b[A\u001b[A\u001b[A"
     ]
    },
    {
     "data": {
      "application/vnd.jupyter.widget-view+json": {
       "model_id": "8729a5ac6a3f400287ade0d0936cd23e",
       "version_major": 2,
       "version_minor": 0
      },
      "text/plain": [
       "HBox(children=(IntProgress(value=0, description='Training iteration', max=29, style=ProgressStyle(description_…"
      ]
     },
     "metadata": {},
     "output_type": "display_data"
    },
    {
     "name": "stdout",
     "output_type": "stream",
     "text": [
      "\n"
     ]
    },
    {
     "data": {
      "application/vnd.jupyter.widget-view+json": {
       "model_id": "1ac0246ba2224f48ac80ee4438a9e3d3",
       "version_major": 2,
       "version_minor": 0
      },
      "text/plain": [
       "HBox(children=(IntProgress(value=0, description='Evaluation iteration', max=6, style=ProgressStyle(description…"
      ]
     },
     "metadata": {},
     "output_type": "display_data"
    },
    {
     "name": "stderr",
     "output_type": "stream",
     "text": [
      "\n",
      "\n",
      "\n",
      "Epoch:  57%|█████▋    | 57/100 [06:28<04:46,  6.66s/it]\u001b[A\u001b[A\u001b[A"
     ]
    },
    {
     "name": "stdout",
     "output_type": "stream",
     "text": [
      "\n",
      "Loss history: [0.5703889032204946, 0.45168088873227435, 0.3713988810777664, 0.31752805908521015, 0.2832884540160497, 0.2619638790686925, 0.2481021930774053, 0.23104599366585413, 0.20977324495712915, 0.19478107243776321, 0.18068071703116098, 0.17129809161027273, 0.15991338839133581, 0.15267540762821832, 0.14439847196141878, 0.14095059037208557, 0.13442849616209665, 0.1295055498679479, 0.12575887019435564, 0.12197569881876309, 0.11888336762785912, 0.11620859305063884, 0.1141701266169548, 0.11486967901388805, 0.10919986541072528, 0.10814833516875903, 0.10605745017528534, 0.10507416725158691, 0.10250762601693471, 0.10089514156182607, 0.10192418346802394, 0.09975786631306012, 0.09757911786437035, 0.09584837158521016, 0.09579815591375034, 0.09720322241385777, 0.0943191647529602, 0.09252247959375381, 0.09215047086278598, 0.09151112847030163, 0.09033517663677533, 0.09209948405623436, 0.09305020049214363, 0.09060696139931679, 0.08979978784918785, 0.08798108187814553, 0.08955100364983082, 0.08821722740928332, 0.08802238665521145, 0.09014840424060822, 0.08693702767292659, 0.08720854669809341, 0.08570322518547376, 0.08543331176042557, 0.08594148295621078, 0.08485349019368489]\n",
      "Dev loss: 0.08622598834335804\n"
     ]
    },
    {
     "data": {
      "application/vnd.jupyter.widget-view+json": {
       "model_id": "0a5a6702db3743868cc3f1420e0a7248",
       "version_major": 2,
       "version_minor": 0
      },
      "text/plain": [
       "HBox(children=(IntProgress(value=0, description='Training iteration', max=29, style=ProgressStyle(description_…"
      ]
     },
     "metadata": {},
     "output_type": "display_data"
    },
    {
     "name": "stdout",
     "output_type": "stream",
     "text": [
      "\n"
     ]
    },
    {
     "data": {
      "application/vnd.jupyter.widget-view+json": {
       "model_id": "9d59e60bf9854090a8a884eed17c56f1",
       "version_major": 2,
       "version_minor": 0
      },
      "text/plain": [
       "HBox(children=(IntProgress(value=0, description='Evaluation iteration', max=6, style=ProgressStyle(description…"
      ]
     },
     "metadata": {},
     "output_type": "display_data"
    },
    {
     "name": "stdout",
     "output_type": "stream",
     "text": [
      "\n",
      "Loss history: [0.5703889032204946, 0.45168088873227435, 0.3713988810777664, 0.31752805908521015, 0.2832884540160497, 0.2619638790686925, 0.2481021930774053, 0.23104599366585413, 0.20977324495712915, 0.19478107243776321, 0.18068071703116098, 0.17129809161027273, 0.15991338839133581, 0.15267540762821832, 0.14439847196141878, 0.14095059037208557, 0.13442849616209665, 0.1295055498679479, 0.12575887019435564, 0.12197569881876309, 0.11888336762785912, 0.11620859305063884, 0.1141701266169548, 0.11486967901388805, 0.10919986541072528, 0.10814833516875903, 0.10605745017528534, 0.10507416725158691, 0.10250762601693471, 0.10089514156182607, 0.10192418346802394, 0.09975786631306012, 0.09757911786437035, 0.09584837158521016, 0.09579815591375034, 0.09720322241385777, 0.0943191647529602, 0.09252247959375381, 0.09215047086278598, 0.09151112847030163, 0.09033517663677533, 0.09209948405623436, 0.09305020049214363, 0.09060696139931679, 0.08979978784918785, 0.08798108187814553, 0.08955100364983082, 0.08821722740928332, 0.08802238665521145, 0.09014840424060822, 0.08693702767292659, 0.08720854669809341, 0.08570322518547376, 0.08543331176042557, 0.08594148295621078, 0.08485349019368489, 0.08622598834335804]\n",
      "Dev loss: 0.08391494490206242\n"
     ]
    },
    {
     "name": "stderr",
     "output_type": "stream",
     "text": [
      "\n",
      "\n",
      "\n",
      "Epoch:  58%|█████▊    | 58/100 [06:35<04:43,  6.74s/it]\u001b[A\u001b[A\u001b[A"
     ]
    },
    {
     "data": {
      "application/vnd.jupyter.widget-view+json": {
       "model_id": "3f132bdf1d8c4ca4900e90ea781f203f",
       "version_major": 2,
       "version_minor": 0
      },
      "text/plain": [
       "HBox(children=(IntProgress(value=0, description='Training iteration', max=29, style=ProgressStyle(description_…"
      ]
     },
     "metadata": {},
     "output_type": "display_data"
    },
    {
     "name": "stdout",
     "output_type": "stream",
     "text": [
      "\n"
     ]
    },
    {
     "data": {
      "application/vnd.jupyter.widget-view+json": {
       "model_id": "4d70e5009afc4664a71d32e0bf159dcd",
       "version_major": 2,
       "version_minor": 0
      },
      "text/plain": [
       "HBox(children=(IntProgress(value=0, description='Evaluation iteration', max=6, style=ProgressStyle(description…"
      ]
     },
     "metadata": {},
     "output_type": "display_data"
    },
    {
     "name": "stderr",
     "output_type": "stream",
     "text": [
      "\n",
      "\n",
      "\n",
      "Epoch:  59%|█████▉    | 59/100 [06:41<04:32,  6.66s/it]\u001b[A\u001b[A\u001b[A"
     ]
    },
    {
     "name": "stdout",
     "output_type": "stream",
     "text": [
      "\n",
      "Loss history: [0.5703889032204946, 0.45168088873227435, 0.3713988810777664, 0.31752805908521015, 0.2832884540160497, 0.2619638790686925, 0.2481021930774053, 0.23104599366585413, 0.20977324495712915, 0.19478107243776321, 0.18068071703116098, 0.17129809161027273, 0.15991338839133581, 0.15267540762821832, 0.14439847196141878, 0.14095059037208557, 0.13442849616209665, 0.1295055498679479, 0.12575887019435564, 0.12197569881876309, 0.11888336762785912, 0.11620859305063884, 0.1141701266169548, 0.11486967901388805, 0.10919986541072528, 0.10814833516875903, 0.10605745017528534, 0.10507416725158691, 0.10250762601693471, 0.10089514156182607, 0.10192418346802394, 0.09975786631306012, 0.09757911786437035, 0.09584837158521016, 0.09579815591375034, 0.09720322241385777, 0.0943191647529602, 0.09252247959375381, 0.09215047086278598, 0.09151112847030163, 0.09033517663677533, 0.09209948405623436, 0.09305020049214363, 0.09060696139931679, 0.08979978784918785, 0.08798108187814553, 0.08955100364983082, 0.08821722740928332, 0.08802238665521145, 0.09014840424060822, 0.08693702767292659, 0.08720854669809341, 0.08570322518547376, 0.08543331176042557, 0.08594148295621078, 0.08485349019368489, 0.08622598834335804, 0.08391494490206242]\n",
      "Dev loss: 0.08434451309343179\n"
     ]
    },
    {
     "data": {
      "application/vnd.jupyter.widget-view+json": {
       "model_id": "6ba98d7cd120423b937ddc38a29b5e11",
       "version_major": 2,
       "version_minor": 0
      },
      "text/plain": [
       "HBox(children=(IntProgress(value=0, description='Training iteration', max=29, style=ProgressStyle(description_…"
      ]
     },
     "metadata": {},
     "output_type": "display_data"
    },
    {
     "name": "stdout",
     "output_type": "stream",
     "text": [
      "\n"
     ]
    },
    {
     "data": {
      "application/vnd.jupyter.widget-view+json": {
       "model_id": "f87e2580d0e44fb2b412c4ac75c342f0",
       "version_major": 2,
       "version_minor": 0
      },
      "text/plain": [
       "HBox(children=(IntProgress(value=0, description='Evaluation iteration', max=6, style=ProgressStyle(description…"
      ]
     },
     "metadata": {},
     "output_type": "display_data"
    },
    {
     "name": "stdout",
     "output_type": "stream",
     "text": [
      "\n",
      "Loss history: [0.5703889032204946, 0.45168088873227435, 0.3713988810777664, 0.31752805908521015, 0.2832884540160497, 0.2619638790686925, 0.2481021930774053, 0.23104599366585413, 0.20977324495712915, 0.19478107243776321, 0.18068071703116098, 0.17129809161027273, 0.15991338839133581, 0.15267540762821832, 0.14439847196141878, 0.14095059037208557, 0.13442849616209665, 0.1295055498679479, 0.12575887019435564, 0.12197569881876309, 0.11888336762785912, 0.11620859305063884, 0.1141701266169548, 0.11486967901388805, 0.10919986541072528, 0.10814833516875903, 0.10605745017528534, 0.10507416725158691, 0.10250762601693471, 0.10089514156182607, 0.10192418346802394, 0.09975786631306012, 0.09757911786437035, 0.09584837158521016, 0.09579815591375034, 0.09720322241385777, 0.0943191647529602, 0.09252247959375381, 0.09215047086278598, 0.09151112847030163, 0.09033517663677533, 0.09209948405623436, 0.09305020049214363, 0.09060696139931679, 0.08979978784918785, 0.08798108187814553, 0.08955100364983082, 0.08821722740928332, 0.08802238665521145, 0.09014840424060822, 0.08693702767292659, 0.08720854669809341, 0.08570322518547376, 0.08543331176042557, 0.08594148295621078, 0.08485349019368489, 0.08622598834335804, 0.08391494490206242, 0.08434451309343179]\n",
      "Dev loss: 0.08373816621800263\n"
     ]
    },
    {
     "name": "stderr",
     "output_type": "stream",
     "text": [
      "\n",
      "\n",
      "\n",
      "Epoch:  60%|██████    | 60/100 [06:48<04:29,  6.74s/it]\u001b[A\u001b[A\u001b[A"
     ]
    },
    {
     "data": {
      "application/vnd.jupyter.widget-view+json": {
       "model_id": "79c6fac7cddc45ae8c122290243243e7",
       "version_major": 2,
       "version_minor": 0
      },
      "text/plain": [
       "HBox(children=(IntProgress(value=0, description='Training iteration', max=29, style=ProgressStyle(description_…"
      ]
     },
     "metadata": {},
     "output_type": "display_data"
    },
    {
     "name": "stdout",
     "output_type": "stream",
     "text": [
      "\n"
     ]
    },
    {
     "data": {
      "application/vnd.jupyter.widget-view+json": {
       "model_id": "473bcf3a795d4a0aa860e8d4cd737fa2",
       "version_major": 2,
       "version_minor": 0
      },
      "text/plain": [
       "HBox(children=(IntProgress(value=0, description='Evaluation iteration', max=6, style=ProgressStyle(description…"
      ]
     },
     "metadata": {},
     "output_type": "display_data"
    },
    {
     "name": "stderr",
     "output_type": "stream",
     "text": [
      "\n",
      "\n",
      "\n",
      "Epoch:  61%|██████    | 61/100 [06:55<04:19,  6.65s/it]\u001b[A\u001b[A\u001b[A"
     ]
    },
    {
     "name": "stdout",
     "output_type": "stream",
     "text": [
      "\n",
      "Loss history: [0.5703889032204946, 0.45168088873227435, 0.3713988810777664, 0.31752805908521015, 0.2832884540160497, 0.2619638790686925, 0.2481021930774053, 0.23104599366585413, 0.20977324495712915, 0.19478107243776321, 0.18068071703116098, 0.17129809161027273, 0.15991338839133581, 0.15267540762821832, 0.14439847196141878, 0.14095059037208557, 0.13442849616209665, 0.1295055498679479, 0.12575887019435564, 0.12197569881876309, 0.11888336762785912, 0.11620859305063884, 0.1141701266169548, 0.11486967901388805, 0.10919986541072528, 0.10814833516875903, 0.10605745017528534, 0.10507416725158691, 0.10250762601693471, 0.10089514156182607, 0.10192418346802394, 0.09975786631306012, 0.09757911786437035, 0.09584837158521016, 0.09579815591375034, 0.09720322241385777, 0.0943191647529602, 0.09252247959375381, 0.09215047086278598, 0.09151112847030163, 0.09033517663677533, 0.09209948405623436, 0.09305020049214363, 0.09060696139931679, 0.08979978784918785, 0.08798108187814553, 0.08955100364983082, 0.08821722740928332, 0.08802238665521145, 0.09014840424060822, 0.08693702767292659, 0.08720854669809341, 0.08570322518547376, 0.08543331176042557, 0.08594148295621078, 0.08485349019368489, 0.08622598834335804, 0.08391494490206242, 0.08434451309343179, 0.08373816621800263]\n",
      "Dev loss: 0.08380288630723953\n"
     ]
    },
    {
     "data": {
      "application/vnd.jupyter.widget-view+json": {
       "model_id": "95468845347d4b4ca0345a809a5ea3bb",
       "version_major": 2,
       "version_minor": 0
      },
      "text/plain": [
       "HBox(children=(IntProgress(value=0, description='Training iteration', max=29, style=ProgressStyle(description_…"
      ]
     },
     "metadata": {},
     "output_type": "display_data"
    },
    {
     "name": "stdout",
     "output_type": "stream",
     "text": [
      "\n"
     ]
    },
    {
     "data": {
      "application/vnd.jupyter.widget-view+json": {
       "model_id": "d0f4569b98e24625ab205fef68552ee1",
       "version_major": 2,
       "version_minor": 0
      },
      "text/plain": [
       "HBox(children=(IntProgress(value=0, description='Evaluation iteration', max=6, style=ProgressStyle(description…"
      ]
     },
     "metadata": {},
     "output_type": "display_data"
    },
    {
     "name": "stdout",
     "output_type": "stream",
     "text": [
      "\n",
      "Loss history: [0.5703889032204946, 0.45168088873227435, 0.3713988810777664, 0.31752805908521015, 0.2832884540160497, 0.2619638790686925, 0.2481021930774053, 0.23104599366585413, 0.20977324495712915, 0.19478107243776321, 0.18068071703116098, 0.17129809161027273, 0.15991338839133581, 0.15267540762821832, 0.14439847196141878, 0.14095059037208557, 0.13442849616209665, 0.1295055498679479, 0.12575887019435564, 0.12197569881876309, 0.11888336762785912, 0.11620859305063884, 0.1141701266169548, 0.11486967901388805, 0.10919986541072528, 0.10814833516875903, 0.10605745017528534, 0.10507416725158691, 0.10250762601693471, 0.10089514156182607, 0.10192418346802394, 0.09975786631306012, 0.09757911786437035, 0.09584837158521016, 0.09579815591375034, 0.09720322241385777, 0.0943191647529602, 0.09252247959375381, 0.09215047086278598, 0.09151112847030163, 0.09033517663677533, 0.09209948405623436, 0.09305020049214363, 0.09060696139931679, 0.08979978784918785, 0.08798108187814553, 0.08955100364983082, 0.08821722740928332, 0.08802238665521145, 0.09014840424060822, 0.08693702767292659, 0.08720854669809341, 0.08570322518547376, 0.08543331176042557, 0.08594148295621078, 0.08485349019368489, 0.08622598834335804, 0.08391494490206242, 0.08434451309343179, 0.08373816621800263, 0.08380288630723953]\n",
      "Dev loss: 0.08368712663650513\n"
     ]
    },
    {
     "name": "stderr",
     "output_type": "stream",
     "text": [
      "\n",
      "\n",
      "\n",
      "Epoch:  62%|██████▏   | 62/100 [07:02<04:15,  6.73s/it]\u001b[A\u001b[A\u001b[A"
     ]
    },
    {
     "data": {
      "application/vnd.jupyter.widget-view+json": {
       "model_id": "954888a741bc43dfb4c6662c6f04e1ae",
       "version_major": 2,
       "version_minor": 0
      },
      "text/plain": [
       "HBox(children=(IntProgress(value=0, description='Training iteration', max=29, style=ProgressStyle(description_…"
      ]
     },
     "metadata": {},
     "output_type": "display_data"
    },
    {
     "name": "stdout",
     "output_type": "stream",
     "text": [
      "\n"
     ]
    },
    {
     "data": {
      "application/vnd.jupyter.widget-view+json": {
       "model_id": "4952db9cbbba4978b8b4708e4e748391",
       "version_major": 2,
       "version_minor": 0
      },
      "text/plain": [
       "HBox(children=(IntProgress(value=0, description='Evaluation iteration', max=6, style=ProgressStyle(description…"
      ]
     },
     "metadata": {},
     "output_type": "display_data"
    },
    {
     "name": "stderr",
     "output_type": "stream",
     "text": [
      "\n",
      "\n",
      "\n",
      "Epoch:  63%|██████▎   | 63/100 [07:08<04:06,  6.65s/it]\u001b[A\u001b[A\u001b[A"
     ]
    },
    {
     "name": "stdout",
     "output_type": "stream",
     "text": [
      "\n",
      "Loss history: [0.5703889032204946, 0.45168088873227435, 0.3713988810777664, 0.31752805908521015, 0.2832884540160497, 0.2619638790686925, 0.2481021930774053, 0.23104599366585413, 0.20977324495712915, 0.19478107243776321, 0.18068071703116098, 0.17129809161027273, 0.15991338839133581, 0.15267540762821832, 0.14439847196141878, 0.14095059037208557, 0.13442849616209665, 0.1295055498679479, 0.12575887019435564, 0.12197569881876309, 0.11888336762785912, 0.11620859305063884, 0.1141701266169548, 0.11486967901388805, 0.10919986541072528, 0.10814833516875903, 0.10605745017528534, 0.10507416725158691, 0.10250762601693471, 0.10089514156182607, 0.10192418346802394, 0.09975786631306012, 0.09757911786437035, 0.09584837158521016, 0.09579815591375034, 0.09720322241385777, 0.0943191647529602, 0.09252247959375381, 0.09215047086278598, 0.09151112847030163, 0.09033517663677533, 0.09209948405623436, 0.09305020049214363, 0.09060696139931679, 0.08979978784918785, 0.08798108187814553, 0.08955100364983082, 0.08821722740928332, 0.08802238665521145, 0.09014840424060822, 0.08693702767292659, 0.08720854669809341, 0.08570322518547376, 0.08543331176042557, 0.08594148295621078, 0.08485349019368489, 0.08622598834335804, 0.08391494490206242, 0.08434451309343179, 0.08373816621800263, 0.08380288630723953, 0.08368712663650513]\n",
      "Dev loss: 0.08394937527676423\n"
     ]
    },
    {
     "data": {
      "application/vnd.jupyter.widget-view+json": {
       "model_id": "1ae500d9aa9a467ba45799085c764725",
       "version_major": 2,
       "version_minor": 0
      },
      "text/plain": [
       "HBox(children=(IntProgress(value=0, description='Training iteration', max=29, style=ProgressStyle(description_…"
      ]
     },
     "metadata": {},
     "output_type": "display_data"
    },
    {
     "name": "stdout",
     "output_type": "stream",
     "text": [
      "\n"
     ]
    },
    {
     "data": {
      "application/vnd.jupyter.widget-view+json": {
       "model_id": "23e6f0578777474897e1033562c203d0",
       "version_major": 2,
       "version_minor": 0
      },
      "text/plain": [
       "HBox(children=(IntProgress(value=0, description='Evaluation iteration', max=6, style=ProgressStyle(description…"
      ]
     },
     "metadata": {},
     "output_type": "display_data"
    },
    {
     "name": "stderr",
     "output_type": "stream",
     "text": [
      "\n",
      "\n",
      "\n",
      "Epoch:  64%|██████▍   | 64/100 [07:15<03:57,  6.60s/it]\u001b[A\u001b[A\u001b[A"
     ]
    },
    {
     "name": "stdout",
     "output_type": "stream",
     "text": [
      "\n",
      "Loss history: [0.5703889032204946, 0.45168088873227435, 0.3713988810777664, 0.31752805908521015, 0.2832884540160497, 0.2619638790686925, 0.2481021930774053, 0.23104599366585413, 0.20977324495712915, 0.19478107243776321, 0.18068071703116098, 0.17129809161027273, 0.15991338839133581, 0.15267540762821832, 0.14439847196141878, 0.14095059037208557, 0.13442849616209665, 0.1295055498679479, 0.12575887019435564, 0.12197569881876309, 0.11888336762785912, 0.11620859305063884, 0.1141701266169548, 0.11486967901388805, 0.10919986541072528, 0.10814833516875903, 0.10605745017528534, 0.10507416725158691, 0.10250762601693471, 0.10089514156182607, 0.10192418346802394, 0.09975786631306012, 0.09757911786437035, 0.09584837158521016, 0.09579815591375034, 0.09720322241385777, 0.0943191647529602, 0.09252247959375381, 0.09215047086278598, 0.09151112847030163, 0.09033517663677533, 0.09209948405623436, 0.09305020049214363, 0.09060696139931679, 0.08979978784918785, 0.08798108187814553, 0.08955100364983082, 0.08821722740928332, 0.08802238665521145, 0.09014840424060822, 0.08693702767292659, 0.08720854669809341, 0.08570322518547376, 0.08543331176042557, 0.08594148295621078, 0.08485349019368489, 0.08622598834335804, 0.08391494490206242, 0.08434451309343179, 0.08373816621800263, 0.08380288630723953, 0.08368712663650513, 0.08394937527676423]\n",
      "Dev loss: 0.08395916285614173\n"
     ]
    },
    {
     "data": {
      "application/vnd.jupyter.widget-view+json": {
       "model_id": "4e711216220143ada1492d5a055c2499",
       "version_major": 2,
       "version_minor": 0
      },
      "text/plain": [
       "HBox(children=(IntProgress(value=0, description='Training iteration', max=29, style=ProgressStyle(description_…"
      ]
     },
     "metadata": {},
     "output_type": "display_data"
    },
    {
     "name": "stdout",
     "output_type": "stream",
     "text": [
      "\n"
     ]
    },
    {
     "data": {
      "application/vnd.jupyter.widget-view+json": {
       "model_id": "62a068f6f0024d2dbcec3b071d3b1928",
       "version_major": 2,
       "version_minor": 0
      },
      "text/plain": [
       "HBox(children=(IntProgress(value=0, description='Evaluation iteration', max=6, style=ProgressStyle(description…"
      ]
     },
     "metadata": {},
     "output_type": "display_data"
    },
    {
     "name": "stdout",
     "output_type": "stream",
     "text": [
      "\n",
      "Loss history: [0.5703889032204946, 0.45168088873227435, 0.3713988810777664, 0.31752805908521015, 0.2832884540160497, 0.2619638790686925, 0.2481021930774053, 0.23104599366585413, 0.20977324495712915, 0.19478107243776321, 0.18068071703116098, 0.17129809161027273, 0.15991338839133581, 0.15267540762821832, 0.14439847196141878, 0.14095059037208557, 0.13442849616209665, 0.1295055498679479, 0.12575887019435564, 0.12197569881876309, 0.11888336762785912, 0.11620859305063884, 0.1141701266169548, 0.11486967901388805, 0.10919986541072528, 0.10814833516875903, 0.10605745017528534, 0.10507416725158691, 0.10250762601693471, 0.10089514156182607, 0.10192418346802394, 0.09975786631306012, 0.09757911786437035, 0.09584837158521016, 0.09579815591375034, 0.09720322241385777, 0.0943191647529602, 0.09252247959375381, 0.09215047086278598, 0.09151112847030163, 0.09033517663677533, 0.09209948405623436, 0.09305020049214363, 0.09060696139931679, 0.08979978784918785, 0.08798108187814553, 0.08955100364983082, 0.08821722740928332, 0.08802238665521145, 0.09014840424060822, 0.08693702767292659, 0.08720854669809341, 0.08570322518547376, 0.08543331176042557, 0.08594148295621078, 0.08485349019368489, 0.08622598834335804, 0.08391494490206242, 0.08434451309343179, 0.08373816621800263, 0.08380288630723953, 0.08368712663650513, 0.08394937527676423, 0.08395916285614173]\n",
      "Dev loss: 0.08199673456450303\n"
     ]
    },
    {
     "name": "stderr",
     "output_type": "stream",
     "text": [
      "\n",
      "\n",
      "\n",
      "Epoch:  65%|██████▌   | 65/100 [07:22<03:54,  6.69s/it]\u001b[A\u001b[A\u001b[A"
     ]
    },
    {
     "data": {
      "application/vnd.jupyter.widget-view+json": {
       "model_id": "706541629c5f4f228eaae4035f5668c7",
       "version_major": 2,
       "version_minor": 0
      },
      "text/plain": [
       "HBox(children=(IntProgress(value=0, description='Training iteration', max=29, style=ProgressStyle(description_…"
      ]
     },
     "metadata": {},
     "output_type": "display_data"
    },
    {
     "name": "stdout",
     "output_type": "stream",
     "text": [
      "\n"
     ]
    },
    {
     "data": {
      "application/vnd.jupyter.widget-view+json": {
       "model_id": "fd312dbdd2984a4b8dc431b8dd14dc7c",
       "version_major": 2,
       "version_minor": 0
      },
      "text/plain": [
       "HBox(children=(IntProgress(value=0, description='Evaluation iteration', max=6, style=ProgressStyle(description…"
      ]
     },
     "metadata": {},
     "output_type": "display_data"
    },
    {
     "name": "stderr",
     "output_type": "stream",
     "text": [
      "\n",
      "\n",
      "\n",
      "Epoch:  66%|██████▌   | 66/100 [07:28<03:45,  6.63s/it]\u001b[A\u001b[A\u001b[A"
     ]
    },
    {
     "name": "stdout",
     "output_type": "stream",
     "text": [
      "\n",
      "Loss history: [0.5703889032204946, 0.45168088873227435, 0.3713988810777664, 0.31752805908521015, 0.2832884540160497, 0.2619638790686925, 0.2481021930774053, 0.23104599366585413, 0.20977324495712915, 0.19478107243776321, 0.18068071703116098, 0.17129809161027273, 0.15991338839133581, 0.15267540762821832, 0.14439847196141878, 0.14095059037208557, 0.13442849616209665, 0.1295055498679479, 0.12575887019435564, 0.12197569881876309, 0.11888336762785912, 0.11620859305063884, 0.1141701266169548, 0.11486967901388805, 0.10919986541072528, 0.10814833516875903, 0.10605745017528534, 0.10507416725158691, 0.10250762601693471, 0.10089514156182607, 0.10192418346802394, 0.09975786631306012, 0.09757911786437035, 0.09584837158521016, 0.09579815591375034, 0.09720322241385777, 0.0943191647529602, 0.09252247959375381, 0.09215047086278598, 0.09151112847030163, 0.09033517663677533, 0.09209948405623436, 0.09305020049214363, 0.09060696139931679, 0.08979978784918785, 0.08798108187814553, 0.08955100364983082, 0.08821722740928332, 0.08802238665521145, 0.09014840424060822, 0.08693702767292659, 0.08720854669809341, 0.08570322518547376, 0.08543331176042557, 0.08594148295621078, 0.08485349019368489, 0.08622598834335804, 0.08391494490206242, 0.08434451309343179, 0.08373816621800263, 0.08380288630723953, 0.08368712663650513, 0.08394937527676423, 0.08395916285614173, 0.08199673456450303]\n",
      "Dev loss: 0.0830353411535422\n"
     ]
    },
    {
     "data": {
      "application/vnd.jupyter.widget-view+json": {
       "model_id": "70b99fdacf794ef89611848d1e325dbd",
       "version_major": 2,
       "version_minor": 0
      },
      "text/plain": [
       "HBox(children=(IntProgress(value=0, description='Training iteration', max=29, style=ProgressStyle(description_…"
      ]
     },
     "metadata": {},
     "output_type": "display_data"
    },
    {
     "name": "stdout",
     "output_type": "stream",
     "text": [
      "\n"
     ]
    },
    {
     "data": {
      "application/vnd.jupyter.widget-view+json": {
       "model_id": "d0bcb2bef4584a82b98360b8c324d7de",
       "version_major": 2,
       "version_minor": 0
      },
      "text/plain": [
       "HBox(children=(IntProgress(value=0, description='Evaluation iteration', max=6, style=ProgressStyle(description…"
      ]
     },
     "metadata": {},
     "output_type": "display_data"
    },
    {
     "name": "stdout",
     "output_type": "stream",
     "text": [
      "\n",
      "Loss history: [0.5703889032204946, 0.45168088873227435, 0.3713988810777664, 0.31752805908521015, 0.2832884540160497, 0.2619638790686925, 0.2481021930774053, 0.23104599366585413, 0.20977324495712915, 0.19478107243776321, 0.18068071703116098, 0.17129809161027273, 0.15991338839133581, 0.15267540762821832, 0.14439847196141878, 0.14095059037208557, 0.13442849616209665, 0.1295055498679479, 0.12575887019435564, 0.12197569881876309, 0.11888336762785912, 0.11620859305063884, 0.1141701266169548, 0.11486967901388805, 0.10919986541072528, 0.10814833516875903, 0.10605745017528534, 0.10507416725158691, 0.10250762601693471, 0.10089514156182607, 0.10192418346802394, 0.09975786631306012, 0.09757911786437035, 0.09584837158521016, 0.09579815591375034, 0.09720322241385777, 0.0943191647529602, 0.09252247959375381, 0.09215047086278598, 0.09151112847030163, 0.09033517663677533, 0.09209948405623436, 0.09305020049214363, 0.09060696139931679, 0.08979978784918785, 0.08798108187814553, 0.08955100364983082, 0.08821722740928332, 0.08802238665521145, 0.09014840424060822, 0.08693702767292659, 0.08720854669809341, 0.08570322518547376, 0.08543331176042557, 0.08594148295621078, 0.08485349019368489, 0.08622598834335804, 0.08391494490206242, 0.08434451309343179, 0.08373816621800263, 0.08380288630723953, 0.08368712663650513, 0.08394937527676423, 0.08395916285614173, 0.08199673456450303, 0.0830353411535422]\n",
      "Dev loss: 0.08182832474509875\n"
     ]
    },
    {
     "name": "stderr",
     "output_type": "stream",
     "text": [
      "\n",
      "\n",
      "\n",
      "Epoch:  67%|██████▋   | 67/100 [07:35<03:41,  6.71s/it]\u001b[A\u001b[A\u001b[A"
     ]
    },
    {
     "data": {
      "application/vnd.jupyter.widget-view+json": {
       "model_id": "4dd95b5ae331439ab0e27ecda2a882a3",
       "version_major": 2,
       "version_minor": 0
      },
      "text/plain": [
       "HBox(children=(IntProgress(value=0, description='Training iteration', max=29, style=ProgressStyle(description_…"
      ]
     },
     "metadata": {},
     "output_type": "display_data"
    },
    {
     "name": "stdout",
     "output_type": "stream",
     "text": [
      "\n"
     ]
    },
    {
     "data": {
      "application/vnd.jupyter.widget-view+json": {
       "model_id": "5765dade1cee44f39144503ad31b4c0f",
       "version_major": 2,
       "version_minor": 0
      },
      "text/plain": [
       "HBox(children=(IntProgress(value=0, description='Evaluation iteration', max=6, style=ProgressStyle(description…"
      ]
     },
     "metadata": {},
     "output_type": "display_data"
    },
    {
     "name": "stdout",
     "output_type": "stream",
     "text": [
      "\n",
      "Loss history: [0.5703889032204946, 0.45168088873227435, 0.3713988810777664, 0.31752805908521015, 0.2832884540160497, 0.2619638790686925, 0.2481021930774053, 0.23104599366585413, 0.20977324495712915, 0.19478107243776321, 0.18068071703116098, 0.17129809161027273, 0.15991338839133581, 0.15267540762821832, 0.14439847196141878, 0.14095059037208557, 0.13442849616209665, 0.1295055498679479, 0.12575887019435564, 0.12197569881876309, 0.11888336762785912, 0.11620859305063884, 0.1141701266169548, 0.11486967901388805, 0.10919986541072528, 0.10814833516875903, 0.10605745017528534, 0.10507416725158691, 0.10250762601693471, 0.10089514156182607, 0.10192418346802394, 0.09975786631306012, 0.09757911786437035, 0.09584837158521016, 0.09579815591375034, 0.09720322241385777, 0.0943191647529602, 0.09252247959375381, 0.09215047086278598, 0.09151112847030163, 0.09033517663677533, 0.09209948405623436, 0.09305020049214363, 0.09060696139931679, 0.08979978784918785, 0.08798108187814553, 0.08955100364983082, 0.08821722740928332, 0.08802238665521145, 0.09014840424060822, 0.08693702767292659, 0.08720854669809341, 0.08570322518547376, 0.08543331176042557, 0.08594148295621078, 0.08485349019368489, 0.08622598834335804, 0.08391494490206242, 0.08434451309343179, 0.08373816621800263, 0.08380288630723953, 0.08368712663650513, 0.08394937527676423, 0.08395916285614173, 0.08199673456450303, 0.0830353411535422, 0.08182832474509875]\n",
      "Dev loss: 0.0812830248226722\n"
     ]
    },
    {
     "name": "stderr",
     "output_type": "stream",
     "text": [
      "\n",
      "\n",
      "\n",
      "Epoch:  68%|██████▊   | 68/100 [07:42<03:36,  6.78s/it]\u001b[A\u001b[A\u001b[A"
     ]
    },
    {
     "data": {
      "application/vnd.jupyter.widget-view+json": {
       "model_id": "5ad83da02c794f7aa6606feaf380a3b5",
       "version_major": 2,
       "version_minor": 0
      },
      "text/plain": [
       "HBox(children=(IntProgress(value=0, description='Training iteration', max=29, style=ProgressStyle(description_…"
      ]
     },
     "metadata": {},
     "output_type": "display_data"
    },
    {
     "name": "stdout",
     "output_type": "stream",
     "text": [
      "\n"
     ]
    },
    {
     "data": {
      "application/vnd.jupyter.widget-view+json": {
       "model_id": "27f08a24319d491eb78b8d77581054aa",
       "version_major": 2,
       "version_minor": 0
      },
      "text/plain": [
       "HBox(children=(IntProgress(value=0, description='Evaluation iteration', max=6, style=ProgressStyle(description…"
      ]
     },
     "metadata": {},
     "output_type": "display_data"
    },
    {
     "name": "stderr",
     "output_type": "stream",
     "text": [
      "\n",
      "\n",
      "\n",
      "Epoch:  69%|██████▉   | 69/100 [07:48<03:27,  6.68s/it]\u001b[A\u001b[A\u001b[A"
     ]
    },
    {
     "name": "stdout",
     "output_type": "stream",
     "text": [
      "\n",
      "Loss history: [0.5703889032204946, 0.45168088873227435, 0.3713988810777664, 0.31752805908521015, 0.2832884540160497, 0.2619638790686925, 0.2481021930774053, 0.23104599366585413, 0.20977324495712915, 0.19478107243776321, 0.18068071703116098, 0.17129809161027273, 0.15991338839133581, 0.15267540762821832, 0.14439847196141878, 0.14095059037208557, 0.13442849616209665, 0.1295055498679479, 0.12575887019435564, 0.12197569881876309, 0.11888336762785912, 0.11620859305063884, 0.1141701266169548, 0.11486967901388805, 0.10919986541072528, 0.10814833516875903, 0.10605745017528534, 0.10507416725158691, 0.10250762601693471, 0.10089514156182607, 0.10192418346802394, 0.09975786631306012, 0.09757911786437035, 0.09584837158521016, 0.09579815591375034, 0.09720322241385777, 0.0943191647529602, 0.09252247959375381, 0.09215047086278598, 0.09151112847030163, 0.09033517663677533, 0.09209948405623436, 0.09305020049214363, 0.09060696139931679, 0.08979978784918785, 0.08798108187814553, 0.08955100364983082, 0.08821722740928332, 0.08802238665521145, 0.09014840424060822, 0.08693702767292659, 0.08720854669809341, 0.08570322518547376, 0.08543331176042557, 0.08594148295621078, 0.08485349019368489, 0.08622598834335804, 0.08391494490206242, 0.08434451309343179, 0.08373816621800263, 0.08380288630723953, 0.08368712663650513, 0.08394937527676423, 0.08395916285614173, 0.08199673456450303, 0.0830353411535422, 0.08182832474509875, 0.0812830248226722]\n",
      "Dev loss: 0.08168458938598633\n"
     ]
    },
    {
     "data": {
      "application/vnd.jupyter.widget-view+json": {
       "model_id": "5bcda39a8d7741759f266cae4e3abd9e",
       "version_major": 2,
       "version_minor": 0
      },
      "text/plain": [
       "HBox(children=(IntProgress(value=0, description='Training iteration', max=29, style=ProgressStyle(description_…"
      ]
     },
     "metadata": {},
     "output_type": "display_data"
    },
    {
     "name": "stdout",
     "output_type": "stream",
     "text": [
      "\n"
     ]
    },
    {
     "data": {
      "application/vnd.jupyter.widget-view+json": {
       "model_id": "b30d42de910a428e8777584f4dcc2607",
       "version_major": 2,
       "version_minor": 0
      },
      "text/plain": [
       "HBox(children=(IntProgress(value=0, description='Evaluation iteration', max=6, style=ProgressStyle(description…"
      ]
     },
     "metadata": {},
     "output_type": "display_data"
    },
    {
     "name": "stderr",
     "output_type": "stream",
     "text": [
      "\n",
      "\n",
      "\n",
      "Epoch:  70%|███████   | 70/100 [07:55<03:18,  6.62s/it]\u001b[A\u001b[A\u001b[A"
     ]
    },
    {
     "name": "stdout",
     "output_type": "stream",
     "text": [
      "\n",
      "Loss history: [0.5703889032204946, 0.45168088873227435, 0.3713988810777664, 0.31752805908521015, 0.2832884540160497, 0.2619638790686925, 0.2481021930774053, 0.23104599366585413, 0.20977324495712915, 0.19478107243776321, 0.18068071703116098, 0.17129809161027273, 0.15991338839133581, 0.15267540762821832, 0.14439847196141878, 0.14095059037208557, 0.13442849616209665, 0.1295055498679479, 0.12575887019435564, 0.12197569881876309, 0.11888336762785912, 0.11620859305063884, 0.1141701266169548, 0.11486967901388805, 0.10919986541072528, 0.10814833516875903, 0.10605745017528534, 0.10507416725158691, 0.10250762601693471, 0.10089514156182607, 0.10192418346802394, 0.09975786631306012, 0.09757911786437035, 0.09584837158521016, 0.09579815591375034, 0.09720322241385777, 0.0943191647529602, 0.09252247959375381, 0.09215047086278598, 0.09151112847030163, 0.09033517663677533, 0.09209948405623436, 0.09305020049214363, 0.09060696139931679, 0.08979978784918785, 0.08798108187814553, 0.08955100364983082, 0.08821722740928332, 0.08802238665521145, 0.09014840424060822, 0.08693702767292659, 0.08720854669809341, 0.08570322518547376, 0.08543331176042557, 0.08594148295621078, 0.08485349019368489, 0.08622598834335804, 0.08391494490206242, 0.08434451309343179, 0.08373816621800263, 0.08380288630723953, 0.08368712663650513, 0.08394937527676423, 0.08395916285614173, 0.08199673456450303, 0.0830353411535422, 0.08182832474509875, 0.0812830248226722, 0.08168458938598633]\n",
      "Dev loss: 0.08261202772458394\n"
     ]
    },
    {
     "data": {
      "application/vnd.jupyter.widget-view+json": {
       "model_id": "2b5076e351f246aa8a9e7eaf1190fa78",
       "version_major": 2,
       "version_minor": 0
      },
      "text/plain": [
       "HBox(children=(IntProgress(value=0, description='Training iteration', max=29, style=ProgressStyle(description_…"
      ]
     },
     "metadata": {},
     "output_type": "display_data"
    },
    {
     "name": "stdout",
     "output_type": "stream",
     "text": [
      "\n"
     ]
    },
    {
     "data": {
      "application/vnd.jupyter.widget-view+json": {
       "model_id": "4f3fddfe22f14cf389c974033d0854ce",
       "version_major": 2,
       "version_minor": 0
      },
      "text/plain": [
       "HBox(children=(IntProgress(value=0, description='Evaluation iteration', max=6, style=ProgressStyle(description…"
      ]
     },
     "metadata": {},
     "output_type": "display_data"
    },
    {
     "name": "stderr",
     "output_type": "stream",
     "text": [
      "\n",
      "\n",
      "\n",
      "Epoch:  71%|███████   | 71/100 [08:01<03:10,  6.57s/it]\u001b[A\u001b[A\u001b[A"
     ]
    },
    {
     "name": "stdout",
     "output_type": "stream",
     "text": [
      "\n",
      "Loss history: [0.5703889032204946, 0.45168088873227435, 0.3713988810777664, 0.31752805908521015, 0.2832884540160497, 0.2619638790686925, 0.2481021930774053, 0.23104599366585413, 0.20977324495712915, 0.19478107243776321, 0.18068071703116098, 0.17129809161027273, 0.15991338839133581, 0.15267540762821832, 0.14439847196141878, 0.14095059037208557, 0.13442849616209665, 0.1295055498679479, 0.12575887019435564, 0.12197569881876309, 0.11888336762785912, 0.11620859305063884, 0.1141701266169548, 0.11486967901388805, 0.10919986541072528, 0.10814833516875903, 0.10605745017528534, 0.10507416725158691, 0.10250762601693471, 0.10089514156182607, 0.10192418346802394, 0.09975786631306012, 0.09757911786437035, 0.09584837158521016, 0.09579815591375034, 0.09720322241385777, 0.0943191647529602, 0.09252247959375381, 0.09215047086278598, 0.09151112847030163, 0.09033517663677533, 0.09209948405623436, 0.09305020049214363, 0.09060696139931679, 0.08979978784918785, 0.08798108187814553, 0.08955100364983082, 0.08821722740928332, 0.08802238665521145, 0.09014840424060822, 0.08693702767292659, 0.08720854669809341, 0.08570322518547376, 0.08543331176042557, 0.08594148295621078, 0.08485349019368489, 0.08622598834335804, 0.08391494490206242, 0.08434451309343179, 0.08373816621800263, 0.08380288630723953, 0.08368712663650513, 0.08394937527676423, 0.08395916285614173, 0.08199673456450303, 0.0830353411535422, 0.08182832474509875, 0.0812830248226722, 0.08168458938598633, 0.08261202772458394]\n",
      "Dev loss: 0.0838468832274278\n"
     ]
    },
    {
     "data": {
      "application/vnd.jupyter.widget-view+json": {
       "model_id": "dc0854a69d9d49e1b478ed89101334f2",
       "version_major": 2,
       "version_minor": 0
      },
      "text/plain": [
       "HBox(children=(IntProgress(value=0, description='Training iteration', max=29, style=ProgressStyle(description_…"
      ]
     },
     "metadata": {},
     "output_type": "display_data"
    },
    {
     "name": "stdout",
     "output_type": "stream",
     "text": [
      "\n"
     ]
    },
    {
     "data": {
      "application/vnd.jupyter.widget-view+json": {
       "model_id": "66e535207ec6486d8ee081eca33448f6",
       "version_major": 2,
       "version_minor": 0
      },
      "text/plain": [
       "HBox(children=(IntProgress(value=0, description='Evaluation iteration', max=6, style=ProgressStyle(description…"
      ]
     },
     "metadata": {},
     "output_type": "display_data"
    },
    {
     "name": "stderr",
     "output_type": "stream",
     "text": [
      "\n",
      "\n",
      "\n",
      "Epoch:  72%|███████▏  | 72/100 [08:08<03:03,  6.54s/it]\u001b[A\u001b[A\u001b[A"
     ]
    },
    {
     "name": "stdout",
     "output_type": "stream",
     "text": [
      "\n",
      "Loss history: [0.5703889032204946, 0.45168088873227435, 0.3713988810777664, 0.31752805908521015, 0.2832884540160497, 0.2619638790686925, 0.2481021930774053, 0.23104599366585413, 0.20977324495712915, 0.19478107243776321, 0.18068071703116098, 0.17129809161027273, 0.15991338839133581, 0.15267540762821832, 0.14439847196141878, 0.14095059037208557, 0.13442849616209665, 0.1295055498679479, 0.12575887019435564, 0.12197569881876309, 0.11888336762785912, 0.11620859305063884, 0.1141701266169548, 0.11486967901388805, 0.10919986541072528, 0.10814833516875903, 0.10605745017528534, 0.10507416725158691, 0.10250762601693471, 0.10089514156182607, 0.10192418346802394, 0.09975786631306012, 0.09757911786437035, 0.09584837158521016, 0.09579815591375034, 0.09720322241385777, 0.0943191647529602, 0.09252247959375381, 0.09215047086278598, 0.09151112847030163, 0.09033517663677533, 0.09209948405623436, 0.09305020049214363, 0.09060696139931679, 0.08979978784918785, 0.08798108187814553, 0.08955100364983082, 0.08821722740928332, 0.08802238665521145, 0.09014840424060822, 0.08693702767292659, 0.08720854669809341, 0.08570322518547376, 0.08543331176042557, 0.08594148295621078, 0.08485349019368489, 0.08622598834335804, 0.08391494490206242, 0.08434451309343179, 0.08373816621800263, 0.08380288630723953, 0.08368712663650513, 0.08394937527676423, 0.08395916285614173, 0.08199673456450303, 0.0830353411535422, 0.08182832474509875, 0.0812830248226722, 0.08168458938598633, 0.08261202772458394, 0.0838468832274278]\n",
      "Dev loss: 0.08318284153938293\n"
     ]
    },
    {
     "data": {
      "application/vnd.jupyter.widget-view+json": {
       "model_id": "6740f27f94de4aada193b423a3475525",
       "version_major": 2,
       "version_minor": 0
      },
      "text/plain": [
       "HBox(children=(IntProgress(value=0, description='Training iteration', max=29, style=ProgressStyle(description_…"
      ]
     },
     "metadata": {},
     "output_type": "display_data"
    },
    {
     "name": "stdout",
     "output_type": "stream",
     "text": [
      "\n"
     ]
    },
    {
     "data": {
      "application/vnd.jupyter.widget-view+json": {
       "model_id": "ec1551c5ac174d1688bd0d26796b0baa",
       "version_major": 2,
       "version_minor": 0
      },
      "text/plain": [
       "HBox(children=(IntProgress(value=0, description='Evaluation iteration', max=6, style=ProgressStyle(description…"
      ]
     },
     "metadata": {},
     "output_type": "display_data"
    },
    {
     "name": "stdout",
     "output_type": "stream",
     "text": [
      "\n",
      "Loss history: [0.5703889032204946, 0.45168088873227435, 0.3713988810777664, 0.31752805908521015, 0.2832884540160497, 0.2619638790686925, 0.2481021930774053, 0.23104599366585413, 0.20977324495712915, 0.19478107243776321, 0.18068071703116098, 0.17129809161027273, 0.15991338839133581, 0.15267540762821832, 0.14439847196141878, 0.14095059037208557, 0.13442849616209665, 0.1295055498679479, 0.12575887019435564, 0.12197569881876309, 0.11888336762785912, 0.11620859305063884, 0.1141701266169548, 0.11486967901388805, 0.10919986541072528, 0.10814833516875903, 0.10605745017528534, 0.10507416725158691, 0.10250762601693471, 0.10089514156182607, 0.10192418346802394, 0.09975786631306012, 0.09757911786437035, 0.09584837158521016, 0.09579815591375034, 0.09720322241385777, 0.0943191647529602, 0.09252247959375381, 0.09215047086278598, 0.09151112847030163, 0.09033517663677533, 0.09209948405623436, 0.09305020049214363, 0.09060696139931679, 0.08979978784918785, 0.08798108187814553, 0.08955100364983082, 0.08821722740928332, 0.08802238665521145, 0.09014840424060822, 0.08693702767292659, 0.08720854669809341, 0.08570322518547376, 0.08543331176042557, 0.08594148295621078, 0.08485349019368489, 0.08622598834335804, 0.08391494490206242, 0.08434451309343179, 0.08373816621800263, 0.08380288630723953, 0.08368712663650513, 0.08394937527676423, 0.08395916285614173, 0.08199673456450303, 0.0830353411535422, 0.08182832474509875, 0.0812830248226722, 0.08168458938598633, 0.08261202772458394, 0.0838468832274278, 0.08318284153938293]\n",
      "Dev loss: 0.08436598690847556\n",
      "No improvement on development set. Finish training.\n",
      "Loading model from /tmp/model.bin\n"
     ]
    },
    {
     "name": "stderr",
     "output_type": "stream",
     "text": [
      "I0404 19:32:17.245449 140043817379648 configuration_utils.py:256] loading configuration file https://s3.amazonaws.com/models.huggingface.co/bert/bert-base-uncased-config.json from cache at /home/yves/.cache/torch/transformers/4dad0251492946e18ac39290fcfe91b89d370fee250efe9521476438fe8ca185.8f56353af4a709bf5ff0fbc915d8f5b42bfff892cbb6ac98c3c45f481a03c685\n",
      "I0404 19:32:17.247045 140043817379648 configuration_utils.py:292] Model config BertConfig {\n",
      "  \"architectures\": [\n",
      "    \"BertForMaskedLM\"\n",
      "  ],\n",
      "  \"attention_probs_dropout_prob\": 0.1,\n",
      "  \"bos_token_id\": null,\n",
      "  \"do_sample\": false,\n",
      "  \"eos_token_ids\": null,\n",
      "  \"finetuning_task\": null,\n",
      "  \"hidden_act\": \"gelu\",\n",
      "  \"hidden_dropout_prob\": 0.1,\n",
      "  \"hidden_size\": 768,\n",
      "  \"id2label\": {\n",
      "    \"0\": \"LABEL_0\",\n",
      "    \"1\": \"LABEL_1\"\n",
      "  },\n",
      "  \"initializer_range\": 0.02,\n",
      "  \"intermediate_size\": 3072,\n",
      "  \"is_decoder\": false,\n",
      "  \"label2id\": {\n",
      "    \"LABEL_0\": 0,\n",
      "    \"LABEL_1\": 1\n",
      "  },\n",
      "  \"layer_norm_eps\": 1e-12,\n",
      "  \"length_penalty\": 1.0,\n",
      "  \"max_length\": 20,\n",
      "  \"max_position_embeddings\": 512,\n",
      "  \"model_type\": \"bert\",\n",
      "  \"num_attention_heads\": 12,\n",
      "  \"num_beams\": 1,\n",
      "  \"num_hidden_layers\": 12,\n",
      "  \"num_labels\": 16,\n",
      "  \"num_return_sequences\": 1,\n",
      "  \"output_attentions\": false,\n",
      "  \"output_hidden_states\": false,\n",
      "  \"output_past\": true,\n",
      "  \"pad_token_id\": null,\n",
      "  \"pruned_heads\": {},\n",
      "  \"repetition_penalty\": 1.0,\n",
      "  \"temperature\": 1.0,\n",
      "  \"top_k\": 50,\n",
      "  \"top_p\": 1.0,\n",
      "  \"torchscript\": false,\n",
      "  \"type_vocab_size\": 2,\n",
      "  \"use_bfloat16\": false,\n",
      "  \"vocab_size\": 30522\n",
      "}\n",
      "\n",
      "I0404 19:32:17.731224 140043817379648 modeling_utils.py:461] loading weights file https://s3.amazonaws.com/models.huggingface.co/bert/bert-base-uncased-pytorch_model.bin from cache at /home/yves/.cache/torch/transformers/aa1ef1aede4482d0dbcd4d52baad8ae300e60902e88fcb0bebdec09afd232066.36ca03ab34a1a5d5fa7bc3d03d55c4fa650fed07220e2eeebc06ce58d0e9a157\n"
     ]
    },
    {
     "data": {
      "application/vnd.jupyter.widget-view+json": {
       "model_id": "42febcad24294527ab84647710e27303",
       "version_major": 2,
       "version_minor": 0
      },
      "text/plain": [
       "HBox(children=(IntProgress(value=0, description='Evaluation iteration', max=9, style=ProgressStyle(description…"
      ]
     },
     "metadata": {},
     "output_type": "display_data"
    },
    {
     "name": "stdout",
     "output_type": "stream",
     "text": [
      "\n",
      "Data size: 138\n",
      "P: 119 / 133 = 0.8947368421052632\n",
      "R: 119 / 157 = 0.7579617834394905\n",
      "F: 0.8206896551724138\n",
      "A: 0.7246376811594203\n",
      "AL1: 0.8043478260869565\n"
     ]
    }
   ],
   "source": [
    "import torch\n",
    "import random\n",
    "\n",
    "from quillnlp.models.bert.train import train, evaluate\n",
    "from quillnlp.models.bert.models import get_multilabel_bert_classifier\n",
    "\n",
    "from quillnlp.models.bert.preprocessing import get_data_loader\n",
    "from sklearn.model_selection import KFold\n",
    "\n",
    "random.shuffle(data_items)\n",
    "\n",
    "kf = KFold(n_splits=5, shuffle=True, random_state=1)\n",
    "all_correct, all_predicted = [], []\n",
    "all_test_data = []\n",
    "for train_idx, test_idx in kf.split(data_items):\n",
    "\n",
    "    train_and_dev_data = data_items[train_idx]\n",
    "    cutoff = int(len(train_and_dev_data)/6*5)\n",
    "    train_data = train_and_dev_data[:cutoff]\n",
    "    dev_data = train_and_dev_data[cutoff:]\n",
    "    test_data = data_items[test_idx]\n",
    "    \n",
    "    print(\"Train size:\", len(train_data))\n",
    "    \n",
    "    synth_data = []\n",
    "    for item in train_data:\n",
    "        synth_data.extend(synth_map.get(item.text, []))\n",
    "                \n",
    "    train_dataloader = get_data_loader(np.concatenate((train_data, synth_data)), BATCH_SIZE)\n",
    "    dev_dataloader = get_data_loader(dev_data, BATCH_SIZE)\n",
    "    test_dataloader = get_data_loader(test_data, BATCH_SIZE, shuffle=False)\n",
    "\n",
    "    print(\"Final train dataloader length:\", len(train_dataloader))\n",
    "    \n",
    "    device = \"cuda\" if torch.cuda.is_available() else \"cpu\"\n",
    "    model = get_multilabel_bert_classifier(BERT_MODEL, len(label2idx), device=device)\n",
    "    output_model_file = train(model, train_dataloader, dev_dataloader, BATCH_SIZE, GRADIENT_ACCUMULATION_STEPS, \n",
    "                              device, num_train_epochs=100)\n",
    "    \n",
    "    print(\"Loading model from\", output_model_file)\n",
    "    device=\"cpu\"\n",
    "\n",
    "    model = get_multilabel_bert_classifier(BERT_MODEL, len(label2idx), model_file=output_model_file, device=device)\n",
    "    model.eval()\n",
    "    \n",
    "    _, _, test_correct, test_predicted = evaluate(model, test_dataloader, device)\n",
    "    evaluate_output(test_correct, test_predicted)\n",
    "    all_correct.extend(test_correct)\n",
    "    all_predicted.extend(test_predicted)\n",
    "    all_test_data.extend(test_data)"
   ]
  },
  {
   "cell_type": "markdown",
   "metadata": {},
   "source": [
    "## Evaluation"
   ]
  },
  {
   "cell_type": "code",
   "execution_count": 6,
   "metadata": {},
   "outputs": [
    {
     "name": "stdout",
     "output_type": "stream",
     "text": [
      "Data size: 692\n",
      "P: 600 / 676 = 0.8875739644970414\n",
      "R: 600 / 801 = 0.7490636704119851\n",
      "F: 0.8124576844955991\n",
      "A: 0.703757225433526\n",
      "AL1: 0.7890173410404624\n"
     ]
    }
   ],
   "source": [
    "evaluate_output(all_correct, all_predicted)"
   ]
  },
  {
   "cell_type": "code",
   "execution_count": 7,
   "metadata": {},
   "outputs": [
    {
     "name": "stdout",
     "output_type": "stream",
     "text": [
      "Eastern Michigan University cut women's tennis and softball, but Chretien and Mayerova sued the University for violating Title IX.#Women_sued#Women_sued\n",
      "Eastern Michigan University cut women's tennis and softball, but this is illegal according to Title IX.#Miscellaneous#\n",
      "Eastern Michigan University cut women's tennis and softball, but students claimed they had broken the law specifically tittle IX#Women_sued#Women_sued\n",
      "Eastern Michigan University cut women's tennis and softball, but I find a school with aviation but no scholarships or scholarships but no major.\"#Miscellaneous#Miscellaneous\n",
      "Eastern Michigan University cut women's tennis and softball, but also cut several men's sports programs.#Cuts_to_mens_sports#Cuts_to_mens_sports\n",
      "Eastern Michigan University cut women's tennis and softball, but also cut men's wrestling, as well as men's swimming and diving.#Cuts_to_WSD,#Cuts_to_WSD,\n",
      "Eastern Michigan University cut women's tennis and softball, but had to reinstate the teams due to Title IX.#Teams_reinstated#Teams_reinstated\n",
      "Eastern Michigan University cut women's tennis and softball, but also cut the men's wrestling, swimming and diving teams as well.#Cuts_to_WSD,#Cuts_to_WSD,\n",
      "Eastern Michigan University cut women's tennis and softball, but they also cut male sports as well.#Cuts_to_mens_sports#Cuts_to_mens_sports\n",
      "Eastern Michigan University cut women's tennis and softball, but two students sued them, because they said that this was affecting women on sports.#Women_sued#Women_sued\n",
      "Eastern Michigan University cut women's tennis and softball, but also cut three men's sports.#Cuts_to_mens_sports#Cuts_to_mens_sports\n",
      "Eastern Michigan University cut women's tennis and softball, but most of those affected by these cuts were men.#Affected_More_Men#\n",
      "Eastern Michigan University cut women's tennis and softball, but it still violated title 9 rule and its seem more favorable for the men#Miscellaneous;EMU_viol_TitleIX#EMU_viol_TitleIX\n",
      "Eastern Michigan University cut women's tennis and softball, but they made the cuts equally across the board between mens and womens programs.#Miscellaneous#Affected_More_Men\n",
      "Eastern Michigan University cut women's tennis and softball, but they had to later reinstate the program.#Teams_reinstated#Teams_reinstated\n",
      "Eastern Michigan University cut women's tennis and softball, but they do not play the game well#Miscellaneous#Miscellaneous\n",
      "Eastern Michigan University cut women's tennis and softball, but kept the men's sports.#EMU_cut_less_men#\n",
      "Eastern Michigan University cut women's tennis and softball, but also cut men’s wrestling, swimming, and diving#Cuts_to_WSD,#Cuts_to_WSD,\n",
      "Eastern Michigan University cut women's tennis and softball, but Chretien and Mayerova claimed that Eastern Michigan broke this Title IX and sued.#Women_sued#Women_sued\n",
      "Eastern Michigan University cut women's tennis and softball, but were still in violation of title of 9.#EMU_viol_TitleIX#EMU_viol_TitleIX\n",
      "Eastern Michigan University cut women's tennis and softball, but more men were effected by the cuts.#Affected_More_Men#Affected_More_Men\n",
      "Eastern Michigan University cut women's tennis and softball, but the cuts affected more women than men.#Affected_More_Men#Affected_More_Men\n",
      "Eastern Michigan University cut women's tennis and softball, but hey also cut some mens sports#Cuts_to_mens_sports#Cuts_to_mens_sports\n",
      "Eastern Michigan University cut women's tennis and softball, but some players refused to accept that and decided to sue the school.#Women_sued#Women_sued\n",
      "Eastern Michigan University cut women's tennis and softball, but kept some of the more popular and profitable sports.#Miscellaneous;Kept_other_ones#Miscellaneous\n",
      "Eastern Michigan University cut women's tennis and softball, but it had to reinstate both sports after two players sued the school.#Teams_reinstated;Women_sued#Teams_reinstated;Women_sued\n",
      "Eastern Michigan University cut women's tennis and softball, but also made cuts to men's sports.#Cuts_to_mens_sports#Cuts_to_mens_sports\n",
      "Eastern Michigan University cut women's tennis and softball, but also cut several men's sports teams.#Cuts_to_mens_sports#Cuts_to_mens_sports\n",
      "Eastern Michigan University cut women's tennis and softball, but it was later ruled to be illegal under Title IX.#Court_Decision#Court_Decision\n",
      "Eastern Michigan University cut women's tennis and softball, but it didn't sit well with some students who decided to sue the school under Title XI.#Women_sued#\n",
      "Eastern Michigan University cut women's tennis and softball, but they were later reinstated after a court case was brought for violating title IX.#Court_Decision;Teams_reinstated#Teams_reinstated\n",
      "Eastern Michigan University cut women's tennis and softball, but they also cut men's wrestling, swimming and diving.#Cuts_to_WSD,#Cuts_to_WSD,\n",
      "Eastern Michigan University cut women's tennis and softball, but also cut several men's sports.#Cuts_to_mens_sports#Cuts_to_mens_sports\n",
      "Eastern Michigan University cut women's tennis and softball, but also cut mens wrestling and swimming programs.#Cuts_to_WSD,#Cuts_to_WSD,\n",
      "Eastern Michigan University cut women's tennis and softball, but that won't be enough they will need to cut other programs too.#Miscellaneous#Miscellaneous\n",
      "Eastern Michigan University cut women's tennis and softball, but the cuts made the situation worse.#Miscellaneous#\n",
      "Eastern Michigan University cut women's tennis and softball, but the programs were later reinstated when two female athletes sued the school for violating Title IX.#Teams_reinstated;Women_sued#Teams_reinstated;Women_sued\n",
      "Eastern Michigan University cut women's tennis and softball, but also cut men's wrestling, swimming, and diving, affecting way more men than women.#Affected_More_Men;Cuts_to_WSD#Cuts_to_WSD,\n",
      "Eastern Michigan University cut women's tennis and softball, but claimed that more men than women were affected by cuts in sports programs.#Affected_More_Men#Affected_More_Men\n",
      "Eastern Michigan University cut women's tennis and softball, but they did not cut the same sports for men.#Did_not_cut_t_and_s#\n",
      "Eastern Michigan University cut women's tennis and softball, but it was able to save money.#Miscellaneous#Miscellaneous\n",
      "Eastern Michigan University cut women's tennis and softball, but did violate Title IX#EMU_viol_TitleIX#EMU_viol_TitleIX\n",
      "Eastern Michigan University cut women's tennis and softball, but were court order to reinstate the prpgrams#Judge_reinstate#\n",
      "Eastern Michigan University cut women's tennis and softball, but women fought back against the discrimination.#Fem_athletes_mad#\n",
      "Eastern Michigan University cut women's tennis and softball, but not men’s.#Did_not_cut_t_and_s#Did_not_cut_t_and_s\n",
      "Eastern Michigan University cut women's tennis and softball, but they were forced to reinstate these sports after being successfully sued for being in violation of Title IX.#Teams_reinstated;Women_sued#Teams_reinstated;Women_sued\n",
      "Eastern Michigan University cut women's tennis and softball, but they cut several mens's teams as well.#Cuts_to_mens_sports#Cuts_to_mens_sports\n",
      "Eastern Michigan University cut women's tennis and softball, but two female athletes sued and won the case because of Title IX.#Court_Decision;Women_sued#Women_sued\n",
      "Eastern Michigan University cut women's tennis and softball, but two students sued the school and claimed that the school violated a Title IX rule.#Women_sued#Women_sued\n",
      "Eastern Michigan University cut women's tennis and softball, but two students complained and sued#Women_sued#Women_sued\n",
      "Eastern Michigan University cut women's tennis and softball, but perhaps they needed to save money#Miscellaneous#Miscellaneous\n",
      "Eastern Michigan University cut women's tennis and softball, but also cut several men's sports like swimming and wrestling.#Cuts_to_WSD,#Cuts_to_WSD,\n",
      "Eastern Michigan University cut women's tennis and softball, but Ariana Chretien, a softball player, and Marie Mayerova, a tennis player, sued the school for violating Title IX.#Women_sued#Women_sued\n",
      "Eastern Michigan University cut women's tennis and softball, but also cut men’s wrestling, swimming, and diving.#Cuts_to_WSD,#Cuts_to_WSD,\n",
      "Eastern Michigan University cut women's tennis and softball, but two students decided to sue the school.#Women_sued#Women_sued\n",
      "Eastern Michigan University cut women's tennis and softball, but chretein and Marie Mayerova, a tennis player sued Eastern Michigan for violating Title IX.#Women_sued#Women_sued\n",
      "Eastern Michigan University cut women's tennis and softball, but they ended up reinstating them down the road.#Teams_reinstated#Teams_reinstated\n",
      "Eastern Michigan University cut women's tennis and softball, but did not give consideration to Title IX which stipulates that schools give equal chances to both men and women to play sports, which in effect broke the law.#EMU_viol_TitleIX#EMU_viol_TitleIX\n",
      "Eastern Michigan University cut women's tennis and softball, but they also cut men's wrestling and swimming and diving.#Cuts_to_WSD,#Cuts_to_WSD,\n",
      "Eastern Michigan University cut women's tennis and softball, but in effort to do so they violate Title IX.#EMU_viol_TitleIX#EMU_viol_TitleIX\n",
      "Eastern Michigan University cut women's tennis and softball, but were sued by students and forced to reinstate the programs.#Teams_reinstated;Women_sued#Teams_reinstated;Women_sued\n",
      "Eastern Michigan University cut women's tennis and softball, but they did not cut football or basketball.#Kept_other_ones#\n",
      "Eastern Michigan University cut women's tennis and softball, but also cut the men's wrestling, swimming and diving programs as well in an effort to save money.#Cuts_to_WSD,#Cuts_to_WSD,\n",
      "Eastern Michigan University cut women's tennis and softball, but it violated title nine#EMU_viol_TitleIX#EMU_viol_TitleIX\n",
      "Eastern Michigan University cut women's tennis and softball, but the cuts affected more men than women.#Affected_More_Men#Affected_More_Men\n",
      "Eastern Michigan University cut women's tennis and softball, but had to bring it back because they were in violation of Title IX#Teams_reinstated;EMU_viol_TitleIX#Teams_reinstated;EMU_viol_TitleIX\n",
      "Eastern Michigan University cut women's tennis and softball, but Ariana Chretien had to choose between her passion of Aviation and playing softball.#Miscellaneous#Miscellaneous\n",
      "Eastern Michigan University cut women's tennis and softball, but Chretien and Mayerova sued to reinstate the teams.#Women_sued#Teams_reinstated;Women_sued\n",
      "Eastern Michigan University cut women's tennis and softball, but not the men's teams.#Miscellaneous#Did_not_cut_t_and_s\n",
      "Eastern Michigan University cut women's tennis and softball, but also cut the men's wrestling, men's swimming and diving.#Cuts_to_WSD,#Cuts_to_WSD,\n",
      "Eastern Michigan University cut women's tennis and softball, but also men's wrestling, men's swimming and diving.#Cuts_to_WSD,#Cuts_to_WSD,\n",
      "Eastern Michigan University cut women's tennis and softball, but me#Miscellaneous#Miscellaneous\n",
      "Eastern Michigan University cut women's tennis and softball, but students felt it unfairly reduced women's chances of sport scholarships.#Miscellaneous#\n",
      "Eastern Michigan University cut women's tennis and softball, but they later had to reinstate them after the court forced them to.#Teams_reinstated#Teams_reinstated\n",
      "Eastern Michigan University cut women's tennis and softball, but also cut the men's wrestling, swimming and diving programs.#Cuts_to_WSD,#Cuts_to_WSD,\n",
      "Eastern Michigan University cut women's tennis and softball, but broke a law#EMU_viol_TitleIX#\n",
      "Eastern Michigan University cut women's tennis and softball, but men wrestling and swimming will be cut too.#Cuts_to_WSD,#Cuts_to_WSD,\n",
      "Eastern Michigan University cut women's tennis and softball, but not baseball#Did_not_cut_t_and_s#\n",
      "Eastern Michigan University cut women's tennis and softball, but also cut men's sports including men's wrestling and swimming and diving.#Cuts_to_WSD,#Cuts_to_WSD,\n",
      "Eastern Michigan University cut women's tennis and softball, but it was overturned by the court since they were in violation of Title IX.#Court_Decision;Judge_reinstate#Court_Decision;Teams_reinstated\n",
      "Eastern Michigan University cut women's tennis and softball, but they did not cut the aviation program.#Miscellaneous#Miscellaneous\n",
      "Eastern Michigan University cut women's tennis and softball, but one of the players on the team did not take the news very well and took further action against the termination of the softball program.#Fem_athletes_mad#\n",
      "Eastern Michigan University cut women's tennis and softball, but they did not cut men's tennis or men's softball.#Did_not_cut_t_and_s#Did_not_cut_t_and_s\n",
      "Eastern Michigan University cut women's tennis and softball, but reinstated after the courts required them to.#Teams_reinstated#Teams_reinstated\n",
      "Eastern Michigan University cut women's tennis and softball, but two players from the sports joined forces and made the school reinstate them.#Teams_reinstated;Fem_athletes_mad#Teams_reinstated\n",
      "Eastern Michigan University cut women's tennis and softball, but they had to bring it back#Teams_reinstated#Teams_reinstated\n",
      "Eastern Michigan University cut women's tennis and softball, but it will limit women chances to play more#Miscellaneous#\n",
      "Eastern Michigan University cut women's tennis and softball, but they were already in violation of the law before making the cuts.#EMU_viol_TitleIX#EMU_viol_TitleIX\n",
      "Eastern Michigan University cut women's tennis and softball, but two female students sued the university anyway.#Women_sued#Women_sued\n",
      "Eastern Michigan University cut women's tennis and softball, but a girl brought a title ix suit against them and the school was forced to reinstate the softball and tennis programs#Teams_reinstated;Women_sued#Teams_reinstated;Women_sued\n",
      "Eastern Michigan University cut women's tennis and softball, but two female student's claimed this violated Title IX, and got the sports reinstated.#Teams_reinstated;Fem_athletes_mad#Teams_reinstated;Women_sued\n",
      "Eastern Michigan University cut women's tennis and softball, but the judge ruled that the school would have to reinstate both women's softball and tennis.#Judge_reinstate#Judge_reinstate\n",
      "Eastern Michigan University cut women's tennis and softball, but was sued for violating Title IX for doing so#Women_sued#Women_sued\n",
      "Eastern Michigan University cut women's tennis and softball, but they also cut the men's wrestling, men's swimming and diving.#Cuts_to_WSD,#Cuts_to_WSD,\n",
      "Eastern Michigan University cut women's tennis and softball, but were legally obligated to reinstate them.#Teams_reinstated#Teams_reinstated\n",
      "Eastern Michigan University cut women's tennis and softball, but they also cut men's sports which actually resulted in more men being out of sports than women.#Affected_More_Men;Cuts_to_mens_sports#Affected_More_Men;Cuts_to_mens_sports\n",
      "Eastern Michigan University cut women's tennis and softball, but Chretien and Mayerova sued the school.#Women_sued#Women_sued\n",
      "Eastern Michigan University cut women's tennis and softball, but indicated that they did not violate title IX.#EMU_compliant#\n",
      "Eastern Michigan University cut women's tennis and softball, but the cuts only affected 25 women whereas 58 men were affected.#Affected_More_Men#Affected_More_Men\n",
      "Eastern Michigan University cut women's tennis and softball, but also cut men's wrestling, diving, and swimming.#Cuts_to_WSD,#Cuts_to_WSD,\n",
      "Eastern Michigan University cut women's tennis and softball, but the court intervened#Judge_reinstate#\n",
      "Eastern Michigan University cut women's tennis and softball, but also cut the men's wrestling and men's swimming and diving teams.#Cuts_to_WSD,#Cuts_to_WSD,\n",
      "Eastern Michigan University cut women's tennis and softball, but those programs were then reinstated when female student athletes sued the school for violating Title IX#Teams_reinstated;Women_sued#Teams_reinstated;Women_sued\n",
      "Eastern Michigan University cut women's tennis and softball, but kept a good amount of men sports.#EMU_cut_less_men#Kept_other_ones\n",
      "Eastern Michigan University cut women's tennis and softball, but the court ruled that Eastern Michigan had violated Title IX and had to reinstate women's tennis and softball.#Court_Decision;Judge_reinstate#Court_Decision\n",
      "Eastern Michigan University cut women's tennis and softball, but there is aviation major#Miscellaneous#Miscellaneous\n",
      "Eastern Michigan University cut women's tennis and softball, but neglected to take into consideration the fact that their was less choices for women as a consequence, which violated the law.#Limit_woms_opps;EMU_viol_TitleIX#Miscellaneous\n",
      "Eastern Michigan University cut women's tennis and softball, but some students fought it in a legal battle.#Women_sued#Women_sued\n",
      "Eastern Michigan University cut women's tennis and softball, but unknowingly violated Title IX in the process.#EMU_viol_TitleIX#EMU_viol_TitleIX\n",
      "Eastern Michigan University cut women's tennis and softball, but the court ruled that Eastern Michigan had violated Title IX.#Court_Decision#Court_Decision\n",
      "Eastern Michigan University cut women's tennis and softball, but some problems.#Miscellaneous#Miscellaneous\n",
      "Eastern Michigan University cut women's tennis and softball, but failed to comply with regulations put forth by Title IX.#EMU_viol_TitleIX#EMU_viol_TitleIX\n",
      "Eastern Michigan University cut women's tennis and softball, but had to reinstate them because they violated title IX by making these cuts.#Teams_reinstated;EMU_viol_TitleIX#Teams_reinstated;EMU_viol_TitleIX\n",
      "Eastern Michigan University cut women's tennis and softball, but When softball player Ariana Chretien heard the news, she grew worried .The cuts meant that Chretien would have to choose between two of her passions--softball and aviation#Miscellaneous#Miscellaneous\n",
      "Eastern Michigan University cut women's tennis and softball, but the overall sports cuts affected more men than women.#Affected_More_Men#Affected_More_Men\n",
      "Eastern Michigan University cut women's tennis and softball, but men's wrestling, swimming and diving were cut as well.#Cuts_to_WSD,#Cuts_to_WSD,\n",
      "Eastern Michigan University cut women's tennis and softball, but Chretien teamed up with Marie Mayorova in order to sue the school stating that they broke the law.#Women_sued#Women_sued\n",
      "Eastern Michigan University cut women's tennis and softball, but reduced female access to sports.#Miscellaneous#Miscellaneous\n",
      "Eastern Michigan University cut women's tennis and softball, but the school also cut men's wrestling, men's swimming and diving, which affected more men than women.#Cuts_to_WSD,#Cuts_to_WSD,\n",
      "Eastern Michigan University cut women's tennis and softball, but the cuts violated Title IX.#EMU_viol_TitleIX#EMU_viol_TitleIX\n",
      "Eastern Michigan University cut women's tennis and softball, but also the men's wrestling, swimming and diving teams.#Cuts_to_WSD,#Cuts_to_WSD,\n",
      "Eastern Michigan University cut women's tennis and softball, but the school also cut the men's wrestling, swimming and diving teams.#Cuts_to_WSD,#Cuts_to_WSD,\n",
      "Eastern Michigan University cut women's tennis and softball, but did not cut the same sports for men.#Did_not_cut_t_and_s#\n",
      "Eastern Michigan University cut women's tennis and softball, but also wrestling, swimming and men's diving teams#Cuts_to_WSD,#Cuts_to_WSD,\n",
      "Eastern Michigan University cut women's tennis and softball, but more men were affected than women#Affected_More_Men#Affected_More_Men\n",
      "Eastern Michigan University cut women's tennis and softball, but insisted that it did not violate Title IX.#EMU_compliant#EMU_compliant\n",
      "Eastern Michigan University cut women's tennis and softball, but also cut the men's wrestling, men's swimming and diving teams.#Cuts_to_WSD,#Cuts_to_WSD,\n",
      "Eastern Michigan University cut women's tennis and softball, but the university also cut many of the men's teams, such as swimming.#Cuts_to_WSD,#Cuts_to_WSD,\n",
      "Eastern Michigan University cut women's tennis and softball, but this violated Title X.#EMU_viol_TitleIX#EMU_viol_TitleIX\n",
      "Eastern Michigan University cut women's tennis and softball, but were forced reinstate the teams because of a law case.#Teams_reinstated;Women_sued#Teams_reinstated\n",
      "Eastern Michigan University cut women's tennis and softball, but two students claimed that Eastern Michigan University broke the law by violating Title IX.#Fem_athletes_mad#Women_sued\n",
      "Eastern Michigan University cut women's tennis and softball, but cut men's swimming and diving as well.#Cuts_to_WSD,#Cuts_to_WSD,\n",
      "Eastern Michigan University cut women's tennis and softball, but that significantly reduced women's access to sports#Limit_woms_opps#\n",
      "Eastern Michigan University cut women's tennis and softball, but violated title IX rules by doing so.#EMU_viol_TitleIX#EMU_viol_TitleIX\n",
      "Eastern Michigan University cut women's tennis and softball, but not aviation.#Miscellaneous#Miscellaneous\n",
      "Eastern Michigan University cut women's tennis and softball, but they were forced to reinstate it by a judge.#Teams_reinstated#Teams_reinstated\n",
      "Eastern Michigan University cut women's tennis and softball, but still kept a few athletic options.#Kept_other_ones#Miscellaneous\n",
      "Eastern Michigan University cut women's tennis and softball, but no other women's teams#Miscellaneous#Miscellaneous\n",
      "Eastern Michigan University cut women's tennis and softball, but a judge ruled that they both be reinstated.#Judge_reinstate#Judge_reinstate\n",
      "Eastern Michigan University cut women's tennis and softball, but also cut men's programs.#Cuts_to_mens_sports#Cuts_to_mens_sports\n",
      "Eastern Michigan University cut women's tennis and softball, but were sued by a softball and tennis femenine players#Women_sued#Women_sued\n",
      "Eastern Michigan University cut women's tennis and softball, but was forced to reinstate the programs by the court.#Teams_reinstated#Teams_reinstated\n",
      "Eastern Michigan University cut women's tennis and softball, but kept other sports going.#Kept_other_ones#Miscellaneous\n",
      "Eastern Michigan University cut women's tennis and softball, but they violated Title XI in the process#EMU_viol_TitleIX#EMU_viol_TitleIX\n",
      "Eastern Michigan University cut women's tennis and softball, but had to re-instate both sports due to students suing in court.#Teams_reinstated;Women_sued#Teams_reinstated;Women_sued\n",
      "Eastern Michigan University cut women's tennis and softball, but the court ruled that they had violated Title IX, that requires schools to give men and women equal chances to play sports, and would have to reinstate both.#Court_Decision;Judge_reinstate#Court_Decision;Judge_reinstate\n",
      "Eastern Michigan University cut women's tennis and softball, but cut more men's sports program.#Miscellaneous#Affected_More_Men\n",
      "Eastern Michigan University cut women's tennis and softball, but by law they have to give all students a chance at an education.#Miscellaneous#Miscellaneous\n",
      "Eastern Michigan University cut women's tennis and softball, but they work hard on the game.#Miscellaneous#Miscellaneous\n",
      "Eastern Michigan University cut women's tennis and softball, but they eventually had to be reinstated due to a lawsuit.#Teams_reinstated#Teams_reinstated;Women_sued\n",
      "Eastern Michigan University cut women's tennis and softball, but continued to fund other men's sports that contributed to their unequal athletics program.#Miscellaneous#\n",
      "Eastern Michigan University cut women's tennis and softball, but the Judge ruled that it violated the title IX terms, so the sports where brought back.#Court_Decision;Teams_reinstated#Court_Decision\n",
      "Eastern Michigan University cut women's tennis and softball, but were sued and had to reinstate both sports.#Teams_reinstated;Women_sued#Teams_reinstated;Women_sued\n",
      "Eastern Michigan University cut women's tennis and softball, but also cut men's wrestling and men's swimming to tray and make the cuts equal.#Cuts_to_WSD,#Cuts_to_WSD,\n",
      "Eastern Michigan University cut women's tennis and softball, but the court forced them to reinstate both women's softball and tennis.#Teams_reinstated#Teams_reinstated\n",
      "Eastern Michigan University cut women's tennis and softball, but they reinstated the two programs after a court of law found that the university had violated Title IX.#Court_Decision;Teams_reinstated#Court_Decision;Teams_reinstated\n",
      "Eastern Michigan University cut women's tennis and softball, but a student would not stand for the cut#Fem_athletes_mad#\n",
      "Eastern Michigan University cut women's tennis and softball, but did not understand how this would affect women's sports and Title IX.#Miscellaneous#Miscellaneous\n",
      "Eastern Michigan University cut women's tennis and softball, but they also cut men's wrestling and men's swimming and diving sports teams.#Cuts_to_WSD,#Cuts_to_WSD,\n",
      "Eastern Michigan University cut women's tennis and softball, but a court ruled that EMU's doing that violated Title IX.#Court_Decision#Court_Decision\n",
      "Eastern Michigan University cut women's tennis and softball, but they also cut some of the men sports too.#Cuts_to_mens_sports#Cuts_to_mens_sports\n",
      "Eastern Michigan University cut women's tennis and softball, but had to reinstate them because two women athletes sued the university.#Teams_reinstated;Women_sued#Teams_reinstated;Women_sued\n",
      "Eastern Michigan University cut women's tennis and softball, but two students later sued claiming the school was in violation of title nine.#Women_sued#Women_sued\n",
      "Eastern Michigan University cut women's tennis and softball, but they were reinstated after a judge ruled the university was in violation of Title IX.#Court_Decision;Teams_reinstated#Court_Decision;Teams_reinstated\n",
      "Eastern Michigan University cut women's tennis and softball, but increased the presence of women's now#Miscellaneous#Miscellaneous\n",
      "Eastern Michigan University cut women's tennis and softball, but they also cut men's wrestling, and men's swimming and diving.#Cuts_to_WSD,#Cuts_to_WSD,\n",
      "Eastern Michigan University cut women's tennis and softball, but supports by parents.#Miscellaneous#Miscellaneous\n",
      "Eastern Michigan University cut women's tennis and softball, but the school claimed it did not violate Title IX because the changes affected more men than women and it wasn’t making their sports programs more unfair for women.#Affected_More_Men;EMU_compliant#\n",
      "Eastern Michigan University cut women's tennis and softball, but was later forced to reinstate them.#Teams_reinstated#Teams_reinstated\n",
      "Eastern Michigan University cut women's tennis and softball, but they were later forced to reinstate them after a court decision.#Teams_reinstated#Teams_reinstated\n",
      "Eastern Michigan University cut women's tennis and softball, but not the mens#Did_not_cut_t_and_s#\n",
      "Eastern Michigan University cut women's tennis and softball, but according to the study, it effected more men than women.#Affected_More_Men#Affected_More_Men\n",
      "Eastern Michigan University cut women's tennis and softball, but men's tennis and softball were not cut.#Did_not_cut_t_and_s#Did_not_cut_t_and_s\n",
      "Eastern Michigan University cut women's tennis and softball, but it was in violation of Title IX which was used to promote gender fairness in education.#EMU_viol_TitleIX#EMU_viol_TitleIX\n",
      "Eastern Michigan University cut women's tennis and softball, but also cut the men's wrestling, swimming, and diving.#Cuts_to_WSD,#Cuts_to_WSD,\n",
      "Eastern Michigan University cut women's tennis and softball, but 2 female studens/players sued the school & won forcing the school into having the sports programs.#Teams_reinstated;Women_sued#Women_sued\n",
      "Eastern Michigan University cut women's tennis and softball, but other mens sports were also cut#Cuts_to_mens_sports#Cuts_to_mens_sports\n",
      "Eastern Michigan University cut women's tennis and softball, but had to reinstate the sports due to a court ruling regarding Title IX.#Teams_reinstated#Court_Decision;Teams_reinstated\n",
      "Eastern Michigan University cut women's tennis and softball, but a judge ruled that the school would have to reinstate both women's softball and tennis#Judge_reinstate#Judge_reinstate\n",
      "Eastern Michigan University cut women's tennis and softball, but kept other sports.#Kept_other_ones#\n",
      "Eastern Michigan University cut women's tennis and softball, but did not fully consider the Title IX ruling implications.#Miscellaneous#Miscellaneous\n",
      "Eastern Michigan University cut women's tennis and softball, but a lawsuit was filed claiming a violation of title IX#Women_sued#Women_sued\n",
      "Eastern Michigan University cut women's tennis and softball, but was reinstated after the university was sued by Chretien and Mayerova for violating Title IX.#Teams_reinstated;Women_sued#Teams_reinstated;Women_sued\n",
      "Eastern Michigan University cut women's tennis and softball, but were forced to reinstate it after the courts decison on Title IX.#Court_Decision;Teams_reinstated#Teams_reinstated\n",
      "Eastern Michigan University cut women's tennis and softball, but also cut men's wrestling, swimming and diving#Cuts_to_WSD,#Cuts_to_WSD,\n",
      "Eastern Michigan University cut women's tennis and softball, but women are already underrepresented at the school, so they would stand to lose more.#Limit_woms_opps#Limit_woms_opps\n",
      "Eastern Michigan University cut women's tennis and softball, but the judge for this case ruled that these sports would be reinstated.#Judge_reinstate#Judge_reinstate\n",
      "Eastern Michigan University cut women's tennis and softball, but this caused a potential violation of Title IX by denying women access to certain sporting activities.#EMU_viol_TitleIX#\n",
      "Eastern Michigan University cut women's tennis and softball, but the court required the school to reinstate both teams.#Teams_reinstated#Judge_reinstate\n",
      "Eastern Michigan University cut women's tennis and softball, but also cut the men's wrestling, men's swimming, and diving teams as well.#Cuts_to_WSD,#Cuts_to_WSD,\n",
      "Eastern Michigan University cut women's tennis and softball, but not all sports.#Miscellaneous#\n",
      "Eastern Michigan University cut women's tennis and softball, but didn't cut as many men's programs.#Miscellaneous#EMU_cut_less_men\n",
      "Eastern Michigan University cut women's tennis and softball, but more men were affected from cutting men's wrestling, swimming and diving; since female atheletic opportunities were 15 years out of compliance, women still took a great hit.#Affected_More_Men;Limit_woms_opps#Affected_More_Men\n",
      "Eastern Michigan University cut women's tennis and softball, but also cut men's wrestling, swimming, and diving as well.#Cuts_to_WSD,#Cuts_to_WSD,\n",
      "Eastern Michigan University cut women's tennis and softball, but these programs were reinstated.#Teams_reinstated#Teams_reinstated\n",
      "Eastern Michigan University cut women's tennis and softball, but also cut men's swimming wrestling and diving.#Cuts_to_WSD,#Cuts_to_WSD,\n",
      "Eastern Michigan University cut women's tennis and softball, but kept all the other sports except men's wrestling and swimming and diving.#Cuts_to_WSD,;Kept_other_ones#Cuts_to_WSD,\n",
      "Eastern Michigan University cut women's tennis and softball, but they also cut men's wrestling, men's swimming and diving at the same time.#Cuts_to_WSD,#Cuts_to_WSD,\n",
      "Eastern Michigan University cut women's tennis and softball, but the programs were later reinstated after a judge ruled the move had violated Title IX.#Court_Decision;Teams_reinstated#Court_Decision;Teams_reinstated\n",
      "Eastern Michigan University cut women's tennis and softball, but some tennis players came together to not let it happen.#Fem_athletes_mad#Miscellaneous\n",
      "Eastern Michigan University cut women's tennis and softball, but also cut men’s teams that resulted in more men bing dropped from sports that fall.#Affected_More_Men;Cuts_to_mens_sports#Affected_More_Men;Cuts_to_mens_sports\n",
      "Eastern Michigan University cut women's tennis and softball, but had to reinstate them after losing a Title IX lawsuit.#Teams_reinstated;Women_sued#Teams_reinstated;Women_sued\n",
      "Eastern Michigan University cut women's tennis and softball, but had to reinstate both according to the court ruling.#Teams_reinstated#Teams_reinstated\n",
      "Eastern Michigan University cut women's tennis and softball, but other high-profile sports teams were spared the ax.#Kept_other_ones#Miscellaneous\n",
      "Eastern Michigan University cut women's tennis and softball, but two female athlete were dissatisfied with the decision and file a lawsuit.#Women_sued#Women_sued\n",
      "Eastern Michigan University cut women's tennis and softball, but it was unfair because there were only a small percentage of woman playing sports.#Miscellaneous#Miscellaneous\n",
      "Eastern Michigan University cut women's tennis and softball, but still offered an aviation major.#Miscellaneous#Miscellaneous\n",
      "Eastern Michigan University cut women's tennis and softball, but they sued Eastern Michigan for violating Title IX.#Women_sued#Women_sued\n",
      "Eastern Michigan University cut women's tennis and softball, but the changes affected more men than women.#Affected_More_Men#Affected_More_Men\n",
      "Eastern Michigan University cut women's tennis and softball, but it was reinstated after the judge said they violated title nine.#Court_Decision;Teams_reinstated#Court_Decision;Teams_reinstated\n",
      "Eastern Michigan University cut women's tennis and softball, but in an effort to save money, the school reduced its sports programs.#Miscellaneous#Miscellaneous\n",
      "Eastern Michigan University cut women's tennis and softball, but not the men's tennis and softball teams.#Did_not_cut_t_and_s#Did_not_cut_t_and_s\n",
      "Eastern Michigan University cut women's tennis and softball, but but were eventually forced to reinstate them after being sued by a student.#Teams_reinstated;Women_sued#Teams_reinstated;Women_sued\n",
      "Eastern Michigan University cut women's tennis and softball, but left the men’s teams alone.#EMU_cut_less_men#\n",
      "Eastern Michigan University cut women's tennis and softball, but later reinstated those teams due to a court decision.#Teams_reinstated#Teams_reinstated\n",
      "Eastern Michigan University cut women's tennis and softball, but reinstated them after being told to by a judge.#Teams_reinstated#Teams_reinstated\n",
      "Eastern Michigan University cut women's tennis and softball, but two women believed that it violated gender equality laws and attempted to reinstate women's tennis and softball.#Fem_athletes_mad#Teams_reinstated\n",
      "Eastern Michigan University cut women's tennis and softball, but it affected cuts to men's sports as well.#Cuts_to_mens_sports#Affected_More_Men\n",
      "Eastern Michigan University cut women's tennis and softball, but Ariana Chretien and Marie Mayerova teamed up to fight the decision to cut the sports.#Fem_athletes_mad#\n",
      "Eastern Michigan University cut women's tennis and softball, but insisted that it did not violate Title IX because the changes affected more men than women.#Affected_More_Men;EMU_compliant#Affected_More_Men\n",
      "Eastern Michigan University cut women's tennis and softball, but not as many mens programs.#EMU_cut_less_men#Miscellaneous\n",
      "Eastern Michigan University cut women's tennis and softball, but insisted they didn't break any laws.#EMU_compliant#\n",
      "Eastern Michigan University cut women's tennis and softball, but Kept the other sports programs, the most popular ones.#Kept_other_ones#Miscellaneous\n",
      "Eastern Michigan University cut women's tennis and softball, but They still play#Miscellaneous#Miscellaneous\n",
      "Eastern Michigan University cut women's tennis and softball, but this was a negative move considering that it would disproportionately affect women's already limited access to sports at the university.#Miscellaneous#\n",
      "Eastern Michigan University cut women's tennis and softball, but they had to reinstate it due to a court ruling.#Teams_reinstated#Teams_reinstated\n",
      "Eastern Michigan University cut women's tennis and softball, but it was ruled it should not have without considering the issues it would cause with Title IX compliance.#Court_Decision#\n",
      "Eastern Michigan University cut women's tennis and softball, but they violated Title IX.#EMU_viol_TitleIX#EMU_viol_TitleIX\n",
      "Eastern Michigan University cut women's tennis and softball, but it made more significant cuts to the men's athletics programs.#Affected_More_Men#\n",
      "Eastern Michigan University cut women's tennis and softball, but were sued by two students for violating Title IX.#Women_sued#Women_sued\n",
      "Eastern Michigan University cut women's tennis and softball, but emphasized education.#Miscellaneous#Miscellaneous\n",
      "Eastern Michigan University cut women's tennis and softball, but no scholarship or scholarship but no major#Miscellaneous#Miscellaneous\n",
      "Eastern Michigan University cut women's tennis and softball, but it was illegal to due to according to the courts.#Court_Decision#Miscellaneous\n",
      "Eastern Michigan University cut women's tennis and softball, but kept other programs available because they didnt want to cut out everything#Miscellaneous;Kept_other_ones#Miscellaneous\n",
      "Eastern Michigan University cut women's tennis and softball, but ended up reinstating it.#Teams_reinstated#Teams_reinstated\n",
      "Eastern Michigan University cut women's tennis and softball, but the university argued that the cuts affected more men than women.#Affected_More_Men#Affected_More_Men\n",
      "Eastern Michigan University cut women's tennis and softball, but Eastern Michigan still violated Title IX.#EMU_viol_TitleIX#EMU_viol_TitleIX\n",
      "Eastern Michigan University cut women's tennis and softball, but also cut men's sports as well in an attempt to lower budget costs.#Cuts_to_mens_sports;Miscellaneous#Cuts_to_mens_sports\n",
      "Eastern Michigan University cut women's tennis and softball, but not other sports, including men's tennis.#Did_not_cut_t_and_s#Did_not_cut_t_and_s\n",
      "Eastern Michigan University cut women's tennis and softball, but also cut men's swimming, diving, and wrestling.#Cuts_to_WSD,#Cuts_to_WSD,\n",
      "Eastern Michigan University cut women's tennis and softball, but a judge ruled to reinstate both teams under Title IX.#Judge_reinstate#Judge_reinstate\n",
      "Eastern Michigan University cut women's tennis and softball, but also made cuts to the men's teams as well.#Cuts_to_mens_sports#Cuts_to_mens_sports\n",
      "Eastern Michigan University cut women's tennis and softball, but did not cut men's tennis and softball.#Did_not_cut_t_and_s#Did_not_cut_t_and_s\n",
      "Eastern Michigan University cut women's tennis and softball, but also cut men's swimming, diving and wrestling teams.#Cuts_to_WSD,#Cuts_to_WSD,\n",
      "Eastern Michigan University cut women's tennis and softball, but also cut mens wrestling and swimming#Cuts_to_WSD,#Cuts_to_WSD,\n",
      "Eastern Michigan University cut women's tennis and softball, but a student named Ariana decided to do something about it and fought the decision.#Women_sued#\n",
      "Eastern Michigan University cut women's tennis and softball, but athletes fought back.#Miscellaneous#\n",
      "Eastern Michigan University cut women's tennis and softball, but did not cut other women's sports at the school.#Kept_other_ones#\n",
      "Eastern Michigan University cut women's tennis and softball, but made lesser cuts to men's sports programs.#EMU_cut_less_men#\n",
      "Eastern Michigan University cut women's tennis and softball, but a judge ruled that they must reinstate both of those sports or be in violation of Title IX.#Court_Decision;Judge_reinstate#Court_Decision;Judge_reinstate\n",
      "Eastern Michigan University cut women's tennis and softball, but restatedf it after lawsuite#Teams_reinstated#Teams_reinstated;Women_sued\n",
      "Eastern Michigan University cut women's tennis and softball, but they offered aviation classes which most schools did not do.#Miscellaneous#Miscellaneous\n",
      "Eastern Michigan University cut women's tennis and softball, but the school argued it affected more men then women.#Affected_More_Men#Affected_More_Men\n",
      "Eastern Michigan University cut women's tennis and softball, but also cut mens wrestling, as well as mens swimming and diving.#Cuts_to_WSD,#Cuts_to_WSD,\n",
      "Eastern Michigan University cut women's tennis and softball, but mans's percentage increased and their in popular#Miscellaneous#Miscellaneous\n",
      "Eastern Michigan University cut women's tennis and softball, but no scholarships or scholarships but no major#Miscellaneous#Miscellaneous\n",
      "Eastern Michigan University cut women's tennis and softball, but were able to preserve funding for other sports.#Kept_other_ones#Miscellaneous\n",
      "Eastern Michigan University cut women's tennis and softball, but also cut men's sports team such as wrestling and swimming.#Cuts_to_WSD,#Cuts_to_WSD,\n",
      "Eastern Michigan University cut women's tennis and softball, but did not realize the effect this would have on their female athletes.#Miscellaneous#Miscellaneous\n",
      "Eastern Michigan University cut women's tennis and softball, but they were sued by two females that they were out of compliance with Title Nine with regards to gender equality in sports.#Women_sued#Women_sued\n",
      "Eastern Michigan University cut women's tennis and softball, but two women athletes sued that the school was violating Title IX, then It turned out, the school had been violating it for 15 years, so the judge ruled to reinstate sports so women will have as much chances to get into sports as men.#Judge_reinstate;Women_sued#Women_sued\n",
      "Eastern Michigan University cut women's tennis and softball, but they did not fully take into account Title IX rules.#EMU_viol_TitleIX#Miscellaneous\n",
      "Eastern Michigan University cut women's tennis and softball, but not the aviation program.#Miscellaneous#Miscellaneous\n",
      "Eastern Michigan University cut women's tennis and softball, but court found that since the school had never fully coplied with Title IX that this constituted unequal treatment.#Court_Decision#Court_Decision\n",
      "Eastern Michigan University cut women's tennis and softball, but the court ruled that both programs should be reinstated.#Judge_reinstate#Judge_reinstate\n",
      "Eastern Michigan University cut women's tennis and softball, but they've also cut men's sports, so Chretien and Mayerova need to take a chill pill.#Cuts_to_mens_sports;Miscellaneous#Cuts_to_mens_sports\n",
      "Eastern Michigan University cut women's tennis and softball, but two men's teams were also cut.#Cuts_to_mens_sports#Cuts_to_mens_sports\n",
      "Eastern Michigan University cut women's tennis and softball, but were ordered by a judge to reinstate them after being found guilty of violating Title IX.#Judge_reinstate#Court_Decision;Judge_reinstate\n",
      "Eastern Michigan University cut women's tennis and softball, but also cut men's wrestling as well as swimming and diving.#Cuts_to_WSD,#Cuts_to_WSD,\n",
      "Eastern Michigan University cut women's tennis and softball, but also cut the men's wrestling and swimming and diving programs.#Cuts_to_WSD,#Cuts_to_WSD,\n",
      "Eastern Michigan University cut women's tennis and softball, but also cut several of the men's teams.#Cuts_to_mens_sports#Cuts_to_mens_sports\n",
      "Eastern Michigan University cut women's tennis and softball, but was sued due to the alleged violation of Title IX.#Women_sued#Women_sued\n",
      "Eastern Michigan University cut women's tennis and softball, but they did not cut men football or basketball.#Kept_other_ones#\n",
      "Eastern Michigan University cut women's tennis and softball, but they were reinstated because the school saw a major decline in equality among genders.#Limit_woms_opps;Teams_reinstated#Teams_reinstated\n",
      "Eastern Michigan University cut women's tennis and softball, but cutting the sports reduced the number of woman playing.#Limit_woms_opps#\n",
      "Eastern Michigan University cut women's tennis and softball, but the boys sports program was cut, also.#Cuts_to_mens_sports#Cuts_to_mens_sports\n",
      "Eastern Michigan University cut women's tennis and softball, but a judge ruled that the school would have to reinstate both programs due to Title IX violations.#Court_Decision;Judge_reinstate#Judge_reinstate\n",
      "Eastern Michigan University cut women's tennis and softball, but a lawsuit brought by two female athletes led to these programs being reinstated.#Teams_reinstated;Women_sued#Teams_reinstated;Women_sued\n",
      "Eastern Michigan University cut women's tennis and softball, but men's swimming, wrestling, and diving was also cut.#Cuts_to_WSD,#Cuts_to_WSD,\n",
      "Eastern Michigan University cut women's tennis and softball, but some potential students fought back over unfairness and violation of Title IX.#Fem_athletes_mad#Fem_athletes_mad\n",
      "Eastern Michigan University cut women's tennis and softball, but later reinstated them after a judge ruled that they must do so.#Teams_reinstated#Teams_reinstated\n",
      "Eastern Michigan University cut women's tennis and softball, but they did not cut men's tennis or men's baseball.#Did_not_cut_t_and_s#Did_not_cut_t_and_s\n",
      "Eastern Michigan University cut women's tennis and softball, but ended up being overruled by the court, who determined they had caused women to not have equal chances at sports.#Court_Decision;Judge_reinstate#\n",
      "Eastern Michigan University cut women's tennis and softball, but because they cut those sports for women they violated Title IX providing equal representation for women and men in sports.#EMU_viol_TitleIX#EMU_viol_TitleIX\n",
      "Eastern Michigan University cut women's tennis and softball, but did not cut any of men's sports.#EMU_cut_less_men#EMU_cut_less_men\n",
      "Eastern Michigan University cut women's tennis and softball, but It also cut men’s swimming and diving#Cuts_to_WSD,#Cuts_to_WSD,\n",
      "Eastern Michigan University cut women's tennis and softball, but also cut certain sports for men.#Cuts_to_mens_sports#Cuts_to_mens_sports\n",
      "Eastern Michigan University cut women's tennis and softball, but also cut multiple male programs.#Cuts_to_mens_sports#Cuts_to_mens_sports\n",
      "Eastern Michigan University cut women's tennis and softball, but also cut two men's teams in different sports.#Cuts_to_mens_sports#Cuts_to_mens_sports\n",
      "Eastern Michigan University cut women's tennis and softball, but was forced to reinstate them#Teams_reinstated#Teams_reinstated\n",
      "Eastern Michigan University cut women's tennis and softball, but a court found that it exacerbated their existing failure to comply with Title IX’s requirement of equal funding for men and women’s sports programs and ruled that they had to restore those women’s teams.#Court_Decision;Judge_reinstate#Court_Decision;Judge_reinstate\n",
      "Eastern Michigan University cut women's tennis and softball, but left other women's sports.#Miscellaneous#Kept_other_ones\n",
      "Eastern Michigan University cut women's tennis and softball, but they were later forced to reinstate them after a court found they violated Title 9.#Court_Decision;Teams_reinstated#Court_Decision;Teams_reinstated\n",
      "Eastern Michigan University cut women's tennis and softball, but the University had to reinstate both women's softball and tennis.#Teams_reinstated#Teams_reinstated\n",
      "Eastern Michigan University cut women's tennis and softball, but should not have, given that it was already in violation of Title IX.#Miscellaneous;EMU_viol_TitleIX#EMU_viol_TitleIX\n",
      "Eastern Michigan University cut women's tennis and softball, but Chretien was unhappy due to Eastern Michigan being the only school that had previously offered a softball and aviation program.#Miscellaneous#Miscellaneous\n",
      "Eastern Michigan University cut women's tennis and softball, but also cut men's wrestling and men's swimming and diving.#Cuts_to_WSD,#Cuts_to_WSD,\n",
      "Eastern Michigan University cut women's tennis and softball, but Ariana Chretien thought the University was in violation of Title IX for cutting women's sports.#Women_sued#\n",
      "Eastern Michigan University cut women's tennis and softball, but this move was countered by a law suit from two female athletes that were affected by the cuts, citing Title IX violations.#Women_sued#Women_sued\n",
      "Eastern Michigan University cut women's tennis and softball, but a judge ruled that they would have to reinstate the sports.#Judge_reinstate#Judge_reinstate\n",
      "Eastern Michigan University cut women's tennis and softball, but they also cut mens sports.#Cuts_to_mens_sports#Cuts_to_mens_sports\n",
      "Eastern Michigan University cut women's tennis and softball, but a student and softball player affected by the decision refused to accept it.#Fem_athletes_mad#Fem_athletes_mad\n",
      "Eastern Michigan University cut women's tennis and softball, but Ariana Chretien was determined to keep the programs.#Fem_athletes_mad#\n",
      "Eastern Michigan University cut women's tennis and softball, but The men's wrestling, men's swimming and diving, women's tennis, and women's softball teams would not continue in the#Miscellaneous#Cuts_to_WSD,\n",
      "Eastern Michigan University cut women's tennis and softball, but nice#Miscellaneous#Miscellaneous\n",
      "Eastern Michigan University cut women's tennis and softball, but left men's tennis and softball.#Did_not_cut_t_and_s#Did_not_cut_t_and_s\n",
      "Eastern Michigan University cut women's tennis and softball, but they did not consider whether this violated Title IX.#Miscellaneous#\n",
      "Eastern Michigan University cut women's tennis and softball, but two prospective student sued with a title IX claim.#Women_sued#Women_sued\n",
      "Eastern Michigan University cut women's tennis and softball, but did not cut some other sports.#Miscellaneous#Kept_other_ones\n",
      "Eastern Michigan University cut women's tennis and softball, but didn't anticipate the impact their decision would have on female athletes in particular.#Miscellaneous#Miscellaneous\n",
      "Eastern Michigan University cut women's tennis and softball, but students disagree#Fem_athletes_mad#Miscellaneous\n",
      "Eastern Michigan University cut women's tennis and softball, but did realize the backlash it would have.#Miscellaneous#Miscellaneous\n",
      "Eastern Michigan University cut women's tennis and softball, but more male athletes were affected.#Affected_More_Men#Affected_More_Men\n",
      "Eastern Michigan University cut women's tennis and softball, but will have to reinstate them after the court rulings.#Judge_reinstate#Teams_reinstated\n",
      "Eastern Michigan University cut women's tennis and softball, but a judge ruled the school would have to reinstate both due to title IX violation.#Judge_reinstate#Court_Decision;Judge_reinstate\n",
      "Eastern Michigan University cut women's tennis and softball, but also cut men's wrestling, swimming, and diving.#Cuts_to_WSD,#Cuts_to_WSD,\n",
      "Eastern Michigan University cut women's tennis and softball, but several students sued them for violating Title IX.#Women_sued#Women_sued\n",
      "Eastern Michigan University cut women's tennis and softball, but it additionally cut a few men's sports also.#Cuts_to_mens_sports#Cuts_to_mens_sports\n",
      "Eastern Michigan University cut women's tennis and softball, but ended up having to reinstate them.#Teams_reinstated#Teams_reinstated\n",
      "Eastern Michigan University cut women's tennis and softball, but that made Ariana Chretien as due to this she will now be forced to choose one of two passion.#Miscellaneous#Miscellaneous\n",
      "Eastern Michigan University cut women's tennis and softball, but Title IX reinstated those sports.#Teams_reinstated#Teams_reinstated\n",
      "Eastern Michigan University cut women's tennis and softball, but a softball player and a tennis player sued the school to keep their sports alive.#Women_sued#Women_sued\n",
      "Eastern Michigan University cut women's tennis and softball, but later added them back when it was found to be violating Title IX.#Court_Decision;Teams_reinstated#Teams_reinstated;EMU_viol_TitleIX\n",
      "Eastern Michigan University cut women's tennis and softball, but also cut men's wrestling and diving/swimming.#Cuts_to_WSD,#Cuts_to_WSD,\n",
      "Eastern Michigan University cut women's tennis and softball, but in doing so it may have violated Title IX.#EMU_viol_TitleIX#EMU_viol_TitleIX\n",
      "Eastern Michigan University cut women's tennis and softball, but they got sued.#Women_sued#Women_sued\n",
      "Eastern Michigan University cut women's tennis and softball, but also men's swimming and wrestling.#Cuts_to_WSD,#Cuts_to_WSD,\n",
      "Eastern Michigan University cut women's tennis and softball, but did not cut many of the men's sports teams.#EMU_cut_less_men#Kept_other_ones\n",
      "Eastern Michigan University cut women's tennis and softball, but a judge ruled that they would have to reinstate it.#Judge_reinstate#Judge_reinstate\n",
      "Eastern Michigan University cut women's tennis and softball, but would not continue in the fall.#Miscellaneous#Miscellaneous\n",
      "Eastern Michigan University cut women's tennis and softball, but later had to reinstate both sports because they had violated Title IX.#Teams_reinstated;EMU_viol_TitleIX#Teams_reinstated;EMU_viol_TitleIX\n",
      "Eastern Michigan University cut women's tennis and softball, but was forced by court order to reinstate them.#Teams_reinstated#Teams_reinstated\n",
      "Eastern Michigan University cut women's tennis and softball, but actually ended up affecting more men then women.#Affected_More_Men#Affected_More_Men\n",
      "Eastern Michigan University cut women's tennis and softball, but it also cut men's wrestling, swimming, and diving.#Cuts_to_WSD,#Cuts_to_WSD,\n",
      "Eastern Michigan University cut women's tennis and softball, but also cut men's wrestling, swimming, and diving in an effort to save money.#Cuts_to_WSD,#Cuts_to_WSD,\n",
      "Eastern Michigan University cut women's tennis and softball, but were sued for violating title 9#Women_sued#Women_sued\n",
      "Eastern Michigan University cut women's tennis and softball, but Chretien refused to accept the school's decision to cut the teams; so she joined forces with Marie Mayerova, a tennis player and together they sued Eastern Michigan for violating Title IX.#Women_sued#Women_sued\n",
      "Eastern Michigan University cut women's tennis and softball, but the changes effected more men than women.#Affected_More_Men#Affected_More_Men\n",
      "Eastern Michigan University cut women's tennis and softball, but this was later found to be illegal under Title IX.#Court_Decision#\n",
      "Eastern Michigan University cut women's tennis and softball, but also men's wrestling and swimming/diving.#Cuts_to_WSD,#Cuts_to_WSD,\n",
      "Eastern Michigan University cut women's tennis and softball, but Chretien refused to accept the school's decision to cut the teams.#Miscellaneous#\n",
      "Eastern Michigan University cut women's tennis and softball, but the chance affect equally genders#Miscellaneous#\n",
      "Eastern Michigan University cut women's tennis and softball, but cut more men's sports then women's.#Affected_More_Men#\n",
      "Eastern Michigan University cut women's tennis and softball, but it also cut men's wrestling, swimming and diving.#Cuts_to_WSD,#Cuts_to_WSD,\n",
      "Eastern Michigan University cut women's tennis and softball, but they also cut men's wrestling, men's swimming and diving.#Cuts_to_WSD,#Cuts_to_WSD,\n",
      "Eastern Michigan University cut women's tennis and softball, but players were not happy with this decision.#Fem_athletes_mad#\n",
      "Eastern Michigan University cut women's tennis and softball, but kept other sports such as men's football and basketball.#Kept_other_ones#Kept_other_ones\n",
      "Eastern Michigan University cut women's tennis and softball, but claimed this did not violate Title IX because the overall cuts affected more male athletes than female athletes.#Affected_More_Men;EMU_compliant#Affected_More_Men;EMU_compliant\n",
      "Eastern Michigan University cut women's tennis and softball, but will revisit the decision#Miscellaneous#Teams_reinstated\n",
      "Eastern Michigan University cut women's tennis and softball, but they were later reinstated when the school was ordered out of compliancd with Title IX by a judge.#Court_Decision;Teams_reinstated#Court_Decision;Teams_reinstated\n",
      "Eastern Michigan University cut women's tennis and softball, but had to reinstate it both teams.#Teams_reinstated#Teams_reinstated\n",
      "Eastern Michigan University cut women's tennis and softball, but Eastern Michigan insisted that it did not violate Title IX#EMU_compliant#EMU_compliant\n",
      "Eastern Michigan University cut women's tennis and softball, but it was reinstated through Title IX#Court_Decision;Teams_reinstated#Teams_reinstated\n",
      "Eastern Michigan University cut women's tennis and softball, but the school would have to reinstate both women's softball and tennis.#Teams_reinstated#Teams_reinstated\n",
      "Eastern Michigan University cut women's tennis and softball, but the determination of Ariana Chretien to keep these programs allowed them to stay.#Miscellaneous#\n",
      "Eastern Michigan University cut women's tennis and softball, but later were forced to reinstate them.#Teams_reinstated#Teams_reinstated\n",
      "Eastern Michigan University cut women's tennis and softball, but by doing so brought attention to the fact that they were not compliant with title IX#EMU_viol_TitleIX#EMU_viol_TitleIX\n",
      "Eastern Michigan University cut women's tennis and softball, but violated title IX in the process.#EMU_viol_TitleIX#EMU_viol_TitleIX\n",
      "Eastern Michigan University cut women's tennis and softball, but When softball player Ariana Chretien heard the news, she grew worried nd She joined forces with Marie Mayerova, a tennis player Chretien and Mayerova claimed that Eastern Michigan broke this law#Fem_athletes_mad#Women_sued\n",
      "Eastern Michigan University cut women's tennis and softball, but kept the male’s tennis and softball teams.#Did_not_cut_t_and_s#\n",
      "Eastern Michigan University cut women's tennis and softball, but they had to reinstate it for violating Title IX.#Teams_reinstated#Teams_reinstated;EMU_viol_TitleIX\n",
      "Eastern Michigan University cut women's tennis and softball, but were sued over the decision and forced to reinstate.#Teams_reinstated;Women_sued#Teams_reinstated;Women_sued\n",
      "Eastern Michigan University cut women's tennis and softball, but also men's swimming, diving and wrestling.#Cuts_to_WSD,#Cuts_to_WSD,\n",
      "Eastern Michigan University cut women's tennis and softball, but v#Miscellaneous#Miscellaneous\n",
      "Eastern Michigan University cut women's tennis and softball, but that decision was later ruled a violation of Title IX.#Court_Decision#Court_Decision\n",
      "Eastern Michigan University cut women's tennis and softball, but the judge rule it to be reinstated#Judge_reinstate#Judge_reinstate\n",
      "Eastern Michigan University cut women's tennis and softball, but they were already out of compliance with Title IX regulations and made the problem even worse by cutting women's teams.#Limit_woms_opps;EMU_viol_TitleIX#Limit_woms_opps;EMU_viol_TitleIX\n",
      "Eastern Michigan University cut women's tennis and softball, but they were ordered to reinstate them#Judge_reinstate#\n",
      "Eastern Michigan University cut women's tennis and softball, but also cut the mens swimming, diving, and wresting teams.#Cuts_to_WSD,#Cuts_to_WSD,\n",
      "Eastern Michigan University cut women's tennis and softball, but offers tennis#Miscellaneous#Miscellaneous\n",
      "Eastern Michigan University cut women's tennis and softball, but were eventually forced to reinstate them.#Teams_reinstated#Teams_reinstated\n",
      "Eastern Michigan University cut women's tennis and softball, but they were sued for violating title 9.#Women_sued#Women_sued\n",
      "Eastern Michigan University cut women's tennis and softball, but they also cut some men's sports.#Cuts_to_mens_sports#Cuts_to_mens_sports\n",
      "Eastern Michigan University cut women's tennis and softball, but they also had cut the men's wrestling, along with men's swimming and diving clubs.#Cuts_to_WSD,#Cuts_to_WSD,\n",
      "Eastern Michigan University cut women's tennis and softball, but also cut men's wrestling, swimming and diving as well.#Cuts_to_WSD,#Cuts_to_WSD,\n",
      "Eastern Michigan University cut women's tennis and softball, but they argued the cuts would effect more men than women.#Affected_More_Men#Affected_More_Men\n",
      "Eastern Michigan University cut women's tennis and softball, but after being sued by two female students claiming the school was in violation of Title IX, a judge overturned this decision.#Judge_reinstate#Women_sued\n",
      "Eastern Michigan University cut women's tennis and softball, but also cut men's wrestling, men's swimming and diving.#Cuts_to_WSD,#Cuts_to_WSD,\n",
      "Eastern Michigan University cut women's tennis and softball, but they also cut a great deal of sports positions for males.#Cuts_to_mens_sports#Cuts_to_mens_sports\n",
      "Eastern Michigan University cut women's tennis and softball, but kept the men's sport#EMU_cut_less_men#EMU_cut_less_men\n",
      "Eastern Michigan University cut women's tennis and softball, but eventually had to reverse the decision due to Title IX violations.#Teams_reinstated;EMU_viol_TitleIX#Teams_reinstated\n",
      "Eastern Michigan University cut women's tennis and softball, but they also cut men’s wrestling and men’s swimming and diving teams in an effort to treat both genders fairly.#Cuts_to_WSD,#Cuts_to_WSD,\n",
      "Eastern Michigan University cut women's tennis and softball, but made their situation worse.#Miscellaneous#Miscellaneous\n",
      "Eastern Michigan University cut women's tennis and softball, but Chretien and Mayerova sued them and won which caused EMU to reinstate women's tennis and softball.#Teams_reinstated;Women_sued#Teams_reinstated;Women_sued\n",
      "Eastern Michigan University cut women's tennis and softball, but violated Title IX.#EMU_viol_TitleIX#EMU_viol_TitleIX\n",
      "Eastern Michigan University cut women's tennis and softball, but left some men's programs untouched.#Miscellaneous#EMU_cut_less_men\n",
      "Eastern Michigan University cut women's tennis and softball, but they cut more from men's sports.#Affected_More_Men#EMU_cut_less_men\n",
      "Eastern Michigan University cut women's tennis and softball, but didn't cut men's tennis and softball.#Did_not_cut_t_and_s#Did_not_cut_t_and_s\n",
      "Eastern Michigan University cut women's tennis and softball, but a few women athletes banded together to fight this decision.#Women_sued#Fem_athletes_mad\n",
      "Eastern Michigan University cut women's tennis and softball, but had to reinstate it after they were proven guilty for violating title IX.#Court_Decision;Teams_reinstated#Court_Decision;Teams_reinstated\n",
      "Eastern Michigan University cut women's tennis and softball, but it was penalized for doing so despite equal cuts to male teams which resulted in a higher impact in male sports participation.#Affected_More_Men#\n",
      "Eastern Michigan University cut women's tennis and softball, but had to reinstate the programs.#Teams_reinstated#Teams_reinstated\n",
      "Eastern Michigan University cut women's tennis and softball, but later had to reinstate both according to the judge's ruling on grounds of violation of Title IX.#Court_Decision;Teams_reinstated#Court_Decision;Teams_reinstated\n",
      "Eastern Michigan University cut women's tennis and softball, but students and members university did not agree with the decision.#Miscellaneous#\n",
      "Eastern Michigan University cut women's tennis and softball, but no major.#Miscellaneous#Miscellaneous\n",
      "Eastern Michigan University cut women's tennis and softball, but they also cut men's wrestling, swimming, and diving.#Cuts_to_WSD,#Cuts_to_WSD,\n",
      "Eastern Michigan University cut women's tennis and softball, but court ruled against it#Judge_reinstate#\n",
      "Eastern Michigan University cut women's tennis and softball, but the programs were restored after the school was sued by two female athletes and the court ruled it had violated Title IX.#Court_Decision;Women_sued#Teams_reinstated;Women_sued\n",
      "Eastern Michigan University cut women's tennis and softball, but claimed that they did not violate Title IV since more men were affected by overall cuts than women.#Affected_More_Men;EMU_compliant#Affected_More_Men\n",
      "Eastern Michigan University cut women's tennis and softball, but she refused#Miscellaneous#Miscellaneous\n",
      "Eastern Michigan University cut women's tennis and softball, but not the scholarships that had gone with it.#Miscellaneous#Miscellaneous\n",
      "Eastern Michigan University cut women's tennis and softball, but a female tennis player and a female softball player filed suit under Title IX.#Women_sued#Women_sued\n",
      "Eastern Michigan University cut women's tennis and softball, but also men's swimming and diving.#Cuts_to_WSD,#Cuts_to_WSD,\n",
      "Eastern Michigan University cut women's tennis and softball, but kept some sport programs.#Kept_other_ones#Miscellaneous\n",
      "Eastern Michigan University cut women's tennis and softball, but kept mens sports.#EMU_cut_less_men#EMU_cut_less_men\n",
      "Eastern Michigan University cut women's tennis and softball, but kept other women's sports teams.#Miscellaneous#Kept_other_ones\n",
      "Eastern Michigan University cut women's tennis and softball, but they had budget issues.#Miscellaneous#Miscellaneous\n",
      "Eastern Michigan University cut women's tennis and softball, but a softball player wouldn't accept this outcome and she sued the college.#Women_sued#Women_sued\n",
      "Eastern Michigan University cut women's tennis and softball, but claimed they did not violate Title IX#EMU_compliant#\n",
      "Eastern Michigan University cut women's tennis and softball, but they violate title IX#EMU_viol_TitleIX#EMU_viol_TitleIX\n",
      "Eastern Michigan University cut women's tennis and softball, but was sued by two women.#Women_sued#Women_sued\n",
      "Eastern Michigan University cut women's tennis and softball, but a judge ruled that both programs would have to be reinstated.#Judge_reinstate#Judge_reinstate\n",
      "Eastern Michigan University cut women's tennis and softball, but was forced by judicial order to reinstate both programs.#Teams_reinstated#Teams_reinstated\n",
      "Eastern Michigan University cut women's tennis and softball, but also cut men's sports.#Cuts_to_mens_sports#Cuts_to_mens_sports\n",
      "Eastern Michigan University cut women's tennis and softball, but good#Miscellaneous#Miscellaneous\n",
      "Eastern Michigan University cut women's tennis and softball, but also cut some mens teams.#Cuts_to_mens_sports#Cuts_to_mens_sports\n",
      "Eastern Michigan University cut women's tennis and softball, but were forced to reinstate it by a judge due to Title IX#Court_Decision;Teams_reinstated#Teams_reinstated\n",
      "Eastern Michigan University cut women's tennis and softball, but they will be back#Teams_reinstated#\n",
      "Eastern Michigan University cut women's tennis and softball, but did not cut that of men.#Did_not_cut_t_and_s#\n",
      "Eastern Michigan University cut women's tennis and softball, but did not cut spending on other athletic sports such as men's football or men's and women's basketball.#Miscellaneous#\n",
      "Eastern Michigan University cut women's tennis and softball, but they reinstated both.#Teams_reinstated#Teams_reinstated\n",
      "Eastern Michigan University cut women's tennis and softball, but kept programs for men.#EMU_cut_less_men#\n",
      "Eastern Michigan University cut women's tennis and softball, but men's tennis and softball.#Did_not_cut_t_and_s#Did_not_cut_t_and_s\n",
      "Eastern Michigan University cut women's tennis and softball, but they were reinstated.#Teams_reinstated#Teams_reinstated\n",
      "Eastern Michigan University cut women's tennis and softball, but Feb 12, 2019 - A judge ruled Tuesday that Eastern Michigan must hire a softball coach#Miscellaneous#Judge_reinstate\n",
      "Eastern Michigan University cut women's tennis and softball, but In court filing, Eastern Michigan University says a federal judge shouldn't be ... that Eastern restart women's tennis and softball programs#Miscellaneous#Judge_reinstate\n",
      "Eastern Michigan University cut women's tennis and softball, but the cuts showed that the school was not making enough effort to give women equal access to sports.#Limit_woms_opps#Miscellaneous\n",
      "Eastern Michigan University cut women's tennis and softball, but they were already in violation of Title IX for at least 15 years before this, therefore this only contributed more to the inequality involving school sports.#Limit_woms_opps;EMU_viol_TitleIX#EMU_viol_TitleIX\n",
      "Eastern Michigan University cut women's tennis and softball, but also cut men's swimming and wrestling.#Cuts_to_WSD,#Cuts_to_WSD,\n",
      "Eastern Michigan University cut women's tennis and softball, but two players sued the school under Title IX causing the teams to be reinstated#Teams_reinstated;Women_sued#Teams_reinstated;Women_sued\n",
      "Eastern Michigan University cut women's tennis and softball, but Although Chretien had received multiple softball scholarship offers, Eastern Michigan was the only school that also offered an aviation major.#Miscellaneous#Miscellaneous\n",
      "Eastern Michigan University cut women's tennis and softball, but were later required by a judge to reinstate both sports.#Judge_reinstate#Teams_reinstated\n",
      "Eastern Michigan University cut women's tennis and softball, but were forced to reinstate both sports in order to be in compliance with Title IX#Teams_reinstated;EMU_viol_TitleIX#Teams_reinstated;EMU_viol_TitleIX\n",
      "Eastern Michigan University cut women's tennis and softball, but cuts meant Chretien would have to choose between her two passions, one being aviation.#Miscellaneous#Miscellaneous\n",
      "Eastern Michigan University cut women's tennis and softball, but the government requires colleges to give women an equal chance to participate in athletics.#Miscellaneous#Miscellaneous\n",
      "Eastern Michigan University cut women's tennis and softball, but not men's softball and tennis.#Did_not_cut_t_and_s#Did_not_cut_t_and_s\n",
      "Eastern Michigan University cut women's tennis and softball, but also cut men's wrestling, swimming, and diving programs.#Cuts_to_WSD,#Cuts_to_WSD,\n",
      "Eastern Michigan University cut women's tennis and softball, but two female athletes teamed up to fight this decision and the programs were eventually reinstated.#Teams_reinstated;Fem_athletes_mad#Teams_reinstated;Fem_athletes_mad\n",
      "Eastern Michigan University cut women's tennis and softball, but would continue other male sports.#EMU_cut_less_men#Miscellaneous\n",
      "Eastern Michigan University cut women's tennis and softball, but this only affected 25 women.#Affected_More_Men#Affected_More_Men\n",
      "Eastern Michigan University cut women's tennis and softball, but the changes affected more men than women#Affected_More_Men#Affected_More_Men\n",
      "Eastern Michigan University cut women's tennis and softball, but not men's tennis.#Did_not_cut_t_and_s#Did_not_cut_t_and_s\n",
      "Eastern Michigan University cut women's tennis and softball, but also cut men's wrestling and diving.#Cuts_to_WSD,#Cuts_to_WSD,\n",
      "Eastern Michigan University cut women's tennis and softball, but students challenged this as a violation of Title IX.#Women_sued#Women_sued\n",
      "Eastern Michigan University cut women's tennis and softball, but continued other programs that were also open to women.#Kept_other_ones#Cuts_to_mens_sports\n",
      "Eastern Michigan University cut women's tennis and softball, but they cut it at a major amount compared to mens sports.#EMU_cut_less_men#Affected_More_Men\n",
      "Eastern Michigan University cut women's tennis and softball, but they also cut men's wrestling and swimming.#Cuts_to_WSD,#Cuts_to_WSD,\n",
      "Eastern Michigan University cut women's tennis and softball, but a judge ruled that they would have to reinstate women's tennis and softball.#Judge_reinstate#Judge_reinstate\n",
      "Eastern Michigan University cut women's tennis and softball, but they also three male sports too.#Cuts_to_mens_sports#Cuts_to_mens_sports\n",
      "Eastern Michigan University cut women's tennis and softball, but they also cut men's wrestling, men's swimming and diving which impacted more men than women at the school; however the school has 60% female students and less females are involved in sports, so they argued that the budget disproportionately impacted females.#Affected_More_Men;Cuts_to_WSD,#Affected_More_Men\n",
      "Eastern Michigan University cut women's tennis and softball, but the court ruled they were violating Title IX.#Court_Decision#Court_Decision\n",
      "Eastern Michigan University cut women's tennis and softball, but eventually reinstated the sports after being sued for violating Title XI.#Teams_reinstated;Women_sued#Teams_reinstated;Women_sued\n",
      "Eastern Michigan University cut women's tennis and softball, but the changes affected more men than it did women.#Affected_More_Men#Affected_More_Men\n",
      "Eastern Michigan University cut women's tennis and softball, but violated the law in doing so.#EMU_viol_TitleIX#EMU_viol_TitleIX\n",
      "Eastern Michigan University cut women's tennis and softball, but were sued by students to force them to continue the programs.#Women_sued#Women_sued\n",
      "Eastern Michigan University cut women's tennis and softball, but it was later reinstated after the courts ruled against the university stating they were not in Compliance with Title 9.#Court_Decision;Teams_reinstated#Court_Decision;Teams_reinstated\n",
      "Eastern Michigan University cut women's tennis and softball, but also cut the men's wrestling team as well as their swim and diving team.#Cuts_to_WSD,#Cuts_to_WSD,\n",
      "Eastern Michigan University cut women's tennis and softball, but they also cut a number of men's teams that would affect their male athlete population to a greater extent.#Affected_More_Men;Cuts_to_mens_sports#Cuts_to_mens_sports\n",
      "Eastern Michigan University cut women's tennis and softball, but they also cut mens wrestling.#Cuts_to_WSD,#Cuts_to_WSD,\n",
      "Eastern Michigan University cut women's tennis and softball, but they were later forced to reinstate them.#Teams_reinstated#Teams_reinstated\n",
      "Eastern Michigan University cut women's tennis and softball, but they had to reverse their decision and reinstate them.#Teams_reinstated#Teams_reinstated\n",
      "Eastern Michigan University cut women's tennis and softball, but due to a lawsuit by female athletes contesting that the move violated Title IX, the programs were reinstated.#Teams_reinstated;Women_sued#Teams_reinstated\n",
      "Eastern Michigan University cut women's tennis and softball, but also cut even more mens sport activities.#Affected_More_Men#Cuts_to_mens_sports\n",
      "Eastern Michigan University cut women's tennis and softball, but ok lmao reminds me of my messages and cheese sticks out#Miscellaneous#Miscellaneous\n",
      "Eastern Michigan University cut women's tennis and softball, but they will have other sports#Kept_other_ones#Miscellaneous\n",
      "Eastern Michigan University cut women's tennis and softball, but did not think about how it would impact women in sports.#Miscellaneous#Miscellaneous\n",
      "Eastern Michigan University cut women's tennis and softball, but players were not happy and filed a case against the university, stating that they had violated Title IX.#Women_sued#Women_sued\n",
      "Eastern Michigan University cut women's tennis and softball, but violated Title IX regulations.#EMU_viol_TitleIX#EMU_viol_TitleIX\n",
      "Eastern Michigan University cut women's tennis and softball, but offered aviation.#Miscellaneous#Miscellaneous\n",
      "Eastern Michigan University cut women's tennis and softball, but not any of the men's programs.#EMU_cut_less_men#\n",
      "Eastern Michigan University cut women's tennis and softball, but Chretien refused to accept the school's decision and sued Eastern Michigan for violating Title IX (pronounced “title nine”).#Women_sued#Women_sued\n",
      "Eastern Michigan University cut women's tennis and softball, but that would limit women's chances to play sports even more than it already had been.#Limit_woms_opps#Miscellaneous\n",
      "Eastern Michigan University cut women's tennis and softball, but also men's wrestling, swimming, and diving.#Cuts_to_WSD,#Cuts_to_WSD,\n",
      "Eastern Michigan University cut women's tennis and softball, but they also cut men's wrestling and men's swimming and diving.#Cuts_to_WSD,#Cuts_to_WSD,\n",
      "Eastern Michigan University cut women's tennis and softball, but also cut men's teams as well such as wrestling, swimming and diving.#Cuts_to_WSD,#Cuts_to_WSD,\n",
      "Eastern Michigan University cut women's tennis and softball, but also cut several men's sports too.#Cuts_to_mens_sports#Cuts_to_mens_sports\n",
      "Eastern Michigan University cut women's tennis and softball, but was sued as a result.#Women_sued#Women_sued\n",
      "Eastern Michigan University cut women's tennis and softball, but a student filed a lawsuit against the school and the school had to re-instate women's tennis and softball.#Teams_reinstated;Women_sued#Teams_reinstated;Women_sued\n",
      "Eastern Michigan University cut women's tennis and softball, but a judge ruled that it had to be brought back because it was not equal rights to women if they took it away.#Court_Decision;Judge_reinstate#Court_Decision;Judge_reinstate\n",
      "Eastern Michigan University cut women's tennis and softball, but also cut some men's sport programs as well.#Cuts_to_mens_sports#Cuts_to_mens_sports\n",
      "Eastern Michigan University cut women's tennis and softball, but also cut mens' wrestling, swimming and diving.#Cuts_to_WSD,#Cuts_to_WSD,\n",
      "Eastern Michigan University cut women's tennis and softball, but this put the school out of compliance with Title IX for fifteen years.#EMU_viol_TitleIX#EMU_viol_TitleIX\n",
      "Eastern Michigan University cut women's tennis and softball, but a judge ruled this was a violation of Title IX.#Court_Decision#Court_Decision\n",
      "Eastern Michigan University cut women's tennis and softball, but it was found to be in violation of Title IX.#EMU_viol_TitleIX#EMU_viol_TitleIX\n",
      "Eastern Michigan University cut women's tennis and softball, but eventually reinstated both sports after they were found in violation of Title IX.#Court_Decision;Teams_reinstated#Court_Decision;Teams_reinstated\n",
      "Eastern Michigan University cut women's tennis and softball, but Ariana Chretien would have to choose between softball and aviation, her desired major.#Miscellaneous#Miscellaneous\n",
      "Eastern Michigan University cut women's tennis and softball, but not any mens programs.#Miscellaneous#\n",
      "Eastern Michigan University cut women's tennis and softball, but very good#Miscellaneous#Miscellaneous\n",
      "Eastern Michigan University cut women's tennis and softball, but also cut men's swimming and diving.#Cuts_to_WSD,#Cuts_to_WSD,\n",
      "Eastern Michigan University cut women's tennis and softball, but were reinstated after courts decided the the university violated Title IX by making those cuts.#Teams_reinstated#Court_Decision;Teams_reinstated\n",
      "Eastern Michigan University cut women's tennis and softball, but that was not fair for women's because they all ready argued that women were already underrepresented in the school's sports teams while about 60% of the student population was female, less than 45% of the school's athletes were women the cuts, they said, would#Limit_woms_opps#\n",
      "Eastern Michigan University cut women's tennis and softball, but girl students sued the school for violating title nine.#Women_sued#Women_sued\n",
      "Eastern Michigan University cut women's tennis and softball, but in the end they had to reinstate the teams due to a judges rule concerning title IX.#Court_Decision;Teams_reinstated#Teams_reinstated\n",
      "Eastern Michigan University cut women's tennis and softball, but a few players successfully sued the school for violating Title IX and reinstated both sports.#Teams_reinstated;Women_sued#Teams_reinstated;Women_sued\n",
      "Eastern Michigan University cut women's tennis and softball, but they insisted they did not violate Title IX when they did so.#EMU_compliant#EMU_compliant\n",
      "Eastern Michigan University cut women's tennis and softball, but had to reinstate the teams because they violated Title IX.#Teams_reinstated;EMU_viol_TitleIX#Teams_reinstated;EMU_viol_TitleIX\n",
      "Eastern Michigan University cut women's tennis and softball, but would continue in the fall.#Miscellaneous#Miscellaneous\n",
      "Eastern Michigan University cut women's tennis and softball, but not for the me's tennis or soft ball#Did_not_cut_t_and_s#Did_not_cut_t_and_s\n",
      "Eastern Michigan University cut women's tennis and softball, but some argued that more women's sports teams were cut than men's in violation of Title IX.#EMU_cut_less_men#Affected_More_Men\n",
      "Eastern Michigan University cut women's tennis and softball, but not all women's sports.#Kept_other_ones#Miscellaneous\n",
      "Eastern Michigan University cut women's tennis and softball, but a judge ruled would have to reinstate the programs because they violated Title IX#Court_Decision;Judge_reinstate#Judge_reinstate\n",
      "Eastern Michigan University cut women's tennis and softball, but were taking to court for violating Title IX.#Women_sued#\n",
      "Eastern Michigan University cut women's tennis and softball, but paid the consequence when they were sued by two students.#Women_sued#Women_sued\n",
      "Eastern Michigan University cut women's tennis and softball, but a judge ruled that they violated Title IX and they would need to reinstate both sports.#Court_Decision;Judge_reinstate#Court_Decision;Judge_reinstate\n",
      "Eastern Michigan University cut women's tennis and softball, but a judge ruled they would have to reinstate them both.#Judge_reinstate#Judge_reinstate\n",
      "Eastern Michigan University cut women's tennis and softball, but made no cuts to men's sports.#EMU_cut_less_men#\n",
      "Eastern Michigan University cut women's tennis and softball, but they also cut men's swimming, diving, and wrestling programs.#Cuts_to_WSD,#Cuts_to_WSD,\n",
      "Eastern Michigan University cut women's tennis and softball, but this decision was in violation of Title IX.#EMU_viol_TitleIX#EMU_viol_TitleIX\n",
      "Eastern Michigan University cut women's tennis and softball, but were sued by students claiming that the school was in violation of Title IX.#Women_sued#Women_sued\n",
      "Eastern Michigan University cut women's tennis and softball, but kept other programs#Miscellaneous#Kept_other_ones\n",
      "Eastern Michigan University cut women's tennis and softball, but cut men's wrestling and swimming and diving as well.#Cuts_to_WSD,#Cuts_to_WSD,\n",
      "Eastern Michigan University cut women's tennis and softball, but not men’s tennis and softball.#Did_not_cut_t_and_s#Did_not_cut_t_and_s\n",
      "Eastern Michigan University cut women's tennis and softball, but ultimately reinstated both.#Teams_reinstated#Teams_reinstated\n",
      "Eastern Michigan University cut women's tennis and softball, but it had cut more than 2 men's sports programs.#Miscellaneous#\n",
      "Eastern Michigan University cut women's tennis and softball, but they were later sued for it and they were reinstated.#Teams_reinstated;Women_sued#Teams_reinstated;Women_sued\n",
      "Eastern Michigan University cut women's tennis and softball, but women were already underrepresented in the school's sports teams.#Limit_woms_opps#\n",
      "Eastern Michigan University cut women's tennis and softball, but in doing so, they violated Title IX.#EMU_viol_TitleIX#EMU_viol_TitleIX\n",
      "Eastern Michigan University cut women's tennis and softball, but did not cut men's tennis and men's softball.#Did_not_cut_t_and_s#Did_not_cut_t_and_s\n",
      "Eastern Michigan University cut women's tennis and softball, but Nothing else, from what i can see.#Miscellaneous#\n",
      "Eastern Michigan University cut women's tennis and softball, but one softball player refused to accept the decision.#Fem_athletes_mad#Fem_athletes_mad\n",
      "Eastern Michigan University cut women's tennis and softball, but they added more funding to football and golf.#Miscellaneous#\n",
      "Eastern Michigan University cut women's tennis and softball, but it only made an existing problem worse since they were already out of compliance with Title IX.#Limit_woms_opps;EMU_viol_TitleIX#EMU_viol_TitleIX\n",
      "Eastern Michigan University cut women's tennis and softball, but didnt cut mens baseball#Did_not_cut_t_and_s#Did_not_cut_t_and_s\n",
      "Eastern Michigan University cut women's tennis and softball, but did not offer a reason for these two sports in particular.#Miscellaneous#Miscellaneous\n",
      "Eastern Michigan University cut women's tennis and softball, but any task in the sports.#Miscellaneous#Miscellaneous\n",
      "Eastern Michigan University cut women's tennis and softball, but didn't cut other sports.#Kept_other_ones#Miscellaneous\n",
      "Eastern Michigan University cut women's tennis and softball, but ended up having to reinstate both.#Teams_reinstated#Teams_reinstated\n",
      "Eastern Michigan University cut women's tennis and softball, but women's softball teams would not continue in the fall.#Miscellaneous#Miscellaneous\n",
      "Eastern Michigan University cut women's tennis and softball, but a softball-playing student didn't accept it and, along with a tennis-playing student, sued.#Women_sued#Women_sued\n",
      "Eastern Michigan University cut women's tennis and softball, but also cut men's wrestling, swimming and diving.#Cuts_to_WSD,#Cuts_to_WSD,\n",
      "Eastern Michigan University cut women's tennis and softball, but Chretien refused to accept the school's decision to cut the teams and sued the school.#Women_sued#Women_sued\n",
      "Eastern Michigan University cut women's tennis and softball, but that was challenged under Title IX.#Women_sued#Women_sued\n",
      "Eastern Michigan University cut women's tennis and softball, but many other sports teams were cut as well.#Miscellaneous#Cuts_to_mens_sports\n",
      "Eastern Michigan University cut women's tennis and softball, but 2 female student she the college for violating Title IX.#Women_sued#\n",
      "Eastern Michigan University cut women's tennis and softball, but a judge ordered them to reinstate these sports.#Judge_reinstate#Judge_reinstate\n",
      "Eastern Michigan University cut women's tennis and softball, but also cut some men's sports programs.#Cuts_to_mens_sports#Cuts_to_mens_sports\n",
      "Eastern Michigan University cut women's tennis and softball, but kept many of the men's programs.#EMU_cut_less_men#EMU_cut_less_men\n",
      "Eastern Michigan University cut women's tennis and softball, but they were accused of violating title IX.#Women_sued#Women_sued\n",
      "Eastern Michigan University cut women's tennis and softball, but not many of the other men's teams.#Miscellaneous#\n",
      "Eastern Michigan University cut women's tennis and softball, but the courts ruled against them doing so.#Judge_reinstate#\n",
      "Eastern Michigan University cut women's tennis and softball, but later they had to open these sports because a potential student sued the University for violating Title IX.#Teams_reinstated;Women_sued#Women_sued\n",
      "Eastern Michigan University cut women's tennis and softball, but this cut was determined to be illegal when two students sued via Title IX.#Court_Decision;Women_sued#Women_sued\n",
      "Eastern Michigan University cut women's tennis and softball, but the situation was even worse.#Miscellaneous#Miscellaneous\n",
      "Eastern Michigan University cut women's tennis and softball, but after being sued for being in violation of Title IX and losing in court, the school was forced to reinstate both programs.#Court_Decision;Women_sued#Teams_reinstated;Women_sued\n",
      "Eastern Michigan University cut women's tennis and softball, but after reinstated them.#Teams_reinstated#Teams_reinstated\n",
      "Eastern Michigan University cut women's tennis and softball, but it was because they did not have the budget to continue the sports in the fall.#Miscellaneous#Miscellaneous\n",
      "Eastern Michigan University cut women's tennis and softball, but two outstanding women sport enthusiasts sue they violated Title IX and had to reinstate their sports program for women.#Teams_reinstated;Women_sued#Women_sued\n",
      "Eastern Michigan University cut women's tennis and softball, but two student-athletes sued the school and the programs could not be cut, per a judge's ruling.#Judge_reinstate;Women_sued#Women_sued\n",
      "Eastern Michigan University cut women's tennis and softball, but was forced to reinstate them via lawsuit shortly afterwards.#Teams_reinstated;Women_sued#Teams_reinstated;Women_sued\n",
      "Eastern Michigan University cut women's tennis and softball, but some universities still struggle to fulfill this obligation#Miscellaneous#Miscellaneous\n",
      "Eastern Michigan University cut women's tennis and softball, but the judge ruled that the school would have to reinstate them both.#Judge_reinstate#Judge_reinstate\n",
      "Eastern Michigan University cut women's tennis and softball, but two women went to court or argue otherwise.#Women_sued#Women_sued\n",
      "Eastern Michigan University cut women's tennis and softball, but it also eliminated men's wrestling, swimming and diving.#Cuts_to_WSD,#Cuts_to_WSD,\n",
      "Eastern Michigan University cut women's tennis and softball, but other universities did not.#Miscellaneous#\n",
      "Eastern Michigan University cut women's tennis and softball, but more men were effected because they are most likely sexist and had way more men teams than women teams.#Affected_More_Men;Miscellaneous;Limit_woms_opps#Affected_More_Men\n",
      "Eastern Michigan University cut women's tennis and softball, but had to reinstate it after the judge ruled it violated Title IX.#Court_Decision;Teams_reinstated#Court_Decision;Teams_reinstated\n",
      "Eastern Michigan University cut women's tennis and softball, but not comparable men's sports, which a pair of female athletes claimed was a violation of Title IX.#Women_sued#\n",
      "Eastern Michigan University cut women's tennis and softball, but didnt cut mens tennis or softball.#Did_not_cut_t_and_s#Did_not_cut_t_and_s\n",
      "Eastern Michigan University cut women's tennis and softball, but it affected women's fairness to equally play sports.#Limit_woms_opps#Miscellaneous\n",
      "Eastern Michigan University cut women's tennis and softball, but two students argued that doing so violated Title IX.#Women_sued#\n",
      "Eastern Michigan University cut women's tennis and softball, but a judge ruled that the school must reinstate both sports programs.#Judge_reinstate#Judge_reinstate\n",
      "Eastern Michigan University cut women's tennis and softball, but were not in compliance with Title IX in doing so.#EMU_viol_TitleIX#EMU_viol_TitleIX\n",
      "Eastern Michigan University cut women's tennis and softball, but a judge ruled that the school should reinstate both women's softball and tennis.#Judge_reinstate#Judge_reinstate\n",
      "Eastern Michigan University cut women's tennis and softball, but a judge ruled that the institution had to reinstate those programs.#Judge_reinstate#Judge_reinstate\n",
      "Eastern Michigan University cut women's tennis and softball, but men's sports were also cut.#Cuts_to_mens_sports#Cuts_to_mens_sports\n",
      "Eastern Michigan University cut women's tennis and softball, but was eventually forced to reverse its decision.#Teams_reinstated#Teams_reinstated\n",
      "Eastern Michigan University cut women's tennis and softball, but they also cut several men's sports.#Cuts_to_mens_sports#Cuts_to_mens_sports\n",
      "Eastern Michigan University cut women's tennis and softball, but they also cut some men's programs as well#Cuts_to_mens_sports#Cuts_to_mens_sports\n",
      "Eastern Michigan University cut women's tennis and softball, but cut the men's wrestling, men's swimming and diving teams as well.#Cuts_to_WSD,#Cuts_to_WSD,\n",
      "Eastern Michigan University cut women's tennis and softball, but argued that the cuts affected the men's teams more than the woman's#Affected_More_Men#Affected_More_Men\n",
      "Eastern Michigan University cut women's tennis and softball, but the judge ruled the school has to reinstate both tennis and softball.#Judge_reinstate#Judge_reinstate\n",
      "Eastern Michigan University cut women's tennis and softball, but also cut more men's sports teams as well.#Cuts_to_mens_sports#Affected_More_Men;Cuts_to_mens_sports\n",
      "Eastern Michigan University cut women's tennis and softball, but the two women filed a case title nine for no equal rights of both men and women.#Women_sued#Women_sued\n",
      "Eastern Michigan University cut women's tennis and softball, but were issued to reinstate women's tennis and softball after being ruled by a judge.#Judge_reinstate#Judge_reinstate\n",
      "Eastern Michigan University cut women's tennis and softball, but the teams were eventually reinstated because the university did not have enough female sports.#Miscellaneous;Teams_reinstated#Teams_reinstated\n",
      "Eastern Michigan University cut women's tennis and softball, but they allowed most of the men's teams to stay.#EMU_cut_less_men#EMU_cut_less_men\n",
      "Eastern Michigan University cut women's tennis and softball, but claimed this cut was only due to budget and did not violate Title IX.#EMU_compliant#\n",
      "Eastern Michigan University cut women's tennis and softball, but that was in violation of Title IX.#EMU_viol_TitleIX#EMU_viol_TitleIX\n",
      "Eastern Michigan University cut women's tennis and softball, but the school argued that the changes affected more men than women.#Affected_More_Men#Affected_More_Men\n",
      "Eastern Michigan University cut women's tennis and softball, but requires schools to give men and women equal chances to play sports.#Miscellaneous#Miscellaneous\n",
      "Eastern Michigan University cut women's tennis and softball, but one of the women's softball and tennis players sued them for violating title IX.#Women_sued#Women_sued\n",
      "Eastern Michigan University cut women's tennis and softball, but Ariana Chretien and Marie Mayerova reversed that by suing the school claiming they violated Title IX#Teams_reinstated;Women_sued#Women_sued\n",
      "Eastern Michigan University cut women's tennis and softball, but did not believe that they violated Title IX#EMU_compliant#\n",
      "Eastern Michigan University cut women's tennis and softball, but Chretien and Mayerova claimed that Eastern Michigan broke the Title IX law.#Women_sued#\n",
      "Eastern Michigan University cut women's tennis and softball, but insisted the cuts would impact men more than women.#Affected_More_Men#Affected_More_Men\n",
      "Eastern Michigan University cut women's tennis and softball, but they also cut two men's teams#Cuts_to_mens_sports#Cuts_to_mens_sports\n",
      "Eastern Michigan University cut women's tennis and softball, but was ordered to reinstate them afteer being sued.#Judge_reinstate;Women_sued#Women_sued\n",
      "Eastern Michigan University cut women's tennis and softball, but they also cut men's sports and more men lost their chance to play their sport than women.#Affected_More_Men;Cuts_to_mens_sports#Affected_More_Men;Cuts_to_mens_sports\n",
      "Eastern Michigan University cut women's tennis and softball, but one of the Womens softball team members and one Womens Tennis team member fought this by claiming Title IX violation#Women_sued#Women_sued\n",
      "Eastern Michigan University cut women's tennis and softball, but also cut other men's sports.#Cuts_to_mens_sports#Cuts_to_mens_sports\n",
      "Eastern Michigan University cut women's tennis and softball, but that was shown to be in violation of title IX.#EMU_viol_TitleIX#EMU_viol_TitleIX\n",
      "Eastern Michigan University cut women's tennis and softball, but since the school was out of compliance, they were forced to offer the sports again because they were not offering women enough opportunities to play sports.#Teams_reinstated;EMU_viol_TitleIX#Teams_reinstated;EMU_viol_TitleIX\n",
      "Eastern Michigan University cut women's tennis and softball, but one person refused to accept the decision#Fem_athletes_mad#Fem_athletes_mad\n",
      "Eastern Michigan University cut women's tennis and softball, but was later found to be in violation of Title IX.#EMU_viol_TitleIX#EMU_viol_TitleIX\n",
      "Eastern Michigan University cut women's tennis and softball, but some women student athletes refused to accept this solution to the school's financial troubles.#Miscellaneous;Fem_athletes_mad#Fem_athletes_mad\n",
      "Eastern Michigan University cut women's tennis and softball, but were latter sued for Title IX violations.#Women_sued#Women_sued\n",
      "Eastern Michigan University cut women's tennis and softball, but they also cut mens wrestling and swimming and diving.#Cuts_to_WSD,#Cuts_to_WSD,\n",
      "Eastern Michigan University cut women's tennis and softball, but this angered several of the school's female athletes.#Fem_athletes_mad#\n",
      "Eastern Michigan University cut women's tennis and softball, but also cut some mens sports teams as well.#Cuts_to_mens_sports#Cuts_to_mens_sports\n",
      "Eastern Michigan University cut women's tennis and softball, but didn't realize there would be harsh repercussions by doing so#Miscellaneous#Miscellaneous\n",
      "Eastern Michigan University cut women's tennis and softball, but also cut men's wresting and swimming and diving.#Cuts_to_WSD,#Cuts_to_WSD,\n",
      "Eastern Michigan University cut women's tennis and softball, but AND GIRLS#Miscellaneous#Did_not_cut_t_and_s\n",
      "Eastern Michigan University cut women's tennis and softball, but denied that it violated Title IX.#EMU_compliant#\n",
      "Eastern Michigan University cut women's tennis and softball, but also cut men's.#Cuts_to_mens_sports#Cuts_to_mens_sports\n",
      "Eastern Michigan University cut women's tennis and softball, but also cut the men's wrestling and the men's swimming and diving teams.#Cuts_to_WSD,#Cuts_to_WSD,\n",
      "Eastern Michigan University cut women's tennis and softball, but Chretien refused to accept that and joined forces with Marie Mayerova.#Fem_athletes_mad#\n",
      "Eastern Michigan University cut women's tennis and softball, but still violated Title IX.#EMU_viol_TitleIX#EMU_viol_TitleIX\n",
      "Eastern Michigan University cut women's tennis and softball, but it failed to realize that it made the situation worse for women when it comes to complying with Title IX.#Limit_woms_opps#Miscellaneous\n",
      "Eastern Michigan University cut women's tennis and softball, but also cut some of the mens sports as well#Cuts_to_mens_sports#Cuts_to_mens_sports\n",
      "Eastern Michigan University cut women's tennis and softball, but Cuts to the men’s teams would affect more men than women.#Affected_More_Men#Affected_More_Men\n",
      "Eastern Michigan University cut women's tennis and softball, but it also cut men's wrestling, men's swimming and diving.#Cuts_to_WSD,#Cuts_to_WSD,\n",
      "Eastern Michigan University cut women's tennis and softball, but they are looking for new game.#Miscellaneous#Miscellaneous\n",
      "Eastern Michigan University cut women's tennis and softball, but would have to choose between two of her passions--softball and aviation.#Miscellaneous#Miscellaneous\n",
      "Eastern Michigan University cut women's tennis and softball, but Ariana Chretien refused to accept the decision and instead sued the university for violating Title IX.#Women_sued#Women_sued\n",
      "Eastern Michigan University cut women's tennis and softball, but a couple student athletes claimed this wasn't fair.#Women_sued#\n",
      "Eastern Michigan University cut women's tennis and softball, but was forced to reinstate funding due to a lawsuit citing Title IX.#Teams_reinstated;Women_sued#Teams_reinstated\n",
      "Eastern Michigan University cut women's tennis and softball, but they should have just cut men's programs to balance the situation.#Miscellaneous#Miscellaneous\n",
      "Eastern Michigan University cut women's tennis and softball, but the students sued the school.#Women_sued#Women_sued\n",
      "Eastern Michigan University cut women's tennis and softball, but a court ruling forced them to reinstate them.#Teams_reinstated#Teams_reinstated\n",
      "Eastern Michigan University cut women's tennis and softball, but the men's tennis and softball teams were left untouched.#Did_not_cut_t_and_s#\n",
      "Eastern Michigan University cut women's tennis and softball, but this seemed to affect women athletes unfairly at that school.#Miscellaneous#Miscellaneous\n",
      "Eastern Michigan University cut women's tennis and softball, but didn't cut the men's tennis and softball programs.#Did_not_cut_t_and_s#Did_not_cut_t_and_s\n",
      "Eastern Michigan University cut women's tennis and softball, but also cut three men's programs as well.#Cuts_to_mens_sports#Cuts_to_mens_sports\n",
      "Eastern Michigan University cut women's tennis and softball, but also cut men’s wrestling and men’s swimming and diving.#Cuts_to_WSD,#Cuts_to_WSD,\n",
      "Eastern Michigan University cut women's tennis and softball, but they were later reinstated after two students sued the school for Title IX violations.#Teams_reinstated;Women_sued#Teams_reinstated;Women_sued\n",
      "Eastern Michigan University cut women's tennis and softball, but two students contested that decision.#Women_sued#Women_sued\n",
      "Eastern Michigan University cut women's tennis and softball, but a judge ruled that both sports should be reinstated#Judge_reinstate#Judge_reinstate\n",
      "Eastern Michigan University cut women's tennis and softball, but it was one of only a few options for woman to play in sports so was later reinstated.#Teams_reinstated#Teams_reinstated\n",
      "Eastern Michigan University cut women's tennis and softball, but removing women's opportunities in sports violated Title IX , which was put in place to ensure gender fairness in education.#Miscellaneous#EMU_viol_TitleIX\n",
      "Eastern Michigan University cut women's tennis and softball, but Ariana Chretien and Marie Mayerova sued the school, asserting that by cutting the programs, they were in violation of Title IX.#Women_sued#Women_sued\n",
      "Eastern Michigan University cut women's tennis and softball, but a judge ruled that they had violated Title IX by doing so.#Court_Decision#Court_Decision\n",
      "Eastern Michigan University cut women's tennis and softball, but it was an effort to save the school money.#Miscellaneous#Miscellaneous\n",
      "Eastern Michigan University cut women's tennis and softball, but eventually had to reinstate them because it violate Title IX#Teams_reinstated;EMU_viol_TitleIX#Teams_reinstated;EMU_viol_TitleIX\n",
      "Eastern Michigan University cut women's tennis and softball, but they ended up reinstating the sports because they were out of compliance with Title IX.#Teams_reinstated;EMU_viol_TitleIX#Teams_reinstated;EMU_viol_TitleIX\n",
      "Eastern Michigan University cut women's tennis and softball, but some female athletes felt this was a violation of Title 1X.#Fem_athletes_mad#\n",
      "Eastern Michigan University cut women's tennis and softball, but it was in violation of Title IX.#EMU_viol_TitleIX#EMU_viol_TitleIX\n",
      "Eastern Michigan University cut women's tennis and softball, but argued that the changes affected more men than women.#Affected_More_Men#Affected_More_Men\n",
      "Eastern Michigan University cut women's tennis and softball, but the cut showed that the schools didn't give enough attention to female sports.#Miscellaneous#\n",
      "Eastern Michigan University cut women's tennis and softball, but did not cut all of the men's sports only some of them in order to meet it's expenses.#Miscellaneous#EMU_cut_less_men\n",
      "Eastern Michigan University cut women's tennis and softball, but also cut men's wrestling and swimming and diving.#Cuts_to_WSD,#Cuts_to_WSD,\n",
      "Eastern Michigan University cut women's tennis and softball, but was ruled out of compliance with Title IX, because of the reduction of opportunities for women to be involved in athletics.#Court_Decision#EMU_viol_TitleIX\n",
      "Eastern Michigan University cut women's tennis and softball, but would not continue in fall.#Miscellaneous#Miscellaneous\n",
      "Eastern Michigan University cut women's tennis and softball, but they also cut men's wrestling and men's swimming.#Cuts_to_WSD,#Cuts_to_WSD,\n",
      "Eastern Michigan University cut women's tennis and softball, but kept many other clubs and sports including men even the non popular ones.#Miscellaneous#Kept_other_ones\n",
      "Eastern Michigan University cut women's tennis and softball, but also discontinued men's wrestling, swimming, and diving.#Cuts_to_WSD,#Cuts_to_WSD,\n",
      "Eastern Michigan University cut women's tennis and softball, but did not take into account the gab in numbers of already limited female sports players.#Miscellaneous#Miscellaneous\n",
      "Eastern Michigan University cut women's tennis and softball, but kept some mens sports.#Kept_other_ones#EMU_cut_less_men\n",
      "Eastern Michigan University cut women's tennis and softball, but forgot about Title 1X which Chretien and Marie took advantage of.#Miscellaneous#Miscellaneous\n",
      "Eastern Michigan University cut women's tennis and softball, but also cut men's swimming, diving and wrestling.#Cuts_to_WSD,#Cuts_to_WSD,\n",
      "Eastern Michigan University cut women's tennis and softball, but insists that it didn't violate Title IX.#EMU_compliant#\n",
      "Eastern Michigan University cut women's tennis and softball, but reinstated the sports after it was determined that doing so violated Title IX.#Court_Decision;Teams_reinstated#Teams_reinstated\n",
      "Eastern Michigan University cut women's tennis and softball, but also several men's sports.#Cuts_to_mens_sports#Cuts_to_mens_sports\n",
      "Eastern Michigan University cut women's tennis and softball, but one of their female softball player s and a female tennis player sued the University for violating their rights under Title IX.#Women_sued#Women_sued\n",
      "Eastern Michigan University cut women's tennis and softball, but they still have the drive to keep going.#Miscellaneous#Miscellaneous\n",
      "Eastern Michigan University cut women's tennis and softball, but they did keep men's tennis and baseball.#Did_not_cut_t_and_s#Did_not_cut_t_and_s\n",
      "Eastern Michigan University cut women's tennis and softball, but were sued by two women claiming the School had violated Title IX.#Women_sued#Women_sued\n",
      "Eastern Michigan University cut women's tennis and softball, but were sued for violating Title IX.#Women_sued#Women_sued\n",
      "Eastern Michigan University cut women's tennis and softball, but also cut two men's sports teams.#Cuts_to_mens_sports#Cuts_to_mens_sports\n",
      "Eastern Michigan University cut women's tennis and softball, but also men's wrestling, men's swimming and diving#Cuts_to_WSD,#Cuts_to_WSD,\n",
      "Eastern Michigan University cut women's tennis and softball, but it was a necessary choice given their lack of budget money.#Miscellaneous#Miscellaneous\n",
      "Eastern Michigan University cut women's tennis and softball, but also the mens wrestling and men and women's swimming and diving.#Cuts_to_WSD,#Cuts_to_WSD,\n",
      "Eastern Michigan University cut women's tennis and softball, but a judge ruled that the school had violated Title IX and the school would have to reinstate both women's softball and tennis.#Court_Decision;Judge_reinstate#Judge_reinstate\n",
      "Eastern Michigan University cut women's tennis and softball, but did not cut men's tennis or baseball.#Did_not_cut_t_and_s#Did_not_cut_t_and_s\n",
      "Eastern Michigan University cut women's tennis and softball, but that violated a law.#EMU_viol_TitleIX#EMU_viol_TitleIX\n",
      "Eastern Michigan University cut women's tennis and softball, but Eastern Michigan had violated Title IX#EMU_viol_TitleIX#EMU_viol_TitleIX\n",
      "Eastern Michigan University cut women's tennis and softball, but a judge ordered that they would have to reinstate them.#Judge_reinstate#Judge_reinstate\n",
      "Eastern Michigan University cut women's tennis and softball, but the court ruled it had violated Title IX.#Court_Decision#Court_Decision\n",
      "Eastern Michigan University cut women's tennis and softball, but were forced to reinstate them after a court ruling found them guilty of breaching Article IX.#Court_Decision;Teams_reinstated#Court_Decision;Teams_reinstated\n",
      "Eastern Michigan University cut women's tennis and softball, but they also cut the men’s wrestling, swimming and diving teams.#Cuts_to_WSD,#Cuts_to_WSD,\n",
      "Eastern Michigan University cut women's tennis and softball, but this affected the women's teams more.#Miscellaneous#Affected_More_Men\n",
      "Eastern Michigan University cut women's tennis and softball, but it saves money for the University.#Miscellaneous#Miscellaneous\n",
      "Eastern Michigan University cut women's tennis and softball, but the court ruled that it's against title IX#Court_Decision#Court_Decision\n",
      "Eastern Michigan University cut women's tennis and softball, but they didn't evenly make the same changes to the men's programs violating Title IX.#Did_not_cut_t_and_s;EMU_viol_TitleIX#EMU_viol_TitleIX\n",
      "Eastern Michigan University cut women's tennis and softball, but these were reinstated after a judge's ruling.#Teams_reinstated#Teams_reinstated\n",
      "Eastern Michigan University cut women's tennis and softball, but was forced to reinstate the activity.#Teams_reinstated#Teams_reinstated\n",
      "Eastern Michigan University cut women's tennis and softball, but violated Title IX#EMU_viol_TitleIX#EMU_viol_TitleIX\n",
      "Eastern Michigan University cut women's tennis and softball, but did not realize their would be lash back from the women athletes.#Miscellaneous#Miscellaneous\n",
      "Eastern Michigan University cut women's tennis and softball, but had to re-instate them after violating Title IX.#Teams_reinstated;EMU_viol_TitleIX#Teams_reinstated\n",
      "Eastern Michigan University cut women's tennis and softball, but also cut the men's swimming, wrestling, and diving teams.#Cuts_to_WSD,#Cuts_to_WSD,\n",
      "Eastern Michigan University cut women's tennis and softball, but the overall changes affected more men than women in actuality.#Affected_More_Men#Affected_More_Men\n",
      "Eastern Michigan University cut women's tennis and softball, but there were more teams that were affected by the cut, including two additional teams at the university.#Cuts_to_mens_sports#Affected_More_Men\n",
      "Eastern Michigan University cut women's tennis and softball, but not the men's programs.#Did_not_cut_t_and_s#Miscellaneous\n",
      "Eastern Michigan University cut women's tennis and softball, but keep other sports programs.#Kept_other_ones#Kept_other_ones\n",
      "Eastern Michigan University cut women's tennis and softball, but men's wrestling, men's swimming and diving, would not continue in the fall.#Cuts_to_WSD,#Miscellaneous\n",
      "Eastern Michigan University cut women's tennis and softball, but this further limited female students' access to sports.#Limit_woms_opps#\n",
      "Eastern Michigan University cut women's tennis and softball, but they were sued for allegedly violating Title IX.#Women_sued#Women_sued\n",
      "Eastern Michigan University cut women's tennis and softball, but it claimed not to be in violation of Title IX.#EMU_compliant#EMU_viol_TitleIX\n",
      "Eastern Michigan University cut women's tennis and softball, but were forced to reinstate them after losing a court case.#Teams_reinstated#Teams_reinstated\n",
      "Eastern Michigan University cut women's tennis and softball, but had to later reinstate them after the court's decision#Teams_reinstated#Teams_reinstated\n",
      "Eastern Michigan University cut women's tennis and softball, but athletes fought and won their case to have it reinstated.#Teams_reinstated;Women_sued#Teams_reinstated;Women_sued\n",
      "Eastern Michigan University cut women's tennis and softball, but kept aviation major.#Miscellaneous#Miscellaneous\n",
      "Eastern Michigan University cut women's tennis and softball, but not the mens tennis or baseball.#Did_not_cut_t_and_s#Did_not_cut_t_and_s\n",
      "Women_sued 0.94 0.8785046728971962 0.9082125603864735 107\n",
      "Miscellaneous 0.7777777777777778 0.6209677419354839 0.6905829596412556 124\n",
      "Cuts_to_mens_sports 0.9387755102040817 0.9583333333333334 0.9484536082474228 48\n",
      "Cuts_to_WSD, 0.9782608695652174 0.9782608695652174 0.9782608695652174 92\n",
      "Teams_reinstated 0.9316239316239316 0.9396551724137931 0.9356223175965666 116\n",
      "Affected_More_Men 0.8048780487804879 0.7857142857142857 0.7951807228915663 42\n",
      "EMU_viol_TitleIX 0.9090909090909091 0.8928571428571429 0.9009009009009009 56\n",
      "EMU_cut_less_men 0.5 0.29411764705882354 0.37037037037037035 17\n",
      "Kept_other_ones 0.2222222222222222 0.1 0.13793103448275865 20\n",
      "Court_Decision 0.8823529411764706 0.6122448979591837 0.7228915662650602 49\n",
      "Cuts_to_WSD 0 0.0 0 1\n",
      "Did_not_cut_t_and_s 0.9130434782608695 0.7 0.7924528301886793 30\n",
      "Judge_reinstate 0.9117647058823529 0.6888888888888889 0.7848101265822784 45\n",
      "Fem_athletes_mad 0.8571428571428571 0.2727272727272727 0.41379310344827586 22\n",
      "EMU_compliant 1.0 0.26666666666666666 0.4210526315789474 15\n",
      "Limit_woms_opps 1.0 0.11764705882352941 0.21052631578947367 17\n"
     ]
    }
   ],
   "source": [
    "scores = {}\n",
    "for item, predicted, correct in zip(all_test_data, all_predicted, all_correct):\n",
    "    correct_labels = [idx2label[i] for i, l in enumerate(correct) if l == 1]\n",
    "    predicted_labels = [idx2label[i] for i, l in enumerate(predicted) if l == 1]\n",
    "    print(\"{}#{}#{}\".format(item.text, \";\".join(correct_labels), \";\".join(predicted_labels)))    \n",
    "        \n",
    "    for label in predicted_labels + correct_labels:\n",
    "        if label not in scores:\n",
    "            scores[label] = {\"tp\": 0, \"fp\": 0, \"fn\": 0, \"support\": 0}\n",
    "    \n",
    "    for label in predicted_labels:\n",
    "        if label in correct_labels:\n",
    "            scores[label][\"tp\"] += 1\n",
    "        else:\n",
    "            scores[label][\"fp\"] += 1\n",
    "\n",
    "    for label in correct_labels:\n",
    "        scores[label][\"support\"] += 1\n",
    "        if label not in predicted_labels:\n",
    "            scores[label][\"fn\"] += 1\n",
    "            \n",
    "for label in scores:\n",
    "    lp = scores[label][\"tp\"] / (scores[label][\"tp\"] + scores[label][\"fp\"]) if scores[label][\"tp\"] + scores[label][\"fp\"] > 0 else 0\n",
    "    lr = scores[label][\"tp\"] / (scores[label][\"tp\"] + scores[label][\"fn\"]) if scores[label][\"tp\"] + scores[label][\"fn\"] > 0 else 0\n",
    "    lf = 2*lp*lr/(lp+lr) if lp+lr > 0 else 0\n",
    "    \n",
    "    print(label, lp, lr, lf, scores[label][\"support\"])"
   ]
  },
  {
   "cell_type": "code",
   "execution_count": 8,
   "metadata": {},
   "outputs": [
    {
     "name": "stdout",
     "output_type": "stream",
     "text": [
      "84 / 692\n"
     ]
    }
   ],
   "source": [
    "print(len([p for p in all_predicted if sum(p) == 0]), \"/\", len(all_predicted))"
   ]
  },
  {
   "cell_type": "code",
   "execution_count": null,
   "metadata": {},
   "outputs": [],
   "source": []
  }
 ],
 "metadata": {
  "kernelspec": {
   "display_name": "Python 3",
   "language": "python",
   "name": "python3"
  },
  "language_info": {
   "codemirror_mode": {
    "name": "ipython",
    "version": 3
   },
   "file_extension": ".py",
   "mimetype": "text/x-python",
   "name": "python",
   "nbconvert_exporter": "python",
   "pygments_lexer": "ipython3",
   "version": "3.7.3"
  }
 },
 "nbformat": 4,
 "nbformat_minor": 2
}
