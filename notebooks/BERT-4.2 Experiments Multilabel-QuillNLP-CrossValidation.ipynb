{
 "cells": [
  {
   "cell_type": "markdown",
   "metadata": {},
   "source": [
    "# Multilabel BERT Experiments\n",
    "\n",
    "In this notebook we do some first experiments with BERT: we finetune a BERT model+classifier on each of our datasets separately and compute the accuracy of the resulting classifier on the test data."
   ]
  },
  {
   "cell_type": "markdown",
   "metadata": {},
   "source": [
    "For these experiments we use the `pytorch_transformers` package. It contains a variety of neural network architectures for transfer learning and pretrained models, including BERT and XLNET.\n",
    "\n",
    "Two different BERT models are relevant for our experiments: \n",
    "\n",
    "- BERT-base-uncased: a relatively small BERT model that should already give reasonable results,\n",
    "- BERT-large-uncased: a larger model for real state-of-the-art results."
   ]
  },
  {
   "cell_type": "code",
   "execution_count": 1,
   "metadata": {},
   "outputs": [],
   "source": [
    "PREFIX = \"voting_but\" #\"voting_so_automl\"\n",
    "BERT_MODEL = 'bert-base-uncased'\n",
    "BATCH_SIZE = 16 if \"base\" in BERT_MODEL else 2\n",
    "GRADIENT_ACCUMULATION_STEPS = 1 if \"base\" in BERT_MODEL else 8\n",
    "MAX_SEQ_LENGTH = 100"
   ]
  },
  {
   "cell_type": "markdown",
   "metadata": {},
   "source": [
    "## Data\n",
    "\n",
    "We use the same data as for all our previous experiments. Here we load the training, development and test data for a particular prompt."
   ]
  },
  {
   "cell_type": "code",
   "execution_count": 2,
   "metadata": {},
   "outputs": [
    {
     "name": "stderr",
     "output_type": "stream",
     "text": [
      "I0327 11:00:27.577577 139890200905536 file_utils.py:41] PyTorch version 1.2.0+cu92 available.\n",
      "I0327 11:00:28.652792 139890200905536 file_utils.py:57] TensorFlow version 2.1.0 available.\n",
      "I0327 11:00:29.296913 139890200905536 tokenization_utils.py:501] loading file https://s3.amazonaws.com/models.huggingface.co/bert/bert-base-uncased-vocab.txt from cache at /home/yves/.cache/torch/transformers/26bc1ad6c0ac742e9b52263248f6d0f00068293b33709fae12320c0e35ccfbbb.542ce4285a40d23a559526243235df47c5f75c197f04f37d1a0c124c32c9a084\n"
     ]
    },
    {
     "name": "stdout",
     "output_type": "stream",
     "text": [
      "Counter({'Personal Opinion to Fact': 557, \"Outside of Article's Scope\": 74, 'Governments Can Abuse It/Dictatorships': 52, 'Unintelligible Response': 25, 'Negative Effects on Voter': 20, 'Misuse of Conjunction': 16, 'Answered Wrong Stem': 15, 'Violation of Personal Liberty': 14, 'Reference': 14, 'Plagiarism': 13, 'Not All Governments Enforce It': 10, 'North Korea/Dictatorships': 10, 'Consequences/Bolivia': 10, 'Clarify/Identify/Specify': 10, 'Evidences Needs More Context': 10})\n"
     ]
    }
   ],
   "source": [
    "import sys\n",
    "sys.path.append('../')\n",
    "\n",
    "import ndjson\n",
    "import glob\n",
    "import numpy as np\n",
    "from collections import Counter\n",
    "\n",
    "from quillnlp.models.bert.preprocessing import preprocess, create_label_vocabulary\n",
    "\n",
    "data_file = f\"../data/interim/{PREFIX}_withprompt.ndjson\"\n",
    "\n",
    "with open(data_file) as i:\n",
    "    data = ndjson.load(i)\n",
    "    \n",
    "label2idx = create_label_vocabulary(data)\n",
    "idx2label = {v:k for k,v in label2idx.items()}\n",
    "target_names = [idx2label[s] for s in range(len(idx2label))]\n",
    "\n",
    "data_items = preprocess(data, BERT_MODEL, label2idx, MAX_SEQ_LENGTH)\n",
    "data_items = np.array(data_items)\n",
    "    \n",
    "labels = Counter()\n",
    "for item in data:\n",
    "    labels.update(item[\"label\"])\n",
    "print(labels)"
   ]
  },
  {
   "cell_type": "markdown",
   "metadata": {},
   "source": [
    "Read synthetic data, when available."
   ]
  },
  {
   "cell_type": "code",
   "execution_count": 3,
   "metadata": {},
   "outputs": [
    {
     "name": "stderr",
     "output_type": "stream",
     "text": [
      "I0327 11:00:29.973740 139890200905536 tokenization_utils.py:501] loading file https://s3.amazonaws.com/models.huggingface.co/bert/bert-base-uncased-vocab.txt from cache at /home/yves/.cache/torch/transformers/26bc1ad6c0ac742e9b52263248f6d0f00068293b33709fae12320c0e35ccfbbb.542ce4285a40d23a559526243235df47c5f75c197f04f37d1a0c124c32c9a084\n"
     ]
    }
   ],
   "source": [
    "from collections import defaultdict\n",
    "\n",
    "synth_files = glob.glob(f\"../data/interim/{PREFIX}_withprompt_*.ndjson\")\n",
    "\n",
    "synth_data = []\n",
    "for synth_file in synth_files:\n",
    "    with open(synth_file) as i:\n",
    "        synth_data.extend(ndjson.load(i))\n",
    "\n",
    "preprocessed_synth_data = preprocess(synth_data, BERT_MODEL, label2idx, MAX_SEQ_LENGTH)\n",
    "        \n",
    "synth_map = defaultdict(list)\n",
    "for item, preprocessed_item in zip(synth_data, preprocessed_synth_data):\n",
    "    synth_map[item[\"source_text\"]].append(preprocessed_item)\n",
    "\n",
    "synth_map = {}"
   ]
  },
  {
   "cell_type": "markdown",
   "metadata": {},
   "source": [
    "## Model\n",
    "\n",
    "We load the pretrained model and put it on a GPU if one is available. We also put the model in \"training\" mode, so that we can correctly update its internal parameters on the basis of our data sets."
   ]
  },
  {
   "cell_type": "code",
   "execution_count": 4,
   "metadata": {},
   "outputs": [],
   "source": [
    "def evaluate_output(all_correct, all_predicted):\n",
    "    correct = 0\n",
    "    at_least_one = 0\n",
    "    fp, fn, tp, tn = 0, 0, 0, 0\n",
    "    for c, p in zip(all_correct, all_predicted):\n",
    "        if sum(c == p) == len(c):\n",
    "            correct +=1\n",
    "\n",
    "        for ci, pi in zip(c, p):\n",
    "            if pi == 1 and ci == 1:\n",
    "                at_least_one += 1\n",
    "                break\n",
    "\n",
    "        for ci, pi in zip(c, p):\n",
    "            if pi == 1 and ci == 1:\n",
    "                tp += 1\n",
    "                same = 1\n",
    "            elif pi == 1 and ci == 0:\n",
    "                fp += 1\n",
    "            elif pi == 0 and ci == 1:\n",
    "                fn += 1\n",
    "            else:\n",
    "                tn += 1\n",
    "                same =1\n",
    "\n",
    "    precision = tp/(tp+fp)\n",
    "    recall = tp/(tp+fn)\n",
    "    print(\"Data size:\", len(all_predicted))\n",
    "    print(\"P:\", tp, \"/\", tp+fp, \"=\", precision)\n",
    "    print(\"R:\", tp, \"/\", tp+fn, \"=\", recall)\n",
    "    print(\"F:\", 2*precision*recall/(precision+recall))\n",
    "    print(\"A:\", correct/len(all_correct))\n",
    "    print(\"AL1:\", at_least_one/len(all_correct))"
   ]
  },
  {
   "cell_type": "code",
   "execution_count": 5,
   "metadata": {},
   "outputs": [
    {
     "name": "stdout",
     "output_type": "stream",
     "text": [
      "Train size: 543\n",
      "Final train dataloader length: 34\n"
     ]
    },
    {
     "name": "stderr",
     "output_type": "stream",
     "text": [
      "I0327 11:00:30.517525 139890200905536 configuration_utils.py:256] loading configuration file https://s3.amazonaws.com/models.huggingface.co/bert/bert-base-uncased-config.json from cache at /home/yves/.cache/torch/transformers/4dad0251492946e18ac39290fcfe91b89d370fee250efe9521476438fe8ca185.8f56353af4a709bf5ff0fbc915d8f5b42bfff892cbb6ac98c3c45f481a03c685\n",
      "I0327 11:00:30.519131 139890200905536 configuration_utils.py:292] Model config BertConfig {\n",
      "  \"architectures\": [\n",
      "    \"BertForMaskedLM\"\n",
      "  ],\n",
      "  \"attention_probs_dropout_prob\": 0.1,\n",
      "  \"bos_token_id\": null,\n",
      "  \"do_sample\": false,\n",
      "  \"eos_token_ids\": null,\n",
      "  \"finetuning_task\": null,\n",
      "  \"hidden_act\": \"gelu\",\n",
      "  \"hidden_dropout_prob\": 0.1,\n",
      "  \"hidden_size\": 768,\n",
      "  \"id2label\": {\n",
      "    \"0\": \"LABEL_0\",\n",
      "    \"1\": \"LABEL_1\"\n",
      "  },\n",
      "  \"initializer_range\": 0.02,\n",
      "  \"intermediate_size\": 3072,\n",
      "  \"is_decoder\": false,\n",
      "  \"label2id\": {\n",
      "    \"LABEL_0\": 0,\n",
      "    \"LABEL_1\": 1\n",
      "  },\n",
      "  \"layer_norm_eps\": 1e-12,\n",
      "  \"length_penalty\": 1.0,\n",
      "  \"max_length\": 20,\n",
      "  \"max_position_embeddings\": 512,\n",
      "  \"model_type\": \"bert\",\n",
      "  \"num_attention_heads\": 12,\n",
      "  \"num_beams\": 1,\n",
      "  \"num_hidden_layers\": 12,\n",
      "  \"num_labels\": 15,\n",
      "  \"num_return_sequences\": 1,\n",
      "  \"output_attentions\": false,\n",
      "  \"output_hidden_states\": false,\n",
      "  \"output_past\": true,\n",
      "  \"pad_token_id\": null,\n",
      "  \"pruned_heads\": {},\n",
      "  \"repetition_penalty\": 1.0,\n",
      "  \"temperature\": 1.0,\n",
      "  \"top_k\": 50,\n",
      "  \"top_p\": 1.0,\n",
      "  \"torchscript\": false,\n",
      "  \"type_vocab_size\": 2,\n",
      "  \"use_bfloat16\": false,\n",
      "  \"vocab_size\": 30522\n",
      "}\n",
      "\n",
      "I0327 11:00:30.970261 139890200905536 modeling_utils.py:461] loading weights file https://s3.amazonaws.com/models.huggingface.co/bert/bert-base-uncased-pytorch_model.bin from cache at /home/yves/.cache/torch/transformers/aa1ef1aede4482d0dbcd4d52baad8ae300e60902e88fcb0bebdec09afd232066.36ca03ab34a1a5d5fa7bc3d03d55c4fa650fed07220e2eeebc06ce58d0e9a157\n",
      "I0327 11:00:32.722504 139890200905536 modeling_utils.py:546] Weights of BertForMultiLabelSequenceClassification not initialized from pretrained model: ['classifier.weight', 'classifier.bias']\n",
      "I0327 11:00:32.723475 139890200905536 modeling_utils.py:552] Weights from pretrained model not used in BertForMultiLabelSequenceClassification: ['cls.predictions.bias', 'cls.predictions.transform.dense.weight', 'cls.predictions.transform.dense.bias', 'cls.predictions.decoder.weight', 'cls.seq_relationship.weight', 'cls.seq_relationship.bias', 'cls.predictions.transform.LayerNorm.weight', 'cls.predictions.transform.LayerNorm.bias']\n",
      "Epoch:   0%|          | 0/20 [00:00<?, ?it/s]"
     ]
    },
    {
     "data": {
      "application/vnd.jupyter.widget-view+json": {
       "model_id": "99c380b74e2e4bd48c412609e5b55d44",
       "version_major": 2,
       "version_minor": 0
      },
      "text/plain": [
       "HBox(children=(IntProgress(value=0, description='Training iteration', max=34, style=ProgressStyle(description_…"
      ]
     },
     "metadata": {},
     "output_type": "display_data"
    },
    {
     "name": "stdout",
     "output_type": "stream",
     "text": [
      "\n"
     ]
    },
    {
     "data": {
      "application/vnd.jupyter.widget-view+json": {
       "model_id": "77a5b42cca024414a8e34d829682713c",
       "version_major": 2,
       "version_minor": 0
      },
      "text/plain": [
       "HBox(children=(IntProgress(value=0, description='Evaluation iteration', max=7, style=ProgressStyle(description…"
      ]
     },
     "metadata": {},
     "output_type": "display_data"
    },
    {
     "name": "stdout",
     "output_type": "stream",
     "text": [
      "\n",
      "Loss history: []\n",
      "Dev loss: 0.42688906618527006\n"
     ]
    },
    {
     "name": "stderr",
     "output_type": "stream",
     "text": [
      "\r",
      "Epoch:   5%|▌         | 1/20 [00:08<02:32,  8.01s/it]"
     ]
    },
    {
     "data": {
      "application/vnd.jupyter.widget-view+json": {
       "model_id": "b2db73b91716478c8e293ad7e8e2299b",
       "version_major": 2,
       "version_minor": 0
      },
      "text/plain": [
       "HBox(children=(IntProgress(value=0, description='Training iteration', max=34, style=ProgressStyle(description_…"
      ]
     },
     "metadata": {},
     "output_type": "display_data"
    },
    {
     "name": "stdout",
     "output_type": "stream",
     "text": [
      "\n"
     ]
    },
    {
     "data": {
      "application/vnd.jupyter.widget-view+json": {
       "model_id": "547f151f27254e87be1eb9bb66d5f641",
       "version_major": 2,
       "version_minor": 0
      },
      "text/plain": [
       "HBox(children=(IntProgress(value=0, description='Evaluation iteration', max=7, style=ProgressStyle(description…"
      ]
     },
     "metadata": {},
     "output_type": "display_data"
    },
    {
     "name": "stdout",
     "output_type": "stream",
     "text": [
      "\n",
      "Loss history: [0.42688906618527006]\n",
      "Dev loss: 0.19715909659862518\n"
     ]
    },
    {
     "name": "stderr",
     "output_type": "stream",
     "text": [
      "\r",
      "Epoch:  10%|█         | 2/20 [00:16<02:24,  8.01s/it]"
     ]
    },
    {
     "data": {
      "application/vnd.jupyter.widget-view+json": {
       "model_id": "093f1390e1be4aed8d8581eb865414cf",
       "version_major": 2,
       "version_minor": 0
      },
      "text/plain": [
       "HBox(children=(IntProgress(value=0, description='Training iteration', max=34, style=ProgressStyle(description_…"
      ]
     },
     "metadata": {},
     "output_type": "display_data"
    },
    {
     "name": "stdout",
     "output_type": "stream",
     "text": [
      "\n"
     ]
    },
    {
     "data": {
      "application/vnd.jupyter.widget-view+json": {
       "model_id": "f9a832cca7834d95bc346b5b7ff38b2a",
       "version_major": 2,
       "version_minor": 0
      },
      "text/plain": [
       "HBox(children=(IntProgress(value=0, description='Evaluation iteration', max=7, style=ProgressStyle(description…"
      ]
     },
     "metadata": {},
     "output_type": "display_data"
    },
    {
     "name": "stdout",
     "output_type": "stream",
     "text": [
      "\n",
      "Loss history: [0.42688906618527006, 0.19715909659862518]\n",
      "Dev loss: 0.1601696056979043\n"
     ]
    },
    {
     "name": "stderr",
     "output_type": "stream",
     "text": [
      "\r",
      "Epoch:  15%|█▌        | 3/20 [00:24<02:16,  8.01s/it]"
     ]
    },
    {
     "data": {
      "application/vnd.jupyter.widget-view+json": {
       "model_id": "2e7dea4e196d4e4e8974cc3b472e3355",
       "version_major": 2,
       "version_minor": 0
      },
      "text/plain": [
       "HBox(children=(IntProgress(value=0, description='Training iteration', max=34, style=ProgressStyle(description_…"
      ]
     },
     "metadata": {},
     "output_type": "display_data"
    },
    {
     "name": "stdout",
     "output_type": "stream",
     "text": [
      "\n"
     ]
    },
    {
     "data": {
      "application/vnd.jupyter.widget-view+json": {
       "model_id": "e0e81635d501409c88a2fe66119f3b00",
       "version_major": 2,
       "version_minor": 0
      },
      "text/plain": [
       "HBox(children=(IntProgress(value=0, description='Evaluation iteration', max=7, style=ProgressStyle(description…"
      ]
     },
     "metadata": {},
     "output_type": "display_data"
    },
    {
     "name": "stdout",
     "output_type": "stream",
     "text": [
      "\n",
      "Loss history: [0.42688906618527006, 0.19715909659862518, 0.1601696056979043]\n",
      "Dev loss: 0.1520670045699392\n"
     ]
    },
    {
     "name": "stderr",
     "output_type": "stream",
     "text": [
      "\r",
      "Epoch:  20%|██        | 4/20 [00:32<02:08,  8.01s/it]"
     ]
    },
    {
     "data": {
      "application/vnd.jupyter.widget-view+json": {
       "model_id": "942f2f9beffc4caba887a2d88985db8e",
       "version_major": 2,
       "version_minor": 0
      },
      "text/plain": [
       "HBox(children=(IntProgress(value=0, description='Training iteration', max=34, style=ProgressStyle(description_…"
      ]
     },
     "metadata": {},
     "output_type": "display_data"
    },
    {
     "name": "stdout",
     "output_type": "stream",
     "text": [
      "\n"
     ]
    },
    {
     "data": {
      "application/vnd.jupyter.widget-view+json": {
       "model_id": "cd9a657c874b4b08a05f4e9ec946d93c",
       "version_major": 2,
       "version_minor": 0
      },
      "text/plain": [
       "HBox(children=(IntProgress(value=0, description='Evaluation iteration', max=7, style=ProgressStyle(description…"
      ]
     },
     "metadata": {},
     "output_type": "display_data"
    },
    {
     "name": "stdout",
     "output_type": "stream",
     "text": [
      "\n",
      "Loss history: [0.42688906618527006, 0.19715909659862518, 0.1601696056979043, 0.1520670045699392]\n",
      "Dev loss: 0.14809912230287278\n"
     ]
    },
    {
     "name": "stderr",
     "output_type": "stream",
     "text": [
      "\r",
      "Epoch:  25%|██▌       | 5/20 [00:40<02:00,  8.01s/it]"
     ]
    },
    {
     "data": {
      "application/vnd.jupyter.widget-view+json": {
       "model_id": "d2dbe7ed4e124978b884ff5b0957b545",
       "version_major": 2,
       "version_minor": 0
      },
      "text/plain": [
       "HBox(children=(IntProgress(value=0, description='Training iteration', max=34, style=ProgressStyle(description_…"
      ]
     },
     "metadata": {},
     "output_type": "display_data"
    },
    {
     "name": "stdout",
     "output_type": "stream",
     "text": [
      "\n"
     ]
    },
    {
     "data": {
      "application/vnd.jupyter.widget-view+json": {
       "model_id": "42ca62ff5ba04b4cbbd24d38c7b9fac2",
       "version_major": 2,
       "version_minor": 0
      },
      "text/plain": [
       "HBox(children=(IntProgress(value=0, description='Evaluation iteration', max=7, style=ProgressStyle(description…"
      ]
     },
     "metadata": {},
     "output_type": "display_data"
    },
    {
     "name": "stdout",
     "output_type": "stream",
     "text": [
      "\n",
      "Loss history: [0.42688906618527006, 0.19715909659862518, 0.1601696056979043, 0.1520670045699392, 0.14809912230287278]\n",
      "Dev loss: 0.14403331599065236\n"
     ]
    },
    {
     "name": "stderr",
     "output_type": "stream",
     "text": [
      "\r",
      "Epoch:  30%|███       | 6/20 [00:48<01:52,  8.01s/it]"
     ]
    },
    {
     "data": {
      "application/vnd.jupyter.widget-view+json": {
       "model_id": "a9da4871f0bf4e90982c362e581ffc1f",
       "version_major": 2,
       "version_minor": 0
      },
      "text/plain": [
       "HBox(children=(IntProgress(value=0, description='Training iteration', max=34, style=ProgressStyle(description_…"
      ]
     },
     "metadata": {},
     "output_type": "display_data"
    },
    {
     "name": "stdout",
     "output_type": "stream",
     "text": [
      "\n"
     ]
    },
    {
     "data": {
      "application/vnd.jupyter.widget-view+json": {
       "model_id": "a05495ec1fd64a26b859b5440cc35e40",
       "version_major": 2,
       "version_minor": 0
      },
      "text/plain": [
       "HBox(children=(IntProgress(value=0, description='Evaluation iteration', max=7, style=ProgressStyle(description…"
      ]
     },
     "metadata": {},
     "output_type": "display_data"
    },
    {
     "name": "stderr",
     "output_type": "stream",
     "text": [
      "\r",
      "Epoch:  35%|███▌      | 7/20 [00:55<01:42,  7.87s/it]"
     ]
    },
    {
     "name": "stdout",
     "output_type": "stream",
     "text": [
      "\n",
      "Loss history: [0.42688906618527006, 0.19715909659862518, 0.1601696056979043, 0.1520670045699392, 0.14809912230287278, 0.14403331599065236]\n",
      "Dev loss: 0.1478635881628309\n"
     ]
    },
    {
     "data": {
      "application/vnd.jupyter.widget-view+json": {
       "model_id": "36d59bb5d085401aa254fd262452e394",
       "version_major": 2,
       "version_minor": 0
      },
      "text/plain": [
       "HBox(children=(IntProgress(value=0, description='Training iteration', max=34, style=ProgressStyle(description_…"
      ]
     },
     "metadata": {},
     "output_type": "display_data"
    },
    {
     "name": "stdout",
     "output_type": "stream",
     "text": [
      "\n"
     ]
    },
    {
     "data": {
      "application/vnd.jupyter.widget-view+json": {
       "model_id": "6bcfb79fcabe43f4908a6cf3ab29b670",
       "version_major": 2,
       "version_minor": 0
      },
      "text/plain": [
       "HBox(children=(IntProgress(value=0, description='Evaluation iteration', max=7, style=ProgressStyle(description…"
      ]
     },
     "metadata": {},
     "output_type": "display_data"
    },
    {
     "name": "stdout",
     "output_type": "stream",
     "text": [
      "\n",
      "Loss history: [0.42688906618527006, 0.19715909659862518, 0.1601696056979043, 0.1520670045699392, 0.14809912230287278, 0.14403331599065236, 0.1478635881628309]\n",
      "Dev loss: 0.14324085520846502\n"
     ]
    },
    {
     "name": "stderr",
     "output_type": "stream",
     "text": [
      "\r",
      "Epoch:  40%|████      | 8/20 [01:03<01:35,  7.92s/it]"
     ]
    },
    {
     "data": {
      "application/vnd.jupyter.widget-view+json": {
       "model_id": "6779c3e1637142428bf48c4ee4d4cbf1",
       "version_major": 2,
       "version_minor": 0
      },
      "text/plain": [
       "HBox(children=(IntProgress(value=0, description='Training iteration', max=34, style=ProgressStyle(description_…"
      ]
     },
     "metadata": {},
     "output_type": "display_data"
    },
    {
     "name": "stdout",
     "output_type": "stream",
     "text": [
      "\n"
     ]
    },
    {
     "data": {
      "application/vnd.jupyter.widget-view+json": {
       "model_id": "d47f7f633ec2441590bad4672c20f10e",
       "version_major": 2,
       "version_minor": 0
      },
      "text/plain": [
       "HBox(children=(IntProgress(value=0, description='Evaluation iteration', max=7, style=ProgressStyle(description…"
      ]
     },
     "metadata": {},
     "output_type": "display_data"
    },
    {
     "name": "stderr",
     "output_type": "stream",
     "text": [
      "\r",
      "Epoch:  45%|████▌     | 9/20 [01:11<01:25,  7.81s/it]"
     ]
    },
    {
     "name": "stdout",
     "output_type": "stream",
     "text": [
      "\n",
      "Loss history: [0.42688906618527006, 0.19715909659862518, 0.1601696056979043, 0.1520670045699392, 0.14809912230287278, 0.14403331599065236, 0.1478635881628309, 0.14324085520846502]\n",
      "Dev loss: 0.14619215045656478\n"
     ]
    },
    {
     "data": {
      "application/vnd.jupyter.widget-view+json": {
       "model_id": "46cb7d3d1844403ebd8e3dea2eb256ec",
       "version_major": 2,
       "version_minor": 0
      },
      "text/plain": [
       "HBox(children=(IntProgress(value=0, description='Training iteration', max=34, style=ProgressStyle(description_…"
      ]
     },
     "metadata": {},
     "output_type": "display_data"
    },
    {
     "name": "stdout",
     "output_type": "stream",
     "text": [
      "\n"
     ]
    },
    {
     "data": {
      "application/vnd.jupyter.widget-view+json": {
       "model_id": "cd1468976b9e4b018e2bc0a351ae2d5c",
       "version_major": 2,
       "version_minor": 0
      },
      "text/plain": [
       "HBox(children=(IntProgress(value=0, description='Evaluation iteration', max=7, style=ProgressStyle(description…"
      ]
     },
     "metadata": {},
     "output_type": "display_data"
    },
    {
     "name": "stderr",
     "output_type": "stream",
     "text": [
      "\r",
      "Epoch:  50%|█████     | 10/20 [01:18<01:17,  7.74s/it]"
     ]
    },
    {
     "name": "stdout",
     "output_type": "stream",
     "text": [
      "\n",
      "Loss history: [0.42688906618527006, 0.19715909659862518, 0.1601696056979043, 0.1520670045699392, 0.14809912230287278, 0.14403331599065236, 0.1478635881628309, 0.14324085520846502, 0.14619215045656478]\n",
      "Dev loss: 0.14459493649857386\n"
     ]
    },
    {
     "data": {
      "application/vnd.jupyter.widget-view+json": {
       "model_id": "28d9d081ce8648f2bdae35c21d567fea",
       "version_major": 2,
       "version_minor": 0
      },
      "text/plain": [
       "HBox(children=(IntProgress(value=0, description='Training iteration', max=34, style=ProgressStyle(description_…"
      ]
     },
     "metadata": {},
     "output_type": "display_data"
    },
    {
     "name": "stdout",
     "output_type": "stream",
     "text": [
      "\n"
     ]
    },
    {
     "data": {
      "application/vnd.jupyter.widget-view+json": {
       "model_id": "40ae857601054c189efbdca9b675f051",
       "version_major": 2,
       "version_minor": 0
      },
      "text/plain": [
       "HBox(children=(IntProgress(value=0, description='Evaluation iteration', max=7, style=ProgressStyle(description…"
      ]
     },
     "metadata": {},
     "output_type": "display_data"
    },
    {
     "name": "stderr",
     "output_type": "stream",
     "text": [
      "\r",
      "Epoch:  55%|█████▌    | 11/20 [01:26<01:09,  7.69s/it]"
     ]
    },
    {
     "name": "stdout",
     "output_type": "stream",
     "text": [
      "\n",
      "Loss history: [0.42688906618527006, 0.19715909659862518, 0.1601696056979043, 0.1520670045699392, 0.14809912230287278, 0.14403331599065236, 0.1478635881628309, 0.14324085520846502, 0.14619215045656478, 0.14459493649857386]\n",
      "Dev loss: 0.14370769475187575\n"
     ]
    },
    {
     "data": {
      "application/vnd.jupyter.widget-view+json": {
       "model_id": "c780d813c7b446d2b4bc9cb940c90103",
       "version_major": 2,
       "version_minor": 0
      },
      "text/plain": [
       "HBox(children=(IntProgress(value=0, description='Training iteration', max=34, style=ProgressStyle(description_…"
      ]
     },
     "metadata": {},
     "output_type": "display_data"
    },
    {
     "name": "stdout",
     "output_type": "stream",
     "text": [
      "\n"
     ]
    },
    {
     "data": {
      "application/vnd.jupyter.widget-view+json": {
       "model_id": "99c59c530cf44b1f86459fbe0ab0b6c7",
       "version_major": 2,
       "version_minor": 0
      },
      "text/plain": [
       "HBox(children=(IntProgress(value=0, description='Evaluation iteration', max=7, style=ProgressStyle(description…"
      ]
     },
     "metadata": {},
     "output_type": "display_data"
    },
    {
     "name": "stderr",
     "output_type": "stream",
     "text": [
      "\r",
      "Epoch:  60%|██████    | 12/20 [01:33<01:01,  7.66s/it]"
     ]
    },
    {
     "name": "stdout",
     "output_type": "stream",
     "text": [
      "\n",
      "Loss history: [0.42688906618527006, 0.19715909659862518, 0.1601696056979043, 0.1520670045699392, 0.14809912230287278, 0.14403331599065236, 0.1478635881628309, 0.14324085520846502, 0.14619215045656478, 0.14459493649857386, 0.14370769475187575]\n",
      "Dev loss: 0.14636353616203582\n"
     ]
    },
    {
     "data": {
      "application/vnd.jupyter.widget-view+json": {
       "model_id": "91e54d43d2a94063bb3e40aad6ab9459",
       "version_major": 2,
       "version_minor": 0
      },
      "text/plain": [
       "HBox(children=(IntProgress(value=0, description='Training iteration', max=34, style=ProgressStyle(description_…"
      ]
     },
     "metadata": {},
     "output_type": "display_data"
    },
    {
     "name": "stdout",
     "output_type": "stream",
     "text": [
      "\n"
     ]
    },
    {
     "data": {
      "application/vnd.jupyter.widget-view+json": {
       "model_id": "632b3730776c4b1b8dc8031064cc660e",
       "version_major": 2,
       "version_minor": 0
      },
      "text/plain": [
       "HBox(children=(IntProgress(value=0, description='Evaluation iteration', max=7, style=ProgressStyle(description…"
      ]
     },
     "metadata": {},
     "output_type": "display_data"
    },
    {
     "name": "stdout",
     "output_type": "stream",
     "text": [
      "\n",
      "Loss history: [0.42688906618527006, 0.19715909659862518, 0.1601696056979043, 0.1520670045699392, 0.14809912230287278, 0.14403331599065236, 0.1478635881628309, 0.14324085520846502, 0.14619215045656478, 0.14459493649857386, 0.14370769475187575, 0.14636353616203582]\n",
      "Dev loss: 0.1410176871078355\n"
     ]
    },
    {
     "name": "stderr",
     "output_type": "stream",
     "text": [
      "\r",
      "Epoch:  65%|██████▌   | 13/20 [01:41<00:54,  7.77s/it]"
     ]
    },
    {
     "data": {
      "application/vnd.jupyter.widget-view+json": {
       "model_id": "f301b8a19065490cae82bdb8b3c4c6fe",
       "version_major": 2,
       "version_minor": 0
      },
      "text/plain": [
       "HBox(children=(IntProgress(value=0, description='Training iteration', max=34, style=ProgressStyle(description_…"
      ]
     },
     "metadata": {},
     "output_type": "display_data"
    },
    {
     "name": "stdout",
     "output_type": "stream",
     "text": [
      "\n"
     ]
    },
    {
     "data": {
      "application/vnd.jupyter.widget-view+json": {
       "model_id": "28e8a1efecab4716a100d12c014b4ab7",
       "version_major": 2,
       "version_minor": 0
      },
      "text/plain": [
       "HBox(children=(IntProgress(value=0, description='Evaluation iteration', max=7, style=ProgressStyle(description…"
      ]
     },
     "metadata": {},
     "output_type": "display_data"
    },
    {
     "name": "stderr",
     "output_type": "stream",
     "text": [
      "\r",
      "Epoch:  70%|███████   | 14/20 [01:49<00:46,  7.71s/it]"
     ]
    },
    {
     "name": "stdout",
     "output_type": "stream",
     "text": [
      "\n",
      "Loss history: [0.42688906618527006, 0.19715909659862518, 0.1601696056979043, 0.1520670045699392, 0.14809912230287278, 0.14403331599065236, 0.1478635881628309, 0.14324085520846502, 0.14619215045656478, 0.14459493649857386, 0.14370769475187575, 0.14636353616203582, 0.1410176871078355]\n",
      "Dev loss: 0.14407919666596822\n"
     ]
    },
    {
     "data": {
      "application/vnd.jupyter.widget-view+json": {
       "model_id": "d33abf50cd2e49e98d2955a3dd4e55ca",
       "version_major": 2,
       "version_minor": 0
      },
      "text/plain": [
       "HBox(children=(IntProgress(value=0, description='Training iteration', max=34, style=ProgressStyle(description_…"
      ]
     },
     "metadata": {},
     "output_type": "display_data"
    },
    {
     "name": "stdout",
     "output_type": "stream",
     "text": [
      "\n"
     ]
    },
    {
     "data": {
      "application/vnd.jupyter.widget-view+json": {
       "model_id": "1d1c27aaf22544a3b7552c3988da6a33",
       "version_major": 2,
       "version_minor": 0
      },
      "text/plain": [
       "HBox(children=(IntProgress(value=0, description='Evaluation iteration', max=7, style=ProgressStyle(description…"
      ]
     },
     "metadata": {},
     "output_type": "display_data"
    },
    {
     "name": "stderr",
     "output_type": "stream",
     "text": [
      "\r",
      "Epoch:  75%|███████▌  | 15/20 [01:57<00:38,  7.70s/it]"
     ]
    },
    {
     "name": "stdout",
     "output_type": "stream",
     "text": [
      "\n",
      "Loss history: [0.42688906618527006, 0.19715909659862518, 0.1601696056979043, 0.1520670045699392, 0.14809912230287278, 0.14403331599065236, 0.1478635881628309, 0.14324085520846502, 0.14619215045656478, 0.14459493649857386, 0.14370769475187575, 0.14636353616203582, 0.1410176871078355, 0.14407919666596822]\n",
      "Dev loss: 0.14289342505591257\n"
     ]
    },
    {
     "data": {
      "application/vnd.jupyter.widget-view+json": {
       "model_id": "00647a66b63c4124af6923aaa2e3ad85",
       "version_major": 2,
       "version_minor": 0
      },
      "text/plain": [
       "HBox(children=(IntProgress(value=0, description='Training iteration', max=34, style=ProgressStyle(description_…"
      ]
     },
     "metadata": {},
     "output_type": "display_data"
    },
    {
     "name": "stdout",
     "output_type": "stream",
     "text": [
      "\n"
     ]
    },
    {
     "data": {
      "application/vnd.jupyter.widget-view+json": {
       "model_id": "683ca31792264b2f9d69446f52db427b",
       "version_major": 2,
       "version_minor": 0
      },
      "text/plain": [
       "HBox(children=(IntProgress(value=0, description='Evaluation iteration', max=7, style=ProgressStyle(description…"
      ]
     },
     "metadata": {},
     "output_type": "display_data"
    },
    {
     "name": "stderr",
     "output_type": "stream",
     "text": [
      "\r",
      "Epoch:  80%|████████  | 16/20 [02:04<00:30,  7.66s/it]"
     ]
    },
    {
     "name": "stdout",
     "output_type": "stream",
     "text": [
      "\n",
      "Loss history: [0.42688906618527006, 0.19715909659862518, 0.1601696056979043, 0.1520670045699392, 0.14809912230287278, 0.14403331599065236, 0.1478635881628309, 0.14324085520846502, 0.14619215045656478, 0.14459493649857386, 0.14370769475187575, 0.14636353616203582, 0.1410176871078355, 0.14407919666596822, 0.14289342505591257]\n",
      "Dev loss: 0.14443023183516093\n"
     ]
    },
    {
     "data": {
      "application/vnd.jupyter.widget-view+json": {
       "model_id": "1b43148baf9b40b38262aacfdb7e256e",
       "version_major": 2,
       "version_minor": 0
      },
      "text/plain": [
       "HBox(children=(IntProgress(value=0, description='Training iteration', max=34, style=ProgressStyle(description_…"
      ]
     },
     "metadata": {},
     "output_type": "display_data"
    },
    {
     "name": "stdout",
     "output_type": "stream",
     "text": [
      "\n"
     ]
    },
    {
     "data": {
      "application/vnd.jupyter.widget-view+json": {
       "model_id": "39c41218fd3b48c9adb29a67f58b3e8d",
       "version_major": 2,
       "version_minor": 0
      },
      "text/plain": [
       "HBox(children=(IntProgress(value=0, description='Evaluation iteration', max=7, style=ProgressStyle(description…"
      ]
     },
     "metadata": {},
     "output_type": "display_data"
    },
    {
     "name": "stderr",
     "output_type": "stream",
     "text": [
      "\r",
      "Epoch:  85%|████████▌ | 17/20 [02:12<00:22,  7.64s/it]"
     ]
    },
    {
     "name": "stdout",
     "output_type": "stream",
     "text": [
      "\n",
      "Loss history: [0.42688906618527006, 0.19715909659862518, 0.1601696056979043, 0.1520670045699392, 0.14809912230287278, 0.14403331599065236, 0.1478635881628309, 0.14324085520846502, 0.14619215045656478, 0.14459493649857386, 0.14370769475187575, 0.14636353616203582, 0.1410176871078355, 0.14407919666596822, 0.14289342505591257, 0.14443023183516093]\n",
      "Dev loss: 0.1440649309328624\n"
     ]
    },
    {
     "data": {
      "application/vnd.jupyter.widget-view+json": {
       "model_id": "b33a344e2b6c4b40b84741c0cbb5402e",
       "version_major": 2,
       "version_minor": 0
      },
      "text/plain": [
       "HBox(children=(IntProgress(value=0, description='Training iteration', max=34, style=ProgressStyle(description_…"
      ]
     },
     "metadata": {},
     "output_type": "display_data"
    },
    {
     "name": "stdout",
     "output_type": "stream",
     "text": [
      "\n"
     ]
    },
    {
     "data": {
      "application/vnd.jupyter.widget-view+json": {
       "model_id": "41d0dbc1057d4d48a9dd115fb5f1443f",
       "version_major": 2,
       "version_minor": 0
      },
      "text/plain": [
       "HBox(children=(IntProgress(value=0, description='Evaluation iteration', max=7, style=ProgressStyle(description…"
      ]
     },
     "metadata": {},
     "output_type": "display_data"
    },
    {
     "name": "stdout",
     "output_type": "stream",
     "text": [
      "\n",
      "Loss history: [0.42688906618527006, 0.19715909659862518, 0.1601696056979043, 0.1520670045699392, 0.14809912230287278, 0.14403331599065236, 0.1478635881628309, 0.14324085520846502, 0.14619215045656478, 0.14459493649857386, 0.14370769475187575, 0.14636353616203582, 0.1410176871078355, 0.14407919666596822, 0.14289342505591257, 0.14443023183516093, 0.1440649309328624]\n",
      "Dev loss: 0.1477104691522462\n",
      "No improvement on development set. Finish training.\n",
      "Loading model from /tmp/model.bin\n"
     ]
    },
    {
     "name": "stderr",
     "output_type": "stream",
     "text": [
      "\n",
      "I0327 11:02:57.038930 139890200905536 configuration_utils.py:256] loading configuration file https://s3.amazonaws.com/models.huggingface.co/bert/bert-base-uncased-config.json from cache at /home/yves/.cache/torch/transformers/4dad0251492946e18ac39290fcfe91b89d370fee250efe9521476438fe8ca185.8f56353af4a709bf5ff0fbc915d8f5b42bfff892cbb6ac98c3c45f481a03c685\n",
      "I0327 11:02:57.040695 139890200905536 configuration_utils.py:292] Model config BertConfig {\n",
      "  \"architectures\": [\n",
      "    \"BertForMaskedLM\"\n",
      "  ],\n",
      "  \"attention_probs_dropout_prob\": 0.1,\n",
      "  \"bos_token_id\": null,\n",
      "  \"do_sample\": false,\n",
      "  \"eos_token_ids\": null,\n",
      "  \"finetuning_task\": null,\n",
      "  \"hidden_act\": \"gelu\",\n",
      "  \"hidden_dropout_prob\": 0.1,\n",
      "  \"hidden_size\": 768,\n",
      "  \"id2label\": {\n",
      "    \"0\": \"LABEL_0\",\n",
      "    \"1\": \"LABEL_1\"\n",
      "  },\n",
      "  \"initializer_range\": 0.02,\n",
      "  \"intermediate_size\": 3072,\n",
      "  \"is_decoder\": false,\n",
      "  \"label2id\": {\n",
      "    \"LABEL_0\": 0,\n",
      "    \"LABEL_1\": 1\n",
      "  },\n",
      "  \"layer_norm_eps\": 1e-12,\n",
      "  \"length_penalty\": 1.0,\n",
      "  \"max_length\": 20,\n",
      "  \"max_position_embeddings\": 512,\n",
      "  \"model_type\": \"bert\",\n",
      "  \"num_attention_heads\": 12,\n",
      "  \"num_beams\": 1,\n",
      "  \"num_hidden_layers\": 12,\n",
      "  \"num_labels\": 15,\n",
      "  \"num_return_sequences\": 1,\n",
      "  \"output_attentions\": false,\n",
      "  \"output_hidden_states\": false,\n",
      "  \"output_past\": true,\n",
      "  \"pad_token_id\": null,\n",
      "  \"pruned_heads\": {},\n",
      "  \"repetition_penalty\": 1.0,\n",
      "  \"temperature\": 1.0,\n",
      "  \"top_k\": 50,\n",
      "  \"top_p\": 1.0,\n",
      "  \"torchscript\": false,\n",
      "  \"type_vocab_size\": 2,\n",
      "  \"use_bfloat16\": false,\n",
      "  \"vocab_size\": 30522\n",
      "}\n",
      "\n",
      "I0327 11:02:57.505455 139890200905536 modeling_utils.py:461] loading weights file https://s3.amazonaws.com/models.huggingface.co/bert/bert-base-uncased-pytorch_model.bin from cache at /home/yves/.cache/torch/transformers/aa1ef1aede4482d0dbcd4d52baad8ae300e60902e88fcb0bebdec09afd232066.36ca03ab34a1a5d5fa7bc3d03d55c4fa650fed07220e2eeebc06ce58d0e9a157\n"
     ]
    },
    {
     "data": {
      "application/vnd.jupyter.widget-view+json": {
       "model_id": "d39652a02c9949e48830fe696bdef3f3",
       "version_major": 2,
       "version_minor": 0
      },
      "text/plain": [
       "HBox(children=(IntProgress(value=0, description='Evaluation iteration', max=11, style=ProgressStyle(descriptio…"
      ]
     },
     "metadata": {},
     "output_type": "display_data"
    },
    {
     "name": "stdout",
     "output_type": "stream",
     "text": [
      "\n",
      "Data size: 164\n",
      "P: 117 / 129 = 0.9069767441860465\n",
      "R: 117 / 171 = 0.6842105263157895\n",
      "F: 0.78\n",
      "A: 0.7012195121951219\n",
      "AL1: 0.7134146341463414\n",
      "Train size: 544\n",
      "Final train dataloader length: 34\n"
     ]
    },
    {
     "name": "stderr",
     "output_type": "stream",
     "text": [
      "I0327 11:03:03.659285 139890200905536 configuration_utils.py:256] loading configuration file https://s3.amazonaws.com/models.huggingface.co/bert/bert-base-uncased-config.json from cache at /home/yves/.cache/torch/transformers/4dad0251492946e18ac39290fcfe91b89d370fee250efe9521476438fe8ca185.8f56353af4a709bf5ff0fbc915d8f5b42bfff892cbb6ac98c3c45f481a03c685\n",
      "I0327 11:03:03.660809 139890200905536 configuration_utils.py:292] Model config BertConfig {\n",
      "  \"architectures\": [\n",
      "    \"BertForMaskedLM\"\n",
      "  ],\n",
      "  \"attention_probs_dropout_prob\": 0.1,\n",
      "  \"bos_token_id\": null,\n",
      "  \"do_sample\": false,\n",
      "  \"eos_token_ids\": null,\n",
      "  \"finetuning_task\": null,\n",
      "  \"hidden_act\": \"gelu\",\n",
      "  \"hidden_dropout_prob\": 0.1,\n",
      "  \"hidden_size\": 768,\n",
      "  \"id2label\": {\n",
      "    \"0\": \"LABEL_0\",\n",
      "    \"1\": \"LABEL_1\"\n",
      "  },\n",
      "  \"initializer_range\": 0.02,\n",
      "  \"intermediate_size\": 3072,\n",
      "  \"is_decoder\": false,\n",
      "  \"label2id\": {\n",
      "    \"LABEL_0\": 0,\n",
      "    \"LABEL_1\": 1\n",
      "  },\n",
      "  \"layer_norm_eps\": 1e-12,\n",
      "  \"length_penalty\": 1.0,\n",
      "  \"max_length\": 20,\n",
      "  \"max_position_embeddings\": 512,\n",
      "  \"model_type\": \"bert\",\n",
      "  \"num_attention_heads\": 12,\n",
      "  \"num_beams\": 1,\n",
      "  \"num_hidden_layers\": 12,\n",
      "  \"num_labels\": 15,\n",
      "  \"num_return_sequences\": 1,\n",
      "  \"output_attentions\": false,\n",
      "  \"output_hidden_states\": false,\n",
      "  \"output_past\": true,\n",
      "  \"pad_token_id\": null,\n",
      "  \"pruned_heads\": {},\n",
      "  \"repetition_penalty\": 1.0,\n",
      "  \"temperature\": 1.0,\n",
      "  \"top_k\": 50,\n",
      "  \"top_p\": 1.0,\n",
      "  \"torchscript\": false,\n",
      "  \"type_vocab_size\": 2,\n",
      "  \"use_bfloat16\": false,\n",
      "  \"vocab_size\": 30522\n",
      "}\n",
      "\n",
      "I0327 11:03:04.165182 139890200905536 modeling_utils.py:461] loading weights file https://s3.amazonaws.com/models.huggingface.co/bert/bert-base-uncased-pytorch_model.bin from cache at /home/yves/.cache/torch/transformers/aa1ef1aede4482d0dbcd4d52baad8ae300e60902e88fcb0bebdec09afd232066.36ca03ab34a1a5d5fa7bc3d03d55c4fa650fed07220e2eeebc06ce58d0e9a157\n",
      "I0327 11:03:05.794803 139890200905536 modeling_utils.py:546] Weights of BertForMultiLabelSequenceClassification not initialized from pretrained model: ['classifier.weight', 'classifier.bias']\n",
      "I0327 11:03:05.795544 139890200905536 modeling_utils.py:552] Weights from pretrained model not used in BertForMultiLabelSequenceClassification: ['cls.predictions.bias', 'cls.predictions.transform.dense.weight', 'cls.predictions.transform.dense.bias', 'cls.predictions.decoder.weight', 'cls.seq_relationship.weight', 'cls.seq_relationship.bias', 'cls.predictions.transform.LayerNorm.weight', 'cls.predictions.transform.LayerNorm.bias']\n",
      "Epoch:   0%|          | 0/20 [00:00<?, ?it/s]"
     ]
    },
    {
     "data": {
      "application/vnd.jupyter.widget-view+json": {
       "model_id": "8c945ac95cd5415cb2716f062e8e64f8",
       "version_major": 2,
       "version_minor": 0
      },
      "text/plain": [
       "HBox(children=(IntProgress(value=0, description='Training iteration', max=34, style=ProgressStyle(description_…"
      ]
     },
     "metadata": {},
     "output_type": "display_data"
    },
    {
     "name": "stdout",
     "output_type": "stream",
     "text": [
      "\n"
     ]
    },
    {
     "data": {
      "application/vnd.jupyter.widget-view+json": {
       "model_id": "7a98a529aaea45369782678e48d73aad",
       "version_major": 2,
       "version_minor": 0
      },
      "text/plain": [
       "HBox(children=(IntProgress(value=0, description='Evaluation iteration', max=7, style=ProgressStyle(description…"
      ]
     },
     "metadata": {},
     "output_type": "display_data"
    },
    {
     "name": "stdout",
     "output_type": "stream",
     "text": [
      "\n",
      "Loss history: []\n",
      "Dev loss: 0.3877054623195103\n"
     ]
    },
    {
     "name": "stderr",
     "output_type": "stream",
     "text": [
      "\r",
      "Epoch:   5%|▌         | 1/20 [00:08<02:33,  8.07s/it]"
     ]
    },
    {
     "data": {
      "application/vnd.jupyter.widget-view+json": {
       "model_id": "a90505619ca44e109b894d70b41526bc",
       "version_major": 2,
       "version_minor": 0
      },
      "text/plain": [
       "HBox(children=(IntProgress(value=0, description='Training iteration', max=34, style=ProgressStyle(description_…"
      ]
     },
     "metadata": {},
     "output_type": "display_data"
    },
    {
     "name": "stdout",
     "output_type": "stream",
     "text": [
      "\n"
     ]
    },
    {
     "data": {
      "application/vnd.jupyter.widget-view+json": {
       "model_id": "b53820b14fbd41acad38a8c581b4c6dd",
       "version_major": 2,
       "version_minor": 0
      },
      "text/plain": [
       "HBox(children=(IntProgress(value=0, description='Evaluation iteration', max=7, style=ProgressStyle(description…"
      ]
     },
     "metadata": {},
     "output_type": "display_data"
    },
    {
     "name": "stdout",
     "output_type": "stream",
     "text": [
      "\n",
      "Loss history: [0.3877054623195103]\n",
      "Dev loss: 0.18043212379728044\n"
     ]
    },
    {
     "name": "stderr",
     "output_type": "stream",
     "text": [
      "\r",
      "Epoch:  10%|█         | 2/20 [00:16<02:25,  8.06s/it]"
     ]
    },
    {
     "data": {
      "application/vnd.jupyter.widget-view+json": {
       "model_id": "ee1f54e1b74347008769e8559ebffbea",
       "version_major": 2,
       "version_minor": 0
      },
      "text/plain": [
       "HBox(children=(IntProgress(value=0, description='Training iteration', max=34, style=ProgressStyle(description_…"
      ]
     },
     "metadata": {},
     "output_type": "display_data"
    },
    {
     "name": "stdout",
     "output_type": "stream",
     "text": [
      "\n"
     ]
    },
    {
     "data": {
      "application/vnd.jupyter.widget-view+json": {
       "model_id": "8570e157243e4cf398438b6a49933a68",
       "version_major": 2,
       "version_minor": 0
      },
      "text/plain": [
       "HBox(children=(IntProgress(value=0, description='Evaluation iteration', max=7, style=ProgressStyle(description…"
      ]
     },
     "metadata": {},
     "output_type": "display_data"
    },
    {
     "name": "stdout",
     "output_type": "stream",
     "text": [
      "\n",
      "Loss history: [0.3877054623195103, 0.18043212379728044]\n",
      "Dev loss: 0.15067393226282938\n"
     ]
    },
    {
     "name": "stderr",
     "output_type": "stream",
     "text": [
      "\r",
      "Epoch:  15%|█▌        | 3/20 [00:24<02:16,  8.05s/it]"
     ]
    },
    {
     "data": {
      "application/vnd.jupyter.widget-view+json": {
       "model_id": "7081bc0e50f94275b056f6b43f664ce9",
       "version_major": 2,
       "version_minor": 0
      },
      "text/plain": [
       "HBox(children=(IntProgress(value=0, description='Training iteration', max=34, style=ProgressStyle(description_…"
      ]
     },
     "metadata": {},
     "output_type": "display_data"
    },
    {
     "name": "stdout",
     "output_type": "stream",
     "text": [
      "\n"
     ]
    },
    {
     "data": {
      "application/vnd.jupyter.widget-view+json": {
       "model_id": "9eab3fdcde984418a12d0aadb8ee8fc2",
       "version_major": 2,
       "version_minor": 0
      },
      "text/plain": [
       "HBox(children=(IntProgress(value=0, description='Evaluation iteration', max=7, style=ProgressStyle(description…"
      ]
     },
     "metadata": {},
     "output_type": "display_data"
    },
    {
     "name": "stdout",
     "output_type": "stream",
     "text": [
      "\n",
      "Loss history: [0.3877054623195103, 0.18043212379728044, 0.15067393226282938]\n",
      "Dev loss: 0.14281822315284184\n"
     ]
    },
    {
     "name": "stderr",
     "output_type": "stream",
     "text": [
      "\r",
      "Epoch:  20%|██        | 4/20 [00:32<02:08,  8.06s/it]"
     ]
    },
    {
     "data": {
      "application/vnd.jupyter.widget-view+json": {
       "model_id": "0d08a9f1782049e1a9634ebdcbacc8c8",
       "version_major": 2,
       "version_minor": 0
      },
      "text/plain": [
       "HBox(children=(IntProgress(value=0, description='Training iteration', max=34, style=ProgressStyle(description_…"
      ]
     },
     "metadata": {},
     "output_type": "display_data"
    },
    {
     "name": "stdout",
     "output_type": "stream",
     "text": [
      "\n"
     ]
    },
    {
     "data": {
      "application/vnd.jupyter.widget-view+json": {
       "model_id": "47cf793f16fb4cdbbeda1b984352145a",
       "version_major": 2,
       "version_minor": 0
      },
      "text/plain": [
       "HBox(children=(IntProgress(value=0, description='Evaluation iteration', max=7, style=ProgressStyle(description…"
      ]
     },
     "metadata": {},
     "output_type": "display_data"
    },
    {
     "name": "stdout",
     "output_type": "stream",
     "text": [
      "\n",
      "Loss history: [0.3877054623195103, 0.18043212379728044, 0.15067393226282938, 0.14281822315284184]\n",
      "Dev loss: 0.1389367293034281\n"
     ]
    },
    {
     "name": "stderr",
     "output_type": "stream",
     "text": [
      "\r",
      "Epoch:  25%|██▌       | 5/20 [00:40<02:00,  8.06s/it]"
     ]
    },
    {
     "data": {
      "application/vnd.jupyter.widget-view+json": {
       "model_id": "1cf86c3d23d94120aaba31144606aff1",
       "version_major": 2,
       "version_minor": 0
      },
      "text/plain": [
       "HBox(children=(IntProgress(value=0, description='Training iteration', max=34, style=ProgressStyle(description_…"
      ]
     },
     "metadata": {},
     "output_type": "display_data"
    },
    {
     "name": "stdout",
     "output_type": "stream",
     "text": [
      "\n"
     ]
    },
    {
     "data": {
      "application/vnd.jupyter.widget-view+json": {
       "model_id": "c23216ab9a064c74ad1c350e9616fe6f",
       "version_major": 2,
       "version_minor": 0
      },
      "text/plain": [
       "HBox(children=(IntProgress(value=0, description='Evaluation iteration', max=7, style=ProgressStyle(description…"
      ]
     },
     "metadata": {},
     "output_type": "display_data"
    },
    {
     "name": "stdout",
     "output_type": "stream",
     "text": [
      "\n",
      "Loss history: [0.3877054623195103, 0.18043212379728044, 0.15067393226282938, 0.14281822315284184, 0.1389367293034281]\n",
      "Dev loss: 0.13675582834652492\n"
     ]
    },
    {
     "name": "stderr",
     "output_type": "stream",
     "text": [
      "\r",
      "Epoch:  30%|███       | 6/20 [00:48<01:52,  8.06s/it]"
     ]
    },
    {
     "data": {
      "application/vnd.jupyter.widget-view+json": {
       "model_id": "d2742f03f5b54a66b0f76091622fd807",
       "version_major": 2,
       "version_minor": 0
      },
      "text/plain": [
       "HBox(children=(IntProgress(value=0, description='Training iteration', max=34, style=ProgressStyle(description_…"
      ]
     },
     "metadata": {},
     "output_type": "display_data"
    },
    {
     "name": "stdout",
     "output_type": "stream",
     "text": [
      "\n"
     ]
    },
    {
     "data": {
      "application/vnd.jupyter.widget-view+json": {
       "model_id": "a2cd8c20d2c846f39dc4d1d213d0ca91",
       "version_major": 2,
       "version_minor": 0
      },
      "text/plain": [
       "HBox(children=(IntProgress(value=0, description='Evaluation iteration', max=7, style=ProgressStyle(description…"
      ]
     },
     "metadata": {},
     "output_type": "display_data"
    },
    {
     "name": "stdout",
     "output_type": "stream",
     "text": [
      "\n",
      "Loss history: [0.3877054623195103, 0.18043212379728044, 0.15067393226282938, 0.14281822315284184, 0.1389367293034281, 0.13675582834652492]\n",
      "Dev loss: 0.12994200416973659\n"
     ]
    },
    {
     "name": "stderr",
     "output_type": "stream",
     "text": [
      "\r",
      "Epoch:  35%|███▌      | 7/20 [00:56<01:44,  8.06s/it]"
     ]
    },
    {
     "data": {
      "application/vnd.jupyter.widget-view+json": {
       "model_id": "56ba2e099b4447a9b83edd022c2a88f6",
       "version_major": 2,
       "version_minor": 0
      },
      "text/plain": [
       "HBox(children=(IntProgress(value=0, description='Training iteration', max=34, style=ProgressStyle(description_…"
      ]
     },
     "metadata": {},
     "output_type": "display_data"
    },
    {
     "name": "stdout",
     "output_type": "stream",
     "text": [
      "\n"
     ]
    },
    {
     "data": {
      "application/vnd.jupyter.widget-view+json": {
       "model_id": "dd04a41f867143a985ae1a608c9dcb05",
       "version_major": 2,
       "version_minor": 0
      },
      "text/plain": [
       "HBox(children=(IntProgress(value=0, description='Evaluation iteration', max=7, style=ProgressStyle(description…"
      ]
     },
     "metadata": {},
     "output_type": "display_data"
    },
    {
     "name": "stderr",
     "output_type": "stream",
     "text": [
      "\r",
      "Epoch:  40%|████      | 8/20 [01:03<01:35,  7.92s/it]"
     ]
    },
    {
     "name": "stdout",
     "output_type": "stream",
     "text": [
      "\n",
      "Loss history: [0.3877054623195103, 0.18043212379728044, 0.15067393226282938, 0.14281822315284184, 0.1389367293034281, 0.13675582834652492, 0.12994200416973659]\n",
      "Dev loss: 0.13485317145075118\n"
     ]
    },
    {
     "data": {
      "application/vnd.jupyter.widget-view+json": {
       "model_id": "44383283ea5a4bee9e2b9f090d281a2c",
       "version_major": 2,
       "version_minor": 0
      },
      "text/plain": [
       "HBox(children=(IntProgress(value=0, description='Training iteration', max=34, style=ProgressStyle(description_…"
      ]
     },
     "metadata": {},
     "output_type": "display_data"
    },
    {
     "name": "stdout",
     "output_type": "stream",
     "text": [
      "\n"
     ]
    },
    {
     "data": {
      "application/vnd.jupyter.widget-view+json": {
       "model_id": "1c52199d86bb46dda0ff3c73281b4371",
       "version_major": 2,
       "version_minor": 0
      },
      "text/plain": [
       "HBox(children=(IntProgress(value=0, description='Evaluation iteration', max=7, style=ProgressStyle(description…"
      ]
     },
     "metadata": {},
     "output_type": "display_data"
    },
    {
     "name": "stderr",
     "output_type": "stream",
     "text": [
      "\r",
      "Epoch:  45%|████▌     | 9/20 [01:11<01:26,  7.82s/it]"
     ]
    },
    {
     "name": "stdout",
     "output_type": "stream",
     "text": [
      "\n",
      "Loss history: [0.3877054623195103, 0.18043212379728044, 0.15067393226282938, 0.14281822315284184, 0.1389367293034281, 0.13675582834652492, 0.12994200416973659, 0.13485317145075118]\n",
      "Dev loss: 0.1302926545696599\n"
     ]
    },
    {
     "data": {
      "application/vnd.jupyter.widget-view+json": {
       "model_id": "9577f5c2fb3e4cc7bc10c87c36bb3bf9",
       "version_major": 2,
       "version_minor": 0
      },
      "text/plain": [
       "HBox(children=(IntProgress(value=0, description='Training iteration', max=34, style=ProgressStyle(description_…"
      ]
     },
     "metadata": {},
     "output_type": "display_data"
    },
    {
     "name": "stdout",
     "output_type": "stream",
     "text": [
      "\n"
     ]
    },
    {
     "data": {
      "application/vnd.jupyter.widget-view+json": {
       "model_id": "0bb228854ca54319bef68cf1df648a70",
       "version_major": 2,
       "version_minor": 0
      },
      "text/plain": [
       "HBox(children=(IntProgress(value=0, description='Evaluation iteration', max=7, style=ProgressStyle(description…"
      ]
     },
     "metadata": {},
     "output_type": "display_data"
    },
    {
     "name": "stdout",
     "output_type": "stream",
     "text": [
      "\n",
      "Loss history: [0.3877054623195103, 0.18043212379728044, 0.15067393226282938, 0.14281822315284184, 0.1389367293034281, 0.13675582834652492, 0.12994200416973659, 0.13485317145075118, 0.1302926545696599]\n",
      "Dev loss: 0.12502140126058034\n"
     ]
    },
    {
     "name": "stderr",
     "output_type": "stream",
     "text": [
      "\r",
      "Epoch:  50%|█████     | 10/20 [01:19<01:18,  7.89s/it]"
     ]
    },
    {
     "data": {
      "application/vnd.jupyter.widget-view+json": {
       "model_id": "d310fa247aee49c4b86074a62466f42c",
       "version_major": 2,
       "version_minor": 0
      },
      "text/plain": [
       "HBox(children=(IntProgress(value=0, description='Training iteration', max=34, style=ProgressStyle(description_…"
      ]
     },
     "metadata": {},
     "output_type": "display_data"
    },
    {
     "name": "stdout",
     "output_type": "stream",
     "text": [
      "\n"
     ]
    },
    {
     "data": {
      "application/vnd.jupyter.widget-view+json": {
       "model_id": "5f1cd8760d4c49af8b85a6557dd01844",
       "version_major": 2,
       "version_minor": 0
      },
      "text/plain": [
       "HBox(children=(IntProgress(value=0, description='Evaluation iteration', max=7, style=ProgressStyle(description…"
      ]
     },
     "metadata": {},
     "output_type": "display_data"
    },
    {
     "name": "stdout",
     "output_type": "stream",
     "text": [
      "\n",
      "Loss history: [0.3877054623195103, 0.18043212379728044, 0.15067393226282938, 0.14281822315284184, 0.1389367293034281, 0.13675582834652492, 0.12994200416973659, 0.13485317145075118, 0.1302926545696599, 0.12502140126058034]\n",
      "Dev loss: 0.12364912352391652\n"
     ]
    },
    {
     "name": "stderr",
     "output_type": "stream",
     "text": [
      "\r",
      "Epoch:  55%|█████▌    | 11/20 [01:27<01:11,  7.95s/it]"
     ]
    },
    {
     "data": {
      "application/vnd.jupyter.widget-view+json": {
       "model_id": "d82062a52a524de9b00fe94cc3236b50",
       "version_major": 2,
       "version_minor": 0
      },
      "text/plain": [
       "HBox(children=(IntProgress(value=0, description='Training iteration', max=34, style=ProgressStyle(description_…"
      ]
     },
     "metadata": {},
     "output_type": "display_data"
    },
    {
     "name": "stdout",
     "output_type": "stream",
     "text": [
      "\n"
     ]
    },
    {
     "data": {
      "application/vnd.jupyter.widget-view+json": {
       "model_id": "1fdfce3ef696484287fdeb59dde5a1cc",
       "version_major": 2,
       "version_minor": 0
      },
      "text/plain": [
       "HBox(children=(IntProgress(value=0, description='Evaluation iteration', max=7, style=ProgressStyle(description…"
      ]
     },
     "metadata": {},
     "output_type": "display_data"
    },
    {
     "name": "stderr",
     "output_type": "stream",
     "text": [
      "\r",
      "Epoch:  60%|██████    | 12/20 [01:35<01:02,  7.84s/it]"
     ]
    },
    {
     "name": "stdout",
     "output_type": "stream",
     "text": [
      "\n",
      "Loss history: [0.3877054623195103, 0.18043212379728044, 0.15067393226282938, 0.14281822315284184, 0.1389367293034281, 0.13675582834652492, 0.12994200416973659, 0.13485317145075118, 0.1302926545696599, 0.12502140126058034, 0.12364912352391652]\n",
      "Dev loss: 0.12481279032570976\n"
     ]
    },
    {
     "data": {
      "application/vnd.jupyter.widget-view+json": {
       "model_id": "5dd5ad70055749e0b08bd1be66100f8a",
       "version_major": 2,
       "version_minor": 0
      },
      "text/plain": [
       "HBox(children=(IntProgress(value=0, description='Training iteration', max=34, style=ProgressStyle(description_…"
      ]
     },
     "metadata": {},
     "output_type": "display_data"
    },
    {
     "name": "stdout",
     "output_type": "stream",
     "text": [
      "\n"
     ]
    },
    {
     "data": {
      "application/vnd.jupyter.widget-view+json": {
       "model_id": "37dcdbbb360b49148e22cbd1316968cc",
       "version_major": 2,
       "version_minor": 0
      },
      "text/plain": [
       "HBox(children=(IntProgress(value=0, description='Evaluation iteration', max=7, style=ProgressStyle(description…"
      ]
     },
     "metadata": {},
     "output_type": "display_data"
    },
    {
     "name": "stdout",
     "output_type": "stream",
     "text": [
      "\n",
      "Loss history: [0.3877054623195103, 0.18043212379728044, 0.15067393226282938, 0.14281822315284184, 0.1389367293034281, 0.13675582834652492, 0.12994200416973659, 0.13485317145075118, 0.1302926545696599, 0.12502140126058034, 0.12364912352391652, 0.12481279032570976]\n",
      "Dev loss: 0.12302902447325843\n"
     ]
    },
    {
     "name": "stderr",
     "output_type": "stream",
     "text": [
      "\r",
      "Epoch:  65%|██████▌   | 13/20 [01:43<00:55,  7.91s/it]"
     ]
    },
    {
     "data": {
      "application/vnd.jupyter.widget-view+json": {
       "model_id": "6948e4e80bff4afe86b1b0ae6a1187d9",
       "version_major": 2,
       "version_minor": 0
      },
      "text/plain": [
       "HBox(children=(IntProgress(value=0, description='Training iteration', max=34, style=ProgressStyle(description_…"
      ]
     },
     "metadata": {},
     "output_type": "display_data"
    },
    {
     "name": "stdout",
     "output_type": "stream",
     "text": [
      "\n"
     ]
    },
    {
     "data": {
      "application/vnd.jupyter.widget-view+json": {
       "model_id": "9d1c8ff4922b4d0888a63a893c44dd3c",
       "version_major": 2,
       "version_minor": 0
      },
      "text/plain": [
       "HBox(children=(IntProgress(value=0, description='Evaluation iteration', max=7, style=ProgressStyle(description…"
      ]
     },
     "metadata": {},
     "output_type": "display_data"
    },
    {
     "name": "stderr",
     "output_type": "stream",
     "text": [
      "\r",
      "Epoch:  70%|███████   | 14/20 [01:50<00:46,  7.82s/it]"
     ]
    },
    {
     "name": "stdout",
     "output_type": "stream",
     "text": [
      "\n",
      "Loss history: [0.3877054623195103, 0.18043212379728044, 0.15067393226282938, 0.14281822315284184, 0.1389367293034281, 0.13675582834652492, 0.12994200416973659, 0.13485317145075118, 0.1302926545696599, 0.12502140126058034, 0.12364912352391652, 0.12481279032570976, 0.12302902447325843]\n",
      "Dev loss: 0.1270663876618658\n"
     ]
    },
    {
     "data": {
      "application/vnd.jupyter.widget-view+json": {
       "model_id": "531519a5f2ce46bfa28d6d25c28e892b",
       "version_major": 2,
       "version_minor": 0
      },
      "text/plain": [
       "HBox(children=(IntProgress(value=0, description='Training iteration', max=34, style=ProgressStyle(description_…"
      ]
     },
     "metadata": {},
     "output_type": "display_data"
    },
    {
     "name": "stdout",
     "output_type": "stream",
     "text": [
      "\n"
     ]
    },
    {
     "data": {
      "application/vnd.jupyter.widget-view+json": {
       "model_id": "21601c3218744f5f957b8d482bf454b2",
       "version_major": 2,
       "version_minor": 0
      },
      "text/plain": [
       "HBox(children=(IntProgress(value=0, description='Evaluation iteration', max=7, style=ProgressStyle(description…"
      ]
     },
     "metadata": {},
     "output_type": "display_data"
    },
    {
     "name": "stdout",
     "output_type": "stream",
     "text": [
      "\n",
      "Loss history: [0.3877054623195103, 0.18043212379728044, 0.15067393226282938, 0.14281822315284184, 0.1389367293034281, 0.13675582834652492, 0.12994200416973659, 0.13485317145075118, 0.1302926545696599, 0.12502140126058034, 0.12364912352391652, 0.12481279032570976, 0.12302902447325843, 0.1270663876618658]\n",
      "Dev loss: 0.12237900069781713\n"
     ]
    },
    {
     "name": "stderr",
     "output_type": "stream",
     "text": [
      "\r",
      "Epoch:  75%|███████▌  | 15/20 [01:59<00:39,  7.89s/it]"
     ]
    },
    {
     "data": {
      "application/vnd.jupyter.widget-view+json": {
       "model_id": "d99f3ba539fd446da0d07f65ec621a92",
       "version_major": 2,
       "version_minor": 0
      },
      "text/plain": [
       "HBox(children=(IntProgress(value=0, description='Training iteration', max=34, style=ProgressStyle(description_…"
      ]
     },
     "metadata": {},
     "output_type": "display_data"
    },
    {
     "name": "stdout",
     "output_type": "stream",
     "text": [
      "\n"
     ]
    },
    {
     "data": {
      "application/vnd.jupyter.widget-view+json": {
       "model_id": "b63d0965a7cb410f811ecebf89601c4e",
       "version_major": 2,
       "version_minor": 0
      },
      "text/plain": [
       "HBox(children=(IntProgress(value=0, description='Evaluation iteration', max=7, style=ProgressStyle(description…"
      ]
     },
     "metadata": {},
     "output_type": "display_data"
    },
    {
     "name": "stderr",
     "output_type": "stream",
     "text": [
      "\r",
      "Epoch:  80%|████████  | 16/20 [02:06<00:31,  7.80s/it]"
     ]
    },
    {
     "name": "stdout",
     "output_type": "stream",
     "text": [
      "\n",
      "Loss history: [0.3877054623195103, 0.18043212379728044, 0.15067393226282938, 0.14281822315284184, 0.1389367293034281, 0.13675582834652492, 0.12994200416973659, 0.13485317145075118, 0.1302926545696599, 0.12502140126058034, 0.12364912352391652, 0.12481279032570976, 0.12302902447325843, 0.1270663876618658, 0.12237900069781713]\n",
      "Dev loss: 0.12321941128798894\n"
     ]
    },
    {
     "data": {
      "application/vnd.jupyter.widget-view+json": {
       "model_id": "a8b1daeee13b4f32ad842d79d919a4fc",
       "version_major": 2,
       "version_minor": 0
      },
      "text/plain": [
       "HBox(children=(IntProgress(value=0, description='Training iteration', max=34, style=ProgressStyle(description_…"
      ]
     },
     "metadata": {},
     "output_type": "display_data"
    },
    {
     "name": "stdout",
     "output_type": "stream",
     "text": [
      "\n"
     ]
    },
    {
     "data": {
      "application/vnd.jupyter.widget-view+json": {
       "model_id": "ccf801e41f164cec886af9596fc238e4",
       "version_major": 2,
       "version_minor": 0
      },
      "text/plain": [
       "HBox(children=(IntProgress(value=0, description='Evaluation iteration', max=7, style=ProgressStyle(description…"
      ]
     },
     "metadata": {},
     "output_type": "display_data"
    },
    {
     "name": "stderr",
     "output_type": "stream",
     "text": [
      "\r",
      "Epoch:  85%|████████▌ | 17/20 [02:14<00:23,  7.74s/it]"
     ]
    },
    {
     "name": "stdout",
     "output_type": "stream",
     "text": [
      "\n",
      "Loss history: [0.3877054623195103, 0.18043212379728044, 0.15067393226282938, 0.14281822315284184, 0.1389367293034281, 0.13675582834652492, 0.12994200416973659, 0.13485317145075118, 0.1302926545696599, 0.12502140126058034, 0.12364912352391652, 0.12481279032570976, 0.12302902447325843, 0.1270663876618658, 0.12237900069781713, 0.12321941128798894]\n",
      "Dev loss: 0.12285774201154709\n"
     ]
    },
    {
     "data": {
      "application/vnd.jupyter.widget-view+json": {
       "model_id": "3f90ef65d4084403bbabb27ecac69e8a",
       "version_major": 2,
       "version_minor": 0
      },
      "text/plain": [
       "HBox(children=(IntProgress(value=0, description='Training iteration', max=34, style=ProgressStyle(description_…"
      ]
     },
     "metadata": {},
     "output_type": "display_data"
    },
    {
     "name": "stdout",
     "output_type": "stream",
     "text": [
      "\n"
     ]
    },
    {
     "data": {
      "application/vnd.jupyter.widget-view+json": {
       "model_id": "ca5008c379b84e4db5714513c0d35335",
       "version_major": 2,
       "version_minor": 0
      },
      "text/plain": [
       "HBox(children=(IntProgress(value=0, description='Evaluation iteration', max=7, style=ProgressStyle(description…"
      ]
     },
     "metadata": {},
     "output_type": "display_data"
    },
    {
     "name": "stderr",
     "output_type": "stream",
     "text": [
      "\r",
      "Epoch:  90%|█████████ | 18/20 [02:21<00:15,  7.70s/it]"
     ]
    },
    {
     "name": "stdout",
     "output_type": "stream",
     "text": [
      "\n",
      "Loss history: [0.3877054623195103, 0.18043212379728044, 0.15067393226282938, 0.14281822315284184, 0.1389367293034281, 0.13675582834652492, 0.12994200416973659, 0.13485317145075118, 0.1302926545696599, 0.12502140126058034, 0.12364912352391652, 0.12481279032570976, 0.12302902447325843, 0.1270663876618658, 0.12237900069781713, 0.12321941128798894, 0.12285774201154709]\n",
      "Dev loss: 0.12335874672446932\n"
     ]
    },
    {
     "data": {
      "application/vnd.jupyter.widget-view+json": {
       "model_id": "ff755d70609d4d5986a4cac4ed61ed5c",
       "version_major": 2,
       "version_minor": 0
      },
      "text/plain": [
       "HBox(children=(IntProgress(value=0, description='Training iteration', max=34, style=ProgressStyle(description_…"
      ]
     },
     "metadata": {},
     "output_type": "display_data"
    },
    {
     "name": "stdout",
     "output_type": "stream",
     "text": [
      "\n"
     ]
    },
    {
     "data": {
      "application/vnd.jupyter.widget-view+json": {
       "model_id": "e33426a33e5a4552b882960fe5fa334a",
       "version_major": 2,
       "version_minor": 0
      },
      "text/plain": [
       "HBox(children=(IntProgress(value=0, description='Evaluation iteration', max=7, style=ProgressStyle(description…"
      ]
     },
     "metadata": {},
     "output_type": "display_data"
    },
    {
     "name": "stdout",
     "output_type": "stream",
     "text": [
      "\n",
      "Loss history: [0.3877054623195103, 0.18043212379728044, 0.15067393226282938, 0.14281822315284184, 0.1389367293034281, 0.13675582834652492, 0.12994200416973659, 0.13485317145075118, 0.1302926545696599, 0.12502140126058034, 0.12364912352391652, 0.12481279032570976, 0.12302902447325843, 0.1270663876618658, 0.12237900069781713, 0.12321941128798894, 0.12285774201154709, 0.12335874672446932]\n",
      "Dev loss: 0.12182107461350304\n"
     ]
    },
    {
     "name": "stderr",
     "output_type": "stream",
     "text": [
      "\r",
      "Epoch:  95%|█████████▌| 19/20 [02:29<00:07,  7.81s/it]"
     ]
    },
    {
     "data": {
      "application/vnd.jupyter.widget-view+json": {
       "model_id": "57da6f97d18a45de92f3d88eb5a15976",
       "version_major": 2,
       "version_minor": 0
      },
      "text/plain": [
       "HBox(children=(IntProgress(value=0, description='Training iteration', max=34, style=ProgressStyle(description_…"
      ]
     },
     "metadata": {},
     "output_type": "display_data"
    },
    {
     "name": "stdout",
     "output_type": "stream",
     "text": [
      "\n"
     ]
    },
    {
     "data": {
      "application/vnd.jupyter.widget-view+json": {
       "model_id": "a7379e779ab84e18877de60bd5035dec",
       "version_major": 2,
       "version_minor": 0
      },
      "text/plain": [
       "HBox(children=(IntProgress(value=0, description='Evaluation iteration', max=7, style=ProgressStyle(description…"
      ]
     },
     "metadata": {},
     "output_type": "display_data"
    },
    {
     "name": "stderr",
     "output_type": "stream",
     "text": [
      "\r",
      "Epoch: 100%|██████████| 20/20 [02:37<00:00,  7.75s/it]"
     ]
    },
    {
     "name": "stdout",
     "output_type": "stream",
     "text": [
      "\n",
      "Loss history: [0.3877054623195103, 0.18043212379728044, 0.15067393226282938, 0.14281822315284184, 0.1389367293034281, 0.13675582834652492, 0.12994200416973659, 0.13485317145075118, 0.1302926545696599, 0.12502140126058034, 0.12364912352391652, 0.12481279032570976, 0.12302902447325843, 0.1270663876618658, 0.12237900069781713, 0.12321941128798894, 0.12285774201154709, 0.12335874672446932, 0.12182107461350304]\n",
      "Dev loss: 0.12484473415783473\n",
      "Loading model from /tmp/model.bin\n"
     ]
    },
    {
     "name": "stderr",
     "output_type": "stream",
     "text": [
      "\n",
      "I0327 11:05:43.938793 139890200905536 configuration_utils.py:256] loading configuration file https://s3.amazonaws.com/models.huggingface.co/bert/bert-base-uncased-config.json from cache at /home/yves/.cache/torch/transformers/4dad0251492946e18ac39290fcfe91b89d370fee250efe9521476438fe8ca185.8f56353af4a709bf5ff0fbc915d8f5b42bfff892cbb6ac98c3c45f481a03c685\n",
      "I0327 11:05:43.940371 139890200905536 configuration_utils.py:292] Model config BertConfig {\n",
      "  \"architectures\": [\n",
      "    \"BertForMaskedLM\"\n",
      "  ],\n",
      "  \"attention_probs_dropout_prob\": 0.1,\n",
      "  \"bos_token_id\": null,\n",
      "  \"do_sample\": false,\n",
      "  \"eos_token_ids\": null,\n",
      "  \"finetuning_task\": null,\n",
      "  \"hidden_act\": \"gelu\",\n",
      "  \"hidden_dropout_prob\": 0.1,\n",
      "  \"hidden_size\": 768,\n",
      "  \"id2label\": {\n",
      "    \"0\": \"LABEL_0\",\n",
      "    \"1\": \"LABEL_1\"\n",
      "  },\n",
      "  \"initializer_range\": 0.02,\n",
      "  \"intermediate_size\": 3072,\n",
      "  \"is_decoder\": false,\n",
      "  \"label2id\": {\n",
      "    \"LABEL_0\": 0,\n",
      "    \"LABEL_1\": 1\n",
      "  },\n",
      "  \"layer_norm_eps\": 1e-12,\n",
      "  \"length_penalty\": 1.0,\n",
      "  \"max_length\": 20,\n",
      "  \"max_position_embeddings\": 512,\n",
      "  \"model_type\": \"bert\",\n",
      "  \"num_attention_heads\": 12,\n",
      "  \"num_beams\": 1,\n",
      "  \"num_hidden_layers\": 12,\n",
      "  \"num_labels\": 15,\n",
      "  \"num_return_sequences\": 1,\n",
      "  \"output_attentions\": false,\n",
      "  \"output_hidden_states\": false,\n",
      "  \"output_past\": true,\n",
      "  \"pad_token_id\": null,\n",
      "  \"pruned_heads\": {},\n",
      "  \"repetition_penalty\": 1.0,\n",
      "  \"temperature\": 1.0,\n",
      "  \"top_k\": 50,\n",
      "  \"top_p\": 1.0,\n",
      "  \"torchscript\": false,\n",
      "  \"type_vocab_size\": 2,\n",
      "  \"use_bfloat16\": false,\n",
      "  \"vocab_size\": 30522\n",
      "}\n",
      "\n",
      "I0327 11:05:44.399814 139890200905536 modeling_utils.py:461] loading weights file https://s3.amazonaws.com/models.huggingface.co/bert/bert-base-uncased-pytorch_model.bin from cache at /home/yves/.cache/torch/transformers/aa1ef1aede4482d0dbcd4d52baad8ae300e60902e88fcb0bebdec09afd232066.36ca03ab34a1a5d5fa7bc3d03d55c4fa650fed07220e2eeebc06ce58d0e9a157\n"
     ]
    },
    {
     "data": {
      "application/vnd.jupyter.widget-view+json": {
       "model_id": "186f7a17c3d94e339d79e90981266bb9",
       "version_major": 2,
       "version_minor": 0
      },
      "text/plain": [
       "HBox(children=(IntProgress(value=0, description='Evaluation iteration', max=11, style=ProgressStyle(descriptio…"
      ]
     },
     "metadata": {},
     "output_type": "display_data"
    },
    {
     "name": "stdout",
     "output_type": "stream",
     "text": [
      "\n",
      "Data size: 163\n",
      "P: 105 / 123 = 0.8536585365853658\n",
      "R: 105 / 176 = 0.5965909090909091\n",
      "F: 0.7023411371237458\n",
      "A: 0.6319018404907976\n",
      "AL1: 0.6441717791411042\n",
      "Train size: 544\n",
      "Final train dataloader length: 34\n"
     ]
    },
    {
     "name": "stderr",
     "output_type": "stream",
     "text": [
      "I0327 11:05:50.503132 139890200905536 configuration_utils.py:256] loading configuration file https://s3.amazonaws.com/models.huggingface.co/bert/bert-base-uncased-config.json from cache at /home/yves/.cache/torch/transformers/4dad0251492946e18ac39290fcfe91b89d370fee250efe9521476438fe8ca185.8f56353af4a709bf5ff0fbc915d8f5b42bfff892cbb6ac98c3c45f481a03c685\n",
      "I0327 11:05:50.504700 139890200905536 configuration_utils.py:292] Model config BertConfig {\n",
      "  \"architectures\": [\n",
      "    \"BertForMaskedLM\"\n",
      "  ],\n",
      "  \"attention_probs_dropout_prob\": 0.1,\n",
      "  \"bos_token_id\": null,\n",
      "  \"do_sample\": false,\n",
      "  \"eos_token_ids\": null,\n",
      "  \"finetuning_task\": null,\n",
      "  \"hidden_act\": \"gelu\",\n",
      "  \"hidden_dropout_prob\": 0.1,\n",
      "  \"hidden_size\": 768,\n",
      "  \"id2label\": {\n",
      "    \"0\": \"LABEL_0\",\n",
      "    \"1\": \"LABEL_1\"\n",
      "  },\n",
      "  \"initializer_range\": 0.02,\n",
      "  \"intermediate_size\": 3072,\n",
      "  \"is_decoder\": false,\n",
      "  \"label2id\": {\n",
      "    \"LABEL_0\": 0,\n",
      "    \"LABEL_1\": 1\n",
      "  },\n",
      "  \"layer_norm_eps\": 1e-12,\n",
      "  \"length_penalty\": 1.0,\n",
      "  \"max_length\": 20,\n",
      "  \"max_position_embeddings\": 512,\n",
      "  \"model_type\": \"bert\",\n",
      "  \"num_attention_heads\": 12,\n",
      "  \"num_beams\": 1,\n",
      "  \"num_hidden_layers\": 12,\n",
      "  \"num_labels\": 15,\n",
      "  \"num_return_sequences\": 1,\n",
      "  \"output_attentions\": false,\n",
      "  \"output_hidden_states\": false,\n",
      "  \"output_past\": true,\n",
      "  \"pad_token_id\": null,\n",
      "  \"pruned_heads\": {},\n",
      "  \"repetition_penalty\": 1.0,\n",
      "  \"temperature\": 1.0,\n",
      "  \"top_k\": 50,\n",
      "  \"top_p\": 1.0,\n",
      "  \"torchscript\": false,\n",
      "  \"type_vocab_size\": 2,\n",
      "  \"use_bfloat16\": false,\n",
      "  \"vocab_size\": 30522\n",
      "}\n",
      "\n",
      "I0327 11:05:50.972953 139890200905536 modeling_utils.py:461] loading weights file https://s3.amazonaws.com/models.huggingface.co/bert/bert-base-uncased-pytorch_model.bin from cache at /home/yves/.cache/torch/transformers/aa1ef1aede4482d0dbcd4d52baad8ae300e60902e88fcb0bebdec09afd232066.36ca03ab34a1a5d5fa7bc3d03d55c4fa650fed07220e2eeebc06ce58d0e9a157\n",
      "I0327 11:05:52.666376 139890200905536 modeling_utils.py:546] Weights of BertForMultiLabelSequenceClassification not initialized from pretrained model: ['classifier.weight', 'classifier.bias']\n",
      "I0327 11:05:52.667176 139890200905536 modeling_utils.py:552] Weights from pretrained model not used in BertForMultiLabelSequenceClassification: ['cls.predictions.bias', 'cls.predictions.transform.dense.weight', 'cls.predictions.transform.dense.bias', 'cls.predictions.decoder.weight', 'cls.seq_relationship.weight', 'cls.seq_relationship.bias', 'cls.predictions.transform.LayerNorm.weight', 'cls.predictions.transform.LayerNorm.bias']\n",
      "Epoch:   0%|          | 0/20 [00:00<?, ?it/s]"
     ]
    },
    {
     "data": {
      "application/vnd.jupyter.widget-view+json": {
       "model_id": "01ec028bcaa64bf9af821bbdb5a53bde",
       "version_major": 2,
       "version_minor": 0
      },
      "text/plain": [
       "HBox(children=(IntProgress(value=0, description='Training iteration', max=34, style=ProgressStyle(description_…"
      ]
     },
     "metadata": {},
     "output_type": "display_data"
    },
    {
     "name": "stdout",
     "output_type": "stream",
     "text": [
      "\n"
     ]
    },
    {
     "data": {
      "application/vnd.jupyter.widget-view+json": {
       "model_id": "1d293e6cc85d4c87a1689f9df1c7713c",
       "version_major": 2,
       "version_minor": 0
      },
      "text/plain": [
       "HBox(children=(IntProgress(value=0, description='Evaluation iteration', max=7, style=ProgressStyle(description…"
      ]
     },
     "metadata": {},
     "output_type": "display_data"
    },
    {
     "name": "stdout",
     "output_type": "stream",
     "text": [
      "\n",
      "Loss history: []\n",
      "Dev loss: 0.43140164017677307\n"
     ]
    },
    {
     "name": "stderr",
     "output_type": "stream",
     "text": [
      "\r",
      "Epoch:   5%|▌         | 1/20 [00:08<02:32,  8.02s/it]"
     ]
    },
    {
     "data": {
      "application/vnd.jupyter.widget-view+json": {
       "model_id": "b987596f3cd94c8a8af8fe5e33e35145",
       "version_major": 2,
       "version_minor": 0
      },
      "text/plain": [
       "HBox(children=(IntProgress(value=0, description='Training iteration', max=34, style=ProgressStyle(description_…"
      ]
     },
     "metadata": {},
     "output_type": "display_data"
    },
    {
     "name": "stdout",
     "output_type": "stream",
     "text": [
      "\n"
     ]
    },
    {
     "data": {
      "application/vnd.jupyter.widget-view+json": {
       "model_id": "e487472d0af044e895f752eede996ea5",
       "version_major": 2,
       "version_minor": 0
      },
      "text/plain": [
       "HBox(children=(IntProgress(value=0, description='Evaluation iteration', max=7, style=ProgressStyle(description…"
      ]
     },
     "metadata": {},
     "output_type": "display_data"
    },
    {
     "name": "stdout",
     "output_type": "stream",
     "text": [
      "\n",
      "Loss history: [0.43140164017677307]\n",
      "Dev loss: 0.18801758544785635\n"
     ]
    },
    {
     "name": "stderr",
     "output_type": "stream",
     "text": [
      "\r",
      "Epoch:  10%|█         | 2/20 [00:16<02:24,  8.02s/it]"
     ]
    },
    {
     "data": {
      "application/vnd.jupyter.widget-view+json": {
       "model_id": "3ecd5b0e94df4c36be95460d37295887",
       "version_major": 2,
       "version_minor": 0
      },
      "text/plain": [
       "HBox(children=(IntProgress(value=0, description='Training iteration', max=34, style=ProgressStyle(description_…"
      ]
     },
     "metadata": {},
     "output_type": "display_data"
    },
    {
     "name": "stdout",
     "output_type": "stream",
     "text": [
      "\n"
     ]
    },
    {
     "data": {
      "application/vnd.jupyter.widget-view+json": {
       "model_id": "0909011c1a1d4575b78e7fb710b15aeb",
       "version_major": 2,
       "version_minor": 0
      },
      "text/plain": [
       "HBox(children=(IntProgress(value=0, description='Evaluation iteration', max=7, style=ProgressStyle(description…"
      ]
     },
     "metadata": {},
     "output_type": "display_data"
    },
    {
     "name": "stdout",
     "output_type": "stream",
     "text": [
      "\n",
      "Loss history: [0.43140164017677307, 0.18801758544785635]\n",
      "Dev loss: 0.1581335493496486\n"
     ]
    },
    {
     "name": "stderr",
     "output_type": "stream",
     "text": [
      "\r",
      "Epoch:  15%|█▌        | 3/20 [00:24<02:16,  8.02s/it]"
     ]
    },
    {
     "data": {
      "application/vnd.jupyter.widget-view+json": {
       "model_id": "21d06193bf734682a541117095e5bd8a",
       "version_major": 2,
       "version_minor": 0
      },
      "text/plain": [
       "HBox(children=(IntProgress(value=0, description='Training iteration', max=34, style=ProgressStyle(description_…"
      ]
     },
     "metadata": {},
     "output_type": "display_data"
    },
    {
     "name": "stdout",
     "output_type": "stream",
     "text": [
      "\n"
     ]
    },
    {
     "data": {
      "application/vnd.jupyter.widget-view+json": {
       "model_id": "6c04cfc82a864b11960d6881e993b8f0",
       "version_major": 2,
       "version_minor": 0
      },
      "text/plain": [
       "HBox(children=(IntProgress(value=0, description='Evaluation iteration', max=7, style=ProgressStyle(description…"
      ]
     },
     "metadata": {},
     "output_type": "display_data"
    },
    {
     "name": "stdout",
     "output_type": "stream",
     "text": [
      "\n",
      "Loss history: [0.43140164017677307, 0.18801758544785635, 0.1581335493496486]\n",
      "Dev loss: 0.1475995991911207\n"
     ]
    },
    {
     "name": "stderr",
     "output_type": "stream",
     "text": [
      "\r",
      "Epoch:  20%|██        | 4/20 [00:32<02:08,  8.02s/it]"
     ]
    },
    {
     "data": {
      "application/vnd.jupyter.widget-view+json": {
       "model_id": "fece1da251ce4ff5b50c214cea9b09ec",
       "version_major": 2,
       "version_minor": 0
      },
      "text/plain": [
       "HBox(children=(IntProgress(value=0, description='Training iteration', max=34, style=ProgressStyle(description_…"
      ]
     },
     "metadata": {},
     "output_type": "display_data"
    },
    {
     "name": "stdout",
     "output_type": "stream",
     "text": [
      "\n"
     ]
    },
    {
     "data": {
      "application/vnd.jupyter.widget-view+json": {
       "model_id": "74204bf3e4614d9faac41afdde2df32a",
       "version_major": 2,
       "version_minor": 0
      },
      "text/plain": [
       "HBox(children=(IntProgress(value=0, description='Evaluation iteration', max=7, style=ProgressStyle(description…"
      ]
     },
     "metadata": {},
     "output_type": "display_data"
    },
    {
     "name": "stderr",
     "output_type": "stream",
     "text": [
      "\r",
      "Epoch:  25%|██▌       | 5/20 [00:39<01:58,  7.89s/it]"
     ]
    },
    {
     "name": "stdout",
     "output_type": "stream",
     "text": [
      "\n",
      "Loss history: [0.43140164017677307, 0.18801758544785635, 0.1581335493496486, 0.1475995991911207]\n",
      "Dev loss: 0.14863140668187821\n"
     ]
    },
    {
     "data": {
      "application/vnd.jupyter.widget-view+json": {
       "model_id": "591a44fc4ab942e7aba37e303de76fee",
       "version_major": 2,
       "version_minor": 0
      },
      "text/plain": [
       "HBox(children=(IntProgress(value=0, description='Training iteration', max=34, style=ProgressStyle(description_…"
      ]
     },
     "metadata": {},
     "output_type": "display_data"
    },
    {
     "name": "stdout",
     "output_type": "stream",
     "text": [
      "\n"
     ]
    },
    {
     "data": {
      "application/vnd.jupyter.widget-view+json": {
       "model_id": "adc929e42d0d4ba5b0af1b2078a1e982",
       "version_major": 2,
       "version_minor": 0
      },
      "text/plain": [
       "HBox(children=(IntProgress(value=0, description='Evaluation iteration', max=7, style=ProgressStyle(description…"
      ]
     },
     "metadata": {},
     "output_type": "display_data"
    },
    {
     "name": "stdout",
     "output_type": "stream",
     "text": [
      "\n",
      "Loss history: [0.43140164017677307, 0.18801758544785635, 0.1581335493496486, 0.1475995991911207, 0.14863140668187821]\n",
      "Dev loss: 0.14734354189464025\n"
     ]
    },
    {
     "name": "stderr",
     "output_type": "stream",
     "text": [
      "\r",
      "Epoch:  30%|███       | 6/20 [00:47<01:51,  7.93s/it]"
     ]
    },
    {
     "data": {
      "application/vnd.jupyter.widget-view+json": {
       "model_id": "ef7fad6e52344009b1e1f13423e89891",
       "version_major": 2,
       "version_minor": 0
      },
      "text/plain": [
       "HBox(children=(IntProgress(value=0, description='Training iteration', max=34, style=ProgressStyle(description_…"
      ]
     },
     "metadata": {},
     "output_type": "display_data"
    },
    {
     "name": "stdout",
     "output_type": "stream",
     "text": [
      "\n"
     ]
    },
    {
     "data": {
      "application/vnd.jupyter.widget-view+json": {
       "model_id": "faa3805ebb34468783bed09a5e1fe6da",
       "version_major": 2,
       "version_minor": 0
      },
      "text/plain": [
       "HBox(children=(IntProgress(value=0, description='Evaluation iteration', max=7, style=ProgressStyle(description…"
      ]
     },
     "metadata": {},
     "output_type": "display_data"
    },
    {
     "name": "stdout",
     "output_type": "stream",
     "text": [
      "\n",
      "Loss history: [0.43140164017677307, 0.18801758544785635, 0.1581335493496486, 0.1475995991911207, 0.14863140668187821, 0.14734354189464025]\n",
      "Dev loss: 0.14503530945096696\n"
     ]
    },
    {
     "name": "stderr",
     "output_type": "stream",
     "text": [
      "\r",
      "Epoch:  35%|███▌      | 7/20 [00:55<01:43,  7.96s/it]"
     ]
    },
    {
     "data": {
      "application/vnd.jupyter.widget-view+json": {
       "model_id": "cd855d896b154a6ba1f6ec6c8b75c101",
       "version_major": 2,
       "version_minor": 0
      },
      "text/plain": [
       "HBox(children=(IntProgress(value=0, description='Training iteration', max=34, style=ProgressStyle(description_…"
      ]
     },
     "metadata": {},
     "output_type": "display_data"
    },
    {
     "name": "stdout",
     "output_type": "stream",
     "text": [
      "\n"
     ]
    },
    {
     "data": {
      "application/vnd.jupyter.widget-view+json": {
       "model_id": "bafa53e482d54dac88bd00083cc11c94",
       "version_major": 2,
       "version_minor": 0
      },
      "text/plain": [
       "HBox(children=(IntProgress(value=0, description='Evaluation iteration', max=7, style=ProgressStyle(description…"
      ]
     },
     "metadata": {},
     "output_type": "display_data"
    },
    {
     "name": "stderr",
     "output_type": "stream",
     "text": [
      "\r",
      "Epoch:  40%|████      | 8/20 [01:03<01:34,  7.85s/it]"
     ]
    },
    {
     "name": "stdout",
     "output_type": "stream",
     "text": [
      "\n",
      "Loss history: [0.43140164017677307, 0.18801758544785635, 0.1581335493496486, 0.1475995991911207, 0.14863140668187821, 0.14734354189464025, 0.14503530945096696]\n",
      "Dev loss: 0.14658834040164948\n"
     ]
    },
    {
     "data": {
      "application/vnd.jupyter.widget-view+json": {
       "model_id": "bd51ff07291447d6a3a8d8c138f91468",
       "version_major": 2,
       "version_minor": 0
      },
      "text/plain": [
       "HBox(children=(IntProgress(value=0, description='Training iteration', max=34, style=ProgressStyle(description_…"
      ]
     },
     "metadata": {},
     "output_type": "display_data"
    },
    {
     "name": "stdout",
     "output_type": "stream",
     "text": [
      "\n"
     ]
    },
    {
     "data": {
      "application/vnd.jupyter.widget-view+json": {
       "model_id": "b816e9d18b544adcbbb5283d9c7cdfba",
       "version_major": 2,
       "version_minor": 0
      },
      "text/plain": [
       "HBox(children=(IntProgress(value=0, description='Evaluation iteration', max=7, style=ProgressStyle(description…"
      ]
     },
     "metadata": {},
     "output_type": "display_data"
    },
    {
     "name": "stdout",
     "output_type": "stream",
     "text": [
      "\n",
      "Loss history: [0.43140164017677307, 0.18801758544785635, 0.1581335493496486, 0.1475995991911207, 0.14863140668187821, 0.14734354189464025, 0.14503530945096696, 0.14658834040164948]\n",
      "Dev loss: 0.14301962618316924\n"
     ]
    },
    {
     "name": "stderr",
     "output_type": "stream",
     "text": [
      "\r",
      "Epoch:  45%|████▌     | 9/20 [01:11<01:26,  7.90s/it]"
     ]
    },
    {
     "data": {
      "application/vnd.jupyter.widget-view+json": {
       "model_id": "c8378e69ade147c0bcc2f36892507b32",
       "version_major": 2,
       "version_minor": 0
      },
      "text/plain": [
       "HBox(children=(IntProgress(value=0, description='Training iteration', max=34, style=ProgressStyle(description_…"
      ]
     },
     "metadata": {},
     "output_type": "display_data"
    },
    {
     "name": "stdout",
     "output_type": "stream",
     "text": [
      "\n"
     ]
    },
    {
     "data": {
      "application/vnd.jupyter.widget-view+json": {
       "model_id": "b1fb6dcdd72d4c2798f1322e451507a3",
       "version_major": 2,
       "version_minor": 0
      },
      "text/plain": [
       "HBox(children=(IntProgress(value=0, description='Evaluation iteration', max=7, style=ProgressStyle(description…"
      ]
     },
     "metadata": {},
     "output_type": "display_data"
    },
    {
     "name": "stderr",
     "output_type": "stream",
     "text": [
      "\r",
      "Epoch:  50%|█████     | 10/20 [01:18<01:18,  7.81s/it]"
     ]
    },
    {
     "name": "stdout",
     "output_type": "stream",
     "text": [
      "\n",
      "Loss history: [0.43140164017677307, 0.18801758544785635, 0.1581335493496486, 0.1475995991911207, 0.14863140668187821, 0.14734354189464025, 0.14503530945096696, 0.14658834040164948, 0.14301962618316924]\n",
      "Dev loss: 0.14673743822744914\n"
     ]
    },
    {
     "data": {
      "application/vnd.jupyter.widget-view+json": {
       "model_id": "69ab093114ab42cd9ba568747a470b51",
       "version_major": 2,
       "version_minor": 0
      },
      "text/plain": [
       "HBox(children=(IntProgress(value=0, description='Training iteration', max=34, style=ProgressStyle(description_…"
      ]
     },
     "metadata": {},
     "output_type": "display_data"
    },
    {
     "name": "stdout",
     "output_type": "stream",
     "text": [
      "\n"
     ]
    },
    {
     "data": {
      "application/vnd.jupyter.widget-view+json": {
       "model_id": "2dfb0766eac74f0fb8b7a2d0d21751ae",
       "version_major": 2,
       "version_minor": 0
      },
      "text/plain": [
       "HBox(children=(IntProgress(value=0, description='Evaluation iteration', max=7, style=ProgressStyle(description…"
      ]
     },
     "metadata": {},
     "output_type": "display_data"
    },
    {
     "name": "stderr",
     "output_type": "stream",
     "text": [
      "\r",
      "Epoch:  55%|█████▌    | 11/20 [01:26<01:09,  7.75s/it]"
     ]
    },
    {
     "name": "stdout",
     "output_type": "stream",
     "text": [
      "\n",
      "Loss history: [0.43140164017677307, 0.18801758544785635, 0.1581335493496486, 0.1475995991911207, 0.14863140668187821, 0.14734354189464025, 0.14503530945096696, 0.14658834040164948, 0.14301962618316924, 0.14673743822744914]\n",
      "Dev loss: 0.14552725425788335\n"
     ]
    },
    {
     "data": {
      "application/vnd.jupyter.widget-view+json": {
       "model_id": "561ebfe14a884891b06968e51792b0f9",
       "version_major": 2,
       "version_minor": 0
      },
      "text/plain": [
       "HBox(children=(IntProgress(value=0, description='Training iteration', max=34, style=ProgressStyle(description_…"
      ]
     },
     "metadata": {},
     "output_type": "display_data"
    },
    {
     "name": "stdout",
     "output_type": "stream",
     "text": [
      "\n"
     ]
    },
    {
     "data": {
      "application/vnd.jupyter.widget-view+json": {
       "model_id": "70e1b2cd206d45e597dfb51a3c8409de",
       "version_major": 2,
       "version_minor": 0
      },
      "text/plain": [
       "HBox(children=(IntProgress(value=0, description='Evaluation iteration', max=7, style=ProgressStyle(description…"
      ]
     },
     "metadata": {},
     "output_type": "display_data"
    },
    {
     "name": "stdout",
     "output_type": "stream",
     "text": [
      "\n",
      "Loss history: [0.43140164017677307, 0.18801758544785635, 0.1581335493496486, 0.1475995991911207, 0.14863140668187821, 0.14734354189464025, 0.14503530945096696, 0.14658834040164948, 0.14301962618316924, 0.14673743822744914, 0.14552725425788335]\n",
      "Dev loss: 0.14134574575083597\n"
     ]
    },
    {
     "name": "stderr",
     "output_type": "stream",
     "text": [
      "\r",
      "Epoch:  60%|██████    | 12/20 [01:34<01:02,  7.83s/it]"
     ]
    },
    {
     "data": {
      "application/vnd.jupyter.widget-view+json": {
       "model_id": "70e6a8c526d846e99113ca6eed0e4fc9",
       "version_major": 2,
       "version_minor": 0
      },
      "text/plain": [
       "HBox(children=(IntProgress(value=0, description='Training iteration', max=34, style=ProgressStyle(description_…"
      ]
     },
     "metadata": {},
     "output_type": "display_data"
    },
    {
     "name": "stdout",
     "output_type": "stream",
     "text": [
      "\n"
     ]
    },
    {
     "data": {
      "application/vnd.jupyter.widget-view+json": {
       "model_id": "edf7c87565ce441db613471ad28481ae",
       "version_major": 2,
       "version_minor": 0
      },
      "text/plain": [
       "HBox(children=(IntProgress(value=0, description='Evaluation iteration', max=7, style=ProgressStyle(description…"
      ]
     },
     "metadata": {},
     "output_type": "display_data"
    },
    {
     "name": "stderr",
     "output_type": "stream",
     "text": [
      "\r",
      "Epoch:  65%|██████▌   | 13/20 [01:42<00:54,  7.76s/it]"
     ]
    },
    {
     "name": "stdout",
     "output_type": "stream",
     "text": [
      "\n",
      "Loss history: [0.43140164017677307, 0.18801758544785635, 0.1581335493496486, 0.1475995991911207, 0.14863140668187821, 0.14734354189464025, 0.14503530945096696, 0.14658834040164948, 0.14301962618316924, 0.14673743822744914, 0.14552725425788335, 0.14134574575083597]\n",
      "Dev loss: 0.14213610759803227\n"
     ]
    },
    {
     "data": {
      "application/vnd.jupyter.widget-view+json": {
       "model_id": "1f2085665e534642a0b92888295490ed",
       "version_major": 2,
       "version_minor": 0
      },
      "text/plain": [
       "HBox(children=(IntProgress(value=0, description='Training iteration', max=34, style=ProgressStyle(description_…"
      ]
     },
     "metadata": {},
     "output_type": "display_data"
    },
    {
     "name": "stdout",
     "output_type": "stream",
     "text": [
      "\n"
     ]
    },
    {
     "data": {
      "application/vnd.jupyter.widget-view+json": {
       "model_id": "ae338185022742b0a3f2583c1f68ca1d",
       "version_major": 2,
       "version_minor": 0
      },
      "text/plain": [
       "HBox(children=(IntProgress(value=0, description='Evaluation iteration', max=7, style=ProgressStyle(description…"
      ]
     },
     "metadata": {},
     "output_type": "display_data"
    },
    {
     "name": "stderr",
     "output_type": "stream",
     "text": [
      "\r",
      "Epoch:  70%|███████   | 14/20 [01:49<00:46,  7.71s/it]"
     ]
    },
    {
     "name": "stdout",
     "output_type": "stream",
     "text": [
      "\n",
      "Loss history: [0.43140164017677307, 0.18801758544785635, 0.1581335493496486, 0.1475995991911207, 0.14863140668187821, 0.14734354189464025, 0.14503530945096696, 0.14658834040164948, 0.14301962618316924, 0.14673743822744914, 0.14552725425788335, 0.14134574575083597, 0.14213610759803227]\n",
      "Dev loss: 0.1422120417867388\n"
     ]
    },
    {
     "data": {
      "application/vnd.jupyter.widget-view+json": {
       "model_id": "5ddd8a8bf4f54c2eb631b75edabebd78",
       "version_major": 2,
       "version_minor": 0
      },
      "text/plain": [
       "HBox(children=(IntProgress(value=0, description='Training iteration', max=34, style=ProgressStyle(description_…"
      ]
     },
     "metadata": {},
     "output_type": "display_data"
    },
    {
     "name": "stdout",
     "output_type": "stream",
     "text": [
      "\n"
     ]
    },
    {
     "data": {
      "application/vnd.jupyter.widget-view+json": {
       "model_id": "d33a8c003fb046f7b1fbf32e0c1654a1",
       "version_major": 2,
       "version_minor": 0
      },
      "text/plain": [
       "HBox(children=(IntProgress(value=0, description='Evaluation iteration', max=7, style=ProgressStyle(description…"
      ]
     },
     "metadata": {},
     "output_type": "display_data"
    },
    {
     "name": "stderr",
     "output_type": "stream",
     "text": [
      "\r",
      "Epoch:  75%|███████▌  | 15/20 [01:57<00:38,  7.68s/it]"
     ]
    },
    {
     "name": "stdout",
     "output_type": "stream",
     "text": [
      "\n",
      "Loss history: [0.43140164017677307, 0.18801758544785635, 0.1581335493496486, 0.1475995991911207, 0.14863140668187821, 0.14734354189464025, 0.14503530945096696, 0.14658834040164948, 0.14301962618316924, 0.14673743822744914, 0.14552725425788335, 0.14134574575083597, 0.14213610759803227, 0.1422120417867388]\n",
      "Dev loss: 0.14397491674338067\n"
     ]
    },
    {
     "data": {
      "application/vnd.jupyter.widget-view+json": {
       "model_id": "9193dd62e4ca434f9b6eaeb2d2e046c5",
       "version_major": 2,
       "version_minor": 0
      },
      "text/plain": [
       "HBox(children=(IntProgress(value=0, description='Training iteration', max=34, style=ProgressStyle(description_…"
      ]
     },
     "metadata": {},
     "output_type": "display_data"
    },
    {
     "name": "stdout",
     "output_type": "stream",
     "text": [
      "\n"
     ]
    },
    {
     "data": {
      "application/vnd.jupyter.widget-view+json": {
       "model_id": "fff79f3796cf4adebd134328af4676d8",
       "version_major": 2,
       "version_minor": 0
      },
      "text/plain": [
       "HBox(children=(IntProgress(value=0, description='Evaluation iteration', max=7, style=ProgressStyle(description…"
      ]
     },
     "metadata": {},
     "output_type": "display_data"
    },
    {
     "name": "stderr",
     "output_type": "stream",
     "text": [
      "\r",
      "Epoch:  80%|████████  | 16/20 [02:04<00:30,  7.65s/it]"
     ]
    },
    {
     "name": "stdout",
     "output_type": "stream",
     "text": [
      "\n",
      "Loss history: [0.43140164017677307, 0.18801758544785635, 0.1581335493496486, 0.1475995991911207, 0.14863140668187821, 0.14734354189464025, 0.14503530945096696, 0.14658834040164948, 0.14301962618316924, 0.14673743822744914, 0.14552725425788335, 0.14134574575083597, 0.14213610759803227, 0.1422120417867388, 0.14397491674338067]\n",
      "Dev loss: 0.14508603300367082\n"
     ]
    },
    {
     "data": {
      "application/vnd.jupyter.widget-view+json": {
       "model_id": "033f1220c4b342ea9dfbb97326825d23",
       "version_major": 2,
       "version_minor": 0
      },
      "text/plain": [
       "HBox(children=(IntProgress(value=0, description='Training iteration', max=34, style=ProgressStyle(description_…"
      ]
     },
     "metadata": {},
     "output_type": "display_data"
    },
    {
     "name": "stdout",
     "output_type": "stream",
     "text": [
      "\n"
     ]
    },
    {
     "data": {
      "application/vnd.jupyter.widget-view+json": {
       "model_id": "3ccdd2c80ec34f7da3fe01abf3142665",
       "version_major": 2,
       "version_minor": 0
      },
      "text/plain": [
       "HBox(children=(IntProgress(value=0, description='Evaluation iteration', max=7, style=ProgressStyle(description…"
      ]
     },
     "metadata": {},
     "output_type": "display_data"
    },
    {
     "name": "stdout",
     "output_type": "stream",
     "text": [
      "\n",
      "Loss history: [0.43140164017677307, 0.18801758544785635, 0.1581335493496486, 0.1475995991911207, 0.14863140668187821, 0.14734354189464025, 0.14503530945096696, 0.14658834040164948, 0.14301962618316924, 0.14673743822744914, 0.14552725425788335, 0.14134574575083597, 0.14213610759803227, 0.1422120417867388, 0.14397491674338067, 0.14508603300367082]\n",
      "Dev loss: 0.14774679499013083\n",
      "No improvement on development set. Finish training.\n",
      "Loading model from /tmp/model.bin\n"
     ]
    },
    {
     "name": "stderr",
     "output_type": "stream",
     "text": [
      "I0327 11:08:05.829212 139890200905536 configuration_utils.py:256] loading configuration file https://s3.amazonaws.com/models.huggingface.co/bert/bert-base-uncased-config.json from cache at /home/yves/.cache/torch/transformers/4dad0251492946e18ac39290fcfe91b89d370fee250efe9521476438fe8ca185.8f56353af4a709bf5ff0fbc915d8f5b42bfff892cbb6ac98c3c45f481a03c685\n",
      "I0327 11:08:05.830833 139890200905536 configuration_utils.py:292] Model config BertConfig {\n",
      "  \"architectures\": [\n",
      "    \"BertForMaskedLM\"\n",
      "  ],\n",
      "  \"attention_probs_dropout_prob\": 0.1,\n",
      "  \"bos_token_id\": null,\n",
      "  \"do_sample\": false,\n",
      "  \"eos_token_ids\": null,\n",
      "  \"finetuning_task\": null,\n",
      "  \"hidden_act\": \"gelu\",\n",
      "  \"hidden_dropout_prob\": 0.1,\n",
      "  \"hidden_size\": 768,\n",
      "  \"id2label\": {\n",
      "    \"0\": \"LABEL_0\",\n",
      "    \"1\": \"LABEL_1\"\n",
      "  },\n",
      "  \"initializer_range\": 0.02,\n",
      "  \"intermediate_size\": 3072,\n",
      "  \"is_decoder\": false,\n",
      "  \"label2id\": {\n",
      "    \"LABEL_0\": 0,\n",
      "    \"LABEL_1\": 1\n",
      "  },\n",
      "  \"layer_norm_eps\": 1e-12,\n",
      "  \"length_penalty\": 1.0,\n",
      "  \"max_length\": 20,\n",
      "  \"max_position_embeddings\": 512,\n",
      "  \"model_type\": \"bert\",\n",
      "  \"num_attention_heads\": 12,\n",
      "  \"num_beams\": 1,\n",
      "  \"num_hidden_layers\": 12,\n",
      "  \"num_labels\": 15,\n",
      "  \"num_return_sequences\": 1,\n",
      "  \"output_attentions\": false,\n",
      "  \"output_hidden_states\": false,\n",
      "  \"output_past\": true,\n",
      "  \"pad_token_id\": null,\n",
      "  \"pruned_heads\": {},\n",
      "  \"repetition_penalty\": 1.0,\n",
      "  \"temperature\": 1.0,\n",
      "  \"top_k\": 50,\n",
      "  \"top_p\": 1.0,\n",
      "  \"torchscript\": false,\n",
      "  \"type_vocab_size\": 2,\n",
      "  \"use_bfloat16\": false,\n",
      "  \"vocab_size\": 30522\n",
      "}\n",
      "\n",
      "I0327 11:08:06.308757 139890200905536 modeling_utils.py:461] loading weights file https://s3.amazonaws.com/models.huggingface.co/bert/bert-base-uncased-pytorch_model.bin from cache at /home/yves/.cache/torch/transformers/aa1ef1aede4482d0dbcd4d52baad8ae300e60902e88fcb0bebdec09afd232066.36ca03ab34a1a5d5fa7bc3d03d55c4fa650fed07220e2eeebc06ce58d0e9a157\n"
     ]
    },
    {
     "data": {
      "application/vnd.jupyter.widget-view+json": {
       "model_id": "262771c1af2647ed9cfa2011bb4a56ef",
       "version_major": 2,
       "version_minor": 0
      },
      "text/plain": [
       "HBox(children=(IntProgress(value=0, description='Evaluation iteration', max=11, style=ProgressStyle(descriptio…"
      ]
     },
     "metadata": {},
     "output_type": "display_data"
    },
    {
     "name": "stdout",
     "output_type": "stream",
     "text": [
      "\n",
      "Data size: 163\n",
      "P: 114 / 128 = 0.890625\n",
      "R: 114 / 166 = 0.6867469879518072\n",
      "F: 0.7755102040816326\n",
      "A: 0.6932515337423313\n",
      "AL1: 0.6993865030674846\n",
      "Train size: 544\n",
      "Final train dataloader length: 34\n"
     ]
    },
    {
     "name": "stderr",
     "output_type": "stream",
     "text": [
      "I0327 11:08:12.357987 139890200905536 configuration_utils.py:256] loading configuration file https://s3.amazonaws.com/models.huggingface.co/bert/bert-base-uncased-config.json from cache at /home/yves/.cache/torch/transformers/4dad0251492946e18ac39290fcfe91b89d370fee250efe9521476438fe8ca185.8f56353af4a709bf5ff0fbc915d8f5b42bfff892cbb6ac98c3c45f481a03c685\n",
      "I0327 11:08:12.359536 139890200905536 configuration_utils.py:292] Model config BertConfig {\n",
      "  \"architectures\": [\n",
      "    \"BertForMaskedLM\"\n",
      "  ],\n",
      "  \"attention_probs_dropout_prob\": 0.1,\n",
      "  \"bos_token_id\": null,\n",
      "  \"do_sample\": false,\n",
      "  \"eos_token_ids\": null,\n",
      "  \"finetuning_task\": null,\n",
      "  \"hidden_act\": \"gelu\",\n",
      "  \"hidden_dropout_prob\": 0.1,\n",
      "  \"hidden_size\": 768,\n",
      "  \"id2label\": {\n",
      "    \"0\": \"LABEL_0\",\n",
      "    \"1\": \"LABEL_1\"\n",
      "  },\n",
      "  \"initializer_range\": 0.02,\n",
      "  \"intermediate_size\": 3072,\n",
      "  \"is_decoder\": false,\n",
      "  \"label2id\": {\n",
      "    \"LABEL_0\": 0,\n",
      "    \"LABEL_1\": 1\n",
      "  },\n",
      "  \"layer_norm_eps\": 1e-12,\n",
      "  \"length_penalty\": 1.0,\n",
      "  \"max_length\": 20,\n",
      "  \"max_position_embeddings\": 512,\n",
      "  \"model_type\": \"bert\",\n",
      "  \"num_attention_heads\": 12,\n",
      "  \"num_beams\": 1,\n",
      "  \"num_hidden_layers\": 12,\n",
      "  \"num_labels\": 15,\n",
      "  \"num_return_sequences\": 1,\n",
      "  \"output_attentions\": false,\n",
      "  \"output_hidden_states\": false,\n",
      "  \"output_past\": true,\n",
      "  \"pad_token_id\": null,\n",
      "  \"pruned_heads\": {},\n",
      "  \"repetition_penalty\": 1.0,\n",
      "  \"temperature\": 1.0,\n",
      "  \"top_k\": 50,\n",
      "  \"top_p\": 1.0,\n",
      "  \"torchscript\": false,\n",
      "  \"type_vocab_size\": 2,\n",
      "  \"use_bfloat16\": false,\n",
      "  \"vocab_size\": 30522\n",
      "}\n",
      "\n",
      "I0327 11:08:12.833635 139890200905536 modeling_utils.py:461] loading weights file https://s3.amazonaws.com/models.huggingface.co/bert/bert-base-uncased-pytorch_model.bin from cache at /home/yves/.cache/torch/transformers/aa1ef1aede4482d0dbcd4d52baad8ae300e60902e88fcb0bebdec09afd232066.36ca03ab34a1a5d5fa7bc3d03d55c4fa650fed07220e2eeebc06ce58d0e9a157\n",
      "I0327 11:08:14.436530 139890200905536 modeling_utils.py:546] Weights of BertForMultiLabelSequenceClassification not initialized from pretrained model: ['classifier.weight', 'classifier.bias']\n",
      "I0327 11:08:14.437262 139890200905536 modeling_utils.py:552] Weights from pretrained model not used in BertForMultiLabelSequenceClassification: ['cls.predictions.bias', 'cls.predictions.transform.dense.weight', 'cls.predictions.transform.dense.bias', 'cls.predictions.decoder.weight', 'cls.seq_relationship.weight', 'cls.seq_relationship.bias', 'cls.predictions.transform.LayerNorm.weight', 'cls.predictions.transform.LayerNorm.bias']\n",
      "\n",
      "Epoch:   0%|          | 0/20 [00:00<?, ?it/s]\u001b[A"
     ]
    },
    {
     "data": {
      "application/vnd.jupyter.widget-view+json": {
       "model_id": "65187c0206f24baa9f51c2fdc997075d",
       "version_major": 2,
       "version_minor": 0
      },
      "text/plain": [
       "HBox(children=(IntProgress(value=0, description='Training iteration', max=34, style=ProgressStyle(description_…"
      ]
     },
     "metadata": {},
     "output_type": "display_data"
    },
    {
     "name": "stdout",
     "output_type": "stream",
     "text": [
      "\n"
     ]
    },
    {
     "data": {
      "application/vnd.jupyter.widget-view+json": {
       "model_id": "52e92296e8f44cb9a7ab339dab6b7ef9",
       "version_major": 2,
       "version_minor": 0
      },
      "text/plain": [
       "HBox(children=(IntProgress(value=0, description='Evaluation iteration', max=7, style=ProgressStyle(description…"
      ]
     },
     "metadata": {},
     "output_type": "display_data"
    },
    {
     "name": "stdout",
     "output_type": "stream",
     "text": [
      "\n",
      "Loss history: []\n",
      "Dev loss: 0.39325827785900663\n"
     ]
    },
    {
     "name": "stderr",
     "output_type": "stream",
     "text": [
      "\n",
      "Epoch:   5%|▌         | 1/20 [00:08<02:33,  8.08s/it]\u001b[A"
     ]
    },
    {
     "data": {
      "application/vnd.jupyter.widget-view+json": {
       "model_id": "ffe6d58b8ef44c12bebc71cb90c15104",
       "version_major": 2,
       "version_minor": 0
      },
      "text/plain": [
       "HBox(children=(IntProgress(value=0, description='Training iteration', max=34, style=ProgressStyle(description_…"
      ]
     },
     "metadata": {},
     "output_type": "display_data"
    },
    {
     "name": "stdout",
     "output_type": "stream",
     "text": [
      "\n"
     ]
    },
    {
     "data": {
      "application/vnd.jupyter.widget-view+json": {
       "model_id": "9899ea05519c411baae48b056ca1103f",
       "version_major": 2,
       "version_minor": 0
      },
      "text/plain": [
       "HBox(children=(IntProgress(value=0, description='Evaluation iteration', max=7, style=ProgressStyle(description…"
      ]
     },
     "metadata": {},
     "output_type": "display_data"
    },
    {
     "name": "stdout",
     "output_type": "stream",
     "text": [
      "\n",
      "Loss history: [0.39325827785900663]\n",
      "Dev loss: 0.18791323261601584\n"
     ]
    },
    {
     "name": "stderr",
     "output_type": "stream",
     "text": [
      "\n",
      "Epoch:  10%|█         | 2/20 [00:16<02:25,  8.07s/it]\u001b[A"
     ]
    },
    {
     "data": {
      "application/vnd.jupyter.widget-view+json": {
       "model_id": "48ceb25806de45ea9f1e2de7ce758084",
       "version_major": 2,
       "version_minor": 0
      },
      "text/plain": [
       "HBox(children=(IntProgress(value=0, description='Training iteration', max=34, style=ProgressStyle(description_…"
      ]
     },
     "metadata": {},
     "output_type": "display_data"
    },
    {
     "name": "stdout",
     "output_type": "stream",
     "text": [
      "\n"
     ]
    },
    {
     "data": {
      "application/vnd.jupyter.widget-view+json": {
       "model_id": "e2ea447915164a60a9f0fabeb8903b13",
       "version_major": 2,
       "version_minor": 0
      },
      "text/plain": [
       "HBox(children=(IntProgress(value=0, description='Evaluation iteration', max=7, style=ProgressStyle(description…"
      ]
     },
     "metadata": {},
     "output_type": "display_data"
    },
    {
     "name": "stdout",
     "output_type": "stream",
     "text": [
      "\n",
      "Loss history: [0.39325827785900663, 0.18791323261601584]\n",
      "Dev loss: 0.15563569217920303\n"
     ]
    },
    {
     "name": "stderr",
     "output_type": "stream",
     "text": [
      "\n",
      "Epoch:  15%|█▌        | 3/20 [00:24<02:17,  8.07s/it]\u001b[A"
     ]
    },
    {
     "data": {
      "application/vnd.jupyter.widget-view+json": {
       "model_id": "08bae9ef9c3844e5990e0d96ee1b70c7",
       "version_major": 2,
       "version_minor": 0
      },
      "text/plain": [
       "HBox(children=(IntProgress(value=0, description='Training iteration', max=34, style=ProgressStyle(description_…"
      ]
     },
     "metadata": {},
     "output_type": "display_data"
    },
    {
     "name": "stdout",
     "output_type": "stream",
     "text": [
      "\n"
     ]
    },
    {
     "data": {
      "application/vnd.jupyter.widget-view+json": {
       "model_id": "c42af97889634c638f65ceaf4130a6cf",
       "version_major": 2,
       "version_minor": 0
      },
      "text/plain": [
       "HBox(children=(IntProgress(value=0, description='Evaluation iteration', max=7, style=ProgressStyle(description…"
      ]
     },
     "metadata": {},
     "output_type": "display_data"
    },
    {
     "name": "stdout",
     "output_type": "stream",
     "text": [
      "\n",
      "Loss history: [0.39325827785900663, 0.18791323261601584, 0.15563569217920303]\n",
      "Dev loss: 0.1474855499608176\n"
     ]
    },
    {
     "name": "stderr",
     "output_type": "stream",
     "text": [
      "\n",
      "Epoch:  20%|██        | 4/20 [00:32<02:09,  8.07s/it]\u001b[A"
     ]
    },
    {
     "data": {
      "application/vnd.jupyter.widget-view+json": {
       "model_id": "3036fd588fda47d1890ece59143bb082",
       "version_major": 2,
       "version_minor": 0
      },
      "text/plain": [
       "HBox(children=(IntProgress(value=0, description='Training iteration', max=34, style=ProgressStyle(description_…"
      ]
     },
     "metadata": {},
     "output_type": "display_data"
    },
    {
     "name": "stdout",
     "output_type": "stream",
     "text": [
      "\n"
     ]
    },
    {
     "data": {
      "application/vnd.jupyter.widget-view+json": {
       "model_id": "cd4bcf5504f64c89bd4bb6d035ecc198",
       "version_major": 2,
       "version_minor": 0
      },
      "text/plain": [
       "HBox(children=(IntProgress(value=0, description='Evaluation iteration', max=7, style=ProgressStyle(description…"
      ]
     },
     "metadata": {},
     "output_type": "display_data"
    },
    {
     "name": "stdout",
     "output_type": "stream",
     "text": [
      "\n",
      "Loss history: [0.39325827785900663, 0.18791323261601584, 0.15563569217920303, 0.1474855499608176]\n",
      "Dev loss: 0.14389065120901381\n"
     ]
    },
    {
     "name": "stderr",
     "output_type": "stream",
     "text": [
      "\n",
      "Epoch:  25%|██▌       | 5/20 [00:40<02:01,  8.07s/it]\u001b[A"
     ]
    },
    {
     "data": {
      "application/vnd.jupyter.widget-view+json": {
       "model_id": "351beef11aca48a586df11634f076dd4",
       "version_major": 2,
       "version_minor": 0
      },
      "text/plain": [
       "HBox(children=(IntProgress(value=0, description='Training iteration', max=34, style=ProgressStyle(description_…"
      ]
     },
     "metadata": {},
     "output_type": "display_data"
    },
    {
     "name": "stdout",
     "output_type": "stream",
     "text": [
      "\n"
     ]
    },
    {
     "data": {
      "application/vnd.jupyter.widget-view+json": {
       "model_id": "f8857fc613094c9ab496bebdf846063a",
       "version_major": 2,
       "version_minor": 0
      },
      "text/plain": [
       "HBox(children=(IntProgress(value=0, description='Evaluation iteration', max=7, style=ProgressStyle(description…"
      ]
     },
     "metadata": {},
     "output_type": "display_data"
    },
    {
     "name": "stdout",
     "output_type": "stream",
     "text": [
      "\n",
      "Loss history: [0.39325827785900663, 0.18791323261601584, 0.15563569217920303, 0.1474855499608176, 0.14389065120901381]\n",
      "Dev loss: 0.14038630894252233\n"
     ]
    },
    {
     "name": "stderr",
     "output_type": "stream",
     "text": [
      "\n",
      "Epoch:  30%|███       | 6/20 [00:48<01:53,  8.07s/it]\u001b[A"
     ]
    },
    {
     "data": {
      "application/vnd.jupyter.widget-view+json": {
       "model_id": "cb713fdbbb7c4cb29c44b7ce50ae02bf",
       "version_major": 2,
       "version_minor": 0
      },
      "text/plain": [
       "HBox(children=(IntProgress(value=0, description='Training iteration', max=34, style=ProgressStyle(description_…"
      ]
     },
     "metadata": {},
     "output_type": "display_data"
    },
    {
     "name": "stdout",
     "output_type": "stream",
     "text": [
      "\n"
     ]
    },
    {
     "data": {
      "application/vnd.jupyter.widget-view+json": {
       "model_id": "1b5bcdde550f42cc82dff86886eea3a6",
       "version_major": 2,
       "version_minor": 0
      },
      "text/plain": [
       "HBox(children=(IntProgress(value=0, description='Evaluation iteration', max=7, style=ProgressStyle(description…"
      ]
     },
     "metadata": {},
     "output_type": "display_data"
    },
    {
     "name": "stdout",
     "output_type": "stream",
     "text": [
      "\n",
      "Loss history: [0.39325827785900663, 0.18791323261601584, 0.15563569217920303, 0.1474855499608176, 0.14389065120901381, 0.14038630894252233]\n",
      "Dev loss: 0.13920522268329347\n"
     ]
    },
    {
     "name": "stderr",
     "output_type": "stream",
     "text": [
      "\n",
      "Epoch:  35%|███▌      | 7/20 [00:56<01:44,  8.07s/it]\u001b[A"
     ]
    },
    {
     "data": {
      "application/vnd.jupyter.widget-view+json": {
       "model_id": "728050eee3df4843a236a5a25a6fd4b4",
       "version_major": 2,
       "version_minor": 0
      },
      "text/plain": [
       "HBox(children=(IntProgress(value=0, description='Training iteration', max=34, style=ProgressStyle(description_…"
      ]
     },
     "metadata": {},
     "output_type": "display_data"
    },
    {
     "name": "stdout",
     "output_type": "stream",
     "text": [
      "\n"
     ]
    },
    {
     "data": {
      "application/vnd.jupyter.widget-view+json": {
       "model_id": "c2d099b13ca54db1b374f9e6f963f6eb",
       "version_major": 2,
       "version_minor": 0
      },
      "text/plain": [
       "HBox(children=(IntProgress(value=0, description='Evaluation iteration', max=7, style=ProgressStyle(description…"
      ]
     },
     "metadata": {},
     "output_type": "display_data"
    },
    {
     "name": "stderr",
     "output_type": "stream",
     "text": [
      "\n",
      "Epoch:  40%|████      | 8/20 [01:04<01:35,  7.93s/it]\u001b[A"
     ]
    },
    {
     "name": "stdout",
     "output_type": "stream",
     "text": [
      "\n",
      "Loss history: [0.39325827785900663, 0.18791323261601584, 0.15563569217920303, 0.1474855499608176, 0.14389065120901381, 0.14038630894252233, 0.13920522268329347]\n",
      "Dev loss: 0.14656069342579162\n"
     ]
    },
    {
     "data": {
      "application/vnd.jupyter.widget-view+json": {
       "model_id": "136d835a56a549429fbd1e1f465b9b21",
       "version_major": 2,
       "version_minor": 0
      },
      "text/plain": [
       "HBox(children=(IntProgress(value=0, description='Training iteration', max=34, style=ProgressStyle(description_…"
      ]
     },
     "metadata": {},
     "output_type": "display_data"
    },
    {
     "name": "stdout",
     "output_type": "stream",
     "text": [
      "\n"
     ]
    },
    {
     "data": {
      "application/vnd.jupyter.widget-view+json": {
       "model_id": "8b6fbd7bad1a4d8b8b012e8dfa7f0764",
       "version_major": 2,
       "version_minor": 0
      },
      "text/plain": [
       "HBox(children=(IntProgress(value=0, description='Evaluation iteration', max=7, style=ProgressStyle(description…"
      ]
     },
     "metadata": {},
     "output_type": "display_data"
    },
    {
     "name": "stderr",
     "output_type": "stream",
     "text": [
      "\n",
      "Epoch:  45%|████▌     | 9/20 [01:11<01:26,  7.83s/it]\u001b[A"
     ]
    },
    {
     "name": "stdout",
     "output_type": "stream",
     "text": [
      "\n",
      "Loss history: [0.39325827785900663, 0.18791323261601584, 0.15563569217920303, 0.1474855499608176, 0.14389065120901381, 0.14038630894252233, 0.13920522268329347, 0.14656069342579162]\n",
      "Dev loss: 0.14048819137471064\n"
     ]
    },
    {
     "data": {
      "application/vnd.jupyter.widget-view+json": {
       "model_id": "123d507f115c4d56a7459b7d9d241f54",
       "version_major": 2,
       "version_minor": 0
      },
      "text/plain": [
       "HBox(children=(IntProgress(value=0, description='Training iteration', max=34, style=ProgressStyle(description_…"
      ]
     },
     "metadata": {},
     "output_type": "display_data"
    },
    {
     "name": "stdout",
     "output_type": "stream",
     "text": [
      "\n"
     ]
    },
    {
     "data": {
      "application/vnd.jupyter.widget-view+json": {
       "model_id": "653d867f984e4184b6ef73c5ce7b92eb",
       "version_major": 2,
       "version_minor": 0
      },
      "text/plain": [
       "HBox(children=(IntProgress(value=0, description='Evaluation iteration', max=7, style=ProgressStyle(description…"
      ]
     },
     "metadata": {},
     "output_type": "display_data"
    },
    {
     "name": "stdout",
     "output_type": "stream",
     "text": [
      "\n",
      "Loss history: [0.39325827785900663, 0.18791323261601584, 0.15563569217920303, 0.1474855499608176, 0.14389065120901381, 0.14038630894252233, 0.13920522268329347, 0.14656069342579162, 0.14048819137471064]\n",
      "Dev loss: 0.13845483107226236\n"
     ]
    },
    {
     "name": "stderr",
     "output_type": "stream",
     "text": [
      "\n",
      "Epoch:  50%|█████     | 10/20 [01:19<01:19,  7.91s/it]\u001b[A"
     ]
    },
    {
     "data": {
      "application/vnd.jupyter.widget-view+json": {
       "model_id": "c0aa8d251c3e4261b0c5ca0519eb98d7",
       "version_major": 2,
       "version_minor": 0
      },
      "text/plain": [
       "HBox(children=(IntProgress(value=0, description='Training iteration', max=34, style=ProgressStyle(description_…"
      ]
     },
     "metadata": {},
     "output_type": "display_data"
    },
    {
     "name": "stdout",
     "output_type": "stream",
     "text": [
      "\n"
     ]
    },
    {
     "data": {
      "application/vnd.jupyter.widget-view+json": {
       "model_id": "fb59209fd288462dbd206d48c9416aef",
       "version_major": 2,
       "version_minor": 0
      },
      "text/plain": [
       "HBox(children=(IntProgress(value=0, description='Evaluation iteration', max=7, style=ProgressStyle(description…"
      ]
     },
     "metadata": {},
     "output_type": "display_data"
    },
    {
     "name": "stdout",
     "output_type": "stream",
     "text": [
      "\n",
      "Loss history: [0.39325827785900663, 0.18791323261601584, 0.15563569217920303, 0.1474855499608176, 0.14389065120901381, 0.14038630894252233, 0.13920522268329347, 0.14656069342579162, 0.14048819137471064, 0.13845483107226236]\n",
      "Dev loss: 0.13454318791627884\n"
     ]
    },
    {
     "name": "stderr",
     "output_type": "stream",
     "text": [
      "\n",
      "Epoch:  55%|█████▌    | 11/20 [01:27<01:11,  7.96s/it]\u001b[A"
     ]
    },
    {
     "data": {
      "application/vnd.jupyter.widget-view+json": {
       "model_id": "6df7c09d3d2942a891c6a5900a64f1e1",
       "version_major": 2,
       "version_minor": 0
      },
      "text/plain": [
       "HBox(children=(IntProgress(value=0, description='Training iteration', max=34, style=ProgressStyle(description_…"
      ]
     },
     "metadata": {},
     "output_type": "display_data"
    },
    {
     "name": "stdout",
     "output_type": "stream",
     "text": [
      "\n"
     ]
    },
    {
     "data": {
      "application/vnd.jupyter.widget-view+json": {
       "model_id": "13720225923b4612817436a440ba6d6b",
       "version_major": 2,
       "version_minor": 0
      },
      "text/plain": [
       "HBox(children=(IntProgress(value=0, description='Evaluation iteration', max=7, style=ProgressStyle(description…"
      ]
     },
     "metadata": {},
     "output_type": "display_data"
    },
    {
     "name": "stderr",
     "output_type": "stream",
     "text": [
      "\n",
      "Epoch:  60%|██████    | 12/20 [01:35<01:02,  7.85s/it]\u001b[A"
     ]
    },
    {
     "name": "stdout",
     "output_type": "stream",
     "text": [
      "\n",
      "Loss history: [0.39325827785900663, 0.18791323261601584, 0.15563569217920303, 0.1474855499608176, 0.14389065120901381, 0.14038630894252233, 0.13920522268329347, 0.14656069342579162, 0.14048819137471064, 0.13845483107226236, 0.13454318791627884]\n",
      "Dev loss: 0.13492127720798766\n"
     ]
    },
    {
     "data": {
      "application/vnd.jupyter.widget-view+json": {
       "model_id": "d7d413250141478d9b5fbc96f9e411aa",
       "version_major": 2,
       "version_minor": 0
      },
      "text/plain": [
       "HBox(children=(IntProgress(value=0, description='Training iteration', max=34, style=ProgressStyle(description_…"
      ]
     },
     "metadata": {},
     "output_type": "display_data"
    },
    {
     "name": "stdout",
     "output_type": "stream",
     "text": [
      "\n"
     ]
    },
    {
     "data": {
      "application/vnd.jupyter.widget-view+json": {
       "model_id": "a054582e813b41929801906412612e0b",
       "version_major": 2,
       "version_minor": 0
      },
      "text/plain": [
       "HBox(children=(IntProgress(value=0, description='Evaluation iteration', max=7, style=ProgressStyle(description…"
      ]
     },
     "metadata": {},
     "output_type": "display_data"
    },
    {
     "name": "stderr",
     "output_type": "stream",
     "text": [
      "\n",
      "Epoch:  65%|██████▌   | 13/20 [01:43<00:54,  7.77s/it]\u001b[A"
     ]
    },
    {
     "name": "stdout",
     "output_type": "stream",
     "text": [
      "\n",
      "Loss history: [0.39325827785900663, 0.18791323261601584, 0.15563569217920303, 0.1474855499608176, 0.14389065120901381, 0.14038630894252233, 0.13920522268329347, 0.14656069342579162, 0.14048819137471064, 0.13845483107226236, 0.13454318791627884, 0.13492127720798766]\n",
      "Dev loss: 0.138912205185209\n"
     ]
    },
    {
     "data": {
      "application/vnd.jupyter.widget-view+json": {
       "model_id": "8f98b59046fc45aaa8ea846b5d5a56a1",
       "version_major": 2,
       "version_minor": 0
      },
      "text/plain": [
       "HBox(children=(IntProgress(value=0, description='Training iteration', max=34, style=ProgressStyle(description_…"
      ]
     },
     "metadata": {},
     "output_type": "display_data"
    },
    {
     "name": "stdout",
     "output_type": "stream",
     "text": [
      "\n"
     ]
    },
    {
     "data": {
      "application/vnd.jupyter.widget-view+json": {
       "model_id": "e045ce40b26d4e5fb18e76a04bc855ff",
       "version_major": 2,
       "version_minor": 0
      },
      "text/plain": [
       "HBox(children=(IntProgress(value=0, description='Evaluation iteration', max=7, style=ProgressStyle(description…"
      ]
     },
     "metadata": {},
     "output_type": "display_data"
    },
    {
     "name": "stderr",
     "output_type": "stream",
     "text": [
      "\n",
      "Epoch:  70%|███████   | 14/20 [01:50<00:46,  7.72s/it]\u001b[A"
     ]
    },
    {
     "name": "stdout",
     "output_type": "stream",
     "text": [
      "\n",
      "Loss history: [0.39325827785900663, 0.18791323261601584, 0.15563569217920303, 0.1474855499608176, 0.14389065120901381, 0.14038630894252233, 0.13920522268329347, 0.14656069342579162, 0.14048819137471064, 0.13845483107226236, 0.13454318791627884, 0.13492127720798766, 0.138912205185209]\n",
      "Dev loss: 0.1376958585211209\n"
     ]
    },
    {
     "data": {
      "application/vnd.jupyter.widget-view+json": {
       "model_id": "7b3b8ef0e253409da0664f663f488382",
       "version_major": 2,
       "version_minor": 0
      },
      "text/plain": [
       "HBox(children=(IntProgress(value=0, description='Training iteration', max=34, style=ProgressStyle(description_…"
      ]
     },
     "metadata": {},
     "output_type": "display_data"
    },
    {
     "name": "stdout",
     "output_type": "stream",
     "text": [
      "\n"
     ]
    },
    {
     "data": {
      "application/vnd.jupyter.widget-view+json": {
       "model_id": "469fb5608ba4408ea08edefd679cdbf0",
       "version_major": 2,
       "version_minor": 0
      },
      "text/plain": [
       "HBox(children=(IntProgress(value=0, description='Evaluation iteration', max=7, style=ProgressStyle(description…"
      ]
     },
     "metadata": {},
     "output_type": "display_data"
    },
    {
     "name": "stderr",
     "output_type": "stream",
     "text": [
      "\n",
      "Epoch:  75%|███████▌  | 15/20 [01:58<00:38,  7.68s/it]\u001b[A"
     ]
    },
    {
     "name": "stdout",
     "output_type": "stream",
     "text": [
      "\n",
      "Loss history: [0.39325827785900663, 0.18791323261601584, 0.15563569217920303, 0.1474855499608176, 0.14389065120901381, 0.14038630894252233, 0.13920522268329347, 0.14656069342579162, 0.14048819137471064, 0.13845483107226236, 0.13454318791627884, 0.13492127720798766, 0.138912205185209, 0.1376958585211209]\n",
      "Dev loss: 0.13858983985015325\n"
     ]
    },
    {
     "data": {
      "application/vnd.jupyter.widget-view+json": {
       "model_id": "69ac6a5075324d0c8fce648b7aadea97",
       "version_major": 2,
       "version_minor": 0
      },
      "text/plain": [
       "HBox(children=(IntProgress(value=0, description='Training iteration', max=34, style=ProgressStyle(description_…"
      ]
     },
     "metadata": {},
     "output_type": "display_data"
    },
    {
     "name": "stdout",
     "output_type": "stream",
     "text": [
      "\n"
     ]
    },
    {
     "data": {
      "application/vnd.jupyter.widget-view+json": {
       "model_id": "449310c0f71e4e10b946c551eff53da2",
       "version_major": 2,
       "version_minor": 0
      },
      "text/plain": [
       "HBox(children=(IntProgress(value=0, description='Evaluation iteration', max=7, style=ProgressStyle(description…"
      ]
     },
     "metadata": {},
     "output_type": "display_data"
    },
    {
     "name": "stdout",
     "output_type": "stream",
     "text": [
      "\n",
      "Loss history: [0.39325827785900663, 0.18791323261601584, 0.15563569217920303, 0.1474855499608176, 0.14389065120901381, 0.14038630894252233, 0.13920522268329347, 0.14656069342579162, 0.14048819137471064, 0.13845483107226236, 0.13454318791627884, 0.13492127720798766, 0.138912205185209, 0.1376958585211209, 0.13858983985015325]\n",
      "Dev loss: 0.14103308799011366\n",
      "No improvement on development set. Finish training.\n",
      "Loading model from /tmp/model.bin\n"
     ]
    },
    {
     "name": "stderr",
     "output_type": "stream",
     "text": [
      "I0327 11:10:20.907404 139890200905536 configuration_utils.py:256] loading configuration file https://s3.amazonaws.com/models.huggingface.co/bert/bert-base-uncased-config.json from cache at /home/yves/.cache/torch/transformers/4dad0251492946e18ac39290fcfe91b89d370fee250efe9521476438fe8ca185.8f56353af4a709bf5ff0fbc915d8f5b42bfff892cbb6ac98c3c45f481a03c685\n",
      "I0327 11:10:20.908684 139890200905536 configuration_utils.py:292] Model config BertConfig {\n",
      "  \"architectures\": [\n",
      "    \"BertForMaskedLM\"\n",
      "  ],\n",
      "  \"attention_probs_dropout_prob\": 0.1,\n",
      "  \"bos_token_id\": null,\n",
      "  \"do_sample\": false,\n",
      "  \"eos_token_ids\": null,\n",
      "  \"finetuning_task\": null,\n",
      "  \"hidden_act\": \"gelu\",\n",
      "  \"hidden_dropout_prob\": 0.1,\n",
      "  \"hidden_size\": 768,\n",
      "  \"id2label\": {\n",
      "    \"0\": \"LABEL_0\",\n",
      "    \"1\": \"LABEL_1\"\n",
      "  },\n",
      "  \"initializer_range\": 0.02,\n",
      "  \"intermediate_size\": 3072,\n",
      "  \"is_decoder\": false,\n",
      "  \"label2id\": {\n",
      "    \"LABEL_0\": 0,\n",
      "    \"LABEL_1\": 1\n",
      "  },\n",
      "  \"layer_norm_eps\": 1e-12,\n",
      "  \"length_penalty\": 1.0,\n",
      "  \"max_length\": 20,\n",
      "  \"max_position_embeddings\": 512,\n",
      "  \"model_type\": \"bert\",\n",
      "  \"num_attention_heads\": 12,\n",
      "  \"num_beams\": 1,\n",
      "  \"num_hidden_layers\": 12,\n",
      "  \"num_labels\": 15,\n",
      "  \"num_return_sequences\": 1,\n",
      "  \"output_attentions\": false,\n",
      "  \"output_hidden_states\": false,\n",
      "  \"output_past\": true,\n",
      "  \"pad_token_id\": null,\n",
      "  \"pruned_heads\": {},\n",
      "  \"repetition_penalty\": 1.0,\n",
      "  \"temperature\": 1.0,\n",
      "  \"top_k\": 50,\n",
      "  \"top_p\": 1.0,\n",
      "  \"torchscript\": false,\n",
      "  \"type_vocab_size\": 2,\n",
      "  \"use_bfloat16\": false,\n",
      "  \"vocab_size\": 30522\n",
      "}\n",
      "\n",
      "I0327 11:10:21.381657 139890200905536 modeling_utils.py:461] loading weights file https://s3.amazonaws.com/models.huggingface.co/bert/bert-base-uncased-pytorch_model.bin from cache at /home/yves/.cache/torch/transformers/aa1ef1aede4482d0dbcd4d52baad8ae300e60902e88fcb0bebdec09afd232066.36ca03ab34a1a5d5fa7bc3d03d55c4fa650fed07220e2eeebc06ce58d0e9a157\n"
     ]
    },
    {
     "data": {
      "application/vnd.jupyter.widget-view+json": {
       "model_id": "6f39c8aba044466ca506de6643b175d0",
       "version_major": 2,
       "version_minor": 0
      },
      "text/plain": [
       "HBox(children=(IntProgress(value=0, description='Evaluation iteration', max=11, style=ProgressStyle(descriptio…"
      ]
     },
     "metadata": {},
     "output_type": "display_data"
    },
    {
     "name": "stdout",
     "output_type": "stream",
     "text": [
      "\n",
      "Data size: 163\n",
      "P: 102 / 119 = 0.8571428571428571\n",
      "R: 102 / 167 = 0.6107784431137725\n",
      "F: 0.7132867132867133\n",
      "A: 0.6257668711656442\n",
      "AL1: 0.6257668711656442\n",
      "Train size: 544\n",
      "Final train dataloader length: 34\n"
     ]
    },
    {
     "name": "stderr",
     "output_type": "stream",
     "text": [
      "I0327 11:10:27.754284 139890200905536 configuration_utils.py:256] loading configuration file https://s3.amazonaws.com/models.huggingface.co/bert/bert-base-uncased-config.json from cache at /home/yves/.cache/torch/transformers/4dad0251492946e18ac39290fcfe91b89d370fee250efe9521476438fe8ca185.8f56353af4a709bf5ff0fbc915d8f5b42bfff892cbb6ac98c3c45f481a03c685\n",
      "I0327 11:10:27.755815 139890200905536 configuration_utils.py:292] Model config BertConfig {\n",
      "  \"architectures\": [\n",
      "    \"BertForMaskedLM\"\n",
      "  ],\n",
      "  \"attention_probs_dropout_prob\": 0.1,\n",
      "  \"bos_token_id\": null,\n",
      "  \"do_sample\": false,\n",
      "  \"eos_token_ids\": null,\n",
      "  \"finetuning_task\": null,\n",
      "  \"hidden_act\": \"gelu\",\n",
      "  \"hidden_dropout_prob\": 0.1,\n",
      "  \"hidden_size\": 768,\n",
      "  \"id2label\": {\n",
      "    \"0\": \"LABEL_0\",\n",
      "    \"1\": \"LABEL_1\"\n",
      "  },\n",
      "  \"initializer_range\": 0.02,\n",
      "  \"intermediate_size\": 3072,\n",
      "  \"is_decoder\": false,\n",
      "  \"label2id\": {\n",
      "    \"LABEL_0\": 0,\n",
      "    \"LABEL_1\": 1\n",
      "  },\n",
      "  \"layer_norm_eps\": 1e-12,\n",
      "  \"length_penalty\": 1.0,\n",
      "  \"max_length\": 20,\n",
      "  \"max_position_embeddings\": 512,\n",
      "  \"model_type\": \"bert\",\n",
      "  \"num_attention_heads\": 12,\n",
      "  \"num_beams\": 1,\n",
      "  \"num_hidden_layers\": 12,\n",
      "  \"num_labels\": 15,\n",
      "  \"num_return_sequences\": 1,\n",
      "  \"output_attentions\": false,\n",
      "  \"output_hidden_states\": false,\n",
      "  \"output_past\": true,\n",
      "  \"pad_token_id\": null,\n",
      "  \"pruned_heads\": {},\n",
      "  \"repetition_penalty\": 1.0,\n",
      "  \"temperature\": 1.0,\n",
      "  \"top_k\": 50,\n",
      "  \"top_p\": 1.0,\n",
      "  \"torchscript\": false,\n",
      "  \"type_vocab_size\": 2,\n",
      "  \"use_bfloat16\": false,\n",
      "  \"vocab_size\": 30522\n",
      "}\n",
      "\n",
      "I0327 11:10:28.213564 139890200905536 modeling_utils.py:461] loading weights file https://s3.amazonaws.com/models.huggingface.co/bert/bert-base-uncased-pytorch_model.bin from cache at /home/yves/.cache/torch/transformers/aa1ef1aede4482d0dbcd4d52baad8ae300e60902e88fcb0bebdec09afd232066.36ca03ab34a1a5d5fa7bc3d03d55c4fa650fed07220e2eeebc06ce58d0e9a157\n",
      "I0327 11:10:30.153545 139890200905536 modeling_utils.py:546] Weights of BertForMultiLabelSequenceClassification not initialized from pretrained model: ['classifier.weight', 'classifier.bias']\n",
      "I0327 11:10:30.154257 139890200905536 modeling_utils.py:552] Weights from pretrained model not used in BertForMultiLabelSequenceClassification: ['cls.predictions.bias', 'cls.predictions.transform.dense.weight', 'cls.predictions.transform.dense.bias', 'cls.predictions.decoder.weight', 'cls.seq_relationship.weight', 'cls.seq_relationship.bias', 'cls.predictions.transform.LayerNorm.weight', 'cls.predictions.transform.LayerNorm.bias']\n",
      "\n",
      "\n",
      "Epoch:   0%|          | 0/20 [00:00<?, ?it/s]\u001b[A\u001b[A"
     ]
    },
    {
     "data": {
      "application/vnd.jupyter.widget-view+json": {
       "model_id": "c0820c0d25d34792866301106a308ee9",
       "version_major": 2,
       "version_minor": 0
      },
      "text/plain": [
       "HBox(children=(IntProgress(value=0, description='Training iteration', max=34, style=ProgressStyle(description_…"
      ]
     },
     "metadata": {},
     "output_type": "display_data"
    },
    {
     "name": "stdout",
     "output_type": "stream",
     "text": [
      "\n"
     ]
    },
    {
     "data": {
      "application/vnd.jupyter.widget-view+json": {
       "model_id": "3b37f9042774424085fb11edd157e1c8",
       "version_major": 2,
       "version_minor": 0
      },
      "text/plain": [
       "HBox(children=(IntProgress(value=0, description='Evaluation iteration', max=7, style=ProgressStyle(description…"
      ]
     },
     "metadata": {},
     "output_type": "display_data"
    },
    {
     "name": "stdout",
     "output_type": "stream",
     "text": [
      "\n",
      "Loss history: []\n",
      "Dev loss: 0.4018698973315103\n"
     ]
    },
    {
     "name": "stderr",
     "output_type": "stream",
     "text": [
      "\n",
      "\n",
      "Epoch:   5%|▌         | 1/20 [00:08<02:32,  8.04s/it]\u001b[A\u001b[A"
     ]
    },
    {
     "data": {
      "application/vnd.jupyter.widget-view+json": {
       "model_id": "10cfedb84d644ddbabb23de8913db7bd",
       "version_major": 2,
       "version_minor": 0
      },
      "text/plain": [
       "HBox(children=(IntProgress(value=0, description='Training iteration', max=34, style=ProgressStyle(description_…"
      ]
     },
     "metadata": {},
     "output_type": "display_data"
    },
    {
     "name": "stdout",
     "output_type": "stream",
     "text": [
      "\n"
     ]
    },
    {
     "data": {
      "application/vnd.jupyter.widget-view+json": {
       "model_id": "b96c9df85b5e443d9d93d74771e32a79",
       "version_major": 2,
       "version_minor": 0
      },
      "text/plain": [
       "HBox(children=(IntProgress(value=0, description='Evaluation iteration', max=7, style=ProgressStyle(description…"
      ]
     },
     "metadata": {},
     "output_type": "display_data"
    },
    {
     "name": "stdout",
     "output_type": "stream",
     "text": [
      "\n",
      "Loss history: [0.4018698973315103]\n",
      "Dev loss: 0.20610932792936051\n"
     ]
    },
    {
     "name": "stderr",
     "output_type": "stream",
     "text": [
      "\n",
      "\n",
      "Epoch:  10%|█         | 2/20 [00:16<02:24,  8.03s/it]\u001b[A\u001b[A"
     ]
    },
    {
     "data": {
      "application/vnd.jupyter.widget-view+json": {
       "model_id": "c3aa4e6ddf7c4d92a6088700a9525488",
       "version_major": 2,
       "version_minor": 0
      },
      "text/plain": [
       "HBox(children=(IntProgress(value=0, description='Training iteration', max=34, style=ProgressStyle(description_…"
      ]
     },
     "metadata": {},
     "output_type": "display_data"
    },
    {
     "name": "stdout",
     "output_type": "stream",
     "text": [
      "\n"
     ]
    },
    {
     "data": {
      "application/vnd.jupyter.widget-view+json": {
       "model_id": "3bd0bb09602748768bd560dece1f645c",
       "version_major": 2,
       "version_minor": 0
      },
      "text/plain": [
       "HBox(children=(IntProgress(value=0, description='Evaluation iteration', max=7, style=ProgressStyle(description…"
      ]
     },
     "metadata": {},
     "output_type": "display_data"
    },
    {
     "name": "stdout",
     "output_type": "stream",
     "text": [
      "\n",
      "Loss history: [0.4018698973315103, 0.20610932792936051]\n",
      "Dev loss: 0.17019817658833095\n"
     ]
    },
    {
     "name": "stderr",
     "output_type": "stream",
     "text": [
      "\n",
      "\n",
      "Epoch:  15%|█▌        | 3/20 [00:24<02:16,  8.02s/it]\u001b[A\u001b[A"
     ]
    },
    {
     "data": {
      "application/vnd.jupyter.widget-view+json": {
       "model_id": "4265f0ded5e843628eac6d1b95b9a150",
       "version_major": 2,
       "version_minor": 0
      },
      "text/plain": [
       "HBox(children=(IntProgress(value=0, description='Training iteration', max=34, style=ProgressStyle(description_…"
      ]
     },
     "metadata": {},
     "output_type": "display_data"
    },
    {
     "name": "stdout",
     "output_type": "stream",
     "text": [
      "\n"
     ]
    },
    {
     "data": {
      "application/vnd.jupyter.widget-view+json": {
       "model_id": "63b66377558c4772ba92978e2e505e67",
       "version_major": 2,
       "version_minor": 0
      },
      "text/plain": [
       "HBox(children=(IntProgress(value=0, description='Evaluation iteration', max=7, style=ProgressStyle(description…"
      ]
     },
     "metadata": {},
     "output_type": "display_data"
    },
    {
     "name": "stdout",
     "output_type": "stream",
     "text": [
      "\n",
      "Loss history: [0.4018698973315103, 0.20610932792936051, 0.17019817658833095]\n",
      "Dev loss: 0.1632333674601146\n"
     ]
    },
    {
     "name": "stderr",
     "output_type": "stream",
     "text": [
      "\n",
      "\n",
      "Epoch:  20%|██        | 4/20 [00:32<02:08,  8.02s/it]\u001b[A\u001b[A"
     ]
    },
    {
     "data": {
      "application/vnd.jupyter.widget-view+json": {
       "model_id": "c240acf34de9463cb42d13bf2355dfa7",
       "version_major": 2,
       "version_minor": 0
      },
      "text/plain": [
       "HBox(children=(IntProgress(value=0, description='Training iteration', max=34, style=ProgressStyle(description_…"
      ]
     },
     "metadata": {},
     "output_type": "display_data"
    },
    {
     "name": "stdout",
     "output_type": "stream",
     "text": [
      "\n"
     ]
    },
    {
     "data": {
      "application/vnd.jupyter.widget-view+json": {
       "model_id": "ba3cfb3314ca49cc9a28633c81bf6a28",
       "version_major": 2,
       "version_minor": 0
      },
      "text/plain": [
       "HBox(children=(IntProgress(value=0, description='Evaluation iteration', max=7, style=ProgressStyle(description…"
      ]
     },
     "metadata": {},
     "output_type": "display_data"
    },
    {
     "name": "stdout",
     "output_type": "stream",
     "text": [
      "\n",
      "Loss history: [0.4018698973315103, 0.20610932792936051, 0.17019817658833095, 0.1632333674601146]\n",
      "Dev loss: 0.158241582768304\n"
     ]
    },
    {
     "name": "stderr",
     "output_type": "stream",
     "text": [
      "\n",
      "\n",
      "Epoch:  25%|██▌       | 5/20 [00:40<02:00,  8.02s/it]\u001b[A\u001b[A"
     ]
    },
    {
     "data": {
      "application/vnd.jupyter.widget-view+json": {
       "model_id": "2be3ecbf33434979911caff5cf30e635",
       "version_major": 2,
       "version_minor": 0
      },
      "text/plain": [
       "HBox(children=(IntProgress(value=0, description='Training iteration', max=34, style=ProgressStyle(description_…"
      ]
     },
     "metadata": {},
     "output_type": "display_data"
    },
    {
     "name": "stdout",
     "output_type": "stream",
     "text": [
      "\n"
     ]
    },
    {
     "data": {
      "application/vnd.jupyter.widget-view+json": {
       "model_id": "65321446c93a4b0e9d08d3c315b7f084",
       "version_major": 2,
       "version_minor": 0
      },
      "text/plain": [
       "HBox(children=(IntProgress(value=0, description='Evaluation iteration', max=7, style=ProgressStyle(description…"
      ]
     },
     "metadata": {},
     "output_type": "display_data"
    },
    {
     "name": "stdout",
     "output_type": "stream",
     "text": [
      "\n",
      "Loss history: [0.4018698973315103, 0.20610932792936051, 0.17019817658833095, 0.1632333674601146, 0.158241582768304]\n",
      "Dev loss: 0.15739339802946364\n"
     ]
    },
    {
     "name": "stderr",
     "output_type": "stream",
     "text": [
      "\n",
      "\n",
      "Epoch:  30%|███       | 6/20 [00:48<01:52,  8.02s/it]\u001b[A\u001b[A"
     ]
    },
    {
     "data": {
      "application/vnd.jupyter.widget-view+json": {
       "model_id": "95e504595ccd46cf82783bbf7e826a5f",
       "version_major": 2,
       "version_minor": 0
      },
      "text/plain": [
       "HBox(children=(IntProgress(value=0, description='Training iteration', max=34, style=ProgressStyle(description_…"
      ]
     },
     "metadata": {},
     "output_type": "display_data"
    },
    {
     "name": "stdout",
     "output_type": "stream",
     "text": [
      "\n"
     ]
    },
    {
     "data": {
      "application/vnd.jupyter.widget-view+json": {
       "model_id": "2e2cd9f2c26f4f9cb74b007378d6aeb9",
       "version_major": 2,
       "version_minor": 0
      },
      "text/plain": [
       "HBox(children=(IntProgress(value=0, description='Evaluation iteration', max=7, style=ProgressStyle(description…"
      ]
     },
     "metadata": {},
     "output_type": "display_data"
    },
    {
     "name": "stdout",
     "output_type": "stream",
     "text": [
      "\n",
      "Loss history: [0.4018698973315103, 0.20610932792936051, 0.17019817658833095, 0.1632333674601146, 0.158241582768304, 0.15739339802946364]\n",
      "Dev loss: 0.15474334252732141\n"
     ]
    },
    {
     "name": "stderr",
     "output_type": "stream",
     "text": [
      "\n",
      "\n",
      "Epoch:  35%|███▌      | 7/20 [00:56<01:44,  8.02s/it]\u001b[A\u001b[A"
     ]
    },
    {
     "data": {
      "application/vnd.jupyter.widget-view+json": {
       "model_id": "39eb7a42432c4545aeae2e896079eb62",
       "version_major": 2,
       "version_minor": 0
      },
      "text/plain": [
       "HBox(children=(IntProgress(value=0, description='Training iteration', max=34, style=ProgressStyle(description_…"
      ]
     },
     "metadata": {},
     "output_type": "display_data"
    },
    {
     "name": "stdout",
     "output_type": "stream",
     "text": [
      "\n"
     ]
    },
    {
     "data": {
      "application/vnd.jupyter.widget-view+json": {
       "model_id": "8b0d554525e246d39d8e2db3aafbb06d",
       "version_major": 2,
       "version_minor": 0
      },
      "text/plain": [
       "HBox(children=(IntProgress(value=0, description='Evaluation iteration', max=7, style=ProgressStyle(description…"
      ]
     },
     "metadata": {},
     "output_type": "display_data"
    },
    {
     "name": "stdout",
     "output_type": "stream",
     "text": [
      "\n",
      "Loss history: [0.4018698973315103, 0.20610932792936051, 0.17019817658833095, 0.1632333674601146, 0.158241582768304, 0.15739339802946364, 0.15474334252732141]\n",
      "Dev loss: 0.15025439326252257\n"
     ]
    },
    {
     "name": "stderr",
     "output_type": "stream",
     "text": [
      "\n",
      "\n",
      "Epoch:  40%|████      | 8/20 [01:04<01:36,  8.02s/it]\u001b[A\u001b[A"
     ]
    },
    {
     "data": {
      "application/vnd.jupyter.widget-view+json": {
       "model_id": "01bcc688980c463eab92a2c31168053c",
       "version_major": 2,
       "version_minor": 0
      },
      "text/plain": [
       "HBox(children=(IntProgress(value=0, description='Training iteration', max=34, style=ProgressStyle(description_…"
      ]
     },
     "metadata": {},
     "output_type": "display_data"
    },
    {
     "name": "stdout",
     "output_type": "stream",
     "text": [
      "\n"
     ]
    },
    {
     "data": {
      "application/vnd.jupyter.widget-view+json": {
       "model_id": "d6b6b7ce368348f28cf828348429ea3b",
       "version_major": 2,
       "version_minor": 0
      },
      "text/plain": [
       "HBox(children=(IntProgress(value=0, description='Evaluation iteration', max=7, style=ProgressStyle(description…"
      ]
     },
     "metadata": {},
     "output_type": "display_data"
    },
    {
     "name": "stderr",
     "output_type": "stream",
     "text": [
      "\n",
      "\n",
      "Epoch:  45%|████▌     | 9/20 [01:11<01:26,  7.90s/it]\u001b[A\u001b[A"
     ]
    },
    {
     "name": "stdout",
     "output_type": "stream",
     "text": [
      "\n",
      "Loss history: [0.4018698973315103, 0.20610932792936051, 0.17019817658833095, 0.1632333674601146, 0.158241582768304, 0.15739339802946364, 0.15474334252732141, 0.15025439326252257]\n",
      "Dev loss: 0.15668501066310064\n"
     ]
    },
    {
     "data": {
      "application/vnd.jupyter.widget-view+json": {
       "model_id": "a34849c8d2d745c8a793b9fd457901a9",
       "version_major": 2,
       "version_minor": 0
      },
      "text/plain": [
       "HBox(children=(IntProgress(value=0, description='Training iteration', max=34, style=ProgressStyle(description_…"
      ]
     },
     "metadata": {},
     "output_type": "display_data"
    },
    {
     "name": "stdout",
     "output_type": "stream",
     "text": [
      "\n"
     ]
    },
    {
     "data": {
      "application/vnd.jupyter.widget-view+json": {
       "model_id": "e49081cf753440ff9660db86adcbf53d",
       "version_major": 2,
       "version_minor": 0
      },
      "text/plain": [
       "HBox(children=(IntProgress(value=0, description='Evaluation iteration', max=7, style=ProgressStyle(description…"
      ]
     },
     "metadata": {},
     "output_type": "display_data"
    },
    {
     "name": "stderr",
     "output_type": "stream",
     "text": [
      "\n",
      "\n",
      "Epoch:  50%|█████     | 10/20 [01:19<01:18,  7.81s/it]\u001b[A\u001b[A"
     ]
    },
    {
     "name": "stdout",
     "output_type": "stream",
     "text": [
      "\n",
      "Loss history: [0.4018698973315103, 0.20610932792936051, 0.17019817658833095, 0.1632333674601146, 0.158241582768304, 0.15739339802946364, 0.15474334252732141, 0.15025439326252257, 0.15668501066310064]\n",
      "Dev loss: 0.16096518295151846\n"
     ]
    },
    {
     "data": {
      "application/vnd.jupyter.widget-view+json": {
       "model_id": "49202a25d1a046cca327b512fe1bc7b2",
       "version_major": 2,
       "version_minor": 0
      },
      "text/plain": [
       "HBox(children=(IntProgress(value=0, description='Training iteration', max=34, style=ProgressStyle(description_…"
      ]
     },
     "metadata": {},
     "output_type": "display_data"
    },
    {
     "name": "stdout",
     "output_type": "stream",
     "text": [
      "\n"
     ]
    },
    {
     "data": {
      "application/vnd.jupyter.widget-view+json": {
       "model_id": "25f4b48af10d4a9b90924385040e1970",
       "version_major": 2,
       "version_minor": 0
      },
      "text/plain": [
       "HBox(children=(IntProgress(value=0, description='Evaluation iteration', max=7, style=ProgressStyle(description…"
      ]
     },
     "metadata": {},
     "output_type": "display_data"
    },
    {
     "name": "stderr",
     "output_type": "stream",
     "text": [
      "\n",
      "\n",
      "Epoch:  55%|█████▌    | 11/20 [01:26<01:09,  7.74s/it]\u001b[A\u001b[A"
     ]
    },
    {
     "name": "stdout",
     "output_type": "stream",
     "text": [
      "\n",
      "Loss history: [0.4018698973315103, 0.20610932792936051, 0.17019817658833095, 0.1632333674601146, 0.158241582768304, 0.15739339802946364, 0.15474334252732141, 0.15025439326252257, 0.15668501066310064, 0.16096518295151846]\n",
      "Dev loss: 0.16030167468956538\n"
     ]
    },
    {
     "data": {
      "application/vnd.jupyter.widget-view+json": {
       "model_id": "4e3a57908e6b4ffe977f4c2ed46496b2",
       "version_major": 2,
       "version_minor": 0
      },
      "text/plain": [
       "HBox(children=(IntProgress(value=0, description='Training iteration', max=34, style=ProgressStyle(description_…"
      ]
     },
     "metadata": {},
     "output_type": "display_data"
    },
    {
     "name": "stdout",
     "output_type": "stream",
     "text": [
      "\n"
     ]
    },
    {
     "data": {
      "application/vnd.jupyter.widget-view+json": {
       "model_id": "ea3e96483ee749e89597ffb32ef8f358",
       "version_major": 2,
       "version_minor": 0
      },
      "text/plain": [
       "HBox(children=(IntProgress(value=0, description='Evaluation iteration', max=7, style=ProgressStyle(description…"
      ]
     },
     "metadata": {},
     "output_type": "display_data"
    },
    {
     "name": "stderr",
     "output_type": "stream",
     "text": [
      "\n",
      "\n",
      "Epoch:  60%|██████    | 12/20 [01:34<01:01,  7.70s/it]\u001b[A\u001b[A"
     ]
    },
    {
     "name": "stdout",
     "output_type": "stream",
     "text": [
      "\n",
      "Loss history: [0.4018698973315103, 0.20610932792936051, 0.17019817658833095, 0.1632333674601146, 0.158241582768304, 0.15739339802946364, 0.15474334252732141, 0.15025439326252257, 0.15668501066310064, 0.16096518295151846, 0.16030167468956538]\n",
      "Dev loss: 0.15496908447572164\n"
     ]
    },
    {
     "data": {
      "application/vnd.jupyter.widget-view+json": {
       "model_id": "f4b3dca3081a46c1b391688cbd0a69f2",
       "version_major": 2,
       "version_minor": 0
      },
      "text/plain": [
       "HBox(children=(IntProgress(value=0, description='Training iteration', max=34, style=ProgressStyle(description_…"
      ]
     },
     "metadata": {},
     "output_type": "display_data"
    },
    {
     "name": "stdout",
     "output_type": "stream",
     "text": [
      "\n"
     ]
    },
    {
     "data": {
      "application/vnd.jupyter.widget-view+json": {
       "model_id": "5d4de0a2d6184f3381414767e1f0ce11",
       "version_major": 2,
       "version_minor": 0
      },
      "text/plain": [
       "HBox(children=(IntProgress(value=0, description='Evaluation iteration', max=7, style=ProgressStyle(description…"
      ]
     },
     "metadata": {},
     "output_type": "display_data"
    },
    {
     "name": "stdout",
     "output_type": "stream",
     "text": [
      "\n",
      "Loss history: [0.4018698973315103, 0.20610932792936051, 0.17019817658833095, 0.1632333674601146, 0.158241582768304, 0.15739339802946364, 0.15474334252732141, 0.15025439326252257, 0.15668501066310064, 0.16096518295151846, 0.16030167468956538, 0.15496908447572164]\n",
      "Dev loss: 0.1591213888355664\n",
      "No improvement on development set. Finish training.\n",
      "Loading model from /tmp/model.bin\n"
     ]
    },
    {
     "name": "stderr",
     "output_type": "stream",
     "text": [
      "I0327 11:12:12.929546 139890200905536 configuration_utils.py:256] loading configuration file https://s3.amazonaws.com/models.huggingface.co/bert/bert-base-uncased-config.json from cache at /home/yves/.cache/torch/transformers/4dad0251492946e18ac39290fcfe91b89d370fee250efe9521476438fe8ca185.8f56353af4a709bf5ff0fbc915d8f5b42bfff892cbb6ac98c3c45f481a03c685\n",
      "I0327 11:12:12.930419 139890200905536 configuration_utils.py:292] Model config BertConfig {\n",
      "  \"architectures\": [\n",
      "    \"BertForMaskedLM\"\n",
      "  ],\n",
      "  \"attention_probs_dropout_prob\": 0.1,\n",
      "  \"bos_token_id\": null,\n",
      "  \"do_sample\": false,\n",
      "  \"eos_token_ids\": null,\n",
      "  \"finetuning_task\": null,\n",
      "  \"hidden_act\": \"gelu\",\n",
      "  \"hidden_dropout_prob\": 0.1,\n",
      "  \"hidden_size\": 768,\n",
      "  \"id2label\": {\n",
      "    \"0\": \"LABEL_0\",\n",
      "    \"1\": \"LABEL_1\"\n",
      "  },\n",
      "  \"initializer_range\": 0.02,\n",
      "  \"intermediate_size\": 3072,\n",
      "  \"is_decoder\": false,\n",
      "  \"label2id\": {\n",
      "    \"LABEL_0\": 0,\n",
      "    \"LABEL_1\": 1\n",
      "  },\n",
      "  \"layer_norm_eps\": 1e-12,\n",
      "  \"length_penalty\": 1.0,\n",
      "  \"max_length\": 20,\n",
      "  \"max_position_embeddings\": 512,\n",
      "  \"model_type\": \"bert\",\n",
      "  \"num_attention_heads\": 12,\n",
      "  \"num_beams\": 1,\n",
      "  \"num_hidden_layers\": 12,\n",
      "  \"num_labels\": 15,\n",
      "  \"num_return_sequences\": 1,\n",
      "  \"output_attentions\": false,\n",
      "  \"output_hidden_states\": false,\n",
      "  \"output_past\": true,\n",
      "  \"pad_token_id\": null,\n",
      "  \"pruned_heads\": {},\n",
      "  \"repetition_penalty\": 1.0,\n",
      "  \"temperature\": 1.0,\n",
      "  \"top_k\": 50,\n",
      "  \"top_p\": 1.0,\n",
      "  \"torchscript\": false,\n",
      "  \"type_vocab_size\": 2,\n",
      "  \"use_bfloat16\": false,\n",
      "  \"vocab_size\": 30522\n",
      "}\n",
      "\n",
      "I0327 11:12:13.390812 139890200905536 modeling_utils.py:461] loading weights file https://s3.amazonaws.com/models.huggingface.co/bert/bert-base-uncased-pytorch_model.bin from cache at /home/yves/.cache/torch/transformers/aa1ef1aede4482d0dbcd4d52baad8ae300e60902e88fcb0bebdec09afd232066.36ca03ab34a1a5d5fa7bc3d03d55c4fa650fed07220e2eeebc06ce58d0e9a157\n"
     ]
    },
    {
     "data": {
      "application/vnd.jupyter.widget-view+json": {
       "model_id": "5e227a9555fe4941b6f279b5e4f55033",
       "version_major": 2,
       "version_minor": 0
      },
      "text/plain": [
       "HBox(children=(IntProgress(value=0, description='Evaluation iteration', max=11, style=ProgressStyle(descriptio…"
      ]
     },
     "metadata": {},
     "output_type": "display_data"
    },
    {
     "name": "stdout",
     "output_type": "stream",
     "text": [
      "\n",
      "Data size: 163\n",
      "P: 115 / 134 = 0.8582089552238806\n",
      "R: 115 / 170 = 0.6764705882352942\n",
      "F: 0.7565789473684211\n",
      "A: 0.7055214723926381\n",
      "AL1: 0.7055214723926381\n"
     ]
    }
   ],
   "source": [
    "import torch\n",
    "\n",
    "from quillnlp.models.bert.train import train, evaluate\n",
    "from quillnlp.models.bert.models import get_multilabel_bert_classifier\n",
    "\n",
    "from quillnlp.models.bert.preprocessing import get_data_loader\n",
    "from sklearn.model_selection import KFold\n",
    "\n",
    "kf = KFold(n_splits=5, shuffle=True, random_state=1)\n",
    "all_correct, all_predicted = [], []\n",
    "all_test_data = []\n",
    "for train_idx, test_idx in kf.split(data_items):\n",
    "\n",
    "    train_and_dev_data = data_items[train_idx]\n",
    "    cutoff = int(len(train_and_dev_data)/6*5)\n",
    "    train_data = train_and_dev_data[:cutoff]\n",
    "    dev_data = train_and_dev_data[cutoff:]\n",
    "    test_data = data_items[test_idx]\n",
    "    \n",
    "    print(\"Train size:\", len(train_data))\n",
    "    \n",
    "    synth_data = []\n",
    "    for item in train_data:\n",
    "        synth_data.extend(synth_map.get(item.text, []))\n",
    "                \n",
    "    train_dataloader = get_data_loader(np.concatenate((train_data, synth_data)), BATCH_SIZE)\n",
    "    dev_dataloader = get_data_loader(dev_data, BATCH_SIZE)\n",
    "    test_dataloader = get_data_loader(test_data, BATCH_SIZE, shuffle=False)\n",
    "\n",
    "    print(\"Final train dataloader length:\", len(train_dataloader))\n",
    "    \n",
    "    device = \"cuda\" if torch.cuda.is_available() else \"cpu\"\n",
    "    model = get_multilabel_bert_classifier(BERT_MODEL, len(label2idx), device=device)\n",
    "    output_model_file = train(model, train_dataloader, dev_dataloader, BATCH_SIZE, GRADIENT_ACCUMULATION_STEPS, device)\n",
    "    \n",
    "    print(\"Loading model from\", output_model_file)\n",
    "    device=\"cpu\"\n",
    "\n",
    "    model = get_multilabel_bert_classifier(BERT_MODEL, len(label2idx), model_file=output_model_file, device=device)\n",
    "    model.eval()\n",
    "    \n",
    "    _, _, test_correct, test_predicted = evaluate(model, test_dataloader, device)\n",
    "    evaluate_output(test_correct, test_predicted)\n",
    "    all_correct.extend(test_correct)\n",
    "    all_predicted.extend(test_predicted)\n",
    "    all_test_data.extend(test_data)"
   ]
  },
  {
   "cell_type": "markdown",
   "metadata": {},
   "source": [
    "## Evaluation"
   ]
  },
  {
   "cell_type": "code",
   "execution_count": 6,
   "metadata": {},
   "outputs": [
    {
     "name": "stdout",
     "output_type": "stream",
     "text": [
      "Data size: 816\n",
      "P: 553 / 633 = 0.8736176935229067\n",
      "R: 553 / 850 = 0.6505882352941177\n",
      "F: 0.7457855697909643\n",
      "A: 0.6715686274509803\n",
      "AL1: 0.6776960784313726\n"
     ]
    }
   ],
   "source": [
    "evaluate_output(all_correct, all_predicted)"
   ]
  },
  {
   "cell_type": "code",
   "execution_count": 7,
   "metadata": {},
   "outputs": [
    {
     "name": "stdout",
     "output_type": "stream",
     "text": [
      "governments often misuse this law#Governments Can Abuse It/Dictatorships#\n",
      "it is something that could easily be corrupted and abused by certain governments.#Governments Can Abuse It/Dictatorships#Governments Can Abuse It/Dictatorships\n",
      ", sometimes the government abuses compulsory voting.#Governments Can Abuse It/Dictatorships#\n",
      "dictator-like governments can abuse it to support certain political groups.#Governments Can Abuse It/Dictatorships#Governments Can Abuse It/Dictatorships\n",
      "governments can also sometimes misuse it.#Governments Can Abuse It/Dictatorships#Governments Can Abuse It/Dictatorships\n",
      "governments can sometimes misuse it#Governments Can Abuse It/Dictatorships#Governments Can Abuse It/Dictatorships\n",
      "sometimes it can be misused by the government.#Governments Can Abuse It/Dictatorships#Governments Can Abuse It/Dictatorships\n",
      "this may cause hardships for voters who are not able to make it for good reasons#Negative Effects on Voter#\n",
      "voters may be given harsh consequences for failure to vote#Negative Effects on Voter#\n",
      "this may have adverse effects on voters#Negative Effects on Voter#\n",
      "Not all countries with compulsory voting enforce this law#Not All Governments Enforce It#\n",
      "not all countries with compulsory voting enforce this law.#Not All Governments Enforce It#\n",
      "not every country sees these laws through#Not All Governments Enforce It#\n",
      "not all countries with these laws make sure they are followed#Not All Governments Enforce It#\n",
      "not all governments go about enforcing these laws#Not All Governments Enforce It#\n",
      "governments can possibly misuse the practice, especially in the instance of North Korea, especially when there is no competition between the candidates.#Governments Can Abuse It/Dictatorships;North Korea/Dictatorships#Governments Can Abuse It/Dictatorships\n",
      "a dictatorship might abuse such a system by curtailing political competition. This is what happens in North Korea.#Governments Can Abuse It/Dictatorships;North Korea/Dictatorships#Governments Can Abuse It/Dictatorships\n",
      "sometimes governments punish people who don't vote by withholding their salary, as in the case of Crispin in Bolivia.#Negative Effects on Voter;Consequences/Bolivia#\n",
      "this may have adverse effects on voters such as being unable to access their salary, a consequence for not voting in Bolivia. #Negative Effects on Voter;Consequences/Bolivia#\n",
      "this could be seen as a violation of personal liberties.#Violation of Personal Liberty;Reference#\n",
      "it could be viewed as a violation of personal liberties and choices.#Violation of Personal Liberty;Reference#\n",
      "some believe compulsory voting violates personal liberties.#Violation of Personal Liberty;Reference#\n",
      "it should not be compusory#Answered Wrong Stem#Personal Opinion to Fact\n",
      "require eligible citizens to register#Answered Wrong Stem#Personal Opinion to Fact\n",
      "Complete the sentence by inserting a reason that supports the claim in the sentence starter.#Answered Wrong Stem#Personal Opinion to Fact\n",
      "need to be aware that there may be implications with enforcing the rule.#Clarify/Identify/Specify#Personal Opinion to Fact\n",
      "it could have some negative effects#Clarify/Identify/Specify#\n",
      "it could have consequences#Clarify/Identify/Specify#\n",
      "I agree that a lot of citizens aren't enthusiastic about voting, mostly people uninterested in politics and feel that their votes wouldn't do much.#Misuse of Conjunction#\n",
      "if the entire planet didn't vote who would we have as a leader?#Misuse of Conjunction#\n",
      "anonymous whoever they voted for.#Outside of Article's Scope#\n",
      "it may be challenging, as some workers cannot sacrifice hours of work to vote#Outside of Article's Scope#\n",
      "if you don't have the time that causes a big problem.#Outside of Article's Scope#Personal Opinion to Fact\n",
      "it does not advance the interests of the ruling class to have the lower classes vote.#Outside of Article's Scope#\n",
      "it should provide better access to polling locations.#Outside of Article's Scope#\n",
      "It would force those who don't like the candidates to vote for someone they don't believe in.#Outside of Article's Scope#Personal Opinion to Fact\n",
      "must also work to educate voters about the actual stances and policy preferences of the candidate.#Outside of Article's Scope#\n",
      "provide easier accessibility to voting poll locations.#Outside of Article's Scope#\n",
      "should also ensure that the public understands that their voting upholds our understanding of democracy and not dictatorship.#Outside of Article's Scope#Personal Opinion to Fact\n",
      "voting randomly is not the way to ensure the \"best\" person is elected.#Outside of Article's Scope#\n",
      "without flexibility on the timing for voting even though compulsory; persons might not be able to comply.#Outside of Article's Scope#Personal Opinion to Fact\n",
      "allow for clauses for unique situations that may make a citizen unable to make it on a certain day, such as an absentee ballet.#Personal Opinion to Fact#Personal Opinion to Fact\n",
      "also not penalize you if you do not.#Personal Opinion to Fact#Personal Opinion to Fact\n",
      "have laws the protect the people.#Personal Opinion to Fact#\n",
      "it needs to be regulated so the government doesn't take advantage.#Personal Opinion to Fact#\n",
      "make sure to have policies implemented to avoid misuse.#Personal Opinion to Fact#Personal Opinion to Fact\n",
      "many do because many people do not vote unless it is compulsory.#Personal Opinion to Fact#\n",
      "should imply some rules as to odd situations or circumstances to make sure all are complying and no backwards stuff is going on.#Personal Opinion to Fact#Personal Opinion to Fact\n",
      "should not highly penalize citizens for not working.#Personal Opinion to Fact#Personal Opinion to Fact\n",
      "those who have a good reason to miss an election should not be punished.#Personal Opinion to Fact#Personal Opinion to Fact\n",
      "accept valid and provable reasons when someone fails to make it to the poling station to cast their vote.#Personal Opinion to Fact#Personal Opinion to Fact\n",
      "allow exception to the rule.#Personal Opinion to Fact#Personal Opinion to Fact\n",
      "allow exceptions for good reasons.#Personal Opinion to Fact#Personal Opinion to Fact\n",
      "allow exceptions if justified.#Personal Opinion to Fact#Personal Opinion to Fact\n",
      "allow for reasons for people not participating.#Personal Opinion to Fact#Personal Opinion to Fact\n",
      "allow for those who have good reasons not to vote.#Personal Opinion to Fact#Personal Opinion to Fact\n",
      "allow opt outs and accept excuses in order to retain freedom of liberty.#Personal Opinion to Fact#Personal Opinion to Fact\n",
      "allow people to not vote if they have a good reason.#Personal Opinion to Fact#Personal Opinion to Fact\n",
      "allow reasonable situations to determine if voting is not possible within the time frame provided.#Personal Opinion to Fact#Personal Opinion to Fact\n",
      "allow some instances for people unable to make it to the polls for a given day.#Personal Opinion to Fact#Personal Opinion to Fact\n",
      "allow to not vote for good reasons.#Personal Opinion to Fact#Personal Opinion to Fact\n",
      "allow voter to skip if they have good reason to skip.#Personal Opinion to Fact#Personal Opinion to Fact\n",
      "Be understanding if someone is unable to make it to the polls#Personal Opinion to Fact#Personal Opinion to Fact\n",
      "be wary to have too harsh a punishment on someone who cannot vote, or that government will become much like a dictatorship.#Personal Opinion to Fact#Personal Opinion to Fact\n",
      "elections should always be legitimate and offer people choices between candidates.#Personal Opinion to Fact#Personal Opinion to Fact\n",
      "enforce the law with tolerance for voter circumstances that make voting difficult or impossible.#Personal Opinion to Fact#Personal Opinion to Fact\n",
      "establish laws that do not adversely punish people who are unable to vote for particular reasons.#Personal Opinion to Fact#Personal Opinion to Fact\n",
      "give excused absences for legit reasons.#Personal Opinion to Fact#Personal Opinion to Fact\n",
      "governments must not be allowed to abuse it.#Personal Opinion to Fact#Personal Opinion to Fact\n",
      "have an outlet for those who cannot get to the polls for legitimate reasons.#Personal Opinion to Fact#Personal Opinion to Fact\n",
      "have exceptions for people who are unable to if they are in the hospital, for instance.#Personal Opinion to Fact#Personal Opinion to Fact\n",
      "have exceptions for those who are unable to vote#Personal Opinion to Fact#Personal Opinion to Fact\n",
      "I do see how it can conflict between civil right and civil duty.#Personal Opinion to Fact#\n",
      "I don't think you should be find or punished if you have a good excuse.#Personal Opinion to Fact#Personal Opinion to Fact\n",
      "if a person has a good reason not to vote they should not be punished.#Personal Opinion to Fact#Personal Opinion to Fact\n",
      "if a potential voter has a very legitimate excuse to not participant like health, religion or otherwise than of course they should be allowed to not have to participate, not being interested should definitely not be a valid excuse.#Personal Opinion to Fact#Personal Opinion to Fact\n",
      "it is a violation of personal liberties and choices.#Personal Opinion to Fact#Personal Opinion to Fact\n",
      "it should be a civic right not civic duty.#Personal Opinion to Fact#Personal Opinion to Fact\n",
      "it shouldn’t be misused.#Personal Opinion to Fact#Personal Opinion to Fact\n",
      "limit it to unfair practices like no competition.#Personal Opinion to Fact#Personal Opinion to Fact\n",
      "make allowances for people unable to vote for a good reason.#Personal Opinion to Fact#Personal Opinion to Fact\n",
      "make exceptions for those who can't vote for legitimate reasons.#Personal Opinion to Fact#Personal Opinion to Fact\n",
      "make it ok not to vote if you have a good reason then there should be no punishment.#Personal Opinion to Fact#Personal Opinion to Fact\n",
      "make more than one person on the ballots .#Personal Opinion to Fact#Personal Opinion to Fact\n",
      "make sure there are choices on the ballot.#Personal Opinion to Fact#Personal Opinion to Fact\n",
      "make sure they don't misuse their power in doing so, and also ensure that the citizens votes are actually counted in the end result.#Personal Opinion to Fact#Personal Opinion to Fact\n",
      "must be monitored against it's abuses.#Personal Opinion to Fact#Personal Opinion to Fact\n",
      "must not abuse the system for their own gain.#Personal Opinion to Fact#Personal Opinion to Fact\n",
      "need to understand there a certain situations where a person can't vote.#Personal Opinion to Fact#Personal Opinion to Fact\n",
      "not abuse its authority.#Personal Opinion to Fact#Personal Opinion to Fact\n",
      "not if the person cannot make it to a voting station because of illness.#Personal Opinion to Fact#Personal Opinion to Fact\n",
      "not impose harsh punishments for individuals who do not vote.#Personal Opinion to Fact#Personal Opinion to Fact\n",
      "not misuse it#Personal Opinion to Fact#Personal Opinion to Fact\n",
      "not misuse it because then it resembles a dictatorship.#Personal Opinion to Fact#Personal Opinion to Fact\n",
      "not misuse it by not giving appropriate choices in candates.#Personal Opinion to Fact#Personal Opinion to Fact\n",
      "not necessarily impose punishment if a citizen can provide good reason for not voting, such as being in the hospital .#Personal Opinion to Fact#Personal Opinion to Fact\n",
      "not penalize constituents for abstaining.#Personal Opinion to Fact#Personal Opinion to Fact\n",
      "not penalize if there is a good reason that the person did not vote.#Personal Opinion to Fact#Personal Opinion to Fact\n",
      "not place any serious pumishments on the ones who do not vote.#Personal Opinion to Fact#Personal Opinion to Fact\n",
      "not punish a failure or refusal to vote if provided a valid reason, for example illness or a legitimate objection to the candidates.#Personal Opinion to Fact#Personal Opinion to Fact\n",
      "not punish the hard worker voters by not giving them their pay for two months and the punishments do infringe around a person's civic rights.#Personal Opinion to Fact#Personal Opinion to Fact\n",
      "not punish those who are unable to vote with good reason.#Personal Opinion to Fact#Personal Opinion to Fact\n",
      "not punish those who cannot make it to the polls.#Personal Opinion to Fact#Personal Opinion to Fact\n",
      "not punish those who do not choose to vote!#Personal Opinion to Fact#Personal Opinion to Fact\n",
      "not punishable if they do not vote.#Personal Opinion to Fact#Personal Opinion to Fact\n",
      "not strangle the voting process to the point where voters only have the illusion of choice#Personal Opinion to Fact#Personal Opinion to Fact\n",
      "not withhold payments or impose harsh penalties for failing to vote.#Personal Opinion to Fact#Personal Opinion to Fact\n",
      "not withhold wages for not complying.#Personal Opinion to Fact#Personal Opinion to Fact\n",
      "not without pay checks#Personal Opinion to Fact#Personal Opinion to Fact\n",
      "offer amnesty if a person can prove illness or other circumstance.#Personal Opinion to Fact#Personal Opinion to Fact\n",
      "only if it is the person is able to attend voting.#Personal Opinion to Fact#Personal Opinion to Fact\n",
      "prevent the punishment for not voting from becoming too extreme.#Personal Opinion to Fact#Personal Opinion to Fact\n",
      "provide the voters some sort of \"excuse\" so they are not punished when they cannot vote due to unforeseen circumstances out of their control.#Personal Opinion to Fact#Personal Opinion to Fact\n",
      "put in place exemptions for those who can not make it to the voting poll for good reasons.#Personal Opinion to Fact#Personal Opinion to Fact\n",
      "should allow citizens with legitimate excuses not to vote.#Personal Opinion to Fact#Personal Opinion to Fact\n",
      "should allow competition.#Personal Opinion to Fact#Personal Opinion to Fact\n",
      "should allow for exceptions based on defined criteria.#Personal Opinion to Fact#Personal Opinion to Fact\n",
      "should allow for exceptions like hospitalization.#Personal Opinion to Fact#Personal Opinion to Fact\n",
      "should allow for some exceptions such as if you are in the hospital.#Personal Opinion to Fact#Personal Opinion to Fact\n",
      "should allow people with extenuating circumstances to not be held accountable for missing a vote.#Personal Opinion to Fact#Personal Opinion to Fact\n",
      "should be understanding if something comes up or be given a good reason.#Personal Opinion to Fact#Personal Opinion to Fact\n",
      "should ensure that measures are taken to keep dictatorships from occurring.#Personal Opinion to Fact#Personal Opinion to Fact\n",
      "should have options for emergencies, illness, and have vote from home options for elderly and disabled and also they should have ballots for the legally blind.#Personal Opinion to Fact#Personal Opinion to Fact\n",
      "should make an exemption for those who cannot make it.#Personal Opinion to Fact#Personal Opinion to Fact\n",
      "should not harshly punish those who do not vote, especially if they have a good reason for not voting, such as being in the hospital.#Personal Opinion to Fact#Personal Opinion to Fact\n",
      "should not penalize a citizen for not voting.#Personal Opinion to Fact#Personal Opinion to Fact\n",
      "should not punish citizens if they fail to vote.#Personal Opinion to Fact#Personal Opinion to Fact\n",
      "should not punish those who are unable to vote when they provide a good reason.#Personal Opinion to Fact#Personal Opinion to Fact\n",
      "should provide fair competition on the ballot so that the citizen's votes have meaning.#Personal Opinion to Fact#Personal Opinion to Fact\n",
      "should refrain from using harsh penalties as a consequence.#Personal Opinion to Fact#Personal Opinion to Fact\n",
      "should show apathy for those that couldn't vote#Personal Opinion to Fact#Personal Opinion to Fact\n",
      "should take into account that life happens and there are times wherein people are unable to make it to the polls.#Personal Opinion to Fact#Personal Opinion to Fact\n",
      "that would be a violation of choices and personal liberty.#Personal Opinion to Fact#Personal Opinion to Fact\n",
      "the penalty for not voting should a little painful and not too harsh.#Personal Opinion to Fact#Personal Opinion to Fact\n",
      "the penalty for not voting should be relatively mild.#Personal Opinion to Fact#Personal Opinion to Fact\n",
      "the people need to keep their liberties and be able to do what they want.#Personal Opinion to Fact#Personal Opinion to Fact\n",
      "the punishment for not complying should be reasonable.#Personal Opinion to Fact#Personal Opinion to Fact\n",
      "there must be political competition, or more than one candidate on the ballot.#Personal Opinion to Fact#Personal Opinion to Fact\n",
      "there needs to be a variety of candidates so that the people actually get a choice in who they elect.#Personal Opinion to Fact#\n",
      "there should always be an exception for unforseen circumstances.#Personal Opinion to Fact#Personal Opinion to Fact\n",
      "there should be certain exceptions in place when people have a valid reason that they cannot vote.#Personal Opinion to Fact#Personal Opinion to Fact\n",
      "there should be exceptions in cases where individuals are unable to get to the voting polls for valid reasons (i.e. illness, transportation issue, work conflict).#Personal Opinion to Fact#Personal Opinion to Fact\n",
      "there should be exceptions made as to not be a dictatorship.#Personal Opinion to Fact#Personal Opinion to Fact\n",
      "there should be exceptions, because not everyone can easily vote.#Personal Opinion to Fact#Personal Opinion to Fact\n",
      "there should be exclusions if someone has a good excuse like being in the hospital or another good reason why they could not vote.#Personal Opinion to Fact#Personal Opinion to Fact\n",
      "there should be well defined exceptions for people that are unable to vote.#Personal Opinion to Fact#Personal Opinion to Fact\n",
      "they also have to enforce ideals of competition on the ballot.#Personal Opinion to Fact#Personal Opinion to Fact\n",
      "they need to be careful how far they take the compultion.#Personal Opinion to Fact#Personal Opinion to Fact\n",
      "they need to take into account reasons that a voter may not be able to make it to the polls like a hospitalization.#Personal Opinion to Fact#Personal Opinion to Fact\n",
      "they should ensure that an adequate selection of candidates is available so as to avoid dictatorial false claims of choice.#Personal Opinion to Fact#Personal Opinion to Fact\n",
      "they should have the ability to not vote if something important impedes their ability to.#Personal Opinion to Fact#Personal Opinion to Fact\n",
      "They should not affect people physically maybe you make it punishememt like a fine or something its shouldnt be to detrimental#Personal Opinion to Fact#Personal Opinion to Fact\n",
      "they should not violate the civil liberties of their constituency#Personal Opinion to Fact#Personal Opinion to Fact\n",
      "understand that individual cases must be examined.#Personal Opinion to Fact#Personal Opinion to Fact\n",
      "you cannot force someone to behave certain way#Personal Opinion to Fact#Personal Opinion to Fact\n",
      "it can infringe upon choice and freedom to not vote if one chooses not to.#Personal Opinion to Fact#Personal Opinion to Fact\n",
      "it could be a violation of personal liberties and choices.#Personal Opinion to Fact#\n",
      "some view it as violation to their personal liberties and choices.#Plagiarism#Governments Can Abuse It/Dictatorships\n",
      "election time.#Unintelligible Response#\n",
      "Compulsory voting is an effect of laws#Unintelligible Response#\n",
      "it on of personal liberties and choices.#Unintelligible Response#Personal Opinion to Fact\n",
      "do a more government job#Unintelligible Response#Personal Opinion to Fact\n",
      "let that be the deciding factor.#Unintelligible Response#Personal Opinion to Fact\n",
      "Some laws are created to merely state the government's position regarding what the citizen's responsibility should be Mandatory voting laws that do not include.#Unintelligible Response#\n",
      "a dictatorship might abuse such a system by curtailing political competition.#Governments Can Abuse It/Dictatorships#Governments Can Abuse It/Dictatorships\n",
      "it may later feel like a dictatorship because people may not like who is on the ballot.#Governments Can Abuse It/Dictatorships#\n",
      "some governments might misuse it sometimes.#Governments Can Abuse It/Dictatorships#Governments Can Abuse It/Dictatorships\n",
      "the government may misuse it.#Governments Can Abuse It/Dictatorships#Governments Can Abuse It/Dictatorships\n",
      "doing so doesn't ensure a democratic outcome, for example in cases where only one candidate is listed on the ballot by design.#Governments Can Abuse It/Dictatorships#\n",
      "governments can sometimes misuse it.#Governments Can Abuse It/Dictatorships#Governments Can Abuse It/Dictatorships\n",
      "in dictatorships no one else is allowed to compete against the single candidate.#Governments Can Abuse It/Dictatorships#Personal Opinion to Fact\n",
      "it can bring about dictatorship.#Governments Can Abuse It/Dictatorships#\n",
      "sometimes governments can misuse it#Governments Can Abuse It/Dictatorships#Governments Can Abuse It/Dictatorships\n",
      "when misused by the government does not allow for competition.#Governments Can Abuse It/Dictatorships#Personal Opinion to Fact\n",
      "sometimes it is misused and people can make choices without thinking if they are not into politics.#Governments Can Abuse It/Dictatorships#Personal Opinion to Fact\n",
      "penalizing people for not voting may be unfair due to the nature of life in today's world.#Negative Effects on Voter#\n",
      "not all countries follow the rule.#Not All Governments Enforce It#\n",
      "governments can sometimes misuse it, as it is obvious in some dictatorships, where there is only one, lone candidate on the ballot.#Governments Can Abuse It/Dictatorships;North Korea/Dictatorships#Governments Can Abuse It/Dictatorships\n",
      "it can be misused as in N. Korea where only one candidate is listed for Supreme Leader.#Governments Can Abuse It/Dictatorships;North Korea/Dictatorships#\n",
      "the government could misuse it by ways of not allowing political competition such as in some dictatorships.#Governments Can Abuse It/Dictatorships;North Korea/Dictatorships#Governments Can Abuse It/Dictatorships\n",
      "failure to accommodate those who are unable to vote can create circumstances where the most vulnerable are punished. For example, in Bolivia, Crispin's salary was frozen because he couldn't make it to the polls.#Negative Effects on Voter;Consequences/Bolivia#Governments Can Abuse It/Dictatorships\n",
      "it may cause people to be unjustly punished if they cannot as was the case in Bolivia where the government refused to allow citizens to obtain their salaries.#Negative Effects on Voter;Consequences/Bolivia#Governments Can Abuse It/Dictatorships\n",
      "it may be difficult for everyone to make it to the polls and the consequences are steep for those people such as having their salaries frozen as was the case in Bolivia.#Negative Effects on Voter;Consequences/Bolivia#\n",
      "can be seen as a violation of personal choices.#Violation of Personal Liberty;Reference#\n",
      "some are against that theory saying it is a violation of personal liberty.#Violation of Personal Liberty;Reference#\n",
      "some argue that voting should be considered a right and not a duty.#Violation of Personal Liberty;Reference#\n",
      "some believe it is a violation of personal beliefs and choices.#Violation of Personal Liberty;Reference#\n",
      "some believe that compulsory voting is a violation of personal liberties and choices.#Violation of Personal Liberty;Reference#\n",
      "some people think it violates an individuals choice.#Violation of Personal Liberty;Reference#\n",
      "some think it infringes on people's rights and liberties, and is a right, not a duty.#Violation of Personal Liberty;Reference#\n",
      "not make it mandatory, it might make people jaded#Answered Wrong Stem#Personal Opinion to Fact\n",
      "still make it possible for you to vote if you want to.#Answered Wrong Stem#Personal Opinion to Fact\n",
      "sometimes might have negative effect#Clarify/Identify/Specify#\n",
      "there could be downfalls.#Clarify/Identify/Specify#\n",
      "it could result in some bad situations#Clarify/Identify/Specify#\n",
      "it may have negative implications#Clarify/Identify/Specify#\n",
      "it can be misused and lead to dictatorships such as North Korea.#Evidences Needs More Context#\n",
      "the consequences might be severe like in Bolivia#Evidences Needs More Context#\n",
      "encourage voters participation#Misuse of Conjunction#\n",
      "only 50% people voted#Misuse of Conjunction#\n",
      "voting ensures that the elected government represents the majority of the population.#Misuse of Conjunction#\n",
      "also make sure everyone knows what the person they are voting for stands for#Outside of Article's Scope#\n",
      "should make sure they keep control.#Outside of Article's Scope#Personal Opinion to Fact\n",
      "there might the chances of fraud and non voting of all citizens#Outside of Article's Scope#\n",
      "there should be controls and safeguards in place to make sure the voting process is fair and every vote counts.#Outside of Article's Scope#Personal Opinion to Fact\n",
      "we are liberally#Outside of Article's Scope#\n",
      "exclude particular people from it like politicians.#Outside of Article's Scope#Personal Opinion to Fact\n",
      "give he people some rights#Outside of Article's Scope#\n",
      "it could also backfire due to a lot of people that don't pay attention to politics then are not well formed will make bad decisions.#Outside of Article's Scope#\n",
      "it could cause people to vote just to vote instead of voting for what they actually believe in#Outside of Article's Scope#\n",
      "it should ensure that all eligible voters can easily get to polling stations to vote.#Outside of Article's Scope#Outside of Article's Scope\n",
      "keep in mind that a citizen forced to vote might be resentful and not choose the best candidate.#Outside of Article's Scope#Personal Opinion to Fact\n",
      "need to also make sure that the list of nominees is representative of the people's interests.#Outside of Article's Scope#\n",
      "should provide a way for those who are unable to vote by going to a polling place a way to participate without having to visit a voting location.#Outside of Article's Scope#Outside of Article's Scope\n",
      "the day upon which voting falls should be 24 hours in length to maximize people's options and time to vote.#Outside of Article's Scope#Outside of Article's Scope\n",
      "they should give people an extended window of time in which to vote so they don't have to penalize people for not being able to vote on time.#Outside of Article's Scope#Personal Opinion to Fact\n",
      "be careful to make sure they don't misuse it like dictators do.#Personal Opinion to Fact#Personal Opinion to Fact\n",
      "it has never worked out honestly.#Personal Opinion to Fact#\n",
      "should be understanding of logically situations in peoples lives that don't allow it.#Personal Opinion to Fact#Personal Opinion to Fact\n",
      "a citizen should be excused from voting if they have a good reason (being in the hospital, for example).#Personal Opinion to Fact#Personal Opinion to Fact\n",
      "a good reason for not voting should be accepted.#Personal Opinion to Fact#Personal Opinion to Fact\n",
      "allow exceptions for those with reasonable excuses.#Personal Opinion to Fact#Personal Opinion to Fact\n",
      "allow for a failure to comply.#Personal Opinion to Fact#Personal Opinion to Fact\n",
      "allow for exemptions like in Australia.#Personal Opinion to Fact#Personal Opinion to Fact\n",
      "allow for extenuating circumstances if a citizen is unable to do so.#Personal Opinion to Fact#Personal Opinion to Fact\n",
      "allow for legitimate reasons for failure to comply,#Personal Opinion to Fact#Personal Opinion to Fact\n",
      "allow for reasonable explanations of an inability to vote.#Personal Opinion to Fact#Personal Opinion to Fact\n",
      "allow for voters with accepted excuses be dismissed.#Personal Opinion to Fact#Personal Opinion to Fact\n",
      "allow people with a good reason not to vote be excused.#Personal Opinion to Fact#Personal Opinion to Fact\n",
      "allow reasons why a person could not vote.#Personal Opinion to Fact#Personal Opinion to Fact\n",
      "allow that some people may not be able to vote for reasons beyond their control.#Personal Opinion to Fact#Personal Opinion to Fact\n",
      "also ensure that more than one candidate or party is on the ballot to ensure a democracy.#Personal Opinion to Fact#Personal Opinion to Fact\n",
      "ensure ample opportunity to cast vote and no punishment for valid reasons for not voting.#Personal Opinion to Fact#Personal Opinion to Fact\n",
      "ensure there is more than one person listed on the ballot.#Personal Opinion to Fact#Personal Opinion to Fact\n",
      "excuse citizens if they are able to provide a good reason for not voting.#Personal Opinion to Fact#Personal Opinion to Fact\n",
      "excuse those with illness or other good reasons#Personal Opinion to Fact#Personal Opinion to Fact\n",
      "give exceptions for extreme circumstances.#Personal Opinion to Fact#Personal Opinion to Fact\n",
      "give exceptions to those who are unable to vote.#Personal Opinion to Fact#Personal Opinion to Fact\n",
      "have a suitable and reasonable punishment for it.#Personal Opinion to Fact#Personal Opinion to Fact\n",
      "if someone has a good reason for not voting, they should not be punished.#Personal Opinion to Fact#Personal Opinion to Fact\n",
      "if someone has a good reason for not voting, they shouldn't be punished.#Personal Opinion to Fact#Personal Opinion to Fact\n",
      "in such a way as to promote democracy; not dictators.#Personal Opinion to Fact#Personal Opinion to Fact\n",
      "it doesn't give personal liberty.#Personal Opinion to Fact#Personal Opinion to Fact\n",
      "it goes against ones freedom of liberties.#Personal Opinion to Fact#Personal Opinion to Fact\n",
      "it is a violation of personal liberties and choices.#Personal Opinion to Fact#Personal Opinion to Fact\n",
      "it is a violation of personal liberties.#Personal Opinion to Fact#Personal Opinion to Fact\n",
      "it negatively affects those who can't make it to the polls.#Personal Opinion to Fact#\n",
      "it should be accepted if you can provide enough reason not to vote#Personal Opinion to Fact#Personal Opinion to Fact\n",
      "it should not abuse citizen rights.#Personal Opinion to Fact#Personal Opinion to Fact\n",
      "it should not punish those that cannot vote due to unavoidable circumstances such as hospitalization.#Personal Opinion to Fact#Personal Opinion to Fact\n",
      "it would prevent people from freedom of choice.#Personal Opinion to Fact#Personal Opinion to Fact\n",
      "limit the 'punishments' for people who do not vote.#Personal Opinion to Fact#Personal Opinion to Fact\n",
      "lower the penalty if someone does not vote.#Personal Opinion to Fact#Personal Opinion to Fact\n",
      "make allowances in certain situations such as hospitalizations, and require that employers allow employees time off to vote or face stiff penalties.#Personal Opinion to Fact#Personal Opinion to Fact\n",
      "make exceptions for situations where people are unable to reach the polls, like hospitalization.#Personal Opinion to Fact#Personal Opinion to Fact\n",
      "more than one candidate should be available to make ot a real choice#Personal Opinion to Fact#Personal Opinion to Fact\n",
      "multiple candidates should be on the ballot to prevent governments from misusing mandatory voting.#Personal Opinion to Fact#Personal Opinion to Fact\n",
      "must also take steps to ensure there are alternatives.#Personal Opinion to Fact#Personal Opinion to Fact\n",
      "must be careful to not abuse their power to support a dictatorship.#Personal Opinion to Fact#Personal Opinion to Fact\n",
      "no one should be punished.#Personal Opinion to Fact#Personal Opinion to Fact\n",
      "not allow harsh punishments without a valid excuse.#Personal Opinion to Fact#Personal Opinion to Fact\n",
      "not be able to punish someone if they can't make it out to vote.#Personal Opinion to Fact#Personal Opinion to Fact\n",
      "not enforce if an individual can provide a valid excuse.#Personal Opinion to Fact#Personal Opinion to Fact\n",
      "not enforce punishments if voting doesn't take place due to unforeseen circumstances.#Personal Opinion to Fact#Personal Opinion to Fact\n",
      "not have harsh punishments, if someone does not vote.#Personal Opinion to Fact#Personal Opinion to Fact\n",
      "not have severe penalties if citizens are not able to vote.#Personal Opinion to Fact#Personal Opinion to Fact\n",
      "not have such strict rules if someone misses the vote for some unavoidable reason.#Personal Opinion to Fact#Personal Opinion to Fact\n",
      "not impose harsh penalties for those that fail to vote.#Personal Opinion to Fact#Personal Opinion to Fact\n",
      "not impose harsh penalties on those who do not end up going to the polls.#Personal Opinion to Fact#Personal Opinion to Fact\n",
      "not misuse this power.#Personal Opinion to Fact#Personal Opinion to Fact\n",
      "not penalize people who have a valid reason for not being able to get to the polls.#Personal Opinion to Fact#Personal Opinion to Fact\n",
      "not punish or fine people who do not vote.#Personal Opinion to Fact#Personal Opinion to Fact\n",
      "not punish people who don't.#Personal Opinion to Fact#Personal Opinion to Fact\n",
      "not punish those who do not as it violates their freedom of choice.#Personal Opinion to Fact#Personal Opinion to Fact\n",
      "not punish those who don't vote#Personal Opinion to Fact#Personal Opinion to Fact\n",
      "not punish those who have a good reason for not voting.#Personal Opinion to Fact#Personal Opinion to Fact\n",
      "not punishable as there can be good reasons for not voting.#Personal Opinion to Fact#Personal Opinion to Fact\n",
      "not strictly enforced.#Personal Opinion to Fact#Personal Opinion to Fact\n",
      "only if there are more than one candidate.#Personal Opinion to Fact#Personal Opinion to Fact\n",
      "people can miss it if they have a good excuse like being in the hospital.#Personal Opinion to Fact#Personal Opinion to Fact\n",
      "people shouldn’t be punished if they don’t vote.#Personal Opinion to Fact#Personal Opinion to Fact\n",
      "recognize that by making it compulsory it has violated it's citizens personal liberties.#Personal Opinion to Fact#Personal Opinion to Fact\n",
      "should allow provisions for extenuating circumstances, such as being in the hospital.#Personal Opinion to Fact#Personal Opinion to Fact\n",
      "should be allowed to vote candidate of their choice#Personal Opinion to Fact#Personal Opinion to Fact\n",
      "should be careful to not abuse this power.#Personal Opinion to Fact#Personal Opinion to Fact\n",
      "should be wary of enforcing strict punishments for those who find themselves unable to vote.#Personal Opinion to Fact#Personal Opinion to Fact\n",
      "should have options for missing the election process#Personal Opinion to Fact#Personal Opinion to Fact\n",
      "should make allowances for extenuating circumstances without punishment for those who are genuinely unable to vote.#Personal Opinion to Fact#Personal Opinion to Fact\n",
      "should make exceptions for certain scenarios.#Personal Opinion to Fact#Personal Opinion to Fact\n",
      "should make exceptions if someone has a truly good reason for not voting (i.e. being in the hospital).#Personal Opinion to Fact#Personal Opinion to Fact\n",
      "should not enforce punishments against people who fail to vote.#Personal Opinion to Fact#Personal Opinion to Fact\n",
      "should not punish non participants harshly.#Personal Opinion to Fact#Personal Opinion to Fact\n",
      "should not punish them by taking away banking privileges.#Personal Opinion to Fact#Personal Opinion to Fact\n",
      "should not vigorously enforce voting mandates.#Personal Opinion to Fact#Personal Opinion to Fact\n",
      "should recognize that realistically it will not be possible for everyone.#Personal Opinion to Fact#Personal Opinion to Fact\n",
      "shouldn't misuse this, and should not have the penalty be too harsh.#Personal Opinion to Fact#Personal Opinion to Fact\n",
      "shouldn't punish those who are unable to vote due to forces beyond their control.#Personal Opinion to Fact#Personal Opinion to Fact\n",
      "that removes freedom of choice.#Personal Opinion to Fact#Personal Opinion to Fact\n",
      "there should be exceptions if people are unable to make it to the voting booths.#Personal Opinion to Fact#Personal Opinion to Fact\n",
      "there should be provisions for individuals who have legitimate reasons why they cannot vote or provisions for easier absentee voting.#Personal Opinion to Fact#Personal Opinion to Fact\n",
      "there should be times when people are excused from compulsory voting for certain reasons.#Personal Opinion to Fact#Personal Opinion to Fact\n",
      "they should accept if a citizen has a good reason for not voting.#Personal Opinion to Fact#Personal Opinion to Fact\n",
      "they should accept valid reasons for voters to miss a ballot, such as being hospitalized.#Personal Opinion to Fact#Personal Opinion to Fact\n",
      "they should be civil in how they handle \"non-compliance\" with the law.#Personal Opinion to Fact#Personal Opinion to Fact\n",
      "they should make allowances for people who are not able to get to the polls for a variety of reasons.#Personal Opinion to Fact#Personal Opinion to Fact\n",
      "they should make exceptions in certain cases, including illness or injury.#Personal Opinion to Fact#Personal Opinion to Fact\n",
      "they should not have harsh punishments when circumstances like lack of transportation, childcare, or ill health prevent voters from turning out.#Personal Opinion to Fact#Personal Opinion to Fact\n",
      "they should offer leeway for people who have a valid reason for being unable or unwilling to vote.#Personal Opinion to Fact#Personal Opinion to Fact\n",
      "they shouldn't be able to not draw money out of their bank acct if they fail to vote.#Personal Opinion to Fact#Personal Opinion to Fact\n",
      "this could represent a violation of personal liberties.#Personal Opinion to Fact#\n",
      "we should not punish those that have a good reason why they couldn't make it to vote.#Personal Opinion to Fact#Personal Opinion to Fact\n",
      "with minor penalties#Personal Opinion to Fact#Personal Opinion to Fact\n",
      "within reason, meaning if people cannot make it to the polls on election day they should not be punished as long as they have a good reason for not voting.#Personal Opinion to Fact#Personal Opinion to Fact\n",
      "you should not be punished if there are unforseen circumstances.#Personal Opinion to Fact#Personal Opinion to Fact\n",
      "this could be a violation of personal liberties and choice.#Personal Opinion to Fact#\n",
      "this could infringe upon an individuals decision to not participate and could punish those who are unable to participate.#Personal Opinion to Fact#\n",
      "this has the potential to infringe on personal liberties.#Personal Opinion to Fact#\n",
      "some see it as a violation of personal liberties and choices.#Plagiarism#\n",
      "those that oppose it feel it is a violation of their personal liberties.#Plagiarism#Personal Opinion to Fact\n",
      "those against compulsory voting say that it is a violation of personal liberties and choices.#Plagiarism#Personal Opinion to Fact\n",
      "in the#Unintelligible Response#\n",
      "compulsory voting enforce this law#Unintelligible Response#\n",
      "i like to select by the voting of good president for selected because they are very intersting to convert of countries.but the same time they person because the government not allowed to the multiple times to get multiple division#Unintelligible Response#Personal Opinion to Fact\n",
      "it should take very carefully.#Unintelligible Response#Personal Opinion to Fact\n",
      "THAT IS SOMETIMES MAKE A WRONG THINK#Unintelligible Response#Personal Opinion to Fact\n",
      "the citizen should not voting 100%#Unintelligible Response#Personal Opinion to Fact\n",
      "very use myindian#Unintelligible Response#\n",
      "doing so may make them appear like a dictatorship.#Governments Can Abuse It/Dictatorships#\n",
      "it can also be misused by the Government.#Governments Can Abuse It/Dictatorships#Governments Can Abuse It/Dictatorships\n",
      "it can be misused#Governments Can Abuse It/Dictatorships#\n",
      "it can be misused.#Governments Can Abuse It/Dictatorships#\n",
      "that could be abused by governments and those with malicious intent.#Governments Can Abuse It/Dictatorships#\n",
      "government can sometimes misuse it.#Governments Can Abuse It/Dictatorships#Governments Can Abuse It/Dictatorships\n",
      "in some countries that are dictatorial, leaders misuse this system to their own ends.#Governments Can Abuse It/Dictatorships#Governments Can Abuse It/Dictatorships\n",
      "it might be a violation of personal liberty, and could potentially be abused, if it is enforced without exemptions.#Governments Can Abuse It/Dictatorships#\n",
      "that doesn't always give a true reflection of the wishes of the people.#Governments Can Abuse It/Dictatorships#Personal Opinion to Fact\n",
      "this can lead to manipulation of the polls by the government so that the same person gets elected every time.#Governments Can Abuse It/Dictatorships#\n",
      "failure to accommodate those who are unable to vote can create circumstances where the most vulnerable are punished.#Negative Effects on Voter#Personal Opinion to Fact\n",
      "there could be problems for people who are unable, sick or otherwise incapable of getting to the polls.#Negative Effects on Voter#\n",
      "can given excuse for some of the citizens who are all really can not participate on voting due to the valuable reasons#Not All Governments Enforce It#Personal Opinion to Fact\n",
      "not every country actually follows up with these laws#Not All Governments Enforce It#\n",
      "the government can misuse it since it would be forcing people to vote by placing one person to be voted for since there is no competition in some dictatorship countries#Governments Can Abuse It/Dictatorships;North Korea/Dictatorships#Governments Can Abuse It/Dictatorships\n",
      "there could be problems for people who are unable, sick or otherwise incapable of getting to the polls. In Bolivia, no matter your excuse, you will be harshly punished for not voting.#Negative Effects on Voter;Consequences/Bolivia#\n",
      "some people might feel it's a violation of their civil liberties.#Violation of Personal Liberty;Reference#\n",
      "it does not represent a majority of the people.#Answered Wrong Stem#\n",
      "it may decrease the number of voters by quite a bit.#Answered Wrong Stem#\n",
      "it produces a low voter turn out.#Answered Wrong Stem#\n",
      "leave it up to the individuals whether they wish to or not.#Answered Wrong Stem#Personal Opinion to Fact\n",
      "violates the Freedom of the people.#Answered Wrong Stem#Personal Opinion to Fact\n",
      "when compulsory, the voter turn out is very low.#Answered Wrong Stem#\n",
      "sometimes this may be misused by the people in power as can be seen in North Korea.#Evidences Needs More Context#\n",
      "dictatorships, like North Korea, may take advantage of it.#Evidences Needs More Context#Governments Can Abuse It/Dictatorships\n",
      "in countries like Bolivia the consquences may be intense.#Evidences Needs More Context#\n",
      "encourage voters to turn out and voice their opinion.#Misuse of Conjunction#\n",
      "it can encourage voter participation.#Misuse of Conjunction#\n",
      "it could be very difficult for some people to get the the polls (there are people with disabilities, lack of transportation, who would need to arrange childcare but cannot afford to do so, etc.) and also, some people just don't care about politics.#Outside of Article's Scope#\n",
      "it shouldn’t be a burden for the voters to select a right person.#Outside of Article's Scope#Personal Opinion to Fact\n",
      "only for ones who are citizens or whom are in the process of becoming so#Outside of Article's Scope#Personal Opinion to Fact\n",
      "they should make easier ways of voting that don't require driving to a polling place.#Outside of Article's Scope#Outside of Article's Scope\n",
      "better monitor voter fraud.#Outside of Article's Scope#\n",
      "it can force people to change their lifestyle.#Outside of Article's Scope#\n",
      "it would be good if they would vote for what they belive in but the idea of herding people in to vote by law may open to a chase of pay voting which would calls more problem to the idea of vote of the people#Outside of Article's Scope#Outside of Article's Scope\n",
      "make sure that the right people are voting and have a system for that.#Outside of Article's Scope#Personal Opinion to Fact\n",
      "make sure that there is a reasonable time for a person to cast a vote, without causing undue hardship to the voter.#Outside of Article's Scope#Personal Opinion to Fact\n",
      "not everyone has the time or room to do so.#Outside of Article's Scope#Outside of Article's Scope\n",
      "people being forced to vote may have a backfire consequence.#Outside of Article's Scope#\n",
      "should encourage absentee or door to door voting for those unable to get to the polls.#Outside of Article's Scope#Personal Opinion to Fact\n",
      "they should also make election day a national holiday so it is easy for all to make it to the polls.#Outside of Article's Scope#Outside of Article's Scope\n",
      "we also need to remove unlimited campaign contributions and better inform people of candidates' platforms.#Outside of Article's Scope#Outside of Article's Scope\n",
      "have leeway in when and how voters are able to vote.#Outside of Article's Scope#Personal Opinion to Fact\n",
      "be careful not to misuse it.#Personal Opinion to Fact#Personal Opinion to Fact\n",
      "be careful to not abuse this power and keep an open ballot with multiple candidates.#Personal Opinion to Fact#Personal Opinion to Fact\n",
      "be cognizant of not allowing the same person to be elected continually.#Personal Opinion to Fact#Personal Opinion to Fact\n",
      "have a set of guidelines in place for enforcing it.#Personal Opinion to Fact#Personal Opinion to Fact\n",
      "if a citizen provides a valid and proper excuse then it could be excused.#Personal Opinion to Fact#Personal Opinion to Fact\n",
      "if someone cannot make it to the voting station there should be reasonable accommodations made for that person.#Personal Opinion to Fact#Personal Opinion to Fact\n",
      "the same person is elected every time.#Personal Opinion to Fact#\n",
      "a compulsory vote is in essence anti-democratic.#Personal Opinion to Fact#\n",
      "accept official excuses from those who cannot vote.#Personal Opinion to Fact#Personal Opinion to Fact\n",
      "accept reasonable excuses for being unable to vote.#Personal Opinion to Fact#Personal Opinion to Fact\n",
      "allow exceptions for good reasons such as illness.#Personal Opinion to Fact#Personal Opinion to Fact\n",
      "allow exceptions for those who have a valid reason not to.#Personal Opinion to Fact#Personal Opinion to Fact\n",
      "allow for competition and not dictatorship.#Personal Opinion to Fact#Personal Opinion to Fact\n",
      "allow for exceptions.#Personal Opinion to Fact#Personal Opinion to Fact\n",
      "allow for exclusions due to personal reasons such as health, lack of transportation to the voting place, etc.#Personal Opinion to Fact#Personal Opinion to Fact\n",
      "allow for political competition.#Personal Opinion to Fact#Personal Opinion to Fact\n",
      "allow for reasonable exceptions.#Personal Opinion to Fact#Personal Opinion to Fact\n",
      "allow people to abstain.#Personal Opinion to Fact#Personal Opinion to Fact\n",
      "allow people to provide good reasons to be excused.#Personal Opinion to Fact#Personal Opinion to Fact\n",
      "allow some to have a choice depending on their circumstances.#Personal Opinion to Fact#Personal Opinion to Fact\n",
      "be lenient on defaulters#Personal Opinion to Fact#Personal Opinion to Fact\n",
      "citizens should not be punished if they have a valid reason for not voting (i.e. in the hospital, no transportation, etc.).#Personal Opinion to Fact#Personal Opinion to Fact\n",
      "citizens who can prove that they were unable to vote should not be punished#Personal Opinion to Fact#Personal Opinion to Fact\n",
      "do NOT discipline people who do not vote; NO real enforcement.#Personal Opinion to Fact#Personal Opinion to Fact\n",
      "do not punish those that are unable to make it to the polls due to illness, disability, etc.#Personal Opinion to Fact#Personal Opinion to Fact\n",
      "ensure laws are passed that don't allow for it to be misused.#Personal Opinion to Fact#Personal Opinion to Fact\n",
      "exceptions should be allowed similar to the exceptions granted for jury duty.#Personal Opinion to Fact#Personal Opinion to Fact\n",
      "forcing people to vote at the polls is a violation of their free will.#Personal Opinion to Fact#Personal Opinion to Fact\n",
      "have a system in place for persons to be excused from voting.#Personal Opinion to Fact#Personal Opinion to Fact\n",
      "have more than one candidate to ensure a fair election not a dictatorship.#Personal Opinion to Fact#Personal Opinion to Fact\n",
      "if someone cannot make it for emergency reasons no punishment#Personal Opinion to Fact#Personal Opinion to Fact\n",
      "if there is a good reason people should be exempt from punishment.#Personal Opinion to Fact#Personal Opinion to Fact\n",
      "if there's a good reason for someone not voting, like for medical reasons, then there shouldn't be any punishment#Personal Opinion to Fact#Personal Opinion to Fact\n",
      "if they have a legitimate reason for not being able to vote, it should be accepted/excused.#Personal Opinion to Fact#Personal Opinion to Fact\n",
      "individuals should not be harshly punished if they do not vote.#Personal Opinion to Fact#Personal Opinion to Fact\n",
      "it infringes on personal liberty#Personal Opinion to Fact#Personal Opinion to Fact\n",
      "it is a violation of people's personal liberties and choices.#Personal Opinion to Fact#Personal Opinion to Fact\n",
      "it is important that citizens who have valid reasons for not voting are not penalized.#Personal Opinion to Fact#Personal Opinion to Fact\n",
      "it should allow citizens to miss the day of voting if they have a good reason.#Personal Opinion to Fact#Personal Opinion to Fact\n",
      "it should be a civic right not a civic duty.#Personal Opinion to Fact#Personal Opinion to Fact\n",
      "it should not penalize people who provide a valid excuse for not voting (like being in the hospital).#Personal Opinion to Fact#Personal Opinion to Fact\n",
      "it shouldn't be misused.#Personal Opinion to Fact#Personal Opinion to Fact\n",
      "it will completely remove citizens from their freedom of choice.#Personal Opinion to Fact#Personal Opinion to Fact\n",
      "it would take away the freedom of choice.#Personal Opinion to Fact#Personal Opinion to Fact\n",
      "it's important that this isn't misused by governments stifling other political parties#Personal Opinion to Fact#Personal Opinion to Fact\n",
      "make exceptions,#Personal Opinion to Fact#Personal Opinion to Fact\n",
      "make sure that there are multiple choices on the ballot.#Personal Opinion to Fact#Personal Opinion to Fact\n",
      "make sure they allow political competition by having more than one candidate on the ballot.#Personal Opinion to Fact#Personal Opinion to Fact\n",
      "must have more than one candidate to vote for.#Personal Opinion to Fact#Personal Opinion to Fact\n",
      "not enforce severe punishment for those people who do not vote.#Personal Opinion to Fact#Personal Opinion to Fact\n",
      "not enforce strict penalties on those who fail to vote.#Personal Opinion to Fact#Personal Opinion to Fact\n",
      "not have reperiments in failure to comply.#Personal Opinion to Fact#Personal Opinion to Fact\n",
      "not if they have a reason for absence, like a hospital stay.#Personal Opinion to Fact#Personal Opinion to Fact\n",
      "not in instances where the government does not allow political competition.#Personal Opinion to Fact#Personal Opinion to Fact\n",
      "not infringe upon already established rights.#Personal Opinion to Fact#Personal Opinion to Fact\n",
      "not misuse it by allowing political competition#Personal Opinion to Fact#Personal Opinion to Fact\n",
      "not penalize those who do not vote, severely.#Personal Opinion to Fact#Personal Opinion to Fact\n",
      "not punish a person if they choose not to vote during an election.#Personal Opinion to Fact#Personal Opinion to Fact\n",
      "not punish harshly if people are not able to get their votes in with a valid excuses#Personal Opinion to Fact#Personal Opinion to Fact\n",
      "not punish people for not voting if they have a good reason, like being in the hospital.#Personal Opinion to Fact#Personal Opinion to Fact\n",
      "not punish people harshly if they dont#Personal Opinion to Fact#Personal Opinion to Fact\n",
      "not punish people that don't vote by holding their pay.#Personal Opinion to Fact#Personal Opinion to Fact\n",
      "not punishable.#Personal Opinion to Fact#Personal Opinion to Fact\n",
      "not put people on jail or take away wages for not being able to make it to the polls#Personal Opinion to Fact#Personal Opinion to Fact\n",
      "not use drastic punishments when people don't vote.#Personal Opinion to Fact#Personal Opinion to Fact\n",
      "not withhold salaries of those that don't vote.#Personal Opinion to Fact#Personal Opinion to Fact\n",
      "offer clemency for those who can show a reasonable circumstance that prevented them from voting.#Personal Opinion to Fact#Personal Opinion to Fact\n",
      "only without punishment for those who do not vote#Personal Opinion to Fact#Personal Opinion to Fact\n",
      "people should be allowed not to vote if they can provide a good reason for it (for example being in a hospital).#Personal Opinion to Fact#Personal Opinion to Fact\n",
      "should allow for exceptions under special circumstances.#Personal Opinion to Fact#Personal Opinion to Fact\n",
      "should allow for legitimate reasons that cause a failure to vote.#Personal Opinion to Fact#Personal Opinion to Fact\n",
      "should also have more than one candidate.#Personal Opinion to Fact#Personal Opinion to Fact\n",
      "should give leeway to those that can't because of issues of health, and problems that keep them from getting to the polls.#Personal Opinion to Fact#Personal Opinion to Fact\n",
      "should have at least 2 candidates on the ballot.#Personal Opinion to Fact#Personal Opinion to Fact\n",
      "should make sure that there are choices and the punishment for not voting is not too harsh and allow for exceptions.#Personal Opinion to Fact#Personal Opinion to Fact\n",
      "should not harshly penalize those who cannot or will not vote.#Personal Opinion to Fact#Personal Opinion to Fact\n",
      "should not have strict punishments for those who don't#Personal Opinion to Fact#Personal Opinion to Fact\n",
      "should not incur fees of any kind on would be voters.#Personal Opinion to Fact#Personal Opinion to Fact\n",
      "should not misuse it.#Personal Opinion to Fact#Personal Opinion to Fact\n",
      "should not misuse the requirement, as in the cases of North Korea and Bolivia.#Personal Opinion to Fact#Personal Opinion to Fact\n",
      "should not punish those who don't vote.#Personal Opinion to Fact#Personal Opinion to Fact\n",
      "should offer options and not just have one person on the ballet.#Personal Opinion to Fact#Personal Opinion to Fact\n",
      "shouldn't have such harsh requirements since not everybody has transportation readily available to vote.#Personal Opinion to Fact#Personal Opinion to Fact\n",
      "that would not necessarily lead to a true democratic process.#Personal Opinion to Fact#Personal Opinion to Fact\n",
      "the election should be free and fair and make their vote count.#Personal Opinion to Fact#\n",
      "the punishment for individuals who don't vote shouldn't cause serious hardship and accommodations should be made to support individuals whenever necessary.#Personal Opinion to Fact#Personal Opinion to Fact\n",
      "there are some people that can not get to the voting poles or they do not like any one on the ballott#Personal Opinion to Fact#Personal Opinion to Fact\n",
      "there must be more than one candidate allowed on the ballot#Personal Opinion to Fact#Personal Opinion to Fact\n",
      "there should be ample opportunities for people to cast their vote and no punishment if a valid reason is given for not voting.#Personal Opinion to Fact#Personal Opinion to Fact\n",
      "there should be caveats for illnesses.#Personal Opinion to Fact#Personal Opinion to Fact\n",
      "there should be checks and balances to make sure that the government is not abusing this.#Personal Opinion to Fact#Personal Opinion to Fact\n",
      "there should be exemptions for emergency situations like sickness.#Personal Opinion to Fact#Personal Opinion to Fact\n",
      "there should be justifiable exceptions to the law.#Personal Opinion to Fact#Personal Opinion to Fact\n",
      "there should be multiple ballot options.#Personal Opinion to Fact#Personal Opinion to Fact\n",
      "there should not be a legal penalty if they do not.#Personal Opinion to Fact#Personal Opinion to Fact\n",
      "they have to be careful as to not punish people harshly.#Personal Opinion to Fact#Personal Opinion to Fact\n",
      "they must be careful not to misuse it.#Personal Opinion to Fact#Personal Opinion to Fact\n",
      "they must be careful to ensure that mandatory voting is not abused by authoritarian leaders to legitimize their rule.#Personal Opinion to Fact#Personal Opinion to Fact\n",
      "they must not misuse the law for their own interests.#Personal Opinion to Fact#Personal Opinion to Fact\n",
      "they should allow for reasonable exceptions to be made, such as hospital visits.#Personal Opinion to Fact#Personal Opinion to Fact\n",
      "they should also accept that there can be extenuating circumstances which can prevent people from voting.#Personal Opinion to Fact#Personal Opinion to Fact\n",
      "they should be sure not misuse this law and should always be multiple people on the ballot to vote for.#Personal Opinion to Fact#Personal Opinion to Fact\n",
      "they should make sure that there are at least two candidates on the ballot.#Personal Opinion to Fact#\n",
      "they should not only put one person on the ballot.#Personal Opinion to Fact#Personal Opinion to Fact\n",
      "they should not penalize voters who have legitimate reasons for not voting, such as being in the hospital.#Personal Opinion to Fact#Personal Opinion to Fact\n",
      "they should not punish the people for no voting.#Personal Opinion to Fact#Personal Opinion to Fact\n",
      "they should show flexibility when to comes to penalizing those who do not vote.#Personal Opinion to Fact#Personal Opinion to Fact\n",
      "they shouldn't punish citizens with a valid excuse to not make it to the polls.#Personal Opinion to Fact#Personal Opinion to Fact\n",
      "this also makes it easier for governments to abuse this rule.#Personal Opinion to Fact#\n",
      "tread lightly due to dictaorship's.#Personal Opinion to Fact#Personal Opinion to Fact\n",
      "voting should be seen as a civic right and not a civic duty.#Personal Opinion to Fact#\n",
      "this could be a violation towards independent freedoms.#Personal Opinion to Fact#\n",
      "some may argue it is a violation of personal liberties and choices.#Plagiarism#\n",
      "hose against compulsory voting say that it is a violation of personal liberties and choices.#Plagiarism#Personal Opinion to Fact\n",
      "how can democracies have representative governments unless all or most of their citizens vote?#Plagiarism#\n",
      "those against compulsory voting say that it is a violation of personal liberties and choices.#Plagiarism#\n",
      "this is age limit for all.#Unintelligible Response#Personal Opinion to Fact\n",
      "people work liberal.#Unintelligible Response#\n",
      "they keep up very liberal.#Unintelligible Response#\n",
      "they wiork liberal#Unintelligible Response#\n",
      "compulsory voting can often be misused by governments and many feel it is a violation of personal liberties and choices.#Governments Can Abuse It/Dictatorships#\n",
      "governments can misuse it.#Governments Can Abuse It/Dictatorships#\n",
      "governments can sometimes misuse it and it becomes a violation of personal choices.#Governments Can Abuse It/Dictatorships#\n",
      "governments can sometimes take advantage of it.#Governments Can Abuse It/Dictatorships#\n",
      "it may lead to government misuse, especially if that government is a dictatorship.#Governments Can Abuse It/Dictatorships#\n",
      "sometimes the government misuses its power.#Governments Can Abuse It/Dictatorships#\n",
      "it may cause people to be unjustly punished if they cannot.#Negative Effects on Voter#\n",
      "it may be difficult for everyone to make it to the polls and the consequences are steep for those people#Negative Effects on Voter#\n",
      "this may put undue stress on people unable ot make it to the polls.#Negative Effects on Voter#\n",
      "an administration may not implement obligatory democratic laws or even have formal endorses in law for neglecting to cast a ballot, the law may have some impact upon the natives.#Not All Governments Enforce It#\n",
      "not all countries with compulsory voting enforce the law.#Not All Governments Enforce It#\n",
      "it could also have a negative effect where dictators only place themselves on the ballot.#Governments Can Abuse It/Dictatorships;North Korea/Dictatorships#\n",
      "it is something that could easily be corrupted and abused by certain governments such as North Korea, where the government forces people to vote even though there is only a single candidate#Governments Can Abuse It/Dictatorships;North Korea/Dictatorships#\n",
      "this may cause hardships for voters who are not able to make it for good reasons as was the case in Bolivia when a citizen was unable to vote, his salary was withheld.#Negative Effects on Voter;Consequences/Bolivia#\n",
      "it is considered as a right instead of a duty for some countries.#Violation of Personal Liberty;Reference#\n",
      "it should be a right not compulsory.#Answered Wrong Stem#Personal Opinion to Fact\n",
      "should really encourage that people do vote.#Answered Wrong Stem#Personal Opinion to Fact\n",
      "try to reach out to more people on individual and group levels to encourage people to use their right to vote.#Answered Wrong Stem#\n",
      "it can have some adverse side effects.#Clarify/Identify/Specify#\n",
      "some citizens may not be for that.#Clarify/Identify/Specify#\n",
      "there are ways that compulsory voting can be used or unfair.#Clarify/Identify/Specify#Personal Opinion to Fact\n",
      "it can be misused like in dictatorships such as North Korea.#Evidences Needs More Context#\n",
      "as in Bolivia, sometimes the consequences are steep. #Evidences Needs More Context#\n",
      "encourage eligible voters to vote, make elections exciting.#Misuse of Conjunction#\n",
      "it can be difficult to make people vote.#Misuse of Conjunction#\n",
      "it holds the citizens responsible for what happens in their country.#Misuse of Conjunction#Personal Opinion to Fact\n",
      "it is useful for nation#Misuse of Conjunction#Personal Opinion to Fact\n",
      "mandated voting ensures that the elected government best represents the majority of the population.#Misuse of Conjunction#\n",
      "voting ensures that the elected government represents the majority of the population#Misuse of Conjunction#\n",
      "DISQUALIFY SOME#Outside of Article's Scope#Personal Opinion to Fact\n",
      "should also require that the person works if that day if they know they will not be able to participate.#Outside of Article's Scope#Personal Opinion to Fact\n",
      "they should make sure that only certain groups can vote#Outside of Article's Scope#\n",
      "we are liberal#Outside of Article's Scope#\n",
      "also provide transportation for those who need ot to get to the polling stations.#Outside of Article's Scope#Personal Opinion to Fact\n",
      "ensure that voting is as simple and as accessible as possible.#Outside of Article's Scope#Personal Opinion to Fact\n",
      "everyone should be required to have voter ID.#Outside of Article's Scope#Personal Opinion to Fact\n",
      "guarantee a national holiday on voting day, so that everyone has the time to vote.#Outside of Article's Scope#Personal Opinion to Fact\n",
      "it may not be the best option--there are some who have no interest in politics, and others who may intentionally try to throw off the votes by voting randomly.#Outside of Article's Scope#\n",
      "it would shut down many businesses for the duration of the polls.#Outside of Article's Scope#Personal Opinion to Fact\n",
      "pay people for their time, since it is required.#Outside of Article's Scope#Personal Opinion to Fact\n",
      "should make it to where voting lasts a couple of weeks so that people with busy schedules can find a way to make it to the polls when it is convenient for them.#Outside of Article's Scope#\n",
      "sometimes the government will not recognize voting and elect whom they want to.#Outside of Article's Scope#\n",
      "there should be some sort of incentive for the voters for doing so in order to keep morale up.#Outside of Article's Scope#\n",
      "they need to educate the citizens more so the citizens can make an educated vote instead of a random fill in the bubble answer.#Outside of Article's Scope#\n",
      "also, all people should be aware that compulsion by the state on voting might lead to more compulsion by the state for other matters.#Outside of Article's Scope#\n",
      "checks and balances should be in place to combat corruption of misuse.#Personal Opinion to Fact#Personal Opinion to Fact\n",
      "all for clear exceptions (i.e. health, absence, etc).#Personal Opinion to Fact#Personal Opinion to Fact\n",
      "citizens should have the want to make voting a priority for themselves.#Personal Opinion to Fact#Personal Opinion to Fact\n",
      "everyone should have the freedom to do what they want.#Personal Opinion to Fact#Personal Opinion to Fact\n",
      "have several options available.#Personal Opinion to Fact#Personal Opinion to Fact\n",
      "it would be hard on some people as they can't make it to the poles and would be punished for this.#Personal Opinion to Fact#\n",
      "not punish those who are unable to make it to the polls easily.#Personal Opinion to Fact#Personal Opinion to Fact\n",
      "should ensure that the officials in charge of state, regional, and local elections are not corrupt, so that no personal liberties are violated.#Personal Opinion to Fact#Personal Opinion to Fact\n",
      "the penalties for not voting may cause undue hardships among those who are justifiably unable to vote.#Personal Opinion to Fact#\n",
      "then there's the issues with jobs.#Personal Opinion to Fact#Personal Opinion to Fact\n",
      ", with caveats for citizens who have good reasons for not making it to the polls in order to have representative elections.#Personal Opinion to Fact#Personal Opinion to Fact\n",
      "allow exceptions for sickness#Personal Opinion to Fact#Personal Opinion to Fact\n",
      "allow exceptions for those unable to vote due to extenuating circumstances.#Personal Opinion to Fact#Personal Opinion to Fact\n",
      "allow exceptions.#Personal Opinion to Fact#Personal Opinion to Fact\n",
      "allow for flexibility if people are not able to go to the polls due to circumstances such as illness.#Personal Opinion to Fact#Personal Opinion to Fact\n",
      "allow for people to give valid excuses for abstaining.#Personal Opinion to Fact#Personal Opinion to Fact\n",
      "allow for some exceptions.#Personal Opinion to Fact#Personal Opinion to Fact\n",
      "allow for some excuses such as being hospitalized.#Personal Opinion to Fact#Personal Opinion to Fact\n",
      "allow legitimate excuses for not voting.#Personal Opinion to Fact#Personal Opinion to Fact\n",
      "allow people not to vote if they have a justifiable reason.#Personal Opinion to Fact#Personal Opinion to Fact\n",
      "allow political competition#Personal Opinion to Fact#Personal Opinion to Fact\n",
      "allow those who have a valid reason for not voting to be excused.#Personal Opinion to Fact#Personal Opinion to Fact\n",
      "also allow some situations to be excused when someone is not able to meet the requirement.#Personal Opinion to Fact#Personal Opinion to Fact\n",
      "also offer more than one person to vote for on the ballot.#Personal Opinion to Fact#Personal Opinion to Fact\n",
      "also understand that circumstances can prevent someone from doing it.#Personal Opinion to Fact#Personal Opinion to Fact\n",
      "assur that they exceptions for those who are unable attend such as hospitalization or mental illness.#Personal Opinion to Fact#Personal Opinion to Fact\n",
      "be understanding of people who cannot make it to the polls.#Personal Opinion to Fact#Personal Opinion to Fact\n",
      "ensure everyone is able to vote without severe punishment.#Personal Opinion to Fact#Personal Opinion to Fact\n",
      "ensure that there is an opponent to the current administration.#Personal Opinion to Fact#Personal Opinion to Fact\n",
      "forcing citizens to perform an action is a violation of liberty and freedom of choice.#Personal Opinion to Fact#Personal Opinion to Fact\n",
      "have exceptions because sometimes life gets in the way and we should be more understanding.#Personal Opinion to Fact#Personal Opinion to Fact\n",
      "have exceptions for valid reasons like work, sickness, or other instances that can prevent someone from making it to the polls.#Personal Opinion to Fact#Personal Opinion to Fact\n",
      "if there are certain situations where the person could not vote it should be taken into consideration.#Personal Opinion to Fact#Personal Opinion to Fact\n",
      "if you don't vote due to not being able to get to a poll you shouldn't be punished#Personal Opinion to Fact#Personal Opinion to Fact\n",
      "inflicting harsh punishments for failing to vote would do more harm than good.#Personal Opinion to Fact#Personal Opinion to Fact\n",
      "it is a violation of personal liberties and choices#Personal Opinion to Fact#Personal Opinion to Fact\n",
      "it is a violation of personal liberties and choices.#Personal Opinion to Fact#Personal Opinion to Fact\n",
      "it should excuse citizens who are unable to vote due to unavoidable circumstances.#Personal Opinion to Fact#Personal Opinion to Fact\n",
      "it should exempt people with good reasons why they couldn't get to the polls that day.#Personal Opinion to Fact#Personal Opinion to Fact\n",
      "it should not affect someones livelihood.#Personal Opinion to Fact#Personal Opinion to Fact\n",
      "it should not be a punishable infraction if a citizen is unable to vote due to extenuating circumstances (sickness)#Personal Opinion to Fact#Personal Opinion to Fact\n",
      "it shouldn't be misused by government.#Personal Opinion to Fact#Personal Opinion to Fact\n",
      "it violates personal freedom.#Personal Opinion to Fact#Personal Opinion to Fact\n",
      "it would be a violation of a persons rights and freedoms.#Personal Opinion to Fact#Personal Opinion to Fact\n",
      "it's a violation of personal freedom and civil liberties.#Personal Opinion to Fact#Personal Opinion to Fact\n",
      "it's a violation of personal liberties and choices.#Personal Opinion to Fact#Personal Opinion to Fact\n",
      "make sure the public is able to choose the candidates.#Personal Opinion to Fact#\n",
      "make sure there are several candidates to pick from.#Personal Opinion to Fact#Personal Opinion to Fact\n",
      "make sure there is more than one person running for the position.#Personal Opinion to Fact#Personal Opinion to Fact\n",
      "maybe not make there be harsh punishments for those who do not vote.#Personal Opinion to Fact#Personal Opinion to Fact\n",
      "must ensure that the elections are fair and open, and that there are appropriate mechanisms for people who cannot vote to not be penalized.#Personal Opinion to Fact#Personal Opinion to Fact\n",
      "must first create policies and oversight so there is not abuse and misuse of this system.#Personal Opinion to Fact#Personal Opinion to Fact\n",
      "not abuse it#Personal Opinion to Fact#Personal Opinion to Fact\n",
      "not abuse the power.#Personal Opinion to Fact#Personal Opinion to Fact\n",
      "not abuse the system.#Personal Opinion to Fact#Personal Opinion to Fact\n",
      "not be overzealous in enforcing the requirement.#Personal Opinion to Fact#Personal Opinion to Fact\n",
      "not enforce the law against an individual if they had good reason (i.e. hospitalization) for not voting.#Personal Opinion to Fact#Personal Opinion to Fact\n",
      "not have a very harsh punishment if they don't.#Personal Opinion to Fact#Personal Opinion to Fact\n",
      "not misuse it.#Personal Opinion to Fact#Personal Opinion to Fact\n",
      "not misuse the power of it to make voters suffer if they are unable to attend and don't have a \"qualified\" reason to miss it.#Personal Opinion to Fact#Personal Opinion to Fact\n",
      "not punish people if they are sick and in the hospital and could not vote due to their illness.#Personal Opinion to Fact#Personal Opinion to Fact\n",
      "not punish those too servery that do not vote.#Personal Opinion to Fact#Personal Opinion to Fact\n",
      "not punish those who cannot get to the poll for a good reason#Personal Opinion to Fact#Personal Opinion to Fact\n",
      "not punish those who cannot vote due to an unrelated issue.#Personal Opinion to Fact#Personal Opinion to Fact\n",
      "not punish those who fail to vote#Personal Opinion to Fact#Personal Opinion to Fact\n",
      "not punish those who have valid reasons for missing a vote.#Personal Opinion to Fact#Personal Opinion to Fact\n",
      "not punish those with a valid excuse.#Personal Opinion to Fact#Personal Opinion to Fact\n",
      "not uphold stringent punishments that allow for no exceptions for those unable to vote.#Personal Opinion to Fact#Personal Opinion to Fact\n",
      "not who to vote for.#Personal Opinion to Fact#Personal Opinion to Fact\n",
      "only when there's more than one candidate to vote for so that the election process does not turn into a dictatorship.#Personal Opinion to Fact#Personal Opinion to Fact\n",
      "should allow exceptions for those with valid reasons.#Personal Opinion to Fact#Personal Opinion to Fact\n",
      "should allow for valid exemptions to not voting.#Personal Opinion to Fact#Personal Opinion to Fact\n",
      "should be considerate if there is a good reason for people not voting.#Personal Opinion to Fact#Personal Opinion to Fact\n",
      "should exempt citizens who are sick or out of the country.#Personal Opinion to Fact#Personal Opinion to Fact\n",
      "should have some leeway when it comes to mandatory voting.#Personal Opinion to Fact#Personal Opinion to Fact\n",
      "should make sure not to misuse it.#Personal Opinion to Fact#Personal Opinion to Fact\n",
      "should not force it on people since things happen and people may not be able to vote.#Personal Opinion to Fact#Personal Opinion to Fact\n",
      "should not punish citizens who do not vote if they have a good reason.#Personal Opinion to Fact#Personal Opinion to Fact\n",
      "should not punish if citizens do not vote.#Personal Opinion to Fact#Personal Opinion to Fact\n",
      "should not severely punish those that don't vote#Personal Opinion to Fact#Personal Opinion to Fact\n",
      "should provide exceptions to those who are not able to.#Personal Opinion to Fact#Personal Opinion to Fact\n",
      "that should not affect citizen's personal life in case they are not able to show up to cast their vote.#Personal Opinion to Fact#Personal Opinion to Fact\n",
      "the people should be able to give a reason why they cant without punishment#Personal Opinion to Fact#Personal Opinion to Fact\n",
      "the problem is that this can be used against citizens' freedoms#Personal Opinion to Fact#\n",
      "the should not punish those who give a good reason why they can not vote.#Personal Opinion to Fact#Personal Opinion to Fact\n",
      "there is a danger of misuse it if they do.#Personal Opinion to Fact#Personal Opinion to Fact\n",
      "there should be exceptions for people who are unable to make it the polls.#Personal Opinion to Fact#Personal Opinion to Fact\n",
      "there should be no punishment if there is legitimate reasons the individual didn't vote.#Personal Opinion to Fact#Personal Opinion to Fact\n",
      "there should be some exceptions, like if you cannot vote because you were in the hospital or had to go to a funeral, etc.#Personal Opinion to Fact#Personal Opinion to Fact\n",
      "there should not be a punishment if there is a good reason someone was unable to vote.#Personal Opinion to Fact#Personal Opinion to Fact\n",
      "there should not be a severe penalty for missing the vote.#Personal Opinion to Fact#Personal Opinion to Fact\n",
      "there will always be some who say that it is should be a choice not a right.#Personal Opinion to Fact#Personal Opinion to Fact\n",
      "they must allow for exceptions such as an illness or infirmity that prevent one from safely getting to and from the polls.#Personal Opinion to Fact#Personal Opinion to Fact\n",
      "they need to allow for reasonable circumstances that may make voting challenging.#Personal Opinion to Fact#Personal Opinion to Fact\n",
      "they need to allow proper political competition.#Personal Opinion to Fact#Personal Opinion to Fact\n",
      "they need to ensure that there is an actual selection of candidates.#Personal Opinion to Fact#Personal Opinion to Fact\n",
      "they should allow exceptions and the punishments should not be very harsh just a small fine.#Personal Opinion to Fact#Personal Opinion to Fact\n",
      "they should also allow some exceptions for good reasons.#Personal Opinion to Fact#Personal Opinion to Fact\n",
      "they should also not be extremely severe in their penalties.#Personal Opinion to Fact#Personal Opinion to Fact\n",
      "they should be careful not to misuse it as compulsory voting can be a sign of dictatorship.#Personal Opinion to Fact#Personal Opinion to Fact\n",
      "they should have stipulations that excuse certain populations.#Personal Opinion to Fact#Personal Opinion to Fact\n",
      "they should make exceptions to certain cases such as being in the hospital.#Personal Opinion to Fact#Personal Opinion to Fact\n",
      "they should not be allowed to hold an individuals salary from his own account.#Personal Opinion to Fact#Personal Opinion to Fact\n",
      "they should not misuse compulsory voting.#Personal Opinion to Fact#Personal Opinion to Fact\n",
      "they should not misuse that obligation.#Personal Opinion to Fact#Personal Opinion to Fact\n",
      "they should not withhold people's funds or paychecks if they can't make it to the voting booths.#Personal Opinion to Fact#Personal Opinion to Fact\n",
      "this would limit individual freedom and opens up possibilities of government control like in North Korea.#Personal Opinion to Fact#\n",
      "voting itself is a democratic act, and so the option of voting should be left up to each individual's choice.#Personal Opinion to Fact#\n",
      "it may be a violation of the freedom to choose#Personal Opinion to Fact#\n",
      "some say that it is a violation of personal liberties and choices#Plagiarism#\n",
      "those against compulsory voting say that it is a violation of personal liberties and choices#Plagiarism#\n",
      "those against compulsory voting say that it is a violation of personal liberties and choices.#Plagiarism#\n",
      "those who have punished in bolivia#Unintelligible Response#Personal Opinion to Fact\n",
      "I am age in 13.#Unintelligible Response#Personal Opinion to Fact\n",
      "this is age limit for 18.#Unintelligible Response#Personal Opinion to Fact\n",
      "they are not strictly order to people for voting.#Unintelligible Response#Personal Opinion to Fact\n",
      "voting age 13 year#Unintelligible Response#\n",
      "THE OTHER SAYTHE VOTING IS SHOULD BE A CIVIL RGHT#Unintelligible Response#\n",
      "it does not guarantee voter freedom.#Governments Can Abuse It/Dictatorships#Personal Opinion to Fact\n",
      "some governments can misuse it.#Governments Can Abuse It/Dictatorships#Governments Can Abuse It/Dictatorships\n",
      "it can easily be misued if the government only allows one person on the ballot.#Governments Can Abuse It/Dictatorships#\n",
      "governments can misuse it through political abuse of their authority.#Governments Can Abuse It/Dictatorships#Governments Can Abuse It/Dictatorships\n",
      "governments can sometimes manipulate it.#Governments Can Abuse It/Dictatorships#Governments Can Abuse It/Dictatorships\n",
      "governments can sometimes misuse it like in some dictatorships.#Governments Can Abuse It/Dictatorships#Governments Can Abuse It/Dictatorships\n",
      "governments can sometimes misuse it.#Governments Can Abuse It/Dictatorships#Governments Can Abuse It/Dictatorships\n",
      "sometimes this leads to government misuse.#Governments Can Abuse It/Dictatorships#Governments Can Abuse It/Dictatorships\n",
      "it can create issues when citizens are unable to fulfill the responsibility.#Negative Effects on Voter#\n",
      "some abuse their power and keep tyrants in power#Governments Can Abuse It/Dictatorships;North Korea/Dictatorships#\n",
      "it does not guarantee voter freedom because in places like North Korea, there may just be a single candidate to choose from.#Governments Can Abuse It/Dictatorships;North Korea/Dictatorships#\n",
      "like in Australia and Brazil, if a good reason is provided not to vote it will be accepted.#Negative Effects on Voter;Consequences/Bolivia#Personal Opinion to Fact\n",
      "it can create issues when citizens are unable to fulfill the responsibility. For example in Bolivia, the government actually freezes citizens' salaries.#Negative Effects on Voter;Consequences/Bolivia#\n",
      "penalizing people for not voting may be unfair due to the nature of life in today's world. For example, in Bolivia, Crispin was unable to make it to the polls and he wasn't able to access his salary.#Negative Effects on Voter;Consequences/Bolivia#\n",
      "many feel that it infringes on the rights of the citizens.#Violation of Personal Liberty;Reference#\n",
      "others say that voting should be seen as a civic right and not a civic duty.#Violation of Personal Liberty;Reference#\n",
      "it can have a negative affect, like in Venezuela.#Answered Wrong Stem#\n",
      "it may be used improperly like in North Korea.#Evidences Needs More Context#\n",
      "in Bolivia, the consequences were too intense. #Evidences Needs More Context#\n",
      "dictators make take advantage of these laws like he did in North Korea.#Evidences Needs More Context#\n",
      "peoples just not interested in politics.#Misuse of Conjunction#Personal Opinion to Fact\n",
      "these numbers may indicate that some citizens feel that their vote counts more in television contests than in political contests#Misuse of Conjunction#\n",
      "problem might be explained by voter apathy or lack of enthusiasm around elections.#Misuse of Conjunction#\n",
      "definitely should have more ways of voting for those who cannot make it to ballot stations, and include more than one candidate on the ballot.#Outside of Article's Scope#Personal Opinion to Fact\n",
      "if the individual has a good reason for being unable to go to the polls, like illness, than perhaps they can have another option for voting, like mailing in their ballots.#Outside of Article's Scope#Personal Opinion to Fact\n",
      "if they do not vote on time they should have a second chance to vote.#Outside of Article's Scope#Personal Opinion to Fact\n",
      "it should be easy to vote without hardship on the voter.#Outside of Article's Scope#Personal Opinion to Fact\n",
      "allow for the small percentage that may not want to or be able to vote in any given election.#Outside of Article's Scope#Personal Opinion to Fact\n",
      "everyone should be educated on the candidates and what they stand for.#Outside of Article's Scope#Personal Opinion to Fact\n",
      "instead of having a criminal penalty for not voting there should be some sort of tax break for voting.#Outside of Article's Scope#Personal Opinion to Fact\n",
      "it can make a difference for future people.#Outside of Article's Scope#\n",
      "it may skew the results.#Outside of Article's Scope#\n",
      "let citizens choose a day.#Outside of Article's Scope#Personal Opinion to Fact\n",
      "make sure that voters have a way to get to the polls if they need help doing so.#Outside of Article's Scope#Personal Opinion to Fact\n",
      "need to make it MUCH easier to vote.#Outside of Article's Scope#Personal Opinion to Fact\n",
      "only to those that are qualified by having displayed they know what each candidate stands for.#Outside of Article's Scope#Personal Opinion to Fact\n",
      "they could offer a small tax break to those who do.#Outside of Article's Scope#\n",
      "they must restrict immigrants and other corridors#Outside of Article's Scope#Personal Opinion to Fact\n",
      "they should also be responsible for making it easy as possible.#Outside of Article's Scope#Personal Opinion to Fact\n",
      "uneducated voters only fulfilling a duty may not vote in their best interests because of their ignorance.#Outside of Article's Scope#\n",
      "governments can sometimes misuse it and needs to be careful with applying compulsory voting requirements.#Personal Opinion to Fact#\n",
      "if a citizen provides a good reason for not voting (e.g. being in a hospital) it is accepted.#Personal Opinion to Fact#Personal Opinion to Fact\n",
      "not make it so demanding.#Personal Opinion to Fact#Personal Opinion to Fact\n",
      "there are a lot of downsides, such as financial ramifications for those who are already struggling to make ends meet who are not able to get themselves to the polls.#Personal Opinion to Fact#Personal Opinion to Fact\n",
      "there are many who feel that doing so will cause a dictatorship to develop due to lack of voting choices on the ballot.#Personal Opinion to Fact#\n",
      "they should allow exceptions for people who are unable to and provide transportation or absentee ballots to all.#Personal Opinion to Fact#Personal Opinion to Fact\n",
      "allow certain excuses for people who cannot.#Personal Opinion to Fact#Personal Opinion to Fact\n",
      "allow citizens to provide a valid reason not to vote.#Personal Opinion to Fact#Personal Opinion to Fact\n",
      "allow exceptions due to issues like being hospitalized.#Personal Opinion to Fact#Personal Opinion to Fact\n",
      "allow exceptions for people who are unable to vote.#Personal Opinion to Fact#Personal Opinion to Fact\n",
      "allow excuses for specific circumstances.#Personal Opinion to Fact#Personal Opinion to Fact\n",
      "allow for a good reason to not be able to vote.#Personal Opinion to Fact#Personal Opinion to Fact\n",
      "allow for certain circumstances where it isn't practice for someone to vote.#Personal Opinion to Fact#Personal Opinion to Fact\n",
      "allow for exceptions in emergency cases.#Personal Opinion to Fact#Personal Opinion to Fact\n",
      "allow for exceptions or waivers such as a doctors excuse.#Personal Opinion to Fact#Personal Opinion to Fact\n",
      "allow for justifiable reasons if someone does not vote.#Personal Opinion to Fact#Personal Opinion to Fact\n",
      "allow for some to be excluded if they have a good reason#Personal Opinion to Fact#Personal Opinion to Fact\n",
      "allow other people to run so it is not the same people with no choice#Personal Opinion to Fact#Personal Opinion to Fact\n",
      "allow someone not to vote if they have a good reason.#Personal Opinion to Fact#Personal Opinion to Fact\n",
      "allow those with a good excuse to be exempted.#Personal Opinion to Fact#Personal Opinion to Fact\n",
      "allow those with verifiable excuses to no be penalized.#Personal Opinion to Fact#Personal Opinion to Fact\n",
      "allow valid exceptions, when unable to vote.#Personal Opinion to Fact#Personal Opinion to Fact\n",
      "allows exceptions for those that are unable to make it to work that show proof.#Personal Opinion to Fact#Personal Opinion to Fact\n",
      "avoid punishing those who do not and have a good reason for doing so.#Personal Opinion to Fact#Personal Opinion to Fact\n",
      "care must be taken to ensure that compulsory voting is not misused or abused.#Personal Opinion to Fact#Personal Opinion to Fact\n",
      "do not forcing people to vote for a particular party or candidate#Personal Opinion to Fact#Personal Opinion to Fact\n",
      "does that conflict with the democracy we live in?#Personal Opinion to Fact#Personal Opinion to Fact\n",
      "exceptions should be allowed.#Personal Opinion to Fact#Personal Opinion to Fact\n",
      "give grounds for exemption & ask for a reason for exemption.#Personal Opinion to Fact#Personal Opinion to Fact\n",
      "government always miuse it for personal gain#Personal Opinion to Fact#\n",
      "I believe in the right to choose to vote.#Personal Opinion to Fact#Personal Opinion to Fact\n",
      "I don't think this is a good idea because it interferes too much with civil liberties in my opinion and I agree that everyone should vote, but I do not believe that they should be forced to do so.#Personal Opinion to Fact#\n",
      "if you have a reason why you can’t vote, it should be accepted.#Personal Opinion to Fact#Personal Opinion to Fact\n",
      "it has make proper arrangements to not misuse it.#Personal Opinion to Fact#Personal Opinion to Fact\n",
      "it is a violation of personal liberties#Personal Opinion to Fact#Personal Opinion to Fact\n",
      "it is a violation of personal liberties and choices.#Personal Opinion to Fact#Personal Opinion to Fact\n",
      "it must be wary for the government not to misuse it to favor one sided campaigns.#Personal Opinion to Fact#Personal Opinion to Fact\n",
      "it should allow political competition.#Personal Opinion to Fact#Personal Opinion to Fact\n",
      "it should be pretty lax for the reasons not vote like any medical emergencies or simply having a vacation already scheduled.#Personal Opinion to Fact#Personal Opinion to Fact\n",
      "it turns a civic right into a civic duty.#Personal Opinion to Fact#Personal Opinion to Fact\n",
      "it violates personal liberties and choices.#Personal Opinion to Fact#Personal Opinion to Fact\n",
      "make clear exceptions such as hospitalization or mandatory work requirements for emergency workers and/or make internet and telephone voting an option.#Personal Opinion to Fact#Personal Opinion to Fact\n",
      "need to be careful to not abuse that power.#Personal Opinion to Fact#Personal Opinion to Fact\n",
      "needs to tread very lightly to avoid trampling the right and freedoms of Americans.#Personal Opinion to Fact#Personal Opinion to Fact\n",
      "not abuse the power.#Personal Opinion to Fact#Personal Opinion to Fact\n",
      "not enforce harsh penalties for those who do not follow this law.#Personal Opinion to Fact#Personal Opinion to Fact\n",
      "not enforce it as a serious crime punishable by law for failing to do so; that is counterproductive, and while votes will still be cast, it's best not to impose or force the citizens to do something with the threat of a negative repercussion.#Personal Opinion to Fact#Personal Opinion to Fact\n",
      "not enforce it if there is good reason not to vote.#Personal Opinion to Fact#Personal Opinion to Fact\n",
      "not enforce it.#Personal Opinion to Fact#Personal Opinion to Fact\n",
      "not enforce penalties on non voters who have a valid reason for not voting.#Personal Opinion to Fact#Personal Opinion to Fact\n",
      "not harass citizens with this.#Personal Opinion to Fact#Personal Opinion to Fact\n",
      "not have any consequences which impact financial status.#Personal Opinion to Fact#Personal Opinion to Fact\n",
      "not impose harsh penalties for failure to vote.#Personal Opinion to Fact#Personal Opinion to Fact\n",
      "not impose punishments as that would only deter people.#Personal Opinion to Fact#Personal Opinion to Fact\n",
      "not impose strict penalties such as restricting pay.#Personal Opinion to Fact#Personal Opinion to Fact\n",
      "not influence the system to determine the outcome.#Personal Opinion to Fact#Personal Opinion to Fact\n",
      "not misuse it by making sure there is a good competition between candidates.#Personal Opinion to Fact#Personal Opinion to Fact\n",
      "not only have one option.#Personal Opinion to Fact#Personal Opinion to Fact\n",
      "not penalize if there is a good reason that the person did not vote.#Personal Opinion to Fact#Personal Opinion to Fact\n",
      "not penalize people with legitimate reasons for failing to vote.#Personal Opinion to Fact#Personal Opinion to Fact\n",
      "not punish a voter by freezing their paycheck because they have needs for themselves and their family.#Personal Opinion to Fact#Personal Opinion to Fact\n",
      "not punish citizens with legitimate reasons for not voting.#Personal Opinion to Fact#Personal Opinion to Fact\n",
      "not punish civilians who have a legitamte reasone why they could not vote.#Personal Opinion to Fact#Personal Opinion to Fact\n",
      "not punish those who fail to do so.#Personal Opinion to Fact#Personal Opinion to Fact\n",
      "not punish those who fail to vote.#Personal Opinion to Fact#Personal Opinion to Fact\n",
      "not severely penalize those who were unable to vote due to emergencies.#Personal Opinion to Fact#Personal Opinion to Fact\n",
      "not with hold wages.#Personal Opinion to Fact#Personal Opinion to Fact\n",
      "people should be excused from voting if they have a good reason.#Personal Opinion to Fact#Personal Opinion to Fact\n",
      "people should still have the liberty of personal choice.#Personal Opinion to Fact#Personal Opinion to Fact\n",
      "people's salaries should not be withheld if they are unable to vote.#Personal Opinion to Fact#Personal Opinion to Fact\n",
      "provide a good reason for not voting (e.g. being in a hospital) should accepted.#Personal Opinion to Fact#Personal Opinion to Fact\n",
      "punishing people for not doing is kind of harsh.#Personal Opinion to Fact#Personal Opinion to Fact\n",
      "punishment should not be allowed.#Personal Opinion to Fact#Personal Opinion to Fact\n",
      "should accept legitimate excuses from those who did not vote for a good reason.#Personal Opinion to Fact#Personal Opinion to Fact\n",
      "should allow for reasonable exemptions, such as hospitalization.#Personal Opinion to Fact#Personal Opinion to Fact\n",
      "should allow people not to vote if they have a legitimate reason for not being able to.#Personal Opinion to Fact#Personal Opinion to Fact\n",
      "should allow the citizens to choose who they want as their president or government official.#Personal Opinion to Fact#Personal Opinion to Fact\n",
      "should also make sure that they don't misuse it as in the case of dictatorship like North Korea.#Personal Opinion to Fact#\n",
      "should excuse circumstances that make it hard for a citizen to vote.#Personal Opinion to Fact#Personal Opinion to Fact\n",
      "should make exceptions if someone is unable to vote on voting day.#Personal Opinion to Fact#Personal Opinion to Fact\n",
      "should not do so in a way that violates personal liberties or choices.#Personal Opinion to Fact#Personal Opinion to Fact\n",
      "should not hold back a person's salary for 2 months if they are unable to get to a polling station#Personal Opinion to Fact#Personal Opinion to Fact\n",
      "should not impose penalty if people failed to vote.#Personal Opinion to Fact#Personal Opinion to Fact\n",
      "should not penalize those who can not vote because of extenuating circumstances.#Personal Opinion to Fact#Personal Opinion to Fact\n",
      "should not punish people for not voting if they have a reasonable excuse.#Personal Opinion to Fact#Personal Opinion to Fact\n",
      "should not punish people if they cannot vote.#Personal Opinion to Fact#Personal Opinion to Fact\n",
      "should not punish the groups of people that are unable to do so.#Personal Opinion to Fact#Personal Opinion to Fact\n",
      "should not punish those that do not vote.#Personal Opinion to Fact#Personal Opinion to Fact\n",
      "should not punish unfairly if the person is unable to make it due to certain circumstances.#Personal Opinion to Fact#Personal Opinion to Fact\n",
      "shouldn't punish citizens with legitimate excuses.#Personal Opinion to Fact#Personal Opinion to Fact\n",
      "shouldn't punish people if they don't vote.#Personal Opinion to Fact#Personal Opinion to Fact\n",
      "that it is a violation of personal liberties and choices.#Personal Opinion to Fact#Personal Opinion to Fact\n",
      "the election must be fair and not rigged.#Personal Opinion to Fact#Personal Opinion to Fact\n",
      "the penalties for not voting should not be excessive to the detriment of citizens unable to comply.#Personal Opinion to Fact#Personal Opinion to Fact\n",
      "the practice is sometimes misused.#Personal Opinion to Fact#Governments Can Abuse It/Dictatorships\n",
      "There are circumstances where people cannot actually go out and vote so it is difficult to enforce#Personal Opinion to Fact#Personal Opinion to Fact\n",
      "there are many factors that may exempt someone from voting.#Personal Opinion to Fact#\n",
      "there has to be exception for those who can not make it such as health related problems and many others.#Personal Opinion to Fact#Personal Opinion to Fact\n",
      "there should be provisions made for reasonable accommodation if an individual is unable to physically make it to the polls.#Personal Opinion to Fact#Personal Opinion to Fact\n",
      "there should not be a serious punishment for those who do not and there should always be exceptions made (ie. in the hospital.)#Personal Opinion to Fact#Personal Opinion to Fact\n",
      "there shouldn’t be major repercussions.#Personal Opinion to Fact#Personal Opinion to Fact\n",
      "there's going to be a lot of difficulty in determining the consequences of not voting, and then further ensuring that these punishments are enforced.#Personal Opinion to Fact#Personal Opinion to Fact\n",
      "they also have to take in account the peoples oppinion#Personal Opinion to Fact#\n",
      "they must understand there will be pushback from those who believe it is a violation of their rights.#Personal Opinion to Fact#Personal Opinion to Fact\n",
      "they should allow citizens to provide a reasonable excuse for not voting.#Personal Opinion to Fact#Personal Opinion to Fact\n",
      "they should make exceptions for individuals who have valid reasons for not being able to vote such as being in the hospital.#Personal Opinion to Fact#Personal Opinion to Fact\n",
      "they should make sure to be fair.#Personal Opinion to Fact#Personal Opinion to Fact\n",
      "they should not misuse this law to their own benefit.#Personal Opinion to Fact#Personal Opinion to Fact\n",
      "they should not punish the voter for not voting if they have a good reason for not voting.#Personal Opinion to Fact#Personal Opinion to Fact\n",
      "they will not be respecting everyone's wishes.#Personal Opinion to Fact#Personal Opinion to Fact\n",
      "this would be a violation of personal rights.#Personal Opinion to Fact#Personal Opinion to Fact\n",
      "this would lead to more dictator-like government behavior.#Personal Opinion to Fact#\n",
      "this would make voting a civic duty rather than a civic right.#Personal Opinion to Fact#\n",
      "we should not punish those who are unable to vote for a legitimate reason.#Personal Opinion to Fact#Personal Opinion to Fact\n",
      "willing to accept valid reasons why a person could not make it to a polling station.#Personal Opinion to Fact#Personal Opinion to Fact\n",
      "with exceptions for situations like hospital stays.#Personal Opinion to Fact#Personal Opinion to Fact\n",
      "with stipulations.#Personal Opinion to Fact#Personal Opinion to Fact\n",
      "without penalty.#Personal Opinion to Fact#Personal Opinion to Fact\n",
      "you shouldn't punish the people who didn't vote or were unable to.#Personal Opinion to Fact#Personal Opinion to Fact\n",
      "those against it say that it is a violation against personal liberties and choices.#Plagiarism#Personal Opinion to Fact\n",
      "those against compulsory voting say that it is a violation of liberties and personal choices.#Plagiarism#Personal Opinion to Fact\n",
      "pepole is very support#Unintelligible Response#\n",
      "they work liberal#Unintelligible Response#\n",
      "Governments Can Abuse It/Dictatorships 0.8275862068965517 0.46153846153846156 0.5925925925925927 52\n",
      "Negative Effects on Voter 0 0.0 0 20\n",
      "Not All Governments Enforce It 0 0.0 0 10\n",
      "North Korea/Dictatorships 0 0.0 0 10\n",
      "Consequences/Bolivia 0 0.0 0 10\n",
      "Violation of Personal Liberty 0 0.0 0 14\n",
      "Reference 0 0.0 0 14\n",
      "Personal Opinion to Fact 0.8741610738255033 0.9353680430879713 0.9037294015611448 557\n",
      "Answered Wrong Stem 0 0.0 0 15\n",
      "Clarify/Identify/Specify 0 0.0 0 10\n",
      "Misuse of Conjunction 0 0.0 0 16\n",
      "Outside of Article's Scope 1.0 0.10810810810810811 0.1951219512195122 74\n",
      "Plagiarism 0 0.0 0 13\n",
      "Unintelligible Response 0 0.0 0 25\n",
      "Evidences Needs More Context 0 0.0 0 10\n"
     ]
    }
   ],
   "source": [
    "scores = {}\n",
    "for item, predicted, correct in zip(all_test_data, all_predicted, all_correct):\n",
    "    correct_labels = [idx2label[i] for i, l in enumerate(correct) if l == 1]\n",
    "    predicted_labels = [idx2label[i] for i, l in enumerate(predicted) if l == 1]\n",
    "    print(\"{}#{}#{}\".format(item.text, \";\".join(correct_labels), \";\".join(predicted_labels)))    \n",
    "        \n",
    "    for label in predicted_labels + correct_labels:\n",
    "        if label not in scores:\n",
    "            scores[label] = {\"tp\": 0, \"fp\": 0, \"fn\": 0, \"support\": 0}\n",
    "    \n",
    "    for label in predicted_labels:\n",
    "        if label in correct_labels:\n",
    "            scores[label][\"tp\"] += 1\n",
    "        else:\n",
    "            scores[label][\"fp\"] += 1\n",
    "\n",
    "    for label in correct_labels:\n",
    "        scores[label][\"support\"] += 1\n",
    "        if label not in predicted_labels:\n",
    "            scores[label][\"fn\"] += 1\n",
    "            \n",
    "for label in scores:\n",
    "    lp = scores[label][\"tp\"] / (scores[label][\"tp\"] + scores[label][\"fp\"]) if scores[label][\"tp\"] + scores[label][\"fp\"] > 0 else 0\n",
    "    lr = scores[label][\"tp\"] / (scores[label][\"tp\"] + scores[label][\"fn\"]) if scores[label][\"tp\"] + scores[label][\"fn\"] > 0 else 0\n",
    "    lf = 2*lp*lr/(lp+lr) if lp+lr > 0 else 0\n",
    "    \n",
    "    print(label, lp, lr, lf, scores[label][\"support\"])"
   ]
  },
  {
   "cell_type": "code",
   "execution_count": 8,
   "metadata": {},
   "outputs": [
    {
     "name": "stdout",
     "output_type": "stream",
     "text": [
      "183 / 816\n"
     ]
    }
   ],
   "source": [
    "print(len([p for p in all_predicted if sum(p) == 0]), \"/\", len(all_predicted))"
   ]
  },
  {
   "cell_type": "code",
   "execution_count": null,
   "metadata": {},
   "outputs": [],
   "source": []
  }
 ],
 "metadata": {
  "kernelspec": {
   "display_name": "Python 3",
   "language": "python",
   "name": "python3"
  },
  "language_info": {
   "codemirror_mode": {
    "name": "ipython",
    "version": 3
   },
   "file_extension": ".py",
   "mimetype": "text/x-python",
   "name": "python",
   "nbconvert_exporter": "python",
   "pygments_lexer": "ipython3",
   "version": "3.7.3"
  }
 },
 "nbformat": 4,
 "nbformat_minor": 2
}
