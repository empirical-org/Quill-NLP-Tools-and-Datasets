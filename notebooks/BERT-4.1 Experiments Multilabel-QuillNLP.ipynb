{
 "cells": [
  {
   "cell_type": "markdown",
   "metadata": {},
   "source": [
    "# Multilabel BERT Experiments\n",
    "\n",
    "In this notebook we do some first experiments with BERT: we finetune a BERT model+classifier on each of our datasets separately and compute the accuracy of the resulting classifier on the test data."
   ]
  },
  {
   "cell_type": "markdown",
   "metadata": {},
   "source": [
    "For these experiments we use the `pytorch_transformers` package. It contains a variety of neural network architectures for transfer learning and pretrained models, including BERT and XLNET.\n",
    "\n",
    "Two different BERT models are relevant for our experiments: \n",
    "\n",
    "- BERT-base-uncased: a relatively small BERT model that should already give reasonable results,\n",
    "- BERT-large-uncased: a larger model for real state-of-the-art results."
   ]
  },
  {
   "cell_type": "code",
   "execution_count": 1,
   "metadata": {},
   "outputs": [],
   "source": [
    "from multilabel import EATINGMEAT_BECAUSE_MAP, EATINGMEAT_BUT_MAP, JUNKFOOD_BECAUSE_MAP, JUNKFOOD_BUT_MAP\n",
    "\n",
    "LABEL_MAP = JUNKFOOD_BUT_MAP\n",
    "BERT_MODEL = 'bert-base-uncased'\n",
    "BATCH_SIZE = 16 if \"base\" in BERT_MODEL else 2\n",
    "GRADIENT_ACCUMULATION_STEPS = 1 if \"base\" in BERT_MODEL else 8\n",
    "MAX_SEQ_LENGTH = 100\n",
    "PREFIX = \"junkfood_but\""
   ]
  },
  {
   "cell_type": "markdown",
   "metadata": {},
   "source": [
    "## Data\n",
    "\n",
    "We use the same data as for all our previous experiments. Here we load the training, development and test data for a particular prompt."
   ]
  },
  {
   "cell_type": "code",
   "execution_count": 2,
   "metadata": {},
   "outputs": [
    {
     "name": "stdout",
     "output_type": "stream",
     "text": [
      "Counter({'Schools providing healthy alternatives': 137, 'Students without choice': 46, 'Unclassified Off-Topic': 32, 'School without generating money': 26, 'Student choice': 24, 'Schools generate money': 16, 'Students can still bring/access junk food': 3})\n",
      "2556\n"
     ]
    }
   ],
   "source": [
    "import ndjson\n",
    "import glob\n",
    "from collections import Counter\n",
    "\n",
    "train_file = f\"../data/interim/{PREFIX}_train_withprompt.ndjson\"\n",
    "synth_files = glob.glob(f\"../data/interim/{PREFIX}_train_withprompt_allsynth.ndjson\")\n",
    "dev_file = f\"../data/interim/{PREFIX}_dev_withprompt.ndjson\"\n",
    "test_file = f\"../data/interim/{PREFIX}_test_withprompt.ndjson\"\n",
    "\n",
    "with open(train_file) as i:\n",
    "    train_data = ndjson.load(i)\n",
    "\n",
    "synth_data = []\n",
    "for f in synth_files:\n",
    "    with open(f) as i:\n",
    "        synth_data += ndjson.load(i)\n",
    "    \n",
    "with open(dev_file) as i:\n",
    "    dev_data = ndjson.load(i)\n",
    "    \n",
    "with open(test_file) as i:\n",
    "    test_data = ndjson.load(i)\n",
    "    \n",
    "labels = Counter([item[\"label\"] for item in train_data])\n",
    "print(labels)\n",
    "print(len(synth_data))"
   ]
  },
  {
   "cell_type": "markdown",
   "metadata": {},
   "source": [
    "Next, we build the label vocabulary, which maps every label in the training data to an index."
   ]
  },
  {
   "cell_type": "code",
   "execution_count": 3,
   "metadata": {},
   "outputs": [],
   "source": [
    "def map_to_multilabel(items):\n",
    "    return [{\"text\": item[\"text\"], \"label\": LABEL_MAP[item[\"label\"]]} for item in items]\n",
    "\n",
    "train_data = map_to_multilabel(train_data)\n",
    "dev_data = map_to_multilabel(dev_data)\n",
    "synth_data = map_to_multilabel(synth_data)\n",
    "test_data = map_to_multilabel(test_data)"
   ]
  },
  {
   "cell_type": "code",
   "execution_count": 4,
   "metadata": {},
   "outputs": [],
   "source": [
    "import sys\n",
    "sys.path.append('../')\n",
    "\n",
    "from quillnlp.models.bert.preprocessing import preprocess, create_label_vocabulary\n",
    "\n",
    "label2idx = create_label_vocabulary(train_data)\n",
    "idx2label = {v:k for k,v in label2idx.items()}\n",
    "target_names = [idx2label[s] for s in range(len(idx2label))]\n",
    "\n",
    "MAX_SEQ_LENGTH = 100\n",
    "train_dataloader = preprocess(train_data, BERT_MODEL, label2idx, MAX_SEQ_LENGTH, BATCH_SIZE)\n",
    "dev_dataloader = preprocess(dev_data, BERT_MODEL, label2idx, MAX_SEQ_LENGTH, BATCH_SIZE)\n",
    "test_dataloader = preprocess(test_data, BERT_MODEL, label2idx, MAX_SEQ_LENGTH, BATCH_SIZE, shuffle=False)"
   ]
  },
  {
   "cell_type": "markdown",
   "metadata": {},
   "source": [
    "## Model\n",
    "\n",
    "We load the pretrained model and put it on a GPU if one is available. We also put the model in \"training\" mode, so that we can correctly update its internal parameters on the basis of our data sets."
   ]
  },
  {
   "cell_type": "code",
   "execution_count": 5,
   "metadata": {},
   "outputs": [],
   "source": [
    "import sys\n",
    "sys.path.append('../')\n",
    "\n",
    "import torch\n",
    "from quillnlp.models.bert.models import get_multilabel_bert_classifier\n",
    "\n",
    "BERT_MODEL = 'bert-base-uncased'\n",
    "\n",
    "device = \"cuda\" if torch.cuda.is_available() else \"cpu\"\n",
    "model = get_multilabel_bert_classifier(BERT_MODEL, len(label2idx), device=device)"
   ]
  },
  {
   "cell_type": "markdown",
   "metadata": {},
   "source": [
    "## Training"
   ]
  },
  {
   "cell_type": "code",
   "execution_count": 6,
   "metadata": {},
   "outputs": [
    {
     "name": "stderr",
     "output_type": "stream",
     "text": [
      "\r",
      "Epoch:   0%|          | 0/20 [00:00<?, ?it/s]"
     ]
    },
    {
     "data": {
      "application/vnd.jupyter.widget-view+json": {
       "model_id": "12f11271794b4ffbae8801ce68ac52d2",
       "version_major": 2,
       "version_minor": 0
      },
      "text/plain": [
       "HBox(children=(IntProgress(value=0, description='Training iteration', max=18, style=ProgressStyle(description_…"
      ]
     },
     "metadata": {},
     "output_type": "display_data"
    },
    {
     "name": "stdout",
     "output_type": "stream",
     "text": [
      "\n"
     ]
    },
    {
     "data": {
      "application/vnd.jupyter.widget-view+json": {
       "model_id": "6fee3fefd70942688e3ca596e699fe69",
       "version_major": 2,
       "version_minor": 0
      },
      "text/plain": [
       "HBox(children=(IntProgress(value=0, description='Evaluation iteration', max=5, style=ProgressStyle(description…"
      ]
     },
     "metadata": {},
     "output_type": "display_data"
    },
    {
     "name": "stdout",
     "output_type": "stream",
     "text": [
      "\n",
      "Loss history: []\n",
      "Dev loss: 0.46770793199539185\n"
     ]
    },
    {
     "name": "stderr",
     "output_type": "stream",
     "text": [
      "\r",
      "Epoch:   5%|▌         | 1/20 [00:04<01:30,  4.76s/it]"
     ]
    },
    {
     "data": {
      "application/vnd.jupyter.widget-view+json": {
       "model_id": "7463d77755c1407b8a0e20b5d76e3bf1",
       "version_major": 2,
       "version_minor": 0
      },
      "text/plain": [
       "HBox(children=(IntProgress(value=0, description='Training iteration', max=18, style=ProgressStyle(description_…"
      ]
     },
     "metadata": {},
     "output_type": "display_data"
    },
    {
     "name": "stdout",
     "output_type": "stream",
     "text": [
      "\n"
     ]
    },
    {
     "data": {
      "application/vnd.jupyter.widget-view+json": {
       "model_id": "f27751db24bb454bb986c9204bc21f44",
       "version_major": 2,
       "version_minor": 0
      },
      "text/plain": [
       "HBox(children=(IntProgress(value=0, description='Evaluation iteration', max=5, style=ProgressStyle(description…"
      ]
     },
     "metadata": {},
     "output_type": "display_data"
    },
    {
     "name": "stdout",
     "output_type": "stream",
     "text": [
      "\n",
      "Loss history: [0.46770793199539185]\n",
      "Dev loss: 0.3351816892623901\n"
     ]
    },
    {
     "name": "stderr",
     "output_type": "stream",
     "text": [
      "\r",
      "Epoch:  10%|█         | 2/20 [00:09<01:24,  4.69s/it]"
     ]
    },
    {
     "data": {
      "application/vnd.jupyter.widget-view+json": {
       "model_id": "6c34b095a918415dbb37c8bf5ab599fc",
       "version_major": 2,
       "version_minor": 0
      },
      "text/plain": [
       "HBox(children=(IntProgress(value=0, description='Training iteration', max=18, style=ProgressStyle(description_…"
      ]
     },
     "metadata": {},
     "output_type": "display_data"
    },
    {
     "name": "stdout",
     "output_type": "stream",
     "text": [
      "\n"
     ]
    },
    {
     "data": {
      "application/vnd.jupyter.widget-view+json": {
       "model_id": "dc7c12f8232c4e2db81c1f16b135346f",
       "version_major": 2,
       "version_minor": 0
      },
      "text/plain": [
       "HBox(children=(IntProgress(value=0, description='Evaluation iteration', max=5, style=ProgressStyle(description…"
      ]
     },
     "metadata": {},
     "output_type": "display_data"
    },
    {
     "name": "stdout",
     "output_type": "stream",
     "text": [
      "\n",
      "Loss history: [0.46770793199539185, 0.3351816892623901]\n",
      "Dev loss: 0.2613398343324661\n"
     ]
    },
    {
     "name": "stderr",
     "output_type": "stream",
     "text": [
      "\r",
      "Epoch:  15%|█▌        | 3/20 [00:13<01:18,  4.65s/it]"
     ]
    },
    {
     "data": {
      "application/vnd.jupyter.widget-view+json": {
       "model_id": "793cc678111341b8b013431479e6e09e",
       "version_major": 2,
       "version_minor": 0
      },
      "text/plain": [
       "HBox(children=(IntProgress(value=0, description='Training iteration', max=18, style=ProgressStyle(description_…"
      ]
     },
     "metadata": {},
     "output_type": "display_data"
    },
    {
     "name": "stdout",
     "output_type": "stream",
     "text": [
      "\n"
     ]
    },
    {
     "data": {
      "application/vnd.jupyter.widget-view+json": {
       "model_id": "719d4038ebc54522bbc242ccd3b6bda7",
       "version_major": 2,
       "version_minor": 0
      },
      "text/plain": [
       "HBox(children=(IntProgress(value=0, description='Evaluation iteration', max=5, style=ProgressStyle(description…"
      ]
     },
     "metadata": {},
     "output_type": "display_data"
    },
    {
     "name": "stdout",
     "output_type": "stream",
     "text": [
      "\n",
      "Loss history: [0.46770793199539185, 0.3351816892623901, 0.2613398343324661]\n",
      "Dev loss: 0.2466729998588562\n"
     ]
    },
    {
     "name": "stderr",
     "output_type": "stream",
     "text": [
      "\r",
      "Epoch:  20%|██        | 4/20 [00:18<01:13,  4.62s/it]"
     ]
    },
    {
     "data": {
      "application/vnd.jupyter.widget-view+json": {
       "model_id": "7f585b97f6cc470dac1f9842178352e3",
       "version_major": 2,
       "version_minor": 0
      },
      "text/plain": [
       "HBox(children=(IntProgress(value=0, description='Training iteration', max=18, style=ProgressStyle(description_…"
      ]
     },
     "metadata": {},
     "output_type": "display_data"
    },
    {
     "name": "stdout",
     "output_type": "stream",
     "text": [
      "\n"
     ]
    },
    {
     "data": {
      "application/vnd.jupyter.widget-view+json": {
       "model_id": "dd09e3cd4a6042338d0873caebb3fe0a",
       "version_major": 2,
       "version_minor": 0
      },
      "text/plain": [
       "HBox(children=(IntProgress(value=0, description='Evaluation iteration', max=5, style=ProgressStyle(description…"
      ]
     },
     "metadata": {},
     "output_type": "display_data"
    },
    {
     "name": "stdout",
     "output_type": "stream",
     "text": [
      "\n",
      "Loss history: [0.46770793199539185, 0.3351816892623901, 0.2613398343324661, 0.2466729998588562]\n",
      "Dev loss: 0.21184660196304322\n"
     ]
    },
    {
     "name": "stderr",
     "output_type": "stream",
     "text": [
      "\r",
      "Epoch:  25%|██▌       | 5/20 [00:22<01:08,  4.59s/it]"
     ]
    },
    {
     "data": {
      "application/vnd.jupyter.widget-view+json": {
       "model_id": "fedf9d7004144d789bb31ed6f2420058",
       "version_major": 2,
       "version_minor": 0
      },
      "text/plain": [
       "HBox(children=(IntProgress(value=0, description='Training iteration', max=18, style=ProgressStyle(description_…"
      ]
     },
     "metadata": {},
     "output_type": "display_data"
    },
    {
     "name": "stdout",
     "output_type": "stream",
     "text": [
      "\n"
     ]
    },
    {
     "data": {
      "application/vnd.jupyter.widget-view+json": {
       "model_id": "36e0aa17f97e423daa9fbd27ae6c5411",
       "version_major": 2,
       "version_minor": 0
      },
      "text/plain": [
       "HBox(children=(IntProgress(value=0, description='Evaluation iteration', max=5, style=ProgressStyle(description…"
      ]
     },
     "metadata": {},
     "output_type": "display_data"
    },
    {
     "name": "stdout",
     "output_type": "stream",
     "text": [
      "\n",
      "Loss history: [0.46770793199539185, 0.3351816892623901, 0.2613398343324661, 0.2466729998588562, 0.21184660196304322]\n",
      "Dev loss: 0.20426980555057525\n"
     ]
    },
    {
     "name": "stderr",
     "output_type": "stream",
     "text": [
      "\r",
      "Epoch:  30%|███       | 6/20 [00:27<01:04,  4.58s/it]"
     ]
    },
    {
     "data": {
      "application/vnd.jupyter.widget-view+json": {
       "model_id": "327c9e435c2d485d972e9d15011d1aae",
       "version_major": 2,
       "version_minor": 0
      },
      "text/plain": [
       "HBox(children=(IntProgress(value=0, description='Training iteration', max=18, style=ProgressStyle(description_…"
      ]
     },
     "metadata": {},
     "output_type": "display_data"
    },
    {
     "name": "stdout",
     "output_type": "stream",
     "text": [
      "\n"
     ]
    },
    {
     "data": {
      "application/vnd.jupyter.widget-view+json": {
       "model_id": "d70f0841daa84e5fa20fdcbc2556835a",
       "version_major": 2,
       "version_minor": 0
      },
      "text/plain": [
       "HBox(children=(IntProgress(value=0, description='Evaluation iteration', max=5, style=ProgressStyle(description…"
      ]
     },
     "metadata": {},
     "output_type": "display_data"
    },
    {
     "name": "stdout",
     "output_type": "stream",
     "text": [
      "\n",
      "Loss history: [0.46770793199539185, 0.3351816892623901, 0.2613398343324661, 0.2466729998588562, 0.21184660196304322, 0.20426980555057525]\n",
      "Dev loss: 0.1862332671880722\n"
     ]
    },
    {
     "name": "stderr",
     "output_type": "stream",
     "text": [
      "\r",
      "Epoch:  35%|███▌      | 7/20 [00:32<00:59,  4.57s/it]"
     ]
    },
    {
     "data": {
      "application/vnd.jupyter.widget-view+json": {
       "model_id": "5e0283c8833841159a66011d4e94d074",
       "version_major": 2,
       "version_minor": 0
      },
      "text/plain": [
       "HBox(children=(IntProgress(value=0, description='Training iteration', max=18, style=ProgressStyle(description_…"
      ]
     },
     "metadata": {},
     "output_type": "display_data"
    },
    {
     "name": "stdout",
     "output_type": "stream",
     "text": [
      "\n"
     ]
    },
    {
     "data": {
      "application/vnd.jupyter.widget-view+json": {
       "model_id": "241d65b2ed87412f87a4aad2cc720dd1",
       "version_major": 2,
       "version_minor": 0
      },
      "text/plain": [
       "HBox(children=(IntProgress(value=0, description='Evaluation iteration', max=5, style=ProgressStyle(description…"
      ]
     },
     "metadata": {},
     "output_type": "display_data"
    },
    {
     "name": "stdout",
     "output_type": "stream",
     "text": [
      "\n",
      "Loss history: [0.46770793199539185, 0.3351816892623901, 0.2613398343324661, 0.2466729998588562, 0.21184660196304322, 0.20426980555057525, 0.1862332671880722]\n",
      "Dev loss: 0.16687243729829787\n"
     ]
    },
    {
     "name": "stderr",
     "output_type": "stream",
     "text": [
      "\r",
      "Epoch:  40%|████      | 8/20 [00:36<00:54,  4.56s/it]"
     ]
    },
    {
     "data": {
      "application/vnd.jupyter.widget-view+json": {
       "model_id": "6d168eeb81fc4c4db8102ab72f22fd23",
       "version_major": 2,
       "version_minor": 0
      },
      "text/plain": [
       "HBox(children=(IntProgress(value=0, description='Training iteration', max=18, style=ProgressStyle(description_…"
      ]
     },
     "metadata": {},
     "output_type": "display_data"
    },
    {
     "name": "stdout",
     "output_type": "stream",
     "text": [
      "\n"
     ]
    },
    {
     "data": {
      "application/vnd.jupyter.widget-view+json": {
       "model_id": "645d44a0499642e6a6c01dc5fdc151c2",
       "version_major": 2,
       "version_minor": 0
      },
      "text/plain": [
       "HBox(children=(IntProgress(value=0, description='Evaluation iteration', max=5, style=ProgressStyle(description…"
      ]
     },
     "metadata": {},
     "output_type": "display_data"
    },
    {
     "name": "stdout",
     "output_type": "stream",
     "text": [
      "\n",
      "Loss history: [0.46770793199539185, 0.3351816892623901, 0.2613398343324661, 0.2466729998588562, 0.21184660196304322, 0.20426980555057525, 0.1862332671880722, 0.16687243729829787]\n",
      "Dev loss: 0.15970188975334168\n"
     ]
    },
    {
     "name": "stderr",
     "output_type": "stream",
     "text": [
      "\r",
      "Epoch:  45%|████▌     | 9/20 [00:41<00:50,  4.56s/it]"
     ]
    },
    {
     "data": {
      "application/vnd.jupyter.widget-view+json": {
       "model_id": "a0cb9e67a6044a9ab0ee49b10bd77b86",
       "version_major": 2,
       "version_minor": 0
      },
      "text/plain": [
       "HBox(children=(IntProgress(value=0, description='Training iteration', max=18, style=ProgressStyle(description_…"
      ]
     },
     "metadata": {},
     "output_type": "display_data"
    },
    {
     "name": "stdout",
     "output_type": "stream",
     "text": [
      "\n"
     ]
    },
    {
     "data": {
      "application/vnd.jupyter.widget-view+json": {
       "model_id": "c832fdad10b446be9099a66c9f0e7b40",
       "version_major": 2,
       "version_minor": 0
      },
      "text/plain": [
       "HBox(children=(IntProgress(value=0, description='Evaluation iteration', max=5, style=ProgressStyle(description…"
      ]
     },
     "metadata": {},
     "output_type": "display_data"
    },
    {
     "name": "stderr",
     "output_type": "stream",
     "text": [
      "\r",
      "Epoch:  50%|█████     | 10/20 [00:45<00:44,  4.41s/it]"
     ]
    },
    {
     "name": "stdout",
     "output_type": "stream",
     "text": [
      "\n",
      "Loss history: [0.46770793199539185, 0.3351816892623901, 0.2613398343324661, 0.2466729998588562, 0.21184660196304322, 0.20426980555057525, 0.1862332671880722, 0.16687243729829787, 0.15970188975334168]\n",
      "Dev loss: 0.16814120709896088\n"
     ]
    },
    {
     "data": {
      "application/vnd.jupyter.widget-view+json": {
       "model_id": "fddb1359aa96407db66065329ec397c8",
       "version_major": 2,
       "version_minor": 0
      },
      "text/plain": [
       "HBox(children=(IntProgress(value=0, description='Training iteration', max=18, style=ProgressStyle(description_…"
      ]
     },
     "metadata": {},
     "output_type": "display_data"
    },
    {
     "name": "stdout",
     "output_type": "stream",
     "text": [
      "\n"
     ]
    },
    {
     "data": {
      "application/vnd.jupyter.widget-view+json": {
       "model_id": "1bf26b8921a547ff81bacd58b6bf2aaa",
       "version_major": 2,
       "version_minor": 0
      },
      "text/plain": [
       "HBox(children=(IntProgress(value=0, description='Evaluation iteration', max=5, style=ProgressStyle(description…"
      ]
     },
     "metadata": {},
     "output_type": "display_data"
    },
    {
     "name": "stdout",
     "output_type": "stream",
     "text": [
      "\n",
      "Loss history: [0.46770793199539185, 0.3351816892623901, 0.2613398343324661, 0.2466729998588562, 0.21184660196304322, 0.20426980555057525, 0.1862332671880722, 0.16687243729829787, 0.15970188975334168, 0.16814120709896088]\n",
      "Dev loss: 0.15619001239538194\n"
     ]
    },
    {
     "name": "stderr",
     "output_type": "stream",
     "text": [
      "\r",
      "Epoch:  55%|█████▌    | 11/20 [00:49<00:40,  4.45s/it]"
     ]
    },
    {
     "data": {
      "application/vnd.jupyter.widget-view+json": {
       "model_id": "811fdf237c004490b40efa41f10d54ff",
       "version_major": 2,
       "version_minor": 0
      },
      "text/plain": [
       "HBox(children=(IntProgress(value=0, description='Training iteration', max=18, style=ProgressStyle(description_…"
      ]
     },
     "metadata": {},
     "output_type": "display_data"
    },
    {
     "name": "stdout",
     "output_type": "stream",
     "text": [
      "\n"
     ]
    },
    {
     "data": {
      "application/vnd.jupyter.widget-view+json": {
       "model_id": "f26685f11ec44d6a88f66589c6c3805f",
       "version_major": 2,
       "version_minor": 0
      },
      "text/plain": [
       "HBox(children=(IntProgress(value=0, description='Evaluation iteration', max=5, style=ProgressStyle(description…"
      ]
     },
     "metadata": {},
     "output_type": "display_data"
    },
    {
     "name": "stderr",
     "output_type": "stream",
     "text": [
      "\r",
      "Epoch:  60%|██████    | 12/20 [00:53<00:34,  4.34s/it]"
     ]
    },
    {
     "name": "stdout",
     "output_type": "stream",
     "text": [
      "\n",
      "Loss history: [0.46770793199539185, 0.3351816892623901, 0.2613398343324661, 0.2466729998588562, 0.21184660196304322, 0.20426980555057525, 0.1862332671880722, 0.16687243729829787, 0.15970188975334168, 0.16814120709896088, 0.15619001239538194]\n",
      "Dev loss: 0.16108817160129546\n"
     ]
    },
    {
     "data": {
      "application/vnd.jupyter.widget-view+json": {
       "model_id": "6ba085e1989b47d09ca05636be162377",
       "version_major": 2,
       "version_minor": 0
      },
      "text/plain": [
       "HBox(children=(IntProgress(value=0, description='Training iteration', max=18, style=ProgressStyle(description_…"
      ]
     },
     "metadata": {},
     "output_type": "display_data"
    },
    {
     "name": "stdout",
     "output_type": "stream",
     "text": [
      "\n"
     ]
    },
    {
     "data": {
      "application/vnd.jupyter.widget-view+json": {
       "model_id": "144095c722034987a16a85a693a9330d",
       "version_major": 2,
       "version_minor": 0
      },
      "text/plain": [
       "HBox(children=(IntProgress(value=0, description='Evaluation iteration', max=5, style=ProgressStyle(description…"
      ]
     },
     "metadata": {},
     "output_type": "display_data"
    },
    {
     "name": "stdout",
     "output_type": "stream",
     "text": [
      "\n",
      "Loss history: [0.46770793199539185, 0.3351816892623901, 0.2613398343324661, 0.2466729998588562, 0.21184660196304322, 0.20426980555057525, 0.1862332671880722, 0.16687243729829787, 0.15970188975334168, 0.16814120709896088, 0.15619001239538194, 0.16108817160129546]\n",
      "Dev loss: 0.1498269259929657\n"
     ]
    },
    {
     "name": "stderr",
     "output_type": "stream",
     "text": [
      "\r",
      "Epoch:  65%|██████▌   | 13/20 [00:58<00:30,  4.40s/it]"
     ]
    },
    {
     "data": {
      "application/vnd.jupyter.widget-view+json": {
       "model_id": "b2d8edd2f18c435b85b7fd131eee1036",
       "version_major": 2,
       "version_minor": 0
      },
      "text/plain": [
       "HBox(children=(IntProgress(value=0, description='Training iteration', max=18, style=ProgressStyle(description_…"
      ]
     },
     "metadata": {},
     "output_type": "display_data"
    },
    {
     "name": "stdout",
     "output_type": "stream",
     "text": [
      "\n"
     ]
    },
    {
     "data": {
      "application/vnd.jupyter.widget-view+json": {
       "model_id": "ffbcf9f9a21c4b6097e303f89575939e",
       "version_major": 2,
       "version_minor": 0
      },
      "text/plain": [
       "HBox(children=(IntProgress(value=0, description='Evaluation iteration', max=5, style=ProgressStyle(description…"
      ]
     },
     "metadata": {},
     "output_type": "display_data"
    },
    {
     "name": "stderr",
     "output_type": "stream",
     "text": [
      "\r",
      "Epoch:  70%|███████   | 14/20 [01:02<00:25,  4.31s/it]"
     ]
    },
    {
     "name": "stdout",
     "output_type": "stream",
     "text": [
      "\n",
      "Loss history: [0.46770793199539185, 0.3351816892623901, 0.2613398343324661, 0.2466729998588562, 0.21184660196304322, 0.20426980555057525, 0.1862332671880722, 0.16687243729829787, 0.15970188975334168, 0.16814120709896088, 0.15619001239538194, 0.16108817160129546, 0.1498269259929657]\n",
      "Dev loss: 0.15279495120048522\n"
     ]
    },
    {
     "data": {
      "application/vnd.jupyter.widget-view+json": {
       "model_id": "3e1da335a13a49c5babe5384aec14964",
       "version_major": 2,
       "version_minor": 0
      },
      "text/plain": [
       "HBox(children=(IntProgress(value=0, description='Training iteration', max=18, style=ProgressStyle(description_…"
      ]
     },
     "metadata": {},
     "output_type": "display_data"
    },
    {
     "name": "stdout",
     "output_type": "stream",
     "text": [
      "\n"
     ]
    },
    {
     "data": {
      "application/vnd.jupyter.widget-view+json": {
       "model_id": "141f8f237d184094b0e8049ad8bb3842",
       "version_major": 2,
       "version_minor": 0
      },
      "text/plain": [
       "HBox(children=(IntProgress(value=0, description='Evaluation iteration', max=5, style=ProgressStyle(description…"
      ]
     },
     "metadata": {},
     "output_type": "display_data"
    },
    {
     "name": "stderr",
     "output_type": "stream",
     "text": [
      "\r",
      "Epoch:  75%|███████▌  | 15/20 [01:06<00:21,  4.24s/it]"
     ]
    },
    {
     "name": "stdout",
     "output_type": "stream",
     "text": [
      "\n",
      "Loss history: [0.46770793199539185, 0.3351816892623901, 0.2613398343324661, 0.2466729998588562, 0.21184660196304322, 0.20426980555057525, 0.1862332671880722, 0.16687243729829787, 0.15970188975334168, 0.16814120709896088, 0.15619001239538194, 0.16108817160129546, 0.1498269259929657, 0.15279495120048522]\n",
      "Dev loss: 0.15603040903806686\n"
     ]
    },
    {
     "data": {
      "application/vnd.jupyter.widget-view+json": {
       "model_id": "a38bb050adde4acf8815a20c7facbef1",
       "version_major": 2,
       "version_minor": 0
      },
      "text/plain": [
       "HBox(children=(IntProgress(value=0, description='Training iteration', max=18, style=ProgressStyle(description_…"
      ]
     },
     "metadata": {},
     "output_type": "display_data"
    },
    {
     "name": "stdout",
     "output_type": "stream",
     "text": [
      "\n"
     ]
    },
    {
     "data": {
      "application/vnd.jupyter.widget-view+json": {
       "model_id": "a609e5f9352e469ebce26c9defcda2da",
       "version_major": 2,
       "version_minor": 0
      },
      "text/plain": [
       "HBox(children=(IntProgress(value=0, description='Evaluation iteration', max=5, style=ProgressStyle(description…"
      ]
     },
     "metadata": {},
     "output_type": "display_data"
    },
    {
     "name": "stdout",
     "output_type": "stream",
     "text": [
      "\n",
      "Loss history: [0.46770793199539185, 0.3351816892623901, 0.2613398343324661, 0.2466729998588562, 0.21184660196304322, 0.20426980555057525, 0.1862332671880722, 0.16687243729829787, 0.15970188975334168, 0.16814120709896088, 0.15619001239538194, 0.16108817160129546, 0.1498269259929657, 0.15279495120048522, 0.15603040903806686]\n",
      "Dev loss: 0.14055202677845954\n"
     ]
    },
    {
     "name": "stderr",
     "output_type": "stream",
     "text": [
      "\r",
      "Epoch:  80%|████████  | 16/20 [01:11<00:17,  4.34s/it]"
     ]
    },
    {
     "data": {
      "application/vnd.jupyter.widget-view+json": {
       "model_id": "eb6b57b6399f403eb07bffd2440dc663",
       "version_major": 2,
       "version_minor": 0
      },
      "text/plain": [
       "HBox(children=(IntProgress(value=0, description='Training iteration', max=18, style=ProgressStyle(description_…"
      ]
     },
     "metadata": {},
     "output_type": "display_data"
    },
    {
     "name": "stdout",
     "output_type": "stream",
     "text": [
      "\n"
     ]
    },
    {
     "data": {
      "application/vnd.jupyter.widget-view+json": {
       "model_id": "c0efc9017a9f4aa4974d7732db248cf0",
       "version_major": 2,
       "version_minor": 0
      },
      "text/plain": [
       "HBox(children=(IntProgress(value=0, description='Evaluation iteration', max=5, style=ProgressStyle(description…"
      ]
     },
     "metadata": {},
     "output_type": "display_data"
    },
    {
     "name": "stderr",
     "output_type": "stream",
     "text": [
      "\r",
      "Epoch:  85%|████████▌ | 17/20 [01:15<00:12,  4.26s/it]"
     ]
    },
    {
     "name": "stdout",
     "output_type": "stream",
     "text": [
      "\n",
      "Loss history: [0.46770793199539185, 0.3351816892623901, 0.2613398343324661, 0.2466729998588562, 0.21184660196304322, 0.20426980555057525, 0.1862332671880722, 0.16687243729829787, 0.15970188975334168, 0.16814120709896088, 0.15619001239538194, 0.16108817160129546, 0.1498269259929657, 0.15279495120048522, 0.15603040903806686, 0.14055202677845954]\n",
      "Dev loss: 0.1639494016766548\n"
     ]
    },
    {
     "data": {
      "application/vnd.jupyter.widget-view+json": {
       "model_id": "e4e651756cb24262b01a0cfd6ce7c195",
       "version_major": 2,
       "version_minor": 0
      },
      "text/plain": [
       "HBox(children=(IntProgress(value=0, description='Training iteration', max=18, style=ProgressStyle(description_…"
      ]
     },
     "metadata": {},
     "output_type": "display_data"
    },
    {
     "name": "stdout",
     "output_type": "stream",
     "text": [
      "\n"
     ]
    },
    {
     "data": {
      "application/vnd.jupyter.widget-view+json": {
       "model_id": "921c9013f28b49edacc93b70db651355",
       "version_major": 2,
       "version_minor": 0
      },
      "text/plain": [
       "HBox(children=(IntProgress(value=0, description='Evaluation iteration', max=5, style=ProgressStyle(description…"
      ]
     },
     "metadata": {},
     "output_type": "display_data"
    },
    {
     "name": "stderr",
     "output_type": "stream",
     "text": [
      "\r",
      "Epoch:  90%|█████████ | 18/20 [01:19<00:08,  4.21s/it]"
     ]
    },
    {
     "name": "stdout",
     "output_type": "stream",
     "text": [
      "\n",
      "Loss history: [0.46770793199539185, 0.3351816892623901, 0.2613398343324661, 0.2466729998588562, 0.21184660196304322, 0.20426980555057525, 0.1862332671880722, 0.16687243729829787, 0.15970188975334168, 0.16814120709896088, 0.15619001239538194, 0.16108817160129546, 0.1498269259929657, 0.15279495120048522, 0.15603040903806686, 0.14055202677845954, 0.1639494016766548]\n",
      "Dev loss: 0.14596846848726272\n"
     ]
    },
    {
     "data": {
      "application/vnd.jupyter.widget-view+json": {
       "model_id": "99a351db782d4261a52cc5d72689f428",
       "version_major": 2,
       "version_minor": 0
      },
      "text/plain": [
       "HBox(children=(IntProgress(value=0, description='Training iteration', max=18, style=ProgressStyle(description_…"
      ]
     },
     "metadata": {},
     "output_type": "display_data"
    },
    {
     "name": "stdout",
     "output_type": "stream",
     "text": [
      "\n"
     ]
    },
    {
     "data": {
      "application/vnd.jupyter.widget-view+json": {
       "model_id": "5e83d7972ee7470a8949c729f192d256",
       "version_major": 2,
       "version_minor": 0
      },
      "text/plain": [
       "HBox(children=(IntProgress(value=0, description='Evaluation iteration', max=5, style=ProgressStyle(description…"
      ]
     },
     "metadata": {},
     "output_type": "display_data"
    },
    {
     "name": "stderr",
     "output_type": "stream",
     "text": [
      "\r",
      "Epoch:  95%|█████████▌| 19/20 [01:23<00:04,  4.17s/it]"
     ]
    },
    {
     "name": "stdout",
     "output_type": "stream",
     "text": [
      "\n",
      "Loss history: [0.46770793199539185, 0.3351816892623901, 0.2613398343324661, 0.2466729998588562, 0.21184660196304322, 0.20426980555057525, 0.1862332671880722, 0.16687243729829787, 0.15970188975334168, 0.16814120709896088, 0.15619001239538194, 0.16108817160129546, 0.1498269259929657, 0.15279495120048522, 0.15603040903806686, 0.14055202677845954, 0.1639494016766548, 0.14596846848726272]\n",
      "Dev loss: 0.1474771097302437\n"
     ]
    },
    {
     "data": {
      "application/vnd.jupyter.widget-view+json": {
       "model_id": "0402510890e247babe599c5c0c84fa9a",
       "version_major": 2,
       "version_minor": 0
      },
      "text/plain": [
       "HBox(children=(IntProgress(value=0, description='Training iteration', max=18, style=ProgressStyle(description_…"
      ]
     },
     "metadata": {},
     "output_type": "display_data"
    },
    {
     "name": "stdout",
     "output_type": "stream",
     "text": [
      "\n"
     ]
    },
    {
     "data": {
      "application/vnd.jupyter.widget-view+json": {
       "model_id": "28ef61ba3e4c4203986e40533e4a33a9",
       "version_major": 2,
       "version_minor": 0
      },
      "text/plain": [
       "HBox(children=(IntProgress(value=0, description='Evaluation iteration', max=5, style=ProgressStyle(description…"
      ]
     },
     "metadata": {},
     "output_type": "display_data"
    },
    {
     "name": "stdout",
     "output_type": "stream",
     "text": [
      "\n",
      "Loss history: [0.46770793199539185, 0.3351816892623901, 0.2613398343324661, 0.2466729998588562, 0.21184660196304322, 0.20426980555057525, 0.1862332671880722, 0.16687243729829787, 0.15970188975334168, 0.16814120709896088, 0.15619001239538194, 0.16108817160129546, 0.1498269259929657, 0.15279495120048522, 0.15603040903806686, 0.14055202677845954, 0.1639494016766548, 0.14596846848726272, 0.1474771097302437]\n",
      "Dev loss: 0.14006498232483863\n"
     ]
    },
    {
     "name": "stderr",
     "output_type": "stream",
     "text": [
      "Epoch: 100%|██████████| 20/20 [01:27<00:00,  4.29s/it]\n"
     ]
    }
   ],
   "source": [
    "from quillnlp.models.bert.train import train\n",
    "\n",
    "batch_size = 16 if \"base\" in BERT_MODEL else 2\n",
    "gradient_accumulation_steps = 1 if \"base\" in BERT_MODEL else 8\n",
    "output_model_file = train(model, train_dataloader, dev_dataloader, batch_size, gradient_accumulation_steps, device)"
   ]
  },
  {
   "cell_type": "markdown",
   "metadata": {},
   "source": [
    "## Evaluation"
   ]
  },
  {
   "cell_type": "code",
   "execution_count": 7,
   "metadata": {},
   "outputs": [
    {
     "name": "stdout",
     "output_type": "stream",
     "text": [
      "Loading model from /tmp/model.bin\n"
     ]
    },
    {
     "data": {
      "application/vnd.jupyter.widget-view+json": {
       "model_id": "66e593fa254548df971f6f1e6398f9b2",
       "version_major": 2,
       "version_minor": 0
      },
      "text/plain": [
       "HBox(children=(IntProgress(value=0, description='Evaluation iteration', max=10, style=ProgressStyle(descriptio…"
      ]
     },
     "metadata": {},
     "output_type": "display_data"
    },
    {
     "name": "stdout",
     "output_type": "stream",
     "text": [
      "\n",
      "Test performance: (0.9227467811158798, 0.8739837398373984, 0.8977035490605428, None)\n",
      "                      precision    recall  f1-score   support\n",
      "\n",
      "           off-topic       1.00      0.36      0.53        11\n",
      "             schools       0.97      0.92      0.94        99\n",
      "healthy alternatives       0.95      0.96      0.95        75\n",
      "            students       0.81      0.79      0.80        43\n",
      "              choice       0.67      0.86      0.75         7\n",
      "               money       1.00      1.00      1.00         8\n",
      " can bring junk food       0.00      0.00      0.00         3\n",
      "\n",
      "         avg / total       0.92      0.87      0.89       246\n",
      "\n"
     ]
    },
    {
     "name": "stderr",
     "output_type": "stream",
     "text": [
      "/opt/anaconda3/lib/python3.7/site-packages/sklearn/metrics/classification.py:1135: UndefinedMetricWarning: Precision and F-score are ill-defined and being set to 0.0 in labels with no predicted samples.\n",
      "  'precision', 'predicted', average, warn_for)\n"
     ]
    }
   ],
   "source": [
    "from quillnlp.models.bert.train import evaluate\n",
    "from sklearn.metrics import precision_recall_fscore_support, classification_report\n",
    "\n",
    "print(\"Loading model from\", output_model_file)\n",
    "device=\"cpu\"\n",
    "\n",
    "model = get_multilabel_bert_classifier(BERT_MODEL, len(label2idx), model_file=output_model_file, device=device)\n",
    "model.eval()\n",
    "\n",
    "_, test_correct, test_predicted = evaluate(model, test_dataloader, device)\n",
    "\n",
    "print(\"Test performance:\", precision_recall_fscore_support(test_correct, test_predicted, average=\"micro\"))\n",
    "print(classification_report(test_correct, test_predicted, target_names=target_names))"
   ]
  },
  {
   "cell_type": "code",
   "execution_count": 8,
   "metadata": {},
   "outputs": [
    {
     "name": "stdout",
     "output_type": "stream",
     "text": [
      "P: 0.9227467811158798\n",
      "R: 0.8739837398373984\n",
      "A: 0.7908496732026143\n"
     ]
    }
   ],
   "source": [
    "all_correct = 0\n",
    "fp, fn, tp, tn = 0, 0, 0, 0\n",
    "for c, p in zip(test_correct, test_predicted):\n",
    "    if sum(c == p) == len(c):\n",
    "        all_correct +=1\n",
    "    for ci, pi in zip(c, p):\n",
    "        if pi == 1 and ci == 1:\n",
    "            tp += 1\n",
    "            same = 1\n",
    "        elif pi == 1 and ci == 0:\n",
    "            fp += 1\n",
    "        elif pi == 0 and ci == 1:\n",
    "            fn += 1\n",
    "        else:\n",
    "            tn += 1\n",
    "            same =1\n",
    "            \n",
    "precision = tp/(tp+fp)\n",
    "recall = tp/(tp+fn)\n",
    "print(\"P:\", precision)\n",
    "print(\"R:\", recall)\n",
    "print(\"A:\", all_correct/len(test_correct))"
   ]
  },
  {
   "cell_type": "code",
   "execution_count": 9,
   "metadata": {},
   "outputs": [
    {
     "name": "stdout",
     "output_type": "stream",
     "text": [
      "Schools should not allow junk food to be sold on campus but kids will still bring in unhealthy food#students#students\n",
      "Schools should not allow junk food to be sold on campus but some think students should be able to choose what they eat#students;choice#students;choice\n",
      "Schools should not allow junk food to be sold on campus but maybe on certain special occasions or at events#off-topic#off-topic\n",
      "Schools should not allow junk food to be sold on campus but students may bring it anyway#students#students\n",
      "Schools should not allow junk food to be sold on campus but they can choose to sell food that are nutritious and healthy#schools;healthy alternatives#schools;healthy alternatives\n",
      "Schools should not allow junk food to be sold on campus but ultimately it is up to the individual student what they eat or drink#students#students\n",
      "Schools should not allow junk food to be sold on campus but should provide healthier choices#schools;healthy alternatives#schools;healthy alternatives\n",
      "Schools should not allow junk food to be sold on campus but Can sell healthier options#schools;healthy alternatives#schools;healthy alternatives\n",
      "Schools should not allow junk food to be sold on campus but familes should have a say in what their kids eat#students#\n",
      "Schools should not allow junk food to be sold on campus but there should be alternatives they sell#schools;healthy alternatives#schools;healthy alternatives\n",
      "Schools should not allow junk food to be sold on campus but students should be allowed to bring it to school#students#students\n",
      "Schools should not allow junk food to be sold on campus but they could sell healthy options elsewhere#schools;healthy alternatives#schools;healthy alternatives\n",
      "Schools should not allow junk food to be sold on campus but they should have treats on special days#students#schools;healthy alternatives\n",
      "Schools should not allow junk food to be sold on campus but they could just have a small amount of it instead of the amount they have been selling at#schools#schools\n",
      "Schools should not allow junk food to be sold on campus but they should inform the students as to why#students#\n",
      "Schools should not allow junk food to be sold on campus but serious consideration must be made in choosing replacements for it#schools;healthy alternatives#\n",
      "Schools should not allow junk food to be sold on campus but it is good to have a balance of healthy and junk food#schools;healthy alternatives#schools;healthy alternatives\n",
      "Schools should not allow junk food to be sold on campus but they should also incorporate greater amounts of exercise into the school day#schools#schools;healthy alternatives\n",
      "Schools should not allow junk food to be sold on campus but allow them to take it with them to school if they so wish#schools#students\n",
      "Schools should not allow junk food to be sold on campus but should provide healthy, nutritious food instead#schools;healthy alternatives#schools;healthy alternatives\n",
      "Schools should not allow junk food to be sold on campus but kids are fond of junk foods#students#students\n",
      "Schools should not allow junk food to be sold on campus but schools make a sizable profit by selling junk food items in vending machines#schools#schools\n",
      "Schools should not allow junk food to be sold on campus but they have to get an incentive to stop offering it#schools#schools\n",
      "Schools should not allow junk food to be sold on campus but can offer healthy food choices in vending machines#schools;healthy alternatives#schools;healthy alternatives\n",
      "Schools should not allow junk food to be sold on campus but I can see how the schools want to give the kids a choice#students;choice#students;choice\n",
      "Schools should not allow junk food to be sold on campus but in the long run, a person's health choices are personal, and government institutions should not be able to dictate such choices#off-topic#students\n",
      "Schools should not allow junk food to be sold on campus but parents should also provide education and rules at home around food choices#off-topic#students\n",
      "Schools should not allow junk food to be sold on campus but should allow children to bring it in their lunch boxes if their parents send it in their lunch#students#students\n",
      "Schools should not allow junk food to be sold on campus but the sale of junk food can generate a significant amount of profit#schools;money#schools;money\n",
      "Schools should not allow junk food to be sold on campus but they could allow healthier alternatives#schools;healthy alternatives#schools;healthy alternatives\n",
      "Schools should not allow junk food to be sold on campus but they should be allowed to bring it from home#students#students\n",
      "Schools should not allow junk food to be sold on campus but could offer alternative healthy foods in their place#schools;healthy alternatives#schools;healthy alternatives\n",
      "Schools should not allow junk food to be sold on campus but should instead promote healthy eating options#schools;healthy alternatives#schools;healthy alternatives\n",
      "Schools should not allow junk food to be sold on campus but it does generate money#schools;money#schools;money\n",
      "Schools should not allow junk food to be sold on campus but give alternate snacks that are healthier#schools;healthy alternatives#schools;healthy alternatives\n",
      "Schools should not allow junk food to be sold on campus but should provided healthy alternatives#schools;healthy alternatives#schools;healthy alternatives\n",
      "Schools should not allow junk food to be sold on campus but they probably will continue to do so#schools#schools\n",
      "Schools should not allow junk food to be sold on campus but provide a healthy alternative to sugary snack foods#schools;healthy alternatives#schools;healthy alternatives\n",
      "Schools should not allow junk food to be sold on campus but students should be allowed to choose what they eat#students;choice#students;choice\n",
      "Schools should not allow junk food to be sold on campus but they should not prohibit it if students bring it on their own#students#students\n",
      "Schools should not allow junk food to be sold on campus but it does provide the school system with extra revenue#schools;money#schools;money\n",
      "Schools should not allow junk food to be sold on campus but if people want it it, they will still find a way to have it#students#students\n",
      "Schools should not allow junk food to be sold on campus but should allow for healthy food to be available#schools;healthy alternatives#schools;healthy alternatives\n",
      "Schools should not allow junk food to be sold on campus but healthy snacks should be added to school vending machines as part of an initiative aimed at changing kids' eating and fitness habits#schools;healthy alternatives#schools;healthy alternatives\n",
      "Schools should not allow junk food to be sold on campus but offer different alternatives#schools;healthy alternatives#schools;healthy alternatives\n",
      "Schools should not allow junk food to be sold on campus but some say students should be able to make their own choices of what to eat#students;choice#students;choice\n",
      "Schools should not allow junk food to be sold on campus but there could be an argument for teaching kids to make decisions in the face of temptation by allowing the food to remain#students#students\n",
      "Schools should not allow junk food to be sold on campus but they should make sure the healthier options are things kids will actually enjoy#schools;healthy alternatives#schools;healthy alternatives\n",
      "Schools should not allow junk food to be sold on campus but they should offer healthy alternatives and encourage children to make better decisions#schools;healthy alternatives#schools;healthy alternatives\n",
      "Schools should not allow junk food to be sold on campus but I think that giving the kids healthy choices would be a great replacement#schools;healthy alternatives#schools;healthy alternatives\n",
      "Schools should not allow junk food to be sold on campus but instead should provide healthier food alternatives#schools;healthy alternatives#schools;healthy alternatives\n",
      "Schools should not allow junk food to be sold on campus but allowed to bring healthier food to the school#schools;healthy alternatives#schools;healthy alternatives\n",
      "Schools should not allow junk food to be sold on campus but they should have greater accessibility to nutrient dense foods#schools#schools;healthy alternatives\n",
      "Schools should not allow junk food to be sold on campus but it needs to follow through at home with their own families#off-topic#students\n",
      "Schools should not allow junk food to be sold on campus but instead they should bring some healthy snacks and foods#schools;healthy alternatives#schools;healthy alternatives\n",
      "Schools should not allow junk food to be sold on campus but selling snacks does raise money for the school#schools;money#schools;money\n",
      "Schools should not allow junk food to be sold on campus but also not punish students for possessing junk food, since it is readily available and does not constitute an inherent threat that would warrant harsh punishment#students#\n",
      "Schools should not allow junk food to be sold on campus but should provide healthy snacks instead to raise revenue#schools;healthy alternatives#schools;healthy alternatives\n",
      "Schools should not allow junk food to be sold on campus but they may offer more choices of healthy food#schools;healthy alternatives#schools;healthy alternatives\n",
      "Schools should not allow junk food to be sold on campus but it should be noted that every child has their own personal decision of what they want to eat#students#students;choice\n",
      "Schools should not allow junk food to be sold on campus but it does help the school make money#schools;money#schools;money\n",
      "Schools should not allow junk food to be sold on campus but allow students to bring in whatever foods their family allows#students#students\n",
      "Schools should not allow junk food to be sold on campus but many kids prefer junk food#students#students\n",
      "Schools should not allow junk food to be sold on campus but should have snacks that are healthy alternatives as treats#schools;healthy alternatives#schools;healthy alternatives\n",
      "Schools should not allow junk food to be sold on campus but I think they should sell other healthy snacks#schools;healthy alternatives#schools;healthy alternatives\n",
      "Schools should not allow junk food to be sold on campus but instead should offer a wider variety of healthier snacks, so there is something for all students to enjoy#schools;healthy alternatives#schools;healthy alternatives\n",
      "Schools should not allow junk food to be sold on campus but they should be allowed to provide healthy snacks and drinks for students to enjoy#schools;healthy alternatives#schools;healthy alternatives\n",
      "Schools should not allow junk food to be sold on campus but they can slowly integrate healthier choices such as baked potato chips instead of fried#schools;healthy alternatives#schools;healthy alternatives\n",
      "Schools should not allow junk food to be sold on campus but they should incorporate healthy initiatives#schools;healthy alternatives#schools;healthy alternatives\n",
      "Schools should not allow junk food to be sold on campus but they should have healthy alternatives for the kids to turn too when they do want a snack#schools;healthy alternatives#schools;healthy alternatives\n",
      "Schools should not allow junk food to be sold on campus but certain snacks are alright#schools;healthy alternatives#\n",
      "Schools should not allow junk food to be sold on campus but let students do what they want#students#students\n",
      "Schools should not allow junk food to be sold on campus but should respect students' right of free choice#students;choice#students;choice\n",
      "Schools should not allow junk food to be sold on campus but they should teach students accurate health information#schools;healthy alternatives#schools;healthy alternatives\n",
      "Schools should not allow junk food to be sold on campus but they should have healthy snacks#schools;healthy alternatives#schools;healthy alternatives\n",
      "Schools should not allow junk food to be sold on campus but offer healthy alternatives#schools;healthy alternatives#schools;healthy alternatives\n",
      "Schools should not allow junk food to be sold on campus but if a student really wants junk food, they can make he more conscious decision to purchase their junk food at a local grocery store#students#students\n",
      "Schools should not allow junk food to be sold on campus but should instead offer healthier options#schools;healthy alternatives#schools;healthy alternatives\n",
      "Schools should not allow junk food to be sold on campus but at the end of the day, it's the students choice#students;choice#students\n",
      "Schools should not allow junk food to be sold on campus but they should allow students to bring whatever food they wish to consume from home, as long as the school makes an effort to educate students about the risks of unhealthy eating habits#students#students\n",
      "Schools should not allow junk food to be sold on campus but should also be limited on what quasi-healthy options are available as well (eg#schools;healthy alternatives#schools;healthy alternatives\n",
      "Schools should not allow junk food to be sold on campus but some people think students should be able to choose what they eat#students;choice#students;choice\n",
      "Schools should not allow junk food to be sold on campus but should offer healthy alternatives like fruit#schools;healthy alternatives#schools;healthy alternatives\n",
      "Schools should not allow junk food to be sold on campus but they should make sure there are healthy options for snacks to replace the junk food#schools;healthy alternatives#schools;healthy alternatives\n",
      "Schools should not allow junk food to be sold on campus but should offer healthy alternatives to junk food#schools;healthy alternatives#schools;healthy alternatives\n",
      "Schools should not allow junk food to be sold on campus but they should having vending machines that sell healthy options#schools;healthy alternatives#schools;healthy alternatives\n",
      "Schools should not allow junk food to be sold on campus but they do#schools#schools\n",
      "Schools should not allow junk food to be sold on campus but students should be allowed to bring junk food to campus if they desire#students#students\n",
      "Schools should not allow junk food to be sold on campus but healthy snacks should be#schools;healthy alternatives#schools;healthy alternatives\n",
      "Schools should not allow junk food to be sold on campus but should be allowed to sell snacks and soda#schools;healthy alternatives#schools;healthy alternatives\n",
      "Schools should not allow junk food to be sold on campus but should offer reasonable alternative to the type of snacks that you would expect to find at a school#schools;healthy alternatives#schools;healthy alternatives\n",
      "Schools should not allow junk food to be sold on campus but they should sell healthy options#schools;healthy alternatives#schools;healthy alternatives\n",
      "Schools should not allow junk food to be sold on campus but should offer healthy alternative snacks to purchase#schools;healthy alternatives#schools;healthy alternatives\n",
      "Schools should not allow junk food to be sold on campus but they should allow students to choose what they eat by bringing their own snacks if they want#students;can bring junk food#students;choice\n",
      "Schools should not allow junk food to be sold on campus but they should be offering healthy snacks#schools;healthy alternatives#schools;healthy alternatives\n",
      "Schools should not allow junk food to be sold on campus but educating students about good food choices still needs to happen because they will have access to junk food off campus#students#students\n",
      "Schools should not allow junk food to be sold on campus but have healthy options#schools;healthy alternatives#schools;healthy alternatives\n",
      "Schools should not allow junk food to be sold on campus but they should allow kids to bring their own if they want#students#students\n",
      "Schools should not allow junk food to be sold on campus but provide alternative healthy snacks#schools;healthy alternatives#schools;healthy alternatives\n",
      "Schools should not allow junk food to be sold on campus but here schools are, still selling this junk food that only promotes poor eating habits which could lead to a lot of health complications#schools#schools\n",
      "Schools should not allow junk food to be sold on campus but they should make sure that something is available to purchase if the children need to#students#\n",
      "Schools should not allow junk food to be sold on campus but they tried to give us a choice between food#schools#students;choice\n",
      "Schools should not allow junk food to be sold on campus but provide public health education of its dangers#schools;healthy alternatives#schools;healthy alternatives\n",
      "Schools should not allow junk food to be sold on campus but in some cases junk food can be sold once a month#off-topic#\n",
      "Schools should not allow junk food to be sold on campus but there could be certain times or events where some junk food may be purchased#off-topic#off-topic\n",
      "Schools should not allow junk food to be sold on campus but be allowed to sell healthier alternative snacks and food#schools;healthy alternatives#schools;healthy alternatives\n",
      "Schools should not allow junk food to be sold on campus but they are allowed to bring it themselves#students#students\n",
      "Schools should not allow junk food to be sold on campus but ITS NOT GOOD#off-topic#off-topic\n",
      "Schools should not allow junk food to be sold on campus but many schools do it because they do not see it as their job to change the diet of their students#schools#\n",
      "Schools should not allow junk food to be sold on campus but in some cases junk food is less expensive than healthier options so junk is perhaps all some can afford#schools;healthy alternatives#schools;healthy alternatives\n",
      "Schools should not allow junk food to be sold on campus but they should not interfere with what students bring for lunch from home#schools#students\n",
      "Schools should not allow junk food to be sold on campus but the school allow snack machines with more nutritious foods#schools;healthy alternatives#schools;healthy alternatives\n",
      "Schools should not allow junk food to be sold on campus but they could offer healthy options in place of junk food#schools;healthy alternatives#schools;healthy alternatives\n",
      "Schools should not allow junk food to be sold on campus but they would be losing a good revenue source#schools;money#schools;money\n",
      "Schools should not allow junk food to be sold on campus but it should also educate students and staff alike on why it has opted to do so#students#\n",
      "Schools should not allow junk food to be sold on campus but it is acceptable to eat it there#off-topic#students\n",
      "Schools should not allow junk food to be sold on campus but maybe a few things#off-topic#off-topic\n",
      "Schools should not allow junk food to be sold on campus but educate kids about healthy eating#schools;healthy alternatives#schools;healthy alternatives\n",
      "Schools should not allow junk food to be sold on campus but they could offer the option to buy snacks once a week#schools#schools;healthy alternatives\n",
      "Schools should not allow junk food to be sold on campus but a slight compromise should be sought to make everyone happy#schools;healthy alternatives#\n",
      "Schools should not allow junk food to be sold on campus but they could offer some snack foods that are low in calories or not as salty or sugary but to be able to still give them a choice#schools;healthy alternatives#schools;healthy alternatives\n",
      "Schools should not allow junk food to be sold on campus but they cannot enforce eating habits outside of school#schools#schools\n",
      "Schools should not allow junk food to be sold on campus but if it is sold it should be really expensive so that only people that really want junk food will buy it#off-topic#\n",
      "Schools should not allow junk food to be sold on campus but if kids choose to bring so on their own, that is their family's decision#students;can bring junk food#students\n",
      "Schools should not allow junk food to be sold on campus but the schools make money off of it#schools;money#schools;money\n",
      "Schools should not allow junk food to be sold on campus but they should at have least allow children to choose between healthy food and snacks#schools;healthy alternatives#schools;healthy alternatives\n",
      "Schools should not allow junk food to be sold on campus but make the food less sugary and salty to make it healthy#schools;healthy alternatives#schools;healthy alternatives\n",
      "Schools should not allow junk food to be sold on campus but if its taken away, kids will find a way to bring it back to campus#students#students\n",
      "Schools should not allow junk food to be sold on campus but it is also important to focus on changing kids' fitness habits#students#schools\n",
      "Schools should not allow junk food to be sold on campus but they should be prepared for community backlash#schools#schools\n",
      "Schools should not allow junk food to be sold on campus but they can replaced the junk foods by selling some nutritional foods#schools;healthy alternatives#schools;healthy alternatives\n",
      "Schools should not allow junk food to be sold on campus but should be transparent about their reasoning and teach kids why unhealthy foods aren't good#students#students\n",
      "Schools should not allow junk food to be sold on campus but students should still have the freedom to bring snacks to school for lunch, everyone has a right to eat what they choose#students;can bring junk food#students\n",
      "Schools should not allow junk food to be sold on campus but should make an effort to teach the kids about better eating habits#students#schools\n",
      "Schools should not allow junk food to be sold on campus but should instead promote healthy eating by filling snack machines with nutritious foods#schools;healthy alternatives#schools;healthy alternatives\n",
      "Schools should not allow junk food to be sold on campus but should have alternative healthy snacks available#schools;healthy alternatives#schools;healthy alternatives\n",
      "Schools should not allow junk food to be sold on campus but should provide healthier snacks for students to have#schools;healthy alternatives#schools;healthy alternatives\n",
      "Schools should not allow junk food to be sold on campus but the schools could fill snack machines with more nutritious foods#schools;healthy alternatives#schools;healthy alternatives\n",
      "Schools should not allow junk food to be sold on campus but if they insist it could be healthy options#schools;healthy alternatives#schools;healthy alternatives\n",
      "Schools should not allow junk food to be sold on campus but instead fill snack machines with nutritious foods#schools;healthy alternatives#schools;healthy alternatives\n",
      "Schools should not allow junk food to be sold on campus but should allow kids to bring it from home#students#students\n",
      "Schools should not allow junk food to be sold on campus but if a club or organization has a fundraiser it may be allowed on special occasions#off-topic#\n",
      "Schools should not allow junk food to be sold on campus but schools could fill the snack machines with healthy choices#schools;healthy alternatives#schools;healthy alternatives\n",
      "Schools should not allow junk food to be sold on campus but it is the children's decision to do whatever they want after they are not in school#students#students\n",
      "Schools should not allow junk food to be sold on campus but selling junk foods generates money for the school#schools;money#schools;money\n",
      "Schools should not allow junk food to be sold on campus but they could sell a variety of healthy snacks#schools;healthy alternatives#schools;healthy alternatives\n",
      "Schools should not allow junk food to be sold on campus but provide healthy snacks instead#schools;healthy alternatives#schools;healthy alternatives\n",
      "Schools should not allow junk food to be sold on campus but we cannot protect our kids from everything bad for them out there#students#\n",
      "Schools should not allow junk food to be sold on campus but teens can make decisions about what they eat when they are not at school#schools#students\n",
      "Schools should not allow junk food to be sold on campus but provide healthy options#schools;healthy alternatives#schools;healthy alternatives\n",
      "Schools should not allow junk food to be sold on campus but offer healthy snacks#schools;healthy alternatives#schools;healthy alternatives\n",
      "Schools should not allow junk food to be sold on campus but instead offer healthier options to students for purchase#schools;healthy alternatives#schools;healthy alternatives\n",
      "Schools should not allow junk food to be sold on campus but should instead replace it with healthy alternatives#schools;healthy alternatives#schools;healthy alternatives\n"
     ]
    }
   ],
   "source": [
    "for item, predicted, correct in zip(test_data, test_predicted, test_correct):\n",
    "    correct_labels = [idx2label[i] for i, l in enumerate(correct) if l == 1]\n",
    "    predicted_labels = [idx2label[i] for i, l in enumerate(predicted) if l == 1]\n",
    "    print(\"{}#{}#{}\".format(item[\"text\"], \";\".join(correct_labels), \";\".join(predicted_labels)))\n"
   ]
  },
  {
   "cell_type": "code",
   "execution_count": null,
   "metadata": {},
   "outputs": [],
   "source": []
  }
 ],
 "metadata": {
  "kernelspec": {
   "display_name": "Python 3",
   "language": "python",
   "name": "python3"
  },
  "language_info": {
   "codemirror_mode": {
    "name": "ipython",
    "version": 3
   },
   "file_extension": ".py",
   "mimetype": "text/x-python",
   "name": "python",
   "nbconvert_exporter": "python",
   "pygments_lexer": "ipython3",
   "version": "3.7.3"
  }
 },
 "nbformat": 4,
 "nbformat_minor": 2
}
