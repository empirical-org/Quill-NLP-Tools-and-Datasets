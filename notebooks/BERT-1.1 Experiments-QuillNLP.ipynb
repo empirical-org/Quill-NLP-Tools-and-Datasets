{
 "cells": [
  {
   "cell_type": "markdown",
   "metadata": {},
   "source": [
    "# First BERT Experiments\n",
    "\n",
    "In this notebook we do some first experiments with BERT: we finetune a BERT model+classifier on each of our datasets separately and compute the accuracy of the resulting classifier on the test data."
   ]
  },
  {
   "cell_type": "markdown",
   "metadata": {},
   "source": [
    "For these experiments we use the `pytorch_transformers` package. It contains a variety of neural network architectures for transfer learning and pretrained models, including BERT and XLNET.\n",
    "\n",
    "Two different BERT models are relevant for our experiments: \n",
    "\n",
    "- BERT-base-uncased: a relatively small BERT model that should already give reasonable results,\n",
    "- BERT-large-uncased: a larger model for real state-of-the-art results."
   ]
  },
  {
   "cell_type": "code",
   "execution_count": 1,
   "metadata": {},
   "outputs": [],
   "source": [
    "BERT_MODEL = 'bert-large-uncased'\n",
    "BATCH_SIZE = 16 if \"base\" in BERT_MODEL else 2\n",
    "GRADIENT_ACCUMULATION_STEPS = 1 if \"base\" in BERT_MODEL else 8\n",
    "MAX_SEQ_LENGTH = 100\n",
    "PREFIX = \"eatingmeat_but_xl\""
   ]
  },
  {
   "cell_type": "markdown",
   "metadata": {},
   "source": [
    "## Data\n",
    "\n",
    "We use the same data as for all our previous experiments. Here we load the training, development and test data for a particular prompt."
   ]
  },
  {
   "cell_type": "code",
   "execution_count": 2,
   "metadata": {},
   "outputs": [
    {
     "name": "stderr",
     "output_type": "stream",
     "text": [
      "/opt/anaconda3/lib/python3.7/site-packages/tensorflow/python/framework/dtypes.py:516: FutureWarning: Passing (type, 1) or '1type' as a synonym of type is deprecated; in a future version of numpy, it will be understood as (type, (1,)) / '(1,)type'.\n",
      "  _np_qint8 = np.dtype([(\"qint8\", np.int8, 1)])\n",
      "/opt/anaconda3/lib/python3.7/site-packages/tensorflow/python/framework/dtypes.py:517: FutureWarning: Passing (type, 1) or '1type' as a synonym of type is deprecated; in a future version of numpy, it will be understood as (type, (1,)) / '(1,)type'.\n",
      "  _np_quint8 = np.dtype([(\"quint8\", np.uint8, 1)])\n",
      "/opt/anaconda3/lib/python3.7/site-packages/tensorflow/python/framework/dtypes.py:518: FutureWarning: Passing (type, 1) or '1type' as a synonym of type is deprecated; in a future version of numpy, it will be understood as (type, (1,)) / '(1,)type'.\n",
      "  _np_qint16 = np.dtype([(\"qint16\", np.int16, 1)])\n",
      "/opt/anaconda3/lib/python3.7/site-packages/tensorflow/python/framework/dtypes.py:519: FutureWarning: Passing (type, 1) or '1type' as a synonym of type is deprecated; in a future version of numpy, it will be understood as (type, (1,)) / '(1,)type'.\n",
      "  _np_quint16 = np.dtype([(\"quint16\", np.uint16, 1)])\n",
      "/opt/anaconda3/lib/python3.7/site-packages/tensorflow/python/framework/dtypes.py:520: FutureWarning: Passing (type, 1) or '1type' as a synonym of type is deprecated; in a future version of numpy, it will be understood as (type, (1,)) / '(1,)type'.\n",
      "  _np_qint32 = np.dtype([(\"qint32\", np.int32, 1)])\n",
      "/opt/anaconda3/lib/python3.7/site-packages/tensorflow/python/framework/dtypes.py:525: FutureWarning: Passing (type, 1) or '1type' as a synonym of type is deprecated; in a future version of numpy, it will be understood as (type, (1,)) / '(1,)type'.\n",
      "  np_resource = np.dtype([(\"resource\", np.ubyte, 1)])\n",
      "/opt/anaconda3/lib/python3.7/site-packages/tensorboard/compat/tensorflow_stub/dtypes.py:541: FutureWarning: Passing (type, 1) or '1type' as a synonym of type is deprecated; in a future version of numpy, it will be understood as (type, (1,)) / '(1,)type'.\n",
      "  _np_qint8 = np.dtype([(\"qint8\", np.int8, 1)])\n",
      "/opt/anaconda3/lib/python3.7/site-packages/tensorboard/compat/tensorflow_stub/dtypes.py:542: FutureWarning: Passing (type, 1) or '1type' as a synonym of type is deprecated; in a future version of numpy, it will be understood as (type, (1,)) / '(1,)type'.\n",
      "  _np_quint8 = np.dtype([(\"quint8\", np.uint8, 1)])\n",
      "/opt/anaconda3/lib/python3.7/site-packages/tensorboard/compat/tensorflow_stub/dtypes.py:543: FutureWarning: Passing (type, 1) or '1type' as a synonym of type is deprecated; in a future version of numpy, it will be understood as (type, (1,)) / '(1,)type'.\n",
      "  _np_qint16 = np.dtype([(\"qint16\", np.int16, 1)])\n",
      "/opt/anaconda3/lib/python3.7/site-packages/tensorboard/compat/tensorflow_stub/dtypes.py:544: FutureWarning: Passing (type, 1) or '1type' as a synonym of type is deprecated; in a future version of numpy, it will be understood as (type, (1,)) / '(1,)type'.\n",
      "  _np_quint16 = np.dtype([(\"quint16\", np.uint16, 1)])\n",
      "/opt/anaconda3/lib/python3.7/site-packages/tensorboard/compat/tensorflow_stub/dtypes.py:545: FutureWarning: Passing (type, 1) or '1type' as a synonym of type is deprecated; in a future version of numpy, it will be understood as (type, (1,)) / '(1,)type'.\n",
      "  _np_qint32 = np.dtype([(\"qint32\", np.int32, 1)])\n",
      "/opt/anaconda3/lib/python3.7/site-packages/tensorboard/compat/tensorflow_stub/dtypes.py:550: FutureWarning: Passing (type, 1) or '1type' as a synonym of type is deprecated; in a future version of numpy, it will be understood as (type, (1,)) / '(1,)type'.\n",
      "  np_resource = np.dtype([(\"resource\", np.ubyte, 1)])\n",
      "I1101 17:08:45.477289 140251368802112 file_utils.py:39] PyTorch version 1.1.0 available.\n",
      "I1101 17:08:45.594974 140251368802112 modeling_xlnet.py:194] Better speed can be achieved with apex installed from https://www.github.com/nvidia/apex .\n",
      "I1101 17:08:46.147496 140251368802112 tokenization_utils.py:374] loading file https://s3.amazonaws.com/models.huggingface.co/bert/bert-large-uncased-vocab.txt from cache at /home/yves/.cache/torch/transformers/9b3c03a36e83b13d5ba95ac965c9f9074a99e14340c523ab405703179e79fc46.542ce4285a40d23a559526243235df47c5f75c197f04f37d1a0c124c32c9a084\n",
      "I1101 17:08:47.202339 140251368802112 tokenization_utils.py:374] loading file https://s3.amazonaws.com/models.huggingface.co/bert/bert-large-uncased-vocab.txt from cache at /home/yves/.cache/torch/transformers/9b3c03a36e83b13d5ba95ac965c9f9074a99e14340c523ab405703179e79fc46.542ce4285a40d23a559526243235df47c5f75c197f04f37d1a0c124c32c9a084\n",
      "I1101 17:08:47.776965 140251368802112 tokenization_utils.py:374] loading file https://s3.amazonaws.com/models.huggingface.co/bert/bert-large-uncased-vocab.txt from cache at /home/yves/.cache/torch/transformers/9b3c03a36e83b13d5ba95ac965c9f9074a99e14340c523ab405703179e79fc46.542ce4285a40d23a559526243235df47c5f75c197f04f37d1a0c124c32c9a084\n"
     ]
    }
   ],
   "source": [
    "import sys\n",
    "sys.path.append('../')\n",
    "\n",
    "import ndjson\n",
    "import glob\n",
    "import json\n",
    "\n",
    "from quillnlp.models.bert.preprocessing import preprocess, create_label_vocabulary, get_data_loader\n",
    "\n",
    "train_file = f\"../data/interim/{PREFIX}_train_withprompt.ndjson\"\n",
    "synth_files = glob.glob(f\"../data/interim/{PREFIX}_train_withprompt_*.ndjson\")\n",
    "dev_file = f\"../data/interim/{PREFIX}_dev_withprompt.ndjson\"\n",
    "test_file = f\"../data/interim/{PREFIX}_test_withprompt.ndjson\"\n",
    "\n",
    "with open(train_file) as i:\n",
    "    train_data = ndjson.load(i)\n",
    "\n",
    "synth_data = []\n",
    "for f in synth_files:\n",
    "    if \"allsynth\" in f:\n",
    "        continue\n",
    "    with open(f) as i:\n",
    "        synth_data += ndjson.load(i)\n",
    "    \n",
    "with open(dev_file) as i:\n",
    "    dev_data = ndjson.load(i)\n",
    "    \n",
    "with open(test_file) as i:\n",
    "    test_data = ndjson.load(i)\n",
    "    \n",
    "label2idx = create_label_vocabulary(train_data)\n",
    "idx2label = {v:k for k,v in label2idx.items()}\n",
    "target_names = [idx2label[s] for s in range(len(idx2label))]\n",
    "\n",
    "with open(\"/tmp/labels.json\", \"w\") as o:\n",
    "    json.dump(label2idx, o)\n",
    "\n",
    "train_dataloader = get_data_loader(preprocess(train_data, BERT_MODEL, label2idx, MAX_SEQ_LENGTH), BATCH_SIZE)\n",
    "dev_dataloader = get_data_loader(preprocess(dev_data, BERT_MODEL, label2idx, MAX_SEQ_LENGTH), BATCH_SIZE)\n",
    "test_dataloader = get_data_loader(preprocess(test_data, BERT_MODEL, label2idx, MAX_SEQ_LENGTH), BATCH_SIZE, shuffle=False)"
   ]
  },
  {
   "cell_type": "markdown",
   "metadata": {},
   "source": [
    "## Model"
   ]
  },
  {
   "cell_type": "code",
   "execution_count": 3,
   "metadata": {},
   "outputs": [
    {
     "name": "stderr",
     "output_type": "stream",
     "text": [
      "I1101 17:08:48.486875 140251368802112 configuration_utils.py:151] loading configuration file https://s3.amazonaws.com/models.huggingface.co/bert/bert-large-uncased-config.json from cache at /home/yves/.cache/torch/transformers/6dfaed860471b03ab5b9acb6153bea82b6632fb9bbe514d3fff050fe1319ee6d.4c88e2dec8f8b017f319f6db2b157fee632c0860d9422e4851bd0d6999f9ce38\n",
      "I1101 17:08:48.489198 140251368802112 configuration_utils.py:168] Model config {\n",
      "  \"attention_probs_dropout_prob\": 0.1,\n",
      "  \"finetuning_task\": null,\n",
      "  \"hidden_act\": \"gelu\",\n",
      "  \"hidden_dropout_prob\": 0.1,\n",
      "  \"hidden_size\": 1024,\n",
      "  \"initializer_range\": 0.02,\n",
      "  \"intermediate_size\": 4096,\n",
      "  \"layer_norm_eps\": 1e-12,\n",
      "  \"max_position_embeddings\": 512,\n",
      "  \"num_attention_heads\": 16,\n",
      "  \"num_hidden_layers\": 24,\n",
      "  \"num_labels\": 11,\n",
      "  \"output_attentions\": false,\n",
      "  \"output_hidden_states\": false,\n",
      "  \"output_past\": true,\n",
      "  \"pruned_heads\": {},\n",
      "  \"torchscript\": false,\n",
      "  \"type_vocab_size\": 2,\n",
      "  \"use_bfloat16\": false,\n",
      "  \"vocab_size\": 30522\n",
      "}\n",
      "\n",
      "I1101 17:08:49.019823 140251368802112 modeling_utils.py:337] loading weights file https://s3.amazonaws.com/models.huggingface.co/bert/bert-large-uncased-pytorch_model.bin from cache at /home/yves/.cache/torch/transformers/54da47087cc86ce75324e4dc9bbb5f66c6e83a7c6bd23baea8b489acc8d09aa4.4d5343a4b979c4beeaadef17a0453d1bb183dd9b084f58b84c7cc781df343ae6\n",
      "I1101 17:08:55.861363 140251368802112 modeling_utils.py:405] Weights of BertForSequenceClassification not initialized from pretrained model: ['classifier.weight', 'classifier.bias']\n",
      "I1101 17:08:55.861984 140251368802112 modeling_utils.py:408] Weights from pretrained model not used in BertForSequenceClassification: ['cls.predictions.bias', 'cls.predictions.transform.dense.weight', 'cls.predictions.transform.dense.bias', 'cls.predictions.decoder.weight', 'cls.seq_relationship.weight', 'cls.seq_relationship.bias', 'cls.predictions.transform.LayerNorm.weight', 'cls.predictions.transform.LayerNorm.bias']\n"
     ]
    }
   ],
   "source": [
    "import torch\n",
    "from quillnlp.models.bert.models import get_bert_classifier\n",
    "\n",
    "device = \"cuda\" if torch.cuda.is_available() else \"cpu\"\n",
    "model = get_bert_classifier(BERT_MODEL, len(label2idx), device=device)"
   ]
  },
  {
   "cell_type": "markdown",
   "metadata": {},
   "source": [
    "## Training"
   ]
  },
  {
   "cell_type": "code",
   "execution_count": 4,
   "metadata": {},
   "outputs": [
    {
     "name": "stderr",
     "output_type": "stream",
     "text": [
      "\r",
      "Epoch:   0%|          | 0/20 [00:00<?, ?it/s]"
     ]
    },
    {
     "data": {
      "application/vnd.jupyter.widget-view+json": {
       "model_id": "ded00ee33df34747b869f31d22bcd046",
       "version_major": 2,
       "version_minor": 0
      },
      "text/plain": [
       "HBox(children=(IntProgress(value=0, description='Training iteration', max=758, style=ProgressStyle(description…"
      ]
     },
     "metadata": {},
     "output_type": "display_data"
    },
    {
     "name": "stdout",
     "output_type": "stream",
     "text": [
      "\n"
     ]
    },
    {
     "data": {
      "application/vnd.jupyter.widget-view+json": {
       "model_id": "da150b5fad4d4657bf59c3ccc078f8a3",
       "version_major": 2,
       "version_minor": 0
      },
      "text/plain": [
       "HBox(children=(IntProgress(value=0, description='Evaluation iteration', max=54, style=ProgressStyle(descriptio…"
      ]
     },
     "metadata": {},
     "output_type": "display_data"
    },
    {
     "name": "stderr",
     "output_type": "stream",
     "text": [
      "../quillnlp/models/bert/train.py:145: UserWarning: Implicit dimension choice for softmax has been deprecated. Change the call to include dim=X as an argument.\n",
      "  outputs = softmax(logits.to('cpu'))\n"
     ]
    },
    {
     "name": "stdout",
     "output_type": "stream",
     "text": [
      "\n",
      "Loss history: []\n",
      "Dev loss: 1.2212570243411593\n"
     ]
    },
    {
     "name": "stderr",
     "output_type": "stream",
     "text": [
      "\r",
      "Epoch:   5%|▌         | 1/20 [01:27<27:41, 87.47s/it]"
     ]
    },
    {
     "data": {
      "application/vnd.jupyter.widget-view+json": {
       "model_id": "f79d9b9310e04784974c3054dbdec2a0",
       "version_major": 2,
       "version_minor": 0
      },
      "text/plain": [
       "HBox(children=(IntProgress(value=0, description='Training iteration', max=758, style=ProgressStyle(description…"
      ]
     },
     "metadata": {},
     "output_type": "display_data"
    },
    {
     "name": "stdout",
     "output_type": "stream",
     "text": [
      "\n"
     ]
    },
    {
     "data": {
      "application/vnd.jupyter.widget-view+json": {
       "model_id": "b18d424385b84c0c8ecf0f43d3b2535a",
       "version_major": 2,
       "version_minor": 0
      },
      "text/plain": [
       "HBox(children=(IntProgress(value=0, description='Evaluation iteration', max=54, style=ProgressStyle(descriptio…"
      ]
     },
     "metadata": {},
     "output_type": "display_data"
    },
    {
     "name": "stdout",
     "output_type": "stream",
     "text": [
      "\n",
      "Loss history: [1.2212570243411593]\n",
      "Dev loss: 0.47678150622932997\n"
     ]
    },
    {
     "name": "stderr",
     "output_type": "stream",
     "text": [
      "\r",
      "Epoch:  10%|█         | 2/20 [02:55<26:17, 87.62s/it]"
     ]
    },
    {
     "data": {
      "application/vnd.jupyter.widget-view+json": {
       "model_id": "872a8059abdb472f98353f2ca6518562",
       "version_major": 2,
       "version_minor": 0
      },
      "text/plain": [
       "HBox(children=(IntProgress(value=0, description='Training iteration', max=758, style=ProgressStyle(description…"
      ]
     },
     "metadata": {},
     "output_type": "display_data"
    },
    {
     "name": "stdout",
     "output_type": "stream",
     "text": [
      "\n"
     ]
    },
    {
     "data": {
      "application/vnd.jupyter.widget-view+json": {
       "model_id": "a534c843f6ad44278fe497b5a3caecb1",
       "version_major": 2,
       "version_minor": 0
      },
      "text/plain": [
       "HBox(children=(IntProgress(value=0, description='Evaluation iteration', max=54, style=ProgressStyle(descriptio…"
      ]
     },
     "metadata": {},
     "output_type": "display_data"
    },
    {
     "name": "stdout",
     "output_type": "stream",
     "text": [
      "\n",
      "Loss history: [1.2212570243411593, 0.47678150622932997]\n",
      "Dev loss: 0.3504361499238897\n"
     ]
    },
    {
     "name": "stderr",
     "output_type": "stream",
     "text": [
      "\r",
      "Epoch:  15%|█▌        | 3/20 [04:23<24:52, 87.79s/it]"
     ]
    },
    {
     "data": {
      "application/vnd.jupyter.widget-view+json": {
       "model_id": "daaa4e4ab5684ac193673730b9ed91f4",
       "version_major": 2,
       "version_minor": 0
      },
      "text/plain": [
       "HBox(children=(IntProgress(value=0, description='Training iteration', max=758, style=ProgressStyle(description…"
      ]
     },
     "metadata": {},
     "output_type": "display_data"
    },
    {
     "name": "stdout",
     "output_type": "stream",
     "text": [
      "\n"
     ]
    },
    {
     "data": {
      "application/vnd.jupyter.widget-view+json": {
       "model_id": "e4c955d339224416b31f2473166dd106",
       "version_major": 2,
       "version_minor": 0
      },
      "text/plain": [
       "HBox(children=(IntProgress(value=0, description='Evaluation iteration', max=54, style=ProgressStyle(descriptio…"
      ]
     },
     "metadata": {},
     "output_type": "display_data"
    },
    {
     "name": "stderr",
     "output_type": "stream",
     "text": [
      "\r",
      "Epoch:  20%|██        | 4/20 [05:50<23:19, 87.49s/it]"
     ]
    },
    {
     "name": "stdout",
     "output_type": "stream",
     "text": [
      "\n",
      "Loss history: [1.2212570243411593, 0.47678150622932997, 0.3504361499238897]\n",
      "Dev loss: 0.3736043373743693\n"
     ]
    },
    {
     "data": {
      "application/vnd.jupyter.widget-view+json": {
       "model_id": "896d660340194014872e75fdab1195e8",
       "version_major": 2,
       "version_minor": 0
      },
      "text/plain": [
       "HBox(children=(IntProgress(value=0, description='Training iteration', max=758, style=ProgressStyle(description…"
      ]
     },
     "metadata": {},
     "output_type": "display_data"
    },
    {
     "name": "stdout",
     "output_type": "stream",
     "text": [
      "\n"
     ]
    },
    {
     "data": {
      "application/vnd.jupyter.widget-view+json": {
       "model_id": "f9d87b2072b146ef921f32302410847a",
       "version_major": 2,
       "version_minor": 0
      },
      "text/plain": [
       "HBox(children=(IntProgress(value=0, description='Evaluation iteration', max=54, style=ProgressStyle(descriptio…"
      ]
     },
     "metadata": {},
     "output_type": "display_data"
    },
    {
     "name": "stderr",
     "output_type": "stream",
     "text": [
      "\r",
      "Epoch:  25%|██▌       | 5/20 [07:17<21:49, 87.27s/it]"
     ]
    },
    {
     "name": "stdout",
     "output_type": "stream",
     "text": [
      "\n",
      "Loss history: [1.2212570243411593, 0.47678150622932997, 0.3504361499238897, 0.3736043373743693]\n",
      "Dev loss: 0.3758372289163095\n"
     ]
    },
    {
     "data": {
      "application/vnd.jupyter.widget-view+json": {
       "model_id": "6bbc8cf694b94c7790789f5d485e2416",
       "version_major": 2,
       "version_minor": 0
      },
      "text/plain": [
       "HBox(children=(IntProgress(value=0, description='Training iteration', max=758, style=ProgressStyle(description…"
      ]
     },
     "metadata": {},
     "output_type": "display_data"
    },
    {
     "name": "stdout",
     "output_type": "stream",
     "text": [
      "\n"
     ]
    },
    {
     "data": {
      "application/vnd.jupyter.widget-view+json": {
       "model_id": "c4bd1829e41348b1a9b25c8b4436302c",
       "version_major": 2,
       "version_minor": 0
      },
      "text/plain": [
       "HBox(children=(IntProgress(value=0, description='Evaluation iteration', max=54, style=ProgressStyle(descriptio…"
      ]
     },
     "metadata": {},
     "output_type": "display_data"
    },
    {
     "name": "stderr",
     "output_type": "stream",
     "text": [
      "\r",
      "Epoch:  30%|███       | 6/20 [08:43<20:19, 87.12s/it]"
     ]
    },
    {
     "name": "stdout",
     "output_type": "stream",
     "text": [
      "\n",
      "Loss history: [1.2212570243411593, 0.47678150622932997, 0.3504361499238897, 0.3736043373743693, 0.3758372289163095]\n",
      "Dev loss: 0.3773738808102078\n"
     ]
    },
    {
     "data": {
      "application/vnd.jupyter.widget-view+json": {
       "model_id": "d877166852e14f27abf58dc7107bebe8",
       "version_major": 2,
       "version_minor": 0
      },
      "text/plain": [
       "HBox(children=(IntProgress(value=0, description='Training iteration', max=758, style=ProgressStyle(description…"
      ]
     },
     "metadata": {},
     "output_type": "display_data"
    },
    {
     "name": "stdout",
     "output_type": "stream",
     "text": [
      "\n"
     ]
    },
    {
     "data": {
      "application/vnd.jupyter.widget-view+json": {
       "model_id": "392903bcf9dd46ca82bcdc8bc2dc48bb",
       "version_major": 2,
       "version_minor": 0
      },
      "text/plain": [
       "HBox(children=(IntProgress(value=0, description='Evaluation iteration', max=54, style=ProgressStyle(descriptio…"
      ]
     },
     "metadata": {},
     "output_type": "display_data"
    },
    {
     "name": "stderr",
     "output_type": "stream",
     "text": [
      "\r",
      "Epoch:  35%|███▌      | 7/20 [10:10<18:51, 87.01s/it]"
     ]
    },
    {
     "name": "stdout",
     "output_type": "stream",
     "text": [
      "\n",
      "Loss history: [1.2212570243411593, 0.47678150622932997, 0.3504361499238897, 0.3736043373743693, 0.3758372289163095, 0.3773738808102078]\n",
      "Dev loss: 0.3864011565844218\n"
     ]
    },
    {
     "data": {
      "application/vnd.jupyter.widget-view+json": {
       "model_id": "ee56e98557094942b8293dca846fa685",
       "version_major": 2,
       "version_minor": 0
      },
      "text/plain": [
       "HBox(children=(IntProgress(value=0, description='Training iteration', max=758, style=ProgressStyle(description…"
      ]
     },
     "metadata": {},
     "output_type": "display_data"
    },
    {
     "name": "stdout",
     "output_type": "stream",
     "text": [
      "\n"
     ]
    },
    {
     "data": {
      "application/vnd.jupyter.widget-view+json": {
       "model_id": "a47e33421a6749e98804b5bf6359c32e",
       "version_major": 2,
       "version_minor": 0
      },
      "text/plain": [
       "HBox(children=(IntProgress(value=0, description='Evaluation iteration', max=54, style=ProgressStyle(descriptio…"
      ]
     },
     "metadata": {},
     "output_type": "display_data"
    },
    {
     "name": "stdout",
     "output_type": "stream",
     "text": [
      "\n",
      "Loss history: [1.2212570243411593, 0.47678150622932997, 0.3504361499238897, 0.3736043373743693, 0.3758372289163095, 0.3773738808102078, 0.3864011565844218]\n",
      "Dev loss: 0.3680140022878294\n",
      "No improvement on development set. Finish training.\n"
     ]
    },
    {
     "name": "stderr",
     "output_type": "stream",
     "text": [
      "\n"
     ]
    }
   ],
   "source": [
    "from quillnlp.models.bert.train import train\n",
    "\n",
    "output_model_file = train(model, train_dataloader, dev_dataloader, BATCH_SIZE, GRADIENT_ACCUMULATION_STEPS, device)"
   ]
  },
  {
   "cell_type": "markdown",
   "metadata": {},
   "source": [
    "## Evaluation"
   ]
  },
  {
   "cell_type": "code",
   "execution_count": 5,
   "metadata": {},
   "outputs": [
    {
     "name": "stdout",
     "output_type": "stream",
     "text": [
      "Loading model from /tmp/model.bin\n"
     ]
    },
    {
     "name": "stderr",
     "output_type": "stream",
     "text": [
      "I1101 17:20:36.675119 140251368802112 configuration_utils.py:151] loading configuration file https://s3.amazonaws.com/models.huggingface.co/bert/bert-large-uncased-config.json from cache at /home/yves/.cache/torch/transformers/6dfaed860471b03ab5b9acb6153bea82b6632fb9bbe514d3fff050fe1319ee6d.4c88e2dec8f8b017f319f6db2b157fee632c0860d9422e4851bd0d6999f9ce38\n",
      "I1101 17:20:36.677800 140251368802112 configuration_utils.py:168] Model config {\n",
      "  \"attention_probs_dropout_prob\": 0.1,\n",
      "  \"finetuning_task\": null,\n",
      "  \"hidden_act\": \"gelu\",\n",
      "  \"hidden_dropout_prob\": 0.1,\n",
      "  \"hidden_size\": 1024,\n",
      "  \"initializer_range\": 0.02,\n",
      "  \"intermediate_size\": 4096,\n",
      "  \"layer_norm_eps\": 1e-12,\n",
      "  \"max_position_embeddings\": 512,\n",
      "  \"num_attention_heads\": 16,\n",
      "  \"num_hidden_layers\": 24,\n",
      "  \"num_labels\": 11,\n",
      "  \"output_attentions\": false,\n",
      "  \"output_hidden_states\": false,\n",
      "  \"output_past\": true,\n",
      "  \"pruned_heads\": {},\n",
      "  \"torchscript\": false,\n",
      "  \"type_vocab_size\": 2,\n",
      "  \"use_bfloat16\": false,\n",
      "  \"vocab_size\": 30522\n",
      "}\n",
      "\n",
      "I1101 17:20:37.189255 140251368802112 modeling_utils.py:337] loading weights file https://s3.amazonaws.com/models.huggingface.co/bert/bert-large-uncased-pytorch_model.bin from cache at /home/yves/.cache/torch/transformers/54da47087cc86ce75324e4dc9bbb5f66c6e83a7c6bd23baea8b489acc8d09aa4.4d5343a4b979c4beeaadef17a0453d1bb183dd9b084f58b84c7cc781df343ae6\n"
     ]
    },
    {
     "data": {
      "application/vnd.jupyter.widget-view+json": {
       "model_id": "208220f170b747c4b083ceb1922c6107",
       "version_major": 2,
       "version_minor": 0
      },
      "text/plain": [
       "HBox(children=(IntProgress(value=0, description='Evaluation iteration', max=82, style=ProgressStyle(descriptio…"
      ]
     },
     "metadata": {},
     "output_type": "display_data"
    },
    {
     "name": "stdout",
     "output_type": "stream",
     "text": [
      "\n",
      "Test performance: (0.9329268292682927, 0.9329268292682927, 0.9329268292682927, None)\n",
      "                                                                          precision    recall  f1-score   support\n",
      "\n",
      "                                   Change without mentioning consumption       0.00      0.00      0.00         1\n",
      "                   Less meat consumption could harm economy and cut jobs       1.00      0.98      0.99        42\n",
      "The meat industry is important/thriving and/or exports/demand increasing       0.95      1.00      0.97        18\n",
      "                             Eating meat is necessary for good nutrition       0.67      0.67      0.67         6\n",
      "                                Eating meat is part of culture/tradition       0.86      1.00      0.93        19\n",
      "                                  Meat creates jobs and benefits economy       0.97      0.97      0.97        40\n",
      "                                              Outside of article's scope       0.92      1.00      0.96        11\n",
      "                                    People will or should still eat meat       0.80      0.80      0.80         5\n",
      "                       Flexitarian w/o connection to environment or jobs       0.91      0.77      0.83        13\n",
      "                                        Flexitarians benefit environment       0.88      0.88      0.88         8\n",
      "                                      Meat consumption harms environment       0.00      0.00      0.00         1\n",
      "\n",
      "                                                             avg / total       0.92      0.93      0.93       164\n",
      "\n"
     ]
    },
    {
     "name": "stderr",
     "output_type": "stream",
     "text": [
      "/opt/anaconda3/lib/python3.7/site-packages/sklearn/metrics/classification.py:1135: UndefinedMetricWarning: Precision and F-score are ill-defined and being set to 0.0 in labels with no predicted samples.\n",
      "  'precision', 'predicted', average, warn_for)\n"
     ]
    }
   ],
   "source": [
    "from quillnlp.models.bert.train import evaluate\n",
    "from sklearn.metrics import precision_recall_fscore_support, classification_report\n",
    "\n",
    "print(\"Loading model from\", output_model_file)\n",
    "device=\"cpu\"\n",
    "\n",
    "model = get_bert_classifier(BERT_MODEL, len(label2idx), model_file=output_model_file, device=device)\n",
    "model.eval()\n",
    "\n",
    "_, _, test_correct, test_predicted = evaluate(model, test_dataloader, device)\n",
    "\n",
    "print(\"Test performance:\", precision_recall_fscore_support(test_correct, test_predicted, average=\"micro\"))\n",
    "print(classification_report(test_correct, test_predicted, target_names=target_names))"
   ]
  },
  {
   "cell_type": "code",
   "execution_count": 6,
   "metadata": {},
   "outputs": [
    {
     "name": "stdout",
     "output_type": "stream",
     "text": [
      "Large amounts of meat consumption are harming the environment, but decreasing meat consumption could harm meat industry, the economy, and decrease jobs.#Less meat consumption could harm economy and cut jobs#Less meat consumption could harm economy and cut jobs\n",
      "Large amounts of meat consumption are harming the environment, but still remain a large and growing part of many cultures' diets around the world#Eating meat is part of culture/tradition#Eating meat is part of culture/tradition\n",
      "Large amounts of meat consumption are harming the environment, but the meat industry provides many jobs.#Meat creates jobs and benefits economy#Meat creates jobs and benefits economy\n",
      "Large amounts of meat consumption are harming the environment, but livestock production is also a boon to our economy.#Meat creates jobs and benefits economy#Meat creates jobs and benefits economy\n",
      "Large amounts of meat consumption are harming the environment, but eliminating consumption of meat would hurt the economy and take away many meat-related jobs.#Less meat consumption could harm economy and cut jobs#Less meat consumption could harm economy and cut jobs\n",
      "Large amounts of meat consumption are harming the environment, but vv#Outside of article's scope#Outside of article's scope\n",
      "Large amounts of meat consumption are harming the environment, but the meat industry provides jobs.#Meat creates jobs and benefits economy#Meat creates jobs and benefits economy\n",
      "Large amounts of meat consumption are harming the environment, but animals are so tasty.#People will or should still eat meat#People will or should still eat meat\n",
      "Large amounts of meat consumption are harming the environment, but many Americans have cultural reasons for eating meat, like celebrating holidays.#Eating meat is part of culture/tradition#Eating meat is part of culture/tradition\n",
      "Large amounts of meat consumption are harming the environment, but some people consume meat and fish only occasionally and in moderation#Flexitarian w/o connection to environment or jobs#Flexitarian w/o connection to environment or jobs\n",
      "Large amounts of meat consumption are harming the environment, but eating it in moderation would help reduce need for meat.#Flexitarians benefit environment#Flexitarians benefit environment\n",
      "Large amounts of meat consumption are harming the environment, but being a flexitarian eating  meat only sometimes can help#Flexitarians benefit environment#Flexitarians benefit environment\n",
      "Large amounts of meat consumption are harming the environment, but Americans are unlikely to change their habits due to the integration of meat into American culture.#Eating meat is part of culture/tradition#Eating meat is part of culture/tradition\n",
      "Large amounts of meat consumption are harming the environment, but it will also hurt the economy and the industry if consumption decreases.#Less meat consumption could harm economy and cut jobs#Less meat consumption could harm economy and cut jobs\n",
      "Large amounts of meat consumption are harming the environment, but huge amounts of pollution also come from developing countries, which are increasing their use of automobiles and coal burning power plants.#Outside of article's scope#Outside of article's scope\n",
      "Large amounts of meat consumption are harming the environment, but the industry is thriving and reducing consumption would hurt the economy.#Less meat consumption could harm economy and cut jobs#Less meat consumption could harm economy and cut jobs\n",
      "Large amounts of meat consumption are harming the environment, but there are options to reduce the environmental impact while still consuming meat#Flexitarians benefit environment#Flexitarians benefit environment\n",
      "Large amounts of meat consumption are harming the environment, but the meat industry is important and accounts for a large amount of jobs.#Meat creates jobs and benefits economy#Meat creates jobs and benefits economy\n",
      "Large amounts of meat consumption are harming the environment, but it has become so essential in our economy and life’s that it would be hard to stop it without having consequences.#Less meat consumption could harm economy and cut jobs#Meat creates jobs and benefits economy\n",
      "Large amounts of meat consumption are harming the environment, but the American tradition of eating meat is hurting the earth.#Meat consumption harms environment#Eating meat is part of culture/tradition\n",
      "Large amounts of meat consumption are harming the environment, but are an important domestic industry, helping maintain a strong economy.#Meat creates jobs and benefits economy#Meat creates jobs and benefits economy\n",
      "Large amounts of meat consumption are harming the environment, but eliminating the meat industry would take away jobs and livelihoods that are important to the economy.#Less meat consumption could harm economy and cut jobs#Less meat consumption could harm economy and cut jobs\n",
      "Large amounts of meat consumption are harming the environment, but some people have adjusted their diet to limited but not fully stop eating meat.#Flexitarian w/o connection to environment or jobs#Flexitarian w/o connection to environment or jobs\n",
      "Large amounts of meat consumption are harming the environment, but it creates a thriving economic industry with lots of jobs.#Meat creates jobs and benefits economy#Meat creates jobs and benefits economy\n",
      "Large amounts of meat consumption are harming the environment, but some people are vegetarians and only eat meat occasionally.#Flexitarian w/o connection to environment or jobs#Flexitarian w/o connection to environment or jobs\n",
      "Large amounts of meat consumption are harming the environment, but reducing intake would harm the economy.#Less meat consumption could harm economy and cut jobs#Less meat consumption could harm economy and cut jobs\n",
      "Large amounts of meat consumption are harming the environment, but the meat industry is thriving and reducing consumption could hurt the economy and take away jobs from those in that industry.#Less meat consumption could harm economy and cut jobs#Less meat consumption could harm economy and cut jobs\n",
      "Large amounts of meat consumption are harming the environment, but the  meat industry is thriving.#The meat industry is important/thriving and/or exports/demand increasing#The meat industry is important/thriving and/or exports/demand increasing\n",
      "Large amounts of meat consumption are harming the environment, but other areas of resource use account for 80% of greenhouse gas emission.#Outside of article's scope#Outside of article's scope\n",
      "Large amounts of meat consumption are harming the environment, but if people consumed less, it can negatively affect jobs and the economy.#Less meat consumption could harm economy and cut jobs#Less meat consumption could harm economy and cut jobs\n",
      "Large amounts of meat consumption are harming the environment, but exports of domestically produced beef is increasing allowing the meat industry to thrive.#The meat industry is important/thriving and/or exports/demand increasing#The meat industry is important/thriving and/or exports/demand increasing\n",
      "Large amounts of meat consumption are harming the environment, but reducing consumption could harm the domestic industry and cost people their jobs.#Less meat consumption could harm economy and cut jobs#Less meat consumption could harm economy and cut jobs\n",
      "Large amounts of meat consumption are harming the environment, but it tastes great and a huge part of being an American.#Eating meat is part of culture/tradition#Eating meat is part of culture/tradition\n",
      "Large amounts of meat consumption are harming the environment, but because the industry is so large and supports so many workers, any reduction of meat consumption could have negative effects on the economy through the loss of wages.#Less meat consumption could harm economy and cut jobs#Less meat consumption could harm economy and cut jobs\n",
      "Large amounts of meat consumption are harming the environment, but in america it is the part of culture and traditions#Eating meat is part of culture/tradition#Eating meat is part of culture/tradition\n",
      "Large amounts of meat consumption are harming the environment, but its also a healthy and responsible choice#Eating meat is necessary for good nutrition#Flexitarians benefit environment\n",
      "Large amounts of meat consumption are harming the environment, but reducing it would hurt the economy and take away jobs.#Less meat consumption could harm economy and cut jobs#Less meat consumption could harm economy and cut jobs\n",
      "Large amounts of meat consumption are harming the environment, but we don't want to lose jobs.#Less meat consumption could harm economy and cut jobs#Less meat consumption could harm economy and cut jobs\n",
      "Large amounts of meat consumption are harming the environment, but if we do away with eating meat, the economy will be drastically damaged.#Less meat consumption could harm economy and cut jobs#Less meat consumption could harm economy and cut jobs\n",
      "Large amounts of meat consumption are harming the environment, but some people feel that tradition is more important than the continued health of the planet.#Eating meat is part of culture/tradition#Eating meat is part of culture/tradition\n",
      "Large amounts of meat consumption are harming the environment, but if consumed in moderation, can be less harmful to the environment.#Flexitarians benefit environment#Flexitarians benefit environment\n",
      "Large amounts of meat consumption are harming the environment, but American exports are increasing since more countries are incorporating meat into their daily diets.#The meat industry is important/thriving and/or exports/demand increasing#The meat industry is important/thriving and/or exports/demand increasing\n",
      "Large amounts of meat consumption are harming the environment, but also helping the economy because meat is a large export as more countries become Americanized.#Meat creates jobs and benefits economy#Meat creates jobs and benefits economy\n",
      "Large amounts of meat consumption are harming the environment, but the elimination of meat in human nutrition can cause nutritional deficiencies and cause people to lose many jobs.#Less meat consumption could harm economy and cut jobs#Less meat consumption could harm economy and cut jobs\n",
      "Large amounts of meat consumption are harming the environment, but the economy behind meat production is booming.#Meat creates jobs and benefits economy#Meat creates jobs and benefits economy\n",
      "Large amounts of meat consumption are harming the environment, but eliminating meat by Americans would be like giving up an essential part of their culture and traditions.#Eating meat is part of culture/tradition#Eating meat is part of culture/tradition\n",
      "Large amounts of meat consumption are harming the environment, but can be eaten in moderation.#Flexitarian w/o connection to environment or jobs#Flexitarian w/o connection to environment or jobs\n",
      "Large amounts of meat consumption are harming the environment, but it is a difficult situation because stopping the meat industry would harm the economy as many parts of the world are also adopting meat into their diets.#Less meat consumption could harm economy and cut jobs#Less meat consumption could harm economy and cut jobs\n",
      "Large amounts of meat consumption are harming the environment, but it is also providing a ton of jobs in the domestic industry.#Meat creates jobs and benefits economy#Meat creates jobs and benefits economy\n",
      "Large amounts of meat consumption are harming the environment, but meat exports are increasing and creating a more profitable business.#The meat industry is important/thriving and/or exports/demand increasing#The meat industry is important/thriving and/or exports/demand increasing\n",
      "Large amounts of meat consumption are harming the environment, but there is a large likelihood that the vast tracks of farmland needed for grazing animals would not be left empty, there would be another, perhaps more harmful to the environment industry to use the land and resources.#Outside of article's scope#Outside of article's scope\n",
      "Large amounts of meat consumption are harming the environment, but caring and raising the livestock produces jobs.#Meat creates jobs and benefits economy#Meat creates jobs and benefits economy\n",
      "Large amounts of meat consumption are harming the environment, but the economy also benefits from the jobs created and revenue provided through raising livestock for food.#Meat creates jobs and benefits economy#Meat creates jobs and benefits economy\n",
      "Large amounts of meat consumption are harming the environment, but some people try to have a stricter diet with eating meat.#Flexitarian w/o connection to environment or jobs#Flexitarian w/o connection to environment or jobs\n",
      "Large amounts of meat consumption are harming the environment, but Americans enjoy consuming meat so much that the industry is thriving.#The meat industry is important/thriving and/or exports/demand increasing#The meat industry is important/thriving and/or exports/demand increasing\n",
      "Large amounts of meat consumption are harming the environment, but reducing meat consumption could damage the meat industry, hurt the economy and take away precious jobs.#Less meat consumption could harm economy and cut jobs#Less meat consumption could harm economy and cut jobs\n",
      "Large amounts of meat consumption are harming the environment, but moving to a 'flexitarian' society to curtail some of the damage being done.#Flexitarians benefit environment#Flexitarians benefit environment\n",
      "Large amounts of meat consumption are harming the environment, but if eaten responsibly and in moderation, meat can be a valuable part of a regular diet.#Flexitarians benefit environment#Flexitarian w/o connection to environment or jobs\n",
      "Large amounts of meat consumption are harming the environment, but reducing meat consumption would destroy an important US industry.#Less meat consumption could harm economy and cut jobs#Less meat consumption could harm economy and cut jobs\n",
      "Large amounts of meat consumption are harming the environment, but eliminating the meat industry would hurt the economy in many ways.#Less meat consumption could harm economy and cut jobs#Less meat consumption could harm economy and cut jobs\n",
      "Large amounts of meat consumption are harming the environment, but should be reduced to moderate intake.#Flexitarian w/o connection to environment or jobs#Flexitarian w/o connection to environment or jobs\n",
      "Large amounts of meat consumption are harming the environment, but for people like me, a flexitarian, I need red meat and turkey to maintain my iron levels - so I am very careful to eat the healthiest possible meats.#Flexitarian w/o connection to environment or jobs#Eating meat is necessary for good nutrition\n",
      "Large amounts of meat consumption are harming the environment, but reducing meat consumption could harm the U.S. domestic industry, negatively impact the economy and cause the loss of jobs.#Less meat consumption could harm economy and cut jobs#Less meat consumption could harm economy and cut jobs\n",
      "Large amounts of meat consumption are harming the environment, but the economy depends on meats and its exports to survive and thrive.#Meat creates jobs and benefits economy#Meat creates jobs and benefits economy\n",
      "Large amounts of meat consumption are harming the environment, but the meat industry provides many jobs.#Meat creates jobs and benefits economy#Meat creates jobs and benefits economy\n",
      "Large amounts of meat consumption are harming the environment, but reducing meat consumption could hurt the economy  and increase unemployment.#Less meat consumption could harm economy and cut jobs#Less meat consumption could harm economy and cut jobs\n",
      "Large amounts of meat consumption are harming the environment, but eliminating meat would be like giving up an essential  part of our culture and traditions.#Eating meat is part of culture/tradition#Eating meat is part of culture/tradition\n",
      "Large amounts of meat consumption are harming the environment, but the meat industry is still thriving.#The meat industry is important/thriving and/or exports/demand increasing#The meat industry is important/thriving and/or exports/demand increasing\n",
      "Large amounts of meat consumption are harming the environment, but reducing meat consumption could harm peoples' livelihood.#Less meat consumption could harm economy and cut jobs#Less meat consumption could harm economy and cut jobs\n",
      "Large amounts of meat consumption are harming the environment, but are important part of the economy.#Meat creates jobs and benefits economy#Meat creates jobs and benefits economy\n",
      "Large amounts of meat consumption are harming the environment, but the meat industry supports the economy and workers.#Meat creates jobs and benefits economy#Meat creates jobs and benefits economy\n",
      "Large amounts of meat consumption are harming the environment, but eating meat is an essential part of many cultures and traditions.#Eating meat is part of culture/tradition#Eating meat is part of culture/tradition\n",
      "Large amounts of meat consumption are harming the environment, but if cut it would cause precious jobs to be lost and hurt our economy.#Less meat consumption could harm economy and cut jobs#Less meat consumption could harm economy and cut jobs\n",
      "Large amounts of meat consumption are harming the environment, but people need the iron in meat to survive.#Eating meat is necessary for good nutrition#Eating meat is necessary for good nutrition\n",
      "Large amounts of meat consumption are harming the environment, but reducing or stopping meat consumption will have an adverse effect on economies and jobs.#Less meat consumption could harm economy and cut jobs#Less meat consumption could harm economy and cut jobs\n",
      "Large amounts of meat consumption are harming the environment, but reducing the amount of meat consumed could damage and alter the economy drastically.#Less meat consumption could harm economy and cut jobs#Less meat consumption could harm economy and cut jobs\n",
      "Large amounts of meat consumption are harming the environment, but eating meat is an essential part of American culture and traditions.#Eating meat is part of culture/tradition#Eating meat is part of culture/tradition\n",
      "Large amounts of meat consumption are harming the environment, but the meat industry is thriving because of American diets and exports.#The meat industry is important/thriving and/or exports/demand increasing#The meat industry is important/thriving and/or exports/demand increasing\n",
      "Large amounts of meat consumption are harming the environment, but contribute economically to society.#Meat creates jobs and benefits economy#Meat creates jobs and benefits economy\n",
      "Large amounts of meat consumption are harming the environment, but the meat industry is thriving and provides many jobs.#Meat creates jobs and benefits economy#Meat creates jobs and benefits economy\n",
      "Large amounts of meat consumption are harming the environment, but it is producing Jobs for Americans.#Meat creates jobs and benefits economy#Meat creates jobs and benefits economy\n",
      "Large amounts of meat consumption are harming the environment, but if the population moved to a more plant-based diet there would be an increase in water usage to raise plants and an increase in greenhouse gases to move the plants to processing plants and then to end-users.#Outside of article's scope#Outside of article's scope\n",
      "Large amounts of meat consumption are harming the environment, but it is important to the American economy.#Meat creates jobs and benefits economy#Meat creates jobs and benefits economy\n",
      "Large amounts of meat consumption are harming the environment, but meat consumption helps an important domestic industry, creating jobs.#Meat creates jobs and benefits economy#Meat creates jobs and benefits economy\n",
      "Large amounts of meat consumption are harming the environment, but reducing meat consumption will hurt the economy and take away jobs.#Less meat consumption could harm economy and cut jobs#Less meat consumption could harm economy and cut jobs\n",
      "Large amounts of meat consumption are harming the environment, but flexitarians can change that.#Flexitarians benefit environment#Flexitarians benefit environment\n",
      "Large amounts of meat consumption are harming the environment, but they only account for 20% of the world's total greenhouse gases, there are other factors at play that we need to start regulating in order to take care of the other 80%.#Outside of article's scope#Outside of article's scope\n",
      "Large amounts of meat consumption are harming the environment, but Americans continue to consume.#People will or should still eat meat#People will or should still eat meat\n",
      "Large amounts of meat consumption are harming the environment, but the meat industry is thriving because beef produced domestically is a huge export and is helping the economy.#Meat creates jobs and benefits economy#Meat creates jobs and benefits economy\n",
      "Large amounts of meat consumption are harming the environment, but it is important to make sure animal populations are kept under control.#Outside of article's scope#Outside of article's scope\n",
      "Large amounts of meat consumption are harming the environment, but the population's need is too great to be ignored.#People will or should still eat meat#People will or should still eat meat\n",
      "Large amounts of meat consumption are harming the environment, but the meat industry is crucial to the world's economy.#Meat creates jobs and benefits economy#Meat creates jobs and benefits economy\n",
      "Large amounts of meat consumption are harming the environment, but a lot of people are employed in the meat producing industry.#Meat creates jobs and benefits economy#Meat creates jobs and benefits economy\n",
      "Large amounts of meat consumption are harming the environment, but the industry for producing meat is helping to create many jobs for people which would be lost if people stop eating meat.#Meat creates jobs and benefits economy#Meat creates jobs and benefits economy\n",
      "Large amounts of meat consumption are harming the environment, but CAN BE HEALTH FOR SOME PEOPLE#Eating meat is necessary for good nutrition#Eating meat is necessary for good nutrition\n",
      "Large amounts of meat consumption are harming the environment, but reducing meat consumption could hurt the economy and take away jobs.#Less meat consumption could harm economy and cut jobs#Less meat consumption could harm economy and cut jobs\n",
      "Large amounts of meat consumption are harming the environment, but eating meat is a part of American culture and tradition, representing holidays and local pride.#Eating meat is part of culture/tradition#Eating meat is part of culture/tradition\n",
      "Large amounts of meat consumption are harming the environment, but there is a way for Americans to still eat meat while reducing the environmental impact of their dietary choices.#Flexitarians benefit environment#Flexitarians benefit environment\n",
      "Large amounts of meat consumption are harming the environment, but it is part of the american gastronomy and will be very dificult to eliminate it comsuption#Eating meat is necessary for good nutrition#People will or should still eat meat\n",
      "Large amounts of meat consumption are harming the environment, but many people still adopt the American tradition of meat consumption.#Eating meat is part of culture/tradition#Eating meat is part of culture/tradition\n",
      "Large amounts of meat consumption are harming the environment, but reducing meat consumption could damage a booming industry thus leading to job loss and economic downturn.#Less meat consumption could harm economy and cut jobs#Less meat consumption could harm economy and cut jobs\n",
      "Large amounts of meat consumption are harming the environment, but meat consumption is an American tradition and part of the culture.#Eating meat is part of culture/tradition#Eating meat is part of culture/tradition\n",
      "Large amounts of meat consumption are harming the environment, but getting rid of meat entirely could be hurting a vital economic sector.#Less meat consumption could harm economy and cut jobs#Less meat consumption could harm economy and cut jobs\n",
      "Large amounts of meat consumption are harming the environment, but the meat industry is a thriving staple for the U.S. economy.#Meat creates jobs and benefits economy#Meat creates jobs and benefits economy\n",
      "Large amounts of meat consumption are harming the environment, but the meat industry is very important the economy.#Meat creates jobs and benefits economy#Meat creates jobs and benefits economy\n",
      "Large amounts of meat consumption are harming the environment, but it could be resolved in a substainable way if the practices are done correctly#Change without mentioning consumption#Outside of article's scope\n",
      "Large amounts of meat consumption are harming the environment, but meat consumption is on the rise with more and more countries increasing their meat consumption.#The meat industry is important/thriving and/or exports/demand increasing#The meat industry is important/thriving and/or exports/demand increasing\n",
      "Large amounts of meat consumption are harming the environment, but reducing meat consumption could hurt the economy.#Less meat consumption could harm economy and cut jobs#Less meat consumption could harm economy and cut jobs\n",
      "Large amounts of meat consumption are harming the environment, but reducing consumption could take away precious jobs and hurt the economy#Less meat consumption could harm economy and cut jobs#Less meat consumption could harm economy and cut jobs\n",
      "Large amounts of meat consumption are harming the environment, but it is an american tradition.#Eating meat is part of culture/tradition#Eating meat is part of culture/tradition\n",
      "Large amounts of meat consumption are harming the environment, but some would say that human effect on the environment in any way is minimal.#Outside of article's scope#Outside of article's scope\n",
      "Large amounts of meat consumption are harming the environment, but abruptly reducing the amount of meat eaten could harm the economy.#Less meat consumption could harm economy and cut jobs#Less meat consumption could harm economy and cut jobs\n",
      "Large amounts of meat consumption are harming the environment, but are also helping our economy.#Meat creates jobs and benefits economy#Meat creates jobs and benefits economy\n",
      "Large amounts of meat consumption are harming the environment, but our bodies have health needs that include consuming meat from time to time, which forces our hands to knowingly cause harm.#Eating meat is necessary for good nutrition#Eating meat is necessary for good nutrition\n",
      "Large amounts of meat consumption are harming the environment, but unilaterally stopping eating meat, can also hurt the economy.#Less meat consumption could harm economy and cut jobs#Less meat consumption could harm economy and cut jobs\n",
      "Large amounts of meat consumption are harming the environment, but the meat industry is thriving, with more and more meat being exported.#The meat industry is important/thriving and/or exports/demand increasing#The meat industry is important/thriving and/or exports/demand increasing\n",
      "Large amounts of meat consumption are harming the environment, but they are also helping boost our economy and keeping many people employed.#Meat creates jobs and benefits economy#Meat creates jobs and benefits economy\n",
      "Large amounts of meat consumption are harming the environment, but it's hard to do anything about it because meat consumption is a large part of American culture and is quickly becoming a part of cultures around the world.#Eating meat is part of culture/tradition#Eating meat is part of culture/tradition\n",
      "Large amounts of meat consumption are harming the environment, but the meat industry provides jobs#Meat creates jobs and benefits economy#Meat creates jobs and benefits economy\n",
      "Large amounts of meat consumption are harming the environment, but eliminating meat entirely would cripple the meat industry, making people lose jobs.#Less meat consumption could harm economy and cut jobs#Less meat consumption could harm economy and cut jobs\n",
      "Large amounts of meat consumption are harming the environment, but the economy would be hurt by stopping meat production because it provides a lot of jobs.#Less meat consumption could harm economy and cut jobs#Less meat consumption could harm economy and cut jobs\n",
      "Large amounts of meat consumption are harming the environment, but it creates jobs and have economic benefits.#Meat creates jobs and benefits economy#Meat creates jobs and benefits economy\n",
      "Large amounts of meat consumption are harming the environment, but the meat industry creates many jobs and contributes to a healthy economy#Meat creates jobs and benefits economy#Meat creates jobs and benefits economy\n",
      "Large amounts of meat consumption are harming the environment, but some people choose to be flexitarians#Flexitarian w/o connection to environment or jobs#Flexitarian w/o connection to environment or jobs\n",
      "Large amounts of meat consumption are harming the environment, but the meat industry is thriving.#The meat industry is important/thriving and/or exports/demand increasing#The meat industry is important/thriving and/or exports/demand increasing\n",
      "Large amounts of meat consumption are harming the environment, but there are flexitarians, people who belueve that most of their diet should be plant-based, with occasional meat consumption.#Flexitarian w/o connection to environment or jobs#Flexitarian w/o connection to environment or jobs\n",
      "Large amounts of meat consumption are harming the environment, but reducing meat consumption could damage an important  domestic industry, hurting the economy and taking away precious jobs.#Less meat consumption could harm economy and cut jobs#Less meat consumption could harm economy and cut jobs\n",
      "Large amounts of meat consumption are harming the environment, but meat and fish are part of most healthy diets in moderation.#Flexitarian w/o connection to environment or jobs#Flexitarian w/o connection to environment or jobs\n",
      "Large amounts of meat consumption are harming the environment, but taste good#People will or should still eat meat#People will or should still eat meat\n",
      "Large amounts of meat consumption are harming the environment, but even more people keep integrating meat into their daily lives.#The meat industry is important/thriving and/or exports/demand increasing#The meat industry is important/thriving and/or exports/demand increasing\n",
      "Large amounts of meat consumption are harming the environment, but Americans feel that it is an important part of their culture.#Eating meat is part of culture/tradition#Eating meat is part of culture/tradition\n",
      "Large amounts of meat consumption are harming the environment, but the stated claim#Outside of article's scope#Outside of article's scope\n",
      "Large amounts of meat consumption are harming the environment, but what harm is actually being done.#Outside of article's scope#Outside of article's scope\n",
      "Large amounts of meat consumption are harming the environment, but is fueling a thriving meat industry.#The meat industry is important/thriving and/or exports/demand increasing#The meat industry is important/thriving and/or exports/demand increasing\n",
      "Large amounts of meat consumption are harming the environment, but the meat industry is thriving.#The meat industry is important/thriving and/or exports/demand increasing#The meat industry is important/thriving and/or exports/demand increasing\n",
      "Large amounts of meat consumption are harming the environment, but are helping the economy.#Meat creates jobs and benefits economy#Meat creates jobs and benefits economy\n",
      "Large amounts of meat consumption are harming the environment, but it is also very beneficial for the economy and it creates a lot of jobs by producing and exporting meat.#Meat creates jobs and benefits economy#Meat creates jobs and benefits economy\n",
      "Large amounts of meat consumption are harming the environment, but eating meat occasionally can still be healthy for you.#Flexitarian w/o connection to environment or jobs#Eating meat is necessary for good nutrition\n",
      "Large amounts of meat consumption are harming the environment, but reducing meat consumption could take away jobs and hurt the economy.#Less meat consumption could harm economy and cut jobs#Less meat consumption could harm economy and cut jobs\n",
      "Large amounts of meat consumption are harming the environment, but it is a booming industry both domestically and internationally.#The meat industry is important/thriving and/or exports/demand increasing#The meat industry is important/thriving and/or exports/demand increasing\n",
      "Large amounts of meat consumption are harming the environment, but if everyone stopped eating meat it could have a large impact on our economy as many people would lose their jobs.#Less meat consumption could harm economy and cut jobs#Less meat consumption could harm economy and cut jobs\n",
      "Large amounts of meat consumption are harming the environment, but the meat industry is thriving and accounts for many jobs, as well as several pivotal culinary pieces of American culture.#Meat creates jobs and benefits economy#Meat creates jobs and benefits economy\n",
      "Large amounts of meat consumption are harming the environment, but by stopping meat consumption you could damage the economy and cost people their jobs.#Less meat consumption could harm economy and cut jobs#Less meat consumption could harm economy and cut jobs\n",
      "Large amounts of meat consumption are harming the environment, but meat consumption is such a big part of American culture, it is likely to continue and even grow.#Meat creates jobs and benefits economy#Eating meat is part of culture/tradition\n",
      "Large amounts of meat consumption are harming the environment, but some people that call themselves \"Flexitarians\" choose to eat meat in moderation.#Flexitarian w/o connection to environment or jobs#Flexitarian w/o connection to environment or jobs\n",
      "Large amounts of meat consumption are harming the environment, but the meat industry continues to thrive as more and more meat is consumed.#The meat industry is important/thriving and/or exports/demand increasing#The meat industry is important/thriving and/or exports/demand increasing\n",
      "Large amounts of meat consumption are harming the environment, but increasing export to other countries.#The meat industry is important/thriving and/or exports/demand increasing#The meat industry is important/thriving and/or exports/demand increasing\n",
      "Large amounts of meat consumption are harming the environment, but it is part of the culture of the people.#Eating meat is part of culture/tradition#Eating meat is part of culture/tradition\n",
      "Large amounts of meat consumption are harming the environment, but the meat industry also creates good jobs.#Meat creates jobs and benefits economy#Meat creates jobs and benefits economy\n",
      "Large amounts of meat consumption are harming the environment, but meat is one essential component for a well-balanced meal.#Eating meat is necessary for good nutrition#Eating meat is necessary for good nutrition\n",
      "Large amounts of meat consumption are harming the environment, but helping keep alot of domestic jobs.#Meat creates jobs and benefits economy#Meat creates jobs and benefits economy\n",
      "Large amounts of meat consumption are harming the environment, but the meat industry is a dominating force in the American domestic market.#The meat industry is important/thriving and/or exports/demand increasing#The meat industry is important/thriving and/or exports/demand increasing\n",
      "Large amounts of meat consumption are harming the environment, but decreasing the amounts of meat consumed could damage an important domestic industry since exports are increasing.#Less meat consumption could harm economy and cut jobs#Less meat consumption could harm economy and cut jobs\n",
      "Large amounts of meat consumption are harming the environment, but meat consumption continues to rise.#People will or should still eat meat#The meat industry is important/thriving and/or exports/demand increasing\n",
      "Large amounts of meat consumption are harming the environment, but there#Outside of article's scope#Outside of article's scope\n",
      "Large amounts of meat consumption are harming the environment, but they are benefiting the global economy.#Meat creates jobs and benefits economy#Meat creates jobs and benefits economy\n",
      "Large amounts of meat consumption are harming the environment, but reducing meat consumption can hurt the economy and take away precious jobs.#Less meat consumption could harm economy and cut jobs#Less meat consumption could harm economy and cut jobs\n",
      "Large amounts of meat consumption are harming the environment, but the meat industry is doing an all time high amount of business.#The meat industry is important/thriving and/or exports/demand increasing#The meat industry is important/thriving and/or exports/demand increasing\n",
      "Large amounts of meat consumption are harming the environment, but it's a classic American food.#Flexitarian w/o connection to environment or jobs#Eating meat is part of culture/tradition\n",
      "Large amounts of meat consumption are harming the environment, but many jobs are provided by the meat industry.#Meat creates jobs and benefits economy#Meat creates jobs and benefits economy\n",
      "Large amounts of meat consumption are harming the environment, but the meat industry is important economically, and some believe that responsible meat consumption is acceptable as a small part of a mostly plant-based diet.#Meat creates jobs and benefits economy#Meat creates jobs and benefits economy\n",
      "Large amounts of meat consumption are harming the environment, but eliminating meat would be giving up a part of their culture.#Eating meat is part of culture/tradition#Eating meat is part of culture/tradition\n",
      "Large amounts of meat consumption are harming the environment, but for some Americans eliminating meat would be like giving up an essential part of our culture and traditions.#Eating meat is part of culture/tradition#Eating meat is part of culture/tradition\n",
      "Large amounts of meat consumption are harming the environment, but there may be a negative economic impact to reducing meat consumption and also exporting meats as part of our international trade economy.#Less meat consumption could harm economy and cut jobs#Less meat consumption could harm economy and cut jobs\n",
      "153\n",
      "0.9329268292682927\n"
     ]
    }
   ],
   "source": [
    "c = 0\n",
    "for item, predicted, correct in zip(test_data, test_predicted, test_correct):\n",
    "    assert item[\"label\"] == idx2label[correct]\n",
    "    c += (item[\"label\"] == idx2label[predicted])\n",
    "    print(\"{}#{}#{}\".format(item[\"text\"], idx2label[correct], idx2label[predicted]))\n",
    "    \n",
    "print(c)\n",
    "print(c/len(test_data))"
   ]
  }
 ],
 "metadata": {
  "kernelspec": {
   "display_name": "Python 3",
   "language": "python",
   "name": "python3"
  },
  "language_info": {
   "codemirror_mode": {
    "name": "ipython",
    "version": 3
   },
   "file_extension": ".py",
   "mimetype": "text/x-python",
   "name": "python",
   "nbconvert_exporter": "python",
   "pygments_lexer": "ipython3",
   "version": "3.7.3"
  }
 },
 "nbformat": 4,
 "nbformat_minor": 2
}
