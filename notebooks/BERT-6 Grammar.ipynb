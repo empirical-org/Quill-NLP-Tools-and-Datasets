{
 "cells": [
  {
   "cell_type": "code",
   "execution_count": 1,
   "metadata": {},
   "outputs": [
    {
     "ename": "KeyboardInterrupt",
     "evalue": "",
     "output_type": "error",
     "traceback": [
      "\u001b[0;31m---------------------------------------------------------------------------\u001b[0m",
      "\u001b[0;31mKeyboardInterrupt\u001b[0m                         Traceback (most recent call last)",
      "\u001b[0;32m<ipython-input-1-e6f876969213>\u001b[0m in \u001b[0;36m<module>\u001b[0;34m\u001b[0m\n\u001b[1;32m     11\u001b[0m \u001b[0;34m\u001b[0m\u001b[0m\n\u001b[1;32m     12\u001b[0m \u001b[0;32mwith\u001b[0m \u001b[0mopen\u001b[0m\u001b[0;34m(\u001b[0m\u001b[0mTRAINING_FILE\u001b[0m\u001b[0;34m)\u001b[0m \u001b[0;32mas\u001b[0m \u001b[0mi\u001b[0m\u001b[0;34m:\u001b[0m\u001b[0;34m\u001b[0m\u001b[0;34m\u001b[0m\u001b[0m\n\u001b[0;32m---> 13\u001b[0;31m     \u001b[0mdata\u001b[0m \u001b[0;34m=\u001b[0m \u001b[0mndjson\u001b[0m\u001b[0;34m.\u001b[0m\u001b[0mload\u001b[0m\u001b[0;34m(\u001b[0m\u001b[0mi\u001b[0m\u001b[0;34m)\u001b[0m\u001b[0;34m\u001b[0m\u001b[0;34m\u001b[0m\u001b[0m\n\u001b[0m\u001b[1;32m     14\u001b[0m \u001b[0;34m\u001b[0m\u001b[0m\n\u001b[1;32m     15\u001b[0m \u001b[0mdata\u001b[0m \u001b[0;34m=\u001b[0m \u001b[0mdata\u001b[0m\u001b[0;34m[\u001b[0m\u001b[0;34m:\u001b[0m\u001b[0mTRAIN_SIZE\u001b[0m\u001b[0;34m]\u001b[0m\u001b[0;34m\u001b[0m\u001b[0;34m\u001b[0m\u001b[0m\n",
      "\u001b[0;32m~/projects/Quill-NLP-Tools-and-Datasets/venv3/lib/python3.7/site-packages/ndjson/api.py\u001b[0m in \u001b[0;36mload\u001b[0;34m(*args, **kwargs)\u001b[0m\n\u001b[1;32m      7\u001b[0m \u001b[0;32mdef\u001b[0m \u001b[0mload\u001b[0m\u001b[0;34m(\u001b[0m\u001b[0;34m*\u001b[0m\u001b[0margs\u001b[0m\u001b[0;34m,\u001b[0m \u001b[0;34m**\u001b[0m\u001b[0mkwargs\u001b[0m\u001b[0;34m)\u001b[0m\u001b[0;34m:\u001b[0m\u001b[0;34m\u001b[0m\u001b[0;34m\u001b[0m\u001b[0m\n\u001b[1;32m      8\u001b[0m     \u001b[0mkwargs\u001b[0m\u001b[0;34m.\u001b[0m\u001b[0msetdefault\u001b[0m\u001b[0;34m(\u001b[0m\u001b[0;34m'cls'\u001b[0m\u001b[0;34m,\u001b[0m \u001b[0mDecoder\u001b[0m\u001b[0;34m)\u001b[0m\u001b[0;34m\u001b[0m\u001b[0;34m\u001b[0m\u001b[0m\n\u001b[0;32m----> 9\u001b[0;31m     \u001b[0;32mreturn\u001b[0m \u001b[0mjson\u001b[0m\u001b[0;34m.\u001b[0m\u001b[0mload\u001b[0m\u001b[0;34m(\u001b[0m\u001b[0;34m*\u001b[0m\u001b[0margs\u001b[0m\u001b[0;34m,\u001b[0m \u001b[0;34m**\u001b[0m\u001b[0mkwargs\u001b[0m\u001b[0;34m)\u001b[0m\u001b[0;34m\u001b[0m\u001b[0;34m\u001b[0m\u001b[0m\n\u001b[0m\u001b[1;32m     10\u001b[0m \u001b[0;34m\u001b[0m\u001b[0m\n\u001b[1;32m     11\u001b[0m \u001b[0;34m\u001b[0m\u001b[0m\n",
      "\u001b[0;32m/opt/anaconda3/lib/python3.7/json/__init__.py\u001b[0m in \u001b[0;36mload\u001b[0;34m(fp, cls, object_hook, parse_float, parse_int, parse_constant, object_pairs_hook, **kw)\u001b[0m\n\u001b[1;32m    294\u001b[0m         \u001b[0mcls\u001b[0m\u001b[0;34m=\u001b[0m\u001b[0mcls\u001b[0m\u001b[0;34m,\u001b[0m \u001b[0mobject_hook\u001b[0m\u001b[0;34m=\u001b[0m\u001b[0mobject_hook\u001b[0m\u001b[0;34m,\u001b[0m\u001b[0;34m\u001b[0m\u001b[0;34m\u001b[0m\u001b[0m\n\u001b[1;32m    295\u001b[0m         \u001b[0mparse_float\u001b[0m\u001b[0;34m=\u001b[0m\u001b[0mparse_float\u001b[0m\u001b[0;34m,\u001b[0m \u001b[0mparse_int\u001b[0m\u001b[0;34m=\u001b[0m\u001b[0mparse_int\u001b[0m\u001b[0;34m,\u001b[0m\u001b[0;34m\u001b[0m\u001b[0;34m\u001b[0m\u001b[0m\n\u001b[0;32m--> 296\u001b[0;31m         parse_constant=parse_constant, object_pairs_hook=object_pairs_hook, **kw)\n\u001b[0m\u001b[1;32m    297\u001b[0m \u001b[0;34m\u001b[0m\u001b[0m\n\u001b[1;32m    298\u001b[0m \u001b[0;34m\u001b[0m\u001b[0m\n",
      "\u001b[0;32m/opt/anaconda3/lib/python3.7/json/__init__.py\u001b[0m in \u001b[0;36mloads\u001b[0;34m(s, encoding, cls, object_hook, parse_float, parse_int, parse_constant, object_pairs_hook, **kw)\u001b[0m\n\u001b[1;32m    359\u001b[0m     \u001b[0;32mif\u001b[0m \u001b[0mparse_constant\u001b[0m \u001b[0;32mis\u001b[0m \u001b[0;32mnot\u001b[0m \u001b[0;32mNone\u001b[0m\u001b[0;34m:\u001b[0m\u001b[0;34m\u001b[0m\u001b[0;34m\u001b[0m\u001b[0m\n\u001b[1;32m    360\u001b[0m         \u001b[0mkw\u001b[0m\u001b[0;34m[\u001b[0m\u001b[0;34m'parse_constant'\u001b[0m\u001b[0;34m]\u001b[0m \u001b[0;34m=\u001b[0m \u001b[0mparse_constant\u001b[0m\u001b[0;34m\u001b[0m\u001b[0;34m\u001b[0m\u001b[0m\n\u001b[0;32m--> 361\u001b[0;31m     \u001b[0;32mreturn\u001b[0m \u001b[0mcls\u001b[0m\u001b[0;34m(\u001b[0m\u001b[0;34m**\u001b[0m\u001b[0mkw\u001b[0m\u001b[0;34m)\u001b[0m\u001b[0;34m.\u001b[0m\u001b[0mdecode\u001b[0m\u001b[0;34m(\u001b[0m\u001b[0ms\u001b[0m\u001b[0;34m)\u001b[0m\u001b[0;34m\u001b[0m\u001b[0;34m\u001b[0m\u001b[0m\n\u001b[0m",
      "\u001b[0;32m~/projects/Quill-NLP-Tools-and-Datasets/venv3/lib/python3.7/site-packages/ndjson/codecs.py\u001b[0m in \u001b[0;36mdecode\u001b[0;34m(self, s, *args, **kwargs)\u001b[0m\n\u001b[1;32m      5\u001b[0m \u001b[0;32mclass\u001b[0m \u001b[0mDecoder\u001b[0m\u001b[0;34m(\u001b[0m\u001b[0mjson\u001b[0m\u001b[0;34m.\u001b[0m\u001b[0mJSONDecoder\u001b[0m\u001b[0;34m)\u001b[0m\u001b[0;34m:\u001b[0m\u001b[0;34m\u001b[0m\u001b[0;34m\u001b[0m\u001b[0m\n\u001b[1;32m      6\u001b[0m     \u001b[0;32mdef\u001b[0m \u001b[0mdecode\u001b[0m\u001b[0;34m(\u001b[0m\u001b[0mself\u001b[0m\u001b[0;34m,\u001b[0m \u001b[0ms\u001b[0m\u001b[0;34m,\u001b[0m \u001b[0;34m*\u001b[0m\u001b[0margs\u001b[0m\u001b[0;34m,\u001b[0m \u001b[0;34m**\u001b[0m\u001b[0mkwargs\u001b[0m\u001b[0;34m)\u001b[0m\u001b[0;34m:\u001b[0m\u001b[0;34m\u001b[0m\u001b[0;34m\u001b[0m\u001b[0m\n\u001b[0;32m----> 7\u001b[0;31m         \u001b[0mlines\u001b[0m \u001b[0;34m=\u001b[0m \u001b[0;34m','\u001b[0m\u001b[0;34m.\u001b[0m\u001b[0mjoin\u001b[0m\u001b[0;34m(\u001b[0m\u001b[0ms\u001b[0m\u001b[0;34m.\u001b[0m\u001b[0msplitlines\u001b[0m\u001b[0;34m(\u001b[0m\u001b[0;34m)\u001b[0m\u001b[0;34m)\u001b[0m\u001b[0;34m\u001b[0m\u001b[0;34m\u001b[0m\u001b[0m\n\u001b[0m\u001b[1;32m      8\u001b[0m         \u001b[0mtext\u001b[0m \u001b[0;34m=\u001b[0m \u001b[0;34m'[{}]'\u001b[0m\u001b[0;34m.\u001b[0m\u001b[0mformat\u001b[0m\u001b[0;34m(\u001b[0m\u001b[0mlines\u001b[0m\u001b[0;34m)\u001b[0m\u001b[0;34m\u001b[0m\u001b[0;34m\u001b[0m\u001b[0m\n\u001b[1;32m      9\u001b[0m         \u001b[0;32mreturn\u001b[0m \u001b[0msuper\u001b[0m\u001b[0;34m(\u001b[0m\u001b[0mDecoder\u001b[0m\u001b[0;34m,\u001b[0m \u001b[0mself\u001b[0m\u001b[0;34m)\u001b[0m\u001b[0;34m.\u001b[0m\u001b[0mdecode\u001b[0m\u001b[0;34m(\u001b[0m\u001b[0mtext\u001b[0m\u001b[0;34m,\u001b[0m \u001b[0;34m*\u001b[0m\u001b[0margs\u001b[0m\u001b[0;34m,\u001b[0m \u001b[0;34m**\u001b[0m\u001b[0mkwargs\u001b[0m\u001b[0;34m)\u001b[0m\u001b[0;34m\u001b[0m\u001b[0;34m\u001b[0m\u001b[0m\n",
      "\u001b[0;31mKeyboardInterrupt\u001b[0m: "
     ]
    }
   ],
   "source": [
    "import ndjson\n",
    "import sys\n",
    "sys.path.append('../')\n",
    "\n",
    "TRAINING_FILE = \"/home/yves/projects/Quill-NLP-Tools-and-Datasets/notw.ndjson\"\n",
    "MAX_SEQ_LENGTH = 100\n",
    "TRAIN_SIZE = 500000\n",
    "TEST_SIZE = 5000\n",
    "BATCH_SIZE = 32\n",
    "\n",
    "\n",
    "with open(TRAINING_FILE) as i:\n",
    "    data = ndjson.load(i)\n",
    "    \n",
    "data = data[:TRAIN_SIZE]\n",
    "\n",
    "data = [{\"text\": item.get(\"synth_sentence\", item.get(\"orig_sentence\")), \n",
    "         \"entities\": item.get(\"entities\", [])} for item in data]\n"
   ]
  },
  {
   "cell_type": "code",
   "execution_count": 2,
   "metadata": {},
   "outputs": [
    {
     "name": "stdout",
     "output_type": "stream",
     "text": [
      "{'O': 0, 'POSSESSIVE': 1, 'VERB': 2, 'ADV': 3, 'WOMAN': 4, 'ITS': 5, 'THEN': 6, 'CHILD': 7}\n"
     ]
    }
   ],
   "source": [
    "label2idx = {\"O\": 0}\n",
    "\n",
    "for sentence in data:\n",
    "    if \"entities\" in sentence:\n",
    "        for (_, _, label) in sentence[\"entities\"]:\n",
    "            if label not in label2idx:\n",
    "                label2idx[label] = len(label2idx)\n",
    "            \n",
    "print(label2idx)\n",
    "        "
   ]
  },
  {
   "cell_type": "code",
   "execution_count": 4,
   "metadata": {},
   "outputs": [
    {
     "name": "stderr",
     "output_type": "stream",
     "text": [
      "I0317 15:32:54.715602 140152479643456 file_utils.py:41] PyTorch version 1.2.0+cu92 available.\n",
      "I0317 15:32:55.623711 140152479643456 file_utils.py:57] TensorFlow version 2.1.0 available.\n",
      "I0317 15:32:56.305696 140152479643456 tokenization_utils.py:501] loading file https://s3.amazonaws.com/models.huggingface.co/bert/bert-base-cased-vocab.txt from cache at /home/yves/.cache/torch/transformers/5e8a2b4893d13790ed4150ca1906be5f7a03d6c4ddf62296c383f6db42814db2.e13dbb970cb325137104fb2e5f36fe865f27746c6b526f6352861b1980eb80b1\n"
     ]
    }
   ],
   "source": [
    "from transformers import BertForTokenClassification\n",
    "from transformers import BertTokenizer\n",
    "from quillnlp.models.bert.preprocessing import convert_data_to_input_items, NLPTask\n",
    "\n",
    "tokenizer = BertTokenizer.from_pretrained(\"bert-base-cased\")\n",
    "input_items = convert_data_to_input_items(data, label2idx, MAX_SEQ_LENGTH, tokenizer, NLPTask.SEQUENCE_LABELING)"
   ]
  },
  {
   "cell_type": "code",
   "execution_count": 6,
   "metadata": {},
   "outputs": [],
   "source": [
    "import random\n",
    "\n",
    "from quillnlp.models.bert.preprocessing import get_data_loader\n",
    "\n",
    "random.shuffle(input_items)\n",
    "\n",
    "test_items = input_items[-TEST_SIZE:]\n",
    "valid_items = input_items[-2*TEST_SIZE:-TEST_SIZE]\n",
    "train_items = input_items[:-2*TEST_SIZE]\n",
    "\n",
    "test_dl = get_data_loader(test_items, BATCH_SIZE, shuffle=False)\n",
    "dev_dl = get_data_loader(valid_items, BATCH_SIZE, shuffle=False)\n",
    "train_dl = get_data_loader(train_items, BATCH_SIZE, shuffle=True)\n"
   ]
  },
  {
   "cell_type": "code",
   "execution_count": 7,
   "metadata": {},
   "outputs": [
    {
     "name": "stderr",
     "output_type": "stream",
     "text": [
      "I0317 15:33:27.167923 140152479643456 configuration_utils.py:256] loading configuration file https://s3.amazonaws.com/models.huggingface.co/bert/bert-base-cased-config.json from cache at /home/yves/.cache/torch/transformers/b945b69218e98b3e2c95acf911789741307dec43c698d35fad11c1ae28bda352.3d5adf10d3445c36ce131f4c6416aa62e9b58e1af56b97664773f4858a46286e\n",
      "I0317 15:33:27.169666 140152479643456 configuration_utils.py:292] Model config BertConfig {\n",
      "  \"architectures\": [\n",
      "    \"BertForMaskedLM\"\n",
      "  ],\n",
      "  \"attention_probs_dropout_prob\": 0.1,\n",
      "  \"bos_token_id\": null,\n",
      "  \"do_sample\": false,\n",
      "  \"eos_token_ids\": null,\n",
      "  \"finetuning_task\": null,\n",
      "  \"hidden_act\": \"gelu\",\n",
      "  \"hidden_dropout_prob\": 0.1,\n",
      "  \"hidden_size\": 768,\n",
      "  \"id2label\": {\n",
      "    \"0\": \"LABEL_0\",\n",
      "    \"1\": \"LABEL_1\"\n",
      "  },\n",
      "  \"initializer_range\": 0.02,\n",
      "  \"intermediate_size\": 3072,\n",
      "  \"is_decoder\": false,\n",
      "  \"label2id\": {\n",
      "    \"LABEL_0\": 0,\n",
      "    \"LABEL_1\": 1\n",
      "  },\n",
      "  \"layer_norm_eps\": 1e-12,\n",
      "  \"length_penalty\": 1.0,\n",
      "  \"max_length\": 20,\n",
      "  \"max_position_embeddings\": 512,\n",
      "  \"model_type\": \"bert\",\n",
      "  \"num_attention_heads\": 12,\n",
      "  \"num_beams\": 1,\n",
      "  \"num_hidden_layers\": 12,\n",
      "  \"num_labels\": 8,\n",
      "  \"num_return_sequences\": 1,\n",
      "  \"output_attentions\": false,\n",
      "  \"output_hidden_states\": false,\n",
      "  \"output_past\": true,\n",
      "  \"pad_token_id\": null,\n",
      "  \"pruned_heads\": {},\n",
      "  \"repetition_penalty\": 1.0,\n",
      "  \"temperature\": 1.0,\n",
      "  \"top_k\": 50,\n",
      "  \"top_p\": 1.0,\n",
      "  \"torchscript\": false,\n",
      "  \"type_vocab_size\": 2,\n",
      "  \"use_bfloat16\": false,\n",
      "  \"vocab_size\": 28996\n",
      "}\n",
      "\n",
      "I0317 15:33:27.631974 140152479643456 modeling_utils.py:461] loading weights file https://s3.amazonaws.com/models.huggingface.co/bert/bert-base-cased-pytorch_model.bin from cache at /home/yves/.cache/torch/transformers/35d8b9d36faaf46728a0192d82bf7d00137490cd6074e8500778afed552a67e5.3fadbea36527ae472139fe84cddaa65454d7429f12d543d80bfc3ad70de55ac2\n",
      "I0317 15:33:29.422886 140152479643456 modeling_utils.py:546] Weights of BertForTokenClassification not initialized from pretrained model: ['classifier.weight', 'classifier.bias']\n",
      "I0317 15:33:29.423887 140152479643456 modeling_utils.py:552] Weights from pretrained model not used in BertForTokenClassification: ['cls.predictions.bias', 'cls.predictions.transform.dense.weight', 'cls.predictions.transform.dense.bias', 'cls.predictions.decoder.weight', 'cls.seq_relationship.weight', 'cls.seq_relationship.bias', 'cls.predictions.transform.LayerNorm.weight', 'cls.predictions.transform.LayerNorm.bias']\n",
      "Epoch:   0%|          | 0/10 [00:00<?, ?it/s]"
     ]
    },
    {
     "data": {
      "application/vnd.jupyter.widget-view+json": {
       "model_id": "76990e065a36406ca07f58eb9b129f10",
       "version_major": 2,
       "version_minor": 0
      },
      "text/plain": [
       "HBox(children=(IntProgress(value=0, description='Training iteration', max=12250, style=ProgressStyle(descripti…"
      ]
     },
     "metadata": {},
     "output_type": "display_data"
    },
    {
     "name": "stdout",
     "output_type": "stream",
     "text": [
      "\n"
     ]
    },
    {
     "data": {
      "application/vnd.jupyter.widget-view+json": {
       "model_id": "3ca5157c34a940e1a6692791c1901c29",
       "version_major": 2,
       "version_minor": 0
      },
      "text/plain": [
       "HBox(children=(IntProgress(value=0, description='Evaluation iteration', max=125, style=ProgressStyle(descripti…"
      ]
     },
     "metadata": {},
     "output_type": "display_data"
    },
    {
     "name": "stdout",
     "output_type": "stream",
     "text": [
      "\n",
      "Loss history: []\n",
      "Dev loss: 0.5565451331138611\n"
     ]
    },
    {
     "name": "stderr",
     "output_type": "stream",
     "text": [
      "\r",
      "Epoch:  10%|█         | 1/10 [22:41<3:24:16, 1361.85s/it]"
     ]
    },
    {
     "data": {
      "application/vnd.jupyter.widget-view+json": {
       "model_id": "8746d1e0bb434739b4c1da6e10260236",
       "version_major": 2,
       "version_minor": 0
      },
      "text/plain": [
       "HBox(children=(IntProgress(value=0, description='Training iteration', max=12250, style=ProgressStyle(descripti…"
      ]
     },
     "metadata": {},
     "output_type": "display_data"
    },
    {
     "name": "stdout",
     "output_type": "stream",
     "text": [
      "\n"
     ]
    },
    {
     "data": {
      "application/vnd.jupyter.widget-view+json": {
       "model_id": "fe717460c82c436883f33f22755517a0",
       "version_major": 2,
       "version_minor": 0
      },
      "text/plain": [
       "HBox(children=(IntProgress(value=0, description='Evaluation iteration', max=125, style=ProgressStyle(descripti…"
      ]
     },
     "metadata": {},
     "output_type": "display_data"
    },
    {
     "name": "stdout",
     "output_type": "stream",
     "text": [
      "\n",
      "Loss history: [0.5565451331138611]\n",
      "Dev loss: 0.21802658158540725\n"
     ]
    },
    {
     "name": "stderr",
     "output_type": "stream",
     "text": [
      "\r",
      "Epoch:  20%|██        | 2/10 [45:25<3:01:39, 1362.41s/it]"
     ]
    },
    {
     "data": {
      "application/vnd.jupyter.widget-view+json": {
       "model_id": "d610bd49412f4201baa238123cf9ed2f",
       "version_major": 2,
       "version_minor": 0
      },
      "text/plain": [
       "HBox(children=(IntProgress(value=0, description='Training iteration', max=12250, style=ProgressStyle(descripti…"
      ]
     },
     "metadata": {},
     "output_type": "display_data"
    },
    {
     "name": "stdout",
     "output_type": "stream",
     "text": [
      "\n"
     ]
    },
    {
     "data": {
      "application/vnd.jupyter.widget-view+json": {
       "model_id": "85f08fb73355407f906bb7a20c8c2fee",
       "version_major": 2,
       "version_minor": 0
      },
      "text/plain": [
       "HBox(children=(IntProgress(value=0, description='Evaluation iteration', max=125, style=ProgressStyle(descripti…"
      ]
     },
     "metadata": {},
     "output_type": "display_data"
    },
    {
     "name": "stdout",
     "output_type": "stream",
     "text": [
      "\n",
      "Loss history: [0.5565451331138611, 0.21802658158540725]\n",
      "Dev loss: 0.15455146169662476\n"
     ]
    },
    {
     "name": "stderr",
     "output_type": "stream",
     "text": [
      "\r",
      "Epoch:  30%|███       | 3/10 [1:08:10<2:39:02, 1363.18s/it]"
     ]
    },
    {
     "data": {
      "application/vnd.jupyter.widget-view+json": {
       "model_id": "a2bb6a7c6b2a4e638fe8dfad6c5f660a",
       "version_major": 2,
       "version_minor": 0
      },
      "text/plain": [
       "HBox(children=(IntProgress(value=0, description='Training iteration', max=12250, style=ProgressStyle(descripti…"
      ]
     },
     "metadata": {},
     "output_type": "display_data"
    },
    {
     "name": "stdout",
     "output_type": "stream",
     "text": [
      "\n"
     ]
    },
    {
     "data": {
      "application/vnd.jupyter.widget-view+json": {
       "model_id": "6cd125a2995e413a9d6365325364d14b",
       "version_major": 2,
       "version_minor": 0
      },
      "text/plain": [
       "HBox(children=(IntProgress(value=0, description='Evaluation iteration', max=125, style=ProgressStyle(descripti…"
      ]
     },
     "metadata": {},
     "output_type": "display_data"
    },
    {
     "name": "stdout",
     "output_type": "stream",
     "text": [
      "\n",
      "Loss history: [0.5565451331138611, 0.21802658158540725, 0.15455146169662476]\n",
      "Dev loss: 0.127263275295496\n"
     ]
    },
    {
     "name": "stderr",
     "output_type": "stream",
     "text": [
      "\r",
      "Epoch:  40%|████      | 4/10 [1:30:50<2:16:13, 1362.30s/it]"
     ]
    },
    {
     "data": {
      "application/vnd.jupyter.widget-view+json": {
       "model_id": "205d5febe5ec43618bfd86548e470203",
       "version_major": 2,
       "version_minor": 0
      },
      "text/plain": [
       "HBox(children=(IntProgress(value=0, description='Training iteration', max=12250, style=ProgressStyle(descripti…"
      ]
     },
     "metadata": {},
     "output_type": "display_data"
    },
    {
     "name": "stdout",
     "output_type": "stream",
     "text": [
      "\n"
     ]
    },
    {
     "data": {
      "application/vnd.jupyter.widget-view+json": {
       "model_id": "2ce08ac8071042439b7c2aef48f16159",
       "version_major": 2,
       "version_minor": 0
      },
      "text/plain": [
       "HBox(children=(IntProgress(value=0, description='Evaluation iteration', max=125, style=ProgressStyle(descripti…"
      ]
     },
     "metadata": {},
     "output_type": "display_data"
    },
    {
     "name": "stdout",
     "output_type": "stream",
     "text": [
      "\n",
      "Loss history: [0.5565451331138611, 0.21802658158540725, 0.15455146169662476, 0.127263275295496]\n",
      "Dev loss: 0.09640713724493981\n"
     ]
    },
    {
     "name": "stderr",
     "output_type": "stream",
     "text": [
      "\r",
      "Epoch:  50%|█████     | 5/10 [1:53:33<1:53:32, 1362.42s/it]"
     ]
    },
    {
     "data": {
      "application/vnd.jupyter.widget-view+json": {
       "model_id": "38dbe1117fb74b2b94c15c7518451f0a",
       "version_major": 2,
       "version_minor": 0
      },
      "text/plain": [
       "HBox(children=(IntProgress(value=0, description='Training iteration', max=12250, style=ProgressStyle(descripti…"
      ]
     },
     "metadata": {},
     "output_type": "display_data"
    },
    {
     "name": "stdout",
     "output_type": "stream",
     "text": [
      "\n"
     ]
    },
    {
     "data": {
      "application/vnd.jupyter.widget-view+json": {
       "model_id": "18a9ae068eb04330b1dd762e234d68b2",
       "version_major": 2,
       "version_minor": 0
      },
      "text/plain": [
       "HBox(children=(IntProgress(value=0, description='Evaluation iteration', max=125, style=ProgressStyle(descripti…"
      ]
     },
     "metadata": {},
     "output_type": "display_data"
    },
    {
     "name": "stdout",
     "output_type": "stream",
     "text": [
      "\n",
      "Loss history: [0.5565451331138611, 0.21802658158540725, 0.15455146169662476, 0.127263275295496, 0.09640713724493981]\n",
      "Dev loss: 0.09293479809165\n"
     ]
    },
    {
     "name": "stderr",
     "output_type": "stream",
     "text": [
      "\r",
      "Epoch:  60%|██████    | 6/10 [2:16:06<1:30:38, 1359.50s/it]"
     ]
    },
    {
     "data": {
      "application/vnd.jupyter.widget-view+json": {
       "model_id": "c5aaf2f3f23548679c99f8d637cc98ad",
       "version_major": 2,
       "version_minor": 0
      },
      "text/plain": [
       "HBox(children=(IntProgress(value=0, description='Training iteration', max=12250, style=ProgressStyle(descripti…"
      ]
     },
     "metadata": {},
     "output_type": "display_data"
    },
    {
     "name": "stdout",
     "output_type": "stream",
     "text": [
      "\n"
     ]
    },
    {
     "data": {
      "application/vnd.jupyter.widget-view+json": {
       "model_id": "5be064f98fbc421397dc8dda7bffe57d",
       "version_major": 2,
       "version_minor": 0
      },
      "text/plain": [
       "HBox(children=(IntProgress(value=0, description='Evaluation iteration', max=125, style=ProgressStyle(descripti…"
      ]
     },
     "metadata": {},
     "output_type": "display_data"
    },
    {
     "name": "stdout",
     "output_type": "stream",
     "text": [
      "\n",
      "Loss history: [0.5565451331138611, 0.21802658158540725, 0.15455146169662476, 0.127263275295496, 0.09640713724493981, 0.09293479809165]\n",
      "Dev loss: 0.09161961454153061\n"
     ]
    },
    {
     "name": "stderr",
     "output_type": "stream",
     "text": [
      "\r",
      "Epoch:  70%|███████   | 7/10 [2:38:38<1:07:52, 1357.47s/it]"
     ]
    },
    {
     "data": {
      "application/vnd.jupyter.widget-view+json": {
       "model_id": "a826373bed85403482624fc583b7604a",
       "version_major": 2,
       "version_minor": 0
      },
      "text/plain": [
       "HBox(children=(IntProgress(value=0, description='Training iteration', max=12250, style=ProgressStyle(descripti…"
      ]
     },
     "metadata": {},
     "output_type": "display_data"
    },
    {
     "name": "stdout",
     "output_type": "stream",
     "text": [
      "\n"
     ]
    },
    {
     "data": {
      "application/vnd.jupyter.widget-view+json": {
       "model_id": "5bcd4d5d7c7f425584ec9ede04c15737",
       "version_major": 2,
       "version_minor": 0
      },
      "text/plain": [
       "HBox(children=(IntProgress(value=0, description='Evaluation iteration', max=125, style=ProgressStyle(descripti…"
      ]
     },
     "metadata": {},
     "output_type": "display_data"
    },
    {
     "name": "stderr",
     "output_type": "stream",
     "text": [
      "\r",
      "Epoch:  80%|████████  | 8/10 [3:01:22<45:18, 1359.35s/it]  "
     ]
    },
    {
     "name": "stdout",
     "output_type": "stream",
     "text": [
      "\n",
      "Loss history: [0.5565451331138611, 0.21802658158540725, 0.15455146169662476, 0.127263275295496, 0.09640713724493981, 0.09293479809165, 0.09161961454153061]\n",
      "Dev loss: 0.0920342872440815\n"
     ]
    },
    {
     "data": {
      "application/vnd.jupyter.widget-view+json": {
       "model_id": "5f9b39827a384265ae533721b15f8f20",
       "version_major": 2,
       "version_minor": 0
      },
      "text/plain": [
       "HBox(children=(IntProgress(value=0, description='Training iteration', max=12250, style=ProgressStyle(descripti…"
      ]
     },
     "metadata": {},
     "output_type": "display_data"
    },
    {
     "name": "stdout",
     "output_type": "stream",
     "text": [
      "\n"
     ]
    },
    {
     "data": {
      "application/vnd.jupyter.widget-view+json": {
       "model_id": "090d4ee4f26e4541ab99d6a7d4a79b4b",
       "version_major": 2,
       "version_minor": 0
      },
      "text/plain": [
       "HBox(children=(IntProgress(value=0, description='Evaluation iteration', max=125, style=ProgressStyle(descripti…"
      ]
     },
     "metadata": {},
     "output_type": "display_data"
    },
    {
     "name": "stderr",
     "output_type": "stream",
     "text": [
      "\r",
      "Epoch:  90%|█████████ | 9/10 [3:24:06<22:40, 1360.79s/it]"
     ]
    },
    {
     "name": "stdout",
     "output_type": "stream",
     "text": [
      "\n",
      "Loss history: [0.5565451331138611, 0.21802658158540725, 0.15455146169662476, 0.127263275295496, 0.09640713724493981, 0.09293479809165, 0.09161961454153061, 0.0920342872440815]\n",
      "Dev loss: 0.0960927545428276\n"
     ]
    },
    {
     "data": {
      "application/vnd.jupyter.widget-view+json": {
       "model_id": "8eee7381fa4c4e75b34441a00eeb1047",
       "version_major": 2,
       "version_minor": 0
      },
      "text/plain": [
       "HBox(children=(IntProgress(value=0, description='Training iteration', max=12250, style=ProgressStyle(descripti…"
      ]
     },
     "metadata": {},
     "output_type": "display_data"
    },
    {
     "name": "stdout",
     "output_type": "stream",
     "text": [
      "\n"
     ]
    },
    {
     "data": {
      "application/vnd.jupyter.widget-view+json": {
       "model_id": "e1b008ae4da1441983681d0b658a4e7c",
       "version_major": 2,
       "version_minor": 0
      },
      "text/plain": [
       "HBox(children=(IntProgress(value=0, description='Evaluation iteration', max=125, style=ProgressStyle(descripti…"
      ]
     },
     "metadata": {},
     "output_type": "display_data"
    },
    {
     "name": "stderr",
     "output_type": "stream",
     "text": [
      "\r",
      "Epoch: 100%|██████████| 10/10 [3:46:48<00:00, 1361.17s/it]"
     ]
    },
    {
     "name": "stdout",
     "output_type": "stream",
     "text": [
      "\n",
      "Loss history: [0.5565451331138611, 0.21802658158540725, 0.15455146169662476, 0.127263275295496, 0.09640713724493981, 0.09293479809165, 0.09161961454153061, 0.0920342872440815, 0.0960927545428276]\n",
      "Dev loss: 0.0944093667715788\n"
     ]
    },
    {
     "name": "stderr",
     "output_type": "stream",
     "text": [
      "\n"
     ]
    },
    {
     "data": {
      "text/plain": [
       "'/tmp/model.bin'"
      ]
     },
     "execution_count": 7,
     "metadata": {},
     "output_type": "execute_result"
    }
   ],
   "source": [
    "import sys\n",
    "sys.path.append('../')\n",
    "\n",
    "from quillnlp.models.bert.train import train\n",
    "from transformers import BertModel\n",
    "\n",
    "model = BertForTokenClassification.from_pretrained(\"bert-base-cased\", num_labels=len(label2idx))\n",
    "model.to(\"cuda\")\n",
    "\n",
    "train(model, train_dl, dev_dl, BATCH_SIZE, 32/BATCH_SIZE, device=\"cuda\", num_train_epochs=10)"
   ]
  },
  {
   "cell_type": "code",
   "execution_count": 8,
   "metadata": {},
   "outputs": [
    {
     "name": "stdout",
     "output_type": "stream",
     "text": [
      "Loading model from /tmp/model.bin\n"
     ]
    },
    {
     "name": "stderr",
     "output_type": "stream",
     "text": [
      "I0317 19:20:22.996674 140152479643456 configuration_utils.py:256] loading configuration file https://s3.amazonaws.com/models.huggingface.co/bert/bert-base-cased-config.json from cache at /home/yves/.cache/torch/transformers/b945b69218e98b3e2c95acf911789741307dec43c698d35fad11c1ae28bda352.3d5adf10d3445c36ce131f4c6416aa62e9b58e1af56b97664773f4858a46286e\n",
      "I0317 19:20:22.998143 140152479643456 configuration_utils.py:292] Model config BertConfig {\n",
      "  \"architectures\": [\n",
      "    \"BertForMaskedLM\"\n",
      "  ],\n",
      "  \"attention_probs_dropout_prob\": 0.1,\n",
      "  \"bos_token_id\": null,\n",
      "  \"do_sample\": false,\n",
      "  \"eos_token_ids\": null,\n",
      "  \"finetuning_task\": null,\n",
      "  \"hidden_act\": \"gelu\",\n",
      "  \"hidden_dropout_prob\": 0.1,\n",
      "  \"hidden_size\": 768,\n",
      "  \"id2label\": {\n",
      "    \"0\": \"LABEL_0\",\n",
      "    \"1\": \"LABEL_1\"\n",
      "  },\n",
      "  \"initializer_range\": 0.02,\n",
      "  \"intermediate_size\": 3072,\n",
      "  \"is_decoder\": false,\n",
      "  \"label2id\": {\n",
      "    \"LABEL_0\": 0,\n",
      "    \"LABEL_1\": 1\n",
      "  },\n",
      "  \"layer_norm_eps\": 1e-12,\n",
      "  \"length_penalty\": 1.0,\n",
      "  \"max_length\": 20,\n",
      "  \"max_position_embeddings\": 512,\n",
      "  \"model_type\": \"bert\",\n",
      "  \"num_attention_heads\": 12,\n",
      "  \"num_beams\": 1,\n",
      "  \"num_hidden_layers\": 12,\n",
      "  \"num_labels\": 8,\n",
      "  \"num_return_sequences\": 1,\n",
      "  \"output_attentions\": false,\n",
      "  \"output_hidden_states\": false,\n",
      "  \"output_past\": true,\n",
      "  \"pad_token_id\": null,\n",
      "  \"pruned_heads\": {},\n",
      "  \"repetition_penalty\": 1.0,\n",
      "  \"temperature\": 1.0,\n",
      "  \"top_k\": 50,\n",
      "  \"top_p\": 1.0,\n",
      "  \"torchscript\": false,\n",
      "  \"type_vocab_size\": 2,\n",
      "  \"use_bfloat16\": false,\n",
      "  \"vocab_size\": 28996\n",
      "}\n",
      "\n",
      "I0317 19:20:23.447489 140152479643456 modeling_utils.py:461] loading weights file https://s3.amazonaws.com/models.huggingface.co/bert/bert-base-cased-pytorch_model.bin from cache at /home/yves/.cache/torch/transformers/35d8b9d36faaf46728a0192d82bf7d00137490cd6074e8500778afed552a67e5.3fadbea36527ae472139fe84cddaa65454d7429f12d543d80bfc3ad70de55ac2\n"
     ]
    },
    {
     "data": {
      "application/vnd.jupyter.widget-view+json": {
       "model_id": "9f43e8eaaa8a4ab9bb758ca9ffcdfe0f",
       "version_major": 2,
       "version_minor": 0
      },
      "text/plain": [
       "HBox(children=(IntProgress(value=0, description='Evaluation iteration', max=125, style=ProgressStyle(descripti…"
      ]
     },
     "metadata": {},
     "output_type": "display_data"
    },
    {
     "name": "stdout",
     "output_type": "stream",
     "text": [
      "\n"
     ]
    }
   ],
   "source": [
    "from quillnlp.models.bert.train import evaluate\n",
    "\n",
    "output_model_file = \"/tmp/model.bin\"\n",
    "print(\"Loading model from\", output_model_file)\n",
    "device=\"cpu\"\n",
    "\n",
    "model_state_dict = torch.load(output_model_file, map_location=lambda storage, loc: storage)\n",
    "model = BertForTokenClassification.from_pretrained(\"bert-base-cased\", state_dict=model_state_dict, num_labels=len(label2idx))\n",
    "model.to(device)\n",
    "\n",
    "#_, train_correct, train_predicted = evaluate(model, train_dataloader)\n",
    "#_, dev_correct, dev_predicted = evaluate(model, dev_dataloader)\n",
    "_, _, test_correct, test_predicted = evaluate(model, test_dl, device)"
   ]
  },
  {
   "cell_type": "code",
   "execution_count": 9,
   "metadata": {},
   "outputs": [
    {
     "name": "stdout",
     "output_type": "stream",
     "text": [
      "He explains why he thinks the version of the \" The Star-Spangled Banner \" being played in Rio sounds more melancholy than usual.\n",
      "Found: O\n",
      "Correct: O\n",
      "It wasn't anti-Manafort.\n",
      "Found: O\n",
      "Correct: O\n",
      "If paused, you'll be notified of the number of additional comments that have come in.\n",
      "Found: O\n",
      "Correct: O\n",
      "But it was not to last.\n",
      "Found: O\n",
      "Found: VERB\n",
      "Correct: O\n",
      "She's been called a weapon in the wardrobes of women in power.\n",
      "Found: O\n",
      "Correct: O\n",
      "If paused, you'll be notified of the number of additional comment's that have come in.\n",
      "Found: O\n",
      "Found: POSSESSIVE\n",
      "Correct: O\n",
      "Correct: POSSESSIVE\n",
      "Hey doctor love thanks you so so much for making the time that it NASA astronaut doctor Sam lovely.\n",
      "Found: O\n",
      "Found: VERB\n",
      "Correct: O\n",
      "Correct: VERB\n",
      "At the end of the summer, three randomly selected families that have sent in photos will receive a prize package of books and KidsPost goodies.\n",
      "Found: O\n",
      "Correct: O\n",
      "We woulds like to take a moment to remind you that other folks actual appeared onstage at the 2016 MTV Video Music Awards.\n",
      "Found: O\n",
      "Found: VERB\n",
      "Found: ADV\n",
      "Correct: O\n",
      "Correct: VERB\n",
      "Correct: ADV\n",
      "\" Ray were a father figure to me, \" Dur?\n",
      "Found: O\n",
      "Correct: O\n",
      "Correct: VERB\n",
      "The Realclearpolitic'S polling average in the state shows Clinton with a lead of more than nine points.\n",
      "Found: O\n",
      "Found: POSSESSIVE\n",
      "Correct: O\n",
      "Correct: POSSESSIVE\n",
      "She won't get to compete in the final of her event and receive what would surely has been a rousing reception from the Olympic Stadium crowd, and she won't get to complete her dream of going shoulder-to-shoulder with the best in the world.\n",
      "Found: O\n",
      "Correct: O\n",
      "Correct: VERB\n",
      "\" This be the tip of the iceberg, \" says Rep. John Mica, chair of the House Transportation Committee.\n",
      "Found: O\n",
      "Found: VERB\n",
      "Correct: O\n",
      "Correct: VERB\n",
      "Courtesy of the artists hides caption\n",
      "Found: O\n",
      "Correct: O\n",
      "Correct: VERB\n",
      "On weekends, she worked morning to midnight, and hour's into the night on school day's.\n",
      "Found: O\n",
      "Found: POSSESSIVE\n",
      "Correct: O\n",
      "Correct: POSSESSIVE\n",
      "Yapanel, Magnolia's board president, acknowledged that he had a part-time job with Accord when he was board president of another charter in Colorado.\n",
      "Found: O\n",
      "Correct: O\n",
      "GEMS Education may end up concentrating on the countries which is member's of the Gulf Cooperation Council\n",
      "Found: O\n",
      "Found: POSSESSIVE\n",
      "Found: VERB\n",
      "Correct: O\n",
      "Correct: POSSESSIVE\n",
      "Correct: VERB\n",
      "\" The defendant in this case was trusted to care for and assist the student that he allegedly sexually assaulted, \" said Middlesex District Attorney Marian Ryan in a release Tuesday.\n",
      "Found: O\n",
      "Correct: O\n",
      "On all sides, the woman's were virtually unanimous in calling the campaign stressful to watch, disconcerting and offering a set of bad choice's.\n",
      "Found: O\n",
      "Found: POSSESSIVE\n",
      "Correct: O\n",
      "Correct: POSSESSIVE\n",
      "You can get the door slammed in your face.\n",
      "Found: O\n",
      "Correct: O\n",
      "did not make it out of the apartment where they had lived 16 years.\n",
      "Found: O\n",
      "Correct: O\n",
      "I continued to eat yogurt during my treatment because I thought it was good for me.\n",
      "Found: O\n",
      "Correct: O\n",
      "BUTI serves as the first step up the ladder for student musicians hoping to study music at Tanglewood, the Boston Symphony's bucolic (and busy)\n",
      "Found: O\n",
      "Correct: O\n",
      "But that remedy is both too much and not enough.\n",
      "Found: O\n",
      "Correct: O\n",
      "That's never happened before. \"\n",
      "Found: O\n",
      "Found: VERB\n",
      "Correct: O\n",
      "Off-Topic\n",
      "Found: O\n",
      "Correct: O\n",
      "You coulds do more thing's and tries thing's and add voice's.\n",
      "Found: O\n",
      "Found: POSSESSIVE\n",
      "Found: VERB\n",
      "Correct: O\n",
      "Correct: POSSESSIVE\n",
      "Correct: VERB\n",
      "And that ever-present cat on his lap... that has to make him a truly, deep bad guy.\n",
      "Found: O\n",
      "Found: ADV\n",
      "Correct: O\n",
      "Correct: ADV\n",
      "It was not clear whether he was aware at the time of the FBI's investigations in Arizona and Illinois.\n",
      "Found: O\n",
      "Correct: O\n",
      "Created by Gerry Conway and illustrator Rafael Kayanan, Slipknot developed a secret that makes ropes he carry stronger than metal.\n",
      "Found: O\n",
      "Found: VERB\n",
      "Correct: O\n",
      "Correct: VERB\n",
      "\" What he said is probably what he mean.\n",
      "Found: O\n",
      "Found: VERB\n",
      "Correct: O\n",
      "Correct: VERB\n",
      "She declines to talk about what went on behind the scenes during the nomination and confirmation process prior to her swearing in as a Supreme Court justice, but she does talk about the day her nomination was announced in the East Room of the White House.\n",
      "Found: O\n",
      "Correct: O\n",
      "In the second, those names are read loud through speakers.\n",
      "Found: O\n",
      "Found: ADV\n",
      "Correct: O\n",
      "Correct: ADV\n",
      "\" It be despicable, \" said Walter Smith Jr., 68, from North Carolina.\n",
      "Found: O\n",
      "Found: VERB\n",
      "Correct: O\n",
      "Correct: VERB\n",
      "the government and the rebels will find out whether they found the right balance, or if their accord will die on arrival.\n",
      "Found: O\n",
      "Correct: O\n",
      "DNC staffer's said publication of leaked emails in July were a Russian ploy to supports the candidacy of Donald Trump.\n",
      "Found: O\n",
      "Found: POSSESSIVE\n",
      "Found: VERB\n",
      "Correct: O\n",
      "Correct: POSSESSIVE\n",
      "Correct: VERB\n",
      "The Lookout interface be clean and simple.\n",
      "Found: O\n",
      "Found: VERB\n",
      "Correct: O\n",
      "Correct: VERB\n",
      "And I hope I has birdied a few.\n",
      "Found: O\n",
      "Found: VERB\n",
      "Correct: O\n",
      "Correct: VERB\n",
      "Mark Short left a note admitting to buying the gun and killing his family, likely written after he killed his family, Adams said.\n",
      "Found: O\n",
      "Correct: O\n",
      "Nikki Williams were charged with conspiracy, assault, elder abuse and false imprisonment.\n",
      "Found: O\n",
      "Found: VERB\n",
      "Correct: O\n",
      "Correct: VERB\n",
      "Hello my family member!\n",
      "Found: O\n",
      "Correct: O\n",
      "I 'm hoping it's an isolated thing.\n",
      "Found: O\n",
      "Found: VERB\n",
      "Correct: O\n",
      "Aug. 11: Already a three-time all-around world champion, Simone Biles cemented her status at the Games as arguably the greatest female gymnast ever.\n",
      "Found: O\n",
      "Correct: O\n",
      "Replies to those posts appears here, as well as post's by staff writer's.\n",
      "Found: O\n",
      "Found: POSSESSIVE\n",
      "Found: VERB\n",
      "Correct: O\n",
      "Correct: POSSESSIVE\n",
      "Correct: VERB\n",
      "That's tough.\n",
      "Found: O\n",
      "Found: VERB\n",
      "Correct: O\n",
      "\" People has a lot of hope, \" said Castillo, 72, who left the island two years ago and now lives in Clewiston,\n",
      "Found: O\n",
      "Found: VERB\n",
      "Correct: O\n",
      "Correct: VERB\n",
      "She used the hashtag, \" Normalize Breastfeeding, \" and noted that her photo looked a lot like one that Gisele Bundchen shared in 2013.\n",
      "Found: O\n",
      "Correct: O\n",
      "Daughters die when mother loses control of truck, plunges into Russian River\n",
      "Found: O\n",
      "Correct: O\n",
      "Hillary Clinton are leading Donald Trump by nine percentage point's in a new national CNN/ORC poll released Monday.\n",
      "Found: O\n",
      "Found: POSSESSIVE\n",
      "Correct: O\n",
      "Correct: POSSESSIVE\n",
      "Correct: VERB\n",
      "As we learned more about the attack, we revised our initial assessment to reflect new information indicating that it was a deliberate and organized terrorist attack carried out by extremist's. \"  October 1 -- Nuland, in response to calls from Rep. Peter King, R-California, for Rice to resign because her remarks about the attack were, according to him, misleading:\n",
      "Found: O\n",
      "Found: POSSESSIVE\n",
      "Correct: O\n",
      "Correct: POSSESSIVE\n",
      "We look to you to stand behind this cause and recognize it as preserving a strong village of Norridge. \"\n",
      "Found: O\n",
      "Correct: O\n",
      "This type of shoe is ideal for people with flat foot's, as it be designed to helps compensate for the over-pronation.\n",
      "Found: O\n",
      "Found: POSSESSIVE\n",
      "Found: VERB\n",
      "Correct: O\n",
      "Correct: POSSESSIVE\n",
      "Correct: VERB\n",
      "A day after the arrest of R&amp;B singer Chris Brown on suspicion of assault with a deadly weapon, new details be emerging about the former pageant winner who says Brown pointed a gun at her head and caused her to flees the performer's hilltop mansion in Tarzana.\n",
      "Found: O\n",
      "Correct: O\n",
      "Correct: VERB\n",
      "Andrews pioneered the arthroscopic approach in the operating room that's less invasive and less traumatic, and has a faster recovery.\n",
      "Found: O\n",
      "Correct: O\n",
      "and she's got a simple answer.\n",
      "Found: O\n",
      "Correct: O\n",
      "Zenyatta, slow to gain recognition early in her career even as she built on a perfect record, will receive the ultimate tribute when she is inducted into the National Museum of Racing and Hall of Fame on Friday.\n",
      "Found: O\n",
      "Correct: O\n",
      "About 400 people was injured and many driven out of their collapsed homes.\n",
      "Found: O\n",
      "Correct: O\n",
      "Correct: VERB\n",
      "\" I see a gradual upward pace in interest rates as being appropriate, \" Mester said.\n",
      "Found: O\n",
      "Correct: O\n",
      "Trump be making his own, very different appeal to minorities.\n",
      "Found: O\n",
      "Correct: O\n",
      "Correct: VERB\n",
      "The email sender threatened to \" shoot and kills \" officers.\n",
      "Found: O\n",
      "Found: VERB\n",
      "Correct: O\n",
      "Correct: VERB\n",
      "they be hosting come with a price tag of $33,400.\n",
      "Found: O\n",
      "Found: VERB\n",
      "Correct: O\n",
      "Correct: VERB\n",
      "At the station we see other old friends.\n",
      "Found: O\n",
      "Correct: O\n",
      "Additional storms have developed to the southwest as good, so we wills need to watch if they \" train \" over any areas.\n",
      "Found: O\n",
      "Found: VERB\n",
      "Found: ADV\n",
      "Correct: O\n",
      "Correct: VERB\n",
      "Correct: ADV\n",
      "In addition to evangelical's, Stratton said Romney can safely count on deep support from the state's Mormon voters - like Romney members of the Church of Jesus Christ of Latter Day Saints.\n",
      "Found: O\n",
      "Found: POSSESSIVE\n",
      "Correct: O\n",
      "Correct: POSSESSIVE\n",
      "years later, he seems to have recovered his voice.\n",
      "Found: O\n",
      "Correct: O\n",
      "If paused, you wills be notified of the number of additional comments that have come in.\n",
      "Found: O\n",
      "Found: VERB\n",
      "Correct: O\n",
      "Correct: VERB\n",
      "Donald Trump woulds be a disaster and an embarrassment for our country if he was elected president.\n",
      "Found: O\n",
      "Found: VERB\n",
      "Correct: O\n",
      "Correct: VERB\n",
      "It hadn't been a year since the acquittal of four police officers in the videotaped beating of Rodney King.\n",
      "Found: O\n",
      "Correct: O\n",
      "It's her first stop in the capital.\n",
      "Found: O\n",
      "Correct: O\n",
      "The money came, interestingly, from the family planning budget.\n",
      "Found: O\n",
      "Correct: O\n",
      "The alt-right be a movement born out of the youthful, subversive, underground edges of the internet.\n",
      "Found: O\n",
      "Correct: O\n",
      "Correct: VERB\n",
      "\" She's going to does nothing for African Americans.\n",
      "Found: O\n",
      "Found: VERB\n",
      "Correct: O\n",
      "Correct: VERB\n",
      "A Turkish soldier standing next to tanks near the Turkey-Syria border city of Karkamis.\n",
      "Found: O\n",
      "Correct: O\n",
      "Where There's A Will...  Jacki Coyle and two of her colleagues from Shepherd's Table, a Maryland nonprofit, are setting up a booth in a huge tent on the National Mall.\n",
      "Found: O\n",
      "Correct: O\n",
      "Nobody thinks Beyonc? '\n",
      "Found: O\n",
      "Correct: O\n",
      "DTE Energy said in June that coal-fired units at the plant am among eight at three of its facilities that is slated to is shut down within the next seven years.\n",
      "Found: O\n",
      "Found: VERB\n",
      "Correct: O\n",
      "Correct: VERB\n",
      "And it were together that they attended the citizen police academy Tuesday night, where an officer fatally shot her while dozens watched.\n",
      "Found: O\n",
      "Found: VERB\n",
      "Correct: O\n",
      "Correct: VERB\n",
      "Everybody was getting out of the building as rapidly as possible. \"\n",
      "Found: O\n",
      "Correct: O\n",
      "But after her husband lost his reelection campaign for Arkansas governor, she learned that \" some people were upset when they received invitations to events at the Governor's Mansion from ' Governor Bill Clinton and Hillary Rodham. '\n",
      "Found: O\n",
      "Correct: O\n",
      "\" To get into the Hall of Fame on the first ballot as a racehorse, I don't think you can is appreciated more than that, \" said trainer John Shirreffs, who was often criticized for largely limiting Zenyatta to synthetic surfaces in her home state of California.\n",
      "Found: O\n",
      "Found: VERB\n",
      "Correct: O\n",
      "The other, a duet with singer Raury, be built on the back of a sample by German rock group\n",
      "Found: O\n",
      "Found: VERB\n",
      "Correct: O\n",
      "Correct: VERB\n",
      "\" cap at the conference.\n",
      "Found: O\n",
      "Correct: O\n",
      "\" I came to this country to achieve the American Dream.\n",
      "Found: O\n",
      "Correct: O\n",
      ", it has never been at war with Iran.\n",
      "Found: O\n",
      "Correct: O\n",
      "He seems to want to impose the kind of financial paternalism that we requires for retail investors on the institutional end of the market.\n",
      "Found: O\n",
      "Found: VERB\n",
      "Correct: O\n",
      "Correct: VERB\n",
      "We left the lodge at 7 a.m. and were the only car on the road; it enabled us to stops when I spotted the bears.\n",
      "Found: O\n",
      "Found: VERB\n",
      "Correct: O\n",
      "Correct: VERB\n",
      "CaptionRio Olympics memory:\n",
      "Found: O\n",
      "Correct: O\n",
      "(Christian Tyler Randolph / AP)\n",
      "Found: O\n",
      "Correct: O\n",
      "Mora said defensive end Deon Hollins and fullback Cameron Griffin, both recovering from concussions, are considered doubtful to play against Texas A&amp;M....\n",
      "Found: O\n",
      "Correct: O\n",
      "(REUTERS/Mike Segar)\n",
      "Found: O\n",
      "Correct: O\n",
      "A former Magnolia chief executive helped found Accord and later served as Accord's CEO after his work at Magnolia.\n",
      "Found: O\n",
      "Correct: O\n",
      "Just imagine for a second if the media spent this energy holding the politicians accountable who got innocent Americans\n",
      "Found: O\n",
      "Correct: O\n",
      "What be the difference between sending secret police into classrooms and sending them into the online spaces and social networks where so much public debate now takes place?\n",
      "Found: O\n",
      "Correct: O\n",
      "Correct: VERB\n",
      "gets leg up on life 1:41  Being born without back paws haven't stopped this playful pup.\n",
      "Found: O\n",
      "Correct: O\n",
      "Correct: VERB\n",
      "It is obvious that many Americans agree that gun's does much more then kill (in the wrong hands).\n",
      "Found: O\n",
      "Found: POSSESSIVE\n",
      "Found: VERB\n",
      "Found: THEN\n",
      "Correct: O\n",
      "Correct: POSSESSIVE\n",
      "Correct: VERB\n",
      "Correct: THEN\n",
      "Lawmakers coulds help matters with more aggressive efforts to improves efficiency in the healthcare industry, while also providing better safeguards for insurers stuck with unusually expensive customers.\n",
      "Found: O\n",
      "Found: VERB\n",
      "Correct: O\n",
      "Correct: VERB\n",
      "Kevork Djansezian, Getty Images  Brown were back in court in March 2014 after the judge in his case caught wind of him discussing his prowess with guns and knives while in rehab, where he was being treated for anger management issue's, substance abuse and bipolar disorder.\n",
      "Found: O\n",
      "Found: POSSESSIVE\n",
      "Correct: O\n",
      "Correct: POSSESSIVE\n",
      "Correct: VERB\n",
      "But the best ingredient's of all is the weirdzilla curve ball's that chefs groan as they take them out of the basket, many but not all of which be commonplace convenience foods that chef's have absolutely no use for.\n",
      "Found: O\n",
      "Found: POSSESSIVE\n",
      "Correct: O\n",
      "Correct: POSSESSIVE\n",
      "Correct: VERB\n",
      "Another key role is that of Mrs. Miller, the mother of the boy at the center of the firestorm of suspicion, played by mezzo-soprano Denyce Graves.\n",
      "Found: O\n",
      "Correct: O\n",
      "The hospital, which has since reopened, serves the city's low-income population.\n",
      "Found: O\n",
      "Correct: O\n",
      "Comes on over.\n",
      "Found: O\n",
      "Correct: O\n",
      "Correct: VERB\n",
      "Presumably she believes MSNBC is \" legitimate \" also, despite their undisguised disgust of the GOP and hagiography of the president, not to mentions more opinion programming than any cable outlet.\n",
      "Found: O\n",
      "Found: VERB\n",
      "Correct: O\n",
      "Correct: VERB\n",
      "But even if things progress quietly, it forces the issue: Trump say he'll make Mexico pay, and Mexico say it won't.\n",
      "Found: O\n",
      "Correct: O\n",
      "Correct: VERB\n",
      "Despite the tragedy, Wade's mother spoke of hope for those who commits such crimes.\n",
      "Found: O\n",
      "Found: VERB\n",
      "Correct: O\n",
      "Correct: VERB\n",
      "But the degree to which this is so with McCaffrey be truly striking.\n",
      "Found: O\n",
      "Found: VERB\n",
      "Correct: O\n",
      "Correct: VERB\n",
      "Full coverage at latimes.com/conventions.\n",
      "Found: O\n",
      "Correct: O\n",
      "The social side of Girl Guides was great, and I enjoyed earning recognition for taking the lead or helping other's -- but I wanted adventure.\n",
      "Found: O\n",
      "Found: POSSESSIVE\n",
      "Correct: O\n",
      "Correct: POSSESSIVE\n",
      "They put an addition on the house that required a bit more work than it might with a frame house.\n",
      "Found: O\n",
      "Correct: O\n",
      "\" I also knew that the library's architect... didn't design his buildings to is earthquake-proof and had vision's of the library pancaking.\n",
      "Found: O\n",
      "Found: POSSESSIVE\n",
      "Found: VERB\n",
      "Correct: O\n",
      "Correct: POSSESSIVE\n",
      "In an e-mail obtained by The Post, a DOE lawyer offers the deal to a teacher with U rating's two years in a row, ground's for dismissal.\n",
      "Found: O\n",
      "Found: POSSESSIVE\n",
      "Correct: O\n",
      "Correct: POSSESSIVE\n",
      "abortion in January of last year.\n",
      "Found: O\n",
      "Correct: O\n",
      "( Scrolls down to check out where more cities ranked.)\n",
      "Found: O\n",
      "Found: VERB\n",
      "Correct: O\n",
      "Correct: VERB\n",
      "Insurance work best when lots of people's purchase policies but only a few actual needs to use them.\n",
      "Found: O\n",
      "Found: POSSESSIVE\n",
      "Correct: O\n",
      "Correct: POSSESSIVE\n",
      "Correct: VERB\n",
      "Correct: ADV\n",
      "You need to have a Google account to make the request.\n",
      "Found: O\n",
      "Correct: O\n",
      "\" It gives a burglar or it gives a thief a map.\n",
      "Found: O\n",
      "Correct: O\n",
      "She was the first person in her family to finish college, after growing up in one of the roughest sections of Brooklyn.\n",
      "Found: O\n",
      "Correct: O\n",
      "Brian and Tressie Neill is remembered on a gofundme page also seeking funeral expenses.\n",
      "Found: O\n",
      "Found: VERB\n",
      "Correct: O\n",
      "Correct: VERB\n",
      "NBC was hurt most by the opening ceremony, which were off 37% from 2012.\n",
      "Found: O\n",
      "Found: VERB\n",
      "Correct: O\n",
      "Correct: VERB\n",
      "Eventually, she got some minor scholarship's and started competing professionally.\n",
      "Found: O\n",
      "Found: POSSESSIVE\n",
      "Correct: O\n",
      "Correct: POSSESSIVE\n",
      "Coming out of a recent rehearsal, Graves says that on that particular day she believed the priest might be guilty.\n",
      "Found: O\n",
      "Correct: O\n",
      "Of course, the answer be that the boy's mother was the surgeon.\n",
      "Found: O\n",
      "Found: VERB\n",
      "Correct: O\n",
      "Correct: VERB\n",
      "All of the products on the recall list were made by the New England Compound Center (NECC) in Framingham, Mass., and is administered by injection into the spine.\n",
      "Found: O\n",
      "Correct: O\n",
      "Correct: VERB\n",
      "\" It was unintentional. \"\n",
      "Found: O\n",
      "Found: VERB\n",
      "Correct: O\n",
      ", that's one thing.\n",
      "Found: O\n",
      "Correct: O\n",
      "At Saturday night's Bears Famly Fest at Soldier Field, many of the Bears wore \" Team Unrein \" T- shirt's that also showed the Olympic flag.\n",
      "Found: O\n",
      "Found: POSSESSIVE\n",
      "Correct: O\n",
      "Correct: POSSESSIVE\n",
      "So we is certainly hoping for a great 65-degree day like I think we're going to have this weekend.\n",
      "Found: O\n",
      "Correct: O\n",
      "Correct: VERB\n",
      "Shelter organizers asked Dornhorst to cooks for the military and National Guard volunteers on Tuesday.\n",
      "Found: O\n",
      "Found: VERB\n",
      "Correct: O\n",
      "Correct: VERB\n",
      "Across Brazil, including Rio, some LGBT people say they feel less safe than they did a few years ago.\n",
      "Found: O\n",
      "Correct: O\n",
      "Replies to those post's appear here, as good as posts by staff writers.\n",
      "Found: O\n",
      "Found: POSSESSIVE\n",
      "Found: ADV\n",
      "Correct: O\n",
      "Correct: POSSESSIVE\n",
      "Correct: ADV\n",
      "Breaking down the numbers, GAO found that 28 percent linked their departures to issues involving advancement and 21 percent to dissatisfaction with aspects of the work. \"\n",
      "Found: O\n",
      "Correct: O\n",
      "\" /&gt;Alex Cannon/Twitter\n",
      "Found: O\n",
      "Correct: O\n",
      "Connecticut is hoping for a little magic of their own: that Gov. Dannel P. Malloy will issue a proclamation clearing their distant relatives ' names and condemning the prosecution's and killing's.\n",
      "Found: O\n",
      "Found: POSSESSIVE\n",
      "Correct: O\n",
      "Correct: POSSESSIVE\n",
      "Correct: VERB\n",
      "Hidden in the image was a collection of numbers.\n",
      "Found: O\n",
      "Correct: O\n",
      "Joe Robbins, Getty Images\n",
      "Found: O\n",
      "Correct: O\n",
      "(AP)\n",
      "Found: O\n",
      "Correct: O\n",
      "That, anyway, is what we used to thinks.\n",
      "Found: O\n",
      "Found: VERB\n",
      "Correct: O\n",
      "Correct: VERB\n",
      "Girl, which distributor FilmRise opted to releases unrated, is loose inspired by Wood's own experience's as a young woman in New York.\n",
      "Found: O\n",
      "Found: POSSESSIVE\n",
      "Found: VERB\n",
      "Correct: O\n",
      "Correct: POSSESSIVE\n",
      "Correct: VERB\n",
      "Correct: ADV\n",
      "Dad accused of intentionally trying to kill toddler son in car crash  ARAPAHOE COUNTY, COLO.\n",
      "Found: O\n",
      "Correct: O\n",
      "the African-American community is reluctant to be seen as adversaries to a barrier-breaking president who chose to put his legacy institution on the city's South Side, next to the impoverished neighborhood of Woodlawn.\n",
      "Found: O\n",
      "Correct: O\n",
      "Correct: VERB\n",
      "Congress shall make no law respecting an establishment of religion, or prohibiting the free exercise thereof; or abridging the freedom of speech, or of the press; or the right of the people peaceably to assembles, and to petition the Government for a redress of grievance's\n",
      "Found: O\n",
      "Found: POSSESSIVE\n",
      "Found: VERB\n",
      "Correct: O\n",
      "Correct: POSSESSIVE\n",
      "Correct: VERB\n",
      "Sleeplessness, anxiety attacks, feeling of helplessness, flashbacks and difficulty managing your emotions as a result of your boss be all sign's that the problem with your boss is well beyond profanity.\n",
      "Found: O\n",
      "Found: POSSESSIVE\n",
      "Found: VERB\n",
      "Correct: O\n",
      "Correct: POSSESSIVE\n",
      "He created an association called Plus Jamais?\n",
      "Found: O\n",
      "Correct: O\n",
      "Several of the incidents occurred in the Penn State locker room.\n",
      "Found: O\n",
      "Correct: O\n",
      "They try to arrange waterfowl hunting trip's during the bye week each season.\n",
      "Found: O\n",
      "Found: POSSESSIVE\n",
      "Correct: O\n",
      "Correct: POSSESSIVE\n",
      "They're gobbled up by chains that raise prices, and bulldozed by developer's panning for coastal real estate gold.\n",
      "Found: O\n",
      "Found: POSSESSIVE\n",
      "Correct: O\n",
      "Correct: POSSESSIVE\n",
      ", these three countries is leading the call for a new international monetary system.\n",
      "Found: O\n",
      "Correct: O\n",
      "Correct: VERB\n",
      "The Russian speakers who poured in after 1989 added roughly 1 million to that number, and changed the Middle East.\n",
      "Found: O\n",
      "Correct: O\n",
      "That's what I said!\n",
      "Found: O\n",
      "Correct: O\n",
      "In an Aug. 13, 2012 photo grower Alan Spinniken examines a bin filled with Early Gold apple's in his orchard near Suttons Bay,\n",
      "Found: O\n",
      "Found: POSSESSIVE\n",
      "Correct: O\n",
      "Correct: POSSESSIVE\n",
      "By the time he gets out, he'll is 23.\n",
      "Found: O\n",
      "Found: VERB\n",
      "Correct: O\n",
      "Correct: VERB\n",
      "Instill the same values in my kids and stuff, and -- just to think that everything has come down to this makes you feel like you just went to school for nothing.\n",
      "Found: O\n",
      "Correct: O\n",
      "Soon after that the American Freedom Defense Initiative placed ads in the New York City Subway stations insinuating Muslims as savage's.\n",
      "Found: O\n",
      "Found: POSSESSIVE\n",
      "Correct: O\n",
      "Correct: POSSESSIVE\n",
      "To pause and restart automatic updates, click \" Live \" or \" Paused \".\n",
      "Found: O\n",
      "Correct: O\n",
      "Miami players came out of the dugout to congratulate Suzuki, and he waved his helmet to acknowledge the cheer's.\n",
      "Found: O\n",
      "Found: POSSESSIVE\n",
      "Correct: O\n",
      "Correct: POSSESSIVE\n",
      "This is simply how many women steels themselves when walking down a city street in broad daylight, or even when boarding crowded public transportation.\n",
      "Found: O\n",
      "Found: VERB\n",
      "Correct: O\n",
      "Correct: VERB\n",
      "These young people have volunteered their time and worked in a host of different environments.\n",
      "Found: O\n",
      "Correct: O\n",
      "But even if you don't view \" Silver Streak \" through that particular modern lens, the film has major tonal and genre issues.\n",
      "Found: O\n",
      "Correct: O\n",
      "Firefighters were able to douse the fires before they blossomed into full-fledged wildfires.\n",
      "Found: O\n",
      "Correct: O\n",
      "Last to go is the windows and exterior doors.\n",
      "Found: O\n",
      "Found: VERB\n",
      "Correct: O\n",
      "Correct: VERB\n",
      "Several states have heard so much complaining about the Common Core standards or the recommended strategy's that they actual changed the name of the standard's to appease the public.\n",
      "Found: O\n",
      "Found: POSSESSIVE\n",
      "Correct: O\n",
      "Correct: POSSESSIVE\n",
      "Correct: ADV\n",
      "I had never seen the ocean, and I just really had a hunger to go and see something for myself, \" Guttenfelder said.\n",
      "Found: O\n",
      "Correct: O\n",
      "And a community is not rebuilt on helplessness.\n",
      "Found: O\n",
      "Correct: O\n",
      "Caldwell told The Huffington Post that McDonnell, a former prosecutor who campaigned as \" tough on crime, \" has created the \" fastest and fairest \" restoration of rights process in the state's history.\n",
      "Found: O\n",
      "Correct: O\n",
      "(Photo by FilmMagic/FilmMagic)\n",
      "Found: O\n",
      "Correct: O\n",
      "And those bruises, through gentle care, eventual heal.\n",
      "Found: O\n",
      "Found: VERB\n",
      "Found: ADV\n",
      "Correct: O\n",
      "Correct: ADV\n",
      "They rides past endless favelas, as the poor communities made of roughshod brick and concrete houses is called.\n",
      "Found: O\n",
      "Found: VERB\n",
      "Correct: O\n",
      "Correct: VERB\n",
      "Newsletter'S may offer personalized content or advertisements.\n",
      "Found: O\n",
      "Found: POSSESSIVE\n",
      "Correct: O\n",
      "Correct: POSSESSIVE\n",
      "Seven days in a week.\n",
      "Found: O\n",
      "Correct: O\n",
      "Suspect charged with murder in shooting deaths of imam, friend  Passions ran hot at a funeral service Monday for Imam Maulama Alauddin Akonjee and Thara Uddin who were shot Saturday after leaving the Al-Furqan Jame Masjid mosque in the Ozone Park neighborhood of Queens.\n",
      "Found: O\n",
      "Correct: O\n",
      "He joined a table to chat with new friends.\n",
      "Found: O\n",
      "Correct: O\n",
      "\" I ask that everyone withhold their judgment about what did or did not happen until the evidence comes out, \" his mother said.\n",
      "Found: O\n",
      "Correct: O\n",
      "-- they eat out of your hand, \" she says.\n",
      "Found: O\n",
      "Correct: O\n",
      "Is history and art as important as science and technology?\n",
      "Found: O\n",
      "Correct: O\n",
      "The novel traces the childhood of August and her three best friends in 1970s Brooklyn, framed by her return to the city after a 20-year absence.\n",
      "Found: O\n",
      "Correct: O\n",
      "In a statement Monday evening, the Kansas City police department said the boy died of a \" fatal neck injury at the end of the ride, in the pool.\n",
      "Found: O\n",
      "Correct: O\n",
      "\" We is in a time when everything am about black and white and this and that, \" he continued carefully, with emotion in his voice.\n",
      "Found: O\n",
      "Found: VERB\n",
      "Correct: O\n",
      "Correct: VERB\n",
      "My daughter decided to visit him, so of course that thought shot right through my head.\n",
      "Found: O\n",
      "Correct: O\n",
      "As Run-D.M.C. got in the studio to record their fifth album, Back From Hell, the Devastating Mic Controller was losing control.\n",
      "Found: O\n",
      "Correct: O\n",
      "Cubs reach deep into bag of surprises for 10th consecutive win\n",
      "Found: O\n",
      "Correct: O\n",
      "Correct: ADV\n",
      "Among the eight inductees: Brett Favre, who spent 16 year's with the Green Bay Packers; Tony Dungy, who was the first African-American head coach to wins a Super Bowl when his Colts defeated the Chicago Bears in Super Bowl XLI; and Marvin Harrison, who played on that Super Bowl-winning team and are considered one of the best receivers in NFL history.\n",
      "Found: O\n",
      "Found: POSSESSIVE\n",
      "Correct: O\n",
      "Correct: POSSESSIVE\n",
      "Correct: VERB\n",
      "the Fox River.\n",
      "Found: O\n",
      "Correct: O\n",
      "Setting where they are supported.\n",
      "Found: O\n",
      "Correct: O\n",
      "The Ultimate Ambition in the Arts of Erudition cans read like a tease -- an extended trailer to a 33-hour movie.\n",
      "Found: O\n",
      "Found: VERB\n",
      "Correct: O\n",
      "Correct: VERB\n",
      "Manning and the starter's was on the field for four series against Buffalo and the net result was abysmal: 37 total yards, one first down, no points.\n",
      "Found: O\n",
      "Found: POSSESSIVE\n",
      "Found: VERB\n",
      "Correct: O\n",
      "Correct: POSSESSIVE\n",
      "Correct: VERB\n",
      "Comments our editor's find particular useful or relevant are displayed in Top Comments, as are comments by users with these badges:.\n",
      "Found: O\n",
      "Found: POSSESSIVE\n",
      "Found: ADV\n",
      "Correct: O\n",
      "Correct: POSSESSIVE\n",
      "Correct: ADV\n",
      "Therefore, we hold that the plaintiffs and others similarly situated for whom the actions have been brought are, by reason of the segregation complained of, deprived of the equal protection of the laws guaranteed by the Fourteenth Amendment.\n",
      "Found: O\n",
      "Correct: O\n",
      "Rizzo said Harper had an MRI exam Saturday that revealed no major issues, another reason to believe the trouble am not necessarily anything more than initial diagnosis's indicated.\n",
      "Found: O\n",
      "Found: POSSESSIVE\n",
      "Correct: O\n",
      "Correct: POSSESSIVE\n",
      "Correct: VERB\n",
      "The 12-time Olympic medalist and reality TV star recently admitted that he \" overexaggerated \" when he claimed that he and three other U.S. swimmers was held up -- with a gun cocked and pointed at his forehead -- after leaving a party early one morning during the games.\n",
      "Found: O\n",
      "Correct: O\n",
      "\" Collisions with deer, by contrast, kill 150 people a year.\n",
      "Found: O\n",
      "Correct: O\n",
      "An extra 26 state troopers have been assigned to the county.\n",
      "Found: O\n",
      "Correct: O\n",
      "Reply'S to those posts appear here, as well as post's by staff writers.\n",
      "Found: O\n",
      "Found: POSSESSIVE\n",
      "Correct: O\n",
      "Correct: POSSESSIVE\n",
      "\" What's My Name? \" and ripped her smash \" Work, \" while flanked by dozens of dancers that grinded on her.\n",
      "Found: O\n",
      "Correct: O\n",
      "Just two years later, Andy Carvin, then NPR's senior product manager for online communities, talked about adding professional moderators to what had been largely staff efforts to keeps the conversation's free of spam and troll's.\n",
      "Found: O\n",
      "Found: POSSESSIVE\n",
      "Found: VERB\n",
      "Correct: O\n",
      "Correct: POSSESSIVE\n",
      "Correct: VERB\n",
      "Biden went on to further questions Trump's preparedness to tackles the issue of America's national security, and his willingness to learn.\n",
      "Found: O\n",
      "Found: VERB\n",
      "Correct: O\n",
      "Correct: VERB\n",
      "Note: On August 23, we will no longer supports commenting on NPR.org stories.\n",
      "Found: O\n",
      "Found: VERB\n",
      "Correct: O\n",
      "Correct: VERB\n",
      "A full plate here\n",
      "Found: O\n",
      "Correct: O\n",
      "And she missed a ton of school.\n",
      "Found: O\n",
      "Correct: O\n",
      "Lets's broaden that discussion into what the Texas state legislature has been doing in the area of woman's's reproductive health care.\n",
      "Found: O\n",
      "Found: POSSESSIVE\n",
      "Found: VERB\n",
      "Correct: O\n",
      "Correct: POSSESSIVE\n",
      "Correct: VERB\n",
      "so why preach to him.\n",
      "Found: O\n",
      "Correct: O\n",
      "He said if you don't get out there and say nothing, nobody else will for you.\n",
      "Found: O\n",
      "Correct: O\n",
      "(Photo by Joe Raedle/Getty Images)\n",
      "Found: O\n",
      "Correct: O\n",
      "No team in the AFC West have a more promising and productive young corps than the Raiders.\n",
      "Found: O\n",
      "Found: VERB\n",
      "Correct: O\n",
      "Correct: VERB\n",
      "\" (The super cycle) are still intact.\n",
      "Found: O\n",
      "Correct: O\n",
      "Correct: VERB\n",
      "We report on news that cans makes a difference for your health and show how policy shape our health choice's.\n",
      "Found: O\n",
      "Found: POSSESSIVE\n",
      "Found: VERB\n",
      "Correct: O\n",
      "Correct: POSSESSIVE\n",
      "Correct: VERB\n",
      "It wasn't long before ABC began using the clip of the crash to accompany the phrase \" agony of defeat \" in the \" Wide World of Sports \" introduction.\n",
      "Found: O\n",
      "Correct: O\n",
      "- We has worked through the huge oversupply of shadow inventory.\n",
      "Found: O\n",
      "Found: VERB\n",
      "Correct: O\n",
      "Correct: VERB\n",
      "those ersatz sidewalks, it also had to does with experiencing the illusion, the whisper of another Los Angeles, one lost to time.\n",
      "Found: O\n",
      "Found: VERB\n",
      "Correct: O\n",
      "Correct: VERB\n",
      "Trump took far-right, hugely populist and even arguably unconstitutional positions that other Republicans knew would severely compromise them for the general election.\n",
      "Found: O\n",
      "Correct: O\n",
      "Comments our editor's finds particularly useful or relevant is displayed in Top Comment'S, as are comments by users with these badges:.\n",
      "Found: O\n",
      "Found: POSSESSIVE\n",
      "Found: VERB\n",
      "Correct: O\n",
      "Correct: POSSESSIVE\n",
      "Correct: VERB\n",
      "The $350-million stadium complex is being built on the site of the Los Angeles Memorial Sports Arena, a 57-year-old venue that be being demolished to make way for the 22,000-seat soccer stadium.\n",
      "Found: O\n",
      "Found: VERB\n",
      "Correct: O\n",
      "The BOE said it would creates a new Term Funding Scheme worth up to 100 billion pounds ($132 billion) and announced the purchase of up to 10 billion pounds in U.K. corporate bonds.\n",
      "Found: O\n",
      "Correct: O\n",
      "Correct: VERB\n",
      "Police have searched it, but she's not saying what they found.\n",
      "Found: O\n",
      "Correct: O\n",
      "Within minutes of the news today that the Justice Department was looking to end its use of private prison's, at least two of the three private corporations used by the department saw their value's drop by double-digits on the New York Stock Exchange (NYSE).\n",
      "Found: O\n",
      "Found: POSSESSIVE\n",
      "Correct: O\n",
      "Correct: POSSESSIVE\n",
      "How honest, likable and trustworthy is this person?\n",
      "Found: O\n",
      "Correct: O\n",
      "Accuracy and availability may vary.\n",
      "Found: O\n",
      "Correct: O\n",
      "Here be what happened that day.\n",
      "Found: O\n",
      "Found: VERB\n",
      "Correct: O\n",
      "Correct: VERB\n",
      "Have a sense of humor.\n",
      "Found: O\n",
      "Correct: O\n",
      "the best dog trainer in the world. '\n",
      "Found: O\n",
      "Correct: O\n",
      "To pause and restarts automatic updates, click \" Live \" or \" Paused \".\n",
      "Found: O\n",
      "Found: VERB\n",
      "Correct: O\n",
      "Correct: VERB\n",
      "\" This disease didn't kills me, but it robbed me of the ability to give birth to any more child, which has been the most devastating piece of it, \" she said.\n",
      "Found: O\n",
      "Found: VERB\n",
      "Correct: O\n",
      "Correct: VERB\n",
      "Correct: CHILD\n",
      "(BEGIN VIDEO CLIP)\n",
      "Found: O\n",
      "Correct: O\n",
      "Number one, while the American people's, as in the past, welcome the oppressed of other land's, care should be taken that immigration be such both in quality and quantity as not to make it too difficult to processes assimilation.\n",
      "Found: O\n",
      "Found: POSSESSIVE\n",
      "Found: VERB\n",
      "Correct: O\n",
      "Correct: POSSESSIVE\n",
      "Correct: VERB\n",
      "Scribbling note's on receipts have become something of a trend.\n",
      "Found: O\n",
      "Found: POSSESSIVE\n",
      "Correct: O\n",
      "Correct: POSSESSIVE\n",
      "Correct: VERB\n",
      "In Korea, you behaves one way at work and another outside of work.\n",
      "Found: O\n",
      "Found: VERB\n",
      "Correct: O\n",
      "Correct: VERB\n",
      "Running back is fantasy footballs most volatile position.\n",
      "Found: O\n",
      "Correct: O\n",
      "Correct: POSSESSIVE\n",
      "Both are looking to win Western State Conference crowns and shine at the Southern California and California State Championships.\n",
      "Found: O\n",
      "Correct: O\n",
      "America's commitment to religious tolerance goes back to the very beginning of our nation.\n",
      "Found: O\n",
      "Correct: O\n",
      "You can gets the baby out of here....\n",
      "Found: O\n",
      "Found: VERB\n",
      "Correct: O\n",
      "Correct: VERB\n",
      "Replies to those posts appear here, as good as posts by staff writers.\n",
      "Found: O\n",
      "Found: ADV\n",
      "Correct: O\n",
      "Correct: ADV\n",
      "It's probably more crucial to me personal than it is to our brand.\n",
      "Found: O\n",
      "Found: ADV\n",
      "Correct: O\n",
      "Correct: ADV\n",
      "What worked in the warmer, humid months be not what your skin need now.\n",
      "Found: O\n",
      "Found: VERB\n",
      "Correct: O\n",
      "Correct: VERB\n",
      "The attack was one of several that month in Germany.\n",
      "Found: O\n",
      "Correct: O\n",
      "The company defense was to portray itself as a collection of hard-working employee's who performed to the best of their ability's in the face of ambiguous regulations.\n",
      "Found: O\n",
      "Found: POSSESSIVE\n",
      "Correct: O\n",
      "Correct: POSSESSIVE\n",
      "Smith had been with the Eastman Police Department since 2011.\n",
      "Found: O\n",
      "Correct: O\n",
      "To knows him be to get the joke: This be a man full of causes, one's for which the Democrat has patiently and passionate advocated during a 14-year career in the California Legislature that's now coming to a close.\n",
      "Found: O\n",
      "Found: POSSESSIVE\n",
      "Found: VERB\n",
      "Found: ADV\n",
      "Correct: O\n",
      "Correct: POSSESSIVE\n",
      "Correct: VERB\n",
      "Correct: ADV\n",
      "The Barbadian singer paid tribute to her island roots with a set pulled from her infectious reggae and dance-hall-inspired jam's.\n",
      "Found: O\n",
      "Found: POSSESSIVE\n",
      "Correct: O\n",
      "Correct: POSSESSIVE\n",
      "But they am confusing the growing pains of a new market with the death rattle of a failing one.\n",
      "Found: O\n",
      "Found: VERB\n",
      "Correct: O\n",
      "Correct: VERB\n",
      "As a play, Doubt won a Pulitzer Prize and a Tony Award.\n",
      "Found: O\n",
      "Found: VERB\n",
      "Correct: O\n",
      "Since June, it's been a struggle and hurt us. \"\n",
      "Found: O\n",
      "Found: VERB\n",
      "Correct: O\n",
      "The first rotation, of four, for the United States will am on the vault.\n",
      "Found: O\n",
      "Found: VERB\n",
      "Correct: O\n",
      "Correct: VERB\n",
      "\" While I encourage all residents and visitors to continues to use precaution by draining standing water and wearing bug spray, Florida remains safe and open for business, \" Scott said.\n",
      "Found: O\n",
      "Found: VERB\n",
      "Correct: O\n",
      "Correct: VERB\n",
      "I 'm here to perform and do what I have to does. ' '\n",
      "Found: O\n",
      "Found: VERB\n",
      "Correct: O\n",
      "Correct: VERB\n",
      "And the idea of a wealthy individual being able to shuts down an independent voice via a third-party lawsuit is deeply distressing.\n",
      "Found: O\n",
      "Found: VERB\n",
      "Correct: O\n",
      "Correct: VERB\n",
      "Glenfiddich is cheap junk anyway, what a rube.\n",
      "Found: O\n",
      "Correct: O\n",
      "Emanuel said he supported police Superintendent Eddie Johnson's move to quickly revoke the police powers of three officers who fired their weapon's.\n",
      "Found: O\n",
      "Found: POSSESSIVE\n",
      "Correct: O\n",
      "Correct: POSSESSIVE\n",
      "More on this...\n",
      "Found: O\n",
      "Correct: O\n",
      "Des Moines bike signal  Charlie\n",
      "Found: O\n",
      "Correct: O\n",
      "\" Sometimes I wears a skirt or leggings or a more gay outfit\n",
      "Found: O\n",
      "Found: VERB\n",
      "Correct: O\n",
      "Correct: VERB\n",
      "In February, health official's from 17 states and territory's and 13 cities called existing warnings on the concurrent use of opioids and benzodiazepines \" inconsistent, infrequent and insufficient.\n",
      "Found: O\n",
      "Found: POSSESSIVE\n",
      "Correct: O\n",
      "Correct: POSSESSIVE\n",
      "Knows she's magical.\n",
      "Found: O\n",
      "Found: VERB\n",
      "Correct: O\n",
      "The FDA is responsible for oversight of medical devices in the U.S.\n",
      "Found: O\n",
      "Correct: O\n",
      "I'd by the dozen were burned their occupant's were.\n",
      "Found: O\n",
      "Found: POSSESSIVE\n",
      "Correct: O\n",
      "Correct: POSSESSIVE\n",
      "Carl Icahn said on Friday that he bought another 2.3 million share's of Herbalife and criticized hedge fund manager Bill Ackman for his \" Herbalife obsession. \"\n",
      "Found: O\n",
      "Found: POSSESSIVE\n",
      "Correct: O\n",
      "Correct: POSSESSIVE\n",
      "(A sixth essay, on madness in the theater, is listed as an \" appendix \" but has almost nothing to do with the remainder of the book; perhaps it's here to pad out a publication of under 200 pages.)\n",
      "Found: O\n",
      "Correct: O\n",
      "He also accused Clinton of \" bigotry, \" echoing a remark he made Tuesday during a speech on law enforcement in West Bend, Wis.\n",
      "Found: O\n",
      "Correct: O\n",
      "Andrews said, \" To knows I had in some small way, some small relationship with those two teams that were playing, that was probably as high a mark in my career as there ever has been. \"\n",
      "Found: O\n",
      "Found: VERB\n",
      "Correct: O\n",
      "Correct: VERB\n",
      "Obtaining her own death certificate was the culmination of years of research for Greenwood, who -- in addition to being alive and well -- is the author of the new book \" Playing Dead: A Journey\n",
      "Found: O\n",
      "Correct: O\n",
      "I think students want respect.\n",
      "Found: O\n",
      "Correct: O\n",
      "They measured chemical changes in the eye lenses of whales that had been hunted legal.\n",
      "Found: O\n",
      "Found: ADV\n",
      "Correct: O\n",
      "Correct: ADV\n",
      "The text, reported to read \" Allah is beautiful and He loves beauty, \" has enraged many, who object to the religious message being displayed near a toilet on the Favela level of the hit title.\n",
      "Found: O\n",
      "Correct: O\n",
      "It's an off-the-beaten-path, upstart music festival that has drawn the likes of Norah Jones, Rodney Crowell, Sturgill Simpson, Butch Vig and Justin Townes Earle over the last few year's while staying true to its calling card of showcasing mostly up-and-coming artists with modest name recognition.\n",
      "Found: O\n",
      "Found: POSSESSIVE\n",
      "Correct: O\n",
      "Correct: POSSESSIVE\n",
      "He's a white guy not receiving respect because of the color of his skin and the position that he plays.\n",
      "Found: O\n",
      "Correct: O\n",
      "Not having child's of her own, she was as helpless as I had been the first time.\n",
      "Found: O\n",
      "Found: POSSESSIVE\n",
      "Found: VERB\n",
      "Correct: O\n",
      "Correct: POSSESSIVE\n",
      "And also remember, even simple projects seem to grow in size.\n",
      "Found: O\n",
      "Correct: O\n",
      "The U.S. Geological Survey put the magnitude at 6.2 with the epicenter at Norcia, about 105 miles northwest of Rome, and with a relative shallow depth of six miles.\n",
      "Found: O\n",
      "Correct: O\n",
      "Correct: ADV\n",
      "It said the drug have been on the market since 1967 and that the risk of fetus malformation had been established since the early 1980's.\n",
      "Found: O\n",
      "Found: VERB\n",
      "Correct: O\n",
      "Correct: POSSESSIVE\n",
      "Correct: VERB\n",
      "No presidential nominee in recent election cycles have been as adored by white nationalists and anti-Semites as Trump.\n",
      "Found: O\n",
      "Correct: O\n",
      "Correct: VERB\n",
      "But with those efforts stalled on Capitol Hill, he said he needed to act.\n",
      "Found: O\n",
      "Correct: O\n",
      "So there was an opening for Veirs to write on her own, at least initially.\n",
      "Found: O\n",
      "Correct: O\n",
      "If they hadn't had to shoves all that money on the table for him and Bernanke and Geithner and\n",
      "Found: O\n",
      "Found: VERB\n",
      "Correct: O\n",
      "Correct: VERB\n",
      "And increasingly, Americans seem to is more accepting of a little extra body weight, which a recent study found may are associated with living long.\n",
      "Found: O\n",
      "Found: VERB\n",
      "Correct: O\n",
      "Correct: VERB\n",
      "Correct: ADV\n",
      "Piccard claimed that when she intervened, he exploded, calling her \" f- --\n",
      "Found: O\n",
      "Correct: O\n",
      "Steve Wood/Rex/Shutterstock)\n",
      "Found: O\n",
      "Correct: O\n",
      "Here be the deal, he says.\n",
      "Found: O\n",
      "Found: VERB\n",
      "Correct: O\n",
      "Correct: VERB\n",
      "The CENI published an electoral calendar in February 2015 with milestone's that was ignored and a budget that was never forthcoming.\n",
      "Found: O\n",
      "Found: POSSESSIVE\n",
      "Correct: O\n",
      "Correct: POSSESSIVE\n",
      "Correct: VERB\n",
      "Craig Ruttle/AP hide caption  toggle caption Craig Ruttle/AP\n",
      "Found: O\n",
      "Correct: O\n",
      "\" They is just nice people here.\n",
      "Found: O\n",
      "Found: VERB\n",
      "Correct: O\n",
      "Correct: VERB\n",
      "When CNN's Drew Griffin approached the charity president outside his home in suburban Washington and tried to ask questions, Burch sped away in his vintage Rolls Royce rather than stopping to answer.\n",
      "Found: O\n",
      "Correct: O\n",
      "(Yes, in college football, Clemsoning has become a verb.)\n",
      "Found: O\n",
      "Correct: O\n",
      "Now the project has a tantalizing planetary target.\n",
      "Found: O\n",
      "Correct: O\n",
      "The data is there for the taking.\n",
      "Found: O\n",
      "Correct: O\n",
      "Given how low the reward are for Trump and how high the possibility that something might go wrong, there's a decent chance that the politician for whom Trump's trip are beneficial be his opponent.\n",
      "Found: O\n",
      "Found: VERB\n",
      "Correct: O\n",
      "Correct: VERB\n",
      "The whole wellness program are supported by a $500,000 grant from the K.P. Jois Foundation.\n",
      "Found: O\n",
      "Found: VERB\n",
      "Correct: O\n",
      "Correct: VERB\n",
      "presidential nominee Donald Trump during the Democratic National Convention).\n",
      "Found: O\n",
      "Correct: O\n",
      "The main thread be about Tom, his girlfriend Gemma and their four cats moving twice in a year from their home in Norfolk to a rental apartment, and final to bucolic Devon in southwest England.\n",
      "Found: O\n",
      "Found: VERB\n",
      "Found: ADV\n",
      "Correct: O\n",
      "Correct: VERB\n",
      "Correct: ADV\n",
      "fighting for these forgotten Americans.\n",
      "Found: O\n",
      "Correct: O\n",
      "Young refugee's body washes ashore in\n",
      "Found: O\n",
      "Correct: O\n",
      "Here, I just fell into another world and I followed.\n",
      "Found: O\n",
      "Correct: O\n",
      "This are a positive change, not only for China but also for the United States, Europe and Japan.\n",
      "Found: O\n",
      "Found: VERB\n",
      "Correct: O\n",
      "Correct: VERB\n",
      "Out of my wallet, ' Trump said in one case. '\n",
      "Found: O\n",
      "Correct: O\n",
      "Her district is made up of almost equal parts Republicans, Democrats and independents.\n",
      "Found: O\n",
      "Correct: O\n",
      "He act like a 2-year-old.\n",
      "Found: O\n",
      "Found: VERB\n",
      "Correct: O\n",
      "Correct: VERB\n",
      "NPR transcript's are created on a rush deadline by Verb8tm, Inc., an NPR contractor, and produced using a proprietary transcription process developed with NPR.\n",
      "Found: O\n",
      "Found: POSSESSIVE\n",
      "Correct: O\n",
      "Correct: POSSESSIVE\n",
      "So coming home and trying to knockes out the statues was very hard and time-consuming. \"\n",
      "Found: O\n",
      "Found: VERB\n",
      "Correct: O\n",
      "Correct: VERB\n",
      "Moke was just 10 year's old when he were conscripted into the Union of Congolese Patriots, a rebel militia notorious for ethnic massacre's, torture and rapes.\n",
      "Found: O\n",
      "Found: POSSESSIVE\n",
      "Found: VERB\n",
      "Correct: O\n",
      "Correct: POSSESSIVE\n",
      "Correct: VERB\n",
      "Among the issues the city said needed clarification: Did the injunction mean the code enforcement personnel couldn't enforce citations handed out prior to the filing of the injunction?\n",
      "Found: O\n",
      "Correct: O\n",
      "About a year ago, I began to get real worked up about it.\n",
      "Found: O\n",
      "Correct: O\n",
      "Correct: ADV\n",
      "The study was published in the Journal of Neuroscience.\n",
      "Found: O\n",
      "Correct: O\n",
      "Regime forces continuous shell these restive areas, using fighter jets and missile battery's placed on surrounding hilltops, producing boom's and blasts heard throughout Damascus.\n",
      "Found: O\n",
      "Found: POSSESSIVE\n",
      "Found: ADV\n",
      "Correct: O\n",
      "Correct: POSSESSIVE\n",
      "Correct: ADV\n",
      "She didn't like the meets.\n",
      "Found: O\n",
      "Correct: O\n",
      "\" When people's says, ' Why me? '\n",
      "Found: O\n",
      "Found: POSSESSIVE\n",
      "Found: VERB\n",
      "Correct: O\n",
      "Correct: POSSESSIVE\n",
      "Correct: VERB\n",
      "\" My sister is the oldest and apparently, she was told at a very young age by my dad that since she was a girl, she woulds not be going to school.\n",
      "Found: O\n",
      "Found: VERB\n",
      "Correct: O\n",
      "Correct: VERB\n",
      "A previous version of this article stated that earthworms are nematodes.\n",
      "Found: O\n",
      "Correct: O\n",
      "Expert'S estimate there are already six to 10 million cubic yards of material in Grass Lake alone, so simple breaking even is not good enough, he said.\n",
      "Found: O\n",
      "Found: POSSESSIVE\n",
      "Correct: O\n",
      "Correct: POSSESSIVE\n",
      "Correct: ADV\n",
      "\" I realized that if they wanted my opinion they'd asks for it, \" he said.\n",
      "Found: O\n",
      "Found: VERB\n",
      "Correct: O\n",
      "Correct: VERB\n",
      "Nike -- Nike be exiting its golf club and ball business, narrowing it's focus on that sport to apparel and footwear.\n",
      "Found: O\n",
      "Found: ITS\n",
      "Correct: O\n",
      "Correct: VERB\n",
      "Correct: ITS\n",
      "The city was battered by Hezbollah rocket fire during a war in the summer of 2006.\n",
      "Found: O\n",
      "Correct: O\n",
      "NYPD Police Commissioner Bill Bratton's announced retirement\n",
      "Found: O\n",
      "Correct: O\n",
      "In South Carolina, a faithless elector is subject to criminal penalties.\n",
      "Found: O\n",
      "Correct: O\n",
      "The Faces Of Military Sexual Assault  of ? ?\n",
      "Found: O\n",
      "Correct: O\n",
      "Some doctors went as far as suggesting he be institutionalized.\n",
      "Found: O\n",
      "Correct: O\n",
      "\" I were responding to previous reviews about the movie the interviewer brought to my attention, \" the actress say.\n",
      "Found: O\n",
      "Found: VERB\n",
      "Correct: O\n",
      "Correct: VERB\n",
      "the - a guard threw rocks into.\n",
      "Found: O\n",
      "Correct: O\n",
      "Jennifer McLain, a principal economic development officer for the city, encouraged business owner's\n",
      "Found: O\n",
      "Found: POSSESSIVE\n",
      "Correct: O\n",
      "Correct: POSSESSIVE\n",
      "(travelers seemed to has no problem combining black forest cake with a beer).\n",
      "Found: O\n",
      "Found: VERB\n",
      "Correct: O\n",
      "Correct: VERB\n",
      "Meanwhile, in San Luis Obispo County, the Chimney fire near Lake Nacimiento has burned 6,400 acres and is 10% contained.\n",
      "Found: O\n",
      "Correct: O\n",
      "The Islamic State claimed responsibility, but investigators has not found a direct link between Bouhlel and the terrorist group.\n",
      "Found: O\n",
      "Correct: O\n",
      "Correct: VERB\n",
      "Too late: he was already addicted.\n",
      "Found: O\n",
      "Correct: O\n",
      "Otherwise, he follows a strict regimen: two piece's of toast about 5:30 a.m., and then a treadmill workout; a salad, banana and hot tea for lunch about 12:30 p.m.; two pieces of toast and tea in the afternoon.\n",
      "Found: O\n",
      "Found: POSSESSIVE\n",
      "Correct: O\n",
      "Correct: POSSESSIVE\n",
      "Want to know more?\n",
      "Found: O\n",
      "Correct: O\n",
      "Hailing from Silverlake, indie rock/pop group Paper Pilots, lead by Justin Bocchieri, first received national attention in 2012 with their cover of The Zombies ' \"\n",
      "Found: O\n",
      "Correct: O\n",
      "Over the last month, Ayotte, who be facing a tough reelection battle this fall, stood by the combative GOP presidential nominee despite his attacks on the Gold Star parents of a fallen U.S. soldier, his suggestion that \" 2nd Amendment people's \" could stop Hillary Clinton from choosing Supreme Court justices and even his initial refusal to endorse Ayotte herself following her critique's of some of his statements.\n",
      "Found: O\n",
      "Found: POSSESSIVE\n",
      "Correct: O\n",
      "Correct: POSSESSIVE\n",
      "Correct: VERB\n",
      "If you cans collect the money anonymously, do so.\n",
      "Found: O\n",
      "Found: VERB\n",
      "Correct: O\n",
      "Correct: VERB\n",
      "AFP/FRANK VAN BEEK\n",
      "Found: O\n",
      "Correct: O\n",
      "And she were right.\n",
      "Found: O\n",
      "Found: VERB\n",
      "Correct: O\n",
      "Correct: VERB\n",
      "The general said he wasn't sure if the next stage of Iraq and Syria operations would require additional U.S. forces.\n",
      "Found: O\n",
      "Correct: O\n",
      "The U.K. Daily Telegraph reported on Sunday that the Algerian gas plant where 37 foreign hostages were killed last weekend had employed a trucking company owned by the brother of the regional leader of al-Qaeda, raising suggestion's that it were inside information that helped the attackers penetrate security.\n",
      "Found: O\n",
      "Found: POSSESSIVE\n",
      "Correct: O\n",
      "Correct: POSSESSIVE\n",
      "Correct: VERB\n",
      "The additional man's men were identified as Juan Daniel Calva Tapia, 53, Josias Nahujali Rabago Borbolla, 35 and V?\n",
      "Found: O\n",
      "Found: POSSESSIVE\n",
      "Correct: O\n",
      "Correct: POSSESSIVE\n",
      "\" It made him infamous after some journalistic digging revealed that incredible scenes from the monologue, of Daisey talking to slave laborers who made Apple products, were inventions based on third-party human rights report's.\n",
      "Found: O\n",
      "Found: POSSESSIVE\n",
      "Correct: O\n",
      "Correct: POSSESSIVE\n",
      "But it may be a little more at a grown-up level, and it's not so much about the science,\n",
      "Found: O\n",
      "Correct: O\n",
      "\" Three Cfo'S are displaced and looking for position's, \" he said.\n",
      "Found: O\n",
      "Found: POSSESSIVE\n",
      "Correct: O\n",
      "Correct: POSSESSIVE\n",
      "\" Alexander, a Christian, claims he took the journey to the afterlife when he slipped into a coma in 2008 after contracting a very rare bacterial meningitis.\n",
      "Found: O\n",
      "Correct: O\n",
      "In the meantime, advocates say people with mental illness have languished under temporary rules that have barred patients from a full range of mental health services.\n",
      "Found: O\n",
      "Correct: O\n",
      "Despite Roscoe's somewhat vacant looks, she maintained the industrious air of a cat who was constantly running late for an important corporate PowerPoint presentation \").\n",
      "Found: O\n",
      "Correct: O\n",
      "la? tion of data. \"\n",
      "Found: O\n",
      "Correct: O\n",
      "And than there's the parainfluenza virus.\n",
      "Found: O\n",
      "Found: THEN\n",
      "Correct: O\n",
      "Correct: THEN\n",
      "Republican presidential candidates Ted Cruz, Lindsey Graham and Ben Carson flagged the Islamic State as an \" existential threat \" to the United States.\n",
      "Found: O\n",
      "Correct: O\n",
      "It needs to explain to that 47 percent that when big government wins, we all lose -- and that this nation won't survives if it does.\n",
      "Found: O\n",
      "Found: VERB\n",
      "Correct: O\n",
      "Correct: VERB\n",
      "They act like kid's.\n",
      "Found: O\n",
      "Found: POSSESSIVE\n",
      "Correct: O\n",
      "Correct: POSSESSIVE\n",
      "And then, just as surprisingly, the elegantly dressed woman of a certain age stoop to picks it up.\n",
      "Found: O\n",
      "Found: VERB\n",
      "Correct: O\n",
      "Correct: VERB\n",
      "The 2017 NBA\n",
      "Found: O\n",
      "Correct: O\n",
      "In the first few minutes, he already gets in a great comic jab when he tell a women\n",
      "Found: O\n",
      "Found: VERB\n",
      "Correct: O\n",
      "Correct: VERB\n",
      "Correct: WOMAN\n",
      "how much.\n",
      "Found: O\n",
      "Correct: O\n",
      "Actual work is pretty darn hard pay attention to that.\n",
      "Found: O\n",
      "Correct: O\n",
      "\" Since I started steeplechasing, it's been one of the goal's of mine just to be in the mix with the Kenyans and beat some of them on the day at championship races.\n",
      "Found: O\n",
      "Found: POSSESSIVE\n",
      "Correct: O\n",
      "Correct: POSSESSIVE\n",
      "Julie, thank's very much.\n",
      "Found: O\n",
      "Found: POSSESSIVE\n",
      "Correct: O\n",
      "Correct: POSSESSIVE\n",
      "He just thinks, that man can be president.\n",
      "Found: O\n",
      "Correct: O\n",
      "The NRA's false claim that Hillary Clinton doesn't believe Americans can keep gun's at home\n",
      "Found: O\n",
      "Found: POSSESSIVE\n",
      "Correct: O\n",
      "Correct: POSSESSIVE\n",
      "The city has been a major battleground for the past six months.\n",
      "Found: O\n",
      "Correct: O\n",
      "ISTANBUL -- Barely a day after the Pentagon's top official arrived in Turkey in a bid to cool growing tensions between Ankara and Washington, a Turkish lawyer filed a criminal complaint against him and two other senior U.S. officials.\n",
      "Found: O\n",
      "Correct: O\n",
      "The state have released no data on Zika's effects on tourism, including trip cancellation's or postponement's.\n",
      "Found: O\n",
      "Found: POSSESSIVE\n",
      "Found: VERB\n",
      "Correct: O\n",
      "Correct: POSSESSIVE\n",
      "Correct: VERB\n",
      "Coach'S has noticed the league's more cautious approach.\n",
      "Found: O\n",
      "Found: POSSESSIVE\n",
      "Correct: O\n",
      "Correct: POSSESSIVE\n",
      "Correct: VERB\n",
      "Stamping an emphatic end to a legal case that drew the attention of the international art world, a federal judge on Tuesday ruled that a painting owned by a Canadian man be not the work of famous artist Peter Doig.\n",
      "Found: O\n",
      "Correct: O\n",
      "Correct: VERB\n",
      "There is clear value in raising these issues and in incorporating new technology's in education.\n",
      "Found: O\n",
      "Found: POSSESSIVE\n",
      "Correct: O\n",
      "Correct: POSSESSIVE\n",
      "Iberkleid, originally from Bolivia, created the parent company of \" Pase La Voz, \" WhyEquals, to \" designs digital experiences that help communities gain equal participation in digital media.\n",
      "Found: O\n",
      "Found: VERB\n",
      "Correct: O\n",
      "Correct: VERB\n",
      "You're in the middle of your pretend tea party that's taken 10 minutes to sets up when suddenly she wants to go find her left slipper.\n",
      "Found: O\n",
      "Found: VERB\n",
      "Correct: O\n",
      "Correct: VERB\n",
      "Prior research had shown that bird's hear incredibly low-frequency sound wave's of about 0.1 Hertz, or a tenth of a cycle per second.\n",
      "Found: O\n",
      "Found: POSSESSIVE\n",
      "Correct: O\n",
      "Correct: POSSESSIVE\n",
      "He finally returned to UA later in life to earn his doctorate.\n",
      "Found: O\n",
      "Correct: O\n",
      "Only those who we expect to flourish in our country -- and to embraces a tolerant American society -- should am issued immigrant visas. \"\n",
      "Found: O\n",
      "Found: VERB\n",
      "Correct: O\n",
      "Correct: VERB\n",
      "That is, if you asks student's - or even, I 'm afraid, sometimes their teachers - to write that, it's an easy trap to fall into.\n",
      "Found: O\n",
      "Found: POSSESSIVE\n",
      "Found: VERB\n",
      "Correct: O\n",
      "Correct: POSSESSIVE\n",
      "Correct: VERB\n",
      "To help covers the loss of state money, the Fox Waterway Agency raised sticker fees for the first time in six year's, Keller said.\n",
      "Found: O\n",
      "Found: POSSESSIVE\n",
      "Found: VERB\n",
      "Correct: O\n",
      "Correct: POSSESSIVE\n",
      "Correct: VERB\n",
      "For nearly three year's, until her death at age 42 in 1989, Radner were in and out of treatment, and in and out of hospital's. \"\n",
      "Found: O\n",
      "Found: POSSESSIVE\n",
      "Found: VERB\n",
      "Correct: O\n",
      "Correct: POSSESSIVE\n",
      "Correct: VERB\n",
      "They had set aside a temporary office for him until the main one was ready.\n",
      "Found: O\n",
      "Correct: O\n",
      "Nor is it, as Trump also claimed, \" Watergate all over again. \"\n",
      "Found: O\n",
      "Correct: O\n",
      "Wagner said he doesn't view the DOJ's announcement as particularly exciting, given the small slice of the industry that be handled by private prison companies.\n",
      "Found: O\n",
      "Correct: O\n",
      "Correct: VERB\n",
      "Gun'S Into Washing Machines  Gun buybacks in the U.S. date to the 1960s and most follows a pretty standard script.\n",
      "Found: O\n",
      "Found: POSSESSIVE\n",
      "Found: VERB\n",
      "Correct: O\n",
      "Correct: POSSESSIVE\n",
      "Correct: VERB\n",
      "(U.S. Attorney's Office via AP)\n",
      "Found: O\n",
      "Correct: O\n",
      "\" It woulds are a natural thing that people might consider if they finds out that they are at an increased risk for Alzheimer's disease.\n",
      "Found: O\n",
      "Found: VERB\n",
      "Correct: O\n",
      "Correct: VERB\n",
      "After the fight, his manager arrange for him to meet Arcel.\n",
      "Found: O\n",
      "Correct: O\n",
      "Correct: VERB\n",
      "This extra amount will is forfeited if the tenant doesn't acts on the option to buy.\n",
      "Found: O\n",
      "Found: VERB\n",
      "Correct: O\n",
      "Correct: VERB\n",
      "It be something that I would actual quite shy away from, just in case thinking about it frightened away whatever made me want to writes it.\n",
      "Found: O\n",
      "Found: VERB\n",
      "Found: ADV\n",
      "Correct: O\n",
      "Correct: VERB\n",
      "Correct: ADV\n",
      "qualify for traditional mortgages.\n",
      "Found: O\n",
      "Found: VERB\n",
      "Correct: O\n",
      "his Affordable Care Act doesn't includes a provision addressing this.\n",
      "Found: O\n",
      "Found: VERB\n",
      "Correct: O\n",
      "Correct: VERB\n",
      "He was a frequent spectator in the gallery.\n",
      "Found: O\n",
      "Correct: O\n",
      "I believe we need Paul Ryan in leadership in the Congress of the United States to rebuild our military, to strengthen our economy and to ensure that we have the kind of leadership in this country that will makes America great again. \"\n",
      "Found: O\n",
      "Correct: O\n",
      "Correct: VERB\n",
      "Davis played many roles for the team, including player development and travel accommodations.\n",
      "Found: O\n",
      "Correct: O\n",
      "But, in the race to brings driverless car's to market, Ford be the first to commit to a date.\n",
      "Found: O\n",
      "Found: POSSESSIVE\n",
      "Found: VERB\n",
      "Correct: O\n",
      "Correct: POSSESSIVE\n",
      "Correct: VERB\n",
      "Noah Slayton, 9, dribbles a basketball in between pile's of debris in front of his flood damaged home at the South Point subdivision in Denham Springs, Louisiana, Aug. 22, 2016.\n",
      "Found: O\n",
      "Found: POSSESSIVE\n",
      "Correct: O\n",
      "Correct: POSSESSIVE\n",
      "Adams was at Division II Fayetteville State when he first noticed a 6-foot-1, 295-pound wrecking ball of a defensive tackle.\n",
      "Found: O\n",
      "Correct: O\n",
      "Gene Wilder in 1979.\n",
      "Found: O\n",
      "Correct: O\n",
      "Sahmanntha Rundstrom, 19, were taken into custody in Flagstaff, Ariz., on the same day and faces extradition to San Francisco.\n",
      "Found: O\n",
      "Correct: O\n",
      "Correct: VERB\n",
      "The second, called the modern synthesis (1900s), provided the units of heredity and their control, particularly changes in DNA by recombination and mutation.\n",
      "Found: O\n",
      "Correct: O\n",
      "Correct: VERB\n",
      "John hold a Bachelor of Laws (1983), Master of Laws (Environmental) (1995), and is an accredited mediator (1996).\n",
      "Found: O\n",
      "Correct: O\n",
      "Correct: VERB\n",
      "United Nations Secretary-General Ban Ki-moon speak to University of Calgary student's on International Youth Day in Calgary, Alberta, on Aug. 12, 2016.\n",
      "Found: O\n",
      "Found: POSSESSIVE\n",
      "Correct: O\n",
      "Correct: POSSESSIVE\n",
      "Correct: VERB\n",
      "The jeweler admit he didn't have original receipts for the gems, but claim's he provided Lloyd's with other documents from the transaction's.\n",
      "Found: O\n",
      "Found: POSSESSIVE\n",
      "Found: VERB\n",
      "Correct: O\n",
      "Correct: POSSESSIVE\n",
      "Correct: VERB\n",
      "\" I want you to hears these words, and remember these words: Shame on you. \"\n",
      "Found: O\n",
      "Found: VERB\n",
      "Correct: O\n",
      "Correct: VERB\n",
      "If there's one thing that's accelerated interest in these \" insta-hoods, \" it's pre-existing infrastructure.\n",
      "Found: O\n",
      "Correct: O\n",
      "\" She was pretty happy.\n",
      "Found: O\n",
      "Correct: O\n",
      "\" It's hard to recruits and retains talent in a program where you can literally goes across the street, to a public school classroom, and earns more money, \" she said.\n",
      "Found: O\n",
      "Found: VERB\n",
      "Correct: O\n",
      "Correct: VERB\n",
      "Her next court date be Aug. 30.\n",
      "Found: O\n",
      "Found: VERB\n",
      "Correct: O\n",
      "Correct: VERB\n",
      "Do you believe in raising taxes on the wealthy?\n",
      "Found: O\n",
      "Correct: O\n",
      "To pause and restart automatic updates, click \" Live \" or \" Paused \".\n",
      "Found: O\n",
      "Correct: O\n",
      "According to the lawsuit, attorney James Crawford was arguing with investigator Dillon Alley on March 9 when the fight turned physical and Crawford suffered a broken bone in his face.\n",
      "Found: O\n",
      "Correct: O\n",
      "And for most of the time that humans have walked the Earth, we raised our children in communities.\n",
      "Found: O\n",
      "Correct: O\n",
      "For me, he is the ultimate fantasy guy.\n",
      "Found: O\n",
      "Correct: O\n",
      "Police says the homeowner confronted Bryant when he caught her spray-painting his sign.\n",
      "Found: O\n",
      "Found: VERB\n",
      "Correct: O\n",
      "Correct: VERB\n",
      "Soon-Shiong paid Celgene $135 million for NantWorks, where he had begun the work of creating his planned high-tech health delivery network.\n",
      "Found: O\n",
      "Correct: O\n",
      "Sister Paula Merrill and Sister Margaret Held, both 68, worked as nurse practitioners providing medical care at a clinic in Holmes County, one of the poorest in the country.\n",
      "Found: O\n",
      "Correct: O\n",
      "An internal investigation conducted by law firm Paul\n",
      "Found: O\n",
      "Correct: O\n",
      "Here be how the court's opinion, which includes details of the encounter, framed the case:\n",
      "Found: O\n",
      "Correct: O\n",
      "Correct: VERB\n",
      "SENATOR JOHN KERRY:\n",
      "Found: O\n",
      "Correct: O\n",
      "Speaking to Colin Cowherd on Thursday on \" The Herd, \" White revealed Rousey was recovering from a number of small surgeries.\n",
      "Found: O\n",
      "Correct: O\n",
      "But when I asked what was next, they said to rebuild.\n",
      "Found: O\n",
      "Correct: O\n",
      "\" He liked the discipline and the opportunity to serves, and so he chose that path, \" Missaghi said.\n",
      "Found: O\n",
      "Found: VERB\n",
      "Correct: O\n",
      "Correct: VERB\n",
      "True economic development would instead improve the lives of people's in these communities, rather than displace them.\n",
      "Found: O\n",
      "Found: POSSESSIVE\n",
      "Correct: O\n",
      "Correct: POSSESSIVE\n",
      "During a Los Angeles Times Ideas Exchange event at the Walt Disney Concert Hall, The Times ' architecture critic Christopher Hawthorne spoke to Frank Gehry about why he never worked for Richard Neutra, his famous Santa Monica home, and the L.A. River revitalization project.\n",
      "Found: O\n",
      "Correct: O\n",
      "Packers coach Mike McCarthy and Colts coach Chuck Pagano both watched as crews tried to rectify the problem.\n",
      "Found: O\n",
      "Correct: O\n",
      "\" The person in charge of our homeland security was a women.\n",
      "Found: O\n",
      "Found: WOMAN\n",
      "Correct: O\n",
      "Correct: WOMAN\n",
      "At one point, Norris yells to the man that he aren't moving fast enough and that Norris will shoot him in 20 seconds.\n",
      "Found: O\n",
      "Found: VERB\n",
      "Correct: O\n",
      "Correct: VERB\n",
      "Pledge: \" Looks, the military is going to is very important because we have to do something with ISIS, David, and you know we do want the military.\n",
      "Found: O\n",
      "Found: VERB\n",
      "Correct: O\n",
      "Correct: VERB\n",
      "Playing for Clear Ridge against teams from Archer Manor and Evergreen Park offered these kids a chance to play for their community.\n",
      "Found: O\n",
      "Correct: O\n",
      "\" I is unsure why, but while we were in that area, Ryan pulled to the ground a framed metal advertisement that was loose anchored to the brick wall, \" Bentz said.\n",
      "Found: O\n",
      "Found: VERB\n",
      "Correct: O\n",
      "Correct: VERB\n",
      "Correct: ADV\n",
      "But it is made worse by the fact that we would not actually be there to pay, unless we assumes rebirth.\n",
      "Found: O\n",
      "Found: VERB\n",
      "Correct: O\n",
      "Correct: VERB\n",
      "History professor Chuck Ross, director of the African-American Studies Program at Ole Miss, says the speech \" was almost like firing on Fort Sumter in 1861.\n",
      "Found: O\n",
      "Correct: O\n",
      "In 2012, Claye also finished second to Taylor at the London Games, where he also won a bronze in the long jump.\n",
      "Found: O\n",
      "Correct: O\n",
      "Lounge car in the Rovos Rail.\n",
      "Found: O\n",
      "Correct: O\n",
      "\" The cutline under the photo read: \" A police officer scuffling with a Hasidic man yesterday on President Street. \"  Goldman finally reached his \" breaking point \" when demonstrators on Eastern Parkway started chanting \" Heil Hitler \" and \" Death to the Jews. \"\n",
      "Found: O\n",
      "Correct: O\n",
      "and you is out.\n",
      "Found: O\n",
      "Found: VERB\n",
      "Correct: O\n",
      "Correct: VERB\n",
      "\" It be going to be prominent.\n",
      "Found: O\n",
      "Found: VERB\n",
      "Correct: O\n",
      "Correct: VERB\n",
      "He's believed to have a solid shot at gold in Rio.\n",
      "Found: O\n",
      "Correct: O\n",
      "but health officials estimate lifetime care for a child adversely affected in the womb could is as high as $10 million.\n",
      "Found: O\n",
      "Correct: O\n",
      "Correct: VERB\n",
      "The utility were acquitted on charges of knowingly failing to maintains proper records.\n",
      "Found: O\n",
      "Found: VERB\n",
      "Correct: O\n",
      "Correct: VERB\n",
      "\" I would say, ' On the way to work I 'm thinking about the 20 things on my to-do list when I gets into the office, ' \" said Amanda Lachapelle, director of HR and talent acquisition for Glassdoor. \"\n",
      "Found: O\n",
      "Found: VERB\n",
      "Correct: O\n",
      "Correct: VERB\n",
      "It tasted like C-rations marked from 1944.\n",
      "Found: O\n",
      "Correct: O\n",
      "The ideal situation is for each of these airline's to substitute other plane's for the Dreamliner flights, which is why United's online update states: \" We are using other aircraft to operate flights that were scheduled with our 787's.\n",
      "Found: O\n",
      "Found: POSSESSIVE\n",
      "Correct: O\n",
      "Correct: POSSESSIVE\n",
      "\" It was really hot, \" and some kind of sports competition was in town.\n",
      "Found: O\n",
      "Correct: O\n",
      "It's going to be a good year for commodities, \" Eugen Weinberg, global head of commodities research at Commerzbank told CNBC on Friday, pointing to the Bank of Japan's commitment to open-ended easing this week.\n",
      "Found: O\n",
      "Correct: O\n",
      "\" I thinks journalists have a special responsibility to our democracy in a time like this, \" Clinton said.\n",
      "Found: O\n",
      "Found: VERB\n",
      "Correct: O\n",
      "Correct: VERB\n",
      "The incident allegedly traumatized the son.\n",
      "Found: O\n",
      "Correct: O\n",
      "Touma is now living with his parents in the center of Aleppo and considers himself lucky.\n",
      "Found: O\n",
      "Correct: O\n",
      "Another author, Roseanne Montillo, is now working on her own book, and according to the Hollywood Reporter, the movie rights have already sold\n",
      "Found: O\n",
      "Correct: O\n",
      "We report on news that can makes a difference for your health and show how policy shape our health choices.\n",
      "Found: O\n",
      "Found: VERB\n",
      "Correct: O\n",
      "Correct: VERB\n",
      "The disturbing vision of a robot-infested world am depicted in HBO's upcoming new sci-fi series \" Westworld \" --\n",
      "Found: O\n",
      "Correct: O\n",
      "Correct: VERB\n",
      "That be the bottom line.\n",
      "Found: O\n",
      "Found: VERB\n",
      "Correct: O\n",
      "Correct: VERB\n",
      "Wilder began directing himself, in 1975's The Adventure of Sherlock Holmes ' Smarter Brother, and 1977's The World's Greatest Lover, and found a new comedy partner in Pryor, starting with the 1976 heist comedy Silver Streak.\n",
      "Found: O\n",
      "Correct: O\n",
      "The union also worked to portray the man killed in the shooting as a hardened criminal.\n",
      "Found: O\n",
      "Correct: O\n",
      "He's just a little boy. \"\n",
      "Found: O\n",
      "Correct: O\n",
      "what we was known for, which primarily had been for cover music or certainly not as any kind of hotbed for creative output, \" Chisel said.\n",
      "Found: O\n",
      "Found: VERB\n",
      "Correct: O\n",
      "Correct: VERB\n",
      "Christopher Hanewinckel, USA TODAY Sports  Aug. 16: Laura Ludwig of Germany couldn't come up with this dig during the woman's beach volleyball semifinals, but she and partner Kira Walkenhorst recovered good.\n",
      "Found: O\n",
      "Found: ADV\n",
      "Correct: O\n",
      "Correct: WOMAN\n",
      "\" Individually, and together as a group. \"\n",
      "Found: O\n",
      "Correct: O\n",
      "Replies to those post's appear here, as good as posts by staff writers.\n",
      "Found: O\n",
      "Found: POSSESSIVE\n",
      "Found: ADV\n",
      "Correct: O\n",
      "Correct: POSSESSIVE\n",
      "Correct: ADV\n",
      "Benchmark U.S. crude lost 14 cents to $40.69 per barrel in New York.\n",
      "Found: O\n",
      "Correct: O\n",
      "But in Brooklyn, I got to cut loose and say to myself, look, this is my shot.\n",
      "Found: O\n",
      "Correct: O\n",
      "Is I crazy for thinking about walking away from what so many people in the world desperately wants?\n",
      "Found: O\n",
      "Found: VERB\n",
      "Correct: O\n",
      "Correct: VERB\n",
      "After all, registering a car requires insurance on the ground's that cars can cause involuntary harm to others.\n",
      "Found: O\n",
      "Found: POSSESSIVE\n",
      "Correct: O\n",
      "Correct: POSSESSIVE\n",
      "Vicki Polito, who chaired the event, said her organization is proud that it be built a tradition that's lasted 36 years.\n",
      "Found: O\n",
      "Found: VERB\n",
      "Correct: O\n",
      "Correct: VERB\n",
      "Last week, Kelly said he was disappointed, embarrassed and \" mad as hell \" upon hearing of the arrests.\n",
      "Found: O\n",
      "Correct: O\n",
      "The ACLU called the standards \" stringent, \" but said in a statement that the administration has yet to make clear which strike's follow the guideline's in the playbook, and whether the president ever waives them.\n",
      "Found: O\n",
      "Found: POSSESSIVE\n",
      "Correct: O\n",
      "Correct: POSSESSIVE\n",
      "\" My sons were killed simple for being Sunni. \"\n",
      "Found: O\n",
      "Correct: O\n",
      "Correct: ADV\n",
      "(NEWSER) --\n",
      "Found: O\n",
      "Correct: O\n",
      "So say a good portion of the commenter's reacting to a semi-satirical article by comedian-columnist Dean Obeidallah, who noted the difficulty he had spending a day without a cell phone.\n",
      "Found: O\n",
      "Found: POSSESSIVE\n",
      "Correct: O\n",
      "Correct: POSSESSIVE\n",
      "This is going to be a spot where a lot of her fan's be going to come and see her and say, ' Yes, she represents us. '\n",
      "Found: O\n",
      "Found: POSSESSIVE\n",
      "Found: VERB\n",
      "Correct: O\n",
      "Correct: POSSESSIVE\n",
      "Correct: VERB\n",
      "In one of the most extensive studies on the link to date, researchers analyzed 12 earlier studies involving more then 9,300 patients with non-melanoma skin cancer.\n",
      "Found: O\n",
      "Correct: O\n",
      "Correct: THEN\n",
      "\" I have some concerns about his health because of his age, but I believe he wills make a great president, \" she said.\n",
      "Found: O\n",
      "Found: VERB\n",
      "Correct: O\n",
      "Correct: VERB\n",
      "Adding the cost of insurance might make the purchaser bear the full cost of the gun in the future, which could easy exceeds the purchase itself.\n",
      "Found: O\n",
      "Found: VERB\n",
      "Found: ADV\n",
      "Correct: O\n",
      "Correct: VERB\n",
      "Correct: ADV\n",
      "\" I want her to comes walking back through that door, \" she said.\n",
      "Found: O\n",
      "Found: VERB\n",
      "Correct: O\n",
      "Correct: VERB\n",
      "One of Bridgeman's home health care aide's allegedly told the public guardian that Bridgeman sometimes seemed confused and treated Chervyatiuk like her deceased husband.\n",
      "Found: O\n",
      "Found: POSSESSIVE\n",
      "Correct: O\n",
      "Correct: POSSESSIVE\n",
      "Pixar is here.\n",
      "Found: O\n",
      "Correct: O\n",
      "Ind.  Schumer were surprised by the atmosphere at this club located in the hometown of Indiana University.\n",
      "Found: O\n",
      "Correct: O\n",
      "Correct: VERB\n",
      "Hassan Mead of the United States falls down after clipping Mo Farrah of Great Britain during the man's's 5000 heats in the Rio 2016 Summer Olympic Games at Estadio Olimpico Joao Havelange.\n",
      "Found: O\n",
      "Found: POSSESSIVE\n",
      "Correct: O\n",
      "Correct: POSSESSIVE\n",
      "\" It's just like so many other lies.\n",
      "Found: O\n",
      "Found: VERB\n",
      "Correct: O\n",
      "But for those living nearby, the facilities often bring odors that represent more than an annoyance.\n",
      "Found: O\n",
      "Correct: O\n",
      "To pauses and restart automatic updates, clicks \" Live \" or \" Paused \".\n",
      "Found: O\n",
      "Found: VERB\n",
      "Correct: O\n",
      "Correct: VERB\n",
      "We get to know the bloated inner lives of several guest's through arias.\n",
      "Found: O\n",
      "Found: POSSESSIVE\n",
      "Correct: O\n",
      "Correct: POSSESSIVE\n",
      "\" We're never going to apologize for being that good.\n",
      "Found: O\n",
      "Correct: O\n",
      "There's a great case of Marcus Schrenker, who were a money manager in Indianapolis.\n",
      "Found: O\n",
      "Found: VERB\n",
      "Correct: O\n",
      "Correct: VERB\n",
      "After those damaging emails was publicly released by WikiLeaks, Florida Rep. Debbie Wasserman Schultz stepped down as DNC chairwoman.\n",
      "Found: O\n",
      "Found: VERB\n",
      "Correct: O\n",
      "Correct: VERB\n",
      "His term was cut to 10 year's.\n",
      "Found: O\n",
      "Found: POSSESSIVE\n",
      "Correct: O\n",
      "Correct: POSSESSIVE\n",
      "Joshua Ashe, 3 of Pasadena, tries a sample of A2 Milk during a public event at The Americana at Brand on Friday.\n",
      "Found: O\n",
      "Correct: O\n",
      "But a report from the Baton Rouge Area Chamber, a local economic development group, put the number at 110,000.\n",
      "Found: O\n",
      "Correct: O\n",
      "Companies often get hurt for good reasons; in RadioShack's case it be been declining revenue and margins resulting from very stiff competition in retail electronics.\n",
      "Found: O\n",
      "Found: VERB\n",
      "Correct: O\n",
      "Correct: VERB\n",
      "(Aug. 24)\n",
      "Found: O\n",
      "Correct: O\n",
      "But he said more reforms am necessary to assures the safety of coal miners.\n",
      "Found: O\n",
      "Found: VERB\n",
      "Correct: O\n",
      "Correct: VERB\n",
      "They say revenge be a dish best served cold.\n",
      "Found: O\n",
      "Found: VERB\n",
      "Correct: O\n",
      "Correct: VERB\n",
      "the magic of Harry Potter  Copy'S of the book ' Harry Potter and the Cursed Child ' is displayed on the day of its release at a bookstore in Hong Kong on July 31, 2016.\n",
      "Found: O\n",
      "Found: POSSESSIVE\n",
      "Correct: O\n",
      "Correct: POSSESSIVE\n",
      "Correct: VERB\n",
      "It's kind of a standard third-person voice at first, and then, as quickly as I cans, I tries to get into the person's thoughts, but then with the extra kicker of trying to uses or restrict myself to his or her diction.\n",
      "Found: O\n",
      "Found: VERB\n",
      "Correct: O\n",
      "Correct: VERB\n",
      "But Does They Work?\n",
      "Found: O\n",
      "Found: VERB\n",
      "Correct: O\n",
      "Correct: VERB\n",
      "Shelves are packed with chunks of coral Kuffner has collected.\n",
      "Found: O\n",
      "Correct: O\n",
      "And her father said, it's stealing.\n",
      "Found: O\n",
      "Correct: O\n",
      "The mother of Pennsylvania twins whom child welfare caseworkers haven't been able to locates for more than 10 year's have been ordered to undergoes a mental health evaluation.\n",
      "Found: O\n",
      "Found: POSSESSIVE\n",
      "Found: VERB\n",
      "Correct: O\n",
      "Correct: POSSESSIVE\n",
      "Correct: VERB\n",
      "The limousine driver and passengers sued Silva, including a woman who alleged inappropriate advances by the mayor.\n",
      "Found: O\n",
      "Correct: O\n",
      "The late Associated Press writer Bob Thomas contributed biographical material to this report.\n",
      "Found: O\n",
      "Correct: O\n",
      "Bob Seidenberg / Pioneer Press\n",
      "Found: O\n",
      "Correct: O\n",
      "Is companies misclassifying?\n",
      "Found: O\n",
      "Correct: O\n",
      "Correct: VERB\n",
      "Replies to those posts appear here, as good as posts by staff writers.\n",
      "Found: O\n",
      "Found: ADV\n",
      "Correct: O\n",
      "Correct: ADV\n",
      "On Monday, L.A. Unified attorney Greg McNair said the district is still evaluating the state's position but does not believe it needs to change how it manages it's budget.\n",
      "Found: O\n",
      "Correct: O\n",
      "It's voiced by Art Parkinson, Charlize Theron and Matthew McConaughey, among others.\n",
      "Found: O\n",
      "Correct: O\n",
      "In reality, this be a situation when the video can lies -- and Trump's odd sense of humor can backfire.\n",
      "Found: O\n",
      "Found: VERB\n",
      "Correct: O\n",
      "Correct: VERB\n",
      "Hear that conversation at the audio link above.\n",
      "Found: O\n",
      "Correct: O\n",
      "16 hour's before they found Lane's body intact not far from the shore.\n",
      "Found: O\n",
      "Found: POSSESSIVE\n",
      "Correct: O\n",
      "Correct: POSSESSIVE\n",
      "\" Each one has two child, they were about the same age, and they were both looking for a new spouse.\n",
      "Found: O\n",
      "Found: CHILD\n",
      "Correct: O\n",
      "Correct: CHILD\n",
      "ITT is under threat of having it's accreditation revoked, which could lead its 137 campus's to close and result in tens of thousand's of students seeking loan forgiveness.\n",
      "Found: O\n",
      "Found: POSSESSIVE\n",
      "Found: ITS\n",
      "Correct: O\n",
      "Correct: POSSESSIVE\n",
      "Correct: ITS\n",
      "In one of the funnier bit's, subtitles fact-check her as she rattles off states she regards as success stories.\n",
      "Found: O\n",
      "Found: POSSESSIVE\n",
      "Found: VERB\n",
      "Correct: O\n",
      "Correct: POSSESSIVE\n",
      "Hugh Grant also star in the movie and plays the husband of Streep's character.\n",
      "Found: O\n",
      "Found: VERB\n",
      "Correct: O\n",
      "Correct: VERB\n",
      "In essence, we are all public figure's on some small scale and like an attention hungry celeb, we wants to see reactions to our post's whether they discusses the intimate details of a romantic relationship or frustration with our boss.\n",
      "Found: O\n",
      "Found: POSSESSIVE\n",
      "Found: VERB\n",
      "Correct: O\n",
      "Correct: POSSESSIVE\n",
      "Correct: VERB\n",
      "However, Cannon said, there be no oversight of that reporting requirement for balloon pilots. \"\n",
      "Found: O\n",
      "Correct: O\n",
      "Correct: VERB\n",
      "We battened down the money hatch's:\n",
      "Found: O\n",
      "Found: POSSESSIVE\n",
      "Correct: O\n",
      "Correct: POSSESSIVE\n",
      "(Dec. 16)\n",
      "Found: O\n",
      "Correct: O\n",
      "Oh, and a driverless car or two in the garage.\n",
      "Found: O\n",
      "Correct: O\n",
      "So Harry may be the title's cursed children, and so could Albus, who wonder how he can live up to his father's accomplishment's.\n",
      "Found: O\n",
      "Found: POSSESSIVE\n",
      "Found: VERB\n",
      "Correct: O\n",
      "Correct: POSSESSIVE\n",
      "Correct: VERB\n",
      "Correct: CHILD\n",
      "As Stephen Prothero explain in his book \" Religious Illiteracy, \" the majority of Americans can only name four of the Ten Commandments and very little else.\n",
      "Found: O\n",
      "Found: VERB\n",
      "Correct: O\n",
      "Correct: VERB\n",
      "A Gallup poll shows that Hillary Clinton maintain a very big advantage among Hispanic voter's.\n",
      "Found: O\n",
      "Found: POSSESSIVE\n",
      "Found: VERB\n",
      "Correct: O\n",
      "Correct: POSSESSIVE\n",
      "Correct: VERB\n",
      "Should he am elected president, Trump said he would ask the State Department and Department of Homeland Security to identifies those places and stop processing visa's for people looking to come to the United States from there.\n",
      "Found: O\n",
      "Found: POSSESSIVE\n",
      "Found: VERB\n",
      "Correct: O\n",
      "Correct: POSSESSIVE\n",
      "Correct: VERB\n",
      "Further, golf is a more gentle activity then basketball, Mr. Obama's first love among sport's.\n",
      "Found: O\n",
      "Found: POSSESSIVE\n",
      "Found: THEN\n",
      "Correct: O\n",
      "Correct: POSSESSIVE\n",
      "Correct: THEN\n",
      "The moment became truly surreal for Bogataj when Muhammad Ali asked for his autograph.\n",
      "Found: O\n",
      "Correct: O\n",
      "Those asked the generic question oppose removing the term limit by 81-17 percent.\n",
      "Found: O\n",
      "Correct: O\n",
      "What's interesting is the increase in those kinds of activities is more pronounced among low income families over this 12-year period than it be among high income families.\n",
      "Found: O\n",
      "Correct: O\n",
      "Correct: VERB\n",
      "Yes, other foods matter, but the biggest single source contributor to child and adult obesity in the USA be sugar-sweetened beverages. \"\n",
      "Found: O\n",
      "Correct: O\n",
      "Correct: VERB\n",
      "He be not home.\n",
      "Found: O\n",
      "Found: VERB\n",
      "Correct: O\n",
      "Correct: VERB\n",
      "regulation department moved to suspend his license.\n",
      "Found: O\n",
      "Correct: O\n",
      "The company pointed out that, although it had been found guilty on six count's, it was found not guilty on six others, as though the final score ended up in a tie.\n",
      "Found: O\n",
      "Found: POSSESSIVE\n",
      "Correct: O\n",
      "Correct: POSSESSIVE\n",
      "Her face popped up as ' people you may know. '\n",
      "Found: O\n",
      "Correct: O\n",
      "And one type of whole grain in particular -- oats -- has a unique antioxidant called avenanthramides that can offer additional protection against cholesterol.\n",
      "Found: O\n",
      "Correct: O\n",
      "\" It's important as the fans really identifies with these players and this is the philosophy of the club.\n",
      "Found: O\n",
      "Found: VERB\n",
      "Correct: O\n",
      "Correct: VERB\n",
      "Even high schools that claim they do not rank often provide a very exact GPA distribution that allow colleges to \" forces \" a rank.\n",
      "Found: O\n",
      "Found: VERB\n",
      "Correct: O\n",
      "Correct: VERB\n",
      "She explained that she had just gone through a break-up.\n",
      "Found: O\n",
      "Correct: O\n",
      "Having fled the crime scene, Lewis told the limo's passengers to \" keep their mouths shut.\n",
      "Found: O\n",
      "Correct: O\n",
      "\" But if your audience are people who already are in a lifestyle or are being introduced to the lifestyle, it starts to give misinformation. \"\n",
      "Found: O\n",
      "Correct: O\n",
      "Correct: VERB\n",
      "But the college would do everything and more to help the girl in all ways possible at all time's.\n",
      "Found: O\n",
      "Found: POSSESSIVE\n",
      "Correct: O\n",
      "Correct: POSSESSIVE\n",
      "One woman and four men were injured.\n",
      "Found: O\n",
      "Correct: O\n",
      "Trump suggested Wednesday night that those here illegal could pays back taxes as a way to remains in the U.S.\n",
      "Found: O\n",
      "Found: VERB\n",
      "Correct: O\n",
      "Correct: VERB\n",
      "Correct: ADV\n",
      "So as soon as it's done we gets everyone back together while all of the events am still fresh on their minds and, like your hot wash cycle on your washing machine at home, and we go through\n",
      "Found: O\n",
      "Found: VERB\n",
      "Correct: O\n",
      "Correct: VERB\n",
      "Earlier this month, ISIS introduced a new Boko Haram leader named Abu Musab al-Barnawi.\n",
      "Found: O\n",
      "Correct: O\n",
      "It was almost an education for the president.\n",
      "Found: O\n",
      "Correct: O\n",
      "Comments our editors finds particularly useful or relevant are displayed in Top Comments, as is comments by users with these badges:.\n",
      "Found: O\n",
      "Found: VERB\n",
      "Correct: O\n",
      "Correct: VERB\n",
      "\" That's how I keeps in touch, \" Stine said.\n",
      "Found: O\n",
      "Found: VERB\n",
      "Correct: O\n",
      "Correct: VERB\n",
      "She am also accused of hacking Jenner's Instagram and iCloud account's and making multiple call's to police in which she impersonated Jenner.\n",
      "Found: O\n",
      "Found: POSSESSIVE\n",
      "Found: VERB\n",
      "Correct: O\n",
      "Correct: POSSESSIVE\n",
      "Correct: VERB\n",
      "\" That have lots of design requirement's that contradict what you need for either a fighter or a bomber.\n",
      "Found: O\n",
      "Found: POSSESSIVE\n",
      "Found: VERB\n",
      "Correct: O\n",
      "Correct: POSSESSIVE\n",
      "Correct: VERB\n",
      "An article on look at the visual matter what.\n",
      "Found: O\n",
      "Correct: O\n",
      "Oppenheimer said the video's exposes the need to improve officers ' training.\n",
      "Found: O\n",
      "Found: POSSESSIVE\n",
      "Found: VERB\n",
      "Correct: O\n",
      "Correct: POSSESSIVE\n",
      "Correct: VERB\n",
      "I speak the truth on behalf of the family living near the border that deserves to am safe in their own country but be instead living with no security at all.\n",
      "Found: O\n",
      "Found: VERB\n",
      "Correct: O\n",
      "Correct: VERB\n",
      "While the US government is trying to criminalize tran's bodies for existing, while violence against trans women of color is on the rise, I think the question should be, ' How do we views where the rest of society is right now and where it be going? '\n",
      "Found: O\n",
      "Found: POSSESSIVE\n",
      "Found: VERB\n",
      "Correct: O\n",
      "Correct: POSSESSIVE\n",
      "Correct: VERB\n",
      "Arrest the protesters and lock them up.\n",
      "Found: O\n",
      "Correct: O\n",
      "surpass previous years and continue to climb, with 27 adult deaths so far.\n",
      "Found: O\n",
      "Found: VERB\n",
      "Correct: O\n",
      "The Hungry Ear: Poems of Food &amp; Drink.\n",
      "Found: O\n",
      "Correct: O\n",
      "Moms Explain Why They're Getting Back In The Picture (PHOTOS)\n",
      "Found: O\n",
      "Correct: O\n",
      "\" I 'm the kind of guy who buys underwear only when I have to, \" Chukalas said.\n",
      "Found: O\n",
      "Correct: O\n",
      "As described in a published report by Coffman, she used ketamine when treating a patient who had treatment-resistant depression; none of the antidepressants he had tried alleviated his symptoms.\n",
      "Found: O\n",
      "Correct: O\n",
      "Boller said he could not immediately verify if Alotaibi had been at Lackland, but noted that international military students attend a Defense Language Institute English Language Center on the base to improve their English-language skills.\n",
      "Found: O\n",
      "Correct: O\n",
      "Leto am proud of his performance?\n",
      "Found: O\n",
      "Correct: O\n",
      "Correct: VERB\n",
      "\" Once he got the phone, he threw it across the room, \" the report said.\n",
      "Found: O\n",
      "Correct: O\n",
      "The first three of its six sections include a halting funeral march, a 1920s-sounding dance and a slow waltz featuring an unctuous clarinet and violin.\n",
      "Found: O\n",
      "Correct: O\n",
      "The U.K. is expected to avoid a recession, according to the Bank projections, but the low forecast suggests that the Bank feared the country would sink into recession without the new package of monetary policy measures.\n",
      "Found: O\n",
      "Correct: O\n",
      "\" We am not surprised,: \" Rosales said of the lawsuit by initiative supporters.\n",
      "Found: O\n",
      "Found: VERB\n",
      "Correct: O\n",
      "Correct: VERB\n",
      "The disruption in services am the result of a battle between the mayor and the city council over which company to grant the city's trash contract to after the most recent one expired Friday.\n",
      "Found: O\n",
      "Found: VERB\n",
      "Correct: O\n",
      "Correct: VERB\n",
      "But it looks more and more like speaking more than one language could help save you from Alzheimer's disease.\n",
      "Found: O\n",
      "Correct: O\n",
      "He had to stop by Bloomingdales to picks up dresses for his girl's for the \" War Dogs \" premiere in Los Angeles next week.\n",
      "Found: O\n",
      "Found: POSSESSIVE\n",
      "Found: VERB\n",
      "Correct: O\n",
      "Correct: POSSESSIVE\n"
     ]
    },
    {
     "name": "stdout",
     "output_type": "stream",
     "text": [
      "Correct: VERB\n",
      "\" First the water.\n",
      "Found: O\n",
      "Correct: O\n",
      "\" I learnt from him and\n",
      "Found: O\n",
      "Correct: O\n",
      "Has a stable income.\n",
      "Found: O\n",
      "Correct: O\n",
      "Correct: VERB\n",
      "\" Four people are under the rubble, but they are not showing any sign of life.\n",
      "Found: O\n",
      "Correct: O\n",
      "Could this am more obvious?\n",
      "Found: O\n",
      "Found: VERB\n",
      "Correct: O\n",
      "Correct: VERB\n",
      "But Obama has done good in his two elections among Cuban Americans, signaling that younger Cubans may be more open to easing travel rule's.\n",
      "Found: O\n",
      "Found: POSSESSIVE\n",
      "Found: ADV\n",
      "Correct: O\n",
      "Correct: POSSESSIVE\n",
      "Correct: ADV\n",
      "I musts have more energy.\n",
      "Found: O\n",
      "Found: VERB\n",
      "Correct: O\n",
      "Correct: VERB\n",
      "Rio 2016 officials said army and military police's will be increased in the area after the incident.\n",
      "Found: O\n",
      "Found: POSSESSIVE\n",
      "Correct: O\n",
      "Correct: POSSESSIVE\n",
      "The so-called Collar City is now frayed, but back in the mid-19th century it was a prosperous transportation nexus across the Hudson River from Albany, with a steel industry and shirt factories and scientific research facilities nurtured by the Rensselaer Polytechnic Institute.\n",
      "Found: O\n",
      "Correct: O\n",
      "Turner was Lester's brother and had let her stay at the house, which all the victims shared, McDaniel said.\n",
      "Found: O\n",
      "Correct: O\n",
      ", they're involved in shared decision-making, those are the qualities you want. \"\n",
      "Found: O\n",
      "Correct: O\n",
      "But fear amn't the best public health tool.\n",
      "Found: O\n",
      "Found: VERB\n",
      "Correct: O\n",
      "Correct: VERB\n",
      "If Williams had played in Cincinnati, in the event of a Kerber title, she would have needed to get to the quarters to stays at No. 1.\n",
      "Found: O\n",
      "Found: VERB\n",
      "Correct: O\n",
      "Correct: VERB\n",
      "He said he straightened thing's out by boosting quality through a system of \" mystery shopper's \" that measure a cross-sample of 4 million pizzas a week.\n",
      "Found: O\n",
      "Found: POSSESSIVE\n",
      "Correct: O\n",
      "Correct: POSSESSIVE\n",
      "Correct: VERB\n",
      "Conley had been involuntarily committed at a hospital not long after the May 2011 bank robbery and that he was arrested at the Tinley Park Mental Health Center for violating his California parole, according to Federal court records.\n",
      "Found: O\n",
      "Correct: O\n",
      "Why I Just Can't Support ' The Birth Of A Nation '\n",
      "Found: O\n",
      "Correct: O\n",
      "After his 270-foot jog, and lengthy loitering between pitches, Strasburg took his time taking the mound for the fourth.\n",
      "Found: O\n",
      "Correct: O\n",
      "It's interesting ' cause\n",
      "Found: O\n",
      "Correct: O\n",
      "The man were shot in the shoulder and went to Advocate Illinois Masonic Medical Center.\n",
      "Found: O\n",
      "Found: VERB\n",
      "Correct: O\n",
      "Correct: VERB\n",
      "Trump could make a difference in what is likely to be a punchy race between Knight, a freshman in Congress, and Caforio, a first-time candidate and lawyer.\n",
      "Found: O\n",
      "Correct: O\n",
      "\" Those who express strong support for him hold more negative views of undocumented immigrants than those who support him only moderately or leans toward him, \" according to the poll, a survey of 2,010 respondents, conducted in English and Spanish, earlier this month.\n",
      "Found: O\n",
      "Found: VERB\n",
      "Correct: O\n",
      "Correct: VERB\n",
      "Three children are reported to have fallen out of a Ferris wheel at the Greene County Fair in Tennessee, Aug. 8, 2016.\n",
      "Found: O\n",
      "Correct: O\n",
      "But then I saw her move, and it made me feels a lot better, \" she said.\n",
      "Found: O\n",
      "Found: VERB\n",
      "Correct: O\n",
      "Correct: VERB\n",
      "Among the victims were two girls, 18-month-old Marisol Piermarini and 9-year-old Giulia Rinaldo, whose younger sister survived beneath the rubble, still holding her dead sibling.\n",
      "Found: O\n",
      "Correct: O\n",
      "I appreciate that he want me to have some things that my mom got me so I cans remember her. \"\n",
      "Found: O\n",
      "Found: VERB\n",
      "Correct: O\n",
      "Correct: VERB\n",
      "Revelation'S of the issue at the VA hospital led the Department of Veterans Affairs Inspector General to initiate a review of the Buffalo hospital.\n",
      "Found: O\n",
      "Found: POSSESSIVE\n",
      "Correct: O\n",
      "Correct: POSSESSIVE\n",
      "Le Coucou's been packed since it opened in June.\n",
      "Found: O\n",
      "Correct: O\n",
      "\" Nobody is buying this PR move anymore.\n",
      "Found: O\n",
      "Correct: O\n",
      "And, to be clear, there be no irrefutable proof to the contrary.\n",
      "Found: O\n",
      "Found: VERB\n",
      "Correct: O\n",
      "Correct: VERB\n",
      "And perhaps most visibly, he wrote the 2005 bill to legalizes same-sex marriage's, a bill former Gov. Arnold Schwarzenegger vetoed.\n",
      "Found: O\n",
      "Found: POSSESSIVE\n",
      "Found: VERB\n",
      "Correct: O\n",
      "Correct: POSSESSIVE\n",
      "Correct: VERB\n",
      "Of the the $1,042,000 the Clintons gave to charity as listed on their return, $1 million of that went to the Clinton Family Foundation.\n",
      "Found: O\n",
      "Correct: O\n",
      "And so I think I was like a lot of kid's in the ' 90s for whom Kwanzaa was kind of in the background\n",
      "Found: O\n",
      "Found: POSSESSIVE\n",
      "Correct: O\n",
      "Correct: POSSESSIVE\n",
      "Ten month's on, Federer has a further six titles under his belt, and heads towards November's season-ending ATP World Tour Finals with just his own records as the oldest winner and six-time champion to beats.\n",
      "Found: O\n",
      "Found: POSSESSIVE\n",
      "Found: VERB\n",
      "Correct: O\n",
      "Correct: POSSESSIVE\n",
      "ABC relied on claims from Kit Foshee, who they said, was the \" number two \" person at BPI.\n",
      "Found: O\n",
      "Correct: O\n",
      "I worked really hard to get there and just.\n",
      "Found: O\n",
      "Correct: O\n",
      "\" So some of your low points don't come from something you necessarily do; they come from the exterior part's of the world that actually wants to bring you down. \"\n",
      "Found: O\n",
      "Found: POSSESSIVE\n",
      "Correct: O\n",
      "Correct: POSSESSIVE\n",
      "The New Orleans Suspects, demonstrates how the same piece of music might sounds if played by Professor Longhair or his gifted disciples James Booker and Dr. John.\n",
      "Found: O\n",
      "Correct: O\n",
      "Correct: VERB\n",
      "The pipeline itself would carries about a million barrels of highly carbon-intensive oil down into the U.S., most likely to is exported.\n",
      "Found: O\n",
      "Found: VERB\n",
      "Correct: O\n",
      "Correct: VERB\n",
      "Last week, a Chicago student was struck and killed by a semi when it veered into a popular but unprotected bike lane.\n",
      "Found: O\n",
      "Correct: O\n",
      "It's a little thing in the race, but\n",
      "Found: O\n",
      "Correct: O\n",
      "Glen Grove students ' excited ' for first day of school  Third through fifth grade students at Glen Grove Elementary School hopped off the school bus on Tuesday and were greeted by smiling school staff welcoming them to their first day of school.\n",
      "Found: O\n",
      "Correct: O\n",
      "But every other work-social function, she would not attend.\n",
      "Found: O\n",
      "Correct: O\n",
      "Fourth-ranked Florida State and No. 10\n",
      "Found: O\n",
      "Correct: O\n",
      "By the time a rhythmic gymnastic's coach spotted her at a local community center, an encounter that eventually led to a spot on the 1988 U.S. Olympic team, the 13-year-old Simpson was already primed for athletic success.\n",
      "Found: O\n",
      "Found: POSSESSIVE\n",
      "Correct: O\n",
      "Correct: POSSESSIVE\n",
      "Speedo said it will donate a portion of Lochte's $50,000 fee to the global charity Save The Children.\n",
      "Found: O\n",
      "Correct: O\n",
      "\" At 22, I had something I loved to do, make pizza, and something I were good at, running a business, \" he said.\n",
      "Found: O\n",
      "Found: VERB\n",
      "Correct: O\n",
      "Correct: VERB\n",
      "Learn more or contacts us.\n",
      "Found: O\n",
      "Found: VERB\n",
      "Correct: O\n",
      "Correct: VERB\n",
      "Current figures are not yet available.\n",
      "Found: O\n",
      "Correct: O\n",
      "Of course there is numerous other special places in need of protection --- from the California Central Coast to the Castner Range near El Paso, Texas to Cashes\n",
      "Found: O\n",
      "Found: VERB\n",
      "Correct: O\n",
      "Correct: VERB\n",
      "In a statement, South Korea's Financial Services Commission said that the government will \" promote sales of Hanjin Shipping's core asset's to Hyundai Merchant Marine in a bid to maintain competitiveness of the shipping industry. \"\n",
      "Found: O\n",
      "Found: POSSESSIVE\n",
      "Correct: O\n",
      "Correct: POSSESSIVE\n",
      "Replies to those posts appear here, as well as posts by staff writers.\n",
      "Found: O\n",
      "Correct: O\n",
      ", what does that feel like?\n",
      "Found: O\n",
      "Found: VERB\n",
      "Correct: O\n",
      "But you can find us every day on Facebook, Twitter, email, and many other platforms.\n",
      "Found: O\n",
      "Correct: O\n",
      "They is her policies she comes out with the policies and other's\n",
      "Found: O\n",
      "Found: POSSESSIVE\n",
      "Found: VERB\n",
      "Correct: O\n",
      "Correct: POSSESSIVE\n",
      "Correct: VERB\n",
      "And, I would say the co-founder woulds is crooked Hillary Clinton.\n",
      "Found: O\n",
      "Found: VERB\n",
      "Correct: O\n",
      "Correct: VERB\n",
      "Severe obesity is no exception.\n",
      "Found: O\n",
      "Correct: O\n",
      "The acquisition of knowledge need not be like listening to the Gregorian chant. \"\n",
      "Found: O\n",
      "Correct: O\n",
      "Girls, which Dunham writes and also stars in, begins it's second season on January 13.\n",
      "Found: O\n",
      "Found: ITS\n",
      "Correct: O\n",
      "Correct: ITS\n",
      "You knows, I 'm a white guy, and\n",
      "Found: O\n",
      "Found: VERB\n",
      "Correct: O\n",
      "Correct: VERB\n",
      "The Politics Of Disaster Aid Are Starting To Shifts\n",
      "Found: O\n",
      "Found: VERB\n",
      "Correct: O\n",
      "Correct: VERB\n",
      "Goals from Algeria midfielder Karim Matmour and German defender\n",
      "Found: O\n",
      "Correct: O\n",
      "The officer was placed on paid leave, and an autopsy will determines if drugs or alcohol was involved.\n",
      "Found: O\n",
      "Found: VERB\n",
      "Correct: O\n",
      "Correct: VERB\n",
      "The veto came after the county objected to the wording of the bill.\n",
      "Found: O\n",
      "Correct: O\n",
      "Whatever he said, they believed. \"\n",
      "Found: O\n",
      "Correct: O\n",
      "Lynn Chandler, 48, a former McDonald's manager of IT procurement, am among them.\n",
      "Found: O\n",
      "Correct: O\n",
      "The average score in Virginia, where 31 percent of graduate's took the test, was 23.3.\n",
      "Found: O\n",
      "Found: POSSESSIVE\n",
      "Correct: O\n",
      "Correct: POSSESSIVE\n",
      "Our thoughts and prayers are with his wonderful wife and his two beautiful girl's. \"\n",
      "Found: O\n",
      "Found: POSSESSIVE\n",
      "Correct: O\n",
      "Correct: POSSESSIVE\n",
      "Other than the love Christ has for us, there be no greater love then sic that of a parent for their child.\n",
      "Found: O\n",
      "Found: VERB\n",
      "Found: THEN\n",
      "Correct: O\n",
      "Correct: VERB\n",
      "Former President Bill Clinton and his daughter Chelsea are shown around an herb garden in May of 2015 by pupils and staff of a school in Nairobi, Kenya that receive support from the Clinton Foundation.\n",
      "Found: O\n",
      "Found: VERB\n",
      "Correct: O\n",
      "Correct: VERB\n",
      "He wrote a commentary to accompanies the study in the same issue of the journal.\n",
      "Found: O\n",
      "Found: VERB\n",
      "Correct: O\n",
      "Correct: VERB\n",
      "The boys, who were conjoined at the chest, also suffered from cleft lip and cleft palate (facial and oral malformation's) and liver distortion's, the nonprofit humanitarian group said.\n",
      "Found: O\n",
      "Found: POSSESSIVE\n",
      "Correct: O\n",
      "Correct: POSSESSIVE\n",
      "But my harsh reaction isn't about religious beliefs, personal standard's of conduct, or legal views on decency.\n",
      "Found: O\n",
      "Found: POSSESSIVE\n",
      "Correct: O\n",
      "Correct: POSSESSIVE\n",
      "While some have raised questions in recent day's about whether Trump should receive classified intelligence briefings, the president reiterated the need for both the Republican and Democratic nominees to get the information.\n",
      "Found: O\n",
      "Found: POSSESSIVE\n",
      "Correct: O\n",
      "Correct: POSSESSIVE\n",
      "She watches while a father pushes a toddler on a swing.\n",
      "Found: O\n",
      "Correct: O\n",
      "Ashleigh Johnson makes a save during woman's's water polo preliminary round match against Spain at the 2016 Summer Olympics on Aug. 9, 2016.\n",
      "Found: O\n",
      "Found: POSSESSIVE\n",
      "Correct: O\n",
      "Correct: POSSESSIVE\n",
      "Hirshhorn Museum in Washington,\n",
      "Found: O\n",
      "Correct: O\n",
      "But he also fully committed to every performance.\n",
      "Found: O\n",
      "Correct: O\n",
      "A court in Cambodia has convicted a prominent journalist and pro-democracy activist on charges of convincing villager's in eastern Cambodia to rise up and declare independence from the country.\n",
      "Found: O\n",
      "Found: POSSESSIVE\n",
      "Correct: O\n",
      "Correct: POSSESSIVE\n",
      "In addition, women accounted for 70% of the donor's who contribute multiple times.\n",
      "Found: O\n",
      "Found: POSSESSIVE\n",
      "Correct: O\n",
      "Correct: POSSESSIVE\n",
      "Independent Voice for Illinois collected one of its biggest donations to date in late June, when it received $150,000 from out of state.\n",
      "Found: O\n",
      "Correct: O\n",
      "And it won't am quick either.\n",
      "Found: O\n",
      "Found: VERB\n",
      "Correct: O\n",
      "Correct: VERB\n",
      "There is some athlete's which struggle to live up to the hype -- but in Rio it were the hype which failed to keep up with Simone Biles.\n",
      "Found: O\n",
      "Found: POSSESSIVE\n",
      "Found: VERB\n",
      "Correct: O\n",
      "Correct: POSSESSIVE\n",
      "Correct: VERB\n",
      "Authority'S was working to identify the three people found dead after a truck linked to three missing Fontana teens was found 900 feet over the side of Angeles Crest Highway above Altadena Monday evening.\n",
      "Found: O\n",
      "Found: POSSESSIVE\n",
      "Found: VERB\n",
      "Correct: O\n",
      "Correct: POSSESSIVE\n",
      "Correct: VERB\n",
      "The Polsky Center had been part of the Booth School of Business since it was established in 2002.\n",
      "Found: O\n",
      "Correct: O\n",
      "The group recommends strengthening the U.S. Environmental Protection Agency's health standard for ozone pollution from the current 70 parts per billion to 60 ppb and its annual limit on fine particle pollution from 12 micrograms per cubic meter to 11.\n",
      "Found: O\n",
      "Correct: O\n",
      "Giustra had dinner in 2010 with Bill and Hillary Clinton right before the Clintons met with the president of Colombia.\n",
      "Found: O\n",
      "Correct: O\n",
      "After wrapping up in Indiana, the team headed to South Dakota to enlists the help of the Hutterites.\n",
      "Found: O\n",
      "Found: VERB\n",
      "Correct: O\n",
      "Correct: VERB\n",
      "He has five grandchild's.\n",
      "Found: O\n",
      "Found: POSSESSIVE\n",
      "Correct: O\n",
      "Correct: POSSESSIVE\n",
      "(I didn't cry, but plenty of others did, and I really only cry at movies about emotionally stunted men who disappoint everyone around them.\n",
      "Found: O\n",
      "Correct: O\n",
      "UD graduate across the country wills are getting into the act, too.\n",
      "Found: O\n",
      "Found: VERB\n",
      "Correct: O\n",
      "Correct: VERB\n",
      "And if you're curious about our name, Goats and Soda, here's the story.\n",
      "Found: O\n",
      "Correct: O\n",
      "(Read More: Obama Inauguration:\n",
      "Found: O\n",
      "Correct: O\n",
      "and I did that.\n",
      "Found: O\n",
      "Correct: O\n",
      "So far, they're not seeing much of a benefit.\n",
      "Found: O\n",
      "Correct: O\n",
      "At least eight Americans have been killed by drone attacks, but only one -- Anwar Awlaki, an Al Qaeda leader in Yemen -- was specifically targeted.\n",
      "Found: O\n",
      "Correct: O\n",
      "In fact, the trip itself looks like a fresh chapter of tension in a dispute that has raged between the two neighbors for decade's.\n",
      "Found: O\n",
      "Found: POSSESSIVE\n",
      "Correct: O\n",
      "Correct: POSSESSIVE\n",
      "\" I was 6 years old\n",
      "Found: O\n",
      "Correct: O\n",
      ", \" Sallie Chapman told WAVY after the bond hearing. \"\n",
      "Found: O\n",
      "Correct: O\n",
      "California Department of Forestry and Fire Protection\n",
      "Found: O\n",
      "Correct: O\n",
      "It was more like the land of the lost....\n",
      "Found: O\n",
      "Found: VERB\n",
      "Correct: O\n",
      "Well maybe different boats\n",
      "Found: O\n",
      "Correct: O\n",
      "\" The FA should be looking at this. \"\n",
      "Found: O\n",
      "Correct: O\n",
      "If you own a nice pair of specs or shades, they is probably theirs.\n",
      "Found: O\n",
      "Found: VERB\n",
      "Correct: O\n",
      "Correct: VERB\n",
      "\" The goal wasn't, what be we going to turn this into, \" explains Reyfel.\n",
      "Found: O\n",
      "Found: VERB\n",
      "Correct: O\n",
      "He joins us by phone from his office in Orange County, California.\n",
      "Found: O\n",
      "Correct: O\n",
      "Wiley are charged with mayhem, assault and battery causing serious bodily injury, resisting arrest, assault and battery on a police officer, threatening to commits a crime, disorderly conduct, and having false identification.\n",
      "Found: O\n",
      "Found: VERB\n",
      "Correct: O\n",
      "Correct: VERB\n",
      "It has been translated into English and edited for clarity.\n",
      "Found: O\n",
      "Correct: O\n",
      "Hand and NASA will is struggling to catches up.\n",
      "Found: O\n",
      "Correct: O\n",
      "Correct: VERB\n",
      "Other companies in those two spaces, like LendingClub and SpoonRocket, have faced difficulties, Pacific Crest notes.\n",
      "Found: O\n",
      "Correct: O\n",
      "It just felt like a dream. \"\n",
      "Found: O\n",
      "Correct: O\n",
      "that's what the world did, one thought, until one left the world they were in and moved into that next place.\n",
      "Found: O\n",
      "Correct: O\n",
      "In the course of Savage's research, he and his team placed over 800 test orders and typically received their chosen medications in a timely fashion.\n",
      "Found: O\n",
      "Correct: O\n",
      "\" It be a political move on the part of Ra?\n",
      "Found: O\n",
      "Found: VERB\n",
      "Correct: O\n",
      "Correct: VERB\n",
      "Then people show up and hand over their unwanted gun's to local police's, most of the time no questions asked.\n",
      "Found: O\n",
      "Found: POSSESSIVE\n",
      "Correct: O\n",
      "Correct: POSSESSIVE\n",
      "\" Why did they kill my father? \"\n",
      "Found: O\n",
      "Correct: O\n",
      "In fact, the $4 billion company has made every one of them dating back to 1967.\n",
      "Found: O\n",
      "Correct: O\n",
      "She woulds much rather her girls be there for the (numerous) parties then events that doesn't require a group effort.\n",
      "Found: O\n",
      "Found: VERB\n",
      "Found: THEN\n",
      "Correct: O\n",
      "Correct: VERB\n",
      "Correct: THEN\n",
      "It'S her, that's the voice. \"\n",
      "Found: O\n",
      "Correct: O\n",
      "Correct: ITS\n",
      "The six-bedroom, 4?\n",
      "Found: O\n",
      "Correct: O\n",
      "All rights reserved.\n",
      "Found: O\n",
      "Correct: O\n",
      "Colorado city sends snowplows to cleans up heap's of hail  Hail as deep as two feet lies in the front yards of home along Logan Avenue between Platte Avenue and Bijou Street after a storm hit Colorado Springs, Colo., Monday, Aug. 29, 2016.\n",
      "Found: O\n",
      "Found: POSSESSIVE\n",
      "Found: VERB\n",
      "Correct: O\n",
      "Correct: POSSESSIVE\n",
      "Correct: VERB\n",
      "Authorities were working to identifies the three people found dead after a truck linked to three missing Fontana teens was found 900 feet over the side of Angeles Crest Highway above Altadena Monday evening.\n",
      "Found: O\n",
      "Correct: O\n",
      "Correct: VERB\n",
      "Make time to stroll around the 13-acre ground's too--\n",
      "Found: O\n",
      "Found: POSSESSIVE\n",
      "Correct: O\n",
      "Correct: POSSESSIVE\n",
      "Apple's replacement of a handgun with a water pistol ben't its first foray into political correctness on guns.\n",
      "Found: O\n",
      "Correct: O\n",
      "Correct: VERB\n",
      "I like to utilizes probiotic's to help those with autoimmune disease's to help regulates their immunity since these patients have a tendency toward infections and many of their medications suppresses immune function.\n",
      "Found: O\n",
      "Found: POSSESSIVE\n",
      "Found: VERB\n",
      "Correct: O\n",
      "Correct: POSSESSIVE\n",
      "Correct: VERB\n",
      "\" Think about it, \" he laughs.\n",
      "Found: O\n",
      "Found: VERB\n",
      "Correct: O\n",
      "Investor'S may be realizing that even if the DOJ do eliminate its contracts with private prisons, this represent just a small part of their business.\n",
      "Found: O\n",
      "Found: POSSESSIVE\n",
      "Found: VERB\n",
      "Correct: O\n",
      "Correct: POSSESSIVE\n",
      "Correct: VERB\n",
      "I was interested myself, because I had met Arcel either once or twice when I were doing ' Raging Bull, ' and I was impressed with who he -- just the way he carried himself.\n",
      "Found: O\n",
      "Found: VERB\n",
      "Correct: O\n",
      "Correct: VERB\n",
      "But very few of those movies have reconciliation and forgiveness by the protagonist and antagonist at the end of the movie.\n",
      "Found: O\n",
      "Correct: O\n",
      "In fact, Ad?\n",
      "Found: O\n",
      "Correct: O\n",
      "Comments our editors finds particular useful or relevant are displayed in Top Comments, as are comments by users with these badges:.\n",
      "Found: O\n",
      "Found: VERB\n",
      "Found: ADV\n",
      "Correct: O\n",
      "Correct: VERB\n",
      "Correct: ADV\n",
      "This restriction wills also drive insurance price's up, particularly for the young, healthy people that we should be encouraging to buy (and keeps) insurance.\n",
      "Found: O\n",
      "Found: POSSESSIVE\n",
      "Found: VERB\n",
      "Correct: O\n",
      "Correct: POSSESSIVE\n",
      "Correct: VERB\n",
      "And they am compiling datum's to backs up its effectiveness.\n",
      "Found: O\n",
      "Found: POSSESSIVE\n",
      "Found: VERB\n",
      "Correct: O\n",
      "Correct: POSSESSIVE\n",
      "Correct: VERB\n",
      "Why would I think someone were the least bit interested in my meal?\n",
      "Found: O\n",
      "Correct: O\n",
      "Correct: VERB\n",
      "These are all email's that Clinton sent or received during her tenure as secretary of state, and they was not among the 55,000 documents turned over by her lawyers last year.\n",
      "Found: O\n",
      "Found: POSSESSIVE\n",
      "Found: VERB\n",
      "Correct: O\n",
      "Correct: POSSESSIVE\n",
      "Correct: VERB\n",
      "\" I got two versions.\n",
      "Found: O\n",
      "Correct: O\n",
      "But in today's world, it be also about how does you use these profits to improves communities \", Varkey said.\n",
      "Found: O\n",
      "Found: VERB\n",
      "Correct: O\n",
      "Correct: VERB\n",
      "-- I kids you not --\n",
      "Found: O\n",
      "Found: VERB\n",
      "Correct: O\n",
      "Correct: VERB\n",
      "She were obviously wounded.\n",
      "Found: O\n",
      "Found: VERB\n",
      "Correct: O\n",
      "Correct: VERB\n",
      "\" What's in a Tune?\n",
      "Found: O\n",
      "Found: VERB\n",
      "Correct: O\n",
      "Right now our human rights record as a nation is deplorable.\n",
      "Found: O\n",
      "Correct: O\n",
      "It's about showing him something else -- a side of him that he doesn't know he have.\n",
      "Found: O\n",
      "Found: VERB\n",
      "Correct: O\n",
      "Correct: VERB\n",
      "He were also a Virgin Records recording artist with The College Boyz, a hip-hop group whose 1992 cut \" Victim of the Ghetto \" peaked at Billboard's No. 1 hot rap single.\n",
      "Found: O\n",
      "Found: VERB\n",
      "Correct: O\n",
      "Correct: VERB\n",
      "And it be like aircraft or space launch, or computers, IT.\n",
      "Found: O\n",
      "Found: VERB\n",
      "Correct: O\n",
      "Correct: VERB\n",
      "They made it much more general; they looked also at Latino students and students of Hawaiian background.\n",
      "Found: O\n",
      "Correct: O\n",
      "Hillary Clinton is good for United States versus Donald Trump, who has no solutions, \" he said.\n",
      "Found: O\n",
      "Correct: O\n",
      "Making money difficult to access deters thieves, but when it comes time to pay for something, you still want to is able to get to it without stripping off clothes or playing hide-and- seeks with a bag's hidden pockets.\n",
      "Found: O\n",
      "Found: VERB\n",
      "Correct: O\n",
      "Correct: VERB\n",
      "most of cases a shining, successful social profile and the ability to turn every blunder to their advantage and excuse every misstatement they make by playing up the fact that they are not professional politicians but just honest guys whom life has taught to speak the truth and share their thoughts.\n",
      "Found: O\n",
      "Correct: O\n",
      "He was one of the early voice's calling for Egyptian President Hosni Mubarak to step down as revolution roiled the nation two years ago.\n",
      "Found: O\n",
      "Found: POSSESSIVE\n",
      "Correct: O\n",
      "Correct: POSSESSIVE\n",
      "Everybody be been humbled.\n",
      "Found: O\n",
      "Found: VERB\n",
      "Correct: O\n",
      "Correct: VERB\n",
      "The state of Europe's banks is far from steady  Bank investor's rejoice!\n",
      "Found: O\n",
      "Correct: O\n",
      "Correct: POSSESSIVE\n",
      "How did you alter your approach between season one and season two?\n",
      "Found: O\n",
      "Correct: O\n",
      "Leonard said traveler's ' best bet is to keep an eye on the forecast for now to gauges the storm's strength and path.\n",
      "Found: O\n",
      "Found: POSSESSIVE\n",
      "Found: VERB\n",
      "Correct: O\n",
      "Correct: POSSESSIVE\n",
      "Correct: VERB\n",
      "The statues was \" really just in response to our disdain for Trump making it as far as he did, \" said an anonymous spokesman for the group.\n",
      "Found: O\n",
      "Found: VERB\n",
      "Correct: O\n",
      "Correct: VERB\n",
      "Between Two Ferns ' appearance notwithstanding.\n",
      "Found: O\n",
      "Correct: O\n",
      "' Hands of Stone ' review\n",
      "Found: O\n",
      "Correct: O\n",
      ": the private sector is responsible for $39 billion dollar a year of philanthropy in the developing world, easily outstripping federal expenditures.\n",
      "Found: O\n",
      "Correct: O\n",
      "In total, Israel said more than $7 million per year -- 60 percent of World Vision's annual budget for the Gaza Strip -- was diverted to Hamas.\n",
      "Found: O\n",
      "Correct: O\n",
      "(The Washington Post)\n",
      "Found: O\n",
      "Correct: O\n",
      "the gastrique being the three big ones, in my experience.\n",
      "Found: O\n",
      "Correct: O\n",
      "This text may not are in its final form and may be updated or revised in the future.\n",
      "Found: O\n",
      "Correct: O\n",
      "Correct: VERB\n",
      "So you had three guy's painting three fences in three hours, and it took each guy three hours to paints his one fence.\n",
      "Found: O\n",
      "Found: POSSESSIVE\n",
      "Found: VERB\n",
      "Correct: O\n",
      "Correct: POSSESSIVE\n",
      "Correct: VERB\n",
      "Because such term's only represent how you think the job should be done -- it doesn't allow for the possibility of finding a better way to do a job, or exploring other options.\n",
      "Found: O\n",
      "Found: POSSESSIVE\n",
      "Correct: O\n",
      "Correct: POSSESSIVE\n",
      "Brian Lawdermilk, Getty Images\n",
      "Found: O\n",
      "Correct: O\n",
      "This comparison be a pathetic and misleading attempt to normalize Hillary Clinton's use of her personal email account and play down the fact that she were the only secretary of state to uses a private server.\n",
      "Found: O\n",
      "Found: VERB\n",
      "Correct: O\n",
      "Correct: VERB\n",
      "I, Barrack Hussein Obama...  OBAMA: I, Barack...  ROBERTS:... solemn swear...\n",
      "Found: O\n",
      "Found: ADV\n",
      "Correct: O\n",
      "Correct: ADV\n",
      "Clinton have said that she disagreed with the Supreme Court's decision in Heller, but she has made no proposals that would strip Americans of the right to keep a gun at home for self-defense.\n",
      "Found: O\n",
      "Found: VERB\n",
      "Correct: O\n",
      "Correct: VERB\n",
      "If he stays status quo, he'll wins a lot of matches.\n",
      "Found: O\n",
      "Found: VERB\n",
      "Correct: O\n",
      "Correct: VERB\n",
      "Illness is widespread, and the state health department recommends that residents seeking flu shots should calls ahead to make sure supplies are available.\n",
      "Found: O\n",
      "Correct: O\n",
      "Correct: VERB\n",
      "To pauses and restarts automatic updates, click \" Live \" or \" Paused \".\n",
      "Found: O\n",
      "Found: VERB\n",
      "Correct: O\n",
      "Correct: VERB\n",
      "What I knows is\n",
      "Found: O\n",
      "Found: VERB\n",
      "Correct: O\n",
      "Correct: VERB\n",
      "Charters are independently managed public schools that is exempt from some rule's that governs traditional campuses.\n",
      "Found: O\n",
      "Found: POSSESSIVE\n",
      "Found: VERB\n",
      "Correct: O\n",
      "Correct: POSSESSIVE\n",
      "Correct: VERB\n",
      "Once you have one of them in there, you got to let him stay eight years.\n",
      "Found: O\n",
      "Correct: O\n",
      "Dav Pilkey's Captain Underpants books be all about kid's who get in trouble for having mischievous fun.\n",
      "Found: O\n",
      "Found: POSSESSIVE\n",
      "Found: VERB\n",
      "Correct: O\n",
      "Correct: POSSESSIVE\n",
      "Correct: VERB\n",
      "Until he was cited, he didn't know he had done anything wrong, he claims.\n",
      "Found: O\n",
      "Correct: O\n",
      "\" As in, the movie.\n",
      "Found: O\n",
      "Correct: O\n",
      "Then the announcement ended and the chart's came out.\n",
      "Found: O\n",
      "Found: POSSESSIVE\n",
      "Correct: O\n",
      "Correct: POSSESSIVE\n",
      "An artist's rendering shows the new soccer stadium to is built in Exposition Park.\n",
      "Found: O\n",
      "Found: VERB\n",
      "Correct: O\n",
      "Correct: VERB\n",
      "\" And it certain do not means that that troubled man be now taking our school, too.\n",
      "Found: O\n",
      "Found: VERB\n",
      "Found: ADV\n",
      "Correct: O\n",
      "Correct: VERB\n",
      "Correct: ADV\n",
      "\" It's not too late to gets vaccinated, and the CDC encourages everyone who haven't been to do so soon, \" Jhung says.\n",
      "Found: O\n",
      "Found: VERB\n",
      "Correct: O\n",
      "Correct: VERB\n",
      "In those day's, people's would send in animals and I would have to go down to the basement lab and open their skulls and take out the piece of the brain that we were testing for rabies, and make slides out of it and than read the slides in the afternoon, \" he said.\n",
      "Found: O\n",
      "Found: POSSESSIVE\n",
      "Found: THEN\n",
      "Correct: O\n",
      "Correct: POSSESSIVE\n",
      "Correct: THEN\n",
      "A silhouette of a child holding a refrigerator-shaped kite is seen on a wall in New Orleans in 2008.\n",
      "Found: O\n",
      "Correct: O\n",
      "The other fire's were declared arson by a process of elimination, not hard evidence, he maintained.\n",
      "Found: O\n",
      "Found: POSSESSIVE\n",
      "Correct: O\n",
      "Correct: POSSESSIVE\n",
      "She's a unique breed, with what her owner Kristina Cash describes as \" Phyllis Diller hair. \"\n",
      "Found: O\n",
      "Correct: O\n",
      "Police said other charges could be filed after the Cook County medical examiner's office determines how the boy died.\n",
      "Found: O\n",
      "Correct: O\n",
      "We hires for skill's, not values, and then wonder why we don't have good teams.\n",
      "Found: O\n",
      "Found: POSSESSIVE\n",
      "Found: VERB\n",
      "Correct: O\n",
      "Correct: POSSESSIVE\n",
      "Correct: VERB\n",
      "The truth is, you need people's who can hold a movie camera.\n",
      "Found: O\n",
      "Found: POSSESSIVE\n",
      "Correct: O\n",
      "Correct: POSSESSIVE\n",
      "In this June 22, 2016, file photo, traffic moves along Orange Avenue after authorities opened the streets around the Pulse nightclub, scene of a mass shooting in Orlando, Fla.\n",
      "Found: O\n",
      "Correct: O\n",
      ", did you know he do it with no arms?\n",
      "Found: O\n",
      "Found: VERB\n",
      "Correct: O\n",
      "Correct: VERB\n",
      "Replies to those posts appear here, as well as posts by staff writer's.\n",
      "Found: O\n",
      "Found: POSSESSIVE\n",
      "Correct: O\n",
      "Correct: POSSESSIVE\n",
      "He are not someone who look like he be as powerful as he be in our story, but he be the most magical of all the Guardians -- and he does not speak. \"\n",
      "Found: O\n",
      "Found: VERB\n",
      "Correct: O\n",
      "Correct: VERB\n",
      "Will paying hundred's or even thousands of dollar's for Epipen'S is the new normal?\n",
      "Found: O\n",
      "Found: POSSESSIVE\n",
      "Found: VERB\n",
      "Correct: O\n",
      "Correct: POSSESSIVE\n",
      "Correct: VERB\n",
      "I actually likes the color myself, but it doesn't work in the work environment.\n",
      "Found: O\n",
      "Correct: O\n",
      "Correct: VERB\n",
      "That means the government has only a few dozen skilled negotiators -- against the 1,200 it will needs, by one estimate -- as it embarks on the complex talks that will determines the U.K.'s relationship with its most important trading partners.\n",
      "Found: O\n",
      "Found: VERB\n",
      "Correct: O\n",
      "Correct: VERB\n",
      "Each owner who is improperly charged a fee as a result of management misconduct should demand reimbursement in writing from the board.\n",
      "Found: O\n",
      "Correct: O\n",
      "but with its U.S. headquarters in Lake Zurich, said it intends to add at least four buildings spanning 130,000 square feet to the existing site.\n",
      "Found: O\n",
      "Correct: O\n",
      "Many of Countrywide's loans had gone to people who couldn't afford them, and with the housing market in turmoil, a flood of foreclosures were coming its way.\n",
      "Found: O\n",
      "Correct: O\n",
      "Correct: VERB\n",
      "Buckingham, 66, rose to fames in the 1970s and ''s 80s as the frontman and lead guitarist for Fleetwood Mac.\n",
      "Found: O\n",
      "Found: POSSESSIVE\n",
      "Correct: O\n",
      "Correct: POSSESSIVE\n",
      "Correct: VERB\n",
      "I think he was just being kind to a fan, but nonetheless what a thoughtful thing to say.\n",
      "Found: O\n",
      "Correct: O\n",
      "ambitions fits good with the frustrated mood across many parts of Rio.\n",
      "Found: O\n",
      "Found: ADV\n",
      "Correct: O\n",
      "Correct: VERB\n",
      "Correct: ADV\n",
      "\" This argument that you owe it to your child's to have a place for them in the farm business, I have trouble with that.\n",
      "Found: O\n",
      "Found: POSSESSIVE\n",
      "Correct: O\n",
      "Correct: POSSESSIVE\n",
      "The only public account of Holt's arrest that disputes the one given by Gonz?\n",
      "Found: O\n",
      "Correct: O\n",
      "However, \" A May 10 Quinnipiac University poll showing Brown with a 6-point lead in the race found that only 5 percent of Democrats surveyed said they plan to vote for Mandel, compared with 10 percent of Republicans who indicated support for Brown.\n",
      "Found: O\n",
      "Correct: O\n",
      "The request spearheaded by Assemblyman Adam Gray (D-Merced) come as Gov. Jerry Brown and lawmakers am struggling to reach a deal to extends greenhouse gas reduction targets beyond 2020 alongside the cap-and-trade program, the main mechanism by which the state aims to achieve its climate goal's.\n",
      "Found: O\n",
      "Found: POSSESSIVE\n",
      "Found: VERB\n",
      "Correct: O\n",
      "Correct: POSSESSIVE\n",
      "Correct: VERB\n",
      "He also had a high-capacity drum magazine that coulds hold 100 rounds.\n",
      "Found: O\n",
      "Found: VERB\n",
      "Correct: O\n",
      "Correct: VERB\n",
      "Obama and Romney face a similar situation.\n",
      "Found: O\n",
      "Correct: O\n",
      "Big band: More than 200 students is part of Leyden marching band experience  Bryan Miller, the director of band's at Leyden Township high schools, said more than 200 students participate in the East and West Leyden marching band experience.\n",
      "Found: O\n",
      "Found: POSSESSIVE\n",
      "Found: VERB\n",
      "Correct: O\n",
      "Correct: POSSESSIVE\n",
      "Correct: VERB\n",
      ", you go back to jail.\n",
      "Found: O\n",
      "Correct: O\n",
      "Whether engaging youth or their parents with income generating opportunities, we recognizes that neither are a silver bullet to addressing the challenges faced by so many young people this International Youth Day.\n",
      "Found: O\n",
      "Found: VERB\n",
      "Correct: O\n",
      "Correct: VERB\n",
      "Chapman then \" came towards me aggressively, \" Rankin claimed.\n",
      "Found: O\n",
      "Correct: O\n",
      "\" Cabinet of Curiosities, \" at Union Station.\n",
      "Found: O\n",
      "Correct: O\n",
      "But Sharpton have refused, perpetuating the ill will that many still hold for him.\n",
      "Found: O\n",
      "Found: VERB\n",
      "Correct: O\n",
      "Correct: VERB\n",
      "Tours take place Monday thru Friday at 1 p.m. 239 Selby Ave.\n",
      "Found: O\n",
      "Correct: O\n",
      "The Chinese market's, he said, have been far more stable than 12 months ago when the stock market fell sharp.\n",
      "Found: O\n",
      "Found: POSSESSIVE\n",
      "Correct: O\n",
      "Correct: POSSESSIVE\n",
      "Correct: ADV\n",
      ", Chagoury struck a plea deal on money-laundering charge's in Switzerland in 2000 and was fined $66 million.\n",
      "Found: O\n",
      "Found: POSSESSIVE\n",
      "Correct: O\n",
      "Correct: POSSESSIVE\n",
      "South Korea, which consistently outperform the U.S. when it comes to educational outcomes, is moving far faster than the U.S. in adopting digital learning environments.\n",
      "Found: O\n",
      "Found: VERB\n",
      "Correct: O\n",
      "Correct: VERB\n",
      "The provider of in-flight entertainment lost an adjusted 31 cents per share for it's latest quarter, smaller than the 41 cent per share loss anticipated by analysts.\n",
      "Found: O\n",
      "Found: ITS\n",
      "Correct: O\n",
      "Correct: ITS\n",
      "In this audio, assembled from a nearly four-hour recording, Baca is questioned by Assistant U.S. Atty.\n",
      "Found: O\n",
      "Correct: O\n",
      "Mwaluko: Critics might say, \" He wants to becomes a gay celebrity.\n",
      "Found: O\n",
      "Found: VERB\n",
      "Correct: O\n",
      "Correct: VERB\n",
      "\" I is not an old man, but have for the past 18 months or so been suffering from severe halitosis and occasional acid reflux while eating.\n",
      "Found: O\n",
      "Found: VERB\n",
      "Correct: O\n",
      "Correct: VERB\n",
      "A home burned to the ground south of Spokane, Washington, Aug. 22, 2016.\n",
      "Found: O\n",
      "Correct: O\n",
      "A lawsuit filed in bankruptcy alleged that the retailer's real estate asset's were stripped of their value and used partly to service the leveraged buyout debt.\n",
      "Found: O\n",
      "Found: POSSESSIVE\n",
      "Correct: O\n",
      "Correct: POSSESSIVE\n",
      "At around 9:20 a.m., after wetting himself in a ruse to get uncuffed, police say he punched the 28-year-old female officer twice in the stomach and threw her to the floor.\n",
      "Found: O\n",
      "Correct: O\n",
      "Prince died in April at the age of 57 and was found in his Paisley Park home.\n",
      "Found: O\n",
      "Correct: O\n",
      "People are not going to do it.\n",
      "Found: O\n",
      "Correct: O\n",
      "At the time, it was estimated that the deal were worth $4.4 billion.\n",
      "Found: O\n",
      "Found: VERB\n",
      "Correct: O\n",
      "Correct: VERB\n",
      "According to Civil Code section 5655(b), when payment is made to the association, any owner may request a receipt that includes the date of the payment and the name of the person who received it.\n",
      "Found: O\n",
      "Correct: O\n",
      "Some even saw the problems from the project's genesis.\n",
      "Found: O\n",
      "Correct: O\n",
      "He be scheduled to shoots in the week commencing September 20th.\n",
      "Found: O\n",
      "Found: VERB\n",
      "Correct: O\n",
      "Correct: VERB\n",
      "The news by the central bank helped lift stocks in both the U.K. and elsewhere in the world, with U.S. markets opening higher on the back of the announcement, however by Europe's close, stock's saw signs of sluggishness as weak performance in financials and energy weighed.\n",
      "Found: O\n",
      "Found: POSSESSIVE\n",
      "Correct: O\n",
      "Correct: POSSESSIVE\n",
      "This Clasico am not a massively hyped one.\n",
      "Found: O\n",
      "Correct: O\n",
      "Correct: VERB\n",
      "Should police be able to grab that data without a warrant?\n",
      "Found: O\n",
      "Correct: O\n",
      "Perry said he already has begun rehearsals with Slater and has a friendly chemistry with her.\n",
      "Found: O\n",
      "Correct: O\n",
      "My father ran London Films.\n",
      "Found: O\n",
      "Correct: O\n",
      "Two people were pronounced dead on the scene and another person, who jumped from the second floor to the ground, was taken to Stroger Hospital.\n",
      "Found: O\n",
      "Correct: O\n",
      "After the one-day coup attempt fell apart, Turkish president Recep Tayyip Erdogan blamed the rebellion on G?\n",
      "Found: O\n",
      "Correct: O\n",
      "I believe there can are no global development without African development.\n",
      "Found: O\n",
      "Correct: O\n",
      "Correct: VERB\n",
      "The study's most interesting finding was that stocks with these characteristics -- low risk cheap, and high quality -- tend to perform well in general.\n",
      "Found: O\n",
      "Correct: O\n",
      "On the one hand he was a gangster; on the other hand he were a brilliant student.\n",
      "Found: O\n",
      "Found: VERB\n",
      "Correct: O\n",
      "Correct: VERB\n",
      "The state declined to file charge's, according to a King County Courts clerk.\n",
      "Found: O\n",
      "Found: POSSESSIVE\n",
      "Correct: O\n",
      "Correct: POSSESSIVE\n",
      "16-year-old Laurie Hernandez went first and had a short hop on her landing, scoring 15.100.\n",
      "Found: O\n",
      "Correct: O\n",
      "This happens to be JFK's on the East Front in ' 61.\n",
      "Found: O\n",
      "Correct: O\n",
      "\" What does you think about when you are alone in your car? \"\n",
      "Found: O\n",
      "Found: VERB\n",
      "Correct: O\n",
      "Correct: VERB\n",
      "What Do $1 Trillion Worth Of Platinum Look Like?\n",
      "Found: O\n",
      "Correct: O\n",
      "Correct: VERB\n",
      "\" As we knows, there be not nearly enough resources and proper treatment for people's with mental illness, \" the coalition said.\n",
      "Found: O\n",
      "Found: POSSESSIVE\n",
      "Found: VERB\n",
      "Correct: O\n",
      "Correct: POSSESSIVE\n",
      "Correct: VERB\n",
      "a source familiar with the probe told ABC News.\n",
      "Found: O\n",
      "Correct: O\n",
      "The six-sided die contains a T instead of the number 6; if a player lands a T, he get to steal whatever he want.\n",
      "Found: O\n",
      "Found: VERB\n",
      "Correct: O\n",
      "Correct: VERB\n",
      "So what do you have to say about that?\n",
      "Found: O\n",
      "Correct: O\n",
      "In fact, I had never seen him so upset over team business.\n",
      "Found: O\n",
      "Found: VERB\n",
      "Correct: O\n",
      "almost appropriating -- different cultural styles from around the world, \" he says.\n",
      "Found: O\n",
      "Correct: O\n",
      "Edwin Rathbun, an attorney for the city, told the jury of eight man's and four women that Carr was justified in using deadly force because Eaddy charged at the officers.\n",
      "Found: O\n",
      "Found: POSSESSIVE\n",
      "Correct: O\n",
      "Correct: POSSESSIVE\n",
      "The 14,900 Clinton documents are nearly 50 percent more than the rough 30,000 emails that Clinton's lawyers deemed work-related in December 2014.\n",
      "Found: O\n",
      "Found: ADV\n",
      "Correct: O\n",
      "Correct: ADV\n",
      "\" If 54 senator's votes against her, interim President Michel Temer wills am sworn into office for the remaining two years of her term.\n",
      "Found: O\n",
      "Found: POSSESSIVE\n",
      "Found: VERB\n",
      "Correct: O\n",
      "Correct: POSSESSIVE\n",
      "Correct: VERB\n",
      "The deal was delayed due to a medical issue involving one of the players involved, but eventually worked out.\n",
      "Found: O\n",
      "Correct: O\n",
      "At one point, she sent him a shot of herself wearing a pair of black tights with a rip in the rear, near the midline, along with the message, \" Buns of steel. \"\n",
      "Found: O\n",
      "Correct: O\n",
      "Did it signal a transformation from the man-baby who won the Republican primaries to someone with the temperament to are president?\n",
      "Found: O\n",
      "Found: VERB\n",
      "Correct: O\n",
      "Correct: VERB\n",
      "She's supposed to be strong, and in the literal sense, she does bash things with a baseball bat.\n",
      "Found: O\n",
      "Correct: O\n",
      "Thiebou dieun royal include extras -- fish ball's, shrimp or prawns -- and bear very little resemblance to what has come to be known as jollof rice elsewhere in West Africa.\n",
      "Found: O\n",
      "Found: POSSESSIVE\n",
      "Correct: O\n",
      "Correct: POSSESSIVE\n",
      "Correct: VERB\n",
      "the family recently moved to the neighborhood.\n",
      "Found: O\n",
      "Correct: O\n",
      "That be not a lot of students, but they're clearly doing a lot of work.\n",
      "Found: O\n",
      "Found: VERB\n",
      "Correct: O\n",
      "Correct: VERB\n",
      "Two camels wrestles at the annual Camel Wrestling Championship near the village of Selcuk, Turkey.\n",
      "Found: O\n",
      "Found: VERB\n",
      "Correct: O\n",
      "Correct: VERB\n",
      "Replies to those post's appear here, as good as posts by staff writers.\n",
      "Found: O\n",
      "Found: POSSESSIVE\n",
      "Found: ADV\n",
      "Correct: O\n",
      "Correct: POSSESSIVE\n",
      "Correct: ADV\n",
      "it be not too late.\n",
      "Found: O\n",
      "Found: VERB\n",
      "Correct: O\n",
      "Correct: VERB\n",
      "Plus, Festante figure's \"\n",
      "Found: O\n",
      "Found: POSSESSIVE\n",
      "Correct: O\n",
      "Correct: POSSESSIVE\n",
      "Palestinians have killed 34 Israelis and two visiting Americans.\n",
      "Found: O\n",
      "Correct: O\n",
      "Smith asked.\n",
      "Found: O\n",
      "Correct: O\n",
      "Between 2011 and 2014, the number of deaths attributable to heart disease rose 3%, compared with a 2.6% increase for cancer.\n",
      "Found: O\n",
      "Correct: O\n",
      "The dozens of residents who made their way to Sultana High School in Hesperia found themselves fearing the worst and taking stock of the best.\n",
      "Found: O\n",
      "Correct: O\n",
      "\" We believe this is the right decision, \" City Hall spokesman Austin Finan said of Slate's departure from the armory project.\n",
      "Found: O\n",
      "Correct: O\n",
      "It's a strategic industry in the sense that an opponent can gain serious advantage, can gain serious benefit from being able to exploit the telecommunications network.\n",
      "Found: O\n",
      "Correct: O\n",
      "So you can sit down.\n",
      "Found: O\n",
      "Correct: O\n",
      "Devastating floods in southern Louisiana have killed at least six people and pushed tens of thousand's from their homes.\n",
      "Found: O\n",
      "Found: POSSESSIVE\n",
      "Correct: O\n",
      "Correct: POSSESSIVE\n",
      "Meiners recalled a time five year's ago, when he visited a family whose son were at a local hospital and told him they didn't has enough money for food.\n",
      "Found: O\n",
      "Found: POSSESSIVE\n",
      "Found: VERB\n",
      "Correct: O\n",
      "Correct: POSSESSIVE\n",
      "Correct: VERB\n",
      "Our thoughts and prayer's are with his family during this difficult time, \" Bonner said.\n",
      "Found: O\n",
      "Found: POSSESSIVE\n",
      "Correct: O\n",
      "Correct: POSSESSIVE\n",
      "Why is that important?\n",
      "Found: O\n",
      "Found: VERB\n",
      "Correct: O\n",
      "Auvi-Q's exit from the market provided Mylan much more room to increase prices, and it's done just that.\n",
      "Found: O\n",
      "Correct: O\n",
      "Among the criteria for featured comments: likes by users, replies by users, previous history of valuable commenting, and selection by moderator's.\n",
      "Found: O\n",
      "Found: POSSESSIVE\n",
      "Correct: O\n",
      "Correct: POSSESSIVE\n",
      "just like I know\n",
      "Found: O\n",
      "Found: VERB\n",
      "Correct: O\n",
      "Marie McGrory/NPR\n",
      "Found: O\n",
      "Correct: O\n",
      "from rally-goers.\n",
      "Found: O\n",
      "Correct: O\n",
      "Veterinarian Sam Galphin, who has worked in Raleigh, N.C., for 30 years, is unhappy with that settlement, saying farmers will sees very little money and will get no relief from a bad market that makes it impossible to make any money.\n",
      "Found: O\n",
      "Correct: O\n",
      "Correct: VERB\n",
      "The judges performed a cover of Aerosmith's \" Dream On \" and totally nailed it.\n",
      "Found: O\n",
      "Correct: O\n",
      "In 2007, Felix had finished second in the 400 at a meet in Rome.\n",
      "Found: O\n",
      "Correct: O\n",
      "There be also a Biodiesal Tax Credit\n",
      "Found: O\n",
      "Found: VERB\n",
      "Correct: O\n",
      "Correct: VERB\n",
      "Welcomes back to SCIENCE FRIDAY.\n",
      "Found: O\n",
      "Found: VERB\n",
      "Correct: O\n",
      "Correct: VERB\n",
      "He swears New England coach Bill Belichick is funny, although science has yet to confirm.\n",
      "Found: O\n",
      "Correct: O\n",
      "More On:  IMPHAL, India --\n",
      "Found: O\n",
      "Correct: O\n",
      "(Two Americas is the theme used by 2008 Democratic candidate John Edwards, not to contrast his worldview with another candidate's but to highlight the gap between those doing well and those struggling to get ahead.)\n",
      "Found: O\n",
      "Correct: O\n",
      "and we'll hook up electricity and plumbing and everything that's necessary to make all of that happens.\n",
      "Found: O\n",
      "Correct: O\n",
      "Correct: VERB\n",
      "The development compounds Valeant's challenges as the company grapples with the fallout of its past ties to Philidor and multiple investigation's into the company's drug pricing and marketing practices.\n",
      "Found: O\n",
      "Found: POSSESSIVE\n",
      "Correct: O\n",
      "Correct: POSSESSIVE\n",
      "Colangelo's public comment's regarding the process irked Popovich and led to an icy relationship many thought woulds never is repaired.\n",
      "Found: O\n",
      "Found: POSSESSIVE\n",
      "Found: VERB\n",
      "Correct: O\n",
      "Correct: POSSESSIVE\n",
      "Correct: VERB\n",
      "Using the power of Super Bowl week in his hometown of New Orleans, Gleason -- just 35 -- introduced the Team Gleason House, which will provide the state-of-the-art technology that allowed Gleason to communicate in yesterday's press conference.\n",
      "Found: O\n",
      "Correct: O\n",
      "\" The bigger question in our mind are what could the business looks like next year? \"\n",
      "Found: O\n",
      "Found: VERB\n",
      "Correct: O\n",
      "Correct: VERB\n",
      "Saying that, like, Queen Latifah and Maya Angelou were more alike than they were different, and Tupac and Langston Hughes were more alike than they were different.\n",
      "Found: O\n",
      "Correct: O\n",
      "One of his siblings checked for a heartbeat and pulse and determined that he had died, Santini said.\n",
      "Found: O\n",
      "Correct: O\n",
      "An initial autopsy was done May 20, but results weren't returned until Aug. 17.\n",
      "Found: O\n",
      "Correct: O\n",
      "Let me tell you that everything be everything.\n",
      "Found: O\n",
      "Found: VERB\n",
      "Correct: O\n",
      "Correct: VERB\n",
      "Line 2 splits off to more distant, North Rio neighborhood's.\n",
      "Found: O\n",
      "Found: POSSESSIVE\n",
      "Correct: O\n",
      "Correct: POSSESSIVE\n",
      "Witnesses to the ceremony included first lady Michelle Obama, their daughters, Malia and Sasha, Obama's sister, Maya Soetero-Ng, and her family; his mother-in-law, Marian Robison, and his brother-in-law, Craig Robinson, and his family.\n",
      "Found: O\n",
      "Correct: O\n",
      "Ornelas would have started her senior year on Thursday, the district said in a statement.\n",
      "Found: O\n",
      "Correct: O\n",
      ": On the drive down from Phoenix to the rental home, a drinking chalice must be purchased.\n",
      "Found: O\n",
      "Correct: O\n",
      "He worked such long hours during most of those years that he promised Maura he woulds stick close by when he was out of football.\n",
      "Found: O\n",
      "Found: VERB\n",
      "Correct: O\n",
      "Correct: VERB\n",
      "Think about that.\n",
      "Found: O\n",
      "Found: VERB\n",
      "Correct: O\n",
      "So I does know what happens to the body and the mind at the end of life.\n",
      "Found: O\n",
      "Found: VERB\n",
      "Correct: O\n",
      "Correct: VERB\n",
      "The Facebook page for his film now posts frequent updates on DeFriest's case, and London have become an advocate for the inmate.\n",
      "Found: O\n",
      "Found: VERB\n",
      "Correct: O\n",
      "Correct: VERB\n",
      "Five batters later, he left with the game\n",
      "Found: O\n",
      "Correct: O\n",
      "so obviously prefers to remain in the background.\n",
      "Found: O\n",
      "Correct: O\n",
      "Eventually, he left crowded Marin County for a more isolated New Mexico to enhance his solitude, the solitude he apparent required for doing his best work.\n",
      "Found: O\n",
      "Found: ADV\n",
      "Correct: O\n",
      "Correct: ADV\n",
      "Hide Caption  4 of 7  Photos: ' El Chapo ' in prison\n",
      "Found: O\n",
      "Correct: O\n",
      "More than 10,000 people's have been arrested, and nearly 70,000 has been suspended or dismissed from their jobs in education, media, health care, military and judiciary.\n",
      "Found: O\n",
      "Found: POSSESSIVE\n",
      "Found: VERB\n",
      "Correct: O\n",
      "Correct: POSSESSIVE\n",
      "Correct: VERB\n",
      "The Tribune's Tim Bannon looks at the winners and loser's from the opening weekend of the Rio Olympics.\n",
      "Found: O\n",
      "Found: POSSESSIVE\n",
      "Correct: O\n",
      "Correct: POSSESSIVE\n",
      "Devon Modster and Matt Lynch wore the No. 8 of Aggies quarterbacks Trevor Knight.\n",
      "Found: O\n",
      "Correct: O\n",
      "Correct: VERB\n",
      "\" The patient am paying twice, \" Bresch said.\n",
      "Found: O\n",
      "Found: VERB\n",
      "Correct: O\n",
      "Correct: VERB\n",
      "in The Buzz, the Good Vibrations Online Magazine.\n",
      "Found: O\n",
      "Correct: O\n",
      "Zachary Stevens and his parents had sued GM, claiming a faulty ignition switch in Stevens ' Saturn Sky jostled off, causing him to lose control of his car and hit another vehicle, killing its driver.\n",
      "Found: O\n",
      "Correct: O\n",
      "Moment'S before, he had seen Tavon outside his home, kicking the gate with his foot.\n",
      "Found: O\n",
      "Found: POSSESSIVE\n",
      "Correct: O\n",
      "Correct: POSSESSIVE\n",
      "In March, Beyonce was snapped in New York carrying the than 3-month-old Blue Ivy in a fabulous faux fur baby sling.\n",
      "Found: O\n",
      "Correct: O\n",
      "Correct: THEN\n",
      "The other intriguing thing about Arktocara yakataga am that it was reported found up in Alaska, which would mean the dolphin dwelled in the ancient Arctic.\n",
      "Found: O\n",
      "Found: VERB\n",
      "Correct: O\n",
      "Correct: VERB\n",
      "Correct: ADV\n",
      "And ' How did Trump do this? '\n",
      "Found: O\n",
      "Correct: O\n",
      "But when Rosenfeld says he is trying to understand the complexities of the situation, Aoki says, \" It is complex.\n",
      "Found: O\n",
      "Correct: O\n",
      "This year, 3,874 fires burned 112,950 acres through Aug. 13.\n",
      "Found: O\n",
      "Correct: O\n",
      "She underwent a hysterectomy, removal of other organ's and a chemo bath in her abdominal cavity.\n",
      "Found: O\n",
      "Found: POSSESSIVE\n",
      "Correct: O\n",
      "Correct: POSSESSIVE\n",
      "Michelle King announced the school system's highest ever graduation figure in her first \" state of the district \" speech, an annual address from the superintendent that typical take place a week before the start of school.\n",
      "Found: O\n",
      "Correct: O\n",
      "Correct: VERB\n",
      "Correct: ADV\n",
      "Other discovery's of human activity -- but so far, no actual human remains -- at roughly a dozen sites scattered throughout two continents has bolstered support for a new model: the first Americans traveled along the Pacific coast by boat, bopping between intermittent ice-free beaches and living off the abundance of the sea until they finally reached the land beyond the glacier's.\n",
      "Found: O\n",
      "Found: POSSESSIVE\n",
      "Correct: O\n",
      "Correct: POSSESSIVE\n",
      "I 'm not big into khakis, and it be too chilly for short's, so jeans won out.\n",
      "Found: O\n",
      "Found: POSSESSIVE\n",
      "Found: VERB\n",
      "Correct: O\n",
      "Correct: POSSESSIVE\n",
      "Correct: VERB\n",
      "international pharmacies and chose one in Latvia that didn't require a prescription.\n",
      "Found: O\n",
      "Correct: O\n",
      "Wilder and Radner married in 1984 and went on to works together in 1984's The Woman in Red and 1986's Haunted Honeymoon, both directed by Wilder.\n",
      "Found: O\n",
      "Found: VERB\n",
      "Correct: O\n",
      "Correct: VERB\n",
      "and she had a protection order filed against him.\n",
      "Found: O\n",
      "Correct: O\n",
      "Many people still question why some of these institutions need to continue, given that the barriers to educational opportunity that existed- led to their creation - no longer exist.\n",
      "Found: O\n",
      "Correct: O\n",
      "Qatar Airways Premium Terminal, Doha International Airport, Qatar  Completed in 2006 for nearly $100 million, this posh terminal, which be separate from the rest of the airport, blend elements of a luxury hotel and spa -- which means for the lucky travelers who spend time there, it might take some effort to leave.\n",
      "Found: O\n",
      "Found: VERB\n",
      "Correct: O\n",
      "Correct: VERB\n",
      "She sees herself as a mix of her German side, the designer who thinks about utility and shape and her South American side, which is more instinctive and into meshing together texture's and color's.\n",
      "Found: O\n",
      "Found: POSSESSIVE\n",
      "Correct: O\n",
      "Correct: POSSESSIVE\n",
      "Britton had converted all 38 of his save chances, just ended a streak of 43 straight appearance's without yielding an earned run and has a 0.69 ERA.\n",
      "Found: O\n",
      "Found: POSSESSIVE\n",
      "Correct: O\n",
      "Correct: POSSESSIVE\n",
      "(Justin Chang)\n",
      "Found: O\n",
      "Correct: O\n",
      "women vocalists whose melancholic observation's and confessions offsets the busy buzziness of the beat-driven mix.\n",
      "Found: O\n",
      "Found: POSSESSIVE\n",
      "Found: VERB\n",
      "Correct: O\n",
      "Correct: POSSESSIVE\n",
      "Correct: VERB\n",
      "Harper, four times an all-star, has ties to the area, having attended Las Vegas High School and, for a year, the College of Southern Nevada.\n",
      "Found: O\n",
      "Correct: O\n",
      "Funding and other support for the study be being provided by Mars Inc. and\n",
      "Found: O\n",
      "Correct: O\n",
      "Correct: VERB\n",
      "the end of my life and looks back at my 20's, do I expect to regrets having spent that extra year at Stanford, rubbing shoulders with the rising generation of leaders and influencer's?\n",
      "Found: O\n",
      "Found: POSSESSIVE\n",
      "Found: VERB\n",
      "Correct: O\n",
      "Correct: POSSESSIVE\n",
      "Correct: VERB\n",
      "I strongly believe that, \" Solo said, according to Sports Illustrated.\n",
      "Found: O\n",
      "Correct: O\n",
      "It continued burning in remote, sparsely populated mountain and canyon areas full of extremely dry brush.\n",
      "Found: O\n",
      "Correct: O\n",
      "and I have the waistline to proves it, and in truth, I find it far more interesting to recognize that I might wholly whiff on a delicious staple available practically under my nose.\n",
      "Found: O\n",
      "Found: VERB\n",
      "Correct: O\n",
      "Correct: VERB\n",
      "Despite the hype, however, Shalala said the decision to preemptively institutes changes within the organization isn't reactionary.\n",
      "Found: O\n",
      "Found: VERB\n",
      "Correct: O\n",
      "Correct: VERB\n",
      "Charles Joern estimated that they cost in the $10,000 to $20,000 range.\n",
      "Found: O\n",
      "Correct: O\n",
      "\" They was enjoying his power in Valencia, their impunity with the media and other things, \" he says.\n",
      "Found: O\n",
      "Found: VERB\n",
      "Correct: O\n",
      "Correct: VERB\n",
      "While poll's show Trump slipping behind Democratic candidate Hillary Clinton, Conway said the race be just getting started:\n",
      "Found: O\n",
      "Found: POSSESSIVE\n",
      "Correct: O\n",
      "Correct: POSSESSIVE\n",
      "But the media ecosystem was already undergoing some important changes in the wake of the 2012 shooting of Trayvon Martin shooting in Sanford, Florida.\n",
      "Found: O\n",
      "Correct: O\n",
      "Steve Kroft investigate.\n",
      "Found: O\n",
      "Found: VERB\n",
      "Correct: O\n",
      "Correct: VERB\n",
      "She sailed past the 200-meter mark, kept on sprinting for another 50 meter's and was still catching her breath when Kersee approached and showed her the stopwatch.\n",
      "Found: O\n",
      "Found: POSSESSIVE\n",
      "Correct: O\n",
      "Correct: POSSESSIVE\n",
      "\" This was really the first indication that travels into deep space might has some health consequences, particular on the cardiovascular system, \" Delp said.\n",
      "Found: O\n",
      "Found: VERB\n",
      "Found: ADV\n",
      "Correct: O\n",
      "Correct: VERB\n",
      "Correct: ADV\n",
      "What be Samuel L. Jackson really like?\n",
      "Found: O\n",
      "Correct: O\n",
      "Correct: VERB\n",
      "In Bannon especially, Trump am turning to an alter ego -- a colorful, edgy figure on the right who has worked at Goldman Sachs and made several films, including a documentary about former Alaska governor Sarah Palin.\n",
      "Found: O\n",
      "Found: VERB\n",
      "Correct: O\n",
      "Correct: VERB\n",
      "After two hours of saturnalia's, we was shocked to discover that we had completed only Round One of the evening.\n",
      "Found: O\n",
      "Found: POSSESSIVE\n",
      "Found: VERB\n",
      "Correct: O\n",
      "Correct: POSSESSIVE\n",
      "Correct: VERB\n",
      "If paused, you'll be notified of the number of additional comment's that have come in.\n",
      "Found: O\n",
      "Found: POSSESSIVE\n",
      "Correct: O\n",
      "Correct: POSSESSIVE\n",
      "This text may not is in its final form and may is updated or revised in the future.\n",
      "Found: O\n",
      "Found: VERB\n",
      "Correct: O\n",
      "Correct: VERB\n",
      "STR/AFP/Getty Images  Supporters of Mam Sonando (shown here Monday after his conviction) say the pro-democracy activist drew the government's ire by trying to help farmers in eastern Kratie province protects their land.\n",
      "Found: O\n",
      "Correct: O\n",
      "Correct: VERB\n",
      "While slip fees around NYC come relatively cheap, there is plenty of extra cost's.\n",
      "Found: O\n",
      "Found: POSSESSIVE\n",
      "Correct: O\n",
      "Correct: POSSESSIVE\n",
      "Correct: VERB\n",
      "Khan's parents arrived in the United States when Khan were 2 year's old.\n",
      "Found: O\n",
      "Found: POSSESSIVE\n",
      "Found: VERB\n",
      "Correct: O\n",
      "Correct: POSSESSIVE\n",
      "Correct: VERB\n",
      "\" When you're a kid, that be magical, \" he recalled.\n",
      "Found: O\n",
      "Found: VERB\n",
      "Correct: O\n",
      "Sorenstam sent out the photo with a warning in case some follower's woulds is squeamish.\n",
      "Found: O\n",
      "Found: POSSESSIVE\n",
      "Found: VERB\n",
      "Correct: O\n",
      "Correct: POSSESSIVE\n",
      "Correct: VERB\n",
      "He want you to feel the spray, be in that painting itself. \"\n",
      "Found: O\n",
      "Found: VERB\n",
      "Correct: O\n",
      "Correct: VERB\n",
      "trans women didn't seem to matters anymore.\n",
      "Found: O\n",
      "Found: VERB\n",
      "Correct: O\n",
      "Correct: VERB\n",
      "The child were taken to Mount Sinai Hospital but a condition was not available.\n",
      "Found: O\n",
      "Found: VERB\n",
      "Correct: O\n",
      "Correct: VERB\n",
      "Brock Turner to is released from jail after serving half of six-month sentence in Stanford sexual assault case  Brock Turner  Santa Clara County Sheriff via AP\n",
      "Found: O\n",
      "Correct: O\n",
      "Correct: VERB\n",
      "Though we visited the Boboli, I believe we admired his ice cream even more.\n",
      "Found: O\n",
      "Correct: O\n",
      "\" For me it goes together, ' '\n",
      "Found: O\n",
      "Correct: O\n",
      "There's no stability in this work.\n",
      "Found: O\n",
      "Correct: O\n",
      "Currently, Iowa have 532 people waiting for kidneys.\n",
      "Found: O\n",
      "Correct: O\n",
      "Correct: VERB\n",
      "How to Give Back This Holiday Season\n",
      "Found: O\n",
      "Correct: O\n",
      "-- -- --  This story has been corrected to show the Ferguson police chief's name is Delrish Moss, not Delish.\n",
      "Found: O\n",
      "Correct: O\n",
      "National Gallery of ArtFourth Street and Constitution Avenue NW\n",
      "Found: O\n",
      "Correct: O\n",
      "Here, he talk to the Tribune about his favorite Chicago bars and restaurants, if he'd ever open something here, and how \" any opportunity to comes to Chicago is a good one. \"\n",
      "Found: O\n",
      "Found: VERB\n",
      "Correct: O\n",
      "Correct: VERB\n",
      "Fair and equal representation.\n",
      "Found: O\n",
      "Correct: O\n",
      "He connected with the youth because of his age, but also because he had a magnetic personality, said Bocanegra, who be executive director of youth safety and violence prevention at the YMCA of Metro Chicago.\n",
      "Found: O\n",
      "Correct: O\n",
      "But nobody wants to elect a president they feels sorry for.\n",
      "Found: O\n",
      "Found: VERB\n",
      "Correct: O\n",
      "Correct: VERB\n",
      "\" My agency were never an escort agency....\n",
      "Found: O\n",
      "Found: VERB\n",
      "Correct: O\n",
      "Correct: VERB\n",
      "Along with enjoying the history of bling in the Kimberley's Diamond and Mine Museums, we visited the landmark Big Hole.\n",
      "Found: O\n",
      "Correct: O\n",
      "\" It's definitely shaping up to be a more serious flu season than we has seen in the past several years, \" said spokeswoman Nikki Forbing-Orr of Idaho's Department of Health and Welfare.\n",
      "Found: O\n",
      "Found: VERB\n",
      "Correct: O\n",
      "Correct: VERB\n",
      "Manuel and the offense go three and out.\n",
      "Found: O\n",
      "Correct: O\n",
      "Opioid roundtable  Christian Tyler Randolph / AP\n",
      "Found: O\n",
      "Correct: O\n",
      "And it's not hard to see him getting drawn into all kinds of exchange's that reinforces his many established liability's.\n",
      "Found: O\n",
      "Found: POSSESSIVE\n",
      "Found: VERB\n",
      "Correct: O\n",
      "Correct: POSSESSIVE\n",
      "Correct: VERB\n",
      "My job right now is to keep them focused on what they've been doing and keeps them in a positive frame of mind. \"\n",
      "Found: O\n",
      "Found: VERB\n",
      "Correct: O\n",
      "Correct: VERB\n",
      "Beyond the tour are there any more Toad plans at this point?\n",
      "Found: O\n",
      "Correct: O\n",
      "Gov. Jerry Brown signed legislation Friday that prohibits the California Transportation Commission from providing money for any new bulk-coal terminals in the state, and he urged cities with ports to take action to reduce such shipments.\n",
      "Found: O\n",
      "Correct: O\n",
      "The price am perhaps one of the biggest advantages of learning an instrument this way.\n",
      "Found: O\n",
      "Found: VERB\n",
      "Correct: O\n",
      "Correct: VERB\n",
      "\" I suppose there are always exceptions to any rule, \" says Matava.\n",
      "Found: O\n",
      "Correct: O\n",
      "This year, BYOD participants can expects to relinquish control of their devices -- and forgo a level of privacy -- as companies impose much tighter security constraints, mobile industry analysts says.\n",
      "Found: O\n",
      "Found: VERB\n",
      "Correct: O\n",
      "Correct: VERB\n",
      "; praised Vladimir Putin; renewed the bogus charge that the Islamic State \" stole our passport machine \"; and continued on while event staff escorted out silent protesters who wore T-shirts that said \" Black Lives Matter \" and\n",
      "Found: O\n",
      "Correct: O\n",
      "His narrative proceeds by indirections, learning to identifies the path he needs to takes by paying attention to the signs and using his intuition, rather than by reason or logic alone.\n",
      "Found: O\n",
      "Found: VERB\n",
      "Correct: O\n",
      "Correct: VERB\n",
      "Reply'S to those post's appear here, as well as posts by staff writers.\n",
      "Found: O\n",
      "Found: POSSESSIVE\n",
      "Correct: O\n",
      "Correct: POSSESSIVE\n",
      "Legislative efforts to crack down on sinful spending have fallen short.\n",
      "Found: O\n",
      "Correct: O\n",
      "You're listening to TALK OF THE NATION from NPR News.\n",
      "Found: O\n",
      "Correct: O\n",
      "She began to take more control of her voice.\n",
      "Found: O\n",
      "Correct: O\n",
      "The key for countries like the United States, as CSIS argues, is to intelligently manages the transition.\n",
      "Found: O\n",
      "Found: VERB\n",
      "Correct: O\n",
      "Correct: VERB\n",
      "Manuel are the first African-American women to medal in an individual swimming event.\n",
      "Found: O\n",
      "Correct: O\n",
      "Correct: VERB\n",
      "Correct: WOMAN\n",
      "To pauses and restart automatic updates, clicks \" Live \" or \" Paused \".\n",
      "Found: O\n",
      "Found: VERB\n",
      "Correct: O\n",
      "Correct: VERB\n",
      "This kind of specialized policing and the revolutionary technology and relationship-building programs that support it constitute an inspired plan for keeping our city safe.\n",
      "Found: O\n",
      "Correct: O\n",
      "Use it sparingly if you want to connect with your people.\n",
      "Found: O\n",
      "Correct: O\n",
      "What the hell do you have to lose?\n",
      "Found: O\n",
      "Correct: O\n",
      "\" Of course, but you know it was still something I had to try to fixes, \" Bryan replies.\n",
      "Found: O\n",
      "Found: VERB\n",
      "Correct: O\n",
      "Correct: VERB\n",
      ", \" makes it possible to tap into natural gas reservoir's deep underground.\n",
      "Found: O\n",
      "Found: POSSESSIVE\n",
      "Correct: O\n",
      "Correct: POSSESSIVE\n",
      "The Corvette be iconic not just in the car industry but also in culture.\n",
      "Found: O\n",
      "Found: VERB\n",
      "Correct: O\n",
      "Correct: VERB\n",
      "The 72-year-old is now a public speaker.\n",
      "Found: O\n",
      "Correct: O\n",
      "Mr. Obama also reached out to member's of Congress in May 2013, inviting three U.S. Senators - two Republicans and one Democrat - to join him on the link's.\n",
      "Found: O\n",
      "Found: POSSESSIVE\n",
      "Correct: O\n",
      "Correct: POSSESSIVE\n",
      "But Mexican officials insist that his health is fine.\n",
      "Found: O\n",
      "Correct: O\n",
      "Angels ' Yunel Escobar held out against Mariners because of a sore left knee\n",
      "Found: O\n",
      "Correct: O\n",
      "Brown, who died in 2006, had filled the void created in Sharpton's life when his father abandoned the family when he were a boy.\n",
      "Found: O\n",
      "Correct: O\n",
      "Correct: VERB\n",
      "This standard is so complex because it involves close reading skills, citations, understanding how to choose significant quotes, analysis and interpretation, explicit versus implicit meaning, and making inferences.\n",
      "Found: O\n",
      "Correct: O\n",
      "one yard equal three foot's.\n",
      "Found: O\n",
      "Found: POSSESSIVE\n",
      "Found: VERB\n",
      "Correct: O\n",
      "Correct: POSSESSIVE\n",
      "Correct: VERB\n",
      "And you'd most certainly have no reason to believe it was at the convention that nominated the least-liked major-party nominee in decades.\n",
      "Found: O\n",
      "Correct: O\n",
      "The finding is troubling because several studies show that these dyes might inhibit cell respiration, Hojerov? says.\n",
      "Found: O\n",
      "Correct: O\n",
      "\" When your multimillionaire opponent is trying to buy a seat on the board of supervisors and you get a letter from the county registrar telling you, in bold and underscored print, that your contribution limits have thus been removed, you take them for their word, \" Shallman said in a statement.\n",
      "Found: O\n",
      "Correct: O\n",
      "More Scully and more inside exposure to the Dodgers to measures up with my Cub and Cardinal fan friends.\n",
      "Found: O\n",
      "Correct: O\n",
      "Correct: VERB\n",
      "so abrupt on the morning of a mid-week day\n",
      "Found: O\n",
      "Correct: O\n",
      "Correct: ADV\n",
      "The stronger yeast strains may is concerning for those who are immune-compromised, but in general, probiotics are our friend.\n",
      "Found: O\n",
      "Found: VERB\n",
      "Correct: O\n",
      "Correct: VERB\n",
      "What does you think about that?\n",
      "Found: O\n",
      "Found: VERB\n",
      "Correct: O\n",
      "Correct: VERB\n",
      "Michelle Scott, 38, has been arrested at least five time's from 2000 to 2007 in Florida, according to court record's.\n",
      "Found: O\n",
      "Found: POSSESSIVE\n",
      "Correct: O\n",
      "Correct: POSSESSIVE\n",
      "the food, accommodations and sightseeing are splendid.\n",
      "Found: O\n",
      "Correct: O\n",
      "It be important to bear in mind what Obamacare, formal known as the Patient Protection and Affordable Care Act, set out to do.\n",
      "Found: O\n",
      "Found: VERB\n",
      "Found: ADV\n",
      "Correct: O\n",
      "Correct: VERB\n",
      "Correct: ADV\n",
      "and then a bit farther away.\n",
      "Found: O\n",
      "Correct: O\n",
      "\" I felt so accomplished when this was done. \"\n",
      "Found: O\n",
      "Found: VERB\n",
      "Correct: O\n",
      "To pause and restart automatic updates, clicks \" Live \" or \" Paused \".\n",
      "Found: O\n",
      "Found: VERB\n",
      "Correct: O\n",
      "Correct: VERB\n",
      "Many people's had expected the Olympic flame to be lit by\n",
      "Found: O\n",
      "Found: POSSESSIVE\n",
      "Correct: O\n",
      "Correct: POSSESSIVE\n",
      "and also for Clinton, whose father, Hugh Rodham, were born in Scranton.\n",
      "Found: O\n",
      "Found: VERB\n",
      "Correct: O\n",
      "Correct: VERB\n",
      "Meryl Streep and Hugh Grant on the unique type of love in \" Florence Foster Jenkins \"\n",
      "Found: O\n",
      "Correct: O\n",
      "my political leader's.\n",
      "Found: O\n",
      "Found: POSSESSIVE\n",
      "Correct: O\n",
      "Correct: POSSESSIVE\n",
      "In a statement, Canada's office of Citizenship and Immigration said that it will handle new Cuban visa requests no differently than in the past.\n",
      "Found: O\n",
      "Correct: O\n",
      "The Romney campaign has been most quiet on the Sensata drama, although a campaign spokesman recently said President Barack Obama was more responsible for the loss of job's at Sensata than Romney were.\n",
      "Found: O\n",
      "Found: POSSESSIVE\n",
      "Found: VERB\n",
      "Correct: O\n",
      "Correct: POSSESSIVE\n",
      "Correct: VERB\n",
      "Correct: ADV\n",
      "I used to hang out when I was, like, 4 and 5 year's old and play Power Rangers in the locker room with him and Shannon Sharpe and Rod Smith. \"\n",
      "Found: O\n",
      "Found: POSSESSIVE\n",
      "Correct: O\n",
      "Correct: POSSESSIVE\n",
      "Please am aware that the authoritative record of NPR's programming be the audio.\n",
      "Found: O\n",
      "Correct: O\n",
      "Correct: VERB\n",
      "Our homes, how we live, the choices we make about what we include in our home's; these am things that fascinate me.\n",
      "Found: O\n",
      "Found: POSSESSIVE\n",
      "Found: VERB\n",
      "Correct: O\n",
      "Correct: POSSESSIVE\n",
      "The victory was a measure of revenge after the Germans embarrassed Brazil in a 7-1 defeat during the 2014 World Cup in Rio.\n",
      "Found: O\n",
      "Correct: O\n",
      "\" OK, Dad, so if you were in a condition where you couldsn't makes decision's for yourself, how extreme would you want us to takes measure's to save your life, versus letting you goes, \" Jennings asked.\n",
      "Found: O\n",
      "Found: POSSESSIVE\n",
      "Found: VERB\n",
      "Correct: O\n",
      "Correct: POSSESSIVE\n",
      "Correct: VERB\n",
      "These days, he says, Kiev's urban dweller's want exotic, international cuisine.\n",
      "Found: O\n",
      "Found: POSSESSIVE\n",
      "Correct: O\n",
      "Correct: POSSESSIVE\n",
      "\" She gets it.\n",
      "Found: O\n",
      "Found: VERB\n",
      "Correct: O\n",
      "Old scotch over helping starving child's to survive!\n",
      "Found: O\n",
      "Found: POSSESSIVE\n",
      "Correct: O\n",
      "Correct: POSSESSIVE\n",
      "People line up at a Duane Reade pharmacy in New York behind a sign announcing the recent flu outbreak.\n",
      "Found: O\n",
      "Correct: O\n",
      "The Westminster Police Dept. provided new photos of missing 10-year-old Jessica Ridgeway on their Facebook page Tuesday.\n",
      "Found: O\n",
      "Correct: O\n",
      "Adrian Gonzalez (Joe Robbins / AFP/Getty Images)\n",
      "Found: O\n",
      "Correct: O\n",
      "Residents griped about the high weeds in Queens ' Gateway National Park and asked for security cameras to monitors the area during the community meeting at St. Helen Church, where the funeral for Karina Vetrano were held Saturday.\n",
      "Found: O\n",
      "Found: VERB\n",
      "Correct: O\n",
      "Correct: VERB\n",
      "Outdoor Afro, Latino Outdoors and Asian Outdoors -- nonprofit organizations -- links people of color to nature.\n",
      "Found: O\n",
      "Found: VERB\n",
      "Correct: O\n",
      "Correct: VERB\n",
      "And its corrosiveness raises concern about whether a leak might weakens a key support structure of the plane, even though the 787 is the first airliner to be made primarily from lightweight composite material's that are less susceptible to corrosion than aluminum, safety experts said.\n",
      "Found: O\n",
      "Found: POSSESSIVE\n",
      "Found: VERB\n",
      "Correct: O\n",
      "Correct: POSSESSIVE\n",
      "Correct: VERB\n",
      "There was also a lack of supervisory review, the DOJ said.\n",
      "Found: O\n",
      "Correct: O\n",
      "-- Chris Conlon, Acadia Realty Trust\n",
      "Found: O\n",
      "Correct: O\n",
      "A Turkish national flag are seen on Eyup Sultan mosque on July 26 in Istanbul after the failed military coup of July 15.\n",
      "Found: O\n",
      "Correct: O\n",
      "Correct: VERB\n",
      "And public health people's tells me that, look, we've had other diseases like this.\n",
      "Found: O\n",
      "Found: POSSESSIVE\n",
      "Found: VERB\n",
      "Correct: O\n",
      "Correct: POSSESSIVE\n",
      "Correct: VERB\n",
      "This bayou will never be the same. \"\n",
      "Found: O\n",
      "Correct: O\n",
      "John McCain is joining the chorus of Republicans condemning Donald Trump's attack's on the parents of a slain Muslim-American soldier who made an emotional case against Trump's candidacy at the Democratic National Convention.\n",
      "Found: O\n",
      "Found: POSSESSIVE\n",
      "Correct: O\n",
      "Correct: POSSESSIVE\n",
      "the pair separated after three years, she kept the doctor's name and returned to music, attending the Philadelphia Academy of Music.\n",
      "Found: O\n",
      "Correct: O\n",
      "Aktari Beygum, mother of murdered demonstrator\n",
      "Found: O\n",
      "Correct: O\n",
      "\" That vinyl be back\n",
      "Found: O\n",
      "Found: VERB\n",
      "Correct: O\n",
      "Correct: VERB\n",
      "had de Niese's tone not turned hard and brittle, short on the float and liquidity of old.\n",
      "Found: O\n",
      "Correct: O\n",
      "For Talley, the dresses represent the evolution of design, the achievement of world-class artists, glamour, even bravery.\n",
      "Found: O\n",
      "Correct: O\n",
      "In a recent CNN interview, conservative televangelist Joel Osteen -- who says that being gay be a sin -- also said, \" I knows I have not chosen to be straight.\n",
      "Found: O\n",
      "Found: VERB\n",
      "Correct: O\n",
      "Correct: VERB\n",
      "The victims ' diminished mental capacity, coupled with the fact that Weston continual moved to eludes law enforcement, meant that \" escapes for these individuals seemed impossible, \" Memeger said.\n",
      "Found: O\n",
      "Found: VERB\n",
      "Found: ADV\n",
      "Correct: O\n",
      "Correct: VERB\n",
      "Correct: ADV\n"
     ]
    }
   ],
   "source": [
    "idx2label = {v:k for k,v in label2idx.items()}\n",
    "\n",
    "for item, correct, predicted in zip(test_items, test_correct, test_predicted):\n",
    "    print(item.text)\n",
    "    for error in set(predicted):\n",
    "        print(\"Found:\", idx2label[error])\n",
    "    for error in set(correct):\n",
    "        print(\"Correct:\", idx2label[error])\n",
    "    "
   ]
  },
  {
   "cell_type": "code",
   "execution_count": 10,
   "metadata": {},
   "outputs": [
    {
     "data": {
      "application/vnd.jupyter.widget-view+json": {
       "model_id": "190057cf4650419dba4160c368a3395c",
       "version_major": 2,
       "version_minor": 0
      },
      "text/plain": [
       "HBox(children=(IntProgress(value=0, description='Evaluation iteration', max=1, style=ProgressStyle(description…"
      ]
     },
     "metadata": {},
     "output_type": "display_data"
    },
    {
     "name": "stdout",
     "output_type": "stream",
     "text": [
      "\n"
     ]
    },
    {
     "data": {
      "application/vnd.jupyter.widget-view+json": {
       "model_id": "6da0f90a2f104f9ca76a37d410abeb48",
       "version_major": 2,
       "version_minor": 0
      },
      "text/plain": [
       "HBox(children=(IntProgress(value=0, description='Evaluation iteration', max=1, style=ProgressStyle(description…"
      ]
     },
     "metadata": {},
     "output_type": "display_data"
    },
    {
     "name": "stdout",
     "output_type": "stream",
     "text": [
      "\n",
      "He sorted through a stack of documents, took one out, glanced at it, then set it aside.\n",
      "[]\n",
      "He sorted through a stack of documents, took one out, glanced at it, than set it aside.\n",
      "['Than versus then']\n"
     ]
    },
    {
     "data": {
      "application/vnd.jupyter.widget-view+json": {
       "model_id": "0f7f9d5c1aae4bb0a87c99eece477ea5",
       "version_major": 2,
       "version_minor": 0
      },
      "text/plain": [
       "HBox(children=(IntProgress(value=0, description='Evaluation iteration', max=1, style=ProgressStyle(description…"
      ]
     },
     "metadata": {},
     "output_type": "display_data"
    },
    {
     "name": "stdout",
     "output_type": "stream",
     "text": [
      "\n"
     ]
    },
    {
     "data": {
      "application/vnd.jupyter.widget-view+json": {
       "model_id": "70f3eb4418de47f58bd1c30cee4b3bf2",
       "version_major": 2,
       "version_minor": 0
      },
      "text/plain": [
       "HBox(children=(IntProgress(value=0, description='Evaluation iteration', max=1, style=ProgressStyle(description…"
      ]
     },
     "metadata": {},
     "output_type": "display_data"
    },
    {
     "name": "stdout",
     "output_type": "stream",
     "text": [
      "\n",
      "If he had ridden a female donkey, then that would have been a sign that he was following in the footsteps of Father Abraham.\n",
      "[]\n",
      "If he had ridden a female donkey, than that would have been a sign that he was following in the footsteps of Father Abraham.\n",
      "['Than versus then']\n"
     ]
    },
    {
     "data": {
      "application/vnd.jupyter.widget-view+json": {
       "model_id": "cd1353414a9e4cf0a3906a805ef3b64a",
       "version_major": 2,
       "version_minor": 0
      },
      "text/plain": [
       "HBox(children=(IntProgress(value=0, description='Evaluation iteration', max=1, style=ProgressStyle(description…"
      ]
     },
     "metadata": {},
     "output_type": "display_data"
    },
    {
     "name": "stdout",
     "output_type": "stream",
     "text": [
      "\n"
     ]
    },
    {
     "data": {
      "application/vnd.jupyter.widget-view+json": {
       "model_id": "6bede93a376f473faf3b6e72fa523abb",
       "version_major": 2,
       "version_minor": 0
      },
      "text/plain": [
       "HBox(children=(IntProgress(value=0, description='Evaluation iteration', max=1, style=ProgressStyle(description…"
      ]
     },
     "metadata": {},
     "output_type": "display_data"
    },
    {
     "name": "stdout",
     "output_type": "stream",
     "text": [
      "\n",
      "But then the steward asked if I wanted breakfast.\n",
      "[]\n",
      "But than the steward asked if I wanted breakfast.\n",
      "[]\n"
     ]
    },
    {
     "data": {
      "application/vnd.jupyter.widget-view+json": {
       "model_id": "c9580aeb8f7645bf99878702c197ce80",
       "version_major": 2,
       "version_minor": 0
      },
      "text/plain": [
       "HBox(children=(IntProgress(value=0, description='Evaluation iteration', max=1, style=ProgressStyle(description…"
      ]
     },
     "metadata": {},
     "output_type": "display_data"
    },
    {
     "name": "stdout",
     "output_type": "stream",
     "text": [
      "\n"
     ]
    },
    {
     "data": {
      "application/vnd.jupyter.widget-view+json": {
       "model_id": "fe6a864fd9564244bafd764a9ed947ad",
       "version_major": 2,
       "version_minor": 0
      },
      "text/plain": [
       "HBox(children=(IntProgress(value=0, description='Evaluation iteration', max=1, style=ProgressStyle(description…"
      ]
     },
     "metadata": {},
     "output_type": "display_data"
    },
    {
     "name": "stdout",
     "output_type": "stream",
     "text": [
      "\n",
      "The more resources we have by then, the deeper we can dig.\n",
      "[]\n",
      "The more resources we have by than, the deeper we can dig.\n",
      "['Than versus then']\n"
     ]
    },
    {
     "data": {
      "application/vnd.jupyter.widget-view+json": {
       "model_id": "158a00174cbd4004bf60d5c4b5d96815",
       "version_major": 2,
       "version_minor": 0
      },
      "text/plain": [
       "HBox(children=(IntProgress(value=0, description='Evaluation iteration', max=1, style=ProgressStyle(description…"
      ]
     },
     "metadata": {},
     "output_type": "display_data"
    },
    {
     "name": "stdout",
     "output_type": "stream",
     "text": [
      "\n"
     ]
    },
    {
     "data": {
      "application/vnd.jupyter.widget-view+json": {
       "model_id": "be64d20801fe4e09b8562c77028e7cc4",
       "version_major": 2,
       "version_minor": 0
      },
      "text/plain": [
       "HBox(children=(IntProgress(value=0, description='Evaluation iteration', max=1, style=ProgressStyle(description…"
      ]
     },
     "metadata": {},
     "output_type": "display_data"
    },
    {
     "name": "stdout",
     "output_type": "stream",
     "text": [
      "\n",
      "It lay in my hand a second, warm and still, and then sudden as that leapt away.\n",
      "['Adverbs versus adjectives']\n",
      "It lay in my hand a second, warm and still, and than sudden as that leapt away.\n",
      "['Than versus then']\n"
     ]
    },
    {
     "data": {
      "application/vnd.jupyter.widget-view+json": {
       "model_id": "3341f147d96d400585484fbb66fd4d75",
       "version_major": 2,
       "version_minor": 0
      },
      "text/plain": [
       "HBox(children=(IntProgress(value=0, description='Evaluation iteration', max=1, style=ProgressStyle(description…"
      ]
     },
     "metadata": {},
     "output_type": "display_data"
    },
    {
     "name": "stdout",
     "output_type": "stream",
     "text": [
      "\n"
     ]
    },
    {
     "data": {
      "application/vnd.jupyter.widget-view+json": {
       "model_id": "214e7b4b87ea48ecb33458c867bcfc27",
       "version_major": 2,
       "version_minor": 0
      },
      "text/plain": [
       "HBox(children=(IntProgress(value=0, description='Evaluation iteration', max=1, style=ProgressStyle(description…"
      ]
     },
     "metadata": {},
     "output_type": "display_data"
    },
    {
     "name": "stdout",
     "output_type": "stream",
     "text": [
      "\n",
      "What happened here back then was secret.\n",
      "[]\n",
      "What happened here back than was secret.\n",
      "[]\n"
     ]
    },
    {
     "data": {
      "application/vnd.jupyter.widget-view+json": {
       "model_id": "3f665797963f499b8dbc1edd3d630304",
       "version_major": 2,
       "version_minor": 0
      },
      "text/plain": [
       "HBox(children=(IntProgress(value=0, description='Evaluation iteration', max=1, style=ProgressStyle(description…"
      ]
     },
     "metadata": {},
     "output_type": "display_data"
    },
    {
     "name": "stdout",
     "output_type": "stream",
     "text": [
      "\n"
     ]
    },
    {
     "data": {
      "application/vnd.jupyter.widget-view+json": {
       "model_id": "a88acb514cd44db98b98d453a36b497f",
       "version_major": 2,
       "version_minor": 0
      },
      "text/plain": [
       "HBox(children=(IntProgress(value=0, description='Evaluation iteration', max=1, style=ProgressStyle(description…"
      ]
     },
     "metadata": {},
     "output_type": "display_data"
    },
    {
     "name": "stdout",
     "output_type": "stream",
     "text": [
      "\n",
      "Osborn falls, then gets up.\n",
      "[]\n",
      "Osborn falls, than gets up.\n",
      "['Than versus then']\n"
     ]
    },
    {
     "data": {
      "application/vnd.jupyter.widget-view+json": {
       "model_id": "9b1f1e29fcb340d8a9d6dcabbd5deac4",
       "version_major": 2,
       "version_minor": 0
      },
      "text/plain": [
       "HBox(children=(IntProgress(value=0, description='Evaluation iteration', max=1, style=ProgressStyle(description…"
      ]
     },
     "metadata": {},
     "output_type": "display_data"
    },
    {
     "name": "stdout",
     "output_type": "stream",
     "text": [
      "\n"
     ]
    },
    {
     "data": {
      "application/vnd.jupyter.widget-view+json": {
       "model_id": "425b9e16b9a04ec3b3bfdaba1dd0a049",
       "version_major": 2,
       "version_minor": 0
      },
      "text/plain": [
       "HBox(children=(IntProgress(value=0, description='Evaluation iteration', max=1, style=ProgressStyle(description…"
      ]
     },
     "metadata": {},
     "output_type": "display_data"
    },
    {
     "name": "stdout",
     "output_type": "stream",
     "text": [
      "\n",
      "I then had to compose myself and be late to my bridal shower.\n",
      "[]\n",
      "I than had to compose myself and be late to my bridal shower.\n",
      "['Than versus then']\n"
     ]
    },
    {
     "data": {
      "application/vnd.jupyter.widget-view+json": {
       "model_id": "2d75d72cec8646c7b1f3c939fcb09c8b",
       "version_major": 2,
       "version_minor": 0
      },
      "text/plain": [
       "HBox(children=(IntProgress(value=0, description='Evaluation iteration', max=1, style=ProgressStyle(description…"
      ]
     },
     "metadata": {},
     "output_type": "display_data"
    },
    {
     "name": "stdout",
     "output_type": "stream",
     "text": [
      "\n"
     ]
    },
    {
     "data": {
      "application/vnd.jupyter.widget-view+json": {
       "model_id": "cdb5f9e1ce044a5fb329f46c169e01d9",
       "version_major": 2,
       "version_minor": 0
      },
      "text/plain": [
       "HBox(children=(IntProgress(value=0, description='Evaluation iteration', max=1, style=ProgressStyle(description…"
      ]
     },
     "metadata": {},
     "output_type": "display_data"
    },
    {
     "name": "stdout",
     "output_type": "stream",
     "text": [
      "\n",
      "Student aspirations were then analyzed in relation to important student demographic factors such as gender and socioeconomic status.\n",
      "[]\n",
      "Student aspirations were than analyzed in relation to important student demographic factors such as gender and socioeconomic status.\n",
      "[]\n"
     ]
    },
    {
     "data": {
      "application/vnd.jupyter.widget-view+json": {
       "model_id": "771e8027344249a2a9e3a2dcfe8306d6",
       "version_major": 2,
       "version_minor": 0
      },
      "text/plain": [
       "HBox(children=(IntProgress(value=0, description='Evaluation iteration', max=1, style=ProgressStyle(description…"
      ]
     },
     "metadata": {},
     "output_type": "display_data"
    },
    {
     "name": "stdout",
     "output_type": "stream",
     "text": [
      "\n"
     ]
    },
    {
     "data": {
      "application/vnd.jupyter.widget-view+json": {
       "model_id": "1d12ff28836746e88ad22d0fa813e412",
       "version_major": 2,
       "version_minor": 0
      },
      "text/plain": [
       "HBox(children=(IntProgress(value=0, description='Evaluation iteration', max=1, style=ProgressStyle(description…"
      ]
     },
     "metadata": {},
     "output_type": "display_data"
    },
    {
     "name": "stdout",
     "output_type": "stream",
     "text": [
      "\n",
      "She chomped and licked and then discarded the tins.\n",
      "[]\n",
      "She chomped and licked and than discarded the tins.\n",
      "[]\n"
     ]
    },
    {
     "data": {
      "application/vnd.jupyter.widget-view+json": {
       "model_id": "586fbbb18cf247c5b4ed373dc165e178",
       "version_major": 2,
       "version_minor": 0
      },
      "text/plain": [
       "HBox(children=(IntProgress(value=0, description='Evaluation iteration', max=1, style=ProgressStyle(description…"
      ]
     },
     "metadata": {},
     "output_type": "display_data"
    },
    {
     "name": "stdout",
     "output_type": "stream",
     "text": [
      "\n"
     ]
    },
    {
     "data": {
      "application/vnd.jupyter.widget-view+json": {
       "model_id": "91de6097955e4fc886cad96f244e969b",
       "version_major": 2,
       "version_minor": 0
      },
      "text/plain": [
       "HBox(children=(IntProgress(value=0, description='Evaluation iteration', max=1, style=ProgressStyle(description…"
      ]
     },
     "metadata": {},
     "output_type": "display_data"
    },
    {
     "name": "stdout",
     "output_type": "stream",
     "text": [
      "\n",
      "So far he has recycled more than one hundred thousand pounds.\n",
      "[]\n",
      "So far he has recycled more then one hundred thousand pounds.\n",
      "['Than versus then']\n"
     ]
    },
    {
     "data": {
      "application/vnd.jupyter.widget-view+json": {
       "model_id": "1b9d4052d7a74e76a71bb8977e99f3f2",
       "version_major": 2,
       "version_minor": 0
      },
      "text/plain": [
       "HBox(children=(IntProgress(value=0, description='Evaluation iteration', max=1, style=ProgressStyle(description…"
      ]
     },
     "metadata": {},
     "output_type": "display_data"
    },
    {
     "name": "stdout",
     "output_type": "stream",
     "text": [
      "\n"
     ]
    },
    {
     "data": {
      "application/vnd.jupyter.widget-view+json": {
       "model_id": "02a5e6b3ddc747e3bfcea13c9c4b92bd",
       "version_major": 2,
       "version_minor": 0
      },
      "text/plain": [
       "HBox(children=(IntProgress(value=0, description='Evaluation iteration', max=1, style=ProgressStyle(description…"
      ]
     },
     "metadata": {},
     "output_type": "display_data"
    },
    {
     "name": "stdout",
     "output_type": "stream",
     "text": [
      "\n",
      "Both were lighter and more powerful than piston engines, as speeds quickly showed.\n",
      "[]\n",
      "Both were lighter and more powerful then piston engines, as speeds quickly showed.\n",
      "['Than versus then']\n"
     ]
    },
    {
     "data": {
      "application/vnd.jupyter.widget-view+json": {
       "model_id": "ee02151af0fa486ca618fe9294daa66f",
       "version_major": 2,
       "version_minor": 0
      },
      "text/plain": [
       "HBox(children=(IntProgress(value=0, description='Evaluation iteration', max=1, style=ProgressStyle(description…"
      ]
     },
     "metadata": {},
     "output_type": "display_data"
    },
    {
     "name": "stdout",
     "output_type": "stream",
     "text": [
      "\n"
     ]
    },
    {
     "data": {
      "application/vnd.jupyter.widget-view+json": {
       "model_id": "b57c88832d224f20beeed746508b2438",
       "version_major": 2,
       "version_minor": 0
      },
      "text/plain": [
       "HBox(children=(IntProgress(value=0, description='Evaluation iteration', max=1, style=ProgressStyle(description…"
      ]
     },
     "metadata": {},
     "output_type": "display_data"
    },
    {
     "name": "stdout",
     "output_type": "stream",
     "text": [
      "\n",
      "More than anything else, they want to protect their place atop society.\n",
      "[]\n",
      "More then anything else, they want to protect their place atop society.\n",
      "['Than versus then']\n"
     ]
    },
    {
     "data": {
      "application/vnd.jupyter.widget-view+json": {
       "model_id": "c4f8fee6f30a4f86832318d59195c68d",
       "version_major": 2,
       "version_minor": 0
      },
      "text/plain": [
       "HBox(children=(IntProgress(value=0, description='Evaluation iteration', max=1, style=ProgressStyle(description…"
      ]
     },
     "metadata": {},
     "output_type": "display_data"
    },
    {
     "name": "stdout",
     "output_type": "stream",
     "text": [
      "\n"
     ]
    },
    {
     "data": {
      "application/vnd.jupyter.widget-view+json": {
       "model_id": "0dd0cf88a3ee4fe5988278441ce1f960",
       "version_major": 2,
       "version_minor": 0
      },
      "text/plain": [
       "HBox(children=(IntProgress(value=0, description='Evaluation iteration', max=1, style=ProgressStyle(description…"
      ]
     },
     "metadata": {},
     "output_type": "display_data"
    },
    {
     "name": "stdout",
     "output_type": "stream",
     "text": [
      "\n",
      "Central or abdominal fat is more closely related to testosterone levels than other forms of obesity.\n",
      "[]\n",
      "Central or abdominal fat is more closely related to testosterone levels then other forms of obesity.\n",
      "[]\n"
     ]
    },
    {
     "data": {
      "application/vnd.jupyter.widget-view+json": {
       "model_id": "fca94f0325384a37a6995ad6a02c61c3",
       "version_major": 2,
       "version_minor": 0
      },
      "text/plain": [
       "HBox(children=(IntProgress(value=0, description='Evaluation iteration', max=1, style=ProgressStyle(description…"
      ]
     },
     "metadata": {},
     "output_type": "display_data"
    },
    {
     "name": "stdout",
     "output_type": "stream",
     "text": [
      "\n"
     ]
    },
    {
     "data": {
      "application/vnd.jupyter.widget-view+json": {
       "model_id": "035cc2d9566247ad82fa69e22a321eb8",
       "version_major": 2,
       "version_minor": 0
      },
      "text/plain": [
       "HBox(children=(IntProgress(value=0, description='Evaluation iteration', max=1, style=ProgressStyle(description…"
      ]
     },
     "metadata": {},
     "output_type": "display_data"
    },
    {
     "name": "stdout",
     "output_type": "stream",
     "text": [
      "\n",
      "Far as he was concerned, a slave should have no desires other than to fulfill the desires of his master.\n",
      "[]\n",
      "Far as he was concerned, a slave should have no desires other then to fulfill the desires of his master.\n",
      "['Than versus then']\n"
     ]
    },
    {
     "data": {
      "application/vnd.jupyter.widget-view+json": {
       "model_id": "fce30fe24eca406485eba3db6fb92c98",
       "version_major": 2,
       "version_minor": 0
      },
      "text/plain": [
       "HBox(children=(IntProgress(value=0, description='Evaluation iteration', max=1, style=ProgressStyle(description…"
      ]
     },
     "metadata": {},
     "output_type": "display_data"
    },
    {
     "name": "stdout",
     "output_type": "stream",
     "text": [
      "\n"
     ]
    },
    {
     "data": {
      "application/vnd.jupyter.widget-view+json": {
       "model_id": "db4a809b390c43c9b9044376f4c1dc86",
       "version_major": 2,
       "version_minor": 0
      },
      "text/plain": [
       "HBox(children=(IntProgress(value=0, description='Evaluation iteration', max=1, style=ProgressStyle(description…"
      ]
     },
     "metadata": {},
     "output_type": "display_data"
    },
    {
     "name": "stdout",
     "output_type": "stream",
     "text": [
      "\n",
      "It looks like there's nothing much I can do about it other than keeping my fingers crossed.\n",
      "[]\n",
      "It looks like there's nothing much I can do about it other then keeping my fingers crossed.\n",
      "['Than versus then']\n"
     ]
    },
    {
     "data": {
      "application/vnd.jupyter.widget-view+json": {
       "model_id": "21c6324b83044286bb89eb94b8e1d662",
       "version_major": 2,
       "version_minor": 0
      },
      "text/plain": [
       "HBox(children=(IntProgress(value=0, description='Evaluation iteration', max=1, style=ProgressStyle(description…"
      ]
     },
     "metadata": {},
     "output_type": "display_data"
    },
    {
     "name": "stdout",
     "output_type": "stream",
     "text": [
      "\n"
     ]
    },
    {
     "data": {
      "application/vnd.jupyter.widget-view+json": {
       "model_id": "98de38a4bf334c299cede06bef3506ef",
       "version_major": 2,
       "version_minor": 0
      },
      "text/plain": [
       "HBox(children=(IntProgress(value=0, description='Evaluation iteration', max=1, style=ProgressStyle(description…"
      ]
     },
     "metadata": {},
     "output_type": "display_data"
    },
    {
     "name": "stdout",
     "output_type": "stream",
     "text": [
      "\n",
      "Jeff pressed his lips together but knew better than to say no.\n",
      "[]\n",
      "Jeff pressed his lips together but knew better then to say no.\n",
      "['Than versus then']\n"
     ]
    },
    {
     "data": {
      "application/vnd.jupyter.widget-view+json": {
       "model_id": "0b1c7101aa9b44e5bfa4ae3fdbb5d409",
       "version_major": 2,
       "version_minor": 0
      },
      "text/plain": [
       "HBox(children=(IntProgress(value=0, description='Evaluation iteration', max=1, style=ProgressStyle(description…"
      ]
     },
     "metadata": {},
     "output_type": "display_data"
    },
    {
     "name": "stdout",
     "output_type": "stream",
     "text": [
      "\n"
     ]
    },
    {
     "data": {
      "application/vnd.jupyter.widget-view+json": {
       "model_id": "4348aa6606ba4db09221949f67408bba",
       "version_major": 2,
       "version_minor": 0
      },
      "text/plain": [
       "HBox(children=(IntProgress(value=0, description='Evaluation iteration', max=1, style=ProgressStyle(description…"
      ]
     },
     "metadata": {},
     "output_type": "display_data"
    },
    {
     "name": "stdout",
     "output_type": "stream",
     "text": [
      "\n",
      "The number of women playing sports in college has gone from less than 32,000 before Title IX to almost 219,000 last year.\n",
      "[]\n",
      "The number of women playing sports in college has gone from less then 32,000 before Title IX to almost 219,000 last year.\n",
      "['Than versus then']\n"
     ]
    },
    {
     "data": {
      "application/vnd.jupyter.widget-view+json": {
       "model_id": "3be65539b3574c9895a62f1afe8c909e",
       "version_major": 2,
       "version_minor": 0
      },
      "text/plain": [
       "HBox(children=(IntProgress(value=0, description='Evaluation iteration', max=1, style=ProgressStyle(description…"
      ]
     },
     "metadata": {},
     "output_type": "display_data"
    },
    {
     "name": "stdout",
     "output_type": "stream",
     "text": [
      "\n"
     ]
    },
    {
     "data": {
      "application/vnd.jupyter.widget-view+json": {
       "model_id": "163c9eaf5a4b44b487c1d410e9f3713f",
       "version_major": 2,
       "version_minor": 0
      },
      "text/plain": [
       "HBox(children=(IntProgress(value=0, description='Evaluation iteration', max=1, style=ProgressStyle(description…"
      ]
     },
     "metadata": {},
     "output_type": "display_data"
    },
    {
     "name": "stdout",
     "output_type": "stream",
     "text": [
      "\n",
      "She was twenty years younger than me.\n",
      "['Subject-verb agreement']\n",
      "She was twenty years younger then me.\n",
      "['Subject-verb agreement', 'Than versus then']\n"
     ]
    },
    {
     "data": {
      "application/vnd.jupyter.widget-view+json": {
       "model_id": "353d096c877045039edbee8cba65f527",
       "version_major": 2,
       "version_minor": 0
      },
      "text/plain": [
       "HBox(children=(IntProgress(value=0, description='Evaluation iteration', max=1, style=ProgressStyle(description…"
      ]
     },
     "metadata": {},
     "output_type": "display_data"
    },
    {
     "name": "stdout",
     "output_type": "stream",
     "text": [
      "\n"
     ]
    },
    {
     "data": {
      "application/vnd.jupyter.widget-view+json": {
       "model_id": "3b7b62d30305497e840c87684d804e4e",
       "version_major": 2,
       "version_minor": 0
      },
      "text/plain": [
       "HBox(children=(IntProgress(value=0, description='Evaluation iteration', max=1, style=ProgressStyle(description…"
      ]
     },
     "metadata": {},
     "output_type": "display_data"
    },
    {
     "name": "stdout",
     "output_type": "stream",
     "text": [
      "\n",
      "The first big room she enters is none other than the Red Keep's main hall, where the Iron Throne sits.\n",
      "[]\n",
      "The first big room she enters is none other then the Red Keep's main hall, where the Iron Throne sits.\n",
      "['Than versus then']\n"
     ]
    },
    {
     "data": {
      "application/vnd.jupyter.widget-view+json": {
       "model_id": "0ac820068e924a5b91789d4044144b59",
       "version_major": 2,
       "version_minor": 0
      },
      "text/plain": [
       "HBox(children=(IntProgress(value=0, description='Evaluation iteration', max=1, style=ProgressStyle(description…"
      ]
     },
     "metadata": {},
     "output_type": "display_data"
    },
    {
     "name": "stdout",
     "output_type": "stream",
     "text": [
      "\n"
     ]
    },
    {
     "data": {
      "application/vnd.jupyter.widget-view+json": {
       "model_id": "3279db1b25314347b9e9d3e3012d6f06",
       "version_major": 2,
       "version_minor": 0
      },
      "text/plain": [
       "HBox(children=(IntProgress(value=0, description='Evaluation iteration', max=1, style=ProgressStyle(description…"
      ]
     },
     "metadata": {},
     "output_type": "display_data"
    },
    {
     "name": "stdout",
     "output_type": "stream",
     "text": [
      "\n",
      "The extensive check takes almost an hour for a trainee, but an experienced driver can do it in about 20 minutes.\n",
      "[]\n",
      "The extensive check take almost an hour for a trainee, but an experienced driver can do it in about 20 minutes.\n",
      "['Subject-verb agreement']\n"
     ]
    },
    {
     "data": {
      "application/vnd.jupyter.widget-view+json": {
       "model_id": "eb1df815ff8d4b7b8855a701a8734e9f",
       "version_major": 2,
       "version_minor": 0
      },
      "text/plain": [
       "HBox(children=(IntProgress(value=0, description='Evaluation iteration', max=1, style=ProgressStyle(description…"
      ]
     },
     "metadata": {},
     "output_type": "display_data"
    },
    {
     "name": "stdout",
     "output_type": "stream",
     "text": [
      "\n"
     ]
    },
    {
     "data": {
      "application/vnd.jupyter.widget-view+json": {
       "model_id": "94132f40f60c4870a955f3d0b2e98b64",
       "version_major": 2,
       "version_minor": 0
      },
      "text/plain": [
       "HBox(children=(IntProgress(value=0, description='Evaluation iteration', max=1, style=ProgressStyle(description…"
      ]
     },
     "metadata": {},
     "output_type": "display_data"
    },
    {
     "name": "stdout",
     "output_type": "stream",
     "text": [
      "\n",
      "The bearded man appears on the stairway, a hand splayed over half his bloody face.\n",
      "[]\n",
      "The bearded man appear on the stairway, a hand splayed over half his bloody face.\n",
      "['Subject-verb agreement']\n"
     ]
    },
    {
     "data": {
      "application/vnd.jupyter.widget-view+json": {
       "model_id": "5c4d02727f344fcdb31d802aa14d5def",
       "version_major": 2,
       "version_minor": 0
      },
      "text/plain": [
       "HBox(children=(IntProgress(value=0, description='Evaluation iteration', max=1, style=ProgressStyle(description…"
      ]
     },
     "metadata": {},
     "output_type": "display_data"
    },
    {
     "name": "stdout",
     "output_type": "stream",
     "text": [
      "\n"
     ]
    },
    {
     "data": {
      "application/vnd.jupyter.widget-view+json": {
       "model_id": "d87841014ba549a5913d50aed5c63d8c",
       "version_major": 2,
       "version_minor": 0
      },
      "text/plain": [
       "HBox(children=(IntProgress(value=0, description='Evaluation iteration', max=1, style=ProgressStyle(description…"
      ]
     },
     "metadata": {},
     "output_type": "display_data"
    },
    {
     "name": "stdout",
     "output_type": "stream",
     "text": [
      "\n",
      "Those findings underscore a major concern.\n",
      "[]\n",
      "Those findings underscores a major concern.\n",
      "['Subject-verb agreement']\n"
     ]
    },
    {
     "data": {
      "application/vnd.jupyter.widget-view+json": {
       "model_id": "1edc332de616409fa4f4d9bf408c32b0",
       "version_major": 2,
       "version_minor": 0
      },
      "text/plain": [
       "HBox(children=(IntProgress(value=0, description='Evaluation iteration', max=1, style=ProgressStyle(description…"
      ]
     },
     "metadata": {},
     "output_type": "display_data"
    },
    {
     "name": "stdout",
     "output_type": "stream",
     "text": [
      "\n"
     ]
    },
    {
     "data": {
      "application/vnd.jupyter.widget-view+json": {
       "model_id": "a9784083d7454eba8d48562ba88b5e59",
       "version_major": 2,
       "version_minor": 0
      },
      "text/plain": [
       "HBox(children=(IntProgress(value=0, description='Evaluation iteration', max=1, style=ProgressStyle(description…"
      ]
     },
     "metadata": {},
     "output_type": "display_data"
    },
    {
     "name": "stdout",
     "output_type": "stream",
     "text": [
      "\n",
      "Pitt also said the court's ruling does not mean Bevin was wrong when he issued the order.\n",
      "[]\n",
      "Pitt also said the court's ruling do not mean Bevin was wrong when he issued the order.\n",
      "[]\n"
     ]
    },
    {
     "data": {
      "application/vnd.jupyter.widget-view+json": {
       "model_id": "4a5a3612500a4c76942fc194a31431c2",
       "version_major": 2,
       "version_minor": 0
      },
      "text/plain": [
       "HBox(children=(IntProgress(value=0, description='Evaluation iteration', max=1, style=ProgressStyle(description…"
      ]
     },
     "metadata": {},
     "output_type": "display_data"
    },
    {
     "name": "stdout",
     "output_type": "stream",
     "text": [
      "\n"
     ]
    },
    {
     "data": {
      "application/vnd.jupyter.widget-view+json": {
       "model_id": "b1a08dd4d72f4136a7befe01a3312199",
       "version_major": 2,
       "version_minor": 0
      },
      "text/plain": [
       "HBox(children=(IntProgress(value=0, description='Evaluation iteration', max=1, style=ProgressStyle(description…"
      ]
     },
     "metadata": {},
     "output_type": "display_data"
    },
    {
     "name": "stdout",
     "output_type": "stream",
     "text": [
      "\n",
      "Your faith remains in the methods of the law courts.\n",
      "[]\n",
      "Your faith remain in the methods of the law courts.\n",
      "['Subject-verb agreement']\n"
     ]
    },
    {
     "data": {
      "application/vnd.jupyter.widget-view+json": {
       "model_id": "2f483eb247a14a2d8b0997bab94bd815",
       "version_major": 2,
       "version_minor": 0
      },
      "text/plain": [
       "HBox(children=(IntProgress(value=0, description='Evaluation iteration', max=1, style=ProgressStyle(description…"
      ]
     },
     "metadata": {},
     "output_type": "display_data"
    },
    {
     "name": "stdout",
     "output_type": "stream",
     "text": [
      "\n"
     ]
    },
    {
     "data": {
      "application/vnd.jupyter.widget-view+json": {
       "model_id": "75ae192a0af64ffeb837f811af39d282",
       "version_major": 2,
       "version_minor": 0
      },
      "text/plain": [
       "HBox(children=(IntProgress(value=0, description='Evaluation iteration', max=1, style=ProgressStyle(description…"
      ]
     },
     "metadata": {},
     "output_type": "display_data"
    },
    {
     "name": "stdout",
     "output_type": "stream",
     "text": [
      "\n",
      "It looks like a normal fridge with a giant Android-esque phone glued to the door.\n",
      "[]\n",
      "It look like a normal fridge with a giant Android-esque phone glued to the door.\n",
      "['Subject-verb agreement']\n"
     ]
    },
    {
     "data": {
      "application/vnd.jupyter.widget-view+json": {
       "model_id": "3d3c8010228149849b8581a1af2d07da",
       "version_major": 2,
       "version_minor": 0
      },
      "text/plain": [
       "HBox(children=(IntProgress(value=0, description='Evaluation iteration', max=1, style=ProgressStyle(description…"
      ]
     },
     "metadata": {},
     "output_type": "display_data"
    },
    {
     "name": "stdout",
     "output_type": "stream",
     "text": [
      "\n"
     ]
    },
    {
     "data": {
      "application/vnd.jupyter.widget-view+json": {
       "model_id": "1c6c7b567c4a401189536a49a65fc87c",
       "version_major": 2,
       "version_minor": 0
      },
      "text/plain": [
       "HBox(children=(IntProgress(value=0, description='Evaluation iteration', max=1, style=ProgressStyle(description…"
      ]
     },
     "metadata": {},
     "output_type": "display_data"
    },
    {
     "name": "stdout",
     "output_type": "stream",
     "text": [
      "\n",
      "Take a look at the House, if you want to see what happens when Republicans take over.\n",
      "[]\n",
      "Take a look at the House, if you want to see what happen when Republicans take over.\n",
      "['Subject-verb agreement']\n"
     ]
    },
    {
     "data": {
      "application/vnd.jupyter.widget-view+json": {
       "model_id": "f954667122d24f5a99374bc0336be7da",
       "version_major": 2,
       "version_minor": 0
      },
      "text/plain": [
       "HBox(children=(IntProgress(value=0, description='Evaluation iteration', max=1, style=ProgressStyle(description…"
      ]
     },
     "metadata": {},
     "output_type": "display_data"
    },
    {
     "name": "stdout",
     "output_type": "stream",
     "text": [
      "\n"
     ]
    },
    {
     "data": {
      "application/vnd.jupyter.widget-view+json": {
       "model_id": "a17f4a43e5a94c9e9acd489f5712523b",
       "version_major": 2,
       "version_minor": 0
      },
      "text/plain": [
       "HBox(children=(IntProgress(value=0, description='Evaluation iteration', max=1, style=ProgressStyle(description…"
      ]
     },
     "metadata": {},
     "output_type": "display_data"
    },
    {
     "name": "stdout",
     "output_type": "stream",
     "text": [
      "\n",
      "Everything that has gone before must be left in.\n",
      "[]\n",
      "Everything that have gone before must be left in.\n",
      "['Subject-verb agreement']\n"
     ]
    },
    {
     "data": {
      "application/vnd.jupyter.widget-view+json": {
       "model_id": "fc8b943eb38749dc915d11f614a6afd1",
       "version_major": 2,
       "version_minor": 0
      },
      "text/plain": [
       "HBox(children=(IntProgress(value=0, description='Evaluation iteration', max=1, style=ProgressStyle(description…"
      ]
     },
     "metadata": {},
     "output_type": "display_data"
    },
    {
     "name": "stdout",
     "output_type": "stream",
     "text": [
      "\n"
     ]
    },
    {
     "data": {
      "application/vnd.jupyter.widget-view+json": {
       "model_id": "0550e755ad494e3a88cfc8ba3a8f3934",
       "version_major": 2,
       "version_minor": 0
      },
      "text/plain": [
       "HBox(children=(IntProgress(value=0, description='Evaluation iteration', max=1, style=ProgressStyle(description…"
      ]
     },
     "metadata": {},
     "output_type": "display_data"
    },
    {
     "name": "stdout",
     "output_type": "stream",
     "text": [
      "\n",
      "She's channeling her emotions into work, which includes her Las Vegas run and her upcoming lingerie line the Intimate Britney Spears.\n",
      "[]\n",
      "She's channeling her emotions into work, which include her Las Vegas run and her upcoming lingerie line the Intimate Britney Spears.\n",
      "['Subject-verb agreement']\n"
     ]
    },
    {
     "data": {
      "application/vnd.jupyter.widget-view+json": {
       "model_id": "308827576bc04555b155d26554039cf9",
       "version_major": 2,
       "version_minor": 0
      },
      "text/plain": [
       "HBox(children=(IntProgress(value=0, description='Evaluation iteration', max=1, style=ProgressStyle(description…"
      ]
     },
     "metadata": {},
     "output_type": "display_data"
    },
    {
     "name": "stdout",
     "output_type": "stream",
     "text": [
      "\n"
     ]
    },
    {
     "data": {
      "application/vnd.jupyter.widget-view+json": {
       "model_id": "ed86b7b5b09140cd800d64262412ed39",
       "version_major": 2,
       "version_minor": 0
      },
      "text/plain": [
       "HBox(children=(IntProgress(value=0, description='Evaluation iteration', max=1, style=ProgressStyle(description…"
      ]
     },
     "metadata": {},
     "output_type": "display_data"
    },
    {
     "name": "stdout",
     "output_type": "stream",
     "text": [
      "\n",
      "These delayed outcome measures may better inform the extent to which sustained learning has occurred.\n",
      "[]\n",
      "These delayed outcome measures may better inform the extent to which sustained learning have occurred.\n",
      "['Subject-verb agreement']\n"
     ]
    },
    {
     "data": {
      "application/vnd.jupyter.widget-view+json": {
       "model_id": "b731963e944a492ca156dfc17c1ad0ac",
       "version_major": 2,
       "version_minor": 0
      },
      "text/plain": [
       "HBox(children=(IntProgress(value=0, description='Evaluation iteration', max=1, style=ProgressStyle(description…"
      ]
     },
     "metadata": {},
     "output_type": "display_data"
    },
    {
     "name": "stdout",
     "output_type": "stream",
     "text": [
      "\n"
     ]
    },
    {
     "data": {
      "application/vnd.jupyter.widget-view+json": {
       "model_id": "a7f1fd31ec634a6a8c4f68b0f4ccdc8f",
       "version_major": 2,
       "version_minor": 0
      },
      "text/plain": [
       "HBox(children=(IntProgress(value=0, description='Evaluation iteration', max=1, style=ProgressStyle(description…"
      ]
     },
     "metadata": {},
     "output_type": "display_data"
    },
    {
     "name": "stdout",
     "output_type": "stream",
     "text": [
      "\n",
      "She can come to me if she ever needs an ear or some help down the road.\n",
      "[]\n",
      "She can come to me if she ever need an ear or some help down the road.\n",
      "['Subject-verb agreement']\n"
     ]
    },
    {
     "data": {
      "application/vnd.jupyter.widget-view+json": {
       "model_id": "05d173b22065488f8872c863082c471d",
       "version_major": 2,
       "version_minor": 0
      },
      "text/plain": [
       "HBox(children=(IntProgress(value=0, description='Evaluation iteration', max=1, style=ProgressStyle(description…"
      ]
     },
     "metadata": {},
     "output_type": "display_data"
    },
    {
     "name": "stdout",
     "output_type": "stream",
     "text": [
      "\n"
     ]
    },
    {
     "data": {
      "application/vnd.jupyter.widget-view+json": {
       "model_id": "fe25276428314c28b9c5ddb2d79f01ad",
       "version_major": 2,
       "version_minor": 0
      },
      "text/plain": [
       "HBox(children=(IntProgress(value=0, description='Evaluation iteration', max=1, style=ProgressStyle(description…"
      ]
     },
     "metadata": {},
     "output_type": "display_data"
    },
    {
     "name": "stdout",
     "output_type": "stream",
     "text": [
      "\n",
      "Martin family attorney Ben Crump believes there's little doubt what Zimmerman did that night.\n",
      "[]\n",
      "Martin family attorney Ben Crump believe there's little doubt what Zimmerman did that night.\n",
      "[]\n"
     ]
    },
    {
     "data": {
      "application/vnd.jupyter.widget-view+json": {
       "model_id": "09d6a39875a84755acfed32885ffd05b",
       "version_major": 2,
       "version_minor": 0
      },
      "text/plain": [
       "HBox(children=(IntProgress(value=0, description='Evaluation iteration', max=1, style=ProgressStyle(description…"
      ]
     },
     "metadata": {},
     "output_type": "display_data"
    },
    {
     "name": "stdout",
     "output_type": "stream",
     "text": [
      "\n"
     ]
    },
    {
     "data": {
      "application/vnd.jupyter.widget-view+json": {
       "model_id": "741bea036dae4ffb849c049c65b12e56",
       "version_major": 2,
       "version_minor": 0
      },
      "text/plain": [
       "HBox(children=(IntProgress(value=0, description='Evaluation iteration', max=1, style=ProgressStyle(description…"
      ]
     },
     "metadata": {},
     "output_type": "display_data"
    },
    {
     "name": "stdout",
     "output_type": "stream",
     "text": [
      "\n",
      "This study addresses this question using a national data set.\n",
      "[]\n",
      "This study address this question using a national data set.\n",
      "['Subject-verb agreement']\n"
     ]
    },
    {
     "data": {
      "application/vnd.jupyter.widget-view+json": {
       "model_id": "476cc06c070a49c98618f170a1192fd6",
       "version_major": 2,
       "version_minor": 0
      },
      "text/plain": [
       "HBox(children=(IntProgress(value=0, description='Evaluation iteration', max=1, style=ProgressStyle(description…"
      ]
     },
     "metadata": {},
     "output_type": "display_data"
    },
    {
     "name": "stdout",
     "output_type": "stream",
     "text": [
      "\n"
     ]
    },
    {
     "data": {
      "application/vnd.jupyter.widget-view+json": {
       "model_id": "2fe57d6eca944872bca83a1624298f14",
       "version_major": 2,
       "version_minor": 0
      },
      "text/plain": [
       "HBox(children=(IntProgress(value=0, description='Evaluation iteration', max=1, style=ProgressStyle(description…"
      ]
     },
     "metadata": {},
     "output_type": "display_data"
    },
    {
     "name": "stdout",
     "output_type": "stream",
     "text": [
      "\n",
      "And once kids come along, trying to coordinate schedules gets dicey.\n",
      "[]\n",
      "And once kids come along, trying to coordinate schedules get dicey.\n",
      "['Subject-verb agreement']\n"
     ]
    },
    {
     "data": {
      "application/vnd.jupyter.widget-view+json": {
       "model_id": "953b8c842a2545c68a35b36934777621",
       "version_major": 2,
       "version_minor": 0
      },
      "text/plain": [
       "HBox(children=(IntProgress(value=0, description='Evaluation iteration', max=1, style=ProgressStyle(description…"
      ]
     },
     "metadata": {},
     "output_type": "display_data"
    },
    {
     "name": "stdout",
     "output_type": "stream",
     "text": [
      "\n"
     ]
    },
    {
     "data": {
      "application/vnd.jupyter.widget-view+json": {
       "model_id": "f7d590a33c084444b272f89faf8c4a8c",
       "version_major": 2,
       "version_minor": 0
      },
      "text/plain": [
       "HBox(children=(IntProgress(value=0, description='Evaluation iteration', max=1, style=ProgressStyle(description…"
      ]
     },
     "metadata": {},
     "output_type": "display_data"
    },
    {
     "name": "stdout",
     "output_type": "stream",
     "text": [
      "\n",
      "So once the cucumber becomes a pickle, there is no going back to the cucumber again.\n",
      "[]\n",
      "So once the cucumber become a pickle, there is no going back to the cucumber again.\n",
      "['Subject-verb agreement']\n"
     ]
    },
    {
     "data": {
      "application/vnd.jupyter.widget-view+json": {
       "model_id": "801e4e1311e1438a8d5c021845446576",
       "version_major": 2,
       "version_minor": 0
      },
      "text/plain": [
       "HBox(children=(IntProgress(value=0, description='Evaluation iteration', max=1, style=ProgressStyle(description…"
      ]
     },
     "metadata": {},
     "output_type": "display_data"
    },
    {
     "name": "stdout",
     "output_type": "stream",
     "text": [
      "\n"
     ]
    },
    {
     "data": {
      "application/vnd.jupyter.widget-view+json": {
       "model_id": "4ddae5b6e413421fb9c78080ea34aa58",
       "version_major": 2,
       "version_minor": 0
      },
      "text/plain": [
       "HBox(children=(IntProgress(value=0, description='Evaluation iteration', max=1, style=ProgressStyle(description…"
      ]
     },
     "metadata": {},
     "output_type": "display_data"
    },
    {
     "name": "stdout",
     "output_type": "stream",
     "text": [
      "\n",
      "But it just might be worth the effort if it means you'll have more room to spread out all your open windows.\n",
      "[]\n",
      "But it just might be worth the effort if it mean you'll have more room to spread out all your open windows.\n",
      "['Subject-verb agreement']\n"
     ]
    },
    {
     "data": {
      "application/vnd.jupyter.widget-view+json": {
       "model_id": "89cb090a864f4a0c8cae193399665668",
       "version_major": 2,
       "version_minor": 0
      },
      "text/plain": [
       "HBox(children=(IntProgress(value=0, description='Evaluation iteration', max=1, style=ProgressStyle(description…"
      ]
     },
     "metadata": {},
     "output_type": "display_data"
    },
    {
     "name": "stdout",
     "output_type": "stream",
     "text": [
      "\n"
     ]
    },
    {
     "data": {
      "application/vnd.jupyter.widget-view+json": {
       "model_id": "32aa23e0998f4877989abda4b5c9980c",
       "version_major": 2,
       "version_minor": 0
      },
      "text/plain": [
       "HBox(children=(IntProgress(value=0, description='Evaluation iteration', max=1, style=ProgressStyle(description…"
      ]
     },
     "metadata": {},
     "output_type": "display_data"
    },
    {
     "name": "stdout",
     "output_type": "stream",
     "text": [
      "\n",
      "If that happens, the grasshopper has a backup defense.\n",
      "[]\n",
      "If that happens, the grasshopper have a backup defense.\n",
      "['Subject-verb agreement']\n"
     ]
    },
    {
     "data": {
      "application/vnd.jupyter.widget-view+json": {
       "model_id": "6f6dbf8b6b0a40b3aecf05a9628d2731",
       "version_major": 2,
       "version_minor": 0
      },
      "text/plain": [
       "HBox(children=(IntProgress(value=0, description='Evaluation iteration', max=1, style=ProgressStyle(description…"
      ]
     },
     "metadata": {},
     "output_type": "display_data"
    },
    {
     "name": "stdout",
     "output_type": "stream",
     "text": [
      "\n"
     ]
    },
    {
     "data": {
      "application/vnd.jupyter.widget-view+json": {
       "model_id": "39823039bdb842f5af678ff08d2ad04f",
       "version_major": 2,
       "version_minor": 0
      },
      "text/plain": [
       "HBox(children=(IntProgress(value=0, description='Evaluation iteration', max=1, style=ProgressStyle(description…"
      ]
     },
     "metadata": {},
     "output_type": "display_data"
    },
    {
     "name": "stdout",
     "output_type": "stream",
     "text": [
      "\n",
      "It's shocking that so much has happened in the 10 years.\n",
      "[]\n",
      "It's shocking that so much have happened in the 10 years.\n",
      "[]\n"
     ]
    },
    {
     "data": {
      "application/vnd.jupyter.widget-view+json": {
       "model_id": "fa24bc000ba147128e261b9693e7d952",
       "version_major": 2,
       "version_minor": 0
      },
      "text/plain": [
       "HBox(children=(IntProgress(value=0, description='Evaluation iteration', max=1, style=ProgressStyle(description…"
      ]
     },
     "metadata": {},
     "output_type": "display_data"
    },
    {
     "name": "stdout",
     "output_type": "stream",
     "text": [
      "\n"
     ]
    },
    {
     "data": {
      "application/vnd.jupyter.widget-view+json": {
       "model_id": "1fe3a58a0c3545068f34995d86e87bd7",
       "version_major": 2,
       "version_minor": 0
      },
      "text/plain": [
       "HBox(children=(IntProgress(value=0, description='Evaluation iteration', max=1, style=ProgressStyle(description…"
      ]
     },
     "metadata": {},
     "output_type": "display_data"
    },
    {
     "name": "stdout",
     "output_type": "stream",
     "text": [
      "\n",
      "Since you can't see an ultrasonic beam, the tool uses a laser dot to help you aim correctly.\n",
      "[]\n",
      "Since you can't see an ultrasonic beam, the tool use a laser dot to help you aim correctly.\n",
      "[]\n"
     ]
    },
    {
     "data": {
      "application/vnd.jupyter.widget-view+json": {
       "model_id": "b1cc15a83be94c81ae69ca77f48520e8",
       "version_major": 2,
       "version_minor": 0
      },
      "text/plain": [
       "HBox(children=(IntProgress(value=0, description='Evaluation iteration', max=1, style=ProgressStyle(description…"
      ]
     },
     "metadata": {},
     "output_type": "display_data"
    },
    {
     "name": "stdout",
     "output_type": "stream",
     "text": [
      "\n"
     ]
    },
    {
     "data": {
      "application/vnd.jupyter.widget-view+json": {
       "model_id": "701d7ef6387d405b86f978f3608a1b20",
       "version_major": 2,
       "version_minor": 0
      },
      "text/plain": [
       "HBox(children=(IntProgress(value=0, description='Evaluation iteration', max=1, style=ProgressStyle(description…"
      ]
     },
     "metadata": {},
     "output_type": "display_data"
    },
    {
     "name": "stdout",
     "output_type": "stream",
     "text": [
      "\n",
      "He vows to double earnings per share within five years.\n",
      "[]\n",
      "He vows to double earnings per share within five years.\n",
      "[]\n"
     ]
    },
    {
     "data": {
      "application/vnd.jupyter.widget-view+json": {
       "model_id": "6b598b4a5c304f52811fb91939bc3ae9",
       "version_major": 2,
       "version_minor": 0
      },
      "text/plain": [
       "HBox(children=(IntProgress(value=0, description='Evaluation iteration', max=1, style=ProgressStyle(description…"
      ]
     },
     "metadata": {},
     "output_type": "display_data"
    },
    {
     "name": "stdout",
     "output_type": "stream",
     "text": [
      "\n"
     ]
    },
    {
     "data": {
      "application/vnd.jupyter.widget-view+json": {
       "model_id": "142b793ccea746aa99c24262c06f608f",
       "version_major": 2,
       "version_minor": 0
      },
      "text/plain": [
       "HBox(children=(IntProgress(value=0, description='Evaluation iteration', max=1, style=ProgressStyle(description…"
      ]
     },
     "metadata": {},
     "output_type": "display_data"
    },
    {
     "name": "stdout",
     "output_type": "stream",
     "text": [
      "\n",
      "Okay, if we say what the last line is, does that give away the whole thing?\n",
      "['Subject-verb agreement']\n",
      "Okay, if we say what the last line is, does that gives away the whole thing?\n",
      "['Subject-verb agreement']\n"
     ]
    },
    {
     "data": {
      "application/vnd.jupyter.widget-view+json": {
       "model_id": "588ea855426343f6b364d4f82507a20a",
       "version_major": 2,
       "version_minor": 0
      },
      "text/plain": [
       "HBox(children=(IntProgress(value=0, description='Evaluation iteration', max=1, style=ProgressStyle(description…"
      ]
     },
     "metadata": {},
     "output_type": "display_data"
    },
    {
     "name": "stdout",
     "output_type": "stream",
     "text": [
      "\n"
     ]
    },
    {
     "data": {
      "application/vnd.jupyter.widget-view+json": {
       "model_id": "37df779825b74174ab9af201f370f509",
       "version_major": 2,
       "version_minor": 0
      },
      "text/plain": [
       "HBox(children=(IntProgress(value=0, description='Evaluation iteration', max=1, style=ProgressStyle(description…"
      ]
     },
     "metadata": {},
     "output_type": "display_data"
    },
    {
     "name": "stdout",
     "output_type": "stream",
     "text": [
      "\n",
      "For several moments, it doesn't register.\n",
      "['Subject-verb agreement']\n",
      "For several moments, it doesn't registers.\n",
      "['Subject-verb agreement']\n"
     ]
    },
    {
     "data": {
      "application/vnd.jupyter.widget-view+json": {
       "model_id": "5d84e31c01aa40569f9bfee923678f73",
       "version_major": 2,
       "version_minor": 0
      },
      "text/plain": [
       "HBox(children=(IntProgress(value=0, description='Evaluation iteration', max=1, style=ProgressStyle(description…"
      ]
     },
     "metadata": {},
     "output_type": "display_data"
    },
    {
     "name": "stdout",
     "output_type": "stream",
     "text": [
      "\n"
     ]
    },
    {
     "data": {
      "application/vnd.jupyter.widget-view+json": {
       "model_id": "5f14a4ba0b064edfa28d18736ab8f954",
       "version_major": 2,
       "version_minor": 0
      },
      "text/plain": [
       "HBox(children=(IntProgress(value=0, description='Evaluation iteration', max=1, style=ProgressStyle(description…"
      ]
     },
     "metadata": {},
     "output_type": "display_data"
    },
    {
     "name": "stdout",
     "output_type": "stream",
     "text": [
      "\n",
      "This past weekend, Anthony Davis' representatives informed us that Anthony does not wish to sign a contract extension with our team.\n",
      "[]\n",
      "This past weekend, Anthony Davis' representatives informed us that Anthony does not wishes to sign a contract extension with our team.\n",
      "['Subject-verb agreement']\n"
     ]
    },
    {
     "data": {
      "application/vnd.jupyter.widget-view+json": {
       "model_id": "22fad23cb97842b39963a7a96ce7f0c3",
       "version_major": 2,
       "version_minor": 0
      },
      "text/plain": [
       "HBox(children=(IntProgress(value=0, description='Evaluation iteration', max=1, style=ProgressStyle(description…"
      ]
     },
     "metadata": {},
     "output_type": "display_data"
    },
    {
     "name": "stdout",
     "output_type": "stream",
     "text": [
      "\n"
     ]
    },
    {
     "data": {
      "application/vnd.jupyter.widget-view+json": {
       "model_id": "ef3b02027c5e4343986de50e867802b5",
       "version_major": 2,
       "version_minor": 0
      },
      "text/plain": [
       "HBox(children=(IntProgress(value=0, description='Evaluation iteration', max=1, style=ProgressStyle(description…"
      ]
     },
     "metadata": {},
     "output_type": "display_data"
    },
    {
     "name": "stdout",
     "output_type": "stream",
     "text": [
      "\n",
      "Candrea carries on, but he does not carry a grudge.\n",
      "[]\n",
      "Candrea carries on, but he does not carries a grudge.\n",
      "['Subject-verb agreement']\n"
     ]
    },
    {
     "data": {
      "application/vnd.jupyter.widget-view+json": {
       "model_id": "267d83927d474bd2af50c7a72d595c6e",
       "version_major": 2,
       "version_minor": 0
      },
      "text/plain": [
       "HBox(children=(IntProgress(value=0, description='Evaluation iteration', max=1, style=ProgressStyle(description…"
      ]
     },
     "metadata": {},
     "output_type": "display_data"
    },
    {
     "name": "stdout",
     "output_type": "stream",
     "text": [
      "\n"
     ]
    },
    {
     "data": {
      "application/vnd.jupyter.widget-view+json": {
       "model_id": "dcd18eb0dafa4a8f93d57222642d7310",
       "version_major": 2,
       "version_minor": 0
      },
      "text/plain": [
       "HBox(children=(IntProgress(value=0, description='Evaluation iteration', max=1, style=ProgressStyle(description…"
      ]
     },
     "metadata": {},
     "output_type": "display_data"
    },
    {
     "name": "stdout",
     "output_type": "stream",
     "text": [
      "\n",
      "But the sentence today does not come as a complete comfort to the Piazza family.\n",
      "[]\n",
      "But the sentence today does not comes as a complete comfort to the Piazza family.\n",
      "['Subject-verb agreement']\n"
     ]
    },
    {
     "data": {
      "application/vnd.jupyter.widget-view+json": {
       "model_id": "7464387cd25c401bb46e9064981a1986",
       "version_major": 2,
       "version_minor": 0
      },
      "text/plain": [
       "HBox(children=(IntProgress(value=0, description='Evaluation iteration', max=1, style=ProgressStyle(description…"
      ]
     },
     "metadata": {},
     "output_type": "display_data"
    },
    {
     "name": "stdout",
     "output_type": "stream",
     "text": [
      "\n"
     ]
    },
    {
     "data": {
      "application/vnd.jupyter.widget-view+json": {
       "model_id": "4eebde6be35f41618f100b3c8ba0fdc0",
       "version_major": 2,
       "version_minor": 0
      },
      "text/plain": [
       "HBox(children=(IntProgress(value=0, description='Evaluation iteration', max=1, style=ProgressStyle(description…"
      ]
     },
     "metadata": {},
     "output_type": "display_data"
    },
    {
     "name": "stdout",
     "output_type": "stream",
     "text": [
      "\n",
      "Does yesterday's announcement make sense to you?\n",
      "[]\n",
      "Does yesterday's announcement makes sense to you?\n",
      "['Subject-verb agreement']\n"
     ]
    },
    {
     "data": {
      "application/vnd.jupyter.widget-view+json": {
       "model_id": "bdaf460f229f449cb2b59b6db9a13c56",
       "version_major": 2,
       "version_minor": 0
      },
      "text/plain": [
       "HBox(children=(IntProgress(value=0, description='Evaluation iteration', max=1, style=ProgressStyle(description…"
      ]
     },
     "metadata": {},
     "output_type": "display_data"
    },
    {
     "name": "stdout",
     "output_type": "stream",
     "text": [
      "\n"
     ]
    },
    {
     "data": {
      "application/vnd.jupyter.widget-view+json": {
       "model_id": "3868634a82544296aaca59003cc1f2de",
       "version_major": 2,
       "version_minor": 0
      },
      "text/plain": [
       "HBox(children=(IntProgress(value=0, description='Evaluation iteration', max=1, style=ProgressStyle(description…"
      ]
     },
     "metadata": {},
     "output_type": "display_data"
    },
    {
     "name": "stdout",
     "output_type": "stream",
     "text": [
      "\n",
      "I believe that justice will prevail so this doesn't happen to anyone else.\n",
      "[]\n",
      "I believe that justice will prevail so this doesn't happens to anyone else.\n",
      "['Subject-verb agreement']\n"
     ]
    },
    {
     "data": {
      "application/vnd.jupyter.widget-view+json": {
       "model_id": "87ac8acc4f414182b0a5a9a039a0d22b",
       "version_major": 2,
       "version_minor": 0
      },
      "text/plain": [
       "HBox(children=(IntProgress(value=0, description='Evaluation iteration', max=1, style=ProgressStyle(description…"
      ]
     },
     "metadata": {},
     "output_type": "display_data"
    },
    {
     "name": "stdout",
     "output_type": "stream",
     "text": [
      "\n"
     ]
    },
    {
     "data": {
      "application/vnd.jupyter.widget-view+json": {
       "model_id": "e8d670e617c048d886d56a8a0818ec81",
       "version_major": 2,
       "version_minor": 0
      },
      "text/plain": [
       "HBox(children=(IntProgress(value=0, description='Evaluation iteration', max=1, style=ProgressStyle(description…"
      ]
     },
     "metadata": {},
     "output_type": "display_data"
    },
    {
     "name": "stdout",
     "output_type": "stream",
     "text": [
      "\n",
      "He doesn't seem like a man who emotes very much.\n",
      "['Subject-verb agreement']\n",
      "He doesn't seems like a man who emotes very much.\n",
      "['Subject-verb agreement']\n"
     ]
    },
    {
     "data": {
      "application/vnd.jupyter.widget-view+json": {
       "model_id": "5f88a76d64d24f8c887b5bba291a78dc",
       "version_major": 2,
       "version_minor": 0
      },
      "text/plain": [
       "HBox(children=(IntProgress(value=0, description='Evaluation iteration', max=1, style=ProgressStyle(description…"
      ]
     },
     "metadata": {},
     "output_type": "display_data"
    },
    {
     "name": "stdout",
     "output_type": "stream",
     "text": [
      "\n"
     ]
    },
    {
     "data": {
      "application/vnd.jupyter.widget-view+json": {
       "model_id": "d5ee5c401a3e44b298950538f791de94",
       "version_major": 2,
       "version_minor": 0
      },
      "text/plain": [
       "HBox(children=(IntProgress(value=0, description='Evaluation iteration', max=1, style=ProgressStyle(description…"
      ]
     },
     "metadata": {},
     "output_type": "display_data"
    },
    {
     "name": "stdout",
     "output_type": "stream",
     "text": [
      "\n",
      "What does that have to do with anything?\n",
      "['Subject-verb agreement']\n",
      "What does that has to do with anything?\n",
      "['Subject-verb agreement']\n"
     ]
    },
    {
     "data": {
      "application/vnd.jupyter.widget-view+json": {
       "model_id": "f5bb1d35cdf54d3188d881f2bfc8c2ba",
       "version_major": 2,
       "version_minor": 0
      },
      "text/plain": [
       "HBox(children=(IntProgress(value=0, description='Evaluation iteration', max=1, style=ProgressStyle(description…"
      ]
     },
     "metadata": {},
     "output_type": "display_data"
    },
    {
     "name": "stdout",
     "output_type": "stream",
     "text": [
      "\n"
     ]
    },
    {
     "data": {
      "application/vnd.jupyter.widget-view+json": {
       "model_id": "b7a20faef9f5421a8633a02ea7067e92",
       "version_major": 2,
       "version_minor": 0
      },
      "text/plain": [
       "HBox(children=(IntProgress(value=0, description='Evaluation iteration', max=1, style=ProgressStyle(description…"
      ]
     },
     "metadata": {},
     "output_type": "display_data"
    },
    {
     "name": "stdout",
     "output_type": "stream",
     "text": [
      "\n",
      "So if a situation does arise, if they feel threatened, at least they can defend themselves.\n",
      "[]\n",
      "So if a situation does arises, if they feel threatened, at least they can defend themselves.\n",
      "['Subject-verb agreement']\n"
     ]
    },
    {
     "data": {
      "application/vnd.jupyter.widget-view+json": {
       "model_id": "016a39163d324228b675d79fd57255e9",
       "version_major": 2,
       "version_minor": 0
      },
      "text/plain": [
       "HBox(children=(IntProgress(value=0, description='Evaluation iteration', max=1, style=ProgressStyle(description…"
      ]
     },
     "metadata": {},
     "output_type": "display_data"
    },
    {
     "name": "stdout",
     "output_type": "stream",
     "text": [
      "\n"
     ]
    },
    {
     "data": {
      "application/vnd.jupyter.widget-view+json": {
       "model_id": "67772f7d2a4d48c38f45eb43b21ee806",
       "version_major": 2,
       "version_minor": 0
      },
      "text/plain": [
       "HBox(children=(IntProgress(value=0, description='Evaluation iteration', max=1, style=ProgressStyle(description…"
      ]
     },
     "metadata": {},
     "output_type": "display_data"
    },
    {
     "name": "stdout",
     "output_type": "stream",
     "text": [
      "\n",
      "Why does all this matter today?\n",
      "[]\n",
      "Why does all this matters today?\n",
      "['Subject-verb agreement']\n"
     ]
    },
    {
     "data": {
      "application/vnd.jupyter.widget-view+json": {
       "model_id": "3cd1819c8e24454a9e2b7e967081b81a",
       "version_major": 2,
       "version_minor": 0
      },
      "text/plain": [
       "HBox(children=(IntProgress(value=0, description='Evaluation iteration', max=1, style=ProgressStyle(description…"
      ]
     },
     "metadata": {},
     "output_type": "display_data"
    },
    {
     "name": "stdout",
     "output_type": "stream",
     "text": [
      "\n"
     ]
    },
    {
     "data": {
      "application/vnd.jupyter.widget-view+json": {
       "model_id": "5e3ef3b00184450f9e6792a361aa0778",
       "version_major": 2,
       "version_minor": 0
      },
      "text/plain": [
       "HBox(children=(IntProgress(value=0, description='Evaluation iteration', max=1, style=ProgressStyle(description…"
      ]
     },
     "metadata": {},
     "output_type": "display_data"
    },
    {
     "name": "stdout",
     "output_type": "stream",
     "text": [
      "\n",
      "Therefore, the carrier does not have any obligation.\n",
      "[]\n",
      "Therefore, the carrier does not has any obligation.\n",
      "[]\n"
     ]
    },
    {
     "data": {
      "application/vnd.jupyter.widget-view+json": {
       "model_id": "056f0b633ace4d4f8dcc5f26b7a32187",
       "version_major": 2,
       "version_minor": 0
      },
      "text/plain": [
       "HBox(children=(IntProgress(value=0, description='Evaluation iteration', max=1, style=ProgressStyle(description…"
      ]
     },
     "metadata": {},
     "output_type": "display_data"
    },
    {
     "name": "stdout",
     "output_type": "stream",
     "text": [
      "\n"
     ]
    },
    {
     "data": {
      "application/vnd.jupyter.widget-view+json": {
       "model_id": "9ea5487a8512490c9f75cd51065bd569",
       "version_major": 2,
       "version_minor": 0
      },
      "text/plain": [
       "HBox(children=(IntProgress(value=0, description='Evaluation iteration', max=1, style=ProgressStyle(description…"
      ]
     },
     "metadata": {},
     "output_type": "display_data"
    },
    {
     "name": "stdout",
     "output_type": "stream",
     "text": [
      "\n",
      "This report doesn't indicate she did any of that.\n",
      "[]\n",
      "This report doesn't indicates she did any of that.\n",
      "['Subject-verb agreement']\n"
     ]
    },
    {
     "data": {
      "application/vnd.jupyter.widget-view+json": {
       "model_id": "749a1c65fe154590b7fc5a3dd357e574",
       "version_major": 2,
       "version_minor": 0
      },
      "text/plain": [
       "HBox(children=(IntProgress(value=0, description='Evaluation iteration', max=1, style=ProgressStyle(description…"
      ]
     },
     "metadata": {},
     "output_type": "display_data"
    },
    {
     "name": "stdout",
     "output_type": "stream",
     "text": [
      "\n"
     ]
    },
    {
     "data": {
      "application/vnd.jupyter.widget-view+json": {
       "model_id": "2a19051f63f24debb6339279c4469d9b",
       "version_major": 2,
       "version_minor": 0
      },
      "text/plain": [
       "HBox(children=(IntProgress(value=0, description='Evaluation iteration', max=1, style=ProgressStyle(description…"
      ]
     },
     "metadata": {},
     "output_type": "display_data"
    },
    {
     "name": "stdout",
     "output_type": "stream",
     "text": [
      "\n",
      "That doesn't mean it's not a big deal.\n",
      "['Subject-verb agreement']\n",
      "That doesn't means it's not a big deal.\n",
      "['Subject-verb agreement']\n"
     ]
    },
    {
     "data": {
      "application/vnd.jupyter.widget-view+json": {
       "model_id": "24809e8c3ea04b4999391fbbbafcb662",
       "version_major": 2,
       "version_minor": 0
      },
      "text/plain": [
       "HBox(children=(IntProgress(value=0, description='Evaluation iteration', max=1, style=ProgressStyle(description…"
      ]
     },
     "metadata": {},
     "output_type": "display_data"
    },
    {
     "name": "stdout",
     "output_type": "stream",
     "text": [
      "\n"
     ]
    },
    {
     "data": {
      "application/vnd.jupyter.widget-view+json": {
       "model_id": "7c5601bed2ba4536a6aafa12944b6735",
       "version_major": 2,
       "version_minor": 0
      },
      "text/plain": [
       "HBox(children=(IntProgress(value=0, description='Evaluation iteration', max=1, style=ProgressStyle(description…"
      ]
     },
     "metadata": {},
     "output_type": "display_data"
    },
    {
     "name": "stdout",
     "output_type": "stream",
     "text": [
      "\n",
      "The Labor Department's new rule doesn't apply to taxable accounts, just retirement accounts.\n",
      "[]\n",
      "The Labor Department's new rule doesn't applies to taxable accounts, just retirement accounts.\n",
      "['Subject-verb agreement']\n"
     ]
    },
    {
     "data": {
      "application/vnd.jupyter.widget-view+json": {
       "model_id": "25d5a1a630d94beaa5a7fcf73f6905d0",
       "version_major": 2,
       "version_minor": 0
      },
      "text/plain": [
       "HBox(children=(IntProgress(value=0, description='Evaluation iteration', max=1, style=ProgressStyle(description…"
      ]
     },
     "metadata": {},
     "output_type": "display_data"
    },
    {
     "name": "stdout",
     "output_type": "stream",
     "text": [
      "\n"
     ]
    },
    {
     "data": {
      "application/vnd.jupyter.widget-view+json": {
       "model_id": "d4dc4a0a52894770b74efb81628f6d0f",
       "version_major": 2,
       "version_minor": 0
      },
      "text/plain": [
       "HBox(children=(IntProgress(value=0, description='Evaluation iteration', max=1, style=ProgressStyle(description…"
      ]
     },
     "metadata": {},
     "output_type": "display_data"
    },
    {
     "name": "stdout",
     "output_type": "stream",
     "text": [
      "\n",
      "I'm hoping he doesn't think that.\n",
      "['Subject-verb agreement']\n",
      "I'm hoping he doesn't thinks that.\n",
      "['Subject-verb agreement']\n"
     ]
    },
    {
     "data": {
      "application/vnd.jupyter.widget-view+json": {
       "model_id": "bbace4b25d5a4f258f9b09bbe98c0362",
       "version_major": 2,
       "version_minor": 0
      },
      "text/plain": [
       "HBox(children=(IntProgress(value=0, description='Evaluation iteration', max=1, style=ProgressStyle(description…"
      ]
     },
     "metadata": {},
     "output_type": "display_data"
    },
    {
     "name": "stdout",
     "output_type": "stream",
     "text": [
      "\n"
     ]
    },
    {
     "data": {
      "application/vnd.jupyter.widget-view+json": {
       "model_id": "ef1f93e1590d488a9077ce156330bfb5",
       "version_major": 2,
       "version_minor": 0
      },
      "text/plain": [
       "HBox(children=(IntProgress(value=0, description='Evaluation iteration', max=1, style=ProgressStyle(description…"
      ]
     },
     "metadata": {},
     "output_type": "display_data"
    },
    {
     "name": "stdout",
     "output_type": "stream",
     "text": [
      "\n",
      "The story doesn't get better anytime soon for the mentally afflicted.\n",
      "[]\n",
      "The story doesn't gets better anytime soon for the mentally afflicted.\n",
      "['Subject-verb agreement']\n"
     ]
    },
    {
     "data": {
      "application/vnd.jupyter.widget-view+json": {
       "model_id": "4af3c183b034466096fdc6cc1cbc5d5b",
       "version_major": 2,
       "version_minor": 0
      },
      "text/plain": [
       "HBox(children=(IntProgress(value=0, description='Evaluation iteration', max=1, style=ProgressStyle(description…"
      ]
     },
     "metadata": {},
     "output_type": "display_data"
    },
    {
     "name": "stdout",
     "output_type": "stream",
     "text": [
      "\n"
     ]
    },
    {
     "data": {
      "application/vnd.jupyter.widget-view+json": {
       "model_id": "d6e6acbe20d0452986659fbd64a6adaf",
       "version_major": 2,
       "version_minor": 0
      },
      "text/plain": [
       "HBox(children=(IntProgress(value=0, description='Evaluation iteration', max=1, style=ProgressStyle(description…"
      ]
     },
     "metadata": {},
     "output_type": "display_data"
    },
    {
     "name": "stdout",
     "output_type": "stream",
     "text": [
      "\n",
      "It's been about the city having serious fiscal problems and does Garcia have the substance and the plan to get it done.\n",
      "[]\n",
      "It's been about the city having serious fiscal problems and does Garcia has the substance and the plan to get it done.\n",
      "[]\n"
     ]
    },
    {
     "data": {
      "application/vnd.jupyter.widget-view+json": {
       "model_id": "a745665a6ceb46feba46ad34fc487c80",
       "version_major": 2,
       "version_minor": 0
      },
      "text/plain": [
       "HBox(children=(IntProgress(value=0, description='Evaluation iteration', max=1, style=ProgressStyle(description…"
      ]
     },
     "metadata": {},
     "output_type": "display_data"
    },
    {
     "name": "stdout",
     "output_type": "stream",
     "text": [
      "\n"
     ]
    },
    {
     "data": {
      "application/vnd.jupyter.widget-view+json": {
       "model_id": "7e5655921f974b22974b68e7a62e64a2",
       "version_major": 2,
       "version_minor": 0
      },
      "text/plain": [
       "HBox(children=(IntProgress(value=0, description='Evaluation iteration', max=1, style=ProgressStyle(description…"
      ]
     },
     "metadata": {},
     "output_type": "display_data"
    },
    {
     "name": "stdout",
     "output_type": "stream",
     "text": [
      "\n",
      "How does it feel to be the number one college debate team?\n",
      "['Subject-verb agreement']\n",
      "How does it feels to be the number one college debate team?\n",
      "['Subject-verb agreement']\n"
     ]
    },
    {
     "data": {
      "application/vnd.jupyter.widget-view+json": {
       "model_id": "b03302c8dde740918e4501b815dce504",
       "version_major": 2,
       "version_minor": 0
      },
      "text/plain": [
       "HBox(children=(IntProgress(value=0, description='Evaluation iteration', max=1, style=ProgressStyle(description…"
      ]
     },
     "metadata": {},
     "output_type": "display_data"
    },
    {
     "name": "stdout",
     "output_type": "stream",
     "text": [
      "\n"
     ]
    },
    {
     "data": {
      "application/vnd.jupyter.widget-view+json": {
       "model_id": "895bb340cc3a41a3a1a7c74322eacfee",
       "version_major": 2,
       "version_minor": 0
      },
      "text/plain": [
       "HBox(children=(IntProgress(value=0, description='Evaluation iteration', max=1, style=ProgressStyle(description…"
      ]
     },
     "metadata": {},
     "output_type": "display_data"
    },
    {
     "name": "stdout",
     "output_type": "stream",
     "text": [
      "\n",
      "You know the Rotary doesn't invite just anyone to speak.\n",
      "[]\n",
      "You know the Rotary doesn't invites just anyone to speak.\n",
      "['Subject-verb agreement']\n"
     ]
    },
    {
     "data": {
      "application/vnd.jupyter.widget-view+json": {
       "model_id": "1fccb895912348fa8eb6951a8970484e",
       "version_major": 2,
       "version_minor": 0
      },
      "text/plain": [
       "HBox(children=(IntProgress(value=0, description='Evaluation iteration', max=1, style=ProgressStyle(description…"
      ]
     },
     "metadata": {},
     "output_type": "display_data"
    },
    {
     "name": "stdout",
     "output_type": "stream",
     "text": [
      "\n"
     ]
    },
    {
     "data": {
      "application/vnd.jupyter.widget-view+json": {
       "model_id": "3205da4793b24299a7cacffe2fbeedf0",
       "version_major": 2,
       "version_minor": 0
      },
      "text/plain": [
       "HBox(children=(IntProgress(value=0, description='Evaluation iteration', max=1, style=ProgressStyle(description…"
      ]
     },
     "metadata": {},
     "output_type": "display_data"
    },
    {
     "name": "stdout",
     "output_type": "stream",
     "text": [
      "\n",
      "Here are few stories we think you'll be talking about today.\n",
      "[]\n",
      "Here are few stories we thinks you'll be talking about today.\n",
      "['Subject-verb agreement']\n"
     ]
    },
    {
     "data": {
      "application/vnd.jupyter.widget-view+json": {
       "model_id": "440cf107d9bf4c438eaad806cd77b8a3",
       "version_major": 2,
       "version_minor": 0
      },
      "text/plain": [
       "HBox(children=(IntProgress(value=0, description='Evaluation iteration', max=1, style=ProgressStyle(description…"
      ]
     },
     "metadata": {},
     "output_type": "display_data"
    },
    {
     "name": "stdout",
     "output_type": "stream",
     "text": [
      "\n"
     ]
    },
    {
     "data": {
      "application/vnd.jupyter.widget-view+json": {
       "model_id": "ff546d5ee64a4124b4b03bf85816135c",
       "version_major": 2,
       "version_minor": 0
      },
      "text/plain": [
       "HBox(children=(IntProgress(value=0, description='Evaluation iteration', max=1, style=ProgressStyle(description…"
      ]
     },
     "metadata": {},
     "output_type": "display_data"
    },
    {
     "name": "stdout",
     "output_type": "stream",
     "text": [
      "\n",
      "Your critics say that you're playing God.\n",
      "[]\n",
      "Your critics says that you're playing God.\n",
      "['Subject-verb agreement']\n"
     ]
    },
    {
     "data": {
      "application/vnd.jupyter.widget-view+json": {
       "model_id": "68d7432774684aaaa3695cbaf1530ec3",
       "version_major": 2,
       "version_minor": 0
      },
      "text/plain": [
       "HBox(children=(IntProgress(value=0, description='Evaluation iteration', max=1, style=ProgressStyle(description…"
      ]
     },
     "metadata": {},
     "output_type": "display_data"
    },
    {
     "name": "stdout",
     "output_type": "stream",
     "text": [
      "\n"
     ]
    },
    {
     "data": {
      "application/vnd.jupyter.widget-view+json": {
       "model_id": "f9cfa27b8241422096178d1d75b97716",
       "version_major": 2,
       "version_minor": 0
      },
      "text/plain": [
       "HBox(children=(IntProgress(value=0, description='Evaluation iteration', max=1, style=ProgressStyle(description…"
      ]
     },
     "metadata": {},
     "output_type": "display_data"
    },
    {
     "name": "stdout",
     "output_type": "stream",
     "text": [
      "\n",
      "We know he was punched in the face.\n",
      "[]\n",
      "We knows he was punched in the face.\n",
      "['Subject-verb agreement']\n"
     ]
    },
    {
     "data": {
      "application/vnd.jupyter.widget-view+json": {
       "model_id": "3fe3836ff1334650905a031d6042dcd2",
       "version_major": 2,
       "version_minor": 0
      },
      "text/plain": [
       "HBox(children=(IntProgress(value=0, description='Evaluation iteration', max=1, style=ProgressStyle(description…"
      ]
     },
     "metadata": {},
     "output_type": "display_data"
    },
    {
     "name": "stdout",
     "output_type": "stream",
     "text": [
      "\n"
     ]
    },
    {
     "data": {
      "application/vnd.jupyter.widget-view+json": {
       "model_id": "94915088aa9d45dbb0a7121ff2180e7b",
       "version_major": 2,
       "version_minor": 0
      },
      "text/plain": [
       "HBox(children=(IntProgress(value=0, description='Evaluation iteration', max=1, style=ProgressStyle(description…"
      ]
     },
     "metadata": {},
     "output_type": "display_data"
    },
    {
     "name": "stdout",
     "output_type": "stream",
     "text": [
      "\n",
      "I still remember what he did to poor Proteus.\n",
      "[]\n",
      "I still remembers what he did to poor Proteus.\n",
      "['Subject-verb agreement']\n"
     ]
    },
    {
     "data": {
      "application/vnd.jupyter.widget-view+json": {
       "model_id": "09052363c15c49ab87bb333ec264c25c",
       "version_major": 2,
       "version_minor": 0
      },
      "text/plain": [
       "HBox(children=(IntProgress(value=0, description='Evaluation iteration', max=1, style=ProgressStyle(description…"
      ]
     },
     "metadata": {},
     "output_type": "display_data"
    },
    {
     "name": "stdout",
     "output_type": "stream",
     "text": [
      "\n"
     ]
    },
    {
     "data": {
      "application/vnd.jupyter.widget-view+json": {
       "model_id": "ab07f680fad241f1a7d20c20a1890e53",
       "version_major": 2,
       "version_minor": 0
      },
      "text/plain": [
       "HBox(children=(IntProgress(value=0, description='Evaluation iteration', max=1, style=ProgressStyle(description…"
      ]
     },
     "metadata": {},
     "output_type": "display_data"
    },
    {
     "name": "stdout",
     "output_type": "stream",
     "text": [
      "\n",
      "I think I commanded that much respect.\n",
      "[]\n",
      "I thinks I commanded that much respect.\n",
      "['Subject-verb agreement']\n"
     ]
    },
    {
     "data": {
      "application/vnd.jupyter.widget-view+json": {
       "model_id": "62732a212e64425ea7c96a2e985f5e8a",
       "version_major": 2,
       "version_minor": 0
      },
      "text/plain": [
       "HBox(children=(IntProgress(value=0, description='Evaluation iteration', max=1, style=ProgressStyle(description…"
      ]
     },
     "metadata": {},
     "output_type": "display_data"
    },
    {
     "name": "stdout",
     "output_type": "stream",
     "text": [
      "\n"
     ]
    },
    {
     "data": {
      "application/vnd.jupyter.widget-view+json": {
       "model_id": "61e9f61ec8194a9599f625523cc81fca",
       "version_major": 2,
       "version_minor": 0
      },
      "text/plain": [
       "HBox(children=(IntProgress(value=0, description='Evaluation iteration', max=1, style=ProgressStyle(description…"
      ]
     },
     "metadata": {},
     "output_type": "display_data"
    },
    {
     "name": "stdout",
     "output_type": "stream",
     "text": [
      "\n",
      "Those findings underscore a major concern.\n",
      "[]\n",
      "Those findings underscores a major concern\n",
      "['Subject-verb agreement']\n"
     ]
    },
    {
     "data": {
      "application/vnd.jupyter.widget-view+json": {
       "model_id": "a235a2e35e304c1089f79fa02e63b5da",
       "version_major": 2,
       "version_minor": 0
      },
      "text/plain": [
       "HBox(children=(IntProgress(value=0, description='Evaluation iteration', max=1, style=ProgressStyle(description…"
      ]
     },
     "metadata": {},
     "output_type": "display_data"
    },
    {
     "name": "stdout",
     "output_type": "stream",
     "text": [
      "\n"
     ]
    },
    {
     "data": {
      "application/vnd.jupyter.widget-view+json": {
       "model_id": "c6da884e7ccb4cd998874129cd20417b",
       "version_major": 2,
       "version_minor": 0
      },
      "text/plain": [
       "HBox(children=(IntProgress(value=0, description='Evaluation iteration', max=1, style=ProgressStyle(description…"
      ]
     },
     "metadata": {},
     "output_type": "display_data"
    },
    {
     "name": "stdout",
     "output_type": "stream",
     "text": [
      "\n",
      "Nearly twenty-five percent of women say they haven't had a mammogram on schedule.\n",
      "[]\n",
      "Nearly twenty-five percent of women says they haven't had a mammogram on schedule.\n",
      "['Subject-verb agreement']\n"
     ]
    },
    {
     "data": {
      "application/vnd.jupyter.widget-view+json": {
       "model_id": "90eb2637657f49cea180f321c401b5ec",
       "version_major": 2,
       "version_minor": 0
      },
      "text/plain": [
       "HBox(children=(IntProgress(value=0, description='Evaluation iteration', max=1, style=ProgressStyle(description…"
      ]
     },
     "metadata": {},
     "output_type": "display_data"
    },
    {
     "name": "stdout",
     "output_type": "stream",
     "text": [
      "\n"
     ]
    },
    {
     "data": {
      "application/vnd.jupyter.widget-view+json": {
       "model_id": "60dafc1620104d3e856a7b68ca907707",
       "version_major": 2,
       "version_minor": 0
      },
      "text/plain": [
       "HBox(children=(IntProgress(value=0, description='Evaluation iteration', max=1, style=ProgressStyle(description…"
      ]
     },
     "metadata": {},
     "output_type": "display_data"
    },
    {
     "name": "stdout",
     "output_type": "stream",
     "text": [
      "\n",
      "Cross-links indicate that participants make connections between the concepts from different hierarchies.\n",
      "[]\n",
      "Cross-links indicate that participants makes connections between the concepts from different hierarchies.\n",
      "['Subject-verb agreement']\n"
     ]
    },
    {
     "data": {
      "application/vnd.jupyter.widget-view+json": {
       "model_id": "7cb8c0cef98a4afdbaa80225d97c9262",
       "version_major": 2,
       "version_minor": 0
      },
      "text/plain": [
       "HBox(children=(IntProgress(value=0, description='Evaluation iteration', max=1, style=ProgressStyle(description…"
      ]
     },
     "metadata": {},
     "output_type": "display_data"
    },
    {
     "name": "stdout",
     "output_type": "stream",
     "text": [
      "\n"
     ]
    },
    {
     "data": {
      "application/vnd.jupyter.widget-view+json": {
       "model_id": "bc6842943f064afbaf23faea68baffa8",
       "version_major": 2,
       "version_minor": 0
      },
      "text/plain": [
       "HBox(children=(IntProgress(value=0, description='Evaluation iteration', max=1, style=ProgressStyle(description…"
      ]
     },
     "metadata": {},
     "output_type": "display_data"
    },
    {
     "name": "stdout",
     "output_type": "stream",
     "text": [
      "\n",
      "And sometimes they seem beside the point.\n",
      "[]\n",
      "And sometimes they seems beside the point.\n",
      "['Subject-verb agreement']\n"
     ]
    },
    {
     "data": {
      "application/vnd.jupyter.widget-view+json": {
       "model_id": "f4cdad9c681f422da07dcb4b9ea54153",
       "version_major": 2,
       "version_minor": 0
      },
      "text/plain": [
       "HBox(children=(IntProgress(value=0, description='Evaluation iteration', max=1, style=ProgressStyle(description…"
      ]
     },
     "metadata": {},
     "output_type": "display_data"
    },
    {
     "name": "stdout",
     "output_type": "stream",
     "text": [
      "\n"
     ]
    },
    {
     "data": {
      "application/vnd.jupyter.widget-view+json": {
       "model_id": "d1d63b578323417787a7b3acce1c18cd",
       "version_major": 2,
       "version_minor": 0
      },
      "text/plain": [
       "HBox(children=(IntProgress(value=0, description='Evaluation iteration', max=1, style=ProgressStyle(description…"
      ]
     },
     "metadata": {},
     "output_type": "display_data"
    },
    {
     "name": "stdout",
     "output_type": "stream",
     "text": [
      "\n",
      "Some contestants take strategy to a whole other level.\n",
      "[]\n",
      "Some contestants takes strategy to a whole other level.\n",
      "['Subject-verb agreement']\n"
     ]
    },
    {
     "data": {
      "application/vnd.jupyter.widget-view+json": {
       "model_id": "55cfa5f3dd984a569d5cac4d0d6447a8",
       "version_major": 2,
       "version_minor": 0
      },
      "text/plain": [
       "HBox(children=(IntProgress(value=0, description='Evaluation iteration', max=1, style=ProgressStyle(description…"
      ]
     },
     "metadata": {},
     "output_type": "display_data"
    },
    {
     "name": "stdout",
     "output_type": "stream",
     "text": [
      "\n"
     ]
    },
    {
     "data": {
      "application/vnd.jupyter.widget-view+json": {
       "model_id": "e97ecb43f233419096f90eee649c4044",
       "version_major": 2,
       "version_minor": 0
      },
      "text/plain": [
       "HBox(children=(IntProgress(value=0, description='Evaluation iteration', max=1, style=ProgressStyle(description…"
      ]
     },
     "metadata": {},
     "output_type": "display_data"
    },
    {
     "name": "stdout",
     "output_type": "stream",
     "text": [
      "\n",
      "When you know something is right, there really is no reason to wait.\n",
      "[]\n",
      "When you knows something is right, there really is no reason to wait.\n",
      "['Subject-verb agreement']\n"
     ]
    },
    {
     "data": {
      "application/vnd.jupyter.widget-view+json": {
       "model_id": "cbcfea34108e4820affff26e5e3d4936",
       "version_major": 2,
       "version_minor": 0
      },
      "text/plain": [
       "HBox(children=(IntProgress(value=0, description='Evaluation iteration', max=1, style=ProgressStyle(description…"
      ]
     },
     "metadata": {},
     "output_type": "display_data"
    },
    {
     "name": "stdout",
     "output_type": "stream",
     "text": [
      "\n"
     ]
    },
    {
     "data": {
      "application/vnd.jupyter.widget-view+json": {
       "model_id": "d6868b8fd0ae4b3688e042fcb6d2ab4e",
       "version_major": 2,
       "version_minor": 0
      },
      "text/plain": [
       "HBox(children=(IntProgress(value=0, description='Evaluation iteration', max=1, style=ProgressStyle(description…"
      ]
     },
     "metadata": {},
     "output_type": "display_data"
    },
    {
     "name": "stdout",
     "output_type": "stream",
     "text": [
      "\n",
      "Simply boost your withdrawal rate, though, and you run a high risk of running out of money.\n",
      "[]\n",
      "Simply boost your withdrawal rate, though, and you runs a high risk of running out of money.\n",
      "['Subject-verb agreement']\n"
     ]
    },
    {
     "data": {
      "application/vnd.jupyter.widget-view+json": {
       "model_id": "c36546d1a27b4815953df2513d0afa02",
       "version_major": 2,
       "version_minor": 0
      },
      "text/plain": [
       "HBox(children=(IntProgress(value=0, description='Evaluation iteration', max=1, style=ProgressStyle(description…"
      ]
     },
     "metadata": {},
     "output_type": "display_data"
    },
    {
     "name": "stdout",
     "output_type": "stream",
     "text": [
      "\n"
     ]
    },
    {
     "data": {
      "application/vnd.jupyter.widget-view+json": {
       "model_id": "022308a1395b43c5bbf445e5be7fff62",
       "version_major": 2,
       "version_minor": 0
      },
      "text/plain": [
       "HBox(children=(IntProgress(value=0, description='Evaluation iteration', max=1, style=ProgressStyle(description…"
      ]
     },
     "metadata": {},
     "output_type": "display_data"
    },
    {
     "name": "stdout",
     "output_type": "stream",
     "text": [
      "\n",
      "Here's a look at his regular season and playoff production and how it measures up to his previous 11 seasons.\n",
      "[]\n",
      "Here's a look at his regular season and playoff production and how it measure up to his previous 11 seasons.\n",
      "['Subject-verb agreement']\n"
     ]
    },
    {
     "data": {
      "application/vnd.jupyter.widget-view+json": {
       "model_id": "6d7304dfb1114a25b8d0693fc2c36105",
       "version_major": 2,
       "version_minor": 0
      },
      "text/plain": [
       "HBox(children=(IntProgress(value=0, description='Evaluation iteration', max=1, style=ProgressStyle(description…"
      ]
     },
     "metadata": {},
     "output_type": "display_data"
    },
    {
     "name": "stdout",
     "output_type": "stream",
     "text": [
      "\n"
     ]
    },
    {
     "data": {
      "application/vnd.jupyter.widget-view+json": {
       "model_id": "5aa3338baad34f6b92fbd3a099fb31dc",
       "version_major": 2,
       "version_minor": 0
      },
      "text/plain": [
       "HBox(children=(IntProgress(value=0, description='Evaluation iteration', max=1, style=ProgressStyle(description…"
      ]
     },
     "metadata": {},
     "output_type": "display_data"
    },
    {
     "name": "stdout",
     "output_type": "stream",
     "text": [
      "\n",
      "We want to know whether people feel like they belong in the United States.\n",
      "[]\n",
      "We want to know whether people feels like they belong in the United States.\n",
      "['Subject-verb agreement']\n"
     ]
    },
    {
     "data": {
      "application/vnd.jupyter.widget-view+json": {
       "model_id": "1fa7957938a341aebc4210eb5c69f538",
       "version_major": 2,
       "version_minor": 0
      },
      "text/plain": [
       "HBox(children=(IntProgress(value=0, description='Evaluation iteration', max=1, style=ProgressStyle(description…"
      ]
     },
     "metadata": {},
     "output_type": "display_data"
    },
    {
     "name": "stdout",
     "output_type": "stream",
     "text": [
      "\n"
     ]
    },
    {
     "data": {
      "application/vnd.jupyter.widget-view+json": {
       "model_id": "225cd04a70034919a62b46bf36879aa5",
       "version_major": 2,
       "version_minor": 0
      },
      "text/plain": [
       "HBox(children=(IntProgress(value=0, description='Evaluation iteration', max=1, style=ProgressStyle(description…"
      ]
     },
     "metadata": {},
     "output_type": "display_data"
    },
    {
     "name": "stdout",
     "output_type": "stream",
     "text": [
      "\n",
      "Emily let the rhythm of the place take her, and she was in the groove for the rest of her shift.\n",
      "['Subject-verb agreement']\n",
      "Emily let the rhythm of the place takes her, and she was in the groove for the rest of her shift.\n",
      "['Subject-verb agreement']\n"
     ]
    },
    {
     "data": {
      "application/vnd.jupyter.widget-view+json": {
       "model_id": "12d25159117e4606966dc0722ec88b9d",
       "version_major": 2,
       "version_minor": 0
      },
      "text/plain": [
       "HBox(children=(IntProgress(value=0, description='Evaluation iteration', max=1, style=ProgressStyle(description…"
      ]
     },
     "metadata": {},
     "output_type": "display_data"
    },
    {
     "name": "stdout",
     "output_type": "stream",
     "text": [
      "\n"
     ]
    },
    {
     "data": {
      "application/vnd.jupyter.widget-view+json": {
       "model_id": "3ff2716218fa458392d787fda91b4a0d",
       "version_major": 2,
       "version_minor": 0
      },
      "text/plain": [
       "HBox(children=(IntProgress(value=0, description='Evaluation iteration', max=1, style=ProgressStyle(description…"
      ]
     },
     "metadata": {},
     "output_type": "display_data"
    },
    {
     "name": "stdout",
     "output_type": "stream",
     "text": [
      "\n",
      "And we get giddy too, turn to each other, and shake our heads slowly.\n",
      "[]\n",
      "And we get giddy too, turns to each other, and shake our heads slowly.\n",
      "['Subject-verb agreement']\n"
     ]
    },
    {
     "data": {
      "application/vnd.jupyter.widget-view+json": {
       "model_id": "d2aad33537e341a88c1fcd25297b79b2",
       "version_major": 2,
       "version_minor": 0
      },
      "text/plain": [
       "HBox(children=(IntProgress(value=0, description='Evaluation iteration', max=1, style=ProgressStyle(description…"
      ]
     },
     "metadata": {},
     "output_type": "display_data"
    },
    {
     "name": "stdout",
     "output_type": "stream",
     "text": [
      "\n"
     ]
    },
    {
     "data": {
      "application/vnd.jupyter.widget-view+json": {
       "model_id": "24565ea95b85494596b9bd9135e44c11",
       "version_major": 2,
       "version_minor": 0
      },
      "text/plain": [
       "HBox(children=(IntProgress(value=0, description='Evaluation iteration', max=1, style=ProgressStyle(description…"
      ]
     },
     "metadata": {},
     "output_type": "display_data"
    },
    {
     "name": "stdout",
     "output_type": "stream",
     "text": [
      "\n",
      "Your child also needs to learn to lock and unlock doors, understand appliance safety, know basic first aid, practise fire drills.\n",
      "[]\n",
      "Your child also needs to learn to lock and unlock doors, understands appliance safety, know basic first aid, practise fire drills.\n",
      "['Subject-verb agreement']\n"
     ]
    },
    {
     "data": {
      "application/vnd.jupyter.widget-view+json": {
       "model_id": "37153e2ae3364b229c24ba7777af8edd",
       "version_major": 2,
       "version_minor": 0
      },
      "text/plain": [
       "HBox(children=(IntProgress(value=0, description='Evaluation iteration', max=1, style=ProgressStyle(description…"
      ]
     },
     "metadata": {},
     "output_type": "display_data"
    },
    {
     "name": "stdout",
     "output_type": "stream",
     "text": [
      "\n"
     ]
    },
    {
     "data": {
      "application/vnd.jupyter.widget-view+json": {
       "model_id": "c89cb34cf2d54adbb061f0e40c55a3ef",
       "version_major": 2,
       "version_minor": 0
      },
      "text/plain": [
       "HBox(children=(IntProgress(value=0, description='Evaluation iteration', max=1, style=ProgressStyle(description…"
      ]
     },
     "metadata": {},
     "output_type": "display_data"
    },
    {
     "name": "stdout",
     "output_type": "stream",
     "text": [
      "\n",
      "They are very good at what they are set up to do: design and produce state-of-the-art weapons systems or assist companies that are engaged in that activity.\n",
      "[]\n",
      "They are very good at what they are set up to do: design and produces state-of-the-art weapons systems or assist companies that are engaged in that activity.\n",
      "['Subject-verb agreement']\n"
     ]
    },
    {
     "data": {
      "application/vnd.jupyter.widget-view+json": {
       "model_id": "0520dd0151d24a1c9a8cf08455030a60",
       "version_major": 2,
       "version_minor": 0
      },
      "text/plain": [
       "HBox(children=(IntProgress(value=0, description='Evaluation iteration', max=1, style=ProgressStyle(description…"
      ]
     },
     "metadata": {},
     "output_type": "display_data"
    },
    {
     "name": "stdout",
     "output_type": "stream",
     "text": [
      "\n"
     ]
    },
    {
     "data": {
      "application/vnd.jupyter.widget-view+json": {
       "model_id": "8e6abdba6e1d4de6b204e3a4dcf6c05e",
       "version_major": 2,
       "version_minor": 0
      },
      "text/plain": [
       "HBox(children=(IntProgress(value=0, description='Evaluation iteration', max=1, style=ProgressStyle(description…"
      ]
     },
     "metadata": {},
     "output_type": "display_data"
    },
    {
     "name": "stdout",
     "output_type": "stream",
     "text": [
      "\n",
      "Children need to have opportunities to hear words several times in meaningful context.\n",
      "[]\n",
      "Children needs to have opportunities to hear words several times in meaningful context.\n",
      "['Subject-verb agreement']\n"
     ]
    },
    {
     "data": {
      "application/vnd.jupyter.widget-view+json": {
       "model_id": "735135cbe9b74e7eb114b83468db9045",
       "version_major": 2,
       "version_minor": 0
      },
      "text/plain": [
       "HBox(children=(IntProgress(value=0, description='Evaluation iteration', max=1, style=ProgressStyle(description…"
      ]
     },
     "metadata": {},
     "output_type": "display_data"
    },
    {
     "name": "stdout",
     "output_type": "stream",
     "text": [
      "\n"
     ]
    },
    {
     "data": {
      "application/vnd.jupyter.widget-view+json": {
       "model_id": "637f832e0f284685918f2ab626c73d0c",
       "version_major": 2,
       "version_minor": 0
      },
      "text/plain": [
       "HBox(children=(IntProgress(value=0, description='Evaluation iteration', max=1, style=ProgressStyle(description…"
      ]
     },
     "metadata": {},
     "output_type": "display_data"
    },
    {
     "name": "stdout",
     "output_type": "stream",
     "text": [
      "\n",
      "Let me know how it turns out.\n",
      "['Subject-verb agreement']\n",
      "Let me know how it turn out.\n",
      "['Subject-verb agreement']\n"
     ]
    },
    {
     "data": {
      "application/vnd.jupyter.widget-view+json": {
       "model_id": "a614534d95db4758a1ab03682b8952b4",
       "version_major": 2,
       "version_minor": 0
      },
      "text/plain": [
       "HBox(children=(IntProgress(value=0, description='Evaluation iteration', max=1, style=ProgressStyle(description…"
      ]
     },
     "metadata": {},
     "output_type": "display_data"
    },
    {
     "name": "stdout",
     "output_type": "stream",
     "text": [
      "\n"
     ]
    },
    {
     "data": {
      "application/vnd.jupyter.widget-view+json": {
       "model_id": "af0d79d81e474b68b26783d5c1ccb2ba",
       "version_major": 2,
       "version_minor": 0
      },
      "text/plain": [
       "HBox(children=(IntProgress(value=0, description='Evaluation iteration', max=1, style=ProgressStyle(description…"
      ]
     },
     "metadata": {},
     "output_type": "display_data"
    },
    {
     "name": "stdout",
     "output_type": "stream",
     "text": [
      "\n",
      "You might be humbled as you ponder the palm-sized birds that fly from the other end of the Earth just to nest in this rich land.\n",
      "[]\n",
      "You might be humbled as you ponder the palm-sized birds that flies from the other end of the Earth just to nest in this rich land.\n",
      "['Subject-verb agreement']\n"
     ]
    },
    {
     "data": {
      "application/vnd.jupyter.widget-view+json": {
       "model_id": "31691aad3999413ebb40cbbd2dd8b4f4",
       "version_major": 2,
       "version_minor": 0
      },
      "text/plain": [
       "HBox(children=(IntProgress(value=0, description='Evaluation iteration', max=1, style=ProgressStyle(description…"
      ]
     },
     "metadata": {},
     "output_type": "display_data"
    },
    {
     "name": "stdout",
     "output_type": "stream",
     "text": [
      "\n"
     ]
    },
    {
     "data": {
      "application/vnd.jupyter.widget-view+json": {
       "model_id": "2132a58e617d4d9489c3712df228b8b7",
       "version_major": 2,
       "version_minor": 0
      },
      "text/plain": [
       "HBox(children=(IntProgress(value=0, description='Evaluation iteration', max=1, style=ProgressStyle(description…"
      ]
     },
     "metadata": {},
     "output_type": "display_data"
    },
    {
     "name": "stdout",
     "output_type": "stream",
     "text": [
      "\n",
      "He's the only one who didn't give up.\n",
      "[]\n",
      "He's the only one who didn't gives up.\n",
      "['Subject-verb agreement']\n"
     ]
    },
    {
     "data": {
      "application/vnd.jupyter.widget-view+json": {
       "model_id": "e0de0a98fc8a4785b6928a6c6bbc07fa",
       "version_major": 2,
       "version_minor": 0
      },
      "text/plain": [
       "HBox(children=(IntProgress(value=0, description='Evaluation iteration', max=1, style=ProgressStyle(description…"
      ]
     },
     "metadata": {},
     "output_type": "display_data"
    },
    {
     "name": "stdout",
     "output_type": "stream",
     "text": [
      "\n"
     ]
    },
    {
     "data": {
      "application/vnd.jupyter.widget-view+json": {
       "model_id": "9f1b6d87b9374ddfb2095c0878faef92",
       "version_major": 2,
       "version_minor": 0
      },
      "text/plain": [
       "HBox(children=(IntProgress(value=0, description='Evaluation iteration', max=1, style=ProgressStyle(description…"
      ]
     },
     "metadata": {},
     "output_type": "display_data"
    },
    {
     "name": "stdout",
     "output_type": "stream",
     "text": [
      "\n",
      "The current data show that as players advance in skill mastery, they become more committed to the game.\n",
      "[]\n",
      "The current data show that as players advances in skill mastery, they become more committed to the game.\n",
      "['Subject-verb agreement']\n"
     ]
    },
    {
     "data": {
      "application/vnd.jupyter.widget-view+json": {
       "model_id": "bb89c7a14c994628a39cf6b92131e1de",
       "version_major": 2,
       "version_minor": 0
      },
      "text/plain": [
       "HBox(children=(IntProgress(value=0, description='Evaluation iteration', max=1, style=ProgressStyle(description…"
      ]
     },
     "metadata": {},
     "output_type": "display_data"
    },
    {
     "name": "stdout",
     "output_type": "stream",
     "text": [
      "\n"
     ]
    },
    {
     "data": {
      "application/vnd.jupyter.widget-view+json": {
       "model_id": "931c0fe3c916488c86c70b6c1bed003c",
       "version_major": 2,
       "version_minor": 0
      },
      "text/plain": [
       "HBox(children=(IntProgress(value=0, description='Evaluation iteration', max=1, style=ProgressStyle(description…"
      ]
     },
     "metadata": {},
     "output_type": "display_data"
    },
    {
     "name": "stdout",
     "output_type": "stream",
     "text": [
      "\n",
      "We don't, you know, grow marijuana in the back yard.\n",
      "[]\n",
      "We don't, you know, grows marijuana in the back yard.\n",
      "['Subject-verb agreement']\n"
     ]
    },
    {
     "data": {
      "application/vnd.jupyter.widget-view+json": {
       "model_id": "102f6dd311b14a499947dfad81df523b",
       "version_major": 2,
       "version_minor": 0
      },
      "text/plain": [
       "HBox(children=(IntProgress(value=0, description='Evaluation iteration', max=1, style=ProgressStyle(description…"
      ]
     },
     "metadata": {},
     "output_type": "display_data"
    },
    {
     "name": "stdout",
     "output_type": "stream",
     "text": [
      "\n"
     ]
    },
    {
     "data": {
      "application/vnd.jupyter.widget-view+json": {
       "model_id": "7e66d09266ec423ead8e4b135aaa51d6",
       "version_major": 2,
       "version_minor": 0
      },
      "text/plain": [
       "HBox(children=(IntProgress(value=0, description='Evaluation iteration', max=1, style=ProgressStyle(description…"
      ]
     },
     "metadata": {},
     "output_type": "display_data"
    },
    {
     "name": "stdout",
     "output_type": "stream",
     "text": [
      "\n",
      "Well I think that what we have done is actually start doing oversight.\n",
      "[]\n",
      "Well I think that what we have done is actually starts doing oversight.\n",
      "['Subject-verb agreement']\n"
     ]
    },
    {
     "data": {
      "application/vnd.jupyter.widget-view+json": {
       "model_id": "ddd602fd8f0e471aa7e11764f23c903b",
       "version_major": 2,
       "version_minor": 0
      },
      "text/plain": [
       "HBox(children=(IntProgress(value=0, description='Evaluation iteration', max=1, style=ProgressStyle(description…"
      ]
     },
     "metadata": {},
     "output_type": "display_data"
    },
    {
     "name": "stdout",
     "output_type": "stream",
     "text": [
      "\n"
     ]
    },
    {
     "data": {
      "application/vnd.jupyter.widget-view+json": {
       "model_id": "622bbc58b9bf483182f4e0e5c6aeb010",
       "version_major": 2,
       "version_minor": 0
      },
      "text/plain": [
       "HBox(children=(IntProgress(value=0, description='Evaluation iteration', max=1, style=ProgressStyle(description…"
      ]
     },
     "metadata": {},
     "output_type": "display_data"
    },
    {
     "name": "stdout",
     "output_type": "stream",
     "text": [
      "\n",
      "Glenn Schifano is the first person they meet in the hospital even before their doctors.\n",
      "[]\n",
      "Glenn Schifano is the first person they meets in the hospital even before their doctors.\n",
      "['Subject-verb agreement']\n"
     ]
    },
    {
     "data": {
      "application/vnd.jupyter.widget-view+json": {
       "model_id": "21e06b94e12347669d312167125e13f6",
       "version_major": 2,
       "version_minor": 0
      },
      "text/plain": [
       "HBox(children=(IntProgress(value=0, description='Evaluation iteration', max=1, style=ProgressStyle(description…"
      ]
     },
     "metadata": {},
     "output_type": "display_data"
    },
    {
     "name": "stdout",
     "output_type": "stream",
     "text": [
      "\n"
     ]
    },
    {
     "data": {
      "application/vnd.jupyter.widget-view+json": {
       "model_id": "8f7775b66c2d4b0a9c57868c1d4a005b",
       "version_major": 2,
       "version_minor": 0
      },
      "text/plain": [
       "HBox(children=(IntProgress(value=0, description='Evaluation iteration', max=1, style=ProgressStyle(description…"
      ]
     },
     "metadata": {},
     "output_type": "display_data"
    },
    {
     "name": "stdout",
     "output_type": "stream",
     "text": [
      "\n",
      "Karatek had watched that ship explode as its engineers, loyal to the fleet, staged a desperate, final rebellion.\n",
      "[]\n",
      "Karatek had watched that ship explodes as its engineers, loyal to the fleet, staged a desperate, final rebellion.\n",
      "['Subject-verb agreement']\n"
     ]
    },
    {
     "data": {
      "application/vnd.jupyter.widget-view+json": {
       "model_id": "43479c0fd57440cab42569b56713612e",
       "version_major": 2,
       "version_minor": 0
      },
      "text/plain": [
       "HBox(children=(IntProgress(value=0, description='Evaluation iteration', max=1, style=ProgressStyle(description…"
      ]
     },
     "metadata": {},
     "output_type": "display_data"
    },
    {
     "name": "stdout",
     "output_type": "stream",
     "text": [
      "\n"
     ]
    },
    {
     "data": {
      "application/vnd.jupyter.widget-view+json": {
       "model_id": "50572491eb3b4574997b13a124f84f30",
       "version_major": 2,
       "version_minor": 0
      },
      "text/plain": [
       "HBox(children=(IntProgress(value=0, description='Evaluation iteration', max=1, style=ProgressStyle(description…"
      ]
     },
     "metadata": {},
     "output_type": "display_data"
    },
    {
     "name": "stdout",
     "output_type": "stream",
     "text": [
      "\n",
      "The lawsuits also accuse funeral homes of disparaging caskets sold by independent retailers.\n",
      "[]\n",
      "The lawsuits also accuses funeral homes of disparaging caskets sold by independent retailers.\n",
      "['Subject-verb agreement']\n"
     ]
    },
    {
     "data": {
      "application/vnd.jupyter.widget-view+json": {
       "model_id": "19b1fb3da9824c68bed78fa0ad40b6ab",
       "version_major": 2,
       "version_minor": 0
      },
      "text/plain": [
       "HBox(children=(IntProgress(value=0, description='Evaluation iteration', max=1, style=ProgressStyle(description…"
      ]
     },
     "metadata": {},
     "output_type": "display_data"
    },
    {
     "name": "stdout",
     "output_type": "stream",
     "text": [
      "\n"
     ]
    },
    {
     "data": {
      "application/vnd.jupyter.widget-view+json": {
       "model_id": "89350649a07f409f9c39f97406cc6aef",
       "version_major": 2,
       "version_minor": 0
      },
      "text/plain": [
       "HBox(children=(IntProgress(value=0, description='Evaluation iteration', max=1, style=ProgressStyle(description…"
      ]
     },
     "metadata": {},
     "output_type": "display_data"
    },
    {
     "name": "stdout",
     "output_type": "stream",
     "text": [
      "\n",
      "Our nationalist politicians talk about the need to control Russian children living abroad, but say little about the need to control this mafia at home.\n",
      "[]\n",
      "Our nationalist politicians talk about the need to control Russian children living abroad, but says little about the need to control this mafia at home.\n",
      "['Subject-verb agreement']\n"
     ]
    },
    {
     "data": {
      "application/vnd.jupyter.widget-view+json": {
       "model_id": "a982362c12a4414a81d5e6fe6f70b4d7",
       "version_major": 2,
       "version_minor": 0
      },
      "text/plain": [
       "HBox(children=(IntProgress(value=0, description='Evaluation iteration', max=1, style=ProgressStyle(description…"
      ]
     },
     "metadata": {},
     "output_type": "display_data"
    },
    {
     "name": "stdout",
     "output_type": "stream",
     "text": [
      "\n"
     ]
    },
    {
     "data": {
      "application/vnd.jupyter.widget-view+json": {
       "model_id": "ab19d66e99194cafac9e31f63c2c4e7a",
       "version_major": 2,
       "version_minor": 0
      },
      "text/plain": [
       "HBox(children=(IntProgress(value=0, description='Evaluation iteration', max=1, style=ProgressStyle(description…"
      ]
     },
     "metadata": {},
     "output_type": "display_data"
    },
    {
     "name": "stdout",
     "output_type": "stream",
     "text": [
      "\n",
      "The remaining rebels spend two nights on the run.\n",
      "[]\n",
      "The remaining rebels spends two nights on the run.\n",
      "['Subject-verb agreement']\n"
     ]
    },
    {
     "data": {
      "application/vnd.jupyter.widget-view+json": {
       "model_id": "595209f2dee54586ab5d416d6733b239",
       "version_major": 2,
       "version_minor": 0
      },
      "text/plain": [
       "HBox(children=(IntProgress(value=0, description='Evaluation iteration', max=1, style=ProgressStyle(description…"
      ]
     },
     "metadata": {},
     "output_type": "display_data"
    },
    {
     "name": "stdout",
     "output_type": "stream",
     "text": [
      "\n"
     ]
    },
    {
     "data": {
      "application/vnd.jupyter.widget-view+json": {
       "model_id": "d94fcd35e7b04fe5bac4e24df5689436",
       "version_major": 2,
       "version_minor": 0
      },
      "text/plain": [
       "HBox(children=(IntProgress(value=0, description='Evaluation iteration', max=1, style=ProgressStyle(description…"
      ]
     },
     "metadata": {},
     "output_type": "display_data"
    },
    {
     "name": "stdout",
     "output_type": "stream",
     "text": [
      "\n",
      "Wait, don't turn that key yet.\n",
      "[]\n",
      "Wait, don't turns that key yet\n",
      "['Subject-verb agreement']\n"
     ]
    },
    {
     "data": {
      "application/vnd.jupyter.widget-view+json": {
       "model_id": "336ac42f24694d7e86b2afff02547da7",
       "version_major": 2,
       "version_minor": 0
      },
      "text/plain": [
       "HBox(children=(IntProgress(value=0, description='Evaluation iteration', max=1, style=ProgressStyle(description…"
      ]
     },
     "metadata": {},
     "output_type": "display_data"
    },
    {
     "name": "stdout",
     "output_type": "stream",
     "text": [
      "\n"
     ]
    },
    {
     "data": {
      "application/vnd.jupyter.widget-view+json": {
       "model_id": "c1dac2c45c1d4ad6a9f0af5a4636f6e3",
       "version_major": 2,
       "version_minor": 0
      },
      "text/plain": [
       "HBox(children=(IntProgress(value=0, description='Evaluation iteration', max=1, style=ProgressStyle(description…"
      ]
     },
     "metadata": {},
     "output_type": "display_data"
    },
    {
     "name": "stdout",
     "output_type": "stream",
     "text": [
      "\n",
      "I jokingly have told people that I guess I should have been a Democrat because Harry Truman saved my life.\n",
      "[]\n",
      "I jokingly have told people that I guess I should has been a Democrat because Harry Truman saved my life.\n",
      "[]\n"
     ]
    },
    {
     "data": {
      "application/vnd.jupyter.widget-view+json": {
       "model_id": "2f63f3f382a14bfab81a4414efc3043c",
       "version_major": 2,
       "version_minor": 0
      },
      "text/plain": [
       "HBox(children=(IntProgress(value=0, description='Evaluation iteration', max=1, style=ProgressStyle(description…"
      ]
     },
     "metadata": {},
     "output_type": "display_data"
    },
    {
     "name": "stdout",
     "output_type": "stream",
     "text": [
      "\n"
     ]
    },
    {
     "data": {
      "application/vnd.jupyter.widget-view+json": {
       "model_id": "7a66113094e04b4ca6c7ba9507426672",
       "version_major": 2,
       "version_minor": 0
      },
      "text/plain": [
       "HBox(children=(IntProgress(value=0, description='Evaluation iteration', max=1, style=ProgressStyle(description…"
      ]
     },
     "metadata": {},
     "output_type": "display_data"
    },
    {
     "name": "stdout",
     "output_type": "stream",
     "text": [
      "\n",
      "Three monolithic columns still lie at the water's edge, waiting for a ship large enough to carry them.\n",
      "[]\n",
      "Three monolithic columns still lies at the water's edge, waiting for a ship large enough to carry them.\n",
      "['Subject-verb agreement']\n"
     ]
    },
    {
     "data": {
      "application/vnd.jupyter.widget-view+json": {
       "model_id": "b7ceded9d3e149e9ae455c193ca39283",
       "version_major": 2,
       "version_minor": 0
      },
      "text/plain": [
       "HBox(children=(IntProgress(value=0, description='Evaluation iteration', max=1, style=ProgressStyle(description…"
      ]
     },
     "metadata": {},
     "output_type": "display_data"
    },
    {
     "name": "stdout",
     "output_type": "stream",
     "text": [
      "\n"
     ]
    },
    {
     "data": {
      "application/vnd.jupyter.widget-view+json": {
       "model_id": "0b6095fd87a24cc9b29e6058c5ebbe54",
       "version_major": 2,
       "version_minor": 0
      },
      "text/plain": [
       "HBox(children=(IntProgress(value=0, description='Evaluation iteration', max=1, style=ProgressStyle(description…"
      ]
     },
     "metadata": {},
     "output_type": "display_data"
    },
    {
     "name": "stdout",
     "output_type": "stream",
     "text": [
      "\n",
      "Can the president overturn an acquittal?\n",
      "[]\n",
      "Can the president overturns an acquittal?\n",
      "['Subject-verb agreement']\n"
     ]
    },
    {
     "data": {
      "application/vnd.jupyter.widget-view+json": {
       "model_id": "8510cfffde3a433c9f336fbc71f62d0f",
       "version_major": 2,
       "version_minor": 0
      },
      "text/plain": [
       "HBox(children=(IntProgress(value=0, description='Evaluation iteration', max=1, style=ProgressStyle(description…"
      ]
     },
     "metadata": {},
     "output_type": "display_data"
    },
    {
     "name": "stdout",
     "output_type": "stream",
     "text": [
      "\n"
     ]
    },
    {
     "data": {
      "application/vnd.jupyter.widget-view+json": {
       "model_id": "2613b3fef7c24226a68962598de37463",
       "version_major": 2,
       "version_minor": 0
      },
      "text/plain": [
       "HBox(children=(IntProgress(value=0, description='Evaluation iteration', max=1, style=ProgressStyle(description…"
      ]
     },
     "metadata": {},
     "output_type": "display_data"
    },
    {
     "name": "stdout",
     "output_type": "stream",
     "text": [
      "\n",
      "They let most folks stretch out without touching the ends of the tent, but offer limited storage space.\n",
      "[]\n",
      "They let most folks stretch out without touching the ends of the tent, but offers limited storage space.\n",
      "['Subject-verb agreement']\n"
     ]
    },
    {
     "data": {
      "application/vnd.jupyter.widget-view+json": {
       "model_id": "195fe842088644dc92f07687281fa29d",
       "version_major": 2,
       "version_minor": 0
      },
      "text/plain": [
       "HBox(children=(IntProgress(value=0, description='Evaluation iteration', max=1, style=ProgressStyle(description…"
      ]
     },
     "metadata": {},
     "output_type": "display_data"
    },
    {
     "name": "stdout",
     "output_type": "stream",
     "text": [
      "\n"
     ]
    },
    {
     "data": {
      "application/vnd.jupyter.widget-view+json": {
       "model_id": "4b71bb85f72c48069cb67369d58ea130",
       "version_major": 2,
       "version_minor": 0
      },
      "text/plain": [
       "HBox(children=(IntProgress(value=0, description='Evaluation iteration', max=1, style=ProgressStyle(description…"
      ]
     },
     "metadata": {},
     "output_type": "display_data"
    },
    {
     "name": "stdout",
     "output_type": "stream",
     "text": [
      "\n",
      "One line of research finds that by age 3 months, babies communicate by combining vocalizations with facial expressions.\n",
      "[]\n",
      "One line of research find that by age 3 months, babies communicate by combining vocalizations with facial expressions.\n",
      "[]\n"
     ]
    },
    {
     "data": {
      "application/vnd.jupyter.widget-view+json": {
       "model_id": "9922d66e840a4019aaefc1cf10d82be2",
       "version_major": 2,
       "version_minor": 0
      },
      "text/plain": [
       "HBox(children=(IntProgress(value=0, description='Evaluation iteration', max=1, style=ProgressStyle(description…"
      ]
     },
     "metadata": {},
     "output_type": "display_data"
    },
    {
     "name": "stdout",
     "output_type": "stream",
     "text": [
      "\n"
     ]
    },
    {
     "data": {
      "application/vnd.jupyter.widget-view+json": {
       "model_id": "c547bf6d8b0b4782a879305c9f94be4d",
       "version_major": 2,
       "version_minor": 0
      },
      "text/plain": [
       "HBox(children=(IntProgress(value=0, description='Evaluation iteration', max=1, style=ProgressStyle(description…"
      ]
     },
     "metadata": {},
     "output_type": "display_data"
    },
    {
     "name": "stdout",
     "output_type": "stream",
     "text": [
      "\n",
      "The louder they complain, the better the company must be doing.\n",
      "[]\n",
      "The louder they complains, the better the company must be doing.\n",
      "['Subject-verb agreement']\n"
     ]
    },
    {
     "data": {
      "application/vnd.jupyter.widget-view+json": {
       "model_id": "c862a5b2a1f740e1942b4f69ae2da023",
       "version_major": 2,
       "version_minor": 0
      },
      "text/plain": [
       "HBox(children=(IntProgress(value=0, description='Evaluation iteration', max=1, style=ProgressStyle(description…"
      ]
     },
     "metadata": {},
     "output_type": "display_data"
    },
    {
     "name": "stdout",
     "output_type": "stream",
     "text": [
      "\n"
     ]
    },
    {
     "data": {
      "application/vnd.jupyter.widget-view+json": {
       "model_id": "4b3d4818114246ae9f364a9157a6686d",
       "version_major": 2,
       "version_minor": 0
      },
      "text/plain": [
       "HBox(children=(IntProgress(value=0, description='Evaluation iteration', max=1, style=ProgressStyle(description…"
      ]
     },
     "metadata": {},
     "output_type": "display_data"
    },
    {
     "name": "stdout",
     "output_type": "stream",
     "text": [
      "\n",
      "Now, he will help Lawson and Turner turn the plan into a reality.\n",
      "[]\n",
      "Now, he will help Lawson and Turner turns the plan into a reality.\n",
      "[]\n"
     ]
    },
    {
     "data": {
      "application/vnd.jupyter.widget-view+json": {
       "model_id": "9eccb97c69d34185953d20d0080ff71d",
       "version_major": 2,
       "version_minor": 0
      },
      "text/plain": [
       "HBox(children=(IntProgress(value=0, description='Evaluation iteration', max=1, style=ProgressStyle(description…"
      ]
     },
     "metadata": {},
     "output_type": "display_data"
    },
    {
     "name": "stdout",
     "output_type": "stream",
     "text": [
      "\n"
     ]
    },
    {
     "data": {
      "application/vnd.jupyter.widget-view+json": {
       "model_id": "870e5da761914a2692e4e7dc13726c52",
       "version_major": 2,
       "version_minor": 0
      },
      "text/plain": [
       "HBox(children=(IntProgress(value=0, description='Evaluation iteration', max=1, style=ProgressStyle(description…"
      ]
     },
     "metadata": {},
     "output_type": "display_data"
    },
    {
     "name": "stdout",
     "output_type": "stream",
     "text": [
      "\n",
      "You know, most Americans wear eyeglasses but many just aren't seeing as well as they should be.\n",
      "[]\n",
      "You know, most Americans wears eyeglasses but many just aren't seeing as well as they should be.\n",
      "['Subject-verb agreement']\n"
     ]
    },
    {
     "data": {
      "application/vnd.jupyter.widget-view+json": {
       "model_id": "6d4abaf720c7426d94a6f7e4792403d7",
       "version_major": 2,
       "version_minor": 0
      },
      "text/plain": [
       "HBox(children=(IntProgress(value=0, description='Evaluation iteration', max=1, style=ProgressStyle(description…"
      ]
     },
     "metadata": {},
     "output_type": "display_data"
    },
    {
     "name": "stdout",
     "output_type": "stream",
     "text": [
      "\n"
     ]
    },
    {
     "data": {
      "application/vnd.jupyter.widget-view+json": {
       "model_id": "c2c71c7c0a1c47df9a8a63c735b41f03",
       "version_major": 2,
       "version_minor": 0
      },
      "text/plain": [
       "HBox(children=(IntProgress(value=0, description='Evaluation iteration', max=1, style=ProgressStyle(description…"
      ]
     },
     "metadata": {},
     "output_type": "display_data"
    },
    {
     "name": "stdout",
     "output_type": "stream",
     "text": [
      "\n",
      "Today, these startups struggle with logistics, new technology, a low profile and too few customers.\n",
      "[]\n",
      "Today, these startups struggles with logistics, new technology, a low profile and too few customers.\n",
      "['Subject-verb agreement']\n"
     ]
    },
    {
     "data": {
      "application/vnd.jupyter.widget-view+json": {
       "model_id": "581e2354597d4b7db7725cb68712ecd0",
       "version_major": 2,
       "version_minor": 0
      },
      "text/plain": [
       "HBox(children=(IntProgress(value=0, description='Evaluation iteration', max=1, style=ProgressStyle(description…"
      ]
     },
     "metadata": {},
     "output_type": "display_data"
    },
    {
     "name": "stdout",
     "output_type": "stream",
     "text": [
      "\n"
     ]
    },
    {
     "data": {
      "application/vnd.jupyter.widget-view+json": {
       "model_id": "c374cd3e9ed74a5d939a3992fd7dbadc",
       "version_major": 2,
       "version_minor": 0
      },
      "text/plain": [
       "HBox(children=(IntProgress(value=0, description='Evaluation iteration', max=1, style=ProgressStyle(description…"
      ]
     },
     "metadata": {},
     "output_type": "display_data"
    },
    {
     "name": "stdout",
     "output_type": "stream",
     "text": [
      "\n",
      "Did the meeting strengthen or weaken the U.S. position?\n",
      "[]\n",
      "Did the meeting strengthens or weaken the U.S. position?\n",
      "['Subject-verb agreement']\n"
     ]
    },
    {
     "data": {
      "application/vnd.jupyter.widget-view+json": {
       "model_id": "ac9d9e3c09674b438d3379ebc07eace3",
       "version_major": 2,
       "version_minor": 0
      },
      "text/plain": [
       "HBox(children=(IntProgress(value=0, description='Evaluation iteration', max=1, style=ProgressStyle(description…"
      ]
     },
     "metadata": {},
     "output_type": "display_data"
    },
    {
     "name": "stdout",
     "output_type": "stream",
     "text": [
      "\n"
     ]
    },
    {
     "data": {
      "application/vnd.jupyter.widget-view+json": {
       "model_id": "e8017db23f2046ee8ceddfab598bc185",
       "version_major": 2,
       "version_minor": 0
      },
      "text/plain": [
       "HBox(children=(IntProgress(value=0, description='Evaluation iteration', max=1, style=ProgressStyle(description…"
      ]
     },
     "metadata": {},
     "output_type": "display_data"
    },
    {
     "name": "stdout",
     "output_type": "stream",
     "text": [
      "\n",
      "He was, on numerous occasions saying, I want to see the wall go the entire 2,000-mile border.\n",
      "[]\n",
      "He was, on numerous occasions saying, I want to see the wall goes the entire 2,000-mile border.\n",
      "['Subject-verb agreement']\n"
     ]
    },
    {
     "data": {
      "application/vnd.jupyter.widget-view+json": {
       "model_id": "9c5af86c62664b5cacc8be3ccb4b8a72",
       "version_major": 2,
       "version_minor": 0
      },
      "text/plain": [
       "HBox(children=(IntProgress(value=0, description='Evaluation iteration', max=1, style=ProgressStyle(description…"
      ]
     },
     "metadata": {},
     "output_type": "display_data"
    },
    {
     "name": "stdout",
     "output_type": "stream",
     "text": [
      "\n"
     ]
    },
    {
     "data": {
      "application/vnd.jupyter.widget-view+json": {
       "model_id": "32e4b6aab5954802ab880c979a6932e9",
       "version_major": 2,
       "version_minor": 0
      },
      "text/plain": [
       "HBox(children=(IntProgress(value=0, description='Evaluation iteration', max=1, style=ProgressStyle(description…"
      ]
     },
     "metadata": {},
     "output_type": "display_data"
    },
    {
     "name": "stdout",
     "output_type": "stream",
     "text": [
      "\n",
      "Then I rolled over so I could float on my back and let the tide take me in.\n",
      "[]\n",
      "Then I rolled over so I could float on my back and let the tide takes me in.\n",
      "['Subject-verb agreement']\n"
     ]
    },
    {
     "data": {
      "application/vnd.jupyter.widget-view+json": {
       "model_id": "cc8fcf8100ab48c0b9c2cc022e60e79e",
       "version_major": 2,
       "version_minor": 0
      },
      "text/plain": [
       "HBox(children=(IntProgress(value=0, description='Evaluation iteration', max=1, style=ProgressStyle(description…"
      ]
     },
     "metadata": {},
     "output_type": "display_data"
    },
    {
     "name": "stdout",
     "output_type": "stream",
     "text": [
      "\n"
     ]
    },
    {
     "data": {
      "application/vnd.jupyter.widget-view+json": {
       "model_id": "dbe3d02d1da74c5a9abdd58bcba1e79a",
       "version_major": 2,
       "version_minor": 0
      },
      "text/plain": [
       "HBox(children=(IntProgress(value=0, description='Evaluation iteration', max=1, style=ProgressStyle(description…"
      ]
     },
     "metadata": {},
     "output_type": "display_data"
    },
    {
     "name": "stdout",
     "output_type": "stream",
     "text": [
      "\n",
      "Was it his imagination, or did the socket look a little different?\n",
      "[]\n",
      "Was it his imagination, or did the socket looks a little different?\n",
      "['Subject-verb agreement']\n"
     ]
    },
    {
     "data": {
      "application/vnd.jupyter.widget-view+json": {
       "model_id": "bfd551005550474eb38a9770596f56e4",
       "version_major": 2,
       "version_minor": 0
      },
      "text/plain": [
       "HBox(children=(IntProgress(value=0, description='Evaluation iteration', max=1, style=ProgressStyle(description…"
      ]
     },
     "metadata": {},
     "output_type": "display_data"
    },
    {
     "name": "stdout",
     "output_type": "stream",
     "text": [
      "\n"
     ]
    },
    {
     "data": {
      "application/vnd.jupyter.widget-view+json": {
       "model_id": "6c161535a13044588328d099f66ebfb7",
       "version_major": 2,
       "version_minor": 0
      },
      "text/plain": [
       "HBox(children=(IntProgress(value=0, description='Evaluation iteration', max=1, style=ProgressStyle(description…"
      ]
     },
     "metadata": {},
     "output_type": "display_data"
    },
    {
     "name": "stdout",
     "output_type": "stream",
     "text": [
      "\n",
      "Your email address is used only to let the recipient know who sent the email.\n",
      "[]\n",
      "Your email address is used only to let the recipient knows who sent the email.\n",
      "['Subject-verb agreement']\n"
     ]
    },
    {
     "data": {
      "application/vnd.jupyter.widget-view+json": {
       "model_id": "565a8f2ae07d4f4081e59819ed96adc5",
       "version_major": 2,
       "version_minor": 0
      },
      "text/plain": [
       "HBox(children=(IntProgress(value=0, description='Evaluation iteration', max=1, style=ProgressStyle(description…"
      ]
     },
     "metadata": {},
     "output_type": "display_data"
    },
    {
     "name": "stdout",
     "output_type": "stream",
     "text": [
      "\n"
     ]
    },
    {
     "data": {
      "application/vnd.jupyter.widget-view+json": {
       "model_id": "7a11a1aea04e427aaad16681d65234a7",
       "version_major": 2,
       "version_minor": 0
      },
      "text/plain": [
       "HBox(children=(IntProgress(value=0, description='Evaluation iteration', max=1, style=ProgressStyle(description…"
      ]
     },
     "metadata": {},
     "output_type": "display_data"
    },
    {
     "name": "stdout",
     "output_type": "stream",
     "text": [
      "\n",
      "We watched the lifeboat leave for another load.\n",
      "[]\n",
      "We watched the lifeboat leaves for another load.\n",
      "['Subject-verb agreement']\n"
     ]
    },
    {
     "data": {
      "application/vnd.jupyter.widget-view+json": {
       "model_id": "6d3e08470f194a928ea517117337291c",
       "version_major": 2,
       "version_minor": 0
      },
      "text/plain": [
       "HBox(children=(IntProgress(value=0, description='Evaluation iteration', max=1, style=ProgressStyle(description…"
      ]
     },
     "metadata": {},
     "output_type": "display_data"
    },
    {
     "name": "stdout",
     "output_type": "stream",
     "text": [
      "\n"
     ]
    },
    {
     "data": {
      "application/vnd.jupyter.widget-view+json": {
       "model_id": "f928908325964a0abf298b83d4a2be05",
       "version_major": 2,
       "version_minor": 0
      },
      "text/plain": [
       "HBox(children=(IntProgress(value=0, description='Evaluation iteration', max=1, style=ProgressStyle(description…"
      ]
     },
     "metadata": {},
     "output_type": "display_data"
    },
    {
     "name": "stdout",
     "output_type": "stream",
     "text": [
      "\n",
      "The car also has a center oil lamp that could be used should the power go out.\n",
      "[]\n",
      "The car also has a center oil lamp that could be used should the power goes out.\n",
      "[]\n"
     ]
    },
    {
     "data": {
      "application/vnd.jupyter.widget-view+json": {
       "model_id": "5cabee46dacc484cb5905c857db90fe0",
       "version_major": 2,
       "version_minor": 0
      },
      "text/plain": [
       "HBox(children=(IntProgress(value=0, description='Evaluation iteration', max=1, style=ProgressStyle(description…"
      ]
     },
     "metadata": {},
     "output_type": "display_data"
    },
    {
     "name": "stdout",
     "output_type": "stream",
     "text": [
      "\n"
     ]
    },
    {
     "data": {
      "application/vnd.jupyter.widget-view+json": {
       "model_id": "3e7f615e8c1e45ccbff75fea9db1443b",
       "version_major": 2,
       "version_minor": 0
      },
      "text/plain": [
       "HBox(children=(IntProgress(value=0, description='Evaluation iteration', max=1, style=ProgressStyle(description…"
      ]
     },
     "metadata": {},
     "output_type": "display_data"
    },
    {
     "name": "stdout",
     "output_type": "stream",
     "text": [
      "\n",
      "And as I watch the story unfold, I can understand where a lot of Americans get frustrated with this.\n",
      "[]\n",
      "And as I watch the story unfolds, I can understand where a lot of Americans get frustrated with this.\n",
      "['Subject-verb agreement']\n"
     ]
    },
    {
     "data": {
      "application/vnd.jupyter.widget-view+json": {
       "model_id": "1d55e16374794390abcf97e58596b54d",
       "version_major": 2,
       "version_minor": 0
      },
      "text/plain": [
       "HBox(children=(IntProgress(value=0, description='Evaluation iteration', max=1, style=ProgressStyle(description…"
      ]
     },
     "metadata": {},
     "output_type": "display_data"
    },
    {
     "name": "stdout",
     "output_type": "stream",
     "text": [
      "\n"
     ]
    },
    {
     "data": {
      "application/vnd.jupyter.widget-view+json": {
       "model_id": "2b21238014cc4e359cc350b3a2f177ce",
       "version_major": 2,
       "version_minor": 0
      },
      "text/plain": [
       "HBox(children=(IntProgress(value=0, description='Evaluation iteration', max=1, style=ProgressStyle(description…"
      ]
     },
     "metadata": {},
     "output_type": "display_data"
    },
    {
     "name": "stdout",
     "output_type": "stream",
     "text": [
      "\n",
      "And again that is just to make the department look bad.\n",
      "[]\n",
      "And again that is just to make the department looks bad.\n",
      "[]\n"
     ]
    },
    {
     "data": {
      "application/vnd.jupyter.widget-view+json": {
       "model_id": "d1a8ebf421c64cf18c571f3a42106e4a",
       "version_major": 2,
       "version_minor": 0
      },
      "text/plain": [
       "HBox(children=(IntProgress(value=0, description='Evaluation iteration', max=1, style=ProgressStyle(description…"
      ]
     },
     "metadata": {},
     "output_type": "display_data"
    },
    {
     "name": "stdout",
     "output_type": "stream",
     "text": [
      "\n"
     ]
    },
    {
     "data": {
      "application/vnd.jupyter.widget-view+json": {
       "model_id": "fe45267a683542e0b0789512cce27737",
       "version_major": 2,
       "version_minor": 0
      },
      "text/plain": [
       "HBox(children=(IntProgress(value=0, description='Evaluation iteration', max=1, style=ProgressStyle(description…"
      ]
     },
     "metadata": {},
     "output_type": "display_data"
    },
    {
     "name": "stdout",
     "output_type": "stream",
     "text": [
      "\n",
      "He let the door stand open as he made one more trip to the Jeep for his briefcase.\n",
      "[]\n",
      "He let the door stands open as he made one more trip to the Jeep for his briefcase.\n",
      "[]\n"
     ]
    },
    {
     "data": {
      "application/vnd.jupyter.widget-view+json": {
       "model_id": "21431c9ebfb141ad872c2bf2571b84c9",
       "version_major": 2,
       "version_minor": 0
      },
      "text/plain": [
       "HBox(children=(IntProgress(value=0, description='Evaluation iteration', max=1, style=ProgressStyle(description…"
      ]
     },
     "metadata": {},
     "output_type": "display_data"
    },
    {
     "name": "stdout",
     "output_type": "stream",
     "text": [
      "\n"
     ]
    },
    {
     "data": {
      "application/vnd.jupyter.widget-view+json": {
       "model_id": "7f1e0a09e767458d95e3d17c4844e730",
       "version_major": 2,
       "version_minor": 0
      },
      "text/plain": [
       "HBox(children=(IntProgress(value=0, description='Evaluation iteration', max=1, style=ProgressStyle(description…"
      ]
     },
     "metadata": {},
     "output_type": "display_data"
    },
    {
     "name": "stdout",
     "output_type": "stream",
     "text": [
      "\n",
      "Georges heard the maid shriek before the front door banged open.\n",
      "[]\n",
      "Georges heard the maid shrieks before the front door banged open.\n",
      "[]\n"
     ]
    },
    {
     "data": {
      "application/vnd.jupyter.widget-view+json": {
       "model_id": "82971e5d493c45f498369a755d9c336f",
       "version_major": 2,
       "version_minor": 0
      },
      "text/plain": [
       "HBox(children=(IntProgress(value=0, description='Evaluation iteration', max=1, style=ProgressStyle(description…"
      ]
     },
     "metadata": {},
     "output_type": "display_data"
    },
    {
     "name": "stdout",
     "output_type": "stream",
     "text": [
      "\n"
     ]
    },
    {
     "data": {
      "application/vnd.jupyter.widget-view+json": {
       "model_id": "e3e354d71e5144969a7fb5df89bb1bf5",
       "version_major": 2,
       "version_minor": 0
      },
      "text/plain": [
       "HBox(children=(IntProgress(value=0, description='Evaluation iteration', max=1, style=ProgressStyle(description…"
      ]
     },
     "metadata": {},
     "output_type": "display_data"
    },
    {
     "name": "stdout",
     "output_type": "stream",
     "text": [
      "\n",
      "The government, meanwhile, has offered to let the defense see the videos and photos.\n",
      "[]\n",
      "The government, meanwhile, has offered to let the defense sees the videos and photos.\n",
      "[]\n"
     ]
    },
    {
     "data": {
      "application/vnd.jupyter.widget-view+json": {
       "model_id": "eababe9645384b2e8315504c6c050aec",
       "version_major": 2,
       "version_minor": 0
      },
      "text/plain": [
       "HBox(children=(IntProgress(value=0, description='Evaluation iteration', max=1, style=ProgressStyle(description…"
      ]
     },
     "metadata": {},
     "output_type": "display_data"
    },
    {
     "name": "stdout",
     "output_type": "stream",
     "text": [
      "\n"
     ]
    },
    {
     "data": {
      "application/vnd.jupyter.widget-view+json": {
       "model_id": "28ad8a02459048c5acad5e054c9bf478",
       "version_major": 2,
       "version_minor": 0
      },
      "text/plain": [
       "HBox(children=(IntProgress(value=0, description='Evaluation iteration', max=1, style=ProgressStyle(description…"
      ]
     },
     "metadata": {},
     "output_type": "display_data"
    },
    {
     "name": "stdout",
     "output_type": "stream",
     "text": [
      "\n",
      "He had seen the world dim around the edges, he said, then plunge into darkness.\n",
      "[]\n",
      "He had seen the world dims around the edges, he said, then plunge into darkness.\n",
      "[]\n"
     ]
    },
    {
     "data": {
      "application/vnd.jupyter.widget-view+json": {
       "model_id": "05853d787a754aca8c31456f2efff526",
       "version_major": 2,
       "version_minor": 0
      },
      "text/plain": [
       "HBox(children=(IntProgress(value=0, description='Evaluation iteration', max=1, style=ProgressStyle(description…"
      ]
     },
     "metadata": {},
     "output_type": "display_data"
    },
    {
     "name": "stdout",
     "output_type": "stream",
     "text": [
      "\n"
     ]
    },
    {
     "data": {
      "application/vnd.jupyter.widget-view+json": {
       "model_id": "da87b769ec764df0ad28b82f81cac5d9",
       "version_major": 2,
       "version_minor": 0
      },
      "text/plain": [
       "HBox(children=(IntProgress(value=0, description='Evaluation iteration', max=1, style=ProgressStyle(description…"
      ]
     },
     "metadata": {},
     "output_type": "display_data"
    },
    {
     "name": "stdout",
     "output_type": "stream",
     "text": [
      "\n",
      "What does the research say?\n",
      "[]\n",
      "What does the research says?\n",
      "['Subject-verb agreement']\n"
     ]
    },
    {
     "data": {
      "application/vnd.jupyter.widget-view+json": {
       "model_id": "159e2cfcce0241ca85629f6662fb96a2",
       "version_major": 2,
       "version_minor": 0
      },
      "text/plain": [
       "HBox(children=(IntProgress(value=0, description='Evaluation iteration', max=1, style=ProgressStyle(description…"
      ]
     },
     "metadata": {},
     "output_type": "display_data"
    },
    {
     "name": "stdout",
     "output_type": "stream",
     "text": [
      "\n"
     ]
    },
    {
     "data": {
      "application/vnd.jupyter.widget-view+json": {
       "model_id": "980478cebf954f87a6ab98343bb66cc0",
       "version_major": 2,
       "version_minor": 0
      },
      "text/plain": [
       "HBox(children=(IntProgress(value=0, description='Evaluation iteration', max=1, style=ProgressStyle(description…"
      ]
     },
     "metadata": {},
     "output_type": "display_data"
    },
    {
     "name": "stdout",
     "output_type": "stream",
     "text": [
      "\n",
      "Then he leaned back, letting the sun warm his face.\n",
      "[]\n",
      "Then he leaned back, letting the sun warms his face.\n",
      "['Subject-verb agreement']\n"
     ]
    },
    {
     "data": {
      "application/vnd.jupyter.widget-view+json": {
       "model_id": "5b7b06e3b9f94254ae138c93ca2f0a4a",
       "version_major": 2,
       "version_minor": 0
      },
      "text/plain": [
       "HBox(children=(IntProgress(value=0, description='Evaluation iteration', max=1, style=ProgressStyle(description…"
      ]
     },
     "metadata": {},
     "output_type": "display_data"
    },
    {
     "name": "stdout",
     "output_type": "stream",
     "text": [
      "\n"
     ]
    },
    {
     "data": {
      "application/vnd.jupyter.widget-view+json": {
       "model_id": "390e9ca58ae440279902c044b2c6b0de",
       "version_major": 2,
       "version_minor": 0
      },
      "text/plain": [
       "HBox(children=(IntProgress(value=0, description='Evaluation iteration', max=1, style=ProgressStyle(description…"
      ]
     },
     "metadata": {},
     "output_type": "display_data"
    },
    {
     "name": "stdout",
     "output_type": "stream",
     "text": [
      "\n",
      "To make the son change his parentally subsidized lifestyle cold turkey was cruel.\n",
      "[]\n",
      "To make the son changes his parentally subsidized lifestyle cold turkey was cruel.\n",
      "['Subject-verb agreement']\n"
     ]
    },
    {
     "data": {
      "application/vnd.jupyter.widget-view+json": {
       "model_id": "19442cea0cfa4f22a77981b899c68520",
       "version_major": 2,
       "version_minor": 0
      },
      "text/plain": [
       "HBox(children=(IntProgress(value=0, description='Evaluation iteration', max=1, style=ProgressStyle(description…"
      ]
     },
     "metadata": {},
     "output_type": "display_data"
    },
    {
     "name": "stdout",
     "output_type": "stream",
     "text": [
      "\n"
     ]
    },
    {
     "data": {
      "application/vnd.jupyter.widget-view+json": {
       "model_id": "bfb9a02293c444a3968b76bcd55af6dd",
       "version_major": 2,
       "version_minor": 0
      },
      "text/plain": [
       "HBox(children=(IntProgress(value=0, description='Evaluation iteration', max=1, style=ProgressStyle(description…"
      ]
     },
     "metadata": {},
     "output_type": "display_data"
    },
    {
     "name": "stdout",
     "output_type": "stream",
     "text": [
      "\n",
      "What matters is what the 15 jurors that heard the evidence think.\n",
      "[]\n",
      "What matters is what the 15 jurors that heard the evidence thinks.\n",
      "['Subject-verb agreement']\n"
     ]
    },
    {
     "data": {
      "application/vnd.jupyter.widget-view+json": {
       "model_id": "76fcdc41adfe48abb019b800b966854d",
       "version_major": 2,
       "version_minor": 0
      },
      "text/plain": [
       "HBox(children=(IntProgress(value=0, description='Evaluation iteration', max=1, style=ProgressStyle(description…"
      ]
     },
     "metadata": {},
     "output_type": "display_data"
    },
    {
     "name": "stdout",
     "output_type": "stream",
     "text": [
      "\n"
     ]
    },
    {
     "data": {
      "application/vnd.jupyter.widget-view+json": {
       "model_id": "862a29627d654774bd645887bc6ce773",
       "version_major": 2,
       "version_minor": 0
      },
      "text/plain": [
       "HBox(children=(IntProgress(value=0, description='Evaluation iteration', max=1, style=ProgressStyle(description…"
      ]
     },
     "metadata": {},
     "output_type": "display_data"
    },
    {
     "name": "stdout",
     "output_type": "stream",
     "text": [
      "\n",
      "Ranjit watches the woman get into the cab.\n",
      "[]\n",
      "Ranjit watches the woman gets into the cab.\n",
      "[]\n"
     ]
    },
    {
     "data": {
      "application/vnd.jupyter.widget-view+json": {
       "model_id": "f2fdf532320a4036b6881282e2415387",
       "version_major": 2,
       "version_minor": 0
      },
      "text/plain": [
       "HBox(children=(IntProgress(value=0, description='Evaluation iteration', max=1, style=ProgressStyle(description…"
      ]
     },
     "metadata": {},
     "output_type": "display_data"
    },
    {
     "name": "stdout",
     "output_type": "stream",
     "text": [
      "\n"
     ]
    },
    {
     "data": {
      "application/vnd.jupyter.widget-view+json": {
       "model_id": "1366c8653e364d4e97e3a87b1e90941a",
       "version_major": 2,
       "version_minor": 0
      },
      "text/plain": [
       "HBox(children=(IntProgress(value=0, description='Evaluation iteration', max=1, style=ProgressStyle(description…"
      ]
     },
     "metadata": {},
     "output_type": "display_data"
    },
    {
     "name": "stdout",
     "output_type": "stream",
     "text": [
      "\n",
      "Never let the card leave your sight.\n",
      "['Subject-verb agreement']\n",
      "Never let the card leaves your sight.\n",
      "['Subject-verb agreement']\n"
     ]
    },
    {
     "data": {
      "application/vnd.jupyter.widget-view+json": {
       "model_id": "0d2234506067419f99689d59a593f150",
       "version_major": 2,
       "version_minor": 0
      },
      "text/plain": [
       "HBox(children=(IntProgress(value=0, description='Evaluation iteration', max=1, style=ProgressStyle(description…"
      ]
     },
     "metadata": {},
     "output_type": "display_data"
    },
    {
     "name": "stdout",
     "output_type": "stream",
     "text": [
      "\n"
     ]
    },
    {
     "data": {
      "application/vnd.jupyter.widget-view+json": {
       "model_id": "d3c94210954c4f298b84d5618c941fa2",
       "version_major": 2,
       "version_minor": 0
      },
      "text/plain": [
       "HBox(children=(IntProgress(value=0, description='Evaluation iteration', max=1, style=ProgressStyle(description…"
      ]
     },
     "metadata": {},
     "output_type": "display_data"
    },
    {
     "name": "stdout",
     "output_type": "stream",
     "text": [
      "\n",
      "So, you know, we saw the shot go off and it looked like it went off really well.\n",
      "[]\n",
      "So, you know, we saw the shot goes off and it looked like it went off really well.\n",
      "[]\n"
     ]
    },
    {
     "data": {
      "application/vnd.jupyter.widget-view+json": {
       "model_id": "fa65f9ce2d494d57885c917e8439cd1e",
       "version_major": 2,
       "version_minor": 0
      },
      "text/plain": [
       "HBox(children=(IntProgress(value=0, description='Evaluation iteration', max=1, style=ProgressStyle(description…"
      ]
     },
     "metadata": {},
     "output_type": "display_data"
    },
    {
     "name": "stdout",
     "output_type": "stream",
     "text": [
      "\n"
     ]
    },
    {
     "data": {
      "application/vnd.jupyter.widget-view+json": {
       "model_id": "ecdf606f9eb4410b8b3d9d8ff7b7c744",
       "version_major": 2,
       "version_minor": 0
      },
      "text/plain": [
       "HBox(children=(IntProgress(value=0, description='Evaluation iteration', max=1, style=ProgressStyle(description…"
      ]
     },
     "metadata": {},
     "output_type": "display_data"
    },
    {
     "name": "stdout",
     "output_type": "stream",
     "text": [
      "\n",
      "He would certainly have lost his grant money, and might even have lost his license.\n",
      "[]\n",
      "He would certainly has lost his grant money, and might even have lost his license.\n",
      "['Subject-verb agreement']\n"
     ]
    },
    {
     "data": {
      "application/vnd.jupyter.widget-view+json": {
       "model_id": "327b1713d5604d2f804f40158d23f2a3",
       "version_major": 2,
       "version_minor": 0
      },
      "text/plain": [
       "HBox(children=(IntProgress(value=0, description='Evaluation iteration', max=1, style=ProgressStyle(description…"
      ]
     },
     "metadata": {},
     "output_type": "display_data"
    },
    {
     "name": "stdout",
     "output_type": "stream",
     "text": [
      "\n"
     ]
    },
    {
     "data": {
      "application/vnd.jupyter.widget-view+json": {
       "model_id": "3060c4b5c0c14073a8512a236c130db9",
       "version_major": 2,
       "version_minor": 0
      },
      "text/plain": [
       "HBox(children=(IntProgress(value=0, description='Evaluation iteration', max=1, style=ProgressStyle(description…"
      ]
     },
     "metadata": {},
     "output_type": "display_data"
    },
    {
     "name": "stdout",
     "output_type": "stream",
     "text": [
      "\n",
      "I know you can't function on an empty stomach.\n",
      "[]\n",
      "I know you can't functions on an empty stomach.\n",
      "['Subject-verb agreement']\n"
     ]
    },
    {
     "data": {
      "application/vnd.jupyter.widget-view+json": {
       "model_id": "cedda2acce524f97a3adeabb3f599549",
       "version_major": 2,
       "version_minor": 0
      },
      "text/plain": [
       "HBox(children=(IntProgress(value=0, description='Evaluation iteration', max=1, style=ProgressStyle(description…"
      ]
     },
     "metadata": {},
     "output_type": "display_data"
    },
    {
     "name": "stdout",
     "output_type": "stream",
     "text": [
      "\n"
     ]
    },
    {
     "data": {
      "application/vnd.jupyter.widget-view+json": {
       "model_id": "d1341964398e4fd2809afaaed8136dd1",
       "version_major": 2,
       "version_minor": 0
      },
      "text/plain": [
       "HBox(children=(IntProgress(value=0, description='Evaluation iteration', max=1, style=ProgressStyle(description…"
      ]
     },
     "metadata": {},
     "output_type": "display_data"
    },
    {
     "name": "stdout",
     "output_type": "stream",
     "text": [
      "\n",
      "For a while, researchers thought gluons could assemble into strings that tie quarks to each other.\n",
      "[]\n",
      "For a while, researchers thought gluons could assembles into strings that tie quarks to each other.\n",
      "['Subject-verb agreement']\n"
     ]
    },
    {
     "data": {
      "application/vnd.jupyter.widget-view+json": {
       "model_id": "dbadf7b5d4314440b1308267e41fac5d",
       "version_major": 2,
       "version_minor": 0
      },
      "text/plain": [
       "HBox(children=(IntProgress(value=0, description='Evaluation iteration', max=1, style=ProgressStyle(description…"
      ]
     },
     "metadata": {},
     "output_type": "display_data"
    },
    {
     "name": "stdout",
     "output_type": "stream",
     "text": [
      "\n"
     ]
    },
    {
     "data": {
      "application/vnd.jupyter.widget-view+json": {
       "model_id": "59d1fae896f14bd1be9c79c952cffded",
       "version_major": 2,
       "version_minor": 0
      },
      "text/plain": [
       "HBox(children=(IntProgress(value=0, description='Evaluation iteration', max=1, style=ProgressStyle(description…"
      ]
     },
     "metadata": {},
     "output_type": "display_data"
    },
    {
     "name": "stdout",
     "output_type": "stream",
     "text": [
      "\n",
      "She just hoped for everyone's sake that the Air Force jet would still be there.\n",
      "[]\n",
      "She just hoped for everyone's sake that the Air Force jet woulds still be there.\n",
      "['Subject-verb agreement']\n"
     ]
    },
    {
     "data": {
      "application/vnd.jupyter.widget-view+json": {
       "model_id": "dbd8b03b18a64b45bd8cc32ac0fc3af8",
       "version_major": 2,
       "version_minor": 0
      },
      "text/plain": [
       "HBox(children=(IntProgress(value=0, description='Evaluation iteration', max=1, style=ProgressStyle(description…"
      ]
     },
     "metadata": {},
     "output_type": "display_data"
    },
    {
     "name": "stdout",
     "output_type": "stream",
     "text": [
      "\n"
     ]
    },
    {
     "data": {
      "application/vnd.jupyter.widget-view+json": {
       "model_id": "9c59d9c0c086419283490deee7b023de",
       "version_major": 2,
       "version_minor": 0
      },
      "text/plain": [
       "HBox(children=(IntProgress(value=0, description='Evaluation iteration', max=1, style=ProgressStyle(description…"
      ]
     },
     "metadata": {},
     "output_type": "display_data"
    },
    {
     "name": "stdout",
     "output_type": "stream",
     "text": [
      "\n",
      "So if you have a needy husband, you can only have one child.\n",
      "[]\n",
      "So if you have a needy husband, you can only has one child.\n",
      "['Subject-verb agreement']\n"
     ]
    },
    {
     "data": {
      "application/vnd.jupyter.widget-view+json": {
       "model_id": "dca4b82e50cf48aa9c13252e50c0b181",
       "version_major": 2,
       "version_minor": 0
      },
      "text/plain": [
       "HBox(children=(IntProgress(value=0, description='Evaluation iteration', max=1, style=ProgressStyle(description…"
      ]
     },
     "metadata": {},
     "output_type": "display_data"
    },
    {
     "name": "stdout",
     "output_type": "stream",
     "text": [
      "\n"
     ]
    },
    {
     "data": {
      "application/vnd.jupyter.widget-view+json": {
       "model_id": "da9a372d11234cb1a8c080c2c69f434d",
       "version_major": 2,
       "version_minor": 0
      },
      "text/plain": [
       "HBox(children=(IntProgress(value=0, description='Evaluation iteration', max=1, style=ProgressStyle(description…"
      ]
     },
     "metadata": {},
     "output_type": "display_data"
    },
    {
     "name": "stdout",
     "output_type": "stream",
     "text": [
      "\n",
      "Under the new rule, advisers and firms could face legal action for not acting in their client's best interest.\n",
      "[]\n",
      "Under the new rule, advisers and firms could faces legal action for not acting in their client's best interest.\n",
      "['Subject-verb agreement']\n"
     ]
    },
    {
     "data": {
      "application/vnd.jupyter.widget-view+json": {
       "model_id": "b2e7636c89f5458da8e3f6ba2a559617",
       "version_major": 2,
       "version_minor": 0
      },
      "text/plain": [
       "HBox(children=(IntProgress(value=0, description='Evaluation iteration', max=1, style=ProgressStyle(description…"
      ]
     },
     "metadata": {},
     "output_type": "display_data"
    },
    {
     "name": "stdout",
     "output_type": "stream",
     "text": [
      "\n"
     ]
    },
    {
     "data": {
      "application/vnd.jupyter.widget-view+json": {
       "model_id": "eb5b3cfe5ac9463396db44c755284570",
       "version_major": 2,
       "version_minor": 0
      },
      "text/plain": [
       "HBox(children=(IntProgress(value=0, description='Evaluation iteration', max=1, style=ProgressStyle(description…"
      ]
     },
     "metadata": {},
     "output_type": "display_data"
    },
    {
     "name": "stdout",
     "output_type": "stream",
     "text": [
      "\n",
      "Brown said she will always remember how that calmed and soothed her daughter.\n",
      "[]\n",
      "Brown said she will always remembers how that calmed and soothed her daughter.\n",
      "['Subject-verb agreement']\n"
     ]
    },
    {
     "data": {
      "application/vnd.jupyter.widget-view+json": {
       "model_id": "d4913687f48447d0b16182f1f156897d",
       "version_major": 2,
       "version_minor": 0
      },
      "text/plain": [
       "HBox(children=(IntProgress(value=0, description='Evaluation iteration', max=1, style=ProgressStyle(description…"
      ]
     },
     "metadata": {},
     "output_type": "display_data"
    },
    {
     "name": "stdout",
     "output_type": "stream",
     "text": [
      "\n"
     ]
    },
    {
     "data": {
      "application/vnd.jupyter.widget-view+json": {
       "model_id": "547a33335f194fc8b31ca317089fd872",
       "version_major": 2,
       "version_minor": 0
      },
      "text/plain": [
       "HBox(children=(IntProgress(value=0, description='Evaluation iteration', max=1, style=ProgressStyle(description…"
      ]
     },
     "metadata": {},
     "output_type": "display_data"
    },
    {
     "name": "stdout",
     "output_type": "stream",
     "text": [
      "\n",
      "Vaccine coverage can vary broadly from one country to other.\n",
      "[]\n",
      "Vaccine coverage can varies broadly from one country to other.\n",
      "[]\n"
     ]
    },
    {
     "data": {
      "application/vnd.jupyter.widget-view+json": {
       "model_id": "b72e72721b3043c887dd201177c2b749",
       "version_major": 2,
       "version_minor": 0
      },
      "text/plain": [
       "HBox(children=(IntProgress(value=0, description='Evaluation iteration', max=1, style=ProgressStyle(description…"
      ]
     },
     "metadata": {},
     "output_type": "display_data"
    },
    {
     "name": "stdout",
     "output_type": "stream",
     "text": [
      "\n"
     ]
    },
    {
     "data": {
      "application/vnd.jupyter.widget-view+json": {
       "model_id": "e002f623f2a44bb2a3b4e381b2d7a1e9",
       "version_major": 2,
       "version_minor": 0
      },
      "text/plain": [
       "HBox(children=(IntProgress(value=0, description='Evaluation iteration', max=1, style=ProgressStyle(description…"
      ]
     },
     "metadata": {},
     "output_type": "display_data"
    },
    {
     "name": "stdout",
     "output_type": "stream",
     "text": [
      "\n",
      "If she were a seasoned gambler, this woman would stay put and ride this upswing out.\n",
      "[]\n",
      "If she were a seasoned gambler, this woman would stays put and ride this upswing out.\n",
      "[]\n"
     ]
    },
    {
     "data": {
      "application/vnd.jupyter.widget-view+json": {
       "model_id": "dfb010db99de4b4aab48e55c1df35d3d",
       "version_major": 2,
       "version_minor": 0
      },
      "text/plain": [
       "HBox(children=(IntProgress(value=0, description='Evaluation iteration', max=1, style=ProgressStyle(description…"
      ]
     },
     "metadata": {},
     "output_type": "display_data"
    },
    {
     "name": "stdout",
     "output_type": "stream",
     "text": [
      "\n"
     ]
    },
    {
     "data": {
      "application/vnd.jupyter.widget-view+json": {
       "model_id": "e4d8b63ea6c54d3ab700233e7e26bcc8",
       "version_major": 2,
       "version_minor": 0
      },
      "text/plain": [
       "HBox(children=(IntProgress(value=0, description='Evaluation iteration', max=1, style=ProgressStyle(description…"
      ]
     },
     "metadata": {},
     "output_type": "display_data"
    },
    {
     "name": "stdout",
     "output_type": "stream",
     "text": [
      "\n",
      "Plus, he's the man many say will run to be the next U.S. president.\n",
      "[]\n",
      "Plus, he's the man many say will runs to be the next U.S. president.\n",
      "['Subject-verb agreement']\n"
     ]
    },
    {
     "data": {
      "application/vnd.jupyter.widget-view+json": {
       "model_id": "5c9abcf2bdf943f59eb8d9078bfb7d45",
       "version_major": 2,
       "version_minor": 0
      },
      "text/plain": [
       "HBox(children=(IntProgress(value=0, description='Evaluation iteration', max=1, style=ProgressStyle(description…"
      ]
     },
     "metadata": {},
     "output_type": "display_data"
    },
    {
     "name": "stdout",
     "output_type": "stream",
     "text": [
      "\n"
     ]
    },
    {
     "data": {
      "application/vnd.jupyter.widget-view+json": {
       "model_id": "f1fd3ceeee154522b472243ff69f85d3",
       "version_major": 2,
       "version_minor": 0
      },
      "text/plain": [
       "HBox(children=(IntProgress(value=0, description='Evaluation iteration', max=1, style=ProgressStyle(description…"
      ]
     },
     "metadata": {},
     "output_type": "display_data"
    },
    {
     "name": "stdout",
     "output_type": "stream",
     "text": [
      "\n",
      "Mexico can go forward, or it can fall backwards, but it can' t possibly stay the way it is now.\n",
      "[]\n",
      "Mexico can go forward, or it can fall backwards, but it can' t possibly stays the way it is now.\n",
      "['Subject-verb agreement']\n"
     ]
    },
    {
     "data": {
      "application/vnd.jupyter.widget-view+json": {
       "model_id": "01ce1699f52241b1a90d62b8d48abacd",
       "version_major": 2,
       "version_minor": 0
      },
      "text/plain": [
       "HBox(children=(IntProgress(value=0, description='Evaluation iteration', max=1, style=ProgressStyle(description…"
      ]
     },
     "metadata": {},
     "output_type": "display_data"
    },
    {
     "name": "stdout",
     "output_type": "stream",
     "text": [
      "\n"
     ]
    },
    {
     "data": {
      "application/vnd.jupyter.widget-view+json": {
       "model_id": "53ee84f0f0b4446fbf750ed8ca4e12be",
       "version_major": 2,
       "version_minor": 0
      },
      "text/plain": [
       "HBox(children=(IntProgress(value=0, description='Evaluation iteration', max=1, style=ProgressStyle(description…"
      ]
     },
     "metadata": {},
     "output_type": "display_data"
    },
    {
     "name": "stdout",
     "output_type": "stream",
     "text": [
      "\n",
      "I'm optimistic, but it will take time.\n",
      "[]\n",
      "I'm optimistic, but it will takes time.\n",
      "['Subject-verb agreement']\n"
     ]
    },
    {
     "data": {
      "application/vnd.jupyter.widget-view+json": {
       "model_id": "9bcf75fc39f847aab7aadd62a224b20d",
       "version_major": 2,
       "version_minor": 0
      },
      "text/plain": [
       "HBox(children=(IntProgress(value=0, description='Evaluation iteration', max=1, style=ProgressStyle(description…"
      ]
     },
     "metadata": {},
     "output_type": "display_data"
    },
    {
     "name": "stdout",
     "output_type": "stream",
     "text": [
      "\n"
     ]
    },
    {
     "data": {
      "application/vnd.jupyter.widget-view+json": {
       "model_id": "5e26aefbd8854891af110e00ca6a50d6",
       "version_major": 2,
       "version_minor": 0
      },
      "text/plain": [
       "HBox(children=(IntProgress(value=0, description='Evaluation iteration', max=1, style=ProgressStyle(description…"
      ]
     },
     "metadata": {},
     "output_type": "display_data"
    },
    {
     "name": "stdout",
     "output_type": "stream",
     "text": [
      "\n",
      "I would hope that I have the relationship with my daughter that she would tell me, it would never get to that point.\n",
      "[]\n",
      " I would hope that I have the relationship with my daughter that she would tell me, it would never gets to that point.\n",
      "['Subject-verb agreement']\n"
     ]
    },
    {
     "data": {
      "application/vnd.jupyter.widget-view+json": {
       "model_id": "fda06f0432c74c6f838e4599b2cbf40f",
       "version_major": 2,
       "version_minor": 0
      },
      "text/plain": [
       "HBox(children=(IntProgress(value=0, description='Evaluation iteration', max=1, style=ProgressStyle(description…"
      ]
     },
     "metadata": {},
     "output_type": "display_data"
    },
    {
     "name": "stdout",
     "output_type": "stream",
     "text": [
      "\n"
     ]
    },
    {
     "data": {
      "application/vnd.jupyter.widget-view+json": {
       "model_id": "8329d6c90b8843709d8bab8515fa9371",
       "version_major": 2,
       "version_minor": 0
      },
      "text/plain": [
       "HBox(children=(IntProgress(value=0, description='Evaluation iteration', max=1, style=ProgressStyle(description…"
      ]
     },
     "metadata": {},
     "output_type": "display_data"
    },
    {
     "name": "stdout",
     "output_type": "stream",
     "text": [
      "\n",
      "But we don't rule out that the death count will climb.\n",
      "[]\n",
      "But we don't rule out that the death count will climbs.\n",
      "[]\n"
     ]
    },
    {
     "data": {
      "application/vnd.jupyter.widget-view+json": {
       "model_id": "14d7c809f5de4b6d8f21610d37ea66a9",
       "version_major": 2,
       "version_minor": 0
      },
      "text/plain": [
       "HBox(children=(IntProgress(value=0, description='Evaluation iteration', max=1, style=ProgressStyle(description…"
      ]
     },
     "metadata": {},
     "output_type": "display_data"
    },
    {
     "name": "stdout",
     "output_type": "stream",
     "text": [
      "\n"
     ]
    },
    {
     "data": {
      "application/vnd.jupyter.widget-view+json": {
       "model_id": "2eda78d7d01e42c4a5f4021159b7307d",
       "version_major": 2,
       "version_minor": 0
      },
      "text/plain": [
       "HBox(children=(IntProgress(value=0, description='Evaluation iteration', max=1, style=ProgressStyle(description…"
      ]
     },
     "metadata": {},
     "output_type": "display_data"
    },
    {
     "name": "stdout",
     "output_type": "stream",
     "text": [
      "\n",
      "The homeowner can always adjust the device from home or the road.\n",
      "[]\n",
      "The homeowner can always adjusts the device from home or the road.\n",
      "['Subject-verb agreement']\n"
     ]
    },
    {
     "data": {
      "application/vnd.jupyter.widget-view+json": {
       "model_id": "84792a577c614f3893be77b7a631bc92",
       "version_major": 2,
       "version_minor": 0
      },
      "text/plain": [
       "HBox(children=(IntProgress(value=0, description='Evaluation iteration', max=1, style=ProgressStyle(description…"
      ]
     },
     "metadata": {},
     "output_type": "display_data"
    },
    {
     "name": "stdout",
     "output_type": "stream",
     "text": [
      "\n"
     ]
    },
    {
     "data": {
      "application/vnd.jupyter.widget-view+json": {
       "model_id": "4529cc606dff47dcb16818c0e5de667d",
       "version_major": 2,
       "version_minor": 0
      },
      "text/plain": [
       "HBox(children=(IntProgress(value=0, description='Evaluation iteration', max=1, style=ProgressStyle(description…"
      ]
     },
     "metadata": {},
     "output_type": "display_data"
    },
    {
     "name": "stdout",
     "output_type": "stream",
     "text": [
      "\n",
      "Perhaps if I got it cut, it might help keep the woman from identifying me.\n",
      "[]\n",
      "Perhaps if I got it cut, it might help keeps the woman from identifying me.\n",
      "['Subject-verb agreement']\n"
     ]
    },
    {
     "data": {
      "application/vnd.jupyter.widget-view+json": {
       "model_id": "94550c8e3f0649e2a26ba5fed6058d04",
       "version_major": 2,
       "version_minor": 0
      },
      "text/plain": [
       "HBox(children=(IntProgress(value=0, description='Evaluation iteration', max=1, style=ProgressStyle(description…"
      ]
     },
     "metadata": {},
     "output_type": "display_data"
    },
    {
     "name": "stdout",
     "output_type": "stream",
     "text": [
      "\n"
     ]
    },
    {
     "data": {
      "application/vnd.jupyter.widget-view+json": {
       "model_id": "66795ff82c814ba18f9ca18c787eab2d",
       "version_major": 2,
       "version_minor": 0
      },
      "text/plain": [
       "HBox(children=(IntProgress(value=0, description='Evaluation iteration', max=1, style=ProgressStyle(description…"
      ]
     },
     "metadata": {},
     "output_type": "display_data"
    },
    {
     "name": "stdout",
     "output_type": "stream",
     "text": [
      "\n",
      "That's the best example I can give you of how a state has robbed our state of jobs.\n",
      "[]\n",
      "That's the best example I can give you of how a state have robbed our state of jobs.\n",
      "['Subject-verb agreement']\n"
     ]
    },
    {
     "data": {
      "application/vnd.jupyter.widget-view+json": {
       "model_id": "e5d01f61b2be412098f6ec053496c0f3",
       "version_major": 2,
       "version_minor": 0
      },
      "text/plain": [
       "HBox(children=(IntProgress(value=0, description='Evaluation iteration', max=1, style=ProgressStyle(description…"
      ]
     },
     "metadata": {},
     "output_type": "display_data"
    },
    {
     "name": "stdout",
     "output_type": "stream",
     "text": [
      "\n"
     ]
    },
    {
     "data": {
      "application/vnd.jupyter.widget-view+json": {
       "model_id": "72d5c69a8a0b4b7fb6735f3e133a6571",
       "version_major": 2,
       "version_minor": 0
      },
      "text/plain": [
       "HBox(children=(IntProgress(value=0, description='Evaluation iteration', max=1, style=ProgressStyle(description…"
      ]
     },
     "metadata": {},
     "output_type": "display_data"
    },
    {
     "name": "stdout",
     "output_type": "stream",
     "text": [
      "\n",
      "So how would it provide financial meltdowns?\n",
      "[]\n",
      "So how would it provides financial meltdowns?\n",
      "[]\n"
     ]
    },
    {
     "data": {
      "application/vnd.jupyter.widget-view+json": {
       "model_id": "7cf6b99426be4041b6b568d8c2562add",
       "version_major": 2,
       "version_minor": 0
      },
      "text/plain": [
       "HBox(children=(IntProgress(value=0, description='Evaluation iteration', max=1, style=ProgressStyle(description…"
      ]
     },
     "metadata": {},
     "output_type": "display_data"
    },
    {
     "name": "stdout",
     "output_type": "stream",
     "text": [
      "\n"
     ]
    },
    {
     "data": {
      "application/vnd.jupyter.widget-view+json": {
       "model_id": "5f39aea612ce4a76a57fccdb4d2d2495",
       "version_major": 2,
       "version_minor": 0
      },
      "text/plain": [
       "HBox(children=(IntProgress(value=0, description='Evaluation iteration', max=1, style=ProgressStyle(description…"
      ]
     },
     "metadata": {},
     "output_type": "display_data"
    },
    {
     "name": "stdout",
     "output_type": "stream",
     "text": [
      "\n",
      "I think originally I thought it might help me understand my family.\n",
      "[]\n",
      "I think originally I thought it might help me understands my family.\n",
      "['Subject-verb agreement']\n"
     ]
    },
    {
     "data": {
      "application/vnd.jupyter.widget-view+json": {
       "model_id": "b2d760c4a21e4b2281589fadca45f4f8",
       "version_major": 2,
       "version_minor": 0
      },
      "text/plain": [
       "HBox(children=(IntProgress(value=0, description='Evaluation iteration', max=1, style=ProgressStyle(description…"
      ]
     },
     "metadata": {},
     "output_type": "display_data"
    },
    {
     "name": "stdout",
     "output_type": "stream",
     "text": [
      "\n"
     ]
    },
    {
     "data": {
      "application/vnd.jupyter.widget-view+json": {
       "model_id": "659218426e0f4dbeb295fe1959b8f1bc",
       "version_major": 2,
       "version_minor": 0
      },
      "text/plain": [
       "HBox(children=(IntProgress(value=0, description='Evaluation iteration', max=1, style=ProgressStyle(description…"
      ]
     },
     "metadata": {},
     "output_type": "display_data"
    },
    {
     "name": "stdout",
     "output_type": "stream",
     "text": [
      "\n",
      "That homeowner will make a killing in the market at the expense of bank investors and taxpayers.\n",
      "[]\n",
      "That homeowner will makes a killing in the market at the expense of bank investors and taxpayers.\n",
      "['Subject-verb agreement']\n"
     ]
    },
    {
     "data": {
      "application/vnd.jupyter.widget-view+json": {
       "model_id": "23507948a80f4d0d94b886211c0ab736",
       "version_major": 2,
       "version_minor": 0
      },
      "text/plain": [
       "HBox(children=(IntProgress(value=0, description='Evaluation iteration', max=1, style=ProgressStyle(description…"
      ]
     },
     "metadata": {},
     "output_type": "display_data"
    },
    {
     "name": "stdout",
     "output_type": "stream",
     "text": [
      "\n"
     ]
    },
    {
     "data": {
      "application/vnd.jupyter.widget-view+json": {
       "model_id": "b8ffbdb1f37f41709c4f900a9a26efc0",
       "version_major": 2,
       "version_minor": 0
      },
      "text/plain": [
       "HBox(children=(IntProgress(value=0, description='Evaluation iteration', max=1, style=ProgressStyle(description…"
      ]
     },
     "metadata": {},
     "output_type": "display_data"
    },
    {
     "name": "stdout",
     "output_type": "stream",
     "text": [
      "\n",
      "Spring has sprung, its call irresistible.\n",
      "[]\n",
      "Spring has sprung, it's call irresistible.\n",
      "['Subject-verb agreement', 'Adverbs versus adjectives']\n"
     ]
    },
    {
     "data": {
      "application/vnd.jupyter.widget-view+json": {
       "model_id": "b1a6ddbadc3e4e988d63459f0624cdeb",
       "version_major": 2,
       "version_minor": 0
      },
      "text/plain": [
       "HBox(children=(IntProgress(value=0, description='Evaluation iteration', max=1, style=ProgressStyle(description…"
      ]
     },
     "metadata": {},
     "output_type": "display_data"
    },
    {
     "name": "stdout",
     "output_type": "stream",
     "text": [
      "\n"
     ]
    },
    {
     "data": {
      "application/vnd.jupyter.widget-view+json": {
       "model_id": "869d886fd77d43f699c920f013b8d976",
       "version_major": 2,
       "version_minor": 0
      },
      "text/plain": [
       "HBox(children=(IntProgress(value=0, description='Evaluation iteration', max=1, style=ProgressStyle(description…"
      ]
     },
     "metadata": {},
     "output_type": "display_data"
    },
    {
     "name": "stdout",
     "output_type": "stream",
     "text": [
      "\n",
      "On January 22, 1928, PPML held its meeting under the presidentship of Maulana Abdul Qadir Qasuri.\n",
      "[]\n",
      "On January 22, 1928, PPML held it's meeting under the presidentship of Maulana Abdul Qadir Qasuri.\n",
      "[\"Its versus it's\"]\n"
     ]
    },
    {
     "data": {
      "application/vnd.jupyter.widget-view+json": {
       "model_id": "c236bfd4e85940e59e1eb6dcdec84c67",
       "version_major": 2,
       "version_minor": 0
      },
      "text/plain": [
       "HBox(children=(IntProgress(value=0, description='Evaluation iteration', max=1, style=ProgressStyle(description…"
      ]
     },
     "metadata": {},
     "output_type": "display_data"
    },
    {
     "name": "stdout",
     "output_type": "stream",
     "text": [
      "\n"
     ]
    },
    {
     "data": {
      "application/vnd.jupyter.widget-view+json": {
       "model_id": "893471b73c5f45e8aea74f5f053d2d6c",
       "version_major": 2,
       "version_minor": 0
      },
      "text/plain": [
       "HBox(children=(IntProgress(value=0, description='Evaluation iteration', max=1, style=ProgressStyle(description…"
      ]
     },
     "metadata": {},
     "output_type": "display_data"
    },
    {
     "name": "stdout",
     "output_type": "stream",
     "text": [
      "\n",
      "Approximately 252 million years ago, the Earth experienced the largest die-off in its history.\n",
      "[]\n",
      "Approximately 252 million years ago, the Earth experienced the largest die-off in it's history.\n",
      "[\"Its versus it's\"]\n"
     ]
    },
    {
     "data": {
      "application/vnd.jupyter.widget-view+json": {
       "model_id": "af244fffce284025831bab7b4c591cb2",
       "version_major": 2,
       "version_minor": 0
      },
      "text/plain": [
       "HBox(children=(IntProgress(value=0, description='Evaluation iteration', max=1, style=ProgressStyle(description…"
      ]
     },
     "metadata": {},
     "output_type": "display_data"
    },
    {
     "name": "stdout",
     "output_type": "stream",
     "text": [
      "\n"
     ]
    },
    {
     "data": {
      "application/vnd.jupyter.widget-view+json": {
       "model_id": "1e6cb32d9ffe4eaab705eecb83d6bf3e",
       "version_major": 2,
       "version_minor": 0
      },
      "text/plain": [
       "HBox(children=(IntProgress(value=0, description='Evaluation iteration', max=1, style=ProgressStyle(description…"
      ]
     },
     "metadata": {},
     "output_type": "display_data"
    },
    {
     "name": "stdout",
     "output_type": "stream",
     "text": [
      "\n",
      "That may be because much of what they've archived is still available in its original form.\n",
      "[]\n",
      "That may be because much of what they've archived is still available in it's original form.\n",
      "[\"Its versus it's\"]\n"
     ]
    },
    {
     "data": {
      "application/vnd.jupyter.widget-view+json": {
       "model_id": "7dcfc98d89564bae94b529fb5e3322e9",
       "version_major": 2,
       "version_minor": 0
      },
      "text/plain": [
       "HBox(children=(IntProgress(value=0, description='Evaluation iteration', max=1, style=ProgressStyle(description…"
      ]
     },
     "metadata": {},
     "output_type": "display_data"
    },
    {
     "name": "stdout",
     "output_type": "stream",
     "text": [
      "\n"
     ]
    },
    {
     "data": {
      "application/vnd.jupyter.widget-view+json": {
       "model_id": "e854a68a17a648419ac82f1a832217fa",
       "version_major": 2,
       "version_minor": 0
      },
      "text/plain": [
       "HBox(children=(IntProgress(value=0, description='Evaluation iteration', max=1, style=ProgressStyle(description…"
      ]
     },
     "metadata": {},
     "output_type": "display_data"
    },
    {
     "name": "stdout",
     "output_type": "stream",
     "text": [
      "\n",
      "However, the popular political drama is officially ending after its seventh season, which will wrap up in 2018.\n",
      "[]\n",
      "However, the popular political drama is officially ending after it's seventh season, which will wrap up in 2018.\n",
      "[]\n"
     ]
    },
    {
     "data": {
      "application/vnd.jupyter.widget-view+json": {
       "model_id": "d7ff5b531efb427e99d6f750eda44c47",
       "version_major": 2,
       "version_minor": 0
      },
      "text/plain": [
       "HBox(children=(IntProgress(value=0, description='Evaluation iteration', max=1, style=ProgressStyle(description…"
      ]
     },
     "metadata": {},
     "output_type": "display_data"
    },
    {
     "name": "stdout",
     "output_type": "stream",
     "text": [
      "\n"
     ]
    },
    {
     "data": {
      "application/vnd.jupyter.widget-view+json": {
       "model_id": "4c0da44a319e43eb8a2eba21eb11a5c1",
       "version_major": 2,
       "version_minor": 0
      },
      "text/plain": [
       "HBox(children=(IntProgress(value=0, description='Evaluation iteration', max=1, style=ProgressStyle(description…"
      ]
     },
     "metadata": {},
     "output_type": "display_data"
    },
    {
     "name": "stdout",
     "output_type": "stream",
     "text": [
      "\n",
      "Truly treating talent development as equal will require the corporate bar to significantly increase its related investment.\n",
      "[]\n",
      "Truly treating talent development as equal will require the corporate bar to significantly increase it's related investment.\n",
      "[\"Its versus it's\"]\n"
     ]
    },
    {
     "data": {
      "application/vnd.jupyter.widget-view+json": {
       "model_id": "fc8fd484c4ce4fa4a176f6cf4b8872d0",
       "version_major": 2,
       "version_minor": 0
      },
      "text/plain": [
       "HBox(children=(IntProgress(value=0, description='Evaluation iteration', max=1, style=ProgressStyle(description…"
      ]
     },
     "metadata": {},
     "output_type": "display_data"
    },
    {
     "name": "stdout",
     "output_type": "stream",
     "text": [
      "\n"
     ]
    },
    {
     "data": {
      "application/vnd.jupyter.widget-view+json": {
       "model_id": "8b074cd18e7e4bf694a3d66ab623d06d",
       "version_major": 2,
       "version_minor": 0
      },
      "text/plain": [
       "HBox(children=(IntProgress(value=0, description='Evaluation iteration', max=1, style=ProgressStyle(description…"
      ]
     },
     "metadata": {},
     "output_type": "display_data"
    },
    {
     "name": "stdout",
     "output_type": "stream",
     "text": [
      "\n",
      "With three LA homicide detectives on staff as consultants, Bosch lives up to its promise of authenticity.\n",
      "[]\n",
      "With three LA homicide detectives on staff as consultants, Bosch lives up to it's promise of authenticity.\n",
      "[\"Its versus it's\"]\n"
     ]
    },
    {
     "data": {
      "application/vnd.jupyter.widget-view+json": {
       "model_id": "b8bca57150084811b7571c5c7e23171b",
       "version_major": 2,
       "version_minor": 0
      },
      "text/plain": [
       "HBox(children=(IntProgress(value=0, description='Evaluation iteration', max=1, style=ProgressStyle(description…"
      ]
     },
     "metadata": {},
     "output_type": "display_data"
    },
    {
     "name": "stdout",
     "output_type": "stream",
     "text": [
      "\n"
     ]
    },
    {
     "data": {
      "application/vnd.jupyter.widget-view+json": {
       "model_id": "3b7a12fc33924a5787220bfa0a9a12fc",
       "version_major": 2,
       "version_minor": 0
      },
      "text/plain": [
       "HBox(children=(IntProgress(value=0, description='Evaluation iteration', max=1, style=ProgressStyle(description…"
      ]
     },
     "metadata": {},
     "output_type": "display_data"
    },
    {
     "name": "stdout",
     "output_type": "stream",
     "text": [
      "\n",
      "The suit should have had its first outing in open sea last summer.\n",
      "[]\n",
      "The suit should have had it's first outing in open sea last summer.\n",
      "[\"Its versus it's\"]\n"
     ]
    },
    {
     "data": {
      "application/vnd.jupyter.widget-view+json": {
       "model_id": "c97864e497434a028c3518a056ba5dd4",
       "version_major": 2,
       "version_minor": 0
      },
      "text/plain": [
       "HBox(children=(IntProgress(value=0, description='Evaluation iteration', max=1, style=ProgressStyle(description…"
      ]
     },
     "metadata": {},
     "output_type": "display_data"
    },
    {
     "name": "stdout",
     "output_type": "stream",
     "text": [
      "\n"
     ]
    },
    {
     "data": {
      "application/vnd.jupyter.widget-view+json": {
       "model_id": "8b83f668c5fe4e91959079d640b4ad5a",
       "version_major": 2,
       "version_minor": 0
      },
      "text/plain": [
       "HBox(children=(IntProgress(value=0, description='Evaluation iteration', max=1, style=ProgressStyle(description…"
      ]
     },
     "metadata": {},
     "output_type": "display_data"
    },
    {
     "name": "stdout",
     "output_type": "stream",
     "text": [
      "\n",
      "A game of memory and mimicry, Simon had its heyday in the seventies and eighties, so it's due for an upgrade.\n",
      "[]\n",
      "A game of memory and mimicry, Simon had it's heyday in the seventies and eighties, so it's due for an upgrade.\n",
      "[\"Its versus it's\"]\n"
     ]
    },
    {
     "data": {
      "application/vnd.jupyter.widget-view+json": {
       "model_id": "b413dec3f0a640c69486ae8603dc07c5",
       "version_major": 2,
       "version_minor": 0
      },
      "text/plain": [
       "HBox(children=(IntProgress(value=0, description='Evaluation iteration', max=1, style=ProgressStyle(description…"
      ]
     },
     "metadata": {},
     "output_type": "display_data"
    },
    {
     "name": "stdout",
     "output_type": "stream",
     "text": [
      "\n"
     ]
    },
    {
     "data": {
      "application/vnd.jupyter.widget-view+json": {
       "model_id": "7c92358f675b485baad5e910ffff6450",
       "version_major": 2,
       "version_minor": 0
      },
      "text/plain": [
       "HBox(children=(IntProgress(value=0, description='Evaluation iteration', max=1, style=ProgressStyle(description…"
      ]
     },
     "metadata": {},
     "output_type": "display_data"
    },
    {
     "name": "stdout",
     "output_type": "stream",
     "text": [
      "\n",
      "My Claretian congregation started its process of renewal in 1968.\n",
      "[]\n",
      "My Claretian congregation started it's process of renewal in 1968.\n",
      "[\"Its versus it's\"]\n"
     ]
    },
    {
     "data": {
      "application/vnd.jupyter.widget-view+json": {
       "model_id": "67b881a45867420fbf347cd5a3417c77",
       "version_major": 2,
       "version_minor": 0
      },
      "text/plain": [
       "HBox(children=(IntProgress(value=0, description='Evaluation iteration', max=1, style=ProgressStyle(description…"
      ]
     },
     "metadata": {},
     "output_type": "display_data"
    },
    {
     "name": "stdout",
     "output_type": "stream",
     "text": [
      "\n"
     ]
    },
    {
     "data": {
      "application/vnd.jupyter.widget-view+json": {
       "model_id": "23ba4b2a611649ac9de643502470b4b9",
       "version_major": 2,
       "version_minor": 0
      },
      "text/plain": [
       "HBox(children=(IntProgress(value=0, description='Evaluation iteration', max=1, style=ProgressStyle(description…"
      ]
     },
     "metadata": {},
     "output_type": "display_data"
    },
    {
     "name": "stdout",
     "output_type": "stream",
     "text": [
      "\n",
      "Where can I put this book that would maximize its chance of being found by likely users?\n",
      "[]\n",
      "Where can I put this book that would maximize it's chance of being found by likely users?\n",
      "[\"Its versus it's\"]\n"
     ]
    },
    {
     "data": {
      "application/vnd.jupyter.widget-view+json": {
       "model_id": "f2b35e07255340cd87eb3b5db685d27f",
       "version_major": 2,
       "version_minor": 0
      },
      "text/plain": [
       "HBox(children=(IntProgress(value=0, description='Evaluation iteration', max=1, style=ProgressStyle(description…"
      ]
     },
     "metadata": {},
     "output_type": "display_data"
    },
    {
     "name": "stdout",
     "output_type": "stream",
     "text": [
      "\n"
     ]
    },
    {
     "data": {
      "application/vnd.jupyter.widget-view+json": {
       "model_id": "dae9be54eeea48c3a7cd884cf9bd6808",
       "version_major": 2,
       "version_minor": 0
      },
      "text/plain": [
       "HBox(children=(IntProgress(value=0, description='Evaluation iteration', max=1, style=ProgressStyle(description…"
      ]
     },
     "metadata": {},
     "output_type": "display_data"
    },
    {
     "name": "stdout",
     "output_type": "stream",
     "text": [
      "\n",
      "El Barrio invokes the senses in its honest description of this community.\n",
      "[]\n",
      "El Barrio invokes the senses in it's honest description of this community.\n",
      "[\"Its versus it's\"]\n"
     ]
    },
    {
     "data": {
      "application/vnd.jupyter.widget-view+json": {
       "model_id": "bb8d120c735f4f3ea615768dbf46432d",
       "version_major": 2,
       "version_minor": 0
      },
      "text/plain": [
       "HBox(children=(IntProgress(value=0, description='Evaluation iteration', max=1, style=ProgressStyle(description…"
      ]
     },
     "metadata": {},
     "output_type": "display_data"
    },
    {
     "name": "stdout",
     "output_type": "stream",
     "text": [
      "\n"
     ]
    },
    {
     "data": {
      "application/vnd.jupyter.widget-view+json": {
       "model_id": "cb0bdfc4afc540a5be4960eed85cb0e8",
       "version_major": 2,
       "version_minor": 0
      },
      "text/plain": [
       "HBox(children=(IntProgress(value=0, description='Evaluation iteration', max=1, style=ProgressStyle(description…"
      ]
     },
     "metadata": {},
     "output_type": "display_data"
    },
    {
     "name": "stdout",
     "output_type": "stream",
     "text": [
      "\n",
      "It had suffered its fevers and loss.\n",
      "[]\n",
      "It had suffered it's fevers and loss.\n",
      "[\"Its versus it's\"]\n"
     ]
    },
    {
     "data": {
      "application/vnd.jupyter.widget-view+json": {
       "model_id": "5122f5d92f2040b2a10fb708ee7795d6",
       "version_major": 2,
       "version_minor": 0
      },
      "text/plain": [
       "HBox(children=(IntProgress(value=0, description='Evaluation iteration', max=1, style=ProgressStyle(description…"
      ]
     },
     "metadata": {},
     "output_type": "display_data"
    },
    {
     "name": "stdout",
     "output_type": "stream",
     "text": [
      "\n"
     ]
    },
    {
     "data": {
      "application/vnd.jupyter.widget-view+json": {
       "model_id": "432f036db74c4b149964555a1616392c",
       "version_major": 2,
       "version_minor": 0
      },
      "text/plain": [
       "HBox(children=(IntProgress(value=0, description='Evaluation iteration', max=1, style=ProgressStyle(description…"
      ]
     },
     "metadata": {},
     "output_type": "display_data"
    },
    {
     "name": "stdout",
     "output_type": "stream",
     "text": [
      "\n",
      "Although this globule looks inert at first glance, detailed observations hint at activity within its dark interior.\n",
      "[]\n",
      "Although this globule looks inert at first glance, detailed observations hint at activity within it's dark interior.\n",
      "[\"Its versus it's\"]\n"
     ]
    },
    {
     "data": {
      "application/vnd.jupyter.widget-view+json": {
       "model_id": "6964ad4721e64af5b90f8bbec058832c",
       "version_major": 2,
       "version_minor": 0
      },
      "text/plain": [
       "HBox(children=(IntProgress(value=0, description='Evaluation iteration', max=1, style=ProgressStyle(description…"
      ]
     },
     "metadata": {},
     "output_type": "display_data"
    },
    {
     "name": "stdout",
     "output_type": "stream",
     "text": [
      "\n"
     ]
    },
    {
     "data": {
      "application/vnd.jupyter.widget-view+json": {
       "model_id": "91ab5750524f4446ad5166f28387391f",
       "version_major": 2,
       "version_minor": 0
      },
      "text/plain": [
       "HBox(children=(IntProgress(value=0, description='Evaluation iteration', max=1, style=ProgressStyle(description…"
      ]
     },
     "metadata": {},
     "output_type": "display_data"
    },
    {
     "name": "stdout",
     "output_type": "stream",
     "text": [
      "\n",
      "The secret to its efficiency is a liquid-silicone cooling system that transfers heat across the entire bulb's surface.\n",
      "[]\n",
      "The secret to it's efficiency is a liquid-silicone cooling system that transfers heat across the entire bulb's surface.\n",
      "[\"Its versus it's\"]\n"
     ]
    },
    {
     "data": {
      "application/vnd.jupyter.widget-view+json": {
       "model_id": "b1219773e3c446c6a25955265238febc",
       "version_major": 2,
       "version_minor": 0
      },
      "text/plain": [
       "HBox(children=(IntProgress(value=0, description='Evaluation iteration', max=1, style=ProgressStyle(description…"
      ]
     },
     "metadata": {},
     "output_type": "display_data"
    },
    {
     "name": "stdout",
     "output_type": "stream",
     "text": [
      "\n"
     ]
    },
    {
     "data": {
      "application/vnd.jupyter.widget-view+json": {
       "model_id": "3017988e3f0f402491aa78d48a4ce268",
       "version_major": 2,
       "version_minor": 0
      },
      "text/plain": [
       "HBox(children=(IntProgress(value=0, description='Evaluation iteration', max=1, style=ProgressStyle(description…"
      ]
     },
     "metadata": {},
     "output_type": "display_data"
    },
    {
     "name": "stdout",
     "output_type": "stream",
     "text": [
      "\n",
      "It wasn't the only judgment turned on its head.\n",
      "[]\n",
      "It wasn't the only judgment turned on it's head.\n",
      "[\"Its versus it's\"]\n"
     ]
    },
    {
     "data": {
      "application/vnd.jupyter.widget-view+json": {
       "model_id": "c90a19da1bae48de9825b96f5ce04a97",
       "version_major": 2,
       "version_minor": 0
      },
      "text/plain": [
       "HBox(children=(IntProgress(value=0, description='Evaluation iteration', max=1, style=ProgressStyle(description…"
      ]
     },
     "metadata": {},
     "output_type": "display_data"
    },
    {
     "name": "stdout",
     "output_type": "stream",
     "text": [
      "\n"
     ]
    },
    {
     "data": {
      "application/vnd.jupyter.widget-view+json": {
       "model_id": "f39f30b39b424711a35f51595dfaf8f2",
       "version_major": 2,
       "version_minor": 0
      },
      "text/plain": [
       "HBox(children=(IntProgress(value=0, description='Evaluation iteration', max=1, style=ProgressStyle(description…"
      ]
     },
     "metadata": {},
     "output_type": "display_data"
    },
    {
     "name": "stdout",
     "output_type": "stream",
     "text": [
      "\n",
      "To the brain, a scene may be just the sum of its objects.\n",
      "[]\n",
      "To the brain, a scene may be just the sum of it's objects.\n",
      "[\"Its versus it's\"]\n"
     ]
    },
    {
     "data": {
      "application/vnd.jupyter.widget-view+json": {
       "model_id": "5e669fc54be64304b32378115a8ead2e",
       "version_major": 2,
       "version_minor": 0
      },
      "text/plain": [
       "HBox(children=(IntProgress(value=0, description='Evaluation iteration', max=1, style=ProgressStyle(description…"
      ]
     },
     "metadata": {},
     "output_type": "display_data"
    },
    {
     "name": "stdout",
     "output_type": "stream",
     "text": [
      "\n"
     ]
    },
    {
     "data": {
      "application/vnd.jupyter.widget-view+json": {
       "model_id": "d99f5f384df641f2871a1da3e13dcdb6",
       "version_major": 2,
       "version_minor": 0
      },
      "text/plain": [
       "HBox(children=(IntProgress(value=0, description='Evaluation iteration', max=1, style=ProgressStyle(description…"
      ]
     },
     "metadata": {},
     "output_type": "display_data"
    },
    {
     "name": "stdout",
     "output_type": "stream",
     "text": [
      "\n",
      "The first, leaving her country, was sharp and immediate, almost toxic in its violence.\n",
      "[]\n",
      "The first, leaving her country, was sharp and immediate, almost toxic in it's violence.\n",
      "[\"Its versus it's\"]\n"
     ]
    },
    {
     "data": {
      "application/vnd.jupyter.widget-view+json": {
       "model_id": "6edd500bae63449a9d8a1ff765c05f95",
       "version_major": 2,
       "version_minor": 0
      },
      "text/plain": [
       "HBox(children=(IntProgress(value=0, description='Evaluation iteration', max=1, style=ProgressStyle(description…"
      ]
     },
     "metadata": {},
     "output_type": "display_data"
    },
    {
     "name": "stdout",
     "output_type": "stream",
     "text": [
      "\n"
     ]
    },
    {
     "data": {
      "application/vnd.jupyter.widget-view+json": {
       "model_id": "394e7f1744cb47f68e628258fec077be",
       "version_major": 2,
       "version_minor": 0
      },
      "text/plain": [
       "HBox(children=(IntProgress(value=0, description='Evaluation iteration', max=1, style=ProgressStyle(description…"
      ]
     },
     "metadata": {},
     "output_type": "display_data"
    },
    {
     "name": "stdout",
     "output_type": "stream",
     "text": [
      "\n",
      "But if it said anything, its voice was drowned out by the image the shoes pushed his way.\n",
      "[]\n",
      "But if it said anything, it's voice was drowned out by the image the shoes pushed his way.\n",
      "[]\n"
     ]
    },
    {
     "data": {
      "application/vnd.jupyter.widget-view+json": {
       "model_id": "a507fc737d664816a4ef381e7025a100",
       "version_major": 2,
       "version_minor": 0
      },
      "text/plain": [
       "HBox(children=(IntProgress(value=0, description='Evaluation iteration', max=1, style=ProgressStyle(description…"
      ]
     },
     "metadata": {},
     "output_type": "display_data"
    },
    {
     "name": "stdout",
     "output_type": "stream",
     "text": [
      "\n"
     ]
    },
    {
     "data": {
      "application/vnd.jupyter.widget-view+json": {
       "model_id": "ba449f07157e41e49edb81a80b84b786",
       "version_major": 2,
       "version_minor": 0
      },
      "text/plain": [
       "HBox(children=(IntProgress(value=0, description='Evaluation iteration', max=1, style=ProgressStyle(description…"
      ]
     },
     "metadata": {},
     "output_type": "display_data"
    },
    {
     "name": "stdout",
     "output_type": "stream",
     "text": [
      "\n",
      "It quickly toggles back and forth from one task to the other, taking its toll on our efficiency.\n",
      "['Subject-verb agreement']\n",
      "It quickly toggles back and forth from one task to the other, taking it's toll on our efficiency.\n",
      "['Subject-verb agreement', \"Its versus it's\"]\n"
     ]
    },
    {
     "data": {
      "application/vnd.jupyter.widget-view+json": {
       "model_id": "e57f09e68d5e46d4be7033808efe8850",
       "version_major": 2,
       "version_minor": 0
      },
      "text/plain": [
       "HBox(children=(IntProgress(value=0, description='Evaluation iteration', max=1, style=ProgressStyle(description…"
      ]
     },
     "metadata": {},
     "output_type": "display_data"
    },
    {
     "name": "stdout",
     "output_type": "stream",
     "text": [
      "\n"
     ]
    },
    {
     "data": {
      "application/vnd.jupyter.widget-view+json": {
       "model_id": "8ccddb829ac647dcba7785917a0eea86",
       "version_major": 2,
       "version_minor": 0
      },
      "text/plain": [
       "HBox(children=(IntProgress(value=0, description='Evaluation iteration', max=1, style=ProgressStyle(description…"
      ]
     },
     "metadata": {},
     "output_type": "display_data"
    },
    {
     "name": "stdout",
     "output_type": "stream",
     "text": [
      "\n",
      "Well, I think that even though this book is about two ministers, it's not necessarily a book about religion.\n",
      "[]\n",
      "Well, I think that even though this book is about two ministers, its not necessarily a book about religion.\n",
      "[]\n"
     ]
    },
    {
     "data": {
      "application/vnd.jupyter.widget-view+json": {
       "model_id": "87128e6fbad54e8eb1fa3915090dcd31",
       "version_major": 2,
       "version_minor": 0
      },
      "text/plain": [
       "HBox(children=(IntProgress(value=0, description='Evaluation iteration', max=1, style=ProgressStyle(description…"
      ]
     },
     "metadata": {},
     "output_type": "display_data"
    },
    {
     "name": "stdout",
     "output_type": "stream",
     "text": [
      "\n"
     ]
    },
    {
     "data": {
      "application/vnd.jupyter.widget-view+json": {
       "model_id": "94cd96b2c872407c80690a63991da79e",
       "version_major": 2,
       "version_minor": 0
      },
      "text/plain": [
       "HBox(children=(IntProgress(value=0, description='Evaluation iteration', max=1, style=ProgressStyle(description…"
      ]
     },
     "metadata": {},
     "output_type": "display_data"
    },
    {
     "name": "stdout",
     "output_type": "stream",
     "text": [
      "\n",
      "It's her last chance to stretch her legs before the trip.\n",
      "[]\n",
      "Its her last chance to stretch her legs before the trip.\n",
      "[]\n"
     ]
    },
    {
     "data": {
      "application/vnd.jupyter.widget-view+json": {
       "model_id": "58ccfa36c8454654a5c84e075d9a28f4",
       "version_major": 2,
       "version_minor": 0
      },
      "text/plain": [
       "HBox(children=(IntProgress(value=0, description='Evaluation iteration', max=1, style=ProgressStyle(description…"
      ]
     },
     "metadata": {},
     "output_type": "display_data"
    },
    {
     "name": "stdout",
     "output_type": "stream",
     "text": [
      "\n"
     ]
    },
    {
     "data": {
      "application/vnd.jupyter.widget-view+json": {
       "model_id": "718a4ec1b4eb4e5ea89783015e40c764",
       "version_major": 2,
       "version_minor": 0
      },
      "text/plain": [
       "HBox(children=(IntProgress(value=0, description='Evaluation iteration', max=1, style=ProgressStyle(description…"
      ]
     },
     "metadata": {},
     "output_type": "display_data"
    },
    {
     "name": "stdout",
     "output_type": "stream",
     "text": [
      "\n",
      "This is a matter of scientific debate, and it's being debated in spite of the IAU.\n",
      "[]\n",
      "This is a matter of scientific debate, and its being debated in spite of the IAU.\n",
      "[]\n"
     ]
    },
    {
     "data": {
      "application/vnd.jupyter.widget-view+json": {
       "model_id": "71bc127e11cc40799dbeb059b6eaccc1",
       "version_major": 2,
       "version_minor": 0
      },
      "text/plain": [
       "HBox(children=(IntProgress(value=0, description='Evaluation iteration', max=1, style=ProgressStyle(description…"
      ]
     },
     "metadata": {},
     "output_type": "display_data"
    },
    {
     "name": "stdout",
     "output_type": "stream",
     "text": [
      "\n"
     ]
    },
    {
     "data": {
      "application/vnd.jupyter.widget-view+json": {
       "model_id": "a21e03a363c94f1f87ff972ec4e6e711",
       "version_major": 2,
       "version_minor": 0
      },
      "text/plain": [
       "HBox(children=(IntProgress(value=0, description='Evaluation iteration', max=1, style=ProgressStyle(description…"
      ]
     },
     "metadata": {},
     "output_type": "display_data"
    },
    {
     "name": "stdout",
     "output_type": "stream",
     "text": [
      "\n",
      "It's more important now than it has ever been to support conservation efforts.\n",
      "[]\n",
      "Its more important now than it has ever been to support conservation efforts.\n",
      "[]\n"
     ]
    },
    {
     "data": {
      "application/vnd.jupyter.widget-view+json": {
       "model_id": "d4b310fc373f4ea49176d56f700046ce",
       "version_major": 2,
       "version_minor": 0
      },
      "text/plain": [
       "HBox(children=(IntProgress(value=0, description='Evaluation iteration', max=1, style=ProgressStyle(description…"
      ]
     },
     "metadata": {},
     "output_type": "display_data"
    },
    {
     "name": "stdout",
     "output_type": "stream",
     "text": [
      "\n"
     ]
    },
    {
     "data": {
      "application/vnd.jupyter.widget-view+json": {
       "model_id": "3ca5a65c9ded4642af21f1eeb72c956f",
       "version_major": 2,
       "version_minor": 0
      },
      "text/plain": [
       "HBox(children=(IntProgress(value=0, description='Evaluation iteration', max=1, style=ProgressStyle(description…"
      ]
     },
     "metadata": {},
     "output_type": "display_data"
    },
    {
     "name": "stdout",
     "output_type": "stream",
     "text": [
      "\n",
      "Or is he able to see the story because it's also his own?\n",
      "['Subject-verb agreement']\n",
      "Or is he able to see the story because its also his own?\n",
      "[]\n"
     ]
    },
    {
     "data": {
      "application/vnd.jupyter.widget-view+json": {
       "model_id": "d7cd09e9a61748f890aa49bf128148af",
       "version_major": 2,
       "version_minor": 0
      },
      "text/plain": [
       "HBox(children=(IntProgress(value=0, description='Evaluation iteration', max=1, style=ProgressStyle(description…"
      ]
     },
     "metadata": {},
     "output_type": "display_data"
    },
    {
     "name": "stdout",
     "output_type": "stream",
     "text": [
      "\n"
     ]
    },
    {
     "data": {
      "application/vnd.jupyter.widget-view+json": {
       "model_id": "c2683fb8748d48c0a15c9ea64eb3fa15",
       "version_major": 2,
       "version_minor": 0
      },
      "text/plain": [
       "HBox(children=(IntProgress(value=0, description='Evaluation iteration', max=1, style=ProgressStyle(description…"
      ]
     },
     "metadata": {},
     "output_type": "display_data"
    },
    {
     "name": "stdout",
     "output_type": "stream",
     "text": [
      "\n",
      "And it's challenging to write a song when you can hear your neighbor watching TV.\n",
      "['Subject-verb agreement']\n",
      "And its challenging to write a song when you can hear your neighbor watching TV.\n",
      "[]\n"
     ]
    },
    {
     "data": {
      "application/vnd.jupyter.widget-view+json": {
       "model_id": "bfdf8164070a4740902d1dc743c5648f",
       "version_major": 2,
       "version_minor": 0
      },
      "text/plain": [
       "HBox(children=(IntProgress(value=0, description='Evaluation iteration', max=1, style=ProgressStyle(description…"
      ]
     },
     "metadata": {},
     "output_type": "display_data"
    },
    {
     "name": "stdout",
     "output_type": "stream",
     "text": [
      "\n"
     ]
    },
    {
     "data": {
      "application/vnd.jupyter.widget-view+json": {
       "model_id": "7672f8129b4947dc8672b949182d70b7",
       "version_major": 2,
       "version_minor": 0
      },
      "text/plain": [
       "HBox(children=(IntProgress(value=0, description='Evaluation iteration', max=1, style=ProgressStyle(description…"
      ]
     },
     "metadata": {},
     "output_type": "display_data"
    },
    {
     "name": "stdout",
     "output_type": "stream",
     "text": [
      "\n",
      "It's not funny in any way shape or form.\n",
      "[]\n",
      "Its not funny in any way shape or form.\n",
      "[]\n"
     ]
    },
    {
     "data": {
      "application/vnd.jupyter.widget-view+json": {
       "model_id": "f11fd3a2c8b74e45b0aa1aaca9ea1e10",
       "version_major": 2,
       "version_minor": 0
      },
      "text/plain": [
       "HBox(children=(IntProgress(value=0, description='Evaluation iteration', max=1, style=ProgressStyle(description…"
      ]
     },
     "metadata": {},
     "output_type": "display_data"
    },
    {
     "name": "stdout",
     "output_type": "stream",
     "text": [
      "\n"
     ]
    },
    {
     "data": {
      "application/vnd.jupyter.widget-view+json": {
       "model_id": "9b2669d9f9ba45cebb7c487f3f7fe972",
       "version_major": 2,
       "version_minor": 0
      },
      "text/plain": [
       "HBox(children=(IntProgress(value=0, description='Evaluation iteration', max=1, style=ProgressStyle(description…"
      ]
     },
     "metadata": {},
     "output_type": "display_data"
    },
    {
     "name": "stdout",
     "output_type": "stream",
     "text": [
      "\n",
      "It's sarcastic, which laced with anger.\n",
      "[]\n",
      "Its sarcastic, which laced with anger.\n",
      "[]\n"
     ]
    },
    {
     "data": {
      "application/vnd.jupyter.widget-view+json": {
       "model_id": "65ec3b29e4f7431498fce6e32ed40a0f",
       "version_major": 2,
       "version_minor": 0
      },
      "text/plain": [
       "HBox(children=(IntProgress(value=0, description='Evaluation iteration', max=1, style=ProgressStyle(description…"
      ]
     },
     "metadata": {},
     "output_type": "display_data"
    },
    {
     "name": "stdout",
     "output_type": "stream",
     "text": [
      "\n"
     ]
    },
    {
     "data": {
      "application/vnd.jupyter.widget-view+json": {
       "model_id": "508c92235143464e8c645c1687a94d9a",
       "version_major": 2,
       "version_minor": 0
      },
      "text/plain": [
       "HBox(children=(IntProgress(value=0, description='Evaluation iteration', max=1, style=ProgressStyle(description…"
      ]
     },
     "metadata": {},
     "output_type": "display_data"
    },
    {
     "name": "stdout",
     "output_type": "stream",
     "text": [
      "\n",
      "We figure it's a winter rental.\n",
      "[]\n",
      "We figure its a winter rental.\n",
      "[]\n"
     ]
    },
    {
     "data": {
      "application/vnd.jupyter.widget-view+json": {
       "model_id": "616e1196cf5f45d8b841cdfe9523e5bd",
       "version_major": 2,
       "version_minor": 0
      },
      "text/plain": [
       "HBox(children=(IntProgress(value=0, description='Evaluation iteration', max=1, style=ProgressStyle(description…"
      ]
     },
     "metadata": {},
     "output_type": "display_data"
    },
    {
     "name": "stdout",
     "output_type": "stream",
     "text": [
      "\n"
     ]
    },
    {
     "data": {
      "application/vnd.jupyter.widget-view+json": {
       "model_id": "3004a1b80d904cb5b526020e1c134789",
       "version_major": 2,
       "version_minor": 0
      },
      "text/plain": [
       "HBox(children=(IntProgress(value=0, description='Evaluation iteration', max=1, style=ProgressStyle(description…"
      ]
     },
     "metadata": {},
     "output_type": "display_data"
    },
    {
     "name": "stdout",
     "output_type": "stream",
     "text": [
      "\n",
      "And again, I walk around the city, it's amazing.\n",
      "[]\n",
      "And again, I walk around the city, its amazing.\n",
      "[]\n"
     ]
    },
    {
     "data": {
      "application/vnd.jupyter.widget-view+json": {
       "model_id": "6a604ce979dd4118b612f1afc78c159a",
       "version_major": 2,
       "version_minor": 0
      },
      "text/plain": [
       "HBox(children=(IntProgress(value=0, description='Evaluation iteration', max=1, style=ProgressStyle(description…"
      ]
     },
     "metadata": {},
     "output_type": "display_data"
    },
    {
     "name": "stdout",
     "output_type": "stream",
     "text": [
      "\n"
     ]
    },
    {
     "data": {
      "application/vnd.jupyter.widget-view+json": {
       "model_id": "681b6d2febd64c7d80f67bcdca2a4caa",
       "version_major": 2,
       "version_minor": 0
      },
      "text/plain": [
       "HBox(children=(IntProgress(value=0, description='Evaluation iteration', max=1, style=ProgressStyle(description…"
      ]
     },
     "metadata": {},
     "output_type": "display_data"
    },
    {
     "name": "stdout",
     "output_type": "stream",
     "text": [
      "\n",
      "It's not just about legislation.\n",
      "[]\n",
      "Its not just about legislation.\n",
      "[]\n"
     ]
    },
    {
     "data": {
      "application/vnd.jupyter.widget-view+json": {
       "model_id": "cd046e74e28946a187ae03e54ac6741b",
       "version_major": 2,
       "version_minor": 0
      },
      "text/plain": [
       "HBox(children=(IntProgress(value=0, description='Evaluation iteration', max=1, style=ProgressStyle(description…"
      ]
     },
     "metadata": {},
     "output_type": "display_data"
    },
    {
     "name": "stdout",
     "output_type": "stream",
     "text": [
      "\n"
     ]
    },
    {
     "data": {
      "application/vnd.jupyter.widget-view+json": {
       "model_id": "8ecc165f4e1f42ba9d677f53b3eb5eed",
       "version_major": 2,
       "version_minor": 0
      },
      "text/plain": [
       "HBox(children=(IntProgress(value=0, description='Evaluation iteration', max=1, style=ProgressStyle(description…"
      ]
     },
     "metadata": {},
     "output_type": "display_data"
    },
    {
     "name": "stdout",
     "output_type": "stream",
     "text": [
      "\n",
      "It's very significant because Archbishop Lori is very highly respected by other bishops.\n",
      "[]\n",
      "Its very significant because Archbishop Lori is very highly respected by other bishops.\n",
      "[]\n"
     ]
    },
    {
     "data": {
      "application/vnd.jupyter.widget-view+json": {
       "model_id": "4e55c38d7e624342a3cda54e2c484578",
       "version_major": 2,
       "version_minor": 0
      },
      "text/plain": [
       "HBox(children=(IntProgress(value=0, description='Evaluation iteration', max=1, style=ProgressStyle(description…"
      ]
     },
     "metadata": {},
     "output_type": "display_data"
    },
    {
     "name": "stdout",
     "output_type": "stream",
     "text": [
      "\n"
     ]
    },
    {
     "data": {
      "application/vnd.jupyter.widget-view+json": {
       "model_id": "81a9e42af6904e6fbffae840f7fb4e1b",
       "version_major": 2,
       "version_minor": 0
      },
      "text/plain": [
       "HBox(children=(IntProgress(value=0, description='Evaluation iteration', max=1, style=ProgressStyle(description…"
      ]
     },
     "metadata": {},
     "output_type": "display_data"
    },
    {
     "name": "stdout",
     "output_type": "stream",
     "text": [
      "\n",
      "That's how they are trying to spin it but it's more than spin.\n",
      "[]\n",
      "That's how they are trying to spin it but its more than spin.\n",
      "[]\n"
     ]
    },
    {
     "data": {
      "application/vnd.jupyter.widget-view+json": {
       "model_id": "17332b54e5984159ae89d3af201008cf",
       "version_major": 2,
       "version_minor": 0
      },
      "text/plain": [
       "HBox(children=(IntProgress(value=0, description='Evaluation iteration', max=1, style=ProgressStyle(description…"
      ]
     },
     "metadata": {},
     "output_type": "display_data"
    },
    {
     "name": "stdout",
     "output_type": "stream",
     "text": [
      "\n"
     ]
    },
    {
     "data": {
      "application/vnd.jupyter.widget-view+json": {
       "model_id": "2033e4e10cdc4c99806fde4041e67b32",
       "version_major": 2,
       "version_minor": 0
      },
      "text/plain": [
       "HBox(children=(IntProgress(value=0, description='Evaluation iteration', max=1, style=ProgressStyle(description…"
      ]
     },
     "metadata": {},
     "output_type": "display_data"
    },
    {
     "name": "stdout",
     "output_type": "stream",
     "text": [
      "\n",
      "And you know, sometimes, it's like any alcoholic or anybody that has, you know, issues.\n",
      "[]\n",
      "And you know, sometimes, its like any alcoholic or anybody that has, you know, issues.\n",
      "['Subject-verb agreement']\n"
     ]
    },
    {
     "data": {
      "application/vnd.jupyter.widget-view+json": {
       "model_id": "4fa08ff44e45406ca73a13e6f87b7a8c",
       "version_major": 2,
       "version_minor": 0
      },
      "text/plain": [
       "HBox(children=(IntProgress(value=0, description='Evaluation iteration', max=1, style=ProgressStyle(description…"
      ]
     },
     "metadata": {},
     "output_type": "display_data"
    },
    {
     "name": "stdout",
     "output_type": "stream",
     "text": [
      "\n"
     ]
    },
    {
     "data": {
      "application/vnd.jupyter.widget-view+json": {
       "model_id": "b21301ee1fef4aefa0fc474736dd554d",
       "version_major": 2,
       "version_minor": 0
      },
      "text/plain": [
       "HBox(children=(IntProgress(value=0, description='Evaluation iteration', max=1, style=ProgressStyle(description…"
      ]
     },
     "metadata": {},
     "output_type": "display_data"
    },
    {
     "name": "stdout",
     "output_type": "stream",
     "text": [
      "\n",
      "I've heard artists talk about that like it's some kind of religious thing.\n",
      "[]\n",
      "I've heard artists talk about that like its some kind of religious thing.\n",
      "[]\n"
     ]
    },
    {
     "data": {
      "application/vnd.jupyter.widget-view+json": {
       "model_id": "4cbeb4dc26dd463aaebef350e61642a5",
       "version_major": 2,
       "version_minor": 0
      },
      "text/plain": [
       "HBox(children=(IntProgress(value=0, description='Evaluation iteration', max=1, style=ProgressStyle(description…"
      ]
     },
     "metadata": {},
     "output_type": "display_data"
    },
    {
     "name": "stdout",
     "output_type": "stream",
     "text": [
      "\n"
     ]
    },
    {
     "data": {
      "application/vnd.jupyter.widget-view+json": {
       "model_id": "83f183a1b42d4e349d009b42c6189534",
       "version_major": 2,
       "version_minor": 0
      },
      "text/plain": [
       "HBox(children=(IntProgress(value=0, description='Evaluation iteration', max=1, style=ProgressStyle(description…"
      ]
     },
     "metadata": {},
     "output_type": "display_data"
    },
    {
     "name": "stdout",
     "output_type": "stream",
     "text": [
      "\n",
      "The sidewalk's in good shape, and it's such a nice day.\n",
      "[]\n",
      "The sidewalk's in good shape, and its such a nice day.\n",
      "[]\n"
     ]
    },
    {
     "data": {
      "application/vnd.jupyter.widget-view+json": {
       "model_id": "75742351e2ab4753aa97d65cbb3141a3",
       "version_major": 2,
       "version_minor": 0
      },
      "text/plain": [
       "HBox(children=(IntProgress(value=0, description='Evaluation iteration', max=1, style=ProgressStyle(description…"
      ]
     },
     "metadata": {},
     "output_type": "display_data"
    },
    {
     "name": "stdout",
     "output_type": "stream",
     "text": [
      "\n"
     ]
    },
    {
     "data": {
      "application/vnd.jupyter.widget-view+json": {
       "model_id": "c13a54e38f6b4903a61548d82e3e6445",
       "version_major": 2,
       "version_minor": 0
      },
      "text/plain": [
       "HBox(children=(IntProgress(value=0, description='Evaluation iteration', max=1, style=ProgressStyle(description…"
      ]
     },
     "metadata": {},
     "output_type": "display_data"
    },
    {
     "name": "stdout",
     "output_type": "stream",
     "text": [
      "\n",
      "You have to embrace that change, and it's very difficult.\n",
      "['Subject-verb agreement']\n",
      "You have to embrace that change, and its very difficult.\n",
      "[]\n"
     ]
    },
    {
     "data": {
      "application/vnd.jupyter.widget-view+json": {
       "model_id": "3879f6ac821441e6954231a12f80a8ba",
       "version_major": 2,
       "version_minor": 0
      },
      "text/plain": [
       "HBox(children=(IntProgress(value=0, description='Evaluation iteration', max=1, style=ProgressStyle(description…"
      ]
     },
     "metadata": {},
     "output_type": "display_data"
    },
    {
     "name": "stdout",
     "output_type": "stream",
     "text": [
      "\n"
     ]
    },
    {
     "data": {
      "application/vnd.jupyter.widget-view+json": {
       "model_id": "79f31ed25a6044c088ab022a03096c0a",
       "version_major": 2,
       "version_minor": 0
      },
      "text/plain": [
       "HBox(children=(IntProgress(value=0, description='Evaluation iteration', max=1, style=ProgressStyle(description…"
      ]
     },
     "metadata": {},
     "output_type": "display_data"
    },
    {
     "name": "stdout",
     "output_type": "stream",
     "text": [
      "\n",
      "If the name sounds familiar, it's probably because he shares it with the British bodyguard who survived Princess Diana.\n",
      "[]\n",
      "If the name sounds familiar, its probably because he shares it with the British bodyguard who survived Princess Diana.\n",
      "[]\n"
     ]
    },
    {
     "data": {
      "application/vnd.jupyter.widget-view+json": {
       "model_id": "22bb8dad2c214fd483f6db02d8cef3c2",
       "version_major": 2,
       "version_minor": 0
      },
      "text/plain": [
       "HBox(children=(IntProgress(value=0, description='Evaluation iteration', max=1, style=ProgressStyle(description…"
      ]
     },
     "metadata": {},
     "output_type": "display_data"
    },
    {
     "name": "stdout",
     "output_type": "stream",
     "text": [
      "\n"
     ]
    },
    {
     "data": {
      "application/vnd.jupyter.widget-view+json": {
       "model_id": "069368123dd444df812fcb71f95bda2f",
       "version_major": 2,
       "version_minor": 0
      },
      "text/plain": [
       "HBox(children=(IntProgress(value=0, description='Evaluation iteration', max=1, style=ProgressStyle(description…"
      ]
     },
     "metadata": {},
     "output_type": "display_data"
    },
    {
     "name": "stdout",
     "output_type": "stream",
     "text": [
      "\n",
      "But sex is always going to be boring if it's one-dimensional, cut off from emotional connection.\n",
      "[]\n",
      "But sex is always going to be boring if its one-dimensional, cut off from emotional connection.\n",
      "[]\n"
     ]
    },
    {
     "data": {
      "application/vnd.jupyter.widget-view+json": {
       "model_id": "3d547f63f6884324b67e56c41246dbd1",
       "version_major": 2,
       "version_minor": 0
      },
      "text/plain": [
       "HBox(children=(IntProgress(value=0, description='Evaluation iteration', max=1, style=ProgressStyle(description…"
      ]
     },
     "metadata": {},
     "output_type": "display_data"
    },
    {
     "name": "stdout",
     "output_type": "stream",
     "text": [
      "\n"
     ]
    },
    {
     "data": {
      "application/vnd.jupyter.widget-view+json": {
       "model_id": "2269b07cfb1f4e7fbae899d09a34a837",
       "version_major": 2,
       "version_minor": 0
      },
      "text/plain": [
       "HBox(children=(IntProgress(value=0, description='Evaluation iteration', max=1, style=ProgressStyle(description…"
      ]
     },
     "metadata": {},
     "output_type": "display_data"
    },
    {
     "name": "stdout",
     "output_type": "stream",
     "text": [
      "\n",
      "That's how it's supposed to work.\n",
      "['Subject-verb agreement']\n",
      "That's how its supposed to work.\n",
      "['Subject-verb agreement']\n"
     ]
    },
    {
     "data": {
      "application/vnd.jupyter.widget-view+json": {
       "model_id": "c300aa2b59fc468897072fcc9ab588ef",
       "version_major": 2,
       "version_minor": 0
      },
      "text/plain": [
       "HBox(children=(IntProgress(value=0, description='Evaluation iteration', max=1, style=ProgressStyle(description…"
      ]
     },
     "metadata": {},
     "output_type": "display_data"
    },
    {
     "name": "stdout",
     "output_type": "stream",
     "text": [
      "\n"
     ]
    },
    {
     "data": {
      "application/vnd.jupyter.widget-view+json": {
       "model_id": "caf2a9d7ae6e4118bcd91694e464df6a",
       "version_major": 2,
       "version_minor": 0
      },
      "text/plain": [
       "HBox(children=(IntProgress(value=0, description='Evaluation iteration', max=1, style=ProgressStyle(description…"
      ]
     },
     "metadata": {},
     "output_type": "display_data"
    },
    {
     "name": "stdout",
     "output_type": "stream",
     "text": [
      "\n",
      "It's currently waiting on an appeals court ruling.\n",
      "[]\n",
      "It's current waiting on an appeals court ruling.\n",
      "['Adverbs versus adjectives']\n"
     ]
    },
    {
     "data": {
      "application/vnd.jupyter.widget-view+json": {
       "model_id": "248eb48517f342668b1c940dbe1c3285",
       "version_major": 2,
       "version_minor": 0
      },
      "text/plain": [
       "HBox(children=(IntProgress(value=0, description='Evaluation iteration', max=1, style=ProgressStyle(description…"
      ]
     },
     "metadata": {},
     "output_type": "display_data"
    },
    {
     "name": "stdout",
     "output_type": "stream",
     "text": [
      "\n"
     ]
    },
    {
     "data": {
      "application/vnd.jupyter.widget-view+json": {
       "model_id": "5efae66d1a2e47eea88890121cf350f0",
       "version_major": 2,
       "version_minor": 0
      },
      "text/plain": [
       "HBox(children=(IntProgress(value=0, description='Evaluation iteration', max=1, style=ProgressStyle(description…"
      ]
     },
     "metadata": {},
     "output_type": "display_data"
    },
    {
     "name": "stdout",
     "output_type": "stream",
     "text": [
      "\n",
      "The heavy snowfall had resulted in extremely low visibility.\n",
      "[]\n",
      "The heavy snowfall had resulted in extreme low visibility.\n",
      "[]\n"
     ]
    },
    {
     "data": {
      "application/vnd.jupyter.widget-view+json": {
       "model_id": "e84e017d6eb643df8934cb1f4e28ae24",
       "version_major": 2,
       "version_minor": 0
      },
      "text/plain": [
       "HBox(children=(IntProgress(value=0, description='Evaluation iteration', max=1, style=ProgressStyle(description…"
      ]
     },
     "metadata": {},
     "output_type": "display_data"
    },
    {
     "name": "stdout",
     "output_type": "stream",
     "text": [
      "\n"
     ]
    },
    {
     "data": {
      "application/vnd.jupyter.widget-view+json": {
       "model_id": "c9d4630cf99d4406b61adec7b6bdb2f4",
       "version_major": 2,
       "version_minor": 0
      },
      "text/plain": [
       "HBox(children=(IntProgress(value=0, description='Evaluation iteration', max=1, style=ProgressStyle(description…"
      ]
     },
     "metadata": {},
     "output_type": "display_data"
    },
    {
     "name": "stdout",
     "output_type": "stream",
     "text": [
      "\n",
      "The poster for the film hangs proudly in his living room.\n",
      "[]\n",
      "The poster for the film hangs proud in his living room.\n",
      "[]\n"
     ]
    },
    {
     "data": {
      "application/vnd.jupyter.widget-view+json": {
       "model_id": "a3bee6f2dfef44ab80871dedd8526cf8",
       "version_major": 2,
       "version_minor": 0
      },
      "text/plain": [
       "HBox(children=(IntProgress(value=0, description='Evaluation iteration', max=1, style=ProgressStyle(description…"
      ]
     },
     "metadata": {},
     "output_type": "display_data"
    },
    {
     "name": "stdout",
     "output_type": "stream",
     "text": [
      "\n"
     ]
    },
    {
     "data": {
      "application/vnd.jupyter.widget-view+json": {
       "model_id": "4106140b4e774986a218654a6088b579",
       "version_major": 2,
       "version_minor": 0
      },
      "text/plain": [
       "HBox(children=(IntProgress(value=0, description='Evaluation iteration', max=1, style=ProgressStyle(description…"
      ]
     },
     "metadata": {},
     "output_type": "display_data"
    },
    {
     "name": "stdout",
     "output_type": "stream",
     "text": [
      "\n",
      "She quickly withdrew her hand and tried to compose herself.\n",
      "[]\n",
      "She quick withdrew her hand and tried to compose herself.\n",
      "[]\n"
     ]
    },
    {
     "data": {
      "application/vnd.jupyter.widget-view+json": {
       "model_id": "f89f14568a6248898d8395b87e4aad04",
       "version_major": 2,
       "version_minor": 0
      },
      "text/plain": [
       "HBox(children=(IntProgress(value=0, description='Evaluation iteration', max=1, style=ProgressStyle(description…"
      ]
     },
     "metadata": {},
     "output_type": "display_data"
    },
    {
     "name": "stdout",
     "output_type": "stream",
     "text": [
      "\n"
     ]
    },
    {
     "data": {
      "application/vnd.jupyter.widget-view+json": {
       "model_id": "80c2145a5c714ab8bb94dbc43a4a9406",
       "version_major": 2,
       "version_minor": 0
      },
      "text/plain": [
       "HBox(children=(IntProgress(value=0, description='Evaluation iteration', max=1, style=ProgressStyle(description…"
      ]
     },
     "metadata": {},
     "output_type": "display_data"
    },
    {
     "name": "stdout",
     "output_type": "stream",
     "text": [
      "\n",
      "The left side of his brain was severely damaged, and for a month, he was kept in a coma.\n",
      "[]\n",
      "The left side of his brain was severe damaged, and for a month, he was kept in a coma.\n",
      "[]\n"
     ]
    },
    {
     "data": {
      "application/vnd.jupyter.widget-view+json": {
       "model_id": "1170bf0d8fdb4570be70cdbb499714cc",
       "version_major": 2,
       "version_minor": 0
      },
      "text/plain": [
       "HBox(children=(IntProgress(value=0, description='Evaluation iteration', max=1, style=ProgressStyle(description…"
      ]
     },
     "metadata": {},
     "output_type": "display_data"
    },
    {
     "name": "stdout",
     "output_type": "stream",
     "text": [
      "\n"
     ]
    },
    {
     "data": {
      "application/vnd.jupyter.widget-view+json": {
       "model_id": "9a3582088cb0475d9656c1da6cceb8af",
       "version_major": 2,
       "version_minor": 0
      },
      "text/plain": [
       "HBox(children=(IntProgress(value=0, description='Evaluation iteration', max=1, style=ProgressStyle(description…"
      ]
     },
     "metadata": {},
     "output_type": "display_data"
    },
    {
     "name": "stdout",
     "output_type": "stream",
     "text": [
      "\n",
      "I had unwittingly stumbled onto a fundamental truth in the rapidly advancing field of disease ecology.\n",
      "[]\n",
      "I had unwittingly stumbled onto a fundamental truth in the rapid advancing field of disease ecology.\n",
      "['Adverbs versus adjectives']\n"
     ]
    },
    {
     "data": {
      "application/vnd.jupyter.widget-view+json": {
       "model_id": "bf5b814e5e11440ea9bae7e0de2dd06f",
       "version_major": 2,
       "version_minor": 0
      },
      "text/plain": [
       "HBox(children=(IntProgress(value=0, description='Evaluation iteration', max=1, style=ProgressStyle(description…"
      ]
     },
     "metadata": {},
     "output_type": "display_data"
    },
    {
     "name": "stdout",
     "output_type": "stream",
     "text": [
      "\n"
     ]
    },
    {
     "data": {
      "application/vnd.jupyter.widget-view+json": {
       "model_id": "f0e6a3c2b1f742138eb444bee54c5541",
       "version_major": 2,
       "version_minor": 0
      },
      "text/plain": [
       "HBox(children=(IntProgress(value=0, description='Evaluation iteration', max=1, style=ProgressStyle(description…"
      ]
     },
     "metadata": {},
     "output_type": "display_data"
    },
    {
     "name": "stdout",
     "output_type": "stream",
     "text": [
      "\n",
      "They talk frankly about costs.\n",
      "[]\n",
      "They talk frank about costs.\n",
      "['Adverbs versus adjectives']\n"
     ]
    },
    {
     "data": {
      "application/vnd.jupyter.widget-view+json": {
       "model_id": "076ab2f7ae454b0dadbd5adab05c51cb",
       "version_major": 2,
       "version_minor": 0
      },
      "text/plain": [
       "HBox(children=(IntProgress(value=0, description='Evaluation iteration', max=1, style=ProgressStyle(description…"
      ]
     },
     "metadata": {},
     "output_type": "display_data"
    },
    {
     "name": "stdout",
     "output_type": "stream",
     "text": [
      "\n"
     ]
    },
    {
     "data": {
      "application/vnd.jupyter.widget-view+json": {
       "model_id": "f4f814fbac064507911d9f2d57ec9f3d",
       "version_major": 2,
       "version_minor": 0
      },
      "text/plain": [
       "HBox(children=(IntProgress(value=0, description='Evaluation iteration', max=1, style=ProgressStyle(description…"
      ]
     },
     "metadata": {},
     "output_type": "display_data"
    },
    {
     "name": "stdout",
     "output_type": "stream",
     "text": [
      "\n",
      "She was treated unfairly.\n",
      "[]\n",
      "She was treated unfair.\n",
      "['Adverbs versus adjectives']\n"
     ]
    },
    {
     "data": {
      "application/vnd.jupyter.widget-view+json": {
       "model_id": "517e73d7cdf742acb9eab80fa003b07c",
       "version_major": 2,
       "version_minor": 0
      },
      "text/plain": [
       "HBox(children=(IntProgress(value=0, description='Evaluation iteration', max=1, style=ProgressStyle(description…"
      ]
     },
     "metadata": {},
     "output_type": "display_data"
    },
    {
     "name": "stdout",
     "output_type": "stream",
     "text": [
      "\n"
     ]
    },
    {
     "data": {
      "application/vnd.jupyter.widget-view+json": {
       "model_id": "b4e241daf3e24c8f8db71de985b46d49",
       "version_major": 2,
       "version_minor": 0
      },
      "text/plain": [
       "HBox(children=(IntProgress(value=0, description='Evaluation iteration', max=1, style=ProgressStyle(description…"
      ]
     },
     "metadata": {},
     "output_type": "display_data"
    },
    {
     "name": "stdout",
     "output_type": "stream",
     "text": [
      "\n",
      "This aligns directly with the programmatic goal of students applying their coursework to novel problems.\n",
      "[]\n",
      "This aligns direct with the programmatic goal of students applying their coursework to novel problems.\n",
      "['Subject-verb agreement', 'Adverbs versus adjectives']\n"
     ]
    },
    {
     "data": {
      "application/vnd.jupyter.widget-view+json": {
       "model_id": "2aae560353e94ce1bafe391ea65456c4",
       "version_major": 2,
       "version_minor": 0
      },
      "text/plain": [
       "HBox(children=(IntProgress(value=0, description='Evaluation iteration', max=1, style=ProgressStyle(description…"
      ]
     },
     "metadata": {},
     "output_type": "display_data"
    },
    {
     "name": "stdout",
     "output_type": "stream",
     "text": [
      "\n"
     ]
    },
    {
     "data": {
      "application/vnd.jupyter.widget-view+json": {
       "model_id": "3304754da8144b7bbe9fd423d0634256",
       "version_major": 2,
       "version_minor": 0
      },
      "text/plain": [
       "HBox(children=(IntProgress(value=0, description='Evaluation iteration', max=1, style=ProgressStyle(description…"
      ]
     },
     "metadata": {},
     "output_type": "display_data"
    },
    {
     "name": "stdout",
     "output_type": "stream",
     "text": [
      "\n",
      "In particular, such stock could be used inappropriately to avoid Section 7874.\n",
      "[]\n",
      "In particular, such stock could be used inappropriate to avoid Section 7874.\n",
      "['Adverbs versus adjectives']\n"
     ]
    },
    {
     "data": {
      "application/vnd.jupyter.widget-view+json": {
       "model_id": "eeb9eaef1db848ef9c079506b13a971e",
       "version_major": 2,
       "version_minor": 0
      },
      "text/plain": [
       "HBox(children=(IntProgress(value=0, description='Evaluation iteration', max=1, style=ProgressStyle(description…"
      ]
     },
     "metadata": {},
     "output_type": "display_data"
    },
    {
     "name": "stdout",
     "output_type": "stream",
     "text": [
      "\n"
     ]
    },
    {
     "data": {
      "application/vnd.jupyter.widget-view+json": {
       "model_id": "34f423eafd31424798774e3561bc14cb",
       "version_major": 2,
       "version_minor": 0
      },
      "text/plain": [
       "HBox(children=(IntProgress(value=0, description='Evaluation iteration', max=1, style=ProgressStyle(description…"
      ]
     },
     "metadata": {},
     "output_type": "display_data"
    },
    {
     "name": "stdout",
     "output_type": "stream",
     "text": [
      "\n",
      "We have been covering this case intensively for the last four weeks.\n",
      "[]\n",
      "We have been covering this case intensive for the last four weeks.\n",
      "['Adverbs versus adjectives']\n"
     ]
    },
    {
     "data": {
      "application/vnd.jupyter.widget-view+json": {
       "model_id": "bad3d891664643518f7d4a1b696fa2a4",
       "version_major": 2,
       "version_minor": 0
      },
      "text/plain": [
       "HBox(children=(IntProgress(value=0, description='Evaluation iteration', max=1, style=ProgressStyle(description…"
      ]
     },
     "metadata": {},
     "output_type": "display_data"
    },
    {
     "name": "stdout",
     "output_type": "stream",
     "text": [
      "\n"
     ]
    },
    {
     "data": {
      "application/vnd.jupyter.widget-view+json": {
       "model_id": "fc97bb1dfad746dc9e98ef97fc303bac",
       "version_major": 2,
       "version_minor": 0
      },
      "text/plain": [
       "HBox(children=(IntProgress(value=0, description='Evaluation iteration', max=1, style=ProgressStyle(description…"
      ]
     },
     "metadata": {},
     "output_type": "display_data"
    },
    {
     "name": "stdout",
     "output_type": "stream",
     "text": [
      "\n",
      "She swallowed visibly.\n",
      "[]\n",
      "She swallowed visible.\n",
      "[]\n"
     ]
    },
    {
     "data": {
      "application/vnd.jupyter.widget-view+json": {
       "model_id": "3f3c254aea0e45f5b7845c1294129ab9",
       "version_major": 2,
       "version_minor": 0
      },
      "text/plain": [
       "HBox(children=(IntProgress(value=0, description='Evaluation iteration', max=1, style=ProgressStyle(description…"
      ]
     },
     "metadata": {},
     "output_type": "display_data"
    },
    {
     "name": "stdout",
     "output_type": "stream",
     "text": [
      "\n"
     ]
    },
    {
     "data": {
      "application/vnd.jupyter.widget-view+json": {
       "model_id": "b4b1aaa8114d471faa65a14a7663499b",
       "version_major": 2,
       "version_minor": 0
      },
      "text/plain": [
       "HBox(children=(IntProgress(value=0, description='Evaluation iteration', max=1, style=ProgressStyle(description…"
      ]
     },
     "metadata": {},
     "output_type": "display_data"
    },
    {
     "name": "stdout",
     "output_type": "stream",
     "text": [
      "\n",
      "The three shadows were sharp and easily detected, as were the disks of Io and Ganymede.\n",
      "[]\n",
      "The three shadows were sharp and easy detected, as were the disks of Io and Ganymede.\n",
      "['Adverbs versus adjectives']\n"
     ]
    },
    {
     "data": {
      "application/vnd.jupyter.widget-view+json": {
       "model_id": "e47340c786714f0da7df2a77c3027b9d",
       "version_major": 2,
       "version_minor": 0
      },
      "text/plain": [
       "HBox(children=(IntProgress(value=0, description='Evaluation iteration', max=1, style=ProgressStyle(description…"
      ]
     },
     "metadata": {},
     "output_type": "display_data"
    },
    {
     "name": "stdout",
     "output_type": "stream",
     "text": [
      "\n"
     ]
    },
    {
     "data": {
      "application/vnd.jupyter.widget-view+json": {
       "model_id": "937908488ad045f9bf158acca243ce14",
       "version_major": 2,
       "version_minor": 0
      },
      "text/plain": [
       "HBox(children=(IntProgress(value=0, description='Evaluation iteration', max=1, style=ProgressStyle(description…"
      ]
     },
     "metadata": {},
     "output_type": "display_data"
    },
    {
     "name": "stdout",
     "output_type": "stream",
     "text": [
      "\n",
      "He still performs regularly, although health problems keep him closer to home these days.\n",
      "[]\n",
      "He still performs regular, although health problems keep him closer to home these days.\n",
      "[]\n"
     ]
    },
    {
     "data": {
      "application/vnd.jupyter.widget-view+json": {
       "model_id": "1eda806788c843389f082ce684a8cce4",
       "version_major": 2,
       "version_minor": 0
      },
      "text/plain": [
       "HBox(children=(IntProgress(value=0, description='Evaluation iteration', max=1, style=ProgressStyle(description…"
      ]
     },
     "metadata": {},
     "output_type": "display_data"
    },
    {
     "name": "stdout",
     "output_type": "stream",
     "text": [
      "\n"
     ]
    },
    {
     "data": {
      "application/vnd.jupyter.widget-view+json": {
       "model_id": "ac5f032145f6474fa1ca384a9aca1408",
       "version_major": 2,
       "version_minor": 0
      },
      "text/plain": [
       "HBox(children=(IntProgress(value=0, description='Evaluation iteration', max=1, style=ProgressStyle(description…"
      ]
     },
     "metadata": {},
     "output_type": "display_data"
    },
    {
     "name": "stdout",
     "output_type": "stream",
     "text": [
      "\n",
      "Teachers, parents and, most importantly, kids are now more aware of the risks.\n",
      "[]\n",
      "Teachers, parents and, most important, kids are now more aware of the risks.\n",
      "[]\n"
     ]
    },
    {
     "data": {
      "application/vnd.jupyter.widget-view+json": {
       "model_id": "8acff68ac2b34bc89701a9773c5c372f",
       "version_major": 2,
       "version_minor": 0
      },
      "text/plain": [
       "HBox(children=(IntProgress(value=0, description='Evaluation iteration', max=1, style=ProgressStyle(description…"
      ]
     },
     "metadata": {},
     "output_type": "display_data"
    },
    {
     "name": "stdout",
     "output_type": "stream",
     "text": [
      "\n"
     ]
    },
    {
     "data": {
      "application/vnd.jupyter.widget-view+json": {
       "model_id": "a3a1471475174e3d971e2a5cf96f9ff3",
       "version_major": 2,
       "version_minor": 0
      },
      "text/plain": [
       "HBox(children=(IntProgress(value=0, description='Evaluation iteration', max=1, style=ProgressStyle(description…"
      ]
     },
     "metadata": {},
     "output_type": "display_data"
    },
    {
     "name": "stdout",
     "output_type": "stream",
     "text": [
      "\n",
      "Chloe shakes their hands away from her, strides off dramatically.\n",
      "[]\n",
      "Chloe shakes their hands away from her, strides off dramatic.\n",
      "[]\n"
     ]
    },
    {
     "data": {
      "application/vnd.jupyter.widget-view+json": {
       "model_id": "13f06307f00340a184b426259976e572",
       "version_major": 2,
       "version_minor": 0
      },
      "text/plain": [
       "HBox(children=(IntProgress(value=0, description='Evaluation iteration', max=1, style=ProgressStyle(description…"
      ]
     },
     "metadata": {},
     "output_type": "display_data"
    },
    {
     "name": "stdout",
     "output_type": "stream",
     "text": [
      "\n"
     ]
    },
    {
     "data": {
      "application/vnd.jupyter.widget-view+json": {
       "model_id": "c59158814da845618307bfbe60badf21",
       "version_major": 2,
       "version_minor": 0
      },
      "text/plain": [
       "HBox(children=(IntProgress(value=0, description='Evaluation iteration', max=1, style=ProgressStyle(description…"
      ]
     },
     "metadata": {},
     "output_type": "display_data"
    },
    {
     "name": "stdout",
     "output_type": "stream",
     "text": [
      "\n",
      "We found very quickly that the business was there but the technology didn't work.\n",
      "[]\n",
      "We found very quick that the business was there but the technology didn't work.\n",
      "['Adverbs versus adjectives']\n"
     ]
    },
    {
     "data": {
      "application/vnd.jupyter.widget-view+json": {
       "model_id": "d22dd16126ff474fad4f6a097dcd8496",
       "version_major": 2,
       "version_minor": 0
      },
      "text/plain": [
       "HBox(children=(IntProgress(value=0, description='Evaluation iteration', max=1, style=ProgressStyle(description…"
      ]
     },
     "metadata": {},
     "output_type": "display_data"
    },
    {
     "name": "stdout",
     "output_type": "stream",
     "text": [
      "\n"
     ]
    },
    {
     "data": {
      "application/vnd.jupyter.widget-view+json": {
       "model_id": "244400f468a84b83b48de132efe5f603",
       "version_major": 2,
       "version_minor": 0
      },
      "text/plain": [
       "HBox(children=(IntProgress(value=0, description='Evaluation iteration', max=1, style=ProgressStyle(description…"
      ]
     },
     "metadata": {},
     "output_type": "display_data"
    },
    {
     "name": "stdout",
     "output_type": "stream",
     "text": [
      "\n",
      "The parking lot was poorly lit.\n",
      "[]\n",
      "The parking lot was poor lit.\n",
      "['Adverbs versus adjectives']\n"
     ]
    },
    {
     "data": {
      "application/vnd.jupyter.widget-view+json": {
       "model_id": "76682d1131d848ea9158209900a0e634",
       "version_major": 2,
       "version_minor": 0
      },
      "text/plain": [
       "HBox(children=(IntProgress(value=0, description='Evaluation iteration', max=1, style=ProgressStyle(description…"
      ]
     },
     "metadata": {},
     "output_type": "display_data"
    },
    {
     "name": "stdout",
     "output_type": "stream",
     "text": [
      "\n"
     ]
    },
    {
     "data": {
      "application/vnd.jupyter.widget-view+json": {
       "model_id": "8e401bba7953403993e1ea343aac727e",
       "version_major": 2,
       "version_minor": 0
      },
      "text/plain": [
       "HBox(children=(IntProgress(value=0, description='Evaluation iteration', max=1, style=ProgressStyle(description…"
      ]
     },
     "metadata": {},
     "output_type": "display_data"
    },
    {
     "name": "stdout",
     "output_type": "stream",
     "text": [
      "\n",
      "Between North Point and Windham High Peak, it dips sharply into several notches where side trails lead to springs or distant trailheads.\n",
      "[]\n",
      "Between North Point and Windham High Peak, it dips sharp into several notches where side trails lead to springs or distant trailheads.\n",
      "[]\n"
     ]
    },
    {
     "data": {
      "application/vnd.jupyter.widget-view+json": {
       "model_id": "62355a3ff7ec41b995c5942d95315806",
       "version_major": 2,
       "version_minor": 0
      },
      "text/plain": [
       "HBox(children=(IntProgress(value=0, description='Evaluation iteration', max=1, style=ProgressStyle(description…"
      ]
     },
     "metadata": {},
     "output_type": "display_data"
    },
    {
     "name": "stdout",
     "output_type": "stream",
     "text": [
      "\n"
     ]
    },
    {
     "data": {
      "application/vnd.jupyter.widget-view+json": {
       "model_id": "8d5cdda7aebb431d861b7e1666b93e90",
       "version_major": 2,
       "version_minor": 0
      },
      "text/plain": [
       "HBox(children=(IntProgress(value=0, description='Evaluation iteration', max=1, style=ProgressStyle(description…"
      ]
     },
     "metadata": {},
     "output_type": "display_data"
    },
    {
     "name": "stdout",
     "output_type": "stream",
     "text": [
      "\n",
      "Over the long term it will perform differently enough to reduce your risks.\n",
      "[]\n",
      "Over the long term it will perform different enough to reduce your risks.\n",
      "[]\n"
     ]
    },
    {
     "data": {
      "application/vnd.jupyter.widget-view+json": {
       "model_id": "00fb266be17d4cf99efbf43d0d050b74",
       "version_major": 2,
       "version_minor": 0
      },
      "text/plain": [
       "HBox(children=(IntProgress(value=0, description='Evaluation iteration', max=1, style=ProgressStyle(description…"
      ]
     },
     "metadata": {},
     "output_type": "display_data"
    },
    {
     "name": "stdout",
     "output_type": "stream",
     "text": [
      "\n"
     ]
    },
    {
     "data": {
      "application/vnd.jupyter.widget-view+json": {
       "model_id": "00d65f19fee648a7b86e2973d943c98d",
       "version_major": 2,
       "version_minor": 0
      },
      "text/plain": [
       "HBox(children=(IntProgress(value=0, description='Evaluation iteration', max=1, style=ProgressStyle(description…"
      ]
     },
     "metadata": {},
     "output_type": "display_data"
    },
    {
     "name": "stdout",
     "output_type": "stream",
     "text": [
      "\n",
      "The two were able to concentrate on the things they had in common.\n",
      "[]\n",
      "The two were able to concentrate on the thing's they had in common.\n",
      "['Plural versus possessive nouns']\n"
     ]
    },
    {
     "data": {
      "application/vnd.jupyter.widget-view+json": {
       "model_id": "052d069cd9be459db29d192fa8c9254b",
       "version_major": 2,
       "version_minor": 0
      },
      "text/plain": [
       "HBox(children=(IntProgress(value=0, description='Evaluation iteration', max=1, style=ProgressStyle(description…"
      ]
     },
     "metadata": {},
     "output_type": "display_data"
    },
    {
     "name": "stdout",
     "output_type": "stream",
     "text": [
      "\n"
     ]
    },
    {
     "data": {
      "application/vnd.jupyter.widget-view+json": {
       "model_id": "79751b7c454e439bb72dc2ff46f3529d",
       "version_major": 2,
       "version_minor": 0
      },
      "text/plain": [
       "HBox(children=(IntProgress(value=0, description='Evaluation iteration', max=1, style=ProgressStyle(description…"
      ]
     },
     "metadata": {},
     "output_type": "display_data"
    },
    {
     "name": "stdout",
     "output_type": "stream",
     "text": [
      "\n",
      "Moreover, the focus has largely been on students enrolled in the initial years of formal schooling.\n",
      "[]\n",
      "Moreover, the focus has largely been on student's enrolled in the initial years of formal schooling.\n",
      "['Plural versus possessive nouns']\n"
     ]
    },
    {
     "data": {
      "application/vnd.jupyter.widget-view+json": {
       "model_id": "cbcd74993cb34473aa3a844d773f70a2",
       "version_major": 2,
       "version_minor": 0
      },
      "text/plain": [
       "HBox(children=(IntProgress(value=0, description='Evaluation iteration', max=1, style=ProgressStyle(description…"
      ]
     },
     "metadata": {},
     "output_type": "display_data"
    },
    {
     "name": "stdout",
     "output_type": "stream",
     "text": [
      "\n"
     ]
    },
    {
     "data": {
      "application/vnd.jupyter.widget-view+json": {
       "model_id": "b2ac59346e4d47cc9ed725f4269806e6",
       "version_major": 2,
       "version_minor": 0
      },
      "text/plain": [
       "HBox(children=(IntProgress(value=0, description='Evaluation iteration', max=1, style=ProgressStyle(description…"
      ]
     },
     "metadata": {},
     "output_type": "display_data"
    },
    {
     "name": "stdout",
     "output_type": "stream",
     "text": [
      "\n",
      "Consequently, parents often have a dim view of school transportation.\n",
      "[]\n",
      "Consequently, parent's often have a dim view of school transportation.\n",
      "['Plural versus possessive nouns']\n"
     ]
    },
    {
     "data": {
      "application/vnd.jupyter.widget-view+json": {
       "model_id": "e2841a85e2cc44d39408074c35c69ed1",
       "version_major": 2,
       "version_minor": 0
      },
      "text/plain": [
       "HBox(children=(IntProgress(value=0, description='Evaluation iteration', max=1, style=ProgressStyle(description…"
      ]
     },
     "metadata": {},
     "output_type": "display_data"
    },
    {
     "name": "stdout",
     "output_type": "stream",
     "text": [
      "\n"
     ]
    },
    {
     "data": {
      "application/vnd.jupyter.widget-view+json": {
       "model_id": "2439072b74a540b6ac52fc85ad4c5c5a",
       "version_major": 2,
       "version_minor": 0
      },
      "text/plain": [
       "HBox(children=(IntProgress(value=0, description='Evaluation iteration', max=1, style=ProgressStyle(description…"
      ]
     },
     "metadata": {},
     "output_type": "display_data"
    },
    {
     "name": "stdout",
     "output_type": "stream",
     "text": [
      "\n",
      "He is one amazing role model for kids.\n",
      "[]\n",
      "He is one amazing role model for kid's.\n",
      "['Plural versus possessive nouns']\n"
     ]
    },
    {
     "data": {
      "application/vnd.jupyter.widget-view+json": {
       "model_id": "0773ddf735ec4284942975da0d28c01d",
       "version_major": 2,
       "version_minor": 0
      },
      "text/plain": [
       "HBox(children=(IntProgress(value=0, description='Evaluation iteration', max=1, style=ProgressStyle(description…"
      ]
     },
     "metadata": {},
     "output_type": "display_data"
    },
    {
     "name": "stdout",
     "output_type": "stream",
     "text": [
      "\n"
     ]
    },
    {
     "data": {
      "application/vnd.jupyter.widget-view+json": {
       "model_id": "879fd1e21406407b8a46401da7447b88",
       "version_major": 2,
       "version_minor": 0
      },
      "text/plain": [
       "HBox(children=(IntProgress(value=0, description='Evaluation iteration', max=1, style=ProgressStyle(description…"
      ]
     },
     "metadata": {},
     "output_type": "display_data"
    },
    {
     "name": "stdout",
     "output_type": "stream",
     "text": [
      "\n",
      "Many journals are members of this organization and will display badges or statements from COPE on their websites.\n",
      "[]\n",
      "Many journals are member's of this organization and will display badges or statements from COPE on their websites.\n",
      "['Plural versus possessive nouns']\n"
     ]
    },
    {
     "data": {
      "application/vnd.jupyter.widget-view+json": {
       "model_id": "3e4981d7592145a8958dd1e1c17c6aaf",
       "version_major": 2,
       "version_minor": 0
      },
      "text/plain": [
       "HBox(children=(IntProgress(value=0, description='Evaluation iteration', max=1, style=ProgressStyle(description…"
      ]
     },
     "metadata": {},
     "output_type": "display_data"
    },
    {
     "name": "stdout",
     "output_type": "stream",
     "text": [
      "\n"
     ]
    },
    {
     "data": {
      "application/vnd.jupyter.widget-view+json": {
       "model_id": "f878fdf93ac544f5a5be7f8ea31d7bb1",
       "version_major": 2,
       "version_minor": 0
      },
      "text/plain": [
       "HBox(children=(IntProgress(value=0, description='Evaluation iteration', max=1, style=ProgressStyle(description…"
      ]
     },
     "metadata": {},
     "output_type": "display_data"
    },
    {
     "name": "stdout",
     "output_type": "stream",
     "text": [
      "\n",
      "To some extent, students' spelling of words may improve over time through exposure and experience with reading words in texts.\n",
      "[]\n",
      "To some extent, students' spelling of word's may improve over time through exposure and experience with reading words in texts.\n",
      "['Plural versus possessive nouns']\n"
     ]
    },
    {
     "data": {
      "application/vnd.jupyter.widget-view+json": {
       "model_id": "08ddf19e4e9046df82b1eff3704eadd9",
       "version_major": 2,
       "version_minor": 0
      },
      "text/plain": [
       "HBox(children=(IntProgress(value=0, description='Evaluation iteration', max=1, style=ProgressStyle(description…"
      ]
     },
     "metadata": {},
     "output_type": "display_data"
    },
    {
     "name": "stdout",
     "output_type": "stream",
     "text": [
      "\n"
     ]
    },
    {
     "data": {
      "application/vnd.jupyter.widget-view+json": {
       "model_id": "3b044fc884254adaad2741c0d8b781d1",
       "version_major": 2,
       "version_minor": 0
      },
      "text/plain": [
       "HBox(children=(IntProgress(value=0, description='Evaluation iteration', max=1, style=ProgressStyle(description…"
      ]
     },
     "metadata": {},
     "output_type": "display_data"
    },
    {
     "name": "stdout",
     "output_type": "stream",
     "text": [
      "\n",
      "The frequency of experienced problems during the last 30 days was recorded on a three-point scale.\n",
      "[]\n",
      "The frequency of experienced problem's during the last 30 days was recorded on a three-point scale.\n",
      "['Plural versus possessive nouns']\n"
     ]
    },
    {
     "data": {
      "application/vnd.jupyter.widget-view+json": {
       "model_id": "80fda72cd5ff48ccaef49a7261cdca70",
       "version_major": 2,
       "version_minor": 0
      },
      "text/plain": [
       "HBox(children=(IntProgress(value=0, description='Evaluation iteration', max=1, style=ProgressStyle(description…"
      ]
     },
     "metadata": {},
     "output_type": "display_data"
    },
    {
     "name": "stdout",
     "output_type": "stream",
     "text": [
      "\n"
     ]
    },
    {
     "data": {
      "application/vnd.jupyter.widget-view+json": {
       "model_id": "0fcc0d6abef54dc1bf421302a2aadc9b",
       "version_major": 2,
       "version_minor": 0
      },
      "text/plain": [
       "HBox(children=(IntProgress(value=0, description='Evaluation iteration', max=1, style=ProgressStyle(description…"
      ]
     },
     "metadata": {},
     "output_type": "display_data"
    },
    {
     "name": "stdout",
     "output_type": "stream",
     "text": [
      "\n",
      "Covering ears with hands usually refers to the nervousness of a person.\n",
      "[]\n",
      "Covering ear's with hands usually refers to the nervousness of a person.\n",
      "['Plural versus possessive nouns']\n"
     ]
    },
    {
     "data": {
      "application/vnd.jupyter.widget-view+json": {
       "model_id": "2f9a1723eb93451f814d0ba0fde3b6c4",
       "version_major": 2,
       "version_minor": 0
      },
      "text/plain": [
       "HBox(children=(IntProgress(value=0, description='Evaluation iteration', max=1, style=ProgressStyle(description…"
      ]
     },
     "metadata": {},
     "output_type": "display_data"
    },
    {
     "name": "stdout",
     "output_type": "stream",
     "text": [
      "\n"
     ]
    },
    {
     "data": {
      "application/vnd.jupyter.widget-view+json": {
       "model_id": "5bcc0b38b4d14984af6a3f32cb1cfd87",
       "version_major": 2,
       "version_minor": 0
      },
      "text/plain": [
       "HBox(children=(IntProgress(value=0, description='Evaluation iteration', max=1, style=ProgressStyle(description…"
      ]
     },
     "metadata": {},
     "output_type": "display_data"
    },
    {
     "name": "stdout",
     "output_type": "stream",
     "text": [
      "\n",
      "The groups of social media users are distinguished into local and non-local groups.\n",
      "[]\n",
      "The group's of social media users are distinguished into local and non-local groups.\n",
      "['Plural versus possessive nouns']\n"
     ]
    },
    {
     "data": {
      "application/vnd.jupyter.widget-view+json": {
       "model_id": "abb80aaeebbb40989d4c6ec4069a6c8a",
       "version_major": 2,
       "version_minor": 0
      },
      "text/plain": [
       "HBox(children=(IntProgress(value=0, description='Evaluation iteration', max=1, style=ProgressStyle(description…"
      ]
     },
     "metadata": {},
     "output_type": "display_data"
    },
    {
     "name": "stdout",
     "output_type": "stream",
     "text": [
      "\n"
     ]
    },
    {
     "data": {
      "application/vnd.jupyter.widget-view+json": {
       "model_id": "e988c02cb593428bbb003e1821f74415",
       "version_major": 2,
       "version_minor": 0
      },
      "text/plain": [
       "HBox(children=(IntProgress(value=0, description='Evaluation iteration', max=1, style=ProgressStyle(description…"
      ]
     },
     "metadata": {},
     "output_type": "display_data"
    },
    {
     "name": "stdout",
     "output_type": "stream",
     "text": [
      "\n",
      "Thus, the research questions formulated in the introduction of the article seems to be empirically justified.\n",
      "['Subject-verb agreement']\n",
      "Thus, the research question's formulated in the introduction of the article seems to be empirically justified.\n",
      "['Plural versus possessive nouns']\n"
     ]
    },
    {
     "data": {
      "application/vnd.jupyter.widget-view+json": {
       "model_id": "2fbe99de658444e3a9f84925ca39a5ba",
       "version_major": 2,
       "version_minor": 0
      },
      "text/plain": [
       "HBox(children=(IntProgress(value=0, description='Evaluation iteration', max=1, style=ProgressStyle(description…"
      ]
     },
     "metadata": {},
     "output_type": "display_data"
    },
    {
     "name": "stdout",
     "output_type": "stream",
     "text": [
      "\n"
     ]
    },
    {
     "data": {
      "application/vnd.jupyter.widget-view+json": {
       "model_id": "2a87a4b8fe924effba2bb6966fe664a6",
       "version_major": 2,
       "version_minor": 0
      },
      "text/plain": [
       "HBox(children=(IntProgress(value=0, description='Evaluation iteration', max=1, style=ProgressStyle(description…"
      ]
     },
     "metadata": {},
     "output_type": "display_data"
    },
    {
     "name": "stdout",
     "output_type": "stream",
     "text": [
      "\n",
      "The results are presented in Table 5.\n",
      "[]\n",
      "The result's are presented in Table 5.\n",
      "['Plural versus possessive nouns']\n"
     ]
    },
    {
     "data": {
      "application/vnd.jupyter.widget-view+json": {
       "model_id": "bf357d845f0f4d38813c89905269c758",
       "version_major": 2,
       "version_minor": 0
      },
      "text/plain": [
       "HBox(children=(IntProgress(value=0, description='Evaluation iteration', max=1, style=ProgressStyle(description…"
      ]
     },
     "metadata": {},
     "output_type": "display_data"
    },
    {
     "name": "stdout",
     "output_type": "stream",
     "text": [
      "\n"
     ]
    },
    {
     "data": {
      "application/vnd.jupyter.widget-view+json": {
       "model_id": "1f20a08591c644b8ba95efa73b5de870",
       "version_major": 2,
       "version_minor": 0
      },
      "text/plain": [
       "HBox(children=(IntProgress(value=0, description='Evaluation iteration', max=1, style=ProgressStyle(description…"
      ]
     },
     "metadata": {},
     "output_type": "display_data"
    },
    {
     "name": "stdout",
     "output_type": "stream",
     "text": [
      "\n",
      "Interviews with the teachers focused on their instructional approaches in spelling.\n",
      "[]\n",
      "Interviews with the teacher's focused on their instructional approaches in spelling.\n",
      "['Plural versus possessive nouns']\n"
     ]
    },
    {
     "data": {
      "application/vnd.jupyter.widget-view+json": {
       "model_id": "c198f8176b2848e1b0b8a69571986f74",
       "version_major": 2,
       "version_minor": 0
      },
      "text/plain": [
       "HBox(children=(IntProgress(value=0, description='Evaluation iteration', max=1, style=ProgressStyle(description…"
      ]
     },
     "metadata": {},
     "output_type": "display_data"
    },
    {
     "name": "stdout",
     "output_type": "stream",
     "text": [
      "\n"
     ]
    },
    {
     "data": {
      "application/vnd.jupyter.widget-view+json": {
       "model_id": "b6e42d7037f241b4abd66f8c98c1414d",
       "version_major": 2,
       "version_minor": 0
      },
      "text/plain": [
       "HBox(children=(IntProgress(value=0, description='Evaluation iteration', max=1, style=ProgressStyle(description…"
      ]
     },
     "metadata": {},
     "output_type": "display_data"
    },
    {
     "name": "stdout",
     "output_type": "stream",
     "text": [
      "\n",
      "Health sciences programs are often tightly scheduled and include intensive clinical components.\n",
      "[]\n",
      "Health sciences program's are often tightly scheduled and include intensive clinical components.\n",
      "['Plural versus possessive nouns']\n"
     ]
    },
    {
     "data": {
      "application/vnd.jupyter.widget-view+json": {
       "model_id": "150d105ae38e48f6bed86c7eeca1213d",
       "version_major": 2,
       "version_minor": 0
      },
      "text/plain": [
       "HBox(children=(IntProgress(value=0, description='Evaluation iteration', max=1, style=ProgressStyle(description…"
      ]
     },
     "metadata": {},
     "output_type": "display_data"
    },
    {
     "name": "stdout",
     "output_type": "stream",
     "text": [
      "\n"
     ]
    },
    {
     "data": {
      "application/vnd.jupyter.widget-view+json": {
       "model_id": "70cf5cdb1a76474ea47b6fee921f9ccf",
       "version_major": 2,
       "version_minor": 0
      },
      "text/plain": [
       "HBox(children=(IntProgress(value=0, description='Evaluation iteration', max=1, style=ProgressStyle(description…"
      ]
     },
     "metadata": {},
     "output_type": "display_data"
    },
    {
     "name": "stdout",
     "output_type": "stream",
     "text": [
      "\n",
      "Other juveniles will be directed through a program for community-based services as an alternative to incarceration.\n",
      "[]\n",
      "Other juveniles will be directed through a program for community-based service's as an alternative to incarceration.\n",
      "['Plural versus possessive nouns']\n"
     ]
    },
    {
     "data": {
      "application/vnd.jupyter.widget-view+json": {
       "model_id": "6db28096034246e7872a401158f4e664",
       "version_major": 2,
       "version_minor": 0
      },
      "text/plain": [
       "HBox(children=(IntProgress(value=0, description='Evaluation iteration', max=1, style=ProgressStyle(description…"
      ]
     },
     "metadata": {},
     "output_type": "display_data"
    },
    {
     "name": "stdout",
     "output_type": "stream",
     "text": [
      "\n"
     ]
    },
    {
     "data": {
      "application/vnd.jupyter.widget-view+json": {
       "model_id": "66da9d5b6da24c31aea657422b64e0d1",
       "version_major": 2,
       "version_minor": 0
      },
      "text/plain": [
       "HBox(children=(IntProgress(value=0, description='Evaluation iteration', max=1, style=ProgressStyle(description…"
      ]
     },
     "metadata": {},
     "output_type": "display_data"
    },
    {
     "name": "stdout",
     "output_type": "stream",
     "text": [
      "\n",
      "Americans are running more errands on their way to work.\n",
      "[]\n",
      "American's are running more errands on their way to work.\n",
      "['Plural versus possessive nouns']\n"
     ]
    },
    {
     "data": {
      "application/vnd.jupyter.widget-view+json": {
       "model_id": "4a6a97e2cb8740c483d9d3747557dc02",
       "version_major": 2,
       "version_minor": 0
      },
      "text/plain": [
       "HBox(children=(IntProgress(value=0, description='Evaluation iteration', max=1, style=ProgressStyle(description…"
      ]
     },
     "metadata": {},
     "output_type": "display_data"
    },
    {
     "name": "stdout",
     "output_type": "stream",
     "text": [
      "\n"
     ]
    },
    {
     "data": {
      "application/vnd.jupyter.widget-view+json": {
       "model_id": "6aab2d958f2e43018d780c5a94ab33ca",
       "version_major": 2,
       "version_minor": 0
      },
      "text/plain": [
       "HBox(children=(IntProgress(value=0, description='Evaluation iteration', max=1, style=ProgressStyle(description…"
      ]
     },
     "metadata": {},
     "output_type": "display_data"
    },
    {
     "name": "stdout",
     "output_type": "stream",
     "text": [
      "\n",
      "This fight became known as the civil rights movement.\n",
      "[]\n",
      "This fight became known as the civil right's movement.\n",
      "['Plural versus possessive nouns']\n"
     ]
    },
    {
     "data": {
      "application/vnd.jupyter.widget-view+json": {
       "model_id": "f09a70be64af4374a4c45604a6b82561",
       "version_major": 2,
       "version_minor": 0
      },
      "text/plain": [
       "HBox(children=(IntProgress(value=0, description='Evaluation iteration', max=1, style=ProgressStyle(description…"
      ]
     },
     "metadata": {},
     "output_type": "display_data"
    },
    {
     "name": "stdout",
     "output_type": "stream",
     "text": [
      "\n"
     ]
    },
    {
     "data": {
      "application/vnd.jupyter.widget-view+json": {
       "model_id": "19f194ca1f4b42f6960ee426767cb286",
       "version_major": 2,
       "version_minor": 0
      },
      "text/plain": [
       "HBox(children=(IntProgress(value=0, description='Evaluation iteration', max=1, style=ProgressStyle(description…"
      ]
     },
     "metadata": {},
     "output_type": "display_data"
    },
    {
     "name": "stdout",
     "output_type": "stream",
     "text": [
      "\n",
      "Some states have standards as well.\n",
      "[]\n",
      "Some state's have standards as well.\n",
      "['Plural versus possessive nouns']\n"
     ]
    },
    {
     "data": {
      "application/vnd.jupyter.widget-view+json": {
       "model_id": "ed178ba624de4e869a6d108002baa3b6",
       "version_major": 2,
       "version_minor": 0
      },
      "text/plain": [
       "HBox(children=(IntProgress(value=0, description='Evaluation iteration', max=1, style=ProgressStyle(description…"
      ]
     },
     "metadata": {},
     "output_type": "display_data"
    },
    {
     "name": "stdout",
     "output_type": "stream",
     "text": [
      "\n"
     ]
    },
    {
     "data": {
      "application/vnd.jupyter.widget-view+json": {
       "model_id": "f9872b92b2204fb987aac6372b875daf",
       "version_major": 2,
       "version_minor": 0
      },
      "text/plain": [
       "HBox(children=(IntProgress(value=0, description='Evaluation iteration', max=1, style=ProgressStyle(description…"
      ]
     },
     "metadata": {},
     "output_type": "display_data"
    },
    {
     "name": "stdout",
     "output_type": "stream",
     "text": [
      "\n",
      "Most American government textbooks contain citations of numerous cases.\n",
      "[]\n",
      "Most American government textbooks contain citations of numerous case's.\n",
      "['Plural versus possessive nouns']\n"
     ]
    },
    {
     "data": {
      "application/vnd.jupyter.widget-view+json": {
       "model_id": "d486b0c3245a4bff9020c82ca5169b04",
       "version_major": 2,
       "version_minor": 0
      },
      "text/plain": [
       "HBox(children=(IntProgress(value=0, description='Evaluation iteration', max=1, style=ProgressStyle(description…"
      ]
     },
     "metadata": {},
     "output_type": "display_data"
    },
    {
     "name": "stdout",
     "output_type": "stream",
     "text": [
      "\n"
     ]
    },
    {
     "data": {
      "application/vnd.jupyter.widget-view+json": {
       "model_id": "03109afe64c44abd960ef7cbe4ad5ede",
       "version_major": 2,
       "version_minor": 0
      },
      "text/plain": [
       "HBox(children=(IntProgress(value=0, description='Evaluation iteration', max=1, style=ProgressStyle(description…"
      ]
     },
     "metadata": {},
     "output_type": "display_data"
    },
    {
     "name": "stdout",
     "output_type": "stream",
     "text": [
      "\n",
      "We can't stop our lives from changing, but we can cherish past experiences.\n",
      "[]\n",
      "We can't stop our live's from changing, but we can cherish past experiences.\n",
      "['Plural versus possessive nouns']\n"
     ]
    },
    {
     "data": {
      "application/vnd.jupyter.widget-view+json": {
       "model_id": "ca1998d786844c9ea35c89d57021d19a",
       "version_major": 2,
       "version_minor": 0
      },
      "text/plain": [
       "HBox(children=(IntProgress(value=0, description='Evaluation iteration', max=1, style=ProgressStyle(description…"
      ]
     },
     "metadata": {},
     "output_type": "display_data"
    },
    {
     "name": "stdout",
     "output_type": "stream",
     "text": [
      "\n"
     ]
    },
    {
     "data": {
      "application/vnd.jupyter.widget-view+json": {
       "model_id": "1c9795abd8c643aca7021259b9d5e9a5",
       "version_major": 2,
       "version_minor": 0
      },
      "text/plain": [
       "HBox(children=(IntProgress(value=0, description='Evaluation iteration', max=1, style=ProgressStyle(description…"
      ]
     },
     "metadata": {},
     "output_type": "display_data"
    },
    {
     "name": "stdout",
     "output_type": "stream",
     "text": [
      "\n",
      "Nevertheless, the faint glow on two areas of the trunk mat prompted them to mark those spots for further testing.\n",
      "[]\n",
      "Nevertheless, the faint glow on two area's of the trunk mat prompted them to mark those spots for further testing.\n",
      "['Plural versus possessive nouns']\n"
     ]
    }
   ],
   "source": [
    "# Read error input\n",
    "\n",
    "error_map = {'POSSESSIVE': 'Plural versus possessive nouns', \n",
    "             'VERB': 'Subject-verb agreement', \n",
    "             'ADV': 'Adverbs versus adjectives', \n",
    "             'ITS': \"Its versus it's\", \n",
    "             'THEN': 'Than versus then'}\n",
    "\n",
    "data = []\n",
    "with open(\"../tests/data/grammar_valid.tsv\") as i:\n",
    "    for line in i:\n",
    "        line = line.strip().split(\"\\t\")\n",
    "        if len(line) == 3:\n",
    "            data.append(line)\n",
    "\n",
    "results = {}\n",
    "for (error_type, correct_sentence, incorrect_sentence) in data:\n",
    "    if error_type not in results:\n",
    "        results[error_type] = {\"cc\": 0, \"ci\": 0, \"ic\": 0, \"ii\": 0}\n",
    "\n",
    "    correct_features = convert_data_to_input_items([{\"text\": correct_sentence}], \n",
    "                                                    label2idx, MAX_SEQ_LENGTH, \n",
    "                                                    tokenizer, NLPTask.SEQUENCE_LABELING)\n",
    "\n",
    "    incorrect_features = convert_data_to_input_items([{\"text\": incorrect_sentence}],\n",
    "                                                       label2idx, MAX_SEQ_LENGTH, \n",
    "                                                       tokenizer, NLPTask.SEQUENCE_LABELING)\n",
    "\n",
    "    correct_dl = get_data_loader(correct_features, 1, shuffle=False)\n",
    "    incorrect_dl = get_data_loader(incorrect_features, 1, shuffle=False)\n",
    "    \n",
    "    _, _, _, correct_predicted = evaluate(model, correct_dl, device)\n",
    "    _, _, _, incorrect_predicted = evaluate(model, incorrect_dl, device)\n",
    "        \n",
    "    errors = [idx2label[i] for i in set(correct_predicted[0])]\n",
    "    errors = [error_map[e] for e in errors if e in error_map]\n",
    "    print(correct_sentence)\n",
    "    print(errors)\n",
    "\n",
    "    if len(errors) == 0:\n",
    "        results[error_type][\"cc\"] += 1\n",
    "    else:\n",
    "        results[error_type][\"ci\"] += 1\n",
    "\n",
    "    errors = [idx2label[i] for i in set(incorrect_predicted[0])]\n",
    "    errors = [error_map[e] for e in errors if e in error_map]\n",
    "    print(incorrect_sentence)\n",
    "    print(errors)\n",
    "\n",
    "    if len(errors) == 0:\n",
    "        results[error_type][\"ic\"] += 1\n",
    "    else:\n",
    "        results[error_type][\"ii\"] += 1"
   ]
  },
  {
   "cell_type": "code",
   "execution_count": 11,
   "metadata": {},
   "outputs": [
    {
     "data": {
      "text/plain": [
       "{'Than versus then': {'cc': 18, 'ci': 2, 'ic': 5, 'ii': 15},\n",
       " 'Subject-verb agreement': {'cc': 110, 'ci': 10, 'ic': 22, 'ii': 98},\n",
       " \"Its versus it's\": {'cc': 35, 'ci': 5, 'ic': 20, 'ii': 20},\n",
       " 'Adverbs versus adjectives': {'cc': 20, 'ci': 0, 'ic': 10, 'ii': 10},\n",
       " 'Plural versus possessive nouns': {'cc': 19, 'ci': 1, 'ic': 0, 'ii': 20}}"
      ]
     },
     "execution_count": 11,
     "metadata": {},
     "output_type": "execute_result"
    }
   ],
   "source": [
    "results"
   ]
  },
  {
   "cell_type": "code",
   "execution_count": 12,
   "metadata": {},
   "outputs": [
    {
     "name": "stdout",
     "output_type": "stream",
     "text": [
      "Than versus then 0.782608695652174 0.9 0.8372093023255814\n",
      "Subject-verb agreement 0.8333333333333334 0.9166666666666666 0.8730158730158729\n",
      "Its versus it's 0.6363636363636364 0.875 0.7368421052631579\n",
      "Adverbs versus adjectives 0.6666666666666666 1.0 0.8\n",
      "Plural versus possessive nouns 1.0 0.95 0.9743589743589743\n"
     ]
    }
   ],
   "source": [
    "for error_type in results:\n",
    "    correct = results[error_type][\"cc\"] + results[error_type][\"ii\"]\n",
    "    incorrect = results[error_type][\"ic\"] + results[error_type][\"ci\"]\n",
    "\n",
    "    precision = results[error_type][\"cc\"]/ (results[error_type][\"cc\"] + results[error_type][\"ic\"])\n",
    "    recall = results[error_type][\"cc\"] / (results[error_type][\"cc\"] + results[error_type][\"ci\"])\n",
    "    fscore = 2*precision*recall/(precision+recall)\n",
    "\n",
    "    print(error_type, precision, recall, fscore)"
   ]
  },
  {
   "cell_type": "code",
   "execution_count": null,
   "metadata": {},
   "outputs": [],
   "source": []
  }
 ],
 "metadata": {
  "kernelspec": {
   "display_name": "Python 3",
   "language": "python",
   "name": "python3"
  },
  "language_info": {
   "codemirror_mode": {
    "name": "ipython",
    "version": 3
   },
   "file_extension": ".py",
   "mimetype": "text/x-python",
   "name": "python",
   "nbconvert_exporter": "python",
   "pygments_lexer": "ipython3",
   "version": "3.7.3"
  }
 },
 "nbformat": 4,
 "nbformat_minor": 2
}
